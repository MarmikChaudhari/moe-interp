{
 "cells": [
  {
   "cell_type": "code",
   "execution_count": 35,
   "metadata": {},
   "outputs": [],
   "source": [
    "from transformers import AutoModelForCausalLM, AutoTokenizer\n",
    "import torch\n",
    "from sklearn.decomposition import PCA\n",
    "import plotly.express as px\n",
    "import plotly.graph_objects as go"
   ]
  },
  {
   "cell_type": "code",
   "execution_count": 2,
   "metadata": {},
   "outputs": [
    {
     "data": {
      "application/vnd.jupyter.widget-view+json": {
       "model_id": "166045a7dc184410a96ea88dec46cbd8",
       "version_major": 2,
       "version_minor": 0
      },
      "text/plain": [
       "Loading checkpoint shards:   0%|          | 0/3 [00:00<?, ?it/s]"
      ]
     },
     "metadata": {},
     "output_type": "display_data"
    }
   ],
   "source": [
    "def load_model(model_name):\n",
    "    model = AutoModelForCausalLM.from_pretrained(model_name)\n",
    "    tokenizer = AutoTokenizer.from_pretrained(model_name)\n",
    "    return model, tokenizer\n",
    "\n",
    "model, tokenizer = load_model(\"allenai/OLMoE-1B-7B-0924\")\n"
   ]
  },
  {
   "cell_type": "code",
   "execution_count": 7,
   "metadata": {},
   "outputs": [
    {
     "name": "stdout",
     "output_type": "stream",
     "text": [
      "Generated text :\n",
      "what is principal component analysis?\n",
      "\n",
      "Principal component analysis (PCA) is a statistical method for reducing the dimensionality of a data set. It is a technique for extracting the maximum variance from a data set. It is a statistical method for extracting the maximum variance from a data set.\n",
      "\n",
      "PCA is a statistical method for extracting the maximum\n",
      "\n",
      "Router logits per layer :\n",
      "Layer 0 router logits shape: torch.Size([6, 64])\n",
      "Layer 1 router logits shape: torch.Size([6, 64])\n",
      "Layer 2 router logits shape: torch.Size([6, 64])\n",
      "Layer 3 router logits shape: torch.Size([6, 64])\n",
      "Layer 4 router logits shape: torch.Size([6, 64])\n",
      "Layer 5 router logits shape: torch.Size([6, 64])\n",
      "Layer 6 router logits shape: torch.Size([6, 64])\n",
      "Layer 7 router logits shape: torch.Size([6, 64])\n",
      "Layer 8 router logits shape: torch.Size([6, 64])\n",
      "Layer 9 router logits shape: torch.Size([6, 64])\n",
      "Layer 10 router logits shape: torch.Size([6, 64])\n",
      "Layer 11 router logits shape: torch.Size([6, 64])\n",
      "Layer 12 router logits shape: torch.Size([6, 64])\n",
      "Layer 13 router logits shape: torch.Size([6, 64])\n",
      "Layer 14 router logits shape: torch.Size([6, 64])\n",
      "Layer 15 router logits shape: torch.Size([6, 64])\n"
     ]
    }
   ],
   "source": [
    "input_text = \"what is principal component analysis ?\"\n",
    "input_ids = tokenizer.encode(input_text, return_tensors=\"pt\")\n",
    "\n",
    "outputs = model(input_ids, output_router_logits=True)\n",
    "\n",
    "output = model.generate(input_ids, max_length=70)\n",
    "print(\"Generated text :\")\n",
    "for token in output[0]:\n",
    "    print(tokenizer.decode(token), end='', flush=True)\n",
    "print()\n",
    "\n",
    "# Print router logits for each layer  \n",
    "print(\"\\nRouter logits per layer :\")\n",
    "for i, router_logits in enumerate(outputs.router_logits):\n",
    "    print(f\"Layer {i} router logits shape: {router_logits.shape}\")"
   ]
  },
  {
   "cell_type": "code",
   "execution_count": 8,
   "metadata": {},
   "outputs": [
    {
     "name": "stdout",
     "output_type": "stream",
     "text": [
      "router probs shape: torch.Size([64]), sum: 1.00\n",
      "router probs : tensor([0.0239, 0.0114, 0.0153, 0.0202, 0.0063, 0.0099, 0.0711, 0.0168, 0.0112,\n",
      "        0.0055, 0.0166, 0.0292, 0.0047, 0.0084, 0.0108, 0.0123, 0.0129, 0.0112,\n",
      "        0.0069, 0.0292, 0.0070, 0.0098, 0.0132, 0.0260, 0.0880, 0.0104, 0.0108,\n",
      "        0.0134, 0.0033, 0.0114, 0.0136, 0.0096, 0.0124, 0.0067, 0.0129, 0.0086,\n",
      "        0.0090, 0.0127, 0.0108, 0.0139, 0.0192, 0.0054, 0.0077, 0.0133, 0.0169,\n",
      "        0.0120, 0.0047, 0.0182, 0.0115, 0.0167, 0.0111, 0.0214, 0.0127, 0.0193,\n",
      "        0.0231, 0.0084, 0.0200, 0.0176, 0.0031, 0.0126, 0.0320, 0.0190, 0.0153,\n",
      "        0.0215], grad_fn=<SoftmaxBackward0>)\n",
      "top 8 probs : tensor([0.0239, 0.0000, 0.0000, 0.0000, 0.0000, 0.0000, 0.0711, 0.0000, 0.0000,\n",
      "        0.0000, 0.0000, 0.0292, 0.0000, 0.0000, 0.0000, 0.0000, 0.0000, 0.0000,\n",
      "        0.0000, 0.0292, 0.0000, 0.0000, 0.0000, 0.0260, 0.0880, 0.0000, 0.0000,\n",
      "        0.0000, 0.0000, 0.0000, 0.0000, 0.0000, 0.0000, 0.0000, 0.0000, 0.0000,\n",
      "        0.0000, 0.0000, 0.0000, 0.0000, 0.0000, 0.0000, 0.0000, 0.0000, 0.0000,\n",
      "        0.0000, 0.0000, 0.0000, 0.0000, 0.0000, 0.0000, 0.0000, 0.0000, 0.0000,\n",
      "        0.0231, 0.0000, 0.0000, 0.0000, 0.0000, 0.0000, 0.0320, 0.0000, 0.0000,\n",
      "        0.0000], grad_fn=<IndexPutBackward0>)\n",
      "top 8 probs sum : 0.32\n"
     ]
    }
   ],
   "source": [
    "def get_router_logits(model, input_ids):\n",
    "    \"\"\"get router logits from model forward pass\"\"\"\n",
    "    outputs = model(input_ids, output_router_logits=True)\n",
    "    return outputs.router_logits\n",
    "\n",
    "def get_last_token_router_probs(router_logits, layer_idx):\n",
    "    \"\"\"Get router probabilities for the last token in a specified layer\"\"\"\n",
    "    layer_logits = router_logits[layer_idx]  # Shape: [sequence_length, num_experts]\n",
    "    last_token_logits = layer_logits[-1]  # get last token logits\n",
    "    routing_probs = torch.nn.functional.softmax(last_token_logits, dim=-1)\n",
    "    return routing_probs\n",
    "\n",
    "def topk(router_probs, k):\n",
    "    \"\"\"zero out all components except top k router probabilities\"\"\"\n",
    "    values, indices = torch.topk(router_probs, k)\n",
    "    zeroed_probs = torch.zeros_like(router_probs)\n",
    "    zeroed_probs[indices] = values\n",
    "    return zeroed_probs\n",
    "\n",
    "\n",
    "layer_idx = 0\n",
    "\n",
    "router_logits = get_router_logits(model, input_ids)\n",
    "probs = get_last_token_router_probs(outputs.router_logits, layer_idx)\n",
    "print(f\"router probs shape: {probs.shape}, sum: {probs.sum():.2f}\")\n",
    "print(f'router probs : {probs}')\n",
    "top_probs = topk(probs, k=8) \n",
    "print(f\"top 8 probs : {top_probs}\")\n",
    "print(f\"top 8 probs sum : {top_probs.sum():.2f}\")\n",
    "\n"
   ]
  },
  {
   "cell_type": "code",
   "execution_count": 9,
   "metadata": {},
   "outputs": [],
   "source": [
    "def get_router_probs_matrix(model, prompts, layer_idx=0, k=8):\n",
    "    \"\"\"get router probs matrix for last token for multiple inputs\"\"\"\n",
    "    num_prompts = len(prompts)\n",
    "    num_experts = 64 \n",
    "    prob_matrix = torch.zeros((num_prompts, num_experts))\n",
    "    \n",
    "    # Get router probs for each prompt\n",
    "    for i, prompt in enumerate(prompts):\n",
    "        input_ids = tokenizer.encode(prompt, return_tensors=\"pt\")\n",
    "        router_logits = get_router_logits(model, input_ids)\n",
    "        probs = get_last_token_router_probs(router_logits, layer_idx)\n",
    "        top_probs = topk(probs, k=k)\n",
    "        prob_matrix[i] = top_probs\n",
    "        \n",
    "    return prob_matrix"
   ]
  },
  {
   "cell_type": "code",
   "execution_count": 26,
   "metadata": {},
   "outputs": [
    {
     "name": "stdout",
     "output_type": "stream",
     "text": [
      "router probability matrix shape : torch.Size([22, 64])\n",
      "\n",
      "router probs matrix :\n",
      "tensor([[0.0078, 0.0077, 0.0108,  ..., 0.0143, 0.0193, 0.0073],\n",
      "        [0.0365, 0.0136, 0.0263,  ..., 0.0138, 0.0126, 0.0178],\n",
      "        [0.0164, 0.0087, 0.0129,  ..., 0.0063, 0.0130, 0.0056],\n",
      "        ...,\n",
      "        [0.0036, 0.0072, 0.0101,  ..., 0.0042, 0.0160, 0.0110],\n",
      "        [0.0020, 0.0631, 0.0061,  ..., 0.0071, 0.0062, 0.0186],\n",
      "        [0.0127, 0.0122, 0.0091,  ..., 0.0046, 0.0097, 0.0112]],\n",
      "       grad_fn=<SliceBackward0>)\n",
      "\n",
      "verify each row sums to 1 : tensor([1.0000, 1.0000, 1.0000, 1.0000, 1.0000, 1.0000, 1.0000, 1.0000, 1.0000,\n",
      "        1.0000, 1.0000, 1.0000, 1.0000, 1.0000, 1.0000, 1.0000, 1.0000, 1.0000,\n",
      "        1.0000, 1.0000, 1.0000, 1.0000], grad_fn=<SumBackward1>)\n"
     ]
    }
   ],
   "source": [
    "test_prompts = [\n",
    "    \"The quick brown fox\",\n",
    "    \"1+1=\",\n",
    "    \"the grey cat\",\n",
    "    \"the grey elephant\",\n",
    "    \"2*8\",\n",
    "    \"def hello_world() : \\n    print('hello world')\",\n",
    "    \"what is principal component analysis\",\n",
    "    'what is capital of india',\n",
    "    'sqrt 16',\n",
    "    'void bubbleSort(int arr[], int n) {',\n",
    "    'def is_prime(n):',\n",
    "    'if n <= 1:',\n",
    "    'return False',\n",
    "    'for i in range(2, int(n**0.5) + 1):',\n",
    "    'if n % i == 0:',\n",
    "    'return False',\n",
    "    'return True',\n",
    "    \"china\",\n",
    "    \"the united states of america\",\n",
    "    \"london\",\n",
    "    \"tokyo\",\n",
    "    'paris'\n",
    "]\n",
    "\n",
    "router_prob_matrix = get_router_probs_matrix(model, test_prompts,k=64)\n",
    "print(f\"router probability matrix shape : {router_prob_matrix.shape}\")\n",
    "print(\"\\nrouter probs matrix :\")\n",
    "print(router_prob_matrix[:])\n",
    "print(f\"\\nverify each row sums to 1 : {router_prob_matrix.sum(dim=1)}\")"
   ]
  },
  {
   "cell_type": "code",
   "execution_count": null,
   "metadata": {},
   "outputs": [],
   "source": [
    "def get_last_token(prompt):\n",
    "    \"\"\"get the last token of a prompt using the tokenizer\"\"\"\n",
    "    tokens = tokenizer.encode(prompt)\n",
    "    last_token = tokenizer.decode([tokens[-1]])\n",
    "    return last_token\n",
    "\n"
   ]
  },
  {
   "cell_type": "code",
   "execution_count": 34,
   "metadata": {},
   "outputs": [
    {
     "name": "stdout",
     "output_type": "stream",
     "text": [
      "\n",
      "PCA Results:\n",
      "Explained variance ratio: [0.2713409  0.18755594 0.12105728]\n",
      "Cumulative explained variance: 0.580\n",
      "\n",
      "PCA transformed data shape: (22, 3)\n",
      "First few transformed points:\n",
      "[[-0.06236592  0.0963617  -0.03788715]\n",
      " [-0.06566197 -0.04998831  0.00261806]\n",
      " [-0.05967391  0.11169526 -0.03712185]\n",
      " [-0.05831084  0.12667473 -0.04036308]\n",
      " [-0.04960285 -0.0310475   0.00121144]\n",
      " [-0.02540681 -0.00746514 -0.00165672]\n",
      " [-0.00849235 -0.00898064  0.0054354 ]\n",
      " [-0.04082667 -0.05800136 -0.00263951]\n",
      " [ 0.05595113  0.04762353 -0.01735783]\n",
      " [-0.04446524 -0.01787041  0.00956392]\n",
      " [-0.06131588 -0.05367101  0.00433186]\n",
      " [-0.05683717 -0.06704464 -0.00959211]\n",
      " [ 0.10764203 -0.02419738 -0.04624162]\n",
      " [-0.05611155 -0.04148081  0.00125383]\n",
      " [-0.03913319 -0.06342007 -0.00941174]\n",
      " [ 0.10764203 -0.02419738 -0.04624161]\n",
      " [ 0.13262796 -0.02510761 -0.05662976]\n",
      " [ 0.0889605   0.03747458  0.091026  ]\n",
      " [-0.01364151 -0.0114995   0.00064074]\n",
      " [ 0.00123032  0.03440759  0.14570974]\n",
      " [ 0.07475901  0.04048082  0.02719185]\n",
      " [ 0.07303292 -0.01074655  0.01616017]]\n"
     ]
    },
    {
     "data": {
      "application/vnd.plotly.v1+json": {
       "config": {
        "plotlyServerURL": "https://plot.ly"
       },
       "data": [
        {
         "marker": {
          "opacity": 0.8,
          "size": 10
         },
         "mode": "markers+text",
         "text": [
          " fox",
          "=",
          " cat",
          " elephant",
          "8",
          "')",
          " analysis",
          "ia",
          " 16",
          " {",
          "):",
          ":",
          " False",
          "):",
          ":",
          " False",
          " True",
          "ina",
          "ica",
          "ondon",
          "yo",
          "is"
         ],
         "textposition": "top center",
         "type": "scatter3d",
         "x": [
          -0.062365916,
          -0.065661974,
          -0.05967391,
          -0.05831084,
          -0.04960285,
          -0.025406808,
          -0.00849235,
          -0.04082667,
          0.055951126,
          -0.044465236,
          -0.061315876,
          -0.05683717,
          0.10764203,
          -0.056111548,
          -0.039133187,
          0.10764203,
          0.13262796,
          0.0889605,
          -0.013641508,
          0.0012303236,
          0.07475901,
          0.07303292
         ],
         "y": [
          0.0963617,
          -0.04998831,
          0.11169526,
          0.12667473,
          -0.031047503,
          -0.0074651437,
          -0.00898064,
          -0.05800136,
          0.047623534,
          -0.017870413,
          -0.053671014,
          -0.06704464,
          -0.024197383,
          -0.04148081,
          -0.06342007,
          -0.024197381,
          -0.025107607,
          0.037474584,
          -0.011499497,
          0.034407586,
          0.040480822,
          -0.010746545
         ],
         "z": [
          -0.037887152,
          0.0026180625,
          -0.037121847,
          -0.040363085,
          0.0012114446,
          -0.0016567198,
          0.0054354016,
          -0.0026395125,
          -0.017357828,
          0.009563917,
          0.0043318635,
          -0.009592106,
          -0.04624162,
          0.001253831,
          -0.009411741,
          -0.04624161,
          -0.056629762,
          0.091026,
          0.00064073544,
          0.14570974,
          0.02719185,
          0.016160171
         ]
        }
       ],
       "layout": {
        "height": 800,
        "scene": {
         "xaxis": {
          "gridcolor": "LightGray",
          "gridwidth": 1,
          "showgrid": true,
          "title": {
           "text": "First Principal Component"
          }
         },
         "yaxis": {
          "gridcolor": "LightGray",
          "gridwidth": 1,
          "showgrid": true,
          "title": {
           "text": "Second Principal Component"
          }
         },
         "zaxis": {
          "gridcolor": "LightGray",
          "gridwidth": 1,
          "showgrid": true,
          "title": {
           "text": "Third Principal Component"
          }
         }
        },
        "showlegend": false,
        "template": {
         "data": {
          "bar": [
           {
            "error_x": {
             "color": "#2a3f5f"
            },
            "error_y": {
             "color": "#2a3f5f"
            },
            "marker": {
             "line": {
              "color": "#E5ECF6",
              "width": 0.5
             },
             "pattern": {
              "fillmode": "overlay",
              "size": 10,
              "solidity": 0.2
             }
            },
            "type": "bar"
           }
          ],
          "barpolar": [
           {
            "marker": {
             "line": {
              "color": "#E5ECF6",
              "width": 0.5
             },
             "pattern": {
              "fillmode": "overlay",
              "size": 10,
              "solidity": 0.2
             }
            },
            "type": "barpolar"
           }
          ],
          "carpet": [
           {
            "aaxis": {
             "endlinecolor": "#2a3f5f",
             "gridcolor": "white",
             "linecolor": "white",
             "minorgridcolor": "white",
             "startlinecolor": "#2a3f5f"
            },
            "baxis": {
             "endlinecolor": "#2a3f5f",
             "gridcolor": "white",
             "linecolor": "white",
             "minorgridcolor": "white",
             "startlinecolor": "#2a3f5f"
            },
            "type": "carpet"
           }
          ],
          "choropleth": [
           {
            "colorbar": {
             "outlinewidth": 0,
             "ticks": ""
            },
            "type": "choropleth"
           }
          ],
          "contour": [
           {
            "colorbar": {
             "outlinewidth": 0,
             "ticks": ""
            },
            "colorscale": [
             [
              0,
              "#0d0887"
             ],
             [
              0.1111111111111111,
              "#46039f"
             ],
             [
              0.2222222222222222,
              "#7201a8"
             ],
             [
              0.3333333333333333,
              "#9c179e"
             ],
             [
              0.4444444444444444,
              "#bd3786"
             ],
             [
              0.5555555555555556,
              "#d8576b"
             ],
             [
              0.6666666666666666,
              "#ed7953"
             ],
             [
              0.7777777777777778,
              "#fb9f3a"
             ],
             [
              0.8888888888888888,
              "#fdca26"
             ],
             [
              1,
              "#f0f921"
             ]
            ],
            "type": "contour"
           }
          ],
          "contourcarpet": [
           {
            "colorbar": {
             "outlinewidth": 0,
             "ticks": ""
            },
            "type": "contourcarpet"
           }
          ],
          "heatmap": [
           {
            "colorbar": {
             "outlinewidth": 0,
             "ticks": ""
            },
            "colorscale": [
             [
              0,
              "#0d0887"
             ],
             [
              0.1111111111111111,
              "#46039f"
             ],
             [
              0.2222222222222222,
              "#7201a8"
             ],
             [
              0.3333333333333333,
              "#9c179e"
             ],
             [
              0.4444444444444444,
              "#bd3786"
             ],
             [
              0.5555555555555556,
              "#d8576b"
             ],
             [
              0.6666666666666666,
              "#ed7953"
             ],
             [
              0.7777777777777778,
              "#fb9f3a"
             ],
             [
              0.8888888888888888,
              "#fdca26"
             ],
             [
              1,
              "#f0f921"
             ]
            ],
            "type": "heatmap"
           }
          ],
          "heatmapgl": [
           {
            "colorbar": {
             "outlinewidth": 0,
             "ticks": ""
            },
            "colorscale": [
             [
              0,
              "#0d0887"
             ],
             [
              0.1111111111111111,
              "#46039f"
             ],
             [
              0.2222222222222222,
              "#7201a8"
             ],
             [
              0.3333333333333333,
              "#9c179e"
             ],
             [
              0.4444444444444444,
              "#bd3786"
             ],
             [
              0.5555555555555556,
              "#d8576b"
             ],
             [
              0.6666666666666666,
              "#ed7953"
             ],
             [
              0.7777777777777778,
              "#fb9f3a"
             ],
             [
              0.8888888888888888,
              "#fdca26"
             ],
             [
              1,
              "#f0f921"
             ]
            ],
            "type": "heatmapgl"
           }
          ],
          "histogram": [
           {
            "marker": {
             "pattern": {
              "fillmode": "overlay",
              "size": 10,
              "solidity": 0.2
             }
            },
            "type": "histogram"
           }
          ],
          "histogram2d": [
           {
            "colorbar": {
             "outlinewidth": 0,
             "ticks": ""
            },
            "colorscale": [
             [
              0,
              "#0d0887"
             ],
             [
              0.1111111111111111,
              "#46039f"
             ],
             [
              0.2222222222222222,
              "#7201a8"
             ],
             [
              0.3333333333333333,
              "#9c179e"
             ],
             [
              0.4444444444444444,
              "#bd3786"
             ],
             [
              0.5555555555555556,
              "#d8576b"
             ],
             [
              0.6666666666666666,
              "#ed7953"
             ],
             [
              0.7777777777777778,
              "#fb9f3a"
             ],
             [
              0.8888888888888888,
              "#fdca26"
             ],
             [
              1,
              "#f0f921"
             ]
            ],
            "type": "histogram2d"
           }
          ],
          "histogram2dcontour": [
           {
            "colorbar": {
             "outlinewidth": 0,
             "ticks": ""
            },
            "colorscale": [
             [
              0,
              "#0d0887"
             ],
             [
              0.1111111111111111,
              "#46039f"
             ],
             [
              0.2222222222222222,
              "#7201a8"
             ],
             [
              0.3333333333333333,
              "#9c179e"
             ],
             [
              0.4444444444444444,
              "#bd3786"
             ],
             [
              0.5555555555555556,
              "#d8576b"
             ],
             [
              0.6666666666666666,
              "#ed7953"
             ],
             [
              0.7777777777777778,
              "#fb9f3a"
             ],
             [
              0.8888888888888888,
              "#fdca26"
             ],
             [
              1,
              "#f0f921"
             ]
            ],
            "type": "histogram2dcontour"
           }
          ],
          "mesh3d": [
           {
            "colorbar": {
             "outlinewidth": 0,
             "ticks": ""
            },
            "type": "mesh3d"
           }
          ],
          "parcoords": [
           {
            "line": {
             "colorbar": {
              "outlinewidth": 0,
              "ticks": ""
             }
            },
            "type": "parcoords"
           }
          ],
          "pie": [
           {
            "automargin": true,
            "type": "pie"
           }
          ],
          "scatter": [
           {
            "fillpattern": {
             "fillmode": "overlay",
             "size": 10,
             "solidity": 0.2
            },
            "type": "scatter"
           }
          ],
          "scatter3d": [
           {
            "line": {
             "colorbar": {
              "outlinewidth": 0,
              "ticks": ""
             }
            },
            "marker": {
             "colorbar": {
              "outlinewidth": 0,
              "ticks": ""
             }
            },
            "type": "scatter3d"
           }
          ],
          "scattercarpet": [
           {
            "marker": {
             "colorbar": {
              "outlinewidth": 0,
              "ticks": ""
             }
            },
            "type": "scattercarpet"
           }
          ],
          "scattergeo": [
           {
            "marker": {
             "colorbar": {
              "outlinewidth": 0,
              "ticks": ""
             }
            },
            "type": "scattergeo"
           }
          ],
          "scattergl": [
           {
            "marker": {
             "colorbar": {
              "outlinewidth": 0,
              "ticks": ""
             }
            },
            "type": "scattergl"
           }
          ],
          "scattermapbox": [
           {
            "marker": {
             "colorbar": {
              "outlinewidth": 0,
              "ticks": ""
             }
            },
            "type": "scattermapbox"
           }
          ],
          "scatterpolar": [
           {
            "marker": {
             "colorbar": {
              "outlinewidth": 0,
              "ticks": ""
             }
            },
            "type": "scatterpolar"
           }
          ],
          "scatterpolargl": [
           {
            "marker": {
             "colorbar": {
              "outlinewidth": 0,
              "ticks": ""
             }
            },
            "type": "scatterpolargl"
           }
          ],
          "scatterternary": [
           {
            "marker": {
             "colorbar": {
              "outlinewidth": 0,
              "ticks": ""
             }
            },
            "type": "scatterternary"
           }
          ],
          "surface": [
           {
            "colorbar": {
             "outlinewidth": 0,
             "ticks": ""
            },
            "colorscale": [
             [
              0,
              "#0d0887"
             ],
             [
              0.1111111111111111,
              "#46039f"
             ],
             [
              0.2222222222222222,
              "#7201a8"
             ],
             [
              0.3333333333333333,
              "#9c179e"
             ],
             [
              0.4444444444444444,
              "#bd3786"
             ],
             [
              0.5555555555555556,
              "#d8576b"
             ],
             [
              0.6666666666666666,
              "#ed7953"
             ],
             [
              0.7777777777777778,
              "#fb9f3a"
             ],
             [
              0.8888888888888888,
              "#fdca26"
             ],
             [
              1,
              "#f0f921"
             ]
            ],
            "type": "surface"
           }
          ],
          "table": [
           {
            "cells": {
             "fill": {
              "color": "#EBF0F8"
             },
             "line": {
              "color": "white"
             }
            },
            "header": {
             "fill": {
              "color": "#C8D4E3"
             },
             "line": {
              "color": "white"
             }
            },
            "type": "table"
           }
          ]
         },
         "layout": {
          "annotationdefaults": {
           "arrowcolor": "#2a3f5f",
           "arrowhead": 0,
           "arrowwidth": 1
          },
          "autotypenumbers": "strict",
          "coloraxis": {
           "colorbar": {
            "outlinewidth": 0,
            "ticks": ""
           }
          },
          "colorscale": {
           "diverging": [
            [
             0,
             "#8e0152"
            ],
            [
             0.1,
             "#c51b7d"
            ],
            [
             0.2,
             "#de77ae"
            ],
            [
             0.3,
             "#f1b6da"
            ],
            [
             0.4,
             "#fde0ef"
            ],
            [
             0.5,
             "#f7f7f7"
            ],
            [
             0.6,
             "#e6f5d0"
            ],
            [
             0.7,
             "#b8e186"
            ],
            [
             0.8,
             "#7fbc41"
            ],
            [
             0.9,
             "#4d9221"
            ],
            [
             1,
             "#276419"
            ]
           ],
           "sequential": [
            [
             0,
             "#0d0887"
            ],
            [
             0.1111111111111111,
             "#46039f"
            ],
            [
             0.2222222222222222,
             "#7201a8"
            ],
            [
             0.3333333333333333,
             "#9c179e"
            ],
            [
             0.4444444444444444,
             "#bd3786"
            ],
            [
             0.5555555555555556,
             "#d8576b"
            ],
            [
             0.6666666666666666,
             "#ed7953"
            ],
            [
             0.7777777777777778,
             "#fb9f3a"
            ],
            [
             0.8888888888888888,
             "#fdca26"
            ],
            [
             1,
             "#f0f921"
            ]
           ],
           "sequentialminus": [
            [
             0,
             "#0d0887"
            ],
            [
             0.1111111111111111,
             "#46039f"
            ],
            [
             0.2222222222222222,
             "#7201a8"
            ],
            [
             0.3333333333333333,
             "#9c179e"
            ],
            [
             0.4444444444444444,
             "#bd3786"
            ],
            [
             0.5555555555555556,
             "#d8576b"
            ],
            [
             0.6666666666666666,
             "#ed7953"
            ],
            [
             0.7777777777777778,
             "#fb9f3a"
            ],
            [
             0.8888888888888888,
             "#fdca26"
            ],
            [
             1,
             "#f0f921"
            ]
           ]
          },
          "colorway": [
           "#636efa",
           "#EF553B",
           "#00cc96",
           "#ab63fa",
           "#FFA15A",
           "#19d3f3",
           "#FF6692",
           "#B6E880",
           "#FF97FF",
           "#FECB52"
          ],
          "font": {
           "color": "#2a3f5f"
          },
          "geo": {
           "bgcolor": "white",
           "lakecolor": "white",
           "landcolor": "#E5ECF6",
           "showlakes": true,
           "showland": true,
           "subunitcolor": "white"
          },
          "hoverlabel": {
           "align": "left"
          },
          "hovermode": "closest",
          "mapbox": {
           "style": "light"
          },
          "paper_bgcolor": "white",
          "plot_bgcolor": "#E5ECF6",
          "polar": {
           "angularaxis": {
            "gridcolor": "white",
            "linecolor": "white",
            "ticks": ""
           },
           "bgcolor": "#E5ECF6",
           "radialaxis": {
            "gridcolor": "white",
            "linecolor": "white",
            "ticks": ""
           }
          },
          "scene": {
           "xaxis": {
            "backgroundcolor": "#E5ECF6",
            "gridcolor": "white",
            "gridwidth": 2,
            "linecolor": "white",
            "showbackground": true,
            "ticks": "",
            "zerolinecolor": "white"
           },
           "yaxis": {
            "backgroundcolor": "#E5ECF6",
            "gridcolor": "white",
            "gridwidth": 2,
            "linecolor": "white",
            "showbackground": true,
            "ticks": "",
            "zerolinecolor": "white"
           },
           "zaxis": {
            "backgroundcolor": "#E5ECF6",
            "gridcolor": "white",
            "gridwidth": 2,
            "linecolor": "white",
            "showbackground": true,
            "ticks": "",
            "zerolinecolor": "white"
           }
          },
          "shapedefaults": {
           "line": {
            "color": "#2a3f5f"
           }
          },
          "ternary": {
           "aaxis": {
            "gridcolor": "white",
            "linecolor": "white",
            "ticks": ""
           },
           "baxis": {
            "gridcolor": "white",
            "linecolor": "white",
            "ticks": ""
           },
           "bgcolor": "#E5ECF6",
           "caxis": {
            "gridcolor": "white",
            "linecolor": "white",
            "ticks": ""
           }
          },
          "title": {
           "x": 0.05
          },
          "xaxis": {
           "automargin": true,
           "gridcolor": "white",
           "linecolor": "white",
           "ticks": "",
           "title": {
            "standoff": 15
           },
           "zerolinecolor": "white",
           "zerolinewidth": 2
          },
          "yaxis": {
           "automargin": true,
           "gridcolor": "white",
           "linecolor": "white",
           "ticks": "",
           "title": {
            "standoff": 15
           },
           "zerolinecolor": "white",
           "zerolinewidth": 2
          }
         }
        },
        "title": {
         "text": "3D PCA of Router Probabilities"
        },
        "width": 1000
       }
      },
      "text/html": [
       "<div>                            <div id=\"f8d1f7b6-9147-42dd-ad2f-ebf1d5869d3c\" class=\"plotly-graph-div\" style=\"height:800px; width:1000px;\"></div>            <script type=\"text/javascript\">                require([\"plotly\"], function(Plotly) {                    window.PLOTLYENV=window.PLOTLYENV || {};                                    if (document.getElementById(\"f8d1f7b6-9147-42dd-ad2f-ebf1d5869d3c\")) {                    Plotly.newPlot(                        \"f8d1f7b6-9147-42dd-ad2f-ebf1d5869d3c\",                        [{\"marker\":{\"opacity\":0.8,\"size\":10},\"mode\":\"markers+text\",\"text\":[\" fox\",\"=\",\" cat\",\" elephant\",\"8\",\"')\",\" analysis\",\"ia\",\" 16\",\" {\",\"):\",\":\",\" False\",\"):\",\":\",\" False\",\" True\",\"ina\",\"ica\",\"ondon\",\"yo\",\"is\"],\"textposition\":\"top center\",\"x\":[-0.062365916,-0.065661974,-0.05967391,-0.05831084,-0.04960285,-0.025406808,-0.00849235,-0.04082667,0.055951126,-0.044465236,-0.061315876,-0.05683717,0.10764203,-0.056111548,-0.039133187,0.10764203,0.13262796,0.0889605,-0.013641508,0.0012303236,0.07475901,0.07303292],\"y\":[0.0963617,-0.04998831,0.11169526,0.12667473,-0.031047503,-0.0074651437,-0.00898064,-0.05800136,0.047623534,-0.017870413,-0.053671014,-0.06704464,-0.024197383,-0.04148081,-0.06342007,-0.024197381,-0.025107607,0.037474584,-0.011499497,0.034407586,0.040480822,-0.010746545],\"z\":[-0.037887152,0.0026180625,-0.037121847,-0.040363085,0.0012114446,-0.0016567198,0.0054354016,-0.0026395125,-0.017357828,0.009563917,0.0043318635,-0.009592106,-0.04624162,0.001253831,-0.009411741,-0.04624161,-0.056629762,0.091026,0.00064073544,0.14570974,0.02719185,0.016160171],\"type\":\"scatter3d\"}],                        {\"template\":{\"data\":{\"histogram2dcontour\":[{\"type\":\"histogram2dcontour\",\"colorbar\":{\"outlinewidth\":0,\"ticks\":\"\"},\"colorscale\":[[0.0,\"#0d0887\"],[0.1111111111111111,\"#46039f\"],[0.2222222222222222,\"#7201a8\"],[0.3333333333333333,\"#9c179e\"],[0.4444444444444444,\"#bd3786\"],[0.5555555555555556,\"#d8576b\"],[0.6666666666666666,\"#ed7953\"],[0.7777777777777778,\"#fb9f3a\"],[0.8888888888888888,\"#fdca26\"],[1.0,\"#f0f921\"]]}],\"choropleth\":[{\"type\":\"choropleth\",\"colorbar\":{\"outlinewidth\":0,\"ticks\":\"\"}}],\"histogram2d\":[{\"type\":\"histogram2d\",\"colorbar\":{\"outlinewidth\":0,\"ticks\":\"\"},\"colorscale\":[[0.0,\"#0d0887\"],[0.1111111111111111,\"#46039f\"],[0.2222222222222222,\"#7201a8\"],[0.3333333333333333,\"#9c179e\"],[0.4444444444444444,\"#bd3786\"],[0.5555555555555556,\"#d8576b\"],[0.6666666666666666,\"#ed7953\"],[0.7777777777777778,\"#fb9f3a\"],[0.8888888888888888,\"#fdca26\"],[1.0,\"#f0f921\"]]}],\"heatmap\":[{\"type\":\"heatmap\",\"colorbar\":{\"outlinewidth\":0,\"ticks\":\"\"},\"colorscale\":[[0.0,\"#0d0887\"],[0.1111111111111111,\"#46039f\"],[0.2222222222222222,\"#7201a8\"],[0.3333333333333333,\"#9c179e\"],[0.4444444444444444,\"#bd3786\"],[0.5555555555555556,\"#d8576b\"],[0.6666666666666666,\"#ed7953\"],[0.7777777777777778,\"#fb9f3a\"],[0.8888888888888888,\"#fdca26\"],[1.0,\"#f0f921\"]]}],\"heatmapgl\":[{\"type\":\"heatmapgl\",\"colorbar\":{\"outlinewidth\":0,\"ticks\":\"\"},\"colorscale\":[[0.0,\"#0d0887\"],[0.1111111111111111,\"#46039f\"],[0.2222222222222222,\"#7201a8\"],[0.3333333333333333,\"#9c179e\"],[0.4444444444444444,\"#bd3786\"],[0.5555555555555556,\"#d8576b\"],[0.6666666666666666,\"#ed7953\"],[0.7777777777777778,\"#fb9f3a\"],[0.8888888888888888,\"#fdca26\"],[1.0,\"#f0f921\"]]}],\"contourcarpet\":[{\"type\":\"contourcarpet\",\"colorbar\":{\"outlinewidth\":0,\"ticks\":\"\"}}],\"contour\":[{\"type\":\"contour\",\"colorbar\":{\"outlinewidth\":0,\"ticks\":\"\"},\"colorscale\":[[0.0,\"#0d0887\"],[0.1111111111111111,\"#46039f\"],[0.2222222222222222,\"#7201a8\"],[0.3333333333333333,\"#9c179e\"],[0.4444444444444444,\"#bd3786\"],[0.5555555555555556,\"#d8576b\"],[0.6666666666666666,\"#ed7953\"],[0.7777777777777778,\"#fb9f3a\"],[0.8888888888888888,\"#fdca26\"],[1.0,\"#f0f921\"]]}],\"surface\":[{\"type\":\"surface\",\"colorbar\":{\"outlinewidth\":0,\"ticks\":\"\"},\"colorscale\":[[0.0,\"#0d0887\"],[0.1111111111111111,\"#46039f\"],[0.2222222222222222,\"#7201a8\"],[0.3333333333333333,\"#9c179e\"],[0.4444444444444444,\"#bd3786\"],[0.5555555555555556,\"#d8576b\"],[0.6666666666666666,\"#ed7953\"],[0.7777777777777778,\"#fb9f3a\"],[0.8888888888888888,\"#fdca26\"],[1.0,\"#f0f921\"]]}],\"mesh3d\":[{\"type\":\"mesh3d\",\"colorbar\":{\"outlinewidth\":0,\"ticks\":\"\"}}],\"scatter\":[{\"fillpattern\":{\"fillmode\":\"overlay\",\"size\":10,\"solidity\":0.2},\"type\":\"scatter\"}],\"parcoords\":[{\"type\":\"parcoords\",\"line\":{\"colorbar\":{\"outlinewidth\":0,\"ticks\":\"\"}}}],\"scatterpolargl\":[{\"type\":\"scatterpolargl\",\"marker\":{\"colorbar\":{\"outlinewidth\":0,\"ticks\":\"\"}}}],\"bar\":[{\"error_x\":{\"color\":\"#2a3f5f\"},\"error_y\":{\"color\":\"#2a3f5f\"},\"marker\":{\"line\":{\"color\":\"#E5ECF6\",\"width\":0.5},\"pattern\":{\"fillmode\":\"overlay\",\"size\":10,\"solidity\":0.2}},\"type\":\"bar\"}],\"scattergeo\":[{\"type\":\"scattergeo\",\"marker\":{\"colorbar\":{\"outlinewidth\":0,\"ticks\":\"\"}}}],\"scatterpolar\":[{\"type\":\"scatterpolar\",\"marker\":{\"colorbar\":{\"outlinewidth\":0,\"ticks\":\"\"}}}],\"histogram\":[{\"marker\":{\"pattern\":{\"fillmode\":\"overlay\",\"size\":10,\"solidity\":0.2}},\"type\":\"histogram\"}],\"scattergl\":[{\"type\":\"scattergl\",\"marker\":{\"colorbar\":{\"outlinewidth\":0,\"ticks\":\"\"}}}],\"scatter3d\":[{\"type\":\"scatter3d\",\"line\":{\"colorbar\":{\"outlinewidth\":0,\"ticks\":\"\"}},\"marker\":{\"colorbar\":{\"outlinewidth\":0,\"ticks\":\"\"}}}],\"scattermapbox\":[{\"type\":\"scattermapbox\",\"marker\":{\"colorbar\":{\"outlinewidth\":0,\"ticks\":\"\"}}}],\"scatterternary\":[{\"type\":\"scatterternary\",\"marker\":{\"colorbar\":{\"outlinewidth\":0,\"ticks\":\"\"}}}],\"scattercarpet\":[{\"type\":\"scattercarpet\",\"marker\":{\"colorbar\":{\"outlinewidth\":0,\"ticks\":\"\"}}}],\"carpet\":[{\"aaxis\":{\"endlinecolor\":\"#2a3f5f\",\"gridcolor\":\"white\",\"linecolor\":\"white\",\"minorgridcolor\":\"white\",\"startlinecolor\":\"#2a3f5f\"},\"baxis\":{\"endlinecolor\":\"#2a3f5f\",\"gridcolor\":\"white\",\"linecolor\":\"white\",\"minorgridcolor\":\"white\",\"startlinecolor\":\"#2a3f5f\"},\"type\":\"carpet\"}],\"table\":[{\"cells\":{\"fill\":{\"color\":\"#EBF0F8\"},\"line\":{\"color\":\"white\"}},\"header\":{\"fill\":{\"color\":\"#C8D4E3\"},\"line\":{\"color\":\"white\"}},\"type\":\"table\"}],\"barpolar\":[{\"marker\":{\"line\":{\"color\":\"#E5ECF6\",\"width\":0.5},\"pattern\":{\"fillmode\":\"overlay\",\"size\":10,\"solidity\":0.2}},\"type\":\"barpolar\"}],\"pie\":[{\"automargin\":true,\"type\":\"pie\"}]},\"layout\":{\"autotypenumbers\":\"strict\",\"colorway\":[\"#636efa\",\"#EF553B\",\"#00cc96\",\"#ab63fa\",\"#FFA15A\",\"#19d3f3\",\"#FF6692\",\"#B6E880\",\"#FF97FF\",\"#FECB52\"],\"font\":{\"color\":\"#2a3f5f\"},\"hovermode\":\"closest\",\"hoverlabel\":{\"align\":\"left\"},\"paper_bgcolor\":\"white\",\"plot_bgcolor\":\"#E5ECF6\",\"polar\":{\"bgcolor\":\"#E5ECF6\",\"angularaxis\":{\"gridcolor\":\"white\",\"linecolor\":\"white\",\"ticks\":\"\"},\"radialaxis\":{\"gridcolor\":\"white\",\"linecolor\":\"white\",\"ticks\":\"\"}},\"ternary\":{\"bgcolor\":\"#E5ECF6\",\"aaxis\":{\"gridcolor\":\"white\",\"linecolor\":\"white\",\"ticks\":\"\"},\"baxis\":{\"gridcolor\":\"white\",\"linecolor\":\"white\",\"ticks\":\"\"},\"caxis\":{\"gridcolor\":\"white\",\"linecolor\":\"white\",\"ticks\":\"\"}},\"coloraxis\":{\"colorbar\":{\"outlinewidth\":0,\"ticks\":\"\"}},\"colorscale\":{\"sequential\":[[0.0,\"#0d0887\"],[0.1111111111111111,\"#46039f\"],[0.2222222222222222,\"#7201a8\"],[0.3333333333333333,\"#9c179e\"],[0.4444444444444444,\"#bd3786\"],[0.5555555555555556,\"#d8576b\"],[0.6666666666666666,\"#ed7953\"],[0.7777777777777778,\"#fb9f3a\"],[0.8888888888888888,\"#fdca26\"],[1.0,\"#f0f921\"]],\"sequentialminus\":[[0.0,\"#0d0887\"],[0.1111111111111111,\"#46039f\"],[0.2222222222222222,\"#7201a8\"],[0.3333333333333333,\"#9c179e\"],[0.4444444444444444,\"#bd3786\"],[0.5555555555555556,\"#d8576b\"],[0.6666666666666666,\"#ed7953\"],[0.7777777777777778,\"#fb9f3a\"],[0.8888888888888888,\"#fdca26\"],[1.0,\"#f0f921\"]],\"diverging\":[[0,\"#8e0152\"],[0.1,\"#c51b7d\"],[0.2,\"#de77ae\"],[0.3,\"#f1b6da\"],[0.4,\"#fde0ef\"],[0.5,\"#f7f7f7\"],[0.6,\"#e6f5d0\"],[0.7,\"#b8e186\"],[0.8,\"#7fbc41\"],[0.9,\"#4d9221\"],[1,\"#276419\"]]},\"xaxis\":{\"gridcolor\":\"white\",\"linecolor\":\"white\",\"ticks\":\"\",\"title\":{\"standoff\":15},\"zerolinecolor\":\"white\",\"automargin\":true,\"zerolinewidth\":2},\"yaxis\":{\"gridcolor\":\"white\",\"linecolor\":\"white\",\"ticks\":\"\",\"title\":{\"standoff\":15},\"zerolinecolor\":\"white\",\"automargin\":true,\"zerolinewidth\":2},\"scene\":{\"xaxis\":{\"backgroundcolor\":\"#E5ECF6\",\"gridcolor\":\"white\",\"linecolor\":\"white\",\"showbackground\":true,\"ticks\":\"\",\"zerolinecolor\":\"white\",\"gridwidth\":2},\"yaxis\":{\"backgroundcolor\":\"#E5ECF6\",\"gridcolor\":\"white\",\"linecolor\":\"white\",\"showbackground\":true,\"ticks\":\"\",\"zerolinecolor\":\"white\",\"gridwidth\":2},\"zaxis\":{\"backgroundcolor\":\"#E5ECF6\",\"gridcolor\":\"white\",\"linecolor\":\"white\",\"showbackground\":true,\"ticks\":\"\",\"zerolinecolor\":\"white\",\"gridwidth\":2}},\"shapedefaults\":{\"line\":{\"color\":\"#2a3f5f\"}},\"annotationdefaults\":{\"arrowcolor\":\"#2a3f5f\",\"arrowhead\":0,\"arrowwidth\":1},\"geo\":{\"bgcolor\":\"white\",\"landcolor\":\"#E5ECF6\",\"subunitcolor\":\"white\",\"showland\":true,\"showlakes\":true,\"lakecolor\":\"white\"},\"title\":{\"x\":0.05},\"mapbox\":{\"style\":\"light\"}}},\"scene\":{\"xaxis\":{\"title\":{\"text\":\"First Principal Component\"},\"showgrid\":true,\"gridwidth\":1,\"gridcolor\":\"LightGray\"},\"yaxis\":{\"title\":{\"text\":\"Second Principal Component\"},\"showgrid\":true,\"gridwidth\":1,\"gridcolor\":\"LightGray\"},\"zaxis\":{\"title\":{\"text\":\"Third Principal Component\"},\"showgrid\":true,\"gridwidth\":1,\"gridcolor\":\"LightGray\"}},\"title\":{\"text\":\"3D PCA of Router Probabilities\"},\"width\":1000,\"height\":800,\"showlegend\":false},                        {\"responsive\": true}                    ).then(function(){\n",
       "                            \n",
       "var gd = document.getElementById('f8d1f7b6-9147-42dd-ad2f-ebf1d5869d3c');\n",
       "var x = new MutationObserver(function (mutations, observer) {{\n",
       "        var display = window.getComputedStyle(gd).display;\n",
       "        if (!display || display === 'none') {{\n",
       "            console.log([gd, 'removed!']);\n",
       "            Plotly.purge(gd);\n",
       "            observer.disconnect();\n",
       "        }}\n",
       "}});\n",
       "\n",
       "// Listen for the removal of the full notebook cells\n",
       "var notebookContainer = gd.closest('#notebook-container');\n",
       "if (notebookContainer) {{\n",
       "    x.observe(notebookContainer, {childList: true});\n",
       "}}\n",
       "\n",
       "// Listen for the clearing of the current output cell\n",
       "var outputEl = gd.closest('.output');\n",
       "if (outputEl) {{\n",
       "    x.observe(outputEl, {childList: true});\n",
       "}}\n",
       "\n",
       "                        })                };                });            </script>        </div>"
      ]
     },
     "metadata": {},
     "output_type": "display_data"
    }
   ],
   "source": [
    "def pca_visualize(router_prob_matrix, test_prompts):\n",
    "    \"\"\"perform PCA visualization on router probability matrix\"\"\"\n",
    "\n",
    "    pca = PCA(n_components=3)\n",
    "    router_prob_matrix_np = router_prob_matrix.detach().numpy()\n",
    "\n",
    "    # Fit and transform the data\n",
    "    pca_result = pca.fit_transform(router_prob_matrix_np)\n",
    "\n",
    "    print(\"\\nPCA results:\")\n",
    "    print(f\"explained variance ratio: {pca.explained_variance_ratio_}\")\n",
    "    print(f\"cumulative explained variance: {pca.explained_variance_ratio_.sum():.3f}\")\n",
    "\n",
    "    print(\"\\nPCA transformed data shape:\", pca_result.shape)\n",
    "    # print(\"first few transformed points:\")\n",
    "    # print(pca_result)\n",
    "\n",
    "    # Get last token of each prompt using tokenizer\n",
    "    last_tokens = [get_last_token(prompt) for prompt in test_prompts]\n",
    "\n",
    "    # Create 3D scatter plot\n",
    "    fig = go.Figure(data=[go.Scatter3d(\n",
    "        x=pca_result[:, 0],\n",
    "        y=pca_result[:, 1],\n",
    "        z=pca_result[:, 2],\n",
    "        mode='markers+text',\n",
    "        text=last_tokens,\n",
    "        textposition=\"top center\",\n",
    "        marker=dict(\n",
    "            size=10,\n",
    "            opacity=0.8\n",
    "        )\n",
    "    )])\n",
    "\n",
    "    # Update layout for 3D\n",
    "    fig.update_layout(\n",
    "        title='3D PCA of Router Probabilities',\n",
    "        scene=dict(\n",
    "            xaxis_title='first principal component',\n",
    "            yaxis_title='second principal component',\n",
    "            zaxis_title='third principal component',\n",
    "            xaxis=dict(showgrid=True, gridwidth=1, gridcolor='LightGray'),\n",
    "            yaxis=dict(showgrid=True, gridwidth=1, gridcolor='LightGray'),\n",
    "            zaxis=dict(showgrid=True, gridwidth=1, gridcolor='LightGray')\n",
    "        ),\n",
    "        width=1000,\n",
    "        height=800,\n",
    "        showlegend=False\n",
    "    )\n",
    "\n",
    "    fig.show()\n"
   ]
  },
  {
   "cell_type": "code",
   "execution_count": 29,
   "metadata": {},
   "outputs": [
    {
     "name": "stdout",
     "output_type": "stream",
     "text": [
      "Cosine similarity between tokens 2 and 3: 0.9859\n",
      "Cosine similarity between tokens 0 and 5: 0.6527\n",
      "Cosine similarity between tokens 10 and 15: 0.4542\n"
     ]
    }
   ],
   "source": [
    "def compute_cosine_similarity(router_prob_matrix, idx1, idx2):\n",
    "\n",
    "    # Get the probability vectors for the two tokens\n",
    "    vec1 = router_prob_matrix[idx1]\n",
    "    vec2 = router_prob_matrix[idx2]\n",
    "    \n",
    "    # Convert numpy arrays to torch tensors\n",
    "    vec1 = torch.from_numpy(vec1).float()\n",
    "    vec2 = torch.from_numpy(vec2).float()\n",
    "    \n",
    "    # Compute cosine similarity using torch.nn.functional\n",
    "    cos_sim = torch.nn.functional.cosine_similarity(vec1.unsqueeze(0), vec2.unsqueeze(0))\n",
    "    \n",
    "    return cos_sim.item()\n",
    "\n",
    "print(f\"Cosine similarity between tokens 2 and 3: {compute_cosine_similarity(router_prob_matrix_np, 2, 3):.4f}\")\n",
    "print(f\"Cosine similarity between tokens 0 and 5: {compute_cosine_similarity(router_prob_matrix_np, 0, 5):.4f}\")\n",
    "print(f\"Cosine similarity between tokens 10 and 15: {compute_cosine_similarity(router_prob_matrix_np, 10, 15):.4f}\")\n"
   ]
  },
  {
   "cell_type": "code",
   "execution_count": 33,
   "metadata": {},
   "outputs": [
    {
     "name": "stdout",
     "output_type": "stream",
     "text": [
      "Last token of prompt at index 0: ')\n",
      "Last token of prompt at index 2:  cat\n"
     ]
    }
   ],
   "source": [
    "test_prompts = [\n",
    "    \"The quick brown fox\",\n",
    "    \"1+1=\",\n",
    "    \"the grey cat\",\n",
    "    \"the grey elephant\",\n",
    "    \"2*8\",\n",
    "    \"def hello_world() : \\n    print('hello world')\",\n",
    "    \"what is principal component analysis\",\n",
    "    'what is capital of india',\n",
    "    'sqrt 16',\n",
    "    'void bubbleSort(int arr[], int n) {',\n",
    "    'def is_prime(n):',\n",
    "    'if n <= 1:',\n",
    "    'return False',\n",
    "    'for i in range(2, int(n**0.5) + 1):',\n",
    "    'if n % i == 0:',\n",
    "    'return False',\n",
    "    'return True',\n",
    "    \"china\",\n",
    "    \"the united states of america\",\n",
    "    \"london\",\n",
    "    \"tokyo\",\n",
    "    'paris'\n",
    "]\n",
    "\n",
    "def get_last_token(test_prompts, idx):\n",
    "    \"\"\" returns the last token from the prompt at the given index.\"\"\"\n",
    "    if idx < 0 or idx >= len(test_prompts):\n",
    "        raise IndexError(\"Index out of range\")\n",
    "        \n",
    "    prompt = test_prompts[idx]\n",
    "    tokens = tokenizer.encode(prompt)\n",
    "    \n",
    "    if len(tokens) == 0:\n",
    "        return \"\"\n",
    "        \n",
    "    last_token_id = tokens[-1]\n",
    "    return tokenizer.decode([last_token_id])\n",
    "\n",
    "print(f\"Last token of prompt at index 0: {get_last_token(test_prompts, 5)}\")  # Should print 'fox'\n",
    "print(f\"Last token of prompt at index 2: {get_last_token(test_prompts, 2)}\")  # Should print 'cat'\n",
    "\n"
   ]
  },
  {
   "cell_type": "code",
   "execution_count": null,
   "metadata": {},
   "outputs": [],
   "source": []
  }
 ],
 "metadata": {
  "kernelspec": {
   "display_name": ".venv",
   "language": "python",
   "name": "python3"
  },
  "language_info": {
   "codemirror_mode": {
    "name": "ipython",
    "version": 3
   },
   "file_extension": ".py",
   "mimetype": "text/x-python",
   "name": "python",
   "nbconvert_exporter": "python",
   "pygments_lexer": "ipython3",
   "version": "3.11.11"
  }
 },
 "nbformat": 4,
 "nbformat_minor": 2
}
