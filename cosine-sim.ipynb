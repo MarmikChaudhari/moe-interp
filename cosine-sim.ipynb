{
 "cells": [
  {
   "cell_type": "markdown",
   "metadata": {},
   "source": [
    "This notebook is to compute and visualize the cosine similarity between the hidden states of top k = 1 $(\\textbf{H}^{l_1}_t)$ and top k = 6 $(\\textbf{H}^{l_6}_t)$ routed experts and the last token hidden state of the model for the `deepseek-moe-16b-base` model.\n",
    "\n",
    "\n",
    "\n",
    "\n",
    "\n"
   ]
  },
  {
   "cell_type": "code",
   "execution_count": 1,
   "metadata": {},
   "outputs": [],
   "source": [
    "import torch\n",
    "from transformers import AutoTokenizer, AutoModelForCausalLM\n",
    "import torch\n",
    "import numpy as np\n",
    "import torch.nn.functional as F\n",
    "import os\n",
    "import csv\n",
    "from tqdm import tqdm\n",
    "import gc\n",
    "from collections import defaultdict\n",
    "import pandas as pd\n",
    "import plotly.graph_objects as go\n",
    "from glob import glob"
   ]
  },
  {
   "cell_type": "code",
   "execution_count": 2,
   "metadata": {},
   "outputs": [],
   "source": [
    "DEVICE = torch.device(\"cuda\" if torch.cuda.is_available() else \"cpu\")\n",
    "\n",
    "if DEVICE == \"cuda\":\n",
    "    torch.cuda.empty_cache()\n",
    "    torch.cuda.synchronize()\n",
    "    \n",
    "    # Print CUDA details\n",
    "    print(f\"CUDA Device: {torch.cuda.get_device_name()}\")\n",
    "    print(f\"CUDA Memory Allocated: {torch.cuda.memory_allocated()/1024**2:.2f}MB\")\n",
    "    print(f\"CUDA Memory Reserved: {torch.cuda.memory_reserved()/1024**2:.2f}MB\")"
   ]
  },
  {
   "cell_type": "code",
   "execution_count": 3,
   "metadata": {},
   "outputs": [
    {
     "data": {
      "application/vnd.jupyter.widget-view+json": {
       "model_id": "fd17388f86a64b239cc6ef62a2ceca72",
       "version_major": 2,
       "version_minor": 0
      },
      "text/plain": [
       "Loading checkpoint shards:   0%|          | 0/7 [00:00<?, ?it/s]"
      ]
     },
     "metadata": {},
     "output_type": "display_data"
    },
    {
     "data": {
      "text/plain": [
       "DeepseekForCausalLM(\n",
       "  (model): DeepseekModel(\n",
       "    (embed_tokens): Embedding(102400, 2048)\n",
       "    (layers): ModuleList(\n",
       "      (0): DeepseekDecoderLayer(\n",
       "        (self_attn): DeepseekSdpaAttention(\n",
       "          (q_proj): Linear(in_features=2048, out_features=2048, bias=False)\n",
       "          (k_proj): Linear(in_features=2048, out_features=2048, bias=False)\n",
       "          (v_proj): Linear(in_features=2048, out_features=2048, bias=False)\n",
       "          (o_proj): Linear(in_features=2048, out_features=2048, bias=False)\n",
       "          (rotary_emb): DeepseekRotaryEmbedding()\n",
       "        )\n",
       "        (mlp): DeepseekMLP(\n",
       "          (gate_proj): Linear(in_features=2048, out_features=10944, bias=False)\n",
       "          (up_proj): Linear(in_features=2048, out_features=10944, bias=False)\n",
       "          (down_proj): Linear(in_features=10944, out_features=2048, bias=False)\n",
       "          (act_fn): SiLU()\n",
       "        )\n",
       "        (input_layernorm): DeepseekRMSNorm()\n",
       "        (post_attention_layernorm): DeepseekRMSNorm()\n",
       "      )\n",
       "      (1-27): 27 x DeepseekDecoderLayer(\n",
       "        (self_attn): DeepseekSdpaAttention(\n",
       "          (q_proj): Linear(in_features=2048, out_features=2048, bias=False)\n",
       "          (k_proj): Linear(in_features=2048, out_features=2048, bias=False)\n",
       "          (v_proj): Linear(in_features=2048, out_features=2048, bias=False)\n",
       "          (o_proj): Linear(in_features=2048, out_features=2048, bias=False)\n",
       "          (rotary_emb): DeepseekRotaryEmbedding()\n",
       "        )\n",
       "        (mlp): DeepseekMoE(\n",
       "          (experts): ModuleList(\n",
       "            (0-63): 64 x DeepseekMLP(\n",
       "              (gate_proj): Linear(in_features=2048, out_features=1408, bias=False)\n",
       "              (up_proj): Linear(in_features=2048, out_features=1408, bias=False)\n",
       "              (down_proj): Linear(in_features=1408, out_features=2048, bias=False)\n",
       "              (act_fn): SiLU()\n",
       "            )\n",
       "          )\n",
       "          (gate): MoEGate()\n",
       "          (shared_experts): DeepseekMLP(\n",
       "            (gate_proj): Linear(in_features=2048, out_features=2816, bias=False)\n",
       "            (up_proj): Linear(in_features=2048, out_features=2816, bias=False)\n",
       "            (down_proj): Linear(in_features=2816, out_features=2048, bias=False)\n",
       "            (act_fn): SiLU()\n",
       "          )\n",
       "        )\n",
       "        (input_layernorm): DeepseekRMSNorm()\n",
       "        (post_attention_layernorm): DeepseekRMSNorm()\n",
       "      )\n",
       "    )\n",
       "    (norm): DeepseekRMSNorm()\n",
       "  )\n",
       "  (lm_head): Linear(in_features=2048, out_features=102400, bias=False)\n",
       ")"
      ]
     },
     "execution_count": 3,
     "metadata": {},
     "output_type": "execute_result"
    }
   ],
   "source": [
    "def load_model(model_name):\n",
    "    model = AutoModelForCausalLM.from_pretrained(\n",
    "        model_name,\n",
    "        torch_dtype=torch.float16,\n",
    "        trust_remote_code=True,\n",
    "        # use_flash_attention_2=True,\n",
    "    )\n",
    "    tokenizer = AutoTokenizer.from_pretrained(model_name)\n",
    "    return model, tokenizer\n",
    "\n",
    "model, tokenizer = load_model(\"deepseek-ai/deepseek-moe-16b-base\")\n",
    "model.eval()\n",
    "model.to(DEVICE)"
   ]
  },
  {
   "cell_type": "code",
   "execution_count": 8,
   "metadata": {},
   "outputs": [],
   "source": [
    "class DeepseekMoEHook:\n",
    "    \"\"\"\n",
    "    Hook into DeepSeek MoE models to capture router logits, hidden states, and expert outputs\n",
    "    for the last token after processing the whole sequence.\n",
    "    \"\"\"\n",
    "    \n",
    "    def __init__(self, model, k_experts: int = 6):\n",
    "        \"\"\"\n",
    "        Initialize the hook collector.\n",
    "        \n",
    "        Args:\n",
    "            model: DeepSeek model to hook into\n",
    "            k_experts: Number of top experts to track (default: 6)\n",
    "        \"\"\"\n",
    "        self.model = model\n",
    "        self.device = DEVICE  # Use the global DEVICE variable\n",
    "        self.k_experts = k_experts\n",
    "        self.hooks = []\n",
    "        \n",
    "        # Containers for collected data\n",
    "        self.router_logits = {}\n",
    "        self.layer_hidden_states = {}\n",
    "        self.top1_expert_hidden_states = {}\n",
    "        self.topk_expert_hidden_states = {}\n",
    "        self.residual_streams = {}  # Add container for residual streams\n",
    "        \n",
    "        # Track expert outputs for matching later\n",
    "        self.expert_outputs = defaultdict(dict)\n",
    "        \n",
    "        # Set up hooks\n",
    "        self._register_hooks()\n",
    "    \n",
    "    def _register_hooks(self):\n",
    "        \"\"\"Register all hooks on the model.\"\"\"\n",
    "        \n",
    "        # Hook to capture router logits and selected experts\n",
    "        def hook_router_logits(layer_idx):\n",
    "            def hook_fn(module, inputs, outputs):\n",
    "                # Get input hidden states\n",
    "                hidden_states = inputs[0]\n",
    "                \n",
    "                # Calculate router logits (handle data types for precision)\n",
    "                if self.device.type == 'cuda':\n",
    "                    # Use half precision for GPU to save memory\n",
    "                    router_logits = torch.matmul(hidden_states.half(), module.weight.T.half())\n",
    "                else:\n",
    "                    router_logits = torch.matmul(hidden_states, module.weight.T)\n",
    "                \n",
    "                # Get the last token router logits\n",
    "                if len(router_logits.shape) == 3:  # [batch, seq_len, num_experts]\n",
    "                    self.router_logits[layer_idx] = router_logits[:, -1, :].detach()\n",
    "                else:  # [seq_len, num_experts]\n",
    "                    self.router_logits[layer_idx] = router_logits[-1:, :].detach()\n",
    "                \n",
    "                # Get expert indices and weights from outputs\n",
    "                topk_idx, topk_weight, _ = outputs\n",
    "                \n",
    "                # Handle different tensor shapes\n",
    "                if len(topk_idx.shape) == 3:  # [batch, seq_len, top_k]\n",
    "                    # Extract data for last token\n",
    "                    self.top1_expert_hidden_states[layer_idx] = {\n",
    "                        'expert_idx': topk_idx[:, -1, 0].detach(),  # Top 1 expert\n",
    "                        'expert_weight': topk_weight[:, -1, 0].detach(),  # Top 1 weight\n",
    "                        'token_idx': hidden_states.size(1) - 1  # Last token position\n",
    "                    }\n",
    "                    \n",
    "                    self.topk_expert_hidden_states[layer_idx] = {\n",
    "                        'expert_idx': topk_idx[:, -1, :].detach(),  # Top k experts\n",
    "                        'expert_weight': topk_weight[:, -1, :].detach(),  # Top k weights\n",
    "                        'token_idx': hidden_states.size(1) - 1  # Last token position\n",
    "                    }\n",
    "                elif len(topk_idx.shape) == 2:  # [seq_len, top_k]\n",
    "                    # Extract data for last token\n",
    "                    self.top1_expert_hidden_states[layer_idx] = {\n",
    "                        'expert_idx': topk_idx[-1, 0].detach().unsqueeze(0),  # Top 1 expert\n",
    "                        'expert_weight': topk_weight[-1, 0].detach().unsqueeze(0),  # Top 1 weight\n",
    "                        'token_idx': hidden_states.size(0) - 1  # Last token position\n",
    "                    }\n",
    "                    \n",
    "                    self.topk_expert_hidden_states[layer_idx] = {\n",
    "                        'expert_idx': topk_idx[-1, :].detach().unsqueeze(0),  # Top k experts\n",
    "                        'expert_weight': topk_weight[-1, :].detach().unsqueeze(0),  # Top k weights\n",
    "                        'token_idx': hidden_states.size(0) - 1  # Last token position\n",
    "                    }\n",
    "                \n",
    "                # Store the residual stream (input to MoE)\n",
    "                self.residual_streams[layer_idx] = hidden_states[:, -1, :].detach()\n",
    "                \n",
    "                return outputs\n",
    "            return hook_fn\n",
    "        \n",
    "        # Hook to capture expert outputs\n",
    "        def hook_expert_output(layer_idx, expert_idx):\n",
    "            def hook_fn(module, inputs, outputs):\n",
    "                # Save the expert's output for later matching\n",
    "                # In DeepseekMoE, each expert receives only the tokens routed to it\n",
    "                # We'll identify which one came from our last token in post-processing\n",
    "                self.expert_outputs[layer_idx][expert_idx] = outputs.detach()\n",
    "                return outputs\n",
    "            return hook_fn\n",
    "        \n",
    "        # Hook to capture layer hidden states (final combined output)\n",
    "        def hook_layer_output(layer_idx):\n",
    "            def hook_fn(module, inputs, outputs):\n",
    "                # Get hidden states\n",
    "                hidden_states = outputs[0] if isinstance(outputs, tuple) else outputs\n",
    "                \n",
    "                # Store only the hidden states for the last token\n",
    "                self.layer_hidden_states[layer_idx] = hidden_states[:, -1, :].detach()\n",
    "                return outputs\n",
    "            return hook_fn\n",
    "        \n",
    "        # Hook to capture pre-MoE residual streams\n",
    "        def hook_post_attn_ln(layer_idx):\n",
    "            def hook_fn(module, inputs, outputs):\n",
    "                # Capture the output of post-attention layer norm\n",
    "                # This is the input to the MoE module (the residual stream)\n",
    "                self.residual_streams[layer_idx] = outputs[:, -1, :].detach()\n",
    "                return outputs\n",
    "            return hook_fn\n",
    "        \n",
    "        # Hook to capture final hidden states after MoE processing\n",
    "        def hook_moe_output(layer_idx):\n",
    "            def hook_fn(module, inputs, outputs):\n",
    "                # Get the combined MoE output\n",
    "                combined_output = outputs[:, -1, :].detach()\n",
    "                \n",
    "                # Save the combined output in our tracker dictionaries\n",
    "                if layer_idx in self.top1_expert_hidden_states:\n",
    "                    self.top1_expert_hidden_states[layer_idx]['final_hidden_state'] = combined_output\n",
    "                    self.topk_expert_hidden_states[layer_idx]['final_hidden_state'] = combined_output\n",
    "                \n",
    "                return outputs\n",
    "            return hook_fn\n",
    "        \n",
    "        # Register hooks for each layer\n",
    "        for layer_idx, layer in enumerate(self.model.model.layers):\n",
    "            # Register hook to capture final output of each layer\n",
    "            self.hooks.append(layer.register_forward_hook(hook_layer_output(layer_idx)))\n",
    "            \n",
    "            # If it's an MoE layer, register additional hooks\n",
    "            if hasattr(layer.mlp, 'experts') and layer.mlp.__class__.__name__ == 'DeepseekMoE':\n",
    "                # Hook for post attention layer norm (to get residual stream)\n",
    "                self.hooks.append(layer.post_attention_layernorm.register_forward_hook(\n",
    "                    hook_post_attn_ln(layer_idx)))\n",
    "                \n",
    "                # Hook for router\n",
    "                self.hooks.append(layer.mlp.gate.register_forward_hook(hook_router_logits(layer_idx)))\n",
    "                \n",
    "                # Hook for each expert\n",
    "                for expert_idx, expert in enumerate(layer.mlp.experts):\n",
    "                    self.hooks.append(expert.register_forward_hook(hook_expert_output(layer_idx, expert_idx)))\n",
    "                \n",
    "                # Hook for shared expert if it exists\n",
    "                if hasattr(layer.mlp, 'shared_experts'):\n",
    "                    self.hooks.append(layer.mlp.shared_experts.register_forward_hook(\n",
    "                        hook_expert_output(layer_idx, 'shared')))\n",
    "                \n",
    "                # Hook for final MoE output\n",
    "                self.hooks.append(layer.mlp.register_forward_hook(hook_moe_output(layer_idx)))\n",
    "    def _match_expert_outputs(self):\n",
    "        \"\"\"Match expert outputs with correct weight prioritization.\"\"\"\n",
    "        for layer_idx in self.top1_expert_hidden_states:\n",
    "            if layer_idx not in self.expert_outputs:\n",
    "                continue\n",
    "                \n",
    "            # Get residual stream for this layer\n",
    "            residual = self.residual_streams.get(layer_idx, None)\n",
    "            \n",
    "            # Process top k experts first to identify actual highest weight expert\n",
    "            batch_size = self.topk_expert_hidden_states[layer_idx]['expert_idx'].size(0)\n",
    "            for batch_idx in range(batch_size):\n",
    "                expert_indices = self.topk_expert_hidden_states[layer_idx]['expert_idx'][batch_idx]\n",
    "                expert_weights = self.topk_expert_hidden_states[layer_idx]['expert_weight'][batch_idx]\n",
    "                \n",
    "                # Find the expert with the highest weight\n",
    "                max_weight_idx = torch.argmax(expert_weights).item()\n",
    "                max_weight_expert_idx = expert_indices[max_weight_idx].item()\n",
    "                max_weight = expert_weights[max_weight_idx].item()\n",
    "                \n",
    "                # Update top1_expert_hidden_states with the actual highest weight expert\n",
    "                self.top1_expert_hidden_states[layer_idx]['expert_idx'][batch_idx] = torch.tensor([max_weight_expert_idx], \n",
    "                                                                                             device=self.device)\n",
    "                self.top1_expert_hidden_states[layer_idx]['expert_weight'][batch_idx] = torch.tensor([max_weight], \n",
    "                                                                                                device=self.device)\n",
    "                \n",
    "                # Create dict for expert hidden states if it doesn't exist\n",
    "                if 'expert_hidden_states' not in self.top1_expert_hidden_states[layer_idx]:\n",
    "                    self.top1_expert_hidden_states[layer_idx]['expert_hidden_states'] = {}\n",
    "                \n",
    "                # Store expert hidden states for top 1 expert\n",
    "                if max_weight_expert_idx in self.expert_outputs[layer_idx]:\n",
    "                    expert_output = self.expert_outputs[layer_idx][max_weight_expert_idx]\n",
    "                    if len(expert_output.shape) > 1:\n",
    "                        # Get the expert output\n",
    "                        expert_hidden = expert_output[0].to(self.device)\n",
    "                        \n",
    "                        # Add residual if available\n",
    "                        if residual is not None:\n",
    "                            expert_hidden = expert_hidden + residual[batch_idx].to(self.device)\n",
    "                        \n",
    "                        self.top1_expert_hidden_states[layer_idx]['expert_hidden_states'][batch_idx] = expert_hidden\n",
    "            \n",
    "                # Create dict for all expert hidden states if it doesn't exist\n",
    "                if 'expert_hidden_states' not in self.topk_expert_hidden_states[layer_idx]:\n",
    "                    self.topk_expert_hidden_states[layer_idx]['expert_hidden_states'] = {}\n",
    "                \n",
    "                # Store for each expert in top-k\n",
    "                expert_states = {}\n",
    "                for k_idx, expert_idx in enumerate(expert_indices):\n",
    "                    expert_idx = expert_idx.item()\n",
    "                    if expert_idx in self.expert_outputs[layer_idx]:\n",
    "                        expert_output = self.expert_outputs[layer_idx][expert_idx]\n",
    "                        if len(expert_output.shape) > 1:\n",
    "                            # Get the expert output\n",
    "                            expert_hidden = expert_output[0].to(self.device)\n",
    "                            \n",
    "                            # Add residual if available\n",
    "                            if residual is not None:\n",
    "                                expert_hidden = expert_hidden + residual[batch_idx].to(self.device)\n",
    "                            \n",
    "                            expert_states[k_idx] = expert_hidden\n",
    "                \n",
    "                self.topk_expert_hidden_states[layer_idx]['expert_hidden_states'][batch_idx] = expert_states\n",
    "                \n",
    "                # Now compute the combined/ensemble hidden state from just the top-k experts\n",
    "                # (without shared expert contribution)\n",
    "                if expert_states:  # Only if we have any expert states\n",
    "                    hidden_dim = next(iter(expert_states.values())).shape[-1]\n",
    "                    combined_topk = torch.zeros(hidden_dim, device=self.device)\n",
    "                    total_weight = 0.0\n",
    "                    \n",
    "                    for k_idx, expert_idx in enumerate(expert_indices):\n",
    "                        if k_idx in expert_states:\n",
    "                            expert_state = expert_states[k_idx]\n",
    "                            expert_weight = expert_weights[k_idx]\n",
    "                            combined_topk += expert_weight * expert_state\n",
    "                            total_weight += expert_weight\n",
    "                    \n",
    "                    # Normalize if weights don't sum to 1.0\n",
    "                    if total_weight > 0 and abs(total_weight - 1.0) > 1e-5:\n",
    "                        combined_topk /= total_weight\n",
    "                    \n",
    "                    # Store the combined hidden state\n",
    "                    if 'combined_topk_hidden_state' not in self.topk_expert_hidden_states[layer_idx]:\n",
    "                        self.topk_expert_hidden_states[layer_idx]['combined_topk_hidden_state'] = {}\n",
    "                    \n",
    "                    self.topk_expert_hidden_states[layer_idx]['combined_topk_hidden_state'][batch_idx] = combined_topk\n",
    "    def forward(self, input_ids):\n",
    "        \"\"\"\n",
    "        Run a forward pass through the model and collect all hook data.\n",
    "        \n",
    "        Args:\n",
    "            input_ids: Token IDs to process\n",
    "            \n",
    "        Returns:\n",
    "            Dict containing all collected data\n",
    "        \"\"\"\n",
    "        # Clear previous data\n",
    "        self.router_logits.clear()\n",
    "        self.layer_hidden_states.clear()\n",
    "        self.top1_expert_hidden_states.clear()\n",
    "        self.topk_expert_hidden_states.clear()\n",
    "        self.expert_outputs.clear()\n",
    "        self.residual_streams.clear()\n",
    "        \n",
    "        # Ensure input is on the correct device\n",
    "        input_ids = input_ids.to(self.device)\n",
    "        \n",
    "        # Run model forward pass with appropriate optimizations\n",
    "        with torch.no_grad():\n",
    "            if self.device.type == 'cuda':\n",
    "                # Use mixed precision on GPU\n",
    "                with torch.cuda.amp.autocast():\n",
    "                    outputs = self.model(input_ids)\n",
    "                # Clear cache immediately after forward pass\n",
    "                torch.cuda.empty_cache()\n",
    "            else:\n",
    "                outputs = self.model(input_ids)\n",
    "            \n",
    "        # Match expert outputs to get hidden states\n",
    "        self._match_expert_outputs()\n",
    "        \n",
    "        # Return processed results\n",
    "        return {\n",
    "            'layer_hidden_states': self.layer_hidden_states,\n",
    "            'router_logits': self.router_logits,\n",
    "            'top1_expert': self.top1_expert_hidden_states,\n",
    "            'topk_expert': self.topk_expert_hidden_states,\n",
    "            'residual_streams': self.residual_streams\n",
    "        }\n",
    "    \n",
    "    def remove_hooks(self):\n",
    "        \"\"\"Remove all hooks from the model.\"\"\"\n",
    "        for hook in self.hooks:\n",
    "            hook.remove()\n",
    "        self.hooks = []\n",
    "        \n",
    "        # Clear CUDA cache if using GPU\n",
    "        if self.device.type == 'cuda':\n",
    "            torch.cuda.empty_cache()\n",
    "    \n",
    "    def __del__(self):\n",
    "        \"\"\"Cleanup when object is deleted.\"\"\"\n",
    "        self.remove_hooks()\n",
    "\n",
    "def get_last_token_moe_data(model, tokenizer, prompt, k_experts=6):\n",
    "    \"\"\"\n",
    "    Helper function to get MoE data for the last token of a sequence.\n",
    "    \n",
    "    Args:\n",
    "        model: DeepSeek model\n",
    "        tokenizer: DeepSeek tokenizer\n",
    "        prompt: Input text prompt\n",
    "        k_experts: Number of top experts to track (default: 6)\n",
    "        \n",
    "    Returns:\n",
    "        Dict containing all collected MoE data\n",
    "    \"\"\"\n",
    "    # Create hook\n",
    "    hook = DeepseekMoEHook(model, k_experts=k_experts)\n",
    "    \n",
    "    # Prepare input\n",
    "    input_ids = tokenizer(prompt, return_tensors=\"pt\").input_ids.to(DEVICE)\n",
    "    \n",
    "    try:\n",
    "        # Get data\n",
    "        moe_data = hook.forward(input_ids)\n",
    "        \n",
    "        # Add prompt information\n",
    "        moe_data['prompt'] = prompt\n",
    "        moe_data['input_ids'] = input_ids\n",
    "        moe_data['last_token_id'] = input_ids[0, -1].item()\n",
    "        moe_data['last_token'] = tokenizer.decode([moe_data['last_token_id']])\n",
    "        \n",
    "        return moe_data\n",
    "    finally:\n",
    "        # Always remove hooks\n",
    "        hook.remove_hooks()"
   ]
  },
  {
   "cell_type": "code",
   "execution_count": 9,
   "metadata": {},
   "outputs": [],
   "source": [
    "# Function to process a file of prompts and calculate cosine similarities for all layers\n",
    "def process_prompts_file(file_path, model, tokenizer, output_dir=\"cosine-sim-csv\", device=DEVICE):\n",
    "    # Check if device is specified, otherwise use global DEVICE if available\n",
    "    if device is None:\n",
    "        try:\n",
    "            device = DEVICE\n",
    "        except NameError:\n",
    "            device = \"cuda\" if torch.cuda.is_available() else \"cpu\"\n",
    "    \n",
    "    print(f\"Using device: {device}\")\n",
    "    \n",
    "    # Create output directory if it doesn't exist\n",
    "    os.makedirs(output_dir, exist_ok=True)\n",
    "    \n",
    "    # Extract domain name from file path\n",
    "    domain_name = os.path.basename(file_path).split('.')[0]\n",
    "    \n",
    "    # Read prompts from file\n",
    "    with open(file_path, 'r', encoding='utf-8') as f:\n",
    "        prompts = [line.strip() for line in f if line.strip()]\n",
    "    \n",
    "    # Process each prompt\n",
    "    for prompt_idx, prompt in enumerate(tqdm(prompts, desc=\"Processing prompts\")):\n",
    "        # Create a unique CSV file for each prompt with domain name\n",
    "        csv_filename = f\"{domain_name}_prompt_{prompt_idx+1}_cos-sim.csv\"\n",
    "        csv_path = os.path.join(output_dir, csv_filename)\n",
    "        \n",
    "        # Write header to CSV\n",
    "        with open(csv_path, 'w', newline='') as csvfile:\n",
    "            fieldnames = ['layer', 'final_vs_top1', 'final_vs_topk', 'top1_vs_topk']\n",
    "            writer = csv.DictWriter(csvfile, fieldnames=fieldnames)\n",
    "            writer.writeheader()\n",
    "        \n",
    "        # Get MoE data for the prompt\n",
    "        moe_data = get_last_token_moe_data(model, tokenizer, prompt)\n",
    "        \n",
    "        # Calculate cosine similarities for each layer\n",
    "        results = []\n",
    "        num_layers = 27  # Assuming 27 layers (1-27)\n",
    "        \n",
    "        for layer_idx in range(1, num_layers + 1):\n",
    "            # Skip if layer doesn't exist in the data\n",
    "            if layer_idx >= len(moe_data['layer_hidden_states']):\n",
    "                continue\n",
    "                \n",
    "            # Get hidden states for this layer\n",
    "            final_hidden_state = moe_data['layer_hidden_states'][layer_idx]\n",
    "            \n",
    "            # Get top-1 expert data\n",
    "            try:\n",
    "                top1_expert_hidden_state = moe_data['top1_expert'][layer_idx]['expert_hidden_states'][0]\n",
    "                \n",
    "                # Get combined top-k expert data\n",
    "                # Check if we need to recompute the combined top-k hidden state\n",
    "                if 'expert_hidden_states' in moe_data['topk_expert'][layer_idx] and 'expert_weights' in moe_data['topk_expert'][layer_idx]:\n",
    "                    # Get expert states and weights\n",
    "                    expert_states = moe_data['topk_expert'][layer_idx]['expert_hidden_states']\n",
    "                    expert_weights = moe_data['topk_expert'][layer_idx]['expert_weights'][0]\n",
    "                    expert_indices = moe_data['topk_expert'][layer_idx].get('expert_indices', list(range(len(expert_states))))\n",
    "                    \n",
    "                    # Compute combined top-k hidden state\n",
    "                    hidden_dim = expert_states[0].shape[-1]\n",
    "                    combined_topk = torch.zeros(hidden_dim, device=device)\n",
    "                    total_weight = 0.0\n",
    "                    \n",
    "                    for k_idx, expert_idx in enumerate(expert_indices):\n",
    "                        if k_idx in expert_states:\n",
    "                            expert_state = expert_states[k_idx]\n",
    "                            expert_weight = expert_weights[k_idx]\n",
    "                            combined_topk += expert_weight * expert_state\n",
    "                            total_weight += expert_weight\n",
    "                    \n",
    "                    # Normalize if weights don't sum to 1.0\n",
    "                    if total_weight > 0 and abs(total_weight - 1.0) > 1e-5:\n",
    "                        combined_topk /= total_weight\n",
    "                        \n",
    "                    combined_topk_hidden_state = combined_topk\n",
    "                else:\n",
    "                    # Use the pre-computed combined top-k hidden state\n",
    "                    combined_topk_hidden_state = moe_data['topk_expert'][layer_idx]['combined_topk_hidden_state'][0]\n",
    "                \n",
    "                # Normalize vectors for cosine similarity\n",
    "                def normalize_vector(vector):\n",
    "                    return vector / vector.norm(p=2, dim=-1, keepdim=True)\n",
    "                \n",
    "                final_hidden_norm = normalize_vector(final_hidden_state)\n",
    "                top1_expert_norm = normalize_vector(top1_expert_hidden_state)\n",
    "                combined_topk_norm = normalize_vector(combined_topk_hidden_state)\n",
    "                \n",
    "                # Calculate cosine similarities - fix the tensor dimension issue\n",
    "                # Make sure tensors are flattened to 1D before computing cosine similarity\n",
    "                cos_sim_final_top1 = F.cosine_similarity(\n",
    "                    final_hidden_norm.flatten().unsqueeze(0), \n",
    "                    top1_expert_norm.flatten().unsqueeze(0)\n",
    "                ).item()\n",
    "                \n",
    "                cos_sim_final_topk = F.cosine_similarity(\n",
    "                    final_hidden_norm.flatten().unsqueeze(0), \n",
    "                    combined_topk_norm.flatten().unsqueeze(0)\n",
    "                ).item()\n",
    "                \n",
    "                cos_sim_top1_topk = F.cosine_similarity(\n",
    "                    top1_expert_norm.flatten().unsqueeze(0), \n",
    "                    combined_topk_norm.flatten().unsqueeze(0)\n",
    "                ).item()\n",
    "                \n",
    "                # Store results\n",
    "                results.append({\n",
    "                    'layer': layer_idx,\n",
    "                    'final_vs_top1': cos_sim_final_top1,\n",
    "                    'final_vs_topk': cos_sim_final_topk,\n",
    "                    'top1_vs_topk': cos_sim_top1_topk\n",
    "                })\n",
    "            except (KeyError, IndexError) as e:\n",
    "                print(f\"Error processing layer {layer_idx} for prompt {prompt_idx+1}: {e}\")\n",
    "                continue\n",
    "        \n",
    "        # Write results to CSV\n",
    "        with open(csv_path, 'a', newline='') as csvfile:\n",
    "            writer = csv.DictWriter(csvfile, fieldnames=fieldnames)\n",
    "            writer.writerows(results)\n",
    "        \n",
    "        print(f\"Results for prompt {prompt_idx+1} saved to {csv_path}\")\n",
    "        \n",
    "        # Clear CUDA cache if using GPU\n",
    "        if DEVICE == \"cuda\":\n",
    "            torch.cuda.empty_cache()\n",
    "        \n",
    "        # Clean model memory between prompts\n",
    "        model.zero_grad(set_to_none=True)\n",
    "        gc.collect()  # Force garbage collection\n",
    "        if DEVICE == \"cuda\":\n",
    "            torch.cuda.empty_cache()\n",
    "    \n",
    "    print(f\"Processing complete. Results saved to {output_dir}\")\n"
   ]
  },
  {
   "cell_type": "code",
   "execution_count": 30,
   "metadata": {},
   "outputs": [],
   "source": [
    "def average_cosine_similarities(base_name, output_dir=\"data/cosine-sim-avg\"):\n",
    "    \"\"\"\n",
    "    Averages the cosine similarities across all files with the same base name pattern.\n",
    "    \n",
    "    Args:\n",
    "        base_name (str): The base name pattern to match files (e.g., 'aime-math')\n",
    "        output_dir (str): Directory to save the averaged results\n",
    "    \n",
    "    Returns:\n",
    "        pd.DataFrame: DataFrame containing the averaged cosine similarities\n",
    "    \"\"\"\n",
    "    # Create output directory if it doesn't exist\n",
    "    os.makedirs(output_dir, exist_ok=True)\n",
    "    \n",
    "    # Find all matching CSV files\n",
    "    pattern = f\"data/cosine-sim-csv/{base_name}_prompt_*_cos-sim.csv\"\n",
    "    csv_files = glob(pattern)\n",
    "    \n",
    "    if not csv_files:\n",
    "        print(f\"No files found matching pattern: {pattern}\")\n",
    "        return None\n",
    "    \n",
    "    print(f\"Found {len(csv_files)} files matching pattern: {pattern}\")\n",
    "    \n",
    "    # Initialize lists to store data\n",
    "    all_top1_vs_topk = []\n",
    "    \n",
    "    # Read each CSV file and extract the top1_vs_topk column\n",
    "    for file in csv_files:\n",
    "        df = pd.read_csv(file)\n",
    "        all_top1_vs_topk.append(df['top1_vs_topk'].values)\n",
    "    \n",
    "    # Convert to numpy array for easier manipulation\n",
    "    all_top1_vs_topk = np.array(all_top1_vs_topk)\n",
    "    \n",
    "    # Calculate average\n",
    "    avg_top1_vs_topk = np.mean(all_top1_vs_topk, axis=0)\n",
    "    \n",
    "    # Create a new DataFrame with the averaged data\n",
    "    result_df = pd.DataFrame({\n",
    "        'layer': df['layer'],  # Using the layer numbers from the last loaded file\n",
    "        'avg_top1_vs_topk': avg_top1_vs_topk\n",
    "    })\n",
    "    \n",
    "    # Save the averaged data to a CSV file\n",
    "    output_file = f\"{output_dir}/{base_name}_averaged_top1_vs_topk.csv\"\n",
    "    result_df.to_csv(output_file, index=False)\n",
    "    print(f\"Averaged data saved to {output_file}\")\n",
    "    \n",
    "    # return result_df"
   ]
  },
  {
   "cell_type": "code",
   "execution_count": 6,
   "metadata": {},
   "outputs": [],
   "source": [
    "def plot_combined_similarities(base_names, csv_dir=\"data/cosine-sim-avg\"):\n",
    "    \"\"\"\n",
    "    Plot combined graph of top1_vs_topk similarities for multiple datasets\n",
    "    \n",
    "    Args:\n",
    "        base_names: List of dataset base names\n",
    "        csv_dir: Directory containing the averaged CSV files\n",
    "    \n",
    "    Returns:\n",
    "        Plotly figure object\n",
    "    \"\"\"    \n",
    "    fig = go.Figure()\n",
    "    \n",
    "    for base_name in base_names:\n",
    "        # Construct the file path\n",
    "        file_path = os.path.join(csv_dir, f\"{base_name}_averaged_top1_vs_topk.csv\")\n",
    "        \n",
    "        # Check if file exists\n",
    "        if not os.path.exists(file_path):\n",
    "            print(f\"Warning: File {file_path} not found. Skipping.\")\n",
    "            continue\n",
    "        \n",
    "        # Read the CSV file\n",
    "        df = pd.read_csv(file_path)\n",
    "        \n",
    "        # Add trace for this dataset\n",
    "        fig.add_trace(\n",
    "            go.Scatter(\n",
    "                x=df['layer'], \n",
    "                y=df['avg_top1_vs_topk'], \n",
    "                mode='lines+markers',\n",
    "                name=base_name\n",
    "            )\n",
    "        )\n",
    "    \n",
    "    # Update layout\n",
    "    fig.update_layout(\n",
    "        title='Comparison of Top1 vs TopK Cosine Similarities Across Datasets',\n",
    "        xaxis_title='Layer',\n",
    "        yaxis_title='Average Cosine Similarity',\n",
    "        hovermode='x unified',\n",
    "        template='plotly_white',\n",
    "        legend_title=\"Dataset\",\n",
    "        yaxis=dict(range=[0, 1])  # Set y-axis range from 0 to 1\n",
    "    )\n",
    "    \n",
    "    # Ensure x-axis shows appropriate layer numbers\n",
    "    # Using the last loaded dataframe for x-axis values\n",
    "    if 'df' in locals():\n",
    "        fig.update_xaxes(tickmode='array', tickvals=df['layer'])\n",
    "    \n",
    "    return fig\n"
   ]
  },
  {
   "cell_type": "markdown",
   "metadata": {},
   "source": [
    "---"
   ]
  },
  {
   "cell_type": "code",
   "execution_count": null,
   "metadata": {},
   "outputs": [],
   "source": [
    "file_path = ['data/aime-math.txt',\n",
    "             'data/gsm8k.txt',\n",
    "             'data/github.txt',\n",
    "             'data/chinese.txt',\n",
    "             'data/arxiv.txt',\n",
    "             'data/english.txt',\n",
    "             'data/french-qa.txt']\n",
    "for file in file_path:\n",
    "    process_prompts_file(file, model, tokenizer, output_dir=\"data/cosine-sim-csv\")\n",
    "    print(f\"Processed {file}\")\n",
    "    if DEVICE == \"cuda\":\n",
    "        torch.cuda.empty_cache()\n",
    "    gc.collect()  # Force garbage collection\n",
    "\n"
   ]
  },
  {
   "cell_type": "code",
   "execution_count": 4,
   "metadata": {},
   "outputs": [],
   "source": [
    "base_name = ['aime-math',\n",
    "            'gsm8k',\n",
    "            'github',\n",
    "            'chinese',\n",
    "            'arxiv',\n",
    "            'english',\n",
    "            'french-qa']"
   ]
  },
  {
   "cell_type": "markdown",
   "metadata": {},
   "source": [
    "to find the average of the hidden states $(\\textbf{H}^{l_1}_t)$ and $(\\textbf{H}^{l_6}_t)$ of all the prompts in the dataset and to plot it"
   ]
  },
  {
   "cell_type": "code",
   "execution_count": null,
   "metadata": {},
   "outputs": [],
   "source": [
    "for base in base_name:\n",
    "    average_cosine_similarities(base)"
   ]
  },
  {
   "cell_type": "markdown",
   "metadata": {},
   "source": [
    "Visualization of Cosine Similarities \\\n",
    "This section plots data from pre-computed cosine similarity from CSV files \\\n",
    "located in the `data/cosine-sim-avg` directory of this repository"
   ]
  },
  {
   "cell_type": "code",
   "execution_count": 7,
   "metadata": {},
   "outputs": [
    {
     "data": {
      "application/vnd.plotly.v1+json": {
       "config": {
        "plotlyServerURL": "https://plot.ly"
       },
       "data": [
        {
         "mode": "lines+markers",
         "name": "aime-math",
         "type": "scatter",
         "x": [
          1,
          2,
          3,
          4,
          5,
          6,
          7,
          8,
          9,
          10,
          11,
          12,
          13,
          14,
          15,
          16,
          17,
          18,
          19,
          20,
          21,
          22,
          23,
          24,
          25,
          26,
          27
         ],
         "y": [
          0.9978818690776824,
          0.7928759080171585,
          0.9668341362476348,
          0.9404245352745056,
          0.99919828414917,
          0.998842681646347,
          0.9979550552368164,
          0.9976250100135804,
          0.998032433986664,
          0.9977843570709228,
          0.997787823677063,
          0.9976523172855376,
          0.9957448196411132,
          0.9931898152828216,
          0.996776691675186,
          0.9961672246456146,
          0.995535410642624,
          0.9970843064785004,
          0.9970777523517608,
          0.996902792453766,
          0.9978459346294404,
          0.9994633853435516,
          0.996028196811676,
          0.9973869466781616,
          0.994244750738144,
          0.999438087940216,
          0.9900183022022248
         ]
        },
        {
         "mode": "lines+markers",
         "name": "gsm8k",
         "type": "scatter",
         "x": [
          1,
          2,
          3,
          4,
          5,
          6,
          7,
          8,
          9,
          10,
          11,
          12,
          13,
          14,
          15,
          16,
          17,
          18,
          19,
          20,
          21,
          22,
          23,
          24,
          25,
          26,
          27
         ],
         "y": [
          0.9986580264568328,
          0.9981802070140838,
          0.9732542443275451,
          0.9756699347496032,
          0.9979998075962068,
          0.9982215344905854,
          0.9965923416614532,
          0.995533163547516,
          0.9975129675865172,
          0.9980812931060792,
          0.998119262456894,
          0.9966225242614746,
          0.9931711208820344,
          0.993747935295105,
          0.996614545583725,
          0.9906877493858336,
          0.9863790893554688,
          0.9959150624275208,
          0.9930759871006012,
          0.9945438766479492,
          0.9990029883384705,
          0.9973670256137848,
          0.9990199041366578,
          0.9992603135108948,
          0.9887253451347352,
          0.9653578740358352,
          0.9914200150966644
         ]
        },
        {
         "mode": "lines+markers",
         "name": "github",
         "type": "scatter",
         "x": [
          1,
          2,
          3,
          4,
          5,
          6,
          7,
          8,
          9,
          10,
          11,
          12,
          13,
          14,
          15,
          16,
          17,
          18,
          19,
          20,
          21,
          22,
          23,
          24,
          25,
          26,
          27
         ],
         "y": [
          0.923841071203351,
          0.9234726423025132,
          0.9792278039455414,
          0.9367686128616332,
          0.9952859151363372,
          0.9987496316432952,
          0.9983174312114717,
          0.9965902030467988,
          0.9991092765331268,
          0.9978624665737152,
          0.9975772416591644,
          0.9993051493167876,
          0.9988412475585936,
          0.9971261084079742,
          0.9977524435520172,
          0.9982194936275482,
          0.9969985890388487,
          0.9983892786502838,
          0.9972493875026704,
          0.9918395268917084,
          0.9968069338798524,
          0.9973242330551148,
          0.9976992464065552,
          0.9932941126823426,
          0.9972586154937744,
          0.8991753044724464,
          0.9356322383880616
         ]
        },
        {
         "mode": "lines+markers",
         "name": "chinese",
         "type": "scatter",
         "x": [
          1,
          2,
          3,
          4,
          5,
          6,
          7,
          8,
          9,
          10,
          11,
          12,
          13,
          14,
          15,
          16,
          17,
          18,
          19,
          20,
          21,
          22,
          23,
          24,
          25,
          26,
          27
         ],
         "y": [
          0.9486328957229851,
          0.99901180267334,
          0.9714032971858978,
          0.9598226273059844,
          0.997672404050827,
          0.997853637933731,
          0.999087212085724,
          0.9980893063545228,
          0.9988748443126678,
          0.9989552438259124,
          0.9983259153366087,
          0.9973625373840332,
          0.996187106370926,
          0.9976931202411652,
          0.9980385398864746,
          0.9939394354820252,
          0.9978065931797028,
          0.9976238775253295,
          0.9978383696079254,
          0.9962131035327912,
          0.9968758344650268,
          0.997208969593048,
          0.9982919800281524,
          0.9951514804363252,
          0.9962468373775484,
          0.665001148879528,
          0.8509879350662232
         ]
        },
        {
         "mode": "lines+markers",
         "name": "arxiv",
         "type": "scatter",
         "x": [
          1,
          2,
          3,
          4,
          5,
          6,
          7,
          8,
          9,
          10,
          11,
          12,
          13,
          14,
          15,
          16,
          17,
          18,
          19,
          20,
          21,
          22,
          23,
          24,
          25,
          26,
          27
         ],
         "y": [
          0.9993907988071442,
          0.9991424691677092,
          0.9774780178070068,
          0.9768424379825592,
          0.9992178380489348,
          0.998488873243332,
          0.9991873264312744,
          0.9986163699626922,
          0.9974460434913636,
          0.9985680770874024,
          0.9986588561534882,
          0.9985876953601838,
          0.9951542687416076,
          0.989970681667328,
          0.9958257508277892,
          0.9968047428131104,
          0.9953391122817992,
          0.9958427369594574,
          0.9920534932613372,
          0.9985315883159638,
          0.9983519721031188,
          0.9983519983291624,
          0.9975195109844208,
          0.9988062965869904,
          0.9894366085529328,
          0.9822561518847942,
          0.990107946395874
         ]
        },
        {
         "mode": "lines+markers",
         "name": "english",
         "type": "scatter",
         "x": [
          1,
          2,
          3,
          4,
          5,
          6,
          7,
          8,
          9,
          10,
          11,
          12,
          13,
          14,
          15,
          16,
          17,
          18,
          19,
          20,
          21,
          22,
          23,
          24,
          25,
          26,
          27
         ],
         "y": [
          0.9957031631469726,
          0.9990717017650604,
          0.984070553779602,
          0.9583535456657408,
          0.9988244318962096,
          0.9984941148757934,
          0.9989674115180968,
          0.9969608926773073,
          0.9987156355381012,
          0.9974855601787568,
          0.998048461675644,
          0.99888258934021,
          0.995270334482193,
          0.9979870891571044,
          0.996814020872116,
          0.9988395750522614,
          0.9976883995532988,
          0.998679826259613,
          0.9954500043392182,
          0.9988558542728424,
          0.9993426191806792,
          0.9995676732063292,
          0.9995743763446808,
          0.9984374451637268,
          0.997058161497116,
          0.7153695422410965,
          0.9954390597343444
         ]
        },
        {
         "mode": "lines+markers",
         "name": "french-qa",
         "type": "scatter",
         "x": [
          1,
          2,
          3,
          4,
          5,
          6,
          7,
          8,
          9,
          10,
          11,
          12,
          13,
          14,
          15,
          16,
          17,
          18,
          19,
          20,
          21,
          22,
          23,
          24,
          25,
          26,
          27
         ],
         "y": [
          0.9992487013339996,
          0.9986216723918916,
          0.9628837192058564,
          0.982414448261261,
          0.9991372668743134,
          0.998724284172058,
          0.99917635679245,
          0.9973249304294586,
          0.9967491614818572,
          0.9986247313022614,
          0.9977135145664217,
          0.9982827246189118,
          0.9931126964092256,
          0.995290435552597,
          0.9957678020000458,
          0.9982269680500032,
          0.9983621430397034,
          0.9971604454517364,
          0.988398209810257,
          0.997600975036621,
          0.994802746772766,
          0.9853492176532744,
          0.999303947687149,
          0.9989084005355836,
          0.9902397406101228,
          0.9652036169171332,
          0.9562155377864836
         ]
        }
       ],
       "layout": {
        "hovermode": "x unified",
        "legend": {
         "title": {
          "text": "Dataset"
         }
        },
        "template": {
         "data": {
          "bar": [
           {
            "error_x": {
             "color": "#2a3f5f"
            },
            "error_y": {
             "color": "#2a3f5f"
            },
            "marker": {
             "line": {
              "color": "white",
              "width": 0.5
             },
             "pattern": {
              "fillmode": "overlay",
              "size": 10,
              "solidity": 0.2
             }
            },
            "type": "bar"
           }
          ],
          "barpolar": [
           {
            "marker": {
             "line": {
              "color": "white",
              "width": 0.5
             },
             "pattern": {
              "fillmode": "overlay",
              "size": 10,
              "solidity": 0.2
             }
            },
            "type": "barpolar"
           }
          ],
          "carpet": [
           {
            "aaxis": {
             "endlinecolor": "#2a3f5f",
             "gridcolor": "#C8D4E3",
             "linecolor": "#C8D4E3",
             "minorgridcolor": "#C8D4E3",
             "startlinecolor": "#2a3f5f"
            },
            "baxis": {
             "endlinecolor": "#2a3f5f",
             "gridcolor": "#C8D4E3",
             "linecolor": "#C8D4E3",
             "minorgridcolor": "#C8D4E3",
             "startlinecolor": "#2a3f5f"
            },
            "type": "carpet"
           }
          ],
          "choropleth": [
           {
            "colorbar": {
             "outlinewidth": 0,
             "ticks": ""
            },
            "type": "choropleth"
           }
          ],
          "contour": [
           {
            "colorbar": {
             "outlinewidth": 0,
             "ticks": ""
            },
            "colorscale": [
             [
              0,
              "#0d0887"
             ],
             [
              0.1111111111111111,
              "#46039f"
             ],
             [
              0.2222222222222222,
              "#7201a8"
             ],
             [
              0.3333333333333333,
              "#9c179e"
             ],
             [
              0.4444444444444444,
              "#bd3786"
             ],
             [
              0.5555555555555556,
              "#d8576b"
             ],
             [
              0.6666666666666666,
              "#ed7953"
             ],
             [
              0.7777777777777778,
              "#fb9f3a"
             ],
             [
              0.8888888888888888,
              "#fdca26"
             ],
             [
              1,
              "#f0f921"
             ]
            ],
            "type": "contour"
           }
          ],
          "contourcarpet": [
           {
            "colorbar": {
             "outlinewidth": 0,
             "ticks": ""
            },
            "type": "contourcarpet"
           }
          ],
          "heatmap": [
           {
            "colorbar": {
             "outlinewidth": 0,
             "ticks": ""
            },
            "colorscale": [
             [
              0,
              "#0d0887"
             ],
             [
              0.1111111111111111,
              "#46039f"
             ],
             [
              0.2222222222222222,
              "#7201a8"
             ],
             [
              0.3333333333333333,
              "#9c179e"
             ],
             [
              0.4444444444444444,
              "#bd3786"
             ],
             [
              0.5555555555555556,
              "#d8576b"
             ],
             [
              0.6666666666666666,
              "#ed7953"
             ],
             [
              0.7777777777777778,
              "#fb9f3a"
             ],
             [
              0.8888888888888888,
              "#fdca26"
             ],
             [
              1,
              "#f0f921"
             ]
            ],
            "type": "heatmap"
           }
          ],
          "heatmapgl": [
           {
            "colorbar": {
             "outlinewidth": 0,
             "ticks": ""
            },
            "colorscale": [
             [
              0,
              "#0d0887"
             ],
             [
              0.1111111111111111,
              "#46039f"
             ],
             [
              0.2222222222222222,
              "#7201a8"
             ],
             [
              0.3333333333333333,
              "#9c179e"
             ],
             [
              0.4444444444444444,
              "#bd3786"
             ],
             [
              0.5555555555555556,
              "#d8576b"
             ],
             [
              0.6666666666666666,
              "#ed7953"
             ],
             [
              0.7777777777777778,
              "#fb9f3a"
             ],
             [
              0.8888888888888888,
              "#fdca26"
             ],
             [
              1,
              "#f0f921"
             ]
            ],
            "type": "heatmapgl"
           }
          ],
          "histogram": [
           {
            "marker": {
             "pattern": {
              "fillmode": "overlay",
              "size": 10,
              "solidity": 0.2
             }
            },
            "type": "histogram"
           }
          ],
          "histogram2d": [
           {
            "colorbar": {
             "outlinewidth": 0,
             "ticks": ""
            },
            "colorscale": [
             [
              0,
              "#0d0887"
             ],
             [
              0.1111111111111111,
              "#46039f"
             ],
             [
              0.2222222222222222,
              "#7201a8"
             ],
             [
              0.3333333333333333,
              "#9c179e"
             ],
             [
              0.4444444444444444,
              "#bd3786"
             ],
             [
              0.5555555555555556,
              "#d8576b"
             ],
             [
              0.6666666666666666,
              "#ed7953"
             ],
             [
              0.7777777777777778,
              "#fb9f3a"
             ],
             [
              0.8888888888888888,
              "#fdca26"
             ],
             [
              1,
              "#f0f921"
             ]
            ],
            "type": "histogram2d"
           }
          ],
          "histogram2dcontour": [
           {
            "colorbar": {
             "outlinewidth": 0,
             "ticks": ""
            },
            "colorscale": [
             [
              0,
              "#0d0887"
             ],
             [
              0.1111111111111111,
              "#46039f"
             ],
             [
              0.2222222222222222,
              "#7201a8"
             ],
             [
              0.3333333333333333,
              "#9c179e"
             ],
             [
              0.4444444444444444,
              "#bd3786"
             ],
             [
              0.5555555555555556,
              "#d8576b"
             ],
             [
              0.6666666666666666,
              "#ed7953"
             ],
             [
              0.7777777777777778,
              "#fb9f3a"
             ],
             [
              0.8888888888888888,
              "#fdca26"
             ],
             [
              1,
              "#f0f921"
             ]
            ],
            "type": "histogram2dcontour"
           }
          ],
          "mesh3d": [
           {
            "colorbar": {
             "outlinewidth": 0,
             "ticks": ""
            },
            "type": "mesh3d"
           }
          ],
          "parcoords": [
           {
            "line": {
             "colorbar": {
              "outlinewidth": 0,
              "ticks": ""
             }
            },
            "type": "parcoords"
           }
          ],
          "pie": [
           {
            "automargin": true,
            "type": "pie"
           }
          ],
          "scatter": [
           {
            "fillpattern": {
             "fillmode": "overlay",
             "size": 10,
             "solidity": 0.2
            },
            "type": "scatter"
           }
          ],
          "scatter3d": [
           {
            "line": {
             "colorbar": {
              "outlinewidth": 0,
              "ticks": ""
             }
            },
            "marker": {
             "colorbar": {
              "outlinewidth": 0,
              "ticks": ""
             }
            },
            "type": "scatter3d"
           }
          ],
          "scattercarpet": [
           {
            "marker": {
             "colorbar": {
              "outlinewidth": 0,
              "ticks": ""
             }
            },
            "type": "scattercarpet"
           }
          ],
          "scattergeo": [
           {
            "marker": {
             "colorbar": {
              "outlinewidth": 0,
              "ticks": ""
             }
            },
            "type": "scattergeo"
           }
          ],
          "scattergl": [
           {
            "marker": {
             "colorbar": {
              "outlinewidth": 0,
              "ticks": ""
             }
            },
            "type": "scattergl"
           }
          ],
          "scattermapbox": [
           {
            "marker": {
             "colorbar": {
              "outlinewidth": 0,
              "ticks": ""
             }
            },
            "type": "scattermapbox"
           }
          ],
          "scatterpolar": [
           {
            "marker": {
             "colorbar": {
              "outlinewidth": 0,
              "ticks": ""
             }
            },
            "type": "scatterpolar"
           }
          ],
          "scatterpolargl": [
           {
            "marker": {
             "colorbar": {
              "outlinewidth": 0,
              "ticks": ""
             }
            },
            "type": "scatterpolargl"
           }
          ],
          "scatterternary": [
           {
            "marker": {
             "colorbar": {
              "outlinewidth": 0,
              "ticks": ""
             }
            },
            "type": "scatterternary"
           }
          ],
          "surface": [
           {
            "colorbar": {
             "outlinewidth": 0,
             "ticks": ""
            },
            "colorscale": [
             [
              0,
              "#0d0887"
             ],
             [
              0.1111111111111111,
              "#46039f"
             ],
             [
              0.2222222222222222,
              "#7201a8"
             ],
             [
              0.3333333333333333,
              "#9c179e"
             ],
             [
              0.4444444444444444,
              "#bd3786"
             ],
             [
              0.5555555555555556,
              "#d8576b"
             ],
             [
              0.6666666666666666,
              "#ed7953"
             ],
             [
              0.7777777777777778,
              "#fb9f3a"
             ],
             [
              0.8888888888888888,
              "#fdca26"
             ],
             [
              1,
              "#f0f921"
             ]
            ],
            "type": "surface"
           }
          ],
          "table": [
           {
            "cells": {
             "fill": {
              "color": "#EBF0F8"
             },
             "line": {
              "color": "white"
             }
            },
            "header": {
             "fill": {
              "color": "#C8D4E3"
             },
             "line": {
              "color": "white"
             }
            },
            "type": "table"
           }
          ]
         },
         "layout": {
          "annotationdefaults": {
           "arrowcolor": "#2a3f5f",
           "arrowhead": 0,
           "arrowwidth": 1
          },
          "autotypenumbers": "strict",
          "coloraxis": {
           "colorbar": {
            "outlinewidth": 0,
            "ticks": ""
           }
          },
          "colorscale": {
           "diverging": [
            [
             0,
             "#8e0152"
            ],
            [
             0.1,
             "#c51b7d"
            ],
            [
             0.2,
             "#de77ae"
            ],
            [
             0.3,
             "#f1b6da"
            ],
            [
             0.4,
             "#fde0ef"
            ],
            [
             0.5,
             "#f7f7f7"
            ],
            [
             0.6,
             "#e6f5d0"
            ],
            [
             0.7,
             "#b8e186"
            ],
            [
             0.8,
             "#7fbc41"
            ],
            [
             0.9,
             "#4d9221"
            ],
            [
             1,
             "#276419"
            ]
           ],
           "sequential": [
            [
             0,
             "#0d0887"
            ],
            [
             0.1111111111111111,
             "#46039f"
            ],
            [
             0.2222222222222222,
             "#7201a8"
            ],
            [
             0.3333333333333333,
             "#9c179e"
            ],
            [
             0.4444444444444444,
             "#bd3786"
            ],
            [
             0.5555555555555556,
             "#d8576b"
            ],
            [
             0.6666666666666666,
             "#ed7953"
            ],
            [
             0.7777777777777778,
             "#fb9f3a"
            ],
            [
             0.8888888888888888,
             "#fdca26"
            ],
            [
             1,
             "#f0f921"
            ]
           ],
           "sequentialminus": [
            [
             0,
             "#0d0887"
            ],
            [
             0.1111111111111111,
             "#46039f"
            ],
            [
             0.2222222222222222,
             "#7201a8"
            ],
            [
             0.3333333333333333,
             "#9c179e"
            ],
            [
             0.4444444444444444,
             "#bd3786"
            ],
            [
             0.5555555555555556,
             "#d8576b"
            ],
            [
             0.6666666666666666,
             "#ed7953"
            ],
            [
             0.7777777777777778,
             "#fb9f3a"
            ],
            [
             0.8888888888888888,
             "#fdca26"
            ],
            [
             1,
             "#f0f921"
            ]
           ]
          },
          "colorway": [
           "#636efa",
           "#EF553B",
           "#00cc96",
           "#ab63fa",
           "#FFA15A",
           "#19d3f3",
           "#FF6692",
           "#B6E880",
           "#FF97FF",
           "#FECB52"
          ],
          "font": {
           "color": "#2a3f5f"
          },
          "geo": {
           "bgcolor": "white",
           "lakecolor": "white",
           "landcolor": "white",
           "showlakes": true,
           "showland": true,
           "subunitcolor": "#C8D4E3"
          },
          "hoverlabel": {
           "align": "left"
          },
          "hovermode": "closest",
          "mapbox": {
           "style": "light"
          },
          "paper_bgcolor": "white",
          "plot_bgcolor": "white",
          "polar": {
           "angularaxis": {
            "gridcolor": "#EBF0F8",
            "linecolor": "#EBF0F8",
            "ticks": ""
           },
           "bgcolor": "white",
           "radialaxis": {
            "gridcolor": "#EBF0F8",
            "linecolor": "#EBF0F8",
            "ticks": ""
           }
          },
          "scene": {
           "xaxis": {
            "backgroundcolor": "white",
            "gridcolor": "#DFE8F3",
            "gridwidth": 2,
            "linecolor": "#EBF0F8",
            "showbackground": true,
            "ticks": "",
            "zerolinecolor": "#EBF0F8"
           },
           "yaxis": {
            "backgroundcolor": "white",
            "gridcolor": "#DFE8F3",
            "gridwidth": 2,
            "linecolor": "#EBF0F8",
            "showbackground": true,
            "ticks": "",
            "zerolinecolor": "#EBF0F8"
           },
           "zaxis": {
            "backgroundcolor": "white",
            "gridcolor": "#DFE8F3",
            "gridwidth": 2,
            "linecolor": "#EBF0F8",
            "showbackground": true,
            "ticks": "",
            "zerolinecolor": "#EBF0F8"
           }
          },
          "shapedefaults": {
           "line": {
            "color": "#2a3f5f"
           }
          },
          "ternary": {
           "aaxis": {
            "gridcolor": "#DFE8F3",
            "linecolor": "#A2B1C6",
            "ticks": ""
           },
           "baxis": {
            "gridcolor": "#DFE8F3",
            "linecolor": "#A2B1C6",
            "ticks": ""
           },
           "bgcolor": "white",
           "caxis": {
            "gridcolor": "#DFE8F3",
            "linecolor": "#A2B1C6",
            "ticks": ""
           }
          },
          "title": {
           "x": 0.05
          },
          "xaxis": {
           "automargin": true,
           "gridcolor": "#EBF0F8",
           "linecolor": "#EBF0F8",
           "ticks": "",
           "title": {
            "standoff": 15
           },
           "zerolinecolor": "#EBF0F8",
           "zerolinewidth": 2
          },
          "yaxis": {
           "automargin": true,
           "gridcolor": "#EBF0F8",
           "linecolor": "#EBF0F8",
           "ticks": "",
           "title": {
            "standoff": 15
           },
           "zerolinecolor": "#EBF0F8",
           "zerolinewidth": 2
          }
         }
        },
        "title": {
         "text": "Comparison of Top1 vs TopK Cosine Similarities Across Datasets"
        },
        "xaxis": {
         "tickmode": "array",
         "tickvals": [
          1,
          2,
          3,
          4,
          5,
          6,
          7,
          8,
          9,
          10,
          11,
          12,
          13,
          14,
          15,
          16,
          17,
          18,
          19,
          20,
          21,
          22,
          23,
          24,
          25,
          26,
          27
         ],
         "title": {
          "text": "Layer"
         }
        },
        "yaxis": {
         "range": [
          0,
          1
         ],
         "title": {
          "text": "Average Cosine Similarity"
         }
        }
       }
      }
     },
     "metadata": {},
     "output_type": "display_data"
    }
   ],
   "source": [
    "# Plot combined graph for all datasets\n",
    "combined_fig = plot_combined_similarities(base_name)\n",
    "combined_fig.show()"
   ]
  },
  {
   "cell_type": "code",
   "execution_count": null,
   "metadata": {},
   "outputs": [],
   "source": []
  }
 ],
 "metadata": {
  "kernelspec": {
   "display_name": "ai_env",
   "language": "python",
   "name": "python3"
  },
  "language_info": {
   "codemirror_mode": {
    "name": "ipython",
    "version": 3
   },
   "file_extension": ".py",
   "mimetype": "text/x-python",
   "name": "python",
   "nbconvert_exporter": "python",
   "pygments_lexer": "ipython3",
   "version": "3.10.13"
  }
 },
 "nbformat": 4,
 "nbformat_minor": 2
}
