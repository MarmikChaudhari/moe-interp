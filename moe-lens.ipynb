{
 "cells": [
  {
   "cell_type": "code",
   "execution_count": 1,
   "metadata": {},
   "outputs": [],
   "source": [
    "from transformers import AutoModelForCausalLM, AutoTokenizer\n",
    "import torch\n",
    "import plotly.express as px\n",
    "import plotly.graph_objects as go\n",
    "import numpy as np\n",
    "import os\n",
    "from typing import Dict, List, Tuple\n",
    "from collections import defaultdict"
   ]
  },
  {
   "cell_type": "code",
   "execution_count": 2,
   "metadata": {},
   "outputs": [
    {
     "data": {
      "application/vnd.jupyter.widget-view+json": {
       "model_id": "efffb73c117840718d4b505f7f7b8204",
       "version_major": 2,
       "version_minor": 0
      },
      "text/plain": [
       "Loading checkpoint shards:   0%|          | 0/7 [00:00<?, ?it/s]"
      ]
     },
     "metadata": {},
     "output_type": "display_data"
    }
   ],
   "source": [
    "def load_model(model_name):\n",
    "    model = AutoModelForCausalLM.from_pretrained(\n",
    "        model_name,\n",
    "        torch_dtype=torch.float16,\n",
    "        trust_remote_code=True,\n",
    "        # use_flash_attention_2=True,\n",
    "    )\n",
    "    tokenizer = AutoTokenizer.from_pretrained(model_name)\n",
    "    return model, tokenizer\n",
    "\n",
    "model, tokenizer = load_model(\"deepseek-ai/deepseek-moe-16b-base\")"
   ]
  },
  {
   "cell_type": "code",
   "execution_count": 3,
   "metadata": {},
   "outputs": [],
   "source": [
    "def get_top_k_tokens(hidden_states: torch.Tensor, lm_head: torch.nn.Linear, tokenizer, k: int = 5) -> List[Tuple[str, float]]:\n",
    "    \"\"\" get topk tokens from hidden states using lm head \"\"\"\n",
    "    with torch.no_grad():\n",
    "        # Ensure hidden_states has at least 2 dimensions (batch_size, num_tokens, hidden_dim)\n",
    "        if hidden_states.dim() == 2:\n",
    "            hidden_states = hidden_states.unsqueeze(0)  # Add batch dimension\n",
    "        logits = lm_head(hidden_states)  # (batch_size, num_tokens, vocab_size)\n",
    "    \n",
    "    # Get top-k tokens\n",
    "    scores, token_ids = torch.topk(logits, k=k, dim=-1)  # (batch_size, num_tokens, k)\n",
    "    \n",
    "    # Decode tokens and collect results for each position\n",
    "    results = []\n",
    "    for pos in range(scores.size(1)):  # Iterate over token positions\n",
    "        pos_results = []\n",
    "        for i in range(k):\n",
    "            token = tokenizer.decode(token_ids[0, pos, i])  # Decode token for this position\n",
    "            score = scores[0, pos, i].item()  # Get score for this position\n",
    "            pos_results.append((token, score))\n",
    "        results.append(pos_results)\n",
    "    \n",
    "    return results"
   ]
  },
  {
   "cell_type": "code",
   "execution_count": 4,
   "metadata": {},
   "outputs": [],
   "source": [
    "class DeepseekLayerAnalyzer:\n",
    "    def __init__(self, model, tokenizer):\n",
    "        self.model = model\n",
    "        self.tokenizer = tokenizer\n",
    "        self.layer_outputs = defaultdict(list)\n",
    "        self.moe_gate_outputs = defaultdict(list)\n",
    "        self.moe_combined_outputs = defaultdict(list)\n",
    "        self.expert_outputs = defaultdict(lambda: defaultdict(list))\n",
    "        self.shared_expert_outputs = defaultdict(list)\n",
    "        self.hooks = []\n",
    "        \n",
    "    def register_hooks(self):\n",
    "        \"\"\"Register hooks for layer outputs and MoE combination points\"\"\"\n",
    "        \n",
    "        def layer_output_hook(layer_idx):\n",
    "            def hook(module, inputs, outputs):\n",
    "                \"\"\"Hook for capturing layer outputs\"\"\"\n",
    "                hidden_states = outputs[0] if isinstance(outputs, tuple) else outputs\n",
    "                self.layer_outputs[layer_idx].append(hidden_states.detach())\n",
    "            return hook\n",
    "\n",
    "        def moe_gate_hook(layer_idx):\n",
    "            def hook(module, inputs, outputs):\n",
    "                \"\"\"Hook for capturing MoE gate outputs before expert computation\"\"\"\n",
    "                # Capture topk_idx, topk_weight, and aux_loss from gate outputs\n",
    "                if isinstance(outputs, tuple):\n",
    "                    topk_idx, topk_weight, aux_loss = outputs\n",
    "                    self.moe_gate_outputs[layer_idx].append({\n",
    "                        'topk_idx': topk_idx.detach(),\n",
    "                        'topk_weight': topk_weight.detach(),\n",
    "                        'aux_loss': aux_loss.detach() if aux_loss is not None else None\n",
    "                    })\n",
    "            return hook\n",
    "\n",
    "        def expert_hook(layer_idx, expert_idx):\n",
    "            def hook(module, inputs, outputs):\n",
    "                # Get the latest gate outputs for this layer\n",
    "                if not self.moe_gate_outputs[layer_idx]:\n",
    "                    return print(f'no gate outputs for layer {layer_idx}')\n",
    "                    \n",
    "                gate_data = self.moe_gate_outputs[layer_idx][-1]\n",
    "                \n",
    "                # Handle 2D or 3D tensor shapes\n",
    "                if len(gate_data['topk_idx'].shape) == 2:\n",
    "                    batch_size = 1\n",
    "                    seq_len, top_k = gate_data['topk_idx'].shape\n",
    "                else:\n",
    "                    batch_size, seq_len, top_k = gate_data['topk_idx'].shape\n",
    "                    \n",
    "                \n",
    "                # Get mask for tokens where this expert was selected\n",
    "                expert_mask = (gate_data['topk_idx'] == expert_idx)                \n",
    "                # Flatten and find positions where this expert was selected\n",
    "                selected_positions = torch.nonzero(expert_mask, as_tuple=True)\n",
    "                # If no tokens selected this expert, skip\n",
    "                if selected_positions[0].numel() == 0:\n",
    "                    return\n",
    "                    \n",
    "                # Get the actual inputs routed to this expert\n",
    "                # Inputs[0] shape: (total_selected_tokens, hidden_dim)\n",
    "                # We need to verify these correspond to the gate's selection\n",
    "                total_selected = inputs[0].shape[0] \n",
    "                # Validate we're processing the correct number of tokens\n",
    "                expected_selected = expert_mask.sum().item()\n",
    "                if total_selected != expected_selected:\n",
    "                    print(f\" expert {expert_idx} processed {total_selected} tokens but expected {expected_selected}\")\n",
    "                    return\n",
    "                    \n",
    "                # Record only if we have matching selections\n",
    "                # Store position information along with the outputs\n",
    "                for pos_idx, pos in enumerate(selected_positions[0]):\n",
    "                    self.expert_outputs[layer_idx][expert_idx].append({\n",
    "                        'position': pos.item(),\n",
    "                        'input': inputs[0][pos_idx].detach(),\n",
    "                        'output': outputs[pos_idx].detach()\n",
    "                    })\n",
    "            return hook\n",
    "\n",
    "        def shared_expert_hook(layer_idx):\n",
    "            def hook(module, inputs, outputs):\n",
    "                \"\"\"Hook for capturing shared expert outputs\"\"\"\n",
    "                self.shared_expert_outputs[layer_idx].append({\n",
    "                    'input': inputs[0].detach(),\n",
    "                    'output': outputs.detach()\n",
    "                })\n",
    "            return hook\n",
    "\n",
    "        def moe_combine_hook(layer_idx):\n",
    "            def hook(module, inputs, outputs):\n",
    "                \"\"\"Hook for capturing final combined MoE outputs\"\"\"\n",
    "                # For DeepseekMoE, this captures the weighted sum of expert outputs\n",
    "                self.moe_combined_outputs[layer_idx].append({\n",
    "                    'combined_output': outputs.detach(),\n",
    "                    'input': inputs[0].detach()  # Original input before MoE\n",
    "                })\n",
    "            return hook\n",
    "\n",
    "        # Register hooks for each layer\n",
    "        for layer_idx, layer in enumerate(self.model.model.layers):\n",
    "            # Hook for layer output\n",
    "            hook = layer.register_forward_hook(layer_output_hook(layer_idx))\n",
    "            self.hooks.append(hook)\n",
    "            \n",
    "            # If it's an MoE layer, add MoE-specific hooks\n",
    "            if hasattr(layer.mlp, 'experts'):\n",
    "                # Hook for gate mechanism\n",
    "                gate_hook = layer.mlp.gate.register_forward_hook(moe_gate_hook(layer_idx))\n",
    "                self.hooks.append(gate_hook)\n",
    "                \n",
    "                # Hook for each expert\n",
    "                for expert_idx, expert in enumerate(layer.mlp.experts):\n",
    "                    expert_hook_fn = expert.register_forward_hook(expert_hook(layer_idx, expert_idx))\n",
    "                    self.hooks.append(expert_hook_fn)\n",
    "\n",
    "                # Hook for shared expert if it exists\n",
    "                if hasattr(layer.mlp, 'shared_experts'):\n",
    "                    shared_hook = layer.mlp.shared_experts.register_forward_hook(shared_expert_hook(layer_idx))\n",
    "                    self.hooks.append(shared_hook)\n",
    "                \n",
    "                # Hook for final combined output\n",
    "                combine_hook = layer.mlp.register_forward_hook(moe_combine_hook(layer_idx))\n",
    "                self.hooks.append(combine_hook)\n",
    "\n",
    "    def analyze_tokens(self, input_ids: torch.Tensor, return_hidden_states: bool = False) -> Dict:\n",
    "        \"\"\" run inference and analyze tokens at each layer and expert combination point \"\"\"\n",
    "        # Clear previous results\n",
    "        self.layer_outputs.clear()\n",
    "        self.moe_gate_outputs.clear()\n",
    "        self.moe_combined_outputs.clear()\n",
    "        self.expert_outputs.clear()\n",
    "        self.shared_expert_outputs.clear()\n",
    "        \n",
    "        # Forward pass\n",
    "        with torch.no_grad():\n",
    "            outputs = self.model(input_ids)\n",
    "        \n",
    "        results = {\n",
    "            'layer_predictions': {},\n",
    "            'moe_analysis': {},\n",
    "            'hidden_states': {} if return_hidden_states else None\n",
    "        }\n",
    "        \n",
    "        # Analyze layer outputs\n",
    "        for layer_idx, outputs in self.layer_outputs.items():\n",
    "            if not outputs:  # Skip if no outputs captured\n",
    "                continue\n",
    "            hidden_states = outputs[-1]  # Get last captured output\n",
    "            \n",
    "            # Get token predictions for this layer\n",
    "            top_tokens = get_top_k_tokens(hidden_states, self.model.lm_head, self.tokenizer)\n",
    "            results['layer_predictions'][layer_idx] = top_tokens\n",
    "            \n",
    "            if return_hidden_states:\n",
    "                results['hidden_states'][f'layer_{layer_idx}'] = hidden_states\n",
    "        \n",
    "        # Analyze MoE layers\n",
    "        for layer_idx in self.moe_gate_outputs.keys():\n",
    "            if not self.moe_gate_outputs[layer_idx]:\n",
    "                continue\n",
    "                \n",
    "            gate_data = self.moe_gate_outputs[layer_idx][-1]  # Get last captured data\n",
    "            combined_data = self.moe_combined_outputs[layer_idx][-1]\n",
    "            \n",
    "            # Initialize predictions dictionary by position\n",
    "            expert_predictions_by_pos = defaultdict(dict)\n",
    "            \n",
    "            # Process expert outputs by position\n",
    "            for expert_idx, data_list in self.expert_outputs[layer_idx].items():\n",
    "                for data in data_list:\n",
    "                    position = data['position']\n",
    "                    # Get predictions for this expert's output at this position\n",
    "                    predictions = get_top_k_tokens(\n",
    "                        data['output'].unsqueeze(0),\n",
    "                        self.model.lm_head,\n",
    "                        self.tokenizer\n",
    "                    )\n",
    "                    expert_predictions_by_pos[position][expert_idx] = predictions[0]  # [0] because we only have one prediction set\n",
    "            \n",
    "            # Get predictions for shared expert if it exists\n",
    "            if self.shared_expert_outputs[layer_idx]:\n",
    "                shared_expert_predictions = get_top_k_tokens(\n",
    "                    self.shared_expert_outputs[layer_idx][-1]['output'],\n",
    "                    self.model.lm_head,\n",
    "                    self.tokenizer\n",
    "                )\n",
    "            \n",
    "            # Analyze expert selection and combination\n",
    "            experts_analysis = {\n",
    "                'selected_experts': gate_data['topk_idx'].tolist(),\n",
    "                'expert_weights': gate_data['topk_weight'].tolist(),\n",
    "                'aux_loss': gate_data['aux_loss'].item() if gate_data['aux_loss'] is not None else None,\n",
    "                'expert_predictions_by_position': dict(expert_predictions_by_pos),\n",
    "                'shared_expert_predictions': shared_expert_predictions\n",
    "            }\n",
    "            \n",
    "            # Get token predictions from combined output\n",
    "            combined_tokens = get_top_k_tokens(\n",
    "                combined_data['combined_output'], \n",
    "                self.model.lm_head,\n",
    "                self.tokenizer\n",
    "            )\n",
    "            \n",
    "            experts_analysis['combined_output_tokens'] = combined_tokens\n",
    "            results['moe_analysis'][layer_idx] = experts_analysis\n",
    "\n",
    "        return results\n",
    "    \n",
    "    def cleanup(self):\n",
    "        \"\"\"remove all registered hooks\"\"\"\n",
    "        for hook in self.hooks:\n",
    "            hook.remove()\n",
    "        self.hooks.clear()\n",
    "\n",
    "def analyze_deepseek_moe(model, tokenizer, input_text: str, return_hidden_states: bool = False):\n",
    "    \"\"\" analyze DeepSeek MoE model behavior for given input text \"\"\"\n",
    "    analyzer = DeepseekLayerAnalyzer(model, tokenizer)\n",
    "    analyzer.register_hooks()\n",
    "    \n",
    "    input_ids = tokenizer(input_text, return_tensors=\"pt\").input_ids\n",
    "    \n",
    "    try:\n",
    "        results = analyzer.analyze_tokens(input_ids, return_hidden_states=return_hidden_states)\n",
    "        return results\n",
    "    finally:\n",
    "        analyzer.cleanup()  "
   ]
  },
  {
   "cell_type": "code",
   "execution_count": 5,
   "metadata": {},
   "outputs": [],
   "source": [
    "analysis = analyze_deepseek_moe(\n",
    "    model, \n",
    "    tokenizer,\n",
    "    \"the capital of the united states is\"\n",
    ")   "
   ]
  },
  {
   "cell_type": "code",
   "execution_count": 6,
   "metadata": {},
   "outputs": [],
   "source": [
    "# Access layer predictions\n",
    "# for layer_idx, preds in analysis['layer_predictions'].items():\n",
    "#     print(f\"Layer {layer_idx} predictions:\", preds)\n",
    "\n",
    "# # Access MoE analysis\n",
    "# for layer_idx, moe_data in analysis['moe_analysis'].items():\n",
    "#     print(f\"\\nMoE Layer {layer_idx}:\")\n",
    "#     print(\"Selected experts:\", moe_data['selected_experts'])\n",
    "#     print(\"Expert weights:\", moe_data['expert_weights'])\n",
    "#     print(\"Combined output tokens:\", moe_data['combined_output_tokens'])\n",
    "#     print(\"Expert predictions by position:\", moe_data['expert_predictions_by_position'])\n",
    "#     print(\"Shared expert predictions:\", moe_data['shared_expert_predictions'])"
   ]
  },
  {
   "cell_type": "code",
   "execution_count": 7,
   "metadata": {},
   "outputs": [],
   "source": [
    "def get_layer_predictions_for_token(results: dict, layer_idx: int, token_pos: int) -> list:\n",
    "    # Ensure the layer exists in the results\n",
    "    if layer_idx not in results['layer_predictions']:\n",
    "        raise ValueError(f\"Layer {layer_idx} not found in the results.\")\n",
    "\n",
    "    # Get the layer predictions for the specified token position\n",
    "    layer_predictions = results['layer_predictions'][layer_idx][token_pos]\n",
    "    \n",
    "    # Return top 5 predictions\n",
    "    return layer_predictions[:5]\n",
    "\n",
    "def get_shared_expert_predictions_for_token(results: dict, layer_idx: int, token_pos: int) -> list:\n",
    "    # Ensure the layer exists in the results\n",
    "    if layer_idx not in results['moe_analysis']:\n",
    "        raise ValueError(f\"Layer {layer_idx} not found in the results.\")\n",
    "\n",
    "    # Get the MoE analysis for the specified layer\n",
    "    moe_analysis = results['moe_analysis'][layer_idx]\n",
    "\n",
    "    # Get the shared expert predictions for the specified token position\n",
    "    shared_predictions = moe_analysis['shared_expert_predictions'][token_pos]\n",
    "    \n",
    "    # Return top 5 predictions\n",
    "    return shared_predictions[:5]\n",
    "\n",
    "def get_expert_preds(results: dict, layer_idx: int, token_pos: int) -> list:\n",
    "    # Ensure the layer exists in the results\n",
    "    if layer_idx not in results['moe_analysis']:\n",
    "        raise ValueError(f\"Layer {layer_idx} not found in the MoE analysis results.\")\n",
    "        \n",
    "    # Get the MoE analysis for the specified layer\n",
    "    expert_preds = []\n",
    "    moe_analysis = results['moe_analysis'][layer_idx]\n",
    "    expert_predictions = moe_analysis['expert_predictions_by_position']\n",
    "    expert_toks = expert_predictions[token_pos]\n",
    "\n",
    "    for expert_idx, preds in expert_toks.items():\n",
    "        print(f'expert {expert_idx} : {preds}')\n",
    "        expert_preds.append((int(expert_idx), preds))\n",
    "\n",
    "    expert_preds = sorted(expert_preds, key=lambda x: x[0])\n",
    "        \n",
    "    return expert_preds"
   ]
  },
  {
   "cell_type": "code",
   "execution_count": 8,
   "metadata": {},
   "outputs": [
    {
     "name": "stdout",
     "output_type": "stream",
     "text": [
      "expert 31 : [(' with', 0.2666015625), (' as', 0.25244140625), (' and', 0.2509765625), (' primary', 0.232666015625), ('高于', 0.228515625)]\n",
      "expert 33 : [('�', 2.34765625), ('Kind', 1.9462890625), ('ano', 1.9091796875), (' Arabia', 1.8212890625), ('kind', 1.791015625)]\n",
      "expert 39 : [('1', 0.103515625), ('6', 0.09796142578125), ('2', 0.09716796875), ('4', 0.09698486328125), ('7', 0.09674072265625)]\n",
      "expert 40 : [(' regarding', 144.25), (' Down', 131.0), ('anys', 128.625), (' relating', 125.25), ('allot', 122.1875)]\n",
      "expert 45 : [(' stable', 0.58642578125), (' comm', 0.5537109375), ('�', 0.533203125), ('ipus', 0.52294921875), ('ter', 0.51806640625)]\n",
      "expert 57 : [('and', 0.08404541015625), ('b', 0.081787109375), ('con', 0.0731201171875), ('ol', 0.07183837890625), ('ul', 0.071044921875)]\n",
      "layer_preds : [('�', 21.484375), (' Hague', 20.59375), ('WER', 19.328125), (' SEA', 18.75), ('ISAM', 18.53125)]\n",
      "shared_preds : [(' ', 2.54296875), (' involving', 2.533203125), ('0', 2.35546875), (' u', 2.341796875), (' ev', 2.30078125)]\n",
      "expert_preds : [(31, [(' with', 0.2666015625), (' as', 0.25244140625), (' and', 0.2509765625), (' primary', 0.232666015625), ('高于', 0.228515625)]), (33, [('�', 2.34765625), ('Kind', 1.9462890625), ('ano', 1.9091796875), (' Arabia', 1.8212890625), ('kind', 1.791015625)]), (39, [('1', 0.103515625), ('6', 0.09796142578125), ('2', 0.09716796875), ('4', 0.09698486328125), ('7', 0.09674072265625)]), (40, [(' regarding', 144.25), (' Down', 131.0), ('anys', 128.625), (' relating', 125.25), ('allot', 122.1875)]), (45, [(' stable', 0.58642578125), (' comm', 0.5537109375), ('�', 0.533203125), ('ipus', 0.52294921875), ('ter', 0.51806640625)]), (57, [('and', 0.08404541015625), ('b', 0.081787109375), ('con', 0.0731201171875), ('ol', 0.07183837890625), ('ul', 0.071044921875)])]\n"
     ]
    }
   ],
   "source": [
    "layer_idx = 26\n",
    "token_pos = 0\n",
    "layer_preds = get_layer_predictions_for_token(analysis, layer_idx=layer_idx, token_pos=token_pos)\n",
    "shared_preds = get_shared_expert_predictions_for_token(analysis, layer_idx=layer_idx, token_pos=token_pos)\n",
    "expert_preds = get_expert_preds(analysis, layer_idx=layer_idx, token_pos=token_pos)\n",
    "\n",
    "print(f'layer_preds : {layer_preds}')\n",
    "print(f'shared_preds : {shared_preds}')\n",
    "print(f'expert_preds : {expert_preds}')"
   ]
  },
  {
   "cell_type": "code",
   "execution_count": 9,
   "metadata": {},
   "outputs": [],
   "source": [
    "def create_logit_lens_viz(analysis_results, token_pos=0):\n",
    "    \"\"\"Creates a heatmap visualization of predictions across model layers.\n",
    "    \n",
    "    Args:\n",
    "        analysis_results: Dictionary containing layer predictions and MoE analysis\n",
    "        token_pos: Token position to analyze (default 0)\n",
    "    \"\"\"\n",
    "    # Initialize data structure\n",
    "    n_layers = max(analysis_results['layer_predictions'].keys()) + 1\n",
    "    x_positions = []  # Will store x-axis positions\n",
    "    y_positions = []  # Will store layer numbers\n",
    "    values = []      # Will store prediction scores\n",
    "    hover_texts = [] # Will store hover text with top 5 predictions\n",
    "\n",
    "    # Process each layer\n",
    "    for layer in range(n_layers):\n",
    "        # Layer predictions\n",
    "        layer_preds = get_layer_predictions_for_token(analysis_results, layer, token_pos)\n",
    "        x_positions.append(0)  # Layer output is at x=0\n",
    "        y_positions.append(layer)\n",
    "        values.append(layer_preds[0][1])  # Use score from top prediction\n",
    "        hover_text = \"<br>\".join([f\"{pred[0]}: {pred[1]:.3f}\" for pred in layer_preds])\n",
    "        hover_texts.append(f\"Layer {layer} Output:<br>{hover_text}\")\n",
    "\n",
    "        # Expert predictions if available\n",
    "        if layer in analysis_results['moe_analysis']:\n",
    "            expert_preds = get_expert_preds(analysis_results, layer, token_pos)\n",
    "            for expert_idx, preds in expert_preds:\n",
    "                x_positions.append(expert_idx + 1)  # Offset by 1 to account for layer output\n",
    "                y_positions.append(layer)\n",
    "                values.append(preds[0][1])  # Use score from top prediction\n",
    "                hover_text = \"<br>\".join([f\"{pred[0]}: {pred[1]:.3f}\" for pred in preds])\n",
    "                hover_texts.append(f\"Layer {layer} Expert {expert_idx}:<br>{hover_text}\")\n",
    "\n",
    "            # Shared expert predictions\n",
    "            shared_preds = get_shared_expert_predictions_for_token(analysis_results, layer, token_pos)\n",
    "            x_positions.append(65)  # Put shared experts after individual experts\n",
    "            y_positions.append(layer)\n",
    "            values.append(shared_preds[0][1])  # Use score from top prediction\n",
    "            hover_text = \"<br>\".join([f\"{pred[0]}: {pred[1]:.3f}\" for pred in shared_preds])\n",
    "            hover_texts.append(f\"Layer {layer} Shared Experts:<br>{hover_text}\")\n",
    "\n",
    "    # Create heatmap with larger square markers and no grid lines\n",
    "    fig = go.Figure(data=go.Scatter(\n",
    "        x=x_positions,\n",
    "        y=y_positions,\n",
    "        mode='markers',\n",
    "        marker=dict(\n",
    "            size=20,  # Increased marker size\n",
    "            symbol='square',\n",
    "            color=values,\n",
    "            colorscale='Viridis',\n",
    "            showscale=True,\n",
    "            colorbar=dict(title='logit value')\n",
    "        ),\n",
    "        text=hover_texts,\n",
    "        hoverinfo='text'\n",
    "    ))\n",
    "\n",
    "    # Update layout with no grid lines\n",
    "    fig.update_layout(\n",
    "        title='Expert Contributions and Predictions for Token Position ' + str(token_pos),\n",
    "        xaxis_title='layer output | routed experts | shared experts',\n",
    "        yaxis_title='Layer',\n",
    "        xaxis=dict(\n",
    "            ticktext=['l_out'] + [f' {i}' for i in range(64)] + ['shared experts'],\n",
    "            tickvals=[0] + list(range(1, 65)) + [65],\n",
    "            tickangle=45,\n",
    "            showgrid=False  # Removed grid lines\n",
    "        ),\n",
    "        yaxis=dict(\n",
    "            autorange='reversed',  # Put layer 0 at the top\n",
    "            showgrid=False  # Removed grid lines\n",
    "        ),\n",
    "        height=1000,\n",
    "        width=1800,\n",
    "        plot_bgcolor='black',\n",
    "        paper_bgcolor='black',\n",
    "        font=dict(color='white')\n",
    "    )\n",
    "\n",
    "    return fig"
   ]
  },
  {
   "cell_type": "code",
   "execution_count": 14,
   "metadata": {},
   "outputs": [
    {
     "name": "stdout",
     "output_type": "stream",
     "text": [
      "expert 4 : [('姆斯', 0.485595703125), ('RIB', 0.43896484375), ('ece', 0.427978515625), ('нан', 0.420166015625), ('ovi', 0.39453125)]\n",
      "expert 14 : [('eso', 0.1871337890625), ('ebly', 0.1788330078125), ('чик', 0.17724609375), ('光灯', 0.177001953125), ('�', 0.1756591796875)]\n",
      "expert 30 : [('жите', 0.046630859375), ('赵丽', 0.03875732421875), ('стики', 0.037109375), ('FTWARE', 0.0362548828125), ('зина', 0.035614013671875)]\n",
      "expert 36 : [(' yourselves', 0.0718994140625), ('�起', 0.06988525390625), ('те', 0.06427001953125), ('ENTR', 0.06396484375), ('登', 0.06390380859375)]\n",
      "expert 44 : [('наги', 0.01904296875), ('ondin', 0.01690673828125), ('рад', 0.01654052734375), ('хия', 0.01605224609375), (' pude', 0.015960693359375)]\n",
      "expert 45 : [('�', 0.019744873046875), ('ontal', 0.0191497802734375), ('vinguda', 0.0184173583984375), ('nech', 0.01812744140625), ('FieldLocation', 0.0169830322265625)]\n",
      "expert 7 : [('reso', 0.1539306640625), ('resos', 0.1416015625), ('ublic', 0.126220703125), ('ques', 0.1259765625), ('ove', 0.124267578125)]\n",
      "expert 8 : [('джан', 0.04412841796875), ('ril', 0.0406494140625), (' пропа', 0.04034423828125), ('comparable', 0.03924560546875), (' sorge', 0.038726806640625)]\n",
      "expert 12 : [('тист', 0.040618896484375), ('ждат', 0.03521728515625), ('brevi', 0.035125732421875), (' Там', 0.03460693359375), ('veless', 0.034393310546875)]\n",
      "expert 50 : [(' /', 0.1318359375), ('/', 0.12457275390625), ('2', 0.116943359375), ('4', 0.1148681640625), ('3', 0.11297607421875)]\n",
      "expert 57 : [('rrrr', 0.046112060546875), ('rrr', 0.04351806640625), ('rr', 0.042816162109375), ('wanted', 0.03961181640625), ('rz', 0.039154052734375)]\n",
      "expert 61 : [('ster', 0.0078277587890625), ('ografies', 0.007389068603515625), ('�', 0.007293701171875), ('ymer', 0.006450653076171875), ('复印', 0.006420135498046875)]\n",
      "expert 0 : [('substack', 0.406494140625), ('vnd', 0.384521484375), ('revoc', 0.35498046875), ('渣', 0.34375), ('shw', 0.337890625)]\n",
      "expert 25 : [('жене', 0.046783447265625), ('泡', 0.04205322265625), ('quad', 0.03668212890625), ('arcy', 0.0364990234375), ('0', 0.0364990234375)]\n",
      "expert 29 : [(' propied', 0.117431640625), ('refn', 0.1119384765625), ('YPT', 0.094970703125), ('cassiopeia', 0.0921630859375), (' repartia', 0.09002685546875)]\n",
      "expert 55 : [('erella', 0.0556640625), ('华声', 0.05548095703125), (' Seny', 0.052093505859375), ('输', 0.052032470703125), (' ferit', 0.0517578125)]\n",
      "expert 60 : [('温', 0.23583984375), (' Weight', 0.1912841796875), ('omet', 0.1905517578125), (' Antoni', 0.1875), ('oil', 0.1864013671875)]\n",
      "expert 63 : [('obre', 0.1375732421875), ('->__', 0.137451171875), ('itzacions', 0.133544921875), ('gena', 0.13330078125), (' historik', 0.13037109375)]\n",
      "expert 2 : [('arp', 0.08660888671875), ('лек', 0.08331298828125), ('quita', 0.07818603515625), ('tig', 0.0772705078125), ('indis', 0.0765380859375)]\n",
      "expert 7 : [('__.', 0.178466796875), ('зон', 0.17626953125), (' Коста', 0.17431640625), ('xid', 0.1728515625), ('кус', 0.1705322265625)]\n",
      "expert 30 : [('тера', 0.060943603515625), ('�', 0.060333251953125), (' Aud', 0.057525634765625), ('|\\\\\\\\', 0.05657958984375), ('插', 0.055755615234375)]\n",
      "expert 43 : [('itures', 0.006290435791015625), ('��', 0.00628662109375), ('endas', 0.00601959228515625), ('plural', 0.0059967041015625), ('avers', 0.005992889404296875)]\n",
      "expert 49 : [(' mans', 0.29833984375), ('睁', 0.27587890625), ('trac', 0.27490234375), ('�', 0.267578125), ('lege', 0.25)]\n",
      "expert 52 : [('1', 0.241943359375), ('0', 0.23681640625), ('7', 0.2274169921875), ('юр', 0.2264404296875), ('4', 0.2203369140625)]\n",
      "expert 19 : [('ард', 0.1951904296875), ('mount', 0.1846923828125), ('ystick', 0.181396484375), ('ead', 0.1790771484375), ('ixt', 0.1734619140625)]\n",
      "expert 30 : [('Provided', 0.25927734375), ('Spec', 0.2568359375), ('arlas', 0.25244140625), (' ff', 0.23779296875), ('пуска', 0.23486328125)]\n",
      "expert 37 : [('vell', 0.271240234375), ('ides', 0.230224609375), ('istani', 0.2255859375), ('inian', 0.21533203125), ('不觉', 0.2120361328125)]\n",
      "expert 48 : [('lander', 0.42041015625), ('inguish', 0.368408203125), ('xit', 0.35791015625), ('jador', 0.35546875), ('meck', 0.3515625)]\n",
      "expert 57 : [('ouri', 0.38427734375), ('цбург', 0.34375), ('��', 0.334716796875), ('oprocessing', 0.322265625), ('ovna', 0.314697265625)]\n",
      "expert 58 : [('rake', 0.37060546875), ('ationals', 0.347412109375), ('ubs', 0.34423828125), ('atori', 0.332763671875), ('cha', 0.322998046875)]\n",
      "expert 4 : [('inux', 0.132568359375), ('ayout', 0.10540771484375), ('lemagne', 0.10162353515625), ('гани', 0.1002197265625), ('登', 0.09765625)]\n",
      "expert 47 : [('Thelia', 0.11944580078125), ('FUNCPTR', 0.109375), ('AVA', 0.10675048828125), (' searchBox', 0.10394287109375), ('WHM', 0.10235595703125)]\n",
      "expert 50 : [('–', 0.407470703125), ('…', 0.37255859375), ('ra', 0.371826171875), ('side', 0.359375), (' i', 0.354736328125)]\n",
      "expert 57 : [('altar', 0.646484375), ('emark', 0.599609375), ('ype', 0.57861328125), ('cmark', 0.564453125), ('牙', 0.564453125)]\n",
      "expert 60 : [('舒', 0.17431640625), ('idat', 0.172607421875), (' pe', 0.169921875), ('ER', 0.1683349609375), ('subjects', 0.1671142578125)]\n",
      "expert 63 : [('рал', 0.078369140625), ('рат', 0.07757568359375), ('场', 0.07281494140625), ('uest', 0.07275390625), ('ales', 0.07196044921875)]\n",
      "expert 9 : [('STR', 0.1934814453125), ('itzar', 0.1884765625), ('orem', 0.1875), ('贷', 0.182861328125), ('сет', 0.182373046875)]\n",
      "expert 14 : [('arget', 0.1820068359375), ('нома', 0.1624755859375), ('leton', 0.15673828125), ('Pad', 0.14990234375), ('geons', 0.143798828125)]\n",
      "expert 37 : [('ofer', 0.332275390625), (' **:', 0.3291015625), ('utat', 0.32568359375), ('ilde', 0.322998046875), ('Jac', 0.316650390625)]\n",
      "expert 38 : [('��', 0.166015625), ('nees', 0.1541748046875), ('立', 0.1490478515625), (' alt', 0.14892578125), ('рев', 0.148681640625)]\n",
      "expert 59 : [('idelines', 0.27783203125), ('PROTOBUF', 0.274169921875), ('enerated', 0.272216796875), ('евру', 0.23974609375), ('ylvan', 0.2388916015625)]\n",
      "expert 63 : [('*}[', 0.343017578125), ('писание', 0.3408203125), ('chrift', 0.31396484375), ('kos', 0.305908203125), (' коле', 0.293212890625)]\n",
      "expert 3 : [('sman', 0.2333984375), ('olat', 0.230224609375), ('amic', 0.203857421875), ('inently', 0.19677734375), ('固定', 0.1964111328125)]\n",
      "expert 5 : [('PIO', 0.1455078125), ('图片发自简书', 0.1368408203125), ('辩', 0.133056640625), ('groupId', 0.1319580078125), ('利物', 0.1290283203125)]\n",
      "expert 13 : [('/', 0.250732421875), (' /', 0.2442626953125), (' Boy', 0.226806640625), (' +', 0.223876953125), ('�', 0.2166748046875)]\n",
      "expert 48 : [('TOOLSET', 0.283203125), ('edded', 0.281982421875), ('SED', 0.273193359375), ('Cci', 0.270751953125), ('Strunz', 0.26806640625)]\n",
      "expert 52 : [('ovent', 0.2379150390625), (' canviant', 0.236572265625), ('adur', 0.236328125), ('}.)', 0.2349853515625), ('��', 0.23193359375)]\n",
      "expert 57 : [('etable', 0.33056640625), ('кор', 0.29931640625), ('廓', 0.2841796875), ('щни', 0.27490234375), ('\\ufeff\\ufeff', 0.26416015625)]\n",
      "expert 9 : [('allies', 0.188720703125), (' Part', 0.171142578125), ('ma', 0.16162109375), ('ategory', 0.1597900390625), (' Parts', 0.1531982421875)]\n",
      "expert 19 : [('inois', 0.2421875), ('монт', 0.2325439453125), ('idament', 0.2191162109375), ('品牌的', 0.2191162109375), ('ttl', 0.2152099609375)]\n",
      "expert 21 : [('��', 0.300537109375), ('flesh', 0.2354736328125), ('LAIN', 0.2237548828125), ('dain', 0.201416015625), (' integraven', 0.2012939453125)]\n",
      "expert 40 : [('0', 0.50927734375), ('7', 0.50048828125), ('4', 0.49560546875), ('2', 0.4951171875), ('9', 0.484619140625)]\n",
      "expert 50 : [('ichthys', 0.2364501953125), ('прил', 0.208251953125), ('Manifest', 0.2015380859375), (' spokes', 0.1943359375), ('��', 0.1923828125)]\n",
      "expert 57 : [('值', 0.97021484375), ('upe', 0.9111328125), ('дите', 0.90673828125), ('enses', 0.90234375), ('щност', 0.896484375)]\n",
      "expert 1 : [('ilst', 1.013671875), ('ientos', 0.97998046875), ('abor', 0.9775390625), ('guez', 0.97607421875), ('alic', 0.93310546875)]\n",
      "expert 23 : [('aritat', 0.73681640625), ('sa', 0.71240234375), ('落地', 0.66064453125), ('oya', 0.57861328125), ('全家', 0.57568359375)]\n",
      "expert 41 : [('4', 0.1898193359375), ('7', 0.18603515625), ('5', 0.1785888671875), ('3', 0.1707763671875), ('2', 0.167236328125)]\n",
      "expert 49 : [(' същест', 0.60009765625), ('ynchronously', 0.5556640625), (' Кън', 0.55419921875), (' Методий', 0.53564453125), ('Gedmo', 0.53515625)]\n",
      "expert 53 : [(' davall', 0.51708984375), ('AGER', 0.47802734375), ('斤', 0.464111328125), ('ober', 0.447509765625), ('ският', 0.44580078125)]\n",
      "expert 59 : [('clustered', 0.204833984375), ('спи', 0.2039794921875), ('注意的是', 0.200927734375), (' gall', 0.1942138671875), (' line', 0.1923828125)]\n",
      "expert 1 : [('Ча', 0.609375), ('�', 0.52783203125), ('鼠', 0.52685546875), ('MIS', 0.52197265625), ('тото', 0.52197265625)]\n",
      "expert 14 : [('he', 0.217041015625), (' mne', 0.2060546875), ('凝', 0.2034912109375), (' pert', 0.1993408203125), ('цев', 0.1942138671875)]\n",
      "expert 22 : [('9', 0.217529296875), ('–', 0.1937255859375), ('5', 0.1888427734375), ('7', 0.1876220703125), ('lev', 0.1849365234375)]\n",
      "expert 30 : [('2', 0.6376953125), ('1', 0.55517578125), ('5', 0.52734375), ('4', 0.52392578125), ('9', 0.52197265625)]\n",
      "expert 44 : [('OBJECT', 0.326171875), ('||||', 0.32275390625), ('�', 0.317138671875), ('bein', 0.316650390625), ('BIT', 0.31494140625)]\n",
      "expert 54 : [('ases', 0.351806640625), ('Alliberament', 0.349853515625), ('lef', 0.3359375), ('做多', 0.325927734375), (' Segura', 0.324951171875)]\n",
      "expert 15 : [('ятно', 0.274658203125), ('escription', 0.254150390625), ('xhtml', 0.2489013671875), ('utad', 0.247802734375), (' Stammtafeln', 0.233642578125)]\n",
      "expert 21 : [('abras', 0.1676025390625), ('开出', 0.166259765625), ('лина', 0.1641845703125), ('ставка', 0.1568603515625), ('ursor', 0.1517333984375)]\n",
      "expert 24 : [('***', 0.306396484375), ('/__', 0.26171875), ('embed', 0.26171875), ('Embed', 0.26123046875), ('票据', 0.260009765625)]\n",
      "expert 46 : [('havior', 0.258544921875), ('duino', 0.241943359375), ('malink', 0.2333984375), ('ď', 0.232666015625), ('龄', 0.2305908203125)]\n",
      "expert 54 : [('вю', 0.223388671875), ('googleads', 0.2159423828125), ('property', 0.2152099609375), ('ovir', 0.210205078125), ('ilets', 0.20751953125)]\n",
      "expert 59 : [('ansen', 0.37890625), ('визи', 0.3623046875), ('ARIO', 0.35791015625), ('anim', 0.35791015625), (' aire', 0.357421875)]\n",
      "expert 3 : [('rpre', 0.208740234375), ('onials', 0.2044677734375), ('ляне', 0.1844482421875), ('oche', 0.18017578125), ('brance', 0.1800537109375)]\n",
      "expert 15 : [('��', 0.96728515625), ('�', 0.876953125), ('诉', 0.81103515625), (' ba', 0.79736328125), ('стани', 0.7900390625)]\n",
      "expert 18 : [('йска', 0.73681640625), (' O', 0.689453125), ('SPEC', 0.66796875), ('ord', 0.6669921875), ('od', 0.64990234375)]\n",
      "expert 34 : [('agona', 0.363525390625), ('agat', 0.2919921875), ('agin', 0.27685546875), (' Fabra', 0.2685546875), ('revista', 0.256591796875)]\n",
      "expert 36 : [('犯', 0.267333984375), ('ATTACH', 0.2235107421875), ('cean', 0.218505859375), ('\">:</', 0.21826171875), (' напа', 0.2061767578125)]\n",
      "expert 60 : [('сец', 1.392578125), ('setData', 1.1982421875), ('imps', 1.1943359375), ('acord', 1.18359375), (' Mediterrani', 1.181640625)]\n",
      "expert 9 : [('city', 1.837890625), ('Real', 1.7587890625), ('aure', 1.7412109375), ('тивни', 1.7333984375), ('inals', 1.71875)]\n",
      "expert 23 : [('еми', 0.322509765625), ('肪', 0.314697265625), (' Comen', 0.314208984375), ('abase', 0.308837890625), (':~', 0.305908203125)]\n",
      "expert 28 : [('eldorf', 1.8798828125), ('?></', 1.859375), ('?}', 1.791015625), (']]></', 1.7001953125), ('？', 1.6875)]\n",
      "expert 33 : [(' anon', 0.1898193359375), ('пен', 0.181640625), ('家常', 0.181396484375), ('amis', 0.18017578125), (' лица', 0.1796875)]\n",
      "expert 40 : [('arder', 0.328857421875), ('rani', 0.320068359375), ('кива', 0.301513671875), ('ското', 0.289306640625), ('pero', 0.28515625)]\n",
      "expert 44 : [('洗干净', 0.1807861328125), ('дис', 0.1533203125), ('udis', 0.1531982421875), ('vestre', 0.1483154296875), ('uner', 0.14794921875)]\n",
      "expert 2 : [('mdc', 0.469482421875), ('Преди', 0.42138671875), ('�', 0.398681640625), (' m', 0.395263671875), ('yy', 0.3896484375)]\n",
      "expert 17 : [('odend', 0.6591796875), ('ipi', 0.65234375), ('利物', 0.54150390625), ('issi', 0.50390625), ('ismo', 0.501953125)]\n",
      "expert 26 : [(' оку', 0.53857421875), (' minimum', 0.53271484375), (' miss', 0.483154296875), ('焦', 0.478515625), (' formation', 0.47705078125)]\n",
      "expert 27 : [('igament', 0.25341796875), ('agem', 0.251708984375), ('ORTS', 0.25048828125), ('elius', 0.24853515625), ('ollers', 0.2457275390625)]\n",
      "expert 28 : [('лите', 0.1829833984375), ('ForTesting', 0.1575927734375), (' Martorell', 0.1544189453125), ('OMET', 0.149169921875), ('testers', 0.145263671875)]\n",
      "expert 29 : [('icot', 0.93115234375), ('ometrics', 0.91455078125), ('ondre', 0.9130859375), ('usen', 0.87353515625), ('vols', 0.86767578125)]\n",
      "expert 15 : [('��', 1.115234375), ('ProtoBuf', 1.029296875), ('isSet', 1.0283203125), ('oulli', 1.0234375), ('uala', 1.0029296875)]\n",
      "expert 17 : [('tyard', 0.326416015625), ('wed', 0.32470703125), ('equ', 0.312255859375), (' tie', 0.306884765625), ('pro', 0.306640625)]\n",
      "expert 24 : [('adera', 0.2066650390625), ('=\"../_', 0.1959228515625), ('agine', 0.190185546875), ('inverting', 0.177001953125), ('pera', 0.17236328125)]\n",
      "expert 30 : [('ossible', 0.56494140625), ('plica', 0.46923828125), ('Ranges', 0.466064453125), ('ettle', 0.46240234375), ('irement', 0.438720703125)]\n",
      "expert 47 : [('置', 0.230224609375), ('立卡', 0.2288818359375), ('Msk', 0.207763671875), ('居然', 0.205810546875), ('[--]', 0.1978759765625)]\n",
      "expert 62 : [('simply', 0.280517578125), (' simply', 0.27734375), ('简', 0.26318359375), (' Simply', 0.259765625), ('Simply', 0.25634765625)]\n",
      "expert 0 : [('course', 1.5849609375), ('inite', 1.36328125), ('uat', 1.22265625), ('subNav', 1.2021484375), (' course', 1.177734375)]\n",
      "expert 1 : [('敲', 0.291259765625), ('unton', 0.27880859375), ('issance', 0.271240234375), ('ocaust', 0.27001953125), ('mercial', 0.269287109375)]\n",
      "expert 12 : [(' press', 0.412353515625), ('ук', 0.411376953125), ('press', 0.4033203125), ('ulet', 0.4013671875), (' content', 0.383544921875)]\n",
      "expert 16 : [('пад', 0.2479248046875), (' Natural', 0.2166748046875), ('anders', 0.2149658203125), (' g', 0.214599609375), ('�', 0.21435546875)]\n",
      "expert 23 : [('ften', 1.2998046875), ('往来', 1.1826171875), ('距', 1.166015625), ('бло', 1.1630859375), ('yond', 1.1435546875)]\n",
      "expert 58 : [('-', 0.48974609375), ('-\"', 0.385009765625), (' co', 0.37646484375), (' n', 0.367919921875), ('pedia', 0.360595703125)]\n",
      "expert 11 : [('spers', 0.2734375), ('ophon', 0.27197265625), ('stig', 0.271484375), ('wards', 0.266357421875), ('Igual', 0.265869140625)]\n",
      "expert 16 : [('setContent', 0.5439453125), ('лика', 0.5419921875), ('加水', 0.52099609375), ('FAST', 0.51806640625), ('icke', 0.51220703125)]\n",
      "expert 22 : [(' in', 0.388916015625), (' at', 0.2958984375), ('geu', 0.287841796875), ('\\tin', 0.272705078125), ('负', 0.252685546875)]\n",
      "expert 26 : [('2', 0.410888671875), (' Do', 0.3974609375), ('6', 0.38623046875), ('3', 0.385498046875), (' Уол', 0.376220703125)]\n",
      "expert 45 : [(' also', 3.18359375), ('also', 3.1328125), (' ALSO', 2.68359375), ('home', 2.421875), (' Called', 2.28515625)]\n",
      "expert 62 : [('衔', 0.291015625), ('语', 0.287109375), (' {!', 0.281982421875), ('лата', 0.281494140625), ('oret', 0.28076171875)]\n",
      "expert 7 : [('REQ', 0.9326171875), ('ErrorReason', 0.88671875), ('Rate', 0.87841796875), ('utus', 0.8642578125), ('TY', 0.8603515625)]\n",
      "expert 18 : [(' called', 2.013671875), (' Called', 1.5712890625), ('called', 1.5634765625), (' calls', 1.5576171875), ('Called', 1.5263671875)]\n",
      "expert 22 : [('endor', 0.298095703125), ('nex', 0.297607421875), ('EOF', 0.28369140625), ('ending', 0.2646484375), ('lib', 0.258544921875)]\n",
      "expert 31 : [(' ii', 0.257568359375), ('行', 0.2403564453125), ('�', 0.23828125), (' реда', 0.23779296875), (' NT', 0.228515625)]\n",
      "expert 37 : [(' how', 1.1552734375), ('how', 0.94921875), (' How', 0.73828125), ('How', 0.69677734375), (' HOW', 0.6884765625)]\n",
      "expert 40 : [(' block', 0.2489013671875), ('工', 0.24853515625), ('block', 0.2451171875), (' BLOCK', 0.244873046875), ('iscell', 0.2396240234375)]\n",
      "expert 16 : [('装的', 1.4423828125), ('reure', 1.267578125), ('called', 1.21484375), ('onges', 1.1806640625), ('萨斯', 1.1435546875)]\n",
      "expert 18 : [('sei', 0.394287109375), (' Territori', 0.374267578125), ('onada', 0.37255859375), ('多少', 0.369384765625), ('ottage', 0.356689453125)]\n",
      "expert 25 : [('agrams', 0.4609375), ('рес', 0.441162109375), ('ordinal', 0.4375), ('ANA', 0.428955078125), ('тински', 0.421630859375)]\n",
      "expert 33 : [(' holding', 2.060546875), (' HOLD', 1.6474609375), ('Hold', 1.6328125), ('holding', 1.626953125), (' Holding', 1.5634765625)]\n",
      "expert 48 : [(' Nom', 0.57177734375), ('ibert', 0.52978515625), (' DC', 0.509765625), (' Washington', 0.490234375), ('ista', 0.48486328125)]\n",
      "expert 51 : [(' rather', 0.7099609375), ('rather', 0.67578125), ('dying', 0.5869140625), ('Olot', 0.5810546875), ('Dynamic', 0.57470703125)]\n",
      "expert 6 : [('ractive', 0.372314453125), ('amed', 0.335693359375), ('zza', 0.315673828125), (' вто', 0.3154296875), (' второ', 0.30908203125)]\n",
      "expert 16 : [('单', 0.65283203125), ('ildo', 0.638671875), ('avy', 0.61328125), ('扳', 0.6083984375), ('甲状', 0.6064453125)]\n",
      "expert 37 : [('ces', 0.1470947265625), ('ced', 0.1468505859375), (' x', 0.143310546875), (' V', 0.1407470703125), ('x', 0.13916015625)]\n",
      "expert 42 : [('_', 0.91259765625), (':_', 0.908203125), (' __', 0.90185546875), ('__', 0.88916015625), ('?_', 0.8759765625)]\n",
      "expert 46 : [('riba', 0.529296875), ('ibel', 0.4775390625), ('velle', 0.476806640625), ('рира', 0.47021484375), ('ucion', 0.461669921875)]\n",
      "expert 47 : [('edit', 0.287841796875), (' -', 0.283447265625), ('0', 0.27587890625), ('[', 0.274658203125), ('3', 0.2705078125)]\n",
      "expert 5 : [(' ', 0.9375), ('1', 0.896484375), ('2', 0.87744140625), ('3', 0.77587890625), ('9', 0.728515625)]\n",
      "expert 20 : [('segu', 1.791015625), ('onoi', 1.6728515625), ('利物', 1.6357421875), (' F', 1.619140625), ('爱的人', 1.603515625)]\n",
      "expert 32 : [('Such', 0.284912109375), ('such', 0.27978515625), ('ORN', 0.265869140625), (' such', 0.260986328125), (' SUCH', 0.2489013671875)]\n",
      "expert 40 : [('=\"\"/>', 2.46875), ('empra', 2.431640625), (' Nova', 2.419921875), ('Nova', 2.39453125), ('assic', 2.359375)]\n",
      "expert 49 : [(' ;', 0.328857421875), (';', 0.280517578125), ('0', 0.275390625), ('1', 0.272216796875), (';:', 0.263671875)]\n",
      "expert 58 : [('situ', 2.13671875), ('сил', 2.0), ('нат', 1.9169921875), (' намира', 1.884765625), ('lita', 1.8544921875)]\n",
      "expert 2 : [('��', 0.270263671875), ('Окръг', 0.265869140625), ('Вън', 0.2410888671875), ('ramfs', 0.234130859375), ('StyleID', 0.229248046875)]\n",
      "expert 6 : [('RIGHT', 0.708984375), (' right', 0.7080078125), ('נ', 0.6943359375), ('right', 0.68798828125), ('sacrifice', 0.6650390625)]\n",
      "expert 17 : [('ematic', 0.33251953125), ('管', 0.30322265625), ('redible', 0.29541015625), ('0', 0.28662109375), (' str', 0.27880859375)]\n",
      "expert 19 : [(' Confl', 0.337890625), ('omorphic', 0.31591796875), ('oulli', 0.307373046875), ('丸', 0.288330078125), ('望', 0.2880859375)]\n",
      "expert 41 : [('lebre', 0.493896484375), ('idesa', 0.417236328125), ('leta', 0.393310546875), ('leck', 0.39306640625), ('rigu', 0.389892578125)]\n",
      "expert 54 : [(' cre', 1.9814453125), ('ozo', 1.9169921875), (' sic', 1.8974609375), ('休', 1.8779296875), ('Ebre', 1.83984375)]\n",
      "expert 0 : [('quia', 0.50830078125), ('Eix', 0.4658203125), ('�', 0.43359375), ('iban', 0.4248046875), ('ifr', 0.413330078125)]\n",
      "expert 9 : [('\\tto', 2.240234375), (' to', 1.83984375), ('\\tnew', 1.5478515625), (' descon', 1.5029296875), ('new', 1.453125)]\n",
      "expert 13 : [(' it', 2.478515625), ('arlo', 2.33203125), ('\\tit', 2.203125), (' port', 2.126953125), ('atzem', 2.123046875)]\n",
      "expert 28 : [('under', 1.8486328125), ('Under', 1.703125), (' Under', 1.67578125), (' under', 1.6572265625), ('под', 1.5537109375)]\n",
      "expert 32 : [('азар', 0.60009765625), ('X', 0.59912109375), (' X', 0.5830078125), ('】【', 0.52294921875), ('XX', 0.50634765625)]\n",
      "expert 49 : [(' involving', 9.5234375), ('ostes', 7.5859375), (' involved', 7.1796875), (' жа', 7.078125), (' мер', 7.0)]\n",
      "expert 11 : [(' set', 1.392578125), ('\\tset', 1.0927734375), ('set', 0.97265625), (' Set', 0.91357421875), (' setup', 0.8115234375)]\n",
      "expert 29 : [('Roine', 3.9296875), ('ографи', 3.77734375), ('uese', 3.708984375), ('quitect', 3.67578125), ('ulture', 3.640625)]\n",
      "expert 34 : [('urther', 1.1220703125), ('lus', 1.017578125), ('два', 0.98193359375), (' Хай', 0.9736328125), ('пус', 0.970703125)]\n",
      "expert 53 : [('是非', 0.9384765625), ('\\x0c', 0.81884765625), ('Catholic', 0.76953125), ('structured', 0.76171875), ('oof', 0.759765625)]\n",
      "expert 54 : [('насти', 0.406494140625), ('сата', 0.38671875), ('��', 0.379150390625), ('华声在线', 0.35986328125), ('上火', 0.358154296875)]\n",
      "expert 58 : [('мила', 0.67822265625), (' sh', 0.677734375), ('spath', 0.6298828125), ('зите', 0.62255859375), ('andal', 0.59326171875)]\n",
      "expert 5 : [(' Northern', 0.91259765625), (' centrals', 0.90869140625), (' Central', 0.88916015625), (' Southern', 0.84375), (' southern', 0.83349609375)]\n",
      "expert 14 : [('||', 1.8125), (' */', 1.7080078125), ('*/', 1.4189453125), (\"'},\", 1.404296875), (' */;', 1.3896484375)]\n",
      "expert 26 : [(' rec', 1.35546875), (' part', 1.328125), (' shown', 1.2529296875), (' home', 1.25), (' prepar', 1.24609375)]\n",
      "expert 32 : [('iative', 5.71875), (' academia', 4.375), (' whom', 4.3359375), ('iconductor', 4.17578125), ('coln', 4.125)]\n",
      "expert 34 : [(' one', 0.9931640625), ('ismus', 0.98388671875), ('кира', 0.9072265625), ('iName', 0.88037109375), ('one', 0.8740234375)]\n",
      "expert 46 : [('：', 0.415283203125), (':[', 0.3623046875), (':{', 0.32666015625), (':*', 0.3212890625), (':$', 0.315185546875)]\n",
      "expert 7 : [(' imperative', 0.41552734375), (' preferable', 0.3916015625), (' necessary', 0.3896484375), (' needed', 0.3876953125), (' appropriate', 0.375)]\n",
      "expert 8 : [(' high', 0.2137451171875), (' another', 0.20263671875), (' two', 0.191162109375), (' several', 0.1898193359375), (' some', 0.189453125)]\n",
      "expert 9 : [('，', 1.453125), ('。', 1.287109375), ('、', 1.193359375), ('\"；', 1.005859375), ('】', 0.9931640625)]\n",
      "expert 39 : [(' dead', 1.3984375), ('dead', 1.1103515625), (' destined', 1.056640625), (' worth', 1.05078125), (' born', 1.0390625)]\n",
      "expert 52 : [(' working', 1.05859375), (' operating', 0.970703125), (' running', 0.9501953125), (' remaining', 0.916015625), (' gearing', 0.8955078125)]\n",
      "expert 59 : [(' super', 1.345703125), (' so', 1.23046875), (' sure', 1.1669921875), (' taken', 1.1337890625), (' gone', 1.119140625)]\n"
     ]
    },
    {
     "data": {
      "application/vnd.plotly.v1+json": {
       "config": {
        "plotlyServerURL": "https://plot.ly"
       },
       "data": [
        {
         "hoverinfo": "text",
         "marker": {
          "color": [
           0.64306640625,
           0.9658203125,
           0.485595703125,
           0.1871337890625,
           0.046630859375,
           0.0718994140625,
           0.01904296875,
           0.019744873046875,
           0.1265869140625,
           1.1376953125,
           0.1539306640625,
           0.04412841796875,
           0.040618896484375,
           0.1318359375,
           0.046112060546875,
           0.0078277587890625,
           0.17822265625,
           1.4267578125,
           0.406494140625,
           0.046783447265625,
           0.117431640625,
           0.0556640625,
           0.23583984375,
           0.1375732421875,
           0.36669921875,
           1.9140625,
           0.08660888671875,
           0.178466796875,
           0.060943603515625,
           0.006290435791015625,
           0.29833984375,
           0.241943359375,
           0.37646484375,
           1.9365234375,
           0.1951904296875,
           0.25927734375,
           0.271240234375,
           0.42041015625,
           0.38427734375,
           0.37060546875,
           0.5859375,
           2.416015625,
           0.132568359375,
           0.11944580078125,
           0.407470703125,
           0.646484375,
           0.17431640625,
           0.078369140625,
           0.61962890625,
           2.802734375,
           0.1934814453125,
           0.1820068359375,
           0.332275390625,
           0.166015625,
           0.27783203125,
           0.343017578125,
           0.7001953125,
           3.357421875,
           0.2333984375,
           0.1455078125,
           0.250732421875,
           0.283203125,
           0.2379150390625,
           0.33056640625,
           0.80859375,
           3.26953125,
           0.188720703125,
           0.2421875,
           0.300537109375,
           0.50927734375,
           0.2364501953125,
           0.97021484375,
           0.9423828125,
           4.20703125,
           1.013671875,
           0.73681640625,
           0.1898193359375,
           0.60009765625,
           0.51708984375,
           0.204833984375,
           1.0927734375,
           4.43359375,
           0.609375,
           0.217041015625,
           0.217529296875,
           0.6376953125,
           0.326171875,
           0.351806640625,
           0.873046875,
           4.2421875,
           0.274658203125,
           0.1676025390625,
           0.306396484375,
           0.258544921875,
           0.223388671875,
           0.37890625,
           1.0185546875,
           5.13671875,
           0.208740234375,
           0.96728515625,
           0.73681640625,
           0.363525390625,
           0.267333984375,
           1.392578125,
           0.87939453125,
           6.625,
           1.837890625,
           0.322509765625,
           1.8798828125,
           0.1898193359375,
           0.328857421875,
           0.1807861328125,
           1.0458984375,
           10.03125,
           0.469482421875,
           0.6591796875,
           0.53857421875,
           0.25341796875,
           0.1829833984375,
           0.93115234375,
           1.0625,
           9.0390625,
           1.115234375,
           0.326416015625,
           0.2066650390625,
           0.56494140625,
           0.230224609375,
           0.280517578125,
           0.9541015625,
           10.2109375,
           1.5849609375,
           0.291259765625,
           0.412353515625,
           0.2479248046875,
           1.2998046875,
           0.48974609375,
           1.3505859375,
           10.65625,
           0.2734375,
           0.5439453125,
           0.388916015625,
           0.410888671875,
           3.18359375,
           0.291015625,
           1.236328125,
           11.1875,
           0.9326171875,
           2.013671875,
           0.298095703125,
           0.257568359375,
           1.1552734375,
           0.2489013671875,
           1.1865234375,
           13.109375,
           1.4423828125,
           0.394287109375,
           0.4609375,
           2.060546875,
           0.57177734375,
           0.7099609375,
           1.1142578125,
           13.109375,
           0.372314453125,
           0.65283203125,
           0.1470947265625,
           0.91259765625,
           0.529296875,
           0.287841796875,
           1.5771484375,
           17.15625,
           0.9375,
           1.791015625,
           0.284912109375,
           2.46875,
           0.328857421875,
           2.13671875,
           1.8935546875,
           16.6875,
           0.270263671875,
           0.708984375,
           0.33251953125,
           0.337890625,
           0.493896484375,
           1.9814453125,
           1.7763671875,
           18.109375,
           0.50830078125,
           2.240234375,
           2.478515625,
           1.8486328125,
           0.60009765625,
           9.5234375,
           1.810546875,
           20.84375,
           1.392578125,
           3.9296875,
           1.1220703125,
           0.9384765625,
           0.406494140625,
           0.67822265625,
           7.0625,
           33.40625,
           0.91259765625,
           1.8125,
           1.35546875,
           5.71875,
           0.9931640625,
           0.415283203125,
           21.640625,
           65,
           0.41552734375,
           0.2137451171875,
           1.453125,
           1.3984375,
           1.05859375,
           1.345703125,
           43.84375
          ],
          "colorbar": {
           "title": {
            "text": "logit value"
           }
          },
          "colorscale": [
           [
            0,
            "#440154"
           ],
           [
            0.1111111111111111,
            "#482878"
           ],
           [
            0.2222222222222222,
            "#3e4989"
           ],
           [
            0.3333333333333333,
            "#31688e"
           ],
           [
            0.4444444444444444,
            "#26828e"
           ],
           [
            0.5555555555555556,
            "#1f9e89"
           ],
           [
            0.6666666666666666,
            "#35b779"
           ],
           [
            0.7777777777777778,
            "#6ece58"
           ],
           [
            0.8888888888888888,
            "#b5de2b"
           ],
           [
            1,
            "#fde725"
           ]
          ],
          "showscale": true,
          "size": 20,
          "symbol": "square"
         },
         "mode": "markers",
         "text": [
          "Layer 0 Output:<br>默默: 0.643<br>全力以赴: 0.642<br>加快推进: 0.640<br>固执: 0.628<br>ACA: 0.616",
          "Layer 1 Output:<br>RIB: 0.966<br>ACA: 0.927<br>诡: 0.898<br>默默: 0.845<br>Ej: 0.845",
          "Layer 1 Expert 4:<br>姆斯: 0.486<br>RIB: 0.439<br>ece: 0.428<br>нан: 0.420<br>ovi: 0.395",
          "Layer 1 Expert 14:<br>eso: 0.187<br>ebly: 0.179<br>чик: 0.177<br>光灯: 0.177<br>�: 0.176",
          "Layer 1 Expert 30:<br>жите: 0.047<br>赵丽: 0.039<br>стики: 0.037<br>FTWARE: 0.036<br>зина: 0.036",
          "Layer 1 Expert 36:<br> yourselves: 0.072<br>�起: 0.070<br>те: 0.064<br>ENTR: 0.064<br>登: 0.064",
          "Layer 1 Expert 44:<br>наги: 0.019<br>ondin: 0.017<br>рад: 0.017<br>хия: 0.016<br> pude: 0.016",
          "Layer 1 Expert 45:<br>�: 0.020<br>ontal: 0.019<br>vinguda: 0.018<br>nech: 0.018<br>FieldLocation: 0.017",
          "Layer 1 Shared Experts:<br>IST: 0.127<br>RH: 0.125<br>ench: 0.122<br>LH: 0.121<br>剖析: 0.120",
          "Layer 2 Output:<br>RIB: 1.138<br>unders: 1.120<br>exion: 1.105<br>шков: 1.025<br>诡: 1.024",
          "Layer 2 Expert 7:<br>reso: 0.154<br>resos: 0.142<br>ublic: 0.126<br>ques: 0.126<br>ove: 0.124",
          "Layer 2 Expert 8:<br>джан: 0.044<br>ril: 0.041<br> пропа: 0.040<br>comparable: 0.039<br> sorge: 0.039",
          "Layer 2 Expert 12:<br>тист: 0.041<br>ждат: 0.035<br>brevi: 0.035<br> Там: 0.035<br>veless: 0.034",
          "Layer 2 Expert 50:<br> /: 0.132<br>/: 0.125<br>2: 0.117<br>4: 0.115<br>3: 0.113",
          "Layer 2 Expert 57:<br>rrrr: 0.046<br>rrr: 0.044<br>rr: 0.043<br>wanted: 0.040<br>rz: 0.039",
          "Layer 2 Expert 61:<br>ster: 0.008<br>ografies: 0.007<br>�: 0.007<br>ymer: 0.006<br>复印: 0.006",
          "Layer 2 Shared Experts:<br>undra: 0.178<br>ulp: 0.178<br>�: 0.177<br>rar: 0.163<br>cro: 0.161",
          "Layer 3 Output:<br> \": 1.427<br>unders: 1.382<br>otas: 1.321<br>шков: 1.283<br>怀着: 1.283",
          "Layer 3 Expert 0:<br>substack: 0.406<br>vnd: 0.385<br>revoc: 0.355<br>渣: 0.344<br>shw: 0.338",
          "Layer 3 Expert 25:<br>жене: 0.047<br>泡: 0.042<br>quad: 0.037<br>arcy: 0.036<br>0: 0.036",
          "Layer 3 Expert 29:<br> propied: 0.117<br>refn: 0.112<br>YPT: 0.095<br>cassiopeia: 0.092<br> repartia: 0.090",
          "Layer 3 Expert 55:<br>erella: 0.056<br>华声: 0.055<br> Seny: 0.052<br>输: 0.052<br> ferit: 0.052",
          "Layer 3 Expert 60:<br>温: 0.236<br> Weight: 0.191<br>omet: 0.191<br> Antoni: 0.188<br>oil: 0.186",
          "Layer 3 Expert 63:<br>obre: 0.138<br>->__: 0.137<br>itzacions: 0.134<br>gena: 0.133<br> historik: 0.130",
          "Layer 3 Shared Experts:<br>джан: 0.367<br>memname: 0.350<br>vid: 0.348<br> dobl: 0.337<br>BR: 0.335",
          "Layer 4 Output:<br>unders: 1.914<br>搬: 1.717<br>同: 1.688<br>чело: 1.591<br> i: 1.545",
          "Layer 4 Expert 2:<br>arp: 0.087<br>лек: 0.083<br>quita: 0.078<br>tig: 0.077<br>indis: 0.077",
          "Layer 4 Expert 7:<br>__.: 0.178<br>зон: 0.176<br> Коста: 0.174<br>xid: 0.173<br>кус: 0.171",
          "Layer 4 Expert 30:<br>тера: 0.061<br>�: 0.060<br> Aud: 0.058<br>|\\\\: 0.057<br>插: 0.056",
          "Layer 4 Expert 43:<br>itures: 0.006<br>��: 0.006<br>endas: 0.006<br>plural: 0.006<br>avers: 0.006",
          "Layer 4 Expert 49:<br> mans: 0.298<br>睁: 0.276<br>trac: 0.275<br>�: 0.268<br>lege: 0.250",
          "Layer 4 Expert 52:<br>1: 0.242<br>0: 0.237<br>7: 0.227<br>юр: 0.226<br>4: 0.220",
          "Layer 4 Shared Experts:<br>anell: 0.376<br>麻: 0.337<br>acer: 0.337<br>chl: 0.329<br>iders: 0.313",
          "Layer 5 Output:<br>unders: 1.937<br>idual: 1.922<br>чков: 1.865<br>rte: 1.825<br>光彩: 1.808",
          "Layer 5 Expert 19:<br>ард: 0.195<br>mount: 0.185<br>ystick: 0.181<br>ead: 0.179<br>ixt: 0.173",
          "Layer 5 Expert 30:<br>Provided: 0.259<br>Spec: 0.257<br>arlas: 0.252<br> ff: 0.238<br>пуска: 0.235",
          "Layer 5 Expert 37:<br>vell: 0.271<br>ides: 0.230<br>istani: 0.226<br>inian: 0.215<br>不觉: 0.212",
          "Layer 5 Expert 48:<br>lander: 0.420<br>inguish: 0.368<br>xit: 0.358<br>jador: 0.355<br>meck: 0.352",
          "Layer 5 Expert 57:<br>ouri: 0.384<br>цбург: 0.344<br>��: 0.335<br>oprocessing: 0.322<br>ovna: 0.315",
          "Layer 5 Expert 58:<br>rake: 0.371<br>ationals: 0.347<br>ubs: 0.344<br>atori: 0.333<br>cha: 0.323",
          "Layer 5 Shared Experts:<br>curi: 0.586<br>倍的: 0.514<br>昭: 0.484<br>owl: 0.483<br> flip: 0.478",
          "Layer 6 Output:<br>idual: 2.416<br>unders: 2.021<br>leta: 2.016<br>rte: 2.014<br>举报: 1.979",
          "Layer 6 Expert 4:<br>inux: 0.133<br>ayout: 0.105<br>lemagne: 0.102<br>гани: 0.100<br>登: 0.098",
          "Layer 6 Expert 47:<br>Thelia: 0.119<br>FUNCPTR: 0.109<br>AVA: 0.107<br> searchBox: 0.104<br>WHM: 0.102",
          "Layer 6 Expert 50:<br>–: 0.407<br>…: 0.373<br>ra: 0.372<br>side: 0.359<br> i: 0.355",
          "Layer 6 Expert 57:<br>altar: 0.646<br>emark: 0.600<br>ype: 0.579<br>cmark: 0.564<br>牙: 0.564",
          "Layer 6 Expert 60:<br>舒: 0.174<br>idat: 0.173<br> pe: 0.170<br>ER: 0.168<br>subjects: 0.167",
          "Layer 6 Expert 63:<br>рал: 0.078<br>рат: 0.078<br>场: 0.073<br>uest: 0.073<br>ales: 0.072",
          "Layer 6 Shared Experts:<br>6: 0.620<br>7: 0.611<br>0: 0.607<br>9: 0.587<br>5: 0.578",
          "Layer 7 Output:<br>idual: 2.803<br>GLOB: 2.508<br>leta: 2.391<br>ент: 2.369<br>paces: 2.254",
          "Layer 7 Expert 9:<br>STR: 0.193<br>itzar: 0.188<br>orem: 0.188<br>贷: 0.183<br>сет: 0.182",
          "Layer 7 Expert 14:<br>arget: 0.182<br>нома: 0.162<br>leton: 0.157<br>Pad: 0.150<br>geons: 0.144",
          "Layer 7 Expert 37:<br>ofer: 0.332<br> **:: 0.329<br>utat: 0.326<br>ilde: 0.323<br>Jac: 0.317",
          "Layer 7 Expert 38:<br>��: 0.166<br>nees: 0.154<br>立: 0.149<br> alt: 0.149<br>рев: 0.149",
          "Layer 7 Expert 59:<br>idelines: 0.278<br>PROTOBUF: 0.274<br>enerated: 0.272<br>евру: 0.240<br>ylvan: 0.239",
          "Layer 7 Expert 63:<br>*}[: 0.343<br>писание: 0.341<br>chrift: 0.314<br>kos: 0.306<br> коле: 0.293",
          "Layer 7 Shared Experts:<br>igar: 0.700<br>��: 0.696<br>ociety: 0.632<br>└: 0.629<br> ISNULL: 0.591",
          "Layer 8 Output:<br>idual: 3.357<br>widet: 2.781<br>equalities: 2.670<br>GLOB: 2.570<br>lides: 2.570",
          "Layer 8 Expert 3:<br>sman: 0.233<br>olat: 0.230<br>amic: 0.204<br>inently: 0.197<br>固定: 0.196",
          "Layer 8 Expert 5:<br>PIO: 0.146<br>图片发自简书: 0.137<br>辩: 0.133<br>groupId: 0.132<br>利物: 0.129",
          "Layer 8 Expert 13:<br>/: 0.251<br> /: 0.244<br> Boy: 0.227<br> +: 0.224<br>�: 0.217",
          "Layer 8 Expert 48:<br>TOOLSET: 0.283<br>edded: 0.282<br>SED: 0.273<br>Cci: 0.271<br>Strunz: 0.268",
          "Layer 8 Expert 52:<br>ovent: 0.238<br> canviant: 0.237<br>adur: 0.236<br>}.): 0.235<br>��: 0.232",
          "Layer 8 Expert 57:<br>etable: 0.331<br>кор: 0.299<br>廓: 0.284<br>щни: 0.275<br>﻿﻿: 0.264",
          "Layer 8 Shared Experts:<br> Comen: 0.809<br>кле: 0.780<br> trunks: 0.749<br>ятно: 0.745<br>\\!=\\!: 0.743",
          "Layer 9 Output:<br>idual: 3.270<br> Ам: 3.059<br>widet: 2.945<br>thr: 2.787<br>flare: 2.781",
          "Layer 9 Expert 9:<br>allies: 0.189<br> Part: 0.171<br>ma: 0.162<br>ategory: 0.160<br> Parts: 0.153",
          "Layer 9 Expert 19:<br>inois: 0.242<br>монт: 0.233<br>idament: 0.219<br>品牌的: 0.219<br>ttl: 0.215",
          "Layer 9 Expert 21:<br>��: 0.301<br>flesh: 0.235<br>LAIN: 0.224<br>dain: 0.201<br> integraven: 0.201",
          "Layer 9 Expert 40:<br>0: 0.509<br>7: 0.500<br>4: 0.496<br>2: 0.495<br>9: 0.485",
          "Layer 9 Expert 50:<br>ichthys: 0.236<br>прил: 0.208<br>Manifest: 0.202<br> spokes: 0.194<br>��: 0.192",
          "Layer 9 Expert 57:<br>值: 0.970<br>upe: 0.911<br>дите: 0.907<br>enses: 0.902<br>щност: 0.896",
          "Layer 9 Shared Experts:<br>乎: 0.942<br>бар: 0.862<br>бре: 0.816<br> Local: 0.754<br>asar: 0.750",
          "Layer 10 Output:<br>ICLE: 4.207<br>piration: 4.062<br>equalities: 4.051<br>sembly: 3.988<br>uja: 3.971",
          "Layer 10 Expert 1:<br>ilst: 1.014<br>ientos: 0.980<br>abor: 0.978<br>guez: 0.976<br>alic: 0.933",
          "Layer 10 Expert 23:<br>aritat: 0.737<br>sa: 0.712<br>落地: 0.661<br>oya: 0.579<br>全家: 0.576",
          "Layer 10 Expert 41:<br>4: 0.190<br>7: 0.186<br>5: 0.179<br>3: 0.171<br>2: 0.167",
          "Layer 10 Expert 49:<br> същест: 0.600<br>ynchronously: 0.556<br> Кън: 0.554<br> Методий: 0.536<br>Gedmo: 0.535",
          "Layer 10 Expert 53:<br> davall: 0.517<br>AGER: 0.478<br>斤: 0.464<br>ober: 0.448<br>ският: 0.446",
          "Layer 10 Expert 59:<br>clustered: 0.205<br>спи: 0.204<br>注意的是: 0.201<br> gall: 0.194<br> line: 0.192",
          "Layer 10 Shared Experts:<br> l: 1.093<br> lo: 1.069<br>LZ: 0.983<br>包: 0.913<br> m: 0.904",
          "Layer 11 Output:<br>sembly: 4.434<br>ssil: 4.219<br>illation: 4.172<br>xiller: 4.098<br>equalities: 3.908",
          "Layer 11 Expert 1:<br>Ча: 0.609<br>�: 0.528<br>鼠: 0.527<br>MIS: 0.522<br>тото: 0.522",
          "Layer 11 Expert 14:<br>he: 0.217<br> mne: 0.206<br>凝: 0.203<br> pert: 0.199<br>цев: 0.194",
          "Layer 11 Expert 22:<br>9: 0.218<br>–: 0.194<br>5: 0.189<br>7: 0.188<br>lev: 0.185",
          "Layer 11 Expert 30:<br>2: 0.638<br>1: 0.555<br>5: 0.527<br>4: 0.524<br>9: 0.522",
          "Layer 11 Expert 44:<br>OBJECT: 0.326<br>||||: 0.323<br>�: 0.317<br>bein: 0.317<br>BIT: 0.315",
          "Layer 11 Expert 54:<br>ases: 0.352<br>Alliberament: 0.350<br>lef: 0.336<br>做多: 0.326<br> Segura: 0.325",
          "Layer 11 Shared Experts:<br> part: 0.873<br> PY: 0.802<br> multiplex: 0.796<br>: 0.777<br>зай: 0.766",
          "Layer 12 Output:<br>azi: 4.242<br>亿亿亿: 4.176<br>ICLE: 4.082<br>姆斯: 4.051<br>equalities: 4.023",
          "Layer 12 Expert 15:<br>ятно: 0.275<br>escription: 0.254<br>xhtml: 0.249<br>utad: 0.248<br> Stammtafeln: 0.234",
          "Layer 12 Expert 21:<br>abras: 0.168<br>开出: 0.166<br>лина: 0.164<br>ставка: 0.157<br>ursor: 0.152",
          "Layer 12 Expert 24:<br>***: 0.306<br>/__: 0.262<br>embed: 0.262<br>Embed: 0.261<br>票据: 0.260",
          "Layer 12 Expert 46:<br>havior: 0.259<br>duino: 0.242<br>malink: 0.233<br>ď: 0.233<br>龄: 0.231",
          "Layer 12 Expert 54:<br>вю: 0.223<br>googleads: 0.216<br>property: 0.215<br>ovir: 0.210<br>ilets: 0.208",
          "Layer 12 Expert 59:<br>ansen: 0.379<br>визи: 0.362<br>ARIO: 0.358<br>anim: 0.358<br> aire: 0.357",
          "Layer 12 Shared Experts:<br>f: 1.019<br>1: 0.929<br>de: 0.895<br>8: 0.885<br>6: 0.879",
          "Layer 13 Output:<br>equalities: 5.137<br>illator: 5.129<br>ICLE: 5.086<br>обра: 5.023<br>xiller: 4.961",
          "Layer 13 Expert 3:<br>rpre: 0.209<br>onials: 0.204<br>ляне: 0.184<br>oche: 0.180<br>brance: 0.180",
          "Layer 13 Expert 15:<br>��: 0.967<br>�: 0.877<br>诉: 0.811<br> ba: 0.797<br>стани: 0.790",
          "Layer 13 Expert 18:<br>йска: 0.737<br> O: 0.689<br>SPEC: 0.668<br>ord: 0.667<br>od: 0.650",
          "Layer 13 Expert 34:<br>agona: 0.364<br>agat: 0.292<br>agin: 0.277<br> Fabra: 0.269<br>revista: 0.257",
          "Layer 13 Expert 36:<br>犯: 0.267<br>ATTACH: 0.224<br>cean: 0.219<br>\">:</: 0.218<br> напа: 0.206",
          "Layer 13 Expert 60:<br>сец: 1.393<br>setData: 1.198<br>imps: 1.194<br>acord: 1.184<br> Mediterrani: 1.182",
          "Layer 13 Shared Experts:<br>懿: 0.879<br>UNG: 0.853<br> nud: 0.833<br>ouch: 0.833<br>requ: 0.826",
          "Layer 14 Output:<br>Окръг: 6.625<br>CODEGEN: 6.336<br>ебсайт: 6.238<br>illation: 6.109<br>AAAAAAAAAAAAAAAA: 6.062",
          "Layer 14 Expert 9:<br>city: 1.838<br>Real: 1.759<br>aure: 1.741<br>тивни: 1.733<br>inals: 1.719",
          "Layer 14 Expert 23:<br>еми: 0.323<br>肪: 0.315<br> Comen: 0.314<br>abase: 0.309<br>:~: 0.306",
          "Layer 14 Expert 28:<br>eldorf: 1.880<br>?></: 1.859<br>?}: 1.791<br>]]></: 1.700<br>？: 1.688",
          "Layer 14 Expert 33:<br> anon: 0.190<br>пен: 0.182<br>家常: 0.181<br>amis: 0.180<br> лица: 0.180",
          "Layer 14 Expert 40:<br>arder: 0.329<br>rani: 0.320<br>кива: 0.302<br>ското: 0.289<br>pero: 0.285",
          "Layer 14 Expert 44:<br>洗干净: 0.181<br>дис: 0.153<br>udis: 0.153<br>vestre: 0.148<br>uner: 0.148",
          "Layer 14 Shared Experts:<br>言语: 1.046<br> ...: 0.961<br>狱: 0.933<br>HV: 0.914<br> H: 0.908",
          "Layer 15 Output:<br>Окръг: 10.031<br>ебсайт: 8.859<br> същест: 8.055<br>CODEGEN: 8.031<br>ultors: 7.777",
          "Layer 15 Expert 2:<br>mdc: 0.469<br>Преди: 0.421<br>�: 0.399<br> m: 0.395<br>yy: 0.390",
          "Layer 15 Expert 17:<br>odend: 0.659<br>ipi: 0.652<br>利物: 0.542<br>issi: 0.504<br>ismo: 0.502",
          "Layer 15 Expert 26:<br> оку: 0.539<br> minimum: 0.533<br> miss: 0.483<br>焦: 0.479<br> formation: 0.477",
          "Layer 15 Expert 27:<br>igament: 0.253<br>agem: 0.252<br>ORTS: 0.250<br>elius: 0.249<br>ollers: 0.246",
          "Layer 15 Expert 28:<br>лите: 0.183<br>ForTesting: 0.158<br> Martorell: 0.154<br>OMET: 0.149<br>testers: 0.145",
          "Layer 15 Expert 29:<br>icot: 0.931<br>ometrics: 0.915<br>ondre: 0.913<br>usen: 0.874<br>vols: 0.868",
          "Layer 15 Shared Experts:<br>нда: 1.062<br>耗: 0.998<br>лио: 0.992<br>(#: 0.972<br>pra: 0.968",
          "Layer 16 Output:<br>ебсайт: 9.039<br>Окръг: 8.609<br>CODEGEN: 7.875<br>equalities: 7.543<br> същест: 7.496",
          "Layer 16 Expert 15:<br>��: 1.115<br>ProtoBuf: 1.029<br>isSet: 1.028<br>oulli: 1.023<br>uala: 1.003",
          "Layer 16 Expert 17:<br>tyard: 0.326<br>wed: 0.325<br>equ: 0.312<br> tie: 0.307<br>pro: 0.307",
          "Layer 16 Expert 24:<br>adera: 0.207<br>=\"../_: 0.196<br>agine: 0.190<br>inverting: 0.177<br>pera: 0.172",
          "Layer 16 Expert 30:<br>ossible: 0.565<br>plica: 0.469<br>Ranges: 0.466<br>ettle: 0.462<br>irement: 0.439",
          "Layer 16 Expert 47:<br>置: 0.230<br>立卡: 0.229<br>Msk: 0.208<br>居然: 0.206<br>[--]: 0.198",
          "Layer 16 Expert 62:<br>simply: 0.281<br> simply: 0.277<br>简: 0.263<br> Simply: 0.260<br>Simply: 0.256",
          "Layer 16 Shared Experts:<br> въл: 0.954<br> @: 0.945<br>en: 0.915<br> en: 0.895<br>Published: 0.895",
          "Layer 17 Output:<br>Окръг: 10.211<br>ебсайт: 10.117<br> същест: 8.945<br>istat: 8.523<br>华盛顿: 8.195",
          "Layer 17 Expert 0:<br>course: 1.585<br>inite: 1.363<br>uat: 1.223<br>subNav: 1.202<br> course: 1.178",
          "Layer 17 Expert 1:<br>敲: 0.291<br>unton: 0.279<br>issance: 0.271<br>ocaust: 0.270<br>mercial: 0.269",
          "Layer 17 Expert 12:<br> press: 0.412<br>ук: 0.411<br>press: 0.403<br>ulet: 0.401<br> content: 0.384",
          "Layer 17 Expert 16:<br>пад: 0.248<br> Natural: 0.217<br>anders: 0.215<br> g: 0.215<br>�: 0.214",
          "Layer 17 Expert 23:<br>ften: 1.300<br>往来: 1.183<br>距: 1.166<br>бло: 1.163<br>yond: 1.144",
          "Layer 17 Expert 58:<br>-: 0.490<br>-\": 0.385<br> co: 0.376<br> n: 0.368<br>pedia: 0.361",
          "Layer 17 Shared Experts:<br>ride: 1.351<br> valenc: 1.185<br> catalanes: 1.101<br>rides: 1.097<br> \\#: 1.095",
          "Layer 18 Output:<br>istat: 10.656<br>ебсайт: 10.508<br>Окръг: 9.273<br> същест: 9.148<br> Вашингтон: 9.078",
          "Layer 18 Expert 11:<br>spers: 0.273<br>ophon: 0.272<br>stig: 0.271<br>wards: 0.266<br>Igual: 0.266",
          "Layer 18 Expert 16:<br>setContent: 0.544<br>лика: 0.542<br>加水: 0.521<br>FAST: 0.518<br>icke: 0.512",
          "Layer 18 Expert 22:<br> in: 0.389<br> at: 0.296<br>geu: 0.288<br>\tin: 0.273<br>负: 0.253",
          "Layer 18 Expert 26:<br>2: 0.411<br> Do: 0.397<br>6: 0.386<br>3: 0.385<br> Уол: 0.376",
          "Layer 18 Expert 45:<br> also: 3.184<br>also: 3.133<br> ALSO: 2.684<br>home: 2.422<br> Called: 2.285",
          "Layer 18 Expert 62:<br>衔: 0.291<br>语: 0.287<br> {!: 0.282<br>лата: 0.281<br>oret: 0.281",
          "Layer 18 Shared Experts:<br>华声: 1.236<br>wered: 1.052<br>AY: 1.043<br>牢牢: 1.036<br>翩: 1.006",
          "Layer 19 Output:<br>istat: 11.188<br>ебсайт: 10.898<br>illity: 10.438<br> същест: 9.289<br>MBOL: 9.281",
          "Layer 19 Expert 7:<br>REQ: 0.933<br>ErrorReason: 0.887<br>Rate: 0.878<br>utus: 0.864<br>TY: 0.860",
          "Layer 19 Expert 18:<br> called: 2.014<br> Called: 1.571<br>called: 1.563<br> calls: 1.558<br>Called: 1.526",
          "Layer 19 Expert 22:<br>endor: 0.298<br>nex: 0.298<br>EOF: 0.284<br>ending: 0.265<br>lib: 0.259",
          "Layer 19 Expert 31:<br> ii: 0.258<br>行: 0.240<br>�: 0.238<br> реда: 0.238<br> NT: 0.229",
          "Layer 19 Expert 37:<br> how: 1.155<br>how: 0.949<br> How: 0.738<br>How: 0.697<br> HOW: 0.688",
          "Layer 19 Expert 40:<br> block: 0.249<br>工: 0.249<br>block: 0.245<br> BLOCK: 0.245<br>iscell: 0.240",
          "Layer 19 Shared Experts:<br>怎样的: 1.187<br>什么样的: 1.134<br>lj: 1.062<br>quiry: 1.001<br>inux: 0.982",
          "Layer 20 Output:<br>ебсайт: 13.109<br> Вашингтон: 11.898<br>istat: 11.672<br>华盛顿: 11.445<br>illity: 11.430",
          "Layer 20 Expert 16:<br>装的: 1.442<br>reure: 1.268<br>called: 1.215<br>onges: 1.181<br>萨斯: 1.144",
          "Layer 20 Expert 18:<br>sei: 0.394<br> Territori: 0.374<br>onada: 0.373<br>多少: 0.369<br>ottage: 0.357",
          "Layer 20 Expert 25:<br>agrams: 0.461<br>рес: 0.441<br>ordinal: 0.438<br>ANA: 0.429<br>тински: 0.422",
          "Layer 20 Expert 33:<br> holding: 2.061<br> HOLD: 1.647<br>Hold: 1.633<br>holding: 1.627<br> Holding: 1.563",
          "Layer 20 Expert 48:<br> Nom: 0.572<br>ibert: 0.530<br> DC: 0.510<br> Washington: 0.490<br>ista: 0.485",
          "Layer 20 Expert 51:<br> rather: 0.710<br>rather: 0.676<br>dying: 0.587<br>Olot: 0.581<br>Dynamic: 0.575",
          "Layer 20 Shared Experts:<br>tofore: 1.114<br>�: 1.107<br>urally: 1.083<br>┈┈: 1.081<br>..\">: 1.081",
          "Layer 21 Output:<br> Вашингтон: 13.109<br>istat: 12.859<br>ебсайт: 12.359<br>华盛顿: 11.703<br>illity: 11.367",
          "Layer 21 Expert 6:<br>ractive: 0.372<br>amed: 0.336<br>zza: 0.316<br> вто: 0.315<br> второ: 0.309",
          "Layer 21 Expert 16:<br>单: 0.653<br>ildo: 0.639<br>avy: 0.613<br>扳: 0.608<br>甲状: 0.606",
          "Layer 21 Expert 37:<br>ces: 0.147<br>ced: 0.147<br> x: 0.143<br> V: 0.141<br>x: 0.139",
          "Layer 21 Expert 42:<br>_: 0.913<br>:_: 0.908<br> __: 0.902<br>__: 0.889<br>?_: 0.876",
          "Layer 21 Expert 46:<br>riba: 0.529<br>ibel: 0.478<br>velle: 0.477<br>рира: 0.470<br>ucion: 0.462",
          "Layer 21 Expert 47:<br>edit: 0.288<br> -: 0.283<br>0: 0.276<br>[: 0.275<br>3: 0.271",
          "Layer 21 Shared Experts:<br>-: 1.577<br> n: 1.513<br> j: 1.495<br> e: 1.489<br> s: 1.485",
          "Layer 22 Output:<br> Вашингтон: 17.156<br>华盛顿: 15.703<br>ASHINGTON: 13.641<br>ashington: 13.141<br>Wash: 13.055",
          "Layer 22 Expert 5:<br> : 0.938<br>1: 0.896<br>2: 0.877<br>3: 0.776<br>9: 0.729",
          "Layer 22 Expert 20:<br>segu: 1.791<br>onoi: 1.673<br>利物: 1.636<br> F: 1.619<br>爱的人: 1.604",
          "Layer 22 Expert 32:<br>Such: 0.285<br>such: 0.280<br>ORN: 0.266<br> such: 0.261<br> SUCH: 0.249",
          "Layer 22 Expert 40:<br>=\"\"/>: 2.469<br>empra: 2.432<br> Nova: 2.420<br>Nova: 2.395<br>assic: 2.359",
          "Layer 22 Expert 49:<br> ;: 0.329<br>;: 0.281<br>0: 0.275<br>1: 0.272<br>;:: 0.264",
          "Layer 22 Expert 58:<br>situ: 2.137<br>сил: 2.000<br>нат: 1.917<br> намира: 1.885<br>lita: 1.854",
          "Layer 22 Shared Experts:<br>wered: 1.894<br>DOCKED: 1.590<br> $: 1.543<br>atzem: 1.481<br>SPHIN: 1.417",
          "Layer 23 Output:<br> Вашингтон: 16.688<br>华盛顿: 16.359<br>Wash: 14.719<br>ASHINGTON: 14.617<br>ебсайт: 14.391",
          "Layer 23 Expert 2:<br>��: 0.270<br>Окръг: 0.266<br>Вън: 0.241<br>ramfs: 0.234<br>StyleID: 0.229",
          "Layer 23 Expert 6:<br>RIGHT: 0.709<br> right: 0.708<br>נ: 0.694<br>right: 0.688<br>sacrifice: 0.665",
          "Layer 23 Expert 17:<br>ematic: 0.333<br>管: 0.303<br>redible: 0.295<br>0: 0.287<br> str: 0.279",
          "Layer 23 Expert 19:<br> Confl: 0.338<br>omorphic: 0.316<br>oulli: 0.307<br>丸: 0.288<br>望: 0.288",
          "Layer 23 Expert 41:<br>lebre: 0.494<br>idesa: 0.417<br>leta: 0.393<br>leck: 0.393<br>rigu: 0.390",
          "Layer 23 Expert 54:<br> cre: 1.981<br>ozo: 1.917<br> sic: 1.897<br>休: 1.878<br>Ebre: 1.840",
          "Layer 23 Shared Experts:<br>DOCKED: 1.776<br>клопе: 1.699<br> full: 1.672<br> FULL: 1.660<br>umbed: 1.652",
          "Layer 24 Output:<br> Вашингтон: 18.109<br>Wash: 17.438<br>华盛顿: 17.328<br>abla: 16.562<br>ASHINGTON: 16.359",
          "Layer 24 Expert 0:<br>quia: 0.508<br>Eix: 0.466<br>�: 0.434<br>iban: 0.425<br>ifr: 0.413",
          "Layer 24 Expert 9:<br>\tto: 2.240<br> to: 1.840<br>\tnew: 1.548<br> descon: 1.503<br>new: 1.453",
          "Layer 24 Expert 13:<br> it: 2.479<br>arlo: 2.332<br>\tit: 2.203<br> port: 2.127<br>atzem: 2.123",
          "Layer 24 Expert 28:<br>under: 1.849<br>Under: 1.703<br> Under: 1.676<br> under: 1.657<br>под: 1.554",
          "Layer 24 Expert 32:<br>азар: 0.600<br>X: 0.599<br> X: 0.583<br>】【: 0.523<br>XX: 0.506",
          "Layer 24 Expert 49:<br> involving: 9.523<br>ostes: 7.586<br> involved: 7.180<br> жа: 7.078<br> мер: 7.000",
          "Layer 24 Shared Experts:<br>\n: 1.811<br> h: 1.661<br> :: 1.507<br><｜end▁of▁sentence｜>: 1.498<br>�: 1.497",
          "Layer 25 Output:<br> washing: 20.844<br>Wash: 19.125<br>wash: 17.078<br> Вашингтон: 16.797<br>华盛顿: 16.594",
          "Layer 25 Expert 11:<br> set: 1.393<br>\tset: 1.093<br>set: 0.973<br> Set: 0.914<br> setup: 0.812",
          "Layer 25 Expert 29:<br>Roine: 3.930<br>ографи: 3.777<br>uese: 3.709<br>quitect: 3.676<br>ulture: 3.641",
          "Layer 25 Expert 34:<br>urther: 1.122<br>lus: 1.018<br>два: 0.982<br> Хай: 0.974<br>пус: 0.971",
          "Layer 25 Expert 53:<br>是非: 0.938<br>\f: 0.819<br>Catholic: 0.770<br>structured: 0.762<br>oof: 0.760",
          "Layer 25 Expert 54:<br>насти: 0.406<br>сата: 0.387<br>��: 0.379<br>华声在线: 0.360<br>上火: 0.358",
          "Layer 25 Expert 58:<br>мила: 0.678<br> sh: 0.678<br>spath: 0.630<br>зите: 0.623<br>andal: 0.593",
          "Layer 25 Shared Experts:<br> : 7.062<br>,: 5.965<br>\n: 5.785<br>...: 5.711<br> -: 5.672",
          "Layer 26 Output:<br>\n: 33.406<br> washing: 31.531<br>...: 28.719<br> : 28.016<br> located: 26.938",
          "Layer 26 Expert 5:<br> Northern: 0.913<br> centrals: 0.909<br> Central: 0.889<br> Southern: 0.844<br> southern: 0.833",
          "Layer 26 Expert 14:<br>||: 1.812<br> */: 1.708<br>*/: 1.419<br>'},: 1.404<br> */;: 1.390",
          "Layer 26 Expert 26:<br> rec: 1.355<br> part: 1.328<br> shown: 1.253<br> home: 1.250<br> prepar: 1.246",
          "Layer 26 Expert 32:<br>iative: 5.719<br> academia: 4.375<br> whom: 4.336<br>iconductor: 4.176<br>coln: 4.125",
          "Layer 26 Expert 34:<br> one: 0.993<br>ismus: 0.984<br>кира: 0.907<br>iName: 0.880<br>one: 0.874",
          "Layer 26 Expert 46:<br>：: 0.415<br>:[: 0.362<br>:{: 0.327<br>:*: 0.321<br>:$: 0.315",
          "Layer 26 Shared Experts:<br>...: 21.641<br> : 18.828<br>…: 18.484<br>..: 18.156<br>?: 17.812",
          "Layer 27 Output:<br> : 65.000<br>,: 62.531<br>\n: 61.969<br> a: 61.125<br> in: 60.188",
          "Layer 27 Expert 7:<br> imperative: 0.416<br> preferable: 0.392<br> necessary: 0.390<br> needed: 0.388<br> appropriate: 0.375",
          "Layer 27 Expert 8:<br> high: 0.214<br> another: 0.203<br> two: 0.191<br> several: 0.190<br> some: 0.189",
          "Layer 27 Expert 9:<br>，: 1.453<br>。: 1.287<br>、: 1.193<br>\"；: 1.006<br>】: 0.993",
          "Layer 27 Expert 39:<br> dead: 1.398<br>dead: 1.110<br> destined: 1.057<br> worth: 1.051<br> born: 1.039",
          "Layer 27 Expert 52:<br> working: 1.059<br> operating: 0.971<br> running: 0.950<br> remaining: 0.916<br> gearing: 0.896",
          "Layer 27 Expert 59:<br> super: 1.346<br> so: 1.230<br> sure: 1.167<br> taken: 1.134<br> gone: 1.119",
          "Layer 27 Shared Experts:<br>,: 43.844<br> and: 41.188<br> : 40.812<br>.: 40.688<br> (: 38.906"
         ],
         "type": "scatter",
         "x": [
          0,
          0,
          5,
          15,
          31,
          37,
          45,
          46,
          65,
          0,
          8,
          9,
          13,
          51,
          58,
          62,
          65,
          0,
          1,
          26,
          30,
          56,
          61,
          64,
          65,
          0,
          3,
          8,
          31,
          44,
          50,
          53,
          65,
          0,
          20,
          31,
          38,
          49,
          58,
          59,
          65,
          0,
          5,
          48,
          51,
          58,
          61,
          64,
          65,
          0,
          10,
          15,
          38,
          39,
          60,
          64,
          65,
          0,
          4,
          6,
          14,
          49,
          53,
          58,
          65,
          0,
          10,
          20,
          22,
          41,
          51,
          58,
          65,
          0,
          2,
          24,
          42,
          50,
          54,
          60,
          65,
          0,
          2,
          15,
          23,
          31,
          45,
          55,
          65,
          0,
          16,
          22,
          25,
          47,
          55,
          60,
          65,
          0,
          4,
          16,
          19,
          35,
          37,
          61,
          65,
          0,
          10,
          24,
          29,
          34,
          41,
          45,
          65,
          0,
          3,
          18,
          27,
          28,
          29,
          30,
          65,
          0,
          16,
          18,
          25,
          31,
          48,
          63,
          65,
          0,
          1,
          2,
          13,
          17,
          24,
          59,
          65,
          0,
          12,
          17,
          23,
          27,
          46,
          63,
          65,
          0,
          8,
          19,
          23,
          32,
          38,
          41,
          65,
          0,
          17,
          19,
          26,
          34,
          49,
          52,
          65,
          0,
          7,
          17,
          38,
          43,
          47,
          48,
          65,
          0,
          6,
          21,
          33,
          41,
          50,
          59,
          65,
          0,
          3,
          7,
          18,
          20,
          42,
          55,
          65,
          0,
          1,
          10,
          14,
          29,
          33,
          50,
          65,
          0,
          12,
          30,
          35,
          54,
          55,
          59,
          65,
          0,
          6,
          15,
          27,
          33,
          35,
          47,
          65,
          0,
          8,
          9,
          10,
          40,
          53,
          60,
          65
         ],
         "y": [
          0,
          1,
          1,
          1,
          1,
          1,
          1,
          1,
          1,
          2,
          2,
          2,
          2,
          2,
          2,
          2,
          2,
          3,
          3,
          3,
          3,
          3,
          3,
          3,
          3,
          4,
          4,
          4,
          4,
          4,
          4,
          4,
          4,
          5,
          5,
          5,
          5,
          5,
          5,
          5,
          5,
          6,
          6,
          6,
          6,
          6,
          6,
          6,
          6,
          7,
          7,
          7,
          7,
          7,
          7,
          7,
          7,
          8,
          8,
          8,
          8,
          8,
          8,
          8,
          8,
          9,
          9,
          9,
          9,
          9,
          9,
          9,
          9,
          10,
          10,
          10,
          10,
          10,
          10,
          10,
          10,
          11,
          11,
          11,
          11,
          11,
          11,
          11,
          11,
          12,
          12,
          12,
          12,
          12,
          12,
          12,
          12,
          13,
          13,
          13,
          13,
          13,
          13,
          13,
          13,
          14,
          14,
          14,
          14,
          14,
          14,
          14,
          14,
          15,
          15,
          15,
          15,
          15,
          15,
          15,
          15,
          16,
          16,
          16,
          16,
          16,
          16,
          16,
          16,
          17,
          17,
          17,
          17,
          17,
          17,
          17,
          17,
          18,
          18,
          18,
          18,
          18,
          18,
          18,
          18,
          19,
          19,
          19,
          19,
          19,
          19,
          19,
          19,
          20,
          20,
          20,
          20,
          20,
          20,
          20,
          20,
          21,
          21,
          21,
          21,
          21,
          21,
          21,
          21,
          22,
          22,
          22,
          22,
          22,
          22,
          22,
          22,
          23,
          23,
          23,
          23,
          23,
          23,
          23,
          23,
          24,
          24,
          24,
          24,
          24,
          24,
          24,
          24,
          25,
          25,
          25,
          25,
          25,
          25,
          25,
          25,
          26,
          26,
          26,
          26,
          26,
          26,
          26,
          26,
          27,
          27,
          27,
          27,
          27,
          27,
          27,
          27
         ]
        }
       ],
       "layout": {
        "font": {
         "color": "white"
        },
        "height": 1000,
        "paper_bgcolor": "black",
        "plot_bgcolor": "black",
        "template": {
         "data": {
          "bar": [
           {
            "error_x": {
             "color": "#2a3f5f"
            },
            "error_y": {
             "color": "#2a3f5f"
            },
            "marker": {
             "line": {
              "color": "#E5ECF6",
              "width": 0.5
             },
             "pattern": {
              "fillmode": "overlay",
              "size": 10,
              "solidity": 0.2
             }
            },
            "type": "bar"
           }
          ],
          "barpolar": [
           {
            "marker": {
             "line": {
              "color": "#E5ECF6",
              "width": 0.5
             },
             "pattern": {
              "fillmode": "overlay",
              "size": 10,
              "solidity": 0.2
             }
            },
            "type": "barpolar"
           }
          ],
          "carpet": [
           {
            "aaxis": {
             "endlinecolor": "#2a3f5f",
             "gridcolor": "white",
             "linecolor": "white",
             "minorgridcolor": "white",
             "startlinecolor": "#2a3f5f"
            },
            "baxis": {
             "endlinecolor": "#2a3f5f",
             "gridcolor": "white",
             "linecolor": "white",
             "minorgridcolor": "white",
             "startlinecolor": "#2a3f5f"
            },
            "type": "carpet"
           }
          ],
          "choropleth": [
           {
            "colorbar": {
             "outlinewidth": 0,
             "ticks": ""
            },
            "type": "choropleth"
           }
          ],
          "contour": [
           {
            "colorbar": {
             "outlinewidth": 0,
             "ticks": ""
            },
            "colorscale": [
             [
              0,
              "#0d0887"
             ],
             [
              0.1111111111111111,
              "#46039f"
             ],
             [
              0.2222222222222222,
              "#7201a8"
             ],
             [
              0.3333333333333333,
              "#9c179e"
             ],
             [
              0.4444444444444444,
              "#bd3786"
             ],
             [
              0.5555555555555556,
              "#d8576b"
             ],
             [
              0.6666666666666666,
              "#ed7953"
             ],
             [
              0.7777777777777778,
              "#fb9f3a"
             ],
             [
              0.8888888888888888,
              "#fdca26"
             ],
             [
              1,
              "#f0f921"
             ]
            ],
            "type": "contour"
           }
          ],
          "contourcarpet": [
           {
            "colorbar": {
             "outlinewidth": 0,
             "ticks": ""
            },
            "type": "contourcarpet"
           }
          ],
          "heatmap": [
           {
            "colorbar": {
             "outlinewidth": 0,
             "ticks": ""
            },
            "colorscale": [
             [
              0,
              "#0d0887"
             ],
             [
              0.1111111111111111,
              "#46039f"
             ],
             [
              0.2222222222222222,
              "#7201a8"
             ],
             [
              0.3333333333333333,
              "#9c179e"
             ],
             [
              0.4444444444444444,
              "#bd3786"
             ],
             [
              0.5555555555555556,
              "#d8576b"
             ],
             [
              0.6666666666666666,
              "#ed7953"
             ],
             [
              0.7777777777777778,
              "#fb9f3a"
             ],
             [
              0.8888888888888888,
              "#fdca26"
             ],
             [
              1,
              "#f0f921"
             ]
            ],
            "type": "heatmap"
           }
          ],
          "heatmapgl": [
           {
            "colorbar": {
             "outlinewidth": 0,
             "ticks": ""
            },
            "colorscale": [
             [
              0,
              "#0d0887"
             ],
             [
              0.1111111111111111,
              "#46039f"
             ],
             [
              0.2222222222222222,
              "#7201a8"
             ],
             [
              0.3333333333333333,
              "#9c179e"
             ],
             [
              0.4444444444444444,
              "#bd3786"
             ],
             [
              0.5555555555555556,
              "#d8576b"
             ],
             [
              0.6666666666666666,
              "#ed7953"
             ],
             [
              0.7777777777777778,
              "#fb9f3a"
             ],
             [
              0.8888888888888888,
              "#fdca26"
             ],
             [
              1,
              "#f0f921"
             ]
            ],
            "type": "heatmapgl"
           }
          ],
          "histogram": [
           {
            "marker": {
             "pattern": {
              "fillmode": "overlay",
              "size": 10,
              "solidity": 0.2
             }
            },
            "type": "histogram"
           }
          ],
          "histogram2d": [
           {
            "colorbar": {
             "outlinewidth": 0,
             "ticks": ""
            },
            "colorscale": [
             [
              0,
              "#0d0887"
             ],
             [
              0.1111111111111111,
              "#46039f"
             ],
             [
              0.2222222222222222,
              "#7201a8"
             ],
             [
              0.3333333333333333,
              "#9c179e"
             ],
             [
              0.4444444444444444,
              "#bd3786"
             ],
             [
              0.5555555555555556,
              "#d8576b"
             ],
             [
              0.6666666666666666,
              "#ed7953"
             ],
             [
              0.7777777777777778,
              "#fb9f3a"
             ],
             [
              0.8888888888888888,
              "#fdca26"
             ],
             [
              1,
              "#f0f921"
             ]
            ],
            "type": "histogram2d"
           }
          ],
          "histogram2dcontour": [
           {
            "colorbar": {
             "outlinewidth": 0,
             "ticks": ""
            },
            "colorscale": [
             [
              0,
              "#0d0887"
             ],
             [
              0.1111111111111111,
              "#46039f"
             ],
             [
              0.2222222222222222,
              "#7201a8"
             ],
             [
              0.3333333333333333,
              "#9c179e"
             ],
             [
              0.4444444444444444,
              "#bd3786"
             ],
             [
              0.5555555555555556,
              "#d8576b"
             ],
             [
              0.6666666666666666,
              "#ed7953"
             ],
             [
              0.7777777777777778,
              "#fb9f3a"
             ],
             [
              0.8888888888888888,
              "#fdca26"
             ],
             [
              1,
              "#f0f921"
             ]
            ],
            "type": "histogram2dcontour"
           }
          ],
          "mesh3d": [
           {
            "colorbar": {
             "outlinewidth": 0,
             "ticks": ""
            },
            "type": "mesh3d"
           }
          ],
          "parcoords": [
           {
            "line": {
             "colorbar": {
              "outlinewidth": 0,
              "ticks": ""
             }
            },
            "type": "parcoords"
           }
          ],
          "pie": [
           {
            "automargin": true,
            "type": "pie"
           }
          ],
          "scatter": [
           {
            "fillpattern": {
             "fillmode": "overlay",
             "size": 10,
             "solidity": 0.2
            },
            "type": "scatter"
           }
          ],
          "scatter3d": [
           {
            "line": {
             "colorbar": {
              "outlinewidth": 0,
              "ticks": ""
             }
            },
            "marker": {
             "colorbar": {
              "outlinewidth": 0,
              "ticks": ""
             }
            },
            "type": "scatter3d"
           }
          ],
          "scattercarpet": [
           {
            "marker": {
             "colorbar": {
              "outlinewidth": 0,
              "ticks": ""
             }
            },
            "type": "scattercarpet"
           }
          ],
          "scattergeo": [
           {
            "marker": {
             "colorbar": {
              "outlinewidth": 0,
              "ticks": ""
             }
            },
            "type": "scattergeo"
           }
          ],
          "scattergl": [
           {
            "marker": {
             "colorbar": {
              "outlinewidth": 0,
              "ticks": ""
             }
            },
            "type": "scattergl"
           }
          ],
          "scattermapbox": [
           {
            "marker": {
             "colorbar": {
              "outlinewidth": 0,
              "ticks": ""
             }
            },
            "type": "scattermapbox"
           }
          ],
          "scatterpolar": [
           {
            "marker": {
             "colorbar": {
              "outlinewidth": 0,
              "ticks": ""
             }
            },
            "type": "scatterpolar"
           }
          ],
          "scatterpolargl": [
           {
            "marker": {
             "colorbar": {
              "outlinewidth": 0,
              "ticks": ""
             }
            },
            "type": "scatterpolargl"
           }
          ],
          "scatterternary": [
           {
            "marker": {
             "colorbar": {
              "outlinewidth": 0,
              "ticks": ""
             }
            },
            "type": "scatterternary"
           }
          ],
          "surface": [
           {
            "colorbar": {
             "outlinewidth": 0,
             "ticks": ""
            },
            "colorscale": [
             [
              0,
              "#0d0887"
             ],
             [
              0.1111111111111111,
              "#46039f"
             ],
             [
              0.2222222222222222,
              "#7201a8"
             ],
             [
              0.3333333333333333,
              "#9c179e"
             ],
             [
              0.4444444444444444,
              "#bd3786"
             ],
             [
              0.5555555555555556,
              "#d8576b"
             ],
             [
              0.6666666666666666,
              "#ed7953"
             ],
             [
              0.7777777777777778,
              "#fb9f3a"
             ],
             [
              0.8888888888888888,
              "#fdca26"
             ],
             [
              1,
              "#f0f921"
             ]
            ],
            "type": "surface"
           }
          ],
          "table": [
           {
            "cells": {
             "fill": {
              "color": "#EBF0F8"
             },
             "line": {
              "color": "white"
             }
            },
            "header": {
             "fill": {
              "color": "#C8D4E3"
             },
             "line": {
              "color": "white"
             }
            },
            "type": "table"
           }
          ]
         },
         "layout": {
          "annotationdefaults": {
           "arrowcolor": "#2a3f5f",
           "arrowhead": 0,
           "arrowwidth": 1
          },
          "autotypenumbers": "strict",
          "coloraxis": {
           "colorbar": {
            "outlinewidth": 0,
            "ticks": ""
           }
          },
          "colorscale": {
           "diverging": [
            [
             0,
             "#8e0152"
            ],
            [
             0.1,
             "#c51b7d"
            ],
            [
             0.2,
             "#de77ae"
            ],
            [
             0.3,
             "#f1b6da"
            ],
            [
             0.4,
             "#fde0ef"
            ],
            [
             0.5,
             "#f7f7f7"
            ],
            [
             0.6,
             "#e6f5d0"
            ],
            [
             0.7,
             "#b8e186"
            ],
            [
             0.8,
             "#7fbc41"
            ],
            [
             0.9,
             "#4d9221"
            ],
            [
             1,
             "#276419"
            ]
           ],
           "sequential": [
            [
             0,
             "#0d0887"
            ],
            [
             0.1111111111111111,
             "#46039f"
            ],
            [
             0.2222222222222222,
             "#7201a8"
            ],
            [
             0.3333333333333333,
             "#9c179e"
            ],
            [
             0.4444444444444444,
             "#bd3786"
            ],
            [
             0.5555555555555556,
             "#d8576b"
            ],
            [
             0.6666666666666666,
             "#ed7953"
            ],
            [
             0.7777777777777778,
             "#fb9f3a"
            ],
            [
             0.8888888888888888,
             "#fdca26"
            ],
            [
             1,
             "#f0f921"
            ]
           ],
           "sequentialminus": [
            [
             0,
             "#0d0887"
            ],
            [
             0.1111111111111111,
             "#46039f"
            ],
            [
             0.2222222222222222,
             "#7201a8"
            ],
            [
             0.3333333333333333,
             "#9c179e"
            ],
            [
             0.4444444444444444,
             "#bd3786"
            ],
            [
             0.5555555555555556,
             "#d8576b"
            ],
            [
             0.6666666666666666,
             "#ed7953"
            ],
            [
             0.7777777777777778,
             "#fb9f3a"
            ],
            [
             0.8888888888888888,
             "#fdca26"
            ],
            [
             1,
             "#f0f921"
            ]
           ]
          },
          "colorway": [
           "#636efa",
           "#EF553B",
           "#00cc96",
           "#ab63fa",
           "#FFA15A",
           "#19d3f3",
           "#FF6692",
           "#B6E880",
           "#FF97FF",
           "#FECB52"
          ],
          "font": {
           "color": "#2a3f5f"
          },
          "geo": {
           "bgcolor": "white",
           "lakecolor": "white",
           "landcolor": "#E5ECF6",
           "showlakes": true,
           "showland": true,
           "subunitcolor": "white"
          },
          "hoverlabel": {
           "align": "left"
          },
          "hovermode": "closest",
          "mapbox": {
           "style": "light"
          },
          "paper_bgcolor": "white",
          "plot_bgcolor": "#E5ECF6",
          "polar": {
           "angularaxis": {
            "gridcolor": "white",
            "linecolor": "white",
            "ticks": ""
           },
           "bgcolor": "#E5ECF6",
           "radialaxis": {
            "gridcolor": "white",
            "linecolor": "white",
            "ticks": ""
           }
          },
          "scene": {
           "xaxis": {
            "backgroundcolor": "#E5ECF6",
            "gridcolor": "white",
            "gridwidth": 2,
            "linecolor": "white",
            "showbackground": true,
            "ticks": "",
            "zerolinecolor": "white"
           },
           "yaxis": {
            "backgroundcolor": "#E5ECF6",
            "gridcolor": "white",
            "gridwidth": 2,
            "linecolor": "white",
            "showbackground": true,
            "ticks": "",
            "zerolinecolor": "white"
           },
           "zaxis": {
            "backgroundcolor": "#E5ECF6",
            "gridcolor": "white",
            "gridwidth": 2,
            "linecolor": "white",
            "showbackground": true,
            "ticks": "",
            "zerolinecolor": "white"
           }
          },
          "shapedefaults": {
           "line": {
            "color": "#2a3f5f"
           }
          },
          "ternary": {
           "aaxis": {
            "gridcolor": "white",
            "linecolor": "white",
            "ticks": ""
           },
           "baxis": {
            "gridcolor": "white",
            "linecolor": "white",
            "ticks": ""
           },
           "bgcolor": "#E5ECF6",
           "caxis": {
            "gridcolor": "white",
            "linecolor": "white",
            "ticks": ""
           }
          },
          "title": {
           "x": 0.05
          },
          "xaxis": {
           "automargin": true,
           "gridcolor": "white",
           "linecolor": "white",
           "ticks": "",
           "title": {
            "standoff": 15
           },
           "zerolinecolor": "white",
           "zerolinewidth": 2
          },
          "yaxis": {
           "automargin": true,
           "gridcolor": "white",
           "linecolor": "white",
           "ticks": "",
           "title": {
            "standoff": 15
           },
           "zerolinecolor": "white",
           "zerolinewidth": 2
          }
         }
        },
        "title": {
         "text": "Expert Contributions and Predictions for Token Position 7"
        },
        "width": 1800,
        "xaxis": {
         "showgrid": false,
         "tickangle": 45,
         "ticktext": [
          "l_out",
          " 0",
          " 1",
          " 2",
          " 3",
          " 4",
          " 5",
          " 6",
          " 7",
          " 8",
          " 9",
          " 10",
          " 11",
          " 12",
          " 13",
          " 14",
          " 15",
          " 16",
          " 17",
          " 18",
          " 19",
          " 20",
          " 21",
          " 22",
          " 23",
          " 24",
          " 25",
          " 26",
          " 27",
          " 28",
          " 29",
          " 30",
          " 31",
          " 32",
          " 33",
          " 34",
          " 35",
          " 36",
          " 37",
          " 38",
          " 39",
          " 40",
          " 41",
          " 42",
          " 43",
          " 44",
          " 45",
          " 46",
          " 47",
          " 48",
          " 49",
          " 50",
          " 51",
          " 52",
          " 53",
          " 54",
          " 55",
          " 56",
          " 57",
          " 58",
          " 59",
          " 60",
          " 61",
          " 62",
          " 63",
          "shared experts"
         ],
         "tickvals": [
          0,
          1,
          2,
          3,
          4,
          5,
          6,
          7,
          8,
          9,
          10,
          11,
          12,
          13,
          14,
          15,
          16,
          17,
          18,
          19,
          20,
          21,
          22,
          23,
          24,
          25,
          26,
          27,
          28,
          29,
          30,
          31,
          32,
          33,
          34,
          35,
          36,
          37,
          38,
          39,
          40,
          41,
          42,
          43,
          44,
          45,
          46,
          47,
          48,
          49,
          50,
          51,
          52,
          53,
          54,
          55,
          56,
          57,
          58,
          59,
          60,
          61,
          62,
          63,
          64,
          65
         ],
         "title": {
          "text": "layer output | routed experts | shared experts"
         }
        },
        "yaxis": {
         "autorange": "reversed",
         "showgrid": false,
         "title": {
          "text": "Layer"
         }
        }
       }
      },
      "text/html": [
       "<div>                            <div id=\"3e2fcc7a-a382-432b-8fae-63eae9e1fc4a\" class=\"plotly-graph-div\" style=\"height:1000px; width:1800px;\"></div>            <script type=\"text/javascript\">                require([\"plotly\"], function(Plotly) {                    window.PLOTLYENV=window.PLOTLYENV || {};                                    if (document.getElementById(\"3e2fcc7a-a382-432b-8fae-63eae9e1fc4a\")) {                    Plotly.newPlot(                        \"3e2fcc7a-a382-432b-8fae-63eae9e1fc4a\",                        [{\"hoverinfo\":\"text\",\"marker\":{\"color\":[0.64306640625,0.9658203125,0.485595703125,0.1871337890625,0.046630859375,0.0718994140625,0.01904296875,0.019744873046875,0.1265869140625,1.1376953125,0.1539306640625,0.04412841796875,0.040618896484375,0.1318359375,0.046112060546875,0.0078277587890625,0.17822265625,1.4267578125,0.406494140625,0.046783447265625,0.117431640625,0.0556640625,0.23583984375,0.1375732421875,0.36669921875,1.9140625,0.08660888671875,0.178466796875,0.060943603515625,0.006290435791015625,0.29833984375,0.241943359375,0.37646484375,1.9365234375,0.1951904296875,0.25927734375,0.271240234375,0.42041015625,0.38427734375,0.37060546875,0.5859375,2.416015625,0.132568359375,0.11944580078125,0.407470703125,0.646484375,0.17431640625,0.078369140625,0.61962890625,2.802734375,0.1934814453125,0.1820068359375,0.332275390625,0.166015625,0.27783203125,0.343017578125,0.7001953125,3.357421875,0.2333984375,0.1455078125,0.250732421875,0.283203125,0.2379150390625,0.33056640625,0.80859375,3.26953125,0.188720703125,0.2421875,0.300537109375,0.50927734375,0.2364501953125,0.97021484375,0.9423828125,4.20703125,1.013671875,0.73681640625,0.1898193359375,0.60009765625,0.51708984375,0.204833984375,1.0927734375,4.43359375,0.609375,0.217041015625,0.217529296875,0.6376953125,0.326171875,0.351806640625,0.873046875,4.2421875,0.274658203125,0.1676025390625,0.306396484375,0.258544921875,0.223388671875,0.37890625,1.0185546875,5.13671875,0.208740234375,0.96728515625,0.73681640625,0.363525390625,0.267333984375,1.392578125,0.87939453125,6.625,1.837890625,0.322509765625,1.8798828125,0.1898193359375,0.328857421875,0.1807861328125,1.0458984375,10.03125,0.469482421875,0.6591796875,0.53857421875,0.25341796875,0.1829833984375,0.93115234375,1.0625,9.0390625,1.115234375,0.326416015625,0.2066650390625,0.56494140625,0.230224609375,0.280517578125,0.9541015625,10.2109375,1.5849609375,0.291259765625,0.412353515625,0.2479248046875,1.2998046875,0.48974609375,1.3505859375,10.65625,0.2734375,0.5439453125,0.388916015625,0.410888671875,3.18359375,0.291015625,1.236328125,11.1875,0.9326171875,2.013671875,0.298095703125,0.257568359375,1.1552734375,0.2489013671875,1.1865234375,13.109375,1.4423828125,0.394287109375,0.4609375,2.060546875,0.57177734375,0.7099609375,1.1142578125,13.109375,0.372314453125,0.65283203125,0.1470947265625,0.91259765625,0.529296875,0.287841796875,1.5771484375,17.15625,0.9375,1.791015625,0.284912109375,2.46875,0.328857421875,2.13671875,1.8935546875,16.6875,0.270263671875,0.708984375,0.33251953125,0.337890625,0.493896484375,1.9814453125,1.7763671875,18.109375,0.50830078125,2.240234375,2.478515625,1.8486328125,0.60009765625,9.5234375,1.810546875,20.84375,1.392578125,3.9296875,1.1220703125,0.9384765625,0.406494140625,0.67822265625,7.0625,33.40625,0.91259765625,1.8125,1.35546875,5.71875,0.9931640625,0.415283203125,21.640625,65.0,0.41552734375,0.2137451171875,1.453125,1.3984375,1.05859375,1.345703125,43.84375],\"colorbar\":{\"title\":{\"text\":\"logit value\"}},\"colorscale\":[[0.0,\"#440154\"],[0.1111111111111111,\"#482878\"],[0.2222222222222222,\"#3e4989\"],[0.3333333333333333,\"#31688e\"],[0.4444444444444444,\"#26828e\"],[0.5555555555555556,\"#1f9e89\"],[0.6666666666666666,\"#35b779\"],[0.7777777777777778,\"#6ece58\"],[0.8888888888888888,\"#b5de2b\"],[1.0,\"#fde725\"]],\"showscale\":true,\"size\":20,\"symbol\":\"square\"},\"mode\":\"markers\",\"text\":[\"Layer 0 Output:\\u003cbr\\u003e默默: 0.643\\u003cbr\\u003e全力以赴: 0.642\\u003cbr\\u003e加快推进: 0.640\\u003cbr\\u003e固执: 0.628\\u003cbr\\u003eACA: 0.616\",\"Layer 1 Output:\\u003cbr\\u003eRIB: 0.966\\u003cbr\\u003eACA: 0.927\\u003cbr\\u003e诡: 0.898\\u003cbr\\u003e默默: 0.845\\u003cbr\\u003eEj: 0.845\",\"Layer 1 Expert 4:\\u003cbr\\u003e姆斯: 0.486\\u003cbr\\u003eRIB: 0.439\\u003cbr\\u003eece: 0.428\\u003cbr\\u003eнан: 0.420\\u003cbr\\u003eovi: 0.395\",\"Layer 1 Expert 14:\\u003cbr\\u003eeso: 0.187\\u003cbr\\u003eebly: 0.179\\u003cbr\\u003eчик: 0.177\\u003cbr\\u003e光灯: 0.177\\u003cbr\\u003e�: 0.176\",\"Layer 1 Expert 30:\\u003cbr\\u003eжите: 0.047\\u003cbr\\u003e赵丽: 0.039\\u003cbr\\u003eстики: 0.037\\u003cbr\\u003eFTWARE: 0.036\\u003cbr\\u003eзина: 0.036\",\"Layer 1 Expert 36:\\u003cbr\\u003e yourselves: 0.072\\u003cbr\\u003e�起: 0.070\\u003cbr\\u003eте: 0.064\\u003cbr\\u003eENTR: 0.064\\u003cbr\\u003e登: 0.064\",\"Layer 1 Expert 44:\\u003cbr\\u003eнаги: 0.019\\u003cbr\\u003eondin: 0.017\\u003cbr\\u003eрад: 0.017\\u003cbr\\u003eхия: 0.016\\u003cbr\\u003e pude: 0.016\",\"Layer 1 Expert 45:\\u003cbr\\u003e�: 0.020\\u003cbr\\u003eontal: 0.019\\u003cbr\\u003evinguda: 0.018\\u003cbr\\u003enech: 0.018\\u003cbr\\u003eFieldLocation: 0.017\",\"Layer 1 Shared Experts:\\u003cbr\\u003eIST: 0.127\\u003cbr\\u003eRH: 0.125\\u003cbr\\u003eench: 0.122\\u003cbr\\u003eLH: 0.121\\u003cbr\\u003e剖析: 0.120\",\"Layer 2 Output:\\u003cbr\\u003eRIB: 1.138\\u003cbr\\u003eunders: 1.120\\u003cbr\\u003eexion: 1.105\\u003cbr\\u003eшков: 1.025\\u003cbr\\u003e诡: 1.024\",\"Layer 2 Expert 7:\\u003cbr\\u003ereso: 0.154\\u003cbr\\u003eresos: 0.142\\u003cbr\\u003eublic: 0.126\\u003cbr\\u003eques: 0.126\\u003cbr\\u003eove: 0.124\",\"Layer 2 Expert 8:\\u003cbr\\u003eджан: 0.044\\u003cbr\\u003eril: 0.041\\u003cbr\\u003e пропа: 0.040\\u003cbr\\u003ecomparable: 0.039\\u003cbr\\u003e sorge: 0.039\",\"Layer 2 Expert 12:\\u003cbr\\u003eтист: 0.041\\u003cbr\\u003eждат: 0.035\\u003cbr\\u003ebrevi: 0.035\\u003cbr\\u003e Там: 0.035\\u003cbr\\u003eveless: 0.034\",\"Layer 2 Expert 50:\\u003cbr\\u003e \\u002f: 0.132\\u003cbr\\u003e\\u002f: 0.125\\u003cbr\\u003e2: 0.117\\u003cbr\\u003e4: 0.115\\u003cbr\\u003e3: 0.113\",\"Layer 2 Expert 57:\\u003cbr\\u003errrr: 0.046\\u003cbr\\u003errr: 0.044\\u003cbr\\u003err: 0.043\\u003cbr\\u003ewanted: 0.040\\u003cbr\\u003erz: 0.039\",\"Layer 2 Expert 61:\\u003cbr\\u003ester: 0.008\\u003cbr\\u003eografies: 0.007\\u003cbr\\u003e�: 0.007\\u003cbr\\u003eymer: 0.006\\u003cbr\\u003e复印: 0.006\",\"Layer 2 Shared Experts:\\u003cbr\\u003eundra: 0.178\\u003cbr\\u003eulp: 0.178\\u003cbr\\u003e�: 0.177\\u003cbr\\u003erar: 0.163\\u003cbr\\u003ecro: 0.161\",\"Layer 3 Output:\\u003cbr\\u003e \\\": 1.427\\u003cbr\\u003eunders: 1.382\\u003cbr\\u003eotas: 1.321\\u003cbr\\u003eшков: 1.283\\u003cbr\\u003e怀着: 1.283\",\"Layer 3 Expert 0:\\u003cbr\\u003esubstack: 0.406\\u003cbr\\u003evnd: 0.385\\u003cbr\\u003erevoc: 0.355\\u003cbr\\u003e渣: 0.344\\u003cbr\\u003eshw: 0.338\",\"Layer 3 Expert 25:\\u003cbr\\u003eжене: 0.047\\u003cbr\\u003e泡: 0.042\\u003cbr\\u003equad: 0.037\\u003cbr\\u003earcy: 0.036\\u003cbr\\u003e0: 0.036\",\"Layer 3 Expert 29:\\u003cbr\\u003e propied: 0.117\\u003cbr\\u003erefn: 0.112\\u003cbr\\u003eYPT: 0.095\\u003cbr\\u003ecassiopeia: 0.092\\u003cbr\\u003e repartia: 0.090\",\"Layer 3 Expert 55:\\u003cbr\\u003eerella: 0.056\\u003cbr\\u003e华声: 0.055\\u003cbr\\u003e Seny: 0.052\\u003cbr\\u003e输: 0.052\\u003cbr\\u003e ferit: 0.052\",\"Layer 3 Expert 60:\\u003cbr\\u003e温: 0.236\\u003cbr\\u003e Weight: 0.191\\u003cbr\\u003eomet: 0.191\\u003cbr\\u003e Antoni: 0.188\\u003cbr\\u003eoil: 0.186\",\"Layer 3 Expert 63:\\u003cbr\\u003eobre: 0.138\\u003cbr\\u003e-\\u003e__: 0.137\\u003cbr\\u003eitzacions: 0.134\\u003cbr\\u003egena: 0.133\\u003cbr\\u003e historik: 0.130\",\"Layer 3 Shared Experts:\\u003cbr\\u003eджан: 0.367\\u003cbr\\u003ememname: 0.350\\u003cbr\\u003evid: 0.348\\u003cbr\\u003e dobl: 0.337\\u003cbr\\u003eBR: 0.335\",\"Layer 4 Output:\\u003cbr\\u003eunders: 1.914\\u003cbr\\u003e搬: 1.717\\u003cbr\\u003e同: 1.688\\u003cbr\\u003eчело: 1.591\\u003cbr\\u003e i: 1.545\",\"Layer 4 Expert 2:\\u003cbr\\u003earp: 0.087\\u003cbr\\u003eлек: 0.083\\u003cbr\\u003equita: 0.078\\u003cbr\\u003etig: 0.077\\u003cbr\\u003eindis: 0.077\",\"Layer 4 Expert 7:\\u003cbr\\u003e__.: 0.178\\u003cbr\\u003eзон: 0.176\\u003cbr\\u003e Коста: 0.174\\u003cbr\\u003exid: 0.173\\u003cbr\\u003eкус: 0.171\",\"Layer 4 Expert 30:\\u003cbr\\u003eтера: 0.061\\u003cbr\\u003e�: 0.060\\u003cbr\\u003e Aud: 0.058\\u003cbr\\u003e|\\\\\\\\: 0.057\\u003cbr\\u003e插: 0.056\",\"Layer 4 Expert 43:\\u003cbr\\u003eitures: 0.006\\u003cbr\\u003e��: 0.006\\u003cbr\\u003eendas: 0.006\\u003cbr\\u003eplural: 0.006\\u003cbr\\u003eavers: 0.006\",\"Layer 4 Expert 49:\\u003cbr\\u003e mans: 0.298\\u003cbr\\u003e睁: 0.276\\u003cbr\\u003etrac: 0.275\\u003cbr\\u003e�: 0.268\\u003cbr\\u003elege: 0.250\",\"Layer 4 Expert 52:\\u003cbr\\u003e1: 0.242\\u003cbr\\u003e0: 0.237\\u003cbr\\u003e7: 0.227\\u003cbr\\u003eюр: 0.226\\u003cbr\\u003e4: 0.220\",\"Layer 4 Shared Experts:\\u003cbr\\u003eanell: 0.376\\u003cbr\\u003e麻: 0.337\\u003cbr\\u003eacer: 0.337\\u003cbr\\u003echl: 0.329\\u003cbr\\u003eiders: 0.313\",\"Layer 5 Output:\\u003cbr\\u003eunders: 1.937\\u003cbr\\u003eidual: 1.922\\u003cbr\\u003eчков: 1.865\\u003cbr\\u003erte: 1.825\\u003cbr\\u003e光彩: 1.808\",\"Layer 5 Expert 19:\\u003cbr\\u003eард: 0.195\\u003cbr\\u003emount: 0.185\\u003cbr\\u003eystick: 0.181\\u003cbr\\u003eead: 0.179\\u003cbr\\u003eixt: 0.173\",\"Layer 5 Expert 30:\\u003cbr\\u003eProvided: 0.259\\u003cbr\\u003eSpec: 0.257\\u003cbr\\u003earlas: 0.252\\u003cbr\\u003e ff: 0.238\\u003cbr\\u003eпуска: 0.235\",\"Layer 5 Expert 37:\\u003cbr\\u003evell: 0.271\\u003cbr\\u003eides: 0.230\\u003cbr\\u003eistani: 0.226\\u003cbr\\u003einian: 0.215\\u003cbr\\u003e不觉: 0.212\",\"Layer 5 Expert 48:\\u003cbr\\u003elander: 0.420\\u003cbr\\u003einguish: 0.368\\u003cbr\\u003exit: 0.358\\u003cbr\\u003ejador: 0.355\\u003cbr\\u003emeck: 0.352\",\"Layer 5 Expert 57:\\u003cbr\\u003eouri: 0.384\\u003cbr\\u003eцбург: 0.344\\u003cbr\\u003e��: 0.335\\u003cbr\\u003eoprocessing: 0.322\\u003cbr\\u003eovna: 0.315\",\"Layer 5 Expert 58:\\u003cbr\\u003erake: 0.371\\u003cbr\\u003eationals: 0.347\\u003cbr\\u003eubs: 0.344\\u003cbr\\u003eatori: 0.333\\u003cbr\\u003echa: 0.323\",\"Layer 5 Shared Experts:\\u003cbr\\u003ecuri: 0.586\\u003cbr\\u003e倍的: 0.514\\u003cbr\\u003e昭: 0.484\\u003cbr\\u003eowl: 0.483\\u003cbr\\u003e flip: 0.478\",\"Layer 6 Output:\\u003cbr\\u003eidual: 2.416\\u003cbr\\u003eunders: 2.021\\u003cbr\\u003eleta: 2.016\\u003cbr\\u003erte: 2.014\\u003cbr\\u003e举报: 1.979\",\"Layer 6 Expert 4:\\u003cbr\\u003einux: 0.133\\u003cbr\\u003eayout: 0.105\\u003cbr\\u003elemagne: 0.102\\u003cbr\\u003eгани: 0.100\\u003cbr\\u003e登: 0.098\",\"Layer 6 Expert 47:\\u003cbr\\u003eThelia: 0.119\\u003cbr\\u003eFUNCPTR: 0.109\\u003cbr\\u003eAVA: 0.107\\u003cbr\\u003e searchBox: 0.104\\u003cbr\\u003eWHM: 0.102\",\"Layer 6 Expert 50:\\u003cbr\\u003e–: 0.407\\u003cbr\\u003e…: 0.373\\u003cbr\\u003era: 0.372\\u003cbr\\u003eside: 0.359\\u003cbr\\u003e i: 0.355\",\"Layer 6 Expert 57:\\u003cbr\\u003ealtar: 0.646\\u003cbr\\u003eemark: 0.600\\u003cbr\\u003eype: 0.579\\u003cbr\\u003ecmark: 0.564\\u003cbr\\u003e牙: 0.564\",\"Layer 6 Expert 60:\\u003cbr\\u003e舒: 0.174\\u003cbr\\u003eidat: 0.173\\u003cbr\\u003e pe: 0.170\\u003cbr\\u003eER: 0.168\\u003cbr\\u003esubjects: 0.167\",\"Layer 6 Expert 63:\\u003cbr\\u003eрал: 0.078\\u003cbr\\u003eрат: 0.078\\u003cbr\\u003e场: 0.073\\u003cbr\\u003euest: 0.073\\u003cbr\\u003eales: 0.072\",\"Layer 6 Shared Experts:\\u003cbr\\u003e6: 0.620\\u003cbr\\u003e7: 0.611\\u003cbr\\u003e0: 0.607\\u003cbr\\u003e9: 0.587\\u003cbr\\u003e5: 0.578\",\"Layer 7 Output:\\u003cbr\\u003eidual: 2.803\\u003cbr\\u003eGLOB: 2.508\\u003cbr\\u003eleta: 2.391\\u003cbr\\u003eент: 2.369\\u003cbr\\u003epaces: 2.254\",\"Layer 7 Expert 9:\\u003cbr\\u003eSTR: 0.193\\u003cbr\\u003eitzar: 0.188\\u003cbr\\u003eorem: 0.188\\u003cbr\\u003e贷: 0.183\\u003cbr\\u003eсет: 0.182\",\"Layer 7 Expert 14:\\u003cbr\\u003earget: 0.182\\u003cbr\\u003eнома: 0.162\\u003cbr\\u003eleton: 0.157\\u003cbr\\u003ePad: 0.150\\u003cbr\\u003egeons: 0.144\",\"Layer 7 Expert 37:\\u003cbr\\u003eofer: 0.332\\u003cbr\\u003e **:: 0.329\\u003cbr\\u003eutat: 0.326\\u003cbr\\u003eilde: 0.323\\u003cbr\\u003eJac: 0.317\",\"Layer 7 Expert 38:\\u003cbr\\u003e��: 0.166\\u003cbr\\u003enees: 0.154\\u003cbr\\u003e立: 0.149\\u003cbr\\u003e alt: 0.149\\u003cbr\\u003eрев: 0.149\",\"Layer 7 Expert 59:\\u003cbr\\u003eidelines: 0.278\\u003cbr\\u003ePROTOBUF: 0.274\\u003cbr\\u003eenerated: 0.272\\u003cbr\\u003eевру: 0.240\\u003cbr\\u003eylvan: 0.239\",\"Layer 7 Expert 63:\\u003cbr\\u003e*}[: 0.343\\u003cbr\\u003eписание: 0.341\\u003cbr\\u003echrift: 0.314\\u003cbr\\u003ekos: 0.306\\u003cbr\\u003e коле: 0.293\",\"Layer 7 Shared Experts:\\u003cbr\\u003eigar: 0.700\\u003cbr\\u003e��: 0.696\\u003cbr\\u003eociety: 0.632\\u003cbr\\u003e└: 0.629\\u003cbr\\u003e ISNULL: 0.591\",\"Layer 8 Output:\\u003cbr\\u003eidual: 3.357\\u003cbr\\u003ewidet: 2.781\\u003cbr\\u003eequalities: 2.670\\u003cbr\\u003eGLOB: 2.570\\u003cbr\\u003elides: 2.570\",\"Layer 8 Expert 3:\\u003cbr\\u003esman: 0.233\\u003cbr\\u003eolat: 0.230\\u003cbr\\u003eamic: 0.204\\u003cbr\\u003einently: 0.197\\u003cbr\\u003e固定: 0.196\",\"Layer 8 Expert 5:\\u003cbr\\u003ePIO: 0.146\\u003cbr\\u003e图片发自简书: 0.137\\u003cbr\\u003e辩: 0.133\\u003cbr\\u003egroupId: 0.132\\u003cbr\\u003e利物: 0.129\",\"Layer 8 Expert 13:\\u003cbr\\u003e\\u002f: 0.251\\u003cbr\\u003e \\u002f: 0.244\\u003cbr\\u003e Boy: 0.227\\u003cbr\\u003e +: 0.224\\u003cbr\\u003e�: 0.217\",\"Layer 8 Expert 48:\\u003cbr\\u003eTOOLSET: 0.283\\u003cbr\\u003eedded: 0.282\\u003cbr\\u003eSED: 0.273\\u003cbr\\u003eCci: 0.271\\u003cbr\\u003eStrunz: 0.268\",\"Layer 8 Expert 52:\\u003cbr\\u003eovent: 0.238\\u003cbr\\u003e canviant: 0.237\\u003cbr\\u003eadur: 0.236\\u003cbr\\u003e}.): 0.235\\u003cbr\\u003e��: 0.232\",\"Layer 8 Expert 57:\\u003cbr\\u003eetable: 0.331\\u003cbr\\u003eкор: 0.299\\u003cbr\\u003e廓: 0.284\\u003cbr\\u003eщни: 0.275\\u003cbr\\u003e﻿﻿: 0.264\",\"Layer 8 Shared Experts:\\u003cbr\\u003e Comen: 0.809\\u003cbr\\u003eкле: 0.780\\u003cbr\\u003e trunks: 0.749\\u003cbr\\u003eятно: 0.745\\u003cbr\\u003e\\\\!=\\\\!: 0.743\",\"Layer 9 Output:\\u003cbr\\u003eidual: 3.270\\u003cbr\\u003e Ам: 3.059\\u003cbr\\u003ewidet: 2.945\\u003cbr\\u003ethr: 2.787\\u003cbr\\u003eflare: 2.781\",\"Layer 9 Expert 9:\\u003cbr\\u003eallies: 0.189\\u003cbr\\u003e Part: 0.171\\u003cbr\\u003ema: 0.162\\u003cbr\\u003eategory: 0.160\\u003cbr\\u003e Parts: 0.153\",\"Layer 9 Expert 19:\\u003cbr\\u003einois: 0.242\\u003cbr\\u003eмонт: 0.233\\u003cbr\\u003eidament: 0.219\\u003cbr\\u003e品牌的: 0.219\\u003cbr\\u003ettl: 0.215\",\"Layer 9 Expert 21:\\u003cbr\\u003e��: 0.301\\u003cbr\\u003eflesh: 0.235\\u003cbr\\u003eLAIN: 0.224\\u003cbr\\u003edain: 0.201\\u003cbr\\u003e integraven: 0.201\",\"Layer 9 Expert 40:\\u003cbr\\u003e0: 0.509\\u003cbr\\u003e7: 0.500\\u003cbr\\u003e4: 0.496\\u003cbr\\u003e2: 0.495\\u003cbr\\u003e9: 0.485\",\"Layer 9 Expert 50:\\u003cbr\\u003eichthys: 0.236\\u003cbr\\u003eприл: 0.208\\u003cbr\\u003eManifest: 0.202\\u003cbr\\u003e spokes: 0.194\\u003cbr\\u003e��: 0.192\",\"Layer 9 Expert 57:\\u003cbr\\u003e值: 0.970\\u003cbr\\u003eupe: 0.911\\u003cbr\\u003eдите: 0.907\\u003cbr\\u003eenses: 0.902\\u003cbr\\u003eщност: 0.896\",\"Layer 9 Shared Experts:\\u003cbr\\u003e乎: 0.942\\u003cbr\\u003eбар: 0.862\\u003cbr\\u003eбре: 0.816\\u003cbr\\u003e Local: 0.754\\u003cbr\\u003easar: 0.750\",\"Layer 10 Output:\\u003cbr\\u003eICLE: 4.207\\u003cbr\\u003epiration: 4.062\\u003cbr\\u003eequalities: 4.051\\u003cbr\\u003esembly: 3.988\\u003cbr\\u003euja: 3.971\",\"Layer 10 Expert 1:\\u003cbr\\u003eilst: 1.014\\u003cbr\\u003eientos: 0.980\\u003cbr\\u003eabor: 0.978\\u003cbr\\u003eguez: 0.976\\u003cbr\\u003ealic: 0.933\",\"Layer 10 Expert 23:\\u003cbr\\u003earitat: 0.737\\u003cbr\\u003esa: 0.712\\u003cbr\\u003e落地: 0.661\\u003cbr\\u003eoya: 0.579\\u003cbr\\u003e全家: 0.576\",\"Layer 10 Expert 41:\\u003cbr\\u003e4: 0.190\\u003cbr\\u003e7: 0.186\\u003cbr\\u003e5: 0.179\\u003cbr\\u003e3: 0.171\\u003cbr\\u003e2: 0.167\",\"Layer 10 Expert 49:\\u003cbr\\u003e същест: 0.600\\u003cbr\\u003eynchronously: 0.556\\u003cbr\\u003e Кън: 0.554\\u003cbr\\u003e Методий: 0.536\\u003cbr\\u003eGedmo: 0.535\",\"Layer 10 Expert 53:\\u003cbr\\u003e davall: 0.517\\u003cbr\\u003eAGER: 0.478\\u003cbr\\u003e斤: 0.464\\u003cbr\\u003eober: 0.448\\u003cbr\\u003eският: 0.446\",\"Layer 10 Expert 59:\\u003cbr\\u003eclustered: 0.205\\u003cbr\\u003eспи: 0.204\\u003cbr\\u003e注意的是: 0.201\\u003cbr\\u003e gall: 0.194\\u003cbr\\u003e line: 0.192\",\"Layer 10 Shared Experts:\\u003cbr\\u003e l: 1.093\\u003cbr\\u003e lo: 1.069\\u003cbr\\u003eLZ: 0.983\\u003cbr\\u003e包: 0.913\\u003cbr\\u003e m: 0.904\",\"Layer 11 Output:\\u003cbr\\u003esembly: 4.434\\u003cbr\\u003essil: 4.219\\u003cbr\\u003eillation: 4.172\\u003cbr\\u003exiller: 4.098\\u003cbr\\u003eequalities: 3.908\",\"Layer 11 Expert 1:\\u003cbr\\u003eЧа: 0.609\\u003cbr\\u003e�: 0.528\\u003cbr\\u003e鼠: 0.527\\u003cbr\\u003eMIS: 0.522\\u003cbr\\u003eтото: 0.522\",\"Layer 11 Expert 14:\\u003cbr\\u003ehe: 0.217\\u003cbr\\u003e mne: 0.206\\u003cbr\\u003e凝: 0.203\\u003cbr\\u003e pert: 0.199\\u003cbr\\u003eцев: 0.194\",\"Layer 11 Expert 22:\\u003cbr\\u003e9: 0.218\\u003cbr\\u003e–: 0.194\\u003cbr\\u003e5: 0.189\\u003cbr\\u003e7: 0.188\\u003cbr\\u003elev: 0.185\",\"Layer 11 Expert 30:\\u003cbr\\u003e2: 0.638\\u003cbr\\u003e1: 0.555\\u003cbr\\u003e5: 0.527\\u003cbr\\u003e4: 0.524\\u003cbr\\u003e9: 0.522\",\"Layer 11 Expert 44:\\u003cbr\\u003eOBJECT: 0.326\\u003cbr\\u003e||||: 0.323\\u003cbr\\u003e�: 0.317\\u003cbr\\u003ebein: 0.317\\u003cbr\\u003eBIT: 0.315\",\"Layer 11 Expert 54:\\u003cbr\\u003eases: 0.352\\u003cbr\\u003eAlliberament: 0.350\\u003cbr\\u003elef: 0.336\\u003cbr\\u003e做多: 0.326\\u003cbr\\u003e Segura: 0.325\",\"Layer 11 Shared Experts:\\u003cbr\\u003e part: 0.873\\u003cbr\\u003e PY: 0.802\\u003cbr\\u003e multiplex: 0.796\\u003cbr\\u003e: 0.777\\u003cbr\\u003eзай: 0.766\",\"Layer 12 Output:\\u003cbr\\u003eazi: 4.242\\u003cbr\\u003e亿亿亿: 4.176\\u003cbr\\u003eICLE: 4.082\\u003cbr\\u003e姆斯: 4.051\\u003cbr\\u003eequalities: 4.023\",\"Layer 12 Expert 15:\\u003cbr\\u003eятно: 0.275\\u003cbr\\u003eescription: 0.254\\u003cbr\\u003exhtml: 0.249\\u003cbr\\u003eutad: 0.248\\u003cbr\\u003e Stammtafeln: 0.234\",\"Layer 12 Expert 21:\\u003cbr\\u003eabras: 0.168\\u003cbr\\u003e开出: 0.166\\u003cbr\\u003eлина: 0.164\\u003cbr\\u003eставка: 0.157\\u003cbr\\u003eursor: 0.152\",\"Layer 12 Expert 24:\\u003cbr\\u003e***: 0.306\\u003cbr\\u003e\\u002f__: 0.262\\u003cbr\\u003eembed: 0.262\\u003cbr\\u003eEmbed: 0.261\\u003cbr\\u003e票据: 0.260\",\"Layer 12 Expert 46:\\u003cbr\\u003ehavior: 0.259\\u003cbr\\u003eduino: 0.242\\u003cbr\\u003emalink: 0.233\\u003cbr\\u003eď: 0.233\\u003cbr\\u003e龄: 0.231\",\"Layer 12 Expert 54:\\u003cbr\\u003eвю: 0.223\\u003cbr\\u003egoogleads: 0.216\\u003cbr\\u003eproperty: 0.215\\u003cbr\\u003eovir: 0.210\\u003cbr\\u003eilets: 0.208\",\"Layer 12 Expert 59:\\u003cbr\\u003eansen: 0.379\\u003cbr\\u003eвизи: 0.362\\u003cbr\\u003eARIO: 0.358\\u003cbr\\u003eanim: 0.358\\u003cbr\\u003e aire: 0.357\",\"Layer 12 Shared Experts:\\u003cbr\\u003ef: 1.019\\u003cbr\\u003e1: 0.929\\u003cbr\\u003ede: 0.895\\u003cbr\\u003e8: 0.885\\u003cbr\\u003e6: 0.879\",\"Layer 13 Output:\\u003cbr\\u003eequalities: 5.137\\u003cbr\\u003eillator: 5.129\\u003cbr\\u003eICLE: 5.086\\u003cbr\\u003eобра: 5.023\\u003cbr\\u003exiller: 4.961\",\"Layer 13 Expert 3:\\u003cbr\\u003erpre: 0.209\\u003cbr\\u003eonials: 0.204\\u003cbr\\u003eляне: 0.184\\u003cbr\\u003eoche: 0.180\\u003cbr\\u003ebrance: 0.180\",\"Layer 13 Expert 15:\\u003cbr\\u003e��: 0.967\\u003cbr\\u003e�: 0.877\\u003cbr\\u003e诉: 0.811\\u003cbr\\u003e ba: 0.797\\u003cbr\\u003eстани: 0.790\",\"Layer 13 Expert 18:\\u003cbr\\u003eйска: 0.737\\u003cbr\\u003e O: 0.689\\u003cbr\\u003eSPEC: 0.668\\u003cbr\\u003eord: 0.667\\u003cbr\\u003eod: 0.650\",\"Layer 13 Expert 34:\\u003cbr\\u003eagona: 0.364\\u003cbr\\u003eagat: 0.292\\u003cbr\\u003eagin: 0.277\\u003cbr\\u003e Fabra: 0.269\\u003cbr\\u003erevista: 0.257\",\"Layer 13 Expert 36:\\u003cbr\\u003e犯: 0.267\\u003cbr\\u003eATTACH: 0.224\\u003cbr\\u003ecean: 0.219\\u003cbr\\u003e\\\"\\u003e:\\u003c\\u002f: 0.218\\u003cbr\\u003e напа: 0.206\",\"Layer 13 Expert 60:\\u003cbr\\u003eсец: 1.393\\u003cbr\\u003esetData: 1.198\\u003cbr\\u003eimps: 1.194\\u003cbr\\u003eacord: 1.184\\u003cbr\\u003e Mediterrani: 1.182\",\"Layer 13 Shared Experts:\\u003cbr\\u003e懿: 0.879\\u003cbr\\u003eUNG: 0.853\\u003cbr\\u003e nud: 0.833\\u003cbr\\u003eouch: 0.833\\u003cbr\\u003erequ: 0.826\",\"Layer 14 Output:\\u003cbr\\u003eОкръг: 6.625\\u003cbr\\u003eCODEGEN: 6.336\\u003cbr\\u003eебсайт: 6.238\\u003cbr\\u003eillation: 6.109\\u003cbr\\u003eAAAAAAAAAAAAAAAA: 6.062\",\"Layer 14 Expert 9:\\u003cbr\\u003ecity: 1.838\\u003cbr\\u003eReal: 1.759\\u003cbr\\u003eaure: 1.741\\u003cbr\\u003eтивни: 1.733\\u003cbr\\u003einals: 1.719\",\"Layer 14 Expert 23:\\u003cbr\\u003eеми: 0.323\\u003cbr\\u003e肪: 0.315\\u003cbr\\u003e Comen: 0.314\\u003cbr\\u003eabase: 0.309\\u003cbr\\u003e:~: 0.306\",\"Layer 14 Expert 28:\\u003cbr\\u003eeldorf: 1.880\\u003cbr\\u003e?\\u003e\\u003c\\u002f: 1.859\\u003cbr\\u003e?}: 1.791\\u003cbr\\u003e]]\\u003e\\u003c\\u002f: 1.700\\u003cbr\\u003e？: 1.688\",\"Layer 14 Expert 33:\\u003cbr\\u003e anon: 0.190\\u003cbr\\u003eпен: 0.182\\u003cbr\\u003e家常: 0.181\\u003cbr\\u003eamis: 0.180\\u003cbr\\u003e лица: 0.180\",\"Layer 14 Expert 40:\\u003cbr\\u003earder: 0.329\\u003cbr\\u003erani: 0.320\\u003cbr\\u003eкива: 0.302\\u003cbr\\u003eското: 0.289\\u003cbr\\u003epero: 0.285\",\"Layer 14 Expert 44:\\u003cbr\\u003e洗干净: 0.181\\u003cbr\\u003eдис: 0.153\\u003cbr\\u003eudis: 0.153\\u003cbr\\u003evestre: 0.148\\u003cbr\\u003euner: 0.148\",\"Layer 14 Shared Experts:\\u003cbr\\u003e言语: 1.046\\u003cbr\\u003e ...: 0.961\\u003cbr\\u003e狱: 0.933\\u003cbr\\u003eHV: 0.914\\u003cbr\\u003e H: 0.908\",\"Layer 15 Output:\\u003cbr\\u003eОкръг: 10.031\\u003cbr\\u003eебсайт: 8.859\\u003cbr\\u003e същест: 8.055\\u003cbr\\u003eCODEGEN: 8.031\\u003cbr\\u003eultors: 7.777\",\"Layer 15 Expert 2:\\u003cbr\\u003emdc: 0.469\\u003cbr\\u003eПреди: 0.421\\u003cbr\\u003e�: 0.399\\u003cbr\\u003e m: 0.395\\u003cbr\\u003eyy: 0.390\",\"Layer 15 Expert 17:\\u003cbr\\u003eodend: 0.659\\u003cbr\\u003eipi: 0.652\\u003cbr\\u003e利物: 0.542\\u003cbr\\u003eissi: 0.504\\u003cbr\\u003eismo: 0.502\",\"Layer 15 Expert 26:\\u003cbr\\u003e оку: 0.539\\u003cbr\\u003e minimum: 0.533\\u003cbr\\u003e miss: 0.483\\u003cbr\\u003e焦: 0.479\\u003cbr\\u003e formation: 0.477\",\"Layer 15 Expert 27:\\u003cbr\\u003eigament: 0.253\\u003cbr\\u003eagem: 0.252\\u003cbr\\u003eORTS: 0.250\\u003cbr\\u003eelius: 0.249\\u003cbr\\u003eollers: 0.246\",\"Layer 15 Expert 28:\\u003cbr\\u003eлите: 0.183\\u003cbr\\u003eForTesting: 0.158\\u003cbr\\u003e Martorell: 0.154\\u003cbr\\u003eOMET: 0.149\\u003cbr\\u003etesters: 0.145\",\"Layer 15 Expert 29:\\u003cbr\\u003eicot: 0.931\\u003cbr\\u003eometrics: 0.915\\u003cbr\\u003eondre: 0.913\\u003cbr\\u003eusen: 0.874\\u003cbr\\u003evols: 0.868\",\"Layer 15 Shared Experts:\\u003cbr\\u003eнда: 1.062\\u003cbr\\u003e耗: 0.998\\u003cbr\\u003eлио: 0.992\\u003cbr\\u003e(#: 0.972\\u003cbr\\u003epra: 0.968\",\"Layer 16 Output:\\u003cbr\\u003eебсайт: 9.039\\u003cbr\\u003eОкръг: 8.609\\u003cbr\\u003eCODEGEN: 7.875\\u003cbr\\u003eequalities: 7.543\\u003cbr\\u003e същест: 7.496\",\"Layer 16 Expert 15:\\u003cbr\\u003e��: 1.115\\u003cbr\\u003eProtoBuf: 1.029\\u003cbr\\u003eisSet: 1.028\\u003cbr\\u003eoulli: 1.023\\u003cbr\\u003euala: 1.003\",\"Layer 16 Expert 17:\\u003cbr\\u003etyard: 0.326\\u003cbr\\u003ewed: 0.325\\u003cbr\\u003eequ: 0.312\\u003cbr\\u003e tie: 0.307\\u003cbr\\u003epro: 0.307\",\"Layer 16 Expert 24:\\u003cbr\\u003eadera: 0.207\\u003cbr\\u003e=\\\"..\\u002f_: 0.196\\u003cbr\\u003eagine: 0.190\\u003cbr\\u003einverting: 0.177\\u003cbr\\u003epera: 0.172\",\"Layer 16 Expert 30:\\u003cbr\\u003eossible: 0.565\\u003cbr\\u003eplica: 0.469\\u003cbr\\u003eRanges: 0.466\\u003cbr\\u003eettle: 0.462\\u003cbr\\u003eirement: 0.439\",\"Layer 16 Expert 47:\\u003cbr\\u003e置: 0.230\\u003cbr\\u003e立卡: 0.229\\u003cbr\\u003eMsk: 0.208\\u003cbr\\u003e居然: 0.206\\u003cbr\\u003e[--]: 0.198\",\"Layer 16 Expert 62:\\u003cbr\\u003esimply: 0.281\\u003cbr\\u003e simply: 0.277\\u003cbr\\u003e简: 0.263\\u003cbr\\u003e Simply: 0.260\\u003cbr\\u003eSimply: 0.256\",\"Layer 16 Shared Experts:\\u003cbr\\u003e въл: 0.954\\u003cbr\\u003e @: 0.945\\u003cbr\\u003een: 0.915\\u003cbr\\u003e en: 0.895\\u003cbr\\u003ePublished: 0.895\",\"Layer 17 Output:\\u003cbr\\u003eОкръг: 10.211\\u003cbr\\u003eебсайт: 10.117\\u003cbr\\u003e същест: 8.945\\u003cbr\\u003eistat: 8.523\\u003cbr\\u003e华盛顿: 8.195\",\"Layer 17 Expert 0:\\u003cbr\\u003ecourse: 1.585\\u003cbr\\u003einite: 1.363\\u003cbr\\u003euat: 1.223\\u003cbr\\u003esubNav: 1.202\\u003cbr\\u003e course: 1.178\",\"Layer 17 Expert 1:\\u003cbr\\u003e敲: 0.291\\u003cbr\\u003eunton: 0.279\\u003cbr\\u003eissance: 0.271\\u003cbr\\u003eocaust: 0.270\\u003cbr\\u003emercial: 0.269\",\"Layer 17 Expert 12:\\u003cbr\\u003e press: 0.412\\u003cbr\\u003eук: 0.411\\u003cbr\\u003epress: 0.403\\u003cbr\\u003eulet: 0.401\\u003cbr\\u003e content: 0.384\",\"Layer 17 Expert 16:\\u003cbr\\u003eпад: 0.248\\u003cbr\\u003e Natural: 0.217\\u003cbr\\u003eanders: 0.215\\u003cbr\\u003e g: 0.215\\u003cbr\\u003e�: 0.214\",\"Layer 17 Expert 23:\\u003cbr\\u003eften: 1.300\\u003cbr\\u003e往来: 1.183\\u003cbr\\u003e距: 1.166\\u003cbr\\u003eбло: 1.163\\u003cbr\\u003eyond: 1.144\",\"Layer 17 Expert 58:\\u003cbr\\u003e-: 0.490\\u003cbr\\u003e-\\\": 0.385\\u003cbr\\u003e co: 0.376\\u003cbr\\u003e n: 0.368\\u003cbr\\u003epedia: 0.361\",\"Layer 17 Shared Experts:\\u003cbr\\u003eride: 1.351\\u003cbr\\u003e valenc: 1.185\\u003cbr\\u003e catalanes: 1.101\\u003cbr\\u003erides: 1.097\\u003cbr\\u003e \\\\#: 1.095\",\"Layer 18 Output:\\u003cbr\\u003eistat: 10.656\\u003cbr\\u003eебсайт: 10.508\\u003cbr\\u003eОкръг: 9.273\\u003cbr\\u003e същест: 9.148\\u003cbr\\u003e Вашингтон: 9.078\",\"Layer 18 Expert 11:\\u003cbr\\u003espers: 0.273\\u003cbr\\u003eophon: 0.272\\u003cbr\\u003estig: 0.271\\u003cbr\\u003ewards: 0.266\\u003cbr\\u003eIgual: 0.266\",\"Layer 18 Expert 16:\\u003cbr\\u003esetContent: 0.544\\u003cbr\\u003eлика: 0.542\\u003cbr\\u003e加水: 0.521\\u003cbr\\u003eFAST: 0.518\\u003cbr\\u003eicke: 0.512\",\"Layer 18 Expert 22:\\u003cbr\\u003e in: 0.389\\u003cbr\\u003e at: 0.296\\u003cbr\\u003egeu: 0.288\\u003cbr\\u003e\\tin: 0.273\\u003cbr\\u003e负: 0.253\",\"Layer 18 Expert 26:\\u003cbr\\u003e2: 0.411\\u003cbr\\u003e Do: 0.397\\u003cbr\\u003e6: 0.386\\u003cbr\\u003e3: 0.385\\u003cbr\\u003e Уол: 0.376\",\"Layer 18 Expert 45:\\u003cbr\\u003e also: 3.184\\u003cbr\\u003ealso: 3.133\\u003cbr\\u003e ALSO: 2.684\\u003cbr\\u003ehome: 2.422\\u003cbr\\u003e Called: 2.285\",\"Layer 18 Expert 62:\\u003cbr\\u003e衔: 0.291\\u003cbr\\u003e语: 0.287\\u003cbr\\u003e {!: 0.282\\u003cbr\\u003eлата: 0.281\\u003cbr\\u003eoret: 0.281\",\"Layer 18 Shared Experts:\\u003cbr\\u003e华声: 1.236\\u003cbr\\u003ewered: 1.052\\u003cbr\\u003eAY: 1.043\\u003cbr\\u003e牢牢: 1.036\\u003cbr\\u003e翩: 1.006\",\"Layer 19 Output:\\u003cbr\\u003eistat: 11.188\\u003cbr\\u003eебсайт: 10.898\\u003cbr\\u003eillity: 10.438\\u003cbr\\u003e същест: 9.289\\u003cbr\\u003eMBOL: 9.281\",\"Layer 19 Expert 7:\\u003cbr\\u003eREQ: 0.933\\u003cbr\\u003eErrorReason: 0.887\\u003cbr\\u003eRate: 0.878\\u003cbr\\u003eutus: 0.864\\u003cbr\\u003eTY: 0.860\",\"Layer 19 Expert 18:\\u003cbr\\u003e called: 2.014\\u003cbr\\u003e Called: 1.571\\u003cbr\\u003ecalled: 1.563\\u003cbr\\u003e calls: 1.558\\u003cbr\\u003eCalled: 1.526\",\"Layer 19 Expert 22:\\u003cbr\\u003eendor: 0.298\\u003cbr\\u003enex: 0.298\\u003cbr\\u003eEOF: 0.284\\u003cbr\\u003eending: 0.265\\u003cbr\\u003elib: 0.259\",\"Layer 19 Expert 31:\\u003cbr\\u003e ii: 0.258\\u003cbr\\u003e行: 0.240\\u003cbr\\u003e�: 0.238\\u003cbr\\u003e реда: 0.238\\u003cbr\\u003e NT: 0.229\",\"Layer 19 Expert 37:\\u003cbr\\u003e how: 1.155\\u003cbr\\u003ehow: 0.949\\u003cbr\\u003e How: 0.738\\u003cbr\\u003eHow: 0.697\\u003cbr\\u003e HOW: 0.688\",\"Layer 19 Expert 40:\\u003cbr\\u003e block: 0.249\\u003cbr\\u003e工: 0.249\\u003cbr\\u003eblock: 0.245\\u003cbr\\u003e BLOCK: 0.245\\u003cbr\\u003eiscell: 0.240\",\"Layer 19 Shared Experts:\\u003cbr\\u003e怎样的: 1.187\\u003cbr\\u003e什么样的: 1.134\\u003cbr\\u003elj: 1.062\\u003cbr\\u003equiry: 1.001\\u003cbr\\u003einux: 0.982\",\"Layer 20 Output:\\u003cbr\\u003eебсайт: 13.109\\u003cbr\\u003e Вашингтон: 11.898\\u003cbr\\u003eistat: 11.672\\u003cbr\\u003e华盛顿: 11.445\\u003cbr\\u003eillity: 11.430\",\"Layer 20 Expert 16:\\u003cbr\\u003e装的: 1.442\\u003cbr\\u003ereure: 1.268\\u003cbr\\u003ecalled: 1.215\\u003cbr\\u003eonges: 1.181\\u003cbr\\u003e萨斯: 1.144\",\"Layer 20 Expert 18:\\u003cbr\\u003esei: 0.394\\u003cbr\\u003e Territori: 0.374\\u003cbr\\u003eonada: 0.373\\u003cbr\\u003e多少: 0.369\\u003cbr\\u003eottage: 0.357\",\"Layer 20 Expert 25:\\u003cbr\\u003eagrams: 0.461\\u003cbr\\u003eрес: 0.441\\u003cbr\\u003eordinal: 0.438\\u003cbr\\u003eANA: 0.429\\u003cbr\\u003eтински: 0.422\",\"Layer 20 Expert 33:\\u003cbr\\u003e holding: 2.061\\u003cbr\\u003e HOLD: 1.647\\u003cbr\\u003eHold: 1.633\\u003cbr\\u003eholding: 1.627\\u003cbr\\u003e Holding: 1.563\",\"Layer 20 Expert 48:\\u003cbr\\u003e Nom: 0.572\\u003cbr\\u003eibert: 0.530\\u003cbr\\u003e DC: 0.510\\u003cbr\\u003e Washington: 0.490\\u003cbr\\u003eista: 0.485\",\"Layer 20 Expert 51:\\u003cbr\\u003e rather: 0.710\\u003cbr\\u003erather: 0.676\\u003cbr\\u003edying: 0.587\\u003cbr\\u003eOlot: 0.581\\u003cbr\\u003eDynamic: 0.575\",\"Layer 20 Shared Experts:\\u003cbr\\u003etofore: 1.114\\u003cbr\\u003e�: 1.107\\u003cbr\\u003eurally: 1.083\\u003cbr\\u003e┈┈: 1.081\\u003cbr\\u003e..\\\"\\u003e: 1.081\",\"Layer 21 Output:\\u003cbr\\u003e Вашингтон: 13.109\\u003cbr\\u003eistat: 12.859\\u003cbr\\u003eебсайт: 12.359\\u003cbr\\u003e华盛顿: 11.703\\u003cbr\\u003eillity: 11.367\",\"Layer 21 Expert 6:\\u003cbr\\u003eractive: 0.372\\u003cbr\\u003eamed: 0.336\\u003cbr\\u003ezza: 0.316\\u003cbr\\u003e вто: 0.315\\u003cbr\\u003e второ: 0.309\",\"Layer 21 Expert 16:\\u003cbr\\u003e单: 0.653\\u003cbr\\u003eildo: 0.639\\u003cbr\\u003eavy: 0.613\\u003cbr\\u003e扳: 0.608\\u003cbr\\u003e甲状: 0.606\",\"Layer 21 Expert 37:\\u003cbr\\u003eces: 0.147\\u003cbr\\u003eced: 0.147\\u003cbr\\u003e x: 0.143\\u003cbr\\u003e V: 0.141\\u003cbr\\u003ex: 0.139\",\"Layer 21 Expert 42:\\u003cbr\\u003e_: 0.913\\u003cbr\\u003e:_: 0.908\\u003cbr\\u003e __: 0.902\\u003cbr\\u003e__: 0.889\\u003cbr\\u003e?_: 0.876\",\"Layer 21 Expert 46:\\u003cbr\\u003eriba: 0.529\\u003cbr\\u003eibel: 0.478\\u003cbr\\u003evelle: 0.477\\u003cbr\\u003eрира: 0.470\\u003cbr\\u003eucion: 0.462\",\"Layer 21 Expert 47:\\u003cbr\\u003eedit: 0.288\\u003cbr\\u003e -: 0.283\\u003cbr\\u003e0: 0.276\\u003cbr\\u003e[: 0.275\\u003cbr\\u003e3: 0.271\",\"Layer 21 Shared Experts:\\u003cbr\\u003e-: 1.577\\u003cbr\\u003e n: 1.513\\u003cbr\\u003e j: 1.495\\u003cbr\\u003e e: 1.489\\u003cbr\\u003e s: 1.485\",\"Layer 22 Output:\\u003cbr\\u003e Вашингтон: 17.156\\u003cbr\\u003e华盛顿: 15.703\\u003cbr\\u003eASHINGTON: 13.641\\u003cbr\\u003eashington: 13.141\\u003cbr\\u003eWash: 13.055\",\"Layer 22 Expert 5:\\u003cbr\\u003e : 0.938\\u003cbr\\u003e1: 0.896\\u003cbr\\u003e2: 0.877\\u003cbr\\u003e3: 0.776\\u003cbr\\u003e9: 0.729\",\"Layer 22 Expert 20:\\u003cbr\\u003esegu: 1.791\\u003cbr\\u003eonoi: 1.673\\u003cbr\\u003e利物: 1.636\\u003cbr\\u003e F: 1.619\\u003cbr\\u003e爱的人: 1.604\",\"Layer 22 Expert 32:\\u003cbr\\u003eSuch: 0.285\\u003cbr\\u003esuch: 0.280\\u003cbr\\u003eORN: 0.266\\u003cbr\\u003e such: 0.261\\u003cbr\\u003e SUCH: 0.249\",\"Layer 22 Expert 40:\\u003cbr\\u003e=\\\"\\\"\\u002f\\u003e: 2.469\\u003cbr\\u003eempra: 2.432\\u003cbr\\u003e Nova: 2.420\\u003cbr\\u003eNova: 2.395\\u003cbr\\u003eassic: 2.359\",\"Layer 22 Expert 49:\\u003cbr\\u003e ;: 0.329\\u003cbr\\u003e;: 0.281\\u003cbr\\u003e0: 0.275\\u003cbr\\u003e1: 0.272\\u003cbr\\u003e;:: 0.264\",\"Layer 22 Expert 58:\\u003cbr\\u003esitu: 2.137\\u003cbr\\u003eсил: 2.000\\u003cbr\\u003eнат: 1.917\\u003cbr\\u003e намира: 1.885\\u003cbr\\u003elita: 1.854\",\"Layer 22 Shared Experts:\\u003cbr\\u003ewered: 1.894\\u003cbr\\u003eDOCKED: 1.590\\u003cbr\\u003e $: 1.543\\u003cbr\\u003eatzem: 1.481\\u003cbr\\u003eSPHIN: 1.417\",\"Layer 23 Output:\\u003cbr\\u003e Вашингтон: 16.688\\u003cbr\\u003e华盛顿: 16.359\\u003cbr\\u003eWash: 14.719\\u003cbr\\u003eASHINGTON: 14.617\\u003cbr\\u003eебсайт: 14.391\",\"Layer 23 Expert 2:\\u003cbr\\u003e��: 0.270\\u003cbr\\u003eОкръг: 0.266\\u003cbr\\u003eВън: 0.241\\u003cbr\\u003eramfs: 0.234\\u003cbr\\u003eStyleID: 0.229\",\"Layer 23 Expert 6:\\u003cbr\\u003eRIGHT: 0.709\\u003cbr\\u003e right: 0.708\\u003cbr\\u003eנ: 0.694\\u003cbr\\u003eright: 0.688\\u003cbr\\u003esacrifice: 0.665\",\"Layer 23 Expert 17:\\u003cbr\\u003eematic: 0.333\\u003cbr\\u003e管: 0.303\\u003cbr\\u003eredible: 0.295\\u003cbr\\u003e0: 0.287\\u003cbr\\u003e str: 0.279\",\"Layer 23 Expert 19:\\u003cbr\\u003e Confl: 0.338\\u003cbr\\u003eomorphic: 0.316\\u003cbr\\u003eoulli: 0.307\\u003cbr\\u003e丸: 0.288\\u003cbr\\u003e望: 0.288\",\"Layer 23 Expert 41:\\u003cbr\\u003elebre: 0.494\\u003cbr\\u003eidesa: 0.417\\u003cbr\\u003eleta: 0.393\\u003cbr\\u003eleck: 0.393\\u003cbr\\u003erigu: 0.390\",\"Layer 23 Expert 54:\\u003cbr\\u003e cre: 1.981\\u003cbr\\u003eozo: 1.917\\u003cbr\\u003e sic: 1.897\\u003cbr\\u003e休: 1.878\\u003cbr\\u003eEbre: 1.840\",\"Layer 23 Shared Experts:\\u003cbr\\u003eDOCKED: 1.776\\u003cbr\\u003eклопе: 1.699\\u003cbr\\u003e full: 1.672\\u003cbr\\u003e FULL: 1.660\\u003cbr\\u003eumbed: 1.652\",\"Layer 24 Output:\\u003cbr\\u003e Вашингтон: 18.109\\u003cbr\\u003eWash: 17.438\\u003cbr\\u003e华盛顿: 17.328\\u003cbr\\u003eabla: 16.562\\u003cbr\\u003eASHINGTON: 16.359\",\"Layer 24 Expert 0:\\u003cbr\\u003equia: 0.508\\u003cbr\\u003eEix: 0.466\\u003cbr\\u003e�: 0.434\\u003cbr\\u003eiban: 0.425\\u003cbr\\u003eifr: 0.413\",\"Layer 24 Expert 9:\\u003cbr\\u003e\\tto: 2.240\\u003cbr\\u003e to: 1.840\\u003cbr\\u003e\\tnew: 1.548\\u003cbr\\u003e descon: 1.503\\u003cbr\\u003enew: 1.453\",\"Layer 24 Expert 13:\\u003cbr\\u003e it: 2.479\\u003cbr\\u003earlo: 2.332\\u003cbr\\u003e\\tit: 2.203\\u003cbr\\u003e port: 2.127\\u003cbr\\u003eatzem: 2.123\",\"Layer 24 Expert 28:\\u003cbr\\u003eunder: 1.849\\u003cbr\\u003eUnder: 1.703\\u003cbr\\u003e Under: 1.676\\u003cbr\\u003e under: 1.657\\u003cbr\\u003eпод: 1.554\",\"Layer 24 Expert 32:\\u003cbr\\u003eазар: 0.600\\u003cbr\\u003eX: 0.599\\u003cbr\\u003e X: 0.583\\u003cbr\\u003e】【: 0.523\\u003cbr\\u003eXX: 0.506\",\"Layer 24 Expert 49:\\u003cbr\\u003e involving: 9.523\\u003cbr\\u003eostes: 7.586\\u003cbr\\u003e involved: 7.180\\u003cbr\\u003e жа: 7.078\\u003cbr\\u003e мер: 7.000\",\"Layer 24 Shared Experts:\\u003cbr\\u003e\\n: 1.811\\u003cbr\\u003e h: 1.661\\u003cbr\\u003e :: 1.507\\u003cbr\\u003e\\u003c｜end▁of▁sentence｜\\u003e: 1.498\\u003cbr\\u003e�: 1.497\",\"Layer 25 Output:\\u003cbr\\u003e washing: 20.844\\u003cbr\\u003eWash: 19.125\\u003cbr\\u003ewash: 17.078\\u003cbr\\u003e Вашингтон: 16.797\\u003cbr\\u003e华盛顿: 16.594\",\"Layer 25 Expert 11:\\u003cbr\\u003e set: 1.393\\u003cbr\\u003e\\tset: 1.093\\u003cbr\\u003eset: 0.973\\u003cbr\\u003e Set: 0.914\\u003cbr\\u003e setup: 0.812\",\"Layer 25 Expert 29:\\u003cbr\\u003eRoine: 3.930\\u003cbr\\u003eографи: 3.777\\u003cbr\\u003euese: 3.709\\u003cbr\\u003equitect: 3.676\\u003cbr\\u003eulture: 3.641\",\"Layer 25 Expert 34:\\u003cbr\\u003eurther: 1.122\\u003cbr\\u003elus: 1.018\\u003cbr\\u003eдва: 0.982\\u003cbr\\u003e Хай: 0.974\\u003cbr\\u003eпус: 0.971\",\"Layer 25 Expert 53:\\u003cbr\\u003e是非: 0.938\\u003cbr\\u003e\\f: 0.819\\u003cbr\\u003eCatholic: 0.770\\u003cbr\\u003estructured: 0.762\\u003cbr\\u003eoof: 0.760\",\"Layer 25 Expert 54:\\u003cbr\\u003eнасти: 0.406\\u003cbr\\u003eсата: 0.387\\u003cbr\\u003e��: 0.379\\u003cbr\\u003e华声在线: 0.360\\u003cbr\\u003e上火: 0.358\",\"Layer 25 Expert 58:\\u003cbr\\u003eмила: 0.678\\u003cbr\\u003e sh: 0.678\\u003cbr\\u003espath: 0.630\\u003cbr\\u003eзите: 0.623\\u003cbr\\u003eandal: 0.593\",\"Layer 25 Shared Experts:\\u003cbr\\u003e : 7.062\\u003cbr\\u003e,: 5.965\\u003cbr\\u003e\\n: 5.785\\u003cbr\\u003e...: 5.711\\u003cbr\\u003e -: 5.672\",\"Layer 26 Output:\\u003cbr\\u003e\\n: 33.406\\u003cbr\\u003e washing: 31.531\\u003cbr\\u003e...: 28.719\\u003cbr\\u003e : 28.016\\u003cbr\\u003e located: 26.938\",\"Layer 26 Expert 5:\\u003cbr\\u003e Northern: 0.913\\u003cbr\\u003e centrals: 0.909\\u003cbr\\u003e Central: 0.889\\u003cbr\\u003e Southern: 0.844\\u003cbr\\u003e southern: 0.833\",\"Layer 26 Expert 14:\\u003cbr\\u003e||: 1.812\\u003cbr\\u003e *\\u002f: 1.708\\u003cbr\\u003e*\\u002f: 1.419\\u003cbr\\u003e'},: 1.404\\u003cbr\\u003e *\\u002f;: 1.390\",\"Layer 26 Expert 26:\\u003cbr\\u003e rec: 1.355\\u003cbr\\u003e part: 1.328\\u003cbr\\u003e shown: 1.253\\u003cbr\\u003e home: 1.250\\u003cbr\\u003e prepar: 1.246\",\"Layer 26 Expert 32:\\u003cbr\\u003eiative: 5.719\\u003cbr\\u003e academia: 4.375\\u003cbr\\u003e whom: 4.336\\u003cbr\\u003eiconductor: 4.176\\u003cbr\\u003ecoln: 4.125\",\"Layer 26 Expert 34:\\u003cbr\\u003e one: 0.993\\u003cbr\\u003eismus: 0.984\\u003cbr\\u003eкира: 0.907\\u003cbr\\u003eiName: 0.880\\u003cbr\\u003eone: 0.874\",\"Layer 26 Expert 46:\\u003cbr\\u003e：: 0.415\\u003cbr\\u003e:[: 0.362\\u003cbr\\u003e:{: 0.327\\u003cbr\\u003e:*: 0.321\\u003cbr\\u003e:$: 0.315\",\"Layer 26 Shared Experts:\\u003cbr\\u003e...: 21.641\\u003cbr\\u003e : 18.828\\u003cbr\\u003e…: 18.484\\u003cbr\\u003e..: 18.156\\u003cbr\\u003e?: 17.812\",\"Layer 27 Output:\\u003cbr\\u003e : 65.000\\u003cbr\\u003e,: 62.531\\u003cbr\\u003e\\n: 61.969\\u003cbr\\u003e a: 61.125\\u003cbr\\u003e in: 60.188\",\"Layer 27 Expert 7:\\u003cbr\\u003e imperative: 0.416\\u003cbr\\u003e preferable: 0.392\\u003cbr\\u003e necessary: 0.390\\u003cbr\\u003e needed: 0.388\\u003cbr\\u003e appropriate: 0.375\",\"Layer 27 Expert 8:\\u003cbr\\u003e high: 0.214\\u003cbr\\u003e another: 0.203\\u003cbr\\u003e two: 0.191\\u003cbr\\u003e several: 0.190\\u003cbr\\u003e some: 0.189\",\"Layer 27 Expert 9:\\u003cbr\\u003e，: 1.453\\u003cbr\\u003e。: 1.287\\u003cbr\\u003e、: 1.193\\u003cbr\\u003e\\\"；: 1.006\\u003cbr\\u003e】: 0.993\",\"Layer 27 Expert 39:\\u003cbr\\u003e dead: 1.398\\u003cbr\\u003edead: 1.110\\u003cbr\\u003e destined: 1.057\\u003cbr\\u003e worth: 1.051\\u003cbr\\u003e born: 1.039\",\"Layer 27 Expert 52:\\u003cbr\\u003e working: 1.059\\u003cbr\\u003e operating: 0.971\\u003cbr\\u003e running: 0.950\\u003cbr\\u003e remaining: 0.916\\u003cbr\\u003e gearing: 0.896\",\"Layer 27 Expert 59:\\u003cbr\\u003e super: 1.346\\u003cbr\\u003e so: 1.230\\u003cbr\\u003e sure: 1.167\\u003cbr\\u003e taken: 1.134\\u003cbr\\u003e gone: 1.119\",\"Layer 27 Shared Experts:\\u003cbr\\u003e,: 43.844\\u003cbr\\u003e and: 41.188\\u003cbr\\u003e : 40.812\\u003cbr\\u003e.: 40.688\\u003cbr\\u003e (: 38.906\"],\"x\":[0,0,5,15,31,37,45,46,65,0,8,9,13,51,58,62,65,0,1,26,30,56,61,64,65,0,3,8,31,44,50,53,65,0,20,31,38,49,58,59,65,0,5,48,51,58,61,64,65,0,10,15,38,39,60,64,65,0,4,6,14,49,53,58,65,0,10,20,22,41,51,58,65,0,2,24,42,50,54,60,65,0,2,15,23,31,45,55,65,0,16,22,25,47,55,60,65,0,4,16,19,35,37,61,65,0,10,24,29,34,41,45,65,0,3,18,27,28,29,30,65,0,16,18,25,31,48,63,65,0,1,2,13,17,24,59,65,0,12,17,23,27,46,63,65,0,8,19,23,32,38,41,65,0,17,19,26,34,49,52,65,0,7,17,38,43,47,48,65,0,6,21,33,41,50,59,65,0,3,7,18,20,42,55,65,0,1,10,14,29,33,50,65,0,12,30,35,54,55,59,65,0,6,15,27,33,35,47,65,0,8,9,10,40,53,60,65],\"y\":[0,1,1,1,1,1,1,1,1,2,2,2,2,2,2,2,2,3,3,3,3,3,3,3,3,4,4,4,4,4,4,4,4,5,5,5,5,5,5,5,5,6,6,6,6,6,6,6,6,7,7,7,7,7,7,7,7,8,8,8,8,8,8,8,8,9,9,9,9,9,9,9,9,10,10,10,10,10,10,10,10,11,11,11,11,11,11,11,11,12,12,12,12,12,12,12,12,13,13,13,13,13,13,13,13,14,14,14,14,14,14,14,14,15,15,15,15,15,15,15,15,16,16,16,16,16,16,16,16,17,17,17,17,17,17,17,17,18,18,18,18,18,18,18,18,19,19,19,19,19,19,19,19,20,20,20,20,20,20,20,20,21,21,21,21,21,21,21,21,22,22,22,22,22,22,22,22,23,23,23,23,23,23,23,23,24,24,24,24,24,24,24,24,25,25,25,25,25,25,25,25,26,26,26,26,26,26,26,26,27,27,27,27,27,27,27,27],\"type\":\"scatter\"}],                        {\"template\":{\"data\":{\"histogram2dcontour\":[{\"type\":\"histogram2dcontour\",\"colorbar\":{\"outlinewidth\":0,\"ticks\":\"\"},\"colorscale\":[[0.0,\"#0d0887\"],[0.1111111111111111,\"#46039f\"],[0.2222222222222222,\"#7201a8\"],[0.3333333333333333,\"#9c179e\"],[0.4444444444444444,\"#bd3786\"],[0.5555555555555556,\"#d8576b\"],[0.6666666666666666,\"#ed7953\"],[0.7777777777777778,\"#fb9f3a\"],[0.8888888888888888,\"#fdca26\"],[1.0,\"#f0f921\"]]}],\"choropleth\":[{\"type\":\"choropleth\",\"colorbar\":{\"outlinewidth\":0,\"ticks\":\"\"}}],\"histogram2d\":[{\"type\":\"histogram2d\",\"colorbar\":{\"outlinewidth\":0,\"ticks\":\"\"},\"colorscale\":[[0.0,\"#0d0887\"],[0.1111111111111111,\"#46039f\"],[0.2222222222222222,\"#7201a8\"],[0.3333333333333333,\"#9c179e\"],[0.4444444444444444,\"#bd3786\"],[0.5555555555555556,\"#d8576b\"],[0.6666666666666666,\"#ed7953\"],[0.7777777777777778,\"#fb9f3a\"],[0.8888888888888888,\"#fdca26\"],[1.0,\"#f0f921\"]]}],\"heatmap\":[{\"type\":\"heatmap\",\"colorbar\":{\"outlinewidth\":0,\"ticks\":\"\"},\"colorscale\":[[0.0,\"#0d0887\"],[0.1111111111111111,\"#46039f\"],[0.2222222222222222,\"#7201a8\"],[0.3333333333333333,\"#9c179e\"],[0.4444444444444444,\"#bd3786\"],[0.5555555555555556,\"#d8576b\"],[0.6666666666666666,\"#ed7953\"],[0.7777777777777778,\"#fb9f3a\"],[0.8888888888888888,\"#fdca26\"],[1.0,\"#f0f921\"]]}],\"heatmapgl\":[{\"type\":\"heatmapgl\",\"colorbar\":{\"outlinewidth\":0,\"ticks\":\"\"},\"colorscale\":[[0.0,\"#0d0887\"],[0.1111111111111111,\"#46039f\"],[0.2222222222222222,\"#7201a8\"],[0.3333333333333333,\"#9c179e\"],[0.4444444444444444,\"#bd3786\"],[0.5555555555555556,\"#d8576b\"],[0.6666666666666666,\"#ed7953\"],[0.7777777777777778,\"#fb9f3a\"],[0.8888888888888888,\"#fdca26\"],[1.0,\"#f0f921\"]]}],\"contourcarpet\":[{\"type\":\"contourcarpet\",\"colorbar\":{\"outlinewidth\":0,\"ticks\":\"\"}}],\"contour\":[{\"type\":\"contour\",\"colorbar\":{\"outlinewidth\":0,\"ticks\":\"\"},\"colorscale\":[[0.0,\"#0d0887\"],[0.1111111111111111,\"#46039f\"],[0.2222222222222222,\"#7201a8\"],[0.3333333333333333,\"#9c179e\"],[0.4444444444444444,\"#bd3786\"],[0.5555555555555556,\"#d8576b\"],[0.6666666666666666,\"#ed7953\"],[0.7777777777777778,\"#fb9f3a\"],[0.8888888888888888,\"#fdca26\"],[1.0,\"#f0f921\"]]}],\"surface\":[{\"type\":\"surface\",\"colorbar\":{\"outlinewidth\":0,\"ticks\":\"\"},\"colorscale\":[[0.0,\"#0d0887\"],[0.1111111111111111,\"#46039f\"],[0.2222222222222222,\"#7201a8\"],[0.3333333333333333,\"#9c179e\"],[0.4444444444444444,\"#bd3786\"],[0.5555555555555556,\"#d8576b\"],[0.6666666666666666,\"#ed7953\"],[0.7777777777777778,\"#fb9f3a\"],[0.8888888888888888,\"#fdca26\"],[1.0,\"#f0f921\"]]}],\"mesh3d\":[{\"type\":\"mesh3d\",\"colorbar\":{\"outlinewidth\":0,\"ticks\":\"\"}}],\"scatter\":[{\"fillpattern\":{\"fillmode\":\"overlay\",\"size\":10,\"solidity\":0.2},\"type\":\"scatter\"}],\"parcoords\":[{\"type\":\"parcoords\",\"line\":{\"colorbar\":{\"outlinewidth\":0,\"ticks\":\"\"}}}],\"scatterpolargl\":[{\"type\":\"scatterpolargl\",\"marker\":{\"colorbar\":{\"outlinewidth\":0,\"ticks\":\"\"}}}],\"bar\":[{\"error_x\":{\"color\":\"#2a3f5f\"},\"error_y\":{\"color\":\"#2a3f5f\"},\"marker\":{\"line\":{\"color\":\"#E5ECF6\",\"width\":0.5},\"pattern\":{\"fillmode\":\"overlay\",\"size\":10,\"solidity\":0.2}},\"type\":\"bar\"}],\"scattergeo\":[{\"type\":\"scattergeo\",\"marker\":{\"colorbar\":{\"outlinewidth\":0,\"ticks\":\"\"}}}],\"scatterpolar\":[{\"type\":\"scatterpolar\",\"marker\":{\"colorbar\":{\"outlinewidth\":0,\"ticks\":\"\"}}}],\"histogram\":[{\"marker\":{\"pattern\":{\"fillmode\":\"overlay\",\"size\":10,\"solidity\":0.2}},\"type\":\"histogram\"}],\"scattergl\":[{\"type\":\"scattergl\",\"marker\":{\"colorbar\":{\"outlinewidth\":0,\"ticks\":\"\"}}}],\"scatter3d\":[{\"type\":\"scatter3d\",\"line\":{\"colorbar\":{\"outlinewidth\":0,\"ticks\":\"\"}},\"marker\":{\"colorbar\":{\"outlinewidth\":0,\"ticks\":\"\"}}}],\"scattermapbox\":[{\"type\":\"scattermapbox\",\"marker\":{\"colorbar\":{\"outlinewidth\":0,\"ticks\":\"\"}}}],\"scatterternary\":[{\"type\":\"scatterternary\",\"marker\":{\"colorbar\":{\"outlinewidth\":0,\"ticks\":\"\"}}}],\"scattercarpet\":[{\"type\":\"scattercarpet\",\"marker\":{\"colorbar\":{\"outlinewidth\":0,\"ticks\":\"\"}}}],\"carpet\":[{\"aaxis\":{\"endlinecolor\":\"#2a3f5f\",\"gridcolor\":\"white\",\"linecolor\":\"white\",\"minorgridcolor\":\"white\",\"startlinecolor\":\"#2a3f5f\"},\"baxis\":{\"endlinecolor\":\"#2a3f5f\",\"gridcolor\":\"white\",\"linecolor\":\"white\",\"minorgridcolor\":\"white\",\"startlinecolor\":\"#2a3f5f\"},\"type\":\"carpet\"}],\"table\":[{\"cells\":{\"fill\":{\"color\":\"#EBF0F8\"},\"line\":{\"color\":\"white\"}},\"header\":{\"fill\":{\"color\":\"#C8D4E3\"},\"line\":{\"color\":\"white\"}},\"type\":\"table\"}],\"barpolar\":[{\"marker\":{\"line\":{\"color\":\"#E5ECF6\",\"width\":0.5},\"pattern\":{\"fillmode\":\"overlay\",\"size\":10,\"solidity\":0.2}},\"type\":\"barpolar\"}],\"pie\":[{\"automargin\":true,\"type\":\"pie\"}]},\"layout\":{\"autotypenumbers\":\"strict\",\"colorway\":[\"#636efa\",\"#EF553B\",\"#00cc96\",\"#ab63fa\",\"#FFA15A\",\"#19d3f3\",\"#FF6692\",\"#B6E880\",\"#FF97FF\",\"#FECB52\"],\"font\":{\"color\":\"#2a3f5f\"},\"hovermode\":\"closest\",\"hoverlabel\":{\"align\":\"left\"},\"paper_bgcolor\":\"white\",\"plot_bgcolor\":\"#E5ECF6\",\"polar\":{\"bgcolor\":\"#E5ECF6\",\"angularaxis\":{\"gridcolor\":\"white\",\"linecolor\":\"white\",\"ticks\":\"\"},\"radialaxis\":{\"gridcolor\":\"white\",\"linecolor\":\"white\",\"ticks\":\"\"}},\"ternary\":{\"bgcolor\":\"#E5ECF6\",\"aaxis\":{\"gridcolor\":\"white\",\"linecolor\":\"white\",\"ticks\":\"\"},\"baxis\":{\"gridcolor\":\"white\",\"linecolor\":\"white\",\"ticks\":\"\"},\"caxis\":{\"gridcolor\":\"white\",\"linecolor\":\"white\",\"ticks\":\"\"}},\"coloraxis\":{\"colorbar\":{\"outlinewidth\":0,\"ticks\":\"\"}},\"colorscale\":{\"sequential\":[[0.0,\"#0d0887\"],[0.1111111111111111,\"#46039f\"],[0.2222222222222222,\"#7201a8\"],[0.3333333333333333,\"#9c179e\"],[0.4444444444444444,\"#bd3786\"],[0.5555555555555556,\"#d8576b\"],[0.6666666666666666,\"#ed7953\"],[0.7777777777777778,\"#fb9f3a\"],[0.8888888888888888,\"#fdca26\"],[1.0,\"#f0f921\"]],\"sequentialminus\":[[0.0,\"#0d0887\"],[0.1111111111111111,\"#46039f\"],[0.2222222222222222,\"#7201a8\"],[0.3333333333333333,\"#9c179e\"],[0.4444444444444444,\"#bd3786\"],[0.5555555555555556,\"#d8576b\"],[0.6666666666666666,\"#ed7953\"],[0.7777777777777778,\"#fb9f3a\"],[0.8888888888888888,\"#fdca26\"],[1.0,\"#f0f921\"]],\"diverging\":[[0,\"#8e0152\"],[0.1,\"#c51b7d\"],[0.2,\"#de77ae\"],[0.3,\"#f1b6da\"],[0.4,\"#fde0ef\"],[0.5,\"#f7f7f7\"],[0.6,\"#e6f5d0\"],[0.7,\"#b8e186\"],[0.8,\"#7fbc41\"],[0.9,\"#4d9221\"],[1,\"#276419\"]]},\"xaxis\":{\"gridcolor\":\"white\",\"linecolor\":\"white\",\"ticks\":\"\",\"title\":{\"standoff\":15},\"zerolinecolor\":\"white\",\"automargin\":true,\"zerolinewidth\":2},\"yaxis\":{\"gridcolor\":\"white\",\"linecolor\":\"white\",\"ticks\":\"\",\"title\":{\"standoff\":15},\"zerolinecolor\":\"white\",\"automargin\":true,\"zerolinewidth\":2},\"scene\":{\"xaxis\":{\"backgroundcolor\":\"#E5ECF6\",\"gridcolor\":\"white\",\"linecolor\":\"white\",\"showbackground\":true,\"ticks\":\"\",\"zerolinecolor\":\"white\",\"gridwidth\":2},\"yaxis\":{\"backgroundcolor\":\"#E5ECF6\",\"gridcolor\":\"white\",\"linecolor\":\"white\",\"showbackground\":true,\"ticks\":\"\",\"zerolinecolor\":\"white\",\"gridwidth\":2},\"zaxis\":{\"backgroundcolor\":\"#E5ECF6\",\"gridcolor\":\"white\",\"linecolor\":\"white\",\"showbackground\":true,\"ticks\":\"\",\"zerolinecolor\":\"white\",\"gridwidth\":2}},\"shapedefaults\":{\"line\":{\"color\":\"#2a3f5f\"}},\"annotationdefaults\":{\"arrowcolor\":\"#2a3f5f\",\"arrowhead\":0,\"arrowwidth\":1},\"geo\":{\"bgcolor\":\"white\",\"landcolor\":\"#E5ECF6\",\"subunitcolor\":\"white\",\"showland\":true,\"showlakes\":true,\"lakecolor\":\"white\"},\"title\":{\"x\":0.05},\"mapbox\":{\"style\":\"light\"}}},\"xaxis\":{\"title\":{\"text\":\"layer output | routed experts | shared experts\"},\"ticktext\":[\"l_out\",\" 0\",\" 1\",\" 2\",\" 3\",\" 4\",\" 5\",\" 6\",\" 7\",\" 8\",\" 9\",\" 10\",\" 11\",\" 12\",\" 13\",\" 14\",\" 15\",\" 16\",\" 17\",\" 18\",\" 19\",\" 20\",\" 21\",\" 22\",\" 23\",\" 24\",\" 25\",\" 26\",\" 27\",\" 28\",\" 29\",\" 30\",\" 31\",\" 32\",\" 33\",\" 34\",\" 35\",\" 36\",\" 37\",\" 38\",\" 39\",\" 40\",\" 41\",\" 42\",\" 43\",\" 44\",\" 45\",\" 46\",\" 47\",\" 48\",\" 49\",\" 50\",\" 51\",\" 52\",\" 53\",\" 54\",\" 55\",\" 56\",\" 57\",\" 58\",\" 59\",\" 60\",\" 61\",\" 62\",\" 63\",\"shared experts\"],\"tickvals\":[0,1,2,3,4,5,6,7,8,9,10,11,12,13,14,15,16,17,18,19,20,21,22,23,24,25,26,27,28,29,30,31,32,33,34,35,36,37,38,39,40,41,42,43,44,45,46,47,48,49,50,51,52,53,54,55,56,57,58,59,60,61,62,63,64,65],\"tickangle\":45,\"showgrid\":false},\"yaxis\":{\"title\":{\"text\":\"Layer\"},\"autorange\":\"reversed\",\"showgrid\":false},\"font\":{\"color\":\"white\"},\"title\":{\"text\":\"Expert Contributions and Predictions for Token Position 7\"},\"height\":1000,\"width\":1800,\"plot_bgcolor\":\"black\",\"paper_bgcolor\":\"black\"},                        {\"responsive\": true}                    ).then(function(){\n",
       "                            \n",
       "var gd = document.getElementById('3e2fcc7a-a382-432b-8fae-63eae9e1fc4a');\n",
       "var x = new MutationObserver(function (mutations, observer) {{\n",
       "        var display = window.getComputedStyle(gd).display;\n",
       "        if (!display || display === 'none') {{\n",
       "            console.log([gd, 'removed!']);\n",
       "            Plotly.purge(gd);\n",
       "            observer.disconnect();\n",
       "        }}\n",
       "}});\n",
       "\n",
       "// Listen for the removal of the full notebook cells\n",
       "var notebookContainer = gd.closest('#notebook-container');\n",
       "if (notebookContainer) {{\n",
       "    x.observe(notebookContainer, {childList: true});\n",
       "}}\n",
       "\n",
       "// Listen for the clearing of the current output cell\n",
       "var outputEl = gd.closest('.output');\n",
       "if (outputEl) {{\n",
       "    x.observe(outputEl, {childList: true});\n",
       "}}\n",
       "\n",
       "                        })                };                });            </script>        </div>"
      ]
     },
     "metadata": {},
     "output_type": "display_data"
    }
   ],
   "source": [
    "create_logit_lens_viz(analysis, token_pos=7)"
   ]
  },
  {
   "cell_type": "code",
   "execution_count": null,
   "metadata": {},
   "outputs": [],
   "source": []
  }
 ],
 "metadata": {
  "kernelspec": {
   "display_name": ".venv",
   "language": "python",
   "name": "python3"
  },
  "language_info": {
   "codemirror_mode": {
    "name": "ipython",
    "version": 3
   },
   "file_extension": ".py",
   "mimetype": "text/x-python",
   "name": "python",
   "nbconvert_exporter": "python",
   "pygments_lexer": "ipython3",
   "version": "3.11.11"
  }
 },
 "nbformat": 4,
 "nbformat_minor": 2
}
