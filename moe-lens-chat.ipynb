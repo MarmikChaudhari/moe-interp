{
 "cells": [
  {
   "cell_type": "code",
   "execution_count": 2,
   "metadata": {},
   "outputs": [],
   "source": [
    "from transformers import AutoModelForCausalLM, AutoTokenizer\n",
    "import torch\n",
    "import plotly.express as px\n",
    "import plotly.graph_objects as go\n",
    "import numpy as np\n",
    "import os\n",
    "from typing import Dict, List, Tuple\n",
    "from collections import defaultdict"
   ]
  },
  {
   "cell_type": "code",
   "execution_count": 3,
   "metadata": {},
   "outputs": [
    {
     "data": {
      "application/vnd.jupyter.widget-view+json": {
       "model_id": "5219e27c8094430eb8d69bf79625598d",
       "version_major": 2,
       "version_minor": 0
      },
      "text/plain": [
       "Loading checkpoint shards:   0%|          | 0/8 [00:00<?, ?it/s]"
      ]
     },
     "metadata": {},
     "output_type": "display_data"
    }
   ],
   "source": [
    "def load_model(model_name):\n",
    "    model = AutoModelForCausalLM.from_pretrained(\n",
    "        model_name,\n",
    "        torch_dtype=torch.float16,\n",
    "        trust_remote_code=True,\n",
    "        # use_flash_attention_2=True,\n",
    "    )\n",
    "    tokenizer = AutoTokenizer.from_pretrained(model_name)\n",
    "    return model, tokenizer\n",
    "\n",
    "model, tokenizer = load_model(\"Qwen/Qwen1.5-MoE-A2.7B\")"
   ]
  },
  {
   "cell_type": "code",
   "execution_count": 4,
   "metadata": {},
   "outputs": [],
   "source": [
    "def get_top_k_tokens(hidden_states: torch.Tensor, lm_head: torch.nn.Linear, tokenizer, k: int = 5) -> List[Tuple[str, float]]:\n",
    "    \"\"\" get topk tokens from hidden states using lm head \"\"\"\n",
    "    with torch.no_grad():\n",
    "        # Ensure hidden_states has at least 2 dimensions (batch_size, num_tokens, hidden_dim)\n",
    "        if hidden_states.dim() == 2:\n",
    "            hidden_states = hidden_states.unsqueeze(0)  # Add batch dimension\n",
    "        logits = lm_head(hidden_states)  # (batch_size, num_tokens, vocab_size)\n",
    "    \n",
    "    # Get top-k tokens\n",
    "    scores, token_ids = torch.topk(logits, k=k, dim=-1)  # (batch_size, num_tokens, k)\n",
    "    \n",
    "    # Decode tokens and collect results for each position\n",
    "    results = []\n",
    "    for pos in range(scores.size(1)):  # Iterate over token positions\n",
    "        pos_results = []\n",
    "        for i in range(k):\n",
    "            token = tokenizer.decode(token_ids[0, pos, i])  # Decode token for this position\n",
    "            score = scores[0, pos, i].item()  # Get score for this position\n",
    "            pos_results.append((token, score))\n",
    "        results.append(pos_results)\n",
    "    \n",
    "    return results"
   ]
  },
  {
   "cell_type": "code",
   "execution_count": 5,
   "metadata": {},
   "outputs": [],
   "source": [
    "class DeepseekLayerAnalyzer:\n",
    "    def __init__(self, model, tokenizer):\n",
    "        self.model = model\n",
    "        self.tokenizer = tokenizer\n",
    "        self.layer_outputs = defaultdict(list)\n",
    "        self.moe_gate_outputs = defaultdict(list)\n",
    "        self.moe_combined_outputs = defaultdict(list)\n",
    "        self.expert_outputs = defaultdict(lambda: defaultdict(list))\n",
    "        self.shared_expert_outputs = defaultdict(list)\n",
    "        self.hooks = []\n",
    "        \n",
    "    def register_hooks(self):\n",
    "        \"\"\"Register hooks for layer outputs and MoE combination points\"\"\"\n",
    "        \n",
    "        def layer_output_hook(layer_idx):\n",
    "            def hook(module, inputs, outputs):\n",
    "                \"\"\"Hook for capturing layer outputs\"\"\"\n",
    "                hidden_states = outputs[0] if isinstance(outputs, tuple) else outputs\n",
    "                self.layer_outputs[layer_idx].append(hidden_states.detach())\n",
    "            return hook\n",
    "\n",
    "        def moe_gate_hook(layer_idx):\n",
    "            def hook(module, inputs, outputs):\n",
    "                \"\"\"Hook for capturing MoE gate outputs before expert computation\"\"\"\n",
    "                # Capture topk_idx, topk_weight, and aux_loss from gate outputs\n",
    "                if isinstance(outputs, tuple):\n",
    "                    topk_idx, topk_weight, aux_loss = outputs\n",
    "                    self.moe_gate_outputs[layer_idx].append({\n",
    "                        'topk_idx': topk_idx.detach(),\n",
    "                        'topk_weight': topk_weight.detach(),\n",
    "                        'aux_loss': aux_loss.detach() if aux_loss is not None else None\n",
    "                    })\n",
    "            return hook\n",
    "\n",
    "        def expert_hook(layer_idx, expert_idx):\n",
    "            def hook(module, inputs, outputs):\n",
    "                \"\"\"Hook for capturing expert outputs\"\"\"\n",
    "                # Get the latest gate outputs for this layer\n",
    "                if not self.moe_gate_outputs[layer_idx]:\n",
    "                    return print(f'no gate outputs for layer {layer_idx}')\n",
    "            \n",
    "                gate_data = self.moe_gate_outputs[layer_idx][-1]\n",
    "                \n",
    "                # Handle 2D or 3D tensor shapes\n",
    "                if len(gate_data['topk_idx'].shape) == 2:\n",
    "                    batch_size = 1\n",
    "                    seq_len, top_k = gate_data['topk_idx'].shape\n",
    "                else:\n",
    "                    batch_size, seq_len, top_k = gate_data['topk_idx'].shape\n",
    "                \n",
    "                # Get mask for tokens where this expert was selected\n",
    "                expert_mask = (gate_data['topk_idx'] == expert_idx)                \n",
    "                # Flatten and find positions where this expert was selected\n",
    "                selected_positions = torch.nonzero(expert_mask, as_tuple=True)\n",
    "                # If no tokens selected this expert, skip\n",
    "                if selected_positions[0].numel() == 0:\n",
    "                    return\n",
    "                    \n",
    "                # Get the actual inputs routed to this expert\n",
    "                # Inputs[0] shape: (total_selected_tokens, hidden_dim)\n",
    "                total_selected = inputs[0].shape[0] \n",
    "                # Validate we're processing the correct number of tokens\n",
    "                expected_selected = expert_mask.sum().item()\n",
    "                if total_selected != expected_selected:\n",
    "                    print(f\" expert {expert_idx} processed {total_selected} tokens but expected {expected_selected}\")\n",
    "                    return\n",
    "                    \n",
    "                # Get the full hidden states from outputs\n",
    "                # outputs shape: (total_selected_tokens, hidden_dim)\n",
    "                hidden_states = outputs\n",
    "                if isinstance(outputs, tuple):\n",
    "                    hidden_states = outputs[0]\n",
    "                    \n",
    "                # Record data for each selected position\n",
    "                for pos_idx, pos in enumerate(selected_positions[0]):\n",
    "                    token_data = {\n",
    "                        'position': pos.item(),\n",
    "                        'input': inputs[0][pos_idx].detach(),\n",
    "                        'output': outputs[pos_idx].detach(),\n",
    "                        'hidden_state': hidden_states[pos_idx].detach()  # Store full hidden state\n",
    "                    }\n",
    "                    \n",
    "                    # Get the corresponding gate weight for this position\n",
    "                    # Find which expert slot (in top_k) this expert was selected for this position\n",
    "                    expert_slots = (gate_data['topk_idx'][pos.item()] == expert_idx).nonzero(as_tuple=True)[0]\n",
    "                    if len(expert_slots) > 0:\n",
    "                        token_data['gate_weight'] = gate_data['topk_weight'][pos.item()][expert_slots[0]].item()\n",
    "                    \n",
    "                    self.expert_outputs[layer_idx][expert_idx].append(token_data)\n",
    "            return hook\n",
    "        \n",
    "        def shared_expert_hook(layer_idx):\n",
    "            def hook(module, inputs, outputs):\n",
    "                \"\"\"Hook for capturing shared expert outputs\"\"\"\n",
    "                self.shared_expert_outputs[layer_idx].append({\n",
    "                    'input': inputs[0].detach(),\n",
    "                    'output': outputs.detach()\n",
    "                })\n",
    "            return hook\n",
    "\n",
    "        def moe_combine_hook(layer_idx):\n",
    "            def hook(module, inputs, outputs):\n",
    "                \"\"\"Hook for capturing final combined MoE outputs\"\"\"\n",
    "                # For DeepseekMoE, this captures the weighted sum of expert outputs\n",
    "                self.moe_combined_outputs[layer_idx].append({\n",
    "                    'combined_output': outputs.detach(),\n",
    "                    'input': inputs[0].detach()  # Original input before MoE\n",
    "                })\n",
    "            return hook\n",
    "\n",
    "        # Register hooks for each layer\n",
    "        for layer_idx, layer in enumerate(self.model.model.layers):\n",
    "            # Hook for layer output\n",
    "            hook = layer.register_forward_hook(layer_output_hook(layer_idx))\n",
    "            self.hooks.append(hook)\n",
    "            \n",
    "            # If it's an MoE layer, add MoE-specific hooks\n",
    "            if hasattr(layer.mlp, 'experts'):\n",
    "                # Hook for gate mechanism\n",
    "                gate_hook = layer.mlp.gate.register_forward_hook(moe_gate_hook(layer_idx))\n",
    "                self.hooks.append(gate_hook)\n",
    "                \n",
    "                # Hook for each expert\n",
    "                for expert_idx, expert in enumerate(layer.mlp.experts):\n",
    "                    expert_hook_fn = expert.register_forward_hook(expert_hook(layer_idx, expert_idx))\n",
    "                    self.hooks.append(expert_hook_fn)\n",
    "\n",
    "                # Hook for shared expert if it exists\n",
    "                if hasattr(layer.mlp, 'shared_experts'):\n",
    "                    shared_hook = layer.mlp.shared_experts.register_forward_hook(shared_expert_hook(layer_idx))\n",
    "                    self.hooks.append(shared_hook)\n",
    "                \n",
    "                # Hook for final combined output\n",
    "                combine_hook = layer.mlp.register_forward_hook(moe_combine_hook(layer_idx))\n",
    "                self.hooks.append(combine_hook)\n",
    "\n",
    "    def analyze_tokens(self, input_ids: torch.Tensor, return_hidden_states: bool = False) -> Dict:\n",
    "        \"\"\" run inference and analyze tokens at each layer and expert combination point \"\"\"\n",
    "\n",
    "        self.moe_combined_outputs.clear()\n",
    "        self.expert_outputs.clear()\n",
    "        self.shared_expert_outputs.clear()\n",
    "        \n",
    "        # Forward pass\n",
    "        with torch.no_grad():\n",
    "            outputs = self.model(input_ids)\n",
    "        \n",
    "        results = {\n",
    "            'layer_predictions': {},\n",
    "            'moe_analysis': {},\n",
    "            'hidden_states': {} if return_hidden_states else None\n",
    "        }\n",
    "        \n",
    "        # Analyze layer outputs\n",
    "        for layer_idx, outputs in self.layer_outputs.items():\n",
    "            if not outputs:  # Skip if no outputs captured\n",
    "                continue\n",
    "            hidden_states = outputs[-1]  # Get last captured output\n",
    "            \n",
    "            # Get token predictions for this layer\n",
    "            top_tokens = get_top_k_tokens(hidden_states, self.model.lm_head, self.tokenizer)\n",
    "            results['layer_predictions'][layer_idx] = top_tokens\n",
    "            \n",
    "            if return_hidden_states:\n",
    "                results['hidden_states'][f'layer_{layer_idx}'] = hidden_states\n",
    "        \n",
    "        # Analyze MoE layers\n",
    "        for layer_idx in self.moe_gate_outputs.keys():\n",
    "            if not self.moe_gate_outputs[layer_idx]:\n",
    "                continue\n",
    "                \n",
    "            gate_data = self.moe_gate_outputs[layer_idx][-1]  # Get last captured data\n",
    "            combined_data = self.moe_combined_outputs[layer_idx][-1]\n",
    "            \n",
    "            # Initialize predictions dictionary by position\n",
    "            expert_predictions_by_pos = defaultdict(dict)\n",
    "            expert_hidden_states_by_pos = defaultdict(dict)\n",
    "            \n",
    "            # Process expert outputs by position\n",
    "            for expert_idx, data_list in self.expert_outputs[layer_idx].items():\n",
    "                for data in data_list:\n",
    "                    position = data['position']\n",
    "                    # Get predictions for this expert's output at this position\n",
    "                    predictions = get_top_k_tokens(\n",
    "                        data['output'].unsqueeze(0),\n",
    "                        self.model.lm_head,\n",
    "                        self.tokenizer\n",
    "                    )\n",
    "                    expert_predictions_by_pos[position][expert_idx] = predictions[0]  # [0] because we only have one prediction set\n",
    "\n",
    "                    # Store hidden states\n",
    "                    expert_hidden_states_by_pos[position][expert_idx] = {\n",
    "                    'hidden_state': data['hidden_state'].tolist(),\n",
    "                    'gate_weight': data.get('gate_weight', None)\n",
    "                }\n",
    "            \n",
    "            # Get predictions for shared expert if it exists\n",
    "            if self.shared_expert_outputs[layer_idx]:\n",
    "                shared_expert_predictions = get_top_k_tokens(\n",
    "                    self.shared_expert_outputs[layer_idx][-1]['output'],\n",
    "                    self.model.lm_head,\n",
    "                    self.tokenizer\n",
    "                )\n",
    "            \n",
    "            # Update experts_analysis dictionary to include hidden states\n",
    "            experts_analysis = {\n",
    "            'selected_experts': gate_data['topk_idx'].tolist(),\n",
    "            'expert_weights': gate_data['topk_weight'].tolist(),\n",
    "            'aux_loss': gate_data['aux_loss'].item() if gate_data['aux_loss'] is not None else None,\n",
    "            'expert_predictions_by_position': dict(expert_predictions_by_pos),\n",
    "            'expert_hidden_states_by_position': dict(expert_hidden_states_by_pos),\n",
    "            'shared_expert_predictions': shared_expert_predictions if self.shared_expert_outputs[layer_idx] else None\n",
    "        }\n",
    "            \n",
    "            # Get token predictions from combined output\n",
    "            combined_tokens = get_top_k_tokens(\n",
    "                combined_data['combined_output'], \n",
    "                self.model.lm_head,\n",
    "                self.tokenizer\n",
    "            )\n",
    "            \n",
    "            experts_analysis['combined_output_tokens'] = combined_tokens\n",
    "            results['moe_analysis'][layer_idx] = experts_analysis\n",
    "\n",
    "        return results\n",
    "    \n",
    "    def cleanup(self):\n",
    "        \"\"\"remove all registered hooks\"\"\"\n",
    "        for hook in self.hooks:\n",
    "            hook.remove()\n",
    "        self.hooks.clear()\n",
    "\n",
    "def analyze_deepseek_moe(model, tokenizer, input_text: str, return_hidden_states: bool = False):\n",
    "    \"\"\" analyze DeepSeek MoE model behavior for given input text \"\"\"\n",
    "    analyzer = DeepseekLayerAnalyzer(model, tokenizer)\n",
    "    analyzer.register_hooks()\n",
    "    \n",
    "    input_ids = tokenizer(input_text, return_tensors=\"pt\").input_ids\n",
    "    \n",
    "    try:\n",
    "        results = analyzer.analyze_tokens(input_ids, return_hidden_states=return_hidden_states)\n",
    "        return results\n",
    "    finally:\n",
    "        analyzer.cleanup()  "
   ]
  },
  {
   "cell_type": "code",
   "execution_count": 6,
   "metadata": {},
   "outputs": [
    {
     "name": "stdout",
     "output_type": "stream",
     "text": [
      "no gate outputs for layer 0\n",
      "no gate outputs for layer 0\n",
      "no gate outputs for layer 0\n",
      "no gate outputs for layer 0\n",
      "no gate outputs for layer 0\n",
      "no gate outputs for layer 0\n",
      "no gate outputs for layer 0\n",
      "no gate outputs for layer 0\n",
      "no gate outputs for layer 0\n",
      "no gate outputs for layer 0\n",
      "no gate outputs for layer 0\n",
      "no gate outputs for layer 0\n",
      "no gate outputs for layer 0\n",
      "no gate outputs for layer 0\n",
      "no gate outputs for layer 0\n",
      "no gate outputs for layer 0\n",
      "no gate outputs for layer 0\n",
      "no gate outputs for layer 0\n",
      "no gate outputs for layer 0\n",
      "no gate outputs for layer 0\n",
      "no gate outputs for layer 0\n",
      "no gate outputs for layer 0\n",
      "no gate outputs for layer 0\n",
      "no gate outputs for layer 0\n",
      "no gate outputs for layer 0\n",
      "no gate outputs for layer 0\n",
      "no gate outputs for layer 0\n",
      "no gate outputs for layer 0\n",
      "no gate outputs for layer 0\n",
      "no gate outputs for layer 0\n",
      "no gate outputs for layer 0\n",
      "no gate outputs for layer 0\n",
      "no gate outputs for layer 0\n",
      "no gate outputs for layer 0\n",
      "no gate outputs for layer 0\n",
      "no gate outputs for layer 0\n",
      "no gate outputs for layer 0\n",
      "no gate outputs for layer 0\n",
      "no gate outputs for layer 0\n",
      "no gate outputs for layer 0\n",
      "no gate outputs for layer 0\n",
      "no gate outputs for layer 0\n",
      "no gate outputs for layer 0\n",
      "no gate outputs for layer 0\n",
      "no gate outputs for layer 0\n",
      "no gate outputs for layer 0\n",
      "no gate outputs for layer 0\n",
      "no gate outputs for layer 0\n",
      "no gate outputs for layer 0\n",
      "no gate outputs for layer 0\n",
      "no gate outputs for layer 0\n",
      "no gate outputs for layer 0\n",
      "no gate outputs for layer 0\n",
      "no gate outputs for layer 0\n",
      "no gate outputs for layer 0\n",
      "no gate outputs for layer 0\n",
      "no gate outputs for layer 0\n",
      "no gate outputs for layer 0\n",
      "no gate outputs for layer 0\n",
      "no gate outputs for layer 0\n"
     ]
    },
    {
     "ename": "AttributeError",
     "evalue": "'tuple' object has no attribute 'detach'",
     "output_type": "error",
     "traceback": [
      "\u001b[0;31m---------------------------------------------------------------------------\u001b[0m",
      "\u001b[0;31mAttributeError\u001b[0m                            Traceback (most recent call last)",
      "Cell \u001b[0;32mIn[6], line 4\u001b[0m\n\u001b[1;32m      1\u001b[0m prompt \u001b[38;5;241m=\u001b[39m \u001b[38;5;124m\"\"\"\u001b[39m\u001b[38;5;124mimport pandas as pd\u001b[39m\n\u001b[1;32m      2\u001b[0m \n\u001b[1;32m      3\u001b[0m \u001b[38;5;124mdf = pd.\u001b[39m\u001b[38;5;124m\"\"\"\u001b[39m\n\u001b[0;32m----> 4\u001b[0m analysis \u001b[38;5;241m=\u001b[39m \u001b[43manalyze_deepseek_moe\u001b[49m\u001b[43m(\u001b[49m\n\u001b[1;32m      5\u001b[0m \u001b[43m    \u001b[49m\u001b[43mmodel\u001b[49m\u001b[43m,\u001b[49m\u001b[43m \u001b[49m\n\u001b[1;32m      6\u001b[0m \u001b[43m    \u001b[49m\u001b[43mtokenizer\u001b[49m\u001b[43m,\u001b[49m\n\u001b[1;32m      7\u001b[0m \u001b[43m    \u001b[49m\u001b[43minput_text\u001b[49m\u001b[38;5;241;43m=\u001b[39;49m\u001b[43mprompt\u001b[49m\n\u001b[1;32m      8\u001b[0m \u001b[43m)\u001b[49m\n",
      "Cell \u001b[0;32mIn[5], line 241\u001b[0m, in \u001b[0;36manalyze_deepseek_moe\u001b[0;34m(model, tokenizer, input_text, return_hidden_states)\u001b[0m\n\u001b[1;32m    238\u001b[0m input_ids \u001b[38;5;241m=\u001b[39m tokenizer(input_text, return_tensors\u001b[38;5;241m=\u001b[39m\u001b[38;5;124m\"\u001b[39m\u001b[38;5;124mpt\u001b[39m\u001b[38;5;124m\"\u001b[39m)\u001b[38;5;241m.\u001b[39minput_ids\n\u001b[1;32m    240\u001b[0m \u001b[38;5;28;01mtry\u001b[39;00m:\n\u001b[0;32m--> 241\u001b[0m     results \u001b[38;5;241m=\u001b[39m \u001b[43manalyzer\u001b[49m\u001b[38;5;241;43m.\u001b[39;49m\u001b[43manalyze_tokens\u001b[49m\u001b[43m(\u001b[49m\u001b[43minput_ids\u001b[49m\u001b[43m,\u001b[49m\u001b[43m \u001b[49m\u001b[43mreturn_hidden_states\u001b[49m\u001b[38;5;241;43m=\u001b[39;49m\u001b[43mreturn_hidden_states\u001b[49m\u001b[43m)\u001b[49m\n\u001b[1;32m    242\u001b[0m     \u001b[38;5;28;01mreturn\u001b[39;00m results\n\u001b[1;32m    243\u001b[0m \u001b[38;5;28;01mfinally\u001b[39;00m:\n",
      "Cell \u001b[0;32mIn[5], line 146\u001b[0m, in \u001b[0;36mDeepseekLayerAnalyzer.analyze_tokens\u001b[0;34m(self, input_ids, return_hidden_states)\u001b[0m\n\u001b[1;32m    144\u001b[0m \u001b[38;5;66;03m# Forward pass\u001b[39;00m\n\u001b[1;32m    145\u001b[0m \u001b[38;5;28;01mwith\u001b[39;00m torch\u001b[38;5;241m.\u001b[39mno_grad():\n\u001b[0;32m--> 146\u001b[0m     outputs \u001b[38;5;241m=\u001b[39m \u001b[38;5;28;43mself\u001b[39;49m\u001b[38;5;241;43m.\u001b[39;49m\u001b[43mmodel\u001b[49m\u001b[43m(\u001b[49m\u001b[43minput_ids\u001b[49m\u001b[43m)\u001b[49m\n\u001b[1;32m    148\u001b[0m results \u001b[38;5;241m=\u001b[39m {\n\u001b[1;32m    149\u001b[0m     \u001b[38;5;124m'\u001b[39m\u001b[38;5;124mlayer_predictions\u001b[39m\u001b[38;5;124m'\u001b[39m: {},\n\u001b[1;32m    150\u001b[0m     \u001b[38;5;124m'\u001b[39m\u001b[38;5;124mmoe_analysis\u001b[39m\u001b[38;5;124m'\u001b[39m: {},\n\u001b[1;32m    151\u001b[0m     \u001b[38;5;124m'\u001b[39m\u001b[38;5;124mhidden_states\u001b[39m\u001b[38;5;124m'\u001b[39m: {} \u001b[38;5;28;01mif\u001b[39;00m return_hidden_states \u001b[38;5;28;01melse\u001b[39;00m \u001b[38;5;28;01mNone\u001b[39;00m\n\u001b[1;32m    152\u001b[0m }\n\u001b[1;32m    154\u001b[0m \u001b[38;5;66;03m# Analyze layer outputs\u001b[39;00m\n",
      "File \u001b[0;32m~/anaconda3/envs/ai_env/lib/python3.10/site-packages/torch/nn/modules/module.py:1736\u001b[0m, in \u001b[0;36mModule._wrapped_call_impl\u001b[0;34m(self, *args, **kwargs)\u001b[0m\n\u001b[1;32m   1734\u001b[0m     \u001b[38;5;28;01mreturn\u001b[39;00m \u001b[38;5;28mself\u001b[39m\u001b[38;5;241m.\u001b[39m_compiled_call_impl(\u001b[38;5;241m*\u001b[39margs, \u001b[38;5;241m*\u001b[39m\u001b[38;5;241m*\u001b[39mkwargs)  \u001b[38;5;66;03m# type: ignore[misc]\u001b[39;00m\n\u001b[1;32m   1735\u001b[0m \u001b[38;5;28;01melse\u001b[39;00m:\n\u001b[0;32m-> 1736\u001b[0m     \u001b[38;5;28;01mreturn\u001b[39;00m \u001b[38;5;28;43mself\u001b[39;49m\u001b[38;5;241;43m.\u001b[39;49m\u001b[43m_call_impl\u001b[49m\u001b[43m(\u001b[49m\u001b[38;5;241;43m*\u001b[39;49m\u001b[43margs\u001b[49m\u001b[43m,\u001b[49m\u001b[43m \u001b[49m\u001b[38;5;241;43m*\u001b[39;49m\u001b[38;5;241;43m*\u001b[39;49m\u001b[43mkwargs\u001b[49m\u001b[43m)\u001b[49m\n",
      "File \u001b[0;32m~/anaconda3/envs/ai_env/lib/python3.10/site-packages/torch/nn/modules/module.py:1747\u001b[0m, in \u001b[0;36mModule._call_impl\u001b[0;34m(self, *args, **kwargs)\u001b[0m\n\u001b[1;32m   1742\u001b[0m \u001b[38;5;66;03m# If we don't have any hooks, we want to skip the rest of the logic in\u001b[39;00m\n\u001b[1;32m   1743\u001b[0m \u001b[38;5;66;03m# this function, and just call forward.\u001b[39;00m\n\u001b[1;32m   1744\u001b[0m \u001b[38;5;28;01mif\u001b[39;00m \u001b[38;5;129;01mnot\u001b[39;00m (\u001b[38;5;28mself\u001b[39m\u001b[38;5;241m.\u001b[39m_backward_hooks \u001b[38;5;129;01mor\u001b[39;00m \u001b[38;5;28mself\u001b[39m\u001b[38;5;241m.\u001b[39m_backward_pre_hooks \u001b[38;5;129;01mor\u001b[39;00m \u001b[38;5;28mself\u001b[39m\u001b[38;5;241m.\u001b[39m_forward_hooks \u001b[38;5;129;01mor\u001b[39;00m \u001b[38;5;28mself\u001b[39m\u001b[38;5;241m.\u001b[39m_forward_pre_hooks\n\u001b[1;32m   1745\u001b[0m         \u001b[38;5;129;01mor\u001b[39;00m _global_backward_pre_hooks \u001b[38;5;129;01mor\u001b[39;00m _global_backward_hooks\n\u001b[1;32m   1746\u001b[0m         \u001b[38;5;129;01mor\u001b[39;00m _global_forward_hooks \u001b[38;5;129;01mor\u001b[39;00m _global_forward_pre_hooks):\n\u001b[0;32m-> 1747\u001b[0m     \u001b[38;5;28;01mreturn\u001b[39;00m \u001b[43mforward_call\u001b[49m\u001b[43m(\u001b[49m\u001b[38;5;241;43m*\u001b[39;49m\u001b[43margs\u001b[49m\u001b[43m,\u001b[49m\u001b[43m \u001b[49m\u001b[38;5;241;43m*\u001b[39;49m\u001b[38;5;241;43m*\u001b[39;49m\u001b[43mkwargs\u001b[49m\u001b[43m)\u001b[49m\n\u001b[1;32m   1749\u001b[0m result \u001b[38;5;241m=\u001b[39m \u001b[38;5;28;01mNone\u001b[39;00m\n\u001b[1;32m   1750\u001b[0m called_always_called_hooks \u001b[38;5;241m=\u001b[39m \u001b[38;5;28mset\u001b[39m()\n",
      "File \u001b[0;32m~/anaconda3/envs/ai_env/lib/python3.10/site-packages/transformers/models/qwen2_moe/modeling_qwen2_moe.py:1352\u001b[0m, in \u001b[0;36mQwen2MoeForCausalLM.forward\u001b[0;34m(self, input_ids, attention_mask, position_ids, past_key_values, inputs_embeds, labels, use_cache, output_attentions, output_hidden_states, output_router_logits, return_dict, cache_position, num_logits_to_keep, **loss_kwargs)\u001b[0m\n\u001b[1;32m   1349\u001b[0m return_dict \u001b[38;5;241m=\u001b[39m return_dict \u001b[38;5;28;01mif\u001b[39;00m return_dict \u001b[38;5;129;01mis\u001b[39;00m \u001b[38;5;129;01mnot\u001b[39;00m \u001b[38;5;28;01mNone\u001b[39;00m \u001b[38;5;28;01melse\u001b[39;00m \u001b[38;5;28mself\u001b[39m\u001b[38;5;241m.\u001b[39mconfig\u001b[38;5;241m.\u001b[39muse_return_dict\n\u001b[1;32m   1351\u001b[0m \u001b[38;5;66;03m# decoder outputs consists of (dec_features, layer_state, dec_hidden, dec_attn)\u001b[39;00m\n\u001b[0;32m-> 1352\u001b[0m outputs \u001b[38;5;241m=\u001b[39m \u001b[38;5;28;43mself\u001b[39;49m\u001b[38;5;241;43m.\u001b[39;49m\u001b[43mmodel\u001b[49m\u001b[43m(\u001b[49m\n\u001b[1;32m   1353\u001b[0m \u001b[43m    \u001b[49m\u001b[43minput_ids\u001b[49m\u001b[38;5;241;43m=\u001b[39;49m\u001b[43minput_ids\u001b[49m\u001b[43m,\u001b[49m\n\u001b[1;32m   1354\u001b[0m \u001b[43m    \u001b[49m\u001b[43mattention_mask\u001b[49m\u001b[38;5;241;43m=\u001b[39;49m\u001b[43mattention_mask\u001b[49m\u001b[43m,\u001b[49m\n\u001b[1;32m   1355\u001b[0m \u001b[43m    \u001b[49m\u001b[43mposition_ids\u001b[49m\u001b[38;5;241;43m=\u001b[39;49m\u001b[43mposition_ids\u001b[49m\u001b[43m,\u001b[49m\n\u001b[1;32m   1356\u001b[0m \u001b[43m    \u001b[49m\u001b[43mpast_key_values\u001b[49m\u001b[38;5;241;43m=\u001b[39;49m\u001b[43mpast_key_values\u001b[49m\u001b[43m,\u001b[49m\n\u001b[1;32m   1357\u001b[0m \u001b[43m    \u001b[49m\u001b[43minputs_embeds\u001b[49m\u001b[38;5;241;43m=\u001b[39;49m\u001b[43minputs_embeds\u001b[49m\u001b[43m,\u001b[49m\n\u001b[1;32m   1358\u001b[0m \u001b[43m    \u001b[49m\u001b[43muse_cache\u001b[49m\u001b[38;5;241;43m=\u001b[39;49m\u001b[43muse_cache\u001b[49m\u001b[43m,\u001b[49m\n\u001b[1;32m   1359\u001b[0m \u001b[43m    \u001b[49m\u001b[43moutput_attentions\u001b[49m\u001b[38;5;241;43m=\u001b[39;49m\u001b[43moutput_attentions\u001b[49m\u001b[43m,\u001b[49m\n\u001b[1;32m   1360\u001b[0m \u001b[43m    \u001b[49m\u001b[43moutput_hidden_states\u001b[49m\u001b[38;5;241;43m=\u001b[39;49m\u001b[43moutput_hidden_states\u001b[49m\u001b[43m,\u001b[49m\n\u001b[1;32m   1361\u001b[0m \u001b[43m    \u001b[49m\u001b[43moutput_router_logits\u001b[49m\u001b[38;5;241;43m=\u001b[39;49m\u001b[43moutput_router_logits\u001b[49m\u001b[43m,\u001b[49m\n\u001b[1;32m   1362\u001b[0m \u001b[43m    \u001b[49m\u001b[43mreturn_dict\u001b[49m\u001b[38;5;241;43m=\u001b[39;49m\u001b[43mreturn_dict\u001b[49m\u001b[43m,\u001b[49m\n\u001b[1;32m   1363\u001b[0m \u001b[43m    \u001b[49m\u001b[43mcache_position\u001b[49m\u001b[38;5;241;43m=\u001b[39;49m\u001b[43mcache_position\u001b[49m\u001b[43m,\u001b[49m\n\u001b[1;32m   1364\u001b[0m \u001b[43m\u001b[49m\u001b[43m)\u001b[49m\n\u001b[1;32m   1366\u001b[0m hidden_states \u001b[38;5;241m=\u001b[39m outputs[\u001b[38;5;241m0\u001b[39m]\n\u001b[1;32m   1367\u001b[0m \u001b[38;5;66;03m# Only compute necessary logits, and do not upcast them to float if we are not computing the loss\u001b[39;00m\n",
      "File \u001b[0;32m~/anaconda3/envs/ai_env/lib/python3.10/site-packages/torch/nn/modules/module.py:1736\u001b[0m, in \u001b[0;36mModule._wrapped_call_impl\u001b[0;34m(self, *args, **kwargs)\u001b[0m\n\u001b[1;32m   1734\u001b[0m     \u001b[38;5;28;01mreturn\u001b[39;00m \u001b[38;5;28mself\u001b[39m\u001b[38;5;241m.\u001b[39m_compiled_call_impl(\u001b[38;5;241m*\u001b[39margs, \u001b[38;5;241m*\u001b[39m\u001b[38;5;241m*\u001b[39mkwargs)  \u001b[38;5;66;03m# type: ignore[misc]\u001b[39;00m\n\u001b[1;32m   1735\u001b[0m \u001b[38;5;28;01melse\u001b[39;00m:\n\u001b[0;32m-> 1736\u001b[0m     \u001b[38;5;28;01mreturn\u001b[39;00m \u001b[38;5;28;43mself\u001b[39;49m\u001b[38;5;241;43m.\u001b[39;49m\u001b[43m_call_impl\u001b[49m\u001b[43m(\u001b[49m\u001b[38;5;241;43m*\u001b[39;49m\u001b[43margs\u001b[49m\u001b[43m,\u001b[49m\u001b[43m \u001b[49m\u001b[38;5;241;43m*\u001b[39;49m\u001b[38;5;241;43m*\u001b[39;49m\u001b[43mkwargs\u001b[49m\u001b[43m)\u001b[49m\n",
      "File \u001b[0;32m~/anaconda3/envs/ai_env/lib/python3.10/site-packages/torch/nn/modules/module.py:1747\u001b[0m, in \u001b[0;36mModule._call_impl\u001b[0;34m(self, *args, **kwargs)\u001b[0m\n\u001b[1;32m   1742\u001b[0m \u001b[38;5;66;03m# If we don't have any hooks, we want to skip the rest of the logic in\u001b[39;00m\n\u001b[1;32m   1743\u001b[0m \u001b[38;5;66;03m# this function, and just call forward.\u001b[39;00m\n\u001b[1;32m   1744\u001b[0m \u001b[38;5;28;01mif\u001b[39;00m \u001b[38;5;129;01mnot\u001b[39;00m (\u001b[38;5;28mself\u001b[39m\u001b[38;5;241m.\u001b[39m_backward_hooks \u001b[38;5;129;01mor\u001b[39;00m \u001b[38;5;28mself\u001b[39m\u001b[38;5;241m.\u001b[39m_backward_pre_hooks \u001b[38;5;129;01mor\u001b[39;00m \u001b[38;5;28mself\u001b[39m\u001b[38;5;241m.\u001b[39m_forward_hooks \u001b[38;5;129;01mor\u001b[39;00m \u001b[38;5;28mself\u001b[39m\u001b[38;5;241m.\u001b[39m_forward_pre_hooks\n\u001b[1;32m   1745\u001b[0m         \u001b[38;5;129;01mor\u001b[39;00m _global_backward_pre_hooks \u001b[38;5;129;01mor\u001b[39;00m _global_backward_hooks\n\u001b[1;32m   1746\u001b[0m         \u001b[38;5;129;01mor\u001b[39;00m _global_forward_hooks \u001b[38;5;129;01mor\u001b[39;00m _global_forward_pre_hooks):\n\u001b[0;32m-> 1747\u001b[0m     \u001b[38;5;28;01mreturn\u001b[39;00m \u001b[43mforward_call\u001b[49m\u001b[43m(\u001b[49m\u001b[38;5;241;43m*\u001b[39;49m\u001b[43margs\u001b[49m\u001b[43m,\u001b[49m\u001b[43m \u001b[49m\u001b[38;5;241;43m*\u001b[39;49m\u001b[38;5;241;43m*\u001b[39;49m\u001b[43mkwargs\u001b[49m\u001b[43m)\u001b[49m\n\u001b[1;32m   1749\u001b[0m result \u001b[38;5;241m=\u001b[39m \u001b[38;5;28;01mNone\u001b[39;00m\n\u001b[1;32m   1750\u001b[0m called_always_called_hooks \u001b[38;5;241m=\u001b[39m \u001b[38;5;28mset\u001b[39m()\n",
      "File \u001b[0;32m~/anaconda3/envs/ai_env/lib/python3.10/site-packages/transformers/models/qwen2_moe/modeling_qwen2_moe.py:1066\u001b[0m, in \u001b[0;36mQwen2MoeModel.forward\u001b[0;34m(self, input_ids, attention_mask, position_ids, past_key_values, inputs_embeds, use_cache, output_attentions, output_hidden_states, output_router_logits, return_dict, cache_position)\u001b[0m\n\u001b[1;32m   1053\u001b[0m     layer_outputs \u001b[38;5;241m=\u001b[39m \u001b[38;5;28mself\u001b[39m\u001b[38;5;241m.\u001b[39m_gradient_checkpointing_func(\n\u001b[1;32m   1054\u001b[0m         decoder_layer\u001b[38;5;241m.\u001b[39m\u001b[38;5;21m__call__\u001b[39m,\n\u001b[1;32m   1055\u001b[0m         hidden_states,\n\u001b[0;32m   (...)\u001b[0m\n\u001b[1;32m   1063\u001b[0m         position_embeddings,\n\u001b[1;32m   1064\u001b[0m     )\n\u001b[1;32m   1065\u001b[0m \u001b[38;5;28;01melse\u001b[39;00m:\n\u001b[0;32m-> 1066\u001b[0m     layer_outputs \u001b[38;5;241m=\u001b[39m \u001b[43mdecoder_layer\u001b[49m\u001b[43m(\u001b[49m\n\u001b[1;32m   1067\u001b[0m \u001b[43m        \u001b[49m\u001b[43mhidden_states\u001b[49m\u001b[43m,\u001b[49m\n\u001b[1;32m   1068\u001b[0m \u001b[43m        \u001b[49m\u001b[43mattention_mask\u001b[49m\u001b[38;5;241;43m=\u001b[39;49m\u001b[43mcausal_mask\u001b[49m\u001b[43m,\u001b[49m\n\u001b[1;32m   1069\u001b[0m \u001b[43m        \u001b[49m\u001b[43mposition_ids\u001b[49m\u001b[38;5;241;43m=\u001b[39;49m\u001b[43mposition_ids\u001b[49m\u001b[43m,\u001b[49m\n\u001b[1;32m   1070\u001b[0m \u001b[43m        \u001b[49m\u001b[43mpast_key_value\u001b[49m\u001b[38;5;241;43m=\u001b[39;49m\u001b[43mpast_key_values\u001b[49m\u001b[43m,\u001b[49m\n\u001b[1;32m   1071\u001b[0m \u001b[43m        \u001b[49m\u001b[43moutput_attentions\u001b[49m\u001b[38;5;241;43m=\u001b[39;49m\u001b[43moutput_attentions\u001b[49m\u001b[43m,\u001b[49m\n\u001b[1;32m   1072\u001b[0m \u001b[43m        \u001b[49m\u001b[43moutput_router_logits\u001b[49m\u001b[38;5;241;43m=\u001b[39;49m\u001b[43moutput_router_logits\u001b[49m\u001b[43m,\u001b[49m\n\u001b[1;32m   1073\u001b[0m \u001b[43m        \u001b[49m\u001b[43muse_cache\u001b[49m\u001b[38;5;241;43m=\u001b[39;49m\u001b[43muse_cache\u001b[49m\u001b[43m,\u001b[49m\n\u001b[1;32m   1074\u001b[0m \u001b[43m        \u001b[49m\u001b[43mcache_position\u001b[49m\u001b[38;5;241;43m=\u001b[39;49m\u001b[43mcache_position\u001b[49m\u001b[43m,\u001b[49m\n\u001b[1;32m   1075\u001b[0m \u001b[43m        \u001b[49m\u001b[43mposition_embeddings\u001b[49m\u001b[38;5;241;43m=\u001b[39;49m\u001b[43mposition_embeddings\u001b[49m\u001b[43m,\u001b[49m\n\u001b[1;32m   1076\u001b[0m \u001b[43m    \u001b[49m\u001b[43m)\u001b[49m\n\u001b[1;32m   1078\u001b[0m hidden_states \u001b[38;5;241m=\u001b[39m layer_outputs[\u001b[38;5;241m0\u001b[39m]\n\u001b[1;32m   1080\u001b[0m \u001b[38;5;28;01mif\u001b[39;00m use_cache:\n",
      "File \u001b[0;32m~/anaconda3/envs/ai_env/lib/python3.10/site-packages/torch/nn/modules/module.py:1736\u001b[0m, in \u001b[0;36mModule._wrapped_call_impl\u001b[0;34m(self, *args, **kwargs)\u001b[0m\n\u001b[1;32m   1734\u001b[0m     \u001b[38;5;28;01mreturn\u001b[39;00m \u001b[38;5;28mself\u001b[39m\u001b[38;5;241m.\u001b[39m_compiled_call_impl(\u001b[38;5;241m*\u001b[39margs, \u001b[38;5;241m*\u001b[39m\u001b[38;5;241m*\u001b[39mkwargs)  \u001b[38;5;66;03m# type: ignore[misc]\u001b[39;00m\n\u001b[1;32m   1735\u001b[0m \u001b[38;5;28;01melse\u001b[39;00m:\n\u001b[0;32m-> 1736\u001b[0m     \u001b[38;5;28;01mreturn\u001b[39;00m \u001b[38;5;28;43mself\u001b[39;49m\u001b[38;5;241;43m.\u001b[39;49m\u001b[43m_call_impl\u001b[49m\u001b[43m(\u001b[49m\u001b[38;5;241;43m*\u001b[39;49m\u001b[43margs\u001b[49m\u001b[43m,\u001b[49m\u001b[43m \u001b[49m\u001b[38;5;241;43m*\u001b[39;49m\u001b[38;5;241;43m*\u001b[39;49m\u001b[43mkwargs\u001b[49m\u001b[43m)\u001b[49m\n",
      "File \u001b[0;32m~/anaconda3/envs/ai_env/lib/python3.10/site-packages/torch/nn/modules/module.py:1844\u001b[0m, in \u001b[0;36mModule._call_impl\u001b[0;34m(self, *args, **kwargs)\u001b[0m\n\u001b[1;32m   1841\u001b[0m     \u001b[38;5;28;01mreturn\u001b[39;00m inner()\n\u001b[1;32m   1843\u001b[0m \u001b[38;5;28;01mtry\u001b[39;00m:\n\u001b[0;32m-> 1844\u001b[0m     \u001b[38;5;28;01mreturn\u001b[39;00m \u001b[43minner\u001b[49m\u001b[43m(\u001b[49m\u001b[43m)\u001b[49m\n\u001b[1;32m   1845\u001b[0m \u001b[38;5;28;01mexcept\u001b[39;00m \u001b[38;5;167;01mException\u001b[39;00m:\n\u001b[1;32m   1846\u001b[0m     \u001b[38;5;66;03m# run always called hooks if they have not already been run\u001b[39;00m\n\u001b[1;32m   1847\u001b[0m     \u001b[38;5;66;03m# For now only forward hooks have the always_call option but perhaps\u001b[39;00m\n\u001b[1;32m   1848\u001b[0m     \u001b[38;5;66;03m# this functionality should be added to full backward hooks as well.\u001b[39;00m\n\u001b[1;32m   1849\u001b[0m     \u001b[38;5;28;01mfor\u001b[39;00m hook_id, hook \u001b[38;5;129;01min\u001b[39;00m _global_forward_hooks\u001b[38;5;241m.\u001b[39mitems():\n",
      "File \u001b[0;32m~/anaconda3/envs/ai_env/lib/python3.10/site-packages/torch/nn/modules/module.py:1790\u001b[0m, in \u001b[0;36mModule._call_impl.<locals>.inner\u001b[0;34m()\u001b[0m\n\u001b[1;32m   1787\u001b[0m     bw_hook \u001b[38;5;241m=\u001b[39m BackwardHook(\u001b[38;5;28mself\u001b[39m, full_backward_hooks, backward_pre_hooks)\n\u001b[1;32m   1788\u001b[0m     args \u001b[38;5;241m=\u001b[39m bw_hook\u001b[38;5;241m.\u001b[39msetup_input_hook(args)\n\u001b[0;32m-> 1790\u001b[0m result \u001b[38;5;241m=\u001b[39m \u001b[43mforward_call\u001b[49m\u001b[43m(\u001b[49m\u001b[38;5;241;43m*\u001b[39;49m\u001b[43margs\u001b[49m\u001b[43m,\u001b[49m\u001b[43m \u001b[49m\u001b[38;5;241;43m*\u001b[39;49m\u001b[38;5;241;43m*\u001b[39;49m\u001b[43mkwargs\u001b[49m\u001b[43m)\u001b[49m\n\u001b[1;32m   1791\u001b[0m \u001b[38;5;28;01mif\u001b[39;00m _global_forward_hooks \u001b[38;5;129;01mor\u001b[39;00m \u001b[38;5;28mself\u001b[39m\u001b[38;5;241m.\u001b[39m_forward_hooks:\n\u001b[1;32m   1792\u001b[0m     \u001b[38;5;28;01mfor\u001b[39;00m hook_id, hook \u001b[38;5;129;01min\u001b[39;00m (\n\u001b[1;32m   1793\u001b[0m         \u001b[38;5;241m*\u001b[39m_global_forward_hooks\u001b[38;5;241m.\u001b[39mitems(),\n\u001b[1;32m   1794\u001b[0m         \u001b[38;5;241m*\u001b[39m\u001b[38;5;28mself\u001b[39m\u001b[38;5;241m.\u001b[39m_forward_hooks\u001b[38;5;241m.\u001b[39mitems(),\n\u001b[1;32m   1795\u001b[0m     ):\n\u001b[1;32m   1796\u001b[0m         \u001b[38;5;66;03m# mark that always called hook is run\u001b[39;00m\n",
      "File \u001b[0;32m~/anaconda3/envs/ai_env/lib/python3.10/site-packages/transformers/models/qwen2_moe/modeling_qwen2_moe.py:794\u001b[0m, in \u001b[0;36mQwen2MoeDecoderLayer.forward\u001b[0;34m(self, hidden_states, attention_mask, position_ids, past_key_value, output_attentions, output_router_logits, use_cache, cache_position, position_embeddings, **kwargs)\u001b[0m\n\u001b[1;32m    791\u001b[0m residual \u001b[38;5;241m=\u001b[39m hidden_states\n\u001b[1;32m    792\u001b[0m hidden_states \u001b[38;5;241m=\u001b[39m \u001b[38;5;28mself\u001b[39m\u001b[38;5;241m.\u001b[39mpost_attention_layernorm(hidden_states)\n\u001b[0;32m--> 794\u001b[0m hidden_states \u001b[38;5;241m=\u001b[39m \u001b[38;5;28;43mself\u001b[39;49m\u001b[38;5;241;43m.\u001b[39;49m\u001b[43mmlp\u001b[49m\u001b[43m(\u001b[49m\u001b[43mhidden_states\u001b[49m\u001b[43m)\u001b[49m\n\u001b[1;32m    795\u001b[0m \u001b[38;5;28;01mif\u001b[39;00m \u001b[38;5;28misinstance\u001b[39m(hidden_states, \u001b[38;5;28mtuple\u001b[39m):\n\u001b[1;32m    796\u001b[0m     hidden_states, router_logits \u001b[38;5;241m=\u001b[39m hidden_states\n",
      "File \u001b[0;32m~/anaconda3/envs/ai_env/lib/python3.10/site-packages/torch/nn/modules/module.py:1736\u001b[0m, in \u001b[0;36mModule._wrapped_call_impl\u001b[0;34m(self, *args, **kwargs)\u001b[0m\n\u001b[1;32m   1734\u001b[0m     \u001b[38;5;28;01mreturn\u001b[39;00m \u001b[38;5;28mself\u001b[39m\u001b[38;5;241m.\u001b[39m_compiled_call_impl(\u001b[38;5;241m*\u001b[39margs, \u001b[38;5;241m*\u001b[39m\u001b[38;5;241m*\u001b[39mkwargs)  \u001b[38;5;66;03m# type: ignore[misc]\u001b[39;00m\n\u001b[1;32m   1735\u001b[0m \u001b[38;5;28;01melse\u001b[39;00m:\n\u001b[0;32m-> 1736\u001b[0m     \u001b[38;5;28;01mreturn\u001b[39;00m \u001b[38;5;28;43mself\u001b[39;49m\u001b[38;5;241;43m.\u001b[39;49m\u001b[43m_call_impl\u001b[49m\u001b[43m(\u001b[49m\u001b[38;5;241;43m*\u001b[39;49m\u001b[43margs\u001b[49m\u001b[43m,\u001b[49m\u001b[43m \u001b[49m\u001b[38;5;241;43m*\u001b[39;49m\u001b[38;5;241;43m*\u001b[39;49m\u001b[43mkwargs\u001b[49m\u001b[43m)\u001b[49m\n",
      "File \u001b[0;32m~/anaconda3/envs/ai_env/lib/python3.10/site-packages/torch/nn/modules/module.py:1844\u001b[0m, in \u001b[0;36mModule._call_impl\u001b[0;34m(self, *args, **kwargs)\u001b[0m\n\u001b[1;32m   1841\u001b[0m     \u001b[38;5;28;01mreturn\u001b[39;00m inner()\n\u001b[1;32m   1843\u001b[0m \u001b[38;5;28;01mtry\u001b[39;00m:\n\u001b[0;32m-> 1844\u001b[0m     \u001b[38;5;28;01mreturn\u001b[39;00m \u001b[43minner\u001b[49m\u001b[43m(\u001b[49m\u001b[43m)\u001b[49m\n\u001b[1;32m   1845\u001b[0m \u001b[38;5;28;01mexcept\u001b[39;00m \u001b[38;5;167;01mException\u001b[39;00m:\n\u001b[1;32m   1846\u001b[0m     \u001b[38;5;66;03m# run always called hooks if they have not already been run\u001b[39;00m\n\u001b[1;32m   1847\u001b[0m     \u001b[38;5;66;03m# For now only forward hooks have the always_call option but perhaps\u001b[39;00m\n\u001b[1;32m   1848\u001b[0m     \u001b[38;5;66;03m# this functionality should be added to full backward hooks as well.\u001b[39;00m\n\u001b[1;32m   1849\u001b[0m     \u001b[38;5;28;01mfor\u001b[39;00m hook_id, hook \u001b[38;5;129;01min\u001b[39;00m _global_forward_hooks\u001b[38;5;241m.\u001b[39mitems():\n",
      "File \u001b[0;32m~/anaconda3/envs/ai_env/lib/python3.10/site-packages/torch/nn/modules/module.py:1803\u001b[0m, in \u001b[0;36mModule._call_impl.<locals>.inner\u001b[0;34m()\u001b[0m\n\u001b[1;32m   1801\u001b[0m     hook_result \u001b[38;5;241m=\u001b[39m hook(\u001b[38;5;28mself\u001b[39m, args, kwargs, result)\n\u001b[1;32m   1802\u001b[0m \u001b[38;5;28;01melse\u001b[39;00m:\n\u001b[0;32m-> 1803\u001b[0m     hook_result \u001b[38;5;241m=\u001b[39m \u001b[43mhook\u001b[49m\u001b[43m(\u001b[49m\u001b[38;5;28;43mself\u001b[39;49m\u001b[43m,\u001b[49m\u001b[43m \u001b[49m\u001b[43margs\u001b[49m\u001b[43m,\u001b[49m\u001b[43m \u001b[49m\u001b[43mresult\u001b[49m\u001b[43m)\u001b[49m\n\u001b[1;32m   1805\u001b[0m \u001b[38;5;28;01mif\u001b[39;00m hook_result \u001b[38;5;129;01mis\u001b[39;00m \u001b[38;5;129;01mnot\u001b[39;00m \u001b[38;5;28;01mNone\u001b[39;00m:\n\u001b[1;32m   1806\u001b[0m     result \u001b[38;5;241m=\u001b[39m hook_result\n",
      "Cell \u001b[0;32mIn[5], line 106\u001b[0m, in \u001b[0;36mDeepseekLayerAnalyzer.register_hooks.<locals>.moe_combine_hook.<locals>.hook\u001b[0;34m(module, inputs, outputs)\u001b[0m\n\u001b[1;32m    103\u001b[0m \u001b[38;5;250m\u001b[39m\u001b[38;5;124;03m\"\"\"Hook for capturing final combined MoE outputs\"\"\"\u001b[39;00m\n\u001b[1;32m    104\u001b[0m \u001b[38;5;66;03m# For DeepseekMoE, this captures the weighted sum of expert outputs\u001b[39;00m\n\u001b[1;32m    105\u001b[0m \u001b[38;5;28mself\u001b[39m\u001b[38;5;241m.\u001b[39mmoe_combined_outputs[layer_idx]\u001b[38;5;241m.\u001b[39mappend({\n\u001b[0;32m--> 106\u001b[0m     \u001b[38;5;124m'\u001b[39m\u001b[38;5;124mcombined_output\u001b[39m\u001b[38;5;124m'\u001b[39m: \u001b[43moutputs\u001b[49m\u001b[38;5;241;43m.\u001b[39;49m\u001b[43mdetach\u001b[49m(),\n\u001b[1;32m    107\u001b[0m     \u001b[38;5;124m'\u001b[39m\u001b[38;5;124minput\u001b[39m\u001b[38;5;124m'\u001b[39m: inputs[\u001b[38;5;241m0\u001b[39m]\u001b[38;5;241m.\u001b[39mdetach()  \u001b[38;5;66;03m# Original input before MoE\u001b[39;00m\n\u001b[1;32m    108\u001b[0m })\n",
      "\u001b[0;31mAttributeError\u001b[0m: 'tuple' object has no attribute 'detach'"
     ]
    }
   ],
   "source": [
    "prompt = \"\"\"import pandas as pd\n",
    "\n",
    "df = pd.\"\"\"\n",
    "analysis = analyze_deepseek_moe(\n",
    "    model, \n",
    "    tokenizer,\n",
    "    input_text=prompt\n",
    ")"
   ]
  },
  {
   "cell_type": "code",
   "execution_count": 6,
   "metadata": {},
   "outputs": [],
   "source": [
    "# layer_idx = 1  # example layer\n",
    "# token_pos = 4\n",
    "# expert_idx = 3\n",
    "# hidden_state_list = analysis['moe_analysis'][layer_idx]['expert_hidden_states_by_position'][token_pos][expert_idx]['hidden_state']\n",
    "# print(f'hidden_state_list : {len(hidden_state_list)}')\n"
   ]
  },
  {
   "cell_type": "code",
   "execution_count": 7,
   "metadata": {},
   "outputs": [],
   "source": [
    "def get_post_attn_ln_inputs(model, tokenizer, text):\n",
    "    \"\"\"places a hook on the post attention layernorm to retrieve its inputs\"\"\"\n",
    "    # Store inputs in a dict mapping layer idx -> inputs\n",
    "    post_attn_ln_inputs = {}\n",
    "    hooks = []\n",
    "    \n",
    "    def hook_post_attn_ln(module, input, output, layer_idx):\n",
    "        if layer_idx not in post_attn_ln_inputs:\n",
    "            post_attn_ln_inputs[layer_idx] = []\n",
    "        post_attn_ln_inputs[layer_idx].append([x.detach() for x in input])\n",
    "    \n",
    "    # Register hooks on post attention layernorm for each layer\n",
    "    for i, layer in enumerate(model.model.layers):\n",
    "        hooks.append(\n",
    "            layer.post_attention_layernorm.register_forward_hook(\n",
    "                lambda m, i, o, idx=i: hook_post_attn_ln(m, i, o, idx)\n",
    "            )\n",
    "        )\n",
    "    \n",
    "    try:\n",
    "        # Run inference\n",
    "        input_ids = tokenizer(text, return_tensors=\"pt\").input_ids\n",
    "        model(input_ids)\n",
    "        \n",
    "        return post_attn_ln_inputs\n",
    "        \n",
    "    finally:\n",
    "        # Clean up hooks\n",
    "        for hook in hooks:\n",
    "            hook.remove()"
   ]
  },
  {
   "cell_type": "code",
   "execution_count": 8,
   "metadata": {},
   "outputs": [],
   "source": [
    "post_attn_ln_inputs = get_post_attn_ln_inputs(model, tokenizer, text=prompt)"
   ]
  },
  {
   "cell_type": "code",
   "execution_count": 9,
   "metadata": {},
   "outputs": [],
   "source": [
    "def verify_moe_equation(model, tokenizer, layer_idx, text=\"the quick brown fox\", tolerance=1e-5):\n",
    "    \"\"\"\n",
    "    Verifies that MoE activations add up correctly:\n",
    "    final_layer_output = residual_stream_hidden_states_before_experts + moe_output\n",
    "    \"\"\"\n",
    "    analyzer = DeepseekLayerAnalyzer(model, tokenizer)\n",
    "    analyzer.register_hooks()\n",
    "    \n",
    "    input_ids = tokenizer(text, return_tensors=\"pt\").input_ids\n",
    "    try:\n",
    "        # Run the analysis to populate data structures\n",
    "        analyzer.analyze_tokens(input_ids)\n",
    "        \n",
    "        # Get moe outputs and residual\n",
    "        if layer_idx not in analyzer.moe_combined_outputs or not analyzer.moe_combined_outputs[layer_idx]:\n",
    "            print(\"No combined output data found\")\n",
    "            return False\n",
    "\n",
    "        residual = post_attn_ln_inputs[layer_idx][-1][0][0]\n",
    "        print(f\"Residual shape: {residual.shape}\")\n",
    "        \n",
    "        # Get the combined MoE output directly from the hook\n",
    "        moe_output = analyzer.moe_combined_outputs[layer_idx][-1]['combined_output'][0]\n",
    "        print(f\"MoE output shape: {moe_output.shape}\")\n",
    "\n",
    "        # Get the final layer output\n",
    "        final_layer_output = analyzer.layer_outputs[layer_idx][-1][0]\n",
    "        print(f\"Final layer output shape: {final_layer_output.shape}\")\n",
    "        \n",
    "        # Full equation: final_output = residual + moe_output\n",
    "        lhs = residual + moe_output\n",
    "        print(f\"lhs shape: {lhs.shape}\")\n",
    "        print(f'lhs {lhs}')\n",
    "        rhs = final_layer_output\n",
    "        print(f\"rhs shape: {rhs.shape}\")\n",
    "        print(f'rhs {rhs}')\n",
    "        # Check if close\n",
    "        is_close = torch.allclose(lhs, rhs, rtol=tolerance, atol=tolerance)\n",
    "        print(f'is_close {is_close}')\n",
    "        if not is_close:\n",
    "            max_diff = (lhs - rhs).abs().max().item()\n",
    "            print(f\"Maximum difference: {max_diff:.6f}\")\n",
    "            print(\"\\nDetailed component analysis:\")\n",
    "            print(f\"Residual max value: {residual.abs().max().item():.6f}\")\n",
    "            print(f\"MoE output max value: {moe_output.abs().max().item():.6f}\")\n",
    "            print(f\"Final output max value: {final_layer_output.abs().max().item():.6f}\")\n",
    "            \n",
    "        return is_close\n",
    "        \n",
    "    finally:\n",
    "        analyzer.cleanup()"
   ]
  },
  {
   "cell_type": "code",
   "execution_count": 10,
   "metadata": {},
   "outputs": [],
   "source": [
    "# # Verify equation for a specific layer\n",
    "# is_valid = verify_moe_equation(model, tokenizer, layer_idx=26, )\n",
    "# print(f\"MoE equation holds: {is_valid}\")"
   ]
  },
  {
   "cell_type": "code",
   "execution_count": 11,
   "metadata": {},
   "outputs": [
    {
     "name": "stdout",
     "output_type": "stream",
     "text": [
      "Layer 0 predictions: [[('开辟', 1.3857421875), ('wk', 1.361328125), ('始终坚持', 1.2900390625), ('晗', 1.2763671875), ('固执', 1.2021484375)], [('懿', 1.1943359375), ('吸取', 1.0966796875), ('KR', 1.046875), ('HCI', 1.0390625), ('摧', 1.0341796875)], [('不惜', 1.2099609375), ('GO', 1.1455078125), ('VF', 1.1416015625), ('дата', 1.0908203125), ('^-_', 1.0751953125)], [('UTO', 0.7080078125), ('wk', 0.69091796875), ('加快推进', 0.67626953125), ('建立起', 0.67041015625), ('巍', 0.65478515625)], [(' ', 1.232421875), (' (', 1.16796875), (' n', 1.1494140625), ('-', 1.0810546875), (' q', 1.0126953125)], [('开辟', 0.93310546875), ('固执', 0.91552734375), ('WN', 0.91259765625), ('GK', 0.91064453125), ('wk', 0.904296875)], [('GK', 0.90625), ('固执', 0.90576171875), ('开辟', 0.890625), ('wk', 0.880859375), ('WN', 0.87939453125)], [(' CWE', 1.0224609375), (' NV', 0.96923828125), ('NV', 0.94970703125), ('© ', 0.9296875), ('HV', 0.91162109375)], [('ADO', 0.85205078125), ('�乐', 0.84033203125), ('吸取', 0.763671875), ('ASA', 0.75634765625), ('不断提升', 0.75048828125)], [(' ', 1.1240234375), (' (', 1.0263671875), (' n', 0.9951171875), ('yt', 0.92138671875), ('stat', 0.9091796875)], [('固执', 0.74951171875), ('建华', 0.66845703125), ('wk', 0.66650390625), ('ADO', 0.6630859375), ('OTO', 0.6513671875)]]\n",
      "Layer 1 predictions: [[(' препратки', 75.875), ('�乐', 74.1875), ('idades', 73.5625), ('不成', 73.5), ('扫', 73.125)], [('端正', 1.28125), ('时时', 1.28125), ('莫名其', 1.259765625), ('MH', 1.23828125), (' n', 1.23828125)], [('жени', 1.62890625), ('agin', 1.5517578125), ('XF', 1.4951171875), ('ZW', 1.4921875), (' Cru', 1.4736328125)], [('建立起', 0.931640625), ('зват', 0.837890625), ('им', 0.8046875), ('OMS', 0.80322265625), ('WN', 0.80126953125)], [('GV', 1.3681640625), (' ', 1.3193359375), ('澈', 1.3154296875), (' q', 1.251953125), ('8', 1.2509765625)], [('WN', 0.853515625), ('时时', 0.79541015625), ('bly', 0.755859375), (' tab', 0.75048828125), ('浑', 0.7373046875)], [('WN', 0.80322265625), ('刻意', 0.74658203125), ('昏', 0.7451171875), ('OMS', 0.7119140625), ('时时', 0.7099609375)], [('лад', 1.3427734375), ('© ', 1.2705078125), ('筛选', 1.2392578125), ('VO', 1.228515625), ('work', 1.22265625)], [('ADO', 0.8369140625), ('ASA', 0.8359375), ('晖', 0.8037109375), ('ODO', 0.7783203125), ('CKS', 0.76025390625)], [(' ', 1.70703125), (' (', 1.2529296875), ('HCI', 1.1943359375), (' A', 1.1923828125), (' \"', 1.1796875)], [('KF', 0.67578125), ('UTO', 0.6669921875), ('ixa', 0.64599609375), ('IVA', 0.6201171875), ('看似', 0.61083984375)]]\n",
      "Layer 2 predictions: [[(' препратки', 99.5), ('�乐', 96.0625), ('不成', 95.0), ('idades', 94.3125), ('имна', 93.875)], [(' l', 1.7353515625), (' n', 1.62109375), ('FM', 1.5283203125), (' MV', 1.5234375), ('bod', 1.505859375)], [('лю', 1.8232421875), ('==)', 1.7568359375), ('awl', 1.7216796875), ('ZW', 1.7109375), ('icl', 1.703125)], [('oload', 2.35546875), ('sembly', 2.1328125), ('ymmet', 2.103515625), ('uir', 1.9375), ('ailable', 1.9326171875)], [('ი�', 1.4892578125), (' забо', 1.4736328125), ('VM', 1.4296875), ('рец', 1.4267578125), ('zhu', 1.3994140625)], [('bly', 1.0654296875), ('anet', 0.9599609375), (' Emir', 0.9091796875), (' subt', 0.8720703125), ('oqu', 0.84912109375)], [('ikin', 0.873046875), (' Emir', 0.86962890625), ('zem', 0.8564453125), ('WN', 0.8544921875), ('�', 0.83544921875)], [('© ', 1.615234375), ('VO', 1.533203125), ('esh', 1.5322265625), ('风口', 1.525390625), ('不忘', 1.4443359375)], [('ASA', 1.001953125), ('ODO', 0.94580078125), ('jb', 0.89013671875), ('mov', 0.88525390625), ('UM', 0.875)], [(' ', 1.9853515625), ('郎', 1.5419921875), (' http', 1.4130859375), ('жител', 1.4052734375), (' (', 1.3466796875)], [(' sinc', 1.5771484375), ('дец', 1.462890625), ('Nay', 1.4521484375), ('Сели', 1.3798828125), ('вер', 1.3740234375)]]\n",
      "Layer 3 predictions: [[(' препратки', 109.875), ('имна', 109.3125), ('�乐', 107.625), ('不成', 106.5625), ('idades', 106.375)], [(' MV', 1.662109375), ('狭', 1.6474609375), ('heimer', 1.5830078125), ('斑', 1.5615234375), ('涵', 1.529296875)], [('ivil', 1.916015625), ('==)', 1.859375), ('лю', 1.8486328125), ('icl', 1.8125), ('Reader', 1.755859375)], [('sembly', 2.794921875), ('oload', 2.4921875), ('ailable', 2.447265625), ('ssf', 2.37109375), ('olutely', 2.326171875)], [('OperationKind', 2.828125), ('tip', 2.345703125), ('HCI', 2.337890625), ('satz', 2.22265625), ('FNGL', 2.197265625)], [('oqu', 1.3447265625), ('bly', 1.279296875), ('onic', 1.23828125), ('носа', 1.23046875), ('天生', 1.216796875)], [('riel', 1.681640625), ('links', 1.515625), ('hwe', 1.513671875), (' activ', 1.4921875), ('semb', 1.4912109375)], [('́', 1.650390625), ('© ', 1.5849609375), ('instructions', 1.57421875), ('Forward', 1.5595703125), ('esh', 1.5380859375)], [('IMO', 1.5380859375), (' c', 1.4755859375), ('UM', 1.396484375), ('坑', 1.3408203125), (' C', 1.337890625)], [('郎', 1.673828125), ('HCI', 1.6142578125), (' ', 1.5146484375), ('./', 1.48046875), (' Cl', 1.4609375)], [('�', 1.6015625), ('SES', 1.474609375), ('astical', 1.466796875), ('вер', 1.466796875), ('bern', 1.43359375)]]\n",
      "Layer 4 predictions: [[(' препратки', 116.75), ('имна', 114.9375), ('�乐', 114.375), ('batim', 112.375), ('不成', 112.125)], [('зата', 2.611328125), (' MV', 2.4375), ('�起', 2.3515625), ('ixa', 2.349609375), ('undo', 2.2578125)], [('==)', 2.150390625), ('ivil', 2.01953125), ('angeli', 2.01171875), ('Reader', 2.0078125), ('agin', 2.00390625)], [('oload', 3.240234375), ('sembly', 3.103515625), ('ailable', 2.9140625), ('ymmet', 2.814453125), ('ternoons', 2.79296875)], [('OperationKind', 3.00390625), ('yset', 2.46484375), ('angeli', 2.3515625), ('tip', 2.265625), ('idean', 2.19921875)], [('oqu', 1.3818359375), ('ОН', 1.3544921875), ('onic', 1.3125), (' retic', 1.306640625), ('堆', 1.2939453125)], [('oqu', 1.8125), ('mead', 1.8056640625), ('hwe', 1.7861328125), ('пита', 1.6865234375), ('дем', 1.67578125)], [('esh', 1.9775390625), ('zon', 1.7197265625), (' H', 1.6640625), ('instructions', 1.646484375), ('abul', 1.607421875)], [(' c', 1.8125), ('UM', 1.8095703125), (' r', 1.6259765625), ('IMO', 1.541015625), ('OP', 1.541015625)], [('HCI', 1.869140625), (' ', 1.701171875), ('deck', 1.623046875), ('郎', 1.6171875), ('负荷', 1.6005859375)], [('IVA', 1.984375), ('вер', 1.857421875), ('SES', 1.755859375), ('bern', 1.7001953125), ('hyde', 1.685546875)]]\n",
      "Layer 5 predictions: [[(' препратки', 118.6875), ('имна', 116.5625), ('�乐', 115.1875), ('不成', 113.6875), ('batim', 113.5625)], [('зата', 3.828125), ('��', 3.701171875), ('�起', 3.6640625), ('自', 3.521484375), ('走出', 3.333984375)], [('agin', 2.734375), ('Reader', 2.3828125), ('摧', 2.333984375), ('ZW', 2.326171875), (' scal', 2.2421875)], [('sembly', 3.3515625), ('oload', 3.291015625), ('ternoons', 3.158203125), ('olutely', 2.88671875), ('evo', 2.8828125)], [('yset', 2.58203125), ('OperationKind', 2.51171875), ('HCI', 2.376953125), ('angeli', 2.111328125), ('idean', 2.068359375)], [('ially', 1.587890625), ('нева', 1.5576171875), ('堆', 1.533203125), ('suitable', 1.4765625), ('jov', 1.4755859375)], [('mead', 2.1484375), ('дем', 1.982421875), ('oqu', 1.9140625), ('anque', 1.9052734375), ('яна', 1.8837890625)], [('esh', 2.39453125), ('autoload', 1.9921875), ('ENG', 1.94921875), ('cci', 1.9296875), ('re', 1.9130859375)], [(' r', 2.138671875), ('UM', 1.853515625), (' c', 1.826171875), (' ', 1.7685546875), ('时时', 1.7041015625)], [('HCI', 2.140625), ('tree', 1.8134765625), ('ivil', 1.8076171875), ('FW', 1.7548828125), (' ', 1.658203125)], [('ertainly', 2.529296875), ('водство', 2.443359375), ('HCI', 2.412109375), ('вер', 2.283203125), ('SES', 2.28125)]]\n",
      "Layer 6 predictions: [[(' препратки', 120.125), ('имна', 117.625), ('�乐', 115.75), ('不成', 114.6875), ('batim', 114.5)], [('зата', 3.68359375), ('��', 3.498046875), ('�起', 3.482421875), ('自', 3.318359375), ('чков', 3.111328125)], [('agin', 2.763671875), ('Reader', 2.61328125), ('icl', 2.44921875), ('VF', 2.443359375), ('ZW', 2.439453125)], [('sembly', 3.189453125), ('oload', 3.068359375), ('ternoons', 2.96875), ('olutely', 2.931640625), ('phy', 2.91796875)], [('yset', 2.58203125), ('HCI', 2.365234375), ('澈', 2.298828125), ('angeli', 2.236328125), (' революционна', 2.20703125)], [('рил', 1.9912109375), ('acis', 1.9716796875), ('Хора', 1.8818359375), ('COPY', 1.7412109375), ('ОН', 1.7314453125)], [('mead', 2.3828125), ('дем', 2.0859375), ('oqu', 1.9716796875), ('хен', 1.9267578125), ('etr', 1.87890625)], [('闸', 2.09765625), ('�', 2.09375), ('ensi', 2.078125), ('ENG', 2.05859375), ('POM', 2.041015625)], [(' r', 2.404296875), (' c', 2.251953125), (' C', 1.9140625), (' p', 1.8828125), (' t', 1.8798828125)], [('tree', 1.9892578125), ('HCI', 1.984375), ('FW', 1.818359375), (' ', 1.8056640625), ('Cap', 1.7978515625)], [('ertainly', 2.587890625), ('вер', 2.349609375), ('лия', 2.33984375), ('SES', 2.20703125), ('ensk', 2.15234375)]]\n",
      "Layer 7 predictions: [[(' препратки', 119.9375), ('имна', 117.5625), ('�乐', 115.75), ('不成', 114.5625), ('batim', 114.375)], [('зата', 4.421875), ('��', 3.6015625), ('чков', 3.5703125), ('vert', 3.56640625), ('�起', 3.51953125)], [('ZW', 3.076171875), ('agin', 2.8203125), ('Reader', 2.76953125), ('摧', 2.763671875), (' COPY', 2.669921875)], [('sembly', 3.677734375), ('ternoons', 3.623046875), ('olutely', 3.521484375), ('oload', 3.333984375), ('卵管', 3.158203125)], [('HCI', 2.853515625), (' революционна', 2.70703125), ('yset', 2.3984375), (' COPY', 2.33984375), ('�', 2.330078125)], [('ENG', 2.197265625), (' despla', 2.166015625), ('cho', 2.087890625), ('分开', 2.048828125), ('acost', 2.017578125)], [('дем', 2.525390625), ('oqu', 2.50390625), ('mead', 2.42578125), (' resolv', 2.357421875), (' afr', 2.220703125)], [('BF', 2.337890625), ('驼', 2.283203125), ('ENG', 2.244140625), ('ZW', 2.177734375), ('�', 2.171875)], [(' c', 2.201171875), (' r', 2.177734375), ('莫名其', 2.0859375), ('IMO', 2.083984375), ('kes', 2.04296875)], [('astery', 2.31640625), ('FW', 2.234375), ('ially', 2.212890625), ('Vote', 2.111328125), ('HCI', 2.107421875)], [('ertainly', 2.76953125), ('лия', 2.5625), ('вер', 2.43359375), ('цев', 2.333984375), ('负荷', 2.3203125)]]\n",
      "Layer 8 predictions: [[(' препратки', 120.0), ('имна', 117.5), ('�乐', 115.5625), ('不成', 114.5625), ('batim', 114.5625)], [('зата', 4.328125), ('чков', 3.755859375), ('��', 3.65234375), (' MV', 3.599609375), ('vert', 3.490234375)], [('ZW', 3.6796875), ('摧', 3.55078125), ('召唤', 3.50390625), ('̀', 3.482421875), ('春', 3.482421875)], [('sembly', 3.73828125), ('ternoons', 3.599609375), ('olutely', 3.283203125), ('ilitar', 3.271484375), ('phy', 3.21875)], [('HCI', 3.751953125), (' революционна', 3.384765625), ('zos', 3.185546875), ('FNGL', 3.009765625), ('OperationKind', 2.912109375)], [('ENG', 2.650390625), ('COPY', 2.51171875), (' ENG', 2.30078125), ('堆', 2.26953125), ('无情', 2.203125)], [('дем', 2.796875), ('oqu', 2.615234375), (' afr', 2.5390625), (' feien', 2.423828125), ('adera', 2.38671875)], [('ENG', 2.90234375), ('ZW', 2.783203125), ('BF', 2.671875), ('LZ', 2.650390625), ('驼', 2.630859375)], [('IMO', 2.708984375), ('ENS', 2.3515625), ('莫名其', 2.28515625), ('KF', 2.251953125), ('充分利用', 2.23046875)], [('HCI', 3.13671875), ('WN', 2.8828125), ('ients', 2.83203125), ('unz', 2.798828125), ('copy', 2.681640625)], [('HCI', 2.70703125), ('вер', 2.681640625), ('лия', 2.583984375), ('SES', 2.53515625), ('ertainly', 2.4765625)]]\n",
      "Layer 9 predictions: [[(' препратки', 121.25), ('имна', 118.25), ('�乐', 116.0625), ('不成', 115.875), ('batim', 115.125)], [('зата', 4.34375), ('чков', 4.046875), ('��', 3.828125), ('�起', 3.6640625), (' MV', 3.6015625)], [('ZW', 4.34765625), (' entitat', 3.962890625), ('摧', 3.875), ('fic', 3.83203125), ('iks', 3.7265625)], [('sembly', 3.990234375), ('ssf', 3.802734375), ('olutely', 3.515625), (' tab', 3.51171875), ('ternoons', 3.466796875)], [(' революционна', 3.861328125), ('HCI', 3.751953125), ('OperationKind', 3.373046875), ('incipal', 3.318359375), ('FNGL', 3.26953125)], [('COPY', 2.603515625), ('ENG', 2.587890625), ('носа', 2.482421875), ('堆', 2.45703125), ('ially', 2.392578125)], [('oqu', 3.091796875), ('�', 2.869140625), ('дем', 2.814453125), ('хен', 2.728515625), ('зата', 2.703125)], [('BF', 3.388671875), ('RL', 3.013671875), ('2', 2.95703125), ('ZW', 2.908203125), ('vil', 2.87109375)], [('IMO', 2.837890625), ('充分利用', 2.83203125), ('莫名其', 2.7265625), ('ARP', 2.64453125), ('\"_', 2.583984375)], [('copy', 3.056640625), ('Copy', 2.9921875), ('ially', 2.953125), ('Cap', 2.9140625), ('spell', 2.908203125)], [('ertainly', 2.703125), ('HCI', 2.568359375), ('вер', 2.455078125), ('topNav', 2.4375), ('лия', 2.375)]]\n",
      "Layer 10 predictions: [[(' препратки', 121.75), ('имна', 118.5), ('�乐', 116.4375), ('不成', 116.0), ('batim', 115.5625)], [('зата', 4.48828125), ('чков', 4.37890625), ('IVA', 4.234375), ('�起', 4.19140625), (' MV', 4.0546875)], [('摧', 5.15625), ('wk', 4.76953125), ('ZW', 4.7578125), ('fic', 4.70703125), (' entitat', 4.66796875)], [('olutely', 6.1328125), ('卵管', 6.09765625), ('sembler', 6.046875), ('sembly', 6.0234375), ('HDA', 5.98046875)], [('HCI', 4.35546875), ('̀', 4.0234375), ('LW', 3.90625), ('FNGL', 3.880859375), ('ANE', 3.78125)], [('ENG', 3.3515625), ('urally', 2.947265625), ('假装', 2.91796875), ('носа', 2.861328125), ('wk', 2.845703125)], [('oqu', 3.3671875), (' afr', 3.16796875), ('зата', 3.111328125), ('�', 2.98828125), ('хен', 2.86328125)], [('BF', 3.58203125), ('MH', 3.544921875), ('ZW', 3.525390625), ('pei', 3.51953125), ('wk', 3.39453125)], [('nqu', 3.828125), ('ASA', 3.6171875), ('充分利用', 3.4375), ('ICI', 3.318359375), ('mars', 3.30859375)], [('ially', 3.51171875), ('pei', 3.462890625), ('nss', 3.423828125), ('年夜', 3.337890625), ('的一', 3.314453125)], [('astre', 3.890625), ('ertainly', 3.685546875), ('KF', 3.443359375), ('}^*(', 3.421875), ('вер', 3.36328125)]]\n",
      "Layer 11 predictions: [[(' препратки', 121.5), ('имна', 118.375), ('�乐', 116.8125), ('不成', 115.8125), ('batim', 115.625)], [('�起', 4.68359375), ('чков', 4.48046875), ('зата', 4.41796875), (' MV', 4.21484375), ('IVA', 4.20703125)], [('摧', 4.9453125), ('fic', 4.91796875), ('无愧', 4.5625), ('春', 4.42578125), ('̀', 4.40625)], [('sembly', 6.22265625), ('ssf', 6.1640625), ('olutely', 6.05078125), ('sembler', 6.046875), ('ilitar', 5.7890625)], [(' революционна', 4.265625), ('FNGL', 4.078125), ('zos', 4.01171875), ('HCI', 3.859375), ('\\\\^', 3.806640625)], [('ENG', 4.43359375), ('adera', 4.35546875), ('xspace', 3.796875), ('burger', 3.607421875), ('atea', 3.52734375)], [('oqu', 4.63671875), ('wara', 3.78515625), ('oir', 3.611328125), ('semb', 3.603515625), ('ENG', 3.52734375)], [('BF', 4.0390625), ('ENG', 4.01171875), ('1', 3.845703125), ('RL', 3.7890625), ('́', 3.634765625)], [('nqu', 4.1953125), ('ASA', 3.828125), ('mars', 3.587890625), ('充分利用', 3.53515625), ('ARP', 3.248046875)], [('pei', 4.453125), ('uja', 4.33203125), ('elton', 4.1796875), ('mak', 4.13671875), ('FW', 3.94921875)], [('astre', 4.1953125), ('ionista', 3.86328125), ('oport', 3.583984375), ('翼翼', 3.564453125), ('вер', 3.53125)]]\n",
      "Layer 12 predictions: [[(' препратки', 123.75), ('имна', 118.875), ('不成', 117.3125), ('batim', 117.3125), ('�乐', 117.0625)], [('�起', 4.9375), (' MV', 4.421875), ('зата', 4.421875), ('чков', 4.37109375), ('ales', 4.1953125)], [('asta', 5.5703125), ('BG', 5.0546875), ('istically', 5.01171875), ('fic', 4.93359375), ('wk', 4.90234375)], [('olutely', 5.8671875), ('sembly', 5.640625), ('sembler', 5.63671875), ('ssf', 5.6328125), ('ilitar', 5.52734375)], [('\\\\^', 4.32421875), ('禧', 4.15234375), ('зор', 4.07421875), ('ANE', 4.046875), (' революционна', 3.982421875)], [('ENG', 4.10546875), ('носа', 3.90234375), ('adera', 3.6875), ('xspace', 3.541015625), ('iid', 3.49609375)], [('oqu', 4.69140625), (' afr', 3.703125), ('semb', 3.638671875), ('oir', 3.525390625), ('�', 3.521484375)], [('SEL', 4.48828125), ('́', 4.23828125), ('ZW', 4.14453125), ('RL', 4.08203125), ('ENG', 4.02734375)], [('nqu', 4.1171875), ('ASA', 3.521484375), ('ARP', 3.484375), ('充分利用', 3.46484375), ('mars', 3.416015625)], [('pei', 4.55078125), ('uja', 4.46875), ('elton', 4.26953125), ('enix', 4.25), ('ients', 4.125)], [('astre', 4.36328125), ('ionista', 3.796875), ('HEL', 3.611328125), ('Hab', 3.58203125), ('hab', 3.546875)]]\n",
      "Layer 13 predictions: [[(' препратки', 123.5), ('имна', 118.9375), ('�乐', 117.5), ('batim', 117.4375), ('不成', 117.125)], [('�起', 5.11328125), (' MV', 5.0), ('зата', 4.6640625), ('VF', 4.49609375), ('时时', 4.39453125)], [('摧', 5.89453125), ('asta', 5.65234375), ('BG', 5.56640625), ('fic', 5.39453125), ('wk', 5.33984375)], [('olutely', 6.35546875), ('sembly', 6.26171875), ('sembler', 5.5703125), ('rality', 5.4375), ('sembles', 5.3671875)], [('UTO', 5.16015625), ('̀', 4.9765625), ('ANO', 4.8515625), ('ANE', 4.8046875), ('WS', 4.796875)], [('тиле', 4.26171875), ('ANE', 3.951171875), (' fiche', 3.939453125), ('iid', 3.93359375), ('仑', 3.927734375)], [('oqu', 5.27734375), ('oir', 4.53125), ('设法', 4.3671875), ('oos', 4.2890625), ('лата', 4.15625)], [('1', 6.7890625), ('7', 5.859375), ('2', 5.6875), ('3', 5.65625), ('9', 5.44140625)], [('ARP', 4.19140625), ('TEL', 4.10546875), ('adora', 4.078125), ('mars', 4.01171875), ('ASA', 3.984375)], [('pei', 5.60546875), ('ients', 5.0625), ('uja', 4.82421875), ('enix', 4.578125), ('TSC', 4.48828125)], [('astre', 4.5859375), ('HEL', 3.98046875), ('�', 3.96875), ('Hab', 3.9609375), ('ially', 3.939453125)]]\n",
      "Layer 14 predictions: [[(' препратки', 124.8125), ('имна', 119.1875), ('不成', 118.375), ('batim', 118.125), ('idades', 117.25)], [('ixa', 5.578125), ('建立起', 5.40625), (' MV', 5.22265625), ('зата', 5.20703125), ('时时', 5.16015625)], [('BG', 6.328125), ('istically', 5.86328125), ('摧', 5.80859375), ('wk', 5.69921875), ('onium', 5.65625)], [('sembly', 6.81640625), ('olutely', 5.83984375), ('HDA', 5.7421875), ('sembler', 5.55859375), ('рд', 5.51171875)], [('UTO', 6.25390625), ('ANA', 5.5546875), ('\\\\^', 5.38671875), ('WS', 5.37890625), ('ANO', 5.3359375)], [('носа', 4.46875), ('ordin', 4.21484375), (' fiche', 4.2109375), ('WN', 4.0390625), ('ANE', 4.02734375)], [('oqu', 5.2109375), ('设法', 4.984375), (' afr', 4.9296875), ('oir', 4.81640625), ('STOR', 4.6640625)], [('1', 8.0859375), ('2', 7.16796875), ('3', 7.09375), ('7', 6.9140625), ('4', 6.5859375)], [('ASA', 4.82421875), ('\\xad', 4.5390625), ('ABLE', 4.51171875), ('mars', 4.4453125), ('ARP', 4.42578125)], [('pei', 5.8984375), ('uja', 5.22265625), ('ients', 5.1015625), ('enix', 4.91015625), ('煌', 4.7890625)], [('astre', 4.359375), ('ially', 4.29296875), ('SEL', 4.140625), ('�', 4.0625), ('ABLE', 4.0078125)]]\n",
      "Layer 15 predictions: [[(' препратки', 125.0), ('имна', 118.875), ('不成', 118.3125), ('batim', 117.3125), ('idades', 117.1875)], [(' MV', 5.97265625), ('ixa', 5.609375), ('建立起', 5.60546875), ('时时', 5.49609375), ('IRT', 5.34375)], [('BG', 5.87109375), ('istically', 5.8046875), ('wk', 5.38671875), ('files', 5.2734375), ('onium', 5.2421875)], [('olutely', 5.71484375), ('sembly', 5.5625), ('rality', 5.55859375), ('材', 5.515625), ('рд', 5.4375)], [('UTO', 6.453125), ('ANA', 5.94140625), ('WS', 5.75390625), ('HCI', 5.6875), ('ANO', 5.53515625)], [('import', 8.46875), ('носа', 7.56640625), ('from', 7.4765625), ('adera', 6.30859375), ('是真的', 5.84765625)], [('from', 6.7734375), ('oos', 5.95703125), ('oqu', 5.7890625), (' def', 5.515625), ('XL', 5.4765625)], [('1', 9.4375), ('7', 7.99609375), ('2', 7.91015625), ('9', 7.81640625), ('3', 7.7578125)], [('ARP', 5.1015625), ('ICI', 4.98828125), ('mak', 4.90234375), ('ASA', 4.890625), ('ODO', 4.7421875)], [('pei', 5.7578125), ('ients', 5.28515625), ('enix', 5.20703125), ('�', 4.94921875), ('elt', 4.94140625)], [(' exemple', 4.765625), ('ially', 4.625), ('XF', 4.4296875), ('横', 4.296875), ('astre', 4.28515625)]]\n",
      "Layer 16 predictions: [[(' препратки', 125.0625), ('имна', 118.625), ('不成', 118.5), ('idades', 117.25), ('batim', 116.9375)], [(' MV', 6.20703125), ('IRT', 5.765625), (' tab', 5.7109375), ('建立起', 5.6796875), ('UTO', 5.67578125)], [('wk', 6.76953125), ('лкото', 6.49609375), ('iken', 6.4375), ('师', 6.39453125), (' Citation', 6.32421875)], [('材', 5.87890625), ('sembly', 5.6015625), ('spr', 5.44140625), ('CADE', 5.29296875), ('tains', 5.27734375)], [('WS', 7.0546875), ('̀', 6.9140625), ('ANA', 6.828125), ('时时', 6.6875), ('ENCE', 6.5234375)], [('import', 10.3671875), ('from', 9.359375), ('XL', 6.8515625), (' from', 6.43359375), ('носа', 6.13671875)], [('from', 7.41796875), (' def', 7.05859375), ('XL', 6.94921875), ('#', 6.76953125), ('�', 6.6171875)], [('1', 13.6875), ('3', 12.15625), ('2', 12.0078125), ('7', 11.859375), ('4', 11.6796875)], [(' pd', 10.765625), ('pd', 10.4453125), ('PD', 8.0703125), ('rys', 7.2109375), (' PD', 7.203125)], [('pei', 6.9140625), ('ients', 6.37890625), ('duk', 6.19921875), ('ishly', 6.17578125), ('dua', 6.16015625)], [('XF', 5.12890625), ('ially', 4.8515625), ('VF', 4.6484375), ('ACA', 4.609375), (' exemple', 4.5390625)]]\n",
      "Layer 17 predictions: [[(' препратки', 126.3125), ('不成', 119.3125), ('имна', 118.75), ('idades', 117.25), ('batim', 116.875)], [('UTO', 8.203125), (' MV', 7.72265625), ('IRT', 7.48046875), ('时时', 7.38671875), ('HM', 7.3125)], [('wk', 7.5), ('XF', 6.8984375), ('лкото', 6.6171875), ('ť', 6.58984375), (' BJT', 6.50390625)], [('pn', 6.375), (' pd', 6.23828125), ('�', 6.10546875), (' pandas', 5.91796875), (' P', 5.90625)], [('ANA', 8.3125), ('̀', 7.69140625), ('VF', 7.58203125), ('时时', 7.3984375), ('ILS', 7.234375)], [('import', 10.65625), ('from', 9.890625), ('XL', 7.0), (' from', 6.56640625), ('杰', 6.23828125)], [('from', 8.0703125), ('#', 7.890625), ('设法', 7.43359375), (' def', 7.25), ('XL', 6.89453125)], [('1', 15.4296875), ('2', 13.3125), ('3', 13.21875), ('7', 12.9296875), ('5', 12.6328125)], [(' pd', 12.796875), ('pd', 12.328125), ('PD', 9.53125), (' PD', 8.5859375), ('rys', 7.546875)], [('ishly', 6.83203125), ('interopRequireDefault', 6.78515625), (' Stammtafeln', 6.53125), ('FNGL', 6.41796875), ('://$', 6.3125)], [('read', 18.5625), ('DataFrame', 13.984375), (' read', 13.984375), ('io', 11.7890625), (' reads', 11.7421875)]]\n",
      "Layer 18 predictions: [[(' препратки', 126.8125), ('不成', 119.3125), ('имна', 118.4375), ('idades', 117.1875), ('}$~\\\\', 116.8125)], [('UTO', 8.109375), ('时时', 7.90625), (' MV', 7.765625), ('IRT', 7.52734375), ('HM', 7.49609375)], [('wk', 7.73046875), ('ishly', 6.9453125), ('ť', 6.84375), ('XF', 6.76171875), ('侥幸', 6.71875)], [(' pd', 7.56640625), (' pandas', 7.05078125), ('pn', 6.87109375), (' P', 6.84375), (' PD', 6.484375)], [('̀', 8.09375), ('ANA', 7.64453125), ('̶', 7.35546875), ('时时', 7.3515625), ('\\\\^', 7.2421875)], [('import', 10.9375), ('from', 10.5546875), (' from', 7.2890625), ('XL', 6.79296875), ('xl', 6.3828125)], [('from', 8.3984375), ('#', 8.125), ('设法', 7.30859375), (' def', 7.2734375), ('#:', 7.1171875)], [('1', 16.625), ('2', 14.3046875), ('3', 14.1484375), ('7', 13.6875), ('4', 13.640625)], [(' pd', 16.671875), ('pd', 16.359375), ('PD', 14.71875), (' PD', 13.2109375), ('PAD', 8.5546875)], [('interopRequireDefault', 6.94140625), ('://$', 6.79296875), ('queria', 6.51953125), ('ishly', 6.453125), (' Stammtafeln', 6.30078125)], [('read', 18.28125), (' read', 13.828125), ('DataFrame', 13.640625), (' reads', 11.78125), ('io', 11.1484375)]]\n",
      "Layer 19 predictions: [[(' препратки', 127.625), ('不成', 119.1875), ('имна', 118.375), ('}$~\\\\', 117.625), ('idades', 117.1875)], [('UTO', 8.1953125), (' {', 7.70703125), ('HM', 7.66015625), ('时时', 7.62890625), (' MV', 7.26953125)], [('wk', 7.6171875), ('摧', 7.0078125), ('XF', 6.9921875), ('ODO', 6.97265625), ('лкото', 6.95703125)], [(' pd', 7.33203125), ('pn', 6.92578125), ('sembles', 6.68359375), (' pandas', 6.62109375), (' P', 6.2265625)], [('̀', 8.0078125), ('̶', 7.99609375), ('ANA', 7.81640625), (';{\\\\', 7.75), ('iat', 7.59765625)], [('import', 16.28125), ('from', 15.703125), (' from', 10.3046875), ('\\n', 9.1015625), (' import', 9.03125)], [('#', 10.2109375), ('from', 9.8515625), ('def', 9.2578125), (' #', 8.625), (' def', 8.5859375)], [('1', 17.3125), ('2', 14.890625), ('3', 14.765625), ('4', 14.4375), ('7', 14.328125)], [(' pd', 16.171875), ('pd', 16.046875), ('PD', 14.7109375), (' PD', 12.625), ('TD', 8.96875)], [('interopRequireDefault', 8.796875), ('writeField', 7.49609375), ('ients', 7.359375), ('://$', 7.13671875), ('/__', 7.1171875)], [('read', 18.671875), (' read', 13.7421875), ('DataFrame', 13.2421875), (' reads', 11.6875), ('reads', 11.1640625)]]\n",
      "Layer 20 predictions: [[(' препратки', 127.4375), ('不成', 119.1875), ('имна', 118.25), ('}$~\\\\', 117.75), ('idades', 117.1875)], [(' {', 8.7265625), ('UTO', 7.9453125), ('时时', 7.90625), ('HM', 7.890625), (' MV', 7.51953125)], [('wk', 7.2734375), ('лкото', 7.0859375), ('摧', 6.859375), ('fora', 6.8203125), (' BJT', 6.80859375)], [(' pd', 8.265625), ('pn', 7.578125), (' pandas', 7.41796875), ('sembles', 7.25), ('pd', 7.08984375)], [('ExternalTask', 8.53125), ('̶', 8.328125), ('̀', 8.21875), ('ailability', 8.1640625), ('\\\\^', 8.0859375)], [('import', 20.375), ('from', 19.34375), (' from', 13.6171875), ('\\n', 12.546875), (' import', 11.84375)], [('#', 14.453125), ('from', 14.1953125), ('def', 12.8828125), ('#:', 12.21875), (' #', 12.1953125)], [('1', 17.34375), ('3', 15.15625), ('2', 15.0546875), ('4', 14.4296875), ('7', 14.28125)], [(' pd', 16.859375), ('pd', 16.625), ('PD', 14.453125), (' PD', 12.796875), ('PAD', 8.828125)], [('interopRequireDefault', 9.1796875), ('$^', 7.8515625), ('writeField', 7.8125), ('subNav', 7.6015625), ('iat', 7.50390625)], [('read', 23.96875), ('DataFrame', 18.109375), (' read', 16.75), ('reads', 14.25), (' reads', 13.9609375)]]\n",
      "Layer 21 predictions: [[(' препратки', 128.875), ('}$~\\\\', 119.4375), ('不成', 119.125), ('имна', 119.0), ('�乐', 117.5)], [(' java', 9.328125), ('时时', 8.8125), ('UTO', 8.7265625), ('建立起', 8.71875), (' {', 8.7109375)], [('лкото', 7.82421875), ('wk', 7.47265625), (' as', 7.4453125), ('XF', 7.35546875), ('ť', 7.32421875)], [(' pd', 8.796875), ('pn', 7.52734375), ('PN', 7.28125), ('sembles', 7.2578125), (' P', 7.25390625)], [('ANA', 10.828125), ('jen', 9.28125), ('ENCE', 9.2734375), ('вари', 9.171875), ('KW', 8.9296875)], [('import', 20.15625), ('from', 19.25), (' from', 13.46875), ('\\n', 13.453125), (' import', 11.1171875)], [('#', 14.890625), ('from', 14.65625), ('def', 14.0625), (' def', 13.09375), (' #', 12.5546875)], [('1', 19.78125), ('3', 16.890625), ('2', 16.890625), ('4', 16.265625), ('5', 16.03125)], [(' pd', 18.328125), ('pd', 18.0), ('PD', 16.265625), (' PD', 14.875), (' multip', 9.4921875)], [('interopRequireDefault', 8.4140625), ('$^', 8.03125), ('writeField', 7.58984375), ('iat', 7.34765625), ('ients', 7.20703125)], [('read', 23.96875), ('DataFrame', 17.75), (' read', 16.375), ('reads', 13.984375), (' reads', 13.9140625)]]\n",
      "Layer 22 predictions: [[(' препратки', 128.875), ('}$~\\\\', 119.625), ('不成', 119.1875), ('имна', 119.0), ('�乐', 117.0625)], [('建立起', 10.0625), (' {', 9.34375), ('UTO', 9.328125), ('io', 8.84375), ('RQ', 8.796875)], [(' as', 9.5546875), ('лкото', 8.78125), ('XF', 8.0703125), ('wk', 7.8359375), ('Indexed', 7.82421875)], [(' pd', 8.5625), ('pn', 7.953125), ('sembles', 7.56640625), ('PN', 7.44140625), (' pandas', 7.00390625)], [('ANA', 11.3359375), ('KW', 9.6953125), ('̶', 9.6953125), ('\\n', 9.6796875), ('ENCE', 9.671875)], [('import', 20.109375), ('from', 19.84375), ('\\n', 13.9453125), (' from', 13.265625), (' import', 10.7265625)], [('#', 15.15625), ('from', 14.7421875), ('def', 14.2265625), ('#:', 13.6328125), (' def', 12.6484375)], [('1', 23.046875), ('3', 20.25), ('2', 19.9375), ('4', 19.640625), ('5', 19.015625)], [(' pd', 19.046875), ('pd', 18.890625), ('PD', 17.59375), (' PD', 15.8203125), ('ASA', 10.703125)], [('$^', 8.2265625), ('writeField', 7.9453125), ('interopRequireDefault', 7.83203125), ('iat', 7.2265625), ('******/', 7.1171875)], [('read', 24.25), ('DataFrame', 17.96875), (' read', 15.9921875), ('READ', 14.1015625), ('reads', 13.8984375)]]\n",
      "Layer 23 predictions: [[(' препратки', 125.4375), ('}$~\\\\', 116.25), ('不成', 115.5), ('�乐', 114.4375), ('имна', 113.5)], [('建立起', 10.9140625), ('UTO', 9.6015625), (' CWE', 9.4765625), ('RQ', 9.390625), ('时时', 9.203125)], [(' as', 9.6328125), ('лкото', 8.421875), ('XF', 7.97265625), (' как', 7.87890625), (' като', 7.57421875)], [(' pd', 9.109375), ('pn', 7.91796875), ('pd', 7.62890625), ('PN', 7.56640625), ('PD', 7.375)], [('\\n', 10.140625), ('вари', 9.8125), ('ANA', 9.59375), ('ENCE', 9.5), (' &&\\\\', 9.1171875)], [('from', 20.328125), ('import', 19.875), ('\\n', 14.078125), (' from', 13.28125), (' FROM', 10.6640625)], [('#', 14.703125), ('from', 14.6328125), ('#:', 13.84375), ('def', 13.3828125), ('设法', 11.84375)], [('1', 21.609375), ('3', 18.703125), ('2', 18.5625), ('4', 18.0625), ('5', 17.4375)], [(' pd', 20.03125), ('pd', 19.84375), ('PD', 18.453125), (' PD', 16.53125), ('ASA', 11.8671875)], [('interopRequireDefault', 9.046875), ('$^', 8.75), ('writeField', 8.7265625), ('subNav', 8.25), ('memname', 7.73046875)], [('read', 24.40625), ('DataFrame', 17.890625), (' read', 15.96875), ('READ', 14.1484375), ('reads', 13.8046875)]]\n",
      "Layer 24 predictions: [[(' препратки', 120.875), ('}$~\\\\', 112.6875), ('不成', 110.625), ('�乐', 109.375), (' carta', 108.625)], [(' CWE', 10.96875), ('建立起', 10.78125), ('ODO', 10.234375), ('UTO', 9.9140625), (' Comen', 9.5546875)], [(' as', 10.140625), ('лкото', 8.1953125), (' как', 8.1953125), ('ociety', 8.0), (' като', 7.71484375)], [(' pd', 9.5078125), ('isson', 8.4140625), ('pd', 8.2890625), ('PD', 8.1875), ('pn', 8.1484375)], [('\\n', 10.3984375), (' &&\\\\', 9.8203125), ('вари', 9.6796875), ('CAP', 9.4296875), ('\\r', 9.21875)], [('from', 25.5625), ('import', 24.015625), ('\\n', 19.265625), ('#:', 13.46875), (' from', 13.1796875)], [('from', 18.203125), ('#:', 17.9375), ('#', 17.59375), ('def', 16.65625), ('#.', 15.5859375)], [('1', 24.421875), ('2', 20.984375), ('3', 20.96875), ('4', 20.265625), ('0', 19.765625)], [('pd', 22.015625), (' pd', 21.0), ('PD', 19.046875), (' PD', 16.3125), ('ASA', 12.3125)], [('$^', 8.921875), (\"''_\", 8.5), ('__.', 8.2890625), ('iat', 8.0), ('ATED', 7.984375)], [('read', 24.6875), ('DataFrame', 17.953125), (' read', 16.359375), ('READ', 14.140625), ('reads', 13.9375)]]\n",
      "Layer 25 predictions: [[(' препратки', 118.875), ('}$~\\\\', 112.0), ('不成', 108.3125), ('�乐', 108.1875), (' carta', 106.125)], [(' {', 20.3125), (' CWE', 16.046875), (' FW', 16.015625), (' requests', 15.296875), ('\\t{', 14.9921875)], [(' as', 25.3125), ('as', 16.0625), (' как', 13.921875), (' As', 12.8984375), (' jako', 12.7890625)], [(' pd', 11.7578125), ('Pa', 10.0078125), ('PD', 10.0), ('pd', 9.8671875), ('PN', 9.25)], [('\\r', 18.640625), ('\\n', 16.65625), ('                                                                       ', 10.765625), ('\\x00', 10.5390625), ('CAP', 10.2265625)], [('from', 30.484375), ('\\n', 27.5), ('import', 26.765625), ('#', 17.984375), (' ', 17.8125)], [('from', 20.84375), ('#', 19.734375), ('def', 18.265625), ('#:', 18.1875), ('#.', 16.625)], [('1', 25.578125), ('2', 22.546875), ('3', 21.703125), ('4', 20.796875), ('0', 20.5)], [('pd', 24.765625), (' pd', 23.046875), ('PD', 21.625), (' PD', 17.703125), (' ', 13.59375)], [('.', 12.2421875), ('__.', 8.8359375), ('.__', 8.5859375), (\"''_\", 8.5234375), ('自来', 8.1796875)], [('read', 25.234375), ('DataFrame', 18.109375), (' read', 16.75), ('io', 14.6640625), ('READ', 14.46875)]]\n",
      "Layer 26 predictions: [[(' Hague', 21.1875), ('�', 20.84375), ('肋', 20.609375), ('oul', 19.015625), ('WER', 19.0)], [(' {', 27.46875), (' React', 20.84375), (' requests', 20.015625), (' os', 19.890625), (' time', 19.859375)], [(' as', 34.0625), ('\\n', 24.140625), ('as', 21.015625), (' ', 20.625), (' As', 19.390625)], [(' pd', 20.6875), (' ', 18.328125), (' PD', 16.75), (' P', 15.625), (' p', 15.0234375)], [('\\n', 39.3125), (' ', 37.40625), ('\\r', 32.28125), (',', 28.890625), ('  ', 27.375)], [('\\n', 45.25), ('from', 40.875), (' ', 39.21875), ('import', 38.3125), ('#', 30.484375)], [('from', 30.21875), ('#', 30.140625), ('\\n', 28.671875), ('def', 25.671875), ('class', 23.109375)], [('1', 43.5), ('2', 39.78125), ('3', 37.40625), ('0', 36.65625), ('4', 36.03125)], [(' ', 33.625), (' pd', 30.859375), (' (', 27.796875), ('pd', 27.3125), (' [', 24.90625)], [('.', 21.953125), (',', 14.734375), (' ', 14.0078125), ('<｜begin▁of▁sentence｜>', 11.984375), ('<｜end▁of▁sentence｜>', 11.8515625)], [('read', 29.578125), (' read', 21.65625), ('DataFrame', 21.5), ('\\n', 19.4375), ('Read', 18.734375)]]\n",
      "Layer 27 predictions: [[('\\n', 25.375), (' ', 22.09375), (' I', 21.078125), (' The', 20.890625), ('1', 20.78125)], [(' React', 39.53125), (' {', 38.78125), (' requests', 34.59375), (' numpy', 33.40625), (' java', 33.15625)], [(' as', 37.0), ('\\n', 33.375), (' ', 32.875), (',', 31.5), ('_', 30.859375)], [(' pd', 32.15625), (' ', 26.828125), (' p', 26.546875), (' pa', 26.109375), (' pan', 24.328125)], [('\\n', 38.90625), (' ', 37.53125), ('\\r', 36.59375), (',', 35.46875), ('  ', 32.3125)], [('\\n', 60.96875), ('import', 57.1875), ('from', 56.09375), (' ', 54.65625), ('#', 51.25)], [('\\n', 49.9375), ('#', 47.25), ('from', 45.15625), ('def', 43.59375), ('class', 41.71875)], [(' =', 39.84375), ('1', 39.46875), ('_', 38.65625), (' ', 36.9375), ('2', 36.375)], [(' ', 47.15625), (' pd', 46.21875), (' (', 43.34375), (' [', 39.40625), (' {', 38.90625)], [('.', 30.28125), (',', 22.0), ('\\n', 21.359375), (' ', 20.8125), ('<｜end▁of▁sentence｜>', 19.984375)], [('read', 38.84375), ('DataFrame', 32.21875), ('\\n', 31.921875), (' read', 30.9375), (' ', 29.1875)]]\n",
      "\n",
      "MoE Layer 1:\n",
      "Selected experts: [[47, 14, 2, 42, 34, 40], [45, 34, 14, 1, 30, 57], [4, 43, 24, 5, 17, 26], [44, 45, 52, 9, 56, 12], [5, 24, 18, 43, 4, 10], [47, 14, 2, 44, 40, 18], [47, 14, 2, 44, 37, 15], [0, 34, 5, 24, 4, 10], [46, 9, 30, 16, 1, 29], [29, 24, 43, 5, 4, 17], [21, 46, 7, 6, 49, 53]]\n",
      "Expert weights: [[0.0014095306396484375, 0.958984375, 0.0017461776733398438, 0.0020847320556640625, 0.004756927490234375, 0.0009522438049316406], [0.12005615234375, 0.11346435546875, 0.104736328125, 0.06060791015625, 0.0362548828125, 0.0272979736328125], [0.16015625, 0.07855224609375, 0.064208984375, 0.045135498046875, 0.03564453125, 0.031951904296875], [0.030487060546875, 0.048675537109375, 0.02935791015625, 0.03369140625, 0.05999755859375, 0.02862548828125], [0.142333984375, 0.12030029296875, 0.032867431640625, 0.044525146484375, 0.10089111328125, 0.031463623046875], [0.1243896484375, 0.129638671875, 0.05206298828125, 0.0247802734375, 0.0194091796875, 0.019256591796875], [0.1358642578125, 0.11151123046875, 0.044464111328125, 0.020050048828125, 0.018524169921875, 0.01824951171875], [0.0283966064453125, 0.07073974609375, 0.13525390625, 0.04913330078125, 0.182373046875, 0.0248565673828125], [0.0670166015625, 0.089111328125, 0.040557861328125, 0.036590576171875, 0.0311431884765625, 0.0285186767578125], [0.032470703125, 0.08917236328125, 0.08367919921875, 0.09466552734375, 0.07635498046875, 0.0291748046875], [0.0517578125, 0.0330810546875, 0.0369873046875, 0.038909912109375, 0.06402587890625, 0.0321044921875]]\n",
      "Combined output tokens: [[(' препратки', 75.8125), ('�乐', 73.8125), ('idades', 73.6875), ('不成', 73.25), ('扫', 73.1875)], [('坚持', 0.6533203125), ('�起', 0.6494140625), ('жени', 0.6416015625), ('END', 0.62451171875), ('固执', 0.61376953125)], [('8', 1.0703125), ('9', 1.05078125), ('жени', 1.0126953125), ('4', 0.98974609375), ('6', 0.93896484375)], [('吸取', 0.5068359375), ('IMO', 0.478271484375), ('固执', 0.429443359375), ('BA', 0.41357421875), ('始终坚持', 0.407958984375)], [('JT', 0.83251953125), ('ITT', 0.79150390625), ('得意', 0.76806640625), ('GV', 0.76708984375), ('CI', 0.7470703125)], [('uent', 0.397705078125), ('ensional', 0.390380859375), ('inclo', 0.37841796875), ('бат', 0.37255859375), ('мин', 0.3671875)], [('neig', 0.440185546875), ('umni', 0.41162109375), ('PHPExcel', 0.384033203125), ('张家', 0.38330078125), ('ajut', 0.376953125)], [('otis', 0.8017578125), ('pto', 0.76025390625), ('task', 0.74853515625), ('tasks', 0.734375), ('lea', 0.73095703125)], [(' C', 0.404296875), (' c', 0.365234375), ('孜', 0.353515625), ('CKS', 0.3505859375), ('碌', 0.337890625)], [('欣', 0.67041015625), ('drom', 0.6376953125), ('PEC', 0.62841796875), ('小便', 0.62548828125), ('勇', 0.62451171875)], [('PED', 0.265869140625), ('oor', 0.260986328125), ('OMS', 0.260009765625), ('IVA', 0.259033203125), ('特尔', 0.2568359375)]]\n",
      "Expert predictions by position: {7: {0: [('OperationKind', 0.0394287109375), ('ertes', 0.039276123046875), ('ubre', 0.0372314453125), ('plets', 0.036224365234375), ('}$~\\\\', 0.032470703125)], 4: [('ifmmode', 0.272216796875), ('фан', 0.26123046875), ('支持', 0.2490234375), ('fons', 0.2401123046875), ('��', 0.2247314453125)], 5: [('舍', 0.267822265625), ('avian', 0.2568359375), ('visional', 0.2322998046875), (' Bruss', 0.2320556640625), (' пър', 0.2298583984375)], 10: [(' llen', 0.03411865234375), ('溺', 0.032623291015625), ('iali', 0.032318115234375), ('stock', 0.0318603515625), ('ail', 0.031341552734375)], 24: [(' OTHERWISE', 0.5830078125), ('otherwise', 0.55712890625), ('bur', 0.451416015625), ('哉', 0.4365234375), ('power', 0.432373046875)], 34: [('olog', 0.164794921875), ('LAY', 0.164794921875), ('yth', 0.1632080078125), ('oble', 0.1610107421875), ('ё', 0.15673828125)]}, 1: {1: [('u', 0.10272216796875), ('’', 0.1024169921875), ('plex', 0.099365234375), ('4', 0.09722900390625), ('z', 0.0958251953125)], 14: [('geu', 0.09075927734375), ('workbench', 0.08770751953125), ('erir', 0.08734130859375), ('itm', 0.0855712890625), ('pei', 0.0828857421875)], 30: [('��', 0.032257080078125), ('oger', 0.0300140380859375), ('agrid', 0.0291900634765625), ('imode', 0.027984619140625), ('orda', 0.0277557373046875)], 34: [('9', 0.0230255126953125), ('0', 0.021514892578125), ('7', 0.0214385986328125), ('6', 0.020751953125), ('del', 0.0207366943359375)], 45: [('ollers', 0.446044921875), ('片', 0.404052734375), ('财', 0.3955078125), ('otis', 0.383544921875), ('EOL', 0.369384765625)], 57: [('estra', 0.028289794921875), (' dalt', 0.027496337890625), ('alled', 0.027496337890625), ('янов', 0.0265350341796875), ('уна', 0.026397705078125)]}, 8: {1: [('ts', 0.047332763671875), ('t', 0.044403076171875), ('tl', 0.04150390625), ('ments', 0.0377197265625), ('ing', 0.03424072265625)], 9: [('hyde', 0.130859375), ('ACK', 0.10943603515625), ('odb', 0.1090087890625), ('迪丽', 0.1055908203125), ('вър', 0.10540771484375)], 16: [('sics', 0.050323486328125), ('ьон', 0.04913330078125), ('CLE', 0.047088623046875), ('gano', 0.04705810546875), ('自来', 0.045166015625)], 29: [('资', 0.0208892822265625), ('ем', 0.02001953125), ('nit', 0.0199432373046875), ('lum', 0.0195159912109375), (':', 0.0193328857421875)], 30: [('lins', 0.024658203125), ('仅代表作者本人观点', 0.0240325927734375), ('ovna', 0.0235137939453125), ('върх', 0.02337646484375), ('ping', 0.023040771484375)], 46: [(' \"', 0.12646484375), (\" '\", 0.12200927734375), (' z', 0.11572265625), (' S', 0.11444091796875), (' s', 0.11376953125)]}, 0: {2: [('racy', 0.038970947265625), ('gray', 0.034454345703125), ('asi', 0.034210205078125), ('wel', 0.033172607421875), ('mera', 0.03240966796875)], 14: [('onada', 0.12286376953125), ('tang', 0.114501953125), ('subsec', 0.1119384765625), ('sess', 0.10858154296875), (' Mit', 0.1060791015625)], 34: [('pat', 0.1966552734375), ('bea', 0.1878662109375), ('鸭', 0.1866455078125), ('icom', 0.1851806640625), ('vert', 0.18212890625)], 40: [('бол', 0.00392913818359375), ('antar', 0.003261566162109375), ('芙蓉', 0.0032501220703125), ('NET', 0.003231048583984375), ('特尔', 0.00321197509765625)], 42: [('uid', 0.00881195068359375), (' Firm', 0.00830078125), ('zing', 0.008148193359375), ('fielder', 0.008026123046875), ('去皮', 0.007678985595703125)], 47: [('PHPExcel', 0.36669921875), ('neig', 0.34765625), ('Xina', 0.342041015625), ('lustr', 0.34130859375), ('istocr', 0.33203125)]}, 5: {2: [('uid', 0.0035915374755859375), ('ing', 0.0034999847412109375), ('uzzi', 0.0034847259521484375), ('being', 0.0034465789794921875), ('ного', 0.0033855438232421875)], 14: [(' препратки', 75.375), ('�乐', 73.6875), ('idades', 73.5), ('扫', 73.25), ('不成', 73.0625)], 18: [('ep', 0.0092315673828125), ('3', 0.00897216796875), ('et', 0.00870513916015625), ('1', 0.00853729248046875), ('ral', 0.00827789306640625)], 40: [('��', 0.023284912109375), ('��', 0.0204010009765625), ('interopRequireDefault', 0.01947021484375), ('erers', 0.0192718505859375), ('unga', 0.0186767578125)], 44: [(' кал', 0.01042938232421875), ('дио', 0.01035308837890625), ('区和', 0.0103302001953125), ('形象', 0.010284423828125), (' транс', 0.00977325439453125)], 47: [('INET', 0.005176544189453125), ('gis', 0.005001068115234375), (' pendent', 0.004940032958984375), ('esa', 0.004924774169921875), ('othe', 0.004718780517578125)]}, 6: {2: [('asi', 0.026092529296875), ('ZW', 0.0257568359375), ('gray', 0.0256195068359375), ('centerline', 0.025543212890625), (' gray', 0.025238037109375)], 14: [('ingles', 0.197265625), (' Mand', 0.1710205078125), (' _', 0.1661376953125), ('义务', 0.159912109375), ('~,', 0.1556396484375)], 15: [('�乐', 0.009063720703125), ('endregion', 0.00742340087890625), ('ffxiv', 0.006488800048828125), ('如有关于', 0.006473541259765625), ('estres', 0.006076812744140625)], 37: [('9', 0.006317138671875), ('5', 0.0057830810546875), ('6', 0.005695343017578125), ('abel', 0.005664825439453125), ('8', 0.005535125732421875)], 44: [('华声在线', 0.040863037109375), ('кази', 0.03912353515625), ('IFT', 0.038665771484375), ('卵', 0.03857421875), ('说明', 0.03741455078125)], 47: [('NOSCRIPT', 0.32080078125), ('CALLTYPE', 0.314697265625), ('PHPExcel', 0.311767578125), ('inclo', 0.309326171875), ('FUNCPTR', 0.29248046875)]}, 2: {4: [('6', 0.59765625), ('�', 0.58544921875), ('pto', 0.57958984375), ('�', 0.57861328125), ('tv', 0.576171875)], 5: [(' Re', 0.146240234375), (' cas', 0.1396484375), ('侯', 0.1363525390625), ('翡', 0.1353759765625), ('onc', 0.132080078125)], 17: [('APIENTRY', 0.0276641845703125), ('arque', 0.02581787109375), ('ardin', 0.025299072265625), ('piament', 0.024383544921875), (' \\\\`', 0.0236663818359375)], 24: [('нове', 0.47119140625), ('manys', 0.446533203125), ('土耳', 0.435546875), ('drom', 0.43505859375), ('欣', 0.42041015625)], 26: [(' recom', 0.0304107666015625), (' /', 0.029388427734375), ('/', 0.02886962890625), (' ous', 0.0277557373046875), ('-', 0.0261993408203125)], 43: [('HEMA', 0.048370361328125), (' удо', 0.047821044921875), ('boa', 0.047637939453125), ('axes', 0.047149658203125), ('Pointer', 0.045989990234375)]}, 4: {4: [('��', 0.3251953125), ('inces', 0.306396484375), (' biografia', 0.3046875), ('ITT', 0.301025390625), ('支持', 0.299072265625)], 5: [('Tunes', 0.240478515625), (' Face', 0.2225341796875), (' Test', 0.2138671875), ('valueOf', 0.208984375), (' econom', 0.20703125)], 10: [('googleapis', 0.051910400390625), ('readLine', 0.0498046875), ('onesa', 0.047088623046875), ('нето', 0.046905517578125), ('informe', 0.0452880859375)], 18: [('ьон', 0.0338134765625), ('so', 0.032257080078125), ('вните', 0.031585693359375), ('бю', 0.030059814453125), (' Фла', 0.029815673828125)], 24: [('рок', 0.149658203125), ('icut', 0.1463623046875), ('mie', 0.146240234375), ('covery', 0.145751953125), ('担保', 0.1395263671875)], 43: [('estres', 0.10626220703125), ('estamp', 0.10235595703125), ('ifton', 0.09918212890625), ('arettes', 0.097412109375), ('ermark', 0.093017578125)]}, 9: {4: [('pom', 0.6328125), ('istical', 0.5869140625), ('现', 0.5810546875), ('是非', 0.580078125), ('ждат', 0.56201171875)], 5: [('3', 0.093994140625), ('8', 0.09100341796875), ('2', 0.09088134765625), ('5', 0.0899658203125), ('4', 0.08929443359375)], 17: [('imits', 0.03118896484375), (' AS', 0.0311431884765625), ('plets', 0.030181884765625), ('Custom', 0.029052734375), ('ustom', 0.0290069580078125)], 24: [('eler', 0.16162109375), ('нове', 0.16162109375), ('ю', 0.1568603515625), ('瑕', 0.1533203125), ('вори', 0.1524658203125)], 29: [('лски', 0.0633544921875), ('nam', 0.058074951171875), ('густ', 0.0516357421875), ('rau', 0.04974365234375), ('шава', 0.0474853515625)], 43: [('andal', 0.10980224609375), ('estor', 0.09942626953125), ('thems', 0.0933837890625), ('agnet', 0.09283447265625), ('ortex', 0.0927734375)]}, 10: {6: [('pless', 0.03759765625), ('vill', 0.035919189453125), ('дове', 0.035003662109375), ('blockList', 0.033660888671875), ('elev', 0.0328369140625)], 7: [('spaces', 0.0430908203125), ('uega', 0.04052734375), ('ито', 0.039093017578125), ('actly', 0.03765869140625), ('noma', 0.03717041015625)], 21: [('负', 0.06341552734375), ('thr', 0.0628662109375), ('TB', 0.06158447265625), ('хай', 0.060455322265625), ('дни', 0.06005859375)], 46: [('ovent', 0.053741455078125), ('yses', 0.052398681640625), ('нев', 0.0517578125), ('itures', 0.050262451171875), ('palette', 0.048797607421875)], 49: [('rc', 0.1719970703125), ('autoritat', 0.169677734375), ('rita', 0.1673583984375), ('eye', 0.1671142578125), ('erca', 0.1668701171875)], 53: [('gem', 0.040435791015625), ('indi', 0.039764404296875), ('inada', 0.038116455078125), ('速', 0.03741455078125), (' hers', 0.03704833984375)]}, 3: {9: [('利物', 0.261474609375), ('哲', 0.22265625), ('кани', 0.2197265625), ('тени', 0.2156982421875), ('钝', 0.2142333984375)], 12: [('orr', 0.04180908203125), ('—', 0.041351318359375), (' cul', 0.03594970703125), (':', 0.03546142578125), (' ret', 0.035064697265625)], 44: [(' транс', 0.0161895751953125), ('дио', 0.015625), ('дие', 0.015289306640625), ('trans', 0.0148773193359375), ('nqu', 0.01470947265625)], 45: [('IMO', 0.2181396484375), ('miral', 0.2120361328125), (' труда', 0.2061767578125), ('onut', 0.2052001953125), ('anca', 0.202880859375)], 52: [('震', 0.048553466796875), ('耽', 0.04095458984375), ('<\\\\/', 0.038421630859375), ('semb', 0.036468505859375), ('valier', 0.035736083984375)], 56: [('ятно', 0.10400390625), ('尔夫', 0.09674072265625), (' тит', 0.09539794921875), ('rrez', 0.094970703125), (' Llengu', 0.09490966796875)]}}\n",
      "Shared expert predictions: [[('ISAM', 0.490966796875), ('被迫', 0.488037109375), ('INSEE', 0.46630859375), ('一言', 0.462890625), ('乞', 0.455322265625)], [('始终坚持', 0.33154296875), ('固执', 0.310302734375), ('QA', 0.306396484375), ('9', 0.28515625), ('莫名其', 0.28466796875)], [('固执', 0.447509765625), ('始终坚持', 0.431640625), ('�', 0.427734375), ('KI', 0.417236328125), ('JT', 0.411865234375)], [('固执', 0.334228515625), ('QA', 0.308837890625), ('始终坚持', 0.303955078125), ('跻', 0.287353515625), ('ZA', 0.2861328125)], [('固执', 0.358154296875), ('始终坚持', 0.343505859375), ('JT', 0.329833984375), ('OTO', 0.32470703125), ('得意', 0.3095703125)], [('吸', 0.10693359375), ('ifique', 0.106201171875), (' solars', 0.1026611328125), ('alfont', 0.10137939453125), (' Стар', 0.0977783203125)], [('吸', 0.09674072265625), ('isticated', 0.09588623046875), ('inition', 0.093017578125), ('wit', 0.0908203125), (' Стар', 0.08966064453125)], [('ixa', 0.175537109375), ('Aut', 0.1678466796875), ('cline', 0.166015625), ('碌', 0.1658935546875), ('ARA', 0.163818359375)], [('端正', 0.1776123046875), ('晖', 0.1722412109375), ('固执', 0.169921875), ('始终坚持', 0.167236328125), ('CQ', 0.1646728515625)], [(' Къ', 0.2410888671875), ('辜负', 0.240234375), ('oa', 0.2388916015625), ('IDE', 0.2333984375), ('确立', 0.208251953125)], [('特尔', 0.115478515625), ('etter', 0.113525390625), ('ondon', 0.1123046875), ('раст', 0.11199951171875), ('pone', 0.11199951171875)]]\n",
      "\n",
      "MoE Layer 2:\n",
      "Selected experts: [[42, 63, 46, 14, 31, 61], [63, 49, 41, 48, 7, 17], [48, 28, 25, 59, 43, 23], [19, 5, 26, 42, 7, 31], [28, 25, 18, 21, 51, 2], [17, 47, 61, 50, 28, 8], [17, 62, 61, 50, 28, 44], [25, 18, 2, 48, 45, 51], [12, 31, 5, 48, 20, 41], [25, 59, 21, 18, 28, 8], [61, 30, 2, 3, 34, 12]]\n",
      "Expert weights: [[0.68359375, 0.073486328125, 0.00962066650390625, 0.00925445556640625, 0.00844573974609375, 0.006988525390625], [0.04083251953125, 0.024810791015625, 0.1295166015625, 0.39501953125, 0.080078125, 0.0205230712890625], [0.0880126953125, 0.08905029296875, 0.2373046875, 0.05902099609375, 0.0297088623046875, 0.0296478271484375], [0.036468505859375, 0.048675537109375, 0.4609375, 0.032562255859375, 0.029937744140625, 0.0239410400390625], [0.1614990234375, 0.1357421875, 0.11077880859375, 0.03564453125, 0.030517578125, 0.0251007080078125], [0.172607421875, 0.040008544921875, 0.09564208984375, 0.0275726318359375, 0.025848388671875, 0.022735595703125], [0.1346435546875, 0.0254669189453125, 0.1866455078125, 0.0224151611328125, 0.0216522216796875, 0.0205535888671875], [0.2369384765625, 0.09100341796875, 0.039764404296875, 0.0357666015625, 0.03558349609375, 0.035247802734375], [0.061065673828125, 0.250732421875, 0.05908203125, 0.0579833984375, 0.040313720703125, 0.03271484375], [0.1834716796875, 0.0806884765625, 0.0654296875, 0.043365478515625, 0.041046142578125, 0.032012939453125], [0.023040771484375, 0.0248565673828125, 0.02099609375, 0.33935546875, 0.025665283203125, 0.020599365234375]]\n",
      "Combined output tokens: [[(' препратки', 23.65625), ('观点或立场', 22.15625), ('�乐', 21.90625), ('不成', 21.515625), ('}$~\\\\', 21.421875)], [('ейнт', 1.005859375), ('IOS', 1.00390625), ('ENTRY', 0.98193359375), ('entry', 0.962890625), (' barre', 0.943359375)], [('召唤', 0.81201171875), (' entitat', 0.8046875), ('正', 0.78466796875), ('不长', 0.76708984375), ('Front', 0.76171875)], [('oload', 1.80078125), ('uir', 1.7744140625), ('pmd', 1.7646484375), ('ymmet', 1.640625), ('nicament', 1.6162109375)], [(' Calders', 0.701171875), ('ribuci', 0.69140625), (' Але', 0.66064453125), ('issos', 0.65966796875), ('фер', 0.65625)], [('作业', 0.439697265625), ('oiselle', 0.427490234375), ('emens', 0.406494140625), ('�', 0.405517578125), ('�', 0.4052734375)], [('eder', 0.385009765625), ('яването', 0.3671875), ('err', 0.36572265625), (' frivol', 0.35888671875), ('uir', 0.35888671875)], [(' K', 0.8564453125), (' H', 0.8349609375), (' k', 0.82373046875), ('вия', 0.80126953125), (' d', 0.79736328125)], [('ISA', 0.52490234375), ('�', 0.5107421875), ('充', 0.5068359375), ('OMS', 0.492919921875), (' неиз', 0.476806640625)], [('вия', 0.51025390625), ('懿', 0.509765625), ('下手', 0.5087890625), (' ', 0.490966796875), (' P', 0.4853515625)], [('itiu', 1.2119140625), (' sinc', 1.203125), ('вер', 1.1826171875), ('ierge', 1.1318359375), ('fits', 1.1201171875)]]\n",
      "Expert predictions by position: {4: {2: [('IEW', 0.04046630859375), ('EIN', 0.036651611328125), ('aguar', 0.036590576171875), ('ovo', 0.036224365234375), ('pora', 0.03570556640625)], 18: [('beros', 0.2119140625), ('Rout', 0.1783447265625), ('欣', 0.1727294921875), ('Views', 0.1669921875), ('ictures', 0.1630859375)], 21: [('рал', 0.05194091796875), ('readLine', 0.050811767578125), (' Esm', 0.050811767578125), ('erol', 0.05072021484375), ('чава', 0.047210693359375)], 25: [('TestSuite', 0.22265625), ('lip', 0.2069091796875), (' sh', 0.2037353515625), ('клю', 0.2027587890625), (' отделение', 0.2005615234375)], 28: [('rier', 0.01415252685546875), ('ulants', 0.01377105712890625), ('arcel', 0.01345062255859375), ('кли', 0.01342010498046875), ('ched', 0.0130767822265625)], 51: [('ondon', 0.049957275390625), ('odinger', 0.04736328125), ('nims', 0.04669189453125), ('ollary', 0.04510498046875), (' Lloren', 0.045013427734375)]}, 7: {2: [('Estad', 0.06549072265625), ('spoon', 0.06390380859375), ('transitive', 0.06182861328125), ('asco', 0.06158447265625), ('Medium', 0.060791015625)], 18: [('uelo', 0.27783203125), ('#[', 0.26025390625), ('抢', 0.260009765625), ('plicable', 0.259521484375), ('TOOLSET', 0.255126953125)], 25: [('ered', 0.69970703125), (' recomp', 0.68115234375), ('ogr', 0.669921875), ('ety', 0.65478515625), ('�', 0.6318359375)], 45: [('兰特', 0.0460205078125), ('人意', 0.044891357421875), ('alie', 0.0433349609375), ('睐', 0.042510986328125), ('heimer', 0.0418701171875)], 48: [(' C', 0.10772705078125), (' {', 0.103515625), (' R', 0.1029052734375), (' A', 0.1011962890625), (' P', 0.1007080078125)], 51: [('TypeOf', 0.054168701171875), ('áří', 0.04998779296875), ('altitud', 0.049407958984375), ('amely', 0.047027587890625), ('unknownFields', 0.04638671875)]}, 10: {2: [('snap', 0.0219268798828125), ('heads', 0.021514892578125), ('head', 0.021087646484375), ('нове', 0.0209808349609375), ('ouver', 0.0207061767578125)], 3: [('itiu', 1.205078125), (' sinc', 1.18359375), ('uega', 1.1240234375), ('дос', 1.1171875), ('вер', 1.1064453125)], 12: [('启', 0.11627197265625), ('стви', 0.11065673828125), ('踏', 0.110595703125), ('蒙', 0.1102294921875), (' C', 0.10894775390625)], 30: [('ndies', 0.029541015625), ('华声', 0.0254974365234375), ('прия', 0.024658203125), ('inical', 0.0239410400390625), ('bology', 0.023895263671875)], 34: [('onats', 0.033172607421875), ('wsdl', 0.03228759765625), ('odings', 0.032012939453125), ('тури', 0.031280517578125), ('ocats', 0.0296630859375)], 61: [('лей', 0.1971435546875), (' пролет', 0.189208984375), ('�', 0.176025390625), ('ister', 0.1734619140625), ('3', 0.1683349609375)]}, 3: {5: [('VirtualHost', 0.07220458984375), ('refn', 0.065185546875), ('pector', 0.06390380859375), ('lega', 0.063720703125), ('meres', 0.0633544921875)], 7: [('ubble', 0.04315185546875), ('errar', 0.042022705078125), ('warz', 0.0419921875), ('член', 0.038787841796875), ('тег', 0.038787841796875)], 19: [('restant', 0.059051513671875), ('ethoven', 0.058074951171875), ('heric', 0.056884765625), ('ATIC', 0.056854248046875), (' \\\\}.', 0.0565185546875)], 26: [('oload', 1.7919921875), ('pmd', 1.75), ('ymmet', 1.73828125), ('uir', 1.7373046875), ('sembly', 1.673828125)], 31: [('escut', 0.006404876708984375), ('HDA', 0.00577545166015625), ('HandleTypeDef', 0.005489349365234375), ('станбул', 0.0053863525390625), ('гане', 0.00533294677734375)], 42: [('igens', 0.07598876953125), ('回归', 0.067138671875), ('rial', 0.06390380859375), ('��', 0.062164306640625), ('бата', 0.060791015625)]}, 8: {5: [('ess', 0.080810546875), ('stan', 0.07366943359375), ('cess', 0.0736083984375), ('les', 0.06927490234375), ('ric', 0.06903076171875)], 12: [('->__', 0.030364990234375), ('aroo', 0.03033447265625), ('fn', 0.0279388427734375), (' cont', 0.0276336669921875), ('esar', 0.0272674560546875)], 20: [('Strunz', 0.11114501953125), ('estany', 0.10888671875), ('Eslov', 0.1087646484375), ('шава', 0.1072998046875), (' Гър', 0.10394287109375)], 31: [('яна', 0.0377197265625), (' Мер', 0.037689208984375), ('onet', 0.03704833984375), ('KN', 0.035491943359375), ('�', 0.033721923828125)], 41: [('мират', 0.0380859375), ('utenant', 0.03607177734375), ('inada', 0.0355224609375), (' Territory', 0.035125732421875), ('chini', 0.034637451171875)], 48: [(' Купа', 0.08270263671875), ('IOD', 0.08203125), ('ON', 0.0794677734375), ('SES', 0.078857421875), ('тири', 0.07696533203125)]}, 1: {7: [('ayer', 0.13232421875), ('ients', 0.1229248046875), ('ayers', 0.117431640625), ('ies', 0.1151123046875), ('obr', 0.113525390625)], 17: [('яна', 0.31640625), ('illard', 0.28173828125), ('YPE', 0.28125), ('型', 0.279296875), ('�', 0.279052734375)], 41: [('壳', 0.2841796875), (' Prospect', 0.26123046875), ('embre', 0.256103515625), ('agin', 0.24658203125), ('ville', 0.2352294921875)], 48: [('ейнт', 0.80712890625), ('oba', 0.7568359375), ('IOS', 0.7421875), ('ENTRY', 0.7177734375), (' CWE', 0.70751953125)], 49: [('lev', 0.0445556640625), (' park', 0.041229248046875), ('heres', 0.040496826171875), ('alada', 0.03924560546875), ('extra', 0.039031982421875)], 63: [('oes', 0.061065673828125), (' restar', 0.052978515625), (' Bla', 0.05255126953125), ('pex', 0.0498046875), ('个人', 0.04925537109375)]}, 5: {8: [('темати', 0.0316162109375), ('ezna', 0.029541015625), ('考', 0.0287322998046875), (' internes', 0.028167724609375), ('Vis', 0.027984619140625)], 17: [('FUNCPTR', 0.38427734375), ('版权或其它', 0.37451171875), ('CALLTYPE', 0.35791015625), ('DOCKED', 0.355224609375), ('NOSCRIPT', 0.351806640625)], 28: [('paramtype', 0.26025390625), (' Але', 0.2469482421875), ('aleph', 0.244140625), ('ейнт', 0.234619140625), ('paramname', 0.232666015625)], 47: [('ayne', 0.049163818359375), ('hemer', 0.044342041015625), ('LEMENT', 0.04388427734375), ('ARGET', 0.0438232421875), ('chiev', 0.043182373046875)], 50: [('�', 0.0199432373046875), ('ed', 0.0198974609375), ('ltim', 0.019683837890625), ('oad', 0.019378662109375), ('ing', 0.0193634033203125)], 61: [('ript', 0.08489990234375), ('涵', 0.0809326171875), ('办公', 0.0809326171875), ('角', 0.07757568359375), ('永不', 0.07659912109375)]}, 9: {8: [('ЕФА', 0.020751953125), ('isov', 0.0178680419921875), ('itza', 0.0177001953125), ('一个人', 0.01751708984375), ('odat', 0.0170745849609375)], 18: [('alesa', 0.51611328125), ('interop', 0.4619140625), ('rasal', 0.4609375), ('ENI', 0.4541015625), ('endres', 0.435302734375)], 21: [('oulos', 0.10040283203125), ('ISH', 0.09906005859375), ('ложени', 0.0938720703125), ('vag', 0.09381103515625), ('*}[', 0.0838623046875)], 25: [(' entitat', 0.69677734375), ('fy', 0.658203125), ('�', 0.6552734375), ('ogr', 0.65478515625), ('ly', 0.6416015625)], 28: [('啡', 0.181396484375), ('thren', 0.16455078125), ('ivistic', 0.1641845703125), ('葩', 0.1591796875), ('HIN', 0.158447265625)], 59: [('indeed', 0.1558837890625), ('uja', 0.155029296875), ('国家', 0.154052734375), ('措施', 0.1495361328125), (' ', 0.1490478515625)]}, 0: {14: [('apparmor', 0.01227569580078125), ('IEEEeqnarray', 0.011474609375), ('hdots', 0.01129150390625), ('утбо', 0.01120758056640625), ('hearts', 0.0108642578125)], 31: [('宜', 0.40966796875), ('\">\"', 0.3671875), ('RGBA', 0.35595703125), ('opus', 0.35400390625), ('atre', 0.34814453125)], 42: [(' препратки', 21.515625), ('�乐', 20.328125), ('观点或立场', 20.078125), ('ura', 19.796875), ('udi', 19.765625)], 46: [('explot', 0.0330810546875), ('IEEEeqnarray', 0.032379150390625), ('��', 0.0300445556640625), ('имна', 0.0299530029296875), ('HECK', 0.0295562744140625)], 61: [('refn', 0.0227813720703125), ('estat', 0.0217437744140625), ('pida', 0.0212249755859375), ('璀', 0.0211181640625), ('velt', 0.0210418701171875)], 63: [('batim', 0.94091796875), ('翼翼', 0.91845703125), ('али', 0.89599609375), ('ndar', 0.8681640625), ('INSEE', 0.8583984375)]}, 6: {17: [('by', 0.02294921875), ('cle', 0.021636962890625), ('ith', 0.0211639404296875), ('uni', 0.0211029052734375), (' Unit', 0.0204620361328125)], 28: [('aments', 0.0208282470703125), ('ched', 0.0200042724609375), ('iterate', 0.0194549560546875), (' $({\\\\', 0.0192413330078125), ('кти', 0.0191650390625)], 44: [('吸', 0.0109100341796875), (' mili', 0.0106048583984375), (' sample', 0.01043701171875), ('witch', 0.01029205322265625), ('mil', 0.01021575927734375)], 50: [('tained', 0.0247650146484375), ('empre', 0.024383544921875), ('rz', 0.0216827392578125), ('oad', 0.021453857421875), ('ific', 0.0211181640625)], 61: [('ster', 0.008026123046875), ('ografies', 0.0075225830078125), ('�', 0.007488250732421875), ('ymer', 0.0065765380859375), ('istor', 0.00650787353515625)], 62: [('eler', 0.014892578125), ('Finder', 0.014312744140625), ('блю', 0.0141143798828125), ('фен', 0.0140380859375), ('1', 0.01358795166015625)]}, 2: {23: [('AIPS', 0.07122802734375), ('rayed', 0.0699462890625), ('scsi', 0.0662841796875), ('ceq', 0.061981201171875), ('eqz', 0.06103515625)], 25: [('ed', 0.4072265625), ('awn', 0.347412109375), ('жда', 0.340576171875), (' RT', 0.33349609375), (' P', 0.3271484375)], 28: [('�乐', 0.054412841796875), ('anomenada', 0.05145263671875), ('->__', 0.05078125), (' vale', 0.048614501953125), (' simplement', 0.0484619140625)], 43: [('arme', 0.05126953125), ('jov', 0.047210693359375), ('ipi', 0.047149658203125), (' зва', 0.0445556640625), ('enko', 0.04437255859375)], 48: [('aign', 0.1805419921875), ('IEEEeqnarray', 0.152099609375), ('埠', 0.1507568359375), ('евру', 0.1441650390625), ('elius', 0.1378173828125)], 59: [('axter', 0.10711669921875), ('thood', 0.10406494140625), ('喜', 0.0911865234375), (' +', 0.08770751953125), ('+', 0.08758544921875)]}}\n",
      "Shared expert predictions: [[('INSEE', 2.21875), ('мира', 2.134765625), ('翼翼', 2.134765625), ('ndar', 2.134765625), (' Mediterrani', 2.087890625)], [('5', 0.265625), ('7', 0.256103515625), ('6', 0.2490234375), ('1', 0.24267578125), ('8', 0.237060546875)], [('挑剔', 0.279296875), ('对自己', 0.275390625), ('ERIC', 0.273193359375), ('DAQ', 0.271728515625), ('固执', 0.269775390625)], [('戴上', 0.190673828125), ('pei', 0.1839599609375), ('cj', 0.1807861328125), ('旦', 0.179931640625), ('NE', 0.1793212890625)], [('wo', 0.2392578125), ('err', 0.2183837890625), ('revoc', 0.2164306640625), ('�', 0.20751953125), ('哨', 0.2066650390625)], [('盛', 0.1363525390625), ('__', 0.1329345703125), ('issions', 0.129638671875), ('芯', 0.127197265625), ('he', 0.12646484375)], [('iguez', 0.1434326171875), ('empra', 0.130615234375), ('стига', 0.1275634765625), (' tanmateix', 0.12457275390625), ('achim', 0.1239013671875)], [('lj', 0.2685546875), ('wo', 0.266357421875), ('ADS', 0.259765625), ('滔', 0.256591796875), ('OTA', 0.254150390625)], [('得意', 0.200927734375), ('wil', 0.1820068359375), ('pac', 0.1800537109375), ('bro', 0.17431640625), ('gu', 0.1741943359375)], [('延', 0.198974609375), ('ADO', 0.1873779296875), ('AY', 0.182861328125), ('endem', 0.181396484375), (' (__', 0.175048828125)], [('持', 0.20751953125), ('~', 0.18212890625), ('�', 0.179931640625), ('[', 0.169189453125), ('Dat', 0.165771484375)]]\n",
      "\n",
      "MoE Layer 3:\n",
      "Selected experts: [[22, 62, 41, 46, 20, 31], [16, 58, 56, 43, 54, 31], [16, 53, 48, 44, 4, 54], [44, 37, 39, 55, 52, 60], [59, 16, 48, 49, 4, 12], [35, 31, 62, 25, 56, 22], [56, 31, 62, 25, 35, 43], [53, 33, 58, 1, 16, 54], [52, 55, 60, 20, 13, 42], [16, 59, 4, 49, 44, 33], [39, 51, 49, 18, 48, 33]]\n",
      "Expert weights: [[0.067138671875, 0.6201171875, 0.0489501953125, 0.0186767578125, 0.01027679443359375, 0.008941650390625], [0.0860595703125, 0.11138916015625, 0.07513427734375, 0.057342529296875, 0.054290771484375, 0.0478515625], [0.17041015625, 0.1279296875, 0.10174560546875, 0.048553466796875, 0.04168701171875, 0.0389404296875], [0.216552734375, 0.078125, 0.054473876953125, 0.033599853515625, 0.033447265625, 0.03143310546875], [0.366455078125, 0.05743408203125, 0.053070068359375, 0.035736083984375, 0.034332275390625, 0.0311737060546875], [0.26904296875, 0.13427734375, 0.101318359375, 0.046478271484375, 0.055511474609375, 0.03619384765625], [0.299072265625, 0.1463623046875, 0.0546875, 0.02783203125, 0.0250701904296875, 0.0222625732421875], [0.103271484375, 0.10052490234375, 0.05810546875, 0.054412841796875, 0.04205322265625, 0.040008544921875], [0.046142578125, 0.2666015625, 0.0703125, 0.0304412841796875, 0.0288238525390625, 0.026092529296875], [0.1702880859375, 0.152099609375, 0.052459716796875, 0.047698974609375, 0.04547119140625, 0.0335693359375], [0.061431884765625, 0.054534912109375, 0.09625244140625, 0.07769775390625, 0.11212158203125, 0.046600341796875]]\n",
      "Combined output tokens: [[('batim', 16.40625), (' indebted', 16.203125), ('ndar', 15.828125), ('имна', 15.5078125), ('али', 15.296875)], [('blia', 0.440185546875), ('rize', 0.418212890625), ('��', 0.40771484375), ('帆', 0.397216796875), ('SOs', 0.390380859375)], [('ейнт', 0.75830078125), ('pector', 0.75341796875), ('стран', 0.7109375), ('uco', 0.69580078125), ('ascut', 0.69287109375)], [('inations', 0.78369140625), ('inars', 0.7509765625), ('inition', 0.6953125), ('лага', 0.66162109375), ('inel', 0.64697265625)], [('OperationKind', 1.93359375), ('incipal', 1.8896484375), ('satz', 1.8603515625), ('rmk', 1.7646484375), ('unte', 1.6474609375)], [('atine', 0.88720703125), ('迅', 0.87158203125), ('psum', 0.87109375), ('天生', 0.85986328125), ('рил', 0.8525390625)], [('riel', 1.1650390625), ('нин', 1.150390625), ('nex', 1.1201171875), ('意', 1.0966796875), ('manda', 1.017578125)], [('凯迪', 0.63037109375), (' харак', 0.60498046875), (' dn', 0.53466796875), ('迅', 0.5009765625), ('PAL', 0.495849609375)], [(' o', 1.015625), (' ', 0.9140625), (' v', 0.87890625), (' d', 0.8544921875), (' n', 0.83984375)], [('��', 0.7431640625), (' Него', 0.7197265625), ('HCI', 0.6796875), ('�', 0.6767578125), ('INET', 0.66845703125)], [('posa', 0.448974609375), ('bolds', 0.375732421875), ('bow', 0.375), ('inel', 0.3681640625), ('facet', 0.363525390625)]]\n",
      "Expert predictions by position: {7: {1: [('ngels', 0.09307861328125), ('tings', 0.0872802734375), ('ggreg', 0.08477783203125), ('��', 0.08245849609375), ('roqu', 0.0787353515625)], 16: [('ФК', 0.10595703125), ('endor', 0.09930419921875), ('enda', 0.09661865234375), ('към', 0.09442138671875), ('зов', 0.09375)], 33: [('agona', 0.086181640625), ('agog', 0.086181640625), ('�', 0.0841064453125), ('iformes', 0.08282470703125), ('guerra', 0.0826416015625)], 53: [('zon', 0.26171875), ('��', 0.24951171875), ('\">:', 0.22021484375), (' наука', 0.2056884765625), ('dig', 0.204833984375)], 54: [('2', 0.09771728515625), ('3', 0.0960693359375), ('1', 0.09429931640625), ('4', 0.0863037109375), ('0', 0.08319091796875)], 58: [('сички', 0.1866455078125), ('lob', 0.16455078125), ('Interest', 0.1558837890625), (' field', 0.15576171875), ('стано', 0.14990234375)]}, 2: {4: [('anship', 0.05596923828125), ('Strunz', 0.05426025390625), ('uera', 0.053192138671875), ('jgl', 0.052459716796875), (' googleapi', 0.0516357421875)], 16: [('arque', 0.30517578125), ('нга', 0.302490234375), ('lica', 0.299072265625), ('пен', 0.29443359375), ('�', 0.28662109375)], 44: [('igne', 0.091552734375), ('падна', 0.08770751953125), ('律', 0.0841064453125), ('大有', 0.08331298828125), (' кан', 0.0819091796875)], 48: [('опа', 0.10528564453125), ('enyes', 0.10491943359375), ('�乐', 0.1044921875), ('劣', 0.104248046875), ('фур', 0.10089111328125)], 53: [('� ', 0.2216796875), ('стран', 0.2208251953125), ('зани', 0.220703125), ('涯', 0.2166748046875), ('afil', 0.21435546875)], 54: [('essin', 0.0888671875), ('новите', 0.08636474609375), ('ensi', 0.08441162109375), ('имна', 0.08367919921875), ('XMLSchema', 0.0823974609375)]}, 4: {4: [('реща', 0.04705810546875), ('GLE', 0.041900634765625), ('agut', 0.041595458984375), ('годи', 0.041351318359375), ('skins', 0.040313720703125)], 12: [('otten', 0.04583740234375), (' Operation', 0.044586181640625), ('essin', 0.040985107421875), (' uncon', 0.04095458984375), ('�', 0.04022216796875)], 16: [('utada', 0.06268310546875), ('--+--------', 0.06207275390625), ('rome', 0.058380126953125), ('ktop', 0.057830810546875), ('mbia', 0.057647705078125)], 48: [('沐浴', 0.1904296875), ('omorf', 0.185302734375), ('\\\\^', 0.1832275390625), ('къл', 0.1807861328125), ('icem', 0.1751708984375)], 49: [('ILON', 0.1461181640625), ('HeadingColor', 0.1376953125), (' Тек', 0.1259765625), ('ე', 0.1256103515625), ('erenced', 0.12152099609375)], 59: [('satz', 1.875), ('incipal', 1.75390625), ('OperationKind', 1.7314453125), ('rmk', 1.5966796875), ('tils', 1.5078125)]}, 9: {4: [('iterr', 0.057464599609375), ('зин', 0.0552978515625), ('APIENTRY', 0.053558349609375), ('毂', 0.05328369140625), ('Apis', 0.05242919921875)], 16: [('NOSCRIPT', 0.49267578125), ('ivil', 0.371337890625), ('LAIN', 0.3642578125), ('itect', 0.357666015625), ('uco', 0.356201171875)], 33: [('arca', 0.058380126953125), ('ФК', 0.057525634765625), (' Dock', 0.052947998046875), ('arque', 0.052703857421875), (' l', 0.052154541015625)], 44: [('etheless', 0.0909423828125), ('abaj', 0.0894775390625), ('氏', 0.0875244140625), ('evt', 0.082275390625), (' сред', 0.0789794921875)], 49: [(' £', 0.059051513671875), ('AGO', 0.0548095703125), ('onos', 0.05377197265625), ('�', 0.053375244140625), ('tesi', 0.053253173828125)], 59: [('мични', 0.4443359375), ('rize', 0.43701171875), ('专项斗争', 0.4345703125), ('shw', 0.417724609375), ('giques', 0.41552734375)]}, 8: {13: [('isual', 0.0321044921875), ('uedes', 0.03173828125), ('oys', 0.0307159423828125), ('lok', 0.03045654296875), ('udio', 0.028900146484375)], 20: [('0', 0.01050567626953125), ('9', 0.0091400146484375), ('7', 0.009002685546875), ('2', 0.0087432861328125), ('4', 0.008544921875)], 42: [('节', 0.02496337890625), (' пар', 0.02264404296875), ('angeli', 0.02252197265625), ('活着', 0.0212860107421875), ('fico', 0.0212249755859375)], 52: [('偷', 0.054412841796875), (' Me', 0.04876708984375), (' spaces', 0.04736328125), ('нена', 0.046661376953125), ('pers', 0.046630859375)], 55: [('ръ', 0.083984375), ('гане', 0.07830810546875), ('onymous', 0.07421875), ('�', 0.07354736328125), ('ium', 0.07257080078125)], 60: [('jasper', 0.1640625), ('ocup', 0.1629638671875), ('phol', 0.1407470703125), ('closures', 0.140380859375), ('aried', 0.1329345703125)]}, 1: {16: [('ionar', 0.150634765625), ('Msk', 0.1220703125), ('cionari', 0.11859130859375), ('раел', 0.1185302734375), ('iones', 0.11663818359375)], 31: [('��', 0.07708740234375), ('预', 0.07147216796875), ('adera', 0.06829833984375), ('glas', 0.06768798828125), (' несъ', 0.0648193359375)], 43: [('landa', 0.032073974609375), ('riever', 0.0307769775390625), ('fmf', 0.029541015625), ('quita', 0.0284881591796875), ('igure', 0.028350830078125)], 54: [('sman', 0.060821533203125), ('ondo', 0.058837890625), ('gus', 0.054229736328125), ('hess', 0.05401611328125), (' g', 0.0533447265625)], 56: [('шени', 0.2088623046875), ('uche', 0.1932373046875), ('луб', 0.190185546875), ('riel', 0.1890869140625), ('ucher', 0.18359375)], 58: [('pless', 0.08197021484375), ('стки', 0.06927490234375), ('orov', 0.0677490234375), ('uet', 0.065673828125), ('ogn', 0.063720703125)]}, 10: {18: [('�', 0.10308837890625), ('axy', 0.09381103515625), (' semblants', 0.09185791015625), ('消', 0.08953857421875), (' Schwennicke', 0.08941650390625)], 33: [('->__', 0.212890625), ('� ', 0.20263671875), (' suec', 0.1922607421875), ('бар', 0.192138671875), ('рак', 0.1815185546875)], 39: [('фин', 0.0904541015625), ('май', 0.0859375), ('幸', 0.0770263671875), ('sections', 0.0751953125), ('ODO', 0.0740966796875)], 48: [('isca', 0.2127685546875), (' longest', 0.1689453125), (' point', 0.14111328125), ('дан', 0.1407470703125), ('inel', 0.14013671875)], 49: [(' vides', 0.06268310546875), ('umbent', 0.0606689453125), ('Mile', 0.056304931640625), ('ascript', 0.055694580078125), ('ylus', 0.0555419921875)], 51: [('2', 0.06964111328125), ('1', 0.06170654296875), ('Rights', 0.061187744140625), ('漂', 0.059417724609375), ('vol', 0.05828857421875)]}, 0: {20: [('版', 0.044403076171875), ('aq', 0.04156494140625), ('句', 0.0413818359375), ('幂', 0.040863037109375), ('ethyl', 0.04058837890625)], 22: [('resar', 0.06640625), ('тка', 0.06231689453125), ('asena', 0.061004638671875), ('FTA', 0.060211181640625), ('еб', 0.06005859375)], 31: [('alion', 0.2203369140625), ('异', 0.2142333984375), ('dorff', 0.209716796875), (' Grave', 0.2032470703125), ('tero', 0.199951171875)], 41: [('�乐', 0.64453125), ('DLINE', 0.61279296875), ('herself', 0.6103515625), ('ocal', 0.60546875), (' saddle', 0.59130859375)], 46: [('0', 0.042510986328125), ('7', 0.04241943359375), ('9', 0.042327880859375), ('6', 0.040557861328125), ('8', 0.0396728515625)], 62: [('ServiceClient', 0.0677490234375), (' подкре', 0.0611572265625), (' изва', 0.060546875), (' единстве', 0.0576171875), ('сев', 0.056243896484375)]}, 5: {22: [('不成', 0.74658203125), ('诈', 0.64453125), ('6', 0.64111328125), (':.', 0.62890625), ('�乐', 0.62548828125)], 25: [('不放', 0.07659912109375), ('oting', 0.076171875), ('toos', 0.0755615234375), ('arga', 0.07073974609375), ('管理中心', 0.07061767578125)], 31: [('лика', 0.29833984375), ('cha', 0.2587890625), (' public', 0.252685546875), ('lut', 0.248779296875), (' s', 0.2457275390625)], 35: [('psum', 0.65869140625), ('apter', 0.6259765625), ('ovia', 0.62060546875), ('jspx', 0.61962890625), ('otism', 0.61962890625)], 56: [('nex', 1.0556640625), ('riel', 0.9765625), (' activ', 0.96044921875), ('意', 0.95556640625), ('撒', 0.921875)], 62: [('batim', 15.4453125), (' indebted', 15.25), ('ndar', 14.7421875), ('али', 14.6328125), ('筋', 14.5859375)]}, 6: {25: [('�', 0.038299560546875), ('管理中心', 0.036376953125), ('bo', 0.036285400390625), ('лож', 0.0355224609375), ('ordes', 0.03466796875)], 31: [('raine', 0.01129913330078125), ('enga', 0.0107879638671875), ('keyboard', 0.0107574462890625), ('ą', 0.010650634765625), ('esa', 0.01058197021484375)], 35: [('族自治', 0.056976318359375), ('refore', 0.05230712890625), ('spin', 0.051483154296875), ('ilia', 0.0482177734375), ('pex', 0.04736328125)], 43: [('ses', 0.06842041015625), ('cons', 0.06781005859375), ('фин', 0.0662841796875), ('atus', 0.06573486328125), ('�', 0.0638427734375)], 56: [('lebre', 0.2086181640625), ('lava', 0.1820068359375), ('avorite', 0.173828125), (' Габрово', 0.168212890625), (' Петер', 0.162109375)], 62: [('стоя', 0.12646484375), ('这些问题', 0.11993408203125), ('iax', 0.11871337890625), ('фел', 0.11871337890625), ('osph', 0.1180419921875)]}, 3: {37: [('════════', 0.15869140625), ('malink', 0.1436767578125), ('adays', 0.1285400390625), ('atious', 0.1236572265625), ('��', 0.11883544921875)], 39: [('eldorf', 0.0911865234375), ('tics', 0.08966064453125), ('опа', 0.0894775390625), ('rtl', 0.08795166015625), ('�乐', 0.08770751953125)], 44: [('inations', 0.52685546875), ('ollars', 0.486572265625), ('inition', 0.468994140625), ('alysis', 0.441650390625), ('ume', 0.4365234375)], 52: [('engua', 0.0501708984375), ('style', 0.050018310546875), ('STYLE', 0.049896240234375), ('aer', 0.047821044921875), ('тури', 0.045257568359375)], 55: [(' o', 0.85107421875), (' v', 0.7861328125), (' g', 0.77978515625), (' U', 0.7421875), (' e', 0.71923828125)], 60: [('рети', 0.1556396484375), ('傅', 0.150146484375), (' BA', 0.1407470703125), ('fic', 0.138916015625), ('heat', 0.136962890625)]}}\n",
      "Shared expert predictions: [[('ndard', 0.64111328125), ('ufact', 0.5263671875), ('тори', 0.51708984375), ('naires', 0.49951171875), ('idth', 0.498291015625)], [('ч', 0.24951171875), ('пан', 0.248291015625), (' же', 0.2431640625), ('pector', 0.2327880859375), ('arme', 0.2320556640625)], [('PED', 0.357421875), ('спекти', 0.34033203125), ('�乐', 0.3369140625), ('idon', 0.331298828125), ('PRB', 0.325439453125)], [('пания', 0.344482421875), ('реща', 0.33984375), ('秘', 0.336181640625), ('mosphere', 0.32763671875), ('坚持', 0.32666015625)], [(' Humanitat', 0.331298828125), ('добре', 0.317626953125), ('}|^', 0.313232421875), (' Съеди', 0.31298828125), ('ALOG', 0.312744140625)], [('itari', 0.318603515625), ('чер', 0.29443359375), ('坚持', 0.29052734375), ('欢', 0.28369140625), (' ог', 0.2744140625)], [('pless', 0.330078125), ('�', 0.276123046875), ('坚持', 0.273681640625), ('观点或立场', 0.268798828125), ('氏', 0.268310546875)], [('坚持', 0.41162109375), ('ARI', 0.39208984375), ('START', 0.3798828125), ('斯基', 0.37548828125), ('粗糙', 0.365234375)], [(' llarg', 0.326171875), ('outen', 0.3212890625), ('NAM', 0.31591796875), ('adem', 0.29638671875), ('arques', 0.292724609375)], [('日内与', 0.396728515625), ('�', 0.38525390625), ('сел', 0.33642578125), ('пло', 0.3251953125), ('amir', 0.318603515625)], [('posa', 0.359375), ('etext', 0.30712890625), ('roqu', 0.302978515625), ('errar', 0.285400390625), ('CRS', 0.270751953125)]]\n",
      "\n",
      "MoE Layer 4:\n",
      "Selected experts: [[18, 62, 0, 43, 1, 17], [44, 38, 15, 19, 26, 23], [63, 28, 38, 14, 50, 16], [3, 22, 41, 60, 9, 14], [11, 51, 14, 3, 42, 63], [12, 56, 19, 31, 30, 18], [19, 15, 56, 18, 30, 39], [38, 15, 31, 27, 8, 16], [44, 31, 49, 22, 4, 17], [14, 63, 11, 42, 41, 15], [14, 63, 11, 51, 45, 28]]\n",
      "Expert weights: [[0.60302734375, 0.0318603515625, 0.024505615234375, 0.01006317138671875, 0.00968170166015625, 0.00942230224609375], [0.30712890625, 0.1656494140625, 0.0821533203125, 0.068359375, 0.0280914306640625, 0.0268096923828125], [0.103759765625, 0.05438232421875, 0.035125732421875, 0.1405029296875, 0.060821533203125, 0.032440185546875], [0.37109375, 0.04559326171875, 0.034759521484375, 0.0343017578125, 0.0240478515625, 0.0225372314453125], [0.053314208984375, 0.03533935546875, 0.07598876953125, 0.1429443359375, 0.0401611328125, 0.031646728515625], [0.06329345703125, 0.075439453125, 0.07183837890625, 0.057037353515625, 0.054473876953125, 0.0521240234375], [0.26171875, 0.11102294921875, 0.0965576171875, 0.049896240234375, 0.04840087890625, 0.0261993408203125], [0.186279296875, 0.07940673828125, 0.057220458984375, 0.051025390625, 0.029815673828125, 0.02783203125], [0.1588134765625, 0.1536865234375, 0.05511474609375, 0.032196044921875, 0.02423095703125, 0.02349853515625], [0.11322021484375, 0.0709228515625, 0.06549072265625, 0.062347412109375, 0.04364013671875, 0.0285186767578125], [0.10223388671875, 0.08526611328125, 0.063720703125, 0.048004150390625, 0.0467529296875, 0.039215087890625]]\n",
      "Combined output tokens: [[('batim', 7.4921875), ('писи', 7.34765625), (' препратки', 7.04296875), ('�乐', 6.9375), ('{}_', 6.6796875)], [('ixa', 1.2646484375), ('зата', 1.259765625), ('泻', 1.2529296875), ('赋', 1.1982421875), ('eclipse', 1.1953125)], [('�', 0.9189453125), ('ERIC', 0.82177734375), ('TX', 0.72021484375), ('敏锐', 0.71044921875), ('YM', 0.69775390625)], [(' v', 0.9697265625), (' s', 0.9365234375), ('面部', 0.92431640625), ('WHM', 0.88330078125), ('кува', 0.87890625)], [('杰', 0.58203125), (' m', 0.57373046875), ('па', 0.51611328125), ('敏锐', 0.497802734375), ('颓', 0.4951171875)], [('alg', 0.453369140625), ('йно', 0.414794921875), ('窟', 0.407470703125), ('那种', 0.3935546875), ('/__', 0.3818359375)], [('uvi', 0.8291015625), ('ONU', 0.80419921875), ('uko', 0.7529296875), ('слу', 0.7509765625), ('assump', 0.74365234375)], [('\\\\.', 0.58056640625), (' Cicer', 0.5634765625), ('all', 0.546875), ('IOD', 0.54248046875), ('urn', 0.5361328125)], [('esri', 0.74951171875), ('=\"\"/>', 0.6318359375), ('лис', 0.62841796875), ('HI', 0.6162109375), ('enys', 0.60400390625)], [('unz', 0.60546875), ('leg', 0.58056640625), ('rid', 0.55908203125), ('笑', 0.5576171875), ('legs', 0.5498046875)], [('日内与', 0.469482421875), ('esh', 0.456787109375), ('menus', 0.434814453125), (' отде', 0.4326171875), ('мпе', 0.431884765625)]]\n",
      "Expert predictions by position: {0: {0: [('慰', 0.050506591796875), ('INSEE', 0.04974365234375), (' denomination', 0.049591064453125), ('entina', 0.04949951171875), ('valueOf', 0.049285888671875)], 1: [('��', 0.0386962890625), (' препратки', 0.032684326171875), (' Hague', 0.031463623046875), ('ELF', 0.0306396484375), ('baselineskip', 0.0299530029296875)], 17: [('orne', 0.0282135009765625), (' rotor', 0.026123046875), ('Твор', 0.0260162353515625), ('нисти', 0.02593994140625), ('oto', 0.0250091552734375)], 18: [('batim', 7.31640625), ('писи', 6.98828125), (' препратки', 6.73828125), ('urals', 6.3515625), ('�乐', 6.21484375)], 43: [('itures', 0.00618743896484375), ('��', 0.006137847900390625), ('plural', 0.005901336669921875), ('avers', 0.005886077880859375), ('endas', 0.00585174560546875)], 62: [('慰', 0.1148681640625), ('翼翼', 0.1148681640625), ('valueOf', 0.11297607421875), ('芒', 0.11016845703125), ('右手', 0.11004638671875)]}, 3: {3: [('тинг', 0.90087890625), (' amp', 0.86181640625), (' e', 0.8310546875), (' s', 0.80615234375), ('();\">', 0.80029296875)], 9: [('ceq', 0.04522705078125), ('eqno', 0.043060302734375), (' transvers', 0.042999267578125), (' identificat', 0.04193115234375), ('къде', 0.04119873046875)], 14: [('ARB', 0.260986328125), ('ornia', 0.2310791015625), ('Brown', 0.224609375), ('endid', 0.214599609375), ('整体', 0.212890625)], 22: [(' иници', 0.038421630859375), ('es', 0.037811279296875), ('iscop', 0.036468505859375), ('口', 0.03338623046875), ('arms', 0.03314208984375)], 41: [('ratge', 0.05706787109375), (' sufrag', 0.056060791015625), ('статъ', 0.054962158203125), ('ментар', 0.054931640625), (' опълченец', 0.054168701171875)], 60: [('0', 0.051116943359375), (' Her', 0.04931640625), ('9', 0.048858642578125), (' |', 0.0487060546875), ('matic', 0.04852294921875)]}, 4: {3: [('idean', 0.302001953125), ('awks', 0.30078125), ('patcher', 0.2841796875), ('itm', 0.27392578125), ('illac', 0.262451171875)], 11: [('exact', 0.1083984375), ('own', 0.10174560546875), ('tri', 0.1015625), ('blot', 0.1009521484375), ('ish', 0.098388671875)], 14: [('View', 0.2301025390625), ('油', 0.2286376953125), (' View', 0.2147216796875), ('亭', 0.2142333984375), ('uite', 0.2110595703125)], 42: [('подоб', 0.1678466796875), ('ilton', 0.1585693359375), ('лад', 0.151611328125), ('Чи', 0.1484375), ('Ва', 0.14599609375)], 51: [('机', 0.06671142578125), ('ERN', 0.063232421875), ('moz', 0.0631103515625), ('效', 0.062744140625), ('rich', 0.0594482421875)], 63: [('cur', 0.058563232421875), (' cur', 0.05792236328125), ('osh', 0.056915283203125), ('ocells', 0.0556640625), (' reform', 0.0555419921875)]}, 8: {4: [('chet', 0.033050537109375), ('сово', 0.0301513671875), ('сове', 0.029052734375), ('1', 0.0276947021484375), ('hern', 0.0275115966796875)], 17: [('zig', 0.017547607421875), (' препратки', 0.01666259765625), ('oux', 0.0166473388671875), (' magistrat', 0.015716552734375), ('вува', 0.015380859375)], 22: [('->__', 0.09722900390625), ('essages', 0.082763671875), ('uw', 0.078857421875), ('}$~\\\\', 0.07867431640625), ('@-', 0.07843017578125)], 31: [('Compan', 0.1304931640625), ('agos', 0.1251220703125), ('DOCKED', 0.125), ('thorpe', 0.11920166015625), ('hyde', 0.118896484375)], 44: [('ressi', 0.68701171875), ('9', 0.66748046875), ('Gate', 0.66455078125), ('ibly', 0.6162109375), (' Gate', 0.61572265625)], 49: [('edo', 0.11639404296875), ('бол', 0.1051025390625), ('arus', 0.09954833984375), ('KES', 0.09527587890625), ('IRT', 0.09454345703125)]}, 7: {8: [('edly', 0.058929443359375), ('子里', 0.058013916015625), ('ribut', 0.055877685546875), ('clusively', 0.055389404296875), ('收益', 0.054412841796875)], 15: [(' моно', 0.05267333984375), ('ably', 0.0526123046875), ('ableness', 0.051971435546875), ('лес', 0.0517578125), ('asmuch', 0.049346923828125)], 16: [('ousseau', 0.07135009765625), (' rais', 0.05633544921875), ('央', 0.055694580078125), ('茜', 0.05352783203125), ('okit', 0.05322265625)], 27: [('Quota', 0.0948486328125), ('inence', 0.0924072265625), ('кали', 0.08416748046875), ('шу', 0.0826416015625), ('erated', 0.0792236328125)], 31: [('pl', 0.375244140625), ('RES', 0.358642578125), ('ANC', 0.3564453125), ('abilia', 0.356201171875), (' журналисти', 0.347900390625)], 38: [('oun', 0.06787109375), ('lette', 0.06689453125), ('apter', 0.0654296875), ('undos', 0.064453125), (' necessari', 0.0640869140625)]}, 9: {11: [('Unary', 0.09979248046875), ('кли', 0.0987548828125), ('rogative', 0.0977783203125), ('roke', 0.086181640625), ('ardless', 0.0859375)], 14: [('Wish', 0.1856689453125), ('courage', 0.1693115234375), ('тъ', 0.1690673828125), ('垂', 0.1656494140625), ('2', 0.1595458984375)], 15: [('ocada', 0.1429443359375), ('aree', 0.142578125), ('ngia', 0.1387939453125), ('ariat', 0.134765625), ('indicat', 0.133056640625)], 41: [('或少', 0.061859130859375), ('rida', 0.061004638671875), ('├', 0.059783935546875), ('imb', 0.0592041015625), ('compress', 0.057708740234375)], 42: [('撒', 0.08074951171875), ('lli', 0.0802001953125), ('2', 0.07879638671875), ('3', 0.07861328125), ('顷', 0.07745361328125)], 63: [('2', 0.142822265625), ('4', 0.1395263671875), ('0', 0.13623046875), ('5', 0.1336669921875), ('1', 0.1319580078125)]}, 10: {11: [('alda', 0.0836181640625), ('PUBL', 0.07861328125), ('лини', 0.07391357421875), ('的那样', 0.0732421875), (' |-', 0.0711669921875)], 14: [('吸', 0.379150390625), (' Аг', 0.328857421875), ('бар', 0.32763671875), ('透', 0.31982421875), ('Throw', 0.311279296875)], 28: [('irons', 0.09112548828125), ('пени', 0.08966064453125), ('тини', 0.08734130859375), ('=\"../../../../../../../../', 0.0858154296875), ('isely', 0.0853271484375)], 45: [('ი�', 0.0826416015625), ('нер', 0.076416015625), ('eek', 0.07489013671875), ('erra', 0.07440185546875), ('ser', 0.0731201171875)], 51: [(' PASS', 0.059844970703125), ('pass', 0.05810546875), ('硬', 0.052642822265625), ('enes', 0.052459716796875), ('度', 0.052337646484375)], 63: [('盖', 0.29345703125), ('盖上', 0.2391357421875), (' rule', 0.212890625), (' Лео', 0.2095947265625), ('Llista', 0.2076416015625)]}, 5: {12: [('гот', 0.1031494140625), ('零', 0.084228515625), (' Inf', 0.0828857421875), ('ernal', 0.08148193359375), ('irth', 0.08026123046875)], 18: [('Advertisement', 0.06292724609375), (' Surround', 0.061737060546875), ('授', 0.061248779296875), ('ogut', 0.05987548828125), ('售', 0.057952880859375)], 19: [('ე', 0.1458740234375), ('llib', 0.13916015625), ('=</', 0.1341552734375), ('��', 0.133544921875), ('isoft', 0.1248779296875)], 30: [('stein', 0.06951904296875), ('ontal', 0.0684814453125), ('8', 0.06622314453125), ('3', 0.06390380859375), ('5', 0.0635986328125)], 31: [('рит', 0.1644287109375), ('奇迹', 0.1480712890625), ('rc', 0.1478271484375), ('рита', 0.1475830078125), ('estren', 0.145751953125)], 56: [(' експе', 0.1563720703125), (' пореди', 0.1463623046875), ('лика', 0.138916015625), ('igan', 0.1356201171875), ('мара', 0.13525390625)]}, 2: {14: [('akin', 0.052825927734375), ('9', 0.05279541015625), (' Virg', 0.05059814453125), ('ergi', 0.050506591796875), ('三大', 0.050048828125)], 16: [('2', 0.04608154296875), ('fm', 0.044158935546875), ('1', 0.0440673828125), ('4', 0.04376220703125), ('5', 0.04150390625)], 28: [('ieft', 0.046875), ('葬', 0.04534912109375), ('кира', 0.0450439453125), ('пур', 0.0440673828125), ('duino', 0.043975830078125)], 38: [('grave', 0.8876953125), ('航', 0.87548828125), ('ambers', 0.8232421875), ('PN', 0.78369140625), ('eclipse', 0.77490234375)], 50: [(' comer', 0.083251953125), ('桩', 0.08209228515625), ('$~\\\\', 0.08203125), ('肇', 0.0809326171875), (' apartaments', 0.077392578125)], 63: [('habi', 0.13623046875), ('yses', 0.1226806640625), ('teenth', 0.11932373046875), ('周年', 0.1163330078125), ('nails', 0.115966796875)]}, 1: {15: [('acis', 0.10797119140625), ('确立', 0.1060791015625), ('numerus', 0.105712890625), ('blockList', 0.10528564453125), ('ipel', 0.1044921875)], 19: [('uum', 0.61083984375), (' Humblot', 0.60107421875), ('пе', 0.54345703125), (' incess', 0.52783203125), ('пита', 0.52783203125)], 23: [('ML', 0.03631591796875), ('DECL', 0.032562255859375), ('){$', 0.03155517578125), ('mlin', 0.0304412841796875), ('影子', 0.0304412841796875)], 26: [('шал', 0.033782958984375), ('hil', 0.031402587890625), ('...', 0.0311279296875), ('rae', 0.031036376953125), ('n', 0.0308685302734375)], 38: [(' dt', 0.377197265625), ('担', 0.36767578125), ('elli', 0.358642578125), ('INO', 0.358154296875), ('汇', 0.357421875)], 44: [(' Vo', 0.3271484375), ('type', 0.303466796875), ('bun', 0.2978515625), (' type', 0.290771484375), ('tov', 0.28662109375)]}, 6: {15: [('acs', 0.1334228515625), ('ERIC', 0.1268310546875), ('acis', 0.11810302734375), ('aldi', 0.1168212890625), ('iente', 0.11553955078125)], 18: [('eli', 0.057861328125), (' sprink', 0.05621337890625), ('сми', 0.054534912109375), (' patriotism', 0.054046630859375), ('疾', 0.053924560546875)], 19: [(' Saludos', 0.1353759765625), ('MULT', 0.132568359375), ('渐', 0.1317138671875), ('afi', 0.1314697265625), (' Nev', 0.131103515625)], 30: [('чета', 0.06695556640625), ('batim', 0.06219482421875), ('четата', 0.0606689453125), ('迪士', 0.05963134765625), ('rowed', 0.055908203125)], 39: [('сла', 0.036468505859375), ('�', 0.0321044921875), ('�', 0.0313720703125), (' [_', 0.03131103515625), ('发动', 0.031280517578125)], 56: [('ifices', 0.1455078125), (' сериали', 0.126953125), (' Mitj', 0.1268310546875), (' замъ', 0.1265869140625), ('jeres', 0.1234130859375)]}}\n",
      "Shared expert predictions: [[('9', 1.2431640625), ('6', 1.142578125), ('8', 1.12109375), ('1', 1.0537109375), ('3', 1.025390625)], [('=\"../../../../../../../../', 0.359130859375), ('стани', 0.323974609375), ('ilk', 0.322509765625), ('Христо', 0.313720703125), ('ocratic', 0.312744140625)], [('�', 0.58642578125), ('TX', 0.50439453125), ('мах', 0.486328125), ('ORE', 0.484130859375), ('踏上', 0.47802734375)], [('дир', 0.485107421875), ('sinh', 0.453857421875), ('Български', 0.41259765625), ('Eix', 0.40576171875), ('PLY', 0.402099609375)], [('пан', 0.47265625), (' condition', 0.463623046875), ('oor', 0.443359375), ('^*_{\\\\', 0.393798828125), ('bled', 0.388671875)], [('�', 0.369140625), ('йн', 0.34765625), ('йно', 0.341064453125), ('ovitch', 0.338623046875), ('�', 0.32958984375)], [('Рай', 0.41162109375), ('ptu', 0.403564453125), ('uca', 0.400390625), ('assump', 0.39990234375), ('ули', 0.398193359375)], [(' поради', 0.427001953125), ('す', 0.414306640625), ('JMS', 0.373779296875), ('istr', 0.371337890625), ('idenc', 0.36962890625)], [('nexi', 0.4609375), ('olera', 0.435791015625), ('zco', 0.404296875), ('postinst', 0.401123046875), ('PLIC', 0.395751953125)], [('灼', 0.43505859375), ('�乐', 0.418701171875), ('leg', 0.4150390625), ('oso', 0.4033203125), ('unz', 0.400390625)], [('arten', 0.431396484375), ('ointers', 0.397216796875), ('мпе', 0.396484375), ('bul', 0.377685546875), ('ций', 0.376220703125)]]\n",
      "\n",
      "MoE Layer 5:\n",
      "Selected experts: [[7, 13, 24, 12, 16, 36], [42, 3, 49, 21, 53, 32], [42, 17, 31, 46, 21, 61], [17, 57, 48, 21, 1, 39], [17, 50, 3, 45, 33, 57], [61, 19, 62, 3, 53, 7], [42, 53, 61, 26, 57, 49], [42, 44, 33, 46, 60, 52], [54, 57, 49, 48, 58, 3], [50, 14, 33, 61, 58, 6], [6, 50, 24, 17, 13, 41]]\n",
      "Expert weights: [[0.1802978515625, 0.0284423828125, 0.0263671875, 0.0248260498046875, 0.0243682861328125, 0.0240936279296875], [0.353515625, 0.07672119140625, 0.06744384765625, 0.051422119140625, 0.039093017578125, 0.0284271240234375], [0.26318359375, 0.09075927734375, 0.06304931640625, 0.059539794921875, 0.046142578125, 0.032806396484375], [0.1702880859375, 0.09588623046875, 0.08843994140625, 0.056427001953125, 0.02691650390625, 0.023223876953125], [0.04644775390625, 0.04669189453125, 0.059539794921875, 0.04290771484375, 0.040252685546875, 0.03167724609375], [0.060302734375, 0.19970703125, 0.0684814453125, 0.06890869140625, 0.052825927734375, 0.0478515625], [0.140869140625, 0.107177734375, 0.0933837890625, 0.059234619140625, 0.051239013671875, 0.041839599609375], [0.1904296875, 0.091064453125, 0.08892822265625, 0.061065673828125, 0.04510498046875, 0.036346435546875], [0.348876953125, 0.07763671875, 0.04608154296875, 0.033966064453125, 0.0309600830078125, 0.0242462158203125], [0.061492919921875, 0.043060302734375, 0.1270751953125, 0.0413818359375, 0.03759765625, 0.034271240234375], [0.58447265625, 0.0281829833984375, 0.0203704833984375, 0.019378662109375, 0.018829345703125, 0.017791748046875]]\n",
      "Combined output tokens: [[('肋', 2.13671875), (' препратки', 2.123046875), ('{}_', 2.060546875), ('urals', 1.78515625), ('esian', 1.7802734375)], [('ambers', 1.873046875), ('�', 1.810546875), ('noc', 1.7568359375), ('anell', 1.7109375), ('й', 1.6962890625)], [('WN', 0.98046875), ('和李', 0.9091796875), ('antos', 0.900390625), ('СК', 0.88623046875), ('顽', 0.87109375)], [('citealp', 0.86083984375), ('ografies', 0.81591796875), (' d', 0.7890625), ('coff', 0.77587890625), ('的健康', 0.7734375)], [('9', 0.50830078125), ('acam', 0.49365234375), ('与众', 0.47216796875), ('беле', 0.464599609375), ('ляни', 0.458740234375)], [('oice', 0.84375), ('etria', 0.7646484375), ('碍', 0.7265625), ('ان', 0.705078125), ('Coder', 0.703125)], [('OTTOM', 0.89990234375), ('ifmmode', 0.87255859375), ('ANS', 0.8642578125), ('acte', 0.8544921875), ('umno', 0.8505859375)], [('半', 0.97119140625), ('ONU', 0.9580078125), ('лара', 0.9541015625), ('пред', 0.95263671875), (' Comtat', 0.94580078125)], [('}$~\\\\', 0.92529296875), ('posa', 0.857421875), ('�', 0.82373046875), ('厢', 0.75537109375), ('�', 0.70458984375)], [('��', 0.80126953125), ('eln', 0.796875), ('scribe', 0.78759765625), ('esch', 0.7646484375), ('mne', 0.73486328125)], [('积', 1.61328125), (' v', 1.583984375), (' @', 1.5732421875), (' d', 1.5546875), (' +', 1.4990234375)]]\n",
      "Expert predictions by position: {3: {1: [('agona', 0.06585693359375), ('IconError', 0.05804443359375), ('зи', 0.054290771484375), ('zena', 0.05108642578125), ('lenburg', 0.050323486328125)], 17: [('isov', 0.5234375), ('gone', 0.51708984375), ('evo', 0.50537109375), ('rrec', 0.50390625), ('ndre', 0.48974609375)], 21: [('INSEE', 0.07147216796875), ('educt', 0.06427001953125), ('him', 0.0623779296875), (' itself', 0.061981201171875), ('@-', 0.060211181640625)], 39: [('emberg', 0.049957275390625), ('irat', 0.04522705078125), ('yship', 0.045013427734375), ('ленове', 0.042388916015625), ('phalt', 0.041595458984375)], 48: [('heid', 0.057220458984375), ('нга', 0.05242919921875), (' inact', 0.05169677734375), ('题', 0.050537109375), (' CODE', 0.0477294921875)], 57: [('jem', 0.07391357421875), ('pread', 0.0643310546875), (' rescat', 0.06427001953125), ('urant', 0.061004638671875), ('thread', 0.059783935546875)]}, 1: {3: [('CA', 0.038360595703125), ('ca', 0.035308837890625), ('cal', 0.032867431640625), ('尖', 0.032623291015625), (' CA', 0.03057861328125)], 21: [('抬', 0.1683349609375), ('卒', 0.1500244140625), ('ктори', 0.144775390625), ('adol', 0.13916015625), ('封建', 0.1383056640625)], 32: [('��', 0.0491943359375), ('вите', 0.040618896484375), ('niques', 0.039093017578125), ('estions', 0.038787841796875), ('ση', 0.036407470703125)], 42: [('й', 1.82421875), (' Esm', 1.7197265625), ('ambers', 1.6630859375), ('�', 1.6533203125), ('itaris', 1.5859375)], 49: [('VID', 0.07098388671875), ('alc', 0.06475830078125), ('vid', 0.06402587890625), ('тки', 0.05902099609375), (' load', 0.05682373046875)], 53: [('ignan', 0.1749267578125), ('FTWARE', 0.173095703125), ('罩', 0.1710205078125), ('pez', 0.1689453125), ('нес', 0.165771484375)]}, 4: {3: [('ajor', 0.13134765625), ('quio', 0.1251220703125), ('shader', 0.12353515625), ('istine', 0.11749267578125), ('клопе', 0.11541748046875)], 17: [('4', 0.10107421875), ('беле', 0.10052490234375), ('scal', 0.10009765625), ('留', 0.09796142578125), ('9', 0.09613037109375)], 33: [('chia', 0.34765625), ('ове', 0.3369140625), ('ръз', 0.298583984375), ('разява', 0.286865234375), ('ТО', 0.28466796875)], 45: [('undle', 0.079345703125), ('IRD', 0.0791015625), ('iquel', 0.0743408203125), ('olve', 0.073486328125), ('IME', 0.07269287109375)], 50: [('�', 0.11273193359375), ('off', 0.09228515625), ('屈', 0.09112548828125), ('adament', 0.08892822265625), ('пата', 0.0858154296875)], 57: [('攀', 0.103515625), ('图片来源于网络', 0.0986328125), ('阳台', 0.09381103515625), ('属', 0.09283447265625), ('瀑布', 0.09234619140625)]}, 5: {3: [('гар', 0.1082763671875), ('lando', 0.1046142578125), ('гат', 0.1015625), ('ocou', 0.09716796875), ('bra', 0.09564208984375)], 7: [('ErrorReason', 0.12200927734375), ('olev', 0.1142578125), ('/', 0.11248779296875), ('тани', 0.10943603515625), ('�', 0.10723876953125)], 19: [('reen', 0.572265625), ('ially', 0.55029296875), (' aC', 0.546875), ('queria', 0.52783203125), ('imales', 0.5185546875)], 53: [('��', 0.110595703125), (' seca', 0.07891845703125), ('три', 0.07647705078125), ('Left', 0.072509765625), (' Left', 0.07171630859375)], 61: [('рак', 0.1302490234375), ('ables', 0.1051025390625), (' Matar', 0.10455322265625), ('童', 0.10137939453125), ('rels', 0.10076904296875)], 62: [(' участи', 0.101318359375), ('ническата', 0.08233642578125), ('istration', 0.0821533203125), ('mani', 0.08172607421875), ('cmid', 0.080810546875)]}, 8: {3: [('resos', 0.1253662109375), ('trude', 0.12493896484375), ('viar', 0.11590576171875), ('amplona', 0.1085205078125), ('planation', 0.10589599609375)], 48: [('��', 0.1575927734375), ('ano', 0.1539306640625), (' категория', 0.1524658203125), ('adesh', 0.1522216796875), ('索', 0.1468505859375)], 49: [('ugosl', 0.119873046875), ('axies', 0.1009521484375), ('orials', 0.0985107421875), ('aguer', 0.097412109375), ('ложения', 0.09722900390625)], 54: [('}$~\\\\', 0.68017578125), ('ILD', 0.64892578125), ('ippets', 0.5888671875), ('图为', 0.57568359375), ('fing', 0.568359375)], 57: [('iler', 0.078857421875), ('otics', 0.07440185546875), ('事儿', 0.06634521484375), ('otic', 0.0655517578125), ('кой', 0.06097412109375)], 58: [('IABLE', 0.062164306640625), ('IPT', 0.060394287109375), ('cula', 0.057403564453125), ('迪士', 0.05615234375), ('ertaining', 0.0552978515625)]}, 9: {6: [('angera', 0.06549072265625), ('uctions', 0.06402587890625), ('цев', 0.058197021484375), (' estel', 0.05767822265625), ('taste', 0.05718994140625)], 14: [('getItem', 0.1500244140625), ('价', 0.14013671875), ('линд', 0.13232421875), ('价的', 0.13037109375), ('inam', 0.12432861328125)], 33: [('Scar', 0.560546875), ('hearts', 0.5), ('鞠', 0.49755859375), (' \\\\,{\\\\', 0.490966796875), ('onite', 0.48291015625)], 50: [('舍', 0.109375), ('onga', 0.10174560546875), ('arise', 0.0982666015625), (' .', 0.0958251953125), ('千金', 0.0950927734375)], 58: [('elm', 0.0428466796875), (';(', 0.04278564453125), ('fort', 0.0423583984375), (' ;', 0.042266845703125), (' MO', 0.042144775390625)], 61: [('amat', 0.1715087890625), ('opoly', 0.15869140625), ('ailability', 0.15185546875), ('aley', 0.1478271484375), ('ish', 0.143798828125)]}, 10: {6: [('积', 1.505859375), (' @', 1.5048828125), (' cl', 1.3388671875), (' Pro', 1.3125), ('檬', 1.294921875)], 13: [('��', 0.020050048828125), ('urar', 0.017974853515625), (' norma', 0.015411376953125), ('肺', 0.01522064208984375), ('emale', 0.01515960693359375)], 17: [('oldt', 0.05224609375), ('ocles', 0.04595947265625), ('dry', 0.04449462890625), ('estan', 0.04388427734375), ('eteria', 0.043853759765625)], 24: [('STRAINT', 0.01074981689453125), ('pole', 0.00824737548828125), ('适', 0.00791168212890625), ('poles', 0.007625579833984375), ('τε', 0.0075225830078125)], 41: [('accion', 0.0304107666015625), ('jgl', 0.0300445556640625), ('abus', 0.029815673828125), (' desocup', 0.0283355712890625), ('рт', 0.0269317626953125)], 50: [('unic', 0.0418701171875), ('icle', 0.040283203125), ('ress', 0.04022216796875), ('弦', 0.039337158203125), ('RESS', 0.038360595703125)]}, 0: {7: [(' препратки', 1.9140625), ('{}_', 1.859375), ('肋', 1.853515625), ('Chars', 1.5634765625), ('urals', 1.55078125)], 12: [(' ello', 0.0113067626953125), (' Climent', 0.01116180419921875), (' Body', 0.01093292236328125), ('зия', 0.0107421875), ('alts', 0.01068878173828125)], 13: [('2', 0.0286407470703125), ('3', 0.0279998779296875), ('рал', 0.02740478515625), ('юн', 0.02667236328125), ('Main', 0.026214599609375)], 16: [(' xsi', 0.01300811767578125), ('queta', 0.012969970703125), ('澳', 0.01284027099609375), ('хт', 0.01197052001953125), (' Солу', 0.01149749755859375)], 24: [('恤', 0.031951904296875), ('居', 0.0303497314453125), ('oulli', 0.0289154052734375), ('amora', 0.0283203125), ('cepte', 0.0277099609375)], 36: [('onica', 0.01125335693359375), ('htable', 0.00957489013671875), ('urable', 0.00914764404296875), ('čí', 0.0089569091796875), ('etheless', 0.00870513916015625)]}, 2: {17: [('rrec', 0.186279296875), ('anell', 0.1827392578125), ('ollers', 0.1719970703125), ('uric', 0.1715087890625), ('良', 0.168212890625)], 21: [('ionat', 0.0992431640625), ('omini', 0.086181640625), ('tsy', 0.0828857421875), ('LAIN', 0.08184814453125), ('iselect', 0.081298828125)], 31: [('isos', 0.1507568359375), ('Св', 0.1488037109375), ('LAGS', 0.147216796875), ('特别声明', 0.1441650390625), ('hift', 0.1396484375)], 42: [('amis', 0.64013671875), (' астро', 0.5966796875), ('сем', 0.59375), ('коман', 0.58642578125), ('народ', 0.576171875)], 46: [('�', 0.1326904296875), ('andona', 0.1270751953125), ('орн', 0.125), ('forter', 0.1231689453125), ('歼', 0.11895751953125)], 61: [('ueless', 0.1007080078125), ('sett', 0.09051513671875), ('orer', 0.08782958984375), ('SETT', 0.08575439453125), ('elessly', 0.08001708984375)]}, 6: {26: [('ALES', 0.11053466796875), ('TextNode', 0.10479736328125), ('yond', 0.10284423828125), ('Tex', 0.1025390625), ('iaris', 0.100830078125)], 42: [('orum', 0.69287109375), ('NA', 0.6630859375), ('кази', 0.6494140625), ('fin', 0.6455078125), (' Panc', 0.64013671875)], 49: [('UGIN', 0.1357421875), ('ѐ', 0.12322998046875), ('orum', 0.12249755859375), ('寡', 0.12249755859375), ('raq', 0.11944580078125)], 53: [('圈', 0.12060546875), ('onge', 0.11474609375), ('汀', 0.113037109375), ('fort', 0.111328125), (' опти', 0.1090087890625)], 57: [('��', 0.2486572265625), ('ynchronously', 0.2176513671875), ('theless', 0.198974609375), ('Avg', 0.1953125), ('xiously', 0.189208984375)], 61: [('javen', 0.0687255859375), ('NT', 0.06719970703125), ('paz', 0.0633544921875), ('enf', 0.0633544921875), ('ncy', 0.06268310546875)]}, 7: {33: [('疡', 0.1334228515625), ('[][', 0.1270751953125), ('IEW', 0.1217041015625), (' Eng', 0.12103271484375), ('wiki', 0.11865234375)], 42: [('umno', 0.59814453125), ('acis', 0.595703125), ('anzas', 0.5888671875), ('utic', 0.55078125), ('leted', 0.53955078125)], 44: [('Sink', 0.23388671875), ('中心', 0.197021484375), ('NE', 0.18994140625), ('nings', 0.1893310546875), ('息', 0.1856689453125)], 46: [('�', 0.1707763671875), ('mathb', 0.1419677734375), ('嘴', 0.13720703125), ('adr', 0.134521484375), (' Jer', 0.13037109375)], 52: [('ostei', 0.05902099609375), ('oberta', 0.058441162109375), ('ummies', 0.058135986328125), ('assent', 0.055328369140625), ('ocardi', 0.05401611328125)], 60: [('ър', 0.11834716796875), (' $[\\\\', 0.1038818359375), ('全日', 0.102294921875), ('hys', 0.1021728515625), ('Histori', 0.10003662109375)]}}\n",
      "Shared expert predictions: [[('lids', 0.39990234375), ('圾', 0.388671875), ('тру', 0.3876953125), ('枕', 0.3857421875), ('уди', 0.378662109375)], [('ogo', 0.5009765625), ('bon', 0.472900390625), (' st', 0.470703125), ('дан', 0.44921875), ('REG', 0.42138671875)], [('WN', 0.70458984375), ('固执', 0.6708984375), ('一再', 0.66357421875), ('建华', 0.6328125), ('ZA', 0.60400390625)], [('ografies', 0.515625), ('ayas', 0.509765625), ('ENC', 0.490234375), (' Кре', 0.486572265625), ('如有关于', 0.47216796875)], [('9', 0.4580078125), ('блиография', 0.427001953125), ('ecut', 0.41015625), ('acam', 0.405517578125), ('8', 0.404541015625)], [('AIPS', 0.486328125), ('ANI', 0.3759765625), ('Subcode', 0.3525390625), ('oice', 0.35107421875), ('гради', 0.345703125)], [('kered', 0.65966796875), (' Kullander', 0.5693359375), ('观点或立场', 0.51025390625), ('igure', 0.445556640625), ('osse', 0.435546875)], [('}$~\\\\', 0.497802734375), ('迷信', 0.48095703125), ('CodeAttribute', 0.458984375), ('emus', 0.458251953125), (' lineal', 0.4482421875)], [('BW', 0.437255859375), ('addTo', 0.43408203125), (' Стой', 0.429443359375), ('ALY', 0.42236328125), ('长了', 0.4013671875)], [('��', 0.5673828125), ('ე', 0.56201171875), ('gue', 0.498291015625), ('три', 0.498291015625), ('emon', 0.4794921875)], [('3', 0.5595703125), ('0', 0.55810546875), ('4', 0.55615234375), ('1', 0.54833984375), ('5', 0.54638671875)]]\n",
      "\n",
      "MoE Layer 6:\n",
      "Selected experts: [[45, 63, 48, 29, 19, 27], [63, 36, 19, 60, 39, 16], [63, 62, 44, 7, 0, 19], [63, 38, 12, 59, 53, 47], [63, 62, 61, 39, 13, 44], [60, 24, 30, 41, 4, 16], [46, 16, 36, 60, 30, 31], [0, 44, 8, 7, 63, 59], [28, 57, 52, 12, 38, 5], [61, 27, 62, 63, 33, 39], [48, 34, 52, 62, 61, 6]]\n",
      "Expert weights: [[0.330810546875, 0.039886474609375, 0.024871826171875, 0.020965576171875, 0.02093505859375, 0.020660400390625], [0.039825439453125, 0.076171875, 0.19921875, 0.05792236328125, 0.033355712890625, 0.033203125], [0.0999755859375, 0.07135009765625, 0.134033203125, 0.0853271484375, 0.050384521484375, 0.046905517578125], [0.08544921875, 0.07781982421875, 0.0623779296875, 0.0478515625, 0.042755126953125, 0.0350341796875], [0.0638427734375, 0.1883544921875, 0.061767578125, 0.0614013671875, 0.040069580078125, 0.036346435546875], [0.1378173828125, 0.054718017578125, 0.087646484375, 0.07586669921875, 0.07177734375, 0.039154052734375], [0.09539794921875, 0.1278076171875, 0.043670654296875, 0.10980224609375, 0.06689453125, 0.039154052734375], [0.059326171875, 0.061431884765625, 0.05322265625, 0.0865478515625, 0.047119140625, 0.045074462890625], [0.0740966796875, 0.0845947265625, 0.03961181640625, 0.1080322265625, 0.12005615234375, 0.0301513671875], [0.068115234375, 0.06390380859375, 0.099609375, 0.05609130859375, 0.04541015625, 0.04376220703125], [0.1124267578125, 0.06854248046875, 0.06195068359375, 0.060333251953125, 0.055328369140625, 0.0521240234375]]\n",
      "Combined output tokens: [[('яна', 1.73828125), ('andes', 1.7099609375), (' препратки', 1.6484375), ('肋', 1.6396484375), ('urals', 1.5458984375)], [('er', 0.69921875), ('spr', 0.6962890625), ('Albert', 0.66748046875), (' Albert', 0.6474609375), ('__', 0.63623046875)], [('�', 0.7392578125), ('闹', 0.72314453125), ('�', 0.71337890625), ('胡', 0.7119140625), ('胳', 0.7080078125)], [(' Marshall', 0.60400390625), ('une', 0.5869140625), ('UNE', 0.5830078125), ('ogn', 0.58154296875), ('ixt', 0.576171875)], [('erent', 0.67333984375), ('ranos', 0.66552734375), ('WG', 0.64794921875), ('观察', 0.64208984375), ('lod', 0.63671875)], [(' Product', 0.87939453125), ('acis', 0.8740234375), (' product', 0.87158203125), ('product', 0.81494140625), ('лява', 0.77294921875)], [(' thir', 0.71728515625), (' triat', 0.6435546875), (' mest', 0.62255859375), ('седа', 0.61865234375), ('топ', 0.59912109375)], [('etria', 0.86474609375), ('限', 0.8564453125), ('бита', 0.79345703125), ('走', 0.74951171875), ('OME', 0.74072265625)], [(' ocupaven', 0.64794921875), ('�', 0.63720703125), ('inqu', 0.5849609375), ('icat', 0.56494140625), ('GRA', 0.5390625)], [('riter', 0.74462890625), ('onos', 0.7080078125), ('elta', 0.685546875), (' degrad', 0.671875), ('ове', 0.6708984375)], [('}$~\\\\', 0.72509765625), ('刷', 0.72509765625), (' OTHERWISE', 0.71875), ('© ', 0.6953125), ('uxer', 0.6640625)]]\n",
      "Expert predictions by position: {2: {0: [('OperationKind', 0.21337890625), ('AnyRef', 0.1962890625), ('GeneratedMessage', 0.186279296875), ('adro', 0.182373046875), ('annel', 0.18212890625)], 7: [(' =&', 0.62890625), ('突', 0.568359375), ('eler', 0.53173828125), ('стина', 0.52294921875), ('慢', 0.51806640625)], 19: [('цар', 0.015655517578125), ('驱', 0.01486968994140625), ('微商', 0.01457977294921875), ('algia', 0.0142669677734375), ('ogia', 0.01401519775390625)], 44: [('�', 0.09674072265625), ('coln', 0.093017578125), ('eved', 0.0904541015625), ('hers', 0.08978271484375), ('rivate', 0.08685302734375)], 62: [('ff', 0.130615234375), ('arp', 0.128662109375), ('aree', 0.1275634765625), ('CS', 0.12445068359375), ('out', 0.12353515625)], 63: [('eson', 0.0643310546875), ('сев', 0.062744140625), ('ereix', 0.0625), ('batim', 0.0618896484375), ('erir', 0.061553955078125)]}, 7: {0: [('etats', 0.15087890625), ('�', 0.1468505859375), ('annel', 0.135986328125), ('osti', 0.1357421875), ('iae', 0.1346435546875)], 7: [('amics', 0.28466796875), (' Integ', 0.27978515625), ('кува', 0.275146484375), ('敦', 0.2744140625), ('鲤', 0.271728515625)], 8: [('izz', 0.08563232421875), ('丈', 0.0804443359375), ('зъ', 0.0802001953125), ('自我的', 0.07940673828125), (' маса', 0.07928466796875)], 44: [('reex', 0.51318359375), ('pare', 0.47900390625), ('�', 0.396484375), ('ayne', 0.388671875), ('so', 0.38818359375)], 59: [('ionat', 0.0885009765625), ('酮', 0.08721923828125), ('龄', 0.0860595703125), ('zona', 0.081787109375), ('�', 0.078857421875)], 63: [('$]', 0.2452392578125), ('arreg', 0.24365234375), ('illin', 0.2366943359375), ('icultura', 0.223876953125), (')]$', 0.2186279296875)]}, 5: {4: [('反', 0.2081298828125), ('osed', 0.194091796875), ('den', 0.193115234375), ('igrant', 0.18994140625), ('准', 0.1898193359375)], 16: [('WindowManager', 0.09759521484375), ('omore', 0.09613037109375), ('arlas', 0.08831787109375), (' лице', 0.08453369140625), (' Tay', 0.08331298828125)], 24: [(' necessarily', 0.139892578125), ('лата', 0.127197265625), ('oking', 0.125244140625), ('ailed', 0.1251220703125), (' карти', 0.12469482421875)], 30: [(' `', 0.1607666015625), (' l', 0.1572265625), ('\":', 0.151611328125), ('фер', 0.150390625), (' .', 0.1494140625)], 41: [('ERTIES', 0.2330322265625), ('фту', 0.2239990234375), ('deos', 0.2122802734375), ('CONDS', 0.20947265625), ('rif', 0.207763671875)], 60: [('民', 0.5478515625), ('iens', 0.54150390625), ('лява', 0.53076171875), ('hee', 0.51513671875), (' бри', 0.5146484375)]}, 8: {5: [('кон', 0.040802001953125), ('可想', 0.03997802734375), ('asts', 0.039581298828125), ('мей', 0.038360595703125), ('рай', 0.0369873046875)], 12: [('писано', 0.181884765625), ('烂', 0.1588134765625), ('iab', 0.155517578125), ('rani', 0.15478515625), ('paramname', 0.150390625)], 28: [('modes', 0.141357421875), ('alty', 0.1348876953125), ('ikipedia', 0.13330078125), ('бой', 0.1331787109375), ('bionic', 0.132568359375)], 38: [('onium', 0.208740234375), ('跨', 0.1788330078125), ('eks', 0.151123046875), ('case', 0.1483154296875), ('kamp', 0.1478271484375)], 52: [(' ', 0.06103515625), ('0', 0.0560302734375), (' om', 0.04998779296875), (' Serpent', 0.049774169921875), (' O', 0.048980712890625)], 57: [('inqu', 0.279052734375), ('tina', 0.27783203125), ('aric', 0.27734375), ('assada', 0.274169921875), ('ografies', 0.273681640625)]}, 10: {6: [('ctrics', 0.10821533203125), ('า', 0.10552978515625), ('肪', 0.103515625), ('unitats', 0.10247802734375), (' сим', 0.10101318359375)], 34: [('ossa', 0.1373291015625), ('xim', 0.11993408203125), ('lox', 0.11968994140625), ('elt', 0.118896484375), ('免费咨询电话', 0.11865234375)], 48: [('ittings', 0.039459228515625), ('肋', 0.03851318359375), ('plural', 0.037506103515625), ('ames', 0.037078857421875), ('INSEE', 0.0369873046875)], 52: [('stab', 0.120361328125), ('责任的', 0.12005615234375), ('izzard', 0.11749267578125), ('сност', 0.11651611328125), ('istat', 0.1112060546875)], 61: [(' местни', 0.1480712890625), ('escut', 0.12646484375), ('inoa', 0.11962890625), ('iboot', 0.11578369140625), ('搏', 0.11578369140625)], 62: [('�', 0.11492919921875), ('钉', 0.1005859375), ('LTS', 0.0987548828125), ('漫', 0.0972900390625), (' marc', 0.09716796875)]}, 3: {12: [('意', 0.1513671875), ('prin', 0.1300048828125), ('arca', 0.1297607421875), (' Sota', 0.1292724609375), ('лище', 0.1285400390625)], 38: [(' pocket', 0.2493896484375), ('到大', 0.2196044921875), ('стопан', 0.2181396484375), ('$},', 0.21044921875), ('ovat', 0.2100830078125)], 47: [('amia', 0.0716552734375), ('居民', 0.0628662109375), ('odatabase', 0.058807373046875), ('��', 0.057464599609375), ('{,}', 0.057098388671875)], 53: [('iasis', 0.075927734375), ('мил', 0.06695556640625), (' Гран', 0.06573486328125), ('ovat', 0.0645751953125), (' posterior', 0.0645751953125)], 59: [('okit', 0.1207275390625), ('oguera', 0.11956787109375), ('циона', 0.11492919921875), ('enp', 0.10943603515625), ('midi', 0.10870361328125)], 63: [('adell', 0.1258544921875), ('bach', 0.11553955078125), ('ATAB', 0.10382080078125), ('�', 0.10205078125), ('ottes', 0.09930419921875)]}, 4: {13: [('ionista', 0.103271484375), (' pude', 0.089599609375), ('ting', 0.08880615234375), ('odiac', 0.085205078125), (' ъгъл', 0.08343505859375)], 39: [('类', 0.11810302734375), ('essin', 0.115966796875), ('ир', 0.1123046875), ('dea', 0.1099853515625), (' App', 0.10986328125)], 44: [('尊', 0.1488037109375), ('下车', 0.133056640625), ('�', 0.1328125), ('\\\\$', 0.1282958984375), (' ropes', 0.128173828125)], 61: [('escript', 0.133056640625), ('暑', 0.1287841796875), (' Cust', 0.1253662109375), ('兑换', 0.1253662109375), (' action', 0.123046875)], 62: [('ncia', 0.201416015625), ('acad', 0.1748046875), ('лекс', 0.1697998046875), ('ience', 0.1663818359375), ('andria', 0.166015625)], 63: [(' v', 0.32568359375), ('的发', 0.3232421875), ('asta', 0.321533203125), ('unas', 0.320068359375), (' Si', 0.3173828125)]}, 1: {16: [('AGR', 0.057861328125), ('agn', 0.057037353515625), ('ERN', 0.05438232421875), ('rucci', 0.0528564453125), ('eni', 0.0517578125)], 19: [('Frames', 0.404296875), ('erland', 0.351318359375), ('索', 0.346435546875), ('眼里', 0.34228515625), ('ssica', 0.34228515625)], 36: [('olate', 0.06536865234375), ('�', 0.06365966796875), ('ejar', 0.05902099609375), (' Bohem', 0.057342529296875), ('shw', 0.057342529296875)], 39: [(' g', 0.0645751953125), ('工', 0.058837890625), ('xton', 0.05609130859375), ('kins', 0.052947998046875), ('nez', 0.052276611328125)], 60: [('ried', 0.1326904296875), ('eln', 0.1273193359375), ('alies', 0.12469482421875), (' bucle', 0.11859130859375), ('Opcode', 0.1177978515625)], 63: [('Pobl', 0.183837890625), ('+--------------------------------', 0.1802978515625), ('CTYPE', 0.176513671875), ('Iv', 0.1763916015625), ('的发', 0.1759033203125)]}, 6: {16: [('asca', 0.287841796875), ('ворен', 0.28759765625), ('isc', 0.28466796875), ('IPT', 0.27880859375), ('esome', 0.2493896484375)], 30: [('agma', 0.123046875), ('bat', 0.1199951171875), ('�', 0.10797119140625), (' coc', 0.10723876953125), (' anualment', 0.10516357421875)], 31: [('jal', 0.10614013671875), ('ac', 0.10595703125), ('ali', 0.095703125), ('槛', 0.09490966796875), ('elong', 0.08990478515625)], 36: [('ients', 0.1060791015625), ('рак', 0.10406494140625), ('UST', 0.102783203125), (' Llibre', 0.10235595703125), ('wit', 0.1019287109375)], 46: [(' C', 0.1962890625), ('arc', 0.1917724609375), ('тина', 0.1904296875), ('Front', 0.189697265625), ('汇', 0.1875)], 60: [('ляна', 0.31005859375), ('ЕФА', 0.305419921875), ('�', 0.30517578125), ('zr', 0.277099609375), ('拖欠', 0.275390625)]}, 0: {19: [(' Bail', 0.08984375), ('串', 0.08514404296875), (' acl', 0.0831298828125), ('IP', 0.08123779296875), ('周', 0.08099365234375)], 27: [('k', 0.0252532958984375), ('e', 0.0249481201171875), ('em', 0.02490234375), ('0', 0.0243682861328125), (' sist', 0.0242767333984375)], 29: [('tres', 0.01025390625), ('ymes', 0.00969696044921875), ('бя', 0.0096435546875), ('=\"../../../../../../../../', 0.00917816162109375), ('recks', 0.008941650390625)], 45: [('яна', 1.5439453125), (' препратки', 1.4755859375), ('andes', 1.47265625), ('肋', 1.431640625), ('ян', 1.39453125)], 48: [(' Дебър', 0.39404296875), ('initely', 0.352294921875), ('tionary', 0.32958984375), ('тински', 0.326904296875), ('FOS', 0.317626953125)], 63: [('Funnels', 0.2017822265625), ('aleses', 0.1939697265625), ('ROUT', 0.18408203125), ('Ц', 0.1785888671875), ('ени', 0.1771240234375)]}, 9: {27: [(' Ministeri', 0.28662109375), ('截', 0.273193359375), ('lood', 0.25830078125), (' vestit', 0.25341796875), ('额', 0.24462890625)], 33: [('aul', 0.178955078125), ('uring', 0.177734375), (' token', 0.1771240234375), (' Token', 0.1759033203125), ('flare', 0.1710205078125)], 39: [('йка', 0.084228515625), ('IGIN', 0.07891845703125), ('ngia', 0.07537841796875), ('ialize', 0.0753173828125), ('冶', 0.0750732421875)], 61: [('hered', 0.12286376953125), (' Complut', 0.12109375), ('cence', 0.11376953125), ('posium', 0.11309814453125), ('通的', 0.1124267578125)], 62: [(' Columb', 0.384033203125), ('FC', 0.3779296875), ('lod', 0.371826171875), ('记', 0.365478515625), ('itage', 0.353271484375)], 63: [('udio', 0.07623291015625), ('orio', 0.06915283203125), ('VOL', 0.06689453125), ('日内与', 0.0650634765625), (' Vicen', 0.0633544921875)]}}\n",
      "Shared expert predictions: [[('asym', 0.234619140625), ('ERIC', 0.227294921875), ('根本上', 0.2252197265625), ('��', 0.22314453125), ('estres', 0.2135009765625)], [('晓彤', 0.533203125), ('er', 0.488525390625), ('od', 0.478271484375), ('Lev', 0.463623046875), ('hens', 0.462158203125)], [('一再', 0.53369140625), ('ombra', 0.459716796875), ('亲身', 0.452880859375), ('deos', 0.44970703125), ('alas', 0.447998046875)], [('amely', 0.46142578125), ('UNE', 0.460693359375), ('bats', 0.446533203125), ('ixt', 0.423828125), ('units', 0.414794921875)], [('rdf', 0.447265625), ('bolt', 0.406982421875), ('犹豫', 0.3896484375), (' bol', 0.385498046875), ('ej', 0.38232421875)], [('wil', 0.473388671875), (' WL', 0.452392578125), ('рез', 0.431884765625), ('善', 0.420654296875), ('YLE', 0.415283203125)], [(' enumerable', 0.41162109375), (' nominat', 0.3779296875), ('日内与', 0.3759765625), ('DAQ', 0.371826171875), ('бло', 0.368896484375)], [('YA', 0.5703125), ('бита', 0.55419921875), ('etria', 0.51220703125), ('носа', 0.505859375), ('mara', 0.49853515625)], [('IDO', 0.37548828125), ('ecedents', 0.3603515625), ('━', 0.35791015625), (' CH', 0.3486328125), ('espera', 0.345458984375)], [('estim', 0.488037109375), (' оби', 0.476318359375), ('า', 0.457763671875), ('atis', 0.447021484375), ('bona', 0.438720703125)], [('刷', 0.499755859375), ('edd', 0.48779296875), (' гро', 0.467041015625), (' Бор', 0.45947265625), ('STAR', 0.45947265625)]]\n",
      "\n",
      "MoE Layer 7:\n",
      "Selected experts: [[17, 55, 45, 53, 21, 23], [55, 40, 38, 47, 16, 37], [44, 51, 55, 11, 13, 48], [19, 24, 14, 13, 40, 25], [13, 11, 14, 60, 53, 23], [14, 55, 63, 38, 13, 47], [38, 55, 47, 14, 9, 13], [40, 51, 44, 23, 55, 31], [55, 37, 22, 40, 26, 31], [60, 11, 13, 17, 54, 14], [14, 45, 31, 60, 40, 13]]\n",
      "Expert weights: [[0.333740234375, 0.0312347412109375, 0.030120849609375, 0.0279693603515625, 0.0399169921875, 0.024871826171875], [0.34814453125, 0.0892333984375, 0.061920166015625, 0.03875732421875, 0.0308074951171875, 0.0212860107421875], [0.09832763671875, 0.11700439453125, 0.10675048828125, 0.06683349609375, 0.050323486328125, 0.035125732421875], [0.044097900390625, 0.08258056640625, 0.03997802734375, 0.0953369140625, 0.039215087890625, 0.0338134765625], [0.140380859375, 0.07489013671875, 0.044219970703125, 0.0400390625, 0.038970947265625, 0.03558349609375], [0.295654296875, 0.1402587890625, 0.08489990234375, 0.0501708984375, 0.041473388671875, 0.0335693359375], [0.10687255859375, 0.2000732421875, 0.08935546875, 0.1549072265625, 0.0391845703125, 0.035125732421875], [0.058837890625, 0.11199951171875, 0.06982421875, 0.05145263671875, 0.04815673828125, 0.043975830078125], [0.1417236328125, 0.080810546875, 0.075927734375, 0.04376220703125, 0.04010009765625, 0.039886474609375], [0.0745849609375, 0.155517578125, 0.1187744140625, 0.03662109375, 0.0357666015625, 0.033477783203125], [0.0572509765625, 0.0753173828125, 0.08282470703125, 0.060516357421875, 0.04901123046875, 0.044525146484375]]\n",
      "Combined output tokens: [[('andes', 0.2303466796875), ('бела', 0.225341796875), ('>(<', 0.2230224609375), (' neut', 0.2225341796875), (' място', 0.2208251953125)], [('货', 1.59375), ('reta', 1.4375), ('конча', 1.423828125), ('星级', 1.4228515625), (' портре', 1.4072265625)], [('悄', 0.8798828125), ('ate', 0.81103515625), ('矫', 0.80859375), ('integr', 0.7861328125), ('fons', 0.77734375)], [('стка', 0.9404296875), ('utada', 0.88525390625), ('otas', 0.841796875), ('amely', 0.78857421875), ('бия', 0.78369140625)], [('igas', 0.8974609375), ('ABA', 0.82421875), ('SAS', 0.77880859375), ('ЕФА', 0.77880859375), ('终极', 0.76220703125)], [('лага', 1.3857421875), ('уди', 1.1328125), ('oed', 1.1044921875), ('..', 1.0888671875), ('高尚', 1.087890625)], [('kered', 1.1953125), ('лага', 1.1572265625), ('颠', 1.0810546875), ('мба', 1.0537109375), ('дава', 1.0341796875)], [('缺', 0.87353515625), ('2', 0.8125), ('ature', 0.77783203125), ('社', 0.77490234375), ('6', 0.7724609375)], [('Echo', 0.8876953125), ('舜', 0.8525390625), (' Echo', 0.7587890625), ('注重', 0.7490234375), ('kie', 0.748046875)], [('年轻', 0.849609375), ('urally', 0.80126953125), ('确', 0.798828125), ('�', 0.7939453125), ('4', 0.7890625)], [('бия', 0.81494140625), ('EqualTo', 0.80615234375), (' Tafel', 0.74169921875), ('inari', 0.71337890625), ('oors', 0.69287109375)]]\n",
      "Expert predictions by position: {6: {9: [('3', 0.09136962890625), ('8', 0.09051513671875), ('2', 0.0899658203125), ('6', 0.08746337890625), ('9', 0.08624267578125)], 13: [('esia', 0.06207275390625), ('ipsy', 0.061431884765625), ('deliver', 0.061279296875), ('agger', 0.057647705078125), ('eca', 0.056610107421875)], 14: [('光灯', 0.07177734375), ('CodeAttribute', 0.07012939453125), (' sist', 0.06878662109375), ('升', 0.06829833984375), (' broch', 0.0677490234375)], 38: [('рих', 0.211669921875), (' Cavaller', 0.203125), (' pr', 0.200439453125), ('wain', 0.197021484375), (' WARRANTY', 0.191650390625)], 47: [(' дотогава', 0.1622314453125), ('webapp', 0.147705078125), ('llo', 0.14404296875), ('以上文章内容', 0.1429443359375), ('ivet', 0.1422119140625)], 55: [('lumin', 0.4609375), ('utics', 0.426025390625), ('pols', 0.426025390625), ('ěř', 0.416015625), ('adur', 0.40087890625)]}, 2: {11: [('нев', 0.2376708984375), ('GREEK', 0.22802734375), ('spath', 0.2242431640625), ('岗', 0.2198486328125), ('upon', 0.214599609375)], 13: [('дие', 0.31494140625), ('asm', 0.3115234375), ('arta', 0.300537109375), ('印象', 0.29150390625), ('unz', 0.2900390625)], 44: [('7', 0.548828125), ('1', 0.529296875), ('3', 0.5244140625), ('8', 0.52392578125), ('6', 0.52392578125)], 48: [(' delegat', 0.075927734375), ('Села', 0.07366943359375), ('atar', 0.07135009765625), ('ODB', 0.0704345703125), ('lives', 0.06988525390625)], 51: [('irus', 0.34130859375), ('位', 0.326171875), ('thood', 0.322021484375), ('idea', 0.319580078125), ('rwxrwxrwx', 0.311767578125)], 55: [('уза', 0.320068359375), ('队长', 0.30322265625), ('ловия', 0.29296875), ('vez', 0.283447265625), ('掘', 0.280517578125)]}, 4: {11: [('upon', 0.189453125), ('кли', 0.1845703125), ('anship', 0.18359375), ('ски', 0.169921875), ('висимо', 0.1680908203125)], 13: [('ейнт', 0.1356201171875), ('PRB', 0.1298828125), (' Badalona', 0.115966796875), ('8', 0.1103515625), ('utada', 0.1103515625)], 14: [('}{~', 0.95751953125), ('ливи', 0.8837890625), ('sohn', 0.8408203125), ('čí', 0.84033203125), (' проте', 0.83544921875)], 23: [('ellido', 0.2470703125), ('clo', 0.2427978515625), (' Llengu', 0.223876953125), ('Ungrouped', 0.216552734375), ('нци', 0.2113037109375)], 53: [('式的', 0.07232666015625), ('式', 0.07086181640625), ('inctions', 0.06890869140625), ('ъри', 0.06842041015625), ('oport', 0.06683349609375)], 60: [('лое', 0.16064453125), (' Loira', 0.1505126953125), ('&&\\\\', 0.1396484375), ('rrez', 0.138427734375), ('cluded', 0.1280517578125)]}, 9: {11: [('त', 0.456298828125), ('uld', 0.43994140625), ('ioned', 0.429443359375), ('pzc', 0.425048828125), ('zul', 0.41064453125)], 13: [('ltimes', 0.34033203125), ('终极', 0.325927734375), ('ляни', 0.300048828125), ('义务', 0.293701171875), ('ivil', 0.291259765625)], 14: [('东方', 0.12469482421875), ('ite', 0.12469482421875), ('ASA', 0.1165771484375), ('oto', 0.11639404296875), ('groups', 0.11572265625)], 17: [('avor', 0.08355712890625), (' Secret', 0.0657958984375), ('ped', 0.06561279296875), ('apim', 0.0626220703125), ('酚', 0.062042236328125)], 54: [('ialize', 0.078369140625), ('ullivan', 0.0748291015625), ('aguer', 0.0716552734375), ('прил', 0.070556640625), ('reen', 0.06695556640625)], 60: [('рий', 0.18798828125), ('物价', 0.1793212890625), ('ness', 0.171875), ('lique', 0.1717529296875), (' Arnau', 0.1712646484375)]}, 3: {13: [('ocument', 0.10986328125), ('mares', 0.10638427734375), ('劲', 0.105224609375), ('оби', 0.10369873046875), ('peech', 0.102783203125)], 14: [('atinum', 0.10821533203125), ('auge', 0.10382080078125), ('čí', 0.10150146484375), ('irtual', 0.10003662109375), ('phabet', 0.09893798828125)], 19: [('isiera', 0.12408447265625), ('zul', 0.12188720703125), ('zca', 0.1212158203125), ('��', 0.1204833984375), ('ursal', 0.1168212890625)], 24: [('后果', 0.21875), ('assos', 0.203857421875), ('rtex', 0.194091796875), (' Life', 0.1873779296875), ('фел', 0.1866455078125)], 25: [('DEFIN', 0.0831298828125), ('erglass', 0.07977294921875), ('imbab', 0.07891845703125), ('dua', 0.07867431640625), ('perse', 0.07684326171875)], 40: [('tron', 0.1876220703125), ('правление', 0.169921875), ('ko', 0.1646728515625), ('фа', 0.1590576171875), ('rico', 0.15771484375)]}, 5: {13: [('мври', 0.270263671875), ('ossos', 0.25537109375), ('�起', 0.25439453125), (' Fitxa', 0.252685546875), ('ingut', 0.252197265625)], 14: [('ifmmode', 0.3974609375), ('ěř', 0.39697265625), ('ASH', 0.396728515625), (' Ricard', 0.386962890625), ('cea', 0.38232421875)], 38: [('ei', 0.1478271484375), ('-', 0.1397705078125), ('e', 0.13671875), ('ha', 0.1357421875), ('enu', 0.1346435546875)], 47: [('uput', 0.10302734375), ('sserv', 0.10211181640625), ('edel', 0.0968017578125), ('��', 0.09490966796875), ('ssf', 0.09393310546875)], 55: [('alfabet', 0.71044921875), ('vark', 0.70947265625), (' \\\\,{\\\\', 0.6875), ('пада', 0.685546875), ('fet', 0.685546875)], 63: [('coh', 0.2049560546875), ('nda', 0.2017822265625), ('nings', 0.20068359375), ('нам', 0.197509765625), ('鸟', 0.192626953125)]}, 10: {13: [('��', 0.07073974609375), (' bodies', 0.05914306640625), ('rip', 0.05621337890625), (' Bodies', 0.05303955078125), ('ps', 0.050811767578125)], 14: [('tee', 0.08544921875), ('yson', 0.081787109375), ('憬', 0.08160400390625), ('角', 0.0810546875), ('ained', 0.07965087890625)], 31: [('Окръг', 0.20703125), ('сил', 0.17724609375), ('feller', 0.1602783203125), ('mbol', 0.1600341796875), ('дръ', 0.1539306640625)], 40: [('евру', 0.1336669921875), ('��', 0.130126953125), ('estern', 0.126708984375), ('ymbol', 0.1263427734375), ('ковник', 0.12359619140625)], 45: [('eness', 0.015655517578125), ('oro', 0.01399993896484375), ('ness', 0.01324462890625), ('imple', 0.01284027099609375), ('antrop', 0.01255035400390625)], 60: [('aresme', 0.09930419921875), ('rfloor', 0.09637451171875), ('regut', 0.095947265625), ('restant', 0.0958251953125), (' Borde', 0.08929443359375)]}, 1: {16: [('夷', 0.1923828125), ('hra', 0.1875), ('onda', 0.1873779296875), (' Wind', 0.1849365234375), ('OND', 0.1846923828125)], 37: [('orum', 0.215576171875), (' G', 0.2037353515625), (' ', 0.2022705078125), (' R', 0.2008056640625), (' g', 0.19775390625)], 38: [('iour', 0.1497802734375), ('��', 0.149658203125), ('igrant', 0.1444091796875), ('巴克', 0.143798828125), ('IPU', 0.1400146484375)], 40: [(' Тим', 0.1949462890625), ('missions', 0.19482421875), ('�', 0.17041015625), ('Библиография', 0.1695556640625), ('бена', 0.1658935546875)], 47: [('ober', 0.0712890625), ('reford', 0.063232421875), (\"')=\", 0.060882568359375), ('ел', 0.060699462890625), ('fort', 0.060638427734375)], 55: [('уди', 0.496337890625), ('ostat', 0.480712890625), ('евру', 0.47509765625), (' ott', 0.474609375), ('aterial', 0.473388671875)]}, 0: {17: [('зми', 0.0396728515625), ('laf', 0.036163330078125), (' Observatory', 0.035736083984375), ('сор', 0.0345458984375), ('надле', 0.034088134765625)], 21: [(' eaves', 0.018768310546875), ('{}_', 0.0174102783203125), ('чник', 0.0170440673828125), ('stdc', 0.0170440673828125), ('oulos', 0.01690673828125)], 23: [('0', 0.0289459228515625), ('8', 0.02606201171875), ('1', 0.0247955322265625), ('4', 0.024322509765625), ('9', 0.0240020751953125)], 45: [('мон', 0.1473388671875), (' мон', 0.1341552734375), ('kers', 0.12744140625), (' &', 0.12744140625), ('们的', 0.126953125)], 53: [('肋', 0.033538818359375), ('胁', 0.032135009765625), ('MAX', 0.0311431884765625), ('乡镇', 0.0309295654296875), (' Bros', 0.030059814453125)], 55: [(' портре', 1.390625), ('货', 1.2919921875), ('ерт', 1.2685546875), ('女星', 1.240234375), ('pon', 1.173828125)]}, 8: {22: [('ари', 0.37841796875), ('asymp', 0.35693359375), ('texts', 0.331298828125), ('тек', 0.32373046875), ('撤', 0.322509765625)], 26: [('ravity', 0.08251953125), ('as', 0.08148193359375), ('�', 0.07952880859375), ('лик', 0.07415771484375), ('�', 0.07171630859375)], 31: [('сул', 0.08984375), ('ona', 0.08349609375), ('获', 0.08038330078125), ('ори', 0.0784912109375), ('aina', 0.077392578125)], 37: [('jocs', 0.04315185546875), ('htra', 0.040191650390625), ('parity', 0.036529541015625), ('ENTIAL', 0.03546142578125), ('entials', 0.035186767578125)], 40: [('ние', 0.138916015625), ('нома', 0.1380615234375), ('系', 0.1319580078125), ('фрид', 0.1318359375), ('系的', 0.1290283203125)], 55: [('unals', 0.1619873046875), ('alc', 0.1619873046875), ('odox', 0.1571044921875), ('ALESCE', 0.155517578125), ('ulic', 0.1549072265625)]}, 7: {23: [('humor', 0.146240234375), ('https', 0.14208984375), (' ...', 0.140869140625), (' rec', 0.136474609375), ('�', 0.1363525390625)], 31: [('rror', 0.0660400390625), ('ул', 0.061309814453125), ('镜子', 0.058837890625), ('\\u2005', 0.05828857421875), ('нет', 0.058197021484375)], 40: [('ейнт', 0.3037109375), ('евру', 0.2734375), ('观点或立场', 0.252685546875), ('rpre', 0.251220703125), ('долф', 0.2430419921875)], 44: [('chi', 0.440185546875), ('3', 0.415771484375), ('eg', 0.38525390625), (' Хърват', 0.383056640625), ('4', 0.379638671875)], 51: [('Modern', 0.318603515625), (' Modern', 0.304443359375), ('uin', 0.30419921875), ('整', 0.30078125), ('Eff', 0.29931640625)], 55: [(' -', 0.035430908203125), (',', 0.03521728515625), ('знание', 0.03460693359375), (' d', 0.034423828125), ('.', 0.0328369140625)]}}\n",
      "Shared expert predictions: [[('立卡', 0.218505859375), ('ikon', 0.203369140625), (' място', 0.2022705078125), ('opon', 0.19970703125), ('>(<', 0.18994140625)], [(' st', 0.56591796875), ('ite', 0.53466796875), ('enga', 0.52587890625), ('inton', 0.52490234375), ('idera', 0.5087890625)], [('фер', 0.51416015625), ('�', 0.49609375), (' @}', 0.490478515625), ('Des', 0.4814453125), (' Desert', 0.453125)], [('ection', 0.59423828125), ('otas', 0.59326171875), ('湃', 0.55029296875), ('amely', 0.5419921875), ('стка', 0.52783203125)], [('igas', 0.61328125), ('ABA', 0.56689453125), ('阱', 0.55859375), ('ЕФА', 0.52734375), ('SAS', 0.51953125)], [('4', 0.63623046875), ('8', 0.62890625), ('1', 0.623046875), ('6', 0.6220703125), ('9', 0.60400390625)], [(' DB', 0.465576171875), ('kered', 0.463623046875), ('衬托', 0.463134765625), ('lou', 0.46142578125), ('1', 0.458251953125)], [(' Beat', 0.5478515625), ('song', 0.50537109375), ('驶', 0.499755859375), ('anos', 0.493408203125), ('sites', 0.489990234375)], [('NDB', 0.5947265625), ('вършен', 0.58251953125), (' Mediterrani', 0.5029296875), ('cust', 0.499755859375), ('Вън', 0.48583984375)], [('4', 0.73095703125), ('2', 0.705078125), ('1', 0.68896484375), ('7', 0.65673828125), ('8', 0.64892578125)], [('inari', 0.70166015625), ('EqualTo', 0.63720703125), ('бия', 0.560546875), ('ellations', 0.5556640625), ('afford', 0.5498046875)]]\n",
      "\n",
      "MoE Layer 8:\n",
      "Selected experts: [[49, 62, 43, 44, 18, 35], [11, 40, 26, 5, 58, 41], [63, 6, 42, 33, 18, 16], [0, 15, 54, 12, 20, 29], [63, 61, 43, 18, 14, 32], [26, 40, 5, 56, 2, 11], [26, 55, 5, 40, 11, 56], [18, 63, 6, 48, 50, 14], [31, 58, 50, 3, 23, 17], [18, 42, 43, 14, 20, 0], [23, 46, 14, 12, 50, 44]]\n",
      "Expert weights: [[0.0305023193359375, 0.035430908203125, 0.26123046875, 0.0313720703125, 0.03228759765625, 0.0292510986328125], [0.0948486328125, 0.064697265625, 0.04168701171875, 0.1422119140625, 0.037384033203125, 0.034423828125], [0.037933349609375, 0.06298828125, 0.0435791015625, 0.03759765625, 0.2042236328125, 0.036041259765625], [0.040130615234375, 0.04193115234375, 0.047698974609375, 0.038330078125, 0.036773681640625, 0.03460693359375], [0.0538330078125, 0.0369873046875, 0.07330322265625, 0.1409912109375, 0.0550537109375, 0.0357666015625], [0.1490478515625, 0.15234375, 0.1488037109375, 0.057891845703125, 0.038848876953125, 0.037750244140625], [0.128173828125, 0.096435546875, 0.138916015625, 0.15283203125, 0.0692138671875, 0.05218505859375], [0.11517333984375, 0.09112548828125, 0.06719970703125, 0.05902099609375, 0.041748046875, 0.034698486328125], [0.08514404296875, 0.09906005859375, 0.040435791015625, 0.106201171875, 0.048614501953125, 0.0277252197265625], [0.134521484375, 0.09368896484375, 0.0582275390625, 0.0504150390625, 0.043182373046875, 0.040252685546875], [0.0623779296875, 0.052154541015625, 0.10125732421875, 0.101806640625, 0.0458984375, 0.0440673828125]]\n",
      "Combined output tokens: [[('andes', 0.358642578125), ('枕', 0.330810546875), ('obres', 0.32958984375), ('opon', 0.322998046875), ('ossos', 0.3076171875)], [(' -', 0.78759765625), (' --', 0.748046875), ('基准', 0.7470703125), ('_-(', 0.7333984375), ('ney', 0.7255859375)], [('WG', 1.595703125), ('WL', 1.529296875), ('bun', 1.451171875), ('WHM', 1.3818359375), ('懿', 1.3779296875)], [('系', 0.84375), ('精准', 0.83447265625), ('bein', 0.818359375), ('ERA', 0.8134765625), ('QA', 0.79833984375)], [('Населе', 1.6640625), ('лата', 1.5947265625), ('淑', 1.5517578125), ('悠悠', 1.4833984375), ('numerical', 1.4267578125)], [(' Limita', 1.3095703125), ('adal', 1.2294921875), ('LHC', 1.0634765625), ('eja', 1.0537109375), ('се', 1.048828125)], [(' Word', 1.1162109375), (' Gar', 1.0703125), ('WN', 1.0390625), ('amina', 1.0087890625), ('斯科', 1.0)], [('зов', 1.2275390625), ('WL', 1.1923828125), ('bok', 1.18359375), (' Хон', 1.126953125), ('UAL', 1.103515625)], [('schen', 0.900390625), ('在学习', 0.88623046875), (' vn', 0.8759765625), ('ICS', 0.8515625), ('�', 0.84619140625)], [('зем', 1.4853515625), (' Гро', 1.47265625), ('EAR', 1.4599609375), ('ENC', 1.3984375), (' static', 1.38671875)], [('лата', 0.8564453125), ('пе', 0.7197265625), ('bott', 0.6982421875), ('happ', 0.69287109375), (' Vo', 0.6865234375)]]\n",
      "Expert predictions by position: {3: {0: [('athan', 0.155029296875), ('oda', 0.1500244140625), ('onen', 0.14501953125), ('ocer', 0.138916015625), ('reet', 0.1356201171875)], 12: [('upy', 0.127197265625), (' sober', 0.09375), (' might', 0.09185791015625), (' again', 0.09075927734375), ('领导的', 0.09051513671875)], 15: [('�', 0.08648681640625), ('结果', 0.085205078125), ('1', 0.07861328125), ('but', 0.07806396484375), ('(', 0.07586669921875)], 20: [('isely', 0.15234375), ('集', 0.14697265625), ('toprule', 0.1456298828125), ('帽', 0.143310546875), (\"',\\\\\", 0.1431884765625)], 29: [('omla', 0.08599853515625), (' quadres', 0.08056640625), ('olt', 0.080078125), ('сена', 0.07977294921875), ('omys', 0.078857421875)], 54: [('леми', 0.10772705078125), ('HEMA', 0.10479736328125), ('gim', 0.0982666015625), ('IgnoreCase', 0.09783935546875), ('ensely', 0.09710693359375)]}, 9: {0: [('ikipedia', 0.12188720703125), ('OperationKind', 0.11761474609375), ('��', 0.1134033203125), ('meres', 0.1129150390625), ('igable', 0.11285400390625)], 14: [('phabet', 0.0640869140625), ('вана', 0.059814453125), ('ОН', 0.059478759765625), ('rodu', 0.058746337890625), ('ancellor', 0.058746337890625)], 18: [('лата', 1.10546875), ('淑', 1.0517578125), ('numerical', 1.005859375), ('inars', 0.96826171875), ('нена', 0.9384765625)], 20: [('��', 0.18505859375), ('9', 0.1533203125), ('4', 0.1527099609375), ('3', 0.1512451171875), ('8', 0.1417236328125)], 42: [(' ог', 0.151123046875), ('meric', 0.150390625), ('��', 0.1490478515625), ('ourse', 0.1483154296875), ('PHA', 0.146484375)], 43: [('ivan', 0.1483154296875), ('седа', 0.142578125), ('\\x0b', 0.1387939453125), ('верен', 0.13623046875), ('менен', 0.13525390625)]}, 5: {2: [('tons', 0.09698486328125), (' TE', 0.09259033203125), ('atically', 0.0911865234375), ('2', 0.09063720703125), ('�', 0.08831787109375)], 5: [(' Америка', 0.350341796875), ('aces', 0.343017578125), ('ages', 0.3203125), (' хан', 0.31689453125), ('橡', 0.315185546875)], 11: [('ница', 0.28515625), ('litza', 0.275634765625), ('zzo', 0.25927734375), (' industrials', 0.245361328125), (' integraven', 0.2430419921875)], 26: [('燃烧', 0.09356689453125), ('nesos', 0.08795166015625), (' Segon', 0.08642578125), ('ulse', 0.08380126953125), ('pides', 0.08319091796875)], 40: [('汰', 0.65673828125), ('adal', 0.650390625), ('-.', 0.57470703125), ('iska', 0.54638671875), ('憧', 0.5458984375)], 56: [('�乐', 0.153564453125), ('bars', 0.142822265625), ('unken', 0.1383056640625), ('FRAMES', 0.13134765625), ('德斯', 0.131103515625)]}, 8: {3: [('tables', 0.448974609375), ('inds', 0.406494140625), ('XS', 0.3857421875), (' empres', 0.385498046875), ('schen', 0.38427734375)], 17: [('зар', 0.061920166015625), ('уза', 0.056732177734375), (' repartia', 0.0565185546875), ('Descriptors', 0.056182861328125), ('estad', 0.055023193359375)], 23: [(' Loren', 0.1239013671875), ('乐', 0.114501953125), ('acte', 0.1142578125), (\"'>&\", 0.11199951171875), (' напо', 0.10699462890625)], 31: [('度的', 0.303955078125), ('�', 0.268798828125), ('lay', 0.2459716796875), ('raft', 0.2415771484375), ('ii', 0.2353515625)], 50: [('adre', 0.11907958984375), ('hift', 0.10986328125), ('████', 0.10296630859375), ('ritz', 0.1009521484375), ('çó', 0.10089111328125)], 58: [('ън', 0.0975341796875), ('calde', 0.0921630859375), ('etur', 0.0887451171875), ('ърс', 0.0828857421875), ('umen', 0.0828857421875)]}, 1: {5: [('ز', 0.42138671875), (' Америка', 0.38232421875), ('хайм', 0.381103515625), ('स', 0.372802734375), ('灯光', 0.365478515625)], 11: [(' Ho', 0.0772705078125), ('Ho', 0.07635498046875), ('ella', 0.0728759765625), ('ts', 0.07183837890625), ('amer', 0.06878662109375)], 26: [('孝', 0.353515625), (' Open', 0.33935546875), ('elebr', 0.31591796875), ('лон', 0.312255859375), (' Range', 0.306396484375)], 40: [('me', 0.1405029296875), ('eland', 0.1358642578125), (' Secretari', 0.12939453125), ('oke', 0.12841796875), ('гон', 0.1251220703125)], 41: [('inats', 0.067626953125), ('公积', 0.06109619140625), ('串', 0.060028076171875), ('СК', 0.05999755859375), ('bord', 0.05841064453125)], 58: [('onos', 0.30615234375), ('空的', 0.29638671875), ('空', 0.280029296875), (' Pirine', 0.279052734375), (' pacient', 0.275390625)]}, 6: {5: [(' n', 0.411376953125), (' -', 0.39892578125), ('荷', 0.349609375), ('自由', 0.3359375), ('承', 0.333740234375)], 11: [('5', 0.1444091796875), ('9', 0.1405029296875), ('1', 0.1297607421875), ('7', 0.1259765625), ('цио', 0.12127685546875)], 26: [('ръ', 0.34130859375), ('BlockIndex', 0.337158203125), ('GOR', 0.329833984375), ('Sponsored', 0.32958984375), (' grand', 0.3212890625)], 40: [('�乐', 0.485107421875), ('观点或立场', 0.4296875), (' paras', 0.412109375), ('ido', 0.404296875), ('Flags', 0.40234375)], 55: [('writeField', 0.40478515625), ('}$~\\\\', 0.38623046875), ('дено', 0.3681640625), ('ughed', 0.363525390625), ('escor', 0.3505859375)], 56: [('dures', 0.10235595703125), (' NS', 0.0970458984375), (' meanwhile', 0.095703125), ('tamb', 0.09332275390625), ('crumb', 0.09100341796875)]}, 2: {6: [('�乐', 0.275634765625), ('writeField', 0.270263671875), ('тру', 0.262939453125), ('estir', 0.26123046875), (' style', 0.256591796875)], 16: [('oors', 0.07635498046875), ('Окръг', 0.074951171875), ('mic', 0.0733642578125), ('rino', 0.07305908203125), (' Кън', 0.07196044921875)], 18: [(' свиде', 1.1201171875), ('astre', 1.0966796875), ('рета', 1.0517578125), ('igure', 1.0078125), ('лата', 0.98974609375)], 33: [('schen', 0.11956787109375), ('wk', 0.10162353515625), (' Ph', 0.09954833984375), ('AX', 0.098388671875), ('oos', 0.0982666015625)], 42: [('�', 0.6494140625), ('厥', 0.568359375), ('onium', 0.56494140625), (' Far', 0.54541015625), ('潮', 0.54150390625)], 63: [('orials', 0.1380615234375), ('ATIC', 0.12225341796875), ('estructures', 0.12176513671875), ('quets', 0.120361328125), ('uese', 0.11956787109375)]}, 7: {6: [('干的', 0.2646484375), ('rasal', 0.25830078125), ('inars', 0.256103515625), ('мените', 0.249267578125), ('мис', 0.24755859375)], 14: [('止', 0.13720703125), (' Йозеф', 0.116943359375), (' Vermella', 0.11212158203125), ('惜', 0.11077880859375), ('ων', 0.106201171875)], 18: [('弹', 1.1123046875), ('EAR', 1.068359375), (' v', 0.9619140625), ('ients', 0.912109375), (' y', 0.89697265625)], 48: [('пуляр', 0.16650390625), ('rim', 0.1661376953125), (' tempo', 0.16455078125), ('e', 0.1622314453125), ('4', 0.159423828125)], 50: [('onada', 0.1051025390625), ('ISTER', 0.09912109375), ('riger', 0.097412109375), ('壳', 0.09735107421875), ('imuth', 0.09478759765625)], 63: [('ade', 0.2386474609375), (' c', 0.23583984375), ('тис', 0.2353515625), ('VAE', 0.2333984375), ('坷', 0.2314453125)]}, 10: {12: [('ife', 0.24462890625), ('evo', 0.2421875), ('licks', 0.2384033203125), ('efi', 0.226806640625), ('мера', 0.216552734375)], 14: [(' Loading', 0.2022705078125), ('机', 0.1962890625), ('场上', 0.1910400390625), ('机组', 0.1829833984375), ('čí', 0.1824951171875)], 23: [('ificaci', 0.16064453125), ('ieft', 0.160400390625), ('ificat', 0.154296875), ('toire', 0.147705078125), ('LENT', 0.1475830078125)], 44: [('tols', 0.10821533203125), (' себе', 0.1004638671875), ('uil', 0.099365234375), ('нома', 0.0947265625), ('COMPI', 0.09368896484375)], 46: [(' themselves', 0.12200927734375), ('themselves', 0.1004638671875), (' assertNotNull', 0.10003662109375), ('朋', 0.0968017578125), (' each', 0.0936279296875)], 50: [('бран', 0.0733642578125), ('luck', 0.0694580078125), ('=\"__', 0.0679931640625), (' permalink', 0.0677490234375), ('定的', 0.0675048828125)]}, 4: {14: [(' br', 0.10089111328125), ('PO', 0.09991455078125), (' titular', 0.09942626953125), ('ients', 0.0960693359375), ('фо', 0.09417724609375)], 18: [('9', 0.0247802734375), ('0', 0.022979736328125), ('1', 0.0227813720703125), (' бел', 0.0218963623046875), ('ndon', 0.0218963623046875)], 32: [('erts', 0.1363525390625), ('ir', 0.115966796875), ('cle', 0.1063232421875), ('irk', 0.1060791015625), ('s', 0.10595703125)], 43: [('omic', 0.0537109375), ('яна', 0.051605224609375), ('offee', 0.048980712890625), (' grad', 0.04571533203125), ('andes', 0.045501708984375)], 61: [('zona', 0.105224609375), ('adesh', 0.10296630859375), ('oscal', 0.10260009765625), ('manda', 0.09954833984375), ('utad', 0.09912109375)], 63: [('\\xa0v', 0.443603515625), (' fechas', 0.383056640625), ('bok', 0.380126953125), ('çà', 0.373046875), ('omin', 0.371826171875)]}, 0: {18: [('BY', 0.5390625), ('�', 0.5302734375), ('无缘', 0.5126953125), ('деж', 0.5126953125), ('uld', 0.50048828125)], 35: [('9', 0.018157958984375), ('8', 0.017578125), ('5', 0.0174407958984375), ('7', 0.01715087890625), ('6', 0.0171051025390625)], 43: [('разу', 0.193603515625), ('eres', 0.1900634765625), ('eqno', 0.1859130859375), ('emos', 0.18310546875), ('enko', 0.1756591796875)], 44: [('ryptfs', 0.0176544189453125), ('wny', 0.0175323486328125), ('itars', 0.0169525146484375), (' Vout', 0.0166778564453125), ('вършва', 0.0165863037109375)], 49: [('dew', 0.0162811279296875), ('amely', 0.0152130126953125), ('厅', 0.01517486572265625), ('emade', 0.0143280029296875), ('elt', 0.01427459716796875)], 62: [('Това', 0.040618896484375), ('omin', 0.0404052734375), ('кор', 0.03924560546875), ('бела', 0.03863525390625), (' Hosp', 0.03814697265625)]}}\n",
      "Shared expert predictions: [[('opon', 0.3076171875), ('obres', 0.281982421875), ('lapse', 0.2685546875), (' пряко', 0.266845703125), ('淀', 0.2578125)], [('7', 0.86669921875), ('1', 0.83544921875), ('3', 0.83056640625), ('9', 0.8115234375), ('8', 0.79052734375)], [('QA', 0.875), ('cj', 0.85205078125), ('ORA', 0.8408203125), (' marins', 0.83837890625), (' (/', 0.83154296875)], [('ERA', 0.78857421875), ('QA', 0.75634765625), ('bok', 0.724609375), (' MAAS', 0.71337890625), ('�', 0.7060546875)], [('Населе', 0.90771484375), ('ORA', 0.80126953125), ('ulen', 0.78271484375), ('ODO', 0.744140625), ('OTO', 0.7373046875)], [('LHC', 0.7802734375), ('HIN', 0.7197265625), ('XYZ', 0.7060546875), ('NAL', 0.69384765625), ('ANI', 0.6923828125)], [('alien', 0.658203125), (' Word', 0.65576171875), ('沉迷', 0.61376953125), (' word', 0.61181640625), (' (', 0.611328125)], [('ятно', 0.84130859375), ('沉迷', 0.83251953125), ('ICS', 0.830078125), ('WL', 0.79443359375), ('建立起', 0.7861328125)], [('uren', 0.63720703125), ('ложен', 0.61865234375), ('ител', 0.60498046875), (' иконо', 0.603515625), ('[--', 0.59912109375)], [('лата', 0.8193359375), ('nj', 0.78564453125), ('NOSCRIPT', 0.76123046875), (' esl', 0.71875), ('лия', 0.70263671875)], [('лата', 0.65869140625), ('comm', 0.6240234375), ('COMM', 0.60498046875), ('茨', 0.6025390625), ('bott', 0.6005859375)]]\n",
      "\n",
      "MoE Layer 9:\n",
      "Selected experts: [[61, 49, 10, 43, 36, 33], [11, 18, 51, 21, 9, 34], [12, 47, 26, 49, 19, 20], [49, 52, 37, 54, 33, 34], [49, 47, 10, 51, 54, 59], [11, 40, 9, 62, 21, 14], [11, 40, 9, 62, 14, 21], [26, 49, 20, 47, 12, 51], [18, 16, 34, 46, 54, 57], [49, 51, 10, 12, 26, 59], [30, 55, 39, 13, 12, 57]]\n",
      "Expert weights: [[0.27392578125, 0.04095458984375, 0.03228759765625, 0.0284576416015625, 0.0263671875, 0.0246734619140625], [0.122802734375, 0.044921875, 0.08538818359375, 0.0443115234375, 0.033477783203125, 0.032196044921875], [0.0438232421875, 0.04095458984375, 0.1251220703125, 0.2388916015625, 0.032440185546875, 0.0294342041015625], [0.0404052734375, 0.092529296875, 0.0391845703125, 0.0496826171875, 0.036895751953125, 0.035552978515625], [0.11865234375, 0.061614990234375, 0.07025146484375, 0.06646728515625, 0.0472412109375, 0.047088623046875], [0.08935546875, 0.1082763671875, 0.0936279296875, 0.08551025390625, 0.07904052734375, 0.0706787109375], [0.1981201171875, 0.093994140625, 0.089599609375, 0.0743408203125, 0.0738525390625, 0.07122802734375], [0.086181640625, 0.0750732421875, 0.06219482421875, 0.05126953125, 0.04254150390625, 0.0418701171875], [0.05487060546875, 0.1029052734375, 0.04266357421875, 0.042205810546875, 0.04180908203125, 0.0367431640625], [0.1849365234375, 0.06683349609375, 0.05413818359375, 0.047332763671875, 0.033935546875, 0.0298919677734375], [0.0604248046875, 0.053680419921875, 0.053070068359375, 0.052001953125, 0.044769287109375, 0.04296875]]\n",
      "Combined output tokens: [[('肋', 1.998046875), ('яна', 1.9228515625), ('jem', 1.8603515625), ('andes', 1.8203125), ('зар', 1.71875)], [(' unselected', 0.95703125), ('lorn', 0.861328125), ('alc', 0.83642578125), ('semb', 0.83203125), (' @}', 0.7958984375)], [('��', 1.775390625), ('拣', 1.6708984375), ('abat', 1.4140625), ('XHR', 1.3779296875), ('捡', 1.3564453125)], [('subNav', 0.98681640625), ('robat', 0.896484375), ('irons', 0.87646484375), ('meros', 0.87548828125), ('FNGL', 0.8486328125)], [('codes', 1.095703125), ('AIPS', 1.076171875), ('孜', 1.0009765625), ('津贴', 0.990234375), ('开辟', 0.990234375)], [('�', 1.00390625), (' fing', 0.92333984375), ('цо', 0.912109375), ('ettes', 0.89404296875), ('цов', 0.859375)], [('�', 1.2529296875), ('泽', 1.2255859375), ('CKS', 1.1845703125), (' cyan', 1.1318359375), ('分校', 1.1259765625)], [('4', 0.93408203125), ('ICS', 0.9248046875), ('0', 0.91845703125), ('9', 0.91162109375), ('ATE', 0.8974609375)], [('cip', 1.318359375), ('憧', 1.2568359375), ('邑', 1.1259765625), ('民', 1.1044921875), (' P', 1.0947265625)], [('准', 1.513671875), ('on', 1.248046875), ('itic', 1.0869140625), ('ie', 1.0849609375), ('os', 1.068359375)], [('��', 0.7861328125), ('组成员', 0.7763671875), ('毛', 0.76904296875), (' VAC', 0.76513671875), ('nameof', 0.75830078125)]]\n",
      "Expert predictions by position: {1: {9: [('ioned', 0.262939453125), ('йки', 0.248046875), ('yz', 0.2264404296875), ('яване', 0.224609375), ('кт', 0.2208251953125)], 11: [('��', 0.56396484375), ('esModule', 0.53857421875), (' Ловеч', 0.509765625), ('dri', 0.49462890625), ('nodev', 0.485595703125)], 18: [('urrection', 0.1260986328125), ('хт', 0.10809326171875), ('arien', 0.1070556640625), (' i', 0.10614013671875), ('黏', 0.1060791015625)], 21: [('NH', 0.1806640625), ('发生在', 0.16552734375), (' www', 0.162109375), ('迈', 0.1600341796875), ('Sl', 0.15625)], 34: [('inot', 0.06756591796875), ('itable', 0.06536865234375), ('feres', 0.0638427734375), ('inoa', 0.060516357421875), ('ultor', 0.06024169921875)], 51: [('��', 0.25390625), ('立卡', 0.252685546875), (' g', 0.248046875), (' A', 0.242919921875), ('HOR', 0.24169921875)]}, 5: {9: [(' h', 0.225341796875), (' AC', 0.2003173828125), (' P', 0.1983642578125), (' &', 0.197265625), ('…', 0.195068359375)], 11: [('倒了', 0.331787109375), ('buk', 0.328857421875), ('дител', 0.32470703125), ('amina', 0.309814453125), ('linked', 0.300048828125)], 14: [('kh', 0.1400146484375), ('Други', 0.1378173828125), ('aid', 0.131103515625), ('ucks', 0.1297607421875), ('тропо', 0.120849609375)], 21: [('Aff', 0.11492919921875), (' иконо', 0.09722900390625), ('квата', 0.09710693359375), ('ansi', 0.09588623046875), (' tecnologies', 0.093994140625)], 40: [('юсюл', 0.3623046875), ('DOCKED', 0.33251953125), (' Lieja', 0.311279296875), ('matically', 0.297119140625), ('cides', 0.2939453125)], 62: [('质', 0.1795654296875), ('paramtype', 0.170654296875), (' аресту', 0.163818359375), ('arcelon', 0.1624755859375), ('图片发自简书', 0.1610107421875)]}, 6: {9: [('�', 0.07958984375), ('�', 0.07647705078125), ('\"><!--', 0.074951171875), ('\\ufeff\\ufeff', 0.07415771484375), ('<｜begin▁of▁sentence｜>', 0.07379150390625)], 11: [('unding', 0.97265625), ('PORTS', 0.966796875), ('oys', 0.94384765625), ('ainty', 0.94140625), ('ao', 0.91748046875)], 14: [('йски', 0.1234130859375), ('hil', 0.12200927734375), ('igens', 0.11590576171875), ('sal', 0.1138916015625), ('有色', 0.109619140625)], 21: [('4', 0.244140625), ('3', 0.2392578125), ('2', 0.23046875), ('0', 0.2259521484375), ('7', 0.216796875)], 40: [('DOCKED', 0.469970703125), ('cnics', 0.441162109375), (' избори', 0.43896484375), ('inars', 0.437744140625), ('硬化', 0.426513671875)], 62: [('娠', 0.2265625), ('rag', 0.212158203125), ('ъри', 0.206787109375), ('ствия', 0.205810546875), ('JPG', 0.203369140625)]}, 0: {10: [('2', 0.2030029296875), ('1', 0.18310546875), ('3', 0.173583984375), ('6', 0.1727294921875), ('0', 0.1697998046875)], 33: [('�', 0.021148681640625), ('�', 0.01812744140625), ('�', 0.0175933837890625), ('claimer', 0.017059326171875), ('oust', 0.016876220703125)], 36: [('строй', 0.01410675048828125), ('ures', 0.013763427734375), ('ura', 0.0135345458984375), ('ua', 0.0133514404296875), ('ure', 0.0133514404296875)], 43: [('съ', 0.0218658447265625), ('ohn', 0.0173492431640625), ('тъ', 0.0155181884765625), ('nicamente', 0.01548004150390625), ('perty', 0.01535797119140625)], 49: [('读', 0.6669921875), ('encial', 0.64111328125), ('abajo', 0.634765625), ('pzc', 0.6005859375), ('atural', 0.60009765625)], 61: [('肋', 1.896484375), ('andes', 1.69140625), ('jem', 1.662109375), ('яна', 1.60546875), (' Naz', 1.580078125)]}, 4: {10: [('ttle', 0.0132904052734375), ('spath', 0.01239013671875), ('swire', 0.0122222900390625), ('忆', 0.011932373046875), ('anes', 0.01183319091796875)], 47: [(' Obj', 0.24169921875), ('avall', 0.2398681640625), ('itae', 0.2353515625), (' informes', 0.2305908203125), ('ildo', 0.2261962890625)], 49: [('卜', 0.8505859375), ('��', 0.8212890625), ('准', 0.81591796875), ('hered', 0.8125), (' Washer', 0.8056640625)], 51: [('��', 0.337158203125), (' оку', 0.27783203125), ('��', 0.275390625), ('tely', 0.265869140625), ('�乐', 0.259521484375)], 54: [('тис', 0.0867919921875), ('巡', 0.07861328125), ('apa', 0.076904296875), ('惜', 0.07427978515625), (' popular', 0.0728759765625)], 59: [('pon', 0.159423828125), ('})$-', 0.152587890625), ('unga', 0.151611328125), ('thernet', 0.150146484375), ('容', 0.14990234375)]}, 9: {10: [('� ', 0.20654296875), ('ZY', 0.2034912109375), ('0', 0.196044921875), ('delt', 0.1910400390625), ('8', 0.1871337890625)], 12: [('евру', 0.200927734375), ('��', 0.169189453125), ('Македония', 0.151123046875), ('��', 0.1474609375), (\"__':\", 0.1419677734375)], 26: [('2', 0.1654052734375), ('9', 0.15966796875), ('1', 0.1583251953125), ('7', 0.1583251953125), ('0', 0.15234375)], 49: [('WSER', 0.4091796875), ('FNGL', 0.35302734375), ('locar', 0.321044921875), (' thead', 0.3173828125), ('phants', 0.313720703125)], 51: [('星驰', 0.148681640625), ('台', 0.144775390625), ('贴', 0.1380615234375), ('承', 0.1357421875), ('泡', 0.132080078125)], 59: [('hatt', 0.07940673828125), (' stratification', 0.07781982421875), ('iemont', 0.0755615234375), ('icken', 0.0745849609375), ('elsius', 0.07391357421875)]}, 2: {12: [('евру', 0.1654052734375), ('бю', 0.162841796875), (' оси', 0.1627197265625), ('agi', 0.1607666015625), ('шава', 0.1568603515625)], 19: [('ailability', 0.09735107421875), ('lements', 0.09130859375), ('atron', 0.09075927734375), ('ocom', 0.0906982421875), (' Доб', 0.08966064453125)], 20: [('ver', 0.055389404296875), ('›', 0.0531005859375), ('演', 0.05291748046875), ('Кри', 0.052642822265625), (' Lin', 0.052490234375)], 26: [('Stud', 0.427490234375), ('.~(', 0.408447265625), ('8', 0.407470703125), ('7', 0.40478515625), ('9', 0.398193359375)], 47: [('resse', 0.12310791015625), ('号的', 0.11419677734375), ('终点', 0.10711669921875), (' Schur', 0.10400390625), ('OLEAN', 0.10321044921875)], 49: [('SOURCE', 0.26953125), ('SPHINX', 0.26220703125), ('MEDIA', 0.26220703125), ('Clock', 0.251708984375), ('8', 0.2449951171875)]}, 7: {12: [('ude', 0.13623046875), ('жан', 0.12213134765625), ('мни', 0.1171875), ('etre', 0.1153564453125), ('off', 0.11468505859375)], 20: [('际', 0.169677734375), ('second', 0.1605224609375), ('e', 0.157470703125), ('沛', 0.1544189453125), ('ere', 0.15380859375)], 26: [('pload', 0.72607421875), ('дения', 0.720703125), ('经》', 0.69921875), ('ď', 0.69677734375), (' произход', 0.69189453125)], 47: [('Ђ', 0.1925048828125), (' federaci', 0.1829833984375), ('тере', 0.1807861328125), ('empre', 0.1710205078125), ('��', 0.169921875)], 49: [('xec', 1.087890625), ('istic', 0.93408203125), ('MEDIA', 0.89453125), ('柏', 0.85986328125), ('ertes', 0.84619140625)], 51: [('gress', 0.33203125), ('泡', 0.321533203125), (' FA', 0.317138671875), ('vena', 0.315185546875), ('usi', 0.311767578125)]}, 10: {12: [('opolitan', 0.1114501953125), ('зи', 0.1109619140625), ('ylene', 0.109619140625), ('евру', 0.1036376953125), (' senz', 0.103515625)], 13: [(' същест', 0.1083984375), (' ръковод', 0.1065673828125), ('ondre', 0.10498046875), ('ptime', 0.1048583984375), ('Llib', 0.10479736328125)], 30: [('brig', 0.146728515625), ('Partit', 0.13525390625), ('мък', 0.1309814453125), ('ляр', 0.1290283203125), ('они', 0.1287841796875)], 39: [('дир', 0.140380859375), ('utch', 0.1337890625), ('anol', 0.1319580078125), (' WARRANT', 0.12152099609375), ('allels', 0.11962890625)], 55: [('regu', 0.12017822265625), ('llib', 0.11090087890625), ('лим', 0.10772705078125), (' void', 0.1070556640625), ('брехт', 0.10614013671875)], 57: [('卸', 0.0992431640625), ('двиг', 0.08648681640625), ('дев', 0.0860595703125), (' тит', 0.085205078125), ('换', 0.08428955078125)]}, 8: {16: [('立方', 1.056640625), ('ialog', 0.99462890625), ('aveu', 0.9697265625), ('itiu', 0.96240234375), ('вал', 0.93896484375)], 18: [('patch', 0.09259033203125), ('uji', 0.08880615234375), ('QT', 0.08807373046875), (' n', 0.087890625), ('草', 0.0867919921875)], 34: [(' ', 0.096923828125), ('enches', 0.09234619140625), ('iche', 0.09173583984375), ('株', 0.089111328125), ('ialect', 0.0855712890625)], 46: [('ctions', 0.11663818359375), ('Македония', 0.1085205078125), ('чена', 0.10833740234375), ('чите', 0.10418701171875), (' InRelease', 0.10296630859375)], 54: [('9', 0.2266845703125), ('2', 0.1951904296875), ('0', 0.1907958984375), ('6', 0.1826171875), ('8', 0.1824951171875)], 57: [('xford', 0.10931396484375), ('首', 0.1070556640625), ('ikit', 0.106201171875), ('forter', 0.1051025390625), ('dataTables', 0.1024169921875)]}, 3: {33: [('HING', 0.09716796875), ('�', 0.09130859375), ('вици', 0.0887451171875), (' whereof', 0.088623046875), ('::_', 0.08807373046875)], 34: [('sol', 0.07196044921875), (' sol', 0.0712890625), ('dim', 0.0660400390625), ('agut', 0.065673828125), ('dup', 0.06512451171875)], 37: [(' e', 0.1484375), ('рит', 0.1282958984375), ('3', 0.12255859375), ('=\"../_', 0.12139892578125), (' _', 0.12017822265625)], 49: [(' ', 0.04327392578125), (' -', 0.04296875), ('o', 0.039825439453125), ('jem', 0.03900146484375), ('яна', 0.03857421875)], 52: [('avin', 0.346923828125), ('gmd', 0.341796875), ('计时', 0.334716796875), ('los', 0.320556640625), ('elog', 0.314208984375)], 54: [('enario', 0.1129150390625), ('THON', 0.107177734375), ('umno', 0.105712890625), ('mera', 0.10540771484375), (' diss', 0.1053466796875)]}}\n",
      "Shared expert predictions: [[('��', 0.2900390625), ('яна', 0.260986328125), ('kem', 0.2568359375), ('系的', 0.2186279296875), ('兰特', 0.21533203125)], [('@{', 0.65625), ('itud', 0.541015625), ('emb', 0.52685546875), ('$\\\\%', 0.52001953125), ('瞻', 0.51953125)], [('пове', 0.708984375), ('ERA', 0.7060546875), ('QA', 0.70458984375), ('EqualTo', 0.6435546875), ('otron', 0.630859375)], [('静静', 0.7216796875), ('броява', 0.71923828125), ('wered', 0.685546875), (' Рейн', 0.6796875), ('($\\\\', 0.6640625)], [(' observat', 0.7265625), ('ILS', 0.69580078125), ('inam', 0.658203125), ('Alguien', 0.65576171875), (' SqlCommand', 0.64794921875)], [('3', 0.6533203125), ('悍', 0.62353515625), ('cept', 0.6181640625), ('USTER', 0.6103515625), ('深入推进', 0.59814453125)], [('wered', 0.6533203125), ('3', 0.62109375), ('рад', 0.61083984375), ('ava', 0.60498046875), ('开辟', 0.60205078125)], [('择', 0.7451171875), ('ANE', 0.7333984375), ('核', 0.69140625), ('ledge', 0.6767578125), ('疲惫', 0.67333984375)], [(' C', 0.67236328125), ('седа', 0.66943359375), ('жата', 0.654296875), ('мика', 0.6435546875), (' synchronized', 0.64111328125)], [('ui', 0.779296875), ('对这个', 0.77099609375), ('—', 0.7255859375), ('ie', 0.7119140625), ('ye', 0.67333984375)], [('嘘', 0.720703125), ('icas', 0.67822265625), (' VAC', 0.6767578125), ('��', 0.66943359375), (' nont', 0.6552734375)]]\n",
      "\n",
      "MoE Layer 10:\n",
      "Selected experts: [[0, 45, 42, 33, 24, 63], [0, 1, 8, 41, 56, 24], [50, 26, 63, 60, 53, 37], [48, 41, 58, 21, 23, 20], [50, 24, 23, 7, 57, 19], [21, 1, 10, 18, 13, 29], [1, 8, 10, 21, 27, 13], [47, 50, 26, 53, 37, 60], [41, 1, 27, 21, 34, 46], [45, 23, 7, 50, 19, 57], [56, 23, 57, 45, 34, 35]]\n",
      "Expert weights: [[0.04034423828125, 0.04742431640625, 0.12457275390625, 0.09552001953125, 0.117919921875, 0.029937744140625], [0.061309814453125, 0.05084228515625, 0.1033935546875, 0.21630859375, 0.039276123046875, 0.034637451171875], [0.155029296875, 0.0946044921875, 0.0704345703125, 0.039703369140625, 0.033416748046875, 0.0333251953125], [0.036102294921875, 0.3583984375, 0.035919189453125, 0.0277557373046875, 0.033477783203125, 0.027008056640625], [0.1630859375, 0.06976318359375, 0.0582275390625, 0.050201416015625, 0.0472412109375, 0.039306640625], [0.1396484375, 0.154052734375, 0.09033203125, 0.038909912109375, 0.049041748046875, 0.032073974609375], [0.09967041015625, 0.08795166015625, 0.08319091796875, 0.07958984375, 0.054412841796875, 0.039306640625], [0.07171630859375, 0.1114501953125, 0.08526611328125, 0.07843017578125, 0.04925537109375, 0.04034423828125], [0.270751953125, 0.041259765625, 0.08697509765625, 0.0357666015625, 0.029449462890625, 0.029296875], [0.048980712890625, 0.054534912109375, 0.07183837890625, 0.1409912109375, 0.045806884765625, 0.035980224609375], [0.190673828125, 0.05474853515625, 0.044769287109375, 0.0433349609375, 0.042022705078125, 0.032928466796875]]\n",
      "Combined output tokens: [[(' fres', 0.90625), ('яна', 0.904296875), (' препратки', 0.826171875), ('andes', 0.82421875), ('idera', 0.7978515625)], [('лит', 1.44140625), ('ygon', 1.40234375), ('取出', 1.373046875), ('liers', 1.328125), ('lier', 1.248046875)], [('ASM', 1.5546875), ('wk', 1.546875), ('ODO', 1.509765625), ('ASA', 1.4248046875), ('amena', 1.4013671875)], [('atered', 4.078125), ('HDA', 3.966796875), ('饪', 3.8828125), ('肢', 3.8671875), ('军区', 3.822265625)], [('ASA', 1.4541015625), ('ODO', 1.40625), ('ASM', 1.34765625), ('\\\\}^', 1.30078125), ('fram', 1.2919921875)], [('Вън', 1.443359375), (' Гър', 1.357421875), (' hisp', 1.2685546875), ('$~\\\\', 1.2373046875), ('YL', 1.228515625)], [('вата', 1.08984375), ('�', 1.0341796875), ('уна', 1.03125), ('牢固', 1.0087890625), ('LZ', 1.0048828125)], [('ICS', 1.2451171875), ('OE', 1.224609375), ('ICT', 1.1923828125), ('HCI', 1.1318359375), ('жени', 1.123046875)], [('Vtbl', 1.767578125), ('$~\\\\', 1.720703125), ('.}.', 1.6611328125), ('}.\\\\\\\\', 1.6318359375), ('ARA', 1.6025390625)], [('fram', 1.7021484375), ('Views', 1.3193359375), ('髦', 1.294921875), ('CCA', 1.26171875), ('LW', 1.25390625)], [('油', 1.7587890625), ('ARC', 1.6748046875), ('ritical', 1.6640625), ('blink', 1.64453125), ('AVA', 1.60546875)]]\n",
      "Expert predictions by position: {0: {0: [('�', 0.04010009765625), ('8', 0.03924560546875), ('0', 0.0389404296875), ('6', 0.03826904296875), ('9', 0.037811279296875)], 24: [('卵管', 0.031982421875), ('】【', 0.030670166015625), ('aptics', 0.0306549072265625), ('сор', 0.0306396484375), (' препратки', 0.029449462890625)], 33: [('яна', 0.39599609375), ('frak', 0.337158203125), ('idera', 0.3232421875), (' fres', 0.31689453125), ('apac', 0.314208984375)], 42: [('яна', 0.333984375), (' fres', 0.330078125), ('frak', 0.28662109375), ('andes', 0.279541015625), ('卸', 0.27587890625)], 45: [(')\"/>', 0.1378173828125), ('dera', 0.1260986328125), ('мън', 0.12005615234375), ('ucion', 0.1181640625), ('eldorf', 0.11810302734375)], 63: [('mide', 0.2130126953125), ('guer', 0.2088623046875), ('itemap', 0.187255859375), ('ider', 0.1834716796875), ('gtr', 0.1817626953125)]}, 1: {0: [(' **', 0.2509765625), (' _', 0.232421875), ('凯', 0.2288818359375), ('仁', 0.2281494140625), (' \\\\', 0.2279052734375)], 1: [('Enumerator', 0.1363525390625), (' denom', 0.12493896484375), (' надморска', 0.122314453125), (' Duncker', 0.12200927734375), ('slaught', 0.11737060546875)], 8: [('ygon', 0.314208984375), ('ностите', 0.28369140625), ('ausa', 0.281494140625), ('ности', 0.2783203125), ('idden', 0.268310546875)], 24: [('цяло', 0.10906982421875), ('върх', 0.1029052734375), ('ейнт', 0.0947265625), ('ToolStripMenuItem', 0.0894775390625), ('евру', 0.08935546875)], 41: [('igues', 1.1318359375), ('чка', 1.109375), ('angeli', 1.0546875), ('cliff', 1.0400390625), ('bea', 1.03515625)], 56: [('xspace', 0.11138916015625), ('WISE', 0.11126708984375), ('estra', 0.1103515625), ('ely', 0.10784912109375), (' comunes', 0.10650634765625)]}, 5: {1: [('тика', 0.420166015625), ('тини', 0.412353515625), ('�', 0.404052734375), (' signes', 0.40234375), ('ח', 0.37353515625)], 10: [('WireFormat', 0.73046875), ('пява', 0.6630859375), ('незия', 0.66259765625), ('pazocal', 0.65673828125), (' xar', 0.65380859375)], 13: [('onte', 0.13818359375), ('perse', 0.1373291015625), ('轼', 0.13330078125), ('ersal', 0.1331787109375), ('neut', 0.1300048828125)], 18: [('фан', 0.153076171875), ('ievers', 0.1422119140625), ('reb', 0.135498046875), ('@{', 0.1328125), ('irms', 0.1300048828125)], 21: [('�', 0.10980224609375), ('}$~\\\\', 0.103515625), ('unya', 0.10205078125), ('ulia', 0.10150146484375), ('цяло', 0.10052490234375)], 29: [(' tribu', 0.1248779296875), ('гон', 0.1212158203125), ('ushes', 0.113037109375), ('的健康', 0.106201171875), (' declarat', 0.102294921875)]}, 6: {1: [('urally', 0.278076171875), ('ват', 0.27587890625), ('atives', 0.2734375), ('mares', 0.268310546875), ('το', 0.267578125)], 8: [('uesa', 0.29638671875), ('iled', 0.279541015625), ('角', 0.265869140625), ('\\ufeff\\ufeff\\ufeff\\ufeff', 0.2470703125), ('ollow', 0.2469482421875)], 10: [('IEEEeqnarray', 0.5888671875), (' Кън', 0.5556640625), ('mathbold', 0.51416015625), (' Гър', 0.50927734375), ('вайг', 0.5048828125)], 13: [('редиземно', 0.107421875), ('googleads', 0.10052490234375), ('amic', 0.0970458984375), (' вале', 0.0963134765625), (' Съеди', 0.09454345703125)], 21: [(' Packages', 0.273681640625), (' packages', 0.2337646484375), ('�', 0.2205810546875), ('蒙', 0.219970703125), ('packages', 0.2127685546875)], 27: [('兄', 0.1934814453125), (' relle', 0.1859130859375), ('insic', 0.1763916015625), ('Unmarshaller', 0.1759033203125), (']-->', 0.1715087890625)]}, 8: {1: [('Keywords', 0.185791015625), ('стур', 0.18115234375), ('ове', 0.176513671875), ('oles', 0.172607421875), (' broch', 0.171142578125)], 21: [('iral', 0.08282470703125), ('usts', 0.076904296875), ('pit', 0.07598876953125), ('结', 0.07574462890625), (' vac', 0.0755615234375)], 27: [('icast', 0.28173828125), (' «', 0.27880859375), ('TEN', 0.2666015625), ('IPU', 0.26123046875), (' nont', 0.259765625)], 34: [('llar', 0.1033935546875), ('漏', 0.099853515625), ('curs', 0.099365234375), (' ще', 0.0958251953125), ('rable', 0.0955810546875)], 41: [('pzc', 1.44921875), ('ierge', 1.416015625), ('PYG', 1.3955078125), ('ус', 1.359375), ('utics', 1.3505859375)], 46: [('my', 0.08111572265625), ('urant', 0.08056640625), ('by', 0.080322265625), ('My', 0.0799560546875), ('遮', 0.07794189453125)]}, 4: {7: [('annels', 0.1807861328125), ('̀', 0.1788330078125), ('↳', 0.1707763671875), ('annel', 0.1707763671875), ('omely', 0.1705322265625)], 19: [('ικ', 0.10833740234375), ('abla', 0.1025390625), ('ockets', 0.0921630859375), ('mica', 0.0887451171875), ('ogle', 0.0848388671875)], 23: [('bidden', 0.169677734375), ('bang', 0.1629638671875), ('bl', 0.15673828125), ('blk', 0.154052734375), ('ilt', 0.1500244140625)], 24: [('dep', 0.27490234375), ('riam', 0.2587890625), ('gard', 0.241943359375), (' dep', 0.2384033203125), ('urn', 0.2197265625)], 50: [('lsk', 0.80859375), ('ALD', 0.77490234375), ('ath', 0.75048828125), ('iene', 0.73974609375), ('читат', 0.6904296875)], 57: [('ness', 0.10406494140625), ('να', 0.10198974609375), ('ings', 0.09906005859375), ('ibr', 0.09283447265625), ('ze', 0.089599609375)]}, 9: {7: [(' denominat', 0.35205078125), (' вери', 0.34033203125), ('indo', 0.33935546875), ('кса', 0.320068359375), ('ermost', 0.318603515625)], 19: [('\\xa0g', 0.130126953125), ('rowColor', 0.11761474609375), ('斗', 0.1168212890625), ('\\xa0v', 0.11590576171875), (' Gly', 0.10870361328125)], 23: [('塞尔', 0.19091796875), ('UTO', 0.1798095703125), ('Coder', 0.171142578125), ('素', 0.171142578125), ('估', 0.1683349609375)], 45: [('ollo', 0.11651611328125), (' уси', 0.11181640625), ('亚马', 0.10986328125), ('pmd', 0.1055908203125), ('Живо', 0.10467529296875)], 50: [('AIPS', 0.369873046875), ('доб', 0.363037109375), ('agger', 0.3486328125), (' Red', 0.33349609375), ('lits', 0.333251953125)], 57: [('2', 0.1298828125), ('8', 0.12139892578125), ('3', 0.12030029296875), ('1', 0.1185302734375), ('0', 0.11566162109375)]}, 3: {20: [('idor', 0.066650390625), ('差的', 0.06640625), (' inf', 0.06256103515625), (' включени', 0.05914306640625), (' next', 0.059051513671875)], 21: [('agr', 0.439208984375), ('osp', 0.438232421875), ('рад', 0.428955078125), (' vac', 0.39794921875), (' тера', 0.392578125)], 23: [(' C', 0.1038818359375), ('oldt', 0.10369873046875), ('Estad', 0.0987548828125), ('caster', 0.096923828125), ('casters', 0.09539794921875)], 41: [('omitempty', 3.7734375), ('饪', 3.759765625), ('肢', 3.734375), ('atered', 3.6953125), ('HDA', 3.68359375)], 48: [('enance', 0.10772705078125), ('avin', 0.105224609375), ('andria', 0.10211181640625), ('бни', 0.10076904296875), ('lor', 0.1002197265625)], 58: [('igure', 0.1729736328125), ('\\xa0part', 0.170654296875), ('��', 0.1585693359375), ('дъх', 0.1510009765625), ('ЕФА', 0.148193359375)]}, 10: {23: [('RL', 0.1591796875), ('win', 0.154541015625), ('@', 0.1492919921875), (' Rip', 0.142822265625), (' Defined', 0.141845703125)], 34: [('��', 0.0877685546875), ('$-', 0.07275390625), (' Base', 0.0716552734375), ('ams', 0.0714111328125), ('тури', 0.07122802734375)], 35: [('plusplus', 0.10736083984375), ('копа', 0.10064697265625), ('vies', 0.094482421875), ('utad', 0.09259033203125), ('adesh', 0.08941650390625)], 45: [('inclo', 0.0340576171875), ('lega', 0.033477783203125), ('SPHINX', 0.032958984375), ('ober', 0.03204345703125), ('��', 0.03167724609375)], 56: [('油', 1.6142578125), ('油的', 1.5947265625), ('тай', 1.5439453125), ('\">(</', 1.5126953125), ('astre', 1.4609375)], 57: [('iceless', 0.07781982421875), ('ices', 0.07757568359375), ('}$~\\\\', 0.07647705078125), ('温', 0.0758056640625), (' тона', 0.07525634765625)]}, 2: {26: [('мир', 0.65625), ('itons', 0.64599609375), ('杭', 0.64453125), ('eqno', 0.6376953125), ('桂', 0.61962890625)], 37: [('对外', 0.07708740234375), ('уре', 0.0765380859375), ('Press', 0.07452392578125), ('ā', 0.072509765625), ('app', 0.070556640625)], 50: [('pere', 1.05078125), ('checkered', 0.9345703125), ('lud', 0.90966796875), ('мс', 0.8916015625), ('lum', 0.8837890625)], 53: [('域', 0.08172607421875), ('enance', 0.0748291015625), ('举', 0.07342529296875), ('{\\\\,\\\\', 0.07196044921875), ('oes', 0.07183837890625)], 60: [(' преди', 0.10009765625), (' tarda', 0.09344482421875), ('Answer', 0.09002685546875), ('畅', 0.08624267578125), (' стра', 0.08447265625)], 63: [('тров', 0.02947998046875), ('ambre', 0.0264739990234375), ('kerel', 0.025848388671875), ('灭', 0.0247802734375), ('aspoon', 0.0232696533203125)]}, 7: {26: [('斗', 0.5537109375), ('ubre', 0.5224609375), ('нове', 0.490478515625), ('9', 0.4892578125), ('tte', 0.48486328125)], 37: [(' Seats', 0.1734619140625), ('gr', 0.1727294921875), ('eco', 0.154541015625), ('ulen', 0.154296875), ('ault', 0.15380859375)], 47: [('iolet', 0.3544921875), ('omini', 0.349853515625), ('makeText', 0.335693359375), ('изанти', 0.31689453125), ('лец', 0.30712890625)], 50: [('春风', 0.8740234375), ('mered', 0.83154296875), ('ought', 0.8203125), ('髦', 0.80859375), ('fram', 0.78271484375)], 53: [(' продава', 0.198974609375), ('izen', 0.1805419921875), ('春', 0.1796875), ('estad', 0.17333984375), ('性地', 0.168701171875)], 60: [('Sl', 0.113525390625), ('пуска', 0.11077880859375), (' Каме', 0.09857177734375), ('ASM', 0.09820556640625), ('ъг', 0.09814453125)]}}\n",
      "Shared expert predictions: [[('�乐', 0.268798828125), ('osure', 0.266845703125), ('inced', 0.265869140625), ('iclismo', 0.2578125), ('onds', 0.257568359375)], [('adem', 0.73681640625), ('лата', 0.69970703125), ('frak', 0.60986328125), ('苦恼', 0.5859375), ('ICA', 0.56005859375)], [('ASA', 0.8095703125), ('ASM', 0.80419921875), ('ENC', 0.79345703125), ('�', 0.77978515625), ('面目', 0.7724609375)], [('韬', 1.0048828125), ('建华', 0.97607421875), ('ixa', 0.96875), ('徘', 0.96630859375), ('uana', 0.93505859375)], [('ASM', 1.04296875), ('Герман', 0.98388671875), ('){};', 0.98291015625), ('ODO', 0.95361328125), ('NDB', 0.93408203125)], [('tage', 0.8828125), ('fmf', 0.79931640625), ('ASA', 0.79736328125), ('ASM', 0.78564453125), ('ICA', 0.77734375)], [('3', 0.73046875), ('ICA', 0.7275390625), ('4', 0.71630859375), ('ICO', 0.7021484375), ('8', 0.65283203125)], [('匆匆', 0.9892578125), ('#:', 0.98193359375), ('INO', 0.935546875), ('CDCD', 0.93359375), ('ICS', 0.92578125)], [('geries', 0.796875), ('escap', 0.78955078125), ('alleled', 0.76708984375), ('Община', 0.75390625), ('增压', 0.7275390625)], [('Община', 0.85693359375), ('INO', 0.845703125), ('Views', 0.80615234375), ('ences', 0.8046875), (' $+', 0.7939453125)], [(' Comen', 0.81982421875), ('徘徊', 0.77294921875), (' consum', 0.74072265625), ('在地', 0.7275390625), ('匆匆', 0.7099609375)]]\n",
      "\n",
      "MoE Layer 11:\n",
      "Selected experts: [[24, 42, 53, 2, 37, 58], [56, 38, 14, 6, 30, 5], [49, 34, 33, 11, 43, 20], [8, 17, 21, 3, 4, 19], [46, 37, 53, 21, 62, 49], [6, 14, 28, 55, 41, 1], [28, 56, 14, 6, 38, 32], [46, 43, 53, 37, 49, 10], [36, 38, 32, 12, 19, 44], [21, 37, 53, 46, 43, 50], [0, 62, 40, 24, 19, 63]]\n",
      "Expert weights: [[0.124755859375, 0.0611572265625, 0.045989990234375, 0.044403076171875, 0.044189453125, 0.0416259765625], [0.11444091796875, 0.0799560546875, 0.06103515625, 0.0543212890625, 0.042938232421875, 0.042266845703125], [0.115234375, 0.0574951171875, 0.074951171875, 0.045745849609375, 0.0450439453125, 0.04327392578125], [0.04254150390625, 0.08575439453125, 0.06072998046875, 0.03826904296875, 0.037750244140625, 0.03350830078125], [0.071533203125, 0.10302734375, 0.102783203125, 0.05633544921875, 0.05029296875, 0.040863037109375], [0.1715087890625, 0.12139892578125, 0.0853271484375, 0.045989990234375, 0.038055419921875, 0.0313720703125], [0.042755126953125, 0.04925537109375, 0.0635986328125, 0.1708984375, 0.10333251953125, 0.031280517578125], [0.0760498046875, 0.0386962890625, 0.06231689453125, 0.0732421875, 0.185546875, 0.036376953125], [0.100341796875, 0.072265625, 0.0560302734375, 0.034027099609375, 0.032867431640625, 0.032257080078125], [0.054168701171875, 0.059967041015625, 0.055572509765625, 0.16650390625, 0.04412841796875, 0.0428466796875], [0.0293121337890625, 0.033203125, 0.0298309326171875, 0.2587890625, 0.06085205078125, 0.029083251953125]]\n",
      "Combined output tokens: [[('一笔', 0.5029296875), ('enys', 0.48095703125), ('жени', 0.478271484375), ('IQUE', 0.447998046875), ('ORA', 0.43359375)], [('悠悠', 1.052734375), ('тис', 1.01953125), ('enforce', 0.94091796875), ('MIS', 0.9365234375), ('ERIC', 0.93212890625)], [('纤', 1.2109375), ('amely', 1.18359375), (' bod', 1.162109375), ('allot', 1.13671875), ('LX', 1.0361328125)], [('ole', 0.96923828125), ('item', 0.96533203125), ('ext', 0.923828125), ('ons', 0.9052734375), ('eff', 0.904296875)], [('usos', 0.9423828125), ('ugal', 0.931640625), ('usal', 0.93115234375), ('$_{', 0.9111328125), ('INS', 0.90625)], [('ertainly', 1.9736328125), ('olis', 1.890625), ('urs', 1.87890625), ('riter', 1.7744140625), ('KF', 1.7412109375)], [('uci', 1.95703125), ('ucode', 1.8955078125), ('uis', 1.818359375), ('Икономи', 1.8115234375), ('uche', 1.7919921875)], [('onium', 1.5849609375), ('Pac', 1.556640625), ('arra', 1.5078125), ('无愧', 1.45703125), ('pac', 1.4365234375)], [('intl', 1.302734375), ('носа', 1.2880859375), ('дев', 1.2158203125), (' Marquis', 1.1552734375), ('塘', 1.1416015625)], [('agine', 1.9443359375), ('VAL', 1.8955078125), ('uum', 1.8662109375), ('/', 1.8544921875), (' vals', 1.8037109375)], [(' oc', 1.369140625), ('�', 1.2119140625), ('стител', 1.2060546875), ('ance', 1.173828125), ('elm', 1.1650390625)]]\n",
      "Expert predictions by position: {10: {0: [('oten', 0.1065673828125), ('Община', 0.10498046875), (' Bread', 0.10009765625), ('moz', 0.0960693359375), ('crystal', 0.09326171875)], 19: [('8', 0.2109375), ('5', 0.205322265625), ('0', 0.2044677734375), ('3', 0.203857421875), ('4', 0.2005615234375)], 24: [('ance', 1.1337890625), ('yst', 1.0263671875), ('�', 0.9970703125), ('arial', 0.94091796875), ('�', 0.9365234375)], 40: [(' Noguera', 0.09136962890625), ('8', 0.08905029296875), ('0', 0.08740234375), ('2', 0.0863037109375), ('3', 0.08331298828125)], 62: [('thon', 0.1822509765625), (' tack', 0.140625), ('rror', 0.133056640625), ('вежда', 0.127197265625), ('LO', 0.127197265625)], 63: [('神器', 0.05950927734375), ('moj', 0.05877685546875), (' кур', 0.05810546875), ('spaces', 0.05706787109375), ('ancourt', 0.056549072265625)]}, 5: {1: [('��', 0.07391357421875), ('enge', 0.07257080078125), ('�', 0.06732177734375), ('化和', 0.0660400390625), ('preventDefault', 0.0648193359375)], 6: [('ertainly', 1.8984375), ('adera', 1.81640625), ('ocles', 1.66796875), ('cdir', 1.580078125), ('burger', 1.5791015625)], 14: [(' adov', 0.171875), (' Hamps', 0.16796875), ('valores', 0.1593017578125), ('uro', 0.1590576171875), (' Estava', 0.1583251953125)], 28: [('��', 0.1025390625), (' plung', 0.08807373046875), ('副主席', 0.08734130859375), ('стрия', 0.08203125), ('ION', 0.08172607421875)], 41: [('writeField', 0.181640625), ('ername', 0.1790771484375), (' Ribagor', 0.175537109375), ('macrodef', 0.1746826171875), ('фелд', 0.170166015625)], 55: [('驶', 0.1187744140625), ('хра', 0.11749267578125), ('лето', 0.11279296875), ('cnf', 0.1109619140625), ('ackets', 0.1090087890625)]}, 0: {2: [('HR', 0.037445068359375), ('*', 0.037353515625), ('\\n', 0.037078857421875), ('|', 0.034942626953125), (';', 0.0340576171875)], 24: [('lada', 0.053863525390625), ('isov', 0.0433349609375), ('撒', 0.04046630859375), ('rucci', 0.039703369140625), (' net', 0.039276123046875)], 37: [('quesos', 0.259033203125), ('TOOLSET', 0.258544921875), ('autorest', 0.255615234375), ('NOSCRIPT', 0.25244140625), ('IMPORTED', 0.251953125)], 42: [('�', 0.05426025390625), ('яна', 0.05413818359375), ('enys', 0.054107666015625), ('ndar', 0.05364990234375), (' Изда', 0.0535888671875)], 53: [('emir', 0.03863525390625), ('AMES', 0.03753662109375), ('ravings', 0.0341796875), ('quot', 0.03411865234375), ('iat', 0.031951904296875)], 58: [('opsi', 0.036712646484375), (' $^', 0.03668212890625), ('enys', 0.03570556640625), ('Община', 0.034393310546875), ('~(\\\\', 0.034149169921875)]}, 3: {3: [('чинали', 0.109619140625), (' Nature', 0.1051025390625), ('лят', 0.10345458984375), ('ses', 0.10107421875), ('IVA', 0.098876953125)], 4: [('glx', 0.1337890625), ('yna', 0.12420654296875), ('Ab', 0.12054443359375), ('iani', 0.1160888671875), ('coq', 0.114990234375)], 8: [('etch', 0.149658203125), (' CIF', 0.1478271484375), ('arers', 0.1461181640625), ('察', 0.1368408203125), ('agoons', 0.13623046875)], 17: [('oad', 0.282958984375), (' r', 0.2242431640625), (' T', 0.2161865234375), ('eb', 0.2149658203125), ('ez', 0.2099609375)], 19: [('ylus', 0.10382080078125), ('anque', 0.1036376953125), ('��', 0.09918212890625), ('�', 0.09912109375), ('long', 0.096923828125)], 21: [('3', 0.1728515625), ('5', 0.1671142578125), ('4', 0.157958984375), ('9', 0.1563720703125), ('8', 0.1551513671875)]}, 1: {5: [(' manus', 0.103515625), ('ни', 0.09954833984375), ('habitants', 0.098388671875), ('ixa', 0.09832763671875), ('vir', 0.09771728515625)], 6: [('ucius', 1.71484375), ('acum', 1.482421875), ('uria', 1.45703125), ('acus', 1.447265625), ('ishness', 1.4150390625)], 14: [('лю', 0.357666015625), ('Clase', 0.356201171875), ('пла', 0.3466796875), (' iprot', 0.333251953125), ('保时', 0.327392578125)], 30: [(' en', 0.19580078125), ('1', 0.1890869140625), ('5', 0.18896484375), ('eer', 0.1846923828125), ('8', 0.1846923828125)], 38: [('лио', 0.54638671875), ('lics', 0.51318359375), (' l', 0.50146484375), ('oric', 0.499267578125), ('ICS', 0.489013671875)], 56: [(' ', 0.11029052734375), ('asp', 0.1092529296875), ('shan', 0.1082763671875), ('ipt', 0.10009765625), ('ajara', 0.09521484375)]}, 6: {6: [('Ад', 0.254150390625), ('Resolve', 0.250732421875), ('娠', 0.2484130859375), ('ianes', 0.2471923828125), ('atoris', 0.246826171875)], 14: [('regu', 0.1619873046875), ('ude', 0.1533203125), ('uesta', 0.1519775390625), ('heast', 0.1495361328125), ('隐', 0.1488037109375)], 28: [('��', 0.1810302734375), ('ntz', 0.176513671875), ('9', 0.164306640625), ('pla', 0.1634521484375), ('湃', 0.162353515625)], 32: [('kai', 0.06414794921875), ('reserve', 0.056182861328125), ('swered', 0.055694580078125), ('axies', 0.05322265625), ('parbox', 0.05303955078125)], 38: [('ux', 0.970703125), ('atee', 0.84130859375), ('uci', 0.75732421875), ('everse', 0.716796875), ('arias', 0.70556640625)], 56: [('yle', 0.322509765625), (' Bonif', 0.322021484375), ('的热', 0.314208984375), (' intent', 0.308837890625), ('res', 0.3046875)]}, 7: {10: [('htra', 0.1553955078125), ('SI', 0.1458740234375), ('dua', 0.145751953125), ('спи', 0.139404296875), ('amic', 0.1378173828125)], 37: [('WEEN', 0.51611328125), ('култе', 0.43798828125), ('gdx', 0.42919921875), ('arpa', 0.419921875), ('CODEGEN', 0.4189453125)], 43: [('дото', 0.1463623046875), ('对立', 0.1456298828125), ('�', 0.1453857421875), ('ubs', 0.1439208984375), ('dV', 0.143310546875)], 46: [('igned', 1.7265625), ('/', 1.66796875), ('tube', 1.658203125), ('伪', 1.65625), ('agine', 1.638671875)], 49: [('джър', 0.86279296875), ('INSEE', 0.83203125), ('okia', 0.8095703125), ('urbed', 0.79150390625), ('informe', 0.78466796875)], 53: [('imetric', 0.293212890625), ('quers', 0.2900390625), ('loud', 0.28369140625), ('imet', 0.2822265625), ('orre', 0.27685546875)]}, 2: {11: [('цен', 0.1107177734375), ('amentally', 0.10443115234375), ('aeus', 0.09857177734375), ('ува', 0.0960693359375), ('etically', 0.09490966796875)], 20: [('机', 0.1439208984375), ('строй', 0.1400146484375), (' Entertainment', 0.1358642578125), ('ogram', 0.1326904296875), ('ALSE', 0.1295166015625)], 33: [('�', 0.261474609375), ('isoft', 0.22802734375), ('供', 0.227294921875), ('ETIME', 0.207763671875), ('nima', 0.205322265625)], 34: [('资', 0.2210693359375), ('tit', 0.2186279296875), (' bust', 0.2176513671875), ('скон', 0.2156982421875), ('mult', 0.2142333984375)], 43: [('2', 0.64306640625), ('6', 0.6025390625), ('3', 0.5966796875), ('5', 0.5869140625), ('1', 0.58349609375)], 49: [('INSEE', 0.35546875), ('informe', 0.326171875), ('CALLTYPE', 0.314208984375), ('ogne', 0.3095703125), ('OperationKind', 0.299072265625)]}, 8: {12: [('xits', 0.11785888671875), ('ssos', 0.11383056640625), ('oned', 0.1131591796875), ('мила', 0.107666015625), (' PARTITION', 0.1065673828125)], 19: [('contribs', 0.07183837890625), (' tube', 0.07098388671875), (' tubes', 0.07037353515625), ('tube', 0.0703125), ('辫', 0.06988525390625)], 32: [(' Мона', 0.11358642578125), ('�', 0.11126708984375), ('|(', 0.1104736328125), ('versation', 0.10888671875), ('ference', 0.1065673828125)], 36: [('ed', 0.418212890625), ('стан', 0.4169921875), ('arem', 0.40478515625), ('i', 0.3984375), ('лото', 0.38232421875)], 38: [('вест', 0.7607421875), ('llustr', 0.7314453125), ('肌', 0.67626953125), ('ICRON', 0.65966796875), ('弹性', 0.65576171875)], 44: [('rcia', 0.10821533203125), ('enys', 0.09893798828125), ('лета', 0.09832763671875), (' \\\\,.', 0.0960693359375), ('мара', 0.0931396484375)]}, 4: {21: [('��', 0.163818359375), ('oll', 0.1602783203125), ('投', 0.159912109375), ('ime', 0.1507568359375), ('notifier', 0.148193359375)], 37: [('rowColor', 0.219482421875), ('客', 0.21435546875), ('幕', 0.2132568359375), ('apac', 0.2127685546875), ('последствие', 0.2119140625)], 46: [('vara', 0.413330078125), ('ktop', 0.391845703125), ('拉克', 0.372314453125), ('ateral', 0.3623046875), (' чу', 0.331787109375)], 49: [('�', 1.2568359375), ('ustral', 1.1689453125), ('Pac', 1.1494140625), ('esters', 1.126953125), ('onium', 1.1201171875)], 53: [('uphin', 0.1834716796875), ('inette', 0.173583984375), ('chel', 0.1622314453125), ('eness', 0.1595458984375), ('uv', 0.1561279296875)], 62: [('pass', 0.124755859375), ('скон', 0.11712646484375), ('igr', 0.1064453125), (' Cicer', 0.103515625), (' pass', 0.10064697265625)]}, 9: {21: [('符', 0.1920166015625), ('listes', 0.1734619140625), ('udad', 0.16796875), ('oors', 0.1673583984375), ('MISS', 0.16552734375)], 37: [('versation', 0.027191162109375), ('ymbol', 0.02587890625), ('zem', 0.0249176025390625), (' precinct', 0.0234832763671875), ('regon', 0.0231170654296875)], 43: [('fech', 0.1668701171875), ('ител', 0.16650390625), (' конфликт', 0.164306640625), ('фов', 0.1607666015625), ('ucker', 0.1605224609375)], 46: [('irit', 0.39697265625), ('ADV', 0.348388671875), ('honour', 0.33251953125), ('的城市', 0.323974609375), ('уни', 0.32373046875)], 50: [('aras', 0.14453125), ('refore', 0.125), ('Cci', 0.12451171875), ('зар', 0.11907958984375), ('malink', 0.11431884765625)], 53: [('ollow', 0.1697998046875), ('chel', 0.1517333984375), ('ttl', 0.147216796875), ('tens', 0.145263671875), ('olean', 0.14306640625)]}}\n",
      "Shared expert predictions: [[('ORA', 0.40771484375), ('一笔', 0.399658203125), (' Qgs', 0.390380859375), ('жени', 0.38037109375), ('拥抱', 0.36865234375)], [('adol', 0.7353515625), (' Qgs', 0.67333984375), ('rored', 0.6591796875), ('牵手', 0.65234375), ('grin', 0.6474609375)], [('rog', 0.68212890625), ('�', 0.681640625), ('гов', 0.64111328125), ('{\\\\{', 0.630859375), ('бре', 0.62451171875)], [('ext', 0.95556640625), (' exha', 0.8779296875), ('ket', 0.80078125), ('�', 0.7763671875), ('eff', 0.77490234375)], [(' sector', 0.64013671875), ('ensa', 0.60546875), ('eks', 0.59716796875), (' Sector', 0.58935546875), ('anzas', 0.5849609375)], [('�', 0.87841796875), ('ят', 0.83544921875), ('au', 0.8095703125), ('1', 0.78515625), ('happ', 0.7802734375)], [('happ', 0.80224609375), ('�', 0.76953125), ('�', 0.76806640625), ('勤劳', 0.74267578125), ('se', 0.73193359375)], [('Община', 0.810546875), ('#:', 0.802734375), ('leg', 0.79638671875), ('NOP', 0.791015625), (' quina', 0.7783203125)], [('дев', 1.056640625), ('opam', 0.91943359375), (' Западна', 0.90234375), (' quina', 0.8984375), ('裕', 0.88916015625)], [('Roine', 0.8642578125), ('jov', 0.80810546875), ('JI', 0.80126953125), ('�乐', 0.7783203125), (' иконо', 0.76171875)], [('bein', 0.9140625), ('рети', 0.85888671875), (' interf', 0.79345703125), ('twig', 0.78564453125), ('elm', 0.78466796875)]]\n",
      "\n",
      "MoE Layer 12:\n",
      "Selected experts: [[36, 33, 48, 1, 50, 17], [21, 54, 56, 33, 46, 62], [30, 53, 20, 31, 47, 9], [41, 30, 13, 34, 37, 45], [30, 53, 19, 25, 18, 16], [46, 54, 57, 56, 59, 21], [21, 46, 54, 45, 59, 42], [43, 30, 28, 25, 16, 18], [56, 54, 48, 57, 40, 46], [30, 53, 9, 25, 18, 45], [45, 18, 8, 42, 4, 54]]\n",
      "Expert weights: [[0.5478515625, 0.0246429443359375, 0.0244598388671875, 0.0204925537109375, 0.0202789306640625, 0.0176239013671875], [0.11981201171875, 0.1181640625, 0.05902099609375, 0.0582275390625, 0.042144775390625, 0.03289794921875], [0.396484375, 0.0706787109375, 0.02850341796875, 0.0259246826171875, 0.0256195068359375, 0.02471923828125], [0.048309326171875, 0.04364013671875, 0.04229736328125, 0.0421142578125, 0.037322998046875, 0.0362548828125], [0.12408447265625, 0.10107421875, 0.044189453125, 0.126953125, 0.043670654296875, 0.039306640625], [0.159423828125, 0.11041259765625, 0.061767578125, 0.055084228515625, 0.04913330078125, 0.0423583984375], [0.1412353515625, 0.175048828125, 0.10638427734375, 0.041748046875, 0.03656005859375, 0.0293121337890625], [0.0341796875, 0.047821044921875, 0.04852294921875, 0.1802978515625, 0.08624267578125, 0.029754638671875], [0.07281494140625, 0.078369140625, 0.041229248046875, 0.0369873046875, 0.034576416015625, 0.0281982421875], [0.2568359375, 0.09710693359375, 0.055816650390625, 0.05419921875, 0.044891357421875, 0.031341552734375], [0.06353759765625, 0.044677734375, 0.043548583984375, 0.03851318359375, 0.035003662109375, 0.032958984375]]\n",
      "Combined output tokens: [[('idera', 2.71875), ('frak', 2.70703125), ('jem', 2.66796875), (' fres', 2.595703125), (' препратки', 2.595703125)], [(' Голя', 1.1416015625), ('LOAD', 1.1064453125), ('ajar', 1.099609375), ('мал', 1.0908203125), ('etry', 1.04296875)], [('поред', 2.369140625), ('asta', 2.146484375), (' Ny', 2.1328125), ('原文地址', 2.126953125), ('oint', 2.083984375)], [('omit', 0.9130859375), (' direct', 0.8037109375), ('ova', 0.77294921875), ('ource', 0.771484375), (' ля', 0.76806640625)], [(' roca', 1.3486328125), ('dow', 1.3173828125), ('鸣', 1.306640625), ('══', 1.28515625), ('Collapse', 1.275390625)], [('ут', 1.2646484375), ('姆斯', 1.2255859375), ('тъ', 1.1826171875), (' Черна', 1.134765625), ('重点', 1.1103515625)], [('inot', 1.2060546875), ('DBus', 1.19921875), ('胞胎', 1.1376953125), ('==)', 1.1298828125), ('联邦', 1.1240234375)], [('牺', 1.74609375), ('ajan', 1.482421875), ('ENSE', 1.4228515625), ('inette', 1.421875), ('зване', 1.4208984375)], [(' relle', 1.26953125), ('alian', 1.0029296875), ('iling', 0.9208984375), ('хан', 0.86474609375), ('ronic', 0.85986328125)], [('litza', 1.9013671875), ('fixme', 1.8828125), (':*.', 1.8759765625), (' contemporanis', 1.84375), ('esfor', 1.79296875)], [('уа', 0.9150390625), ('нена', 0.85009765625), ('elian', 0.83544921875), (' дума', 0.81640625), ('rases', 0.7919921875)]]\n",
      "Expert predictions by position: {0: {1: [('nections', 0.019134521484375), ('ugin', 0.0190887451171875), ('apad', 0.0180206298828125), (' съот', 0.0179595947265625), (' Tou', 0.0175628662109375)], 17: [('肋', 0.0136260986328125), ('orno', 0.01354217529296875), ('spl', 0.01264190673828125), ('Off', 0.01187896728515625), ('浊', 0.01166534423828125)], 33: [('�', 0.19091796875), ('udes', 0.184326171875), ('wa', 0.1776123046875), ('免费咨询电话', 0.176513671875), ('olutely', 0.176513671875)], 36: [('idera', 2.5859375), ('jem', 2.48828125), ('frak', 2.48828125), (' препратки', 2.388671875), (' fres', 2.384765625)], 48: [('7', 0.032806396484375), ('5', 0.0279998779296875), ('8', 0.025604248046875), ('6', 0.0253143310546875), (' M', 0.024627685546875)], 50: [('rinos', 0.01214599609375), ('раст', 0.01100921630859375), ('кове', 0.01085662841796875), ('kien', 0.0107421875), ('eny', 0.01068878173828125)]}, 10: {4: [('航', 0.116455078125), ('мула', 0.10833740234375), ('err', 0.10296630859375), ('谁的', 0.10162353515625), ('红旗', 0.10028076171875)], 8: [('icat', 0.129150390625), ('het', 0.12457275390625), ('AP', 0.1240234375), ('opsi', 0.12371826171875), ('ap', 0.1226806640625)], 18: [('ene', 0.117919921875), ('phant', 0.11669921875), ('OBJ', 0.1163330078125), (' her', 0.11370849609375), ('hol', 0.1116943359375)], 42: [('Phabricator', 0.09356689453125), ('esModule', 0.083984375), ('orh', 0.0821533203125), ('AXB', 0.07672119140625), ('leftmargin', 0.0765380859375)], 45: [('сер', 0.1854248046875), ('ramer', 0.164794921875), (' ext', 0.154296875), ('urrent', 0.1536865234375), (' net', 0.1441650390625)], 54: [('aun', 0.54736328125), (' crida', 0.53369140625), (' NP', 0.513671875), (' consta', 0.51220703125), ('ambo', 0.50390625)]}, 2: {9: [('ща', 0.315185546875), ('xffff', 0.278076171875), ('xffffff', 0.266845703125), (' удо', 0.264892578125), (' Clickfunnels', 0.261474609375)], 20: [('нове', 0.1192626953125), (' начело', 0.11865234375), ('хваща', 0.11688232421875), ('svc', 0.1168212890625), ('widet', 0.112548828125)], 30: [('绣', 0.111328125), ('legate', 0.1097412109375), ('ATTRIB', 0.107666015625), (' пореди', 0.10748291015625), ('ferred', 0.1064453125)], 31: [('erty', 0.08966064453125), ('旭', 0.08001708984375), ('�', 0.07818603515625), ('acier', 0.07586669921875), ('staking', 0.07550048828125)], 47: [('局的', 0.1458740234375), ('ampion', 0.134033203125), ('itely', 0.129638671875), ('жда', 0.1290283203125), ('openc', 0.12744140625)], 53: [('�', 0.6416015625), ('^^^^^^^^', 0.5908203125), ('保时', 0.58251953125), ('apad', 0.572265625), ('wani', 0.56591796875)]}, 9: {9: [('3', 0.0927734375), ('4', 0.0908203125), ('ot', 0.0877685546875), ('2', 0.0860595703125), ('\\xad', 0.0855712890625)], 18: [('aut', 0.1324462890625), ('狗', 0.1300048828125), ('cy', 0.125244140625), ('uber', 0.12005615234375), ('lio', 0.1175537109375)], 25: [('irth', 0.22900390625), ('华声', 0.2078857421875), ('Apis', 0.205810546875), (' lle', 0.2037353515625), ('席', 0.1993408203125)], 30: [('trigger', 0.2122802734375), ('openg', 0.19775390625), ('支', 0.190185546875), (' trigger', 0.189208984375), ('霸', 0.1865234375)], 45: [('inum', 0.1053466796875), ('nable', 0.10198974609375), ('славия', 0.0960693359375), ('Affinity', 0.09478759765625), (' Qu', 0.092529296875)], 53: [('mera', 0.8115234375), ('вей', 0.75), ('рец', 0.69091796875), ('ман', 0.6611328125), ('acant', 0.65087890625)]}, 3: {13: [('uckles', 0.2120361328125), ('тък', 0.2064208984375), ('orell', 0.2039794921875), ('ablement', 0.19384765625), ('apunov', 0.1922607421875)], 30: [('поред', 2.359375), ('原文地址', 2.1875), ('gr', 2.1171875), (' Ny', 1.998046875), ('amet', 1.998046875)], 34: [('дем', 0.159912109375), (\"$'\", 0.1484375), ('blia', 0.1468505859375), ('imbab', 0.139892578125), ('forter', 0.1392822265625)], 37: [('�', 0.158935546875), ('双重', 0.129150390625), ('}$~\\\\', 0.1253662109375), ('��', 0.123779296875), ('oficina', 0.12066650390625)], 41: [('one', 0.18798828125), ('inot', 0.1702880859375), ('guien', 0.169921875), ('Msk', 0.1693115234375), ('bolds', 0.1669921875)], 45: [(' po', 0.1357421875), ('SEE', 0.1318359375), ('olved', 0.128173828125), ('uments', 0.1180419921875), ('missi', 0.116943359375)]}, 4: {16: [('ува', 0.1273193359375), ('лия', 0.123046875), ('Tunes', 0.12060546875), (' enm', 0.11956787109375), (' Pard', 0.11920166015625)], 18: [('лози', 0.137939453125), ('rido', 0.1351318359375), ('ob', 0.12213134765625), ('brand', 0.12152099609375), ('asty', 0.12139892578125)], 19: [('roll', 0.128173828125), ('vern', 0.12005615234375), (' Cristal', 0.11724853515625), ('度和', 0.1165771484375), (' roll', 0.11444091796875)], 25: [('SYM', 1.3369140625), (' коло', 1.1171875), ('мор', 1.107421875), ('Activitats', 1.107421875), ('inition', 1.1025390625)], 30: [('��', 0.73388671875), ('ovy', 0.62060546875), ('YS', 0.58447265625), ('TON', 0.58056640625), ('ntz', 0.56103515625)], 53: [('рец', 0.3984375), ('SHORT', 0.34423828125), (' Fons', 0.33837890625), ('值得一', 0.3193359375), ('onut', 0.31689453125)]}, 7: {16: [('wered', 0.4287109375), ('odb', 0.41015625), ('дия', 0.403076171875), ('oqu', 0.366455078125), ('dW', 0.36376953125)], 18: [('issi', 0.09014892578125), ('┈┈', 0.0755615234375), ('翘', 0.06793212890625), ('星', 0.0675048828125), ('тат', 0.066162109375)], 25: [('sgi', 0.63232421875), ('ilv', 0.6083984375), ('株', 0.498779296875), ('AAAAAAAAAAAAAAAA', 0.4970703125), ('amena', 0.489990234375)], 28: [('аз', 0.1505126953125), ('жите', 0.140625), ('aried', 0.131591796875), ('2', 0.1314697265625), ('9', 0.1302490234375)], 30: [(' contemporanis', 1.3349609375), ('onese', 1.279296875), (':*.', 1.265625), ('记》', 1.2578125), ('тро', 1.224609375)], 43: [('ribut', 0.283447265625), ('сни', 0.2491455078125), ('rits', 0.2464599609375), ('Comp', 0.2369384765625), ('opard', 0.2349853515625)]}, 1: {21: [('тио', 0.354248046875), ('ipel', 0.339599609375), ('нио', 0.33447265625), ('ReadOnly', 0.332763671875), (' Guillem', 0.329833984375)], 33: [(' ::', 0.0159149169921875), ('LR', 0.0146636962890625), ('不行', 0.01454925537109375), ('neighbors', 0.01446533203125), ('列', 0.014373779296875)], 46: [('лярен', 0.58984375), ('anea', 0.56640625), ('侈', 0.552734375), ('介石', 0.5390625), ('гле', 0.52783203125)], 54: [('无处', 0.149658203125), ('无所', 0.1461181640625), (' Power', 0.145263671875), (' CD', 0.14501953125), (' Saludos', 0.144287109375)], 56: [('��', 0.169189453125), ('CLAIMED', 0.1568603515625), ('apic', 0.1512451171875), ('档', 0.1500244140625), ('quil', 0.145263671875)], 62: [(' PLAN', 0.111328125), ('uent', 0.1055908203125), ('setItem', 0.10540771484375), ('alike', 0.10345458984375), ('adis', 0.1007080078125)]}, 5: {21: [('wic', 0.12451171875), (' учен', 0.123779296875), ('大利', 0.11871337890625), ('пр', 0.1173095703125), ('мера', 0.11566162109375)], 46: [(' устрой', 0.061859130859375), ('ELF', 0.056884765625), ('抽', 0.05657958984375), ('Catalog', 0.0546875), ('турата', 0.053924560546875)], 54: [(' Pil', 0.302490234375), (' Крал', 0.277587890625), ('的机会', 0.276611328125), ('ractor', 0.268798828125), ('的任务', 0.268310546875)], 56: [('ве', 0.22509765625), (' absolute', 0.2158203125), (' struct', 0.206298828125), (' eina', 0.205810546875), ('官', 0.198486328125)], 57: [('рио', 0.215087890625), ('тати', 0.198486328125), ('�', 0.19384765625), ('монт', 0.185791015625), ('idle', 0.175537109375)], 59: [('enni', 0.11334228515625), ('ony', 0.10906982421875), ('incor', 0.1063232421875), ('ONY', 0.10626220703125), ('被打', 0.103759765625)]}, 6: {21: [(' fiscals', 0.408203125), ('反馈', 0.371337890625), ('Estats', 0.365234375), ('�다', 0.3564453125), ('isb', 0.355712890625)], 42: [('quo', 0.11773681640625), ('gency', 0.1102294921875), ('IEW', 0.10504150390625), ('лъ', 0.09857177734375), ('ativa', 0.09539794921875)], 45: [('ouz', 0.09808349609375), ('明星', 0.0943603515625), ('StateException', 0.091552734375), ('hwe', 0.0882568359375), ('榄', 0.088134765625)], 46: [('pics', 0.1885986328125), ('possess', 0.177001953125), ('gex', 0.1678466796875), ('encs', 0.1656494140625), ('zzi', 0.1617431640625)], 54: [('TL', 0.65087890625), ('icana', 0.61669921875), ('utting', 0.59814453125), ('utes', 0.5947265625), ('хода', 0.59423828125)], 59: [('ivament', 0.17041015625), ('мос', 0.166015625), ('aco', 0.1563720703125), ('chitz', 0.15283203125), (' ВМО', 0.152587890625)]}, 8: {40: [('Strunz', 0.1212158203125), ('TRIM', 0.1212158203125), ('amia', 0.120361328125), (' triom', 0.11383056640625), ('мини', 0.1131591796875)], 46: [('onium', 0.6298828125), ('Cci', 0.6181640625), (' posteriors', 0.57373046875), ('мират', 0.5673828125), ('maintainer', 0.55419921875)], 48: [(' Коман', 0.2049560546875), ('许可', 0.2017822265625), ('置', 0.196044921875), ('人头', 0.196044921875), ('xiu', 0.1956787109375)], 54: [('ionals', 0.5517578125), ('ained', 0.54052734375), ('apy', 0.53857421875), ('cript', 0.53125), (' commission', 0.52294921875)], 56: [('лн', 0.196533203125), ('issos', 0.173828125), ('вария', 0.1737060546875), ('ствие', 0.173095703125), ('sterdam', 0.1707763671875)], 57: [(' CWE', 0.10369873046875), ('oday', 0.09991455078125), ('син', 0.0955810546875), ('uously', 0.094970703125), ('ailable', 0.09185791015625)]}}\n",
      "Shared expert predictions: [[('евру', 0.357666015625), ('Македония', 0.346923828125), ('ейнт', 0.341064453125), ('坷', 0.3369140625), ('iclismo', 0.333984375)], [(' SqlCommand', 0.5927734375), ('}{@{}', 0.58251953125), (' glyphicon', 0.57568359375), ('IconError', 0.56787109375), ('rored', 0.56787109375)], [('GORY', 0.68408203125), ('вица', 0.6328125), ('CALL', 0.61767578125), ('璨', 0.61572265625), ('otron', 0.60986328125)], [('ek', 0.7490234375), ('[+', 0.712890625), (' guia', 0.69189453125), ('WS', 0.68359375), (' subst', 0.67529296875)], [('SFR', 0.6708984375), ('бет', 0.65087890625), ('�', 0.64990234375), ('OTA', 0.64697265625), ('ansi', 0.6416015625)], [('ivy', 0.72216796875), ('授', 0.7109375), ('ocou', 0.7001953125), ('iv', 0.6943359375), ('后悔', 0.693359375)], [('ocations', 0.8046875), ('vice', 0.6884765625), ('iedo', 0.6845703125), (' LOOP', 0.6728515625), ('后赛', 0.671875)], [('swered', 0.787109375), ('ajan', 0.70947265625), ('лон', 0.68994140625), ('geoserver', 0.68359375), ('瓶', 0.67138671875)], [(' relle', 1.0478515625), ('alian', 0.87158203125), ('��', 0.8359375), ('ложено', 0.81591796875), ('хан', 0.81298828125)], [('Protos', 0.96728515625), ('acements', 0.93896484375), ('TOOLSET', 0.93310546875), ('arck', 0.873046875), ('Strunz', 0.85205078125)], [('elian', 0.87255859375), (' relle', 0.84423828125), (' дума', 0.80908203125), ('enery', 0.79443359375), ('нена', 0.79052734375)]]\n",
      "\n",
      "MoE Layer 13:\n",
      "Selected experts: [[39, 47, 51, 17, 7, 22], [24, 61, 29, 12, 3, 17], [27, 18, 32, 36, 4, 46], [60, 37, 3, 10, 24, 17], [63, 46, 21, 32, 39, 23], [29, 12, 14, 44, 49, 7], [12, 29, 54, 14, 56, 39], [46, 23, 39, 27, 15, 21], [44, 9, 24, 17, 13, 3], [32, 21, 63, 37, 23, 15], [11, 58, 13, 15, 51, 37]]\n",
      "Expert weights: [[0.08709716796875, 0.060577392578125, 0.05047607421875, 0.04541015625, 0.040435791015625, 0.037506103515625], [0.192626953125, 0.0880126953125, 0.06072998046875, 0.057098388671875, 0.034027099609375, 0.024993896484375], [0.10748291015625, 0.07177734375, 0.07025146484375, 0.046844482421875, 0.0452880859375, 0.03387451171875], [0.050933837890625, 0.039520263671875, 0.20166015625, 0.03466796875, 0.032623291015625, 0.0281829833984375], [0.0772705078125, 0.07470703125, 0.058502197265625, 0.057373046875, 0.047576904296875, 0.044952392578125], [0.05828857421875, 0.20068359375, 0.0455322265625, 0.03045654296875, 0.037109375, 0.02764892578125], [0.21875, 0.0926513671875, 0.03594970703125, 0.03546142578125, 0.03240966796875, 0.0269317626953125], [0.17919921875, 0.0863037109375, 0.041656494140625, 0.040771484375, 0.036834716796875, 0.0325927734375], [0.07049560546875, 0.1103515625, 0.0538330078125, 0.052642822265625, 0.04095458984375, 0.030609130859375], [0.09271240234375, 0.046905517578125, 0.039794921875, 0.03863525390625, 0.036590576171875, 0.035919189453125], [0.06488037109375, 0.0517578125, 0.080078125, 0.0421142578125, 0.03399658203125, 0.03326416015625]]\n",
      "Combined output tokens: [[(' Gros', 0.4404296875), ('�', 0.4267578125), ('etat', 0.41552734375), (' cradle', 0.39599609375), ('解', 0.371337890625)], [('重心', 1.16796875), (' Crow', 1.0693359375), ('ODO', 1.0419921875), ('垂直', 1.0263671875), ('夕', 0.98681640625)], [('霆', 1.40625), (' sols', 1.353515625), ('дал', 1.3291015625), (' Mode', 1.3154296875), ('ISA', 1.2900390625)], [('abat', 1.7001953125), ('(--', 1.5322265625), ('resse', 1.4541015625), (' Amat', 1.416015625), (' Attribution', 1.4072265625)], [('��', 2.0078125), ('oste', 1.677734375), ('inde', 1.6572265625), ('tage', 1.509765625), ('mar', 1.4765625)], [('与其', 1.1865234375), (' S', 1.1748046875), ('work', 1.1572265625), ('plain', 1.140625), ('ография', 1.13671875)], [(' война', 1.5947265625), ('isses', 1.5732421875), ('Rb', 1.5546875), ('�', 1.54296875), ('Sax', 1.53515625)], [('1', 2.923828125), ('9', 2.5546875), ('8', 2.490234375), ('7', 2.40625), ('6', 2.3671875)], [('仅代表', 1.6875), ('sep', 1.6708984375), ('开', 1.658203125), (' напо', 1.6474609375), ('DHCP', 1.630859375)], [('addons', 1.853515625), ('OC', 1.69140625), ('LOP', 1.6806640625), ('̀', 1.580078125), ('$;', 1.5361328125)], [('сло', 1.359375), ('�', 1.326171875), ('ISD', 1.322265625), ('ори', 1.322265625), ('asio', 1.26171875)]]\n",
      "Expert predictions by position: {1: {3: [(' null', 0.11083984375), ('法', 0.10491943359375), ('演', 0.103271484375), (' <', 0.102783203125), ('引', 0.10223388671875)], 12: [('�', 0.2724609375), ('TOOLSET', 0.23779296875), ('onte', 0.2362060546875), ('斗', 0.234619140625), ('emberg', 0.2342529296875)], 17: [('icot', 0.07659912109375), ('EFI', 0.069091796875), ('ajara', 0.06903076171875), ('ennicke', 0.06707763671875), ('Пар', 0.0667724609375)], 24: [('orthand', 0.70068359375), ('康', 0.673828125), ('рално', 0.6552734375), ('orema', 0.640625), ('odder', 0.6103515625)], 29: [('oed', 0.163330078125), ('3', 0.1510009765625), (' m', 0.1494140625), ('itin', 0.1439208984375), ('登', 0.140625)], 61: [(' h', 0.25048828125), ('ngu', 0.2459716796875), ('arde', 0.23828125), ('立卡', 0.231689453125), ('мост', 0.22900390625)]}, 3: {3: [('pecified', 1.1318359375), ('resse', 1.11328125), (' Volume', 1.103515625), (' Attribution', 1.078125), ('tcb', 1.0537109375)], 10: [('Compan', 0.1259765625), ('ramble', 0.12200927734375), ('ATED', 0.11883544921875), ('igui', 0.118408203125), ('Charge', 0.1181640625)], 17: [('oulos', 0.11181640625), ('ifax', 0.10736083984375), ('pano', 0.100830078125), ('angible', 0.1005859375), ('юсюл', 0.10040283203125)], 24: [(' append', 0.1260986328125), (' Step', 0.12054443359375), ('的话', 0.11895751953125), (' class', 0.118896484375), (' Class', 0.1162109375)], 37: [('8', 0.208740234375), ('4', 0.1929931640625), ('7', 0.1826171875), ('3', 0.18212890625), ('9', 0.1798095703125)], 60: [('лео', 0.1771240234375), ('сем', 0.1673583984375), (' Spani', 0.1671142578125), ('节的', 0.1641845703125), (' бил', 0.1629638671875)]}, 8: {3: [('жина', 0.1683349609375), ('ivament', 0.1456298828125), ('erring', 0.1336669921875), ('яло', 0.1287841796875), ('ъз', 0.12841796875)], 9: [('AudioEvent', 1.5009765625), ('taf', 1.490234375), ('概念', 1.4658203125), ('опа', 1.455078125), (' Tolosa', 1.435546875)], 13: [('AIPS', 0.283447265625), ('кто', 0.28173828125), (' Ohm', 0.262451171875), ('actus', 0.2587890625), ('addock', 0.251708984375)], 17: [(' Round', 0.1170654296875), ('\")).', 0.113037109375), ('cR', 0.10723876953125), (' Ho', 0.10699462890625), ('ancer', 0.1064453125)], 24: [('自我', 0.12298583984375), ('程', 0.1185302734375), ('OID', 0.11767578125), (' Born', 0.11553955078125), ('\">:', 0.11444091796875)], 44: [('stock', 0.314208984375), ('croft', 0.296142578125), ('istan', 0.271728515625), ('f', 0.265869140625), ('gr', 0.259765625)]}, 2: {4: [('alion', 0.330322265625), ('enp', 0.31689453125), ('rugu', 0.313720703125), ('asch', 0.307861328125), ('aline', 0.30712890625)], 18: [('模', 0.39208984375), ('тео', 0.367431640625), ('illas', 0.330078125), ('健', 0.318359375), ('震', 0.30615234375)], 27: [('ynam', 0.1436767578125), ('ETTER', 0.1431884765625), ('лярен', 0.14208984375), ('ocent', 0.140380859375), ('itud', 0.1353759765625)], 32: [('addons', 1.546875), ('日内与', 1.3603515625), ('Hits', 1.3095703125), ('UNUSED', 1.30078125), (' mala', 1.2568359375)], 36: [(' fac', 0.1461181640625), ('шко', 0.134033203125), ('ing', 0.1329345703125), ('ustom', 0.1259765625), ('ester', 0.125)], 46: [('1', 3.515625), ('9', 3.078125), ('8', 2.966796875), ('7', 2.958984375), ('3', 2.9453125)]}, 0: {7: [('son', 0.041595458984375), ('end', 0.04119873046875), (' K', 0.038665771484375), ('hell', 0.037506103515625), ('K', 0.037384033203125)], 17: [('ata', 0.0272216796875), (' ', 0.0270843505859375), ('IC', 0.0251922607421875), ('ics', 0.024627685546875), ('�', 0.0245208740234375)], 22: [('ISD', 0.0325927734375), ('alto', 0.0268707275390625), ('zac', 0.0245208740234375), ('виси', 0.02337646484375), ('tis', 0.0229949951171875)], 39: [('фен', 0.12078857421875), (' Grafen', 0.116943359375), ('amina', 0.11505126953125), ('ATAB', 0.11444091796875), ('朱元', 0.1102294921875)], 47: [('ува', 0.047210693359375), ('__', 0.04071044921875), ('上', 0.039703369140625), ('dera', 0.039642333984375), ('阳', 0.039031982421875)], 51: [('Spread', 0.13671875), ('erved', 0.13134765625), ('сан', 0.1298828125), ('ancy', 0.123291015625), (' cadascun', 0.11688232421875)]}, 5: {7: [('erol', 0.07427978515625), ('цки', 0.06756591796875), ('TOOLSET', 0.0665283203125), ('凯迪', 0.06439208984375), ('ikipedia', 0.062347412109375)], 12: [('plain', 1.0068359375), ('moor', 1.0029296875), (\" $('<\", 0.97216796875), ('рано', 0.96875), ('тиле', 0.9423828125)], 14: [('Municipis', 0.25048828125), ('wso', 0.2474365234375), ('�乐', 0.2459716796875), ('imon', 0.237548828125), (' comuna', 0.2366943359375)], 29: [('piques', 0.272216796875), ('ulic', 0.27001953125), ('ierge', 0.257080078125), ('jug', 0.257080078125), ('[-]', 0.2568359375)], 44: [('基', 0.10137939453125), ('ichthys', 0.09967041015625), ('VERSION', 0.09771728515625), (' Anth', 0.09490966796875), ('arers', 0.0947265625)], 49: [('8', 0.1385498046875), ('4', 0.1373291015625), ('0', 0.13525390625), ('7', 0.127685546875), ('3', 0.12249755859375)]}, 10: {11: [('IMIT', 0.195068359375), (' tabs', 0.1898193359375), ('Вън', 0.1817626953125), ('mbf', 0.1754150390625), (' tab', 0.1737060546875)], 13: [('�', 1.076171875), ('�', 1.0390625), ('asso', 0.99658203125), ('ние', 0.99267578125), ('imus', 0.96533203125)], 15: [('成功', 0.1864013671875), ('不幸', 0.165283203125), (' c', 0.1602783203125), ('端', 0.1534423828125), ('成功的', 0.1533203125)], 37: [('thia', 0.096923828125), ('lectuals', 0.09423828125), (' апа', 0.09417724609375), ('uesa', 0.09246826171875), ('otec', 0.09136962890625)], 51: [('orno', 0.035308837890625), ('oce', 0.0323486328125), (' Vend', 0.0322265625), (' moves', 0.03131103515625), ('бни', 0.030670166015625)], 58: [('фера', 0.211669921875), ('|}', 0.1998291015625), ('це', 0.1962890625), ('verage', 0.19580078125), (' parlant', 0.18798828125)]}, 6: {12: [('noma', 1.6962890625), ('杀人', 1.5615234375), ('msk', 1.5107421875), ('olks', 1.4599609375), ('checkmark', 1.43359375)], 14: [('昌', 0.1915283203125), ('gro', 0.1771240234375), ('itr', 0.177001953125), (' Moul', 0.16943359375), ('的山', 0.1671142578125)], 29: [('vertis', 0.28466796875), ('terness', 0.261962890625), (' limitat', 0.26171875), (' demogr', 0.24609375), ('�', 0.2445068359375)], 39: [(' co', 0.1351318359375), (' sol', 0.12548828125), ('anders', 0.124755859375), ('wap', 0.1240234375), (' Оби', 0.12274169921875)], 54: [('uchy', 0.10595703125), ('ogo', 0.09307861328125), ('armed', 0.093017578125), ('izer', 0.09100341796875), ('ivet', 0.0853271484375)], 56: [('less', 0.08331298828125), ('恤', 0.08245849609375), ('rate', 0.08184814453125), ('owed', 0.0806884765625), ('平衡', 0.08026123046875)]}, 7: {15: [('odef', 0.1376953125), ('>#', 0.1331787109375), ('�', 0.125), ('雷', 0.1148681640625), ('arrival', 0.11419677734375)], 21: [('ied', 0.312744140625), ('topsp', 0.28955078125), ('憬', 0.288818359375), ('ino', 0.2841796875), ('ern', 0.2783203125)], 23: [('manda', 0.42529296875), ('Artagnan', 0.39501953125), ('става', 0.393798828125), ('gery', 0.38720703125), ('earing', 0.38623046875)], 27: [('aure', 0.57373046875), ('reda', 0.5703125), ('ი', 0.55859375), (' Кън', 0.55615234375), ('chten', 0.54833984375)], 39: [('jac', 0.03448486328125), ('ven', 0.031768798828125), ('jo', 0.0316162109375), ('vers', 0.031219482421875), ('after', 0.031158447265625)], 46: [('��', 1.224609375), ('��', 1.140625), ('tage', 1.0771484375), ('ardown', 1.0615234375), ('ците', 1.0439453125)]}, 9: {15: [('vestre', 0.1195068359375), ('PIO', 0.0948486328125), ('ложе', 0.089111328125), ('azole', 0.08880615234375), ('ssers', 0.08819580078125)], 21: [('绕', 0.28466796875), ('зву', 0.282470703125), ('лови', 0.2734375), ('мини', 0.2724609375), ('ilit', 0.271240234375)], 23: [('adoc', 0.1590576171875), ('DELAY', 0.124755859375), (' Dump', 0.12420654296875), ('附', 0.12274169921875), (' OD', 0.12164306640625)], 32: [(' m', 0.6611328125), ('нио', 0.59619140625), ('edly', 0.57861328125), ('mark', 0.57568359375), ('asa', 0.56787109375)], 37: [('一事', 0.12408447265625), ('onat', 0.11468505859375), ('мара', 0.113037109375), ('pone', 0.11260986328125), ('andid', 0.11236572265625)], 63: [('ynthes', 0.1260986328125), ('utility', 0.1146240234375), ('пада', 0.1143798828125), (' urbans', 0.11419677734375), ('sar', 0.1112060546875)]}, 4: {21: [('cup', 0.1329345703125), ('emo', 0.1275634765625), ('gery', 0.1256103515625), ('erna', 0.1212158203125), ('斑', 0.115966796875)], 23: [('iment', 0.183349609375), ('icina', 0.1822509765625), ('ially', 0.1822509765625), ('赁', 0.1646728515625), ('ies', 0.163818359375)], 32: [('semb', 0.556640625), ('argmin', 0.5478515625), ('рок', 0.544921875), ('asions', 0.54052734375), (' хар', 0.53759765625)], 39: [('airs', 0.05389404296875), ('#{', 0.047882080078125), ('ulares', 0.046630859375), ('ERATED', 0.045166015625), ('^-$', 0.04449462890625)], 46: [('pread', 0.269775390625), ('enco', 0.25244140625), ('itemap', 0.247314453125), ('zig', 0.24462890625), ('TSC', 0.2415771484375)], 63: [('/', 0.39697265625), (' /', 0.372802734375), ('8', 0.363037109375), ('3', 0.3583984375), ('2', 0.353759765625)]}}\n",
      "Shared expert predictions: [[(' Gros', 0.378662109375), ('�', 0.3681640625), ('AIPS', 0.355224609375), ('etat', 0.3466796875), ('etooth', 0.345458984375)], [('1', 0.80224609375), ('8', 0.748046875), ('0', 0.74462890625), ('7', 0.72265625), ('3', 0.71923828125)], [('jem', 0.77880859375), ('IDA', 0.76953125), ('ё', 0.7607421875), (' MS', 0.73681640625), ('不幸', 0.72021484375)], [('(--', 0.8740234375), ('ilt', 0.8525390625), (' Serrat', 0.8466796875), ('iche', 0.81640625), ('ript', 0.81103515625)], [(' Спа', 0.7529296875), ('匆匆', 0.75), ('emas', 0.74072265625), ('YN', 0.724609375), ('驾驭', 0.7197265625)], [(' /', 0.74169921875), (' H', 0.71826171875), ('ANI', 0.6787109375), ('�', 0.66748046875), ('conf', 0.6640625)], [('/', 0.771484375), ('image', 0.69873046875), ('+', 0.69287109375), ('er', 0.68017578125), ('g', 0.67578125)], [('hasOwnProperty', 0.916015625), ('更', 0.76220703125), ('ACES', 0.75439453125), ('QP', 0.72802734375), ('洲', 0.72705078125)], [('INO', 0.732421875), ('�', 0.68408203125), ('Rb', 0.63671875), ('lifetime', 0.6337890625), ('robat', 0.6318359375)], [('вици', 0.82763671875), ('ROID', 0.81591796875), ('вица', 0.7978515625), ('IH', 0.794921875), ('OTO', 0.77978515625)], [('华声', 0.794921875), ('asio', 0.79052734375), ('amina', 0.78173828125), ('дел', 0.74609375), ('дал', 0.71484375)]]\n",
      "\n",
      "MoE Layer 14:\n",
      "Selected experts: [[37, 3, 5, 4, 10, 35], [47, 33, 53, 6, 58, 32], [52, 13, 8, 19, 46, 35], [28, 23, 19, 43, 58, 5], [14, 13, 8, 3, 19, 24], [47, 56, 39, 57, 1, 13], [47, 1, 56, 0, 58, 13], [26, 18, 36, 3, 14, 46], [53, 60, 21, 6, 33, 58], [14, 19, 13, 3, 8, 26], [0, 58, 19, 23, 60, 8]]\n",
      "Expert weights: [[0.341552734375, 0.02960205078125, 0.0252685546875, 0.0230560302734375, 0.02203369140625, 0.0219573974609375], [0.09124755859375, 0.0703125, 0.0545654296875, 0.2408447265625, 0.04351806640625, 0.0301666259765625], [0.1666259765625, 0.125, 0.045318603515625, 0.040618896484375, 0.035980224609375, 0.0333251953125], [0.2064208984375, 0.1444091796875, 0.048309326171875, 0.0382080078125, 0.0362548828125, 0.0281829833984375], [0.157958984375, 0.0882568359375, 0.052093505859375, 0.06292724609375, 0.051025390625, 0.0478515625], [0.1968994140625, 0.10455322265625, 0.04229736328125, 0.038299560546875, 0.03802490234375, 0.0260162353515625], [0.272216796875, 0.0305023193359375, 0.10247802734375, 0.028411865234375, 0.0269622802734375, 0.026031494140625], [0.0472412109375, 0.040679931640625, 0.07403564453125, 0.048492431640625, 0.139892578125, 0.04022216796875], [0.38720703125, 0.061431884765625, 0.054595947265625, 0.048980712890625, 0.03009033203125, 0.0226287841796875], [0.0965576171875, 0.0555419921875, 0.09771728515625, 0.0648193359375, 0.047576904296875, 0.034088134765625], [0.056884765625, 0.053802490234375, 0.048187255859375, 0.047149658203125, 0.043792724609375, 0.042388916015625]]\n",
      "Combined output tokens: [[('idera', 2.52734375), ('frak', 2.357421875), (' Fac', 2.349609375), ('osed', 2.201171875), (' fres', 2.18359375)], [(' g', 1.6083984375), (' copy', 1.3896484375), (' ded', 1.3583984375), (' l', 1.333984375), ('зва', 1.3125)], [('�乐', 1.78515625), ('XMLSchema', 1.24609375), ('antos', 1.21875), ('��', 1.2138671875), ('DEC', 1.19921875)], [('粗', 1.6826171875), ('oric', 1.5908203125), (' normals', 1.51171875), ('бет', 1.5009765625), ('actual', 1.4990234375)], [('RET', 1.4130859375), ('Bab', 1.3935546875), ('wered', 1.3681640625), ('zzle', 1.3359375), ('ANI', 1.333984375)], [('зор', 1.3369140625), ('idon', 1.263671875), ('ctors', 1.25), (' Complut', 1.2470703125), ('arium', 1.24609375)], [(' H', 1.4267578125), (' Q', 1.3515625), ('мила', 1.291015625), ('定', 1.240234375), ('dain', 1.23046875)], [('WN', 1.5048828125), ('atim', 1.427734375), ('wered', 1.390625), ('чина', 1.32421875), ('UA', 1.2978515625)], [(' вале', 1.966796875), ('agal', 1.8193359375), ('фо', 1.7490234375), ('础', 1.73046875), ('\">%', 1.701171875)], [('acc', 1.3095703125), ('野心', 1.2978515625), ('asty', 1.2470703125), ('彼', 1.2333984375), ('NameLink', 1.2158203125)], [('昭', 1.0078125), ('嘘', 0.95263671875), ('严格执行', 0.95068359375), ('实行', 0.876953125), ('ZW', 0.87255859375)]]\n",
      "Expert predictions by position: {6: {0: [('ponible', 0.1983642578125), ('али', 0.1915283203125), ('overn', 0.181884765625), ('�', 0.1749267578125), ('abbr', 0.161865234375)], 1: [('sWith', 0.10235595703125), ('inot', 0.0977783203125), ('卵管', 0.09490966796875), ('qed', 0.09442138671875), (' ван', 0.09259033203125)], 13: [('Aud', 0.3671875), (' Aud', 0.36572265625), ('根', 0.31689453125), ('ause', 0.30078125), ('baum', 0.298583984375)], 47: [('oces', 0.7265625), ('dua', 0.669921875), ('nsic', 0.65087890625), ('argon', 0.64892578125), ('bola', 0.6298828125)], 56: [('айн', 0.70947265625), ('全力以', 0.61767578125), ('LM', 0.6025390625), (' flet', 0.59814453125), ('inctions', 0.58740234375)], 58: [(' l', 0.1580810546875), ('mode', 0.1510009765625), ('帽', 0.1270751953125), ('solemn', 0.1268310546875), (' s', 0.125244140625)]}, 10: {0: [('ager', 0.08013916015625), ('珠', 0.07952880859375), ('lier', 0.07781982421875), (' version', 0.07391357421875), (' token', 0.0738525390625)], 8: [('黄', 0.1126708984375), ('偶', 0.10675048828125), ('ollen', 0.09912109375), ('-', 0.0963134765625), ('irat', 0.095947265625)], 19: [('lars', 0.1824951171875), ('restant', 0.171142578125), ('�', 0.1697998046875), ('ultors', 0.1690673828125), ('子里', 0.1639404296875)], 23: [('cret', 0.53564453125), (' Camera', 0.529296875), (' camera', 0.525390625), ('camera', 0.5048828125), (' powers', 0.50390625)], 58: [('ilyn', 0.131103515625), ('ilitats', 0.12548828125), ('OrUpdate', 0.12286376953125), (' Sitter', 0.12261962890625), ('ilog', 0.12109375)], 60: [(' l', 0.23876953125), ('辈', 0.2327880859375), ('ref', 0.2276611328125), ('off', 0.216796875), ('able', 0.205810546875)]}, 5: {1: [('立', 0.1319580078125), (' Keywords', 0.1075439453125), ('gdx', 0.10455322265625), ('ario', 0.1011962890625), ('inities', 0.10015869140625)], 13: [('стрия', 0.07305908203125), ('три', 0.07177734375), ('ANN', 0.06671142578125), ('gro', 0.06658935546875), ('ines', 0.06549072265625)], 39: [('uries', 0.1712646484375), ('沙', 0.1624755859375), ('ure', 0.160400390625), ('say', 0.1575927734375), ('idunt', 0.1568603515625)], 47: [('冲突', 0.76611328125), ('гло', 0.7578125), ('lir', 0.685546875), ('oldre', 0.67578125), ('substack', 0.67578125)], 56: [(' пореди', 0.98291015625), ('Esquerra', 0.89501953125), ('日内与', 0.87451171875), (' храбро', 0.8603515625), ('sWith', 0.85498046875)], 57: [(' but', 0.223876953125), (' pero', 0.17919921875), (' But', 0.172607421875), ('��', 0.171875), ('but', 0.1617431640625)]}, 0: {3: [('anine', 0.19775390625), ('kT', 0.1854248046875), ('мини', 0.1839599609375), ('тери', 0.1776123046875), ('า', 0.174072265625)], 4: [('вец', 0.020172119140625), (' Path', 0.0188751220703125), ('жен', 0.0186004638671875), ('tua', 0.0172882080078125), ('пси', 0.0171966552734375)], 5: [('iedo', 0.10693359375), ('iaris', 0.09832763671875), (' препоръ', 0.08917236328125), ('usos', 0.0889892578125), ('reff', 0.08837890625)], 10: [('4', 0.038177490234375), ('0', 0.036956787109375), ('7', 0.036590576171875), ('6', 0.036529541015625), ('1', 0.036102294921875)], 35: [('стина', 0.0192108154296875), ('ributed', 0.0191192626953125), ('rodn', 0.018890380859375), ('гле', 0.01824951171875), ('rea', 0.018218994140625)], 37: [('idera', 2.388671875), (' Fac', 2.19140625), ('frak', 2.09765625), ('Complexity', 2.048828125), ('enir', 2.03125)]}, 4: {3: [('emir', 0.0135955810546875), ('�', 0.01308441162109375), ('favor', 0.01303863525390625), (' K', 0.01255035400390625), ('一片', 0.01245880126953125)], 8: [('8', 0.161865234375), ('7', 0.1607666015625), ('婿', 0.1507568359375), ('9', 0.1494140625), ('6', 0.1492919921875)], 13: [('ove', 0.498291015625), ('ady', 0.466796875), ('beck', 0.46435546875), ('capital', 0.454833984375), ('uros', 0.43896484375)], 14: [('ULTS', 0.87841796875), ('чина', 0.8779296875), ('荒', 0.859375), ('2', 0.826171875), ('return', 0.806640625)], 19: [('juju', 0.2406005859375), ('UTO', 0.2322998046875), ('阱', 0.1917724609375), ('lice', 0.1915283203125), ('LEX', 0.191162109375)], 24: [('ikon', 0.321044921875), ('bers', 0.314208984375), ('bL', 0.31396484375), ('支', 0.312255859375), ('lyn', 0.297607421875)]}, 7: {3: [('列', 0.1751708984375), ('ним', 0.162353515625), ('莽', 0.1441650390625), ('ход', 0.1375732421875), ('раз', 0.137451171875)], 14: [('anka', 0.9619140625), (' bab', 0.9326171875), ('айн', 0.92919921875), (' Feature', 0.90966796875), ('unals', 0.8779296875)], 18: [(' Еми', 0.11370849609375), ('promised', 0.1099853515625), ('tal', 0.10595703125), ('ooth', 0.10516357421875), ('LLOW', 0.10498046875)], 26: [('ashian', 0.1226806640625), ('remos', 0.12188720703125), ('гради', 0.114501953125), ('Pel', 0.11175537109375), ('дово', 0.1112060546875)], 36: [(' m', 0.352783203125), ('3', 0.2939453125), (' b', 0.2822265625), ('x', 0.276611328125), (' --', 0.27392578125)], 46: [('entar', 0.1590576171875), ('цен', 0.1546630859375), ('oelectric', 0.1513671875), ('assar', 0.1495361328125), ('ierto', 0.14599609375)]}, 9: {3: [('音', 0.1341552734375), ('isse', 0.130859375), ('imos', 0.12841796875), ('ge', 0.1240234375), (' Pages', 0.1221923828125)], 8: [(' branc', 0.14306640625), ('ovo', 0.1387939453125), ('apic', 0.1380615234375), (' roseg', 0.132568359375), (' Krone', 0.125)], 13: [('惕', 0.059814453125), ('eneg', 0.059600830078125), (' stocks', 0.054046630859375), (' Llibre', 0.0516357421875), ('matically', 0.050689697265625)], 14: [('sw', 1.001953125), ('unal', 0.92529296875), (' жа', 0.8544921875), (' sw', 0.8203125), (' Feature', 0.81103515625)], 19: [('版', 0.1627197265625), (' &$', 0.160888671875), ('$~\\\\', 0.160400390625), ('片', 0.15087890625), ('滑', 0.150634765625)], 26: [('enesis', 0.099853515625), ('LOAT', 0.0906982421875), ('erna', 0.09051513671875), ('ernation', 0.0880126953125), ('ennel', 0.08758544921875)]}, 3: {5: [(' Set', 0.0254364013671875), ('htra', 0.0240631103515625), ('enal', 0.0230255126953125), ('ogged', 0.0228118896484375), (' Kraft', 0.02276611328125)], 19: [('菲特', 0.134521484375), ('TY', 0.1334228515625), ('客', 0.131103515625), ('еми', 0.128662109375), ('�', 0.12744140625)], 23: [('dataTables', 0.14306640625), ('Бал', 0.134765625), ('onaut', 0.130859375), ('цеп', 0.130859375), ('гипет', 0.125732421875)], 28: [('quam', 1.2041015625), (' SYSTEM', 1.1640625), ('system', 1.1162109375), (' normals', 1.11328125), ('heet', 1.10546875)], 43: [('insic', 0.18115234375), ('estrat', 0.180908203125), ('ierge', 0.1663818359375), ('ergy', 0.1597900390625), ('acum', 0.1527099609375)], 58: [('iente', 0.12225341796875), ('ogens', 0.1219482421875), ('phalt', 0.1207275390625), ('гос', 0.12030029296875), ('estors', 0.11968994140625)]}, 1: {6: [('ership', 0.198974609375), ('yers', 0.189208984375), ('voir', 0.1890869140625), ('per', 0.1861572265625), ('liest', 0.1845703125)], 32: [(' причини', 0.08355712890625), ('ahler', 0.07513427734375), (' c', 0.071533203125), (' sever', 0.06890869140625), ('con', 0.06744384765625)], 33: [('-', 0.12109375), ('(', 0.109375), ('ped', 0.1058349609375), ('i', 0.10400390625), ('[', 0.1004638671875)], 47: [('开口', 0.235107421875), ('吸', 0.2276611328125), ('提', 0.22412109375), ('ACP', 0.2171630859375), ('ixa', 0.216552734375)], 53: [('指引', 1.29296875), ('oz', 1.2900390625), ('overs', 1.224609375), ('妆', 1.2021484375), (' ох', 1.17578125)], 58: [('disturbed', 0.05950927734375), ('irit', 0.05859375), ('aleses', 0.058197021484375), ('кани', 0.05755615234375), ('^*$,', 0.05560302734375)]}, 8: {6: [('зва', 1.2666015625), ('ractors', 1.2216796875), ('бора', 1.2109375), ('LineNo', 1.2021484375), (' l', 1.1279296875)], 21: [('tility', 0.7314453125), ('ueren', 0.7197265625), ('础', 0.71044921875), (' вале', 0.689453125), ('ialog', 0.6845703125)], 33: [('木齐', 0.234375), ('мар', 0.230712890625), ('汲', 0.2239990234375), ('adwords', 0.218505859375), ('�', 0.2125244140625)], 53: [('фове', 0.12939453125), ('股', 0.11871337890625), ('屋', 0.11444091796875), ('挪', 0.11431884765625), ('来形容', 0.1142578125)], 58: [('1', 0.0888671875), ('0', 0.08843994140625), ('7', 0.08758544921875), ('8', 0.084228515625), ('6', 0.08331298828125)], 60: [(' Ching', 0.1719970703125), ('anies', 0.156494140625), (' rear', 0.1416015625), (' application', 0.1383056640625), ('显', 0.13671875)]}, 2: {8: [('7', 0.1544189453125), ('1', 0.149658203125), ('3', 0.145263671875), ('6', 0.1434326171875), ('8', 0.1405029296875)], 13: [('1', 0.42431640625), ('5', 0.42431640625), ('day', 0.405517578125), ('0', 0.401123046875), ('rex', 0.400146484375)], 19: [('мена', 0.1597900390625), ('拣', 0.1578369140625), ('ACLE', 0.155517578125), ('�', 0.1544189453125), ('rais', 0.1505126953125)], 35: [('��', 0.09246826171875), ('IMPORTED', 0.087646484375), ('ремо', 0.0853271484375), (' munt', 0.0809326171875), ('esqu', 0.07513427734375)], 46: [('Phabricator', 0.2327880859375), ('lectuals', 0.2308349609375), ('etheless', 0.2301025390625), ('LENT', 0.229248046875), ('aronja', 0.2183837890625)], 52: [('рали', 0.67333984375), (' produint', 0.66552734375), ('itatively', 0.640625), ('�乐', 0.62744140625), ('>(<', 0.61865234375)]}}\n",
      "Shared expert predictions: [[('ismes', 0.303466796875), ('semb', 0.29345703125), (' Senat', 0.28173828125), ('ODO', 0.2802734375), ('外', 0.272216796875)], [('涡', 0.78857421875), ('prop', 0.59912109375), ('�', 0.5810546875), ('思', 0.56640625), ('符号', 0.5576171875)], [('vel', 0.8056640625), ('ADO', 0.7939453125), ('ANI', 0.79296875), ('��', 0.76416015625), ('yss', 0.7490234375)], [(' аб', 0.708984375), (' Aff', 0.70361328125), ('Aff', 0.68359375), ('eness', 0.6689453125), ('affe', 0.66552734375)], [('enko', 1.0234375), ('vel', 0.88427734375), ('QA', 0.85498046875), ('ikin', 0.8544921875), ('迭', 0.83984375)], [('codep', 0.70703125), ('CODE', 0.70361328125), ('NOM', 0.69189453125), ('名誉', 0.67626953125), ('code', 0.66943359375)], [('矫', 0.890625), (' Dist', 0.86669921875), (' H', 0.791015625), ('ota', 0.77392578125), ('苑', 0.7724609375)], [('WN', 0.89306640625), ('咕', 0.884765625), ('光彩', 0.88427734375), ('aya', 0.8623046875), ('zo', 0.84326171875)], [('itm', 0.896484375), ('雪', 0.8623046875), ('Ns', 0.78955078125), ('纠结', 0.78564453125), ('etz', 0.77734375)], [('XMLSchema', 0.94189453125), (' glyphicon', 0.919921875), ('-}', 0.8740234375), ('ATOM', 0.87060546875), ('allo', 0.85400390625)], [('昭', 0.96875), ('嘘', 0.94189453125), ('aks', 0.77685546875), ('ZW', 0.76806640625), ('严格执行', 0.76416015625)]]\n",
      "\n",
      "MoE Layer 15:\n",
      "Selected experts: [[16, 3, 24, 35, 27, 19], [28, 50, 10, 17, 33, 11], [44, 38, 2, 61, 35, 39], [32, 39, 37, 43, 61, 57], [44, 7, 30, 35, 52, 38], [10, 62, 36, 21, 26, 16], [10, 54, 41, 5, 21, 3], [44, 47, 8, 24, 2, 35], [45, 32, 57, 49, 23, 58], [52, 7, 35, 44, 25, 22], [16, 54, 52, 39, 49, 35]]\n",
      "Expert weights: [[0.033721923828125, 0.47509765625, 0.029052734375, 0.02667236328125, 0.0221710205078125, 0.0196075439453125], [0.036956787109375, 0.134521484375, 0.051300048828125, 0.04669189453125, 0.035675048828125, 0.031524658203125], [0.0810546875, 0.06072998046875, 0.06585693359375, 0.09686279296875, 0.10247802734375, 0.0511474609375], [0.1287841796875, 0.061981201171875, 0.049468994140625, 0.0462646484375, 0.0460205078125, 0.03924560546875], [0.1484375, 0.1063232421875, 0.0533447265625, 0.050628662109375, 0.04998779296875, 0.04791259765625], [0.1593017578125, 0.013153076171875, 0.0206756591796875, 0.51025390625, 0.01218414306640625, 0.01215362548828125], [0.2022705078125, 0.06304931640625, 0.05950927734375, 0.039031982421875, 0.03826904296875, 0.0305633544921875], [0.1597900390625, 0.0653076171875, 0.041259765625, 0.037445068359375, 0.03662109375, 0.034393310546875], [0.09283447265625, 0.04364013671875, 0.037200927734375, 0.0341796875, 0.031951904296875, 0.0309906005859375], [0.061614990234375, 0.062225341796875, 0.11004638671875, 0.043182373046875, 0.041778564453125, 0.03656005859375], [0.130615234375, 0.09442138671875, 0.056732177734375, 0.053497314453125, 0.050750732421875, 0.0303497314453125]]\n",
      "Combined output tokens: [[(' n', 0.75244140625), ('prop', 0.69677734375), (' s', 0.67138671875), ('ismes', 0.6640625), (' p', 0.61865234375)], [('�乐', 1.1435546875), ('ulats', 1.1279296875), ('pcs', 1.1240234375), ('tail', 1.1201171875), ('mens', 1.11328125)], [('abans', 1.30078125), ('ево', 1.251953125), (' res', 1.244140625), ('lefte', 1.2392578125), ('言论', 1.21484375)], [('onga', 1.0712890625), ('emplar', 1.060546875), ('еме', 1.056640625), (' Hamps', 1.0380859375), ('emen', 1.0322265625)], [('дина', 1.2587890625), ('emir', 1.2373046875), ('$\\\\,', 1.1962890625), ('ollar', 1.1220703125), ('сей', 1.1142578125)], [('iet', 3.93359375), ('粒', 3.63671875), ('from', 3.57421875), ('носа', 3.482421875), ('import', 3.412109375)], [('耽', 1.798828125), ('OTO', 1.798828125), ('тория', 1.7587890625), ('GC', 1.728515625), ('etal', 1.69921875)], [('ър', 1.888671875), ('soever', 1.8798828125), ('aber', 1.8173828125), ('лара', 1.671875), ('rinos', 1.6123046875)], [('orb', 1.2177734375), ('Embed', 1.0654296875), ('embed', 1.052734375), ('粘膜', 1.0498046875), ('=\"__', 1.0361328125)], [('idores', 1.2998046875), ('版权或其它', 1.2939453125), (' дял', 1.2841796875), ('icense', 1.267578125), ('ughed', 1.236328125)], [(' общ', 1.17578125), ('ALOG', 1.1083984375), ('unger', 1.0673828125), ('umbers', 1.0400390625), ('ioxid', 1.0380859375)]]\n",
      "Expert predictions by position: {2: {2: [(':`', 0.156005859375), ('drom', 0.153564453125), (':', 0.1475830078125), ('ula', 0.1468505859375), ('pora', 0.143798828125)], 35: [('ENCES', 0.46826171875), ('errat', 0.46630859375), ('osex', 0.454345703125), ('iums', 0.427490234375), ('дос', 0.426513671875)], 38: [('ataka', 0.267578125), ('менни', 0.259765625), ('ellido', 0.256591796875), (' STATISTICS', 0.25390625), (' земя', 0.251708984375)], 39: [('мор', 0.247802734375), ('vertis', 0.2474365234375), ('quines', 0.2171630859375), ('inverting', 0.21630859375), ('楂', 0.2132568359375)], 44: [('惕', 0.89111328125), ('ე', 0.8876953125), (' scrut', 0.8544921875), ('vertis', 0.783203125), ('iaris', 0.77490234375)], 61: [('pan', 0.409423828125), ('栏', 0.3994140625), ('ees', 0.380615234375), ('if', 0.378662109375), ('工', 0.373046875)]}, 7: {2: [('1', 0.3330078125), ('2', 0.32666015625), ('3', 0.3193359375), ('9', 0.310302734375), ('8', 0.302734375)], 8: [('ille', 0.2103271484375), ('�', 0.1953125), (' Aquell', 0.1929931640625), ('春', 0.1922607421875), ('бал', 0.19189453125)], 24: [(' Pins', 0.01922607421875), ('CodeAttribute', 0.018218994140625), (' sols', 0.0178375244140625), (' Tw', 0.0174560546875), ('AudioEvent', 0.0172271728515625)], 35: [('ionals', 0.15283203125), ('aturally', 0.1492919921875), ('ieras', 0.1380615234375), ('�', 0.1339111328125), ('olver', 0.1307373046875)], 44: [(' поне', 1.875), ('loat', 1.7451171875), ('��', 1.6123046875), ('abet', 1.4375), ('ondre', 1.4365234375)], 47: [('tues', 0.3466796875), ('скар', 0.327880859375), ('../', 0.325927734375), (' Boul', 0.324951171875), ('rib', 0.3212890625)]}, 0: {3: [('crest', 0.08184814453125), ('}$~\\\\', 0.08026123046875), ('icacy', 0.0789794921875), (' Ast', 0.07275390625), ('ractical', 0.07196044921875)], 16: [('inguish', 0.050811767578125), ('��', 0.044647216796875), ('率高', 0.043853759765625), ('�', 0.042755126953125), ('掘', 0.03997802734375)], 19: [('ystyle', 0.0258636474609375), ('idera', 0.0250701904296875), ('StyleID', 0.0250396728515625), ('ouville', 0.0247650146484375), (' Noguera', 0.0245361328125)], 24: [('ncy', 0.12347412109375), (' e', 0.11700439453125), ('l', 0.09869384765625), ('je', 0.09259033203125), (' l', 0.09210205078125)], 27: [(' квар', 0.031219482421875), (' recon', 0.0310516357421875), ('ONY', 0.03009033203125), ('бите', 0.0297088623046875), ('康', 0.02935791015625)], 35: [('aced', 0.1209716796875), (' устройство', 0.11944580078125), ('imal', 0.11767578125), ('la', 0.117431640625), ('odin', 0.115478515625)]}, 6: {3: [('idos', 0.09210205078125), ('idas', 0.0782470703125), ('tua', 0.0726318359375), ('dell', 0.0723876953125), ('нос', 0.07110595703125)], 5: [('trunk', 0.2166748046875), ('Temple', 0.1839599609375), ('anean', 0.170166015625), ('合法', 0.1690673828125), ('一天', 0.1680908203125)], 10: [('from', 1.54296875), (' def', 1.4072265625), ('def', 1.35546875), (' Асен', 1.3193359375), ('class', 1.3046875)], 21: [('7', 0.11456298828125), ('king', 0.11181640625), ('зана', 0.111328125), ('ler', 0.11126708984375), ('ante', 0.11077880859375)], 41: [('onges', 0.37548828125), ('IEW', 0.369384765625), ('hores', 0.362548828125), ('READ', 0.3544921875), ('掏', 0.34326171875)], 54: [('tesi', 0.291015625), ('eved', 0.25341796875), ('GRect', 0.250732421875), ('anax', 0.2489013671875), ('utely', 0.2445068359375)]}, 4: {7: [('=\"../_', 0.25732421875), ('的人来说', 0.25537109375), ('oples', 0.253662109375), ('duino', 0.2431640625), ('会员', 0.2406005859375)], 30: [('7', 0.1988525390625), ('1', 0.1903076171875), ('9', 0.189453125), ('ermat', 0.181884765625), ('5', 0.1776123046875)], 35: [('��', 0.312255859375), ('мври', 0.283203125), ('ническата', 0.27392578125), ('евру', 0.27099609375), (' preus', 0.256591796875)], 38: [('носа', 0.3076171875), (' общини', 0.29736328125), ('attery', 0.27001953125), ('туа', 0.262451171875), ('мила', 0.261962890625)], 44: [('ivable', 0.25048828125), ('тивни', 0.23876953125), ('зена', 0.2379150390625), ('ssers', 0.23779296875), (' Grans', 0.2337646484375)], 52: [('vale', 0.20947265625), ('iars', 0.2020263671875), ('lsb', 0.196533203125), ('ueres', 0.1925048828125), ('vine', 0.1865234375)]}, 9: {7: [('evin', 0.34033203125), ('Гене', 0.306884765625), ('buntu', 0.294677734375), ('ито', 0.293212890625), ('atol', 0.289794921875)], 22: [('themselves', 0.13720703125), (' herself', 0.125244140625), ('herself', 0.124267578125), ('сът', 0.11767578125), ('himself', 0.1170654296875)], 25: [('rotron', 0.1492919921875), (' пече', 0.1383056640625), ('трове', 0.13330078125), (' showc', 0.1273193359375), ('бани', 0.1240234375)], 35: [('вестни', 0.032958984375), ('adell', 0.03167724609375), (' feines', 0.031585693359375), ('OrBuilder', 0.0301513671875), ('кул', 0.029937744140625)], 44: [('телен', 0.73486328125), (' поне', 0.576171875), (' Principat', 0.56982421875), ('IRT', 0.56640625), ('aure', 0.5634765625)], 52: [('6', 0.33642578125), ('4', 0.313720703125), ('3', 0.301025390625), ('9', 0.2978515625), ('0', 0.295654296875)]}, 1: {10: [('4', 0.2138671875), ('5', 0.21142578125), ('“', 0.2113037109375), ('3', 0.205078125), ('er', 0.1998291015625)], 11: [('рак', 0.1519775390625), ('ivable', 0.1331787109375), ('ennicke', 0.130615234375), ('GTK', 0.1298828125), ('家庄', 0.12359619140625)], 17: [('indicat', 0.1556396484375), ('煌', 0.147705078125), (' [', 0.1416015625), (' una', 0.135498046875), ('成', 0.1317138671875)], 28: [('2', 0.36962890625), ('3', 0.3544921875), ('4', 0.346923828125), ('0', 0.33544921875), ('7', 0.33154296875)], 33: [('iclass', 0.09356689453125), ('лизация', 0.0924072265625), ('履', 0.091552734375), ('ollow', 0.09051513671875), ('隔', 0.090087890625)], 50: [(' React', 0.689453125), ('stand', 0.6552734375), ('品的', 0.6474609375), (' apex', 0.63037109375), ('品', 0.62841796875)]}, 5: {10: [('from', 1.9580078125), ('import', 1.95703125), ('iet', 1.9169921875), ('ierarch', 1.732421875), (' Асен', 1.6376953125)], 16: [('smen', 0.50048828125), ('eered', 0.49560546875), (' Ter', 0.437255859375), ('adon', 0.4296875), ('sman', 0.41259765625)], 21: [('носа', 2.681640625), ('lier', 2.509765625), ('coh', 2.46875), ('upe', 2.44140625), ('iet', 2.365234375)], 26: [('emouth', 0.05804443359375), ('Cached', 0.05682373046875), ('dfp', 0.053314208984375), ('画', 0.053070068359375), ('\"&', 0.0506591796875)], 36: [('ническата', 0.0869140625), (' Capture', 0.08050537109375), ('гни', 0.08013916015625), ('encions', 0.0780029296875), ('cions', 0.0771484375)], 62: [('ilst', 0.0672607421875), ('ФК', 0.05181884765625), ('mmad', 0.050750732421875), (' Plate', 0.05023193359375), ('това', 0.04974365234375)]}, 10: {16: [(' channel', 0.037872314453125), ('oun', 0.03668212890625), ('种', 0.036041259765625), ('ety', 0.035858154296875), ('�', 0.0355224609375)], 35: [('idores', 0.6962890625), ('uder', 0.65625), ('扫黑除恶', 0.61572265625), ('uran', 0.61181640625), ('LineNo', 0.6044921875)], 39: [('chet', 0.1884765625), ('ddot', 0.1866455078125), ('annels', 0.152587890625), ('ристи', 0.1514892578125), ('Document', 0.1474609375)], 49: [('писани', 0.1883544921875), ('urch', 0.18359375), ('quina', 0.183349609375), ('stiques', 0.1827392578125), ('pendix', 0.177490234375)], 52: [('��', 0.13427734375), ('ered', 0.1317138671875), ('urat', 0.1300048828125), ('ФА', 0.12420654296875), ('encions', 0.12139892578125)], 54: [('SOUR', 0.398193359375), ('SSERT', 0.388916015625), ('娥', 0.388671875), ('esor', 0.380859375), ('habit', 0.380859375)]}, 8: {23: [('вий', 0.106689453125), ('icines', 0.10662841796875), ('nides', 0.0997314453125), ('виси', 0.09918212890625), ('ALES', 0.0977783203125)], 32: [('possible', 0.48876953125), ('portunity', 0.452880859375), ('esk', 0.414794921875), (' possible', 0.406005859375), ('ати', 0.40576171875)], 45: [('or', 0.62744140625), ('pd', 0.57470703125), ('in', 0.55517578125), ('ant', 0.55078125), ('ro', 0.53759765625)], 49: [('Lookup', 0.12127685546875), ('ny', 0.119384765625), ('巡', 0.10955810546875), ('造', 0.1080322265625), ('ippets', 0.1063232421875)], 57: [('承诺', 0.1383056640625), ('assump', 0.1353759765625), ('suc', 0.125), (' Поли', 0.12005615234375), ('escu', 0.11712646484375)], 58: [('ета', 0.11297607421875), ('紧', 0.09490966796875), ('стки', 0.091552734375), ('хе', 0.0908203125), ('tring', 0.09075927734375)]}, 3: {32: [('iad', 0.1370849609375), ('йл', 0.0994873046875), ('ForTesting', 0.0963134765625), ('uly', 0.0946044921875), ('rodu', 0.093017578125)], 37: [('disappeared', 0.1527099609375), ('amet', 0.152587890625), (' why', 0.1497802734375), ('рун', 0.14404296875), ('不见', 0.1434326171875)], 39: [('глави', 0.197021484375), (' n', 0.155517578125), ('rams', 0.155517578125), (' j', 0.1514892578125), (' div', 0.149169921875)], 43: [('imension', 0.2095947265625), ('inux', 0.1971435546875), ('дица', 0.18505859375), ('haviour', 0.182861328125), ('ATTRIB', 0.1741943359375)], 57: [('нисти', 0.1756591796875), ('ipus', 0.1456298828125), (' caiguda', 0.1422119140625), ('��', 0.1400146484375), (' Reg', 0.1322021484375)], 61: [('ersion', 0.1856689453125), ('lection', 0.184814453125), (' Humblot', 0.17822265625), ('��', 0.1767578125), (' /*!', 0.1689453125)]}}\n",
      "Shared expert predictions: [[(' n', 0.69140625), ('prop', 0.6669921875), (' s', 0.62890625), ('ismes', 0.61865234375), (' <', 0.55810546875)], [('�乐', 1.181640625), ('ismes', 0.99609375), (' pols', 0.85302734375), (' sexe', 0.83203125), ('rid', 0.830078125)], [('�', 0.8388671875), ('nos', 0.81884765625), ('屏', 0.8056640625), ('emus', 0.7998046875), ('ords', 0.7958984375)], [('emen', 0.90380859375), (' propis', 0.8466796875), ('旗', 0.8203125), ('Habitants', 0.81298828125), ('retch', 0.80224609375)], [('arin', 0.9013671875), ('�', 0.86865234375), ('摄', 0.8330078125), ('че', 0.82861328125), ('ogr', 0.822265625)], [('irc', 0.8330078125), ('GC', 0.82421875), ('Cci', 0.79736328125), ('�', 0.791015625), (' mest', 0.77392578125)], [('idera', 1.2685546875), ('Cci', 1.1181640625), ('GC', 1.0009765625), ('NOSCRIPT', 0.97265625), ('гио', 0.962890625)], [('炙', 0.87646484375), ('颓', 0.83837890625), ('吸取', 0.83740234375), ('公', 0.80078125), (' mestra', 0.7958984375)], [('ismes', 0.94091796875), ('embed', 0.923828125), (' relle', 0.88427734375), ('Embed', 0.87255859375), ('粘膜', 0.87158203125)], [('entren', 0.99560546875), ('ierge', 0.9521484375), ('emplar', 0.90771484375), ('ALES', 0.9033203125), ('版权或其它', 0.8583984375)], [('unger', 0.8681640625), ('氏', 0.8095703125), ('jem', 0.79296875), ('umber', 0.7919921875), ('($\\\\', 0.783203125)]]\n",
      "\n",
      "MoE Layer 16:\n",
      "Selected experts: [[23, 1, 8, 3, 37, 46], [50, 43, 56, 48, 9, 52], [10, 45, 32, 5, 9, 37], [48, 25, 15, 59, 45, 13], [3, 10, 14, 1, 29, 5], [20, 56, 7, 33, 36, 48], [56, 33, 20, 7, 36, 25], [12, 22, 29, 3, 5, 32], [24, 33, 52, 56, 63, 48], [14, 1, 29, 3, 63, 13], [32, 1, 14, 51, 38, 8]]\n",
      "Expert weights: [[0.047760009765625, 0.205078125, 0.043243408203125, 0.04443359375, 0.0325927734375, 0.0325927734375], [0.043548583984375, 0.05865478515625, 0.1588134765625, 0.0814208984375, 0.042449951171875, 0.033721923828125], [0.298095703125, 0.04559326171875, 0.043731689453125, 0.031951904296875, 0.031585693359375, 0.0283050537109375], [0.2376708984375, 0.053985595703125, 0.0455322265625, 0.0399169921875, 0.037445068359375, 0.03656005859375], [0.4462890625, 0.109619140625, 0.053741455078125, 0.050262451171875, 0.0269622802734375, 0.01666259765625], [0.1480712890625, 0.1390380859375, 0.0972900390625, 0.089111328125, 0.035736083984375, 0.02410888671875], [0.164794921875, 0.14599609375, 0.0770263671875, 0.06903076171875, 0.060699462890625, 0.048004150390625], [0.22509765625, 0.05718994140625, 0.053680419921875, 0.1646728515625, 0.0263214111328125, 0.02490234375], [0.035491943359375, 0.0445556640625, 0.05401611328125, 0.260009765625, 0.03192138671875, 0.0264892578125], [0.0726318359375, 0.058837890625, 0.0199127197265625, 0.45654296875, 0.0174407958984375, 0.0172271728515625], [0.040313720703125, 0.08587646484375, 0.05133056640625, 0.04937744140625, 0.039703369140625, 0.03814697265625]]\n",
      "Combined output tokens: [[('NameLink', 0.82861328125), ('lou', 0.7646484375), ('стер', 0.763671875), ('idera', 0.734375), (' volc', 0.7294921875)], [('�乐', 1.806640625), ('open', 1.50390625), ('掩', 1.33984375), ('殷', 1.326171875), (' copy', 1.32421875)], [(' as', 3.5859375), ('苟', 3.341796875), (' как', 3.173828125), ('лкото', 3.099609375), ('华声', 2.884765625)], [('舍', 1.541015625), ('齿', 1.431640625), ('ulin', 1.330078125), ('ivate', 1.3212890625), ('ē', 1.291015625)], [('rase', 4.6015625), ('rasal', 3.74609375), ('onada', 3.53125), ('onesos', 3.396484375), ('вари', 3.37890625)], [('IAS', 2.232421875), ('ML', 2.162109375), (' juvenil', 2.13671875), ('anting', 2.103515625), ('override', 2.083984375)], [('锻炼', 3.017578125), ('凝', 2.990234375), ('orer', 2.609375), ('锻', 2.6015625), (' sub', 2.552734375)], [('3', 3.06640625), ('4', 2.828125), ('5', 2.82421875), ('1', 2.822265625), ('0', 2.76171875)], [(' pd', 5.8984375), ('pd', 5.56640625), ('PD', 4.22265625), (' PD', 3.91015625), (' px', 3.861328125)], [('mathbold', 3.40234375), ('元气', 3.353515625), ('вар', 3.328125), ('CODEGEN', 3.279296875), ('ceive', 3.044921875)], [('ixel', 1.0546875), ('徘', 0.982421875), ('弈', 0.95458984375), ('嘘', 0.94921875), ('rita', 0.935546875)]]\n",
      "Expert predictions by position: {0: {1: [('onet', 0.213134765625), ('oners', 0.2117919921875), ('aldi', 0.2012939453125), ('глед', 0.1939697265625), (' lletres', 0.19140625)], 3: [('rase', 3.919921875), ('rasal', 3.396484375), ('obres', 3.181640625), ('onesos', 3.12109375), (' Isenburg', 3.091796875)], 8: [('ey', 0.1390380859375), ('onium', 0.13427734375), ('IUS', 0.12060546875), ('Enter', 0.1195068359375), ('orell', 0.11737060546875)], 23: [('хия', 0.0758056640625), ('�起', 0.06634521484375), ('de', 0.06488037109375), ('зми', 0.0648193359375), ('inctions', 0.0638427734375)], 37: [(' Гър', 0.10302734375), ('�', 0.09710693359375), ('=</', 0.09149169921875), ('emale', 0.09136962890625), ('зон', 0.0867919921875)], 46: [('费', 0.032318115234375), ('猎', 0.0305023193359375), ('费的', 0.0277252197265625), ('ipt', 0.0247955322265625), ('}~\\\\', 0.02423095703125)]}, 4: {1: [('or', 0.08929443359375), ('OR', 0.0733642578125), ('ophone', 0.07000732421875), (' esdev', 0.06903076171875), ('жде', 0.0654296875)], 3: [('пул', 0.0311431884765625), ('itiu', 0.02593994140625), ('rendre', 0.0254364013671875), ('简书', 0.024261474609375), ('为客户', 0.024017333984375)], 5: [('май', 0.2047119140625), ('udd', 0.2032470703125), ('Aid', 0.199951171875), ('guien', 0.1998291015625), ('aronja', 0.1826171875)], 10: [(' Roig', 1.4228515625), ('orda', 1.3857421875), ('chaft', 1.3623046875), ('хберг', 1.328125), (' Нобе', 1.3271484375)], 14: [('мик', 0.262451171875), ('orro', 0.253662109375), ('赎', 0.252197265625), ('价', 0.2462158203125), ('кръ', 0.2410888671875)], 29: [('3', 0.10821533203125), ('2', 0.1060791015625), ('7', 0.1021728515625), ('1', 0.09954833984375), ('0', 0.09930419921875)]}, 9: {1: [('emens', 0.18505859375), ('缔', 0.1778564453125), ('�', 0.17529296875), ('вател', 0.1728515625), ('itc', 0.16943359375)], 3: [('etheless', 3.3359375), ('eqno', 3.25390625), ('вар', 3.07421875), (' Anys', 2.98046875), ('вари', 2.9296875)], 13: [('нети', 0.1363525390625), ('步', 0.1318359375), ('alada', 0.1287841796875), ('denly', 0.12646484375), ('allel', 0.12548828125)], 14: [('ква', 0.1881103515625), ('SLO', 0.182861328125), ('шън', 0.179931640625), ('нисти', 0.1689453125), ('瞒', 0.1588134765625)], 29: [('itespace', 0.10595703125), ('nteg', 0.1011962890625), ('ardown', 0.1007080078125), (' CWE', 0.09161376953125), ('лище', 0.08966064453125)], 63: [('ache', 0.0936279296875), ('aku', 0.092041015625), ('见到', 0.0889892578125), ('拖', 0.08734130859375), ('чева', 0.08697509765625)]}, 10: {1: [('rivacy', 0.345703125), ('реща', 0.32373046875), ('гъ', 0.321533203125), ('стове', 0.31396484375), (' infin', 0.31201171875)], 8: [('fess', 0.0445556640625), ('alera', 0.043853759765625), ('�起', 0.04180908203125), ('двиг', 0.0413818359375), (' Series', 0.041168212890625)], 14: [('[...]', 0.1676025390625), ('olver', 0.1632080078125), ('ialize', 0.1614990234375), ('3', 0.160888671875), ('olin', 0.158203125)], 32: [('4', 0.0858154296875), ('1', 0.085693359375), ('5', 0.0853271484375), ('2', 0.0797119140625), ('0', 0.07965087890625)], 38: [(' dirigides', 0.14697265625), ('rosa', 0.13232421875), ('они', 0.1263427734375), ('材料的', 0.12457275390625), ('FilterChain', 0.124267578125)], 51: [(' censats', 0.30419921875), ('quessa', 0.281494140625), ('DIF', 0.27001953125), ('quesos', 0.266845703125), (' асоциа', 0.25927734375)]}, 7: {3: [('essel', 1.037109375), ('мара', 1.0263671875), ('olson', 1.01171875), ('foundland', 0.98193359375), ('ondon', 0.962890625)], 5: [('source', 0.1375732421875), ('批', 0.1373291015625), ('obi', 0.1324462890625), (' cim', 0.126708984375), ('cite', 0.126708984375)], 12: [('3', 2.125), ('4', 2.013671875), ('7', 2.0), ('0', 1.9765625), ('2', 1.9697265625)], 22: [('1', 0.80859375), ('3', 0.7890625), ('4', 0.7421875), ('2', 0.7275390625), ('7', 0.720703125)], 29: [('reo', 0.232421875), ('eler', 0.21044921875), ('лище', 0.208251953125), ('omis', 0.206298828125), ('ras', 0.2052001953125)], 32: [('ган', 0.1690673828125), ('uchy', 0.1439208984375), ('тивни', 0.1385498046875), (' GiB', 0.134521484375), ('自然', 0.1326904296875)]}, 2: {5: [(' obting', 0.09661865234375), ('гон', 0.0960693359375), ('piration', 0.09552001953125), (' край', 0.09332275390625), ('IPU', 0.09185791015625)], 9: [('umper', 0.1539306640625), ('umn', 0.1466064453125), ('电话', 0.135986328125), ('гас', 0.1304931640625), ('或缺', 0.1275634765625)], 10: [(' as', 3.8515625), (' как', 3.3046875), ('лкото', 3.20703125), (' jako', 3.02734375), ('苟', 2.96484375)], 32: [(' factor', 0.127685546875), ('irons', 0.12451171875), ('asc', 0.1239013671875), ('采', 0.1207275390625), (' seat', 0.11846923828125)], 37: [(' hospit', 0.038970947265625), (' Select', 0.032867431640625), (' desocup', 0.032073974609375), ('palette', 0.031219482421875), (' jolly', 0.03070068359375)], 45: [('нски', 0.1312255859375), ('cheek', 0.12322998046875), ('pora', 0.12158203125), ('FI', 0.12152099609375), ('pecially', 0.1212158203125)]}, 5: {7: [('сар', 0.491943359375), ('SETT', 0.45068359375), ('usos', 0.4404296875), ('auses', 0.439697265625), ('umbered', 0.433349609375)], 20: [('确实', 0.29345703125), ('tesi', 0.284912109375), ('ologne', 0.26220703125), ('的确', 0.259765625), ('�', 0.255615234375)], 33: [('��', 1.18359375), ('所未', 1.0224609375), ('domen', 0.95556640625), ('aces', 0.94091796875), ('щем', 0.92919921875)], 36: [('SETT', 0.129150390625), ('的重', 0.12274169921875), ('chor', 0.11700439453125), ('oad', 0.1141357421875), ('rior', 0.11407470703125)], 48: [('нира', 0.293701171875), ('дник', 0.29150390625), ('тика', 0.255859375), ('aram', 0.2442626953125), ('дем', 0.2415771484375)], 56: [('hasOwnProperty', 1.587890625), ('jades', 1.5751953125), ('dits', 1.5595703125), (' metropolit', 1.5498046875), ('agrid', 1.529296875)]}, 6: {7: [('xo', 0.71923828125), ('ave', 0.70166015625), ('collaps', 0.673828125), ('itness', 0.67333984375), ('фу', 0.66748046875)], 20: [('regu', 0.70361328125), ('ASC', 0.61865234375), ('立体', 0.5947265625), ('benchmark', 0.556640625), (' Camel', 0.546875)], 25: [(' F', 0.25), (' G', 0.2169189453125), (' J', 0.2161865234375), (' Fr', 0.2030029296875), ('璐', 0.20068359375)], 33: [('1', 0.8173828125), ('2', 0.79931640625), ('0', 0.71484375), ('7', 0.6943359375), ('3', 0.68359375)], 36: [(' PER', 0.14990234375), ('прави', 0.14794921875), ('onymous', 0.1473388671875), ('жена', 0.1468505859375), ('nett', 0.1444091796875)], 56: [(' metropolit', 2.103515625), ('agrid', 1.95703125), ('DF', 1.9404296875), ('加油', 1.890625), ('#:', 1.8505859375)]}, 1: {9: [('ender', 0.1507568359375), ('iars', 0.1417236328125), ('悬', 0.138916015625), ('стров', 0.1356201171875), ('enders', 0.1322021484375)], 43: [(' ', 0.242919921875), ('(', 0.2264404296875), ('{', 0.221923828125), ('ater', 0.2191162109375), ('igi', 0.2125244140625)], 48: [('pires', 0.09527587890625), ('若干问题的', 0.0853271484375), ('rd', 0.0806884765625), ('yers', 0.0772705078125), ('oys', 0.0767822265625)], 50: [('at', 0.127197265625), (' volc', 0.11669921875), (' (', 0.1141357421875), ('籍', 0.11248779296875), ('ations', 0.111083984375)], 52: [('гати', 0.10955810546875), ('гата', 0.1009521484375), ('гато', 0.095458984375), ('看', 0.09539794921875), ('maz', 0.0870361328125)], 56: [('pd', 5.72265625), (' pd', 5.68359375), ('PD', 4.515625), ('None', 3.892578125), (' PD', 3.8046875)]}, 3: {13: [('сов', 0.06304931640625), ('anco', 0.058319091796875), ('сова', 0.057220458984375), ('olutely', 0.052764892578125), ('ooth', 0.052734375)], 15: [('live', 0.1646728515625), ('�', 0.1549072265625), ('否', 0.1541748046875), ('ellular', 0.1533203125), ('out', 0.1424560546875)], 25: [('щери', 0.49462890625), ('undi', 0.48193359375), ('piter', 0.4814453125), ('ა', 0.475341796875), ('__)', 0.47265625)], 45: [('isses', 0.237548828125), (' замъ', 0.2227783203125), (' притоци', 0.203369140625), ('кус', 0.2022705078125), ('模', 0.1995849609375)], 48: [('ums', 1.0400390625), ('ulative', 1.0263671875), ('hedra', 1.0), ('agher', 0.9990234375), ('рано', 0.97216796875)], 59: [('itat', 0.1630859375), ('okes', 0.154296875), ('bottom', 0.1522216796875), ('wana', 0.150390625), ('lev', 0.1500244140625)]}, 8: {24: [('2', 0.11798095703125), ('ugar', 0.1092529296875), ('имо', 0.10589599609375), ('4', 0.099609375), (' nr', 0.09912109375)], 33: [('ungal', 1.5029296875), ('交易所', 1.470703125), ('appendTo', 1.4609375), (' Conf', 1.4384765625), ('��', 1.396484375)], 48: [('aught', 0.0728759765625), (' Ber', 0.0718994140625), ('帖', 0.07080078125), ('her', 0.0682373046875), ('bert', 0.0677490234375)], 52: [('reus', 0.246826171875), ('oidal', 0.221923828125), ('OffRequest', 0.22119140625), ('omeu', 0.2069091796875), ('bourne', 0.201171875)], 56: [(' open', 1.5341796875), ('open', 1.404296875), (' {', 1.3603515625), (' os', 1.236328125), ('�', 1.2021484375)], 63: [('�起', 0.082275390625), ('anmar', 0.07476806640625), ('ratulations', 0.0692138671875), (' препо', 0.0679931640625), ('ampagne', 0.0673828125)]}}\n",
      "Shared expert predictions: [[('NameLink', 0.8125), ('стер', 0.72314453125), (' volc', 0.71728515625), ('lou', 0.70947265625), ('rites', 0.65185546875)], [('蛋', 0.75146484375), ('Signal', 0.74658203125), ('�', 0.71337890625), ('浆', 0.712890625), ('signal', 0.70849609375)], [('бора', 0.84521484375), ('生死', 0.76806640625), ('wc', 0.74267578125), ('erset', 0.74169921875), (' Edge', 0.7392578125)], [(' sugger', 0.8515625), ('Copy', 0.8408203125), ('orb', 0.83056640625), ('obed', 0.82275390625), (' detr', 0.80126953125)], [('wap', 0.7626953125), ('队员', 0.7080078125), ('aly', 0.6884765625), ('�', 0.681640625), ('雏', 0.65234375)], [('动作', 0.95947265625), ('iota', 0.900390625), (' Sistema', 0.83837890625), ('$&', 0.81201171875), (' buit', 0.80908203125)], [('clone', 0.85498046875), ('ii', 0.83154296875), ('essages', 0.7861328125), ('aut', 0.77880859375), (' адап', 0.76123046875)], [('lides', 0.84033203125), ('enko', 0.798828125), ('otch', 0.7607421875), ('IEW', 0.7255859375), ('jetty', 0.72265625)], [('iota', 1.0634765625), (' nud', 0.939453125), ('WB', 0.9091796875), ('\\\\&', 0.9091796875), ('owed', 0.89404296875)], [('rene', 1.5361328125), ('贬', 1.1484375), ('learn', 1.14453125), ('oran', 1.0966796875), (' Borde', 1.0771484375)], [('摆在', 0.8203125), ('ixel', 0.7900390625), ('\\\\&', 0.7861328125), ('\\\\/', 0.7646484375), ('brick', 0.7412109375)]]\n",
      "\n",
      "MoE Layer 17:\n",
      "Selected experts: [[22, 37, 44, 24, 11, 61], [26, 58, 61, 45, 6, 54], [48, 15, 44, 37, 52, 10], [23, 58, 15, 54, 1, 39], [37, 22, 41, 44, 20, 43], [45, 26, 20, 14, 61, 34], [61, 32, 50, 26, 45, 34], [38, 55, 37, 44, 41, 31], [50, 54, 2, 58, 23, 1], [44, 37, 27, 11, 24, 21], [27, 44, 2, 54, 37, 11]]\n",
      "Expert weights: [[0.3974609375, 0.032135009765625, 0.0265045166015625, 0.022857666015625, 0.0220489501953125, 0.02191162109375], [0.06329345703125, 0.07037353515625, 0.315185546875, 0.04095458984375, 0.0355224609375, 0.033905029296875], [0.032867431640625, 0.034576416015625, 0.1199951171875, 0.1204833984375, 0.061370849609375, 0.031646728515625], [0.1534423828125, 0.0667724609375, 0.06610107421875, 0.056640625, 0.056121826171875, 0.0401611328125], [0.2161865234375, 0.03662109375, 0.04437255859375, 0.0966796875, 0.03302001953125, 0.0267486572265625], [0.038482666015625, 0.055450439453125, 0.0634765625, 0.03466796875, 0.0897216796875, 0.03363037109375], [0.09576416015625, 0.06976318359375, 0.0626220703125, 0.05706787109375, 0.05255126953125, 0.048095703125], [0.1302490234375, 0.06903076171875, 0.068603515625, 0.05255126953125, 0.0379638671875, 0.037628173828125], [0.111328125, 0.09674072265625, 0.070556640625, 0.04486083984375, 0.032257080078125, 0.031402587890625], [0.0755615234375, 0.07330322265625, 0.06036376953125, 0.0498046875, 0.03961181640625, 0.038848876953125], [0.0665283203125, 0.02764892578125, 0.4423828125, 0.0360107421875, 0.02581787109375, 0.020782470703125]]\n",
      "Combined output tokens: [[('idera', 2.3046875), ('}$~\\\\', 2.2890625), ('frak', 2.19921875), ('endres', 2.1328125), (' Fac', 2.064453125)], [('ERA', 2.921875), (' {', 2.791015625), (' Basket', 2.6640625), ('�', 2.5078125), ('msa', 2.482421875)], [('xspace', 1.314453125), ('сем', 1.271484375), ('ULE', 1.2119140625), ('bid', 1.2001953125), ('ALY', 1.181640625)], [(' n', 1.75), (' ', 1.5849609375), (' N', 1.4853515625), ('bolt', 1.458984375), ('LR', 1.453125)], [('ILS', 1.830078125), ('enia', 1.751953125), ('emas', 1.728515625), ('宣告', 1.630859375), ('ayas', 1.5703125)], [(' b', 1.3984375), (' N', 1.373046875), (' n', 1.3701171875), (' l', 1.291015625), ('碌', 1.2392578125)], [('ONG', 1.4775390625), ('ODO', 1.423828125), (' f', 1.40234375), (' n', 1.3876953125), ('幻想', 1.36328125)], [(' (', 1.708984375), ('(', 1.552734375), ('-', 1.3896484375), (' ...', 1.3857421875), ('w', 1.3818359375)], [('iples', 2.38671875), (' C', 2.267578125), (' open', 2.234375), ('open', 2.1328125), ('��', 2.099609375)], [('unda', 1.2158203125), ('CED', 1.1748046875), ('neres', 1.166015625), ('igues', 1.115234375), ('stri', 1.111328125)], [('read', 16.21875), (' read', 11.9453125), ('READ', 10.1953125), ('reads', 10.125), (' reads', 9.6015625)]]\n",
      "Expert predictions by position: {3: {1: [('tham', 0.12298583984375), ('inois', 0.1201171875), ('amena', 0.1187744140625), ('utions', 0.11260986328125), ('reement', 0.11236572265625)], 15: [('too', 0.3955078125), ('her', 0.350341796875), (' fuente', 0.308349609375), ('Builtin', 0.3076171875), (' Spani', 0.30517578125)], 23: [('停留', 0.122802734375), ('ild', 0.118896484375), ('offline', 0.116943359375), ('um', 0.11492919921875), ('LAST', 0.1146240234375)], 39: [('годи', 0.1895751953125), ('ataka', 0.18896484375), ('诠', 0.180419921875), ('верен', 0.173828125), ('tra', 0.1737060546875)], 54: [('illac', 0.1429443359375), ('grad', 0.126708984375), ('fires', 0.125244140625), (' pone', 0.12445068359375), (' GRA', 0.12384033203125)], 58: [('备', 0.416259765625), ('上加', 0.393798828125), ('ptes', 0.3876953125), ('чия', 0.38720703125), ('quers', 0.37451171875)]}, 8: {1: [('lished', 0.2509765625), (' there', 0.245849609375), ('塌', 0.2396240234375), ('terior', 0.2357177734375), (' present', 0.228515625)], 2: [('read', 16.1875), (' read', 12.5390625), ('READ', 10.0546875), (' reads', 9.8046875), ('reads', 9.625)], 23: [('amard', 0.80615234375), ('弛', 0.75927734375), (' ', 0.71533203125), ('CALL', 0.69775390625), ('�', 0.6953125)], 50: [('��', 2.17578125), ('asions', 1.962890625), (' pd', 1.83984375), (' document', 1.73828125), (' open', 1.716796875)], 54: [('9', 0.42041015625), ('8', 0.4150390625), ('3', 0.371337890625), ('6', 0.37060546875), ('7', 0.369873046875)], 58: [('following', 0.3056640625), (' following', 0.266357421875), (' Following', 0.2435302734375), ('kam', 0.237548828125), ('Following', 0.2362060546875)]}, 10: {2: [('read', 1.2255859375), (' read', 0.95556640625), (' чита', 0.7919921875), ('ya', 0.77001953125), ('读', 0.73828125)], 11: [('rids', 0.037841796875), ('DL', 0.03704833984375), (' гори', 0.034393310546875), (' st', 0.0343017578125), ('kien', 0.03338623046875)], 27: [('WithError', 0.234130859375), ('拳头', 0.2266845703125), ('Editar', 0.226318359375), ('кс', 0.2227783203125), ('oia', 0.22265625)], 37: [('erset', 0.288330078125), ('axi', 0.284423828125), ('ax', 0.2734375), ('цеп', 0.25927734375), ('ainer', 0.2587890625)], 44: [('pazocal', 0.327880859375), ('anca', 0.301025390625), ('rosa', 0.297119140625), ('kext', 0.29345703125), ('варя', 0.2919921875)], 54: [('们', 0.157470703125), ('们的', 0.1182861328125), (' TORT', 0.10845947265625), ('如有关于', 0.10821533203125), ('endo', 0.1055908203125)]}, 1: {6: [('enir', 0.11761474609375), ('edio', 0.11480712890625), ('ксон', 0.11016845703125), ('acen', 0.10809326171875), ('queda', 0.10076904296875)], 26: [('1', 0.274658203125), ('hap', 0.24658203125), ('igo', 0.2325439453125), ('3', 0.2314453125), ('tol', 0.222412109375)], 45: [(' d', 0.438232421875), (' s', 0.401611328125), (' cam', 0.39599609375), (' ar', 0.390380859375), (' f', 0.389892578125)], 54: [('adr', 0.50634765625), ('院的', 0.50244140625), ('��', 0.460693359375), ('ренция', 0.44970703125), ('单位', 0.445068359375)], 58: [('Dom', 0.1959228515625), ('暂', 0.1759033203125), ('AT', 0.168701171875), (' spot', 0.16259765625), ('subscriber', 0.1611328125)], 61: [('ibl', 0.65185546875), (' Modules', 0.57275390625), (' Fur', 0.56494140625), ('Modules', 0.5615234375), ('ail', 0.5498046875)]}, 2: {10: [('беля', 0.10882568359375), ('concept', 0.10711669921875), ('зема', 0.10614013671875), ('point', 0.10491943359375), (' sides', 0.1011962890625)], 15: [('Съби', 0.11712646484375), ('2', 0.1063232421875), ('3', 0.10418701171875), ('adir', 0.10321044921875), ('ostom', 0.1021728515625)], 37: [('iya', 1.2265625), ('ност', 1.0654296875), ('iliar', 1.0576171875), ('зу', 1.048828125), ('enar', 1.04296875)], 44: [('matically', 0.445068359375), ('PROC', 0.441650390625), ('SPHINX', 0.434326171875), ('ERE', 0.4287109375), ('ърд', 0.423828125)], 48: [('uckles', 0.1663818359375), ('寿', 0.1650390625), ('DU', 0.1629638671875), ('ofs', 0.162109375), ('�乐', 0.16162109375)], 52: [('teriors', 0.262939453125), ('laci', 0.2183837890625), ('inetics', 0.2034912109375), ('teenth', 0.1959228515625), ('quo', 0.1943359375)]}, 0: {11: [('uric', 0.08392333984375), ('passed', 0.08282470703125), ('Cart', 0.0806884765625), ('pass', 0.07855224609375), ('inc', 0.07781982421875)], 22: [('ViewById', 0.1422119140625), ('сол', 0.13720703125), ('amid', 0.1318359375), ('�', 0.1309814453125), ('欣', 0.1270751953125)], 24: [('影', 0.2115478515625), ('Compan', 0.1949462890625), ('意', 0.187255859375), ('Primera', 0.1846923828125), ('龙江', 0.1781005859375)], 37: [('7', 0.048126220703125), ('oley', 0.047271728515625), ('r', 0.044921875), ('1', 0.042327880859375), ('6', 0.039093017578125)], 44: [('reres', 0.109375), ('idor', 0.0985107421875), ('墅', 0.09771728515625), ('ITS', 0.09521484375), (' Legendre', 0.09429931640625)], 61: [('�起', 0.0234222412109375), (' properties', 0.0211029052734375), (' View', 0.020538330078125), (' seg', 0.0203094482421875), (' property', 0.0201873779296875)]}, 9: {11: [('藩', 0.318115234375), ('癜', 0.28125), ('icut', 0.27490234375), ('aul', 0.27294921875), ('psfrag', 0.272705078125)], 21: [('гар', 0.1900634765625), ('umst', 0.1702880859375), ('utor', 0.16357421875), ('mysq', 0.159423828125), ('enance', 0.157958984375)], 24: [('део', 0.02764892578125), ('英', 0.02667236328125), ('arcity', 0.026519775390625), (' REF', 0.025787353515625), ('oga', 0.025482177734375)], 27: [('essin', 0.252197265625), ('fuse', 0.2430419921875), (' etext', 0.2371826171875), ('estate', 0.2359619140625), ('itut', 0.2227783203125)], 37: [('ishness', 0.62939453125), ('ност', 0.5869140625), ('IconError', 0.52001953125), (' acons', 0.5166015625), ('aried', 0.5009765625)], 44: [('GEN', 0.1624755859375), ('agor', 0.1561279296875), ('阳', 0.1558837890625), ('iosament', 0.153564453125), ('bar', 0.1524658203125)]}, 5: {14: [('不需要', 0.1583251953125), ('ebra', 0.1561279296875), ('лска', 0.1561279296875), ('inistic', 0.1524658203125), ('iential', 0.1522216796875)], 20: [('uggest', 0.34326171875), ('6', 0.336181640625), ('4', 0.321044921875), ('8', 0.316162109375), ('ffer', 0.309326171875)], 26: [(' печа', 0.2259521484375), ('CHANG', 0.220458984375), ('aused', 0.20751953125), (' Clos', 0.2060546875), ('沧', 0.2052001953125)], 34: [('��', 0.1580810546875), ('arro', 0.1435546875), ('Съби', 0.143310546875), (' почи', 0.142578125), ('фове', 0.1424560546875)], 45: [(' j', 0.194091796875), ('ex', 0.1771240234375), ('e', 0.1754150390625), ('k', 0.1749267578125), ('se', 0.1746826171875)], 61: [('afil', 0.6787109375), ('aves', 0.56884765625), ('modular', 0.53369140625), (' resource', 0.521484375), (' Writ', 0.5166015625)]}, 4: {20: [('беля', 0.258056640625), ('ariidae', 0.2442626953125), ('май', 0.2388916015625), (' дефи', 0.2374267578125), ('icat', 0.2310791015625)], 22: [('idera', 2.041015625), ('Complexity', 1.7744140625), ('endres', 1.73046875), (' Fac', 1.7197265625), (' Mand', 1.66796875)], 37: [('Мини', 0.1495361328125), ('ampl', 0.1485595703125), (' subject', 0.143310546875), ('ч', 0.1427001953125), ('пки', 0.142578125)], 41: [('AIPS', 0.1883544921875), ('inians', 0.18310546875), ('════════════════', 0.181396484375), ('ifmmode', 0.17529296875), ('сича', 0.172607421875)], 43: [('集团有限公司', 0.1319580078125), ('ily', 0.1275634765625), ('lore', 0.124267578125), ('储备', 0.12408447265625), ('вете', 0.12286376953125)], 44: [('迭', 0.425537109375), ('umno', 0.3740234375), ('itely', 0.368408203125), ('гор', 0.353515625), ('mtp', 0.346923828125)]}, 6: {26: [('3', 0.2802734375), ('7', 0.278076171875), ('导语', 0.255615234375), ('6', 0.24755859375), ('bod', 0.241943359375)], 32: [('葫', 0.2236328125), ('ulosa', 0.205322265625), ('placement', 0.2037353515625), ('erto', 0.198486328125), (' placement', 0.1962890625)], 34: [('ullo', 0.1339111328125), ('ull', 0.1260986328125), ('itchers', 0.125), ('бий', 0.1236572265625), ('рок', 0.1220703125)], 45: [(' ', 0.25244140625), (' d', 0.252197265625), (' gr', 0.23779296875), (' r', 0.224853515625), (' ch', 0.2196044921875)], 50: [('#\\\\', 0.48291015625), ('rime', 0.46484375), (' известен', 0.442138671875), ('utats', 0.434814453125), ('кази', 0.42822265625)], 61: [(' {', 2.61328125), (' Basket', 2.5546875), ('\\tandroid', 2.29296875), ('msa', 2.248046875), ('omb', 2.2421875)]}, 7: {31: [('pta', 0.121826171875), ('袖', 0.11907958984375), ('��', 0.1124267578125), (').__', 0.10968017578125), ('uncia', 0.10748291015625)], 37: [('бол', 0.63623046875), ('thed', 0.61083984375), ('бора', 0.5693359375), ('цин', 0.56689453125), ('ambu', 0.5634765625)], 38: [(' Standard', 0.453857421875), (' ast', 0.406494140625), ('стове', 0.404052734375), (' Star', 0.40380859375), ('past', 0.40185546875)], 41: [('inois', 0.1258544921875), ('Fut', 0.12371826171875), ('fut', 0.121826171875), ('lies', 0.1190185546875), ('ishes', 0.11651611328125)], 44: [('бий', 0.02471923828125), ('异', 0.0237884521484375), ('onese', 0.0231170654296875), ('гени', 0.0227508544921875), ('nesi', 0.02252197265625)], 55: [('1', 0.927734375), ('0', 0.7685546875), ('7', 0.75390625), ('3', 0.72998046875), ('2', 0.728515625)]}}\n",
      "Shared expert predictions: [[('}$~\\\\', 0.6455078125), ('dens', 0.6259765625), ('frak', 0.61572265625), ('══', 0.58251953125), ('直言', 0.58203125)], [('默默', 1.08203125), ('HF', 1.0244140625), ('frak', 0.9990234375), (' FP', 0.97314453125), ('呕', 0.953125)], [('同', 0.974609375), ('得意', 0.953125), ('exion', 0.82373046875), ('FAST', 0.8212890625), ('BH', 0.8212890625)], [(' n', 1.2705078125), ('RM', 1.0673828125), ('LR', 0.9765625), ('杰', 0.9697265625), ('WL', 0.955078125)], [('默默', 1.185546875), ('ORA', 1.1376953125), ('偷偷', 1.0751953125), ('吸取', 1.072265625), ('bona', 1.0712890625)], [(' n', 1.23046875), (' N', 1.0224609375), ('craft', 1.0107421875), ('碌', 0.98046875), ('wa', 0.94091796875)], [(' ().', 1.2626953125), ('沉迷', 1.0517578125), ('始终坚持', 1.0341796875), (' (),', 1.0029296875), (' m', 0.9912109375)], [(' n', 1.1328125), (' m', 1.0634765625), (' N', 1.0), ('得意', 0.9736328125), (' c', 0.90966796875)], [(' n', 1.349609375), (' N', 1.0947265625), (' b', 1.0673828125), ('RK', 1.015625), ('wa', 0.99072265625)], [('YL', 0.93798828125), ('neres', 0.85546875), ('LV', 0.8173828125), ('nere', 0.8115234375), ('WL', 0.79052734375)], [('annel', 0.9150390625), ('滔', 0.88427734375), ('lemma', 0.845703125), ('zoom', 0.83251953125), ('cle', 0.80615234375)]]\n",
      "\n",
      "MoE Layer 18:\n",
      "Selected experts: [[44, 47, 2, 50, 61, 15], [58, 26, 7, 12, 62, 51], [25, 28, 46, 3, 59, 20], [6, 45, 35, 3, 34, 51], [59, 44, 2, 27, 46, 18], [52, 17, 2, 16, 32, 38], [32, 17, 26, 58, 52, 38], [59, 28, 18, 31, 25, 58], [26, 34, 58, 33, 0, 45], [2, 53, 27, 44, 59, 60], [50, 1, 18, 34, 58, 15]]\n",
      "Expert weights: [[0.03265380859375, 0.034027099609375, 0.412109375, 0.04034423828125, 0.027740478515625, 0.02410888671875], [0.1551513671875, 0.062286376953125, 0.050628662109375, 0.043426513671875, 0.042022705078125, 0.033203125], [0.08642578125, 0.060272216796875, 0.04248046875, 0.043548583984375, 0.041168212890625, 0.0400390625], [0.328369140625, 0.07647705078125, 0.043365478515625, 0.0313720703125, 0.0302276611328125, 0.0293426513671875], [0.1500244140625, 0.0904541015625, 0.058990478515625, 0.09063720703125, 0.036590576171875, 0.03033447265625], [0.03411865234375, 0.277099609375, 0.0576171875, 0.03253173828125, 0.0316162109375, 0.0293121337890625], [0.041168212890625, 0.132568359375, 0.0309600830078125, 0.0347900390625, 0.05877685546875, 0.0309295654296875], [0.191162109375, 0.045654296875, 0.046051025390625, 0.056549072265625, 0.079833984375, 0.0419921875], [0.058441162109375, 0.0543212890625, 0.0528564453125, 0.048553466796875, 0.043731689453125, 0.03643798828125], [0.07122802734375, 0.06793212890625, 0.06695556640625, 0.0628662109375, 0.045562744140625, 0.03814697265625], [0.0926513671875, 0.0732421875, 0.04974365234375, 0.038543701171875, 0.043853759765625, 0.032745361328125]]\n",
      "Combined output tokens: [[('жени', 0.86572265625), (' org', 0.787109375), (' min', 0.765625), (' Pro', 0.71630859375), (']^-', 0.70703125)], [(' b', 1.130859375), (' \"', 1.0908203125), ('own', 1.0791015625), ('�', 1.0712890625), (' ;', 1.0625)], [('1', 1.287109375), ('4', 1.2626953125), ('2', 1.197265625), ('3', 1.1083984375), ('5', 1.103515625)], [(' much', 2.4375), ('much', 2.19921875), (' _', 2.064453125), ('Much', 2.0078125), (' Much', 1.9892578125)], [('CAS', 1.224609375), ('il', 1.1806640625), ('ort', 1.1455078125), ('cas', 1.107421875), ('heck', 1.080078125)], [('elman', 1.23828125), (' orb', 1.1875), ('Rate', 1.1357421875), ('omen', 1.10546875), ('fou', 1.095703125)], [('arte', 0.8681640625), ('rex', 0.83837890625), ('erver', 0.833984375), ('CD', 0.81787109375), ('builder', 0.81298828125)], [('engo', 1.23046875), ('auce', 1.095703125), ('ernel', 1.095703125), (' леги', 1.0791015625), ('c', 1.0537109375)], [('bon', 1.251953125), ('$^{\\\\', 0.99462890625), ('�', 0.9453125), ('RATE', 0.93896484375), (' i', 0.92919921875)], [('dr', 1.2763671875), ('u', 1.259765625), ('quar', 1.2587890625), ('ane', 1.1923828125), ('协', 1.1708984375)], [('undai', 1.0634765625), ('ductory', 1.056640625), ('ernels', 1.046875), ('仅代表作者本人', 0.9990234375), ('ounter', 0.99658203125)]]\n",
      "Expert predictions by position: {8: {0: [('ORMAL', 0.251953125), ('ounge', 0.24658203125), (' Comunitat', 0.24560546875), ('cmark', 0.2322998046875), ('{``', 0.2296142578125)], 26: [('едно', 0.212158203125), ('quera', 0.201904296875), ('prit', 0.19482421875), (' Vcc', 0.1929931640625), ('apk', 0.1878662109375)], 33: [('вайг', 0.185791015625), ('essin', 0.18408203125), ('стеза', 0.17138671875), ('wares', 0.1705322265625), ('宵', 0.1629638671875)], 34: [(' Кън', 0.1319580078125), (' Методий', 0.128662109375), ('Hivern', 0.12841796875), ('пет', 0.12054443359375), ('utats', 0.12030029296875)], 45: [(' where', 0.23046875), (' където', 0.2210693359375), ('\\twhere', 0.219970703125), (' Where', 0.201171875), ('WHERE', 0.1954345703125)], 58: [(' /', 0.1697998046875), ('irt', 0.137939453125), ('/', 0.12890625), (' Keys', 0.12237548828125), (' FA', 0.1214599609375)]}, 10: {1: [('5', 0.61669921875), ('6', 0.546875), ('8', 0.53955078125), ('7', 0.5361328125), ('9', 0.52734375)], 15: [(' marge', 0.1375732421875), ('uga', 0.1285400390625), ('疡', 0.1280517578125), ('omeu', 0.1273193359375), ('menys', 0.12548828125)], 18: [('mani', 0.218994140625), ('ie', 0.1944580078125), ('vegeu', 0.1923828125), ('ipe', 0.1859130859375), ('дев', 0.1832275390625)], 34: [(' Abs', 0.2152099609375), (' abs', 0.1988525390625), (' участие', 0.189208984375), ('esh', 0.18798828125), ('Hosts', 0.184814453125)], 50: [('rdia', 0.416015625), (' Tor', 0.415283203125), ('Tor', 0.406005859375), (' \\\\&', 0.404541015625), ('regut', 0.395751953125)], 58: [('зо', 0.198974609375), ('aret', 0.1810302734375), ('tric', 0.17578125), (' /', 0.17529296875), ('exe', 0.1749267578125)]}, 0: {2: [('�', 0.211181640625), ('1', 0.1571044921875), ('4', 0.1519775390625), ('ibo', 0.1519775390625), ('acing', 0.143798828125)], 15: [('逻', 0.03912353515625), ('сен', 0.038909912109375), ('党组', 0.03814697265625), ('uelto', 0.03692626953125), ('ALSE', 0.03564453125)], 44: [('etry', 0.078125), ('�', 0.07781982421875), ('良', 0.0728759765625), (' major', 0.06671142578125), ('�', 0.06512451171875)], 47: [('�起', 0.053558349609375), ('вни', 0.053253173828125), ('roph', 0.052978515625), ('endor', 0.05291748046875), ('стието', 0.0506591796875)], 50: [('g', 0.052764892578125), ('сберг', 0.0474853515625), (' mini', 0.046661376953125), (' M', 0.045654296875), ('攻', 0.044921875)], 61: [('3', 0.040679931640625), ('2', 0.03985595703125), ('4', 0.03973388671875), ('1', 0.039154052734375), ('6', 0.03912353515625)]}, 4: {2: [(' n', 0.23388671875), (' Ban', 0.232421875), (' Pop', 0.2100830078125), ('笛', 0.2093505859375), ('�', 0.2080078125)], 18: [('ita', 0.2030029296875), ('itos', 0.173583984375), ('ард', 0.169921875), ('ites', 0.1693115234375), ('d', 0.164306640625)], 27: [('point', 0.281982421875), ('points', 0.261962890625), ('iles', 0.259521484375), ('yx', 0.2490234375), ('ate', 0.248291015625)], 44: [('阳', 0.279052734375), ('onian', 0.24560546875), (',$$', 0.2344970703125), ('ITA', 0.2286376953125), ('yang', 0.2276611328125)], 46: [('er', 0.1546630859375), ('ium', 0.1419677734375), ('ers', 0.1341552734375), (' lletra', 0.133056640625), ('ed', 0.1258544921875)], 59: [('ften', 0.26318359375), ('ances', 0.261962890625), ('edy', 0.24609375), ('xo', 0.2396240234375), ('yle', 0.2396240234375)]}, 5: {2: [('�', 0.3603515625), ('hir', 0.305908203125), ('lo', 0.30517578125), ('hat', 0.302734375), ('bein', 0.29052734375)], 16: [(' Ones', 0.112060546875), ('屁', 0.10675048828125), (' ones', 0.1058349609375), ('ly', 0.1055908203125), ('nes', 0.1048583984375)], 17: [('blest', 0.51904296875), (' спуска', 0.467529296875), ('ema', 0.43701171875), ('revista', 0.435302734375), ('ilv', 0.43212890625)], 32: [('сели', 0.125732421875), ('��', 0.125244140625), ('пор', 0.122802734375), (' изд', 0.11956787109375), ('翼翼', 0.119140625)], 38: [('“', 0.1651611328125), ('(', 0.151611328125), ('бно', 0.13671875), ('edd', 0.1346435546875), ('With', 0.133544921875)], 52: [('мага', 0.1300048828125), ('SMB', 0.12744140625), ('置', 0.126708984375), ('FI', 0.125), (' Chambers', 0.125)]}, 9: {2: [('дре', 0.264892578125), ('Spl', 0.24560546875), ('otron', 0.2354736328125), (' sants', 0.2314453125), ('ctrine', 0.2242431640625)], 27: [('体', 0.42578125), ('ilk', 0.408203125), ('гра', 0.406005859375), ('нове', 0.393798828125), ('升', 0.3896484375)], 44: [('cides', 0.293701171875), ('дон', 0.268798828125), ('funnels', 0.2418212890625), ('arreg', 0.24072265625), ('kee', 0.2396240234375)], 53: [('特别声明', 0.356689453125), ('мани', 0.354736328125), ('不住', 0.3486328125), ('scorlib', 0.347412109375), ('ксо', 0.34130859375)], 59: [(' Llengua', 0.73779296875), ('XMLSchema', 0.716796875), ('vary', 0.7060546875), ('angements', 0.70361328125), ('equence', 0.693359375)], 60: [('aine', 0.1402587890625), ('港', 0.138671875), ('bach', 0.1383056640625), ('asymp', 0.136474609375), ('тив', 0.132080078125)]}, 2: {3: [('oys', 0.1494140625), ('autilus', 0.1492919921875), ('untament', 0.149169921875), ('terer', 0.1478271484375), ('ostei', 0.1473388671875)], 20: [('agma', 0.170166015625), ('Strunz', 0.157470703125), ('irections', 0.1546630859375), ('aline', 0.1539306640625), ('dics', 0.1519775390625)], 25: [('1', 0.309326171875), ('tag', 0.290283203125), ('IMIT', 0.279296875), ('tags', 0.26904296875), ('еме', 0.266845703125)], 28: [(' A', 0.43408203125), ('icent', 0.41552734375), ('A', 0.373046875), ('Of', 0.369873046875), ('ABC', 0.3603515625)], 46: [('�', 0.1683349609375), ('拜', 0.1651611328125), ('包', 0.15869140625), ('求生', 0.1568603515625), ('combe', 0.1552734375)], 59: [('Численост', 0.90673828125), ('��', 0.85205078125), ('engo', 0.84716796875), ('tria', 0.84228515625), ('Съби', 0.84033203125)]}, 3: {3: [('tis', 0.179931640625), ('封', 0.1529541015625), ('hof', 0.1439208984375), ('Inform', 0.1427001953125), ('休', 0.141357421875)], 6: [(' much', 2.216796875), ('much', 2.1015625), ('Much', 1.82421875), (' Much', 1.783203125), (' MUCH', 1.634765625)], 34: [('abat', 0.284912109375), (' attend', 0.244140625), ('参保', 0.2376708984375), ('参会', 0.2144775390625), ('rial', 0.2135009765625)], 35: [('��', 0.244140625), ('BUIL', 0.2113037109375), ('andin', 0.1956787109375), ('ensa', 0.1953125), ('ossible', 0.1944580078125)], 45: [('oirs', 0.279052734375), ('вай', 0.278076171875), ('atches', 0.275146484375), ('кло', 0.26708984375), ('builds', 0.263671875)], 51: [('ността', 0.123046875), ('ureth', 0.11688232421875), (' drives', 0.11663818359375), (' source', 0.11578369140625), (' add', 0.11163330078125)]}, 1: {7: [(' съв', 0.2200927734375), ('adol', 0.207763671875), (']<', 0.20458984375), ('<', 0.1982421875), ('fore', 0.1953125)], 12: [('e', 0.165283203125), (' aid', 0.158203125), ('a', 0.149658203125), ('age', 0.142822265625), ('able', 0.134765625)], 26: [('umnes', 0.261474609375), ('�', 0.26123046875), ('再审', 0.260009765625), ('二期', 0.249755859375), (' II', 0.2490234375)], 51: [('бе', 0.142822265625), ('rema', 0.1368408203125), ('opies', 0.12841796875), ('rafia', 0.12493896484375), ('PYG', 0.12469482421875)], 58: [('kerchief', 0.76904296875), ('渲', 0.6572265625), ('lava', 0.64306640625), ('ъд', 0.625), ('�', 0.623046875)], 62: [('{', 0.2396240234375), ('```', 0.194091796875), ('ант', 0.190673828125), ('\">{', 0.1884765625), ('ложени', 0.1793212890625)]}, 6: {17: [('blest', 1.0380859375), ('elman', 1.0087890625), ('ство', 0.9736328125), ('withstanding', 0.92236328125), ('inam', 0.912109375)], 26: [('уза', 0.1436767578125), ('atina', 0.1268310546875), ('icke', 0.12548828125), ('atg', 0.1236572265625), ('LOP', 0.11602783203125)], 32: [('波', 0.126708984375), ('牛', 0.1251220703125), ('拉', 0.120361328125), ('维奇', 0.1185302734375), ('齿', 0.11785888671875)], 38: [('7', 0.2237548828125), ('0', 0.2222900390625), ('1', 0.2205810546875), ('8', 0.2158203125), ('We', 0.2113037109375)], 52: [('来源', 0.1051025390625), ('arcal', 0.09930419921875), (' man', 0.09539794921875), ('orr', 0.09478759765625), ('镜子', 0.091796875)], 58: [('icat', 0.22705078125), ('verd', 0.2208251953125), ('vert', 0.2125244140625), ('ilon', 0.209716796875), ('ervous', 0.208984375)]}, 7: {18: [('aire', 0.1317138671875), ('res', 0.10601806640625), ('ue', 0.100830078125), ('la', 0.09991455078125), ('ale', 0.098876953125)], 25: [('9', 0.59716796875), ('1', 0.5859375), ('3', 0.5615234375), ('2', 0.56005859375), ('5', 0.54052734375)], 28: [('iasm', 0.6328125), ('ync', 0.57763671875), ('piny', 0.525390625), ('ource', 0.525390625), ('ФА', 0.49609375)], 31: [(' изго', 0.1595458984375), ('2', 0.1583251953125), (' consist', 0.1575927734375), ('orus', 0.156005859375), ('also', 0.155517578125)], 58: [('unities', 0.32958984375), ('性', 0.3203125), (' Кали', 0.30810546875), ('性的', 0.30419921875), (' ST', 0.2998046875)], 59: [('TOOLSET', 0.22265625), ('ulkan', 0.18798828125), ('ilius', 0.1820068359375), ('uese', 0.179931640625), ('querra', 0.1788330078125)]}}\n",
      "Shared expert predictions: [[('жени', 0.57861328125), (' org', 0.51611328125), ('嘘', 0.49169921875), (' sel', 0.476806640625), ('abans', 0.4755859375)], [('w', 1.041015625), ('4', 1.021484375), ('l', 0.98681640625), ('r', 0.9580078125), ('ma', 0.94677734375)], [(' A', 0.810546875), (' com', 0.6845703125), ('spr', 0.66796875), ('中华', 0.666015625), ('MS', 0.66552734375)], [(' s', 0.96826171875), (' ', 0.95166015625), (' U', 0.93994140625), (' J', 0.916015625), ('独', 0.8896484375)], [('ain', 0.74853515625), ('不知', 0.72607421875), ('ell', 0.72119140625), ('顶', 0.681640625), ('!--', 0.67626953125)], [(' com', 0.7373046875), ('sp', 0.7353515625), (' e', 0.7255859375), (' Viet', 0.69580078125), ('pipe', 0.693359375)], [(' Fe', 0.78369140625), ('erver', 0.72412109375), ('互', 0.7177734375), ('FE', 0.703125), ('ingo', 0.6728515625)], [(' Abstract', 0.62939453125), ('onaldo', 0.626953125), ('佩', 0.6201171875), ('лн', 0.60595703125), ('Abstract', 0.595703125)], [('bon', 0.97802734375), ('Views', 0.89697265625), ('�', 0.86328125), (' i', 0.845703125), ('金', 0.83447265625)], [('7', 0.96923828125), ('8', 0.96533203125), ('4', 0.96337890625), ('5', 0.96240234375), ('ivari', 0.947265625)], [('issos', 1.0146484375), ('ssos', 1.0029296875), ('havior', 0.8232421875), ('deos', 0.82275390625), (' тона', 0.81689453125)]]\n",
      "\n",
      "MoE Layer 19:\n",
      "Selected experts: [[9, 10, 17, 45, 51, 25], [8, 17, 39, 55, 22, 45], [38, 23, 22, 16, 61, 32], [30, 18, 17, 51, 6, 26], [49, 20, 16, 8, 22, 52], [39, 45, 47, 58, 12, 15], [45, 19, 39, 44, 17, 33], [35, 20, 52, 3, 49, 16], [6, 17, 55, 39, 53, 18], [16, 20, 49, 40, 42, 33], [39, 26, 52, 9, 20, 6]]\n",
      "Expert weights: [[0.0131072998046875, 0.01407623291015625, 0.015838623046875, 0.74951171875, 0.01044464111328125, 0.01033782958984375], [0.05755615234375, 0.177978515625, 0.07550048828125, 0.043243408203125, 0.039398193359375, 0.03509521484375], [0.037139892578125, 0.08807373046875, 0.050811767578125, 0.051177978515625, 0.047088623046875, 0.035797119140625], [0.139892578125, 0.0556640625, 0.05322265625, 0.05120849609375, 0.044036865234375, 0.037445068359375], [0.1514892578125, 0.0899658203125, 0.07391357421875, 0.030242919921875, 0.02777099609375, 0.026031494140625], [0.583984375, 0.028839111328125, 0.01702880859375, 0.0156707763671875, 0.0133819580078125, 0.01291656494140625], [0.0479736328125, 0.0304107666015625, 0.40478515625, 0.038360595703125, 0.02166748046875, 0.016357421875], [0.031768798828125, 0.0537109375, 0.039031982421875, 0.1109619140625, 0.1480712890625, 0.026824951171875], [0.281494140625, 0.1331787109375, 0.0335693359375, 0.03173828125, 0.030548095703125, 0.027587890625], [0.099365234375, 0.0755615234375, 0.07513427734375, 0.044830322265625, 0.0396728515625, 0.03717041015625], [0.06182861328125, 0.046722412109375, 0.05853271484375, 0.07080078125, 0.046661376953125, 0.04315185546875]]\n",
      "Combined output tokens: [[('�', 1.2421875), ('dens', 1.1298828125), ('ygon', 1.0947265625), ('ismes', 1.0927734375), ('signal', 1.0625)], [('�乐', 1.05859375), ('apl', 1.0498046875), (' g', 1.0234375), ('ERIC', 0.99951171875), ('фи', 0.99462890625)], [('стики', 1.21484375), (' ov', 1.083984375), ('ogy', 1.013671875), ('一脸', 1.0), ('抛弃', 0.99951171875)], [('inga', 1.49609375), ('agr', 1.4609375), ('�乐', 1.4326171875), ('inkling', 1.423828125), ('\\u2003\\u2003', 1.4052734375)], [('esto', 1.333984375), ('ox', 1.3125), ('半', 1.2998046875), ('стер', 1.28515625), ('Rationals', 1.2841796875)], [('import', 5.51171875), ('from', 5.11328125), ('\\n', 4.6875), ('rocod', 4.5859375), ('履行', 4.1171875)], [('нисти', 2.41015625), ('oop', 2.302734375), (' #', 2.291015625), (' class', 2.287109375), ('arquia', 2.255859375)], [('\\\\&', 1.16796875), (' разу', 1.109375), ('ests', 1.064453125), ('snapshot', 1.04296875), ('meck', 1.01953125)], [('iar', 2.03125), ('entic', 1.939453125), ('三国', 1.9033203125), ('skeleton', 1.8955078125), ('arel', 1.8896484375)], [(' propied', 1.767578125), ('ascript', 1.708984375), ('interopRequireDefault', 1.66796875), ('egraphics', 1.6640625), ('泡', 1.662109375)], [('仅代表作者本人观点', 1.4267578125), ('xima', 1.1279296875), (' exha', 1.125), ('urtles', 1.1005859375), ('aui', 1.09765625)]]\n",
      "Expert predictions by position: {7: {3: [('9', 0.7900390625), ('7', 0.77880859375), ('1', 0.7470703125), ('6', 0.71044921875), ('8', 0.70947265625)], 16: [('ests', 0.320068359375), ('isbury', 0.293701171875), ('estor', 0.29248046875), ('IMPORTED', 0.282470703125), ('стри', 0.27978515625)], 20: [('iant', 0.1591796875), ('enario', 0.14794921875), ('vio', 0.14453125), ('riu', 0.143798828125), ('YG', 0.14208984375)], 35: [('pher', 0.1654052734375), ('icio', 0.1529541015625), (' tr', 0.1513671875), ('йно', 0.1500244140625), ('можно', 0.149658203125)], 49: [('gano', 0.355224609375), ('scar', 0.354736328125), ('дор', 0.34765625), (' #:', 0.335693359375), ('obox', 0.33447265625)], 52: [('bus', 0.0787353515625), ('azar', 0.0777587890625), ('wards', 0.07708740234375), ('antage', 0.0765380859375), ('zn', 0.074951171875)]}, 3: {6: [('易', 0.197265625), ('таря', 0.1861572265625), ('��', 0.1783447265625), ('限量', 0.1712646484375), ('拜', 0.1707763671875)], 17: [('�', 0.041412353515625), ('�', 0.038787841796875), ('terness', 0.0291748046875), (' cryptocur', 0.0289154052734375), ('�', 0.02886962890625)], 18: [(' true', 0.13720703125), ('true', 0.1302490234375), (' TRUE', 0.11529541015625), ('True', 0.10101318359375), ('ahu', 0.09759521484375)], 26: [('cerning', 0.25341796875), ('tage', 0.2425537109375), ('忠', 0.2242431640625), (' elevat', 0.2200927734375), ('ishops', 0.2137451171875)], 30: [('сково', 0.68994140625), ('有的是', 0.68212890625), ('instal', 0.66357421875), ('obody', 0.66064453125), ('urus', 0.63037109375)], 51: [('IN', 0.0188140869140625), (' ', 0.0162353515625), ('直', 0.0157470703125), ('nic', 0.0150909423828125), ('mit', 0.0149688720703125)]}, 8: {6: [('jee', 1.6279296875), ('ilar', 1.6083984375), ('UME', 1.5712890625), ('�', 1.5693359375), ('Autor', 1.5595703125)], 17: [('��', 0.398193359375), ('regar', 0.3251953125), ('inkled', 0.31201171875), ('MRS', 0.3046875), ('� ', 0.302978515625)], 18: [('odeset', 0.2266845703125), ('odia', 0.223388671875), ('ansion', 0.220703125), ('ج', 0.2205810546875), ('URCH', 0.2183837890625)], 39: [(' package', 0.3369140625), (' T', 0.300048828125), (' IV', 0.29541015625), (' C', 0.291015625), (' packages', 0.28515625)], 53: [('PRESS', 0.1165771484375), ('endres', 0.1163330078125), ('rodu', 0.1080322265625), ('codes', 0.10321044921875), ('{\\\\{', 0.10211181640625)], 55: [('的最', 0.1396484375), ('aig', 0.131591796875), ('丘', 0.126953125), ('acta', 0.126708984375), ('ed', 0.12188720703125)]}, 10: {6: [('рат', 0.299072265625), ('ingo', 0.292236328125), ('pendicular', 0.283447265625), ('swire', 0.275146484375), ('бин', 0.273681640625)], 9: [('туа', 0.312255859375), ('ember', 0.308349609375), ('t', 0.2939453125), ('rado', 0.293212890625), ('ten', 0.28955078125)], 20: [('pic', 0.322998046875), ('бни', 0.302734375), ('intilla', 0.2939453125), (' Conservatori', 0.292724609375), ('omor', 0.282470703125)], 26: [('ueba', 0.194091796875), ('utats', 0.187744140625), ('istram', 0.183349609375), ('仅代表作者本人', 0.1617431640625), ('preview', 0.159912109375)], 39: [('import', 5.85546875), ('from', 5.5078125), (' import', 4.6171875), ('rocod', 4.375), ('\\n', 4.37109375)], 52: [('поле', 0.23681640625), ('CodeAttribute', 0.228759765625), ('Ша', 0.22705078125), ('fos', 0.224853515625), (' лесно', 0.2174072265625)]}, 1: {8: [('击', 0.09893798828125), ('arre', 0.092529296875), ('化和', 0.09014892578125), (' e', 0.08868408203125), ('venin', 0.08447265625)], 17: [('нав', 0.06689453125), ('urger', 0.06298828125), (' Гот', 0.062744140625), (' got', 0.061859130859375), ('pite', 0.06158447265625)], 22: [('udio', 0.22607421875), ('estly', 0.2156982421875), ('稍', 0.202880859375), ('dain', 0.197998046875), ('clip', 0.196044921875)], 39: [(' #', 2.3515625), (' class', 2.25), ('нисти', 2.2265625), ('def', 2.1171875), ('oop', 2.06640625)], 45: [('oulos', 0.8681640625), ('izzie', 0.7939453125), ('ollers', 0.79296875), ('�', 0.787109375), ('вежда', 0.78369140625)], 55: [('务', 0.1572265625), ('жда', 0.1412353515625), ('applied', 0.131591796875), ('ovsky', 0.1282958984375), ('бита', 0.12261962890625)]}, 4: {8: [('ismes', 0.2130126953125), ('umno', 0.2130126953125), ('通的', 0.193603515625), ('tility', 0.193359375), ('ett', 0.189697265625)], 16: [('ssic', 0.857421875), ('opol', 0.70849609375), ('азар', 0.7080078125), ('colorbox', 0.69384765625), ('SION', 0.6904296875)], 20: [('费', 0.14990234375), ('Point', 0.145751953125), ('大楼', 0.1436767578125), ('大厦', 0.140625), ('itz', 0.1375732421875)], 22: [('kow', 0.12042236328125), ('rink', 0.118896484375), ('emos', 0.116455078125), ('oders', 0.11370849609375), ('тен', 0.11041259765625)], 49: [(' Cr', 0.6982421875), ('рад', 0.65771484375), ('idden', 0.65576171875), ('amy', 0.60009765625), ('扶', 0.58251953125)], 52: [('astr', 0.10858154296875), ('стори', 0.1025390625), ('施', 0.10174560546875), ('wml', 0.09954833984375), ('异性', 0.09844970703125)]}, 0: {9: [('2', 0.0182342529296875), ('�', 0.018218994140625), ('1', 0.0179290771484375), ('mn', 0.0177764892578125), ('Ch', 0.0176239013671875)], 10: [('绕', 0.035980224609375), ('лети', 0.03472900390625), (' препратки', 0.03369140625), ('ctree', 0.0301971435546875), ('yser', 0.0294342041015625)], 17: [(' {', 0.84033203125), ('coles', 0.6474609375), ('串', 0.630859375), ('尖', 0.630859375), ('人群', 0.626953125)], 25: [('if', 0.033935546875), ('its', 0.0298919677734375), ('or', 0.0289764404296875), ('it', 0.0287322998046875), ('ide', 0.0281829833984375)], 45: [('##', 0.1712646484375), ('izon', 0.1649169921875), ('adow', 0.1639404296875), ('kot', 0.1627197265625), ('ERIC', 0.15576171875)], 51: [('ennicke', 0.318115234375), ('ana', 0.305908203125), ('ovo', 0.303466796875), ('iaris', 0.296875), ('ishop', 0.29638671875)]}, 5: {12: [(' сел', 0.045440673828125), ('към', 0.04443359375), ('волю', 0.043670654296875), (' perill', 0.04296875), ('tocol', 0.042694091796875)], 15: [(' Single', 0.042694091796875), (' single', 0.04229736328125), ('orters', 0.039215087890625), ('INGLE', 0.03753662109375), ('single', 0.03717041015625)], 39: [('�', 0.17431640625), ('restant', 0.17333984375), (' pal', 0.1663818359375), ('ongue', 0.1590576171875), ('тара', 0.1561279296875)], 45: [('evin', 0.10467529296875), ('uthor', 0.10211181640625), ('enges', 0.1019287109375), ('\\tLet', 0.10150146484375), ('}{@{}', 0.10076904296875)], 47: [('价比', 0.06475830078125), ('役', 0.06231689453125), ('velt', 0.05718994140625), ('ueix', 0.05596923828125), (' Еми', 0.05560302734375)], 58: [('avity', 0.08111572265625), ('haver', 0.07623291015625), ('urat', 0.07220458984375), ('IP', 0.06890869140625), ('guez', 0.06805419921875)]}, 2: {16: [('径', 0.11444091796875), ('ISAM', 0.10308837890625), ('景', 0.09130859375), ('ای', 0.08966064453125), ('ntz', 0.0858154296875)], 22: [('Llib', 0.1358642578125), ('schen', 0.132080078125), ('官', 0.130126953125), ('ейнт', 0.1297607421875), (' cedits', 0.129150390625)], 23: [('vers', 0.3935546875), ('ears', 0.38232421875), ('arin', 0.3779296875), (' Qu', 0.3671875), ('块', 0.359619140625)], 32: [(' into', 0.1107177734375), ('gues', 0.10699462890625), ('售', 0.10101318359375), ('me', 0.099365234375), ('wbr', 0.09906005859375)], 38: [('1', 0.19775390625), ('4', 0.197265625), ('0', 0.1854248046875), ('2', 0.177001953125), ('7', 0.1768798828125)], 61: [(' comportar', 0.2442626953125), (' comporta', 0.239501953125), ('кратно', 0.23876953125), ('aguen', 0.2359619140625), (' Lines', 0.2294921875)]}, 9: {16: [('front', 0.1741943359375), ('公', 0.1680908203125), ('ela', 0.1656494140625), ('Front', 0.16455078125), ('盖', 0.157958984375)], 20: [('ynam', 0.322509765625), ('ahan', 0.316162109375), ('TY', 0.304443359375), ('ahn', 0.29150390625), (' кула', 0.28466796875)], 33: [('inherited', 0.05810546875), ('rely', 0.05609130859375), ('ace', 0.054901123046875), ('ain', 0.053558349609375), ('кре', 0.0511474609375)], 40: [('�', 0.1922607421875), ('><![', 0.177490234375), ('tebr', 0.163818359375), ('脱落', 0.1634521484375), ('Opened', 0.162841796875)], 42: [('пан', 0.155517578125), (' Pr', 0.1517333984375), ('pes', 0.14453125), ('지', 0.144287109375), ('short', 0.143798828125)], 49: [('德', 0.9033203125), ('舟', 0.83203125), ('cmid', 0.81787109375), (' Mag', 0.79052734375), ('ami', 0.74365234375)]}, 6: {17: [(' contribution', 0.57080078125), ('iterr', 0.55810546875), (' o', 0.5302734375), (' rejo', 0.525390625), (' motion', 0.52197265625)], 19: [('телен', 0.2119140625), ('冒', 0.1922607421875), ('дже', 0.1900634765625), ('никът', 0.185302734375), (' бра', 0.184814453125)], 33: [('ajar', 0.16796875), ('geres', 0.1663818359375), ('览', 0.1607666015625), ('зем', 0.15087890625), ('gina', 0.1490478515625)], 39: [('ати', 0.391357421875), ('es', 0.372802734375), ('8', 0.361572265625), ('0', 0.353759765625), ('5', 0.342529296875)], 44: [('difficulty', 0.22607421875), ('ursal', 0.223388671875), ('iquel', 0.2222900390625), ('ractors', 0.21923828125), ('ategories', 0.21484375)], 45: [('ernel', 0.11053466796875), ('acis', 0.11053466796875), ('мото', 0.1064453125), ('ilst', 0.10577392578125), ('hwe', 0.103271484375)]}}\n",
      "Shared expert predictions: [[('默默', 0.55322265625), ('WL', 0.54443359375), ('穿梭', 0.52978515625), (' FP', 0.51708984375), ('ugosl', 0.5166015625)], [('�乐', 1.12109375), ('matic', 0.8388671875), ('фин', 0.833984375), ('ensible', 0.80322265625), ('ace', 0.80126953125)], [('стики', 1.0537109375), ('лети', 0.8662109375), ('亭', 0.8583984375), (' ov', 0.84521484375), ('吸取', 0.82958984375)], [('\\xa0mil', 1.2333984375), ('\\xa0part', 1.22265625), ('ddots', 1.21484375), ('reng', 1.169921875), ('仅代表作者本人观点', 1.1123046875)], [(' Edge', 1.111328125), ('Edge', 1.00390625), ('ma', 0.97412109375), ('耀', 0.94091796875), ('OG', 0.93701171875)], [('xffff', 0.6533203125), ('mem', 0.64306640625), ('Inst', 0.6396484375), ('ул', 0.6396484375), ('спи', 0.62939453125)], [('ugosl', 0.85791015625), ('stock', 0.814453125), ('Wall', 0.806640625), ('凤凰', 0.771484375), ('Storm', 0.75048828125)], [('бра', 0.74462890625), ('ostics', 0.6376953125), ('haver', 0.62060546875), (' mem', 0.60595703125), ('淘汰', 0.60546875)], [('西哥', 1.1015625), ('umo', 0.99072265625), ('consist', 0.97021484375), (' еди', 0.97021484375), ('\\xa0part', 0.9365234375)], [('egraphics', 1.3779296875), (' stocking', 1.3388671875), ('泡', 1.3212890625), ('的头', 1.2880859375), (' strugg', 1.2451171875)], [('vity', 0.9228515625), ('ariant', 0.88525390625), ('仅代表作者本人观点', 0.88427734375), (' squire', 0.86083984375), ('Marshaller', 0.859375)]]\n",
      "\n",
      "MoE Layer 20:\n",
      "Selected experts: [[15, 49, 59, 30, 53, 40], [28, 16, 2, 12, 22, 40], [61, 56, 11, 37, 34, 39], [7, 54, 12, 39, 43, 25], [47, 37, 32, 11, 34, 53], [60, 31, 62, 33, 51, 3], [21, 22, 31, 60, 25, 2], [37, 47, 34, 15, 30, 45], [41, 52, 2, 16, 7, 54], [47, 51, 42, 3, 37, 46], [49, 37, 2, 30, 32, 47]]\n",
      "Expert weights: [[0.461669921875, 0.0406494140625, 0.0302734375, 0.0233154296875, 0.0225372314453125, 0.02032470703125], [0.0687255859375, 0.040008544921875, 0.08380126953125, 0.03936767578125, 0.0379638671875, 0.03753662109375], [0.0791015625, 0.049957275390625, 0.04913330078125, 0.040771484375, 0.04052734375, 0.038604736328125], [0.052154541015625, 0.051849365234375, 0.04730224609375, 0.04571533203125, 0.0386962890625, 0.037445068359375], [0.16552734375, 0.0765380859375, 0.048828125, 0.04461669921875, 0.03411865234375, 0.031280517578125], [0.1934814453125, 0.134765625, 0.04156494140625, 0.037994384765625, 0.031402587890625, 0.025299072265625], [0.05780029296875, 0.06903076171875, 0.20849609375, 0.10162353515625, 0.035247802734375, 0.0276641845703125], [0.160400390625, 0.0487060546875, 0.046173095703125, 0.03363037109375, 0.031951904296875, 0.027984619140625], [0.049652099609375, 0.05218505859375, 0.049163818359375, 0.039306640625, 0.036376953125, 0.035919189453125], [0.1544189453125, 0.04010009765625, 0.03387451171875, 0.036468505859375, 0.033721923828125, 0.031982421875], [0.48681640625, 0.0280914306640625, 0.035125732421875, 0.043212890625, 0.0224151611328125, 0.0170745849609375]]\n",
      "Combined output tokens: [[('=\"../_', 0.59326171875), (\"}'_\", 0.53955078125), ('�起', 0.5380859375), (' gu', 0.53515625), ('bes', 0.53466796875)], [('става', 1.310546875), ('es', 1.2841796875), ('ered', 1.1796875), ('ada', 1.17578125), ('ked', 1.1611328125)], [('推', 0.931640625), ('dah', 0.92138671875), ('rito', 0.91455078125), ('插', 0.89794921875), (' cryptocur', 0.89404296875)], [('ложе', 1.4365234375), ('midi', 1.431640625), ('PATCH', 1.3232421875), ('�', 1.3095703125), ('arcraft', 1.2744140625)], [(' <!--[', 1.6259765625), ('riter', 1.60546875), ('OperationKind', 1.6015625), ('zes', 1.5576171875), (' Humblot', 1.490234375)], [('\\n', 4.015625), ('import', 3.541015625), ('from', 3.52734375), (' from', 3.01171875), ('rencies', 2.962890625)], [('\\n', 4.984375), ('#', 4.19921875), ('#:', 4.0546875), ('if', 4.03125), (' def', 3.59765625)], [('done', 1.2685546875), ('ract', 1.228515625), ('xspace', 1.2041015625), ('ems', 1.1669921875), ('owler', 1.123046875)], [('GE', 1.345703125), ('geu', 1.2890625), ('ONG', 1.2412109375), ('avar', 1.1142578125), ('IME', 1.1025390625)], [('enches', 2.208984375), ('ishness', 2.08984375), ('nesses', 1.9658203125), ('�', 1.94140625), ('herson', 1.875)], [('read', 5.09765625), (' envers', 4.95703125), ('线的', 4.828125), ('options', 4.703125), ('oka', 4.5859375)]]\n",
      "Expert predictions by position: {1: {2: [(' ch', 0.59033203125), (' s', 0.58837890625), ('H', 0.56103515625), (' h', 0.56005859375), ('�', 0.54248046875)], 12: [('�', 0.310546875), ('pmy', 0.302978515625), ('ток', 0.295654296875), ('atri', 0.293212890625), ('culo', 0.291259765625)], 16: [('ovski', 0.28662109375), ('心来', 0.2861328125), (' federaci', 0.285888671875), ('owler', 0.2763671875), ('oga', 0.273193359375)], 22: [('ugal', 0.254638671875), ('спи', 0.251220703125), ('\\tclient', 0.2509765625), ('gener', 0.2435302734375), ('队员', 0.2381591796875)], 28: [(' {', 0.83154296875), ('eren', 0.6083984375), ('{', 0.607421875), (' {};', 0.60205078125), ('\\t{', 0.57275390625)], 40: [('ise', 0.07281494140625), ('ias', 0.062408447265625), ('ing', 0.062103271484375), ('izers', 0.06182861328125), ('ifiers', 0.06182861328125)]}, 6: {2: [('less', 0.5458984375), ('лек', 0.54052734375), ('лини', 0.43701171875), ('汉', 0.427001953125), ('Less', 0.426513671875)], 21: [('CONTENT', 0.70654296875), ('鹃', 0.6484375), (' content', 0.6455078125), ('content', 0.640625), (' CONTENT', 0.6171875)], 22: [('file', 1.2998046875), ('SourceFile', 1.24609375), ('FILE', 1.1083984375), ('FilePath', 1.0888671875), ('heet', 1.0380859375)], 25: [('PD', 1.0966796875), ('PA', 1.0048828125), ('PAD', 1.0), (' PD', 0.9736328125), ('pd', 0.9716796875)], 31: [('import', 3.623046875), ('\\n', 3.462890625), ('from', 2.791015625), ('  ', 2.568359375), ('\\xa0g', 2.546875)], 60: [('ходите', 0.54248046875), ('钉', 0.498779296875), ('folds', 0.477783203125), ('omia', 0.472412109375), ('se', 0.470703125)]}, 8: {2: [('ML', 0.22802734375), ('pick', 0.2254638671875), ('PART', 0.217529296875), (' Part', 0.217529296875), ('Part', 0.2132568359375)], 7: [('aign', 0.27587890625), ('дители', 0.250244140625), (' Act', 0.248046875), ('触', 0.2440185546875), ('Plan', 0.2374267578125)], 16: [('�', 0.2000732421875), ('arina', 0.1697998046875), ('errat', 0.1561279296875), ('вай', 0.1558837890625), ('cnica', 0.1505126953125)], 41: [('Estat', 0.252685546875), (' Estat', 0.2452392578125), ('peer', 0.2265625), (' Ferrer', 0.224853515625), ('随', 0.2176513671875)], 52: [('党委', 0.292236328125), ('rimp', 0.240478515625), ('IEEEeqnarray', 0.23779296875), ('ajuntament', 0.23095703125), ('发生的', 0.230224609375)], 54: [('stands', 0.3564453125), ('轰', 0.350341796875), ('ittle', 0.34912109375), ('rodu', 0.3359375), (' INS', 0.3134765625)]}, 10: {2: [('z', 0.438232421875), ('ph', 0.398681640625), ('H', 0.395751953125), ('-', 0.39404296875), (' Power', 0.39208984375)], 30: [('ъд', 0.2098388671875), (' Кънчов', 0.2037353515625), ('ническата', 0.2034912109375), (' Кън', 0.1939697265625), ('estand', 0.1934814453125)], 32: [('pedia', 0.10589599609375), ('iana', 0.1007080078125), ('ian', 0.09161376953125), ('adors', 0.08966064453125), (' зави', 0.087158203125)], 37: [('лева', 1.0849609375), ('inction', 1.03125), ('lier', 0.994140625), ('ract', 0.9853515625), ('ulay', 0.9609375)], 47: [('ishness', 1.6435546875), ('nesses', 1.6142578125), ('рите', 1.5166015625), ('Жени', 1.5048828125), ('рича', 1.4912109375)], 49: [('read', 5.390625), (' envers', 5.296875), ('线的', 4.82421875), ('options', 4.69140625), ('oka', 4.55078125)]}, 5: {3: [('като', 0.196533203125), ('bitat', 0.1961669921875), ('стта', 0.1876220703125), ('ifests', 0.1864013671875), ('faithful', 0.1837158203125)], 31: [('\\n', 4.33984375), ('#', 3.884765625), (' def', 3.76171875), ('#:', 3.5859375), (' #', 3.54296875)], 33: [('avel', 0.1717529296875), ('8', 0.16552734375), ('ame', 0.156494140625), ('being', 0.149169921875), (' революционер', 0.1475830078125)], 51: [('ове', 0.138671875), ('artney', 0.1385498046875), ('Cheap', 0.134521484375), ('rega', 0.133544921875), ('ummer', 0.1331787109375)], 60: [('igament', 1.205078125), ('culos', 1.185546875), ('Skill', 1.15234375), (' Limita', 1.1142578125), ('缠', 1.1015625)], 62: [(' thought', 0.2486572265625), ('thought', 0.2401123046875), (' Thought', 0.224365234375), ('ay', 0.2169189453125), ('al', 0.2113037109375)]}, 9: {3: [('acle', 0.21875), ('openg', 0.1932373046875), ('ORTS', 0.1781005859375), ('cmark', 0.176513671875), ('MethodName', 0.176025390625)], 37: [(' Ch', 0.1751708984375), ('orn', 0.173095703125), ('Ch', 0.17236328125), ('扶', 0.170654296875), ('asta', 0.1671142578125)], 42: [(' Reial', 0.17236328125), ('thm', 0.16796875), ('Come', 0.1641845703125), ('Eix', 0.1605224609375), ('ront', 0.1605224609375)], 46: [(' Humblot', 0.1595458984375), ('emano', 0.152587890625), ('近平', 0.1510009765625), (' общество', 0.14599609375), ('ietat', 0.142578125)], 47: [('OperationKind', 1.185546875), ('ATABASE', 1.0625), ('iquen', 1.05859375), ('CPTR', 1.0556640625), ('oguera', 1.0302734375)], 51: [('ister', 0.2088623046875), ('esser', 0.1878662109375), ('omeu', 0.1856689453125), ('леми', 0.179931640625), ('тира', 0.1790771484375)]}, 3: {7: [('psilon', 0.21435546875), ('мост', 0.1943359375), ('вю', 0.193359375), ('提', 0.1923828125), (':~', 0.19189453125)], 12: [('价', 0.1815185546875), ('价的', 0.173583984375), ('员', 0.1727294921875), ('ър', 0.165283203125), ('材', 0.1573486328125)], 25: [(' P', 0.166015625), (' J', 0.1566162109375), (' PS', 0.14990234375), ('JT', 0.146240234375), ('JP', 0.144775390625)], 39: [('龄', 0.216064453125), ('кал', 0.2088623046875), ('汰', 0.2021484375), ('къде', 0.2012939453125), (']-->', 0.1988525390625)], 43: [('喇叭', 0.2025146484375), ('чу', 0.196044921875), ('莱斯', 0.1876220703125), ('veu', 0.187255859375), (' $+$', 0.184814453125)], 54: [('��', 0.2039794921875), ('дове', 0.20361328125), ('rouse', 0.2015380859375), ('athers', 0.1971435546875), ('ucket', 0.1959228515625)]}, 2: {11: [('北', 0.194091796875), (' ски', 0.18212890625), (' aeri', 0.176513671875), ('jans', 0.1663818359375), ('\\\\!\\\\!\\\\!\\\\!', 0.1646728515625)], 34: [('威', 0.251953125), ('ded', 0.2064208984375), ('ba', 0.20166015625), (' tears', 0.2010498046875), ('aram', 0.1998291015625)], 37: [('ards', 0.157470703125), ('ard', 0.1553955078125), ('ct', 0.14794921875), ('ardless', 0.141845703125), ('iner', 0.1409912109375)], 39: [(' живота', 0.2802734375), ('igure', 0.275634765625), ('optera', 0.25146484375), ('нин', 0.250732421875), ('icz', 0.250244140625)], 56: [('men', 0.227783203125), ('coni', 0.221923828125), ('mo', 0.2197265625), ('�', 0.218994140625), ('cope', 0.2176513671875)], 61: [('交', 0.2939453125), ('astics', 0.287841796875), ('зания', 0.283203125), (' ch', 0.265625), ('лията', 0.260498046875)]}, 4: {11: [('公', 0.199951171875), ('溪', 0.179443359375), (' mestres', 0.1778564453125), ('spired', 0.16796875), ('�', 0.167236328125)], 32: [('ines', 0.178466796875), ('ady', 0.1697998046875), ('4', 0.1693115234375), ('Три', 0.16845703125), ('ury', 0.1678466796875)], 34: [('f', 0.22509765625), ('down', 0.1893310546875), ('3', 0.177490234375), ('fat', 0.1751708984375), ('FI', 0.175048828125)], 37: [('rouse', 0.2113037109375), ('imits', 0.208251953125), ('kem', 0.2044677734375), ('etapes', 0.2041015625), ('ence', 0.2020263671875)], 47: [(' колони', 0.27587890625), ('��', 0.2646484375), ('printf', 0.2457275390625), ('�', 0.23681640625), ('spci', 0.23486328125)], 53: [('вей', 0.15185546875), ('dio', 0.1273193359375), (' проце', 0.1256103515625), ('igger', 0.1243896484375), ('inux', 0.12335205078125)]}, 0: {15: [('стани', 0.191650390625), ('olat', 0.1558837890625), (' ул', 0.1514892578125), ('oly', 0.14208984375), ('stackexchange', 0.1375732421875)], 30: [('set', 0.04290771484375), ('id', 0.041259765625), ('еку', 0.041015625), ('cos', 0.04034423828125), (' cos', 0.038299560546875)], 40: [('es', 0.55224609375), ('e', 0.515625), ('a', 0.450439453125), ('as', 0.445556640625), ('ed', 0.4130859375)], 49: [(' set', 0.1259765625), ('set', 0.118896484375), ('Set', 0.10699462890625), ('enser', 0.10040283203125), (' Set', 0.099853515625)], 53: [('orell', 0.060089111328125), ('shiv', 0.053924560546875), ('нея', 0.053314208984375), ('�起', 0.05316162109375), ('aita', 0.0499267578125)], 59: [('�起', 0.0482177734375), ('ordial', 0.04290771484375), ('�', 0.042388916015625), ('Dele', 0.042205810546875), (' degree', 0.042083740234375)]}, 7: {15: [('lemany', 0.11248779296875), ('abla', 0.1085205078125), ('quita', 0.10797119140625), (' избу', 0.10626220703125), ('alona', 0.10565185546875)], 30: [('耳', 0.10064697265625), ('ловия', 0.09674072265625), ('ability', 0.095703125), ('atea', 0.0943603515625), (' остават', 0.09246826171875)], 34: [(' Ball', 0.2142333984375), (' формира', 0.2105712890625), (' CHARSET', 0.1982421875), ('raint', 0.1959228515625), ('王牌', 0.1943359375)], 37: [('ainty', 0.60009765625), ('finity', 0.56201171875), ('imentaci', 0.55322265625), ('CodeAttribute', 0.53564453125), ('miral', 0.52880859375)], 45: [('brack', 0.11676025390625), ('布林', 0.10699462890625), ('台', 0.10516357421875), ('回归', 0.099365234375), ('┈┈', 0.09674072265625)], 47: [('elf', 0.0916748046875), ('est', 0.08526611328125), ('ely', 0.08514404296875), ('ell', 0.0849609375), ('elle', 0.083984375)]}}\n",
      "Shared expert predictions: [[('=\"../_', 0.379150390625), ('bes', 0.367919921875), ('_-(', 0.355224609375), (' gu', 0.343505859375), ('_{_{', 0.33837890625)], [('利物', 0.84912109375), ('ched', 0.84423828125), (' препратки', 0.84228515625), ('saurus', 0.8154296875), ('ugosl', 0.7724609375)], [('插', 0.85302734375), ('Estocolm', 0.79443359375), ('推', 0.79150390625), ('bils', 0.78955078125), ('osities', 0.7890625)], [('ison', 1.076171875), ('��', 1.064453125), ('jem', 1.0380859375), ('叙', 1.0029296875), ('isson', 0.9970703125)], [('嚣', 0.9296875), ('ADO', 0.8623046875), ('吸取', 0.859375), ('antos', 0.84814453125), ('achs', 0.8173828125)], [('monto', 0.96435546875), ('loqu', 0.9609375), ('ivel', 0.94775390625), ('ickness', 0.90234375), ('bsite', 0.88671875)], [('ivel', 1.0146484375), ('骄', 0.9072265625), (' refor', 0.89794921875), ('чу', 0.861328125), ('吸取', 0.85693359375)], [('arda', 0.740234375), ('ems', 0.70068359375), ('Ungrouped', 0.69091796875), ('放', 0.6865234375), ('дера', 0.65869140625)], [('IME', 1.1787109375), ('YO', 0.9755859375), ('奥', 0.97314453125), ('semblance', 0.95458984375), ('geu', 0.92236328125)], [(' ', 1.3330078125), ('�', 1.158203125), ('划', 1.0390625), ('lay', 0.986328125), ('cen', 0.97900390625)], [('thems', 0.98046875), ('vos', 0.931640625), (' r', 0.87353515625), ('adders', 0.86328125), ('velle', 0.841796875)]]\n",
      "\n",
      "MoE Layer 21:\n",
      "Selected experts: [[16, 29, 31, 59, 48, 43], [8, 16, 7, 41, 55, 9], [20, 10, 23, 47, 50, 38], [20, 35, 53, 25, 60, 56], [47, 27, 49, 42, 2, 35], [40, 62, 25, 11, 45, 19], [62, 37, 9, 40, 41, 59], [29, 27, 2, 4, 32, 17], [48, 41, 16, 58, 44, 3], [58, 63, 44, 26, 3, 23], [19, 51, 34, 48, 61, 31]]\n",
      "Expert weights: [[0.65869140625, 0.01407623291015625, 0.02294921875, 0.017974853515625, 0.0113067626953125, 0.01088714599609375], [0.06097412109375, 0.038787841796875, 0.05535888671875, 0.138427734375, 0.0307159423828125, 0.028533935546875], [0.0560302734375, 0.12310791015625, 0.03790283203125, 0.1048583984375, 0.0333251953125, 0.030975341796875], [0.04779052734375, 0.08184814453125, 0.04534912109375, 0.045257568359375, 0.03759765625, 0.03411865234375], [0.31787109375, 0.04345703125, 0.0325927734375, 0.028717041015625, 0.025726318359375, 0.0255126953125], [0.10302734375, 0.043670654296875, 0.03466796875, 0.027557373046875, 0.0248870849609375, 0.02471923828125], [0.1212158203125, 0.050140380859375, 0.049957275390625, 0.04718017578125, 0.044281005859375, 0.035064697265625], [0.0972900390625, 0.09039306640625, 0.06414794921875, 0.041961669921875, 0.039825439453125, 0.036956787109375], [0.046966552734375, 0.0882568359375, 0.041595458984375, 0.0364990234375, 0.0328369140625, 0.032684326171875], [0.051605224609375, 0.04791259765625, 0.041259765625, 0.035400390625, 0.03533935546875, 0.031463623046875], [0.042022705078125, 0.04266357421875, 0.0831298828125, 0.0584716796875, 0.060516357421875, 0.04083251953125]]\n",
      "Combined output tokens: [[('heses', 2.08984375), ('childnode', 2.083984375), ('}$~\\\\', 2.029296875), ('Икономи', 1.943359375), ('anzas', 1.9375)], [(' javax', 3.029296875), (' sys', 2.921875), (' java', 2.857421875), ('讲话', 2.70703125), ('鼻', 2.685546875)], [('as', 1.701171875), ('fr', 1.6318359375), ('town', 1.5986328125), ('KT', 1.5283203125), ('TRAN', 1.5166015625)], [('ioc', 1.4736328125), ('everse', 1.455078125), ('CODEGEN', 1.44140625), ('WireFormat', 1.3349609375), ('widet', 1.3193359375)], [('\\n', 3.892578125), ('&)', 3.521484375), ('派', 3.517578125), ('umber', 3.4375), ('APA', 3.42578125)], [('this', 1.330078125), (' this', 1.2919921875), ('ort', 1.2744140625), ('ASM', 1.2490234375), ('Ray', 1.2158203125)], [('iris', 2.306640625), ('HV', 2.251953125), ('wiki', 2.189453125), ('�', 2.142578125), ('emn', 2.12890625)], [('arque', 1.2373046875), ('dig', 1.185546875), ('asian', 1.15234375), ('uci', 1.138671875), ('тев', 1.12890625)], [('рал', 3.44921875), ('рат', 3.07421875), (' NotImplemented', 3.064453125), (' lambda', 2.994140625), ('关闭', 2.828125)], [('oga', 1.224609375), (' v', 1.130859375), ('ota', 1.1298828125), (' S', 1.0849609375), ('固执', 1.080078125)], [('tty', 1.380859375), ('�', 1.251953125), ('arts', 1.181640625), ('marshall', 1.154296875), ('青', 1.140625)]]\n",
      "Expert predictions by position: {4: {2: [('utta', 0.169677734375), ('utt', 0.1527099609375), ('venin', 0.1395263671875), ('бия', 0.132568359375), ('erge', 0.1285400390625)], 27: [('泻', 0.51220703125), ('负', 0.50048828125), ('P', 0.493408203125), ('act', 0.48046875), ('临', 0.46630859375)], 35: [(' CI', 0.417724609375), (' Ci', 0.414306640625), ('ери', 0.39794921875), ('efi', 0.39794921875), ('illings', 0.395263671875)], 42: [('8', 0.354248046875), ('7', 0.35400390625), ('9', 0.35107421875), ('6', 0.346923828125), ('2', 0.339111328125)], 47: [('alia', 0.60693359375), ('�', 0.60693359375), ('Spat', 0.60498046875), ('marshaller', 0.60107421875), ('机的', 0.59521484375)], 49: [('命', 0.152099609375), ('弥', 0.140625), ('лище', 0.13330078125), ('7', 0.1322021484375), ('unda', 0.130615234375)]}, 7: {2: [('�乐', 0.3955078125), ('APIENTRY', 0.369140625), ('utada', 0.368896484375), ('乌鲁', 0.36669921875), ('\">{', 0.36474609375)], 4: [('кос', 0.2431640625), ('arcs', 0.2257080078125), ('iko', 0.195068359375), ('URA', 0.1890869140625), ('服', 0.1802978515625)], 17: [(' Seven', 0.3779296875), ('七', 0.37451171875), ('第七', 0.321533203125), ('Seven', 0.318359375), ('7', 0.317626953125)], 27: [('tcb', 0.307373046875), (' sil', 0.28515625), ('gc', 0.272705078125), ('GC', 0.26416015625), ('CC', 0.263916015625)], 29: [('opol', 0.01348876953125), ('чности', 0.01241302490234375), ('славски', 0.01219940185546875), ('циа', 0.01200103759765625), ('endres', 0.01165008544921875)], 32: [('Espero', 0.234619140625), ('кович', 0.220947265625), ('onesa', 0.20654296875), (' esperant', 0.2047119140625), (' фла', 0.197021484375)]}, 8: {3: [('��', 0.1846923828125), ('坛', 0.176025390625), ('5', 0.1695556640625), ('itude', 0.1666259765625), ('ociety', 0.1641845703125)], 16: [(' lambda', 0.444091796875), ('lambda', 0.360595703125), ('LIC', 0.3544921875), ('iric', 0.349853515625), (' host', 0.34619140625)], 41: [('пла', 2.927734375), ('рал', 2.751953125), (' openings', 2.69140625), ('ург', 2.501953125), (' lambda', 2.498046875)], 44: [('orda', 0.2100830078125), ('alesa', 0.206298828125), ('rais', 0.203369140625), (' Provincial', 0.2012939453125), ('ия', 0.1981201171875)], 48: [('пло', 0.030517578125), ('爱', 0.02984619140625), ('��', 0.0282135009765625), ('гур', 0.0279693603515625), ('aru', 0.027435302734375)], 58: [('6', 0.181396484375), ('ne', 0.1759033203125), ('4', 0.1708984375), ('取决', 0.1689453125), ('1', 0.1673583984375)]}, 9: {3: [('хайд', 0.2188720703125), ('give', 0.21875), ('тра', 0.1951904296875), ('ranslate', 0.1943359375), (' SyntaxKind', 0.1868896484375)], 23: [('ngia', 0.15966796875), ('�乐', 0.1575927734375), ('雷', 0.1527099609375), ('brit', 0.1439208984375), ('lits', 0.1436767578125)], 26: [(' off', 0.23193359375), ('Off', 0.191162109375), (' OFF', 0.187744140625), ('OFF', 0.1849365234375), (' $\\\\#', 0.1839599609375)], 44: [('��', 0.29736328125), ('stadt', 0.22119140625), ('rida', 0.215576171875), ('=</', 0.21240234375), ('>{@', 0.2115478515625)], 58: [('aped', 0.2110595703125), (' adj', 0.202880859375), ('icense', 0.201904296875), ('oga', 0.2012939453125), ('abase', 0.197021484375)], 63: [(' court', 0.25537109375), ('pires', 0.2470703125), ('rid', 0.2393798828125), ('MiB', 0.2281494140625), ('长', 0.225341796875)]}, 1: {7: [('olar', 0.24560546875), ('inita', 0.225341796875), ('�', 0.2109375), ('维', 0.208984375), (' **', 0.2076416015625)], 8: [('аз', 0.2333984375), ('iegel', 0.224365234375), ('精', 0.2196044921875), ('kap', 0.216552734375), (' further', 0.211669921875)], 9: [(' Py', 0.403564453125), ('Py', 0.393798828125), (' PY', 0.3447265625), ('PY', 0.342041015625), ('pytest', 0.334716796875)], 16: [('begin', 0.2449951171875), ('end', 0.2208251953125), ('Tagged', 0.216796875), ('vation', 0.1954345703125), ('hyper', 0.18896484375)], 41: [(' javax', 2.857421875), (' java', 2.857421875), (' sys', 2.703125), ('пал', 2.62109375), (' org', 2.435546875)], 55: [('fty', 0.08465576171875), (' R', 0.08319091796875), ('rown', 0.08294677734375), ('row', 0.08197021484375), ('法', 0.0771484375)]}, 6: {9: [('FEATURE', 1.291015625), ('folds', 1.2353515625), ('cule', 1.185546875), ('uci', 1.1494140625), ('UCI', 1.119140625)], 37: [('egraphics', 0.826171875), (' ATTRS', 0.7548828125), (' literari', 0.75048828125), ('riptor', 0.748046875), ('ituency', 0.7470703125)], 40: [('ateix', 0.62158203125), ('atest', 0.5791015625), ('ermost', 0.57568359375), ('requency', 0.54150390625), ('seys', 0.5078125)], 41: [(' #', 0.78369140625), ('#', 0.70947265625), ('теля', 0.7001953125), ('外卖', 0.6943359375), ('def', 0.67333984375)], 59: [('��', 0.373291015625), ('�', 0.357666015625), ('жие', 0.34033203125), ('益', 0.335205078125), ('oldre', 0.333251953125)], 62: [('zy', 0.43115234375), ('izable', 0.35546875), ('中等', 0.341064453125), ('izes', 0.3388671875), ('heart', 0.333740234375)]}, 2: {10: [(' as', 1.4873046875), ('as', 1.236328125), ('тели', 1.203125), ('трове', 1.1474609375), ('asl', 1.14453125)], 20: [('佳', 0.2066650390625), ('ersen', 0.2042236328125), ('隆', 0.2020263671875), ('ismus', 0.20068359375), ('ци', 0.198486328125)], 23: [('踩', 0.18212890625), ('idat', 0.1375732421875), ('兼', 0.132080078125), ('вле', 0.1273193359375), (' Spani', 0.12310791015625)], 38: [(' }', 0.308837890625), ('}', 0.223876953125), ('\\t}', 0.210693359375), ('per', 0.2073974609375), ('-', 0.195068359375)], 47: [('\\n', 3.74609375), ('派', 3.658203125), ('&)', 3.501953125), ('umber', 3.41796875), ('oyer', 3.19921875)], 50: [(' Segre', 0.1761474609375), ('shim', 0.170654296875), (' PARAM', 0.1705322265625), (' bess', 0.16796875), ('YPT', 0.1619873046875)]}, 5: {11: [('网', 0.276611328125), ('网的', 0.26123046875), ('排', 0.1746826171875), ('icines', 0.162841796875), ('网络', 0.160400390625)], 19: [('ities', 0.109375), ('issin', 0.10748291015625), (' rec', 0.10504150390625), (' полу', 0.10467529296875), ('GI', 0.101806640625)], 25: [('wered', 0.216552734375), ('ENO', 0.2098388671875), ('mod', 0.207275390625), ('涉', 0.2059326171875), ('湖北', 0.197265625)], 40: [('ermost', 0.3369140625), ('ieras', 0.3291015625), ('onesa', 0.3193359375), ('ernation', 0.316162109375), ('ancel', 0.30322265625)], 45: [('\\n', 0.26171875), ('\"', 0.184814453125), ('es', 0.183349609375), ('ав', 0.1669921875), ('巡', 0.1636962890625)], 62: [('3', 0.921875), ('zones', 0.86572265625), ('urat', 0.85693359375), ('Wr', 0.8525390625), (' above', 0.8505859375)]}, 0: {16: [('childnode', 1.8388671875), ('heses', 1.826171875), ('}$~\\\\', 1.7587890625), ('anzas', 1.7529296875), ('Икономи', 1.634765625)], 29: [('тс', 0.86328125), ('=@', 0.77783203125), ('brook', 0.76904296875), (':=', 0.76513671875), (' =', 0.748046875)], 31: [('�', 0.320068359375), ('�', 0.280517578125), ('8', 0.2451171875), ('_', 0.2425537109375), ('ален', 0.236572265625)], 43: [('部', 0.0271453857421875), ('day', 0.0226898193359375), ('��', 0.0224609375), ('�', 0.0221710205078125), (' pointer', 0.0214385986328125)], 48: [('ракия', 0.259033203125), ('туга', 0.25390625), ('USED', 0.245361328125), ('olas', 0.2391357421875), ('ебсайт', 0.2384033203125)], 59: [('她们的', 0.0289306640625), ('广', 0.028778076171875), ('DEVICE', 0.0275726318359375), ('кона', 0.025238037109375), ('iski', 0.02520751953125)]}, 10: {19: [('heard', 0.20703125), ('abr', 0.2069091796875), ('号的', 0.2020263671875), ('swire', 0.201171875), ('ings', 0.2005615234375)], 31: [('igy', 0.037567138671875), ('рид', 0.03753662109375), ('anell', 0.03314208984375), ('ieri', 0.0313720703125), ('}$~\\\\', 0.0310211181640625)], 34: [('ограф', 0.39013671875), ('гва', 0.3857421875), ('pany', 0.375), ('arre', 0.373779296875), ('coi', 0.3662109375)], 48: [('ock', 0.361328125), ('tland', 0.34033203125), ('ycle', 0.330810546875), ('opol', 0.311279296875), ('ways', 0.308837890625)], 51: [('月', 0.2239990234375), ('卉', 0.2109375), ('Of', 0.203125), ('照', 0.2030029296875), ('icent', 0.2021484375)], 61: [(' Son', 0.30908203125), ('WIN', 0.305908203125), (' Spring', 0.29638671875), (' G', 0.28076171875), ('iling', 0.27490234375)]}, 3: {20: [('rrez', 0.344970703125), (' center', 0.26025390625), ('refox', 0.25927734375), (' nena', 0.255859375), ('CL', 0.255859375)], 25: [('member', 0.2607421875), ('太平', 0.254638671875), ('ROM', 0.2481689453125), ('MEMBER', 0.244873046875), ('iod', 0.2445068359375)], 35: [('они', 0.11297607421875), ('сиони', 0.11187744140625), ('мята', 0.10980224609375), ('colorbox', 0.105712890625), ('тъм', 0.10479736328125)], 53: [('ур', 0.392822265625), ('кре', 0.39111328125), ('Spat', 0.375732421875), ('\\\\@', 0.343017578125), ('enent', 0.3369140625)], 56: [('бет', 0.230224609375), ('нала', 0.22314453125), ('utive', 0.218017578125), ('条', 0.2003173828125), ('essages', 0.1962890625)], 60: [('ries', 0.1806640625), ('ville', 0.172119140625), (' ves', 0.1717529296875), ('调', 0.1715087890625), ('omics', 0.16748046875)]}}\n",
      "Shared expert predictions: [[('�乐', 0.389892578125), ('Hivern', 0.3544921875), ('dens', 0.3447265625), ('onada', 0.332275390625), ('NameLink', 0.329833984375)], [('�', 0.71337890625), (' Arquitect', 0.662109375), ('iac', 0.63232421875), ('helf', 0.62890625), ('�', 0.62841796875)], [('($\\\\', 0.76220703125), ('默默', 0.7529296875), ('甘', 0.73779296875), ('pon', 0.70703125), ('gb', 0.68310546875)], [('CALLTYPE', 1.4189453125), ('OperationKind', 1.3564453125), ('FieldLocation', 1.294921875), ('CODEGEN', 1.2919921875), ('ucode', 1.2216796875)], [('固执', 1.046875), ('稳步', 1.0400390625), ('牢牢', 0.974609375), ('WB', 0.96142578125), ('默默', 0.951171875)], [('this', 1.1162109375), (' this', 1.083984375), (' esta', 0.98583984375), ('ASM', 0.9794921875), (' este', 0.96337890625)], [('\\tto', 0.98828125), ('寝', 0.97998046875), ('aq', 0.93603515625), ('heli', 0.9228515625), ('TO', 0.91552734375)], [(' кал', 0.7861328125), ('лага', 0.70556640625), ('馨', 0.68359375), (' europeu', 0.6796875), ('默默', 0.67724609375)], [('打通', 1.0439453125), ('欣', 1.00390625), ('mapsto', 0.947265625), ('粗糙', 0.94677734375), ('拼命', 0.9443359375)], [(' ', 1.1943359375), (' v', 1.1796875), (' B', 1.1455078125), (' V', 1.14453125), (' S', 1.1025390625)], [('jul', 0.96630859375), ('tty', 0.953125), ('uner', 0.9462890625), ('чини', 0.9091796875), ('rivation', 0.90576171875)]]\n",
      "\n",
      "MoE Layer 22:\n",
      "Selected experts: [[59, 18, 53, 23, 56, 4], [0, 1, 38, 9, 42, 57], [39, 62, 33, 55, 54, 16], [13, 11, 47, 21, 27, 52], [55, 59, 28, 33, 16, 42], [18, 52, 56, 28, 26, 41], [56, 53, 43, 34, 30, 18], [33, 49, 50, 3, 63, 13], [13, 52, 30, 5, 44, 42], [25, 61, 17, 45, 30, 13], [16, 50, 20, 4, 53, 41]]\n",
      "Expert weights: [[0.736328125, 0.0189666748046875, 0.018341064453125, 0.01202392578125, 0.01134490966796875, 0.009521484375], [0.120849609375, 0.036651611328125, 0.03594970703125, 0.0297393798828125, 0.0296478271484375, 0.0290374755859375], [0.034454345703125, 0.07342529296875, 0.037109375, 0.06219482421875, 0.034027099609375, 0.031951904296875], [0.07110595703125, 0.11517333984375, 0.050811767578125, 0.042694091796875, 0.039306640625, 0.03411865234375], [0.1263427734375, 0.04443359375, 0.039947509765625, 0.03790283203125, 0.035186767578125, 0.0330810546875], [0.037353515625, 0.029998779296875, 0.045501708984375, 0.0479736328125, 0.0287628173828125, 0.02801513671875], [0.06146240234375, 0.0762939453125, 0.056640625, 0.03485107421875, 0.0313720703125, 0.030303955078125], [0.11346435546875, 0.0858154296875, 0.06939697265625, 0.034759521484375, 0.0288543701171875, 0.0272979736328125], [0.0494384765625, 0.045501708984375, 0.03704833984375, 0.03338623046875, 0.03289794921875, 0.031768798828125], [0.05426025390625, 0.0458984375, 0.0511474609375, 0.051727294921875, 0.04193115234375, 0.03680419921875], [0.052978515625, 0.04547119140625, 0.044464111328125, 0.070556640625, 0.04119873046875, 0.03643798828125]]\n",
      "Combined output tokens: [[('大力', 0.63720703125), ('pip', 0.5712890625), ('l', 0.53369140625), (' provision', 0.53369140625), ('стер', 0.52685546875)], [('坎', 3.255859375), ('iod', 2.814453125), ('ting', 2.79296875), ('焦', 2.7265625), ('spe', 2.65234375)], [(' as', 1.8095703125), ('AS', 1.755859375), ('as', 1.755859375), ('asq', 1.6875), (' AS', 1.5224609375)], [('phia', 1.572265625), ('encion', 1.5703125), ('onomia', 1.4677734375), ('olute', 1.44921875), ('bera', 1.4208984375)], [('黯', 1.8134765625), ('uner', 1.7861328125), ('жава', 1.7802734375), (' Installer', 1.775390625), ('沉迷', 1.7646484375)], [('vale', 1.15625), ('gad', 1.125), ('>&#', 1.12109375), ('�', 1.048828125), ('andid', 1.0322265625)], [('adors', 2.33984375), ('ashington', 2.3125), ('ODO', 2.224609375), ('estat', 2.193359375), ('ingressos', 2.16015625)], [('p', 2.294921875), ('af', 1.9140625), ('ed', 1.8720703125), ('m', 1.8564453125), ('erver', 1.8046875)], [('wered', 1.96484375), ('IMO', 1.65234375), ('AGA', 1.583984375), (' dalt', 1.5791015625), ('ODO', 1.5546875)], [('��', 1.212890625), ('UTH', 1.1845703125), ('icago', 1.177734375), ('umption', 1.1728515625), ('欣赏', 1.150390625)], [('欣', 1.5791015625), ('家常', 1.447265625), ('�', 1.388671875), ('wered', 1.3837890625), ('nap', 1.353515625)]]\n",
      "Expert predictions by position: {1: {0: [('坎', 2.833984375), ('iod', 2.66015625), (' requests', 2.646484375), ('ting', 2.580078125), (' arg', 2.462890625)], 1: [(' class', 0.204833984375), ('gency', 0.202880859375), ('类', 0.187255859375), (' Class', 0.1834716796875), (' SCB', 0.1822509765625)], 9: [('дъх', 0.14697265625), ('ositat', 0.1353759765625), ('enar', 0.1324462890625), (' смет', 0.132080078125), ('последствие', 0.1302490234375)], 38: [('unz', 0.1429443359375), (' column', 0.1319580078125), ('ed', 0.1307373046875), ('弹性', 0.1290283203125), ('synthesize', 0.1259765625)], 42: [('ivable', 0.1654052734375), ('urea', 0.1611328125), ('вайг', 0.1611328125), ('iami', 0.156982421875), ('ylvan', 0.1505126953125)], 57: [('erme', 0.15869140625), ('�', 0.1534423828125), ('回', 0.1522216796875), ('ол', 0.147216796875), ('Ord', 0.1383056640625)]}, 7: {3: [('ARRANT', 0.1258544921875), ('关', 0.1195068359375), ('igan', 0.11907958984375), ('рово', 0.1170654296875), ('RUP', 0.11572265625)], 13: [('istes', 0.1041259765625), ('ску', 0.1038818359375), ('долу', 0.098876953125), ('ложи', 0.09716796875), ('内容', 0.09686279296875)], 33: [('insserv', 0.345703125), ('ipschitz', 0.322509765625), ('oremove', 0.318115234375), (' опълченец', 0.31640625), ('htc', 0.316162109375)], 49: [(' =', 0.7080078125), ('=', 0.6611328125), (' -', 0.62353515625), ('4', 0.60302734375), ('3', 0.6025390625)], 50: [('itt', 0.43408203125), ('unal', 0.40869140625), ('out', 0.407470703125), ('有的', 0.406982421875), ('IANT', 0.380615234375)], 63: [('室内', 0.11590576171875), ('ствие', 0.10748291015625), ('леми', 0.10528564453125), ('wort', 0.10064697265625), (' Пари', 0.09954833984375)]}, 0: {4: [('续', 0.4619140625), ('b', 0.458984375), ('中国人民', 0.44921875), ('v', 0.4482421875), ('zed', 0.43505859375)], 18: [('循', 0.184814453125), ('rowe', 0.167236328125), ('backer', 0.161376953125), ('arck', 0.1610107421875), ('ň', 0.160888671875)], 23: [(' desn', 0.02264404296875), (' Principat', 0.021392822265625), ('瀑', 0.0212860107421875), ('利物', 0.0198822021484375), ('OTAL', 0.01959228515625)], 53: [('цу', 1.380859375), ('状', 1.1806640625), ('abez', 1.140625), ('odox', 1.134765625), ('Cab', 1.126953125)], 56: [(' Op', 0.027313232421875), ('MP', 0.027313232421875), ('uan', 0.0267333984375), ('Help', 0.0260009765625), ('fac', 0.02557373046875)], 59: [('ENI', 0.20703125), ('兴', 0.2022705078125), ('мна', 0.1956787109375), (' чети', 0.1943359375), ('四是', 0.1904296875)]}, 10: {4: [('j', 0.029327392578125), ('g', 0.0221710205078125), ('ch', 0.0206756591796875), ('注', 0.020660400390625), ('or', 0.020111083984375)], 16: [(' експе', 0.1558837890625), ('alesa', 0.150146484375), ('стру', 0.148681640625), (' ${{\\\\', 0.14697265625), ('epsfig', 0.1453857421875)], 20: [('pur', 0.275634765625), ('irs', 0.26953125), ('Pl', 0.262939453125), (' K', 0.2393798828125), ('agine', 0.2335205078125)], 41: [('doing', 0.29541015625), (' doing', 0.285888671875), (' seek', 0.25634765625), (' doin', 0.255615234375), ('do', 0.254638671875)], 50: [('公共', 0.313232421875), ('ле', 0.30029296875), ('ardu', 0.297607421875), ('PIO', 0.291015625), ('лед', 0.290771484375)], 53: [('mes', 0.79248046875), ('家常', 0.7470703125), ('xes', 0.728515625), ('json', 0.70361328125), (' dess', 0.69873046875)]}, 8: {5: [(' \\\\', 0.79052734375), ('\\\\', 0.767578125), (' ', 0.66748046875), ('\\t\\\\', 0.6669921875), ('武', 0.560546875)], 13: [('opes', 0.40087890625), ('�', 0.396240234375), ('GB', 0.371826171875), ('GBT', 0.359375), ('如其', 0.358642578125)], 30: [('vote', 0.348388671875), (' vote', 0.333251953125), ('Vote', 0.31787109375), ('投票', 0.31396484375), ('votes', 0.301025390625)], 42: [('IMPL', 0.161865234375), ('ebn', 0.157470703125), ('��', 0.154052734375), ('лив', 0.1533203125), ('uve', 0.1505126953125)], 44: [('京', 0.1588134765625), ('bootin', 0.155029296875), ('EDITOR', 0.152099609375), ('ivist', 0.1495361328125), ('壁', 0.1485595703125)], 52: [('hare', 0.220458984375), ('拱', 0.20068359375), ('Mess', 0.200439453125), ('N', 0.1978759765625), (' Mess', 0.194091796875)]}, 3: {11: [('semb', 1.01171875), ('olute', 0.96728515625), ('液', 0.95458984375), ('щица', 0.95263671875), ('adesh', 0.94921875)], 13: [('est', 0.2264404296875), ('igh', 0.2237548828125), ('inn', 0.22265625), ('ე', 0.2225341796875), ('eti', 0.218017578125)], 21: [('靠', 0.48779296875), ('ersal', 0.393310546875), ('agona', 0.349365234375), ('给', 0.31787109375), ('eref', 0.29296875)], 27: [(' --></', 0.28662109375), (' крайцер', 0.2470703125), ('arxa', 0.2427978515625), ('aleph', 0.2410888671875), (' iprot', 0.2347412109375)], 47: [('仅代表作者本人观点', 0.359375), ('办理', 0.2958984375), ('�', 0.265380859375), ('pline', 0.2509765625), ('usages', 0.2474365234375)], 52: [('�起', 0.1734619140625), ('reta', 0.166259765625), ('tin', 0.16064453125), (' RX', 0.155029296875), ('ifford', 0.154052734375)]}, 9: {13: [(' reserv', 0.2275390625), ('asses', 0.201416015625), ('马自', 0.2000732421875), ('ueres', 0.1983642578125), (' shouldn', 0.1953125)], 17: [('itiu', 0.373046875), ('pread', 0.32568359375), ('atius', 0.323486328125), ('��', 0.316162109375), ('цето', 0.310546875)], 25: [('зар', 0.310546875), ('��', 0.279052734375), ('催', 0.2467041015625), ('ждат', 0.2464599609375), ('agona', 0.2435302734375)], 30: [('ires', 0.181396484375), ('iliar', 0.1785888671875), (' Membre', 0.1737060546875), ('atorial', 0.17236328125), ('iso', 0.16748046875)], 45: [('usk', 0.232421875), ('лити', 0.2315673828125), ('iered', 0.23046875), ('differential', 0.2296142578125), ('�乐', 0.2283935546875)], 61: [(' ad', 0.3330078125), ('ats', 0.326171875), ('far', 0.318603515625), ('uter', 0.31689453125), ('ussion', 0.311767578125)]}, 2: {16: [('ad', 0.1407470703125), ('uil', 0.12353515625), ('aday', 0.11328125), (' кан', 0.11138916015625), ('Multi', 0.10943603515625)], 33: [('ulles', 0.255126953125), ('mma', 0.2486572265625), ('ud', 0.220703125), ('ван', 0.2156982421875), ('mtp', 0.2001953125)], 39: [('HAS', 0.263916015625), ('ndol', 0.2427978515625), ('each', 0.2333984375), ('alas', 0.229736328125), ('asim', 0.2252197265625)], 54: [(' S', 0.2138671875), (' A', 0.2049560546875), ('S', 0.201904296875), ('复', 0.1861572265625), (' o', 0.177001953125)], 55: [('uner', 1.166015625), (' tun', 1.134765625), ('etria', 1.1044921875), ('жава', 1.099609375), ('iban', 1.0771484375)], 62: [('вка', 0.400390625), ('ე', 0.354248046875), (' Междусъюзническата', 0.31396484375), ('ническата', 0.304443359375), ('=>', 0.301513671875)]}, 4: {16: [('opt', 0.2578125), ('禧', 0.23291015625), ('不信', 0.2283935546875), ('ixa', 0.2166748046875), ('elier', 0.215087890625)], 28: [('idl', 0.2447509765625), ('бъл', 0.212646484375), ('bolds', 0.2098388671875), ('дъх', 0.20849609375), ('��', 0.20263671875)], 33: [('p', 1.5283203125), ('ed', 1.4853515625), ('edas', 1.4541015625), ('es', 1.4208984375), ('ee', 1.373046875)], 42: [('}}).', 0.12396240234375), ('�', 0.11724853515625), ('西红', 0.11419677734375), ('善', 0.1126708984375), ('户', 0.11187744140625)], 55: [('errat', 0.673828125), ('\\t\\\\]', 0.6162109375), ('jant', 0.60498046875), ('iName', 0.56298828125), ('pence', 0.55908203125)], 59: [('\\r', 0.24365234375), ('зона', 0.24365234375), ('ир', 0.241455078125), ('хия', 0.2388916015625), ('ън', 0.2366943359375)]}, 5: {18: [('符', 0.256103515625), ('ilitat', 0.232177734375), ('ките', 0.229248046875), ('ares', 0.218994140625), ('backer', 0.2188720703125)], 26: [('isy', 0.19775390625), ('ническата', 0.194580078125), ('ynthesis', 0.1822509765625), ('蜘', 0.18017578125), ('IGO', 0.17724609375)], 28: [('ops', 0.1959228515625), ('opsi', 0.165771484375), ('lace', 0.1629638671875), ('REV', 0.1605224609375), ('ATHER', 0.1602783203125)], 41: [(' wait', 0.265869140625), (' Wait', 0.255126953125), ('wait', 0.23974609375), ('等待', 0.2354736328125), (' WAIT', 0.22705078125)], 52: [('elta', 0.2509765625), ('=\"../_', 0.2244873046875), ('erman', 0.2178955078125), ('ктика', 0.2174072265625), ('тирана', 0.2161865234375)], 56: [('#\\\\', 0.55224609375), ('asena', 0.54345703125), ('#[', 0.54248046875), ('#/', 0.52880859375), ('ashington', 0.52734375)]}, 6: {18: [('сло', 0.046478271484375), (' llur', 0.042236328125), ('atern', 0.041290283203125), ('intercept', 0.04010009765625), ('жде', 0.039306640625)], 30: [('Vote', 0.394287109375), ('vote', 0.38916015625), (' vote', 0.371826171875), ('投票', 0.367431640625), (' Vote', 0.35791015625)], 34: [('abilitat', 0.5205078125), ('ablement', 0.50048828125), ('empat', 0.486083984375), ('memname', 0.482421875), ('WSER', 0.460205078125)], 43: [('lics', 0.986328125), ('犀', 0.9560546875), ('{}{', 0.88818359375), ('Serialized', 0.87255859375), ('ior', 0.84619140625)], 53: [('8', 0.05133056640625), ('9', 0.046722412109375), ('0', 0.040985107421875), ('6', 0.040008544921875), ('uning', 0.03668212890625)], 56: [('uega', 0.447509765625), ('olute', 0.4267578125), ('#[', 0.4072265625), ('noma', 0.38525390625), ('lien', 0.3837890625)]}}\n",
      "Shared expert predictions: [[('ui', 0.4248046875), ('bona', 0.413330078125), ('ACHE', 0.40625), ('大力', 0.404052734375), ('pip', 0.40185546875)], [('wered', 0.92626953125), ('creen', 0.8974609375), ('pable', 0.89599609375), ('poke', 0.86865234375), ('кси', 0.86669921875)], [(' as', 1.6162109375), ('AS', 1.396484375), (' как', 1.353515625), ('as', 1.3486328125), ('asq', 1.3427734375)], [('bera', 1.0849609375), ('ulse', 0.8486328125), ('�', 0.8310546875), ('[];', 0.8154296875), ('umerable', 0.80126953125)], [('始终坚持', 1.3701171875), ('固执', 1.3525390625), ('晖', 1.3251953125), ('沉迷', 1.318359375), ('ZA', 1.2822265625)], [('adem', 0.91943359375), ('vale', 0.9140625), ('ran', 0.9140625), ('>&#', 0.91357421875), ('幻', 0.90869140625)], [(' \\\\!\\\\!', 1.0498046875), ('adors', 1.0234375), ('gwt', 0.994140625), ('clus', 0.9931640625), ('>&#', 0.98974609375)], [('anum', 0.9580078125), ('�', 0.89404296875), ('WF', 0.89111328125), ('бу', 0.88427734375), ('RG', 0.87646484375)], [('��', 1.5126953125), ('wered', 1.509765625), (' препратки', 1.5009765625), (' guia', 1.3837890625), ('NOSCRIPT', 1.306640625)], [('ان', 1.181640625), ('rpre', 1.025390625), ('UTH', 1.017578125), ('涯', 0.97802734375), ('�', 0.9580078125)], [('wered', 1.158203125), ('exion', 0.9189453125), ('anum', 0.89697265625), ('欣', 0.89404296875), ('duck', 0.85546875)]]\n",
      "\n",
      "MoE Layer 23:\n",
      "Selected experts: [[32, 50, 21, 10, 59, 18], [2, 48, 37, 10, 39, 50], [1, 62, 0, 14, 23, 39], [31, 55, 25, 36, 15, 10], [32, 50, 7, 0, 23, 14], [22, 55, 45, 59, 4, 30], [41, 31, 48, 59, 5, 22], [61, 18, 35, 14, 29, 43], [4, 39, 44, 15, 45, 37], [56, 49, 53, 54, 14, 43], [63, 40, 33, 23, 49, 46]]\n",
      "Expert weights: [[0.01442718505859375, 0.1519775390625, 0.0137176513671875, 0.58056640625, 0.0124359130859375, 0.01218414306640625], [0.051513671875, 0.0433349609375, 0.0416259765625, 0.036590576171875, 0.034454345703125, 0.0305023193359375], [0.0633544921875, 0.05914306640625, 0.044036865234375, 0.041900634765625, 0.04119873046875, 0.033660888671875], [0.0648193359375, 0.053436279296875, 0.041168212890625, 0.039947509765625, 0.039215087890625, 0.0369873046875], [0.12109375, 0.111572265625, 0.0504150390625, 0.038482666015625, 0.03546142578125, 0.033782958984375], [0.07806396484375, 0.046478271484375, 0.03399658203125, 0.0828857421875, 0.0323486328125, 0.03155517578125], [0.055084228515625, 0.04095458984375, 0.04656982421875, 0.054840087890625, 0.03594970703125, 0.03271484375], [0.06756591796875, 0.046112060546875, 0.1505126953125, 0.041717529296875, 0.034820556640625, 0.0298919677734375], [0.039337158203125, 0.05743408203125, 0.03076171875, 0.0294342041015625, 0.029388427734375, 0.0293426513671875], [0.043914794921875, 0.041534423828125, 0.045318603515625, 0.03314208984375, 0.0323486328125, 0.03216552734375], [0.03619384765625, 0.035736083984375, 0.058502197265625, 0.050567626953125, 0.0347900390625, 0.03204345703125]]\n",
      "Combined output tokens: [[(' involving', 9.78125), (' involved', 7.44921875), ('unker', 7.171875), (' relating', 7.10546875), (' мер', 7.0546875)], [('rinos', 1.4814453125), (' Кън', 1.2802734375), ('futbol', 1.24609375), ('\\xa0part', 1.236328125), ('urtles', 1.1884765625)], [('rere', 1.1484375), ('curities', 1.1337890625), ('irma', 1.0322265625), ('rier', 1.0009765625), ('Handlers', 0.99755859375)], [('Ingressos', 1.990234375), ('thems', 1.9267578125), ('bootstrapcdn', 1.921875), ('googleads', 1.8466796875), ('idth', 1.787109375)], [('� ', 2.171875), ('uny', 2.068359375), ('Span', 2.02734375), (' aturades', 1.953125), ('olerable', 1.8994140625)], [('nicks', 1.4306640625), ('feller', 1.396484375), ('Vect', 1.33984375), ('iage', 1.3330078125), ('versions', 1.27734375)], [(\"__':\", 1.5654296875), ('.}.', 1.53125), ('\\'].\"', 1.5185546875), ('ullivan', 1.509765625), ('ticles', 1.3974609375)], [('枸', 2.33984375), (')$\\\\\\\\', 2.322265625), ('uropa', 2.3046875), (' ~[', 2.298828125), ('uedes', 2.291015625)], [('Rationals', 1.8212890625), ('malink', 1.7529296875), ('textquotedbl', 1.751953125), ('NOSCRIPT', 1.734375), (' експе', 1.734375)], [('quesos', 1.9521484375), ('memname', 1.9384765625), ('unknownFields', 1.90234375), ('ernel', 1.890625), ('jocs', 1.8876953125)], [('西哥', 1.568359375), ('psfrag', 1.427734375), ('ionista', 1.392578125), ('agation', 1.353515625), ('_.--', 1.3359375)]]\n",
      "Expert predictions by position: {2: {0: [('�', 0.2308349609375), ('wikimedia', 0.2249755859375), ('终', 0.2239990234375), ('rient', 0.2203369140625), ('много', 0.2196044921875)], 1: [('ools', 0.271240234375), ('activ', 0.269775390625), ('gaard', 0.26416015625), ('hest', 0.263671875), ('дей', 0.26123046875)], 14: [('0', 0.2490234375), ('5', 0.239990234375), ('7', 0.2359619140625), ('8', 0.233642578125), ('1', 0.2249755859375)], 23: [('ROUP', 0.1771240234375), ('versi', 0.1727294921875), ('idth', 0.17041015625), ('筒', 0.1693115234375), ('versions', 0.16796875)], 39: [('чево', 0.2242431640625), ('��', 0.223876953125), ('积', 0.2191162109375), ('grav', 0.2119140625), ('hierarchy', 0.21044921875)], 62: [('7', 0.35302734375), ('3', 0.349853515625), ('2', 0.34228515625), ('8', 0.327392578125), ('6', 0.31005859375)]}, 4: {0: [('~$\\\\', 0.2178955078125), ('opis', 0.18701171875), ('sonian', 0.1712646484375), ('rier', 0.161376953125), ('ress', 0.160888671875)], 7: [(' do', 0.476806640625), ('\\tdo', 0.377197265625), ('do', 0.35595703125), (' does', 0.341064453125), (' Do', 0.3193359375)], 14: [('estra', 0.22607421875), ('ловия', 0.1859130859375), ('ialize', 0.1849365234375), ('лят', 0.183349609375), ('произ', 0.182861328125)], 23: [('сий', 0.2044677734375), ('stic', 0.204345703125), ('凸', 0.2021484375), ('ol', 0.1976318359375), (' subcategory', 0.188720703125)], 32: [('рати', 0.032623291015625), ('нето', 0.028167724609375), ('bibliograph', 0.0266265869140625), ('ндия', 0.0264739990234375), (' Esteve', 0.0260772705078125)], 50: [('ACY', 1.03515625), ('ilities', 0.98583984375), ('opaedia', 0.93310546875), ('encs', 0.90966796875), ('{-}\\\\', 0.88916015625)]}, 1: {2: [('alesa', 0.29541015625), ('NLS', 0.255126953125), ('ilv', 0.22021484375), ('ername', 0.19677734375), ('�', 0.1961669921875)], 10: [('penat', 0.12890625), ('elligence', 0.1268310546875), ('ране', 0.1202392578125), (' Bury', 0.1180419921875), ('ъ', 0.11590576171875)], 37: [('ETHER', 0.18115234375), ('мври', 0.172119140625), ('尔夫', 0.1531982421875), (')_\\\\', 0.1513671875), ('iani', 0.1475830078125)], 39: [('eresis', 0.2890625), ('arance', 0.28662109375), ('ospital', 0.2802734375), ('IATE', 0.271484375), (' преп', 0.266845703125)], 48: [('oment', 0.76611328125), ('googleads', 0.76025390625), ('ilot', 0.744140625), ('tam', 0.74072265625), ('лас', 0.73583984375)], 50: [('^-_', 0.25048828125), ('fons', 0.2484130859375), ('фра', 0.245361328125), ('ия', 0.2435302734375), (' vast', 0.2403564453125)]}, 5: {4: [(' Fos', 0.156005859375), (' езе', 0.1541748046875), ('gler', 0.1478271484375), ('сев', 0.14599609375), (' digitals', 0.1436767578125)], 22: [('terday', 0.1951904296875), (' EACH', 0.1907958984375), (' each', 0.189453125), ('each', 0.165771484375), (' over', 0.162353515625)], 30: [(' pilota', 0.17236328125), ('ropy', 0.1611328125), ('pters', 0.1505126953125), ('avement', 0.148193359375), ('урнали', 0.14501953125)], 45: [('geres', 0.2095947265625), ('inox', 0.201416015625), ('ibus', 0.182861328125), ('百分点', 0.1822509765625), ('thorpe', 0.181396484375)], 55: [('Igual', 0.2166748046875), ('EventQueue', 0.2061767578125), ('gham', 0.2017822265625), ('arcy', 0.1993408203125), ('izu', 0.1939697265625)], 59: [('рън', 0.032501220703125), ('orell', 0.029541015625), (' well', 0.027435302734375), ('aming', 0.0270233154296875), (' Well', 0.026885986328125)]}, 8: {4: [('anyes', 0.1866455078125), ('itelist', 0.1663818359375), ('irez', 0.159912109375), ('rrez', 0.159423828125), ('adicate', 0.15869140625)], 15: [('Lee', 0.1690673828125), (' Lee', 0.1373291015625), ('�', 0.128173828125), ('lease', 0.1263427734375), (' Fine', 0.12445068359375)], 37: [('dataTable', 0.1209716796875), ('彩', 0.11419677734375), ('问题请', 0.113037109375), ('amas', 0.11273193359375), ('LOB', 0.1126708984375)], 39: [('AtA', 0.1890869140625), ('драта', 0.151611328125), (' брак', 0.1300048828125), ('ът', 0.12249755859375), ('苏', 0.1199951171875)], 44: [('intilla', 0.12127685546875), ('sbin', 0.12054443359375), ('渠', 0.11419677734375), ('pedia', 0.11297607421875), ('自助', 0.1124267578125)], 45: [('OperationKind', 0.12646484375), ('harpoon', 0.117431640625), ('quim', 0.112060546875), ('вайг', 0.11102294921875), (' Ор', 0.10992431640625)]}, 6: {5: [(' rate', 0.498046875), (' stock', 0.4599609375), ('Stock', 0.434814453125), ('stock', 0.41845703125), (' rates', 0.411865234375)], 22: [('9', 0.412353515625), ('By', 0.394775390625), ('1', 0.386962890625), ('by', 0.385986328125), ('0', 0.376708984375)], 31: [('лен', 0.9189453125), ('hand', 0.806640625), ('sp', 0.8056640625), ('unden', 0.794921875), (' wond', 0.75341796875)], 41: [('sses', 0.394287109375), ('тар', 0.391357421875), ('MSearch', 0.38720703125), ('ngu', 0.386962890625), ('ovia', 0.384033203125)], 48: [('igraph', 0.49365234375), (' Дебър', 0.487060546875), ('ersal', 0.486328125), ('aroo', 0.448974609375), ('ross', 0.43212890625)], 59: [('ty', 0.68603515625), ('als', 0.662109375), ('ate', 0.66162109375), ('id', 0.642578125), ('let', 0.63232421875)]}, 0: {10: [('ollary', 0.2406005859375), ('eturn', 0.2332763671875), ('ttp', 0.226318359375), ('лер', 0.221435546875), ('equence', 0.2169189453125)], 18: [('yne', 0.259765625), ('序', 0.257568359375), ('rucci', 0.252197265625), ('ure', 0.252197265625), ('ssf', 0.25146484375)], 21: [('3', 0.038970947265625), ('9', 0.036041259765625), ('6', 0.034942626953125), ('5', 0.032318115234375), ('0', 0.03131103515625)], 32: [('inclo', 1.1494140625), ('ooks', 1.1162109375), (' arrest', 1.0791015625), (' Luxem', 1.06640625), ('unting', 1.064453125)], 50: [('�', 0.1588134765625), ('вез', 0.12054443359375), ('ersonals', 0.12005615234375), ('рън', 0.11883544921875), ('onsor', 0.11651611328125)], 59: [('pages', 0.251708984375), ('agall', 0.2493896484375), ('ondin', 0.2476806640625), ('中单', 0.2391357421875), ('oster', 0.237060546875)]}, 3: {10: [(' involving', 9.6171875), (' involved', 7.1015625), ('unker', 7.09375), ('ostes', 7.0859375), (' жа', 6.96875)], 15: [(' Line', 0.2391357421875), ('Line', 0.2296142578125), (' line', 0.2237548828125), ('ressa', 0.2218017578125), ('zzo', 0.2218017578125)], 25: [('za', 0.214111328125), ('ymoon', 0.2138671875), (' променя', 0.2086181640625), (' Imperi', 0.2020263671875), ('ZA', 0.1990966796875)], 31: [('IJ', 0.255859375), ('джо', 0.2431640625), ('sie', 0.2349853515625), ('jin', 0.2269287109375), ('cia', 0.2259521484375)], 36: [('рядко', 0.1953125), ('мин', 0.19482421875), ('含', 0.1875), ('toctree', 0.1788330078125), ('不开', 0.173583984375)], 55: [('even', 0.3046875), ('вър', 0.30419921875), ('ro', 0.301513671875), ('nua', 0.298828125), ('上路', 0.28759765625)]}, 7: {14: [('creet', 0.2227783203125), (' pool', 0.222412109375), (' cop', 0.22216796875), (' light', 0.2086181640625), ('pond', 0.20849609375)], 18: [('quier', 0.022247314453125), ('oret', 0.0217437744140625), ('лин', 0.0201568603515625), ('ocup', 0.01971435546875), ('cides', 0.0195770263671875)], 29: [('shows', 0.2137451171875), ('show', 0.18896484375), (' shows', 0.1845703125), ('公众', 0.1795654296875), ('SHOW', 0.1688232421875)], 35: [(')$\\\\\\\\', 1.607421875), ('�', 1.5810546875), ('ulance', 1.521484375), ('ството', 1.478515625), (' dieta', 1.458984375)], 43: [('Permalink', 0.130126953125), ('need', 0.1290283203125), ('tis', 0.1285400390625), ('say', 0.1220703125), ('reet', 0.12091064453125)], 61: [('reu', 0.472412109375), ('Car', 0.46142578125), ('umn', 0.4521484375), ('nc', 0.4443359375), ('umni', 0.41455078125)]}, 9: {14: [('LU', 0.265625), ('宏观', 0.263427734375), ('group', 0.256591796875), (' P', 0.2509765625), (' p', 0.2496337890625)], 43: [('клопе', 0.1905517578125), ('ymatrix', 0.1575927734375), ('CDATA', 0.1524658203125), ('explot', 0.15087890625), ('opro', 0.1502685546875)], 49: [('��', 0.39794921875), (' опълченец', 0.391357421875), ('utada', 0.389892578125), ('��', 0.361083984375), ('writeField', 0.360595703125)], 53: [('bole', 0.2447509765625), ('旬', 0.238037109375), ('сберг', 0.2283935546875), ('беля', 0.227783203125), ('atche', 0.2266845703125)], 54: [('quei', 0.2471923828125), ('imiter', 0.22412109375), ('нат', 0.2186279296875), ('али', 0.2186279296875), ('PYG', 0.211181640625)], 56: [('ета', 0.2158203125), ('人才', 0.2138671875), ('tr', 0.201416015625), ('HD', 0.196044921875), ('rode', 0.19384765625)]}, 10: {23: [('淀', 0.3359375), ('┈', 0.31884765625), ('yx', 0.301513671875), ('yrus', 0.299560546875), ('рил', 0.298095703125)], 33: [(' Noguera', 0.3779296875), ('Island', 0.34375), (' Negra', 0.337158203125), ('uita', 0.335205078125), ('ласт', 0.334716796875)], 40: [('神', 0.19482421875), ('神的', 0.1754150390625), ('的神', 0.1722412109375), ('irections', 0.16015625), ('ague', 0.1575927734375)], 46: [('隙', 0.1319580078125), ('arth', 0.130859375), (' de', 0.12255859375), ('柔', 0.1214599609375), ('lex', 0.11962890625)], 49: [('move', 0.1968994140625), ('moved', 0.1868896484375), (' move', 0.1859130859375), ('moves', 0.1849365234375), ('Move', 0.1837158203125)], 63: [('说', 0.1661376953125), ('点', 0.1646728515625), ('舍', 0.1607666015625), ('othes', 0.1593017578125), ('说她', 0.15869140625)]}}\n",
      "Shared expert predictions: [[('ODO', 0.7236328125), ('KV', 0.693359375), ('加快推进', 0.689453125), ('固执', 0.68212890625), (' Comen', 0.6796875)], [('rtex', 1.044921875), ('rinos', 1.0302734375), ('mysq', 0.98583984375), ('卵管', 0.97412109375), ('futbol', 0.970703125)], [('curities', 0.96923828125), ('�', 0.91064453125), ('rere', 0.89453125), ('iatrics', 0.892578125), (']-->', 0.892578125)], [('Ingressos', 1.7451171875), ('psfrag', 1.693359375), ('bootstrapcdn', 1.6201171875), ('卵管', 1.587890625), ('googleads', 1.5634765625)], [('\\n', 1.65625), ('：', 1.4375), ('paramtype', 1.3564453125), (':', 1.34765625), ('intage', 1.3076171875)], [('lips', 0.9814453125), ('noframe', 0.97509765625), ('nicks', 0.97119140625), ('feller', 0.9658203125), ('ptrc', 0.962890625)], [('TOOLSET', 1.154296875), ('nicks', 1.029296875), ('topsp', 1.009765625), ('ticles', 1.0048828125), ('lpVtbl', 0.98193359375)], [('headerlink', 1.7353515625), ('NOSCRIPT', 1.6748046875), ('macrodef', 1.5615234375), ('uedes', 1.546875), ('CLUD', 1.5419921875)], [('Rationals', 1.595703125), ('IconError', 1.5712890625), ('malink', 1.5546875), ('inuz', 1.5537109375), ('NOSCRIPT', 1.5390625)], [('ernel', 1.8173828125), ('usercontent', 1.7939453125), ('────────', 1.7470703125), ('────', 1.65625), ('ivitat', 1.6513671875)], [('_.--', 1.3046875), ('ateries', 1.302734375), ('psfrag', 1.26953125), ('arrings', 1.248046875), ('西哥', 1.2421875)]]\n",
      "\n",
      "MoE Layer 24:\n",
      "Selected experts: [[49, 18, 11, 37, 59, 23], [9, 39, 11, 48, 13, 12], [54, 60, 38, 13, 29, 21], [16, 29, 2, 44, 48, 13], [19, 17, 34, 59, 23, 27], [23, 20, 7, 55, 46, 29], [7, 23, 9, 27, 15, 34], [19, 45, 8, 24, 5, 55], [39, 9, 12, 8, 13, 62], [34, 36, 19, 5, 41, 22], [62, 45, 5, 54, 2, 18]]\n",
      "Expert weights: [[0.39404296875, 0.07452392578125, 0.06988525390625, 0.025146484375, 0.0185546875, 0.0183258056640625], [0.05694580078125, 0.0721435546875, 0.032257080078125, 0.036773681640625, 0.031707763671875, 0.026611328125], [0.03546142578125, 0.041839599609375, 0.03759765625, 0.037841796875, 0.046051025390625, 0.035369873046875], [0.03765869140625, 0.04107666015625, 0.05120849609375, 0.04937744140625, 0.036956787109375, 0.032562255859375], [0.09332275390625, 0.03973388671875, 0.040740966796875, 0.036041259765625, 0.03497314453125, 0.0303192138671875], [0.1705322265625, 0.045745849609375, 0.03680419921875, 0.0300750732421875, 0.02569580078125, 0.024505615234375], [0.10919189453125, 0.10626220703125, 0.0712890625, 0.05316162109375, 0.0251007080078125, 0.024810791015625], [0.07177734375, 0.06475830078125, 0.051025390625, 0.0382080078125, 0.0307464599609375, 0.030181884765625], [0.0975341796875, 0.045166015625, 0.0272979736328125, 0.027252197265625, 0.0263214111328125, 0.0261077880859375], [0.033233642578125, 0.050689697265625, 0.03887939453125, 0.041107177734375, 0.045806884765625, 0.0330810546875], [0.05645751953125, 0.0369873046875, 0.050018310546875, 0.03521728515625, 0.0322265625, 0.02825927734375]]\n",
      "Combined output tokens: [[(' involving', 10.71875), ('ostes', 8.8515625), ('agena', 8.6015625), (' жа', 8.3671875), (' involved', 8.2421875)], [('OperationKind', 2.94921875), ('ivistic', 2.76171875), ('etats', 2.73828125), ('айнрих', 2.6875), ('itecture', 2.6484375)], [('bow', 1.193359375), ('nto', 1.1904296875), ('umble', 1.1337890625), ('SUR', 1.1142578125), ('Salida', 1.0712890625)], [('Pa', 2.0546875), ('Па', 1.794921875), ('PAS', 1.7919921875), ('Par', 1.7353515625), ('Pas', 1.6982421875)], [(' ', 2.318359375), (' import', 1.650390625), ('fty', 1.6298828125), (' ch', 1.525390625), (' #', 1.49609375)], [('start', 5.06640625), ('from', 5.05859375), ('%</', 5.01953125), (\" '''\", 5.0078125), ('annels', 4.75390625)], [('cola', 6.00390625), ('>-->', 5.99609375), (']-->', 5.9609375), ('MENTS', 5.453125), ('кога', 5.39453125)], [('coi', 1.6728515625), ('SETT', 1.3798828125), ('是一家', 1.3486328125), ('西班', 1.2822265625), ('cits', 1.2314453125)], [('onos', 3.388671875), ('意境', 3.025390625), ('ANK', 2.955078125), (' {})', 2.943359375), ('ор', 2.919921875)], [('柴', 1.689453125), ('cas', 1.599609375), ('teres', 1.57421875), ('rad', 1.5732421875), ('sor', 1.44140625)], [(' ', 1.81640625), ('sf', 1.2412109375), ('idean', 1.2373046875), ('�', 1.2080078125), ('蜗', 1.1962890625)]]\n",
      "Expert predictions by position: {3: {2: [('践', 0.19091796875), ('通过', 0.1656494140625), ('通过对', 0.1650390625), (' rede', 0.1502685546875), ('olat', 0.14990234375)], 13: [('viously', 0.1549072265625), ('iferous', 0.1422119140625), ('ILON', 0.134765625), ('vious', 0.12939453125), ('rogen', 0.127685546875)], 16: [('泡', 0.2308349609375), ('Scar', 0.2049560546875), ('样的', 0.19873046875), (' Реги', 0.197998046875), ('压', 0.1878662109375)], 29: [('票', 0.164306640625), ('encers', 0.159912109375), ('essor', 0.15576171875), ('特朗', 0.1553955078125), ('>>', 0.1524658203125)], 44: [('fonia', 0.315673828125), ('isible', 0.31005859375), ('睫', 0.29541015625), ('minent', 0.290283203125), (' considerats', 0.28173828125)], 48: [('тари', 0.2269287109375), ('\\xa0part', 0.19677734375), ('issi', 0.193603515625), (' spisov', 0.1854248046875), ('rau', 0.184814453125)]}, 10: {2: [('开', 0.401611328125), ('开展', 0.3203125), (' narrow', 0.318359375), ('imal', 0.315185546875), ('zul', 0.31494140625)], 5: [(' Seny', 0.252685546875), ('jee', 0.251953125), ('след', 0.2496337890625), ('тати', 0.2427978515625), ('ji', 0.2412109375)], 18: [('��', 0.1619873046875), ('��', 0.15966796875), ('down', 0.154296875), (' munt', 0.1529541015625), ('thems', 0.1512451171875)], 45: [('ipp', 0.2265625), ('IPP', 0.2249755859375), ('ann', 0.218505859375), ('ITT', 0.2144775390625), ('ips', 0.20458984375)], 54: [('iator', 0.154052734375), ('Окръг', 0.1239013671875), ('inats', 0.1239013671875), ('�', 0.1226806640625), ('oes', 0.12249755859375)], 62: [(' do', 0.314697265625), ('do', 0.2744140625), ('\\tdo', 0.2349853515625), (' doing', 0.2305908203125), ('doing', 0.2247314453125)]}, 7: {5: [('peri', 0.2276611328125), ('负', 0.2205810546875), ('material', 0.22021484375), ('poch', 0.218994140625), (' материали', 0.216796875)], 8: [('sona', 0.38232421875), ('garh', 0.36083984375), ('unchers', 0.35107421875), ('там', 0.35009765625), ('gol', 0.34814453125)], 19: [('рес', 0.6513671875), ('国务', 0.54296875), ('ipo', 0.54052734375), ('iw', 0.51513671875), ('ow', 0.50048828125)], 24: [('利物', 0.413330078125), ('ancourt', 0.355224609375), ('anques', 0.35107421875), ('��', 0.34765625), ('icient', 0.33984375)], 45: [('efe', 0.45263671875), ('arers', 0.419677734375), ('uel', 0.409423828125), ('av', 0.388427734375), ('aml', 0.380859375)], 55: [('�', 0.220947265625), ('动', 0.1861572265625), ('动了', 0.15966796875), ('动的', 0.1558837890625), ('催', 0.151123046875)]}, 9: {5: [('蔽', 0.1611328125), (' поро', 0.1590576171875), ('gings', 0.151123046875), ('robes', 0.1396484375), ('ript', 0.133544921875)], 19: [('ES', 0.3740234375), ('isca', 0.343994140625), (' home', 0.3193359375), (' period', 0.303466796875), ('period', 0.2978515625)], 22: [('生素', 0.281982421875), ('де', 0.277099609375), ('isodi', 0.27587890625), ('萨斯', 0.2548828125), ('DATED', 0.25439453125)], 34: [(' y', 0.50732421875), (' ya', 0.424072265625), (' per', 0.404541015625), ('data', 0.400146484375), (' i', 0.391845703125)], 36: [('work', 0.346923828125), ('Work', 0.33544921875), ('сие', 0.323974609375), ('WORK', 0.31884765625), (' Work', 0.316650390625)], 41: [('pull', 0.251220703125), (' транс', 0.243896484375), (' Pull', 0.2432861328125), ('Pull', 0.2288818359375), ('ecl', 0.228515625)]}, 5: {7: [('eer', 2.21875), ('дация', 1.8974609375), ('мания', 1.802734375), ('vare', 1.798828125), ('дените', 1.794921875)], 20: [('рид', 0.2998046875), ('сем', 0.29541015625), ('对', 0.288330078125), ('连', 0.28076171875), ('aler', 0.27685546875)], 23: [('|}', 0.461669921875), (' ', 0.445068359375), ('Библиография', 0.38720703125), ('lery', 0.3740234375), ('from', 0.36865234375)], 29: [('estock', 0.383544921875), ('ishop', 0.375), ('葩', 0.36962890625), ('��', 0.358154296875), (' srp', 0.357666015625)], 46: [('失', 0.170166015625), ('ait', 0.148681640625), ('囚', 0.1485595703125), ('偷', 0.1475830078125), ('ix', 0.1416015625)], 55: [('вания', 0.2021484375), ('电影', 0.2012939453125), ('íř', 0.1988525390625), ('matr', 0.1932373046875), ('�', 0.193115234375)]}, 6: {7: [('гради', 0.70703125), (' пореди', 0.70068359375), ('ript', 0.68798828125), ('жва', 0.66845703125), ('pr', 0.6611328125)], 9: [('寸', 3.43359375), ('acements', 3.310546875), (' Comen', 3.26171875), ('ета', 3.169921875), ('ву', 3.16796875)], 15: [('cs', 0.1890869140625), (' CS', 0.1817626953125), ('CS', 0.1796875), ('jou', 0.17919921875), ('гра', 0.1768798828125)], 23: [('лим', 2.55078125), ('erencing', 2.486328125), (\" '''\", 2.423828125), ('nal', 2.3671875), ('ALS', 2.2734375)], 27: [('--', 0.9560546875), ('—', 0.927734375), ('---', 0.88720703125), ('###', 0.87744140625), ('from', 0.841796875)], 34: [('seg', 0.441650390625), (' seg', 0.332763671875), ('Seg', 0.296142578125), (' para', 0.283935546875), ('sting', 0.27001953125)]}, 8: {8: [('s', 0.404296875), (' s', 0.2266845703125), ('sx', 0.197265625), ('sb', 0.1971435546875), (' sb', 0.193359375)], 9: [('etats', 2.123046875), ('ernation', 2.03515625), ('irected', 1.8759765625), ('etur', 1.8232421875), ('iament', 1.76953125)], 12: [('�起', 0.169921875), (' Llib', 0.145751953125), (' Поли', 0.1431884765625), ('儿的', 0.138671875), ('�', 0.1348876953125)], 13: [('ughter', 0.40966796875), (' STRE', 0.408203125), ('ndia', 0.37109375), ('咨询电话', 0.36328125), ('wain', 0.351318359375)], 39: [(' rep', 1.0244140625), ('猕', 0.99560546875), ('Criterion', 0.92724609375), ('日内与', 0.8544921875), ('Cci', 0.84423828125)], 62: [(' READ', 0.7216796875), (' read', 0.6572265625), (' reading', 0.63671875), ('Reading', 0.6103515625), ('reading', 0.60888671875)]}, 1: {9: [('onos', 2.83203125), ('anzas', 2.509765625), ('ossos', 2.458984375), ('ор', 2.41015625), ('INGTON', 2.248046875)], 11: [('le', 0.263916015625), ('i', 0.244384765625), ('e', 0.2430419921875), ('hp', 0.235595703125), ('el', 0.235595703125)], 12: [('stica', 0.1956787109375), ('ц', 0.176025390625), ('ionista', 0.171630859375), ('兰达', 0.1673583984375), ('ionals', 0.161865234375)], 13: [('regon', 0.293212890625), ('otten', 0.263916015625), ('кри', 0.26171875), ('Als', 0.260986328125), ('芥', 0.2403564453125)], 39: [('ERTIES', 0.468017578125), ('ynchronously', 0.459716796875), (' B', 0.44677734375), ('agine', 0.44580078125), ('cesi', 0.439697265625)], 48: [('留', 0.3154296875), (' @{', 0.275146484375), ('ogonal', 0.27099609375), ('amet', 0.265380859375), ('азар', 0.2578125)]}, 0: {11: [('ments', 0.65673828125), ('ability', 0.63427734375), ('able', 0.60302734375), ('ment', 0.6025390625), ('ance', 0.583984375)], 18: [('�', 0.3134765625), ('�', 0.289306640625), ('�', 0.263427734375), ('8', 0.259765625), ('9', 0.24609375)], 23: [('    ', 4.78515625), (\" '''\", 4.70703125), ('%</', 4.62109375), ('\"\"\"', 4.59375), ('from', 4.53515625)], 37: [(' serral', 0.10223388671875), ('два', 0.10150146484375), ('acis', 0.09686279296875), ('ixos', 0.09417724609375), ('iax', 0.09375)], 49: [(' involving', 10.65625), ('ostes', 8.4765625), (' involved', 7.99609375), (' мер', 7.875), (' жа', 7.84375)], 59: [('珍', 0.23876953125), ('джиев', 0.2291259765625), ('巴基', 0.224853515625), (' Reg', 0.219970703125), ('魁', 0.21875)]}, 2: {13: [('erte', 0.1739501953125), ('en', 0.153076171875), ('残忍', 0.1524658203125), ('reich', 0.1492919921875), ('升降', 0.14892578125)], 21: [('字', 0.356689453125), ('的字', 0.28857421875), ('字第', 0.2296142578125), ('цата', 0.223876953125), ('tings', 0.20947265625)], 29: [(' voluntaris', 0.53271484375), ('strument', 0.501953125), ('ombre', 0.49462890625), ('regon', 0.482421875), (' circumsc', 0.471435546875)], 38: [('rue', 0.32373046875), ('сли', 0.310546875), ('lament', 0.30712890625), ('ЕФА', 0.306396484375), ('curities', 0.302001953125)], 54: [('爱', 0.177734375), ('osofia', 0.1654052734375), ('�', 0.1650390625), ('的爱', 0.1588134765625), ('健', 0.1572265625)], 60: [(' to', 0.34619140625), ('\\tto', 0.266357421875), ('成熟', 0.2489013671875), ('to', 0.229736328125), (' towards', 0.2034912109375)]}, 4: {17: [('�', 0.331298828125), ('...</', 0.3193359375), ('帜', 0.313720703125), (';</', 0.310302734375), ('\"</', 0.31005859375)], 19: [(' Terrassa', 0.91552734375), (' Garona', 0.76904296875), ('riter', 0.765625), ('xtil', 0.74853515625), ('PA', 0.74462890625)], 23: [('不到', 0.048675537109375), ('миш', 0.044036865234375), (' existence', 0.03961181640625), (' se', 0.038848876953125), ('=\"../_', 0.038604736328125)], 27: [(' import', 0.53125), (' [', 0.53125), (' *', 0.52197265625), ('poon', 0.51513671875), ('热的', 0.51220703125)], 34: [(' e', 0.53369140625), (' y', 0.44091796875), (' el', 0.423828125), ('come', 0.37548828125), (' come', 0.361083984375)], 59: [('��', 0.06689453125), ('��', 0.060272216796875), ('纲', 0.0478515625), ('ublic', 0.044342041015625), ('ioned', 0.04388427734375)]}}\n",
      "Shared expert predictions: [[('Ungrouped', 0.7890625), ('visi', 0.734375), ('getC', 0.69580078125), ('esko', 0.65087890625), ('noframe', 0.64990234375)], [('childnode', 1.39453125), ('\">&#', 1.30859375), ('OperationKind', 1.27734375), ('headerlink', 1.2490234375), ('FieldLocation', 1.2490234375)], [('OK', 0.95703125), ('steam', 0.8857421875), ('uple', 0.87939453125), ('Surface', 0.873046875), ('K', 0.86669921875)], [('Па', 1.7265625), ('Pa', 1.6025390625), ('PAS', 1.6025390625), ('Par', 1.5322265625), ('PAR', 1.5205078125)], [(' ', 1.5361328125), ('hon', 1.166015625), ('fty', 0.98193359375), (' his', 0.97607421875), (' Sil', 0.97607421875)], [('登陆', 0.99462890625), ('横', 0.97900390625), ('泊', 0.9521484375), (' наси', 0.93896484375), ('sub', 0.9306640625)], [(' europeu', 1.0009765625), ('IME', 0.990234375), ('riet', 0.98974609375), (' antigues', 0.97412109375), ('柱', 0.970703125)], [('StyleID', 1.099609375), ('DLINE', 1.015625), ('工', 0.98388671875), ('SETT', 0.9814453125), ('正', 0.9619140625)], [('萱', 1.1181640625), ('burgh', 1.1083984375), ('沉迷', 1.0390625), ('жу', 0.9912109375), ('IME', 0.98779296875)], [('柴', 1.517578125), ('amas', 1.4189453125), ('rad', 1.3857421875), ('.(*', 1.3828125), (')}]', 1.361328125)], [(' ', 1.392578125), ('gages', 1.0263671875), ('sf', 1.01953125), (' m', 0.97412109375), ('dies', 0.97216796875)]]\n",
      "\n",
      "MoE Layer 25:\n",
      "Selected experts: [[63, 60, 2, 49, 41, 30], [34, 45, 51, 19, 35, 47], [45, 2, 43, 56, 15, 1], [47, 39, 2, 48, 24, 34], [45, 55, 2, 15, 1, 53], [54, 51, 45, 21, 34, 38], [51, 62, 34, 54, 21, 6], [40, 45, 7, 51, 28, 17], [14, 19, 35, 0, 41, 42], [25, 9, 53, 57, 13, 35], [14, 41, 36, 43, 49, 24]]\n",
      "Expert weights: [[0.6474609375, 0.0214385986328125, 0.0104522705078125, 0.00983428955078125, 0.08087158203125, 0.00966644287109375], [0.0245361328125, 0.0233612060546875, 0.022125244140625, 0.356689453125, 0.0220947265625, 0.021484375], [0.445556640625, 0.035430908203125, 0.03466796875, 0.030548095703125, 0.028533935546875, 0.02850341796875], [0.058685302734375, 0.08709716796875, 0.05230712890625, 0.06182861328125, 0.050689697265625, 0.038543701171875], [0.153564453125, 0.11480712890625, 0.07440185546875, 0.079345703125, 0.0279083251953125, 0.026458740234375], [0.037689208984375, 0.03106689453125, 0.03717041015625, 0.06793212890625, 0.191650390625, 0.025634765625], [0.027740478515625, 0.03936767578125, 0.0810546875, 0.072265625, 0.12017822265625, 0.0265960693359375], [0.1756591796875, 0.09405517578125, 0.062469482421875, 0.03387451171875, 0.0333251953125, 0.0261993408203125], [0.033721923828125, 0.1209716796875, 0.033111572265625, 0.02850341796875, 0.0278472900390625, 0.0261688232421875], [0.058807373046875, 0.053497314453125, 0.042633056640625, 0.0423583984375, 0.041748046875, 0.041015625], [0.0684814453125, 0.06231689453125, 0.05517578125, 0.046539306640625, 0.039886474609375, 0.037689208984375]]\n",
      "Combined output tokens: [[(' financera', 5.328125), ('ostes', 5.21875), ('ivell', 5.109375), ('veau', 4.87109375), ('Икономи', 4.7265625)], [(' {', 12.0390625), ('osemite', 9.4140625), (' departaments', 9.3046875), ('stylesheets', 9.1640625), (' type', 8.8359375)], [(' as', 15.0546875), ('\\n', 9.2265625), ('as', 8.8828125), (' As', 8.6328125), ('_', 7.59765625)], [(' ', 4.17578125), (' p', 3.7890625), (' P', 3.734375), (',', 3.6953125), ('\\n', 3.470703125)], [(' ', 9.375), (',', 8.2890625), ('\\n', 5.85546875), (' ,', 5.59375), ('.', 5.40234375)], [(' ', 7.55078125), ('\\n', 7.5234375), ('3', 5.5703125), ('an', 5.50390625), ('】', 5.5)], [('er', 5.36328125), ('al', 5.046875), ('ing', 5.0), (' Climent', 4.68359375), ('da', 4.6796875)], [('lo', 4.734375), ('ib', 3.84765625), ('mt', 3.791015625), ('ly', 3.515625), ('low', 3.498046875)], [(' ', 6.09765625), ('[', 5.43359375), (' [', 5.265625), ('a', 4.7421875), ('...', 4.58984375)], [('.', 5.40625), (' ', 4.546875), (',', 4.09375), (' N', 3.609375), ('...', 3.501953125)], [(',', 4.8515625), (' ', 4.6953125), ('\\n', 4.60546875), (' (', 3.52734375), (' ,', 3.515625)]]\n",
      "Expert predictions by position: {8: {0: [('herits', 0.14404296875), ('тични', 0.14404296875), ('semb', 0.1357421875), ('veless', 0.131591796875), ('大利', 0.1298828125)], 14: [('ressin', 0.290771484375), ('uresa', 0.267333984375), ('ктри', 0.256591796875), (' process', 0.25146484375), ('enter', 0.248291015625)], 19: [('[', 2.451171875), ('[...]', 2.326171875), (' {...', 2.080078125), (' rango', 2.048828125), ('{', 2.013671875)], 35: [('ennicke', 0.1290283203125), ('nels', 0.126953125), ('oldre', 0.12158203125), ('pable', 0.1214599609375), ('quessa', 0.1168212890625)], 41: [(' have', 0.212890625), ('have', 0.1771240234375), (' possess', 0.1748046875), ('possess', 0.16845703125), (' haue', 0.1629638671875)], 42: [('船', 0.10882568359375), ('埃', 0.09747314453125), (' parroqu', 0.096435546875), ('Caller', 0.09552001953125), ('桥', 0.09381103515625)]}, 2: {1: [('仔', 0.2325439453125), ('openg', 0.207763671875), ('wana', 0.2020263671875), ('urats', 0.1951904296875), ('erci', 0.190673828125)], 2: [(' @}', 0.33740234375), ('opath', 0.311767578125), ('hering', 0.3076171875), (' exha', 0.306884765625), ('имо', 0.2978515625)], 15: [('rink', 0.235107421875), ('共和国', 0.22265625), (';&#', 0.221435546875), ('ULE', 0.2213134765625), ('AIPS', 0.216064453125)], 43: [('�', 0.201171875), ('帘', 0.198486328125), ('след', 0.197265625), ('рит', 0.193603515625), ('следова', 0.18603515625)], 45: [(' as', 14.0390625), ('as', 7.87109375), (' As', 7.78125), ('As', 6.9140625), ('._', 6.828125)], 56: [('To', 0.2335205078125), ('to', 0.2137451171875), ('ONSE', 0.205322265625), (' To', 0.2047119140625), ('ONS', 0.2012939453125)]}, 4: {1: [(' �', 0.24755859375), ('�', 0.239990234375), ('�', 0.236083984375), ('ţ', 0.22900390625), ('\\x0f', 0.2135009765625)], 2: [(' \"', 0.1763916015625), ('  ', 0.156005859375), (':\"', 0.155517578125), (' CV', 0.151123046875), ('iceless', 0.1470947265625)], 15: [('官', 0.82861328125), ('mass', 0.8203125), ('徒', 0.7900390625), ('即', 0.73974609375), (' SMD', 0.73779296875)], 45: [('form', 1.2255859375), (' form', 1.1357421875), ('Form', 1.0029296875), (' FORM', 0.869140625), (' Form', 0.84375)], 53: [('ness', 0.2156982421875), ('ua', 0.203369140625), ('deen', 0.1990966796875), ('cuts', 0.195068359375), ('erity', 0.1937255859375)], 55: [('estret', 2.5625), ('jament', 2.548828125), ('mkern', 2.48828125), ('редиземно', 2.4609375), ('itra', 2.423828125)]}, 0: {2: [('roll', 0.069580078125), (' развива', 0.065673828125), ('-', 0.06536865234375), (',', 0.063720703125), ('ROLL', 0.06353759765625)], 30: [('onar', 0.029937744140625), ('IL', 0.0298614501953125), ('iene', 0.029632568359375), ('ab', 0.0294952392578125), ('us', 0.0291595458984375)], 41: [('кус', 0.360107421875), ('ради', 0.3349609375), (' pleg', 0.333984375), ('nsol', 0.33154296875), ('kerel', 0.325439453125)], 49: [('aller', 0.04644775390625), ('amin', 0.0457763671875), ('的季节', 0.043609619140625), ('季节', 0.04315185546875), (').__', 0.04278564453125)], 60: [(' side', 0.06658935546875), (' care', 0.0628662109375), ('ve', 0.0625), (' sole', 0.061553955078125), ('meas', 0.0594482421875)], 63: [('Икономи', 3.951171875), ('ostes', 3.87890625), ('цяло', 3.8046875), (' Humblot', 3.7421875), ('veau', 3.73828125)]}, 3: {2: [('0', 1.052734375), ('7', 1.015625), ('6', 0.98388671875), ('2', 0.97705078125), ('8', 0.966796875)], 24: [(' мина', 0.2138671875), ('冲', 0.196044921875), ('entar', 0.18994140625), ('mend', 0.189208984375), ('�', 0.1798095703125)], 34: [(' Pujol', 0.26953125), (' import', 0.256103515625), ('薇', 0.2442626953125), ('herits', 0.2437744140625), ('WebAPI', 0.240966796875)], 39: [('Was', 1.212890625), ('was', 1.1552734375), (' Was', 1.15234375), (' was', 1.1025390625), ('Were', 0.7861328125)], 47: [(' she', 0.381591796875), ('зе', 0.35888671875), ('抖', 0.33740234375), ('机关', 0.335205078125), ('щен', 0.32763671875)], 48: [('emale', 0.642578125), ('рис', 0.6142578125), ('次于', 0.59033203125), ('eless', 0.58154296875), ('undefined', 0.5517578125)]}, 6: {6: [('“', 0.37939453125), ('‘', 0.28173828125), ('”', 0.264892578125), ('’', 0.2366943359375), ('________________________________________________________________', 0.21875)], 21: [('dfs', 1.9404296875), ('matrices', 1.8564453125), ('*</', 1.7333984375), ('orphism', 1.6337890625), ('adis', 1.6328125)], 34: [('】', 4.26171875), ('agos', 4.05078125), ('basedir', 3.787109375), ('ismus', 3.4453125), ('sserv', 3.2890625)], 51: [('© ', 0.194091796875), ('ampions', 0.17626953125), ('cdn', 0.172607421875), ('cand', 0.170166015625), ('扬', 0.1678466796875)], 54: [('Vi', 0.336181640625), ('ab', 0.3291015625), ('pi', 0.327392578125), ('ible', 0.323486328125), ('Next', 0.320556640625)], 62: [('grades', 0.4189453125), ('Feedback', 0.3896484375), ('Grade', 0.375), ('feedback', 0.373046875), ('care', 0.36962890625)]}, 7: {7: [('ad', 0.313720703125), ('id', 0.296875), ('oux', 0.287109375), ('ell', 0.282470703125), ('aned', 0.27783203125)], 17: [('blockList', 0.2437744140625), ('anomenada', 0.2403564453125), ('gency', 0.2347412109375), ('ucial', 0.2298583984375), ('macrodef', 0.2255859375)], 28: [('asts', 0.2049560546875), ('unes', 0.1793212890625), ('�', 0.1712646484375), ('hyde', 0.16748046875), ('icast', 0.16552734375)], 40: [('orest', 2.9453125), ('acts', 2.302734375), ('mt', 2.2578125), ('alse', 2.18359375), ('resh', 2.16796875)], 45: [(' from', 0.21923828125), ('|$', 0.211181640625), ('from', 0.1881103515625), ('acp', 0.184326171875), ('很重要的', 0.1688232421875)], 51: [('之一的', 0.11163330078125), (' seix', 0.09869384765625), ('̀', 0.09674072265625), ('以上文章内容', 0.09429931640625), (' view', 0.09100341796875)]}, 9: {9: [(' спорт', 1.3076171875), ('sport', 1.2392578125), (' спор', 1.1796875), ('Sport', 1.1708984375), ('esport', 1.1494140625)], 13: [('CHANT', 0.220703125), ('itism', 0.2135009765625), ('ivities', 0.205078125), ('ycler', 0.19873046875), ('arets', 0.1915283203125)], 25: [(' h', 0.342041015625), ('周', 0.309814453125), ('翻', 0.2958984375), (' Христов', 0.29541015625), ('UMENT', 0.29345703125)], 35: [('rophe', 0.15966796875), ('неното', 0.1536865234375), ('不属于', 0.14892578125), ('olus', 0.147216796875), ('essin', 0.146484375)], 53: [('[...]', 0.26708984375), (' вери', 0.24951171875), (' ', 0.238037109375), ('️', 0.235107421875), ('从', 0.235107421875)], 57: [('工程建设', 0.291748046875), ('лец', 0.287353515625), (' four', 0.278564453125), ('aternal', 0.278564453125), ('LoggerFactory', 0.275390625)]}, 10: {14: [('opter', 0.7607421875), ('ктри', 0.73974609375), ('opters', 0.6318359375), ('tric', 0.60693359375), ('sort', 0.59033203125)], 24: [('ities', 0.288330078125), ('Audi', 0.286865234375), ('7', 0.284423828125), ('百', 0.2705078125), ('0', 0.27001953125)], 36: [('RET', 0.43359375), (' lim', 0.38525390625), ('acad', 0.371826171875), ('icast', 0.362060546875), ('Oper', 0.35498046875)], 41: [(' involving', 1.830078125), ('ostes', 1.6259765625), (\"'>&\", 1.509765625), ('adoc', 1.50390625), ('wau', 1.5029296875)], 43: [('cciones', 0.274169921875), ('析', 0.270751953125), (' зи', 0.2705078125), (' compress', 0.26806640625), ('排', 0.265380859375)], 49: [('aulay', 0.291259765625), ('ardown', 0.263671875), ('fer', 0.23193359375), ('backer', 0.2159423828125), ('退', 0.2147216796875)]}, 1: {19: [(' {', 11.765625), (' type', 8.3828125), ('osemite', 8.265625), (' departaments', 8.203125), ('уд', 8.1953125)], 34: [(' const', 0.15673828125), (' var', 0.142333984375), ('зова', 0.1402587890625), (' s', 0.1241455078125), (' m', 0.12274169921875)], 35: [('anol', 0.279052734375), ('0', 0.255126953125), (' no', 0.2548828125), (' instead', 0.233642578125), ('строй', 0.23291015625)], 45: [(' =', 1.029296875), ('obel', 0.95703125), ('=', 0.88623046875), ('oken', 0.8828125), ('urs', 0.87548828125)], 47: [(' we', 0.265869140625), (' you', 0.2496337890625), ('we', 0.2060546875), ('you', 0.1968994140625), (' YOU', 0.1812744140625)], 51: [('gex', 0.1593017578125), ('мина', 0.1463623046875), ('ourt', 0.14599609375), ('records', 0.1341552734375), ('Records', 0.13330078125)]}, 5: {21: [(' Climent', 4.8515625), (' Cervera', 3.908203125), ('allclasses', 3.87890625), ('accions', 3.875), (' Llevant', 3.82421875)], 34: [('мно', 0.89990234375), ('】', 0.857421875), ('+----', 0.85107421875), ('edding', 0.84912109375), ('basedir', 0.8330078125)], 38: [('ismic', 0.1845703125), ('properties', 0.1837158203125), ('riev', 0.1815185546875), ('building', 0.176513671875), ('grid', 0.1702880859375)], 45: [('2', 2.79296875), ('8', 2.771484375), ('7', 2.650390625), ('6', 2.611328125), ('1', 2.60546875)], 51: [('onite', 0.132080078125), ('fixes', 0.1282958984375), ('og', 0.1278076171875), (' implements', 0.1270751953125), ('swe', 0.12420654296875)], 54: [('WEBPACK', 0.73095703125), ('PREC', 0.73046875), ('Alguna', 0.6455078125), ('DLINE', 0.60791015625), ('UNTIME', 0.58544921875)]}}\n",
      "Shared expert predictions: [[('4', 2.3203125), ('3', 2.3046875), ('0', 2.28125), ('5', 2.26171875), ('8', 2.259765625)], [('rista', 2.08203125), ('adicate', 2.025390625), ('scratch', 1.9619140625), ('obu', 1.958984375), ('.(*', 1.9453125)], [(',', 3.58203125), (' ', 2.9765625), ('\\n', 2.578125), (';', 2.53515625), (':', 2.521484375)], [(' p', 4.0234375), (' P', 3.884765625), (' ', 3.86328125), (',', 3.7890625), ('P', 3.505859375)], [(',', 5.69140625), (' ', 4.7890625), ('.', 4.33984375), ('\\n', 3.703125), (' ,', 3.28515625)], [(' ', 5.69921875), (',', 5.15625), ('.', 4.46875), ('\\n', 3.80078125), (' ,', 3.75390625)], [(' ', 5.30078125), (',', 4.87890625), ('\\n', 4.43359375), ('.', 4.2265625), ('an', 3.603515625)], [(',', 2.970703125), ('lo', 2.634765625), ('\\n', 2.55859375), (' F', 2.552734375), (' ', 2.482421875)], [(' ', 5.0234375), (',', 4.38671875), ('\\n', 3.939453125), (' [', 3.349609375), ('.', 3.322265625)], [('.', 5.3671875), (' ', 4.234375), (',', 3.99609375), ('...', 3.625), (' ...', 3.298828125)], [(',', 4.7734375), (' ', 4.31640625), ('\\n', 4.30078125), ('.', 3.37890625), (' (', 3.30078125)]]\n",
      "\n",
      "MoE Layer 26:\n",
      "Selected experts: [[40, 45, 31, 33, 57, 39], [40, 27, 5, 58, 20, 28], [55, 25, 8, 54, 12, 53], [15, 11, 30, 3, 34, 6], [25, 43, 52, 37, 53, 3], [40, 56, 19, 26, 61, 57], [19, 4, 40, 14, 5, 9], [46, 55, 4, 6, 35, 16], [0, 5, 32, 57, 6, 34], [17, 39, 27, 13, 18, 21], [0, 33, 23, 49, 30, 16]]\n",
      "Expert weights: [[0.84375, 0.01497650146484375, 0.011810302734375, 0.006793975830078125, 0.005199432373046875, 0.004695892333984375], [0.042236328125, 0.03643798828125, 0.045867919921875, 0.1015625, 0.0330810546875, 0.03302001953125], [0.07989501953125, 0.07330322265625, 0.052825927734375, 0.0526123046875, 0.033416748046875, 0.0305328369140625], [0.2449951171875, 0.0312347412109375, 0.0501708984375, 0.0311431884765625, 0.0369873046875, 0.030487060546875], [0.1280517578125, 0.10955810546875, 0.062286376953125, 0.053375244140625, 0.052978515625, 0.0261993408203125], [0.07684326171875, 0.07391357421875, 0.04473876953125, 0.039031982421875, 0.0377197265625, 0.036651611328125], [0.11383056640625, 0.051116943359375, 0.041961669921875, 0.036529541015625, 0.034698486328125, 0.03460693359375], [0.2181396484375, 0.1439208984375, 0.036712646484375, 0.0287933349609375, 0.0247039794921875, 0.02447509765625], [0.0460205078125, 0.0501708984375, 0.04486083984375, 0.0445556640625, 0.029693603515625, 0.0287933349609375], [0.0927734375, 0.07708740234375, 0.0478515625, 0.045562744140625, 0.039520263671875, 0.038818359375], [0.0697021484375, 0.0498046875, 0.1314697265625, 0.05010986328125, 0.0406494140625, 0.038787841796875]]\n",
      "Combined output tokens: [[(' regarding', 126.6875), (' Down', 113.375), ('anys', 112.5), (' relating', 109.625), (' involving', 108.375)], [('iguez', 8.703125), (' read', 8.671875), ('чия', 8.4921875), (' clean', 8.46875), (' third', 8.46875)], [(' ', 13.703125), (',', 11.9375), ('\\n', 9.6640625), (' a', 9.46875), ('.', 9.09375)], [(' ', 10.8203125), (',', 7.72265625), (' fl', 7.45703125), (' grand', 7.21484375), (' pd', 7.1484375)], [(' ', 25.578125), (',', 22.359375), ('\\n', 19.28125), ('.', 17.1875), ('<｜end▁of▁sentence｜>', 16.90625)], [(' ', 17.9375), ('.', 15.109375), (',', 15.09375), ('-', 15.0), (' -', 13.890625)], [('-', 10.7578125), ('\\n', 10.3203125), ('[', 10.109375), (\"'\", 9.71875), ('\"', 9.703125)], [(' ', 24.71875), (',', 21.265625), ('.', 19.734375), (':', 17.421875), ('a', 15.4453125)], [(' ', 17.625), (' \"', 14.8125), (' (', 14.546875), (\" '\", 14.4921875), (' [', 13.2734375)], [(',', 9.5703125), (' ', 8.890625), ('.', 7.453125), ('\\n', 7.2734375), (' ,', 6.5546875)], [(' ', 9.265625), ('\\n', 8.40625), (',', 8.1953125), ('.', 7.72265625), (' *', 7.58984375)]]\n",
      "Expert predictions by position: {8: {0: [(' handle', 0.5771484375), (' apply', 0.5712890625), (' select', 0.54052734375), (' do', 0.5302734375), (' load', 0.488525390625)], 5: [(' Va', 0.68603515625), (' Y', 0.66259765625), (' ES', 0.6484375), (' J', 0.640625), ('Va', 0.5869140625)], 6: [('就是', 0.268310546875), ('就是我们', 0.2125244140625), ('就是这个', 0.192626953125), ('就是要', 0.1905517578125), ('的就是', 0.187744140625)], 32: [(' an', 0.2076416015625), ('rass', 0.194580078125), (' a', 0.1888427734375), (' the', 0.1629638671875), ('rites', 0.1578369140625)], 34: [(' c', 0.1929931640625), ('c', 0.1553955078125), (' и', 0.155029296875), (' d', 0.14892578125), (' CH', 0.148193359375)], 57: [('刘', 0.35546875), ('�', 0.240478515625), ('芝', 0.206298828125), ('人工', 0.2022705078125), ('刘某', 0.201171875)]}, 10: {0: [(' do', 0.77978515625), (' make', 0.74169921875), ('create', 0.72998046875), (' create', 0.72216796875), (' append', 0.6845703125)], 16: [('am', 0.2113037109375), ('en', 0.19189453125), ('los', 0.16064453125), ('ters', 0.15576171875), ('ter', 0.154296875)], 23: [('父亲', 0.662109375), ('machine', 0.6591796875), ('imon', 0.6513671875), ('oman', 0.64306640625), (' форми', 0.61962890625)], 30: [('立', 0.2724609375), ('matical', 0.267578125), ('校', 0.254638671875), ('dr', 0.2247314453125), (' account', 0.21484375)], 33: [('ist', 0.26513671875), ('ROP', 0.263427734375), (' open', 0.252685546875), ('�', 0.251220703125), ('峻', 0.2418212890625)], 49: [('abla', 0.2890625), ('helf', 0.278564453125), ('atively', 0.265380859375), ('TRANSL', 0.2413330078125), ('стични', 0.2337646484375)]}, 3: {3: [('irit', 0.1326904296875), ('加', 0.1319580078125), ('ента', 0.1318359375), ('抱', 0.1279296875), ('igi', 0.127197265625)], 6: [('便是', 0.134521484375), ('就是', 0.1336669921875), ('就是一个', 0.10418701171875), ('就是把', 0.10174560546875), ('我就是', 0.0997314453125)], 11: [(' cod', 0.1435546875), ('нук', 0.1343994140625), ('�', 0.1297607421875), ('�', 0.129638671875), ('�', 0.1270751953125)], 15: [('lier', 2.09765625), ('pto', 1.8935546875), (' PD', 1.8896484375), ('穴', 1.8408203125), ('clam', 1.6669921875)], 30: [('inary', 0.219970703125), ('8', 0.2060546875), ('iop', 0.2034912109375), ('рец', 0.1973876953125), ('0', 0.191162109375)], 34: [(' ', 0.35986328125), ('�', 0.28857421875), (' дер', 0.28466796875), ('onstr', 0.275634765625), ('�', 0.274658203125)]}, 4: {3: [('无', 0.2041015625), ('�', 0.1783447265625), ('的无', 0.151123046875), ('感', 0.1480712890625), ('也无', 0.1461181640625)], 25: [(',', 0.7197265625), (',\"', 0.59326171875), (',*', 0.58935546875), (',}', 0.5732421875), (',\\\\', 0.53173828125)], 37: [(' ', 2.142578125), (',', 1.564453125), ('\\n', 1.548828125), ('5', 1.5390625), ('2', 1.5166015625)], 43: [(' ', 3.3828125), ('A', 3.333984375), (',', 3.259765625), (' if', 3.232421875), ('\\n', 3.1484375)], 52: [('uters', 2.7109375), ('lifting', 2.61328125), ('上下', 2.453125), ('uation', 2.44140625), ('ify', 2.3828125)], 53: [('7', 0.53662109375), ('6', 0.5205078125), (' ', 0.51611328125), ('5', 0.50341796875), ('3', 0.50048828125)]}, 6: {4: [(' Roig', 1.0224609375), (' corba', 0.97216796875), ('ndard', 0.927734375), ('($.', 0.9013671875), ('leccion', 0.89404296875)], 5: [(' ss', 1.6015625), (' sa', 1.5986328125), (' gb', 1.5244140625), ('sa', 1.4619140625), ('sg', 1.4443359375)], 9: [('AIPS', 0.59228515625), (' paletes', 0.52880859375), ('mmode', 0.5205078125), ('posicions', 0.51708984375), ('usercontent', 0.505859375)], 14: [('[]', 0.60009765625), ('[', 0.5791015625), (']', 0.5322265625), ('[...]', 0.52197265625), ('{}', 0.487548828125)], 19: [('horse', 2.533203125), ('�', 2.30078125), ('horses', 2.146484375), ('��', 2.115234375), ('lyph', 2.099609375)], 40: [(' relle', 0.568359375), ('ivell', 0.52587890625), ('ialog', 0.5234375), ('ajut', 0.488037109375), (' allClasses', 0.479736328125)]}, 7: {4: [('ollo', 0.4267578125), ('ropic', 0.408447265625), ('mmode', 0.396728515625), ('airs', 0.3828125), ('ashions', 0.374755859375)], 6: [('还是', 0.349853515625), ('还是在', 0.271240234375), ('刚', 0.252197265625), ('还是要', 0.234619140625), ('的还是', 0.2236328125)], 16: [('5', 0.351806640625), ('6', 0.340576171875), ('3', 0.331298828125), ('8', 0.329345703125), ('2', 0.326171875)], 35: [('ρα', 0.59423828125), (' cristi', 0.5654296875), (' passava', 0.56298828125), (' dispersa', 0.56103515625), ('йто', 0.5576171875)], 46: [(' ', 9.1484375), ('1', 7.63671875), ('2', 7.125), ('0', 7.11328125), ('=', 6.8203125)], 55: [(' ', 4.265625), ('钮', 4.0859375), (',', 4.078125), ('мират', 4.03515625), ('Dir', 4.015625)]}, 1: {5: [('1', 0.435791015625), ('0', 0.420166015625), ('6', 0.417236328125), (' col', 0.406005859375), ('2', 0.403564453125)], 20: [('device', 0.28369140625), (' device', 0.2724609375), (' machine', 0.267822265625), (' engine', 0.261474609375), ('Device', 0.26025390625)], 27: [(' дем', 0.27587890625), ('DTD', 0.23583984375), (' Great', 0.2352294921875), ('cote', 0.234130859375), ('ством', 0.232421875)], 28: [('分', 0.3056640625), ('分的', 0.232177734375), ('的分', 0.1820068359375), ('[', 0.165283203125), ('分会', 0.1651611328125)], 40: [('1', 0.66259765625), ('2', 0.64892578125), ('do', 0.64306640625), ('3', 0.6416015625), ('4', 0.6279296875)], 58: [('ironment', 0.697265625), ('League', 0.6865234375), (' env', 0.67236328125), ('iret', 0.6591796875), (' league', 0.62109375)]}, 2: {8: [(' xif', 0.351806640625), ('akin', 0.348876953125), ('uera', 0.346435546875), ('厥', 0.344970703125), (' avall', 0.34326171875)], 12: [('aric', 0.20068359375), ('�다', 0.195068359375), ('drops', 0.180419921875), (' щат', 0.160888671875), (' limitat', 0.1588134765625)], 25: [(',', 1.5703125), (\",'\", 1.41015625), (',}', 1.330078125), (',\"', 1.12890625), ('ang', 1.1142578125)], 53: [(' TAU', 0.19873046875), ('thon', 0.1981201171875), ('alar', 0.1923828125), ('SER', 0.1868896484375), ('ار', 0.1817626953125)], 54: [(' today', 0.90087890625), (' within', 0.818359375), ('today', 0.76025390625), (' Today', 0.73583984375), (' starting', 0.68505859375)], 55: [('2', 2.248046875), ('3', 1.7451171875), ('1', 1.7197265625), ('4', 1.6953125), ('6', 1.5537109375)]}, 9: {13: [('фон', 0.298095703125), ('满', 0.26953125), ('7', 0.26611328125), ('arxiu', 0.263671875), ('бан', 0.260009765625)], 17: [('upost', 0.48095703125), ('лича', 0.432861328125), ('Esper', 0.3955078125), ('infall', 0.39306640625), ('hips', 0.392822265625)], 18: [('гер', 0.347900390625), ('��', 0.3017578125), ('quet', 0.30029296875), ('uzzi', 0.296875), ('iness', 0.28466796875)], 21: [('erg', 0.20849609375), (' satisfactor', 0.2060546875), ('oser', 0.200927734375), ('aries', 0.19775390625), ('undy', 0.194091796875)], 27: [(' Instruments', 0.2218017578125), (' instruments', 0.216796875), ('包', 0.21484375), (' instrument', 0.2120361328125), (' Beat', 0.2095947265625)], 39: [('1', 0.11822509765625), ('6', 0.11163330078125), ('4', 0.1109619140625), ('7', 0.11077880859375), ('2', 0.1107177734375)]}, 5: {19: [('BROWSER', 0.8125), ('MEMBER', 0.80859375), ('METHOD', 0.8076171875), ('DESCRIPTION', 0.7900390625), ('ENTITY', 0.77490234375)], 26: [('quired', 0.2138671875), ('ively', 0.1944580078125), ('illed', 0.1845703125), ('лено', 0.17919921875), (' come', 0.1788330078125)], 40: [('0', 1.84765625), ('2', 1.81640625), ('8', 1.794921875), ('1', 1.7939453125), ('7', 1.791015625)], 56: [('rible', 0.475830078125), ('ing', 0.468505859375), ('ta', 0.466552734375), ('ment', 0.45263671875), (' even', 0.445068359375)], 57: [('4', 0.2044677734375), ('2', 0.2022705078125), ('abad', 0.19677734375), ('1', 0.193115234375), ('3', 0.1912841796875)], 61: [('wine', 0.390380859375), ('Wine', 0.36376953125), ('Coffee', 0.3447265625), (' WINE', 0.3359375), (' wine', 0.31787109375)]}, 0: {31: [(' with', 0.2939453125), (' as', 0.28076171875), (' and', 0.277099609375), (' primary', 0.25830078125), ('高于', 0.254638671875)], 33: [('�', 0.02069091796875), ('�', 0.020416259765625), (' earth', 0.0186920166015625), (' step', 0.0185699462890625), (' he', 0.0181884765625)], 39: [('amplona', 1.73828125), ('CALLTYPE', 1.6865234375), ('��', 1.5888671875), ('litza', 1.5869140625), ('lgica', 1.5703125)], 40: [(' regarding', 124.0625), (' Down', 111.25), ('anys', 111.125), (' relating', 107.1875), ('毛泽', 106.125)], 45: [(' stable', 0.662109375), (' comm', 0.61865234375), ('�', 0.60009765625), ('ter', 0.58642578125), ('ipus', 0.5830078125)], 57: [('and', 0.09368896484375), ('b', 0.09173583984375), ('con', 0.0823974609375), ('ol', 0.080322265625), ('ul', 0.0794677734375)]}}\n",
      "Shared expert predictions: [[(' involving', 2.5546875), (' ', 2.388671875), (' ev', 2.302734375), (' u', 2.2890625), ('0', 2.267578125)], [('perty', 8.0390625), (' third', 7.98828125), ('algebraic', 7.984375), (' read', 7.96484375), ('чия', 7.80078125)], [(' ', 12.3359375), (',', 9.6953125), (' a', 8.265625), ('\\n', 8.2109375), (' (', 7.87109375)], [(' ', 10.234375), (',', 7.19921875), (' is', 6.828125), (' pur', 6.76953125), (' pass', 6.703125)], [(' ', 16.671875), (',', 14.3984375), (' (', 12.90625), ('.', 12.2265625), (' b', 11.6875)], [(' ', 16.03125), (',', 13.7734375), ('.', 13.3671875), ('-', 13.0859375), (' -', 12.390625)], [(' ', 10.8671875), ('-', 10.421875), ('\\n', 9.8359375), (\"'\", 9.4765625), ('...', 9.2890625)], [(',', 11.7265625), (' ', 11.125), ('.', 11.0390625), (':', 10.1015625), (' (', 10.09375)], [(' ', 16.265625), (' \"', 13.703125), (\" '\", 13.53125), (' (', 13.328125), (' [', 12.2734375)], [(' ', 9.171875), (',', 7.8828125), ('\\n', 7.56640625), ('(', 6.71875), (' (', 6.53125)], [(' ', 8.5546875), (',', 7.7890625), ('\\n', 7.67578125), ('.', 7.2890625), (' *', 7.046875)]]\n",
      "\n",
      "MoE Layer 27:\n",
      "Selected experts: [[30, 62, 2, 54, 14, 56], [63, 33, 60, 53, 19, 23], [22, 52, 61, 36, 40, 50], [10, 46, 24, 12, 47, 41], [22, 7, 36, 51, 2, 42], [30, 54, 2, 56, 7, 62], [30, 56, 54, 23, 2, 29], [28, 36, 27, 6, 48, 37], [63, 62, 33, 46, 21, 60], [20, 6, 8, 59, 46, 15], [15, 11, 46, 35, 55, 59]]\n",
      "Expert weights: [[0.032073974609375, 0.332275390625, 0.020965576171875, 0.04241943359375, 0.32861328125, 0.0193328857421875], [0.254150390625, 0.1895751953125, 0.037200927734375, 0.045318603515625, 0.036529541015625, 0.032470703125], [0.0491943359375, 0.046966552734375, 0.038970947265625, 0.03814697265625, 0.035888671875, 0.033355712890625], [0.060943603515625, 0.05291748046875, 0.048187255859375, 0.043487548828125, 0.03668212890625, 0.035675048828125], [0.1505126953125, 0.1077880859375, 0.09283447265625, 0.05450439453125, 0.046173095703125, 0.03167724609375], [0.1834716796875, 0.06201171875, 0.06719970703125, 0.0615234375, 0.04595947265625, 0.031341552734375], [0.242919921875, 0.151123046875, 0.09246826171875, 0.052734375, 0.047088623046875, 0.04693603515625], [0.2296142578125, 0.05072021484375, 0.041015625, 0.03411865234375, 0.032257080078125, 0.031585693359375], [0.06072998046875, 0.05755615234375, 0.04400634765625, 0.06292724609375, 0.042755126953125, 0.03851318359375], [0.3955078125, 0.040557861328125, 0.03253173828125, 0.03021240234375, 0.0289459228515625, 0.0288238525390625], [0.051666259765625, 0.041259765625, 0.05474853515625, 0.03887939453125, 0.03717041015625, 0.0352783203125]]\n",
      "Combined output tokens: [[(' I', 21.484375), ('\\n', 20.328125), ('2', 19.59375), ('1', 19.421875), ('8', 19.140625)], [(' to', 20.0625), (' at', 19.4375), (' a', 19.265625), (' not', 19.234375), (' re', 19.03125)], [(' ', 19.828125), (',', 16.84375), (' (', 16.453125), (' -', 15.84375), ('-', 15.3828125)], [(' re', 15.0625), (' ', 14.8984375), (' de', 14.8828125), (' cr', 14.4375), (' st', 14.40625)], [(',', 13.125), ('0', 12.7578125), ('1', 12.7109375), ('-', 12.5625), ('3', 12.5234375)], [('1', 26.296875), ('3', 25.9375), ('2', 25.84375), ('0', 25.40625), ('5', 25.21875)], [('2', 28.25), ('1', 28.15625), ('5', 27.96875), ('3', 27.9375), ('0', 27.515625)], [(' ', 14.34375), ('\\n', 13.359375), (' (', 12.484375), ('-', 12.4296875), (':', 12.1171875)], [(' ', 23.03125), (' (', 21.046875), (' \"', 20.921875), (\" '\", 20.796875), (' co', 20.265625)], [('\\n', 13.6484375), (' ', 13.4921875), ('1', 13.4921875), ('0', 13.3828125), ('3', 13.3515625)], [(' ', 19.796875), (' (', 18.046875), ('\\n', 17.8125), ('3', 17.375), ('1', 17.34375)]]\n",
      "Expert predictions by position: {0: {2: [('<｜end▁of▁sentence｜>', 0.50537109375), ('<｜begin▁of▁sentence｜>', 0.41552734375), ('>-->', 0.371337890625), ('topsp', 0.343017578125), (' експе', 0.33251953125)], 14: [('\\n', 10.3125), ('<｜end▁of▁sentence｜>', 9.1171875), (' I', 8.8984375), ('bootstrapcdn', 8.765625), (' He', 8.6953125)], 30: [('\\t$(', 0.373779296875), ('\\t//', 0.36669921875), ('\\t///', 0.34814453125), (' *************************************************************************', 0.34130859375), ('\\tcatch', 0.340087890625)], 54: [(' _$', 0.8046875), ('Msk', 0.71728515625), ('LOPT', 0.65673828125), ('googleads', 0.64208984375), ('角', 0.63623046875)], 56: [('**', 1.275390625), ('####', 1.2724609375), ('###', 1.25), ('##', 1.21484375), ('#', 1.1748046875)], 62: [(' Feb', 0.1942138671875), (' Jan', 0.1810302734375), (' March', 0.1656494140625), (' Apr', 0.1636962890625), (' Oct', 0.1602783203125)]}, 4: {2: [('<｜end▁of▁sentence｜>', 0.46728515625), ('[', 0.390869140625), ('<｜begin▁of▁sentence｜>', 0.369873046875), ('(', 0.343505859375), ('@', 0.3349609375)], 7: [(' useful', 0.47021484375), (' commonly', 0.401123046875), (' fast', 0.39404296875), (' significant', 0.38916015625), (' common', 0.388671875)], 22: [(' after', 0.3876953125), (' within', 0.324462890625), (' from', 0.3173828125), (' inside', 0.3037109375), (' due', 0.298583984375)], 36: [(' ,', 0.317138671875), (',{', 0.255615234375), (',\\\\', 0.253662109375), (' ,[', 0.2470703125), (',|', 0.2445068359375)], 42: [('[', 0.1544189453125), ('.[', 0.13232421875), (' .', 0.132080078125), ('....', 0.13134765625), ('..', 0.130126953125)], 51: [('1', 0.1168212890625), ('2', 0.109619140625), ('3', 0.10943603515625), ('5', 0.10693359375), ('4', 0.10528564453125)]}, 5: {2: [('<｜end▁of▁sentence｜>', 0.11370849609375), ('Read', 0.0697021484375), ('Continue', 0.06878662109375), ('READ', 0.0662841796875), ('“', 0.06585693359375)], 7: [('\\r', 0.669921875), ('Reply', 0.33251953125), ('？', 0.1904296875), ('?', 0.182861328125), ('吗', 0.180908203125)], 30: [('婆', 8.015625), ('\\n', 7.21484375), ('colhead', 7.0078125), ('p', 6.96875), ('lines', 6.8125)], 54: [('noframe', 1.3076171875), ('altColor', 1.064453125), ('estaci', 0.978515625), ('manys', 0.96875), ('cassiopeia', 0.9609375)], 56: [('1', 0.30810546875), ('2', 0.3017578125), ('const', 0.29541015625), ('在', 0.29541015625), ('//', 0.293212890625)], 62: [('<?', 4.44140625), ('Strunz', 3.771484375), ('Magent', 3.75), ('原文地址', 3.701171875), ('package', 3.64453125)]}, 6: {2: [('[', 0.382080078125), ('[...]', 0.33251953125), ('   ', 0.31787109375), ('<｜begin▁of▁sentence｜>', 0.31201171875), ('<', 0.3115234375)], 23: [('website', 0.7880859375), ('email', 0.787109375), ('Website', 0.72900390625), ('Email', 0.701171875), ('document', 0.701171875)], 29: [('objects', 0.4228515625), ('sources', 0.402099609375), ('functions', 0.39404296875), ('files', 0.390869140625), ('factors', 0.37744140625)], 30: [(\"'''\", 5.66796875), ('\"\"\"', 5.10546875), ('def', 4.90234375), ('print', 4.6875), ('#', 4.6328125)], 54: [('y', 0.697265625), ('n', 0.6884765625), ('p', 0.6728515625), ('e', 0.6708984375), ('q', 0.6640625)], 56: [('\\n', 2.912109375), ('**', 2.76171875), ('#', 2.751953125), ('候', 2.662109375), ('actors', 2.52734375)]}, 7: {6: [(' be', 0.425048828125), (' do', 0.363037109375), (' lead', 0.349609375), (' take', 0.32861328125), (' come', 0.321044921875)], 27: [('i', 0.37646484375), ('us', 0.3720703125), ('resa', 0.367919921875), ('tings', 0.367919921875), ('naires', 0.36376953125)], 28: [(' ', 2.09765625), ('ines', 1.916015625), ('oc', 1.822265625), ('att', 1.7353515625), ('ous', 1.68359375)], 36: [(' ,', 0.474609375), (',', 0.389404296875), (',\\\\', 0.3466796875), (',{', 0.3251953125), (',(', 0.321044921875)], 37: [(' ===', 0.263916015625), (' IS', 0.250244140625), (' extends', 0.2486572265625), (' ==', 0.2479248046875), (' !==', 0.2454833984375)], 48: [('Men', 0.13818359375), ('Strunz', 0.1317138671875), ('英', 0.13037109375), ('Clar', 0.1302490234375), ('Philadelphia', 0.128662109375)]}, 9: {6: [(' do', 0.261962890625), (' know', 0.202392578125), (' aren', 0.193603515625), ('do', 0.192626953125), (' were', 0.1876220703125)], 8: [(' all', 0.167724609375), ('all', 0.1536865234375), ('its', 0.1480712890625), (' either', 0.1402587890625), ('either', 0.1373291015625)], 15: [('рт', 0.0682373046875), ('пример', 0.06512451171875), ('�', 0.0599365234375), ('holes', 0.05902099609375), ('chosen', 0.058013916015625)], 20: [(' Match', 1.2314453125), ('match', 1.2060546875), ('front', 1.1748046875), (' match', 1.130859375), ('Match', 1.1083984375)], 46: [(' relle', 0.223388671875), (' directes', 0.177978515625), (' carry', 0.17529296875), ('ership', 0.171875), ('ulet', 0.17138671875)], 59: [('arser', 0.143798828125), (' disputat', 0.1324462890625), ('malink', 0.1217041015625), ('AudioEvent', 0.12030029296875), ('insertBefore', 0.117431640625)]}, 3: {10: [('-', 0.1767578125), (' quis', 0.168701171875), ('lesa', 0.16064453125), ('越大', 0.15576171875), (' MJ', 0.15478515625)], 12: [('办', 0.1629638671875), ('iss', 0.1605224609375), (' j', 0.1558837890625), ('Wise', 0.155029296875), ('ucion', 0.1517333984375)], 24: [('alusia', 0.1492919921875), (' gener', 0.1380615234375), (' Lluc', 0.1322021484375), (' benefici', 0.1270751953125), (' lexical', 0.1251220703125)], 41: [(' i', 0.12548828125), (' Arnau', 0.11505126953125), ('яна', 0.110107421875), (' Дебър', 0.10723876953125), ('enent', 0.10626220703125)], 46: [('АЩ', 0.09912109375), (' Ripoll', 0.0972900390625), (' Съеди', 0.09405517578125), ('pite', 0.093505859375), ('addie', 0.093017578125)], 47: [('召', 0.1873779296875), ('proper', 0.10687255859375), (' pullup', 0.106689453125), (' pix', 0.106201171875), ('宣', 0.1041259765625)]}, 10: {11: [('penet', 0.1131591796875), ('“', 0.110595703125), ('uge', 0.10504150390625), ('\"', 0.10357666015625), ('伞', 0.0958251953125)], 15: [('synthesize', 0.1656494140625), ('arnish', 0.162841796875), ('velope', 0.1591796875), (' passi', 0.156982421875), ('assel', 0.156494140625)], 35: [(' B', 0.317138671875), (' H', 0.30078125), (' h', 0.27294921875), ('eppel', 0.27001953125), ('ername', 0.251953125)], 46: [('ymmetries', 0.249755859375), ('воен', 0.2181396484375), (' //-->', 0.2064208984375), ('мисъл', 0.2047119140625), ('umst', 0.199951171875)], 55: [(' one', 0.318115234375), (' not', 0.302001953125), (' so', 0.291259765625), (' out', 0.289306640625), (' last', 0.286376953125)], 59: [(' bess', 0.122802734375), (' )^', 0.1204833984375), ('ExternalTask', 0.11993408203125), (' xar', 0.118896484375), ('arcely', 0.11590576171875)]}, 1: {19: [(' religious', 0.298095703125), (' religion', 0.26220703125), (' professional', 0.25830078125), (' construction', 0.256591796875), (' humanitarian', 0.255126953125)], 23: [(' blog', 0.3505859375), ('Blog', 0.343994140625), (' searchBox', 0.337158203125), (' blogging', 0.3310546875), (' Blogs', 0.328857421875)], 33: [(' xar', 2.005859375), ('��', 2.005859375), (' dr', 1.9853515625), ('self', 1.8984375), (' names', 1.8662109375)], 53: [(' accident', 0.341064453125), (' wound', 0.331787109375), (' defect', 0.321044921875), (' error', 0.319580078125), (' flaw', 0.316162109375)], 60: [('台', 0.2205810546875), (' demo', 0.2164306640625), (' mig', 0.21337890625), ('陶', 0.2103271484375), (' Demo', 0.201904296875)], 63: [(' googleapi', 4.171875), ('��', 4.00390625), (' unittest', 3.99609375), ('rupt', 3.9453125), (' coco', 3.75390625)]}, 8: {21: [(' Sub', 0.2379150390625), ('sofs', 0.21484375), (' Acc', 0.2091064453125), (' Ad', 0.20849609375), (' Scal', 0.2056884765625)], 33: [(' self', 0.58349609375), (' l', 0.43212890625), (' f', 0.429443359375), (' m', 0.419677734375), (' r', 0.415283203125)], 46: [(' way', 0.26171875), (' fuster', 0.255126953125), ('jocs', 0.2462158203125), (' granota', 0.2435302734375), ('ances', 0.236328125)], 60: [(' M', 0.57080078125), ('M', 0.4228515625), ('\\tM', 0.38525390625), (' G', 0.329833984375), (' m', 0.318115234375)], 62: [(' Oct', 0.302001953125), (' Feb', 0.269775390625), ('\\n', 0.256103515625), (' Aug', 0.250244140625), (' Jan', 0.25)], 63: [(' float', 1.2060546875), (' torch', 1.1865234375), (' vector', 1.1669921875), (' tuple', 1.1318359375), (' int', 1.0771484375)]}, 2: {22: [('1', 1.396484375), ('<｜end▁of▁sentence｜>', 1.3916015625), ('3', 1.333984375), ('0', 1.3134765625), ('8', 1.3095703125)], 36: [(',\\\\', 0.1396484375), (' ,', 0.135009765625), (',{', 0.1297607421875), (' FROM', 0.1287841796875), (' }', 0.125732421875)], 40: [(\"'\", 0.2210693359375), (\"'.\", 0.18798828125), (\"';\", 0.1773681640625), (\"',\", 0.1767578125), (\"':\", 0.1749267578125)], 50: [('�', 0.45703125), ('�', 0.3798828125), ('带', 0.270263671875), ('�', 0.256591796875), ('集', 0.2412109375)], 52: [('(', 0.5703125), ('($', 0.5234375), ('({', 0.5009765625), ('(\"', 0.49853515625), ('()', 0.47509765625)], 61: [(\"'\", 0.08453369140625), (';[', 0.080078125), (' \"', 0.0762939453125), ('which', 0.07061767578125), ('as', 0.06884765625)]}}\n",
      "Shared expert predictions: [[(' (', 12.5859375), (' to', 11.5078125), (' visit', 11.4453125), (' you', 11.390625), (' I', 11.3125)], [(' not', 17.3125), (' to', 17.203125), (' and', 17.171875), (' just', 16.515625), (' at', 16.4375)], [(' ', 19.328125), (',', 16.328125), (' (', 15.8984375), (' -', 15.375), ('-', 15.015625)], [(' re', 14.9765625), (' de', 14.7734375), (' ', 14.5703125), (' cr', 14.328125), (' st', 14.296875)], [('-', 11.390625), (',', 11.34375), ('0', 10.6171875), ('1', 10.3828125), ('.', 10.375)], [('1', 22.046875), ('2', 21.9375), ('0', 21.8125), ('3', 21.75), ('6', 21.359375)], [('0', 23.40625), ('2', 23.171875), ('5', 22.828125), ('3', 22.734375), ('1', 22.59375)], [(' ', 11.8203125), ('\\n', 11.6171875), (' (', 11.4921875), ('-', 11.4296875), ('/', 10.7890625)], [(' ', 22.0625), (' \"', 19.921875), (' (', 19.828125), (\" '\", 19.640625), (' a', 19.546875)], [(' ', 13.296875), ('\\n', 13.1171875), ('1', 12.828125), ('0', 12.7578125), ('3', 12.609375)], [(' ', 19.421875), (' (', 17.8125), ('\\n', 17.40625), ('3', 17.234375), ('1', 17.203125)]]\n"
     ]
    }
   ],
   "source": [
    "# Access layer predictions\n",
    "for layer_idx, preds in analysis['layer_predictions'].items():\n",
    "    print(f\"Layer {layer_idx} predictions:\", preds)\n",
    "\n",
    "# Access MoE analysis\n",
    "for layer_idx, moe_data in analysis['moe_analysis'].items():\n",
    "    print(f\"\\nMoE Layer {layer_idx}:\")\n",
    "    print(\"Selected experts:\", moe_data['selected_experts'])\n",
    "    print(\"Expert weights:\", moe_data['expert_weights'])\n",
    "    print(\"Combined output tokens:\", moe_data['combined_output_tokens'])\n",
    "    print(\"Expert predictions by position:\", moe_data['expert_predictions_by_position'])\n",
    "    print(\"Shared expert predictions:\", moe_data['shared_expert_predictions'])"
   ]
  },
  {
   "cell_type": "code",
   "execution_count": 12,
   "metadata": {},
   "outputs": [],
   "source": [
    "def get_layer_predictions_for_token(results: dict, layer_idx: int, token_pos: int) -> list:\n",
    "    # Ensure the layer exists in the results\n",
    "    if layer_idx not in results['layer_predictions']:\n",
    "        raise ValueError(f\"Layer {layer_idx} not found in the results.\")\n",
    "\n",
    "    # Get the layer predictions for the specified token position\n",
    "    layer_predictions = results['layer_predictions'][layer_idx][token_pos]\n",
    "    \n",
    "    # Return top 5 predictions\n",
    "    return layer_predictions[:5]\n",
    "\n",
    "def get_shared_expert_predictions_for_token(results: dict, layer_idx: int, token_pos: int) -> list:\n",
    "    # Ensure the layer exists in the results\n",
    "    if layer_idx not in results['moe_analysis']:\n",
    "        raise ValueError(f\"Layer {layer_idx} not found in the results.\")\n",
    "\n",
    "    # Get the MoE analysis for the specified layer\n",
    "    moe_analysis = results['moe_analysis'][layer_idx]\n",
    "\n",
    "    # Get the shared expert predictions for the specified token position\n",
    "    shared_predictions = moe_analysis['shared_expert_predictions'][token_pos]\n",
    "    \n",
    "    # Return top 5 predictions\n",
    "    return shared_predictions[:5]\n",
    "\n",
    "def get_expert_preds(results: dict, layer_idx: int, token_pos: int) -> list:\n",
    "    # Ensure the layer exists in the results\n",
    "    if layer_idx not in results['moe_analysis']:\n",
    "        raise ValueError(f\"Layer {layer_idx} not found in the MoE analysis results.\")\n",
    "        \n",
    "    # Get the MoE analysis for the specified layer\n",
    "    expert_preds = []\n",
    "    moe_analysis = results['moe_analysis'][layer_idx]\n",
    "    expert_predictions = moe_analysis['expert_predictions_by_position']\n",
    "    expert_toks = expert_predictions[token_pos]\n",
    "\n",
    "    for expert_idx, preds in expert_toks.items():\n",
    "        print(f'expert {expert_idx} : {preds}')\n",
    "        expert_preds.append((int(expert_idx), preds))\n",
    "\n",
    "    expert_preds = sorted(expert_preds, key=lambda x: x[0])\n",
    "        \n",
    "    return expert_preds"
   ]
  },
  {
   "cell_type": "code",
   "execution_count": 13,
   "metadata": {},
   "outputs": [],
   "source": [
    "def get_highest_pred(results: dict, model, tokenizer, layer_idx: int, token_pos: int, k: int = 5) -> list:\n",
    "    \"\"\"gets predictions from expert with highest weight after adding residual \"\"\"\n",
    "    # Ensure layer exists in results\n",
    "    if layer_idx not in results['moe_analysis']:\n",
    "        raise ValueError(f\"Layer {layer_idx} not found in the MoE analysis results.\")\n",
    "        \n",
    "    # Get MoE analysis for the layer\n",
    "    moe_analysis = results['moe_analysis'][layer_idx]\n",
    "    \n",
    "    # Get expert weights for this token\n",
    "    expert_weights = {}\n",
    "    selected_experts = moe_analysis['selected_experts'][token_pos]\n",
    "    expert_weights_list = moe_analysis['expert_weights'][token_pos]\n",
    "    \n",
    "    if isinstance(selected_experts, int):\n",
    "        # Handle case where only one expert is selected\n",
    "        expert_weights[selected_experts] = 1.0\n",
    "    else:\n",
    "        # Handle case where multiple experts are selected with weights\n",
    "        for expert_idx, weight in zip(selected_experts, expert_weights_list):\n",
    "            expert_weights[expert_idx] = weight\n",
    "                \n",
    "    # Find expert with highest weight\n",
    "    # max_weight_expert = max(expert_weights.items(), key=lambda x: x[1])[0]\n",
    "    max_weight_expert = sorted(expert_weights.items(), key=lambda x: x[1], reverse=True)[k][0]\n",
    "    print(f'max_weight_expert {max_weight_expert}')\n",
    "    \n",
    "    # Get hidden state from this expert\n",
    "    expert_hidden_state = moe_analysis['expert_hidden_states_by_position'][token_pos][max_weight_expert]['hidden_state']\n",
    "    \n",
    "    # Get residual stream\n",
    "    residual = post_attn_ln_inputs[layer_idx][-1][0][0][token_pos]\n",
    "    \n",
    "    # Convert expert hidden state to tensor if it's a list\n",
    "    if isinstance(expert_hidden_state, list):\n",
    "        expert_hidden_state = torch.tensor(expert_hidden_state, dtype=torch.float16)\n",
    "    \n",
    "    # Add residual to expert hidden state\n",
    "    combined = residual + expert_hidden_state\n",
    "    \n",
    "    # Get logits\n",
    "    logits = model.lm_head(combined.unsqueeze(0))\n",
    "    \n",
    "    # Get top 5 predictions\n",
    "    topk = torch.topk(logits[0], k=5)\n",
    "    scores = topk.values.tolist()\n",
    "    tokens = topk.indices.tolist()\n",
    "    \n",
    "    # Convert to token strings\n",
    "    predictions = []\n",
    "    for score, token in zip(scores, tokens):\n",
    "        token_str = tokenizer.decode(token)\n",
    "        predictions.append((token_str, score))\n",
    "        \n",
    "    return predictions"
   ]
  },
  {
   "cell_type": "code",
   "execution_count": 14,
   "metadata": {},
   "outputs": [
    {
     "name": "stdout",
     "output_type": "stream",
     "text": [
      "max_weight_expert 24\n"
     ]
    },
    {
     "data": {
      "text/plain": [
       "[('read', 25.25),\n",
       " ('DataFrame', 17.96875),\n",
       " (' read', 16.71875),\n",
       " ('READ', 14.4609375),\n",
       " ('reads', 14.0625)]"
      ]
     },
     "execution_count": 14,
     "metadata": {},
     "output_type": "execute_result"
    }
   ],
   "source": [
    "layer_idx = 25\n",
    "token_pos = 10\n",
    "k = 5 # which max expert to use\n",
    "get_highest_pred(analysis, model, tokenizer, layer_idx=layer_idx, token_pos=token_pos, k=k)"
   ]
  },
  {
   "cell_type": "code",
   "execution_count": 15,
   "metadata": {},
   "outputs": [
    {
     "name": "stdout",
     "output_type": "stream",
     "text": [
      "expert 14 : [('opter', 0.7607421875), ('ктри', 0.73974609375), ('opters', 0.6318359375), ('tric', 0.60693359375), ('sort', 0.59033203125)]\n",
      "expert 24 : [('ities', 0.288330078125), ('Audi', 0.286865234375), ('7', 0.284423828125), ('百', 0.2705078125), ('0', 0.27001953125)]\n",
      "expert 36 : [('RET', 0.43359375), (' lim', 0.38525390625), ('acad', 0.371826171875), ('icast', 0.362060546875), ('Oper', 0.35498046875)]\n",
      "expert 41 : [(' involving', 1.830078125), ('ostes', 1.6259765625), (\"'>&\", 1.509765625), ('adoc', 1.50390625), ('wau', 1.5029296875)]\n",
      "expert 43 : [('cciones', 0.274169921875), ('析', 0.270751953125), (' зи', 0.2705078125), (' compress', 0.26806640625), ('排', 0.265380859375)]\n",
      "expert 49 : [('aulay', 0.291259765625), ('ardown', 0.263671875), ('fer', 0.23193359375), ('backer', 0.2159423828125), ('退', 0.2147216796875)]\n",
      "layer_preds : [('read', 25.234375), ('DataFrame', 18.109375), (' read', 16.75), ('io', 14.6640625), ('READ', 14.46875)]\n",
      "shared_preds : [(',', 4.7734375), (' ', 4.31640625), ('\\n', 4.30078125), ('.', 3.37890625), (' (', 3.30078125)]\n",
      "expert_preds : [(14, [('opter', 0.7607421875), ('ктри', 0.73974609375), ('opters', 0.6318359375), ('tric', 0.60693359375), ('sort', 0.59033203125)]), (24, [('ities', 0.288330078125), ('Audi', 0.286865234375), ('7', 0.284423828125), ('百', 0.2705078125), ('0', 0.27001953125)]), (36, [('RET', 0.43359375), (' lim', 0.38525390625), ('acad', 0.371826171875), ('icast', 0.362060546875), ('Oper', 0.35498046875)]), (41, [(' involving', 1.830078125), ('ostes', 1.6259765625), (\"'>&\", 1.509765625), ('adoc', 1.50390625), ('wau', 1.5029296875)]), (43, [('cciones', 0.274169921875), ('析', 0.270751953125), (' зи', 0.2705078125), (' compress', 0.26806640625), ('排', 0.265380859375)]), (49, [('aulay', 0.291259765625), ('ardown', 0.263671875), ('fer', 0.23193359375), ('backer', 0.2159423828125), ('退', 0.2147216796875)])]\n"
     ]
    }
   ],
   "source": [
    "layer_idx = 25\n",
    "token_pos = 10\n",
    "layer_preds = get_layer_predictions_for_token(analysis, layer_idx=layer_idx, token_pos=token_pos)\n",
    "shared_preds = get_shared_expert_predictions_for_token(analysis, layer_idx=layer_idx, token_pos=token_pos)\n",
    "expert_preds = get_expert_preds(analysis, layer_idx=layer_idx, token_pos=token_pos)\n",
    "\n",
    "print(f'layer_preds : {layer_preds}')\n",
    "print(f'shared_preds : {shared_preds}')\n",
    "print(f'expert_preds : {expert_preds}')"
   ]
  },
  {
   "cell_type": "code",
   "execution_count": 16,
   "metadata": {},
   "outputs": [],
   "source": [
    "def create_logit_lens_viz(analysis_results, token_pos=0):\n",
    "    \"\"\"Creates a heatmap visualization of predictions across model layers.\n",
    "    \n",
    "    Args:\n",
    "        analysis_results: Dictionary containing layer predictions and MoE analysis\n",
    "        token_pos: Token position to analyze (default 0)\n",
    "    \"\"\"\n",
    "    # Initialize data structure\n",
    "    n_layers = max(analysis_results['layer_predictions'].keys()) + 1\n",
    "    x_positions = []  # Will store x-axis positions\n",
    "    y_positions = []  # Will store layer numbers\n",
    "    values = []      # Will store prediction scores\n",
    "    hover_texts = [] # Will store hover text with top 5 predictions\n",
    "\n",
    "    # Process each layer\n",
    "    for layer in range(n_layers):\n",
    "        # Layer predictions\n",
    "        layer_preds = get_layer_predictions_for_token(analysis_results, layer, token_pos)\n",
    "        x_positions.append(0)  # Layer output is at x=0\n",
    "        y_positions.append(layer)\n",
    "        values.append(layer_preds[0][1])  # Use score from top prediction\n",
    "        hover_text = \"<br>\".join([f\"{pred[0]}: {pred[1]:.3f}\" for pred in layer_preds])\n",
    "        hover_texts.append(f\"Layer {layer} Output:<br>{hover_text}\")\n",
    "\n",
    "        # Expert predictions if available\n",
    "        if layer in analysis_results['moe_analysis']:\n",
    "            expert_preds = get_expert_preds(analysis_results, layer, token_pos)\n",
    "            moe_data = analysis_results['moe_analysis'][layer]\n",
    "            \n",
    "            # Create expert weight lookup for this layer's position\n",
    "            expert_weights = {}\n",
    "            for pos_idx, experts in enumerate(moe_data['selected_experts']):\n",
    "                if pos_idx == token_pos:  # Only for our token position\n",
    "                    for expert_idx, weight in zip(experts, moe_data['expert_weights'][pos_idx]):\n",
    "                        expert_weights[expert_idx] = weight\n",
    "            \n",
    "            for expert_idx, preds in expert_preds:\n",
    "                x_positions.append(expert_idx + 1)  # Offset by 1 to account for layer output\n",
    "                y_positions.append(layer)\n",
    "                values.append(preds[0][1])  # Use score from top prediction\n",
    "                \n",
    "                # Add expert weight to hover text if available\n",
    "                weight_text = \"\"\n",
    "                if expert_idx in expert_weights:\n",
    "                    weight_text = f\"<br>Expert Weight: {expert_weights[expert_idx]:.3f}\"\n",
    "                    \n",
    "                hover_text = \"<br>\".join([f\"{pred[0]}: {pred[1]:.3f}\" for pred in preds])\n",
    "                hover_texts.append(f\"Layer {layer} Expert {expert_idx}:{weight_text}<br>{hover_text}\")\n",
    "\n",
    "            # Shared expert predictions\n",
    "            shared_preds = get_shared_expert_predictions_for_token(analysis_results, layer, token_pos)\n",
    "            x_positions.append(65)  # Put shared experts after individual experts\n",
    "            y_positions.append(layer)\n",
    "            values.append(shared_preds[0][1])  # Use score from top prediction\n",
    "            hover_text = \"<br>\".join([f\"{pred[0]}: {pred[1]:.3f}\" for pred in shared_preds])\n",
    "            hover_texts.append(f\"Layer {layer} Shared Experts:<br>{hover_text}\")\n",
    "\n",
    "    # Create heatmap with larger square markers and no grid lines\n",
    "    fig = go.Figure(data=go.Scatter(\n",
    "        x=x_positions,\n",
    "        y=y_positions,\n",
    "        mode='markers',\n",
    "        marker=dict(\n",
    "            size=20,  # Increased marker size\n",
    "            symbol='square',\n",
    "            color=values,\n",
    "            colorscale='Viridis',\n",
    "            showscale=True,\n",
    "            colorbar=dict(title='logit value')\n",
    "        ),\n",
    "        text=hover_texts,\n",
    "        hoverinfo='text'\n",
    "    ))\n",
    "\n",
    "    # Update layout with no grid lines\n",
    "    fig.update_layout(\n",
    "        title='Expert Contributions and Predictions for Token Position ' + str(token_pos),\n",
    "        xaxis_title='layer output | routed experts | shared experts',\n",
    "        yaxis_title='Layer',\n",
    "        xaxis=dict(\n",
    "            ticktext=['l_out'] + [f' {i}' for i in range(64)] + ['shared experts'],\n",
    "            tickvals=[0] + list(range(1, 65)) + [65],\n",
    "            tickangle=45,\n",
    "            showgrid=False  # Removed grid lines\n",
    "        ),\n",
    "        yaxis=dict(\n",
    "            autorange='reversed',  # Put layer 0 at the top\n",
    "            showgrid=False  # Removed grid lines\n",
    "        ),\n",
    "        height=1000,\n",
    "        width=1800,\n",
    "        plot_bgcolor='black',\n",
    "        paper_bgcolor='black',\n",
    "        font=dict(color='white')\n",
    "    )\n",
    "\n",
    "    return fig"
   ]
  },
  {
   "cell_type": "code",
   "execution_count": 17,
   "metadata": {},
   "outputs": [
    {
     "name": "stdout",
     "output_type": "stream",
     "text": [
      "expert 6 : [('pless', 0.03759765625), ('vill', 0.035919189453125), ('дове', 0.035003662109375), ('blockList', 0.033660888671875), ('elev', 0.0328369140625)]\n",
      "expert 7 : [('spaces', 0.0430908203125), ('uega', 0.04052734375), ('ито', 0.039093017578125), ('actly', 0.03765869140625), ('noma', 0.03717041015625)]\n",
      "expert 21 : [('负', 0.06341552734375), ('thr', 0.0628662109375), ('TB', 0.06158447265625), ('хай', 0.060455322265625), ('дни', 0.06005859375)]\n",
      "expert 46 : [('ovent', 0.053741455078125), ('yses', 0.052398681640625), ('нев', 0.0517578125), ('itures', 0.050262451171875), ('palette', 0.048797607421875)]\n",
      "expert 49 : [('rc', 0.1719970703125), ('autoritat', 0.169677734375), ('rita', 0.1673583984375), ('eye', 0.1671142578125), ('erca', 0.1668701171875)]\n",
      "expert 53 : [('gem', 0.040435791015625), ('indi', 0.039764404296875), ('inada', 0.038116455078125), ('速', 0.03741455078125), (' hers', 0.03704833984375)]\n",
      "expert 2 : [('snap', 0.0219268798828125), ('heads', 0.021514892578125), ('head', 0.021087646484375), ('нове', 0.0209808349609375), ('ouver', 0.0207061767578125)]\n",
      "expert 3 : [('itiu', 1.205078125), (' sinc', 1.18359375), ('uega', 1.1240234375), ('дос', 1.1171875), ('вер', 1.1064453125)]\n",
      "expert 12 : [('启', 0.11627197265625), ('стви', 0.11065673828125), ('踏', 0.110595703125), ('蒙', 0.1102294921875), (' C', 0.10894775390625)]\n",
      "expert 30 : [('ndies', 0.029541015625), ('华声', 0.0254974365234375), ('прия', 0.024658203125), ('inical', 0.0239410400390625), ('bology', 0.023895263671875)]\n",
      "expert 34 : [('onats', 0.033172607421875), ('wsdl', 0.03228759765625), ('odings', 0.032012939453125), ('тури', 0.031280517578125), ('ocats', 0.0296630859375)]\n",
      "expert 61 : [('лей', 0.1971435546875), (' пролет', 0.189208984375), ('�', 0.176025390625), ('ister', 0.1734619140625), ('3', 0.1683349609375)]\n",
      "expert 18 : [('�', 0.10308837890625), ('axy', 0.09381103515625), (' semblants', 0.09185791015625), ('消', 0.08953857421875), (' Schwennicke', 0.08941650390625)]\n",
      "expert 33 : [('->__', 0.212890625), ('� ', 0.20263671875), (' suec', 0.1922607421875), ('бар', 0.192138671875), ('рак', 0.1815185546875)]\n",
      "expert 39 : [('фин', 0.0904541015625), ('май', 0.0859375), ('幸', 0.0770263671875), ('sections', 0.0751953125), ('ODO', 0.0740966796875)]\n",
      "expert 48 : [('isca', 0.2127685546875), (' longest', 0.1689453125), (' point', 0.14111328125), ('дан', 0.1407470703125), ('inel', 0.14013671875)]\n",
      "expert 49 : [(' vides', 0.06268310546875), ('umbent', 0.0606689453125), ('Mile', 0.056304931640625), ('ascript', 0.055694580078125), ('ylus', 0.0555419921875)]\n",
      "expert 51 : [('2', 0.06964111328125), ('1', 0.06170654296875), ('Rights', 0.061187744140625), ('漂', 0.059417724609375), ('vol', 0.05828857421875)]\n",
      "expert 11 : [('alda', 0.0836181640625), ('PUBL', 0.07861328125), ('лини', 0.07391357421875), ('的那样', 0.0732421875), (' |-', 0.0711669921875)]\n",
      "expert 14 : [('吸', 0.379150390625), (' Аг', 0.328857421875), ('бар', 0.32763671875), ('透', 0.31982421875), ('Throw', 0.311279296875)]\n",
      "expert 28 : [('irons', 0.09112548828125), ('пени', 0.08966064453125), ('тини', 0.08734130859375), ('=\"../../../../../../../../', 0.0858154296875), ('isely', 0.0853271484375)]\n",
      "expert 45 : [('ი�', 0.0826416015625), ('нер', 0.076416015625), ('eek', 0.07489013671875), ('erra', 0.07440185546875), ('ser', 0.0731201171875)]\n",
      "expert 51 : [(' PASS', 0.059844970703125), ('pass', 0.05810546875), ('硬', 0.052642822265625), ('enes', 0.052459716796875), ('度', 0.052337646484375)]\n",
      "expert 63 : [('盖', 0.29345703125), ('盖上', 0.2391357421875), (' rule', 0.212890625), (' Лео', 0.2095947265625), ('Llista', 0.2076416015625)]\n",
      "expert 6 : [('积', 1.505859375), (' @', 1.5048828125), (' cl', 1.3388671875), (' Pro', 1.3125), ('檬', 1.294921875)]\n",
      "expert 13 : [('��', 0.020050048828125), ('urar', 0.017974853515625), (' norma', 0.015411376953125), ('肺', 0.01522064208984375), ('emale', 0.01515960693359375)]\n",
      "expert 17 : [('oldt', 0.05224609375), ('ocles', 0.04595947265625), ('dry', 0.04449462890625), ('estan', 0.04388427734375), ('eteria', 0.043853759765625)]\n",
      "expert 24 : [('STRAINT', 0.01074981689453125), ('pole', 0.00824737548828125), ('适', 0.00791168212890625), ('poles', 0.007625579833984375), ('τε', 0.0075225830078125)]\n",
      "expert 41 : [('accion', 0.0304107666015625), ('jgl', 0.0300445556640625), ('abus', 0.029815673828125), (' desocup', 0.0283355712890625), ('рт', 0.0269317626953125)]\n",
      "expert 50 : [('unic', 0.0418701171875), ('icle', 0.040283203125), ('ress', 0.04022216796875), ('弦', 0.039337158203125), ('RESS', 0.038360595703125)]\n",
      "expert 6 : [('ctrics', 0.10821533203125), ('า', 0.10552978515625), ('肪', 0.103515625), ('unitats', 0.10247802734375), (' сим', 0.10101318359375)]\n",
      "expert 34 : [('ossa', 0.1373291015625), ('xim', 0.11993408203125), ('lox', 0.11968994140625), ('elt', 0.118896484375), ('免费咨询电话', 0.11865234375)]\n",
      "expert 48 : [('ittings', 0.039459228515625), ('肋', 0.03851318359375), ('plural', 0.037506103515625), ('ames', 0.037078857421875), ('INSEE', 0.0369873046875)]\n",
      "expert 52 : [('stab', 0.120361328125), ('责任的', 0.12005615234375), ('izzard', 0.11749267578125), ('сност', 0.11651611328125), ('istat', 0.1112060546875)]\n",
      "expert 61 : [(' местни', 0.1480712890625), ('escut', 0.12646484375), ('inoa', 0.11962890625), ('iboot', 0.11578369140625), ('搏', 0.11578369140625)]\n",
      "expert 62 : [('�', 0.11492919921875), ('钉', 0.1005859375), ('LTS', 0.0987548828125), ('漫', 0.0972900390625), (' marc', 0.09716796875)]\n",
      "expert 13 : [('��', 0.07073974609375), (' bodies', 0.05914306640625), ('rip', 0.05621337890625), (' Bodies', 0.05303955078125), ('ps', 0.050811767578125)]\n",
      "expert 14 : [('tee', 0.08544921875), ('yson', 0.081787109375), ('憬', 0.08160400390625), ('角', 0.0810546875), ('ained', 0.07965087890625)]\n",
      "expert 31 : [('Окръг', 0.20703125), ('сил', 0.17724609375), ('feller', 0.1602783203125), ('mbol', 0.1600341796875), ('дръ', 0.1539306640625)]\n",
      "expert 40 : [('евру', 0.1336669921875), ('��', 0.130126953125), ('estern', 0.126708984375), ('ymbol', 0.1263427734375), ('ковник', 0.12359619140625)]\n",
      "expert 45 : [('eness', 0.015655517578125), ('oro', 0.01399993896484375), ('ness', 0.01324462890625), ('imple', 0.01284027099609375), ('antrop', 0.01255035400390625)]\n",
      "expert 60 : [('aresme', 0.09930419921875), ('rfloor', 0.09637451171875), ('regut', 0.095947265625), ('restant', 0.0958251953125), (' Borde', 0.08929443359375)]\n",
      "expert 12 : [('ife', 0.24462890625), ('evo', 0.2421875), ('licks', 0.2384033203125), ('efi', 0.226806640625), ('мера', 0.216552734375)]\n",
      "expert 14 : [(' Loading', 0.2022705078125), ('机', 0.1962890625), ('场上', 0.1910400390625), ('机组', 0.1829833984375), ('čí', 0.1824951171875)]\n",
      "expert 23 : [('ificaci', 0.16064453125), ('ieft', 0.160400390625), ('ificat', 0.154296875), ('toire', 0.147705078125), ('LENT', 0.1475830078125)]\n",
      "expert 44 : [('tols', 0.10821533203125), (' себе', 0.1004638671875), ('uil', 0.099365234375), ('нома', 0.0947265625), ('COMPI', 0.09368896484375)]\n",
      "expert 46 : [(' themselves', 0.12200927734375), ('themselves', 0.1004638671875), (' assertNotNull', 0.10003662109375), ('朋', 0.0968017578125), (' each', 0.0936279296875)]\n",
      "expert 50 : [('бран', 0.0733642578125), ('luck', 0.0694580078125), ('=\"__', 0.0679931640625), (' permalink', 0.0677490234375), ('定的', 0.0675048828125)]\n",
      "expert 12 : [('opolitan', 0.1114501953125), ('зи', 0.1109619140625), ('ylene', 0.109619140625), ('евру', 0.1036376953125), (' senz', 0.103515625)]\n",
      "expert 13 : [(' същест', 0.1083984375), (' ръковод', 0.1065673828125), ('ondre', 0.10498046875), ('ptime', 0.1048583984375), ('Llib', 0.10479736328125)]\n",
      "expert 30 : [('brig', 0.146728515625), ('Partit', 0.13525390625), ('мък', 0.1309814453125), ('ляр', 0.1290283203125), ('они', 0.1287841796875)]\n",
      "expert 39 : [('дир', 0.140380859375), ('utch', 0.1337890625), ('anol', 0.1319580078125), (' WARRANT', 0.12152099609375), ('allels', 0.11962890625)]\n",
      "expert 55 : [('regu', 0.12017822265625), ('llib', 0.11090087890625), ('лим', 0.10772705078125), (' void', 0.1070556640625), ('брехт', 0.10614013671875)]\n",
      "expert 57 : [('卸', 0.0992431640625), ('двиг', 0.08648681640625), ('дев', 0.0860595703125), (' тит', 0.085205078125), ('换', 0.08428955078125)]\n",
      "expert 23 : [('RL', 0.1591796875), ('win', 0.154541015625), ('@', 0.1492919921875), (' Rip', 0.142822265625), (' Defined', 0.141845703125)]\n",
      "expert 34 : [('��', 0.0877685546875), ('$-', 0.07275390625), (' Base', 0.0716552734375), ('ams', 0.0714111328125), ('тури', 0.07122802734375)]\n",
      "expert 35 : [('plusplus', 0.10736083984375), ('копа', 0.10064697265625), ('vies', 0.094482421875), ('utad', 0.09259033203125), ('adesh', 0.08941650390625)]\n",
      "expert 45 : [('inclo', 0.0340576171875), ('lega', 0.033477783203125), ('SPHINX', 0.032958984375), ('ober', 0.03204345703125), ('��', 0.03167724609375)]\n",
      "expert 56 : [('油', 1.6142578125), ('油的', 1.5947265625), ('тай', 1.5439453125), ('\">(</', 1.5126953125), ('astre', 1.4609375)]\n",
      "expert 57 : [('iceless', 0.07781982421875), ('ices', 0.07757568359375), ('}$~\\\\', 0.07647705078125), ('温', 0.0758056640625), (' тона', 0.07525634765625)]\n",
      "expert 0 : [('oten', 0.1065673828125), ('Община', 0.10498046875), (' Bread', 0.10009765625), ('moz', 0.0960693359375), ('crystal', 0.09326171875)]\n",
      "expert 19 : [('8', 0.2109375), ('5', 0.205322265625), ('0', 0.2044677734375), ('3', 0.203857421875), ('4', 0.2005615234375)]\n",
      "expert 24 : [('ance', 1.1337890625), ('yst', 1.0263671875), ('�', 0.9970703125), ('arial', 0.94091796875), ('�', 0.9365234375)]\n",
      "expert 40 : [(' Noguera', 0.09136962890625), ('8', 0.08905029296875), ('0', 0.08740234375), ('2', 0.0863037109375), ('3', 0.08331298828125)]\n",
      "expert 62 : [('thon', 0.1822509765625), (' tack', 0.140625), ('rror', 0.133056640625), ('вежда', 0.127197265625), ('LO', 0.127197265625)]\n",
      "expert 63 : [('神器', 0.05950927734375), ('moj', 0.05877685546875), (' кур', 0.05810546875), ('spaces', 0.05706787109375), ('ancourt', 0.056549072265625)]\n",
      "expert 4 : [('航', 0.116455078125), ('мула', 0.10833740234375), ('err', 0.10296630859375), ('谁的', 0.10162353515625), ('红旗', 0.10028076171875)]\n",
      "expert 8 : [('icat', 0.129150390625), ('het', 0.12457275390625), ('AP', 0.1240234375), ('opsi', 0.12371826171875), ('ap', 0.1226806640625)]\n",
      "expert 18 : [('ene', 0.117919921875), ('phant', 0.11669921875), ('OBJ', 0.1163330078125), (' her', 0.11370849609375), ('hol', 0.1116943359375)]\n",
      "expert 42 : [('Phabricator', 0.09356689453125), ('esModule', 0.083984375), ('orh', 0.0821533203125), ('AXB', 0.07672119140625), ('leftmargin', 0.0765380859375)]\n",
      "expert 45 : [('сер', 0.1854248046875), ('ramer', 0.164794921875), (' ext', 0.154296875), ('urrent', 0.1536865234375), (' net', 0.1441650390625)]\n",
      "expert 54 : [('aun', 0.54736328125), (' crida', 0.53369140625), (' NP', 0.513671875), (' consta', 0.51220703125), ('ambo', 0.50390625)]\n",
      "expert 11 : [('IMIT', 0.195068359375), (' tabs', 0.1898193359375), ('Вън', 0.1817626953125), ('mbf', 0.1754150390625), (' tab', 0.1737060546875)]\n",
      "expert 13 : [('�', 1.076171875), ('�', 1.0390625), ('asso', 0.99658203125), ('ние', 0.99267578125), ('imus', 0.96533203125)]\n",
      "expert 15 : [('成功', 0.1864013671875), ('不幸', 0.165283203125), (' c', 0.1602783203125), ('端', 0.1534423828125), ('成功的', 0.1533203125)]\n",
      "expert 37 : [('thia', 0.096923828125), ('lectuals', 0.09423828125), (' апа', 0.09417724609375), ('uesa', 0.09246826171875), ('otec', 0.09136962890625)]\n",
      "expert 51 : [('orno', 0.035308837890625), ('oce', 0.0323486328125), (' Vend', 0.0322265625), (' moves', 0.03131103515625), ('бни', 0.030670166015625)]\n",
      "expert 58 : [('фера', 0.211669921875), ('|}', 0.1998291015625), ('це', 0.1962890625), ('verage', 0.19580078125), (' parlant', 0.18798828125)]\n",
      "expert 0 : [('ager', 0.08013916015625), ('珠', 0.07952880859375), ('lier', 0.07781982421875), (' version', 0.07391357421875), (' token', 0.0738525390625)]\n",
      "expert 8 : [('黄', 0.1126708984375), ('偶', 0.10675048828125), ('ollen', 0.09912109375), ('-', 0.0963134765625), ('irat', 0.095947265625)]\n",
      "expert 19 : [('lars', 0.1824951171875), ('restant', 0.171142578125), ('�', 0.1697998046875), ('ultors', 0.1690673828125), ('子里', 0.1639404296875)]\n",
      "expert 23 : [('cret', 0.53564453125), (' Camera', 0.529296875), (' camera', 0.525390625), ('camera', 0.5048828125), (' powers', 0.50390625)]\n",
      "expert 58 : [('ilyn', 0.131103515625), ('ilitats', 0.12548828125), ('OrUpdate', 0.12286376953125), (' Sitter', 0.12261962890625), ('ilog', 0.12109375)]\n",
      "expert 60 : [(' l', 0.23876953125), ('辈', 0.2327880859375), ('ref', 0.2276611328125), ('off', 0.216796875), ('able', 0.205810546875)]\n",
      "expert 16 : [(' channel', 0.037872314453125), ('oun', 0.03668212890625), ('种', 0.036041259765625), ('ety', 0.035858154296875), ('�', 0.0355224609375)]\n",
      "expert 35 : [('idores', 0.6962890625), ('uder', 0.65625), ('扫黑除恶', 0.61572265625), ('uran', 0.61181640625), ('LineNo', 0.6044921875)]\n",
      "expert 39 : [('chet', 0.1884765625), ('ddot', 0.1866455078125), ('annels', 0.152587890625), ('ристи', 0.1514892578125), ('Document', 0.1474609375)]\n",
      "expert 49 : [('писани', 0.1883544921875), ('urch', 0.18359375), ('quina', 0.183349609375), ('stiques', 0.1827392578125), ('pendix', 0.177490234375)]\n",
      "expert 52 : [('��', 0.13427734375), ('ered', 0.1317138671875), ('urat', 0.1300048828125), ('ФА', 0.12420654296875), ('encions', 0.12139892578125)]\n",
      "expert 54 : [('SOUR', 0.398193359375), ('SSERT', 0.388916015625), ('娥', 0.388671875), ('esor', 0.380859375), ('habit', 0.380859375)]\n",
      "expert 1 : [('rivacy', 0.345703125), ('реща', 0.32373046875), ('гъ', 0.321533203125), ('стове', 0.31396484375), (' infin', 0.31201171875)]\n",
      "expert 8 : [('fess', 0.0445556640625), ('alera', 0.043853759765625), ('�起', 0.04180908203125), ('двиг', 0.0413818359375), (' Series', 0.041168212890625)]\n",
      "expert 14 : [('[...]', 0.1676025390625), ('olver', 0.1632080078125), ('ialize', 0.1614990234375), ('3', 0.160888671875), ('olin', 0.158203125)]\n",
      "expert 32 : [('4', 0.0858154296875), ('1', 0.085693359375), ('5', 0.0853271484375), ('2', 0.0797119140625), ('0', 0.07965087890625)]\n",
      "expert 38 : [(' dirigides', 0.14697265625), ('rosa', 0.13232421875), ('они', 0.1263427734375), ('材料的', 0.12457275390625), ('FilterChain', 0.124267578125)]\n",
      "expert 51 : [(' censats', 0.30419921875), ('quessa', 0.281494140625), ('DIF', 0.27001953125), ('quesos', 0.266845703125), (' асоциа', 0.25927734375)]\n",
      "expert 2 : [('read', 1.2255859375), (' read', 0.95556640625), (' чита', 0.7919921875), ('ya', 0.77001953125), ('读', 0.73828125)]\n",
      "expert 11 : [('rids', 0.037841796875), ('DL', 0.03704833984375), (' гори', 0.034393310546875), (' st', 0.0343017578125), ('kien', 0.03338623046875)]\n",
      "expert 27 : [('WithError', 0.234130859375), ('拳头', 0.2266845703125), ('Editar', 0.226318359375), ('кс', 0.2227783203125), ('oia', 0.22265625)]\n",
      "expert 37 : [('erset', 0.288330078125), ('axi', 0.284423828125), ('ax', 0.2734375), ('цеп', 0.25927734375), ('ainer', 0.2587890625)]\n",
      "expert 44 : [('pazocal', 0.327880859375), ('anca', 0.301025390625), ('rosa', 0.297119140625), ('kext', 0.29345703125), ('варя', 0.2919921875)]\n",
      "expert 54 : [('们', 0.157470703125), ('们的', 0.1182861328125), (' TORT', 0.10845947265625), ('如有关于', 0.10821533203125), ('endo', 0.1055908203125)]\n",
      "expert 1 : [('5', 0.61669921875), ('6', 0.546875), ('8', 0.53955078125), ('7', 0.5361328125), ('9', 0.52734375)]\n",
      "expert 15 : [(' marge', 0.1375732421875), ('uga', 0.1285400390625), ('疡', 0.1280517578125), ('omeu', 0.1273193359375), ('menys', 0.12548828125)]\n",
      "expert 18 : [('mani', 0.218994140625), ('ie', 0.1944580078125), ('vegeu', 0.1923828125), ('ipe', 0.1859130859375), ('дев', 0.1832275390625)]\n",
      "expert 34 : [(' Abs', 0.2152099609375), (' abs', 0.1988525390625), (' участие', 0.189208984375), ('esh', 0.18798828125), ('Hosts', 0.184814453125)]\n",
      "expert 50 : [('rdia', 0.416015625), (' Tor', 0.415283203125), ('Tor', 0.406005859375), (' \\\\&', 0.404541015625), ('regut', 0.395751953125)]\n",
      "expert 58 : [('зо', 0.198974609375), ('aret', 0.1810302734375), ('tric', 0.17578125), (' /', 0.17529296875), ('exe', 0.1749267578125)]\n",
      "expert 6 : [('рат', 0.299072265625), ('ingo', 0.292236328125), ('pendicular', 0.283447265625), ('swire', 0.275146484375), ('бин', 0.273681640625)]\n",
      "expert 9 : [('туа', 0.312255859375), ('ember', 0.308349609375), ('t', 0.2939453125), ('rado', 0.293212890625), ('ten', 0.28955078125)]\n",
      "expert 20 : [('pic', 0.322998046875), ('бни', 0.302734375), ('intilla', 0.2939453125), (' Conservatori', 0.292724609375), ('omor', 0.282470703125)]\n",
      "expert 26 : [('ueba', 0.194091796875), ('utats', 0.187744140625), ('istram', 0.183349609375), ('仅代表作者本人', 0.1617431640625), ('preview', 0.159912109375)]\n",
      "expert 39 : [('import', 5.85546875), ('from', 5.5078125), (' import', 4.6171875), ('rocod', 4.375), ('\\n', 4.37109375)]\n",
      "expert 52 : [('поле', 0.23681640625), ('CodeAttribute', 0.228759765625), ('Ша', 0.22705078125), ('fos', 0.224853515625), (' лесно', 0.2174072265625)]\n",
      "expert 2 : [('z', 0.438232421875), ('ph', 0.398681640625), ('H', 0.395751953125), ('-', 0.39404296875), (' Power', 0.39208984375)]\n",
      "expert 30 : [('ъд', 0.2098388671875), (' Кънчов', 0.2037353515625), ('ническата', 0.2034912109375), (' Кън', 0.1939697265625), ('estand', 0.1934814453125)]\n",
      "expert 32 : [('pedia', 0.10589599609375), ('iana', 0.1007080078125), ('ian', 0.09161376953125), ('adors', 0.08966064453125), (' зави', 0.087158203125)]\n",
      "expert 37 : [('лева', 1.0849609375), ('inction', 1.03125), ('lier', 0.994140625), ('ract', 0.9853515625), ('ulay', 0.9609375)]\n",
      "expert 47 : [('ishness', 1.6435546875), ('nesses', 1.6142578125), ('рите', 1.5166015625), ('Жени', 1.5048828125), ('рича', 1.4912109375)]\n",
      "expert 49 : [('read', 5.390625), (' envers', 5.296875), ('线的', 4.82421875), ('options', 4.69140625), ('oka', 4.55078125)]\n",
      "expert 19 : [('heard', 0.20703125), ('abr', 0.2069091796875), ('号的', 0.2020263671875), ('swire', 0.201171875), ('ings', 0.2005615234375)]\n",
      "expert 31 : [('igy', 0.037567138671875), ('рид', 0.03753662109375), ('anell', 0.03314208984375), ('ieri', 0.0313720703125), ('}$~\\\\', 0.0310211181640625)]\n",
      "expert 34 : [('ограф', 0.39013671875), ('гва', 0.3857421875), ('pany', 0.375), ('arre', 0.373779296875), ('coi', 0.3662109375)]\n",
      "expert 48 : [('ock', 0.361328125), ('tland', 0.34033203125), ('ycle', 0.330810546875), ('opol', 0.311279296875), ('ways', 0.308837890625)]\n",
      "expert 51 : [('月', 0.2239990234375), ('卉', 0.2109375), ('Of', 0.203125), ('照', 0.2030029296875), ('icent', 0.2021484375)]\n",
      "expert 61 : [(' Son', 0.30908203125), ('WIN', 0.305908203125), (' Spring', 0.29638671875), (' G', 0.28076171875), ('iling', 0.27490234375)]\n",
      "expert 4 : [('j', 0.029327392578125), ('g', 0.0221710205078125), ('ch', 0.0206756591796875), ('注', 0.020660400390625), ('or', 0.020111083984375)]\n",
      "expert 16 : [(' експе', 0.1558837890625), ('alesa', 0.150146484375), ('стру', 0.148681640625), (' ${{\\\\', 0.14697265625), ('epsfig', 0.1453857421875)]\n",
      "expert 20 : [('pur', 0.275634765625), ('irs', 0.26953125), ('Pl', 0.262939453125), (' K', 0.2393798828125), ('agine', 0.2335205078125)]\n",
      "expert 41 : [('doing', 0.29541015625), (' doing', 0.285888671875), (' seek', 0.25634765625), (' doin', 0.255615234375), ('do', 0.254638671875)]\n",
      "expert 50 : [('公共', 0.313232421875), ('ле', 0.30029296875), ('ardu', 0.297607421875), ('PIO', 0.291015625), ('лед', 0.290771484375)]\n",
      "expert 53 : [('mes', 0.79248046875), ('家常', 0.7470703125), ('xes', 0.728515625), ('json', 0.70361328125), (' dess', 0.69873046875)]\n",
      "expert 23 : [('淀', 0.3359375), ('┈', 0.31884765625), ('yx', 0.301513671875), ('yrus', 0.299560546875), ('рил', 0.298095703125)]\n",
      "expert 33 : [(' Noguera', 0.3779296875), ('Island', 0.34375), (' Negra', 0.337158203125), ('uita', 0.335205078125), ('ласт', 0.334716796875)]\n",
      "expert 40 : [('神', 0.19482421875), ('神的', 0.1754150390625), ('的神', 0.1722412109375), ('irections', 0.16015625), ('ague', 0.1575927734375)]\n",
      "expert 46 : [('隙', 0.1319580078125), ('arth', 0.130859375), (' de', 0.12255859375), ('柔', 0.1214599609375), ('lex', 0.11962890625)]\n",
      "expert 49 : [('move', 0.1968994140625), ('moved', 0.1868896484375), (' move', 0.1859130859375), ('moves', 0.1849365234375), ('Move', 0.1837158203125)]\n",
      "expert 63 : [('说', 0.1661376953125), ('点', 0.1646728515625), ('舍', 0.1607666015625), ('othes', 0.1593017578125), ('说她', 0.15869140625)]\n",
      "expert 2 : [('开', 0.401611328125), ('开展', 0.3203125), (' narrow', 0.318359375), ('imal', 0.315185546875), ('zul', 0.31494140625)]\n",
      "expert 5 : [(' Seny', 0.252685546875), ('jee', 0.251953125), ('след', 0.2496337890625), ('тати', 0.2427978515625), ('ji', 0.2412109375)]\n",
      "expert 18 : [('��', 0.1619873046875), ('��', 0.15966796875), ('down', 0.154296875), (' munt', 0.1529541015625), ('thems', 0.1512451171875)]\n",
      "expert 45 : [('ipp', 0.2265625), ('IPP', 0.2249755859375), ('ann', 0.218505859375), ('ITT', 0.2144775390625), ('ips', 0.20458984375)]\n",
      "expert 54 : [('iator', 0.154052734375), ('Окръг', 0.1239013671875), ('inats', 0.1239013671875), ('�', 0.1226806640625), ('oes', 0.12249755859375)]\n",
      "expert 62 : [(' do', 0.314697265625), ('do', 0.2744140625), ('\\tdo', 0.2349853515625), (' doing', 0.2305908203125), ('doing', 0.2247314453125)]\n",
      "expert 14 : [('opter', 0.7607421875), ('ктри', 0.73974609375), ('opters', 0.6318359375), ('tric', 0.60693359375), ('sort', 0.59033203125)]\n",
      "expert 24 : [('ities', 0.288330078125), ('Audi', 0.286865234375), ('7', 0.284423828125), ('百', 0.2705078125), ('0', 0.27001953125)]\n",
      "expert 36 : [('RET', 0.43359375), (' lim', 0.38525390625), ('acad', 0.371826171875), ('icast', 0.362060546875), ('Oper', 0.35498046875)]\n",
      "expert 41 : [(' involving', 1.830078125), ('ostes', 1.6259765625), (\"'>&\", 1.509765625), ('adoc', 1.50390625), ('wau', 1.5029296875)]\n",
      "expert 43 : [('cciones', 0.274169921875), ('析', 0.270751953125), (' зи', 0.2705078125), (' compress', 0.26806640625), ('排', 0.265380859375)]\n",
      "expert 49 : [('aulay', 0.291259765625), ('ardown', 0.263671875), ('fer', 0.23193359375), ('backer', 0.2159423828125), ('退', 0.2147216796875)]\n",
      "expert 0 : [(' do', 0.77978515625), (' make', 0.74169921875), ('create', 0.72998046875), (' create', 0.72216796875), (' append', 0.6845703125)]\n",
      "expert 16 : [('am', 0.2113037109375), ('en', 0.19189453125), ('los', 0.16064453125), ('ters', 0.15576171875), ('ter', 0.154296875)]\n",
      "expert 23 : [('父亲', 0.662109375), ('machine', 0.6591796875), ('imon', 0.6513671875), ('oman', 0.64306640625), (' форми', 0.61962890625)]\n",
      "expert 30 : [('立', 0.2724609375), ('matical', 0.267578125), ('校', 0.254638671875), ('dr', 0.2247314453125), (' account', 0.21484375)]\n",
      "expert 33 : [('ist', 0.26513671875), ('ROP', 0.263427734375), (' open', 0.252685546875), ('�', 0.251220703125), ('峻', 0.2418212890625)]\n",
      "expert 49 : [('abla', 0.2890625), ('helf', 0.278564453125), ('atively', 0.265380859375), ('TRANSL', 0.2413330078125), ('стични', 0.2337646484375)]\n",
      "expert 11 : [('penet', 0.1131591796875), ('“', 0.110595703125), ('uge', 0.10504150390625), ('\"', 0.10357666015625), ('伞', 0.0958251953125)]\n",
      "expert 15 : [('synthesize', 0.1656494140625), ('arnish', 0.162841796875), ('velope', 0.1591796875), (' passi', 0.156982421875), ('assel', 0.156494140625)]\n",
      "expert 35 : [(' B', 0.317138671875), (' H', 0.30078125), (' h', 0.27294921875), ('eppel', 0.27001953125), ('ername', 0.251953125)]\n",
      "expert 46 : [('ymmetries', 0.249755859375), ('воен', 0.2181396484375), (' //-->', 0.2064208984375), ('мисъл', 0.2047119140625), ('umst', 0.199951171875)]\n",
      "expert 55 : [(' one', 0.318115234375), (' not', 0.302001953125), (' so', 0.291259765625), (' out', 0.289306640625), (' last', 0.286376953125)]\n",
      "expert 59 : [(' bess', 0.122802734375), (' )^', 0.1204833984375), ('ExternalTask', 0.11993408203125), (' xar', 0.118896484375), ('arcely', 0.11590576171875)]\n"
     ]
    },
    {
     "data": {
      "application/vnd.plotly.v1+json": {
       "config": {
        "plotlyServerURL": "https://plot.ly"
       },
       "data": [
        {
         "hoverinfo": "text",
         "marker": {
          "color": [
           0.74951171875,
           0.67578125,
           0.03759765625,
           0.0430908203125,
           0.06341552734375,
           0.053741455078125,
           0.1719970703125,
           0.040435791015625,
           0.115478515625,
           1.5771484375,
           0.0219268798828125,
           1.205078125,
           0.11627197265625,
           0.029541015625,
           0.033172607421875,
           0.1971435546875,
           0.20751953125,
           1.6015625,
           0.10308837890625,
           0.212890625,
           0.0904541015625,
           0.2127685546875,
           0.06268310546875,
           0.06964111328125,
           0.359375,
           1.984375,
           0.0836181640625,
           0.379150390625,
           0.09112548828125,
           0.0826416015625,
           0.059844970703125,
           0.29345703125,
           0.431396484375,
           2.529296875,
           1.505859375,
           0.020050048828125,
           0.05224609375,
           0.01074981689453125,
           0.0304107666015625,
           0.0418701171875,
           0.5595703125,
           2.587890625,
           0.10821533203125,
           0.1373291015625,
           0.039459228515625,
           0.120361328125,
           0.1480712890625,
           0.11492919921875,
           0.499755859375,
           2.76953125,
           0.07073974609375,
           0.08544921875,
           0.20703125,
           0.1336669921875,
           0.015655517578125,
           0.09930419921875,
           0.70166015625,
           2.70703125,
           0.24462890625,
           0.2022705078125,
           0.16064453125,
           0.10821533203125,
           0.12200927734375,
           0.0733642578125,
           0.65869140625,
           2.703125,
           0.1114501953125,
           0.1083984375,
           0.146728515625,
           0.140380859375,
           0.12017822265625,
           0.0992431640625,
           0.720703125,
           3.890625,
           0.1591796875,
           0.0877685546875,
           0.10736083984375,
           0.0340576171875,
           1.6142578125,
           0.07781982421875,
           0.81982421875,
           4.1953125,
           0.1065673828125,
           0.2109375,
           1.1337890625,
           0.09136962890625,
           0.1822509765625,
           0.05950927734375,
           0.9140625,
           4.36328125,
           0.116455078125,
           0.129150390625,
           0.117919921875,
           0.09356689453125,
           0.1854248046875,
           0.54736328125,
           0.87255859375,
           4.5859375,
           0.195068359375,
           1.076171875,
           0.1864013671875,
           0.096923828125,
           0.035308837890625,
           0.211669921875,
           0.794921875,
           4.359375,
           0.08013916015625,
           0.1126708984375,
           0.1824951171875,
           0.53564453125,
           0.131103515625,
           0.23876953125,
           0.96875,
           4.765625,
           0.037872314453125,
           0.6962890625,
           0.1884765625,
           0.1883544921875,
           0.13427734375,
           0.398193359375,
           0.8681640625,
           5.12890625,
           0.345703125,
           0.0445556640625,
           0.1676025390625,
           0.0858154296875,
           0.14697265625,
           0.30419921875,
           0.8203125,
           18.5625,
           1.2255859375,
           0.037841796875,
           0.234130859375,
           0.288330078125,
           0.327880859375,
           0.157470703125,
           0.9150390625,
           18.28125,
           0.61669921875,
           0.1375732421875,
           0.218994140625,
           0.2152099609375,
           0.416015625,
           0.198974609375,
           1.0146484375,
           18.671875,
           0.299072265625,
           0.312255859375,
           0.322998046875,
           0.194091796875,
           5.85546875,
           0.23681640625,
           0.9228515625,
           23.96875,
           0.438232421875,
           0.2098388671875,
           0.10589599609375,
           1.0849609375,
           1.6435546875,
           5.390625,
           0.98046875,
           23.96875,
           0.20703125,
           0.037567138671875,
           0.39013671875,
           0.361328125,
           0.2239990234375,
           0.30908203125,
           0.96630859375,
           24.25,
           0.029327392578125,
           0.1558837890625,
           0.275634765625,
           0.29541015625,
           0.313232421875,
           0.79248046875,
           1.158203125,
           24.40625,
           0.3359375,
           0.3779296875,
           0.19482421875,
           0.1319580078125,
           0.1968994140625,
           0.1661376953125,
           1.3046875,
           24.6875,
           0.401611328125,
           0.252685546875,
           0.1619873046875,
           0.2265625,
           0.154052734375,
           0.314697265625,
           1.392578125,
           25.234375,
           0.7607421875,
           0.288330078125,
           0.43359375,
           1.830078125,
           0.274169921875,
           0.291259765625,
           4.7734375,
           29.578125,
           0.77978515625,
           0.2113037109375,
           0.662109375,
           0.2724609375,
           0.26513671875,
           0.2890625,
           8.5546875,
           38.84375,
           0.1131591796875,
           0.1656494140625,
           0.317138671875,
           0.249755859375,
           0.318115234375,
           0.122802734375,
           19.421875
          ],
          "colorbar": {
           "title": {
            "text": "logit value"
           }
          },
          "colorscale": [
           [
            0,
            "#440154"
           ],
           [
            0.1111111111111111,
            "#482878"
           ],
           [
            0.2222222222222222,
            "#3e4989"
           ],
           [
            0.3333333333333333,
            "#31688e"
           ],
           [
            0.4444444444444444,
            "#26828e"
           ],
           [
            0.5555555555555556,
            "#1f9e89"
           ],
           [
            0.6666666666666666,
            "#35b779"
           ],
           [
            0.7777777777777778,
            "#6ece58"
           ],
           [
            0.8888888888888888,
            "#b5de2b"
           ],
           [
            1,
            "#fde725"
           ]
          ],
          "showscale": true,
          "size": 20,
          "symbol": "square"
         },
         "mode": "markers",
         "text": [
          "Layer 0 Output:<br>固执: 0.750<br>建华: 0.668<br>wk: 0.667<br>ADO: 0.663<br>OTO: 0.651",
          "Layer 1 Output:<br>KF: 0.676<br>UTO: 0.667<br>ixa: 0.646<br>IVA: 0.620<br>看似: 0.611",
          "Layer 1 Expert 6:<br>Expert Weight: 0.039<br>pless: 0.038<br>vill: 0.036<br>дове: 0.035<br>blockList: 0.034<br>elev: 0.033",
          "Layer 1 Expert 7:<br>Expert Weight: 0.037<br>spaces: 0.043<br>uega: 0.041<br>ито: 0.039<br>actly: 0.038<br>noma: 0.037",
          "Layer 1 Expert 21:<br>Expert Weight: 0.052<br>负: 0.063<br>thr: 0.063<br>TB: 0.062<br>хай: 0.060<br>дни: 0.060",
          "Layer 1 Expert 46:<br>Expert Weight: 0.033<br>ovent: 0.054<br>yses: 0.052<br>нев: 0.052<br>itures: 0.050<br>palette: 0.049",
          "Layer 1 Expert 49:<br>Expert Weight: 0.064<br>rc: 0.172<br>autoritat: 0.170<br>rita: 0.167<br>eye: 0.167<br>erca: 0.167",
          "Layer 1 Expert 53:<br>Expert Weight: 0.032<br>gem: 0.040<br>indi: 0.040<br>inada: 0.038<br>速: 0.037<br> hers: 0.037",
          "Layer 1 Shared Experts:<br>特尔: 0.115<br>etter: 0.114<br>ondon: 0.112<br>раст: 0.112<br>pone: 0.112",
          "Layer 2 Output:<br> sinc: 1.577<br>дец: 1.463<br>Nay: 1.452<br>Сели: 1.380<br>вер: 1.374",
          "Layer 2 Expert 2:<br>Expert Weight: 0.021<br>snap: 0.022<br>heads: 0.022<br>head: 0.021<br>нове: 0.021<br>ouver: 0.021",
          "Layer 2 Expert 3:<br>Expert Weight: 0.339<br>itiu: 1.205<br> sinc: 1.184<br>uega: 1.124<br>дос: 1.117<br>вер: 1.106",
          "Layer 2 Expert 12:<br>Expert Weight: 0.021<br>启: 0.116<br>стви: 0.111<br>踏: 0.111<br>蒙: 0.110<br> C: 0.109",
          "Layer 2 Expert 30:<br>Expert Weight: 0.025<br>ndies: 0.030<br>华声: 0.025<br>прия: 0.025<br>inical: 0.024<br>bology: 0.024",
          "Layer 2 Expert 34:<br>Expert Weight: 0.026<br>onats: 0.033<br>wsdl: 0.032<br>odings: 0.032<br>тури: 0.031<br>ocats: 0.030",
          "Layer 2 Expert 61:<br>Expert Weight: 0.023<br>лей: 0.197<br> пролет: 0.189<br>�: 0.176<br>ister: 0.173<br>3: 0.168",
          "Layer 2 Shared Experts:<br>持: 0.208<br>~: 0.182<br>�: 0.180<br>[: 0.169<br>Dat: 0.166",
          "Layer 3 Output:<br>�: 1.602<br>SES: 1.475<br>astical: 1.467<br>вер: 1.467<br>bern: 1.434",
          "Layer 3 Expert 18:<br>Expert Weight: 0.078<br>�: 0.103<br>axy: 0.094<br> semblants: 0.092<br>消: 0.090<br> Schwennicke: 0.089",
          "Layer 3 Expert 33:<br>Expert Weight: 0.047<br>->__: 0.213<br>� : 0.203<br> suec: 0.192<br>бар: 0.192<br>рак: 0.182",
          "Layer 3 Expert 39:<br>Expert Weight: 0.061<br>фин: 0.090<br>май: 0.086<br>幸: 0.077<br>sections: 0.075<br>ODO: 0.074",
          "Layer 3 Expert 48:<br>Expert Weight: 0.112<br>isca: 0.213<br> longest: 0.169<br> point: 0.141<br>дан: 0.141<br>inel: 0.140",
          "Layer 3 Expert 49:<br>Expert Weight: 0.096<br> vides: 0.063<br>umbent: 0.061<br>Mile: 0.056<br>ascript: 0.056<br>ylus: 0.056",
          "Layer 3 Expert 51:<br>Expert Weight: 0.055<br>2: 0.070<br>1: 0.062<br>Rights: 0.061<br>漂: 0.059<br>vol: 0.058",
          "Layer 3 Shared Experts:<br>posa: 0.359<br>etext: 0.307<br>roqu: 0.303<br>errar: 0.285<br>CRS: 0.271",
          "Layer 4 Output:<br>IVA: 1.984<br>вер: 1.857<br>SES: 1.756<br>bern: 1.700<br>hyde: 1.686",
          "Layer 4 Expert 11:<br>Expert Weight: 0.064<br>alda: 0.084<br>PUBL: 0.079<br>лини: 0.074<br>的那样: 0.073<br> |-: 0.071",
          "Layer 4 Expert 14:<br>Expert Weight: 0.102<br>吸: 0.379<br> Аг: 0.329<br>бар: 0.328<br>透: 0.320<br>Throw: 0.311",
          "Layer 4 Expert 28:<br>Expert Weight: 0.039<br>irons: 0.091<br>пени: 0.090<br>тини: 0.087<br>=\"../../../../../../../../: 0.086<br>isely: 0.085",
          "Layer 4 Expert 45:<br>Expert Weight: 0.047<br>ი�: 0.083<br>нер: 0.076<br>eek: 0.075<br>erra: 0.074<br>ser: 0.073",
          "Layer 4 Expert 51:<br>Expert Weight: 0.048<br> PASS: 0.060<br>pass: 0.058<br>硬: 0.053<br>enes: 0.052<br>度: 0.052",
          "Layer 4 Expert 63:<br>Expert Weight: 0.085<br>盖: 0.293<br>盖上: 0.239<br> rule: 0.213<br> Лео: 0.210<br>Llista: 0.208",
          "Layer 4 Shared Experts:<br>arten: 0.431<br>ointers: 0.397<br>мпе: 0.396<br>bul: 0.378<br>ций: 0.376",
          "Layer 5 Output:<br>ertainly: 2.529<br>водство: 2.443<br>HCI: 2.412<br>вер: 2.283<br>SES: 2.281",
          "Layer 5 Expert 6:<br>Expert Weight: 0.584<br>积: 1.506<br> @: 1.505<br> cl: 1.339<br> Pro: 1.312<br>檬: 1.295",
          "Layer 5 Expert 13:<br>Expert Weight: 0.019<br>��: 0.020<br>urar: 0.018<br> norma: 0.015<br>肺: 0.015<br>emale: 0.015",
          "Layer 5 Expert 17:<br>Expert Weight: 0.019<br>oldt: 0.052<br>ocles: 0.046<br>dry: 0.044<br>estan: 0.044<br>eteria: 0.044",
          "Layer 5 Expert 24:<br>Expert Weight: 0.020<br>STRAINT: 0.011<br>pole: 0.008<br>适: 0.008<br>poles: 0.008<br>τε: 0.008",
          "Layer 5 Expert 41:<br>Expert Weight: 0.018<br>accion: 0.030<br>jgl: 0.030<br>abus: 0.030<br> desocup: 0.028<br>рт: 0.027",
          "Layer 5 Expert 50:<br>Expert Weight: 0.028<br>unic: 0.042<br>icle: 0.040<br>ress: 0.040<br>弦: 0.039<br>RESS: 0.038",
          "Layer 5 Shared Experts:<br>3: 0.560<br>0: 0.558<br>4: 0.556<br>1: 0.548<br>5: 0.546",
          "Layer 6 Output:<br>ertainly: 2.588<br>вер: 2.350<br>лия: 2.340<br>SES: 2.207<br>ensk: 2.152",
          "Layer 6 Expert 6:<br>Expert Weight: 0.052<br>ctrics: 0.108<br>า: 0.106<br>肪: 0.104<br>unitats: 0.102<br> сим: 0.101",
          "Layer 6 Expert 34:<br>Expert Weight: 0.069<br>ossa: 0.137<br>xim: 0.120<br>lox: 0.120<br>elt: 0.119<br>免费咨询电话: 0.119",
          "Layer 6 Expert 48:<br>Expert Weight: 0.112<br>ittings: 0.039<br>肋: 0.039<br>plural: 0.038<br>ames: 0.037<br>INSEE: 0.037",
          "Layer 6 Expert 52:<br>Expert Weight: 0.062<br>stab: 0.120<br>责任的: 0.120<br>izzard: 0.117<br>сност: 0.117<br>istat: 0.111",
          "Layer 6 Expert 61:<br>Expert Weight: 0.055<br> местни: 0.148<br>escut: 0.126<br>inoa: 0.120<br>iboot: 0.116<br>搏: 0.116",
          "Layer 6 Expert 62:<br>Expert Weight: 0.060<br>�: 0.115<br>钉: 0.101<br>LTS: 0.099<br>漫: 0.097<br> marc: 0.097",
          "Layer 6 Shared Experts:<br>刷: 0.500<br>edd: 0.488<br> гро: 0.467<br> Бор: 0.459<br>STAR: 0.459",
          "Layer 7 Output:<br>ertainly: 2.770<br>лия: 2.562<br>вер: 2.434<br>цев: 2.334<br>负荷: 2.320",
          "Layer 7 Expert 13:<br>Expert Weight: 0.045<br>��: 0.071<br> bodies: 0.059<br>rip: 0.056<br> Bodies: 0.053<br>ps: 0.051",
          "Layer 7 Expert 14:<br>Expert Weight: 0.057<br>tee: 0.085<br>yson: 0.082<br>憬: 0.082<br>角: 0.081<br>ained: 0.080",
          "Layer 7 Expert 31:<br>Expert Weight: 0.083<br>Окръг: 0.207<br>сил: 0.177<br>feller: 0.160<br>mbol: 0.160<br>дръ: 0.154",
          "Layer 7 Expert 40:<br>Expert Weight: 0.049<br>евру: 0.134<br>��: 0.130<br>estern: 0.127<br>ymbol: 0.126<br>ковник: 0.124",
          "Layer 7 Expert 45:<br>Expert Weight: 0.075<br>eness: 0.016<br>oro: 0.014<br>ness: 0.013<br>imple: 0.013<br>antrop: 0.013",
          "Layer 7 Expert 60:<br>Expert Weight: 0.061<br>aresme: 0.099<br>rfloor: 0.096<br>regut: 0.096<br>restant: 0.096<br> Borde: 0.089",
          "Layer 7 Shared Experts:<br>inari: 0.702<br>EqualTo: 0.637<br>бия: 0.561<br>ellations: 0.556<br>afford: 0.550",
          "Layer 8 Output:<br>HCI: 2.707<br>вер: 2.682<br>лия: 2.584<br>SES: 2.535<br>ertainly: 2.477",
          "Layer 8 Expert 12:<br>Expert Weight: 0.102<br>ife: 0.245<br>evo: 0.242<br>licks: 0.238<br>efi: 0.227<br>мера: 0.217",
          "Layer 8 Expert 14:<br>Expert Weight: 0.101<br> Loading: 0.202<br>机: 0.196<br>场上: 0.191<br>机组: 0.183<br>čí: 0.182",
          "Layer 8 Expert 23:<br>Expert Weight: 0.062<br>ificaci: 0.161<br>ieft: 0.160<br>ificat: 0.154<br>toire: 0.148<br>LENT: 0.148",
          "Layer 8 Expert 44:<br>Expert Weight: 0.044<br>tols: 0.108<br> себе: 0.100<br>uil: 0.099<br>нома: 0.095<br>COMPI: 0.094",
          "Layer 8 Expert 46:<br>Expert Weight: 0.052<br> themselves: 0.122<br>themselves: 0.100<br> assertNotNull: 0.100<br>朋: 0.097<br> each: 0.094",
          "Layer 8 Expert 50:<br>Expert Weight: 0.046<br>бран: 0.073<br>luck: 0.069<br>=\"__: 0.068<br> permalink: 0.068<br>定的: 0.068",
          "Layer 8 Shared Experts:<br>лата: 0.659<br>comm: 0.624<br>COMM: 0.605<br>茨: 0.603<br>bott: 0.601",
          "Layer 9 Output:<br>ertainly: 2.703<br>HCI: 2.568<br>вер: 2.455<br>topNav: 2.438<br>лия: 2.375",
          "Layer 9 Expert 12:<br>Expert Weight: 0.045<br>opolitan: 0.111<br>зи: 0.111<br>ylene: 0.110<br>евру: 0.104<br> senz: 0.104",
          "Layer 9 Expert 13:<br>Expert Weight: 0.052<br> същест: 0.108<br> ръковод: 0.107<br>ondre: 0.105<br>ptime: 0.105<br>Llib: 0.105",
          "Layer 9 Expert 30:<br>Expert Weight: 0.060<br>brig: 0.147<br>Partit: 0.135<br>мък: 0.131<br>ляр: 0.129<br>они: 0.129",
          "Layer 9 Expert 39:<br>Expert Weight: 0.053<br>дир: 0.140<br>utch: 0.134<br>anol: 0.132<br> WARRANT: 0.122<br>allels: 0.120",
          "Layer 9 Expert 55:<br>Expert Weight: 0.054<br>regu: 0.120<br>llib: 0.111<br>лим: 0.108<br> void: 0.107<br>брехт: 0.106",
          "Layer 9 Expert 57:<br>Expert Weight: 0.043<br>卸: 0.099<br>двиг: 0.086<br>дев: 0.086<br> тит: 0.085<br>换: 0.084",
          "Layer 9 Shared Experts:<br>嘘: 0.721<br>icas: 0.678<br> VAC: 0.677<br>��: 0.669<br> nont: 0.655",
          "Layer 10 Output:<br>astre: 3.891<br>ertainly: 3.686<br>KF: 3.443<br>}^*(: 3.422<br>вер: 3.363",
          "Layer 10 Expert 23:<br>Expert Weight: 0.055<br>RL: 0.159<br>win: 0.155<br>@: 0.149<br> Rip: 0.143<br> Defined: 0.142",
          "Layer 10 Expert 34:<br>Expert Weight: 0.042<br>��: 0.088<br>$-: 0.073<br> Base: 0.072<br>ams: 0.071<br>тури: 0.071",
          "Layer 10 Expert 35:<br>Expert Weight: 0.033<br>plusplus: 0.107<br>копа: 0.101<br>vies: 0.094<br>utad: 0.093<br>adesh: 0.089",
          "Layer 10 Expert 45:<br>Expert Weight: 0.043<br>inclo: 0.034<br>lega: 0.033<br>SPHINX: 0.033<br>ober: 0.032<br>��: 0.032",
          "Layer 10 Expert 56:<br>Expert Weight: 0.191<br>油: 1.614<br>油的: 1.595<br>тай: 1.544<br>\">(</: 1.513<br>astre: 1.461",
          "Layer 10 Expert 57:<br>Expert Weight: 0.045<br>iceless: 0.078<br>ices: 0.078<br>}$~\\: 0.076<br>温: 0.076<br> тона: 0.075",
          "Layer 10 Shared Experts:<br> Comen: 0.820<br>徘徊: 0.773<br> consum: 0.741<br>在地: 0.728<br>匆匆: 0.710",
          "Layer 11 Output:<br>astre: 4.195<br>ionista: 3.863<br>oport: 3.584<br>翼翼: 3.564<br>вер: 3.531",
          "Layer 11 Expert 0:<br>Expert Weight: 0.029<br>oten: 0.107<br>Община: 0.105<br> Bread: 0.100<br>moz: 0.096<br>crystal: 0.093",
          "Layer 11 Expert 19:<br>Expert Weight: 0.061<br>8: 0.211<br>5: 0.205<br>0: 0.204<br>3: 0.204<br>4: 0.201",
          "Layer 11 Expert 24:<br>Expert Weight: 0.259<br>ance: 1.134<br>yst: 1.026<br>�: 0.997<br>arial: 0.941<br>�: 0.937",
          "Layer 11 Expert 40:<br>Expert Weight: 0.030<br> Noguera: 0.091<br>8: 0.089<br>0: 0.087<br>2: 0.086<br>3: 0.083",
          "Layer 11 Expert 62:<br>Expert Weight: 0.033<br>thon: 0.182<br> tack: 0.141<br>rror: 0.133<br>вежда: 0.127<br>LO: 0.127",
          "Layer 11 Expert 63:<br>Expert Weight: 0.029<br>神器: 0.060<br>moj: 0.059<br> кур: 0.058<br>spaces: 0.057<br>ancourt: 0.057",
          "Layer 11 Shared Experts:<br>bein: 0.914<br>рети: 0.859<br> interf: 0.793<br>twig: 0.786<br>elm: 0.785",
          "Layer 12 Output:<br>astre: 4.363<br>ionista: 3.797<br>HEL: 3.611<br>Hab: 3.582<br>hab: 3.547",
          "Layer 12 Expert 4:<br>Expert Weight: 0.035<br>航: 0.116<br>мула: 0.108<br>err: 0.103<br>谁的: 0.102<br>红旗: 0.100",
          "Layer 12 Expert 8:<br>Expert Weight: 0.044<br>icat: 0.129<br>het: 0.125<br>AP: 0.124<br>opsi: 0.124<br>ap: 0.123",
          "Layer 12 Expert 18:<br>Expert Weight: 0.045<br>ene: 0.118<br>phant: 0.117<br>OBJ: 0.116<br> her: 0.114<br>hol: 0.112",
          "Layer 12 Expert 42:<br>Expert Weight: 0.039<br>Phabricator: 0.094<br>esModule: 0.084<br>orh: 0.082<br>AXB: 0.077<br>leftmargin: 0.077",
          "Layer 12 Expert 45:<br>Expert Weight: 0.064<br>сер: 0.185<br>ramer: 0.165<br> ext: 0.154<br>urrent: 0.154<br> net: 0.144",
          "Layer 12 Expert 54:<br>Expert Weight: 0.033<br>aun: 0.547<br> crida: 0.534<br> NP: 0.514<br> consta: 0.512<br>ambo: 0.504",
          "Layer 12 Shared Experts:<br>elian: 0.873<br> relle: 0.844<br> дума: 0.809<br>enery: 0.794<br>нена: 0.791",
          "Layer 13 Output:<br>astre: 4.586<br>HEL: 3.980<br>�: 3.969<br>Hab: 3.961<br>ially: 3.939",
          "Layer 13 Expert 11:<br>Expert Weight: 0.065<br>IMIT: 0.195<br> tabs: 0.190<br>Вън: 0.182<br>mbf: 0.175<br> tab: 0.174",
          "Layer 13 Expert 13:<br>Expert Weight: 0.080<br>�: 1.076<br>�: 1.039<br>asso: 0.997<br>ние: 0.993<br>imus: 0.965",
          "Layer 13 Expert 15:<br>Expert Weight: 0.042<br>成功: 0.186<br>不幸: 0.165<br> c: 0.160<br>端: 0.153<br>成功的: 0.153",
          "Layer 13 Expert 37:<br>Expert Weight: 0.033<br>thia: 0.097<br>lectuals: 0.094<br> апа: 0.094<br>uesa: 0.092<br>otec: 0.091",
          "Layer 13 Expert 51:<br>Expert Weight: 0.034<br>orno: 0.035<br>oce: 0.032<br> Vend: 0.032<br> moves: 0.031<br>бни: 0.031",
          "Layer 13 Expert 58:<br>Expert Weight: 0.052<br>фера: 0.212<br>|}: 0.200<br>це: 0.196<br>verage: 0.196<br> parlant: 0.188",
          "Layer 13 Shared Experts:<br>华声: 0.795<br>asio: 0.791<br>amina: 0.782<br>дел: 0.746<br>дал: 0.715",
          "Layer 14 Output:<br>astre: 4.359<br>ially: 4.293<br>SEL: 4.141<br>�: 4.062<br>ABLE: 4.008",
          "Layer 14 Expert 0:<br>Expert Weight: 0.057<br>ager: 0.080<br>珠: 0.080<br>lier: 0.078<br> version: 0.074<br> token: 0.074",
          "Layer 14 Expert 8:<br>Expert Weight: 0.042<br>黄: 0.113<br>偶: 0.107<br>ollen: 0.099<br>-: 0.096<br>irat: 0.096",
          "Layer 14 Expert 19:<br>Expert Weight: 0.048<br>lars: 0.182<br>restant: 0.171<br>�: 0.170<br>ultors: 0.169<br>子里: 0.164",
          "Layer 14 Expert 23:<br>Expert Weight: 0.047<br>cret: 0.536<br> Camera: 0.529<br> camera: 0.525<br>camera: 0.505<br> powers: 0.504",
          "Layer 14 Expert 58:<br>Expert Weight: 0.054<br>ilyn: 0.131<br>ilitats: 0.125<br>OrUpdate: 0.123<br> Sitter: 0.123<br>ilog: 0.121",
          "Layer 14 Expert 60:<br>Expert Weight: 0.044<br> l: 0.239<br>辈: 0.233<br>ref: 0.228<br>off: 0.217<br>able: 0.206",
          "Layer 14 Shared Experts:<br>昭: 0.969<br>嘘: 0.942<br>aks: 0.777<br>ZW: 0.768<br>严格执行: 0.764",
          "Layer 15 Output:<br> exemple: 4.766<br>ially: 4.625<br>XF: 4.430<br>横: 4.297<br>astre: 4.285",
          "Layer 15 Expert 16:<br>Expert Weight: 0.131<br> channel: 0.038<br>oun: 0.037<br>种: 0.036<br>ety: 0.036<br>�: 0.036",
          "Layer 15 Expert 35:<br>Expert Weight: 0.030<br>idores: 0.696<br>uder: 0.656<br>扫黑除恶: 0.616<br>uran: 0.612<br>LineNo: 0.604",
          "Layer 15 Expert 39:<br>Expert Weight: 0.053<br>chet: 0.188<br>ddot: 0.187<br>annels: 0.153<br>ристи: 0.151<br>Document: 0.147",
          "Layer 15 Expert 49:<br>Expert Weight: 0.051<br>писани: 0.188<br>urch: 0.184<br>quina: 0.183<br>stiques: 0.183<br>pendix: 0.177",
          "Layer 15 Expert 52:<br>Expert Weight: 0.057<br>��: 0.134<br>ered: 0.132<br>urat: 0.130<br>ФА: 0.124<br>encions: 0.121",
          "Layer 15 Expert 54:<br>Expert Weight: 0.094<br>SOUR: 0.398<br>SSERT: 0.389<br>娥: 0.389<br>esor: 0.381<br>habit: 0.381",
          "Layer 15 Shared Experts:<br>unger: 0.868<br>氏: 0.810<br>jem: 0.793<br>umber: 0.792<br>($\\: 0.783",
          "Layer 16 Output:<br>XF: 5.129<br>ially: 4.852<br>VF: 4.648<br>ACA: 4.609<br> exemple: 4.539",
          "Layer 16 Expert 1:<br>Expert Weight: 0.086<br>rivacy: 0.346<br>реща: 0.324<br>гъ: 0.322<br>стове: 0.314<br> infin: 0.312",
          "Layer 16 Expert 8:<br>Expert Weight: 0.038<br>fess: 0.045<br>alera: 0.044<br>�起: 0.042<br>двиг: 0.041<br> Series: 0.041",
          "Layer 16 Expert 14:<br>Expert Weight: 0.051<br>[...]: 0.168<br>olver: 0.163<br>ialize: 0.161<br>3: 0.161<br>olin: 0.158",
          "Layer 16 Expert 32:<br>Expert Weight: 0.040<br>4: 0.086<br>1: 0.086<br>5: 0.085<br>2: 0.080<br>0: 0.080",
          "Layer 16 Expert 38:<br>Expert Weight: 0.040<br> dirigides: 0.147<br>rosa: 0.132<br>они: 0.126<br>材料的: 0.125<br>FilterChain: 0.124",
          "Layer 16 Expert 51:<br>Expert Weight: 0.049<br> censats: 0.304<br>quessa: 0.281<br>DIF: 0.270<br>quesos: 0.267<br> асоциа: 0.259",
          "Layer 16 Shared Experts:<br>摆在: 0.820<br>ixel: 0.790<br>\\&: 0.786<br>\\/: 0.765<br>brick: 0.741",
          "Layer 17 Output:<br>read: 18.562<br>DataFrame: 13.984<br> read: 13.984<br>io: 11.789<br> reads: 11.742",
          "Layer 17 Expert 2:<br>Expert Weight: 0.442<br>read: 1.226<br> read: 0.956<br> чита: 0.792<br>ya: 0.770<br>读: 0.738",
          "Layer 17 Expert 11:<br>Expert Weight: 0.021<br>rids: 0.038<br>DL: 0.037<br> гори: 0.034<br> st: 0.034<br>kien: 0.033",
          "Layer 17 Expert 27:<br>Expert Weight: 0.067<br>WithError: 0.234<br>拳头: 0.227<br>Editar: 0.226<br>кс: 0.223<br>oia: 0.223",
          "Layer 17 Expert 37:<br>Expert Weight: 0.026<br>erset: 0.288<br>axi: 0.284<br>ax: 0.273<br>цеп: 0.259<br>ainer: 0.259",
          "Layer 17 Expert 44:<br>Expert Weight: 0.028<br>pazocal: 0.328<br>anca: 0.301<br>rosa: 0.297<br>kext: 0.293<br>варя: 0.292",
          "Layer 17 Expert 54:<br>Expert Weight: 0.036<br>们: 0.157<br>们的: 0.118<br> TORT: 0.108<br>如有关于: 0.108<br>endo: 0.106",
          "Layer 17 Shared Experts:<br>annel: 0.915<br>滔: 0.884<br>lemma: 0.846<br>zoom: 0.833<br>cle: 0.806",
          "Layer 18 Output:<br>read: 18.281<br> read: 13.828<br>DataFrame: 13.641<br> reads: 11.781<br>io: 11.148",
          "Layer 18 Expert 1:<br>Expert Weight: 0.073<br>5: 0.617<br>6: 0.547<br>8: 0.540<br>7: 0.536<br>9: 0.527",
          "Layer 18 Expert 15:<br>Expert Weight: 0.033<br> marge: 0.138<br>uga: 0.129<br>疡: 0.128<br>omeu: 0.127<br>menys: 0.125",
          "Layer 18 Expert 18:<br>Expert Weight: 0.050<br>mani: 0.219<br>ie: 0.194<br>vegeu: 0.192<br>ipe: 0.186<br>дев: 0.183",
          "Layer 18 Expert 34:<br>Expert Weight: 0.039<br> Abs: 0.215<br> abs: 0.199<br> участие: 0.189<br>esh: 0.188<br>Hosts: 0.185",
          "Layer 18 Expert 50:<br>Expert Weight: 0.093<br>rdia: 0.416<br> Tor: 0.415<br>Tor: 0.406<br> \\&: 0.405<br>regut: 0.396",
          "Layer 18 Expert 58:<br>Expert Weight: 0.044<br>зо: 0.199<br>aret: 0.181<br>tric: 0.176<br> /: 0.175<br>exe: 0.175",
          "Layer 18 Shared Experts:<br>issos: 1.015<br>ssos: 1.003<br>havior: 0.823<br>deos: 0.823<br> тона: 0.817",
          "Layer 19 Output:<br>read: 18.672<br> read: 13.742<br>DataFrame: 13.242<br> reads: 11.688<br>reads: 11.164",
          "Layer 19 Expert 6:<br>Expert Weight: 0.043<br>рат: 0.299<br>ingo: 0.292<br>pendicular: 0.283<br>swire: 0.275<br>бин: 0.274",
          "Layer 19 Expert 9:<br>Expert Weight: 0.071<br>туа: 0.312<br>ember: 0.308<br>t: 0.294<br>rado: 0.293<br>ten: 0.290",
          "Layer 19 Expert 20:<br>Expert Weight: 0.047<br>pic: 0.323<br>бни: 0.303<br>intilla: 0.294<br> Conservatori: 0.293<br>omor: 0.282",
          "Layer 19 Expert 26:<br>Expert Weight: 0.047<br>ueba: 0.194<br>utats: 0.188<br>istram: 0.183<br>仅代表作者本人: 0.162<br>preview: 0.160",
          "Layer 19 Expert 39:<br>Expert Weight: 0.062<br>import: 5.855<br>from: 5.508<br> import: 4.617<br>rocod: 4.375<br>\n: 4.371",
          "Layer 19 Expert 52:<br>Expert Weight: 0.059<br>поле: 0.237<br>CodeAttribute: 0.229<br>Ша: 0.227<br>fos: 0.225<br> лесно: 0.217",
          "Layer 19 Shared Experts:<br>vity: 0.923<br>ariant: 0.885<br>仅代表作者本人观点: 0.884<br> squire: 0.861<br>Marshaller: 0.859",
          "Layer 20 Output:<br>read: 23.969<br>DataFrame: 18.109<br> read: 16.750<br>reads: 14.250<br> reads: 13.961",
          "Layer 20 Expert 2:<br>Expert Weight: 0.035<br>z: 0.438<br>ph: 0.399<br>H: 0.396<br>-: 0.394<br> Power: 0.392",
          "Layer 20 Expert 30:<br>Expert Weight: 0.043<br>ъд: 0.210<br> Кънчов: 0.204<br>ническата: 0.203<br> Кън: 0.194<br>estand: 0.193",
          "Layer 20 Expert 32:<br>Expert Weight: 0.022<br>pedia: 0.106<br>iana: 0.101<br>ian: 0.092<br>adors: 0.090<br> зави: 0.087",
          "Layer 20 Expert 37:<br>Expert Weight: 0.028<br>лева: 1.085<br>inction: 1.031<br>lier: 0.994<br>ract: 0.985<br>ulay: 0.961",
          "Layer 20 Expert 47:<br>Expert Weight: 0.017<br>ishness: 1.644<br>nesses: 1.614<br>рите: 1.517<br>Жени: 1.505<br>рича: 1.491",
          "Layer 20 Expert 49:<br>Expert Weight: 0.487<br>read: 5.391<br> envers: 5.297<br>线的: 4.824<br>options: 4.691<br>oka: 4.551",
          "Layer 20 Shared Experts:<br>thems: 0.980<br>vos: 0.932<br> r: 0.874<br>adders: 0.863<br>velle: 0.842",
          "Layer 21 Output:<br>read: 23.969<br>DataFrame: 17.750<br> read: 16.375<br>reads: 13.984<br> reads: 13.914",
          "Layer 21 Expert 19:<br>Expert Weight: 0.042<br>heard: 0.207<br>abr: 0.207<br>号的: 0.202<br>swire: 0.201<br>ings: 0.201",
          "Layer 21 Expert 31:<br>Expert Weight: 0.041<br>igy: 0.038<br>рид: 0.038<br>anell: 0.033<br>ieri: 0.031<br>}$~\\: 0.031",
          "Layer 21 Expert 34:<br>Expert Weight: 0.083<br>ограф: 0.390<br>гва: 0.386<br>pany: 0.375<br>arre: 0.374<br>coi: 0.366",
          "Layer 21 Expert 48:<br>Expert Weight: 0.058<br>ock: 0.361<br>tland: 0.340<br>ycle: 0.331<br>opol: 0.311<br>ways: 0.309",
          "Layer 21 Expert 51:<br>Expert Weight: 0.043<br>月: 0.224<br>卉: 0.211<br>Of: 0.203<br>照: 0.203<br>icent: 0.202",
          "Layer 21 Expert 61:<br>Expert Weight: 0.061<br> Son: 0.309<br>WIN: 0.306<br> Spring: 0.296<br> G: 0.281<br>iling: 0.275",
          "Layer 21 Shared Experts:<br>jul: 0.966<br>tty: 0.953<br>uner: 0.946<br>чини: 0.909<br>rivation: 0.906",
          "Layer 22 Output:<br>read: 24.250<br>DataFrame: 17.969<br> read: 15.992<br>READ: 14.102<br>reads: 13.898",
          "Layer 22 Expert 4:<br>Expert Weight: 0.071<br>j: 0.029<br>g: 0.022<br>ch: 0.021<br>注: 0.021<br>or: 0.020",
          "Layer 22 Expert 16:<br>Expert Weight: 0.053<br> експе: 0.156<br>alesa: 0.150<br>стру: 0.149<br> ${{\\: 0.147<br>epsfig: 0.145",
          "Layer 22 Expert 20:<br>Expert Weight: 0.044<br>pur: 0.276<br>irs: 0.270<br>Pl: 0.263<br> K: 0.239<br>agine: 0.234",
          "Layer 22 Expert 41:<br>Expert Weight: 0.036<br>doing: 0.295<br> doing: 0.286<br> seek: 0.256<br> doin: 0.256<br>do: 0.255",
          "Layer 22 Expert 50:<br>Expert Weight: 0.045<br>公共: 0.313<br>ле: 0.300<br>ardu: 0.298<br>PIO: 0.291<br>лед: 0.291",
          "Layer 22 Expert 53:<br>Expert Weight: 0.041<br>mes: 0.792<br>家常: 0.747<br>xes: 0.729<br>json: 0.704<br> dess: 0.699",
          "Layer 22 Shared Experts:<br>wered: 1.158<br>exion: 0.919<br>anum: 0.897<br>欣: 0.894<br>duck: 0.855",
          "Layer 23 Output:<br>read: 24.406<br>DataFrame: 17.891<br> read: 15.969<br>READ: 14.148<br>reads: 13.805",
          "Layer 23 Expert 23:<br>Expert Weight: 0.051<br>淀: 0.336<br>┈: 0.319<br>yx: 0.302<br>yrus: 0.300<br>рил: 0.298",
          "Layer 23 Expert 33:<br>Expert Weight: 0.059<br> Noguera: 0.378<br>Island: 0.344<br> Negra: 0.337<br>uita: 0.335<br>ласт: 0.335",
          "Layer 23 Expert 40:<br>Expert Weight: 0.036<br>神: 0.195<br>神的: 0.175<br>的神: 0.172<br>irections: 0.160<br>ague: 0.158",
          "Layer 23 Expert 46:<br>Expert Weight: 0.032<br>隙: 0.132<br>arth: 0.131<br> de: 0.123<br>柔: 0.121<br>lex: 0.120",
          "Layer 23 Expert 49:<br>Expert Weight: 0.035<br>move: 0.197<br>moved: 0.187<br> move: 0.186<br>moves: 0.185<br>Move: 0.184",
          "Layer 23 Expert 63:<br>Expert Weight: 0.036<br>说: 0.166<br>点: 0.165<br>舍: 0.161<br>othes: 0.159<br>说她: 0.159",
          "Layer 23 Shared Experts:<br>_.--: 1.305<br>ateries: 1.303<br>psfrag: 1.270<br>arrings: 1.248<br>西哥: 1.242",
          "Layer 24 Output:<br>read: 24.688<br>DataFrame: 17.953<br> read: 16.359<br>READ: 14.141<br>reads: 13.938",
          "Layer 24 Expert 2:<br>Expert Weight: 0.032<br>开: 0.402<br>开展: 0.320<br> narrow: 0.318<br>imal: 0.315<br>zul: 0.315",
          "Layer 24 Expert 5:<br>Expert Weight: 0.050<br> Seny: 0.253<br>jee: 0.252<br>след: 0.250<br>тати: 0.243<br>ji: 0.241",
          "Layer 24 Expert 18:<br>Expert Weight: 0.028<br>��: 0.162<br>��: 0.160<br>down: 0.154<br> munt: 0.153<br>thems: 0.151",
          "Layer 24 Expert 45:<br>Expert Weight: 0.037<br>ipp: 0.227<br>IPP: 0.225<br>ann: 0.219<br>ITT: 0.214<br>ips: 0.205",
          "Layer 24 Expert 54:<br>Expert Weight: 0.035<br>iator: 0.154<br>Окръг: 0.124<br>inats: 0.124<br>�: 0.123<br>oes: 0.122",
          "Layer 24 Expert 62:<br>Expert Weight: 0.056<br> do: 0.315<br>do: 0.274<br>\tdo: 0.235<br> doing: 0.231<br>doing: 0.225",
          "Layer 24 Shared Experts:<br> : 1.393<br>gages: 1.026<br>sf: 1.020<br> m: 0.974<br>dies: 0.972",
          "Layer 25 Output:<br>read: 25.234<br>DataFrame: 18.109<br> read: 16.750<br>io: 14.664<br>READ: 14.469",
          "Layer 25 Expert 14:<br>Expert Weight: 0.068<br>opter: 0.761<br>ктри: 0.740<br>opters: 0.632<br>tric: 0.607<br>sort: 0.590",
          "Layer 25 Expert 24:<br>Expert Weight: 0.038<br>ities: 0.288<br>Audi: 0.287<br>7: 0.284<br>百: 0.271<br>0: 0.270",
          "Layer 25 Expert 36:<br>Expert Weight: 0.055<br>RET: 0.434<br> lim: 0.385<br>acad: 0.372<br>icast: 0.362<br>Oper: 0.355",
          "Layer 25 Expert 41:<br>Expert Weight: 0.062<br> involving: 1.830<br>ostes: 1.626<br>'>&: 1.510<br>adoc: 1.504<br>wau: 1.503",
          "Layer 25 Expert 43:<br>Expert Weight: 0.047<br>cciones: 0.274<br>析: 0.271<br> зи: 0.271<br> compress: 0.268<br>排: 0.265",
          "Layer 25 Expert 49:<br>Expert Weight: 0.040<br>aulay: 0.291<br>ardown: 0.264<br>fer: 0.232<br>backer: 0.216<br>退: 0.215",
          "Layer 25 Shared Experts:<br>,: 4.773<br> : 4.316<br>\n: 4.301<br>.: 3.379<br> (: 3.301",
          "Layer 26 Output:<br>read: 29.578<br> read: 21.656<br>DataFrame: 21.500<br>\n: 19.438<br>Read: 18.734",
          "Layer 26 Expert 0:<br>Expert Weight: 0.070<br> do: 0.780<br> make: 0.742<br>create: 0.730<br> create: 0.722<br> append: 0.685",
          "Layer 26 Expert 16:<br>Expert Weight: 0.039<br>am: 0.211<br>en: 0.192<br>los: 0.161<br>ters: 0.156<br>ter: 0.154",
          "Layer 26 Expert 23:<br>Expert Weight: 0.131<br>父亲: 0.662<br>machine: 0.659<br>imon: 0.651<br>oman: 0.643<br> форми: 0.620",
          "Layer 26 Expert 30:<br>Expert Weight: 0.041<br>立: 0.272<br>matical: 0.268<br>校: 0.255<br>dr: 0.225<br> account: 0.215",
          "Layer 26 Expert 33:<br>Expert Weight: 0.050<br>ist: 0.265<br>ROP: 0.263<br> open: 0.253<br>�: 0.251<br>峻: 0.242",
          "Layer 26 Expert 49:<br>Expert Weight: 0.050<br>abla: 0.289<br>helf: 0.279<br>atively: 0.265<br>TRANSL: 0.241<br>стични: 0.234",
          "Layer 26 Shared Experts:<br> : 8.555<br>,: 7.789<br>\n: 7.676<br>.: 7.289<br> *: 7.047",
          "Layer 27 Output:<br>read: 38.844<br>DataFrame: 32.219<br>\n: 31.922<br> read: 30.938<br> : 29.188",
          "Layer 27 Expert 11:<br>Expert Weight: 0.041<br>penet: 0.113<br>“: 0.111<br>uge: 0.105<br>\": 0.104<br>伞: 0.096",
          "Layer 27 Expert 15:<br>Expert Weight: 0.052<br>synthesize: 0.166<br>arnish: 0.163<br>velope: 0.159<br> passi: 0.157<br>assel: 0.156",
          "Layer 27 Expert 35:<br>Expert Weight: 0.039<br> B: 0.317<br> H: 0.301<br> h: 0.273<br>eppel: 0.270<br>ername: 0.252",
          "Layer 27 Expert 46:<br>Expert Weight: 0.055<br>ymmetries: 0.250<br>воен: 0.218<br> //-->: 0.206<br>мисъл: 0.205<br>umst: 0.200",
          "Layer 27 Expert 55:<br>Expert Weight: 0.037<br> one: 0.318<br> not: 0.302<br> so: 0.291<br> out: 0.289<br> last: 0.286",
          "Layer 27 Expert 59:<br>Expert Weight: 0.035<br> bess: 0.123<br> )^: 0.120<br>ExternalTask: 0.120<br> xar: 0.119<br>arcely: 0.116",
          "Layer 27 Shared Experts:<br> : 19.422<br> (: 17.812<br>\n: 17.406<br>3: 17.234<br>1: 17.203"
         ],
         "type": "scatter",
         "x": [
          0,
          0,
          7,
          8,
          22,
          47,
          50,
          54,
          65,
          0,
          3,
          4,
          13,
          31,
          35,
          62,
          65,
          0,
          19,
          34,
          40,
          49,
          50,
          52,
          65,
          0,
          12,
          15,
          29,
          46,
          52,
          64,
          65,
          0,
          7,
          14,
          18,
          25,
          42,
          51,
          65,
          0,
          7,
          35,
          49,
          53,
          62,
          63,
          65,
          0,
          14,
          15,
          32,
          41,
          46,
          61,
          65,
          0,
          13,
          15,
          24,
          45,
          47,
          51,
          65,
          0,
          13,
          14,
          31,
          40,
          56,
          58,
          65,
          0,
          24,
          35,
          36,
          46,
          57,
          58,
          65,
          0,
          1,
          20,
          25,
          41,
          63,
          64,
          65,
          0,
          5,
          9,
          19,
          43,
          46,
          55,
          65,
          0,
          12,
          14,
          16,
          38,
          52,
          59,
          65,
          0,
          1,
          9,
          20,
          24,
          59,
          61,
          65,
          0,
          17,
          36,
          40,
          50,
          53,
          55,
          65,
          0,
          2,
          9,
          15,
          33,
          39,
          52,
          65,
          0,
          3,
          12,
          28,
          38,
          45,
          55,
          65,
          0,
          2,
          16,
          19,
          35,
          51,
          59,
          65,
          0,
          7,
          10,
          21,
          27,
          40,
          53,
          65,
          0,
          3,
          31,
          33,
          38,
          48,
          50,
          65,
          0,
          20,
          32,
          35,
          49,
          52,
          62,
          65,
          0,
          5,
          17,
          21,
          42,
          51,
          54,
          65,
          0,
          24,
          34,
          41,
          47,
          50,
          64,
          65,
          0,
          3,
          6,
          19,
          46,
          55,
          63,
          65,
          0,
          15,
          25,
          37,
          42,
          44,
          50,
          65,
          0,
          1,
          17,
          24,
          31,
          34,
          50,
          65,
          0,
          12,
          16,
          36,
          47,
          56,
          60,
          65
         ],
         "y": [
          0,
          1,
          1,
          1,
          1,
          1,
          1,
          1,
          1,
          2,
          2,
          2,
          2,
          2,
          2,
          2,
          2,
          3,
          3,
          3,
          3,
          3,
          3,
          3,
          3,
          4,
          4,
          4,
          4,
          4,
          4,
          4,
          4,
          5,
          5,
          5,
          5,
          5,
          5,
          5,
          5,
          6,
          6,
          6,
          6,
          6,
          6,
          6,
          6,
          7,
          7,
          7,
          7,
          7,
          7,
          7,
          7,
          8,
          8,
          8,
          8,
          8,
          8,
          8,
          8,
          9,
          9,
          9,
          9,
          9,
          9,
          9,
          9,
          10,
          10,
          10,
          10,
          10,
          10,
          10,
          10,
          11,
          11,
          11,
          11,
          11,
          11,
          11,
          11,
          12,
          12,
          12,
          12,
          12,
          12,
          12,
          12,
          13,
          13,
          13,
          13,
          13,
          13,
          13,
          13,
          14,
          14,
          14,
          14,
          14,
          14,
          14,
          14,
          15,
          15,
          15,
          15,
          15,
          15,
          15,
          15,
          16,
          16,
          16,
          16,
          16,
          16,
          16,
          16,
          17,
          17,
          17,
          17,
          17,
          17,
          17,
          17,
          18,
          18,
          18,
          18,
          18,
          18,
          18,
          18,
          19,
          19,
          19,
          19,
          19,
          19,
          19,
          19,
          20,
          20,
          20,
          20,
          20,
          20,
          20,
          20,
          21,
          21,
          21,
          21,
          21,
          21,
          21,
          21,
          22,
          22,
          22,
          22,
          22,
          22,
          22,
          22,
          23,
          23,
          23,
          23,
          23,
          23,
          23,
          23,
          24,
          24,
          24,
          24,
          24,
          24,
          24,
          24,
          25,
          25,
          25,
          25,
          25,
          25,
          25,
          25,
          26,
          26,
          26,
          26,
          26,
          26,
          26,
          26,
          27,
          27,
          27,
          27,
          27,
          27,
          27,
          27
         ]
        }
       ],
       "layout": {
        "font": {
         "color": "white"
        },
        "height": 1000,
        "paper_bgcolor": "black",
        "plot_bgcolor": "black",
        "template": {
         "data": {
          "bar": [
           {
            "error_x": {
             "color": "#2a3f5f"
            },
            "error_y": {
             "color": "#2a3f5f"
            },
            "marker": {
             "line": {
              "color": "#E5ECF6",
              "width": 0.5
             },
             "pattern": {
              "fillmode": "overlay",
              "size": 10,
              "solidity": 0.2
             }
            },
            "type": "bar"
           }
          ],
          "barpolar": [
           {
            "marker": {
             "line": {
              "color": "#E5ECF6",
              "width": 0.5
             },
             "pattern": {
              "fillmode": "overlay",
              "size": 10,
              "solidity": 0.2
             }
            },
            "type": "barpolar"
           }
          ],
          "carpet": [
           {
            "aaxis": {
             "endlinecolor": "#2a3f5f",
             "gridcolor": "white",
             "linecolor": "white",
             "minorgridcolor": "white",
             "startlinecolor": "#2a3f5f"
            },
            "baxis": {
             "endlinecolor": "#2a3f5f",
             "gridcolor": "white",
             "linecolor": "white",
             "minorgridcolor": "white",
             "startlinecolor": "#2a3f5f"
            },
            "type": "carpet"
           }
          ],
          "choropleth": [
           {
            "colorbar": {
             "outlinewidth": 0,
             "ticks": ""
            },
            "type": "choropleth"
           }
          ],
          "contour": [
           {
            "colorbar": {
             "outlinewidth": 0,
             "ticks": ""
            },
            "colorscale": [
             [
              0,
              "#0d0887"
             ],
             [
              0.1111111111111111,
              "#46039f"
             ],
             [
              0.2222222222222222,
              "#7201a8"
             ],
             [
              0.3333333333333333,
              "#9c179e"
             ],
             [
              0.4444444444444444,
              "#bd3786"
             ],
             [
              0.5555555555555556,
              "#d8576b"
             ],
             [
              0.6666666666666666,
              "#ed7953"
             ],
             [
              0.7777777777777778,
              "#fb9f3a"
             ],
             [
              0.8888888888888888,
              "#fdca26"
             ],
             [
              1,
              "#f0f921"
             ]
            ],
            "type": "contour"
           }
          ],
          "contourcarpet": [
           {
            "colorbar": {
             "outlinewidth": 0,
             "ticks": ""
            },
            "type": "contourcarpet"
           }
          ],
          "heatmap": [
           {
            "colorbar": {
             "outlinewidth": 0,
             "ticks": ""
            },
            "colorscale": [
             [
              0,
              "#0d0887"
             ],
             [
              0.1111111111111111,
              "#46039f"
             ],
             [
              0.2222222222222222,
              "#7201a8"
             ],
             [
              0.3333333333333333,
              "#9c179e"
             ],
             [
              0.4444444444444444,
              "#bd3786"
             ],
             [
              0.5555555555555556,
              "#d8576b"
             ],
             [
              0.6666666666666666,
              "#ed7953"
             ],
             [
              0.7777777777777778,
              "#fb9f3a"
             ],
             [
              0.8888888888888888,
              "#fdca26"
             ],
             [
              1,
              "#f0f921"
             ]
            ],
            "type": "heatmap"
           }
          ],
          "heatmapgl": [
           {
            "colorbar": {
             "outlinewidth": 0,
             "ticks": ""
            },
            "colorscale": [
             [
              0,
              "#0d0887"
             ],
             [
              0.1111111111111111,
              "#46039f"
             ],
             [
              0.2222222222222222,
              "#7201a8"
             ],
             [
              0.3333333333333333,
              "#9c179e"
             ],
             [
              0.4444444444444444,
              "#bd3786"
             ],
             [
              0.5555555555555556,
              "#d8576b"
             ],
             [
              0.6666666666666666,
              "#ed7953"
             ],
             [
              0.7777777777777778,
              "#fb9f3a"
             ],
             [
              0.8888888888888888,
              "#fdca26"
             ],
             [
              1,
              "#f0f921"
             ]
            ],
            "type": "heatmapgl"
           }
          ],
          "histogram": [
           {
            "marker": {
             "pattern": {
              "fillmode": "overlay",
              "size": 10,
              "solidity": 0.2
             }
            },
            "type": "histogram"
           }
          ],
          "histogram2d": [
           {
            "colorbar": {
             "outlinewidth": 0,
             "ticks": ""
            },
            "colorscale": [
             [
              0,
              "#0d0887"
             ],
             [
              0.1111111111111111,
              "#46039f"
             ],
             [
              0.2222222222222222,
              "#7201a8"
             ],
             [
              0.3333333333333333,
              "#9c179e"
             ],
             [
              0.4444444444444444,
              "#bd3786"
             ],
             [
              0.5555555555555556,
              "#d8576b"
             ],
             [
              0.6666666666666666,
              "#ed7953"
             ],
             [
              0.7777777777777778,
              "#fb9f3a"
             ],
             [
              0.8888888888888888,
              "#fdca26"
             ],
             [
              1,
              "#f0f921"
             ]
            ],
            "type": "histogram2d"
           }
          ],
          "histogram2dcontour": [
           {
            "colorbar": {
             "outlinewidth": 0,
             "ticks": ""
            },
            "colorscale": [
             [
              0,
              "#0d0887"
             ],
             [
              0.1111111111111111,
              "#46039f"
             ],
             [
              0.2222222222222222,
              "#7201a8"
             ],
             [
              0.3333333333333333,
              "#9c179e"
             ],
             [
              0.4444444444444444,
              "#bd3786"
             ],
             [
              0.5555555555555556,
              "#d8576b"
             ],
             [
              0.6666666666666666,
              "#ed7953"
             ],
             [
              0.7777777777777778,
              "#fb9f3a"
             ],
             [
              0.8888888888888888,
              "#fdca26"
             ],
             [
              1,
              "#f0f921"
             ]
            ],
            "type": "histogram2dcontour"
           }
          ],
          "mesh3d": [
           {
            "colorbar": {
             "outlinewidth": 0,
             "ticks": ""
            },
            "type": "mesh3d"
           }
          ],
          "parcoords": [
           {
            "line": {
             "colorbar": {
              "outlinewidth": 0,
              "ticks": ""
             }
            },
            "type": "parcoords"
           }
          ],
          "pie": [
           {
            "automargin": true,
            "type": "pie"
           }
          ],
          "scatter": [
           {
            "fillpattern": {
             "fillmode": "overlay",
             "size": 10,
             "solidity": 0.2
            },
            "type": "scatter"
           }
          ],
          "scatter3d": [
           {
            "line": {
             "colorbar": {
              "outlinewidth": 0,
              "ticks": ""
             }
            },
            "marker": {
             "colorbar": {
              "outlinewidth": 0,
              "ticks": ""
             }
            },
            "type": "scatter3d"
           }
          ],
          "scattercarpet": [
           {
            "marker": {
             "colorbar": {
              "outlinewidth": 0,
              "ticks": ""
             }
            },
            "type": "scattercarpet"
           }
          ],
          "scattergeo": [
           {
            "marker": {
             "colorbar": {
              "outlinewidth": 0,
              "ticks": ""
             }
            },
            "type": "scattergeo"
           }
          ],
          "scattergl": [
           {
            "marker": {
             "colorbar": {
              "outlinewidth": 0,
              "ticks": ""
             }
            },
            "type": "scattergl"
           }
          ],
          "scattermapbox": [
           {
            "marker": {
             "colorbar": {
              "outlinewidth": 0,
              "ticks": ""
             }
            },
            "type": "scattermapbox"
           }
          ],
          "scatterpolar": [
           {
            "marker": {
             "colorbar": {
              "outlinewidth": 0,
              "ticks": ""
             }
            },
            "type": "scatterpolar"
           }
          ],
          "scatterpolargl": [
           {
            "marker": {
             "colorbar": {
              "outlinewidth": 0,
              "ticks": ""
             }
            },
            "type": "scatterpolargl"
           }
          ],
          "scatterternary": [
           {
            "marker": {
             "colorbar": {
              "outlinewidth": 0,
              "ticks": ""
             }
            },
            "type": "scatterternary"
           }
          ],
          "surface": [
           {
            "colorbar": {
             "outlinewidth": 0,
             "ticks": ""
            },
            "colorscale": [
             [
              0,
              "#0d0887"
             ],
             [
              0.1111111111111111,
              "#46039f"
             ],
             [
              0.2222222222222222,
              "#7201a8"
             ],
             [
              0.3333333333333333,
              "#9c179e"
             ],
             [
              0.4444444444444444,
              "#bd3786"
             ],
             [
              0.5555555555555556,
              "#d8576b"
             ],
             [
              0.6666666666666666,
              "#ed7953"
             ],
             [
              0.7777777777777778,
              "#fb9f3a"
             ],
             [
              0.8888888888888888,
              "#fdca26"
             ],
             [
              1,
              "#f0f921"
             ]
            ],
            "type": "surface"
           }
          ],
          "table": [
           {
            "cells": {
             "fill": {
              "color": "#EBF0F8"
             },
             "line": {
              "color": "white"
             }
            },
            "header": {
             "fill": {
              "color": "#C8D4E3"
             },
             "line": {
              "color": "white"
             }
            },
            "type": "table"
           }
          ]
         },
         "layout": {
          "annotationdefaults": {
           "arrowcolor": "#2a3f5f",
           "arrowhead": 0,
           "arrowwidth": 1
          },
          "autotypenumbers": "strict",
          "coloraxis": {
           "colorbar": {
            "outlinewidth": 0,
            "ticks": ""
           }
          },
          "colorscale": {
           "diverging": [
            [
             0,
             "#8e0152"
            ],
            [
             0.1,
             "#c51b7d"
            ],
            [
             0.2,
             "#de77ae"
            ],
            [
             0.3,
             "#f1b6da"
            ],
            [
             0.4,
             "#fde0ef"
            ],
            [
             0.5,
             "#f7f7f7"
            ],
            [
             0.6,
             "#e6f5d0"
            ],
            [
             0.7,
             "#b8e186"
            ],
            [
             0.8,
             "#7fbc41"
            ],
            [
             0.9,
             "#4d9221"
            ],
            [
             1,
             "#276419"
            ]
           ],
           "sequential": [
            [
             0,
             "#0d0887"
            ],
            [
             0.1111111111111111,
             "#46039f"
            ],
            [
             0.2222222222222222,
             "#7201a8"
            ],
            [
             0.3333333333333333,
             "#9c179e"
            ],
            [
             0.4444444444444444,
             "#bd3786"
            ],
            [
             0.5555555555555556,
             "#d8576b"
            ],
            [
             0.6666666666666666,
             "#ed7953"
            ],
            [
             0.7777777777777778,
             "#fb9f3a"
            ],
            [
             0.8888888888888888,
             "#fdca26"
            ],
            [
             1,
             "#f0f921"
            ]
           ],
           "sequentialminus": [
            [
             0,
             "#0d0887"
            ],
            [
             0.1111111111111111,
             "#46039f"
            ],
            [
             0.2222222222222222,
             "#7201a8"
            ],
            [
             0.3333333333333333,
             "#9c179e"
            ],
            [
             0.4444444444444444,
             "#bd3786"
            ],
            [
             0.5555555555555556,
             "#d8576b"
            ],
            [
             0.6666666666666666,
             "#ed7953"
            ],
            [
             0.7777777777777778,
             "#fb9f3a"
            ],
            [
             0.8888888888888888,
             "#fdca26"
            ],
            [
             1,
             "#f0f921"
            ]
           ]
          },
          "colorway": [
           "#636efa",
           "#EF553B",
           "#00cc96",
           "#ab63fa",
           "#FFA15A",
           "#19d3f3",
           "#FF6692",
           "#B6E880",
           "#FF97FF",
           "#FECB52"
          ],
          "font": {
           "color": "#2a3f5f"
          },
          "geo": {
           "bgcolor": "white",
           "lakecolor": "white",
           "landcolor": "#E5ECF6",
           "showlakes": true,
           "showland": true,
           "subunitcolor": "white"
          },
          "hoverlabel": {
           "align": "left"
          },
          "hovermode": "closest",
          "mapbox": {
           "style": "light"
          },
          "paper_bgcolor": "white",
          "plot_bgcolor": "#E5ECF6",
          "polar": {
           "angularaxis": {
            "gridcolor": "white",
            "linecolor": "white",
            "ticks": ""
           },
           "bgcolor": "#E5ECF6",
           "radialaxis": {
            "gridcolor": "white",
            "linecolor": "white",
            "ticks": ""
           }
          },
          "scene": {
           "xaxis": {
            "backgroundcolor": "#E5ECF6",
            "gridcolor": "white",
            "gridwidth": 2,
            "linecolor": "white",
            "showbackground": true,
            "ticks": "",
            "zerolinecolor": "white"
           },
           "yaxis": {
            "backgroundcolor": "#E5ECF6",
            "gridcolor": "white",
            "gridwidth": 2,
            "linecolor": "white",
            "showbackground": true,
            "ticks": "",
            "zerolinecolor": "white"
           },
           "zaxis": {
            "backgroundcolor": "#E5ECF6",
            "gridcolor": "white",
            "gridwidth": 2,
            "linecolor": "white",
            "showbackground": true,
            "ticks": "",
            "zerolinecolor": "white"
           }
          },
          "shapedefaults": {
           "line": {
            "color": "#2a3f5f"
           }
          },
          "ternary": {
           "aaxis": {
            "gridcolor": "white",
            "linecolor": "white",
            "ticks": ""
           },
           "baxis": {
            "gridcolor": "white",
            "linecolor": "white",
            "ticks": ""
           },
           "bgcolor": "#E5ECF6",
           "caxis": {
            "gridcolor": "white",
            "linecolor": "white",
            "ticks": ""
           }
          },
          "title": {
           "x": 0.05
          },
          "xaxis": {
           "automargin": true,
           "gridcolor": "white",
           "linecolor": "white",
           "ticks": "",
           "title": {
            "standoff": 15
           },
           "zerolinecolor": "white",
           "zerolinewidth": 2
          },
          "yaxis": {
           "automargin": true,
           "gridcolor": "white",
           "linecolor": "white",
           "ticks": "",
           "title": {
            "standoff": 15
           },
           "zerolinecolor": "white",
           "zerolinewidth": 2
          }
         }
        },
        "title": {
         "text": "Expert Contributions and Predictions for Token Position 10"
        },
        "width": 1800,
        "xaxis": {
         "showgrid": false,
         "tickangle": 45,
         "ticktext": [
          "l_out",
          " 0",
          " 1",
          " 2",
          " 3",
          " 4",
          " 5",
          " 6",
          " 7",
          " 8",
          " 9",
          " 10",
          " 11",
          " 12",
          " 13",
          " 14",
          " 15",
          " 16",
          " 17",
          " 18",
          " 19",
          " 20",
          " 21",
          " 22",
          " 23",
          " 24",
          " 25",
          " 26",
          " 27",
          " 28",
          " 29",
          " 30",
          " 31",
          " 32",
          " 33",
          " 34",
          " 35",
          " 36",
          " 37",
          " 38",
          " 39",
          " 40",
          " 41",
          " 42",
          " 43",
          " 44",
          " 45",
          " 46",
          " 47",
          " 48",
          " 49",
          " 50",
          " 51",
          " 52",
          " 53",
          " 54",
          " 55",
          " 56",
          " 57",
          " 58",
          " 59",
          " 60",
          " 61",
          " 62",
          " 63",
          "shared experts"
         ],
         "tickvals": [
          0,
          1,
          2,
          3,
          4,
          5,
          6,
          7,
          8,
          9,
          10,
          11,
          12,
          13,
          14,
          15,
          16,
          17,
          18,
          19,
          20,
          21,
          22,
          23,
          24,
          25,
          26,
          27,
          28,
          29,
          30,
          31,
          32,
          33,
          34,
          35,
          36,
          37,
          38,
          39,
          40,
          41,
          42,
          43,
          44,
          45,
          46,
          47,
          48,
          49,
          50,
          51,
          52,
          53,
          54,
          55,
          56,
          57,
          58,
          59,
          60,
          61,
          62,
          63,
          64,
          65
         ],
         "title": {
          "text": "layer output | routed experts | shared experts"
         }
        },
        "yaxis": {
         "autorange": "reversed",
         "showgrid": false,
         "title": {
          "text": "Layer"
         }
        }
       }
      }
     },
     "metadata": {},
     "output_type": "display_data"
    }
   ],
   "source": [
    "create_logit_lens_viz(analysis, token_pos=10)"
   ]
  },
  {
   "cell_type": "code",
   "execution_count": null,
   "metadata": {},
   "outputs": [],
   "source": []
  }
 ],
 "metadata": {
  "kernelspec": {
   "display_name": "ai_env",
   "language": "python",
   "name": "python3"
  },
  "language_info": {
   "codemirror_mode": {
    "name": "ipython",
    "version": 3
   },
   "file_extension": ".py",
   "mimetype": "text/x-python",
   "name": "python",
   "nbconvert_exporter": "python",
   "pygments_lexer": "ipython3",
   "version": "3.10.13"
  }
 },
 "nbformat": 4,
 "nbformat_minor": 2
}
