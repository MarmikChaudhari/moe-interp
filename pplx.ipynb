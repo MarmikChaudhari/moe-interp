{
 "cells": [
  {
   "cell_type": "markdown",
   "metadata": {},
   "source": [
    "this notebook is to analyze the perplexity of the next token prediction for datasets in `data/` and how it changes with different number ($\\text{top-k}= 1 \\rightarrow 6$) of active experts to observe whether using the single most-activated expert maintains comparable loss and prediction performance to using all 6 routed experts."
   ]
  },
  {
   "cell_type": "code",
   "execution_count": 1,
   "metadata": {},
   "outputs": [],
   "source": [
    "import torch\n",
    "from transformers import AutoTokenizer, AutoModelForCausalLM\n",
    "from torch.nn import CrossEntropyLoss\n",
    "import math\n",
    "from tqdm import tqdm\n",
    "import csv\n",
    "import pandas as pd\n",
    "import plotly.express as px\n",
    "import numpy as np\n"
   ]
  },
  {
   "cell_type": "code",
   "execution_count": 2,
   "metadata": {},
   "outputs": [],
   "source": [
    "device = torch.device('cuda' if torch.cuda.is_available() else 'cpu')"
   ]
  },
  {
   "cell_type": "code",
   "execution_count": 3,
   "metadata": {},
   "outputs": [
    {
     "data": {
      "application/vnd.jupyter.widget-view+json": {
       "model_id": "a6c2ffc3bb514a1fa95c571a6fff2785",
       "version_major": 2,
       "version_minor": 0
      },
      "text/plain": [
       "Loading checkpoint shards:   0%|          | 0/7 [00:00<?, ?it/s]"
      ]
     },
     "metadata": {},
     "output_type": "display_data"
    },
    {
     "data": {
      "text/plain": [
       "DeepseekForCausalLM(\n",
       "  (model): DeepseekModel(\n",
       "    (embed_tokens): Embedding(102400, 2048)\n",
       "    (layers): ModuleList(\n",
       "      (0): DeepseekDecoderLayer(\n",
       "        (self_attn): DeepseekSdpaAttention(\n",
       "          (q_proj): Linear(in_features=2048, out_features=2048, bias=False)\n",
       "          (k_proj): Linear(in_features=2048, out_features=2048, bias=False)\n",
       "          (v_proj): Linear(in_features=2048, out_features=2048, bias=False)\n",
       "          (o_proj): Linear(in_features=2048, out_features=2048, bias=False)\n",
       "          (rotary_emb): DeepseekRotaryEmbedding()\n",
       "        )\n",
       "        (mlp): DeepseekMLP(\n",
       "          (gate_proj): Linear(in_features=2048, out_features=10944, bias=False)\n",
       "          (up_proj): Linear(in_features=2048, out_features=10944, bias=False)\n",
       "          (down_proj): Linear(in_features=10944, out_features=2048, bias=False)\n",
       "          (act_fn): SiLU()\n",
       "        )\n",
       "        (input_layernorm): DeepseekRMSNorm()\n",
       "        (post_attention_layernorm): DeepseekRMSNorm()\n",
       "      )\n",
       "      (1-27): 27 x DeepseekDecoderLayer(\n",
       "        (self_attn): DeepseekSdpaAttention(\n",
       "          (q_proj): Linear(in_features=2048, out_features=2048, bias=False)\n",
       "          (k_proj): Linear(in_features=2048, out_features=2048, bias=False)\n",
       "          (v_proj): Linear(in_features=2048, out_features=2048, bias=False)\n",
       "          (o_proj): Linear(in_features=2048, out_features=2048, bias=False)\n",
       "          (rotary_emb): DeepseekRotaryEmbedding()\n",
       "        )\n",
       "        (mlp): DeepseekMoE(\n",
       "          (experts): ModuleList(\n",
       "            (0-63): 64 x DeepseekMLP(\n",
       "              (gate_proj): Linear(in_features=2048, out_features=1408, bias=False)\n",
       "              (up_proj): Linear(in_features=2048, out_features=1408, bias=False)\n",
       "              (down_proj): Linear(in_features=1408, out_features=2048, bias=False)\n",
       "              (act_fn): SiLU()\n",
       "            )\n",
       "          )\n",
       "          (gate): MoEGate()\n",
       "          (shared_experts): DeepseekMLP(\n",
       "            (gate_proj): Linear(in_features=2048, out_features=2816, bias=False)\n",
       "            (up_proj): Linear(in_features=2048, out_features=2816, bias=False)\n",
       "            (down_proj): Linear(in_features=2816, out_features=2048, bias=False)\n",
       "            (act_fn): SiLU()\n",
       "          )\n",
       "        )\n",
       "        (input_layernorm): DeepseekRMSNorm()\n",
       "        (post_attention_layernorm): DeepseekRMSNorm()\n",
       "      )\n",
       "    )\n",
       "    (norm): DeepseekRMSNorm()\n",
       "  )\n",
       "  (lm_head): Linear(in_features=2048, out_features=102400, bias=False)\n",
       ")"
      ]
     },
     "execution_count": 3,
     "metadata": {},
     "output_type": "execute_result"
    }
   ],
   "source": [
    "def load_model(model_name):\n",
    "    model = AutoModelForCausalLM.from_pretrained(\n",
    "        model_name,\n",
    "        torch_dtype=torch.float16,\n",
    "        trust_remote_code=True,\n",
    "        # use_flash_attention_2=True,\n",
    "    )\n",
    "    tokenizer = AutoTokenizer.from_pretrained(model_name)\n",
    "    return model, tokenizer\n",
    "\n",
    "model, tokenizer = load_model(\"deepseek-ai/deepseek-moe-16b-base\")\n",
    "model.eval()\n",
    "model.to(device)"
   ]
  },
  {
   "cell_type": "code",
   "execution_count": 15,
   "metadata": {},
   "outputs": [],
   "source": [
    "def calculate_perplexity(model, tokenizer, txt_file_path, device=device, domain=\"code\", top_k=2):\n",
    "    \"\"\"\n",
    "    Calculate perplexity using the DeepSeek model with configurable number of experts per token.\n",
    "    \n",
    "    Args:\n",
    "        model: The DeepSeek model\n",
    "        tokenizer: The tokenizer to use\n",
    "        txt_file_path: Path to the input text file containing samples\n",
    "        device: The device to run on (cuda/cpu)\n",
    "        domain: Domain name for output file (\"code\", \"text\", etc)\n",
    "        top_k: Number of experts to select per token (1-6)\n",
    "    \"\"\"\n",
    "    # Validate top_k parameter\n",
    "    if not 1 <= top_k <= 6:\n",
    "        raise ValueError(\"top_k must be between 1 and 6\")\n",
    "    \n",
    "    # Configure MoE layers to use specified number of experts\n",
    "    for layer in model.model.layers:\n",
    "        if hasattr(layer.mlp, 'experts'):  # Check if it's an MoE layer\n",
    "            layer.mlp.num_experts_per_tok = top_k\n",
    "            if hasattr(layer.mlp, 'gate'):\n",
    "                layer.mlp.gate.top_k = top_k\n",
    "\n",
    "    # Read text file and get samples\n",
    "    with open(txt_file_path, 'r', encoding='utf-8') as f:\n",
    "        content = f.read()\n",
    "    \n",
    "    # Process the text file based on its content\n",
    "    if 'github.txt' in txt_file_path:\n",
    "        import re\n",
    "        # Find all code blocks using the file pattern\n",
    "        file_pattern = re.compile(r'.*\\b\\w+\\.(js|py|c|cpp|java|ts|rb|go|rs|cs|swift|kt|php)$', re.MULTILINE)\n",
    "        \n",
    "        # Find all matches (file headers)\n",
    "        matches = list(file_pattern.finditer(content))\n",
    "        \n",
    "        # Extract code blocks between file headers\n",
    "        samples = []\n",
    "        for i in range(len(matches)):\n",
    "            start_pos = matches[i].start()\n",
    "            # If this is the last match, go to the end of the file\n",
    "            if i == len(matches) - 1:\n",
    "                end_pos = len(content)\n",
    "            else:\n",
    "                end_pos = matches[i+1].start()\n",
    "            \n",
    "            # Extract the code block including the file header\n",
    "            code_block = content[start_pos:end_pos].strip()\n",
    "            samples.append(code_block)\n",
    "    else:\n",
    "        # Regular text file processing (one prompt per line)\n",
    "        samples = [line.strip() for line in content.split('\\n') if line.strip()]\n",
    "\n",
    "    # Calculate perplexity for each sample\n",
    "    perplexities = []\n",
    "    file_name = f\"{domain}_perplexity_top{top_k}.csv\"\n",
    "    \n",
    "    # Count total chunks for progress bar\n",
    "    total_chunks = 0\n",
    "    for sample in samples:\n",
    "        if not sample.strip():\n",
    "            continue\n",
    "        encodings = tokenizer(sample.strip(), return_tensors='pt')\n",
    "        seq_len = encodings.input_ids.size(1)\n",
    "        chunks = (seq_len + 2047) // 2048  # Ceiling division\n",
    "        total_chunks += max(1, chunks)\n",
    "    \n",
    "    progress_bar = tqdm(total=total_chunks, desc=f\"Processing {domain} samples (top-k={top_k})\")\n",
    "    \n",
    "    with open(file_name, 'w', newline='') as csvfile:\n",
    "        writer = csv.writer(csvfile)\n",
    "        if csvfile.tell() == 0:\n",
    "            writer.writerow([f'{domain}_num', 'perplexity', 'chunks'])\n",
    "            \n",
    "        for i, sample in enumerate(samples):\n",
    "            if not sample.strip():\n",
    "                continue\n",
    "                \n",
    "            # Tokenize sample\n",
    "            encodings = tokenizer(sample.strip(), return_tensors='pt')\n",
    "            input_ids = encodings.input_ids.to(device)\n",
    "            \n",
    "            # Check if we need to chunk the sequence\n",
    "            seq_len = input_ids.size(1)\n",
    "            if seq_len > 2048:\n",
    "                # Split into chunks of 2048 tokens\n",
    "                chunks = []\n",
    "                for start_idx in range(0, seq_len, 2048):\n",
    "                    end_idx = min(start_idx + 2048, seq_len)\n",
    "                    chunks.append(input_ids[:, start_idx:end_idx])\n",
    "                \n",
    "                # Calculate perplexity for each chunk and average\n",
    "                chunk_losses = []\n",
    "                for chunk_idx, chunk in enumerate(chunks):\n",
    "                    target_ids = chunk.clone()\n",
    "                    \n",
    "                    # Initialize loss function\n",
    "                    loss_fct = CrossEntropyLoss(reduction='none')\n",
    "                    \n",
    "                    with torch.no_grad():\n",
    "                        outputs = model(chunk)\n",
    "                        logits = outputs.logits\n",
    "                        \n",
    "                        # Clean up CUDA memory\n",
    "                        del outputs\n",
    "                        torch.cuda.empty_cache()\n",
    "                        \n",
    "                        # Shift logits and target_ids for next-token prediction\n",
    "                        shift_logits = logits[..., :-1, :].contiguous()\n",
    "                        shift_target_ids = target_ids[..., 1:].contiguous()\n",
    "                        \n",
    "                        # Calculate loss\n",
    "                        loss = loss_fct(shift_logits.view(-1, shift_logits.size(-1)), \n",
    "                                      shift_target_ids.view(-1)).cpu()\n",
    "                        \n",
    "                        chunk_losses.append(loss)\n",
    "                        del shift_logits, shift_target_ids, loss\n",
    "                        \n",
    "                    progress_bar.update(1)\n",
    "                \n",
    "                # Combine losses from all chunks\n",
    "                combined_loss = torch.cat(chunk_losses)\n",
    "                avg_nll = combined_loss.mean()\n",
    "                ppl = torch.exp(avg_nll).item()\n",
    "                del combined_loss, avg_nll, chunk_losses\n",
    "                \n",
    "                progress_bar.set_postfix({'Perplexity': f'{ppl:.2f}', 'Chunks': len(chunks)})\n",
    "                perplexities.append((i+1, ppl))\n",
    "                \n",
    "                writer.writerow([i+1, ppl, len(chunks)])\n",
    "                \n",
    "            else:\n",
    "                # Process as a single chunk\n",
    "                target_ids = input_ids.clone()\n",
    "                \n",
    "                # Initialize loss function\n",
    "                loss_fct = CrossEntropyLoss(reduction='none')\n",
    "                \n",
    "                with torch.no_grad():\n",
    "                    outputs = model(input_ids)\n",
    "                    logits = outputs.logits\n",
    "                    \n",
    "                    # Clean up CUDA memory\n",
    "                    del outputs\n",
    "                    torch.cuda.empty_cache()\n",
    "                    \n",
    "                    # Shift logits and target_ids for next-token prediction\n",
    "                    shift_logits = logits[..., :-1, :].contiguous()\n",
    "                    shift_target_ids = target_ids[..., 1:].contiguous()\n",
    "                    \n",
    "                    # Calculate loss\n",
    "                    loss = loss_fct(shift_logits.view(-1, shift_logits.size(-1)), \n",
    "                                  shift_target_ids.view(-1)).cpu()\n",
    "                    del shift_logits, shift_target_ids\n",
    "                    \n",
    "                    # Calculate perplexity\n",
    "                    avg_nll = loss.mean()\n",
    "                    ppl = torch.exp(avg_nll).item()\n",
    "                    del loss, avg_nll\n",
    "                    \n",
    "                    progress_bar.update(1)\n",
    "                    progress_bar.set_postfix({'Perplexity': f'{ppl:.2f}', 'Chunks': 1})\n",
    "                    perplexities.append((i+1, ppl))\n",
    "                    \n",
    "                    writer.writerow([i+1, ppl, 1])\n",
    "    \n",
    "    return perplexities"
   ]
  },
  {
   "cell_type": "code",
   "execution_count": null,
   "metadata": {},
   "outputs": [],
   "source": [
    "text_file_path = \"data-ext/gsm8k.txt\"\n",
    "\n",
    "for k in range(6, 0, -1):\n",
    "    ppl = calculate_perplexity(model=model,\n",
    "                              tokenizer=tokenizer,\n",
    "                              txt_file_path=text_file_path,\n",
    "                              domain=\"gsm8k\",\n",
    "                              top_k=k)\n",
    "    print(f\"Perplexity (top-{k}): {ppl}\")\n"
   ]
  },
  {
   "cell_type": "code",
   "execution_count": null,
   "metadata": {},
   "outputs": [],
   "source": [
    "import pandas as pd\n",
    "import plotly.express as px\n",
    "\n",
    "# Read the CSV file\n",
    "df = pd.read_csv('code_perplexity_top6.csv')\n",
    "\n",
    "# Print column names to verify\n",
    "print(\"Available columns:\", df.columns.tolist())\n",
    "\n",
    "# Create the line plot using plotly\n",
    "fig = px.line(df, x='code_num', y='perplexity', \n",
    "              markers=True,\n",
    "              title='Perplexity by Code Number')\n",
    "\n",
    "# Customize the plot\n",
    "fig.update_layout(\n",
    "    xaxis_title=\"Code Number\",\n",
    "    yaxis_title=\"Perplexity\",\n",
    "    xaxis=dict(showgrid=True),\n",
    "    yaxis=dict(showgrid=True)\n",
    ")\n",
    "\n",
    "# Display the plot\n",
    "fig.show()\n"
   ]
  },
  {
   "cell_type": "code",
   "execution_count": null,
   "metadata": {},
   "outputs": [],
   "source": [
    "import pandas as pd\n",
    "import plotly.express as px\n",
    "import numpy as np\n",
    "\n",
    "# Read all CSV files and calculate means of log perplexities\n",
    "files = [f'code_perplexity_top{k}.csv' for k in range(1,7)]\n",
    "labels = [f'Top {k}' for k in range(1,7)]\n",
    "log_means = []\n",
    "perplexities = []\n",
    "\n",
    "for file in files:\n",
    "    # Read CSV file\n",
    "    df = pd.read_csv(file)\n",
    "    # Calculate mean of log perplexities\n",
    "    log_perplexity = np.log(df['perplexity'])\n",
    "    log_mean = log_perplexity.mean()\n",
    "    log_means.append(log_mean)\n",
    "    perplexities.append(np.exp(log_mean))\n",
    "    \n",
    "    # Print both log and perplexity space results for reference\n",
    "    k = file.split('top')[1].split('.')[0]\n",
    "    print(f\"{k}:\")\n",
    "    print(f\"  Mean log perplexity: {log_mean:.3f}\")\n",
    "    print(f\"  Equivalent perplexity: {np.exp(log_mean):.3f}\")\n",
    "\n",
    "# Create DataFrame for saving\n",
    "results_df = pd.DataFrame({\n",
    "    'Selection': labels,\n",
    "    'Log_Perplexity': log_means,\n",
    "    'Perplexity': perplexities\n",
    "})\n",
    "\n",
    "# Save to CSV\n",
    "results_df.to_csv('mean_perplexities.csv', index=False)\n",
    "\n",
    "# Create line plot\n",
    "fig = px.line(results_df, \n",
    "              x='Selection', \n",
    "              y='Log_Perplexity',\n",
    "              markers=True,\n",
    "              text=[f'{v:.3f}' for v in log_means],\n",
    "              title='Mean Log Perplexity by Top-k Selection')\n",
    "# Customize the plot\n",
    "fig.update_layout(\n",
    "    xaxis_title=\"Selection Method\",\n",
    "    yaxis_title=\"Mean Log Perplexity\", \n",
    "    xaxis=dict(showgrid=True)\n",
    ")\n",
    "\n",
    "# Update marker and text positions\n",
    "fig.update_traces(textposition=\"middle right\")\n",
    "\n",
    "# Display the plot\n",
    "fig.show()"
   ]
  },
  {
   "cell_type": "code",
   "execution_count": 12,
   "metadata": {},
   "outputs": [],
   "source": [
    "def analyze_perplexity_by_domain(domains):\n",
    "    \"\"\"\n",
    "    Analyze perplexity across different domains and plot them together.\n",
    "    \n",
    "    Args:\n",
    "        domains: List of domain names to analyze\n",
    "    \"\"\"\n",
    "    all_results = []\n",
    "    \n",
    "    for domain in domains:\n",
    "        # Read all CSV files and calculate means of log perplexities\n",
    "        files = [f'data/pplx/{domain}_perplexity_top{k}.csv' for k in range(1,7)]\n",
    "        labels = [f'Top {k}' for k in range(1,7)]\n",
    "        log_means = []\n",
    "        perplexities = []\n",
    "\n",
    "        for file in files:\n",
    "            # Read CSV file\n",
    "            df = pd.read_csv(file)\n",
    "            # Calculate mean of log perplexities\n",
    "            log_perplexity = np.log(df['perplexity'])\n",
    "            log_mean = log_perplexity.mean()\n",
    "            log_means.append(log_mean)\n",
    "            perplexities.append(np.exp(log_mean))\n",
    "            \n",
    "            # Print both log and perplexity space results for reference\n",
    "            k = file.split('top')[1].split('.')[0]\n",
    "            print(f\"{domain} - {k}:\")\n",
    "            print(f\"  Mean log perplexity: {log_mean:.3f}\")\n",
    "            print(f\"  Equivalent perplexity: {np.exp(log_mean):.3f}\")\n",
    "\n",
    "        # Create DataFrame for this domain\n",
    "        results_df = pd.DataFrame({\n",
    "            'Selection': labels,\n",
    "            'Log_Perplexity': log_means,\n",
    "            'Perplexity': perplexities,\n",
    "            'Domain': domain\n",
    "        })\n",
    "        \n",
    "        all_results.append(results_df)\n",
    "        \n",
    "        # Save individual domain results to CSV\n",
    "        results_df.to_csv(f'data/pplx-data/{domain}_mean_perplexities.csv', index=False)\n",
    "    \n",
    "    # Combine all domain results\n",
    "    combined_results = pd.concat(all_results)\n",
    "    \n",
    "    # Save combined results\n",
    "    combined_results.to_csv('data/pplx/all_domains_mean_perplexities.csv', index=False)\n",
    "    \n",
    "    # Normalize log perplexities to 0-1 scale for each domain\n",
    "    normalized_results = combined_results.copy()\n",
    "    \n",
    "    # Group by domain and normalize log perplexity within each domain\n",
    "    for domain in domains:\n",
    "        domain_data = normalized_results[normalized_results['Domain'] == domain]\n",
    "        min_val = domain_data['Log_Perplexity'].min()\n",
    "        max_val = domain_data['Log_Perplexity'].max()\n",
    "        \n",
    "        # Avoid division by zero if min and max are the same\n",
    "        if max_val > min_val:\n",
    "            normalized_results.loc[normalized_results['Domain'] == domain, 'Normalized_Log_Perplexity'] = (\n",
    "                (normalized_results.loc[normalized_results['Domain'] == domain, 'Log_Perplexity'] - min_val) / \n",
    "                (max_val - min_val)\n",
    "            )\n",
    "        else:\n",
    "            normalized_results.loc[normalized_results['Domain'] == domain, 'Normalized_Log_Perplexity'] = 0.5\n",
    "    \n",
    "    # Create line plot with all domains using normalized values\n",
    "    fig = px.line(normalized_results, \n",
    "                  x='Selection', \n",
    "                  y='Normalized_Log_Perplexity',\n",
    "                  color='Domain',\n",
    "                  markers=True,\n",
    "                  text='Normalized_Log_Perplexity',\n",
    "                  title='Normalized Log Perplexity by Top-k Selection Across Domains (0-1 Scale)')\n",
    "    \n",
    "    # Customize the plot\n",
    "    fig.update_layout(\n",
    "        xaxis_title=\"Selection Method\",\n",
    "        yaxis_title=\"Normalized Log Perplexity (0-1 Scale)\", \n",
    "        xaxis=dict(showgrid=True),\n",
    "        yaxis=dict(range=[-0.1, 1.1])\n",
    "    )\n",
    "    \n",
    "    # Update marker and text positions\n",
    "    fig.update_traces(textposition=\"middle right\", texttemplate='%{text:.3f}')\n",
    "    \n",
    "    # Display the plot\n",
    "    fig.show()\n"
   ]
  },
  {
   "cell_type": "code",
   "execution_count": 13,
   "metadata": {},
   "outputs": [
    {
     "name": "stdout",
     "output_type": "stream",
     "text": [
      "french-qa - 1:\n",
      "  Mean log perplexity: 2.535\n",
      "  Equivalent perplexity: 12.612\n",
      "french-qa - 2:\n",
      "  Mean log perplexity: 1.918\n",
      "  Equivalent perplexity: 6.810\n",
      "french-qa - 3:\n",
      "  Mean log perplexity: 1.814\n",
      "  Equivalent perplexity: 6.133\n",
      "french-qa - 4:\n",
      "  Mean log perplexity: 1.782\n",
      "  Equivalent perplexity: 5.944\n",
      "french-qa - 5:\n",
      "  Mean log perplexity: 1.768\n",
      "  Equivalent perplexity: 5.860\n",
      "french-qa - 6:\n",
      "  Mean log perplexity: 1.763\n",
      "  Equivalent perplexity: 5.829\n",
      "english - 1:\n",
      "  Mean log perplexity: 1.522\n",
      "  Equivalent perplexity: 4.579\n",
      "english - 2:\n",
      "  Mean log perplexity: 1.286\n",
      "  Equivalent perplexity: 3.620\n",
      "english - 3:\n",
      "  Mean log perplexity: 1.231\n",
      "  Equivalent perplexity: 3.426\n",
      "english - 4:\n",
      "  Mean log perplexity: 1.211\n",
      "  Equivalent perplexity: 3.356\n",
      "english - 5:\n",
      "  Mean log perplexity: 1.202\n",
      "  Equivalent perplexity: 3.328\n",
      "english - 6:\n",
      "  Mean log perplexity: 1.199\n",
      "  Equivalent perplexity: 3.316\n",
      "arxiv - 1:\n",
      "  Mean log perplexity: 3.000\n",
      "  Equivalent perplexity: 20.085\n",
      "arxiv - 2:\n",
      "  Mean log perplexity: 2.657\n",
      "  Equivalent perplexity: 14.249\n",
      "arxiv - 3:\n",
      "  Mean log perplexity: 2.562\n",
      "  Equivalent perplexity: 12.962\n",
      "arxiv - 4:\n",
      "  Mean log perplexity: 2.534\n",
      "  Equivalent perplexity: 12.608\n",
      "arxiv - 5:\n",
      "  Mean log perplexity: 2.523\n",
      "  Equivalent perplexity: 12.471\n",
      "arxiv - 6:\n",
      "  Mean log perplexity: 2.518\n",
      "  Equivalent perplexity: 12.410\n",
      "aime-math - 1:\n",
      "  Mean log perplexity: 2.067\n",
      "  Equivalent perplexity: 7.899\n",
      "aime-math - 2:\n",
      "  Mean log perplexity: 1.711\n",
      "  Equivalent perplexity: 5.534\n",
      "aime-math - 3:\n",
      "  Mean log perplexity: 1.616\n",
      "  Equivalent perplexity: 5.031\n",
      "aime-math - 4:\n",
      "  Mean log perplexity: 1.590\n",
      "  Equivalent perplexity: 4.905\n",
      "aime-math - 5:\n",
      "  Mean log perplexity: 1.580\n",
      "  Equivalent perplexity: 4.853\n",
      "aime-math - 6:\n",
      "  Mean log perplexity: 1.575\n",
      "  Equivalent perplexity: 4.831\n",
      "chinese - 1:\n",
      "  Mean log perplexity: 2.679\n",
      "  Equivalent perplexity: 14.564\n",
      "chinese - 2:\n",
      "  Mean log perplexity: 2.305\n",
      "  Equivalent perplexity: 10.025\n",
      "chinese - 3:\n",
      "  Mean log perplexity: 2.209\n",
      "  Equivalent perplexity: 9.106\n",
      "chinese - 4:\n",
      "  Mean log perplexity: 2.175\n",
      "  Equivalent perplexity: 8.799\n",
      "chinese - 5:\n",
      "  Mean log perplexity: 2.160\n",
      "  Equivalent perplexity: 8.671\n",
      "chinese - 6:\n",
      "  Mean log perplexity: 2.155\n",
      "  Equivalent perplexity: 8.628\n",
      "github - 1:\n",
      "  Mean log perplexity: 1.943\n",
      "  Equivalent perplexity: 6.981\n",
      "github - 2:\n",
      "  Mean log perplexity: 1.752\n",
      "  Equivalent perplexity: 5.768\n",
      "github - 3:\n",
      "  Mean log perplexity: 1.698\n",
      "  Equivalent perplexity: 5.465\n",
      "github - 4:\n",
      "  Mean log perplexity: 1.678\n",
      "  Equivalent perplexity: 5.352\n",
      "github - 5:\n",
      "  Mean log perplexity: 1.672\n",
      "  Equivalent perplexity: 5.322\n",
      "github - 6:\n",
      "  Mean log perplexity: 1.666\n",
      "  Equivalent perplexity: 5.291\n",
      "gsm8k - 1:\n",
      "  Mean log perplexity: 1.958\n",
      "  Equivalent perplexity: 7.087\n",
      "gsm8k - 2:\n",
      "  Mean log perplexity: 1.726\n",
      "  Equivalent perplexity: 5.619\n",
      "gsm8k - 3:\n",
      "  Mean log perplexity: 1.663\n",
      "  Equivalent perplexity: 5.274\n",
      "gsm8k - 4:\n",
      "  Mean log perplexity: 1.643\n",
      "  Equivalent perplexity: 5.170\n",
      "gsm8k - 5:\n",
      "  Mean log perplexity: 1.629\n",
      "  Equivalent perplexity: 5.100\n",
      "gsm8k - 6:\n",
      "  Mean log perplexity: 1.622\n",
      "  Equivalent perplexity: 5.061\n"
     ]
    },
    {
     "data": {
      "application/vnd.plotly.v1+json": {
       "config": {
        "plotlyServerURL": "https://plot.ly"
       },
       "data": [
        {
         "hovertemplate": "Domain=french-qa<br>Selection=%{x}<br>Normalized_Log_Perplexity=%{text}<extra></extra>",
         "legendgroup": "french-qa",
         "line": {
          "color": "#636efa",
          "dash": "solid"
         },
         "marker": {
          "symbol": "circle"
         },
         "mode": "lines+markers+text",
         "name": "french-qa",
         "orientation": "v",
         "showlegend": true,
         "text": [
          1,
          0.20146187025328713,
          0.06574739807038862,
          0.025294066437723084,
          0.006878442906323712,
          0
         ],
         "textposition": "middle right",
         "texttemplate": "%{text:.3f}",
         "type": "scatter",
         "x": [
          "Top 1",
          "Top 2",
          "Top 3",
          "Top 4",
          "Top 5",
          "Top 6"
         ],
         "xaxis": "x",
         "y": [
          1,
          0.20146187025328713,
          0.06574739807038862,
          0.025294066437723084,
          0.006878442906323712,
          0
         ],
         "yaxis": "y"
        },
        {
         "hovertemplate": "Domain=english<br>Selection=%{x}<br>Normalized_Log_Perplexity=%{text}<extra></extra>",
         "legendgroup": "english",
         "line": {
          "color": "#EF553B",
          "dash": "solid"
         },
         "marker": {
          "symbol": "circle"
         },
         "mode": "lines+markers+text",
         "name": "english",
         "orientation": "v",
         "showlegend": true,
         "text": [
          1,
          0.2716137644829536,
          0.10094468489596807,
          0.0371222292170261,
          0.011278255286523365,
          0
         ],
         "textposition": "middle right",
         "texttemplate": "%{text:.3f}",
         "type": "scatter",
         "x": [
          "Top 1",
          "Top 2",
          "Top 3",
          "Top 4",
          "Top 5",
          "Top 6"
         ],
         "xaxis": "x",
         "y": [
          1,
          0.2716137644829536,
          0.10094468489596807,
          0.0371222292170261,
          0.011278255286523365,
          0
         ],
         "yaxis": "y"
        },
        {
         "hovertemplate": "Domain=arxiv<br>Selection=%{x}<br>Normalized_Log_Perplexity=%{text}<extra></extra>",
         "legendgroup": "arxiv",
         "line": {
          "color": "#00cc96",
          "dash": "solid"
         },
         "marker": {
          "symbol": "circle"
         },
         "mode": "lines+markers+text",
         "name": "arxiv",
         "orientation": "v",
         "showlegend": true,
         "text": [
          1,
          0.2870215842220385,
          0.0903607982448729,
          0.0328819051752854,
          0.010216314720899372,
          0
         ],
         "textposition": "middle right",
         "texttemplate": "%{text:.3f}",
         "type": "scatter",
         "x": [
          "Top 1",
          "Top 2",
          "Top 3",
          "Top 4",
          "Top 5",
          "Top 6"
         ],
         "xaxis": "x",
         "y": [
          1,
          0.2870215842220385,
          0.0903607982448729,
          0.0328819051752854,
          0.010216314720899372,
          0
         ],
         "yaxis": "y"
        },
        {
         "hovertemplate": "Domain=aime-math<br>Selection=%{x}<br>Normalized_Log_Perplexity=%{text}<extra></extra>",
         "legendgroup": "aime-math",
         "line": {
          "color": "#ab63fa",
          "dash": "solid"
         },
         "marker": {
          "symbol": "circle"
         },
         "mode": "lines+markers+text",
         "name": "aime-math",
         "orientation": "v",
         "showlegend": true,
         "text": [
          1,
          0.2763845682677095,
          0.08271136616424665,
          0.031159224322743647,
          0.009465099594262444,
          0
         ],
         "textposition": "middle right",
         "texttemplate": "%{text:.3f}",
         "type": "scatter",
         "x": [
          "Top 1",
          "Top 2",
          "Top 3",
          "Top 4",
          "Top 5",
          "Top 6"
         ],
         "xaxis": "x",
         "y": [
          1,
          0.2763845682677095,
          0.08271136616424665,
          0.031159224322743647,
          0.009465099594262444,
          0
         ],
         "yaxis": "y"
        },
        {
         "hovertemplate": "Domain=chinese<br>Selection=%{x}<br>Normalized_Log_Perplexity=%{text}<extra></extra>",
         "legendgroup": "chinese",
         "line": {
          "color": "#FFA15A",
          "dash": "solid"
         },
         "marker": {
          "symbol": "circle"
         },
         "mode": "lines+markers+text",
         "name": "chinese",
         "orientation": "v",
         "showlegend": true,
         "text": [
          1,
          0.28663808805768565,
          0.10306271179183069,
          0.03738713373394754,
          0.00949065234185328,
          0
         ],
         "textposition": "middle right",
         "texttemplate": "%{text:.3f}",
         "type": "scatter",
         "x": [
          "Top 1",
          "Top 2",
          "Top 3",
          "Top 4",
          "Top 5",
          "Top 6"
         ],
         "xaxis": "x",
         "y": [
          1,
          0.28663808805768565,
          0.10306271179183069,
          0.03738713373394754,
          0.00949065234185328,
          0
         ],
         "yaxis": "y"
        },
        {
         "hovertemplate": "Domain=github<br>Selection=%{x}<br>Normalized_Log_Perplexity=%{text}<extra></extra>",
         "legendgroup": "github",
         "line": {
          "color": "#19d3f3",
          "dash": "solid"
         },
         "marker": {
          "symbol": "circle"
         },
         "mode": "lines+markers+text",
         "name": "github",
         "orientation": "v",
         "showlegend": true,
         "text": [
          1,
          0.3113175333832331,
          0.1164206407795417,
          0.04138649284765949,
          0.020910347982762416,
          0
         ],
         "textposition": "middle right",
         "texttemplate": "%{text:.3f}",
         "type": "scatter",
         "x": [
          "Top 1",
          "Top 2",
          "Top 3",
          "Top 4",
          "Top 5",
          "Top 6"
         ],
         "xaxis": "x",
         "y": [
          1,
          0.3113175333832331,
          0.1164206407795417,
          0.04138649284765949,
          0.020910347982762416,
          0
         ],
         "yaxis": "y"
        },
        {
         "hovertemplate": "Domain=gsm8k<br>Selection=%{x}<br>Normalized_Log_Perplexity=%{text}<extra></extra>",
         "legendgroup": "gsm8k",
         "line": {
          "color": "#FF6692",
          "dash": "solid"
         },
         "marker": {
          "symbol": "circle"
         },
         "mode": "lines+markers+text",
         "name": "gsm8k",
         "orientation": "v",
         "showlegend": true,
         "text": [
          1,
          0.31080525767722683,
          0.12224479119261723,
          0.06312254410244211,
          0.022852105318184383,
          0
         ],
         "textposition": "middle right",
         "texttemplate": "%{text:.3f}",
         "type": "scatter",
         "x": [
          "Top 1",
          "Top 2",
          "Top 3",
          "Top 4",
          "Top 5",
          "Top 6"
         ],
         "xaxis": "x",
         "y": [
          1,
          0.31080525767722683,
          0.12224479119261723,
          0.06312254410244211,
          0.022852105318184383,
          0
         ],
         "yaxis": "y"
        }
       ],
       "layout": {
        "legend": {
         "title": {
          "text": "Domain"
         },
         "tracegroupgap": 0
        },
        "template": {
         "data": {
          "bar": [
           {
            "error_x": {
             "color": "#2a3f5f"
            },
            "error_y": {
             "color": "#2a3f5f"
            },
            "marker": {
             "line": {
              "color": "#E5ECF6",
              "width": 0.5
             },
             "pattern": {
              "fillmode": "overlay",
              "size": 10,
              "solidity": 0.2
             }
            },
            "type": "bar"
           }
          ],
          "barpolar": [
           {
            "marker": {
             "line": {
              "color": "#E5ECF6",
              "width": 0.5
             },
             "pattern": {
              "fillmode": "overlay",
              "size": 10,
              "solidity": 0.2
             }
            },
            "type": "barpolar"
           }
          ],
          "carpet": [
           {
            "aaxis": {
             "endlinecolor": "#2a3f5f",
             "gridcolor": "white",
             "linecolor": "white",
             "minorgridcolor": "white",
             "startlinecolor": "#2a3f5f"
            },
            "baxis": {
             "endlinecolor": "#2a3f5f",
             "gridcolor": "white",
             "linecolor": "white",
             "minorgridcolor": "white",
             "startlinecolor": "#2a3f5f"
            },
            "type": "carpet"
           }
          ],
          "choropleth": [
           {
            "colorbar": {
             "outlinewidth": 0,
             "ticks": ""
            },
            "type": "choropleth"
           }
          ],
          "contour": [
           {
            "colorbar": {
             "outlinewidth": 0,
             "ticks": ""
            },
            "colorscale": [
             [
              0,
              "#0d0887"
             ],
             [
              0.1111111111111111,
              "#46039f"
             ],
             [
              0.2222222222222222,
              "#7201a8"
             ],
             [
              0.3333333333333333,
              "#9c179e"
             ],
             [
              0.4444444444444444,
              "#bd3786"
             ],
             [
              0.5555555555555556,
              "#d8576b"
             ],
             [
              0.6666666666666666,
              "#ed7953"
             ],
             [
              0.7777777777777778,
              "#fb9f3a"
             ],
             [
              0.8888888888888888,
              "#fdca26"
             ],
             [
              1,
              "#f0f921"
             ]
            ],
            "type": "contour"
           }
          ],
          "contourcarpet": [
           {
            "colorbar": {
             "outlinewidth": 0,
             "ticks": ""
            },
            "type": "contourcarpet"
           }
          ],
          "heatmap": [
           {
            "colorbar": {
             "outlinewidth": 0,
             "ticks": ""
            },
            "colorscale": [
             [
              0,
              "#0d0887"
             ],
             [
              0.1111111111111111,
              "#46039f"
             ],
             [
              0.2222222222222222,
              "#7201a8"
             ],
             [
              0.3333333333333333,
              "#9c179e"
             ],
             [
              0.4444444444444444,
              "#bd3786"
             ],
             [
              0.5555555555555556,
              "#d8576b"
             ],
             [
              0.6666666666666666,
              "#ed7953"
             ],
             [
              0.7777777777777778,
              "#fb9f3a"
             ],
             [
              0.8888888888888888,
              "#fdca26"
             ],
             [
              1,
              "#f0f921"
             ]
            ],
            "type": "heatmap"
           }
          ],
          "heatmapgl": [
           {
            "colorbar": {
             "outlinewidth": 0,
             "ticks": ""
            },
            "colorscale": [
             [
              0,
              "#0d0887"
             ],
             [
              0.1111111111111111,
              "#46039f"
             ],
             [
              0.2222222222222222,
              "#7201a8"
             ],
             [
              0.3333333333333333,
              "#9c179e"
             ],
             [
              0.4444444444444444,
              "#bd3786"
             ],
             [
              0.5555555555555556,
              "#d8576b"
             ],
             [
              0.6666666666666666,
              "#ed7953"
             ],
             [
              0.7777777777777778,
              "#fb9f3a"
             ],
             [
              0.8888888888888888,
              "#fdca26"
             ],
             [
              1,
              "#f0f921"
             ]
            ],
            "type": "heatmapgl"
           }
          ],
          "histogram": [
           {
            "marker": {
             "pattern": {
              "fillmode": "overlay",
              "size": 10,
              "solidity": 0.2
             }
            },
            "type": "histogram"
           }
          ],
          "histogram2d": [
           {
            "colorbar": {
             "outlinewidth": 0,
             "ticks": ""
            },
            "colorscale": [
             [
              0,
              "#0d0887"
             ],
             [
              0.1111111111111111,
              "#46039f"
             ],
             [
              0.2222222222222222,
              "#7201a8"
             ],
             [
              0.3333333333333333,
              "#9c179e"
             ],
             [
              0.4444444444444444,
              "#bd3786"
             ],
             [
              0.5555555555555556,
              "#d8576b"
             ],
             [
              0.6666666666666666,
              "#ed7953"
             ],
             [
              0.7777777777777778,
              "#fb9f3a"
             ],
             [
              0.8888888888888888,
              "#fdca26"
             ],
             [
              1,
              "#f0f921"
             ]
            ],
            "type": "histogram2d"
           }
          ],
          "histogram2dcontour": [
           {
            "colorbar": {
             "outlinewidth": 0,
             "ticks": ""
            },
            "colorscale": [
             [
              0,
              "#0d0887"
             ],
             [
              0.1111111111111111,
              "#46039f"
             ],
             [
              0.2222222222222222,
              "#7201a8"
             ],
             [
              0.3333333333333333,
              "#9c179e"
             ],
             [
              0.4444444444444444,
              "#bd3786"
             ],
             [
              0.5555555555555556,
              "#d8576b"
             ],
             [
              0.6666666666666666,
              "#ed7953"
             ],
             [
              0.7777777777777778,
              "#fb9f3a"
             ],
             [
              0.8888888888888888,
              "#fdca26"
             ],
             [
              1,
              "#f0f921"
             ]
            ],
            "type": "histogram2dcontour"
           }
          ],
          "mesh3d": [
           {
            "colorbar": {
             "outlinewidth": 0,
             "ticks": ""
            },
            "type": "mesh3d"
           }
          ],
          "parcoords": [
           {
            "line": {
             "colorbar": {
              "outlinewidth": 0,
              "ticks": ""
             }
            },
            "type": "parcoords"
           }
          ],
          "pie": [
           {
            "automargin": true,
            "type": "pie"
           }
          ],
          "scatter": [
           {
            "fillpattern": {
             "fillmode": "overlay",
             "size": 10,
             "solidity": 0.2
            },
            "type": "scatter"
           }
          ],
          "scatter3d": [
           {
            "line": {
             "colorbar": {
              "outlinewidth": 0,
              "ticks": ""
             }
            },
            "marker": {
             "colorbar": {
              "outlinewidth": 0,
              "ticks": ""
             }
            },
            "type": "scatter3d"
           }
          ],
          "scattercarpet": [
           {
            "marker": {
             "colorbar": {
              "outlinewidth": 0,
              "ticks": ""
             }
            },
            "type": "scattercarpet"
           }
          ],
          "scattergeo": [
           {
            "marker": {
             "colorbar": {
              "outlinewidth": 0,
              "ticks": ""
             }
            },
            "type": "scattergeo"
           }
          ],
          "scattergl": [
           {
            "marker": {
             "colorbar": {
              "outlinewidth": 0,
              "ticks": ""
             }
            },
            "type": "scattergl"
           }
          ],
          "scattermapbox": [
           {
            "marker": {
             "colorbar": {
              "outlinewidth": 0,
              "ticks": ""
             }
            },
            "type": "scattermapbox"
           }
          ],
          "scatterpolar": [
           {
            "marker": {
             "colorbar": {
              "outlinewidth": 0,
              "ticks": ""
             }
            },
            "type": "scatterpolar"
           }
          ],
          "scatterpolargl": [
           {
            "marker": {
             "colorbar": {
              "outlinewidth": 0,
              "ticks": ""
             }
            },
            "type": "scatterpolargl"
           }
          ],
          "scatterternary": [
           {
            "marker": {
             "colorbar": {
              "outlinewidth": 0,
              "ticks": ""
             }
            },
            "type": "scatterternary"
           }
          ],
          "surface": [
           {
            "colorbar": {
             "outlinewidth": 0,
             "ticks": ""
            },
            "colorscale": [
             [
              0,
              "#0d0887"
             ],
             [
              0.1111111111111111,
              "#46039f"
             ],
             [
              0.2222222222222222,
              "#7201a8"
             ],
             [
              0.3333333333333333,
              "#9c179e"
             ],
             [
              0.4444444444444444,
              "#bd3786"
             ],
             [
              0.5555555555555556,
              "#d8576b"
             ],
             [
              0.6666666666666666,
              "#ed7953"
             ],
             [
              0.7777777777777778,
              "#fb9f3a"
             ],
             [
              0.8888888888888888,
              "#fdca26"
             ],
             [
              1,
              "#f0f921"
             ]
            ],
            "type": "surface"
           }
          ],
          "table": [
           {
            "cells": {
             "fill": {
              "color": "#EBF0F8"
             },
             "line": {
              "color": "white"
             }
            },
            "header": {
             "fill": {
              "color": "#C8D4E3"
             },
             "line": {
              "color": "white"
             }
            },
            "type": "table"
           }
          ]
         },
         "layout": {
          "annotationdefaults": {
           "arrowcolor": "#2a3f5f",
           "arrowhead": 0,
           "arrowwidth": 1
          },
          "autotypenumbers": "strict",
          "coloraxis": {
           "colorbar": {
            "outlinewidth": 0,
            "ticks": ""
           }
          },
          "colorscale": {
           "diverging": [
            [
             0,
             "#8e0152"
            ],
            [
             0.1,
             "#c51b7d"
            ],
            [
             0.2,
             "#de77ae"
            ],
            [
             0.3,
             "#f1b6da"
            ],
            [
             0.4,
             "#fde0ef"
            ],
            [
             0.5,
             "#f7f7f7"
            ],
            [
             0.6,
             "#e6f5d0"
            ],
            [
             0.7,
             "#b8e186"
            ],
            [
             0.8,
             "#7fbc41"
            ],
            [
             0.9,
             "#4d9221"
            ],
            [
             1,
             "#276419"
            ]
           ],
           "sequential": [
            [
             0,
             "#0d0887"
            ],
            [
             0.1111111111111111,
             "#46039f"
            ],
            [
             0.2222222222222222,
             "#7201a8"
            ],
            [
             0.3333333333333333,
             "#9c179e"
            ],
            [
             0.4444444444444444,
             "#bd3786"
            ],
            [
             0.5555555555555556,
             "#d8576b"
            ],
            [
             0.6666666666666666,
             "#ed7953"
            ],
            [
             0.7777777777777778,
             "#fb9f3a"
            ],
            [
             0.8888888888888888,
             "#fdca26"
            ],
            [
             1,
             "#f0f921"
            ]
           ],
           "sequentialminus": [
            [
             0,
             "#0d0887"
            ],
            [
             0.1111111111111111,
             "#46039f"
            ],
            [
             0.2222222222222222,
             "#7201a8"
            ],
            [
             0.3333333333333333,
             "#9c179e"
            ],
            [
             0.4444444444444444,
             "#bd3786"
            ],
            [
             0.5555555555555556,
             "#d8576b"
            ],
            [
             0.6666666666666666,
             "#ed7953"
            ],
            [
             0.7777777777777778,
             "#fb9f3a"
            ],
            [
             0.8888888888888888,
             "#fdca26"
            ],
            [
             1,
             "#f0f921"
            ]
           ]
          },
          "colorway": [
           "#636efa",
           "#EF553B",
           "#00cc96",
           "#ab63fa",
           "#FFA15A",
           "#19d3f3",
           "#FF6692",
           "#B6E880",
           "#FF97FF",
           "#FECB52"
          ],
          "font": {
           "color": "#2a3f5f"
          },
          "geo": {
           "bgcolor": "white",
           "lakecolor": "white",
           "landcolor": "#E5ECF6",
           "showlakes": true,
           "showland": true,
           "subunitcolor": "white"
          },
          "hoverlabel": {
           "align": "left"
          },
          "hovermode": "closest",
          "mapbox": {
           "style": "light"
          },
          "paper_bgcolor": "white",
          "plot_bgcolor": "#E5ECF6",
          "polar": {
           "angularaxis": {
            "gridcolor": "white",
            "linecolor": "white",
            "ticks": ""
           },
           "bgcolor": "#E5ECF6",
           "radialaxis": {
            "gridcolor": "white",
            "linecolor": "white",
            "ticks": ""
           }
          },
          "scene": {
           "xaxis": {
            "backgroundcolor": "#E5ECF6",
            "gridcolor": "white",
            "gridwidth": 2,
            "linecolor": "white",
            "showbackground": true,
            "ticks": "",
            "zerolinecolor": "white"
           },
           "yaxis": {
            "backgroundcolor": "#E5ECF6",
            "gridcolor": "white",
            "gridwidth": 2,
            "linecolor": "white",
            "showbackground": true,
            "ticks": "",
            "zerolinecolor": "white"
           },
           "zaxis": {
            "backgroundcolor": "#E5ECF6",
            "gridcolor": "white",
            "gridwidth": 2,
            "linecolor": "white",
            "showbackground": true,
            "ticks": "",
            "zerolinecolor": "white"
           }
          },
          "shapedefaults": {
           "line": {
            "color": "#2a3f5f"
           }
          },
          "ternary": {
           "aaxis": {
            "gridcolor": "white",
            "linecolor": "white",
            "ticks": ""
           },
           "baxis": {
            "gridcolor": "white",
            "linecolor": "white",
            "ticks": ""
           },
           "bgcolor": "#E5ECF6",
           "caxis": {
            "gridcolor": "white",
            "linecolor": "white",
            "ticks": ""
           }
          },
          "title": {
           "x": 0.05
          },
          "xaxis": {
           "automargin": true,
           "gridcolor": "white",
           "linecolor": "white",
           "ticks": "",
           "title": {
            "standoff": 15
           },
           "zerolinecolor": "white",
           "zerolinewidth": 2
          },
          "yaxis": {
           "automargin": true,
           "gridcolor": "white",
           "linecolor": "white",
           "ticks": "",
           "title": {
            "standoff": 15
           },
           "zerolinecolor": "white",
           "zerolinewidth": 2
          }
         }
        },
        "title": {
         "text": "Normalized Log Perplexity by Top-k Selection Across Domains (0-1 Scale)"
        },
        "xaxis": {
         "anchor": "y",
         "domain": [
          0,
          1
         ],
         "showgrid": true,
         "title": {
          "text": "Selection Method"
         }
        },
        "yaxis": {
         "anchor": "x",
         "domain": [
          0,
          1
         ],
         "range": [
          -0.1,
          1.1
         ],
         "title": {
          "text": "Normalized Log Perplexity (0-1 Scale)"
         }
        }
       }
      }
     },
     "metadata": {},
     "output_type": "display_data"
    }
   ],
   "source": [
    "analyze_perplexity_by_domain(['french-qa', 'english', 'arxiv', 'aime-math', 'chinese', 'github', 'gsm8k'])"
   ]
  },
  {
   "cell_type": "code",
   "execution_count": null,
   "metadata": {},
   "outputs": [],
   "source": []
  }
 ],
 "metadata": {
  "kernelspec": {
   "display_name": "ai_env",
   "language": "python",
   "name": "python3"
  },
  "language_info": {
   "codemirror_mode": {
    "name": "ipython",
    "version": 3
   },
   "file_extension": ".py",
   "mimetype": "text/x-python",
   "name": "python",
   "nbconvert_exporter": "python",
   "pygments_lexer": "ipython3",
   "version": "3.10.13"
  }
 },
 "nbformat": 4,
 "nbformat_minor": 2
}
