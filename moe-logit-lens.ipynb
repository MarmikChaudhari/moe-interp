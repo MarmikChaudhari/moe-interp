{
 "cells": [
  {
   "cell_type": "markdown",
   "metadata": {},
   "source": [
    "this notebook is to plot the extended logit lens for the DeepSeek MoE model.\n",
    "\n",
    "The extended Logit Lens can be defined as:\n",
    "\n",
    "$$\\text{LogitLens}^{\\text{ext}}(h_t^\\ell) = \\text{LayerNorm}(h_t^\\ell + u_t^\\ell)W_U$$\n",
    "\n",
    "Where:\n",
    "- $h_t^\\ell$ represents the hidden state of the $t$-th token after the $\\ell$-th layer\n",
    "- $u_t^\\ell$ represents the post-attention residual stream for the $t$-th token at layer $\\ell$\n",
    "- $W_U$ is the model's pretrained unembedding matrix\n",
    "- $\\text{LayerNorm}$ is the layer normalization function"
   ]
  },
  {
   "cell_type": "code",
   "execution_count": 1,
   "metadata": {},
   "outputs": [],
   "source": [
    "from transformers import AutoModelForCausalLM, AutoTokenizer\n",
    "import torch\n",
    "import plotly.express as px\n",
    "import plotly.graph_objects as go\n",
    "import numpy as np\n",
    "import os\n",
    "from typing import Dict, List, Tuple\n",
    "from collections import defaultdict"
   ]
  },
  {
   "cell_type": "code",
   "execution_count": 2,
   "metadata": {},
   "outputs": [
    {
     "data": {
      "application/vnd.jupyter.widget-view+json": {
       "model_id": "a6cec551305c4f4ba47d0b3379455e28",
       "version_major": 2,
       "version_minor": 0
      },
      "text/plain": [
       "Loading checkpoint shards:   0%|          | 0/7 [00:00<?, ?it/s]"
      ]
     },
     "metadata": {},
     "output_type": "display_data"
    }
   ],
   "source": [
    "def load_model(model_name):\n",
    "    model = AutoModelForCausalLM.from_pretrained(\n",
    "        model_name,\n",
    "        torch_dtype=torch.float16,\n",
    "        trust_remote_code=True,\n",
    "        # use_flash_attention_2=True,\n",
    "    )\n",
    "    tokenizer = AutoTokenizer.from_pretrained(model_name)\n",
    "    model.eval()\n",
    "    return model, tokenizer\n",
    "\n",
    "model, tokenizer = load_model(\"deepseek-ai/deepseek-moe-16b-base\")"
   ]
  },
  {
   "cell_type": "code",
   "execution_count": 3,
   "metadata": {},
   "outputs": [],
   "source": [
    "def get_top_k_tokens(hidden_states: torch.Tensor, lm_head: torch.nn.Linear, tokenizer, k: int = 5) -> List[Tuple[str, float]]:\n",
    "    \"\"\" get topk tokens from hidden states using lm head \"\"\"\n",
    "    with torch.no_grad():\n",
    "        # Ensure hidden_states has at least 2 dimensions (batch_size, num_tokens, hidden_dim)\n",
    "        if hidden_states.dim() == 2:\n",
    "            hidden_states = hidden_states.unsqueeze(0)  # Add batch dimension\n",
    "            # Apply RMS normalization like in DeepseekRMSNorm\n",
    "            variance = hidden_states.pow(2).mean(-1, keepdim=True) \n",
    "            hidden_states = hidden_states * torch.rsqrt(variance + 1e-6)\n",
    "\n",
    "        logits = lm_head(hidden_states)  # (batch_size, num_tokens, vocab_size)\n",
    "    \n",
    "    # Get top-k tokens\n",
    "    scores, token_ids = torch.topk(logits, k=k, dim=-1)  # (batch_size, num_tokens, k)\n",
    "    \n",
    "    # Decode tokens and collect results for each position\n",
    "    results = []\n",
    "    for pos in range(scores.size(1)):  # Iterate over token positions\n",
    "        pos_results = []\n",
    "        for i in range(k):\n",
    "            token = tokenizer.decode(token_ids[0, pos, i])  # Decode token for this position\n",
    "            score = scores[0, pos, i].item()  # Get score for this position\n",
    "            pos_results.append((token, score))\n",
    "        results.append(pos_results)\n",
    "    \n",
    "    return results"
   ]
  },
  {
   "cell_type": "code",
   "execution_count": 4,
   "metadata": {},
   "outputs": [],
   "source": [
    "class DeepseekLayerAnalyzer:\n",
    "    def __init__(self, model, tokenizer):\n",
    "        self.model = model\n",
    "        self.tokenizer = tokenizer\n",
    "        self.layer_outputs = defaultdict(list)\n",
    "        self.moe_gate_outputs = defaultdict(list)\n",
    "        self.moe_combined_outputs = defaultdict(list)\n",
    "        self.expert_outputs = defaultdict(lambda: defaultdict(list))\n",
    "        self.shared_expert_outputs = defaultdict(list)\n",
    "        self.hooks = []\n",
    "        \n",
    "    def register_hooks(self):\n",
    "        \"\"\"Register hooks for layer outputs and MoE combination points\"\"\"\n",
    "        \n",
    "        def layer_output_hook(layer_idx):\n",
    "            def hook(module, inputs, outputs):\n",
    "                \"\"\"Hook for capturing layer outputs\"\"\"\n",
    "                hidden_states = outputs[0] if isinstance(outputs, tuple) else outputs\n",
    "                self.layer_outputs[layer_idx].append(hidden_states.detach())\n",
    "            return hook\n",
    "\n",
    "        def moe_gate_hook(layer_idx):\n",
    "            def hook(module, inputs, outputs):\n",
    "                \"\"\"Hook for capturing MoE gate outputs before expert computation\"\"\"\n",
    "                # Capture topk_idx, topk_weight, and aux_loss from gate outputs\n",
    "                if isinstance(outputs, tuple):\n",
    "                    topk_idx, topk_weight, aux_loss = outputs\n",
    "                    self.moe_gate_outputs[layer_idx].append({\n",
    "                        'topk_idx': topk_idx.detach(),\n",
    "                        'topk_weight': topk_weight.detach(),\n",
    "                        'aux_loss': aux_loss.detach() if aux_loss is not None else None\n",
    "                    })\n",
    "            return hook\n",
    "\n",
    "        def expert_hook(layer_idx, expert_idx):\n",
    "            def hook(module, inputs, outputs):\n",
    "                \"\"\"Hook for capturing expert outputs\"\"\"\n",
    "                # Get the latest gate outputs for this layer\n",
    "                if not self.moe_gate_outputs[layer_idx]:\n",
    "                    return print(f'no gate outputs for layer {layer_idx}')\n",
    "            \n",
    "                gate_data = self.moe_gate_outputs[layer_idx][-1]\n",
    "                \n",
    "                # Handle 2D or 3D tensor shapes\n",
    "                if len(gate_data['topk_idx'].shape) == 2:\n",
    "                    batch_size = 1\n",
    "                    seq_len, top_k = gate_data['topk_idx'].shape\n",
    "                else:\n",
    "                    batch_size, seq_len, top_k = gate_data['topk_idx'].shape\n",
    "                \n",
    "                # Get mask for tokens where this expert was selected\n",
    "                expert_mask = (gate_data['topk_idx'] == expert_idx)                \n",
    "                # Flatten and find positions where this expert was selected\n",
    "                selected_positions = torch.nonzero(expert_mask, as_tuple=True)\n",
    "                # If no tokens selected this expert, skip\n",
    "                if selected_positions[0].numel() == 0:\n",
    "                    return\n",
    "                    \n",
    "                # Get the actual inputs routed to this expert\n",
    "                # Inputs[0] shape: (total_selected_tokens, hidden_dim)\n",
    "                total_selected = inputs[0].shape[0] \n",
    "                # Validate we're processing the correct number of tokens\n",
    "                expected_selected = expert_mask.sum().item()\n",
    "                if total_selected != expected_selected:\n",
    "                    print(f\" expert {expert_idx} processed {total_selected} tokens but expected {expected_selected}\")\n",
    "                    return\n",
    "                    \n",
    "                # Get the full hidden states from outputs\n",
    "                # outputs shape: (total_selected_tokens, hidden_dim)\n",
    "                hidden_states = outputs\n",
    "                if isinstance(outputs, tuple):\n",
    "                    hidden_states = outputs[0]\n",
    "                    \n",
    "                # Record data for each selected position\n",
    "                for pos_idx, pos in enumerate(selected_positions[0]):\n",
    "                    token_data = {\n",
    "                        'position': pos.item(),\n",
    "                        'input': inputs[0][pos_idx].detach(),\n",
    "                        'output': outputs[pos_idx].detach(),\n",
    "                        'hidden_state': hidden_states[pos_idx].detach()  # Store full hidden state\n",
    "                    }\n",
    "                    \n",
    "                    # Get the corresponding gate weight for this position\n",
    "                    # Find which expert slot (in top_k) this expert was selected for this position\n",
    "                    expert_slots = (gate_data['topk_idx'][pos.item()] == expert_idx).nonzero(as_tuple=True)[0]\n",
    "                    if len(expert_slots) > 0:\n",
    "                        token_data['gate_weight'] = gate_data['topk_weight'][pos.item()][expert_slots[0]].item()\n",
    "                    \n",
    "                    self.expert_outputs[layer_idx][expert_idx].append(token_data)\n",
    "            return hook\n",
    "        \n",
    "        def shared_expert_hook(layer_idx):\n",
    "            def hook(module, inputs, outputs):\n",
    "                \"\"\"Hook for capturing shared expert outputs\"\"\"\n",
    "                self.shared_expert_outputs[layer_idx].append({\n",
    "                    'input': inputs[0].detach(),\n",
    "                    'output': outputs.detach()\n",
    "                })\n",
    "            return hook\n",
    "\n",
    "        def moe_combine_hook(layer_idx):\n",
    "            def hook(module, inputs, outputs):\n",
    "                \"\"\"Hook for capturing final combined MoE outputs\"\"\"\n",
    "                # For DeepseekMoE, this captures the weighted sum of expert outputs\n",
    "                self.moe_combined_outputs[layer_idx].append({\n",
    "                    'combined_output': outputs.detach(),\n",
    "                    'input': inputs[0].detach()  # Original input before MoE\n",
    "                })\n",
    "            return hook\n",
    "\n",
    "        # Register hooks for each layer\n",
    "        for layer_idx, layer in enumerate(self.model.model.layers):\n",
    "            # Hook for layer output\n",
    "            hook = layer.register_forward_hook(layer_output_hook(layer_idx))\n",
    "            self.hooks.append(hook)\n",
    "            \n",
    "            # If it's an MoE layer, add MoE-specific hooks\n",
    "            if hasattr(layer.mlp, 'experts'):\n",
    "                # Hook for gate mechanism\n",
    "                gate_hook = layer.mlp.gate.register_forward_hook(moe_gate_hook(layer_idx))\n",
    "                self.hooks.append(gate_hook)\n",
    "                \n",
    "                # Hook for each expert\n",
    "                for expert_idx, expert in enumerate(layer.mlp.experts):\n",
    "                    expert_hook_fn = expert.register_forward_hook(expert_hook(layer_idx, expert_idx))\n",
    "                    self.hooks.append(expert_hook_fn)\n",
    "\n",
    "                # Hook for shared expert if it exists\n",
    "                if hasattr(layer.mlp, 'shared_experts'):\n",
    "                    shared_hook = layer.mlp.shared_experts.register_forward_hook(shared_expert_hook(layer_idx))\n",
    "                    self.hooks.append(shared_hook)\n",
    "                \n",
    "                # Hook for final combined output\n",
    "                combine_hook = layer.mlp.register_forward_hook(moe_combine_hook(layer_idx))\n",
    "                self.hooks.append(combine_hook)\n",
    "\n",
    "    def analyze_tokens(self, input_ids: torch.Tensor, return_hidden_states: bool = False) -> Dict:\n",
    "        \"\"\" run inference and analyze tokens at each layer and expert combination point \"\"\"\n",
    "\n",
    "        self.moe_combined_outputs.clear()\n",
    "        self.expert_outputs.clear()\n",
    "        self.shared_expert_outputs.clear()\n",
    "        \n",
    "        # Forward pass\n",
    "        with torch.no_grad():\n",
    "            outputs = self.model(input_ids)\n",
    "        \n",
    "        results = {\n",
    "            'layer_predictions': {},\n",
    "            'moe_analysis': {},\n",
    "            'hidden_states': {} if return_hidden_states else None\n",
    "        }\n",
    "        \n",
    "        # Analyze layer outputs\n",
    "        for layer_idx, outputs in self.layer_outputs.items():\n",
    "            if not outputs:  # Skip if no outputs captured\n",
    "                continue\n",
    "            hidden_states = outputs[-1]  # Get last captured output\n",
    "            \n",
    "            \n",
    "            \n",
    "            \n",
    "            # Get token predictions for this layer\n",
    "            top_tokens = get_top_k_tokens(hidden_states, self.model.lm_head, self.tokenizer)\n",
    "            results['layer_predictions'][layer_idx] = top_tokens\n",
    "            \n",
    "            if return_hidden_states:\n",
    "                results['hidden_states'][f'layer_{layer_idx}'] = hidden_states\n",
    "        \n",
    "        # Analyze MoE layers\n",
    "        for layer_idx in self.moe_gate_outputs.keys():\n",
    "            if not self.moe_gate_outputs[layer_idx]:\n",
    "                continue\n",
    "                \n",
    "            gate_data = self.moe_gate_outputs[layer_idx][-1]  # Get last captured data\n",
    "            combined_data = self.moe_combined_outputs[layer_idx][-1]\n",
    "            \n",
    "            # Initialize predictions dictionary by position\n",
    "            expert_predictions_by_pos = defaultdict(dict)\n",
    "            expert_hidden_states_by_pos = defaultdict(dict)\n",
    "            \n",
    "            # Process expert outputs by position\n",
    "            for expert_idx, data_list in self.expert_outputs[layer_idx].items():\n",
    "                for data in data_list:\n",
    "                    position = data['position']\n",
    "                    # Get predictions for this expert's output at this position\n",
    "                    predictions = get_top_k_tokens(\n",
    "                        data['output'].unsqueeze(0),\n",
    "                        self.model.lm_head,\n",
    "                        self.tokenizer\n",
    "                    )\n",
    "                    expert_predictions_by_pos[position][expert_idx] = predictions[0]  # [0] because we only have one prediction set\n",
    "\n",
    "                    # Store hidden states\n",
    "                    expert_hidden_states_by_pos[position][expert_idx] = {\n",
    "                    'hidden_state': data['hidden_state'].tolist(),\n",
    "                    'gate_weight': data.get('gate_weight', None)\n",
    "                }\n",
    "            \n",
    "            # Get predictions for shared expert if it exists\n",
    "            if self.shared_expert_outputs[layer_idx]:\n",
    "                shared_expert_predictions = get_top_k_tokens(\n",
    "                    self.shared_expert_outputs[layer_idx][-1]['output'],\n",
    "                    self.model.lm_head,\n",
    "                    self.tokenizer\n",
    "                )\n",
    "            \n",
    "            # Update experts_analysis dictionary to include hidden states\n",
    "            experts_analysis = {\n",
    "            'selected_experts': gate_data['topk_idx'].tolist(),\n",
    "            'expert_weights': gate_data['topk_weight'].tolist(),\n",
    "            'aux_loss': gate_data['aux_loss'].item() if gate_data['aux_loss'] is not None else None,\n",
    "            'expert_predictions_by_position': dict(expert_predictions_by_pos),\n",
    "            'expert_hidden_states_by_position': dict(expert_hidden_states_by_pos),\n",
    "            'shared_expert_predictions': shared_expert_predictions if self.shared_expert_outputs[layer_idx] else None\n",
    "        }\n",
    "            \n",
    "            # Get token predictions from combined output\n",
    "            combined_tokens = get_top_k_tokens(\n",
    "                combined_data['combined_output'], \n",
    "                self.model.lm_head,\n",
    "                self.tokenizer\n",
    "            )\n",
    "            \n",
    "            experts_analysis['combined_output_tokens'] = combined_tokens\n",
    "            results['moe_analysis'][layer_idx] = experts_analysis\n",
    "\n",
    "        return results\n",
    "    \n",
    "    def cleanup(self):\n",
    "        \"\"\"remove all registered hooks\"\"\"\n",
    "        for hook in self.hooks:\n",
    "            hook.remove()\n",
    "        self.hooks.clear()\n",
    "\n",
    "def analyze_deepseek_moe(model, tokenizer, input_text: str, return_hidden_states: bool = False):\n",
    "    \"\"\" analyze DeepSeek MoE model behavior for given input text \"\"\"\n",
    "    analyzer = DeepseekLayerAnalyzer(model, tokenizer)\n",
    "    analyzer.register_hooks()\n",
    "    \n",
    "    input_ids = tokenizer(input_text, return_tensors=\"pt\").input_ids\n",
    "    \n",
    "    try:\n",
    "        results = analyzer.analyze_tokens(input_ids, return_hidden_states=return_hidden_states)\n",
    "        return results\n",
    "    finally:\n",
    "        analyzer.cleanup()  "
   ]
  },
  {
   "cell_type": "code",
   "execution_count": 5,
   "metadata": {},
   "outputs": [],
   "source": [
    "def get_post_attn_ln_inputs(model, tokenizer, text):\n",
    "    \"\"\"places a hook on the post attention layernorm to retrieve its inputs\"\"\"\n",
    "    # Store inputs in a dict mapping layer idx -> inputs\n",
    "    post_attn_ln_inputs = {}\n",
    "    hooks = []\n",
    "    \n",
    "    def hook_post_attn_ln(module, input, output, layer_idx):\n",
    "        if layer_idx not in post_attn_ln_inputs:\n",
    "            post_attn_ln_inputs[layer_idx] = []\n",
    "        post_attn_ln_inputs[layer_idx].append([x.detach() for x in input])\n",
    "    \n",
    "    # Register hooks on post attention layernorm for each layer\n",
    "    for i, layer in enumerate(model.model.layers):\n",
    "        hooks.append(\n",
    "            layer.post_attention_layernorm.register_forward_hook(\n",
    "                lambda m, i, o, idx=i: hook_post_attn_ln(m, i, o, idx)\n",
    "            )\n",
    "        )\n",
    "    \n",
    "    try:\n",
    "        # Run inference\n",
    "        input_ids = tokenizer(text, return_tensors=\"pt\").input_ids\n",
    "        model(input_ids)\n",
    "        \n",
    "        return post_attn_ln_inputs\n",
    "        \n",
    "    finally:\n",
    "        # Clean up hooks\n",
    "        for hook in hooks:\n",
    "            hook.remove()"
   ]
  },
  {
   "cell_type": "code",
   "execution_count": 6,
   "metadata": {},
   "outputs": [],
   "source": [
    "def get_layer_predictions_for_token(results: dict, layer_idx: int, token_pos: int) -> list:\n",
    "    # Ensure the layer exists in the results\n",
    "    if layer_idx not in results['layer_predictions']:\n",
    "        raise ValueError(f\"Layer {layer_idx} not found in the results.\")\n",
    "\n",
    "    # Get the layer predictions for the specified token position\n",
    "    layer_predictions = results['layer_predictions'][layer_idx][token_pos]\n",
    "    \n",
    "    # Return top 5 predictions\n",
    "    return layer_predictions[:5]\n",
    "\n",
    "def get_shared_expert_predictions_for_token(results: dict, layer_idx: int, token_pos: int) -> list:\n",
    "    # Ensure the layer exists in the results\n",
    "    if layer_idx not in results['moe_analysis']:\n",
    "        raise ValueError(f\"Layer {layer_idx} not found in the results.\")\n",
    "\n",
    "    # Get the MoE analysis for the specified layer\n",
    "    moe_analysis = results['moe_analysis'][layer_idx]\n",
    "\n",
    "    # Get the shared expert predictions for the specified token position\n",
    "    shared_predictions = moe_analysis['shared_expert_predictions'][token_pos]\n",
    "    \n",
    "    # Return top 5 predictions\n",
    "    return shared_predictions[:5]\n",
    "\n",
    "def get_expert_preds(results: dict, layer_idx: int, token_pos: int) -> list:\n",
    "    # Ensure the layer exists in the results\n",
    "    if layer_idx not in results['moe_analysis']:\n",
    "        raise ValueError(f\"Layer {layer_idx} not found in the MoE analysis results.\")\n",
    "        \n",
    "    # Get the MoE analysis for the specified layer\n",
    "    expert_preds = []\n",
    "    moe_analysis = results['moe_analysis'][layer_idx]\n",
    "    expert_predictions = moe_analysis['expert_predictions_by_position']\n",
    "    expert_toks = expert_predictions[token_pos]\n",
    "\n",
    "    for expert_idx, preds in expert_toks.items():\n",
    "        print(f'expert {expert_idx} : {preds}')\n",
    "        expert_preds.append((int(expert_idx), preds))\n",
    "\n",
    "    expert_preds = sorted(expert_preds, key=lambda x: x[0])\n",
    "        \n",
    "    return expert_preds"
   ]
  },
  {
   "cell_type": "code",
   "execution_count": 7,
   "metadata": {},
   "outputs": [],
   "source": [
    "def get_highest_pred_combined(results: dict, model, tokenizer, post_attn_ln_inputs, res_stream: bool, layer_idx: int, token_pos: int, k: int = 6) -> list:\n",
    "    \"\"\"gets predictions from combining top k experts weighted by their router weights, excluding shared experts\"\"\"\n",
    "    # Ensure layer exists in results\n",
    "    if layer_idx not in results['moe_analysis']:\n",
    "        raise ValueError(f\"Layer {layer_idx} not found in the MoE analysis results.\")\n",
    "        \n",
    "    # Get MoE analysis for the layer\n",
    "    moe_analysis = results['moe_analysis'][layer_idx]\n",
    "    \n",
    "    # Get expert weights for this token\n",
    "    expert_weights = {}\n",
    "    selected_experts = moe_analysis['selected_experts'][token_pos]\n",
    "    expert_weights_list = moe_analysis['expert_weights'][token_pos]\n",
    "    \n",
    "    if isinstance(selected_experts, int):\n",
    "        # Handle case where only one expert is selected\n",
    "        expert_weights[selected_experts] = 1.0\n",
    "    else:\n",
    "        # Handle case where multiple experts are selected with weights\n",
    "        for expert_idx, weight in zip(selected_experts, expert_weights_list):\n",
    "            # Skip shared experts\n",
    "            if expert_idx < 0:  # Shared experts typically have negative indices\n",
    "                continue\n",
    "            expert_weights[expert_idx] = weight\n",
    "                \n",
    "    # Get top k experts by weight\n",
    "    top_k_experts = sorted(expert_weights.items(), key=lambda x: x[1], reverse=True)[:k]\n",
    "    print(f'Using top {k} experts: {[expert[0] for expert in top_k_experts]}')\n",
    "    \n",
    "    # Initialize combined hidden state\n",
    "    combined_hidden_state = None\n",
    "    \n",
    "    # Combine hidden states from top k experts, weighted by their router weights\n",
    "    for expert_idx, weight in top_k_experts:\n",
    "        expert_hidden_state = moe_analysis['expert_hidden_states_by_position'][token_pos][expert_idx]['hidden_state']\n",
    "        \n",
    "        # Convert expert hidden state to tensor if it's a list\n",
    "        if isinstance(expert_hidden_state, list):\n",
    "            expert_hidden_state = torch.tensor(expert_hidden_state, dtype=torch.float16)\n",
    "            \n",
    "        # Weight the expert's hidden state by its router weight\n",
    "        weighted_hidden_state = expert_hidden_state * weight\n",
    "        \n",
    "        if combined_hidden_state is None:\n",
    "            combined_hidden_state = weighted_hidden_state\n",
    "        else:\n",
    "            combined_hidden_state += weighted_hidden_state\n",
    "    \n",
    "    # to include residual stream in the combined hidden state\n",
    "    if res_stream == True:\n",
    "        # Get residual stream\n",
    "        residual = post_attn_ln_inputs[layer_idx][-1][0][0][token_pos]\n",
    "        \n",
    "        # Add residual to combined expert hidden states\n",
    "        combined = combined_hidden_state + residual\n",
    "    else:\n",
    "        combined = combined_hidden_state\n",
    "    \n",
    "    # Get logits\n",
    "    logits = model.lm_head(combined.unsqueeze(0))\n",
    "    \n",
    "    # Get top 5 predictions\n",
    "    topk = torch.topk(logits[0], k=5)\n",
    "    scores = topk.values.tolist()\n",
    "    tokens = topk.indices.tolist()\n",
    "    \n",
    "    # Convert to token strings\n",
    "    predictions = []\n",
    "    for score, token in zip(scores, tokens):\n",
    "        token_str = tokenizer.decode(token)\n",
    "        predictions.append((token_str, score))\n",
    "        \n",
    "    return predictions"
   ]
  },
  {
   "cell_type": "code",
   "execution_count": 8,
   "metadata": {},
   "outputs": [],
   "source": [
    "def get_top_expert_with_residual(results, model, tokenizer, post_attn_ln_inputs, layer_idx, token_pos, expert_idx):\n",
    "    \"\"\"Gets predictions for a specific expert after adding residual\"\"\"\n",
    "    if layer_idx not in results['moe_analysis']:\n",
    "        raise ValueError(f\"Layer {layer_idx} not found in the MoE analysis results.\")\n",
    "        \n",
    "    # Get MoE analysis for the layer\n",
    "    moe_analysis = results['moe_analysis'][layer_idx]\n",
    "    \n",
    "    # Get expert hidden state\n",
    "    if token_pos not in moe_analysis['expert_hidden_states_by_position']:\n",
    "        return None\n",
    "    if expert_idx not in moe_analysis['expert_hidden_states_by_position'][token_pos]:\n",
    "        return None\n",
    "        \n",
    "    expert_hidden_state = moe_analysis['expert_hidden_states_by_position'][token_pos][expert_idx]['hidden_state']\n",
    "    \n",
    "    # Get residual stream\n",
    "    residual = post_attn_ln_inputs[layer_idx][-1][0][0][token_pos]\n",
    "    \n",
    "    # Convert expert hidden state to tensor if it's a list\n",
    "    if isinstance(expert_hidden_state, list):\n",
    "        expert_hidden_state = torch.tensor(expert_hidden_state, dtype=torch.float16)\n",
    "    \n",
    "    # Add residual to expert hidden state\n",
    "    combined = residual + expert_hidden_state\n",
    "    \n",
    "    # Get logits\n",
    "    logits = model.lm_head(combined.unsqueeze(0))\n",
    "    \n",
    "    # Get top 5 predictions\n",
    "    topk = torch.topk(logits[0], k=5)\n",
    "    scores = topk.values.tolist()\n",
    "    tokens = topk.indices.tolist()\n",
    "    \n",
    "    # Convert to token strings\n",
    "    predictions = []\n",
    "    for score, token in zip(scores, tokens):\n",
    "        token_str = tokenizer.decode(token)\n",
    "        predictions.append((token_str, score))\n",
    "        \n",
    "    return predictions\n",
    "\n",
    "def get_top_experts_order(results, layer_idx, token_pos):\n",
    "    \"\"\"Gets the order of top experts by their weights\"\"\"\n",
    "    if layer_idx not in results['moe_analysis']:\n",
    "        return []\n",
    "        \n",
    "    moe_data = results['moe_analysis'][layer_idx]\n",
    "    expert_weights = {}\n",
    "    \n",
    "    if token_pos >= len(moe_data['selected_experts']):\n",
    "        return []\n",
    "        \n",
    "    experts = moe_data['selected_experts'][token_pos]\n",
    "    weights = moe_data['expert_weights'][token_pos]\n",
    "    \n",
    "    for expert_idx, weight in zip(experts, weights):\n",
    "        expert_weights[expert_idx] = weight\n",
    "            \n",
    "    # Sort experts by weight\n",
    "    sorted_experts = sorted(expert_weights.items(), key=lambda x: x[1], reverse=True)\n",
    "    return [expert_idx for expert_idx, _ in sorted_experts]"
   ]
  },
  {
   "cell_type": "code",
   "execution_count": 9,
   "metadata": {},
   "outputs": [],
   "source": [
    "def create_logit_lens_viz(analysis_results, tokenizer, post_attn_ln_inputs, token_pos=0, color='sunset', layers_to_plot=[]):\n",
    "    \"\"\"Creates a modern heatmap visualization of predictions across model layers.\"\"\"\n",
    "    # Initialize data structures\n",
    "    n_layers = max(analysis_results['layer_predictions'].keys()) + 1\n",
    "    data = []\n",
    "    all_values = []\n",
    "    \n",
    "    # Process each layer\n",
    "    for layer in range(n_layers):\n",
    "        if layers_to_plot and layer not in layers_to_plot:\n",
    "            continue\n",
    "            \n",
    "        row = {\n",
    "            'layer': layer,\n",
    "            'l_out': None,\n",
    "            'routed_combined': None,\n",
    "            'top_exp_1': None,\n",
    "            'top_exp_2': None,\n",
    "            'top_exp_3': None,\n",
    "            'top_exp_4': None,\n",
    "            'top_exp_5': None,\n",
    "            'top_exp_6': None,\n",
    "            'predictions': {\n",
    "                'l_out': [],\n",
    "                'routed_combined': [],\n",
    "                'top_exp_1': [],\n",
    "                'top_exp_2': [],\n",
    "                'top_exp_3': [],\n",
    "                'top_exp_4': [],\n",
    "                'top_exp_5': [],\n",
    "                'top_exp_6': [],\n",
    "            },\n",
    "            'expert_ids': {},\n",
    "            'expert_weights': {},\n",
    "            'top_tokens': {\n",
    "                'l_out': '',\n",
    "                'routed_combined': '',\n",
    "                'top_exp_1': '',\n",
    "                'top_exp_2': '',\n",
    "                'top_exp_3': '',\n",
    "                'top_exp_4': '',\n",
    "                'top_exp_5': '',\n",
    "                'top_exp_6': '',\n",
    "            }\n",
    "        }\n",
    "        \n",
    "        # Layer predictions\n",
    "        layer_preds = get_layer_predictions_for_token(analysis_results, layer, token_pos)\n",
    "        if layer_preds:\n",
    "            row['l_out'] = layer_preds[0][1]\n",
    "            row['predictions']['l_out'] = layer_preds\n",
    "            row['top_tokens']['l_out'] = layer_preds[0][0]\n",
    "            all_values.append(layer_preds[0][1])\n",
    "        \n",
    "        # Expert predictions\n",
    "        if layer in analysis_results['moe_analysis']:\n",
    "            # Get combined routed experts prediction\n",
    "            routed_preds = get_highest_pred_combined(analysis_results, model, \n",
    "                                                    tokenizer,\n",
    "                                                    post_attn_ln_inputs,\n",
    "                                                    res_stream=True, \n",
    "                                                    layer_idx=layer, \n",
    "                                                    token_pos=token_pos, \n",
    "                                                    k=6)\n",
    "            if routed_preds:\n",
    "                row['routed_combined'] = routed_preds[0][1]\n",
    "                row['predictions']['routed_combined'] = routed_preds\n",
    "                row['top_tokens']['routed_combined'] = routed_preds[0][0]\n",
    "                all_values.append(routed_preds[0][1])\n",
    "            \n",
    "            # Get expert weights\n",
    "            expert_weights = analysis_results['moe_analysis'][layer]['expert_weights'][token_pos]\n",
    "            expert_indices = analysis_results['moe_analysis'][layer]['selected_experts'][token_pos]\n",
    "            \n",
    "            # Sort experts by weights\n",
    "            expert_pairs = list(zip(expert_indices, expert_weights))\n",
    "            sorted_experts = sorted(expert_pairs, key=lambda x: x[1], reverse=True)\n",
    "            \n",
    "            # Get individual expert predictions\n",
    "            for i, (expert_idx, weight) in enumerate(sorted_experts[:6], 1):\n",
    "                col_key = f'top_exp_{i}'\n",
    "                expert_preds = get_top_expert_with_residual(analysis_results,\n",
    "                                                            model, \n",
    "                                                            tokenizer,\n",
    "                                                            post_attn_ln_inputs,\n",
    "                                                            layer,\n",
    "                                                            token_pos, \n",
    "                                                            expert_idx)\n",
    "                if expert_preds:\n",
    "                    row[col_key] = expert_preds[0][1]\n",
    "                    row['predictions'][col_key] = expert_preds\n",
    "                    row['top_tokens'][col_key] = expert_preds[0][0]\n",
    "                    row['expert_ids'][col_key] = expert_idx\n",
    "                    row['expert_weights'][col_key] = weight\n",
    "                    all_values.append(expert_preds[0][1])\n",
    "\n",
    "        data.append(row)\n",
    "    \n",
    "    valid_values = [v for v in all_values if v is not None]\n",
    "    vmin = min(valid_values) if valid_values else 0\n",
    "    vmax = max(valid_values) if valid_values else 1\n",
    "    \n",
    "    fig = go.Figure()\n",
    "    \n",
    "    columns = ['l_out', 'routed_combined'] + [f'top_exp_{i}' for i in range(1, 7)]\n",
    "    x_positions = list(range(len(columns)))\n",
    "    \n",
    "    # Use separate colorscales for logits and weights\n",
    "    logit_colorscale = color\n",
    "    weight_colorscale = [[0, 'rgba(200,200,200,0)'], [1, 'rgba(120,0,0,1)']]  # Gray to darker red\n",
    "\n",
    "    y_positions = list(range(len(data)))\n",
    "    \n",
    "    # Create base heatmap matrix\n",
    "    z_matrix = []\n",
    "    for row in data:\n",
    "        z_row = []\n",
    "        for col in columns:\n",
    "            if row['layer'] == 0 and col != 'l_out':\n",
    "                z_row.append(float('nan'))\n",
    "            else:\n",
    "                z_row.append(row[col] if row[col] is not None else float('nan'))\n",
    "        z_matrix.append(z_row)\n",
    "        \n",
    "    # Add main heatmap\n",
    "    fig.add_trace(go.Heatmap(\n",
    "        z=z_matrix,\n",
    "        x=x_positions,\n",
    "        y=y_positions,\n",
    "        colorscale=logit_colorscale,\n",
    "        showscale=True,\n",
    "        zmin=vmin,\n",
    "        zmax=vmax,\n",
    "        colorbar=dict(\n",
    "            title='logit value',\n",
    "            titleside='right',\n",
    "            y=0.5,\n",
    "            thickness=20,\n",
    "            len=0.5,\n",
    "            tickfont=dict(family='Inter', size=12),\n",
    "            titlefont=dict(family='Inter', size=14)\n",
    "        ),\n",
    "        hoverongaps=False\n",
    "    ))\n",
    "    \n",
    "    # Add overlays\n",
    "    for i, row in enumerate(data):\n",
    "        for j, col in enumerate(columns):\n",
    "            if row['layer'] == 0 and col != 'l_out':\n",
    "                continue\n",
    "                \n",
    "            if row[col] is not None:\n",
    "                normalized_value = (row[col] - vmin) / (vmax - vmin) if vmax != vmin else 0\n",
    "                text_color = 'white' if normalized_value > 0.5 else 'black'\n",
    "                \n",
    "                # Handle expert-specific elements\n",
    "                if col.startswith('top_exp_'):\n",
    "                    expert_id = str(row['expert_ids'].get(col, ''))\n",
    "                    expert_weight = row['expert_weights'].get(col, 0)\n",
    "                    \n",
    "                    # Expert ID without border\n",
    "                    fig.add_trace(go.Scatter(\n",
    "                        x=[j - 0.4],\n",
    "                        y=[i + 0.35],\n",
    "                        mode='text',\n",
    "                        text=[expert_id],\n",
    "                        textposition='middle center',\n",
    "                        textfont=dict(\n",
    "                            family='Inter', \n",
    "                            color=text_color, \n",
    "                            size=12\n",
    "                        ),\n",
    "                        hoverinfo='skip',\n",
    "                        showlegend=False\n",
    "                    ))\n",
    "                    \n",
    "                    # Weight value with enhanced visibility\n",
    "                    weight_text = f\"{expert_weight:.3f}\"\n",
    "                    fig.add_trace(go.Scatter(\n",
    "                        x=[j + 0.35],\n",
    "                        y=[i - 0.35],\n",
    "                        mode='text',\n",
    "                        text=[weight_text],\n",
    "                        textposition='middle center',\n",
    "                        textfont=dict(\n",
    "                            family='Inter', \n",
    "                            color=text_color, \n",
    "                            size=12\n",
    "                        ),\n",
    "                        hoverinfo='skip',\n",
    "                        showlegend=False\n",
    "                    ))\n",
    "                    \n",
    "                    # Weight indicator with separate color scale - now full width\n",
    "                    fig.add_shape(\n",
    "                        type=\"rect\",\n",
    "                        x0=j - 0.5,\n",
    "                        y0=i - 0.45,\n",
    "                        x1=j + 0.5,\n",
    "                        y1=i - 0.25,\n",
    "                        fillcolor=f'rgba(120,0,0,{expert_weight})',\n",
    "                        line=dict(width=0),  # Remove border\n",
    "                        layer='above'\n",
    "                    )\n",
    "                \n",
    "                # Token text\n",
    "                token_text = row['top_tokens'][col]\n",
    "                fig.add_trace(go.Scatter(\n",
    "                    x=[j],\n",
    "                    y=[i],\n",
    "                    mode='text',\n",
    "                    text=[token_text],\n",
    "                    textposition='middle center',\n",
    "                    textfont=dict(\n",
    "                        family='Inter', \n",
    "                        color=text_color, \n",
    "                        size=14\n",
    "                    ),\n",
    "                    hoverinfo='skip',\n",
    "                    showlegend=False\n",
    "                ))\n",
    "    \n",
    "    # Calculate dimensions\n",
    "    n_rows = len(data)\n",
    "    base_width = 1400\n",
    "    min_height_per_row = 80\n",
    "    plot_height = max(min_height_per_row * n_rows, 600)\n",
    "    \n",
    "    # Update layout\n",
    "    fig.update_layout(\n",
    "        xaxis=dict(\n",
    "            ticktext=['layer output', 'routed exp + res'] + [f'top exp {i} + res' for i in range(1, 7)],\n",
    "            tickvals=x_positions,\n",
    "            tickangle=-45,\n",
    "            showgrid=False,\n",
    "            zeroline=False,\n",
    "            title='',\n",
    "            color='black',\n",
    "            range=[-0.5, len(columns) - 0.5],\n",
    "            constrain='domain',\n",
    "            tickfont=dict(family='Inter', size=14),\n",
    "            side='bottom',\n",
    "            ticklen=10,\n",
    "            tickmode='array',\n",
    "            ticks='outside',\n",
    "            showline=False,\n",
    "            tickprefix='  '\n",
    "        ),\n",
    "        yaxis=dict(\n",
    "            autorange='reversed',\n",
    "            showgrid=False,\n",
    "            zeroline=False,\n",
    "            title=dict(\n",
    "                text='Layer',\n",
    "                font=dict(family='Inter', size=16)\n",
    "            ),\n",
    "            color='black',\n",
    "            range=[-0.5, len(data) - 0.5],\n",
    "            ticktext=[str(row['layer']) for row in data],\n",
    "            tickvals=y_positions,\n",
    "            tickfont=dict(family='Inter', size=14),\n",
    "            constrain='domain',\n",
    "            side='left',\n",
    "            ticklen=10,\n",
    "            tickmode='array',\n",
    "            ticks='outside',\n",
    "            showline=False,\n",
    "            ticksuffix='  '\n",
    "        ),\n",
    "        plot_bgcolor='white',\n",
    "        paper_bgcolor='white',\n",
    "        width=base_width,\n",
    "        height=plot_height,\n",
    "        margin=dict(l=80, r=120, t=50, b=100),\n",
    "        hovermode='closest'\n",
    "    )\n",
    "    \n",
    "    # Add cell borders with enhanced visibility\n",
    "    for i in range(len(data)):\n",
    "        for j in range(len(columns)):\n",
    "            fig.add_shape(\n",
    "                type=\"rect\",\n",
    "                x0=j-0.5,\n",
    "                y0=i-0.5,\n",
    "                x1=j+0.5,\n",
    "                y1=i+0.5,\n",
    "                line=dict(color='rgba(0,0,0,0.2)', width=1),\n",
    "                fillcolor=\"rgba(0,0,0,0)\",\n",
    "                layer=\"above\"\n",
    "            )\n",
    "    \n",
    "    # Add hover text\n",
    "    for i, row in enumerate(data):\n",
    "        for j, col in enumerate(columns):\n",
    "            if row['layer'] == 0 and col != 'l_out':\n",
    "                continue\n",
    "                \n",
    "            if row[col] is not None:\n",
    "                preds = row['predictions'][col]\n",
    "                if preds:\n",
    "                    pred_text = \"<br>\".join([f\"{token}: {score:.3f}\" for token, score in preds[:5]])\n",
    "                    if col.startswith('top_exp_'):\n",
    "                        real_id = row['expert_ids'].get(col)\n",
    "                        weight = row['expert_weights'].get(col, 0)\n",
    "                        hover_text = f\"Layer {row['layer']} expert {real_id} + residual (logit: {row[col]:.3f}, weight: {weight:.3f}):<br>{pred_text}\"\n",
    "                    else:\n",
    "                        hover_text = f\"Layer {row['layer']} {col} (logit: {row[col]:.3f}):<br>{pred_text}\"\n",
    "                    \n",
    "                    fig.add_trace(go.Scatter(\n",
    "                        x=[j],\n",
    "                        y=[i],\n",
    "                        mode='markers',\n",
    "                        marker=dict(opacity=0),\n",
    "                        hovertext=hover_text,\n",
    "                        hoverinfo='text',\n",
    "                        showlegend=False\n",
    "                    ))\n",
    "    \n",
    "    return fig"
   ]
  },
  {
   "cell_type": "markdown",
   "metadata": {},
   "source": [
    "---"
   ]
  },
  {
   "cell_type": "code",
   "execution_count": 28,
   "metadata": {},
   "outputs": [],
   "source": [
    "prompt = '''the quick brown fox jumps '''\n",
    "n = len(tokenizer.encode(prompt))\n",
    "\n",
    "analysis = analyze_deepseek_moe(\n",
    "    model, \n",
    "    tokenizer,\n",
    "    input_text=prompt\n",
    ")"
   ]
  },
  {
   "cell_type": "code",
   "execution_count": 11,
   "metadata": {},
   "outputs": [],
   "source": [
    "post_attn_ln_inputs = get_post_attn_ln_inputs(model, tokenizer, text=prompt)"
   ]
  },
  {
   "cell_type": "code",
   "execution_count": 12,
   "metadata": {},
   "outputs": [
    {
     "name": "stdout",
     "output_type": "stream",
     "text": [
      "Layer 0 predictions: [[('开辟', 1.318359375), ('晗', 1.244140625), ('wk', 1.2431640625), ('始终坚持', 1.2177734375), ('CM', 1.2080078125)], [('华盛', 1.12109375), ('AGA', 1.0419921875), ('OD', 1.03515625), ('ODO', 1.02734375), ('扭转', 0.99365234375)], [('UMP', 1.0712890625), (' QT', 1.0634765625), ('‐', 1.0341796875), ('OTS', 0.99169921875), ('ie', 0.9560546875)], [('ish', 1.392578125), ('�乐', 1.2607421875), ('ies', 1.15625), ('=\"../_', 1.099609375), ('wk', 1.0439453125)], [('\">:', 1.17578125), ('anat', 1.1728515625), ('ed', 1.1455078125), ('soever', 1.083984375), ('es', 1.0751953125)], [('AO', 1.185546875), ('QC', 1.1337890625), ('QL', 1.0537109375), ('QA', 1.0361328125), ('/', 1.013671875)], [('开辟', 1.009765625), ('WN', 0.9443359375), ('晖', 0.9296875), ('颓', 0.921875), ('固执', 0.9208984375)]]\n",
      "Layer 1 predictions: [[(' препратки', 91.0), ('不成', 88.625), ('扫', 88.4375), ('�乐', 88.375), ('idades', 88.0)], [('莫名其', 1.486328125), (' modernista', 1.3603515625), ('端正', 1.33984375), ('iso', 1.3154296875), ('ODO', 1.2783203125)], [('WL', 1.341796875), (' QT', 1.23828125), ('‐', 1.203125), ('fox', 1.1728515625), ('^@', 1.16015625)], [('ish', 1.49609375), ('ies', 1.423828125), ('er', 1.3857421875), ('=\"../_', 1.349609375), ('ishness', 1.294921875)], [('es', 1.521484375), ('yles', 1.48828125), ('ies', 1.431640625), ('estrat', 1.4267578125), ('\">:', 1.3486328125)], [('QL', 1.26171875), ('AX', 1.2216796875), ('狠狠', 1.216796875), ('肆', 1.2041015625), ('AO', 1.1962890625)], [(' n', 0.8427734375), ('留住', 0.763671875), ('ITH', 0.7265625), ('天赋', 0.72412109375), ('iling', 0.7177734375)]]\n",
      "Layer 2 predictions: [[(' препратки', 113.9375), ('�乐', 109.625), ('不成', 109.5625), ('扫', 108.5), ('idades', 108.375)], [(' modernista', 1.5693359375), ('iso', 1.541015625), ('ODO', 1.5341796875), ('莫名其', 1.505859375), (' ^', 1.490234375)], [('ie', 1.794921875), ('ench', 1.75390625), ('WL', 1.57421875), ('кази', 1.5390625), ('Existing', 1.53125)], [('ies', 1.701171875), ('мп', 1.662109375), ('ish', 1.55859375), (' bug', 1.5185546875), ('est', 1.515625)], [('es', 1.896484375), ('croft', 1.6806640625), ('eded', 1.57421875), ('ocar', 1.552734375), ('facet', 1.541015625)], [('AX', 1.609375), ('肆', 1.4091796875), ('QL', 1.3935546875), ('AO', 1.3857421875), ('AH', 1.36328125)], [('光彩', 0.9345703125), ('лата', 0.89599609375), ('iling', 0.873046875), ('ofs', 0.861328125), ('ERIC', 0.84619140625)]]\n",
      "Layer 3 predictions: [[(' препратки', 123.125), ('имна', 121.6875), ('不成', 120.0), ('�乐', 119.9375), ('idades', 119.1875)], [(' modernista', 1.990234375), ('ODO', 1.93359375), ('设法', 1.7783203125), ('GO', 1.7392578125), (' constitucional', 1.732421875)], [('ench', 1.84375), ('enari', 1.775390625), ('ie', 1.73828125), ('eler', 1.6650390625), ('Existing', 1.6328125)], [('malink', 3.19921875), ('subNav', 2.337890625), ('ies', 2.298828125), ('�乐', 2.29296875), ('бере', 2.22265625)], [('croft', 2.59765625), ('�乐', 2.419921875), ('ies', 2.34375), ('IEEEeqnarray', 2.31640625), ('soever', 2.29296875)], [('AX', 1.705078125), ('anders', 1.6162109375), ('肆', 1.58984375), ('ieth', 1.546875), ('ignt', 1.529296875)], [('лата', 1.2666015625), ('天赋', 1.1337890625), ('iling', 1.1240234375), ('ilk', 1.076171875), ('刻苦', 1.04296875)]]\n",
      "Layer 4 predictions: [[(' препратки', 129.625), ('имна', 126.875), ('�乐', 126.1875), ('不成', 125.5), ('idades', 123.8125)], [('зата', 2.271484375), ('ODO', 2.18359375), ('设法', 2.158203125), (' modernista', 2.134765625), ('GO', 2.115234375)], [('enari', 2.09765625), ('ests', 2.08203125), ('EST', 1.9697265625), ('фал', 1.9169921875), ('fold', 1.9150390625)], [('etts', 3.869140625), ('malink', 3.671875), ('profiler', 3.49609375), ('ies', 3.466796875), ('lie', 3.369140625)], [('croft', 3.171875), ('мбарди', 2.830078125), ('ies', 2.75), ('IEEEeqnarray', 2.71484375), ('мерикан', 2.697265625)], [('ignt', 2.056640625), ('肆', 1.8037109375), ('anders', 1.6826171875), ('per', 1.6630859375), ('ieth', 1.6357421875)], [('лата', 1.74609375), ('нева', 1.5087890625), ('光彩', 1.4775390625), ('urada', 1.443359375), ('вена', 1.318359375)]]\n",
      "Layer 5 predictions: [[(' препратки', 131.625), ('имна', 128.5), ('不成', 127.0625), ('�乐', 126.9375), ('idades', 125.25)], [('зата', 3.568359375), ('od', 3.251953125), ('领导', 3.072265625), ('龟', 2.9921875), ('onel', 2.951171875)], [('enari', 2.572265625), ('anomenada', 2.431640625), ('фал', 2.251953125), ('нията', 2.16796875), ('Existing', 2.1484375)], [('malink', 4.03515625), ('etts', 3.62109375), ('USTERED', 3.603515625), ('tablenot', 3.53125), ('ies', 3.404296875)], [('IEEEeqnarray', 3.55859375), ('inkler', 3.337890625), ('каз', 3.3125), ('мерикан', 3.17578125), ('estrat', 3.154296875)], [('ignt', 2.513671875), ('QC', 2.0625), ('ieth', 2.056640625), ('摘', 1.98828125), ('}_{\\\\{', 1.923828125)], [('光彩', 1.7431640625), ('urada', 1.7294921875), ('лата', 1.7177734375), ('ouse', 1.6484375), ('toctree', 1.6142578125)]]\n",
      "Layer 6 predictions: [[(' препратки', 133.125), ('имна', 129.5), ('不成', 128.0), ('�乐', 127.5625), ('idades', 126.0625)], [('зата', 3.76171875), ('od', 3.716796875), ('onel', 3.15234375), ('领导', 2.98046875), ('adays', 2.978515625)], [('фал', 3.177734375), ('anomenada', 2.677734375), ('enari', 2.625), ('EST', 2.5390625), ('est', 2.533203125)], [('зон', 4.02734375), ('profiler', 3.990234375), ('rae', 3.919921875), ('idian', 3.849609375), ('刻', 3.828125)], [('IEEEeqnarray', 4.359375), ('inkler', 3.73828125), ('каз', 3.34375), ('ADATA', 3.306640625), ('$^{\\\\', 3.275390625)], [('ignt', 2.708984375), ('怪', 2.498046875), ('QC', 2.474609375), ('RSS', 2.265625), ('姬', 2.2421875)], [(' modernista', 2.068359375), (' urbans', 2.00390625), ('光彩', 1.9033203125), ('ofs', 1.873046875), ('迟', 1.8427734375)]]\n",
      "Layer 7 predictions: [[(' препратки', 133.0), ('имна', 129.5), ('不成', 127.9375), ('�乐', 127.5625), ('idades', 126.1875)], [('зата', 3.927734375), ('od', 3.73828125), ('onel', 3.408203125), ('res', 3.1328125), ('镜', 3.12109375)], [('est', 3.111328125), ('фал', 3.0390625), ('anomenada', 2.92578125), ('EST', 2.884765625), ('Existing', 2.875)], [('qua', 4.0234375), ('profiler', 3.98046875), ('刻', 3.955078125), ('eters', 3.900390625), ('зон', 3.80078125)], [('IEEEeqnarray', 4.4609375), ('inkler', 4.0390625), ('ADATA', 3.345703125), ('inical', 3.328125), ('itivity', 3.318359375)], [('ignt', 3.400390625), ('qua', 3.189453125), ('ито', 3.111328125), ('RSS', 3.052734375), ('ugar', 3.037109375)], [(' modernista', 2.171875), ('2', 1.9560546875), ('inum', 1.908203125), ('4', 1.908203125), ('urada', 1.8984375)]]\n",
      "Layer 8 predictions: [[(' препратки', 133.0), ('имна', 129.5), ('不成', 127.9375), ('�乐', 127.375), ('idades', 126.3125)], [('зата', 3.939453125), ('od', 3.736328125), ('adays', 3.658203125), ('onel', 3.59765625), ('镜', 3.263671875)], [('est', 3.298828125), ('EST', 3.14453125), ('LR', 3.08203125), ('ie', 3.0546875), ('eler', 3.021484375)], [('刻', 4.375), ('bow', 4.19140625), ('horn', 4.15625), ('qua', 4.06640625), ('каз', 3.94140625)], [('IEEEeqnarray', 5.08203125), ('inkler', 4.3671875), ('inical', 4.09765625), ('��', 3.958984375), ('estrat', 3.876953125)], [('ignt', 3.4765625), ('qua', 3.283203125), ('ито', 3.18359375), ('ersal', 3.08984375), ('choice', 3.068359375)], [('ctl', 2.4609375), (' causant', 2.369140625), ('inria', 2.35546875), ('toctree', 2.34765625), ('atine', 2.32421875)]]\n",
      "Layer 9 predictions: [[(' препратки', 134.25), ('имна', 130.25), ('不成', 129.25), ('�乐', 127.8125), ('idades', 127.375)], [('зата', 4.28515625), ('od', 4.18359375), ('adays', 3.740234375), ('onel', 3.48828125), ('GL', 3.396484375)], [('ie', 3.869140625), ('est', 3.658203125), ('�', 3.578125), ('LR', 3.443359375), ('urn', 3.361328125)], [('刻', 4.51171875), ('imales', 4.38671875), ('onne', 4.3359375), ('Македония', 4.28515625), ('horn', 4.25390625)], [('IEEEeqnarray', 5.0), ('cean', 4.45703125), ('estrat', 4.3984375), ('ixer', 4.34375), ('essions', 4.16015625)], [('qua', 3.48828125), ('ignt', 3.484375), ('icina', 3.431640625), ('QC', 3.236328125), ('ст', 3.20703125)], [(' causant', 2.634765625), ('STOR', 2.546875), (' modernista', 2.46875), ('ctl', 2.46484375), ('UM', 2.322265625)]]\n",
      "Layer 10 predictions: [[(' препратки', 134.75), ('имна', 130.5), ('不成', 129.375), ('�乐', 128.125), ('idades', 127.8125)], [('зата', 4.76171875), ('od', 4.4453125), ('adays', 4.13671875), ('GAL', 3.849609375), (' modernista', 3.796875)], [('ie', 4.1015625), ('�', 3.9609375), ('est', 3.94140625), ('LR', 3.900390625), ('�', 3.666015625)], [('penat', 4.8515625), ('neck', 4.83984375), ('horn', 4.47265625), ('следова', 4.421875), ('snia', 4.39453125)], [('IEEEeqnarray', 5.7109375), ('itters', 4.890625), ('esia', 4.77734375), ('etor', 4.73046875), ('heter', 4.69921875)], [('constitution', 3.705078125), ('hpl', 3.61328125), ('Habitants', 3.580078125), ('icina', 3.55078125), ('QC', 3.5234375)], [('eses', 3.298828125), (' modernista', 3.173828125), (' causant', 2.912109375), (' observat', 2.90625), ('toctree', 2.896484375)]]\n",
      "Layer 11 predictions: [[(' препратки', 134.5), ('имна', 130.375), ('不成', 129.25), ('�乐', 128.5), ('idades', 127.9375)], [('od', 4.8671875), ('зата', 4.5546875), ('adays', 4.31640625), (' modernista', 4.109375), ('onel', 3.931640625)], [('est', 4.68359375), ('ie', 4.19921875), ('�', 4.09765625), ('LR', 4.03515625), ('EST', 3.865234375)], [('snia', 6.015625), ('malink', 5.91796875), ('imales', 5.89453125), ('widet', 5.77734375), ('sonian', 5.73046875)], [('IEEEeqnarray', 6.51171875), ('etor', 5.4140625), ('itters', 5.25390625), ('issin', 5.171875), ('esia', 4.953125)], [('Habitants', 4.5234375), ('constitution', 4.171875), ('ст', 4.1640625), ('rud', 4.15625), ('нав', 4.14453125)], [(' modernista', 4.046875), ('原文地址', 3.896484375), ('ither', 3.4921875), (' causant', 3.490234375), ('ety', 3.435546875)]]\n",
      "Layer 12 predictions: [[(' препратки', 136.875), ('имна', 130.875), ('不成', 130.75), ('idades', 129.5), ('�乐', 128.875)], [('adays', 4.8359375), ('od', 4.81640625), ('зата', 4.5234375), (' involunt', 4.46484375), (' modernista', 4.40625)], [('est', 5.84765625), ('ie', 5.3671875), ('oble', 4.64453125), ('ies', 4.62890625), ('LR', 4.58984375)], [('widet', 6.33203125), ('snia', 6.0859375), ('[][]{', 6.04296875), ('刻', 5.87890625), ('penat', 5.69921875)], [('IEEEeqnarray', 6.8046875), ('issin', 6.08984375), ('etor', 5.7578125), ('esia', 5.71484375), ('estrat', 5.671875)], [('нав', 4.3984375), ('constitution', 4.20703125), ('Habitants', 4.1484375), ('ст', 4.02734375), ('rud', 3.994140625)], [('原文地址', 4.32421875), (' modernista', 4.2109375), ('PHA', 3.748046875), ('над', 3.677734375), ('hdots', 3.58984375)]]\n",
      "Layer 13 predictions: [[(' препратки', 136.625), ('имна', 131.0), ('不成', 130.625), ('idades', 129.5), ('�乐', 129.25)], [(' involunt', 5.3671875), ('od', 5.2578125), ('adays', 4.77734375), ('зата', 4.74609375), ('ODO', 4.71875)], [('est', 6.03515625), ('ie', 5.4296875), ('ies', 5.28125), ('德', 5.01953125), ('urn', 4.96875)], [('widet', 7.2109375), ('AMS', 6.4765625), ('ilinear', 6.28515625), ('chitz', 6.18359375), ('�', 6.15234375)], [('issin', 6.46875), ('IEEEeqnarray', 6.23046875), ('estrat', 6.16796875), ('etor', 5.765625), ('itters', 5.546875)], [('adera', 5.5390625), ('STOR', 5.37890625), ('urant', 5.33203125), ('constitution', 5.16796875), ('ersal', 5.0859375)], [('原文地址', 4.2421875), ('STOR', 3.96484375), (' modernista', 3.86328125), ('LOP', 3.828125), ('над', 3.822265625)]]\n",
      "Layer 14 predictions: [[(' препратки', 138.0), ('不成', 131.875), ('имна', 131.25), ('idades', 130.125), ('batim', 129.0)], [('od', 6.0625), (' modernista', 5.65234375), ('adays', 5.62109375), ('atre', 5.53125), ('与人', 5.51171875)], [('est', 6.578125), ('ie', 5.9609375), ('ies', 5.95703125), ('紧急', 5.60546875), ('LK', 5.3359375)], [('毛', 6.81640625), ('AMS', 6.5546875), ('chitz', 6.5390625), ('�', 6.40234375), ('崇', 6.25)], [('IEEEeqnarray', 6.1796875), ('estrat', 6.16015625), (' забо', 5.84375), ('issin', 5.6953125), ('ILE', 5.671875)], [('adera', 6.44921875), ('urant', 6.1875), ('STOR', 6.18359375), ('нав', 6.04296875), ('constitution', 5.65234375)], [('原文地址', 4.86328125), (' modernista', 4.48046875), ('STOR', 4.375), ('ODO', 4.3046875), ('LOP', 4.109375)]]\n",
      "Layer 15 predictions: [[(' препратки', 138.25), ('不成', 131.875), ('имна', 130.875), ('idades', 130.0), ('batim', 128.125)], [(' modernista', 7.1015625), ('od', 6.90234375), (' involunt', 6.5703125), (' datada', 6.3125), ('ipi', 6.19140625)], [('est', 8.8671875), ('ies', 7.66796875), ('ests', 6.8203125), ('ie', 6.81640625), ('EST', 6.37109375)], [('AMS', 9.8828125), ('机', 9.8359375), ('�', 9.7421875), ('chitz', 8.578125), ('ison', 8.3828125)], [('estrat', 7.3515625), ('IEEEeqnarray', 7.0234375), ('itters', 6.27734375), ('issin', 6.21875), ('́', 6.19140625)], [('adera', 7.22265625), ('intosh', 6.91796875), ('нав', 6.66796875), (' observat', 6.6015625), ('urant', 6.3203125)], [(' modernista', 5.33203125), ('4', 4.9375), ('原文地址', 4.80078125), ('LOP', 4.734375), ('1', 4.69921875)]]\n",
      "Layer 16 predictions: [[(' препратки', 138.25), ('不成', 132.0), ('имна', 130.5), ('idades', 130.125), ('�乐', 127.875)], [(' modernista', 7.27734375), ('�乐', 7.16796875), ('od', 6.9296875), ('nex', 6.76953125), (' involunt', 6.609375)], [('est', 9.9140625), ('ies', 8.0703125), ('ie', 7.34375), ('ests', 7.16796875), ('lest', 7.05859375)], [('AMS', 10.8359375), ('chitz', 10.2109375), ('机', 9.6875), ('�', 9.453125), ('NLS', 8.8515625)], [('IEEEeqnarray', 7.85546875), ('itters', 7.0), ('estrat', 6.8203125), ('́', 6.8125), ('issin', 6.515625)], [('adera', 8.359375), ('нав', 7.87890625), ('quera', 7.66015625), ('enp', 7.65625), ('intosh', 7.37890625)], [('4', 6.23828125), ('1', 6.20703125), ('7', 6.0703125), ('9', 6.05078125), ('8', 5.9296875)]]\n",
      "Layer 17 predictions: [[(' препратки', 139.625), ('不成', 132.875), ('имна', 130.625), ('idades', 130.125), ('�乐', 128.125)], [('�乐', 8.96875), (' modernista', 8.046875), ('ODO', 7.93359375), ('atre', 7.81640625), ('od', 7.625)], [('est', 10.5859375), ('ie', 8.5859375), ('lest', 8.4453125), ('ies', 8.2578125), ('�乐', 7.515625)], [('机', 10.6953125), ('AMS', 10.640625), ('chitz', 9.9921875), ('机的', 9.3046875), ('NLS', 9.2890625)], [('IEEEeqnarray', 7.23046875), ('qua', 7.1953125), ('itters', 6.84375), (' Island', 6.75), ('=\"../_', 6.7109375)], [('quera', 8.984375), ('adera', 8.546875), ('intosh', 7.96484375), ('гнат', 7.44921875), ('翔', 7.36328125)], [(' modernista', 6.3828125), (' digraph', 6.30078125), (' observat', 6.25), (' внима', 6.20703125), ('LOP', 5.99609375)]]\n",
      "Layer 18 predictions: [[(' препратки', 140.125), ('不成', 132.875), ('имна', 130.25), ('idades', 130.125), ('�乐', 128.125)], [('atre', 10.03125), (' modernista', 9.7890625), ('设法', 8.46875), ('�乐', 8.3671875), ('时时', 8.34375)], [('ie', 13.5390625), ('est', 12.640625), ('ies', 11.4453125), ('каз', 9.890625), ('lime', 9.71875)], [('机', 10.8203125), ('fox', 10.4765625), ('AMS', 10.328125), ('机的', 9.828125), ('chitz', 9.0625)], [('=\"../_', 7.5234375), ('qua', 7.375), (' r', 7.24609375), (' Mar', 7.13671875), (' rejo', 7.1328125)], [('quera', 9.328125), ('intosh', 9.1171875), ('adera', 8.46875), ('ession', 7.6875), ('ymbol', 7.65234375)], [(' digraph', 7.8515625), (' modernista', 7.3125), (' observat', 6.78515625), ('�', 6.7421875), (' dalt', 6.65234375)]]\n",
      "Layer 19 predictions: [[(' препратки', 141.125), ('不成', 132.75), ('имна', 130.25), ('idades', 130.125), ('�乐', 128.875)], [('atre', 10.9296875), (' modernista', 9.71875), ('�乐', 9.2734375), ('设法', 8.9609375), ('sis', 8.9375)], [('ie', 15.09375), ('est', 13.0859375), ('ies', 12.859375), ('ening', 11.0234375), (' &', 10.296875)], [('fox', 11.875), ('机', 11.15625), ('AMS', 10.59375), ('NLS', 10.046875), ('机的', 9.7578125)], [(' rejo', 7.57421875), (' r', 7.55859375), ('qua', 7.40234375), ('=\"../_', 7.33203125), ('和中', 7.19921875)], [(' over', 11.59375), (' OVER', 11.0), ('гнат', 10.65625), ('quera', 10.5234375), ('ymbol', 10.375)], [(' observat', 7.859375), (' modernista', 7.75), (' digraph', 7.73046875), ('�', 7.26171875), ('urs', 6.875)]]\n",
      "Layer 20 predictions: [[(' препратки', 140.875), ('不成', 132.75), ('имна', 130.125), ('idades', 130.0), ('}$~\\\\', 128.875)], [('atre', 10.9140625), (' modernista', 10.453125), ('时时', 8.8046875), ('设法', 8.734375), ('sis', 8.2890625)], [('ie', 14.546875), ('est', 13.125), ('ies', 12.8046875), (' &', 10.859375), ('ening', 10.6875)], [('fox', 11.984375), ('AMS', 10.7265625), ('机', 10.5546875), ('Fox', 9.9453125), ('LASS', 9.5078125)], [(' r', 8.46875), ('\\n', 7.7734375), ('qua', 7.61328125), (' Island', 7.5625), ('=\"../_', 7.5546875)], [(' over', 13.4296875), (' OVER', 12.203125), ('quera', 11.9375), (' Over', 11.8984375), ('ymbol', 11.2109375)], [('ille', 10.1328125), ('urs', 10.015625), ('�', 8.90625), ('гат', 8.296875), ('TEL', 8.078125)]]\n",
      "Layer 21 predictions: [[(' препратки', 142.375), ('不成', 132.75), ('имна', 131.0), ('}$~\\\\', 130.75), ('idades', 129.875)], [('atre', 11.4375), (' modernista', 11.09375), ('设法', 9.4921875), ('时时', 9.46875), ('ODO', 9.1875)], [('ie', 16.328125), ('ies', 15.859375), ('ening', 14.21875), ('est', 14.0078125), ('fox', 12.59375)], [('fox', 16.0), ('Fox', 13.421875), (' fox', 12.1953125), ('AMS', 11.625), ('LASS', 11.3359375)], [('Jump', 12.3203125), (' lit', 11.3359375), (' r', 11.0390625), ('\\n', 10.8359375), (' J', 10.6484375)], [(' over', 22.03125), (' OVER', 19.234375), (' Over', 18.953125), ('over', 18.90625), ('Over', 17.796875)], [('ille', 11.4921875), (' over', 11.15625), ('over', 10.9609375), ('urs', 10.40625), ('�', 9.984375)]]\n",
      "Layer 22 predictions: [[(' препратки', 142.5), ('不成', 132.875), ('имна', 131.0), ('}$~\\\\', 131.0), ('idades', 129.75)], [('atre', 12.5546875), (' modernista', 11.515625), ('设法', 10.0703125), ('ISM', 9.7890625), ('时时', 9.6953125)], [('ie', 16.671875), ('ies', 15.7734375), ('ening', 15.03125), ('est', 13.9140625), (' &', 13.2265625)], [('fox', 17.9375), ('Fox', 15.515625), ('翔', 12.9140625), (' fox', 12.703125), ('AMS', 12.453125)], [('Jump', 11.8671875), (' lit', 11.2578125), (' J', 10.78125), ('\\n', 10.6015625), ('lit', 10.5078125)], [(' over', 20.5625), (' OVER', 19.109375), ('Over', 18.765625), ('over', 18.578125), (' Over', 18.53125)], [('over', 14.09375), (' over', 12.6484375), ('ille', 12.03125), ('urs', 11.796875), ('OVER', 11.609375)]]\n",
      "Layer 23 predictions: [[(' препратки', 139.375), ('不成', 129.5), ('}$~\\\\', 128.0), ('�乐', 126.9375), ('имна', 126.25)], [('atre', 12.765625), (' modernista', 12.3515625), ('设法', 11.96875), ('晗', 10.7890625), ('ISM', 10.7421875)], [('ie', 16.28125), ('ies', 15.3125), ('ening', 14.8125), ('est', 14.0390625), ('fox', 13.28125)], [('fox', 20.84375), ('Fox', 17.8125), (' fox', 15.6015625), ('翔', 14.5390625), (' Fox', 14.2890625)], [('Jump', 14.1171875), (' J', 11.5625), ('jump', 11.375), (' lit', 11.328125), ('lit', 10.765625)], [(' over', 18.578125), (' OVER', 17.625), ('Over', 16.59375), (' Over', 16.375), ('overy', 16.03125)], [('over', 16.359375), (' over', 15.578125), ('OVER', 13.6953125), (' над', 13.6640625), ('ille', 12.640625)]]\n",
      "Layer 24 predictions: [[(' препратки', 135.5), ('不成', 125.25), ('}$~\\\\', 124.8125), ('�乐', 122.5), (' carta', 121.25)], [(' modernista', 12.8671875), ('设法', 12.7734375), ('atre', 12.0625), ('ODO', 11.8671875), ('晗', 11.6640625)], [('ies', 15.9453125), ('ie', 15.8671875), ('ening', 15.7578125), ('est', 13.8828125), ('fox', 13.5)], [('fox', 24.140625), ('Fox', 20.578125), (' fox', 18.984375), (' Fox', 16.609375), ('翔', 14.9921875)], [('Jump', 16.984375), ('jump', 13.5546875), (' J', 12.34375), ('IEEEeqnarray', 10.890625), (' lit', 10.7109375)], [(' over', 18.34375), (' OVER', 18.171875), ('overy', 16.5625), ('Over', 16.46875), ('over', 16.09375)], [('over', 17.3125), (' over', 16.171875), ('OVER', 15.0625), ('urs', 14.15625), ('ille', 14.1015625)]]\n",
      "Layer 25 predictions: [[(' препратки', 133.5), ('}$~\\\\', 124.125), ('不成', 122.9375), ('�乐', 121.875), ('观点或立场', 118.625)], [('ODO', 14.59375), ('晗', 14.3828125), ('MIS', 13.765625), ('设法', 13.5234375), ('resar', 13.2265625)], [('ies', 17.21875), ('ie', 16.953125), ('ening', 16.484375), ('est', 15.125), (' &', 15.109375)], [('fox', 25.8125), ('Fox', 21.046875), (' fox', 20.34375), (' Fox', 16.765625), ('翔', 15.6796875)], [('Jump', 18.984375), ('jump', 15.5703125), ('\\n', 14.65625), (' J', 14.5390625), (' jumps', 13.875)], [(' over', 24.390625), (' OVER', 21.859375), ('Over', 20.40625), (' Over', 19.0625), ('over', 18.90625)], [('udisks', 20.6875), ('urant', 19.921875), ('icis', 19.6875), ('ille', 19.265625), ('rown', 19.171875)]]\n",
      "Layer 26 predictions: [[('�', 21.484375), (' Hague', 20.59375), ('WER', 19.328125), (' SEA', 18.75), ('ISAM', 18.53125)], [(' ', 20.671875), ('-', 18.984375), ('ODO', 15.796875), ('atre', 15.7578125), ('_', 15.6484375)], [(' ', 21.421875), (' and', 21.40625), ('ening', 20.90625), (' &', 20.65625), (' brown', 19.875)], [(' fox', 29.75), ('fox', 28.796875), ('\\n', 27.59375), (' Fox', 24.53125), ('Fox', 24.296875)], [('\\n', 30.421875), (' jumps', 27.640625), ('Jump', 26.03125), (' J', 25.140625), (' ', 24.828125)], [(' over', 43.5625), ('\\n', 34.75), (' Over', 30.921875), (' OVER', 30.625), ('Over', 29.015625)], [(' over', 36.0625), ('\\n', 27.953125), ('over', 27.5625), ('1', 27.28125), (' Over', 26.671875)]]\n",
      "Layer 27 predictions: [[('import', 23.109375), ('The', 21.859375), ('<?', 21.8125), ('package', 21.65625), ('【', 21.4375)], [(' film', 42.3125), (' ', 42.15625), (' best', 42.15625), (' art', 41.8125), (' world', 41.71875)], [(' and', 44.625), (' ', 41.4375), ('-', 41.09375), (' brown', 41.03125), (',', 39.53125)], [(' fox', 60.34375), ('\\n', 57.09375), (' ', 56.375), ('-', 54.09375), (' (', 53.625)], [(' ', 52.59375), ('\\n', 51.96875), (',', 51.65625), ('.', 50.125), (' (', 48.4375)], [(' over', 70.0), (' ', 63.34375), (',', 62.90625), ('\\n', 62.21875), ('.', 60.90625)], [(' over', 51.84375), ('1', 49.59375), ('0', 47.1875), ('2', 46.625), ('\\n', 46.125)]]\n",
      "\n",
      "MoE Layer 1:\n",
      "Selected experts: [[14, 34, 2, 42, 47, 1], [12, 34, 14, 22, 20, 57], [63, 59, 23, 22, 19, 38], [37, 19, 55, 33, 61, 60], [5, 61, 8, 59, 3, 43], [50, 59, 60, 41, 4, 29], [40, 14, 46, 47, 28, 6]]\n",
      "Expert weights: [[0.9814453125, 0.002964019775390625, 0.0009908676147460938, 0.0008630752563476562, 0.0006632804870605469, 0.0005273818969726562], [0.0697021484375, 0.15869140625, 0.13330078125, 0.061767578125, 0.034149169921875, 0.0281982421875], [0.252685546875, 0.09893798828125, 0.093505859375, 0.036407470703125, 0.0299530029296875, 0.02911376953125], [0.109375, 0.056640625, 0.051422119140625, 0.049652099609375, 0.049468994140625, 0.040496826171875], [0.1494140625, 0.1285400390625, 0.0819091796875, 0.038543701171875, 0.0341796875, 0.034088134765625], [0.0523681640625, 0.040863037109375, 0.1025390625, 0.10369873046875, 0.04815673828125, 0.033905029296875], [0.314697265625, 0.1956787109375, 0.0207061767578125, 0.018524169921875, 0.0179290771484375, 0.01776123046875]]\n",
      "Combined output tokens: [[(' препратки', 90.875), ('扫', 88.5), ('不成', 88.3125), ('idades', 88.125), ('�乐', 87.875)], [('9', 0.90283203125), ('0', 0.8916015625), ('2', 0.86767578125), ('7', 0.85693359375), ('1', 0.83740234375)], [('jov', 0.56982421875), ('nqu', 0.5341796875), ('ABLE', 0.53125), ('мене', 0.53076171875), ('懿', 0.52490234375)], [('=\"../_', 0.459716796875), ('JT', 0.4140625), ('HIN', 0.4140625), ('URA', 0.408447265625), ('咕', 0.3818359375)], [('奇迹', 0.5224609375), ('�乐', 0.4990234375), ('unshift', 0.495361328125), ('裹', 0.46630859375), ('jul', 0.4599609375)], [('eln', 0.38134765625), ('沾', 0.379638671875), ('chn', 0.37451171875), ('姓', 0.35791015625), ('████', 0.35302734375)], [('ilight', 0.396728515625), ('ibaba', 0.37744140625), ('iament', 0.364013671875), ('Browse', 0.3603515625), ('domen', 0.359619140625)]]\n",
      "Expert predictions by position: {0: {1: [('0', 0.54931640625), ('Read', 0.5107421875), (' t', 0.492431640625), ('ръ', 0.49169921875), ('MS', 0.487060546875)], 2: [('uid', 2.671875), ('being', 2.51171875), ('uzzi', 2.478515625), ('ного', 2.4140625), ('azar', 2.345703125)], 14: [('eso', 8.34375), ('ebly', 7.9765625), ('чик', 7.91015625), ('光灯', 7.89453125), ('�', 7.8359375)], 34: [('1', 10.171875), ('9', 10.1015625), ('2', 10.0234375), ('0', 9.640625), ('7', 9.0625)], 42: [('uid', 3.677734375), (' Firm', 3.3671875), ('去皮', 3.298828125), ('zing', 3.255859375), ('顶', 3.216796875)], 47: [('gis', 2.828125), ('INET', 2.677734375), ('othe', 2.65234375), ('garh', 2.546875), (' pendent', 2.544921875)]}, 4: {3: [(' R', 10.4453125), (' C', 9.4140625), (' S', 9.2265625), (' ', 8.7578125), ('dashed', 8.2578125)], 5: [('edom', 9.5), ('зви', 8.8359375), ('clud', 8.8203125), ('quita', 8.671875), (' Davy', 8.1484375)], 8: [('ე', 11.453125), ('�乐', 10.7734375), ('襟', 9.734375), ('ractical', 9.65625), ('=\"//', 9.6328125)], 43: [('порт', 12.265625), ('ooft', 11.1015625), ('ondo', 10.546875), ('яви', 10.171875), ('ents', 9.9921875)], 59: [('мба', 9.421875), ('hatt', 8.8828125), ('XB', 8.8125), ('лър', 8.703125), ('吐', 8.359375)], 61: [('ront', 9.25), ('opro', 9.078125), ('fter', 8.84375), ('ugar', 8.8359375), (' <!--[', 8.3984375)]}, 5: {4: [('яло', 10.0078125), ('hta', 9.9140625), ('�', 9.296875), ('ole', 8.515625), ('�', 8.4453125)], 29: [(' *', 10.8984375), (' _', 10.296875), (' e', 10.078125), (' x', 9.9375), (' **', 9.515625)], 41: [('чности', 9.859375), ('реди', 9.1484375), ('bage', 8.9921875), ('зова', 8.859375), ('чност', 8.53125)], 50: [('ynchron', 8.890625), ('лата', 8.8203125), (' tast', 8.75), ('дал', 8.7109375), ('ples', 8.5859375)], 59: [('eq', 9.546875), ('рича', 8.6640625), ('的身份', 8.09375), (' ло', 7.83984375), ('角', 7.7421875)], 60: [('дра', 11.109375), ('illation', 9.953125), ('到家', 9.71875), (' Golden', 9.234375), ('emper', 8.3046875)]}, 6: {6: [('INTS', 7.26953125), ('otas', 6.8671875), (' Adels', 6.74609375), ('ites', 6.7109375), ('sies', 6.640625)], 14: [('resents', 11.375), ('ymer', 9.265625), ('визион', 9.03125), ('enzo', 8.546875), ('itte', 8.3515625)], 28: [('nag', 6.5), ('бли', 6.16796875), ('нали', 6.14453125), ('山大', 6.02734375), ('UAL', 5.9375)], 40: [('ife', 8.875), ('不在', 8.4140625), ('вети', 8.390625), ('rive', 8.3828125), ('obten', 8.2265625)], 46: [(' Ded', 7.91015625), ('dell', 7.41015625), ('组', 7.36328125), ('沟', 7.24609375), ('o', 6.9765625)], 47: [('�乐', 10.0234375), ('yntax', 10.0), ('iple', 9.25), ('vark', 9.203125), ('teix', 9.1171875)]}, 1: {12: [('illings', 8.6953125), ('PSC', 8.65625), ('�乐', 8.65625), ('assert', 8.6171875), (' multip', 8.6171875)], 14: [('#', 0.0), ('%', 0.0), ('!', 0.0), ('\"', 0.0), ('$', 0.0)], 20: [('UG', 9.7578125), (' Pa', 9.1328125), ('wain', 9.046875), ('IBA', 8.859375), (' Pent', 8.7265625)], 22: [('7', 10.375), ('9', 10.0703125), ('0', 9.984375), ('1', 9.78125), ('5', 9.4375)], 34: [('9', 8.96875), ('0', 8.40625), ('7', 8.34375), ('6', 8.1484375), ('3', 7.85546875)], 57: [('ilde', 9.515625), (' indi', 8.4296875), ('agin', 7.98046875), ('airo', 7.7890625), ('urther', 7.65234375)]}, 2: {19: [('lds', 10.046875), ('pload', 9.4375), ('laci', 9.3828125), ('SyntaxKind', 9.3515625), ('тю', 9.2734375)], 22: [('рения', 9.4375), ('涌', 9.0078125), ('INESS', 8.96875), ('рение', 8.8359375), ('aix', 8.7578125)], 23: [('ynchron', 10.71875), ('QUI', 9.5546875), ('rido', 9.265625), ('总部', 9.1484375), ('INLINE', 9.1171875)], 38: [('f', 8.4453125), ('粉', 8.234375), ('充', 8.046875), ('碎', 7.71875), (' dispos', 7.71484375)], 59: [(' llog', 9.5), ('�', 9.0859375), ('nel', 8.1953125), ('enko', 8.171875), ('asion', 8.171875)], 63: [('itaris', 10.9453125), ('ndefined', 10.046875), ('SPHIN', 9.765625), ('OperationKind', 9.375), ('ABLE', 9.1875)]}, 3: {19: [(' пребро', 9.359375), ('�乐', 9.3046875), ('peed', 8.8984375), ('BOX', 8.6796875), ('owers', 8.421875)], 33: [('itism', 8.6015625), ('ism', 8.4375), ('laci', 8.3984375), ('inical', 8.3984375), ('pon', 8.0703125)], 37: [('ophage', 8.8828125), ('бла', 8.7421875), ('ета', 8.5234375), ('inct', 8.359375), ('rayed', 8.328125)], 55: [(' C', 9.3828125), ('arent', 8.6328125), (' »', 8.609375), ('ing', 8.3359375), ('ori', 8.3125)], 60: [('retes', 9.3046875), (' annulus', 8.328125), (' пен', 8.046875), ('科', 8.046875), ('速', 7.59375)], 61: [(' -', 10.5390625), (' ', 8.4765625), (' --', 8.1171875), (' AUT', 8.0234375), ('解析', 7.96875)]}}\n",
      "Shared expert predictions: [[('被迫', 0.491455078125), ('ISAM', 0.46728515625), ('竣', 0.46484375), ('乞', 0.443115234375), ('INSEE', 0.44189453125)], [('钰', 0.31298828125), ('AGA', 0.287841796875), ('pei', 0.281982421875), ('LH', 0.276611328125), ('始终坚持', 0.27490234375)], [('HCI', 0.3173828125), (' dalt', 0.314697265625), ('沾', 0.300048828125), ('JT', 0.2978515625), ('*:', 0.294677734375)], [('始终坚持', 0.290283203125), ('JT', 0.287841796875), ('LH', 0.285888671875), ('犀', 0.28515625), ('固执', 0.283203125)], [('裹', 0.327392578125), ('野心', 0.30712890625), ('沾', 0.294921875), ('琦', 0.29296875), ('姗', 0.29150390625)], [('牢牢', 0.219482421875), ('沾', 0.21044921875), ('LH', 0.207275390625), ('HIN', 0.19921875), ('不求', 0.195556640625)], [('rere', 0.24658203125), (' detailing', 0.2158203125), ('renheit', 0.21484375), ('ostes', 0.2103271484375), ('nides', 0.1947021484375)]]\n",
      "\n",
      "MoE Layer 2:\n",
      "Selected experts: [[42, 63, 46, 14, 31, 61], [48, 11, 41, 31, 17, 30], [29, 44, 62, 48, 33, 59], [32, 35, 4, 43, 44, 18], [32, 1, 23, 43, 4, 54], [32, 23, 49, 35, 38, 8], [47, 15, 61, 20, 2, 12]]\n",
      "Expert weights: [[0.689453125, 0.071044921875, 0.00942230224609375, 0.0091705322265625, 0.00827789306640625, 0.00689697265625], [0.169677734375, 0.10595703125, 0.09515380859375, 0.08465576171875, 0.0662841796875, 0.03643798828125], [0.078369140625, 0.183349609375, 0.10443115234375, 0.06982421875, 0.06280517578125, 0.0469970703125], [0.0621337890625, 0.1248779296875, 0.1761474609375, 0.056732177734375, 0.050079345703125, 0.047882080078125], [0.056793212890625, 0.03668212890625, 0.126220703125, 0.060791015625, 0.2215576171875, 0.032501220703125], [0.037384033203125, 0.04571533203125, 0.039886474609375, 0.1856689453125, 0.099365234375, 0.037139892578125], [0.09759521484375, 0.2120361328125, 0.082763671875, 0.03912353515625, 0.03741455078125, 0.03558349609375]]\n",
      "Combined output tokens: [[(' препратки', 23.078125), ('观点或立场', 21.609375), ('�乐', 21.34375), ('不成', 21.0625), ('}$~\\\\', 20.78125)], [('9', 0.59130859375), ('7', 0.54931640625), ('5', 0.537109375), (' [', 0.5244140625), ('ild', 0.52197265625)], [('тат', 0.77587890625), ('Suite', 0.76611328125), ('喜', 0.7607421875), ('Inflater', 0.75732421875), ('ie', 0.7568359375)], [('бере', 0.80810546875), ('oice', 0.7080078125), (' bess', 0.63623046875), ('exist', 0.63623046875), ('elly', 0.63427734375)], [(' s', 0.9833984375), ('遣', 0.79833984375), ('ilic', 0.71533203125), ('�', 0.703125), ('egl', 0.69775390625)], [('TD', 0.6650390625), ('ام', 0.6376953125), ('议', 0.6064453125), ('滴', 0.58642578125), ('uxley', 0.58203125)], [('歧', 0.456787109375), ('炸', 0.424560546875), ('regon', 0.4111328125), ('Droid', 0.391845703125), ('油炸', 0.39111328125)]]\n",
      "Expert predictions by position: {4: {1: [('ultors', 10.96875), ('ъри', 10.734375), ('[--', 9.8203125), ('precated', 9.6953125), ('bisbe', 9.3203125)], 4: [('bera', 9.8671875), ('ifest', 9.5859375), ('amily', 8.625), ('semb', 8.5703125), ('迄', 8.5625)], 23: [('ilateral', 8.8984375), (' e', 8.8671875), ('eret', 8.6796875), ('LaTeX', 8.28125), (' Exterior', 8.0390625)], 32: [('idera', 10.7890625), ('SPHIN', 10.234375), ('rocal', 9.8125), (' senz', 9.78125), ('lique', 9.7109375)], 43: [('кли', 9.9765625), ('pis', 9.28125), ('ievable', 8.84375), (' examples', 8.625), (\"--'\", 8.546875)], 54: [('oyo', 9.3671875), ('asz', 9.2890625), ('usz', 8.484375), ('sets', 8.4140625), ('otine', 8.3359375)]}, 6: {2: [('рна', 10.125), ('shal', 8.859375), ('ети', 8.859375), (' aline', 8.015625), ('лай', 7.953125)], 12: [('�', 9.25), ('�', 9.15625), ('PR', 8.8671875), ('фро', 8.8125), ('FF', 8.4453125)], 15: [('aldi', 9.84375), ('oice', 9.71875), ('юсюл', 9.5859375), ('rror', 9.5390625), ('ctree', 9.46875)], 20: [('4', 10.71875), ('5', 10.375), ('6', 10.375), ('0', 10.296875), ('9', 10.2421875)], 47: [('рис', 10.4140625), ('ubre', 9.9375), (' ous', 9.421875), ('仅代表作者本人观点', 9.0859375), ('rez', 9.0390625)], 61: [('regs', 10.2734375), ('emon', 9.90625), ('azu', 9.4609375), ('ishi', 9.0078125), ('еди', 8.828125)]}, 3: {4: [(' s', 11.421875), ('chaff', 9.0078125), ('EXTERNAL', 8.9375), ('INLINE', 8.203125), ('ifera', 8.1328125)], 18: [('0', 11.8828125), ('6', 11.8671875), ('3', 11.75), ('4', 11.703125), ('7', 10.984375)], 32: [('end', 8.8203125), ('za', 8.5859375), ('�', 8.2890625), ('omal', 8.2578125), ('ждат', 8.203125)], 35: [('widet', 13.4921875), ('malink', 9.703125), ('diam', 9.5859375), ('��', 9.546875), ('wark', 9.0625)], 43: [('ievable', 10.65625), ('ordial', 9.328125), ('quart', 8.890625), ('imuth', 8.84375), ('ancel', 8.8125)], 44: [(' настоя', 8.546875), (' parlants', 8.2578125), ('风的', 8.1796875), ('不定', 8.03125), ('emplates', 8.03125)]}, 5: {8: [('ript', 9.03125), ('тев', 8.4140625), ('�', 8.359375), (' Render', 8.1640625), ('national', 8.1328125)], 23: [('3', 12.5859375), ('7', 11.953125), ('9', 11.6640625), ('2', 11.375), ('4', 11.1484375)], 32: [('uriformes', 9.75), ('ndies', 9.1875), ('pload', 8.78125), ('CEED', 8.609375), ('egl', 8.40625)], 35: [('atch', 9.6328125), ('ames', 9.140625), ('ich', 8.9609375), ('VAC', 8.8515625), ('ICH', 8.65625)], 38: [('�起', 10.484375), (' aline', 9.8515625), ('日内与', 9.4453125), ('GEST', 9.1015625), ('arre', 9.0546875)], 49: [('рад', 10.328125), ('��', 10.09375), ('пул', 9.640625), ('endem', 9.5234375), ('кса', 9.3984375)]}, 1: {11: [('leep', 9.4609375), ('eado', 9.046875), ('ucode', 8.984375), ('izu', 8.8046875), (' OX', 8.6171875)], 17: [('AGO', 8.9765625), ('人民', 8.71875), ('久', 8.4765625), ('legate', 8.125), ('Short', 8.078125)], 30: [('гати', 10.4765625), ('antis', 9.859375), ('rtic', 9.8046875), ('vex', 9.5546875), ('occ', 9.2734375)], 31: [('escut', 5.4765625), ('HDA', 4.81640625), ('HandleTypeDef', 4.5625), ('гане', 4.55859375), ('станбул', 4.53125)], 41: [('设法', 8.8203125), ('dri', 8.6796875), ('9', 8.484375), ('вър', 8.453125), ('sur', 8.015625)], 48: [('9', 10.796875), ('7', 9.484375), ('2', 9.1796875), ('ival', 9.1484375), ('6', 9.0234375)]}, 0: {14: [('apparmor', 7.90625), ('IEEEeqnarray', 7.453125), ('hdots', 7.42578125), ('утбо', 7.1015625), ('hearts', 7.01171875)], 31: [('3', 9.5703125), ('oria', 9.484375), ('8', 9.328125), ('7', 9.09375), ('2', 8.6875)], 42: [(' препратки', 7.6328125), ('�乐', 7.19921875), ('观点或立场', 7.109375), ('扫', 7.0390625), ('udi', 7.02734375)], 46: [('explot', 8.375), ('IEEEeqnarray', 8.2421875), ('имна', 7.6484375), ('��', 7.64453125), ('HECK', 7.4609375)], 61: [('ster', 6.2890625), ('ografies', 5.9375), ('�', 5.859375), ('ymer', 5.18359375), ('复印', 5.15625)], 63: [('batim', 7.5625), ('翼翼', 7.359375), ('али', 7.171875), ('ndar', 6.97265625), ('INSEE', 6.84375)]}, 2: {29: [('comings', 9.7109375), ('lectic', 9.2421875), ('�', 8.8515625), ('ernels', 8.8515625), ('卵管', 8.828125)], 33: [('cc', 10.8984375), ('短', 9.828125), ('CC', 9.5859375), (' cc', 9.34375), (' CC', 8.7109375)], 44: [('喜', 9.90625), ('Fuse', 9.234375), ('yles', 9.1015625), ('Suite', 8.640625), ('themselves', 8.5703125)], 48: [('ограф', 9.6484375), ('Theme', 9.609375), ('ium', 9.03125), ('Hon', 8.6875), ('ренски', 8.671875)], 59: [('ive', 9.546875), ('cell', 9.46875), ('ely', 9.296875), ('side', 8.3125), ('tr', 8.3125)], 62: [('ies', 12.2421875), ('ie', 10.3203125), ('eny', 8.8671875), ('amen', 8.6640625), ('imen', 8.3828125)]}}\n",
      "Shared expert predictions: [[('INSEE', 2.12109375), ('ndar', 2.068359375), ('翼翼', 2.05859375), ('мира', 2.046875), (' Mediterrani', 2.009765625)], [('�', 0.1790771484375), ('icro', 0.175537109375), ('练习', 0.1697998046875), ('�', 0.1689453125), ('菩提', 0.1685791015625)], [('apac', 0.2467041015625), ('面目', 0.237060546875), ('etr', 0.23486328125), ('懿', 0.23388671875), ('WHM', 0.22119140625)], [('nj', 0.2744140625), ('buk', 0.26220703125), ('设法', 0.25732421875), ('YP', 0.250732421875), ('ISO', 0.2479248046875)], [('бон', 0.297607421875), ('lic', 0.270263671875), ('BU', 0.269775390625), ('�', 0.259521484375), ('oice', 0.248779296875)], [('mith', 0.25732421875), ('ipel', 0.240966796875), ('ptrc', 0.2294921875), (' семейства', 0.2230224609375), ('圳', 0.2222900390625)], [('gh', 0.15576171875), ('协', 0.153076171875), ('спо', 0.147705078125), ('b', 0.14599609375), ('SAS', 0.1429443359375)]]\n",
      "\n",
      "MoE Layer 3:\n",
      "Selected experts: [[22, 62, 41, 46, 20, 31], [19, 54, 58, 31, 14, 25], [12, 19, 28, 54, 38, 5], [45, 9, 51, 53, 34, 17], [9, 51, 33, 34, 18, 1], [17, 23, 0, 27, 4, 40], [25, 21, 60, 35, 31, 50]]\n",
      "Expert weights: [[0.07196044921875, 0.5947265625, 0.05224609375, 0.020233154296875, 0.01099395751953125, 0.0095367431640625], [0.08087158203125, 0.135498046875, 0.08612060546875, 0.0714111328125, 0.052703857421875, 0.049896240234375], [0.10821533203125, 0.09417724609375, 0.06463623046875, 0.051971435546875, 0.0465087890625, 0.044921875], [0.10235595703125, 0.34228515625, 0.0882568359375, 0.08740234375, 0.0555419921875, 0.033660888671875], [0.455322265625, 0.06573486328125, 0.07147216796875, 0.03887939453125, 0.0306549072265625, 0.025970458984375], [0.099365234375, 0.182373046875, 0.08233642578125, 0.07049560546875, 0.035186767578125, 0.0266571044921875], [0.263427734375, 0.048583984375, 0.04718017578125, 0.045928955078125, 0.04559326171875, 0.035003662109375]]\n",
      "Combined output tokens: [[('batim', 14.4609375), (' indebted', 14.15625), ('ndar', 14.0703125), ('имна', 13.6875), ('али', 13.4609375)], [('ensi', 0.82470703125), ('�乐', 0.7236328125), ('GOR', 0.67041015625), ('直', 0.65869140625), ('resar', 0.6494140625)], [('estir', 0.56005859375), ('财政', 0.51123046875), (' f', 0.469482421875), ('�', 0.468505859375), ('eneral', 0.462158203125)], [('malink', 1.3515625), ('наги', 1.2041015625), (' Cicer', 1.1767578125), ('inclo', 1.1591796875), ('subNav', 1.1416015625)], [('�', 1.60546875), ('�乐', 1.5751953125), ('uaci', 1.388671875), ('alies', 1.376953125), ('lebre', 1.3525390625)], [('�', 0.78759765625), ('andum', 0.71533203125), ('lea', 0.654296875), ('FLAG', 0.6533203125), ('egie', 0.63916015625)], [('obr', 0.55224609375), ('孜', 0.5146484375), ('onal', 0.509765625), ('阳', 0.4775390625), (' scales', 0.474609375)]]\n",
      "Expert predictions by position: {5: {0: [('计', 9.6171875), ('rue', 9.2890625), (' \"', 9.1484375), ('�', 8.4765625), ('ob', 8.2109375)], 4: [('uit', 10.3671875), ('finish', 8.7734375), ('ijo', 8.4609375), ('terior', 8.375), ('ly', 8.09375)], 17: [('orthand', 9.9375), ('bigwedge', 9.3046875), ('起', 9.21875), ('联合会', 9.1328125), ('hes', 8.8046875)], 23: [('sti', 9.578125), ('igis', 8.8671875), ('�', 8.8125), ('дал', 8.6484375), (' litt', 8.6328125)], 27: [('гал', 10.5390625), (';&', 9.046875), ('CHANT', 8.7109375), ('esc', 8.3671875), ('Rank', 8.21875)], 40: [(' Сити', 7.53125), ('unge', 7.4609375), ('俱乐部', 7.09765625), ('burg', 6.95703125), ('ball', 6.95703125)]}, 4: {1: [(' present', 8.90625), ('翅', 8.8203125), ('yntax', 8.3828125), (' control', 8.15625), ('adr', 8.125)], 9: [('malink', 11.0), (' Aw', 8.5), ('cnic', 8.421875), ('咸', 8.359375), (' concert', 8.328125)], 18: [('Antecedents', 8.296875), (' Народ', 8.1171875), ('~(\\\\', 8.0859375), ('разява', 8.015625), ('zr', 7.9296875)], 33: [('atal', 9.8046875), ('paramname', 9.6328125), ('ipschitz', 9.515625), ('nsit', 9.4140625), ('amina', 9.234375)], 34: [('ressi', 12.7890625), ('uresa', 11.703125), ('диен', 11.328125), ('��', 10.96875), ('AudioEvent', 10.9296875)], 51: [('eturn', 10.5546875), ('IDTH', 10.0), ('auty', 9.6796875), ('orks', 9.625), ('ollow', 9.21875)]}, 2: {5: [('фен', 10.3828125), ('是真的', 9.34375), ('ypse', 9.2265625), ('登录', 8.9765625), ('anship', 8.9765625)], 12: [(' v', 9.4140625), ('l', 9.2421875), (' u', 9.1328125), ('u', 8.8984375), (' l', 8.875)], 19: [('rah', 10.0390625), (' forth', 9.21875), ('bush', 8.6328125), ('вол', 8.3984375), ('ovitch', 8.265625)], 28: [(' дем', 9.40625), (' passat', 8.984375), (' tornada', 8.578125), ('吧', 8.46875), (' граници', 8.3984375)], 38: [('сор', 9.0390625), ('�乐', 8.9375), ('��', 8.2421875), ('рана', 8.2109375), ('ist', 8.140625)], 54: [('Македония', 9.046875), ('EAR', 8.9765625), ('choice', 8.6796875), ('agona', 8.640625), ('┈', 8.5234375)]}, 3: {9: [('�', 11.75), ('�乐', 11.203125), ('uaci', 9.1796875), ('blink', 9.046875), ('idual', 8.921875)], 17: [('въ', 10.15625), ('低下', 9.0546875), ('ites', 8.8359375), ('uther', 8.7421875), ('isch', 8.625)], 34: [('lef', 8.6953125), ('annels', 8.578125), (' PPA', 8.5703125), ('侮', 8.3046875), ('ář', 8.1875)], 45: [('ALES', 9.171875), ('立卡', 9.1015625), ('olta', 8.9296875), ('bower', 8.6015625), ('栓', 8.484375)], 51: [('uple', 10.2734375), ('IMPORTED', 10.234375), ('ashian', 10.03125), ('strument', 9.9296875), ('�', 9.8671875)], 53: [('STATS', 8.890625), ('iat', 8.7578125), ('rawler', 8.5625), ('ident', 8.5078125), ('linen', 8.2578125)]}, 1: {14: [('рес', 11.125), ('visi', 9.921875), ('çà', 9.90625), ('元的', 9.765625), ('issi', 9.5078125)], 19: [('inters', 8.9375), ('�', 8.9296875), ('ensi', 8.234375), ('ISHED', 8.21875), ('xspace', 8.109375)], 25: [('2', 14.171875), ('5', 11.515625), ('1', 11.4140625), ('7', 11.3359375), ('4', 11.328125)], 31: [('ARK', 10.5234375), ('5', 9.8515625), ('9', 9.1171875), ('7', 8.9765625), ('onte', 8.421875)], 54: [('arques', 10.9921875), ('-\\\\!', 10.5546875), ('bserv', 10.3984375), ('ishop', 10.0078125), ('inical', 9.5703125)], 58: [(' rest', 11.0859375), ('�乐', 9.71875), ('яване', 9.046875), (' buff', 8.9375), ('oda', 8.84375)]}, 0: {20: [('0', 9.3125), ('9', 8.1328125), ('7', 7.984375), ('2', 7.73828125), ('4', 7.59765625)], 22: [('不成', 8.0), ('诈', 6.8671875), ('6', 6.85546875), ('�乐', 6.6953125), (':.', 6.65625)], 31: [('ollers', 11.125), ('monton', 10.2265625), ('enni', 9.3046875), (' //-->', 8.6015625), ('uelen', 8.515625)], 41: [('�乐', 7.15625), ('DLINE', 6.7734375), ('herself', 6.72265625), ('ocal', 6.66796875), (' saddle', 6.57421875)], 46: [('0', 10.46875), ('9', 10.4453125), ('7', 10.4296875), ('6', 10.0078125), ('8', 9.8046875)], 62: [('batim', 6.69140625), (' indebted', 6.5625), ('ndar', 6.43359375), ('али', 6.3515625), ('имна', 6.31640625)]}, 6: {21: [('nima', 10.234375), ('udad', 9.8125), ('ostei', 9.75), ('VolumeSource', 9.6953125), ('imension', 9.546875)], 25: [('ocells', 8.78125), ('ships', 8.6875), ('мисъл', 8.3125), (' stand', 8.25), ('otes', 8.1640625)], 31: [('raine', 7.41796875), ('ą', 7.015625), ('keyboard', 6.9765625), ('enga', 6.96484375), ('esa', 6.91796875)], 35: [('eqno', 10.6796875), ('SError', 10.1171875), ('taf', 9.9921875), ('WSER', 9.859375), ('ALES', 9.4140625)], 50: [('ird', 8.5859375), ('omitempty', 7.98828125), ('pread', 7.9296875), ('Stored', 7.87109375), (' температ', 7.6328125)], 60: [('stranger', 10.15625), ('schild', 9.7265625), ('uders', 9.0703125), ('ز', 9.0546875), ('vier', 8.84375)]}}\n",
      "Shared expert predictions: [[('ndard', 0.6669921875), ('ufact', 0.54736328125), ('тори', 0.52490234375), ('naires', 0.5205078125), ('ouble', 0.501953125)], [('azu', 0.27734375), ('YL', 0.264892578125), ('alas', 0.263671875), ('�乐', 0.26318359375), ('pei', 0.262939453125)], [('�', 0.2978515625), ('如有关于', 0.289306640625), ('�', 0.280517578125), ('加入', 0.273681640625), ('所得', 0.271484375)], [('RIX', 0.356201171875), ('ец', 0.336669921875), ('idery', 0.332763671875), ('所得', 0.3310546875), ('acier', 0.32275390625)], [('olved', 0.384521484375), ('heses', 0.3564453125), (' Word', 0.33740234375), ('shel', 0.331787109375), ('стру', 0.3291015625)], [('ogonal', 0.457763671875), ('ас', 0.430908203125), ('illance', 0.410400390625), ('istram', 0.40869140625), ('endpoints', 0.40771484375)], [(' seny', 0.263671875), ('Works', 0.244140625), ('HD', 0.243408203125), ('HDR', 0.231689453125), ('口水', 0.230224609375)]]\n",
      "\n",
      "MoE Layer 4:\n",
      "Selected experts: [[18, 62, 0, 43, 17, 1], [59, 1, 38, 19, 44, 26], [39, 1, 62, 37, 6, 13], [39, 61, 62, 37, 27, 36], [57, 27, 39, 10, 8, 47], [39, 33, 49, 32, 47, 48], [49, 52, 2, 43, 31, 19]]\n",
      "Expert weights: [[0.60888671875, 0.02996826171875, 0.0231170654296875, 0.0101470947265625, 0.00951385498046875, 0.0095062255859375], [0.0882568359375, 0.09735107421875, 0.1865234375, 0.123779296875, 0.036834716796875, 0.0340576171875], [0.0782470703125, 0.1090087890625, 0.158935546875, 0.10821533203125, 0.03936767578125, 0.036712646484375], [0.03912353515625, 0.8095703125, 0.0270538330078125, 0.01439666748046875, 0.01235198974609375, 0.00891876220703125], [0.469482421875, 0.1795654296875, 0.048065185546875, 0.035919189453125, 0.025726318359375, 0.021209716796875], [0.09698486328125, 0.08905029296875, 0.07403564453125, 0.0643310546875, 0.050048828125, 0.045989990234375], [0.073486328125, 0.244384765625, 0.047698974609375, 0.097412109375, 0.031097412109375, 0.0310821533203125]]\n",
      "Combined output tokens: [[('писи', 6.8125), (' препратки', 6.68359375), ('batim', 6.640625), ('{}_', 6.4921875), ('�乐', 6.40625)], [('anter', 0.80615234375), ('зата', 0.75341796875), ('нам', 0.68359375), (' Pink', 0.68017578125), ('�乐', 0.6640625)], [('\">//', 0.7880859375), ('ляне', 0.7685546875), ('лява', 0.7060546875), ('ляна', 0.6826171875), (' .', 0.6767578125)], [('usters', 2.552734375), ('odis', 2.326171875), ('格', 2.21875), ('*+', 2.19140625), ('罗', 2.150390625)], [('gear', 1.3349609375), ('shima', 1.2412109375), ('jim', 1.189453125), ('quin', 1.17578125), ('quines', 1.1728515625)], [(' D', 0.88525390625), (' *', 0.8046875), (' S', 0.78125), (' d', 0.77294921875), (' f', 0.7490234375)], [('lid', 0.6455078125), ('eses', 0.576171875), ('anques', 0.56787109375), ('泡', 0.55908203125), ('geos', 0.55029296875)]]\n",
      "Expert predictions by position: {0: {0: [('慰', 6.56640625), (' denomination', 6.46875), ('entina', 6.46484375), ('valueOf', 6.44921875), ('INSEE', 6.4375)], 1: [('ulpt', 10.1484375), ('ника', 9.2109375), ('徒', 7.96875), ('olor', 7.95703125), (' Enc', 7.94921875)], 17: [('zig', 7.33984375), ('oux', 6.9296875), (' препратки', 6.90625), (' magistrat', 6.53515625), ('ndar', 6.37109375)], 18: [('batim', 7.71484375), ('писи', 7.671875), (' препратки', 7.61328125), ('{}_', 7.0859375), ('�乐', 6.76171875)], 43: [('ble', 9.546875), ('adv', 8.4765625), ('超标', 8.046875), ('drop', 7.91015625), ('versions', 7.84375)], 62: [('翼翼', 6.625), ('valueOf', 6.55859375), ('慰', 6.54296875), ('右手', 6.3359375), ('芒', 6.2890625)]}, 1: {1: [('��', 8.7890625), (' препратки', 7.44921875), (' Hague', 7.12890625), ('ELF', 6.984375), ('baselineskip', 6.8515625)], 19: [('3', 9.859375), ('4', 9.5078125), ('5', 8.875), ('结', 8.7890625), ('2', 8.1328125)], 26: [('ANT', 9.140625), ('semb', 8.7578125), (' health', 8.328125), ('читат', 8.2109375), ('unda', 8.1328125)], 38: [('anter', 8.8828125), ('G', 8.546875), ('贤', 8.2578125), ('休', 8.015625), ('зата', 7.890625)], 44: [('keyst', 11.3671875), ('=\"__', 9.8984375), ('是真的', 8.65625), ('ENI', 8.4609375), ('Ор', 8.34375)], 59: [('ambre', 9.625), ('SOs', 8.8359375), ('веро', 8.6796875), ('nigh', 8.6484375), ('селе', 8.3203125)]}, 2: {1: [('вайг', 9.78125), (' parroqu', 9.65625), ('пява', 9.6328125), ('omac', 9.265625), ('ullo', 8.96875)], 6: [('tingu', 9.2421875), ('odinger', 9.140625), ('bows', 9.0546875), ('Ingressos', 9.046875), (' Grau', 9.046875)], 13: [('unz', 9.0703125), ('麒', 8.6171875), ('xiety', 8.1484375), (\"*'\", 8.078125), ('yan', 8.0078125)], 37: [('OffRequest', 9.2734375), ('мисъл', 9.2421875), ('IEW', 8.875), ('\\xa0mil', 8.8359375), ('ExternalTask', 8.7578125)], 39: [('лярен', 9.9296875), ('徘', 9.8203125), ('anine', 9.25), ('gable', 8.7890625), ('ATERIAL', 8.703125)], 62: [('gvfs', 10.2734375), ('WEBPACK', 9.953125), ('SPHIN', 9.5234375), ('列', 9.515625), ('eved', 9.1328125)]}, 6: {2: [('ологически', 9.859375), ('тински', 9.796875), ('раел', 9.578125), ('защи', 9.1015625), ('thood', 8.9609375)], 19: [('ебсайт', 10.6328125), ('�乐', 9.5859375), ('anty', 9.5703125), ('guez', 9.3828125), ('сев', 9.3671875)], 31: [('esch', 8.84375), ('ensk', 8.7890625), ('yl', 8.7734375), ('Agent', 8.7421875), ('ради', 8.515625)], 43: [('itures', 5.15234375), ('��', 5.1484375), ('endas', 4.9296875), ('plural', 4.9140625), ('avers', 4.90625)], 49: [(' g', 10.59375), ('自由', 9.359375), (' d', 9.046875), (' b', 9.03125), (' P', 8.8515625)], 52: [('5', 11.6640625), ('2', 10.9765625), ('8', 10.578125), ('IMIT', 10.546875), ('7', 10.484375)]}, 4: {8: [('ренски', 10.265625), ('RN', 10.0625), ('vphantom', 8.828125), ('移', 8.7109375), ('aneously', 8.578125)], 10: [(' паза', 9.4765625), ('restant', 8.8515625), ('票', 8.7578125), ('hest', 8.671875), (' губер', 8.6328125)], 27: [(' подно', 9.71875), ('escut', 9.578125), ('шата', 9.53125), ('mlin', 9.3359375), (' защите', 8.7578125)], 39: [('мена', 10.3984375), ('менова', 10.2890625), ('restant', 9.6171875), ('PRESSION', 8.9140625), ('PREC', 8.5625)], 47: [(' наре', 9.78125), (' each', 8.90625), ('.\\\\,', 8.78125), ('roquois', 8.71875), ('ulsed', 8.4140625)], 57: [('gear', 8.578125), ('quo', 8.1875), ('illion', 8.078125), ('yan', 8.0234375), ('ntesis', 7.95703125)]}, 3: {27: [('agricultura', 9.0), ('刺', 8.96875), ('uple', 8.90625), ('浑', 8.84375), ('izer', 8.34375)], 36: [('osion', 7.23828125), ('кива', 6.93359375), (' wishes', 6.75390625), (' diffe', 6.73828125), (' Model', 6.67578125)], 37: [('uelto', 9.5), ('*}[!', 9.28125), ('фал', 9.265625), ('imales', 9.1953125), ('вени', 8.9765625)], 39: [('pl', 10.1875), ('qu', 10.171875), ('h', 9.8984375), ('ft', 9.828125), ('ped', 9.5625)], 61: [('usters', 10.0625), ('格', 9.1171875), (' Ven', 8.984375), ('eter', 8.796875), ('距', 8.578125)], 62: [('ndum', 9.15625), (' Serrat', 8.5703125), ('фал', 8.203125), (' екзар', 8.171875), ('eting', 8.046875)]}, 5: {32: [('per', 9.4375), ('省', 9.2421875), ('h', 9.0625), (' Ham', 8.8828125), ('1', 8.5703125)], 33: [('ue', 10.59375), ('atari', 8.5703125), ('ube', 8.4921875), (' D', 8.3828125), ('блю', 8.3359375)], 39: [('agger', 8.515625), ('san', 8.3671875), ('harp', 8.1484375), ('rases', 8.0703125), (' среща', 8.03125)], 47: [('ellar', 9.8203125), ('na', 9.4375), ('1', 8.984375), ('3', 8.8125), ('nect', 8.5859375)], 48: [('der', 8.3984375), ('ico', 8.25), (' ext', 8.1640625), ('ider', 8.0390625), ('юр', 7.83984375)], 49: [(' вери', 9.6171875), ('biter', 9.46875), ('бо', 8.578125), ('сли', 8.4140625), ('瓜', 8.3046875)]}}\n",
      "Shared expert predictions: [[('9', 1.2822265625), ('6', 1.1806640625), ('8', 1.1552734375), ('1', 1.083984375), ('3', 1.056640625)], [('abre', 0.2841796875), ('tol', 0.279052734375), ('otr', 0.260009765625), ('oelectric', 0.25439453125), ('umes', 0.245849609375)], [('igis', 0.345703125), ('beds', 0.31591796875), ('bed', 0.31103515625), ('bris', 0.290283203125), (' pers', 0.28955078125)], [('aui', 0.399169921875), ('arella', 0.375244140625), ('icode', 0.3603515625), ('rigu', 0.359619140625), ('UEL', 0.344482421875)], [('sona', 0.40625), ('nsol', 0.399169921875), (' sol', 0.385009765625), ('agara', 0.37353515625), ('fess', 0.34619140625)], [('rceil', 0.509765625), ('itud', 0.47021484375), ('stria', 0.4658203125), ('aried', 0.45361328125), ('ield', 0.42333984375)], [('aried', 0.34716796875), ('astres', 0.3134765625), ('nexi', 0.299072265625), ('威尔', 0.298828125), ('края', 0.2919921875)]]\n",
      "\n",
      "MoE Layer 5:\n",
      "Selected experts: [[7, 13, 24, 12, 36, 16], [42, 38, 33, 53, 49, 31], [42, 31, 38, 50, 51, 25], [51, 31, 16, 12, 35, 41], [32, 41, 36, 13, 0, 22], [32, 58, 37, 25, 13, 0], [37, 49, 40, 53, 58, 62]]\n",
      "Expert weights: [[0.1844482421875, 0.028472900390625, 0.026031494140625, 0.024749755859375, 0.023956298828125, 0.0233154296875], [0.258056640625, 0.09832763671875, 0.0863037109375, 0.07525634765625, 0.0697021484375, 0.0423583984375], [0.06671142578125, 0.035614013671875, 0.40869140625, 0.037078857421875, 0.060882568359375, 0.031646728515625], [0.13134765625, 0.11212158203125, 0.0931396484375, 0.06829833984375, 0.06591796875, 0.05743408203125], [0.08148193359375, 0.05523681640625, 0.483642578125, 0.068603515625, 0.04901123046875, 0.0297393798828125], [0.08203125, 0.1119384765625, 0.05633544921875, 0.152099609375, 0.06549072265625, 0.044158935546875], [0.2208251953125, 0.06884765625, 0.053070068359375, 0.044647216796875, 0.04327392578125, 0.0341796875]]\n",
      "Combined output tokens: [[('肋', 2.201171875), (' препратки', 2.1796875), ('{}_', 2.109375), ('urals', 1.84765625), (' Hague', 1.8154296875)], [('ambers', 1.966796875), ('龟', 1.8212890625), (' прите', 1.72265625), ('уза', 1.71484375), ('гледа', 1.6845703125)], [('大运', 1.0439453125), ('ი�', 0.88134765625), ('看书', 0.87939453125), ('双重', 0.85595703125), ('RID', 0.8525390625)], [('ensi', 0.99853515625), ('钰', 0.7890625), (' /.', 0.7412109375), ('ων', 0.70703125), ('циите', 0.6953125)], [('赶', 1.419921875), ('lah', 1.41796875), ('APE', 1.400390625), ('warts', 1.3515625), ('UE', 1.322265625)], [('awl', 0.93408203125), ('acis', 0.75927734375), ('yte', 0.75439453125), ('iski', 0.74560546875), ('咬', 0.74365234375)], [('ncy', 0.841796875), ('ام', 0.830078125), ('pload', 0.79248046875), ('acom', 0.7666015625), ('istor', 0.75146484375)]]\n",
      "Expert predictions by position: {4: {0: [(' _', 11.171875), ('olat', 8.203125), ('тист', 8.0625), ('adell', 7.98046875), ('xiv', 7.90234375)], 13: [('PROTO', 9.6796875), ('стур', 9.21875), ('TypeDef', 9.0078125), ('пие', 8.703125), ('TEL', 8.6484375)], 22: [('诱', 8.7890625), ('视镜', 8.6953125), ('atzem', 8.4765625), (' променя', 8.40625), ('еме', 8.1640625)], 32: [(' cos', 8.53125), (' exp', 8.09375), ('竟', 8.078125), (' dev', 7.76171875), (' brackets', 7.74609375)], 36: [('фе', 10.234375), ('athers', 9.734375), ('afone', 9.4296875), ('accio', 9.125), ('GeneratedMessage', 9.0390625)], 41: [('ан', 9.96875), ('анс', 9.8125), ('edic', 9.7890625), ('oux', 9.7109375), ('лици', 9.65625)]}, 5: {0: [('virt', 8.9296875), (' le', 8.2421875), (' ta', 8.140625), (' mon', 8.1171875), ('ност', 7.89453125)], 13: [('��', 9.78125), ('urar', 8.7890625), (' norma', 7.60546875), ('emale', 7.6015625), ('�', 7.55078125)], 25: [('нио', 11.265625), ('ablement', 10.1015625), ('uci', 8.734375), ('onian', 8.140625), ('лед', 8.0)], 32: [('tage', 9.40625), ('appa', 9.109375), ('yte', 8.6328125), ('дем', 8.4609375), (' anth', 8.421875)], 37: [('igner', 9.9375), ('pload', 9.2109375), ('Armada', 9.0703125), ('orea', 8.6015625), ('Translation', 8.4140625)], 58: [('emporal', 9.640625), ('endid', 8.3359375), ('avorite', 8.265625), ('ilon', 8.203125), ('ropolis', 7.953125)]}, 0: {7: [(' препратки', 8.5625), ('肋', 8.3046875), ('{}_', 8.265625), ('Chars', 6.98828125), ('urals', 6.97265625)], 12: [(' ello', 6.8984375), ('зия', 6.734375), ('alts', 6.67578125), (' Body', 6.64453125), (' repose', 6.58203125)], 13: [('atern', 10.0), ('WSER', 9.515625), ('chae', 9.484375), ('闭', 9.4453125), ('spic', 9.296875)], 16: [('8', 10.5546875), ('7', 10.1875), ('4', 9.828125), ('1', 9.78125), ('5', 9.59375)], 24: [('STRAINT', 7.9140625), ('pole', 6.1640625), ('适', 5.99609375), ('erity', 5.90234375), ('poles', 5.63671875)], 36: [('onica', 7.57421875), ('htable', 6.32421875), ('urable', 6.1953125), ('čí', 6.0625), (' CURRENT', 5.9140625)]}, 3: {12: [('mgr', 10.546875), ('een', 9.5625), ('ners', 8.53125), ('igy', 8.4375), ('inary', 8.3359375)], 16: [('queta', 7.52734375), (' xsi', 7.51953125), ('澳', 7.234375), ('хт', 6.64453125), (' Солу', 6.546875)], 31: [('ô', 8.7109375), (' directes', 8.5), ('ypse', 8.4921875), (' капа', 8.4609375), (' austr', 8.203125)], 35: [('anova', 10.0078125), ('aulay', 9.7578125), ('holtz', 8.984375), ('ilea', 8.8515625), ('viously', 8.8125)], 41: [('dorff', 11.4609375), (' me', 10.4375), ('groovy', 9.71875), (' единица', 9.5546875), ('agrang', 9.4140625)], 51: [('IFF', 8.8984375), ('封', 8.171875), ('dings', 8.0859375), (' /', 7.98828125), ('opies', 7.9140625)]}, 2: {25: [('ieren', 10.46875), ('ALES', 10.3515625), ('Фауна', 9.6640625), ('iesa', 9.640625), ('ждават', 9.4453125)], 31: [('ilian', 9.2109375), ('��', 8.5234375), ('MS', 8.2734375), ('Names', 7.859375), ('cha', 7.81640625)], 38: [('alada', 10.8046875), ('arme', 10.6875), ('jecture', 10.171875), ('edio', 10.09375), ('�', 9.7734375)], 42: [('ilius', 9.8125), ('�乐', 9.4375), ('ollers', 9.359375), ('itzar', 9.296875), ('��', 9.265625)], 50: [('ე', 10.3125), ('ismus', 10.1328125), ('ocratic', 9.296875), (' mas', 9.046875), (' сре', 8.671875)], 51: [(\"'::\", 8.796875), (' нито', 8.5703125), ('易', 8.546875), ('anos', 8.296875), (' Mim', 8.28125)]}, 1: {31: [('ე', 8.7734375), ('ansi', 8.4765625), ('ymen', 8.2890625), (' работни', 7.765625), ('lides', 7.75390625)], 33: [('comm', 10.875), (' comm', 10.2734375), ('qq', 9.7890625), ('为人', 8.90625), ('QQ', 8.8046875)], 38: [('iffe', 9.15625), ('双重', 8.7578125), ('大运', 8.703125), ('大枣', 8.609375), (' lud', 8.5859375)], 42: [('ambers', 10.0234375), ('уза', 8.859375), ('龟', 8.3203125), (' прите', 8.3046875), ('гледа', 7.98828125)], 49: [('otor', 9.3359375), ('hid', 9.0546875), (' wall', 8.6875), ('FORCE', 8.6171875), ('boa', 8.4375)], 53: [('ulles', 9.7421875), ('ALT', 8.671875), ('不可', 8.5859375), ('фор', 8.5703125), ('istine', 8.546875)]}, 6: {37: [('arter', 9.734375), ('ibm', 8.7421875), ('绪', 8.6875), ('agate', 8.6640625), ('��', 8.53125)], 40: [('ccions', 10.1640625), ('llustr', 10.0703125), ('riques', 10.015625), ('topsp', 10.0), (' teng', 9.7734375)], 49: [('тев', 9.171875), ('phal', 9.0234375), ('1', 8.6484375), ('igar', 8.625), ('WH', 8.2734375)], 53: [('itali', 9.7109375), ('atine', 9.5546875), ('inents', 9.296875), ('廷', 9.0859375), ('arp', 9.0625)], 58: [('顺风', 8.765625), ('izens', 7.875), ('一把', 7.83984375), ('堰', 7.796875), ('erenced', 7.609375)], 62: [('турен', 10.1171875), ('тура', 9.828125), ('$^', 9.0), ('ursal', 8.9453125), (' полет', 8.8984375)]}}\n",
      "Shared expert predictions: [[('lids', 0.403564453125), ('圾', 0.398681640625), ('枕', 0.395263671875), ('тру', 0.3935546875), ('уди', 0.39013671875)], [('ogl', 0.36083984375), ('covery', 0.3505859375), ('rize', 0.3291015625), ('oust', 0.32470703125), ('agnet', 0.323974609375)], [('inada', 0.40283203125), ('semb', 0.39501953125), ('сели', 0.379150390625), ('adem', 0.379150390625), ('IEEEeqnarray', 0.375)], [('钰', 0.5537109375), ('旁', 0.546875), ('рист', 0.5166015625), ('versely', 0.5029296875), ('得意', 0.501953125)], [('涯', 0.53955078125), (' vector', 0.482177734375), ('oed', 0.47900390625), ('穿上', 0.47412109375), ('汇', 0.461669921875)], [('PRB', 0.477783203125), ('lts', 0.457763671875), ('羲', 0.450927734375), ('ума', 0.443603515625), ('aried', 0.437744140625)], [('Svc', 0.393310546875), ('IRM', 0.364013671875), ('ctr', 0.359130859375), (' MCMC', 0.35400390625), ('�', 0.3369140625)]]\n",
      "\n",
      "MoE Layer 6:\n",
      "Selected experts: [[45, 63, 48, 29, 19, 27], [39, 19, 6, 60, 36, 21], [39, 21, 34, 6, 17, 37], [21, 37, 13, 17, 23, 27], [54, 13, 58, 21, 37, 27], [37, 21, 18, 29, 43, 40], [24, 60, 20, 55, 56, 21]]\n",
      "Expert weights: [[0.33203125, 0.0400390625, 0.0253448486328125, 0.020904541015625, 0.0207366943359375, 0.0204620361328125], [0.1005859375, 0.1002197265625, 0.08050537109375, 0.06689453125, 0.051177978515625, 0.050537109375], [0.08880615234375, 0.180419921875, 0.117431640625, 0.06884765625, 0.039306640625, 0.0345458984375], [0.243896484375, 0.1529541015625, 0.10089111328125, 0.037872314453125, 0.035064697265625, 0.030975341796875], [0.20361328125, 0.154541015625, 0.1383056640625, 0.09918212890625, 0.0538330078125, 0.045501708984375], [0.1522216796875, 0.139404296875, 0.04058837890625, 0.065185546875, 0.037322998046875, 0.036224365234375], [0.047515869140625, 0.1533203125, 0.048828125, 0.0546875, 0.12445068359375, 0.03326416015625]]\n",
      "Combined output tokens: [[('яна', 1.73046875), ('andes', 1.69921875), (' препратки', 1.642578125), ('肋', 1.6376953125), ('urals', 1.5498046875)], [('sters', 0.64697265625), ('ster', 0.6396484375), ('od', 0.63623046875), ('tel', 0.63330078125), ('WI', 0.60693359375)], [('etr', 1.0498046875), ('ONS', 1.0146484375), ('htra', 1.001953125), ('无人机', 0.96337890625), ('遥', 0.96044921875)], [('мби', 1.9443359375), ('木齐', 1.6181640625), ('гда', 1.5830078125), ('ITES', 1.5322265625), ('被害', 1.4853515625)], [('itters', 1.306640625), ('psum', 1.2451171875), ('dni', 1.2373046875), ('vetica', 1.2158203125), ('uaries', 1.185546875)], [('esperan', 1.197265625), ('ungen', 1.1875), ('espera', 1.15625), ('padre', 1.0966796875), (' апо', 1.0859375)], [('elist', 0.759765625), ('克兰', 0.736328125), ('彼得', 0.73095703125), ('itr', 0.72119140625), ('idus', 0.71337890625)]]\n",
      "Expert predictions by position: {1: {6: [('ussen', 12.828125), ('onos', 9.7109375), ('berger', 9.140625), ('uster', 8.3984375), ('tx', 8.359375)], 19: [('athered', 9.5234375), ('ced', 8.75), ('fford', 8.3828125), ('andro', 8.2578125), ('дис', 8.25)], 21: [('MOD', 10.4765625), ('щите', 9.9140625), ('buck', 9.8515625), ('uedes', 9.390625), ('piration', 9.3203125)], 36: [('4', 10.171875), ('3', 9.9453125), ('6', 9.9140625), ('0', 9.84375), ('tym', 9.8046875)], 39: [('anomenada', 9.0546875), ('ore', 8.890625), (' Box', 8.7109375), ('ind', 8.4375), ('ep', 8.25)], 60: [('elist', 10.453125), ('onto', 9.765625), ('}||', 9.375), ('зон', 8.921875), ('厥', 8.78125)]}, 2: {6: [('Lie', 9.6953125), ('Habitants', 9.296875), ('Vtbl', 9.125), ('ygon', 9.078125), ('�', 9.0703125)], 17: [('olat', 11.6171875), ('illed', 10.328125), ('близ', 8.421875), ('tona', 8.109375), ('ulat', 8.1015625)], 21: [('ugal', 9.9140625), ('饮', 8.921875), (' Sur', 8.6328125), ('Overlay', 8.6015625), ('DIRECT', 8.578125)], 34: [('eters', 9.2421875), ('猕', 8.328125), ('VOKE', 8.1796875), ('bitat', 8.0703125), ('免', 7.8046875)], 37: [('ostart', 9.9375), ('auce', 9.65625), (' нова', 9.65625), ('ockets', 9.59375), ('еку', 9.453125)], 39: [('}--', 8.5), ('振', 8.328125), ('OC', 8.1796875), ('alan', 8.1640625), ('ired', 8.1328125)]}, 3: {13: [('enf', 9.3125), ('ELS', 8.9453125), ('amena', 8.6875), ('CLAIMED', 8.6015625), ('ROL', 8.25)], 17: [('节的', 8.6484375), ('�', 8.4765625), ('蚕', 8.40625), (' Jer', 8.328125), (' ports', 8.2734375)], 21: [('esperan', 12.1171875), ('oldt', 10.3046875), ('上加', 9.6328125), ('shint', 9.3671875), ('协', 8.953125)], 23: [('7', 11.65625), ('8', 11.4921875), ('2', 11.484375), ('0', 11.21875), ('6', 10.9765625)], 27: [('\\\\\\\\', 10.6640625), (' -', 9.8203125), ('6', 9.359375), ('3', 9.2734375), ('1', 9.171875)], 37: [('不信', 8.7578125), ('P', 8.5625), ('DI', 8.5), ('菠萝', 8.4765625), (' esc', 8.1875)]}, 4: {13: [('asma', 9.578125), ('wani', 9.4453125), ('itic', 9.1953125), ('warz', 8.96875), ('ENG', 8.609375)], 21: [('idel', 9.03125), ('Estudi', 8.875), ('ProcAddress', 8.625), (' Schottky', 8.6171875), ('uju', 8.5546875)], 27: [('e', 8.015625), ('k', 7.98046875), ('0', 7.96875), ('8', 7.88671875), ('em', 7.87890625)], 37: [(' _', 12.8125), (' N', 10.0390625), (' ta', 9.8125), ('\\xa0', 9.7109375), (' n', 9.546875)], 54: [(' xif', 9.6640625), ('URSS', 9.203125), (' aque', 9.046875), (' reaccion', 8.8046875), ('IEEEeqnarray', 8.765625)], 58: [('osus', 10.5390625), ('pmyadmin', 10.140625), ('Съби', 10.1171875), ('epsi', 10.0703125), ('ateral', 9.828125)]}, 5: {18: [(' Avui', 9.765625), ('时代', 9.2578125), ('leads', 9.0546875), ('espan', 8.796875), (' сериали', 8.7109375)], 21: [(' транспо', 10.40625), ('ръб', 10.2578125), ('widet', 10.171875), ('�', 9.90625), ('topsp', 9.8984375)], 29: [('tres', 7.234375), ('ymes', 7.09375), ('бя', 6.64453125), ('=\"../../../../../../../../', 6.578125), ('ovn', 6.37109375)], 37: [('ров', 10.828125), ('hedra', 8.8359375), ('feu', 8.1171875), ('销', 8.078125), ('卧', 8.03125)], 40: [('ariidae', 10.0703125), (' бря', 9.96875), ('�', 9.484375), ('akala', 9.390625), ('addAction', 9.234375)], 43: [('тев', 11.46875), (' ras', 9.609375), ('мп', 9.328125), ('avall', 9.171875), ('спе', 8.6015625)]}, 0: {19: [('驱', 8.203125), ('цар', 8.171875), ('微商', 7.8984375), ('algia', 7.7734375), ('arien', 7.50390625)], 27: [('利物', 8.5), ('�', 8.265625), ('strap', 8.0), (' h', 7.953125), (';', 7.9140625)], 29: [('xies', 11.078125), ('4', 9.5390625), ('3', 9.1953125), ('ρα', 9.1015625), ('LIT', 8.9296875)], 45: [('яна', 8.984375), (' препратки', 8.6171875), ('andes', 8.53125), ('肋', 8.3515625), ('ян', 8.1484375)], 48: [('ittings', 9.1640625), ('肋', 8.984375), ('plural', 8.921875), ('INSEE', 8.7890625), ('ames', 8.5546875)], 63: [('eson', 7.8984375), ('ereix', 7.8203125), ('сев', 7.7265625), ('erir', 7.6953125), ('�', 7.65625)]}, 6: {20: [('红旗', 8.453125), ('ск', 8.0), ('sed', 7.9140625), ('的钱', 7.90625), ('叔', 7.8984375)], 21: [('мби', 10.328125), ('$|\\\\', 9.609375), ('Estudi', 9.421875), ('oldt', 9.3828125), ('textsubscript', 9.234375)], 24: [('cedures', 10.0234375), ('($.', 9.7734375), ('asy', 9.515625), ('CEDURE', 9.078125), ('escut', 9.0390625)], 55: [('arcal', 11.1796875), ('arque', 11.0859375), ('рез', 10.046875), ('ashian', 8.9453125), ('iaci', 8.5625)], 56: [('рати', 9.7578125), ('绒', 9.15625), ('oline', 9.1015625), ('lean', 8.0546875), ('yv', 8.0390625)], 60: [('舒', 8.53125), ('idat', 8.4375), (' pe', 8.3125), ('ER', 8.2421875), ('subjects', 8.1796875)]}}\n",
      "Shared expert predictions: [[('asym', 0.233154296875), ('ERIC', 0.2283935546875), ('根本上', 0.2271728515625), ('��', 0.2205810546875), ('estres', 0.214599609375)], [('ELF', 0.492431640625), ('tel', 0.4619140625), (' WIL', 0.461669921875), ('ceptor', 0.458984375), ('�', 0.45361328125)], [(' Bourn', 0.42724609375), ('北上', 0.4248046875), ('ailability', 0.42041015625), (' Bann', 0.41455078125), ('estring', 0.401611328125)], [('вица', 0.771484375), (' |^', 0.74365234375), (';=', 0.720703125), (' Pons', 0.71044921875), (' honour', 0.70556640625)], [('хан', 0.458251953125), ('ird', 0.4267578125), ('entren', 0.404052734375), ('BOX', 0.3994140625), ('Box', 0.397705078125)], [(' repartia', 0.6669921875), (' integraven', 0.59228515625), ('赖', 0.52587890625), ('imales', 0.51904296875), ('estres', 0.51806640625)], [('lund', 0.6298828125), ('chas', 0.56396484375), ('itr', 0.5068359375), ('作品', 0.486083984375), ('ema', 0.45751953125)]]\n",
      "\n",
      "MoE Layer 7:\n",
      "Selected experts: [[21, 17, 55, 53, 45, 12], [23, 9, 38, 33, 55, 11], [9, 44, 55, 62, 46, 57], [21, 46, 62, 57, 56, 54], [56, 46, 21, 27, 13, 11], [45, 9, 54, 46, 18, 23], [9, 12, 45, 38, 61, 23]]\n",
      "Expert weights: [[0.041046142578125, 0.319091796875, 0.032928466796875, 0.0279388427734375, 0.0304107666015625, 0.0255889892578125], [0.0662841796875, 0.044586181640625, 0.06524658203125, 0.043060302734375, 0.32275390625, 0.02947998046875], [0.1494140625, 0.0753173828125, 0.1263427734375, 0.08465576171875, 0.06854248046875, 0.054168701171875], [0.1634521484375, 0.0938720703125, 0.0692138671875, 0.050445556640625, 0.04693603515625, 0.04052734375], [0.27099609375, 0.087646484375, 0.0809326171875, 0.06500244140625, 0.031829833984375, 0.031646728515625], [0.421875, 0.0675048828125, 0.0550537109375, 0.053985595703125, 0.027099609375, 0.0239410400390625], [0.118896484375, 0.23828125, 0.058502197265625, 0.054901123046875, 0.03350830078125, 0.031524658203125]]\n",
      "Combined output tokens: [[('andes', 0.25830078125), (' място', 0.250244140625), ('бела', 0.2479248046875), ('>(<', 0.2476806640625), ('apor', 0.22900390625)], [('fest', 1.0380859375), ('opo', 1.0146484375), ('镜', 0.99951171875), ('滔', 0.98876953125), ('гот', 0.984375)], [('alk', 0.91064453125), ('LR', 0.8564453125), ('利物', 0.82373046875), (' ledge', 0.80810546875), ('Пре', 0.80419921875)], [('роко', 1.076171875), ('meyer', 0.96728515625), ('晓彤', 0.92626953125), ('icans', 0.8857421875), (' Fine', 0.876953125)], [(' condicions', 1.1796875), ('偿', 1.177734375), ('cline', 1.1142578125), ('ixa', 1.1064453125), ('гау', 1.0947265625)], [(' KHz', 1.71484375), ('рд', 1.5966796875), ('ossom', 1.474609375), ('冲击', 1.4697265625), ('oxigen', 1.4072265625)], [('серва', 0.890625), ('重复', 0.8828125), ('pano', 0.85205078125), ('\"><![', 0.83837890625), ('emy', 0.79931640625)]]\n",
      "Expert predictions by position: {1: {9: [('тру', 8.8671875), ('ily', 8.4453125), ('кратно', 8.359375), ('留', 8.328125), (' сериали', 8.2578125)], 11: [('ail', 8.78125), ('铁', 8.6953125), ('固', 8.1640625), ('径', 8.140625), (' pass', 8.0703125)], 23: [('arra', 9.5234375), ('тро', 8.859375), ('ero', 8.4921875), ('ален', 8.21875), ('ани', 7.8984375)], 33: [('6', 14.3828125), ('1', 14.21875), ('7', 14.0390625), ('5', 13.8515625), ('3', 13.734375)], 38: [('��', 8.90625), ('nees', 8.2734375), ('立', 8.0078125), (' alt', 7.99609375), ('рев', 7.984375)], 55: [(' (', 9.8359375), ('\\xa0', 9.65625), (' _', 8.6015625), (' L', 8.4453125), (' Trent', 8.3515625)]}, 2: {9: [('alk', 9.8828125), ('ito', 8.8203125), ('ally', 8.5703125), ('ENC', 8.4765625), ('iced', 8.3671875)], 44: [('ibus', 9.75), (' Macdonald', 8.8515625), (' pra', 8.453125), (' MacDonald', 8.375), ('lu', 8.203125)], 46: [('契', 9.8828125), ('avi', 9.109375), ('的事实', 8.4375), ('avia', 8.171875), ('фал', 7.9765625)], 55: [('加', 9.8203125), (' Vital', 8.78125), ('vendor', 8.2578125), ('гот', 8.1796875), ('助', 8.03125)], 57: [('cap', 8.4609375), (' terminals', 8.046875), (' Policy', 7.72265625), ('accio', 7.70703125), ('ello', 7.703125)], 62: [('ductive', 9.765625), ('apim', 8.96875), ('hys', 8.421875), (' пис', 8.2578125), ('攀', 8.0234375)]}, 5: {9: [('vista', 9.3125), ('圈', 8.9765625), ('circled', 8.734375), ('escor', 8.3046875), ('icem', 8.0390625)], 18: [('pus', 10.3515625), ('ctive', 9.859375), ('emic', 9.1171875), ('addAction', 8.9140625), ('yers', 8.859375)], 23: [('emet', 9.984375), ('oms', 8.8515625), ('ocada', 8.8125), ('drom', 8.59375), ('okit', 8.5234375)], 45: [('рд', 9.46875), ('YNAMIC', 8.390625), (' Mal', 7.88671875), ('nob', 7.8671875), (' frame', 7.74609375)], 46: [('urus', 9.546875), ('eming', 9.2890625), ('пру', 8.3515625), ('esis', 8.3125), ('iret', 8.2578125)], 54: [('quei', 10.5859375), ('ounsel', 10.0703125), ('IOUS', 10.0546875), ('dorf', 9.796875), ('adders', 9.2734375)]}, 6: {9: [(' кри', 9.2578125), ('orb', 9.078125), ('лив', 8.8671875), ('спекти', 8.84375), ('unit', 8.6171875)], 12: [('кор', 10.21875), ('Община', 10.0234375), ('vider', 8.703125), ('regi', 8.5390625), ('ductors', 8.4453125)], 23: [('eqno', 10.15625), ('acials', 9.7734375), ('备', 9.5703125), ('adin', 8.7421875), ('贵人', 8.71875)], 38: [('政', 10.15625), ('抓', 8.890625), ('擦', 8.71875), ('odox', 8.640625), ('icrous', 8.4296875)], 45: [('eness', 8.6015625), ('oro', 7.60546875), ('imple', 7.0859375), ('ness', 7.04296875), ('antrop', 6.9921875)], 61: [('ат', 9.6015625), ('\\'].\"', 9.375), ('зва', 8.78125), ('уа', 8.25), ('дител', 8.1328125)]}, 4: {11: [('ITOR', 10.0390625), (' ipt', 9.1875), ('ned', 9.109375), ('iments', 9.09375), ('尔特', 8.828125)], 13: [('uy', 8.859375), (' pat', 8.5390625), ('炬', 8.3046875), ('jon', 8.0078125), ('лен', 7.94140625)], 21: [(' yet', 8.6875), ('brandt', 8.53125), (' object', 8.2265625), ('рок', 8.1640625), ('chains', 7.78125)], 27: [('anda', 9.4765625), ('ostics', 8.8046875), ('holds', 8.6015625), ('愈', 8.4453125), ('ля', 8.3359375)], 46: [('�乐', 10.2734375), ('кара', 9.7890625), ('роден', 9.609375), ('Жени', 9.3984375), ('щения', 9.2734375)], 56: [('ocom', 9.4921875), ('临', 9.3359375), ('iasis', 9.0390625), ('ousing', 8.8984375), ('ous', 8.671875)]}, 0: {12: [('icense', 9.484375), ('补', 9.21875), ('isb', 9.09375), ('欠', 8.953125), ('不含', 8.8203125)], 17: [('зми', 9.390625), ('laf', 8.8125), (' Observatory', 8.5703125), ('icy', 8.0859375), ('надле', 8.0703125)], 21: [('Населе', 9.71875), (' fdisk', 9.515625), ('рок', 9.3125), ('tees', 8.890625), ('бла', 8.875)], 45: [('补贴', 9.8125), ('ustr', 9.578125), ('隔', 8.71875), ('isc', 8.6328125), ('qua', 8.421875)], 53: [('肋', 8.6796875), ('胁', 8.3125), ('MAX', 8.1640625), ('乡镇', 8.0), ('чена', 7.859375)], 55: [(' -', 8.8671875), (',', 8.8671875), ('знание', 8.6640625), (' d', 8.59375), ('.', 8.3125)]}, 3: {21: [(' eaves', 7.97265625), ('oulos', 7.34375), ('{}_', 7.328125), ('чник', 7.02734375), ('andes', 7.015625)], 46: [('бов', 10.09375), ('坊', 9.1796875), ('бо', 8.8984375), ('房', 8.8515625), ('ajes', 8.8359375)], 54: [('opher', 10.6640625), ('оло', 9.6328125), ('��', 9.515625), (' пореди', 9.296875), ('rieved', 9.296875)], 56: [(' condicions', 8.65625), ('кон', 8.515625), ('TERM', 8.171875), ('上市公司', 8.15625), ('ourn', 8.078125)], 57: [('ivistic', 10.0546875), ('ikipedia', 9.78125), (' transmet', 9.296875), ('olocation', 9.046875), ('ruguai', 8.9921875)], 62: [('istre', 9.515625), ('akala', 9.1015625), ('lectuals', 8.7421875), ('onsor', 8.59375), ('valor', 8.5078125)]}}\n",
      "Shared expert predictions: [[('立卡', 0.2318115234375), (' място', 0.20947265625), ('ikon', 0.2054443359375), ('opon', 0.204345703125), ('>(<', 0.2017822265625)], [(' prov', 0.44580078125), ('kerchief', 0.439697265625), (' instr', 0.43505859375), (' Община', 0.42578125), ('OED', 0.4248046875)], [('AIPS', 0.68212890625), ('etapes', 0.5830078125), ('UNG', 0.56494140625), ('ODB', 0.52490234375), ('都市', 0.51611328125)], [('META', 0.662109375), ('odynam', 0.62158203125), ('aui', 0.59912109375), ('IRE', 0.58349609375), (' musulmana', 0.5673828125)], [('enu', 0.5703125), ('ura', 0.55517578125), ('BI', 0.5537109375), ('偿', 0.5537109375), ('ules', 0.54638671875)], [('螃', 0.9853515625), ('codep', 0.7412109375), ('oir', 0.71240234375), ('*}[', 0.68310546875), ('PIO', 0.6787109375)], [('fou', 0.6171875), ('盆', 0.609375), ('серва', 0.59619140625), ('копа', 0.57861328125), ('pence', 0.572265625)]]\n",
      "\n",
      "MoE Layer 8:\n",
      "Selected experts: [[49, 62, 43, 44, 18, 35], [63, 40, 11, 17, 58, 5], [63, 1, 17, 46, 33, 12], [6, 45, 46, 0, 20, 35], [32, 35, 20, 0, 43, 42], [37, 60, 53, 19, 36, 32], [52, 62, 45, 4, 32, 5]]\n",
      "Expert weights: [[0.0306243896484375, 0.036163330078125, 0.251708984375, 0.031494140625, 0.0333251953125, 0.029052734375], [0.1015625, 0.10565185546875, 0.09808349609375, 0.0670166015625, 0.06304931640625, 0.05352783203125], [0.060882568359375, 0.05731201171875, 0.07275390625, 0.0931396484375, 0.09857177734375, 0.0462646484375], [0.056610107421875, 0.05902099609375, 0.16015625, 0.03472900390625, 0.033905029296875, 0.032867431640625], [0.1087646484375, 0.36865234375, 0.07159423828125, 0.0537109375, 0.039794921875, 0.037841796875], [0.12548828125, 0.07568359375, 0.035125732421875, 0.0859375, 0.04498291015625, 0.0318603515625], [0.06304931640625, 0.061065673828125, 0.07623291015625, 0.06024169921875, 0.03790283203125, 0.0367431640625]]\n",
      "Combined output tokens: [[('andes', 0.366455078125), ('obres', 0.34326171875), ('枕', 0.33203125), ('opon', 0.32275390625), ('缀', 0.3095703125)], [('湃', 1.0146484375), ('憬', 0.9140625), ('\">:', 0.89306640625), ('броява', 0.89013671875), ('последствие', 0.87890625)], [(' COPY', 0.9541015625), ('onium', 0.94482421875), ('anne', 0.90380859375), ('COPY', 0.9013671875), ('Copy', 0.8701171875)], [('pora', 0.98876953125), ('�', 0.96728515625), ('роко', 0.96435546875), ('泊', 0.93115234375), ('NY', 0.890625)], [('ysm', 1.6484375), ('izar', 1.62109375), ('ELF', 1.60546875), ('erity', 1.5732421875), ('icem', 1.5419921875)], [('ugosl', 1.291015625), ('巴基', 1.1259765625), ('яр', 1.109375), ('计', 1.1044921875), ('冷', 1.1005859375)], [('ount', 1.1767578125), (' m', 0.97314453125), (' r', 0.9482421875), ('pst', 0.91845703125), ('ACP', 0.908203125)]]\n",
      "Expert predictions by position: {3: {0: [('va', 9.8515625), ('ildo', 9.4609375), ('ple', 8.6953125), ('�起', 8.578125), ('icas', 8.515625)], 6: [('弥', 8.8828125), (' units', 8.1484375), ('EZ', 8.0234375), ('胧', 7.7890625), ('ʊ', 7.72265625)], 20: [('�', 9.953125), ('窝', 8.75), ('焊', 8.4453125), ('лим', 8.3046875), ('Unt', 8.1875)], 35: [('9', 9.5703125), ('8', 9.3125), ('5', 9.1875), ('7', 9.125), ('6', 9.03125)], 45: [('ewrite', 11.546875), ('ateix', 11.234375), ('夫', 9.609375), (' Кън', 9.546875), (' форма', 9.125)], 46: [(' nombros', 9.8046875), ('惰', 9.4375), ('джър', 9.3125), ('ichan', 9.0078125), ('ibs', 8.6015625)]}, 4: {0: [('ophile', 8.484375), ('婆', 8.4296875), (' Teod', 8.40625), ('leep', 8.328125), (' Segura', 8.1328125)], 20: [('igr', 9.4140625), ('EZ', 9.3359375), (' trailing', 8.5703125), ('免费咨询电话', 8.5625), ('恩', 8.4609375)], 32: [('igrations', 9.3828125), ('rot', 9.0546875), ('remos', 8.6171875), ('格', 8.078125), ('私', 7.98828125)], 35: [('oiselle', 9.8359375), (' Pillow', 9.3125), ('ostic', 8.78125), ('INESS', 8.4921875), ('izar', 8.484375)], 42: [('eting', 9.9453125), ('oto', 9.921875), ('ings', 9.4296875), ('чка', 9.3671875), ('otos', 8.859375)], 43: [(' пребро', 9.703125), ('rtype', 9.09375), ('ctxt', 9.0546875), ('instrument', 8.7734375), ('ressos', 8.734375)]}, 2: {1: [('th', 8.515625), ('ether', 8.2578125), ('ride', 8.25), ('uant', 8.109375), (' &', 7.95703125)], 12: [('imentaci', 9.015625), (' напра', 8.546875), ('oble', 8.515625), ('tbody', 8.4765625), (' viles', 8.1796875)], 17: [('гот', 9.2109375), ('IQUE', 9.015625), ('静', 8.703125), ('matic', 8.4140625), ('erent', 8.3828125)], 33: [('guera', 12.1015625), ('onada', 10.84375), ('gue', 10.0703125), ('onats', 9.828125), ('mxd', 9.7421875)], 46: [('nal', 9.578125), ('hent', 8.53125), ('рядко', 8.4609375), ('getC', 8.3515625), ('ollary', 8.1796875)], 63: [('PointerException', 9.09375), ('zt', 8.59375), ('гове', 8.375), ('amac', 8.3046875), (' Moy', 7.84765625)]}, 6: {4: [('okit', 8.46875), ('ЕФА', 8.390625), ('бет', 8.390625), ('juju', 8.203125), ('灰', 8.1953125)], 5: [('PIO', 9.5859375), ('图片发自简书', 9.0234375), ('辩', 8.765625), ('groupId', 8.6953125), ('利物', 8.5)], 32: [('oldt', 11.0390625), ('同仁', 9.5234375), ('Чи', 9.2265625), ('ineq', 9.1015625), ('abet', 8.9453125)], 45: [('ondre', 8.8046875), ('вобо', 8.609375), ('quita', 8.5546875), ('esfor', 8.484375), ('pick', 8.3515625)], 52: [('6', 10.9296875), ('2', 10.5703125), ('4', 10.5234375), ('7', 10.40625), ('3', 10.3125)], 62: [('Това', 8.7421875), ('omin', 8.5546875), ('кор', 8.484375), ('бела', 8.328125), (' Hosp', 8.171875)]}, 1: {5: [('的优势', 9.359375), (' трибу', 8.546875), ('gast', 8.515625), ('Union', 8.4453125), ('直', 8.4375)], 11: [('мс', 10.234375), ('rogative', 9.484375), ('\"]\\').', 9.2890625), ('anar', 8.890625), (' lxc', 8.8359375)], 17: [('皮的', 9.671875), ('oa', 9.296875), ('цяло', 9.0234375), ('cplusplus', 8.78125), ('ken', 8.7734375)], 40: [('childnode', 11.4609375), ('stract', 9.8671875), ('PYG', 9.1484375), ('etapes', 9.03125), ('енбург', 9.0234375)], 58: [('aign', 8.5546875), ('UBE', 8.359375), ('ymoon', 8.2109375), ('谢', 8.1640625), ('看不见', 8.1328125)], 63: [('azine', 9.53125), ('拯', 8.8125), ('последствие', 8.7890625), ('etheless', 8.625), ('onesa', 8.359375)]}, 0: {18: [('9', 9.2578125), ('1', 8.6171875), ('0', 8.546875), ('ndon', 8.21875), ('3', 8.1640625)], 35: [('3', 11.6328125), ('4', 11.2890625), ('2', 11.25), ('ernes', 10.984375), ('1', 10.828125)], 43: [('omic', 9.2265625), ('яна', 8.6328125), ('offee', 8.1171875), (' grad', 7.875), ('andes', 7.7578125)], 44: [('wny', 8.109375), (' Vout', 7.78515625), ('itars', 7.75390625), ('ryptfs', 7.7265625), ('вършва', 7.51171875)], 49: [('dew', 8.1953125), ('amely', 7.796875), ('厅', 7.64453125), ('ills', 7.57421875), ('emade', 7.37109375)], 62: [('дото', 9.7421875), ('idl', 9.4140625), ('ahler', 7.921875), ('стин', 7.83203125), ('CEDURE', 7.6953125)]}, 5: {19: [(' Pey', 9.984375), ('istick', 9.25), ('�', 8.9375), ('anis', 8.46875), ('uet', 8.4453125)], 32: [(' *', 8.4296875), (' **', 8.3125), (' _', 7.5546875), (' общ', 7.4921875), ('лист', 7.4296875)], 36: [('renta', 11.5546875), ('ricte', 10.640625), (' GTEST', 10.0859375), ('estrat', 9.9765625), ('Browsable', 9.609375)], 37: [('yman', 8.8984375), ('sim', 8.6484375), ('jada', 8.3359375), ('nano', 8.2109375), ('待', 8.125)], 53: [('Olot', 9.3359375), ('idenote', 8.4765625), ('Verifier', 8.34375), ('imales', 8.25), (')$\\\\', 8.21875)], 60: [('徒', 9.8828125), (' Тим', 9.875), ('мей', 9.5546875), ('ASM', 9.4609375), ('noframe', 9.4375)]}}\n",
      "Shared expert predictions: [[('opon', 0.307373046875), ('obres', 0.29736328125), (' пряко', 0.27392578125), ('andes', 0.26171875), ('lapse', 0.260009765625)], [('3', 0.65234375), ('obrir', 0.60205078125), ('WT', 0.599609375), ('4', 0.55712890625), ('5', 0.53466796875)], [(' COPY', 0.62060546875), ('cho', 0.5888671875), (' Clash', 0.58544921875), ('onium', 0.5791015625), ('nin', 0.5751953125)], [('pora', 0.759765625), ('ugosl', 0.7158203125), ('bst', 0.67724609375), ('stro', 0.669921875), ('ropies', 0.654296875)], [('��', 0.7392578125), ('湃', 0.70556640625), ('uz', 0.701171875), (' Rod', 0.69775390625), ('$\\\\%', 0.68603515625)], [(' Proof', 0.83740234375), ('惜', 0.8359375), ('ugosl', 0.8349609375), ('hfil', 0.8046875), ('斯卡', 0.79736328125)], [('pera', 0.857421875), ('ount', 0.7578125), ('urities', 0.72412109375), (' s', 0.67333984375), ('olat', 0.66650390625)]]\n",
      "\n",
      "MoE Layer 9:\n",
      "Selected experts: [[61, 49, 10, 43, 36, 33], [0, 1, 51, 11, 46, 43], [48, 30, 53, 1, 59, 49], [53, 15, 59, 37, 28, 36], [15, 4, 37, 10, 59, 43], [15, 24, 57, 59, 32, 2], [0, 59, 44, 41, 9, 63]]\n",
      "Expert weights: [[0.279296875, 0.04119873046875, 0.031280517578125, 0.028289794921875, 0.0259552001953125, 0.0243377685546875], [0.0958251953125, 0.191650390625, 0.059478759765625, 0.08160400390625, 0.0714111328125, 0.057373046875], [0.15576171875, 0.09051513671875, 0.05889892578125, 0.05633544921875, 0.05322265625, 0.042388916015625], [0.1549072265625, 0.1143798828125, 0.08160400390625, 0.0528564453125, 0.04876708984375, 0.03948974609375], [0.1304931640625, 0.1287841796875, 0.11273193359375, 0.0799560546875, 0.06561279296875, 0.0335693359375], [0.082763671875, 0.08880615234375, 0.08984375, 0.07977294921875, 0.043914794921875, 0.042572021484375], [0.048980712890625, 0.045806884765625, 0.0360107421875, 0.04229736328125, 0.03521728515625, 0.034881591796875]]\n",
      "Combined output tokens: [[('肋', 2.087890625), ('яна', 1.9794921875), ('jem', 1.923828125), ('andes', 1.8857421875), ('зар', 1.7822265625)], [('йто', 0.9267578125), ('诠', 0.8994140625), ('汰', 0.888671875), (' Tusc', 0.88623046875), ('AIPS', 0.86474609375)], [('ENCES', 1.0107421875), ('icci', 1.0048828125), ('dataTables', 0.98046875), ('мил', 0.97509765625), ('__)', 0.97216796875)], [('ейнт', 1.8505859375), ('geu', 1.654296875), (' Кън', 1.5224609375), ('soid', 1.4521484375), ('Olot', 1.4140625)], [(' pe', 1.3974609375), (' S', 1.330078125), ('or', 1.30078125), (' Pe', 1.2900390625), ('起', 1.2890625)], [('ALES', 1.2021484375), ('bein', 1.171875), (' initial', 1.150390625), ('umnos', 1.146484375), ('olls', 1.1201171875)], [('paz', 0.83447265625), ('aber', 0.82958984375), ('aign', 0.814453125), (' пода', 0.7861328125), ('консул', 0.78173828125)]]\n",
      "Expert predictions by position: {1: {0: [('oured', 9.734375), ('istani', 9.421875), ('ounc', 8.9453125), ('etime', 8.7421875), ('тист', 8.609375)], 1: [('utant', 9.78125), ('adec', 9.1015625), ('��', 8.78125), (' companys', 8.7109375), (' Mosel', 7.9921875)], 11: [('googleads', 9.8828125), ('близ', 9.3046875), (' Щи', 8.9453125), (' DAT', 8.890625), ('everse', 8.765625)], 43: [('дето', 9.6640625), ('дри', 9.578125), (' passat', 9.484375), ('oze', 8.2578125), ('nteg', 8.21875)], 46: [('роден', 8.8359375), ('ת', 8.6640625), (' main', 8.65625), (' заба', 8.6015625), ('ers', 8.5546875)], 51: [(' сце', 9.1484375), ('iqu', 9.125), (' ска', 8.7734375), ('elin', 8.2109375), (' фо', 8.0859375)]}, 6: {0: [('绅', 9.78125), ('ocrates', 8.890625), (' Mediterrani', 8.65625), ('istes', 8.484375), (' we', 8.4765625)], 9: [('口中', 8.484375), ('antrop', 8.3515625), ('Nu', 8.2734375), ('加', 8.21875), ('�', 8.171875)], 41: [('++-', 9.203125), ('addTo', 9.09375), ('aggio', 8.984375), (' argentins', 8.9296875), ('argin', 8.90625)], 44: [('0', 12.609375), ('4', 12.25), ('2', 10.6484375), ('1', 10.5546875), ('5', 10.3203125)], 59: [('��', 9.8984375), ('iax', 9.6796875), ('letics', 9.5078125), ('omia', 9.296875), ('ductors', 9.1015625)], 63: [('acles', 9.3515625), ('variation', 9.109375), ('rieve', 8.6484375), ('Lifecycle', 8.4765625), ('anni', 8.4765625)]}, 2: {1: [('alon', 10.6328125), ('ificis', 10.1015625), ('дето', 9.5234375), ('�乐', 9.3984375), (' смет', 9.1328125)], 30: [('ygon', 11.375), ('orthand', 10.6484375), ('onstr', 10.5234375), ('Estudi', 9.890625), ('�乐', 9.84375)], 48: [('ie', 10.109375), ('External', 9.671875), ('oes', 9.453125), ('bang', 8.8671875), ('external', 8.765625)], 49: [('ishna', 9.4375), ('套装', 9.1796875), ('opl', 8.890625), ('.(*', 8.875), ('show', 8.203125)], 53: [('越', 10.109375), ('moil', 10.03125), ('erenced', 9.9296875), ('Македония', 9.8046875), ('encions', 9.7734375)], 59: [('Ungrouped', 10.15625), ('Ан', 10.125), ('refn', 9.3046875), ('rfloor', 9.25), (')|$', 9.1640625)]}, 5: {2: [(' личности', 8.25), (' Estudi', 8.0859375), ('iffer', 8.0390625), ('碗', 7.90625), ('сло', 7.859375)], 15: [('畸', 8.6796875), ('rass', 8.5390625), ('胳', 8.34375), ('arcely', 8.3359375), ('畸形', 8.234375)], 24: [('пуск', 9.09375), ('hiba', 8.96875), ('inux', 8.9296875), (' паза', 8.8828125), ('oret', 8.8828125)], 32: [('idas', 9.3359375), ('вото', 8.78125), ('itats', 8.6015625), ('istes', 8.515625), ('iste', 8.125)], 57: [('apol', 10.3515625), (' here', 9.2578125), ('USTOM', 9.1640625), ('uries', 9.15625), ('тинген', 8.9609375)], 59: [('мии', 11.09375), ('rivia', 10.4453125), ('ociety', 9.921875), ('леп', 9.8359375), ('лива', 9.828125)]}, 4: {4: [('ugar', 11.28125), ('ardt', 9.2421875), ('дено', 8.9765625), ('鹊', 8.796875), ('ournal', 8.5859375)], 10: [(' \"', 9.6171875), (' har', 9.109375), (\" '\", 8.8203125), (' *', 8.6796875), (' ', 8.6796875)], 15: [('”', 9.46875), (' ', 9.4296875), ('forgotten', 8.4609375), ('cheek', 8.359375), ('\\xa0', 8.296875)], 37: [('ор', 9.0234375), ('雄', 8.9921875), ('шков', 8.484375), ('销', 8.4453125), ('鼓', 8.21875)], 43: [('съ', 10.0390625), ('ohn', 8.0), ('ян', 7.296875), ('perty', 7.19921875), ('тъ', 6.91796875)], 59: [('��', 10.3671875), (' donat', 10.0703125), (' Tenen', 9.7265625), ('pulse', 9.578125), (' esqu', 9.40625)]}, 0: {10: [('ttle', 7.6796875), ('spath', 7.43359375), ('swire', 7.27734375), ('anes', 7.0234375), ('忆', 6.94140625)], 33: [('�', 10.0625), ('�', 8.4609375), ('claimer', 8.234375), ('�', 8.1796875), ('oust', 8.1484375)], 36: [('argin', 10.640625), ('isb', 8.5), (' каф', 8.46875), ('itali', 8.4140625), ('itsch', 8.3125)], 43: [('报记者', 8.4375), ('odor', 8.3984375), ('Direccion', 8.3359375), (' type', 8.2421875), ('Copy', 8.09375)], 49: [(' -', 8.4921875), (' ', 8.40625), ('o', 7.875), ('jem', 7.76953125), ('往', 7.6796875)], 61: [('肋', 9.28125), ('andes', 8.1640625), ('jem', 8.0859375), (' Naz', 7.7734375), ('яна', 7.734375)]}, 3: {15: [('classv', 8.3984375), ('okes', 8.2890625), ('icals', 8.03125), (' barcelon', 8.0234375), ('rbit', 7.95703125)], 28: [('orat', 11.78125), ('褶', 10.328125), ('acor', 9.578125), ('aud', 8.296875), ('rab', 8.2734375)], 36: [('строй', 7.8515625), ('ures', 7.63671875), ('ure', 7.4921875), ('{}', 7.29296875), ('ua', 7.22265625)], 37: [('ignite', 9.6484375), ('orry', 9.3203125), ('ifax', 9.1875), ('信', 8.9375), ('起', 8.359375)], 53: [('omys', 9.65625), ('riger', 9.1328125), (' Кън', 9.125), ('iga', 8.703125), ('壳', 8.6796875)], 59: [('лиза', 9.2578125), ('=*/', 8.671875), ('ociety', 8.6015625), (' DBCC', 8.546875), ('aint', 8.296875)]}}\n",
      "Shared expert predictions: [[('��', 0.27490234375), ('яна', 0.26416015625), ('kem', 0.247802734375), ('兰特', 0.21728515625), ('系的', 0.2120361328125)], [('ropies', 0.5126953125), ('婪', 0.4951171875), ('Se', 0.47998046875), ('цов', 0.47412109375), ('徘', 0.45361328125)], [(' COPY', 0.65625), ('}$~\\\\', 0.63623046875), ('CODEGEN', 0.59521484375), ('Македония', 0.5908203125), ('}$\\\\,', 0.5810546875)], [('DLINE', 0.77294921875), ('rrec', 0.767578125), ('ExternalTask', 0.76123046875), ('rasp', 0.70361328125), ('aign', 0.69677734375)], [('DA', 0.80859375), ('mens', 0.76904296875), ('das', 0.744140625), ('нав', 0.73291015625), ('citealp', 0.7216796875)], [('olls', 0.82373046875), ('bein', 0.80029296875), ('refn', 0.79296875), ('拂', 0.7861328125), ('淀', 0.78369140625)], [('湃', 0.8017578125), ('aber', 0.77294921875), ('wa', 0.72607421875), ('紧密', 0.68505859375), ('rio', 0.677734375)]]\n",
      "\n",
      "MoE Layer 10:\n",
      "Selected experts: [[0, 45, 42, 33, 24, 63], [0, 8, 1, 41, 25, 56], [25, 1, 36, 7, 49, 28], [19, 28, 58, 23, 45, 4], [4, 19, 45, 58, 60, 23], [19, 63, 20, 62, 4, 54], [16, 0, 1, 2, 40, 30]]\n",
      "Expert weights: [[0.040771484375, 0.047271728515625, 0.13037109375, 0.09423828125, 0.107421875, 0.0298309326171875], [0.27099609375, 0.107177734375, 0.07025146484375, 0.066650390625, 0.055908203125, 0.050506591796875], [0.0975341796875, 0.10198974609375, 0.09307861328125, 0.09564208984375, 0.08294677734375, 0.035980224609375], [0.1644287109375, 0.12237548828125, 0.08514404296875, 0.04754638671875, 0.0452880859375, 0.039459228515625], [0.051605224609375, 0.33740234375, 0.052764892578125, 0.091552734375, 0.06988525390625, 0.04962158203125], [0.1119384765625, 0.0946044921875, 0.07647705078125, 0.046234130859375, 0.043121337890625, 0.042022705078125], [0.14453125, 0.13134765625, 0.105712890625, 0.07464599609375, 0.040863037109375, 0.03900146484375]]\n",
      "Combined output tokens: [[('яна', 0.9345703125), (' fres', 0.9296875), ('andes', 0.8447265625), (' препратки', 0.83203125), ('idera', 0.8115234375)], [('头像', 1.2080078125), ('3', 1.18359375), (' fronts', 1.103515625), ('0', 1.09375), ('zos', 1.0615234375)], [('}$~\\\\', 1.21875), ('zyk', 1.0810546875), ('ebe', 1.0244140625), ('ibol', 1.0048828125), ('筷子', 1.0029296875)], [('alf', 1.3583984375), (' r', 1.330078125), ('eur', 1.2802734375), ('cho', 1.2705078125), ('s', 1.251953125)], [('�', 2.154296875), ('佣', 1.9453125), ('enti', 1.935546875), ('agut', 1.82421875), ('odos', 1.8037109375)], [('amely', 1.66796875), (' **', 1.3662109375), ('atever', 1.25), ('ilius', 1.2138671875), ('sona', 1.2138671875)], [('致', 1.3232421875), ('uly', 1.306640625), ('ser', 1.296875), ('�', 1.2841796875), ('ishop', 1.1572265625)]]\n",
      "Expert predictions by position: {0: {0: [('�', 9.125), (' S', 8.5), ('8', 8.421875), ('0', 8.3671875), ('6', 8.171875)], 24: [('卵管', 9.1015625), ('】【', 8.7578125), ('сор', 8.609375), ('aptics', 8.3984375), (' gparted', 8.0078125)], 33: [('яна', 10.6796875), ('frak', 9.0546875), ('idera', 8.7421875), (' fres', 8.5546875), ('apac', 8.484375)], 42: [('яна', 9.53125), (' fres', 9.4609375), ('frak', 8.15625), ('andes', 7.9453125), ('卸', 7.92578125)], 45: [('inclo', 11.484375), ('lega', 11.25), ('SPHINX', 11.2265625), ('��', 11.0859375), ('ober', 10.6171875)], 63: [('тров', 10.3359375), ('ambre', 8.9765625), ('kerel', 8.6328125), ('灭', 8.6015625), ('aspoon', 8.0625)]}, 1: {0: [('乙', 9.1171875), ('rowning', 8.671875), ('Privile', 8.265625), ('YNAM', 8.1640625), ('�', 8.0625)], 1: [('ocells', 11.96875), ('atedr', 9.8203125), ('LOWER', 9.2734375), ('媳', 9.09375), ('aust', 9.0859375)], 8: [('cola', 9.4375), (' Tune', 9.0234375), ('embre', 8.9296875), ('шко', 7.66796875), ('рес', 7.47265625)], 25: [('роко', 9.734375), ('ittle', 8.9375), ('мски', 8.5546875), ('ld', 8.203125), (' същест', 8.1796875)], 41: [('4', 11.71875), ('7', 11.484375), ('5', 11.0234375), ('3', 10.5390625), ('2', 10.3203125)], 56: [('onal', 8.359375), ('olini', 8.109375), ('ennes', 8.078125), ('疚', 8.078125), ('мените', 7.953125)]}, 6: {0: [('andre', 8.9140625), ('тие', 8.1171875), (' conect', 8.0859375), ('connected', 8.03125), ('填', 7.890625)], 1: [('right', 9.0625), ('来得', 8.4296875), ('ideo', 8.3671875), ('erno', 8.3046875), ('гин', 7.93359375)], 2: [('跨', 10.0234375), ('estany', 9.8203125), ('itely', 9.7734375), ('rbia', 9.1640625), ('Lcom', 9.0703125)], 16: [('大利', 11.0), ('лит', 9.171875), ('olutely', 9.0625), ('COVERY', 8.921875), ('olute', 8.7734375)], 30: [('far', 9.8046875), (' far', 9.4296875), ('apse', 9.3359375), ('road', 9.234375), ('ud', 9.1953125)], 40: [('tings', 10.9296875), ('encion', 9.3203125), (' Pons', 9.171875), ('chre', 8.984375), ('尔多', 8.9296875)]}, 2: {1: [('malink', 11.09375), (' MAAS', 11.0859375), ('ctree', 10.734375), ('netplan', 10.6328125), ('isor', 10.4765625)], 7: [('Cci', 10.0), ('folios', 9.84375), (' internes', 9.4296875), (' FLA', 9.1171875), (' variaci', 9.078125)], 25: [('↳', 13.09375), ('avorite', 10.921875), ('utta', 10.3984375), ('lustr', 10.203125), ('etapes', 10.1640625)], 28: [('стрел', 9.1875), ('atiu', 9.1640625), ('临', 9.0), ('ъ', 8.75), (' Google', 8.4140625)], 36: [('bered', 10.5390625), ('ear', 9.6015625), ('eg', 9.046875), ('ADD', 8.8984375), ('ROM', 8.5859375)], 49: [('anza', 10.4296875), ('зема', 8.8984375), ('spinner', 8.84375), (' рода', 8.828125), (' spade', 8.5703125)]}, 3: {4: [('爬', 9.390625), ('髦', 8.703125), ('avid', 8.5703125), ('щица', 8.4375), ('赁', 8.296875)], 19: [('�', 8.9140625), ('agut', 8.6015625), ('伤', 8.34375), (' novel', 8.2890625), ('AAAAAAAAAAAAAAAA', 8.2578125)], 23: [('тури', 11.3671875), ('emens', 9.0703125), ('джо', 8.9296875), ('щ', 8.9140625), ('Mor', 8.8828125)], 28: [('glas', 10.59375), ('рите', 8.6015625), ('urg', 8.5859375), ('лей', 8.4609375), ('uces', 8.28125)], 45: [('шени', 9.1796875), ('定的', 9.140625), ('anta', 9.140625), ('icolon', 8.3203125), (' TAU', 8.21875)], 58: [('吐', 9.3125), (' Imag', 8.2421875), ('eed', 8.15625), ('触', 8.1484375), ('llll', 8.125)]}, 4: {4: [('Anoia', 9.578125), ('Advertisement', 9.234375), ('говори', 9.21875), ('oma', 9.1875), ('graphs', 8.9296875)], 19: [('rpre', 10.0078125), ('snia', 9.53125), ('uez', 9.34375), ('peta', 8.90625), ('rils', 8.65625)], 23: [('ornia', 13.296875), ('{``', 10.5234375), (' мер', 10.4375), ('Olot', 10.421875), (' solars', 10.125)], 45: [('nqu', 8.46875), ('osos', 8.4375), (' B', 8.125), ('业', 8.0234375), ('iner', 7.984375)], 58: [('mere', 9.3828125), ('zul', 9.0859375), ('投', 8.5), ('CONDS', 8.4140625), ('Ljava', 8.2421875)], 60: [('кос', 9.046875), ('мира', 8.5390625), ('outh', 8.3125), ('SIGN', 8.3046875), ('IFF', 8.1015625)]}, 5: {4: [('линден', 10.65625), ('kip', 9.4609375), ('emir', 9.453125), ('retty', 9.2578125), ('atoris', 9.1796875)], 19: [('issi', 8.828125), ('zi', 8.71875), ('Free', 8.4921875), ('opi', 8.484375), (' loft', 8.390625)], 20: [('ivell', 8.3671875), ('порт', 7.83203125), (' open', 7.796875), (' further', 7.66796875), ('烘', 7.51953125)], 54: [('absent', 9.2734375), ('estan', 9.2734375), ('TB', 8.9453125), ('lai', 8.8671875), ('odis', 8.8046875)], 62: [('ergi', 9.703125), ('Magent', 9.09375), ('ODB', 8.9453125), ('ofens', 8.8828125), ('elsk', 8.71875)], 63: [('�乐', 12.5390625), ('ide', 9.1953125), ('ared', 8.71875), ('主管', 8.640625), ('ede', 8.5859375)]}}\n",
      "Shared expert predictions: [[('osure', 0.281982421875), ('unknownFields', 0.270751953125), ('�乐', 0.2705078125), ('inced', 0.2666015625), ('lada', 0.26611328125)], [('лата', 0.61181640625), ('etr', 0.580078125), ('@{', 0.57373046875), ('zie', 0.5732421875), ('ICS', 0.5625)], [('雷', 0.759765625), ('S', 0.6171875), ('慎', 0.6142578125), ('adem', 0.61279296875), (' Sn', 0.599609375)], [('aso', 0.7607421875), ('se', 0.6962890625), ('t', 0.67431640625), ('\\ufeff\\ufeff\\ufeff\\ufeff', 0.6591796875), (' partida', 0.63916015625)], [('PROP', 0.8154296875), ('чер', 0.77880859375), ('prop', 0.7666015625), ('dome', 0.75244140625), ('ukes', 0.70166015625)], [('inox', 0.79736328125), ('ily', 0.73974609375), ('getChild', 0.72998046875), ('利物', 0.728515625), ('胡子', 0.724609375)], [(' (', 0.99560546875), ('\\xa0', 0.96923828125), (' v', 0.89208984375), (' «', 0.8681640625), (' »', 0.86474609375)]]\n",
      "\n",
      "MoE Layer 11:\n",
      "Selected experts: [[24, 42, 53, 2, 37, 58], [58, 30, 14, 44, 38, 11], [63, 44, 15, 40, 33, 28], [28, 21, 33, 63, 9, 11], [32, 11, 21, 34, 29, 28], [28, 11, 26, 3, 44, 37], [45, 30, 54, 44, 3, 2]]\n",
      "Expert weights: [[0.1251220703125, 0.061431884765625, 0.045562744140625, 0.0445556640625, 0.043914794921875, 0.0411376953125], [0.08544921875, 0.1007080078125, 0.0755615234375, 0.0699462890625, 0.06976318359375, 0.0655517578125], [0.0712890625, 0.069091796875, 0.07080078125, 0.07659912109375, 0.061126708984375, 0.05615234375], [0.109130859375, 0.05328369140625, 0.36767578125, 0.04638671875, 0.032623291015625, 0.03143310546875], [0.13232421875, 0.0892333984375, 0.07000732421875, 0.05743408203125, 0.049072265625, 0.04840087890625], [0.0648193359375, 0.03582763671875, 0.11114501953125, 0.1890869140625, 0.0352783203125, 0.0272674560546875], [0.12042236328125, 0.07073974609375, 0.055145263671875, 0.05438232421875, 0.052825927734375, 0.037841796875]]\n",
      "Combined output tokens: [[('一笔', 0.50537109375), ('enys', 0.48291015625), ('жени', 0.477783203125), ('IQUE', 0.4462890625), ('zem', 0.431884765625)], [('se', 1.5791015625), ('sem', 1.1494140625), ('ad', 1.0595703125), ('isl', 1.021484375), ('VS', 1.0166015625)], [('emas', 1.001953125), ('Lear', 0.94384765625), (' semic', 0.93359375), ('въ', 0.9091796875), ('usts', 0.90625)], [('ermita', 2.802734375), ('ilde', 2.49609375), ('克兰', 2.265625), (' сръб', 2.240234375), (' Llob', 2.1015625)], [('Roine', 1.1943359375), (' Advertis', 1.0654296875), ('enches', 1.0634765625), (' Set', 1.044921875), ('oldt', 1.0390625)], [(' n', 1.330078125), ('�', 1.3212890625), (' ded', 1.2626953125), (' tags', 1.2421875), ('狗', 1.2333984375)], [('тите', 1.2060546875), (' l', 1.205078125), (' m', 1.1708984375), ('ero', 1.126953125), ('itus', 1.1259765625)]]\n",
      "Expert predictions by position: {0: {2: [('utad', 11.984375), ('kien', 10.796875), (' опъл', 10.7578125), (' Unides', 10.6953125), ('*}[', 10.4453125)], 24: [('lada', 10.9140625), ('isov', 8.7890625), ('撒', 8.65625), ('rucci', 8.453125), ('刚', 8.203125)], 37: [('versation', 9.6796875), ('ymbol', 8.953125), ('zem', 8.40625), ('regon', 8.015625), (' precinct', 7.84375)], 42: [('�', 8.296875), ('enys', 8.234375), ('яна', 8.1015625), (' Изда', 8.09375), ('ndar', 8.0625)], 53: [('emir', 10.59375), ('AMES', 10.265625), ('quot', 9.4296875), ('ravings', 9.171875), ('iat', 8.234375)], 58: [('epad', 8.9921875), ('hig', 8.71875), ('vest', 8.1171875), ('垫', 8.0234375), (' meridian', 7.9921875)]}, 6: {2: [('*', 9.859375), ('HR', 9.703125), ('\\n', 9.4921875), ('|', 9.140625), (';', 9.0)], 3: [('oteca', 11.234375), ('icense', 9.1328125), ('odef', 8.6328125), ('ortality', 8.5234375), (' Mur', 8.4609375)], 30: [('2', 11.890625), ('1', 10.3515625), ('5', 9.8359375), ('4', 9.7734375), ('9', 9.734375)], 44: [('lemm', 10.9375), ('heimer', 9.6328125), ('зон', 9.5546875), ('ipeg', 9.453125), ('adder', 8.8203125)], 45: [('сем', 8.9140625), ('ctor', 8.5), ('icients', 8.5), (' начело', 8.4609375), ('LOY', 8.2109375)], 54: [('associ', 10.78125), ('des', 10.6796875), ('疏', 9.1328125), ('skip', 8.953125), (' associations', 8.7421875)]}, 5: {3: [('каните', 9.15625), ('Окръг', 9.140625), (' each', 8.84375), ('减', 8.75), ('oves', 8.15625)], 11: [('ланти', 8.71875), ('wana', 8.65625), ('нио', 8.53125), ('ixon', 8.40625), ('bot', 8.265625)], 26: [(' &', 8.984375), (' bank', 8.9375), (' K', 8.8203125), (' ro', 8.8125), (' W', 8.5)], 28: [('вече', 9.8828125), ('\"]\\').', 9.7421875), ('苏', 9.6015625), ('íř', 9.515625), ('otip', 9.109375)], 37: [('xenial', 11.53125), (' същест', 11.09375), ('sterdam', 11.0234375), ('图片发自简书', 10.7578125), ('numerus', 10.6171875)], 44: [('мей', 9.390625), (' impost', 8.671875), ('mary', 8.2890625), (' места', 8.234375), ('quetes', 8.140625)]}, 3: {9: [('iaci', 9.78125), ('acost', 8.6796875), ('proportion', 8.234375), (' ', 8.0), ('orer', 7.98828125)], 11: [('дър', 10.7265625), ('��', 10.5), ('pens', 9.1484375), ('jena', 8.8984375), ('дят', 8.375)], 21: [('ptu', 11.0625), (' valign', 10.421875), ('няване', 10.0234375), ('ergi', 9.203125), ('geu', 8.65625)], 28: [('跨界', 8.90625), ('留下', 8.4375), ('rinos', 8.40625), ('rivacy', 8.2578125), ('olas', 8.2421875)], 33: [('sr', 9.90625), ('sp', 9.7578125), ('ecke', 9.078125), ('无愧', 8.703125), ('sex', 8.3359375)], 63: [('↳', 10.75), ('暂行', 9.4765625), ('добре', 9.3125), ('VDC', 9.015625), ('рид', 8.8515625)]}, 1: {11: [('elled', 9.7734375), (' C', 9.203125), ('atges', 8.59375), ('沾', 8.125), (' CE', 7.91015625)], 14: [('he', 8.7578125), (' mne', 8.3125), ('凝', 8.2109375), (' pert', 8.046875), ('цев', 7.83203125)], 30: [(' etc', 10.6171875), ('etc', 10.0703125), ('accio', 8.5078125), (' shell', 8.234375), (' Roder', 7.83203125)], 38: [('续', 9.6640625), ('hao', 9.3359375), ('хен', 8.5), ('ологи', 8.421875), ('NEXT', 8.28125)], 44: [('бена', 8.546875), ('鉴', 8.0859375), ('veu', 8.0390625), ('5', 7.8828125), (\" '\", 7.8828125)], 58: [('opsi', 10.1640625), (' $^', 10.015625), ('enys', 9.625), ('Община', 9.3359375), ('ygon', 9.1640625)]}, 4: {11: [('CREMENT', 10.609375), ('зия', 10.078125), ('ствие', 9.8984375), ('osed', 9.0390625), ('olt', 8.59375)], 21: [('晓彤', 9.21875), ('hyde', 8.1875), ('的成绩', 8.1875), ('обла', 8.125), (' rap', 8.0546875)], 28: [(' H', 9.46875), (' statistique', 8.953125), ('读书', 8.4375), ('orest', 8.3046875), ('H', 7.9453125)], 29: [('plete', 9.765625), ('UBE', 9.140625), ('escue', 8.7109375), ('ycle', 8.671875), ('灾', 8.4921875)], 32: [('out', 8.9765625), ('/', 8.5), (' extent', 8.3359375), ('磨', 8.2734375), ('rolls', 8.1953125)], 34: [(' експе', 10.46875), ('iades', 10.28125), ('划', 9.9921875), ('adol', 9.6171875), ('iak', 9.59375)]}, 2: {15: [('pole', 8.21875), ('джа', 7.91015625), ('cked', 7.90625), ('Ac', 7.828125), ('ins', 7.6484375)], 28: [('lood', 12.921875), ('ssica', 10.5546875), ('onada', 10.140625), ('tats', 10.0546875), ('ntil', 9.9765625)], 33: [('ilde', 11.6171875), ('ermita', 10.2265625), ('тска', 9.8359375), ('ild', 9.5390625), ('uesa', 8.953125)], 40: [('ames', 9.7265625), ('herit', 9.34375), ('abat', 8.7890625), ('AMES', 8.671875), ('ат', 8.421875)], 44: [(' i', 13.078125), ('anwhile', 11.578125), (' ii', 10.2265625), ('众所', 9.3359375), ('reland', 8.8203125)], 63: [('YPT', 10.625), ('ossom', 9.96875), ('estir', 9.90625), ('жени', 9.5234375), ('uega', 9.421875)]}}\n",
      "Shared expert predictions: [[('一笔', 0.40234375), ('ORA', 0.39697265625), (' Qgs', 0.396728515625), ('жени', 0.380859375), ('alleled', 0.362060546875)], [('se', 0.78125), ('sem', 0.75439453125), (\"','$\", 0.74267578125), (' elim', 0.71044921875), ('айнрих', 0.70849609375)], [('Окръг', 0.84130859375), ('钰', 0.76171875), ('riever', 0.7470703125), ('ugal', 0.73681640625), ('Вън', 0.736328125)], [('endem', 0.91748046875), ('��', 0.82470703125), ('ORE', 0.78955078125), (' tail', 0.75927734375), ('mesa', 0.7529296875)], [('onces', 0.8662109375), ('麒', 0.79296875), ('mirall', 0.78857421875), ('imode', 0.74755859375), ('ivitat', 0.73193359375)], [(' l', 0.86962890625), ('�', 0.84521484375), ('raph', 0.84423828125), ('cus', 0.81396484375), ('umo', 0.79052734375)], [('空白', 0.96240234375), (' l', 0.91015625), ('ARB', 0.8427734375), ('тите', 0.83642578125), ('伞', 0.82470703125)]]\n",
      "\n",
      "MoE Layer 12:\n",
      "Selected experts: [[36, 1, 33, 48, 50, 17], [42, 21, 33, 54, 46, 15], [63, 54, 7, 32, 47, 14], [60, 7, 9, 52, 32, 19], [9, 36, 18, 20, 19, 3], [61, 5, 25, 49, 4, 38], [48, 1, 33, 54, 61, 35]]\n",
      "Expert weights: [[0.54541015625, 0.02099609375, 0.02435302734375, 0.0247344970703125, 0.01971435546875, 0.0176849365234375], [0.09124755859375, 0.1444091796875, 0.129150390625, 0.1416015625, 0.06048583984375, 0.046417236328125], [0.09454345703125, 0.1002197265625, 0.169189453125, 0.07958984375, 0.05035400390625, 0.03790283203125], [0.175537109375, 0.07806396484375, 0.061492919921875, 0.05474853515625, 0.034942626953125, 0.0313720703125], [0.06011962890625, 0.211181640625, 0.074462890625, 0.054931640625, 0.047698974609375, 0.046630859375], [0.1219482421875, 0.0526123046875, 0.0498046875, 0.0438232421875, 0.0416259765625, 0.037689208984375], [0.1553955078125, 0.0767822265625, 0.0751953125, 0.04608154296875, 0.047576904296875, 0.0277557373046875]]\n",
      "Combined output tokens: [[('idera', 2.78515625), ('frak', 2.775390625), ('jem', 2.7421875), ('яна', 2.673828125), (' fres', 2.669921875)], [('anor', 1.4541015625), ('miss', 1.302734375), (' miss', 1.1953125), (' nervi', 1.181640625), (' Franch', 1.154296875)], [('��', 2.65625), ('wlp', 1.9912109375), ('ugar', 1.9189453125), (' preses', 1.896484375), ('bios', 1.783203125)], [('omeu', 1.9794921875), ('sem', 1.826171875), ('��', 1.62109375), ('opian', 1.591796875), ('quan', 1.4677734375)], [('ilius', 1.9912109375), ('лио', 1.6025390625), ('=\"../_', 1.5751953125), ('ILED', 1.5712890625), ('uada', 1.556640625)], [(' l', 1.2666015625), ('�', 1.193359375), ('ложено', 1.1650390625), (' sets', 1.095703125), ('《中国', 1.08984375)], [('encions', 1.5283203125), ('amora', 1.4853515625), ('uros', 1.4091796875), ('possibility', 1.3466796875), ('enko', 1.3310546875)]]\n",
      "Expert predictions by position: {0: {1: [('nections', 8.1171875), ('ugin', 7.93359375), ('apad', 7.45703125), ('受访', 7.41796875), ('icana', 7.4140625)], 17: [('orno', 8.0859375), ('肋', 7.90625), ('浊', 7.19921875), ('spl', 7.19140625), ('Off', 6.921875)], 33: [('oint', 10.046875), ('ialog', 9.7578125), ('ages', 9.65625), ('oints', 8.84375), ('口的', 8.8359375)], 36: [('idera', 8.875), ('jem', 8.5859375), ('frak', 8.546875), ('яна', 8.2109375), (' fres', 8.203125)], 48: [('7', 10.7890625), ('5', 9.15625), ('8', 8.28125), ('6', 8.2734375), (' M', 8.15625)], 50: [('rinos', 7.2578125), ('кове', 6.62109375), ('kien', 6.56640625), ('hav', 6.4453125), ('раст', 6.421875)]}, 6: {1: [('bigarray', 9.3828125), ('asch', 9.03125), (' llib', 8.9609375), ('utx', 8.859375), ('twist', 8.8125)], 33: [('ѐ', 10.265625), (' имена', 10.15625), ('erest', 9.890625), ('нга', 9.46875), ('estand', 9.453125)], 35: [('DOCKED', 10.7734375), ('Strunz', 10.140625), ('altColor', 9.734375), ('Съби', 9.5546875), ('mmode', 9.2734375)], 48: [('窝', 10.8203125), ('possibility', 9.1328125), ('idth', 8.9375), ('Generated', 8.8203125), ('фур', 8.7578125)], 54: [('妇', 9.0234375), ('qa', 8.4375), ('ables', 8.375), ('QA', 8.25), ('oton', 8.0234375)], 61: [(' infinites', 9.2109375), ('ляни', 8.8046875), ('место', 8.53125), ('дица', 8.2421875), (' pilota', 8.171875)]}, 4: {3: [('enir', 9.3515625), ('Occ', 9.09375), ('σι', 8.6953125), ('renta', 8.4296875), ('FD', 8.21875)], 9: [('iamond', 8.828125), ('委', 8.6484375), (' aapt', 8.484375), ('ota', 8.46875), ('璋', 8.359375)], 18: [('aulay', 9.7421875), (' Borde', 9.1796875), ('ustral', 8.890625), ('guien', 8.8125), ('uals', 8.71875)], 19: [('son', 12.34375), ('sons', 10.7265625), ('висимост', 9.9140625), (' llib', 9.3671875), ('PIO', 9.1796875)], 20: [('moz', 9.234375), ('udis', 9.0390625), ('ornis', 8.515625), ('详情', 8.5), ('ланти', 8.4453125)], 36: [('ILED', 10.2109375), ('ygon', 9.625), ('iterr', 9.609375), ('aure', 9.5625), ('ospital', 9.1640625)]}, 5: {4: [('yester', 9.7890625), ('ymoon', 9.515625), ('arbre', 8.7734375), ('Ран', 8.6484375), (' PH', 8.5078125)], 5: [('ebly', 10.125), ('клопе', 9.484375), ('ennicke', 8.6015625), ('dbname', 8.4921875), ('招', 8.3515625)], 25: [(' Sets', 8.3515625), ('ored', 8.296875), (' sets', 7.9375), (' ros', 7.72265625), ('ats', 7.62890625)], 38: [(' extr', 9.46875), ('peres', 9.0546875), ('geres', 8.9375), ('opic', 8.8671875), ('olu', 8.5859375)], 49: [('comings', 11.0859375), ('pick', 10.703125), ('video', 8.796875), (' p', 8.703125), (' vid', 8.6640625)], 61: [(' 👼', 8.703125), ('Inspe', 8.578125), ('ails', 7.95703125), ('oken', 7.94921875), (' Lloc', 7.75390625)]}, 2: {7: [('��', 10.28125), ('Msk', 9.3125), ('eh', 9.03125), ('dor', 8.9375), ('wlp', 8.453125)], 14: [('istrar', 10.0546875), ('тър', 9.0390625), ('竞', 8.8984375), (' Ash', 8.8515625), ('ving', 8.8125)], 32: [('ANS', 8.7421875), ('nier', 8.640625), ('ROSS', 8.5390625), ('suma', 8.484375), ('лим', 8.40625)], 47: [('rpre', 10.3828125), ('ciones', 8.671875), ('ternoons', 8.5625), ('�', 8.484375), ('kom', 8.453125)], 54: [(' capd', 7.87109375), ('ек', 7.79296875), ('msgs', 7.6953125), ('方面', 7.67578125), ('lpr', 7.515625)], 63: [('8', 10.96875), ('0', 10.3515625), ('7', 10.1796875), ('4', 9.8046875), ('5', 9.75)]}, 3: {7: [('зема', 9.328125), ('ire', 9.3203125), ('rophy', 8.8984375), ('��', 8.59375), ('ANGU', 8.4921875)], 9: [(' lo', 10.109375), ('规', 8.6796875), ('ervice', 8.5078125), ('Ре', 8.390625), (' hyp', 8.1171875)], 19: [('趟', 8.6796875), ('ipel', 8.1796875), ('eur', 8.0234375), ('irut', 8.0), (' Editions', 7.9453125)], 32: [('康', 9.734375), ('ingut', 9.09375), (' бил', 9.0625), ('ansi', 8.9453125), ('udis', 8.7109375)], 52: [('aval', 9.6953125), ('抄', 9.640625), ('ime', 9.0859375), ('ithe', 8.9296875), ('raph', 8.8828125)], 60: [('omeu', 11.5859375), ('��', 10.71875), ('chre', 10.0234375), ('opian', 9.6171875), ('咸', 8.7578125)]}, 1: {15: [(' наре', 9.828125), ('刻', 8.984375), ('eus', 8.9296875), ('bullet', 8.6015625), ('вица', 8.109375)], 21: [('ally', 8.8984375), (\"''\", 8.703125), ('儿', 8.4921875), (\"'\", 8.203125), ('ickle', 8.15625)], 33: [(' ::', 7.7421875), ('列', 7.41015625), ('不行', 7.35546875), ('neighbors', 7.23046875), ('LR', 7.16796875)], 42: [('mide', 10.6953125), ('演', 9.421875), ('manda', 9.40625), ('IFIER', 9.3984375), ('teix', 9.2421875)], 46: [('呼', 8.8359375), ('品质', 8.5625), ('yll', 8.1953125), ('AX', 8.0703125), ('eced', 7.8359375)], 54: [('原文地址', 9.28125), ('anor', 8.890625), ('евски', 8.4453125), ('嫁', 8.28125), ('生活', 8.2265625)]}}\n",
      "Shared expert predictions: [[('евру', 0.364990234375), ('Македония', 0.360595703125), ('ейнт', 0.35400390625), ('坷', 0.34130859375), ('ExternalTask', 0.33544921875)], [('rVert', 0.5966796875), ('来越', 0.5849609375), (' llib', 0.58447265625), ('листи', 0.52587890625), ('CDCD', 0.52392578125)], [(' Гър', 0.8154296875), ('евру', 0.80517578125), ('TOOLSET', 0.80224609375), ('CLUD', 0.77099609375), (' ска', 0.7392578125)], [('UTO', 0.7177734375), ('utx', 0.7021484375), ('sem', 0.693359375), ('adem', 0.6767578125), ('KY', 0.6630859375)], [('PCA', 0.87353515625), ('вън', 0.76171875), ('华声', 0.7451171875), ('amen', 0.708984375), ('(**', 0.705078125)], [('andona', 0.7939453125), ('ured', 0.76318359375), ('stri', 0.73828125), ('usky', 0.71484375), ('atur', 0.701171875)], [('积', 1.1533203125), ('amora', 1.0419921875), ('escl', 0.89990234375), (' tang', 0.8583984375), ('必', 0.85693359375)]]\n",
      "\n",
      "MoE Layer 13:\n",
      "Selected experts: [[39, 47, 51, 17, 7, 22], [37, 18, 29, 24, 32, 17], [23, 37, 59, 20, 38, 18], [38, 18, 23, 15, 10, 5], [18, 38, 10, 4, 23, 7], [20, 38, 40, 18, 23, 60], [18, 38, 55, 9, 23, 33]]\n",
      "Expert weights: [[0.0859375, 0.06201171875, 0.04937744140625, 0.04559326171875, 0.04046630859375, 0.03753662109375], [0.1832275390625, 0.1561279296875, 0.08843994140625, 0.049468994140625, 0.0445556640625, 0.038482666015625], [0.057708740234375, 0.07757568359375, 0.0604248046875, 0.0865478515625, 0.1405029296875, 0.041473388671875], [0.3017578125, 0.07037353515625, 0.06549072265625, 0.0380859375, 0.033782958984375, 0.03265380859375], [0.19189453125, 0.147705078125, 0.0595703125, 0.049102783203125, 0.04278564453125, 0.032379150390625], [0.177978515625, 0.1573486328125, 0.04400634765625, 0.10382080078125, 0.051239013671875, 0.035736083984375], [0.09515380859375, 0.0770263671875, 0.06964111328125, 0.065185546875, 0.06414794921875, 0.054840087890625]]\n",
      "Combined output tokens: [[(' Gros', 0.4453125), ('�', 0.426513671875), ('etat', 0.423095703125), (' cradle', 0.4072265625), ('佳', 0.381591796875)], [('odis', 1.5673828125), ('ODO', 1.5068359375), ('isses', 1.486328125), ('Pow', 1.3828125), (' DATE', 1.3779296875)], [('Vtbl', 1.552734375), ('吐', 1.505859375), ('Вън', 1.3828125), ('年夜', 1.3759765625), ('APIENTRY', 1.314453125)], [('curi', 2.853515625), (' S', 2.66015625), (' Mod', 2.6171875), ('oulli', 2.576171875), ('issos', 2.548828125)], [('gue', 1.685546875), ('adera', 1.62109375), ('rud', 1.6201171875), ('lets', 1.6181640625), ('缩短', 1.4814453125)], [('adera', 2.9296875), ('功', 2.23828125), ('idenc', 2.234375), ('aquen', 2.19140625), ('etts', 2.158203125)], [('�', 1.5078125), ('智慧', 1.4384765625), ('硬', 1.337890625), ('艺', 1.267578125), ('聪明', 1.1767578125)]]\n",
      "Expert predictions by position: {4: {4: [('兴', 9.8671875), ('яко', 9.3828125), ('ocol', 8.7578125), ('uli', 8.328125), ('lax', 8.21875)], 7: [('son', 9.640625), ('end', 9.2890625), (' K', 8.703125), ('hell', 8.5703125), ('K', 8.4921875)], 10: [('crest', 10.046875), ('雪', 9.0625), ('istre', 9.0234375), ('var', 8.75), ('ikip', 8.640625)], 18: [('йска', 9.5859375), (' O', 8.96875), ('SPEC', 8.6875), ('ord', 8.6796875), ('od', 8.453125)], 23: [('ouz', 9.640625), ('geu', 9.34375), ('动', 9.171875), ('astre', 8.8984375), ('astres', 8.75)], 38: [('硬', 11.1328125), ('硬的', 9.09375), ('^@', 8.828125), ('垃', 8.59375), ('蜘', 8.4921875)]}, 3: {5: [('uela', 10.265625), ('rain', 9.9765625), ('�', 8.53125), ('rons', 8.328125), ('NS', 8.3125)], 10: [('�乐', 11.5703125), ('Apps', 9.296875), ('y', 9.0234375), ('ilet', 8.90625), (' Ball', 8.84375)], 15: [('gent', 8.796875), ('.', 8.5546875), ('чик', 8.5234375), ('alies', 8.25), ('amma', 8.1796875)], 18: [('informe', 10.2890625), ('бена', 9.5625), ('ancelot', 9.015625), ('脱', 8.5546875), ('ituci', 8.53125)], 23: [('ton', 8.5), ('沉', 8.46875), ('orc', 8.3125), ('дник', 8.2734375), ('至', 7.96875)], 38: [('duc', 8.78125), ('喜', 8.359375), ('Ла', 8.3046875), ('ugin', 8.296875), ('功', 7.984375)]}, 0: {7: [('ясто', 10.5546875), ('菠', 9.8359375), ('yst', 9.7890625), ('erk', 8.4765625), ('дио', 8.4375)], 17: [('uat', 10.6328125), ('�乐', 10.4140625), ('omus', 9.359375), ('roth', 9.1328125), ('ajara', 8.859375)], 22: [('ISD', 9.8984375), ('alto', 8.171875), ('zac', 7.59765625), ('писани', 7.5078125), ('Acc', 7.34765625)], 39: [('jac', 8.828125), ('jo', 8.15625), ('ven', 8.0859375), ('after', 7.9609375), ('vers', 7.73046875)], 47: [('ува', 10.3125), ('dera', 8.953125), ('__', 8.84375), ('上', 8.796875), ('阳', 8.3671875)], 51: [('orno', 8.7890625), (' moves', 7.87890625), (' Vend', 7.7890625), (' move', 7.64453125), ('oce', 7.62890625)]}, 6: {9: [('�起', 9.4453125), (\" '\", 9.3359375), (' (', 9.28125), (' V', 9.0390625), (' class', 8.765625)], 18: [('орн', 8.453125), ('foundland', 8.4453125), (' rest', 8.15625), (' Width', 8.09375), ('�起', 7.8828125)], 23: [('asym', 9.8671875), ('чер', 9.0234375), ('精', 8.59375), ('轻', 8.4453125), (' inofens', 8.2890625)], 33: [('tofore', 9.5390625), ('pcs', 8.890625), ('ateix', 8.7890625), ('avel', 8.625), ('数', 8.1640625)], 38: [('adera', 9.421875), ('�', 9.1640625), ('恐', 8.390625), ('olev', 7.87890625), ('�', 7.56640625)], 55: [('ummer', 9.5625), (' empe', 8.40625), (' Македон', 8.3671875), ('йска', 8.1953125), ('的社会', 7.83203125)]}, 1: {17: [('ata', 8.8359375), (' ', 8.625), ('IC', 8.125), ('ics', 8.1015625), ('�', 7.77734375)], 18: [('olla', 9.6875), (' dispersa', 8.53125), ('例', 8.5), ('orr', 8.328125), (' falla', 8.3046875)], 24: [(' relle', 11.7578125), ('ENA', 10.859375), ('TOOLSET', 10.375), ('ausen', 10.0), (' netplan', 9.65625)], 29: [('fiques', 10.3828125), (' rede', 9.7890625), ('argest', 9.3203125), ('apest', 9.2578125), (' connexions', 9.2421875)], 32: [('imates', 8.6796875), ('车速', 8.1953125), ('AtA', 7.8671875), ('adesh', 7.8203125), ('lifting', 7.76171875)], 37: [('作品发表', 9.1796875), ('reason', 9.0859375), ('螺旋', 8.8203125), ('orical', 8.7890625), (' sord', 8.3515625)]}, 2: {18: [(' contemporanis', 9.8984375), ('ornis', 9.734375), ('aggable', 9.3359375), ('морска', 9.140625), (' present', 8.5703125)], 20: [('astical', 10.03125), ('PYG', 10.015625), ('гане', 9.5859375), ('ург', 9.4609375), ('plit', 9.4453125)], 23: [(' fine', 8.7890625), (' Род', 8.625), ('стина', 8.4296875), ('coq', 8.359375), ('curi', 8.21875)], 37: [('ExternalTask', 11.65625), ('ellations', 10.9375), (' Llib', 10.2734375), ('itants', 10.0546875), (' Llet', 10.046875)], 38: [('优先', 8.8359375), ('ensive', 8.6484375), ('LAGS', 8.453125), ('Hospitalet', 7.96484375), (' зве', 7.80078125)], 59: [('pendix', 9.5859375), ('ymen', 9.5625), ('ivot', 9.4375), ('ruguai', 9.2578125), ('gano', 9.2265625)]}, 5: {18: [('лив', 9.5), (' Call', 9.0078125), ('шата', 8.796875), (' Associaci', 8.6484375), ('цеп', 8.171875)], 20: [('uese', 11.2421875), ('��', 11.03125), ('oldt', 9.4296875), ('действие', 9.265625), (' Stammtafeln', 9.1484375)], 23: [('哈', 8.75), ('kees', 8.6171875), ('努', 8.484375), ('isp', 8.3671875), ('Произ', 8.1484375)], 38: [('curi', 8.1171875), ('oulli', 7.48046875), ('майор', 7.4296875), (' ta', 7.31640625), (' Mod', 7.28515625)], 40: [('nima', 9.5), ('唇', 8.1796875), ('жина', 8.1015625), ('�', 8.0), ('ostes', 7.97265625)], 60: [('9', 11.625), ('4', 11.265625), ('2', 11.1328125), ('8', 10.9609375), ('3', 10.9140625)]}}\n",
      "Shared expert predictions: [[(' Gros', 0.382080078125), ('�', 0.36669921875), ('AIPS', 0.361572265625), ('etat', 0.351806640625), ('onomia', 0.346923828125)], [(' e', 0.87353515625), ('enp', 0.81689453125), ('etr', 0.81396484375), ('挥', 0.80419921875), ('不成', 0.796875)], [('�', 0.68310546875), ('GB', 0.6708984375), ('台', 0.6318359375), ('osed', 0.62841796875), (' Estatal', 0.626953125)], [('<\\\\/', 0.8056640625), (' Кън', 0.71142578125), ('HING', 0.689453125), ('flame', 0.6796875), ('unge', 0.66748046875)], [('arx', 0.95361328125), ('trx', 0.79345703125), ('agrams', 0.76025390625), ('Lear', 0.7587890625), ('祺', 0.7001953125)], [('backer', 0.90087890625), ('otes', 0.80859375), ('霖', 0.7529296875), ('OTA', 0.740234375), ('otas', 0.7060546875)], [('gr', 0.93603515625), (':!', 0.89501953125), ('ff', 0.8837890625), ('淡淡', 0.87646484375), ('her', 0.87353515625)]]\n",
      "\n",
      "MoE Layer 14:\n",
      "Selected experts: [[37, 5, 3, 4, 35, 10], [47, 58, 30, 33, 53, 10], [58, 11, 12, 30, 60, 44], [11, 16, 53, 5, 27, 60], [16, 52, 44, 24, 9, 13], [53, 18, 44, 8, 20, 35], [4, 44, 10, 36, 2, 45]]\n",
      "Expert weights: [[0.3466796875, 0.0246124267578125, 0.028564453125, 0.0228118896484375, 0.0224151611328125, 0.0215911865234375], [0.1021728515625, 0.432861328125, 0.05535888671875, 0.0513916015625, 0.039398193359375, 0.03155517578125], [0.1619873046875, 0.09539794921875, 0.0814208984375, 0.06121826171875, 0.0584716796875, 0.045562744140625], [0.13671875, 0.2081298828125, 0.0758056640625, 0.054290771484375, 0.045318603515625, 0.03411865234375], [0.069091796875, 0.068115234375, 0.107421875, 0.06597900390625, 0.06488037109375, 0.0577392578125], [0.053253173828125, 0.193115234375, 0.08135986328125, 0.03851318359375, 0.03485107421875, 0.033599853515625], [0.104248046875, 0.11151123046875, 0.0692138671875, 0.0684814453125, 0.03729248046875, 0.032958984375]]\n",
      "Combined output tokens: [[('idera', 2.68359375), (' Fac', 2.5078125), ('frak', 2.4921875), (' fres', 2.326171875), ('osed', 2.32421875)], [('igued', 2.55078125), (' Maj', 2.40625), (' Opposition', 2.33984375), ('ernes', 2.30859375), ('erning', 2.255859375)], [('远的', 1.7685546875), ('onda', 1.7353515625), ('远', 1.46875), ('лагат', 1.4658203125), ('alguns', 1.4365234375)], [('\\xa0v', 2.421875), ('hood', 2.1484375), ('lig', 2.1328125), ('ides', 2.037109375), ('nal', 1.859375)], [('9', 2.431640625), ('0', 2.326171875), ('1', 2.244140625), ('7', 2.208984375), ('2', 2.203125)], [('olev', 1.7939453125), ('umo', 1.771484375), ('еди', 1.74609375), ('imil', 1.697265625), ('units', 1.6396484375)], [('PIO', 1.4326171875), ('iom', 1.34765625), (' Кън', 1.3388671875), ('POM', 1.2958984375), ('ioses', 1.27734375)]]\n",
      "Expert predictions by position: {6: {2: [('�', 10.4453125), ('�起', 10.2265625), ('ptrc', 9.71875), (' emerg', 9.46875), ('onium', 9.4296875)], 4: [('icht', 11.9296875), ('aters', 9.4453125), ('ons', 8.8828125), ('象', 8.828125), ('ides', 8.5)], 10: [('TOOLSET', 10.2421875), ('ulus', 9.9453125), ('ionat', 9.703125), ('ultors', 9.4609375), ('рото', 9.359375)], 36: [('院', 9.453125), ('加', 9.078125), ('inents', 8.8828125), ('agin', 8.8671875), ('对手', 8.6953125)], 44: [(' пореди', 9.0546875), ('onada', 8.984375), ('umu', 8.9375), ('pep', 8.7109375), ('假', 8.4609375)], 45: [('мети', 9.9609375), ('rona', 9.1875), ('aresme', 9.1015625), (' Edicions', 8.8984375), ('irons', 8.703125)]}, 0: {3: [('emir', 7.23046875), ('�', 6.82421875), ('一片', 6.76171875), ('yship', 6.6796875), ('favor', 6.6328125)], 4: [('вец', 8.640625), ('жен', 8.0859375), (' Path', 8.0546875), (' Hedge', 7.4375), (' everything', 7.30859375)], 5: [(' mar', 9.171875), (' poss', 8.4140625), ('ز', 8.0859375), (' Jr', 8.046875), ('iral', 7.94921875)], 10: [('4', 16.28125), ('0', 15.765625), ('6', 15.5703125), ('7', 15.5546875), ('1', 15.40625)], 35: [('exit', 8.21875), ('вор', 8.125), ('root', 7.9140625), ('vars', 7.859375), ('麻', 7.76953125)], 37: [('idera', 9.2890625), (' Fac', 8.578125), ('frak', 8.140625), ('Complexity', 8.078125), (' hello', 7.87109375)]}, 3: {5: [(' Set', 8.09375), ('htra', 7.921875), ('enal', 7.4296875), ('мет', 7.3828125), ('ogged', 7.375)], 11: [('Builtin', 9.7265625), ('querque', 8.8125), ('KES', 8.53125), ('ttify', 8.5234375), ('творе', 8.484375)], 16: [('ността', 10.078125), ('atural', 9.515625), (':///', 8.8359375), ('из', 8.7890625), ('aturally', 8.7109375)], 27: [('liest', 10.0390625), ('ebn', 9.7421875), ('iest', 9.546875), ('ης', 9.5), ('edn', 9.1953125)], 53: [('结', 10.2265625), (' v', 8.046875), ('特别的', 7.9296875), ('omini', 7.88671875), ('巧', 7.87109375)], 60: [('echa', 9.3828125), ('cked', 8.8359375), ('arisation', 8.4609375), (' suficient', 8.3828125), ('uko', 8.3046875)]}, 5: {8: [('ricte', 9.515625), ('лик', 8.875), ('driver', 8.53125), ('gex', 8.4765625), ('idge', 8.4453125)], 18: [('idity', 7.98828125), ('魔', 7.83984375), ('消耗', 7.7109375), ('ulum', 7.703125), ('ism', 7.67578125)], 20: [('anell', 10.109375), ('ceq', 9.4453125), ('equally', 8.84375), ('parison', 8.65625), ('endem', 8.6015625)], 35: [('стина', 8.4609375), ('ributed', 8.34375), ('гле', 8.28125), ('rodn', 8.1796875), ('rites', 8.0625)], 44: [('oken', 9.4765625), ('ifax', 9.2734375), (' смет', 8.1796875), (' allot', 8.171875), ('amia', 7.65234375)], 53: [('ishment', 8.3359375), ('arry', 8.0859375), ('хар', 7.92578125), ('paths', 7.86328125), ('ева', 7.74609375)]}, 4: {9: [('estions', 9.8203125), (' опълченец', 9.7734375), ('��', 9.5703125), ('сква', 9.1796875), (' опълчен', 9.1640625)], 13: [(' punta', 8.3515625), (' propriet', 8.2578125), (' Вашингтон', 8.1171875), (' ficci', 7.7734375), ('etext', 7.71875)], 16: [('nal', 12.734375), ('经', 10.125), ('hood', 9.5546875), ('cters', 9.171875), ('\\xa0v', 8.8515625)], 24: [(' only', 9.5078125), (' item', 8.984375), ('ka', 8.9140625), ('tri', 8.40625), ('oh', 8.390625)], 44: [('9', 9.875), ('0', 9.8515625), ('7', 9.265625), ('6', 9.25), ('8', 9.1953125)], 52: [('дем', 9.09375), ('amena', 9.0703125), ('�乐', 8.609375), ('acao', 8.3359375), ('nexi', 8.046875)]}, 1: {10: [(':*.', 10.328125), ('нау', 9.9375), ('渴', 9.078125), ('┈', 8.8203125), ('Rationals', 8.6328125)], 30: [(' Prats', 10.4609375), ('reso', 10.3515625), ('ODO', 9.796875), ('致', 9.59375), (' пър', 9.59375)], 33: [(' anon', 9.4921875), ('家常', 9.078125), ('пен', 9.078125), ('amis', 9.0078125), (' лица', 8.984375)], 47: [('ucus', 9.046875), ('oxide', 8.6640625), ('大队', 8.5234375), ('havia', 8.328125), ('jon', 7.97265625)], 53: [('riques', 10.25), ('ttp', 9.6875), ('ifes', 9.03125), ('库', 8.7734375), ('ifi', 8.7734375)], 58: [('riptor', 9.4609375), ('skirts', 9.2578125), ('pan', 9.171875), ('根', 8.8203125), ('фе', 8.7578125)]}, 2: {11: [('远的', 12.671875), ('ILON', 11.171875), ('imentaci', 9.15625), (' модер', 9.140625), ('тинопол', 9.125)], 12: [('verb', 9.484375), ('商业', 9.3359375), ('的商业', 9.3125), ('solic', 8.4453125), ('бле', 8.4453125)], 30: [(' themselves', 9.4140625), ('��', 8.9140625), ('孔', 8.5625), ('快', 8.28125), (' Нео', 8.2734375)], 44: [('деж', 9.1484375), (' breu', 8.4921875), ('尼亚', 8.28125), ('lique', 8.2265625), (' vella', 8.1875)], 58: [(' Maj', 10.0703125), ('igued', 9.921875), (' Попов', 9.453125), ('隧', 8.6875), ('engua', 8.234375)], 60: [('inate', 10.4609375), ('瘾', 9.703125), ('ITLE', 9.6953125), ('orthand', 9.296875), ('ituency', 8.875)]}}\n",
      "Shared expert predictions: [[('ismes', 0.302490234375), (' Senat', 0.299072265625), ('semb', 0.294677734375), ('ODO', 0.29345703125), ('Habitants', 0.292724609375)], [('semb', 0.9052734375), (' valign', 0.78759765625), ('ACES', 0.7333984375), ('NOS', 0.72998046875), ('idly', 0.72216796875)], [(' Hom', 0.71240234375), ('cdc', 0.69580078125), ('�', 0.68798828125), ('Cont', 0.68798828125), ('bars', 0.67919921875)], [('ica', 1.052734375), ('ICA', 1.04296875), ('�乐', 0.943359375), (' spo', 0.91552734375), ('ely', 0.8916015625)], [(' (', 1.2900390625), (' ', 1.2138671875), (' n', 0.9384765625), ('(', 0.91796875), ('…', 0.9052734375)], [('CMC', 0.96484375), ('ocom', 0.9560546875), ('NonUser', 0.90478515625), ('ExternalTask', 0.880859375), ('CRS', 0.8671875)], [('PIO', 1.04296875), ('ExternalTask', 0.9169921875), ('Cci', 0.86669921875), ('亲', 0.865234375), ('чаква', 0.8623046875)]]\n",
      "\n",
      "MoE Layer 15:\n",
      "Selected experts: [[16, 3, 24, 35, 27, 19], [17, 50, 54, 12, 2, 8], [12, 1, 2, 50, 51, 6], [19, 1, 12, 40, 0, 21], [61, 21, 2, 3, 25, 30], [40, 56, 50, 28, 2, 8], [28, 27, 18, 59, 2, 46]]\n",
      "Expert weights: [[0.03466796875, 0.465576171875, 0.0299072265625, 0.02752685546875, 0.0225982666015625, 0.02001953125], [0.140869140625, 0.1392822265625, 0.2001953125, 0.0794677734375, 0.058837890625, 0.03802490234375], [0.27197265625, 0.097900390625, 0.08843994140625, 0.0841064453125, 0.056121826171875, 0.0377197265625], [0.53564453125, 0.03326416015625, 0.03521728515625, 0.05230712890625, 0.03240966796875, 0.026275634765625], [0.057891845703125, 0.128662109375, 0.1455078125, 0.062225341796875, 0.054962158203125, 0.05474853515625], [0.1483154296875, 0.09881591796875, 0.057952880859375, 0.04571533203125, 0.041839599609375, 0.040313720703125], [0.0631103515625, 0.1368408203125, 0.060943603515625, 0.060821533203125, 0.05517578125, 0.052947998046875]]\n",
      "Combined output tokens: [[(' n', 0.7646484375), ('prop', 0.6982421875), (' s', 0.6884765625), ('ismes', 0.66259765625), (' p', 0.6259765625)], [('�乐', 1.9365234375), ('Segle', 1.6279296875), ('passes', 1.4658203125), ('浏', 1.435546875), ('edat', 1.419921875)], [('тре', 2.69140625), ('meres', 2.474609375), ('ests', 2.263671875), ('ennicke', 2.2421875), ('リ', 2.232421875)], [('roqu', 5.375), ('anesa', 4.66015625), ('库', 4.33984375), ('jou', 4.28125), ('лета', 4.26171875)], [('Ho', 1.5283203125), (' HO', 1.5166015625), ('dis', 1.4990234375), ('霸', 1.4306640625), ('apo', 1.421875)], [('awt', 2.13671875), ('icot', 1.7919921875), ('ilib', 1.736328125), ('erie', 1.638671875), ('ajuda', 1.6142578125)], [(' ', 1.5791015625), ('wis', 1.4765625), ('adera', 1.37890625), ('循环', 1.353515625), ('CG', 1.349609375)]]\n",
      "Expert predictions by position: {3: {0: [('w', 10.1875), ('登', 9.609375), (' PAS', 9.5234375), ('奢', 9.4140625), ('PAS', 9.359375)], 1: [('esar', 8.8984375), (' Dise', 8.265625), (' semic', 8.1953125), ('esion', 7.96875), ('вител', 7.96875)], 12: [('ingham', 9.8125), ('oty', 9.6484375), ('verd', 9.28125), ('orian', 9.21875), ('лан', 9.1796875)], 19: [('roqu', 9.7109375), ('abric', 9.109375), ('engo', 8.7109375), ('лета', 8.5625), ('anesa', 8.5078125)], 21: [('colhead', 9.9609375), ('璋', 9.234375), ('rophe', 9.140625), ('ku', 9.0078125), ('ygon', 8.9140625)], 40: [('4', 9.796875), ('2', 9.53125), ('角', 9.296875), ('1', 9.2109375), ('6', 9.0703125)]}, 2: {1: [('ionista', 12.8828125), (' експе', 12.71875), ('питан', 10.8984375), ('eness', 10.828125), (' изчезване', 10.5703125)], 2: [('0', 12.96875), ('7', 12.0859375), ('9', 11.796875), ('4', 11.7421875), ('2', 11.4453125)], 6: [('ו�', 8.5234375), ('phony', 8.390625), (' CONSTRAINT', 8.2890625), ('isabs', 8.2109375), ('сленост', 8.2109375)], 12: [('лича', 10.546875), ('meres', 9.65625), ('лита', 9.5546875), ('otis', 9.296875), ('bigarray', 8.8203125)], 50: [('ermat', 10.0234375), ('aer', 9.21875), ('0', 8.9609375), ('cano', 8.875), ('2', 8.8046875)], 51: [('�', 10.671875), ('的汽车', 10.2421875), ('тре', 9.0703125), ('Trace', 9.0546875), ('仅代表作者本人观点', 8.9765625)]}, 1: {2: [('ddots', 9.875), ('rbia', 9.171875), ('itant', 8.0703125), ('而知', 8.0234375), (' семей', 7.99609375)], 8: [('oughs', 8.1953125), ('ieves', 8.0859375), ('фия', 8.03125), (' drogues', 7.8125), ('freeze', 7.73828125)], 12: [('otis', 8.6953125), ('appings', 8.5234375), ('takes', 8.4921875), ('стки', 8.296875), ('LOPT', 8.28125)], 17: [('odend', 11.640625), ('ipi', 11.515625), ('利物', 9.5703125), ('issi', 8.8984375), ('ismo', 8.859375)], 50: [('onson', 9.6640625), ('稀', 8.7890625), ('层的', 7.72265625), ('стви', 7.6796875), ('下一', 7.57421875)], 54: [('oide', 9.796875), ('чар', 9.046875), ('atra', 8.9765625), ('roo', 8.8046875), ('par', 8.4765625)]}, 4: {2: [('先锋', 8.3125), ('mdc', 8.1953125), (' VS', 8.1171875), (' Sep', 8.046875), ('录', 7.9921875)], 3: [('crest', 8.96875), ('icacy', 8.109375), ('}$~\\\\', 8.0859375), (' Gram', 7.890625), ('рад', 7.8515625)], 21: [('�乐', 11.8203125), (' d', 10.1015625), ('萄', 10.0078125), ('rophe', 9.3671875), (' studies', 9.0078125)], 25: [('aye', 9.140625), ('on', 9.0390625), ('jo', 8.8984375), ('Кари', 8.28125), ('acom', 8.25)], 30: [('мейство', 9.0703125), ('9', 8.4765625), ('1', 8.2734375), ('容', 8.234375), ('asc', 7.8828125)], 61: [('пове', 10.328125), ('��', 9.4296875), ('epsi', 9.078125), ('dfp', 8.6953125), ('吸纳', 8.390625)]}, 5: {2: [('abad', 8.828125), ('mel', 8.7578125), ('olo', 7.8984375), ('ades', 7.8828125), ('à', 7.83984375)], 8: [('3', 11.8515625), ('9', 11.84375), ('��', 11.3359375), ('2', 10.984375), ('5', 10.9765625)], 28: [('9', 10.0703125), ('7', 9.8203125), ('4', 9.25), ('6', 8.9296875), ('3', 8.9296875)], 40: [('intosh', 9.84375), ('��', 9.1953125), ('abad', 9.15625), ('乾', 8.9453125), ('awt', 8.796875)], 50: [('цен', 8.9375), ('selector', 8.8125), ('лайн', 8.2734375), ('长发', 8.0), ('ustria', 7.91796875)], 56: [('ascript', 10.921875), (':~$', 9.21875), ('íř', 9.1796875), ('ucode', 8.9921875), ('erme', 8.984375)]}, 6: {2: [(' Prev', 8.6171875), ('odis', 8.5390625), ('dis', 8.3515625), ('esis', 8.21875), ('nou', 7.734375)], 18: [('Съби', 9.71875), ('eden', 9.296875), ('shal', 8.5625), ('东方', 8.4609375), ('BUG', 8.34375)], 27: [(' recon', 8.640625), (' квар', 8.578125), ('ONY', 8.2890625), ('康', 8.1484375), ('бите', 8.1328125)], 28: [('1', 10.515625), ('8', 9.015625), ('7', 8.8984375), (' намира', 8.859375), ('5', 8.8125)], 46: [('7', 11.3515625), ('ipp', 9.75), ('架', 9.21875), ('uera', 8.09375), ('不爱', 7.94140625)], 59: [('contribution', 9.1015625), ('osp', 8.5390625), ('regu', 8.4765625), ('estern', 8.421875), ('usen', 8.2578125)]}, 0: {3: [('aband', 8.7890625), ('CID', 8.1953125), ('adera', 8.0703125), ('culo', 7.88671875), (' Adels', 7.828125)], 16: [('inguish', 10.4765625), ('��', 9.2265625), ('率高', 9.046875), ('�', 9.0390625), ('掘', 8.1484375)], 19: [('ystyle', 8.890625), (' Noguera', 8.609375), ('StyleID', 8.5859375), ('ouville', 8.5078125), ('idera', 8.5078125)], 24: [(' Pins', 9.03125), ('CodeAttribute', 8.6015625), (' sols', 8.09375), (' Tw', 7.96484375), ('AudioEvent', 7.71875)], 27: [('利', 9.3515625), ('9', 8.3515625), ('0', 8.2265625), ('能源', 8.140625), ('wis', 7.921875)], 35: [('вестни', 9.25), (' feines', 8.953125), ('adell', 8.8828125), ('OrBuilder', 8.6953125), ('кул', 8.453125)]}}\n",
      "Shared expert predictions: [[(' n', 0.69873046875), ('prop', 0.669921875), (' s', 0.64111328125), ('ismes', 0.6220703125), ('lou', 0.568359375)], [('NonUser', 1.5830078125), ('Ungrouped', 1.4833984375), ('�乐', 1.4814453125), ('IconError', 1.4755859375), ('ExternalTask', 1.4111328125)], [('isations', 1.109375), ('ismes', 1.0849609375), ('rils', 0.99169921875), ('anguard', 0.94482421875), ('meres', 0.93896484375)], [('orb', 0.93505859375), ('Ping', 0.93017578125), ('WC', 0.92626953125), ('ESA', 0.91455078125), ('arb', 0.90771484375)], [('adur', 0.93994140625), ('ifact', 0.9140625), ('inam', 0.8671875), ('arb', 0.85400390625), ('urally', 0.8388671875)], [('Dis', 0.9482421875), ('迪', 0.94091796875), ('bos', 0.93017578125), ('cc', 0.908203125), ('dis', 0.90283203125)], [('oice', 0.9326171875), ('迪', 0.9189453125), ('Mem', 0.90966796875), ('mem', 0.859375), ('ури', 0.85498046875)]]\n",
      "\n",
      "MoE Layer 16:\n",
      "Selected experts: [[23, 1, 8, 3, 10, 37], [50, 52, 37, 51, 36, 33], [50, 21, 51, 9, 29, 37], [27, 31, 21, 35, 5, 10], [37, 27, 10, 30, 5, 47], [13, 31, 10, 38, 47, 55], [23, 19, 40, 36, 16, 10]]\n",
      "Expert weights: [[0.04669189453125, 0.2047119140625, 0.04351806640625, 0.045166015625, 0.03411865234375, 0.032867431640625], [0.1170654296875, 0.106201171875, 0.10113525390625, 0.07830810546875, 0.06646728515625, 0.04986572265625], [0.291015625, 0.077392578125, 0.077392578125, 0.043060302734375, 0.04217529296875, 0.039459228515625], [0.15625, 0.1097412109375, 0.09222412109375, 0.043670654296875, 0.041748046875, 0.03704833984375], [0.061920166015625, 0.13623046875, 0.3125, 0.045379638671875, 0.07293701171875, 0.031890869140625], [0.12078857421875, 0.2144775390625, 0.1136474609375, 0.05517578125, 0.0270233154296875, 0.0267333984375], [0.058807373046875, 0.152587890625, 0.06109619140625, 0.05548095703125, 0.072265625, 0.054229736328125]]\n",
      "Combined output tokens: [[('NameLink', 0.82421875), ('lou', 0.79833984375), ('idera', 0.77978515625), ('стер', 0.7783203125), (' volc', 0.76806640625)], [('1', 1.5595703125), ('2', 1.5126953125), ('0', 1.4931640625), ('3', 1.46484375), ('_', 1.4443359375)], [(' \"', 2.123046875), (' z', 1.9775390625), ('ram', 1.9345703125), (' p', 1.892578125), ('headed', 1.8837890625)], [('raph', 2.408203125), ('googleads', 2.10546875), ('speech', 1.7744140625), ('olem', 1.71484375), ('oft', 1.66796875)], [('1', 3.064453125), ('0', 3.0546875), ('5', 3.041015625), ('7', 2.880859375), ('2', 2.873046875)], [('sembled', 2.984375), ('semble', 2.943359375), ('三峡', 2.775390625), ('↳', 2.728515625), ('anque', 2.68359375)], [('独', 1.6181640625), ('3', 1.5654296875), ('9', 1.5546875), ('2', 1.505859375), ('返', 1.427734375)]]\n",
      "Expert predictions by position: {0: {1: [('or', 11.578125), ('OR', 9.1796875), ('ophone', 8.71875), (' esdev', 8.609375), ('жде', 8.59375)], 3: [('пул', 10.8203125), ('itiu', 9.0859375), ('rendre', 8.7265625), ('简书', 8.453125), ('бина', 8.21875)], 8: [('fess', 8.6640625), ('alera', 8.4140625), (' Series', 8.140625), ('двиг', 7.90625), ('�起', 7.74609375)], 10: [(' ', 10.4921875), ('ann', 9.4453125), ('ystem', 9.1875), ('waters', 9.09375), ('  ', 9.0)], 23: [('хия', 10.15625), ('de', 8.953125), ('�起', 8.875), (' Fran', 8.578125), ('верен', 8.4921875)], 37: [('8', 9.9140625), ('5', 9.8203125), ('ce', 9.3515625), ('3', 9.1171875), ('6', 8.5546875)]}, 3: {5: [('olly', 9.9296875), ('assa', 9.34375), (' err', 9.25), ('一组', 8.3984375), ('vel', 8.203125)], 10: [('athe', 8.9375), ('uria', 8.6640625), ('сте', 8.5859375), ('ureth', 8.5703125), ('achine', 8.5546875)], 21: [('ionistes', 11.1640625), ('isSet', 9.578125), ('ting', 9.3984375), (' hands', 9.3359375), ('neres', 9.2578125)], 27: [('googleads', 15.1015625), ('eqno', 12.921875), ('swick', 12.265625), ('ianisme', 12.0234375), ('etapes', 11.84375)], 31: [(' G', 8.3828125), ('ationally', 8.2578125), ('三峡', 7.98046875), (' Fock', 7.96484375), ('↳', 7.73046875)], 35: [('winds', 9.765625), (' polym', 9.4765625), ('член', 9.3125), (' маха', 9.2578125), (' постоя', 9.1015625)]}, 4: {5: [(' Стоян', 8.453125), ('пад', 8.4453125), ('дем', 8.140625), ('西班', 7.921875), ('穷', 7.70703125)], 10: [('ove', 9.71875), ('oot', 9.2734375), ('енти', 9.1875), ('uesa', 8.96875), ('ensk', 8.4296875)], 27: [(' ter', 12.0703125), (' Ter', 11.75), (' ret', 11.2890625), ('Ter', 9.5390625), ('bre', 9.34375)], 30: [('тски', 8.453125), ('еро', 8.4375), ('iosync', 8.0625), ('ording', 7.8984375), ('聘', 7.87890625)], 37: [(' hospit', 9.7578125), (' desocup', 8.1171875), (' Select', 8.109375), ('palette', 8.0078125), ('ль', 7.921875)], 47: [('hq', 9.6640625), ('rogative', 8.9609375), ('DDIR', 8.65625), ('uthor', 8.640625), ('食指', 8.453125)]}, 2: {9: [('odel', 8.8203125), (' Silver', 8.6796875), ('ent', 8.578125), ('ays', 8.578125), ('ctions', 8.53125)], 21: [('mog', 8.5390625), ('moz', 8.46875), ('леп', 8.3203125), ('пус', 8.296875), ('enesis', 8.28125)], 29: [('omys', 9.328125), ('ranos', 8.7890625), ('irat', 8.1171875), ('湖', 7.7578125), ('新浪看点', 7.52734375)], 37: [('upp', 9.21875), ('档', 9.0625), ('raphics', 9.0234375), ('UFF', 8.40625), ('{})', 8.40625)], 50: [('巴', 9.3203125), (' aff', 9.203125), ('�', 8.5390625), (' Margarida', 8.3984375), ('_', 8.265625)], 51: [('��', 12.2890625), ('ур', 12.0), (' relle', 10.0859375), ('лярен', 9.8671875), ('ering', 9.6640625)]}, 5: {10: [('4', 10.765625), ('3', 10.7578125), ('7', 10.3203125), ('8', 10.296875), ('5', 9.984375)], 13: [(' Кън', 11.4296875), ('Artag', 10.9296875), (' aturades', 10.875), ('Sants', 10.515625), ('Phabricator', 10.328125)], 31: [('around', 9.0703125), ('淀', 8.7265625), (' around', 8.59375), ('stal', 8.296875), (' production', 8.2890625)], 38: [('一家', 9.3359375), (' \\\\|_{\\\\', 9.2109375), ('DESCRIPT', 8.7890625), ('的一家', 8.734375), ('cule', 8.6796875)], 47: [('ffected', 8.8671875), ('refore', 8.859375), (' TRI', 8.7890625), (' once', 8.484375), ('abytes', 8.4453125)], 55: [('able', 12.1640625), ('ham', 10.3515625), ('ability', 10.2109375), ('ome', 10.1796875), ('ably', 9.8046875)]}, 6: {10: [('0', 11.03125), ('8', 10.265625), ('5', 10.1171875), ('2', 9.7265625), ('1', 9.71875)], 16: [('如果您', 8.8046875), ('ard', 8.2421875), ('ards', 8.171875), ('oids', 8.1484375), ('博', 7.96875)], 19: [('9', 12.546875), ('6', 11.28125), ('5', 10.28125), ('ilon', 9.578125), ('坐', 9.375)], 23: [('精神的', 8.65625), ('edo', 8.34375), ('leeve', 8.34375), ('indle', 8.0390625), ('ур', 8.015625)], 36: [('4', 10.8203125), ('8', 10.4609375), ('her', 10.2421875), ('0', 9.53125), ('3', 9.5)], 40: [('times', 12.2734375), (' times', 10.703125), ('0', 10.609375), ('2', 10.5234375), ('9', 10.4296875)]}, 1: {33: [('>%', 8.984375), (' Xorg', 8.9453125), ('}}}$,', 8.765625), ('oulders', 8.6171875), ('resar', 8.546875)], 36: [('ivate', 10.484375), ('↳', 10.2109375), ('arcal', 9.8125), ('pard', 9.5546875), ('pregn', 9.5078125)], 37: [('ctics', 8.7265625), (' vis', 8.078125), (' срав', 8.046875), ('мар', 8.0234375), ('dings', 7.97265625)], 50: [('ICY', 8.6015625), ('urb', 8.546875), ('l', 8.4140625), ('ls', 8.3671875), ('削', 8.359375)], 51: [('ROP', 10.78125), ('3', 9.75), ('2', 9.0625), ('rs', 8.8125), ('amp', 8.7578125)], 52: [('iss', 9.6015625), ('ises', 9.1171875), ('司', 9.03125), ('urant', 9.03125), ('urses', 8.78125)]}}\n",
      "Shared expert predictions: [[('NameLink', 0.82763671875), ('lou', 0.7412109375), ('стер', 0.73193359375), (' volc', 0.7255859375), ('rites', 0.67578125)], [('‐', 0.7763671875), (' A', 0.7236328125), (' m', 0.70166015625), ('丸', 0.68798828125), (' L', 0.6787109375)], [(' e', 1.08984375), (' m', 1.0380859375), (' b', 1.0029296875), (' (', 0.97607421875), (' S', 0.955078125)], [('0', 1.3369140625), ('2', 1.3173828125), ('3', 1.30078125), ('7', 1.2900390625), ('5', 1.2685546875)], [('otch', 1.0869140625), ('spe', 0.8408203125), (' sup', 0.81103515625), ('PIN', 0.80712890625), ('2', 0.78662109375)], [('heric', 1.1806640625), ('ularity', 1.166015625), ('arquia', 1.119140625), ('ifi', 1.111328125), ('Ungrouped', 1.078125)], [('cast', 1.041015625), ('独', 1.0146484375), ('固执', 0.9619140625), (' cc', 0.904296875), ('GB', 0.884765625)]]\n",
      "\n",
      "MoE Layer 17:\n",
      "Selected experts: [[22, 37, 44, 61, 24, 11], [60, 5, 26, 61, 50, 58], [19, 5, 3, 49, 31, 41], [5, 41, 31, 3, 19, 12], [31, 48, 12, 55, 16, 41], [56, 36, 19, 28, 38, 35], [57, 17, 42, 62, 38, 20]]\n",
      "Expert weights: [[0.3974609375, 0.03302001953125, 0.026519775390625, 0.022491455078125, 0.0224456787109375, 0.021759033203125], [0.062744140625, 0.181396484375, 0.051025390625, 0.12152099609375, 0.035797119140625, 0.034271240234375], [0.2080078125, 0.12109375, 0.075927734375, 0.0716552734375, 0.051055908203125, 0.042755126953125], [0.114013671875, 0.070068359375, 0.07159423828125, 0.0552978515625, 0.044647216796875, 0.043731689453125], [0.292724609375, 0.120849609375, 0.053680419921875, 0.05316162109375, 0.0347900390625, 0.034210205078125], [0.1331787109375, 0.11920166015625, 0.0850830078125, 0.058319091796875, 0.045379638671875, 0.02325439453125], [0.10693359375, 0.083740234375, 0.048614501953125, 0.048095703125, 0.0438232421875, 0.0361328125]]\n",
      "Combined output tokens: [[('idera', 2.474609375), ('}$~\\\\', 2.416015625), ('frak', 2.337890625), ('endres', 2.23828125), (' Fac', 2.197265625)], [('��', 2.146484375), ('�乐', 2.041015625), (' пореди', 1.9794921875), ('orie', 1.8203125), (' пребро', 1.7734375)], [('ula', 2.125), ('лия', 1.7900390625), ('iling', 1.7900390625), ('yles', 1.73046875), ('ible', 1.6875)], [('icat', 1.8935546875), (' gen', 1.845703125), (' Cat', 1.8251953125), ('Cat', 1.8037109375), (' cat', 1.70703125)], [('尹', 2.1484375), ('aul', 2.0546875), (' gu', 2.05078125), ('fool', 2.009765625), ('亲自', 1.9931640625)], [('sav', 2.314453125), ('�', 2.205078125), ('�', 2.150390625), ('essions', 1.826171875), ('cale', 1.7587890625)], [('widetext', 1.3408203125), ('ARB', 1.3193359375), ('imentaci', 1.30859375), ('MES', 1.3046875), ('eqno', 1.3037109375)]]\n",
      "Expert predictions by position: {2: {3: [('нали', 9.484375), ('剥', 9.4765625), ('GLOB', 9.21875), ('annel', 8.7890625), ('LEX', 8.625)], 5: [(' cat', 17.5), ('Cat', 15.9921875), ('cat', 15.78125), (' Cat', 14.765625), ('CAT', 13.03125)], 19: [('速', 10.1640625), ('ifying', 9.984375), ('ification', 9.8125), ('ACLE', 9.3203125), ('ify', 8.734375)], 31: [('specs', 8.609375), (' volunt', 8.5859375), ('dered', 8.4375), ('kered', 8.421875), ('acin', 8.1640625)], 41: [('iament', 10.578125), ('illeria', 9.78125), ('iboot', 9.5), ('ividual', 9.3125), ('clo', 9.09375)], 49: [('тник', 10.5234375), ('��', 9.5625), ('Фамилия', 9.0625), ('rotron', 8.5390625), (' дей', 8.5390625)]}, 3: {3: [(' side', 9.1171875), ('原因', 8.859375), ('阱', 8.640625), ('etch', 8.609375), ('0', 8.6015625)], 5: [('orie', 11.09375), ('agena', 10.9765625), ('atre', 10.65625), ('��', 10.625), ('olog', 10.46875)], 12: [('aru', 9.8671875), ('enar', 9.4921875), ('��', 9.015625), (' Ща', 8.78125), ('THON', 8.6953125)], 19: [('��', 10.4375), ('outs', 9.7734375), ('�', 9.7109375), ('Pack', 9.6953125), ('starts', 9.5703125)], 31: [('IEW', 9.046875), (' sentit', 8.515625), ('Subcode', 8.3203125), ('oleon', 8.0234375), ('erring', 8.0078125)], 41: [('ips', 8.8046875), ('游戏中', 8.765625), ('lectric', 8.71875), ('izon', 8.5546875), ('apef', 8.46875)]}, 1: {5: [('4', 11.890625), ('5', 10.46875), ('6', 10.3828125), ('wide', 9.9453125), ('7', 9.7890625)], 26: [('дото', 9.046875), ('IEEEeqnarray', 8.9921875), ('статъ', 8.2109375), (' astron', 8.171875), ('хите', 8.109375)], 50: [('Switch', 9.59375), ('apol', 9.15625), (' Switch', 8.859375), ('бат', 8.5625), ('switch', 8.3984375)], 58: [('ура', 10.4921875), ('=\"../_', 9.984375), ('osse', 9.4453125), ('ерн', 9.4140625), ('лита', 9.3828125)], 60: [('盖', 9.046875), ('emano', 9.03125), ('办理', 9.0), ('xford', 8.7734375), ('inous', 8.59375)], 61: [('�起', 9.78125), (' properties', 8.875), (' property', 8.390625), (' View', 8.1796875), (' secrets', 8.0078125)]}, 0: {11: [('rids', 9.6640625), ('DL', 9.65625), (' st', 8.921875), (' гори', 8.7890625), ('�', 8.53125)], 22: [('idera', 10.1328125), ('Complexity', 8.890625), (' Fac', 8.5390625), ('endres', 8.4921875), (' Mand', 8.21875)], 24: [('део', 8.7734375), ('arcity', 8.375), ('英', 8.15625), ('emporary', 7.921875), (' REF', 7.8046875)], 37: [('oley', 11.15625), ('7', 10.515625), ('r', 10.1640625), ('1', 9.5703125), (' r', 8.859375)], 44: [('бий', 8.453125), ('onese', 8.28125), ('异', 8.28125), ('Wonder', 7.9296875), ('nesi', 7.82421875)], 61: [('interface', 9.046875), ('不平', 9.0078125), ('functions', 8.7578125), ('yet', 8.578125), ('�', 8.578125)]}, 4: {12: [('ای', 11.7421875), ('amet', 9.5234375), ('/__', 9.4296875), ('isSet', 8.890625), ('chiev', 8.7890625)], 16: [(' crossorigin', 10.765625), ('ESCO', 8.90625), ('autilus', 8.625), ('娥', 8.5078125), ('IMIT', 8.484375)], 31: [('0', 12.59375), ('2', 12.2109375), ('1', 11.75), ('4', 11.3515625), ('5', 11.203125)], 41: [('годи', 10.0078125), ('rality', 9.1796875), ('alysis', 9.09375), ('ilitat', 8.984375), ('gsettings', 8.78125)], 48: [('es', 15.484375), ('s', 11.8671875), ('ie', 9.09375), ('ter', 8.7421875), (' adm', 8.1171875)], 55: [(' общност', 9.3828125), ('憾', 9.109375), ('策', 9.0390625), ('mith', 8.8671875), ('ServiceProvider', 8.6171875)]}, 6: {17: [(' внима', 9.0), ('裂', 8.3671875), ('ovn', 8.328125), ('特', 8.0625), ('崩', 7.8125)], 20: [('值', 9.3515625), ('ofer', 9.34375), ('thr', 8.75), ('orna', 8.3359375), ('umn', 8.28125)], 38: [('мис', 8.5703125), ('界', 8.421875), ('bers', 8.3671875), ('itor', 8.3125), ('ps', 8.265625)], 42: [(' xif', 10.4453125), ('restant', 9.5546875), ('ележки', 9.421875), (' Llista', 9.3515625), (' пак', 9.25)], 57: [('trics', 10.390625), ('niques', 10.28125), ('querque', 9.859375), ('ETHOD', 9.8515625), ('量', 9.4140625)], 62: [('metav', 8.65625), ('透', 8.328125), ('рю', 8.28125), ('^*\\\\', 8.2578125), (' tempesta', 8.234375)]}, 5: {19: [('rament', 8.65625), ('ottom', 8.453125), ('tole', 8.3125), ('opos', 8.296875), ('study', 8.296875)], 28: [('ionar', 9.0234375), ('osaic', 8.7109375), ('室外', 8.6796875), ('繁', 8.3671875), ('ulic', 8.328125)], 35: [('мия', 9.6796875), ('omar', 8.9921875), ('眠', 8.9453125), ('трих', 8.75), ('致的', 8.5625)], 36: [('ires', 9.03125), ('matics', 8.96875), ('ndra', 8.6875), ('cht', 8.5234375), ('onomy', 8.4375)], 38: [('спекти', 9.5078125), ('端', 8.859375), ('ama', 8.828125), ('GE', 8.578125), ('普', 8.5390625)], 56: [('поред', 11.546875), ('up', 9.2890625), ('盘', 8.8046875), ('好', 8.2265625), ('mapper', 7.66015625)]}}\n",
      "Shared expert predictions: [[('}$~\\\\', 0.669921875), ('frak', 0.65185546875), ('dens', 0.634765625), ('直言', 0.6064453125), ('poke', 0.6064453125)], [('ROID', 0.9970703125), ('aza', 0.95166015625), ('默默', 0.88916015625), ('横', 0.8818359375), ('悠悠', 0.87890625)], [(' afr', 0.9892578125), (' заба', 0.970703125), ('rost', 0.85302734375), ('慢慢的', 0.84033203125), ('避开', 0.83837890625)], [('uran', 0.88525390625), ('getLocal', 0.8486328125), ('ndar', 0.833984375), ('�', 0.82275390625), ('上了', 0.79541015625)], [('anomenada', 0.9228515625), ('凌', 0.9130859375), ('�', 0.90283203125), ('rivia', 0.89111328125), ('\\\\%}', 0.875)], [('ickness', 1.8193359375), ('ymbol', 1.755859375), ('pread', 1.6708984375), ('lash', 1.60546875), ('upport', 1.5751953125)], [('IEEEeqnarray', 1.0302734375), ('巍', 0.9921875), ('revista', 0.96728515625), ('糊涂', 0.96435546875), (' c', 0.95751953125)]]\n",
      "\n",
      "MoE Layer 18:\n",
      "Selected experts: [[47, 50, 2, 44, 61, 15], [62, 7, 42, 17, 23, 1], [29, 7, 36, 42, 31, 1], [36, 31, 29, 15, 5, 10], [31, 43, 17, 36, 28, 55], [5, 22, 20, 43, 33, 36], [57, 49, 7, 62, 43, 14]]\n",
      "Expert weights: [[0.0343017578125, 0.041046142578125, 0.408203125, 0.03338623046875, 0.0281829833984375, 0.02398681640625], [0.06060791015625, 0.1058349609375, 0.295654296875, 0.050628662109375, 0.03350830078125, 0.029449462890625], [0.450439453125, 0.0767822265625, 0.073974609375, 0.06787109375, 0.03143310546875, 0.028717041015625], [0.1724853515625, 0.0687255859375, 0.10687255859375, 0.060791015625, 0.093994140625, 0.059906005859375], [0.203125, 0.13720703125, 0.06951904296875, 0.055206298828125, 0.053680419921875, 0.044891357421875], [0.2548828125, 0.1815185546875, 0.143310546875, 0.057220458984375, 0.039947509765625, 0.035736083984375], [0.03363037109375, 0.48046875, 0.0379638671875, 0.053619384765625, 0.028167724609375, 0.0257720947265625]]\n",
      "Combined output tokens: [[('жени', 0.8916015625), (' org', 0.80908203125), (' min', 0.78271484375), (' Pro', 0.7431640625), (']^-', 0.72021484375)], [('ol', 2.375), ('ck', 2.283203125), (' sindical', 2.23046875), ('atre', 2.171875), (' observat', 2.130859375)], [('version', 5.44921875), (' version', 5.19921875), ('route', 5.1328125), ('fixes', 5.0546875), ('事', 5.02734375)], [('gett', 2.029296875), ('CTS', 1.8935546875), ('iency', 1.87109375), ('indexes', 1.845703125), ('рали', 1.8310546875)], [(' v', 2.03515625), (' b', 1.9833984375), (' p', 1.8798828125), (' j', 1.701171875), (' m', 1.6923828125)], [('werp', 3.30078125), ('META', 3.087890625), ('稻', 2.70703125), ('iour', 2.68359375), (' въ', 2.642578125)], [('ership', 2.9609375), ('ube', 2.796875), ('钻', 2.748046875), ('ophile', 2.728515625), ('忠', 2.720703125)]]\n",
      "Expert predictions by position: {1: {1: [('дера', 9.2265625), ('HIN', 8.6015625), ('�', 8.5546875), ('heets', 8.4296875), ('apon', 8.15625)], 7: [('bitat', 10.2578125), ('incipal', 9.7578125), ('感和', 9.359375), ('ymbol', 9.2109375), ('olor', 8.921875)], 17: [('TOOLSET', 10.390625), ('FUNCPTR', 9.6015625), ('APIENTRY', 9.6015625), ('bigarray', 9.125), ('paramtype', 9.046875)], 23: [('because', 13.640625), (' because', 12.5546875), ('arrings', 11.125), (' porque', 10.875), (' beca', 10.65625)], 42: [('� ', 13.09375), ('ivery', 11.03125), ('resa', 10.515625), (' ено', 10.453125), ('resar', 10.171875)], 62: [('灌', 11.34375), ('resso', 9.828125), ('msa', 9.3359375), ('��', 8.4765625), (' solars', 8.375)]}, 2: {1: [('4', 13.078125), ('6', 12.65625), ('1', 12.59375), ('7', 11.203125), ('0', 11.15625)], 7: [('TYPE', 10.6796875), (' triom', 10.0703125), ('ype', 9.8828125), ('type', 9.8046875), ('rowave', 9.484375)], 29: [('术', 9.171875), ('icidal', 8.7734375), ('itar', 8.734375), ('торо', 8.6640625), ('总数', 8.4296875)], 31: [('利于', 9.5859375), ('omac', 9.1328125), (' do', 8.5859375), ('ounding', 8.5625), (' #', 8.515625)], 36: [('�', 8.484375), ('het', 8.1640625), (' интернет', 8.125), ('ул', 8.1015625), ('pered', 7.765625)], 42: [('short', 9.5546875), (' SH', 9.515625), ('长', 9.3828125), ('by', 9.15625), ('uality', 8.671875)]}, 0: {2: [(' Ban', 8.75), (' n', 8.53125), ('笛', 7.96875), (' Pop', 7.8203125), ('стани', 7.6796875)], 15: [('legi', 9.4609375), (' Пазар', 9.0625), ('机的', 8.9375), ('郭德', 8.8984375), (' бря', 8.6875)], 44: [('etry', 10.7109375), ('�', 10.6953125), ('良', 9.9609375), (' major', 9.3671875), ('�', 8.96875)], 47: [('endor', 8.9609375), ('вни', 8.7734375), ('roph', 8.6796875), ('�起', 8.6640625), ('стието', 8.3359375)], 50: [('g', 10.046875), (' mini', 9.1640625), ('сберг', 9.1015625), (' M', 8.8203125), ('攻', 8.5234375)], 61: [('2', 8.6953125), ('3', 8.65625), ('1', 8.625), ('4', 8.5703125), ('6', 8.3828125)]}, 3: {5: [('lir', 9.0390625), ('汀', 8.9453125), ('osus', 8.84375), ('imiter', 8.8203125), ('тенберг', 8.6171875)], 10: [('�乐', 13.34375), ('rona', 9.5078125), (' едноименния', 9.265625), ('ledged', 9.1328125), ('Arque', 9.046875)], 15: [('逻', 9.140625), ('сен', 9.0390625), ('党组', 8.890625), ('uelto', 8.671875), ('сели', 8.21875)], 29: [('fixes', 9.5703125), ('facts', 9.359375), ('ollow', 8.84375), ('amboo', 8.8203125), (' version', 8.5625)], 31: [('xes', 8.84375), ('的重', 8.484375), ('�', 8.359375), ('涕', 8.1484375), ('ё', 8.078125)], 36: [('2', 15.3125), ('0', 15.171875), ('3', 14.296875), ('5', 14.203125), ('7', 14.1328125)]}, 5: {5: [('theo', 10.546875), (' Търново', 10.09375), ('CALLTYPE', 10.0703125), (' земе', 9.890625), ('urament', 9.640625)], 20: [('textsuperscript', 8.140625), ('META', 7.81640625), ('agen', 7.80078125), ('estival', 7.59375), ('stall', 7.51171875)], 22: [('USY', 10.796875), (' part', 9.375), ('aband', 9.296875), ('amplona', 9.1796875), ('ucode', 9.1171875)], 33: [('вата', 9.3125), ('тици', 8.796875), (' your', 8.6875), ('enne', 8.6015625), ('yar', 8.59375)], 36: [('isses', 8.8984375), ('arms', 8.3515625), ('openg', 8.1328125), ('3', 8.0625), ('形的', 7.98828125)], 43: [(' Ib', 9.4765625), ('taf', 8.6328125), (' //-->', 8.515625), ('udes', 8.40625), ('rei', 8.296875)]}, 6: {7: [(' огла', 9.8515625), ('malink', 9.4296875), ('MAN', 9.25), ('ordi', 8.7734375), ('бина', 8.75)], 14: [('0', 9.640625), ('6', 9.484375), ('2', 9.28125), ('1', 9.1640625), ('7', 8.8203125)], 43: [('utan', 10.375), ('ertaining', 9.0625), ('unciar', 8.8046875), ('рок', 8.5859375), ('torsion', 8.5625)], 49: [('钻', 9.5), ('udo', 9.2890625), ('ophile', 9.1484375), ('GBT', 9.046875), ('onday', 8.953125)], 57: [('overed', 9.3046875), ('cules', 8.9921875), ('olutely', 8.921875), ('urved', 8.765625), ('until', 8.4609375)], 62: [('衔', 8.6796875), ('语', 8.5703125), (' {!', 8.4140625), ('лата', 8.3984375), ('oret', 8.390625)]}, 4: {17: [(' hem', 9.7265625), ('icci', 9.4921875), ('sym', 9.21875), ('essages', 9.1953125), ('uzz', 8.9765625)], 28: [(' flyback', 10.546875), ('nore', 10.1015625), ('orters', 9.9609375), ('сор', 9.3359375), ('сът', 9.21875)], 31: [(' v', 12.21875), (' r', 11.3984375), (' n', 11.140625), (' ', 11.046875), (' p', 10.90625)], 36: [('braco', 9.078125), ('agua', 9.0234375), ('дове', 8.7890625), ('мети', 8.78125), ('altColor', 8.4453125)], 43: [('etimes', 10.90625), ('Окръг', 10.3515625), ('ividual', 10.2578125), ('рони', 9.46875), ('eza', 9.265625)], 55: [(' експе', 11.078125), ('hoe', 9.4921875), ('jna', 9.2578125), (' Fabra', 9.21875), ('ramfs', 9.140625)]}}\n",
      "Shared expert predictions: [[('жени', 0.59375), (' org', 0.5224609375), ('嘘', 0.493896484375), ('陷入', 0.48876953125), (' Pro', 0.48681640625)], [(' ', 1.517578125), ('4', 1.4814453125), ('1', 1.4453125), ('2', 1.3525390625), ('3', 1.3359375)], [('min', 1.1337890625), ('ie', 1.068359375), ('ma', 1.0107421875), ('ann', 0.9423828125), (' b', 0.93212890625)], [('edom', 0.9541015625), ('ives', 0.9248046875), ('沦', 0.89111328125), ('ably', 0.87646484375), ('matically', 0.8388671875)], [(' b', 0.87060546875), ('lish', 0.86572265625), (' p', 0.7578125), ('ely', 0.72021484375), ('nap', 0.7099609375)], [(' Ages', 0.8935546875), ('蒂', 0.7646484375), (' imp', 0.75390625), ('最小', 0.744140625), (\"<'\", 0.73974609375)], [(' m', 1.435546875), (' g', 1.3623046875), (' p', 1.3486328125), (' (', 1.27734375), (' n', 1.16015625)]]\n",
      "\n",
      "MoE Layer 19:\n",
      "Selected experts: [[45, 17, 10, 9, 51, 25], [45, 46, 9, 39, 35, 51], [48, 50, 43, 46, 51, 15], [43, 38, 39, 1, 15, 3], [40, 7, 38, 3, 33, 56], [32, 12, 40, 23, 7, 36], [10, 13, 7, 32, 11, 9]]\n",
      "Expert weights: [[0.75048828125, 0.0159454345703125, 0.014190673828125, 0.01346588134765625, 0.0103759765625, 0.0102996826171875], [0.126953125, 0.122802734375, 0.11492919921875, 0.0472412109375, 0.1129150390625, 0.0411376953125], [0.049407958984375, 0.1337890625, 0.33251953125, 0.04913330078125, 0.0306549072265625, 0.029327392578125], [0.12042236328125, 0.08740234375, 0.0650634765625, 0.057647705078125, 0.050994873046875, 0.044525146484375], [0.10693359375, 0.10443115234375, 0.10406494140625, 0.09417724609375, 0.05865478515625, 0.0433349609375], [0.3583984375, 0.2005615234375, 0.053253173828125, 0.046630859375, 0.03387451171875, 0.0218353271484375], [0.16064453125, 0.07843017578125, 0.056488037109375, 0.052825927734375, 0.048370361328125, 0.041778564453125]]\n",
      "Combined output tokens: [[('�', 1.3359375), ('dens', 1.212890625), ('ygon', 1.1845703125), ('ismes', 1.169921875), ('signal', 1.13671875)], [(' n', 1.6240234375), (' se', 1.572265625), (' p', 1.4345703125), (' j', 1.359375), (' s', 1.3564453125)], [(' &', 2.58203125), (' P', 2.568359375), ('тиви', 2.49609375), ('et', 2.4609375), ('and', 2.44140625)], [('igu', 2.064453125), ('狗', 2.03125), (' пти', 2.00390625), ('emu', 1.9990234375), (' птица', 1.962890625)], [('Jump', 1.798828125), (' jump', 1.78515625), ('жност', 1.76171875), ('lau', 1.6650390625), ('jump', 1.62109375)], [(' over', 9.4453125), ('over', 9.28125), ('Over', 8.8671875), ('OVER', 8.3125), (' Over', 8.1640625)], [('go', 1.931640625), ('jem', 1.63671875), ('enco', 1.544921875), ('co', 1.54296875), ('ev', 1.5400390625)]]\n",
      "Expert predictions by position: {3: {1: [('sn', 9.4375), ('gage', 9.2890625), ('尔夫', 8.4375), ('allet', 8.4296875), ('age', 8.0390625)], 3: [(' comple', 9.3828125), (' coc', 9.265625), ('avera', 9.125), ('itons', 8.328125), ('oserver', 8.296875)], 15: [(' Одри', 9.7421875), ('series', 8.2421875), ('�', 8.2265625), ('irections', 8.1796875), ('Series', 8.171875)], 38: [('精', 10.1875), ('弟', 8.9609375), ('跨', 8.9453125), ('�', 8.8828125), ('K', 8.1640625)], 39: [('�乐', 10.171875), ('opro', 10.125), (' se', 9.578125), ('��', 8.9765625), ('oment', 8.890625)], 43: [('娠', 8.6171875), ('甲', 8.4921875), ('ists', 8.390625), ('大夫', 8.3828125), ('ца', 8.2890625)]}, 4: {3: [('ilder', 9.015625), ('ува', 8.8984375), ('&)', 8.265625), ('/&', 8.109375), ('tric', 8.015625)], 7: [('reput', 9.2890625), ('aterno', 9.21875), ('vellous', 8.8046875), ('.(\\\\', 8.5078125), ('iber', 8.25)], 33: [('维亚', 8.6328125), ('谅', 7.92578125), ('lega', 7.84765625), (' rem', 7.8359375), (' Pillow', 7.8125)], 38: [('osted', 9.125), ('acenter', 8.9921875), ('upper', 8.7421875), ('cross', 8.703125), (' apoder', 8.609375)], 40: [('lau', 9.109375), ('ляна', 8.671875), ('Bit', 8.546875), (' ', 8.234375), (' records', 8.1171875)], 56: [('know', 9.8203125), ('knows', 9.0078125), ('utenberg', 8.9609375), ('interp', 8.796875), ('Know', 8.5546875)]}, 5: {7: [('gram', 10.4375), (' Gram', 9.4453125), (' gram', 9.4296875), ('ray', 8.3984375), (' dream', 7.97265625)], 12: [(' over', 9.0625), ('overy', 8.9296875), ('firm', 8.7421875), ('sover', 8.6328125), ('ding', 8.40625)], 23: [('示', 9.890625), (' by', 9.421875), ('ALSE', 9.078125), ('慢', 9.0703125), (' feather', 8.890625)], 32: [('over', 21.046875), (' over', 20.796875), ('Over', 20.390625), (' Over', 19.5625), ('OVER', 18.625)], 36: [('ui', 9.78125), ('erer', 9.4921875), ('ually', 9.4765625), ('ully', 8.9609375), ('angement', 8.3359375)], 40: [('NESS', 10.25), ('crossing', 9.53125), ('IFF', 9.1953125), ('nesse', 8.96875), ('oin', 8.9375)]}, 6: {7: [('нав', 8.7265625), ('� ', 8.578125), ('ori', 8.5390625), ('iber', 8.5234375), ('\\\\!\\\\!\\\\!\\\\!', 8.375)], 9: [('2', 8.8203125), ('1', 8.625), ('3', 8.390625), ('�', 8.34375), ('Ch', 8.3203125)], 10: [('U', 10.640625), ('go', 10.3828125), ('uf', 9.953125), ('u', 9.4296875), ('ever', 9.3359375)], 11: [('icle', 10.3671875), ('anomenada', 8.6328125), ('温水', 8.2734375), ('ertime', 8.0859375), ('gone', 8.0390625)], 13: [('йл', 8.2734375), (' фаза', 8.09375), ('你了', 7.9296875), ('нст', 7.81640625), ('�', 7.74609375)], 32: [(' оку', 10.375), ('Over', 10.078125), ('OVER', 9.5078125), (' Over', 9.140625), ('icas', 9.0234375)]}, 0: {9: [('n', 10.515625), ('N', 9.2890625), ('lox', 9.1953125), ('文章内容', 9.0625), ('нд', 8.984375)], 10: [('绕', 9.765625), ('лети', 9.4140625), (' препратки', 9.078125), ('ctree', 8.09375), ('anell', 8.0390625)], 17: [('�', 11.9921875), ('�', 11.5234375), (' cryptocur', 8.6875), ('terness', 8.65625), ('�', 8.5859375)], 25: [('if', 13.25), ('its', 11.96875), ('it', 11.6171875), ('or', 11.5234375), ('ide', 11.171875)], 45: [('oulos', 9.5625), ('ollers', 8.6484375), ('izzie', 8.640625), ('�', 8.6328125), ('вежда', 8.6015625)], 51: [('regu', 10.578125), ('口的', 9.453125), ('riage', 9.3515625), ('气的', 9.0546875), ('utan', 8.640625)]}, 1: {9: [('tically', 9.5), (' jurat', 9.1015625), ('entren', 8.921875), ('远程', 8.625), (' Esgl', 8.4765625)], 35: [(':', 9.0703125), ('_', 8.484375), ('ocations', 8.359375), ('_:', 8.171875), ('cre', 8.15625)], 39: [('omor', 10.46875), ('ICRON', 10.265625), ('estres', 10.0390625), ('tort', 9.890625), (' Anys', 9.8671875)], 45: [('9', 15.296875), ('8', 14.4921875), ('7', 14.0234375), ('6', 13.90625), ('1', 13.6171875)], 46: [('集体', 9.609375), ('ought', 9.515625), ('atis', 9.046875), ('Attachments', 8.640625), ('stern', 8.6171875)], 51: [('ела', 9.3125), ('ложи', 8.8203125), ('毕', 8.65625), ('ths', 8.5546875), ('lyph', 8.4453125)]}, 2: {15: [('capital', 10.1953125), ('ised', 8.375), ('Capital', 8.171875), ('ску', 7.9765625), ('med', 7.83984375)], 43: [('сково', 9.296875), ('etable', 8.90625), ('sweep', 8.6484375), ('ontab', 8.453125), (' свобо', 8.3828125)], 46: [('ishments', 10.1484375), ('乃', 9.7890625), ('bolds', 9.7734375), ('Revision', 8.8046875), (' PARTICULAR', 8.6953125)], 48: [('ucas', 10.59375), ('授', 9.2265625), ('artney', 9.21875), ('ucius', 8.8984375), ('riger', 8.8984375)], 50: [('ieth', 10.5078125), ('负', 9.6171875), ('lyph', 9.4921875), ('ето', 9.046875), ('足', 8.9453125)], 51: [('IN', 9.046875), (' ', 8.1015625), ('直', 7.49609375), ('trav', 7.26171875), ('nic', 7.26171875)]}}\n",
      "Shared expert predictions: [[('默默', 0.58203125), ('WL', 0.57958984375), ('穿梭', 0.5546875), ('儿', 0.5517578125), ('ugosl', 0.5498046875)], [(' n', 1.166015625), (' R', 1.1640625), (' g', 1.1376953125), ('xffff', 1.1357421875), (' s', 1.0234375)], [(' n', 1.306640625), (' p', 1.208984375), (' l', 1.16015625), (' m', 1.138671875), (' t', 1.138671875)], [('鸟', 2.009765625), ('鼠', 1.958984375), (' птица', 1.896484375), ('猴', 1.87109375), ('灰', 1.58984375)], [('spot', 0.93115234375), ('PREC', 0.88623046875), ('lada', 0.88134765625), ('筒', 0.87841796875), ('esko', 0.86083984375)], [('abla', 1.134765625), (' s', 0.99658203125), (' import', 0.9853515625), ('til', 0.93603515625), ('скоп', 0.8857421875)], [('jem', 0.8232421875), ('吁', 0.78857421875), ('汇集', 0.7685546875), (' tz', 0.76025390625), (' vol', 0.7578125)]]\n",
      "\n",
      "MoE Layer 20:\n",
      "Selected experts: [[15, 53, 59, 49, 30, 40], [21, 16, 34, 58, 2, 27], [63, 58, 55, 34, 28, 0], [41, 27, 34, 25, 55, 32], [42, 56, 26, 29, 34, 44], [57, 5, 61, 0, 25, 51], [57, 55, 25, 16, 50, 31]]\n",
      "Expert weights: [[0.458740234375, 0.0236053466796875, 0.0311279296875, 0.042327880859375, 0.0232696533203125, 0.019744873046875], [0.046783447265625, 0.26953125, 0.07965087890625, 0.037109375, 0.036956787109375, 0.036407470703125], [0.038970947265625, 0.07696533203125, 0.0966796875, 0.08404541015625, 0.0679931640625, 0.038818359375], [0.11212158203125, 0.05401611328125, 0.049896240234375, 0.047943115234375, 0.03826904296875, 0.036895751953125], [0.123291015625, 0.0869140625, 0.083251953125, 0.06890869140625, 0.050506591796875, 0.04376220703125], [0.39794921875, 0.09735107421875, 0.045623779296875, 0.0286407470703125, 0.02325439453125, 0.0222320556640625], [0.042724609375, 0.47802734375, 0.0300445556640625, 0.02862548828125, 0.02862548828125, 0.027923583984375]]\n",
      "Combined output tokens: [[('=\"../_', 0.646484375), (\"}'_\", 0.58544921875), ('�起', 0.5712890625), (' gu', 0.568359375), ('bes', 0.55126953125)], [(' D', 1.767578125), (' R', 1.57421875), ('�', 1.5439453125), ('Eqn', 1.4736328125), ('ptrc', 1.4560546875)], [('横', 1.484375), ('\\tSince', 1.4404296875), ('eteria', 1.4326171875), ('osos', 1.3525390625), ('пте', 1.3525390625)], [('�', 1.7470703125), ('вода', 1.6357421875), (' Fung', 1.6162109375), ('exposici', 1.6162109375), ('лое', 1.5810546875)], [('uese', 1.806640625), ('adol', 1.662109375), ('ayers', 1.619140625), ('ridges', 1.6162109375), ('rainian', 1.5810546875)], [('orta', 3.560546875), ('标', 3.17578125), (' advent', 3.134765625), (' хода', 3.07421875), ('eri', 2.900390625)], [('ents', 4.22265625), ('iler', 4.12890625), ('rown', 3.80859375), ('igu', 3.71484375), ('ille', 3.7109375)]]\n",
      "Expert predictions by position: {2: {0: [('after', 13.78125), (' after', 13.21875), ('After', 10.9921875), (' AFTER', 10.890625), (' After', 10.6953125)], 28: [('select', 11.2578125), ('pon', 10.4921875), ('sort', 10.484375), (' sorts', 10.0546875), (' select', 9.7265625)], 34: [('1', 13.53125), ('4', 12.359375), ('9', 12.234375), ('5', 12.140625), ('3', 11.7890625)], 55: [('Msk', 11.890625), ('FUNCPTR', 11.0078125), ('iName', 10.53125), ('refn', 10.3671875), ('firstrow', 10.3359375)], 58: [('ovo', 11.171875), ('hoff', 10.2734375), ('geu', 8.5390625), ('intage', 8.1953125), ('[--]', 8.1875)], 63: [('Cient', 9.6171875), (' ratio', 9.4296875), (' Ratio', 9.1796875), ('Ratio', 8.9765625), ('ratio', 8.96875)]}, 5: {0: [(' July', 9.2109375), ('的首', 8.4296875), ('pcm', 8.0546875), ('隔', 8.0546875), ('лото', 8.0546875)], 5: [('5', 18.171875), ('7', 17.84375), ('4', 17.640625), ('8', 17.140625), ('6', 17.140625)], 25: [('он', 9.6328125), ('KERN', 9.4765625), ('emano', 9.4140625), ('�乐', 9.2890625), ('IAS', 9.1484375)], 51: [('smart', 15.7890625), ('Smart', 15.375), ('智慧', 11.921875), (' Smart', 11.7265625), ('5', 11.6015625)], 57: [('2', 12.125), ('3', 11.765625), ('5', 11.1875), ('1', 10.8828125), ('8', 10.703125)], 61: [('御', 9.5078125), (' pole', 8.0390625), (' poles', 7.953125), ('mac', 7.890625), ('pole', 7.76953125)]}, 1: {2: [('urat', 10.53125), ('тен', 9.9765625), ('vable', 9.65625), ('iamond', 9.3046875), ('hwe', 9.046875)], 16: [('леда', 9.1875), ('erals', 8.9765625), ('Estat', 8.609375), ('KES', 8.5), ('本人', 8.4375)], 21: [('Преди', 9.0703125), ('pable', 9.0390625), (' Сил', 8.71875), (' solars', 8.625), (' седа', 8.5546875)], 27: [(' other', 20.5625), ('other', 18.90625), (' други', 18.875), (' otras', 17.921875), (' otros', 16.40625)], 34: [('B', 11.1875), ('K', 10.3125), ('L', 10.2265625), ('R', 9.59375), ('AR', 9.515625)], 58: [('容积', 10.3671875), ('стре', 10.2109375), ('ancourt', 9.3203125), ('lent', 9.21875), ('ус', 8.8125)]}, 0: {15: [('стани', 11.2734375), ('olat', 9.2578125), (' ул', 9.0078125), ('oly', 8.609375), ('stackexchange', 8.4140625)], 30: [('set', 9.28125), ('id', 9.2265625), ('cos', 9.0546875), ('еку', 9.046875), ('ide', 8.65625)], 40: [('ise', 12.3046875), ('ing', 10.9609375), ('izers', 10.5078125), ('ifiers', 10.4765625), ('ice', 10.40625)], 49: [(' set', 11.59375), ('set', 10.8984375), ('Set', 10.0), ('*}[!', 9.6015625), ('enser', 9.421875)], 53: [('orell', 11.140625), ('shiv', 10.21875), ('нея', 9.921875), ('�起', 9.765625), ('aita', 9.3671875)], 59: [('�起', 9.6015625), ('ordial', 8.4140625), ('Dele', 8.2890625), ('�', 8.21875), (' degree', 8.1953125)]}, 6: {16: [('装的', 10.8671875), ('reure', 9.5546875), ('called', 9.15625), ('onges', 8.8984375), ('萨斯', 8.6171875)], 25: [('inn', 9.96875), ('σι', 8.9296875), ('�乐', 8.65625), ('ул', 8.390625), ('sp', 8.3671875)], 31: [('ovac', 9.3671875), ('童', 8.7734375), ('ос', 8.3046875), ('гран', 7.82421875), (\"'''\", 7.8203125)], 50: [('manda', 10.15625), ('exp', 10.0078125), ('Double', 9.9296875), (' Double', 8.90625), (' Ex', 8.6484375)], 55: [(' Home', 9.609375), (' HOME', 9.5546875), (' home', 9.40625), ('гипет', 8.875), ('Home', 8.75)], 57: [('标', 10.875), (' advent', 9.65625), ('мова', 9.6171875), ('рията', 9.2734375), ('orta', 9.2421875)]}, 3: {25: [('FTA', 10.796875), ('Kat', 9.3828125), (' Kas', 9.359375), ('FOS', 9.125), ('Хи', 9.0390625)], 27: [('ertime', 8.8671875), ('prepared', 8.6328125), ('мова', 8.625), ('angler', 8.5859375), ('umeric', 8.1640625)], 32: [('es', 10.984375), (' /', 10.140625), ('ome', 9.828125), ('ley', 9.8203125), ('son', 9.734375)], 34: [(' donat', 9.75), ('ching', 9.6640625), ('截', 9.1640625), ('Primer', 8.6328125), ('лик', 8.59375)], 41: [('5', 10.3515625), ('вода', 9.4609375), ('6', 8.890625), ('3', 8.6953125), ('0', 8.5703125)], 55: [('ents', 12.2421875), ('igu', 11.390625), ('rown', 11.1953125), ('iler', 11.15625), ('ille', 11.09375)]}, 4: {26: [(' that', 24.421875), ('\\tthat', 21.71875), ('that', 20.90625), ('That', 18.71875), (' That', 17.859375)], 29: [(' return', 10.7421875), ('лом', 10.109375), (' Carry', 9.8046875), ('return', 9.8046875), ('摔', 9.1328125)], 34: [('issos', 9.8203125), ('ariidae', 9.03125), ('гро', 8.9375), ('igg', 8.8046875), ('戏', 8.796875)], 42: [(' debes', 8.90625), (' Pop', 8.2890625), ('erala', 7.7734375), ('ages', 7.609375), (' POP', 7.56640625)], 44: [('oka', 9.9140625), ('}^{[', 8.421875), ('omi', 8.4140625), ('ama', 8.359375), ('icer', 8.1875)], 56: [('ланд', 9.296875), ('зина', 8.7265625), ('дят', 8.59375), ('iennes', 8.421875), (' lim', 8.140625)]}}\n",
      "Shared expert predictions: [[('=\"../_', 0.40478515625), ('_-(', 0.37744140625), ('bes', 0.37548828125), (' gu', 0.358154296875), (' Ends', 0.355712890625)], [(' L', 1.171875), (' .', 1.0791015625), (' D', 1.0751953125), (' R', 1.00390625), (' s', 0.99072265625)], [('astically', 1.0791015625), ('\\tand', 1.0771484375), ('子和', 1.05859375), (' &&\\\\', 1.021484375), (' и', 1.01953125)], [('duino', 1.15625), ('换', 1.0546875), ('exposici', 1.02734375), ('IconError', 1.0263671875), ('whis', 1.0087890625)], [('ა', 1.1953125), (' <!--[', 1.1025390625), ('ა�', 1.099609375), ('ELY', 1.087890625), ('\\tandroid', 1.0205078125)], [('im', 1.28515625), ('гре', 1.283203125), ('orte', 1.2119140625), ('ort', 1.2041015625), ('ide', 1.0869140625)], [('ulats', 1.0810546875), ('from', 1.078125), ('FROM', 1.048828125), (' FROM', 0.99658203125), ('From', 0.96337890625)]]\n",
      "\n",
      "MoE Layer 21:\n",
      "Selected experts: [[16, 31, 59, 29, 48, 43], [16, 7, 61, 18, 59, 41], [62, 5, 7, 18, 21, 52], [62, 63, 33, 5, 36, 21], [32, 33, 58, 42, 47, 22], [42, 49, 7, 26, 31, 2], [42, 17, 45, 47, 31, 37]]\n",
      "Expert weights: [[0.6640625, 0.022979736328125, 0.0178680419921875, 0.01377105712890625, 0.0111236572265625, 0.01079559326171875], [0.2130126953125, 0.1195068359375, 0.088623046875, 0.07305908203125, 0.03216552734375, 0.02874755859375], [0.358642578125, 0.128662109375, 0.07073974609375, 0.06494140625, 0.045074462890625, 0.044097900390625], [0.38427734375, 0.084716796875, 0.043792724609375, 0.03326416015625, 0.032196044921875, 0.0250396728515625], [0.056640625, 0.314697265625, 0.05731201171875, 0.1376953125, 0.049407958984375, 0.0274658203125], [0.158447265625, 0.07513427734375, 0.057952880859375, 0.036529541015625, 0.036407470703125, 0.035003662109375], [0.0958251953125, 0.08453369140625, 0.08074951171875, 0.044158935546875, 0.040557861328125, 0.037384033203125]]\n",
      "Combined output tokens: [[('heses', 2.279296875), ('}$~\\\\', 2.201171875), ('childnode', 2.138671875), ('anzas', 2.037109375), ('ismes', 1.955078125)], [('扳', 1.4755859375), ('atedr', 1.4716796875), ('awa', 1.427734375), ('\\u200a', 1.4033203125), (' Цари', 1.3603515625)], [('Носители', 4.94140625), ('融', 4.640625), ('ishly', 4.5625), ('ishness', 4.3203125), (' brown', 4.203125)], [('field', 5.3359375), ('stone', 4.96484375), ('thro', 4.72265625), ('fields', 4.71875), ('stones', 4.49609375)], [('Jump', 5.13671875), ('hopper', 4.46875), ('jump', 4.33203125), ('лес', 4.28125), ('ton', 4.26953125)], [(' over', 7.96875), ('over', 7.6015625), ('Over', 7.12890625), (' над', 7.08984375), (' Over', 6.625)], [(' over', 3.611328125), ('over', 3.607421875), ('OVER', 3.193359375), ('Over', 3.18359375), (' над', 3.046875)]]\n",
      "Expert predictions by position: {5: {2: [('els', 9.3515625), ('ols', 9.0390625), ('ui', 9.0234375), ('ole', 8.921875), ('starts', 8.59375)], 7: [('olina', 8.5234375), ('lebre', 8.484375), ('IOD', 8.140625), ('�', 8.0234375), ('irit', 8.0234375)], 26: [('末', 10.078125), (' all', 8.890625), ('arent', 8.6640625), ('omus', 8.390625), ('alls', 8.1953125)], 31: [('igy', 10.71875), ('рид', 10.5078125), ('anell', 9.6796875), ('ieri', 9.015625), ('}$~\\\\', 8.828125)], 42: [('istic', 9.4765625), ('dating', 9.15625), ('1', 8.9453125), ('нав', 8.4453125), ('��', 8.296875)], 49: [('0', 10.921875), ('1', 10.1953125), ('3', 10.1015625), ('holds', 9.8515625), ('7', 9.3046875)]}, 2: {5: [(' B', 9.875), ('B', 9.796875), (' seguidors', 9.0234375), ('LOAD', 8.90625), ('挽', 8.546875)], 7: [('escor', 10.046875), ('голе', 9.46875), ('oded', 9.3515625), (' secs', 8.7109375), ('WISE', 8.65625)], 18: [('Svc', 9.640625), (' inofens', 9.3984375), (' afectar', 9.3984375), ('EndSection', 9.3828125), ('itants', 9.1328125)], 21: [('��', 12.0390625), ('pica', 9.40625), ('Popular', 9.09375), (' популяр', 8.6875), ('茄', 8.6328125)], 52: [('yd', 12.2578125), ('que', 9.8203125), ('hol', 9.4296875), ('is', 9.0078125), (' restar', 8.921875)], 62: [('Носители', 10.1171875), (' brown', 9.734375), ('brown', 9.546875), ('融', 8.8046875), ('ACY', 8.6015625)]}, 3: {5: [('play', 11.1015625), ('Play', 9.1796875), ('�', 9.171875), ('康', 8.9296875), ('PLAY', 8.8671875)], 21: [('хер', 10.640625), (' придо', 9.96875), ('дъх', 9.1953125), ('τε', 8.9453125), ('�', 8.703125)], 33: [('Hit', 8.9296875), ('блиография', 8.3203125), ('рок', 8.046875), ('@@', 8.0), (' Hit', 7.72265625)], 36: [('es', 12.03125), ('s', 11.6875), (' m', 9.46875), ('r', 9.140625), ('als', 9.0546875)], 62: [('field', 10.6484375), ('stone', 9.171875), (' field', 9.1171875), ('Field', 8.84375), ('FIELD', 8.5390625)], 63: [('manys', 12.0234375), (' hous', 10.4453125), ('теля', 9.640625), (' meny', 9.4296875), ('xspace', 9.40625)]}, 1: {7: [('phin', 11.1015625), ('стер', 10.1484375), ('ител', 10.1015625), ('enciar', 8.6953125), ('сур', 8.6796875)], 16: [('heses', 11.265625), ('}$~\\\\', 10.859375), ('childnode', 10.609375), ('anzas', 10.453125), ('aquen', 9.3125)], 18: [('power', 14.390625), (' power', 13.5703125), ('Power', 12.5625), (' Power', 12.0078125), (' powering', 9.0625)], 41: [(' System', 9.4375), (' primary', 8.28125), (' system', 8.2734375), ('ys', 8.2109375), ('系统', 8.0078125)], 59: [('她们的', 8.890625), ('广', 8.5625), ('DEVICE', 8.3515625), ('кона', 7.75390625), ('ACES', 7.671875)], 61: [('CHA', 9.1640625), ('雷', 8.7890625), ('le', 8.609375), ('桂', 8.546875), ('intercept', 8.5)]}, 0: {16: [('单', 8.828125), ('ildo', 8.6484375), ('avy', 8.296875), ('扳', 8.234375), ('甲状', 8.203125)], 29: [('opol', 7.5546875), ('славски', 6.734375), ('чности', 6.734375), ('циа', 6.64453125), ('endres', 6.640625)], 31: [('бро', 10.5390625), ('мери', 8.9609375), ('chia', 8.1640625), ('拜', 8.015625), ('ок', 7.9765625)], 43: [('部', 9.6875), ('day', 8.546875), ('��', 8.3203125), ('�', 8.1171875), ('9', 8.0390625)], 48: [('爱', 9.2578125), ('пло', 9.1640625), ('гур', 8.53125), ('��', 8.453125), ('aru', 8.296875)], 59: [('Errno', 9.3203125), ('bri', 9.1875), ('oco', 9.0546875), ('мос', 8.375), ('旗', 8.203125)]}, 6: {17: [('ouch', 10.6484375), ('erts', 10.3984375), ('erc', 10.1171875), ('umber', 10.1015625), ('ers', 9.9296875)], 31: [('�', 12.6015625), ('3', 11.2109375), ('4', 9.453125), ('они', 9.375), ('6', 9.25)], 37: [('psfrag', 14.25), ('egraphics', 13.84375), ('AudioEvent', 13.0859375), ('odatabase', 13.046875), ('blockList', 12.6640625)], 42: [('0', 9.2734375), ('—', 8.8125), ('1', 8.640625), ('an', 8.1328125), ('тец', 8.109375)], 45: [('ustral', 11.3046875), ('IED', 9.3515625), ('udisks', 9.09375), ('erna', 9.015625), (' libk', 8.796875)], 47: [('响', 10.4765625), ('na', 9.6640625), ('�', 9.4296875), ('PC', 8.2421875), ('mi', 8.21875)]}, 4: {22: [(' Foods', 8.828125), ('羯', 8.703125), ('communic', 8.5078125), ('yre', 8.4921875), ('фел', 8.40625)], 32: [('aviera', 8.6328125), ('walk', 8.4609375), ('дели', 8.109375), ('walker', 8.0625), ('шките', 7.9765625)], 33: [('igh', 10.0078125), ('ently', 9.765625), ('ENTRY', 9.6328125), ('hopper', 9.34375), ('entry', 9.328125)], 42: [('obi', 9.640625), ('待', 9.0546875), ('alink', 8.5546875), (' Heinz', 8.3828125), ('бет', 8.015625)], 47: [(' -', 10.3203125), ('_*', 10.25), ('|_', 10.140625), ('_', 10.0), (' _', 9.6171875)], 58: [('евру', 9.015625), ('郭德', 8.796875), ('EventListener', 8.5625), ('按', 8.375), ('ейнт', 8.1640625)]}}\n",
      "Shared expert predictions: [[('�乐', 0.400634765625), ('Hivern', 0.36572265625), ('dens', 0.3486328125), ('onada', 0.338623046875), ('opsi', 0.331787109375)], [('обла', 1.0810546875), (' w', 1.0634765625), ('enda', 1.017578125), (' b', 0.9775390625), (' n', 0.9765625)], [('大气', 0.98828125), ('壶', 0.9453125), ('轩', 0.91357421875), ('揪', 0.8779296875), ('chart', 0.861328125)], [(' n', 1.3271484375), (' m', 1.2041015625), ('JC', 1.2041015625), ('QA', 1.181640625), ('mars', 1.17578125)], [('外援', 0.9423828125), ('thr', 0.927734375), ('开辟', 0.9248046875), ('确立', 0.91259765625), ('仍然', 0.90673828125)], [(' over', 7.66796875), ('over', 7.421875), ('Over', 6.9765625), (' над', 6.61328125), (' OVER', 6.43359375)], [(' over', 3.15234375), ('over', 2.951171875), ('Over', 2.85546875), ('OVER', 2.7890625), (' над', 2.6328125)]]\n",
      "\n",
      "MoE Layer 22:\n",
      "Selected experts: [[59, 18, 53, 23, 56, 4], [35, 1, 27, 33, 62, 44], [10, 23, 2, 62, 24, 35], [45, 14, 35, 2, 17, 62], [51, 62, 41, 3, 55, 28], [7, 55, 62, 39, 38, 42], [56, 18, 34, 33, 7, 42]]\n",
      "Expert weights: [[0.7353515625, 0.01959228515625, 0.019256591796875, 0.0118255615234375, 0.011749267578125, 0.0095672607421875], [0.06402587890625, 0.3134765625, 0.072265625, 0.049591064453125, 0.046630859375, 0.036895751953125], [0.2127685546875, 0.040069580078125, 0.0689697265625, 0.12054443359375, 0.07647705078125, 0.0310211181640625], [0.10333251953125, 0.11395263671875, 0.056610107421875, 0.047637939453125, 0.04693603515625, 0.043701171875], [0.07147216796875, 0.11688232421875, 0.05096435546875, 0.057098388671875, 0.032501220703125, 0.032196044921875], [0.26904296875, 0.1453857421875, 0.055633544921875, 0.031585693359375, 0.0303955078125, 0.0251007080078125], [0.0849609375, 0.0712890625, 0.10174560546875, 0.08978271484375, 0.051300048828125, 0.05108642578125]]\n",
      "Combined output tokens: [[('大力', 0.66748046875), ('pip', 0.599609375), (' provision', 0.54638671875), ('стер', 0.54638671875), ('fons', 0.54541015625)], [('�', 2.064453125), ('含', 2.033203125), ('.}}', 1.9990234375), (' fulla', 1.869140625), ('.}.', 1.7373046875)], [('зар', 2.322265625), ('rips', 2.087890625), ('ennes', 2.021484375), ('writeField', 1.982421875), ('basename', 1.974609375)], [('lero', 2.55078125), ('gir', 2.53515625), ('EL', 2.37109375), (' Мартин', 2.34765625), ('agr', 2.29296875)], [('code', 2.03515625), ('jocs', 2.009765625), ('codes', 1.9619140625), ('Окръг', 1.947265625), ('Thelia', 1.8251953125)], [(' Охридски', 6.9375), ('osted', 6.4921875), ('��', 5.6875), ('перка', 5.61328125), ('OperationKind', 5.51953125)], [('erno', 2.2109375), ('ived', 2.19921875), ('urer', 2.12890625), ('urers', 2.09375), ('ف', 2.08203125)]]\n",
      "Expert predictions by position: {1: {1: [(' Fact', 7.8515625), ('麻', 7.80078125), ('隐', 7.76171875), ('ature', 7.69921875), ('声', 7.6796875)], 27: [('бал', 9.0078125), ('拥抱', 8.859375), (' Covered', 8.703125), ('}\\\\,,', 8.4140625), ('dep', 8.375)], 33: [('u', 13.828125), ('w', 11.8359375), (' Zero', 10.0546875), ('p', 9.9296875), ('o', 9.0390625)], 35: [('9', 9.6328125), ('6', 9.046875), ('7', 8.9765625), ('8', 8.8671875), ('вече', 8.828125)], 44: [('глежда', 9.4921875), ('illet', 9.265625), ('бел', 9.15625), ('земно', 8.984375), (' Paraguai', 8.96875)], 62: [('TRACT', 9.8359375), ('Ingressos', 9.7734375), ('Ssl', 9.75), ('ableView', 9.6328125), ('isional', 9.53125)]}, 2: {2: [('asan', 10.1953125), ('hfil', 9.96875), ('тови', 9.7421875), ('Reporter', 9.5546875), ('eses', 9.3203125)], 10: [('jiang', 10.5859375), ('etria', 10.28125), ('enys', 9.734375), ('acis', 9.078125), ('зар', 8.8046875)], 23: [(' desn', 9.1484375), ('瀑', 8.5703125), (' Principat', 8.4453125), ('利物', 8.0390625), ('жени', 7.8125)], 24: [('turn', 13.8125), ('turns', 12.65625), (' turn', 12.546875), (' Turn', 12.3671875), ('Turn', 10.6171875)], 35: [('bilt', 10.265625), (' land', 8.9921875), ('arquia', 8.65625), ('asure', 8.484375), ('mson', 8.40625)], 62: [('横', 8.765625), ('�', 8.71875), ('itionally', 8.6953125), ('родна', 8.3515625), ('Tagged', 8.296875)]}, 3: {2: [('界', 8.1953125), ('Solutions', 8.1875), ('лива', 8.0703125), (' вис', 7.90234375), ('所需', 7.69140625)], 14: [(' bad', 9.796875), ('Bad', 9.5546875), (' BAD', 9.5078125), (' Lem', 9.3359375), (' Bad', 9.1171875)], 17: [(' ARISING', 9.03125), ('бите', 8.8359375), ('红的', 8.65625), ('拇', 8.2890625), ('urant', 8.1953125)], 35: [(' big', 9.125), ('3', 8.90625), ('oku', 8.4375), ('6', 8.34375), ('7', 8.125)], 45: [('arcode', 9.59375), ('guien', 8.9921875), ('entro', 8.7109375), ('Brief', 8.6328125), ('iaris', 8.4921875)], 62: [(' by', 12.59375), ('by', 9.375), ('ply', 9.2734375), (' munt', 8.8359375), ('FORM', 8.40625)]}, 4: {3: [('ническата', 15.265625), (' Кън', 14.6796875), ('евру', 12.21875), ('Окръг', 12.015625), ('quets', 10.421875)], 28: [('Schmidt', 9.9765625), ('raim', 9.7578125), ('вай', 8.7109375), ('落', 8.515625), ('reys', 8.3203125)], 41: [(' stand', 13.0234375), (' Stand', 11.625), (' sit', 11.1796875), ('Stand', 10.6328125), ('垂直', 9.65625)], 51: [(' will', 12.671875), (' WILL', 10.265625), ('cmark', 10.2578125), ('uega', 10.0), ('поред', 9.9609375)], 55: [(';', 12.4765625), (' ;', 12.2421875), ('();', 10.7734375), ('2', 9.2421875), (';</', 9.1875)], 62: [('ulus', 8.4375), ('驾', 8.3515625), ('спо', 8.34375), ('anto', 7.71875), (' whistled', 7.53125)]}, 0: {4: [('j', 12.3515625), ('g', 8.9921875), ('or', 8.71875), ('ch', 8.671875), ('注', 8.6484375)], 18: [('сло', 9.015625), (' llur', 8.046875), ('atern', 8.0390625), ('intercept', 7.7578125), ('бло', 7.58203125)], 23: [('opil', 11.109375), ('ab', 10.109375), ('ipl', 8.9375), ('lai', 8.828125), (' coun', 8.7578125)], 53: [('8', 11.8515625), ('9', 11.0078125), ('0', 9.46875), ('6', 9.40625), ('4', 8.328125)], 56: [('MP', 8.421875), (' Op', 8.3046875), ('uan', 8.203125), ('Help', 8.1640625), ('fac', 7.89453125)], 59: [('зона', 9.203125), ('\\r', 9.1953125), ('ън', 9.0625), ('хия', 8.7578125), ('ир', 8.59375)]}, 5: {7: [('��', 12.3515625), (' Охридски', 12.2890625), ('osted', 11.1875), ('modelVersion', 10.7421875), ('ЕФА', 10.2265625)], 38: [('ED', 9.3984375), ('ocentric', 9.34375), ('残', 9.1015625), ('传递', 9.078125), ('ed', 8.7578125)], 39: [('one', 11.1015625), (' one', 10.34375), (' trust', 9.140625), ('roit', 8.8046875), ('POOL', 8.7578125)], 42: [('roll', 9.7421875), ('otrans', 9.3515625), ('iciary', 8.96875), ('Roll', 8.6875), ('ceres', 8.390625)], 55: [('ine', 9.59375), ('6', 9.453125), ('9', 8.96875), ('ope', 8.75), ('ento', 8.609375)], 62: [('acitat', 8.265625), ('rop', 8.0078125), ('лек', 7.96875), ('沿', 7.94921875), ('iat', 7.8671875)]}, 6: {7: [('osted', 9.578125), (' Охридски', 9.3515625), (' ov', 9.1640625), ('omini', 9.1484375), ('overy', 9.1328125)], 18: [('ť', 10.1875), (' #', 9.09375), ('стен', 8.859375), ('eldorf', 8.6484375), ('avel', 8.40625)], 33: [('reff', 10.46875), ('сар', 10.328125), ('�', 9.953125), ('orer', 9.34375), ('фер', 9.203125)], 34: [('fess', 9.953125), (' DBCC', 9.2734375), ('icis', 9.2578125), ('ript', 9.21875), ('erno', 9.0546875)], 42: [('的对象', 10.4921875), ('爱的人', 10.109375), (' latter', 9.34375), ('tees', 9.0859375), (' mock', 8.703125)], 56: [('etur', 9.71875), ('ersion', 9.40625), ('TY', 9.2265625), ('osti', 9.2109375), ('ersal', 9.0234375)]}}\n",
      "Shared expert predictions: [[('ui', 0.433837890625), ('ACHE', 0.432373046875), ('大力', 0.424560546875), ('bona', 0.424072265625), ('pip', 0.42041015625)], [('华声', 1.1884765625), ('saurus', 1.123046875), (' dirigides', 1.0888671875), (' \\\\!\\\\!', 1.013671875), ('CCA', 1.0068359375)], [('jean', 1.0791015625), ('poke', 1.0166015625), ('\\tand', 1.015625), ('čí', 0.98681640625), ('\\t&&', 0.9580078125)], [('wered', 1.3095703125), ('ODO', 1.2587890625), ('CodeAttribute', 1.2109375), ('佑', 1.2099609375), ('睿', 1.12109375)], [('code', 1.7236328125), ('码', 1.63671875), ('codes', 1.5595703125), ('Code', 1.3984375), ('代码', 1.39453125)], [('wered', 1.1845703125), ('-$\\\\', 1.08203125), ('码', 1.0556640625), ('scribe', 1.025390625), ('lier', 1.0205078125)], [('代码', 1.078125), ('code', 1.07421875), (' (*.', 1.0283203125), ('cgi', 1.013671875), ('Жени', 0.994140625)]]\n",
      "\n",
      "MoE Layer 23:\n",
      "Selected experts: [[10, 50, 32, 21, 59, 18], [26, 62, 33, 8, 4, 41], [26, 29, 33, 24, 62, 56], [33, 11, 29, 56, 39, 27], [9, 10, 27, 43, 62, 35], [9, 58, 47, 33, 62, 42], [50, 62, 31, 3, 27, 23]]\n",
      "Expert weights: [[0.5400390625, 0.176025390625, 0.016204833984375, 0.01495361328125, 0.01360321044921875, 0.01311492919921875], [0.160888671875, 0.2122802734375, 0.0535888671875, 0.06976318359375, 0.045013427734375, 0.0357666015625], [0.06683349609375, 0.047637939453125, 0.365478515625, 0.043487548828125, 0.036468505859375, 0.034088134765625], [0.2490234375, 0.1104736328125, 0.07037353515625, 0.052764892578125, 0.0408935546875, 0.0227203369140625], [0.0950927734375, 0.11248779296875, 0.076416015625, 0.0670166015625, 0.06292724609375, 0.060211181640625], [0.10546875, 0.03997802734375, 0.04388427734375, 0.05523681640625, 0.155517578125, 0.03900146484375], [0.08111572265625, 0.1427001953125, 0.053009033203125, 0.0440673828125, 0.041046142578125, 0.040283203125]]\n",
      "Combined output tokens: [[(' involving', 8.53125), (' involved', 6.56640625), ('unker', 6.26171875), (' relating', 6.23046875), (' мер', 6.09765625)], [('rouse', 2.31640625), ('雏', 2.28125), ('epa', 2.09375), ('Grow', 2.076171875), ('wait', 2.056640625)], [('ientos', 3.392578125), ('Standard', 3.328125), ('asca', 3.2890625), ('хер', 3.13671875), ('ecera', 3.02734375)], [(' Къ', 3.876953125), ('фове', 3.556640625), (' пребро', 3.548828125), ('scul', 3.3828125), ('iedo', 3.369140625)], [('plicas', 2.748046875), ('umerable', 2.73046875), ('=</', 2.568359375), ('饪', 2.466796875), ('┈┈', 2.431640625)], [('quines', 2.970703125), ('bils', 2.85546875), (' Коми', 2.79296875), ('jans', 2.765625), ('огра', 2.751953125)], [('attices', 1.7919921875), ('ALSE', 1.74609375), ('ianisme', 1.734375), ('ateries', 1.6796875), (']-->', 1.671875)]]\n",
      "Expert predictions by position: {6: {3: [('的地方', 10.3125), ('hak', 9.9453125), (' знаме', 9.9296875), ('ier', 9.8828125), ('avell', 9.6171875)], 23: [('aut', 9.6171875), ('eller', 9.203125), ('ante', 8.859375), ('вал', 8.5546875), ('和国', 8.546875)], 27: [('Access', 9.171875), ('node', 9.15625), ('access', 8.5234375), (' Access', 8.3984375), ('Implementation', 8.2109375)], 31: [('iven', 10.9140625), ('ativa', 10.78125), ('rews', 9.953125), ('alink', 9.4453125), ('ствени', 9.09375)], 50: [('ussion', 10.2109375), ('igh', 9.4453125), ('ern', 9.390625), ('рея', 9.28125), ('��', 9.109375)], 62: [('@', 11.375), (' @', 10.390625), ('rowse', 9.1015625), ('�', 9.0703125), ('@-', 8.9609375)]}, 1: {4: [('au', 9.0078125), ('角', 8.9609375), ('宝', 8.796875), ('ingles', 8.78125), ('ead', 8.6796875)], 8: [('0', 33.90625), ('2', 33.5), ('4', 32.6875), ('3', 32.59375), ('1', 31.78125)], 26: [('тура', 10.09375), ('anell', 9.53125), ('�', 9.484375), ('iples', 9.21875), (' =&', 9.2109375)], 33: [('�', 10.625), ('omla', 9.8125), ('████', 9.703125), ('援', 9.5546875), ('pula', 8.640625)], 41: [('uled', 8.390625), ('olla', 8.34375), (' труда', 8.328125), ('apk', 8.2265625), ('TEGER', 8.1484375)], 62: [('вили', 9.9921875), ('\\xa0v', 9.96875), ('ALSE', 9.7109375), ('ecycle', 9.0859375), ('formulario', 9.0078125)]}, 4: {9: [('onis', 9.3359375), ('ays', 9.015625), ('so', 8.875), ('alles', 8.625), ('but', 8.5078125)], 10: [('��', 10.546875), ('dig', 9.5390625), (' Ngram', 9.2421875), ('illings', 9.1953125), ('DOCKED', 9.1796875)], 27: [('нат', 10.0859375), (' q', 9.4921875), ('习', 8.9140625), ('нати', 8.859375), ('延', 8.78125)], 35: [('paid', 8.3125), ('翰', 8.046875), ('招', 7.796875), ('iless', 7.4609375), ('┈┈', 7.4375)], 43: [(' like', 9.0078125), ('Like', 8.7890625), (' Like', 8.7265625), ('enci', 8.6484375), (' need', 8.625)], 62: [(' /', 12.0625), ('om', 9.2734375), (' /\\\\', 9.2734375), (' ///', 8.78125), (' /^', 8.53125)]}, 5: {9: [(' around', 11.703125), ('around', 11.1875), (' round', 10.4296875), ('round', 9.9609375), (' called', 9.921875)], 33: [('Standard', 9.7734375), ('хер', 9.4765625), ('ocy', 9.4140625), ('eri', 9.28125), ('asca', 9.0)], 42: [('тка', 9.3125), ('avar', 8.6953125), ('ct', 8.6171875), (' R', 7.859375), (' plug', 7.8203125)], 47: [('bin', 10.171875), ('backs', 9.46875), ('ascript', 9.0), ('士', 8.8671875), ('集体', 8.7734375)], 58: [('�', 10.1015625), ('启', 9.0703125), ('ела', 8.6171875), ('亚', 8.421875), ('interop', 8.390625)], 62: [('рак', 9.0234375), ('�', 8.8984375), ('麓', 8.0859375), ('лича', 8.0390625), (' общо', 7.89453125)]}, 0: {10: [(' involving', 10.6484375), (' involved', 7.90625), ('unker', 7.85546875), ('ostes', 7.74609375), (' жа', 7.734375)], 18: [('quier', 8.3671875), ('oret', 7.62890625), ('лин', 7.27734375), ('cides', 7.19921875), (' conject', 7.12890625)], 21: [('3', 12.6796875), ('9', 11.8828125), ('6', 11.421875), ('5', 10.796875), ('4', 10.4453125)], 32: [('рати', 10.3359375), ('нето', 8.9609375), ('ownt', 8.328125), ('ндия', 8.2890625), ('bibliograph', 8.25)], 50: [('фра', 8.3671875), ('^-_', 8.3359375), ('fons', 8.2265625), ('ия', 8.1328125), (' vast', 8.1171875)], 59: [('рън', 9.96875), ('orell', 9.421875), ('aming', 8.3046875), (' well', 8.1953125), (' Well', 7.91796875)]}, 3: {11: [('racy', 11.171875), ('opini', 10.1796875), ('iamond', 9.265625), ('зо', 8.734375), ('cnics', 8.6875)], 27: [(' element', 9.5), ('dom', 9.1640625), (' implements', 8.984375), ('elements', 8.8046875), (' o', 8.7109375)], 29: [('sembles', 11.9765625), (' turned', 9.671875), ('turned', 9.234375), (' terrestre', 9.125), ('deven', 9.109375)], 33: [(' пребро', 10.7109375), ('antics', 10.0859375), ('trunk', 10.078125), ('зан', 9.3828125), ('фан', 9.2578125)], 39: [('emano', 10.2109375), (' administrativa', 10.0546875), (' jurat', 9.328125), ('贤', 9.1640625), ('hbar', 9.0703125)], 56: [('照', 11.5625), ('low', 9.7578125), ('pick', 9.4921875), ('ch', 9.0625), ('返', 8.734375)]}, 2: {24: [('alion', 9.203125), ('initat', 9.1171875), ('otge', 9.03125), ('不胜', 9.0234375), ('trained', 8.78125)], 26: [(' low', 22.359375), ('Low', 19.328125), ('low', 19.203125), (' Low', 18.921875), (' LOW', 18.234375)], 29: [(':', 13.8828125), ('Has', 13.6171875), ('have', 13.015625), ('has', 12.7734375), ('?:', 12.625)], 33: [('��', 11.6484375), ('forter', 10.1015625), ('毛泽', 8.671875), ('fold', 8.5859375), ('LLOW', 8.5546875)], 56: [('fur', 9.7109375), ('Brown', 8.8828125), ('eration', 8.34375), ('brown', 8.3359375), ('scm', 8.3125)], 62: [('武装', 10.7109375), ('pons', 10.1953125), ('ITES', 9.1640625), ('pon', 8.7578125), (' въоръ', 8.7109375)]}}\n",
      "Shared expert predictions: [[('ODO', 0.7451171875), (' Comen', 0.73681640625), ('KV', 0.728515625), ('加快推进', 0.72216796875), ('固执', 0.716796875)], [('mathbold', 1.484375), ('ническата', 1.3828125), (' Кън', 1.3779296875), ('雏', 1.337890625), ('canvi', 1.3330078125)], [('ническата', 1.42578125), ('NOSCRIPT', 1.39453125), ('FieldLocation', 1.3935546875), ('headerlink', 1.376953125), ('DOCKED', 1.3359375)], [('菲特', 1.8876953125), ('FRING', 1.6474609375), ('ходите', 1.6220703125), ('клопе', 1.51171875), (' рицар', 1.48828125)], [(' repartia', 1.9248046875), (' integraven', 1.90234375), (' aturades', 1.8251953125), ('canvi', 1.7646484375), ('eqno', 1.7109375)], [('oficial', 2.076171875), ('土耳', 2.041015625), ('quines', 2.0234375), ('atform', 1.9931640625), ('plicas', 1.8759765625)], [(']-->', 1.3740234375), ('arrings', 1.3681640625), ('bootin', 1.29296875), ('imentaci', 1.2900390625), ('writeField', 1.2822265625)]]\n",
      "\n",
      "MoE Layer 24:\n",
      "Selected experts: [[18, 11, 49, 37, 59, 23], [39, 13, 29, 10, 25, 7], [33, 11, 22, 13, 26, 36], [8, 32, 9, 13, 52, 36], [1, 13, 32, 5, 27, 38], [32, 13, 57, 38, 3, 45], [57, 27, 13, 32, 38, 55]]\n",
      "Expert weights: [[0.0810546875, 0.06951904296875, 0.36376953125, 0.026336669921875, 0.01995849609375, 0.019927978515625], [0.201171875, 0.072998046875, 0.05908203125, 0.058837890625, 0.0482177734375, 0.046539306640625], [0.1734619140625, 0.09429931640625, 0.08502197265625, 0.05194091796875, 0.051483154296875, 0.033111572265625], [0.2061767578125, 0.11883544921875, 0.06201171875, 0.05908203125, 0.0296173095703125, 0.0289306640625], [0.1033935546875, 0.1009521484375, 0.0919189453125, 0.07757568359375, 0.038482666015625, 0.037353515625], [0.1602783203125, 0.1116943359375, 0.140869140625, 0.0677490234375, 0.0284881591796875, 0.023712158203125], [0.1177978515625, 0.1700439453125, 0.0870361328125, 0.057342529296875, 0.035430908203125, 0.024078369140625]]\n",
      "Combined output tokens: [[(' involving', 9.578125), ('ostes', 7.98828125), ('agena', 7.75390625), (' жа', 7.6015625), (' involved', 7.4375)], [('tessa', 2.275390625), ('vetica', 2.12890625), ('ropies', 2.11328125), ('ucode', 2.080078125), ('Sac', 2.033203125)], [('getBytes', 3.095703125), ('tles', 2.9375), ('leta', 2.78125), ('ingui', 2.748046875), ('gex', 2.4921875)], [('FieldLocation', 5.0078125), ('HDA', 4.78125), (\"'>&\", 4.76171875), ('фурт', 4.68359375), ('WSER', 4.5859375)], [('openc', 3.326171875), ('GeneratedMessage', 3.279296875), ('фли', 3.17578125), ('CodeAttribute', 3.080078125), ('┈┈', 3.001953125)], [(' Direcci', 4.5546875), ('ARA', 4.46875), ('寄', 4.37890625), (' фо', 4.2265625), (' \\\\}', 4.15234375)], [('agin', 4.42578125), ('igen', 4.28515625), ('IME', 4.20703125), ('ERT', 4.203125), ('ert', 4.08203125)]]\n",
      "Expert predictions by position: {4: {1: [('ierarchy', 11.3046875), ('NonUser', 11.2109375), ('нуари', 10.3203125), (' relle', 9.8046875), ('etapes', 9.65625)], 5: [('run', 11.546875), ('Run', 11.1796875), (' Run', 10.8984375), (' RUN', 10.125), (' run', 9.640625)], 13: [(' ', 23.796875), (' �', 10.234375), ('...', 9.828125), ('WE', 8.96875), (' D', 8.8125)], 27: [('ern', 10.5859375), ('iler', 10.1796875), ('igui', 9.6328125), ('hered', 9.5), (' ().', 9.21875)], 32: [(' $*', 11.1953125), ('?\");', 10.1484375), ('ellido', 9.6015625), ('phia', 9.1015625), ('ams', 8.8984375)], 38: [('imath', 9.8125), ('努', 9.421875), ('uelo', 8.6484375), ('WireFormat', 8.5703125), ('uffed', 8.53125)]}, 5: {3: [('esh', 11.875), ('emis', 10.2421875), ('ena', 9.3203125), ('差', 8.796875), ('asury', 8.609375)], 13: [(' Fund', 10.984375), ('Option', 9.5859375), ('artiment', 9.2265625), ('OPTION', 8.890625), (' Can', 8.859375)], 32: [('multis', 10.609375), ('натор', 9.6015625), (' aigu', 9.5), (\"__':\", 9.2265625), ('searchBox', 9.03125)], 38: [('eble', 10.2109375), ('NameLink', 9.046875), ('oples', 8.9609375), ('Окръ', 8.9296875), ('�', 8.921875)], 45: [('ituency', 11.046875), ('issi', 10.9765625), ('AtA', 10.953125), ('BPACK', 10.84375), ('或缺', 10.609375)], 57: [('throw', 11.9453125), (' throw', 10.890625), ('多', 9.9765625), ('high', 9.625), (' threw', 9.4765625)]}, 1: {7: [('schaft', 13.7421875), ('Cci', 13.4140625), ('satz', 13.1875), ('etats', 12.859375), ('cassiopeia', 12.8359375)], 10: [(' ', 9.59375), ('干', 8.015625), (' F', 7.96875), ('eration', 7.8125), ('Benef', 7.6328125)], 13: [('tessa', 10.6015625), ('ropies', 9.7578125), ('rino', 9.6015625), ('leta', 9.5078125), ('apparmor', 9.3671875)], 25: [('illers', 9.75), ('ntz', 9.2890625), ('harpoon', 9.1328125), ('irs', 8.828125), ('venin', 8.765625)], 29: [('PEG', 9.2265625), (' past', 8.875), ('erals', 8.8359375), (' program', 8.3671875), ('ieras', 8.203125)], 39: [('buk', 8.8125), ('usters', 8.7734375), (' cre', 8.5625), ('zend', 8.53125), ('stit', 8.328125)]}, 3: {8: [('рета', 10.53125), ('llib', 10.0859375), ('Estats', 10.0390625), ('lada', 9.90625), ('�', 9.875)], 9: [(' freq', 10.6953125), ('нета', 9.6484375), ('ecera', 9.0703125), ('eon', 8.7890625), ('nut', 8.71875)], 13: [('UME', 9.484375), ('ume', 9.125), ('WN', 8.7421875), ('tat', 8.625), (' Metropolit', 8.421875)], 32: [('blia', 10.484375), ('...\\\\', 10.0546875), ('ellido', 9.703125), ('firstrow', 9.390625), ('adwords', 9.3671875)], 36: [('ientos', 9.3828125), ('PO', 9.0234375), ('ulen', 8.46875), ('束', 8.4609375), ('SZ', 8.234375)], 52: [('Catholic', 9.9921875), ('couple', 9.90625), (' lat', 9.7265625), (' Catholic', 9.3125), ('owell', 8.890625)]}, 0: {11: [('le', 11.859375), ('i', 10.8671875), ('el', 10.6328125), ('hp', 10.4296875), ('pe', 10.3515625)], 18: [('��', 9.859375), ('��', 9.6875), ('down', 9.0546875), ('thems', 8.765625), (' munt', 8.6484375)], 23: [('不到', 9.6640625), ('миш', 8.6640625), (' existence', 7.74609375), (' se', 7.640625), ('=\"../_', 7.41015625)], 37: [('два', 9.265625), (' serral', 8.765625), ('acis', 8.6640625), ('ixos', 8.484375), ('iax', 8.3359375)], 49: [(' involving', 10.34375), ('ostes', 8.2421875), (' involved', 7.80078125), (' жа', 7.68359375), (' мер', 7.6015625)], 59: [('��', 13.8515625), ('��', 12.1328125), ('纲', 9.9921875), ('ioned', 9.234375), ('ublic', 9.046875)]}, 2: {11: [('y', 10.7265625), ('set', 10.59375), ('zed', 10.2265625), ('ing', 10.0703125), ('ting', 9.6328125)], 13: [('jean', 9.6328125), ('Download', 8.9921875), ('�', 8.9140625), ('legr', 8.8984375), ('oris', 8.84375)], 22: [('NOSCRIPT', 11.140625), ('TOOLSET', 10.4765625), ('Strunz', 10.2265625), ('anesos', 9.8671875), ('ейнт', 9.65625)], 26: [(' road', 19.96875), ('Road', 17.8125), (' Road', 17.265625), ('road', 16.40625), (' roadway', 12.5625)], 33: [('assos', 8.375), ('лка', 7.53515625), ('不如', 7.49609375), ('先生的', 7.3125), ('ERS', 7.28125)], 36: [(' t', 17.359375), ('weight', 16.640625), (' weight', 13.9921875), (' Weight', 12.6640625), ('\\tt', 12.5859375)]}, 6: {13: [(' Fund', 12.8671875), (' Options', 10.8359375), ('Option', 10.6796875), ('Fund', 10.1640625), ('Options', 10.0859375)], 27: [('════════════════', 12.078125), ('--------------------------------------------------------------------------', 10.6953125), ('\\t\\t\\t\\t\\t\\t\\t\\t\\t\\t\\t\\t\\t', 10.578125), ('niques', 10.1171875), ('=-=-=-=-', 10.0390625)], 32: [('...\\\\', 11.4375), (\"''\\\\\", 10.3359375), ('=\"../../../../../../../../', 9.9296875), ('\")));', 9.7890625), ('..\\\\', 9.765625)], 38: [('irt', 9.15625), ('IRT', 8.859375), ('4', 8.8203125), ('alse', 8.703125), ('uzzle', 8.4765625)], 55: [('演', 11.5), ('entially', 9.6015625), (' Spatial', 8.5546875), ('Spatial', 8.4765625), ('estors', 7.90234375)], 57: [('buntu', 9.5546875), ('杠', 9.2890625), ('Alternate', 8.859375), ('Extras', 8.6875), ('irat', 8.671875)]}}\n",
      "Shared expert predictions: [[('Ungrouped', 0.82568359375), ('visi', 0.791015625), ('getC', 0.73388671875), ('noframe', 0.7177734375), ('┈┈', 0.705078125)], [('�乐', 1.505859375), ('стики', 1.0615234375), ('ygon', 0.9453125), ('сяка', 0.9130859375), (' L', 0.90087890625)], [('/&', 1.1376953125), ('\">&#', 1.080078125), (\"')\\\\\", 1.0205078125), ('/{\\\\', 1.0107421875), ('rowColor', 0.998046875)], [(' integraven', 1.9375), (' repartia', 1.8759765625), ('фове', 1.7939453125), ('fiques', 1.7705078125), ('=\"#{', 1.7607421875)], [('IVA', 1.357421875), ('头像', 1.31640625), ('炳', 1.3037109375), ('wxr', 1.26171875), ('acis', 1.2431640625)], [('&', 1.72265625), ('SD', 1.623046875), ('3', 1.556640625), ('BE', 1.5283203125), ('1', 1.4501953125)], [(' ', 1.7177734375), ('1', 1.716796875), ('3', 1.6318359375), ('2', 1.541015625), ('0', 1.4453125)]]\n",
      "\n",
      "MoE Layer 25:\n",
      "Selected experts: [[63, 60, 2, 49, 41, 30], [63, 2, 12, 54, 26, 20], [51, 17, 37, 49, 2, 62], [51, 17, 5, 57, 25, 19], [19, 51, 17, 5, 55, 39], [17, 56, 40, 43, 2, 15], [60, 1, 2, 56, 6, 40]]\n",
      "Expert weights: [[0.6552734375, 0.0208892822265625, 0.010406494140625, 0.00980377197265625, 0.075927734375, 0.00951385498046875], [0.334716796875, 0.169921875, 0.0849609375, 0.0196685791015625, 0.018218994140625, 0.0171661376953125], [0.0836181640625, 0.07733154296875, 0.07611083984375, 0.06463623046875, 0.05780029296875, 0.053253173828125], [0.08905029296875, 0.0770263671875, 0.05511474609375, 0.051727294921875, 0.0504150390625, 0.040191650390625], [0.06903076171875, 0.212158203125, 0.08148193359375, 0.08209228515625, 0.04791259765625, 0.04791259765625], [0.069091796875, 0.2425537109375, 0.06072998046875, 0.050048828125, 0.048431396484375, 0.04400634765625], [0.047454833984375, 0.06439208984375, 0.04156494140625, 0.0908203125, 0.2498779296875, 0.0269317626953125]]\n",
      "Combined output tokens: [[(' financera', 5.359375), ('Икономи', 4.97265625), ('ivell', 4.56640625), ('veau', 4.52734375), ('coni', 4.43359375)], [('ssia', 4.22265625), ('кус', 3.9609375), ('ntic', 3.771484375), ('quill', 3.7421875), ('sych', 3.609375)], [(',', 3.05859375), ('\\n', 2.806640625), ('emade', 2.74609375), ('dat', 2.7421875), ('eless', 2.720703125)], [('1', 7.58203125), ('2', 7.52734375), ('3', 7.30078125), ('6', 7.0703125), ('7', 7.05078125)], [(' is', 4.9453125), (' Calders', 4.51171875), (' here', 4.05859375), ('����', 3.96484375), (' from', 3.953125)], [(' up', 5.85546875), (' over', 5.80859375), (' the', 5.3671875), (' on', 5.28125), (' a', 5.24609375)], [('udisks', 10.8046875), ('ript', 10.2578125), ('ivil', 10.1171875), ('ermita', 9.890625), ('PYG', 9.6171875)]]\n",
      "Expert predictions by position: {6: {1: [('י', 14.734375), ('י�', 12.8828125), ('נ', 11.921875), ('س', 11.8984375), ('क', 11.609375)], 2: [('ime', 8.8359375), (' трудно', 8.734375), ('Английски', 8.5078125), (' ~[', 8.4609375), ('ameter', 8.4609375)], 6: [('ivil', 13.7109375), ('riend', 11.28125), ('icer', 11.234375), ('ript', 11.15625), ('ilon', 11.125)], 40: [('ub', 13.5078125), ('hot', 13.4453125), ('uites', 13.3046875), ('how', 12.4453125), ('uite', 12.140625)], 56: [(' vpon', 10.328125), ('\\to', 9.7578125), ('ck', 9.3515625), ('Sentence', 8.8203125), ('不在', 8.6953125)], 60: [(' sole', 8.9921875), (' side', 8.9453125), ('ve', 8.6328125), (' care', 8.5546875), ('meas', 8.2421875)]}, 0: {2: [('files', 10.359375), (' desn', 9.2734375), ('File', 9.1171875), ('精选', 9.0625), ('Files', 8.515625)], 30: [('onar', 7.51953125), ('ab', 7.5078125), ('IL', 7.50390625), ('iene', 7.44140625), ('unya', 7.25)], 41: [(' involving', 9.296875), ('ostes', 8.2265625), (\"'>&\", 7.68359375), ('wau', 7.68359375), (' жа', 7.60546875)], 49: [('DOCKED', 9.40625), ('ANCH', 9.03125), ('roids', 8.8515625), (' hisp', 8.7421875), (' Ing', 8.609375)], 60: [('\\\\!-\\\\!', 10.96875), ('sie', 10.125), ('rowser', 9.96875), ('heli', 9.484375), ('rafia', 9.328125)], 63: [('ssia', 13.4453125), ('ollow', 10.7578125), ('ntic', 10.421875), ('resar', 10.265625), ('uctive', 10.0546875)]}, 1: {2: [('roll', 8.7734375), ('-', 8.515625), (' развива', 8.296875), (',', 8.1875), ('non', 8.0859375)], 12: [('queta', 11.1328125), (' first', 10.2890625), ('jada', 10.1796875), ('quill', 9.921875), ('ERTY', 9.46875)], 20: [('�', 15.203125), ('改', 14.8046875), ('�', 14.40625), ('�', 13.03125), ('�', 12.9921875)], 26: [('atzem', 11.6953125), ('cassiopeia', 10.421875), ('LOPT', 10.328125), ('────────────────', 10.0625), ('ibol', 9.890625)], 54: [(' ', 11.6796875), ('�', 10.921875), ('2', 10.640625), (' P', 10.546875), (' y', 10.5234375)], 63: [('Съби', 12.1171875), ('цяло', 11.8671875), ('Икономи', 11.6484375), ('writeField', 11.171875), ('��', 11.03125)]}, 2: {2: [('rh', 10.046875), (' level', 9.3203125), (' llindar', 9.203125), (' cedits', 8.6953125), ('ocard', 8.671875)], 17: [('rowave', 10.0390625), ('折', 9.6328125), ('�', 9.21875), ('ettle', 8.7265625), (' несъ', 8.6953125)], 37: [(' part', 11.984375), ('\\xa0part', 11.4453125), ('part', 10.4765625), ('islation', 9.9140625), (' parte', 9.765625)], 49: [('aller', 9.7890625), ('amin', 9.765625), ('的季节', 9.4765625), ('季节', 9.390625), ('цен', 9.09375)], 51: [('umber', 8.3125), (' Ann', 8.1328125), (' >', 7.89453125), ('antry', 7.8359375), ('院的', 7.61328125)], 62: [('mention', 9.34375), ('уни', 8.5078125), ('iform', 8.4921875), ('anes', 8.3984375), ('ottes', 8.328125)]}, 5: {2: [('3', 10.6328125), ('5', 9.9140625), ('7', 9.7578125), ('6', 9.71875), ('4', 9.6796875)], 15: [(' Bij', 9.421875), (' плен', 9.3046875), ('struments', 9.1015625), ('orem', 8.328125), (' inf', 8.2890625)], 17: [('Nan', 9.5078125), ('escena', 8.8046875), ('1', 8.671875), ('Dar', 8.5703125), ('0', 8.5234375)], 40: [('llan', 9.9375), ('ー�', 9.921875), ('lll', 9.921875), ('utch', 9.875), ('itle', 9.84375)], 43: [('евру', 9.2421875), ('acco', 8.7578125), ('晰', 8.609375), ('ctimes', 8.46875), ('mand', 8.2265625)], 56: [('compcert', 10.09375), ('匙', 9.515625), ('igree', 9.2109375), ('SPHIN', 9.1640625), (' over', 9.1484375)]}, 3: {5: [('(', 10.40625), ('rams', 9.6328125), ('esses', 9.328125), ('#', 8.703125), ('ess', 8.4609375)], 17: [('vider', 10.546875), ('��', 10.2578125), (' <\\\\', 10.140625), ('ickr', 10.0703125), ('理', 9.7109375)], 19: [(' [', 15.6640625), (' -', 14.359375), ('[', 12.453125), ('http', 11.7109375), ('0', 11.5546875)], 25: [(' vest', 10.5078125), (' head', 10.171875), ('кръ', 9.1328125), (' fur', 9.109375), (' carriage', 8.7734375)], 51: [('tainment', 9.234375), ('isat', 9.2109375), ('cov', 9.1171875), ('原文地址', 8.96875), ('氨酸', 8.875)], 57: [(' pup', 13.1328125), ('pup', 11.796875), ('ifr', 10.0625), ('oficina', 9.8984375), ('houn', 9.8125)]}, 4: {5: [('onada', 10.6484375), ('тори', 9.53125), ('icode', 9.4296875), ('сло', 9.125), ('codep', 8.703125)], 17: [('ror', 9.7421875), (']>', 9.4296875), ('cmark', 9.3671875), ('lebre', 9.265625), (\"'<\", 9.2578125)], 19: [(' [', 13.4921875), ('\\t[', 10.3046875), (' ,[', 10.015625), ('ifolds', 9.625), ('IEW', 9.3828125)], 39: [('anell', 10.2421875), (' rose', 9.9453125), ('LAY', 9.5078125), ('ocese', 9.3984375), ('reth', 9.0)], 51: [('lessly', 8.53125), ('tility', 8.5234375), ('anish', 8.375), ('lated', 8.3515625), (' //$', 8.0625)], 55: [('August', 11.3125), ('October', 11.1640625), ('April', 11.0625), ('March', 11.0078125), ('February', 10.890625)]}}\n",
      "Shared expert predictions: [[('4', 2.21484375), ('3', 2.212890625), ('0', 2.205078125), ('8', 2.177734375), ('5', 2.173828125)], [(' ', 2.8203125), (',', 2.4453125), (' t', 2.345703125), (' O', 2.28515625), (' \"', 2.15234375)], [(',', 2.447265625), ('\\n', 2.384765625), (' ', 2.232421875), ('elf', 2.154296875), ('lo', 2.087890625)], [('1', 5.8671875), ('3', 5.5859375), ('6', 5.58203125), ('2', 5.56640625), (',', 5.46875)], [('J', 3.998046875), (',', 3.7265625), (' with', 3.494140625), (' and', 3.38671875), (' ', 3.3046875)], [('.', 4.375), (' ', 4.1953125), (',', 4.19140625), (' and', 4.17578125), ('J', 4.0390625)], [(']{.', 4.921875), ('gredients', 4.5859375), ('ermita', 4.56640625), ('udisks', 4.51171875), ('^*,', 4.5078125)]]\n",
      "\n",
      "MoE Layer 26:\n",
      "Selected experts: [[40, 45, 31, 33, 57, 39], [55, 49, 48, 42, 28, 4], [48, 38, 2, 10, 63, 60], [2, 20, 38, 55, 63, 48], [13, 44, 18, 0, 55, 48], [48, 56, 54, 21, 55, 62], [4, 14, 46, 40, 9, 16]]\n",
      "Expert weights: [[0.85791015625, 0.01318359375, 0.0105743408203125, 0.006130218505859375, 0.004688262939453125, 0.004344940185546875], [0.1785888671875, 0.07470703125, 0.07330322265625, 0.0380859375, 0.16357421875, 0.0361328125], [0.048675537109375, 0.216796875, 0.060699462890625, 0.07275390625, 0.04327392578125, 0.03729248046875], [0.136962890625, 0.09747314453125, 0.0548095703125, 0.051971435546875, 0.0455322265625, 0.04058837890625], [0.10479736328125, 0.0711669921875, 0.079833984375, 0.058319091796875, 0.058074951171875, 0.048004150390625], [0.11175537109375, 0.086181640625, 0.07037353515625, 0.06610107421875, 0.047332763671875, 0.03607177734375], [0.1395263671875, 0.05572509765625, 0.04132080078125, 0.037628173828125, 0.036041259765625, 0.03582763671875]]\n",
      "Combined output tokens: [[(' regarding', 146.625), (' Down', 133.0), ('anys', 129.875), (' relating', 127.5625), (' involving', 125.0625)], [(' ', 13.6328125), (' third', 11.1640625), (' two', 10.6015625), (' whole', 10.5078125), (' world', 10.4609375)], [(' half', 9.96875), (' and', 9.5), (' is', 9.4453125), (' closing', 9.2109375), (' rise', 9.109375)], [(' is', 13.9140625), ('\\n', 13.4921875), ('...', 13.2265625), (' wh', 12.796875), (',', 12.7421875)], [(',', 14.3046875), (' in', 12.6640625), ('\\n', 12.6015625), (' to', 12.375), (' and', 12.3359375)], [(',', 21.40625), (' ', 20.359375), (' and', 19.578125), ('...', 19.203125), ('(', 18.90625)], [(' ', 18.28125), ('0', 16.078125), ('8', 16.046875), ('9', 16.046875), ('1', 15.8125)]]\n",
      "Expert predictions by position: {4: {0: [(' be', 11.3828125), (' make', 10.2421875), (' made', 9.9765625), ('be', 9.515625), ('make', 9.078125)], 13: [(' sure', 10.1015625), ('ernel', 10.1015625), (' truly', 10.0546875), (' just', 9.9296875), (' totally', 9.5390625)], 18: [(' triplets', 9.0078125), ('der', 8.7578125), (' Nation', 8.6015625), (' nation', 8.3828125), ('ене', 8.3671875)], 44: [('дите', 9.5), ('�乐', 9.078125), (' форма', 9.015625), ('去看', 8.9140625), (' routine', 8.859375)], 48: [('over', 13.65625), (' over', 13.546875), ('overn', 11.8203125), ('Over', 11.21875), ('ya', 10.46875)], 55: [('-', 28.265625), ('_', 20.84375), ('.', 13.7734375), ('s', 13.4921875), ('/', 13.484375)]}, 2: {2: [('pires', 11.203125), ('��', 10.4140625), ('nere', 9.3515625), ('ieur', 9.109375), ('esko', 9.0)], 10: [(' post', 13.1328125), (' Post', 11.375), ('post', 10.453125), ('Post', 9.921875), (' round', 9.921875)], 38: [(' an', 10.265625), ('idean', 9.28125), ('ajes', 8.6640625), ('ocation', 8.5859375), ('umnes', 8.578125)], 48: [(',', 10.6015625), ('as', 9.5078125), ('--', 9.1796875), ('—', 8.375), ('原文地址', 8.203125)], 60: [('itats', 9.3984375), ('сата', 9.28125), (' judgement', 9.2421875), (' verdict', 9.234375), ('WAYS', 9.140625)], 63: [(' pulse', 9.6484375), (' wave', 9.421875), ('ader', 9.3203125), (' log', 9.140625), (' leaf', 9.125)]}, 3: {2: [(' one', 16.171875), ('图片发自简书', 11.9140625), ('one', 10.6171875), ('序', 9.7734375), ('PIO', 9.390625)], 20: [(' chicken', 9.75), (' Chicken', 9.7421875), ('animal', 9.625), (' feren', 9.6015625), ('chas', 9.5546875)], 38: [('anship', 8.96875), ('解脱', 8.9453125), ('ish', 8.5390625), ('ensi', 8.53125), ('iena', 8.359375)], 48: [(' Bages', 10.625), (' condition', 10.3046875), ('мор', 10.0859375), (' form', 10.078125), (' shape', 9.40625)], 55: [('lab', 9.234375), ('*\\\\', 9.109375), ('fusc', 9.109375), ('ttp', 9.0703125), ('mbH', 9.0546875)], 63: [(' dry', 9.84375), (' long', 9.6796875), ('texorpdfstring', 9.6640625), ('operaci', 9.3203125), (' deser', 9.0546875)]}, 1: {4: [('oppy', 9.40625), ('ulse', 8.484375), ('ental', 8.234375), ('po', 8.2265625), ('planted', 8.1640625)], 28: [('buntu', 9.5078125), (' importance', 8.59375), ('illator', 8.3828125), ('venin', 8.359375), ('lita', 8.2265625)], 42: [('具', 9.6171875), (' content', 9.40625), ('anch', 9.390625), (' end', 9.0234375), (' clock', 8.765625)], 48: [('ional', 9.7421875), ('ners', 9.6015625), ('`', 9.2734375), ('ile', 9.1171875), ('ographic', 9.09375)], 49: [('wards', 10.6171875), ('3', 10.6015625), ('4', 10.578125), ('6', 10.046875), ('st', 9.984375)], 55: [('-', 16.09375), (' -', 11.7109375), ('/', 10.2265625), (' /', 9.5546875), ('下', 9.2578125)]}, 6: {4: [('othing', 12.4453125), ('oth', 10.8515625), ('ution', 10.5), ('oting', 10.421875), ('oke', 9.890625)], 9: [('Esquerra', 10.8125), ('oasis', 10.328125), ('芋', 10.2734375), ('Tilde', 10.09375), ('herits', 9.859375)], 14: [(' \\\\}$.', 9.96875), ('针', 9.921875), ('═�', 9.6328125), ('�', 9.546875), ('ი', 9.40625)], 16: [('and', 12.09375), ('h', 11.3046875), ('on', 11.078125), ('op', 10.3828125), ('at', 10.3828125)], 40: [('квата', 10.3125), ('евру', 9.4296875), ('ANCH', 8.921875), (' Битоля', 8.3984375), (' Херцеговина', 8.390625)], 46: [('后赛', 10.59375), ('циан', 10.15625), ('ursor', 9.71875), (' Action', 9.0625), ('tesy', 9.0625)]}, 5: {21: [(' off', 14.3828125), (' you', 13.625), ('you', 10.9453125), (' all', 10.3671875), (' forth', 10.3046875)], 48: [('9', 11.5546875), ('8', 11.1015625), ('7', 10.921875), ('6', 10.9140625), ('5', 10.7421875)], 54: [(' off', 12.515625), (' acc', 11.96875), (' along', 11.84375), (' onto', 10.984375), (' straight', 10.890625)], 55: [('app', 12.0703125), ('CORE', 9.890625), ('sw', 9.8671875), ('iller', 9.0859375), ('dev', 9.015625)], 56: [(' un', 13.1484375), (' Way', 12.6875), (' way', 12.484375), ('Way', 10.609375), ('way', 10.4453125)], 62: [('obl', 9.1015625), ('мерикански', 8.796875), ('afar', 8.71875), ('theless', 8.4765625), ('安全和', 8.09375)]}, 0: {31: [(' with', 9.765625), (' as', 9.2421875), (' and', 9.1953125), (' primary', 8.5234375), ('高于', 8.3671875)], 33: [('�', 10.4453125), ('�', 10.3828125), (' step', 9.4765625), (' earth', 9.46875), (' he', 9.265625)], 39: [('1', 14.0625), ('6', 13.3046875), ('2', 13.203125), ('4', 13.1796875), ('7', 13.1484375)], 40: [('#', 0.0), ('%', 0.0), ('!', 0.0), ('\"', 0.0), ('$', 0.0)], 45: [(' stable', 9.890625), (' comm', 9.328125), ('�', 8.984375), ('ipus', 8.8125), ('ter', 8.734375)], 57: [('and', 10.609375), ('b', 10.3203125), ('con', 9.234375), ('ol', 9.0703125), ('i', 8.96875)]}}\n",
      "Shared expert predictions: [[(' ', 2.54296875), (' involving', 2.533203125), ('0', 2.35546875), (' u', 2.341796875), (' ev', 2.30078125)], [(' ', 10.921875), (',', 8.9609375), ('resume', 8.7265625), ('neighbour', 8.3515625), (' outlining', 8.3203125)], [(' half', 8.625), (' and', 8.59375), (',', 8.34375), (' is', 8.2265625), (' returns', 7.859375)], [(' is', 12.4609375), ('\\n', 12.328125), ('...', 12.171875), (' last', 11.7734375), (' us', 11.390625)], [(',', 12.2265625), ('\\n', 11.2265625), (' in', 10.90625), (' to', 10.890625), (' and', 10.609375)], [(',', 18.4375), (' ', 17.34375), (' and', 16.6875), (' in', 16.609375), ('...', 16.5)], [(' ', 16.890625), ('9', 15.3984375), ('8', 15.3046875), ('1', 15.171875), ('7', 15.0546875)]]\n",
      "\n",
      "MoE Layer 27:\n",
      "Selected experts: [[30, 62, 54, 56, 14, 2], [63, 1, 20, 55, 53, 60], [10, 43, 49, 53, 63, 38], [33, 27, 49, 10, 43, 63], [37, 9, 2, 43, 34, 23], [22, 18, 25, 2, 28, 31], [13, 56, 0, 2, 30, 27]]\n",
      "Expert weights: [[0.1358642578125, 0.301025390625, 0.2371826171875, 0.1348876953125, 0.062103271484375, 0.01378631591796875], [0.08538818359375, 0.381103515625, 0.0341796875, 0.051361083984375, 0.033935546875, 0.03076171875], [0.13720703125, 0.17626953125, 0.269287109375, 0.060791015625, 0.0546875, 0.035919189453125], [0.0297088623046875, 0.04534912109375, 0.032745361328125, 0.1356201171875, 0.366455078125, 0.0296783447265625], [0.1695556640625, 0.045166015625, 0.07745361328125, 0.10699462890625, 0.11798095703125, 0.0312347412109375], [0.2333984375, 0.0809326171875, 0.057647705078125, 0.051727294921875, 0.02783203125, 0.026336669921875], [0.1927490234375, 0.276123046875, 0.115966796875, 0.048492431640625, 0.038116455078125, 0.036895751953125]]\n",
      "Combined output tokens: [[('【', 20.234375), ('<?', 20.046875), ('2', 18.484375), ('The', 18.28125), ('China', 18.140625)], [(' name', 33.65625), (' red', 32.34375), (' free', 32.34375), (' first', 32.28125), (' book', 32.25)], [(' to', 28.71875), (' post', 27.609375), (' book', 27.46875), (' for', 27.328125), (' and', 27.15625)], [(' ', 38.625), (',', 37.40625), (' to', 36.46875), (' for', 36.21875), ('.', 36.21875)], [(',', 35.9375), (' ', 33.75), ('.', 33.46875), (' (', 32.90625), ('-', 32.90625)], [(',', 41.53125), (' ', 39.75), (' and', 39.3125), ('.', 39.28125), (' for', 38.625)], [(' ', 30.65625), (' to', 28.15625), ('（', 28.0625), (' of', 27.828125), (' (', 26.828125)]]\n",
      "Expert predictions by position: {6: {0: [(' monoparent', 10.0703125), (' five', 9.6328125), (' several', 8.9609375), (' cash', 8.9375), (' alone', 8.890625)], 2: [('<｜end▁of▁sentence｜>', 16.328125), ('READ', 10.125), ('Read', 9.2890625), (' /*!<', 9.078125), ('\"];', 9.0390625)], 13: [(' \\x97', 12.5), ('ѐ', 11.6484375), (' ~[', 11.328125), ('comings', 11.296875), (' :=', 11.1015625)], 27: [('o', 12.8203125), ('ky', 12.03125), ('sky', 11.96875), ('ke', 11.65625), ('i', 11.328125)], 30: [('as', 12.9609375), ('up', 12.4765625), ('around', 11.7890625), ('away', 11.65625), ('on', 11.59375)], 56: [('1', 5.74609375), ('2', 5.6640625), (' *', 5.5625), ('//', 5.41796875), (' ', 5.41015625)]}, 1: {1: [('irat', 6.5234375), ('baid', 6.42578125), (' Pallars', 6.08984375), ('ntic', 6.046875), (' remains', 5.8359375)], 20: [(' Braves', 11.1953125), (' Warriors', 11.1328125), (' Bruins', 10.9453125), (' Reds', 10.6796875), (' Bears', 10.5)], 53: [(' court', 7.15234375), (' cause', 7.078125), (' victim', 7.03515625), (' amount', 7.00390625), ('мани', 6.8984375)], 55: [('��', 12.9453125), ('odox', 11.3828125), ('Sec', 11.28125), ('Co', 11.0390625), ('Bind', 10.546875)], 60: [('息', 6.72265625), ('ipre', 6.6640625), ('ivil', 6.57421875), (' S', 6.484375), ('\\tS', 6.078125)], 63: [(' vector', 11.3203125), (' corner', 10.5234375), (' int', 10.3125), (' table', 9.9140625), (' x', 9.375)]}, 0: {2: [(' run', 9.46875), (' put', 8.734375), (' set', 8.7109375), (' /*!<', 8.578125), (' bad', 8.359375)], 14: [('\\n', 7.47265625), ('makeText', 7.16015625), ('bootstrapcdn', 7.16015625), (' I', 6.9453125), ('<｜end▁of▁sentence｜>', 6.74609375)], 30: [('////////////////////////////////////////////////////////////////', 6.56640625), ('//', 6.4296875), ('\\t//', 6.41015625), ('/************************************************************************', 6.30078125), ('//----------------------------------------------------------------', 6.2265625)], 54: [('角', 5.02734375), ('学', 4.90234375), (' _$', 4.84375), ('�', 4.8125), ('待', 4.8046875)], 56: [('════════════════', 10.5234375), ('�', 9.6640625), (' 👼', 9.40625), ('正', 9.3828125), ('════════', 9.375)], 62: [('Magent', 7.75), ('<?', 7.15625), ('<!', 6.703125), ('Strunz', 6.66015625), ('package', 6.6328125)]}, 4: {2: [('<｜end▁of▁sentence｜>', 15.765625), ('<｜begin▁of▁sentence｜>', 12.375), ('By', 10.7265625), ('View', 10.1328125), ('If', 9.8203125)], 9: [('\"；', 25.65625), ('」', 24.875), ('，', 24.03125), ('\"！', 23.765625), ('】', 23.5)], 23: [(' post', 18.84375), (' link', 17.96875), (' article', 15.5234375), (' permalink', 15.4921875), (' posts', 15.328125)], 34: [(' turned', 11.6875), ('turned', 10.1484375), (' expected', 10.1484375), (' thought', 9.78125), (' stopped', 9.3984375)], 37: [(' ends', 12.9453125), (' works', 12.8984375), (' looks', 12.6171875), (' lands', 11.8671875), (' lives', 11.859375)], 43: [('man', 10.21875), ('cell', 10.15625), ('hopper', 9.890625), ('mans', 9.53125), ('port', 9.3203125)]}, 5: {2: [('res', 9.6484375), ('So', 9.3984375), ('By', 9.3828125), ('Edit', 9.3828125), ('put', 9.265625)], 18: [(' down', 18.875), (' out', 18.21875), (' forward', 18.046875), (' up', 18.03125), ('down', 17.671875)], 22: [(' through', 16.4375), (' thru', 14.8046875), ('through', 14.7109375), (' later', 14.5546875), (' via', 14.4375)], 25: [(' again', 19.59375), (' per', 18.0), ('again', 15.1640625), (' Again', 14.0390625), ('per', 14.0390625)], 28: [('ained', 13.84375), ('ailed', 13.828125), ('ipped', 13.7578125), ('agged', 13.5234375), ('aces', 13.3671875)], 31: [(' by', 11.8828125), (' because', 11.03125), (' paid', 10.9921875), (' pr', 10.7421875), ('omely', 10.3046875)]}, 2: {10: [(' conscience', 10.046875), ('揭', 8.9765625), (' personage', 8.8125), (' Веле', 8.7890625), (' figure', 8.6953125)], 38: [(' understanding', 10.9140625), (' event', 10.875), (' piece', 10.859375), (' idea', 10.484375), (' item', 10.0546875)], 43: [('work', 11.859375), ('care', 11.4765625), (' fac', 11.0078125), ('fly', 10.8203125), ('y', 10.625)], 49: [('outs', 10.421875), ('stock', 10.0703125), ('ball', 9.9296875), ('book', 9.9140625), ('bar', 9.8984375)], 53: [(' appearance', 9.3515625), (' mistake', 9.1796875), (' wound', 8.0546875), (' appearances', 7.9765625), (' warning', 7.7890625)], 63: [(' nether', 7.55859375), (' outermost', 7.45703125), ('ymap', 6.9609375), ('ermis', 6.63671875), ('ограф', 6.5)]}, 3: {10: [(',', 9.6796875), (' Icel', 9.5), ('est', 9.328125), (' Бро', 8.3984375), (' inhal', 8.0)], 27: [('ch', 15.2421875), ('i', 14.1875), ('se', 14.1328125), ('m', 14.0546875), ('e', 14.03125)], 33: [(' teac', 8.671875), (' di', 8.203125), (' adequat', 8.1015625), (' heartbeat', 8.09375), ('ences', 8.0234375)], 43: [('men', 14.1171875), ('iness', 12.1953125), ('y', 12.15625), ('bars', 12.0390625), ('rates', 11.9296875)], 49: [('ish', 16.0625), ('hand', 15.2734375), ('ier', 14.65625), ('ful', 14.4375), ('istic', 14.0859375)], 63: [(' dotted', 8.734375), (' seam', 8.7109375), (' div', 8.6328125), (' branch', 8.5078125), (' plot', 8.3125)]}}\n",
      "Shared expert predictions: [[('姚明', 10.5625), ('周杰伦', 10.3828125), ('鹿晗', 9.8671875), ('普洱茶', 9.78125), ('雷克萨斯', 9.4609375)], [(' to', 32.625), (' me', 31.5625), (' you', 30.46875), (' that', 30.28125), (' of', 30.25)], [(' to', 26.25), (' for', 25.15625), (' not', 25.0625), (' by', 24.890625), (' and', 24.671875)], [(' ', 36.28125), (',', 35.15625), (' and', 34.25), (' to', 34.0625), (' for', 33.96875)], [(',', 34.375), ('.', 31.828125), (' ', 31.734375), ('-', 31.234375), (' (', 31.203125)], [(',', 39.46875), (' ', 37.28125), (' and', 37.28125), ('.', 37.28125), (' for', 36.6875)], [(' ', 29.125), (' to', 24.828125), (' of', 24.484375), (' (', 24.484375), (' at', 23.703125)]]\n"
     ]
    }
   ],
   "source": [
    "# Access layer predictions\n",
    "for layer_idx, preds in analysis['layer_predictions'].items():\n",
    "    print(f\"Layer {layer_idx} predictions:\", preds)\n",
    "\n",
    "# Access MoE analysis\n",
    "for layer_idx, moe_data in analysis['moe_analysis'].items():\n",
    "    print(f\"\\nMoE Layer {layer_idx}:\")\n",
    "    print(\"Selected experts:\", moe_data['selected_experts'])\n",
    "    print(\"Expert weights:\", moe_data['expert_weights'])\n",
    "    print(\"Combined output tokens:\", moe_data['combined_output_tokens'])\n",
    "    print(\"Expert predictions by position:\", moe_data['expert_predictions_by_position'])\n",
    "    print(\"Shared expert predictions:\", moe_data['shared_expert_predictions'])"
   ]
  },
  {
   "cell_type": "code",
   "execution_count": 26,
   "metadata": {},
   "outputs": [
    {
     "name": "stdout",
     "output_type": "stream",
     "text": [
      "n : 7\n",
      "Using top 1 experts: [19]\n"
     ]
    },
    {
     "data": {
      "text/plain": [
       "[('9', 0.162109375),\n",
       " ('6', 0.1458740234375),\n",
       " ('5', 0.1329345703125),\n",
       " ('ilon', 0.12384033203125),\n",
       " ('坐', 0.1212158203125)]"
      ]
     },
     "execution_count": 26,
     "metadata": {},
     "output_type": "execute_result"
    }
   ],
   "source": [
    "n = len(tokenizer.encode(prompt))\n",
    "print(f'n : {n}')\n",
    "layer_idx = 16\n",
    "token_pos = n-1\n",
    "k = 1 # which max expert to use\n",
    "get_highest_pred_combined(analysis, model, tokenizer, post_attn_ln_inputs, res_stream = False, layer_idx=layer_idx, token_pos=token_pos, k=k)"
   ]
  },
  {
   "cell_type": "code",
   "execution_count": 29,
   "metadata": {},
   "outputs": [
    {
     "name": "stdout",
     "output_type": "stream",
     "text": [
      "expert 1 : [('י', 14.734375), ('י�', 12.8828125), ('נ', 11.921875), ('س', 11.8984375), ('क', 11.609375)]\n",
      "expert 2 : [('ime', 8.8359375), (' трудно', 8.734375), ('Английски', 8.5078125), (' ~[', 8.4609375), ('ameter', 8.4609375)]\n",
      "expert 6 : [('ivil', 13.7109375), ('riend', 11.28125), ('icer', 11.234375), ('ript', 11.15625), ('ilon', 11.125)]\n",
      "expert 40 : [('ub', 13.5078125), ('hot', 13.4453125), ('uites', 13.3046875), ('how', 12.4453125), ('uite', 12.140625)]\n",
      "expert 56 : [(' vpon', 10.328125), ('\\to', 9.7578125), ('ck', 9.3515625), ('Sentence', 8.8203125), ('不在', 8.6953125)]\n",
      "expert 60 : [(' sole', 8.9921875), (' side', 8.9453125), ('ve', 8.6328125), (' care', 8.5546875), ('meas', 8.2421875)]\n",
      "layer_preds : [('udisks', 20.6875), ('urant', 19.921875), ('icis', 19.6875), ('ille', 19.265625), ('rown', 19.171875)]\n",
      "shared_preds : [(']{.', 4.921875), ('gredients', 4.5859375), ('ermita', 4.56640625), ('udisks', 4.51171875), ('^*,', 4.5078125)]\n",
      "expert_preds : [(1, [('י', 14.734375), ('י�', 12.8828125), ('נ', 11.921875), ('س', 11.8984375), ('क', 11.609375)]), (2, [('ime', 8.8359375), (' трудно', 8.734375), ('Английски', 8.5078125), (' ~[', 8.4609375), ('ameter', 8.4609375)]), (6, [('ivil', 13.7109375), ('riend', 11.28125), ('icer', 11.234375), ('ript', 11.15625), ('ilon', 11.125)]), (40, [('ub', 13.5078125), ('hot', 13.4453125), ('uites', 13.3046875), ('how', 12.4453125), ('uite', 12.140625)]), (56, [(' vpon', 10.328125), ('\\to', 9.7578125), ('ck', 9.3515625), ('Sentence', 8.8203125), ('不在', 8.6953125)]), (60, [(' sole', 8.9921875), (' side', 8.9453125), ('ve', 8.6328125), (' care', 8.5546875), ('meas', 8.2421875)])]\n"
     ]
    }
   ],
   "source": [
    "layer_idx = 25\n",
    "token_pos = n-1 # last token\n",
    "layer_preds = get_layer_predictions_for_token(analysis, layer_idx=layer_idx, token_pos=token_pos)\n",
    "shared_preds = get_shared_expert_predictions_for_token(analysis, layer_idx=layer_idx, token_pos=token_pos)\n",
    "expert_preds = get_expert_preds(analysis, layer_idx=layer_idx, token_pos=token_pos)\n",
    "\n",
    "print(f'layer_preds : {layer_preds}')\n",
    "print(f'shared_preds : {shared_preds}')\n",
    "print(f'expert_preds : {expert_preds}')"
   ]
  },
  {
   "cell_type": "code",
   "execution_count": 16,
   "metadata": {},
   "outputs": [
    {
     "name": "stdout",
     "output_type": "stream",
     "text": [
      "7\n",
      "Using top 6 experts: [40, 14, 46, 47, 28, 6]\n",
      "Using top 6 experts: [15, 47, 61, 20, 2, 12]\n",
      "Using top 6 experts: [25, 21, 60, 35, 31, 50]\n",
      "Using top 6 experts: [52, 43, 49, 2, 31, 19]\n",
      "Using top 6 experts: [37, 49, 40, 53, 58, 62]\n",
      "Using top 6 experts: [60, 56, 55, 20, 24, 21]\n",
      "Using top 6 experts: [12, 9, 45, 38, 61, 23]\n",
      "Using top 6 experts: [45, 52, 62, 4, 32, 5]\n",
      "Using top 6 experts: [0, 59, 41, 44, 9, 63]\n",
      "Using top 6 experts: [16, 0, 1, 2, 40, 30]\n",
      "Using top 6 experts: [45, 30, 54, 44, 3, 2]\n",
      "Using top 6 experts: [48, 1, 33, 61, 54, 35]\n",
      "Using top 6 experts: [18, 38, 55, 9, 23, 33]\n",
      "Using top 6 experts: [44, 4, 10, 36, 2, 45]\n",
      "Using top 6 experts: [27, 28, 18, 59, 2, 46]\n",
      "Using top 6 experts: [19, 16, 40, 23, 36, 10]\n",
      "Using top 6 experts: [57, 17, 42, 62, 38, 20]\n",
      "Using top 6 experts: [49, 62, 7, 57, 43, 14]\n",
      "Using top 6 experts: [10, 13, 7, 32, 11, 9]\n",
      "Using top 6 experts: [55, 57, 25, 16, 50, 31]\n",
      "Using top 6 experts: [42, 17, 45, 47, 31, 37]\n",
      "Using top 6 experts: [34, 33, 56, 18, 7, 42]\n",
      "Using top 6 experts: [62, 50, 31, 3, 27, 23]\n",
      "Using top 6 experts: [27, 57, 13, 32, 38, 55]\n",
      "Using top 6 experts: [6, 56, 1, 60, 2, 40]\n",
      "Using top 6 experts: [4, 14, 46, 40, 9, 16]\n",
      "Using top 6 experts: [56, 13, 0, 2, 30, 27]\n"
     ]
    },
    {
     "name": "stderr",
     "output_type": "stream",
     "text": [
      "huggingface/tokenizers: The current process just got forked, after parallelism has already been used. Disabling parallelism to avoid deadlocks...\n",
      "To disable this warning, you can either:\n",
      "\t- Avoid using `tokenizers` before the fork if possible\n",
      "\t- Explicitly set the environment variable TOKENIZERS_PARALLELISM=(true | false)\n"
     ]
    },
    {
     "data": {
      "application/vnd.plotly.v1+json": {
       "config": {
        "plotlyServerURL": "https://plot.ly"
       },
       "data": [
        {
         "colorbar": {
          "len": 0.5,
          "thickness": 20,
          "tickfont": {
           "family": "Inter",
           "size": 12
          },
          "title": {
           "font": {
            "family": "Inter",
            "size": 14
           },
           "side": "right",
           "text": "logit value"
          },
          "y": 0.5
         },
         "colorscale": [
          [
           0,
           "rgb(247,251,255)"
          ],
          [
           0.125,
           "rgb(222,235,247)"
          ],
          [
           0.25,
           "rgb(198,219,239)"
          ],
          [
           0.375,
           "rgb(158,202,225)"
          ],
          [
           0.5,
           "rgb(107,174,214)"
          ],
          [
           0.625,
           "rgb(66,146,198)"
          ],
          [
           0.75,
           "rgb(33,113,181)"
          ],
          [
           0.875,
           "rgb(8,81,156)"
          ],
          [
           1,
           "rgb(8,48,107)"
          ]
         ],
         "hoverongaps": false,
         "showscale": true,
         "type": "heatmap",
         "x": [
          0,
          1,
          2,
          3,
          4,
          5,
          6,
          7
         ],
         "y": [
          0,
          1,
          2,
          3,
          4,
          5,
          6,
          7,
          8,
          9,
          10,
          11,
          12,
          13,
          14,
          15,
          16,
          17,
          18,
          19,
          20,
          21,
          22,
          23,
          24,
          25,
          26,
          27
         ],
         "z": [
          [
           1.009765625,
           null,
           null,
           null,
           null,
           null,
           null,
           null
          ],
          [
           0.8427734375,
           0.794921875,
           0.8115234375,
           0.80029296875,
           0.8193359375,
           0.8125,
           0.81494140625,
           0.81396484375
          ],
          [
           0.9345703125,
           0.79052734375,
           0.88134765625,
           0.7822265625,
           0.8212890625,
           0.775390625,
           0.76953125,
           0.78662109375
          ],
          [
           1.2666015625,
           1.037109375,
           1.041015625,
           1.02734375,
           1.029296875,
           1.0400390625,
           1.033203125,
           1.0400390625
          ],
          [
           1.74609375,
           1.4609375,
           1.5029296875,
           1.4794921875,
           1.4716796875,
           1.4697265625,
           1.494140625,
           1.572265625
          ],
          [
           1.7431640625,
           1.482421875,
           1.5087890625,
           1.4697265625,
           1.5380859375,
           1.462890625,
           1.458984375,
           1.5498046875
          ],
          [
           2.068359375,
           1.8447265625,
           1.841796875,
           1.90625,
           1.8466796875,
           1.8193359375,
           1.869140625,
           2.443359375
          ],
          [
           2.171875,
           2.193359375,
           2.20703125,
           2.22265625,
           2.205078125,
           2.171875,
           2.166015625,
           2.24609375
          ],
          [
           2.4609375,
           2.82421875,
           2.77734375,
           2.67578125,
           2.828125,
           2.87109375,
           3.212890625,
           2.845703125
          ],
          [
           2.634765625,
           2.921875,
           2.96875,
           2.9765625,
           2.951171875,
           2.939453125,
           2.927734375,
           2.8515625
          ],
          [
           3.298828125,
           3.294921875,
           3.521484375,
           3.3984375,
           3.361328125,
           3.298828125,
           3.30859375,
           3.24609375
          ],
          [
           4.046875,
           4.13671875,
           4.21875,
           4.203125,
           4.04296875,
           4.140625,
           4.26953125,
           4.109375
          ],
          [
           4.32421875,
           4.3359375,
           4.51171875,
           4.2890625,
           4.23828125,
           4.36328125,
           4.25390625,
           4.3203125
          ],
          [
           4.2421875,
           4.97265625,
           4.96875,
           5.140625,
           4.9296875,
           4.859375,
           4.9765625,
           5.00390625
          ],
          [
           4.86328125,
           5.49609375,
           5.52734375,
           5.69921875,
           5.50390625,
           5.35546875,
           5.43359375,
           5.42578125
          ],
          [
           5.33203125,
           5.76171875,
           5.75,
           5.8828125,
           5.890625,
           5.69140625,
           5.703125,
           5.6796875
          ],
          [
           6.23828125,
           5.4921875,
           5.68359375,
           5.53125,
           5.45703125,
           5.640625,
           5.43359375,
           7.203125
          ],
          [
           6.3828125,
           6.12890625,
           6.3203125,
           6.2265625,
           6.10546875,
           6.12890625,
           6.0859375,
           6.1484375
          ],
          [
           7.8515625,
           7.453125,
           8.3359375,
           6.73828125,
           6.578125,
           6.61328125,
           6.5546875,
           6.61328125
          ],
          [
           7.859375,
           8.1328125,
           8.4609375,
           7.92578125,
           8.1796875,
           8.0859375,
           8.0625,
           8.078125
          ],
          [
           10.1328125,
           9.2109375,
           9.1171875,
           9.8203125,
           9.1953125,
           9.125,
           9.2109375,
           9.2578125
          ],
          [
           11.4921875,
           10.3828125,
           10.046875,
           10.6796875,
           10.734375,
           10.328125,
           10.4140625,
           10.4375
          ],
          [
           14.09375,
           13.2421875,
           13.9140625,
           13.15625,
           13.0625,
           13.234375,
           13.375,
           13.1796875
          ],
          [
           16.359375,
           16.328125,
           16.390625,
           16.4375,
           16.359375,
           16.28125,
           16.3125,
           16.390625
          ],
          [
           17.3125,
           17.703125,
           17.671875,
           17.9375,
           17.40625,
           17.59375,
           17.75,
           17.671875
          ],
          [
           20.6875,
           16.859375,
           17.625,
           16.5625,
           16.828125,
           16.984375,
           17.046875,
           16.9375
          ],
          [
           36.0625,
           25.03125,
           25.0625,
           25.375,
           25.03125,
           25.265625,
           25.046875,
           24.984375
          ],
          [
           51.84375,
           35.28125,
           35.0625,
           35.625,
           35.59375,
           35.1875,
           35.15625,
           35.3125
          ]
         ],
         "zmax": 51.84375,
         "zmin": 0.76953125
        },
        {
         "hoverinfo": "skip",
         "mode": "text",
         "showlegend": false,
         "text": [
          "开辟"
         ],
         "textfont": {
          "color": "black",
          "family": "Inter",
          "size": 14
         },
         "textposition": "middle center",
         "type": "scatter",
         "x": [
          0
         ],
         "y": [
          0
         ]
        },
        {
         "hoverinfo": "skip",
         "mode": "text",
         "showlegend": false,
         "text": [
          " n"
         ],
         "textfont": {
          "color": "black",
          "family": "Inter",
          "size": 14
         },
         "textposition": "middle center",
         "type": "scatter",
         "x": [
          0
         ],
         "y": [
          1
         ]
        },
        {
         "hoverinfo": "skip",
         "mode": "text",
         "showlegend": false,
         "text": [
          "留住"
         ],
         "textfont": {
          "color": "black",
          "family": "Inter",
          "size": 14
         },
         "textposition": "middle center",
         "type": "scatter",
         "x": [
          1
         ],
         "y": [
          1
         ]
        },
        {
         "hoverinfo": "skip",
         "mode": "text",
         "showlegend": false,
         "text": [
          "40"
         ],
         "textfont": {
          "color": "black",
          "family": "Inter",
          "size": 12
         },
         "textposition": "middle center",
         "type": "scatter",
         "x": [
          1.6
         ],
         "y": [
          1.35
         ]
        },
        {
         "hoverinfo": "skip",
         "mode": "text",
         "showlegend": false,
         "text": [
          "0.315"
         ],
         "textfont": {
          "color": "black",
          "family": "Inter",
          "size": 12
         },
         "textposition": "middle center",
         "type": "scatter",
         "x": [
          2.35
         ],
         "y": [
          0.65
         ]
        },
        {
         "hoverinfo": "skip",
         "mode": "text",
         "showlegend": false,
         "text": [
          "留住"
         ],
         "textfont": {
          "color": "black",
          "family": "Inter",
          "size": 14
         },
         "textposition": "middle center",
         "type": "scatter",
         "x": [
          2
         ],
         "y": [
          1
         ]
        },
        {
         "hoverinfo": "skip",
         "mode": "text",
         "showlegend": false,
         "text": [
          "14"
         ],
         "textfont": {
          "color": "black",
          "family": "Inter",
          "size": 12
         },
         "textposition": "middle center",
         "type": "scatter",
         "x": [
          2.6
         ],
         "y": [
          1.35
         ]
        },
        {
         "hoverinfo": "skip",
         "mode": "text",
         "showlegend": false,
         "text": [
          "0.196"
         ],
         "textfont": {
          "color": "black",
          "family": "Inter",
          "size": 12
         },
         "textposition": "middle center",
         "type": "scatter",
         "x": [
          3.35
         ],
         "y": [
          0.65
         ]
        },
        {
         "hoverinfo": "skip",
         "mode": "text",
         "showlegend": false,
         "text": [
          "留住"
         ],
         "textfont": {
          "color": "black",
          "family": "Inter",
          "size": 14
         },
         "textposition": "middle center",
         "type": "scatter",
         "x": [
          3
         ],
         "y": [
          1
         ]
        },
        {
         "hoverinfo": "skip",
         "mode": "text",
         "showlegend": false,
         "text": [
          "46"
         ],
         "textfont": {
          "color": "black",
          "family": "Inter",
          "size": 12
         },
         "textposition": "middle center",
         "type": "scatter",
         "x": [
          3.6
         ],
         "y": [
          1.35
         ]
        },
        {
         "hoverinfo": "skip",
         "mode": "text",
         "showlegend": false,
         "text": [
          "0.021"
         ],
         "textfont": {
          "color": "black",
          "family": "Inter",
          "size": 12
         },
         "textposition": "middle center",
         "type": "scatter",
         "x": [
          4.35
         ],
         "y": [
          0.65
         ]
        },
        {
         "hoverinfo": "skip",
         "mode": "text",
         "showlegend": false,
         "text": [
          "开辟"
         ],
         "textfont": {
          "color": "black",
          "family": "Inter",
          "size": 14
         },
         "textposition": "middle center",
         "type": "scatter",
         "x": [
          4
         ],
         "y": [
          1
         ]
        },
        {
         "hoverinfo": "skip",
         "mode": "text",
         "showlegend": false,
         "text": [
          "47"
         ],
         "textfont": {
          "color": "black",
          "family": "Inter",
          "size": 12
         },
         "textposition": "middle center",
         "type": "scatter",
         "x": [
          4.6
         ],
         "y": [
          1.35
         ]
        },
        {
         "hoverinfo": "skip",
         "mode": "text",
         "showlegend": false,
         "text": [
          "0.019"
         ],
         "textfont": {
          "color": "black",
          "family": "Inter",
          "size": 12
         },
         "textposition": "middle center",
         "type": "scatter",
         "x": [
          5.35
         ],
         "y": [
          0.65
         ]
        },
        {
         "hoverinfo": "skip",
         "mode": "text",
         "showlegend": false,
         "text": [
          "开辟"
         ],
         "textfont": {
          "color": "black",
          "family": "Inter",
          "size": 14
         },
         "textposition": "middle center",
         "type": "scatter",
         "x": [
          5
         ],
         "y": [
          1
         ]
        },
        {
         "hoverinfo": "skip",
         "mode": "text",
         "showlegend": false,
         "text": [
          "28"
         ],
         "textfont": {
          "color": "black",
          "family": "Inter",
          "size": 12
         },
         "textposition": "middle center",
         "type": "scatter",
         "x": [
          5.6
         ],
         "y": [
          1.35
         ]
        },
        {
         "hoverinfo": "skip",
         "mode": "text",
         "showlegend": false,
         "text": [
          "0.018"
         ],
         "textfont": {
          "color": "black",
          "family": "Inter",
          "size": 12
         },
         "textposition": "middle center",
         "type": "scatter",
         "x": [
          6.35
         ],
         "y": [
          0.65
         ]
        },
        {
         "hoverinfo": "skip",
         "mode": "text",
         "showlegend": false,
         "text": [
          "开辟"
         ],
         "textfont": {
          "color": "black",
          "family": "Inter",
          "size": 14
         },
         "textposition": "middle center",
         "type": "scatter",
         "x": [
          6
         ],
         "y": [
          1
         ]
        },
        {
         "hoverinfo": "skip",
         "mode": "text",
         "showlegend": false,
         "text": [
          "6"
         ],
         "textfont": {
          "color": "black",
          "family": "Inter",
          "size": 12
         },
         "textposition": "middle center",
         "type": "scatter",
         "x": [
          6.6
         ],
         "y": [
          1.35
         ]
        },
        {
         "hoverinfo": "skip",
         "mode": "text",
         "showlegend": false,
         "text": [
          "0.018"
         ],
         "textfont": {
          "color": "black",
          "family": "Inter",
          "size": 12
         },
         "textposition": "middle center",
         "type": "scatter",
         "x": [
          7.35
         ],
         "y": [
          0.65
         ]
        },
        {
         "hoverinfo": "skip",
         "mode": "text",
         "showlegend": false,
         "text": [
          "开辟"
         ],
         "textfont": {
          "color": "black",
          "family": "Inter",
          "size": 14
         },
         "textposition": "middle center",
         "type": "scatter",
         "x": [
          7
         ],
         "y": [
          1
         ]
        },
        {
         "hoverinfo": "skip",
         "mode": "text",
         "showlegend": false,
         "text": [
          "光彩"
         ],
         "textfont": {
          "color": "black",
          "family": "Inter",
          "size": 14
         },
         "textposition": "middle center",
         "type": "scatter",
         "x": [
          0
         ],
         "y": [
          2
         ]
        },
        {
         "hoverinfo": "skip",
         "mode": "text",
         "showlegend": false,
         "text": [
          "iling"
         ],
         "textfont": {
          "color": "black",
          "family": "Inter",
          "size": 14
         },
         "textposition": "middle center",
         "type": "scatter",
         "x": [
          1
         ],
         "y": [
          2
         ]
        },
        {
         "hoverinfo": "skip",
         "mode": "text",
         "showlegend": false,
         "text": [
          "15"
         ],
         "textfont": {
          "color": "black",
          "family": "Inter",
          "size": 12
         },
         "textposition": "middle center",
         "type": "scatter",
         "x": [
          1.6
         ],
         "y": [
          2.35
         ]
        },
        {
         "hoverinfo": "skip",
         "mode": "text",
         "showlegend": false,
         "text": [
          "0.212"
         ],
         "textfont": {
          "color": "black",
          "family": "Inter",
          "size": 12
         },
         "textposition": "middle center",
         "type": "scatter",
         "x": [
          2.35
         ],
         "y": [
          1.65
         ]
        },
        {
         "hoverinfo": "skip",
         "mode": "text",
         "showlegend": false,
         "text": [
          " modernista"
         ],
         "textfont": {
          "color": "black",
          "family": "Inter",
          "size": 14
         },
         "textposition": "middle center",
         "type": "scatter",
         "x": [
          2
         ],
         "y": [
          2
         ]
        },
        {
         "hoverinfo": "skip",
         "mode": "text",
         "showlegend": false,
         "text": [
          "47"
         ],
         "textfont": {
          "color": "black",
          "family": "Inter",
          "size": 12
         },
         "textposition": "middle center",
         "type": "scatter",
         "x": [
          2.6
         ],
         "y": [
          2.35
         ]
        },
        {
         "hoverinfo": "skip",
         "mode": "text",
         "showlegend": false,
         "text": [
          "0.098"
         ],
         "textfont": {
          "color": "black",
          "family": "Inter",
          "size": 12
         },
         "textposition": "middle center",
         "type": "scatter",
         "x": [
          3.35
         ],
         "y": [
          1.65
         ]
        },
        {
         "hoverinfo": "skip",
         "mode": "text",
         "showlegend": false,
         "text": [
          "ITH"
         ],
         "textfont": {
          "color": "black",
          "family": "Inter",
          "size": 14
         },
         "textposition": "middle center",
         "type": "scatter",
         "x": [
          3
         ],
         "y": [
          2
         ]
        },
        {
         "hoverinfo": "skip",
         "mode": "text",
         "showlegend": false,
         "text": [
          "61"
         ],
         "textfont": {
          "color": "black",
          "family": "Inter",
          "size": 12
         },
         "textposition": "middle center",
         "type": "scatter",
         "x": [
          3.6
         ],
         "y": [
          2.35
         ]
        },
        {
         "hoverinfo": "skip",
         "mode": "text",
         "showlegend": false,
         "text": [
          "0.083"
         ],
         "textfont": {
          "color": "black",
          "family": "Inter",
          "size": 12
         },
         "textposition": "middle center",
         "type": "scatter",
         "x": [
          4.35
         ],
         "y": [
          1.65
         ]
        },
        {
         "hoverinfo": "skip",
         "mode": "text",
         "showlegend": false,
         "text": [
          "iling"
         ],
         "textfont": {
          "color": "black",
          "family": "Inter",
          "size": 14
         },
         "textposition": "middle center",
         "type": "scatter",
         "x": [
          4
         ],
         "y": [
          2
         ]
        },
        {
         "hoverinfo": "skip",
         "mode": "text",
         "showlegend": false,
         "text": [
          "20"
         ],
         "textfont": {
          "color": "black",
          "family": "Inter",
          "size": 12
         },
         "textposition": "middle center",
         "type": "scatter",
         "x": [
          4.6
         ],
         "y": [
          2.35
         ]
        },
        {
         "hoverinfo": "skip",
         "mode": "text",
         "showlegend": false,
         "text": [
          "0.039"
         ],
         "textfont": {
          "color": "black",
          "family": "Inter",
          "size": 12
         },
         "textposition": "middle center",
         "type": "scatter",
         "x": [
          5.35
         ],
         "y": [
          1.65
         ]
        },
        {
         "hoverinfo": "skip",
         "mode": "text",
         "showlegend": false,
         "text": [
          "昏"
         ],
         "textfont": {
          "color": "black",
          "family": "Inter",
          "size": 14
         },
         "textposition": "middle center",
         "type": "scatter",
         "x": [
          5
         ],
         "y": [
          2
         ]
        },
        {
         "hoverinfo": "skip",
         "mode": "text",
         "showlegend": false,
         "text": [
          "2"
         ],
         "textfont": {
          "color": "black",
          "family": "Inter",
          "size": 12
         },
         "textposition": "middle center",
         "type": "scatter",
         "x": [
          5.6
         ],
         "y": [
          2.35
         ]
        },
        {
         "hoverinfo": "skip",
         "mode": "text",
         "showlegend": false,
         "text": [
          "0.037"
         ],
         "textfont": {
          "color": "black",
          "family": "Inter",
          "size": 12
         },
         "textposition": "middle center",
         "type": "scatter",
         "x": [
          6.35
         ],
         "y": [
          1.65
         ]
        },
        {
         "hoverinfo": "skip",
         "mode": "text",
         "showlegend": false,
         "text": [
          "iling"
         ],
         "textfont": {
          "color": "black",
          "family": "Inter",
          "size": 14
         },
         "textposition": "middle center",
         "type": "scatter",
         "x": [
          6
         ],
         "y": [
          2
         ]
        },
        {
         "hoverinfo": "skip",
         "mode": "text",
         "showlegend": false,
         "text": [
          "12"
         ],
         "textfont": {
          "color": "black",
          "family": "Inter",
          "size": 12
         },
         "textposition": "middle center",
         "type": "scatter",
         "x": [
          6.6
         ],
         "y": [
          2.35
         ]
        },
        {
         "hoverinfo": "skip",
         "mode": "text",
         "showlegend": false,
         "text": [
          "0.036"
         ],
         "textfont": {
          "color": "black",
          "family": "Inter",
          "size": 12
         },
         "textposition": "middle center",
         "type": "scatter",
         "x": [
          7.35
         ],
         "y": [
          1.65
         ]
        },
        {
         "hoverinfo": "skip",
         "mode": "text",
         "showlegend": false,
         "text": [
          "iling"
         ],
         "textfont": {
          "color": "black",
          "family": "Inter",
          "size": 14
         },
         "textposition": "middle center",
         "type": "scatter",
         "x": [
          7
         ],
         "y": [
          2
         ]
        },
        {
         "hoverinfo": "skip",
         "mode": "text",
         "showlegend": false,
         "text": [
          "лата"
         ],
         "textfont": {
          "color": "black",
          "family": "Inter",
          "size": 14
         },
         "textposition": "middle center",
         "type": "scatter",
         "x": [
          0
         ],
         "y": [
          3
         ]
        },
        {
         "hoverinfo": "skip",
         "mode": "text",
         "showlegend": false,
         "text": [
          " observat"
         ],
         "textfont": {
          "color": "black",
          "family": "Inter",
          "size": 14
         },
         "textposition": "middle center",
         "type": "scatter",
         "x": [
          1
         ],
         "y": [
          3
         ]
        },
        {
         "hoverinfo": "skip",
         "mode": "text",
         "showlegend": false,
         "text": [
          "25"
         ],
         "textfont": {
          "color": "black",
          "family": "Inter",
          "size": 12
         },
         "textposition": "middle center",
         "type": "scatter",
         "x": [
          1.6
         ],
         "y": [
          3.35
         ]
        },
        {
         "hoverinfo": "skip",
         "mode": "text",
         "showlegend": false,
         "text": [
          "0.263"
         ],
         "textfont": {
          "color": "black",
          "family": "Inter",
          "size": 12
         },
         "textposition": "middle center",
         "type": "scatter",
         "x": [
          2.35
         ],
         "y": [
          2.65
         ]
        },
        {
         "hoverinfo": "skip",
         "mode": "text",
         "showlegend": false,
         "text": [
          " observat"
         ],
         "textfont": {
          "color": "black",
          "family": "Inter",
          "size": 14
         },
         "textposition": "middle center",
         "type": "scatter",
         "x": [
          2
         ],
         "y": [
          3
         ]
        },
        {
         "hoverinfo": "skip",
         "mode": "text",
         "showlegend": false,
         "text": [
          "21"
         ],
         "textfont": {
          "color": "black",
          "family": "Inter",
          "size": 12
         },
         "textposition": "middle center",
         "type": "scatter",
         "x": [
          2.6
         ],
         "y": [
          3.35
         ]
        },
        {
         "hoverinfo": "skip",
         "mode": "text",
         "showlegend": false,
         "text": [
          "0.049"
         ],
         "textfont": {
          "color": "black",
          "family": "Inter",
          "size": 12
         },
         "textposition": "middle center",
         "type": "scatter",
         "x": [
          3.35
         ],
         "y": [
          2.65
         ]
        },
        {
         "hoverinfo": "skip",
         "mode": "text",
         "showlegend": false,
         "text": [
          " observat"
         ],
         "textfont": {
          "color": "black",
          "family": "Inter",
          "size": 14
         },
         "textposition": "middle center",
         "type": "scatter",
         "x": [
          3
         ],
         "y": [
          3
         ]
        },
        {
         "hoverinfo": "skip",
         "mode": "text",
         "showlegend": false,
         "text": [
          "60"
         ],
         "textfont": {
          "color": "black",
          "family": "Inter",
          "size": 12
         },
         "textposition": "middle center",
         "type": "scatter",
         "x": [
          3.6
         ],
         "y": [
          3.35
         ]
        },
        {
         "hoverinfo": "skip",
         "mode": "text",
         "showlegend": false,
         "text": [
          "0.047"
         ],
         "textfont": {
          "color": "black",
          "family": "Inter",
          "size": 12
         },
         "textposition": "middle center",
         "type": "scatter",
         "x": [
          4.35
         ],
         "y": [
          2.65
         ]
        },
        {
         "hoverinfo": "skip",
         "mode": "text",
         "showlegend": false,
         "text": [
          " observat"
         ],
         "textfont": {
          "color": "black",
          "family": "Inter",
          "size": 14
         },
         "textposition": "middle center",
         "type": "scatter",
         "x": [
          4
         ],
         "y": [
          3
         ]
        },
        {
         "hoverinfo": "skip",
         "mode": "text",
         "showlegend": false,
         "text": [
          "35"
         ],
         "textfont": {
          "color": "black",
          "family": "Inter",
          "size": 12
         },
         "textposition": "middle center",
         "type": "scatter",
         "x": [
          4.6
         ],
         "y": [
          3.35
         ]
        },
        {
         "hoverinfo": "skip",
         "mode": "text",
         "showlegend": false,
         "text": [
          "0.046"
         ],
         "textfont": {
          "color": "black",
          "family": "Inter",
          "size": 12
         },
         "textposition": "middle center",
         "type": "scatter",
         "x": [
          5.35
         ],
         "y": [
          2.65
         ]
        },
        {
         "hoverinfo": "skip",
         "mode": "text",
         "showlegend": false,
         "text": [
          " observat"
         ],
         "textfont": {
          "color": "black",
          "family": "Inter",
          "size": 14
         },
         "textposition": "middle center",
         "type": "scatter",
         "x": [
          5
         ],
         "y": [
          3
         ]
        },
        {
         "hoverinfo": "skip",
         "mode": "text",
         "showlegend": false,
         "text": [
          "31"
         ],
         "textfont": {
          "color": "black",
          "family": "Inter",
          "size": 12
         },
         "textposition": "middle center",
         "type": "scatter",
         "x": [
          5.6
         ],
         "y": [
          3.35
         ]
        },
        {
         "hoverinfo": "skip",
         "mode": "text",
         "showlegend": false,
         "text": [
          "0.046"
         ],
         "textfont": {
          "color": "black",
          "family": "Inter",
          "size": 12
         },
         "textposition": "middle center",
         "type": "scatter",
         "x": [
          6.35
         ],
         "y": [
          2.65
         ]
        },
        {
         "hoverinfo": "skip",
         "mode": "text",
         "showlegend": false,
         "text": [
          " observat"
         ],
         "textfont": {
          "color": "black",
          "family": "Inter",
          "size": 14
         },
         "textposition": "middle center",
         "type": "scatter",
         "x": [
          6
         ],
         "y": [
          3
         ]
        },
        {
         "hoverinfo": "skip",
         "mode": "text",
         "showlegend": false,
         "text": [
          "50"
         ],
         "textfont": {
          "color": "black",
          "family": "Inter",
          "size": 12
         },
         "textposition": "middle center",
         "type": "scatter",
         "x": [
          6.6
         ],
         "y": [
          3.35
         ]
        },
        {
         "hoverinfo": "skip",
         "mode": "text",
         "showlegend": false,
         "text": [
          "0.035"
         ],
         "textfont": {
          "color": "black",
          "family": "Inter",
          "size": 12
         },
         "textposition": "middle center",
         "type": "scatter",
         "x": [
          7.35
         ],
         "y": [
          2.65
         ]
        },
        {
         "hoverinfo": "skip",
         "mode": "text",
         "showlegend": false,
         "text": [
          " observat"
         ],
         "textfont": {
          "color": "black",
          "family": "Inter",
          "size": 14
         },
         "textposition": "middle center",
         "type": "scatter",
         "x": [
          7
         ],
         "y": [
          3
         ]
        },
        {
         "hoverinfo": "skip",
         "mode": "text",
         "showlegend": false,
         "text": [
          "лата"
         ],
         "textfont": {
          "color": "black",
          "family": "Inter",
          "size": 14
         },
         "textposition": "middle center",
         "type": "scatter",
         "x": [
          0
         ],
         "y": [
          4
         ]
        },
        {
         "hoverinfo": "skip",
         "mode": "text",
         "showlegend": false,
         "text": [
          "вел"
         ],
         "textfont": {
          "color": "black",
          "family": "Inter",
          "size": 14
         },
         "textposition": "middle center",
         "type": "scatter",
         "x": [
          1
         ],
         "y": [
          4
         ]
        },
        {
         "hoverinfo": "skip",
         "mode": "text",
         "showlegend": false,
         "text": [
          "52"
         ],
         "textfont": {
          "color": "black",
          "family": "Inter",
          "size": 12
         },
         "textposition": "middle center",
         "type": "scatter",
         "x": [
          1.6
         ],
         "y": [
          4.35
         ]
        },
        {
         "hoverinfo": "skip",
         "mode": "text",
         "showlegend": false,
         "text": [
          "0.244"
         ],
         "textfont": {
          "color": "black",
          "family": "Inter",
          "size": 12
         },
         "textposition": "middle center",
         "type": "scatter",
         "x": [
          2.35
         ],
         "y": [
          3.65
         ]
        },
        {
         "hoverinfo": "skip",
         "mode": "text",
         "showlegend": false,
         "text": [
          "urada"
         ],
         "textfont": {
          "color": "black",
          "family": "Inter",
          "size": 14
         },
         "textposition": "middle center",
         "type": "scatter",
         "x": [
          2
         ],
         "y": [
          4
         ]
        },
        {
         "hoverinfo": "skip",
         "mode": "text",
         "showlegend": false,
         "text": [
          "43"
         ],
         "textfont": {
          "color": "black",
          "family": "Inter",
          "size": 12
         },
         "textposition": "middle center",
         "type": "scatter",
         "x": [
          2.6
         ],
         "y": [
          4.35
         ]
        },
        {
         "hoverinfo": "skip",
         "mode": "text",
         "showlegend": false,
         "text": [
          "0.097"
         ],
         "textfont": {
          "color": "black",
          "family": "Inter",
          "size": 12
         },
         "textposition": "middle center",
         "type": "scatter",
         "x": [
          3.35
         ],
         "y": [
          3.65
         ]
        },
        {
         "hoverinfo": "skip",
         "mode": "text",
         "showlegend": false,
         "text": [
          "вел"
         ],
         "textfont": {
          "color": "black",
          "family": "Inter",
          "size": 14
         },
         "textposition": "middle center",
         "type": "scatter",
         "x": [
          3
         ],
         "y": [
          4
         ]
        },
        {
         "hoverinfo": "skip",
         "mode": "text",
         "showlegend": false,
         "text": [
          "49"
         ],
         "textfont": {
          "color": "black",
          "family": "Inter",
          "size": 12
         },
         "textposition": "middle center",
         "type": "scatter",
         "x": [
          3.6
         ],
         "y": [
          4.35
         ]
        },
        {
         "hoverinfo": "skip",
         "mode": "text",
         "showlegend": false,
         "text": [
          "0.073"
         ],
         "textfont": {
          "color": "black",
          "family": "Inter",
          "size": 12
         },
         "textposition": "middle center",
         "type": "scatter",
         "x": [
          4.35
         ],
         "y": [
          3.65
         ]
        },
        {
         "hoverinfo": "skip",
         "mode": "text",
         "showlegend": false,
         "text": [
          "лата"
         ],
         "textfont": {
          "color": "black",
          "family": "Inter",
          "size": 14
         },
         "textposition": "middle center",
         "type": "scatter",
         "x": [
          4
         ],
         "y": [
          4
         ]
        },
        {
         "hoverinfo": "skip",
         "mode": "text",
         "showlegend": false,
         "text": [
          "2"
         ],
         "textfont": {
          "color": "black",
          "family": "Inter",
          "size": 12
         },
         "textposition": "middle center",
         "type": "scatter",
         "x": [
          4.6
         ],
         "y": [
          4.35
         ]
        },
        {
         "hoverinfo": "skip",
         "mode": "text",
         "showlegend": false,
         "text": [
          "0.048"
         ],
         "textfont": {
          "color": "black",
          "family": "Inter",
          "size": 12
         },
         "textposition": "middle center",
         "type": "scatter",
         "x": [
          5.35
         ],
         "y": [
          3.65
         ]
        },
        {
         "hoverinfo": "skip",
         "mode": "text",
         "showlegend": false,
         "text": [
          "вел"
         ],
         "textfont": {
          "color": "black",
          "family": "Inter",
          "size": 14
         },
         "textposition": "middle center",
         "type": "scatter",
         "x": [
          5
         ],
         "y": [
          4
         ]
        },
        {
         "hoverinfo": "skip",
         "mode": "text",
         "showlegend": false,
         "text": [
          "31"
         ],
         "textfont": {
          "color": "black",
          "family": "Inter",
          "size": 12
         },
         "textposition": "middle center",
         "type": "scatter",
         "x": [
          5.6
         ],
         "y": [
          4.35
         ]
        },
        {
         "hoverinfo": "skip",
         "mode": "text",
         "showlegend": false,
         "text": [
          "0.031"
         ],
         "textfont": {
          "color": "black",
          "family": "Inter",
          "size": 12
         },
         "textposition": "middle center",
         "type": "scatter",
         "x": [
          6.35
         ],
         "y": [
          3.65
         ]
        },
        {
         "hoverinfo": "skip",
         "mode": "text",
         "showlegend": false,
         "text": [
          "вел"
         ],
         "textfont": {
          "color": "black",
          "family": "Inter",
          "size": 14
         },
         "textposition": "middle center",
         "type": "scatter",
         "x": [
          6
         ],
         "y": [
          4
         ]
        },
        {
         "hoverinfo": "skip",
         "mode": "text",
         "showlegend": false,
         "text": [
          "19"
         ],
         "textfont": {
          "color": "black",
          "family": "Inter",
          "size": 12
         },
         "textposition": "middle center",
         "type": "scatter",
         "x": [
          6.6
         ],
         "y": [
          4.35
         ]
        },
        {
         "hoverinfo": "skip",
         "mode": "text",
         "showlegend": false,
         "text": [
          "0.031"
         ],
         "textfont": {
          "color": "black",
          "family": "Inter",
          "size": 12
         },
         "textposition": "middle center",
         "type": "scatter",
         "x": [
          7.35
         ],
         "y": [
          3.65
         ]
        },
        {
         "hoverinfo": "skip",
         "mode": "text",
         "showlegend": false,
         "text": [
          "вел"
         ],
         "textfont": {
          "color": "black",
          "family": "Inter",
          "size": 14
         },
         "textposition": "middle center",
         "type": "scatter",
         "x": [
          7
         ],
         "y": [
          4
         ]
        },
        {
         "hoverinfo": "skip",
         "mode": "text",
         "showlegend": false,
         "text": [
          "光彩"
         ],
         "textfont": {
          "color": "black",
          "family": "Inter",
          "size": 14
         },
         "textposition": "middle center",
         "type": "scatter",
         "x": [
          0
         ],
         "y": [
          5
         ]
        },
        {
         "hoverinfo": "skip",
         "mode": "text",
         "showlegend": false,
         "text": [
          "urada"
         ],
         "textfont": {
          "color": "black",
          "family": "Inter",
          "size": 14
         },
         "textposition": "middle center",
         "type": "scatter",
         "x": [
          1
         ],
         "y": [
          5
         ]
        },
        {
         "hoverinfo": "skip",
         "mode": "text",
         "showlegend": false,
         "text": [
          "37"
         ],
         "textfont": {
          "color": "black",
          "family": "Inter",
          "size": 12
         },
         "textposition": "middle center",
         "type": "scatter",
         "x": [
          1.6
         ],
         "y": [
          5.35
         ]
        },
        {
         "hoverinfo": "skip",
         "mode": "text",
         "showlegend": false,
         "text": [
          "0.221"
         ],
         "textfont": {
          "color": "black",
          "family": "Inter",
          "size": 12
         },
         "textposition": "middle center",
         "type": "scatter",
         "x": [
          2.35
         ],
         "y": [
          4.65
         ]
        },
        {
         "hoverinfo": "skip",
         "mode": "text",
         "showlegend": false,
         "text": [
          "лата"
         ],
         "textfont": {
          "color": "black",
          "family": "Inter",
          "size": 14
         },
         "textposition": "middle center",
         "type": "scatter",
         "x": [
          2
         ],
         "y": [
          5
         ]
        },
        {
         "hoverinfo": "skip",
         "mode": "text",
         "showlegend": false,
         "text": [
          "49"
         ],
         "textfont": {
          "color": "black",
          "family": "Inter",
          "size": 12
         },
         "textposition": "middle center",
         "type": "scatter",
         "x": [
          2.6
         ],
         "y": [
          5.35
         ]
        },
        {
         "hoverinfo": "skip",
         "mode": "text",
         "showlegend": false,
         "text": [
          "0.069"
         ],
         "textfont": {
          "color": "black",
          "family": "Inter",
          "size": 12
         },
         "textposition": "middle center",
         "type": "scatter",
         "x": [
          3.35
         ],
         "y": [
          4.65
         ]
        },
        {
         "hoverinfo": "skip",
         "mode": "text",
         "showlegend": false,
         "text": [
          "urada"
         ],
         "textfont": {
          "color": "black",
          "family": "Inter",
          "size": 14
         },
         "textposition": "middle center",
         "type": "scatter",
         "x": [
          3
         ],
         "y": [
          5
         ]
        },
        {
         "hoverinfo": "skip",
         "mode": "text",
         "showlegend": false,
         "text": [
          "40"
         ],
         "textfont": {
          "color": "black",
          "family": "Inter",
          "size": 12
         },
         "textposition": "middle center",
         "type": "scatter",
         "x": [
          3.6
         ],
         "y": [
          5.35
         ]
        },
        {
         "hoverinfo": "skip",
         "mode": "text",
         "showlegend": false,
         "text": [
          "0.053"
         ],
         "textfont": {
          "color": "black",
          "family": "Inter",
          "size": 12
         },
         "textposition": "middle center",
         "type": "scatter",
         "x": [
          4.35
         ],
         "y": [
          4.65
         ]
        },
        {
         "hoverinfo": "skip",
         "mode": "text",
         "showlegend": false,
         "text": [
          "urada"
         ],
         "textfont": {
          "color": "black",
          "family": "Inter",
          "size": 14
         },
         "textposition": "middle center",
         "type": "scatter",
         "x": [
          4
         ],
         "y": [
          5
         ]
        },
        {
         "hoverinfo": "skip",
         "mode": "text",
         "showlegend": false,
         "text": [
          "53"
         ],
         "textfont": {
          "color": "black",
          "family": "Inter",
          "size": 12
         },
         "textposition": "middle center",
         "type": "scatter",
         "x": [
          4.6
         ],
         "y": [
          5.35
         ]
        },
        {
         "hoverinfo": "skip",
         "mode": "text",
         "showlegend": false,
         "text": [
          "0.045"
         ],
         "textfont": {
          "color": "black",
          "family": "Inter",
          "size": 12
         },
         "textposition": "middle center",
         "type": "scatter",
         "x": [
          5.35
         ],
         "y": [
          4.65
         ]
        },
        {
         "hoverinfo": "skip",
         "mode": "text",
         "showlegend": false,
         "text": [
          "urada"
         ],
         "textfont": {
          "color": "black",
          "family": "Inter",
          "size": 14
         },
         "textposition": "middle center",
         "type": "scatter",
         "x": [
          5
         ],
         "y": [
          5
         ]
        },
        {
         "hoverinfo": "skip",
         "mode": "text",
         "showlegend": false,
         "text": [
          "58"
         ],
         "textfont": {
          "color": "black",
          "family": "Inter",
          "size": 12
         },
         "textposition": "middle center",
         "type": "scatter",
         "x": [
          5.6
         ],
         "y": [
          5.35
         ]
        },
        {
         "hoverinfo": "skip",
         "mode": "text",
         "showlegend": false,
         "text": [
          "0.043"
         ],
         "textfont": {
          "color": "black",
          "family": "Inter",
          "size": 12
         },
         "textposition": "middle center",
         "type": "scatter",
         "x": [
          6.35
         ],
         "y": [
          4.65
         ]
        },
        {
         "hoverinfo": "skip",
         "mode": "text",
         "showlegend": false,
         "text": [
          "urada"
         ],
         "textfont": {
          "color": "black",
          "family": "Inter",
          "size": 14
         },
         "textposition": "middle center",
         "type": "scatter",
         "x": [
          6
         ],
         "y": [
          5
         ]
        },
        {
         "hoverinfo": "skip",
         "mode": "text",
         "showlegend": false,
         "text": [
          "62"
         ],
         "textfont": {
          "color": "black",
          "family": "Inter",
          "size": 12
         },
         "textposition": "middle center",
         "type": "scatter",
         "x": [
          6.6
         ],
         "y": [
          5.35
         ]
        },
        {
         "hoverinfo": "skip",
         "mode": "text",
         "showlegend": false,
         "text": [
          "0.034"
         ],
         "textfont": {
          "color": "black",
          "family": "Inter",
          "size": 12
         },
         "textposition": "middle center",
         "type": "scatter",
         "x": [
          7.35
         ],
         "y": [
          4.65
         ]
        },
        {
         "hoverinfo": "skip",
         "mode": "text",
         "showlegend": false,
         "text": [
          "urada"
         ],
         "textfont": {
          "color": "black",
          "family": "Inter",
          "size": 14
         },
         "textposition": "middle center",
         "type": "scatter",
         "x": [
          7
         ],
         "y": [
          5
         ]
        },
        {
         "hoverinfo": "skip",
         "mode": "text",
         "showlegend": false,
         "text": [
          " modernista"
         ],
         "textfont": {
          "color": "black",
          "family": "Inter",
          "size": 14
         },
         "textposition": "middle center",
         "type": "scatter",
         "x": [
          0
         ],
         "y": [
          6
         ]
        },
        {
         "hoverinfo": "skip",
         "mode": "text",
         "showlegend": false,
         "text": [
          " urbans"
         ],
         "textfont": {
          "color": "black",
          "family": "Inter",
          "size": 14
         },
         "textposition": "middle center",
         "type": "scatter",
         "x": [
          1
         ],
         "y": [
          6
         ]
        },
        {
         "hoverinfo": "skip",
         "mode": "text",
         "showlegend": false,
         "text": [
          "60"
         ],
         "textfont": {
          "color": "black",
          "family": "Inter",
          "size": 12
         },
         "textposition": "middle center",
         "type": "scatter",
         "x": [
          1.6
         ],
         "y": [
          6.35
         ]
        },
        {
         "hoverinfo": "skip",
         "mode": "text",
         "showlegend": false,
         "text": [
          "0.153"
         ],
         "textfont": {
          "color": "black",
          "family": "Inter",
          "size": 12
         },
         "textposition": "middle center",
         "type": "scatter",
         "x": [
          2.35
         ],
         "y": [
          5.65
         ]
        },
        {
         "hoverinfo": "skip",
         "mode": "text",
         "showlegend": false,
         "text": [
          " urbans"
         ],
         "textfont": {
          "color": "black",
          "family": "Inter",
          "size": 14
         },
         "textposition": "middle center",
         "type": "scatter",
         "x": [
          2
         ],
         "y": [
          6
         ]
        },
        {
         "hoverinfo": "skip",
         "mode": "text",
         "showlegend": false,
         "text": [
          "56"
         ],
         "textfont": {
          "color": "black",
          "family": "Inter",
          "size": 12
         },
         "textposition": "middle center",
         "type": "scatter",
         "x": [
          2.6
         ],
         "y": [
          6.35
         ]
        },
        {
         "hoverinfo": "skip",
         "mode": "text",
         "showlegend": false,
         "text": [
          "0.124"
         ],
         "textfont": {
          "color": "black",
          "family": "Inter",
          "size": 12
         },
         "textposition": "middle center",
         "type": "scatter",
         "x": [
          3.35
         ],
         "y": [
          5.65
         ]
        },
        {
         "hoverinfo": "skip",
         "mode": "text",
         "showlegend": false,
         "text": [
          " urbans"
         ],
         "textfont": {
          "color": "black",
          "family": "Inter",
          "size": 14
         },
         "textposition": "middle center",
         "type": "scatter",
         "x": [
          3
         ],
         "y": [
          6
         ]
        },
        {
         "hoverinfo": "skip",
         "mode": "text",
         "showlegend": false,
         "text": [
          "55"
         ],
         "textfont": {
          "color": "black",
          "family": "Inter",
          "size": 12
         },
         "textposition": "middle center",
         "type": "scatter",
         "x": [
          3.6
         ],
         "y": [
          6.35
         ]
        },
        {
         "hoverinfo": "skip",
         "mode": "text",
         "showlegend": false,
         "text": [
          "0.055"
         ],
         "textfont": {
          "color": "black",
          "family": "Inter",
          "size": 12
         },
         "textposition": "middle center",
         "type": "scatter",
         "x": [
          4.35
         ],
         "y": [
          5.65
         ]
        },
        {
         "hoverinfo": "skip",
         "mode": "text",
         "showlegend": false,
         "text": [
          " urbans"
         ],
         "textfont": {
          "color": "black",
          "family": "Inter",
          "size": 14
         },
         "textposition": "middle center",
         "type": "scatter",
         "x": [
          4
         ],
         "y": [
          6
         ]
        },
        {
         "hoverinfo": "skip",
         "mode": "text",
         "showlegend": false,
         "text": [
          "20"
         ],
         "textfont": {
          "color": "black",
          "family": "Inter",
          "size": 12
         },
         "textposition": "middle center",
         "type": "scatter",
         "x": [
          4.6
         ],
         "y": [
          6.35
         ]
        },
        {
         "hoverinfo": "skip",
         "mode": "text",
         "showlegend": false,
         "text": [
          "0.049"
         ],
         "textfont": {
          "color": "black",
          "family": "Inter",
          "size": 12
         },
         "textposition": "middle center",
         "type": "scatter",
         "x": [
          5.35
         ],
         "y": [
          5.65
         ]
        },
        {
         "hoverinfo": "skip",
         "mode": "text",
         "showlegend": false,
         "text": [
          " urbans"
         ],
         "textfont": {
          "color": "black",
          "family": "Inter",
          "size": 14
         },
         "textposition": "middle center",
         "type": "scatter",
         "x": [
          5
         ],
         "y": [
          6
         ]
        },
        {
         "hoverinfo": "skip",
         "mode": "text",
         "showlegend": false,
         "text": [
          "24"
         ],
         "textfont": {
          "color": "black",
          "family": "Inter",
          "size": 12
         },
         "textposition": "middle center",
         "type": "scatter",
         "x": [
          5.6
         ],
         "y": [
          6.35
         ]
        },
        {
         "hoverinfo": "skip",
         "mode": "text",
         "showlegend": false,
         "text": [
          "0.048"
         ],
         "textfont": {
          "color": "black",
          "family": "Inter",
          "size": 12
         },
         "textposition": "middle center",
         "type": "scatter",
         "x": [
          6.35
         ],
         "y": [
          5.65
         ]
        },
        {
         "hoverinfo": "skip",
         "mode": "text",
         "showlegend": false,
         "text": [
          " urbans"
         ],
         "textfont": {
          "color": "black",
          "family": "Inter",
          "size": 14
         },
         "textposition": "middle center",
         "type": "scatter",
         "x": [
          6
         ],
         "y": [
          6
         ]
        },
        {
         "hoverinfo": "skip",
         "mode": "text",
         "showlegend": false,
         "text": [
          "21"
         ],
         "textfont": {
          "color": "black",
          "family": "Inter",
          "size": 12
         },
         "textposition": "middle center",
         "type": "scatter",
         "x": [
          6.6
         ],
         "y": [
          6.35
         ]
        },
        {
         "hoverinfo": "skip",
         "mode": "text",
         "showlegend": false,
         "text": [
          "0.033"
         ],
         "textfont": {
          "color": "black",
          "family": "Inter",
          "size": 12
         },
         "textposition": "middle center",
         "type": "scatter",
         "x": [
          7.35
         ],
         "y": [
          5.65
         ]
        },
        {
         "hoverinfo": "skip",
         "mode": "text",
         "showlegend": false,
         "text": [
          " parlant"
         ],
         "textfont": {
          "color": "black",
          "family": "Inter",
          "size": 14
         },
         "textposition": "middle center",
         "type": "scatter",
         "x": [
          7
         ],
         "y": [
          6
         ]
        },
        {
         "hoverinfo": "skip",
         "mode": "text",
         "showlegend": false,
         "text": [
          " modernista"
         ],
         "textfont": {
          "color": "black",
          "family": "Inter",
          "size": 14
         },
         "textposition": "middle center",
         "type": "scatter",
         "x": [
          0
         ],
         "y": [
          7
         ]
        },
        {
         "hoverinfo": "skip",
         "mode": "text",
         "showlegend": false,
         "text": [
          "uder"
         ],
         "textfont": {
          "color": "black",
          "family": "Inter",
          "size": 14
         },
         "textposition": "middle center",
         "type": "scatter",
         "x": [
          1
         ],
         "y": [
          7
         ]
        },
        {
         "hoverinfo": "skip",
         "mode": "text",
         "showlegend": false,
         "text": [
          "12"
         ],
         "textfont": {
          "color": "black",
          "family": "Inter",
          "size": 12
         },
         "textposition": "middle center",
         "type": "scatter",
         "x": [
          1.6
         ],
         "y": [
          7.35
         ]
        },
        {
         "hoverinfo": "skip",
         "mode": "text",
         "showlegend": false,
         "text": [
          "0.238"
         ],
         "textfont": {
          "color": "black",
          "family": "Inter",
          "size": 12
         },
         "textposition": "middle center",
         "type": "scatter",
         "x": [
          2.35
         ],
         "y": [
          6.65
         ]
        },
        {
         "hoverinfo": "skip",
         "mode": "text",
         "showlegend": false,
         "text": [
          "uder"
         ],
         "textfont": {
          "color": "black",
          "family": "Inter",
          "size": 14
         },
         "textposition": "middle center",
         "type": "scatter",
         "x": [
          2
         ],
         "y": [
          7
         ]
        },
        {
         "hoverinfo": "skip",
         "mode": "text",
         "showlegend": false,
         "text": [
          "9"
         ],
         "textfont": {
          "color": "black",
          "family": "Inter",
          "size": 12
         },
         "textposition": "middle center",
         "type": "scatter",
         "x": [
          2.6
         ],
         "y": [
          7.35
         ]
        },
        {
         "hoverinfo": "skip",
         "mode": "text",
         "showlegend": false,
         "text": [
          "0.119"
         ],
         "textfont": {
          "color": "black",
          "family": "Inter",
          "size": 12
         },
         "textposition": "middle center",
         "type": "scatter",
         "x": [
          3.35
         ],
         "y": [
          6.65
         ]
        },
        {
         "hoverinfo": "skip",
         "mode": "text",
         "showlegend": false,
         "text": [
          " modernista"
         ],
         "textfont": {
          "color": "black",
          "family": "Inter",
          "size": 14
         },
         "textposition": "middle center",
         "type": "scatter",
         "x": [
          3
         ],
         "y": [
          7
         ]
        },
        {
         "hoverinfo": "skip",
         "mode": "text",
         "showlegend": false,
         "text": [
          "45"
         ],
         "textfont": {
          "color": "black",
          "family": "Inter",
          "size": 12
         },
         "textposition": "middle center",
         "type": "scatter",
         "x": [
          3.6
         ],
         "y": [
          7.35
         ]
        },
        {
         "hoverinfo": "skip",
         "mode": "text",
         "showlegend": false,
         "text": [
          "0.059"
         ],
         "textfont": {
          "color": "black",
          "family": "Inter",
          "size": 12
         },
         "textposition": "middle center",
         "type": "scatter",
         "x": [
          4.35
         ],
         "y": [
          6.65
         ]
        },
        {
         "hoverinfo": "skip",
         "mode": "text",
         "showlegend": false,
         "text": [
          "uder"
         ],
         "textfont": {
          "color": "black",
          "family": "Inter",
          "size": 14
         },
         "textposition": "middle center",
         "type": "scatter",
         "x": [
          4
         ],
         "y": [
          7
         ]
        },
        {
         "hoverinfo": "skip",
         "mode": "text",
         "showlegend": false,
         "text": [
          "38"
         ],
         "textfont": {
          "color": "black",
          "family": "Inter",
          "size": 12
         },
         "textposition": "middle center",
         "type": "scatter",
         "x": [
          4.6
         ],
         "y": [
          7.35
         ]
        },
        {
         "hoverinfo": "skip",
         "mode": "text",
         "showlegend": false,
         "text": [
          "0.055"
         ],
         "textfont": {
          "color": "black",
          "family": "Inter",
          "size": 12
         },
         "textposition": "middle center",
         "type": "scatter",
         "x": [
          5.35
         ],
         "y": [
          6.65
         ]
        },
        {
         "hoverinfo": "skip",
         "mode": "text",
         "showlegend": false,
         "text": [
          " modernista"
         ],
         "textfont": {
          "color": "black",
          "family": "Inter",
          "size": 14
         },
         "textposition": "middle center",
         "type": "scatter",
         "x": [
          5
         ],
         "y": [
          7
         ]
        },
        {
         "hoverinfo": "skip",
         "mode": "text",
         "showlegend": false,
         "text": [
          "61"
         ],
         "textfont": {
          "color": "black",
          "family": "Inter",
          "size": 12
         },
         "textposition": "middle center",
         "type": "scatter",
         "x": [
          5.6
         ],
         "y": [
          7.35
         ]
        },
        {
         "hoverinfo": "skip",
         "mode": "text",
         "showlegend": false,
         "text": [
          "0.034"
         ],
         "textfont": {
          "color": "black",
          "family": "Inter",
          "size": 12
         },
         "textposition": "middle center",
         "type": "scatter",
         "x": [
          6.35
         ],
         "y": [
          6.65
         ]
        },
        {
         "hoverinfo": "skip",
         "mode": "text",
         "showlegend": false,
         "text": [
          " modernista"
         ],
         "textfont": {
          "color": "black",
          "family": "Inter",
          "size": 14
         },
         "textposition": "middle center",
         "type": "scatter",
         "x": [
          6
         ],
         "y": [
          7
         ]
        },
        {
         "hoverinfo": "skip",
         "mode": "text",
         "showlegend": false,
         "text": [
          "23"
         ],
         "textfont": {
          "color": "black",
          "family": "Inter",
          "size": 12
         },
         "textposition": "middle center",
         "type": "scatter",
         "x": [
          6.6
         ],
         "y": [
          7.35
         ]
        },
        {
         "hoverinfo": "skip",
         "mode": "text",
         "showlegend": false,
         "text": [
          "0.032"
         ],
         "textfont": {
          "color": "black",
          "family": "Inter",
          "size": 12
         },
         "textposition": "middle center",
         "type": "scatter",
         "x": [
          7.35
         ],
         "y": [
          6.65
         ]
        },
        {
         "hoverinfo": "skip",
         "mode": "text",
         "showlegend": false,
         "text": [
          "uder"
         ],
         "textfont": {
          "color": "black",
          "family": "Inter",
          "size": 14
         },
         "textposition": "middle center",
         "type": "scatter",
         "x": [
          7
         ],
         "y": [
          7
         ]
        },
        {
         "hoverinfo": "skip",
         "mode": "text",
         "showlegend": false,
         "text": [
          "ctl"
         ],
         "textfont": {
          "color": "black",
          "family": "Inter",
          "size": 14
         },
         "textposition": "middle center",
         "type": "scatter",
         "x": [
          0
         ],
         "y": [
          8
         ]
        },
        {
         "hoverinfo": "skip",
         "mode": "text",
         "showlegend": false,
         "text": [
          "toctree"
         ],
         "textfont": {
          "color": "black",
          "family": "Inter",
          "size": 14
         },
         "textposition": "middle center",
         "type": "scatter",
         "x": [
          1
         ],
         "y": [
          8
         ]
        },
        {
         "hoverinfo": "skip",
         "mode": "text",
         "showlegend": false,
         "text": [
          "45"
         ],
         "textfont": {
          "color": "black",
          "family": "Inter",
          "size": 12
         },
         "textposition": "middle center",
         "type": "scatter",
         "x": [
          1.6
         ],
         "y": [
          8.35
         ]
        },
        {
         "hoverinfo": "skip",
         "mode": "text",
         "showlegend": false,
         "text": [
          "0.076"
         ],
         "textfont": {
          "color": "black",
          "family": "Inter",
          "size": 12
         },
         "textposition": "middle center",
         "type": "scatter",
         "x": [
          2.35
         ],
         "y": [
          7.65
         ]
        },
        {
         "hoverinfo": "skip",
         "mode": "text",
         "showlegend": false,
         "text": [
          "toctree"
         ],
         "textfont": {
          "color": "black",
          "family": "Inter",
          "size": 14
         },
         "textposition": "middle center",
         "type": "scatter",
         "x": [
          2
         ],
         "y": [
          8
         ]
        },
        {
         "hoverinfo": "skip",
         "mode": "text",
         "showlegend": false,
         "text": [
          "52"
         ],
         "textfont": {
          "color": "black",
          "family": "Inter",
          "size": 12
         },
         "textposition": "middle center",
         "type": "scatter",
         "x": [
          2.6
         ],
         "y": [
          8.35
         ]
        },
        {
         "hoverinfo": "skip",
         "mode": "text",
         "showlegend": false,
         "text": [
          "0.063"
         ],
         "textfont": {
          "color": "black",
          "family": "Inter",
          "size": 12
         },
         "textposition": "middle center",
         "type": "scatter",
         "x": [
          3.35
         ],
         "y": [
          7.65
         ]
        },
        {
         "hoverinfo": "skip",
         "mode": "text",
         "showlegend": false,
         "text": [
          "inria"
         ],
         "textfont": {
          "color": "black",
          "family": "Inter",
          "size": 14
         },
         "textposition": "middle center",
         "type": "scatter",
         "x": [
          3
         ],
         "y": [
          8
         ]
        },
        {
         "hoverinfo": "skip",
         "mode": "text",
         "showlegend": false,
         "text": [
          "62"
         ],
         "textfont": {
          "color": "black",
          "family": "Inter",
          "size": 12
         },
         "textposition": "middle center",
         "type": "scatter",
         "x": [
          3.6
         ],
         "y": [
          8.35
         ]
        },
        {
         "hoverinfo": "skip",
         "mode": "text",
         "showlegend": false,
         "text": [
          "0.061"
         ],
         "textfont": {
          "color": "black",
          "family": "Inter",
          "size": 12
         },
         "textposition": "middle center",
         "type": "scatter",
         "x": [
          4.35
         ],
         "y": [
          7.65
         ]
        },
        {
         "hoverinfo": "skip",
         "mode": "text",
         "showlegend": false,
         "text": [
          "toctree"
         ],
         "textfont": {
          "color": "black",
          "family": "Inter",
          "size": 14
         },
         "textposition": "middle center",
         "type": "scatter",
         "x": [
          4
         ],
         "y": [
          8
         ]
        },
        {
         "hoverinfo": "skip",
         "mode": "text",
         "showlegend": false,
         "text": [
          "4"
         ],
         "textfont": {
          "color": "black",
          "family": "Inter",
          "size": 12
         },
         "textposition": "middle center",
         "type": "scatter",
         "x": [
          4.6
         ],
         "y": [
          8.35
         ]
        },
        {
         "hoverinfo": "skip",
         "mode": "text",
         "showlegend": false,
         "text": [
          "0.060"
         ],
         "textfont": {
          "color": "black",
          "family": "Inter",
          "size": 12
         },
         "textposition": "middle center",
         "type": "scatter",
         "x": [
          5.35
         ],
         "y": [
          7.65
         ]
        },
        {
         "hoverinfo": "skip",
         "mode": "text",
         "showlegend": false,
         "text": [
          "toctree"
         ],
         "textfont": {
          "color": "black",
          "family": "Inter",
          "size": 14
         },
         "textposition": "middle center",
         "type": "scatter",
         "x": [
          5
         ],
         "y": [
          8
         ]
        },
        {
         "hoverinfo": "skip",
         "mode": "text",
         "showlegend": false,
         "text": [
          "32"
         ],
         "textfont": {
          "color": "black",
          "family": "Inter",
          "size": 12
         },
         "textposition": "middle center",
         "type": "scatter",
         "x": [
          5.6
         ],
         "y": [
          8.35
         ]
        },
        {
         "hoverinfo": "skip",
         "mode": "text",
         "showlegend": false,
         "text": [
          "0.038"
         ],
         "textfont": {
          "color": "black",
          "family": "Inter",
          "size": 12
         },
         "textposition": "middle center",
         "type": "scatter",
         "x": [
          6.35
         ],
         "y": [
          7.65
         ]
        },
        {
         "hoverinfo": "skip",
         "mode": "text",
         "showlegend": false,
         "text": [
          "toctree"
         ],
         "textfont": {
          "color": "black",
          "family": "Inter",
          "size": 14
         },
         "textposition": "middle center",
         "type": "scatter",
         "x": [
          6
         ],
         "y": [
          8
         ]
        },
        {
         "hoverinfo": "skip",
         "mode": "text",
         "showlegend": false,
         "text": [
          "5"
         ],
         "textfont": {
          "color": "black",
          "family": "Inter",
          "size": 12
         },
         "textposition": "middle center",
         "type": "scatter",
         "x": [
          6.6
         ],
         "y": [
          8.35
         ]
        },
        {
         "hoverinfo": "skip",
         "mode": "text",
         "showlegend": false,
         "text": [
          "0.037"
         ],
         "textfont": {
          "color": "black",
          "family": "Inter",
          "size": 12
         },
         "textposition": "middle center",
         "type": "scatter",
         "x": [
          7.35
         ],
         "y": [
          7.65
         ]
        },
        {
         "hoverinfo": "skip",
         "mode": "text",
         "showlegend": false,
         "text": [
          "toctree"
         ],
         "textfont": {
          "color": "black",
          "family": "Inter",
          "size": 14
         },
         "textposition": "middle center",
         "type": "scatter",
         "x": [
          7
         ],
         "y": [
          8
         ]
        },
        {
         "hoverinfo": "skip",
         "mode": "text",
         "showlegend": false,
         "text": [
          " causant"
         ],
         "textfont": {
          "color": "black",
          "family": "Inter",
          "size": 14
         },
         "textposition": "middle center",
         "type": "scatter",
         "x": [
          0
         ],
         "y": [
          9
         ]
        },
        {
         "hoverinfo": "skip",
         "mode": "text",
         "showlegend": false,
         "text": [
          " causant"
         ],
         "textfont": {
          "color": "black",
          "family": "Inter",
          "size": 14
         },
         "textposition": "middle center",
         "type": "scatter",
         "x": [
          1
         ],
         "y": [
          9
         ]
        },
        {
         "hoverinfo": "skip",
         "mode": "text",
         "showlegend": false,
         "text": [
          "0"
         ],
         "textfont": {
          "color": "black",
          "family": "Inter",
          "size": 12
         },
         "textposition": "middle center",
         "type": "scatter",
         "x": [
          1.6
         ],
         "y": [
          9.35
         ]
        },
        {
         "hoverinfo": "skip",
         "mode": "text",
         "showlegend": false,
         "text": [
          "0.049"
         ],
         "textfont": {
          "color": "black",
          "family": "Inter",
          "size": 12
         },
         "textposition": "middle center",
         "type": "scatter",
         "x": [
          2.35
         ],
         "y": [
          8.65
         ]
        },
        {
         "hoverinfo": "skip",
         "mode": "text",
         "showlegend": false,
         "text": [
          " causant"
         ],
         "textfont": {
          "color": "black",
          "family": "Inter",
          "size": 14
         },
         "textposition": "middle center",
         "type": "scatter",
         "x": [
          2
         ],
         "y": [
          9
         ]
        },
        {
         "hoverinfo": "skip",
         "mode": "text",
         "showlegend": false,
         "text": [
          "59"
         ],
         "textfont": {
          "color": "black",
          "family": "Inter",
          "size": 12
         },
         "textposition": "middle center",
         "type": "scatter",
         "x": [
          2.6
         ],
         "y": [
          9.35
         ]
        },
        {
         "hoverinfo": "skip",
         "mode": "text",
         "showlegend": false,
         "text": [
          "0.046"
         ],
         "textfont": {
          "color": "black",
          "family": "Inter",
          "size": 12
         },
         "textposition": "middle center",
         "type": "scatter",
         "x": [
          3.35
         ],
         "y": [
          8.65
         ]
        },
        {
         "hoverinfo": "skip",
         "mode": "text",
         "showlegend": false,
         "text": [
          " causant"
         ],
         "textfont": {
          "color": "black",
          "family": "Inter",
          "size": 14
         },
         "textposition": "middle center",
         "type": "scatter",
         "x": [
          3
         ],
         "y": [
          9
         ]
        },
        {
         "hoverinfo": "skip",
         "mode": "text",
         "showlegend": false,
         "text": [
          "41"
         ],
         "textfont": {
          "color": "black",
          "family": "Inter",
          "size": 12
         },
         "textposition": "middle center",
         "type": "scatter",
         "x": [
          3.6
         ],
         "y": [
          9.35
         ]
        },
        {
         "hoverinfo": "skip",
         "mode": "text",
         "showlegend": false,
         "text": [
          "0.042"
         ],
         "textfont": {
          "color": "black",
          "family": "Inter",
          "size": 12
         },
         "textposition": "middle center",
         "type": "scatter",
         "x": [
          4.35
         ],
         "y": [
          8.65
         ]
        },
        {
         "hoverinfo": "skip",
         "mode": "text",
         "showlegend": false,
         "text": [
          " causant"
         ],
         "textfont": {
          "color": "black",
          "family": "Inter",
          "size": 14
         },
         "textposition": "middle center",
         "type": "scatter",
         "x": [
          4
         ],
         "y": [
          9
         ]
        },
        {
         "hoverinfo": "skip",
         "mode": "text",
         "showlegend": false,
         "text": [
          "44"
         ],
         "textfont": {
          "color": "black",
          "family": "Inter",
          "size": 12
         },
         "textposition": "middle center",
         "type": "scatter",
         "x": [
          4.6
         ],
         "y": [
          9.35
         ]
        },
        {
         "hoverinfo": "skip",
         "mode": "text",
         "showlegend": false,
         "text": [
          "0.036"
         ],
         "textfont": {
          "color": "black",
          "family": "Inter",
          "size": 12
         },
         "textposition": "middle center",
         "type": "scatter",
         "x": [
          5.35
         ],
         "y": [
          8.65
         ]
        },
        {
         "hoverinfo": "skip",
         "mode": "text",
         "showlegend": false,
         "text": [
          " causant"
         ],
         "textfont": {
          "color": "black",
          "family": "Inter",
          "size": 14
         },
         "textposition": "middle center",
         "type": "scatter",
         "x": [
          5
         ],
         "y": [
          9
         ]
        },
        {
         "hoverinfo": "skip",
         "mode": "text",
         "showlegend": false,
         "text": [
          "9"
         ],
         "textfont": {
          "color": "black",
          "family": "Inter",
          "size": 12
         },
         "textposition": "middle center",
         "type": "scatter",
         "x": [
          5.6
         ],
         "y": [
          9.35
         ]
        },
        {
         "hoverinfo": "skip",
         "mode": "text",
         "showlegend": false,
         "text": [
          "0.035"
         ],
         "textfont": {
          "color": "black",
          "family": "Inter",
          "size": 12
         },
         "textposition": "middle center",
         "type": "scatter",
         "x": [
          6.35
         ],
         "y": [
          8.65
         ]
        },
        {
         "hoverinfo": "skip",
         "mode": "text",
         "showlegend": false,
         "text": [
          " causant"
         ],
         "textfont": {
          "color": "black",
          "family": "Inter",
          "size": 14
         },
         "textposition": "middle center",
         "type": "scatter",
         "x": [
          6
         ],
         "y": [
          9
         ]
        },
        {
         "hoverinfo": "skip",
         "mode": "text",
         "showlegend": false,
         "text": [
          "63"
         ],
         "textfont": {
          "color": "black",
          "family": "Inter",
          "size": 12
         },
         "textposition": "middle center",
         "type": "scatter",
         "x": [
          6.6
         ],
         "y": [
          9.35
         ]
        },
        {
         "hoverinfo": "skip",
         "mode": "text",
         "showlegend": false,
         "text": [
          "0.035"
         ],
         "textfont": {
          "color": "black",
          "family": "Inter",
          "size": 12
         },
         "textposition": "middle center",
         "type": "scatter",
         "x": [
          7.35
         ],
         "y": [
          8.65
         ]
        },
        {
         "hoverinfo": "skip",
         "mode": "text",
         "showlegend": false,
         "text": [
          " causant"
         ],
         "textfont": {
          "color": "black",
          "family": "Inter",
          "size": 14
         },
         "textposition": "middle center",
         "type": "scatter",
         "x": [
          7
         ],
         "y": [
          9
         ]
        },
        {
         "hoverinfo": "skip",
         "mode": "text",
         "showlegend": false,
         "text": [
          "eses"
         ],
         "textfont": {
          "color": "black",
          "family": "Inter",
          "size": 14
         },
         "textposition": "middle center",
         "type": "scatter",
         "x": [
          0
         ],
         "y": [
          10
         ]
        },
        {
         "hoverinfo": "skip",
         "mode": "text",
         "showlegend": false,
         "text": [
          " modernista"
         ],
         "textfont": {
          "color": "black",
          "family": "Inter",
          "size": 14
         },
         "textposition": "middle center",
         "type": "scatter",
         "x": [
          1
         ],
         "y": [
          10
         ]
        },
        {
         "hoverinfo": "skip",
         "mode": "text",
         "showlegend": false,
         "text": [
          "16"
         ],
         "textfont": {
          "color": "black",
          "family": "Inter",
          "size": 12
         },
         "textposition": "middle center",
         "type": "scatter",
         "x": [
          1.6
         ],
         "y": [
          10.35
         ]
        },
        {
         "hoverinfo": "skip",
         "mode": "text",
         "showlegend": false,
         "text": [
          "0.145"
         ],
         "textfont": {
          "color": "black",
          "family": "Inter",
          "size": 12
         },
         "textposition": "middle center",
         "type": "scatter",
         "x": [
          2.35
         ],
         "y": [
          9.65
         ]
        },
        {
         "hoverinfo": "skip",
         "mode": "text",
         "showlegend": false,
         "text": [
          " causant"
         ],
         "textfont": {
          "color": "black",
          "family": "Inter",
          "size": 14
         },
         "textposition": "middle center",
         "type": "scatter",
         "x": [
          2
         ],
         "y": [
          10
         ]
        },
        {
         "hoverinfo": "skip",
         "mode": "text",
         "showlegend": false,
         "text": [
          "0"
         ],
         "textfont": {
          "color": "black",
          "family": "Inter",
          "size": 12
         },
         "textposition": "middle center",
         "type": "scatter",
         "x": [
          2.6
         ],
         "y": [
          10.35
         ]
        },
        {
         "hoverinfo": "skip",
         "mode": "text",
         "showlegend": false,
         "text": [
          "0.131"
         ],
         "textfont": {
          "color": "black",
          "family": "Inter",
          "size": 12
         },
         "textposition": "middle center",
         "type": "scatter",
         "x": [
          3.35
         ],
         "y": [
          9.65
         ]
        },
        {
         "hoverinfo": "skip",
         "mode": "text",
         "showlegend": false,
         "text": [
          " causant"
         ],
         "textfont": {
          "color": "black",
          "family": "Inter",
          "size": 14
         },
         "textposition": "middle center",
         "type": "scatter",
         "x": [
          3
         ],
         "y": [
          10
         ]
        },
        {
         "hoverinfo": "skip",
         "mode": "text",
         "showlegend": false,
         "text": [
          "1"
         ],
         "textfont": {
          "color": "black",
          "family": "Inter",
          "size": 12
         },
         "textposition": "middle center",
         "type": "scatter",
         "x": [
          3.6
         ],
         "y": [
          10.35
         ]
        },
        {
         "hoverinfo": "skip",
         "mode": "text",
         "showlegend": false,
         "text": [
          "0.106"
         ],
         "textfont": {
          "color": "black",
          "family": "Inter",
          "size": 12
         },
         "textposition": "middle center",
         "type": "scatter",
         "x": [
          4.35
         ],
         "y": [
          9.65
         ]
        },
        {
         "hoverinfo": "skip",
         "mode": "text",
         "showlegend": false,
         "text": [
          " modernista"
         ],
         "textfont": {
          "color": "black",
          "family": "Inter",
          "size": 14
         },
         "textposition": "middle center",
         "type": "scatter",
         "x": [
          4
         ],
         "y": [
          10
         ]
        },
        {
         "hoverinfo": "skip",
         "mode": "text",
         "showlegend": false,
         "text": [
          "2"
         ],
         "textfont": {
          "color": "black",
          "family": "Inter",
          "size": 12
         },
         "textposition": "middle center",
         "type": "scatter",
         "x": [
          4.6
         ],
         "y": [
          10.35
         ]
        },
        {
         "hoverinfo": "skip",
         "mode": "text",
         "showlegend": false,
         "text": [
          "0.075"
         ],
         "textfont": {
          "color": "black",
          "family": "Inter",
          "size": 12
         },
         "textposition": "middle center",
         "type": "scatter",
         "x": [
          5.35
         ],
         "y": [
          9.65
         ]
        },
        {
         "hoverinfo": "skip",
         "mode": "text",
         "showlegend": false,
         "text": [
          "toctree"
         ],
         "textfont": {
          "color": "black",
          "family": "Inter",
          "size": 14
         },
         "textposition": "middle center",
         "type": "scatter",
         "x": [
          5
         ],
         "y": [
          10
         ]
        },
        {
         "hoverinfo": "skip",
         "mode": "text",
         "showlegend": false,
         "text": [
          "40"
         ],
         "textfont": {
          "color": "black",
          "family": "Inter",
          "size": 12
         },
         "textposition": "middle center",
         "type": "scatter",
         "x": [
          5.6
         ],
         "y": [
          10.35
         ]
        },
        {
         "hoverinfo": "skip",
         "mode": "text",
         "showlegend": false,
         "text": [
          "0.041"
         ],
         "textfont": {
          "color": "black",
          "family": "Inter",
          "size": 12
         },
         "textposition": "middle center",
         "type": "scatter",
         "x": [
          6.35
         ],
         "y": [
          9.65
         ]
        },
        {
         "hoverinfo": "skip",
         "mode": "text",
         "showlegend": false,
         "text": [
          " modernista"
         ],
         "textfont": {
          "color": "black",
          "family": "Inter",
          "size": 14
         },
         "textposition": "middle center",
         "type": "scatter",
         "x": [
          6
         ],
         "y": [
          10
         ]
        },
        {
         "hoverinfo": "skip",
         "mode": "text",
         "showlegend": false,
         "text": [
          "30"
         ],
         "textfont": {
          "color": "black",
          "family": "Inter",
          "size": 12
         },
         "textposition": "middle center",
         "type": "scatter",
         "x": [
          6.6
         ],
         "y": [
          10.35
         ]
        },
        {
         "hoverinfo": "skip",
         "mode": "text",
         "showlegend": false,
         "text": [
          "0.039"
         ],
         "textfont": {
          "color": "black",
          "family": "Inter",
          "size": 12
         },
         "textposition": "middle center",
         "type": "scatter",
         "x": [
          7.35
         ],
         "y": [
          9.65
         ]
        },
        {
         "hoverinfo": "skip",
         "mode": "text",
         "showlegend": false,
         "text": [
          " modernista"
         ],
         "textfont": {
          "color": "black",
          "family": "Inter",
          "size": 14
         },
         "textposition": "middle center",
         "type": "scatter",
         "x": [
          7
         ],
         "y": [
          10
         ]
        },
        {
         "hoverinfo": "skip",
         "mode": "text",
         "showlegend": false,
         "text": [
          " modernista"
         ],
         "textfont": {
          "color": "black",
          "family": "Inter",
          "size": 14
         },
         "textposition": "middle center",
         "type": "scatter",
         "x": [
          0
         ],
         "y": [
          11
         ]
        },
        {
         "hoverinfo": "skip",
         "mode": "text",
         "showlegend": false,
         "text": [
          " modernista"
         ],
         "textfont": {
          "color": "black",
          "family": "Inter",
          "size": 14
         },
         "textposition": "middle center",
         "type": "scatter",
         "x": [
          1
         ],
         "y": [
          11
         ]
        },
        {
         "hoverinfo": "skip",
         "mode": "text",
         "showlegend": false,
         "text": [
          "45"
         ],
         "textfont": {
          "color": "black",
          "family": "Inter",
          "size": 12
         },
         "textposition": "middle center",
         "type": "scatter",
         "x": [
          1.6
         ],
         "y": [
          11.35
         ]
        },
        {
         "hoverinfo": "skip",
         "mode": "text",
         "showlegend": false,
         "text": [
          "0.120"
         ],
         "textfont": {
          "color": "black",
          "family": "Inter",
          "size": 12
         },
         "textposition": "middle center",
         "type": "scatter",
         "x": [
          2.35
         ],
         "y": [
          10.65
         ]
        },
        {
         "hoverinfo": "skip",
         "mode": "text",
         "showlegend": false,
         "text": [
          " modernista"
         ],
         "textfont": {
          "color": "black",
          "family": "Inter",
          "size": 14
         },
         "textposition": "middle center",
         "type": "scatter",
         "x": [
          2
         ],
         "y": [
          11
         ]
        },
        {
         "hoverinfo": "skip",
         "mode": "text",
         "showlegend": false,
         "text": [
          "30"
         ],
         "textfont": {
          "color": "black",
          "family": "Inter",
          "size": 12
         },
         "textposition": "middle center",
         "type": "scatter",
         "x": [
          2.6
         ],
         "y": [
          11.35
         ]
        },
        {
         "hoverinfo": "skip",
         "mode": "text",
         "showlegend": false,
         "text": [
          "0.071"
         ],
         "textfont": {
          "color": "black",
          "family": "Inter",
          "size": 12
         },
         "textposition": "middle center",
         "type": "scatter",
         "x": [
          3.35
         ],
         "y": [
          10.65
         ]
        },
        {
         "hoverinfo": "skip",
         "mode": "text",
         "showlegend": false,
         "text": [
          " modernista"
         ],
         "textfont": {
          "color": "black",
          "family": "Inter",
          "size": 14
         },
         "textposition": "middle center",
         "type": "scatter",
         "x": [
          3
         ],
         "y": [
          11
         ]
        },
        {
         "hoverinfo": "skip",
         "mode": "text",
         "showlegend": false,
         "text": [
          "54"
         ],
         "textfont": {
          "color": "black",
          "family": "Inter",
          "size": 12
         },
         "textposition": "middle center",
         "type": "scatter",
         "x": [
          3.6
         ],
         "y": [
          11.35
         ]
        },
        {
         "hoverinfo": "skip",
         "mode": "text",
         "showlegend": false,
         "text": [
          "0.055"
         ],
         "textfont": {
          "color": "black",
          "family": "Inter",
          "size": 12
         },
         "textposition": "middle center",
         "type": "scatter",
         "x": [
          4.35
         ],
         "y": [
          10.65
         ]
        },
        {
         "hoverinfo": "skip",
         "mode": "text",
         "showlegend": false,
         "text": [
          " modernista"
         ],
         "textfont": {
          "color": "black",
          "family": "Inter",
          "size": 14
         },
         "textposition": "middle center",
         "type": "scatter",
         "x": [
          4
         ],
         "y": [
          11
         ]
        },
        {
         "hoverinfo": "skip",
         "mode": "text",
         "showlegend": false,
         "text": [
          "44"
         ],
         "textfont": {
          "color": "black",
          "family": "Inter",
          "size": 12
         },
         "textposition": "middle center",
         "type": "scatter",
         "x": [
          4.6
         ],
         "y": [
          11.35
         ]
        },
        {
         "hoverinfo": "skip",
         "mode": "text",
         "showlegend": false,
         "text": [
          "0.054"
         ],
         "textfont": {
          "color": "black",
          "family": "Inter",
          "size": 12
         },
         "textposition": "middle center",
         "type": "scatter",
         "x": [
          5.35
         ],
         "y": [
          10.65
         ]
        },
        {
         "hoverinfo": "skip",
         "mode": "text",
         "showlegend": false,
         "text": [
          " modernista"
         ],
         "textfont": {
          "color": "black",
          "family": "Inter",
          "size": 14
         },
         "textposition": "middle center",
         "type": "scatter",
         "x": [
          5
         ],
         "y": [
          11
         ]
        },
        {
         "hoverinfo": "skip",
         "mode": "text",
         "showlegend": false,
         "text": [
          "3"
         ],
         "textfont": {
          "color": "black",
          "family": "Inter",
          "size": 12
         },
         "textposition": "middle center",
         "type": "scatter",
         "x": [
          5.6
         ],
         "y": [
          11.35
         ]
        },
        {
         "hoverinfo": "skip",
         "mode": "text",
         "showlegend": false,
         "text": [
          "0.053"
         ],
         "textfont": {
          "color": "black",
          "family": "Inter",
          "size": 12
         },
         "textposition": "middle center",
         "type": "scatter",
         "x": [
          6.35
         ],
         "y": [
          10.65
         ]
        },
        {
         "hoverinfo": "skip",
         "mode": "text",
         "showlegend": false,
         "text": [
          " modernista"
         ],
         "textfont": {
          "color": "black",
          "family": "Inter",
          "size": 14
         },
         "textposition": "middle center",
         "type": "scatter",
         "x": [
          6
         ],
         "y": [
          11
         ]
        },
        {
         "hoverinfo": "skip",
         "mode": "text",
         "showlegend": false,
         "text": [
          "2"
         ],
         "textfont": {
          "color": "black",
          "family": "Inter",
          "size": 12
         },
         "textposition": "middle center",
         "type": "scatter",
         "x": [
          6.6
         ],
         "y": [
          11.35
         ]
        },
        {
         "hoverinfo": "skip",
         "mode": "text",
         "showlegend": false,
         "text": [
          "0.038"
         ],
         "textfont": {
          "color": "black",
          "family": "Inter",
          "size": 12
         },
         "textposition": "middle center",
         "type": "scatter",
         "x": [
          7.35
         ],
         "y": [
          10.65
         ]
        },
        {
         "hoverinfo": "skip",
         "mode": "text",
         "showlegend": false,
         "text": [
          " modernista"
         ],
         "textfont": {
          "color": "black",
          "family": "Inter",
          "size": 14
         },
         "textposition": "middle center",
         "type": "scatter",
         "x": [
          7
         ],
         "y": [
          11
         ]
        },
        {
         "hoverinfo": "skip",
         "mode": "text",
         "showlegend": false,
         "text": [
          "原文地址"
         ],
         "textfont": {
          "color": "black",
          "family": "Inter",
          "size": 14
         },
         "textposition": "middle center",
         "type": "scatter",
         "x": [
          0
         ],
         "y": [
          12
         ]
        },
        {
         "hoverinfo": "skip",
         "mode": "text",
         "showlegend": false,
         "text": [
          " modernista"
         ],
         "textfont": {
          "color": "black",
          "family": "Inter",
          "size": 14
         },
         "textposition": "middle center",
         "type": "scatter",
         "x": [
          1
         ],
         "y": [
          12
         ]
        },
        {
         "hoverinfo": "skip",
         "mode": "text",
         "showlegend": false,
         "text": [
          "48"
         ],
         "textfont": {
          "color": "black",
          "family": "Inter",
          "size": 12
         },
         "textposition": "middle center",
         "type": "scatter",
         "x": [
          1.6
         ],
         "y": [
          12.35
         ]
        },
        {
         "hoverinfo": "skip",
         "mode": "text",
         "showlegend": false,
         "text": [
          "0.155"
         ],
         "textfont": {
          "color": "black",
          "family": "Inter",
          "size": 12
         },
         "textposition": "middle center",
         "type": "scatter",
         "x": [
          2.35
         ],
         "y": [
          11.65
         ]
        },
        {
         "hoverinfo": "skip",
         "mode": "text",
         "showlegend": false,
         "text": [
          " modernista"
         ],
         "textfont": {
          "color": "black",
          "family": "Inter",
          "size": 14
         },
         "textposition": "middle center",
         "type": "scatter",
         "x": [
          2
         ],
         "y": [
          12
         ]
        },
        {
         "hoverinfo": "skip",
         "mode": "text",
         "showlegend": false,
         "text": [
          "1"
         ],
         "textfont": {
          "color": "black",
          "family": "Inter",
          "size": 12
         },
         "textposition": "middle center",
         "type": "scatter",
         "x": [
          2.6
         ],
         "y": [
          12.35
         ]
        },
        {
         "hoverinfo": "skip",
         "mode": "text",
         "showlegend": false,
         "text": [
          "0.077"
         ],
         "textfont": {
          "color": "black",
          "family": "Inter",
          "size": 12
         },
         "textposition": "middle center",
         "type": "scatter",
         "x": [
          3.35
         ],
         "y": [
          11.65
         ]
        },
        {
         "hoverinfo": "skip",
         "mode": "text",
         "showlegend": false,
         "text": [
          " modernista"
         ],
         "textfont": {
          "color": "black",
          "family": "Inter",
          "size": 14
         },
         "textposition": "middle center",
         "type": "scatter",
         "x": [
          3
         ],
         "y": [
          12
         ]
        },
        {
         "hoverinfo": "skip",
         "mode": "text",
         "showlegend": false,
         "text": [
          "33"
         ],
         "textfont": {
          "color": "black",
          "family": "Inter",
          "size": 12
         },
         "textposition": "middle center",
         "type": "scatter",
         "x": [
          3.6
         ],
         "y": [
          12.35
         ]
        },
        {
         "hoverinfo": "skip",
         "mode": "text",
         "showlegend": false,
         "text": [
          "0.075"
         ],
         "textfont": {
          "color": "black",
          "family": "Inter",
          "size": 12
         },
         "textposition": "middle center",
         "type": "scatter",
         "x": [
          4.35
         ],
         "y": [
          11.65
         ]
        },
        {
         "hoverinfo": "skip",
         "mode": "text",
         "showlegend": false,
         "text": [
          " modernista"
         ],
         "textfont": {
          "color": "black",
          "family": "Inter",
          "size": 14
         },
         "textposition": "middle center",
         "type": "scatter",
         "x": [
          4
         ],
         "y": [
          12
         ]
        },
        {
         "hoverinfo": "skip",
         "mode": "text",
         "showlegend": false,
         "text": [
          "61"
         ],
         "textfont": {
          "color": "black",
          "family": "Inter",
          "size": 12
         },
         "textposition": "middle center",
         "type": "scatter",
         "x": [
          4.6
         ],
         "y": [
          12.35
         ]
        },
        {
         "hoverinfo": "skip",
         "mode": "text",
         "showlegend": false,
         "text": [
          "0.048"
         ],
         "textfont": {
          "color": "black",
          "family": "Inter",
          "size": 12
         },
         "textposition": "middle center",
         "type": "scatter",
         "x": [
          5.35
         ],
         "y": [
          11.65
         ]
        },
        {
         "hoverinfo": "skip",
         "mode": "text",
         "showlegend": false,
         "text": [
          " modernista"
         ],
         "textfont": {
          "color": "black",
          "family": "Inter",
          "size": 14
         },
         "textposition": "middle center",
         "type": "scatter",
         "x": [
          5
         ],
         "y": [
          12
         ]
        },
        {
         "hoverinfo": "skip",
         "mode": "text",
         "showlegend": false,
         "text": [
          "54"
         ],
         "textfont": {
          "color": "black",
          "family": "Inter",
          "size": 12
         },
         "textposition": "middle center",
         "type": "scatter",
         "x": [
          5.6
         ],
         "y": [
          12.35
         ]
        },
        {
         "hoverinfo": "skip",
         "mode": "text",
         "showlegend": false,
         "text": [
          "0.046"
         ],
         "textfont": {
          "color": "black",
          "family": "Inter",
          "size": 12
         },
         "textposition": "middle center",
         "type": "scatter",
         "x": [
          6.35
         ],
         "y": [
          11.65
         ]
        },
        {
         "hoverinfo": "skip",
         "mode": "text",
         "showlegend": false,
         "text": [
          " modernista"
         ],
         "textfont": {
          "color": "black",
          "family": "Inter",
          "size": 14
         },
         "textposition": "middle center",
         "type": "scatter",
         "x": [
          6
         ],
         "y": [
          12
         ]
        },
        {
         "hoverinfo": "skip",
         "mode": "text",
         "showlegend": false,
         "text": [
          "35"
         ],
         "textfont": {
          "color": "black",
          "family": "Inter",
          "size": 12
         },
         "textposition": "middle center",
         "type": "scatter",
         "x": [
          6.6
         ],
         "y": [
          12.35
         ]
        },
        {
         "hoverinfo": "skip",
         "mode": "text",
         "showlegend": false,
         "text": [
          "0.028"
         ],
         "textfont": {
          "color": "black",
          "family": "Inter",
          "size": 12
         },
         "textposition": "middle center",
         "type": "scatter",
         "x": [
          7.35
         ],
         "y": [
          11.65
         ]
        },
        {
         "hoverinfo": "skip",
         "mode": "text",
         "showlegend": false,
         "text": [
          " modernista"
         ],
         "textfont": {
          "color": "black",
          "family": "Inter",
          "size": 14
         },
         "textposition": "middle center",
         "type": "scatter",
         "x": [
          7
         ],
         "y": [
          12
         ]
        },
        {
         "hoverinfo": "skip",
         "mode": "text",
         "showlegend": false,
         "text": [
          "原文地址"
         ],
         "textfont": {
          "color": "black",
          "family": "Inter",
          "size": 14
         },
         "textposition": "middle center",
         "type": "scatter",
         "x": [
          0
         ],
         "y": [
          13
         ]
        },
        {
         "hoverinfo": "skip",
         "mode": "text",
         "showlegend": false,
         "text": [
          "原文地址"
         ],
         "textfont": {
          "color": "black",
          "family": "Inter",
          "size": 14
         },
         "textposition": "middle center",
         "type": "scatter",
         "x": [
          1
         ],
         "y": [
          13
         ]
        },
        {
         "hoverinfo": "skip",
         "mode": "text",
         "showlegend": false,
         "text": [
          "18"
         ],
         "textfont": {
          "color": "black",
          "family": "Inter",
          "size": 12
         },
         "textposition": "middle center",
         "type": "scatter",
         "x": [
          1.6
         ],
         "y": [
          13.35
         ]
        },
        {
         "hoverinfo": "skip",
         "mode": "text",
         "showlegend": false,
         "text": [
          "0.095"
         ],
         "textfont": {
          "color": "black",
          "family": "Inter",
          "size": 12
         },
         "textposition": "middle center",
         "type": "scatter",
         "x": [
          2.35
         ],
         "y": [
          12.65
         ]
        },
        {
         "hoverinfo": "skip",
         "mode": "text",
         "showlegend": false,
         "text": [
          "原文地址"
         ],
         "textfont": {
          "color": "black",
          "family": "Inter",
          "size": 14
         },
         "textposition": "middle center",
         "type": "scatter",
         "x": [
          2
         ],
         "y": [
          13
         ]
        },
        {
         "hoverinfo": "skip",
         "mode": "text",
         "showlegend": false,
         "text": [
          "38"
         ],
         "textfont": {
          "color": "black",
          "family": "Inter",
          "size": 12
         },
         "textposition": "middle center",
         "type": "scatter",
         "x": [
          2.6
         ],
         "y": [
          13.35
         ]
        },
        {
         "hoverinfo": "skip",
         "mode": "text",
         "showlegend": false,
         "text": [
          "0.077"
         ],
         "textfont": {
          "color": "black",
          "family": "Inter",
          "size": 12
         },
         "textposition": "middle center",
         "type": "scatter",
         "x": [
          3.35
         ],
         "y": [
          12.65
         ]
        },
        {
         "hoverinfo": "skip",
         "mode": "text",
         "showlegend": false,
         "text": [
          "原文地址"
         ],
         "textfont": {
          "color": "black",
          "family": "Inter",
          "size": 14
         },
         "textposition": "middle center",
         "type": "scatter",
         "x": [
          3
         ],
         "y": [
          13
         ]
        },
        {
         "hoverinfo": "skip",
         "mode": "text",
         "showlegend": false,
         "text": [
          "55"
         ],
         "textfont": {
          "color": "black",
          "family": "Inter",
          "size": 12
         },
         "textposition": "middle center",
         "type": "scatter",
         "x": [
          3.6
         ],
         "y": [
          13.35
         ]
        },
        {
         "hoverinfo": "skip",
         "mode": "text",
         "showlegend": false,
         "text": [
          "0.070"
         ],
         "textfont": {
          "color": "black",
          "family": "Inter",
          "size": 12
         },
         "textposition": "middle center",
         "type": "scatter",
         "x": [
          4.35
         ],
         "y": [
          12.65
         ]
        },
        {
         "hoverinfo": "skip",
         "mode": "text",
         "showlegend": false,
         "text": [
          "原文地址"
         ],
         "textfont": {
          "color": "black",
          "family": "Inter",
          "size": 14
         },
         "textposition": "middle center",
         "type": "scatter",
         "x": [
          4
         ],
         "y": [
          13
         ]
        },
        {
         "hoverinfo": "skip",
         "mode": "text",
         "showlegend": false,
         "text": [
          "9"
         ],
         "textfont": {
          "color": "black",
          "family": "Inter",
          "size": 12
         },
         "textposition": "middle center",
         "type": "scatter",
         "x": [
          4.6
         ],
         "y": [
          13.35
         ]
        },
        {
         "hoverinfo": "skip",
         "mode": "text",
         "showlegend": false,
         "text": [
          "0.065"
         ],
         "textfont": {
          "color": "black",
          "family": "Inter",
          "size": 12
         },
         "textposition": "middle center",
         "type": "scatter",
         "x": [
          5.35
         ],
         "y": [
          12.65
         ]
        },
        {
         "hoverinfo": "skip",
         "mode": "text",
         "showlegend": false,
         "text": [
          "原文地址"
         ],
         "textfont": {
          "color": "black",
          "family": "Inter",
          "size": 14
         },
         "textposition": "middle center",
         "type": "scatter",
         "x": [
          5
         ],
         "y": [
          13
         ]
        },
        {
         "hoverinfo": "skip",
         "mode": "text",
         "showlegend": false,
         "text": [
          "23"
         ],
         "textfont": {
          "color": "black",
          "family": "Inter",
          "size": 12
         },
         "textposition": "middle center",
         "type": "scatter",
         "x": [
          5.6
         ],
         "y": [
          13.35
         ]
        },
        {
         "hoverinfo": "skip",
         "mode": "text",
         "showlegend": false,
         "text": [
          "0.064"
         ],
         "textfont": {
          "color": "black",
          "family": "Inter",
          "size": 12
         },
         "textposition": "middle center",
         "type": "scatter",
         "x": [
          6.35
         ],
         "y": [
          12.65
         ]
        },
        {
         "hoverinfo": "skip",
         "mode": "text",
         "showlegend": false,
         "text": [
          "原文地址"
         ],
         "textfont": {
          "color": "black",
          "family": "Inter",
          "size": 14
         },
         "textposition": "middle center",
         "type": "scatter",
         "x": [
          6
         ],
         "y": [
          13
         ]
        },
        {
         "hoverinfo": "skip",
         "mode": "text",
         "showlegend": false,
         "text": [
          "33"
         ],
         "textfont": {
          "color": "black",
          "family": "Inter",
          "size": 12
         },
         "textposition": "middle center",
         "type": "scatter",
         "x": [
          6.6
         ],
         "y": [
          13.35
         ]
        },
        {
         "hoverinfo": "skip",
         "mode": "text",
         "showlegend": false,
         "text": [
          "0.055"
         ],
         "textfont": {
          "color": "black",
          "family": "Inter",
          "size": 12
         },
         "textposition": "middle center",
         "type": "scatter",
         "x": [
          7.35
         ],
         "y": [
          12.65
         ]
        },
        {
         "hoverinfo": "skip",
         "mode": "text",
         "showlegend": false,
         "text": [
          "原文地址"
         ],
         "textfont": {
          "color": "black",
          "family": "Inter",
          "size": 14
         },
         "textposition": "middle center",
         "type": "scatter",
         "x": [
          7
         ],
         "y": [
          13
         ]
        },
        {
         "hoverinfo": "skip",
         "mode": "text",
         "showlegend": false,
         "text": [
          "原文地址"
         ],
         "textfont": {
          "color": "black",
          "family": "Inter",
          "size": 14
         },
         "textposition": "middle center",
         "type": "scatter",
         "x": [
          0
         ],
         "y": [
          14
         ]
        },
        {
         "hoverinfo": "skip",
         "mode": "text",
         "showlegend": false,
         "text": [
          "原文地址"
         ],
         "textfont": {
          "color": "black",
          "family": "Inter",
          "size": 14
         },
         "textposition": "middle center",
         "type": "scatter",
         "x": [
          1
         ],
         "y": [
          14
         ]
        },
        {
         "hoverinfo": "skip",
         "mode": "text",
         "showlegend": false,
         "text": [
          "44"
         ],
         "textfont": {
          "color": "black",
          "family": "Inter",
          "size": 12
         },
         "textposition": "middle center",
         "type": "scatter",
         "x": [
          1.6
         ],
         "y": [
          14.35
         ]
        },
        {
         "hoverinfo": "skip",
         "mode": "text",
         "showlegend": false,
         "text": [
          "0.112"
         ],
         "textfont": {
          "color": "black",
          "family": "Inter",
          "size": 12
         },
         "textposition": "middle center",
         "type": "scatter",
         "x": [
          2.35
         ],
         "y": [
          13.65
         ]
        },
        {
         "hoverinfo": "skip",
         "mode": "text",
         "showlegend": false,
         "text": [
          "原文地址"
         ],
         "textfont": {
          "color": "black",
          "family": "Inter",
          "size": 14
         },
         "textposition": "middle center",
         "type": "scatter",
         "x": [
          2
         ],
         "y": [
          14
         ]
        },
        {
         "hoverinfo": "skip",
         "mode": "text",
         "showlegend": false,
         "text": [
          "4"
         ],
         "textfont": {
          "color": "black",
          "family": "Inter",
          "size": 12
         },
         "textposition": "middle center",
         "type": "scatter",
         "x": [
          2.6
         ],
         "y": [
          14.35
         ]
        },
        {
         "hoverinfo": "skip",
         "mode": "text",
         "showlegend": false,
         "text": [
          "0.104"
         ],
         "textfont": {
          "color": "black",
          "family": "Inter",
          "size": 12
         },
         "textposition": "middle center",
         "type": "scatter",
         "x": [
          3.35
         ],
         "y": [
          13.65
         ]
        },
        {
         "hoverinfo": "skip",
         "mode": "text",
         "showlegend": false,
         "text": [
          "原文地址"
         ],
         "textfont": {
          "color": "black",
          "family": "Inter",
          "size": 14
         },
         "textposition": "middle center",
         "type": "scatter",
         "x": [
          3
         ],
         "y": [
          14
         ]
        },
        {
         "hoverinfo": "skip",
         "mode": "text",
         "showlegend": false,
         "text": [
          "10"
         ],
         "textfont": {
          "color": "black",
          "family": "Inter",
          "size": 12
         },
         "textposition": "middle center",
         "type": "scatter",
         "x": [
          3.6
         ],
         "y": [
          14.35
         ]
        },
        {
         "hoverinfo": "skip",
         "mode": "text",
         "showlegend": false,
         "text": [
          "0.069"
         ],
         "textfont": {
          "color": "black",
          "family": "Inter",
          "size": 12
         },
         "textposition": "middle center",
         "type": "scatter",
         "x": [
          4.35
         ],
         "y": [
          13.65
         ]
        },
        {
         "hoverinfo": "skip",
         "mode": "text",
         "showlegend": false,
         "text": [
          "原文地址"
         ],
         "textfont": {
          "color": "black",
          "family": "Inter",
          "size": 14
         },
         "textposition": "middle center",
         "type": "scatter",
         "x": [
          4
         ],
         "y": [
          14
         ]
        },
        {
         "hoverinfo": "skip",
         "mode": "text",
         "showlegend": false,
         "text": [
          "36"
         ],
         "textfont": {
          "color": "black",
          "family": "Inter",
          "size": 12
         },
         "textposition": "middle center",
         "type": "scatter",
         "x": [
          4.6
         ],
         "y": [
          14.35
         ]
        },
        {
         "hoverinfo": "skip",
         "mode": "text",
         "showlegend": false,
         "text": [
          "0.068"
         ],
         "textfont": {
          "color": "black",
          "family": "Inter",
          "size": 12
         },
         "textposition": "middle center",
         "type": "scatter",
         "x": [
          5.35
         ],
         "y": [
          13.65
         ]
        },
        {
         "hoverinfo": "skip",
         "mode": "text",
         "showlegend": false,
         "text": [
          "原文地址"
         ],
         "textfont": {
          "color": "black",
          "family": "Inter",
          "size": 14
         },
         "textposition": "middle center",
         "type": "scatter",
         "x": [
          5
         ],
         "y": [
          14
         ]
        },
        {
         "hoverinfo": "skip",
         "mode": "text",
         "showlegend": false,
         "text": [
          "2"
         ],
         "textfont": {
          "color": "black",
          "family": "Inter",
          "size": 12
         },
         "textposition": "middle center",
         "type": "scatter",
         "x": [
          5.6
         ],
         "y": [
          14.35
         ]
        },
        {
         "hoverinfo": "skip",
         "mode": "text",
         "showlegend": false,
         "text": [
          "0.037"
         ],
         "textfont": {
          "color": "black",
          "family": "Inter",
          "size": 12
         },
         "textposition": "middle center",
         "type": "scatter",
         "x": [
          6.35
         ],
         "y": [
          13.65
         ]
        },
        {
         "hoverinfo": "skip",
         "mode": "text",
         "showlegend": false,
         "text": [
          "原文地址"
         ],
         "textfont": {
          "color": "black",
          "family": "Inter",
          "size": 14
         },
         "textposition": "middle center",
         "type": "scatter",
         "x": [
          6
         ],
         "y": [
          14
         ]
        },
        {
         "hoverinfo": "skip",
         "mode": "text",
         "showlegend": false,
         "text": [
          "45"
         ],
         "textfont": {
          "color": "black",
          "family": "Inter",
          "size": 12
         },
         "textposition": "middle center",
         "type": "scatter",
         "x": [
          6.6
         ],
         "y": [
          14.35
         ]
        },
        {
         "hoverinfo": "skip",
         "mode": "text",
         "showlegend": false,
         "text": [
          "0.033"
         ],
         "textfont": {
          "color": "black",
          "family": "Inter",
          "size": 12
         },
         "textposition": "middle center",
         "type": "scatter",
         "x": [
          7.35
         ],
         "y": [
          13.65
         ]
        },
        {
         "hoverinfo": "skip",
         "mode": "text",
         "showlegend": false,
         "text": [
          "原文地址"
         ],
         "textfont": {
          "color": "black",
          "family": "Inter",
          "size": 14
         },
         "textposition": "middle center",
         "type": "scatter",
         "x": [
          7
         ],
         "y": [
          14
         ]
        },
        {
         "hoverinfo": "skip",
         "mode": "text",
         "showlegend": false,
         "text": [
          " modernista"
         ],
         "textfont": {
          "color": "black",
          "family": "Inter",
          "size": 14
         },
         "textposition": "middle center",
         "type": "scatter",
         "x": [
          0
         ],
         "y": [
          15
         ]
        },
        {
         "hoverinfo": "skip",
         "mode": "text",
         "showlegend": false,
         "text": [
          "原文地址"
         ],
         "textfont": {
          "color": "black",
          "family": "Inter",
          "size": 14
         },
         "textposition": "middle center",
         "type": "scatter",
         "x": [
          1
         ],
         "y": [
          15
         ]
        },
        {
         "hoverinfo": "skip",
         "mode": "text",
         "showlegend": false,
         "text": [
          "27"
         ],
         "textfont": {
          "color": "black",
          "family": "Inter",
          "size": 12
         },
         "textposition": "middle center",
         "type": "scatter",
         "x": [
          1.6
         ],
         "y": [
          15.35
         ]
        },
        {
         "hoverinfo": "skip",
         "mode": "text",
         "showlegend": false,
         "text": [
          "0.137"
         ],
         "textfont": {
          "color": "black",
          "family": "Inter",
          "size": 12
         },
         "textposition": "middle center",
         "type": "scatter",
         "x": [
          2.35
         ],
         "y": [
          14.65
         ]
        },
        {
         "hoverinfo": "skip",
         "mode": "text",
         "showlegend": false,
         "text": [
          "原文地址"
         ],
         "textfont": {
          "color": "black",
          "family": "Inter",
          "size": 14
         },
         "textposition": "middle center",
         "type": "scatter",
         "x": [
          2
         ],
         "y": [
          15
         ]
        },
        {
         "hoverinfo": "skip",
         "mode": "text",
         "showlegend": false,
         "text": [
          "28"
         ],
         "textfont": {
          "color": "black",
          "family": "Inter",
          "size": 12
         },
         "textposition": "middle center",
         "type": "scatter",
         "x": [
          2.6
         ],
         "y": [
          15.35
         ]
        },
        {
         "hoverinfo": "skip",
         "mode": "text",
         "showlegend": false,
         "text": [
          "0.063"
         ],
         "textfont": {
          "color": "black",
          "family": "Inter",
          "size": 12
         },
         "textposition": "middle center",
         "type": "scatter",
         "x": [
          3.35
         ],
         "y": [
          14.65
         ]
        },
        {
         "hoverinfo": "skip",
         "mode": "text",
         "showlegend": false,
         "text": [
          "原文地址"
         ],
         "textfont": {
          "color": "black",
          "family": "Inter",
          "size": 14
         },
         "textposition": "middle center",
         "type": "scatter",
         "x": [
          3
         ],
         "y": [
          15
         ]
        },
        {
         "hoverinfo": "skip",
         "mode": "text",
         "showlegend": false,
         "text": [
          "18"
         ],
         "textfont": {
          "color": "black",
          "family": "Inter",
          "size": 12
         },
         "textposition": "middle center",
         "type": "scatter",
         "x": [
          3.6
         ],
         "y": [
          15.35
         ]
        },
        {
         "hoverinfo": "skip",
         "mode": "text",
         "showlegend": false,
         "text": [
          "0.061"
         ],
         "textfont": {
          "color": "black",
          "family": "Inter",
          "size": 12
         },
         "textposition": "middle center",
         "type": "scatter",
         "x": [
          4.35
         ],
         "y": [
          14.65
         ]
        },
        {
         "hoverinfo": "skip",
         "mode": "text",
         "showlegend": false,
         "text": [
          "原文地址"
         ],
         "textfont": {
          "color": "black",
          "family": "Inter",
          "size": 14
         },
         "textposition": "middle center",
         "type": "scatter",
         "x": [
          4
         ],
         "y": [
          15
         ]
        },
        {
         "hoverinfo": "skip",
         "mode": "text",
         "showlegend": false,
         "text": [
          "59"
         ],
         "textfont": {
          "color": "black",
          "family": "Inter",
          "size": 12
         },
         "textposition": "middle center",
         "type": "scatter",
         "x": [
          4.6
         ],
         "y": [
          15.35
         ]
        },
        {
         "hoverinfo": "skip",
         "mode": "text",
         "showlegend": false,
         "text": [
          "0.061"
         ],
         "textfont": {
          "color": "black",
          "family": "Inter",
          "size": 12
         },
         "textposition": "middle center",
         "type": "scatter",
         "x": [
          5.35
         ],
         "y": [
          14.65
         ]
        },
        {
         "hoverinfo": "skip",
         "mode": "text",
         "showlegend": false,
         "text": [
          "原文地址"
         ],
         "textfont": {
          "color": "black",
          "family": "Inter",
          "size": 14
         },
         "textposition": "middle center",
         "type": "scatter",
         "x": [
          5
         ],
         "y": [
          15
         ]
        },
        {
         "hoverinfo": "skip",
         "mode": "text",
         "showlegend": false,
         "text": [
          "2"
         ],
         "textfont": {
          "color": "black",
          "family": "Inter",
          "size": 12
         },
         "textposition": "middle center",
         "type": "scatter",
         "x": [
          5.6
         ],
         "y": [
          15.35
         ]
        },
        {
         "hoverinfo": "skip",
         "mode": "text",
         "showlegend": false,
         "text": [
          "0.055"
         ],
         "textfont": {
          "color": "black",
          "family": "Inter",
          "size": 12
         },
         "textposition": "middle center",
         "type": "scatter",
         "x": [
          6.35
         ],
         "y": [
          14.65
         ]
        },
        {
         "hoverinfo": "skip",
         "mode": "text",
         "showlegend": false,
         "text": [
          "原文地址"
         ],
         "textfont": {
          "color": "black",
          "family": "Inter",
          "size": 14
         },
         "textposition": "middle center",
         "type": "scatter",
         "x": [
          6
         ],
         "y": [
          15
         ]
        },
        {
         "hoverinfo": "skip",
         "mode": "text",
         "showlegend": false,
         "text": [
          "46"
         ],
         "textfont": {
          "color": "black",
          "family": "Inter",
          "size": 12
         },
         "textposition": "middle center",
         "type": "scatter",
         "x": [
          6.6
         ],
         "y": [
          15.35
         ]
        },
        {
         "hoverinfo": "skip",
         "mode": "text",
         "showlegend": false,
         "text": [
          "0.053"
         ],
         "textfont": {
          "color": "black",
          "family": "Inter",
          "size": 12
         },
         "textposition": "middle center",
         "type": "scatter",
         "x": [
          7.35
         ],
         "y": [
          14.65
         ]
        },
        {
         "hoverinfo": "skip",
         "mode": "text",
         "showlegend": false,
         "text": [
          "原文地址"
         ],
         "textfont": {
          "color": "black",
          "family": "Inter",
          "size": 14
         },
         "textposition": "middle center",
         "type": "scatter",
         "x": [
          7
         ],
         "y": [
          15
         ]
        },
        {
         "hoverinfo": "skip",
         "mode": "text",
         "showlegend": false,
         "text": [
          "4"
         ],
         "textfont": {
          "color": "black",
          "family": "Inter",
          "size": 14
         },
         "textposition": "middle center",
         "type": "scatter",
         "x": [
          0
         ],
         "y": [
          16
         ]
        },
        {
         "hoverinfo": "skip",
         "mode": "text",
         "showlegend": false,
         "text": [
          "原文地址"
         ],
         "textfont": {
          "color": "black",
          "family": "Inter",
          "size": 14
         },
         "textposition": "middle center",
         "type": "scatter",
         "x": [
          1
         ],
         "y": [
          16
         ]
        },
        {
         "hoverinfo": "skip",
         "mode": "text",
         "showlegend": false,
         "text": [
          "19"
         ],
         "textfont": {
          "color": "black",
          "family": "Inter",
          "size": 12
         },
         "textposition": "middle center",
         "type": "scatter",
         "x": [
          1.6
         ],
         "y": [
          16.35
         ]
        },
        {
         "hoverinfo": "skip",
         "mode": "text",
         "showlegend": false,
         "text": [
          "0.153"
         ],
         "textfont": {
          "color": "black",
          "family": "Inter",
          "size": 12
         },
         "textposition": "middle center",
         "type": "scatter",
         "x": [
          2.35
         ],
         "y": [
          15.65
         ]
        },
        {
         "hoverinfo": "skip",
         "mode": "text",
         "showlegend": false,
         "text": [
          "4"
         ],
         "textfont": {
          "color": "black",
          "family": "Inter",
          "size": 14
         },
         "textposition": "middle center",
         "type": "scatter",
         "x": [
          2
         ],
         "y": [
          16
         ]
        },
        {
         "hoverinfo": "skip",
         "mode": "text",
         "showlegend": false,
         "text": [
          "16"
         ],
         "textfont": {
          "color": "black",
          "family": "Inter",
          "size": 12
         },
         "textposition": "middle center",
         "type": "scatter",
         "x": [
          2.6
         ],
         "y": [
          16.35
         ]
        },
        {
         "hoverinfo": "skip",
         "mode": "text",
         "showlegend": false,
         "text": [
          "0.072"
         ],
         "textfont": {
          "color": "black",
          "family": "Inter",
          "size": 12
         },
         "textposition": "middle center",
         "type": "scatter",
         "x": [
          3.35
         ],
         "y": [
          15.65
         ]
        },
        {
         "hoverinfo": "skip",
         "mode": "text",
         "showlegend": false,
         "text": [
          " modernista"
         ],
         "textfont": {
          "color": "black",
          "family": "Inter",
          "size": 14
         },
         "textposition": "middle center",
         "type": "scatter",
         "x": [
          3
         ],
         "y": [
          16
         ]
        },
        {
         "hoverinfo": "skip",
         "mode": "text",
         "showlegend": false,
         "text": [
          "40"
         ],
         "textfont": {
          "color": "black",
          "family": "Inter",
          "size": 12
         },
         "textposition": "middle center",
         "type": "scatter",
         "x": [
          3.6
         ],
         "y": [
          16.35
         ]
        },
        {
         "hoverinfo": "skip",
         "mode": "text",
         "showlegend": false,
         "text": [
          "0.061"
         ],
         "textfont": {
          "color": "black",
          "family": "Inter",
          "size": 12
         },
         "textposition": "middle center",
         "type": "scatter",
         "x": [
          4.35
         ],
         "y": [
          15.65
         ]
        },
        {
         "hoverinfo": "skip",
         "mode": "text",
         "showlegend": false,
         "text": [
          "原文地址"
         ],
         "textfont": {
          "color": "black",
          "family": "Inter",
          "size": 14
         },
         "textposition": "middle center",
         "type": "scatter",
         "x": [
          4
         ],
         "y": [
          16
         ]
        },
        {
         "hoverinfo": "skip",
         "mode": "text",
         "showlegend": false,
         "text": [
          "23"
         ],
         "textfont": {
          "color": "black",
          "family": "Inter",
          "size": 12
         },
         "textposition": "middle center",
         "type": "scatter",
         "x": [
          4.6
         ],
         "y": [
          16.35
         ]
        },
        {
         "hoverinfo": "skip",
         "mode": "text",
         "showlegend": false,
         "text": [
          "0.059"
         ],
         "textfont": {
          "color": "black",
          "family": "Inter",
          "size": 12
         },
         "textposition": "middle center",
         "type": "scatter",
         "x": [
          5.35
         ],
         "y": [
          15.65
         ]
        },
        {
         "hoverinfo": "skip",
         "mode": "text",
         "showlegend": false,
         "text": [
          "原文地址"
         ],
         "textfont": {
          "color": "black",
          "family": "Inter",
          "size": 14
         },
         "textposition": "middle center",
         "type": "scatter",
         "x": [
          5
         ],
         "y": [
          16
         ]
        },
        {
         "hoverinfo": "skip",
         "mode": "text",
         "showlegend": false,
         "text": [
          "36"
         ],
         "textfont": {
          "color": "black",
          "family": "Inter",
          "size": 12
         },
         "textposition": "middle center",
         "type": "scatter",
         "x": [
          5.6
         ],
         "y": [
          16.35
         ]
        },
        {
         "hoverinfo": "skip",
         "mode": "text",
         "showlegend": false,
         "text": [
          "0.055"
         ],
         "textfont": {
          "color": "black",
          "family": "Inter",
          "size": 12
         },
         "textposition": "middle center",
         "type": "scatter",
         "x": [
          6.35
         ],
         "y": [
          15.65
         ]
        },
        {
         "hoverinfo": "skip",
         "mode": "text",
         "showlegend": false,
         "text": [
          "4"
         ],
         "textfont": {
          "color": "black",
          "family": "Inter",
          "size": 14
         },
         "textposition": "middle center",
         "type": "scatter",
         "x": [
          6
         ],
         "y": [
          16
         ]
        },
        {
         "hoverinfo": "skip",
         "mode": "text",
         "showlegend": false,
         "text": [
          "10"
         ],
         "textfont": {
          "color": "black",
          "family": "Inter",
          "size": 12
         },
         "textposition": "middle center",
         "type": "scatter",
         "x": [
          6.6
         ],
         "y": [
          16.35
         ]
        },
        {
         "hoverinfo": "skip",
         "mode": "text",
         "showlegend": false,
         "text": [
          "0.054"
         ],
         "textfont": {
          "color": "black",
          "family": "Inter",
          "size": 12
         },
         "textposition": "middle center",
         "type": "scatter",
         "x": [
          7.35
         ],
         "y": [
          15.65
         ]
        },
        {
         "hoverinfo": "skip",
         "mode": "text",
         "showlegend": false,
         "text": [
          "4"
         ],
         "textfont": {
          "color": "black",
          "family": "Inter",
          "size": 14
         },
         "textposition": "middle center",
         "type": "scatter",
         "x": [
          7
         ],
         "y": [
          16
         ]
        },
        {
         "hoverinfo": "skip",
         "mode": "text",
         "showlegend": false,
         "text": [
          " modernista"
         ],
         "textfont": {
          "color": "black",
          "family": "Inter",
          "size": 14
         },
         "textposition": "middle center",
         "type": "scatter",
         "x": [
          0
         ],
         "y": [
          17
         ]
        },
        {
         "hoverinfo": "skip",
         "mode": "text",
         "showlegend": false,
         "text": [
          " modernista"
         ],
         "textfont": {
          "color": "black",
          "family": "Inter",
          "size": 14
         },
         "textposition": "middle center",
         "type": "scatter",
         "x": [
          1
         ],
         "y": [
          17
         ]
        },
        {
         "hoverinfo": "skip",
         "mode": "text",
         "showlegend": false,
         "text": [
          "57"
         ],
         "textfont": {
          "color": "black",
          "family": "Inter",
          "size": 12
         },
         "textposition": "middle center",
         "type": "scatter",
         "x": [
          1.6
         ],
         "y": [
          17.35
         ]
        },
        {
         "hoverinfo": "skip",
         "mode": "text",
         "showlegend": false,
         "text": [
          "0.107"
         ],
         "textfont": {
          "color": "black",
          "family": "Inter",
          "size": 12
         },
         "textposition": "middle center",
         "type": "scatter",
         "x": [
          2.35
         ],
         "y": [
          16.65
         ]
        },
        {
         "hoverinfo": "skip",
         "mode": "text",
         "showlegend": false,
         "text": [
          " modernista"
         ],
         "textfont": {
          "color": "black",
          "family": "Inter",
          "size": 14
         },
         "textposition": "middle center",
         "type": "scatter",
         "x": [
          2
         ],
         "y": [
          17
         ]
        },
        {
         "hoverinfo": "skip",
         "mode": "text",
         "showlegend": false,
         "text": [
          "17"
         ],
         "textfont": {
          "color": "black",
          "family": "Inter",
          "size": 12
         },
         "textposition": "middle center",
         "type": "scatter",
         "x": [
          2.6
         ],
         "y": [
          17.35
         ]
        },
        {
         "hoverinfo": "skip",
         "mode": "text",
         "showlegend": false,
         "text": [
          "0.084"
         ],
         "textfont": {
          "color": "black",
          "family": "Inter",
          "size": 12
         },
         "textposition": "middle center",
         "type": "scatter",
         "x": [
          3.35
         ],
         "y": [
          16.65
         ]
        },
        {
         "hoverinfo": "skip",
         "mode": "text",
         "showlegend": false,
         "text": [
          " digraph"
         ],
         "textfont": {
          "color": "black",
          "family": "Inter",
          "size": 14
         },
         "textposition": "middle center",
         "type": "scatter",
         "x": [
          3
         ],
         "y": [
          17
         ]
        },
        {
         "hoverinfo": "skip",
         "mode": "text",
         "showlegend": false,
         "text": [
          "42"
         ],
         "textfont": {
          "color": "black",
          "family": "Inter",
          "size": 12
         },
         "textposition": "middle center",
         "type": "scatter",
         "x": [
          3.6
         ],
         "y": [
          17.35
         ]
        },
        {
         "hoverinfo": "skip",
         "mode": "text",
         "showlegend": false,
         "text": [
          "0.049"
         ],
         "textfont": {
          "color": "black",
          "family": "Inter",
          "size": 12
         },
         "textposition": "middle center",
         "type": "scatter",
         "x": [
          4.35
         ],
         "y": [
          16.65
         ]
        },
        {
         "hoverinfo": "skip",
         "mode": "text",
         "showlegend": false,
         "text": [
          " digraph"
         ],
         "textfont": {
          "color": "black",
          "family": "Inter",
          "size": 14
         },
         "textposition": "middle center",
         "type": "scatter",
         "x": [
          4
         ],
         "y": [
          17
         ]
        },
        {
         "hoverinfo": "skip",
         "mode": "text",
         "showlegend": false,
         "text": [
          "62"
         ],
         "textfont": {
          "color": "black",
          "family": "Inter",
          "size": 12
         },
         "textposition": "middle center",
         "type": "scatter",
         "x": [
          4.6
         ],
         "y": [
          17.35
         ]
        },
        {
         "hoverinfo": "skip",
         "mode": "text",
         "showlegend": false,
         "text": [
          "0.048"
         ],
         "textfont": {
          "color": "black",
          "family": "Inter",
          "size": 12
         },
         "textposition": "middle center",
         "type": "scatter",
         "x": [
          5.35
         ],
         "y": [
          16.65
         ]
        },
        {
         "hoverinfo": "skip",
         "mode": "text",
         "showlegend": false,
         "text": [
          " modernista"
         ],
         "textfont": {
          "color": "black",
          "family": "Inter",
          "size": 14
         },
         "textposition": "middle center",
         "type": "scatter",
         "x": [
          5
         ],
         "y": [
          17
         ]
        },
        {
         "hoverinfo": "skip",
         "mode": "text",
         "showlegend": false,
         "text": [
          "38"
         ],
         "textfont": {
          "color": "black",
          "family": "Inter",
          "size": 12
         },
         "textposition": "middle center",
         "type": "scatter",
         "x": [
          5.6
         ],
         "y": [
          17.35
         ]
        },
        {
         "hoverinfo": "skip",
         "mode": "text",
         "showlegend": false,
         "text": [
          "0.044"
         ],
         "textfont": {
          "color": "black",
          "family": "Inter",
          "size": 12
         },
         "textposition": "middle center",
         "type": "scatter",
         "x": [
          6.35
         ],
         "y": [
          16.65
         ]
        },
        {
         "hoverinfo": "skip",
         "mode": "text",
         "showlegend": false,
         "text": [
          " digraph"
         ],
         "textfont": {
          "color": "black",
          "family": "Inter",
          "size": 14
         },
         "textposition": "middle center",
         "type": "scatter",
         "x": [
          6
         ],
         "y": [
          17
         ]
        },
        {
         "hoverinfo": "skip",
         "mode": "text",
         "showlegend": false,
         "text": [
          "20"
         ],
         "textfont": {
          "color": "black",
          "family": "Inter",
          "size": 12
         },
         "textposition": "middle center",
         "type": "scatter",
         "x": [
          6.6
         ],
         "y": [
          17.35
         ]
        },
        {
         "hoverinfo": "skip",
         "mode": "text",
         "showlegend": false,
         "text": [
          "0.036"
         ],
         "textfont": {
          "color": "black",
          "family": "Inter",
          "size": 12
         },
         "textposition": "middle center",
         "type": "scatter",
         "x": [
          7.35
         ],
         "y": [
          16.65
         ]
        },
        {
         "hoverinfo": "skip",
         "mode": "text",
         "showlegend": false,
         "text": [
          " digraph"
         ],
         "textfont": {
          "color": "black",
          "family": "Inter",
          "size": 14
         },
         "textposition": "middle center",
         "type": "scatter",
         "x": [
          7
         ],
         "y": [
          17
         ]
        },
        {
         "hoverinfo": "skip",
         "mode": "text",
         "showlegend": false,
         "text": [
          " digraph"
         ],
         "textfont": {
          "color": "black",
          "family": "Inter",
          "size": 14
         },
         "textposition": "middle center",
         "type": "scatter",
         "x": [
          0
         ],
         "y": [
          18
         ]
        },
        {
         "hoverinfo": "skip",
         "mode": "text",
         "showlegend": false,
         "text": [
          " digraph"
         ],
         "textfont": {
          "color": "black",
          "family": "Inter",
          "size": 14
         },
         "textposition": "middle center",
         "type": "scatter",
         "x": [
          1
         ],
         "y": [
          18
         ]
        },
        {
         "hoverinfo": "skip",
         "mode": "text",
         "showlegend": false,
         "text": [
          "49"
         ],
         "textfont": {
          "color": "black",
          "family": "Inter",
          "size": 12
         },
         "textposition": "middle center",
         "type": "scatter",
         "x": [
          1.6
         ],
         "y": [
          18.35
         ]
        },
        {
         "hoverinfo": "skip",
         "mode": "text",
         "showlegend": false,
         "text": [
          "0.480"
         ],
         "textfont": {
          "color": "black",
          "family": "Inter",
          "size": 12
         },
         "textposition": "middle center",
         "type": "scatter",
         "x": [
          2.35
         ],
         "y": [
          17.65
         ]
        },
        {
         "hoverinfo": "skip",
         "mode": "text",
         "showlegend": false,
         "text": [
          " digraph"
         ],
         "textfont": {
          "color": "black",
          "family": "Inter",
          "size": 14
         },
         "textposition": "middle center",
         "type": "scatter",
         "x": [
          2
         ],
         "y": [
          18
         ]
        },
        {
         "hoverinfo": "skip",
         "mode": "text",
         "showlegend": false,
         "text": [
          "62"
         ],
         "textfont": {
          "color": "black",
          "family": "Inter",
          "size": 12
         },
         "textposition": "middle center",
         "type": "scatter",
         "x": [
          2.6
         ],
         "y": [
          18.35
         ]
        },
        {
         "hoverinfo": "skip",
         "mode": "text",
         "showlegend": false,
         "text": [
          "0.054"
         ],
         "textfont": {
          "color": "black",
          "family": "Inter",
          "size": 12
         },
         "textposition": "middle center",
         "type": "scatter",
         "x": [
          3.35
         ],
         "y": [
          17.65
         ]
        },
        {
         "hoverinfo": "skip",
         "mode": "text",
         "showlegend": false,
         "text": [
          " внима"
         ],
         "textfont": {
          "color": "black",
          "family": "Inter",
          "size": 14
         },
         "textposition": "middle center",
         "type": "scatter",
         "x": [
          3
         ],
         "y": [
          18
         ]
        },
        {
         "hoverinfo": "skip",
         "mode": "text",
         "showlegend": false,
         "text": [
          "7"
         ],
         "textfont": {
          "color": "black",
          "family": "Inter",
          "size": 12
         },
         "textposition": "middle center",
         "type": "scatter",
         "x": [
          3.6
         ],
         "y": [
          18.35
         ]
        },
        {
         "hoverinfo": "skip",
         "mode": "text",
         "showlegend": false,
         "text": [
          "0.038"
         ],
         "textfont": {
          "color": "black",
          "family": "Inter",
          "size": 12
         },
         "textposition": "middle center",
         "type": "scatter",
         "x": [
          4.35
         ],
         "y": [
          17.65
         ]
        },
        {
         "hoverinfo": "skip",
         "mode": "text",
         "showlegend": false,
         "text": [
          " digraph"
         ],
         "textfont": {
          "color": "black",
          "family": "Inter",
          "size": 14
         },
         "textposition": "middle center",
         "type": "scatter",
         "x": [
          4
         ],
         "y": [
          18
         ]
        },
        {
         "hoverinfo": "skip",
         "mode": "text",
         "showlegend": false,
         "text": [
          "57"
         ],
         "textfont": {
          "color": "black",
          "family": "Inter",
          "size": 12
         },
         "textposition": "middle center",
         "type": "scatter",
         "x": [
          4.6
         ],
         "y": [
          18.35
         ]
        },
        {
         "hoverinfo": "skip",
         "mode": "text",
         "showlegend": false,
         "text": [
          "0.034"
         ],
         "textfont": {
          "color": "black",
          "family": "Inter",
          "size": 12
         },
         "textposition": "middle center",
         "type": "scatter",
         "x": [
          5.35
         ],
         "y": [
          17.65
         ]
        },
        {
         "hoverinfo": "skip",
         "mode": "text",
         "showlegend": false,
         "text": [
          " digraph"
         ],
         "textfont": {
          "color": "black",
          "family": "Inter",
          "size": 14
         },
         "textposition": "middle center",
         "type": "scatter",
         "x": [
          5
         ],
         "y": [
          18
         ]
        },
        {
         "hoverinfo": "skip",
         "mode": "text",
         "showlegend": false,
         "text": [
          "43"
         ],
         "textfont": {
          "color": "black",
          "family": "Inter",
          "size": 12
         },
         "textposition": "middle center",
         "type": "scatter",
         "x": [
          5.6
         ],
         "y": [
          18.35
         ]
        },
        {
         "hoverinfo": "skip",
         "mode": "text",
         "showlegend": false,
         "text": [
          "0.028"
         ],
         "textfont": {
          "color": "black",
          "family": "Inter",
          "size": 12
         },
         "textposition": "middle center",
         "type": "scatter",
         "x": [
          6.35
         ],
         "y": [
          17.65
         ]
        },
        {
         "hoverinfo": "skip",
         "mode": "text",
         "showlegend": false,
         "text": [
          " внима"
         ],
         "textfont": {
          "color": "black",
          "family": "Inter",
          "size": 14
         },
         "textposition": "middle center",
         "type": "scatter",
         "x": [
          6
         ],
         "y": [
          18
         ]
        },
        {
         "hoverinfo": "skip",
         "mode": "text",
         "showlegend": false,
         "text": [
          "14"
         ],
         "textfont": {
          "color": "black",
          "family": "Inter",
          "size": 12
         },
         "textposition": "middle center",
         "type": "scatter",
         "x": [
          6.6
         ],
         "y": [
          18.35
         ]
        },
        {
         "hoverinfo": "skip",
         "mode": "text",
         "showlegend": false,
         "text": [
          "0.026"
         ],
         "textfont": {
          "color": "black",
          "family": "Inter",
          "size": 12
         },
         "textposition": "middle center",
         "type": "scatter",
         "x": [
          7.35
         ],
         "y": [
          17.65
         ]
        },
        {
         "hoverinfo": "skip",
         "mode": "text",
         "showlegend": false,
         "text": [
          " digraph"
         ],
         "textfont": {
          "color": "black",
          "family": "Inter",
          "size": 14
         },
         "textposition": "middle center",
         "type": "scatter",
         "x": [
          7
         ],
         "y": [
          18
         ]
        },
        {
         "hoverinfo": "skip",
         "mode": "text",
         "showlegend": false,
         "text": [
          " observat"
         ],
         "textfont": {
          "color": "black",
          "family": "Inter",
          "size": 14
         },
         "textposition": "middle center",
         "type": "scatter",
         "x": [
          0
         ],
         "y": [
          19
         ]
        },
        {
         "hoverinfo": "skip",
         "mode": "text",
         "showlegend": false,
         "text": [
          " digraph"
         ],
         "textfont": {
          "color": "black",
          "family": "Inter",
          "size": 14
         },
         "textposition": "middle center",
         "type": "scatter",
         "x": [
          1
         ],
         "y": [
          19
         ]
        },
        {
         "hoverinfo": "skip",
         "mode": "text",
         "showlegend": false,
         "text": [
          "10"
         ],
         "textfont": {
          "color": "black",
          "family": "Inter",
          "size": 12
         },
         "textposition": "middle center",
         "type": "scatter",
         "x": [
          1.6
         ],
         "y": [
          19.35
         ]
        },
        {
         "hoverinfo": "skip",
         "mode": "text",
         "showlegend": false,
         "text": [
          "0.161"
         ],
         "textfont": {
          "color": "black",
          "family": "Inter",
          "size": 12
         },
         "textposition": "middle center",
         "type": "scatter",
         "x": [
          2.35
         ],
         "y": [
          18.65
         ]
        },
        {
         "hoverinfo": "skip",
         "mode": "text",
         "showlegend": false,
         "text": [
          " digraph"
         ],
         "textfont": {
          "color": "black",
          "family": "Inter",
          "size": 14
         },
         "textposition": "middle center",
         "type": "scatter",
         "x": [
          2
         ],
         "y": [
          19
         ]
        },
        {
         "hoverinfo": "skip",
         "mode": "text",
         "showlegend": false,
         "text": [
          "13"
         ],
         "textfont": {
          "color": "black",
          "family": "Inter",
          "size": 12
         },
         "textposition": "middle center",
         "type": "scatter",
         "x": [
          2.6
         ],
         "y": [
          19.35
         ]
        },
        {
         "hoverinfo": "skip",
         "mode": "text",
         "showlegend": false,
         "text": [
          "0.078"
         ],
         "textfont": {
          "color": "black",
          "family": "Inter",
          "size": 12
         },
         "textposition": "middle center",
         "type": "scatter",
         "x": [
          3.35
         ],
         "y": [
          18.65
         ]
        },
        {
         "hoverinfo": "skip",
         "mode": "text",
         "showlegend": false,
         "text": [
          " digraph"
         ],
         "textfont": {
          "color": "black",
          "family": "Inter",
          "size": 14
         },
         "textposition": "middle center",
         "type": "scatter",
         "x": [
          3
         ],
         "y": [
          19
         ]
        },
        {
         "hoverinfo": "skip",
         "mode": "text",
         "showlegend": false,
         "text": [
          "7"
         ],
         "textfont": {
          "color": "black",
          "family": "Inter",
          "size": 12
         },
         "textposition": "middle center",
         "type": "scatter",
         "x": [
          3.6
         ],
         "y": [
          19.35
         ]
        },
        {
         "hoverinfo": "skip",
         "mode": "text",
         "showlegend": false,
         "text": [
          "0.056"
         ],
         "textfont": {
          "color": "black",
          "family": "Inter",
          "size": 12
         },
         "textposition": "middle center",
         "type": "scatter",
         "x": [
          4.35
         ],
         "y": [
          18.65
         ]
        },
        {
         "hoverinfo": "skip",
         "mode": "text",
         "showlegend": false,
         "text": [
          " digraph"
         ],
         "textfont": {
          "color": "black",
          "family": "Inter",
          "size": 14
         },
         "textposition": "middle center",
         "type": "scatter",
         "x": [
          4
         ],
         "y": [
          19
         ]
        },
        {
         "hoverinfo": "skip",
         "mode": "text",
         "showlegend": false,
         "text": [
          "32"
         ],
         "textfont": {
          "color": "black",
          "family": "Inter",
          "size": 12
         },
         "textposition": "middle center",
         "type": "scatter",
         "x": [
          4.6
         ],
         "y": [
          19.35
         ]
        },
        {
         "hoverinfo": "skip",
         "mode": "text",
         "showlegend": false,
         "text": [
          "0.053"
         ],
         "textfont": {
          "color": "black",
          "family": "Inter",
          "size": 12
         },
         "textposition": "middle center",
         "type": "scatter",
         "x": [
          5.35
         ],
         "y": [
          18.65
         ]
        },
        {
         "hoverinfo": "skip",
         "mode": "text",
         "showlegend": false,
         "text": [
          " digraph"
         ],
         "textfont": {
          "color": "black",
          "family": "Inter",
          "size": 14
         },
         "textposition": "middle center",
         "type": "scatter",
         "x": [
          5
         ],
         "y": [
          19
         ]
        },
        {
         "hoverinfo": "skip",
         "mode": "text",
         "showlegend": false,
         "text": [
          "11"
         ],
         "textfont": {
          "color": "black",
          "family": "Inter",
          "size": 12
         },
         "textposition": "middle center",
         "type": "scatter",
         "x": [
          5.6
         ],
         "y": [
          19.35
         ]
        },
        {
         "hoverinfo": "skip",
         "mode": "text",
         "showlegend": false,
         "text": [
          "0.048"
         ],
         "textfont": {
          "color": "black",
          "family": "Inter",
          "size": 12
         },
         "textposition": "middle center",
         "type": "scatter",
         "x": [
          6.35
         ],
         "y": [
          18.65
         ]
        },
        {
         "hoverinfo": "skip",
         "mode": "text",
         "showlegend": false,
         "text": [
          " digraph"
         ],
         "textfont": {
          "color": "black",
          "family": "Inter",
          "size": 14
         },
         "textposition": "middle center",
         "type": "scatter",
         "x": [
          6
         ],
         "y": [
          19
         ]
        },
        {
         "hoverinfo": "skip",
         "mode": "text",
         "showlegend": false,
         "text": [
          "9"
         ],
         "textfont": {
          "color": "black",
          "family": "Inter",
          "size": 12
         },
         "textposition": "middle center",
         "type": "scatter",
         "x": [
          6.6
         ],
         "y": [
          19.35
         ]
        },
        {
         "hoverinfo": "skip",
         "mode": "text",
         "showlegend": false,
         "text": [
          "0.042"
         ],
         "textfont": {
          "color": "black",
          "family": "Inter",
          "size": 12
         },
         "textposition": "middle center",
         "type": "scatter",
         "x": [
          7.35
         ],
         "y": [
          18.65
         ]
        },
        {
         "hoverinfo": "skip",
         "mode": "text",
         "showlegend": false,
         "text": [
          " digraph"
         ],
         "textfont": {
          "color": "black",
          "family": "Inter",
          "size": 14
         },
         "textposition": "middle center",
         "type": "scatter",
         "x": [
          7
         ],
         "y": [
          19
         ]
        },
        {
         "hoverinfo": "skip",
         "mode": "text",
         "showlegend": false,
         "text": [
          "ille"
         ],
         "textfont": {
          "color": "black",
          "family": "Inter",
          "size": 14
         },
         "textposition": "middle center",
         "type": "scatter",
         "x": [
          0
         ],
         "y": [
          20
         ]
        },
        {
         "hoverinfo": "skip",
         "mode": "text",
         "showlegend": false,
         "text": [
          " observat"
         ],
         "textfont": {
          "color": "black",
          "family": "Inter",
          "size": 14
         },
         "textposition": "middle center",
         "type": "scatter",
         "x": [
          1
         ],
         "y": [
          20
         ]
        },
        {
         "hoverinfo": "skip",
         "mode": "text",
         "showlegend": false,
         "text": [
          "55"
         ],
         "textfont": {
          "color": "black",
          "family": "Inter",
          "size": 12
         },
         "textposition": "middle center",
         "type": "scatter",
         "x": [
          1.6
         ],
         "y": [
          20.35
         ]
        },
        {
         "hoverinfo": "skip",
         "mode": "text",
         "showlegend": false,
         "text": [
          "0.478"
         ],
         "textfont": {
          "color": "black",
          "family": "Inter",
          "size": 12
         },
         "textposition": "middle center",
         "type": "scatter",
         "x": [
          2.35
         ],
         "y": [
          19.65
         ]
        },
        {
         "hoverinfo": "skip",
         "mode": "text",
         "showlegend": false,
         "text": [
          " observat"
         ],
         "textfont": {
          "color": "black",
          "family": "Inter",
          "size": 14
         },
         "textposition": "middle center",
         "type": "scatter",
         "x": [
          2
         ],
         "y": [
          20
         ]
        },
        {
         "hoverinfo": "skip",
         "mode": "text",
         "showlegend": false,
         "text": [
          "57"
         ],
         "textfont": {
          "color": "black",
          "family": "Inter",
          "size": 12
         },
         "textposition": "middle center",
         "type": "scatter",
         "x": [
          2.6
         ],
         "y": [
          20.35
         ]
        },
        {
         "hoverinfo": "skip",
         "mode": "text",
         "showlegend": false,
         "text": [
          "0.043"
         ],
         "textfont": {
          "color": "black",
          "family": "Inter",
          "size": 12
         },
         "textposition": "middle center",
         "type": "scatter",
         "x": [
          3.35
         ],
         "y": [
          19.65
         ]
        },
        {
         "hoverinfo": "skip",
         "mode": "text",
         "showlegend": false,
         "text": [
          " observat"
         ],
         "textfont": {
          "color": "black",
          "family": "Inter",
          "size": 14
         },
         "textposition": "middle center",
         "type": "scatter",
         "x": [
          3
         ],
         "y": [
          20
         ]
        },
        {
         "hoverinfo": "skip",
         "mode": "text",
         "showlegend": false,
         "text": [
          "25"
         ],
         "textfont": {
          "color": "black",
          "family": "Inter",
          "size": 12
         },
         "textposition": "middle center",
         "type": "scatter",
         "x": [
          3.6
         ],
         "y": [
          20.35
         ]
        },
        {
         "hoverinfo": "skip",
         "mode": "text",
         "showlegend": false,
         "text": [
          "0.030"
         ],
         "textfont": {
          "color": "black",
          "family": "Inter",
          "size": 12
         },
         "textposition": "middle center",
         "type": "scatter",
         "x": [
          4.35
         ],
         "y": [
          19.65
         ]
        },
        {
         "hoverinfo": "skip",
         "mode": "text",
         "showlegend": false,
         "text": [
          " observat"
         ],
         "textfont": {
          "color": "black",
          "family": "Inter",
          "size": 14
         },
         "textposition": "middle center",
         "type": "scatter",
         "x": [
          4
         ],
         "y": [
          20
         ]
        },
        {
         "hoverinfo": "skip",
         "mode": "text",
         "showlegend": false,
         "text": [
          "16"
         ],
         "textfont": {
          "color": "black",
          "family": "Inter",
          "size": 12
         },
         "textposition": "middle center",
         "type": "scatter",
         "x": [
          4.6
         ],
         "y": [
          20.35
         ]
        },
        {
         "hoverinfo": "skip",
         "mode": "text",
         "showlegend": false,
         "text": [
          "0.029"
         ],
         "textfont": {
          "color": "black",
          "family": "Inter",
          "size": 12
         },
         "textposition": "middle center",
         "type": "scatter",
         "x": [
          5.35
         ],
         "y": [
          19.65
         ]
        },
        {
         "hoverinfo": "skip",
         "mode": "text",
         "showlegend": false,
         "text": [
          " observat"
         ],
         "textfont": {
          "color": "black",
          "family": "Inter",
          "size": 14
         },
         "textposition": "middle center",
         "type": "scatter",
         "x": [
          5
         ],
         "y": [
          20
         ]
        },
        {
         "hoverinfo": "skip",
         "mode": "text",
         "showlegend": false,
         "text": [
          "50"
         ],
         "textfont": {
          "color": "black",
          "family": "Inter",
          "size": 12
         },
         "textposition": "middle center",
         "type": "scatter",
         "x": [
          5.6
         ],
         "y": [
          20.35
         ]
        },
        {
         "hoverinfo": "skip",
         "mode": "text",
         "showlegend": false,
         "text": [
          "0.029"
         ],
         "textfont": {
          "color": "black",
          "family": "Inter",
          "size": 12
         },
         "textposition": "middle center",
         "type": "scatter",
         "x": [
          6.35
         ],
         "y": [
          19.65
         ]
        },
        {
         "hoverinfo": "skip",
         "mode": "text",
         "showlegend": false,
         "text": [
          " observat"
         ],
         "textfont": {
          "color": "black",
          "family": "Inter",
          "size": 14
         },
         "textposition": "middle center",
         "type": "scatter",
         "x": [
          6
         ],
         "y": [
          20
         ]
        },
        {
         "hoverinfo": "skip",
         "mode": "text",
         "showlegend": false,
         "text": [
          "31"
         ],
         "textfont": {
          "color": "black",
          "family": "Inter",
          "size": 12
         },
         "textposition": "middle center",
         "type": "scatter",
         "x": [
          6.6
         ],
         "y": [
          20.35
         ]
        },
        {
         "hoverinfo": "skip",
         "mode": "text",
         "showlegend": false,
         "text": [
          "0.028"
         ],
         "textfont": {
          "color": "black",
          "family": "Inter",
          "size": 12
         },
         "textposition": "middle center",
         "type": "scatter",
         "x": [
          7.35
         ],
         "y": [
          19.65
         ]
        },
        {
         "hoverinfo": "skip",
         "mode": "text",
         "showlegend": false,
         "text": [
          " observat"
         ],
         "textfont": {
          "color": "black",
          "family": "Inter",
          "size": 14
         },
         "textposition": "middle center",
         "type": "scatter",
         "x": [
          7
         ],
         "y": [
          20
         ]
        },
        {
         "hoverinfo": "skip",
         "mode": "text",
         "showlegend": false,
         "text": [
          "ille"
         ],
         "textfont": {
          "color": "black",
          "family": "Inter",
          "size": 14
         },
         "textposition": "middle center",
         "type": "scatter",
         "x": [
          0
         ],
         "y": [
          21
         ]
        },
        {
         "hoverinfo": "skip",
         "mode": "text",
         "showlegend": false,
         "text": [
          "ille"
         ],
         "textfont": {
          "color": "black",
          "family": "Inter",
          "size": 14
         },
         "textposition": "middle center",
         "type": "scatter",
         "x": [
          1
         ],
         "y": [
          21
         ]
        },
        {
         "hoverinfo": "skip",
         "mode": "text",
         "showlegend": false,
         "text": [
          "42"
         ],
         "textfont": {
          "color": "black",
          "family": "Inter",
          "size": 12
         },
         "textposition": "middle center",
         "type": "scatter",
         "x": [
          1.6
         ],
         "y": [
          21.35
         ]
        },
        {
         "hoverinfo": "skip",
         "mode": "text",
         "showlegend": false,
         "text": [
          "0.096"
         ],
         "textfont": {
          "color": "black",
          "family": "Inter",
          "size": 12
         },
         "textposition": "middle center",
         "type": "scatter",
         "x": [
          2.35
         ],
         "y": [
          20.65
         ]
        },
        {
         "hoverinfo": "skip",
         "mode": "text",
         "showlegend": false,
         "text": [
          "urs"
         ],
         "textfont": {
          "color": "black",
          "family": "Inter",
          "size": 14
         },
         "textposition": "middle center",
         "type": "scatter",
         "x": [
          2
         ],
         "y": [
          21
         ]
        },
        {
         "hoverinfo": "skip",
         "mode": "text",
         "showlegend": false,
         "text": [
          "17"
         ],
         "textfont": {
          "color": "black",
          "family": "Inter",
          "size": 12
         },
         "textposition": "middle center",
         "type": "scatter",
         "x": [
          2.6
         ],
         "y": [
          21.35
         ]
        },
        {
         "hoverinfo": "skip",
         "mode": "text",
         "showlegend": false,
         "text": [
          "0.085"
         ],
         "textfont": {
          "color": "black",
          "family": "Inter",
          "size": 12
         },
         "textposition": "middle center",
         "type": "scatter",
         "x": [
          3.35
         ],
         "y": [
          20.65
         ]
        },
        {
         "hoverinfo": "skip",
         "mode": "text",
         "showlegend": false,
         "text": [
          "ille"
         ],
         "textfont": {
          "color": "black",
          "family": "Inter",
          "size": 14
         },
         "textposition": "middle center",
         "type": "scatter",
         "x": [
          3
         ],
         "y": [
          21
         ]
        },
        {
         "hoverinfo": "skip",
         "mode": "text",
         "showlegend": false,
         "text": [
          "45"
         ],
         "textfont": {
          "color": "black",
          "family": "Inter",
          "size": 12
         },
         "textposition": "middle center",
         "type": "scatter",
         "x": [
          3.6
         ],
         "y": [
          21.35
         ]
        },
        {
         "hoverinfo": "skip",
         "mode": "text",
         "showlegend": false,
         "text": [
          "0.081"
         ],
         "textfont": {
          "color": "black",
          "family": "Inter",
          "size": 12
         },
         "textposition": "middle center",
         "type": "scatter",
         "x": [
          4.35
         ],
         "y": [
          20.65
         ]
        },
        {
         "hoverinfo": "skip",
         "mode": "text",
         "showlegend": false,
         "text": [
          "ille"
         ],
         "textfont": {
          "color": "black",
          "family": "Inter",
          "size": 14
         },
         "textposition": "middle center",
         "type": "scatter",
         "x": [
          4
         ],
         "y": [
          21
         ]
        },
        {
         "hoverinfo": "skip",
         "mode": "text",
         "showlegend": false,
         "text": [
          "47"
         ],
         "textfont": {
          "color": "black",
          "family": "Inter",
          "size": 12
         },
         "textposition": "middle center",
         "type": "scatter",
         "x": [
          4.6
         ],
         "y": [
          21.35
         ]
        },
        {
         "hoverinfo": "skip",
         "mode": "text",
         "showlegend": false,
         "text": [
          "0.044"
         ],
         "textfont": {
          "color": "black",
          "family": "Inter",
          "size": 12
         },
         "textposition": "middle center",
         "type": "scatter",
         "x": [
          5.35
         ],
         "y": [
          20.65
         ]
        },
        {
         "hoverinfo": "skip",
         "mode": "text",
         "showlegend": false,
         "text": [
          "ille"
         ],
         "textfont": {
          "color": "black",
          "family": "Inter",
          "size": 14
         },
         "textposition": "middle center",
         "type": "scatter",
         "x": [
          5
         ],
         "y": [
          21
         ]
        },
        {
         "hoverinfo": "skip",
         "mode": "text",
         "showlegend": false,
         "text": [
          "31"
         ],
         "textfont": {
          "color": "black",
          "family": "Inter",
          "size": 12
         },
         "textposition": "middle center",
         "type": "scatter",
         "x": [
          5.6
         ],
         "y": [
          21.35
         ]
        },
        {
         "hoverinfo": "skip",
         "mode": "text",
         "showlegend": false,
         "text": [
          "0.041"
         ],
         "textfont": {
          "color": "black",
          "family": "Inter",
          "size": 12
         },
         "textposition": "middle center",
         "type": "scatter",
         "x": [
          6.35
         ],
         "y": [
          20.65
         ]
        },
        {
         "hoverinfo": "skip",
         "mode": "text",
         "showlegend": false,
         "text": [
          "ille"
         ],
         "textfont": {
          "color": "black",
          "family": "Inter",
          "size": 14
         },
         "textposition": "middle center",
         "type": "scatter",
         "x": [
          6
         ],
         "y": [
          21
         ]
        },
        {
         "hoverinfo": "skip",
         "mode": "text",
         "showlegend": false,
         "text": [
          "37"
         ],
         "textfont": {
          "color": "black",
          "family": "Inter",
          "size": 12
         },
         "textposition": "middle center",
         "type": "scatter",
         "x": [
          6.6
         ],
         "y": [
          21.35
         ]
        },
        {
         "hoverinfo": "skip",
         "mode": "text",
         "showlegend": false,
         "text": [
          "0.037"
         ],
         "textfont": {
          "color": "black",
          "family": "Inter",
          "size": 12
         },
         "textposition": "middle center",
         "type": "scatter",
         "x": [
          7.35
         ],
         "y": [
          20.65
         ]
        },
        {
         "hoverinfo": "skip",
         "mode": "text",
         "showlegend": false,
         "text": [
          "ille"
         ],
         "textfont": {
          "color": "black",
          "family": "Inter",
          "size": 14
         },
         "textposition": "middle center",
         "type": "scatter",
         "x": [
          7
         ],
         "y": [
          21
         ]
        },
        {
         "hoverinfo": "skip",
         "mode": "text",
         "showlegend": false,
         "text": [
          "over"
         ],
         "textfont": {
          "color": "black",
          "family": "Inter",
          "size": 14
         },
         "textposition": "middle center",
         "type": "scatter",
         "x": [
          0
         ],
         "y": [
          22
         ]
        },
        {
         "hoverinfo": "skip",
         "mode": "text",
         "showlegend": false,
         "text": [
          "over"
         ],
         "textfont": {
          "color": "black",
          "family": "Inter",
          "size": 14
         },
         "textposition": "middle center",
         "type": "scatter",
         "x": [
          1
         ],
         "y": [
          22
         ]
        },
        {
         "hoverinfo": "skip",
         "mode": "text",
         "showlegend": false,
         "text": [
          "34"
         ],
         "textfont": {
          "color": "black",
          "family": "Inter",
          "size": 12
         },
         "textposition": "middle center",
         "type": "scatter",
         "x": [
          1.6
         ],
         "y": [
          22.35
         ]
        },
        {
         "hoverinfo": "skip",
         "mode": "text",
         "showlegend": false,
         "text": [
          "0.102"
         ],
         "textfont": {
          "color": "black",
          "family": "Inter",
          "size": 12
         },
         "textposition": "middle center",
         "type": "scatter",
         "x": [
          2.35
         ],
         "y": [
          21.65
         ]
        },
        {
         "hoverinfo": "skip",
         "mode": "text",
         "showlegend": false,
         "text": [
          "over"
         ],
         "textfont": {
          "color": "black",
          "family": "Inter",
          "size": 14
         },
         "textposition": "middle center",
         "type": "scatter",
         "x": [
          2
         ],
         "y": [
          22
         ]
        },
        {
         "hoverinfo": "skip",
         "mode": "text",
         "showlegend": false,
         "text": [
          "33"
         ],
         "textfont": {
          "color": "black",
          "family": "Inter",
          "size": 12
         },
         "textposition": "middle center",
         "type": "scatter",
         "x": [
          2.6
         ],
         "y": [
          22.35
         ]
        },
        {
         "hoverinfo": "skip",
         "mode": "text",
         "showlegend": false,
         "text": [
          "0.090"
         ],
         "textfont": {
          "color": "black",
          "family": "Inter",
          "size": 12
         },
         "textposition": "middle center",
         "type": "scatter",
         "x": [
          3.35
         ],
         "y": [
          21.65
         ]
        },
        {
         "hoverinfo": "skip",
         "mode": "text",
         "showlegend": false,
         "text": [
          "over"
         ],
         "textfont": {
          "color": "black",
          "family": "Inter",
          "size": 14
         },
         "textposition": "middle center",
         "type": "scatter",
         "x": [
          3
         ],
         "y": [
          22
         ]
        },
        {
         "hoverinfo": "skip",
         "mode": "text",
         "showlegend": false,
         "text": [
          "56"
         ],
         "textfont": {
          "color": "black",
          "family": "Inter",
          "size": 12
         },
         "textposition": "middle center",
         "type": "scatter",
         "x": [
          3.6
         ],
         "y": [
          22.35
         ]
        },
        {
         "hoverinfo": "skip",
         "mode": "text",
         "showlegend": false,
         "text": [
          "0.085"
         ],
         "textfont": {
          "color": "black",
          "family": "Inter",
          "size": 12
         },
         "textposition": "middle center",
         "type": "scatter",
         "x": [
          4.35
         ],
         "y": [
          21.65
         ]
        },
        {
         "hoverinfo": "skip",
         "mode": "text",
         "showlegend": false,
         "text": [
          " over"
         ],
         "textfont": {
          "color": "black",
          "family": "Inter",
          "size": 14
         },
         "textposition": "middle center",
         "type": "scatter",
         "x": [
          4
         ],
         "y": [
          22
         ]
        },
        {
         "hoverinfo": "skip",
         "mode": "text",
         "showlegend": false,
         "text": [
          "18"
         ],
         "textfont": {
          "color": "black",
          "family": "Inter",
          "size": 12
         },
         "textposition": "middle center",
         "type": "scatter",
         "x": [
          4.6
         ],
         "y": [
          22.35
         ]
        },
        {
         "hoverinfo": "skip",
         "mode": "text",
         "showlegend": false,
         "text": [
          "0.071"
         ],
         "textfont": {
          "color": "black",
          "family": "Inter",
          "size": 12
         },
         "textposition": "middle center",
         "type": "scatter",
         "x": [
          5.35
         ],
         "y": [
          21.65
         ]
        },
        {
         "hoverinfo": "skip",
         "mode": "text",
         "showlegend": false,
         "text": [
          "over"
         ],
         "textfont": {
          "color": "black",
          "family": "Inter",
          "size": 14
         },
         "textposition": "middle center",
         "type": "scatter",
         "x": [
          5
         ],
         "y": [
          22
         ]
        },
        {
         "hoverinfo": "skip",
         "mode": "text",
         "showlegend": false,
         "text": [
          "7"
         ],
         "textfont": {
          "color": "black",
          "family": "Inter",
          "size": 12
         },
         "textposition": "middle center",
         "type": "scatter",
         "x": [
          5.6
         ],
         "y": [
          22.35
         ]
        },
        {
         "hoverinfo": "skip",
         "mode": "text",
         "showlegend": false,
         "text": [
          "0.051"
         ],
         "textfont": {
          "color": "black",
          "family": "Inter",
          "size": 12
         },
         "textposition": "middle center",
         "type": "scatter",
         "x": [
          6.35
         ],
         "y": [
          21.65
         ]
        },
        {
         "hoverinfo": "skip",
         "mode": "text",
         "showlegend": false,
         "text": [
          "over"
         ],
         "textfont": {
          "color": "black",
          "family": "Inter",
          "size": 14
         },
         "textposition": "middle center",
         "type": "scatter",
         "x": [
          6
         ],
         "y": [
          22
         ]
        },
        {
         "hoverinfo": "skip",
         "mode": "text",
         "showlegend": false,
         "text": [
          "42"
         ],
         "textfont": {
          "color": "black",
          "family": "Inter",
          "size": 12
         },
         "textposition": "middle center",
         "type": "scatter",
         "x": [
          6.6
         ],
         "y": [
          22.35
         ]
        },
        {
         "hoverinfo": "skip",
         "mode": "text",
         "showlegend": false,
         "text": [
          "0.051"
         ],
         "textfont": {
          "color": "black",
          "family": "Inter",
          "size": 12
         },
         "textposition": "middle center",
         "type": "scatter",
         "x": [
          7.35
         ],
         "y": [
          21.65
         ]
        },
        {
         "hoverinfo": "skip",
         "mode": "text",
         "showlegend": false,
         "text": [
          "over"
         ],
         "textfont": {
          "color": "black",
          "family": "Inter",
          "size": 14
         },
         "textposition": "middle center",
         "type": "scatter",
         "x": [
          7
         ],
         "y": [
          22
         ]
        },
        {
         "hoverinfo": "skip",
         "mode": "text",
         "showlegend": false,
         "text": [
          "over"
         ],
         "textfont": {
          "color": "black",
          "family": "Inter",
          "size": 14
         },
         "textposition": "middle center",
         "type": "scatter",
         "x": [
          0
         ],
         "y": [
          23
         ]
        },
        {
         "hoverinfo": "skip",
         "mode": "text",
         "showlegend": false,
         "text": [
          "over"
         ],
         "textfont": {
          "color": "black",
          "family": "Inter",
          "size": 14
         },
         "textposition": "middle center",
         "type": "scatter",
         "x": [
          1
         ],
         "y": [
          23
         ]
        },
        {
         "hoverinfo": "skip",
         "mode": "text",
         "showlegend": false,
         "text": [
          "62"
         ],
         "textfont": {
          "color": "black",
          "family": "Inter",
          "size": 12
         },
         "textposition": "middle center",
         "type": "scatter",
         "x": [
          1.6
         ],
         "y": [
          23.35
         ]
        },
        {
         "hoverinfo": "skip",
         "mode": "text",
         "showlegend": false,
         "text": [
          "0.143"
         ],
         "textfont": {
          "color": "black",
          "family": "Inter",
          "size": 12
         },
         "textposition": "middle center",
         "type": "scatter",
         "x": [
          2.35
         ],
         "y": [
          22.65
         ]
        },
        {
         "hoverinfo": "skip",
         "mode": "text",
         "showlegend": false,
         "text": [
          "over"
         ],
         "textfont": {
          "color": "black",
          "family": "Inter",
          "size": 14
         },
         "textposition": "middle center",
         "type": "scatter",
         "x": [
          2
         ],
         "y": [
          23
         ]
        },
        {
         "hoverinfo": "skip",
         "mode": "text",
         "showlegend": false,
         "text": [
          "50"
         ],
         "textfont": {
          "color": "black",
          "family": "Inter",
          "size": 12
         },
         "textposition": "middle center",
         "type": "scatter",
         "x": [
          2.6
         ],
         "y": [
          23.35
         ]
        },
        {
         "hoverinfo": "skip",
         "mode": "text",
         "showlegend": false,
         "text": [
          "0.081"
         ],
         "textfont": {
          "color": "black",
          "family": "Inter",
          "size": 12
         },
         "textposition": "middle center",
         "type": "scatter",
         "x": [
          3.35
         ],
         "y": [
          22.65
         ]
        },
        {
         "hoverinfo": "skip",
         "mode": "text",
         "showlegend": false,
         "text": [
          "over"
         ],
         "textfont": {
          "color": "black",
          "family": "Inter",
          "size": 14
         },
         "textposition": "middle center",
         "type": "scatter",
         "x": [
          3
         ],
         "y": [
          23
         ]
        },
        {
         "hoverinfo": "skip",
         "mode": "text",
         "showlegend": false,
         "text": [
          "31"
         ],
         "textfont": {
          "color": "black",
          "family": "Inter",
          "size": 12
         },
         "textposition": "middle center",
         "type": "scatter",
         "x": [
          3.6
         ],
         "y": [
          23.35
         ]
        },
        {
         "hoverinfo": "skip",
         "mode": "text",
         "showlegend": false,
         "text": [
          "0.053"
         ],
         "textfont": {
          "color": "black",
          "family": "Inter",
          "size": 12
         },
         "textposition": "middle center",
         "type": "scatter",
         "x": [
          4.35
         ],
         "y": [
          22.65
         ]
        },
        {
         "hoverinfo": "skip",
         "mode": "text",
         "showlegend": false,
         "text": [
          "over"
         ],
         "textfont": {
          "color": "black",
          "family": "Inter",
          "size": 14
         },
         "textposition": "middle center",
         "type": "scatter",
         "x": [
          4
         ],
         "y": [
          23
         ]
        },
        {
         "hoverinfo": "skip",
         "mode": "text",
         "showlegend": false,
         "text": [
          "3"
         ],
         "textfont": {
          "color": "black",
          "family": "Inter",
          "size": 12
         },
         "textposition": "middle center",
         "type": "scatter",
         "x": [
          4.6
         ],
         "y": [
          23.35
         ]
        },
        {
         "hoverinfo": "skip",
         "mode": "text",
         "showlegend": false,
         "text": [
          "0.044"
         ],
         "textfont": {
          "color": "black",
          "family": "Inter",
          "size": 12
         },
         "textposition": "middle center",
         "type": "scatter",
         "x": [
          5.35
         ],
         "y": [
          22.65
         ]
        },
        {
         "hoverinfo": "skip",
         "mode": "text",
         "showlegend": false,
         "text": [
          "over"
         ],
         "textfont": {
          "color": "black",
          "family": "Inter",
          "size": 14
         },
         "textposition": "middle center",
         "type": "scatter",
         "x": [
          5
         ],
         "y": [
          23
         ]
        },
        {
         "hoverinfo": "skip",
         "mode": "text",
         "showlegend": false,
         "text": [
          "27"
         ],
         "textfont": {
          "color": "black",
          "family": "Inter",
          "size": 12
         },
         "textposition": "middle center",
         "type": "scatter",
         "x": [
          5.6
         ],
         "y": [
          23.35
         ]
        },
        {
         "hoverinfo": "skip",
         "mode": "text",
         "showlegend": false,
         "text": [
          "0.041"
         ],
         "textfont": {
          "color": "black",
          "family": "Inter",
          "size": 12
         },
         "textposition": "middle center",
         "type": "scatter",
         "x": [
          6.35
         ],
         "y": [
          22.65
         ]
        },
        {
         "hoverinfo": "skip",
         "mode": "text",
         "showlegend": false,
         "text": [
          "over"
         ],
         "textfont": {
          "color": "black",
          "family": "Inter",
          "size": 14
         },
         "textposition": "middle center",
         "type": "scatter",
         "x": [
          6
         ],
         "y": [
          23
         ]
        },
        {
         "hoverinfo": "skip",
         "mode": "text",
         "showlegend": false,
         "text": [
          "23"
         ],
         "textfont": {
          "color": "black",
          "family": "Inter",
          "size": 12
         },
         "textposition": "middle center",
         "type": "scatter",
         "x": [
          6.6
         ],
         "y": [
          23.35
         ]
        },
        {
         "hoverinfo": "skip",
         "mode": "text",
         "showlegend": false,
         "text": [
          "0.040"
         ],
         "textfont": {
          "color": "black",
          "family": "Inter",
          "size": 12
         },
         "textposition": "middle center",
         "type": "scatter",
         "x": [
          7.35
         ],
         "y": [
          22.65
         ]
        },
        {
         "hoverinfo": "skip",
         "mode": "text",
         "showlegend": false,
         "text": [
          "over"
         ],
         "textfont": {
          "color": "black",
          "family": "Inter",
          "size": 14
         },
         "textposition": "middle center",
         "type": "scatter",
         "x": [
          7
         ],
         "y": [
          23
         ]
        },
        {
         "hoverinfo": "skip",
         "mode": "text",
         "showlegend": false,
         "text": [
          "over"
         ],
         "textfont": {
          "color": "black",
          "family": "Inter",
          "size": 14
         },
         "textposition": "middle center",
         "type": "scatter",
         "x": [
          0
         ],
         "y": [
          24
         ]
        },
        {
         "hoverinfo": "skip",
         "mode": "text",
         "showlegend": false,
         "text": [
          "over"
         ],
         "textfont": {
          "color": "black",
          "family": "Inter",
          "size": 14
         },
         "textposition": "middle center",
         "type": "scatter",
         "x": [
          1
         ],
         "y": [
          24
         ]
        },
        {
         "hoverinfo": "skip",
         "mode": "text",
         "showlegend": false,
         "text": [
          "27"
         ],
         "textfont": {
          "color": "black",
          "family": "Inter",
          "size": 12
         },
         "textposition": "middle center",
         "type": "scatter",
         "x": [
          1.6
         ],
         "y": [
          24.35
         ]
        },
        {
         "hoverinfo": "skip",
         "mode": "text",
         "showlegend": false,
         "text": [
          "0.170"
         ],
         "textfont": {
          "color": "black",
          "family": "Inter",
          "size": 12
         },
         "textposition": "middle center",
         "type": "scatter",
         "x": [
          2.35
         ],
         "y": [
          23.65
         ]
        },
        {
         "hoverinfo": "skip",
         "mode": "text",
         "showlegend": false,
         "text": [
          "over"
         ],
         "textfont": {
          "color": "black",
          "family": "Inter",
          "size": 14
         },
         "textposition": "middle center",
         "type": "scatter",
         "x": [
          2
         ],
         "y": [
          24
         ]
        },
        {
         "hoverinfo": "skip",
         "mode": "text",
         "showlegend": false,
         "text": [
          "57"
         ],
         "textfont": {
          "color": "black",
          "family": "Inter",
          "size": 12
         },
         "textposition": "middle center",
         "type": "scatter",
         "x": [
          2.6
         ],
         "y": [
          24.35
         ]
        },
        {
         "hoverinfo": "skip",
         "mode": "text",
         "showlegend": false,
         "text": [
          "0.118"
         ],
         "textfont": {
          "color": "black",
          "family": "Inter",
          "size": 12
         },
         "textposition": "middle center",
         "type": "scatter",
         "x": [
          3.35
         ],
         "y": [
          23.65
         ]
        },
        {
         "hoverinfo": "skip",
         "mode": "text",
         "showlegend": false,
         "text": [
          "over"
         ],
         "textfont": {
          "color": "black",
          "family": "Inter",
          "size": 14
         },
         "textposition": "middle center",
         "type": "scatter",
         "x": [
          3
         ],
         "y": [
          24
         ]
        },
        {
         "hoverinfo": "skip",
         "mode": "text",
         "showlegend": false,
         "text": [
          "13"
         ],
         "textfont": {
          "color": "black",
          "family": "Inter",
          "size": 12
         },
         "textposition": "middle center",
         "type": "scatter",
         "x": [
          3.6
         ],
         "y": [
          24.35
         ]
        },
        {
         "hoverinfo": "skip",
         "mode": "text",
         "showlegend": false,
         "text": [
          "0.087"
         ],
         "textfont": {
          "color": "black",
          "family": "Inter",
          "size": 12
         },
         "textposition": "middle center",
         "type": "scatter",
         "x": [
          4.35
         ],
         "y": [
          23.65
         ]
        },
        {
         "hoverinfo": "skip",
         "mode": "text",
         "showlegend": false,
         "text": [
          "over"
         ],
         "textfont": {
          "color": "black",
          "family": "Inter",
          "size": 14
         },
         "textposition": "middle center",
         "type": "scatter",
         "x": [
          4
         ],
         "y": [
          24
         ]
        },
        {
         "hoverinfo": "skip",
         "mode": "text",
         "showlegend": false,
         "text": [
          "32"
         ],
         "textfont": {
          "color": "black",
          "family": "Inter",
          "size": 12
         },
         "textposition": "middle center",
         "type": "scatter",
         "x": [
          4.6
         ],
         "y": [
          24.35
         ]
        },
        {
         "hoverinfo": "skip",
         "mode": "text",
         "showlegend": false,
         "text": [
          "0.057"
         ],
         "textfont": {
          "color": "black",
          "family": "Inter",
          "size": 12
         },
         "textposition": "middle center",
         "type": "scatter",
         "x": [
          5.35
         ],
         "y": [
          23.65
         ]
        },
        {
         "hoverinfo": "skip",
         "mode": "text",
         "showlegend": false,
         "text": [
          "over"
         ],
         "textfont": {
          "color": "black",
          "family": "Inter",
          "size": 14
         },
         "textposition": "middle center",
         "type": "scatter",
         "x": [
          5
         ],
         "y": [
          24
         ]
        },
        {
         "hoverinfo": "skip",
         "mode": "text",
         "showlegend": false,
         "text": [
          "38"
         ],
         "textfont": {
          "color": "black",
          "family": "Inter",
          "size": 12
         },
         "textposition": "middle center",
         "type": "scatter",
         "x": [
          5.6
         ],
         "y": [
          24.35
         ]
        },
        {
         "hoverinfo": "skip",
         "mode": "text",
         "showlegend": false,
         "text": [
          "0.035"
         ],
         "textfont": {
          "color": "black",
          "family": "Inter",
          "size": 12
         },
         "textposition": "middle center",
         "type": "scatter",
         "x": [
          6.35
         ],
         "y": [
          23.65
         ]
        },
        {
         "hoverinfo": "skip",
         "mode": "text",
         "showlegend": false,
         "text": [
          "over"
         ],
         "textfont": {
          "color": "black",
          "family": "Inter",
          "size": 14
         },
         "textposition": "middle center",
         "type": "scatter",
         "x": [
          6
         ],
         "y": [
          24
         ]
        },
        {
         "hoverinfo": "skip",
         "mode": "text",
         "showlegend": false,
         "text": [
          "55"
         ],
         "textfont": {
          "color": "black",
          "family": "Inter",
          "size": 12
         },
         "textposition": "middle center",
         "type": "scatter",
         "x": [
          6.6
         ],
         "y": [
          24.35
         ]
        },
        {
         "hoverinfo": "skip",
         "mode": "text",
         "showlegend": false,
         "text": [
          "0.024"
         ],
         "textfont": {
          "color": "black",
          "family": "Inter",
          "size": 12
         },
         "textposition": "middle center",
         "type": "scatter",
         "x": [
          7.35
         ],
         "y": [
          23.65
         ]
        },
        {
         "hoverinfo": "skip",
         "mode": "text",
         "showlegend": false,
         "text": [
          "over"
         ],
         "textfont": {
          "color": "black",
          "family": "Inter",
          "size": 14
         },
         "textposition": "middle center",
         "type": "scatter",
         "x": [
          7
         ],
         "y": [
          24
         ]
        },
        {
         "hoverinfo": "skip",
         "mode": "text",
         "showlegend": false,
         "text": [
          "udisks"
         ],
         "textfont": {
          "color": "black",
          "family": "Inter",
          "size": 14
         },
         "textposition": "middle center",
         "type": "scatter",
         "x": [
          0
         ],
         "y": [
          25
         ]
        },
        {
         "hoverinfo": "skip",
         "mode": "text",
         "showlegend": false,
         "text": [
          "over"
         ],
         "textfont": {
          "color": "black",
          "family": "Inter",
          "size": 14
         },
         "textposition": "middle center",
         "type": "scatter",
         "x": [
          1
         ],
         "y": [
          25
         ]
        },
        {
         "hoverinfo": "skip",
         "mode": "text",
         "showlegend": false,
         "text": [
          "6"
         ],
         "textfont": {
          "color": "black",
          "family": "Inter",
          "size": 12
         },
         "textposition": "middle center",
         "type": "scatter",
         "x": [
          1.6
         ],
         "y": [
          25.35
         ]
        },
        {
         "hoverinfo": "skip",
         "mode": "text",
         "showlegend": false,
         "text": [
          "0.250"
         ],
         "textfont": {
          "color": "black",
          "family": "Inter",
          "size": 12
         },
         "textposition": "middle center",
         "type": "scatter",
         "x": [
          2.35
         ],
         "y": [
          24.65
         ]
        },
        {
         "hoverinfo": "skip",
         "mode": "text",
         "showlegend": false,
         "text": [
          "ille"
         ],
         "textfont": {
          "color": "black",
          "family": "Inter",
          "size": 14
         },
         "textposition": "middle center",
         "type": "scatter",
         "x": [
          2
         ],
         "y": [
          25
         ]
        },
        {
         "hoverinfo": "skip",
         "mode": "text",
         "showlegend": false,
         "text": [
          "56"
         ],
         "textfont": {
          "color": "black",
          "family": "Inter",
          "size": 12
         },
         "textposition": "middle center",
         "type": "scatter",
         "x": [
          2.6
         ],
         "y": [
          25.35
         ]
        },
        {
         "hoverinfo": "skip",
         "mode": "text",
         "showlegend": false,
         "text": [
          "0.091"
         ],
         "textfont": {
          "color": "black",
          "family": "Inter",
          "size": 12
         },
         "textposition": "middle center",
         "type": "scatter",
         "x": [
          3.35
         ],
         "y": [
          24.65
         ]
        },
        {
         "hoverinfo": "skip",
         "mode": "text",
         "showlegend": false,
         "text": [
          "over"
         ],
         "textfont": {
          "color": "black",
          "family": "Inter",
          "size": 14
         },
         "textposition": "middle center",
         "type": "scatter",
         "x": [
          3
         ],
         "y": [
          25
         ]
        },
        {
         "hoverinfo": "skip",
         "mode": "text",
         "showlegend": false,
         "text": [
          "1"
         ],
         "textfont": {
          "color": "black",
          "family": "Inter",
          "size": 12
         },
         "textposition": "middle center",
         "type": "scatter",
         "x": [
          3.6
         ],
         "y": [
          25.35
         ]
        },
        {
         "hoverinfo": "skip",
         "mode": "text",
         "showlegend": false,
         "text": [
          "0.064"
         ],
         "textfont": {
          "color": "black",
          "family": "Inter",
          "size": 12
         },
         "textposition": "middle center",
         "type": "scatter",
         "x": [
          4.35
         ],
         "y": [
          24.65
         ]
        },
        {
         "hoverinfo": "skip",
         "mode": "text",
         "showlegend": false,
         "text": [
          "over"
         ],
         "textfont": {
          "color": "black",
          "family": "Inter",
          "size": 14
         },
         "textposition": "middle center",
         "type": "scatter",
         "x": [
          4
         ],
         "y": [
          25
         ]
        },
        {
         "hoverinfo": "skip",
         "mode": "text",
         "showlegend": false,
         "text": [
          "60"
         ],
         "textfont": {
          "color": "black",
          "family": "Inter",
          "size": 12
         },
         "textposition": "middle center",
         "type": "scatter",
         "x": [
          4.6
         ],
         "y": [
          25.35
         ]
        },
        {
         "hoverinfo": "skip",
         "mode": "text",
         "showlegend": false,
         "text": [
          "0.047"
         ],
         "textfont": {
          "color": "black",
          "family": "Inter",
          "size": 12
         },
         "textposition": "middle center",
         "type": "scatter",
         "x": [
          5.35
         ],
         "y": [
          24.65
         ]
        },
        {
         "hoverinfo": "skip",
         "mode": "text",
         "showlegend": false,
         "text": [
          "over"
         ],
         "textfont": {
          "color": "black",
          "family": "Inter",
          "size": 14
         },
         "textposition": "middle center",
         "type": "scatter",
         "x": [
          5
         ],
         "y": [
          25
         ]
        },
        {
         "hoverinfo": "skip",
         "mode": "text",
         "showlegend": false,
         "text": [
          "2"
         ],
         "textfont": {
          "color": "black",
          "family": "Inter",
          "size": 12
         },
         "textposition": "middle center",
         "type": "scatter",
         "x": [
          5.6
         ],
         "y": [
          25.35
         ]
        },
        {
         "hoverinfo": "skip",
         "mode": "text",
         "showlegend": false,
         "text": [
          "0.042"
         ],
         "textfont": {
          "color": "black",
          "family": "Inter",
          "size": 12
         },
         "textposition": "middle center",
         "type": "scatter",
         "x": [
          6.35
         ],
         "y": [
          24.65
         ]
        },
        {
         "hoverinfo": "skip",
         "mode": "text",
         "showlegend": false,
         "text": [
          "over"
         ],
         "textfont": {
          "color": "black",
          "family": "Inter",
          "size": 14
         },
         "textposition": "middle center",
         "type": "scatter",
         "x": [
          6
         ],
         "y": [
          25
         ]
        },
        {
         "hoverinfo": "skip",
         "mode": "text",
         "showlegend": false,
         "text": [
          "40"
         ],
         "textfont": {
          "color": "black",
          "family": "Inter",
          "size": 12
         },
         "textposition": "middle center",
         "type": "scatter",
         "x": [
          6.6
         ],
         "y": [
          25.35
         ]
        },
        {
         "hoverinfo": "skip",
         "mode": "text",
         "showlegend": false,
         "text": [
          "0.027"
         ],
         "textfont": {
          "color": "black",
          "family": "Inter",
          "size": 12
         },
         "textposition": "middle center",
         "type": "scatter",
         "x": [
          7.35
         ],
         "y": [
          24.65
         ]
        },
        {
         "hoverinfo": "skip",
         "mode": "text",
         "showlegend": false,
         "text": [
          "over"
         ],
         "textfont": {
          "color": "black",
          "family": "Inter",
          "size": 14
         },
         "textposition": "middle center",
         "type": "scatter",
         "x": [
          7
         ],
         "y": [
          25
         ]
        },
        {
         "hoverinfo": "skip",
         "mode": "text",
         "showlegend": false,
         "text": [
          " over"
         ],
         "textfont": {
          "color": "white",
          "family": "Inter",
          "size": 14
         },
         "textposition": "middle center",
         "type": "scatter",
         "x": [
          0
         ],
         "y": [
          26
         ]
        },
        {
         "hoverinfo": "skip",
         "mode": "text",
         "showlegend": false,
         "text": [
          " over"
         ],
         "textfont": {
          "color": "black",
          "family": "Inter",
          "size": 14
         },
         "textposition": "middle center",
         "type": "scatter",
         "x": [
          1
         ],
         "y": [
          26
         ]
        },
        {
         "hoverinfo": "skip",
         "mode": "text",
         "showlegend": false,
         "text": [
          "4"
         ],
         "textfont": {
          "color": "black",
          "family": "Inter",
          "size": 12
         },
         "textposition": "middle center",
         "type": "scatter",
         "x": [
          1.6
         ],
         "y": [
          26.35
         ]
        },
        {
         "hoverinfo": "skip",
         "mode": "text",
         "showlegend": false,
         "text": [
          "0.140"
         ],
         "textfont": {
          "color": "black",
          "family": "Inter",
          "size": 12
         },
         "textposition": "middle center",
         "type": "scatter",
         "x": [
          2.35
         ],
         "y": [
          25.65
         ]
        },
        {
         "hoverinfo": "skip",
         "mode": "text",
         "showlegend": false,
         "text": [
          " over"
         ],
         "textfont": {
          "color": "black",
          "family": "Inter",
          "size": 14
         },
         "textposition": "middle center",
         "type": "scatter",
         "x": [
          2
         ],
         "y": [
          26
         ]
        },
        {
         "hoverinfo": "skip",
         "mode": "text",
         "showlegend": false,
         "text": [
          "14"
         ],
         "textfont": {
          "color": "black",
          "family": "Inter",
          "size": 12
         },
         "textposition": "middle center",
         "type": "scatter",
         "x": [
          2.6
         ],
         "y": [
          26.35
         ]
        },
        {
         "hoverinfo": "skip",
         "mode": "text",
         "showlegend": false,
         "text": [
          "0.056"
         ],
         "textfont": {
          "color": "black",
          "family": "Inter",
          "size": 12
         },
         "textposition": "middle center",
         "type": "scatter",
         "x": [
          3.35
         ],
         "y": [
          25.65
         ]
        },
        {
         "hoverinfo": "skip",
         "mode": "text",
         "showlegend": false,
         "text": [
          " over"
         ],
         "textfont": {
          "color": "black",
          "family": "Inter",
          "size": 14
         },
         "textposition": "middle center",
         "type": "scatter",
         "x": [
          3
         ],
         "y": [
          26
         ]
        },
        {
         "hoverinfo": "skip",
         "mode": "text",
         "showlegend": false,
         "text": [
          "46"
         ],
         "textfont": {
          "color": "black",
          "family": "Inter",
          "size": 12
         },
         "textposition": "middle center",
         "type": "scatter",
         "x": [
          3.6
         ],
         "y": [
          26.35
         ]
        },
        {
         "hoverinfo": "skip",
         "mode": "text",
         "showlegend": false,
         "text": [
          "0.041"
         ],
         "textfont": {
          "color": "black",
          "family": "Inter",
          "size": 12
         },
         "textposition": "middle center",
         "type": "scatter",
         "x": [
          4.35
         ],
         "y": [
          25.65
         ]
        },
        {
         "hoverinfo": "skip",
         "mode": "text",
         "showlegend": false,
         "text": [
          " over"
         ],
         "textfont": {
          "color": "black",
          "family": "Inter",
          "size": 14
         },
         "textposition": "middle center",
         "type": "scatter",
         "x": [
          4
         ],
         "y": [
          26
         ]
        },
        {
         "hoverinfo": "skip",
         "mode": "text",
         "showlegend": false,
         "text": [
          "40"
         ],
         "textfont": {
          "color": "black",
          "family": "Inter",
          "size": 12
         },
         "textposition": "middle center",
         "type": "scatter",
         "x": [
          4.6
         ],
         "y": [
          26.35
         ]
        },
        {
         "hoverinfo": "skip",
         "mode": "text",
         "showlegend": false,
         "text": [
          "0.038"
         ],
         "textfont": {
          "color": "black",
          "family": "Inter",
          "size": 12
         },
         "textposition": "middle center",
         "type": "scatter",
         "x": [
          5.35
         ],
         "y": [
          25.65
         ]
        },
        {
         "hoverinfo": "skip",
         "mode": "text",
         "showlegend": false,
         "text": [
          " over"
         ],
         "textfont": {
          "color": "black",
          "family": "Inter",
          "size": 14
         },
         "textposition": "middle center",
         "type": "scatter",
         "x": [
          5
         ],
         "y": [
          26
         ]
        },
        {
         "hoverinfo": "skip",
         "mode": "text",
         "showlegend": false,
         "text": [
          "9"
         ],
         "textfont": {
          "color": "black",
          "family": "Inter",
          "size": 12
         },
         "textposition": "middle center",
         "type": "scatter",
         "x": [
          5.6
         ],
         "y": [
          26.35
         ]
        },
        {
         "hoverinfo": "skip",
         "mode": "text",
         "showlegend": false,
         "text": [
          "0.036"
         ],
         "textfont": {
          "color": "black",
          "family": "Inter",
          "size": 12
         },
         "textposition": "middle center",
         "type": "scatter",
         "x": [
          6.35
         ],
         "y": [
          25.65
         ]
        },
        {
         "hoverinfo": "skip",
         "mode": "text",
         "showlegend": false,
         "text": [
          " over"
         ],
         "textfont": {
          "color": "black",
          "family": "Inter",
          "size": 14
         },
         "textposition": "middle center",
         "type": "scatter",
         "x": [
          6
         ],
         "y": [
          26
         ]
        },
        {
         "hoverinfo": "skip",
         "mode": "text",
         "showlegend": false,
         "text": [
          "16"
         ],
         "textfont": {
          "color": "black",
          "family": "Inter",
          "size": 12
         },
         "textposition": "middle center",
         "type": "scatter",
         "x": [
          6.6
         ],
         "y": [
          26.35
         ]
        },
        {
         "hoverinfo": "skip",
         "mode": "text",
         "showlegend": false,
         "text": [
          "0.036"
         ],
         "textfont": {
          "color": "black",
          "family": "Inter",
          "size": 12
         },
         "textposition": "middle center",
         "type": "scatter",
         "x": [
          7.35
         ],
         "y": [
          25.65
         ]
        },
        {
         "hoverinfo": "skip",
         "mode": "text",
         "showlegend": false,
         "text": [
          " over"
         ],
         "textfont": {
          "color": "black",
          "family": "Inter",
          "size": 14
         },
         "textposition": "middle center",
         "type": "scatter",
         "x": [
          7
         ],
         "y": [
          26
         ]
        },
        {
         "hoverinfo": "skip",
         "mode": "text",
         "showlegend": false,
         "text": [
          " over"
         ],
         "textfont": {
          "color": "white",
          "family": "Inter",
          "size": 14
         },
         "textposition": "middle center",
         "type": "scatter",
         "x": [
          0
         ],
         "y": [
          27
         ]
        },
        {
         "hoverinfo": "skip",
         "mode": "text",
         "showlegend": false,
         "text": [
          " over"
         ],
         "textfont": {
          "color": "white",
          "family": "Inter",
          "size": 14
         },
         "textposition": "middle center",
         "type": "scatter",
         "x": [
          1
         ],
         "y": [
          27
         ]
        },
        {
         "hoverinfo": "skip",
         "mode": "text",
         "showlegend": false,
         "text": [
          "56"
         ],
         "textfont": {
          "color": "white",
          "family": "Inter",
          "size": 12
         },
         "textposition": "middle center",
         "type": "scatter",
         "x": [
          1.6
         ],
         "y": [
          27.35
         ]
        },
        {
         "hoverinfo": "skip",
         "mode": "text",
         "showlegend": false,
         "text": [
          "0.276"
         ],
         "textfont": {
          "color": "white",
          "family": "Inter",
          "size": 12
         },
         "textposition": "middle center",
         "type": "scatter",
         "x": [
          2.35
         ],
         "y": [
          26.65
         ]
        },
        {
         "hoverinfo": "skip",
         "mode": "text",
         "showlegend": false,
         "text": [
          " over"
         ],
         "textfont": {
          "color": "white",
          "family": "Inter",
          "size": 14
         },
         "textposition": "middle center",
         "type": "scatter",
         "x": [
          2
         ],
         "y": [
          27
         ]
        },
        {
         "hoverinfo": "skip",
         "mode": "text",
         "showlegend": false,
         "text": [
          "13"
         ],
         "textfont": {
          "color": "white",
          "family": "Inter",
          "size": 12
         },
         "textposition": "middle center",
         "type": "scatter",
         "x": [
          2.6
         ],
         "y": [
          27.35
         ]
        },
        {
         "hoverinfo": "skip",
         "mode": "text",
         "showlegend": false,
         "text": [
          "0.193"
         ],
         "textfont": {
          "color": "white",
          "family": "Inter",
          "size": 12
         },
         "textposition": "middle center",
         "type": "scatter",
         "x": [
          3.35
         ],
         "y": [
          26.65
         ]
        },
        {
         "hoverinfo": "skip",
         "mode": "text",
         "showlegend": false,
         "text": [
          " over"
         ],
         "textfont": {
          "color": "white",
          "family": "Inter",
          "size": 14
         },
         "textposition": "middle center",
         "type": "scatter",
         "x": [
          3
         ],
         "y": [
          27
         ]
        },
        {
         "hoverinfo": "skip",
         "mode": "text",
         "showlegend": false,
         "text": [
          "0"
         ],
         "textfont": {
          "color": "white",
          "family": "Inter",
          "size": 12
         },
         "textposition": "middle center",
         "type": "scatter",
         "x": [
          3.6
         ],
         "y": [
          27.35
         ]
        },
        {
         "hoverinfo": "skip",
         "mode": "text",
         "showlegend": false,
         "text": [
          "0.116"
         ],
         "textfont": {
          "color": "white",
          "family": "Inter",
          "size": 12
         },
         "textposition": "middle center",
         "type": "scatter",
         "x": [
          4.35
         ],
         "y": [
          26.65
         ]
        },
        {
         "hoverinfo": "skip",
         "mode": "text",
         "showlegend": false,
         "text": [
          " over"
         ],
         "textfont": {
          "color": "white",
          "family": "Inter",
          "size": 14
         },
         "textposition": "middle center",
         "type": "scatter",
         "x": [
          4
         ],
         "y": [
          27
         ]
        },
        {
         "hoverinfo": "skip",
         "mode": "text",
         "showlegend": false,
         "text": [
          "2"
         ],
         "textfont": {
          "color": "white",
          "family": "Inter",
          "size": 12
         },
         "textposition": "middle center",
         "type": "scatter",
         "x": [
          4.6
         ],
         "y": [
          27.35
         ]
        },
        {
         "hoverinfo": "skip",
         "mode": "text",
         "showlegend": false,
         "text": [
          "0.048"
         ],
         "textfont": {
          "color": "white",
          "family": "Inter",
          "size": 12
         },
         "textposition": "middle center",
         "type": "scatter",
         "x": [
          5.35
         ],
         "y": [
          26.65
         ]
        },
        {
         "hoverinfo": "skip",
         "mode": "text",
         "showlegend": false,
         "text": [
          " over"
         ],
         "textfont": {
          "color": "white",
          "family": "Inter",
          "size": 14
         },
         "textposition": "middle center",
         "type": "scatter",
         "x": [
          5
         ],
         "y": [
          27
         ]
        },
        {
         "hoverinfo": "skip",
         "mode": "text",
         "showlegend": false,
         "text": [
          "30"
         ],
         "textfont": {
          "color": "white",
          "family": "Inter",
          "size": 12
         },
         "textposition": "middle center",
         "type": "scatter",
         "x": [
          5.6
         ],
         "y": [
          27.35
         ]
        },
        {
         "hoverinfo": "skip",
         "mode": "text",
         "showlegend": false,
         "text": [
          "0.038"
         ],
         "textfont": {
          "color": "white",
          "family": "Inter",
          "size": 12
         },
         "textposition": "middle center",
         "type": "scatter",
         "x": [
          6.35
         ],
         "y": [
          26.65
         ]
        },
        {
         "hoverinfo": "skip",
         "mode": "text",
         "showlegend": false,
         "text": [
          " over"
         ],
         "textfont": {
          "color": "white",
          "family": "Inter",
          "size": 14
         },
         "textposition": "middle center",
         "type": "scatter",
         "x": [
          6
         ],
         "y": [
          27
         ]
        },
        {
         "hoverinfo": "skip",
         "mode": "text",
         "showlegend": false,
         "text": [
          "27"
         ],
         "textfont": {
          "color": "white",
          "family": "Inter",
          "size": 12
         },
         "textposition": "middle center",
         "type": "scatter",
         "x": [
          6.6
         ],
         "y": [
          27.35
         ]
        },
        {
         "hoverinfo": "skip",
         "mode": "text",
         "showlegend": false,
         "text": [
          "0.037"
         ],
         "textfont": {
          "color": "white",
          "family": "Inter",
          "size": 12
         },
         "textposition": "middle center",
         "type": "scatter",
         "x": [
          7.35
         ],
         "y": [
          26.65
         ]
        },
        {
         "hoverinfo": "skip",
         "mode": "text",
         "showlegend": false,
         "text": [
          " over"
         ],
         "textfont": {
          "color": "white",
          "family": "Inter",
          "size": 14
         },
         "textposition": "middle center",
         "type": "scatter",
         "x": [
          7
         ],
         "y": [
          27
         ]
        },
        {
         "hoverinfo": "text",
         "hovertext": "Layer 0 l_out (logit: 1.010):<br>开辟: 1.010<br>WN: 0.944<br>晖: 0.930<br>颓: 0.922<br>固执: 0.921",
         "marker": {
          "opacity": 0
         },
         "mode": "markers",
         "showlegend": false,
         "type": "scatter",
         "x": [
          0
         ],
         "y": [
          0
         ]
        },
        {
         "hoverinfo": "text",
         "hovertext": "Layer 1 l_out (logit: 0.843):<br> n: 0.843<br>留住: 0.764<br>ITH: 0.727<br>天赋: 0.724<br>iling: 0.718",
         "marker": {
          "opacity": 0
         },
         "mode": "markers",
         "showlegend": false,
         "type": "scatter",
         "x": [
          0
         ],
         "y": [
          1
         ]
        },
        {
         "hoverinfo": "text",
         "hovertext": "Layer 1 routed_combined (logit: 0.795):<br>留住: 0.795<br>开辟: 0.778<br>WN: 0.775<br>ERIC: 0.774<br>加快推进: 0.771",
         "marker": {
          "opacity": 0
         },
         "mode": "markers",
         "showlegend": false,
         "type": "scatter",
         "x": [
          1
         ],
         "y": [
          1
         ]
        },
        {
         "hoverinfo": "text",
         "hovertext": "Layer 1 expert 40 + residual (logit: 0.812, weight: 0.315):<br>留住: 0.812<br> n: 0.809<br>WN: 0.803<br>开辟: 0.767<br>光彩: 0.765",
         "marker": {
          "opacity": 0
         },
         "mode": "markers",
         "showlegend": false,
         "type": "scatter",
         "x": [
          2
         ],
         "y": [
          1
         ]
        },
        {
         "hoverinfo": "text",
         "hovertext": "Layer 1 expert 14 + residual (logit: 0.800, weight: 0.196):<br>留住: 0.800<br>iling: 0.794<br>ERIC: 0.792<br> n: 0.792<br>ANA: 0.786",
         "marker": {
          "opacity": 0
         },
         "mode": "markers",
         "showlegend": false,
         "type": "scatter",
         "x": [
          3
         ],
         "y": [
          1
         ]
        },
        {
         "hoverinfo": "text",
         "hovertext": "Layer 1 expert 46 + residual (logit: 0.819, weight: 0.021):<br>开辟: 0.819<br>ERIC: 0.801<br>感激: 0.787<br>ANA: 0.783<br>加快推进: 0.782",
         "marker": {
          "opacity": 0
         },
         "mode": "markers",
         "showlegend": false,
         "type": "scatter",
         "x": [
          4
         ],
         "y": [
          1
         ]
        },
        {
         "hoverinfo": "text",
         "hovertext": "Layer 1 expert 47 + residual (logit: 0.812, weight: 0.019):<br>开辟: 0.812<br>ERIC: 0.796<br>感激: 0.788<br>留住: 0.784<br>光彩: 0.780",
         "marker": {
          "opacity": 0
         },
         "mode": "markers",
         "showlegend": false,
         "type": "scatter",
         "x": [
          5
         ],
         "y": [
          1
         ]
        },
        {
         "hoverinfo": "text",
         "hovertext": "Layer 1 expert 28 + residual (logit: 0.815, weight: 0.018):<br>开辟: 0.815<br>ERIC: 0.794<br>感激: 0.787<br>光彩: 0.785<br>留住: 0.779",
         "marker": {
          "opacity": 0
         },
         "mode": "markers",
         "showlegend": false,
         "type": "scatter",
         "x": [
          6
         ],
         "y": [
          1
         ]
        },
        {
         "hoverinfo": "text",
         "hovertext": "Layer 1 expert 6 + residual (logit: 0.814, weight: 0.018):<br>开辟: 0.814<br>ERIC: 0.795<br>留住: 0.787<br>感激: 0.784<br>光彩: 0.783",
         "marker": {
          "opacity": 0
         },
         "mode": "markers",
         "showlegend": false,
         "type": "scatter",
         "x": [
          7
         ],
         "y": [
          1
         ]
        },
        {
         "hoverinfo": "text",
         "hovertext": "Layer 2 l_out (logit: 0.935):<br>光彩: 0.935<br>лата: 0.896<br>iling: 0.873<br>ofs: 0.861<br>ERIC: 0.846",
         "marker": {
          "opacity": 0
         },
         "mode": "markers",
         "showlegend": false,
         "type": "scatter",
         "x": [
          0
         ],
         "y": [
          2
         ]
        },
        {
         "hoverinfo": "text",
         "hovertext": "Layer 2 routed_combined (logit: 0.791):<br>iling: 0.791<br> iv: 0.777<br>昏: 0.769<br> modernista: 0.767<br> r: 0.755",
         "marker": {
          "opacity": 0
         },
         "mode": "markers",
         "showlegend": false,
         "type": "scatter",
         "x": [
          1
         ],
         "y": [
          2
         ]
        },
        {
         "hoverinfo": "text",
         "hovertext": "Layer 2 expert 15 + residual (logit: 0.881, weight: 0.212):<br> modernista: 0.881<br>iling: 0.848<br>光彩: 0.846<br>вен: 0.841<br>UTE: 0.836",
         "marker": {
          "opacity": 0
         },
         "mode": "markers",
         "showlegend": false,
         "type": "scatter",
         "x": [
          2
         ],
         "y": [
          2
         ]
        },
        {
         "hoverinfo": "text",
         "hovertext": "Layer 2 expert 47 + residual (logit: 0.782, weight: 0.098):<br>ITH: 0.782<br>昏: 0.778<br> modernista: 0.754<br>spaces: 0.747<br> r: 0.746",
         "marker": {
          "opacity": 0
         },
         "mode": "markers",
         "showlegend": false,
         "type": "scatter",
         "x": [
          3
         ],
         "y": [
          2
         ]
        },
        {
         "hoverinfo": "text",
         "hovertext": "Layer 2 expert 61 + residual (logit: 0.821, weight: 0.083):<br>iling: 0.821<br> r: 0.797<br>ITH: 0.769<br> n: 0.768<br>昏: 0.759",
         "marker": {
          "opacity": 0
         },
         "mode": "markers",
         "showlegend": false,
         "type": "scatter",
         "x": [
          4
         ],
         "y": [
          2
         ]
        },
        {
         "hoverinfo": "text",
         "hovertext": "Layer 2 expert 20 + residual (logit: 0.775, weight: 0.039):<br>昏: 0.775<br> r: 0.766<br>iling: 0.766<br> iv: 0.765<br> n: 0.762",
         "marker": {
          "opacity": 0
         },
         "mode": "markers",
         "showlegend": false,
         "type": "scatter",
         "x": [
          5
         ],
         "y": [
          2
         ]
        },
        {
         "hoverinfo": "text",
         "hovertext": "Layer 2 expert 2 + residual (logit: 0.770, weight: 0.037):<br>iling: 0.770<br>ITH: 0.768<br>昏: 0.759<br> iv: 0.756<br> modernista: 0.746",
         "marker": {
          "opacity": 0
         },
         "mode": "markers",
         "showlegend": false,
         "type": "scatter",
         "x": [
          6
         ],
         "y": [
          2
         ]
        },
        {
         "hoverinfo": "text",
         "hovertext": "Layer 2 expert 12 + residual (logit: 0.787, weight: 0.036):<br>iling: 0.787<br> r: 0.777<br> iv: 0.772<br> n: 0.771<br>ITH: 0.769",
         "marker": {
          "opacity": 0
         },
         "mode": "markers",
         "showlegend": false,
         "type": "scatter",
         "x": [
          7
         ],
         "y": [
          2
         ]
        },
        {
         "hoverinfo": "text",
         "hovertext": "Layer 3 l_out (logit: 1.267):<br>лата: 1.267<br>天赋: 1.134<br>iling: 1.124<br>ilk: 1.076<br>刻苦: 1.043",
         "marker": {
          "opacity": 0
         },
         "mode": "markers",
         "showlegend": false,
         "type": "scatter",
         "x": [
          0
         ],
         "y": [
          3
         ]
        },
        {
         "hoverinfo": "text",
         "hovertext": "Layer 3 routed_combined (logit: 1.037):<br> observat: 1.037<br>вел: 1.000<br>вен: 0.915<br>oking: 0.914<br>光彩: 0.898",
         "marker": {
          "opacity": 0
         },
         "mode": "markers",
         "showlegend": false,
         "type": "scatter",
         "x": [
          1
         ],
         "y": [
          3
         ]
        },
        {
         "hoverinfo": "text",
         "hovertext": "Layer 3 expert 25 + residual (logit: 1.041, weight: 0.263):<br> observat: 1.041<br>вел: 1.008<br>oking: 0.917<br>iling: 0.903<br>вен: 0.900",
         "marker": {
          "opacity": 0
         },
         "mode": "markers",
         "showlegend": false,
         "type": "scatter",
         "x": [
          2
         ],
         "y": [
          3
         ]
        },
        {
         "hoverinfo": "text",
         "hovertext": "Layer 3 expert 21 + residual (logit: 1.027, weight: 0.049):<br> observat: 1.027<br>вел: 0.981<br>oking: 0.914<br>вен: 0.911<br>光彩: 0.909",
         "marker": {
          "opacity": 0
         },
         "mode": "markers",
         "showlegend": false,
         "type": "scatter",
         "x": [
          3
         ],
         "y": [
          3
         ]
        },
        {
         "hoverinfo": "text",
         "hovertext": "Layer 3 expert 60 + residual (logit: 1.029, weight: 0.047):<br> observat: 1.029<br>вел: 1.017<br>вен: 0.953<br>лата: 0.917<br>walks: 0.896",
         "marker": {
          "opacity": 0
         },
         "mode": "markers",
         "showlegend": false,
         "type": "scatter",
         "x": [
          4
         ],
         "y": [
          3
         ]
        },
        {
         "hoverinfo": "text",
         "hovertext": "Layer 3 expert 35 + residual (logit: 1.040, weight: 0.046):<br> observat: 1.040<br>вел: 0.988<br>oking: 0.916<br>вен: 0.912<br>光彩: 0.896",
         "marker": {
          "opacity": 0
         },
         "mode": "markers",
         "showlegend": false,
         "type": "scatter",
         "x": [
          5
         ],
         "y": [
          3
         ]
        },
        {
         "hoverinfo": "text",
         "hovertext": "Layer 3 expert 31 + residual (logit: 1.033, weight: 0.046):<br> observat: 1.033<br>вел: 1.000<br>oking: 0.913<br>вен: 0.911<br>光彩: 0.899",
         "marker": {
          "opacity": 0
         },
         "mode": "markers",
         "showlegend": false,
         "type": "scatter",
         "x": [
          6
         ],
         "y": [
          3
         ]
        },
        {
         "hoverinfo": "text",
         "hovertext": "Layer 3 expert 50 + residual (logit: 1.040, weight: 0.035):<br> observat: 1.040<br>вел: 1.002<br>вен: 0.915<br>光彩: 0.910<br>oking: 0.905",
         "marker": {
          "opacity": 0
         },
         "mode": "markers",
         "showlegend": false,
         "type": "scatter",
         "x": [
          7
         ],
         "y": [
          3
         ]
        },
        {
         "hoverinfo": "text",
         "hovertext": "Layer 4 l_out (logit: 1.746):<br>лата: 1.746<br>нева: 1.509<br>光彩: 1.478<br>urada: 1.443<br>вена: 1.318",
         "marker": {
          "opacity": 0
         },
         "mode": "markers",
         "showlegend": false,
         "type": "scatter",
         "x": [
          0
         ],
         "y": [
          4
         ]
        },
        {
         "hoverinfo": "text",
         "hovertext": "Layer 4 routed_combined (logit: 1.461):<br>вел: 1.461<br>лата: 1.411<br>iling: 1.282<br>urada: 1.253<br> modernista: 1.237",
         "marker": {
          "opacity": 0
         },
         "mode": "markers",
         "showlegend": false,
         "type": "scatter",
         "x": [
          1
         ],
         "y": [
          4
         ]
        },
        {
         "hoverinfo": "text",
         "hovertext": "Layer 4 expert 52 + residual (logit: 1.503, weight: 0.244):<br>urada: 1.503<br>лата: 1.483<br>вел: 1.417<br>ilk: 1.358<br>iling: 1.324",
         "marker": {
          "opacity": 0
         },
         "mode": "markers",
         "showlegend": false,
         "type": "scatter",
         "x": [
          2
         ],
         "y": [
          4
         ]
        },
        {
         "hoverinfo": "text",
         "hovertext": "Layer 4 expert 43 + residual (logit: 1.479, weight: 0.097):<br>вел: 1.479<br>лата: 1.377<br>iling: 1.268<br> modernista: 1.218<br>光彩: 1.187",
         "marker": {
          "opacity": 0
         },
         "mode": "markers",
         "showlegend": false,
         "type": "scatter",
         "x": [
          3
         ],
         "y": [
          4
         ]
        },
        {
         "hoverinfo": "text",
         "hovertext": "Layer 4 expert 49 + residual (logit: 1.472, weight: 0.073):<br>лата: 1.472<br>вел: 1.380<br>нева: 1.288<br>walks: 1.269<br>urada: 1.247",
         "marker": {
          "opacity": 0
         },
         "mode": "markers",
         "showlegend": false,
         "type": "scatter",
         "x": [
          4
         ],
         "y": [
          4
         ]
        },
        {
         "hoverinfo": "text",
         "hovertext": "Layer 4 expert 2 + residual (logit: 1.470, weight: 0.048):<br>вел: 1.470<br>лата: 1.400<br>iling: 1.259<br> modernista: 1.242<br>光彩: 1.229",
         "marker": {
          "opacity": 0
         },
         "mode": "markers",
         "showlegend": false,
         "type": "scatter",
         "x": [
          5
         ],
         "y": [
          4
         ]
        },
        {
         "hoverinfo": "text",
         "hovertext": "Layer 4 expert 31 + residual (logit: 1.494, weight: 0.031):<br>вел: 1.494<br>лата: 1.382<br>iling: 1.284<br> modernista: 1.228<br>光彩: 1.188",
         "marker": {
          "opacity": 0
         },
         "mode": "markers",
         "showlegend": false,
         "type": "scatter",
         "x": [
          6
         ],
         "y": [
          4
         ]
        },
        {
         "hoverinfo": "text",
         "hovertext": "Layer 4 expert 19 + residual (logit: 1.572, weight: 0.031):<br>вел: 1.572<br>лата: 1.347<br>iling: 1.333<br> modernista: 1.224<br>нева: 1.202",
         "marker": {
          "opacity": 0
         },
         "mode": "markers",
         "showlegend": false,
         "type": "scatter",
         "x": [
          7
         ],
         "y": [
          4
         ]
        },
        {
         "hoverinfo": "text",
         "hovertext": "Layer 5 l_out (logit: 1.743):<br>光彩: 1.743<br>urada: 1.729<br>лата: 1.718<br>ouse: 1.648<br>toctree: 1.614",
         "marker": {
          "opacity": 0
         },
         "mode": "markers",
         "showlegend": false,
         "type": "scatter",
         "x": [
          0
         ],
         "y": [
          5
         ]
        },
        {
         "hoverinfo": "text",
         "hovertext": "Layer 5 routed_combined (logit: 1.482):<br>urada: 1.482<br>лата: 1.468<br>光彩: 1.415<br>ilk: 1.405<br>iling: 1.360",
         "marker": {
          "opacity": 0
         },
         "mode": "markers",
         "showlegend": false,
         "type": "scatter",
         "x": [
          1
         ],
         "y": [
          5
         ]
        },
        {
         "hoverinfo": "text",
         "hovertext": "Layer 5 expert 37 + residual (logit: 1.509, weight: 0.221):<br>лата: 1.509<br>urada: 1.483<br>ilk: 1.425<br>光彩: 1.386<br>妇: 1.368",
         "marker": {
          "opacity": 0
         },
         "mode": "markers",
         "showlegend": false,
         "type": "scatter",
         "x": [
          2
         ],
         "y": [
          5
         ]
        },
        {
         "hoverinfo": "text",
         "hovertext": "Layer 5 expert 49 + residual (logit: 1.470, weight: 0.069):<br>urada: 1.470<br>лата: 1.469<br>光彩: 1.412<br>ilk: 1.398<br> observat: 1.387",
         "marker": {
          "opacity": 0
         },
         "mode": "markers",
         "showlegend": false,
         "type": "scatter",
         "x": [
          3
         ],
         "y": [
          5
         ]
        },
        {
         "hoverinfo": "text",
         "hovertext": "Layer 5 expert 40 + residual (logit: 1.538, weight: 0.053):<br>urada: 1.538<br>лата: 1.475<br>光彩: 1.436<br>ilk: 1.409<br>iling: 1.393",
         "marker": {
          "opacity": 0
         },
         "mode": "markers",
         "showlegend": false,
         "type": "scatter",
         "x": [
          4
         ],
         "y": [
          5
         ]
        },
        {
         "hoverinfo": "text",
         "hovertext": "Layer 5 expert 53 + residual (logit: 1.463, weight: 0.045):<br>urada: 1.463<br>лата: 1.426<br>光彩: 1.423<br>ilk: 1.418<br>iling: 1.378",
         "marker": {
          "opacity": 0
         },
         "mode": "markers",
         "showlegend": false,
         "type": "scatter",
         "x": [
          5
         ],
         "y": [
          5
         ]
        },
        {
         "hoverinfo": "text",
         "hovertext": "Layer 5 expert 58 + residual (logit: 1.459, weight: 0.043):<br>urada: 1.459<br>лата: 1.432<br>ilk: 1.410<br>iling: 1.404<br>光彩: 1.400",
         "marker": {
          "opacity": 0
         },
         "mode": "markers",
         "showlegend": false,
         "type": "scatter",
         "x": [
          6
         ],
         "y": [
          5
         ]
        },
        {
         "hoverinfo": "text",
         "hovertext": "Layer 5 expert 62 + residual (logit: 1.550, weight: 0.034):<br>urada: 1.550<br>лата: 1.483<br>光彩: 1.442<br>ilk: 1.418<br>iling: 1.362",
         "marker": {
          "opacity": 0
         },
         "mode": "markers",
         "showlegend": false,
         "type": "scatter",
         "x": [
          7
         ],
         "y": [
          5
         ]
        },
        {
         "hoverinfo": "text",
         "hovertext": "Layer 6 l_out (logit: 2.068):<br> modernista: 2.068<br> urbans: 2.004<br>光彩: 1.903<br>ofs: 1.873<br>迟: 1.843",
         "marker": {
          "opacity": 0
         },
         "mode": "markers",
         "showlegend": false,
         "type": "scatter",
         "x": [
          0
         ],
         "y": [
          6
         ]
        },
        {
         "hoverinfo": "text",
         "hovertext": "Layer 6 routed_combined (logit: 1.845):<br> urbans: 1.845<br>光彩: 1.781<br>urat: 1.744<br> parlant: 1.661<br> modernista: 1.647",
         "marker": {
          "opacity": 0
         },
         "mode": "markers",
         "showlegend": false,
         "type": "scatter",
         "x": [
          1
         ],
         "y": [
          6
         ]
        },
        {
         "hoverinfo": "text",
         "hovertext": "Layer 6 expert 60 + residual (logit: 1.842, weight: 0.153):<br> urbans: 1.842<br>光彩: 1.806<br>urat: 1.762<br>支配: 1.655<br> modernista: 1.644",
         "marker": {
          "opacity": 0
         },
         "mode": "markers",
         "showlegend": false,
         "type": "scatter",
         "x": [
          2
         ],
         "y": [
          6
         ]
        },
        {
         "hoverinfo": "text",
         "hovertext": "Layer 6 expert 56 + residual (logit: 1.906, weight: 0.124):<br> urbans: 1.906<br>光彩: 1.855<br> modernista: 1.720<br>toctree: 1.713<br>urat: 1.703",
         "marker": {
          "opacity": 0
         },
         "mode": "markers",
         "showlegend": false,
         "type": "scatter",
         "x": [
          3
         ],
         "y": [
          6
         ]
        },
        {
         "hoverinfo": "text",
         "hovertext": "Layer 6 expert 55 + residual (logit: 1.847, weight: 0.055):<br> urbans: 1.847<br>光彩: 1.765<br>urat: 1.742<br>ancel: 1.693<br> parlant: 1.679",
         "marker": {
          "opacity": 0
         },
         "mode": "markers",
         "showlegend": false,
         "type": "scatter",
         "x": [
          4
         ],
         "y": [
          6
         ]
        },
        {
         "hoverinfo": "text",
         "hovertext": "Layer 6 expert 20 + residual (logit: 1.819, weight: 0.049):<br> urbans: 1.819<br>光彩: 1.776<br>urat: 1.699<br>支配: 1.662<br> modernista: 1.648",
         "marker": {
          "opacity": 0
         },
         "mode": "markers",
         "showlegend": false,
         "type": "scatter",
         "x": [
          5
         ],
         "y": [
          6
         ]
        },
        {
         "hoverinfo": "text",
         "hovertext": "Layer 6 expert 24 + residual (logit: 1.869, weight: 0.048):<br> urbans: 1.869<br>光彩: 1.808<br>urat: 1.705<br> parlant: 1.682<br>ancel: 1.675",
         "marker": {
          "opacity": 0
         },
         "mode": "markers",
         "showlegend": false,
         "type": "scatter",
         "x": [
          6
         ],
         "y": [
          6
         ]
        },
        {
         "hoverinfo": "text",
         "hovertext": "Layer 6 expert 21 + residual (logit: 2.443, weight: 0.033):<br> parlant: 2.443<br>uraci: 2.287<br>PECT: 2.207<br>AES: 2.197<br>urat: 2.189",
         "marker": {
          "opacity": 0
         },
         "mode": "markers",
         "showlegend": false,
         "type": "scatter",
         "x": [
          7
         ],
         "y": [
          6
         ]
        },
        {
         "hoverinfo": "text",
         "hovertext": "Layer 7 l_out (logit: 2.172):<br> modernista: 2.172<br>2: 1.956<br>inum: 1.908<br>4: 1.908<br>urada: 1.898",
         "marker": {
          "opacity": 0
         },
         "mode": "markers",
         "showlegend": false,
         "type": "scatter",
         "x": [
          0
         ],
         "y": [
          7
         ]
        },
        {
         "hoverinfo": "text",
         "hovertext": "Layer 7 routed_combined (logit: 2.193):<br>uder: 2.193<br> modernista: 2.176<br>toctree: 1.999<br>eter: 1.979<br>2: 1.963",
         "marker": {
          "opacity": 0
         },
         "mode": "markers",
         "showlegend": false,
         "type": "scatter",
         "x": [
          1
         ],
         "y": [
          7
         ]
        },
        {
         "hoverinfo": "text",
         "hovertext": "Layer 7 expert 12 + residual (logit: 2.207, weight: 0.238):<br>uder: 2.207<br> modernista: 2.170<br>eter: 2.006<br>toctree: 1.998<br>2: 1.948",
         "marker": {
          "opacity": 0
         },
         "mode": "markers",
         "showlegend": false,
         "type": "scatter",
         "x": [
          2
         ],
         "y": [
          7
         ]
        },
        {
         "hoverinfo": "text",
         "hovertext": "Layer 7 expert 9 + residual (logit: 2.223, weight: 0.119):<br> modernista: 2.223<br>uder: 2.135<br>光彩: 2.010<br>2: 1.981<br>toctree: 1.979",
         "marker": {
          "opacity": 0
         },
         "mode": "markers",
         "showlegend": false,
         "type": "scatter",
         "x": [
          3
         ],
         "y": [
          7
         ]
        },
        {
         "hoverinfo": "text",
         "hovertext": "Layer 7 expert 45 + residual (logit: 2.205, weight: 0.059):<br>uder: 2.205<br> modernista: 2.172<br>toctree: 1.999<br>eter: 1.993<br>2: 1.972",
         "marker": {
          "opacity": 0
         },
         "mode": "markers",
         "showlegend": false,
         "type": "scatter",
         "x": [
          4
         ],
         "y": [
          7
         ]
        },
        {
         "hoverinfo": "text",
         "hovertext": "Layer 7 expert 38 + residual (logit: 2.172, weight: 0.055):<br> modernista: 2.172<br>uder: 2.143<br>toctree: 2.027<br>eter: 2.000<br> causant: 1.935",
         "marker": {
          "opacity": 0
         },
         "mode": "markers",
         "showlegend": false,
         "type": "scatter",
         "x": [
          5
         ],
         "y": [
          7
         ]
        },
        {
         "hoverinfo": "text",
         "hovertext": "Layer 7 expert 61 + residual (logit: 2.166, weight: 0.034):<br> modernista: 2.166<br>uder: 2.160<br>toctree: 2.027<br>2: 2.021<br>eter: 1.987",
         "marker": {
          "opacity": 0
         },
         "mode": "markers",
         "showlegend": false,
         "type": "scatter",
         "x": [
          6
         ],
         "y": [
          7
         ]
        },
        {
         "hoverinfo": "text",
         "hovertext": "Layer 7 expert 23 + residual (logit: 2.246, weight: 0.032):<br>uder: 2.246<br> modernista: 2.135<br>toctree: 2.020<br>eter: 1.967<br> causant: 1.946",
         "marker": {
          "opacity": 0
         },
         "mode": "markers",
         "showlegend": false,
         "type": "scatter",
         "x": [
          7
         ],
         "y": [
          7
         ]
        },
        {
         "hoverinfo": "text",
         "hovertext": "Layer 8 l_out (logit: 2.461):<br>ctl: 2.461<br> causant: 2.369<br>inria: 2.355<br>toctree: 2.348<br>atine: 2.324",
         "marker": {
          "opacity": 0
         },
         "mode": "markers",
         "showlegend": false,
         "type": "scatter",
         "x": [
          0
         ],
         "y": [
          8
         ]
        },
        {
         "hoverinfo": "text",
         "hovertext": "Layer 8 routed_combined (logit: 2.824):<br>toctree: 2.824<br>inria: 2.658<br> causant: 2.549<br>pgdp: 2.400<br>urada: 2.400",
         "marker": {
          "opacity": 0
         },
         "mode": "markers",
         "showlegend": false,
         "type": "scatter",
         "x": [
          1
         ],
         "y": [
          8
         ]
        },
        {
         "hoverinfo": "text",
         "hovertext": "Layer 8 expert 45 + residual (logit: 2.777, weight: 0.076):<br>toctree: 2.777<br>inria: 2.717<br> causant: 2.629<br>urada: 2.514<br>pgdp: 2.369",
         "marker": {
          "opacity": 0
         },
         "mode": "markers",
         "showlegend": false,
         "type": "scatter",
         "x": [
          2
         ],
         "y": [
          8
         ]
        },
        {
         "hoverinfo": "text",
         "hovertext": "Layer 8 expert 52 + residual (logit: 2.676, weight: 0.063):<br>inria: 2.676<br>toctree: 2.611<br> causant: 2.574<br>atine: 2.387<br>urada: 2.363",
         "marker": {
          "opacity": 0
         },
         "mode": "markers",
         "showlegend": false,
         "type": "scatter",
         "x": [
          3
         ],
         "y": [
          8
         ]
        },
        {
         "hoverinfo": "text",
         "hovertext": "Layer 8 expert 62 + residual (logit: 2.828, weight: 0.061):<br>toctree: 2.828<br>inria: 2.650<br> causant: 2.537<br>pgdp: 2.422<br>urada: 2.375",
         "marker": {
          "opacity": 0
         },
         "mode": "markers",
         "showlegend": false,
         "type": "scatter",
         "x": [
          4
         ],
         "y": [
          8
         ]
        },
        {
         "hoverinfo": "text",
         "hovertext": "Layer 8 expert 4 + residual (logit: 2.871, weight: 0.060):<br>toctree: 2.871<br>inria: 2.637<br> causant: 2.607<br>atine: 2.412<br>urada: 2.402",
         "marker": {
          "opacity": 0
         },
         "mode": "markers",
         "showlegend": false,
         "type": "scatter",
         "x": [
          5
         ],
         "y": [
          8
         ]
        },
        {
         "hoverinfo": "text",
         "hovertext": "Layer 8 expert 32 + residual (logit: 3.213, weight: 0.038):<br>toctree: 3.213<br>inria: 2.963<br>同仁: 2.623<br>pgdp: 2.605<br> causant: 2.537",
         "marker": {
          "opacity": 0
         },
         "mode": "markers",
         "showlegend": false,
         "type": "scatter",
         "x": [
          6
         ],
         "y": [
          8
         ]
        },
        {
         "hoverinfo": "text",
         "hovertext": "Layer 8 expert 5 + residual (logit: 2.846, weight: 0.037):<br>toctree: 2.846<br>inria: 2.654<br> causant: 2.580<br>urada: 2.447<br>pgdp: 2.387",
         "marker": {
          "opacity": 0
         },
         "mode": "markers",
         "showlegend": false,
         "type": "scatter",
         "x": [
          7
         ],
         "y": [
          8
         ]
        },
        {
         "hoverinfo": "text",
         "hovertext": "Layer 9 l_out (logit: 2.635):<br> causant: 2.635<br>STOR: 2.547<br> modernista: 2.469<br>ctl: 2.465<br>UM: 2.322",
         "marker": {
          "opacity": 0
         },
         "mode": "markers",
         "showlegend": false,
         "type": "scatter",
         "x": [
          0
         ],
         "y": [
          9
         ]
        },
        {
         "hoverinfo": "text",
         "hovertext": "Layer 9 routed_combined (logit: 2.922):<br> causant: 2.922<br>ctl: 2.539<br>STOR: 2.518<br>atine: 2.480<br> modernista: 2.424",
         "marker": {
          "opacity": 0
         },
         "mode": "markers",
         "showlegend": false,
         "type": "scatter",
         "x": [
          1
         ],
         "y": [
          9
         ]
        },
        {
         "hoverinfo": "text",
         "hovertext": "Layer 9 expert 0 + residual (logit: 2.969, weight: 0.049):<br> causant: 2.969<br>ctl: 2.531<br>toctree: 2.525<br>STOR: 2.492<br>atine: 2.445",
         "marker": {
          "opacity": 0
         },
         "mode": "markers",
         "showlegend": false,
         "type": "scatter",
         "x": [
          2
         ],
         "y": [
          9
         ]
        },
        {
         "hoverinfo": "text",
         "hovertext": "Layer 9 expert 59 + residual (logit: 2.977, weight: 0.046):<br> causant: 2.977<br>atine: 2.580<br>ctl: 2.578<br> modernista: 2.510<br>STOR: 2.451",
         "marker": {
          "opacity": 0
         },
         "mode": "markers",
         "showlegend": false,
         "type": "scatter",
         "x": [
          3
         ],
         "y": [
          9
         ]
        },
        {
         "hoverinfo": "text",
         "hovertext": "Layer 9 expert 41 + residual (logit: 2.951, weight: 0.042):<br> causant: 2.951<br>ctl: 2.521<br>STOR: 2.516<br>atine: 2.459<br> modernista: 2.430",
         "marker": {
          "opacity": 0
         },
         "mode": "markers",
         "showlegend": false,
         "type": "scatter",
         "x": [
          4
         ],
         "y": [
          9
         ]
        },
        {
         "hoverinfo": "text",
         "hovertext": "Layer 9 expert 44 + residual (logit: 2.939, weight: 0.036):<br> causant: 2.939<br>ctl: 2.607<br>STOR: 2.566<br>toctree: 2.434<br> modernista: 2.418",
         "marker": {
          "opacity": 0
         },
         "mode": "markers",
         "showlegend": false,
         "type": "scatter",
         "x": [
          5
         ],
         "y": [
          9
         ]
        },
        {
         "hoverinfo": "text",
         "hovertext": "Layer 9 expert 9 + residual (logit: 2.928, weight: 0.035):<br> causant: 2.928<br>ctl: 2.572<br>STOR: 2.553<br>atine: 2.541<br> modernista: 2.412",
         "marker": {
          "opacity": 0
         },
         "mode": "markers",
         "showlegend": false,
         "type": "scatter",
         "x": [
          6
         ],
         "y": [
          9
         ]
        },
        {
         "hoverinfo": "text",
         "hovertext": "Layer 9 expert 63 + residual (logit: 2.852, weight: 0.035):<br> causant: 2.852<br>ctl: 2.568<br>STOR: 2.541<br> modernista: 2.496<br>atine: 2.486",
         "marker": {
          "opacity": 0
         },
         "mode": "markers",
         "showlegend": false,
         "type": "scatter",
         "x": [
          7
         ],
         "y": [
          9
         ]
        },
        {
         "hoverinfo": "text",
         "hovertext": "Layer 10 l_out (logit: 3.299):<br>eses: 3.299<br> modernista: 3.174<br> causant: 2.912<br> observat: 2.906<br>toctree: 2.896",
         "marker": {
          "opacity": 0
         },
         "mode": "markers",
         "showlegend": false,
         "type": "scatter",
         "x": [
          0
         ],
         "y": [
          10
         ]
        },
        {
         "hoverinfo": "text",
         "hovertext": "Layer 10 routed_combined (logit: 3.295):<br> modernista: 3.295<br>STOR: 3.285<br> causant: 3.246<br>toctree: 3.240<br> Burgos: 3.184",
         "marker": {
          "opacity": 0
         },
         "mode": "markers",
         "showlegend": false,
         "type": "scatter",
         "x": [
          1
         ],
         "y": [
          10
         ]
        },
        {
         "hoverinfo": "text",
         "hovertext": "Layer 10 expert 16 + residual (logit: 3.521, weight: 0.145):<br> causant: 3.521<br>STOR: 3.516<br> modernista: 3.412<br> Burgos: 3.238<br>Habitants: 3.219",
         "marker": {
          "opacity": 0
         },
         "mode": "markers",
         "showlegend": false,
         "type": "scatter",
         "x": [
          2
         ],
         "y": [
          10
         ]
        },
        {
         "hoverinfo": "text",
         "hovertext": "Layer 10 expert 0 + residual (logit: 3.398, weight: 0.131):<br> causant: 3.398<br> modernista: 3.371<br>STOR: 3.307<br>toctree: 3.293<br> Burgos: 3.215",
         "marker": {
          "opacity": 0
         },
         "mode": "markers",
         "showlegend": false,
         "type": "scatter",
         "x": [
          3
         ],
         "y": [
          10
         ]
        },
        {
         "hoverinfo": "text",
         "hovertext": "Layer 10 expert 1 + residual (logit: 3.361, weight: 0.106):<br> modernista: 3.361<br>toctree: 3.264<br>STOR: 3.234<br> causant: 3.107<br> Burgos: 3.107",
         "marker": {
          "opacity": 0
         },
         "mode": "markers",
         "showlegend": false,
         "type": "scatter",
         "x": [
          4
         ],
         "y": [
          10
         ]
        },
        {
         "hoverinfo": "text",
         "hovertext": "Layer 10 expert 2 + residual (logit: 3.299, weight: 0.075):<br>toctree: 3.299<br>STOR: 3.285<br> modernista: 3.211<br> Burgos: 3.193<br> causant: 3.146",
         "marker": {
          "opacity": 0
         },
         "mode": "markers",
         "showlegend": false,
         "type": "scatter",
         "x": [
          5
         ],
         "y": [
          10
         ]
        },
        {
         "hoverinfo": "text",
         "hovertext": "Layer 10 expert 40 + residual (logit: 3.309, weight: 0.041):<br> modernista: 3.309<br>toctree: 3.287<br>STOR: 3.205<br> causant: 3.201<br> Burgos: 3.160",
         "marker": {
          "opacity": 0
         },
         "mode": "markers",
         "showlegend": false,
         "type": "scatter",
         "x": [
          6
         ],
         "y": [
          10
         ]
        },
        {
         "hoverinfo": "text",
         "hovertext": "Layer 10 expert 30 + residual (logit: 3.246, weight: 0.039):<br> modernista: 3.246<br>STOR: 3.195<br>toctree: 3.180<br> Burgos: 3.156<br> causant: 3.143",
         "marker": {
          "opacity": 0
         },
         "mode": "markers",
         "showlegend": false,
         "type": "scatter",
         "x": [
          7
         ],
         "y": [
          10
         ]
        },
        {
         "hoverinfo": "text",
         "hovertext": "Layer 11 l_out (logit: 4.047):<br> modernista: 4.047<br>原文地址: 3.896<br>ither: 3.492<br> causant: 3.490<br>ety: 3.436",
         "marker": {
          "opacity": 0
         },
         "mode": "markers",
         "showlegend": false,
         "type": "scatter",
         "x": [
          0
         ],
         "y": [
          11
         ]
        },
        {
         "hoverinfo": "text",
         "hovertext": "Layer 11 routed_combined (logit: 4.137):<br> modernista: 4.137<br> causant: 3.789<br>原文地址: 3.547<br>bur: 3.504<br>hdots: 3.449",
         "marker": {
          "opacity": 0
         },
         "mode": "markers",
         "showlegend": false,
         "type": "scatter",
         "x": [
          1
         ],
         "y": [
          11
         ]
        },
        {
         "hoverinfo": "text",
         "hovertext": "Layer 11 expert 45 + residual (logit: 4.219, weight: 0.120):<br> modernista: 4.219<br>原文地址: 3.781<br> causant: 3.658<br>bur: 3.588<br>hdots: 3.502",
         "marker": {
          "opacity": 0
         },
         "mode": "markers",
         "showlegend": false,
         "type": "scatter",
         "x": [
          2
         ],
         "y": [
          11
         ]
        },
        {
         "hoverinfo": "text",
         "hovertext": "Layer 11 expert 30 + residual (logit: 4.203, weight: 0.071):<br> modernista: 4.203<br> causant: 3.682<br>原文地址: 3.668<br>hdots: 3.416<br>bur: 3.416",
         "marker": {
          "opacity": 0
         },
         "mode": "markers",
         "showlegend": false,
         "type": "scatter",
         "x": [
          3
         ],
         "y": [
          11
         ]
        },
        {
         "hoverinfo": "text",
         "hovertext": "Layer 11 expert 54 + residual (logit: 4.043, weight: 0.055):<br> modernista: 4.043<br> causant: 3.838<br>原文地址: 3.520<br>hdots: 3.482<br>bur: 3.479",
         "marker": {
          "opacity": 0
         },
         "mode": "markers",
         "showlegend": false,
         "type": "scatter",
         "x": [
          4
         ],
         "y": [
          11
         ]
        },
        {
         "hoverinfo": "text",
         "hovertext": "Layer 11 expert 44 + residual (logit: 4.141, weight: 0.054):<br> modernista: 4.141<br> causant: 3.785<br>bur: 3.600<br>原文地址: 3.529<br>hdots: 3.518",
         "marker": {
          "opacity": 0
         },
         "mode": "markers",
         "showlegend": false,
         "type": "scatter",
         "x": [
          5
         ],
         "y": [
          11
         ]
        },
        {
         "hoverinfo": "text",
         "hovertext": "Layer 11 expert 3 + residual (logit: 4.270, weight: 0.053):<br> modernista: 4.270<br> causant: 4.152<br>bur: 3.820<br> documentada: 3.566<br>hdots: 3.525",
         "marker": {
          "opacity": 0
         },
         "mode": "markers",
         "showlegend": false,
         "type": "scatter",
         "x": [
          6
         ],
         "y": [
          11
         ]
        },
        {
         "hoverinfo": "text",
         "hovertext": "Layer 11 expert 2 + residual (logit: 4.109, weight: 0.038):<br> modernista: 4.109<br> causant: 3.779<br>原文地址: 3.506<br>bur: 3.467<br>hdots: 3.430",
         "marker": {
          "opacity": 0
         },
         "mode": "markers",
         "showlegend": false,
         "type": "scatter",
         "x": [
          7
         ],
         "y": [
          11
         ]
        },
        {
         "hoverinfo": "text",
         "hovertext": "Layer 12 l_out (logit: 4.324):<br>原文地址: 4.324<br> modernista: 4.211<br>PHA: 3.748<br>над: 3.678<br>hdots: 3.590",
         "marker": {
          "opacity": 0
         },
         "mode": "markers",
         "showlegend": false,
         "type": "scatter",
         "x": [
          0
         ],
         "y": [
          12
         ]
        },
        {
         "hoverinfo": "text",
         "hovertext": "Layer 12 routed_combined (logit: 4.336):<br> modernista: 4.336<br>原文地址: 4.125<br> causant: 3.766<br>PHA: 3.674<br>ither: 3.639",
         "marker": {
          "opacity": 0
         },
         "mode": "markers",
         "showlegend": false,
         "type": "scatter",
         "x": [
          1
         ],
         "y": [
          12
         ]
        },
        {
         "hoverinfo": "text",
         "hovertext": "Layer 12 expert 48 + residual (logit: 4.512, weight: 0.155):<br> modernista: 4.512<br>原文地址: 4.383<br>4: 3.898<br>hdots: 3.871<br> causant: 3.865",
         "marker": {
          "opacity": 0
         },
         "mode": "markers",
         "showlegend": false,
         "type": "scatter",
         "x": [
          2
         ],
         "y": [
          12
         ]
        },
        {
         "hoverinfo": "text",
         "hovertext": "Layer 12 expert 1 + residual (logit: 4.289, weight: 0.077):<br> modernista: 4.289<br>原文地址: 4.227<br> causant: 3.887<br>PHA: 3.877<br>ety: 3.686",
         "marker": {
          "opacity": 0
         },
         "mode": "markers",
         "showlegend": false,
         "type": "scatter",
         "x": [
          3
         ],
         "y": [
          12
         ]
        },
        {
         "hoverinfo": "text",
         "hovertext": "Layer 12 expert 33 + residual (logit: 4.238, weight: 0.075):<br> modernista: 4.238<br>原文地址: 4.086<br> causant: 3.723<br>ither: 3.588<br>ety: 3.555",
         "marker": {
          "opacity": 0
         },
         "mode": "markers",
         "showlegend": false,
         "type": "scatter",
         "x": [
          4
         ],
         "y": [
          12
         ]
        },
        {
         "hoverinfo": "text",
         "hovertext": "Layer 12 expert 61 + residual (logit: 4.363, weight: 0.048):<br> modernista: 4.363<br>原文地址: 4.082<br> causant: 3.740<br>ety: 3.719<br>PHA: 3.664",
         "marker": {
          "opacity": 0
         },
         "mode": "markers",
         "showlegend": false,
         "type": "scatter",
         "x": [
          5
         ],
         "y": [
          12
         ]
        },
        {
         "hoverinfo": "text",
         "hovertext": "Layer 12 expert 54 + residual (logit: 4.254, weight: 0.046):<br> modernista: 4.254<br>原文地址: 4.141<br>PHA: 3.678<br> causant: 3.656<br>ety: 3.641",
         "marker": {
          "opacity": 0
         },
         "mode": "markers",
         "showlegend": false,
         "type": "scatter",
         "x": [
          6
         ],
         "y": [
          12
         ]
        },
        {
         "hoverinfo": "text",
         "hovertext": "Layer 12 expert 35 + residual (logit: 4.320, weight: 0.028):<br> modernista: 4.320<br>原文地址: 4.047<br> causant: 3.770<br>PHA: 3.633<br>ety: 3.592",
         "marker": {
          "opacity": 0
         },
         "mode": "markers",
         "showlegend": false,
         "type": "scatter",
         "x": [
          7
         ],
         "y": [
          12
         ]
        },
        {
         "hoverinfo": "text",
         "hovertext": "Layer 13 l_out (logit: 4.242):<br>原文地址: 4.242<br>STOR: 3.965<br> modernista: 3.863<br>LOP: 3.828<br>над: 3.822",
         "marker": {
          "opacity": 0
         },
         "mode": "markers",
         "showlegend": false,
         "type": "scatter",
         "x": [
          0
         ],
         "y": [
          13
         ]
        },
        {
         "hoverinfo": "text",
         "hovertext": "Layer 13 routed_combined (logit: 4.973):<br>原文地址: 4.973<br> modernista: 4.359<br>PHA: 4.051<br>hdots: 3.887<br>LOP: 3.703",
         "marker": {
          "opacity": 0
         },
         "mode": "markers",
         "showlegend": false,
         "type": "scatter",
         "x": [
          1
         ],
         "y": [
          13
         ]
        },
        {
         "hoverinfo": "text",
         "hovertext": "Layer 13 expert 18 + residual (logit: 4.969, weight: 0.095):<br>原文地址: 4.969<br> modernista: 4.215<br>PHA: 3.959<br>hdots: 3.879<br>LOP: 3.836",
         "marker": {
          "opacity": 0
         },
         "mode": "markers",
         "showlegend": false,
         "type": "scatter",
         "x": [
          2
         ],
         "y": [
          13
         ]
        },
        {
         "hoverinfo": "text",
         "hovertext": "Layer 13 expert 38 + residual (logit: 5.141, weight: 0.077):<br>原文地址: 5.141<br>PHA: 4.418<br>hdots: 4.348<br> modernista: 4.340<br>ODE: 4.164",
         "marker": {
          "opacity": 0
         },
         "mode": "markers",
         "showlegend": false,
         "type": "scatter",
         "x": [
          3
         ],
         "y": [
          13
         ]
        },
        {
         "hoverinfo": "text",
         "hovertext": "Layer 13 expert 55 + residual (logit: 4.930, weight: 0.070):<br>原文地址: 4.930<br> modernista: 4.359<br>PHA: 4.035<br>hdots: 3.814<br> causant: 3.680",
         "marker": {
          "opacity": 0
         },
         "mode": "markers",
         "showlegend": false,
         "type": "scatter",
         "x": [
          4
         ],
         "y": [
          13
         ]
        },
        {
         "hoverinfo": "text",
         "hovertext": "Layer 13 expert 9 + residual (logit: 4.859, weight: 0.065):<br>原文地址: 4.859<br> modernista: 4.234<br>PHA: 4.016<br>hdots: 3.797<br> causant: 3.734",
         "marker": {
          "opacity": 0
         },
         "mode": "markers",
         "showlegend": false,
         "type": "scatter",
         "x": [
          5
         ],
         "y": [
          13
         ]
        },
        {
         "hoverinfo": "text",
         "hovertext": "Layer 13 expert 23 + residual (logit: 4.977, weight: 0.064):<br>原文地址: 4.977<br> modernista: 4.445<br>PHA: 4.133<br>hdots: 3.902<br>LOP: 3.791",
         "marker": {
          "opacity": 0
         },
         "mode": "markers",
         "showlegend": false,
         "type": "scatter",
         "x": [
          6
         ],
         "y": [
          13
         ]
        },
        {
         "hoverinfo": "text",
         "hovertext": "Layer 13 expert 33 + residual (logit: 5.004, weight: 0.055):<br>原文地址: 5.004<br> modernista: 4.453<br>PHA: 4.109<br>hdots: 3.799<br> causant: 3.762",
         "marker": {
          "opacity": 0
         },
         "mode": "markers",
         "showlegend": false,
         "type": "scatter",
         "x": [
          7
         ],
         "y": [
          13
         ]
        },
        {
         "hoverinfo": "text",
         "hovertext": "Layer 14 l_out (logit: 4.863):<br>原文地址: 4.863<br> modernista: 4.480<br>STOR: 4.375<br>ODO: 4.305<br>LOP: 4.109",
         "marker": {
          "opacity": 0
         },
         "mode": "markers",
         "showlegend": false,
         "type": "scatter",
         "x": [
          0
         ],
         "y": [
          14
         ]
        },
        {
         "hoverinfo": "text",
         "hovertext": "Layer 14 routed_combined (logit: 5.496):<br>原文地址: 5.496<br> modernista: 4.262<br>STOR: 4.129<br>над: 4.070<br>ODO: 4.051",
         "marker": {
          "opacity": 0
         },
         "mode": "markers",
         "showlegend": false,
         "type": "scatter",
         "x": [
          1
         ],
         "y": [
          14
         ]
        },
        {
         "hoverinfo": "text",
         "hovertext": "Layer 14 expert 44 + residual (logit: 5.527, weight: 0.112):<br>原文地址: 5.527<br> modernista: 4.238<br>STOR: 4.113<br>ODO: 4.078<br>над: 4.039",
         "marker": {
          "opacity": 0
         },
         "mode": "markers",
         "showlegend": false,
         "type": "scatter",
         "x": [
          2
         ],
         "y": [
          14
         ]
        },
        {
         "hoverinfo": "text",
         "hovertext": "Layer 14 expert 4 + residual (logit: 5.699, weight: 0.104):<br>原文地址: 5.699<br> modernista: 4.391<br>YL: 4.211<br>ODO: 4.207<br>STOR: 4.203",
         "marker": {
          "opacity": 0
         },
         "mode": "markers",
         "showlegend": false,
         "type": "scatter",
         "x": [
          3
         ],
         "y": [
          14
         ]
        },
        {
         "hoverinfo": "text",
         "hovertext": "Layer 14 expert 10 + residual (logit: 5.504, weight: 0.069):<br>原文地址: 5.504<br> modernista: 4.332<br>STOR: 4.117<br>над: 4.074<br>ODO: 4.012",
         "marker": {
          "opacity": 0
         },
         "mode": "markers",
         "showlegend": false,
         "type": "scatter",
         "x": [
          4
         ],
         "y": [
          14
         ]
        },
        {
         "hoverinfo": "text",
         "hovertext": "Layer 14 expert 36 + residual (logit: 5.355, weight: 0.068):<br>原文地址: 5.355<br> modernista: 4.270<br>STOR: 4.066<br>над: 3.984<br>ODO: 3.953",
         "marker": {
          "opacity": 0
         },
         "mode": "markers",
         "showlegend": false,
         "type": "scatter",
         "x": [
          5
         ],
         "y": [
          14
         ]
        },
        {
         "hoverinfo": "text",
         "hovertext": "Layer 14 expert 2 + residual (logit: 5.434, weight: 0.037):<br>原文地址: 5.434<br> modernista: 4.285<br>STOR: 4.145<br>над: 4.121<br>ODO: 4.055",
         "marker": {
          "opacity": 0
         },
         "mode": "markers",
         "showlegend": false,
         "type": "scatter",
         "x": [
          6
         ],
         "y": [
          14
         ]
        },
        {
         "hoverinfo": "text",
         "hovertext": "Layer 14 expert 45 + residual (logit: 5.426, weight: 0.033):<br>原文地址: 5.426<br> modernista: 4.234<br>STOR: 4.137<br>над: 4.113<br>ODO: 4.035",
         "marker": {
          "opacity": 0
         },
         "mode": "markers",
         "showlegend": false,
         "type": "scatter",
         "x": [
          7
         ],
         "y": [
          14
         ]
        },
        {
         "hoverinfo": "text",
         "hovertext": "Layer 15 l_out (logit: 5.332):<br> modernista: 5.332<br>4: 4.938<br>原文地址: 4.801<br>LOP: 4.734<br>1: 4.699",
         "marker": {
          "opacity": 0
         },
         "mode": "markers",
         "showlegend": false,
         "type": "scatter",
         "x": [
          0
         ],
         "y": [
          15
         ]
        },
        {
         "hoverinfo": "text",
         "hovertext": "Layer 15 routed_combined (logit: 5.762):<br>原文地址: 5.762<br> modernista: 5.566<br>LOP: 5.207<br>гат: 4.832<br> senz: 4.699",
         "marker": {
          "opacity": 0
         },
         "mode": "markers",
         "showlegend": false,
         "type": "scatter",
         "x": [
          1
         ],
         "y": [
          15
         ]
        },
        {
         "hoverinfo": "text",
         "hovertext": "Layer 15 expert 27 + residual (logit: 5.750, weight: 0.137):<br>原文地址: 5.750<br> modernista: 5.566<br>LOP: 5.215<br>гат: 4.840<br> senz: 4.715",
         "marker": {
          "opacity": 0
         },
         "mode": "markers",
         "showlegend": false,
         "type": "scatter",
         "x": [
          2
         ],
         "y": [
          15
         ]
        },
        {
         "hoverinfo": "text",
         "hovertext": "Layer 15 expert 28 + residual (logit: 5.883, weight: 0.063):<br>原文地址: 5.883<br> modernista: 5.562<br>LOP: 5.035<br>над: 4.766<br>гат: 4.738",
         "marker": {
          "opacity": 0
         },
         "mode": "markers",
         "showlegend": false,
         "type": "scatter",
         "x": [
          3
         ],
         "y": [
          15
         ]
        },
        {
         "hoverinfo": "text",
         "hovertext": "Layer 15 expert 18 + residual (logit: 5.891, weight: 0.061):<br>原文地址: 5.891<br> modernista: 5.523<br>LOP: 5.152<br>гат: 4.848<br>劫: 4.828",
         "marker": {
          "opacity": 0
         },
         "mode": "markers",
         "showlegend": false,
         "type": "scatter",
         "x": [
          4
         ],
         "y": [
          15
         ]
        },
        {
         "hoverinfo": "text",
         "hovertext": "Layer 15 expert 59 + residual (logit: 5.691, weight: 0.061):<br>原文地址: 5.691<br> modernista: 5.625<br>LOP: 5.297<br>гат: 4.812<br>劫: 4.730",
         "marker": {
          "opacity": 0
         },
         "mode": "markers",
         "showlegend": false,
         "type": "scatter",
         "x": [
          5
         ],
         "y": [
          15
         ]
        },
        {
         "hoverinfo": "text",
         "hovertext": "Layer 15 expert 2 + residual (logit: 5.703, weight: 0.055):<br>原文地址: 5.703<br> modernista: 5.586<br>LOP: 5.254<br>гат: 4.852<br>ODO: 4.746",
         "marker": {
          "opacity": 0
         },
         "mode": "markers",
         "showlegend": false,
         "type": "scatter",
         "x": [
          6
         ],
         "y": [
          15
         ]
        },
        {
         "hoverinfo": "text",
         "hovertext": "Layer 15 expert 46 + residual (logit: 5.680, weight: 0.053):<br>原文地址: 5.680<br> modernista: 5.609<br>LOP: 5.199<br>гат: 4.828<br>STOR: 4.711",
         "marker": {
          "opacity": 0
         },
         "mode": "markers",
         "showlegend": false,
         "type": "scatter",
         "x": [
          7
         ],
         "y": [
          15
         ]
        },
        {
         "hoverinfo": "text",
         "hovertext": "Layer 16 l_out (logit: 6.238):<br>4: 6.238<br>1: 6.207<br>7: 6.070<br>9: 6.051<br>8: 5.930",
         "marker": {
          "opacity": 0
         },
         "mode": "markers",
         "showlegend": false,
         "type": "scatter",
         "x": [
          0
         ],
         "y": [
          16
         ]
        },
        {
         "hoverinfo": "text",
         "hovertext": "Layer 16 routed_combined (logit: 5.492):<br>原文地址: 5.492<br> modernista: 5.453<br>4: 5.359<br> digraph: 5.297<br>7: 5.195",
         "marker": {
          "opacity": 0
         },
         "mode": "markers",
         "showlegend": false,
         "type": "scatter",
         "x": [
          1
         ],
         "y": [
          16
         ]
        },
        {
         "hoverinfo": "text",
         "hovertext": "Layer 16 expert 19 + residual (logit: 5.684, weight: 0.153):<br>4: 5.684<br> modernista: 5.609<br>9: 5.559<br>7: 5.527<br>原文地址: 5.496",
         "marker": {
          "opacity": 0
         },
         "mode": "markers",
         "showlegend": false,
         "type": "scatter",
         "x": [
          2
         ],
         "y": [
          16
         ]
        },
        {
         "hoverinfo": "text",
         "hovertext": "Layer 16 expert 16 + residual (logit: 5.531, weight: 0.072):<br> modernista: 5.531<br> digraph: 5.281<br>原文地址: 5.195<br>над: 5.137<br>劫: 5.062",
         "marker": {
          "opacity": 0
         },
         "mode": "markers",
         "showlegend": false,
         "type": "scatter",
         "x": [
          3
         ],
         "y": [
          16
         ]
        },
        {
         "hoverinfo": "text",
         "hovertext": "Layer 16 expert 40 + residual (logit: 5.457, weight: 0.061):<br>原文地址: 5.457<br>4: 5.414<br> modernista: 5.363<br>7: 5.258<br> digraph: 5.215",
         "marker": {
          "opacity": 0
         },
         "mode": "markers",
         "showlegend": false,
         "type": "scatter",
         "x": [
          4
         ],
         "y": [
          16
         ]
        },
        {
         "hoverinfo": "text",
         "hovertext": "Layer 16 expert 23 + residual (logit: 5.641, weight: 0.059):<br>原文地址: 5.641<br> modernista: 5.496<br> digraph: 5.301<br>4: 5.211<br>над: 5.164",
         "marker": {
          "opacity": 0
         },
         "mode": "markers",
         "showlegend": false,
         "type": "scatter",
         "x": [
          5
         ],
         "y": [
          16
         ]
        },
        {
         "hoverinfo": "text",
         "hovertext": "Layer 16 expert 36 + residual (logit: 5.434, weight: 0.055):<br>4: 5.434<br>原文地址: 5.418<br> modernista: 5.414<br> digraph: 5.270<br>7: 5.238",
         "marker": {
          "opacity": 0
         },
         "mode": "markers",
         "showlegend": false,
         "type": "scatter",
         "x": [
          6
         ],
         "y": [
          16
         ]
        },
        {
         "hoverinfo": "text",
         "hovertext": "Layer 16 expert 10 + residual (logit: 7.203, weight: 0.054):<br>4: 7.203<br>7: 7.086<br>1: 6.938<br>8: 6.887<br>0: 6.680",
         "marker": {
          "opacity": 0
         },
         "mode": "markers",
         "showlegend": false,
         "type": "scatter",
         "x": [
          7
         ],
         "y": [
          16
         ]
        },
        {
         "hoverinfo": "text",
         "hovertext": "Layer 17 l_out (logit: 6.383):<br> modernista: 6.383<br> digraph: 6.301<br> observat: 6.250<br> внима: 6.207<br>LOP: 5.996",
         "marker": {
          "opacity": 0
         },
         "mode": "markers",
         "showlegend": false,
         "type": "scatter",
         "x": [
          0
         ],
         "y": [
          17
         ]
        },
        {
         "hoverinfo": "text",
         "hovertext": "Layer 17 routed_combined (logit: 6.129):<br> modernista: 6.129<br> digraph: 6.098<br> observat: 5.832<br>LOP: 5.641<br> внима: 5.613",
         "marker": {
          "opacity": 0
         },
         "mode": "markers",
         "showlegend": false,
         "type": "scatter",
         "x": [
          1
         ],
         "y": [
          17
         ]
        },
        {
         "hoverinfo": "text",
         "hovertext": "Layer 17 expert 57 + residual (logit: 6.320, weight: 0.107):<br> modernista: 6.320<br> digraph: 6.078<br> observat: 5.891<br>LOP: 5.680<br> внима: 5.672",
         "marker": {
          "opacity": 0
         },
         "mode": "markers",
         "showlegend": false,
         "type": "scatter",
         "x": [
          2
         ],
         "y": [
          17
         ]
        },
        {
         "hoverinfo": "text",
         "hovertext": "Layer 17 expert 17 + residual (logit: 6.227, weight: 0.084):<br> digraph: 6.227<br> modernista: 6.164<br> внима: 6.102<br> observat: 5.746<br>LOP: 5.629",
         "marker": {
          "opacity": 0
         },
         "mode": "markers",
         "showlegend": false,
         "type": "scatter",
         "x": [
          3
         ],
         "y": [
          17
         ]
        },
        {
         "hoverinfo": "text",
         "hovertext": "Layer 17 expert 42 + residual (logit: 6.105, weight: 0.049):<br> digraph: 6.105<br> modernista: 6.047<br> observat: 5.844<br>LOP: 5.688<br> внима: 5.566",
         "marker": {
          "opacity": 0
         },
         "mode": "markers",
         "showlegend": false,
         "type": "scatter",
         "x": [
          4
         ],
         "y": [
          17
         ]
        },
        {
         "hoverinfo": "text",
         "hovertext": "Layer 17 expert 62 + residual (logit: 6.129, weight: 0.048):<br> modernista: 6.129<br> digraph: 6.066<br> observat: 5.887<br>LOP: 5.680<br>�: 5.605",
         "marker": {
          "opacity": 0
         },
         "mode": "markers",
         "showlegend": false,
         "type": "scatter",
         "x": [
          5
         ],
         "y": [
          17
         ]
        },
        {
         "hoverinfo": "text",
         "hovertext": "Layer 17 expert 38 + residual (logit: 6.086, weight: 0.044):<br> digraph: 6.086<br> modernista: 6.055<br> observat: 5.789<br>�: 5.629<br> внима: 5.582",
         "marker": {
          "opacity": 0
         },
         "mode": "markers",
         "showlegend": false,
         "type": "scatter",
         "x": [
          6
         ],
         "y": [
          17
         ]
        },
        {
         "hoverinfo": "text",
         "hovertext": "Layer 17 expert 20 + residual (logit: 6.148, weight: 0.036):<br> digraph: 6.148<br> modernista: 6.137<br> observat: 5.895<br>LOP: 5.602<br> внима: 5.598",
         "marker": {
          "opacity": 0
         },
         "mode": "markers",
         "showlegend": false,
         "type": "scatter",
         "x": [
          7
         ],
         "y": [
          17
         ]
        },
        {
         "hoverinfo": "text",
         "hovertext": "Layer 18 l_out (logit: 7.852):<br> digraph: 7.852<br> modernista: 7.312<br> observat: 6.785<br>�: 6.742<br> dalt: 6.652",
         "marker": {
          "opacity": 0
         },
         "mode": "markers",
         "showlegend": false,
         "type": "scatter",
         "x": [
          0
         ],
         "y": [
          18
         ]
        },
        {
         "hoverinfo": "text",
         "hovertext": "Layer 18 routed_combined (logit: 7.453):<br> digraph: 7.453<br> modernista: 6.793<br> observat: 6.621<br> внима: 6.586<br> dalt: 6.078",
         "marker": {
          "opacity": 0
         },
         "mode": "markers",
         "showlegend": false,
         "type": "scatter",
         "x": [
          1
         ],
         "y": [
          18
         ]
        },
        {
         "hoverinfo": "text",
         "hovertext": "Layer 18 expert 49 + residual (logit: 8.336, weight: 0.480):<br> digraph: 8.336<br> modernista: 7.441<br> observat: 7.160<br> dalt: 6.695<br> внима: 6.605",
         "marker": {
          "opacity": 0
         },
         "mode": "markers",
         "showlegend": false,
         "type": "scatter",
         "x": [
          2
         ],
         "y": [
          18
         ]
        },
        {
         "hoverinfo": "text",
         "hovertext": "Layer 18 expert 62 + residual (logit: 6.738, weight: 0.054):<br> внима: 6.738<br> digraph: 6.656<br> modernista: 6.238<br> observat: 6.145<br> dalt: 5.566",
         "marker": {
          "opacity": 0
         },
         "mode": "markers",
         "showlegend": false,
         "type": "scatter",
         "x": [
          3
         ],
         "y": [
          18
         ]
        },
        {
         "hoverinfo": "text",
         "hovertext": "Layer 18 expert 7 + residual (logit: 6.578, weight: 0.038):<br> digraph: 6.578<br> внима: 6.551<br> observat: 6.129<br> modernista: 6.086<br>AGO: 5.535",
         "marker": {
          "opacity": 0
         },
         "mode": "markers",
         "showlegend": false,
         "type": "scatter",
         "x": [
          4
         ],
         "y": [
          18
         ]
        },
        {
         "hoverinfo": "text",
         "hovertext": "Layer 18 expert 57 + residual (logit: 6.613, weight: 0.034):<br> digraph: 6.613<br> внима: 6.543<br> modernista: 6.254<br> observat: 6.113<br> Ministre: 5.555",
         "marker": {
          "opacity": 0
         },
         "mode": "markers",
         "showlegend": false,
         "type": "scatter",
         "x": [
          5
         ],
         "y": [
          18
         ]
        },
        {
         "hoverinfo": "text",
         "hovertext": "Layer 18 expert 43 + residual (logit: 6.555, weight: 0.028):<br> внима: 6.555<br> digraph: 6.547<br> observat: 6.148<br> modernista: 6.137<br>全力以赴: 5.625",
         "marker": {
          "opacity": 0
         },
         "mode": "markers",
         "showlegend": false,
         "type": "scatter",
         "x": [
          6
         ],
         "y": [
          18
         ]
        },
        {
         "hoverinfo": "text",
         "hovertext": "Layer 18 expert 14 + residual (logit: 6.613, weight: 0.026):<br> digraph: 6.613<br> внима: 6.520<br> modernista: 6.227<br> observat: 6.117<br> Ministre: 5.516",
         "marker": {
          "opacity": 0
         },
         "mode": "markers",
         "showlegend": false,
         "type": "scatter",
         "x": [
          7
         ],
         "y": [
          18
         ]
        },
        {
         "hoverinfo": "text",
         "hovertext": "Layer 19 l_out (logit: 7.859):<br> observat: 7.859<br> modernista: 7.750<br> digraph: 7.730<br>�: 7.262<br>urs: 6.875",
         "marker": {
          "opacity": 0
         },
         "mode": "markers",
         "showlegend": false,
         "type": "scatter",
         "x": [
          0
         ],
         "y": [
          19
         ]
        },
        {
         "hoverinfo": "text",
         "hovertext": "Layer 19 routed_combined (logit: 8.133):<br> digraph: 8.133<br> modernista: 7.844<br> observat: 7.520<br> dalt: 7.098<br> внима: 6.906",
         "marker": {
          "opacity": 0
         },
         "mode": "markers",
         "showlegend": false,
         "type": "scatter",
         "x": [
          1
         ],
         "y": [
          19
         ]
        },
        {
         "hoverinfo": "text",
         "hovertext": "Layer 19 expert 10 + residual (logit: 8.461, weight: 0.161):<br> digraph: 8.461<br> observat: 8.070<br> modernista: 7.844<br> dalt: 7.480<br>urs: 7.023",
         "marker": {
          "opacity": 0
         },
         "mode": "markers",
         "showlegend": false,
         "type": "scatter",
         "x": [
          2
         ],
         "y": [
          19
         ]
        },
        {
         "hoverinfo": "text",
         "hovertext": "Layer 19 expert 13 + residual (logit: 7.926, weight: 0.078):<br> digraph: 7.926<br> modernista: 7.801<br> observat: 7.340<br> dalt: 7.074<br> внима: 6.930",
         "marker": {
          "opacity": 0
         },
         "mode": "markers",
         "showlegend": false,
         "type": "scatter",
         "x": [
          3
         ],
         "y": [
          19
         ]
        },
        {
         "hoverinfo": "text",
         "hovertext": "Layer 19 expert 7 + residual (logit: 8.180, weight: 0.056):<br> digraph: 8.180<br> modernista: 7.953<br> observat: 7.023<br>枢: 6.941<br> внима: 6.801",
         "marker": {
          "opacity": 0
         },
         "mode": "markers",
         "showlegend": false,
         "type": "scatter",
         "x": [
          4
         ],
         "y": [
          19
         ]
        },
        {
         "hoverinfo": "text",
         "hovertext": "Layer 19 expert 32 + residual (logit: 8.086, weight: 0.053):<br> digraph: 8.086<br> modernista: 7.863<br> observat: 7.422<br> внима: 6.996<br> dalt: 6.992",
         "marker": {
          "opacity": 0
         },
         "mode": "markers",
         "showlegend": false,
         "type": "scatter",
         "x": [
          5
         ],
         "y": [
          19
         ]
        },
        {
         "hoverinfo": "text",
         "hovertext": "Layer 19 expert 11 + residual (logit: 8.062, weight: 0.048):<br> digraph: 8.062<br> modernista: 7.844<br> observat: 7.441<br> dalt: 7.027<br> внима: 6.895",
         "marker": {
          "opacity": 0
         },
         "mode": "markers",
         "showlegend": false,
         "type": "scatter",
         "x": [
          6
         ],
         "y": [
          19
         ]
        },
        {
         "hoverinfo": "text",
         "hovertext": "Layer 19 expert 9 + residual (logit: 8.078, weight: 0.042):<br> digraph: 8.078<br> modernista: 7.832<br> observat: 7.457<br> dalt: 7.047<br> внима: 6.934",
         "marker": {
          "opacity": 0
         },
         "mode": "markers",
         "showlegend": false,
         "type": "scatter",
         "x": [
          7
         ],
         "y": [
          19
         ]
        },
        {
         "hoverinfo": "text",
         "hovertext": "Layer 20 l_out (logit: 10.133):<br>ille: 10.133<br>urs: 10.016<br>�: 8.906<br>гат: 8.297<br>TEL: 8.078",
         "marker": {
          "opacity": 0
         },
         "mode": "markers",
         "showlegend": false,
         "type": "scatter",
         "x": [
          0
         ],
         "y": [
          20
         ]
        },
        {
         "hoverinfo": "text",
         "hovertext": "Layer 20 routed_combined (logit: 9.211):<br> observat: 9.211<br> digraph: 8.031<br> modernista: 7.934<br> over: 7.766<br>�: 7.543",
         "marker": {
          "opacity": 0
         },
         "mode": "markers",
         "showlegend": false,
         "type": "scatter",
         "x": [
          1
         ],
         "y": [
          20
         ]
        },
        {
         "hoverinfo": "text",
         "hovertext": "Layer 20 expert 55 + residual (logit: 9.117, weight: 0.478):<br> observat: 9.117<br> digraph: 8.008<br> modernista: 7.977<br> over: 7.758<br>�: 7.555",
         "marker": {
          "opacity": 0
         },
         "mode": "markers",
         "showlegend": false,
         "type": "scatter",
         "x": [
          2
         ],
         "y": [
          20
         ]
        },
        {
         "hoverinfo": "text",
         "hovertext": "Layer 20 expert 57 + residual (logit: 9.820, weight: 0.043):<br> observat: 9.820<br> digraph: 8.531<br> over: 8.023<br>bord: 7.918<br>枢: 7.875",
         "marker": {
          "opacity": 0
         },
         "mode": "markers",
         "showlegend": false,
         "type": "scatter",
         "x": [
          3
         ],
         "y": [
          20
         ]
        },
        {
         "hoverinfo": "text",
         "hovertext": "Layer 20 expert 25 + residual (logit: 9.195, weight: 0.030):<br> observat: 9.195<br> digraph: 8.055<br> modernista: 7.957<br> over: 7.723<br>�: 7.480",
         "marker": {
          "opacity": 0
         },
         "mode": "markers",
         "showlegend": false,
         "type": "scatter",
         "x": [
          4
         ],
         "y": [
          20
         ]
        },
        {
         "hoverinfo": "text",
         "hovertext": "Layer 20 expert 16 + residual (logit: 9.125, weight: 0.029):<br> observat: 9.125<br> modernista: 8.008<br> over: 7.953<br> digraph: 7.859<br>�: 7.801",
         "marker": {
          "opacity": 0
         },
         "mode": "markers",
         "showlegend": false,
         "type": "scatter",
         "x": [
          5
         ],
         "y": [
          20
         ]
        },
        {
         "hoverinfo": "text",
         "hovertext": "Layer 20 expert 50 + residual (logit: 9.211, weight: 0.029):<br> observat: 9.211<br> digraph: 8.008<br> modernista: 7.875<br> over: 7.801<br>�: 7.492",
         "marker": {
          "opacity": 0
         },
         "mode": "markers",
         "showlegend": false,
         "type": "scatter",
         "x": [
          6
         ],
         "y": [
          20
         ]
        },
        {
         "hoverinfo": "text",
         "hovertext": "Layer 20 expert 31 + residual (logit: 9.258, weight: 0.028):<br> observat: 9.258<br> digraph: 7.953<br> modernista: 7.840<br> over: 7.742<br>�: 7.449",
         "marker": {
          "opacity": 0
         },
         "mode": "markers",
         "showlegend": false,
         "type": "scatter",
         "x": [
          7
         ],
         "y": [
          20
         ]
        },
        {
         "hoverinfo": "text",
         "hovertext": "Layer 21 l_out (logit: 11.492):<br>ille: 11.492<br> over: 11.156<br>over: 10.961<br>urs: 10.406<br>�: 9.984",
         "marker": {
          "opacity": 0
         },
         "mode": "markers",
         "showlegend": false,
         "type": "scatter",
         "x": [
          0
         ],
         "y": [
          21
         ]
        },
        {
         "hoverinfo": "text",
         "hovertext": "Layer 21 routed_combined (logit: 10.383):<br>ille: 10.383<br>urs: 10.023<br>�: 9.492<br>匆: 8.469<br>гат: 8.461",
         "marker": {
          "opacity": 0
         },
         "mode": "markers",
         "showlegend": false,
         "type": "scatter",
         "x": [
          1
         ],
         "y": [
          21
         ]
        },
        {
         "hoverinfo": "text",
         "hovertext": "Layer 21 expert 42 + residual (logit: 10.047, weight: 0.096):<br>urs: 10.047<br>ille: 9.984<br>�: 9.773<br>匆: 8.562<br>гат: 8.469",
         "marker": {
          "opacity": 0
         },
         "mode": "markers",
         "showlegend": false,
         "type": "scatter",
         "x": [
          2
         ],
         "y": [
          21
         ]
        },
        {
         "hoverinfo": "text",
         "hovertext": "Layer 21 expert 17 + residual (logit: 10.680, weight: 0.085):<br>ille: 10.680<br>urs: 10.375<br>�: 9.648<br>观点或立场: 8.648<br>匆: 8.602",
         "marker": {
          "opacity": 0
         },
         "mode": "markers",
         "showlegend": false,
         "type": "scatter",
         "x": [
          3
         ],
         "y": [
          21
         ]
        },
        {
         "hoverinfo": "text",
         "hovertext": "Layer 21 expert 45 + residual (logit: 10.734, weight: 0.081):<br>ille: 10.734<br>urs: 10.000<br>�: 9.766<br>观点或立场: 8.906<br>гат: 8.648",
         "marker": {
          "opacity": 0
         },
         "mode": "markers",
         "showlegend": false,
         "type": "scatter",
         "x": [
          4
         ],
         "y": [
          21
         ]
        },
        {
         "hoverinfo": "text",
         "hovertext": "Layer 21 expert 47 + residual (logit: 10.328, weight: 0.044):<br>ille: 10.328<br>urs: 9.953<br>�: 9.430<br>гат: 8.453<br>TEL: 8.398",
         "marker": {
          "opacity": 0
         },
         "mode": "markers",
         "showlegend": false,
         "type": "scatter",
         "x": [
          5
         ],
         "y": [
          21
         ]
        },
        {
         "hoverinfo": "text",
         "hovertext": "Layer 21 expert 31 + residual (logit: 10.414, weight: 0.041):<br>ille: 10.414<br>urs: 10.062<br>�: 9.430<br>匆: 8.414<br>гат: 8.359",
         "marker": {
          "opacity": 0
         },
         "mode": "markers",
         "showlegend": false,
         "type": "scatter",
         "x": [
          6
         ],
         "y": [
          21
         ]
        },
        {
         "hoverinfo": "text",
         "hovertext": "Layer 21 expert 37 + residual (logit: 10.438, weight: 0.037):<br>ille: 10.438<br>urs: 9.977<br>�: 9.336<br>гат: 8.523<br>匆: 8.398",
         "marker": {
          "opacity": 0
         },
         "mode": "markers",
         "showlegend": false,
         "type": "scatter",
         "x": [
          7
         ],
         "y": [
          21
         ]
        },
        {
         "hoverinfo": "text",
         "hovertext": "Layer 22 l_out (logit: 14.094):<br>over: 14.094<br> over: 12.648<br>ille: 12.031<br>urs: 11.797<br>OVER: 11.609",
         "marker": {
          "opacity": 0
         },
         "mode": "markers",
         "showlegend": false,
         "type": "scatter",
         "x": [
          0
         ],
         "y": [
          22
         ]
        },
        {
         "hoverinfo": "text",
         "hovertext": "Layer 22 routed_combined (logit: 13.242):<br>over: 13.242<br> over: 13.086<br>ille: 11.422<br>urs: 10.883<br>OVER: 10.773",
         "marker": {
          "opacity": 0
         },
         "mode": "markers",
         "showlegend": false,
         "type": "scatter",
         "x": [
          1
         ],
         "y": [
          22
         ]
        },
        {
         "hoverinfo": "text",
         "hovertext": "Layer 22 expert 34 + residual (logit: 13.914, weight: 0.102):<br>over: 13.914<br> over: 13.109<br>ille: 12.273<br>urs: 11.570<br>OVER: 11.523",
         "marker": {
          "opacity": 0
         },
         "mode": "markers",
         "showlegend": false,
         "type": "scatter",
         "x": [
          2
         ],
         "y": [
          22
         ]
        },
        {
         "hoverinfo": "text",
         "hovertext": "Layer 22 expert 33 + residual (logit: 13.156, weight: 0.090):<br>over: 13.156<br> over: 12.977<br>ille: 11.281<br>OVER: 10.773<br>urs: 10.688",
         "marker": {
          "opacity": 0
         },
         "mode": "markers",
         "showlegend": false,
         "type": "scatter",
         "x": [
          3
         ],
         "y": [
          22
         ]
        },
        {
         "hoverinfo": "text",
         "hovertext": "Layer 22 expert 56 + residual (logit: 13.062, weight: 0.085):<br> over: 13.062<br>over: 12.969<br>ille: 11.125<br>urs: 10.992<br>OVER: 10.547",
         "marker": {
          "opacity": 0
         },
         "mode": "markers",
         "showlegend": false,
         "type": "scatter",
         "x": [
          4
         ],
         "y": [
          22
         ]
        },
        {
         "hoverinfo": "text",
         "hovertext": "Layer 22 expert 18 + residual (logit: 13.234, weight: 0.071):<br>over: 13.234<br> over: 13.133<br>ille: 11.359<br>urs: 10.875<br>OVER: 10.609",
         "marker": {
          "opacity": 0
         },
         "mode": "markers",
         "showlegend": false,
         "type": "scatter",
         "x": [
          5
         ],
         "y": [
          22
         ]
        },
        {
         "hoverinfo": "text",
         "hovertext": "Layer 22 expert 7 + residual (logit: 13.375, weight: 0.051):<br>over: 13.375<br> over: 13.211<br>ille: 11.500<br>OVER: 10.953<br>urs: 10.812",
         "marker": {
          "opacity": 0
         },
         "mode": "markers",
         "showlegend": false,
         "type": "scatter",
         "x": [
          6
         ],
         "y": [
          22
         ]
        },
        {
         "hoverinfo": "text",
         "hovertext": "Layer 22 expert 42 + residual (logit: 13.180, weight: 0.051):<br>over: 13.180<br> over: 13.094<br>ille: 11.328<br>OVER: 10.695<br>urs: 10.695",
         "marker": {
          "opacity": 0
         },
         "mode": "markers",
         "showlegend": false,
         "type": "scatter",
         "x": [
          7
         ],
         "y": [
          22
         ]
        },
        {
         "hoverinfo": "text",
         "hovertext": "Layer 23 l_out (logit: 16.359):<br>over: 16.359<br> over: 15.578<br>OVER: 13.695<br> над: 13.664<br>ille: 12.641",
         "marker": {
          "opacity": 0
         },
         "mode": "markers",
         "showlegend": false,
         "type": "scatter",
         "x": [
          0
         ],
         "y": [
          23
         ]
        },
        {
         "hoverinfo": "text",
         "hovertext": "Layer 23 routed_combined (logit: 16.328):<br>over: 16.328<br> over: 15.289<br> над: 13.031<br>OVER: 12.961<br>ille: 12.508",
         "marker": {
          "opacity": 0
         },
         "mode": "markers",
         "showlegend": false,
         "type": "scatter",
         "x": [
          1
         ],
         "y": [
          23
         ]
        },
        {
         "hoverinfo": "text",
         "hovertext": "Layer 23 expert 62 + residual (logit: 16.391, weight: 0.143):<br>over: 16.391<br> over: 15.445<br> над: 13.180<br>OVER: 12.938<br>ille: 12.578",
         "marker": {
          "opacity": 0
         },
         "mode": "markers",
         "showlegend": false,
         "type": "scatter",
         "x": [
          2
         ],
         "y": [
          23
         ]
        },
        {
         "hoverinfo": "text",
         "hovertext": "Layer 23 expert 50 + residual (logit: 16.438, weight: 0.081):<br>over: 16.438<br> over: 15.305<br> над: 13.078<br>OVER: 13.062<br>ille: 12.461",
         "marker": {
          "opacity": 0
         },
         "mode": "markers",
         "showlegend": false,
         "type": "scatter",
         "x": [
          3
         ],
         "y": [
          23
         ]
        },
        {
         "hoverinfo": "text",
         "hovertext": "Layer 23 expert 31 + residual (logit: 16.359, weight: 0.053):<br>over: 16.359<br> over: 15.328<br> над: 12.984<br>OVER: 12.953<br>ille: 12.492",
         "marker": {
          "opacity": 0
         },
         "mode": "markers",
         "showlegend": false,
         "type": "scatter",
         "x": [
          4
         ],
         "y": [
          23
         ]
        },
        {
         "hoverinfo": "text",
         "hovertext": "Layer 23 expert 3 + residual (logit: 16.281, weight: 0.044):<br>over: 16.281<br> over: 15.258<br> над: 13.008<br>OVER: 12.977<br>ille: 12.477",
         "marker": {
          "opacity": 0
         },
         "mode": "markers",
         "showlegend": false,
         "type": "scatter",
         "x": [
          5
         ],
         "y": [
          23
         ]
        },
        {
         "hoverinfo": "text",
         "hovertext": "Layer 23 expert 27 + residual (logit: 16.312, weight: 0.041):<br>over: 16.312<br> over: 15.242<br> над: 12.969<br>OVER: 12.945<br>ille: 12.406",
         "marker": {
          "opacity": 0
         },
         "mode": "markers",
         "showlegend": false,
         "type": "scatter",
         "x": [
          6
         ],
         "y": [
          23
         ]
        },
        {
         "hoverinfo": "text",
         "hovertext": "Layer 23 expert 23 + residual (logit: 16.391, weight: 0.040):<br>over: 16.391<br> over: 15.305<br>OVER: 13.039<br> над: 13.023<br>ille: 12.586",
         "marker": {
          "opacity": 0
         },
         "mode": "markers",
         "showlegend": false,
         "type": "scatter",
         "x": [
          7
         ],
         "y": [
          23
         ]
        },
        {
         "hoverinfo": "text",
         "hovertext": "Layer 24 l_out (logit: 17.312):<br>over: 17.312<br> over: 16.172<br>OVER: 15.062<br>urs: 14.156<br>ille: 14.102",
         "marker": {
          "opacity": 0
         },
         "mode": "markers",
         "showlegend": false,
         "type": "scatter",
         "x": [
          0
         ],
         "y": [
          24
         ]
        },
        {
         "hoverinfo": "text",
         "hovertext": "Layer 24 routed_combined (logit: 17.703):<br>over: 17.703<br> over: 17.078<br>OVER: 15.227<br> над: 14.984<br>Over: 13.656",
         "marker": {
          "opacity": 0
         },
         "mode": "markers",
         "showlegend": false,
         "type": "scatter",
         "x": [
          1
         ],
         "y": [
          24
         ]
        },
        {
         "hoverinfo": "text",
         "hovertext": "Layer 24 expert 27 + residual (logit: 17.672, weight: 0.170):<br>over: 17.672<br> over: 17.203<br>OVER: 15.211<br> над: 15.141<br>Over: 13.641",
         "marker": {
          "opacity": 0
         },
         "mode": "markers",
         "showlegend": false,
         "type": "scatter",
         "x": [
          2
         ],
         "y": [
          24
         ]
        },
        {
         "hoverinfo": "text",
         "hovertext": "Layer 24 expert 57 + residual (logit: 17.938, weight: 0.118):<br>over: 17.938<br> over: 16.891<br>OVER: 15.336<br> над: 14.625<br>Over: 13.586",
         "marker": {
          "opacity": 0
         },
         "mode": "markers",
         "showlegend": false,
         "type": "scatter",
         "x": [
          3
         ],
         "y": [
          24
         ]
        },
        {
         "hoverinfo": "text",
         "hovertext": "Layer 24 expert 13 + residual (logit: 17.406, weight: 0.087):<br>over: 17.406<br> over: 16.922<br> над: 15.078<br>OVER: 15.047<br>Over: 13.555",
         "marker": {
          "opacity": 0
         },
         "mode": "markers",
         "showlegend": false,
         "type": "scatter",
         "x": [
          4
         ],
         "y": [
          24
         ]
        },
        {
         "hoverinfo": "text",
         "hovertext": "Layer 24 expert 32 + residual (logit: 17.594, weight: 0.057):<br>over: 17.594<br> over: 17.156<br>OVER: 15.438<br> над: 14.859<br>Over: 13.688",
         "marker": {
          "opacity": 0
         },
         "mode": "markers",
         "showlegend": false,
         "type": "scatter",
         "x": [
          5
         ],
         "y": [
          24
         ]
        },
        {
         "hoverinfo": "text",
         "hovertext": "Layer 24 expert 38 + residual (logit: 17.750, weight: 0.035):<br>over: 17.750<br> over: 17.125<br>OVER: 15.273<br> над: 14.992<br>Over: 13.688",
         "marker": {
          "opacity": 0
         },
         "mode": "markers",
         "showlegend": false,
         "type": "scatter",
         "x": [
          6
         ],
         "y": [
          24
         ]
        },
        {
         "hoverinfo": "text",
         "hovertext": "Layer 24 expert 55 + residual (logit: 17.672, weight: 0.024):<br>over: 17.672<br> over: 17.047<br>OVER: 15.219<br> над: 14.969<br>Over: 13.680",
         "marker": {
          "opacity": 0
         },
         "mode": "markers",
         "showlegend": false,
         "type": "scatter",
         "x": [
          7
         ],
         "y": [
          24
         ]
        },
        {
         "hoverinfo": "text",
         "hovertext": "Layer 25 l_out (logit: 20.688):<br>udisks: 20.688<br>urant: 19.922<br>icis: 19.688<br>ille: 19.266<br>rown: 19.172",
         "marker": {
          "opacity": 0
         },
         "mode": "markers",
         "showlegend": false,
         "type": "scatter",
         "x": [
          0
         ],
         "y": [
          25
         ]
        },
        {
         "hoverinfo": "text",
         "hovertext": "Layer 25 routed_combined (logit: 16.859):<br>over: 16.859<br> over: 16.250<br>ille: 16.031<br>OVER: 15.125<br>urant: 14.680",
         "marker": {
          "opacity": 0
         },
         "mode": "markers",
         "showlegend": false,
         "type": "scatter",
         "x": [
          1
         ],
         "y": [
          25
         ]
        },
        {
         "hoverinfo": "text",
         "hovertext": "Layer 25 expert 6 + residual (logit: 17.625, weight: 0.250):<br>ille: 17.625<br>urant: 17.531<br>over: 16.688<br>urs: 16.500<br> over: 16.406",
         "marker": {
          "opacity": 0
         },
         "mode": "markers",
         "showlegend": false,
         "type": "scatter",
         "x": [
          2
         ],
         "y": [
          25
         ]
        },
        {
         "hoverinfo": "text",
         "hovertext": "Layer 25 expert 56 + residual (logit: 16.562, weight: 0.091):<br>over: 16.562<br> over: 16.172<br>ille: 15.344<br>OVER: 14.695<br> ().: 14.508",
         "marker": {
          "opacity": 0
         },
         "mode": "markers",
         "showlegend": false,
         "type": "scatter",
         "x": [
          3
         ],
         "y": [
          25
         ]
        },
        {
         "hoverinfo": "text",
         "hovertext": "Layer 25 expert 1 + residual (logit: 16.828, weight: 0.064):<br>over: 16.828<br> over: 16.203<br>ille: 15.641<br>OVER: 14.852<br> ().: 14.633",
         "marker": {
          "opacity": 0
         },
         "mode": "markers",
         "showlegend": false,
         "type": "scatter",
         "x": [
          4
         ],
         "y": [
          25
         ]
        },
        {
         "hoverinfo": "text",
         "hovertext": "Layer 25 expert 60 + residual (logit: 16.984, weight: 0.047):<br>over: 16.984<br> over: 16.203<br>ille: 15.484<br>OVER: 14.883<br> ().: 14.516",
         "marker": {
          "opacity": 0
         },
         "mode": "markers",
         "showlegend": false,
         "type": "scatter",
         "x": [
          5
         ],
         "y": [
          25
         ]
        },
        {
         "hoverinfo": "text",
         "hovertext": "Layer 25 expert 2 + residual (logit: 17.047, weight: 0.042):<br>over: 17.047<br> over: 16.156<br>ille: 15.562<br>OVER: 14.945<br> ().: 14.555",
         "marker": {
          "opacity": 0
         },
         "mode": "markers",
         "showlegend": false,
         "type": "scatter",
         "x": [
          6
         ],
         "y": [
          25
         ]
        },
        {
         "hoverinfo": "text",
         "hovertext": "Layer 25 expert 40 + residual (logit: 16.938, weight: 0.027):<br>over: 16.938<br> over: 16.453<br>ille: 15.562<br>OVER: 14.984<br> ().: 14.656",
         "marker": {
          "opacity": 0
         },
         "mode": "markers",
         "showlegend": false,
         "type": "scatter",
         "x": [
          7
         ],
         "y": [
          25
         ]
        },
        {
         "hoverinfo": "text",
         "hovertext": "Layer 26 l_out (logit: 36.062):<br> over: 36.062<br>\n: 27.953<br>over: 27.562<br>1: 27.281<br> Over: 26.672",
         "marker": {
          "opacity": 0
         },
         "mode": "markers",
         "showlegend": false,
         "type": "scatter",
         "x": [
          0
         ],
         "y": [
          26
         ]
        },
        {
         "hoverinfo": "text",
         "hovertext": "Layer 26 routed_combined (logit: 25.031):<br> over: 25.031<br>urs: 20.906<br>over: 20.797<br>rown: 20.672<br>urant: 20.000",
         "marker": {
          "opacity": 0
         },
         "mode": "markers",
         "showlegend": false,
         "type": "scatter",
         "x": [
          1
         ],
         "y": [
          26
         ]
        },
        {
         "hoverinfo": "text",
         "hovertext": "Layer 26 expert 4 + residual (logit: 25.062, weight: 0.140):<br> over: 25.062<br>over: 21.844<br>rown: 20.812<br>ouse: 20.625<br>urs: 20.500",
         "marker": {
          "opacity": 0
         },
         "mode": "markers",
         "showlegend": false,
         "type": "scatter",
         "x": [
          2
         ],
         "y": [
          26
         ]
        },
        {
         "hoverinfo": "text",
         "hovertext": "Layer 26 expert 14 + residual (logit: 25.375, weight: 0.056):<br> over: 25.375<br>urs: 21.203<br>over: 20.844<br>rown: 20.828<br>urant: 20.359",
         "marker": {
          "opacity": 0
         },
         "mode": "markers",
         "showlegend": false,
         "type": "scatter",
         "x": [
          3
         ],
         "y": [
          26
         ]
        },
        {
         "hoverinfo": "text",
         "hovertext": "Layer 26 expert 46 + residual (logit: 25.031, weight: 0.041):<br> over: 25.031<br>urs: 20.984<br>rown: 20.719<br>over: 20.547<br>urant: 19.953",
         "marker": {
          "opacity": 0
         },
         "mode": "markers",
         "showlegend": false,
         "type": "scatter",
         "x": [
          4
         ],
         "y": [
          26
         ]
        },
        {
         "hoverinfo": "text",
         "hovertext": "Layer 26 expert 40 + residual (logit: 25.266, weight: 0.038):<br> over: 25.266<br>urs: 21.141<br>over: 20.641<br>rown: 20.500<br>urant: 20.078",
         "marker": {
          "opacity": 0
         },
         "mode": "markers",
         "showlegend": false,
         "type": "scatter",
         "x": [
          5
         ],
         "y": [
          26
         ]
        },
        {
         "hoverinfo": "text",
         "hovertext": "Layer 26 expert 9 + residual (logit: 25.047, weight: 0.036):<br> over: 25.047<br>urs: 21.016<br>rown: 20.734<br>over: 20.547<br>urant: 20.188",
         "marker": {
          "opacity": 0
         },
         "mode": "markers",
         "showlegend": false,
         "type": "scatter",
         "x": [
          6
         ],
         "y": [
          26
         ]
        },
        {
         "hoverinfo": "text",
         "hovertext": "Layer 26 expert 16 + residual (logit: 24.984, weight: 0.036):<br> over: 24.984<br>urs: 20.953<br>over: 20.734<br>rown: 20.656<br>urant: 19.906",
         "marker": {
          "opacity": 0
         },
         "mode": "markers",
         "showlegend": false,
         "type": "scatter",
         "x": [
          7
         ],
         "y": [
          26
         ]
        },
        {
         "hoverinfo": "text",
         "hovertext": "Layer 27 l_out (logit: 51.844):<br> over: 51.844<br>1: 49.594<br>0: 47.188<br>2: 46.625<br>\n: 46.125",
         "marker": {
          "opacity": 0
         },
         "mode": "markers",
         "showlegend": false,
         "type": "scatter",
         "x": [
          0
         ],
         "y": [
          27
         ]
        },
        {
         "hoverinfo": "text",
         "hovertext": "Layer 27 routed_combined (logit: 35.281):<br> over: 35.281<br>over: 28.531<br> Over: 26.078<br>1: 25.625<br>\n: 25.578",
         "marker": {
          "opacity": 0
         },
         "mode": "markers",
         "showlegend": false,
         "type": "scatter",
         "x": [
          1
         ],
         "y": [
          27
         ]
        },
        {
         "hoverinfo": "text",
         "hovertext": "Layer 27 expert 56 + residual (logit: 35.062, weight: 0.276):<br> over: 35.062<br>over: 29.344<br>1: 27.734<br>\n: 27.078<br> Over: 26.391",
         "marker": {
          "opacity": 0
         },
         "mode": "markers",
         "showlegend": false,
         "type": "scatter",
         "x": [
          2
         ],
         "y": [
          27
         ]
        },
        {
         "hoverinfo": "text",
         "hovertext": "Layer 27 expert 13 + residual (logit: 35.625, weight: 0.193):<br> over: 35.625<br>over: 28.031<br> Over: 26.422<br> OVER: 25.656<br>\n: 25.641",
         "marker": {
          "opacity": 0
         },
         "mode": "markers",
         "showlegend": false,
         "type": "scatter",
         "x": [
          3
         ],
         "y": [
          27
         ]
        },
        {
         "hoverinfo": "text",
         "hovertext": "Layer 27 expert 0 + residual (logit: 35.594, weight: 0.116):<br> over: 35.594<br>over: 28.219<br> Over: 25.906<br> OVER: 25.281<br>\n: 24.812",
         "marker": {
          "opacity": 0
         },
         "mode": "markers",
         "showlegend": false,
         "type": "scatter",
         "x": [
          4
         ],
         "y": [
          27
         ]
        },
        {
         "hoverinfo": "text",
         "hovertext": "Layer 27 expert 2 + residual (logit: 35.188, weight: 0.048):<br> over: 35.188<br>over: 28.266<br> Over: 25.734<br> OVER: 25.156<br>\n: 24.734",
         "marker": {
          "opacity": 0
         },
         "mode": "markers",
         "showlegend": false,
         "type": "scatter",
         "x": [
          5
         ],
         "y": [
          27
         ]
        },
        {
         "hoverinfo": "text",
         "hovertext": "Layer 27 expert 30 + residual (logit: 35.156, weight: 0.038):<br> over: 35.156<br>over: 28.656<br> Over: 25.719<br> OVER: 25.094<br>\n: 24.859",
         "marker": {
          "opacity": 0
         },
         "mode": "markers",
         "showlegend": false,
         "type": "scatter",
         "x": [
          6
         ],
         "y": [
          27
         ]
        },
        {
         "hoverinfo": "text",
         "hovertext": "Layer 27 expert 27 + residual (logit: 35.312, weight: 0.037):<br> over: 35.312<br>over: 28.516<br> Over: 25.812<br> OVER: 25.219<br>\n: 24.984",
         "marker": {
          "opacity": 0
         },
         "mode": "markers",
         "showlegend": false,
         "type": "scatter",
         "x": [
          7
         ],
         "y": [
          27
         ]
        }
       ],
       "layout": {
        "height": 2240,
        "hovermode": "closest",
        "margin": {
         "b": 100,
         "l": 80,
         "r": 120,
         "t": 50
        },
        "paper_bgcolor": "white",
        "plot_bgcolor": "white",
        "shapes": [
         {
          "fillcolor": "rgba(120,0,0,0.314697265625)",
          "layer": "above",
          "line": {
           "width": 0
          },
          "type": "rect",
          "x0": 1.5,
          "x1": 2.5,
          "y0": 0.55,
          "y1": 0.75
         },
         {
          "fillcolor": "rgba(120,0,0,0.1956787109375)",
          "layer": "above",
          "line": {
           "width": 0
          },
          "type": "rect",
          "x0": 2.5,
          "x1": 3.5,
          "y0": 0.55,
          "y1": 0.75
         },
         {
          "fillcolor": "rgba(120,0,0,0.0207061767578125)",
          "layer": "above",
          "line": {
           "width": 0
          },
          "type": "rect",
          "x0": 3.5,
          "x1": 4.5,
          "y0": 0.55,
          "y1": 0.75
         },
         {
          "fillcolor": "rgba(120,0,0,0.018524169921875)",
          "layer": "above",
          "line": {
           "width": 0
          },
          "type": "rect",
          "x0": 4.5,
          "x1": 5.5,
          "y0": 0.55,
          "y1": 0.75
         },
         {
          "fillcolor": "rgba(120,0,0,0.0179290771484375)",
          "layer": "above",
          "line": {
           "width": 0
          },
          "type": "rect",
          "x0": 5.5,
          "x1": 6.5,
          "y0": 0.55,
          "y1": 0.75
         },
         {
          "fillcolor": "rgba(120,0,0,0.01776123046875)",
          "layer": "above",
          "line": {
           "width": 0
          },
          "type": "rect",
          "x0": 6.5,
          "x1": 7.5,
          "y0": 0.55,
          "y1": 0.75
         },
         {
          "fillcolor": "rgba(120,0,0,0.2120361328125)",
          "layer": "above",
          "line": {
           "width": 0
          },
          "type": "rect",
          "x0": 1.5,
          "x1": 2.5,
          "y0": 1.55,
          "y1": 1.75
         },
         {
          "fillcolor": "rgba(120,0,0,0.09759521484375)",
          "layer": "above",
          "line": {
           "width": 0
          },
          "type": "rect",
          "x0": 2.5,
          "x1": 3.5,
          "y0": 1.55,
          "y1": 1.75
         },
         {
          "fillcolor": "rgba(120,0,0,0.082763671875)",
          "layer": "above",
          "line": {
           "width": 0
          },
          "type": "rect",
          "x0": 3.5,
          "x1": 4.5,
          "y0": 1.55,
          "y1": 1.75
         },
         {
          "fillcolor": "rgba(120,0,0,0.03912353515625)",
          "layer": "above",
          "line": {
           "width": 0
          },
          "type": "rect",
          "x0": 4.5,
          "x1": 5.5,
          "y0": 1.55,
          "y1": 1.75
         },
         {
          "fillcolor": "rgba(120,0,0,0.03741455078125)",
          "layer": "above",
          "line": {
           "width": 0
          },
          "type": "rect",
          "x0": 5.5,
          "x1": 6.5,
          "y0": 1.55,
          "y1": 1.75
         },
         {
          "fillcolor": "rgba(120,0,0,0.03558349609375)",
          "layer": "above",
          "line": {
           "width": 0
          },
          "type": "rect",
          "x0": 6.5,
          "x1": 7.5,
          "y0": 1.55,
          "y1": 1.75
         },
         {
          "fillcolor": "rgba(120,0,0,0.263427734375)",
          "layer": "above",
          "line": {
           "width": 0
          },
          "type": "rect",
          "x0": 1.5,
          "x1": 2.5,
          "y0": 2.55,
          "y1": 2.75
         },
         {
          "fillcolor": "rgba(120,0,0,0.048583984375)",
          "layer": "above",
          "line": {
           "width": 0
          },
          "type": "rect",
          "x0": 2.5,
          "x1": 3.5,
          "y0": 2.55,
          "y1": 2.75
         },
         {
          "fillcolor": "rgba(120,0,0,0.04718017578125)",
          "layer": "above",
          "line": {
           "width": 0
          },
          "type": "rect",
          "x0": 3.5,
          "x1": 4.5,
          "y0": 2.55,
          "y1": 2.75
         },
         {
          "fillcolor": "rgba(120,0,0,0.045928955078125)",
          "layer": "above",
          "line": {
           "width": 0
          },
          "type": "rect",
          "x0": 4.5,
          "x1": 5.5,
          "y0": 2.55,
          "y1": 2.75
         },
         {
          "fillcolor": "rgba(120,0,0,0.04559326171875)",
          "layer": "above",
          "line": {
           "width": 0
          },
          "type": "rect",
          "x0": 5.5,
          "x1": 6.5,
          "y0": 2.55,
          "y1": 2.75
         },
         {
          "fillcolor": "rgba(120,0,0,0.035003662109375)",
          "layer": "above",
          "line": {
           "width": 0
          },
          "type": "rect",
          "x0": 6.5,
          "x1": 7.5,
          "y0": 2.55,
          "y1": 2.75
         },
         {
          "fillcolor": "rgba(120,0,0,0.244384765625)",
          "layer": "above",
          "line": {
           "width": 0
          },
          "type": "rect",
          "x0": 1.5,
          "x1": 2.5,
          "y0": 3.55,
          "y1": 3.75
         },
         {
          "fillcolor": "rgba(120,0,0,0.097412109375)",
          "layer": "above",
          "line": {
           "width": 0
          },
          "type": "rect",
          "x0": 2.5,
          "x1": 3.5,
          "y0": 3.55,
          "y1": 3.75
         },
         {
          "fillcolor": "rgba(120,0,0,0.073486328125)",
          "layer": "above",
          "line": {
           "width": 0
          },
          "type": "rect",
          "x0": 3.5,
          "x1": 4.5,
          "y0": 3.55,
          "y1": 3.75
         },
         {
          "fillcolor": "rgba(120,0,0,0.047698974609375)",
          "layer": "above",
          "line": {
           "width": 0
          },
          "type": "rect",
          "x0": 4.5,
          "x1": 5.5,
          "y0": 3.55,
          "y1": 3.75
         },
         {
          "fillcolor": "rgba(120,0,0,0.031097412109375)",
          "layer": "above",
          "line": {
           "width": 0
          },
          "type": "rect",
          "x0": 5.5,
          "x1": 6.5,
          "y0": 3.55,
          "y1": 3.75
         },
         {
          "fillcolor": "rgba(120,0,0,0.0310821533203125)",
          "layer": "above",
          "line": {
           "width": 0
          },
          "type": "rect",
          "x0": 6.5,
          "x1": 7.5,
          "y0": 3.55,
          "y1": 3.75
         },
         {
          "fillcolor": "rgba(120,0,0,0.2208251953125)",
          "layer": "above",
          "line": {
           "width": 0
          },
          "type": "rect",
          "x0": 1.5,
          "x1": 2.5,
          "y0": 4.55,
          "y1": 4.75
         },
         {
          "fillcolor": "rgba(120,0,0,0.06884765625)",
          "layer": "above",
          "line": {
           "width": 0
          },
          "type": "rect",
          "x0": 2.5,
          "x1": 3.5,
          "y0": 4.55,
          "y1": 4.75
         },
         {
          "fillcolor": "rgba(120,0,0,0.053070068359375)",
          "layer": "above",
          "line": {
           "width": 0
          },
          "type": "rect",
          "x0": 3.5,
          "x1": 4.5,
          "y0": 4.55,
          "y1": 4.75
         },
         {
          "fillcolor": "rgba(120,0,0,0.044647216796875)",
          "layer": "above",
          "line": {
           "width": 0
          },
          "type": "rect",
          "x0": 4.5,
          "x1": 5.5,
          "y0": 4.55,
          "y1": 4.75
         },
         {
          "fillcolor": "rgba(120,0,0,0.04327392578125)",
          "layer": "above",
          "line": {
           "width": 0
          },
          "type": "rect",
          "x0": 5.5,
          "x1": 6.5,
          "y0": 4.55,
          "y1": 4.75
         },
         {
          "fillcolor": "rgba(120,0,0,0.0341796875)",
          "layer": "above",
          "line": {
           "width": 0
          },
          "type": "rect",
          "x0": 6.5,
          "x1": 7.5,
          "y0": 4.55,
          "y1": 4.75
         },
         {
          "fillcolor": "rgba(120,0,0,0.1533203125)",
          "layer": "above",
          "line": {
           "width": 0
          },
          "type": "rect",
          "x0": 1.5,
          "x1": 2.5,
          "y0": 5.55,
          "y1": 5.75
         },
         {
          "fillcolor": "rgba(120,0,0,0.12445068359375)",
          "layer": "above",
          "line": {
           "width": 0
          },
          "type": "rect",
          "x0": 2.5,
          "x1": 3.5,
          "y0": 5.55,
          "y1": 5.75
         },
         {
          "fillcolor": "rgba(120,0,0,0.0546875)",
          "layer": "above",
          "line": {
           "width": 0
          },
          "type": "rect",
          "x0": 3.5,
          "x1": 4.5,
          "y0": 5.55,
          "y1": 5.75
         },
         {
          "fillcolor": "rgba(120,0,0,0.048828125)",
          "layer": "above",
          "line": {
           "width": 0
          },
          "type": "rect",
          "x0": 4.5,
          "x1": 5.5,
          "y0": 5.55,
          "y1": 5.75
         },
         {
          "fillcolor": "rgba(120,0,0,0.047515869140625)",
          "layer": "above",
          "line": {
           "width": 0
          },
          "type": "rect",
          "x0": 5.5,
          "x1": 6.5,
          "y0": 5.55,
          "y1": 5.75
         },
         {
          "fillcolor": "rgba(120,0,0,0.03326416015625)",
          "layer": "above",
          "line": {
           "width": 0
          },
          "type": "rect",
          "x0": 6.5,
          "x1": 7.5,
          "y0": 5.55,
          "y1": 5.75
         },
         {
          "fillcolor": "rgba(120,0,0,0.23828125)",
          "layer": "above",
          "line": {
           "width": 0
          },
          "type": "rect",
          "x0": 1.5,
          "x1": 2.5,
          "y0": 6.55,
          "y1": 6.75
         },
         {
          "fillcolor": "rgba(120,0,0,0.118896484375)",
          "layer": "above",
          "line": {
           "width": 0
          },
          "type": "rect",
          "x0": 2.5,
          "x1": 3.5,
          "y0": 6.55,
          "y1": 6.75
         },
         {
          "fillcolor": "rgba(120,0,0,0.058502197265625)",
          "layer": "above",
          "line": {
           "width": 0
          },
          "type": "rect",
          "x0": 3.5,
          "x1": 4.5,
          "y0": 6.55,
          "y1": 6.75
         },
         {
          "fillcolor": "rgba(120,0,0,0.054901123046875)",
          "layer": "above",
          "line": {
           "width": 0
          },
          "type": "rect",
          "x0": 4.5,
          "x1": 5.5,
          "y0": 6.55,
          "y1": 6.75
         },
         {
          "fillcolor": "rgba(120,0,0,0.03350830078125)",
          "layer": "above",
          "line": {
           "width": 0
          },
          "type": "rect",
          "x0": 5.5,
          "x1": 6.5,
          "y0": 6.55,
          "y1": 6.75
         },
         {
          "fillcolor": "rgba(120,0,0,0.031524658203125)",
          "layer": "above",
          "line": {
           "width": 0
          },
          "type": "rect",
          "x0": 6.5,
          "x1": 7.5,
          "y0": 6.55,
          "y1": 6.75
         },
         {
          "fillcolor": "rgba(120,0,0,0.07623291015625)",
          "layer": "above",
          "line": {
           "width": 0
          },
          "type": "rect",
          "x0": 1.5,
          "x1": 2.5,
          "y0": 7.55,
          "y1": 7.75
         },
         {
          "fillcolor": "rgba(120,0,0,0.06304931640625)",
          "layer": "above",
          "line": {
           "width": 0
          },
          "type": "rect",
          "x0": 2.5,
          "x1": 3.5,
          "y0": 7.55,
          "y1": 7.75
         },
         {
          "fillcolor": "rgba(120,0,0,0.061065673828125)",
          "layer": "above",
          "line": {
           "width": 0
          },
          "type": "rect",
          "x0": 3.5,
          "x1": 4.5,
          "y0": 7.55,
          "y1": 7.75
         },
         {
          "fillcolor": "rgba(120,0,0,0.06024169921875)",
          "layer": "above",
          "line": {
           "width": 0
          },
          "type": "rect",
          "x0": 4.5,
          "x1": 5.5,
          "y0": 7.55,
          "y1": 7.75
         },
         {
          "fillcolor": "rgba(120,0,0,0.03790283203125)",
          "layer": "above",
          "line": {
           "width": 0
          },
          "type": "rect",
          "x0": 5.5,
          "x1": 6.5,
          "y0": 7.55,
          "y1": 7.75
         },
         {
          "fillcolor": "rgba(120,0,0,0.0367431640625)",
          "layer": "above",
          "line": {
           "width": 0
          },
          "type": "rect",
          "x0": 6.5,
          "x1": 7.5,
          "y0": 7.55,
          "y1": 7.75
         },
         {
          "fillcolor": "rgba(120,0,0,0.048980712890625)",
          "layer": "above",
          "line": {
           "width": 0
          },
          "type": "rect",
          "x0": 1.5,
          "x1": 2.5,
          "y0": 8.55,
          "y1": 8.75
         },
         {
          "fillcolor": "rgba(120,0,0,0.045806884765625)",
          "layer": "above",
          "line": {
           "width": 0
          },
          "type": "rect",
          "x0": 2.5,
          "x1": 3.5,
          "y0": 8.55,
          "y1": 8.75
         },
         {
          "fillcolor": "rgba(120,0,0,0.04229736328125)",
          "layer": "above",
          "line": {
           "width": 0
          },
          "type": "rect",
          "x0": 3.5,
          "x1": 4.5,
          "y0": 8.55,
          "y1": 8.75
         },
         {
          "fillcolor": "rgba(120,0,0,0.0360107421875)",
          "layer": "above",
          "line": {
           "width": 0
          },
          "type": "rect",
          "x0": 4.5,
          "x1": 5.5,
          "y0": 8.55,
          "y1": 8.75
         },
         {
          "fillcolor": "rgba(120,0,0,0.03521728515625)",
          "layer": "above",
          "line": {
           "width": 0
          },
          "type": "rect",
          "x0": 5.5,
          "x1": 6.5,
          "y0": 8.55,
          "y1": 8.75
         },
         {
          "fillcolor": "rgba(120,0,0,0.034881591796875)",
          "layer": "above",
          "line": {
           "width": 0
          },
          "type": "rect",
          "x0": 6.5,
          "x1": 7.5,
          "y0": 8.55,
          "y1": 8.75
         },
         {
          "fillcolor": "rgba(120,0,0,0.14453125)",
          "layer": "above",
          "line": {
           "width": 0
          },
          "type": "rect",
          "x0": 1.5,
          "x1": 2.5,
          "y0": 9.55,
          "y1": 9.75
         },
         {
          "fillcolor": "rgba(120,0,0,0.13134765625)",
          "layer": "above",
          "line": {
           "width": 0
          },
          "type": "rect",
          "x0": 2.5,
          "x1": 3.5,
          "y0": 9.55,
          "y1": 9.75
         },
         {
          "fillcolor": "rgba(120,0,0,0.105712890625)",
          "layer": "above",
          "line": {
           "width": 0
          },
          "type": "rect",
          "x0": 3.5,
          "x1": 4.5,
          "y0": 9.55,
          "y1": 9.75
         },
         {
          "fillcolor": "rgba(120,0,0,0.07464599609375)",
          "layer": "above",
          "line": {
           "width": 0
          },
          "type": "rect",
          "x0": 4.5,
          "x1": 5.5,
          "y0": 9.55,
          "y1": 9.75
         },
         {
          "fillcolor": "rgba(120,0,0,0.040863037109375)",
          "layer": "above",
          "line": {
           "width": 0
          },
          "type": "rect",
          "x0": 5.5,
          "x1": 6.5,
          "y0": 9.55,
          "y1": 9.75
         },
         {
          "fillcolor": "rgba(120,0,0,0.03900146484375)",
          "layer": "above",
          "line": {
           "width": 0
          },
          "type": "rect",
          "x0": 6.5,
          "x1": 7.5,
          "y0": 9.55,
          "y1": 9.75
         },
         {
          "fillcolor": "rgba(120,0,0,0.12042236328125)",
          "layer": "above",
          "line": {
           "width": 0
          },
          "type": "rect",
          "x0": 1.5,
          "x1": 2.5,
          "y0": 10.55,
          "y1": 10.75
         },
         {
          "fillcolor": "rgba(120,0,0,0.07073974609375)",
          "layer": "above",
          "line": {
           "width": 0
          },
          "type": "rect",
          "x0": 2.5,
          "x1": 3.5,
          "y0": 10.55,
          "y1": 10.75
         },
         {
          "fillcolor": "rgba(120,0,0,0.055145263671875)",
          "layer": "above",
          "line": {
           "width": 0
          },
          "type": "rect",
          "x0": 3.5,
          "x1": 4.5,
          "y0": 10.55,
          "y1": 10.75
         },
         {
          "fillcolor": "rgba(120,0,0,0.05438232421875)",
          "layer": "above",
          "line": {
           "width": 0
          },
          "type": "rect",
          "x0": 4.5,
          "x1": 5.5,
          "y0": 10.55,
          "y1": 10.75
         },
         {
          "fillcolor": "rgba(120,0,0,0.052825927734375)",
          "layer": "above",
          "line": {
           "width": 0
          },
          "type": "rect",
          "x0": 5.5,
          "x1": 6.5,
          "y0": 10.55,
          "y1": 10.75
         },
         {
          "fillcolor": "rgba(120,0,0,0.037841796875)",
          "layer": "above",
          "line": {
           "width": 0
          },
          "type": "rect",
          "x0": 6.5,
          "x1": 7.5,
          "y0": 10.55,
          "y1": 10.75
         },
         {
          "fillcolor": "rgba(120,0,0,0.1553955078125)",
          "layer": "above",
          "line": {
           "width": 0
          },
          "type": "rect",
          "x0": 1.5,
          "x1": 2.5,
          "y0": 11.55,
          "y1": 11.75
         },
         {
          "fillcolor": "rgba(120,0,0,0.0767822265625)",
          "layer": "above",
          "line": {
           "width": 0
          },
          "type": "rect",
          "x0": 2.5,
          "x1": 3.5,
          "y0": 11.55,
          "y1": 11.75
         },
         {
          "fillcolor": "rgba(120,0,0,0.0751953125)",
          "layer": "above",
          "line": {
           "width": 0
          },
          "type": "rect",
          "x0": 3.5,
          "x1": 4.5,
          "y0": 11.55,
          "y1": 11.75
         },
         {
          "fillcolor": "rgba(120,0,0,0.047576904296875)",
          "layer": "above",
          "line": {
           "width": 0
          },
          "type": "rect",
          "x0": 4.5,
          "x1": 5.5,
          "y0": 11.55,
          "y1": 11.75
         },
         {
          "fillcolor": "rgba(120,0,0,0.04608154296875)",
          "layer": "above",
          "line": {
           "width": 0
          },
          "type": "rect",
          "x0": 5.5,
          "x1": 6.5,
          "y0": 11.55,
          "y1": 11.75
         },
         {
          "fillcolor": "rgba(120,0,0,0.0277557373046875)",
          "layer": "above",
          "line": {
           "width": 0
          },
          "type": "rect",
          "x0": 6.5,
          "x1": 7.5,
          "y0": 11.55,
          "y1": 11.75
         },
         {
          "fillcolor": "rgba(120,0,0,0.09515380859375)",
          "layer": "above",
          "line": {
           "width": 0
          },
          "type": "rect",
          "x0": 1.5,
          "x1": 2.5,
          "y0": 12.55,
          "y1": 12.75
         },
         {
          "fillcolor": "rgba(120,0,0,0.0770263671875)",
          "layer": "above",
          "line": {
           "width": 0
          },
          "type": "rect",
          "x0": 2.5,
          "x1": 3.5,
          "y0": 12.55,
          "y1": 12.75
         },
         {
          "fillcolor": "rgba(120,0,0,0.06964111328125)",
          "layer": "above",
          "line": {
           "width": 0
          },
          "type": "rect",
          "x0": 3.5,
          "x1": 4.5,
          "y0": 12.55,
          "y1": 12.75
         },
         {
          "fillcolor": "rgba(120,0,0,0.065185546875)",
          "layer": "above",
          "line": {
           "width": 0
          },
          "type": "rect",
          "x0": 4.5,
          "x1": 5.5,
          "y0": 12.55,
          "y1": 12.75
         },
         {
          "fillcolor": "rgba(120,0,0,0.06414794921875)",
          "layer": "above",
          "line": {
           "width": 0
          },
          "type": "rect",
          "x0": 5.5,
          "x1": 6.5,
          "y0": 12.55,
          "y1": 12.75
         },
         {
          "fillcolor": "rgba(120,0,0,0.054840087890625)",
          "layer": "above",
          "line": {
           "width": 0
          },
          "type": "rect",
          "x0": 6.5,
          "x1": 7.5,
          "y0": 12.55,
          "y1": 12.75
         },
         {
          "fillcolor": "rgba(120,0,0,0.11151123046875)",
          "layer": "above",
          "line": {
           "width": 0
          },
          "type": "rect",
          "x0": 1.5,
          "x1": 2.5,
          "y0": 13.55,
          "y1": 13.75
         },
         {
          "fillcolor": "rgba(120,0,0,0.104248046875)",
          "layer": "above",
          "line": {
           "width": 0
          },
          "type": "rect",
          "x0": 2.5,
          "x1": 3.5,
          "y0": 13.55,
          "y1": 13.75
         },
         {
          "fillcolor": "rgba(120,0,0,0.0692138671875)",
          "layer": "above",
          "line": {
           "width": 0
          },
          "type": "rect",
          "x0": 3.5,
          "x1": 4.5,
          "y0": 13.55,
          "y1": 13.75
         },
         {
          "fillcolor": "rgba(120,0,0,0.0684814453125)",
          "layer": "above",
          "line": {
           "width": 0
          },
          "type": "rect",
          "x0": 4.5,
          "x1": 5.5,
          "y0": 13.55,
          "y1": 13.75
         },
         {
          "fillcolor": "rgba(120,0,0,0.03729248046875)",
          "layer": "above",
          "line": {
           "width": 0
          },
          "type": "rect",
          "x0": 5.5,
          "x1": 6.5,
          "y0": 13.55,
          "y1": 13.75
         },
         {
          "fillcolor": "rgba(120,0,0,0.032958984375)",
          "layer": "above",
          "line": {
           "width": 0
          },
          "type": "rect",
          "x0": 6.5,
          "x1": 7.5,
          "y0": 13.55,
          "y1": 13.75
         },
         {
          "fillcolor": "rgba(120,0,0,0.1368408203125)",
          "layer": "above",
          "line": {
           "width": 0
          },
          "type": "rect",
          "x0": 1.5,
          "x1": 2.5,
          "y0": 14.55,
          "y1": 14.75
         },
         {
          "fillcolor": "rgba(120,0,0,0.0631103515625)",
          "layer": "above",
          "line": {
           "width": 0
          },
          "type": "rect",
          "x0": 2.5,
          "x1": 3.5,
          "y0": 14.55,
          "y1": 14.75
         },
         {
          "fillcolor": "rgba(120,0,0,0.060943603515625)",
          "layer": "above",
          "line": {
           "width": 0
          },
          "type": "rect",
          "x0": 3.5,
          "x1": 4.5,
          "y0": 14.55,
          "y1": 14.75
         },
         {
          "fillcolor": "rgba(120,0,0,0.060821533203125)",
          "layer": "above",
          "line": {
           "width": 0
          },
          "type": "rect",
          "x0": 4.5,
          "x1": 5.5,
          "y0": 14.55,
          "y1": 14.75
         },
         {
          "fillcolor": "rgba(120,0,0,0.05517578125)",
          "layer": "above",
          "line": {
           "width": 0
          },
          "type": "rect",
          "x0": 5.5,
          "x1": 6.5,
          "y0": 14.55,
          "y1": 14.75
         },
         {
          "fillcolor": "rgba(120,0,0,0.052947998046875)",
          "layer": "above",
          "line": {
           "width": 0
          },
          "type": "rect",
          "x0": 6.5,
          "x1": 7.5,
          "y0": 14.55,
          "y1": 14.75
         },
         {
          "fillcolor": "rgba(120,0,0,0.152587890625)",
          "layer": "above",
          "line": {
           "width": 0
          },
          "type": "rect",
          "x0": 1.5,
          "x1": 2.5,
          "y0": 15.55,
          "y1": 15.75
         },
         {
          "fillcolor": "rgba(120,0,0,0.072265625)",
          "layer": "above",
          "line": {
           "width": 0
          },
          "type": "rect",
          "x0": 2.5,
          "x1": 3.5,
          "y0": 15.55,
          "y1": 15.75
         },
         {
          "fillcolor": "rgba(120,0,0,0.06109619140625)",
          "layer": "above",
          "line": {
           "width": 0
          },
          "type": "rect",
          "x0": 3.5,
          "x1": 4.5,
          "y0": 15.55,
          "y1": 15.75
         },
         {
          "fillcolor": "rgba(120,0,0,0.058807373046875)",
          "layer": "above",
          "line": {
           "width": 0
          },
          "type": "rect",
          "x0": 4.5,
          "x1": 5.5,
          "y0": 15.55,
          "y1": 15.75
         },
         {
          "fillcolor": "rgba(120,0,0,0.05548095703125)",
          "layer": "above",
          "line": {
           "width": 0
          },
          "type": "rect",
          "x0": 5.5,
          "x1": 6.5,
          "y0": 15.55,
          "y1": 15.75
         },
         {
          "fillcolor": "rgba(120,0,0,0.054229736328125)",
          "layer": "above",
          "line": {
           "width": 0
          },
          "type": "rect",
          "x0": 6.5,
          "x1": 7.5,
          "y0": 15.55,
          "y1": 15.75
         },
         {
          "fillcolor": "rgba(120,0,0,0.10693359375)",
          "layer": "above",
          "line": {
           "width": 0
          },
          "type": "rect",
          "x0": 1.5,
          "x1": 2.5,
          "y0": 16.55,
          "y1": 16.75
         },
         {
          "fillcolor": "rgba(120,0,0,0.083740234375)",
          "layer": "above",
          "line": {
           "width": 0
          },
          "type": "rect",
          "x0": 2.5,
          "x1": 3.5,
          "y0": 16.55,
          "y1": 16.75
         },
         {
          "fillcolor": "rgba(120,0,0,0.048614501953125)",
          "layer": "above",
          "line": {
           "width": 0
          },
          "type": "rect",
          "x0": 3.5,
          "x1": 4.5,
          "y0": 16.55,
          "y1": 16.75
         },
         {
          "fillcolor": "rgba(120,0,0,0.048095703125)",
          "layer": "above",
          "line": {
           "width": 0
          },
          "type": "rect",
          "x0": 4.5,
          "x1": 5.5,
          "y0": 16.55,
          "y1": 16.75
         },
         {
          "fillcolor": "rgba(120,0,0,0.0438232421875)",
          "layer": "above",
          "line": {
           "width": 0
          },
          "type": "rect",
          "x0": 5.5,
          "x1": 6.5,
          "y0": 16.55,
          "y1": 16.75
         },
         {
          "fillcolor": "rgba(120,0,0,0.0361328125)",
          "layer": "above",
          "line": {
           "width": 0
          },
          "type": "rect",
          "x0": 6.5,
          "x1": 7.5,
          "y0": 16.55,
          "y1": 16.75
         },
         {
          "fillcolor": "rgba(120,0,0,0.48046875)",
          "layer": "above",
          "line": {
           "width": 0
          },
          "type": "rect",
          "x0": 1.5,
          "x1": 2.5,
          "y0": 17.55,
          "y1": 17.75
         },
         {
          "fillcolor": "rgba(120,0,0,0.053619384765625)",
          "layer": "above",
          "line": {
           "width": 0
          },
          "type": "rect",
          "x0": 2.5,
          "x1": 3.5,
          "y0": 17.55,
          "y1": 17.75
         },
         {
          "fillcolor": "rgba(120,0,0,0.0379638671875)",
          "layer": "above",
          "line": {
           "width": 0
          },
          "type": "rect",
          "x0": 3.5,
          "x1": 4.5,
          "y0": 17.55,
          "y1": 17.75
         },
         {
          "fillcolor": "rgba(120,0,0,0.03363037109375)",
          "layer": "above",
          "line": {
           "width": 0
          },
          "type": "rect",
          "x0": 4.5,
          "x1": 5.5,
          "y0": 17.55,
          "y1": 17.75
         },
         {
          "fillcolor": "rgba(120,0,0,0.028167724609375)",
          "layer": "above",
          "line": {
           "width": 0
          },
          "type": "rect",
          "x0": 5.5,
          "x1": 6.5,
          "y0": 17.55,
          "y1": 17.75
         },
         {
          "fillcolor": "rgba(120,0,0,0.0257720947265625)",
          "layer": "above",
          "line": {
           "width": 0
          },
          "type": "rect",
          "x0": 6.5,
          "x1": 7.5,
          "y0": 17.55,
          "y1": 17.75
         },
         {
          "fillcolor": "rgba(120,0,0,0.16064453125)",
          "layer": "above",
          "line": {
           "width": 0
          },
          "type": "rect",
          "x0": 1.5,
          "x1": 2.5,
          "y0": 18.55,
          "y1": 18.75
         },
         {
          "fillcolor": "rgba(120,0,0,0.07843017578125)",
          "layer": "above",
          "line": {
           "width": 0
          },
          "type": "rect",
          "x0": 2.5,
          "x1": 3.5,
          "y0": 18.55,
          "y1": 18.75
         },
         {
          "fillcolor": "rgba(120,0,0,0.056488037109375)",
          "layer": "above",
          "line": {
           "width": 0
          },
          "type": "rect",
          "x0": 3.5,
          "x1": 4.5,
          "y0": 18.55,
          "y1": 18.75
         },
         {
          "fillcolor": "rgba(120,0,0,0.052825927734375)",
          "layer": "above",
          "line": {
           "width": 0
          },
          "type": "rect",
          "x0": 4.5,
          "x1": 5.5,
          "y0": 18.55,
          "y1": 18.75
         },
         {
          "fillcolor": "rgba(120,0,0,0.048370361328125)",
          "layer": "above",
          "line": {
           "width": 0
          },
          "type": "rect",
          "x0": 5.5,
          "x1": 6.5,
          "y0": 18.55,
          "y1": 18.75
         },
         {
          "fillcolor": "rgba(120,0,0,0.041778564453125)",
          "layer": "above",
          "line": {
           "width": 0
          },
          "type": "rect",
          "x0": 6.5,
          "x1": 7.5,
          "y0": 18.55,
          "y1": 18.75
         },
         {
          "fillcolor": "rgba(120,0,0,0.47802734375)",
          "layer": "above",
          "line": {
           "width": 0
          },
          "type": "rect",
          "x0": 1.5,
          "x1": 2.5,
          "y0": 19.55,
          "y1": 19.75
         },
         {
          "fillcolor": "rgba(120,0,0,0.042724609375)",
          "layer": "above",
          "line": {
           "width": 0
          },
          "type": "rect",
          "x0": 2.5,
          "x1": 3.5,
          "y0": 19.55,
          "y1": 19.75
         },
         {
          "fillcolor": "rgba(120,0,0,0.0300445556640625)",
          "layer": "above",
          "line": {
           "width": 0
          },
          "type": "rect",
          "x0": 3.5,
          "x1": 4.5,
          "y0": 19.55,
          "y1": 19.75
         },
         {
          "fillcolor": "rgba(120,0,0,0.02862548828125)",
          "layer": "above",
          "line": {
           "width": 0
          },
          "type": "rect",
          "x0": 4.5,
          "x1": 5.5,
          "y0": 19.55,
          "y1": 19.75
         },
         {
          "fillcolor": "rgba(120,0,0,0.02862548828125)",
          "layer": "above",
          "line": {
           "width": 0
          },
          "type": "rect",
          "x0": 5.5,
          "x1": 6.5,
          "y0": 19.55,
          "y1": 19.75
         },
         {
          "fillcolor": "rgba(120,0,0,0.027923583984375)",
          "layer": "above",
          "line": {
           "width": 0
          },
          "type": "rect",
          "x0": 6.5,
          "x1": 7.5,
          "y0": 19.55,
          "y1": 19.75
         },
         {
          "fillcolor": "rgba(120,0,0,0.0958251953125)",
          "layer": "above",
          "line": {
           "width": 0
          },
          "type": "rect",
          "x0": 1.5,
          "x1": 2.5,
          "y0": 20.55,
          "y1": 20.75
         },
         {
          "fillcolor": "rgba(120,0,0,0.08453369140625)",
          "layer": "above",
          "line": {
           "width": 0
          },
          "type": "rect",
          "x0": 2.5,
          "x1": 3.5,
          "y0": 20.55,
          "y1": 20.75
         },
         {
          "fillcolor": "rgba(120,0,0,0.08074951171875)",
          "layer": "above",
          "line": {
           "width": 0
          },
          "type": "rect",
          "x0": 3.5,
          "x1": 4.5,
          "y0": 20.55,
          "y1": 20.75
         },
         {
          "fillcolor": "rgba(120,0,0,0.044158935546875)",
          "layer": "above",
          "line": {
           "width": 0
          },
          "type": "rect",
          "x0": 4.5,
          "x1": 5.5,
          "y0": 20.55,
          "y1": 20.75
         },
         {
          "fillcolor": "rgba(120,0,0,0.040557861328125)",
          "layer": "above",
          "line": {
           "width": 0
          },
          "type": "rect",
          "x0": 5.5,
          "x1": 6.5,
          "y0": 20.55,
          "y1": 20.75
         },
         {
          "fillcolor": "rgba(120,0,0,0.037384033203125)",
          "layer": "above",
          "line": {
           "width": 0
          },
          "type": "rect",
          "x0": 6.5,
          "x1": 7.5,
          "y0": 20.55,
          "y1": 20.75
         },
         {
          "fillcolor": "rgba(120,0,0,0.10174560546875)",
          "layer": "above",
          "line": {
           "width": 0
          },
          "type": "rect",
          "x0": 1.5,
          "x1": 2.5,
          "y0": 21.55,
          "y1": 21.75
         },
         {
          "fillcolor": "rgba(120,0,0,0.08978271484375)",
          "layer": "above",
          "line": {
           "width": 0
          },
          "type": "rect",
          "x0": 2.5,
          "x1": 3.5,
          "y0": 21.55,
          "y1": 21.75
         },
         {
          "fillcolor": "rgba(120,0,0,0.0849609375)",
          "layer": "above",
          "line": {
           "width": 0
          },
          "type": "rect",
          "x0": 3.5,
          "x1": 4.5,
          "y0": 21.55,
          "y1": 21.75
         },
         {
          "fillcolor": "rgba(120,0,0,0.0712890625)",
          "layer": "above",
          "line": {
           "width": 0
          },
          "type": "rect",
          "x0": 4.5,
          "x1": 5.5,
          "y0": 21.55,
          "y1": 21.75
         },
         {
          "fillcolor": "rgba(120,0,0,0.051300048828125)",
          "layer": "above",
          "line": {
           "width": 0
          },
          "type": "rect",
          "x0": 5.5,
          "x1": 6.5,
          "y0": 21.55,
          "y1": 21.75
         },
         {
          "fillcolor": "rgba(120,0,0,0.05108642578125)",
          "layer": "above",
          "line": {
           "width": 0
          },
          "type": "rect",
          "x0": 6.5,
          "x1": 7.5,
          "y0": 21.55,
          "y1": 21.75
         },
         {
          "fillcolor": "rgba(120,0,0,0.1427001953125)",
          "layer": "above",
          "line": {
           "width": 0
          },
          "type": "rect",
          "x0": 1.5,
          "x1": 2.5,
          "y0": 22.55,
          "y1": 22.75
         },
         {
          "fillcolor": "rgba(120,0,0,0.08111572265625)",
          "layer": "above",
          "line": {
           "width": 0
          },
          "type": "rect",
          "x0": 2.5,
          "x1": 3.5,
          "y0": 22.55,
          "y1": 22.75
         },
         {
          "fillcolor": "rgba(120,0,0,0.053009033203125)",
          "layer": "above",
          "line": {
           "width": 0
          },
          "type": "rect",
          "x0": 3.5,
          "x1": 4.5,
          "y0": 22.55,
          "y1": 22.75
         },
         {
          "fillcolor": "rgba(120,0,0,0.0440673828125)",
          "layer": "above",
          "line": {
           "width": 0
          },
          "type": "rect",
          "x0": 4.5,
          "x1": 5.5,
          "y0": 22.55,
          "y1": 22.75
         },
         {
          "fillcolor": "rgba(120,0,0,0.041046142578125)",
          "layer": "above",
          "line": {
           "width": 0
          },
          "type": "rect",
          "x0": 5.5,
          "x1": 6.5,
          "y0": 22.55,
          "y1": 22.75
         },
         {
          "fillcolor": "rgba(120,0,0,0.040283203125)",
          "layer": "above",
          "line": {
           "width": 0
          },
          "type": "rect",
          "x0": 6.5,
          "x1": 7.5,
          "y0": 22.55,
          "y1": 22.75
         },
         {
          "fillcolor": "rgba(120,0,0,0.1700439453125)",
          "layer": "above",
          "line": {
           "width": 0
          },
          "type": "rect",
          "x0": 1.5,
          "x1": 2.5,
          "y0": 23.55,
          "y1": 23.75
         },
         {
          "fillcolor": "rgba(120,0,0,0.1177978515625)",
          "layer": "above",
          "line": {
           "width": 0
          },
          "type": "rect",
          "x0": 2.5,
          "x1": 3.5,
          "y0": 23.55,
          "y1": 23.75
         },
         {
          "fillcolor": "rgba(120,0,0,0.0870361328125)",
          "layer": "above",
          "line": {
           "width": 0
          },
          "type": "rect",
          "x0": 3.5,
          "x1": 4.5,
          "y0": 23.55,
          "y1": 23.75
         },
         {
          "fillcolor": "rgba(120,0,0,0.057342529296875)",
          "layer": "above",
          "line": {
           "width": 0
          },
          "type": "rect",
          "x0": 4.5,
          "x1": 5.5,
          "y0": 23.55,
          "y1": 23.75
         },
         {
          "fillcolor": "rgba(120,0,0,0.035430908203125)",
          "layer": "above",
          "line": {
           "width": 0
          },
          "type": "rect",
          "x0": 5.5,
          "x1": 6.5,
          "y0": 23.55,
          "y1": 23.75
         },
         {
          "fillcolor": "rgba(120,0,0,0.024078369140625)",
          "layer": "above",
          "line": {
           "width": 0
          },
          "type": "rect",
          "x0": 6.5,
          "x1": 7.5,
          "y0": 23.55,
          "y1": 23.75
         },
         {
          "fillcolor": "rgba(120,0,0,0.2498779296875)",
          "layer": "above",
          "line": {
           "width": 0
          },
          "type": "rect",
          "x0": 1.5,
          "x1": 2.5,
          "y0": 24.55,
          "y1": 24.75
         },
         {
          "fillcolor": "rgba(120,0,0,0.0908203125)",
          "layer": "above",
          "line": {
           "width": 0
          },
          "type": "rect",
          "x0": 2.5,
          "x1": 3.5,
          "y0": 24.55,
          "y1": 24.75
         },
         {
          "fillcolor": "rgba(120,0,0,0.06439208984375)",
          "layer": "above",
          "line": {
           "width": 0
          },
          "type": "rect",
          "x0": 3.5,
          "x1": 4.5,
          "y0": 24.55,
          "y1": 24.75
         },
         {
          "fillcolor": "rgba(120,0,0,0.047454833984375)",
          "layer": "above",
          "line": {
           "width": 0
          },
          "type": "rect",
          "x0": 4.5,
          "x1": 5.5,
          "y0": 24.55,
          "y1": 24.75
         },
         {
          "fillcolor": "rgba(120,0,0,0.04156494140625)",
          "layer": "above",
          "line": {
           "width": 0
          },
          "type": "rect",
          "x0": 5.5,
          "x1": 6.5,
          "y0": 24.55,
          "y1": 24.75
         },
         {
          "fillcolor": "rgba(120,0,0,0.0269317626953125)",
          "layer": "above",
          "line": {
           "width": 0
          },
          "type": "rect",
          "x0": 6.5,
          "x1": 7.5,
          "y0": 24.55,
          "y1": 24.75
         },
         {
          "fillcolor": "rgba(120,0,0,0.1395263671875)",
          "layer": "above",
          "line": {
           "width": 0
          },
          "type": "rect",
          "x0": 1.5,
          "x1": 2.5,
          "y0": 25.55,
          "y1": 25.75
         },
         {
          "fillcolor": "rgba(120,0,0,0.05572509765625)",
          "layer": "above",
          "line": {
           "width": 0
          },
          "type": "rect",
          "x0": 2.5,
          "x1": 3.5,
          "y0": 25.55,
          "y1": 25.75
         },
         {
          "fillcolor": "rgba(120,0,0,0.04132080078125)",
          "layer": "above",
          "line": {
           "width": 0
          },
          "type": "rect",
          "x0": 3.5,
          "x1": 4.5,
          "y0": 25.55,
          "y1": 25.75
         },
         {
          "fillcolor": "rgba(120,0,0,0.037628173828125)",
          "layer": "above",
          "line": {
           "width": 0
          },
          "type": "rect",
          "x0": 4.5,
          "x1": 5.5,
          "y0": 25.55,
          "y1": 25.75
         },
         {
          "fillcolor": "rgba(120,0,0,0.036041259765625)",
          "layer": "above",
          "line": {
           "width": 0
          },
          "type": "rect",
          "x0": 5.5,
          "x1": 6.5,
          "y0": 25.55,
          "y1": 25.75
         },
         {
          "fillcolor": "rgba(120,0,0,0.03582763671875)",
          "layer": "above",
          "line": {
           "width": 0
          },
          "type": "rect",
          "x0": 6.5,
          "x1": 7.5,
          "y0": 25.55,
          "y1": 25.75
         },
         {
          "fillcolor": "rgba(120,0,0,0.276123046875)",
          "layer": "above",
          "line": {
           "width": 0
          },
          "type": "rect",
          "x0": 1.5,
          "x1": 2.5,
          "y0": 26.55,
          "y1": 26.75
         },
         {
          "fillcolor": "rgba(120,0,0,0.1927490234375)",
          "layer": "above",
          "line": {
           "width": 0
          },
          "type": "rect",
          "x0": 2.5,
          "x1": 3.5,
          "y0": 26.55,
          "y1": 26.75
         },
         {
          "fillcolor": "rgba(120,0,0,0.115966796875)",
          "layer": "above",
          "line": {
           "width": 0
          },
          "type": "rect",
          "x0": 3.5,
          "x1": 4.5,
          "y0": 26.55,
          "y1": 26.75
         },
         {
          "fillcolor": "rgba(120,0,0,0.048492431640625)",
          "layer": "above",
          "line": {
           "width": 0
          },
          "type": "rect",
          "x0": 4.5,
          "x1": 5.5,
          "y0": 26.55,
          "y1": 26.75
         },
         {
          "fillcolor": "rgba(120,0,0,0.038116455078125)",
          "layer": "above",
          "line": {
           "width": 0
          },
          "type": "rect",
          "x0": 5.5,
          "x1": 6.5,
          "y0": 26.55,
          "y1": 26.75
         },
         {
          "fillcolor": "rgba(120,0,0,0.036895751953125)",
          "layer": "above",
          "line": {
           "width": 0
          },
          "type": "rect",
          "x0": 6.5,
          "x1": 7.5,
          "y0": 26.55,
          "y1": 26.75
         },
         {
          "fillcolor": "rgba(0,0,0,0)",
          "layer": "above",
          "line": {
           "color": "rgba(0,0,0,0.2)",
           "width": 1
          },
          "type": "rect",
          "x0": -0.5,
          "x1": 0.5,
          "y0": -0.5,
          "y1": 0.5
         },
         {
          "fillcolor": "rgba(0,0,0,0)",
          "layer": "above",
          "line": {
           "color": "rgba(0,0,0,0.2)",
           "width": 1
          },
          "type": "rect",
          "x0": 0.5,
          "x1": 1.5,
          "y0": -0.5,
          "y1": 0.5
         },
         {
          "fillcolor": "rgba(0,0,0,0)",
          "layer": "above",
          "line": {
           "color": "rgba(0,0,0,0.2)",
           "width": 1
          },
          "type": "rect",
          "x0": 1.5,
          "x1": 2.5,
          "y0": -0.5,
          "y1": 0.5
         },
         {
          "fillcolor": "rgba(0,0,0,0)",
          "layer": "above",
          "line": {
           "color": "rgba(0,0,0,0.2)",
           "width": 1
          },
          "type": "rect",
          "x0": 2.5,
          "x1": 3.5,
          "y0": -0.5,
          "y1": 0.5
         },
         {
          "fillcolor": "rgba(0,0,0,0)",
          "layer": "above",
          "line": {
           "color": "rgba(0,0,0,0.2)",
           "width": 1
          },
          "type": "rect",
          "x0": 3.5,
          "x1": 4.5,
          "y0": -0.5,
          "y1": 0.5
         },
         {
          "fillcolor": "rgba(0,0,0,0)",
          "layer": "above",
          "line": {
           "color": "rgba(0,0,0,0.2)",
           "width": 1
          },
          "type": "rect",
          "x0": 4.5,
          "x1": 5.5,
          "y0": -0.5,
          "y1": 0.5
         },
         {
          "fillcolor": "rgba(0,0,0,0)",
          "layer": "above",
          "line": {
           "color": "rgba(0,0,0,0.2)",
           "width": 1
          },
          "type": "rect",
          "x0": 5.5,
          "x1": 6.5,
          "y0": -0.5,
          "y1": 0.5
         },
         {
          "fillcolor": "rgba(0,0,0,0)",
          "layer": "above",
          "line": {
           "color": "rgba(0,0,0,0.2)",
           "width": 1
          },
          "type": "rect",
          "x0": 6.5,
          "x1": 7.5,
          "y0": -0.5,
          "y1": 0.5
         },
         {
          "fillcolor": "rgba(0,0,0,0)",
          "layer": "above",
          "line": {
           "color": "rgba(0,0,0,0.2)",
           "width": 1
          },
          "type": "rect",
          "x0": -0.5,
          "x1": 0.5,
          "y0": 0.5,
          "y1": 1.5
         },
         {
          "fillcolor": "rgba(0,0,0,0)",
          "layer": "above",
          "line": {
           "color": "rgba(0,0,0,0.2)",
           "width": 1
          },
          "type": "rect",
          "x0": 0.5,
          "x1": 1.5,
          "y0": 0.5,
          "y1": 1.5
         },
         {
          "fillcolor": "rgba(0,0,0,0)",
          "layer": "above",
          "line": {
           "color": "rgba(0,0,0,0.2)",
           "width": 1
          },
          "type": "rect",
          "x0": 1.5,
          "x1": 2.5,
          "y0": 0.5,
          "y1": 1.5
         },
         {
          "fillcolor": "rgba(0,0,0,0)",
          "layer": "above",
          "line": {
           "color": "rgba(0,0,0,0.2)",
           "width": 1
          },
          "type": "rect",
          "x0": 2.5,
          "x1": 3.5,
          "y0": 0.5,
          "y1": 1.5
         },
         {
          "fillcolor": "rgba(0,0,0,0)",
          "layer": "above",
          "line": {
           "color": "rgba(0,0,0,0.2)",
           "width": 1
          },
          "type": "rect",
          "x0": 3.5,
          "x1": 4.5,
          "y0": 0.5,
          "y1": 1.5
         },
         {
          "fillcolor": "rgba(0,0,0,0)",
          "layer": "above",
          "line": {
           "color": "rgba(0,0,0,0.2)",
           "width": 1
          },
          "type": "rect",
          "x0": 4.5,
          "x1": 5.5,
          "y0": 0.5,
          "y1": 1.5
         },
         {
          "fillcolor": "rgba(0,0,0,0)",
          "layer": "above",
          "line": {
           "color": "rgba(0,0,0,0.2)",
           "width": 1
          },
          "type": "rect",
          "x0": 5.5,
          "x1": 6.5,
          "y0": 0.5,
          "y1": 1.5
         },
         {
          "fillcolor": "rgba(0,0,0,0)",
          "layer": "above",
          "line": {
           "color": "rgba(0,0,0,0.2)",
           "width": 1
          },
          "type": "rect",
          "x0": 6.5,
          "x1": 7.5,
          "y0": 0.5,
          "y1": 1.5
         },
         {
          "fillcolor": "rgba(0,0,0,0)",
          "layer": "above",
          "line": {
           "color": "rgba(0,0,0,0.2)",
           "width": 1
          },
          "type": "rect",
          "x0": -0.5,
          "x1": 0.5,
          "y0": 1.5,
          "y1": 2.5
         },
         {
          "fillcolor": "rgba(0,0,0,0)",
          "layer": "above",
          "line": {
           "color": "rgba(0,0,0,0.2)",
           "width": 1
          },
          "type": "rect",
          "x0": 0.5,
          "x1": 1.5,
          "y0": 1.5,
          "y1": 2.5
         },
         {
          "fillcolor": "rgba(0,0,0,0)",
          "layer": "above",
          "line": {
           "color": "rgba(0,0,0,0.2)",
           "width": 1
          },
          "type": "rect",
          "x0": 1.5,
          "x1": 2.5,
          "y0": 1.5,
          "y1": 2.5
         },
         {
          "fillcolor": "rgba(0,0,0,0)",
          "layer": "above",
          "line": {
           "color": "rgba(0,0,0,0.2)",
           "width": 1
          },
          "type": "rect",
          "x0": 2.5,
          "x1": 3.5,
          "y0": 1.5,
          "y1": 2.5
         },
         {
          "fillcolor": "rgba(0,0,0,0)",
          "layer": "above",
          "line": {
           "color": "rgba(0,0,0,0.2)",
           "width": 1
          },
          "type": "rect",
          "x0": 3.5,
          "x1": 4.5,
          "y0": 1.5,
          "y1": 2.5
         },
         {
          "fillcolor": "rgba(0,0,0,0)",
          "layer": "above",
          "line": {
           "color": "rgba(0,0,0,0.2)",
           "width": 1
          },
          "type": "rect",
          "x0": 4.5,
          "x1": 5.5,
          "y0": 1.5,
          "y1": 2.5
         },
         {
          "fillcolor": "rgba(0,0,0,0)",
          "layer": "above",
          "line": {
           "color": "rgba(0,0,0,0.2)",
           "width": 1
          },
          "type": "rect",
          "x0": 5.5,
          "x1": 6.5,
          "y0": 1.5,
          "y1": 2.5
         },
         {
          "fillcolor": "rgba(0,0,0,0)",
          "layer": "above",
          "line": {
           "color": "rgba(0,0,0,0.2)",
           "width": 1
          },
          "type": "rect",
          "x0": 6.5,
          "x1": 7.5,
          "y0": 1.5,
          "y1": 2.5
         },
         {
          "fillcolor": "rgba(0,0,0,0)",
          "layer": "above",
          "line": {
           "color": "rgba(0,0,0,0.2)",
           "width": 1
          },
          "type": "rect",
          "x0": -0.5,
          "x1": 0.5,
          "y0": 2.5,
          "y1": 3.5
         },
         {
          "fillcolor": "rgba(0,0,0,0)",
          "layer": "above",
          "line": {
           "color": "rgba(0,0,0,0.2)",
           "width": 1
          },
          "type": "rect",
          "x0": 0.5,
          "x1": 1.5,
          "y0": 2.5,
          "y1": 3.5
         },
         {
          "fillcolor": "rgba(0,0,0,0)",
          "layer": "above",
          "line": {
           "color": "rgba(0,0,0,0.2)",
           "width": 1
          },
          "type": "rect",
          "x0": 1.5,
          "x1": 2.5,
          "y0": 2.5,
          "y1": 3.5
         },
         {
          "fillcolor": "rgba(0,0,0,0)",
          "layer": "above",
          "line": {
           "color": "rgba(0,0,0,0.2)",
           "width": 1
          },
          "type": "rect",
          "x0": 2.5,
          "x1": 3.5,
          "y0": 2.5,
          "y1": 3.5
         },
         {
          "fillcolor": "rgba(0,0,0,0)",
          "layer": "above",
          "line": {
           "color": "rgba(0,0,0,0.2)",
           "width": 1
          },
          "type": "rect",
          "x0": 3.5,
          "x1": 4.5,
          "y0": 2.5,
          "y1": 3.5
         },
         {
          "fillcolor": "rgba(0,0,0,0)",
          "layer": "above",
          "line": {
           "color": "rgba(0,0,0,0.2)",
           "width": 1
          },
          "type": "rect",
          "x0": 4.5,
          "x1": 5.5,
          "y0": 2.5,
          "y1": 3.5
         },
         {
          "fillcolor": "rgba(0,0,0,0)",
          "layer": "above",
          "line": {
           "color": "rgba(0,0,0,0.2)",
           "width": 1
          },
          "type": "rect",
          "x0": 5.5,
          "x1": 6.5,
          "y0": 2.5,
          "y1": 3.5
         },
         {
          "fillcolor": "rgba(0,0,0,0)",
          "layer": "above",
          "line": {
           "color": "rgba(0,0,0,0.2)",
           "width": 1
          },
          "type": "rect",
          "x0": 6.5,
          "x1": 7.5,
          "y0": 2.5,
          "y1": 3.5
         },
         {
          "fillcolor": "rgba(0,0,0,0)",
          "layer": "above",
          "line": {
           "color": "rgba(0,0,0,0.2)",
           "width": 1
          },
          "type": "rect",
          "x0": -0.5,
          "x1": 0.5,
          "y0": 3.5,
          "y1": 4.5
         },
         {
          "fillcolor": "rgba(0,0,0,0)",
          "layer": "above",
          "line": {
           "color": "rgba(0,0,0,0.2)",
           "width": 1
          },
          "type": "rect",
          "x0": 0.5,
          "x1": 1.5,
          "y0": 3.5,
          "y1": 4.5
         },
         {
          "fillcolor": "rgba(0,0,0,0)",
          "layer": "above",
          "line": {
           "color": "rgba(0,0,0,0.2)",
           "width": 1
          },
          "type": "rect",
          "x0": 1.5,
          "x1": 2.5,
          "y0": 3.5,
          "y1": 4.5
         },
         {
          "fillcolor": "rgba(0,0,0,0)",
          "layer": "above",
          "line": {
           "color": "rgba(0,0,0,0.2)",
           "width": 1
          },
          "type": "rect",
          "x0": 2.5,
          "x1": 3.5,
          "y0": 3.5,
          "y1": 4.5
         },
         {
          "fillcolor": "rgba(0,0,0,0)",
          "layer": "above",
          "line": {
           "color": "rgba(0,0,0,0.2)",
           "width": 1
          },
          "type": "rect",
          "x0": 3.5,
          "x1": 4.5,
          "y0": 3.5,
          "y1": 4.5
         },
         {
          "fillcolor": "rgba(0,0,0,0)",
          "layer": "above",
          "line": {
           "color": "rgba(0,0,0,0.2)",
           "width": 1
          },
          "type": "rect",
          "x0": 4.5,
          "x1": 5.5,
          "y0": 3.5,
          "y1": 4.5
         },
         {
          "fillcolor": "rgba(0,0,0,0)",
          "layer": "above",
          "line": {
           "color": "rgba(0,0,0,0.2)",
           "width": 1
          },
          "type": "rect",
          "x0": 5.5,
          "x1": 6.5,
          "y0": 3.5,
          "y1": 4.5
         },
         {
          "fillcolor": "rgba(0,0,0,0)",
          "layer": "above",
          "line": {
           "color": "rgba(0,0,0,0.2)",
           "width": 1
          },
          "type": "rect",
          "x0": 6.5,
          "x1": 7.5,
          "y0": 3.5,
          "y1": 4.5
         },
         {
          "fillcolor": "rgba(0,0,0,0)",
          "layer": "above",
          "line": {
           "color": "rgba(0,0,0,0.2)",
           "width": 1
          },
          "type": "rect",
          "x0": -0.5,
          "x1": 0.5,
          "y0": 4.5,
          "y1": 5.5
         },
         {
          "fillcolor": "rgba(0,0,0,0)",
          "layer": "above",
          "line": {
           "color": "rgba(0,0,0,0.2)",
           "width": 1
          },
          "type": "rect",
          "x0": 0.5,
          "x1": 1.5,
          "y0": 4.5,
          "y1": 5.5
         },
         {
          "fillcolor": "rgba(0,0,0,0)",
          "layer": "above",
          "line": {
           "color": "rgba(0,0,0,0.2)",
           "width": 1
          },
          "type": "rect",
          "x0": 1.5,
          "x1": 2.5,
          "y0": 4.5,
          "y1": 5.5
         },
         {
          "fillcolor": "rgba(0,0,0,0)",
          "layer": "above",
          "line": {
           "color": "rgba(0,0,0,0.2)",
           "width": 1
          },
          "type": "rect",
          "x0": 2.5,
          "x1": 3.5,
          "y0": 4.5,
          "y1": 5.5
         },
         {
          "fillcolor": "rgba(0,0,0,0)",
          "layer": "above",
          "line": {
           "color": "rgba(0,0,0,0.2)",
           "width": 1
          },
          "type": "rect",
          "x0": 3.5,
          "x1": 4.5,
          "y0": 4.5,
          "y1": 5.5
         },
         {
          "fillcolor": "rgba(0,0,0,0)",
          "layer": "above",
          "line": {
           "color": "rgba(0,0,0,0.2)",
           "width": 1
          },
          "type": "rect",
          "x0": 4.5,
          "x1": 5.5,
          "y0": 4.5,
          "y1": 5.5
         },
         {
          "fillcolor": "rgba(0,0,0,0)",
          "layer": "above",
          "line": {
           "color": "rgba(0,0,0,0.2)",
           "width": 1
          },
          "type": "rect",
          "x0": 5.5,
          "x1": 6.5,
          "y0": 4.5,
          "y1": 5.5
         },
         {
          "fillcolor": "rgba(0,0,0,0)",
          "layer": "above",
          "line": {
           "color": "rgba(0,0,0,0.2)",
           "width": 1
          },
          "type": "rect",
          "x0": 6.5,
          "x1": 7.5,
          "y0": 4.5,
          "y1": 5.5
         },
         {
          "fillcolor": "rgba(0,0,0,0)",
          "layer": "above",
          "line": {
           "color": "rgba(0,0,0,0.2)",
           "width": 1
          },
          "type": "rect",
          "x0": -0.5,
          "x1": 0.5,
          "y0": 5.5,
          "y1": 6.5
         },
         {
          "fillcolor": "rgba(0,0,0,0)",
          "layer": "above",
          "line": {
           "color": "rgba(0,0,0,0.2)",
           "width": 1
          },
          "type": "rect",
          "x0": 0.5,
          "x1": 1.5,
          "y0": 5.5,
          "y1": 6.5
         },
         {
          "fillcolor": "rgba(0,0,0,0)",
          "layer": "above",
          "line": {
           "color": "rgba(0,0,0,0.2)",
           "width": 1
          },
          "type": "rect",
          "x0": 1.5,
          "x1": 2.5,
          "y0": 5.5,
          "y1": 6.5
         },
         {
          "fillcolor": "rgba(0,0,0,0)",
          "layer": "above",
          "line": {
           "color": "rgba(0,0,0,0.2)",
           "width": 1
          },
          "type": "rect",
          "x0": 2.5,
          "x1": 3.5,
          "y0": 5.5,
          "y1": 6.5
         },
         {
          "fillcolor": "rgba(0,0,0,0)",
          "layer": "above",
          "line": {
           "color": "rgba(0,0,0,0.2)",
           "width": 1
          },
          "type": "rect",
          "x0": 3.5,
          "x1": 4.5,
          "y0": 5.5,
          "y1": 6.5
         },
         {
          "fillcolor": "rgba(0,0,0,0)",
          "layer": "above",
          "line": {
           "color": "rgba(0,0,0,0.2)",
           "width": 1
          },
          "type": "rect",
          "x0": 4.5,
          "x1": 5.5,
          "y0": 5.5,
          "y1": 6.5
         },
         {
          "fillcolor": "rgba(0,0,0,0)",
          "layer": "above",
          "line": {
           "color": "rgba(0,0,0,0.2)",
           "width": 1
          },
          "type": "rect",
          "x0": 5.5,
          "x1": 6.5,
          "y0": 5.5,
          "y1": 6.5
         },
         {
          "fillcolor": "rgba(0,0,0,0)",
          "layer": "above",
          "line": {
           "color": "rgba(0,0,0,0.2)",
           "width": 1
          },
          "type": "rect",
          "x0": 6.5,
          "x1": 7.5,
          "y0": 5.5,
          "y1": 6.5
         },
         {
          "fillcolor": "rgba(0,0,0,0)",
          "layer": "above",
          "line": {
           "color": "rgba(0,0,0,0.2)",
           "width": 1
          },
          "type": "rect",
          "x0": -0.5,
          "x1": 0.5,
          "y0": 6.5,
          "y1": 7.5
         },
         {
          "fillcolor": "rgba(0,0,0,0)",
          "layer": "above",
          "line": {
           "color": "rgba(0,0,0,0.2)",
           "width": 1
          },
          "type": "rect",
          "x0": 0.5,
          "x1": 1.5,
          "y0": 6.5,
          "y1": 7.5
         },
         {
          "fillcolor": "rgba(0,0,0,0)",
          "layer": "above",
          "line": {
           "color": "rgba(0,0,0,0.2)",
           "width": 1
          },
          "type": "rect",
          "x0": 1.5,
          "x1": 2.5,
          "y0": 6.5,
          "y1": 7.5
         },
         {
          "fillcolor": "rgba(0,0,0,0)",
          "layer": "above",
          "line": {
           "color": "rgba(0,0,0,0.2)",
           "width": 1
          },
          "type": "rect",
          "x0": 2.5,
          "x1": 3.5,
          "y0": 6.5,
          "y1": 7.5
         },
         {
          "fillcolor": "rgba(0,0,0,0)",
          "layer": "above",
          "line": {
           "color": "rgba(0,0,0,0.2)",
           "width": 1
          },
          "type": "rect",
          "x0": 3.5,
          "x1": 4.5,
          "y0": 6.5,
          "y1": 7.5
         },
         {
          "fillcolor": "rgba(0,0,0,0)",
          "layer": "above",
          "line": {
           "color": "rgba(0,0,0,0.2)",
           "width": 1
          },
          "type": "rect",
          "x0": 4.5,
          "x1": 5.5,
          "y0": 6.5,
          "y1": 7.5
         },
         {
          "fillcolor": "rgba(0,0,0,0)",
          "layer": "above",
          "line": {
           "color": "rgba(0,0,0,0.2)",
           "width": 1
          },
          "type": "rect",
          "x0": 5.5,
          "x1": 6.5,
          "y0": 6.5,
          "y1": 7.5
         },
         {
          "fillcolor": "rgba(0,0,0,0)",
          "layer": "above",
          "line": {
           "color": "rgba(0,0,0,0.2)",
           "width": 1
          },
          "type": "rect",
          "x0": 6.5,
          "x1": 7.5,
          "y0": 6.5,
          "y1": 7.5
         },
         {
          "fillcolor": "rgba(0,0,0,0)",
          "layer": "above",
          "line": {
           "color": "rgba(0,0,0,0.2)",
           "width": 1
          },
          "type": "rect",
          "x0": -0.5,
          "x1": 0.5,
          "y0": 7.5,
          "y1": 8.5
         },
         {
          "fillcolor": "rgba(0,0,0,0)",
          "layer": "above",
          "line": {
           "color": "rgba(0,0,0,0.2)",
           "width": 1
          },
          "type": "rect",
          "x0": 0.5,
          "x1": 1.5,
          "y0": 7.5,
          "y1": 8.5
         },
         {
          "fillcolor": "rgba(0,0,0,0)",
          "layer": "above",
          "line": {
           "color": "rgba(0,0,0,0.2)",
           "width": 1
          },
          "type": "rect",
          "x0": 1.5,
          "x1": 2.5,
          "y0": 7.5,
          "y1": 8.5
         },
         {
          "fillcolor": "rgba(0,0,0,0)",
          "layer": "above",
          "line": {
           "color": "rgba(0,0,0,0.2)",
           "width": 1
          },
          "type": "rect",
          "x0": 2.5,
          "x1": 3.5,
          "y0": 7.5,
          "y1": 8.5
         },
         {
          "fillcolor": "rgba(0,0,0,0)",
          "layer": "above",
          "line": {
           "color": "rgba(0,0,0,0.2)",
           "width": 1
          },
          "type": "rect",
          "x0": 3.5,
          "x1": 4.5,
          "y0": 7.5,
          "y1": 8.5
         },
         {
          "fillcolor": "rgba(0,0,0,0)",
          "layer": "above",
          "line": {
           "color": "rgba(0,0,0,0.2)",
           "width": 1
          },
          "type": "rect",
          "x0": 4.5,
          "x1": 5.5,
          "y0": 7.5,
          "y1": 8.5
         },
         {
          "fillcolor": "rgba(0,0,0,0)",
          "layer": "above",
          "line": {
           "color": "rgba(0,0,0,0.2)",
           "width": 1
          },
          "type": "rect",
          "x0": 5.5,
          "x1": 6.5,
          "y0": 7.5,
          "y1": 8.5
         },
         {
          "fillcolor": "rgba(0,0,0,0)",
          "layer": "above",
          "line": {
           "color": "rgba(0,0,0,0.2)",
           "width": 1
          },
          "type": "rect",
          "x0": 6.5,
          "x1": 7.5,
          "y0": 7.5,
          "y1": 8.5
         },
         {
          "fillcolor": "rgba(0,0,0,0)",
          "layer": "above",
          "line": {
           "color": "rgba(0,0,0,0.2)",
           "width": 1
          },
          "type": "rect",
          "x0": -0.5,
          "x1": 0.5,
          "y0": 8.5,
          "y1": 9.5
         },
         {
          "fillcolor": "rgba(0,0,0,0)",
          "layer": "above",
          "line": {
           "color": "rgba(0,0,0,0.2)",
           "width": 1
          },
          "type": "rect",
          "x0": 0.5,
          "x1": 1.5,
          "y0": 8.5,
          "y1": 9.5
         },
         {
          "fillcolor": "rgba(0,0,0,0)",
          "layer": "above",
          "line": {
           "color": "rgba(0,0,0,0.2)",
           "width": 1
          },
          "type": "rect",
          "x0": 1.5,
          "x1": 2.5,
          "y0": 8.5,
          "y1": 9.5
         },
         {
          "fillcolor": "rgba(0,0,0,0)",
          "layer": "above",
          "line": {
           "color": "rgba(0,0,0,0.2)",
           "width": 1
          },
          "type": "rect",
          "x0": 2.5,
          "x1": 3.5,
          "y0": 8.5,
          "y1": 9.5
         },
         {
          "fillcolor": "rgba(0,0,0,0)",
          "layer": "above",
          "line": {
           "color": "rgba(0,0,0,0.2)",
           "width": 1
          },
          "type": "rect",
          "x0": 3.5,
          "x1": 4.5,
          "y0": 8.5,
          "y1": 9.5
         },
         {
          "fillcolor": "rgba(0,0,0,0)",
          "layer": "above",
          "line": {
           "color": "rgba(0,0,0,0.2)",
           "width": 1
          },
          "type": "rect",
          "x0": 4.5,
          "x1": 5.5,
          "y0": 8.5,
          "y1": 9.5
         },
         {
          "fillcolor": "rgba(0,0,0,0)",
          "layer": "above",
          "line": {
           "color": "rgba(0,0,0,0.2)",
           "width": 1
          },
          "type": "rect",
          "x0": 5.5,
          "x1": 6.5,
          "y0": 8.5,
          "y1": 9.5
         },
         {
          "fillcolor": "rgba(0,0,0,0)",
          "layer": "above",
          "line": {
           "color": "rgba(0,0,0,0.2)",
           "width": 1
          },
          "type": "rect",
          "x0": 6.5,
          "x1": 7.5,
          "y0": 8.5,
          "y1": 9.5
         },
         {
          "fillcolor": "rgba(0,0,0,0)",
          "layer": "above",
          "line": {
           "color": "rgba(0,0,0,0.2)",
           "width": 1
          },
          "type": "rect",
          "x0": -0.5,
          "x1": 0.5,
          "y0": 9.5,
          "y1": 10.5
         },
         {
          "fillcolor": "rgba(0,0,0,0)",
          "layer": "above",
          "line": {
           "color": "rgba(0,0,0,0.2)",
           "width": 1
          },
          "type": "rect",
          "x0": 0.5,
          "x1": 1.5,
          "y0": 9.5,
          "y1": 10.5
         },
         {
          "fillcolor": "rgba(0,0,0,0)",
          "layer": "above",
          "line": {
           "color": "rgba(0,0,0,0.2)",
           "width": 1
          },
          "type": "rect",
          "x0": 1.5,
          "x1": 2.5,
          "y0": 9.5,
          "y1": 10.5
         },
         {
          "fillcolor": "rgba(0,0,0,0)",
          "layer": "above",
          "line": {
           "color": "rgba(0,0,0,0.2)",
           "width": 1
          },
          "type": "rect",
          "x0": 2.5,
          "x1": 3.5,
          "y0": 9.5,
          "y1": 10.5
         },
         {
          "fillcolor": "rgba(0,0,0,0)",
          "layer": "above",
          "line": {
           "color": "rgba(0,0,0,0.2)",
           "width": 1
          },
          "type": "rect",
          "x0": 3.5,
          "x1": 4.5,
          "y0": 9.5,
          "y1": 10.5
         },
         {
          "fillcolor": "rgba(0,0,0,0)",
          "layer": "above",
          "line": {
           "color": "rgba(0,0,0,0.2)",
           "width": 1
          },
          "type": "rect",
          "x0": 4.5,
          "x1": 5.5,
          "y0": 9.5,
          "y1": 10.5
         },
         {
          "fillcolor": "rgba(0,0,0,0)",
          "layer": "above",
          "line": {
           "color": "rgba(0,0,0,0.2)",
           "width": 1
          },
          "type": "rect",
          "x0": 5.5,
          "x1": 6.5,
          "y0": 9.5,
          "y1": 10.5
         },
         {
          "fillcolor": "rgba(0,0,0,0)",
          "layer": "above",
          "line": {
           "color": "rgba(0,0,0,0.2)",
           "width": 1
          },
          "type": "rect",
          "x0": 6.5,
          "x1": 7.5,
          "y0": 9.5,
          "y1": 10.5
         },
         {
          "fillcolor": "rgba(0,0,0,0)",
          "layer": "above",
          "line": {
           "color": "rgba(0,0,0,0.2)",
           "width": 1
          },
          "type": "rect",
          "x0": -0.5,
          "x1": 0.5,
          "y0": 10.5,
          "y1": 11.5
         },
         {
          "fillcolor": "rgba(0,0,0,0)",
          "layer": "above",
          "line": {
           "color": "rgba(0,0,0,0.2)",
           "width": 1
          },
          "type": "rect",
          "x0": 0.5,
          "x1": 1.5,
          "y0": 10.5,
          "y1": 11.5
         },
         {
          "fillcolor": "rgba(0,0,0,0)",
          "layer": "above",
          "line": {
           "color": "rgba(0,0,0,0.2)",
           "width": 1
          },
          "type": "rect",
          "x0": 1.5,
          "x1": 2.5,
          "y0": 10.5,
          "y1": 11.5
         },
         {
          "fillcolor": "rgba(0,0,0,0)",
          "layer": "above",
          "line": {
           "color": "rgba(0,0,0,0.2)",
           "width": 1
          },
          "type": "rect",
          "x0": 2.5,
          "x1": 3.5,
          "y0": 10.5,
          "y1": 11.5
         },
         {
          "fillcolor": "rgba(0,0,0,0)",
          "layer": "above",
          "line": {
           "color": "rgba(0,0,0,0.2)",
           "width": 1
          },
          "type": "rect",
          "x0": 3.5,
          "x1": 4.5,
          "y0": 10.5,
          "y1": 11.5
         },
         {
          "fillcolor": "rgba(0,0,0,0)",
          "layer": "above",
          "line": {
           "color": "rgba(0,0,0,0.2)",
           "width": 1
          },
          "type": "rect",
          "x0": 4.5,
          "x1": 5.5,
          "y0": 10.5,
          "y1": 11.5
         },
         {
          "fillcolor": "rgba(0,0,0,0)",
          "layer": "above",
          "line": {
           "color": "rgba(0,0,0,0.2)",
           "width": 1
          },
          "type": "rect",
          "x0": 5.5,
          "x1": 6.5,
          "y0": 10.5,
          "y1": 11.5
         },
         {
          "fillcolor": "rgba(0,0,0,0)",
          "layer": "above",
          "line": {
           "color": "rgba(0,0,0,0.2)",
           "width": 1
          },
          "type": "rect",
          "x0": 6.5,
          "x1": 7.5,
          "y0": 10.5,
          "y1": 11.5
         },
         {
          "fillcolor": "rgba(0,0,0,0)",
          "layer": "above",
          "line": {
           "color": "rgba(0,0,0,0.2)",
           "width": 1
          },
          "type": "rect",
          "x0": -0.5,
          "x1": 0.5,
          "y0": 11.5,
          "y1": 12.5
         },
         {
          "fillcolor": "rgba(0,0,0,0)",
          "layer": "above",
          "line": {
           "color": "rgba(0,0,0,0.2)",
           "width": 1
          },
          "type": "rect",
          "x0": 0.5,
          "x1": 1.5,
          "y0": 11.5,
          "y1": 12.5
         },
         {
          "fillcolor": "rgba(0,0,0,0)",
          "layer": "above",
          "line": {
           "color": "rgba(0,0,0,0.2)",
           "width": 1
          },
          "type": "rect",
          "x0": 1.5,
          "x1": 2.5,
          "y0": 11.5,
          "y1": 12.5
         },
         {
          "fillcolor": "rgba(0,0,0,0)",
          "layer": "above",
          "line": {
           "color": "rgba(0,0,0,0.2)",
           "width": 1
          },
          "type": "rect",
          "x0": 2.5,
          "x1": 3.5,
          "y0": 11.5,
          "y1": 12.5
         },
         {
          "fillcolor": "rgba(0,0,0,0)",
          "layer": "above",
          "line": {
           "color": "rgba(0,0,0,0.2)",
           "width": 1
          },
          "type": "rect",
          "x0": 3.5,
          "x1": 4.5,
          "y0": 11.5,
          "y1": 12.5
         },
         {
          "fillcolor": "rgba(0,0,0,0)",
          "layer": "above",
          "line": {
           "color": "rgba(0,0,0,0.2)",
           "width": 1
          },
          "type": "rect",
          "x0": 4.5,
          "x1": 5.5,
          "y0": 11.5,
          "y1": 12.5
         },
         {
          "fillcolor": "rgba(0,0,0,0)",
          "layer": "above",
          "line": {
           "color": "rgba(0,0,0,0.2)",
           "width": 1
          },
          "type": "rect",
          "x0": 5.5,
          "x1": 6.5,
          "y0": 11.5,
          "y1": 12.5
         },
         {
          "fillcolor": "rgba(0,0,0,0)",
          "layer": "above",
          "line": {
           "color": "rgba(0,0,0,0.2)",
           "width": 1
          },
          "type": "rect",
          "x0": 6.5,
          "x1": 7.5,
          "y0": 11.5,
          "y1": 12.5
         },
         {
          "fillcolor": "rgba(0,0,0,0)",
          "layer": "above",
          "line": {
           "color": "rgba(0,0,0,0.2)",
           "width": 1
          },
          "type": "rect",
          "x0": -0.5,
          "x1": 0.5,
          "y0": 12.5,
          "y1": 13.5
         },
         {
          "fillcolor": "rgba(0,0,0,0)",
          "layer": "above",
          "line": {
           "color": "rgba(0,0,0,0.2)",
           "width": 1
          },
          "type": "rect",
          "x0": 0.5,
          "x1": 1.5,
          "y0": 12.5,
          "y1": 13.5
         },
         {
          "fillcolor": "rgba(0,0,0,0)",
          "layer": "above",
          "line": {
           "color": "rgba(0,0,0,0.2)",
           "width": 1
          },
          "type": "rect",
          "x0": 1.5,
          "x1": 2.5,
          "y0": 12.5,
          "y1": 13.5
         },
         {
          "fillcolor": "rgba(0,0,0,0)",
          "layer": "above",
          "line": {
           "color": "rgba(0,0,0,0.2)",
           "width": 1
          },
          "type": "rect",
          "x0": 2.5,
          "x1": 3.5,
          "y0": 12.5,
          "y1": 13.5
         },
         {
          "fillcolor": "rgba(0,0,0,0)",
          "layer": "above",
          "line": {
           "color": "rgba(0,0,0,0.2)",
           "width": 1
          },
          "type": "rect",
          "x0": 3.5,
          "x1": 4.5,
          "y0": 12.5,
          "y1": 13.5
         },
         {
          "fillcolor": "rgba(0,0,0,0)",
          "layer": "above",
          "line": {
           "color": "rgba(0,0,0,0.2)",
           "width": 1
          },
          "type": "rect",
          "x0": 4.5,
          "x1": 5.5,
          "y0": 12.5,
          "y1": 13.5
         },
         {
          "fillcolor": "rgba(0,0,0,0)",
          "layer": "above",
          "line": {
           "color": "rgba(0,0,0,0.2)",
           "width": 1
          },
          "type": "rect",
          "x0": 5.5,
          "x1": 6.5,
          "y0": 12.5,
          "y1": 13.5
         },
         {
          "fillcolor": "rgba(0,0,0,0)",
          "layer": "above",
          "line": {
           "color": "rgba(0,0,0,0.2)",
           "width": 1
          },
          "type": "rect",
          "x0": 6.5,
          "x1": 7.5,
          "y0": 12.5,
          "y1": 13.5
         },
         {
          "fillcolor": "rgba(0,0,0,0)",
          "layer": "above",
          "line": {
           "color": "rgba(0,0,0,0.2)",
           "width": 1
          },
          "type": "rect",
          "x0": -0.5,
          "x1": 0.5,
          "y0": 13.5,
          "y1": 14.5
         },
         {
          "fillcolor": "rgba(0,0,0,0)",
          "layer": "above",
          "line": {
           "color": "rgba(0,0,0,0.2)",
           "width": 1
          },
          "type": "rect",
          "x0": 0.5,
          "x1": 1.5,
          "y0": 13.5,
          "y1": 14.5
         },
         {
          "fillcolor": "rgba(0,0,0,0)",
          "layer": "above",
          "line": {
           "color": "rgba(0,0,0,0.2)",
           "width": 1
          },
          "type": "rect",
          "x0": 1.5,
          "x1": 2.5,
          "y0": 13.5,
          "y1": 14.5
         },
         {
          "fillcolor": "rgba(0,0,0,0)",
          "layer": "above",
          "line": {
           "color": "rgba(0,0,0,0.2)",
           "width": 1
          },
          "type": "rect",
          "x0": 2.5,
          "x1": 3.5,
          "y0": 13.5,
          "y1": 14.5
         },
         {
          "fillcolor": "rgba(0,0,0,0)",
          "layer": "above",
          "line": {
           "color": "rgba(0,0,0,0.2)",
           "width": 1
          },
          "type": "rect",
          "x0": 3.5,
          "x1": 4.5,
          "y0": 13.5,
          "y1": 14.5
         },
         {
          "fillcolor": "rgba(0,0,0,0)",
          "layer": "above",
          "line": {
           "color": "rgba(0,0,0,0.2)",
           "width": 1
          },
          "type": "rect",
          "x0": 4.5,
          "x1": 5.5,
          "y0": 13.5,
          "y1": 14.5
         },
         {
          "fillcolor": "rgba(0,0,0,0)",
          "layer": "above",
          "line": {
           "color": "rgba(0,0,0,0.2)",
           "width": 1
          },
          "type": "rect",
          "x0": 5.5,
          "x1": 6.5,
          "y0": 13.5,
          "y1": 14.5
         },
         {
          "fillcolor": "rgba(0,0,0,0)",
          "layer": "above",
          "line": {
           "color": "rgba(0,0,0,0.2)",
           "width": 1
          },
          "type": "rect",
          "x0": 6.5,
          "x1": 7.5,
          "y0": 13.5,
          "y1": 14.5
         },
         {
          "fillcolor": "rgba(0,0,0,0)",
          "layer": "above",
          "line": {
           "color": "rgba(0,0,0,0.2)",
           "width": 1
          },
          "type": "rect",
          "x0": -0.5,
          "x1": 0.5,
          "y0": 14.5,
          "y1": 15.5
         },
         {
          "fillcolor": "rgba(0,0,0,0)",
          "layer": "above",
          "line": {
           "color": "rgba(0,0,0,0.2)",
           "width": 1
          },
          "type": "rect",
          "x0": 0.5,
          "x1": 1.5,
          "y0": 14.5,
          "y1": 15.5
         },
         {
          "fillcolor": "rgba(0,0,0,0)",
          "layer": "above",
          "line": {
           "color": "rgba(0,0,0,0.2)",
           "width": 1
          },
          "type": "rect",
          "x0": 1.5,
          "x1": 2.5,
          "y0": 14.5,
          "y1": 15.5
         },
         {
          "fillcolor": "rgba(0,0,0,0)",
          "layer": "above",
          "line": {
           "color": "rgba(0,0,0,0.2)",
           "width": 1
          },
          "type": "rect",
          "x0": 2.5,
          "x1": 3.5,
          "y0": 14.5,
          "y1": 15.5
         },
         {
          "fillcolor": "rgba(0,0,0,0)",
          "layer": "above",
          "line": {
           "color": "rgba(0,0,0,0.2)",
           "width": 1
          },
          "type": "rect",
          "x0": 3.5,
          "x1": 4.5,
          "y0": 14.5,
          "y1": 15.5
         },
         {
          "fillcolor": "rgba(0,0,0,0)",
          "layer": "above",
          "line": {
           "color": "rgba(0,0,0,0.2)",
           "width": 1
          },
          "type": "rect",
          "x0": 4.5,
          "x1": 5.5,
          "y0": 14.5,
          "y1": 15.5
         },
         {
          "fillcolor": "rgba(0,0,0,0)",
          "layer": "above",
          "line": {
           "color": "rgba(0,0,0,0.2)",
           "width": 1
          },
          "type": "rect",
          "x0": 5.5,
          "x1": 6.5,
          "y0": 14.5,
          "y1": 15.5
         },
         {
          "fillcolor": "rgba(0,0,0,0)",
          "layer": "above",
          "line": {
           "color": "rgba(0,0,0,0.2)",
           "width": 1
          },
          "type": "rect",
          "x0": 6.5,
          "x1": 7.5,
          "y0": 14.5,
          "y1": 15.5
         },
         {
          "fillcolor": "rgba(0,0,0,0)",
          "layer": "above",
          "line": {
           "color": "rgba(0,0,0,0.2)",
           "width": 1
          },
          "type": "rect",
          "x0": -0.5,
          "x1": 0.5,
          "y0": 15.5,
          "y1": 16.5
         },
         {
          "fillcolor": "rgba(0,0,0,0)",
          "layer": "above",
          "line": {
           "color": "rgba(0,0,0,0.2)",
           "width": 1
          },
          "type": "rect",
          "x0": 0.5,
          "x1": 1.5,
          "y0": 15.5,
          "y1": 16.5
         },
         {
          "fillcolor": "rgba(0,0,0,0)",
          "layer": "above",
          "line": {
           "color": "rgba(0,0,0,0.2)",
           "width": 1
          },
          "type": "rect",
          "x0": 1.5,
          "x1": 2.5,
          "y0": 15.5,
          "y1": 16.5
         },
         {
          "fillcolor": "rgba(0,0,0,0)",
          "layer": "above",
          "line": {
           "color": "rgba(0,0,0,0.2)",
           "width": 1
          },
          "type": "rect",
          "x0": 2.5,
          "x1": 3.5,
          "y0": 15.5,
          "y1": 16.5
         },
         {
          "fillcolor": "rgba(0,0,0,0)",
          "layer": "above",
          "line": {
           "color": "rgba(0,0,0,0.2)",
           "width": 1
          },
          "type": "rect",
          "x0": 3.5,
          "x1": 4.5,
          "y0": 15.5,
          "y1": 16.5
         },
         {
          "fillcolor": "rgba(0,0,0,0)",
          "layer": "above",
          "line": {
           "color": "rgba(0,0,0,0.2)",
           "width": 1
          },
          "type": "rect",
          "x0": 4.5,
          "x1": 5.5,
          "y0": 15.5,
          "y1": 16.5
         },
         {
          "fillcolor": "rgba(0,0,0,0)",
          "layer": "above",
          "line": {
           "color": "rgba(0,0,0,0.2)",
           "width": 1
          },
          "type": "rect",
          "x0": 5.5,
          "x1": 6.5,
          "y0": 15.5,
          "y1": 16.5
         },
         {
          "fillcolor": "rgba(0,0,0,0)",
          "layer": "above",
          "line": {
           "color": "rgba(0,0,0,0.2)",
           "width": 1
          },
          "type": "rect",
          "x0": 6.5,
          "x1": 7.5,
          "y0": 15.5,
          "y1": 16.5
         },
         {
          "fillcolor": "rgba(0,0,0,0)",
          "layer": "above",
          "line": {
           "color": "rgba(0,0,0,0.2)",
           "width": 1
          },
          "type": "rect",
          "x0": -0.5,
          "x1": 0.5,
          "y0": 16.5,
          "y1": 17.5
         },
         {
          "fillcolor": "rgba(0,0,0,0)",
          "layer": "above",
          "line": {
           "color": "rgba(0,0,0,0.2)",
           "width": 1
          },
          "type": "rect",
          "x0": 0.5,
          "x1": 1.5,
          "y0": 16.5,
          "y1": 17.5
         },
         {
          "fillcolor": "rgba(0,0,0,0)",
          "layer": "above",
          "line": {
           "color": "rgba(0,0,0,0.2)",
           "width": 1
          },
          "type": "rect",
          "x0": 1.5,
          "x1": 2.5,
          "y0": 16.5,
          "y1": 17.5
         },
         {
          "fillcolor": "rgba(0,0,0,0)",
          "layer": "above",
          "line": {
           "color": "rgba(0,0,0,0.2)",
           "width": 1
          },
          "type": "rect",
          "x0": 2.5,
          "x1": 3.5,
          "y0": 16.5,
          "y1": 17.5
         },
         {
          "fillcolor": "rgba(0,0,0,0)",
          "layer": "above",
          "line": {
           "color": "rgba(0,0,0,0.2)",
           "width": 1
          },
          "type": "rect",
          "x0": 3.5,
          "x1": 4.5,
          "y0": 16.5,
          "y1": 17.5
         },
         {
          "fillcolor": "rgba(0,0,0,0)",
          "layer": "above",
          "line": {
           "color": "rgba(0,0,0,0.2)",
           "width": 1
          },
          "type": "rect",
          "x0": 4.5,
          "x1": 5.5,
          "y0": 16.5,
          "y1": 17.5
         },
         {
          "fillcolor": "rgba(0,0,0,0)",
          "layer": "above",
          "line": {
           "color": "rgba(0,0,0,0.2)",
           "width": 1
          },
          "type": "rect",
          "x0": 5.5,
          "x1": 6.5,
          "y0": 16.5,
          "y1": 17.5
         },
         {
          "fillcolor": "rgba(0,0,0,0)",
          "layer": "above",
          "line": {
           "color": "rgba(0,0,0,0.2)",
           "width": 1
          },
          "type": "rect",
          "x0": 6.5,
          "x1": 7.5,
          "y0": 16.5,
          "y1": 17.5
         },
         {
          "fillcolor": "rgba(0,0,0,0)",
          "layer": "above",
          "line": {
           "color": "rgba(0,0,0,0.2)",
           "width": 1
          },
          "type": "rect",
          "x0": -0.5,
          "x1": 0.5,
          "y0": 17.5,
          "y1": 18.5
         },
         {
          "fillcolor": "rgba(0,0,0,0)",
          "layer": "above",
          "line": {
           "color": "rgba(0,0,0,0.2)",
           "width": 1
          },
          "type": "rect",
          "x0": 0.5,
          "x1": 1.5,
          "y0": 17.5,
          "y1": 18.5
         },
         {
          "fillcolor": "rgba(0,0,0,0)",
          "layer": "above",
          "line": {
           "color": "rgba(0,0,0,0.2)",
           "width": 1
          },
          "type": "rect",
          "x0": 1.5,
          "x1": 2.5,
          "y0": 17.5,
          "y1": 18.5
         },
         {
          "fillcolor": "rgba(0,0,0,0)",
          "layer": "above",
          "line": {
           "color": "rgba(0,0,0,0.2)",
           "width": 1
          },
          "type": "rect",
          "x0": 2.5,
          "x1": 3.5,
          "y0": 17.5,
          "y1": 18.5
         },
         {
          "fillcolor": "rgba(0,0,0,0)",
          "layer": "above",
          "line": {
           "color": "rgba(0,0,0,0.2)",
           "width": 1
          },
          "type": "rect",
          "x0": 3.5,
          "x1": 4.5,
          "y0": 17.5,
          "y1": 18.5
         },
         {
          "fillcolor": "rgba(0,0,0,0)",
          "layer": "above",
          "line": {
           "color": "rgba(0,0,0,0.2)",
           "width": 1
          },
          "type": "rect",
          "x0": 4.5,
          "x1": 5.5,
          "y0": 17.5,
          "y1": 18.5
         },
         {
          "fillcolor": "rgba(0,0,0,0)",
          "layer": "above",
          "line": {
           "color": "rgba(0,0,0,0.2)",
           "width": 1
          },
          "type": "rect",
          "x0": 5.5,
          "x1": 6.5,
          "y0": 17.5,
          "y1": 18.5
         },
         {
          "fillcolor": "rgba(0,0,0,0)",
          "layer": "above",
          "line": {
           "color": "rgba(0,0,0,0.2)",
           "width": 1
          },
          "type": "rect",
          "x0": 6.5,
          "x1": 7.5,
          "y0": 17.5,
          "y1": 18.5
         },
         {
          "fillcolor": "rgba(0,0,0,0)",
          "layer": "above",
          "line": {
           "color": "rgba(0,0,0,0.2)",
           "width": 1
          },
          "type": "rect",
          "x0": -0.5,
          "x1": 0.5,
          "y0": 18.5,
          "y1": 19.5
         },
         {
          "fillcolor": "rgba(0,0,0,0)",
          "layer": "above",
          "line": {
           "color": "rgba(0,0,0,0.2)",
           "width": 1
          },
          "type": "rect",
          "x0": 0.5,
          "x1": 1.5,
          "y0": 18.5,
          "y1": 19.5
         },
         {
          "fillcolor": "rgba(0,0,0,0)",
          "layer": "above",
          "line": {
           "color": "rgba(0,0,0,0.2)",
           "width": 1
          },
          "type": "rect",
          "x0": 1.5,
          "x1": 2.5,
          "y0": 18.5,
          "y1": 19.5
         },
         {
          "fillcolor": "rgba(0,0,0,0)",
          "layer": "above",
          "line": {
           "color": "rgba(0,0,0,0.2)",
           "width": 1
          },
          "type": "rect",
          "x0": 2.5,
          "x1": 3.5,
          "y0": 18.5,
          "y1": 19.5
         },
         {
          "fillcolor": "rgba(0,0,0,0)",
          "layer": "above",
          "line": {
           "color": "rgba(0,0,0,0.2)",
           "width": 1
          },
          "type": "rect",
          "x0": 3.5,
          "x1": 4.5,
          "y0": 18.5,
          "y1": 19.5
         },
         {
          "fillcolor": "rgba(0,0,0,0)",
          "layer": "above",
          "line": {
           "color": "rgba(0,0,0,0.2)",
           "width": 1
          },
          "type": "rect",
          "x0": 4.5,
          "x1": 5.5,
          "y0": 18.5,
          "y1": 19.5
         },
         {
          "fillcolor": "rgba(0,0,0,0)",
          "layer": "above",
          "line": {
           "color": "rgba(0,0,0,0.2)",
           "width": 1
          },
          "type": "rect",
          "x0": 5.5,
          "x1": 6.5,
          "y0": 18.5,
          "y1": 19.5
         },
         {
          "fillcolor": "rgba(0,0,0,0)",
          "layer": "above",
          "line": {
           "color": "rgba(0,0,0,0.2)",
           "width": 1
          },
          "type": "rect",
          "x0": 6.5,
          "x1": 7.5,
          "y0": 18.5,
          "y1": 19.5
         },
         {
          "fillcolor": "rgba(0,0,0,0)",
          "layer": "above",
          "line": {
           "color": "rgba(0,0,0,0.2)",
           "width": 1
          },
          "type": "rect",
          "x0": -0.5,
          "x1": 0.5,
          "y0": 19.5,
          "y1": 20.5
         },
         {
          "fillcolor": "rgba(0,0,0,0)",
          "layer": "above",
          "line": {
           "color": "rgba(0,0,0,0.2)",
           "width": 1
          },
          "type": "rect",
          "x0": 0.5,
          "x1": 1.5,
          "y0": 19.5,
          "y1": 20.5
         },
         {
          "fillcolor": "rgba(0,0,0,0)",
          "layer": "above",
          "line": {
           "color": "rgba(0,0,0,0.2)",
           "width": 1
          },
          "type": "rect",
          "x0": 1.5,
          "x1": 2.5,
          "y0": 19.5,
          "y1": 20.5
         },
         {
          "fillcolor": "rgba(0,0,0,0)",
          "layer": "above",
          "line": {
           "color": "rgba(0,0,0,0.2)",
           "width": 1
          },
          "type": "rect",
          "x0": 2.5,
          "x1": 3.5,
          "y0": 19.5,
          "y1": 20.5
         },
         {
          "fillcolor": "rgba(0,0,0,0)",
          "layer": "above",
          "line": {
           "color": "rgba(0,0,0,0.2)",
           "width": 1
          },
          "type": "rect",
          "x0": 3.5,
          "x1": 4.5,
          "y0": 19.5,
          "y1": 20.5
         },
         {
          "fillcolor": "rgba(0,0,0,0)",
          "layer": "above",
          "line": {
           "color": "rgba(0,0,0,0.2)",
           "width": 1
          },
          "type": "rect",
          "x0": 4.5,
          "x1": 5.5,
          "y0": 19.5,
          "y1": 20.5
         },
         {
          "fillcolor": "rgba(0,0,0,0)",
          "layer": "above",
          "line": {
           "color": "rgba(0,0,0,0.2)",
           "width": 1
          },
          "type": "rect",
          "x0": 5.5,
          "x1": 6.5,
          "y0": 19.5,
          "y1": 20.5
         },
         {
          "fillcolor": "rgba(0,0,0,0)",
          "layer": "above",
          "line": {
           "color": "rgba(0,0,0,0.2)",
           "width": 1
          },
          "type": "rect",
          "x0": 6.5,
          "x1": 7.5,
          "y0": 19.5,
          "y1": 20.5
         },
         {
          "fillcolor": "rgba(0,0,0,0)",
          "layer": "above",
          "line": {
           "color": "rgba(0,0,0,0.2)",
           "width": 1
          },
          "type": "rect",
          "x0": -0.5,
          "x1": 0.5,
          "y0": 20.5,
          "y1": 21.5
         },
         {
          "fillcolor": "rgba(0,0,0,0)",
          "layer": "above",
          "line": {
           "color": "rgba(0,0,0,0.2)",
           "width": 1
          },
          "type": "rect",
          "x0": 0.5,
          "x1": 1.5,
          "y0": 20.5,
          "y1": 21.5
         },
         {
          "fillcolor": "rgba(0,0,0,0)",
          "layer": "above",
          "line": {
           "color": "rgba(0,0,0,0.2)",
           "width": 1
          },
          "type": "rect",
          "x0": 1.5,
          "x1": 2.5,
          "y0": 20.5,
          "y1": 21.5
         },
         {
          "fillcolor": "rgba(0,0,0,0)",
          "layer": "above",
          "line": {
           "color": "rgba(0,0,0,0.2)",
           "width": 1
          },
          "type": "rect",
          "x0": 2.5,
          "x1": 3.5,
          "y0": 20.5,
          "y1": 21.5
         },
         {
          "fillcolor": "rgba(0,0,0,0)",
          "layer": "above",
          "line": {
           "color": "rgba(0,0,0,0.2)",
           "width": 1
          },
          "type": "rect",
          "x0": 3.5,
          "x1": 4.5,
          "y0": 20.5,
          "y1": 21.5
         },
         {
          "fillcolor": "rgba(0,0,0,0)",
          "layer": "above",
          "line": {
           "color": "rgba(0,0,0,0.2)",
           "width": 1
          },
          "type": "rect",
          "x0": 4.5,
          "x1": 5.5,
          "y0": 20.5,
          "y1": 21.5
         },
         {
          "fillcolor": "rgba(0,0,0,0)",
          "layer": "above",
          "line": {
           "color": "rgba(0,0,0,0.2)",
           "width": 1
          },
          "type": "rect",
          "x0": 5.5,
          "x1": 6.5,
          "y0": 20.5,
          "y1": 21.5
         },
         {
          "fillcolor": "rgba(0,0,0,0)",
          "layer": "above",
          "line": {
           "color": "rgba(0,0,0,0.2)",
           "width": 1
          },
          "type": "rect",
          "x0": 6.5,
          "x1": 7.5,
          "y0": 20.5,
          "y1": 21.5
         },
         {
          "fillcolor": "rgba(0,0,0,0)",
          "layer": "above",
          "line": {
           "color": "rgba(0,0,0,0.2)",
           "width": 1
          },
          "type": "rect",
          "x0": -0.5,
          "x1": 0.5,
          "y0": 21.5,
          "y1": 22.5
         },
         {
          "fillcolor": "rgba(0,0,0,0)",
          "layer": "above",
          "line": {
           "color": "rgba(0,0,0,0.2)",
           "width": 1
          },
          "type": "rect",
          "x0": 0.5,
          "x1": 1.5,
          "y0": 21.5,
          "y1": 22.5
         },
         {
          "fillcolor": "rgba(0,0,0,0)",
          "layer": "above",
          "line": {
           "color": "rgba(0,0,0,0.2)",
           "width": 1
          },
          "type": "rect",
          "x0": 1.5,
          "x1": 2.5,
          "y0": 21.5,
          "y1": 22.5
         },
         {
          "fillcolor": "rgba(0,0,0,0)",
          "layer": "above",
          "line": {
           "color": "rgba(0,0,0,0.2)",
           "width": 1
          },
          "type": "rect",
          "x0": 2.5,
          "x1": 3.5,
          "y0": 21.5,
          "y1": 22.5
         },
         {
          "fillcolor": "rgba(0,0,0,0)",
          "layer": "above",
          "line": {
           "color": "rgba(0,0,0,0.2)",
           "width": 1
          },
          "type": "rect",
          "x0": 3.5,
          "x1": 4.5,
          "y0": 21.5,
          "y1": 22.5
         },
         {
          "fillcolor": "rgba(0,0,0,0)",
          "layer": "above",
          "line": {
           "color": "rgba(0,0,0,0.2)",
           "width": 1
          },
          "type": "rect",
          "x0": 4.5,
          "x1": 5.5,
          "y0": 21.5,
          "y1": 22.5
         },
         {
          "fillcolor": "rgba(0,0,0,0)",
          "layer": "above",
          "line": {
           "color": "rgba(0,0,0,0.2)",
           "width": 1
          },
          "type": "rect",
          "x0": 5.5,
          "x1": 6.5,
          "y0": 21.5,
          "y1": 22.5
         },
         {
          "fillcolor": "rgba(0,0,0,0)",
          "layer": "above",
          "line": {
           "color": "rgba(0,0,0,0.2)",
           "width": 1
          },
          "type": "rect",
          "x0": 6.5,
          "x1": 7.5,
          "y0": 21.5,
          "y1": 22.5
         },
         {
          "fillcolor": "rgba(0,0,0,0)",
          "layer": "above",
          "line": {
           "color": "rgba(0,0,0,0.2)",
           "width": 1
          },
          "type": "rect",
          "x0": -0.5,
          "x1": 0.5,
          "y0": 22.5,
          "y1": 23.5
         },
         {
          "fillcolor": "rgba(0,0,0,0)",
          "layer": "above",
          "line": {
           "color": "rgba(0,0,0,0.2)",
           "width": 1
          },
          "type": "rect",
          "x0": 0.5,
          "x1": 1.5,
          "y0": 22.5,
          "y1": 23.5
         },
         {
          "fillcolor": "rgba(0,0,0,0)",
          "layer": "above",
          "line": {
           "color": "rgba(0,0,0,0.2)",
           "width": 1
          },
          "type": "rect",
          "x0": 1.5,
          "x1": 2.5,
          "y0": 22.5,
          "y1": 23.5
         },
         {
          "fillcolor": "rgba(0,0,0,0)",
          "layer": "above",
          "line": {
           "color": "rgba(0,0,0,0.2)",
           "width": 1
          },
          "type": "rect",
          "x0": 2.5,
          "x1": 3.5,
          "y0": 22.5,
          "y1": 23.5
         },
         {
          "fillcolor": "rgba(0,0,0,0)",
          "layer": "above",
          "line": {
           "color": "rgba(0,0,0,0.2)",
           "width": 1
          },
          "type": "rect",
          "x0": 3.5,
          "x1": 4.5,
          "y0": 22.5,
          "y1": 23.5
         },
         {
          "fillcolor": "rgba(0,0,0,0)",
          "layer": "above",
          "line": {
           "color": "rgba(0,0,0,0.2)",
           "width": 1
          },
          "type": "rect",
          "x0": 4.5,
          "x1": 5.5,
          "y0": 22.5,
          "y1": 23.5
         },
         {
          "fillcolor": "rgba(0,0,0,0)",
          "layer": "above",
          "line": {
           "color": "rgba(0,0,0,0.2)",
           "width": 1
          },
          "type": "rect",
          "x0": 5.5,
          "x1": 6.5,
          "y0": 22.5,
          "y1": 23.5
         },
         {
          "fillcolor": "rgba(0,0,0,0)",
          "layer": "above",
          "line": {
           "color": "rgba(0,0,0,0.2)",
           "width": 1
          },
          "type": "rect",
          "x0": 6.5,
          "x1": 7.5,
          "y0": 22.5,
          "y1": 23.5
         },
         {
          "fillcolor": "rgba(0,0,0,0)",
          "layer": "above",
          "line": {
           "color": "rgba(0,0,0,0.2)",
           "width": 1
          },
          "type": "rect",
          "x0": -0.5,
          "x1": 0.5,
          "y0": 23.5,
          "y1": 24.5
         },
         {
          "fillcolor": "rgba(0,0,0,0)",
          "layer": "above",
          "line": {
           "color": "rgba(0,0,0,0.2)",
           "width": 1
          },
          "type": "rect",
          "x0": 0.5,
          "x1": 1.5,
          "y0": 23.5,
          "y1": 24.5
         },
         {
          "fillcolor": "rgba(0,0,0,0)",
          "layer": "above",
          "line": {
           "color": "rgba(0,0,0,0.2)",
           "width": 1
          },
          "type": "rect",
          "x0": 1.5,
          "x1": 2.5,
          "y0": 23.5,
          "y1": 24.5
         },
         {
          "fillcolor": "rgba(0,0,0,0)",
          "layer": "above",
          "line": {
           "color": "rgba(0,0,0,0.2)",
           "width": 1
          },
          "type": "rect",
          "x0": 2.5,
          "x1": 3.5,
          "y0": 23.5,
          "y1": 24.5
         },
         {
          "fillcolor": "rgba(0,0,0,0)",
          "layer": "above",
          "line": {
           "color": "rgba(0,0,0,0.2)",
           "width": 1
          },
          "type": "rect",
          "x0": 3.5,
          "x1": 4.5,
          "y0": 23.5,
          "y1": 24.5
         },
         {
          "fillcolor": "rgba(0,0,0,0)",
          "layer": "above",
          "line": {
           "color": "rgba(0,0,0,0.2)",
           "width": 1
          },
          "type": "rect",
          "x0": 4.5,
          "x1": 5.5,
          "y0": 23.5,
          "y1": 24.5
         },
         {
          "fillcolor": "rgba(0,0,0,0)",
          "layer": "above",
          "line": {
           "color": "rgba(0,0,0,0.2)",
           "width": 1
          },
          "type": "rect",
          "x0": 5.5,
          "x1": 6.5,
          "y0": 23.5,
          "y1": 24.5
         },
         {
          "fillcolor": "rgba(0,0,0,0)",
          "layer": "above",
          "line": {
           "color": "rgba(0,0,0,0.2)",
           "width": 1
          },
          "type": "rect",
          "x0": 6.5,
          "x1": 7.5,
          "y0": 23.5,
          "y1": 24.5
         },
         {
          "fillcolor": "rgba(0,0,0,0)",
          "layer": "above",
          "line": {
           "color": "rgba(0,0,0,0.2)",
           "width": 1
          },
          "type": "rect",
          "x0": -0.5,
          "x1": 0.5,
          "y0": 24.5,
          "y1": 25.5
         },
         {
          "fillcolor": "rgba(0,0,0,0)",
          "layer": "above",
          "line": {
           "color": "rgba(0,0,0,0.2)",
           "width": 1
          },
          "type": "rect",
          "x0": 0.5,
          "x1": 1.5,
          "y0": 24.5,
          "y1": 25.5
         },
         {
          "fillcolor": "rgba(0,0,0,0)",
          "layer": "above",
          "line": {
           "color": "rgba(0,0,0,0.2)",
           "width": 1
          },
          "type": "rect",
          "x0": 1.5,
          "x1": 2.5,
          "y0": 24.5,
          "y1": 25.5
         },
         {
          "fillcolor": "rgba(0,0,0,0)",
          "layer": "above",
          "line": {
           "color": "rgba(0,0,0,0.2)",
           "width": 1
          },
          "type": "rect",
          "x0": 2.5,
          "x1": 3.5,
          "y0": 24.5,
          "y1": 25.5
         },
         {
          "fillcolor": "rgba(0,0,0,0)",
          "layer": "above",
          "line": {
           "color": "rgba(0,0,0,0.2)",
           "width": 1
          },
          "type": "rect",
          "x0": 3.5,
          "x1": 4.5,
          "y0": 24.5,
          "y1": 25.5
         },
         {
          "fillcolor": "rgba(0,0,0,0)",
          "layer": "above",
          "line": {
           "color": "rgba(0,0,0,0.2)",
           "width": 1
          },
          "type": "rect",
          "x0": 4.5,
          "x1": 5.5,
          "y0": 24.5,
          "y1": 25.5
         },
         {
          "fillcolor": "rgba(0,0,0,0)",
          "layer": "above",
          "line": {
           "color": "rgba(0,0,0,0.2)",
           "width": 1
          },
          "type": "rect",
          "x0": 5.5,
          "x1": 6.5,
          "y0": 24.5,
          "y1": 25.5
         },
         {
          "fillcolor": "rgba(0,0,0,0)",
          "layer": "above",
          "line": {
           "color": "rgba(0,0,0,0.2)",
           "width": 1
          },
          "type": "rect",
          "x0": 6.5,
          "x1": 7.5,
          "y0": 24.5,
          "y1": 25.5
         },
         {
          "fillcolor": "rgba(0,0,0,0)",
          "layer": "above",
          "line": {
           "color": "rgba(0,0,0,0.2)",
           "width": 1
          },
          "type": "rect",
          "x0": -0.5,
          "x1": 0.5,
          "y0": 25.5,
          "y1": 26.5
         },
         {
          "fillcolor": "rgba(0,0,0,0)",
          "layer": "above",
          "line": {
           "color": "rgba(0,0,0,0.2)",
           "width": 1
          },
          "type": "rect",
          "x0": 0.5,
          "x1": 1.5,
          "y0": 25.5,
          "y1": 26.5
         },
         {
          "fillcolor": "rgba(0,0,0,0)",
          "layer": "above",
          "line": {
           "color": "rgba(0,0,0,0.2)",
           "width": 1
          },
          "type": "rect",
          "x0": 1.5,
          "x1": 2.5,
          "y0": 25.5,
          "y1": 26.5
         },
         {
          "fillcolor": "rgba(0,0,0,0)",
          "layer": "above",
          "line": {
           "color": "rgba(0,0,0,0.2)",
           "width": 1
          },
          "type": "rect",
          "x0": 2.5,
          "x1": 3.5,
          "y0": 25.5,
          "y1": 26.5
         },
         {
          "fillcolor": "rgba(0,0,0,0)",
          "layer": "above",
          "line": {
           "color": "rgba(0,0,0,0.2)",
           "width": 1
          },
          "type": "rect",
          "x0": 3.5,
          "x1": 4.5,
          "y0": 25.5,
          "y1": 26.5
         },
         {
          "fillcolor": "rgba(0,0,0,0)",
          "layer": "above",
          "line": {
           "color": "rgba(0,0,0,0.2)",
           "width": 1
          },
          "type": "rect",
          "x0": 4.5,
          "x1": 5.5,
          "y0": 25.5,
          "y1": 26.5
         },
         {
          "fillcolor": "rgba(0,0,0,0)",
          "layer": "above",
          "line": {
           "color": "rgba(0,0,0,0.2)",
           "width": 1
          },
          "type": "rect",
          "x0": 5.5,
          "x1": 6.5,
          "y0": 25.5,
          "y1": 26.5
         },
         {
          "fillcolor": "rgba(0,0,0,0)",
          "layer": "above",
          "line": {
           "color": "rgba(0,0,0,0.2)",
           "width": 1
          },
          "type": "rect",
          "x0": 6.5,
          "x1": 7.5,
          "y0": 25.5,
          "y1": 26.5
         },
         {
          "fillcolor": "rgba(0,0,0,0)",
          "layer": "above",
          "line": {
           "color": "rgba(0,0,0,0.2)",
           "width": 1
          },
          "type": "rect",
          "x0": -0.5,
          "x1": 0.5,
          "y0": 26.5,
          "y1": 27.5
         },
         {
          "fillcolor": "rgba(0,0,0,0)",
          "layer": "above",
          "line": {
           "color": "rgba(0,0,0,0.2)",
           "width": 1
          },
          "type": "rect",
          "x0": 0.5,
          "x1": 1.5,
          "y0": 26.5,
          "y1": 27.5
         },
         {
          "fillcolor": "rgba(0,0,0,0)",
          "layer": "above",
          "line": {
           "color": "rgba(0,0,0,0.2)",
           "width": 1
          },
          "type": "rect",
          "x0": 1.5,
          "x1": 2.5,
          "y0": 26.5,
          "y1": 27.5
         },
         {
          "fillcolor": "rgba(0,0,0,0)",
          "layer": "above",
          "line": {
           "color": "rgba(0,0,0,0.2)",
           "width": 1
          },
          "type": "rect",
          "x0": 2.5,
          "x1": 3.5,
          "y0": 26.5,
          "y1": 27.5
         },
         {
          "fillcolor": "rgba(0,0,0,0)",
          "layer": "above",
          "line": {
           "color": "rgba(0,0,0,0.2)",
           "width": 1
          },
          "type": "rect",
          "x0": 3.5,
          "x1": 4.5,
          "y0": 26.5,
          "y1": 27.5
         },
         {
          "fillcolor": "rgba(0,0,0,0)",
          "layer": "above",
          "line": {
           "color": "rgba(0,0,0,0.2)",
           "width": 1
          },
          "type": "rect",
          "x0": 4.5,
          "x1": 5.5,
          "y0": 26.5,
          "y1": 27.5
         },
         {
          "fillcolor": "rgba(0,0,0,0)",
          "layer": "above",
          "line": {
           "color": "rgba(0,0,0,0.2)",
           "width": 1
          },
          "type": "rect",
          "x0": 5.5,
          "x1": 6.5,
          "y0": 26.5,
          "y1": 27.5
         },
         {
          "fillcolor": "rgba(0,0,0,0)",
          "layer": "above",
          "line": {
           "color": "rgba(0,0,0,0.2)",
           "width": 1
          },
          "type": "rect",
          "x0": 6.5,
          "x1": 7.5,
          "y0": 26.5,
          "y1": 27.5
         }
        ],
        "template": {
         "data": {
          "bar": [
           {
            "error_x": {
             "color": "#2a3f5f"
            },
            "error_y": {
             "color": "#2a3f5f"
            },
            "marker": {
             "line": {
              "color": "#E5ECF6",
              "width": 0.5
             },
             "pattern": {
              "fillmode": "overlay",
              "size": 10,
              "solidity": 0.2
             }
            },
            "type": "bar"
           }
          ],
          "barpolar": [
           {
            "marker": {
             "line": {
              "color": "#E5ECF6",
              "width": 0.5
             },
             "pattern": {
              "fillmode": "overlay",
              "size": 10,
              "solidity": 0.2
             }
            },
            "type": "barpolar"
           }
          ],
          "carpet": [
           {
            "aaxis": {
             "endlinecolor": "#2a3f5f",
             "gridcolor": "white",
             "linecolor": "white",
             "minorgridcolor": "white",
             "startlinecolor": "#2a3f5f"
            },
            "baxis": {
             "endlinecolor": "#2a3f5f",
             "gridcolor": "white",
             "linecolor": "white",
             "minorgridcolor": "white",
             "startlinecolor": "#2a3f5f"
            },
            "type": "carpet"
           }
          ],
          "choropleth": [
           {
            "colorbar": {
             "outlinewidth": 0,
             "ticks": ""
            },
            "type": "choropleth"
           }
          ],
          "contour": [
           {
            "colorbar": {
             "outlinewidth": 0,
             "ticks": ""
            },
            "colorscale": [
             [
              0,
              "#0d0887"
             ],
             [
              0.1111111111111111,
              "#46039f"
             ],
             [
              0.2222222222222222,
              "#7201a8"
             ],
             [
              0.3333333333333333,
              "#9c179e"
             ],
             [
              0.4444444444444444,
              "#bd3786"
             ],
             [
              0.5555555555555556,
              "#d8576b"
             ],
             [
              0.6666666666666666,
              "#ed7953"
             ],
             [
              0.7777777777777778,
              "#fb9f3a"
             ],
             [
              0.8888888888888888,
              "#fdca26"
             ],
             [
              1,
              "#f0f921"
             ]
            ],
            "type": "contour"
           }
          ],
          "contourcarpet": [
           {
            "colorbar": {
             "outlinewidth": 0,
             "ticks": ""
            },
            "type": "contourcarpet"
           }
          ],
          "heatmap": [
           {
            "colorbar": {
             "outlinewidth": 0,
             "ticks": ""
            },
            "colorscale": [
             [
              0,
              "#0d0887"
             ],
             [
              0.1111111111111111,
              "#46039f"
             ],
             [
              0.2222222222222222,
              "#7201a8"
             ],
             [
              0.3333333333333333,
              "#9c179e"
             ],
             [
              0.4444444444444444,
              "#bd3786"
             ],
             [
              0.5555555555555556,
              "#d8576b"
             ],
             [
              0.6666666666666666,
              "#ed7953"
             ],
             [
              0.7777777777777778,
              "#fb9f3a"
             ],
             [
              0.8888888888888888,
              "#fdca26"
             ],
             [
              1,
              "#f0f921"
             ]
            ],
            "type": "heatmap"
           }
          ],
          "heatmapgl": [
           {
            "colorbar": {
             "outlinewidth": 0,
             "ticks": ""
            },
            "colorscale": [
             [
              0,
              "#0d0887"
             ],
             [
              0.1111111111111111,
              "#46039f"
             ],
             [
              0.2222222222222222,
              "#7201a8"
             ],
             [
              0.3333333333333333,
              "#9c179e"
             ],
             [
              0.4444444444444444,
              "#bd3786"
             ],
             [
              0.5555555555555556,
              "#d8576b"
             ],
             [
              0.6666666666666666,
              "#ed7953"
             ],
             [
              0.7777777777777778,
              "#fb9f3a"
             ],
             [
              0.8888888888888888,
              "#fdca26"
             ],
             [
              1,
              "#f0f921"
             ]
            ],
            "type": "heatmapgl"
           }
          ],
          "histogram": [
           {
            "marker": {
             "pattern": {
              "fillmode": "overlay",
              "size": 10,
              "solidity": 0.2
             }
            },
            "type": "histogram"
           }
          ],
          "histogram2d": [
           {
            "colorbar": {
             "outlinewidth": 0,
             "ticks": ""
            },
            "colorscale": [
             [
              0,
              "#0d0887"
             ],
             [
              0.1111111111111111,
              "#46039f"
             ],
             [
              0.2222222222222222,
              "#7201a8"
             ],
             [
              0.3333333333333333,
              "#9c179e"
             ],
             [
              0.4444444444444444,
              "#bd3786"
             ],
             [
              0.5555555555555556,
              "#d8576b"
             ],
             [
              0.6666666666666666,
              "#ed7953"
             ],
             [
              0.7777777777777778,
              "#fb9f3a"
             ],
             [
              0.8888888888888888,
              "#fdca26"
             ],
             [
              1,
              "#f0f921"
             ]
            ],
            "type": "histogram2d"
           }
          ],
          "histogram2dcontour": [
           {
            "colorbar": {
             "outlinewidth": 0,
             "ticks": ""
            },
            "colorscale": [
             [
              0,
              "#0d0887"
             ],
             [
              0.1111111111111111,
              "#46039f"
             ],
             [
              0.2222222222222222,
              "#7201a8"
             ],
             [
              0.3333333333333333,
              "#9c179e"
             ],
             [
              0.4444444444444444,
              "#bd3786"
             ],
             [
              0.5555555555555556,
              "#d8576b"
             ],
             [
              0.6666666666666666,
              "#ed7953"
             ],
             [
              0.7777777777777778,
              "#fb9f3a"
             ],
             [
              0.8888888888888888,
              "#fdca26"
             ],
             [
              1,
              "#f0f921"
             ]
            ],
            "type": "histogram2dcontour"
           }
          ],
          "mesh3d": [
           {
            "colorbar": {
             "outlinewidth": 0,
             "ticks": ""
            },
            "type": "mesh3d"
           }
          ],
          "parcoords": [
           {
            "line": {
             "colorbar": {
              "outlinewidth": 0,
              "ticks": ""
             }
            },
            "type": "parcoords"
           }
          ],
          "pie": [
           {
            "automargin": true,
            "type": "pie"
           }
          ],
          "scatter": [
           {
            "fillpattern": {
             "fillmode": "overlay",
             "size": 10,
             "solidity": 0.2
            },
            "type": "scatter"
           }
          ],
          "scatter3d": [
           {
            "line": {
             "colorbar": {
              "outlinewidth": 0,
              "ticks": ""
             }
            },
            "marker": {
             "colorbar": {
              "outlinewidth": 0,
              "ticks": ""
             }
            },
            "type": "scatter3d"
           }
          ],
          "scattercarpet": [
           {
            "marker": {
             "colorbar": {
              "outlinewidth": 0,
              "ticks": ""
             }
            },
            "type": "scattercarpet"
           }
          ],
          "scattergeo": [
           {
            "marker": {
             "colorbar": {
              "outlinewidth": 0,
              "ticks": ""
             }
            },
            "type": "scattergeo"
           }
          ],
          "scattergl": [
           {
            "marker": {
             "colorbar": {
              "outlinewidth": 0,
              "ticks": ""
             }
            },
            "type": "scattergl"
           }
          ],
          "scattermapbox": [
           {
            "marker": {
             "colorbar": {
              "outlinewidth": 0,
              "ticks": ""
             }
            },
            "type": "scattermapbox"
           }
          ],
          "scatterpolar": [
           {
            "marker": {
             "colorbar": {
              "outlinewidth": 0,
              "ticks": ""
             }
            },
            "type": "scatterpolar"
           }
          ],
          "scatterpolargl": [
           {
            "marker": {
             "colorbar": {
              "outlinewidth": 0,
              "ticks": ""
             }
            },
            "type": "scatterpolargl"
           }
          ],
          "scatterternary": [
           {
            "marker": {
             "colorbar": {
              "outlinewidth": 0,
              "ticks": ""
             }
            },
            "type": "scatterternary"
           }
          ],
          "surface": [
           {
            "colorbar": {
             "outlinewidth": 0,
             "ticks": ""
            },
            "colorscale": [
             [
              0,
              "#0d0887"
             ],
             [
              0.1111111111111111,
              "#46039f"
             ],
             [
              0.2222222222222222,
              "#7201a8"
             ],
             [
              0.3333333333333333,
              "#9c179e"
             ],
             [
              0.4444444444444444,
              "#bd3786"
             ],
             [
              0.5555555555555556,
              "#d8576b"
             ],
             [
              0.6666666666666666,
              "#ed7953"
             ],
             [
              0.7777777777777778,
              "#fb9f3a"
             ],
             [
              0.8888888888888888,
              "#fdca26"
             ],
             [
              1,
              "#f0f921"
             ]
            ],
            "type": "surface"
           }
          ],
          "table": [
           {
            "cells": {
             "fill": {
              "color": "#EBF0F8"
             },
             "line": {
              "color": "white"
             }
            },
            "header": {
             "fill": {
              "color": "#C8D4E3"
             },
             "line": {
              "color": "white"
             }
            },
            "type": "table"
           }
          ]
         },
         "layout": {
          "annotationdefaults": {
           "arrowcolor": "#2a3f5f",
           "arrowhead": 0,
           "arrowwidth": 1
          },
          "autotypenumbers": "strict",
          "coloraxis": {
           "colorbar": {
            "outlinewidth": 0,
            "ticks": ""
           }
          },
          "colorscale": {
           "diverging": [
            [
             0,
             "#8e0152"
            ],
            [
             0.1,
             "#c51b7d"
            ],
            [
             0.2,
             "#de77ae"
            ],
            [
             0.3,
             "#f1b6da"
            ],
            [
             0.4,
             "#fde0ef"
            ],
            [
             0.5,
             "#f7f7f7"
            ],
            [
             0.6,
             "#e6f5d0"
            ],
            [
             0.7,
             "#b8e186"
            ],
            [
             0.8,
             "#7fbc41"
            ],
            [
             0.9,
             "#4d9221"
            ],
            [
             1,
             "#276419"
            ]
           ],
           "sequential": [
            [
             0,
             "#0d0887"
            ],
            [
             0.1111111111111111,
             "#46039f"
            ],
            [
             0.2222222222222222,
             "#7201a8"
            ],
            [
             0.3333333333333333,
             "#9c179e"
            ],
            [
             0.4444444444444444,
             "#bd3786"
            ],
            [
             0.5555555555555556,
             "#d8576b"
            ],
            [
             0.6666666666666666,
             "#ed7953"
            ],
            [
             0.7777777777777778,
             "#fb9f3a"
            ],
            [
             0.8888888888888888,
             "#fdca26"
            ],
            [
             1,
             "#f0f921"
            ]
           ],
           "sequentialminus": [
            [
             0,
             "#0d0887"
            ],
            [
             0.1111111111111111,
             "#46039f"
            ],
            [
             0.2222222222222222,
             "#7201a8"
            ],
            [
             0.3333333333333333,
             "#9c179e"
            ],
            [
             0.4444444444444444,
             "#bd3786"
            ],
            [
             0.5555555555555556,
             "#d8576b"
            ],
            [
             0.6666666666666666,
             "#ed7953"
            ],
            [
             0.7777777777777778,
             "#fb9f3a"
            ],
            [
             0.8888888888888888,
             "#fdca26"
            ],
            [
             1,
             "#f0f921"
            ]
           ]
          },
          "colorway": [
           "#636efa",
           "#EF553B",
           "#00cc96",
           "#ab63fa",
           "#FFA15A",
           "#19d3f3",
           "#FF6692",
           "#B6E880",
           "#FF97FF",
           "#FECB52"
          ],
          "font": {
           "color": "#2a3f5f"
          },
          "geo": {
           "bgcolor": "white",
           "lakecolor": "white",
           "landcolor": "#E5ECF6",
           "showlakes": true,
           "showland": true,
           "subunitcolor": "white"
          },
          "hoverlabel": {
           "align": "left"
          },
          "hovermode": "closest",
          "mapbox": {
           "style": "light"
          },
          "paper_bgcolor": "white",
          "plot_bgcolor": "#E5ECF6",
          "polar": {
           "angularaxis": {
            "gridcolor": "white",
            "linecolor": "white",
            "ticks": ""
           },
           "bgcolor": "#E5ECF6",
           "radialaxis": {
            "gridcolor": "white",
            "linecolor": "white",
            "ticks": ""
           }
          },
          "scene": {
           "xaxis": {
            "backgroundcolor": "#E5ECF6",
            "gridcolor": "white",
            "gridwidth": 2,
            "linecolor": "white",
            "showbackground": true,
            "ticks": "",
            "zerolinecolor": "white"
           },
           "yaxis": {
            "backgroundcolor": "#E5ECF6",
            "gridcolor": "white",
            "gridwidth": 2,
            "linecolor": "white",
            "showbackground": true,
            "ticks": "",
            "zerolinecolor": "white"
           },
           "zaxis": {
            "backgroundcolor": "#E5ECF6",
            "gridcolor": "white",
            "gridwidth": 2,
            "linecolor": "white",
            "showbackground": true,
            "ticks": "",
            "zerolinecolor": "white"
           }
          },
          "shapedefaults": {
           "line": {
            "color": "#2a3f5f"
           }
          },
          "ternary": {
           "aaxis": {
            "gridcolor": "white",
            "linecolor": "white",
            "ticks": ""
           },
           "baxis": {
            "gridcolor": "white",
            "linecolor": "white",
            "ticks": ""
           },
           "bgcolor": "#E5ECF6",
           "caxis": {
            "gridcolor": "white",
            "linecolor": "white",
            "ticks": ""
           }
          },
          "title": {
           "x": 0.05
          },
          "xaxis": {
           "automargin": true,
           "gridcolor": "white",
           "linecolor": "white",
           "ticks": "",
           "title": {
            "standoff": 15
           },
           "zerolinecolor": "white",
           "zerolinewidth": 2
          },
          "yaxis": {
           "automargin": true,
           "gridcolor": "white",
           "linecolor": "white",
           "ticks": "",
           "title": {
            "standoff": 15
           },
           "zerolinecolor": "white",
           "zerolinewidth": 2
          }
         }
        },
        "width": 1400,
        "xaxis": {
         "color": "black",
         "constrain": "domain",
         "range": [
          -0.5,
          7.5
         ],
         "showgrid": false,
         "showline": false,
         "side": "bottom",
         "tickangle": -45,
         "tickfont": {
          "family": "Inter",
          "size": 14
         },
         "ticklen": 10,
         "tickmode": "array",
         "tickprefix": "  ",
         "ticks": "outside",
         "ticktext": [
          "layer output",
          "routed exp + res",
          "top exp 1 + res",
          "top exp 2 + res",
          "top exp 3 + res",
          "top exp 4 + res",
          "top exp 5 + res",
          "top exp 6 + res"
         ],
         "tickvals": [
          0,
          1,
          2,
          3,
          4,
          5,
          6,
          7
         ],
         "title": {
          "text": ""
         },
         "zeroline": false
        },
        "yaxis": {
         "autorange": "reversed",
         "color": "black",
         "constrain": "domain",
         "range": [
          -0.5,
          27.5
         ],
         "showgrid": false,
         "showline": false,
         "side": "left",
         "tickfont": {
          "family": "Inter",
          "size": 14
         },
         "ticklen": 10,
         "tickmode": "array",
         "ticks": "outside",
         "ticksuffix": "  ",
         "ticktext": [
          "0",
          "1",
          "2",
          "3",
          "4",
          "5",
          "6",
          "7",
          "8",
          "9",
          "10",
          "11",
          "12",
          "13",
          "14",
          "15",
          "16",
          "17",
          "18",
          "19",
          "20",
          "21",
          "22",
          "23",
          "24",
          "25",
          "26",
          "27"
         ],
         "tickvals": [
          0,
          1,
          2,
          3,
          4,
          5,
          6,
          7,
          8,
          9,
          10,
          11,
          12,
          13,
          14,
          15,
          16,
          17,
          18,
          19,
          20,
          21,
          22,
          23,
          24,
          25,
          26,
          27
         ],
         "title": {
          "font": {
           "family": "Inter",
           "size": 16
          },
          "text": "Layer"
         },
         "zeroline": false
        }
       }
      }
     },
     "metadata": {},
     "output_type": "display_data"
    }
   ],
   "source": [
    "\n",
    "# l = [0,2,6,8,13,18,21,22,25,27]\n",
    "l = [] # empty list = all layers\n",
    "x = len(tokenizer.encode(prompt))\n",
    "print(x)\n",
    "fig = create_logit_lens_viz(analysis, \n",
    "                            tokenizer,\n",
    "                            post_attn_ln_inputs,\n",
    "                            token_pos=x-1, \n",
    "                            color='blues', \n",
    "                            layers_to_plot=l)\n",
    "\n",
    "# save the plot\n",
    "i = 1\n",
    "while os.path.exists(f'logit_lens_viz_{i}.html'):\n",
    "    i += 1\n",
    "fig.write_html(f'logit_lens_viz_{i}.html')\n",
    "fig.write_image(f'logit_lens_viz_{i}.png')\n",
    "fig.show()"
   ]
  }
 ],
 "metadata": {
  "kernelspec": {
   "display_name": "ai_env",
   "language": "python",
   "name": "python3"
  },
  "language_info": {
   "codemirror_mode": {
    "name": "ipython",
    "version": 3
   },
   "file_extension": ".py",
   "mimetype": "text/x-python",
   "name": "python",
   "nbconvert_exporter": "python",
   "pygments_lexer": "ipython3",
   "version": "3.10.13"
  }
 },
 "nbformat": 4,
 "nbformat_minor": 2
}
