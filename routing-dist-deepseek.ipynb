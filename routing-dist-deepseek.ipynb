{
 "cells": [
  {
   "cell_type": "code",
   "execution_count": 1,
   "metadata": {},
   "outputs": [],
   "source": [
    "import torch\n",
    "import numpy as np\n",
    "import plotly.graph_objects as go\n",
    "from collections import defaultdict\n",
    "import json\n",
    "import os\n",
    "from typing import Dict, List, Tuple, Optional\n",
    "# from tqdm.auto import tqdm\n",
    "import datetime\n",
    "import gc\n",
    "from transformers import AutoModelForCausalLM, AutoTokenizer\n",
    "import traceback"
   ]
  },
  {
   "cell_type": "code",
   "execution_count": 2,
   "metadata": {},
   "outputs": [],
   "source": [
    "def get_device():\n",
    "    \"\"\"Get the optimal available device\"\"\"\n",
    "    if torch.cuda.is_available():\n",
    "        device = torch.device(\"cuda:0\")\n",
    "        # Enable TF32 for better performance on Ampere GPUs (A100, A6000, etc)\n",
    "        torch.backends.cuda.matmul.allow_tf32 = True\n",
    "        torch.backends.cudnn.allow_tf32 = True\n",
    "        # Set memory allocation settings\n",
    "        torch.cuda.empty_cache()\n",
    "        # Enable CUDNN benchmarking for better performance\n",
    "        torch.backends.cudnn.benchmark = True\n",
    "    else:\n",
    "        device = torch.device(\"cpu\")\n",
    "    return device"
   ]
  },
  {
   "cell_type": "code",
   "execution_count": 3,
   "metadata": {},
   "outputs": [
    {
     "data": {
      "application/vnd.jupyter.widget-view+json": {
       "model_id": "4f5af23f985644d3ba4563b5e69d493c",
       "version_major": 2,
       "version_minor": 0
      },
      "text/plain": [
       "Loading checkpoint shards:   0%|          | 0/7 [00:00<?, ?it/s]"
      ]
     },
     "metadata": {},
     "output_type": "display_data"
    }
   ],
   "source": [
    "def load_model():\n",
    "    device = get_device()\n",
    "    model = AutoModelForCausalLM.from_pretrained('deepseek-ai/deepseek-moe-16b-base',\n",
    "                                                trust_remote_code=True,\n",
    "                                                torch_dtype=torch.float16)\n",
    "    model = model.to(device)\n",
    "    tokenizer = AutoTokenizer.from_pretrained('deepseek-ai/deepseek-moe-16b-base',\n",
    "                                                trust_remote_code=True)\n",
    "    return model, tokenizer\n",
    "\n",
    "model, tokenizer = load_model()"
   ]
  },
  {
   "cell_type": "code",
   "execution_count": 4,
   "metadata": {},
   "outputs": [],
   "source": [
    "def prepare_text_chunks(file_path: str, chunk_size: int = 2048, tokenizer = None) -> List[str]:\n",
    "    \"\"\"\n",
    "    Split input text file into chunks of specified token length with memory efficiency\n",
    "    \"\"\"\n",
    "    chunks = []\n",
    "    try:\n",
    "        with open(file_path, 'r', encoding='utf-8') as f:\n",
    "            if tokenizer:\n",
    "                # Process file in chunks to avoid loading entire file\n",
    "                chunk_text = \"\"\n",
    "                for line in f:\n",
    "                    chunk_text += line\n",
    "                    tokens = tokenizer.encode(chunk_text)\n",
    "                    \n",
    "                    while len(tokens) >= chunk_size:\n",
    "                        # Extract chunk_size tokens\n",
    "                        chunk_tokens = tokens[:chunk_size]\n",
    "                        chunks.append(tokenizer.decode(chunk_tokens))\n",
    "                        \n",
    "                        # Keep remaining tokens\n",
    "                        tokens = tokens[chunk_size:]\n",
    "                        chunk_text = tokenizer.decode(tokens)\n",
    "                \n",
    "                # Add remaining text if any\n",
    "                if tokens:\n",
    "                    chunks.append(tokenizer.decode(tokens))\n",
    "            else:\n",
    "                words = []\n",
    "                for line in f:\n",
    "                    words.extend(line.split())\n",
    "                    while len(words) >= chunk_size:\n",
    "                        chunk = ' '.join(words[:chunk_size])\n",
    "                        chunks.append(chunk)\n",
    "                        words = words[chunk_size:]\n",
    "                if words:\n",
    "                    chunks.append(' '.join(words))\n",
    "    except Exception as e:\n",
    "        print(f\"Error reading file: {e}\")\n",
    "        return []\n",
    "        \n",
    "    return chunks"
   ]
  },
  {
   "cell_type": "code",
   "execution_count": 5,
   "metadata": {},
   "outputs": [],
   "source": [
    "@torch.no_grad()\n",
    "def get_expert_distribution(model, input_text: str, tokenizer, device: torch.device, \n",
    "                          num_shared_experts: int = 0, num_topk: int = 8) -> Dict[int, List[Tuple[str, int, float]]]:\n",
    "    \"\"\"\n",
    "    Get expert routing probabilities with proper handling of shared experts and top-k tracking\n",
    "    \"\"\"\n",
    "    try:\n",
    "        model = model.to(device)\n",
    "        \n",
    "        inputs = tokenizer(input_text, \n",
    "                         return_tensors=\"pt\",\n",
    "                         padding=True,\n",
    "                         truncation=True,\n",
    "                         max_length=2048)\n",
    "        \n",
    "        inputs = {k: v.to(device) for k, v in inputs.items()} \n",
    "        \n",
    "        outputs = model(**inputs, \n",
    "                       output_attentions=False, \n",
    "                       output_hidden_states=True, \n",
    "                       return_dict=True)\n",
    "        \n",
    "        hidden_states = outputs.hidden_states\n",
    "        layer_distributions = {}\n",
    "\n",
    "        # Process each MoE layer\n",
    "        for layer_idx, layer in enumerate(model.model.layers[1:], 1):\n",
    "            moe_layer = layer.mlp\n",
    "            layer_hidden = hidden_states[layer_idx]\n",
    "\n",
    "            # Initialize distributions\n",
    "            expert_distributions = []\n",
    "            \n",
    "            # Convert token IDs to text\n",
    "            tokens = tokenizer.convert_ids_to_tokens(inputs['input_ids'][0])\n",
    "            \n",
    "            # Get router logits for dynamic experts\n",
    "            router_logits = torch.matmul(\n",
    "                layer_hidden.float(),\n",
    "                moe_layer.gate.weight.t().float()\n",
    "            )\n",
    "            \n",
    "            # Get top-k routed experts\n",
    "            router_probs = torch.softmax(router_logits, dim=-1)\n",
    "            top_probs, top_indices = torch.topk(router_probs, k=num_topk, dim=-1)\n",
    "\n",
    "            # Process results for each token\n",
    "            for i in range(len(tokens)):\n",
    "                if tokens[i] == tokenizer.pad_token:\n",
    "                    continue\n",
    "                    \n",
    "                # Skip special tokens like begin/end of sentence\n",
    "                if tokens[i].startswith('<') and tokens[i].endswith('>'):\n",
    "                    continue\n",
    "                    \n",
    "                clean_token = tokens[i].replace('Ġ', '')\n",
    "                \n",
    "                # Add shared experts for each token (they process all tokens)\n",
    "                for shared_idx in range(num_shared_experts):\n",
    "                    expert_distributions.append(\n",
    "                        (clean_token, shared_idx, 1.0)  # Shared experts always have weight 1.0\n",
    "                    )\n",
    "                \n",
    "                # Add routed experts\n",
    "                for j in range(num_topk):\n",
    "                    expert_distributions.append(\n",
    "                        (clean_token, \n",
    "                         int(top_indices[0,i,j].item()) + num_shared_experts,  # Offset expert indices by num shared experts\n",
    "                         float(top_probs[0,i,j].item()))\n",
    "                    )\n",
    "            \n",
    "            layer_distributions[layer_idx] = expert_distributions\n",
    "\n",
    "        return layer_distributions\n",
    "\n",
    "    except Exception as e:\n",
    "        print(f\"Error in get_expert_distribution: {e}\")\n",
    "        return {}"
   ]
  },
  {
   "cell_type": "code",
   "execution_count": 6,
   "metadata": {},
   "outputs": [],
   "source": [
    "def save_expert_stats(distributions: Dict[int, List[Tuple[str, int, float]]], \n",
    "                     domain: str,\n",
    "                     output_dir: str = 'expert_stats'):\n",
    "    \"\"\"Save expert routing statistics with error handling\"\"\"\n",
    "    try:\n",
    "        os.makedirs(output_dir, exist_ok=True)\n",
    "        output_path = os.path.join(output_dir, f'{domain}_expert_stats.json')\n",
    "        \n",
    "        stats = {}\n",
    "        for layer_idx, layer_data in distributions.items():\n",
    "            expert_counts = defaultdict(int)\n",
    "            total = len(layer_data)\n",
    "            \n",
    "            if total == 0:\n",
    "                continue\n",
    "                \n",
    "            for _, expert_idx, _ in layer_data:\n",
    "                expert_counts[expert_idx] += 1\n",
    "                \n",
    "            expert_probs = {\n",
    "                str(expert): count/total \n",
    "                for expert, count in expert_counts.items()\n",
    "            }\n",
    "            stats[str(layer_idx)] = expert_probs\n",
    "        \n",
    "        with open(output_path, 'w') as f:\n",
    "            json.dump(stats, f, indent=2)\n",
    "            \n",
    "    except Exception as e:\n",
    "        print(f\"Error saving expert stats: {e}\")"
   ]
  },
  {
   "cell_type": "code",
   "execution_count": 7,
   "metadata": {},
   "outputs": [],
   "source": [
    "def plot_layer_distribution(token_counts, layer_id: int, domain: str, dark_mode: bool = True):\n",
    "    \"\"\"\n",
    "    Create a bar graph showing token distribution across experts for a specific layer\n",
    "    \"\"\"\n",
    "    try:\n",
    "        # Get expert counts for specified layer\n",
    "        layer_counts = token_counts.get(layer_id, {})\n",
    "        if not layer_counts:\n",
    "            raise ValueError(f\"No data found for layer {layer_id}\")\n",
    "            \n",
    "        # Create lists for x and y values\n",
    "        expert_ids = sorted(layer_counts.keys())\n",
    "        token_counts_list = [layer_counts[expert_id] for expert_id in expert_ids]\n",
    "        \n",
    "        # Create labels for experts\n",
    "        expert_labels = [f\"Expert {expert_id}\" for expert_id in expert_ids]\n",
    "        \n",
    "        # Calculate total tokens for percentage\n",
    "        total_tokens = sum(token_counts_list)\n",
    "        percentages = [count/total_tokens * 100 for count in token_counts_list]\n",
    "        \n",
    "        # Create hover text\n",
    "        hover_text = [f\"Expert {expert_id}<br>Tokens: {count}<br>Percentage: {percentage:.1f}%\" \n",
    "                     for expert_id, count, percentage in zip(expert_ids, token_counts_list, percentages)]\n",
    "        # Create bar graph\n",
    "        fig = go.Figure(data=[\n",
    "            go.Bar(\n",
    "                x=expert_labels,\n",
    "                y=token_counts_list,\n",
    "                hovertext=hover_text,\n",
    "                hoverinfo='text',\n",
    "                marker_color='#636EFA'\n",
    "            )\n",
    "        ])\n",
    "        \n",
    "        # Update layout\n",
    "        template = 'plotly_dark' if dark_mode else 'plotly_white'\n",
    "        fig.update_layout(\n",
    "            title=f'Token Distribution Across Experts for Layer {layer_id} ({domain})',\n",
    "            xaxis_title='Expert',\n",
    "            yaxis_title='Number of Tokens',\n",
    "            width=1200,\n",
    "            height=600,\n",
    "            template=template,\n",
    "            showlegend=False,\n",
    "            xaxis={'tickangle': -45}\n",
    "        )\n",
    "        \n",
    "        # Add total tokens annotation\n",
    "        fig.add_annotation(\n",
    "            text=f'Total Tokens: {total_tokens}',\n",
    "            xref='paper', yref='paper',\n",
    "            x=1, y=1,\n",
    "            xanchor='right', yanchor='top',\n",
    "            showarrow=False\n",
    "        )\n",
    "        \n",
    "        return fig\n",
    "        \n",
    "    except Exception as e:\n",
    "        print(f\"Error creating bar plot: {e}\")\n",
    "        return None"
   ]
  },
  {
   "cell_type": "code",
   "execution_count": 8,
   "metadata": {},
   "outputs": [],
   "source": [
    "def analyze_token_distributions(expert_distributions):\n",
    "    \"\"\"\n",
    "    Convert expert distributions to token counts per expert per layer\n",
    "    \n",
    "    Args:\n",
    "        expert_distributions: Dictionary mapping layer_id to list of (token, expert_id, probability) tuples\n",
    "        \n",
    "    Returns:\n",
    "        Dictionary mapping layer_id to dict of expert_id: token_count\n",
    "    \"\"\"\n",
    "    token_counts = {}\n",
    "    \n",
    "    # Process each layer\n",
    "    for layer_id, distributions in expert_distributions.items():\n",
    "        expert_counts = defaultdict(int)\n",
    "        \n",
    "        # Count tokens per expert in this layer\n",
    "        for token, expert_id, prob in distributions:\n",
    "            # Skip shared experts that use string IDs\n",
    "            if isinstance(expert_id, int):\n",
    "                expert_counts[expert_id] += 1\n",
    "            \n",
    "        token_counts[layer_id] = dict(expert_counts)\n",
    "        \n",
    "    return token_counts\n"
   ]
  },
  {
   "cell_type": "code",
   "execution_count": 9,
   "metadata": {},
   "outputs": [],
   "source": [
    "def plot_token_heatmap(token_counts, domain, n_experts=64, n_layers=27):\n",
    "    \"\"\"\n",
    "    Create heatmap of token counts per expert per layer\n",
    "    \n",
    "    Args:\n",
    "        token_counts: Dictionary mapping layer_id to dict of expert_id: token_count\n",
    "        n_experts: Total number of experts\n",
    "        n_layers: Total number of layers \n",
    "        domain: domain name for heatmap title\n",
    "    \"\"\"\n",
    "    # Initialize count matrix\n",
    "    count_matrix = np.zeros((n_layers, n_experts))\n",
    "    \n",
    "    # Fill matrix with token counts\n",
    "    for layer_id, expert_counts in token_counts.items():\n",
    "        for expert_id, count in expert_counts.items():\n",
    "            # Ensure expert_id is within bounds\n",
    "            if 0 <= expert_id < n_experts:\n",
    "                count_matrix[layer_id-1, expert_id] = count\n",
    "    \n",
    "    # Create heatmap\n",
    "    fig = go.Figure(data=go.Heatmap(\n",
    "        z=count_matrix,\n",
    "        x=[f'Expert {i}' for i in range(n_experts)],\n",
    "        y=[f'Layer {i}' for i in range(1, n_layers+1)],\n",
    "        colorscale='Viridis',\n",
    "        hoverongaps=False,\n",
    "        hovertemplate='Layer %{y}<br>Expert %{x}<br>Tokens: %{z:d}<extra></extra>'\n",
    "    ))\n",
    "    \n",
    "    fig.update_layout(\n",
    "        title=f'token distribution heatmap for {domain}',\n",
    "        xaxis_title='Expert Index',\n",
    "        yaxis_title='Layer',\n",
    "        width=1200,\n",
    "        height=800,\n",
    "        template='plotly_dark'\n",
    "    )\n",
    "    \n",
    "    return fig, count_matrix"
   ]
  },
  {
   "cell_type": "code",
   "execution_count": 10,
   "metadata": {},
   "outputs": [],
   "source": [
    "def analyze_dataset(\n",
    "    plot_type: str = 'heatmap',  # New parameter\n",
    "    file_path: str = None,\n",
    "    model = None,\n",
    "    tokenizer = None,\n",
    "    domain: str = 'test1',\n",
    "    chunk_size: int = 2048,\n",
    "    num_shared_experts: int = 2,  \n",
    "    num_topk: int = 6,\n",
    "    layer_id: int = 1, #only for bar plot\n",
    "    device: torch.device = None\n",
    "    ):\n",
    "    \"\"\"\n",
    "    Main analysis function with flexible plotting options\n",
    "    \n",
    "    Args:\n",
    "        plot_type: Either 'heatmap' or 'bar'\n",
    "        layer_id: Which layer to plot if plot_type is 'bar'\n",
    "        device: Optional torch device to use\n",
    "        (... other args remain same)\n",
    "    \"\"\"\n",
    "    try:\n",
    "        if device is None:\n",
    "            device = get_device()\n",
    "        print(f\"Using device: {device}\")\n",
    "        \n",
    "        # Move model to device if not already done    \n",
    "        model = model.to(device)\n",
    "        \n",
    "        # Validate plot_type\n",
    "        if plot_type not in ['heatmap', 'bar']:\n",
    "            raise ValueError(\"plot_type must be either 'heatmap' or 'bar'\")\n",
    "        \n",
    "        # Process in smaller chunks to avoid OOM\n",
    "        max_chunk_tokens = 1024  # Reduce if running into memory issues\n",
    "        chunks = prepare_text_chunks(file_path, max_chunk_tokens, tokenizer)\n",
    "        if not chunks:\n",
    "            raise ValueError(\"No text chunks generated\")\n",
    "            \n",
    "        # Process chunks\n",
    "        all_distributions = defaultdict(list)\n",
    "        total_chunks = len(chunks)\n",
    "        \n",
    "        # Clear GPU memory between chunks\n",
    "        for i, chunk in enumerate(chunks):\n",
    "            torch.cuda.empty_cache()\n",
    "            print(f\"Processing chunk {i+1}/{total_chunks}\")\n",
    "            \n",
    "            chunk_dist = get_expert_distribution(\n",
    "                model, \n",
    "                chunk,\n",
    "                tokenizer,\n",
    "                device,\n",
    "                num_shared_experts=num_shared_experts,\n",
    "                num_topk=num_topk\n",
    "            )\n",
    "            \n",
    "            # Move results to CPU to free GPU memory\n",
    "            for layer, layer_data in chunk_dist.items():\n",
    "                all_distributions[layer].extend(\n",
    "                    [(t, e, float(p)) for t, e, p in layer_data]\n",
    "                )\n",
    "                \n",
    "        # Count tokens per expert\n",
    "        token_counts = analyze_token_distributions(all_distributions)\n",
    "        \n",
    "        # Create visualization based on plot_type\n",
    "        print(\"Generating visualization...\")\n",
    "        if plot_type == 'heatmap':\n",
    "            fig, count_matrix = plot_token_heatmap(\n",
    "                token_counts,\n",
    "                n_experts=64,  # Maximum number of experts\n",
    "                n_layers=27,    # Number of layers\n",
    "                domain=domain\n",
    "            )\n",
    "        else:  # plot_type == 'bar'\n",
    "            fig = plot_layer_distribution(\n",
    "                token_counts=token_counts,\n",
    "                layer_id=layer_id,\n",
    "                domain=domain\n",
    "            )\n",
    "            count_matrix = None  # No count matrix for bar plot\n",
    "        \n",
    "        # Save results\n",
    "        os.makedirs('plots-deepseek', exist_ok=True)\n",
    "        if plot_type == 'heatmap':\n",
    "            np.save(f'plots-deepseek/{domain}_count_matrix.npy', count_matrix)\n",
    "            fig.write_html(f'plots-deepseek/{domain}_heatmap.html')\n",
    "            fig.write_image(f'plots-deepseek/{domain}_heatmap.png')\n",
    "        else:\n",
    "            fig.write_html(f'plots-deepseek/{domain}_layer{layer_id}_bargraph.html')\n",
    "            fig.write_image(f'plots-deepseek/{domain}_layer{layer_id}_bargraph.png')\n",
    "        \n",
    "        print(\"Analysis complete!\")\n",
    "        return fig, count_matrix, token_counts\n",
    "        \n",
    "    except Exception as e:\n",
    "        print(f\"Error in analyze_dataset: {e}\")\n",
    "        traceback.print_exc()\n",
    "        return None, None, None\n"
   ]
  },
  {
   "cell_type": "code",
   "execution_count": 11,
   "metadata": {},
   "outputs": [
    {
     "name": "stdout",
     "output_type": "stream",
     "text": [
      "Using device: cpu\n",
      "Processing chunk 1/1\n",
      "Generating visualization...\n"
     ]
    },
    {
     "name": "stderr",
     "output_type": "stream",
     "text": [
      "huggingface/tokenizers: The current process just got forked, after parallelism has already been used. Disabling parallelism to avoid deadlocks...\n",
      "To disable this warning, you can either:\n",
      "\t- Avoid using `tokenizers` before the fork if possible\n",
      "\t- Explicitly set the environment variable TOKENIZERS_PARALLELISM=(true | false)\n"
     ]
    },
    {
     "name": "stdout",
     "output_type": "stream",
     "text": [
      "Analysis complete!\n"
     ]
    },
    {
     "data": {
      "application/vnd.plotly.v1+json": {
       "config": {
        "plotlyServerURL": "https://plot.ly"
       },
       "data": [
        {
         "colorscale": [
          [
           0,
           "#440154"
          ],
          [
           0.1111111111111111,
           "#482878"
          ],
          [
           0.2222222222222222,
           "#3e4989"
          ],
          [
           0.3333333333333333,
           "#31688e"
          ],
          [
           0.4444444444444444,
           "#26828e"
          ],
          [
           0.5555555555555556,
           "#1f9e89"
          ],
          [
           0.6666666666666666,
           "#35b779"
          ],
          [
           0.7777777777777778,
           "#6ece58"
          ],
          [
           0.8888888888888888,
           "#b5de2b"
          ],
          [
           1,
           "#fde725"
          ]
         ],
         "hoverongaps": false,
         "hovertemplate": "Layer %{y}<br>Expert %{x}<br>Tokens: %{z:d}<extra></extra>",
         "type": "heatmap",
         "x": [
          "Expert 0",
          "Expert 1",
          "Expert 2",
          "Expert 3",
          "Expert 4",
          "Expert 5",
          "Expert 6",
          "Expert 7",
          "Expert 8",
          "Expert 9",
          "Expert 10",
          "Expert 11",
          "Expert 12",
          "Expert 13",
          "Expert 14",
          "Expert 15",
          "Expert 16",
          "Expert 17",
          "Expert 18",
          "Expert 19",
          "Expert 20",
          "Expert 21",
          "Expert 22",
          "Expert 23",
          "Expert 24",
          "Expert 25",
          "Expert 26",
          "Expert 27",
          "Expert 28",
          "Expert 29",
          "Expert 30",
          "Expert 31",
          "Expert 32",
          "Expert 33",
          "Expert 34",
          "Expert 35",
          "Expert 36",
          "Expert 37",
          "Expert 38",
          "Expert 39",
          "Expert 40",
          "Expert 41",
          "Expert 42",
          "Expert 43",
          "Expert 44",
          "Expert 45",
          "Expert 46",
          "Expert 47",
          "Expert 48",
          "Expert 49",
          "Expert 50",
          "Expert 51",
          "Expert 52",
          "Expert 53",
          "Expert 54",
          "Expert 55",
          "Expert 56",
          "Expert 57",
          "Expert 58",
          "Expert 59",
          "Expert 60",
          "Expert 61",
          "Expert 62",
          "Expert 63"
         ],
         "y": [
          "Layer 1",
          "Layer 2",
          "Layer 3",
          "Layer 4",
          "Layer 5",
          "Layer 6",
          "Layer 7",
          "Layer 8",
          "Layer 9",
          "Layer 10",
          "Layer 11",
          "Layer 12",
          "Layer 13",
          "Layer 14",
          "Layer 15",
          "Layer 16",
          "Layer 17",
          "Layer 18",
          "Layer 19",
          "Layer 20",
          "Layer 21",
          "Layer 22",
          "Layer 23",
          "Layer 24",
          "Layer 25",
          "Layer 26",
          "Layer 27"
         ],
         "z": [
          [
           4,
           0,
           4,
           0,
           0,
           0,
           0,
           0,
           0,
           0,
           0,
           1,
           0,
           0,
           0,
           0,
           0,
           0,
           0,
           0,
           0,
           0,
           0,
           0,
           0,
           0,
           0,
           0,
           2,
           0,
           0,
           0,
           1,
           0,
           2,
           4,
           2,
           0,
           4,
           0,
           0,
           0,
           0,
           0,
           0,
           0,
           0,
           0,
           0,
           0,
           0,
           0,
           0,
           0,
           0,
           0,
           0,
           0,
           1,
           2,
           2,
           2,
           0,
           0
          ],
          [
           4,
           0,
           4,
           0,
           0,
           0,
           0,
           0,
           0,
           0,
           0,
           0,
           0,
           0,
           0,
           0,
           0,
           0,
           0,
           0,
           0,
           0,
           0,
           4,
           3,
           3,
           0,
           0,
           0,
           0,
           0,
           0,
           0,
           0,
           0,
           0,
           0,
           0,
           0,
           0,
           0,
           1,
           0,
           0,
           4,
           0,
           0,
           0,
           0,
           4,
           0,
           0,
           0,
           1,
           2,
           0,
           0,
           2,
           0,
           0,
           0,
           0,
           0,
           0
          ],
          [
           4,
           0,
           0,
           4,
           0,
           0,
           2,
           0,
           3,
           0,
           0,
           0,
           0,
           0,
           0,
           0,
           0,
           0,
           0,
           0,
           2,
           0,
           0,
           0,
           0,
           2,
           0,
           0,
           2,
           0,
           0,
           0,
           0,
           0,
           0,
           3,
           0,
           0,
           0,
           4,
           0,
           0,
           0,
           0,
           0,
           0,
           2,
           0,
           0,
           0,
           0,
           0,
           0,
           0,
           0,
           4,
           0,
           0,
           0,
           0,
           0,
           0,
           0,
           0
          ],
          [
           4,
           2,
           0,
           0,
           0,
           0,
           0,
           0,
           0,
           2,
           0,
           0,
           0,
           0,
           0,
           0,
           1,
           4,
           0,
           0,
           1,
           0,
           0,
           0,
           0,
           0,
           1,
           0,
           4,
           0,
           0,
           0,
           0,
           3,
           0,
           0,
           1,
           0,
           2,
           1,
           1,
           0,
           0,
           0,
           0,
           0,
           0,
           0,
           0,
           0,
           0,
           0,
           0,
           0,
           0,
           0,
           0,
           0,
           0,
           3,
           0,
           0,
           2,
           0
          ],
          [
           4,
           0,
           0,
           0,
           0,
           0,
           0,
           0,
           0,
           4,
           0,
           0,
           0,
           0,
           0,
           0,
           0,
           0,
           0,
           0,
           0,
           0,
           2,
           0,
           0,
           0,
           0,
           0,
           0,
           0,
           0,
           1,
           3,
           0,
           1,
           0,
           0,
           0,
           2,
           0,
           0,
           0,
           0,
           1,
           0,
           3,
           1,
           4,
           0,
           0,
           3,
           0,
           1,
           0,
           2,
           0,
           0,
           0,
           0,
           0,
           0,
           0,
           0,
           0
          ],
          [
           4,
           3,
           0,
           0,
           0,
           0,
           0,
           0,
           3,
           1,
           0,
           0,
           0,
           0,
           0,
           0,
           0,
           0,
           1,
           0,
           2,
           0,
           0,
           0,
           0,
           0,
           0,
           3,
           0,
           0,
           0,
           0,
           0,
           0,
           0,
           0,
           0,
           3,
           0,
           0,
           2,
           0,
           0,
           0,
           0,
           4,
           0,
           0,
           0,
           0,
           0,
           0,
           0,
           0,
           0,
           0,
           0,
           3,
           0,
           0,
           0,
           3,
           0,
           0
          ],
          [
           4,
           0,
           0,
           0,
           0,
           0,
           2,
           0,
           2,
           0,
           4,
           0,
           0,
           0,
           0,
           0,
           0,
           0,
           0,
           0,
           0,
           0,
           0,
           0,
           2,
           0,
           0,
           0,
           0,
           2,
           0,
           0,
           0,
           0,
           1,
           0,
           0,
           0,
           0,
           0,
           0,
           0,
           0,
           0,
           0,
           4,
           0,
           0,
           0,
           0,
           0,
           0,
           4,
           3,
           0,
           0,
           4,
           0,
           0,
           0,
           0,
           0,
           0,
           0
          ],
          [
           4,
           0,
           1,
           0,
           0,
           0,
           0,
           4,
           0,
           0,
           0,
           2,
           1,
           0,
           0,
           0,
           0,
           0,
           4,
           0,
           0,
           0,
           2,
           0,
           0,
           0,
           0,
           0,
           0,
           0,
           0,
           0,
           0,
           0,
           3,
           0,
           0,
           0,
           0,
           0,
           0,
           1,
           0,
           0,
           0,
           0,
           0,
           0,
           1,
           1,
           2,
           0,
           0,
           0,
           0,
           0,
           0,
           0,
           0,
           0,
           4,
           0,
           0,
           0
          ],
          [
           4,
           0,
           0,
           0,
           0,
           0,
           0,
           0,
           0,
           4,
           0,
           0,
           3,
           0,
           0,
           0,
           0,
           0,
           0,
           0,
           0,
           0,
           2,
           0,
           0,
           0,
           0,
           4,
           0,
           0,
           0,
           1,
           0,
           2,
           0,
           0,
           0,
           2,
           0,
           0,
           0,
           0,
           0,
           0,
           0,
           0,
           0,
           1,
           1,
           0,
           3,
           0,
           2,
           0,
           1,
           0,
           0,
           2,
           0,
           0,
           0,
           0,
           0,
           0
          ],
          [
           4,
           4,
           4,
           0,
           0,
           0,
           0,
           0,
           3,
           0,
           0,
           0,
           1,
           0,
           0,
           0,
           0,
           0,
           3,
           0,
           0,
           0,
           0,
           0,
           0,
           4,
           0,
           4,
           0,
           0,
           0,
           0,
           0,
           0,
           0,
           0,
           0,
           0,
           0,
           0,
           0,
           0,
           0,
           1,
           0,
           0,
           0,
           0,
           0,
           0,
           4,
           0,
           0,
           0,
           0,
           0,
           0,
           0,
           0,
           0,
           0,
           0,
           0,
           0
          ],
          [
           4,
           0,
           0,
           2,
           0,
           0,
           0,
           0,
           0,
           0,
           0,
           2,
           2,
           0,
           1,
           0,
           0,
           0,
           0,
           0,
           0,
           1,
           0,
           0,
           0,
           0,
           0,
           2,
           0,
           0,
           2,
           4,
           1,
           0,
           0,
           0,
           0,
           0,
           0,
           2,
           0,
           2,
           0,
           0,
           0,
           3,
           0,
           0,
           0,
           0,
           4,
           0,
           0,
           0,
           0,
           0,
           0,
           0,
           0,
           0,
           0,
           0,
           0,
           0
          ],
          [
           4,
           0,
           0,
           0,
           2,
           0,
           0,
           0,
           0,
           0,
           0,
           1,
           0,
           0,
           0,
           0,
           0,
           0,
           0,
           0,
           0,
           4,
           1,
           0,
           0,
           0,
           0,
           0,
           0,
           0,
           0,
           0,
           1,
           0,
           3,
           0,
           0,
           2,
           0,
           0,
           1,
           0,
           0,
           0,
           2,
           0,
           0,
           0,
           4,
           0,
           0,
           0,
           0,
           0,
           0,
           3,
           0,
           0,
           0,
           0,
           0,
           0,
           0,
           0
          ],
          [
           4,
           0,
           0,
           0,
           0,
           3,
           0,
           0,
           0,
           0,
           0,
           0,
           0,
           0,
           0,
           0,
           0,
           0,
           0,
           4,
           0,
           0,
           1,
           0,
           1,
           0,
           0,
           0,
           4,
           0,
           2,
           0,
           0,
           3,
           0,
           0,
           0,
           0,
           0,
           0,
           0,
           0,
           0,
           3,
           0,
           0,
           0,
           4,
           0,
           0,
           0,
           0,
           0,
           0,
           0,
           0,
           0,
           0,
           0,
           0,
           2,
           0,
           0,
           1
          ],
          [
           4,
           4,
           0,
           0,
           0,
           0,
           0,
           0,
           0,
           0,
           0,
           0,
           3,
           0,
           0,
           0,
           0,
           0,
           0,
           0,
           0,
           0,
           0,
           1,
           0,
           3,
           0,
           0,
           0,
           0,
           0,
           0,
           1,
           2,
           0,
           0,
           0,
           0,
           0,
           0,
           2,
           0,
           0,
           0,
           0,
           4,
           0,
           4,
           1,
           0,
           0,
           0,
           0,
           2,
           0,
           0,
           0,
           0,
           0,
           1,
           0,
           0,
           0,
           0
          ],
          [
           4,
           4,
           2,
           4,
           0,
           0,
           0,
           0,
           0,
           1,
           0,
           0,
           0,
           4,
           0,
           0,
           0,
           0,
           1,
           0,
           0,
           0,
           0,
           0,
           0,
           0,
           0,
           0,
           0,
           1,
           0,
           0,
           0,
           0,
           0,
           0,
           0,
           0,
           0,
           0,
           0,
           0,
           0,
           0,
           0,
           1,
           0,
           0,
           2,
           0,
           0,
           4,
           0,
           0,
           0,
           0,
           4,
           0,
           0,
           0,
           0,
           0,
           0,
           0
          ],
          [
           4,
           0,
           0,
           2,
           0,
           0,
           2,
           0,
           0,
           0,
           3,
           4,
           0,
           0,
           0,
           0,
           0,
           0,
           0,
           0,
           0,
           0,
           0,
           0,
           0,
           0,
           0,
           0,
           0,
           0,
           1,
           0,
           0,
           0,
           0,
           0,
           0,
           2,
           3,
           0,
           0,
           0,
           0,
           0,
           1,
           0,
           0,
           0,
           0,
           0,
           0,
           4,
           0,
           1,
           0,
           0,
           2,
           0,
           3,
           0,
           0,
           0,
           0,
           0
          ],
          [
           4,
           0,
           0,
           0,
           0,
           0,
           0,
           4,
           0,
           0,
           1,
           0,
           0,
           0,
           0,
           0,
           0,
           0,
           0,
           2,
           2,
           2,
           0,
           0,
           0,
           0,
           0,
           2,
           0,
           0,
           0,
           0,
           0,
           1,
           0,
           0,
           0,
           0,
           0,
           0,
           0,
           0,
           0,
           0,
           4,
           0,
           1,
           0,
           0,
           0,
           0,
           0,
           0,
           4,
           0,
           0,
           3,
           0,
           0,
           0,
           0,
           1,
           1,
           0
          ],
          [
           4,
           0,
           0,
           0,
           0,
           0,
           0,
           0,
           4,
           0,
           0,
           0,
           0,
           1,
           0,
           0,
           1,
           0,
           4,
           0,
           0,
           0,
           0,
           0,
           0,
           0,
           2,
           0,
           0,
           3,
           2,
           0,
           0,
           0,
           0,
           0,
           0,
           2,
           0,
           0,
           0,
           0,
           0,
           0,
           0,
           0,
           0,
           0,
           0,
           0,
           0,
           0,
           0,
           1,
           0,
           0,
           0,
           0,
           0,
           1,
           1,
           0,
           2,
           4
          ],
          [
           4,
           1,
           0,
           3,
           4,
           0,
           0,
           0,
           3,
           0,
           0,
           0,
           0,
           0,
           0,
           0,
           0,
           0,
           1,
           0,
           0,
           0,
           0,
           0,
           0,
           0,
           3,
           0,
           0,
           0,
           1,
           0,
           0,
           0,
           0,
           0,
           3,
           0,
           0,
           0,
           0,
           0,
           1,
           0,
           0,
           2,
           2,
           0,
           0,
           3,
           0,
           0,
           0,
           0,
           0,
           0,
           0,
           0,
           1,
           0,
           0,
           0,
           0,
           0
          ],
          [
           4,
           0,
           0,
           0,
           0,
           2,
           0,
           0,
           0,
           0,
           0,
           0,
           0,
           0,
           0,
           0,
           0,
           4,
           0,
           0,
           0,
           0,
           3,
           4,
           0,
           0,
           2,
           1,
           0,
           1,
           0,
           0,
           2,
           0,
           0,
           2,
           0,
           0,
           1,
           0,
           0,
           1,
           0,
           0,
           0,
           0,
           0,
           0,
           0,
           0,
           0,
           0,
           0,
           0,
           0,
           0,
           0,
           0,
           0,
           3,
           0,
           1,
           0,
           0
          ],
          [
           4,
           0,
           0,
           1,
           0,
           1,
           1,
           0,
           4,
           0,
           1,
           0,
           0,
           0,
           0,
           0,
           0,
           0,
           0,
           0,
           0,
           0,
           1,
           2,
           0,
           0,
           0,
           0,
           0,
           0,
           0,
           3,
           0,
           0,
           0,
           0,
           0,
           1,
           1,
           0,
           4,
           0,
           0,
           2,
           0,
           0,
           1,
           0,
           4,
           0,
           0,
           0,
           0,
           0,
           0,
           0,
           0,
           0,
           0,
           0,
           0,
           0,
           0,
           1
          ],
          [
           4,
           1,
           2,
           0,
           0,
           0,
           0,
           0,
           0,
           0,
           0,
           0,
           0,
           0,
           0,
           0,
           0,
           1,
           0,
           2,
           0,
           1,
           0,
           0,
           2,
           0,
           0,
           0,
           1,
           0,
           0,
           0,
           0,
           0,
           2,
           1,
           0,
           0,
           0,
           1,
           0,
           0,
           0,
           0,
           2,
           1,
           0,
           0,
           0,
           0,
           0,
           0,
           0,
           0,
           4,
           0,
           0,
           1,
           2,
           0,
           0,
           0,
           0,
           4
          ],
          [
           4,
           0,
           0,
           1,
           0,
           0,
           0,
           0,
           0,
           0,
           1,
           0,
           0,
           1,
           0,
           0,
           0,
           1,
           0,
           0,
           0,
           0,
           0,
           0,
           0,
           0,
           0,
           0,
           4,
           0,
           3,
           0,
           2,
           0,
           1,
           0,
           0,
           0,
           2,
           0,
           0,
           0,
           4,
           0,
           0,
           0,
           0,
           2,
           0,
           0,
           0,
           0,
           0,
           0,
           0,
           0,
           0,
           0,
           2,
           0,
           0,
           0,
           0,
           4
          ],
          [
           4,
           0,
           0,
           0,
           1,
           0,
           0,
           1,
           2,
           0,
           2,
           4,
           2,
           0,
           4,
           0,
           0,
           0,
           0,
           0,
           0,
           0,
           0,
           0,
           0,
           2,
           0,
           0,
           2,
           0,
           0,
           0,
           3,
           0,
           1,
           0,
           0,
           0,
           0,
           3,
           0,
           0,
           0,
           0,
           0,
           0,
           0,
           0,
           0,
           0,
           0,
           0,
           0,
           0,
           0,
           0,
           0,
           0,
           0,
           0,
           1,
           0,
           0,
           0
          ],
          [
           4,
           0,
           3,
           4,
           0,
           0,
           0,
           0,
           0,
           0,
           0,
           0,
           0,
           0,
           0,
           0,
           0,
           0,
           4,
           0,
           4,
           0,
           0,
           0,
           0,
           0,
           0,
           0,
           0,
           1,
           0,
           0,
           0,
           0,
           0,
           0,
           0,
           0,
           0,
           0,
           0,
           2,
           0,
           0,
           2,
           0,
           2,
           0,
           0,
           0,
           0,
           0,
           2,
           0,
           0,
           1,
           1,
           0,
           0,
           0,
           0,
           0,
           0,
           2
          ],
          [
           4,
           0,
           0,
           0,
           0,
           3,
           0,
           0,
           0,
           0,
           0,
           2,
           0,
           1,
           0,
           3,
           0,
           0,
           0,
           0,
           1,
           0,
           0,
           0,
           0,
           0,
           3,
           0,
           1,
           0,
           0,
           0,
           0,
           0,
           0,
           0,
           3,
           0,
           0,
           0,
           0,
           0,
           0,
           0,
           0,
           2,
           0,
           3,
           0,
           2,
           0,
           0,
           0,
           0,
           0,
           0,
           4,
           0,
           0,
           0,
           0,
           0,
           0,
           0
          ],
          [
           4,
           0,
           0,
           3,
           3,
           0,
           0,
           0,
           0,
           0,
           4,
           0,
           0,
           0,
           0,
           1,
           0,
           0,
           0,
           0,
           0,
           0,
           0,
           1,
           4,
           0,
           0,
           0,
           0,
           0,
           0,
           1,
           0,
           0,
           0,
           0,
           0,
           1,
           1,
           0,
           0,
           0,
           0,
           1,
           1,
           0,
           0,
           0,
           0,
           0,
           2,
           2,
           0,
           0,
           0,
           0,
           0,
           0,
           0,
           0,
           0,
           0,
           0,
           1
          ]
         ]
        }
       ],
       "layout": {
        "height": 800,
        "template": {
         "data": {
          "bar": [
           {
            "error_x": {
             "color": "#f2f5fa"
            },
            "error_y": {
             "color": "#f2f5fa"
            },
            "marker": {
             "line": {
              "color": "rgb(17,17,17)",
              "width": 0.5
             },
             "pattern": {
              "fillmode": "overlay",
              "size": 10,
              "solidity": 0.2
             }
            },
            "type": "bar"
           }
          ],
          "barpolar": [
           {
            "marker": {
             "line": {
              "color": "rgb(17,17,17)",
              "width": 0.5
             },
             "pattern": {
              "fillmode": "overlay",
              "size": 10,
              "solidity": 0.2
             }
            },
            "type": "barpolar"
           }
          ],
          "carpet": [
           {
            "aaxis": {
             "endlinecolor": "#A2B1C6",
             "gridcolor": "#506784",
             "linecolor": "#506784",
             "minorgridcolor": "#506784",
             "startlinecolor": "#A2B1C6"
            },
            "baxis": {
             "endlinecolor": "#A2B1C6",
             "gridcolor": "#506784",
             "linecolor": "#506784",
             "minorgridcolor": "#506784",
             "startlinecolor": "#A2B1C6"
            },
            "type": "carpet"
           }
          ],
          "choropleth": [
           {
            "colorbar": {
             "outlinewidth": 0,
             "ticks": ""
            },
            "type": "choropleth"
           }
          ],
          "contour": [
           {
            "colorbar": {
             "outlinewidth": 0,
             "ticks": ""
            },
            "colorscale": [
             [
              0,
              "#0d0887"
             ],
             [
              0.1111111111111111,
              "#46039f"
             ],
             [
              0.2222222222222222,
              "#7201a8"
             ],
             [
              0.3333333333333333,
              "#9c179e"
             ],
             [
              0.4444444444444444,
              "#bd3786"
             ],
             [
              0.5555555555555556,
              "#d8576b"
             ],
             [
              0.6666666666666666,
              "#ed7953"
             ],
             [
              0.7777777777777778,
              "#fb9f3a"
             ],
             [
              0.8888888888888888,
              "#fdca26"
             ],
             [
              1,
              "#f0f921"
             ]
            ],
            "type": "contour"
           }
          ],
          "contourcarpet": [
           {
            "colorbar": {
             "outlinewidth": 0,
             "ticks": ""
            },
            "type": "contourcarpet"
           }
          ],
          "heatmap": [
           {
            "colorbar": {
             "outlinewidth": 0,
             "ticks": ""
            },
            "colorscale": [
             [
              0,
              "#0d0887"
             ],
             [
              0.1111111111111111,
              "#46039f"
             ],
             [
              0.2222222222222222,
              "#7201a8"
             ],
             [
              0.3333333333333333,
              "#9c179e"
             ],
             [
              0.4444444444444444,
              "#bd3786"
             ],
             [
              0.5555555555555556,
              "#d8576b"
             ],
             [
              0.6666666666666666,
              "#ed7953"
             ],
             [
              0.7777777777777778,
              "#fb9f3a"
             ],
             [
              0.8888888888888888,
              "#fdca26"
             ],
             [
              1,
              "#f0f921"
             ]
            ],
            "type": "heatmap"
           }
          ],
          "heatmapgl": [
           {
            "colorbar": {
             "outlinewidth": 0,
             "ticks": ""
            },
            "colorscale": [
             [
              0,
              "#0d0887"
             ],
             [
              0.1111111111111111,
              "#46039f"
             ],
             [
              0.2222222222222222,
              "#7201a8"
             ],
             [
              0.3333333333333333,
              "#9c179e"
             ],
             [
              0.4444444444444444,
              "#bd3786"
             ],
             [
              0.5555555555555556,
              "#d8576b"
             ],
             [
              0.6666666666666666,
              "#ed7953"
             ],
             [
              0.7777777777777778,
              "#fb9f3a"
             ],
             [
              0.8888888888888888,
              "#fdca26"
             ],
             [
              1,
              "#f0f921"
             ]
            ],
            "type": "heatmapgl"
           }
          ],
          "histogram": [
           {
            "marker": {
             "pattern": {
              "fillmode": "overlay",
              "size": 10,
              "solidity": 0.2
             }
            },
            "type": "histogram"
           }
          ],
          "histogram2d": [
           {
            "colorbar": {
             "outlinewidth": 0,
             "ticks": ""
            },
            "colorscale": [
             [
              0,
              "#0d0887"
             ],
             [
              0.1111111111111111,
              "#46039f"
             ],
             [
              0.2222222222222222,
              "#7201a8"
             ],
             [
              0.3333333333333333,
              "#9c179e"
             ],
             [
              0.4444444444444444,
              "#bd3786"
             ],
             [
              0.5555555555555556,
              "#d8576b"
             ],
             [
              0.6666666666666666,
              "#ed7953"
             ],
             [
              0.7777777777777778,
              "#fb9f3a"
             ],
             [
              0.8888888888888888,
              "#fdca26"
             ],
             [
              1,
              "#f0f921"
             ]
            ],
            "type": "histogram2d"
           }
          ],
          "histogram2dcontour": [
           {
            "colorbar": {
             "outlinewidth": 0,
             "ticks": ""
            },
            "colorscale": [
             [
              0,
              "#0d0887"
             ],
             [
              0.1111111111111111,
              "#46039f"
             ],
             [
              0.2222222222222222,
              "#7201a8"
             ],
             [
              0.3333333333333333,
              "#9c179e"
             ],
             [
              0.4444444444444444,
              "#bd3786"
             ],
             [
              0.5555555555555556,
              "#d8576b"
             ],
             [
              0.6666666666666666,
              "#ed7953"
             ],
             [
              0.7777777777777778,
              "#fb9f3a"
             ],
             [
              0.8888888888888888,
              "#fdca26"
             ],
             [
              1,
              "#f0f921"
             ]
            ],
            "type": "histogram2dcontour"
           }
          ],
          "mesh3d": [
           {
            "colorbar": {
             "outlinewidth": 0,
             "ticks": ""
            },
            "type": "mesh3d"
           }
          ],
          "parcoords": [
           {
            "line": {
             "colorbar": {
              "outlinewidth": 0,
              "ticks": ""
             }
            },
            "type": "parcoords"
           }
          ],
          "pie": [
           {
            "automargin": true,
            "type": "pie"
           }
          ],
          "scatter": [
           {
            "marker": {
             "line": {
              "color": "#283442"
             }
            },
            "type": "scatter"
           }
          ],
          "scatter3d": [
           {
            "line": {
             "colorbar": {
              "outlinewidth": 0,
              "ticks": ""
             }
            },
            "marker": {
             "colorbar": {
              "outlinewidth": 0,
              "ticks": ""
             }
            },
            "type": "scatter3d"
           }
          ],
          "scattercarpet": [
           {
            "marker": {
             "colorbar": {
              "outlinewidth": 0,
              "ticks": ""
             }
            },
            "type": "scattercarpet"
           }
          ],
          "scattergeo": [
           {
            "marker": {
             "colorbar": {
              "outlinewidth": 0,
              "ticks": ""
             }
            },
            "type": "scattergeo"
           }
          ],
          "scattergl": [
           {
            "marker": {
             "line": {
              "color": "#283442"
             }
            },
            "type": "scattergl"
           }
          ],
          "scattermapbox": [
           {
            "marker": {
             "colorbar": {
              "outlinewidth": 0,
              "ticks": ""
             }
            },
            "type": "scattermapbox"
           }
          ],
          "scatterpolar": [
           {
            "marker": {
             "colorbar": {
              "outlinewidth": 0,
              "ticks": ""
             }
            },
            "type": "scatterpolar"
           }
          ],
          "scatterpolargl": [
           {
            "marker": {
             "colorbar": {
              "outlinewidth": 0,
              "ticks": ""
             }
            },
            "type": "scatterpolargl"
           }
          ],
          "scatterternary": [
           {
            "marker": {
             "colorbar": {
              "outlinewidth": 0,
              "ticks": ""
             }
            },
            "type": "scatterternary"
           }
          ],
          "surface": [
           {
            "colorbar": {
             "outlinewidth": 0,
             "ticks": ""
            },
            "colorscale": [
             [
              0,
              "#0d0887"
             ],
             [
              0.1111111111111111,
              "#46039f"
             ],
             [
              0.2222222222222222,
              "#7201a8"
             ],
             [
              0.3333333333333333,
              "#9c179e"
             ],
             [
              0.4444444444444444,
              "#bd3786"
             ],
             [
              0.5555555555555556,
              "#d8576b"
             ],
             [
              0.6666666666666666,
              "#ed7953"
             ],
             [
              0.7777777777777778,
              "#fb9f3a"
             ],
             [
              0.8888888888888888,
              "#fdca26"
             ],
             [
              1,
              "#f0f921"
             ]
            ],
            "type": "surface"
           }
          ],
          "table": [
           {
            "cells": {
             "fill": {
              "color": "#506784"
             },
             "line": {
              "color": "rgb(17,17,17)"
             }
            },
            "header": {
             "fill": {
              "color": "#2a3f5f"
             },
             "line": {
              "color": "rgb(17,17,17)"
             }
            },
            "type": "table"
           }
          ]
         },
         "layout": {
          "annotationdefaults": {
           "arrowcolor": "#f2f5fa",
           "arrowhead": 0,
           "arrowwidth": 1
          },
          "autotypenumbers": "strict",
          "coloraxis": {
           "colorbar": {
            "outlinewidth": 0,
            "ticks": ""
           }
          },
          "colorscale": {
           "diverging": [
            [
             0,
             "#8e0152"
            ],
            [
             0.1,
             "#c51b7d"
            ],
            [
             0.2,
             "#de77ae"
            ],
            [
             0.3,
             "#f1b6da"
            ],
            [
             0.4,
             "#fde0ef"
            ],
            [
             0.5,
             "#f7f7f7"
            ],
            [
             0.6,
             "#e6f5d0"
            ],
            [
             0.7,
             "#b8e186"
            ],
            [
             0.8,
             "#7fbc41"
            ],
            [
             0.9,
             "#4d9221"
            ],
            [
             1,
             "#276419"
            ]
           ],
           "sequential": [
            [
             0,
             "#0d0887"
            ],
            [
             0.1111111111111111,
             "#46039f"
            ],
            [
             0.2222222222222222,
             "#7201a8"
            ],
            [
             0.3333333333333333,
             "#9c179e"
            ],
            [
             0.4444444444444444,
             "#bd3786"
            ],
            [
             0.5555555555555556,
             "#d8576b"
            ],
            [
             0.6666666666666666,
             "#ed7953"
            ],
            [
             0.7777777777777778,
             "#fb9f3a"
            ],
            [
             0.8888888888888888,
             "#fdca26"
            ],
            [
             1,
             "#f0f921"
            ]
           ],
           "sequentialminus": [
            [
             0,
             "#0d0887"
            ],
            [
             0.1111111111111111,
             "#46039f"
            ],
            [
             0.2222222222222222,
             "#7201a8"
            ],
            [
             0.3333333333333333,
             "#9c179e"
            ],
            [
             0.4444444444444444,
             "#bd3786"
            ],
            [
             0.5555555555555556,
             "#d8576b"
            ],
            [
             0.6666666666666666,
             "#ed7953"
            ],
            [
             0.7777777777777778,
             "#fb9f3a"
            ],
            [
             0.8888888888888888,
             "#fdca26"
            ],
            [
             1,
             "#f0f921"
            ]
           ]
          },
          "colorway": [
           "#636efa",
           "#EF553B",
           "#00cc96",
           "#ab63fa",
           "#FFA15A",
           "#19d3f3",
           "#FF6692",
           "#B6E880",
           "#FF97FF",
           "#FECB52"
          ],
          "font": {
           "color": "#f2f5fa"
          },
          "geo": {
           "bgcolor": "rgb(17,17,17)",
           "lakecolor": "rgb(17,17,17)",
           "landcolor": "rgb(17,17,17)",
           "showlakes": true,
           "showland": true,
           "subunitcolor": "#506784"
          },
          "hoverlabel": {
           "align": "left"
          },
          "hovermode": "closest",
          "mapbox": {
           "style": "dark"
          },
          "paper_bgcolor": "rgb(17,17,17)",
          "plot_bgcolor": "rgb(17,17,17)",
          "polar": {
           "angularaxis": {
            "gridcolor": "#506784",
            "linecolor": "#506784",
            "ticks": ""
           },
           "bgcolor": "rgb(17,17,17)",
           "radialaxis": {
            "gridcolor": "#506784",
            "linecolor": "#506784",
            "ticks": ""
           }
          },
          "scene": {
           "xaxis": {
            "backgroundcolor": "rgb(17,17,17)",
            "gridcolor": "#506784",
            "gridwidth": 2,
            "linecolor": "#506784",
            "showbackground": true,
            "ticks": "",
            "zerolinecolor": "#C8D4E3"
           },
           "yaxis": {
            "backgroundcolor": "rgb(17,17,17)",
            "gridcolor": "#506784",
            "gridwidth": 2,
            "linecolor": "#506784",
            "showbackground": true,
            "ticks": "",
            "zerolinecolor": "#C8D4E3"
           },
           "zaxis": {
            "backgroundcolor": "rgb(17,17,17)",
            "gridcolor": "#506784",
            "gridwidth": 2,
            "linecolor": "#506784",
            "showbackground": true,
            "ticks": "",
            "zerolinecolor": "#C8D4E3"
           }
          },
          "shapedefaults": {
           "line": {
            "color": "#f2f5fa"
           }
          },
          "sliderdefaults": {
           "bgcolor": "#C8D4E3",
           "bordercolor": "rgb(17,17,17)",
           "borderwidth": 1,
           "tickwidth": 0
          },
          "ternary": {
           "aaxis": {
            "gridcolor": "#506784",
            "linecolor": "#506784",
            "ticks": ""
           },
           "baxis": {
            "gridcolor": "#506784",
            "linecolor": "#506784",
            "ticks": ""
           },
           "bgcolor": "rgb(17,17,17)",
           "caxis": {
            "gridcolor": "#506784",
            "linecolor": "#506784",
            "ticks": ""
           }
          },
          "title": {
           "x": 0.05
          },
          "updatemenudefaults": {
           "bgcolor": "#506784",
           "borderwidth": 0
          },
          "xaxis": {
           "automargin": true,
           "gridcolor": "#283442",
           "linecolor": "#506784",
           "ticks": "",
           "title": {
            "standoff": 15
           },
           "zerolinecolor": "#283442",
           "zerolinewidth": 2
          },
          "yaxis": {
           "automargin": true,
           "gridcolor": "#283442",
           "linecolor": "#506784",
           "ticks": "",
           "title": {
            "standoff": 15
           },
           "zerolinecolor": "#283442",
           "zerolinewidth": 2
          }
         }
        },
        "title": {
         "text": "token distribution heatmap for test1"
        },
        "width": 1200,
        "xaxis": {
         "title": {
          "text": "Expert Index"
         }
        },
        "yaxis": {
         "title": {
          "text": "Layer"
         }
        }
       }
      }
     },
     "metadata": {},
     "output_type": "display_data"
    }
   ],
   "source": [
    "# Analyze with proper bounds checking\n",
    "fig, count_matrix, token_counts = analyze_dataset(\n",
    "    plot_type='heatmap', # or 'bar'\n",
    "    file_path='dataset/test1.txt',\n",
    "    model= model,\n",
    "    tokenizer= tokenizer,\n",
    "    domain='test1',\n",
    "    chunk_size=1024,\n",
    "    num_shared_experts=1, \n",
    "    num_topk=7,\n",
    "    # layer_id=1 # only for bar plot\n",
    ")\n",
    "\n",
    "fig.show()"
   ]
  },
  {
   "cell_type": "code",
   "execution_count": 12,
   "metadata": {},
   "outputs": [
    {
     "name": "stdout",
     "output_type": "stream",
     "text": [
      "Using device: cpu\n",
      "Processing chunk 1/1\n",
      "Generating visualization...\n",
      "Analysis complete!\n"
     ]
    },
    {
     "data": {
      "application/vnd.plotly.v1+json": {
       "config": {
        "plotlyServerURL": "https://plot.ly"
       },
       "data": [
        {
         "hoverinfo": "text",
         "hovertext": [
          "Expert 0<br>Tokens: 4<br>Percentage: 12.5%",
          "Expert 2<br>Tokens: 4<br>Percentage: 12.5%",
          "Expert 11<br>Tokens: 1<br>Percentage: 3.1%",
          "Expert 28<br>Tokens: 2<br>Percentage: 6.2%",
          "Expert 32<br>Tokens: 1<br>Percentage: 3.1%",
          "Expert 34<br>Tokens: 2<br>Percentage: 6.2%",
          "Expert 35<br>Tokens: 4<br>Percentage: 12.5%",
          "Expert 36<br>Tokens: 2<br>Percentage: 6.2%",
          "Expert 38<br>Tokens: 4<br>Percentage: 12.5%",
          "Expert 58<br>Tokens: 1<br>Percentage: 3.1%",
          "Expert 59<br>Tokens: 2<br>Percentage: 6.2%",
          "Expert 60<br>Tokens: 2<br>Percentage: 6.2%",
          "Expert 61<br>Tokens: 2<br>Percentage: 6.2%",
          "Expert 64<br>Tokens: 1<br>Percentage: 3.1%"
         ],
         "marker": {
          "color": "#636EFA"
         },
         "type": "bar",
         "x": [
          "Expert 0",
          "Expert 2",
          "Expert 11",
          "Expert 28",
          "Expert 32",
          "Expert 34",
          "Expert 35",
          "Expert 36",
          "Expert 38",
          "Expert 58",
          "Expert 59",
          "Expert 60",
          "Expert 61",
          "Expert 64"
         ],
         "y": [
          4,
          4,
          1,
          2,
          1,
          2,
          4,
          2,
          4,
          1,
          2,
          2,
          2,
          1
         ]
        }
       ],
       "layout": {
        "annotations": [
         {
          "showarrow": false,
          "text": "Total Tokens: 32",
          "x": 1,
          "xanchor": "right",
          "xref": "paper",
          "y": 1,
          "yanchor": "top",
          "yref": "paper"
         }
        ],
        "height": 600,
        "showlegend": false,
        "template": {
         "data": {
          "bar": [
           {
            "error_x": {
             "color": "#f2f5fa"
            },
            "error_y": {
             "color": "#f2f5fa"
            },
            "marker": {
             "line": {
              "color": "rgb(17,17,17)",
              "width": 0.5
             },
             "pattern": {
              "fillmode": "overlay",
              "size": 10,
              "solidity": 0.2
             }
            },
            "type": "bar"
           }
          ],
          "barpolar": [
           {
            "marker": {
             "line": {
              "color": "rgb(17,17,17)",
              "width": 0.5
             },
             "pattern": {
              "fillmode": "overlay",
              "size": 10,
              "solidity": 0.2
             }
            },
            "type": "barpolar"
           }
          ],
          "carpet": [
           {
            "aaxis": {
             "endlinecolor": "#A2B1C6",
             "gridcolor": "#506784",
             "linecolor": "#506784",
             "minorgridcolor": "#506784",
             "startlinecolor": "#A2B1C6"
            },
            "baxis": {
             "endlinecolor": "#A2B1C6",
             "gridcolor": "#506784",
             "linecolor": "#506784",
             "minorgridcolor": "#506784",
             "startlinecolor": "#A2B1C6"
            },
            "type": "carpet"
           }
          ],
          "choropleth": [
           {
            "colorbar": {
             "outlinewidth": 0,
             "ticks": ""
            },
            "type": "choropleth"
           }
          ],
          "contour": [
           {
            "colorbar": {
             "outlinewidth": 0,
             "ticks": ""
            },
            "colorscale": [
             [
              0,
              "#0d0887"
             ],
             [
              0.1111111111111111,
              "#46039f"
             ],
             [
              0.2222222222222222,
              "#7201a8"
             ],
             [
              0.3333333333333333,
              "#9c179e"
             ],
             [
              0.4444444444444444,
              "#bd3786"
             ],
             [
              0.5555555555555556,
              "#d8576b"
             ],
             [
              0.6666666666666666,
              "#ed7953"
             ],
             [
              0.7777777777777778,
              "#fb9f3a"
             ],
             [
              0.8888888888888888,
              "#fdca26"
             ],
             [
              1,
              "#f0f921"
             ]
            ],
            "type": "contour"
           }
          ],
          "contourcarpet": [
           {
            "colorbar": {
             "outlinewidth": 0,
             "ticks": ""
            },
            "type": "contourcarpet"
           }
          ],
          "heatmap": [
           {
            "colorbar": {
             "outlinewidth": 0,
             "ticks": ""
            },
            "colorscale": [
             [
              0,
              "#0d0887"
             ],
             [
              0.1111111111111111,
              "#46039f"
             ],
             [
              0.2222222222222222,
              "#7201a8"
             ],
             [
              0.3333333333333333,
              "#9c179e"
             ],
             [
              0.4444444444444444,
              "#bd3786"
             ],
             [
              0.5555555555555556,
              "#d8576b"
             ],
             [
              0.6666666666666666,
              "#ed7953"
             ],
             [
              0.7777777777777778,
              "#fb9f3a"
             ],
             [
              0.8888888888888888,
              "#fdca26"
             ],
             [
              1,
              "#f0f921"
             ]
            ],
            "type": "heatmap"
           }
          ],
          "heatmapgl": [
           {
            "colorbar": {
             "outlinewidth": 0,
             "ticks": ""
            },
            "colorscale": [
             [
              0,
              "#0d0887"
             ],
             [
              0.1111111111111111,
              "#46039f"
             ],
             [
              0.2222222222222222,
              "#7201a8"
             ],
             [
              0.3333333333333333,
              "#9c179e"
             ],
             [
              0.4444444444444444,
              "#bd3786"
             ],
             [
              0.5555555555555556,
              "#d8576b"
             ],
             [
              0.6666666666666666,
              "#ed7953"
             ],
             [
              0.7777777777777778,
              "#fb9f3a"
             ],
             [
              0.8888888888888888,
              "#fdca26"
             ],
             [
              1,
              "#f0f921"
             ]
            ],
            "type": "heatmapgl"
           }
          ],
          "histogram": [
           {
            "marker": {
             "pattern": {
              "fillmode": "overlay",
              "size": 10,
              "solidity": 0.2
             }
            },
            "type": "histogram"
           }
          ],
          "histogram2d": [
           {
            "colorbar": {
             "outlinewidth": 0,
             "ticks": ""
            },
            "colorscale": [
             [
              0,
              "#0d0887"
             ],
             [
              0.1111111111111111,
              "#46039f"
             ],
             [
              0.2222222222222222,
              "#7201a8"
             ],
             [
              0.3333333333333333,
              "#9c179e"
             ],
             [
              0.4444444444444444,
              "#bd3786"
             ],
             [
              0.5555555555555556,
              "#d8576b"
             ],
             [
              0.6666666666666666,
              "#ed7953"
             ],
             [
              0.7777777777777778,
              "#fb9f3a"
             ],
             [
              0.8888888888888888,
              "#fdca26"
             ],
             [
              1,
              "#f0f921"
             ]
            ],
            "type": "histogram2d"
           }
          ],
          "histogram2dcontour": [
           {
            "colorbar": {
             "outlinewidth": 0,
             "ticks": ""
            },
            "colorscale": [
             [
              0,
              "#0d0887"
             ],
             [
              0.1111111111111111,
              "#46039f"
             ],
             [
              0.2222222222222222,
              "#7201a8"
             ],
             [
              0.3333333333333333,
              "#9c179e"
             ],
             [
              0.4444444444444444,
              "#bd3786"
             ],
             [
              0.5555555555555556,
              "#d8576b"
             ],
             [
              0.6666666666666666,
              "#ed7953"
             ],
             [
              0.7777777777777778,
              "#fb9f3a"
             ],
             [
              0.8888888888888888,
              "#fdca26"
             ],
             [
              1,
              "#f0f921"
             ]
            ],
            "type": "histogram2dcontour"
           }
          ],
          "mesh3d": [
           {
            "colorbar": {
             "outlinewidth": 0,
             "ticks": ""
            },
            "type": "mesh3d"
           }
          ],
          "parcoords": [
           {
            "line": {
             "colorbar": {
              "outlinewidth": 0,
              "ticks": ""
             }
            },
            "type": "parcoords"
           }
          ],
          "pie": [
           {
            "automargin": true,
            "type": "pie"
           }
          ],
          "scatter": [
           {
            "marker": {
             "line": {
              "color": "#283442"
             }
            },
            "type": "scatter"
           }
          ],
          "scatter3d": [
           {
            "line": {
             "colorbar": {
              "outlinewidth": 0,
              "ticks": ""
             }
            },
            "marker": {
             "colorbar": {
              "outlinewidth": 0,
              "ticks": ""
             }
            },
            "type": "scatter3d"
           }
          ],
          "scattercarpet": [
           {
            "marker": {
             "colorbar": {
              "outlinewidth": 0,
              "ticks": ""
             }
            },
            "type": "scattercarpet"
           }
          ],
          "scattergeo": [
           {
            "marker": {
             "colorbar": {
              "outlinewidth": 0,
              "ticks": ""
             }
            },
            "type": "scattergeo"
           }
          ],
          "scattergl": [
           {
            "marker": {
             "line": {
              "color": "#283442"
             }
            },
            "type": "scattergl"
           }
          ],
          "scattermapbox": [
           {
            "marker": {
             "colorbar": {
              "outlinewidth": 0,
              "ticks": ""
             }
            },
            "type": "scattermapbox"
           }
          ],
          "scatterpolar": [
           {
            "marker": {
             "colorbar": {
              "outlinewidth": 0,
              "ticks": ""
             }
            },
            "type": "scatterpolar"
           }
          ],
          "scatterpolargl": [
           {
            "marker": {
             "colorbar": {
              "outlinewidth": 0,
              "ticks": ""
             }
            },
            "type": "scatterpolargl"
           }
          ],
          "scatterternary": [
           {
            "marker": {
             "colorbar": {
              "outlinewidth": 0,
              "ticks": ""
             }
            },
            "type": "scatterternary"
           }
          ],
          "surface": [
           {
            "colorbar": {
             "outlinewidth": 0,
             "ticks": ""
            },
            "colorscale": [
             [
              0,
              "#0d0887"
             ],
             [
              0.1111111111111111,
              "#46039f"
             ],
             [
              0.2222222222222222,
              "#7201a8"
             ],
             [
              0.3333333333333333,
              "#9c179e"
             ],
             [
              0.4444444444444444,
              "#bd3786"
             ],
             [
              0.5555555555555556,
              "#d8576b"
             ],
             [
              0.6666666666666666,
              "#ed7953"
             ],
             [
              0.7777777777777778,
              "#fb9f3a"
             ],
             [
              0.8888888888888888,
              "#fdca26"
             ],
             [
              1,
              "#f0f921"
             ]
            ],
            "type": "surface"
           }
          ],
          "table": [
           {
            "cells": {
             "fill": {
              "color": "#506784"
             },
             "line": {
              "color": "rgb(17,17,17)"
             }
            },
            "header": {
             "fill": {
              "color": "#2a3f5f"
             },
             "line": {
              "color": "rgb(17,17,17)"
             }
            },
            "type": "table"
           }
          ]
         },
         "layout": {
          "annotationdefaults": {
           "arrowcolor": "#f2f5fa",
           "arrowhead": 0,
           "arrowwidth": 1
          },
          "autotypenumbers": "strict",
          "coloraxis": {
           "colorbar": {
            "outlinewidth": 0,
            "ticks": ""
           }
          },
          "colorscale": {
           "diverging": [
            [
             0,
             "#8e0152"
            ],
            [
             0.1,
             "#c51b7d"
            ],
            [
             0.2,
             "#de77ae"
            ],
            [
             0.3,
             "#f1b6da"
            ],
            [
             0.4,
             "#fde0ef"
            ],
            [
             0.5,
             "#f7f7f7"
            ],
            [
             0.6,
             "#e6f5d0"
            ],
            [
             0.7,
             "#b8e186"
            ],
            [
             0.8,
             "#7fbc41"
            ],
            [
             0.9,
             "#4d9221"
            ],
            [
             1,
             "#276419"
            ]
           ],
           "sequential": [
            [
             0,
             "#0d0887"
            ],
            [
             0.1111111111111111,
             "#46039f"
            ],
            [
             0.2222222222222222,
             "#7201a8"
            ],
            [
             0.3333333333333333,
             "#9c179e"
            ],
            [
             0.4444444444444444,
             "#bd3786"
            ],
            [
             0.5555555555555556,
             "#d8576b"
            ],
            [
             0.6666666666666666,
             "#ed7953"
            ],
            [
             0.7777777777777778,
             "#fb9f3a"
            ],
            [
             0.8888888888888888,
             "#fdca26"
            ],
            [
             1,
             "#f0f921"
            ]
           ],
           "sequentialminus": [
            [
             0,
             "#0d0887"
            ],
            [
             0.1111111111111111,
             "#46039f"
            ],
            [
             0.2222222222222222,
             "#7201a8"
            ],
            [
             0.3333333333333333,
             "#9c179e"
            ],
            [
             0.4444444444444444,
             "#bd3786"
            ],
            [
             0.5555555555555556,
             "#d8576b"
            ],
            [
             0.6666666666666666,
             "#ed7953"
            ],
            [
             0.7777777777777778,
             "#fb9f3a"
            ],
            [
             0.8888888888888888,
             "#fdca26"
            ],
            [
             1,
             "#f0f921"
            ]
           ]
          },
          "colorway": [
           "#636efa",
           "#EF553B",
           "#00cc96",
           "#ab63fa",
           "#FFA15A",
           "#19d3f3",
           "#FF6692",
           "#B6E880",
           "#FF97FF",
           "#FECB52"
          ],
          "font": {
           "color": "#f2f5fa"
          },
          "geo": {
           "bgcolor": "rgb(17,17,17)",
           "lakecolor": "rgb(17,17,17)",
           "landcolor": "rgb(17,17,17)",
           "showlakes": true,
           "showland": true,
           "subunitcolor": "#506784"
          },
          "hoverlabel": {
           "align": "left"
          },
          "hovermode": "closest",
          "mapbox": {
           "style": "dark"
          },
          "paper_bgcolor": "rgb(17,17,17)",
          "plot_bgcolor": "rgb(17,17,17)",
          "polar": {
           "angularaxis": {
            "gridcolor": "#506784",
            "linecolor": "#506784",
            "ticks": ""
           },
           "bgcolor": "rgb(17,17,17)",
           "radialaxis": {
            "gridcolor": "#506784",
            "linecolor": "#506784",
            "ticks": ""
           }
          },
          "scene": {
           "xaxis": {
            "backgroundcolor": "rgb(17,17,17)",
            "gridcolor": "#506784",
            "gridwidth": 2,
            "linecolor": "#506784",
            "showbackground": true,
            "ticks": "",
            "zerolinecolor": "#C8D4E3"
           },
           "yaxis": {
            "backgroundcolor": "rgb(17,17,17)",
            "gridcolor": "#506784",
            "gridwidth": 2,
            "linecolor": "#506784",
            "showbackground": true,
            "ticks": "",
            "zerolinecolor": "#C8D4E3"
           },
           "zaxis": {
            "backgroundcolor": "rgb(17,17,17)",
            "gridcolor": "#506784",
            "gridwidth": 2,
            "linecolor": "#506784",
            "showbackground": true,
            "ticks": "",
            "zerolinecolor": "#C8D4E3"
           }
          },
          "shapedefaults": {
           "line": {
            "color": "#f2f5fa"
           }
          },
          "sliderdefaults": {
           "bgcolor": "#C8D4E3",
           "bordercolor": "rgb(17,17,17)",
           "borderwidth": 1,
           "tickwidth": 0
          },
          "ternary": {
           "aaxis": {
            "gridcolor": "#506784",
            "linecolor": "#506784",
            "ticks": ""
           },
           "baxis": {
            "gridcolor": "#506784",
            "linecolor": "#506784",
            "ticks": ""
           },
           "bgcolor": "rgb(17,17,17)",
           "caxis": {
            "gridcolor": "#506784",
            "linecolor": "#506784",
            "ticks": ""
           }
          },
          "title": {
           "x": 0.05
          },
          "updatemenudefaults": {
           "bgcolor": "#506784",
           "borderwidth": 0
          },
          "xaxis": {
           "automargin": true,
           "gridcolor": "#283442",
           "linecolor": "#506784",
           "ticks": "",
           "title": {
            "standoff": 15
           },
           "zerolinecolor": "#283442",
           "zerolinewidth": 2
          },
          "yaxis": {
           "automargin": true,
           "gridcolor": "#283442",
           "linecolor": "#506784",
           "ticks": "",
           "title": {
            "standoff": 15
           },
           "zerolinecolor": "#283442",
           "zerolinewidth": 2
          }
         }
        },
        "title": {
         "text": "Token Distribution Across Experts for Layer 1 (test1)"
        },
        "width": 1200,
        "xaxis": {
         "tickangle": -45,
         "title": {
          "text": "Expert"
         }
        },
        "yaxis": {
         "title": {
          "text": "Number of Tokens"
         }
        }
       }
      }
     },
     "metadata": {},
     "output_type": "display_data"
    }
   ],
   "source": [
    "# Analyze with proper bounds checking\n",
    "fig, count_matrix, token_counts = analyze_dataset(\n",
    "    plot_type='bar', # or 'bar'\n",
    "    file_path='dataset/test1.txt',\n",
    "    model=model,\n",
    "    tokenizer=tokenizer, \n",
    "    domain='test1',\n",
    "    chunk_size=2048,\n",
    "    num_shared_experts=1, \n",
    "    num_topk=7,\n",
    "    layer_id=1 # only for bar plot\n",
    ")\n",
    "\n",
    "fig.show()"
   ]
  },
  {
   "cell_type": "code",
   "execution_count": null,
   "metadata": {},
   "outputs": [],
   "source": []
  }
 ],
 "metadata": {
  "kernelspec": {
   "display_name": "ai_env",
   "language": "python",
   "name": "python3"
  },
  "language_info": {
   "codemirror_mode": {
    "name": "ipython",
    "version": 3
   },
   "file_extension": ".py",
   "mimetype": "text/x-python",
   "name": "python",
   "nbconvert_exporter": "python",
   "pygments_lexer": "ipython3",
   "version": "3.10.13"
  }
 },
 "nbformat": 4,
 "nbformat_minor": 2
}
