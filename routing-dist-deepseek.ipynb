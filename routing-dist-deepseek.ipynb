{
 "cells": [
  {
   "cell_type": "code",
   "execution_count": 1,
   "metadata": {},
   "outputs": [],
   "source": [
    "import torch\n",
    "import numpy as np\n",
    "import plotly.graph_objects as go\n",
    "from collections import defaultdict\n",
    "import json\n",
    "import os\n",
    "from typing import Dict, List, Tuple, Optional\n",
    "# from tqdm.auto import tqdm\n",
    "import datetime\n",
    "import gc\n",
    "from transformers import AutoModelForCausalLM, AutoTokenizer\n",
    "import traceback"
   ]
  },
  {
   "cell_type": "code",
   "execution_count": 2,
   "metadata": {},
   "outputs": [],
   "source": [
    "def get_device():\n",
    "    \"\"\"Get the optimal available device\"\"\"\n",
    "    if torch.cuda.is_available():\n",
    "        device = torch.device(\"cuda:0\")\n",
    "        # Enable TF32 for better performance on Ampere GPUs (A100, A6000, etc)\n",
    "        torch.backends.cuda.matmul.allow_tf32 = True\n",
    "        torch.backends.cudnn.allow_tf32 = True\n",
    "        # Set memory allocation settings\n",
    "        torch.cuda.empty_cache()\n",
    "        # Enable CUDNN benchmarking for better performance\n",
    "        torch.backends.cudnn.benchmark = True\n",
    "    else:\n",
    "        device = torch.device(\"cpu\")\n",
    "    return device"
   ]
  },
  {
   "cell_type": "code",
   "execution_count": 3,
   "metadata": {},
   "outputs": [
    {
     "data": {
      "application/vnd.jupyter.widget-view+json": {
       "model_id": "3ecde74017a1441aa8aa2e88883e4839",
       "version_major": 2,
       "version_minor": 0
      },
      "text/plain": [
       "Loading checkpoint shards:   0%|          | 0/7 [00:00<?, ?it/s]"
      ]
     },
     "metadata": {},
     "output_type": "display_data"
    }
   ],
   "source": [
    "def load_model():\n",
    "    device = get_device()\n",
    "    model = AutoModelForCausalLM.from_pretrained('deepseek-ai/deepseek-moe-16b-base',\n",
    "                                                trust_remote_code=True,\n",
    "                                                torch_dtype=torch.float16)\n",
    "    model = model.to(device)\n",
    "    tokenizer = AutoTokenizer.from_pretrained('deepseek-ai/deepseek-moe-16b-base',\n",
    "                                                trust_remote_code=True)\n",
    "    return model, tokenizer\n",
    "\n",
    "model, tokenizer = load_model()"
   ]
  },
  {
   "cell_type": "code",
   "execution_count": 12,
   "metadata": {},
   "outputs": [],
   "source": [
    "def prepare_text_chunks(file_path: str, chunk_size: int = 2048, tokenizer = None) -> List[str]:\n",
    "    \"\"\"\n",
    "    Split input text file into chunks of specified token length with memory efficiency\n",
    "    \"\"\"\n",
    "    chunks = []\n",
    "    try:\n",
    "        with open(file_path, 'r', encoding='utf-8') as f:\n",
    "            if tokenizer:\n",
    "                # Process file in chunks to avoid loading entire file\n",
    "                chunk_text = \"\"\n",
    "                buffer = []\n",
    "                \n",
    "                for line in f:\n",
    "                    buffer.append(line)\n",
    "                    # Join buffer and check token length\n",
    "                    test_text = \"\".join(buffer)\n",
    "                    tokens = tokenizer.encode(test_text)\n",
    "                    \n",
    "                    # If we exceed max length, process the buffer\n",
    "                    if len(tokens) >= chunk_size:\n",
    "                        # Take only chunk_size tokens\n",
    "                        chunk_tokens = tokens[:chunk_size]\n",
    "                        chunks.append(tokenizer.decode(chunk_tokens))\n",
    "                        \n",
    "                        # Keep remainder for next chunk\n",
    "                        remainder_tokens = tokens[chunk_size:]\n",
    "                        buffer = [tokenizer.decode(remainder_tokens)]\n",
    "                \n",
    "                # Add remaining text if any\n",
    "                if buffer:\n",
    "                    final_text = \"\".join(buffer)\n",
    "                    final_tokens = tokenizer.encode(final_text)\n",
    "                    if len(final_tokens) > chunk_size:\n",
    "                        # Split remaining text into chunks of chunk_size\n",
    "                        for i in range(0, len(final_tokens), chunk_size):\n",
    "                            chunk_tokens = final_tokens[i:i + chunk_size]\n",
    "                            chunks.append(tokenizer.decode(chunk_tokens))\n",
    "                    else:\n",
    "                        chunks.append(final_text)\n",
    "            else:\n",
    "                words = []\n",
    "                for line in f:\n",
    "                    words.extend(line.split())\n",
    "                    while len(words) >= chunk_size:\n",
    "                        chunk = ' '.join(words[:chunk_size])\n",
    "                        chunks.append(chunk)\n",
    "                        words = words[chunk_size:]\n",
    "                if words:\n",
    "                    chunks.append(' '.join(words))\n",
    "                    \n",
    "        print(f\"Created {len(chunks)} chunks from the input file\")\n",
    "        return chunks\n",
    "        \n",
    "    except Exception as e:\n",
    "        print(f\"Error reading file: {e}\")\n",
    "        return []"
   ]
  },
  {
   "cell_type": "code",
   "execution_count": 5,
   "metadata": {},
   "outputs": [],
   "source": [
    "@torch.no_grad()\n",
    "def get_expert_distribution(model, input_text: str, tokenizer, device: torch.device, \n",
    "                          num_shared_experts: int = 0, num_topk: int = 8) -> Dict[int, List[Tuple[str, int, float]]]:\n",
    "    \"\"\"\n",
    "    Get expert routing probabilities with proper handling of shared experts and top-k tracking\n",
    "    \"\"\"\n",
    "    try:\n",
    "        model = model.to(device)\n",
    "        \n",
    "        inputs = tokenizer(input_text, \n",
    "                         return_tensors=\"pt\",\n",
    "                         padding=True,\n",
    "                         truncation=True,\n",
    "                         max_length=2048)\n",
    "        \n",
    "        inputs = {k: v.to(device) for k, v in inputs.items()} \n",
    "        \n",
    "        outputs = model(**inputs, \n",
    "                       output_attentions=False, \n",
    "                       output_hidden_states=True, \n",
    "                       return_dict=True)\n",
    "        \n",
    "        hidden_states = outputs.hidden_states\n",
    "        layer_distributions = {}\n",
    "\n",
    "        # Process each MoE layer\n",
    "        for layer_idx, layer in enumerate(model.model.layers[1:], 1):\n",
    "            moe_layer = layer.mlp\n",
    "            layer_hidden = hidden_states[layer_idx]\n",
    "\n",
    "            # Initialize distributions\n",
    "            expert_distributions = []\n",
    "            \n",
    "            # Convert token IDs to text\n",
    "            tokens = tokenizer.convert_ids_to_tokens(inputs['input_ids'][0])\n",
    "            \n",
    "            # Get router logits for dynamic experts\n",
    "            router_logits = torch.matmul(\n",
    "                layer_hidden.float(),\n",
    "                moe_layer.gate.weight.t().float()\n",
    "            )\n",
    "            \n",
    "            # Get top-k routed experts\n",
    "            router_probs = torch.softmax(router_logits, dim=-1)\n",
    "            top_probs, top_indices = torch.topk(router_probs, k=num_topk, dim=-1)\n",
    "\n",
    "            # Process results for each token\n",
    "            for i in range(len(tokens)):\n",
    "                if tokens[i] == tokenizer.pad_token:\n",
    "                    continue\n",
    "                    \n",
    "                # Skip special tokens like begin/end of sentence\n",
    "                if tokens[i].startswith('<') and tokens[i].endswith('>'):\n",
    "                    continue\n",
    "                    \n",
    "                clean_token = tokens[i].replace('Ġ', '')\n",
    "                \n",
    "                # Add shared experts for each token (they process all tokens)\n",
    "                for shared_idx in range(num_shared_experts):\n",
    "                    expert_distributions.append(\n",
    "                        (clean_token, shared_idx, 1.0)  # Shared experts always have weight 1.0\n",
    "                    )\n",
    "                \n",
    "                # Add routed experts\n",
    "                for j in range(num_topk):\n",
    "                    expert_distributions.append(\n",
    "                        (clean_token, \n",
    "                         int(top_indices[0,i,j].item()) + num_shared_experts,  # Offset expert indices by num shared experts\n",
    "                         float(top_probs[0,i,j].item()))\n",
    "                    )\n",
    "            \n",
    "            layer_distributions[layer_idx] = expert_distributions\n",
    "\n",
    "        return layer_distributions\n",
    "\n",
    "    except Exception as e:\n",
    "        print(f\"Error in get_expert_distribution: {e}\")\n",
    "        return {}"
   ]
  },
  {
   "cell_type": "code",
   "execution_count": 6,
   "metadata": {},
   "outputs": [],
   "source": [
    "def save_expert_stats(distributions: Dict[int, List[Tuple[str, int, float]]], \n",
    "                     domain: str,\n",
    "                     output_dir: str = 'expert_stats'):\n",
    "    \"\"\"Save expert routing statistics with error handling\"\"\"\n",
    "    try:\n",
    "        os.makedirs(output_dir, exist_ok=True)\n",
    "        output_path = os.path.join(output_dir, f'{domain}_expert_stats.json')\n",
    "        \n",
    "        stats = {}\n",
    "        for layer_idx, layer_data in distributions.items():\n",
    "            expert_counts = defaultdict(int)\n",
    "            total = len(layer_data)\n",
    "            \n",
    "            if total == 0:\n",
    "                continue\n",
    "                \n",
    "            for _, expert_idx, _ in layer_data:\n",
    "                expert_counts[expert_idx] += 1\n",
    "                \n",
    "            expert_probs = {\n",
    "                str(expert): count/total \n",
    "                for expert, count in expert_counts.items()\n",
    "            }\n",
    "            stats[str(layer_idx)] = expert_probs\n",
    "        \n",
    "        with open(output_path, 'w') as f:\n",
    "            json.dump(stats, f, indent=2)\n",
    "            \n",
    "    except Exception as e:\n",
    "        print(f\"Error saving expert stats: {e}\")"
   ]
  },
  {
   "cell_type": "code",
   "execution_count": 7,
   "metadata": {},
   "outputs": [],
   "source": [
    "def analyze_token_distributions(expert_distributions):\n",
    "    \"\"\"\n",
    "    Convert expert distributions to token counts per expert per layer\n",
    "    \n",
    "    Args:\n",
    "        expert_distributions: Dictionary mapping layer_id to list of (token, expert_id, probability) tuples\n",
    "        \n",
    "    Returns:\n",
    "        Dictionary mapping layer_id to dict of expert_id: token_count\n",
    "    \"\"\"\n",
    "    token_counts = {}\n",
    "    \n",
    "    # Process each layer\n",
    "    for layer_id, distributions in expert_distributions.items():\n",
    "        expert_counts = defaultdict(int)\n",
    "        \n",
    "        # Count tokens per expert in this layer, including shared experts\n",
    "        for token, expert_id, prob in distributions:\n",
    "            expert_counts[expert_id] += 1\n",
    "            \n",
    "        token_counts[layer_id] = dict(expert_counts)\n",
    "        \n",
    "    return token_counts"
   ]
  },
  {
   "cell_type": "code",
   "execution_count": 34,
   "metadata": {},
   "outputs": [],
   "source": [
    "def plot_layer_distribution(token_counts, layer_id: int, domain: str, dark_mode: bool = True, tokenizer=tokenizer):\n",
    "    \"\"\"\n",
    "    Create a bar graph showing token distribution across experts for a specific layer\n",
    "    \"\"\"\n",
    "    try:\n",
    "        # Get expert counts for specified layer\n",
    "        layer_counts = token_counts.get(layer_id, {})\n",
    "        if not layer_counts:\n",
    "            raise ValueError(f\"No data found for layer {layer_id}\")\n",
    "            \n",
    "        # Create lists for x and y values\n",
    "        expert_ids = sorted(layer_counts.keys())\n",
    "        token_counts_list = [layer_counts[expert_id] for expert_id in expert_ids]\n",
    "        \n",
    "        # Create labels for experts\n",
    "        expert_labels = [f\"{expert_id}\" for expert_id in expert_ids]\n",
    "        \n",
    "        # Calculate totals\n",
    "        total_routing_decisions = sum(token_counts_list)\n",
    "        \n",
    "        file_path = f\"dataset/{domain}.txt\"\n",
    "        with open(file_path, 'r', encoding='utf-8') as f:\n",
    "            text = f.read()\n",
    "        tokens = tokenizer(text)\n",
    "        actual_tokens = len(tokens['input_ids'])\n",
    "\n",
    "        # Create hover text\n",
    "        hover_text = [f\"Expert {expert_id}<br>Tokens: {count}<br>Percentage: {(count/total_routing_decisions*100):.1f}%\" \n",
    "                     for expert_id, count in zip(expert_ids, token_counts_list)]\n",
    "\n",
    "        # Create bar graph\n",
    "        fig = go.Figure(data=[\n",
    "            go.Bar(\n",
    "                x=expert_labels,\n",
    "                y=token_counts_list,\n",
    "                hovertext=hover_text,\n",
    "                hoverinfo='text',\n",
    "                marker_color='#636EFA'\n",
    "            )\n",
    "        ])\n",
    "        \n",
    "        # Update layout\n",
    "        template = 'plotly_dark' if dark_mode else 'plotly_white'\n",
    "        fig.update_layout(\n",
    "            title=f'Token Distribution Across Experts in Layer {layer_id} ({domain})',\n",
    "            xaxis_title='Expert',\n",
    "            yaxis_title='Number of Routing Decisions',\n",
    "            width=1200,\n",
    "            height=600,\n",
    "            template=template,\n",
    "            showlegend=False,\n",
    "            xaxis={'tickangle': -45},\n",
    "            yaxis=dict(range=[0, total_routing_decisions])  # Set max on y-axis to total routing decisions\n",
    "        )\n",
    "        \n",
    "        # Add annotations for both total routing decisions and actual tokens\n",
    "        fig.add_annotation(\n",
    "            text=f'Total Routing Decisions: {total_routing_decisions:,}<br>Actual Tokens: {actual_tokens:,}',\n",
    "            xref='paper', yref='paper',\n",
    "            x=1, y=1,\n",
    "            xanchor='right', yanchor='top',\n",
    "            showarrow=False,\n",
    "            font=dict(size=12)\n",
    "        )\n",
    "        \n",
    "        return fig\n",
    "        \n",
    "    except Exception as e:\n",
    "        print(f\"Error creating bar plot: {e}\")\n",
    "        return None"
   ]
  },
  {
   "cell_type": "code",
   "execution_count": 9,
   "metadata": {},
   "outputs": [],
   "source": [
    "def plot_token_heatmap(token_counts, domain, n_experts=64, n_layers=27, num_shared_experts=1):\n",
    "    \"\"\"\n",
    "    Create heatmap of token counts per expert per layer, excluding shared experts\n",
    "    \n",
    "    Args:\n",
    "        token_counts: Dictionary mapping layer_id to dict of expert_id: token_count\n",
    "        n_experts: Total number of experts\n",
    "        n_layers: Total number of layers\n",
    "        domain: domain name for heatmap title\n",
    "        num_shared_experts: Number of shared experts to exclude from visualization\n",
    "    \"\"\"\n",
    "    # Initialize count matrix\n",
    "    count_matrix = np.zeros((n_layers, n_experts-num_shared_experts))  # Reduced size to exclude shared experts\n",
    "    \n",
    "    # Fill matrix with token counts, skipping shared experts\n",
    "    for layer_id, expert_counts in token_counts.items():\n",
    "        for expert_id, count in expert_counts.items():\n",
    "            if expert_id >= num_shared_experts and expert_id < n_experts:  # Skip shared experts\n",
    "                count_matrix[layer_id-1, expert_id-num_shared_experts] = count  # Adjust index\n",
    "    \n",
    "    # Create heatmap with adjusted expert indices\n",
    "    fig = go.Figure(data=go.Heatmap(\n",
    "        z=count_matrix,\n",
    "        x=[f'{i+num_shared_experts}' for i in range(n_experts-num_shared_experts)],  # Start after shared experts\n",
    "        y=[f'{i}' for i in range(1, n_layers+1)],\n",
    "        colorscale='Viridis',\n",
    "        hoverongaps=False,\n",
    "        hovertemplate='Layer %{y}<br>Expert %{x}<br>Tokens: %{z:d}<extra></extra>'\n",
    "    ))\n",
    "    \n",
    "    fig.update_layout(\n",
    "        title=f'token distribution heatmap for {domain}',\n",
    "        xaxis_title='Expert Index',\n",
    "        yaxis_title='Layer',\n",
    "        width=1200,\n",
    "        height=800,\n",
    "        template='plotly_dark'\n",
    "    )\n",
    "    \n",
    "    return fig, count_matrix"
   ]
  },
  {
   "cell_type": "code",
   "execution_count": 10,
   "metadata": {},
   "outputs": [],
   "source": [
    "def analyze_dataset(\n",
    "    plot_type: str = 'heatmap',\n",
    "    file_path: str = None,\n",
    "    model = None,\n",
    "    tokenizer = None,\n",
    "    domain: str = 'test1',\n",
    "    chunk_size: int = 2048,\n",
    "    num_shared_experts: int = 2,  \n",
    "    num_topk: int = 6,\n",
    "    layer_id: int = 1,\n",
    "    device: torch.device = None,\n",
    "    force_recompute: bool = False  # New parameter to force recomputation\n",
    "    ):\n",
    "    \"\"\"\n",
    "    Main analysis function with caching of computed results\n",
    "    \"\"\"\n",
    "    try:\n",
    "        # Check for existing results\n",
    "        npy_path = f'plots-deepseek/{domain}_count_matrix.npy'\n",
    "        if os.path.exists(npy_path) and not force_recompute:\n",
    "            print(f\"Loading existing results from {npy_path}\")\n",
    "            count_matrix = np.load(npy_path)\n",
    "            \n",
    "            # Reconstruct token_counts from count_matrix\n",
    "            token_counts = {}\n",
    "            for layer in range(count_matrix.shape[0]):\n",
    "                expert_counts = {}\n",
    "                for expert in range(count_matrix.shape[1]):\n",
    "                    if count_matrix[layer, expert] > 0:\n",
    "                        expert_counts[expert + 1] = int(count_matrix[layer, expert])  # Add 1 to expert index\n",
    "                token_counts[layer + 1] = expert_counts\n",
    "            \n",
    "            # Create visualization based on plot_type\n",
    "            print(\"Generating visualization from cached data...\")\n",
    "            if plot_type == 'heatmap':\n",
    "                fig, _ = plot_token_heatmap(\n",
    "                    token_counts,\n",
    "                    n_experts=64,\n",
    "                    n_layers=27,\n",
    "                    domain=domain\n",
    "                )\n",
    "            else:  # plot_type == 'bar'\n",
    "                fig = plot_layer_distribution(\n",
    "                    token_counts=token_counts,\n",
    "                    layer_id=layer_id,\n",
    "                    domain=domain\n",
    "                )\n",
    "            \n",
    "            return fig, count_matrix, token_counts\n",
    "            \n",
    "        # If no cached results or force_recompute is True, proceed with full computation\n",
    "        print(\"No cached results found or force_recompute=True. Computing from scratch...\")\n",
    "        \n",
    "        # Rest of the original function remains the same\n",
    "        if device is None:\n",
    "            device = get_device()\n",
    "        print(f\"Using device: {device}\")\n",
    "        \n",
    "        model = model.to(device)\n",
    "        \n",
    "        if plot_type not in ['heatmap', 'bar']:\n",
    "            raise ValueError(\"plot_type must be either 'heatmap' or 'bar'\")\n",
    "        \n",
    "        # Process in smaller chunks to avoid OOM\n",
    "        max_chunk_tokens = 1024\n",
    "        chunks = prepare_text_chunks(file_path, max_chunk_tokens, tokenizer)\n",
    "        if not chunks:\n",
    "            raise ValueError(\"No text chunks generated\")\n",
    "            \n",
    "        # Process chunks\n",
    "        all_distributions = defaultdict(list)\n",
    "        total_chunks = len(chunks)\n",
    "        \n",
    "        for i, chunk in enumerate(chunks):\n",
    "            torch.cuda.empty_cache()\n",
    "            print(f\"Processing chunk {i+1}/{total_chunks}\")\n",
    "            \n",
    "            chunk_dist = get_expert_distribution(\n",
    "                model, \n",
    "                chunk,\n",
    "                tokenizer,\n",
    "                device,\n",
    "                num_shared_experts=num_shared_experts,\n",
    "                num_topk=num_topk\n",
    "            )\n",
    "            \n",
    "            for layer, layer_data in chunk_dist.items():\n",
    "                all_distributions[layer].extend(\n",
    "                    [(t, e, float(p)) for t, e, p in layer_data]\n",
    "                )\n",
    "                \n",
    "        token_counts = analyze_token_distributions(all_distributions)\n",
    "        \n",
    "        print(\"Generating visualization...\")\n",
    "        if plot_type == 'heatmap':\n",
    "            fig, count_matrix = plot_token_heatmap(\n",
    "                token_counts,\n",
    "                n_experts=64,\n",
    "                n_layers=27,\n",
    "                domain=domain\n",
    "            )\n",
    "        else:\n",
    "            fig = plot_layer_distribution(\n",
    "                token_counts=token_counts,\n",
    "                layer_id=layer_id,\n",
    "                domain=domain\n",
    "            )\n",
    "            count_matrix = None\n",
    "        \n",
    "        # Save results\n",
    "        os.makedirs('plots-deepseek', exist_ok=True)\n",
    "        if plot_type == 'heatmap':\n",
    "            np.save(npy_path, count_matrix)\n",
    "            fig.write_html(f'plots-deepseek/{domain}_heatmap.html')\n",
    "            fig.write_image(f'plots-deepseek/{domain}_heatmap.png')\n",
    "        else:\n",
    "            fig.write_html(f'plots-deepseek/{domain}_layer{layer_id}_bargraph.html')\n",
    "            fig.write_image(f'plots-deepseek/{domain}_layer{layer_id}_bargraph.png')\n",
    "        \n",
    "        print(\"Analysis complete!\")\n",
    "        return fig, count_matrix, token_counts\n",
    "        \n",
    "    except Exception as e:\n",
    "        print(f\"Error in analyze_dataset: {e}\")\n",
    "        traceback.print_exc()\n",
    "        return None, None, None"
   ]
  },
  {
   "cell_type": "markdown",
   "metadata": {},
   "source": [
    "### plotting"
   ]
  },
  {
   "cell_type": "code",
   "execution_count": 25,
   "metadata": {},
   "outputs": [
    {
     "name": "stdout",
     "output_type": "stream",
     "text": [
      "Loading existing results from plots-deepseek/humaneval_count_matrix.npy\n",
      "Generating visualization from cached data...\n"
     ]
    },
    {
     "data": {
      "application/vnd.plotly.v1+json": {
       "config": {
        "plotlyServerURL": "https://plot.ly"
       },
       "data": [
        {
         "colorscale": [
          [
           0,
           "#440154"
          ],
          [
           0.1111111111111111,
           "#482878"
          ],
          [
           0.2222222222222222,
           "#3e4989"
          ],
          [
           0.3333333333333333,
           "#31688e"
          ],
          [
           0.4444444444444444,
           "#26828e"
          ],
          [
           0.5555555555555556,
           "#1f9e89"
          ],
          [
           0.6666666666666666,
           "#35b779"
          ],
          [
           0.7777777777777778,
           "#6ece58"
          ],
          [
           0.8888888888888888,
           "#b5de2b"
          ],
          [
           1,
           "#fde725"
          ]
         ],
         "hoverongaps": false,
         "hovertemplate": "Layer %{y}<br>Expert %{x}<br>Tokens: %{z:d}<extra></extra>",
         "type": "heatmap",
         "x": [
          "1",
          "2",
          "3",
          "4",
          "5",
          "6",
          "7",
          "8",
          "9",
          "10",
          "11",
          "12",
          "13",
          "14",
          "15",
          "16",
          "17",
          "18",
          "19",
          "20",
          "21",
          "22",
          "23",
          "24",
          "25",
          "26",
          "27",
          "28",
          "29",
          "30",
          "31",
          "32",
          "33",
          "34",
          "35",
          "36",
          "37",
          "38",
          "39",
          "40",
          "41",
          "42",
          "43",
          "44",
          "45",
          "46",
          "47",
          "48",
          "49",
          "50",
          "51",
          "52",
          "53",
          "54",
          "55",
          "56",
          "57",
          "58",
          "59",
          "60",
          "61",
          "62",
          "63"
         ],
         "y": [
          "1",
          "2",
          "3",
          "4",
          "5",
          "6",
          "7",
          "8",
          "9",
          "10",
          "11",
          "12",
          "13",
          "14",
          "15",
          "16",
          "17",
          "18",
          "19",
          "20",
          "21",
          "22",
          "23",
          "24",
          "25",
          "26",
          "27"
         ],
         "z": [
          [
           2937,
           2900,
           2709,
           157,
           1760,
           2905,
           530,
           6814,
           457,
           2144,
           329,
           558,
           765,
           3053,
           5483,
           12475,
           3957,
           430,
           5966,
           1020,
           5248,
           1129,
           1029,
           980,
           7870,
           2715,
           2446,
           1349,
           2877,
           307,
           344,
           17738,
           950,
           4196,
           2538,
           2875,
           453,
           765,
           1208,
           677,
           5789,
           1941,
           903,
           259,
           1845,
           3062,
           4725,
           3044,
           1397,
           2074,
           627,
           9,
           1808,
           5574,
           6731,
           595,
           774,
           7626,
           555,
           533,
           3017,
           2239,
           249
          ],
          [
           2862,
           3071,
           2418,
           5107,
           2046,
           1552,
           6169,
           1121,
           935,
           1783,
           1091,
           1760,
           4906,
           2264,
           1700,
           3933,
           1247,
           4493,
           2268,
           2101,
           3901,
           846,
           939,
           2497,
           1754,
           789,
           3086,
           7022,
           746,
           1640,
           2709,
           1186,
           1114,
           988,
           793,
           812,
           943,
           1505,
           808,
           2803,
           2611,
           1194,
           2056,
           10717,
           1267,
           152,
           2631,
           3302,
           2347,
           985,
           3328,
           3572,
           1762,
           2917,
           9931,
           1935,
           18338,
           5151,
           804,
           371,
           1849,
           3548,
           1160
          ],
          [
           2294,
           6097,
           2892,
           335,
           643,
           6676,
           1771,
           469,
           1077,
           3674,
           1136,
           7779,
           1062,
           1502,
           2741,
           1120,
           240,
           1125,
           826,
           2716,
           2676,
           3388,
           2467,
           954,
           925,
           7045,
           2708,
           1102,
           1066,
           2710,
           16134,
           4924,
           1244,
           1394,
           1954,
           3809,
           540,
           703,
           1686,
           6722,
           2258,
           4918,
           3008,
           4499,
           2397,
           2631,
           3236,
           1829,
           399,
           1335,
           3512,
           2295,
           1953,
           1385,
           4301,
           2811,
           4700,
           984,
           2281,
           762,
           3255,
           1507,
           5049
          ],
          [
           1209,
           2169,
           3297,
           5025,
           4176,
           3429,
           1475,
           1031,
           2218,
           1088,
           1469,
           1140,
           2672,
           1895,
           143,
           1248,
           2114,
           3668,
           2143,
           5620,
           7691,
           1513,
           1513,
           2290,
           1246,
           1574,
           5806,
           2356,
           1583,
           9298,
           2671,
           4784,
           4809,
           1000,
           922,
           5884,
           578,
           2601,
           2578,
           8293,
           2803,
           921,
           4526,
           4938,
           1582,
           1158,
           2575,
           2768,
           714,
           2801,
           1598,
           2361,
           3730,
           880,
           929,
           826,
           1754,
           369,
           1912,
           4883,
           811,
           4200,
           2729
          ],
          [
           3236,
           1987,
           945,
           2962,
           1235,
           1260,
           2463,
           4336,
           2154,
           1691,
           783,
           2711,
           919,
           3444,
           1371,
           902,
           2062,
           3193,
           697,
           2171,
           8661,
           1933,
           4312,
           909,
           2621,
           2582,
           3795,
           1191,
           4155,
           2566,
           1751,
           2903,
           1824,
           4739,
           7131,
           3968,
           3626,
           4808,
           1943,
           1073,
           2345,
           747,
           2199,
           1743,
           2745,
           1086,
           3592,
           1931,
           2690,
           6048,
           7725,
           1630,
           1982,
           6268,
           1808,
           2257,
           904,
           2017,
           1128,
           3070,
           2855,
           2832,
           2050
          ],
          [
           3328,
           1477,
           5082,
           568,
           2575,
           585,
           1566,
           5476,
           2435,
           2305,
           1296,
           730,
           2241,
           1155,
           216,
           1907,
           2766,
           1202,
           2143,
           2183,
           3504,
           4048,
           5149,
           4860,
           3667,
           1601,
           1448,
           5667,
           3227,
           812,
           3238,
           3885,
           2906,
           1936,
           1046,
           882,
           3971,
           2530,
           2468,
           1942,
           1239,
           2900,
           2588,
           1190,
           2323,
           5652,
           6072,
           1249,
           2178,
           1064,
           801,
           3868,
           1021,
           2155,
           2221,
           5657,
           7261,
           4078,
           2041,
           2105,
           7468,
           2985,
           1407
          ],
          [
           1992,
           541,
           659,
           1480,
           5097,
           3306,
           1491,
           2377,
           1055,
           4537,
           4029,
           1804,
           4828,
           397,
           671,
           1059,
           2156,
           5902,
           902,
           2360,
           693,
           2987,
           6647,
           5752,
           2070,
           655,
           3584,
           3422,
           7989,
           2028,
           745,
           785,
           2438,
           5617,
           1159,
           1272,
           2727,
           4340,
           4550,
           2754,
           1665,
           1707,
           952,
           3725,
           4754,
           1196,
           3780,
           3915,
           1626,
           1416,
           631,
           3444,
           2057,
           3558,
           2595,
           4959,
           4367,
           1052,
           2305,
           1938,
           948,
           5677,
           3317
          ],
          [
           3450,
           3217,
           2589,
           6285,
           6395,
           5098,
           6254,
           942,
           1527,
           2112,
           2129,
           5284,
           1051,
           729,
           1165,
           3316,
           2460,
           3970,
           1660,
           538,
           1534,
           5787,
           598,
           484,
           2073,
           1362,
           2711,
           1683,
           5710,
           3198,
           2043,
           3269,
           2413,
           1095,
           2733,
           3011,
           754,
           1589,
           820,
           1377,
           4687,
           672,
           1794,
           3191,
           1575,
           4377,
           1673,
           5923,
           2224,
           2878,
           690,
           3975,
           3402,
           1360,
           1077,
           4435,
           3478,
           1496,
           2671,
           1806,
           2677,
           3561,
           6013
          ],
          [
           4165,
           3572,
           4544,
           4589,
           1274,
           1586,
           460,
           788,
           1612,
           3291,
           3878,
           3534,
           737,
           936,
           3299,
           4896,
           12037,
           917,
           4477,
           1224,
           2519,
           5620,
           4843,
           2035,
           1179,
           1545,
           2355,
           3821,
           1646,
           1608,
           2983,
           3093,
           2696,
           3316,
           2812,
           794,
           4874,
           1113,
           675,
           736,
           1876,
           3943,
           1173,
           1451,
           5081,
           834,
           3186,
           3474,
           1397,
           912,
           1453,
           1150,
           2133,
           2775,
           1519,
           2248,
           5790,
           1569,
           5126,
           1387,
           1575,
           1460,
           3071
          ],
          [
           5315,
           5331,
           6731,
           1150,
           1864,
           4282,
           1930,
           1540,
           3528,
           1268,
           4768,
           1283,
           1953,
           1481,
           1370,
           2367,
           6656,
           3187,
           5201,
           3047,
           587,
           2994,
           1896,
           1183,
           2479,
           2391,
           3247,
           2898,
           2520,
           3433,
           7813,
           4265,
           510,
           2065,
           1098,
           703,
           2719,
           2694,
           1904,
           5611,
           4462,
           4355,
           900,
           1145,
           712,
           1645,
           3507,
           2553,
           761,
           3464,
           2761,
           1120,
           2553,
           1651,
           1734,
           930,
           2111,
           1240,
           3907,
           6521,
           2262,
           673,
           1165
          ],
          [
           663,
           4258,
           3077,
           1050,
           240,
           961,
           5806,
           862,
           846,
           1163,
           1694,
           2455,
           1599,
           2442,
           3593,
           1895,
           592,
           1982,
           4956,
           936,
           2171,
           1992,
           5458,
           2043,
           3152,
           994,
           2026,
           1397,
           4278,
           2885,
           4717,
           4226,
           1538,
           2573,
           3264,
           1025,
           3917,
           3276,
           11143,
           2974,
           1947,
           2061,
           4833,
           2656,
           3726,
           7215,
           964,
           3099,
           2060,
           1857,
           1382,
           2932,
           1529,
           3899,
           7001,
           3573,
           1534,
           809,
           2072,
           856,
           2960,
           4570,
           860
          ],
          [
           2290,
           4991,
           1424,
           1074,
           2536,
           1614,
           4590,
           2131,
           943,
           3073,
           5694,
           572,
           1027,
           991,
           2752,
           4167,
           510,
           3656,
           1098,
           2320,
           3553,
           4846,
           1673,
           2674,
           1623,
           2238,
           1355,
           1408,
           2245,
           1421,
           1409,
           1442,
           2535,
           6240,
           1361,
           7248,
           1432,
           2371,
           2733,
           5448,
           5763,
           1174,
           2436,
           7943,
           867,
           3155,
           3792,
           1693,
           5705,
           1217,
           1205,
           1014,
           2962,
           1173,
           5802,
           2711,
           3054,
           1805,
           4462,
           3675,
           2292,
           1157,
           3231
          ],
          [
           1362,
           1904,
           1497,
           1890,
           2124,
           473,
           2220,
           1092,
           1511,
           10630,
           1523,
           843,
           894,
           5811,
           4457,
           2107,
           1007,
           2553,
           4697,
           3114,
           1126,
           2502,
           2100,
           2323,
           1895,
           4317,
           1584,
           1831,
           814,
           4540,
           683,
           1694,
           3911,
           5496,
           1653,
           1377,
           1351,
           1815,
           4707,
           2295,
           1348,
           7745,
           1649,
           2538,
           3655,
           1438,
           4762,
           5578,
           1844,
           1709,
           893,
           1936,
           3510,
           515,
           3367,
           5536,
           7971,
           2823,
           3659,
           3143,
           1502,
           1549,
           2544
          ],
          [
           2616,
           3766,
           6087,
           987,
           5685,
           2974,
           2769,
           1443,
           1739,
           1671,
           3631,
           1913,
           3219,
           612,
           2354,
           2177,
           2897,
           1420,
           2100,
           1296,
           1192,
           7412,
           1287,
           1450,
           4319,
           5574,
           2141,
           1952,
           4041,
           1578,
           2750,
           4906,
           1580,
           5565,
           1368,
           1651,
           4806,
           2012,
           1311,
           3962,
           1124,
           1449,
           1480,
           1010,
           12434,
           4540,
           1752,
           3981,
           1712,
           911,
           1258,
           1618,
           3899,
           4244,
           1963,
           568,
           5002,
           2982,
           1065,
           696,
           1690,
           441,
           859
          ],
          [
           1811,
           2657,
           3203,
           1548,
           1891,
           2244,
           1891,
           1127,
           3382,
           4761,
           3828,
           1732,
           2250,
           1654,
           1685,
           2242,
           2116,
           6785,
           3880,
           5266,
           1138,
           1177,
           1032,
           1561,
           4004,
           2051,
           2445,
           10073,
           11836,
           1210,
           1191,
           2518,
           3166,
           2830,
           1317,
           2103,
           2903,
           1080,
           2959,
           1207,
           3208,
           1948,
           1658,
           586,
           3298,
           4222,
           7153,
           5500,
           948,
           3107,
           1616,
           1239,
           1453,
           1689,
           1552,
           1548,
           1461,
           1219,
           1296,
           5640,
           3811,
           2529,
           1589
          ],
          [
           1135,
           2134,
           1135,
           2787,
           6739,
           3914,
           743,
           3495,
           4662,
           2018,
           4054,
           2207,
           1631,
           1893,
           863,
           1309,
           3868,
           1070,
           1783,
           7333,
           2806,
           2261,
           8170,
           4431,
           5701,
           1928,
           3055,
           1897,
           1353,
           3978,
           1291,
           2432,
           920,
           3541,
           2454,
           1428,
           3677,
           3112,
           2273,
           532,
           5116,
           621,
           2643,
           2758,
           624,
           1605,
           4625,
           1472,
           899,
           1358,
           1068,
           713,
           5781,
           3984,
           773,
           1181,
           7584,
           2306,
           5447,
           1516,
           919,
           2490,
           4035
          ],
          [
           2614,
           1349,
           5213,
           1738,
           1044,
           2443,
           1867,
           4881,
           768,
           941,
           4445,
           2835,
           2175,
           3692,
           1456,
           1355,
           1428,
           6204,
           1906,
           2804,
           4462,
           1428,
           1567,
           1532,
           1224,
           1916,
           5909,
           1582,
           851,
           912,
           1380,
           3019,
           4595,
           461,
           2504,
           2637,
           1047,
           1706,
           5444,
           2581,
           890,
           2799,
           4141,
           1632,
           2825,
           4500,
           1770,
           420,
           2853,
           2115,
           6348,
           2505,
           2421,
           5150,
           1451,
           6149,
           1534,
           6433,
           4393,
           2274,
           2357,
           2045,
           3094
          ],
          [
           1322,
           4652,
           6768,
           546,
           469,
           1329,
           1239,
           1737,
           3241,
           865,
           3452,
           3408,
           2775,
           1389,
           2649,
           8801,
           2488,
           2763,
           7687,
           1256,
           723,
           390,
           1327,
           2531,
           1218,
           3862,
           1103,
           3153,
           3107,
           2895,
           1613,
           2839,
           2521,
           1357,
           678,
           545,
           3901,
           1661,
           2020,
           1544,
           434,
           1062,
           2268,
           6439,
           3300,
           2397,
           3243,
           2357,
           1725,
           5230,
           3592,
           4324,
           5361,
           899,
           551,
           2190,
           2995,
           5894,
           1636,
           4270,
           584,
           4416,
           6400
          ],
          [
           4491,
           1421,
           2048,
           3892,
           1941,
           1576,
           502,
           4814,
           1882,
           5227,
           4659,
           5323,
           1068,
           2827,
           1030,
           4540,
           2512,
           2997,
           1453,
           2310,
           9927,
           2896,
           2852,
           1690,
           1918,
           4445,
           1308,
           3886,
           7709,
           1367,
           1650,
           2050,
           1599,
           1244,
           1485,
           1945,
           4067,
           4347,
           4455,
           2854,
           1365,
           2902,
           488,
           3047,
           2517,
           5566,
           1582,
           3832,
           1188,
           4782,
           1763,
           2890,
           945,
           4237,
           3679,
           978,
           1104,
           1542,
           1472,
           1199,
           915,
           2358,
           806
          ],
          [
           779,
           997,
           2050,
           776,
           4505,
           1186,
           1212,
           1122,
           331,
           615,
           969,
           3976,
           2817,
           387,
           1629,
           4348,
           5148,
           1169,
           1543,
           1039,
           1101,
           3295,
           2967,
           3991,
           3854,
           3061,
           2029,
           2351,
           9340,
           1566,
           1991,
           5660,
           5702,
           1385,
           4573,
           6894,
           1615,
           11418,
           1708,
           561,
           2156,
           1465,
           1022,
           3538,
           1020,
           77,
           813,
           3692,
           2440,
           2118,
           7377,
           1547,
           862,
           7199,
           1046,
           2719,
           3275,
           1380,
           2906,
           4906,
           3202,
           2068,
           2292
          ],
          [
           1736,
           1590,
           12418,
           991,
           6983,
           1703,
           750,
           1563,
           711,
           3108,
           2228,
           3737,
           2253,
           1468,
           3726,
           367,
           2111,
           3803,
           1695,
           980,
           6455,
           1644,
           1633,
           1044,
           1952,
           649,
           377,
           10221,
           1645,
           2110,
           7405,
           2438,
           1155,
           2164,
           2614,
           2056,
           7966,
           9460,
           3363,
           1186,
           1626,
           6186,
           3588,
           3210,
           780,
           4223,
           704,
           2645,
           697,
           1344,
           1186,
           1261,
           1666,
           953,
           278,
           5648,
           922,
           1495,
           1132,
           3829,
           1069,
           4517,
           1345
          ],
          [
           770,
           3291,
           945,
           1324,
           5391,
           4012,
           390,
           1587,
           4143,
           2004,
           591,
           470,
           992,
           838,
           2557,
           1081,
           13410,
           1397,
           3621,
           6343,
           7328,
           1070,
           1056,
           3064,
           964,
           728,
           1328,
           2231,
           3728,
           2823,
           721,
           3332,
           715,
           8063,
           4002,
           1764,
           3729,
           1190,
           4114,
           1220,
           2927,
           974,
           1505,
           5765,
           1665,
           992,
           1924,
           951,
           1439,
           2429,
           4241,
           2184,
           5764,
           2051,
           2140,
           1960,
           3440,
           6229,
           1813,
           5310,
           932,
           1594,
           3764
          ],
          [
           1862,
           2848,
           6355,
           3850,
           2979,
           1017,
           782,
           838,
           2699,
           1922,
           884,
           4080,
           3471,
           2997,
           6660,
           4366,
           1344,
           773,
           4816,
           1204,
           2724,
           3773,
           1862,
           2292,
           1193,
           690,
           2887,
           8404,
           1643,
           2918,
           1395,
           7030,
           3833,
           3853,
           2175,
           1181,
           1790,
           4829,
           1837,
           882,
           2722,
           2564,
           1416,
           1309,
           1411,
           992,
           14242,
           478,
           3655,
           620,
           3147,
           1659,
           1747,
           561,
           2085,
           441,
           1959,
           5935,
           1413,
           2740,
           4055,
           1450,
           1822
          ],
          [
           2512,
           1383,
           817,
           8959,
           1704,
           1127,
           3714,
           2458,
           1792,
           8836,
           4043,
           3156,
           1181,
           3700,
           3497,
           1446,
           1009,
           1365,
           4236,
           4153,
           1844,
           1604,
           2819,
           2325,
           2883,
           533,
           2283,
           5373,
           1047,
           776,
           1652,
           5764,
           6685,
           1452,
           1343,
           1438,
           1316,
           4516,
           3512,
           3186,
           2129,
           1794,
           572,
           947,
           1029,
           13248,
           1163,
           686,
           298,
           1276,
           2975,
           3207,
           833,
           6520,
           386,
           1648,
           878,
           702,
           5385,
           8042,
           602,
           1441,
           1221
          ],
          [
           2035,
           7677,
           3962,
           2173,
           1113,
           2639,
           3026,
           13885,
           4903,
           1602,
           2119,
           3226,
           5710,
           895,
           2058,
           1345,
           2249,
           4994,
           489,
           4549,
           3854,
           1802,
           1272,
           3127,
           4305,
           2971,
           1856,
           1035,
           5192,
           892,
           5478,
           1041,
           1541,
           777,
           732,
           1920,
           401,
           3476,
           979,
           153,
           11141,
           2241,
           949,
           1803,
           883,
           1729,
           2294,
           980,
           1577,
           3219,
           1385,
           2563,
           1162,
           1253,
           2966,
           2913,
           1753,
           1136,
           927,
           5019,
           5467,
           3076,
           2061
          ],
          [
           2357,
           5606,
           2405,
           914,
           4788,
           1425,
           4237,
           1998,
           1179,
           3020,
           1436,
           1364,
           8659,
           1729,
           6914,
           1688,
           4316,
           1130,
           829,
           3932,
           1339,
           1274,
           4199,
           3693,
           933,
           4603,
           1669,
           2414,
           1328,
           3686,
           3495,
           3140,
           1724,
           2210,
           1814,
           3593,
           4494,
           3186,
           945,
           4507,
           3385,
           5234,
           2643,
           1746,
           1804,
           1138,
           4258,
           1541,
           2034,
           1772,
           2314,
           2159,
           4808,
           1713,
           1987,
           2593,
           1779,
           3481,
           458,
           2623,
           878,
           3430,
           1820
          ],
          [
           4856,
           1929,
           5094,
           4591,
           3669,
           569,
           3303,
           1076,
           1708,
           5676,
           925,
           1798,
           3246,
           2578,
           5629,
           1020,
           1387,
           1114,
           2358,
           319,
           1740,
           1971,
           2246,
           2552,
           440,
           2787,
           1156,
           2279,
           1877,
           3615,
           3562,
           3760,
           3012,
           2452,
           1935,
           1282,
           3532,
           6150,
           1105,
           1754,
           1899,
           2718,
           7534,
           1366,
           700,
           1229,
           1328,
           2488,
           2512,
           1064,
           10194,
           3155,
           2610,
           2863,
           3036,
           1882,
           3514,
           1515,
           638,
           1426,
           1408,
           1700,
           6370
          ]
         ]
        }
       ],
       "layout": {
        "height": 800,
        "template": {
         "data": {
          "bar": [
           {
            "error_x": {
             "color": "#f2f5fa"
            },
            "error_y": {
             "color": "#f2f5fa"
            },
            "marker": {
             "line": {
              "color": "rgb(17,17,17)",
              "width": 0.5
             },
             "pattern": {
              "fillmode": "overlay",
              "size": 10,
              "solidity": 0.2
             }
            },
            "type": "bar"
           }
          ],
          "barpolar": [
           {
            "marker": {
             "line": {
              "color": "rgb(17,17,17)",
              "width": 0.5
             },
             "pattern": {
              "fillmode": "overlay",
              "size": 10,
              "solidity": 0.2
             }
            },
            "type": "barpolar"
           }
          ],
          "carpet": [
           {
            "aaxis": {
             "endlinecolor": "#A2B1C6",
             "gridcolor": "#506784",
             "linecolor": "#506784",
             "minorgridcolor": "#506784",
             "startlinecolor": "#A2B1C6"
            },
            "baxis": {
             "endlinecolor": "#A2B1C6",
             "gridcolor": "#506784",
             "linecolor": "#506784",
             "minorgridcolor": "#506784",
             "startlinecolor": "#A2B1C6"
            },
            "type": "carpet"
           }
          ],
          "choropleth": [
           {
            "colorbar": {
             "outlinewidth": 0,
             "ticks": ""
            },
            "type": "choropleth"
           }
          ],
          "contour": [
           {
            "colorbar": {
             "outlinewidth": 0,
             "ticks": ""
            },
            "colorscale": [
             [
              0,
              "#0d0887"
             ],
             [
              0.1111111111111111,
              "#46039f"
             ],
             [
              0.2222222222222222,
              "#7201a8"
             ],
             [
              0.3333333333333333,
              "#9c179e"
             ],
             [
              0.4444444444444444,
              "#bd3786"
             ],
             [
              0.5555555555555556,
              "#d8576b"
             ],
             [
              0.6666666666666666,
              "#ed7953"
             ],
             [
              0.7777777777777778,
              "#fb9f3a"
             ],
             [
              0.8888888888888888,
              "#fdca26"
             ],
             [
              1,
              "#f0f921"
             ]
            ],
            "type": "contour"
           }
          ],
          "contourcarpet": [
           {
            "colorbar": {
             "outlinewidth": 0,
             "ticks": ""
            },
            "type": "contourcarpet"
           }
          ],
          "heatmap": [
           {
            "colorbar": {
             "outlinewidth": 0,
             "ticks": ""
            },
            "colorscale": [
             [
              0,
              "#0d0887"
             ],
             [
              0.1111111111111111,
              "#46039f"
             ],
             [
              0.2222222222222222,
              "#7201a8"
             ],
             [
              0.3333333333333333,
              "#9c179e"
             ],
             [
              0.4444444444444444,
              "#bd3786"
             ],
             [
              0.5555555555555556,
              "#d8576b"
             ],
             [
              0.6666666666666666,
              "#ed7953"
             ],
             [
              0.7777777777777778,
              "#fb9f3a"
             ],
             [
              0.8888888888888888,
              "#fdca26"
             ],
             [
              1,
              "#f0f921"
             ]
            ],
            "type": "heatmap"
           }
          ],
          "heatmapgl": [
           {
            "colorbar": {
             "outlinewidth": 0,
             "ticks": ""
            },
            "colorscale": [
             [
              0,
              "#0d0887"
             ],
             [
              0.1111111111111111,
              "#46039f"
             ],
             [
              0.2222222222222222,
              "#7201a8"
             ],
             [
              0.3333333333333333,
              "#9c179e"
             ],
             [
              0.4444444444444444,
              "#bd3786"
             ],
             [
              0.5555555555555556,
              "#d8576b"
             ],
             [
              0.6666666666666666,
              "#ed7953"
             ],
             [
              0.7777777777777778,
              "#fb9f3a"
             ],
             [
              0.8888888888888888,
              "#fdca26"
             ],
             [
              1,
              "#f0f921"
             ]
            ],
            "type": "heatmapgl"
           }
          ],
          "histogram": [
           {
            "marker": {
             "pattern": {
              "fillmode": "overlay",
              "size": 10,
              "solidity": 0.2
             }
            },
            "type": "histogram"
           }
          ],
          "histogram2d": [
           {
            "colorbar": {
             "outlinewidth": 0,
             "ticks": ""
            },
            "colorscale": [
             [
              0,
              "#0d0887"
             ],
             [
              0.1111111111111111,
              "#46039f"
             ],
             [
              0.2222222222222222,
              "#7201a8"
             ],
             [
              0.3333333333333333,
              "#9c179e"
             ],
             [
              0.4444444444444444,
              "#bd3786"
             ],
             [
              0.5555555555555556,
              "#d8576b"
             ],
             [
              0.6666666666666666,
              "#ed7953"
             ],
             [
              0.7777777777777778,
              "#fb9f3a"
             ],
             [
              0.8888888888888888,
              "#fdca26"
             ],
             [
              1,
              "#f0f921"
             ]
            ],
            "type": "histogram2d"
           }
          ],
          "histogram2dcontour": [
           {
            "colorbar": {
             "outlinewidth": 0,
             "ticks": ""
            },
            "colorscale": [
             [
              0,
              "#0d0887"
             ],
             [
              0.1111111111111111,
              "#46039f"
             ],
             [
              0.2222222222222222,
              "#7201a8"
             ],
             [
              0.3333333333333333,
              "#9c179e"
             ],
             [
              0.4444444444444444,
              "#bd3786"
             ],
             [
              0.5555555555555556,
              "#d8576b"
             ],
             [
              0.6666666666666666,
              "#ed7953"
             ],
             [
              0.7777777777777778,
              "#fb9f3a"
             ],
             [
              0.8888888888888888,
              "#fdca26"
             ],
             [
              1,
              "#f0f921"
             ]
            ],
            "type": "histogram2dcontour"
           }
          ],
          "mesh3d": [
           {
            "colorbar": {
             "outlinewidth": 0,
             "ticks": ""
            },
            "type": "mesh3d"
           }
          ],
          "parcoords": [
           {
            "line": {
             "colorbar": {
              "outlinewidth": 0,
              "ticks": ""
             }
            },
            "type": "parcoords"
           }
          ],
          "pie": [
           {
            "automargin": true,
            "type": "pie"
           }
          ],
          "scatter": [
           {
            "marker": {
             "line": {
              "color": "#283442"
             }
            },
            "type": "scatter"
           }
          ],
          "scatter3d": [
           {
            "line": {
             "colorbar": {
              "outlinewidth": 0,
              "ticks": ""
             }
            },
            "marker": {
             "colorbar": {
              "outlinewidth": 0,
              "ticks": ""
             }
            },
            "type": "scatter3d"
           }
          ],
          "scattercarpet": [
           {
            "marker": {
             "colorbar": {
              "outlinewidth": 0,
              "ticks": ""
             }
            },
            "type": "scattercarpet"
           }
          ],
          "scattergeo": [
           {
            "marker": {
             "colorbar": {
              "outlinewidth": 0,
              "ticks": ""
             }
            },
            "type": "scattergeo"
           }
          ],
          "scattergl": [
           {
            "marker": {
             "line": {
              "color": "#283442"
             }
            },
            "type": "scattergl"
           }
          ],
          "scattermapbox": [
           {
            "marker": {
             "colorbar": {
              "outlinewidth": 0,
              "ticks": ""
             }
            },
            "type": "scattermapbox"
           }
          ],
          "scatterpolar": [
           {
            "marker": {
             "colorbar": {
              "outlinewidth": 0,
              "ticks": ""
             }
            },
            "type": "scatterpolar"
           }
          ],
          "scatterpolargl": [
           {
            "marker": {
             "colorbar": {
              "outlinewidth": 0,
              "ticks": ""
             }
            },
            "type": "scatterpolargl"
           }
          ],
          "scatterternary": [
           {
            "marker": {
             "colorbar": {
              "outlinewidth": 0,
              "ticks": ""
             }
            },
            "type": "scatterternary"
           }
          ],
          "surface": [
           {
            "colorbar": {
             "outlinewidth": 0,
             "ticks": ""
            },
            "colorscale": [
             [
              0,
              "#0d0887"
             ],
             [
              0.1111111111111111,
              "#46039f"
             ],
             [
              0.2222222222222222,
              "#7201a8"
             ],
             [
              0.3333333333333333,
              "#9c179e"
             ],
             [
              0.4444444444444444,
              "#bd3786"
             ],
             [
              0.5555555555555556,
              "#d8576b"
             ],
             [
              0.6666666666666666,
              "#ed7953"
             ],
             [
              0.7777777777777778,
              "#fb9f3a"
             ],
             [
              0.8888888888888888,
              "#fdca26"
             ],
             [
              1,
              "#f0f921"
             ]
            ],
            "type": "surface"
           }
          ],
          "table": [
           {
            "cells": {
             "fill": {
              "color": "#506784"
             },
             "line": {
              "color": "rgb(17,17,17)"
             }
            },
            "header": {
             "fill": {
              "color": "#2a3f5f"
             },
             "line": {
              "color": "rgb(17,17,17)"
             }
            },
            "type": "table"
           }
          ]
         },
         "layout": {
          "annotationdefaults": {
           "arrowcolor": "#f2f5fa",
           "arrowhead": 0,
           "arrowwidth": 1
          },
          "autotypenumbers": "strict",
          "coloraxis": {
           "colorbar": {
            "outlinewidth": 0,
            "ticks": ""
           }
          },
          "colorscale": {
           "diverging": [
            [
             0,
             "#8e0152"
            ],
            [
             0.1,
             "#c51b7d"
            ],
            [
             0.2,
             "#de77ae"
            ],
            [
             0.3,
             "#f1b6da"
            ],
            [
             0.4,
             "#fde0ef"
            ],
            [
             0.5,
             "#f7f7f7"
            ],
            [
             0.6,
             "#e6f5d0"
            ],
            [
             0.7,
             "#b8e186"
            ],
            [
             0.8,
             "#7fbc41"
            ],
            [
             0.9,
             "#4d9221"
            ],
            [
             1,
             "#276419"
            ]
           ],
           "sequential": [
            [
             0,
             "#0d0887"
            ],
            [
             0.1111111111111111,
             "#46039f"
            ],
            [
             0.2222222222222222,
             "#7201a8"
            ],
            [
             0.3333333333333333,
             "#9c179e"
            ],
            [
             0.4444444444444444,
             "#bd3786"
            ],
            [
             0.5555555555555556,
             "#d8576b"
            ],
            [
             0.6666666666666666,
             "#ed7953"
            ],
            [
             0.7777777777777778,
             "#fb9f3a"
            ],
            [
             0.8888888888888888,
             "#fdca26"
            ],
            [
             1,
             "#f0f921"
            ]
           ],
           "sequentialminus": [
            [
             0,
             "#0d0887"
            ],
            [
             0.1111111111111111,
             "#46039f"
            ],
            [
             0.2222222222222222,
             "#7201a8"
            ],
            [
             0.3333333333333333,
             "#9c179e"
            ],
            [
             0.4444444444444444,
             "#bd3786"
            ],
            [
             0.5555555555555556,
             "#d8576b"
            ],
            [
             0.6666666666666666,
             "#ed7953"
            ],
            [
             0.7777777777777778,
             "#fb9f3a"
            ],
            [
             0.8888888888888888,
             "#fdca26"
            ],
            [
             1,
             "#f0f921"
            ]
           ]
          },
          "colorway": [
           "#636efa",
           "#EF553B",
           "#00cc96",
           "#ab63fa",
           "#FFA15A",
           "#19d3f3",
           "#FF6692",
           "#B6E880",
           "#FF97FF",
           "#FECB52"
          ],
          "font": {
           "color": "#f2f5fa"
          },
          "geo": {
           "bgcolor": "rgb(17,17,17)",
           "lakecolor": "rgb(17,17,17)",
           "landcolor": "rgb(17,17,17)",
           "showlakes": true,
           "showland": true,
           "subunitcolor": "#506784"
          },
          "hoverlabel": {
           "align": "left"
          },
          "hovermode": "closest",
          "mapbox": {
           "style": "dark"
          },
          "paper_bgcolor": "rgb(17,17,17)",
          "plot_bgcolor": "rgb(17,17,17)",
          "polar": {
           "angularaxis": {
            "gridcolor": "#506784",
            "linecolor": "#506784",
            "ticks": ""
           },
           "bgcolor": "rgb(17,17,17)",
           "radialaxis": {
            "gridcolor": "#506784",
            "linecolor": "#506784",
            "ticks": ""
           }
          },
          "scene": {
           "xaxis": {
            "backgroundcolor": "rgb(17,17,17)",
            "gridcolor": "#506784",
            "gridwidth": 2,
            "linecolor": "#506784",
            "showbackground": true,
            "ticks": "",
            "zerolinecolor": "#C8D4E3"
           },
           "yaxis": {
            "backgroundcolor": "rgb(17,17,17)",
            "gridcolor": "#506784",
            "gridwidth": 2,
            "linecolor": "#506784",
            "showbackground": true,
            "ticks": "",
            "zerolinecolor": "#C8D4E3"
           },
           "zaxis": {
            "backgroundcolor": "rgb(17,17,17)",
            "gridcolor": "#506784",
            "gridwidth": 2,
            "linecolor": "#506784",
            "showbackground": true,
            "ticks": "",
            "zerolinecolor": "#C8D4E3"
           }
          },
          "shapedefaults": {
           "line": {
            "color": "#f2f5fa"
           }
          },
          "sliderdefaults": {
           "bgcolor": "#C8D4E3",
           "bordercolor": "rgb(17,17,17)",
           "borderwidth": 1,
           "tickwidth": 0
          },
          "ternary": {
           "aaxis": {
            "gridcolor": "#506784",
            "linecolor": "#506784",
            "ticks": ""
           },
           "baxis": {
            "gridcolor": "#506784",
            "linecolor": "#506784",
            "ticks": ""
           },
           "bgcolor": "rgb(17,17,17)",
           "caxis": {
            "gridcolor": "#506784",
            "linecolor": "#506784",
            "ticks": ""
           }
          },
          "title": {
           "x": 0.05
          },
          "updatemenudefaults": {
           "bgcolor": "#506784",
           "borderwidth": 0
          },
          "xaxis": {
           "automargin": true,
           "gridcolor": "#283442",
           "linecolor": "#506784",
           "ticks": "",
           "title": {
            "standoff": 15
           },
           "zerolinecolor": "#283442",
           "zerolinewidth": 2
          },
          "yaxis": {
           "automargin": true,
           "gridcolor": "#283442",
           "linecolor": "#506784",
           "ticks": "",
           "title": {
            "standoff": 15
           },
           "zerolinecolor": "#283442",
           "zerolinewidth": 2
          }
         }
        },
        "title": {
         "text": "token distribution heatmap for humaneval"
        },
        "width": 1200,
        "xaxis": {
         "title": {
          "text": "Expert Index"
         }
        },
        "yaxis": {
         "title": {
          "text": "Layer"
         }
        }
       }
      }
     },
     "metadata": {},
     "output_type": "display_data"
    }
   ],
   "source": [
    "# Analyze with proper bounds checking\n",
    "fig, count_matrix, token_counts = analyze_dataset(\n",
    "    plot_type='heatmap', # or 'bar'\n",
    "    file_path='dataset/humaneval.txt',\n",
    "    model= model,\n",
    "    tokenizer= tokenizer,\n",
    "    domain='humaneval',\n",
    "    chunk_size=1024,\n",
    "    num_shared_experts=1, \n",
    "    num_topk=7,\n",
    "    force_recompute=False\n",
    "    # layer_id=1 # only for bar plot\n",
    ")\n",
    "\n",
    "fig.show()"
   ]
  },
  {
   "cell_type": "code",
   "execution_count": 24,
   "metadata": {},
   "outputs": [
    {
     "name": "stdout",
     "output_type": "stream",
     "text": [
      "Loading existing results from plots-deepseek/gsm8k_count_matrix.npy\n",
      "Generating visualization from cached data...\n"
     ]
    },
    {
     "data": {
      "application/vnd.plotly.v1+json": {
       "config": {
        "plotlyServerURL": "https://plot.ly"
       },
       "data": [
        {
         "colorscale": [
          [
           0,
           "#440154"
          ],
          [
           0.1111111111111111,
           "#482878"
          ],
          [
           0.2222222222222222,
           "#3e4989"
          ],
          [
           0.3333333333333333,
           "#31688e"
          ],
          [
           0.4444444444444444,
           "#26828e"
          ],
          [
           0.5555555555555556,
           "#1f9e89"
          ],
          [
           0.6666666666666666,
           "#35b779"
          ],
          [
           0.7777777777777778,
           "#6ece58"
          ],
          [
           0.8888888888888888,
           "#b5de2b"
          ],
          [
           1,
           "#fde725"
          ]
         ],
         "hoverongaps": false,
         "hovertemplate": "Layer %{y}<br>Expert %{x}<br>Tokens: %{z:d}<extra></extra>",
         "type": "heatmap",
         "x": [
          "1",
          "2",
          "3",
          "4",
          "5",
          "6",
          "7",
          "8",
          "9",
          "10",
          "11",
          "12",
          "13",
          "14",
          "15",
          "16",
          "17",
          "18",
          "19",
          "20",
          "21",
          "22",
          "23",
          "24",
          "25",
          "26",
          "27",
          "28",
          "29",
          "30",
          "31",
          "32",
          "33",
          "34",
          "35",
          "36",
          "37",
          "38",
          "39",
          "40",
          "41",
          "42",
          "43",
          "44",
          "45",
          "46",
          "47",
          "48",
          "49",
          "50",
          "51",
          "52",
          "53",
          "54",
          "55",
          "56",
          "57",
          "58",
          "59",
          "60",
          "61",
          "62",
          "63"
         ],
         "y": [
          "1",
          "2",
          "3",
          "4",
          "5",
          "6",
          "7",
          "8",
          "9",
          "10",
          "11",
          "12",
          "13",
          "14",
          "15",
          "16",
          "17",
          "18",
          "19",
          "20",
          "21",
          "22",
          "23",
          "24",
          "25",
          "26",
          "27"
         ],
         "z": [
          [
           90248,
           25534,
           55632,
           18808,
           46270,
           54953,
           23355,
           44273,
           20996,
           47414,
           24080,
           28543,
           20955,
           33804,
           62139,
           191750,
           24271,
           25279,
           99437,
           20166,
           97361,
           45687,
           47810,
           20780,
           239589,
           85637,
           54069,
           38582,
           30155,
           29653,
           28104,
           356708,
           4606,
           139320,
           42949,
           74098,
           21476,
           39000,
           48006,
           23272,
           87694,
           53659,
           29305,
           17033,
           32416,
           23016,
           53086,
           73676,
           31983,
           24970,
           31709,
           3067,
           18509,
           94062,
           109386,
           33217,
           24847,
           243241,
           28865,
           41848,
           96373,
           81685,
           9796
          ],
          [
           66482,
           63482,
           29815,
           49363,
           62385,
           54828,
           172886,
           41423,
           43331,
           33584,
           30887,
           37936,
           44223,
           71575,
           15460,
           66580,
           53412,
           74341,
           39035,
           22597,
           80294,
           20552,
           49077,
           73997,
           26592,
           34054,
           49610,
           171162,
           26721,
           25579,
           38161,
           36789,
           70102,
           18203,
           29524,
           43157,
           45171,
           21772,
           38089,
           72709,
           66666,
           14284,
           24700,
           196736,
           20676,
           11285,
           32415,
           45325,
           13091,
           41527,
           32377,
           93392,
           29118,
           98330,
           197124,
           40892,
           391944,
           95649,
           4542,
           21943,
           74726,
           47409,
           26662
          ],
          [
           34933,
           91008,
           78853,
           37513,
           38047,
           233291,
           63809,
           21873,
           37685,
           83623,
           40926,
           163889,
           24650,
           58779,
           55644,
           31923,
           18031,
           44103,
           27593,
           56683,
           33019,
           53910,
           40396,
           30635,
           21073,
           58189,
           55176,
           68018,
           35299,
           48268,
           316937,
           48084,
           35287,
           34690,
           69405,
           53730,
           39873,
           43151,
           26740,
           128315,
           37380,
           44013,
           84967,
           48223,
           21578,
           61310,
           46140,
           33697,
           22751,
           27451,
           89710,
           77851,
           52433,
           54225,
           114294,
           41105,
           39148,
           35872,
           29676,
           30731,
           35404,
           55879,
           110366
          ],
          [
           33413,
           48462,
           32799,
           130568,
           103341,
           39748,
           20561,
           50564,
           36414,
           32640,
           26526,
           30287,
           18815,
           67405,
           21648,
           20804,
           85301,
           55399,
           41190,
           79091,
           187478,
           62683,
           70147,
           19998,
           30245,
           25345,
           16300,
           72040,
           54721,
           235076,
           37513,
           64694,
           99287,
           54505,
           33342,
           161356,
           12684,
           80405,
           31293,
           132901,
           122194,
           42020,
           79770,
           42910,
           21878,
           34541,
           22579,
           32885,
           60340,
           40522,
           28675,
           88645,
           78045,
           47441,
           28279,
           59124,
           30042,
           19068,
           31274,
           50502,
           40215,
           61546,
           98519
          ],
          [
           176195,
           75859,
           19111,
           50730,
           30312,
           35912,
           55614,
           38336,
           49813,
           52201,
           39331,
           37498,
           26850,
           54262,
           89586,
           46358,
           23269,
           49476,
           37625,
           54522,
           142824,
           28229,
           86336,
           27383,
           31399,
           51636,
           46199,
           75545,
           105544,
           53167,
           48445,
           69656,
           59402,
           81116,
           39433,
           83534,
           91902,
           52391,
           63923,
           20753,
           39724,
           18332,
           44278,
           51537,
           82470,
           52929,
           75019,
           39778,
           49934,
           46163,
           136701,
           35450,
           74137,
           60406,
           52740,
           64511,
           55510,
           20747,
           64025,
           30787,
           54409,
           44829,
           51309
          ],
          [
           87081,
           51306,
           148730,
           9936,
           60391,
           65654,
           46625,
           96562,
           71757,
           20173,
           66691,
           36764,
           41478,
           39835,
           26344,
           51214,
           14067,
           34797,
           102956,
           22027,
           41991,
           89507,
           22168,
           137808,
           45561,
           13463,
           34853,
           115090,
           88575,
           12054,
           52851,
           54450,
           139892,
           38369,
           13226,
           22470,
           13153,
           55310,
           69777,
           39810,
           60175,
           46602,
           64195,
           22397,
           22949,
           110289,
           40551,
           37048,
           41578,
           50365,
           41962,
           49467,
           63493,
           74381,
           47474,
           279743,
           65187,
           46591,
           52981,
           29768,
           72578,
           67641,
           52050
          ],
          [
           19194,
           26275,
           43012,
           44802,
           186863,
           28486,
           27155,
           56512,
           42884,
           47187,
           61108,
           38958,
           69472,
           20724,
           29241,
           49467,
           41586,
           78956,
           36415,
           75260,
           89329,
           116848,
           84502,
           126236,
           70448,
           6662,
           74947,
           56449,
           143638,
           143804,
           44100,
           68204,
           47366,
           23505,
           32891,
           28199,
           52795,
           27419,
           44579,
           63686,
           49572,
           60997,
           56026,
           50605,
           76641,
           47905,
           116465,
           45435,
           7380,
           24686,
           52112,
           90023,
           46130,
           79092,
           70749,
           25400,
           56186,
           10172,
           79544,
           51738,
           40646,
           39959,
           108280
          ],
          [
           44259,
           49385,
           54674,
           42745,
           90262,
           53700,
           185325,
           3335,
           39001,
           90804,
           28967,
           41302,
           18313,
           9111,
           57241,
           133160,
           88608,
           12535,
           4054,
           82500,
           75296,
           69803,
           7974,
           44481,
           108109,
           28520,
           24152,
           44932,
           66990,
           62124,
           59191,
           71495,
           49775,
           5526,
           63822,
           67501,
           60041,
           55695,
           161993,
           14331,
           23622,
           34965,
           64614,
           71239,
           21343,
           135333,
           25263,
           142243,
           74149,
           30819,
           64052,
           36496,
           54828,
           51305,
           35620,
           30857,
           52250,
           49957,
           69107,
           68624,
           77696,
           74042,
           101320
          ],
          [
           27595,
           89937,
           112648,
           75066,
           36927,
           41315,
           10330,
           7810,
           14010,
           45896,
           38888,
           20475,
           46266,
           28488,
           37464,
           79876,
           264302,
           46406,
           73568,
           115446,
           54676,
           52066,
           67359,
           102080,
           82712,
           75461,
           28247,
           32319,
           99876,
           63278,
           105394,
           54541,
           74887,
           64916,
           67021,
           10044,
           45603,
           61513,
           16049,
           58737,
           41827,
           234409,
           67706,
           20788,
           49066,
           12966,
           5793,
           62177,
           5125,
           11018,
           57463,
           35749,
           50871,
           27063,
           40377,
           35554,
           46721,
           47067,
           258324,
           47980,
           21459,
           18300,
           38708
          ],
          [
           34063,
           59814,
           277166,
           46718,
           61365,
           126089,
           49386,
           14064,
           32880,
           65425,
           37666,
           12069,
           108139,
           40400,
           11384,
           42228,
           97171,
           48464,
           61953,
           56789,
           58613,
           28600,
           19813,
           35859,
           40728,
           78425,
           95560,
           34385,
           29812,
           55881,
           136389,
           70019,
           5780,
           33968,
           45009,
           63162,
           87368,
           93632,
           38003,
           54777,
           47502,
           39061,
           12436,
           128069,
           12594,
           28168,
           20374,
           20487,
           6337,
           51734,
           54333,
           41918,
           80941,
           61856,
           66414,
           61827,
           26853,
           38323,
           45130,
           277299,
           42588,
           23044,
           48845
          ],
          [
           67347,
           69465,
           25722,
           53715,
           2431,
           26360,
           63081,
           5316,
           76216,
           26553,
           24948,
           46374,
           72298,
           114228,
           23076,
           34276,
           13950,
           78259,
           103483,
           40793,
           91643,
           52252,
           53345,
           99103,
           22178,
           19249,
           76643,
           37526,
           41064,
           68207,
           35194,
           136708,
           23447,
           56311,
           92885,
           26038,
           128652,
           56684,
           141831,
           111956,
           47425,
           24177,
           50499,
           84749,
           16982,
           171124,
           19413,
           64432,
           45618,
           47050,
           34765,
           86530,
           21189,
           75919,
           69564,
           48095,
           23462,
           77437,
           35694,
           11470,
           203599,
           51715,
           20456
          ],
          [
           2452,
           181742,
           51989,
           8964,
           32361,
           64227,
           98483,
           82448,
           21474,
           51544,
           80652,
           62806,
           29008,
           24224,
           28634,
           58582,
           12948,
           53623,
           19827,
           53089,
           75280,
           37362,
           1579,
           133568,
           15026,
           27766,
           58194,
           207326,
           90615,
           47604,
           27472,
           39823,
           82003,
           32688,
           44255,
           101071,
           39659,
           60951,
           150815,
           67181,
           77785,
           30618,
           53532,
           181815,
           32784,
           27402,
           26775,
           6361,
           83266,
           54673,
           35543,
           38592,
           94399,
           16431,
           56827,
           90508,
           57663,
           29670,
           53554,
           49281,
           63143,
           74459,
           99150
          ],
          [
           19586,
           40574,
           77339,
           24860,
           84646,
           39465,
           52236,
           33702,
           8528,
           84773,
           46996,
           25841,
           2977,
           28482,
           42481,
           20465,
           45575,
           18793,
           103010,
           19659,
           47563,
           47881,
           45541,
           31010,
           33669,
           78385,
           57841,
           27657,
           10857,
           36080,
           37233,
           45507,
           10608,
           293493,
           368440,
           36970,
           30652,
           49760,
           96423,
           19457,
           70829,
           118378,
           125746,
           51060,
           73360,
           24183,
           81858,
           74689,
           30112,
           11350,
           14663,
           39778,
           71393,
           25806,
           12718,
           178575,
           141154,
           86137,
           72137,
           8167,
           27883,
           26911,
           86250
          ],
          [
           43526,
           45387,
           122045,
           24157,
           148883,
           62962,
           58383,
           112977,
           49485,
           49831,
           13765,
           22005,
           65582,
           17215,
           36174,
           73994,
           181555,
           58146,
           77596,
           38318,
           59623,
           31396,
           21444,
           26969,
           60397,
           47181,
           26627,
           54680,
           68349,
           68193,
           79910,
           16617,
           12652,
           41849,
           88895,
           33266,
           65098,
           11615,
           21982,
           11444,
           21721,
           46603,
           59942,
           24038,
           406751,
           230354,
           26791,
           15556,
           54311,
           19667,
           33755,
           75972,
           86625,
           23499,
           69173,
           46175,
           36703,
           49022,
           16154,
           24839,
           24691,
           24319,
           41299
          ],
          [
           65071,
           63787,
           27118,
           22201,
           20890,
           17171,
           40465,
           15790,
           43816,
           35809,
           18578,
           29263,
           10305,
           68994,
           33473,
           161215,
           36173,
           62355,
           42472,
           155614,
           21302,
           69513,
           65131,
           10980,
           56701,
           69592,
           31994,
           182278,
           418041,
           16658,
           29240,
           74565,
           101900,
           58124,
           41999,
           35796,
           47321,
           15611,
           95260,
           13914,
           160729,
           7951,
           35218,
           11253,
           69343,
           27142,
           150225,
           56279,
           37405,
           36520,
           13292,
           19794,
           31198,
           60949,
           12043,
           29170,
           44505,
           68166,
           53075,
           200136,
           49858,
           72659,
           17637
          ],
          [
           14572,
           30794,
           62083,
           34365,
           154401,
           74745,
           20188,
           29837,
           51067,
           45479,
           45940,
           71624,
           32727,
           49080,
           24836,
           53779,
           12299,
           61658,
           64548,
           159897,
           35229,
           57991,
           161659,
           86034,
           62558,
           30547,
           40521,
           49655,
           39673,
           94169,
           63915,
           132962,
           16651,
           33501,
           65584,
           34913,
           22759,
           51737,
           120171,
           6561,
           159421,
           6404,
           142323,
           7958,
           68975,
           44941,
           102985,
           29002,
           30839,
           169216,
           9771,
           16547,
           66936,
           93965,
           10285,
           52908,
           16953,
           76412,
           70122,
           20676,
           91109,
           57349,
           16616
          ],
          [
           94594,
           63890,
           57973,
           43643,
           46420,
           84960,
           28653,
           112604,
           12438,
           35245,
           194077,
           87907,
           34921,
           69569,
           36316,
           43558,
           84708,
           53584,
           42879,
           48569,
           42500,
           14963,
           42110,
           23177,
           25576,
           94903,
           90563,
           41942,
           63602,
           71776,
           21932,
           74482,
           30141,
           4653,
           43765,
           34524,
           44542,
           15024,
           69631,
           28498,
           16283,
           57573,
           207154,
           16952,
           61712,
           136276,
           71673,
           10433,
           80664,
           16661,
           12307,
           60971,
           48923,
           151061,
           49333,
           114383,
           56531,
           111498,
           50058,
           49041,
           25090,
           12231,
           46862
          ],
          [
           42884,
           59420,
           112137,
           26053,
           35553,
           129694,
           50929,
           13625,
           42729,
           24006,
           104119,
           131767,
           36704,
           4314,
           44636,
           200356,
           16787,
           22602,
           206462,
           19582,
           50503,
           21648,
           49173,
           47985,
           45902,
           85989,
           25975,
           45029,
           78675,
           51285,
           30426,
           61578,
           30831,
           65076,
           44468,
           28272,
           60083,
           22551,
           43919,
           55828,
           4048,
           15523,
           39467,
           83847,
           95433,
           27526,
           69046,
           51219,
           39373,
           83238,
           56348,
           72770,
           54800,
           42839,
           21059,
           51892,
           66437,
           197933,
           41225,
           75690,
           28264,
           84942,
           31636
          ],
          [
           76113,
           59305,
           41411,
           38789,
           92151,
           71388,
           41749,
           47069,
           18784,
           56031,
           131297,
           101823,
           73947,
           61185,
           57675,
           110544,
           45543,
           46484,
           43202,
           36983,
           194154,
           55713,
           47407,
           66487,
           49262,
           72546,
           26245,
           125254,
           110722,
           5750,
           44770,
           45701,
           53459,
           68037,
           38204,
           13157,
           92587,
           238929,
           85248,
           31404,
           51101,
           17424,
           8680,
           92546,
           41139,
           44741,
           39459,
           42445,
           22842,
           74434,
           32645,
           76904,
           15081,
           48796,
           59009,
           31309,
           46242,
           77627,
           18169,
           12220,
           17944,
           95032,
           16904
          ],
          [
           113367,
           2152,
           41291,
           118017,
           15281,
           49135,
           24100,
           34386,
           49135,
           9772,
           59684,
           108406,
           43757,
           23581,
           61582,
           112067,
           44323,
           48287,
           80680,
           14607,
           7800,
           19165,
           41751,
           48865,
           63853,
           80865,
           77428,
           110510,
           87368,
           46786,
           53452,
           39593,
           141428,
           30964,
           81453,
           199912,
           66218,
           223598,
           85927,
           8172,
           46466,
           6307,
           69240,
           46828,
           49566,
           1148,
           23127,
           64227,
           63957,
           25055,
           79768,
           27218,
           15085,
           49938,
           11849,
           32952,
           63602,
           38272,
           41204,
           177505,
           42610,
           61187,
           48240
          ],
          [
           25597,
           27724,
           279750,
           58755,
           133436,
           92607,
           9184,
           13738,
           17333,
           17234,
           75412,
           45245,
           111960,
           47507,
           47399,
           7296,
           31966,
           87189,
           34358,
           61987,
           77017,
           14636,
           56256,
           35782,
           43593,
           4358,
           38324,
           153255,
           77269,
           46822,
           172155,
           49512,
           43665,
           73791,
           48096,
           43860,
           113991,
           247108,
           52372,
           8368,
           48294,
           76691,
           39619,
           145624,
           7028,
           40387,
           41637,
           18524,
           24941,
           16662,
           111756,
           27688,
           29207,
           14835,
           19488,
           86366,
           28851,
           25374,
           84243,
           22056,
           3061,
           65524,
           68664
          ],
          [
           8603,
           35089,
           17212,
           48440,
           122548,
           75724,
           19978,
           62507,
           61298,
           33774,
           18965,
           41595,
           43782,
           43280,
           129248,
           41531,
           207933,
           13840,
           39923,
           276021,
           92055,
           41994,
           69069,
           66983,
           52862,
           18607,
           28331,
           45409,
           47859,
           49712,
           4541,
           94796,
           13466,
           127341,
           59585,
           47494,
           63806,
           3344,
           107336,
           74399,
           28348,
           77189,
           44585,
           53636,
           15115,
           72001,
           48203,
           36651,
           24533,
           20438,
           81419,
           38122,
           130681,
           25800,
           45781,
           56366,
           38873,
           162816,
           33755,
           105321,
           34011,
           25914,
           25862
          ],
          [
           45887,
           55568,
           171905,
           47912,
           37597,
           70857,
           88682,
           55731,
           50540,
           68148,
           4105,
           105244,
           56831,
           59319,
           31076,
           76914,
           55599,
           20416,
           107932,
           16439,
           78216,
           74862,
           48338,
           46269,
           12611,
           41068,
           52392,
           46265,
           32873,
           29233,
           50948,
           202859,
           51284,
           44757,
           46314,
           73511,
           51780,
           75202,
           47939,
           16189,
           54983,
           32621,
           36863,
           79781,
           33534,
           46062,
           220488,
           10287,
           60743,
           39667,
           63264,
           73344,
           43389,
           6690,
           39474,
           26750,
           116669,
           82520,
           33052,
           41689,
           141061,
           15492,
           32850
          ],
          [
           39484,
           82269,
           9649,
           104028,
           99699,
           61431,
           112257,
           22651,
           37940,
           107448,
           43631,
           51988,
           8920,
           83812,
           68609,
           61424,
           27340,
           47108,
           71728,
           33899,
           42166,
           25346,
           54011,
           38589,
           70639,
           17461,
           51897,
           44712,
           41378,
           1194,
           33520,
           65933,
           89034,
           8951,
           39349,
           24269,
           77169,
           183416,
           45396,
           32861,
           87853,
           86400,
           11127,
           16741,
           28824,
           289105,
           15194,
           11831,
           31535,
           37873,
           36298,
           60962,
           29602,
           97338,
           9475,
           72216,
           17247,
           38151,
           130571,
           230828,
           18695,
           35711,
           62412
          ],
          [
           37650,
           87468,
           67083,
           17805,
           15239,
           161657,
           44071,
           246576,
           102137,
           68849,
           55593,
           89605,
           69639,
           26205,
           77653,
           35628,
           30890,
           41454,
           22334,
           17191,
           30323,
           8007,
           77936,
           98173,
           87413,
           164967,
           39005,
           99861,
           104280,
           14053,
           50521,
           22931,
           66465,
           7805,
           20183,
           31031,
           8749,
           66421,
           25207,
           68463,
           255036,
           47263,
           21494,
           9620,
           20179,
           27475,
           68200,
           42329,
           51169,
           47063,
           53597,
           58539,
           44132,
           40400,
           30782,
           8862,
           51060,
           58928,
           94842,
           108495,
           56598,
           61546,
           31366
          ],
          [
           74371,
           165942,
           89100,
           12357,
           160761,
           23447,
           93294,
           62427,
           26410,
           29266,
           79407,
           22588,
           197803,
           71731,
           139919,
           37011,
           45393,
           10516,
           32284,
           26335,
           90550,
           51200,
           60793,
           33481,
           11859,
           57153,
           51812,
           32399,
           37821,
           55613,
           47824,
           46150,
           36135,
           32848,
           16077,
           37314,
           78405,
           33491,
           12575,
           124421,
           37285,
           82465,
           42208,
           64618,
           38739,
           54569,
           36728,
           52766,
           6037,
           48040,
           19946,
           69312,
           104593,
           69599,
           91108,
           13665,
           64932,
           102403,
           3650,
           51610,
           6992,
           158749,
           25689
          ],
          [
           126674,
           53649,
           50087,
           189499,
           58968,
           13247,
           76618,
           45405,
           49512,
           91662,
           24932,
           48157,
           61145,
           59388,
           42893,
           53949,
           38797,
           42274,
           98919,
           21948,
           80302,
           57249,
           68399,
           40623,
           27356,
           101409,
           15177,
           28770,
           21299,
           98334,
           42138,
           34879,
           52737,
           70110,
           73455,
           22458,
           72838,
           106153,
           40823,
           65785,
           65807,
           47311,
           79589,
           41732,
           22225,
           60492,
           31492,
           52367,
           15373,
           36683,
           140114,
           50030,
           39284,
           54961,
           77942,
           18663,
           45130,
           22905,
           33682,
           52953,
           38520,
           59724,
           144022
          ]
         ]
        }
       ],
       "layout": {
        "height": 800,
        "template": {
         "data": {
          "bar": [
           {
            "error_x": {
             "color": "#f2f5fa"
            },
            "error_y": {
             "color": "#f2f5fa"
            },
            "marker": {
             "line": {
              "color": "rgb(17,17,17)",
              "width": 0.5
             },
             "pattern": {
              "fillmode": "overlay",
              "size": 10,
              "solidity": 0.2
             }
            },
            "type": "bar"
           }
          ],
          "barpolar": [
           {
            "marker": {
             "line": {
              "color": "rgb(17,17,17)",
              "width": 0.5
             },
             "pattern": {
              "fillmode": "overlay",
              "size": 10,
              "solidity": 0.2
             }
            },
            "type": "barpolar"
           }
          ],
          "carpet": [
           {
            "aaxis": {
             "endlinecolor": "#A2B1C6",
             "gridcolor": "#506784",
             "linecolor": "#506784",
             "minorgridcolor": "#506784",
             "startlinecolor": "#A2B1C6"
            },
            "baxis": {
             "endlinecolor": "#A2B1C6",
             "gridcolor": "#506784",
             "linecolor": "#506784",
             "minorgridcolor": "#506784",
             "startlinecolor": "#A2B1C6"
            },
            "type": "carpet"
           }
          ],
          "choropleth": [
           {
            "colorbar": {
             "outlinewidth": 0,
             "ticks": ""
            },
            "type": "choropleth"
           }
          ],
          "contour": [
           {
            "colorbar": {
             "outlinewidth": 0,
             "ticks": ""
            },
            "colorscale": [
             [
              0,
              "#0d0887"
             ],
             [
              0.1111111111111111,
              "#46039f"
             ],
             [
              0.2222222222222222,
              "#7201a8"
             ],
             [
              0.3333333333333333,
              "#9c179e"
             ],
             [
              0.4444444444444444,
              "#bd3786"
             ],
             [
              0.5555555555555556,
              "#d8576b"
             ],
             [
              0.6666666666666666,
              "#ed7953"
             ],
             [
              0.7777777777777778,
              "#fb9f3a"
             ],
             [
              0.8888888888888888,
              "#fdca26"
             ],
             [
              1,
              "#f0f921"
             ]
            ],
            "type": "contour"
           }
          ],
          "contourcarpet": [
           {
            "colorbar": {
             "outlinewidth": 0,
             "ticks": ""
            },
            "type": "contourcarpet"
           }
          ],
          "heatmap": [
           {
            "colorbar": {
             "outlinewidth": 0,
             "ticks": ""
            },
            "colorscale": [
             [
              0,
              "#0d0887"
             ],
             [
              0.1111111111111111,
              "#46039f"
             ],
             [
              0.2222222222222222,
              "#7201a8"
             ],
             [
              0.3333333333333333,
              "#9c179e"
             ],
             [
              0.4444444444444444,
              "#bd3786"
             ],
             [
              0.5555555555555556,
              "#d8576b"
             ],
             [
              0.6666666666666666,
              "#ed7953"
             ],
             [
              0.7777777777777778,
              "#fb9f3a"
             ],
             [
              0.8888888888888888,
              "#fdca26"
             ],
             [
              1,
              "#f0f921"
             ]
            ],
            "type": "heatmap"
           }
          ],
          "heatmapgl": [
           {
            "colorbar": {
             "outlinewidth": 0,
             "ticks": ""
            },
            "colorscale": [
             [
              0,
              "#0d0887"
             ],
             [
              0.1111111111111111,
              "#46039f"
             ],
             [
              0.2222222222222222,
              "#7201a8"
             ],
             [
              0.3333333333333333,
              "#9c179e"
             ],
             [
              0.4444444444444444,
              "#bd3786"
             ],
             [
              0.5555555555555556,
              "#d8576b"
             ],
             [
              0.6666666666666666,
              "#ed7953"
             ],
             [
              0.7777777777777778,
              "#fb9f3a"
             ],
             [
              0.8888888888888888,
              "#fdca26"
             ],
             [
              1,
              "#f0f921"
             ]
            ],
            "type": "heatmapgl"
           }
          ],
          "histogram": [
           {
            "marker": {
             "pattern": {
              "fillmode": "overlay",
              "size": 10,
              "solidity": 0.2
             }
            },
            "type": "histogram"
           }
          ],
          "histogram2d": [
           {
            "colorbar": {
             "outlinewidth": 0,
             "ticks": ""
            },
            "colorscale": [
             [
              0,
              "#0d0887"
             ],
             [
              0.1111111111111111,
              "#46039f"
             ],
             [
              0.2222222222222222,
              "#7201a8"
             ],
             [
              0.3333333333333333,
              "#9c179e"
             ],
             [
              0.4444444444444444,
              "#bd3786"
             ],
             [
              0.5555555555555556,
              "#d8576b"
             ],
             [
              0.6666666666666666,
              "#ed7953"
             ],
             [
              0.7777777777777778,
              "#fb9f3a"
             ],
             [
              0.8888888888888888,
              "#fdca26"
             ],
             [
              1,
              "#f0f921"
             ]
            ],
            "type": "histogram2d"
           }
          ],
          "histogram2dcontour": [
           {
            "colorbar": {
             "outlinewidth": 0,
             "ticks": ""
            },
            "colorscale": [
             [
              0,
              "#0d0887"
             ],
             [
              0.1111111111111111,
              "#46039f"
             ],
             [
              0.2222222222222222,
              "#7201a8"
             ],
             [
              0.3333333333333333,
              "#9c179e"
             ],
             [
              0.4444444444444444,
              "#bd3786"
             ],
             [
              0.5555555555555556,
              "#d8576b"
             ],
             [
              0.6666666666666666,
              "#ed7953"
             ],
             [
              0.7777777777777778,
              "#fb9f3a"
             ],
             [
              0.8888888888888888,
              "#fdca26"
             ],
             [
              1,
              "#f0f921"
             ]
            ],
            "type": "histogram2dcontour"
           }
          ],
          "mesh3d": [
           {
            "colorbar": {
             "outlinewidth": 0,
             "ticks": ""
            },
            "type": "mesh3d"
           }
          ],
          "parcoords": [
           {
            "line": {
             "colorbar": {
              "outlinewidth": 0,
              "ticks": ""
             }
            },
            "type": "parcoords"
           }
          ],
          "pie": [
           {
            "automargin": true,
            "type": "pie"
           }
          ],
          "scatter": [
           {
            "marker": {
             "line": {
              "color": "#283442"
             }
            },
            "type": "scatter"
           }
          ],
          "scatter3d": [
           {
            "line": {
             "colorbar": {
              "outlinewidth": 0,
              "ticks": ""
             }
            },
            "marker": {
             "colorbar": {
              "outlinewidth": 0,
              "ticks": ""
             }
            },
            "type": "scatter3d"
           }
          ],
          "scattercarpet": [
           {
            "marker": {
             "colorbar": {
              "outlinewidth": 0,
              "ticks": ""
             }
            },
            "type": "scattercarpet"
           }
          ],
          "scattergeo": [
           {
            "marker": {
             "colorbar": {
              "outlinewidth": 0,
              "ticks": ""
             }
            },
            "type": "scattergeo"
           }
          ],
          "scattergl": [
           {
            "marker": {
             "line": {
              "color": "#283442"
             }
            },
            "type": "scattergl"
           }
          ],
          "scattermapbox": [
           {
            "marker": {
             "colorbar": {
              "outlinewidth": 0,
              "ticks": ""
             }
            },
            "type": "scattermapbox"
           }
          ],
          "scatterpolar": [
           {
            "marker": {
             "colorbar": {
              "outlinewidth": 0,
              "ticks": ""
             }
            },
            "type": "scatterpolar"
           }
          ],
          "scatterpolargl": [
           {
            "marker": {
             "colorbar": {
              "outlinewidth": 0,
              "ticks": ""
             }
            },
            "type": "scatterpolargl"
           }
          ],
          "scatterternary": [
           {
            "marker": {
             "colorbar": {
              "outlinewidth": 0,
              "ticks": ""
             }
            },
            "type": "scatterternary"
           }
          ],
          "surface": [
           {
            "colorbar": {
             "outlinewidth": 0,
             "ticks": ""
            },
            "colorscale": [
             [
              0,
              "#0d0887"
             ],
             [
              0.1111111111111111,
              "#46039f"
             ],
             [
              0.2222222222222222,
              "#7201a8"
             ],
             [
              0.3333333333333333,
              "#9c179e"
             ],
             [
              0.4444444444444444,
              "#bd3786"
             ],
             [
              0.5555555555555556,
              "#d8576b"
             ],
             [
              0.6666666666666666,
              "#ed7953"
             ],
             [
              0.7777777777777778,
              "#fb9f3a"
             ],
             [
              0.8888888888888888,
              "#fdca26"
             ],
             [
              1,
              "#f0f921"
             ]
            ],
            "type": "surface"
           }
          ],
          "table": [
           {
            "cells": {
             "fill": {
              "color": "#506784"
             },
             "line": {
              "color": "rgb(17,17,17)"
             }
            },
            "header": {
             "fill": {
              "color": "#2a3f5f"
             },
             "line": {
              "color": "rgb(17,17,17)"
             }
            },
            "type": "table"
           }
          ]
         },
         "layout": {
          "annotationdefaults": {
           "arrowcolor": "#f2f5fa",
           "arrowhead": 0,
           "arrowwidth": 1
          },
          "autotypenumbers": "strict",
          "coloraxis": {
           "colorbar": {
            "outlinewidth": 0,
            "ticks": ""
           }
          },
          "colorscale": {
           "diverging": [
            [
             0,
             "#8e0152"
            ],
            [
             0.1,
             "#c51b7d"
            ],
            [
             0.2,
             "#de77ae"
            ],
            [
             0.3,
             "#f1b6da"
            ],
            [
             0.4,
             "#fde0ef"
            ],
            [
             0.5,
             "#f7f7f7"
            ],
            [
             0.6,
             "#e6f5d0"
            ],
            [
             0.7,
             "#b8e186"
            ],
            [
             0.8,
             "#7fbc41"
            ],
            [
             0.9,
             "#4d9221"
            ],
            [
             1,
             "#276419"
            ]
           ],
           "sequential": [
            [
             0,
             "#0d0887"
            ],
            [
             0.1111111111111111,
             "#46039f"
            ],
            [
             0.2222222222222222,
             "#7201a8"
            ],
            [
             0.3333333333333333,
             "#9c179e"
            ],
            [
             0.4444444444444444,
             "#bd3786"
            ],
            [
             0.5555555555555556,
             "#d8576b"
            ],
            [
             0.6666666666666666,
             "#ed7953"
            ],
            [
             0.7777777777777778,
             "#fb9f3a"
            ],
            [
             0.8888888888888888,
             "#fdca26"
            ],
            [
             1,
             "#f0f921"
            ]
           ],
           "sequentialminus": [
            [
             0,
             "#0d0887"
            ],
            [
             0.1111111111111111,
             "#46039f"
            ],
            [
             0.2222222222222222,
             "#7201a8"
            ],
            [
             0.3333333333333333,
             "#9c179e"
            ],
            [
             0.4444444444444444,
             "#bd3786"
            ],
            [
             0.5555555555555556,
             "#d8576b"
            ],
            [
             0.6666666666666666,
             "#ed7953"
            ],
            [
             0.7777777777777778,
             "#fb9f3a"
            ],
            [
             0.8888888888888888,
             "#fdca26"
            ],
            [
             1,
             "#f0f921"
            ]
           ]
          },
          "colorway": [
           "#636efa",
           "#EF553B",
           "#00cc96",
           "#ab63fa",
           "#FFA15A",
           "#19d3f3",
           "#FF6692",
           "#B6E880",
           "#FF97FF",
           "#FECB52"
          ],
          "font": {
           "color": "#f2f5fa"
          },
          "geo": {
           "bgcolor": "rgb(17,17,17)",
           "lakecolor": "rgb(17,17,17)",
           "landcolor": "rgb(17,17,17)",
           "showlakes": true,
           "showland": true,
           "subunitcolor": "#506784"
          },
          "hoverlabel": {
           "align": "left"
          },
          "hovermode": "closest",
          "mapbox": {
           "style": "dark"
          },
          "paper_bgcolor": "rgb(17,17,17)",
          "plot_bgcolor": "rgb(17,17,17)",
          "polar": {
           "angularaxis": {
            "gridcolor": "#506784",
            "linecolor": "#506784",
            "ticks": ""
           },
           "bgcolor": "rgb(17,17,17)",
           "radialaxis": {
            "gridcolor": "#506784",
            "linecolor": "#506784",
            "ticks": ""
           }
          },
          "scene": {
           "xaxis": {
            "backgroundcolor": "rgb(17,17,17)",
            "gridcolor": "#506784",
            "gridwidth": 2,
            "linecolor": "#506784",
            "showbackground": true,
            "ticks": "",
            "zerolinecolor": "#C8D4E3"
           },
           "yaxis": {
            "backgroundcolor": "rgb(17,17,17)",
            "gridcolor": "#506784",
            "gridwidth": 2,
            "linecolor": "#506784",
            "showbackground": true,
            "ticks": "",
            "zerolinecolor": "#C8D4E3"
           },
           "zaxis": {
            "backgroundcolor": "rgb(17,17,17)",
            "gridcolor": "#506784",
            "gridwidth": 2,
            "linecolor": "#506784",
            "showbackground": true,
            "ticks": "",
            "zerolinecolor": "#C8D4E3"
           }
          },
          "shapedefaults": {
           "line": {
            "color": "#f2f5fa"
           }
          },
          "sliderdefaults": {
           "bgcolor": "#C8D4E3",
           "bordercolor": "rgb(17,17,17)",
           "borderwidth": 1,
           "tickwidth": 0
          },
          "ternary": {
           "aaxis": {
            "gridcolor": "#506784",
            "linecolor": "#506784",
            "ticks": ""
           },
           "baxis": {
            "gridcolor": "#506784",
            "linecolor": "#506784",
            "ticks": ""
           },
           "bgcolor": "rgb(17,17,17)",
           "caxis": {
            "gridcolor": "#506784",
            "linecolor": "#506784",
            "ticks": ""
           }
          },
          "title": {
           "x": 0.05
          },
          "updatemenudefaults": {
           "bgcolor": "#506784",
           "borderwidth": 0
          },
          "xaxis": {
           "automargin": true,
           "gridcolor": "#283442",
           "linecolor": "#506784",
           "ticks": "",
           "title": {
            "standoff": 15
           },
           "zerolinecolor": "#283442",
           "zerolinewidth": 2
          },
          "yaxis": {
           "automargin": true,
           "gridcolor": "#283442",
           "linecolor": "#506784",
           "ticks": "",
           "title": {
            "standoff": 15
           },
           "zerolinecolor": "#283442",
           "zerolinewidth": 2
          }
         }
        },
        "title": {
         "text": "token distribution heatmap for gsm8k"
        },
        "width": 1200,
        "xaxis": {
         "title": {
          "text": "Expert Index"
         }
        },
        "yaxis": {
         "title": {
          "text": "Layer"
         }
        }
       }
      }
     },
     "metadata": {},
     "output_type": "display_data"
    }
   ],
   "source": [
    "fig, count_matrix, token_counts = analyze_dataset(\n",
    "    plot_type='heatmap', # or 'bar'\n",
    "    file_path='dataset/gsm8k.txt',\n",
    "    model= model,\n",
    "    tokenizer= tokenizer,\n",
    "    domain='gsm8k',\n",
    "    chunk_size=1024,\n",
    "    num_shared_experts=1, \n",
    "    num_topk=7,\n",
    "    force_recompute=False\n",
    "    # layer_id=1 # only for bar plot\n",
    ")\n",
    "\n",
    "fig.show()"
   ]
  },
  {
   "cell_type": "code",
   "execution_count": 23,
   "metadata": {},
   "outputs": [
    {
     "name": "stdout",
     "output_type": "stream",
     "text": [
      "Loading existing results from plots-deepseek/piqa_count_matrix.npy\n",
      "Generating visualization from cached data...\n"
     ]
    },
    {
     "data": {
      "application/vnd.plotly.v1+json": {
       "config": {
        "plotlyServerURL": "https://plot.ly"
       },
       "data": [
        {
         "colorscale": [
          [
           0,
           "#440154"
          ],
          [
           0.1111111111111111,
           "#482878"
          ],
          [
           0.2222222222222222,
           "#3e4989"
          ],
          [
           0.3333333333333333,
           "#31688e"
          ],
          [
           0.4444444444444444,
           "#26828e"
          ],
          [
           0.5555555555555556,
           "#1f9e89"
          ],
          [
           0.6666666666666666,
           "#35b779"
          ],
          [
           0.7777777777777778,
           "#6ece58"
          ],
          [
           0.8888888888888888,
           "#b5de2b"
          ],
          [
           1,
           "#fde725"
          ]
         ],
         "hoverongaps": false,
         "hovertemplate": "Layer %{y}<br>Expert %{x}<br>Tokens: %{z:d}<extra></extra>",
         "type": "heatmap",
         "x": [
          "1",
          "2",
          "3",
          "4",
          "5",
          "6",
          "7",
          "8",
          "9",
          "10",
          "11",
          "12",
          "13",
          "14",
          "15",
          "16",
          "17",
          "18",
          "19",
          "20",
          "21",
          "22",
          "23",
          "24",
          "25",
          "26",
          "27",
          "28",
          "29",
          "30",
          "31",
          "32",
          "33",
          "34",
          "35",
          "36",
          "37",
          "38",
          "39",
          "40",
          "41",
          "42",
          "43",
          "44",
          "45",
          "46",
          "47",
          "48",
          "49",
          "50",
          "51",
          "52",
          "53",
          "54",
          "55",
          "56",
          "57",
          "58",
          "59",
          "60",
          "61",
          "62",
          "63"
         ],
         "y": [
          "1",
          "2",
          "3",
          "4",
          "5",
          "6",
          "7",
          "8",
          "9",
          "10",
          "11",
          "12",
          "13",
          "14",
          "15",
          "16",
          "17",
          "18",
          "19",
          "20",
          "21",
          "22",
          "23",
          "24",
          "25",
          "26",
          "27"
         ],
         "z": [
          [
           70695,
           35272,
           81412,
           24505,
           44859,
           85065,
           56216,
           86452,
           15383,
           120020,
           97135,
           162161,
           71721,
           51333,
           114238,
           333338,
           48388,
           66010,
           171860,
           79520,
           242654,
           85090,
           81010,
           66731,
           460354,
           195079,
           51234,
           70333,
           78886,
           63799,
           34879,
           769572,
           5884,
           288326,
           125674,
           151550,
           19592,
           141036,
           80797,
           85202,
           174777,
           217025,
           56615,
           47763,
           17527,
           59154,
           114969,
           114451,
           57663,
           58447,
           86192,
           10183,
           61652,
           188311,
           385739,
           177320,
           78247,
           508812,
           40922,
           138983,
           220746,
           112488,
           33445
          ],
          [
           116570,
           125281,
           46399,
           95546,
           85751,
           160127,
           417212,
           46875,
           50033,
           73243,
           67582,
           85098,
           90638,
           188894,
           50252,
           65852,
           166344,
           108353,
           221382,
           67887,
           102750,
           41888,
           93242,
           240780,
           121848,
           32550,
           82691,
           285526,
           87636,
           42874,
           115883,
           89150,
           280403,
           57300,
           61212,
           180983,
           52390,
           65681,
           157000,
           102438,
           80423,
           15780,
           64603,
           539659,
           58148,
           26292,
           73944,
           70110,
           29331,
           146608,
           70065,
           118049,
           85189,
           75549,
           397303,
           78462,
           840913,
           179925,
           25652,
           44170,
           73802,
           100279,
           86595
          ],
          [
           33943,
           164181,
           175503,
           56484,
           48740,
           473826,
           106688,
           70852,
           46937,
           135507,
           150128,
           150360,
           84319,
           163689,
           111663,
           52274,
           33626,
           214696,
           100432,
           144387,
           91848,
           44883,
           87715,
           122574,
           40855,
           88774,
           102452,
           248580,
           53952,
           63638,
           681157,
           98745,
           71056,
           44549,
           309192,
           117339,
           152718,
           85410,
           50941,
           207058,
           131215,
           87094,
           191722,
           96357,
           32598,
           229485,
           98950,
           47746,
           70338,
           28807,
           62433,
           182336,
           157413,
           166325,
           282761,
           85029,
           59066,
           55768,
           34784,
           96380,
           98115,
           158482,
           200688
          ],
          [
           144818,
           105990,
           58348,
           192687,
           170631,
           78948,
           37297,
           55528,
           104614,
           63148,
           51035,
           37372,
           32487,
           201306,
           40836,
           83876,
           266565,
           125409,
           85109,
           168323,
           353926,
           77000,
           182843,
           26450,
           71464,
           58564,
           36170,
           203606,
           151187,
           248353,
           101541,
           201710,
           258383,
           117128,
           121424,
           347521,
           104609,
           169309,
           54978,
           369269,
           126972,
           86199,
           144877,
           103079,
           140884,
           168200,
           56580,
           76125,
           215080,
           82624,
           62340,
           147050,
           65385,
           108411,
           86518,
           170809,
           25501,
           95010,
           99193,
           77954,
           58598,
           137481,
           112018
          ],
          [
           154351,
           196384,
           43364,
           40166,
           278757,
           74376,
           109405,
           133533,
           92492,
           183033,
           60172,
           94146,
           136171,
           74214,
           302201,
           193943,
           85452,
           167273,
           33653,
           128283,
           90201,
           17898,
           252941,
           49602,
           71933,
           226824,
           99302,
           50761,
           275943,
           119798,
           43399,
           185108,
           99408,
           117226,
           142998,
           80275,
           163712,
           136159,
           124172,
           54140,
           45789,
           65455,
           91968,
           197442,
           245298,
           127828,
           213771,
           39943,
           59067,
           130938,
           252216,
           114997,
           122343,
           172578,
           139647,
           109117,
           179280,
           34120,
           68925,
           78766,
           113664,
           134363,
           119413
          ],
          [
           298912,
           114498,
           100000,
           23702,
           84447,
           62430,
           102208,
           288276,
           169786,
           91043,
           285454,
           44074,
           143754,
           85725,
           97647,
           196056,
           26597,
           114735,
           313781,
           67651,
           89998,
           181280,
           68580,
           111574,
           115352,
           43120,
           162925,
           206309,
           142687,
           82083,
           114267,
           79305,
           169606,
           149521,
           69338,
           37534,
           92257,
           382852,
           190151,
           112337,
           190643,
           93005,
           119527,
           68349,
           109756,
           173931,
           112666,
           102371,
           130312,
           86599,
           36197,
           120284,
           70289,
           99916,
           87745,
           159592,
           186712,
           76705,
           123668,
           34798,
           200850,
           117722,
           87740
          ],
          [
           27934,
           51527,
           34511,
           54188,
           293144,
           36216,
           90111,
           304225,
           139572,
           281379,
           135073,
           127107,
           93335,
           21995,
           34215,
           236595,
           88394,
           151673,
           128418,
           195273,
           56047,
           69718,
           183283,
           161726,
           169077,
           31786,
           21881,
           191925,
           323395,
           178743,
           64040,
           50789,
           88011,
           122218,
           14460,
           63508,
           88759,
           56112,
           132394,
           61859,
           49845,
           65788,
           70129,
           143950,
           263993,
           192542,
           604334,
           111783,
           39460,
           32021,
           192855,
           188998,
           92843,
           177592,
           185600,
           96064,
           89496,
           59021,
           111311,
           108060,
           83843,
           98969,
           164862
          ],
          [
           88550,
           230219,
           113938,
           97588,
           65405,
           148214,
           240719,
           25945,
           38914,
           70360,
           238273,
           120846,
           80227,
           16638,
           79411,
           197449,
           155424,
           111788,
           103054,
           126361,
           175949,
           243299,
           33934,
           4691,
           92851,
           17642,
           25088,
           64040,
           150895,
           140419,
           110634,
           222379,
           122017,
           41263,
           208524,
           125255,
           297532,
           212212,
           270580,
           21185,
           151682,
           55258,
           147690,
           166297,
           95403,
           139150,
           82871,
           165099,
           243204,
           116822,
           44961,
           115088,
           103599,
           80175,
           105307,
           89972,
           108907,
           50307,
           96379,
           227000,
           303435,
           156545,
           83291
          ],
          [
           94060,
           172828,
           175427,
           72629,
           208942,
           130323,
           11099,
           25354,
           40053,
           109586,
           68659,
           96244,
           52683,
           28081,
           89892,
           260117,
           510220,
           195534,
           223349,
           112664,
           94404,
           175610,
           146510,
           149817,
           539025,
           33153,
           142722,
           103930,
           91718,
           87484,
           143334,
           103386,
           231289,
           72687,
           193558,
           33859,
           305447,
           99828,
           15266,
           24769,
           22249,
           75788,
           234043,
           49930,
           109917,
           81007,
           65028,
           55922,
           34151,
           49539,
           240516,
           51364,
           92865,
           153174,
           43755,
           57561,
           352884,
           45816,
           144191,
           167483,
           100770,
           65130,
           74416
          ],
          [
           135314,
           239042,
           230153,
           302918,
           129672,
           267537,
           91888,
           50815,
           124272,
           19290,
           105599,
           214280,
           91771,
           58840,
           24957,
           98708,
           80259,
           100980,
           156443,
           124693,
           29746,
           22111,
           110808,
           53943,
           122183,
           148646,
           280032,
           111444,
           98660,
           134734,
           193259,
           60285,
           7388,
           121468,
           73560,
           25839,
           149416,
           182899,
           236730,
           193658,
           90094,
           145094,
           67622,
           408198,
           28628,
           87838,
           84644,
           116298,
           42120,
           143208,
           126783,
           185236,
           221542,
           53925,
           191365,
           142811,
           170314,
           90977,
           78925,
           130884,
           97158,
           98339,
           34991
          ],
          [
           12876,
           84734,
           154112,
           281006,
           3905,
           175637,
           76456,
           16391,
           13836,
           63881,
           35099,
           185484,
           35458,
           472551,
           93309,
           16832,
           8483,
           97599,
           182254,
           30833,
           224378,
           78698,
           120233,
           86211,
           111728,
           39149,
           257948,
           50872,
           17786,
           119819,
           180958,
           131811,
           110700,
           191006,
           234675,
           45445,
           198684,
           110905,
           418336,
           628934,
           74901,
           37114,
           325514,
           169740,
           168537,
           109657,
           50882,
           72501,
           68228,
           109256,
           69675,
           217376,
           67811,
           120805,
           164455,
           91261,
           91590,
           39921,
           128727,
           16386,
           55078,
           128146,
           76925
          ],
          [
           73498,
           105381,
           102104,
           20877,
           94483,
           206829,
           130762,
           101503,
           71016,
           129819,
           374292,
           14549,
           231895,
           73833,
           78654,
           112713,
           18238,
           153342,
           103511,
           90342,
           312299,
           164782,
           4271,
           87221,
           4788,
           105510,
           32709,
           71233,
           186242,
           28893,
           102796,
           41093,
           77513,
           142616,
           59255,
           202958,
           129517,
           95932,
           495851,
           182635,
           59113,
           23679,
           127810,
           210991,
           88644,
           119978,
           99039,
           45648,
           158744,
           180484,
           91819,
           10495,
           560467,
           52550,
           95177,
           233208,
           109505,
           67375,
           128225,
           98654,
           207980,
           60867,
           219089
          ],
          [
           28693,
           216524,
           72553,
           71371,
           220062,
           326252,
           73126,
           108404,
           24834,
           364527,
           68522,
           94380,
           6436,
           295174,
           93193,
           29220,
           30504,
           139311,
           255260,
           104314,
           147442,
           112804,
           90333,
           128057,
           80983,
           190079,
           107544,
           96320,
           18300,
           109204,
           22488,
           95512,
           82463,
           149562,
           12444,
           164243,
           57016,
           108910,
           215580,
           80245,
           399754,
           164453,
           569701,
           96494,
           117748,
           17909,
           132024,
           140832,
           176463,
           14969,
           19882,
           121321,
           134612,
           26829,
           28323,
           86134,
           306531,
           64507,
           198338,
           42421,
           44235,
           101808,
           206206
          ],
          [
           120069,
           79441,
           180620,
           91599,
           232222,
           137772,
           150041,
           472959,
           62144,
           87089,
           67706,
           123174,
           155531,
           74817,
           115209,
           48687,
           251718,
           65221,
           137495,
           54477,
           200044,
           174222,
           105671,
           51284,
           194891,
           139356,
           119064,
           149435,
           110400,
           63488,
           239572,
           111713,
           49884,
           115050,
           434242,
           115999,
           59772,
           78257,
           48079,
           156706,
           22109,
           52721,
           48523,
           43993,
           511518,
           94945,
           79448,
           91381,
           53001,
           73969,
           43111,
           89923,
           194974,
           198833,
           378697,
           10659,
           96893,
           85102,
           60122,
           102261,
           117835,
           9648,
           5064
          ],
          [
           448414,
           99193,
           217582,
           113537,
           46125,
           66486,
           53079,
           89185,
           137580,
           76158,
           58935,
           104580,
           75863,
           152805,
           92743,
           644421,
           99612,
           147944,
           113918,
           190969,
           104914,
           239557,
           73618,
           15676,
           110307,
           162156,
           16239,
           176463,
           365679,
           11448,
           66857,
           239307,
           133428,
           31071,
           125629,
           217256,
           74921,
           22569,
           94080,
           49626,
           361274,
           146254,
           37601,
           3411,
           160165,
           229957,
           93011,
           89826,
           19206,
           96804,
           80191,
           41017,
           117431,
           142123,
           67499,
           56236,
           173486,
           58123,
           12732,
           136682,
           103471,
           242665,
           102738
          ],
          [
           151802,
           127788,
           99869,
           79711,
           300064,
           183030,
           37275,
           58744,
           90581,
           123015,
           65432,
           53551,
           30236,
           117628,
           36341,
           18083,
           41258,
           24594,
           109357,
           110426,
           54692,
           217952,
           117039,
           353992,
           213110,
           75016,
           195034,
           162308,
           135877,
           225141,
           26087,
           574180,
           76299,
           113069,
           179989,
           64399,
           79124,
           131438,
           415838,
           58904,
           124680,
           83614,
           73665,
           26162,
           916,
           176896,
           333281,
           63725,
           55506,
           284852,
           27329,
           32744,
           268281,
           111981,
           27650,
           205550,
           287489,
           80016,
           153988,
           32223,
           24978,
           21410,
           62314
          ],
          [
           181827,
           49984,
           197238,
           68335,
           171993,
           164883,
           88683,
           297841,
           66844,
           56396,
           109039,
           148529,
           107860,
           218336,
           18477,
           90259,
           41114,
           84611,
           72644,
           256115,
           82701,
           54669,
           145342,
           22460,
           140220,
           129846,
           132318,
           86561,
           385300,
           35671,
           111578,
           33959,
           97693,
           7675,
           28891,
           48416,
           149295,
           50425,
           294609,
           75909,
           33263,
           245701,
           132350,
           120656,
           186834,
           317983,
           148493,
           45203,
           174510,
           48081,
           252447,
           67006,
           177040,
           125654,
           106071,
           274324,
           179184,
           111938,
           156922,
           122702,
           105224,
           95423,
           60078
          ],
          [
           150438,
           61306,
           218571,
           46339,
           7839,
           476651,
           53009,
           50002,
           75794,
           54013,
           267110,
           66012,
           162920,
           22701,
           79039,
           422398,
           15464,
           43290,
           408946,
           44592,
           123153,
           45328,
           151877,
           196013,
           47238,
           182891,
           27420,
           83868,
           255237,
           98805,
           205822,
           60651,
           94089,
           126755,
           33165,
           28904,
           220266,
           36310,
           70920,
           145721,
           4439,
           56568,
           91976,
           355377,
           193447,
           40720,
           219642,
           177286,
           89856,
           78176,
           125389,
           190291,
           119345,
           83062,
           146480,
           85542,
           186981,
           117618,
           51804,
           165112,
           45244,
           65857,
           162514
          ],
          [
           50981,
           346174,
           172704,
           88117,
           233122,
           66490,
           54042,
           175524,
           75772,
           131373,
           91777,
           172011,
           134716,
           58885,
           42219,
           193221,
           141801,
           193570,
           51204,
           80265,
           478579,
           93213,
           99787,
           193049,
           41219,
           193242,
           107494,
           395040,
           253765,
           39466,
           44510,
           50992,
           313910,
           34057,
           72978,
           105385,
           160371,
           119405,
           266142,
           64891,
           123494,
           76713,
           75967,
           94191,
           183026,
           118485,
           108607,
           73892,
           32585,
           150854,
           103119,
           201351,
           96960,
           130021,
           100213,
           81523,
           43777,
           26364,
           59294,
           60112,
           60671,
           187731,
           63305
          ],
          [
           70883,
           7418,
           220061,
           279145,
           56685,
           114548,
           64607,
           36730,
           39705,
           10187,
           52125,
           280963,
           166209,
           30542,
           180442,
           167040,
           53137,
           34336,
           25589,
           114166,
           34338,
           90350,
           102875,
           91736,
           233828,
           111123,
           121658,
           149365,
           251652,
           61278,
           81259,
           121147,
           449378,
           37369,
           252856,
           312959,
           184777,
           629610,
           20300,
           29682,
           193620,
           23886,
           90108,
           103006,
           9544,
           11544,
           129692,
           165970,
           11860,
           222773,
           141641,
           75372,
           79885,
           196811,
           86490,
           56055,
           122495,
           160815,
           80584,
           151590,
           52392,
           157439,
           71677
          ],
          [
           144584,
           133693,
           681853,
           113912,
           424843,
           117453,
           23758,
           26689,
           29712,
           53128,
           164002,
           137792,
           93627,
           98008,
           149497,
           26955,
           74484,
           43640,
           62754,
           95917,
           186815,
           38655,
           204105,
           54779,
           234396,
           12484,
           51837,
           451610,
           123260,
           45379,
           127682,
           103698,
           30174,
           45885,
           186665,
           198148,
           319121,
           165243,
           106033,
           27834,
           15275,
           214486,
           159107,
           231391,
           7574,
           86282,
           8881,
           231556,
           141226,
           60052,
           64291,
           95195,
           66864,
           83144,
           64995,
           151625,
           26064,
           104233,
           73962,
           68176,
           18308,
           174081,
           322481
          ],
          [
           25159,
           184523,
           73248,
           12511,
           363083,
           51533,
           48953,
           233780,
           94308,
           120348,
           31122,
           31739,
           43297,
           15358,
           383121,
           22257,
           553406,
           22999,
           80041,
           266241,
           283235,
           100898,
           102619,
           210095,
           21970,
           209148,
           53957,
           50862,
           100300,
           115281,
           2592,
           212794,
           26181,
           306904,
           213163,
           136821,
           152499,
           4022,
           221874,
           98089,
           19221,
           83038,
           117841,
           124483,
           65104,
           341362,
           132272,
           66013,
           60702,
           23148,
           180316,
           34028,
           221134,
           90490,
           87723,
           120202,
           89455,
           82919,
           41478,
           319297,
           71163,
           54256,
           154563
          ],
          [
           116609,
           112265,
           173247,
           53855,
           83216,
           14198,
           28428,
           89222,
           111441,
           112955,
           8859,
           361313,
           234678,
           159847,
           105592,
           42414,
           80897,
           51182,
           283725,
           24306,
           36740,
           138561,
           31378,
           154387,
           54221,
           55008,
           140510,
           141606,
           121502,
           50962,
           56610,
           428793,
           70559,
           162611,
           116566,
           54914,
           115722,
           245255,
           84196,
           57570,
           152800,
           233799,
           53426,
           60798,
           92373,
           44848,
           503737,
           52818,
           123191,
           155505,
           142553,
           112510,
           70861,
           92049,
           44273,
           58030,
           493204,
           251131,
           136953,
           76186,
           290877,
           4074,
           55062
          ],
          [
           28462,
           41803,
           25348,
           149612,
           64108,
           154749,
           186279,
           137989,
           70370,
           339149,
           168371,
           227861,
           12197,
           295376,
           34133,
           72011,
           136745,
           78665,
           177445,
           103360,
           46191,
           30203,
           134929,
           35077,
           227281,
           59866,
           137160,
           163176,
           44682,
           6815,
           91891,
           233542,
           111746,
           34221,
           60704,
           145473,
           433235,
           88025,
           63928,
           74772,
           224706,
           249193,
           48100,
           51251,
           56850,
           720970,
           32168,
           55657,
           35248,
           51486,
           39643,
           145156,
           12677,
           189736,
           31485,
           112487,
           28847,
           152015,
           232857,
           451970,
           32120,
           24428,
           114289
          ],
          [
           78137,
           175141,
           120252,
           27693,
           29872,
           141151,
           50404,
           620139,
           210168,
           45684,
           84570,
           39012,
           205005,
           68003,
           226424,
           72856,
           46957,
           130144,
           39778,
           97473,
           118390,
           86929,
           80185,
           235225,
           280243,
           689796,
           29000,
           96039,
           149474,
           10489,
           186860,
           42353,
           77353,
           71870,
           31442,
           100779,
           18463,
           167650,
           91654,
           6914,
           674277,
           226601,
           48767,
           46743,
           46274,
           39957,
           182812,
           56707,
           156040,
           150035,
           183250,
           37098,
           30964,
           66847,
           108478,
           53882,
           241030,
           63100,
           5300,
           270528,
           112811,
           53910,
           19728
          ],
          [
           191016,
           137727,
           94479,
           72006,
           392623,
           25630,
           285241,
           81087,
           41396,
           126164,
           59335,
           52835,
           240192,
           53006,
           312365,
           24399,
           147612,
           22919,
           46615,
           61129,
           249787,
           169084,
           125203,
           122961,
           6265,
           124694,
           47305,
           100360,
           117772,
           140835,
           187064,
           90120,
           105995,
           90472,
           31210,
           179994,
           132831,
           68988,
           50274,
           219174,
           115000,
           260688,
           33737,
           45426,
           138693,
           57503,
           97063,
           129830,
           18177,
           100859,
           71337,
           102008,
           66214,
           113970,
           168893,
           97285,
           102756,
           24367,
           20718,
           79304,
           4509,
           629599,
           74377
          ],
          [
           82138,
           167296,
           118748,
           397002,
           113363,
           51317,
           199948,
           67127,
           169045,
           233094,
           99479,
           99238,
           101930,
           68930,
           122249,
           111184,
           76003,
           68703,
           236615,
           35145,
           109311,
           35793,
           141095,
           149390,
           45856,
           137371,
           48894,
           65627,
           58731,
           188573,
           302371,
           95826,
           83438,
           300010,
           36461,
           55129,
           170284,
           108382,
           99621,
           86619,
           79988,
           64680,
           177189,
           185350,
           56998,
           69080,
           143243,
           212366,
           44016,
           123000,
           261622,
           54432,
           66228,
           119364,
           236845,
           75315,
           163701,
           72502,
           44922,
           89228,
           49407,
           130897,
           190285
          ]
         ]
        }
       ],
       "layout": {
        "height": 800,
        "template": {
         "data": {
          "bar": [
           {
            "error_x": {
             "color": "#f2f5fa"
            },
            "error_y": {
             "color": "#f2f5fa"
            },
            "marker": {
             "line": {
              "color": "rgb(17,17,17)",
              "width": 0.5
             },
             "pattern": {
              "fillmode": "overlay",
              "size": 10,
              "solidity": 0.2
             }
            },
            "type": "bar"
           }
          ],
          "barpolar": [
           {
            "marker": {
             "line": {
              "color": "rgb(17,17,17)",
              "width": 0.5
             },
             "pattern": {
              "fillmode": "overlay",
              "size": 10,
              "solidity": 0.2
             }
            },
            "type": "barpolar"
           }
          ],
          "carpet": [
           {
            "aaxis": {
             "endlinecolor": "#A2B1C6",
             "gridcolor": "#506784",
             "linecolor": "#506784",
             "minorgridcolor": "#506784",
             "startlinecolor": "#A2B1C6"
            },
            "baxis": {
             "endlinecolor": "#A2B1C6",
             "gridcolor": "#506784",
             "linecolor": "#506784",
             "minorgridcolor": "#506784",
             "startlinecolor": "#A2B1C6"
            },
            "type": "carpet"
           }
          ],
          "choropleth": [
           {
            "colorbar": {
             "outlinewidth": 0,
             "ticks": ""
            },
            "type": "choropleth"
           }
          ],
          "contour": [
           {
            "colorbar": {
             "outlinewidth": 0,
             "ticks": ""
            },
            "colorscale": [
             [
              0,
              "#0d0887"
             ],
             [
              0.1111111111111111,
              "#46039f"
             ],
             [
              0.2222222222222222,
              "#7201a8"
             ],
             [
              0.3333333333333333,
              "#9c179e"
             ],
             [
              0.4444444444444444,
              "#bd3786"
             ],
             [
              0.5555555555555556,
              "#d8576b"
             ],
             [
              0.6666666666666666,
              "#ed7953"
             ],
             [
              0.7777777777777778,
              "#fb9f3a"
             ],
             [
              0.8888888888888888,
              "#fdca26"
             ],
             [
              1,
              "#f0f921"
             ]
            ],
            "type": "contour"
           }
          ],
          "contourcarpet": [
           {
            "colorbar": {
             "outlinewidth": 0,
             "ticks": ""
            },
            "type": "contourcarpet"
           }
          ],
          "heatmap": [
           {
            "colorbar": {
             "outlinewidth": 0,
             "ticks": ""
            },
            "colorscale": [
             [
              0,
              "#0d0887"
             ],
             [
              0.1111111111111111,
              "#46039f"
             ],
             [
              0.2222222222222222,
              "#7201a8"
             ],
             [
              0.3333333333333333,
              "#9c179e"
             ],
             [
              0.4444444444444444,
              "#bd3786"
             ],
             [
              0.5555555555555556,
              "#d8576b"
             ],
             [
              0.6666666666666666,
              "#ed7953"
             ],
             [
              0.7777777777777778,
              "#fb9f3a"
             ],
             [
              0.8888888888888888,
              "#fdca26"
             ],
             [
              1,
              "#f0f921"
             ]
            ],
            "type": "heatmap"
           }
          ],
          "heatmapgl": [
           {
            "colorbar": {
             "outlinewidth": 0,
             "ticks": ""
            },
            "colorscale": [
             [
              0,
              "#0d0887"
             ],
             [
              0.1111111111111111,
              "#46039f"
             ],
             [
              0.2222222222222222,
              "#7201a8"
             ],
             [
              0.3333333333333333,
              "#9c179e"
             ],
             [
              0.4444444444444444,
              "#bd3786"
             ],
             [
              0.5555555555555556,
              "#d8576b"
             ],
             [
              0.6666666666666666,
              "#ed7953"
             ],
             [
              0.7777777777777778,
              "#fb9f3a"
             ],
             [
              0.8888888888888888,
              "#fdca26"
             ],
             [
              1,
              "#f0f921"
             ]
            ],
            "type": "heatmapgl"
           }
          ],
          "histogram": [
           {
            "marker": {
             "pattern": {
              "fillmode": "overlay",
              "size": 10,
              "solidity": 0.2
             }
            },
            "type": "histogram"
           }
          ],
          "histogram2d": [
           {
            "colorbar": {
             "outlinewidth": 0,
             "ticks": ""
            },
            "colorscale": [
             [
              0,
              "#0d0887"
             ],
             [
              0.1111111111111111,
              "#46039f"
             ],
             [
              0.2222222222222222,
              "#7201a8"
             ],
             [
              0.3333333333333333,
              "#9c179e"
             ],
             [
              0.4444444444444444,
              "#bd3786"
             ],
             [
              0.5555555555555556,
              "#d8576b"
             ],
             [
              0.6666666666666666,
              "#ed7953"
             ],
             [
              0.7777777777777778,
              "#fb9f3a"
             ],
             [
              0.8888888888888888,
              "#fdca26"
             ],
             [
              1,
              "#f0f921"
             ]
            ],
            "type": "histogram2d"
           }
          ],
          "histogram2dcontour": [
           {
            "colorbar": {
             "outlinewidth": 0,
             "ticks": ""
            },
            "colorscale": [
             [
              0,
              "#0d0887"
             ],
             [
              0.1111111111111111,
              "#46039f"
             ],
             [
              0.2222222222222222,
              "#7201a8"
             ],
             [
              0.3333333333333333,
              "#9c179e"
             ],
             [
              0.4444444444444444,
              "#bd3786"
             ],
             [
              0.5555555555555556,
              "#d8576b"
             ],
             [
              0.6666666666666666,
              "#ed7953"
             ],
             [
              0.7777777777777778,
              "#fb9f3a"
             ],
             [
              0.8888888888888888,
              "#fdca26"
             ],
             [
              1,
              "#f0f921"
             ]
            ],
            "type": "histogram2dcontour"
           }
          ],
          "mesh3d": [
           {
            "colorbar": {
             "outlinewidth": 0,
             "ticks": ""
            },
            "type": "mesh3d"
           }
          ],
          "parcoords": [
           {
            "line": {
             "colorbar": {
              "outlinewidth": 0,
              "ticks": ""
             }
            },
            "type": "parcoords"
           }
          ],
          "pie": [
           {
            "automargin": true,
            "type": "pie"
           }
          ],
          "scatter": [
           {
            "marker": {
             "line": {
              "color": "#283442"
             }
            },
            "type": "scatter"
           }
          ],
          "scatter3d": [
           {
            "line": {
             "colorbar": {
              "outlinewidth": 0,
              "ticks": ""
             }
            },
            "marker": {
             "colorbar": {
              "outlinewidth": 0,
              "ticks": ""
             }
            },
            "type": "scatter3d"
           }
          ],
          "scattercarpet": [
           {
            "marker": {
             "colorbar": {
              "outlinewidth": 0,
              "ticks": ""
             }
            },
            "type": "scattercarpet"
           }
          ],
          "scattergeo": [
           {
            "marker": {
             "colorbar": {
              "outlinewidth": 0,
              "ticks": ""
             }
            },
            "type": "scattergeo"
           }
          ],
          "scattergl": [
           {
            "marker": {
             "line": {
              "color": "#283442"
             }
            },
            "type": "scattergl"
           }
          ],
          "scattermapbox": [
           {
            "marker": {
             "colorbar": {
              "outlinewidth": 0,
              "ticks": ""
             }
            },
            "type": "scattermapbox"
           }
          ],
          "scatterpolar": [
           {
            "marker": {
             "colorbar": {
              "outlinewidth": 0,
              "ticks": ""
             }
            },
            "type": "scatterpolar"
           }
          ],
          "scatterpolargl": [
           {
            "marker": {
             "colorbar": {
              "outlinewidth": 0,
              "ticks": ""
             }
            },
            "type": "scatterpolargl"
           }
          ],
          "scatterternary": [
           {
            "marker": {
             "colorbar": {
              "outlinewidth": 0,
              "ticks": ""
             }
            },
            "type": "scatterternary"
           }
          ],
          "surface": [
           {
            "colorbar": {
             "outlinewidth": 0,
             "ticks": ""
            },
            "colorscale": [
             [
              0,
              "#0d0887"
             ],
             [
              0.1111111111111111,
              "#46039f"
             ],
             [
              0.2222222222222222,
              "#7201a8"
             ],
             [
              0.3333333333333333,
              "#9c179e"
             ],
             [
              0.4444444444444444,
              "#bd3786"
             ],
             [
              0.5555555555555556,
              "#d8576b"
             ],
             [
              0.6666666666666666,
              "#ed7953"
             ],
             [
              0.7777777777777778,
              "#fb9f3a"
             ],
             [
              0.8888888888888888,
              "#fdca26"
             ],
             [
              1,
              "#f0f921"
             ]
            ],
            "type": "surface"
           }
          ],
          "table": [
           {
            "cells": {
             "fill": {
              "color": "#506784"
             },
             "line": {
              "color": "rgb(17,17,17)"
             }
            },
            "header": {
             "fill": {
              "color": "#2a3f5f"
             },
             "line": {
              "color": "rgb(17,17,17)"
             }
            },
            "type": "table"
           }
          ]
         },
         "layout": {
          "annotationdefaults": {
           "arrowcolor": "#f2f5fa",
           "arrowhead": 0,
           "arrowwidth": 1
          },
          "autotypenumbers": "strict",
          "coloraxis": {
           "colorbar": {
            "outlinewidth": 0,
            "ticks": ""
           }
          },
          "colorscale": {
           "diverging": [
            [
             0,
             "#8e0152"
            ],
            [
             0.1,
             "#c51b7d"
            ],
            [
             0.2,
             "#de77ae"
            ],
            [
             0.3,
             "#f1b6da"
            ],
            [
             0.4,
             "#fde0ef"
            ],
            [
             0.5,
             "#f7f7f7"
            ],
            [
             0.6,
             "#e6f5d0"
            ],
            [
             0.7,
             "#b8e186"
            ],
            [
             0.8,
             "#7fbc41"
            ],
            [
             0.9,
             "#4d9221"
            ],
            [
             1,
             "#276419"
            ]
           ],
           "sequential": [
            [
             0,
             "#0d0887"
            ],
            [
             0.1111111111111111,
             "#46039f"
            ],
            [
             0.2222222222222222,
             "#7201a8"
            ],
            [
             0.3333333333333333,
             "#9c179e"
            ],
            [
             0.4444444444444444,
             "#bd3786"
            ],
            [
             0.5555555555555556,
             "#d8576b"
            ],
            [
             0.6666666666666666,
             "#ed7953"
            ],
            [
             0.7777777777777778,
             "#fb9f3a"
            ],
            [
             0.8888888888888888,
             "#fdca26"
            ],
            [
             1,
             "#f0f921"
            ]
           ],
           "sequentialminus": [
            [
             0,
             "#0d0887"
            ],
            [
             0.1111111111111111,
             "#46039f"
            ],
            [
             0.2222222222222222,
             "#7201a8"
            ],
            [
             0.3333333333333333,
             "#9c179e"
            ],
            [
             0.4444444444444444,
             "#bd3786"
            ],
            [
             0.5555555555555556,
             "#d8576b"
            ],
            [
             0.6666666666666666,
             "#ed7953"
            ],
            [
             0.7777777777777778,
             "#fb9f3a"
            ],
            [
             0.8888888888888888,
             "#fdca26"
            ],
            [
             1,
             "#f0f921"
            ]
           ]
          },
          "colorway": [
           "#636efa",
           "#EF553B",
           "#00cc96",
           "#ab63fa",
           "#FFA15A",
           "#19d3f3",
           "#FF6692",
           "#B6E880",
           "#FF97FF",
           "#FECB52"
          ],
          "font": {
           "color": "#f2f5fa"
          },
          "geo": {
           "bgcolor": "rgb(17,17,17)",
           "lakecolor": "rgb(17,17,17)",
           "landcolor": "rgb(17,17,17)",
           "showlakes": true,
           "showland": true,
           "subunitcolor": "#506784"
          },
          "hoverlabel": {
           "align": "left"
          },
          "hovermode": "closest",
          "mapbox": {
           "style": "dark"
          },
          "paper_bgcolor": "rgb(17,17,17)",
          "plot_bgcolor": "rgb(17,17,17)",
          "polar": {
           "angularaxis": {
            "gridcolor": "#506784",
            "linecolor": "#506784",
            "ticks": ""
           },
           "bgcolor": "rgb(17,17,17)",
           "radialaxis": {
            "gridcolor": "#506784",
            "linecolor": "#506784",
            "ticks": ""
           }
          },
          "scene": {
           "xaxis": {
            "backgroundcolor": "rgb(17,17,17)",
            "gridcolor": "#506784",
            "gridwidth": 2,
            "linecolor": "#506784",
            "showbackground": true,
            "ticks": "",
            "zerolinecolor": "#C8D4E3"
           },
           "yaxis": {
            "backgroundcolor": "rgb(17,17,17)",
            "gridcolor": "#506784",
            "gridwidth": 2,
            "linecolor": "#506784",
            "showbackground": true,
            "ticks": "",
            "zerolinecolor": "#C8D4E3"
           },
           "zaxis": {
            "backgroundcolor": "rgb(17,17,17)",
            "gridcolor": "#506784",
            "gridwidth": 2,
            "linecolor": "#506784",
            "showbackground": true,
            "ticks": "",
            "zerolinecolor": "#C8D4E3"
           }
          },
          "shapedefaults": {
           "line": {
            "color": "#f2f5fa"
           }
          },
          "sliderdefaults": {
           "bgcolor": "#C8D4E3",
           "bordercolor": "rgb(17,17,17)",
           "borderwidth": 1,
           "tickwidth": 0
          },
          "ternary": {
           "aaxis": {
            "gridcolor": "#506784",
            "linecolor": "#506784",
            "ticks": ""
           },
           "baxis": {
            "gridcolor": "#506784",
            "linecolor": "#506784",
            "ticks": ""
           },
           "bgcolor": "rgb(17,17,17)",
           "caxis": {
            "gridcolor": "#506784",
            "linecolor": "#506784",
            "ticks": ""
           }
          },
          "title": {
           "x": 0.05
          },
          "updatemenudefaults": {
           "bgcolor": "#506784",
           "borderwidth": 0
          },
          "xaxis": {
           "automargin": true,
           "gridcolor": "#283442",
           "linecolor": "#506784",
           "ticks": "",
           "title": {
            "standoff": 15
           },
           "zerolinecolor": "#283442",
           "zerolinewidth": 2
          },
          "yaxis": {
           "automargin": true,
           "gridcolor": "#283442",
           "linecolor": "#506784",
           "ticks": "",
           "title": {
            "standoff": 15
           },
           "zerolinecolor": "#283442",
           "zerolinewidth": 2
          }
         }
        },
        "title": {
         "text": "token distribution heatmap for piqa"
        },
        "width": 1200,
        "xaxis": {
         "title": {
          "text": "Expert Index"
         }
        },
        "yaxis": {
         "title": {
          "text": "Layer"
         }
        }
       }
      }
     },
     "metadata": {},
     "output_type": "display_data"
    }
   ],
   "source": [
    "fig, count_matrix, token_counts = analyze_dataset(\n",
    "    plot_type='heatmap', # or 'bar'\n",
    "    file_path='dataset/piqa.txt',\n",
    "    model= model,\n",
    "    tokenizer= tokenizer,\n",
    "    domain='piqa',\n",
    "    chunk_size=1024,\n",
    "    num_shared_experts=1, \n",
    "    num_topk=7,\n",
    "    force_recompute=False\n",
    "    # layer_id=1 # only for bar plot\n",
    ")\n",
    "\n",
    "fig.show()"
   ]
  },
  {
   "cell_type": "code",
   "execution_count": 22,
   "metadata": {},
   "outputs": [
    {
     "name": "stdout",
     "output_type": "stream",
     "text": [
      "Loading existing results from plots-deepseek/arc_easy_count_matrix.npy\n",
      "Generating visualization from cached data...\n"
     ]
    },
    {
     "data": {
      "application/vnd.plotly.v1+json": {
       "config": {
        "plotlyServerURL": "https://plot.ly"
       },
       "data": [
        {
         "colorscale": [
          [
           0,
           "#440154"
          ],
          [
           0.1111111111111111,
           "#482878"
          ],
          [
           0.2222222222222222,
           "#3e4989"
          ],
          [
           0.3333333333333333,
           "#31688e"
          ],
          [
           0.4444444444444444,
           "#26828e"
          ],
          [
           0.5555555555555556,
           "#1f9e89"
          ],
          [
           0.6666666666666666,
           "#35b779"
          ],
          [
           0.7777777777777778,
           "#6ece58"
          ],
          [
           0.8888888888888888,
           "#b5de2b"
          ],
          [
           1,
           "#fde725"
          ]
         ],
         "hoverongaps": false,
         "hovertemplate": "Layer %{y}<br>Expert %{x}<br>Tokens: %{z:d}<extra></extra>",
         "type": "heatmap",
         "x": [
          "1",
          "2",
          "3",
          "4",
          "5",
          "6",
          "7",
          "8",
          "9",
          "10",
          "11",
          "12",
          "13",
          "14",
          "15",
          "16",
          "17",
          "18",
          "19",
          "20",
          "21",
          "22",
          "23",
          "24",
          "25",
          "26",
          "27",
          "28",
          "29",
          "30",
          "31",
          "32",
          "33",
          "34",
          "35",
          "36",
          "37",
          "38",
          "39",
          "40",
          "41",
          "42",
          "43",
          "44",
          "45",
          "46",
          "47",
          "48",
          "49",
          "50",
          "51",
          "52",
          "53",
          "54",
          "55",
          "56",
          "57",
          "58",
          "59",
          "60",
          "61",
          "62",
          "63"
         ],
         "y": [
          "1",
          "2",
          "3",
          "4",
          "5",
          "6",
          "7",
          "8",
          "9",
          "10",
          "11",
          "12",
          "13",
          "14",
          "15",
          "16",
          "17",
          "18",
          "19",
          "20",
          "21",
          "22",
          "23",
          "24",
          "25",
          "26",
          "27"
         ],
         "z": [
          [
           8369,
           12649,
           17138,
           6153,
           19910,
           12163,
           8618,
           21069,
           9115,
           21510,
           28032,
           21501,
           13623,
           10522,
           23394,
           50649,
           7860,
           9259,
           18132,
           21919,
           50713,
           20259,
           9509,
           25119,
           70352,
           55699,
           10187,
           10520,
           10884,
           12420,
           6962,
           127505,
           1898,
           59092,
           32989,
           45080,
           7571,
           31285,
           16462,
           13820,
           32121,
           28823,
           12131,
           9264,
           6750,
           10419,
           18505,
           21878,
           8493,
           10494,
           18181,
           813,
           12233,
           31269,
           68693,
           56842,
           16741,
           103899,
           10169,
           26175,
           36103,
           28001,
           5577
          ],
          [
           17789,
           35452,
           6248,
           22140,
           24237,
           26120,
           84009,
           12738,
           12836,
           12701,
           13544,
           27186,
           17018,
           33772,
           5080,
           5356,
           25266,
           26692,
           18242,
           16618,
           18229,
           18451,
           12463,
           40107,
           38956,
           15720,
           19668,
           36308,
           12795,
           9802,
           20081,
           16932,
           59354,
           17953,
           11408,
           23670,
           17678,
           9074,
           18874,
           10049,
           22358,
           6076,
           6170,
           115214,
           12308,
           7049,
           19667,
           8451,
           13802,
           21764,
           17526,
           17964,
           32310,
           9717,
           63037,
           18033,
           164182,
           32597,
           12740,
           18410,
           17720,
           21020,
           18049
          ],
          [
           15524,
           19152,
           30051,
           18191,
           9090,
           107745,
           18375,
           9653,
           13626,
           20981,
           24500,
           27958,
           14334,
           30952,
           29321,
           11662,
           3765,
           32484,
           16027,
           25038,
           9609,
           4237,
           20394,
           26610,
           12267,
           19919,
           20526,
           25878,
           15798,
           27109,
           132291,
           25493,
           7726,
           12824,
           63512,
           19522,
           18181,
           13443,
           15485,
           25238,
           41618,
           14228,
           33565,
           23503,
           10024,
           47909,
           17174,
           5616,
           24929,
           10200,
           6693,
           31602,
           27729,
           36977,
           62006,
           20251,
           14188,
           15812,
           7837,
           19550,
           20561,
           18424,
           36959
          ],
          [
           30592,
           24124,
           16223,
           49515,
           26806,
           20326,
           13093,
           15753,
           26394,
           14338,
           6269,
           4641,
           6757,
           30787,
           7799,
           11255,
           47059,
           25768,
           19436,
           44436,
           54764,
           29831,
           31433,
           7781,
           31106,
           14697,
           13676,
           50040,
           20929,
           43814,
           10539,
           23554,
           58560,
           24152,
           7578,
           55655,
           11918,
           40719,
           13375,
           72407,
           19598,
           17224,
           21670,
           25300,
           10520,
           10610,
           8442,
           17009,
           26482,
           23814,
           18881,
           17084,
           9232,
           19778,
           17128,
           29745,
           9296,
           42100,
           22346,
           17522,
           16673,
           43806,
           17880
          ],
          [
           14710,
           32212,
           11632,
           8902,
           59447,
           30512,
           24469,
           15323,
           23438,
           30022,
           10215,
           8809,
           24618,
           14032,
           21368,
           16258,
           16863,
           21090,
           11515,
           23728,
           9367,
           4965,
           31571,
           8519,
           6128,
           33099,
           20933,
           19308,
           50294,
           18360,
           24476,
           43232,
           16368,
           35552,
           26300,
           11789,
           25514,
           32459,
           24928,
           9989,
           3469,
           8365,
           17690,
           32847,
           56291,
           20499,
           21211,
           21164,
           30726,
           30478,
           53469,
           29671,
           36325,
           50574,
           19582,
           22510,
           23301,
           7719,
           30386,
           23967,
           38125,
           57398,
           21167
          ],
          [
           74591,
           16812,
           7872,
           10280,
           27191,
           13720,
           24970,
           64559,
           49655,
           15603,
           24457,
           17337,
           31190,
           11604,
           8176,
           11832,
           15692,
           50681,
           54452,
           9104,
           21593,
           28786,
           11323,
           14579,
           17629,
           31355,
           12271,
           47315,
           28095,
           7269,
           21416,
           19907,
           27172,
           12264,
           15763,
           5897,
           5081,
           61383,
           36462,
           34348,
           32671,
           19870,
           19741,
           19216,
           17237,
           17626,
           27576,
           26657,
           16736,
           15478,
           15024,
           17987,
           16840,
           31267,
           27133,
           21823,
           43003,
           19190,
           16341,
           11826,
           54413,
           30649,
           12882
          ],
          [
           5024,
           6031,
           28211,
           19863,
           58984,
           12755,
           27839,
           33576,
           20501,
           49227,
           25160,
           32936,
           8110,
           4218,
           14615,
           22946,
           16472,
           18580,
           21385,
           37368,
           16102,
           9255,
           18417,
           35852,
           34433,
           10562,
           11154,
           22144,
           32097,
           32790,
           19008,
           19192,
           19265,
           11178,
           11801,
           6036,
           21399,
           15913,
           32189,
           14020,
           7286,
           27263,
           14264,
           23433,
           68876,
           25903,
           83577,
           20953,
           15300,
           19270,
           81958,
           32533,
           21614,
           17628,
           20086,
           19206,
           12812,
           15753,
           43924,
           23676,
           48150,
           12724,
           23198
          ],
          [
           12970,
           31418,
           14653,
           23386,
           17546,
           36198,
           50262,
           6012,
           9525,
           26951,
           27711,
           32554,
           9698,
           4795,
           11379,
           38215,
           43808,
           7767,
           6390,
           20423,
           35370,
           52429,
           35308,
           8730,
           58084,
           17523,
           13936,
           18893,
           27376,
           15794,
           25566,
           42205,
           22899,
           25391,
           29967,
           27061,
           24761,
           27596,
           36288,
           2537,
           30660,
           9364,
           35229,
           21634,
           13169,
           13607,
           22167,
           45229,
           67595,
           14475,
           12374,
           15364,
           18202,
           22196,
           35065,
           14670,
           20282,
           18624,
           34927,
           20735,
           34862,
           18221,
           6938
          ],
          [
           33519,
           36758,
           56449,
           4396,
           13060,
           15220,
           12853,
           10561,
           3241,
           19582,
           13263,
           13142,
           31273,
           8402,
           16667,
           89154,
           69607,
           7997,
           39544,
           52884,
           37568,
           43537,
           36611,
           22792,
           61978,
           6746,
           12957,
           28684,
           20025,
           17881,
           28031,
           15102,
           53392,
           9312,
           37933,
           4987,
           87541,
           17613,
           7553,
           12346,
           12353,
           28528,
           12941,
           5126,
           14399,
           20639,
           26446,
           10571,
           13067,
           7827,
           31078,
           7843,
           23850,
           38239,
           3461,
           34547,
           27507,
           27611,
           20103,
           10109,
           20443,
           4740,
           13170
          ],
          [
           22564,
           36151,
           29133,
           19698,
           26252,
           34600,
           8752,
           9636,
           29344,
           5839,
           22433,
           4643,
           29731,
           7422,
           11969,
           14560,
           8721,
           13768,
           31371,
           34389,
           12573,
           10863,
           50245,
           12265,
           9662,
           41613,
           39836,
           22026,
           27426,
           15007,
           12773,
           8153,
           7566,
           22983,
           6131,
           11740,
           37934,
           49645,
           57994,
           44088,
           27716,
           34135,
           3206,
           30296,
           11021,
           10469,
           40611,
           24094,
           4985,
           55991,
           33009,
           31349,
           44685,
           23882,
           50273,
           24735,
           14848,
           10090,
           12276,
           37234,
           40644,
           26239,
           29540
          ],
          [
           7414,
           36978,
           7092,
           26283,
           11401,
           9022,
           6973,
           31225,
           10375,
           9238,
           31595,
           33665,
           16682,
           78636,
           15272,
           25295,
           5655,
           27099,
           31401,
           8951,
           59935,
           21433,
           31432,
           25494,
           12494,
           5417,
           35335,
           38888,
           9233,
           36232,
           45041,
           9883,
           17820,
           37868,
           64657,
           10162,
           48122,
           21678,
           65994,
           34195,
           18857,
           24945,
           10048,
           46306,
           7733,
           11102,
           15774,
           9619,
           7547,
           8816,
           22430,
           44545,
           30020,
           8603,
           53878,
           16277,
           16282,
           8976,
           21503,
           9274,
           30379,
           34813,
           6479
          ],
          [
           5756,
           7456,
           15658,
           6611,
           14158,
           30502,
           43959,
           22136,
           3277,
           28276,
           57135,
           1983,
           7942,
           45752,
           14342,
           21705,
           13405,
           6888,
           18235,
           12246,
           49042,
           29268,
           484,
           34362,
           4372,
           21071,
           5718,
           6277,
           49532,
           7086,
           17874,
           17182,
           46223,
           18686,
           11316,
           60213,
           12284,
           43035,
           79642,
           42932,
           29552,
           19340,
           26924,
           39346,
           32858,
           10021,
           12695,
           2923,
           10409,
           21789,
           13475,
           6651,
           138188,
           9265,
           24346,
           53355,
           18522,
           11631,
           25435,
           16856,
           35712,
           23218,
           32460
          ],
          [
           19174,
           65628,
           27049,
           10147,
           29370,
           117324,
           10460,
           7164,
           10359,
           23335,
           20741,
           7870,
           5473,
           27519,
           20031,
           23599,
           5198,
           5131,
           88958,
           7643,
           9645,
           25302,
           8060,
           27199,
           20539,
           37298,
           22640,
           17283,
           19280,
           21880,
           38940,
           28198,
           5653,
           14090,
           20641,
           17710,
           17624,
           22432,
           56069,
           11403,
           42082,
           24877,
           17168,
           12447,
           34741,
           57803,
           15185,
           9579,
           29817,
           9735,
           9121,
           19534,
           37604,
           5460,
           11866,
           7180,
           39286,
           42104,
           34773,
           14395,
           27228,
           8819,
           49885
          ],
          [
           21112,
           16251,
           30586,
           14947,
           16675,
           21824,
           28182,
           18495,
           23249,
           38351,
           22290,
           29097,
           27466,
           12358,
           23744,
           6700,
           35818,
           30318,
           28494,
           21277,
           24909,
           15752,
           23718,
           16622,
           47680,
           33082,
           13771,
           22597,
           49589,
           14451,
           50812,
           11139,
           23934,
           22143,
           88230,
           20640,
           18182,
           4383,
           16042,
           12652,
           12503,
           17899,
           26369,
           13129,
           111051,
           9663,
           16548,
           17053,
           31861,
           33571,
           13748,
           23898,
           53901,
           16534,
           52556,
           3782,
           23434,
           14897,
           10773,
           24378,
           16462,
           2665,
           2417
          ],
          [
           30927,
           31968,
           30508,
           9805,
           17673,
           16889,
           12990,
           8525,
           38255,
           17181,
           10342,
           32152,
           6901,
           25744,
           42271,
           36015,
           15356,
           47117,
           18528,
           25763,
           70140,
           50501,
           17063,
           13482,
           7230,
           33515,
           22428,
           50074,
           136840,
           13526,
           10600,
           42004,
           38795,
           13487,
           15208,
           13889,
           14133,
           15181,
           16419,
           12162,
           50957,
           9594,
           27965,
           1428,
           45248,
           37014,
           10055,
           16193,
           5964,
           21723,
           9258,
           9632,
           8747,
           21632,
           19862,
           20530,
           26411,
           16459,
           12103,
           11923,
           17616,
           56956,
           12038
          ],
          [
           15325,
           18946,
           31821,
           19294,
           43385,
           55397,
           4542,
           12745,
           9315,
           18159,
           13949,
           31175,
           17509,
           17677,
           4227,
           19357,
           11638,
           7189,
           27891,
           13191,
           11394,
           38277,
           26901,
           49468,
           40424,
           29917,
           19411,
           50570,
           34262,
           34051,
           25532,
           55659,
           8050,
           16885,
           42423,
           29382,
           9055,
           17043,
           64194,
           12015,
           25269,
           7128,
           38432,
           3050,
           11161,
           31796,
           50112,
           18219,
           8166,
           32799,
           5431,
           9099,
           57482,
           53550,
           15483,
           30458,
           27569,
           21335,
           11574,
           15299,
           12386,
           14171,
           19620
          ],
          [
           38975,
           15210,
           20854,
           16333,
           146470,
           40731,
           14780,
           63699,
           16395,
           6138,
           23552,
           15312,
           36969,
           32345,
           5954,
           12338,
           33737,
           26722,
           38664,
           39035,
           17575,
           18547,
           26911,
           11497,
           9768,
           18992,
           46894,
           18188,
           27102,
           11606,
           16549,
           19667,
           21207,
           16094,
           10129,
           25527,
           9932,
           9294,
           28964,
           5897,
           24340,
           32046,
           28339,
           12976,
           33338,
           86776,
           21261,
           9224,
           42274,
           6856,
           18248,
           5195,
           6698,
           14299,
           21318,
           69827,
           19172,
           5836,
           27706,
           10791,
           7310,
           5276,
           19579
          ],
          [
           20247,
           9143,
           24032,
           22862,
           7126,
           77204,
           14470,
           6768,
           7694,
           18760,
           63177,
           26047,
           16567,
           23931,
           16576,
           77360,
           3512,
           6065,
           54670,
           14879,
           19672,
           27688,
           15310,
           18604,
           11972,
           28536,
           21299,
           16497,
           67136,
           27899,
           14391,
           32280,
           12624,
           13036,
           5589,
           9183,
           39322,
           6460,
           15298,
           61476,
           18186,
           10691,
           27629,
           59458,
           29333,
           20400,
           34136,
           31089,
           21045,
           6438,
           17351,
           34337,
           33512,
           17633,
           7600,
           14875,
           25988,
           12876,
           4610,
           36346,
           13178,
           7107,
           59892
          ],
          [
           9909,
           102290,
           44570,
           46709,
           36417,
           23764,
           12601,
           38789,
           7438,
           19596,
           9153,
           11724,
           18059,
           13996,
           23815,
           46030,
           21997,
           20412,
           16885,
           22884,
           60662,
           13959,
           30920,
           22051,
           5829,
           45327,
           23742,
           17800,
           60265,
           1295,
           15810,
           12933,
           33152,
           21122,
           11281,
           11838,
           44751,
           16951,
           40001,
           24484,
           40941,
           11968,
           5811,
           30012,
           31718,
           18826,
           26384,
           17377,
           7125,
           22957,
           14602,
           28405,
           9147,
           32615,
           29385,
           11047,
           12775,
           36916,
           8990,
           9829,
           36053,
           38106,
           9000
          ],
          [
           34756,
           26258,
           19692,
           43134,
           9894,
           15218,
           8108,
           9507,
           13452,
           11843,
           11644,
           68745,
           19087,
           5702,
           24249,
           14146,
           24268,
           44232,
           17348,
           9893,
           9511,
           14079,
           7524,
           12818,
           39220,
           43827,
           35396,
           35543,
           25614,
           33708,
           15952,
           23612,
           66642,
           11219,
           44804,
           62786,
           36038,
           93208,
           773,
           5521,
           40099,
           9631,
           24437,
           14462,
           13961,
           1970,
           21174,
           32422,
           17836,
           13346,
           41302,
           18264,
           6240,
           24637,
           24814,
           5068,
           36737,
           13944,
           22733,
           14337,
           15585,
           25843,
           14285
          ],
          [
           48170,
           15926,
           85132,
           27139,
           60900,
           10523,
           9035,
           6535,
           7827,
           2360,
           27319,
           22739,
           10899,
           16136,
           23711,
           5721,
           16003,
           4445,
           43580,
           17042,
           40959,
           34388,
           44122,
           20486,
           24896,
           5513,
           9518,
           81003,
           22397,
           4283,
           15570,
           7773,
           20079,
           31353,
           44027,
           32344,
           69515,
           93732,
           32247,
           10305,
           12512,
           33591,
           33593,
           19705,
           4203,
           26794,
           8597,
           60777,
           7113,
           12213,
           9568,
           10261,
           20614,
           2597,
           2610,
           22112,
           9188,
           8309,
           27439,
           11054,
           2202,
           24806,
           38759
          ],
          [
           579,
           20605,
           19607,
           20206,
           41216,
           7438,
           6182,
           18723,
           11315,
           18316,
           4277,
           5431,
           22394,
           9288,
           46265,
           10093,
           71602,
           12444,
           17089,
           42931,
           42350,
           16674,
           5420,
           37863,
           11559,
           128359,
           4679,
           7292,
           11834,
           21972,
           6572,
           22239,
           9949,
           59473,
           67965,
           45130,
           29247,
           935,
           40198,
           25229,
           18953,
           19190,
           18162,
           33978,
           7158,
           26661,
           23374,
           7075,
           7227,
           18465,
           29592,
           29059,
           46141,
           4979,
           20091,
           16622,
           15603,
           120073,
           17713,
           27538,
           5770,
           13691,
           14559
          ],
          [
           14345,
           19698,
           74285,
           7026,
           19410,
           842,
           20512,
           28144,
           27891,
           20170,
           3458,
           56503,
           13712,
           34345,
           15009,
           12119,
           5846,
           5729,
           32618,
           13927,
           8095,
           9696,
           11189,
           23138,
           60147,
           12588,
           31947,
           25742,
           10207,
           23080,
           7843,
           60440,
           5217,
           21083,
           26895,
           20409,
           25459,
           34956,
           13494,
           7141,
           10668,
           57976,
           13595,
           24675,
           22065,
           7902,
           66025,
           5287,
           31074,
           15551,
           10226,
           10037,
           8136,
           9176,
           23955,
           4949,
           107966,
           49886,
           6504,
           13689,
           162353,
           11411,
           7401
          ],
          [
           10682,
           29558,
           7623,
           21035,
           8924,
           14531,
           24115,
           64113,
           17954,
           83262,
           22210,
           45824,
           15173,
           73383,
           11860,
           27639,
           7425,
           13973,
           27334,
           24724,
           10534,
           7371,
           27552,
           13830,
           15390,
           6039,
           42086,
           35504,
           20618,
           518,
           13248,
           46586,
           27196,
           8142,
           3671,
           7893,
           37132,
           13447,
           11863,
           14770,
           38923,
           40323,
           9763,
           6243,
           17596,
           101413,
           6159,
           7950,
           2817,
           20116,
           16586,
           24409,
           10374,
           33001,
           4621,
           15007,
           51163,
           24481,
           67471,
           78262,
           10074,
           14851,
           11308
          ],
          [
           10239,
           25351,
           21235,
           8789,
           3135,
           68012,
           10676,
           100349,
           39110,
           11960,
           13522,
           19049,
           44918,
           9704,
           31172,
           7452,
           12971,
           44899,
           16826,
           6891,
           15335,
           40640,
           11370,
           22423,
           27092,
           66874,
           8159,
           14511,
           23309,
           20281,
           40361,
           5611,
           17542,
           9394,
           11627,
           55033,
           3601,
           47746,
           52224,
           11895,
           118572,
           22446,
           15840,
           10259,
           3708,
           8069,
           15297,
           10196,
           26693,
           37174,
           30072,
           20958,
           20069,
           28488,
           31953,
           10399,
           21613,
           30804,
           10639,
           35429,
           17822,
           5697,
           8081
          ],
          [
           32275,
           44502,
           29179,
           2227,
           105403,
           13267,
           25776,
           5648,
           10542,
           43365,
           5995,
           5156,
           39502,
           26242,
           95825,
           24464,
           48660,
           17704,
           14927,
           27461,
           46116,
           21320,
           33211,
           19445,
           1812,
           9423,
           17716,
           19156,
           25333,
           13057,
           18576,
           14829,
           32500,
           19060,
           8674,
           28371,
           19291,
           6973,
           12037,
           24435,
           19773,
           22761,
           10754,
           11241,
           29255,
           14401,
           26665,
           17821,
           1540,
           9453,
           7667,
           10393,
           8855,
           17528,
           28379,
           37006,
           22635,
           14682,
           22645,
           15929,
           5762,
           41676,
           11608
          ],
          [
           7559,
           31500,
           26090,
           61620,
           25678,
           9363,
           21841,
           26055,
           37787,
           35185,
           19074,
           11669,
           14355,
           9281,
           21804,
           20568,
           9696,
           6249,
           19434,
           29227,
           13891,
           7788,
           21091,
           16809,
           8752,
           14600,
           24144,
           24072,
           21858,
           62035,
           98480,
           9983,
           11871,
           32957,
           23476,
           18866,
           11449,
           35624,
           20258,
           25435,
           22363,
           6254,
           22709,
           42410,
           7849,
           11642,
           19409,
           22464,
           7840,
           15322,
           30726,
           15459,
           17474,
           62320,
           57943,
           37922,
           47886,
           10536,
           23442,
           16524,
           5404,
           16251,
           20145
          ]
         ]
        }
       ],
       "layout": {
        "height": 800,
        "template": {
         "data": {
          "bar": [
           {
            "error_x": {
             "color": "#f2f5fa"
            },
            "error_y": {
             "color": "#f2f5fa"
            },
            "marker": {
             "line": {
              "color": "rgb(17,17,17)",
              "width": 0.5
             },
             "pattern": {
              "fillmode": "overlay",
              "size": 10,
              "solidity": 0.2
             }
            },
            "type": "bar"
           }
          ],
          "barpolar": [
           {
            "marker": {
             "line": {
              "color": "rgb(17,17,17)",
              "width": 0.5
             },
             "pattern": {
              "fillmode": "overlay",
              "size": 10,
              "solidity": 0.2
             }
            },
            "type": "barpolar"
           }
          ],
          "carpet": [
           {
            "aaxis": {
             "endlinecolor": "#A2B1C6",
             "gridcolor": "#506784",
             "linecolor": "#506784",
             "minorgridcolor": "#506784",
             "startlinecolor": "#A2B1C6"
            },
            "baxis": {
             "endlinecolor": "#A2B1C6",
             "gridcolor": "#506784",
             "linecolor": "#506784",
             "minorgridcolor": "#506784",
             "startlinecolor": "#A2B1C6"
            },
            "type": "carpet"
           }
          ],
          "choropleth": [
           {
            "colorbar": {
             "outlinewidth": 0,
             "ticks": ""
            },
            "type": "choropleth"
           }
          ],
          "contour": [
           {
            "colorbar": {
             "outlinewidth": 0,
             "ticks": ""
            },
            "colorscale": [
             [
              0,
              "#0d0887"
             ],
             [
              0.1111111111111111,
              "#46039f"
             ],
             [
              0.2222222222222222,
              "#7201a8"
             ],
             [
              0.3333333333333333,
              "#9c179e"
             ],
             [
              0.4444444444444444,
              "#bd3786"
             ],
             [
              0.5555555555555556,
              "#d8576b"
             ],
             [
              0.6666666666666666,
              "#ed7953"
             ],
             [
              0.7777777777777778,
              "#fb9f3a"
             ],
             [
              0.8888888888888888,
              "#fdca26"
             ],
             [
              1,
              "#f0f921"
             ]
            ],
            "type": "contour"
           }
          ],
          "contourcarpet": [
           {
            "colorbar": {
             "outlinewidth": 0,
             "ticks": ""
            },
            "type": "contourcarpet"
           }
          ],
          "heatmap": [
           {
            "colorbar": {
             "outlinewidth": 0,
             "ticks": ""
            },
            "colorscale": [
             [
              0,
              "#0d0887"
             ],
             [
              0.1111111111111111,
              "#46039f"
             ],
             [
              0.2222222222222222,
              "#7201a8"
             ],
             [
              0.3333333333333333,
              "#9c179e"
             ],
             [
              0.4444444444444444,
              "#bd3786"
             ],
             [
              0.5555555555555556,
              "#d8576b"
             ],
             [
              0.6666666666666666,
              "#ed7953"
             ],
             [
              0.7777777777777778,
              "#fb9f3a"
             ],
             [
              0.8888888888888888,
              "#fdca26"
             ],
             [
              1,
              "#f0f921"
             ]
            ],
            "type": "heatmap"
           }
          ],
          "heatmapgl": [
           {
            "colorbar": {
             "outlinewidth": 0,
             "ticks": ""
            },
            "colorscale": [
             [
              0,
              "#0d0887"
             ],
             [
              0.1111111111111111,
              "#46039f"
             ],
             [
              0.2222222222222222,
              "#7201a8"
             ],
             [
              0.3333333333333333,
              "#9c179e"
             ],
             [
              0.4444444444444444,
              "#bd3786"
             ],
             [
              0.5555555555555556,
              "#d8576b"
             ],
             [
              0.6666666666666666,
              "#ed7953"
             ],
             [
              0.7777777777777778,
              "#fb9f3a"
             ],
             [
              0.8888888888888888,
              "#fdca26"
             ],
             [
              1,
              "#f0f921"
             ]
            ],
            "type": "heatmapgl"
           }
          ],
          "histogram": [
           {
            "marker": {
             "pattern": {
              "fillmode": "overlay",
              "size": 10,
              "solidity": 0.2
             }
            },
            "type": "histogram"
           }
          ],
          "histogram2d": [
           {
            "colorbar": {
             "outlinewidth": 0,
             "ticks": ""
            },
            "colorscale": [
             [
              0,
              "#0d0887"
             ],
             [
              0.1111111111111111,
              "#46039f"
             ],
             [
              0.2222222222222222,
              "#7201a8"
             ],
             [
              0.3333333333333333,
              "#9c179e"
             ],
             [
              0.4444444444444444,
              "#bd3786"
             ],
             [
              0.5555555555555556,
              "#d8576b"
             ],
             [
              0.6666666666666666,
              "#ed7953"
             ],
             [
              0.7777777777777778,
              "#fb9f3a"
             ],
             [
              0.8888888888888888,
              "#fdca26"
             ],
             [
              1,
              "#f0f921"
             ]
            ],
            "type": "histogram2d"
           }
          ],
          "histogram2dcontour": [
           {
            "colorbar": {
             "outlinewidth": 0,
             "ticks": ""
            },
            "colorscale": [
             [
              0,
              "#0d0887"
             ],
             [
              0.1111111111111111,
              "#46039f"
             ],
             [
              0.2222222222222222,
              "#7201a8"
             ],
             [
              0.3333333333333333,
              "#9c179e"
             ],
             [
              0.4444444444444444,
              "#bd3786"
             ],
             [
              0.5555555555555556,
              "#d8576b"
             ],
             [
              0.6666666666666666,
              "#ed7953"
             ],
             [
              0.7777777777777778,
              "#fb9f3a"
             ],
             [
              0.8888888888888888,
              "#fdca26"
             ],
             [
              1,
              "#f0f921"
             ]
            ],
            "type": "histogram2dcontour"
           }
          ],
          "mesh3d": [
           {
            "colorbar": {
             "outlinewidth": 0,
             "ticks": ""
            },
            "type": "mesh3d"
           }
          ],
          "parcoords": [
           {
            "line": {
             "colorbar": {
              "outlinewidth": 0,
              "ticks": ""
             }
            },
            "type": "parcoords"
           }
          ],
          "pie": [
           {
            "automargin": true,
            "type": "pie"
           }
          ],
          "scatter": [
           {
            "marker": {
             "line": {
              "color": "#283442"
             }
            },
            "type": "scatter"
           }
          ],
          "scatter3d": [
           {
            "line": {
             "colorbar": {
              "outlinewidth": 0,
              "ticks": ""
             }
            },
            "marker": {
             "colorbar": {
              "outlinewidth": 0,
              "ticks": ""
             }
            },
            "type": "scatter3d"
           }
          ],
          "scattercarpet": [
           {
            "marker": {
             "colorbar": {
              "outlinewidth": 0,
              "ticks": ""
             }
            },
            "type": "scattercarpet"
           }
          ],
          "scattergeo": [
           {
            "marker": {
             "colorbar": {
              "outlinewidth": 0,
              "ticks": ""
             }
            },
            "type": "scattergeo"
           }
          ],
          "scattergl": [
           {
            "marker": {
             "line": {
              "color": "#283442"
             }
            },
            "type": "scattergl"
           }
          ],
          "scattermapbox": [
           {
            "marker": {
             "colorbar": {
              "outlinewidth": 0,
              "ticks": ""
             }
            },
            "type": "scattermapbox"
           }
          ],
          "scatterpolar": [
           {
            "marker": {
             "colorbar": {
              "outlinewidth": 0,
              "ticks": ""
             }
            },
            "type": "scatterpolar"
           }
          ],
          "scatterpolargl": [
           {
            "marker": {
             "colorbar": {
              "outlinewidth": 0,
              "ticks": ""
             }
            },
            "type": "scatterpolargl"
           }
          ],
          "scatterternary": [
           {
            "marker": {
             "colorbar": {
              "outlinewidth": 0,
              "ticks": ""
             }
            },
            "type": "scatterternary"
           }
          ],
          "surface": [
           {
            "colorbar": {
             "outlinewidth": 0,
             "ticks": ""
            },
            "colorscale": [
             [
              0,
              "#0d0887"
             ],
             [
              0.1111111111111111,
              "#46039f"
             ],
             [
              0.2222222222222222,
              "#7201a8"
             ],
             [
              0.3333333333333333,
              "#9c179e"
             ],
             [
              0.4444444444444444,
              "#bd3786"
             ],
             [
              0.5555555555555556,
              "#d8576b"
             ],
             [
              0.6666666666666666,
              "#ed7953"
             ],
             [
              0.7777777777777778,
              "#fb9f3a"
             ],
             [
              0.8888888888888888,
              "#fdca26"
             ],
             [
              1,
              "#f0f921"
             ]
            ],
            "type": "surface"
           }
          ],
          "table": [
           {
            "cells": {
             "fill": {
              "color": "#506784"
             },
             "line": {
              "color": "rgb(17,17,17)"
             }
            },
            "header": {
             "fill": {
              "color": "#2a3f5f"
             },
             "line": {
              "color": "rgb(17,17,17)"
             }
            },
            "type": "table"
           }
          ]
         },
         "layout": {
          "annotationdefaults": {
           "arrowcolor": "#f2f5fa",
           "arrowhead": 0,
           "arrowwidth": 1
          },
          "autotypenumbers": "strict",
          "coloraxis": {
           "colorbar": {
            "outlinewidth": 0,
            "ticks": ""
           }
          },
          "colorscale": {
           "diverging": [
            [
             0,
             "#8e0152"
            ],
            [
             0.1,
             "#c51b7d"
            ],
            [
             0.2,
             "#de77ae"
            ],
            [
             0.3,
             "#f1b6da"
            ],
            [
             0.4,
             "#fde0ef"
            ],
            [
             0.5,
             "#f7f7f7"
            ],
            [
             0.6,
             "#e6f5d0"
            ],
            [
             0.7,
             "#b8e186"
            ],
            [
             0.8,
             "#7fbc41"
            ],
            [
             0.9,
             "#4d9221"
            ],
            [
             1,
             "#276419"
            ]
           ],
           "sequential": [
            [
             0,
             "#0d0887"
            ],
            [
             0.1111111111111111,
             "#46039f"
            ],
            [
             0.2222222222222222,
             "#7201a8"
            ],
            [
             0.3333333333333333,
             "#9c179e"
            ],
            [
             0.4444444444444444,
             "#bd3786"
            ],
            [
             0.5555555555555556,
             "#d8576b"
            ],
            [
             0.6666666666666666,
             "#ed7953"
            ],
            [
             0.7777777777777778,
             "#fb9f3a"
            ],
            [
             0.8888888888888888,
             "#fdca26"
            ],
            [
             1,
             "#f0f921"
            ]
           ],
           "sequentialminus": [
            [
             0,
             "#0d0887"
            ],
            [
             0.1111111111111111,
             "#46039f"
            ],
            [
             0.2222222222222222,
             "#7201a8"
            ],
            [
             0.3333333333333333,
             "#9c179e"
            ],
            [
             0.4444444444444444,
             "#bd3786"
            ],
            [
             0.5555555555555556,
             "#d8576b"
            ],
            [
             0.6666666666666666,
             "#ed7953"
            ],
            [
             0.7777777777777778,
             "#fb9f3a"
            ],
            [
             0.8888888888888888,
             "#fdca26"
            ],
            [
             1,
             "#f0f921"
            ]
           ]
          },
          "colorway": [
           "#636efa",
           "#EF553B",
           "#00cc96",
           "#ab63fa",
           "#FFA15A",
           "#19d3f3",
           "#FF6692",
           "#B6E880",
           "#FF97FF",
           "#FECB52"
          ],
          "font": {
           "color": "#f2f5fa"
          },
          "geo": {
           "bgcolor": "rgb(17,17,17)",
           "lakecolor": "rgb(17,17,17)",
           "landcolor": "rgb(17,17,17)",
           "showlakes": true,
           "showland": true,
           "subunitcolor": "#506784"
          },
          "hoverlabel": {
           "align": "left"
          },
          "hovermode": "closest",
          "mapbox": {
           "style": "dark"
          },
          "paper_bgcolor": "rgb(17,17,17)",
          "plot_bgcolor": "rgb(17,17,17)",
          "polar": {
           "angularaxis": {
            "gridcolor": "#506784",
            "linecolor": "#506784",
            "ticks": ""
           },
           "bgcolor": "rgb(17,17,17)",
           "radialaxis": {
            "gridcolor": "#506784",
            "linecolor": "#506784",
            "ticks": ""
           }
          },
          "scene": {
           "xaxis": {
            "backgroundcolor": "rgb(17,17,17)",
            "gridcolor": "#506784",
            "gridwidth": 2,
            "linecolor": "#506784",
            "showbackground": true,
            "ticks": "",
            "zerolinecolor": "#C8D4E3"
           },
           "yaxis": {
            "backgroundcolor": "rgb(17,17,17)",
            "gridcolor": "#506784",
            "gridwidth": 2,
            "linecolor": "#506784",
            "showbackground": true,
            "ticks": "",
            "zerolinecolor": "#C8D4E3"
           },
           "zaxis": {
            "backgroundcolor": "rgb(17,17,17)",
            "gridcolor": "#506784",
            "gridwidth": 2,
            "linecolor": "#506784",
            "showbackground": true,
            "ticks": "",
            "zerolinecolor": "#C8D4E3"
           }
          },
          "shapedefaults": {
           "line": {
            "color": "#f2f5fa"
           }
          },
          "sliderdefaults": {
           "bgcolor": "#C8D4E3",
           "bordercolor": "rgb(17,17,17)",
           "borderwidth": 1,
           "tickwidth": 0
          },
          "ternary": {
           "aaxis": {
            "gridcolor": "#506784",
            "linecolor": "#506784",
            "ticks": ""
           },
           "baxis": {
            "gridcolor": "#506784",
            "linecolor": "#506784",
            "ticks": ""
           },
           "bgcolor": "rgb(17,17,17)",
           "caxis": {
            "gridcolor": "#506784",
            "linecolor": "#506784",
            "ticks": ""
           }
          },
          "title": {
           "x": 0.05
          },
          "updatemenudefaults": {
           "bgcolor": "#506784",
           "borderwidth": 0
          },
          "xaxis": {
           "automargin": true,
           "gridcolor": "#283442",
           "linecolor": "#506784",
           "ticks": "",
           "title": {
            "standoff": 15
           },
           "zerolinecolor": "#283442",
           "zerolinewidth": 2
          },
          "yaxis": {
           "automargin": true,
           "gridcolor": "#283442",
           "linecolor": "#506784",
           "ticks": "",
           "title": {
            "standoff": 15
           },
           "zerolinecolor": "#283442",
           "zerolinewidth": 2
          }
         }
        },
        "title": {
         "text": "token distribution heatmap for arc_easy"
        },
        "width": 1200,
        "xaxis": {
         "title": {
          "text": "Expert Index"
         }
        },
        "yaxis": {
         "title": {
          "text": "Layer"
         }
        }
       }
      }
     },
     "metadata": {},
     "output_type": "display_data"
    }
   ],
   "source": [
    "fig, count_matrix, token_counts = analyze_dataset(\n",
    "    plot_type='heatmap', # or 'bar'\n",
    "    file_path='dataset/arc_easy.txt',\n",
    "    model= model,\n",
    "    tokenizer= tokenizer,\n",
    "    domain='arc_easy',\n",
    "    chunk_size=1024,\n",
    "    num_shared_experts=1, \n",
    "    num_topk=7,\n",
    "    force_recompute=False\n",
    "    # layer_id=1 # only for bar plot\n",
    ")\n",
    "\n",
    "fig.show()"
   ]
  },
  {
   "cell_type": "code",
   "execution_count": 40,
   "metadata": {},
   "outputs": [
    {
     "name": "stdout",
     "output_type": "stream",
     "text": [
      "Loading existing results from plots-deepseek/arc_easy_count_matrix.npy\n",
      "Generating visualization from cached data...\n"
     ]
    },
    {
     "data": {
      "application/vnd.plotly.v1+json": {
       "config": {
        "plotlyServerURL": "https://plot.ly"
       },
       "data": [
        {
         "hoverinfo": "text",
         "hovertext": [
          "Expert 1<br>Tokens: 8369<br>Percentage: 0.5%",
          "Expert 2<br>Tokens: 12649<br>Percentage: 0.8%",
          "Expert 3<br>Tokens: 17138<br>Percentage: 1.1%",
          "Expert 4<br>Tokens: 6153<br>Percentage: 0.4%",
          "Expert 5<br>Tokens: 19910<br>Percentage: 1.3%",
          "Expert 6<br>Tokens: 12163<br>Percentage: 0.8%",
          "Expert 7<br>Tokens: 8618<br>Percentage: 0.6%",
          "Expert 8<br>Tokens: 21069<br>Percentage: 1.4%",
          "Expert 9<br>Tokens: 9115<br>Percentage: 0.6%",
          "Expert 10<br>Tokens: 21510<br>Percentage: 1.4%",
          "Expert 11<br>Tokens: 28032<br>Percentage: 1.8%",
          "Expert 12<br>Tokens: 21501<br>Percentage: 1.4%",
          "Expert 13<br>Tokens: 13623<br>Percentage: 0.9%",
          "Expert 14<br>Tokens: 10522<br>Percentage: 0.7%",
          "Expert 15<br>Tokens: 23394<br>Percentage: 1.5%",
          "Expert 16<br>Tokens: 50649<br>Percentage: 3.3%",
          "Expert 17<br>Tokens: 7860<br>Percentage: 0.5%",
          "Expert 18<br>Tokens: 9259<br>Percentage: 0.6%",
          "Expert 19<br>Tokens: 18132<br>Percentage: 1.2%",
          "Expert 20<br>Tokens: 21919<br>Percentage: 1.4%",
          "Expert 21<br>Tokens: 50713<br>Percentage: 3.3%",
          "Expert 22<br>Tokens: 20259<br>Percentage: 1.3%",
          "Expert 23<br>Tokens: 9509<br>Percentage: 0.6%",
          "Expert 24<br>Tokens: 25119<br>Percentage: 1.6%",
          "Expert 25<br>Tokens: 70352<br>Percentage: 4.6%",
          "Expert 26<br>Tokens: 55699<br>Percentage: 3.6%",
          "Expert 27<br>Tokens: 10187<br>Percentage: 0.7%",
          "Expert 28<br>Tokens: 10520<br>Percentage: 0.7%",
          "Expert 29<br>Tokens: 10884<br>Percentage: 0.7%",
          "Expert 30<br>Tokens: 12420<br>Percentage: 0.8%",
          "Expert 31<br>Tokens: 6962<br>Percentage: 0.5%",
          "Expert 32<br>Tokens: 127505<br>Percentage: 8.3%",
          "Expert 33<br>Tokens: 1898<br>Percentage: 0.1%",
          "Expert 34<br>Tokens: 59092<br>Percentage: 3.9%",
          "Expert 35<br>Tokens: 32989<br>Percentage: 2.2%",
          "Expert 36<br>Tokens: 45080<br>Percentage: 2.9%",
          "Expert 37<br>Tokens: 7571<br>Percentage: 0.5%",
          "Expert 38<br>Tokens: 31285<br>Percentage: 2.0%",
          "Expert 39<br>Tokens: 16462<br>Percentage: 1.1%",
          "Expert 40<br>Tokens: 13820<br>Percentage: 0.9%",
          "Expert 41<br>Tokens: 32121<br>Percentage: 2.1%",
          "Expert 42<br>Tokens: 28823<br>Percentage: 1.9%",
          "Expert 43<br>Tokens: 12131<br>Percentage: 0.8%",
          "Expert 44<br>Tokens: 9264<br>Percentage: 0.6%",
          "Expert 45<br>Tokens: 6750<br>Percentage: 0.4%",
          "Expert 46<br>Tokens: 10419<br>Percentage: 0.7%",
          "Expert 47<br>Tokens: 18505<br>Percentage: 1.2%",
          "Expert 48<br>Tokens: 21878<br>Percentage: 1.4%",
          "Expert 49<br>Tokens: 8493<br>Percentage: 0.6%",
          "Expert 50<br>Tokens: 10494<br>Percentage: 0.7%",
          "Expert 51<br>Tokens: 18181<br>Percentage: 1.2%",
          "Expert 52<br>Tokens: 813<br>Percentage: 0.1%",
          "Expert 53<br>Tokens: 12233<br>Percentage: 0.8%",
          "Expert 54<br>Tokens: 31269<br>Percentage: 2.0%",
          "Expert 55<br>Tokens: 68693<br>Percentage: 4.5%",
          "Expert 56<br>Tokens: 56842<br>Percentage: 3.7%",
          "Expert 57<br>Tokens: 16741<br>Percentage: 1.1%",
          "Expert 58<br>Tokens: 103899<br>Percentage: 6.8%",
          "Expert 59<br>Tokens: 10169<br>Percentage: 0.7%",
          "Expert 60<br>Tokens: 26175<br>Percentage: 1.7%",
          "Expert 61<br>Tokens: 36103<br>Percentage: 2.4%",
          "Expert 62<br>Tokens: 28001<br>Percentage: 1.8%",
          "Expert 63<br>Tokens: 5577<br>Percentage: 0.4%"
         ],
         "marker": {
          "color": "#636EFA"
         },
         "type": "bar",
         "x": [
          "1",
          "2",
          "3",
          "4",
          "5",
          "6",
          "7",
          "8",
          "9",
          "10",
          "11",
          "12",
          "13",
          "14",
          "15",
          "16",
          "17",
          "18",
          "19",
          "20",
          "21",
          "22",
          "23",
          "24",
          "25",
          "26",
          "27",
          "28",
          "29",
          "30",
          "31",
          "32",
          "33",
          "34",
          "35",
          "36",
          "37",
          "38",
          "39",
          "40",
          "41",
          "42",
          "43",
          "44",
          "45",
          "46",
          "47",
          "48",
          "49",
          "50",
          "51",
          "52",
          "53",
          "54",
          "55",
          "56",
          "57",
          "58",
          "59",
          "60",
          "61",
          "62",
          "63"
         ],
         "y": [
          8369,
          12649,
          17138,
          6153,
          19910,
          12163,
          8618,
          21069,
          9115,
          21510,
          28032,
          21501,
          13623,
          10522,
          23394,
          50649,
          7860,
          9259,
          18132,
          21919,
          50713,
          20259,
          9509,
          25119,
          70352,
          55699,
          10187,
          10520,
          10884,
          12420,
          6962,
          127505,
          1898,
          59092,
          32989,
          45080,
          7571,
          31285,
          16462,
          13820,
          32121,
          28823,
          12131,
          9264,
          6750,
          10419,
          18505,
          21878,
          8493,
          10494,
          18181,
          813,
          12233,
          31269,
          68693,
          56842,
          16741,
          103899,
          10169,
          26175,
          36103,
          28001,
          5577
         ]
        }
       ],
       "layout": {
        "annotations": [
         {
          "font": {
           "size": 12
          },
          "showarrow": false,
          "text": "Total Routing Decisions: 1,533,485<br>Actual Tokens: 221,885",
          "x": 1,
          "xanchor": "right",
          "xref": "paper",
          "y": 1,
          "yanchor": "top",
          "yref": "paper"
         }
        ],
        "height": 600,
        "showlegend": false,
        "template": {
         "data": {
          "bar": [
           {
            "error_x": {
             "color": "#f2f5fa"
            },
            "error_y": {
             "color": "#f2f5fa"
            },
            "marker": {
             "line": {
              "color": "rgb(17,17,17)",
              "width": 0.5
             },
             "pattern": {
              "fillmode": "overlay",
              "size": 10,
              "solidity": 0.2
             }
            },
            "type": "bar"
           }
          ],
          "barpolar": [
           {
            "marker": {
             "line": {
              "color": "rgb(17,17,17)",
              "width": 0.5
             },
             "pattern": {
              "fillmode": "overlay",
              "size": 10,
              "solidity": 0.2
             }
            },
            "type": "barpolar"
           }
          ],
          "carpet": [
           {
            "aaxis": {
             "endlinecolor": "#A2B1C6",
             "gridcolor": "#506784",
             "linecolor": "#506784",
             "minorgridcolor": "#506784",
             "startlinecolor": "#A2B1C6"
            },
            "baxis": {
             "endlinecolor": "#A2B1C6",
             "gridcolor": "#506784",
             "linecolor": "#506784",
             "minorgridcolor": "#506784",
             "startlinecolor": "#A2B1C6"
            },
            "type": "carpet"
           }
          ],
          "choropleth": [
           {
            "colorbar": {
             "outlinewidth": 0,
             "ticks": ""
            },
            "type": "choropleth"
           }
          ],
          "contour": [
           {
            "colorbar": {
             "outlinewidth": 0,
             "ticks": ""
            },
            "colorscale": [
             [
              0,
              "#0d0887"
             ],
             [
              0.1111111111111111,
              "#46039f"
             ],
             [
              0.2222222222222222,
              "#7201a8"
             ],
             [
              0.3333333333333333,
              "#9c179e"
             ],
             [
              0.4444444444444444,
              "#bd3786"
             ],
             [
              0.5555555555555556,
              "#d8576b"
             ],
             [
              0.6666666666666666,
              "#ed7953"
             ],
             [
              0.7777777777777778,
              "#fb9f3a"
             ],
             [
              0.8888888888888888,
              "#fdca26"
             ],
             [
              1,
              "#f0f921"
             ]
            ],
            "type": "contour"
           }
          ],
          "contourcarpet": [
           {
            "colorbar": {
             "outlinewidth": 0,
             "ticks": ""
            },
            "type": "contourcarpet"
           }
          ],
          "heatmap": [
           {
            "colorbar": {
             "outlinewidth": 0,
             "ticks": ""
            },
            "colorscale": [
             [
              0,
              "#0d0887"
             ],
             [
              0.1111111111111111,
              "#46039f"
             ],
             [
              0.2222222222222222,
              "#7201a8"
             ],
             [
              0.3333333333333333,
              "#9c179e"
             ],
             [
              0.4444444444444444,
              "#bd3786"
             ],
             [
              0.5555555555555556,
              "#d8576b"
             ],
             [
              0.6666666666666666,
              "#ed7953"
             ],
             [
              0.7777777777777778,
              "#fb9f3a"
             ],
             [
              0.8888888888888888,
              "#fdca26"
             ],
             [
              1,
              "#f0f921"
             ]
            ],
            "type": "heatmap"
           }
          ],
          "heatmapgl": [
           {
            "colorbar": {
             "outlinewidth": 0,
             "ticks": ""
            },
            "colorscale": [
             [
              0,
              "#0d0887"
             ],
             [
              0.1111111111111111,
              "#46039f"
             ],
             [
              0.2222222222222222,
              "#7201a8"
             ],
             [
              0.3333333333333333,
              "#9c179e"
             ],
             [
              0.4444444444444444,
              "#bd3786"
             ],
             [
              0.5555555555555556,
              "#d8576b"
             ],
             [
              0.6666666666666666,
              "#ed7953"
             ],
             [
              0.7777777777777778,
              "#fb9f3a"
             ],
             [
              0.8888888888888888,
              "#fdca26"
             ],
             [
              1,
              "#f0f921"
             ]
            ],
            "type": "heatmapgl"
           }
          ],
          "histogram": [
           {
            "marker": {
             "pattern": {
              "fillmode": "overlay",
              "size": 10,
              "solidity": 0.2
             }
            },
            "type": "histogram"
           }
          ],
          "histogram2d": [
           {
            "colorbar": {
             "outlinewidth": 0,
             "ticks": ""
            },
            "colorscale": [
             [
              0,
              "#0d0887"
             ],
             [
              0.1111111111111111,
              "#46039f"
             ],
             [
              0.2222222222222222,
              "#7201a8"
             ],
             [
              0.3333333333333333,
              "#9c179e"
             ],
             [
              0.4444444444444444,
              "#bd3786"
             ],
             [
              0.5555555555555556,
              "#d8576b"
             ],
             [
              0.6666666666666666,
              "#ed7953"
             ],
             [
              0.7777777777777778,
              "#fb9f3a"
             ],
             [
              0.8888888888888888,
              "#fdca26"
             ],
             [
              1,
              "#f0f921"
             ]
            ],
            "type": "histogram2d"
           }
          ],
          "histogram2dcontour": [
           {
            "colorbar": {
             "outlinewidth": 0,
             "ticks": ""
            },
            "colorscale": [
             [
              0,
              "#0d0887"
             ],
             [
              0.1111111111111111,
              "#46039f"
             ],
             [
              0.2222222222222222,
              "#7201a8"
             ],
             [
              0.3333333333333333,
              "#9c179e"
             ],
             [
              0.4444444444444444,
              "#bd3786"
             ],
             [
              0.5555555555555556,
              "#d8576b"
             ],
             [
              0.6666666666666666,
              "#ed7953"
             ],
             [
              0.7777777777777778,
              "#fb9f3a"
             ],
             [
              0.8888888888888888,
              "#fdca26"
             ],
             [
              1,
              "#f0f921"
             ]
            ],
            "type": "histogram2dcontour"
           }
          ],
          "mesh3d": [
           {
            "colorbar": {
             "outlinewidth": 0,
             "ticks": ""
            },
            "type": "mesh3d"
           }
          ],
          "parcoords": [
           {
            "line": {
             "colorbar": {
              "outlinewidth": 0,
              "ticks": ""
             }
            },
            "type": "parcoords"
           }
          ],
          "pie": [
           {
            "automargin": true,
            "type": "pie"
           }
          ],
          "scatter": [
           {
            "marker": {
             "line": {
              "color": "#283442"
             }
            },
            "type": "scatter"
           }
          ],
          "scatter3d": [
           {
            "line": {
             "colorbar": {
              "outlinewidth": 0,
              "ticks": ""
             }
            },
            "marker": {
             "colorbar": {
              "outlinewidth": 0,
              "ticks": ""
             }
            },
            "type": "scatter3d"
           }
          ],
          "scattercarpet": [
           {
            "marker": {
             "colorbar": {
              "outlinewidth": 0,
              "ticks": ""
             }
            },
            "type": "scattercarpet"
           }
          ],
          "scattergeo": [
           {
            "marker": {
             "colorbar": {
              "outlinewidth": 0,
              "ticks": ""
             }
            },
            "type": "scattergeo"
           }
          ],
          "scattergl": [
           {
            "marker": {
             "line": {
              "color": "#283442"
             }
            },
            "type": "scattergl"
           }
          ],
          "scattermapbox": [
           {
            "marker": {
             "colorbar": {
              "outlinewidth": 0,
              "ticks": ""
             }
            },
            "type": "scattermapbox"
           }
          ],
          "scatterpolar": [
           {
            "marker": {
             "colorbar": {
              "outlinewidth": 0,
              "ticks": ""
             }
            },
            "type": "scatterpolar"
           }
          ],
          "scatterpolargl": [
           {
            "marker": {
             "colorbar": {
              "outlinewidth": 0,
              "ticks": ""
             }
            },
            "type": "scatterpolargl"
           }
          ],
          "scatterternary": [
           {
            "marker": {
             "colorbar": {
              "outlinewidth": 0,
              "ticks": ""
             }
            },
            "type": "scatterternary"
           }
          ],
          "surface": [
           {
            "colorbar": {
             "outlinewidth": 0,
             "ticks": ""
            },
            "colorscale": [
             [
              0,
              "#0d0887"
             ],
             [
              0.1111111111111111,
              "#46039f"
             ],
             [
              0.2222222222222222,
              "#7201a8"
             ],
             [
              0.3333333333333333,
              "#9c179e"
             ],
             [
              0.4444444444444444,
              "#bd3786"
             ],
             [
              0.5555555555555556,
              "#d8576b"
             ],
             [
              0.6666666666666666,
              "#ed7953"
             ],
             [
              0.7777777777777778,
              "#fb9f3a"
             ],
             [
              0.8888888888888888,
              "#fdca26"
             ],
             [
              1,
              "#f0f921"
             ]
            ],
            "type": "surface"
           }
          ],
          "table": [
           {
            "cells": {
             "fill": {
              "color": "#506784"
             },
             "line": {
              "color": "rgb(17,17,17)"
             }
            },
            "header": {
             "fill": {
              "color": "#2a3f5f"
             },
             "line": {
              "color": "rgb(17,17,17)"
             }
            },
            "type": "table"
           }
          ]
         },
         "layout": {
          "annotationdefaults": {
           "arrowcolor": "#f2f5fa",
           "arrowhead": 0,
           "arrowwidth": 1
          },
          "autotypenumbers": "strict",
          "coloraxis": {
           "colorbar": {
            "outlinewidth": 0,
            "ticks": ""
           }
          },
          "colorscale": {
           "diverging": [
            [
             0,
             "#8e0152"
            ],
            [
             0.1,
             "#c51b7d"
            ],
            [
             0.2,
             "#de77ae"
            ],
            [
             0.3,
             "#f1b6da"
            ],
            [
             0.4,
             "#fde0ef"
            ],
            [
             0.5,
             "#f7f7f7"
            ],
            [
             0.6,
             "#e6f5d0"
            ],
            [
             0.7,
             "#b8e186"
            ],
            [
             0.8,
             "#7fbc41"
            ],
            [
             0.9,
             "#4d9221"
            ],
            [
             1,
             "#276419"
            ]
           ],
           "sequential": [
            [
             0,
             "#0d0887"
            ],
            [
             0.1111111111111111,
             "#46039f"
            ],
            [
             0.2222222222222222,
             "#7201a8"
            ],
            [
             0.3333333333333333,
             "#9c179e"
            ],
            [
             0.4444444444444444,
             "#bd3786"
            ],
            [
             0.5555555555555556,
             "#d8576b"
            ],
            [
             0.6666666666666666,
             "#ed7953"
            ],
            [
             0.7777777777777778,
             "#fb9f3a"
            ],
            [
             0.8888888888888888,
             "#fdca26"
            ],
            [
             1,
             "#f0f921"
            ]
           ],
           "sequentialminus": [
            [
             0,
             "#0d0887"
            ],
            [
             0.1111111111111111,
             "#46039f"
            ],
            [
             0.2222222222222222,
             "#7201a8"
            ],
            [
             0.3333333333333333,
             "#9c179e"
            ],
            [
             0.4444444444444444,
             "#bd3786"
            ],
            [
             0.5555555555555556,
             "#d8576b"
            ],
            [
             0.6666666666666666,
             "#ed7953"
            ],
            [
             0.7777777777777778,
             "#fb9f3a"
            ],
            [
             0.8888888888888888,
             "#fdca26"
            ],
            [
             1,
             "#f0f921"
            ]
           ]
          },
          "colorway": [
           "#636efa",
           "#EF553B",
           "#00cc96",
           "#ab63fa",
           "#FFA15A",
           "#19d3f3",
           "#FF6692",
           "#B6E880",
           "#FF97FF",
           "#FECB52"
          ],
          "font": {
           "color": "#f2f5fa"
          },
          "geo": {
           "bgcolor": "rgb(17,17,17)",
           "lakecolor": "rgb(17,17,17)",
           "landcolor": "rgb(17,17,17)",
           "showlakes": true,
           "showland": true,
           "subunitcolor": "#506784"
          },
          "hoverlabel": {
           "align": "left"
          },
          "hovermode": "closest",
          "mapbox": {
           "style": "dark"
          },
          "paper_bgcolor": "rgb(17,17,17)",
          "plot_bgcolor": "rgb(17,17,17)",
          "polar": {
           "angularaxis": {
            "gridcolor": "#506784",
            "linecolor": "#506784",
            "ticks": ""
           },
           "bgcolor": "rgb(17,17,17)",
           "radialaxis": {
            "gridcolor": "#506784",
            "linecolor": "#506784",
            "ticks": ""
           }
          },
          "scene": {
           "xaxis": {
            "backgroundcolor": "rgb(17,17,17)",
            "gridcolor": "#506784",
            "gridwidth": 2,
            "linecolor": "#506784",
            "showbackground": true,
            "ticks": "",
            "zerolinecolor": "#C8D4E3"
           },
           "yaxis": {
            "backgroundcolor": "rgb(17,17,17)",
            "gridcolor": "#506784",
            "gridwidth": 2,
            "linecolor": "#506784",
            "showbackground": true,
            "ticks": "",
            "zerolinecolor": "#C8D4E3"
           },
           "zaxis": {
            "backgroundcolor": "rgb(17,17,17)",
            "gridcolor": "#506784",
            "gridwidth": 2,
            "linecolor": "#506784",
            "showbackground": true,
            "ticks": "",
            "zerolinecolor": "#C8D4E3"
           }
          },
          "shapedefaults": {
           "line": {
            "color": "#f2f5fa"
           }
          },
          "sliderdefaults": {
           "bgcolor": "#C8D4E3",
           "bordercolor": "rgb(17,17,17)",
           "borderwidth": 1,
           "tickwidth": 0
          },
          "ternary": {
           "aaxis": {
            "gridcolor": "#506784",
            "linecolor": "#506784",
            "ticks": ""
           },
           "baxis": {
            "gridcolor": "#506784",
            "linecolor": "#506784",
            "ticks": ""
           },
           "bgcolor": "rgb(17,17,17)",
           "caxis": {
            "gridcolor": "#506784",
            "linecolor": "#506784",
            "ticks": ""
           }
          },
          "title": {
           "x": 0.05
          },
          "updatemenudefaults": {
           "bgcolor": "#506784",
           "borderwidth": 0
          },
          "xaxis": {
           "automargin": true,
           "gridcolor": "#283442",
           "linecolor": "#506784",
           "ticks": "",
           "title": {
            "standoff": 15
           },
           "zerolinecolor": "#283442",
           "zerolinewidth": 2
          },
          "yaxis": {
           "automargin": true,
           "gridcolor": "#283442",
           "linecolor": "#506784",
           "ticks": "",
           "title": {
            "standoff": 15
           },
           "zerolinecolor": "#283442",
           "zerolinewidth": 2
          }
         }
        },
        "title": {
         "text": "Token Distribution Across Experts in Layer 1 (arc_easy)"
        },
        "width": 1200,
        "xaxis": {
         "tickangle": -45,
         "title": {
          "text": "Expert"
         }
        },
        "yaxis": {
         "range": [
          0,
          1533485
         ],
         "title": {
          "text": "Number of Routing Decisions"
         }
        }
       }
      }
     },
     "metadata": {},
     "output_type": "display_data"
    }
   ],
   "source": [
    "fig, count_matrix, token_counts = analyze_dataset(\n",
    "    plot_type='bar',\n",
    "    file_path='dataset/arc_easy.txt',\n",
    "    model= model,\n",
    "    tokenizer= tokenizer,\n",
    "    domain='arc_easy',\n",
    "    chunk_size=1024,\n",
    "    num_shared_experts=1, \n",
    "    num_topk=7,\n",
    "    force_recompute=False,\n",
    "    layer_id=1 # only for bar plot\n",
    ")\n",
    "\n",
    "fig.show()"
   ]
  },
  {
   "cell_type": "code",
   "execution_count": null,
   "metadata": {},
   "outputs": [],
   "source": []
  }
 ],
 "metadata": {
  "kernelspec": {
   "display_name": "ai_env",
   "language": "python",
   "name": "python3"
  },
  "language_info": {
   "codemirror_mode": {
    "name": "ipython",
    "version": 3
   },
   "file_extension": ".py",
   "mimetype": "text/x-python",
   "name": "python",
   "nbconvert_exporter": "python",
   "pygments_lexer": "ipython3",
   "version": "3.10.13"
  }
 },
 "nbformat": 4,
 "nbformat_minor": 2
}
