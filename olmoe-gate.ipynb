{
 "cells": [
  {
   "cell_type": "code",
   "execution_count": 1,
   "metadata": {},
   "outputs": [],
   "source": [
    "from transformers import AutoModelForCausalLM, AutoTokenizer\n",
    "import torch\n",
    "from sklearn.decomposition import PCA\n",
    "import plotly.express as px\n",
    "import plotly.graph_objects as go\n",
    "import json\n",
    "import numpy as np\n",
    "import matplotlib.pyplot as plt\n",
    "import os\n",
    "from collections import defaultdict\n",
    "import gc"
   ]
  },
  {
   "cell_type": "code",
   "execution_count": 2,
   "metadata": {},
   "outputs": [
    {
     "name": "stdout",
     "output_type": "stream",
     "text": [
      "CUDA not available, using CPU\n"
     ]
    }
   ],
   "source": [
    "def setup_device():\n",
    "    \"\"\"Set up device and optimizations with graceful CPU fallback\"\"\"\n",
    "    if torch.cuda.is_available():\n",
    "        device = torch.device(\"cuda\")\n",
    "        # Enable TF32 for better performance on Ampere+ GPUs\n",
    "        torch.backends.cuda.matmul.allow_tf32 = True\n",
    "        torch.backends.cudnn.allow_tf32 = True\n",
    "        print(f\"Using CUDA device: {torch.cuda.get_device_name()}\")\n",
    "        print(f\"GPU Memory available: {torch.cuda.get_device_properties(device).total_memory/1e9:.2f} GB\")\n",
    "    else:\n",
    "        device = torch.device(\"cpu\")\n",
    "        print(\"CUDA not available, using CPU\")\n",
    "    return device\n",
    "\n",
    "device = setup_device()\n",
    "\n",
    "def clear_gpu_memory():\n",
    "    \"\"\"Clear GPU memory cache and force garbage collection\"\"\"\n",
    "    if torch.cuda.is_available():\n",
    "        torch.cuda.empty_cache()\n",
    "        torch.cuda.synchronize()\n",
    "    gc.collect()"
   ]
  },
  {
   "cell_type": "code",
   "execution_count": 3,
   "metadata": {},
   "outputs": [
    {
     "data": {
      "application/vnd.jupyter.widget-view+json": {
       "model_id": "9806329d2b0242ec8010d31375788875",
       "version_major": 2,
       "version_minor": 0
      },
      "text/plain": [
       "Loading checkpoint shards:   0%|          | 0/3 [00:00<?, ?it/s]"
      ]
     },
     "metadata": {},
     "output_type": "display_data"
    }
   ],
   "source": [
    "def load_model(model_name, device):\n",
    "    \"\"\"Load model with appropriate dtype and device placement\"\"\"\n",
    "    dtype = torch.bfloat16 if torch.cuda.is_available() else torch.float32\n",
    "    model = AutoModelForCausalLM.from_pretrained(\n",
    "        model_name,\n",
    "        torch_dtype=dtype,\n",
    "        device_map=\"auto\" if torch.cuda.is_available() else None,\n",
    "        trust_remote_code=True,\n",
    "    ).eval()\n",
    "    tokenizer = AutoTokenizer.from_pretrained(model_name)\n",
    "    \n",
    "    if not torch.cuda.is_available():\n",
    "        model = model.to(device)\n",
    "        \n",
    "    return model, tokenizer\n",
    "\n",
    "model, tokenizer = load_model(\"allenai/OLMoE-1B-7B-0924\", device)"
   ]
  },
  {
   "cell_type": "code",
   "execution_count": 4,
   "metadata": {},
   "outputs": [],
   "source": [
    "def get_moe_metadata(model, input_ids):\n",
    "    \"\"\"Get both router logits and expert indices for all MoE layers\"\"\"\n",
    "    router_logits_list = []\n",
    "    expert_indices_list = []\n",
    "    \n",
    "    def hook_fn(module, input, output):\n",
    "        hidden_states = input[0]\n",
    "        logits = torch.matmul(hidden_states, module.weight.T)\n",
    "        probs = torch.nn.functional.softmax(logits, dim=-1)\n",
    "        _, indices = torch.topk(probs, model.config.num_experts_per_tok, dim=-1)\n",
    "        \n",
    "        router_logits_list.append(logits.detach())\n",
    "        expert_indices_list.append(indices.detach())\n",
    "        return output\n",
    "    \n",
    "    hooks = []\n",
    "    layers = [layer for layer in model.model.layers \n",
    "             if layer.mlp.__class__.__name__ == 'OlmoeSparseMoeBlock']\n",
    "    \n",
    "    for layer in layers:\n",
    "        hook = layer.mlp.gate.register_forward_hook(hook_fn)\n",
    "        hooks.append(hook)\n",
    "\n",
    "    # Move input_ids to same device as model\n",
    "    input_ids = input_ids.to(model.device)\n",
    "    \n",
    "    with torch.no_grad():\n",
    "        model(input_ids)\n",
    "    \n",
    "    for hook in hooks:\n",
    "        hook.remove()\n",
    "\n",
    "    router_logits = torch.stack(router_logits_list) if router_logits_list else None\n",
    "    expert_indices = torch.stack(expert_indices_list) if expert_indices_list else None\n",
    "\n",
    "    return router_logits, expert_indices"
   ]
  },
  {
   "cell_type": "code",
   "execution_count": 5,
   "metadata": {
    "slideshow": {
     "slide_type": "slide"
    }
   },
   "outputs": [
    {
     "name": "stdout",
     "output_type": "stream",
     "text": [
      "input_ids shape: torch.Size([1, 4])\n",
      "router_logits shape: torch.Size([16, 4, 64])\n",
      "expert_indices shape: torch.Size([16, 4, 8])\n"
     ]
    }
   ],
   "source": [
    "input = \"the quick brown fox\"\n",
    "input_ids = tokenizer.encode(input, return_tensors=\"pt\")\n",
    "print(f\"input_ids shape: {input_ids.shape}\")\n",
    "\n",
    "# Get MoE metadata\n",
    "router_logits, expert_indices = get_moe_metadata(model, input_ids)\n",
    "\n",
    "print(f\"router_logits shape: {router_logits.shape}\")\n",
    "print(f\"expert_indices shape: {expert_indices.shape}\")\n",
    "# print(f\"router_logits shape: {router_logits.shape}\")\n",
    "\n",
    "# Each element in router_logits is tensor of shape:\n",
    "# [batch_size, sequence_length, num_experts]\n",
    "\n",
    "# Each element in expert_indices is tensor of shape:\n",
    "# [batch_size, sequence_length, num_experts_per_tok]"
   ]
  },
  {
   "cell_type": "code",
   "execution_count": 6,
   "metadata": {},
   "outputs": [],
   "source": [
    "def get_last_token_router_probs(router_logits, model_layer_idx):\n",
    "    \"\"\"\n",
    "    Get router probabilities for the last token in the sequence\n",
    "    for a specific MODEL LAYER INDEX (0-15 for MoE layers)\n",
    "    \"\"\"\n",
    "    if model_layer_idx < 0 or model_layer_idx >= router_logits.size(0):\n",
    "        raise ValueError(f\"Invalid model_layer_idx {model_layer_idx}. Must be 0-15 for MoE layers\")\n",
    "    \n",
    "    # Ensure inputs are on CUDA\n",
    "    router_logits = router_logits.cuda()\n",
    "    \n",
    "    layer_logits = router_logits[model_layer_idx]  # [seq_len, num_experts]\n",
    "    \n",
    "    last_token_logits = layer_logits[-1]  # [num_experts]\n",
    "    routing_probs = torch.nn.functional.softmax(last_token_logits, dim=-1)\n",
    "    \n",
    "    return routing_probs\n",
    "\n",
    "def topk(router_probs, k):\n",
    "    \"\"\"zero out all components except top k router probabilities\"\"\"\n",
    "    # Ensure inputs are on CUDA\n",
    "    router_probs = router_probs.cuda()\n",
    "    \n",
    "    values, indices = torch.topk(router_probs, k)\n",
    "    zeroed_probs = torch.zeros_like(router_probs, device='cuda')\n",
    "    zeroed_probs[indices] = values\n",
    "    return zeroed_probs"
   ]
  },
  {
   "cell_type": "code",
   "execution_count": 7,
   "metadata": {},
   "outputs": [],
   "source": [
    "# x = get_last_token_router_probs(router_logits, 3)\n",
    "# print(f\"x: {x}\")\n",
    "# y = topk(x, 8)\n",
    "# print(f\"y: {y}\")"
   ]
  },
  {
   "cell_type": "code",
   "execution_count": 15,
   "metadata": {},
   "outputs": [],
   "source": [
    "def get_moe_data(model, tokenizer, prompts):\n",
    "    \"\"\"\n",
    "    Collects both all-token and last-token MoE data in a single forward pass per prompt.\n",
    "    \n",
    "    Args:\n",
    "        model: OLMoE model\n",
    "        tokenizer: OLMoE tokenizer \n",
    "        prompts: List of prompts or list of lists of prompts\n",
    "    \"\"\"\n",
    "    # Clear CUDA cache if available\n",
    "    if torch.cuda.is_available():\n",
    "        torch.cuda.empty_cache()\n",
    "    \n",
    "    # Flatten prompts if it's a list of lists\n",
    "    if isinstance(prompts[0], list):\n",
    "        prompts = [prompt for domain_prompts in prompts for prompt in domain_prompts]\n",
    "    \n",
    "    num_prompts = len(prompts)\n",
    "    \n",
    "    # First tokenize one prompt to get reasonable max length\n",
    "    sample_output = tokenizer(prompts[0], return_length=True)\n",
    "    max_seq_len = min(4096, max(len(tokenizer.encode(prompt)) for prompt in prompts))  # Cap at model's max length\n",
    "    \n",
    "    num_moe_layers = sum(1 for layer in model.model.layers if layer.mlp.__class__.__name__ == 'OlmoeSparseMoeBlock')\n",
    "    print(f\"Number of MoE layers: {num_moe_layers}\")\n",
    "    \n",
    "    num_experts = model.config.num_experts  # 64 for OLMoE\n",
    "    num_experts_per_tok = model.config.num_experts_per_tok  # 8 for OLMoE\n",
    "\n",
    "    # Get device (cuda if available, else cpu)\n",
    "    device = torch.device('cuda' if torch.cuda.is_available() else 'cpu')\n",
    "\n",
    "    # Initialize tensors on appropriate device\n",
    "    all_token_logits = torch.zeros((num_prompts, num_moe_layers, max_seq_len, num_experts),\n",
    "                               dtype=torch.float16, device=device)\n",
    "    all_token_experts = -torch.ones((num_prompts, num_moe_layers, max_seq_len, num_experts_per_tok),\n",
    "                                dtype=torch.long, device=device)\n",
    "    last_token_logits = torch.zeros((num_prompts, num_moe_layers, num_experts),\n",
    "                                dtype=torch.float16, device=device)\n",
    "    last_token_experts = torch.zeros((num_prompts, num_moe_layers, num_experts_per_tok),\n",
    "                                 dtype=torch.long, device=device)\n",
    "\n",
    "    # Process prompts in batches to avoid OOM\n",
    "    batch_size = 8  # Adjust based on memory\n",
    "    \n",
    "    # Create progress bar\n",
    "    from tqdm import tqdm\n",
    "    pbar = tqdm(total=num_prompts, desc=\"Processing prompts\")\n",
    "    \n",
    "    for i in range(0, num_prompts, batch_size):\n",
    "        batch_prompts = prompts[i:i + batch_size]\n",
    "        \n",
    "        # Clear cache between batches if cuda available\n",
    "        if torch.cuda.is_available():\n",
    "            torch.cuda.empty_cache()\n",
    "        \n",
    "        for j, prompt in enumerate(batch_prompts):\n",
    "            # Add padding and truncation\n",
    "            inputs = tokenizer(\n",
    "                prompt,\n",
    "                return_tensors=\"pt\",\n",
    "                padding='max_length',\n",
    "                truncation=True,\n",
    "                max_length=max_seq_len\n",
    "            )\n",
    "            \n",
    "            # Move inputs to appropriate device\n",
    "            input_ids = inputs['input_ids'].to(device)\n",
    "            attention_mask = inputs['attention_mask'].to(device)\n",
    "            seq_len = attention_mask.sum().item()  # Get actual sequence length without padding\n",
    "            \n",
    "            with torch.no_grad():\n",
    "                router_logits, expert_indices = get_moe_metadata(model, input_ids)\n",
    "            \n",
    "            for layer_idx in range(num_moe_layers):\n",
    "                # Handle router logits - shape should be [1, seq_len, num_experts]\n",
    "                layer_logits = router_logits[layer_idx].squeeze(0)\n",
    "                \n",
    "                # Handle expert indices - shape should be [1, seq_len, num_experts_per_tok]\n",
    "                layer_experts = expert_indices[layer_idx].squeeze(0)\n",
    "                \n",
    "                # Store all tokens data\n",
    "                all_token_logits[i+j, layer_idx, :seq_len] = layer_logits[:seq_len]\n",
    "                all_token_experts[i+j, layer_idx, :seq_len] = layer_experts[:seq_len]\n",
    "                \n",
    "                # Store last token data (using last real token, not padding)\n",
    "                last_token_logits[i+j, layer_idx] = layer_logits[seq_len-1]\n",
    "                last_token_experts[i+j, layer_idx] = layer_experts[seq_len-1]\n",
    "            \n",
    "            # Clear intermediate tensors\n",
    "            del input_ids, attention_mask, router_logits, expert_indices\n",
    "            if torch.cuda.is_available():\n",
    "                torch.cuda.empty_cache()\n",
    "            \n",
    "            # Update progress bar\n",
    "            pbar.update(1)\n",
    "    \n",
    "    # Close progress bar\n",
    "    pbar.close()\n",
    "\n",
    "    return all_token_logits, all_token_experts, last_token_logits, last_token_experts"
   ]
  },
  {
   "cell_type": "code",
   "execution_count": 16,
   "metadata": {},
   "outputs": [],
   "source": [
    "# test_prompts = ['the quick brown fox', 'the capital of japan is tokyo', 'the capital of france is paris', ]\n",
    "# all_token_logits, all_token_experts, last_token_logits, last_token_experts = get_moe_data(model, tokenizer, prompts = test_prompts)\n",
    "\n",
    "# print(f\"all_token_logits shape: {all_token_logits.shape}\") # [num_prompts, num_layers, seq_len, num_experts]\n",
    "# print(f\"all_token_experts shape: {all_token_experts.shape}\")\n",
    "# print(f\"last_token_logits shape: {last_token_logits.shape}\")\n",
    "# print(f\"last_token_experts shape: {last_token_experts.shape}\")"
   ]
  },
  {
   "cell_type": "code",
   "execution_count": 17,
   "metadata": {},
   "outputs": [],
   "source": [
    "def prepare_prompts_from_txt(txt_file_path,  domain = 'english', output_path=f'english.json'):\n",
    "    \"\"\" read prompts from a txt file and save them in json format. \"\"\"\n",
    "    \n",
    "    with open(txt_file_path, 'r', encoding='utf-8') as f:\n",
    "        prompts = [line.strip() for line in f.readlines() if line.strip()]\n",
    "    \n",
    "    with open(output_path, 'w', encoding='utf-8') as f:\n",
    "        json.dump({f\"{domain}\": prompts}, f, indent=4)\n",
    "        \n",
    "    print(f\"{domain} prompts saved to {output_path}\")\n",
    "    return prompts\n",
    "\n",
    "def parse_code_blocks(txt_file_path, output_path='code.json', domain='code'):\n",
    "    \"\"\"parse code blocks between ``` markers from a text file and save them in json format.\"\"\"\n",
    "    code_blocks = []\n",
    "    current_block = []\n",
    "    in_block = False\n",
    "    \n",
    "    with open(txt_file_path, 'r', encoding='utf-8') as f:\n",
    "        for line in f:\n",
    "            if line.strip().startswith('```'):\n",
    "                if in_block:\n",
    "                    # Current block is complete, save it and start new block\n",
    "                    if current_block:\n",
    "                        code_blocks.append('\\n'.join(current_block))\n",
    "                    current_block = []\n",
    "                # Always start a new block since ``` only indicates start\n",
    "                in_block = True\n",
    "                current_block = []\n",
    "            elif in_block:\n",
    "                # Add line to current block\n",
    "                current_block.append(line.rstrip())\n",
    "    \n",
    "    # Save final block if exists\n",
    "    if current_block:\n",
    "        code_blocks.append('\\n'.join(current_block))\n",
    "    \n",
    "    with open(output_path, 'w', encoding='utf-8') as f:\n",
    "        json.dump({domain: code_blocks}, f, indent=4)\n",
    "        \n",
    "    print(f\"code blocks saved to {output_path}\")\n",
    "    return code_blocks"
   ]
  },
  {
   "cell_type": "code",
   "execution_count": 18,
   "metadata": {},
   "outputs": [],
   "source": [
    "def load_prompts_from_json(json_file_path):\n",
    "    \"\"\"load prompts from a json file and return them as a list.\"\"\"\n",
    "    with open(json_file_path, 'r', encoding='utf-8') as f:\n",
    "        data = json.load(f)\n",
    "    # get the first (and only) value from the dictionary\n",
    "    # since the json structure is {\"domain\": [prompts]}\n",
    "    prompts = list(data.values())[0]\n",
    "    return prompts\n",
    "\n",
    "def prepare_multi_domain_prompts(domain_files, output_path='all_domain_prompts.json'):\n",
    "    \"\"\"\n",
    "    prepare a json file containing prompts from multiple domains.\n",
    "    \n",
    "    args:\n",
    "        domain_files: Dict mapping domain names to lists of tuples (file_path, parser_func)\n",
    "            where parser_func is a function that takes a file path and returns a list of prompts\n",
    "            \n",
    "    example:\n",
    "        domain_files = {\n",
    "            'code': [('code.txt', parse_code_blocks)], \n",
    "            'english': [('english.txt', prepare_prompts_from_txt)]\n",
    "        }\n",
    "    \"\"\"\n",
    "    all_prompts = {}\n",
    "    \n",
    "    for domain, file_list in domain_files.items():\n",
    "        domain_prompts = []\n",
    "        for _, prompts in file_list:\n",
    "            # Use load_prompts_from_json if prompts is a dict\n",
    "            if not isinstance(prompts, list):\n",
    "                prompts = load_prompts_from_json(prompts)\n",
    "            domain_prompts.extend(prompts)\n",
    "                \n",
    "        all_prompts[domain] = domain_prompts\n",
    "        \n",
    "    with open(output_path, 'w', encoding='utf-8') as f:\n",
    "        json.dump(all_prompts, f, indent=4)\n",
    "        \n",
    "    print(f\"all domain prompts saved to {output_path}\")\n",
    "    return all_prompts\n",
    "\n",
    "def convert_all_to_list(all_prompts):\n",
    "    \"\"\"\n",
    "    combines prompts from all domains into a single list of domain-specific prompt lists.\n",
    "    returns a list in the format [[domain1_prompts], [domain2_prompts], ...].\n",
    "    \"\"\"\n",
    "    # Create list of domain-specific prompt lists\n",
    "    combined_prompts = [\n",
    "        prompts for prompts in all_prompts.values()\n",
    "    ]\n",
    "        \n",
    "    total_prompts = sum(len(prompts) for prompts in combined_prompts)\n",
    "    print(f\"total prompts: {total_prompts}\")\n",
    "    print(f\"prompts per domain:\")\n",
    "    for domain, prompts in zip(all_prompts.keys(), combined_prompts):\n",
    "        print(f\"  {domain}: {len(prompts)}\")\n",
    "        \n",
    "    return combined_prompts"
   ]
  },
  {
   "cell_type": "code",
   "execution_count": 19,
   "metadata": {},
   "outputs": [
    {
     "name": "stdout",
     "output_type": "stream",
     "text": [
      "english prompts saved to olmoe-interp-pt/english.json\n",
      "french prompts saved to olmoe-interp-pt/french.json\n",
      "code blocks saved to olmoe-interp-pt/code.json\n",
      "total code prompts : 200\n",
      "total english prompts : 200\n",
      "code blocks saved to interp-data/code.json\n",
      "english prompts saved to interp-data/english.json\n",
      "french prompts saved to interp-data/french.json\n",
      "all domain prompts saved to interp-data/all_prompts.json\n",
      "total domains : 3\n",
      "total prompts: 600\n",
      "prompts per domain:\n",
      "  code: 200\n",
      "  english: 200\n",
      "  french: 200\n"
     ]
    }
   ],
   "source": [
    "prepare_prompts_from_txt('interp-data/engl-lit.txt', domain='english', output_path='olmoe-interp-pt/english.json')\n",
    "prepare_prompts_from_txt('interp-data/french.txt', domain='french', output_path='olmoe-interp-pt/french.json')\n",
    "parse_code_blocks('interp-data/code.txt', 'olmoe-interp-pt/code.json', domain='code')\n",
    "\n",
    "code_prompts = load_prompts_from_json(json_file_path='olmoe-interp-pt/code.json')\n",
    "print(f\"total code prompts : {len(code_prompts)}\")\n",
    "english_prompts = load_prompts_from_json(json_file_path='olmoe-interp-pt/english.json')\n",
    "print(f'total english prompts : {len(english_prompts)}')\n",
    "\n",
    "\n",
    "domain_files = {\n",
    "    'code': [('interp-data/code.txt', parse_code_blocks(txt_file_path='interp-data/code.txt', output_path='interp-data/code.json', domain='code'))],\n",
    "    'english': [('interp-data/engl-lit.txt', prepare_prompts_from_txt(txt_file_path='interp-data/engl-lit.txt', output_path='interp-data/english.json', domain='english'))],\n",
    "    'french': [('interp-data/french.txt', prepare_prompts_from_txt(txt_file_path='interp-data/french.txt', output_path='interp-data/french.json', domain='french'))]\n",
    "}\n",
    "all_prompts = prepare_multi_domain_prompts(domain_files, output_path='interp-data/all_prompts.json')\n",
    "print(f\"total domains : {len(all_prompts)}\")\n",
    "\n",
    "# convert all prompts to a single list of domain-specific prompt lists\n",
    "combined_prompts = convert_all_to_list(all_prompts)"
   ]
  },
  {
   "cell_type": "code",
   "execution_count": 20,
   "metadata": {},
   "outputs": [],
   "source": [
    "# prepare_prompts_from_txt('interp-data/test.txt', domain='test', output_path='interp-data/test.json')\n",
    "\n",
    "# test_prompts = load_prompts_from_json(json_file_path='interp-data/test.json')\n",
    "# print(f\"total test prompts : {len(test_prompts)}\")\n",
    "\n",
    "# domain_files = {\n",
    "#     'test': [('interp-data/test.txt', prepare_prompts_from_txt(txt_file_path='interp-data/test.txt', output_path='interp-data/test.json', domain='test'))]\n",
    "# }\n",
    "# all_prompts = prepare_multi_domain_prompts(domain_files, output_path='interp-data/all_prompts.json')\n",
    "# print(f\"total domains : {len(all_prompts)}\")\n",
    "\n",
    "# # convert all prompts to a single list of domain-specific prompt lists\n",
    "# combined_prompts = convert_all_to_list(all_prompts)"
   ]
  },
  {
   "cell_type": "code",
   "execution_count": 21,
   "metadata": {},
   "outputs": [
    {
     "name": "stdout",
     "output_type": "stream",
     "text": [
      "Number of MoE layers: 16\n"
     ]
    },
    {
     "name": "stderr",
     "output_type": "stream",
     "text": [
      "Processing prompts: 100%|██████████| 600/600 [18:34<00:00,  1.86s/it]"
     ]
    },
    {
     "name": "stdout",
     "output_type": "stream",
     "text": [
      "all_token_logits shape: torch.Size([600, 16, 291, 64])\n"
     ]
    },
    {
     "name": "stderr",
     "output_type": "stream",
     "text": [
      "\n"
     ]
    }
   ],
   "source": [
    "all_token_logits, all_token_experts, last_token_logits, last_token_experts = get_moe_data(model, tokenizer, prompts = combined_prompts)\n",
    "\n",
    "print(f'all_token_logits shape: {all_token_logits.shape}')"
   ]
  },
  {
   "cell_type": "code",
   "execution_count": 22,
   "metadata": {},
   "outputs": [],
   "source": [
    "torch.save(all_token_logits, \"olmoe-interp-pt/all_token_logits.pt\")\n",
    "torch.save(all_token_experts, \"olmoe-interp-pt/all_token_experts.pt\")\n",
    "torch.save(last_token_logits, \"olmoe-interp-pt/last_token_logits.pt\")\n",
    "torch.save(last_token_experts, \"olmoe-interp-pt/last_token_experts.pt\")"
   ]
  },
  {
   "cell_type": "code",
   "execution_count": 23,
   "metadata": {},
   "outputs": [],
   "source": [
    "all_token_logits = torch.load(\"interp-pt/all_token_logits.pt\", map_location=torch.device('cpu'), weights_only=True)\n",
    "all_token_experts = torch.load(\"interp-pt/all_token_experts.pt\", map_location=torch.device('cpu'), weights_only=True)\n",
    "last_token_logits = torch.load(\"interp-pt/last_token_logits.pt\", map_location=torch.device('cpu'), weights_only=True)\n",
    "last_token_experts = torch.load(\"interp-pt/last_token_experts.pt\", map_location=torch.device('cpu'), weights_only=True)"
   ]
  },
  {
   "cell_type": "code",
   "execution_count": 24,
   "metadata": {},
   "outputs": [
    {
     "name": "stdout",
     "output_type": "stream",
     "text": [
      "all_token_logits shape: torch.Size([600, 27, 284, 64])\n",
      "all_token_experts shape: torch.Size([600, 27, 284, 6])\n",
      "last_token_logits shape: torch.Size([600, 27, 64])\n",
      "last_token_experts shape: torch.Size([600, 27, 6])\n"
     ]
    }
   ],
   "source": [
    "print(f'all_token_logits shape: {all_token_logits.shape}')\n",
    "print(f'all_token_experts shape: {all_token_experts.shape}')\n",
    "print(f'last_token_logits shape: {last_token_logits.shape}')\n",
    "print(f'last_token_experts shape: {last_token_experts.shape}')"
   ]
  },
  {
   "cell_type": "code",
   "execution_count": 25,
   "metadata": {},
   "outputs": [],
   "source": [
    "def bar_graph_visualize(last_token_experts, layer_number, domain, k=8):\n",
    "    \"\"\"\n",
    "    Visualizes expert distribution for last tokens in a domain and layer using plotly.\n",
    "    \n",
    "    Args:\n",
    "        last_token_experts: Tensor [num_prompts, num_layers, num_experts_per_tok]\n",
    "        layer_number: Layer to analyze (1-indexed)\n",
    "        domain: 'code', 'english', or other domain name\n",
    "        k: Number of experts per token (default 8 for OLMoE)\n",
    "    \"\"\"\n",
    "    if domain not in ['code', 'english', 'french']:\n",
    "        raise ValueError(\"Invalid domain\")\n",
    "    \n",
    "    # Get domain slice (adjust size based on your data)\n",
    "    domain_slices = {\n",
    "        'code': slice(0, 200),\n",
    "        'english': slice(200, 400),\n",
    "        'french': slice(400, 600)\n",
    "    }\n",
    "    domain_slice = domain_slices[domain]\n",
    "    \n",
    "    layer_idx = layer_number - 1\n",
    "    if layer_idx < 0 or layer_idx >= last_token_experts.size(1):\n",
    "        raise ValueError(f\"Layer number must be between 1 and {last_token_experts.size(1)}\")\n",
    "    \n",
    "    domain_experts = last_token_experts[domain_slice, layer_idx, :].numpy()\n",
    "    \n",
    "    expert_counts = np.zeros(64)  # OLMoE uses 64 experts\n",
    "    for token_experts in domain_experts:\n",
    "        unique_experts = np.unique(token_experts)\n",
    "        for expert in unique_experts:\n",
    "            expert_counts[expert] += 1\n",
    "            \n",
    "    total_tokens = domain_experts.shape[0]\n",
    "    percentages = (expert_counts / total_tokens) * 100\n",
    "    \n",
    "    # Create plotly bar chart\n",
    "    fig = go.Figure(data=[\n",
    "        go.Bar(\n",
    "            x=list(range(64)),\n",
    "            y=percentages,\n",
    "            marker_color=['darkblue' if p > 0 else 'lightgray' for p in percentages]\n",
    "        )\n",
    "    ])\n",
    "    \n",
    "    # Update layout\n",
    "    fig.update_layout(\n",
    "        title=f'Expert Usage Distribution - Layer {layer_number} ({domain})',\n",
    "        xaxis_title='Expert ID',\n",
    "        yaxis_title=f'% of {domain.capitalize()} Domain Tokens',\n",
    "        xaxis=dict(\n",
    "            tickmode='linear',\n",
    "            tick0=0,\n",
    "            dtick=4\n",
    "        ),\n",
    "        yaxis=dict(range=[0, 100]),\n",
    "        showlegend=False,\n",
    "        width=1000,\n",
    "        height=500\n",
    "    )\n",
    "    \n",
    "    # Add gridlines\n",
    "    fig.update_xaxes(showgrid=True, gridwidth=1, gridcolor='lightgray')\n",
    "    fig.update_yaxes(showgrid=True, gridwidth=1, gridcolor='lightgray')\n",
    "    \n",
    "    fig.show()"
   ]
  },
  {
   "cell_type": "code",
   "execution_count": 28,
   "metadata": {},
   "outputs": [
    {
     "data": {
      "application/vnd.plotly.v1+json": {
       "config": {
        "plotlyServerURL": "https://plot.ly"
       },
       "data": [
        {
         "marker": {
          "color": [
           "darkblue",
           "darkblue",
           "darkblue",
           "darkblue",
           "darkblue",
           "darkblue",
           "darkblue",
           "darkblue",
           "darkblue",
           "darkblue",
           "darkblue",
           "darkblue",
           "darkblue",
           "darkblue",
           "darkblue",
           "darkblue",
           "darkblue",
           "darkblue",
           "darkblue",
           "darkblue",
           "darkblue",
           "darkblue",
           "darkblue",
           "darkblue",
           "darkblue",
           "darkblue",
           "darkblue",
           "darkblue",
           "darkblue",
           "darkblue",
           "darkblue",
           "darkblue",
           "darkblue",
           "darkblue",
           "darkblue",
           "darkblue",
           "darkblue",
           "darkblue",
           "darkblue",
           "darkblue",
           "darkblue",
           "darkblue",
           "darkblue",
           "darkblue",
           "darkblue",
           "darkblue",
           "darkblue",
           "darkblue",
           "darkblue",
           "darkblue",
           "darkblue",
           "darkblue",
           "darkblue",
           "darkblue",
           "darkblue",
           "darkblue",
           "darkblue",
           "darkblue",
           "darkblue",
           "darkblue",
           "darkblue",
           "darkblue",
           "darkblue",
           "darkblue"
          ]
         },
         "type": "bar",
         "x": [
          0,
          1,
          2,
          3,
          4,
          5,
          6,
          7,
          8,
          9,
          10,
          11,
          12,
          13,
          14,
          15,
          16,
          17,
          18,
          19,
          20,
          21,
          22,
          23,
          24,
          25,
          26,
          27,
          28,
          29,
          30,
          31,
          32,
          33,
          34,
          35,
          36,
          37,
          38,
          39,
          40,
          41,
          42,
          43,
          44,
          45,
          46,
          47,
          48,
          49,
          50,
          51,
          52,
          53,
          54,
          55,
          56,
          57,
          58,
          59,
          60,
          61,
          62,
          63
         ],
         "y": [
          12.5,
          13,
          10.5,
          7.5,
          12.5,
          2.5,
          14.499999999999998,
          8,
          9,
          3.5000000000000004,
          3.5000000000000004,
          23,
          28.499999999999996,
          4.5,
          19.5,
          1,
          4,
          9,
          4,
          6,
          2.5,
          7.000000000000001,
          10,
          0.5,
          3.5000000000000004,
          12.5,
          1,
          20.5,
          28.499999999999996,
          1.5,
          9,
          4.5,
          5,
          6,
          4,
          32.5,
          1.5,
          3,
          13.5,
          7.000000000000001,
          8,
          25.5,
          4,
          5,
          18,
          12.5,
          4,
          47.5,
          1.5,
          1,
          9,
          16.5,
          4,
          5.5,
          4,
          11,
          13,
          5,
          4.5,
          1.5,
          3,
          10,
          12.5,
          3.5000000000000004
         ]
        }
       ],
       "layout": {
        "height": 500,
        "showlegend": false,
        "template": {
         "data": {
          "bar": [
           {
            "error_x": {
             "color": "#2a3f5f"
            },
            "error_y": {
             "color": "#2a3f5f"
            },
            "marker": {
             "line": {
              "color": "#E5ECF6",
              "width": 0.5
             },
             "pattern": {
              "fillmode": "overlay",
              "size": 10,
              "solidity": 0.2
             }
            },
            "type": "bar"
           }
          ],
          "barpolar": [
           {
            "marker": {
             "line": {
              "color": "#E5ECF6",
              "width": 0.5
             },
             "pattern": {
              "fillmode": "overlay",
              "size": 10,
              "solidity": 0.2
             }
            },
            "type": "barpolar"
           }
          ],
          "carpet": [
           {
            "aaxis": {
             "endlinecolor": "#2a3f5f",
             "gridcolor": "white",
             "linecolor": "white",
             "minorgridcolor": "white",
             "startlinecolor": "#2a3f5f"
            },
            "baxis": {
             "endlinecolor": "#2a3f5f",
             "gridcolor": "white",
             "linecolor": "white",
             "minorgridcolor": "white",
             "startlinecolor": "#2a3f5f"
            },
            "type": "carpet"
           }
          ],
          "choropleth": [
           {
            "colorbar": {
             "outlinewidth": 0,
             "ticks": ""
            },
            "type": "choropleth"
           }
          ],
          "contour": [
           {
            "colorbar": {
             "outlinewidth": 0,
             "ticks": ""
            },
            "colorscale": [
             [
              0,
              "#0d0887"
             ],
             [
              0.1111111111111111,
              "#46039f"
             ],
             [
              0.2222222222222222,
              "#7201a8"
             ],
             [
              0.3333333333333333,
              "#9c179e"
             ],
             [
              0.4444444444444444,
              "#bd3786"
             ],
             [
              0.5555555555555556,
              "#d8576b"
             ],
             [
              0.6666666666666666,
              "#ed7953"
             ],
             [
              0.7777777777777778,
              "#fb9f3a"
             ],
             [
              0.8888888888888888,
              "#fdca26"
             ],
             [
              1,
              "#f0f921"
             ]
            ],
            "type": "contour"
           }
          ],
          "contourcarpet": [
           {
            "colorbar": {
             "outlinewidth": 0,
             "ticks": ""
            },
            "type": "contourcarpet"
           }
          ],
          "heatmap": [
           {
            "colorbar": {
             "outlinewidth": 0,
             "ticks": ""
            },
            "colorscale": [
             [
              0,
              "#0d0887"
             ],
             [
              0.1111111111111111,
              "#46039f"
             ],
             [
              0.2222222222222222,
              "#7201a8"
             ],
             [
              0.3333333333333333,
              "#9c179e"
             ],
             [
              0.4444444444444444,
              "#bd3786"
             ],
             [
              0.5555555555555556,
              "#d8576b"
             ],
             [
              0.6666666666666666,
              "#ed7953"
             ],
             [
              0.7777777777777778,
              "#fb9f3a"
             ],
             [
              0.8888888888888888,
              "#fdca26"
             ],
             [
              1,
              "#f0f921"
             ]
            ],
            "type": "heatmap"
           }
          ],
          "heatmapgl": [
           {
            "colorbar": {
             "outlinewidth": 0,
             "ticks": ""
            },
            "colorscale": [
             [
              0,
              "#0d0887"
             ],
             [
              0.1111111111111111,
              "#46039f"
             ],
             [
              0.2222222222222222,
              "#7201a8"
             ],
             [
              0.3333333333333333,
              "#9c179e"
             ],
             [
              0.4444444444444444,
              "#bd3786"
             ],
             [
              0.5555555555555556,
              "#d8576b"
             ],
             [
              0.6666666666666666,
              "#ed7953"
             ],
             [
              0.7777777777777778,
              "#fb9f3a"
             ],
             [
              0.8888888888888888,
              "#fdca26"
             ],
             [
              1,
              "#f0f921"
             ]
            ],
            "type": "heatmapgl"
           }
          ],
          "histogram": [
           {
            "marker": {
             "pattern": {
              "fillmode": "overlay",
              "size": 10,
              "solidity": 0.2
             }
            },
            "type": "histogram"
           }
          ],
          "histogram2d": [
           {
            "colorbar": {
             "outlinewidth": 0,
             "ticks": ""
            },
            "colorscale": [
             [
              0,
              "#0d0887"
             ],
             [
              0.1111111111111111,
              "#46039f"
             ],
             [
              0.2222222222222222,
              "#7201a8"
             ],
             [
              0.3333333333333333,
              "#9c179e"
             ],
             [
              0.4444444444444444,
              "#bd3786"
             ],
             [
              0.5555555555555556,
              "#d8576b"
             ],
             [
              0.6666666666666666,
              "#ed7953"
             ],
             [
              0.7777777777777778,
              "#fb9f3a"
             ],
             [
              0.8888888888888888,
              "#fdca26"
             ],
             [
              1,
              "#f0f921"
             ]
            ],
            "type": "histogram2d"
           }
          ],
          "histogram2dcontour": [
           {
            "colorbar": {
             "outlinewidth": 0,
             "ticks": ""
            },
            "colorscale": [
             [
              0,
              "#0d0887"
             ],
             [
              0.1111111111111111,
              "#46039f"
             ],
             [
              0.2222222222222222,
              "#7201a8"
             ],
             [
              0.3333333333333333,
              "#9c179e"
             ],
             [
              0.4444444444444444,
              "#bd3786"
             ],
             [
              0.5555555555555556,
              "#d8576b"
             ],
             [
              0.6666666666666666,
              "#ed7953"
             ],
             [
              0.7777777777777778,
              "#fb9f3a"
             ],
             [
              0.8888888888888888,
              "#fdca26"
             ],
             [
              1,
              "#f0f921"
             ]
            ],
            "type": "histogram2dcontour"
           }
          ],
          "mesh3d": [
           {
            "colorbar": {
             "outlinewidth": 0,
             "ticks": ""
            },
            "type": "mesh3d"
           }
          ],
          "parcoords": [
           {
            "line": {
             "colorbar": {
              "outlinewidth": 0,
              "ticks": ""
             }
            },
            "type": "parcoords"
           }
          ],
          "pie": [
           {
            "automargin": true,
            "type": "pie"
           }
          ],
          "scatter": [
           {
            "fillpattern": {
             "fillmode": "overlay",
             "size": 10,
             "solidity": 0.2
            },
            "type": "scatter"
           }
          ],
          "scatter3d": [
           {
            "line": {
             "colorbar": {
              "outlinewidth": 0,
              "ticks": ""
             }
            },
            "marker": {
             "colorbar": {
              "outlinewidth": 0,
              "ticks": ""
             }
            },
            "type": "scatter3d"
           }
          ],
          "scattercarpet": [
           {
            "marker": {
             "colorbar": {
              "outlinewidth": 0,
              "ticks": ""
             }
            },
            "type": "scattercarpet"
           }
          ],
          "scattergeo": [
           {
            "marker": {
             "colorbar": {
              "outlinewidth": 0,
              "ticks": ""
             }
            },
            "type": "scattergeo"
           }
          ],
          "scattergl": [
           {
            "marker": {
             "colorbar": {
              "outlinewidth": 0,
              "ticks": ""
             }
            },
            "type": "scattergl"
           }
          ],
          "scattermapbox": [
           {
            "marker": {
             "colorbar": {
              "outlinewidth": 0,
              "ticks": ""
             }
            },
            "type": "scattermapbox"
           }
          ],
          "scatterpolar": [
           {
            "marker": {
             "colorbar": {
              "outlinewidth": 0,
              "ticks": ""
             }
            },
            "type": "scatterpolar"
           }
          ],
          "scatterpolargl": [
           {
            "marker": {
             "colorbar": {
              "outlinewidth": 0,
              "ticks": ""
             }
            },
            "type": "scatterpolargl"
           }
          ],
          "scatterternary": [
           {
            "marker": {
             "colorbar": {
              "outlinewidth": 0,
              "ticks": ""
             }
            },
            "type": "scatterternary"
           }
          ],
          "surface": [
           {
            "colorbar": {
             "outlinewidth": 0,
             "ticks": ""
            },
            "colorscale": [
             [
              0,
              "#0d0887"
             ],
             [
              0.1111111111111111,
              "#46039f"
             ],
             [
              0.2222222222222222,
              "#7201a8"
             ],
             [
              0.3333333333333333,
              "#9c179e"
             ],
             [
              0.4444444444444444,
              "#bd3786"
             ],
             [
              0.5555555555555556,
              "#d8576b"
             ],
             [
              0.6666666666666666,
              "#ed7953"
             ],
             [
              0.7777777777777778,
              "#fb9f3a"
             ],
             [
              0.8888888888888888,
              "#fdca26"
             ],
             [
              1,
              "#f0f921"
             ]
            ],
            "type": "surface"
           }
          ],
          "table": [
           {
            "cells": {
             "fill": {
              "color": "#EBF0F8"
             },
             "line": {
              "color": "white"
             }
            },
            "header": {
             "fill": {
              "color": "#C8D4E3"
             },
             "line": {
              "color": "white"
             }
            },
            "type": "table"
           }
          ]
         },
         "layout": {
          "annotationdefaults": {
           "arrowcolor": "#2a3f5f",
           "arrowhead": 0,
           "arrowwidth": 1
          },
          "autotypenumbers": "strict",
          "coloraxis": {
           "colorbar": {
            "outlinewidth": 0,
            "ticks": ""
           }
          },
          "colorscale": {
           "diverging": [
            [
             0,
             "#8e0152"
            ],
            [
             0.1,
             "#c51b7d"
            ],
            [
             0.2,
             "#de77ae"
            ],
            [
             0.3,
             "#f1b6da"
            ],
            [
             0.4,
             "#fde0ef"
            ],
            [
             0.5,
             "#f7f7f7"
            ],
            [
             0.6,
             "#e6f5d0"
            ],
            [
             0.7,
             "#b8e186"
            ],
            [
             0.8,
             "#7fbc41"
            ],
            [
             0.9,
             "#4d9221"
            ],
            [
             1,
             "#276419"
            ]
           ],
           "sequential": [
            [
             0,
             "#0d0887"
            ],
            [
             0.1111111111111111,
             "#46039f"
            ],
            [
             0.2222222222222222,
             "#7201a8"
            ],
            [
             0.3333333333333333,
             "#9c179e"
            ],
            [
             0.4444444444444444,
             "#bd3786"
            ],
            [
             0.5555555555555556,
             "#d8576b"
            ],
            [
             0.6666666666666666,
             "#ed7953"
            ],
            [
             0.7777777777777778,
             "#fb9f3a"
            ],
            [
             0.8888888888888888,
             "#fdca26"
            ],
            [
             1,
             "#f0f921"
            ]
           ],
           "sequentialminus": [
            [
             0,
             "#0d0887"
            ],
            [
             0.1111111111111111,
             "#46039f"
            ],
            [
             0.2222222222222222,
             "#7201a8"
            ],
            [
             0.3333333333333333,
             "#9c179e"
            ],
            [
             0.4444444444444444,
             "#bd3786"
            ],
            [
             0.5555555555555556,
             "#d8576b"
            ],
            [
             0.6666666666666666,
             "#ed7953"
            ],
            [
             0.7777777777777778,
             "#fb9f3a"
            ],
            [
             0.8888888888888888,
             "#fdca26"
            ],
            [
             1,
             "#f0f921"
            ]
           ]
          },
          "colorway": [
           "#636efa",
           "#EF553B",
           "#00cc96",
           "#ab63fa",
           "#FFA15A",
           "#19d3f3",
           "#FF6692",
           "#B6E880",
           "#FF97FF",
           "#FECB52"
          ],
          "font": {
           "color": "#2a3f5f"
          },
          "geo": {
           "bgcolor": "white",
           "lakecolor": "white",
           "landcolor": "#E5ECF6",
           "showlakes": true,
           "showland": true,
           "subunitcolor": "white"
          },
          "hoverlabel": {
           "align": "left"
          },
          "hovermode": "closest",
          "mapbox": {
           "style": "light"
          },
          "paper_bgcolor": "white",
          "plot_bgcolor": "#E5ECF6",
          "polar": {
           "angularaxis": {
            "gridcolor": "white",
            "linecolor": "white",
            "ticks": ""
           },
           "bgcolor": "#E5ECF6",
           "radialaxis": {
            "gridcolor": "white",
            "linecolor": "white",
            "ticks": ""
           }
          },
          "scene": {
           "xaxis": {
            "backgroundcolor": "#E5ECF6",
            "gridcolor": "white",
            "gridwidth": 2,
            "linecolor": "white",
            "showbackground": true,
            "ticks": "",
            "zerolinecolor": "white"
           },
           "yaxis": {
            "backgroundcolor": "#E5ECF6",
            "gridcolor": "white",
            "gridwidth": 2,
            "linecolor": "white",
            "showbackground": true,
            "ticks": "",
            "zerolinecolor": "white"
           },
           "zaxis": {
            "backgroundcolor": "#E5ECF6",
            "gridcolor": "white",
            "gridwidth": 2,
            "linecolor": "white",
            "showbackground": true,
            "ticks": "",
            "zerolinecolor": "white"
           }
          },
          "shapedefaults": {
           "line": {
            "color": "#2a3f5f"
           }
          },
          "ternary": {
           "aaxis": {
            "gridcolor": "white",
            "linecolor": "white",
            "ticks": ""
           },
           "baxis": {
            "gridcolor": "white",
            "linecolor": "white",
            "ticks": ""
           },
           "bgcolor": "#E5ECF6",
           "caxis": {
            "gridcolor": "white",
            "linecolor": "white",
            "ticks": ""
           }
          },
          "title": {
           "x": 0.05
          },
          "xaxis": {
           "automargin": true,
           "gridcolor": "white",
           "linecolor": "white",
           "ticks": "",
           "title": {
            "standoff": 15
           },
           "zerolinecolor": "white",
           "zerolinewidth": 2
          },
          "yaxis": {
           "automargin": true,
           "gridcolor": "white",
           "linecolor": "white",
           "ticks": "",
           "title": {
            "standoff": 15
           },
           "zerolinecolor": "white",
           "zerolinewidth": 2
          }
         }
        },
        "title": {
         "text": "Expert Usage Distribution - Layer 15 (code)"
        },
        "width": 1000,
        "xaxis": {
         "dtick": 4,
         "gridcolor": "lightgray",
         "gridwidth": 1,
         "showgrid": true,
         "tick0": 0,
         "tickmode": "linear",
         "title": {
          "text": "Expert ID"
         }
        },
        "yaxis": {
         "gridcolor": "lightgray",
         "gridwidth": 1,
         "range": [
          0,
          100
         ],
         "showgrid": true,
         "title": {
          "text": "% of Code Domain Tokens"
         }
        }
       }
      }
     },
     "metadata": {},
     "output_type": "display_data"
    }
   ],
   "source": [
    "bar_graph_visualize(last_token_experts, layer_number=15, domain='code')"
   ]
  },
  {
   "cell_type": "code",
   "execution_count": 29,
   "metadata": {},
   "outputs": [
    {
     "data": {
      "application/vnd.plotly.v1+json": {
       "config": {
        "plotlyServerURL": "https://plot.ly"
       },
       "data": [
        {
         "marker": {
          "color": [
           "darkblue",
           "darkblue",
           "darkblue",
           "darkblue",
           "darkblue",
           "darkblue",
           "darkblue",
           "darkblue",
           "darkblue",
           "darkblue",
           "darkblue",
           "darkblue",
           "darkblue",
           "darkblue",
           "darkblue",
           "darkblue",
           "darkblue",
           "darkblue",
           "darkblue",
           "darkblue",
           "darkblue",
           "darkblue",
           "darkblue",
           "darkblue",
           "darkblue",
           "darkblue",
           "darkblue",
           "darkblue",
           "darkblue",
           "darkblue",
           "darkblue",
           "darkblue",
           "darkblue",
           "darkblue",
           "darkblue",
           "darkblue",
           "darkblue",
           "darkblue",
           "darkblue",
           "darkblue",
           "darkblue",
           "darkblue",
           "darkblue",
           "darkblue",
           "darkblue",
           "darkblue",
           "darkblue",
           "darkblue",
           "darkblue",
           "darkblue",
           "darkblue",
           "darkblue",
           "darkblue",
           "darkblue",
           "darkblue",
           "darkblue",
           "darkblue",
           "darkblue",
           "darkblue",
           "darkblue",
           "darkblue",
           "darkblue",
           "darkblue",
           "darkblue"
          ]
         },
         "type": "bar",
         "x": [
          0,
          1,
          2,
          3,
          4,
          5,
          6,
          7,
          8,
          9,
          10,
          11,
          12,
          13,
          14,
          15,
          16,
          17,
          18,
          19,
          20,
          21,
          22,
          23,
          24,
          25,
          26,
          27,
          28,
          29,
          30,
          31,
          32,
          33,
          34,
          35,
          36,
          37,
          38,
          39,
          40,
          41,
          42,
          43,
          44,
          45,
          46,
          47,
          48,
          49,
          50,
          51,
          52,
          53,
          54,
          55,
          56,
          57,
          58,
          59,
          60,
          61,
          62,
          63
         ],
         "y": [
          14.499999999999998,
          18.5,
          49,
          3.5000000000000004,
          4,
          0.5,
          17,
          4.5,
          13,
          9.5,
          4.5,
          19,
          9.5,
          3,
          22.5,
          7.5,
          6,
          16,
          1,
          4,
          22.5,
          19,
          10.5,
          4,
          7.000000000000001,
          27,
          10,
          0.5,
          14.000000000000002,
          3.5000000000000004,
          9.5,
          6.5,
          2.5,
          2.5,
          1.5,
          3,
          7.5,
          3,
          60.5,
          20,
          1.5,
          4.5,
          3.5000000000000004,
          1.5,
          18.5,
          2.5,
          1,
          4,
          1,
          6.5,
          1,
          19.5,
          3,
          6,
          1.5,
          10,
          5.5,
          2,
          3,
          1,
          7.5,
          26.5,
          5.5,
          2
         ]
        }
       ],
       "layout": {
        "height": 500,
        "showlegend": false,
        "template": {
         "data": {
          "bar": [
           {
            "error_x": {
             "color": "#2a3f5f"
            },
            "error_y": {
             "color": "#2a3f5f"
            },
            "marker": {
             "line": {
              "color": "#E5ECF6",
              "width": 0.5
             },
             "pattern": {
              "fillmode": "overlay",
              "size": 10,
              "solidity": 0.2
             }
            },
            "type": "bar"
           }
          ],
          "barpolar": [
           {
            "marker": {
             "line": {
              "color": "#E5ECF6",
              "width": 0.5
             },
             "pattern": {
              "fillmode": "overlay",
              "size": 10,
              "solidity": 0.2
             }
            },
            "type": "barpolar"
           }
          ],
          "carpet": [
           {
            "aaxis": {
             "endlinecolor": "#2a3f5f",
             "gridcolor": "white",
             "linecolor": "white",
             "minorgridcolor": "white",
             "startlinecolor": "#2a3f5f"
            },
            "baxis": {
             "endlinecolor": "#2a3f5f",
             "gridcolor": "white",
             "linecolor": "white",
             "minorgridcolor": "white",
             "startlinecolor": "#2a3f5f"
            },
            "type": "carpet"
           }
          ],
          "choropleth": [
           {
            "colorbar": {
             "outlinewidth": 0,
             "ticks": ""
            },
            "type": "choropleth"
           }
          ],
          "contour": [
           {
            "colorbar": {
             "outlinewidth": 0,
             "ticks": ""
            },
            "colorscale": [
             [
              0,
              "#0d0887"
             ],
             [
              0.1111111111111111,
              "#46039f"
             ],
             [
              0.2222222222222222,
              "#7201a8"
             ],
             [
              0.3333333333333333,
              "#9c179e"
             ],
             [
              0.4444444444444444,
              "#bd3786"
             ],
             [
              0.5555555555555556,
              "#d8576b"
             ],
             [
              0.6666666666666666,
              "#ed7953"
             ],
             [
              0.7777777777777778,
              "#fb9f3a"
             ],
             [
              0.8888888888888888,
              "#fdca26"
             ],
             [
              1,
              "#f0f921"
             ]
            ],
            "type": "contour"
           }
          ],
          "contourcarpet": [
           {
            "colorbar": {
             "outlinewidth": 0,
             "ticks": ""
            },
            "type": "contourcarpet"
           }
          ],
          "heatmap": [
           {
            "colorbar": {
             "outlinewidth": 0,
             "ticks": ""
            },
            "colorscale": [
             [
              0,
              "#0d0887"
             ],
             [
              0.1111111111111111,
              "#46039f"
             ],
             [
              0.2222222222222222,
              "#7201a8"
             ],
             [
              0.3333333333333333,
              "#9c179e"
             ],
             [
              0.4444444444444444,
              "#bd3786"
             ],
             [
              0.5555555555555556,
              "#d8576b"
             ],
             [
              0.6666666666666666,
              "#ed7953"
             ],
             [
              0.7777777777777778,
              "#fb9f3a"
             ],
             [
              0.8888888888888888,
              "#fdca26"
             ],
             [
              1,
              "#f0f921"
             ]
            ],
            "type": "heatmap"
           }
          ],
          "heatmapgl": [
           {
            "colorbar": {
             "outlinewidth": 0,
             "ticks": ""
            },
            "colorscale": [
             [
              0,
              "#0d0887"
             ],
             [
              0.1111111111111111,
              "#46039f"
             ],
             [
              0.2222222222222222,
              "#7201a8"
             ],
             [
              0.3333333333333333,
              "#9c179e"
             ],
             [
              0.4444444444444444,
              "#bd3786"
             ],
             [
              0.5555555555555556,
              "#d8576b"
             ],
             [
              0.6666666666666666,
              "#ed7953"
             ],
             [
              0.7777777777777778,
              "#fb9f3a"
             ],
             [
              0.8888888888888888,
              "#fdca26"
             ],
             [
              1,
              "#f0f921"
             ]
            ],
            "type": "heatmapgl"
           }
          ],
          "histogram": [
           {
            "marker": {
             "pattern": {
              "fillmode": "overlay",
              "size": 10,
              "solidity": 0.2
             }
            },
            "type": "histogram"
           }
          ],
          "histogram2d": [
           {
            "colorbar": {
             "outlinewidth": 0,
             "ticks": ""
            },
            "colorscale": [
             [
              0,
              "#0d0887"
             ],
             [
              0.1111111111111111,
              "#46039f"
             ],
             [
              0.2222222222222222,
              "#7201a8"
             ],
             [
              0.3333333333333333,
              "#9c179e"
             ],
             [
              0.4444444444444444,
              "#bd3786"
             ],
             [
              0.5555555555555556,
              "#d8576b"
             ],
             [
              0.6666666666666666,
              "#ed7953"
             ],
             [
              0.7777777777777778,
              "#fb9f3a"
             ],
             [
              0.8888888888888888,
              "#fdca26"
             ],
             [
              1,
              "#f0f921"
             ]
            ],
            "type": "histogram2d"
           }
          ],
          "histogram2dcontour": [
           {
            "colorbar": {
             "outlinewidth": 0,
             "ticks": ""
            },
            "colorscale": [
             [
              0,
              "#0d0887"
             ],
             [
              0.1111111111111111,
              "#46039f"
             ],
             [
              0.2222222222222222,
              "#7201a8"
             ],
             [
              0.3333333333333333,
              "#9c179e"
             ],
             [
              0.4444444444444444,
              "#bd3786"
             ],
             [
              0.5555555555555556,
              "#d8576b"
             ],
             [
              0.6666666666666666,
              "#ed7953"
             ],
             [
              0.7777777777777778,
              "#fb9f3a"
             ],
             [
              0.8888888888888888,
              "#fdca26"
             ],
             [
              1,
              "#f0f921"
             ]
            ],
            "type": "histogram2dcontour"
           }
          ],
          "mesh3d": [
           {
            "colorbar": {
             "outlinewidth": 0,
             "ticks": ""
            },
            "type": "mesh3d"
           }
          ],
          "parcoords": [
           {
            "line": {
             "colorbar": {
              "outlinewidth": 0,
              "ticks": ""
             }
            },
            "type": "parcoords"
           }
          ],
          "pie": [
           {
            "automargin": true,
            "type": "pie"
           }
          ],
          "scatter": [
           {
            "fillpattern": {
             "fillmode": "overlay",
             "size": 10,
             "solidity": 0.2
            },
            "type": "scatter"
           }
          ],
          "scatter3d": [
           {
            "line": {
             "colorbar": {
              "outlinewidth": 0,
              "ticks": ""
             }
            },
            "marker": {
             "colorbar": {
              "outlinewidth": 0,
              "ticks": ""
             }
            },
            "type": "scatter3d"
           }
          ],
          "scattercarpet": [
           {
            "marker": {
             "colorbar": {
              "outlinewidth": 0,
              "ticks": ""
             }
            },
            "type": "scattercarpet"
           }
          ],
          "scattergeo": [
           {
            "marker": {
             "colorbar": {
              "outlinewidth": 0,
              "ticks": ""
             }
            },
            "type": "scattergeo"
           }
          ],
          "scattergl": [
           {
            "marker": {
             "colorbar": {
              "outlinewidth": 0,
              "ticks": ""
             }
            },
            "type": "scattergl"
           }
          ],
          "scattermapbox": [
           {
            "marker": {
             "colorbar": {
              "outlinewidth": 0,
              "ticks": ""
             }
            },
            "type": "scattermapbox"
           }
          ],
          "scatterpolar": [
           {
            "marker": {
             "colorbar": {
              "outlinewidth": 0,
              "ticks": ""
             }
            },
            "type": "scatterpolar"
           }
          ],
          "scatterpolargl": [
           {
            "marker": {
             "colorbar": {
              "outlinewidth": 0,
              "ticks": ""
             }
            },
            "type": "scatterpolargl"
           }
          ],
          "scatterternary": [
           {
            "marker": {
             "colorbar": {
              "outlinewidth": 0,
              "ticks": ""
             }
            },
            "type": "scatterternary"
           }
          ],
          "surface": [
           {
            "colorbar": {
             "outlinewidth": 0,
             "ticks": ""
            },
            "colorscale": [
             [
              0,
              "#0d0887"
             ],
             [
              0.1111111111111111,
              "#46039f"
             ],
             [
              0.2222222222222222,
              "#7201a8"
             ],
             [
              0.3333333333333333,
              "#9c179e"
             ],
             [
              0.4444444444444444,
              "#bd3786"
             ],
             [
              0.5555555555555556,
              "#d8576b"
             ],
             [
              0.6666666666666666,
              "#ed7953"
             ],
             [
              0.7777777777777778,
              "#fb9f3a"
             ],
             [
              0.8888888888888888,
              "#fdca26"
             ],
             [
              1,
              "#f0f921"
             ]
            ],
            "type": "surface"
           }
          ],
          "table": [
           {
            "cells": {
             "fill": {
              "color": "#EBF0F8"
             },
             "line": {
              "color": "white"
             }
            },
            "header": {
             "fill": {
              "color": "#C8D4E3"
             },
             "line": {
              "color": "white"
             }
            },
            "type": "table"
           }
          ]
         },
         "layout": {
          "annotationdefaults": {
           "arrowcolor": "#2a3f5f",
           "arrowhead": 0,
           "arrowwidth": 1
          },
          "autotypenumbers": "strict",
          "coloraxis": {
           "colorbar": {
            "outlinewidth": 0,
            "ticks": ""
           }
          },
          "colorscale": {
           "diverging": [
            [
             0,
             "#8e0152"
            ],
            [
             0.1,
             "#c51b7d"
            ],
            [
             0.2,
             "#de77ae"
            ],
            [
             0.3,
             "#f1b6da"
            ],
            [
             0.4,
             "#fde0ef"
            ],
            [
             0.5,
             "#f7f7f7"
            ],
            [
             0.6,
             "#e6f5d0"
            ],
            [
             0.7,
             "#b8e186"
            ],
            [
             0.8,
             "#7fbc41"
            ],
            [
             0.9,
             "#4d9221"
            ],
            [
             1,
             "#276419"
            ]
           ],
           "sequential": [
            [
             0,
             "#0d0887"
            ],
            [
             0.1111111111111111,
             "#46039f"
            ],
            [
             0.2222222222222222,
             "#7201a8"
            ],
            [
             0.3333333333333333,
             "#9c179e"
            ],
            [
             0.4444444444444444,
             "#bd3786"
            ],
            [
             0.5555555555555556,
             "#d8576b"
            ],
            [
             0.6666666666666666,
             "#ed7953"
            ],
            [
             0.7777777777777778,
             "#fb9f3a"
            ],
            [
             0.8888888888888888,
             "#fdca26"
            ],
            [
             1,
             "#f0f921"
            ]
           ],
           "sequentialminus": [
            [
             0,
             "#0d0887"
            ],
            [
             0.1111111111111111,
             "#46039f"
            ],
            [
             0.2222222222222222,
             "#7201a8"
            ],
            [
             0.3333333333333333,
             "#9c179e"
            ],
            [
             0.4444444444444444,
             "#bd3786"
            ],
            [
             0.5555555555555556,
             "#d8576b"
            ],
            [
             0.6666666666666666,
             "#ed7953"
            ],
            [
             0.7777777777777778,
             "#fb9f3a"
            ],
            [
             0.8888888888888888,
             "#fdca26"
            ],
            [
             1,
             "#f0f921"
            ]
           ]
          },
          "colorway": [
           "#636efa",
           "#EF553B",
           "#00cc96",
           "#ab63fa",
           "#FFA15A",
           "#19d3f3",
           "#FF6692",
           "#B6E880",
           "#FF97FF",
           "#FECB52"
          ],
          "font": {
           "color": "#2a3f5f"
          },
          "geo": {
           "bgcolor": "white",
           "lakecolor": "white",
           "landcolor": "#E5ECF6",
           "showlakes": true,
           "showland": true,
           "subunitcolor": "white"
          },
          "hoverlabel": {
           "align": "left"
          },
          "hovermode": "closest",
          "mapbox": {
           "style": "light"
          },
          "paper_bgcolor": "white",
          "plot_bgcolor": "#E5ECF6",
          "polar": {
           "angularaxis": {
            "gridcolor": "white",
            "linecolor": "white",
            "ticks": ""
           },
           "bgcolor": "#E5ECF6",
           "radialaxis": {
            "gridcolor": "white",
            "linecolor": "white",
            "ticks": ""
           }
          },
          "scene": {
           "xaxis": {
            "backgroundcolor": "#E5ECF6",
            "gridcolor": "white",
            "gridwidth": 2,
            "linecolor": "white",
            "showbackground": true,
            "ticks": "",
            "zerolinecolor": "white"
           },
           "yaxis": {
            "backgroundcolor": "#E5ECF6",
            "gridcolor": "white",
            "gridwidth": 2,
            "linecolor": "white",
            "showbackground": true,
            "ticks": "",
            "zerolinecolor": "white"
           },
           "zaxis": {
            "backgroundcolor": "#E5ECF6",
            "gridcolor": "white",
            "gridwidth": 2,
            "linecolor": "white",
            "showbackground": true,
            "ticks": "",
            "zerolinecolor": "white"
           }
          },
          "shapedefaults": {
           "line": {
            "color": "#2a3f5f"
           }
          },
          "ternary": {
           "aaxis": {
            "gridcolor": "white",
            "linecolor": "white",
            "ticks": ""
           },
           "baxis": {
            "gridcolor": "white",
            "linecolor": "white",
            "ticks": ""
           },
           "bgcolor": "#E5ECF6",
           "caxis": {
            "gridcolor": "white",
            "linecolor": "white",
            "ticks": ""
           }
          },
          "title": {
           "x": 0.05
          },
          "xaxis": {
           "automargin": true,
           "gridcolor": "white",
           "linecolor": "white",
           "ticks": "",
           "title": {
            "standoff": 15
           },
           "zerolinecolor": "white",
           "zerolinewidth": 2
          },
          "yaxis": {
           "automargin": true,
           "gridcolor": "white",
           "linecolor": "white",
           "ticks": "",
           "title": {
            "standoff": 15
           },
           "zerolinecolor": "white",
           "zerolinewidth": 2
          }
         }
        },
        "title": {
         "text": "Expert Usage Distribution - Layer 15 (french)"
        },
        "width": 1000,
        "xaxis": {
         "dtick": 4,
         "gridcolor": "lightgray",
         "gridwidth": 1,
         "showgrid": true,
         "tick0": 0,
         "tickmode": "linear",
         "title": {
          "text": "Expert ID"
         }
        },
        "yaxis": {
         "gridcolor": "lightgray",
         "gridwidth": 1,
         "range": [
          0,
          100
         ],
         "showgrid": true,
         "title": {
          "text": "% of French Domain Tokens"
         }
        }
       }
      }
     },
     "metadata": {},
     "output_type": "display_data"
    }
   ],
   "source": [
    "bar_graph_visualize(last_token_experts, layer_number=15, domain='french')"
   ]
  },
  {
   "cell_type": "code",
   "execution_count": 30,
   "metadata": {},
   "outputs": [
    {
     "data": {
      "application/vnd.plotly.v1+json": {
       "config": {
        "plotlyServerURL": "https://plot.ly"
       },
       "data": [
        {
         "marker": {
          "color": [
           "darkblue",
           "darkblue",
           "darkblue",
           "darkblue",
           "darkblue",
           "lightgray",
           "darkblue",
           "darkblue",
           "lightgray",
           "lightgray",
           "darkblue",
           "darkblue",
           "darkblue",
           "darkblue",
           "darkblue",
           "darkblue",
           "darkblue",
           "lightgray",
           "lightgray",
           "darkblue",
           "darkblue",
           "darkblue",
           "darkblue",
           "lightgray",
           "darkblue",
           "darkblue",
           "darkblue",
           "darkblue",
           "darkblue",
           "darkblue",
           "darkblue",
           "darkblue",
           "darkblue",
           "darkblue",
           "darkblue",
           "darkblue",
           "lightgray",
           "lightgray",
           "darkblue",
           "darkblue",
           "darkblue",
           "darkblue",
           "darkblue",
           "lightgray",
           "darkblue",
           "lightgray",
           "lightgray",
           "darkblue",
           "lightgray",
           "lightgray",
           "darkblue",
           "darkblue",
           "darkblue",
           "darkblue",
           "darkblue",
           "darkblue",
           "darkblue",
           "darkblue",
           "lightgray",
           "darkblue",
           "lightgray",
           "darkblue",
           "darkblue",
           "darkblue"
          ]
         },
         "type": "bar",
         "x": [
          0,
          1,
          2,
          3,
          4,
          5,
          6,
          7,
          8,
          9,
          10,
          11,
          12,
          13,
          14,
          15,
          16,
          17,
          18,
          19,
          20,
          21,
          22,
          23,
          24,
          25,
          26,
          27,
          28,
          29,
          30,
          31,
          32,
          33,
          34,
          35,
          36,
          37,
          38,
          39,
          40,
          41,
          42,
          43,
          44,
          45,
          46,
          47,
          48,
          49,
          50,
          51,
          52,
          53,
          54,
          55,
          56,
          57,
          58,
          59,
          60,
          61,
          62,
          63
         ],
         "y": [
          13,
          11,
          1.5,
          7.000000000000001,
          5,
          0,
          5.5,
          5.5,
          0,
          0,
          1.5,
          8.5,
          4,
          2.5,
          34.5,
          0.5,
          5.5,
          0,
          0,
          9.5,
          10.5,
          53,
          30.5,
          0,
          8,
          39.5,
          1.5,
          4.5,
          7.5,
          0.5,
          9,
          3.5000000000000004,
          2.5,
          1,
          0.5,
          20.5,
          0,
          0,
          64,
          4,
          31,
          15,
          0.5,
          0,
          16.5,
          0,
          0,
          25.5,
          0,
          0,
          8,
          35,
          7.5,
          1.5,
          10.5,
          15,
          12,
          0.5,
          0,
          2,
          0,
          37.5,
          6,
          0.5
         ]
        }
       ],
       "layout": {
        "height": 500,
        "showlegend": false,
        "template": {
         "data": {
          "bar": [
           {
            "error_x": {
             "color": "#2a3f5f"
            },
            "error_y": {
             "color": "#2a3f5f"
            },
            "marker": {
             "line": {
              "color": "#E5ECF6",
              "width": 0.5
             },
             "pattern": {
              "fillmode": "overlay",
              "size": 10,
              "solidity": 0.2
             }
            },
            "type": "bar"
           }
          ],
          "barpolar": [
           {
            "marker": {
             "line": {
              "color": "#E5ECF6",
              "width": 0.5
             },
             "pattern": {
              "fillmode": "overlay",
              "size": 10,
              "solidity": 0.2
             }
            },
            "type": "barpolar"
           }
          ],
          "carpet": [
           {
            "aaxis": {
             "endlinecolor": "#2a3f5f",
             "gridcolor": "white",
             "linecolor": "white",
             "minorgridcolor": "white",
             "startlinecolor": "#2a3f5f"
            },
            "baxis": {
             "endlinecolor": "#2a3f5f",
             "gridcolor": "white",
             "linecolor": "white",
             "minorgridcolor": "white",
             "startlinecolor": "#2a3f5f"
            },
            "type": "carpet"
           }
          ],
          "choropleth": [
           {
            "colorbar": {
             "outlinewidth": 0,
             "ticks": ""
            },
            "type": "choropleth"
           }
          ],
          "contour": [
           {
            "colorbar": {
             "outlinewidth": 0,
             "ticks": ""
            },
            "colorscale": [
             [
              0,
              "#0d0887"
             ],
             [
              0.1111111111111111,
              "#46039f"
             ],
             [
              0.2222222222222222,
              "#7201a8"
             ],
             [
              0.3333333333333333,
              "#9c179e"
             ],
             [
              0.4444444444444444,
              "#bd3786"
             ],
             [
              0.5555555555555556,
              "#d8576b"
             ],
             [
              0.6666666666666666,
              "#ed7953"
             ],
             [
              0.7777777777777778,
              "#fb9f3a"
             ],
             [
              0.8888888888888888,
              "#fdca26"
             ],
             [
              1,
              "#f0f921"
             ]
            ],
            "type": "contour"
           }
          ],
          "contourcarpet": [
           {
            "colorbar": {
             "outlinewidth": 0,
             "ticks": ""
            },
            "type": "contourcarpet"
           }
          ],
          "heatmap": [
           {
            "colorbar": {
             "outlinewidth": 0,
             "ticks": ""
            },
            "colorscale": [
             [
              0,
              "#0d0887"
             ],
             [
              0.1111111111111111,
              "#46039f"
             ],
             [
              0.2222222222222222,
              "#7201a8"
             ],
             [
              0.3333333333333333,
              "#9c179e"
             ],
             [
              0.4444444444444444,
              "#bd3786"
             ],
             [
              0.5555555555555556,
              "#d8576b"
             ],
             [
              0.6666666666666666,
              "#ed7953"
             ],
             [
              0.7777777777777778,
              "#fb9f3a"
             ],
             [
              0.8888888888888888,
              "#fdca26"
             ],
             [
              1,
              "#f0f921"
             ]
            ],
            "type": "heatmap"
           }
          ],
          "heatmapgl": [
           {
            "colorbar": {
             "outlinewidth": 0,
             "ticks": ""
            },
            "colorscale": [
             [
              0,
              "#0d0887"
             ],
             [
              0.1111111111111111,
              "#46039f"
             ],
             [
              0.2222222222222222,
              "#7201a8"
             ],
             [
              0.3333333333333333,
              "#9c179e"
             ],
             [
              0.4444444444444444,
              "#bd3786"
             ],
             [
              0.5555555555555556,
              "#d8576b"
             ],
             [
              0.6666666666666666,
              "#ed7953"
             ],
             [
              0.7777777777777778,
              "#fb9f3a"
             ],
             [
              0.8888888888888888,
              "#fdca26"
             ],
             [
              1,
              "#f0f921"
             ]
            ],
            "type": "heatmapgl"
           }
          ],
          "histogram": [
           {
            "marker": {
             "pattern": {
              "fillmode": "overlay",
              "size": 10,
              "solidity": 0.2
             }
            },
            "type": "histogram"
           }
          ],
          "histogram2d": [
           {
            "colorbar": {
             "outlinewidth": 0,
             "ticks": ""
            },
            "colorscale": [
             [
              0,
              "#0d0887"
             ],
             [
              0.1111111111111111,
              "#46039f"
             ],
             [
              0.2222222222222222,
              "#7201a8"
             ],
             [
              0.3333333333333333,
              "#9c179e"
             ],
             [
              0.4444444444444444,
              "#bd3786"
             ],
             [
              0.5555555555555556,
              "#d8576b"
             ],
             [
              0.6666666666666666,
              "#ed7953"
             ],
             [
              0.7777777777777778,
              "#fb9f3a"
             ],
             [
              0.8888888888888888,
              "#fdca26"
             ],
             [
              1,
              "#f0f921"
             ]
            ],
            "type": "histogram2d"
           }
          ],
          "histogram2dcontour": [
           {
            "colorbar": {
             "outlinewidth": 0,
             "ticks": ""
            },
            "colorscale": [
             [
              0,
              "#0d0887"
             ],
             [
              0.1111111111111111,
              "#46039f"
             ],
             [
              0.2222222222222222,
              "#7201a8"
             ],
             [
              0.3333333333333333,
              "#9c179e"
             ],
             [
              0.4444444444444444,
              "#bd3786"
             ],
             [
              0.5555555555555556,
              "#d8576b"
             ],
             [
              0.6666666666666666,
              "#ed7953"
             ],
             [
              0.7777777777777778,
              "#fb9f3a"
             ],
             [
              0.8888888888888888,
              "#fdca26"
             ],
             [
              1,
              "#f0f921"
             ]
            ],
            "type": "histogram2dcontour"
           }
          ],
          "mesh3d": [
           {
            "colorbar": {
             "outlinewidth": 0,
             "ticks": ""
            },
            "type": "mesh3d"
           }
          ],
          "parcoords": [
           {
            "line": {
             "colorbar": {
              "outlinewidth": 0,
              "ticks": ""
             }
            },
            "type": "parcoords"
           }
          ],
          "pie": [
           {
            "automargin": true,
            "type": "pie"
           }
          ],
          "scatter": [
           {
            "fillpattern": {
             "fillmode": "overlay",
             "size": 10,
             "solidity": 0.2
            },
            "type": "scatter"
           }
          ],
          "scatter3d": [
           {
            "line": {
             "colorbar": {
              "outlinewidth": 0,
              "ticks": ""
             }
            },
            "marker": {
             "colorbar": {
              "outlinewidth": 0,
              "ticks": ""
             }
            },
            "type": "scatter3d"
           }
          ],
          "scattercarpet": [
           {
            "marker": {
             "colorbar": {
              "outlinewidth": 0,
              "ticks": ""
             }
            },
            "type": "scattercarpet"
           }
          ],
          "scattergeo": [
           {
            "marker": {
             "colorbar": {
              "outlinewidth": 0,
              "ticks": ""
             }
            },
            "type": "scattergeo"
           }
          ],
          "scattergl": [
           {
            "marker": {
             "colorbar": {
              "outlinewidth": 0,
              "ticks": ""
             }
            },
            "type": "scattergl"
           }
          ],
          "scattermapbox": [
           {
            "marker": {
             "colorbar": {
              "outlinewidth": 0,
              "ticks": ""
             }
            },
            "type": "scattermapbox"
           }
          ],
          "scatterpolar": [
           {
            "marker": {
             "colorbar": {
              "outlinewidth": 0,
              "ticks": ""
             }
            },
            "type": "scatterpolar"
           }
          ],
          "scatterpolargl": [
           {
            "marker": {
             "colorbar": {
              "outlinewidth": 0,
              "ticks": ""
             }
            },
            "type": "scatterpolargl"
           }
          ],
          "scatterternary": [
           {
            "marker": {
             "colorbar": {
              "outlinewidth": 0,
              "ticks": ""
             }
            },
            "type": "scatterternary"
           }
          ],
          "surface": [
           {
            "colorbar": {
             "outlinewidth": 0,
             "ticks": ""
            },
            "colorscale": [
             [
              0,
              "#0d0887"
             ],
             [
              0.1111111111111111,
              "#46039f"
             ],
             [
              0.2222222222222222,
              "#7201a8"
             ],
             [
              0.3333333333333333,
              "#9c179e"
             ],
             [
              0.4444444444444444,
              "#bd3786"
             ],
             [
              0.5555555555555556,
              "#d8576b"
             ],
             [
              0.6666666666666666,
              "#ed7953"
             ],
             [
              0.7777777777777778,
              "#fb9f3a"
             ],
             [
              0.8888888888888888,
              "#fdca26"
             ],
             [
              1,
              "#f0f921"
             ]
            ],
            "type": "surface"
           }
          ],
          "table": [
           {
            "cells": {
             "fill": {
              "color": "#EBF0F8"
             },
             "line": {
              "color": "white"
             }
            },
            "header": {
             "fill": {
              "color": "#C8D4E3"
             },
             "line": {
              "color": "white"
             }
            },
            "type": "table"
           }
          ]
         },
         "layout": {
          "annotationdefaults": {
           "arrowcolor": "#2a3f5f",
           "arrowhead": 0,
           "arrowwidth": 1
          },
          "autotypenumbers": "strict",
          "coloraxis": {
           "colorbar": {
            "outlinewidth": 0,
            "ticks": ""
           }
          },
          "colorscale": {
           "diverging": [
            [
             0,
             "#8e0152"
            ],
            [
             0.1,
             "#c51b7d"
            ],
            [
             0.2,
             "#de77ae"
            ],
            [
             0.3,
             "#f1b6da"
            ],
            [
             0.4,
             "#fde0ef"
            ],
            [
             0.5,
             "#f7f7f7"
            ],
            [
             0.6,
             "#e6f5d0"
            ],
            [
             0.7,
             "#b8e186"
            ],
            [
             0.8,
             "#7fbc41"
            ],
            [
             0.9,
             "#4d9221"
            ],
            [
             1,
             "#276419"
            ]
           ],
           "sequential": [
            [
             0,
             "#0d0887"
            ],
            [
             0.1111111111111111,
             "#46039f"
            ],
            [
             0.2222222222222222,
             "#7201a8"
            ],
            [
             0.3333333333333333,
             "#9c179e"
            ],
            [
             0.4444444444444444,
             "#bd3786"
            ],
            [
             0.5555555555555556,
             "#d8576b"
            ],
            [
             0.6666666666666666,
             "#ed7953"
            ],
            [
             0.7777777777777778,
             "#fb9f3a"
            ],
            [
             0.8888888888888888,
             "#fdca26"
            ],
            [
             1,
             "#f0f921"
            ]
           ],
           "sequentialminus": [
            [
             0,
             "#0d0887"
            ],
            [
             0.1111111111111111,
             "#46039f"
            ],
            [
             0.2222222222222222,
             "#7201a8"
            ],
            [
             0.3333333333333333,
             "#9c179e"
            ],
            [
             0.4444444444444444,
             "#bd3786"
            ],
            [
             0.5555555555555556,
             "#d8576b"
            ],
            [
             0.6666666666666666,
             "#ed7953"
            ],
            [
             0.7777777777777778,
             "#fb9f3a"
            ],
            [
             0.8888888888888888,
             "#fdca26"
            ],
            [
             1,
             "#f0f921"
            ]
           ]
          },
          "colorway": [
           "#636efa",
           "#EF553B",
           "#00cc96",
           "#ab63fa",
           "#FFA15A",
           "#19d3f3",
           "#FF6692",
           "#B6E880",
           "#FF97FF",
           "#FECB52"
          ],
          "font": {
           "color": "#2a3f5f"
          },
          "geo": {
           "bgcolor": "white",
           "lakecolor": "white",
           "landcolor": "#E5ECF6",
           "showlakes": true,
           "showland": true,
           "subunitcolor": "white"
          },
          "hoverlabel": {
           "align": "left"
          },
          "hovermode": "closest",
          "mapbox": {
           "style": "light"
          },
          "paper_bgcolor": "white",
          "plot_bgcolor": "#E5ECF6",
          "polar": {
           "angularaxis": {
            "gridcolor": "white",
            "linecolor": "white",
            "ticks": ""
           },
           "bgcolor": "#E5ECF6",
           "radialaxis": {
            "gridcolor": "white",
            "linecolor": "white",
            "ticks": ""
           }
          },
          "scene": {
           "xaxis": {
            "backgroundcolor": "#E5ECF6",
            "gridcolor": "white",
            "gridwidth": 2,
            "linecolor": "white",
            "showbackground": true,
            "ticks": "",
            "zerolinecolor": "white"
           },
           "yaxis": {
            "backgroundcolor": "#E5ECF6",
            "gridcolor": "white",
            "gridwidth": 2,
            "linecolor": "white",
            "showbackground": true,
            "ticks": "",
            "zerolinecolor": "white"
           },
           "zaxis": {
            "backgroundcolor": "#E5ECF6",
            "gridcolor": "white",
            "gridwidth": 2,
            "linecolor": "white",
            "showbackground": true,
            "ticks": "",
            "zerolinecolor": "white"
           }
          },
          "shapedefaults": {
           "line": {
            "color": "#2a3f5f"
           }
          },
          "ternary": {
           "aaxis": {
            "gridcolor": "white",
            "linecolor": "white",
            "ticks": ""
           },
           "baxis": {
            "gridcolor": "white",
            "linecolor": "white",
            "ticks": ""
           },
           "bgcolor": "#E5ECF6",
           "caxis": {
            "gridcolor": "white",
            "linecolor": "white",
            "ticks": ""
           }
          },
          "title": {
           "x": 0.05
          },
          "xaxis": {
           "automargin": true,
           "gridcolor": "white",
           "linecolor": "white",
           "ticks": "",
           "title": {
            "standoff": 15
           },
           "zerolinecolor": "white",
           "zerolinewidth": 2
          },
          "yaxis": {
           "automargin": true,
           "gridcolor": "white",
           "linecolor": "white",
           "ticks": "",
           "title": {
            "standoff": 15
           },
           "zerolinecolor": "white",
           "zerolinewidth": 2
          }
         }
        },
        "title": {
         "text": "Expert Usage Distribution - Layer 15 (english)"
        },
        "width": 1000,
        "xaxis": {
         "dtick": 4,
         "gridcolor": "lightgray",
         "gridwidth": 1,
         "showgrid": true,
         "tick0": 0,
         "tickmode": "linear",
         "title": {
          "text": "Expert ID"
         }
        },
        "yaxis": {
         "gridcolor": "lightgray",
         "gridwidth": 1,
         "range": [
          0,
          100
         ],
         "showgrid": true,
         "title": {
          "text": "% of English Domain Tokens"
         }
        }
       }
      }
     },
     "metadata": {},
     "output_type": "display_data"
    }
   ],
   "source": [
    "bar_graph_visualize(last_token_experts, layer_number=15, domain='english')"
   ]
  },
  {
   "cell_type": "code",
   "execution_count": 35,
   "metadata": {},
   "outputs": [],
   "source": [
    "def stacked_bar_graph(last_token_experts, layer_number):\n",
    "    \"\"\"\n",
    "    Args:\n",
    "        last_token_experts: Tensor of shape [600, 27, 6] (prompts, layers, experts)\n",
    "        layer_number: Layer to analyze (1-27)\n",
    "    \"\"\"\n",
    "    # Validate layer\n",
    "    layer_idx = layer_number - 1\n",
    "    if layer_idx < 0 or layer_idx >= last_token_experts.size(1):\n",
    "        raise ValueError(\"Layer number must be between 1 and 27.\")\n",
    "    \n",
    "    # Extract data for the specified layer [600 prompts, 6 experts]\n",
    "    layer_data = last_token_experts[:, layer_idx, :].numpy()\n",
    "    \n",
    "    # Split into domains\n",
    "    code = layer_data[:200]    # First 200 prompts (code)\n",
    "    english = layer_data[200:400]  # Next 200 (english)\n",
    "    french = layer_data[400:600]   # Last 200 (french)\n",
    "    \n",
    "    # Initialize domain-specific expert counts\n",
    "    code_counts = np.zeros(64, dtype=int)\n",
    "    eng_counts = np.zeros(64, dtype=int)\n",
    "    fr_counts = np.zeros(64, dtype=int)\n",
    "    \n",
    "    # Count occurrences for each domain (unique experts per token)\n",
    "    for domain_data, counts in zip([code, english, french], [code_counts, eng_counts, fr_counts]):\n",
    "        for token_experts in domain_data:\n",
    "            unique_experts = np.unique(token_experts)\n",
    "            for expert in unique_experts:\n",
    "                counts[expert] += 1\n",
    "    \n",
    "    # Convert counts to percentages (relative to N_D=600)\n",
    "    total_tokens = 600\n",
    "    code_pct = (code_counts / total_tokens) * 100\n",
    "    eng_pct = (eng_counts / total_tokens) * 100\n",
    "    fr_pct = (fr_counts / total_tokens) * 100\n",
    "    \n",
    "    # Create plotly stacked bar chart\n",
    "    fig = go.Figure(data=[\n",
    "        go.Bar(name='Code', x=list(range(64)), y=code_pct, marker_color='#2c7bb6'),\n",
    "        go.Bar(name='English', x=list(range(64)), y=eng_pct, marker_color='#d7191c'),\n",
    "        go.Bar(name='French', x=list(range(64)), y=fr_pct, marker_color='#fdae61')\n",
    "    ])\n",
    "    \n",
    "    # Update layout\n",
    "    fig.update_layout(\n",
    "        barmode='stack',\n",
    "        title=f'Domain Contributions to Experts (Layer {layer_number})',\n",
    "        xaxis_title='Expert ID',\n",
    "        yaxis_title='Percentage of Total Tokens',\n",
    "        xaxis=dict(\n",
    "            tickmode='linear',\n",
    "            tick0=0,\n",
    "            dtick=4\n",
    "        ),\n",
    "        showlegend=True,\n",
    "        legend=dict(\n",
    "            yanchor=\"top\",\n",
    "            y=0.99,\n",
    "            xanchor=\"right\",\n",
    "            x=0.99\n",
    "        ),\n",
    "        width=2000,\n",
    "        height=750\n",
    "    )\n",
    "    \n",
    "    # Add gridlines\n",
    "    fig.update_xaxes(showgrid=True, gridwidth=1, gridcolor='lightgray')\n",
    "    fig.update_yaxes(showgrid=True, gridwidth=1, gridcolor='lightgray')\n",
    "    \n",
    "    fig.show()"
   ]
  },
  {
   "cell_type": "code",
   "execution_count": 36,
   "metadata": {},
   "outputs": [
    {
     "data": {
      "application/vnd.plotly.v1+json": {
       "config": {
        "plotlyServerURL": "https://plot.ly"
       },
       "data": [
        {
         "marker": {
          "color": "#2c7bb6"
         },
         "name": "Code",
         "type": "bar",
         "x": [
          0,
          1,
          2,
          3,
          4,
          5,
          6,
          7,
          8,
          9,
          10,
          11,
          12,
          13,
          14,
          15,
          16,
          17,
          18,
          19,
          20,
          21,
          22,
          23,
          24,
          25,
          26,
          27,
          28,
          29,
          30,
          31,
          32,
          33,
          34,
          35,
          36,
          37,
          38,
          39,
          40,
          41,
          42,
          43,
          44,
          45,
          46,
          47,
          48,
          49,
          50,
          51,
          52,
          53,
          54,
          55,
          56,
          57,
          58,
          59,
          60,
          61,
          62,
          63
         ],
         "y": [
          3.166666666666667,
          2.833333333333333,
          1.6666666666666667,
          1.6666666666666667,
          16.833333333333332,
          3.166666666666667,
          0.33333333333333337,
          0.8333333333333334,
          1.6666666666666667,
          1.6666666666666667,
          2,
          2.3333333333333335,
          2.166666666666667,
          0.8333333333333334,
          1,
          3.166666666666667,
          1.5,
          2.3333333333333335,
          0.6666666666666667,
          3.833333333333333,
          17.833333333333336,
          0.8333333333333334,
          1.5,
          4.333333333333334,
          5.166666666666667,
          2.166666666666667,
          1.3333333333333335,
          5.666666666666666,
          0.33333333333333337,
          5.833333333333333,
          3,
          1.1666666666666667,
          5,
          2,
          4.5,
          3.5000000000000004,
          2.3333333333333335,
          2,
          3.833333333333333,
          4,
          0.5,
          3.166666666666667,
          2.666666666666667,
          6.166666666666667,
          1.8333333333333333,
          15.5,
          0.6666666666666667,
          0,
          1.5,
          0.5,
          1.8333333333333333,
          4,
          1.1666666666666667,
          1.5,
          2.3333333333333335,
          1.8333333333333333,
          3,
          3.166666666666667,
          2.666666666666667,
          0.6666666666666667,
          7.000000000000001,
          1.6666666666666667,
          2.3333333333333335,
          4.333333333333334
         ]
        },
        {
         "marker": {
          "color": "#d7191c"
         },
         "name": "English",
         "type": "bar",
         "x": [
          0,
          1,
          2,
          3,
          4,
          5,
          6,
          7,
          8,
          9,
          10,
          11,
          12,
          13,
          14,
          15,
          16,
          17,
          18,
          19,
          20,
          21,
          22,
          23,
          24,
          25,
          26,
          27,
          28,
          29,
          30,
          31,
          32,
          33,
          34,
          35,
          36,
          37,
          38,
          39,
          40,
          41,
          42,
          43,
          44,
          45,
          46,
          47,
          48,
          49,
          50,
          51,
          52,
          53,
          54,
          55,
          56,
          57,
          58,
          59,
          60,
          61,
          62,
          63
         ],
         "y": [
          3,
          0.5,
          0.8333333333333334,
          2.5,
          3.833333333333333,
          2,
          0.16666666666666669,
          0,
          1,
          0.5,
          9,
          6.333333333333334,
          1.1666666666666667,
          1,
          1.1666666666666667,
          2.833333333333333,
          0,
          2.3333333333333335,
          1.1666666666666667,
          7.5,
          0.8333333333333334,
          1.3333333333333335,
          2,
          19.166666666666668,
          0.6666666666666667,
          0.6666666666666667,
          7.833333333333334,
          4.5,
          0,
          7.5,
          2.833333333333333,
          0.5,
          0.5,
          8.166666666666666,
          0.33333333333333337,
          7.333333333333333,
          0.5,
          6.166666666666667,
          7.833333333333334,
          3.166666666666667,
          1,
          6.833333333333333,
          0.5,
          4,
          0.5,
          0.16666666666666669,
          0,
          0,
          0.6666666666666667,
          0.16666666666666669,
          5.833333333333333,
          0,
          0,
          0,
          0.8333333333333334,
          7.000000000000001,
          3.5000000000000004,
          1,
          6.666666666666667,
          10.333333333333334,
          8.333333333333332,
          3.5000000000000004,
          1.6666666666666667,
          8.833333333333334
         ]
        },
        {
         "marker": {
          "color": "#fdae61"
         },
         "name": "French",
         "type": "bar",
         "x": [
          0,
          1,
          2,
          3,
          4,
          5,
          6,
          7,
          8,
          9,
          10,
          11,
          12,
          13,
          14,
          15,
          16,
          17,
          18,
          19,
          20,
          21,
          22,
          23,
          24,
          25,
          26,
          27,
          28,
          29,
          30,
          31,
          32,
          33,
          34,
          35,
          36,
          37,
          38,
          39,
          40,
          41,
          42,
          43,
          44,
          45,
          46,
          47,
          48,
          49,
          50,
          51,
          52,
          53,
          54,
          55,
          56,
          57,
          58,
          59,
          60,
          61,
          62,
          63
         ],
         "y": [
          2.166666666666667,
          2.5,
          2.833333333333333,
          2.5,
          2.166666666666667,
          5,
          2.5,
          2.5,
          2,
          1,
          3,
          3.5000000000000004,
          0.8333333333333334,
          5,
          1.5,
          1,
          0.5,
          2.166666666666667,
          0.6666666666666667,
          7.666666666666666,
          3.166666666666667,
          1.8333333333333333,
          3.6666666666666665,
          4.333333333333334,
          6.5,
          13.5,
          1.3333333333333335,
          3,
          0.33333333333333337,
          1.3333333333333335,
          1.8333333333333333,
          7.166666666666667,
          7.000000000000001,
          1.1666666666666667,
          3.6666666666666665,
          3.5000000000000004,
          2.833333333333333,
          3.5000000000000004,
          1.5,
          0.6666666666666667,
          0.33333333333333337,
          4.833333333333333,
          1.8333333333333333,
          2.666666666666667,
          0.5,
          0.8333333333333334,
          2.5,
          1.1666666666666667,
          1.1666666666666667,
          2.5,
          3.833333333333333,
          0.5,
          1,
          1.1666666666666667,
          8.166666666666666,
          7.166666666666667,
          0.6666666666666667,
          22.5,
          0.8333333333333334,
          2.166666666666667,
          3.166666666666667,
          5,
          1.1666666666666667,
          1.5
         ]
        }
       ],
       "layout": {
        "barmode": "stack",
        "height": 750,
        "legend": {
         "x": 0.99,
         "xanchor": "right",
         "y": 0.99,
         "yanchor": "top"
        },
        "showlegend": true,
        "template": {
         "data": {
          "bar": [
           {
            "error_x": {
             "color": "#2a3f5f"
            },
            "error_y": {
             "color": "#2a3f5f"
            },
            "marker": {
             "line": {
              "color": "#E5ECF6",
              "width": 0.5
             },
             "pattern": {
              "fillmode": "overlay",
              "size": 10,
              "solidity": 0.2
             }
            },
            "type": "bar"
           }
          ],
          "barpolar": [
           {
            "marker": {
             "line": {
              "color": "#E5ECF6",
              "width": 0.5
             },
             "pattern": {
              "fillmode": "overlay",
              "size": 10,
              "solidity": 0.2
             }
            },
            "type": "barpolar"
           }
          ],
          "carpet": [
           {
            "aaxis": {
             "endlinecolor": "#2a3f5f",
             "gridcolor": "white",
             "linecolor": "white",
             "minorgridcolor": "white",
             "startlinecolor": "#2a3f5f"
            },
            "baxis": {
             "endlinecolor": "#2a3f5f",
             "gridcolor": "white",
             "linecolor": "white",
             "minorgridcolor": "white",
             "startlinecolor": "#2a3f5f"
            },
            "type": "carpet"
           }
          ],
          "choropleth": [
           {
            "colorbar": {
             "outlinewidth": 0,
             "ticks": ""
            },
            "type": "choropleth"
           }
          ],
          "contour": [
           {
            "colorbar": {
             "outlinewidth": 0,
             "ticks": ""
            },
            "colorscale": [
             [
              0,
              "#0d0887"
             ],
             [
              0.1111111111111111,
              "#46039f"
             ],
             [
              0.2222222222222222,
              "#7201a8"
             ],
             [
              0.3333333333333333,
              "#9c179e"
             ],
             [
              0.4444444444444444,
              "#bd3786"
             ],
             [
              0.5555555555555556,
              "#d8576b"
             ],
             [
              0.6666666666666666,
              "#ed7953"
             ],
             [
              0.7777777777777778,
              "#fb9f3a"
             ],
             [
              0.8888888888888888,
              "#fdca26"
             ],
             [
              1,
              "#f0f921"
             ]
            ],
            "type": "contour"
           }
          ],
          "contourcarpet": [
           {
            "colorbar": {
             "outlinewidth": 0,
             "ticks": ""
            },
            "type": "contourcarpet"
           }
          ],
          "heatmap": [
           {
            "colorbar": {
             "outlinewidth": 0,
             "ticks": ""
            },
            "colorscale": [
             [
              0,
              "#0d0887"
             ],
             [
              0.1111111111111111,
              "#46039f"
             ],
             [
              0.2222222222222222,
              "#7201a8"
             ],
             [
              0.3333333333333333,
              "#9c179e"
             ],
             [
              0.4444444444444444,
              "#bd3786"
             ],
             [
              0.5555555555555556,
              "#d8576b"
             ],
             [
              0.6666666666666666,
              "#ed7953"
             ],
             [
              0.7777777777777778,
              "#fb9f3a"
             ],
             [
              0.8888888888888888,
              "#fdca26"
             ],
             [
              1,
              "#f0f921"
             ]
            ],
            "type": "heatmap"
           }
          ],
          "heatmapgl": [
           {
            "colorbar": {
             "outlinewidth": 0,
             "ticks": ""
            },
            "colorscale": [
             [
              0,
              "#0d0887"
             ],
             [
              0.1111111111111111,
              "#46039f"
             ],
             [
              0.2222222222222222,
              "#7201a8"
             ],
             [
              0.3333333333333333,
              "#9c179e"
             ],
             [
              0.4444444444444444,
              "#bd3786"
             ],
             [
              0.5555555555555556,
              "#d8576b"
             ],
             [
              0.6666666666666666,
              "#ed7953"
             ],
             [
              0.7777777777777778,
              "#fb9f3a"
             ],
             [
              0.8888888888888888,
              "#fdca26"
             ],
             [
              1,
              "#f0f921"
             ]
            ],
            "type": "heatmapgl"
           }
          ],
          "histogram": [
           {
            "marker": {
             "pattern": {
              "fillmode": "overlay",
              "size": 10,
              "solidity": 0.2
             }
            },
            "type": "histogram"
           }
          ],
          "histogram2d": [
           {
            "colorbar": {
             "outlinewidth": 0,
             "ticks": ""
            },
            "colorscale": [
             [
              0,
              "#0d0887"
             ],
             [
              0.1111111111111111,
              "#46039f"
             ],
             [
              0.2222222222222222,
              "#7201a8"
             ],
             [
              0.3333333333333333,
              "#9c179e"
             ],
             [
              0.4444444444444444,
              "#bd3786"
             ],
             [
              0.5555555555555556,
              "#d8576b"
             ],
             [
              0.6666666666666666,
              "#ed7953"
             ],
             [
              0.7777777777777778,
              "#fb9f3a"
             ],
             [
              0.8888888888888888,
              "#fdca26"
             ],
             [
              1,
              "#f0f921"
             ]
            ],
            "type": "histogram2d"
           }
          ],
          "histogram2dcontour": [
           {
            "colorbar": {
             "outlinewidth": 0,
             "ticks": ""
            },
            "colorscale": [
             [
              0,
              "#0d0887"
             ],
             [
              0.1111111111111111,
              "#46039f"
             ],
             [
              0.2222222222222222,
              "#7201a8"
             ],
             [
              0.3333333333333333,
              "#9c179e"
             ],
             [
              0.4444444444444444,
              "#bd3786"
             ],
             [
              0.5555555555555556,
              "#d8576b"
             ],
             [
              0.6666666666666666,
              "#ed7953"
             ],
             [
              0.7777777777777778,
              "#fb9f3a"
             ],
             [
              0.8888888888888888,
              "#fdca26"
             ],
             [
              1,
              "#f0f921"
             ]
            ],
            "type": "histogram2dcontour"
           }
          ],
          "mesh3d": [
           {
            "colorbar": {
             "outlinewidth": 0,
             "ticks": ""
            },
            "type": "mesh3d"
           }
          ],
          "parcoords": [
           {
            "line": {
             "colorbar": {
              "outlinewidth": 0,
              "ticks": ""
             }
            },
            "type": "parcoords"
           }
          ],
          "pie": [
           {
            "automargin": true,
            "type": "pie"
           }
          ],
          "scatter": [
           {
            "fillpattern": {
             "fillmode": "overlay",
             "size": 10,
             "solidity": 0.2
            },
            "type": "scatter"
           }
          ],
          "scatter3d": [
           {
            "line": {
             "colorbar": {
              "outlinewidth": 0,
              "ticks": ""
             }
            },
            "marker": {
             "colorbar": {
              "outlinewidth": 0,
              "ticks": ""
             }
            },
            "type": "scatter3d"
           }
          ],
          "scattercarpet": [
           {
            "marker": {
             "colorbar": {
              "outlinewidth": 0,
              "ticks": ""
             }
            },
            "type": "scattercarpet"
           }
          ],
          "scattergeo": [
           {
            "marker": {
             "colorbar": {
              "outlinewidth": 0,
              "ticks": ""
             }
            },
            "type": "scattergeo"
           }
          ],
          "scattergl": [
           {
            "marker": {
             "colorbar": {
              "outlinewidth": 0,
              "ticks": ""
             }
            },
            "type": "scattergl"
           }
          ],
          "scattermapbox": [
           {
            "marker": {
             "colorbar": {
              "outlinewidth": 0,
              "ticks": ""
             }
            },
            "type": "scattermapbox"
           }
          ],
          "scatterpolar": [
           {
            "marker": {
             "colorbar": {
              "outlinewidth": 0,
              "ticks": ""
             }
            },
            "type": "scatterpolar"
           }
          ],
          "scatterpolargl": [
           {
            "marker": {
             "colorbar": {
              "outlinewidth": 0,
              "ticks": ""
             }
            },
            "type": "scatterpolargl"
           }
          ],
          "scatterternary": [
           {
            "marker": {
             "colorbar": {
              "outlinewidth": 0,
              "ticks": ""
             }
            },
            "type": "scatterternary"
           }
          ],
          "surface": [
           {
            "colorbar": {
             "outlinewidth": 0,
             "ticks": ""
            },
            "colorscale": [
             [
              0,
              "#0d0887"
             ],
             [
              0.1111111111111111,
              "#46039f"
             ],
             [
              0.2222222222222222,
              "#7201a8"
             ],
             [
              0.3333333333333333,
              "#9c179e"
             ],
             [
              0.4444444444444444,
              "#bd3786"
             ],
             [
              0.5555555555555556,
              "#d8576b"
             ],
             [
              0.6666666666666666,
              "#ed7953"
             ],
             [
              0.7777777777777778,
              "#fb9f3a"
             ],
             [
              0.8888888888888888,
              "#fdca26"
             ],
             [
              1,
              "#f0f921"
             ]
            ],
            "type": "surface"
           }
          ],
          "table": [
           {
            "cells": {
             "fill": {
              "color": "#EBF0F8"
             },
             "line": {
              "color": "white"
             }
            },
            "header": {
             "fill": {
              "color": "#C8D4E3"
             },
             "line": {
              "color": "white"
             }
            },
            "type": "table"
           }
          ]
         },
         "layout": {
          "annotationdefaults": {
           "arrowcolor": "#2a3f5f",
           "arrowhead": 0,
           "arrowwidth": 1
          },
          "autotypenumbers": "strict",
          "coloraxis": {
           "colorbar": {
            "outlinewidth": 0,
            "ticks": ""
           }
          },
          "colorscale": {
           "diverging": [
            [
             0,
             "#8e0152"
            ],
            [
             0.1,
             "#c51b7d"
            ],
            [
             0.2,
             "#de77ae"
            ],
            [
             0.3,
             "#f1b6da"
            ],
            [
             0.4,
             "#fde0ef"
            ],
            [
             0.5,
             "#f7f7f7"
            ],
            [
             0.6,
             "#e6f5d0"
            ],
            [
             0.7,
             "#b8e186"
            ],
            [
             0.8,
             "#7fbc41"
            ],
            [
             0.9,
             "#4d9221"
            ],
            [
             1,
             "#276419"
            ]
           ],
           "sequential": [
            [
             0,
             "#0d0887"
            ],
            [
             0.1111111111111111,
             "#46039f"
            ],
            [
             0.2222222222222222,
             "#7201a8"
            ],
            [
             0.3333333333333333,
             "#9c179e"
            ],
            [
             0.4444444444444444,
             "#bd3786"
            ],
            [
             0.5555555555555556,
             "#d8576b"
            ],
            [
             0.6666666666666666,
             "#ed7953"
            ],
            [
             0.7777777777777778,
             "#fb9f3a"
            ],
            [
             0.8888888888888888,
             "#fdca26"
            ],
            [
             1,
             "#f0f921"
            ]
           ],
           "sequentialminus": [
            [
             0,
             "#0d0887"
            ],
            [
             0.1111111111111111,
             "#46039f"
            ],
            [
             0.2222222222222222,
             "#7201a8"
            ],
            [
             0.3333333333333333,
             "#9c179e"
            ],
            [
             0.4444444444444444,
             "#bd3786"
            ],
            [
             0.5555555555555556,
             "#d8576b"
            ],
            [
             0.6666666666666666,
             "#ed7953"
            ],
            [
             0.7777777777777778,
             "#fb9f3a"
            ],
            [
             0.8888888888888888,
             "#fdca26"
            ],
            [
             1,
             "#f0f921"
            ]
           ]
          },
          "colorway": [
           "#636efa",
           "#EF553B",
           "#00cc96",
           "#ab63fa",
           "#FFA15A",
           "#19d3f3",
           "#FF6692",
           "#B6E880",
           "#FF97FF",
           "#FECB52"
          ],
          "font": {
           "color": "#2a3f5f"
          },
          "geo": {
           "bgcolor": "white",
           "lakecolor": "white",
           "landcolor": "#E5ECF6",
           "showlakes": true,
           "showland": true,
           "subunitcolor": "white"
          },
          "hoverlabel": {
           "align": "left"
          },
          "hovermode": "closest",
          "mapbox": {
           "style": "light"
          },
          "paper_bgcolor": "white",
          "plot_bgcolor": "#E5ECF6",
          "polar": {
           "angularaxis": {
            "gridcolor": "white",
            "linecolor": "white",
            "ticks": ""
           },
           "bgcolor": "#E5ECF6",
           "radialaxis": {
            "gridcolor": "white",
            "linecolor": "white",
            "ticks": ""
           }
          },
          "scene": {
           "xaxis": {
            "backgroundcolor": "#E5ECF6",
            "gridcolor": "white",
            "gridwidth": 2,
            "linecolor": "white",
            "showbackground": true,
            "ticks": "",
            "zerolinecolor": "white"
           },
           "yaxis": {
            "backgroundcolor": "#E5ECF6",
            "gridcolor": "white",
            "gridwidth": 2,
            "linecolor": "white",
            "showbackground": true,
            "ticks": "",
            "zerolinecolor": "white"
           },
           "zaxis": {
            "backgroundcolor": "#E5ECF6",
            "gridcolor": "white",
            "gridwidth": 2,
            "linecolor": "white",
            "showbackground": true,
            "ticks": "",
            "zerolinecolor": "white"
           }
          },
          "shapedefaults": {
           "line": {
            "color": "#2a3f5f"
           }
          },
          "ternary": {
           "aaxis": {
            "gridcolor": "white",
            "linecolor": "white",
            "ticks": ""
           },
           "baxis": {
            "gridcolor": "white",
            "linecolor": "white",
            "ticks": ""
           },
           "bgcolor": "#E5ECF6",
           "caxis": {
            "gridcolor": "white",
            "linecolor": "white",
            "ticks": ""
           }
          },
          "title": {
           "x": 0.05
          },
          "xaxis": {
           "automargin": true,
           "gridcolor": "white",
           "linecolor": "white",
           "ticks": "",
           "title": {
            "standoff": 15
           },
           "zerolinecolor": "white",
           "zerolinewidth": 2
          },
          "yaxis": {
           "automargin": true,
           "gridcolor": "white",
           "linecolor": "white",
           "ticks": "",
           "title": {
            "standoff": 15
           },
           "zerolinecolor": "white",
           "zerolinewidth": 2
          }
         }
        },
        "title": {
         "text": "Domain Contributions to Experts (Layer 1)"
        },
        "width": 2000,
        "xaxis": {
         "dtick": 4,
         "gridcolor": "lightgray",
         "gridwidth": 1,
         "showgrid": true,
         "tick0": 0,
         "tickmode": "linear",
         "title": {
          "text": "Expert ID"
         }
        },
        "yaxis": {
         "gridcolor": "lightgray",
         "gridwidth": 1,
         "showgrid": true,
         "title": {
          "text": "Percentage of Total Tokens"
         }
        }
       }
      }
     },
     "metadata": {},
     "output_type": "display_data"
    }
   ],
   "source": [
    "stacked_bar_graph(last_token_experts, layer_number=1)"
   ]
  },
  {
   "cell_type": "code",
   "execution_count": 114,
   "metadata": {},
   "outputs": [],
   "source": [
    "def bar_graph_all_tokens(all_token_experts, layer_number, domain):\n",
    "    \"\"\"\n",
    "    Visualizes expert distribution for all tokens in a domain and layer.\n",
    "    \n",
    "    Args:\n",
    "        all_token_experts: Tensor of shape [600, 27, 284, 6] (prompts, layers, tokens, experts)\n",
    "        layer_number: Layer to analyze (1-27)\n",
    "        domain: 'code', 'english', or 'french'\n",
    "    \"\"\"\n",
    "    # Validate domain and extract slice\n",
    "    if domain == 'code':\n",
    "        domain_slice = slice(0, 200)\n",
    "    elif domain == 'english':\n",
    "        domain_slice = slice(200, 400)\n",
    "    elif domain == 'french':\n",
    "        domain_slice = slice(400, 600)\n",
    "    else:\n",
    "        raise ValueError(\"Domain must be 'code', 'english', or 'french'.\")\n",
    "    \n",
    "    # Validate layer index\n",
    "    layer_idx = layer_number - 1\n",
    "    if layer_idx < 0 or layer_idx >= all_token_experts.size(1):\n",
    "        raise ValueError(\"Layer number must be between 1 and 27.\")\n",
    "    \n",
    "    # Extract data for domain and layer [200 prompts, 284 tokens, 6 experts]\n",
    "    domain_data = all_token_experts[domain_slice, layer_idx, :, :].numpy()\n",
    "    # Flatten and filter out padding (experts = -1)\n",
    "    flattened = domain_data.reshape(-1, 6)  # [200*284, 6]\n",
    "    valid_tokens_mask = (flattened[:, 0] != -1)  # Padding uses -1\n",
    "    valid_experts = flattened[valid_tokens_mask]\n",
    "    # Count unique experts per token\n",
    "    expert_counts = np.zeros(64, dtype=int)\n",
    "    for token_experts in valid_experts:\n",
    "        unique_experts = np.unique(token_experts)\n",
    "        for expert in unique_experts:\n",
    "            expert_counts[expert] += 1\n",
    "    \n",
    "    # Compute percentages\n",
    "    total_valid_tokens = valid_experts.shape[0]\n",
    "    print(f'total valid tokens : {total_valid_tokens}')\n",
    "    percentages = (expert_counts / total_valid_tokens) * 100\n",
    "    \n",
    "    # Plot\n",
    "    plt.figure(figsize=(15, 6))\n",
    "    bars = plt.bar(range(64), percentages, color='steelblue')\n",
    "    plt.xlabel('expert ID', fontsize=12)\n",
    "    plt.ylabel('% of total tokens selecting expert', fontsize=12)\n",
    "    plt.title(f'expert selection for {domain.capitalize()} domain (layer {layer_number}) - all tokens', fontsize=14)\n",
    "    plt.xticks(np.arange(0, 64, 4))\n",
    "    plt.grid(axis='y', linestyle='--', alpha=0.7)\n",
    "    \n",
    "    # Highlight bars with non-zero values\n",
    "    for bar in bars:\n",
    "        if bar.get_height() > 0:\n",
    "            bar.set_color('#2c7bb6')  # Darker blue for emphasis\n",
    "    \n",
    "    plt.show()"
   ]
  },
  {
   "cell_type": "code",
   "execution_count": null,
   "metadata": {},
   "outputs": [],
   "source": [
    "bar_graph_all_tokens(all_token_experts, layer_number=1, domain='french')"
   ]
  },
  {
   "cell_type": "code",
   "execution_count": 157,
   "metadata": {},
   "outputs": [],
   "source": [
    "def stacked_bar_graph_all_tokens(all_token_experts, layer_number):\n",
    "    \"\"\"\n",
    "    Visualizes domain contributions to experts across ALL tokens (non-padded) for a given layer.\n",
    "    Normalizes counts per domain to balance influence.\n",
    "    \"\"\"\n",
    "    # Validate layer\n",
    "    layer_idx = layer_number - 1\n",
    "    if layer_idx < 0 or layer_idx >= all_token_experts.size(1):\n",
    "        raise ValueError(\"Layer number must be between 1 and 27.\")\n",
    "    \n",
    "    # Extract layer data [600 prompts, 284 tokens, 6 experts]\n",
    "    layer_data = all_token_experts[:, layer_idx, :, :].numpy()\n",
    "    \n",
    "    # Split into domains\n",
    "    code = layer_data[:200]    # Code domain (prompts 0-199)\n",
    "    english = layer_data[200:400]  # English (prompts 200-399)\n",
    "    french = layer_data[400:600]   # French (prompts 400-599)\n",
    "    \n",
    "    def process_domain(domain_data):\n",
    "        \"\"\"Process a domain's data to count valid tokens and expert usage.\"\"\"\n",
    "        flattened = domain_data.reshape(-1, 6)\n",
    "        valid_mask = flattened[:, 0] != -1\n",
    "        valid_experts = flattened[valid_mask]\n",
    "        counts = np.zeros(64, dtype=int)\n",
    "        for token in valid_experts:\n",
    "            unique_experts = np.unique(token)\n",
    "            for expert in unique_experts:\n",
    "                counts[expert] += 1\n",
    "        return counts, valid_experts.shape[0]\n",
    "    \n",
    "    # Process domains and get raw counts/tokens\n",
    "    code_counts, code_valid = process_domain(code)\n",
    "    eng_counts, eng_valid = process_domain(english)\n",
    "    fr_counts, fr_valid = process_domain(french)\n",
    "    \n",
    "    # Normalize counts to balance domain contributions\n",
    "    def normalize_counts(counts, domain_valid_tokens, scaling_factor=1000):\n",
    "        \"\"\"Scale counts to a common token count (e.g., 1000 tokens per domain).\"\"\"\n",
    "        scale = scaling_factor / domain_valid_tokens\n",
    "        return (counts * scale).astype(int)\n",
    "    \n",
    "    # Choose a scaling factor (e.g., min token count or fixed value)\n",
    "    scaling_factor = min(code_valid, eng_valid, fr_valid)  # Use smallest domain size\n",
    "    print(f'scaling factor : {scaling_factor}')\n",
    "    \n",
    "    # Normalize counts\n",
    "    code_norm = normalize_counts(code_counts, code_valid, scaling_factor)\n",
    "    eng_norm = normalize_counts(eng_counts, eng_valid, scaling_factor)\n",
    "    fr_norm = normalize_counts(fr_counts, fr_valid, scaling_factor)\n",
    "    \n",
    "    # Total tokens after normalization (scaling_factor * 3 for 3 domains)\n",
    "    total_normalized_tokens = scaling_factor * 3\n",
    "    print(f'total normalized tokens : {total_normalized_tokens}')\n",
    "    # Compute percentages\n",
    "    code_pct = (code_norm / total_normalized_tokens) * 100\n",
    "    eng_pct = (eng_norm / total_normalized_tokens) * 100\n",
    "    fr_pct = (fr_norm / total_normalized_tokens) * 100\n",
    "    \n",
    "    # Plot settings\n",
    "    experts = np.arange(64)\n",
    "    colors = ['#2c7bb6', '#d7191c', '#fdae61']\n",
    "    labels = ['Code', 'English', 'French']\n",
    "    \n",
    "    fig, ax = plt.subplots(figsize=(20, 8))\n",
    "    ax.bar(experts, code_pct, color=colors[0], label=labels[0])\n",
    "    ax.bar(experts, eng_pct, bottom=code_pct, color=colors[1], label=labels[1])\n",
    "    ax.bar(experts, fr_pct, bottom=code_pct+eng_pct, color=colors[2], label=labels[2])\n",
    "    \n",
    "    ax.set_xlabel('Expert ID', fontsize=12)\n",
    "    ax.set_ylabel('Percentage of Normalized Tokens (%)', fontsize=12)\n",
    "    ax.set_title(f'Balanced Domain Contributions to Experts (Layer {layer_number})', fontsize=14)\n",
    "    ax.set_xticks(np.arange(0, 64, 4))\n",
    "    ax.legend(loc='upper right')\n",
    "    plt.show()"
   ]
  },
  {
   "cell_type": "code",
   "execution_count": null,
   "metadata": {},
   "outputs": [],
   "source": [
    "stacked_bar_graph_all_tokens(all_token_experts, layer_number=27)"
   ]
  },
  {
   "cell_type": "code",
   "execution_count": 171,
   "metadata": {},
   "outputs": [],
   "source": [
    "def expert_coactivation(last_token_experts, layer_number, top_k=64):\n",
    "    \"\"\"\n",
    "    Visualizes expert co-activation for a specified layer using last token experts.\n",
    "    \n",
    "    Args:\n",
    "        last_token_experts: Tensor of shape [600, 27, 6] (prompts, layers, top_k=6).\n",
    "        layer_number: Layer to analyze (1-27).\n",
    "        top_k: Number of top experts to display based on maximum co-activation scores.\n",
    "    \"\"\"\n",
    "    # Validate layer index\n",
    "    layer_idx = layer_number - 1\n",
    "    if layer_idx < 0 or layer_idx >= last_token_experts.size(1):\n",
    "        raise ValueError(\"Layer number must be between 1 and 27.\")\n",
    "    \n",
    "    # Extract data for the specified layer [600 prompts, 6 experts]\n",
    "    layer_data = last_token_experts[:, layer_idx, :].numpy()\n",
    "    \n",
    "    # Initialize co-occurrence and expert activation counts\n",
    "    co_occurrence = np.zeros((64, 64), dtype=int)\n",
    "    expert_activations = np.zeros(64, dtype=int)\n",
    "    \n",
    "    # Process each token's expert selections\n",
    "    for token_experts in layer_data:\n",
    "        unique_experts = np.unique(token_experts)  # Remove duplicates\n",
    "        # Update expert activation counts\n",
    "        for expert in unique_experts:\n",
    "            expert_activations[expert] += 1\n",
    "        # Update co-occurrence matrix\n",
    "        for i in unique_experts:\n",
    "            for j in unique_experts:\n",
    "                if i != j:\n",
    "                    co_occurrence[i, j] += 1\n",
    "    \n",
    "    # Compute co-activation matrix (directed)\n",
    "    co_activation = np.zeros((64, 64))\n",
    "    for i in range(64):\n",
    "        if expert_activations[i] > 0:\n",
    "            co_activation[i, :] = (co_occurrence[i, :] / expert_activations[i]) * 100\n",
    "    \n",
    "    # Identify top-k experts with highest max co-activation scores\n",
    "    max_scores = np.max(co_activation, axis=1)\n",
    "    top_experts = np.argsort(-max_scores)[:top_k]\n",
    "    top_experts = np.sort(top_experts)  # Sort for ordered display\n",
    "    \n",
    "    # Filter matrix to include only top experts\n",
    "    filtered_matrix = co_activation[np.ix_(top_experts, top_experts)]\n",
    "    \n",
    "    # Plot settings\n",
    "    plt.figure(figsize=(12, 10))\n",
    "    plt.imshow(filtered_matrix, cmap=\"viridis\", interpolation=\"nearest\", aspect=\"auto\")\n",
    "    plt.colorbar(label=\"Co-activation (%)\", shrink=0.8)\n",
    "    \n",
    "    # Label axes with expert IDs\n",
    "    tick_labels = [f\"E{expert}\" for expert in top_experts]\n",
    "    plt.xticks(np.arange(len(top_experts)), tick_labels, rotation=90)\n",
    "    plt.yticks(np.arange(len(top_experts)), tick_labels)\n",
    "    plt.xlabel(\"Expert $E_j$\")\n",
    "    plt.ylabel(\"Expert $E_i$\")\n",
    "    plt.title(f\"Expert Co-activation (Layer {layer_number}) - Top {top_k} Experts\")\n",
    "    plt.tight_layout()\n",
    "    plt.show()"
   ]
  },
  {
   "cell_type": "code",
   "execution_count": null,
   "metadata": {},
   "outputs": [],
   "source": [
    "expert_coactivation(last_token_experts, layer_number=1)"
   ]
  }
 ],
 "metadata": {
  "kernelspec": {
   "display_name": "ai_env",
   "language": "python",
   "name": "python3"
  },
  "language_info": {
   "codemirror_mode": {
    "name": "ipython",
    "version": 3
   },
   "file_extension": ".py",
   "mimetype": "text/x-python",
   "name": "python",
   "nbconvert_exporter": "python",
   "pygments_lexer": "ipython3",
   "version": "3.10.13"
  }
 },
 "nbformat": 4,
 "nbformat_minor": 2
}
