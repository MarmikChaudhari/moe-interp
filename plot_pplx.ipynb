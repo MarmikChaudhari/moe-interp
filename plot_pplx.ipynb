{
 "cells": [
  {
   "cell_type": "code",
   "execution_count": 6,
   "metadata": {},
   "outputs": [],
   "source": [
    "import os\n",
    "import pandas as pd\n",
    "import plotly.graph_objects as go\n",
    "\n",
    "def plot_normalized_perplexity(data_folder):\n",
    "    \"\"\"\n",
    "    Plot normalized perplexity for multiple datasets where each top-k value is in a separate file.\n",
    "    Features:\n",
    "    - Square plot with clear spacing\n",
    "    - Legend on the right side\n",
    "    - More vibrant colors for better visibility\n",
    "    - White outlines on markers\n",
    "    \"\"\"\n",
    "    # Define more vibrant colors for better visibility\n",
    "    vibrant_colors = {\n",
    "        'aime-math': '#FF5252',       # bright red\n",
    "        'arxiv': '#4CAF50',           # bright green\n",
    "        'arxiv-title-abs': '#2196F3', # bright blue\n",
    "        'chinese': '#FFD600',         # bright yellow\n",
    "        'english': '#FF9800',         # bright orange\n",
    "        'french-qa': '#9C27B0',       # bright purple\n",
    "        'github': '#00BFA5',          # bright teal\n",
    "        'gsm8k': '#F06292',           # bright pink\n",
    "    }\n",
    "    \n",
    "    # Get list of all datasets\n",
    "    datasets = set()\n",
    "    for file in os.listdir(data_folder):\n",
    "        if file.endswith('.csv'):\n",
    "            dataset_name = file.split('_perplexity_')[0]\n",
    "            datasets.add(dataset_name)\n",
    "    \n",
    "    # Create figure\n",
    "    fig = go.Figure()\n",
    "    \n",
    "    # Process each dataset\n",
    "    for dataset in sorted(datasets):\n",
    "        # Data structure to store perplexity values\n",
    "        top_k_values = []\n",
    "        perplexity_values = []\n",
    "        \n",
    "        # Read files for this dataset (top1 through top6)\n",
    "        for k in range(1, 7):\n",
    "            filename = f\"{dataset}_perplexity_top{k}.csv\"\n",
    "            filepath = os.path.join(data_folder, filename)\n",
    "            \n",
    "            if os.path.exists(filepath):\n",
    "                try:\n",
    "                    df = pd.read_csv(filepath)\n",
    "                    \n",
    "                    # Find perplexity column\n",
    "                    perp_col = None\n",
    "                    for col in df.columns:\n",
    "                        if 'perplexity' in col.lower():\n",
    "                            perp_col = col\n",
    "                            break\n",
    "                    \n",
    "                    if perp_col:\n",
    "                        # Get mean perplexity\n",
    "                        mean_perp = df[perp_col].mean()\n",
    "                        \n",
    "                        top_k_values.append(k)\n",
    "                        perplexity_values.append(mean_perp)\n",
    "                except Exception as e:\n",
    "                    print(f\"Error reading {filepath}: {e}\")\n",
    "        \n",
    "        # Only process datasets with data\n",
    "        if perplexity_values:\n",
    "            # Normalize to 0-1 range\n",
    "            min_perp = min(perplexity_values)\n",
    "            max_perp = max(perplexity_values)\n",
    "            \n",
    "            if max_perp > min_perp:\n",
    "                normalized_perplexity = [(p - min_perp) / (max_perp - min_perp) for p in perplexity_values]\n",
    "            else:\n",
    "                normalized_perplexity = [0] * len(perplexity_values)\n",
    "            \n",
    "            # Get color for this dataset\n",
    "            color = vibrant_colors.get(dataset, '#757575')\n",
    "            \n",
    "            # Add to plot\n",
    "            fig.add_trace(go.Scatter(\n",
    "                x=top_k_values,\n",
    "                y=normalized_perplexity,\n",
    "                mode='lines+markers',\n",
    "                name=dataset,\n",
    "                line=dict(color=color, width=2.5),\n",
    "                marker=dict(\n",
    "                    color=color, \n",
    "                    size=8,\n",
    "                    symbol='circle',\n",
    "                    line=dict(\n",
    "                        color='white',\n",
    "                        width=2\n",
    "                    )\n",
    "                )\n",
    "            ))\n",
    "    \n",
    "    # Update layout - make it square with proper axes and spacing\n",
    "    fig.update_layout(\n",
    "        title={\n",
    "            'text': 'Normalized Log Perplexity vs Top K',\n",
    "            'x': 0.5,\n",
    "            'xanchor': 'center'\n",
    "        },\n",
    "        xaxis=dict(\n",
    "            title='Top K',\n",
    "            tickmode='array',\n",
    "            tickvals=list(range(1, 7)),\n",
    "            range=[0.5, 6.5],\n",
    "            gridcolor='lightgray',\n",
    "            showgrid=True,\n",
    "            zeroline=False\n",
    "        ),\n",
    "        yaxis=dict(\n",
    "            title='Normalized Log Perplexity',\n",
    "            range=[-0.05, 1.05],  # Added padding\n",
    "            gridcolor='lightgray',\n",
    "            showgrid=True,\n",
    "            zeroline=False\n",
    "        ),\n",
    "        # Make plot square with extra space\n",
    "        width=700,\n",
    "        height=700,\n",
    "        plot_bgcolor='white',\n",
    "        paper_bgcolor='white',\n",
    "        \n",
    "        # Move legend to right side\n",
    "        legend=dict(\n",
    "            x=1.02,\n",
    "            y=0.5,\n",
    "            xanchor='left',\n",
    "            yanchor='middle',\n",
    "            bordercolor='lightgray',\n",
    "            borderwidth=1\n",
    "        ),\n",
    "        \n",
    "        # Add margin for better spacing\n",
    "        margin=dict(l=60, r=120, t=60, b=60)\n",
    "    )\n",
    "    \n",
    "    return fig\n",
    "\n",
    "# Usage example:\n",
    "# fig = plot_normalized_perplexity('pplx-csv')\n",
    "# fig.show()  # Display the plot\n",
    "# fig.write_image('perplexity_plot.png')  # Save as image"
   ]
  },
  {
   "cell_type": "code",
   "execution_count": 13,
   "metadata": {},
   "outputs": [],
   "source": [
    "import os\n",
    "import pandas as pd\n",
    "import plotly.graph_objects as go\n",
    "\n",
    "def plot_normalized_perplexity(data_folder, output_file=None):\n",
    "    \"\"\"\n",
    "    Calculate mean perplexity across multiple datasets, normalize to 0-1 range, and plot.\n",
    "    \n",
    "    Parameters:\n",
    "    -----------\n",
    "    data_folder : str\n",
    "        Path to folder containing perplexity CSV files\n",
    "    output_file : str, optional\n",
    "        Path to save the output plot, if None, the plot is displayed\n",
    "    \"\"\"\n",
    "    # Define vibrant colors for better visibility\n",
    "    vibrant_colors = {\n",
    "        'aime-math': '#FF5252',       # bright red\n",
    "        'arxiv': '#4CAF50',           # bright green\n",
    "        'arxiv-title-abs': '#2196F3', # bright blue\n",
    "        'chinese': '#FFD600',         # bright yellow\n",
    "        'english': '#FF9800',         # bright orange\n",
    "        'french-qa': '#9C27B0',       # bright purple\n",
    "        'github': '#00BFA5',          # bright teal\n",
    "        'gsm8k': '#F06292',           # bright pink\n",
    "    }\n",
    "    \n",
    "    # Create Plotly figure\n",
    "    fig = go.Figure()\n",
    "    \n",
    "    # Get all datasets and their top-k values\n",
    "    datasets = {}\n",
    "    \n",
    "    # Get list of files in the directory\n",
    "    files = os.listdir(data_folder)\n",
    "    print(f\"Found {len(files)} files in directory\")\n",
    "    \n",
    "    # Extract dataset name and top-k value from filenames\n",
    "    for file in files:\n",
    "        if '_perplexity_top' in file and file.endswith('.csv'):\n",
    "            prefix = file.split('_perplexity_top')[0]\n",
    "            top_k_str = file.split('_perplexity_top')[1].split('.')[0]\n",
    "            \n",
    "            try:\n",
    "                top_k = int(top_k_str)\n",
    "                \n",
    "                if prefix not in datasets:\n",
    "                    datasets[prefix] = {}\n",
    "                \n",
    "                # Read the CSV file\n",
    "                file_path = os.path.join(data_folder, file)\n",
    "                df = pd.read_csv(file_path)\n",
    "                \n",
    "                # Find the perplexity column (could be 'log_perplexity', 'perplexity', etc.)\n",
    "                perp_col = None\n",
    "                for col in df.columns:\n",
    "                    if 'perplexity' in col.lower():\n",
    "                        perp_col = col\n",
    "                        break\n",
    "                \n",
    "                if perp_col:\n",
    "                    # Calculate mean log perplexity\n",
    "                    mean_perplexity = df[perp_col].mean()\n",
    "                    datasets[prefix][top_k] = mean_perplexity\n",
    "                    print(f\"Dataset {prefix}, Top-{top_k}: Mean {perp_col} = {mean_perplexity}\")\n",
    "            except Exception as e:\n",
    "                print(f\"Error processing {file}: {e}\")\n",
    "    \n",
    "    print(f\"Found {len(datasets)} datasets\")\n",
    "    \n",
    "    # Normalize and plot each dataset\n",
    "    for prefix, values in sorted(datasets.items()):\n",
    "        if len(values) > 0:  # Ensure we have data for this dataset\n",
    "            top_k_values = sorted(values.keys())\n",
    "            perplexity_values = [values[k] for k in top_k_values]\n",
    "            \n",
    "            # Normalize to 0-1 range\n",
    "            min_perp = min(perplexity_values)\n",
    "            max_perp = max(perplexity_values)\n",
    "            if max_perp > min_perp:  # Avoid division by zero\n",
    "                normalized_perplexity = [(x - min_perp) / (max_perp - min_perp) for x in perplexity_values]\n",
    "            else:\n",
    "                normalized_perplexity = [0 for _ in perplexity_values]\n",
    "            \n",
    "            # Get color, or use a default if not defined\n",
    "            color = vibrant_colors.get(prefix, '#757575')  # Default to medium gray\n",
    "            \n",
    "            print(f\"Plotting {prefix} with x={top_k_values}, y={normalized_perplexity}\")\n",
    "            \n",
    "            # Add trace to plot\n",
    "            fig.add_trace(go.Scatter(\n",
    "                x=top_k_values,\n",
    "                y=normalized_perplexity,\n",
    "                mode='lines+markers',\n",
    "                name=prefix,\n",
    "                line=dict(color=color, width=3.5),\n",
    "                marker=dict(\n",
    "                    color=color, \n",
    "                    size=8,\n",
    "                    symbol='circle',\n",
    "                    line=dict(\n",
    "                        color='white',\n",
    "                        width=2\n",
    "                    )\n",
    "                )\n",
    "            ))\n",
    "    \n",
    "    # Update layout\n",
    "    fig.update_layout(\n",
    "        title={\n",
    "            'text': 'Normalized Log Perplexity vs Top K',\n",
    "            'x': 0.5,\n",
    "            'xanchor': 'center',\n",
    "            'font': {'family': 'Times New Roman'}\n",
    "        },\n",
    "        xaxis=dict(\n",
    "            title='Top K',\n",
    "            tickmode='array',\n",
    "            tickvals=list(range(1, 7)),\n",
    "            range=[0.5, 6.5],\n",
    "            gridcolor='lightgray',\n",
    "            showgrid=True,\n",
    "            zeroline=False,\n",
    "            titlefont={'family': 'Times New Roman'},\n",
    "            tickfont={'family': 'Times New Roman'}\n",
    "        ),\n",
    "        yaxis=dict(\n",
    "            title='Normalized Log Perplexity',\n",
    "            range=[-0.05, 1.05],\n",
    "            gridcolor='lightgray',\n",
    "            showgrid=True,\n",
    "            zeroline=False,\n",
    "            titlefont={'family': 'Times New Roman'},\n",
    "            tickfont={'family': 'Times New Roman'}\n",
    "        ),\n",
    "        # Make plot area square while allowing overall figure to be wider\n",
    "        width=900,  # Increased width to accommodate legend\n",
    "        height=700,  # Keep height the same\n",
    "        plot_bgcolor='white',\n",
    "        paper_bgcolor='white',\n",
    "        legend=dict(\n",
    "            x=1.02,\n",
    "            y=0.5,\n",
    "            xanchor='left',\n",
    "            yanchor='middle',\n",
    "            bordercolor='lightgray',\n",
    "            borderwidth=1,\n",
    "            font={'family': 'Times New Roman'}\n",
    "        ),\n",
    "        margin=dict(l=60, r=120, t=60, b=60)\n",
    "    )\n",
    "    \n",
    "    # Show or save the plot\n",
    "    if output_file:\n",
    "        fig.write_image(output_file)\n",
    "    else:\n",
    "        fig.show()\n",
    "    \n",
    "    return fig\n",
    "\n",
    "# Example usage:\n",
    "# fig = plot_normalized_perplexity('pplx-csv')"
   ]
  },
  {
   "cell_type": "code",
   "execution_count": 14,
   "metadata": {},
   "outputs": [
    {
     "name": "stdout",
     "output_type": "stream",
     "text": [
      "Found 46 files in directory\n",
      "Dataset gsm8k, Top-3: Mean perplexity = 5.60752153754458\n",
      "Dataset english, Top-6: Mean perplexity = 3.349964508076304\n",
      "Dataset gsm8k, Top-2: Mean perplexity = 6.0031008823280265\n",
      "Dataset english, Top-4: Mean perplexity = 3.3909041119604995\n",
      "Dataset english, Top-5: Mean perplexity = 3.362496385869292\n",
      "Dataset gsm8k, Top-1: Mean perplexity = 7.674630131998832\n",
      "Dataset english, Top-1: Mean perplexity = 4.646167125898538\n",
      "Dataset gsm8k, Top-4: Mean perplexity = 5.4906668501991716\n",
      "Dataset english, Top-2: Mean perplexity = 3.661294664304281\n",
      "Dataset english, Top-3: Mean perplexity = 3.4624180842920675\n",
      "Dataset arxiv-title-abs, Top-3: Mean perplexity = 14.356538934707642\n",
      "Dataset french-qa, Top-6: Mean perplexity = 5.998863987922668\n",
      "Dataset github, Top-6: Mean perplexity = 58.362832218408585\n",
      "Dataset arxiv-title-abs, Top-2: Mean perplexity = 15.852977024555207\n",
      "Dataset github, Top-4: Mean perplexity = 62.94342365860939\n",
      "Dataset french-qa, Top-5: Mean perplexity = 6.030495074135916\n",
      "Dataset french-qa, Top-4: Mean perplexity = 6.118931864329747\n",
      "Dataset github, Top-5: Mean perplexity = 60.432569141189255\n",
      "Dataset arxiv-title-abs, Top-1: Mean perplexity = 22.97118475818634\n",
      "Dataset arxiv-title-abs, Top-5: Mean perplexity = 13.779753871440887\n",
      "Dataset github, Top-1: Mean perplexity = 148.57301475356022\n",
      "Dataset french-qa, Top-1: Mean perplexity = 13.189667256219046\n",
      "Dataset arxiv-title-abs, Top-4: Mean perplexity = 13.941158968925476\n",
      "Dataset arxiv-title-abs, Top-6: Mean perplexity = 13.705686301231385\n",
      "Dataset french-qa, Top-3: Mean perplexity = 6.315162109647479\n",
      "Dataset github, Top-2: Mean perplexity = 85.06509241461754\n",
      "Dataset github, Top-3: Mean perplexity = 69.48371441910665\n",
      "Dataset french-qa, Top-2: Mean perplexity = 7.019799139840262\n",
      "Dataset aime-math, Top-5: Mean perplexity = 5.381102730246151\n",
      "Dataset chinese, Top-4: Mean perplexity = 10.895092246749185\n",
      "Dataset arxiv, Top-5: Mean perplexity = 84.26029448760183\n",
      "Dataset arxiv, Top-4: Mean perplexity = 85.02244510148701\n",
      "Dataset chinese, Top-5: Mean perplexity = 10.65530899437991\n",
      "Dataset aime-math, Top-4: Mean perplexity = 5.44454324576944\n",
      "Dataset aime-math, Top-6: Mean perplexity = 5.356252273136282\n",
      "Dataset arxiv, Top-6: Mean perplexity = 84.85331944415444\n",
      "Dataset chinese, Top-6: Mean perplexity = 10.58779547214508\n",
      "Dataset aime-math, Top-3: Mean perplexity = 5.604524061131605\n",
      "Dataset chinese, Top-2: Mean perplexity = 12.439511294798418\n",
      "Dataset arxiv, Top-3: Mean perplexity = 86.82081029289647\n",
      "Dataset arxiv, Top-2: Mean perplexity = 91.26651292098195\n",
      "Dataset chinese, Top-3: Mean perplexity = 11.367137091810052\n",
      "Dataset aime-math, Top-2: Mean perplexity = 6.265392593521486\n",
      "Dataset chinese, Top-1: Mean perplexity = 17.9173857125369\n",
      "Dataset arxiv, Top-1: Mean perplexity = 117.70208855679161\n",
      "Dataset aime-math, Top-1: Mean perplexity = 9.239927871342012\n",
      "Found 8 datasets\n",
      "Plotting aime-math with x=[1, 2, 3, 4, 5, 6], y=[1.0, 0.23409275501929905, 0.06392701494172827, 0.02273386908884678, 0.006398695380569344, 0.0]\n",
      "Plotting arxiv with x=[1, 2, 3, 4, 5, 6], y=[1.0, 0.20950486145822592, 0.07656634090853599, 0.02279036263151201, 0.0, 0.017733048511861096]\n",
      "Plotting arxiv-title-abs with x=[1, 2, 3, 4, 5, 6], y=[1.0, 0.23175123640671513, 0.07024475115936236, 0.02541392336181752, 0.007993911018775775, 0.0]\n",
      "Plotting chinese with x=[1, 2, 3, 4, 5, 6], y=[1.0, 0.25263565382535635, 0.10632812941850225, 0.041925505318245085, 0.009211090936949903, 0.0]\n",
      "Plotting english with x=[1, 2, 3, 4, 5, 6], y=[1.0, 0.240186335027657, 0.0867561711954402, 0.03158426261549951, 0.009668147263922877, 0.0]\n",
      "Plotting french-qa with x=[1, 2, 3, 4, 5, 6], y=[1.0, 0.14197790063577562, 0.04398647966345306, 0.016697421960693574, 0.004398825142763501, 0.0]\n",
      "Plotting github with x=[1, 2, 3, 4, 5, 6], y=[1.0, 0.2960005117582381, 0.12327746035060574, 0.05077687808043084, 0.022943495563532076, 0.0]\n",
      "Plotting gsm8k with x=[1, 2, 3, 4], y=[1.0, 0.2346349118592286, 0.05350579303197621, 0.0]\n"
     ]
    },
    {
     "data": {
      "application/vnd.plotly.v1+json": {
       "config": {
        "plotlyServerURL": "https://plot.ly"
       },
       "data": [
        {
         "line": {
          "color": "#FF5252",
          "width": 3.5
         },
         "marker": {
          "color": "#FF5252",
          "line": {
           "color": "white",
           "width": 2
          },
          "size": 8,
          "symbol": "circle"
         },
         "mode": "lines+markers",
         "name": "aime-math",
         "type": "scatter",
         "x": [
          1,
          2,
          3,
          4,
          5,
          6
         ],
         "y": [
          1,
          0.23409275501929905,
          0.06392701494172827,
          0.02273386908884678,
          0.006398695380569344,
          0
         ]
        },
        {
         "line": {
          "color": "#4CAF50",
          "width": 3.5
         },
         "marker": {
          "color": "#4CAF50",
          "line": {
           "color": "white",
           "width": 2
          },
          "size": 8,
          "symbol": "circle"
         },
         "mode": "lines+markers",
         "name": "arxiv",
         "type": "scatter",
         "x": [
          1,
          2,
          3,
          4,
          5,
          6
         ],
         "y": [
          1,
          0.20950486145822592,
          0.07656634090853599,
          0.02279036263151201,
          0,
          0.017733048511861096
         ]
        },
        {
         "line": {
          "color": "#2196F3",
          "width": 3.5
         },
         "marker": {
          "color": "#2196F3",
          "line": {
           "color": "white",
           "width": 2
          },
          "size": 8,
          "symbol": "circle"
         },
         "mode": "lines+markers",
         "name": "arxiv-title-abs",
         "type": "scatter",
         "x": [
          1,
          2,
          3,
          4,
          5,
          6
         ],
         "y": [
          1,
          0.23175123640671513,
          0.07024475115936236,
          0.02541392336181752,
          0.007993911018775775,
          0
         ]
        },
        {
         "line": {
          "color": "#FFD600",
          "width": 3.5
         },
         "marker": {
          "color": "#FFD600",
          "line": {
           "color": "white",
           "width": 2
          },
          "size": 8,
          "symbol": "circle"
         },
         "mode": "lines+markers",
         "name": "chinese",
         "type": "scatter",
         "x": [
          1,
          2,
          3,
          4,
          5,
          6
         ],
         "y": [
          1,
          0.25263565382535635,
          0.10632812941850225,
          0.041925505318245085,
          0.009211090936949903,
          0
         ]
        },
        {
         "line": {
          "color": "#FF9800",
          "width": 3.5
         },
         "marker": {
          "color": "#FF9800",
          "line": {
           "color": "white",
           "width": 2
          },
          "size": 8,
          "symbol": "circle"
         },
         "mode": "lines+markers",
         "name": "english",
         "type": "scatter",
         "x": [
          1,
          2,
          3,
          4,
          5,
          6
         ],
         "y": [
          1,
          0.240186335027657,
          0.0867561711954402,
          0.03158426261549951,
          0.009668147263922877,
          0
         ]
        },
        {
         "line": {
          "color": "#9C27B0",
          "width": 3.5
         },
         "marker": {
          "color": "#9C27B0",
          "line": {
           "color": "white",
           "width": 2
          },
          "size": 8,
          "symbol": "circle"
         },
         "mode": "lines+markers",
         "name": "french-qa",
         "type": "scatter",
         "x": [
          1,
          2,
          3,
          4,
          5,
          6
         ],
         "y": [
          1,
          0.14197790063577562,
          0.04398647966345306,
          0.016697421960693574,
          0.004398825142763501,
          0
         ]
        },
        {
         "line": {
          "color": "#00BFA5",
          "width": 3.5
         },
         "marker": {
          "color": "#00BFA5",
          "line": {
           "color": "white",
           "width": 2
          },
          "size": 8,
          "symbol": "circle"
         },
         "mode": "lines+markers",
         "name": "github",
         "type": "scatter",
         "x": [
          1,
          2,
          3,
          4,
          5,
          6
         ],
         "y": [
          1,
          0.2960005117582381,
          0.12327746035060574,
          0.05077687808043084,
          0.022943495563532076,
          0
         ]
        },
        {
         "line": {
          "color": "#F06292",
          "width": 3.5
         },
         "marker": {
          "color": "#F06292",
          "line": {
           "color": "white",
           "width": 2
          },
          "size": 8,
          "symbol": "circle"
         },
         "mode": "lines+markers",
         "name": "gsm8k",
         "type": "scatter",
         "x": [
          1,
          2,
          3,
          4
         ],
         "y": [
          1,
          0.2346349118592286,
          0.05350579303197621,
          0
         ]
        }
       ],
       "layout": {
        "height": 700,
        "legend": {
         "bordercolor": "lightgray",
         "borderwidth": 1,
         "font": {
          "family": "Times New Roman"
         },
         "x": 1.02,
         "xanchor": "left",
         "y": 0.5,
         "yanchor": "middle"
        },
        "margin": {
         "b": 60,
         "l": 60,
         "r": 120,
         "t": 60
        },
        "paper_bgcolor": "white",
        "plot_bgcolor": "white",
        "template": {
         "data": {
          "bar": [
           {
            "error_x": {
             "color": "#2a3f5f"
            },
            "error_y": {
             "color": "#2a3f5f"
            },
            "marker": {
             "line": {
              "color": "#E5ECF6",
              "width": 0.5
             },
             "pattern": {
              "fillmode": "overlay",
              "size": 10,
              "solidity": 0.2
             }
            },
            "type": "bar"
           }
          ],
          "barpolar": [
           {
            "marker": {
             "line": {
              "color": "#E5ECF6",
              "width": 0.5
             },
             "pattern": {
              "fillmode": "overlay",
              "size": 10,
              "solidity": 0.2
             }
            },
            "type": "barpolar"
           }
          ],
          "carpet": [
           {
            "aaxis": {
             "endlinecolor": "#2a3f5f",
             "gridcolor": "white",
             "linecolor": "white",
             "minorgridcolor": "white",
             "startlinecolor": "#2a3f5f"
            },
            "baxis": {
             "endlinecolor": "#2a3f5f",
             "gridcolor": "white",
             "linecolor": "white",
             "minorgridcolor": "white",
             "startlinecolor": "#2a3f5f"
            },
            "type": "carpet"
           }
          ],
          "choropleth": [
           {
            "colorbar": {
             "outlinewidth": 0,
             "ticks": ""
            },
            "type": "choropleth"
           }
          ],
          "contour": [
           {
            "colorbar": {
             "outlinewidth": 0,
             "ticks": ""
            },
            "colorscale": [
             [
              0,
              "#0d0887"
             ],
             [
              0.1111111111111111,
              "#46039f"
             ],
             [
              0.2222222222222222,
              "#7201a8"
             ],
             [
              0.3333333333333333,
              "#9c179e"
             ],
             [
              0.4444444444444444,
              "#bd3786"
             ],
             [
              0.5555555555555556,
              "#d8576b"
             ],
             [
              0.6666666666666666,
              "#ed7953"
             ],
             [
              0.7777777777777778,
              "#fb9f3a"
             ],
             [
              0.8888888888888888,
              "#fdca26"
             ],
             [
              1,
              "#f0f921"
             ]
            ],
            "type": "contour"
           }
          ],
          "contourcarpet": [
           {
            "colorbar": {
             "outlinewidth": 0,
             "ticks": ""
            },
            "type": "contourcarpet"
           }
          ],
          "heatmap": [
           {
            "colorbar": {
             "outlinewidth": 0,
             "ticks": ""
            },
            "colorscale": [
             [
              0,
              "#0d0887"
             ],
             [
              0.1111111111111111,
              "#46039f"
             ],
             [
              0.2222222222222222,
              "#7201a8"
             ],
             [
              0.3333333333333333,
              "#9c179e"
             ],
             [
              0.4444444444444444,
              "#bd3786"
             ],
             [
              0.5555555555555556,
              "#d8576b"
             ],
             [
              0.6666666666666666,
              "#ed7953"
             ],
             [
              0.7777777777777778,
              "#fb9f3a"
             ],
             [
              0.8888888888888888,
              "#fdca26"
             ],
             [
              1,
              "#f0f921"
             ]
            ],
            "type": "heatmap"
           }
          ],
          "heatmapgl": [
           {
            "colorbar": {
             "outlinewidth": 0,
             "ticks": ""
            },
            "colorscale": [
             [
              0,
              "#0d0887"
             ],
             [
              0.1111111111111111,
              "#46039f"
             ],
             [
              0.2222222222222222,
              "#7201a8"
             ],
             [
              0.3333333333333333,
              "#9c179e"
             ],
             [
              0.4444444444444444,
              "#bd3786"
             ],
             [
              0.5555555555555556,
              "#d8576b"
             ],
             [
              0.6666666666666666,
              "#ed7953"
             ],
             [
              0.7777777777777778,
              "#fb9f3a"
             ],
             [
              0.8888888888888888,
              "#fdca26"
             ],
             [
              1,
              "#f0f921"
             ]
            ],
            "type": "heatmapgl"
           }
          ],
          "histogram": [
           {
            "marker": {
             "pattern": {
              "fillmode": "overlay",
              "size": 10,
              "solidity": 0.2
             }
            },
            "type": "histogram"
           }
          ],
          "histogram2d": [
           {
            "colorbar": {
             "outlinewidth": 0,
             "ticks": ""
            },
            "colorscale": [
             [
              0,
              "#0d0887"
             ],
             [
              0.1111111111111111,
              "#46039f"
             ],
             [
              0.2222222222222222,
              "#7201a8"
             ],
             [
              0.3333333333333333,
              "#9c179e"
             ],
             [
              0.4444444444444444,
              "#bd3786"
             ],
             [
              0.5555555555555556,
              "#d8576b"
             ],
             [
              0.6666666666666666,
              "#ed7953"
             ],
             [
              0.7777777777777778,
              "#fb9f3a"
             ],
             [
              0.8888888888888888,
              "#fdca26"
             ],
             [
              1,
              "#f0f921"
             ]
            ],
            "type": "histogram2d"
           }
          ],
          "histogram2dcontour": [
           {
            "colorbar": {
             "outlinewidth": 0,
             "ticks": ""
            },
            "colorscale": [
             [
              0,
              "#0d0887"
             ],
             [
              0.1111111111111111,
              "#46039f"
             ],
             [
              0.2222222222222222,
              "#7201a8"
             ],
             [
              0.3333333333333333,
              "#9c179e"
             ],
             [
              0.4444444444444444,
              "#bd3786"
             ],
             [
              0.5555555555555556,
              "#d8576b"
             ],
             [
              0.6666666666666666,
              "#ed7953"
             ],
             [
              0.7777777777777778,
              "#fb9f3a"
             ],
             [
              0.8888888888888888,
              "#fdca26"
             ],
             [
              1,
              "#f0f921"
             ]
            ],
            "type": "histogram2dcontour"
           }
          ],
          "mesh3d": [
           {
            "colorbar": {
             "outlinewidth": 0,
             "ticks": ""
            },
            "type": "mesh3d"
           }
          ],
          "parcoords": [
           {
            "line": {
             "colorbar": {
              "outlinewidth": 0,
              "ticks": ""
             }
            },
            "type": "parcoords"
           }
          ],
          "pie": [
           {
            "automargin": true,
            "type": "pie"
           }
          ],
          "scatter": [
           {
            "fillpattern": {
             "fillmode": "overlay",
             "size": 10,
             "solidity": 0.2
            },
            "type": "scatter"
           }
          ],
          "scatter3d": [
           {
            "line": {
             "colorbar": {
              "outlinewidth": 0,
              "ticks": ""
             }
            },
            "marker": {
             "colorbar": {
              "outlinewidth": 0,
              "ticks": ""
             }
            },
            "type": "scatter3d"
           }
          ],
          "scattercarpet": [
           {
            "marker": {
             "colorbar": {
              "outlinewidth": 0,
              "ticks": ""
             }
            },
            "type": "scattercarpet"
           }
          ],
          "scattergeo": [
           {
            "marker": {
             "colorbar": {
              "outlinewidth": 0,
              "ticks": ""
             }
            },
            "type": "scattergeo"
           }
          ],
          "scattergl": [
           {
            "marker": {
             "colorbar": {
              "outlinewidth": 0,
              "ticks": ""
             }
            },
            "type": "scattergl"
           }
          ],
          "scattermapbox": [
           {
            "marker": {
             "colorbar": {
              "outlinewidth": 0,
              "ticks": ""
             }
            },
            "type": "scattermapbox"
           }
          ],
          "scatterpolar": [
           {
            "marker": {
             "colorbar": {
              "outlinewidth": 0,
              "ticks": ""
             }
            },
            "type": "scatterpolar"
           }
          ],
          "scatterpolargl": [
           {
            "marker": {
             "colorbar": {
              "outlinewidth": 0,
              "ticks": ""
             }
            },
            "type": "scatterpolargl"
           }
          ],
          "scatterternary": [
           {
            "marker": {
             "colorbar": {
              "outlinewidth": 0,
              "ticks": ""
             }
            },
            "type": "scatterternary"
           }
          ],
          "surface": [
           {
            "colorbar": {
             "outlinewidth": 0,
             "ticks": ""
            },
            "colorscale": [
             [
              0,
              "#0d0887"
             ],
             [
              0.1111111111111111,
              "#46039f"
             ],
             [
              0.2222222222222222,
              "#7201a8"
             ],
             [
              0.3333333333333333,
              "#9c179e"
             ],
             [
              0.4444444444444444,
              "#bd3786"
             ],
             [
              0.5555555555555556,
              "#d8576b"
             ],
             [
              0.6666666666666666,
              "#ed7953"
             ],
             [
              0.7777777777777778,
              "#fb9f3a"
             ],
             [
              0.8888888888888888,
              "#fdca26"
             ],
             [
              1,
              "#f0f921"
             ]
            ],
            "type": "surface"
           }
          ],
          "table": [
           {
            "cells": {
             "fill": {
              "color": "#EBF0F8"
             },
             "line": {
              "color": "white"
             }
            },
            "header": {
             "fill": {
              "color": "#C8D4E3"
             },
             "line": {
              "color": "white"
             }
            },
            "type": "table"
           }
          ]
         },
         "layout": {
          "annotationdefaults": {
           "arrowcolor": "#2a3f5f",
           "arrowhead": 0,
           "arrowwidth": 1
          },
          "autotypenumbers": "strict",
          "coloraxis": {
           "colorbar": {
            "outlinewidth": 0,
            "ticks": ""
           }
          },
          "colorscale": {
           "diverging": [
            [
             0,
             "#8e0152"
            ],
            [
             0.1,
             "#c51b7d"
            ],
            [
             0.2,
             "#de77ae"
            ],
            [
             0.3,
             "#f1b6da"
            ],
            [
             0.4,
             "#fde0ef"
            ],
            [
             0.5,
             "#f7f7f7"
            ],
            [
             0.6,
             "#e6f5d0"
            ],
            [
             0.7,
             "#b8e186"
            ],
            [
             0.8,
             "#7fbc41"
            ],
            [
             0.9,
             "#4d9221"
            ],
            [
             1,
             "#276419"
            ]
           ],
           "sequential": [
            [
             0,
             "#0d0887"
            ],
            [
             0.1111111111111111,
             "#46039f"
            ],
            [
             0.2222222222222222,
             "#7201a8"
            ],
            [
             0.3333333333333333,
             "#9c179e"
            ],
            [
             0.4444444444444444,
             "#bd3786"
            ],
            [
             0.5555555555555556,
             "#d8576b"
            ],
            [
             0.6666666666666666,
             "#ed7953"
            ],
            [
             0.7777777777777778,
             "#fb9f3a"
            ],
            [
             0.8888888888888888,
             "#fdca26"
            ],
            [
             1,
             "#f0f921"
            ]
           ],
           "sequentialminus": [
            [
             0,
             "#0d0887"
            ],
            [
             0.1111111111111111,
             "#46039f"
            ],
            [
             0.2222222222222222,
             "#7201a8"
            ],
            [
             0.3333333333333333,
             "#9c179e"
            ],
            [
             0.4444444444444444,
             "#bd3786"
            ],
            [
             0.5555555555555556,
             "#d8576b"
            ],
            [
             0.6666666666666666,
             "#ed7953"
            ],
            [
             0.7777777777777778,
             "#fb9f3a"
            ],
            [
             0.8888888888888888,
             "#fdca26"
            ],
            [
             1,
             "#f0f921"
            ]
           ]
          },
          "colorway": [
           "#636efa",
           "#EF553B",
           "#00cc96",
           "#ab63fa",
           "#FFA15A",
           "#19d3f3",
           "#FF6692",
           "#B6E880",
           "#FF97FF",
           "#FECB52"
          ],
          "font": {
           "color": "#2a3f5f"
          },
          "geo": {
           "bgcolor": "white",
           "lakecolor": "white",
           "landcolor": "#E5ECF6",
           "showlakes": true,
           "showland": true,
           "subunitcolor": "white"
          },
          "hoverlabel": {
           "align": "left"
          },
          "hovermode": "closest",
          "mapbox": {
           "style": "light"
          },
          "paper_bgcolor": "white",
          "plot_bgcolor": "#E5ECF6",
          "polar": {
           "angularaxis": {
            "gridcolor": "white",
            "linecolor": "white",
            "ticks": ""
           },
           "bgcolor": "#E5ECF6",
           "radialaxis": {
            "gridcolor": "white",
            "linecolor": "white",
            "ticks": ""
           }
          },
          "scene": {
           "xaxis": {
            "backgroundcolor": "#E5ECF6",
            "gridcolor": "white",
            "gridwidth": 2,
            "linecolor": "white",
            "showbackground": true,
            "ticks": "",
            "zerolinecolor": "white"
           },
           "yaxis": {
            "backgroundcolor": "#E5ECF6",
            "gridcolor": "white",
            "gridwidth": 2,
            "linecolor": "white",
            "showbackground": true,
            "ticks": "",
            "zerolinecolor": "white"
           },
           "zaxis": {
            "backgroundcolor": "#E5ECF6",
            "gridcolor": "white",
            "gridwidth": 2,
            "linecolor": "white",
            "showbackground": true,
            "ticks": "",
            "zerolinecolor": "white"
           }
          },
          "shapedefaults": {
           "line": {
            "color": "#2a3f5f"
           }
          },
          "ternary": {
           "aaxis": {
            "gridcolor": "white",
            "linecolor": "white",
            "ticks": ""
           },
           "baxis": {
            "gridcolor": "white",
            "linecolor": "white",
            "ticks": ""
           },
           "bgcolor": "#E5ECF6",
           "caxis": {
            "gridcolor": "white",
            "linecolor": "white",
            "ticks": ""
           }
          },
          "title": {
           "x": 0.05
          },
          "xaxis": {
           "automargin": true,
           "gridcolor": "white",
           "linecolor": "white",
           "ticks": "",
           "title": {
            "standoff": 15
           },
           "zerolinecolor": "white",
           "zerolinewidth": 2
          },
          "yaxis": {
           "automargin": true,
           "gridcolor": "white",
           "linecolor": "white",
           "ticks": "",
           "title": {
            "standoff": 15
           },
           "zerolinecolor": "white",
           "zerolinewidth": 2
          }
         }
        },
        "title": {
         "font": {
          "family": "Times New Roman"
         },
         "text": "Normalized Log Perplexity vs Top K",
         "x": 0.5,
         "xanchor": "center"
        },
        "width": 900,
        "xaxis": {
         "gridcolor": "lightgray",
         "range": [
          0.5,
          6.5
         ],
         "showgrid": true,
         "tickfont": {
          "family": "Times New Roman"
         },
         "tickmode": "array",
         "tickvals": [
          1,
          2,
          3,
          4,
          5,
          6
         ],
         "title": {
          "font": {
           "family": "Times New Roman"
          },
          "text": "Top K"
         },
         "zeroline": false
        },
        "yaxis": {
         "gridcolor": "lightgray",
         "range": [
          -0.05,
          1.05
         ],
         "showgrid": true,
         "tickfont": {
          "family": "Times New Roman"
         },
         "title": {
          "font": {
           "family": "Times New Roman"
          },
          "text": "Normalized Log Perplexity"
         },
         "zeroline": false
        }
       }
      }
     },
     "metadata": {},
     "output_type": "display_data"
    }
   ],
   "source": [
    "fig = plot_normalized_perplexity('pplx-csv')"
   ]
  },
  {
   "cell_type": "code",
   "execution_count": null,
   "metadata": {},
   "outputs": [],
   "source": []
  }
 ],
 "metadata": {
  "kernelspec": {
   "display_name": "Python 3",
   "language": "python",
   "name": "python3"
  },
  "language_info": {
   "codemirror_mode": {
    "name": "ipython",
    "version": 3
   },
   "file_extension": ".py",
   "mimetype": "text/x-python",
   "name": "python",
   "nbconvert_exporter": "python",
   "pygments_lexer": "ipython3",
   "version": "3.10.16"
  }
 },
 "nbformat": 4,
 "nbformat_minor": 2
}
