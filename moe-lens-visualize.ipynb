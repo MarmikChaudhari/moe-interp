{
 "cells": [
  {
   "cell_type": "code",
   "execution_count": 1,
   "metadata": {},
   "outputs": [],
   "source": [
    "from transformers import AutoModelForCausalLM, AutoTokenizer\n",
    "import torch\n",
    "import plotly.express as px\n",
    "import plotly.graph_objects as go\n",
    "import numpy as np\n",
    "import os\n",
    "from typing import Dict, List, Tuple\n",
    "from collections import defaultdict"
   ]
  },
  {
   "cell_type": "code",
   "execution_count": null,
   "metadata": {},
   "outputs": [],
   "source": [
    "def load_model(model_name):\n",
    "    model = AutoModelForCausalLM.from_pretrained(\n",
    "        model_name,\n",
    "        torch_dtype=torch.float16,\n",
    "        trust_remote_code=True,\n",
    "        # use_flash_attention_2=True,\n",
    "    )\n",
    "    tokenizer = AutoTokenizer.from_pretrained(model_name)\n",
    "    return model, tokenizer\n",
    "\n",
    "model, tokenizer = load_model(\"deepseek-ai/deepseek-moe-16b-base\")"
   ]
  },
  {
   "cell_type": "code",
   "execution_count": 3,
   "metadata": {},
   "outputs": [],
   "source": [
    "def get_top_k_tokens(hidden_states: torch.Tensor, lm_head: torch.nn.Linear, tokenizer, k: int = 5) -> List[Tuple[str, float]]:\n",
    "    \"\"\" get topk tokens from hidden states using lm head \"\"\"\n",
    "    with torch.no_grad():\n",
    "        # Ensure hidden_states has at least 2 dimensions (batch_size, num_tokens, hidden_dim)\n",
    "        if hidden_states.dim() == 2:\n",
    "            hidden_states = hidden_states.unsqueeze(0)  # Add batch dimension\n",
    "        logits = lm_head(hidden_states)  # (batch_size, num_tokens, vocab_size)\n",
    "    \n",
    "    # Get top-k tokens\n",
    "    scores, token_ids = torch.topk(logits, k=k, dim=-1)  # (batch_size, num_tokens, k)\n",
    "    \n",
    "    # Decode tokens and collect results for each position\n",
    "    results = []\n",
    "    for pos in range(scores.size(1)):  # Iterate over token positions\n",
    "        pos_results = []\n",
    "        for i in range(k):\n",
    "            token = tokenizer.decode(token_ids[0, pos, i])  # Decode token for this position\n",
    "            score = scores[0, pos, i].item()  # Get score for this position\n",
    "            pos_results.append((token, score))\n",
    "        results.append(pos_results)\n",
    "    \n",
    "    return results"
   ]
  },
  {
   "cell_type": "code",
   "execution_count": 4,
   "metadata": {},
   "outputs": [],
   "source": [
    "class DeepseekLayerAnalyzer:\n",
    "    def __init__(self, model, tokenizer):\n",
    "        self.model = model\n",
    "        self.tokenizer = tokenizer\n",
    "        self.layer_outputs = defaultdict(list)\n",
    "        self.moe_gate_outputs = defaultdict(list)\n",
    "        self.moe_combined_outputs = defaultdict(list)\n",
    "        self.expert_outputs = defaultdict(lambda: defaultdict(list))\n",
    "        self.shared_expert_outputs = defaultdict(list)\n",
    "        self.hooks = []\n",
    "        \n",
    "    def register_hooks(self):\n",
    "        \"\"\"Register hooks for layer outputs and MoE combination points\"\"\"\n",
    "        \n",
    "        def layer_output_hook(layer_idx):\n",
    "            def hook(module, inputs, outputs):\n",
    "                \"\"\"Hook for capturing layer outputs\"\"\"\n",
    "                hidden_states = outputs[0] if isinstance(outputs, tuple) else outputs\n",
    "                self.layer_outputs[layer_idx].append(hidden_states.detach())\n",
    "            return hook\n",
    "\n",
    "        def moe_gate_hook(layer_idx):\n",
    "            def hook(module, inputs, outputs):\n",
    "                \"\"\"Hook for capturing MoE gate outputs before expert computation\"\"\"\n",
    "                # Capture topk_idx, topk_weight, and aux_loss from gate outputs\n",
    "                if isinstance(outputs, tuple):\n",
    "                    topk_idx, topk_weight, aux_loss = outputs\n",
    "                    self.moe_gate_outputs[layer_idx].append({\n",
    "                        'topk_idx': topk_idx.detach(),\n",
    "                        'topk_weight': topk_weight.detach(),\n",
    "                        'aux_loss': aux_loss.detach() if aux_loss is not None else None\n",
    "                    })\n",
    "            return hook\n",
    "\n",
    "        def expert_hook(layer_idx, expert_idx):\n",
    "            def hook(module, inputs, outputs):\n",
    "                \"\"\"Hook for capturing expert outputs\"\"\"\n",
    "                # Get the latest gate outputs for this layer\n",
    "                if not self.moe_gate_outputs[layer_idx]:\n",
    "                    return print(f'no gate outputs for layer {layer_idx}')\n",
    "            \n",
    "                gate_data = self.moe_gate_outputs[layer_idx][-1]\n",
    "                \n",
    "                # Handle 2D or 3D tensor shapes\n",
    "                if len(gate_data['topk_idx'].shape) == 2:\n",
    "                    batch_size = 1\n",
    "                    seq_len, top_k = gate_data['topk_idx'].shape\n",
    "                else:\n",
    "                    batch_size, seq_len, top_k = gate_data['topk_idx'].shape\n",
    "                \n",
    "                # Get mask for tokens where this expert was selected\n",
    "                expert_mask = (gate_data['topk_idx'] == expert_idx)                \n",
    "                # Flatten and find positions where this expert was selected\n",
    "                selected_positions = torch.nonzero(expert_mask, as_tuple=True)\n",
    "                # If no tokens selected this expert, skip\n",
    "                if selected_positions[0].numel() == 0:\n",
    "                    return\n",
    "                    \n",
    "                # Get the actual inputs routed to this expert\n",
    "                # Inputs[0] shape: (total_selected_tokens, hidden_dim)\n",
    "                total_selected = inputs[0].shape[0] \n",
    "                # Validate we're processing the correct number of tokens\n",
    "                expected_selected = expert_mask.sum().item()\n",
    "                if total_selected != expected_selected:\n",
    "                    print(f\" expert {expert_idx} processed {total_selected} tokens but expected {expected_selected}\")\n",
    "                    return\n",
    "                    \n",
    "                # Get the full hidden states from outputs\n",
    "                # outputs shape: (total_selected_tokens, hidden_dim)\n",
    "                hidden_states = outputs\n",
    "                if isinstance(outputs, tuple):\n",
    "                    hidden_states = outputs[0]\n",
    "                    \n",
    "                # Record data for each selected position\n",
    "                for pos_idx, pos in enumerate(selected_positions[0]):\n",
    "                    token_data = {\n",
    "                        'position': pos.item(),\n",
    "                        'input': inputs[0][pos_idx].detach(),\n",
    "                        'output': outputs[pos_idx].detach(),\n",
    "                        'hidden_state': hidden_states[pos_idx].detach()  # Store full hidden state\n",
    "                    }\n",
    "                    \n",
    "                    # Get the corresponding gate weight for this position\n",
    "                    # Find which expert slot (in top_k) this expert was selected for this position\n",
    "                    expert_slots = (gate_data['topk_idx'][pos.item()] == expert_idx).nonzero(as_tuple=True)[0]\n",
    "                    if len(expert_slots) > 0:\n",
    "                        token_data['gate_weight'] = gate_data['topk_weight'][pos.item()][expert_slots[0]].item()\n",
    "                    \n",
    "                    self.expert_outputs[layer_idx][expert_idx].append(token_data)\n",
    "            return hook\n",
    "        \n",
    "        def shared_expert_hook(layer_idx):\n",
    "            def hook(module, inputs, outputs):\n",
    "                \"\"\"Hook for capturing shared expert outputs\"\"\"\n",
    "                self.shared_expert_outputs[layer_idx].append({\n",
    "                    'input': inputs[0].detach(),\n",
    "                    'output': outputs.detach()\n",
    "                })\n",
    "            return hook\n",
    "\n",
    "        def moe_combine_hook(layer_idx):\n",
    "            def hook(module, inputs, outputs):\n",
    "                \"\"\"Hook for capturing final combined MoE outputs\"\"\"\n",
    "                # For DeepseekMoE, this captures the weighted sum of expert outputs\n",
    "                self.moe_combined_outputs[layer_idx].append({\n",
    "                    'combined_output': outputs.detach(),\n",
    "                    'input': inputs[0].detach()  # Original input before MoE\n",
    "                })\n",
    "            return hook\n",
    "\n",
    "        # Register hooks for each layer\n",
    "        for layer_idx, layer in enumerate(self.model.model.layers):\n",
    "            # Hook for layer output\n",
    "            hook = layer.register_forward_hook(layer_output_hook(layer_idx))\n",
    "            self.hooks.append(hook)\n",
    "            \n",
    "            # If it's an MoE layer, add MoE-specific hooks\n",
    "            if hasattr(layer.mlp, 'experts'):\n",
    "                # Hook for gate mechanism\n",
    "                gate_hook = layer.mlp.gate.register_forward_hook(moe_gate_hook(layer_idx))\n",
    "                self.hooks.append(gate_hook)\n",
    "                \n",
    "                # Hook for each expert\n",
    "                for expert_idx, expert in enumerate(layer.mlp.experts):\n",
    "                    expert_hook_fn = expert.register_forward_hook(expert_hook(layer_idx, expert_idx))\n",
    "                    self.hooks.append(expert_hook_fn)\n",
    "\n",
    "                # Hook for shared expert if it exists\n",
    "                if hasattr(layer.mlp, 'shared_experts'):\n",
    "                    shared_hook = layer.mlp.shared_experts.register_forward_hook(shared_expert_hook(layer_idx))\n",
    "                    self.hooks.append(shared_hook)\n",
    "                \n",
    "                # Hook for final combined output\n",
    "                combine_hook = layer.mlp.register_forward_hook(moe_combine_hook(layer_idx))\n",
    "                self.hooks.append(combine_hook)\n",
    "\n",
    "    def analyze_tokens(self, input_ids: torch.Tensor, return_hidden_states: bool = False) -> Dict:\n",
    "        \"\"\" run inference and analyze tokens at each layer and expert combination point \"\"\"\n",
    "\n",
    "        self.moe_combined_outputs.clear()\n",
    "        self.expert_outputs.clear()\n",
    "        self.shared_expert_outputs.clear()\n",
    "        \n",
    "        # Forward pass\n",
    "        with torch.no_grad():\n",
    "            outputs = self.model(input_ids)\n",
    "        \n",
    "        results = {\n",
    "            'layer_predictions': {},\n",
    "            'moe_analysis': {},\n",
    "            'hidden_states': {} if return_hidden_states else None\n",
    "        }\n",
    "        \n",
    "        # Analyze layer outputs\n",
    "        for layer_idx, outputs in self.layer_outputs.items():\n",
    "            if not outputs:  # Skip if no outputs captured\n",
    "                continue\n",
    "            hidden_states = outputs[-1]  # Get last captured output\n",
    "            \n",
    "            # Get token predictions for this layer\n",
    "            top_tokens = get_top_k_tokens(hidden_states, self.model.lm_head, self.tokenizer)\n",
    "            results['layer_predictions'][layer_idx] = top_tokens\n",
    "            \n",
    "            if return_hidden_states:\n",
    "                results['hidden_states'][f'layer_{layer_idx}'] = hidden_states\n",
    "        \n",
    "        # Analyze MoE layers\n",
    "        for layer_idx in self.moe_gate_outputs.keys():\n",
    "            if not self.moe_gate_outputs[layer_idx]:\n",
    "                continue\n",
    "                \n",
    "            gate_data = self.moe_gate_outputs[layer_idx][-1]  # Get last captured data\n",
    "            combined_data = self.moe_combined_outputs[layer_idx][-1]\n",
    "            \n",
    "            # Initialize predictions dictionary by position\n",
    "            expert_predictions_by_pos = defaultdict(dict)\n",
    "            expert_hidden_states_by_pos = defaultdict(dict)\n",
    "            \n",
    "            # Process expert outputs by position\n",
    "            for expert_idx, data_list in self.expert_outputs[layer_idx].items():\n",
    "                for data in data_list:\n",
    "                    position = data['position']\n",
    "                    # Get predictions for this expert's output at this position\n",
    "                    predictions = get_top_k_tokens(\n",
    "                        data['output'].unsqueeze(0),\n",
    "                        self.model.lm_head,\n",
    "                        self.tokenizer\n",
    "                    )\n",
    "                    expert_predictions_by_pos[position][expert_idx] = predictions[0]  # [0] because we only have one prediction set\n",
    "\n",
    "                    # Store hidden states\n",
    "                    expert_hidden_states_by_pos[position][expert_idx] = {\n",
    "                    'hidden_state': data['hidden_state'].tolist(),\n",
    "                    'gate_weight': data.get('gate_weight', None)\n",
    "                }\n",
    "            \n",
    "            # Get predictions for shared expert if it exists\n",
    "            if self.shared_expert_outputs[layer_idx]:\n",
    "                shared_expert_predictions = get_top_k_tokens(\n",
    "                    self.shared_expert_outputs[layer_idx][-1]['output'],\n",
    "                    self.model.lm_head,\n",
    "                    self.tokenizer\n",
    "                )\n",
    "            \n",
    "            # Update experts_analysis dictionary to include hidden states\n",
    "            experts_analysis = {\n",
    "            'selected_experts': gate_data['topk_idx'].tolist(),\n",
    "            'expert_weights': gate_data['topk_weight'].tolist(),\n",
    "            'aux_loss': gate_data['aux_loss'].item() if gate_data['aux_loss'] is not None else None,\n",
    "            'expert_predictions_by_position': dict(expert_predictions_by_pos),\n",
    "            'expert_hidden_states_by_position': dict(expert_hidden_states_by_pos),\n",
    "            'shared_expert_predictions': shared_expert_predictions if self.shared_expert_outputs[layer_idx] else None\n",
    "        }\n",
    "            \n",
    "            # Get token predictions from combined output\n",
    "            combined_tokens = get_top_k_tokens(\n",
    "                combined_data['combined_output'], \n",
    "                self.model.lm_head,\n",
    "                self.tokenizer\n",
    "            )\n",
    "            \n",
    "            experts_analysis['combined_output_tokens'] = combined_tokens\n",
    "            results['moe_analysis'][layer_idx] = experts_analysis\n",
    "\n",
    "        return results\n",
    "    \n",
    "    def cleanup(self):\n",
    "        \"\"\"remove all registered hooks\"\"\"\n",
    "        for hook in self.hooks:\n",
    "            hook.remove()\n",
    "        self.hooks.clear()\n",
    "\n",
    "def analyze_deepseek_moe(model, tokenizer, input_text: str, return_hidden_states: bool = False):\n",
    "    \"\"\" analyze DeepSeek MoE model behavior for given input text \"\"\"\n",
    "    analyzer = DeepseekLayerAnalyzer(model, tokenizer)\n",
    "    analyzer.register_hooks()\n",
    "    \n",
    "    input_ids = tokenizer(input_text, return_tensors=\"pt\").input_ids\n",
    "    \n",
    "    try:\n",
    "        results = analyzer.analyze_tokens(input_ids, return_hidden_states=return_hidden_states)\n",
    "        return results\n",
    "    finally:\n",
    "        analyzer.cleanup()  "
   ]
  },
  {
   "cell_type": "code",
   "execution_count": 5,
   "metadata": {},
   "outputs": [],
   "source": [
    "prompt = \"translate the following text to french: That's life! = C'est la\"\n",
    "analysis = analyze_deepseek_moe(\n",
    "    model, \n",
    "    tokenizer,\n",
    "    input_text=prompt\n",
    ")"
   ]
  },
  {
   "cell_type": "code",
   "execution_count": 6,
   "metadata": {},
   "outputs": [],
   "source": [
    "# layer_idx = 1  # example layer\n",
    "# token_pos = 4\n",
    "# expert_idx = 3\n",
    "# hidden_state_list = analysis['moe_analysis'][layer_idx]['expert_hidden_states_by_position'][token_pos][expert_idx]['hidden_state']\n",
    "# print(f'hidden_state_list : {len(hidden_state_list)}')\n"
   ]
  },
  {
   "cell_type": "code",
   "execution_count": 7,
   "metadata": {},
   "outputs": [],
   "source": [
    "def get_post_attn_ln_inputs(model, tokenizer, text):\n",
    "    \"\"\"places a hook on the post attention layernorm to retrieve its inputs\"\"\"\n",
    "    # Store inputs in a dict mapping layer idx -> inputs\n",
    "    post_attn_ln_inputs = {}\n",
    "    hooks = []\n",
    "    \n",
    "    def hook_post_attn_ln(module, input, output, layer_idx):\n",
    "        if layer_idx not in post_attn_ln_inputs:\n",
    "            post_attn_ln_inputs[layer_idx] = []\n",
    "        post_attn_ln_inputs[layer_idx].append([x.detach() for x in input])\n",
    "    \n",
    "    # Register hooks on post attention layernorm for each layer\n",
    "    for i, layer in enumerate(model.model.layers):\n",
    "        hooks.append(\n",
    "            layer.post_attention_layernorm.register_forward_hook(\n",
    "                lambda m, i, o, idx=i: hook_post_attn_ln(m, i, o, idx)\n",
    "            )\n",
    "        )\n",
    "    \n",
    "    try:\n",
    "        # Run inference\n",
    "        input_ids = tokenizer(text, return_tensors=\"pt\").input_ids\n",
    "        model(input_ids)\n",
    "        \n",
    "        return post_attn_ln_inputs\n",
    "        \n",
    "    finally:\n",
    "        # Clean up hooks\n",
    "        for hook in hooks:\n",
    "            hook.remove()"
   ]
  },
  {
   "cell_type": "code",
   "execution_count": 8,
   "metadata": {},
   "outputs": [],
   "source": [
    "post_attn_ln_inputs = get_post_attn_ln_inputs(model, tokenizer, text=prompt)"
   ]
  },
  {
   "cell_type": "code",
   "execution_count": 9,
   "metadata": {},
   "outputs": [],
   "source": [
    "def verify_moe_equation(model, tokenizer, layer_idx, text=\"the quick brown fox\", tolerance=1e-5):\n",
    "    \"\"\"\n",
    "    Verifies that MoE activations add up correctly:\n",
    "    final_layer_output = residual_stream_hidden_states_before_experts + moe_output\n",
    "    \"\"\"\n",
    "    analyzer = DeepseekLayerAnalyzer(model, tokenizer)\n",
    "    analyzer.register_hooks()\n",
    "    \n",
    "    input_ids = tokenizer(text, return_tensors=\"pt\").input_ids\n",
    "    try:\n",
    "        # Run the analysis to populate data structures\n",
    "        analyzer.analyze_tokens(input_ids)\n",
    "        # Get moe outputs and residual\n",
    "        if layer_idx not in analyzer.moe_combined_outputs or not analyzer.moe_combined_outputs[layer_idx]:\n",
    "            print(\"No combined output data found\")\n",
    "            return False\n",
    "\n",
    "        residual = post_attn_ln_inputs[layer_idx][-1][0][0]\n",
    "        print(f\"Residual shape: {residual.shape}\")\n",
    "        \n",
    "        # Get the combined MoE output directly from the hook\n",
    "        moe_output = analyzer.moe_combined_outputs[layer_idx][-1]['combined_output'][0]\n",
    "        print(f\"MoE output shape: {moe_output.shape}\")\n",
    "\n",
    "        # Get the final layer output\n",
    "        final_layer_output = analyzer.layer_outputs[layer_idx][-1][0]\n",
    "        print(f\"Final layer output shape: {final_layer_output.shape}\")\n",
    "        \n",
    "        # Full equation: final_output = residual + moe_output\n",
    "        lhs = residual + moe_output\n",
    "        print(f\"lhs shape: {lhs.shape}\")\n",
    "        print(f'lhs {lhs}')\n",
    "        rhs = final_layer_output\n",
    "        print(f\"rhs shape: {rhs.shape}\")\n",
    "        print(f'rhs {rhs}')\n",
    "        # Check if close\n",
    "        is_close = torch.allclose(lhs, rhs, rtol=tolerance, atol=tolerance)\n",
    "        print(f'is_close {is_close}')\n",
    "        if not is_close:\n",
    "            max_diff = (lhs - rhs).abs().max().item()\n",
    "            print(f\"Maximum difference: {max_diff:.6f}\")\n",
    "            print(\"\\nDetailed component analysis:\")\n",
    "            print(f\"Residual max value: {residual.abs().max().item():.6f}\")\n",
    "            print(f\"MoE output max value: {moe_output.abs().max().item():.6f}\")\n",
    "            print(f\"Final output max value: {final_layer_output.abs().max().item():.6f}\")\n",
    "            \n",
    "        return is_close\n",
    "        \n",
    "    finally:\n",
    "        analyzer.cleanup()"
   ]
  },
  {
   "cell_type": "code",
   "execution_count": 10,
   "metadata": {},
   "outputs": [],
   "source": [
    "# # Verify equation for a specific layer\n",
    "# is_valid = verify_moe_equation(model, tokenizer, layer_idx=26, )\n",
    "# print(f\"MoE equation holds: {is_valid}\")"
   ]
  },
  {
   "cell_type": "code",
   "execution_count": null,
   "metadata": {},
   "outputs": [],
   "source": [
    "# Access layer predictions\n",
    "for layer_idx, preds in analysis['layer_predictions'].items():\n",
    "    print(f\"Layer {layer_idx} predictions:\", preds)\n",
    "\n",
    "# Access MoE analysis\n",
    "for layer_idx, moe_data in analysis['moe_analysis'].items():\n",
    "    print(f\"\\nMoE Layer {layer_idx}:\")\n",
    "    print(\"Selected experts:\", moe_data['selected_experts'])\n",
    "    print(\"Expert weights:\", moe_data['expert_weights'])\n",
    "    print(\"Combined output tokens:\", moe_data['combined_output_tokens'])\n",
    "    print(\"Expert predictions by position:\", moe_data['expert_predictions_by_position'])\n",
    "    print(\"Shared expert predictions:\", moe_data['shared_expert_predictions'])"
   ]
  },
  {
   "cell_type": "code",
   "execution_count": 12,
   "metadata": {},
   "outputs": [],
   "source": [
    "def get_layer_predictions_for_token(results: dict, layer_idx: int, token_pos: int) -> list:\n",
    "    # Ensure the layer exists in the results\n",
    "    if layer_idx not in results['layer_predictions']:\n",
    "        raise ValueError(f\"Layer {layer_idx} not found in the results.\")\n",
    "\n",
    "    # Get the layer predictions for the specified token position\n",
    "    layer_predictions = results['layer_predictions'][layer_idx][token_pos]\n",
    "    \n",
    "    # Return top 5 predictions\n",
    "    return layer_predictions[:5]\n",
    "\n",
    "def get_shared_expert_predictions_for_token(results: dict, layer_idx: int, token_pos: int) -> list:\n",
    "    # Ensure the layer exists in the results\n",
    "    if layer_idx not in results['moe_analysis']:\n",
    "        raise ValueError(f\"Layer {layer_idx} not found in the results.\")\n",
    "\n",
    "    # Get the MoE analysis for the specified layer\n",
    "    moe_analysis = results['moe_analysis'][layer_idx]\n",
    "\n",
    "    # Get the shared expert predictions for the specified token position\n",
    "    shared_predictions = moe_analysis['shared_expert_predictions'][token_pos]\n",
    "    \n",
    "    # Return top 5 predictions\n",
    "    return shared_predictions[:5]\n",
    "\n",
    "def get_expert_preds(results: dict, layer_idx: int, token_pos: int) -> list:\n",
    "    # Ensure the layer exists in the results\n",
    "    if layer_idx not in results['moe_analysis']:\n",
    "        raise ValueError(f\"Layer {layer_idx} not found in the MoE analysis results.\")\n",
    "        \n",
    "    # Get the MoE analysis for the specified layer\n",
    "    expert_preds = []\n",
    "    moe_analysis = results['moe_analysis'][layer_idx]\n",
    "    expert_predictions = moe_analysis['expert_predictions_by_position']\n",
    "    expert_toks = expert_predictions[token_pos]\n",
    "\n",
    "    for expert_idx, preds in expert_toks.items():\n",
    "        print(f'expert {expert_idx} : {preds}')\n",
    "        expert_preds.append((int(expert_idx), preds))\n",
    "\n",
    "    expert_preds = sorted(expert_preds, key=lambda x: x[0])\n",
    "        \n",
    "    return expert_preds"
   ]
  },
  {
   "cell_type": "code",
   "execution_count": 13,
   "metadata": {},
   "outputs": [],
   "source": [
    "def get_highest_pred(results: dict, model, tokenizer, layer_idx: int, token_pos: int, k: int = 5) -> list:\n",
    "    \"\"\"gets predictions from expert with highest weight after adding residual \"\"\"\n",
    "    # Ensure layer exists in results\n",
    "    if layer_idx not in results['moe_analysis']:\n",
    "        raise ValueError(f\"Layer {layer_idx} not found in the MoE analysis results.\")\n",
    "        \n",
    "    # Get MoE analysis for the layer\n",
    "    moe_analysis = results['moe_analysis'][layer_idx]\n",
    "    \n",
    "    # Get expert weights for this token\n",
    "    expert_weights = {}\n",
    "    selected_experts = moe_analysis['selected_experts'][token_pos]\n",
    "    expert_weights_list = moe_analysis['expert_weights'][token_pos]\n",
    "    \n",
    "    if isinstance(selected_experts, int):\n",
    "        # Handle case where only one expert is selected\n",
    "        expert_weights[selected_experts] = 1.0\n",
    "    else:\n",
    "        # Handle case where multiple experts are selected with weights\n",
    "        for expert_idx, weight in zip(selected_experts, expert_weights_list):\n",
    "            expert_weights[expert_idx] = weight\n",
    "                \n",
    "    # Find expert with highest weight\n",
    "    # max_weight_expert = max(expert_weights.items(), key=lambda x: x[1])[0]\n",
    "    max_weight_expert = sorted(expert_weights.items(), key=lambda x: x[1], reverse=True)[k][0]\n",
    "    print(f'max_weight_expert {max_weight_expert}')\n",
    "    \n",
    "    # Get hidden state from this expert\n",
    "    expert_hidden_state = moe_analysis['expert_hidden_states_by_position'][token_pos][max_weight_expert]['hidden_state']\n",
    "    \n",
    "    # Get residual stream\n",
    "    residual = post_attn_ln_inputs[layer_idx][-1][0][0][token_pos]\n",
    "    \n",
    "    # Convert expert hidden state to tensor if it's a list\n",
    "    if isinstance(expert_hidden_state, list):\n",
    "        expert_hidden_state = torch.tensor(expert_hidden_state, dtype=torch.float16)\n",
    "    \n",
    "    # Add residual to expert hidden state\n",
    "    combined = residual + expert_hidden_state\n",
    "    \n",
    "    # Get logits\n",
    "    logits = model.lm_head(combined.unsqueeze(0))\n",
    "    \n",
    "    # Get top 5 predictions\n",
    "    topk = torch.topk(logits[0], k=5)\n",
    "    scores = topk.values.tolist()\n",
    "    tokens = topk.indices.tolist()\n",
    "    \n",
    "    # Convert to token strings\n",
    "    predictions = []\n",
    "    for score, token in zip(scores, tokens):\n",
    "        token_str = tokenizer.decode(token)\n",
    "        predictions.append((token_str, score))\n",
    "        \n",
    "    return predictions"
   ]
  },
  {
   "cell_type": "code",
   "execution_count": null,
   "metadata": {},
   "outputs": [],
   "source": [
    "layer_idx = 22\n",
    "token_pos = 17\n",
    "k = 1 # which max expert to use\n",
    "get_highest_pred(analysis, model, tokenizer, layer_idx=layer_idx, token_pos=token_pos, k=k)"
   ]
  },
  {
   "cell_type": "code",
   "execution_count": null,
   "metadata": {},
   "outputs": [],
   "source": [
    "layer_idx = 25\n",
    "token_pos = 2\n",
    "layer_preds = get_layer_predictions_for_token(analysis, layer_idx=layer_idx, token_pos=token_pos)\n",
    "shared_preds = get_shared_expert_predictions_for_token(analysis, layer_idx=layer_idx, token_pos=token_pos)\n",
    "expert_preds = get_expert_preds(analysis, layer_idx=layer_idx, token_pos=token_pos)\n",
    "\n",
    "print(f'layer_preds : {layer_preds}')\n",
    "print(f'shared_preds : {shared_preds}')\n",
    "print(f'expert_preds : {expert_preds}')"
   ]
  },
  {
   "cell_type": "code",
   "execution_count": 118,
   "metadata": {},
   "outputs": [],
   "source": [
    "def create_logit_lens_viz_dep(analysis_results, token_pos=0):\n",
    "    \"\"\"Creates a heatmap visualization of predictions across model layers.\n",
    "    \n",
    "    Args:\n",
    "        analysis_results: Dictionary containing layer predictions and MoE analysis\n",
    "        token_pos: Token position to analyze (default 0)\n",
    "    \"\"\"\n",
    "    # Initialize data structures\n",
    "    n_layers = max(analysis_results['layer_predictions'].keys()) + 1\n",
    "    x_positions = []\n",
    "    y_positions = []\n",
    "    values = []\n",
    "    hover_texts = []\n",
    "    text_labels = []  # New array for cell labels\n",
    "    \n",
    "    # Process each layer\n",
    "    for layer in range(n_layers):\n",
    "        # Layer predictions\n",
    "        layer_preds = get_layer_predictions_for_token(analysis_results, layer, token_pos)\n",
    "        x_positions.append(2)  # Shifted right by 2 positions\n",
    "        y_positions.append(layer)\n",
    "        values.append(layer_preds[0][1])\n",
    "        hover_text = \"<br>\".join([f\"{pred[0]}: {pred[1]:.3f}\" for pred in layer_preds])\n",
    "        hover_texts.append(f\"Layer {layer} Output:<br>{hover_text}\")\n",
    "        text_labels.append(\"\")  # Empty label for l_out\n",
    "\n",
    "        # Expert predictions if available\n",
    "        if layer in analysis_results['moe_analysis']:\n",
    "            expert_preds = get_expert_preds(analysis_results, layer, token_pos)\n",
    "            moe_data = analysis_results['moe_analysis'][layer]\n",
    "            \n",
    "            # Create expert weight lookup for this layer's position\n",
    "            expert_weights = {}\n",
    "            for pos_idx, experts in enumerate(moe_data['selected_experts']):\n",
    "                if pos_idx == token_pos:\n",
    "                    for expert_idx, weight in zip(experts, moe_data['expert_weights'][pos_idx]):\n",
    "                        expert_weights[expert_idx] = weight\n",
    "            \n",
    "            # Sort experts by weight and take top 6\n",
    "            sorted_experts = sorted(expert_weights.items(), key=lambda x: x[1], reverse=True)[:6]\n",
    "            top_expert_indices = [expert_idx for expert_idx, _ in sorted_experts]\n",
    "            \n",
    "            for i, expert_idx in enumerate(top_expert_indices):\n",
    "                preds = next(p for e, p in expert_preds if e == expert_idx)\n",
    "                x_positions.append(i + 3)  # Start expert positions after l_out\n",
    "                y_positions.append(layer)\n",
    "                values.append(preds[0][1])\n",
    "                text_labels.append(str(expert_idx))  # Add expert number as label\n",
    "                \n",
    "                weight_text = f\"<br>Expert Weight: {expert_weights[expert_idx]:.3f}\"\n",
    "                hover_text = \"<br>\".join([f\"{pred[0]}: {pred[1]:.3f}\" for pred in preds])\n",
    "                hover_texts.append(f\"Layer {layer} Expert {expert_idx}:{weight_text}<br>{hover_text}\")\n",
    "\n",
    "            # Shared expert predictions\n",
    "            shared_preds = get_shared_expert_predictions_for_token(analysis_results, layer, token_pos)\n",
    "            x_positions.append(9)  # Place shared experts at the end\n",
    "            y_positions.append(layer)\n",
    "            values.append(shared_preds[0][1])\n",
    "            hover_text = \"<br>\".join([f\"{pred[0]}: {pred[1]:.3f}\" for pred in shared_preds])\n",
    "            hover_texts.append(f\"Layer {layer} Shared Experts:<br>{hover_text}\")\n",
    "            text_labels.append(\"\")  # Empty label for shared experts\n",
    "\n",
    "    # Create heatmap with touching cells and borders\n",
    "    fig = go.Figure(data=go.Scatter(\n",
    "        x=x_positions,\n",
    "        y=y_positions,\n",
    "        mode='markers+text',\n",
    "        text=text_labels,  # Use the new text labels array\n",
    "        textposition='middle center',  # Center the text in cells\n",
    "        marker=dict(\n",
    "            size=100,\n",
    "            symbol='square',\n",
    "            color=values,\n",
    "            colorscale='Viridis',\n",
    "            showscale=True,\n",
    "            colorbar=dict(\n",
    "                title='logit value',\n",
    "                x=1.02\n",
    "            ),\n",
    "            line=dict(\n",
    "                color='white',\n",
    "                width=1\n",
    "            )\n",
    "        ),\n",
    "        hovertext=hover_texts,\n",
    "        hoverinfo='text',\n",
    "        textfont=dict(\n",
    "            color='white',\n",
    "            size=14\n",
    "        )\n",
    "    ))\n",
    "\n",
    "    # Update layout with corrected axis positions\n",
    "    fig.update_layout(\n",
    "        title='Expert Contributions and Predictions for Token Position ' + str(token_pos),\n",
    "        xaxis_title='layer output | top 6 experts | shared experts',\n",
    "        yaxis_title='Layer',\n",
    "        xaxis=dict(\n",
    "            ticktext=['l_out'] + [f'expert {i+1}' for i in range(6)] + ['shared'],\n",
    "            tickvals=[2, 3, 4, 5, 6, 7, 8, 9],  # Adjusted to match new positions\n",
    "            tickangle=45,\n",
    "            showgrid=False,\n",
    "            range=[1.5, 9.5],  # Adjusted range to match new positions\n",
    "            scaleanchor='y',\n",
    "            scaleratio=1\n",
    "        ),\n",
    "        yaxis=dict(\n",
    "            autorange='reversed',\n",
    "            showgrid=False,\n",
    "            range=[n_layers - 0.5, -0.5],\n",
    "            ticktext=[str(i) for i in range(n_layers)],\n",
    "            tickvals=list(range(n_layers))\n",
    "        ),\n",
    "        height=1500,\n",
    "        width=1000,\n",
    "        plot_bgcolor='black',\n",
    "        paper_bgcolor='black',\n",
    "        font=dict(\n",
    "            color='white',\n",
    "            size=14\n",
    "        ),\n",
    "        margin=dict(l=80, r=80, t=100, b=80)\n",
    "    )\n",
    "\n",
    "    return fig"
   ]
  },
  {
   "cell_type": "code",
   "execution_count": 150,
   "metadata": {},
   "outputs": [],
   "source": [
    "def create_logit_lens_viz(analysis_results, token_pos=0, layers_to_plot=[]):\n",
    "    \"\"\"Creates a modern heatmap visualization of predictions across model layers.\n",
    "    \n",
    "    Args:\n",
    "        analysis_results: Analysis results dictionary\n",
    "        token_pos: Position of token to analyze (default: 0)\n",
    "        layers_to_plot: List of layer numbers to plot. If empty, plots all layers (default: [])\n",
    "    \"\"\"\n",
    "    # [Previous initialization code remains the same until the trace creation]\n",
    "    n_layers = max(analysis_results['layer_predictions'].keys()) + 1\n",
    "    data = []\n",
    "    all_values = []\n",
    "    \n",
    "    # Process each layer\n",
    "    for layer in range(n_layers):\n",
    "        # Skip layers not in layers_to_plot if it's not empty\n",
    "        if layers_to_plot and layer not in layers_to_plot:\n",
    "            continue\n",
    "            \n",
    "        row = {\n",
    "            'layer': layer,\n",
    "            'l_out': None,\n",
    "            'expert_1': None,\n",
    "            'expert_2': None,\n",
    "            'expert_3': None,\n",
    "            'expert_4': None,\n",
    "            'expert_5': None,\n",
    "            'expert_6': None,\n",
    "            'shared': None,\n",
    "            'predictions': {\n",
    "                'l_out': [],\n",
    "                'expert_1': [],\n",
    "                'expert_2': [],\n",
    "                'expert_3': [],\n",
    "                'expert_4': [],\n",
    "                'expert_5': [],\n",
    "                'expert_6': [],\n",
    "                'shared': []\n",
    "            },\n",
    "            'expert_ids': {},\n",
    "            'top_tokens': {\n",
    "                'l_out': '',\n",
    "                'expert_1': '',\n",
    "                'expert_2': '',\n",
    "                'expert_3': '',\n",
    "                'expert_4': '',\n",
    "                'expert_5': '',\n",
    "                'expert_6': '',\n",
    "                'shared': ''\n",
    "            }\n",
    "        }\n",
    "        \n",
    "        # Layer predictions\n",
    "        layer_preds = get_layer_predictions_for_token(analysis_results, layer, token_pos)\n",
    "        if layer_preds:\n",
    "            row['l_out'] = layer_preds[0][1]\n",
    "            row['predictions']['l_out'] = layer_preds\n",
    "            row['top_tokens']['l_out'] = layer_preds[0][0]\n",
    "            all_values.append(layer_preds[0][1])\n",
    "        \n",
    "        # Expert predictions\n",
    "        if layer in analysis_results['moe_analysis']:\n",
    "            expert_preds = get_expert_preds(analysis_results, layer, token_pos)\n",
    "            moe_data = analysis_results['moe_analysis'][layer]\n",
    "            \n",
    "            expert_weights = {}\n",
    "            for pos_idx, experts in enumerate(moe_data['selected_experts']):\n",
    "                if pos_idx == token_pos:\n",
    "                    for expert_idx, weight in zip(experts, moe_data['expert_weights'][pos_idx]):\n",
    "                        expert_weights[expert_idx] = weight\n",
    "            \n",
    "            sorted_experts = sorted(expert_weights.items(), key=lambda x: x[1], reverse=True)[:6]\n",
    "            \n",
    "            for i, (expert_idx, _) in enumerate(sorted_experts, 1):\n",
    "                expert_data = next((p for e, p in expert_preds if e == expert_idx), None)\n",
    "                if expert_data:\n",
    "                    expert_key = f'expert_{i}'\n",
    "                    row[expert_key] = expert_data[0][1]\n",
    "                    row['predictions'][expert_key] = expert_data\n",
    "                    row['expert_ids'][expert_key] = expert_idx\n",
    "                    row['top_tokens'][expert_key] = expert_data[0][0]\n",
    "                    all_values.append(expert_data[0][1])\n",
    "            \n",
    "            # Shared expert predictions\n",
    "            shared_preds = get_shared_expert_predictions_for_token(analysis_results, layer, token_pos)\n",
    "            if shared_preds:\n",
    "                row['shared'] = shared_preds[0][1]\n",
    "                row['predictions']['shared'] = shared_preds\n",
    "                row['top_tokens']['shared'] = shared_preds[0][0]\n",
    "                all_values.append(shared_preds[0][1])\n",
    "        \n",
    "        data.append(row)\n",
    "    \n",
    "    valid_values = [v for v in all_values if v is not None]\n",
    "    vmin = min(valid_values) if valid_values else 0\n",
    "    vmax = max(valid_values) if valid_values else 1\n",
    "    \n",
    "    fig = go.Figure()\n",
    "    \n",
    "    columns = ['l_out'] + [f'expert_{i}' for i in range(1, 7)] + ['shared']\n",
    "    x_positions = list(range(len(columns)))\n",
    "    \n",
    "    colorscale = [\n",
    "        [0, 'rgb(68,1,84)'],\n",
    "        [0.25, 'rgb(59,82,139)'],\n",
    "        [0.5, 'rgb(33,144,141)'],\n",
    "        [0.75, 'rgb(93,201,99)'],\n",
    "        [1, 'rgb(253,231,37)']\n",
    "    ]\n",
    "    \n",
    "    # Add background squares\n",
    "    for col, x_pos in zip(columns, x_positions):\n",
    "        values = [row[col] for row in data]\n",
    "        valid_values = [v if v is not None else float('nan') for v in values]\n",
    "        \n",
    "        hover_text = []\n",
    "        for i, row in enumerate(data):\n",
    "            preds = row['predictions'][col]\n",
    "            logit_value = row[col]\n",
    "            if preds:\n",
    "                pred_text = \"<br>\".join([f\"{token}: {score:.3f}\" for token, score in preds])\n",
    "                if col.startswith('expert_'):\n",
    "                    real_id = row['expert_ids'].get(col)\n",
    "                    hover_text.append(f\"Layer {row['layer']} expert {real_id} (logit: {logit_value:.3f}):<br>{pred_text}\")\n",
    "                else:\n",
    "                    hover_text.append(f\"Layer {row['layer']} {col} (logit: {logit_value:.3f}):<br>{pred_text}\")\n",
    "            else:\n",
    "                hover_text.append(f\"Layer {row['layer']} {col}:<br>No data\")\n",
    "\n",
    "        # Add background squares\n",
    "        fig.add_trace(go.Scatter(\n",
    "            x=[x_pos] * len(values),\n",
    "            y=list(range(len(values))),\n",
    "            mode='markers',\n",
    "            marker=dict(\n",
    "                size=50,\n",
    "                symbol='square',\n",
    "                color=valid_values,\n",
    "                colorscale=colorscale,\n",
    "                showscale=True if col == 'l_out' else False,\n",
    "                cmin=vmin,\n",
    "                cmax=vmax,\n",
    "                colorbar=dict(\n",
    "                    title='logit value',\n",
    "                    y=-0.15,  # Position below the plot\n",
    "                    orientation='h',\n",
    "                    titleside='right'\n",
    "                ) if col == 'l_out' else None,\n",
    "                line=dict(\n",
    "                    color='rgba(255,255,255,0.2)',\n",
    "                    width=1\n",
    "                )\n",
    "            ),\n",
    "            hovertext=hover_text,\n",
    "            hoverinfo='text',\n",
    "            showlegend=False\n",
    "        ))\n",
    "        \n",
    "        # Add expert IDs (top left)\n",
    "        text_values = []\n",
    "        text_positions = []\n",
    "        for i, row in enumerate(data):\n",
    "            if row[col] is not None:\n",
    "                if col.startswith('expert_'):\n",
    "                    text_values.append(str(row['expert_ids'].get(col, '')))\n",
    "                    text_positions.append([x_pos - 0.2, i + 0.2])  # Offset for top-left position\n",
    "        \n",
    "        if text_values:\n",
    "            fig.add_trace(go.Scatter(\n",
    "                x=[p[0] for p in text_positions],\n",
    "                y=[p[1] for p in text_positions],\n",
    "                mode='text',\n",
    "                text=text_values,\n",
    "                textposition='middle center',\n",
    "                textfont=dict(\n",
    "                    color='white',\n",
    "                    size=10\n",
    "                ),\n",
    "                hoverinfo='skip',\n",
    "                showlegend=False\n",
    "            ))\n",
    "        \n",
    "        # Add top tokens (center)\n",
    "        text_values = []\n",
    "        text_positions = []\n",
    "        text_colors = []\n",
    "        for i, row in enumerate(data):\n",
    "            if row[col] is not None:\n",
    "                text_values.append(row['top_tokens'][col])\n",
    "                text_positions.append([x_pos, i])\n",
    "                # Calculate normalized value between 0 and 1\n",
    "                normalized_value = (row[col] - vmin) / (vmax - vmin) if vmax != vmin else 0\n",
    "                # Use black text if normalized value is above 0.5 (50%)\n",
    "                text_colors.append('black' if normalized_value > 0.5 else 'white')\n",
    "        \n",
    "        if text_values:\n",
    "            for text, pos, color in zip(text_values, text_positions, text_colors):\n",
    "                fig.add_trace(go.Scatter(\n",
    "                    x=[pos[0]],\n",
    "                    y=[pos[1]],\n",
    "                    mode='text',\n",
    "                    text=[text],\n",
    "                    textposition='middle center',\n",
    "                    textfont=dict(\n",
    "                        color=color,\n",
    "                        size=10\n",
    "                    ),\n",
    "                    hoverinfo='skip',\n",
    "                    showlegend=False\n",
    "                ))\n",
    "    \n",
    "    # Calculate dimensions\n",
    "    cell_size = 50\n",
    "    plot_width = 800\n",
    "    plot_height = cell_size * len(data) * (plot_width / (cell_size * len(columns)))\n",
    "    \n",
    "    # Update layout\n",
    "    fig.update_layout(\n",
    "        title=dict(\n",
    "            text='Expert Contributions and Predictions',\n",
    "            x=0.5,\n",
    "            y=0.98,\n",
    "            xanchor='center',\n",
    "            yanchor='top',\n",
    "            font=dict(size=20, color='white')\n",
    "        ),\n",
    "        xaxis=dict(\n",
    "            ticktext=['l_out'] + [f'expert {i}' for i in range(1, 7)] + ['shared'],\n",
    "            tickvals=x_positions,\n",
    "            tickangle=0,\n",
    "            showgrid=False,\n",
    "            zeroline=False,\n",
    "            title='',\n",
    "            color='white',\n",
    "            range=[-0.5, len(columns) - 0.5],\n",
    "            scaleanchor='y',\n",
    "            scaleratio=1,\n",
    "            constrain='domain'\n",
    "        ),\n",
    "        yaxis=dict(\n",
    "            autorange='reversed',\n",
    "            showgrid=False,\n",
    "            zeroline=False,\n",
    "            title='Layer',\n",
    "            color='white',\n",
    "            range=[-0.5, len(data) - 0.5],\n",
    "            ticktext=[str(row['layer']) for row in data],\n",
    "            tickvals=list(range(len(data))),\n",
    "            constrain='domain'\n",
    "        ),\n",
    "        plot_bgcolor='rgb(17,17,17)',\n",
    "        paper_bgcolor='rgb(17,17,17)',\n",
    "        width=plot_width,\n",
    "        height=plot_height + 100,  # Added extra height for colorbar\n",
    "        margin=dict(l=50, r=50, t=100, b=100),  # Increased bottom margin\n",
    "        hovermode='closest'\n",
    "    )\n",
    "    \n",
    "    # Add subtle grid lines\n",
    "    fig.update_xaxes(showline=True, linewidth=1, linecolor='rgba(255,255,255,0.1)')\n",
    "    fig.update_yaxes(showline=True, linewidth=1, linecolor='rgba(255,255,255,0.1)')\n",
    "    \n",
    "    return fig"
   ]
  },
  {
   "cell_type": "code",
   "execution_count": null,
   "metadata": {},
   "outputs": [],
   "source": []
  },
  {
   "cell_type": "code",
   "execution_count": 154,
   "metadata": {},
   "outputs": [
    {
     "name": "stdout",
     "output_type": "stream",
     "text": [
      "18\n",
      "expert 12 : [('敢', 0.31591796875), ('zul', 0.3125), ('hci', 0.309326171875), ('Mean', 0.306396484375), ('UME', 0.303955078125)]\n",
      "expert 24 : [('копа', 0.201171875), ('opil', 0.2010498046875), ('коп', 0.1888427734375), ('ERE', 0.1820068359375), ('landa', 0.1787109375)]\n",
      "expert 37 : [('ST', 0.0190887451171875), ('0', 0.0180206298828125), ('vol', 0.0175933837890625), (' ST', 0.0174407958984375), ('mo', 0.01617431640625)]\n",
      "expert 44 : [('еди', 0.02728271484375), ('rament', 0.0269775390625), ('ogon', 0.025634765625), ('uff', 0.02532958984375), ('iner', 0.02490234375)]\n",
      "expert 53 : [('uega', 0.0467529296875), ('专', 0.044219970703125), ('dorff', 0.03936767578125), ('td', 0.0386962890625), ('tsd', 0.038543701171875)]\n",
      "expert 57 : [('resos', 0.19189453125), ('ittal', 0.1781005859375), ('geu', 0.17578125), ('pez', 0.1600341796875), ('янов', 0.1590576171875)]\n",
      "expert 2 : [('кулп', 0.1361083984375), ('洪', 0.12890625), ('入市', 0.126708984375), ('orb', 0.125732421875), ('浩', 0.12451171875)]\n",
      "expert 7 : [('��', 0.033203125), ('oin', 0.03167724609375), ('一方', 0.030242919921875), ('wag', 0.029998779296875), ('iture', 0.0282745361328125)]\n",
      "expert 31 : [('ntesis', 0.82177734375), ('nqu', 0.80078125), ('textsuperscript', 0.791015625), ('ъз', 0.751953125), ('пур', 0.751953125)]\n",
      "expert 48 : [('фелд', 0.1495361328125), (' философ', 0.1396484375), ('igon', 0.138916015625), ('rality', 0.1343994140625), ('ограф', 0.13330078125)]\n",
      "expert 61 : [('o', 0.259033203125), ('фон', 0.2325439453125), ('�', 0.2164306640625), ('близ', 0.2149658203125), ('oo', 0.2071533203125)]\n",
      "expert 63 : [('elly', 0.087158203125), ('Германски', 0.08697509765625), ('许', 0.085693359375), (' тени', 0.08331298828125), (' min', 0.08245849609375)]\n",
      "expert 16 : [('GG', 0.11407470703125), ('i', 0.10455322265625), ('/', 0.09991455078125), ('let', 0.099609375), ('iner', 0.099609375)]\n",
      "expert 26 : [('实', 0.052520751953125), ('Ex', 0.051361083984375), ('isb', 0.05096435546875), ('sku', 0.050262451171875), (' Ex', 0.050079345703125)]\n",
      "expert 29 : [('ор', 0.05926513671875), ('estre', 0.057647705078125), ('rido', 0.053497314453125), ('alto', 0.05230712890625), ('obres', 0.052215576171875)]\n",
      "expert 44 : [('��', 0.0838623046875), ('�乐', 0.074462890625), ('xchange', 0.0738525390625), (' експе', 0.07318115234375), ('AIPS', 0.069580078125)]\n",
      "expert 55 : [('ugi', 0.1566162109375), ('ivi', 0.1474609375), ('isel', 0.138427734375), ('asiness', 0.133056640625), ('corresponds', 0.1317138671875)]\n",
      "expert 63 : [('sinh', 0.50439453125), ('itae', 0.452392578125), ('gtr', 0.435791015625), ('rors', 0.43359375), ('bary', 0.425537109375)]\n",
      "expert 1 : [('astro', 0.0792236328125), ('urgy', 0.078125), ('mss', 0.0745849609375), (' техно', 0.07440185546875), ('recurs', 0.07354736328125)]\n",
      "expert 7 : [('thouse', 0.06365966796875), ('land', 0.0621337890625), (' lineas', 0.061981201171875), ('->{', 0.061553955078125), ('гард', 0.060577392578125)]\n",
      "expert 13 : [('реди', 0.11065673828125), ('erals', 0.1025390625), ('ERAL', 0.09588623046875), ('писи', 0.09552001953125), ('вици', 0.09521484375)]\n",
      "expert 28 : [('гани', 0.61474609375), ('mach', 0.54248046875), ('дено', 0.50244140625), (' Rovira', 0.495361328125), ('edn', 0.494873046875)]\n",
      "expert 39 : [('\\xa0part', 0.12548828125), ('快', 0.11407470703125), ('heet', 0.1015625), ('post', 0.09625244140625), ('通道', 0.0948486328125)]\n",
      "expert 44 : [('ationals', 0.09088134765625), ('绣', 0.0897216796875), ('施', 0.08642578125), ('inition', 0.086181640625), (' Еми', 0.0830078125)]\n",
      "expert 30 : [('NonUser', 0.152587890625), ('ExternalTask', 0.1505126953125), ('CALLTYPE', 0.1395263671875), ('Ungrouped', 0.13818359375), ('icolon', 0.1351318359375)]\n",
      "expert 34 : [('ailable', 0.318359375), ('IRE', 0.283203125), (' +/-', 0.2763671875), ('lr', 0.272216796875), (' É', 0.265625)]\n",
      "expert 38 : [('ationals', 0.46484375), ('ngia', 0.42431640625), ('jal', 0.407958984375), ('ophagus', 0.403076171875), ('usep', 0.40283203125)]\n",
      "expert 41 : [('7', 0.0467529296875), ('9', 0.046478271484375), ('0', 0.043670654296875), ('6', 0.041046142578125), ('8', 0.040863037109375)]\n",
      "expert 48 : [('东西', 0.228759765625), ('aciously', 0.2178955078125), ('iards', 0.2174072265625), ('��', 0.20361328125), ('jgl', 0.198974609375)]\n",
      "expert 54 : [('uelen', 0.1641845703125), (' xif', 0.1630859375), ('uento', 0.1627197265625), ('хт', 0.1370849609375), ('eturn', 0.129638671875)]\n",
      "expert 6 : [(' асоциа', 0.34619140625), ('Окръг', 0.345458984375), ('Населени', 0.3359375), ('remos', 0.33251953125), ('LTS', 0.31787109375)]\n",
      "expert 21 : [('abul', 0.437255859375), ('umatic', 0.43701171875), ('дъ', 0.433349609375), ('aris', 0.419921875), ('�', 0.414306640625)]\n",
      "expert 39 : [('etheless', 0.2061767578125), ('ribut', 0.205810546875), ('《大', 0.1903076171875), ('riptor', 0.1871337890625), ('последствие', 0.1717529296875)]\n",
      "expert 50 : [('iceless', 0.4873046875), ('uls', 0.449462890625), (' хода', 0.427734375), ('йна', 0.41943359375), ('ular', 0.4169921875)]\n",
      "expert 56 : [('��', 0.406494140625), ('urats', 0.3662109375), ('pgdp', 0.313232421875), ('tingen', 0.293212890625), ('illos', 0.2919921875)]\n",
      "expert 58 : [('ioses', 0.09521484375), ('стре', 0.09429931640625), ('ERTIES', 0.08868408203125), (' OTP', 0.08795166015625), ('ughtered', 0.085693359375)]\n",
      "expert 3 : [('SION', 0.5712890625), ('agma', 0.56884765625), ('VO', 0.5546875), ('ched', 0.54638671875), ('pta', 0.5419921875)]\n",
      "expert 23 : [('ghed', 0.3349609375), ('ums', 0.31982421875), ('aved', 0.3017578125), (' дотогава', 0.29931640625), (' equilibrium', 0.2919921875)]\n",
      "expert 24 : [('�', 0.1131591796875), ('�', 0.10919189453125), (' estudia', 0.10888671875), ('фт', 0.10809326171875), ('hma', 0.10650634765625)]\n",
      "expert 41 : [('ikan', 0.214111328125), ('�', 0.1915283203125), ('etcher', 0.175537109375), ('矛', 0.172607421875), ('яр', 0.1710205078125)]\n",
      "expert 44 : [('芦', 0.247802734375), ('org', 0.2364501953125), ('砂', 0.22412109375), ('指的是', 0.2222900390625), ('/.', 0.214599609375)]\n",
      "expert 49 : [('egie', 0.451416015625), (' градина', 0.39111328125), ('зика', 0.36767578125), ('pzc', 0.3662109375), ('charged', 0.35986328125)]\n",
      "expert 4 : [('第一种', 0.2130126953125), ('第一款', 0.2061767578125), ('sco', 0.2005615234375), ('estamp', 0.1810302734375), ('firstrow', 0.1785888671875)]\n",
      "expert 7 : [('tings', 0.35205078125), ('分配', 0.345947265625), ('тник', 0.34033203125), ('gences', 0.31494140625), ('бан', 0.314453125)]\n",
      "expert 35 : [('rule', 0.12451171875), ('lun', 0.12054443359375), ('uk', 0.11279296875), ('пов', 0.1102294921875), ('iena', 0.10888671875)]\n",
      "expert 54 : [('iltr', 0.103759765625), ('Habitants', 0.0799560546875), (' h', 0.0799560546875), (' Planner', 0.07611083984375), ('ios', 0.07464599609375)]\n",
      "expert 58 : [('3', 0.48291015625), ('5', 0.47607421875), ('7', 0.467041015625), ('2', 0.46435546875), ('8', 0.461669921875)]\n",
      "expert 63 : [('_', 0.349853515625), (' contents', 0.324462890625), ('plusplus', 0.318359375), ('Z', 0.3076171875), ('гри', 0.29931640625)]\n",
      "expert 1 : [('unfinished', 0.39794921875), ('��', 0.373046875), (' certes', 0.369873046875), ('шат', 0.36962890625), ('ossible', 0.36181640625)]\n",
      "expert 7 : [('topNav', 0.2103271484375), ('enedor', 0.20654296875), ('avity', 0.2052001953125), ('viure', 0.2025146484375), (' опреде', 0.19384765625)]\n",
      "expert 34 : [('рав', 0.126953125), ('mt', 0.12225341796875), ('identity', 0.11785888671875), ('2', 0.11572265625), ('5', 0.11517333984375)]\n",
      "expert 43 : [('abis', 0.1658935546875), ('坑', 0.1573486328125), ('textstyle', 0.15478515625), ('acios', 0.153564453125), ('�', 0.1488037109375)]\n",
      "expert 57 : [('happen', 0.31005859375), ('ouville', 0.274169921875), ('houn', 0.269775390625), ('anes', 0.25634765625), ('rowave', 0.25048828125)]\n",
      "expert 63 : [('ravings', 1.80859375), ('rawling', 1.791015625), ('ituds', 1.732421875), ('erenced', 1.703125), ('ample', 1.662109375)]\n",
      "expert 8 : [('FTA', 0.316650390625), ('чета', 0.29150390625), ('datum', 0.29150390625), ('жава', 0.2783203125), (' пор', 0.275390625)]\n",
      "expert 19 : [('Protos', 0.04412841796875), ('оте', 0.0438232421875), ('otron', 0.043304443359375), ('凭', 0.041748046875), ('opot', 0.04168701171875)]\n",
      "expert 36 : [('перка', 0.75390625), ('ifference', 0.59814453125), ('ракия', 0.59423828125), (' confondre', 0.58984375), ('NORE', 0.5888671875)]\n",
      "expert 41 : [('adal', 0.1771240234375), ('体', 0.17578125), ('icl', 0.171875), ('esi', 0.16943359375), (' Кън', 0.1666259765625)]\n",
      "expert 42 : [('яна', 0.35693359375), (' fres', 0.354248046875), ('frak', 0.305419921875), ('andes', 0.297607421875), ('卸', 0.296875)]\n",
      "expert 45 : [('inclo', 0.034088134765625), ('lega', 0.03338623046875), ('SPHINX', 0.033355712890625), ('��', 0.032928466796875), ('ober', 0.031524658203125)]\n",
      "expert 3 : [('vip', 0.1484375), ('ter', 0.1475830078125), ('aker', 0.1468505859375), ('rely', 0.1444091796875), ('lets', 0.1434326171875)]\n",
      "expert 4 : [('jspx', 0.145751953125), ('YPT', 0.1375732421875), ('ars', 0.137451171875), ('javax', 0.13671875), ('ultor', 0.1356201171875)]\n",
      "expert 11 : [('um', 0.1923828125), ('cour', 0.181640625), ('лец', 0.177734375), ('inx', 0.17578125), (' първия', 0.17431640625)]\n",
      "expert 15 : [('免', 0.1474609375), ('дио', 0.145751953125), ('uese', 0.1400146484375), ('omia', 0.1378173828125), ('igis', 0.137451171875)]\n",
      "expert 28 : [('ynchron', 0.278564453125), ('ismes', 0.275146484375), ('lesa', 0.2548828125), ('ariidae', 0.252197265625), ('тата', 0.251953125)]\n",
      "expert 56 : [('onstr', 0.358642578125), ('omys', 0.33544921875), ('лева', 0.3349609375), ('rowse', 0.328125), (' Prats', 0.3251953125)]\n",
      "expert 4 : [('isabs', 0.53369140625), (' laps', 0.52880859375), ('��', 0.52490234375), ('Област', 0.51025390625), (' Mil', 0.499755859375)]\n",
      "expert 7 : [('早', 0.2037353515625), ('raine', 0.1973876953125), ('碱', 0.1954345703125), ('čí', 0.1927490234375), ('ITE', 0.1890869140625)]\n",
      "expert 10 : [(' дворе', 0.33154296875), ('eces', 0.325439453125), (' conv', 0.30322265625), ('sst', 0.293701171875), (' Tric', 0.291748046875)]\n",
      "expert 18 : [('涉', 0.1400146484375), ('观众', 0.1148681640625), ('regon', 0.1136474609375), ('BROWSER', 0.1134033203125), ('osevelt', 0.1119384765625)]\n",
      "expert 30 : [('ible', 0.030609130859375), (' (', 0.0303802490234375), ('ть', 0.02947998046875), ('ty', 0.0284423828125), ('2', 0.0278778076171875)]\n",
      "expert 42 : [('edio', 0.259521484375), ('мб', 0.2529296875), ('��', 0.252685546875), (' същест', 0.251953125), ('��', 0.2406005859375)]\n",
      "expert 0 : [('erness', 0.41357421875), ('$~', 0.406494140625), ('uric', 0.36474609375), ('ients', 0.3408203125), ('�', 0.340087890625)]\n",
      "expert 23 : [('рено', 0.219970703125), ('cet', 0.1829833984375), ('folio', 0.16259765625), (' Apro', 0.162353515625), ('ours', 0.1591796875)]\n",
      "expert 24 : [('ernel', 0.55029296875), ('ReadWriteAccess', 0.54248046875), ('NonUser', 0.521484375), (' dimit', 0.5078125), ('OperationKind', 0.4833984375)]\n",
      "expert 37 : [('engo', 0.2347412109375), ('Pobl', 0.2115478515625), ('木齐', 0.2044677734375), ('americ', 0.2008056640625), ('enlla', 0.196044921875)]\n",
      "expert 38 : [('关', 0.353271484375), (' Entry', 0.335693359375), ('mr', 0.332275390625), ('(', 0.327880859375), ('社', 0.323486328125)]\n",
      "expert 60 : [('ствие', 0.187744140625), ('UBE', 0.179931640625), ('omore', 0.179931640625), ('�乐', 0.1766357421875), ('Enumer', 0.1754150390625)]\n",
      "expert 12 : [('zzo', 0.382080078125), ('perties', 0.376708984375), ('adol', 0.37060546875), ('萄', 0.353759765625), ('新浪看点', 0.349853515625)]\n",
      "expert 14 : [('isure', 0.24853515625), ('\\\\`', 0.2398681640625), ('WithError', 0.2392578125), ('┈┈', 0.237060546875), ('aunt', 0.235595703125)]\n",
      "expert 30 : [('orca', 0.64501953125), ('essee', 0.576171875), ('FRE', 0.5517578125), ('�', 0.54931640625), ('arlo', 0.54443359375)]\n",
      "expert 40 : [('tna', 0.1700439453125), ('ито', 0.15966796875), ('vend', 0.1558837890625), ('ACHED', 0.153564453125), ('ghed', 0.14892578125)]\n",
      "expert 44 : [(' Metropolit', 0.568359375), ('缠', 0.5595703125), ('1', 0.51953125), ('рони', 0.5078125), ('унд', 0.50634765625)]\n",
      "expert 53 : [('OperationKind', 0.483154296875), ('�', 0.430908203125), ('snia', 0.416015625), ('empra', 0.405029296875), ('omys', 0.38720703125)]\n",
      "expert 4 : [('кен', 0.67822265625), ('ending', 0.64453125), ('EndDate', 0.64208984375), ('CEED', 0.62744140625), (' indi', 0.55859375)]\n",
      "expert 6 : [(' llet', 0.84521484375), ('anque', 0.822265625), ('[--', 0.80859375), ('gdx', 0.80810546875), ('emptat', 0.7978515625)]\n",
      "expert 8 : [('everse', 1.4423828125), ('dish', 1.3701171875), (' sh', 1.2421875), ('angements', 1.21875), ('相信', 1.1943359375)]\n",
      "expert 12 : [('干的', 0.217529296875), ('特朗', 0.213134765625), ('asiness', 0.2093505859375), ('yna', 0.2025146484375), ('рак', 0.2000732421875)]\n",
      "expert 29 : [(' пъте', 0.20166015625), (' indiv', 0.2008056640625), ('=</', 0.2000732421875), ('ressi', 0.196533203125), ('wake', 0.184326171875)]\n",
      "expert 50 : [('ourney', 0.9052734375), ('atche', 0.869140625), ('arten', 0.82568359375), ('******', 0.80029296875), ('gressive', 0.7548828125)]\n",
      "expert 15 : [('shall', 0.253662109375), ('1', 0.25048828125), ('6', 0.24755859375), ('0', 0.2432861328125), ('4', 0.2347412109375)]\n",
      "expert 21 : [(' life', 0.3125), (' живота', 0.25439453125), ('clamations', 0.25146484375), ('life', 0.2489013671875), (' Life', 0.2440185546875)]\n",
      "expert 29 : [('涉', 0.6171875), (' sars', 0.55908203125), ('滕', 0.537109375), ('朝', 0.53564453125), ('eye', 0.5263671875)]\n",
      "expert 35 : [(' loss', 0.2108154296875), ('loss', 0.2099609375), ('9', 0.2041015625), (' losses', 0.203369140625), ('Loss', 0.19873046875)]\n",
      "expert 47 : [('Extensions', 0.235595703125), ('extensi', 0.2215576171875), ('PropertyName', 0.219970703125), ('сни', 0.215087890625), ('RSS', 0.209228515625)]\n",
      "expert 63 : [('uari', 0.15185546875), ('мино', 0.151123046875), ('ness', 0.1409912109375), ('лици', 0.1396484375), (' Scores', 0.1383056640625)]\n",
      "expert 5 : [('itiva', 0.4091796875), ('йт', 0.40576171875), ('erent', 0.37548828125), ('ivil', 0.352783203125), ('ashian', 0.349365234375)]\n",
      "expert 13 : [('�', 0.155517578125), ('ova', 0.1497802734375), ('保', 0.1370849609375), (' C', 0.1363525390625), (' M', 0.1329345703125)]\n",
      "expert 19 : [('bbing', 0.227783203125), ('\"><!--', 0.222412109375), ('PLL', 0.22119140625), ('reducible', 0.2166748046875), ('tland', 0.214111328125)]\n",
      "expert 35 : [('htdocs', 0.1436767578125), (' Pel', 0.128662109375), ('orials', 0.12286376953125), ('Pel', 0.12060546875), ('avian', 0.12017822265625)]\n",
      "expert 38 : [('迎', 0.352294921875), ('rap', 0.320556640625), ('险', 0.3203125), ('amin', 0.315185546875), ('uges', 0.31494140625)]\n",
      "expert 45 : [(' relle', 0.3154296875), ('exion', 0.273681640625), ('тини', 0.244140625), ('евру', 0.239013671875), (' passen', 0.2371826171875)]\n",
      "expert 7 : [('9', 0.27099609375), ('1', 0.260498046875), ('8', 0.252685546875), ('6', 0.2388916015625), ('7', 0.2366943359375)]\n",
      "expert 13 : [('zers', 0.10345458984375), ('рии', 0.1015625), ('仅代表作者本人观点', 0.10028076171875), ('rib', 0.0947265625), ('IES', 0.09423828125)]\n",
      "expert 15 : [('逻', 0.039398193359375), ('сен', 0.0389404296875), ('党组', 0.038299560546875), ('uelto', 0.037384033203125), ('сели', 0.035430908203125)]\n",
      "expert 18 : [('raphics', 0.59130859375), ('regon', 0.58349609375), ('equilibri', 0.57080078125), ('ondes', 0.57080078125), ('ulades', 0.5537109375)]\n",
      "expert 29 : [('ifmmode', 0.81640625), ('fmf', 0.806640625), ('emano', 0.7822265625), ('thood', 0.75244140625), ('��', 0.751953125)]\n",
      "expert 42 : [('rit', 0.486572265625), ('inks', 0.47021484375), ('oni', 0.45654296875), ('inal', 0.4560546875), ('立体', 0.45458984375)]\n",
      "expert 26 : [('parison', 5.18359375), ('oyer', 4.82421875), ('rush', 4.8125), ('cura', 4.7890625), ('iku', 4.7734375)]\n",
      "expert 39 : [('棱', 0.1968994140625), ('ributed', 0.187255859375), ('clo', 0.1845703125), ('чително', 0.1826171875), ('ent', 0.181640625)]\n",
      "expert 43 : [('raved', 0.6376953125), ('USTERED', 0.615234375), ('aturally', 0.6103515625), ('ICAST', 0.568359375), ('WireFormat', 0.5595703125)]\n",
      "expert 46 : [('лени', 0.57275390625), ('terminate', 0.52734375), ('گ', 0.480712890625), ('зани', 0.475830078125), ('阁', 0.46826171875)]\n",
      "expert 49 : [('幸', 0.44189453125), ('维', 0.427001953125), ('阅', 0.40771484375), ('ката', 0.394775390625), ('omo', 0.382568359375)]\n",
      "expert 53 : [('vis', 0.2734375), ('Host', 0.251708984375), (' hosts', 0.242919921875), ('闻', 0.2362060546875), (' host', 0.23388671875)]\n",
      "expert 1 : [('way', 0.69287109375), ('WAY', 0.6591796875), (' way', 0.63623046875), ('Way', 0.6123046875), ('ways', 0.56982421875)]\n",
      "expert 23 : [('tem', 0.4130859375), ('bl', 0.40771484375), ('6', 0.3828125), ('hil', 0.382080078125), ('ub', 0.380615234375)]\n",
      "expert 25 : [('3', 0.475830078125), ('9', 0.4638671875), ('2', 0.462890625), ('5', 0.447021484375), ('1', 0.436279296875)]\n",
      "expert 27 : [('icae', 1.0673828125), ('циално', 1.0615234375), ('ifices', 1.0537109375), ('quei', 1.05078125), ('imales', 1.0498046875)]\n",
      "expert 34 : [('hampton', 0.452392578125), ('::$', 0.449462890625), ('anan', 0.439208984375), (' Константинопол', 0.43212890625), (' Кей', 0.428955078125)]\n",
      "expert 41 : [('тана', 0.43115234375), ('tablenot', 0.408935546875), ('AGA', 0.37939453125), ('摄', 0.37353515625), ('vphantom', 0.37255859375)]\n",
      "expert 5 : [(' scene', 0.75537109375), (' sonora', 0.68212890625), ('rh', 0.65625), ('ango', 0.6494140625), (' Хари', 0.63916015625)]\n",
      "expert 16 : [('heses', 2.0078125), ('}$~\\\\', 1.9345703125), ('childnode', 1.8896484375), ('anzas', 1.8623046875), ('aquen', 1.658203125)]\n",
      "expert 18 : [('木齐', 1.2548828125), ('крат', 1.123046875), (' идеи', 1.1201171875), (' Idea', 1.013671875), (' $\\\\#', 1.0009765625)]\n",
      "expert 21 : [(' avent', 0.380859375), ('jre', 0.37744140625), ('цията', 0.3671875), ('aset', 0.364013671875), (' Ev', 0.36083984375)]\n",
      "expert 34 : [(' involution', 4.83203125), ('\\xa0mil', 4.734375), ('ловина', 4.7265625), ('ertaining', 4.6796875), ('гни', 4.61328125)]\n",
      "expert 42 : [('  ', 0.92138671875), ('isode', 0.73046875), ('ref', 0.7197265625), ('�', 0.6953125), (' ref', 0.6884765625)]\n",
      "expert 10 : [('aried', 1.1796875), (' recibo', 1.1005859375), ('ymbol', 1.0830078125), ('eble', 1.06640625), ('ndies', 1.05078125)]\n",
      "expert 17 : [(' Q', 0.7666015625), ('Q', 0.56201171875), ('QA', 0.5537109375), (' B', 0.54296875), ('\\tQ', 0.53759765625)]\n",
      "expert 20 : [('ulsi', 0.37451171875), ('娘', 0.318603515625), ('ensing', 0.3017578125), ('销', 0.279052734375), ('icit', 0.27392578125)]\n",
      "expert 24 : [('富', 0.9609375), ('CAL', 0.70263671875), (' CAL', 0.67529296875), (' l', 0.66552734375), (' Live', 0.65771484375)]\n",
      "expert 35 : [('next', 0.955078125), (' next', 0.89306640625), ('Next', 0.82861328125), (' NEXT', 0.82275390625), (' Internet', 0.7509765625)]\n",
      "expert 61 : [('astia', 1.125), (' y', 0.9697265625), ('� ', 0.9677734375), ('станбул', 0.94677734375), ('brica', 0.94189453125)]\n",
      "expert 8 : [('��', 0.490966796875), ('фон', 0.41552734375), ('吊', 0.3935546875), ('гон', 0.392333984375), ('0', 0.391357421875)]\n",
      "expert 23 : [('рам', 0.038726806640625), ('onium', 0.0386962890625), ('claimer', 0.038665771484375), ('locar', 0.038421630859375), ('abilitat', 0.0367431640625)]\n",
      "expert 24 : [('стина', 0.9765625), ('唯', 0.96484375), ('�', 0.9482421875), (' BO', 0.912109375), (' l', 0.8896484375)]\n",
      "expert 26 : [(' meaning', 1.044921875), ('meaning', 1.0166015625), ('ments', 1.0166015625), ('пад', 0.99609375), ('добре', 0.978515625)]\n",
      "expert 33 : [('emas', 0.25341796875), ('ableness', 0.2440185546875), ('ypt', 0.243896484375), ('mite', 0.2347412109375), ('usal', 0.23095703125)]\n",
      "expert 48 : [('oldt', 2.044921875), ('gence', 2.041015625), ('upef', 1.85546875), ('合', 1.83984375), ('head', 1.8349609375)]\n",
      "expert 9 : [('ttle', 2.126953125), ('ви', 2.12109375), (' Flight', 2.095703125), ('爷', 2.0859375), ('on', 2.01171875)]\n",
      "expert 12 : [('trx', 0.2176513671875), ('riger', 0.2105712890625), ('три', 0.20849609375), ('良', 0.208251953125), ('iers', 0.205078125)]\n",
      "expert 13 : [('цяло', 1.2099609375), ('GeneratedMessage', 1.197265625), ('atzem', 1.181640625), ('urname', 1.1748046875), ('нуари', 1.166015625)]\n",
      "expert 22 : [('рат', 2.42578125), ('Sol', 2.283203125), ('atiu', 2.23046875), ('f', 2.2109375), (' sol', 2.189453125)]\n",
      "expert 26 : [('пра', 1.32421875), ('arque', 1.3134765625), ('ascens', 1.267578125), ('querque', 1.240234375), ('alona', 1.23046875)]\n",
      "expert 32 : [('chestr', 1.0986328125), ('циа', 1.0703125), ('enance', 0.9951171875), ('aquests', 0.97705078125), (' _', 0.95751953125)]\n",
      "expert 4 : [('ernel', 3.072265625), ('ethod', 2.94140625), ('нци', 2.916015625), ('ivism', 2.73828125), (' meme', 2.732421875)]\n",
      "expert 17 : [('ca', 0.8388671875), (' si', 0.83837890625), ('API', 0.82373046875), ('0', 0.7890625), ('ultura', 0.77490234375)]\n",
      "expert 37 : [('гол', 2.298828125), ('itecture', 2.23828125), ('AAAAAAAAAAAAAAAA', 2.224609375), ('lod', 2.201171875), ('ано', 2.201171875)]\n",
      "expert 40 : [('utaci', 1.13671875), ('��', 1.1142578125), ('apol', 1.0322265625), ('fiques', 0.9912109375), ('itari', 0.98291015625)]\n",
      "expert 49 : [('anwhile', 0.68017578125), ('ń', 0.67919921875), ('olated', 0.67431640625), (' експе', 0.650390625), ('idunt', 0.64990234375)]\n",
      "expert 54 : [('Il', 2.228515625), (' Il', 2.169921875), ('il', 2.01953125), (' il', 1.7568359375), ('ils', 1.734375)]\n",
      "expert 2 : [('yya', 0.6640625), ('сий', 0.6484375), ('дръ', 0.6455078125), (' съм', 0.61181640625), ('quired', 0.60400390625)]\n",
      "expert 14 : [('.\"));', 1.6318359375), ('\\'\";', 1.501953125), ('\\'\");', 1.4970703125), (\"'</\", 1.4345703125), ('\")));', 1.4052734375)]\n",
      "expert 23 : [('fin', 1.357421875), ('rig', 1.279296875), ('猕', 1.251953125), ('2', 1.2509765625), ('Fin', 1.2421875)]\n",
      "expert 50 : [('ا�', 1.505859375), (' fitting', 1.3447265625), (' Va', 1.3154296875), (' Mo', 1.2919921875), (' forg', 1.2890625)]\n",
      "expert 58 : [('靖', 0.71875), (' n', 0.6796875), ('stries', 0.671875), ('idual', 0.658203125), ('циал', 0.6435546875)]\n",
      "expert 60 : [(' consequence', 0.5302734375), (' det', 0.5126953125), (' des', 0.50341796875), ('measures', 0.4921875), (' context', 0.489501953125)]\n",
      "expert 27 : [('é', 2.47265625), ('Ã', 2.181640625), ('�', 2.119140625), ('�', 2.0703125), ('�', 2.052734375)]\n",
      "expert 33 : [(' l', 0.444091796875), ('\\tl', 0.29150390625), (' definitiva', 0.289306640625), (' nostra', 0.28466796875), (' pilota', 0.275634765625)]\n",
      "expert 46 : [(' put', 1.232421875), (' prevent', 1.2314453125), (' sleep', 1.212890625), (' grasp', 1.20703125), (' GiB', 1.1982421875)]\n",
      "expert 49 : [('ful', 0.2027587890625), ('fuls', 0.1949462890625), ('y', 0.187255859375), (' size', 0.1829833984375), ('fter', 0.182373046875)]\n",
      "expert 53 : [(' matter', 0.61474609375), (' grudge', 0.57568359375), (' complaint', 0.56494140625), (' sinner', 0.55224609375), (' scandal', 0.55126953125)]\n",
      "expert 60 : [(' H', 0.375244140625), ('H', 0.34912109375), ('F', 0.332275390625), ('M', 0.30908203125), ('P', 0.2919921875)]\n"
     ]
    },
    {
     "data": {
      "application/vnd.plotly.v1+json": {
       "config": {
        "plotlyServerURL": "https://plot.ly"
       },
       "data": [
        {
         "hoverinfo": "text",
         "hovertext": [
          "Layer 0 l_out (logit: 1.007):<br>设法: 1.007<br>摧: 0.920<br>ISA: 0.845<br>ANA: 0.829<br>面目: 0.792",
          "Layer 1 l_out (logit: 1.015):<br>设法: 1.015<br>uren: 0.999<br>摧: 0.985<br>ANA: 0.973<br>FER: 0.961",
          "Layer 2 l_out (logit: 1.477):<br> greu: 1.477<br> Noguera: 1.439<br> resultar: 1.377<br>mico: 1.362<br>obles: 1.316",
          "Layer 3 l_out (logit: 1.739):<br>摧: 1.739<br>Населе: 1.714<br>мби: 1.659<br>obles: 1.648<br>uren: 1.647",
          "Layer 4 l_out (logit: 2.045):<br>мби: 2.045<br>obles: 2.021<br> travess: 1.930<br>icke: 1.915<br>ughed: 1.890",
          "Layer 5 l_out (logit: 2.453):<br>inria: 2.453<br>ughed: 2.324<br>推动: 2.182<br> modernista: 2.119<br>埋: 2.096",
          "Layer 6 l_out (logit: 3.217):<br>inria: 3.217<br>ZY: 2.750<br>icke: 2.742<br>indeed: 2.699<br>ughed: 2.656",
          "Layer 7 l_out (logit: 2.994):<br>inria: 2.994<br>icke: 2.637<br> modernista: 2.572<br>itures: 2.465<br>ughed: 2.434",
          "Layer 8 l_out (logit: 2.918):<br>ристо: 2.918<br>Македония: 2.787<br> Списък: 2.779<br>inria: 2.777<br> WS: 2.717",
          "Layer 9 l_out (logit: 2.963):<br> indeed: 2.963<br> WS: 2.902<br>Македония: 2.816<br>harp: 2.781<br>ough: 2.768",
          "Layer 10 l_out (logit: 3.645):<br>ughed: 3.645<br>Македония: 3.529<br>�: 3.371<br>华声: 3.340<br>节: 3.316",
          "Layer 11 l_out (logit: 4.922):<br>вей: 4.922<br>AIPS: 4.707<br>SGD: 4.668<br>hwe: 4.488<br> acceptat: 4.418",
          "Layer 12 l_out (logit: 5.273):<br>SGD: 5.273<br>вей: 5.070<br>�: 4.898<br>isca: 4.848<br>AIPS: 4.840",
          "Layer 13 l_out (logit: 5.758):<br>ughed: 5.758<br> @}: 5.449<br>ZY: 5.352<br>iguiente: 5.324<br>Македония: 5.211",
          "Layer 14 l_out (logit: 7.023):<br>ughed: 7.023<br>wso: 6.172<br>华声: 6.137<br>ствие: 6.129<br> @}: 6.000",
          "Layer 15 l_out (logit: 7.855):<br>ughed: 7.855<br>wso: 6.555<br>华声: 6.465<br>verage: 6.461<br>вей: 6.277",
          "Layer 16 l_out (logit: 7.434):<br>ughed: 7.434<br>华声: 6.656<br>wso: 6.516<br> contrario: 6.000<br>verage: 5.953",
          "Layer 17 l_out (logit: 11.250):<br>ughed: 11.250<br> Умира: 9.406<br>\t\\]: 8.938<br>ertes: 8.773<br>ствие: 8.734",
          "Layer 18 l_out (logit: 11.625):<br>ughed: 11.625<br> Умира: 10.281<br>\t\\]: 9.367<br>ertes: 8.805<br>ceq: 8.539",
          "Layer 19 l_out (logit: 12.219):<br>ughed: 12.219<br> Умира: 12.008<br>گ: 11.539<br> peak: 11.031<br> peaks: 10.672",
          "Layer 20 l_out (logit: 13.594):<br> Life: 13.594<br> life: 13.438<br>ughed: 13.086<br> LIFE: 12.469<br> Умира: 12.109",
          "Layer 21 l_out (logit: 15.609):<br> Life: 15.609<br> LIFE: 14.953<br>ughed: 14.906<br> life: 14.773<br>尴: 14.023",
          "Layer 22 l_out (logit: 17.969):<br> Life: 17.969<br> vie: 17.000<br> LIFE: 16.547<br> life: 16.250<br> vies: 15.977",
          "Layer 23 l_out (logit: 18.484):<br> vie: 18.484<br> Life: 17.359<br> vies: 16.469<br>ughed: 16.031<br> LIFE: 15.680",
          "Layer 24 l_out (logit: 21.047):<br> vie: 21.047<br> vies: 18.609<br>华声: 17.125<br>ughed: 16.609<br> Life: 15.883",
          "Layer 25 l_out (logit: 25.141):<br> vie: 25.141<br> vies: 20.344<br> Vie: 18.469<br>vie: 17.828<br> Life: 17.203",
          "Layer 26 l_out (logit: 37.688):<br> vie: 37.688<br> v: 30.219<br>\n: 29.688<br>...: 29.562<br> Vie: 28.703",
          "Layer 27 l_out (logit: 66.438):<br> vie: 66.438<br>,: 60.156<br>\n: 60.125<br> : 59.688<br>.: 58.812"
         ],
         "marker": {
          "cmax": 66.4375,
          "cmin": 0.0190887451171875,
          "color": [
           1.0068359375,
           1.0146484375,
           1.4765625,
           1.7392578125,
           2.044921875,
           2.453125,
           3.216796875,
           2.994140625,
           2.91796875,
           2.962890625,
           3.64453125,
           4.921875,
           5.2734375,
           5.7578125,
           7.0234375,
           7.85546875,
           7.43359375,
           11.25,
           11.625,
           12.21875,
           13.59375,
           15.609375,
           17.96875,
           18.484375,
           21.046875,
           25.140625,
           37.6875,
           66.4375
          ],
          "colorbar": {
           "orientation": "h",
           "title": {
            "side": "right",
            "text": "logit value"
           },
           "y": -0.15
          },
          "colorscale": [
           [
            0,
            "rgb(68,1,84)"
           ],
           [
            0.25,
            "rgb(59,82,139)"
           ],
           [
            0.5,
            "rgb(33,144,141)"
           ],
           [
            0.75,
            "rgb(93,201,99)"
           ],
           [
            1,
            "rgb(253,231,37)"
           ]
          ],
          "line": {
           "color": "rgba(255,255,255,0.2)",
           "width": 1
          },
          "showscale": true,
          "size": 50,
          "symbol": "square"
         },
         "mode": "markers",
         "showlegend": false,
         "type": "scatter",
         "x": [
          0,
          0,
          0,
          0,
          0,
          0,
          0,
          0,
          0,
          0,
          0,
          0,
          0,
          0,
          0,
          0,
          0,
          0,
          0,
          0,
          0,
          0,
          0,
          0,
          0,
          0,
          0,
          0
         ],
         "y": [
          0,
          1,
          2,
          3,
          4,
          5,
          6,
          7,
          8,
          9,
          10,
          11,
          12,
          13,
          14,
          15,
          16,
          17,
          18,
          19,
          20,
          21,
          22,
          23,
          24,
          25,
          26,
          27
         ]
        },
        {
         "hoverinfo": "skip",
         "mode": "text",
         "showlegend": false,
         "text": [
          "设法"
         ],
         "textfont": {
          "color": "white",
          "size": 10
         },
         "textposition": "middle center",
         "type": "scatter",
         "x": [
          0
         ],
         "y": [
          0
         ]
        },
        {
         "hoverinfo": "skip",
         "mode": "text",
         "showlegend": false,
         "text": [
          "设法"
         ],
         "textfont": {
          "color": "white",
          "size": 10
         },
         "textposition": "middle center",
         "type": "scatter",
         "x": [
          0
         ],
         "y": [
          1
         ]
        },
        {
         "hoverinfo": "skip",
         "mode": "text",
         "showlegend": false,
         "text": [
          " greu"
         ],
         "textfont": {
          "color": "white",
          "size": 10
         },
         "textposition": "middle center",
         "type": "scatter",
         "x": [
          0
         ],
         "y": [
          2
         ]
        },
        {
         "hoverinfo": "skip",
         "mode": "text",
         "showlegend": false,
         "text": [
          "摧"
         ],
         "textfont": {
          "color": "white",
          "size": 10
         },
         "textposition": "middle center",
         "type": "scatter",
         "x": [
          0
         ],
         "y": [
          3
         ]
        },
        {
         "hoverinfo": "skip",
         "mode": "text",
         "showlegend": false,
         "text": [
          "мби"
         ],
         "textfont": {
          "color": "white",
          "size": 10
         },
         "textposition": "middle center",
         "type": "scatter",
         "x": [
          0
         ],
         "y": [
          4
         ]
        },
        {
         "hoverinfo": "skip",
         "mode": "text",
         "showlegend": false,
         "text": [
          "inria"
         ],
         "textfont": {
          "color": "white",
          "size": 10
         },
         "textposition": "middle center",
         "type": "scatter",
         "x": [
          0
         ],
         "y": [
          5
         ]
        },
        {
         "hoverinfo": "skip",
         "mode": "text",
         "showlegend": false,
         "text": [
          "inria"
         ],
         "textfont": {
          "color": "white",
          "size": 10
         },
         "textposition": "middle center",
         "type": "scatter",
         "x": [
          0
         ],
         "y": [
          6
         ]
        },
        {
         "hoverinfo": "skip",
         "mode": "text",
         "showlegend": false,
         "text": [
          "inria"
         ],
         "textfont": {
          "color": "white",
          "size": 10
         },
         "textposition": "middle center",
         "type": "scatter",
         "x": [
          0
         ],
         "y": [
          7
         ]
        },
        {
         "hoverinfo": "skip",
         "mode": "text",
         "showlegend": false,
         "text": [
          "ристо"
         ],
         "textfont": {
          "color": "white",
          "size": 10
         },
         "textposition": "middle center",
         "type": "scatter",
         "x": [
          0
         ],
         "y": [
          8
         ]
        },
        {
         "hoverinfo": "skip",
         "mode": "text",
         "showlegend": false,
         "text": [
          " indeed"
         ],
         "textfont": {
          "color": "white",
          "size": 10
         },
         "textposition": "middle center",
         "type": "scatter",
         "x": [
          0
         ],
         "y": [
          9
         ]
        },
        {
         "hoverinfo": "skip",
         "mode": "text",
         "showlegend": false,
         "text": [
          "ughed"
         ],
         "textfont": {
          "color": "white",
          "size": 10
         },
         "textposition": "middle center",
         "type": "scatter",
         "x": [
          0
         ],
         "y": [
          10
         ]
        },
        {
         "hoverinfo": "skip",
         "mode": "text",
         "showlegend": false,
         "text": [
          "вей"
         ],
         "textfont": {
          "color": "white",
          "size": 10
         },
         "textposition": "middle center",
         "type": "scatter",
         "x": [
          0
         ],
         "y": [
          11
         ]
        },
        {
         "hoverinfo": "skip",
         "mode": "text",
         "showlegend": false,
         "text": [
          "SGD"
         ],
         "textfont": {
          "color": "white",
          "size": 10
         },
         "textposition": "middle center",
         "type": "scatter",
         "x": [
          0
         ],
         "y": [
          12
         ]
        },
        {
         "hoverinfo": "skip",
         "mode": "text",
         "showlegend": false,
         "text": [
          "ughed"
         ],
         "textfont": {
          "color": "white",
          "size": 10
         },
         "textposition": "middle center",
         "type": "scatter",
         "x": [
          0
         ],
         "y": [
          13
         ]
        },
        {
         "hoverinfo": "skip",
         "mode": "text",
         "showlegend": false,
         "text": [
          "ughed"
         ],
         "textfont": {
          "color": "white",
          "size": 10
         },
         "textposition": "middle center",
         "type": "scatter",
         "x": [
          0
         ],
         "y": [
          14
         ]
        },
        {
         "hoverinfo": "skip",
         "mode": "text",
         "showlegend": false,
         "text": [
          "ughed"
         ],
         "textfont": {
          "color": "white",
          "size": 10
         },
         "textposition": "middle center",
         "type": "scatter",
         "x": [
          0
         ],
         "y": [
          15
         ]
        },
        {
         "hoverinfo": "skip",
         "mode": "text",
         "showlegend": false,
         "text": [
          "ughed"
         ],
         "textfont": {
          "color": "white",
          "size": 10
         },
         "textposition": "middle center",
         "type": "scatter",
         "x": [
          0
         ],
         "y": [
          16
         ]
        },
        {
         "hoverinfo": "skip",
         "mode": "text",
         "showlegend": false,
         "text": [
          "ughed"
         ],
         "textfont": {
          "color": "white",
          "size": 10
         },
         "textposition": "middle center",
         "type": "scatter",
         "x": [
          0
         ],
         "y": [
          17
         ]
        },
        {
         "hoverinfo": "skip",
         "mode": "text",
         "showlegend": false,
         "text": [
          "ughed"
         ],
         "textfont": {
          "color": "white",
          "size": 10
         },
         "textposition": "middle center",
         "type": "scatter",
         "x": [
          0
         ],
         "y": [
          18
         ]
        },
        {
         "hoverinfo": "skip",
         "mode": "text",
         "showlegend": false,
         "text": [
          "ughed"
         ],
         "textfont": {
          "color": "white",
          "size": 10
         },
         "textposition": "middle center",
         "type": "scatter",
         "x": [
          0
         ],
         "y": [
          19
         ]
        },
        {
         "hoverinfo": "skip",
         "mode": "text",
         "showlegend": false,
         "text": [
          " Life"
         ],
         "textfont": {
          "color": "white",
          "size": 10
         },
         "textposition": "middle center",
         "type": "scatter",
         "x": [
          0
         ],
         "y": [
          20
         ]
        },
        {
         "hoverinfo": "skip",
         "mode": "text",
         "showlegend": false,
         "text": [
          " Life"
         ],
         "textfont": {
          "color": "white",
          "size": 10
         },
         "textposition": "middle center",
         "type": "scatter",
         "x": [
          0
         ],
         "y": [
          21
         ]
        },
        {
         "hoverinfo": "skip",
         "mode": "text",
         "showlegend": false,
         "text": [
          " Life"
         ],
         "textfont": {
          "color": "white",
          "size": 10
         },
         "textposition": "middle center",
         "type": "scatter",
         "x": [
          0
         ],
         "y": [
          22
         ]
        },
        {
         "hoverinfo": "skip",
         "mode": "text",
         "showlegend": false,
         "text": [
          " vie"
         ],
         "textfont": {
          "color": "white",
          "size": 10
         },
         "textposition": "middle center",
         "type": "scatter",
         "x": [
          0
         ],
         "y": [
          23
         ]
        },
        {
         "hoverinfo": "skip",
         "mode": "text",
         "showlegend": false,
         "text": [
          " vie"
         ],
         "textfont": {
          "color": "white",
          "size": 10
         },
         "textposition": "middle center",
         "type": "scatter",
         "x": [
          0
         ],
         "y": [
          24
         ]
        },
        {
         "hoverinfo": "skip",
         "mode": "text",
         "showlegend": false,
         "text": [
          " vie"
         ],
         "textfont": {
          "color": "white",
          "size": 10
         },
         "textposition": "middle center",
         "type": "scatter",
         "x": [
          0
         ],
         "y": [
          25
         ]
        },
        {
         "hoverinfo": "skip",
         "mode": "text",
         "showlegend": false,
         "text": [
          " vie"
         ],
         "textfont": {
          "color": "black",
          "size": 10
         },
         "textposition": "middle center",
         "type": "scatter",
         "x": [
          0
         ],
         "y": [
          26
         ]
        },
        {
         "hoverinfo": "skip",
         "mode": "text",
         "showlegend": false,
         "text": [
          " vie"
         ],
         "textfont": {
          "color": "black",
          "size": 10
         },
         "textposition": "middle center",
         "type": "scatter",
         "x": [
          0
         ],
         "y": [
          27
         ]
        },
        {
         "hoverinfo": "text",
         "hovertext": [
          "Layer 0 expert_1:<br>No data",
          "Layer 1 expert 53 (logit: 0.047):<br>uega: 0.047<br>专: 0.044<br>dorff: 0.039<br>td: 0.039<br>tsd: 0.039",
          "Layer 2 expert 31 (logit: 0.822):<br>ntesis: 0.822<br>nqu: 0.801<br>textsuperscript: 0.791<br>ъз: 0.752<br>пур: 0.752",
          "Layer 3 expert 63 (logit: 0.504):<br>sinh: 0.504<br>itae: 0.452<br>gtr: 0.436<br>rors: 0.434<br>bary: 0.426",
          "Layer 4 expert 1 (logit: 0.079):<br>astro: 0.079<br>urgy: 0.078<br>mss: 0.075<br> техно: 0.074<br>recurs: 0.074",
          "Layer 5 expert 48 (logit: 0.229):<br>东西: 0.229<br>aciously: 0.218<br>iards: 0.217<br>��: 0.204<br>jgl: 0.199",
          "Layer 6 expert 21 (logit: 0.437):<br>abul: 0.437<br>umatic: 0.437<br>дъ: 0.433<br>aris: 0.420<br>�: 0.414",
          "Layer 7 expert 49 (logit: 0.451):<br>egie: 0.451<br> градина: 0.391<br>зика: 0.368<br>pzc: 0.366<br>charged: 0.360",
          "Layer 8 expert 4 (logit: 0.213):<br>第一种: 0.213<br>第一款: 0.206<br>sco: 0.201<br>estamp: 0.181<br>firstrow: 0.179",
          "Layer 9 expert 1 (logit: 0.398):<br>unfinished: 0.398<br>��: 0.373<br> certes: 0.370<br>шат: 0.370<br>ossible: 0.362",
          "Layer 10 expert 36 (logit: 0.754):<br>перка: 0.754<br>ifference: 0.598<br>ракия: 0.594<br> confondre: 0.590<br>NORE: 0.589",
          "Layer 11 expert 56 (logit: 0.359):<br>onstr: 0.359<br>omys: 0.335<br>лева: 0.335<br>rowse: 0.328<br> Prats: 0.325",
          "Layer 12 expert 42 (logit: 0.260):<br>edio: 0.260<br>мб: 0.253<br>��: 0.253<br> същест: 0.252<br>��: 0.241",
          "Layer 13 expert 37 (logit: 0.235):<br>engo: 0.235<br>Pobl: 0.212<br>木齐: 0.204<br>americ: 0.201<br>enlla: 0.196",
          "Layer 14 expert 53 (logit: 0.483):<br>OperationKind: 0.483<br>�: 0.431<br>snia: 0.416<br>empra: 0.405<br>omys: 0.387",
          "Layer 15 expert 29 (logit: 0.202):<br> пъте: 0.202<br> indiv: 0.201<br>=</: 0.200<br>ressi: 0.197<br>wake: 0.184",
          "Layer 16 expert 29 (logit: 0.617):<br>涉: 0.617<br> sars: 0.559<br>滕: 0.537<br>朝: 0.536<br>eye: 0.526",
          "Layer 17 expert 45 (logit: 0.315):<br> relle: 0.315<br>exion: 0.274<br>тини: 0.244<br>евру: 0.239<br> passen: 0.237",
          "Layer 18 expert 7 (logit: 0.271):<br>9: 0.271<br>1: 0.260<br>8: 0.253<br>6: 0.239<br>7: 0.237",
          "Layer 19 expert 26 (logit: 5.184):<br>parison: 5.184<br>oyer: 4.824<br>rush: 4.812<br>cura: 4.789<br>iku: 4.773",
          "Layer 20 expert 27 (logit: 1.067):<br>icae: 1.067<br>циално: 1.062<br>ifices: 1.054<br>quei: 1.051<br>imales: 1.050",
          "Layer 21 expert 34 (logit: 4.832):<br> involution: 4.832<br> mil: 4.734<br>ловина: 4.727<br>ertaining: 4.680<br>гни: 4.613",
          "Layer 22 expert 61 (logit: 1.125):<br>astia: 1.125<br> y: 0.970<br>� : 0.968<br>станбул: 0.947<br>brica: 0.942",
          "Layer 23 expert 33 (logit: 0.253):<br>emas: 0.253<br>ableness: 0.244<br>ypt: 0.244<br>mite: 0.235<br>usal: 0.231",
          "Layer 24 expert 22 (logit: 2.426):<br>рат: 2.426<br>Sol: 2.283<br>atiu: 2.230<br>f: 2.211<br> sol: 2.189",
          "Layer 25 expert 4 (logit: 3.072):<br>ernel: 3.072<br>ethod: 2.941<br>нци: 2.916<br>ivism: 2.738<br> meme: 2.732",
          "Layer 26 expert 23 (logit: 1.357):<br>fin: 1.357<br>rig: 1.279<br>猕: 1.252<br>2: 1.251<br>Fin: 1.242",
          "Layer 27 expert 33 (logit: 0.444):<br> l: 0.444<br>\tl: 0.292<br> definitiva: 0.289<br> nostra: 0.285<br> pilota: 0.276"
         ],
         "marker": {
          "cmax": 66.4375,
          "cmin": 0.0190887451171875,
          "color": [
           null,
           0.0467529296875,
           0.82177734375,
           0.50439453125,
           0.0792236328125,
           0.228759765625,
           0.437255859375,
           0.451416015625,
           0.2130126953125,
           0.39794921875,
           0.75390625,
           0.358642578125,
           0.259521484375,
           0.2347412109375,
           0.483154296875,
           0.20166015625,
           0.6171875,
           0.3154296875,
           0.27099609375,
           5.18359375,
           1.0673828125,
           4.83203125,
           1.125,
           0.25341796875,
           2.42578125,
           3.072265625,
           1.357421875,
           0.444091796875
          ],
          "colorscale": [
           [
            0,
            "rgb(68,1,84)"
           ],
           [
            0.25,
            "rgb(59,82,139)"
           ],
           [
            0.5,
            "rgb(33,144,141)"
           ],
           [
            0.75,
            "rgb(93,201,99)"
           ],
           [
            1,
            "rgb(253,231,37)"
           ]
          ],
          "line": {
           "color": "rgba(255,255,255,0.2)",
           "width": 1
          },
          "showscale": false,
          "size": 50,
          "symbol": "square"
         },
         "mode": "markers",
         "showlegend": false,
         "type": "scatter",
         "x": [
          1,
          1,
          1,
          1,
          1,
          1,
          1,
          1,
          1,
          1,
          1,
          1,
          1,
          1,
          1,
          1,
          1,
          1,
          1,
          1,
          1,
          1,
          1,
          1,
          1,
          1,
          1,
          1
         ],
         "y": [
          0,
          1,
          2,
          3,
          4,
          5,
          6,
          7,
          8,
          9,
          10,
          11,
          12,
          13,
          14,
          15,
          16,
          17,
          18,
          19,
          20,
          21,
          22,
          23,
          24,
          25,
          26,
          27
         ]
        },
        {
         "hoverinfo": "skip",
         "mode": "text",
         "showlegend": false,
         "text": [
          "53",
          "31",
          "63",
          "1",
          "48",
          "21",
          "49",
          "4",
          "1",
          "36",
          "56",
          "42",
          "37",
          "53",
          "29",
          "29",
          "45",
          "7",
          "26",
          "27",
          "34",
          "61",
          "33",
          "22",
          "4",
          "23",
          "33"
         ],
         "textfont": {
          "color": "white",
          "size": 10
         },
         "textposition": "middle center",
         "type": "scatter",
         "x": [
          0.8,
          0.8,
          0.8,
          0.8,
          0.8,
          0.8,
          0.8,
          0.8,
          0.8,
          0.8,
          0.8,
          0.8,
          0.8,
          0.8,
          0.8,
          0.8,
          0.8,
          0.8,
          0.8,
          0.8,
          0.8,
          0.8,
          0.8,
          0.8,
          0.8,
          0.8,
          0.8
         ],
         "y": [
          1.2,
          2.2,
          3.2,
          4.2,
          5.2,
          6.2,
          7.2,
          8.2,
          9.2,
          10.2,
          11.2,
          12.2,
          13.2,
          14.2,
          15.2,
          16.2,
          17.2,
          18.2,
          19.2,
          20.2,
          21.2,
          22.2,
          23.2,
          24.2,
          25.2,
          26.2,
          27.2
         ]
        },
        {
         "hoverinfo": "skip",
         "mode": "text",
         "showlegend": false,
         "text": [
          "uega"
         ],
         "textfont": {
          "color": "white",
          "size": 10
         },
         "textposition": "middle center",
         "type": "scatter",
         "x": [
          1
         ],
         "y": [
          1
         ]
        },
        {
         "hoverinfo": "skip",
         "mode": "text",
         "showlegend": false,
         "text": [
          "ntesis"
         ],
         "textfont": {
          "color": "white",
          "size": 10
         },
         "textposition": "middle center",
         "type": "scatter",
         "x": [
          1
         ],
         "y": [
          2
         ]
        },
        {
         "hoverinfo": "skip",
         "mode": "text",
         "showlegend": false,
         "text": [
          "sinh"
         ],
         "textfont": {
          "color": "white",
          "size": 10
         },
         "textposition": "middle center",
         "type": "scatter",
         "x": [
          1
         ],
         "y": [
          3
         ]
        },
        {
         "hoverinfo": "skip",
         "mode": "text",
         "showlegend": false,
         "text": [
          "astro"
         ],
         "textfont": {
          "color": "white",
          "size": 10
         },
         "textposition": "middle center",
         "type": "scatter",
         "x": [
          1
         ],
         "y": [
          4
         ]
        },
        {
         "hoverinfo": "skip",
         "mode": "text",
         "showlegend": false,
         "text": [
          "东西"
         ],
         "textfont": {
          "color": "white",
          "size": 10
         },
         "textposition": "middle center",
         "type": "scatter",
         "x": [
          1
         ],
         "y": [
          5
         ]
        },
        {
         "hoverinfo": "skip",
         "mode": "text",
         "showlegend": false,
         "text": [
          "abul"
         ],
         "textfont": {
          "color": "white",
          "size": 10
         },
         "textposition": "middle center",
         "type": "scatter",
         "x": [
          1
         ],
         "y": [
          6
         ]
        },
        {
         "hoverinfo": "skip",
         "mode": "text",
         "showlegend": false,
         "text": [
          "egie"
         ],
         "textfont": {
          "color": "white",
          "size": 10
         },
         "textposition": "middle center",
         "type": "scatter",
         "x": [
          1
         ],
         "y": [
          7
         ]
        },
        {
         "hoverinfo": "skip",
         "mode": "text",
         "showlegend": false,
         "text": [
          "第一种"
         ],
         "textfont": {
          "color": "white",
          "size": 10
         },
         "textposition": "middle center",
         "type": "scatter",
         "x": [
          1
         ],
         "y": [
          8
         ]
        },
        {
         "hoverinfo": "skip",
         "mode": "text",
         "showlegend": false,
         "text": [
          "unfinished"
         ],
         "textfont": {
          "color": "white",
          "size": 10
         },
         "textposition": "middle center",
         "type": "scatter",
         "x": [
          1
         ],
         "y": [
          9
         ]
        },
        {
         "hoverinfo": "skip",
         "mode": "text",
         "showlegend": false,
         "text": [
          "перка"
         ],
         "textfont": {
          "color": "white",
          "size": 10
         },
         "textposition": "middle center",
         "type": "scatter",
         "x": [
          1
         ],
         "y": [
          10
         ]
        },
        {
         "hoverinfo": "skip",
         "mode": "text",
         "showlegend": false,
         "text": [
          "onstr"
         ],
         "textfont": {
          "color": "white",
          "size": 10
         },
         "textposition": "middle center",
         "type": "scatter",
         "x": [
          1
         ],
         "y": [
          11
         ]
        },
        {
         "hoverinfo": "skip",
         "mode": "text",
         "showlegend": false,
         "text": [
          "edio"
         ],
         "textfont": {
          "color": "white",
          "size": 10
         },
         "textposition": "middle center",
         "type": "scatter",
         "x": [
          1
         ],
         "y": [
          12
         ]
        },
        {
         "hoverinfo": "skip",
         "mode": "text",
         "showlegend": false,
         "text": [
          "engo"
         ],
         "textfont": {
          "color": "white",
          "size": 10
         },
         "textposition": "middle center",
         "type": "scatter",
         "x": [
          1
         ],
         "y": [
          13
         ]
        },
        {
         "hoverinfo": "skip",
         "mode": "text",
         "showlegend": false,
         "text": [
          "OperationKind"
         ],
         "textfont": {
          "color": "white",
          "size": 10
         },
         "textposition": "middle center",
         "type": "scatter",
         "x": [
          1
         ],
         "y": [
          14
         ]
        },
        {
         "hoverinfo": "skip",
         "mode": "text",
         "showlegend": false,
         "text": [
          " пъте"
         ],
         "textfont": {
          "color": "white",
          "size": 10
         },
         "textposition": "middle center",
         "type": "scatter",
         "x": [
          1
         ],
         "y": [
          15
         ]
        },
        {
         "hoverinfo": "skip",
         "mode": "text",
         "showlegend": false,
         "text": [
          "涉"
         ],
         "textfont": {
          "color": "white",
          "size": 10
         },
         "textposition": "middle center",
         "type": "scatter",
         "x": [
          1
         ],
         "y": [
          16
         ]
        },
        {
         "hoverinfo": "skip",
         "mode": "text",
         "showlegend": false,
         "text": [
          " relle"
         ],
         "textfont": {
          "color": "white",
          "size": 10
         },
         "textposition": "middle center",
         "type": "scatter",
         "x": [
          1
         ],
         "y": [
          17
         ]
        },
        {
         "hoverinfo": "skip",
         "mode": "text",
         "showlegend": false,
         "text": [
          "9"
         ],
         "textfont": {
          "color": "white",
          "size": 10
         },
         "textposition": "middle center",
         "type": "scatter",
         "x": [
          1
         ],
         "y": [
          18
         ]
        },
        {
         "hoverinfo": "skip",
         "mode": "text",
         "showlegend": false,
         "text": [
          "parison"
         ],
         "textfont": {
          "color": "white",
          "size": 10
         },
         "textposition": "middle center",
         "type": "scatter",
         "x": [
          1
         ],
         "y": [
          19
         ]
        },
        {
         "hoverinfo": "skip",
         "mode": "text",
         "showlegend": false,
         "text": [
          "icae"
         ],
         "textfont": {
          "color": "white",
          "size": 10
         },
         "textposition": "middle center",
         "type": "scatter",
         "x": [
          1
         ],
         "y": [
          20
         ]
        },
        {
         "hoverinfo": "skip",
         "mode": "text",
         "showlegend": false,
         "text": [
          " involution"
         ],
         "textfont": {
          "color": "white",
          "size": 10
         },
         "textposition": "middle center",
         "type": "scatter",
         "x": [
          1
         ],
         "y": [
          21
         ]
        },
        {
         "hoverinfo": "skip",
         "mode": "text",
         "showlegend": false,
         "text": [
          "astia"
         ],
         "textfont": {
          "color": "white",
          "size": 10
         },
         "textposition": "middle center",
         "type": "scatter",
         "x": [
          1
         ],
         "y": [
          22
         ]
        },
        {
         "hoverinfo": "skip",
         "mode": "text",
         "showlegend": false,
         "text": [
          "emas"
         ],
         "textfont": {
          "color": "white",
          "size": 10
         },
         "textposition": "middle center",
         "type": "scatter",
         "x": [
          1
         ],
         "y": [
          23
         ]
        },
        {
         "hoverinfo": "skip",
         "mode": "text",
         "showlegend": false,
         "text": [
          "рат"
         ],
         "textfont": {
          "color": "white",
          "size": 10
         },
         "textposition": "middle center",
         "type": "scatter",
         "x": [
          1
         ],
         "y": [
          24
         ]
        },
        {
         "hoverinfo": "skip",
         "mode": "text",
         "showlegend": false,
         "text": [
          "ernel"
         ],
         "textfont": {
          "color": "white",
          "size": 10
         },
         "textposition": "middle center",
         "type": "scatter",
         "x": [
          1
         ],
         "y": [
          25
         ]
        },
        {
         "hoverinfo": "skip",
         "mode": "text",
         "showlegend": false,
         "text": [
          "fin"
         ],
         "textfont": {
          "color": "white",
          "size": 10
         },
         "textposition": "middle center",
         "type": "scatter",
         "x": [
          1
         ],
         "y": [
          26
         ]
        },
        {
         "hoverinfo": "skip",
         "mode": "text",
         "showlegend": false,
         "text": [
          " l"
         ],
         "textfont": {
          "color": "white",
          "size": 10
         },
         "textposition": "middle center",
         "type": "scatter",
         "x": [
          1
         ],
         "y": [
          27
         ]
        },
        {
         "hoverinfo": "text",
         "hovertext": [
          "Layer 0 expert_2:<br>No data",
          "Layer 1 expert 24 (logit: 0.201):<br>копа: 0.201<br>opil: 0.201<br>коп: 0.189<br>ERE: 0.182<br>landa: 0.179",
          "Layer 2 expert 63 (logit: 0.087):<br>elly: 0.087<br>Германски: 0.087<br>许: 0.086<br> тени: 0.083<br> min: 0.082",
          "Layer 3 expert 29 (logit: 0.059):<br>ор: 0.059<br>estre: 0.058<br>rido: 0.053<br>alto: 0.052<br>obres: 0.052",
          "Layer 4 expert 44 (logit: 0.091):<br>ationals: 0.091<br>绣: 0.090<br>施: 0.086<br>inition: 0.086<br> Еми: 0.083",
          "Layer 5 expert 38 (logit: 0.465):<br>ationals: 0.465<br>ngia: 0.424<br>jal: 0.408<br>ophagus: 0.403<br>usep: 0.403",
          "Layer 6 expert 6 (logit: 0.346):<br> асоциа: 0.346<br>Окръг: 0.345<br>Населени: 0.336<br>remos: 0.333<br>LTS: 0.318",
          "Layer 7 expert 3 (logit: 0.571):<br>SION: 0.571<br>agma: 0.569<br>VO: 0.555<br>ched: 0.546<br>pta: 0.542",
          "Layer 8 expert 7 (logit: 0.352):<br>tings: 0.352<br>分配: 0.346<br>тник: 0.340<br>gences: 0.315<br>бан: 0.314",
          "Layer 9 expert 43 (logit: 0.166):<br>abis: 0.166<br>坑: 0.157<br>textstyle: 0.155<br>acios: 0.154<br>�: 0.149",
          "Layer 10 expert 19 (logit: 0.044):<br>Protos: 0.044<br>оте: 0.044<br>otron: 0.043<br>凭: 0.042<br>opot: 0.042",
          "Layer 11 expert 11 (logit: 0.192):<br>um: 0.192<br>cour: 0.182<br>лец: 0.178<br>inx: 0.176<br> първия: 0.174",
          "Layer 12 expert 18 (logit: 0.140):<br>涉: 0.140<br>观众: 0.115<br>regon: 0.114<br>BROWSER: 0.113<br>osevelt: 0.112",
          "Layer 13 expert 38 (logit: 0.353):<br>关: 0.353<br> Entry: 0.336<br>mr: 0.332<br>(: 0.328<br>社: 0.323",
          "Layer 14 expert 40 (logit: 0.170):<br>tna: 0.170<br>ито: 0.160<br>vend: 0.156<br>ACHED: 0.154<br>ghed: 0.149",
          "Layer 15 expert 8 (logit: 1.442):<br>everse: 1.442<br>dish: 1.370<br> sh: 1.242<br>angements: 1.219<br>相信: 1.194",
          "Layer 16 expert 35 (logit: 0.211):<br> loss: 0.211<br>loss: 0.210<br>9: 0.204<br> losses: 0.203<br>Loss: 0.199",
          "Layer 17 expert 5 (logit: 0.409):<br>itiva: 0.409<br>йт: 0.406<br>erent: 0.375<br>ivil: 0.353<br>ashian: 0.349",
          "Layer 18 expert 42 (logit: 0.487):<br>rit: 0.487<br>inks: 0.470<br>oni: 0.457<br>inal: 0.456<br>立体: 0.455",
          "Layer 19 expert 46 (logit: 0.573):<br>лени: 0.573<br>terminate: 0.527<br>گ: 0.481<br>зани: 0.476<br>阁: 0.468",
          "Layer 20 expert 1 (logit: 0.693):<br>way: 0.693<br>WAY: 0.659<br> way: 0.636<br>Way: 0.612<br>ways: 0.570",
          "Layer 21 expert 18 (logit: 1.255):<br>木齐: 1.255<br>крат: 1.123<br> идеи: 1.120<br> Idea: 1.014<br> $\\#: 1.001",
          "Layer 22 expert 10 (logit: 1.180):<br>aried: 1.180<br> recibo: 1.101<br>ymbol: 1.083<br>eble: 1.066<br>ndies: 1.051",
          "Layer 23 expert 26 (logit: 1.045):<br> meaning: 1.045<br>meaning: 1.017<br>ments: 1.017<br>пад: 0.996<br>добре: 0.979",
          "Layer 24 expert 32 (logit: 1.099):<br>chestr: 1.099<br>циа: 1.070<br>enance: 0.995<br>aquests: 0.977<br> _: 0.958",
          "Layer 25 expert 54 (logit: 2.229):<br>Il: 2.229<br> Il: 2.170<br>il: 2.020<br> il: 1.757<br>ils: 1.734",
          "Layer 26 expert 50 (logit: 1.506):<br>ا�: 1.506<br> fitting: 1.345<br> Va: 1.315<br> Mo: 1.292<br> forg: 1.289",
          "Layer 27 expert 27 (logit: 2.473):<br>é: 2.473<br>Ã: 2.182<br>�: 2.119<br>�: 2.070<br>�: 2.053"
         ],
         "marker": {
          "cmax": 66.4375,
          "cmin": 0.0190887451171875,
          "color": [
           null,
           0.201171875,
           0.087158203125,
           0.05926513671875,
           0.09088134765625,
           0.46484375,
           0.34619140625,
           0.5712890625,
           0.35205078125,
           0.1658935546875,
           0.04412841796875,
           0.1923828125,
           0.1400146484375,
           0.353271484375,
           0.1700439453125,
           1.4423828125,
           0.2108154296875,
           0.4091796875,
           0.486572265625,
           0.57275390625,
           0.69287109375,
           1.2548828125,
           1.1796875,
           1.044921875,
           1.0986328125,
           2.228515625,
           1.505859375,
           2.47265625
          ],
          "colorscale": [
           [
            0,
            "rgb(68,1,84)"
           ],
           [
            0.25,
            "rgb(59,82,139)"
           ],
           [
            0.5,
            "rgb(33,144,141)"
           ],
           [
            0.75,
            "rgb(93,201,99)"
           ],
           [
            1,
            "rgb(253,231,37)"
           ]
          ],
          "line": {
           "color": "rgba(255,255,255,0.2)",
           "width": 1
          },
          "showscale": false,
          "size": 50,
          "symbol": "square"
         },
         "mode": "markers",
         "showlegend": false,
         "type": "scatter",
         "x": [
          2,
          2,
          2,
          2,
          2,
          2,
          2,
          2,
          2,
          2,
          2,
          2,
          2,
          2,
          2,
          2,
          2,
          2,
          2,
          2,
          2,
          2,
          2,
          2,
          2,
          2,
          2,
          2
         ],
         "y": [
          0,
          1,
          2,
          3,
          4,
          5,
          6,
          7,
          8,
          9,
          10,
          11,
          12,
          13,
          14,
          15,
          16,
          17,
          18,
          19,
          20,
          21,
          22,
          23,
          24,
          25,
          26,
          27
         ]
        },
        {
         "hoverinfo": "skip",
         "mode": "text",
         "showlegend": false,
         "text": [
          "24",
          "63",
          "29",
          "44",
          "38",
          "6",
          "3",
          "7",
          "43",
          "19",
          "11",
          "18",
          "38",
          "40",
          "8",
          "35",
          "5",
          "42",
          "46",
          "1",
          "18",
          "10",
          "26",
          "32",
          "54",
          "50",
          "27"
         ],
         "textfont": {
          "color": "white",
          "size": 10
         },
         "textposition": "middle center",
         "type": "scatter",
         "x": [
          1.8,
          1.8,
          1.8,
          1.8,
          1.8,
          1.8,
          1.8,
          1.8,
          1.8,
          1.8,
          1.8,
          1.8,
          1.8,
          1.8,
          1.8,
          1.8,
          1.8,
          1.8,
          1.8,
          1.8,
          1.8,
          1.8,
          1.8,
          1.8,
          1.8,
          1.8,
          1.8
         ],
         "y": [
          1.2,
          2.2,
          3.2,
          4.2,
          5.2,
          6.2,
          7.2,
          8.2,
          9.2,
          10.2,
          11.2,
          12.2,
          13.2,
          14.2,
          15.2,
          16.2,
          17.2,
          18.2,
          19.2,
          20.2,
          21.2,
          22.2,
          23.2,
          24.2,
          25.2,
          26.2,
          27.2
         ]
        },
        {
         "hoverinfo": "skip",
         "mode": "text",
         "showlegend": false,
         "text": [
          "копа"
         ],
         "textfont": {
          "color": "white",
          "size": 10
         },
         "textposition": "middle center",
         "type": "scatter",
         "x": [
          2
         ],
         "y": [
          1
         ]
        },
        {
         "hoverinfo": "skip",
         "mode": "text",
         "showlegend": false,
         "text": [
          "elly"
         ],
         "textfont": {
          "color": "white",
          "size": 10
         },
         "textposition": "middle center",
         "type": "scatter",
         "x": [
          2
         ],
         "y": [
          2
         ]
        },
        {
         "hoverinfo": "skip",
         "mode": "text",
         "showlegend": false,
         "text": [
          "ор"
         ],
         "textfont": {
          "color": "white",
          "size": 10
         },
         "textposition": "middle center",
         "type": "scatter",
         "x": [
          2
         ],
         "y": [
          3
         ]
        },
        {
         "hoverinfo": "skip",
         "mode": "text",
         "showlegend": false,
         "text": [
          "ationals"
         ],
         "textfont": {
          "color": "white",
          "size": 10
         },
         "textposition": "middle center",
         "type": "scatter",
         "x": [
          2
         ],
         "y": [
          4
         ]
        },
        {
         "hoverinfo": "skip",
         "mode": "text",
         "showlegend": false,
         "text": [
          "ationals"
         ],
         "textfont": {
          "color": "white",
          "size": 10
         },
         "textposition": "middle center",
         "type": "scatter",
         "x": [
          2
         ],
         "y": [
          5
         ]
        },
        {
         "hoverinfo": "skip",
         "mode": "text",
         "showlegend": false,
         "text": [
          " асоциа"
         ],
         "textfont": {
          "color": "white",
          "size": 10
         },
         "textposition": "middle center",
         "type": "scatter",
         "x": [
          2
         ],
         "y": [
          6
         ]
        },
        {
         "hoverinfo": "skip",
         "mode": "text",
         "showlegend": false,
         "text": [
          "SION"
         ],
         "textfont": {
          "color": "white",
          "size": 10
         },
         "textposition": "middle center",
         "type": "scatter",
         "x": [
          2
         ],
         "y": [
          7
         ]
        },
        {
         "hoverinfo": "skip",
         "mode": "text",
         "showlegend": false,
         "text": [
          "tings"
         ],
         "textfont": {
          "color": "white",
          "size": 10
         },
         "textposition": "middle center",
         "type": "scatter",
         "x": [
          2
         ],
         "y": [
          8
         ]
        },
        {
         "hoverinfo": "skip",
         "mode": "text",
         "showlegend": false,
         "text": [
          "abis"
         ],
         "textfont": {
          "color": "white",
          "size": 10
         },
         "textposition": "middle center",
         "type": "scatter",
         "x": [
          2
         ],
         "y": [
          9
         ]
        },
        {
         "hoverinfo": "skip",
         "mode": "text",
         "showlegend": false,
         "text": [
          "Protos"
         ],
         "textfont": {
          "color": "white",
          "size": 10
         },
         "textposition": "middle center",
         "type": "scatter",
         "x": [
          2
         ],
         "y": [
          10
         ]
        },
        {
         "hoverinfo": "skip",
         "mode": "text",
         "showlegend": false,
         "text": [
          "um"
         ],
         "textfont": {
          "color": "white",
          "size": 10
         },
         "textposition": "middle center",
         "type": "scatter",
         "x": [
          2
         ],
         "y": [
          11
         ]
        },
        {
         "hoverinfo": "skip",
         "mode": "text",
         "showlegend": false,
         "text": [
          "涉"
         ],
         "textfont": {
          "color": "white",
          "size": 10
         },
         "textposition": "middle center",
         "type": "scatter",
         "x": [
          2
         ],
         "y": [
          12
         ]
        },
        {
         "hoverinfo": "skip",
         "mode": "text",
         "showlegend": false,
         "text": [
          "关"
         ],
         "textfont": {
          "color": "white",
          "size": 10
         },
         "textposition": "middle center",
         "type": "scatter",
         "x": [
          2
         ],
         "y": [
          13
         ]
        },
        {
         "hoverinfo": "skip",
         "mode": "text",
         "showlegend": false,
         "text": [
          "tna"
         ],
         "textfont": {
          "color": "white",
          "size": 10
         },
         "textposition": "middle center",
         "type": "scatter",
         "x": [
          2
         ],
         "y": [
          14
         ]
        },
        {
         "hoverinfo": "skip",
         "mode": "text",
         "showlegend": false,
         "text": [
          "everse"
         ],
         "textfont": {
          "color": "white",
          "size": 10
         },
         "textposition": "middle center",
         "type": "scatter",
         "x": [
          2
         ],
         "y": [
          15
         ]
        },
        {
         "hoverinfo": "skip",
         "mode": "text",
         "showlegend": false,
         "text": [
          " loss"
         ],
         "textfont": {
          "color": "white",
          "size": 10
         },
         "textposition": "middle center",
         "type": "scatter",
         "x": [
          2
         ],
         "y": [
          16
         ]
        },
        {
         "hoverinfo": "skip",
         "mode": "text",
         "showlegend": false,
         "text": [
          "itiva"
         ],
         "textfont": {
          "color": "white",
          "size": 10
         },
         "textposition": "middle center",
         "type": "scatter",
         "x": [
          2
         ],
         "y": [
          17
         ]
        },
        {
         "hoverinfo": "skip",
         "mode": "text",
         "showlegend": false,
         "text": [
          "rit"
         ],
         "textfont": {
          "color": "white",
          "size": 10
         },
         "textposition": "middle center",
         "type": "scatter",
         "x": [
          2
         ],
         "y": [
          18
         ]
        },
        {
         "hoverinfo": "skip",
         "mode": "text",
         "showlegend": false,
         "text": [
          "лени"
         ],
         "textfont": {
          "color": "white",
          "size": 10
         },
         "textposition": "middle center",
         "type": "scatter",
         "x": [
          2
         ],
         "y": [
          19
         ]
        },
        {
         "hoverinfo": "skip",
         "mode": "text",
         "showlegend": false,
         "text": [
          "way"
         ],
         "textfont": {
          "color": "white",
          "size": 10
         },
         "textposition": "middle center",
         "type": "scatter",
         "x": [
          2
         ],
         "y": [
          20
         ]
        },
        {
         "hoverinfo": "skip",
         "mode": "text",
         "showlegend": false,
         "text": [
          "木齐"
         ],
         "textfont": {
          "color": "white",
          "size": 10
         },
         "textposition": "middle center",
         "type": "scatter",
         "x": [
          2
         ],
         "y": [
          21
         ]
        },
        {
         "hoverinfo": "skip",
         "mode": "text",
         "showlegend": false,
         "text": [
          "aried"
         ],
         "textfont": {
          "color": "white",
          "size": 10
         },
         "textposition": "middle center",
         "type": "scatter",
         "x": [
          2
         ],
         "y": [
          22
         ]
        },
        {
         "hoverinfo": "skip",
         "mode": "text",
         "showlegend": false,
         "text": [
          " meaning"
         ],
         "textfont": {
          "color": "white",
          "size": 10
         },
         "textposition": "middle center",
         "type": "scatter",
         "x": [
          2
         ],
         "y": [
          23
         ]
        },
        {
         "hoverinfo": "skip",
         "mode": "text",
         "showlegend": false,
         "text": [
          "chestr"
         ],
         "textfont": {
          "color": "white",
          "size": 10
         },
         "textposition": "middle center",
         "type": "scatter",
         "x": [
          2
         ],
         "y": [
          24
         ]
        },
        {
         "hoverinfo": "skip",
         "mode": "text",
         "showlegend": false,
         "text": [
          "Il"
         ],
         "textfont": {
          "color": "white",
          "size": 10
         },
         "textposition": "middle center",
         "type": "scatter",
         "x": [
          2
         ],
         "y": [
          25
         ]
        },
        {
         "hoverinfo": "skip",
         "mode": "text",
         "showlegend": false,
         "text": [
          "ا�"
         ],
         "textfont": {
          "color": "white",
          "size": 10
         },
         "textposition": "middle center",
         "type": "scatter",
         "x": [
          2
         ],
         "y": [
          26
         ]
        },
        {
         "hoverinfo": "skip",
         "mode": "text",
         "showlegend": false,
         "text": [
          "é"
         ],
         "textfont": {
          "color": "white",
          "size": 10
         },
         "textposition": "middle center",
         "type": "scatter",
         "x": [
          2
         ],
         "y": [
          27
         ]
        },
        {
         "hoverinfo": "text",
         "hovertext": [
          "Layer 0 expert_3:<br>No data",
          "Layer 1 expert 57 (logit: 0.192):<br>resos: 0.192<br>ittal: 0.178<br>geu: 0.176<br>pez: 0.160<br>янов: 0.159",
          "Layer 2 expert 2 (logit: 0.136):<br>кулп: 0.136<br>洪: 0.129<br>入市: 0.127<br>orb: 0.126<br>浩: 0.125",
          "Layer 3 expert 55 (logit: 0.157):<br>ugi: 0.157<br>ivi: 0.147<br>isel: 0.138<br>asiness: 0.133<br>corresponds: 0.132",
          "Layer 4 expert 39 (logit: 0.125):<br> part: 0.125<br>快: 0.114<br>heet: 0.102<br>post: 0.096<br>通道: 0.095",
          "Layer 5 expert 34 (logit: 0.318):<br>ailable: 0.318<br>IRE: 0.283<br> +/-: 0.276<br>lr: 0.272<br> É: 0.266",
          "Layer 6 expert 50 (logit: 0.487):<br>iceless: 0.487<br>uls: 0.449<br> хода: 0.428<br>йна: 0.419<br>ular: 0.417",
          "Layer 7 expert 23 (logit: 0.335):<br>ghed: 0.335<br>ums: 0.320<br>aved: 0.302<br> дотогава: 0.299<br> equilibrium: 0.292",
          "Layer 8 expert 58 (logit: 0.483):<br>3: 0.483<br>5: 0.476<br>7: 0.467<br>2: 0.464<br>8: 0.462",
          "Layer 9 expert 7 (logit: 0.210):<br>topNav: 0.210<br>enedor: 0.207<br>avity: 0.205<br>viure: 0.203<br> опреде: 0.194",
          "Layer 10 expert 45 (logit: 0.034):<br>inclo: 0.034<br>lega: 0.033<br>SPHINX: 0.033<br>��: 0.033<br>ober: 0.032",
          "Layer 11 expert 15 (logit: 0.147):<br>免: 0.147<br>дио: 0.146<br>uese: 0.140<br>omia: 0.138<br>igis: 0.137",
          "Layer 12 expert 4 (logit: 0.534):<br>isabs: 0.534<br> laps: 0.529<br>��: 0.525<br>Област: 0.510<br> Mil: 0.500",
          "Layer 13 expert 24 (logit: 0.550):<br>ernel: 0.550<br>ReadWriteAccess: 0.542<br>NonUser: 0.521<br> dimit: 0.508<br>OperationKind: 0.483",
          "Layer 14 expert 30 (logit: 0.645):<br>orca: 0.645<br>essee: 0.576<br>FRE: 0.552<br>�: 0.549<br>arlo: 0.544",
          "Layer 15 expert 6 (logit: 0.845):<br> llet: 0.845<br>anque: 0.822<br>[--: 0.809<br>gdx: 0.808<br>emptat: 0.798",
          "Layer 16 expert 15 (logit: 0.254):<br>shall: 0.254<br>1: 0.250<br>6: 0.248<br>0: 0.243<br>4: 0.235",
          "Layer 17 expert 38 (logit: 0.352):<br>迎: 0.352<br>rap: 0.321<br>险: 0.320<br>amin: 0.315<br>uges: 0.315",
          "Layer 18 expert 29 (logit: 0.816):<br>ifmmode: 0.816<br>fmf: 0.807<br>emano: 0.782<br>thood: 0.752<br>��: 0.752",
          "Layer 19 expert 49 (logit: 0.442):<br>幸: 0.442<br>维: 0.427<br>阅: 0.408<br>ката: 0.395<br>omo: 0.383",
          "Layer 20 expert 41 (logit: 0.431):<br>тана: 0.431<br>tablenot: 0.409<br>AGA: 0.379<br>摄: 0.374<br>vphantom: 0.373",
          "Layer 21 expert 21 (logit: 0.381):<br> avent: 0.381<br>jre: 0.377<br>цията: 0.367<br>aset: 0.364<br> Ev: 0.361",
          "Layer 22 expert 35 (logit: 0.955):<br>next: 0.955<br> next: 0.893<br>Next: 0.829<br> NEXT: 0.823<br> Internet: 0.751",
          "Layer 23 expert 48 (logit: 2.045):<br>oldt: 2.045<br>gence: 2.041<br>upef: 1.855<br>合: 1.840<br>head: 1.835",
          "Layer 24 expert 9 (logit: 2.127):<br>ttle: 2.127<br>ви: 2.121<br> Flight: 2.096<br>爷: 2.086<br>on: 2.012",
          "Layer 25 expert 40 (logit: 1.137):<br>utaci: 1.137<br>��: 1.114<br>apol: 1.032<br>fiques: 0.991<br>itari: 0.983",
          "Layer 26 expert 58 (logit: 0.719):<br>靖: 0.719<br> n: 0.680<br>stries: 0.672<br>idual: 0.658<br>циал: 0.644",
          "Layer 27 expert 49 (logit: 0.203):<br>ful: 0.203<br>fuls: 0.195<br>y: 0.187<br> size: 0.183<br>fter: 0.182"
         ],
         "marker": {
          "cmax": 66.4375,
          "cmin": 0.0190887451171875,
          "color": [
           null,
           0.19189453125,
           0.1361083984375,
           0.1566162109375,
           0.12548828125,
           0.318359375,
           0.4873046875,
           0.3349609375,
           0.48291015625,
           0.2103271484375,
           0.034088134765625,
           0.1474609375,
           0.53369140625,
           0.55029296875,
           0.64501953125,
           0.84521484375,
           0.253662109375,
           0.352294921875,
           0.81640625,
           0.44189453125,
           0.43115234375,
           0.380859375,
           0.955078125,
           2.044921875,
           2.126953125,
           1.13671875,
           0.71875,
           0.2027587890625
          ],
          "colorscale": [
           [
            0,
            "rgb(68,1,84)"
           ],
           [
            0.25,
            "rgb(59,82,139)"
           ],
           [
            0.5,
            "rgb(33,144,141)"
           ],
           [
            0.75,
            "rgb(93,201,99)"
           ],
           [
            1,
            "rgb(253,231,37)"
           ]
          ],
          "line": {
           "color": "rgba(255,255,255,0.2)",
           "width": 1
          },
          "showscale": false,
          "size": 50,
          "symbol": "square"
         },
         "mode": "markers",
         "showlegend": false,
         "type": "scatter",
         "x": [
          3,
          3,
          3,
          3,
          3,
          3,
          3,
          3,
          3,
          3,
          3,
          3,
          3,
          3,
          3,
          3,
          3,
          3,
          3,
          3,
          3,
          3,
          3,
          3,
          3,
          3,
          3,
          3
         ],
         "y": [
          0,
          1,
          2,
          3,
          4,
          5,
          6,
          7,
          8,
          9,
          10,
          11,
          12,
          13,
          14,
          15,
          16,
          17,
          18,
          19,
          20,
          21,
          22,
          23,
          24,
          25,
          26,
          27
         ]
        },
        {
         "hoverinfo": "skip",
         "mode": "text",
         "showlegend": false,
         "text": [
          "57",
          "2",
          "55",
          "39",
          "34",
          "50",
          "23",
          "58",
          "7",
          "45",
          "15",
          "4",
          "24",
          "30",
          "6",
          "15",
          "38",
          "29",
          "49",
          "41",
          "21",
          "35",
          "48",
          "9",
          "40",
          "58",
          "49"
         ],
         "textfont": {
          "color": "white",
          "size": 10
         },
         "textposition": "middle center",
         "type": "scatter",
         "x": [
          2.8,
          2.8,
          2.8,
          2.8,
          2.8,
          2.8,
          2.8,
          2.8,
          2.8,
          2.8,
          2.8,
          2.8,
          2.8,
          2.8,
          2.8,
          2.8,
          2.8,
          2.8,
          2.8,
          2.8,
          2.8,
          2.8,
          2.8,
          2.8,
          2.8,
          2.8,
          2.8
         ],
         "y": [
          1.2,
          2.2,
          3.2,
          4.2,
          5.2,
          6.2,
          7.2,
          8.2,
          9.2,
          10.2,
          11.2,
          12.2,
          13.2,
          14.2,
          15.2,
          16.2,
          17.2,
          18.2,
          19.2,
          20.2,
          21.2,
          22.2,
          23.2,
          24.2,
          25.2,
          26.2,
          27.2
         ]
        },
        {
         "hoverinfo": "skip",
         "mode": "text",
         "showlegend": false,
         "text": [
          "resos"
         ],
         "textfont": {
          "color": "white",
          "size": 10
         },
         "textposition": "middle center",
         "type": "scatter",
         "x": [
          3
         ],
         "y": [
          1
         ]
        },
        {
         "hoverinfo": "skip",
         "mode": "text",
         "showlegend": false,
         "text": [
          "кулп"
         ],
         "textfont": {
          "color": "white",
          "size": 10
         },
         "textposition": "middle center",
         "type": "scatter",
         "x": [
          3
         ],
         "y": [
          2
         ]
        },
        {
         "hoverinfo": "skip",
         "mode": "text",
         "showlegend": false,
         "text": [
          "ugi"
         ],
         "textfont": {
          "color": "white",
          "size": 10
         },
         "textposition": "middle center",
         "type": "scatter",
         "x": [
          3
         ],
         "y": [
          3
         ]
        },
        {
         "hoverinfo": "skip",
         "mode": "text",
         "showlegend": false,
         "text": [
          " part"
         ],
         "textfont": {
          "color": "white",
          "size": 10
         },
         "textposition": "middle center",
         "type": "scatter",
         "x": [
          3
         ],
         "y": [
          4
         ]
        },
        {
         "hoverinfo": "skip",
         "mode": "text",
         "showlegend": false,
         "text": [
          "ailable"
         ],
         "textfont": {
          "color": "white",
          "size": 10
         },
         "textposition": "middle center",
         "type": "scatter",
         "x": [
          3
         ],
         "y": [
          5
         ]
        },
        {
         "hoverinfo": "skip",
         "mode": "text",
         "showlegend": false,
         "text": [
          "iceless"
         ],
         "textfont": {
          "color": "white",
          "size": 10
         },
         "textposition": "middle center",
         "type": "scatter",
         "x": [
          3
         ],
         "y": [
          6
         ]
        },
        {
         "hoverinfo": "skip",
         "mode": "text",
         "showlegend": false,
         "text": [
          "ghed"
         ],
         "textfont": {
          "color": "white",
          "size": 10
         },
         "textposition": "middle center",
         "type": "scatter",
         "x": [
          3
         ],
         "y": [
          7
         ]
        },
        {
         "hoverinfo": "skip",
         "mode": "text",
         "showlegend": false,
         "text": [
          "3"
         ],
         "textfont": {
          "color": "white",
          "size": 10
         },
         "textposition": "middle center",
         "type": "scatter",
         "x": [
          3
         ],
         "y": [
          8
         ]
        },
        {
         "hoverinfo": "skip",
         "mode": "text",
         "showlegend": false,
         "text": [
          "topNav"
         ],
         "textfont": {
          "color": "white",
          "size": 10
         },
         "textposition": "middle center",
         "type": "scatter",
         "x": [
          3
         ],
         "y": [
          9
         ]
        },
        {
         "hoverinfo": "skip",
         "mode": "text",
         "showlegend": false,
         "text": [
          "inclo"
         ],
         "textfont": {
          "color": "white",
          "size": 10
         },
         "textposition": "middle center",
         "type": "scatter",
         "x": [
          3
         ],
         "y": [
          10
         ]
        },
        {
         "hoverinfo": "skip",
         "mode": "text",
         "showlegend": false,
         "text": [
          "免"
         ],
         "textfont": {
          "color": "white",
          "size": 10
         },
         "textposition": "middle center",
         "type": "scatter",
         "x": [
          3
         ],
         "y": [
          11
         ]
        },
        {
         "hoverinfo": "skip",
         "mode": "text",
         "showlegend": false,
         "text": [
          "isabs"
         ],
         "textfont": {
          "color": "white",
          "size": 10
         },
         "textposition": "middle center",
         "type": "scatter",
         "x": [
          3
         ],
         "y": [
          12
         ]
        },
        {
         "hoverinfo": "skip",
         "mode": "text",
         "showlegend": false,
         "text": [
          "ernel"
         ],
         "textfont": {
          "color": "white",
          "size": 10
         },
         "textposition": "middle center",
         "type": "scatter",
         "x": [
          3
         ],
         "y": [
          13
         ]
        },
        {
         "hoverinfo": "skip",
         "mode": "text",
         "showlegend": false,
         "text": [
          "orca"
         ],
         "textfont": {
          "color": "white",
          "size": 10
         },
         "textposition": "middle center",
         "type": "scatter",
         "x": [
          3
         ],
         "y": [
          14
         ]
        },
        {
         "hoverinfo": "skip",
         "mode": "text",
         "showlegend": false,
         "text": [
          " llet"
         ],
         "textfont": {
          "color": "white",
          "size": 10
         },
         "textposition": "middle center",
         "type": "scatter",
         "x": [
          3
         ],
         "y": [
          15
         ]
        },
        {
         "hoverinfo": "skip",
         "mode": "text",
         "showlegend": false,
         "text": [
          "shall"
         ],
         "textfont": {
          "color": "white",
          "size": 10
         },
         "textposition": "middle center",
         "type": "scatter",
         "x": [
          3
         ],
         "y": [
          16
         ]
        },
        {
         "hoverinfo": "skip",
         "mode": "text",
         "showlegend": false,
         "text": [
          "迎"
         ],
         "textfont": {
          "color": "white",
          "size": 10
         },
         "textposition": "middle center",
         "type": "scatter",
         "x": [
          3
         ],
         "y": [
          17
         ]
        },
        {
         "hoverinfo": "skip",
         "mode": "text",
         "showlegend": false,
         "text": [
          "ifmmode"
         ],
         "textfont": {
          "color": "white",
          "size": 10
         },
         "textposition": "middle center",
         "type": "scatter",
         "x": [
          3
         ],
         "y": [
          18
         ]
        },
        {
         "hoverinfo": "skip",
         "mode": "text",
         "showlegend": false,
         "text": [
          "幸"
         ],
         "textfont": {
          "color": "white",
          "size": 10
         },
         "textposition": "middle center",
         "type": "scatter",
         "x": [
          3
         ],
         "y": [
          19
         ]
        },
        {
         "hoverinfo": "skip",
         "mode": "text",
         "showlegend": false,
         "text": [
          "тана"
         ],
         "textfont": {
          "color": "white",
          "size": 10
         },
         "textposition": "middle center",
         "type": "scatter",
         "x": [
          3
         ],
         "y": [
          20
         ]
        },
        {
         "hoverinfo": "skip",
         "mode": "text",
         "showlegend": false,
         "text": [
          " avent"
         ],
         "textfont": {
          "color": "white",
          "size": 10
         },
         "textposition": "middle center",
         "type": "scatter",
         "x": [
          3
         ],
         "y": [
          21
         ]
        },
        {
         "hoverinfo": "skip",
         "mode": "text",
         "showlegend": false,
         "text": [
          "next"
         ],
         "textfont": {
          "color": "white",
          "size": 10
         },
         "textposition": "middle center",
         "type": "scatter",
         "x": [
          3
         ],
         "y": [
          22
         ]
        },
        {
         "hoverinfo": "skip",
         "mode": "text",
         "showlegend": false,
         "text": [
          "oldt"
         ],
         "textfont": {
          "color": "white",
          "size": 10
         },
         "textposition": "middle center",
         "type": "scatter",
         "x": [
          3
         ],
         "y": [
          23
         ]
        },
        {
         "hoverinfo": "skip",
         "mode": "text",
         "showlegend": false,
         "text": [
          "ttle"
         ],
         "textfont": {
          "color": "white",
          "size": 10
         },
         "textposition": "middle center",
         "type": "scatter",
         "x": [
          3
         ],
         "y": [
          24
         ]
        },
        {
         "hoverinfo": "skip",
         "mode": "text",
         "showlegend": false,
         "text": [
          "utaci"
         ],
         "textfont": {
          "color": "white",
          "size": 10
         },
         "textposition": "middle center",
         "type": "scatter",
         "x": [
          3
         ],
         "y": [
          25
         ]
        },
        {
         "hoverinfo": "skip",
         "mode": "text",
         "showlegend": false,
         "text": [
          "靖"
         ],
         "textfont": {
          "color": "white",
          "size": 10
         },
         "textposition": "middle center",
         "type": "scatter",
         "x": [
          3
         ],
         "y": [
          26
         ]
        },
        {
         "hoverinfo": "skip",
         "mode": "text",
         "showlegend": false,
         "text": [
          "ful"
         ],
         "textfont": {
          "color": "white",
          "size": 10
         },
         "textposition": "middle center",
         "type": "scatter",
         "x": [
          3
         ],
         "y": [
          27
         ]
        },
        {
         "hoverinfo": "text",
         "hovertext": [
          "Layer 0 expert_4:<br>No data",
          "Layer 1 expert 37 (logit: 0.019):<br>ST: 0.019<br>0: 0.018<br>vol: 0.018<br> ST: 0.017<br>mo: 0.016",
          "Layer 2 expert 48 (logit: 0.150):<br>фелд: 0.150<br> философ: 0.140<br>igon: 0.139<br>rality: 0.134<br>ограф: 0.133",
          "Layer 3 expert 44 (logit: 0.084):<br>��: 0.084<br>�乐: 0.074<br>xchange: 0.074<br> експе: 0.073<br>AIPS: 0.070",
          "Layer 4 expert 13 (logit: 0.111):<br>реди: 0.111<br>erals: 0.103<br>ERAL: 0.096<br>писи: 0.096<br>вици: 0.095",
          "Layer 5 expert 54 (logit: 0.164):<br>uelen: 0.164<br> xif: 0.163<br>uento: 0.163<br>хт: 0.137<br>eturn: 0.130",
          "Layer 6 expert 58 (logit: 0.095):<br>ioses: 0.095<br>стре: 0.094<br>ERTIES: 0.089<br> OTP: 0.088<br>ughtered: 0.086",
          "Layer 7 expert 24 (logit: 0.113):<br>�: 0.113<br>�: 0.109<br> estudia: 0.109<br>фт: 0.108<br>hma: 0.107",
          "Layer 8 expert 63 (logit: 0.350):<br>_: 0.350<br> contents: 0.324<br>plusplus: 0.318<br>Z: 0.308<br>гри: 0.299",
          "Layer 9 expert 63 (logit: 1.809):<br>ravings: 1.809<br>rawling: 1.791<br>ituds: 1.732<br>erenced: 1.703<br>ample: 1.662",
          "Layer 10 expert 42 (logit: 0.357):<br>яна: 0.357<br> fres: 0.354<br>frak: 0.305<br>andes: 0.298<br>卸: 0.297",
          "Layer 11 expert 3 (logit: 0.148):<br>vip: 0.148<br>ter: 0.148<br>aker: 0.147<br>rely: 0.144<br>lets: 0.143",
          "Layer 12 expert 7 (logit: 0.204):<br>早: 0.204<br>raine: 0.197<br>碱: 0.195<br>čí: 0.193<br>ITE: 0.189",
          "Layer 13 expert 0 (logit: 0.414):<br>erness: 0.414<br>$~: 0.406<br>uric: 0.365<br>ients: 0.341<br>�: 0.340",
          "Layer 14 expert 12 (logit: 0.382):<br>zzo: 0.382<br>perties: 0.377<br>adol: 0.371<br>萄: 0.354<br>新浪看点: 0.350",
          "Layer 15 expert 4 (logit: 0.678):<br>кен: 0.678<br>ending: 0.645<br>EndDate: 0.642<br>CEED: 0.627<br> indi: 0.559",
          "Layer 16 expert 47 (logit: 0.236):<br>Extensions: 0.236<br>extensi: 0.222<br>PropertyName: 0.220<br>сни: 0.215<br>RSS: 0.209",
          "Layer 17 expert 35 (logit: 0.144):<br>htdocs: 0.144<br> Pel: 0.129<br>orials: 0.123<br>Pel: 0.121<br>avian: 0.120",
          "Layer 18 expert 13 (logit: 0.103):<br>zers: 0.103<br>рии: 0.102<br>仅代表作者本人观点: 0.100<br>rib: 0.095<br>IES: 0.094",
          "Layer 19 expert 43 (logit: 0.638):<br>raved: 0.638<br>USTERED: 0.615<br>aturally: 0.610<br>ICAST: 0.568<br>WireFormat: 0.560",
          "Layer 20 expert 34 (logit: 0.452):<br>hampton: 0.452<br>::$: 0.449<br>anan: 0.439<br> Константинопол: 0.432<br> Кей: 0.429",
          "Layer 21 expert 5 (logit: 0.755):<br> scene: 0.755<br> sonora: 0.682<br>rh: 0.656<br>ango: 0.649<br> Хари: 0.639",
          "Layer 22 expert 24 (logit: 0.961):<br>富: 0.961<br>CAL: 0.703<br> CAL: 0.675<br> l: 0.666<br> Live: 0.658",
          "Layer 23 expert 24 (logit: 0.977):<br>стина: 0.977<br>唯: 0.965<br>�: 0.948<br> BO: 0.912<br> l: 0.890",
          "Layer 24 expert 12 (logit: 0.218):<br>trx: 0.218<br>riger: 0.211<br>три: 0.208<br>良: 0.208<br>iers: 0.205",
          "Layer 25 expert 17 (logit: 0.839):<br>ca: 0.839<br> si: 0.838<br>API: 0.824<br>0: 0.789<br>ultura: 0.775",
          "Layer 26 expert 2 (logit: 0.664):<br>yya: 0.664<br>сий: 0.648<br>дръ: 0.646<br> съм: 0.612<br>quired: 0.604",
          "Layer 27 expert 60 (logit: 0.375):<br> H: 0.375<br>H: 0.349<br>F: 0.332<br>M: 0.309<br>P: 0.292"
         ],
         "marker": {
          "cmax": 66.4375,
          "cmin": 0.0190887451171875,
          "color": [
           null,
           0.0190887451171875,
           0.1495361328125,
           0.0838623046875,
           0.11065673828125,
           0.1641845703125,
           0.09521484375,
           0.1131591796875,
           0.349853515625,
           1.80859375,
           0.35693359375,
           0.1484375,
           0.2037353515625,
           0.41357421875,
           0.382080078125,
           0.67822265625,
           0.235595703125,
           0.1436767578125,
           0.10345458984375,
           0.6376953125,
           0.452392578125,
           0.75537109375,
           0.9609375,
           0.9765625,
           0.2176513671875,
           0.8388671875,
           0.6640625,
           0.375244140625
          ],
          "colorscale": [
           [
            0,
            "rgb(68,1,84)"
           ],
           [
            0.25,
            "rgb(59,82,139)"
           ],
           [
            0.5,
            "rgb(33,144,141)"
           ],
           [
            0.75,
            "rgb(93,201,99)"
           ],
           [
            1,
            "rgb(253,231,37)"
           ]
          ],
          "line": {
           "color": "rgba(255,255,255,0.2)",
           "width": 1
          },
          "showscale": false,
          "size": 50,
          "symbol": "square"
         },
         "mode": "markers",
         "showlegend": false,
         "type": "scatter",
         "x": [
          4,
          4,
          4,
          4,
          4,
          4,
          4,
          4,
          4,
          4,
          4,
          4,
          4,
          4,
          4,
          4,
          4,
          4,
          4,
          4,
          4,
          4,
          4,
          4,
          4,
          4,
          4,
          4
         ],
         "y": [
          0,
          1,
          2,
          3,
          4,
          5,
          6,
          7,
          8,
          9,
          10,
          11,
          12,
          13,
          14,
          15,
          16,
          17,
          18,
          19,
          20,
          21,
          22,
          23,
          24,
          25,
          26,
          27
         ]
        },
        {
         "hoverinfo": "skip",
         "mode": "text",
         "showlegend": false,
         "text": [
          "37",
          "48",
          "44",
          "13",
          "54",
          "58",
          "24",
          "63",
          "63",
          "42",
          "3",
          "7",
          "0",
          "12",
          "4",
          "47",
          "35",
          "13",
          "43",
          "34",
          "5",
          "24",
          "24",
          "12",
          "17",
          "2",
          "60"
         ],
         "textfont": {
          "color": "white",
          "size": 10
         },
         "textposition": "middle center",
         "type": "scatter",
         "x": [
          3.8,
          3.8,
          3.8,
          3.8,
          3.8,
          3.8,
          3.8,
          3.8,
          3.8,
          3.8,
          3.8,
          3.8,
          3.8,
          3.8,
          3.8,
          3.8,
          3.8,
          3.8,
          3.8,
          3.8,
          3.8,
          3.8,
          3.8,
          3.8,
          3.8,
          3.8,
          3.8
         ],
         "y": [
          1.2,
          2.2,
          3.2,
          4.2,
          5.2,
          6.2,
          7.2,
          8.2,
          9.2,
          10.2,
          11.2,
          12.2,
          13.2,
          14.2,
          15.2,
          16.2,
          17.2,
          18.2,
          19.2,
          20.2,
          21.2,
          22.2,
          23.2,
          24.2,
          25.2,
          26.2,
          27.2
         ]
        },
        {
         "hoverinfo": "skip",
         "mode": "text",
         "showlegend": false,
         "text": [
          "ST"
         ],
         "textfont": {
          "color": "white",
          "size": 10
         },
         "textposition": "middle center",
         "type": "scatter",
         "x": [
          4
         ],
         "y": [
          1
         ]
        },
        {
         "hoverinfo": "skip",
         "mode": "text",
         "showlegend": false,
         "text": [
          "фелд"
         ],
         "textfont": {
          "color": "white",
          "size": 10
         },
         "textposition": "middle center",
         "type": "scatter",
         "x": [
          4
         ],
         "y": [
          2
         ]
        },
        {
         "hoverinfo": "skip",
         "mode": "text",
         "showlegend": false,
         "text": [
          "��"
         ],
         "textfont": {
          "color": "white",
          "size": 10
         },
         "textposition": "middle center",
         "type": "scatter",
         "x": [
          4
         ],
         "y": [
          3
         ]
        },
        {
         "hoverinfo": "skip",
         "mode": "text",
         "showlegend": false,
         "text": [
          "реди"
         ],
         "textfont": {
          "color": "white",
          "size": 10
         },
         "textposition": "middle center",
         "type": "scatter",
         "x": [
          4
         ],
         "y": [
          4
         ]
        },
        {
         "hoverinfo": "skip",
         "mode": "text",
         "showlegend": false,
         "text": [
          "uelen"
         ],
         "textfont": {
          "color": "white",
          "size": 10
         },
         "textposition": "middle center",
         "type": "scatter",
         "x": [
          4
         ],
         "y": [
          5
         ]
        },
        {
         "hoverinfo": "skip",
         "mode": "text",
         "showlegend": false,
         "text": [
          "ioses"
         ],
         "textfont": {
          "color": "white",
          "size": 10
         },
         "textposition": "middle center",
         "type": "scatter",
         "x": [
          4
         ],
         "y": [
          6
         ]
        },
        {
         "hoverinfo": "skip",
         "mode": "text",
         "showlegend": false,
         "text": [
          "�"
         ],
         "textfont": {
          "color": "white",
          "size": 10
         },
         "textposition": "middle center",
         "type": "scatter",
         "x": [
          4
         ],
         "y": [
          7
         ]
        },
        {
         "hoverinfo": "skip",
         "mode": "text",
         "showlegend": false,
         "text": [
          "_"
         ],
         "textfont": {
          "color": "white",
          "size": 10
         },
         "textposition": "middle center",
         "type": "scatter",
         "x": [
          4
         ],
         "y": [
          8
         ]
        },
        {
         "hoverinfo": "skip",
         "mode": "text",
         "showlegend": false,
         "text": [
          "ravings"
         ],
         "textfont": {
          "color": "white",
          "size": 10
         },
         "textposition": "middle center",
         "type": "scatter",
         "x": [
          4
         ],
         "y": [
          9
         ]
        },
        {
         "hoverinfo": "skip",
         "mode": "text",
         "showlegend": false,
         "text": [
          "яна"
         ],
         "textfont": {
          "color": "white",
          "size": 10
         },
         "textposition": "middle center",
         "type": "scatter",
         "x": [
          4
         ],
         "y": [
          10
         ]
        },
        {
         "hoverinfo": "skip",
         "mode": "text",
         "showlegend": false,
         "text": [
          "vip"
         ],
         "textfont": {
          "color": "white",
          "size": 10
         },
         "textposition": "middle center",
         "type": "scatter",
         "x": [
          4
         ],
         "y": [
          11
         ]
        },
        {
         "hoverinfo": "skip",
         "mode": "text",
         "showlegend": false,
         "text": [
          "早"
         ],
         "textfont": {
          "color": "white",
          "size": 10
         },
         "textposition": "middle center",
         "type": "scatter",
         "x": [
          4
         ],
         "y": [
          12
         ]
        },
        {
         "hoverinfo": "skip",
         "mode": "text",
         "showlegend": false,
         "text": [
          "erness"
         ],
         "textfont": {
          "color": "white",
          "size": 10
         },
         "textposition": "middle center",
         "type": "scatter",
         "x": [
          4
         ],
         "y": [
          13
         ]
        },
        {
         "hoverinfo": "skip",
         "mode": "text",
         "showlegend": false,
         "text": [
          "zzo"
         ],
         "textfont": {
          "color": "white",
          "size": 10
         },
         "textposition": "middle center",
         "type": "scatter",
         "x": [
          4
         ],
         "y": [
          14
         ]
        },
        {
         "hoverinfo": "skip",
         "mode": "text",
         "showlegend": false,
         "text": [
          "кен"
         ],
         "textfont": {
          "color": "white",
          "size": 10
         },
         "textposition": "middle center",
         "type": "scatter",
         "x": [
          4
         ],
         "y": [
          15
         ]
        },
        {
         "hoverinfo": "skip",
         "mode": "text",
         "showlegend": false,
         "text": [
          "Extensions"
         ],
         "textfont": {
          "color": "white",
          "size": 10
         },
         "textposition": "middle center",
         "type": "scatter",
         "x": [
          4
         ],
         "y": [
          16
         ]
        },
        {
         "hoverinfo": "skip",
         "mode": "text",
         "showlegend": false,
         "text": [
          "htdocs"
         ],
         "textfont": {
          "color": "white",
          "size": 10
         },
         "textposition": "middle center",
         "type": "scatter",
         "x": [
          4
         ],
         "y": [
          17
         ]
        },
        {
         "hoverinfo": "skip",
         "mode": "text",
         "showlegend": false,
         "text": [
          "zers"
         ],
         "textfont": {
          "color": "white",
          "size": 10
         },
         "textposition": "middle center",
         "type": "scatter",
         "x": [
          4
         ],
         "y": [
          18
         ]
        },
        {
         "hoverinfo": "skip",
         "mode": "text",
         "showlegend": false,
         "text": [
          "raved"
         ],
         "textfont": {
          "color": "white",
          "size": 10
         },
         "textposition": "middle center",
         "type": "scatter",
         "x": [
          4
         ],
         "y": [
          19
         ]
        },
        {
         "hoverinfo": "skip",
         "mode": "text",
         "showlegend": false,
         "text": [
          "hampton"
         ],
         "textfont": {
          "color": "white",
          "size": 10
         },
         "textposition": "middle center",
         "type": "scatter",
         "x": [
          4
         ],
         "y": [
          20
         ]
        },
        {
         "hoverinfo": "skip",
         "mode": "text",
         "showlegend": false,
         "text": [
          " scene"
         ],
         "textfont": {
          "color": "white",
          "size": 10
         },
         "textposition": "middle center",
         "type": "scatter",
         "x": [
          4
         ],
         "y": [
          21
         ]
        },
        {
         "hoverinfo": "skip",
         "mode": "text",
         "showlegend": false,
         "text": [
          "富"
         ],
         "textfont": {
          "color": "white",
          "size": 10
         },
         "textposition": "middle center",
         "type": "scatter",
         "x": [
          4
         ],
         "y": [
          22
         ]
        },
        {
         "hoverinfo": "skip",
         "mode": "text",
         "showlegend": false,
         "text": [
          "стина"
         ],
         "textfont": {
          "color": "white",
          "size": 10
         },
         "textposition": "middle center",
         "type": "scatter",
         "x": [
          4
         ],
         "y": [
          23
         ]
        },
        {
         "hoverinfo": "skip",
         "mode": "text",
         "showlegend": false,
         "text": [
          "trx"
         ],
         "textfont": {
          "color": "white",
          "size": 10
         },
         "textposition": "middle center",
         "type": "scatter",
         "x": [
          4
         ],
         "y": [
          24
         ]
        },
        {
         "hoverinfo": "skip",
         "mode": "text",
         "showlegend": false,
         "text": [
          "ca"
         ],
         "textfont": {
          "color": "white",
          "size": 10
         },
         "textposition": "middle center",
         "type": "scatter",
         "x": [
          4
         ],
         "y": [
          25
         ]
        },
        {
         "hoverinfo": "skip",
         "mode": "text",
         "showlegend": false,
         "text": [
          "yya"
         ],
         "textfont": {
          "color": "white",
          "size": 10
         },
         "textposition": "middle center",
         "type": "scatter",
         "x": [
          4
         ],
         "y": [
          26
         ]
        },
        {
         "hoverinfo": "skip",
         "mode": "text",
         "showlegend": false,
         "text": [
          " H"
         ],
         "textfont": {
          "color": "white",
          "size": 10
         },
         "textposition": "middle center",
         "type": "scatter",
         "x": [
          4
         ],
         "y": [
          27
         ]
        },
        {
         "hoverinfo": "text",
         "hovertext": [
          "Layer 0 expert_5:<br>No data",
          "Layer 1 expert 44 (logit: 0.027):<br>еди: 0.027<br>rament: 0.027<br>ogon: 0.026<br>uff: 0.025<br>iner: 0.025",
          "Layer 2 expert 61 (logit: 0.259):<br>o: 0.259<br>фон: 0.233<br>�: 0.216<br>близ: 0.215<br>oo: 0.207",
          "Layer 3 expert 26 (logit: 0.053):<br>实: 0.053<br>Ex: 0.051<br>isb: 0.051<br>sku: 0.050<br> Ex: 0.050",
          "Layer 4 expert 28 (logit: 0.615):<br>гани: 0.615<br>mach: 0.542<br>дено: 0.502<br> Rovira: 0.495<br>edn: 0.495",
          "Layer 5 expert 30 (logit: 0.153):<br>NonUser: 0.153<br>ExternalTask: 0.151<br>CALLTYPE: 0.140<br>Ungrouped: 0.138<br>icolon: 0.135",
          "Layer 6 expert 56 (logit: 0.406):<br>��: 0.406<br>urats: 0.366<br>pgdp: 0.313<br>tingen: 0.293<br>illos: 0.292",
          "Layer 7 expert 41 (logit: 0.214):<br>ikan: 0.214<br>�: 0.192<br>etcher: 0.176<br>矛: 0.173<br>яр: 0.171",
          "Layer 8 expert 54 (logit: 0.104):<br>iltr: 0.104<br>Habitants: 0.080<br> h: 0.080<br> Planner: 0.076<br>ios: 0.075",
          "Layer 9 expert 57 (logit: 0.310):<br>happen: 0.310<br>ouville: 0.274<br>houn: 0.270<br>anes: 0.256<br>rowave: 0.250",
          "Layer 10 expert 41 (logit: 0.177):<br>adal: 0.177<br>体: 0.176<br>icl: 0.172<br>esi: 0.169<br> Кън: 0.167",
          "Layer 11 expert 4 (logit: 0.146):<br>jspx: 0.146<br>YPT: 0.138<br>ars: 0.137<br>javax: 0.137<br>ultor: 0.136",
          "Layer 12 expert 10 (logit: 0.332):<br> дворе: 0.332<br>eces: 0.325<br> conv: 0.303<br>sst: 0.294<br> Tric: 0.292",
          "Layer 13 expert 23 (logit: 0.220):<br>рено: 0.220<br>cet: 0.183<br>folio: 0.163<br> Apro: 0.162<br>ours: 0.159",
          "Layer 14 expert 14 (logit: 0.249):<br>isure: 0.249<br>\\`: 0.240<br>WithError: 0.239<br>┈┈: 0.237<br>aunt: 0.236",
          "Layer 15 expert 12 (logit: 0.218):<br>干的: 0.218<br>特朗: 0.213<br>asiness: 0.209<br>yna: 0.203<br>рак: 0.200",
          "Layer 16 expert 21 (logit: 0.312):<br> life: 0.312<br> живота: 0.254<br>clamations: 0.251<br>life: 0.249<br> Life: 0.244",
          "Layer 17 expert 19 (logit: 0.228):<br>bbing: 0.228<br>\"><!--: 0.222<br>PLL: 0.221<br>reducible: 0.217<br>tland: 0.214",
          "Layer 18 expert 18 (logit: 0.591):<br>raphics: 0.591<br>regon: 0.583<br>equilibri: 0.571<br>ondes: 0.571<br>ulades: 0.554",
          "Layer 19 expert 39 (logit: 0.197):<br>棱: 0.197<br>ributed: 0.187<br>clo: 0.185<br>чително: 0.183<br>ent: 0.182",
          "Layer 20 expert 23 (logit: 0.413):<br>tem: 0.413<br>bl: 0.408<br>6: 0.383<br>hil: 0.382<br>ub: 0.381",
          "Layer 21 expert 42 (logit: 0.921):<br>  : 0.921<br>isode: 0.730<br>ref: 0.720<br>�: 0.695<br> ref: 0.688",
          "Layer 22 expert 20 (logit: 0.375):<br>ulsi: 0.375<br>娘: 0.319<br>ensing: 0.302<br>销: 0.279<br>icit: 0.274",
          "Layer 23 expert 23 (logit: 0.039):<br>рам: 0.039<br>onium: 0.039<br>claimer: 0.039<br>locar: 0.038<br>abilitat: 0.037",
          "Layer 24 expert 26 (logit: 1.324):<br>пра: 1.324<br>arque: 1.313<br>ascens: 1.268<br>querque: 1.240<br>alona: 1.230",
          "Layer 25 expert 49 (logit: 0.680):<br>anwhile: 0.680<br>ń: 0.679<br>olated: 0.674<br> експе: 0.650<br>idunt: 0.650",
          "Layer 26 expert 14 (logit: 1.632):<br>.\"));: 1.632<br>'\";: 1.502<br>'\");: 1.497<br>'</: 1.435<br>\")));: 1.405",
          "Layer 27 expert 46 (logit: 1.232):<br> put: 1.232<br> prevent: 1.231<br> sleep: 1.213<br> grasp: 1.207<br> GiB: 1.198"
         ],
         "marker": {
          "cmax": 66.4375,
          "cmin": 0.0190887451171875,
          "color": [
           null,
           0.02728271484375,
           0.259033203125,
           0.052520751953125,
           0.61474609375,
           0.152587890625,
           0.406494140625,
           0.214111328125,
           0.103759765625,
           0.31005859375,
           0.1771240234375,
           0.145751953125,
           0.33154296875,
           0.219970703125,
           0.24853515625,
           0.217529296875,
           0.3125,
           0.227783203125,
           0.59130859375,
           0.1968994140625,
           0.4130859375,
           0.92138671875,
           0.37451171875,
           0.038726806640625,
           1.32421875,
           0.68017578125,
           1.6318359375,
           1.232421875
          ],
          "colorscale": [
           [
            0,
            "rgb(68,1,84)"
           ],
           [
            0.25,
            "rgb(59,82,139)"
           ],
           [
            0.5,
            "rgb(33,144,141)"
           ],
           [
            0.75,
            "rgb(93,201,99)"
           ],
           [
            1,
            "rgb(253,231,37)"
           ]
          ],
          "line": {
           "color": "rgba(255,255,255,0.2)",
           "width": 1
          },
          "showscale": false,
          "size": 50,
          "symbol": "square"
         },
         "mode": "markers",
         "showlegend": false,
         "type": "scatter",
         "x": [
          5,
          5,
          5,
          5,
          5,
          5,
          5,
          5,
          5,
          5,
          5,
          5,
          5,
          5,
          5,
          5,
          5,
          5,
          5,
          5,
          5,
          5,
          5,
          5,
          5,
          5,
          5,
          5
         ],
         "y": [
          0,
          1,
          2,
          3,
          4,
          5,
          6,
          7,
          8,
          9,
          10,
          11,
          12,
          13,
          14,
          15,
          16,
          17,
          18,
          19,
          20,
          21,
          22,
          23,
          24,
          25,
          26,
          27
         ]
        },
        {
         "hoverinfo": "skip",
         "mode": "text",
         "showlegend": false,
         "text": [
          "44",
          "61",
          "26",
          "28",
          "30",
          "56",
          "41",
          "54",
          "57",
          "41",
          "4",
          "10",
          "23",
          "14",
          "12",
          "21",
          "19",
          "18",
          "39",
          "23",
          "42",
          "20",
          "23",
          "26",
          "49",
          "14",
          "46"
         ],
         "textfont": {
          "color": "white",
          "size": 10
         },
         "textposition": "middle center",
         "type": "scatter",
         "x": [
          4.8,
          4.8,
          4.8,
          4.8,
          4.8,
          4.8,
          4.8,
          4.8,
          4.8,
          4.8,
          4.8,
          4.8,
          4.8,
          4.8,
          4.8,
          4.8,
          4.8,
          4.8,
          4.8,
          4.8,
          4.8,
          4.8,
          4.8,
          4.8,
          4.8,
          4.8,
          4.8
         ],
         "y": [
          1.2,
          2.2,
          3.2,
          4.2,
          5.2,
          6.2,
          7.2,
          8.2,
          9.2,
          10.2,
          11.2,
          12.2,
          13.2,
          14.2,
          15.2,
          16.2,
          17.2,
          18.2,
          19.2,
          20.2,
          21.2,
          22.2,
          23.2,
          24.2,
          25.2,
          26.2,
          27.2
         ]
        },
        {
         "hoverinfo": "skip",
         "mode": "text",
         "showlegend": false,
         "text": [
          "еди"
         ],
         "textfont": {
          "color": "white",
          "size": 10
         },
         "textposition": "middle center",
         "type": "scatter",
         "x": [
          5
         ],
         "y": [
          1
         ]
        },
        {
         "hoverinfo": "skip",
         "mode": "text",
         "showlegend": false,
         "text": [
          "o"
         ],
         "textfont": {
          "color": "white",
          "size": 10
         },
         "textposition": "middle center",
         "type": "scatter",
         "x": [
          5
         ],
         "y": [
          2
         ]
        },
        {
         "hoverinfo": "skip",
         "mode": "text",
         "showlegend": false,
         "text": [
          "实"
         ],
         "textfont": {
          "color": "white",
          "size": 10
         },
         "textposition": "middle center",
         "type": "scatter",
         "x": [
          5
         ],
         "y": [
          3
         ]
        },
        {
         "hoverinfo": "skip",
         "mode": "text",
         "showlegend": false,
         "text": [
          "гани"
         ],
         "textfont": {
          "color": "white",
          "size": 10
         },
         "textposition": "middle center",
         "type": "scatter",
         "x": [
          5
         ],
         "y": [
          4
         ]
        },
        {
         "hoverinfo": "skip",
         "mode": "text",
         "showlegend": false,
         "text": [
          "NonUser"
         ],
         "textfont": {
          "color": "white",
          "size": 10
         },
         "textposition": "middle center",
         "type": "scatter",
         "x": [
          5
         ],
         "y": [
          5
         ]
        },
        {
         "hoverinfo": "skip",
         "mode": "text",
         "showlegend": false,
         "text": [
          "��"
         ],
         "textfont": {
          "color": "white",
          "size": 10
         },
         "textposition": "middle center",
         "type": "scatter",
         "x": [
          5
         ],
         "y": [
          6
         ]
        },
        {
         "hoverinfo": "skip",
         "mode": "text",
         "showlegend": false,
         "text": [
          "ikan"
         ],
         "textfont": {
          "color": "white",
          "size": 10
         },
         "textposition": "middle center",
         "type": "scatter",
         "x": [
          5
         ],
         "y": [
          7
         ]
        },
        {
         "hoverinfo": "skip",
         "mode": "text",
         "showlegend": false,
         "text": [
          "iltr"
         ],
         "textfont": {
          "color": "white",
          "size": 10
         },
         "textposition": "middle center",
         "type": "scatter",
         "x": [
          5
         ],
         "y": [
          8
         ]
        },
        {
         "hoverinfo": "skip",
         "mode": "text",
         "showlegend": false,
         "text": [
          "happen"
         ],
         "textfont": {
          "color": "white",
          "size": 10
         },
         "textposition": "middle center",
         "type": "scatter",
         "x": [
          5
         ],
         "y": [
          9
         ]
        },
        {
         "hoverinfo": "skip",
         "mode": "text",
         "showlegend": false,
         "text": [
          "adal"
         ],
         "textfont": {
          "color": "white",
          "size": 10
         },
         "textposition": "middle center",
         "type": "scatter",
         "x": [
          5
         ],
         "y": [
          10
         ]
        },
        {
         "hoverinfo": "skip",
         "mode": "text",
         "showlegend": false,
         "text": [
          "jspx"
         ],
         "textfont": {
          "color": "white",
          "size": 10
         },
         "textposition": "middle center",
         "type": "scatter",
         "x": [
          5
         ],
         "y": [
          11
         ]
        },
        {
         "hoverinfo": "skip",
         "mode": "text",
         "showlegend": false,
         "text": [
          " дворе"
         ],
         "textfont": {
          "color": "white",
          "size": 10
         },
         "textposition": "middle center",
         "type": "scatter",
         "x": [
          5
         ],
         "y": [
          12
         ]
        },
        {
         "hoverinfo": "skip",
         "mode": "text",
         "showlegend": false,
         "text": [
          "рено"
         ],
         "textfont": {
          "color": "white",
          "size": 10
         },
         "textposition": "middle center",
         "type": "scatter",
         "x": [
          5
         ],
         "y": [
          13
         ]
        },
        {
         "hoverinfo": "skip",
         "mode": "text",
         "showlegend": false,
         "text": [
          "isure"
         ],
         "textfont": {
          "color": "white",
          "size": 10
         },
         "textposition": "middle center",
         "type": "scatter",
         "x": [
          5
         ],
         "y": [
          14
         ]
        },
        {
         "hoverinfo": "skip",
         "mode": "text",
         "showlegend": false,
         "text": [
          "干的"
         ],
         "textfont": {
          "color": "white",
          "size": 10
         },
         "textposition": "middle center",
         "type": "scatter",
         "x": [
          5
         ],
         "y": [
          15
         ]
        },
        {
         "hoverinfo": "skip",
         "mode": "text",
         "showlegend": false,
         "text": [
          " life"
         ],
         "textfont": {
          "color": "white",
          "size": 10
         },
         "textposition": "middle center",
         "type": "scatter",
         "x": [
          5
         ],
         "y": [
          16
         ]
        },
        {
         "hoverinfo": "skip",
         "mode": "text",
         "showlegend": false,
         "text": [
          "bbing"
         ],
         "textfont": {
          "color": "white",
          "size": 10
         },
         "textposition": "middle center",
         "type": "scatter",
         "x": [
          5
         ],
         "y": [
          17
         ]
        },
        {
         "hoverinfo": "skip",
         "mode": "text",
         "showlegend": false,
         "text": [
          "raphics"
         ],
         "textfont": {
          "color": "white",
          "size": 10
         },
         "textposition": "middle center",
         "type": "scatter",
         "x": [
          5
         ],
         "y": [
          18
         ]
        },
        {
         "hoverinfo": "skip",
         "mode": "text",
         "showlegend": false,
         "text": [
          "棱"
         ],
         "textfont": {
          "color": "white",
          "size": 10
         },
         "textposition": "middle center",
         "type": "scatter",
         "x": [
          5
         ],
         "y": [
          19
         ]
        },
        {
         "hoverinfo": "skip",
         "mode": "text",
         "showlegend": false,
         "text": [
          "tem"
         ],
         "textfont": {
          "color": "white",
          "size": 10
         },
         "textposition": "middle center",
         "type": "scatter",
         "x": [
          5
         ],
         "y": [
          20
         ]
        },
        {
         "hoverinfo": "skip",
         "mode": "text",
         "showlegend": false,
         "text": [
          "  "
         ],
         "textfont": {
          "color": "white",
          "size": 10
         },
         "textposition": "middle center",
         "type": "scatter",
         "x": [
          5
         ],
         "y": [
          21
         ]
        },
        {
         "hoverinfo": "skip",
         "mode": "text",
         "showlegend": false,
         "text": [
          "ulsi"
         ],
         "textfont": {
          "color": "white",
          "size": 10
         },
         "textposition": "middle center",
         "type": "scatter",
         "x": [
          5
         ],
         "y": [
          22
         ]
        },
        {
         "hoverinfo": "skip",
         "mode": "text",
         "showlegend": false,
         "text": [
          "рам"
         ],
         "textfont": {
          "color": "white",
          "size": 10
         },
         "textposition": "middle center",
         "type": "scatter",
         "x": [
          5
         ],
         "y": [
          23
         ]
        },
        {
         "hoverinfo": "skip",
         "mode": "text",
         "showlegend": false,
         "text": [
          "пра"
         ],
         "textfont": {
          "color": "white",
          "size": 10
         },
         "textposition": "middle center",
         "type": "scatter",
         "x": [
          5
         ],
         "y": [
          24
         ]
        },
        {
         "hoverinfo": "skip",
         "mode": "text",
         "showlegend": false,
         "text": [
          "anwhile"
         ],
         "textfont": {
          "color": "white",
          "size": 10
         },
         "textposition": "middle center",
         "type": "scatter",
         "x": [
          5
         ],
         "y": [
          25
         ]
        },
        {
         "hoverinfo": "skip",
         "mode": "text",
         "showlegend": false,
         "text": [
          ".\"));"
         ],
         "textfont": {
          "color": "white",
          "size": 10
         },
         "textposition": "middle center",
         "type": "scatter",
         "x": [
          5
         ],
         "y": [
          26
         ]
        },
        {
         "hoverinfo": "skip",
         "mode": "text",
         "showlegend": false,
         "text": [
          " put"
         ],
         "textfont": {
          "color": "white",
          "size": 10
         },
         "textposition": "middle center",
         "type": "scatter",
         "x": [
          5
         ],
         "y": [
          27
         ]
        },
        {
         "hoverinfo": "text",
         "hovertext": [
          "Layer 0 expert_6:<br>No data",
          "Layer 1 expert 12 (logit: 0.316):<br>敢: 0.316<br>zul: 0.312<br>hci: 0.309<br>Mean: 0.306<br>UME: 0.304",
          "Layer 2 expert 7 (logit: 0.033):<br>��: 0.033<br>oin: 0.032<br>一方: 0.030<br>wag: 0.030<br>iture: 0.028",
          "Layer 3 expert 16 (logit: 0.114):<br>GG: 0.114<br>i: 0.105<br>/: 0.100<br>let: 0.100<br>iner: 0.100",
          "Layer 4 expert 7 (logit: 0.064):<br>thouse: 0.064<br>land: 0.062<br> lineas: 0.062<br>->{: 0.062<br>гард: 0.061",
          "Layer 5 expert 41 (logit: 0.047):<br>7: 0.047<br>9: 0.046<br>0: 0.044<br>6: 0.041<br>8: 0.041",
          "Layer 6 expert 39 (logit: 0.206):<br>etheless: 0.206<br>ribut: 0.206<br>《大: 0.190<br>riptor: 0.187<br>последствие: 0.172",
          "Layer 7 expert 44 (logit: 0.248):<br>芦: 0.248<br>org: 0.236<br>砂: 0.224<br>指的是: 0.222<br>/.: 0.215",
          "Layer 8 expert 35 (logit: 0.125):<br>rule: 0.125<br>lun: 0.121<br>uk: 0.113<br>пов: 0.110<br>iena: 0.109",
          "Layer 9 expert 34 (logit: 0.127):<br>рав: 0.127<br>mt: 0.122<br>identity: 0.118<br>2: 0.116<br>5: 0.115",
          "Layer 10 expert 8 (logit: 0.317):<br>FTA: 0.317<br>чета: 0.292<br>datum: 0.292<br>жава: 0.278<br> пор: 0.275",
          "Layer 11 expert 28 (logit: 0.279):<br>ynchron: 0.279<br>ismes: 0.275<br>lesa: 0.255<br>ariidae: 0.252<br>тата: 0.252",
          "Layer 12 expert 30 (logit: 0.031):<br>ible: 0.031<br> (: 0.030<br>ть: 0.029<br>ty: 0.028<br>2: 0.028",
          "Layer 13 expert 60 (logit: 0.188):<br>ствие: 0.188<br>UBE: 0.180<br>omore: 0.180<br>�乐: 0.177<br>Enumer: 0.175",
          "Layer 14 expert 44 (logit: 0.568):<br> Metropolit: 0.568<br>缠: 0.560<br>1: 0.520<br>рони: 0.508<br>унд: 0.506",
          "Layer 15 expert 50 (logit: 0.905):<br>ourney: 0.905<br>atche: 0.869<br>arten: 0.826<br>******: 0.800<br>gressive: 0.755",
          "Layer 16 expert 63 (logit: 0.152):<br>uari: 0.152<br>мино: 0.151<br>ness: 0.141<br>лици: 0.140<br> Scores: 0.138",
          "Layer 17 expert 13 (logit: 0.156):<br>�: 0.156<br>ova: 0.150<br>保: 0.137<br> C: 0.136<br> M: 0.133",
          "Layer 18 expert 15 (logit: 0.039):<br>逻: 0.039<br>сен: 0.039<br>党组: 0.038<br>uelto: 0.037<br>сели: 0.035",
          "Layer 19 expert 53 (logit: 0.273):<br>vis: 0.273<br>Host: 0.252<br> hosts: 0.243<br>闻: 0.236<br> host: 0.234",
          "Layer 20 expert 25 (logit: 0.476):<br>3: 0.476<br>9: 0.464<br>2: 0.463<br>5: 0.447<br>1: 0.436",
          "Layer 21 expert 16 (logit: 2.008):<br>heses: 2.008<br>}$~\\: 1.935<br>childnode: 1.890<br>anzas: 1.862<br>aquen: 1.658",
          "Layer 22 expert 17 (logit: 0.767):<br> Q: 0.767<br>Q: 0.562<br>QA: 0.554<br> B: 0.543<br>\tQ: 0.538",
          "Layer 23 expert 8 (logit: 0.491):<br>��: 0.491<br>фон: 0.416<br>吊: 0.394<br>гон: 0.392<br>0: 0.391",
          "Layer 24 expert 13 (logit: 1.210):<br>цяло: 1.210<br>GeneratedMessage: 1.197<br>atzem: 1.182<br>urname: 1.175<br>нуари: 1.166",
          "Layer 25 expert 37 (logit: 2.299):<br>гол: 2.299<br>itecture: 2.238<br>AAAAAAAAAAAAAAAA: 2.225<br>lod: 2.201<br>ано: 2.201",
          "Layer 26 expert 60 (logit: 0.530):<br> consequence: 0.530<br> det: 0.513<br> des: 0.503<br>measures: 0.492<br> context: 0.490",
          "Layer 27 expert 53 (logit: 0.615):<br> matter: 0.615<br> grudge: 0.576<br> complaint: 0.565<br> sinner: 0.552<br> scandal: 0.551"
         ],
         "marker": {
          "cmax": 66.4375,
          "cmin": 0.0190887451171875,
          "color": [
           null,
           0.31591796875,
           0.033203125,
           0.11407470703125,
           0.06365966796875,
           0.0467529296875,
           0.2061767578125,
           0.247802734375,
           0.12451171875,
           0.126953125,
           0.316650390625,
           0.278564453125,
           0.030609130859375,
           0.187744140625,
           0.568359375,
           0.9052734375,
           0.15185546875,
           0.155517578125,
           0.039398193359375,
           0.2734375,
           0.475830078125,
           2.0078125,
           0.7666015625,
           0.490966796875,
           1.2099609375,
           2.298828125,
           0.5302734375,
           0.61474609375
          ],
          "colorscale": [
           [
            0,
            "rgb(68,1,84)"
           ],
           [
            0.25,
            "rgb(59,82,139)"
           ],
           [
            0.5,
            "rgb(33,144,141)"
           ],
           [
            0.75,
            "rgb(93,201,99)"
           ],
           [
            1,
            "rgb(253,231,37)"
           ]
          ],
          "line": {
           "color": "rgba(255,255,255,0.2)",
           "width": 1
          },
          "showscale": false,
          "size": 50,
          "symbol": "square"
         },
         "mode": "markers",
         "showlegend": false,
         "type": "scatter",
         "x": [
          6,
          6,
          6,
          6,
          6,
          6,
          6,
          6,
          6,
          6,
          6,
          6,
          6,
          6,
          6,
          6,
          6,
          6,
          6,
          6,
          6,
          6,
          6,
          6,
          6,
          6,
          6,
          6
         ],
         "y": [
          0,
          1,
          2,
          3,
          4,
          5,
          6,
          7,
          8,
          9,
          10,
          11,
          12,
          13,
          14,
          15,
          16,
          17,
          18,
          19,
          20,
          21,
          22,
          23,
          24,
          25,
          26,
          27
         ]
        },
        {
         "hoverinfo": "skip",
         "mode": "text",
         "showlegend": false,
         "text": [
          "12",
          "7",
          "16",
          "7",
          "41",
          "39",
          "44",
          "35",
          "34",
          "8",
          "28",
          "30",
          "60",
          "44",
          "50",
          "63",
          "13",
          "15",
          "53",
          "25",
          "16",
          "17",
          "8",
          "13",
          "37",
          "60",
          "53"
         ],
         "textfont": {
          "color": "white",
          "size": 10
         },
         "textposition": "middle center",
         "type": "scatter",
         "x": [
          5.8,
          5.8,
          5.8,
          5.8,
          5.8,
          5.8,
          5.8,
          5.8,
          5.8,
          5.8,
          5.8,
          5.8,
          5.8,
          5.8,
          5.8,
          5.8,
          5.8,
          5.8,
          5.8,
          5.8,
          5.8,
          5.8,
          5.8,
          5.8,
          5.8,
          5.8,
          5.8
         ],
         "y": [
          1.2,
          2.2,
          3.2,
          4.2,
          5.2,
          6.2,
          7.2,
          8.2,
          9.2,
          10.2,
          11.2,
          12.2,
          13.2,
          14.2,
          15.2,
          16.2,
          17.2,
          18.2,
          19.2,
          20.2,
          21.2,
          22.2,
          23.2,
          24.2,
          25.2,
          26.2,
          27.2
         ]
        },
        {
         "hoverinfo": "skip",
         "mode": "text",
         "showlegend": false,
         "text": [
          "敢"
         ],
         "textfont": {
          "color": "white",
          "size": 10
         },
         "textposition": "middle center",
         "type": "scatter",
         "x": [
          6
         ],
         "y": [
          1
         ]
        },
        {
         "hoverinfo": "skip",
         "mode": "text",
         "showlegend": false,
         "text": [
          "��"
         ],
         "textfont": {
          "color": "white",
          "size": 10
         },
         "textposition": "middle center",
         "type": "scatter",
         "x": [
          6
         ],
         "y": [
          2
         ]
        },
        {
         "hoverinfo": "skip",
         "mode": "text",
         "showlegend": false,
         "text": [
          "GG"
         ],
         "textfont": {
          "color": "white",
          "size": 10
         },
         "textposition": "middle center",
         "type": "scatter",
         "x": [
          6
         ],
         "y": [
          3
         ]
        },
        {
         "hoverinfo": "skip",
         "mode": "text",
         "showlegend": false,
         "text": [
          "thouse"
         ],
         "textfont": {
          "color": "white",
          "size": 10
         },
         "textposition": "middle center",
         "type": "scatter",
         "x": [
          6
         ],
         "y": [
          4
         ]
        },
        {
         "hoverinfo": "skip",
         "mode": "text",
         "showlegend": false,
         "text": [
          "7"
         ],
         "textfont": {
          "color": "white",
          "size": 10
         },
         "textposition": "middle center",
         "type": "scatter",
         "x": [
          6
         ],
         "y": [
          5
         ]
        },
        {
         "hoverinfo": "skip",
         "mode": "text",
         "showlegend": false,
         "text": [
          "etheless"
         ],
         "textfont": {
          "color": "white",
          "size": 10
         },
         "textposition": "middle center",
         "type": "scatter",
         "x": [
          6
         ],
         "y": [
          6
         ]
        },
        {
         "hoverinfo": "skip",
         "mode": "text",
         "showlegend": false,
         "text": [
          "芦"
         ],
         "textfont": {
          "color": "white",
          "size": 10
         },
         "textposition": "middle center",
         "type": "scatter",
         "x": [
          6
         ],
         "y": [
          7
         ]
        },
        {
         "hoverinfo": "skip",
         "mode": "text",
         "showlegend": false,
         "text": [
          "rule"
         ],
         "textfont": {
          "color": "white",
          "size": 10
         },
         "textposition": "middle center",
         "type": "scatter",
         "x": [
          6
         ],
         "y": [
          8
         ]
        },
        {
         "hoverinfo": "skip",
         "mode": "text",
         "showlegend": false,
         "text": [
          "рав"
         ],
         "textfont": {
          "color": "white",
          "size": 10
         },
         "textposition": "middle center",
         "type": "scatter",
         "x": [
          6
         ],
         "y": [
          9
         ]
        },
        {
         "hoverinfo": "skip",
         "mode": "text",
         "showlegend": false,
         "text": [
          "FTA"
         ],
         "textfont": {
          "color": "white",
          "size": 10
         },
         "textposition": "middle center",
         "type": "scatter",
         "x": [
          6
         ],
         "y": [
          10
         ]
        },
        {
         "hoverinfo": "skip",
         "mode": "text",
         "showlegend": false,
         "text": [
          "ynchron"
         ],
         "textfont": {
          "color": "white",
          "size": 10
         },
         "textposition": "middle center",
         "type": "scatter",
         "x": [
          6
         ],
         "y": [
          11
         ]
        },
        {
         "hoverinfo": "skip",
         "mode": "text",
         "showlegend": false,
         "text": [
          "ible"
         ],
         "textfont": {
          "color": "white",
          "size": 10
         },
         "textposition": "middle center",
         "type": "scatter",
         "x": [
          6
         ],
         "y": [
          12
         ]
        },
        {
         "hoverinfo": "skip",
         "mode": "text",
         "showlegend": false,
         "text": [
          "ствие"
         ],
         "textfont": {
          "color": "white",
          "size": 10
         },
         "textposition": "middle center",
         "type": "scatter",
         "x": [
          6
         ],
         "y": [
          13
         ]
        },
        {
         "hoverinfo": "skip",
         "mode": "text",
         "showlegend": false,
         "text": [
          " Metropolit"
         ],
         "textfont": {
          "color": "white",
          "size": 10
         },
         "textposition": "middle center",
         "type": "scatter",
         "x": [
          6
         ],
         "y": [
          14
         ]
        },
        {
         "hoverinfo": "skip",
         "mode": "text",
         "showlegend": false,
         "text": [
          "ourney"
         ],
         "textfont": {
          "color": "white",
          "size": 10
         },
         "textposition": "middle center",
         "type": "scatter",
         "x": [
          6
         ],
         "y": [
          15
         ]
        },
        {
         "hoverinfo": "skip",
         "mode": "text",
         "showlegend": false,
         "text": [
          "uari"
         ],
         "textfont": {
          "color": "white",
          "size": 10
         },
         "textposition": "middle center",
         "type": "scatter",
         "x": [
          6
         ],
         "y": [
          16
         ]
        },
        {
         "hoverinfo": "skip",
         "mode": "text",
         "showlegend": false,
         "text": [
          "�"
         ],
         "textfont": {
          "color": "white",
          "size": 10
         },
         "textposition": "middle center",
         "type": "scatter",
         "x": [
          6
         ],
         "y": [
          17
         ]
        },
        {
         "hoverinfo": "skip",
         "mode": "text",
         "showlegend": false,
         "text": [
          "逻"
         ],
         "textfont": {
          "color": "white",
          "size": 10
         },
         "textposition": "middle center",
         "type": "scatter",
         "x": [
          6
         ],
         "y": [
          18
         ]
        },
        {
         "hoverinfo": "skip",
         "mode": "text",
         "showlegend": false,
         "text": [
          "vis"
         ],
         "textfont": {
          "color": "white",
          "size": 10
         },
         "textposition": "middle center",
         "type": "scatter",
         "x": [
          6
         ],
         "y": [
          19
         ]
        },
        {
         "hoverinfo": "skip",
         "mode": "text",
         "showlegend": false,
         "text": [
          "3"
         ],
         "textfont": {
          "color": "white",
          "size": 10
         },
         "textposition": "middle center",
         "type": "scatter",
         "x": [
          6
         ],
         "y": [
          20
         ]
        },
        {
         "hoverinfo": "skip",
         "mode": "text",
         "showlegend": false,
         "text": [
          "heses"
         ],
         "textfont": {
          "color": "white",
          "size": 10
         },
         "textposition": "middle center",
         "type": "scatter",
         "x": [
          6
         ],
         "y": [
          21
         ]
        },
        {
         "hoverinfo": "skip",
         "mode": "text",
         "showlegend": false,
         "text": [
          " Q"
         ],
         "textfont": {
          "color": "white",
          "size": 10
         },
         "textposition": "middle center",
         "type": "scatter",
         "x": [
          6
         ],
         "y": [
          22
         ]
        },
        {
         "hoverinfo": "skip",
         "mode": "text",
         "showlegend": false,
         "text": [
          "��"
         ],
         "textfont": {
          "color": "white",
          "size": 10
         },
         "textposition": "middle center",
         "type": "scatter",
         "x": [
          6
         ],
         "y": [
          23
         ]
        },
        {
         "hoverinfo": "skip",
         "mode": "text",
         "showlegend": false,
         "text": [
          "цяло"
         ],
         "textfont": {
          "color": "white",
          "size": 10
         },
         "textposition": "middle center",
         "type": "scatter",
         "x": [
          6
         ],
         "y": [
          24
         ]
        },
        {
         "hoverinfo": "skip",
         "mode": "text",
         "showlegend": false,
         "text": [
          "гол"
         ],
         "textfont": {
          "color": "white",
          "size": 10
         },
         "textposition": "middle center",
         "type": "scatter",
         "x": [
          6
         ],
         "y": [
          25
         ]
        },
        {
         "hoverinfo": "skip",
         "mode": "text",
         "showlegend": false,
         "text": [
          " consequence"
         ],
         "textfont": {
          "color": "white",
          "size": 10
         },
         "textposition": "middle center",
         "type": "scatter",
         "x": [
          6
         ],
         "y": [
          26
         ]
        },
        {
         "hoverinfo": "skip",
         "mode": "text",
         "showlegend": false,
         "text": [
          " matter"
         ],
         "textfont": {
          "color": "white",
          "size": 10
         },
         "textposition": "middle center",
         "type": "scatter",
         "x": [
          6
         ],
         "y": [
          27
         ]
        },
        {
         "hoverinfo": "text",
         "hovertext": [
          "Layer 0 shared:<br>No data",
          "Layer 1 shared (logit: 0.148):<br>pei: 0.148<br>MH: 0.145<br>BV: 0.144<br>钰: 0.143<br>IH: 0.141",
          "Layer 2 shared (logit: 0.184):<br>ggreg: 0.184<br>quilla: 0.173<br>uminous: 0.168<br>挂: 0.164<br>�: 0.164",
          "Layer 3 shared (logit: 0.380):<br>itecture: 0.380<br>igure: 0.374<br> Балкан: 0.373<br>封建: 0.369<br>зания: 0.367",
          "Layer 4 shared (logit: 0.495):<br>Solic: 0.495<br>ccion: 0.494<br>eeper: 0.469<br>нга: 0.438<br>版权或其它问题请于: 0.423",
          "Layer 5 shared (logit: 0.521):<br>tac: 0.521<br>TEGER: 0.501<br>Downloads: 0.474<br>leted: 0.469<br> \\;,: 0.466",
          "Layer 6 shared (logit: 0.679):<br>lum: 0.679<br>phia: 0.648<br>Phaser: 0.646<br>простран: 0.634<br>ITH: 0.623",
          "Layer 7 shared (logit: 0.769):<br>锥: 0.769<br>6: 0.757<br>4: 0.742<br>2: 0.699<br>0: 0.698",
          "Layer 8 shared (logit: 0.818):<br>вица: 0.818<br> att: 0.742<br>3: 0.740<br>idor: 0.731<br>assa: 0.714",
          "Layer 9 shared (logit: 0.525):<br>Bruce: 0.525<br>fu: 0.524<br>lig: 0.520<br> Bruce: 0.516<br> Sp: 0.503",
          "Layer 10 shared (logit: 0.880):<br>iades: 0.880<br>eneg: 0.853<br>кол: 0.798<br>SION: 0.797<br> jurisdic: 0.796",
          "Layer 11 shared (logit: 0.905):<br>aller: 0.905<br>�: 0.902<br>影: 0.816<br>nings: 0.795<br>кла: 0.786",
          "Layer 12 shared (logit: 0.779):<br>posa: 0.779<br> period: 0.769<br>empre: 0.759<br>доб: 0.757<br> java: 0.729",
          "Layer 13 shared (logit: 0.831):<br>置: 0.831<br>豆浆: 0.799<br>coal: 0.746<br>ynom: 0.745<br>�: 0.739",
          "Layer 14 shared (logit: 1.090):<br>桶: 1.090<br>egin: 1.068<br>arda: 1.061<br>unga: 1.029<br>坝: 1.026",
          "Layer 15 shared (logit: 0.855):<br>连: 0.855<br>arx: 0.799<br> Paco: 0.795<br>油腻: 0.783<br>agog: 0.782",
          "Layer 16 shared (logit: 1.058):<br> : 1.058<br>inor: 1.012<br>\n: 0.995<br> Trim: 0.906<br>-: 0.866",
          "Layer 17 shared (logit: 0.984):<br> life: 0.984<br>dens: 0.936<br> Life: 0.929<br>life: 0.916<br> orient: 0.900",
          "Layer 18 shared (logit: 1.207):<br>NOSCRIPT: 1.207<br>allel: 1.078<br> експе: 1.048<br>ων: 1.047<br>нуари: 1.032",
          "Layer 19 shared (logit: 1.122):<br> : 1.122<br> e: 1.044<br>/: 1.034<br> p: 1.030<br>...: 0.977",
          "Layer 20 shared (logit: 3.148):<br>life: 3.148<br> life: 2.877<br>Life: 2.873<br> Life: 2.852<br>的生命: 2.494",
          "Layer 21 shared (logit: 1.440):<br> : 1.440<br>0: 1.202<br>1: 1.127<br>9: 1.120<br>GE: 1.107",
          "Layer 22 shared (logit: 1.213):<br>scribe: 1.213<br>��: 1.138<br>HC: 1.089<br>odis: 1.068<br>herited: 1.029",
          "Layer 23 shared (logit: 1.827):<br>Cci: 1.827<br>PYG: 1.508<br>blo: 1.476<br>Blo: 1.348<br>omitempty: 1.344",
          "Layer 24 shared (logit: 1.384):<br>=\"\"><: 1.384<br>Cci: 1.378<br>孝顺: 1.362<br>ISAM: 1.351<br>ENE: 1.345",
          "Layer 25 shared (logit: 7.004):<br> : 7.004<br>,: 6.207<br>.: 6.012<br>*: 5.828<br>2: 5.703",
          "Layer 26 shared (logit: 19.516):<br> : 19.516<br>...: 18.219<br>.: 17.609<br>\n: 17.469<br>,: 17.266",
          "Layer 27 shared (logit: 34.438):<br> : 34.438<br>,: 34.250<br> (: 31.922<br>.: 31.875<br>-: 31.625"
         ],
         "marker": {
          "cmax": 66.4375,
          "cmin": 0.0190887451171875,
          "color": [
           null,
           0.1478271484375,
           0.1839599609375,
           0.3798828125,
           0.4951171875,
           0.5205078125,
           0.67919921875,
           0.76904296875,
           0.81787109375,
           0.52490234375,
           0.8798828125,
           0.9052734375,
           0.77880859375,
           0.83056640625,
           1.08984375,
           0.85546875,
           1.0576171875,
           0.984375,
           1.20703125,
           1.1220703125,
           3.1484375,
           1.4404296875,
           1.212890625,
           1.8271484375,
           1.3837890625,
           7.00390625,
           19.515625,
           34.4375
          ],
          "colorscale": [
           [
            0,
            "rgb(68,1,84)"
           ],
           [
            0.25,
            "rgb(59,82,139)"
           ],
           [
            0.5,
            "rgb(33,144,141)"
           ],
           [
            0.75,
            "rgb(93,201,99)"
           ],
           [
            1,
            "rgb(253,231,37)"
           ]
          ],
          "line": {
           "color": "rgba(255,255,255,0.2)",
           "width": 1
          },
          "showscale": false,
          "size": 50,
          "symbol": "square"
         },
         "mode": "markers",
         "showlegend": false,
         "type": "scatter",
         "x": [
          7,
          7,
          7,
          7,
          7,
          7,
          7,
          7,
          7,
          7,
          7,
          7,
          7,
          7,
          7,
          7,
          7,
          7,
          7,
          7,
          7,
          7,
          7,
          7,
          7,
          7,
          7,
          7
         ],
         "y": [
          0,
          1,
          2,
          3,
          4,
          5,
          6,
          7,
          8,
          9,
          10,
          11,
          12,
          13,
          14,
          15,
          16,
          17,
          18,
          19,
          20,
          21,
          22,
          23,
          24,
          25,
          26,
          27
         ]
        },
        {
         "hoverinfo": "skip",
         "mode": "text",
         "showlegend": false,
         "text": [
          "pei"
         ],
         "textfont": {
          "color": "white",
          "size": 10
         },
         "textposition": "middle center",
         "type": "scatter",
         "x": [
          7
         ],
         "y": [
          1
         ]
        },
        {
         "hoverinfo": "skip",
         "mode": "text",
         "showlegend": false,
         "text": [
          "ggreg"
         ],
         "textfont": {
          "color": "white",
          "size": 10
         },
         "textposition": "middle center",
         "type": "scatter",
         "x": [
          7
         ],
         "y": [
          2
         ]
        },
        {
         "hoverinfo": "skip",
         "mode": "text",
         "showlegend": false,
         "text": [
          "itecture"
         ],
         "textfont": {
          "color": "white",
          "size": 10
         },
         "textposition": "middle center",
         "type": "scatter",
         "x": [
          7
         ],
         "y": [
          3
         ]
        },
        {
         "hoverinfo": "skip",
         "mode": "text",
         "showlegend": false,
         "text": [
          "Solic"
         ],
         "textfont": {
          "color": "white",
          "size": 10
         },
         "textposition": "middle center",
         "type": "scatter",
         "x": [
          7
         ],
         "y": [
          4
         ]
        },
        {
         "hoverinfo": "skip",
         "mode": "text",
         "showlegend": false,
         "text": [
          "tac"
         ],
         "textfont": {
          "color": "white",
          "size": 10
         },
         "textposition": "middle center",
         "type": "scatter",
         "x": [
          7
         ],
         "y": [
          5
         ]
        },
        {
         "hoverinfo": "skip",
         "mode": "text",
         "showlegend": false,
         "text": [
          "lum"
         ],
         "textfont": {
          "color": "white",
          "size": 10
         },
         "textposition": "middle center",
         "type": "scatter",
         "x": [
          7
         ],
         "y": [
          6
         ]
        },
        {
         "hoverinfo": "skip",
         "mode": "text",
         "showlegend": false,
         "text": [
          "锥"
         ],
         "textfont": {
          "color": "white",
          "size": 10
         },
         "textposition": "middle center",
         "type": "scatter",
         "x": [
          7
         ],
         "y": [
          7
         ]
        },
        {
         "hoverinfo": "skip",
         "mode": "text",
         "showlegend": false,
         "text": [
          "вица"
         ],
         "textfont": {
          "color": "white",
          "size": 10
         },
         "textposition": "middle center",
         "type": "scatter",
         "x": [
          7
         ],
         "y": [
          8
         ]
        },
        {
         "hoverinfo": "skip",
         "mode": "text",
         "showlegend": false,
         "text": [
          "Bruce"
         ],
         "textfont": {
          "color": "white",
          "size": 10
         },
         "textposition": "middle center",
         "type": "scatter",
         "x": [
          7
         ],
         "y": [
          9
         ]
        },
        {
         "hoverinfo": "skip",
         "mode": "text",
         "showlegend": false,
         "text": [
          "iades"
         ],
         "textfont": {
          "color": "white",
          "size": 10
         },
         "textposition": "middle center",
         "type": "scatter",
         "x": [
          7
         ],
         "y": [
          10
         ]
        },
        {
         "hoverinfo": "skip",
         "mode": "text",
         "showlegend": false,
         "text": [
          "aller"
         ],
         "textfont": {
          "color": "white",
          "size": 10
         },
         "textposition": "middle center",
         "type": "scatter",
         "x": [
          7
         ],
         "y": [
          11
         ]
        },
        {
         "hoverinfo": "skip",
         "mode": "text",
         "showlegend": false,
         "text": [
          "posa"
         ],
         "textfont": {
          "color": "white",
          "size": 10
         },
         "textposition": "middle center",
         "type": "scatter",
         "x": [
          7
         ],
         "y": [
          12
         ]
        },
        {
         "hoverinfo": "skip",
         "mode": "text",
         "showlegend": false,
         "text": [
          "置"
         ],
         "textfont": {
          "color": "white",
          "size": 10
         },
         "textposition": "middle center",
         "type": "scatter",
         "x": [
          7
         ],
         "y": [
          13
         ]
        },
        {
         "hoverinfo": "skip",
         "mode": "text",
         "showlegend": false,
         "text": [
          "桶"
         ],
         "textfont": {
          "color": "white",
          "size": 10
         },
         "textposition": "middle center",
         "type": "scatter",
         "x": [
          7
         ],
         "y": [
          14
         ]
        },
        {
         "hoverinfo": "skip",
         "mode": "text",
         "showlegend": false,
         "text": [
          "连"
         ],
         "textfont": {
          "color": "white",
          "size": 10
         },
         "textposition": "middle center",
         "type": "scatter",
         "x": [
          7
         ],
         "y": [
          15
         ]
        },
        {
         "hoverinfo": "skip",
         "mode": "text",
         "showlegend": false,
         "text": [
          " "
         ],
         "textfont": {
          "color": "white",
          "size": 10
         },
         "textposition": "middle center",
         "type": "scatter",
         "x": [
          7
         ],
         "y": [
          16
         ]
        },
        {
         "hoverinfo": "skip",
         "mode": "text",
         "showlegend": false,
         "text": [
          " life"
         ],
         "textfont": {
          "color": "white",
          "size": 10
         },
         "textposition": "middle center",
         "type": "scatter",
         "x": [
          7
         ],
         "y": [
          17
         ]
        },
        {
         "hoverinfo": "skip",
         "mode": "text",
         "showlegend": false,
         "text": [
          "NOSCRIPT"
         ],
         "textfont": {
          "color": "white",
          "size": 10
         },
         "textposition": "middle center",
         "type": "scatter",
         "x": [
          7
         ],
         "y": [
          18
         ]
        },
        {
         "hoverinfo": "skip",
         "mode": "text",
         "showlegend": false,
         "text": [
          " "
         ],
         "textfont": {
          "color": "white",
          "size": 10
         },
         "textposition": "middle center",
         "type": "scatter",
         "x": [
          7
         ],
         "y": [
          19
         ]
        },
        {
         "hoverinfo": "skip",
         "mode": "text",
         "showlegend": false,
         "text": [
          "life"
         ],
         "textfont": {
          "color": "white",
          "size": 10
         },
         "textposition": "middle center",
         "type": "scatter",
         "x": [
          7
         ],
         "y": [
          20
         ]
        },
        {
         "hoverinfo": "skip",
         "mode": "text",
         "showlegend": false,
         "text": [
          " "
         ],
         "textfont": {
          "color": "white",
          "size": 10
         },
         "textposition": "middle center",
         "type": "scatter",
         "x": [
          7
         ],
         "y": [
          21
         ]
        },
        {
         "hoverinfo": "skip",
         "mode": "text",
         "showlegend": false,
         "text": [
          "scribe"
         ],
         "textfont": {
          "color": "white",
          "size": 10
         },
         "textposition": "middle center",
         "type": "scatter",
         "x": [
          7
         ],
         "y": [
          22
         ]
        },
        {
         "hoverinfo": "skip",
         "mode": "text",
         "showlegend": false,
         "text": [
          "Cci"
         ],
         "textfont": {
          "color": "white",
          "size": 10
         },
         "textposition": "middle center",
         "type": "scatter",
         "x": [
          7
         ],
         "y": [
          23
         ]
        },
        {
         "hoverinfo": "skip",
         "mode": "text",
         "showlegend": false,
         "text": [
          "=\"\"><"
         ],
         "textfont": {
          "color": "white",
          "size": 10
         },
         "textposition": "middle center",
         "type": "scatter",
         "x": [
          7
         ],
         "y": [
          24
         ]
        },
        {
         "hoverinfo": "skip",
         "mode": "text",
         "showlegend": false,
         "text": [
          " "
         ],
         "textfont": {
          "color": "white",
          "size": 10
         },
         "textposition": "middle center",
         "type": "scatter",
         "x": [
          7
         ],
         "y": [
          25
         ]
        },
        {
         "hoverinfo": "skip",
         "mode": "text",
         "showlegend": false,
         "text": [
          " "
         ],
         "textfont": {
          "color": "white",
          "size": 10
         },
         "textposition": "middle center",
         "type": "scatter",
         "x": [
          7
         ],
         "y": [
          26
         ]
        },
        {
         "hoverinfo": "skip",
         "mode": "text",
         "showlegend": false,
         "text": [
          " "
         ],
         "textfont": {
          "color": "black",
          "size": 10
         },
         "textposition": "middle center",
         "type": "scatter",
         "x": [
          7
         ],
         "y": [
          27
         ]
        }
       ],
       "layout": {
        "height": 2900,
        "hovermode": "closest",
        "margin": {
         "b": 100,
         "l": 50,
         "r": 50,
         "t": 100
        },
        "paper_bgcolor": "rgb(17,17,17)",
        "plot_bgcolor": "rgb(17,17,17)",
        "template": {
         "data": {
          "bar": [
           {
            "error_x": {
             "color": "#2a3f5f"
            },
            "error_y": {
             "color": "#2a3f5f"
            },
            "marker": {
             "line": {
              "color": "#E5ECF6",
              "width": 0.5
             },
             "pattern": {
              "fillmode": "overlay",
              "size": 10,
              "solidity": 0.2
             }
            },
            "type": "bar"
           }
          ],
          "barpolar": [
           {
            "marker": {
             "line": {
              "color": "#E5ECF6",
              "width": 0.5
             },
             "pattern": {
              "fillmode": "overlay",
              "size": 10,
              "solidity": 0.2
             }
            },
            "type": "barpolar"
           }
          ],
          "carpet": [
           {
            "aaxis": {
             "endlinecolor": "#2a3f5f",
             "gridcolor": "white",
             "linecolor": "white",
             "minorgridcolor": "white",
             "startlinecolor": "#2a3f5f"
            },
            "baxis": {
             "endlinecolor": "#2a3f5f",
             "gridcolor": "white",
             "linecolor": "white",
             "minorgridcolor": "white",
             "startlinecolor": "#2a3f5f"
            },
            "type": "carpet"
           }
          ],
          "choropleth": [
           {
            "colorbar": {
             "outlinewidth": 0,
             "ticks": ""
            },
            "type": "choropleth"
           }
          ],
          "contour": [
           {
            "colorbar": {
             "outlinewidth": 0,
             "ticks": ""
            },
            "colorscale": [
             [
              0,
              "#0d0887"
             ],
             [
              0.1111111111111111,
              "#46039f"
             ],
             [
              0.2222222222222222,
              "#7201a8"
             ],
             [
              0.3333333333333333,
              "#9c179e"
             ],
             [
              0.4444444444444444,
              "#bd3786"
             ],
             [
              0.5555555555555556,
              "#d8576b"
             ],
             [
              0.6666666666666666,
              "#ed7953"
             ],
             [
              0.7777777777777778,
              "#fb9f3a"
             ],
             [
              0.8888888888888888,
              "#fdca26"
             ],
             [
              1,
              "#f0f921"
             ]
            ],
            "type": "contour"
           }
          ],
          "contourcarpet": [
           {
            "colorbar": {
             "outlinewidth": 0,
             "ticks": ""
            },
            "type": "contourcarpet"
           }
          ],
          "heatmap": [
           {
            "colorbar": {
             "outlinewidth": 0,
             "ticks": ""
            },
            "colorscale": [
             [
              0,
              "#0d0887"
             ],
             [
              0.1111111111111111,
              "#46039f"
             ],
             [
              0.2222222222222222,
              "#7201a8"
             ],
             [
              0.3333333333333333,
              "#9c179e"
             ],
             [
              0.4444444444444444,
              "#bd3786"
             ],
             [
              0.5555555555555556,
              "#d8576b"
             ],
             [
              0.6666666666666666,
              "#ed7953"
             ],
             [
              0.7777777777777778,
              "#fb9f3a"
             ],
             [
              0.8888888888888888,
              "#fdca26"
             ],
             [
              1,
              "#f0f921"
             ]
            ],
            "type": "heatmap"
           }
          ],
          "heatmapgl": [
           {
            "colorbar": {
             "outlinewidth": 0,
             "ticks": ""
            },
            "colorscale": [
             [
              0,
              "#0d0887"
             ],
             [
              0.1111111111111111,
              "#46039f"
             ],
             [
              0.2222222222222222,
              "#7201a8"
             ],
             [
              0.3333333333333333,
              "#9c179e"
             ],
             [
              0.4444444444444444,
              "#bd3786"
             ],
             [
              0.5555555555555556,
              "#d8576b"
             ],
             [
              0.6666666666666666,
              "#ed7953"
             ],
             [
              0.7777777777777778,
              "#fb9f3a"
             ],
             [
              0.8888888888888888,
              "#fdca26"
             ],
             [
              1,
              "#f0f921"
             ]
            ],
            "type": "heatmapgl"
           }
          ],
          "histogram": [
           {
            "marker": {
             "pattern": {
              "fillmode": "overlay",
              "size": 10,
              "solidity": 0.2
             }
            },
            "type": "histogram"
           }
          ],
          "histogram2d": [
           {
            "colorbar": {
             "outlinewidth": 0,
             "ticks": ""
            },
            "colorscale": [
             [
              0,
              "#0d0887"
             ],
             [
              0.1111111111111111,
              "#46039f"
             ],
             [
              0.2222222222222222,
              "#7201a8"
             ],
             [
              0.3333333333333333,
              "#9c179e"
             ],
             [
              0.4444444444444444,
              "#bd3786"
             ],
             [
              0.5555555555555556,
              "#d8576b"
             ],
             [
              0.6666666666666666,
              "#ed7953"
             ],
             [
              0.7777777777777778,
              "#fb9f3a"
             ],
             [
              0.8888888888888888,
              "#fdca26"
             ],
             [
              1,
              "#f0f921"
             ]
            ],
            "type": "histogram2d"
           }
          ],
          "histogram2dcontour": [
           {
            "colorbar": {
             "outlinewidth": 0,
             "ticks": ""
            },
            "colorscale": [
             [
              0,
              "#0d0887"
             ],
             [
              0.1111111111111111,
              "#46039f"
             ],
             [
              0.2222222222222222,
              "#7201a8"
             ],
             [
              0.3333333333333333,
              "#9c179e"
             ],
             [
              0.4444444444444444,
              "#bd3786"
             ],
             [
              0.5555555555555556,
              "#d8576b"
             ],
             [
              0.6666666666666666,
              "#ed7953"
             ],
             [
              0.7777777777777778,
              "#fb9f3a"
             ],
             [
              0.8888888888888888,
              "#fdca26"
             ],
             [
              1,
              "#f0f921"
             ]
            ],
            "type": "histogram2dcontour"
           }
          ],
          "mesh3d": [
           {
            "colorbar": {
             "outlinewidth": 0,
             "ticks": ""
            },
            "type": "mesh3d"
           }
          ],
          "parcoords": [
           {
            "line": {
             "colorbar": {
              "outlinewidth": 0,
              "ticks": ""
             }
            },
            "type": "parcoords"
           }
          ],
          "pie": [
           {
            "automargin": true,
            "type": "pie"
           }
          ],
          "scatter": [
           {
            "fillpattern": {
             "fillmode": "overlay",
             "size": 10,
             "solidity": 0.2
            },
            "type": "scatter"
           }
          ],
          "scatter3d": [
           {
            "line": {
             "colorbar": {
              "outlinewidth": 0,
              "ticks": ""
             }
            },
            "marker": {
             "colorbar": {
              "outlinewidth": 0,
              "ticks": ""
             }
            },
            "type": "scatter3d"
           }
          ],
          "scattercarpet": [
           {
            "marker": {
             "colorbar": {
              "outlinewidth": 0,
              "ticks": ""
             }
            },
            "type": "scattercarpet"
           }
          ],
          "scattergeo": [
           {
            "marker": {
             "colorbar": {
              "outlinewidth": 0,
              "ticks": ""
             }
            },
            "type": "scattergeo"
           }
          ],
          "scattergl": [
           {
            "marker": {
             "colorbar": {
              "outlinewidth": 0,
              "ticks": ""
             }
            },
            "type": "scattergl"
           }
          ],
          "scattermapbox": [
           {
            "marker": {
             "colorbar": {
              "outlinewidth": 0,
              "ticks": ""
             }
            },
            "type": "scattermapbox"
           }
          ],
          "scatterpolar": [
           {
            "marker": {
             "colorbar": {
              "outlinewidth": 0,
              "ticks": ""
             }
            },
            "type": "scatterpolar"
           }
          ],
          "scatterpolargl": [
           {
            "marker": {
             "colorbar": {
              "outlinewidth": 0,
              "ticks": ""
             }
            },
            "type": "scatterpolargl"
           }
          ],
          "scatterternary": [
           {
            "marker": {
             "colorbar": {
              "outlinewidth": 0,
              "ticks": ""
             }
            },
            "type": "scatterternary"
           }
          ],
          "surface": [
           {
            "colorbar": {
             "outlinewidth": 0,
             "ticks": ""
            },
            "colorscale": [
             [
              0,
              "#0d0887"
             ],
             [
              0.1111111111111111,
              "#46039f"
             ],
             [
              0.2222222222222222,
              "#7201a8"
             ],
             [
              0.3333333333333333,
              "#9c179e"
             ],
             [
              0.4444444444444444,
              "#bd3786"
             ],
             [
              0.5555555555555556,
              "#d8576b"
             ],
             [
              0.6666666666666666,
              "#ed7953"
             ],
             [
              0.7777777777777778,
              "#fb9f3a"
             ],
             [
              0.8888888888888888,
              "#fdca26"
             ],
             [
              1,
              "#f0f921"
             ]
            ],
            "type": "surface"
           }
          ],
          "table": [
           {
            "cells": {
             "fill": {
              "color": "#EBF0F8"
             },
             "line": {
              "color": "white"
             }
            },
            "header": {
             "fill": {
              "color": "#C8D4E3"
             },
             "line": {
              "color": "white"
             }
            },
            "type": "table"
           }
          ]
         },
         "layout": {
          "annotationdefaults": {
           "arrowcolor": "#2a3f5f",
           "arrowhead": 0,
           "arrowwidth": 1
          },
          "autotypenumbers": "strict",
          "coloraxis": {
           "colorbar": {
            "outlinewidth": 0,
            "ticks": ""
           }
          },
          "colorscale": {
           "diverging": [
            [
             0,
             "#8e0152"
            ],
            [
             0.1,
             "#c51b7d"
            ],
            [
             0.2,
             "#de77ae"
            ],
            [
             0.3,
             "#f1b6da"
            ],
            [
             0.4,
             "#fde0ef"
            ],
            [
             0.5,
             "#f7f7f7"
            ],
            [
             0.6,
             "#e6f5d0"
            ],
            [
             0.7,
             "#b8e186"
            ],
            [
             0.8,
             "#7fbc41"
            ],
            [
             0.9,
             "#4d9221"
            ],
            [
             1,
             "#276419"
            ]
           ],
           "sequential": [
            [
             0,
             "#0d0887"
            ],
            [
             0.1111111111111111,
             "#46039f"
            ],
            [
             0.2222222222222222,
             "#7201a8"
            ],
            [
             0.3333333333333333,
             "#9c179e"
            ],
            [
             0.4444444444444444,
             "#bd3786"
            ],
            [
             0.5555555555555556,
             "#d8576b"
            ],
            [
             0.6666666666666666,
             "#ed7953"
            ],
            [
             0.7777777777777778,
             "#fb9f3a"
            ],
            [
             0.8888888888888888,
             "#fdca26"
            ],
            [
             1,
             "#f0f921"
            ]
           ],
           "sequentialminus": [
            [
             0,
             "#0d0887"
            ],
            [
             0.1111111111111111,
             "#46039f"
            ],
            [
             0.2222222222222222,
             "#7201a8"
            ],
            [
             0.3333333333333333,
             "#9c179e"
            ],
            [
             0.4444444444444444,
             "#bd3786"
            ],
            [
             0.5555555555555556,
             "#d8576b"
            ],
            [
             0.6666666666666666,
             "#ed7953"
            ],
            [
             0.7777777777777778,
             "#fb9f3a"
            ],
            [
             0.8888888888888888,
             "#fdca26"
            ],
            [
             1,
             "#f0f921"
            ]
           ]
          },
          "colorway": [
           "#636efa",
           "#EF553B",
           "#00cc96",
           "#ab63fa",
           "#FFA15A",
           "#19d3f3",
           "#FF6692",
           "#B6E880",
           "#FF97FF",
           "#FECB52"
          ],
          "font": {
           "color": "#2a3f5f"
          },
          "geo": {
           "bgcolor": "white",
           "lakecolor": "white",
           "landcolor": "#E5ECF6",
           "showlakes": true,
           "showland": true,
           "subunitcolor": "white"
          },
          "hoverlabel": {
           "align": "left"
          },
          "hovermode": "closest",
          "mapbox": {
           "style": "light"
          },
          "paper_bgcolor": "white",
          "plot_bgcolor": "#E5ECF6",
          "polar": {
           "angularaxis": {
            "gridcolor": "white",
            "linecolor": "white",
            "ticks": ""
           },
           "bgcolor": "#E5ECF6",
           "radialaxis": {
            "gridcolor": "white",
            "linecolor": "white",
            "ticks": ""
           }
          },
          "scene": {
           "xaxis": {
            "backgroundcolor": "#E5ECF6",
            "gridcolor": "white",
            "gridwidth": 2,
            "linecolor": "white",
            "showbackground": true,
            "ticks": "",
            "zerolinecolor": "white"
           },
           "yaxis": {
            "backgroundcolor": "#E5ECF6",
            "gridcolor": "white",
            "gridwidth": 2,
            "linecolor": "white",
            "showbackground": true,
            "ticks": "",
            "zerolinecolor": "white"
           },
           "zaxis": {
            "backgroundcolor": "#E5ECF6",
            "gridcolor": "white",
            "gridwidth": 2,
            "linecolor": "white",
            "showbackground": true,
            "ticks": "",
            "zerolinecolor": "white"
           }
          },
          "shapedefaults": {
           "line": {
            "color": "#2a3f5f"
           }
          },
          "ternary": {
           "aaxis": {
            "gridcolor": "white",
            "linecolor": "white",
            "ticks": ""
           },
           "baxis": {
            "gridcolor": "white",
            "linecolor": "white",
            "ticks": ""
           },
           "bgcolor": "#E5ECF6",
           "caxis": {
            "gridcolor": "white",
            "linecolor": "white",
            "ticks": ""
           }
          },
          "title": {
           "x": 0.05
          },
          "xaxis": {
           "automargin": true,
           "gridcolor": "white",
           "linecolor": "white",
           "ticks": "",
           "title": {
            "standoff": 15
           },
           "zerolinecolor": "white",
           "zerolinewidth": 2
          },
          "yaxis": {
           "automargin": true,
           "gridcolor": "white",
           "linecolor": "white",
           "ticks": "",
           "title": {
            "standoff": 15
           },
           "zerolinecolor": "white",
           "zerolinewidth": 2
          }
         }
        },
        "title": {
         "font": {
          "color": "white",
          "size": 20
         },
         "text": "Expert Contributions and Predictions",
         "x": 0.5,
         "xanchor": "center",
         "y": 0.98,
         "yanchor": "top"
        },
        "width": 800,
        "xaxis": {
         "color": "white",
         "constrain": "domain",
         "linecolor": "rgba(255,255,255,0.1)",
         "linewidth": 1,
         "range": [
          -0.5,
          7.5
         ],
         "scaleanchor": "y",
         "scaleratio": 1,
         "showgrid": false,
         "showline": true,
         "tickangle": 0,
         "ticktext": [
          "l_out",
          "expert 1",
          "expert 2",
          "expert 3",
          "expert 4",
          "expert 5",
          "expert 6",
          "shared"
         ],
         "tickvals": [
          0,
          1,
          2,
          3,
          4,
          5,
          6,
          7
         ],
         "title": {
          "text": ""
         },
         "zeroline": false
        },
        "yaxis": {
         "autorange": "reversed",
         "color": "white",
         "constrain": "domain",
         "linecolor": "rgba(255,255,255,0.1)",
         "linewidth": 1,
         "range": [
          -0.5,
          27.5
         ],
         "showgrid": false,
         "showline": true,
         "ticktext": [
          "0",
          "1",
          "2",
          "3",
          "4",
          "5",
          "6",
          "7",
          "8",
          "9",
          "10",
          "11",
          "12",
          "13",
          "14",
          "15",
          "16",
          "17",
          "18",
          "19",
          "20",
          "21",
          "22",
          "23",
          "24",
          "25",
          "26",
          "27"
         ],
         "tickvals": [
          0,
          1,
          2,
          3,
          4,
          5,
          6,
          7,
          8,
          9,
          10,
          11,
          12,
          13,
          14,
          15,
          16,
          17,
          18,
          19,
          20,
          21,
          22,
          23,
          24,
          25,
          26,
          27
         ],
         "title": {
          "text": "Layer"
         },
         "zeroline": false
        }
       }
      }
     },
     "metadata": {},
     "output_type": "display_data"
    }
   ],
   "source": [
    "l = []\n",
    "x = len(tokenizer.encode(prompt))\n",
    "print(x)\n",
    "create_logit_lens_viz(analysis, token_pos=x-1, layers_to_plot=l)"
   ]
  },
  {
   "cell_type": "code",
   "execution_count": null,
   "metadata": {},
   "outputs": [],
   "source": []
  }
 ],
 "metadata": {
  "kernelspec": {
   "display_name": "ai_env",
   "language": "python",
   "name": "python3"
  },
  "language_info": {
   "codemirror_mode": {
    "name": "ipython",
    "version": 3
   },
   "file_extension": ".py",
   "mimetype": "text/x-python",
   "name": "python",
   "nbconvert_exporter": "python",
   "pygments_lexer": "ipython3",
   "version": "3.10.13"
  }
 },
 "nbformat": 4,
 "nbformat_minor": 2
}
