{
 "cells": [
  {
   "cell_type": "code",
   "execution_count": 1,
   "metadata": {},
   "outputs": [],
   "source": [
    "from transformers import AutoModelForCausalLM, AutoTokenizer\n",
    "import torch\n",
    "import plotly.express as px\n",
    "import plotly.graph_objects as go\n",
    "import numpy as np\n",
    "import os\n",
    "from typing import Dict, List, Tuple\n",
    "from collections import defaultdict"
   ]
  },
  {
   "cell_type": "code",
   "execution_count": 2,
   "metadata": {},
   "outputs": [
    {
     "data": {
      "application/vnd.jupyter.widget-view+json": {
       "model_id": "65dd6bbf3d2847109b1df0d9a6177586",
       "version_major": 2,
       "version_minor": 0
      },
      "text/plain": [
       "Loading checkpoint shards:   0%|          | 0/7 [00:00<?, ?it/s]"
      ]
     },
     "metadata": {},
     "output_type": "display_data"
    }
   ],
   "source": [
    "def load_model(model_name):\n",
    "    model = AutoModelForCausalLM.from_pretrained(\n",
    "        model_name,\n",
    "        torch_dtype=torch.float16,\n",
    "        trust_remote_code=True,\n",
    "        # use_flash_attention_2=True,\n",
    "    )\n",
    "    tokenizer = AutoTokenizer.from_pretrained(model_name)\n",
    "    return model, tokenizer\n",
    "\n",
    "model, tokenizer = load_model(\"deepseek-ai/deepseek-moe-16b-base\")"
   ]
  },
  {
   "cell_type": "code",
   "execution_count": 19,
   "metadata": {},
   "outputs": [],
   "source": [
    "def get_top_k_tokens(hidden_states: torch.Tensor, lm_head: torch.nn.Linear, tokenizer, k: int = 5) -> List[Tuple[str, float]]:\n",
    "    \"\"\" get topk tokens from hidden states using lm head \"\"\"\n",
    "    with torch.no_grad():\n",
    "        # Ensure hidden_states has at least 2 dimensions (batch_size, num_tokens, hidden_dim)\n",
    "        if hidden_states.dim() == 2:\n",
    "            hidden_states = hidden_states.unsqueeze(0)  # Add batch dimension\n",
    "            # Apply RMS normalization like in DeepseekRMSNorm\n",
    "            variance = hidden_states.pow(2).mean(-1, keepdim=True) \n",
    "            hidden_states = hidden_states * torch.rsqrt(variance + 1e-6)\n",
    "\n",
    "        logits = lm_head(hidden_states)  # (batch_size, num_tokens, vocab_size)\n",
    "    \n",
    "    # Get top-k tokens\n",
    "    scores, token_ids = torch.topk(logits, k=k, dim=-1)  # (batch_size, num_tokens, k)\n",
    "    \n",
    "    # Decode tokens and collect results for each position\n",
    "    results = []\n",
    "    for pos in range(scores.size(1)):  # Iterate over token positions\n",
    "        pos_results = []\n",
    "        for i in range(k):\n",
    "            token = tokenizer.decode(token_ids[0, pos, i])  # Decode token for this position\n",
    "            score = scores[0, pos, i].item()  # Get score for this position\n",
    "            pos_results.append((token, score))\n",
    "        results.append(pos_results)\n",
    "    \n",
    "    return results"
   ]
  },
  {
   "cell_type": "code",
   "execution_count": 33,
   "metadata": {},
   "outputs": [],
   "source": [
    "class DeepseekLayerAnalyzer:\n",
    "    def __init__(self, model, tokenizer):\n",
    "        self.model = model\n",
    "        self.tokenizer = tokenizer\n",
    "        self.layer_outputs = defaultdict(list)\n",
    "        self.moe_gate_outputs = defaultdict(list)\n",
    "        self.moe_combined_outputs = defaultdict(list)\n",
    "        self.expert_outputs = defaultdict(lambda: defaultdict(list))\n",
    "        self.shared_expert_outputs = defaultdict(list)\n",
    "        self.hooks = []\n",
    "        \n",
    "    def register_hooks(self):\n",
    "        \"\"\"Register hooks for layer outputs and MoE combination points\"\"\"\n",
    "        \n",
    "        def layer_output_hook(layer_idx):\n",
    "            def hook(module, inputs, outputs):\n",
    "                \"\"\"Hook for capturing layer outputs\"\"\"\n",
    "                hidden_states = outputs[0] if isinstance(outputs, tuple) else outputs\n",
    "                self.layer_outputs[layer_idx].append(hidden_states.detach())\n",
    "            return hook\n",
    "\n",
    "        def moe_gate_hook(layer_idx):\n",
    "            def hook(module, inputs, outputs):\n",
    "                \"\"\"Hook for capturing MoE gate outputs before expert computation\"\"\"\n",
    "                # Capture topk_idx, topk_weight, and aux_loss from gate outputs\n",
    "                if isinstance(outputs, tuple):\n",
    "                    topk_idx, topk_weight, aux_loss = outputs\n",
    "                    self.moe_gate_outputs[layer_idx].append({\n",
    "                        'topk_idx': topk_idx.detach(),\n",
    "                        'topk_weight': topk_weight.detach(),\n",
    "                        'aux_loss': aux_loss.detach() if aux_loss is not None else None\n",
    "                    })\n",
    "            return hook\n",
    "\n",
    "        def expert_hook(layer_idx, expert_idx):\n",
    "            def hook(module, inputs, outputs):\n",
    "                \"\"\"Hook for capturing expert outputs\"\"\"\n",
    "                # Get the latest gate outputs for this layer\n",
    "                if not self.moe_gate_outputs[layer_idx]:\n",
    "                    return print(f'no gate outputs for layer {layer_idx}')\n",
    "            \n",
    "                gate_data = self.moe_gate_outputs[layer_idx][-1]\n",
    "                \n",
    "                # Handle 2D or 3D tensor shapes\n",
    "                if len(gate_data['topk_idx'].shape) == 2:\n",
    "                    batch_size = 1\n",
    "                    seq_len, top_k = gate_data['topk_idx'].shape\n",
    "                else:\n",
    "                    batch_size, seq_len, top_k = gate_data['topk_idx'].shape\n",
    "                \n",
    "                # Get mask for tokens where this expert was selected\n",
    "                expert_mask = (gate_data['topk_idx'] == expert_idx)                \n",
    "                # Flatten and find positions where this expert was selected\n",
    "                selected_positions = torch.nonzero(expert_mask, as_tuple=True)\n",
    "                # If no tokens selected this expert, skip\n",
    "                if selected_positions[0].numel() == 0:\n",
    "                    return\n",
    "                    \n",
    "                # Get the actual inputs routed to this expert\n",
    "                # Inputs[0] shape: (total_selected_tokens, hidden_dim)\n",
    "                total_selected = inputs[0].shape[0] \n",
    "                # Validate we're processing the correct number of tokens\n",
    "                expected_selected = expert_mask.sum().item()\n",
    "                if total_selected != expected_selected:\n",
    "                    print(f\" expert {expert_idx} processed {total_selected} tokens but expected {expected_selected}\")\n",
    "                    return\n",
    "                    \n",
    "                # Get the full hidden states from outputs\n",
    "                # outputs shape: (total_selected_tokens, hidden_dim)\n",
    "                hidden_states = outputs\n",
    "                if isinstance(outputs, tuple):\n",
    "                    hidden_states = outputs[0]\n",
    "                    \n",
    "                # Record data for each selected position\n",
    "                for pos_idx, pos in enumerate(selected_positions[0]):\n",
    "                    token_data = {\n",
    "                        'position': pos.item(),\n",
    "                        'input': inputs[0][pos_idx].detach(),\n",
    "                        'output': outputs[pos_idx].detach(),\n",
    "                        'hidden_state': hidden_states[pos_idx].detach()  # Store full hidden state\n",
    "                    }\n",
    "                    \n",
    "                    # Get the corresponding gate weight for this position\n",
    "                    # Find which expert slot (in top_k) this expert was selected for this position\n",
    "                    expert_slots = (gate_data['topk_idx'][pos.item()] == expert_idx).nonzero(as_tuple=True)[0]\n",
    "                    if len(expert_slots) > 0:\n",
    "                        token_data['gate_weight'] = gate_data['topk_weight'][pos.item()][expert_slots[0]].item()\n",
    "                    \n",
    "                    self.expert_outputs[layer_idx][expert_idx].append(token_data)\n",
    "            return hook\n",
    "        \n",
    "        def shared_expert_hook(layer_idx):\n",
    "            def hook(module, inputs, outputs):\n",
    "                \"\"\"Hook for capturing shared expert outputs\"\"\"\n",
    "                self.shared_expert_outputs[layer_idx].append({\n",
    "                    'input': inputs[0].detach(),\n",
    "                    'output': outputs.detach()\n",
    "                })\n",
    "            return hook\n",
    "\n",
    "        def moe_combine_hook(layer_idx):\n",
    "            def hook(module, inputs, outputs):\n",
    "                \"\"\"Hook for capturing final combined MoE outputs\"\"\"\n",
    "                # For DeepseekMoE, this captures the weighted sum of expert outputs\n",
    "                self.moe_combined_outputs[layer_idx].append({\n",
    "                    'combined_output': outputs.detach(),\n",
    "                    'input': inputs[0].detach()  # Original input before MoE\n",
    "                })\n",
    "            return hook\n",
    "\n",
    "        # Register hooks for each layer\n",
    "        for layer_idx, layer in enumerate(self.model.model.layers):\n",
    "            # Hook for layer output\n",
    "            hook = layer.register_forward_hook(layer_output_hook(layer_idx))\n",
    "            self.hooks.append(hook)\n",
    "            \n",
    "            # If it's an MoE layer, add MoE-specific hooks\n",
    "            if hasattr(layer.mlp, 'experts'):\n",
    "                # Hook for gate mechanism\n",
    "                gate_hook = layer.mlp.gate.register_forward_hook(moe_gate_hook(layer_idx))\n",
    "                self.hooks.append(gate_hook)\n",
    "                \n",
    "                # Hook for each expert\n",
    "                for expert_idx, expert in enumerate(layer.mlp.experts):\n",
    "                    expert_hook_fn = expert.register_forward_hook(expert_hook(layer_idx, expert_idx))\n",
    "                    self.hooks.append(expert_hook_fn)\n",
    "\n",
    "                # Hook for shared expert if it exists\n",
    "                if hasattr(layer.mlp, 'shared_experts'):\n",
    "                    shared_hook = layer.mlp.shared_experts.register_forward_hook(shared_expert_hook(layer_idx))\n",
    "                    self.hooks.append(shared_hook)\n",
    "                \n",
    "                # Hook for final combined output\n",
    "                combine_hook = layer.mlp.register_forward_hook(moe_combine_hook(layer_idx))\n",
    "                self.hooks.append(combine_hook)\n",
    "\n",
    "    def analyze_tokens(self, input_ids: torch.Tensor, return_hidden_states: bool = False) -> Dict:\n",
    "        \"\"\" run inference and analyze tokens at each layer and expert combination point \"\"\"\n",
    "\n",
    "        self.moe_combined_outputs.clear()\n",
    "        self.expert_outputs.clear()\n",
    "        self.shared_expert_outputs.clear()\n",
    "        \n",
    "        # Forward pass\n",
    "        with torch.no_grad():\n",
    "            outputs = self.model(input_ids)\n",
    "        \n",
    "        results = {\n",
    "            'layer_predictions': {},\n",
    "            'moe_analysis': {},\n",
    "            'hidden_states': {} if return_hidden_states else None\n",
    "        }\n",
    "        \n",
    "        # Analyze layer outputs\n",
    "        for layer_idx, outputs in self.layer_outputs.items():\n",
    "            if not outputs:  # Skip if no outputs captured\n",
    "                continue\n",
    "            hidden_states = outputs[-1]  # Get last captured output\n",
    "            \n",
    "            \n",
    "            \n",
    "            \n",
    "            # Get token predictions for this layer\n",
    "            top_tokens = get_top_k_tokens(hidden_states, self.model.lm_head, self.tokenizer)\n",
    "            results['layer_predictions'][layer_idx] = top_tokens\n",
    "            \n",
    "            if return_hidden_states:\n",
    "                results['hidden_states'][f'layer_{layer_idx}'] = hidden_states\n",
    "        \n",
    "        # Analyze MoE layers\n",
    "        for layer_idx in self.moe_gate_outputs.keys():\n",
    "            if not self.moe_gate_outputs[layer_idx]:\n",
    "                continue\n",
    "                \n",
    "            gate_data = self.moe_gate_outputs[layer_idx][-1]  # Get last captured data\n",
    "            combined_data = self.moe_combined_outputs[layer_idx][-1]\n",
    "            \n",
    "            # Initialize predictions dictionary by position\n",
    "            expert_predictions_by_pos = defaultdict(dict)\n",
    "            expert_hidden_states_by_pos = defaultdict(dict)\n",
    "            \n",
    "            # Process expert outputs by position\n",
    "            for expert_idx, data_list in self.expert_outputs[layer_idx].items():\n",
    "                for data in data_list:\n",
    "                    position = data['position']\n",
    "                    # Get predictions for this expert's output at this position\n",
    "                    predictions = get_top_k_tokens(\n",
    "                        data['output'].unsqueeze(0),\n",
    "                        self.model.lm_head,\n",
    "                        self.tokenizer\n",
    "                    )\n",
    "                    expert_predictions_by_pos[position][expert_idx] = predictions[0]  # [0] because we only have one prediction set\n",
    "\n",
    "                    # Store hidden states\n",
    "                    expert_hidden_states_by_pos[position][expert_idx] = {\n",
    "                    'hidden_state': data['hidden_state'].tolist(),\n",
    "                    'gate_weight': data.get('gate_weight', None)\n",
    "                }\n",
    "            \n",
    "            # Get predictions for shared expert if it exists\n",
    "            if self.shared_expert_outputs[layer_idx]:\n",
    "                shared_expert_predictions = get_top_k_tokens(\n",
    "                    self.shared_expert_outputs[layer_idx][-1]['output'],\n",
    "                    self.model.lm_head,\n",
    "                    self.tokenizer\n",
    "                )\n",
    "            \n",
    "            # Update experts_analysis dictionary to include hidden states\n",
    "            experts_analysis = {\n",
    "            'selected_experts': gate_data['topk_idx'].tolist(),\n",
    "            'expert_weights': gate_data['topk_weight'].tolist(),\n",
    "            'aux_loss': gate_data['aux_loss'].item() if gate_data['aux_loss'] is not None else None,\n",
    "            'expert_predictions_by_position': dict(expert_predictions_by_pos),\n",
    "            'expert_hidden_states_by_position': dict(expert_hidden_states_by_pos),\n",
    "            'shared_expert_predictions': shared_expert_predictions if self.shared_expert_outputs[layer_idx] else None\n",
    "        }\n",
    "            \n",
    "            # Get token predictions from combined output\n",
    "            combined_tokens = get_top_k_tokens(\n",
    "                combined_data['combined_output'], \n",
    "                self.model.lm_head,\n",
    "                self.tokenizer\n",
    "            )\n",
    "            \n",
    "            experts_analysis['combined_output_tokens'] = combined_tokens\n",
    "            results['moe_analysis'][layer_idx] = experts_analysis\n",
    "\n",
    "        return results\n",
    "    \n",
    "    def cleanup(self):\n",
    "        \"\"\"remove all registered hooks\"\"\"\n",
    "        for hook in self.hooks:\n",
    "            hook.remove()\n",
    "        self.hooks.clear()\n",
    "\n",
    "def analyze_deepseek_moe(model, tokenizer, input_text: str, return_hidden_states: bool = False):\n",
    "    \"\"\" analyze DeepSeek MoE model behavior for given input text \"\"\"\n",
    "    analyzer = DeepseekLayerAnalyzer(model, tokenizer)\n",
    "    analyzer.register_hooks()\n",
    "    \n",
    "    input_ids = tokenizer(input_text, return_tensors=\"pt\").input_ids\n",
    "    \n",
    "    try:\n",
    "        results = analyzer.analyze_tokens(input_ids, return_hidden_states=return_hidden_states)\n",
    "        return results\n",
    "    finally:\n",
    "        analyzer.cleanup()  "
   ]
  },
  {
   "cell_type": "code",
   "execution_count": 34,
   "metadata": {},
   "outputs": [],
   "source": [
    "prompt = '''The mystery of life isn't a problem to solve, but a reality to'''\n",
    "\n",
    "analysis = analyze_deepseek_moe(\n",
    "    model, \n",
    "    tokenizer,\n",
    "    input_text=prompt\n",
    ")"
   ]
  },
  {
   "cell_type": "code",
   "execution_count": 35,
   "metadata": {},
   "outputs": [
    {
     "name": "stdout",
     "output_type": "stream",
     "text": [
      "input_ids : tensor([[100000,  46310]])\n"
     ]
    }
   ],
   "source": [
    "input_ids = tokenizer(text=\"venir\", return_tensors=\"pt\",).input_ids\n",
    "print(f'input_ids : {input_ids}')"
   ]
  },
  {
   "cell_type": "code",
   "execution_count": 36,
   "metadata": {},
   "outputs": [],
   "source": [
    "# layer_idx = 1  # example layer\n",
    "# token_pos = 4\n",
    "# expert_idx = 3\n",
    "# hidden_state_list = analysis['moe_analysis'][layer_idx]['expert_hidden_states_by_position'][token_pos][expert_idx]['hidden_state']\n",
    "# print(f'hidden_state_list : {len(hidden_state_list)}')\n"
   ]
  },
  {
   "cell_type": "code",
   "execution_count": 37,
   "metadata": {},
   "outputs": [],
   "source": [
    "def get_post_attn_ln_inputs(model, tokenizer, text):\n",
    "    \"\"\"places a hook on the post attention layernorm to retrieve its inputs\"\"\"\n",
    "    # Store inputs in a dict mapping layer idx -> inputs\n",
    "    post_attn_ln_inputs = {}\n",
    "    hooks = []\n",
    "    \n",
    "    def hook_post_attn_ln(module, input, output, layer_idx):\n",
    "        if layer_idx not in post_attn_ln_inputs:\n",
    "            post_attn_ln_inputs[layer_idx] = []\n",
    "        post_attn_ln_inputs[layer_idx].append([x.detach() for x in input])\n",
    "    \n",
    "    # Register hooks on post attention layernorm for each layer\n",
    "    for i, layer in enumerate(model.model.layers):\n",
    "        hooks.append(\n",
    "            layer.post_attention_layernorm.register_forward_hook(\n",
    "                lambda m, i, o, idx=i: hook_post_attn_ln(m, i, o, idx)\n",
    "            )\n",
    "        )\n",
    "    \n",
    "    try:\n",
    "        # Run inference\n",
    "        input_ids = tokenizer(text, return_tensors=\"pt\").input_ids\n",
    "        model(input_ids)\n",
    "        \n",
    "        return post_attn_ln_inputs\n",
    "        \n",
    "    finally:\n",
    "        # Clean up hooks\n",
    "        for hook in hooks:\n",
    "            hook.remove()"
   ]
  },
  {
   "cell_type": "code",
   "execution_count": 38,
   "metadata": {},
   "outputs": [],
   "source": [
    "post_attn_ln_inputs = get_post_attn_ln_inputs(model, tokenizer, text=prompt)"
   ]
  },
  {
   "cell_type": "code",
   "execution_count": 39,
   "metadata": {},
   "outputs": [],
   "source": [
    "def verify_moe_equation(model, tokenizer, layer_idx, text=\"the quick brown fox\", tolerance=1e-5):\n",
    "    \"\"\"\n",
    "    Verifies that MoE activations add up correctly:\n",
    "    final_layer_output = residual_stream_hidden_states_before_experts + moe_output\n",
    "    \"\"\"\n",
    "    analyzer = DeepseekLayerAnalyzer(model, tokenizer)\n",
    "    analyzer.register_hooks()\n",
    "    \n",
    "    input_ids = tokenizer(text, return_tensors=\"pt\").input_ids\n",
    "    try:\n",
    "        # Run the analysis to populate data structures\n",
    "        analyzer.analyze_tokens(input_ids)\n",
    "        # Get moe outputs and residual\n",
    "        if layer_idx not in analyzer.moe_combined_outputs or not analyzer.moe_combined_outputs[layer_idx]:\n",
    "            print(\"No combined output data found\")\n",
    "            return False\n",
    "\n",
    "        residual = post_attn_ln_inputs[layer_idx][-1][0][0]\n",
    "        print(f\"Residual shape: {residual.shape}\")\n",
    "        \n",
    "        # Get the combined MoE output directly from the hook\n",
    "        moe_output = analyzer.moe_combined_outputs[layer_idx][-1]['combined_output'][0]\n",
    "        print(f\"MoE output shape: {moe_output.shape}\")\n",
    "\n",
    "        # Get the final layer output\n",
    "        final_layer_output = analyzer.layer_outputs[layer_idx][-1][0]\n",
    "        print(f\"Final layer output shape: {final_layer_output.shape}\")\n",
    "        \n",
    "        # Full equation: final_output = residual + moe_output\n",
    "        lhs = residual + moe_output\n",
    "        print(f\"lhs shape: {lhs.shape}\")\n",
    "        print(f'lhs {lhs}')\n",
    "        rhs = final_layer_output\n",
    "        print(f\"rhs shape: {rhs.shape}\")\n",
    "        print(f'rhs {rhs}')\n",
    "        # Check if close\n",
    "        is_close = torch.allclose(lhs, rhs, rtol=tolerance, atol=tolerance)\n",
    "        print(f'is_close {is_close}')\n",
    "        if not is_close:\n",
    "            max_diff = (lhs - rhs).abs().max().item()\n",
    "            print(f\"Maximum difference: {max_diff:.6f}\")\n",
    "            print(\"\\nDetailed component analysis:\")\n",
    "            print(f\"Residual max value: {residual.abs().max().item():.6f}\")\n",
    "            print(f\"MoE output max value: {moe_output.abs().max().item():.6f}\")\n",
    "            print(f\"Final output max value: {final_layer_output.abs().max().item():.6f}\")\n",
    "            \n",
    "        return is_close\n",
    "        \n",
    "    finally:\n",
    "        analyzer.cleanup()"
   ]
  },
  {
   "cell_type": "code",
   "execution_count": 40,
   "metadata": {},
   "outputs": [],
   "source": [
    "# # Verify equation for a specific layer\n",
    "# is_valid = verify_moe_equation(model, tokenizer, layer_idx=26, )\n",
    "# print(f\"MoE equation holds: {is_valid}\")"
   ]
  },
  {
   "cell_type": "code",
   "execution_count": 46,
   "metadata": {},
   "outputs": [
    {
     "name": "stdout",
     "output_type": "stream",
     "text": [
      "Layer 0 predictions: [[('开辟', 1.318359375), ('晗', 1.244140625), ('wk', 1.2431640625), ('始终坚持', 1.2177734375), ('CM', 1.2080078125)], [('ODO', 1.1943359375), ('吸取', 1.1494140625), ('AGA', 1.123046875), ('辜负', 1.0869140625), ('ADO', 1.078125)], [('щ', 1.021484375), ('CELL', 0.97705078125), ('abla', 0.943359375), ('自我', 0.94287109375), ('ennes', 0.9111328125)], [('wk', 0.70263671875), ('稳步', 0.68701171875), ('UA', 0.6787109375), ('懿', 0.66845703125), ('充分利用', 0.66552734375)], [('wk', 0.88330078125), ('igen', 0.7978515625), ('jak', 0.767578125), ('Wise', 0.74658203125), ('WL', 0.74267578125)], [('JA', 0.7861328125), ('加快推进', 0.7412109375), ('QT', 0.73974609375), ('KF', 0.73486328125), ('UA', 0.728515625)], [('钰', 0.70166015625), ('建立起', 0.66943359375), ('欣喜', 0.65576171875), ('一再', 0.654296875), ('固执', 0.65283203125)], [('-', 0.603515625), ('ca', 0.57763671875), ('se', 0.5693359375), ('work', 0.568359375), (' h', 0.55029296875)], [('设法', 0.796875), ('加快推进', 0.76708984375), ('晖', 0.75341796875), ('OTO', 0.73583984375), ('深入推进', 0.712890625)], [('吸取', 0.7255859375), ('魁', 0.697265625), ('Archive', 0.69384765625), ('钰', 0.6865234375), ('=\"../_', 0.67919921875)], [('充分利用', 0.6689453125), ('不断提升', 0.64794921875), ('建立起', 0.64697265625), ('最大限度', 0.6220703125), ('OTS', 0.619140625)], [('1', 0.9892578125), ('0', 0.93359375), ('2', 0.8935546875), ('9', 0.85693359375), ('8', 0.83837890625)], [('固执', 0.9482421875), ('KF', 0.9482421875), ('UA', 0.896484375), ('GK', 0.873046875), ('GX', 0.857421875)], [('XF', 0.59814453125), ('GK', 0.57763671875), ('全力以赴', 0.57470703125), ('默默', 0.5634765625), ('坚定', 0.5576171875)], [('设法', 0.77490234375), ('晖', 0.7734375), ('全力以赴', 0.708984375), ('深入推进', 0.6826171875), ('HV', 0.67626953125)], [('ARC', 0.76806640625), ('一再', 0.74169921875), ('DEX', 0.720703125), ('懿', 0.69970703125), ('WER', 0.69921875)], [('充分利用', 0.65673828125), ('建立起', 0.61865234375), ('不断提升', 0.6162109375), ('最大限度', 0.6162109375), ('深入推进', 0.56494140625)]]\n",
      "Layer 1 predictions: [[(' препратки', 91.0), ('不成', 88.625), ('扫', 88.4375), ('�乐', 88.375), ('idades', 88.0)], [('зата', 1.609375), ('ODO', 1.591796875), ('莫名其', 1.5078125), ('ISM', 1.4296875), ('AMS', 1.416015625)], [('щ', 1.2265625), ('RG', 1.1767578125), ('端正', 1.16015625), ('番', 1.134765625), ('WL', 1.123046875)], [('巍', 0.908203125), ('充分利用', 0.8916015625), ('牢牢', 0.85205078125), (' уника', 0.83984375), ('晖', 0.837890625)], [('wk', 1.21484375), ('igen', 1.1845703125), ('WL', 1.037109375), ('jak', 1.0244140625), ('ERIC', 1.0107421875)], [('韬', 1.083984375), ('辜负', 1.0693359375), ('洋洋', 0.966796875), ('JB', 0.9501953125), ('JA', 0.91796875)], [('AMA', 0.8291015625), ('AMI', 0.80712890625), ('读书', 0.79541015625), ('ANA', 0.79248046875), ('宪', 0.78076171875)], [('йл', 1.0830078125), ('IVA', 0.99072265625), ('agon', 0.986328125), ('AVA', 0.9296875), ('�', 0.9248046875)], [('ften', 0.76904296875), (' modernista', 0.75927734375), ('OTO', 0.75244140625), ('设法', 0.74462890625), ('AMP', 0.74267578125)], [('atis', 0.921875), ('iosa', 0.88818359375), ('ICA', 0.88134765625), ('=\"../_', 0.876953125), ('agus', 0.86669921875)], [('充分利用', 0.73974609375), ('OTS', 0.66455078125), ('最大限度', 0.65234375), ('最大化', 0.64013671875), ('小心翼翼', 0.62890625)], [('0', 0.94677734375), ('1', 0.90234375), ('ignon', 0.890625), ('昊', 0.87353515625), ('近乎', 0.8583984375)], [(' n', 0.67724609375), ('GX', 0.6533203125), ('´', 0.611328125), (' Related', 0.59521484375), ('GK', 0.58447265625)], [('ODO', 0.6318359375), ('事先', 0.615234375), ('像', 0.60546875), (' \"', 0.60107421875), ('ND', 0.599609375)], [('晖', 0.75244140625), ('设法', 0.7451171875), ('vct', 0.7177734375), ('全力以赴', 0.70458984375), ('IED', 0.69677734375)], [('ARC', 1.005859375), ('煌', 0.9677734375), (' ', 0.8642578125), ('buff', 0.861328125), (' buff', 0.84716796875)], [('充分利用', 0.61962890625), ('最大限度', 0.6103515625), ('沉迷', 0.57080078125), ('芸', 0.56787109375), (' N', 0.55859375)]]\n",
      "Layer 2 predictions: [[(' препратки', 113.9375), ('�乐', 109.625), ('不成', 109.5625), ('扫', 108.5), ('idades', 108.375)], [('зата', 1.853515625), ('ODO', 1.8056640625), (' modernista', 1.5888671875), ('od', 1.5537109375), ('bod', 1.5498046875)], [('UA', 1.67578125), ('RG', 1.560546875), ('吐', 1.5390625), ('有效', 1.5283203125), (' Фо', 1.52734375)], [('懿', 1.2421875), ('горе', 1.22265625), ('ucode', 1.1787109375), ('韬', 1.1513671875), (' CA', 1.1376953125)], [('WL', 1.3583984375), ('wk', 1.3564453125), ('plex', 1.3271484375), (' ^', 1.3232421875), ('UL', 1.2841796875)], [('韬', 1.2216796875), ('�', 1.142578125), (' r', 1.107421875), (' Jill', 1.041015625), ('ODO', 1.037109375)], [('Fly', 1.0), ('AGO', 0.99609375), ('IVA', 0.9892578125), ('ADO', 0.9765625), ('ANI', 0.97412109375)], [('�', 1.29296875), ('agon', 1.248046875), ('IVA', 1.232421875), ('�', 1.2060546875), ('йл', 1.189453125)], [(' modernista', 1.0595703125), ('ften', 1.01953125), ('ODO', 0.9775390625), ('resos', 0.94921875), ('raq', 0.94775390625)], [('osia', 1.3447265625), ('ioc', 1.2783203125), ('atis', 1.220703125), ('尔特', 1.2177734375), ('iosa', 1.150390625)], [('充分利用', 0.89306640625), (' Responses', 0.8017578125), ('OTS', 0.79541015625), ('小心翼翼', 0.78857421875), ('spaces', 0.77392578125)], [('0', 1.4677734375), ('2', 1.4619140625), ('1', 1.337890625), ('9', 1.306640625), ('4', 1.27734375)], [('ygon', 0.98095703125), (' именно', 0.86328125), (' n', 0.8369140625), ('ofer', 0.7958984375), ('hab', 0.783203125)], [('eco', 0.88720703125), (' n', 0.81982421875), ('迟', 0.8125), ('ongo', 0.81005859375), ('TRI', 0.80908203125)], [('设法', 0.9404296875), ('晖', 0.8818359375), ('ODO', 0.87451171875), ('YM', 0.84814453125), ('黯', 0.8193359375)], [(' muest', 1.2060546875), ('煌', 1.1865234375), ('Spec', 1.166015625), ('WER', 1.1474609375), (' Все', 1.125)], [('enser', 0.7822265625), ('spaces', 0.732421875), (' OK', 0.732421875), ('芸', 0.7294921875), ('充分利用', 0.72265625)]]\n",
      "Layer 3 predictions: [[(' препратки', 123.125), ('имна', 121.6875), ('不成', 120.0), ('�乐', 119.9375), ('idades', 119.1875)], [('зата', 2.2578125), (' modernista', 2.021484375), ('ODO', 2.009765625), ('od', 1.95703125), (' избу', 1.88671875)], [('щ', 2.033203125), (' FA', 1.892578125), ('定了', 1.8681640625), ('二级', 1.8212890625), (' n', 1.8173828125)], [('горе', 1.8642578125), ('懿', 1.650390625), ('巍', 1.6279296875), (' CA', 1.556640625), ('ucode', 1.552734375)], [('opil', 1.61328125), ('plex', 1.5888671875), ('igen', 1.556640625), ('无所', 1.513671875), ('bout', 1.5068359375)], [('�', 1.4599609375), ('辜负', 1.3486328125), ('ISA', 1.330078125), ('APR', 1.30078125), (' r', 1.2431640625)], [('AGO', 1.578125), (' Corts', 1.51171875), ('жде', 1.484375), ('敏', 1.4755859375), (' Hosp', 1.4619140625)], [('�', 1.572265625), ('上方', 1.4375), ('昔', 1.400390625), ('йл', 1.3896484375), ('носа', 1.3876953125)], [('ODO', 1.55859375), ('ssf', 1.5322265625), ('indicat', 1.4375), (' modernista', 1.4140625), ('ften', 1.361328125)], [('osia', 1.5712890625), ('ioc', 1.52734375), ('尔特', 1.390625), ('atis', 1.333984375), ('ANC', 1.2880859375)], [('ANC', 1.41796875), ('YPT', 1.3818359375), ('enser', 1.3740234375), ('spaces', 1.26953125), ('有意', 1.2451171875)], [('2', 1.767578125), (' pcie', 1.5693359375), ('3', 1.4736328125), ('0', 1.46484375), ('1', 1.4462890625)], [('дем', 1.1962890625), ('ygon', 1.15234375), ('oser', 1.1220703125), (' n', 1.0888671875), ('hab', 1.072265625)], [('迟', 1.1689453125), ('ended', 1.14453125), ('sever', 1.1396484375), ('ting', 1.138671875), ('adesh', 1.1337890625)], [('全力以赴', 1.345703125), ('aya', 1.328125), ('随', 1.28125), ('奇特', 1.216796875), ('设法', 1.2041015625)], [('迅', 1.4345703125), ('耿', 1.3369140625), (' muest', 1.310546875), ('WER', 1.306640625), ('牌', 1.296875)], [('enser', 1.578125), ('ucode', 1.1142578125), ('дените', 1.0947265625), ('ACA', 1.0927734375), (' IT', 1.0927734375)]]\n",
      "Layer 4 predictions: [[(' препратки', 129.625), ('имна', 126.875), ('�乐', 126.1875), ('不成', 125.5), ('idades', 123.8125)], [('зата', 2.740234375), ('od', 2.37890625), ('隐', 2.16015625), ('ixa', 2.13671875), ('ODO', 2.1171875)], [('щ', 2.1796875), (' FA', 2.068359375), (' n', 1.9990234375), ('羞', 1.982421875), ('定了', 1.958984375)], [('горе', 2.001953125), ('remos', 1.951171875), (' _$', 1.896484375), ('跟随', 1.83984375), ('巍', 1.794921875)], [('趋势', 2.044921875), ('sav', 2.0234375), ('openg', 1.994140625), ('ser', 1.984375), ('无所', 1.9833984375)], [(' s', 1.4560546875), ('lai', 1.4482421875), ('APR', 1.4287109375), (' r', 1.4169921875), ('ODO', 1.41015625)], [('жде', 1.5654296875), (' Corts', 1.5517578125), ('ان', 1.55078125), ('归纳', 1.515625), ('rcl', 1.51171875)], [(' s', 1.9345703125), ('рад', 1.7646484375), ('йл', 1.67578125), ('上方', 1.62109375), ('носа', 1.5439453125)], [('ODO', 1.908203125), ('indicat', 1.8935546875), ('ssf', 1.8154296875), ('NAL', 1.6689453125), ('xdg', 1.5712890625)], [('尔特', 1.74609375), ('ioc', 1.703125), ('osia', 1.572265625), ('жност', 1.5361328125), ('Rated', 1.5341796875)], [('ANC', 1.7646484375), ('entar', 1.6015625), ('怠', 1.576171875), ('YPT', 1.5751953125), ('iats', 1.53515625)], [('osia', 1.6533203125), (' pcie', 1.6171875), ('adis', 1.583984375), ('лене', 1.5791015625), ('верен', 1.5712890625)], [(' r', 1.2724609375), (' n', 1.23828125), ('Issue', 1.20703125), ('oser', 1.1552734375), ('不忍', 1.134765625)], [('ongo', 1.30078125), ('eco', 1.275390625), ('ended', 1.271484375), ('迟', 1.2626953125), ('зема', 1.232421875)], [('平民', 1.5869140625), ('landa', 1.5576171875), ('埋', 1.5341796875), ('设法', 1.455078125), ('Ebre', 1.427734375)], [('迅', 1.7822265625), ('acc', 1.5537109375), ('兑现', 1.544921875), ('ser', 1.541015625), ('inam', 1.494140625)], [('enser', 1.4638671875), ('iats', 1.4580078125), ('тера', 1.44140625), ('дените', 1.4365234375), ('лени', 1.4228515625)]]\n",
      "Layer 5 predictions: [[(' препратки', 131.625), ('имна', 128.5), ('不成', 127.0625), ('�乐', 126.9375), ('idades', 125.25)], [('зата', 4.30078125), ('ambers', 4.078125), ('xspace', 3.716796875), ('龟', 3.689453125), (' lideratge', 3.60546875)], [('xspace', 2.55078125), ('产', 2.283203125), ('ще', 2.197265625), ('uco', 2.19140625), ('стите', 2.19140625)], [('горе', 2.576171875), ('remos', 2.556640625), ('四处', 2.416015625), ('UDE', 2.388671875), ('ennes', 2.28515625)], [('UST', 2.443359375), (' n', 2.431640625), ('enc', 2.34375), ('lay', 2.271484375), ('楷', 2.255859375)], [('ODO', 1.79296875), ('shal', 1.7685546875), ('arton', 1.7041015625), ('implicit', 1.630859375), ('odus', 1.53125)], [(' Corts', 1.697265625), ('AGO', 1.6279296875), ('жде', 1.5732421875), (' Hosp', 1.548828125), ('otron', 1.5322265625)], [(' \"', 2.140625), (' s', 2.1171875), ('ductors', 2.0703125), (' g', 2.04296875), ('чели', 2.037109375)], [('indicat', 2.06640625), ('ulats', 2.041015625), ('iid', 2.009765625), ('ODO', 1.9716796875), ('urals', 1.943359375)], [('iosa', 2.234375), ('ioc', 2.099609375), ('尔特', 2.01953125), ('кет', 1.890625), ('IO', 1.841796875)], [('ANC', 2.33203125), (' configur', 2.203125), ('怀', 1.98046875), ('ente', 1.8974609375), ('epad', 1.7841796875)], [('osia', 2.708984375), ('ESCO', 2.33203125), ('如意', 2.146484375), ('房', 2.060546875), ('↳', 2.041015625)], [('answer', 1.7021484375), ('oser', 1.6728515625), (' Народ', 1.501953125), ('ongo', 1.5009765625), (' respuestas', 1.4609375)], [('landa', 1.8095703125), ('ante', 1.7490234375), ('迟', 1.71875), ('зема', 1.712890625), ('ongo', 1.7099609375)], [('免费咨询电话', 2.1640625), ('landa', 2.119140625), ('平民', 1.9716796875), ('Ω', 1.921875), ('Explicit', 1.896484375)], [('迅', 1.8310546875), ('bolt', 1.7568359375), ('ablement', 1.7275390625), ('牌', 1.720703125), ('兮', 1.6103515625)], [(' Stammtafeln', 2.154296875), ('кога', 2.1171875), ('обла', 2.08203125), ('免费咨询电话', 1.982421875), ('чния', 1.982421875)]]\n",
      "Layer 6 predictions: [[(' препратки', 133.125), ('имна', 129.5), ('不成', 128.0), ('�乐', 127.5625), ('idades', 126.0625)], [('зата', 4.3046875), ('od', 3.85546875), ('ambers', 3.513671875), ('oden', 3.484375), ('龟', 3.48046875)], [('�', 2.564453125), ('стите', 2.5390625), ('xspace', 2.505859375), (' организации', 2.486328125), ('RG', 2.443359375)], [('горе', 2.9453125), ('�', 2.486328125), ('�', 2.37109375), ('鹿', 2.34765625), ('四处', 2.326171875)], [('的一面', 2.396484375), ('ser', 2.30078125), ('ствен', 2.294921875), ('UST', 2.291015625), ('lie', 2.2109375)], [('arton', 2.158203125), ('IATE', 1.94921875), ('atest', 1.8212890625), ('收敛', 1.7998046875), ('shal', 1.7880859375)], [(' Corts', 2.02734375), ('жде', 1.994140625), (' Hosp', 1.91015625), (' lowes', 1.8447265625), ('яма', 1.822265625)], [('носа', 2.208984375), ('昔', 2.203125), (' \"', 2.203125), (' r', 2.14453125), ('erset', 2.1328125)], [('ulats', 2.373046875), ('iid', 2.3671875), (' londin', 2.30859375), ('ODO', 2.236328125), ('indicat', 2.22265625)], [('iosa', 2.271484375), ('io', 2.05859375), ('ioc', 2.056640625), ('кет', 2.021484375), ('尔特', 1.966796875)], [('�', 2.14453125), ('LENT', 2.109375), (' configur', 2.078125), ('ente', 2.03125), ('epad', 1.9853515625)], [('osia', 2.740234375), ('1', 2.5), ('esi', 2.369140625), ('如意', 2.3671875), ('ignon', 2.26953125)], [('oser', 1.9931640625), ('чар', 1.9638671875), ('esser', 1.9130859375), ('idor', 1.767578125), ('Issue', 1.755859375)], [('зема', 2.208984375), ('oser', 2.169921875), ('Explicit', 2.123046875), ('nec', 2.08203125), ('idor', 1.8662109375)], [('landa', 2.42578125), ('iere', 2.400390625), ('chy', 2.23046875), ('�起', 2.18359375), ('�乐', 2.1640625)], [('�乐', 2.52734375), ('лист', 2.279296875), ('стен', 1.9892578125), ('AML', 1.8759765625), ('chitz', 1.87109375)], [('peak', 2.263671875), ('lesa', 2.123046875), (' q', 1.9599609375), ('Br', 1.9482421875), ('脱', 1.9150390625)]]\n",
      "Layer 7 predictions: [[(' препратки', 133.0), ('имна', 129.5), ('不成', 127.9375), ('�乐', 127.5625), ('idades', 126.1875)], [('зата', 4.39453125), ('od', 4.09765625), ('issons', 3.34765625), ('ambers', 3.259765625), ('隐', 3.1953125)], [('стите', 2.6875), ('lest', 2.677734375), ('�', 2.640625), ('传', 2.607421875), ('нци', 2.583984375)], [('горе', 3.005859375), ('�', 2.853515625), ('�', 2.74609375), ('�', 2.732421875), ('鹿', 2.615234375)], [('lie', 2.857421875), ('德', 2.693359375), ('的一面', 2.638671875), ('enc', 2.63671875), ('拧', 2.578125)], [('shal', 2.30078125), ('arton', 2.265625), ('net', 2.111328125), ('�', 2.103515625), ('收敛', 2.021484375)], [('otron', 2.013671875), (' Hosp', 1.9658203125), (' именно', 1.8583984375), ('HCI', 1.826171875), ('opi', 1.822265625)], [('上方', 2.87890625), ('рад', 2.6796875), ('昔', 2.6328125), ('�', 2.61328125), ('носа', 2.580078125)], [('�', 2.79296875), ('ulats', 2.7578125), ('�乐', 2.568359375), (' constitucional', 2.501953125), ('indicat', 2.423828125)], [('ioc', 2.654296875), ('кет', 2.625), ('iosa', 2.490234375), ('5', 2.41796875), ('ifold', 2.2734375)], [('верен', 3.462890625), ('�', 3.134765625), ('iboot', 3.037109375), ('iero', 2.8125), ('enth', 2.775390625)], [('esi', 2.806640625), ('osia', 2.69140625), ('如意', 2.5859375), ('ignon', 2.5859375), ('idable', 2.5625)], [('oser', 2.34375), ('ln', 2.25390625), ('рени', 2.203125), (' Народ', 2.16796875), ('Issue', 2.087890625)], [('oser', 2.55859375), ('зема', 2.34765625), ('IER', 2.322265625), ('ilion', 2.3125), ('迟', 2.3125)], [('�起', 3.265625), ('iere', 2.927734375), ('�', 2.8359375), ('尼奥', 2.76171875), ('eye', 2.755859375)], [('лист', 2.83984375), ('ser', 2.38671875), ('chitz', 2.373046875), ('lay', 2.298828125), ('riter', 2.1328125)], [('elist', 2.947265625), ('кога', 2.892578125), ('�乐', 2.818359375), ('�', 2.798828125), ('usages', 2.677734375)]]\n",
      "Layer 8 predictions: [[(' препратки', 133.0), ('имна', 129.5), ('不成', 127.9375), ('�乐', 127.375), ('idades', 126.3125)], [('зата', 4.61328125), ('od', 4.08984375), ('issons', 3.40234375), ('主动', 3.318359375), (' lideratge', 3.203125)], [('}^*(', 3.703125), ('}$~\\\\', 3.65625), ('lest', 3.212890625), ('стите', 3.18359375), ('iest', 3.1328125)], [('鹿', 3.365234375), ('�', 3.34375), ('�', 3.287109375), ('四处', 3.0234375), ('�', 3.00390625)], [('珍惜', 3.328125), (' std', 3.2734375), ('UST', 3.181640625), ('德', 3.115234375), (' Page', 2.994140625)], [('夫', 3.099609375), ('ipel', 2.990234375), ('nets', 2.7421875), ('regu', 2.681640625), ('穿', 2.630859375)], [('otron', 2.267578125), ('HCI', 2.19140625), ('�', 2.021484375), ('ADO', 1.9814453125), ('AGO', 1.98046875)], [('рад', 3.166015625), ('昔', 2.8984375), ('上方', 2.89453125), ('erset', 2.87890625), ('носа', 2.833984375)], [('ulats', 3.5078125), ('�乐', 3.484375), ('ideos', 3.31640625), ('ележки', 3.21875), ('�', 3.080078125)], [('thr', 2.990234375), ('кога', 2.884765625), ('ivel', 2.744140625), ('ractable', 2.685546875), ('кет', 2.658203125)], [('iboot', 4.296875), ('верен', 3.705078125), ('ански', 3.53125), ('andum', 3.43359375), ('agona', 3.39453125)], [('哈', 3.447265625), ('жене', 3.39453125), ('湃', 3.28125), ('↳', 3.18359375), ('�', 3.142578125)], [('wid', 2.9609375), ('═', 2.763671875), (' n', 2.66796875), ('шко', 2.61328125), ('心头', 2.591796875)], [(' COPY', 3.1171875), ('wid', 2.853515625), ('pattern', 2.740234375), ('зема', 2.73828125), (' realitz', 2.654296875)], [('maintainer', 3.474609375), ('chy', 3.453125), ('AY', 3.22265625), ('iere', 3.02734375), ('尼奥', 2.986328125)], [('chitz', 3.857421875), ('兮', 3.080078125), ('ifique', 2.994140625), ('坊', 2.982421875), ('dbf', 2.966796875)], [('elist', 3.830078125), ('terer', 3.65625), ('ionals', 3.541015625), ('usages', 3.513671875), ('emale', 3.453125)]]\n",
      "Layer 9 predictions: [[(' препратки', 134.25), ('имна', 130.25), ('不成', 129.25), ('�乐', 127.8125), ('idades', 127.375)], [('зата', 4.55078125), ('od', 4.45703125), ('issons', 3.787109375), ('xspace', 3.337890625), (' lideratge', 3.314453125)], [('}$~\\\\', 4.40625), ('}^*(', 4.171875), ('iest', 3.65234375), ('erning', 3.453125), ('#_', 3.451171875)], [('spaces', 3.490234375), ('难', 3.46875), ('�', 3.4453125), ('RG', 3.365234375), ('巡', 3.357421875)], [('UST', 3.59375), ('德', 3.5234375), (' (', 3.302734375), (' Page', 3.205078125), (' A', 3.19140625)], [('ipel', 3.1875), (' Answer', 2.82421875), ('AML', 2.82421875), (' детски', 2.818359375), ('erning', 2.810546875)], [('阳', 3.119140625), ('�', 3.04296875), ('恩', 3.029296875), ('amb', 3.009765625), ('rize', 2.962890625)], [('erset', 3.86328125), ('icket', 3.609375), ('中方', 3.41796875), ('носа', 3.408203125), ('illator', 3.341796875)], [('�乐', 4.10546875), ('ележки', 3.861328125), (' fyz', 3.83984375), ('ideos', 3.826171875), (' изпол', 3.70703125)], [('кет', 3.29296875), ('thr', 3.283203125), ('andel', 3.263671875), ('ivel', 3.177734375), ('善', 3.16015625)], [('iboot', 4.59375), ('�', 3.892578125), ('ански', 3.58984375), (' Вра', 3.5546875), ('illator', 3.447265625)], [('жене', 3.89453125), ('icut', 3.8828125), ('ipel', 3.7421875), ('料', 3.64453125), ('�', 3.60546875)], [('wid', 2.958984375), ('ln', 2.767578125), ('心头', 2.75390625), ('eek', 2.71875), ('kur', 2.654296875)], [(' COPY', 3.591796875), ('\\ta', 3.458984375), (' honour', 3.369140625), ('Embed', 3.255859375), ('aring', 3.203125)], [('chy', 3.841796875), ('�乐', 3.62890625), ('ertes', 3.5859375), ('fons', 3.578125), ('inada', 3.48046875)], [('chitz', 3.62890625), ('dbf', 3.1796875), ('兮', 2.9921875), ('headed', 2.876953125), ('坊', 2.77734375)], [('elist', 4.15625), ('emale', 3.791015625), ('usages', 3.72265625), ('ложен', 3.650390625), ('джиев', 3.646484375)]]\n",
      "Layer 10 predictions: [[(' препратки', 134.75), ('имна', 130.5), ('不成', 129.375), ('�乐', 128.125), ('idades', 127.8125)], [('od', 4.76953125), ('зата', 4.74609375), ('issons', 4.1953125), ('ODO', 3.650390625), ('主动', 3.404296875)], [('}$~\\\\', 5.02734375), ('}^*(', 4.80078125), ('края', 3.9453125), ('inkler', 3.91796875), ('兮', 3.849609375)], [('края', 4.16796875), ('收缩', 4.15234375), ('til', 4.01953125), ('горе', 3.98828125), ('吸取', 3.986328125)], [('следова', 3.806640625), ('dol', 3.67578125), ('德', 3.642578125), ('UST', 3.611328125), ('猜测', 3.546875)], [('ignon', 3.494140625), ('不明', 3.3046875), ('CCA', 3.287109375), ('ipel', 3.1640625), ('spaces', 3.138671875)], [('�', 3.326171875), ('HCI', 3.28515625), ('ITA', 3.0234375), ('布拉', 3.005859375), ('amb', 2.9921875)], [('рад', 4.35546875), ('Orient', 4.30859375), ('пита', 4.171875), ('туа', 4.1328125), (':~', 4.0390625)], [('�乐', 4.8828125), (' изпол', 4.67578125), (' fyz', 4.37890625), ('OperationKind', 4.35546875), (' изчезване', 4.265625)], [('afers', 3.64453125), ('andel', 3.634765625), ('主', 3.6171875), ('善', 3.591796875), ('кет', 3.5859375)], [('iboot', 4.84765625), ('illator', 4.3359375), ('�', 4.2578125), ('ански', 3.923828125), ('EOL', 3.880859375)], [('料', 4.390625), ('ignon', 4.3828125), ('жене', 4.2734375), ('EEP', 4.23828125), ('ipel', 4.23046875)], [('wid', 4.05859375), ('wel', 3.7265625), ('挽', 3.59765625), ('xo', 3.576171875), ('buzz', 3.548828125)], [('同心', 4.05078125), ('зер', 4.0078125), ('完', 3.8984375), ('Embed', 3.875), ('而生', 3.853515625)], [('ugosl', 4.3359375), ('правление', 4.32421875), ('ideos', 4.20703125), ('�', 4.16796875), ('jspx', 4.1171875)], [('兮', 3.958984375), ('chitz', 3.5546875), ('ordering', 3.228515625), ('capt', 3.19140625), ('фикация', 3.18359375)], [('elist', 4.640625), ('astern', 4.546875), ('iats', 4.52734375), ('emale', 4.31640625), ('empl', 4.30859375)]]\n",
      "Layer 11 predictions: [[(' препратки', 134.5), ('имна', 130.375), ('不成', 129.25), ('�乐', 128.5), ('idades', 127.9375)], [('od', 4.64453125), ('issons', 4.4453125), ('зата', 4.38671875), (' lideratge', 3.458984375), ('bes', 3.439453125)], [('}$~\\\\', 4.5625), ('滴', 4.37890625), ('}^*(', 4.34765625), ('края', 4.28125), ('iest', 4.1796875)], [('吸取', 4.55078125), ('края', 4.4453125), ('горе', 4.30078125), ('RG', 4.2265625), ('erning', 4.12109375)], [('德', 4.2578125), ('兮', 4.10546875), ('ствен', 3.94921875), ('следова', 3.9453125), ('листи', 3.923828125)], [('ignon', 3.41015625), ('dum', 3.091796875), ('正', 3.025390625), ('lob', 2.970703125), ('主', 2.8671875)], [('身份', 3.177734375), ('�', 3.166015625), ('HCI', 3.1484375), (' lowes', 3.04296875), ('INCREMENT', 3.037109375)], [('illator', 4.41015625), ('HG', 4.33203125), ('Съби', 4.234375), ('uters', 4.1640625), ('}$~\\\\', 4.13671875)], [('�乐', 5.83203125), (' изпол', 4.94140625), (' изчезване', 4.69921875), ('Съби', 4.6796875), ('OperationKind', 4.43359375)], [('andel', 4.76953125), ('兮', 4.3515625), ('стран', 4.328125), ('Orient', 4.26953125), ('光彩', 4.203125)], [('illator', 4.828125), ('�', 4.76171875), ('iboot', 4.58203125), ('жва', 4.3671875), ('EOL', 4.35546875)], [('ignon', 5.35546875), ('的一', 5.05859375), ('EEP', 4.83203125), ('篇', 4.77734375), ('料', 4.75)], [('wid', 4.3046875), ('完', 4.0234375), ('尼奥', 3.693359375), ('xo', 3.6484375), ('so', 3.6328125)], [('完', 4.41796875), ('зер', 4.39453125), ('\\ta', 4.36328125), ('和国', 4.08984375), ('中方', 4.078125)], [(' пореди', 6.34765625), (' сериали', 5.64453125), ('Funnels', 5.296875), ('�', 5.25), ('evo', 5.16796875)], [('cesi', 4.76171875), ('chitz', 4.7421875), ('兮', 4.61328125), ('威', 4.3359375), ('infer', 4.2265625)], [('astern', 5.5703125), ('iats', 5.52734375), ('ctree', 5.0390625), (' caiguda', 4.890625), ('elist', 4.828125)]]\n",
      "Layer 12 predictions: [[(' препратки', 136.875), ('имна', 130.875), ('不成', 130.75), ('idades', 129.5), ('�乐', 128.875)], [('зата', 5.10546875), ('od', 4.52734375), ('issons', 4.453125), (' modernista', 4.43359375), ('隐', 4.36328125)], [('}^*(', 5.1640625), (' почи', 4.64453125), ('}$~\\\\', 4.62890625), ('滴', 4.5703125), ('iest', 4.45703125)], [('края', 4.88671875), ('吸取', 4.671875), ('}^*(', 4.51953125), ('时刻', 4.3046875), ('收缩', 4.18359375)], [('德', 4.75390625), (' jur', 4.55859375), ('следова', 4.484375), ('�', 4.44140625), ('jer', 4.41796875)], [('spr', 3.490234375), ('iations', 3.4140625), ('ignon', 3.34765625), ('dum', 3.150390625), ('lob', 3.0703125)], [('坐', 3.33203125), ('�', 3.263671875), ('INCREMENT', 3.185546875), ('析', 3.181640625), ('恩', 3.111328125)], [('рад', 5.57421875), ('OperationKind', 4.88671875), ('agma', 4.70703125), ('Съби', 4.69921875), ('HG', 4.58984375)], [(' modernista', 5.03515625), ('ifique', 5.015625), ('OperationKind', 4.94921875), ('�乐', 4.91015625), ('Съби', 4.8515625)], [('andel', 5.5078125), ('兮', 4.90625), ('慈', 4.73046875), ('erable', 4.72265625), ('зай', 4.68359375)], [('illator', 5.09375), ('EOL', 4.9765625), ('ieft', 4.7578125), ('andel', 4.75390625), ('泰山', 4.68359375)], [('篇', 5.41015625), ('EEP', 5.25), ('ignon', 5.2265625), ('жени', 5.0703125), ('如意', 4.98828125)], [('心头', 4.4765625), ('гас', 4.4296875), ('set', 4.16015625), ('rer', 4.078125), ('har', 4.05859375)], [('\\ta', 5.63671875), ('зер', 5.07421875), ('Embed', 4.98828125), ('和国', 4.92578125), ('evo', 4.62890625)], [(' пореди', 6.859375), ('evo', 6.31640625), ('定', 5.94140625), (' сериали', 5.71484375), ('�', 5.51171875)], [('cesi', 5.68359375), ('兮', 5.34765625), ('ifique', 5.203125), ('olute', 5.19921875), ('IEEEeqnarray', 5.0078125)], [('iats', 5.69921875), ('illator', 5.32421875), ('tring', 5.15234375), ('astern', 5.1484375), ('脱', 5.140625)]]\n",
      "Layer 13 predictions: [[(' препратки', 136.625), ('имна', 131.0), ('不成', 130.625), ('idades', 129.5), ('�乐', 129.25)], [('зата', 4.890625), ('issons', 4.87890625), ('od', 4.53515625), ('隐', 4.46875), ('ODO', 4.33984375)], [('滴', 5.47265625), ('}^*(', 5.10546875), ('兮', 4.8828125), ('�乐', 4.76953125), ('�', 4.70703125)], [('края', 4.90625), ('收缩', 4.83984375), ('吸取', 4.625), ('escap', 4.58984375), ('时刻', 4.45703125)], [('вел', 5.18359375), ('ش', 5.046875), ('calls', 4.89453125), (' jur', 4.8515625), ('德', 4.8046875)], [('ignon', 4.484375), ('炳', 3.7578125), ('领悟', 3.537109375), ('ERN', 3.501953125), ('dum', 3.43359375)], [('坐', 3.4140625), ('布拉', 3.400390625), ('�', 3.337890625), ('́', 3.326171875), ('归纳', 3.3203125)], [('agma', 6.3359375), ('ставка', 6.09765625), ('OperationKind', 5.7890625), ('Съби', 5.6875), ('iclismo', 5.390625)], [('�乐', 6.8984375), ('ods', 5.77734375), ('Съби', 5.7421875), ('OperationKind', 5.67578125), ('ifique', 5.53515625)], [('andel', 6.2890625), (' solved', 5.74609375), ('reex', 5.45703125), ('善', 5.34765625), ('зай', 5.30078125)], [('andel', 5.7421875), ('ieft', 5.640625), ('illator', 5.36328125), ('жва', 5.34765625), ('solution', 5.3203125)], [('ignon', 6.16015625), ('篇', 5.72265625), ('PEG', 5.578125), ('料', 5.3828125), ('yset', 5.26171875)], [('ир', 5.96875), ('rer', 5.5703125), ('WIRE', 5.53125), ('而是', 5.32421875), ('гас', 5.30859375)], [('зер', 6.38671875), ('\\ta', 6.265625), ('�', 5.98828125), ('合格', 5.96484375), ('cades', 5.9609375)], [(' пореди', 9.609375), ('ActivityThread', 7.51171875), ('Olot', 7.44921875), ('}$~\\\\', 7.421875), (' сериали', 7.421875)], [('ifique', 7.140625), ('olute', 7.08984375), ('cesi', 6.6796875), ('ources', 6.58203125), ('兮', 6.421875)], [('cades', 7.82421875), ('elist', 7.6015625), ('ARRANT', 7.453125), ('}$~\\\\', 7.38671875), ('cesi', 7.2421875)]]\n",
      "Layer 14 predictions: [[(' препратки', 138.0), ('不成', 131.875), ('имна', 131.25), ('idades', 130.125), ('batim', 129.0)], [('atre', 5.875), ('ODO', 5.44921875), (' modernista', 5.43359375), ('issons', 5.00390625), ('隐', 4.99609375)], [('兮', 8.75), ('滴', 7.75), ('�乐', 7.41796875), ('}^*(', 7.140625), ('ulen', 6.90625)], [('设法', 5.5859375), (' rn', 5.4140625), (' H', 5.203125), (' n', 5.19921875), ('迫', 5.0703125)], [('вел', 5.5390625), ('�', 5.4375), ('wire', 5.17578125), ('振', 5.12109375), ('onics', 5.09765625)], [('ignon', 4.8359375), (' ANS', 4.04296875), ('arton', 4.03125), (' Answer', 3.8984375), ('́', 3.890625)], [('otron', 4.5078125), ('�', 4.28125), (' именно', 3.98828125), ('ITA', 3.951171875), ('HCI', 3.943359375)], [('ставка', 6.51953125), ('OperationKind', 6.4453125), ('agma', 6.3515625), ('Съби', 6.265625), ('�乐', 5.94140625)], [('�乐', 7.78125), ('ods', 6.7734375), ('OperationKind', 6.35546875), ('NonUser', 6.16015625), ('�', 6.11328125)], [('imin', 6.0859375), ('reex', 5.54296875), ('appre', 5.51953125), ('illot', 5.46484375), ('Orientation', 5.328125)], [('ieft', 6.48828125), ('ставка', 5.82421875), ('solution', 5.80859375), ('Solution', 5.4453125), ('жва', 5.43359375)], [('ilog', 7.48828125), ('篇', 7.31640625), ('而是在', 6.80078125), ('ipel', 6.5859375), ('ivistic', 6.53125)], [('ир', 6.48828125), ('\\tit', 6.171875), ('而是', 6.04296875), ('WIRE', 5.95703125), (' senc', 5.8828125)], [('\\ta', 7.62109375), ('合格', 6.93359375), ('�', 6.60546875), ('Dame', 6.4140625), (' an', 6.4140625)], [(' пореди', 10.2890625), ('�', 8.9453125), ('Olot', 8.0859375), (' сериали', 7.9921875), (' oprot', 7.796875)], [('ifique', 7.01171875), ('olute', 6.93359375), ('兮', 6.79296875), ('igning', 6.5546875), ('cesi', 6.44140625)], [('elist', 7.49609375), ('roduction', 7.25390625), ('cesi', 7.13671875), ('iats', 7.05859375), ('ReadWriteAccess', 7.01953125)]]\n",
      "Layer 15 predictions: [[(' препратки', 138.25), ('不成', 131.875), ('имна', 130.875), ('idades', 130.0), ('batim', 128.125)], [(' modernista', 7.0390625), ('ODO', 6.34765625), ('issons', 6.23046875), ('atre', 6.2109375), (' Meridional', 6.015625)], [('兮', 9.1796875), ('�乐', 9.1640625), ('TOOLSET', 8.6953125), ('}^*(', 8.46875), ('ulen', 8.4453125)], [('}^*(', 6.69921875), ('吸取', 6.64453125), ('设法', 6.640625), ('迫', 5.8984375), ('吸引', 5.88671875)], [('TOOLSET', 6.421875), ('振', 6.0390625), ('ilea', 5.5625), ('wire', 5.55078125), ('calls', 5.51953125)], [('ignon', 4.99609375), ('ility', 4.40625), ('dum', 4.37109375), ('ERN', 4.33984375), ('́', 4.2421875)], [('otron', 4.48046875), ('�', 4.3828125), ('ITA', 4.203125), ('归纳', 4.04296875), (' cau', 3.951171875)], [('Съби', 8.0703125), ('NonUser', 7.84375), ('�乐', 7.59375), ('cerning', 7.48828125), ('rances', 7.46875)], [('�乐', 7.49609375), ('NonUser', 7.3671875), ('eve', 7.01171875), ('myst', 6.91796875), (' materna', 6.71875)], [('illot', 6.22265625), (' solved', 6.1875), ('atio', 6.05859375), ('Orientation', 6.0390625), ('atical', 6.03515625)], [('erable', 9.0078125), ('be', 7.875), ('iats', 7.87109375), (' be', 7.734375), ('YPT', 7.24609375)], [('ilog', 9.5), ('篇', 9.359375), ('erset', 8.796875), ('�', 8.5625), ('而是在', 8.1953125)], [('\\tit', 8.1953125), (' senc', 7.625), ('ONU', 6.984375), ('ир', 6.92578125), ('stit', 6.8203125)], [('\\ta', 8.4375), ('一经', 7.28125), ('chid', 7.23046875), ('Orient', 7.203125), ('Dame', 7.19140625)], [('ActivityThread', 9.2265625), ('�乐', 8.71875), (' пореди', 8.4921875), ('stica', 8.1875), ('cesi', 8.1875)], [('�乐', 7.7421875), ('olute', 7.46484375), ('兮', 6.921875), ('igning', 6.91015625), ('维', 6.72265625)], [('cades', 9.5703125), ('cesi', 8.984375), ('iats', 8.9140625), ('roduction', 8.421875), ('apic', 8.265625)]]\n",
      "Layer 16 predictions: [[(' препратки', 138.25), ('不成', 132.0), ('имна', 130.5), ('idades', 130.125), ('�乐', 127.875)], [(' modernista', 7.453125), ('issons', 6.71875), ('atre', 6.52734375), (' involunt', 6.44921875), (' Prats', 6.35546875)], [('兮', 10.0625), ('�乐', 9.2890625), ('}^*(', 8.3359375), ('�', 8.234375), (' изчезване', 8.21875)], [('设法', 7.1640625), ('}^*(', 6.95703125), ('消失了', 6.953125), ('吸引', 6.94140625), ('吸取', 6.72265625)], [('TOOLSET', 6.88671875), ('劝', 5.98046875), ('кал', 5.76953125), ('ilea', 5.76171875), ('振', 5.75)], [('́', 6.01171875), ('ignon', 5.01171875), ('ility', 4.5859375), ('免费咨询电话', 4.5703125), (' modernista', 4.40625)], [('otron', 4.53125), ('ITA', 4.3359375), (' cau', 4.12890625), ('�', 4.0390625), ('归纳', 4.02734375)], [('NonUser', 8.328125), (' Милано', 8.171875), ('ставка', 7.796875), ('Съби', 7.765625), (' cre', 7.765625)], [('Myst', 8.2109375), ('�起', 7.8359375), ('eve', 7.6953125), ('рав', 7.5234375), ('myst', 7.48828125)], [('fixed', 9.640625), ('fix', 8.9609375), ('知情', 8.75), ('solve', 8.6015625), ('pera', 8.5546875)], [('iats', 8.9296875), ('erable', 8.8828125), (' be', 8.578125), ('ieft', 8.2890625), ('be', 8.265625)], [('�', 9.5703125), ('篇', 9.296875), ('erset', 8.921875), ('ilog', 8.796875), ('ploys', 8.5703125)], [('\\tit', 9.421875), (' senc', 8.296875), (' it', 8.0078125), ('it', 7.95703125), ('MODE', 7.265625)], [('\\ta', 8.6171875), ('�', 7.34765625), ('合格', 7.32421875), ('chid', 7.16015625), ('一经', 7.12109375)], [('stica', 9.2109375), ('ActivityThread', 8.53125), ('ENCE', 8.5078125), ('�', 8.234375), ('maz', 8.1640625)], [('реща', 8.7421875), ('olute', 8.4765625), ('维', 8.2734375), ('riter', 8.1953125), ('�乐', 7.73828125)], [('cades', 8.359375), ('INGLE', 7.984375), ('bolt', 7.84375), ('iats', 7.84375), ('roduction', 7.70703125)]]\n",
      "Layer 17 predictions: [[(' препратки', 139.625), ('不成', 132.875), ('имна', 130.625), ('idades', 130.125), ('�乐', 128.125)], [(' modernista', 7.640625), ('ODO', 7.6015625), (' Prats', 6.97265625), ('atre', 6.86328125), ('issons', 6.71875)], [('兮', 11.3828125), (' изчезване', 9.953125), ('�乐', 9.609375), ('滴', 9.171875), (' Вътрешната', 9.09375)], [('神秘', 8.7265625), ('消失了', 8.0703125), ('}^*(', 7.9921875), (' why', 7.91015625), ('吸引', 7.8359375)], [('匆匆', 6.46875), ('ilea', 6.34765625), ('́', 6.3359375), ('振', 6.3359375), ('炳', 6.3046875)], [('́', 7.79296875), (\"'-\", 6.0390625), ('’', 5.84375), ('̀', 5.828125), ('平庸', 5.59765625)], [('otron', 4.58203125), (' cau', 4.4921875), ('́', 4.37890625), ('ITA', 4.28515625), ('HCI', 4.1953125)], [('ставка', 8.2109375), ('leton', 7.8671875), ('letic', 7.8515625), ('NonUser', 7.55859375), (' Ours', 7.49609375)], [('Myst', 8.3125), ('myst', 7.6328125), ('cada', 7.51171875), ('cess', 7.4453125), ('神秘', 7.2734375)], [('solve', 11.046875), ('pera', 10.71875), (' solved', 10.2109375), ('solving', 10.015625), ('解决方案', 9.5625)], [('be', 9.1953125), (' be', 8.140625), ('erable', 7.9140625), ('方案', 7.6328125), ('olved', 7.57421875)], [('而是在', 11.4375), ('erset', 11.0859375), ('而是', 10.4296875), ('оръ', 10.265625), ('ilog', 10.2421875)], [('\\tit', 10.8359375), ('it', 9.28125), (' senc', 8.5859375), (' it', 8.453125), ('regu', 8.0390625)], [('\\ta', 8.203125), ('一经', 7.51171875), (' a', 7.14453125), ('合格', 7.1328125), ('chid', 7.015625)], [('stica', 9.2421875), ('maz', 7.93359375), ('�', 7.84765625), ('hma', 7.83203125), ('cesi', 7.72265625)], [('тъ', 9.0703125), ('реща', 9.0625), ('olute', 8.6875), ('维', 8.5703125), ('riter', 8.109375)], [('INGLE', 9.2578125), ('apic', 8.890625), ('rix', 8.5234375), ('acular', 8.2578125), ('cesi', 8.2265625)]]\n",
      "Layer 18 predictions: [[(' препратки', 140.125), ('不成', 132.875), ('имна', 130.25), ('idades', 130.125), ('�乐', 128.125)], [(' modernista', 8.4453125), ('atre', 8.4140625), ('ODO', 8.046875), ('一再', 7.89453125), (' Prats', 7.5703125)], [('兮', 10.8359375), (' изчезване', 9.9765625), ('ascut', 9.609375), (' Вътрешната', 9.4375), ('�', 9.1484375)], [('消失了', 9.0625), ('神秘', 9.0234375), ('}^*(', 8.3125), ('设法', 8.2109375), ('吸引', 8.1953125)], [('振', 6.546875), ('役', 6.40234375), ('劝', 6.3828125), ('ilea', 6.296875), ('炳', 6.2734375)], [('́', 7.796875), (\"'-\", 6.140625), ('’', 6.0234375), ('平庸', 5.98046875), ('̀', 5.89453125)], [('ITA', 4.60546875), ('otron', 4.56640625), (' cau', 4.515625), ('́', 4.33984375), ('ان', 4.19140625)], [('ставка', 8.6328125), ('letic', 8.2265625), ('MIS', 7.63671875), (' cre', 7.34765625), ('leton', 7.18359375)], [('Myst', 8.578125), ('ighed', 8.5546875), ('рав', 7.57421875), ('OG', 7.4140625), ('技术', 7.2890625)], [('solve', 11.0390625), ('solving', 10.71875), (' solved', 10.46875), ('pera', 10.2109375), ('解决方案', 9.5390625)], [('解', 9.171875), ('be', 8.90625), ('ieft', 8.7890625), (' be', 8.7421875), ('roduction', 8.328125)], [('而是在', 11.546875), ('�', 11.0390625), ('erset', 10.59375), ('而是', 10.578125), ('оръ', 10.28125)], [('\\tit', 10.6171875), ('it', 8.828125), ('regu', 8.34375), (' it', 8.2265625), ('regon', 7.9296875)], [('\\ta', 10.0859375), (' a', 9.53125), ('ches', 8.8359375), (' an', 8.3671875), ('tles', 7.93359375)], [('stica', 9.03125), ('ances', 8.734375), ('ENCE', 8.6328125), ('很大', 8.3359375), ('enso', 8.2734375)], [('реща', 9.6015625), ('тъ', 9.5859375), ('�乐', 8.9921875), (' to', 8.8515625), (' cint', 8.6796875)], [('登', 9.1640625), ('享受', 9.1484375), ('apic', 8.609375), ('experience', 8.3515625), ('cesi', 8.21875)]]\n",
      "Layer 19 predictions: [[(' препратки', 141.125), ('不成', 132.75), ('имна', 130.25), ('idades', 130.125), ('�乐', 128.875)], [('atre', 8.8984375), (' modernista', 8.8828125), (' Prats', 8.328125), ('ODO', 8.25), ('一再', 7.8828125)], [('兮', 11.4375), ('�乐', 10.53125), (' изчезване', 10.4375), ('ascut', 10.328125), (' Вътрешната', 9.828125)], [('消失了', 10.734375), ('神秘', 9.8203125), ('}^*(', 9.6875), ('设法', 9.484375), ('消失', 9.265625)], [('炳', 7.53125), ('́', 7.48828125), ('HG', 7.125), ('线的', 6.69140625), ('TOOLSET', 6.66796875)], [('́', 8.0546875), ('平庸', 6.84375), (' lt', 6.50390625), ('’', 6.31640625), ('̀', 6.24609375)], [('́', 4.5625), ('HCI', 4.484375), ('otron', 4.34375), ('ITA', 4.26953125), (' cau', 4.24609375)], [('ставка', 10.4296875), ('чва', 9.2109375), ('letic', 9.09375), ('sei', 8.4453125), (' Ours', 8.3515625)], [('Myst', 12.25), ('myst', 10.15625), ('vex', 9.34375), ('ighed', 9.125), ('cess', 8.546875)], [('solve', 11.3828125), (' solved', 11.1484375), ('solving', 11.140625), ('pera', 10.6796875), (' solving', 9.9140625)], [('be', 9.8828125), (' be', 9.4765625), ('解', 9.1328125), ('ONU', 9.1015625), ('UNT', 8.953125)], [('erset', 11.1640625), ('而是在', 11.1171875), ('�', 11.0234375), ('оръ', 10.875), ('而是', 10.1953125)], [('\\tit', 14.46875), (' it', 11.484375), ('nor', 11.3984375), ('regu', 11.0078125), (' but', 10.5859375)], [('\\ta', 10.90625), (' a', 9.65625), ('ches', 8.8671875), (' an', 8.640625), (' rather', 8.578125)], [('stica', 11.53125), ('Myst', 9.5703125), ('�', 9.3828125), ('ENCE', 9.359375), ('ilk', 9.34375)], [(' to', 13.0234375), ('\\tto', 11.4296875), ('тъ', 9.3203125), (' cint', 8.90625), ('реща', 8.6015625)], [('享受', 10.359375), ('登', 10.3125), ('apic', 9.6640625), ('昧', 9.078125), ('roduction', 8.7265625)]]\n",
      "Layer 20 predictions: [[(' препратки', 140.875), ('不成', 132.75), ('имна', 130.125), ('idades', 130.0), ('}$~\\\\', 128.875)], [(' modernista', 9.265625), ('atre', 8.859375), (' Prats', 8.4453125), ('ODO', 8.1953125), ('一再', 7.9375)], [('surround', 20.171875), ('�乐', 17.0625), (' Surround', 16.0), (' surrounding', 14.53125), ('兮', 12.4140625)], [('消失了', 10.625), ('神秘', 10.4296875), ('iclismo', 9.9609375), (' изчезване', 9.9296875), ('设法', 9.8125)], [('́', 8.3359375), ('炳', 8.2109375), ('就在于', 7.48828125), ('莫过于', 7.1640625), ('beyond', 7.125)], [('́', 8.5703125), ('̀', 6.90625), ('’', 6.83984375), ('平庸', 6.6484375), (\"'\", 6.5859375)], [('HCI', 4.9140625), ('otron', 4.76171875), (' cau', 4.64453125), ('ITA', 4.60546875), ('́', 4.5234375)], [('ставка', 10.8203125), ('чва', 8.4765625), ('letic', 8.2109375), ('leta', 8.0859375), ('sei', 7.9921875)], [('Myst', 10.59375), ('рав', 10.234375), ('cess', 9.953125), ('vex', 9.5546875), ('cada', 9.484375)], [(' to', 13.75), ('to', 12.2421875), ('pera', 11.8671875), ('\\tto', 11.8125), ('tols', 11.7421875)], [(' be', 12.9375), ('be', 12.796875), ('解', 12.75), ('解决方案', 11.4453125), ('方案', 11.078125)], [('�', 11.875), ('erset', 10.34375), ('ignon', 10.21875), ('而是在', 10.1796875), ('>:<', 9.96875)], [('\\tit', 15.7421875), (' it', 12.8125), (' but', 11.1953125), ('but', 11.1796875), ('nor', 10.890625)], [('rather', 10.953125), ('\\ta', 10.296875), ('ати', 10.0625), ('Rather', 10.0546875), (' rather', 9.875)], [('stica', 11.3203125), ('nexi', 11.28125), ('ENCE', 10.3359375), ('ough', 10.328125), ('ixt', 10.1796875)], [(' to', 17.8125), ('\\tto', 16.046875), ('to', 11.1640625), ('tode', 11.1015625), (' To', 10.984375)], [('experience', 11.1328125), ('登', 10.9453125), ('Experience', 10.359375), (' experience', 9.921875), ('昧', 9.875)]]\n",
      "Layer 21 predictions: [[(' препратки', 142.375), ('不成', 132.75), ('имна', 131.0), ('}$~\\\\', 130.75), ('idades', 129.875)], [(' modernista', 10.1953125), ('atre', 9.9921875), ('一再', 9.1171875), ('ODO', 9.09375), (' Prats', 9.0625)], [('surround', 21.015625), ('�乐', 18.453125), (' Surround', 16.625), (' surrounding', 14.6953125), ('TOOLSET', 13.59375)], [(' изчезване', 12.1484375), ('设法', 11.1796875), (' desapare', 11.078125), ('消失了', 10.890625), (' disappearance', 10.8515625)], [('́', 9.8046875), ('炳', 8.6953125), ('WIRE', 8.4296875), ('HDA', 8.3828125), ('伤残', 8.3515625)], [('́', 9.0859375), ('’', 8.6875), (\"'\", 7.9609375), ('̀', 7.55078125), ('´', 7.08203125)], [('HCI', 4.9765625), (' cau', 4.8203125), ('otron', 4.77734375), ('确立', 4.7421875), ('�', 4.69921875)], [('ставка', 10.6796875), ('letic', 8.296875), (' Ours', 8.140625), ('cada', 8.0390625), ('itons', 7.96875)], [('рав', 12.375), ('gham', 11.2890625), ('MSearch', 11.1953125), ('Myst', 10.5078125), ('га', 10.2734375)], [(' to', 13.015625), ('tols', 12.21875), ('pera', 11.421875), ('\\tto', 11.390625), ('solving', 10.8046875)], [(' be', 15.8359375), ('be', 14.7890625), ('解', 13.953125), ('olved', 13.046875), (' solve', 12.8984375)], [('erset', 12.484375), ('ignon', 12.2265625), ('观点或立场', 11.9140625), ('�', 11.8046875), ('geries', 11.515625)], [('\\tit', 16.015625), ('but', 12.9609375), (' it', 12.6484375), (' but', 12.3984375), (' sino', 11.015625)], [('rather', 11.5), ('\\ta', 11.359375), ('ати', 10.65625), ('Rather', 10.28125), (' rather', 10.2734375)], [('nexi', 12.40625), ('stica', 11.4765625), ('umno', 11.234375), ('ixt', 11.0546875), ('ilk', 10.6328125)], [(' to', 18.140625), ('\\tto', 16.71875), ('to', 11.71875), ('tode', 11.34375), (' To', 11.296875)], [('experience', 12.140625), ('Experience', 11.4765625), ('�', 11.28125), (' experience', 11.1484375), ('登', 11.125)]]\n",
      "Layer 22 predictions: [[(' препратки', 142.5), ('不成', 132.875), ('имна', 131.0), ('}$~\\\\', 131.0), ('idades', 129.75)], [('atre', 10.8046875), ('一再', 10.71875), (' modernista', 10.6171875), ('ODO', 10.1640625), (' Prats', 9.8046875)], [('surround', 21.125), ('�乐', 19.40625), (' Surround', 17.140625), ('TOOLSET', 14.7890625), (' изчезване', 14.71875)], [(' изчезване', 14.1015625), ('一再', 12.40625), (' desapare', 12.3984375), ('设法', 12.390625), ('iclismo', 12.3515625)], [('́', 9.0390625), (' isl', 8.8984375), ('伤残', 8.8671875), ('炳', 8.4921875), ('就在于', 8.0)], [('’', 13.234375), (\"'\", 11.96875), ('обла', 10.578125), ('营', 10.375), ('´', 10.15625)], [('HCI', 5.43359375), ('黯', 5.328125), ('�', 5.2578125), ('确立', 5.1875), ('专职', 5.078125)], [('ставка', 10.5625), ('洒', 9.2890625), (' Ours', 8.4140625), (' Viu', 8.3828125), ('oule', 8.359375)], [('рав', 12.7734375), ('MSearch', 12.1015625), ('gham', 11.203125), ('Myst', 10.75), ('га', 10.578125)], [('tols', 13.7421875), ('pera', 11.9765625), ('zoom', 11.484375), (' to', 11.2578125), ('to', 10.6875)], [('解', 14.2734375), ('ograp', 12.828125), ('solve', 12.484375), (' solve', 12.2734375), ('solver', 12.2109375)], [(' but', 15.1015625), ('but', 13.2421875), ('观点或立场', 12.71875), ('erable', 12.5625), ('�', 12.5546875)], [('\\tit', 19.140625), (' it', 15.2109375), ('but', 14.7421875), (' but', 14.3359375), ('GIN', 12.4609375)], [('\\ta', 12.1328125), ('rather', 11.6875), ('ати', 11.390625), ('Rather', 11.0703125), (' rather', 10.8515625)], [('stica', 14.25), ('reality', 14.140625), ('nexi', 13.15625), ('eks', 12.8515625), ('ALE', 12.3984375)], [('equence', 10.21875), ('uzz', 10.078125), ('пър', 9.9921875), (' cint', 9.8515625), ('tope', 9.796875)], [('Experience', 12.5859375), ('ibol', 12.46875), ('experience', 12.375), ('登', 11.6328125), (' anomenades', 11.53125)]]\n",
      "Layer 23 predictions: [[(' препратки', 139.375), ('不成', 129.5), ('}$~\\\\', 128.0), ('�乐', 126.9375), ('имна', 126.25)], [('一再', 12.0234375), (' modernista', 11.7109375), ('晗', 11.5546875), ('ODO', 11.4453125), ('LASS', 10.7578125)], [('surround', 20.109375), ('�乐', 20.0), (' Surround', 16.140625), ('TOOLSET', 15.796875), (' detr', 15.5703125)], [(' изчезване', 15.3125), ('一再', 13.78125), ('设法', 13.2734375), (' desapare', 13.2265625), ('iclismo', 13.21875)], [('炳', 9.78125), ('чер', 9.3984375), ('pica', 9.15625), ('Италиан', 9.125), ('́', 9.09375)], [('’', 15.4609375), (\"'\", 14.53125), ('´', 11.8046875), (\"'%\", 11.0859375), (\"'<\", 10.9609375)], [('HCI', 5.5390625), ('�', 5.1328125), ('�', 5.12890625), ('黯', 4.9375), ('专职', 4.90625)], [('ставка', 10.203125), ('cada', 9.1796875), ('oule', 9.125), ('NonUser', 9.125), ('.}}', 9.078125)], [('MSearch', 13.4140625), ('рав', 13.1484375), ('cada', 12.734375), ('ncy', 12.3984375), ('ъз', 12.046875)], [('tols', 12.796875), ('pera', 12.34375), (' to', 12.34375), ('\\tto', 11.4609375), ('tode', 10.859375)], [('解', 13.859375), ('Sol', 13.171875), ('solve', 12.453125), ('solver', 12.1484375), ('Solver', 12.1015625)], [(' but', 15.46875), ('观点或立场', 14.3046875), ('but', 13.8984375), ('OLEAN', 13.078125), ('erable', 12.7109375)], [('\\tit', 20.296875), ('but', 15.53125), (' it', 15.4296875), (' but', 14.90625), ('GIN', 14.1796875)], [('\\ta', 12.4140625), ('rather', 11.6484375), ('ати', 11.3359375), ('Rather', 11.0), ('acamole', 10.7265625)], [('nexi', 16.328125), ('reality', 15.5078125), ('stica', 15.078125), ('umno', 14.828125), ('ALE', 14.703125)], [('TOOLSET', 11.03125), ('сур', 10.2265625), ('вител', 10.203125), ('tope', 9.984375), ('uzz', 9.96875)], [('Experience', 14.0859375), ('experience', 13.875), ('ILED', 12.4765625), (' Experience', 12.359375), ('ilies', 12.3125)]]\n",
      "Layer 24 predictions: [[(' препратки', 135.5), ('不成', 125.25), ('}$~\\\\', 124.8125), ('�乐', 122.5), (' carta', 121.25)], [('ODO', 14.8984375), ('一再', 13.90625), ('atre', 13.75), ('晗', 13.2109375), ('ophilus', 12.78125)], [('�乐', 21.6875), ('surround', 21.140625), ('TOOLSET', 18.859375), (' Surround', 17.234375), (' изчезване', 17.078125)], [('iclismo', 14.9140625), (' изчезване', 14.703125), (' disappe', 14.375), ('一再', 14.3359375), (' Dins', 14.15625)], [('Италиан', 10.484375), ('TOOLSET', 10.2890625), ('Съби', 10.234375), ('NOSCRIPT', 10.03125), ('HDA', 9.9609375)], [('’', 21.109375), (\"'\", 19.59375), ('´', 16.71875), ('зар', 14.140625), ('́', 14.0)], [('HCI', 5.8125), ('�', 5.64453125), ('�', 5.39453125), ('真心', 5.1953125), ('ITA', 5.1171875)], [('\\ta', 13.84375), ('oule', 11.1171875), (' aC', 10.7734375), (' Ours', 10.640625), ('itons', 10.609375)], [('ssf', 12.921875), ('pentaho', 12.8125), ('Locked', 12.5234375), ('终极', 12.390625), ('FieldLocation', 12.2578125)], [(' to', 15.8046875), ('tols', 14.265625), ('regi', 13.84375), ('\\tto', 13.7109375), ('to', 13.546875)], [('解', 16.09375), ('Solver', 13.734375), ('Sol', 13.625), (' solve', 12.5390625), ('solve', 12.53125)], [(' but', 18.09375), ('but', 15.7421875), ('观点或立场', 15.5390625), ('BUT', 14.046875), ('But', 13.2265625)], [('\\tit', 18.953125), (' but', 16.8125), ('but', 16.578125), (' it', 14.953125), ('BUT', 14.34375)], [('\\ta', 13.8359375), (' a', 12.9296875), (' an', 12.0625), ('rather', 11.8984375), ('Rather', 11.703125)], [('reality', 18.140625), ('stica', 15.7734375), ('nexi', 15.1640625), ('elcome', 14.734375), (' reality', 14.671875)], [('TOOLSET', 13.3828125), ('tope', 12.859375), (' местообита', 11.7109375), ('illance', 10.765625), ('roubleshooting', 10.65625)], [('experience', 16.265625), ('Experience', 15.7421875), (' Experience', 14.2578125), (' experience', 14.0234375), ('ILED', 13.484375)]]\n",
      "Layer 25 predictions: [[(' препратки', 133.5), ('}$~\\\\', 124.125), ('不成', 122.9375), ('�乐', 121.875), ('观点或立场', 118.625)], [('ODO', 17.46875), ('atre', 15.8125), ('晗', 14.96875), ('一再', 14.7265625), ('ophilus', 14.4140625)], [('surround', 22.0), ('�乐', 21.875), ('TOOLSET', 18.96875), (' Surround', 18.546875), (' изчезване', 17.625)], [(' disappe', 18.046875), (' изчезване', 17.015625), ('iclismo', 16.28125), (' disappearance', 16.109375), (' Dins', 15.703125)], [('́', 11.5625), ('德斯', 10.8203125), ('нав', 10.1171875), (' PURPOSE', 9.9609375), ('疡', 9.8515625)], [('’', 21.546875), (\"'\", 21.453125), ('�', 18.0625), ('́', 17.984375), ('´', 16.890625)], [(' cau', 5.95703125), ('HCI', 5.57421875), ('t', 5.53515625), ('amb', 5.4765625), ('�', 5.34765625)], [('\\ta', 18.625), (' a', 16.578125), (' aC', 13.4296875), ('bourg', 12.34375), ('toctree', 11.8671875)], [('Locked', 13.65625), ('Myst', 12.609375), ('problem', 12.1875), (' бел', 12.046875), ('终极', 11.9921875)], [(' to', 19.96875), ('\\tto', 15.4140625), ('to', 15.28125), ('tode', 14.0234375), ('tols', 13.21875)], [(' be', 16.03125), (' solve', 15.28125), ('solve', 14.5), ('Sol', 14.453125), ('Solver', 14.421875)], [(' but', 20.546875), ('but', 18.546875), ('BUT', 16.265625), ('But', 15.8984375), (',', 15.875)], [('\\tit', 18.453125), (' but', 17.03125), (' it', 16.890625), ('but', 16.546875), ('It', 16.453125)], [(' a', 19.8125), ('\\ta', 19.3125), (' aC', 16.296875), (' an', 15.9765625), ('itatively', 15.046875)], [('reality', 19.515625), (' reality', 16.34375), ('ALE', 15.6171875), ('multiverse', 15.3046875), ('实的', 15.1875)], [(' местообита', 14.1171875), (' to', 12.8984375), ('tope', 12.2109375), ('TOOLSET', 12.0703125), ('uzz', 10.6796875)], [('experience', 15.875), ('经验的', 15.03125), ('体验', 14.3359375), ('Experience', 14.3125), (' experience', 14.203125)]]\n",
      "Layer 26 predictions: [[('�', 21.484375), (' Hague', 20.59375), ('WER', 19.328125), (' SEA', 18.75), ('ISAM', 18.53125)], [('atre', 19.515625), (' ', 18.734375), (' purpose', 18.6875), (' following', 17.765625), (' average', 17.203125)], [(' of', 24.6875), (' surrounding', 21.875), (' illness', 20.125), (' behind', 20.125), ('surround', 19.484375)], [(' the', 23.4375), (' what', 21.859375), (' why', 20.859375), (' disappearance', 20.640625), (' missing', 20.4375)], [('\\n', 24.640625), (' ', 23.8125), (\"'\", 21.609375), (' is', 21.21875), ('’', 20.90625)], [(\"'\", 70.625), ('’', 69.625), ('´', 52.65625), ('\"', 52.0), (' ', 50.8125)], [(' embodiments', 12.3125), ('ان', 11.8046875), ('ADO', 11.7734375), (' datada', 11.4375), ('皓', 10.953125)], [(' a', 33.9375), ('\\ta', 23.78125), (' solved', 21.59375), (' A', 21.203125), (' an', 20.625)], [(' problem', 21.109375), (' ', 19.953125), ('\\n', 19.515625), ('problem', 16.75), (' thing', 16.34375)], [(' to', 36.9375), ('to', 27.53125), ('\\n', 25.609375), (' To', 22.515625), (' TO', 22.390625)], [('\\n', 26.546875), (' be', 25.3125), (' solve', 23.46875), (' ', 23.453125), (' solved', 20.75)], [(',', 52.65625), (' but', 42.375), ('but', 36.875), ('\\n', 36.0625), (' ', 30.875)], [(' but', 60.03125), ('but', 55.5625), ('But', 42.4375), (' But', 39.375), ('BUT', 38.375)], [(' a', 34.375), (' an', 27.484375), (' rather', 23.203125), ('\\n', 21.84375), ('\\ta', 21.796875)], [(' reality', 29.46875), ('reality', 22.875), (' truth', 21.9375), (' Reality', 21.71875), ('\\n', 18.8125)], [(' to', 29.625), (' To', 19.609375), ('\\n', 18.375), (' ', 18.234375), ('...', 18.15625)], [(' experience', 24.578125), ('经验的', 19.9375), (' Experience', 19.75), ('\\n', 19.375), ('experience', 19.171875)]]\n",
      "Layer 27 predictions: [[('import', 23.109375), ('The', 21.859375), ('<?', 21.8125), ('package', 21.65625), ('【', 21.4375)], [(' first', 55.125), (' world', 54.71875), (' best', 54.28125), (' last', 53.65625), (' new', 53.3125)], [(' of', 49.3125), (' and', 46.09375), (',', 45.15625), (' is', 44.40625), (' that', 42.90625)], [(' the', 44.375), (' why', 42.03125), (' a', 41.96875), (' how', 41.78125), (' what', 41.75)], [(',', 48.09375), (' ', 46.15625), ('.', 45.125), (' is', 43.1875), (' and', 43.125)], [('’', 58.40625), (\"'\", 58.34375), (' t', 45.65625), ('´', 44.84375), ('`', 43.71875)], [('t', 17.5), (' t', 13.6953125), ('\\n', 12.3359375), ('T', 12.0), ('tre', 11.515625)], [(' a', 51.90625), (' in', 46.09375), (',', 45.1875), (' that', 43.90625), (' ', 43.5625)], [(' problem', 42.65625), (' mystery', 37.03125), (' thing', 36.65625), (' ', 36.53125), (' question', 36.0625)], [(' to', 57.3125), (',', 51.0625), ('.', 48.625), ('\\n', 48.40625), (' ', 48.0)], [(' solve', 47.21875), (' be', 47.21875), (' get', 42.78125), ('\\n', 42.625), (' figure', 41.8125)], [(',', 70.875), (' ', 58.75), ('.', 58.375), (' but', 56.4375), ('\\n', 56.09375)], [(' but', 79.4375), ('\\n', 74.0), (' ', 69.4375), (' it', 66.875), (' or', 63.09375)], [(' a', 53.5), (' an', 47.875), (' rather', 46.8125), (' ', 46.03125), ('\\n', 45.59375)], [(' reality', 44.21875), (' truth', 35.9375), (' mystery', 34.5), (' gift', 34.5), (' fact', 31.90625)], [(' to', 43.21875), (' ', 35.90625), (',', 35.875), ('\\n', 34.03125), ('.', 33.5)], [(' experience', 35.25), (' experiences', 25.5625), ('\\n', 25.546875), (' Experience', 25.09375), (' encounter', 24.453125)]]\n",
      "\n",
      "MoE Layer 1:\n",
      "Selected experts: [[14, 34, 2, 42, 47, 1], [14, 34, 8, 6, 20, 49], [63, 23, 37, 58, 59, 26], [21, 9, 56, 14, 18, 3], [10, 58, 55, 3, 23, 60], [4, 36, 15, 14, 62, 40], [53, 14, 6, 16, 40, 46], [17, 13, 36, 30, 4, 24], [12, 21, 40, 14, 5, 24], [33, 37, 62, 38, 35, 23], [17, 9, 33, 53, 45, 32], [29, 18, 62, 11, 50, 41], [14, 28, 51, 16, 46, 47], [51, 48, 45, 14, 8, 53], [5, 40, 21, 12, 14, 24], [33, 23, 37, 38, 55, 58], [9, 53, 17, 33, 37, 32]]\n",
      "Expert weights: [[0.9814453125, 0.002964019775390625, 0.0009908676147460938, 0.0008630752563476562, 0.0006632804870605469, 0.0005273818969726562], [0.3076171875, 0.11541748046875, 0.049530029296875, 0.0322265625, 0.023223876953125, 0.022216796875], [0.19921875, 0.049224853515625, 0.032562255859375, 0.03265380859375, 0.165771484375, 0.0296630859375], [0.0882568359375, 0.066162109375, 0.1734619140625, 0.028350830078125, 0.0203094482421875, 0.0202789306640625], [0.2568359375, 0.116943359375, 0.02728271484375, 0.031341552734375, 0.0260162353515625, 0.022064208984375], [0.24853515625, 0.0570068359375, 0.03717041015625, 0.0265350341796875, 0.02508544921875, 0.0228118896484375], [0.1343994140625, 0.0950927734375, 0.08905029296875, 0.029083251953125, 0.0281524658203125, 0.0254974365234375], [0.07757568359375, 0.0277557373046875, 0.0745849609375, 0.05548095703125, 0.2049560546875, 0.0230712890625], [0.042266845703125, 0.055389404296875, 0.17138671875, 0.04461669921875, 0.047637939453125, 0.040252685546875], [0.2037353515625, 0.053955078125, 0.06787109375, 0.04638671875, 0.041595458984375, 0.03314208984375], [0.12164306640625, 0.08917236328125, 0.06805419921875, 0.057403564453125, 0.027069091796875, 0.022308349609375], [0.1004638671875, 0.035308837890625, 0.04742431640625, 0.1490478515625, 0.09130859375, 0.0291900634765625], [0.2139892578125, 0.08819580078125, 0.0863037109375, 0.0745849609375, 0.04180908203125, 0.0411376953125], [0.1021728515625, 0.08172607421875, 0.052734375, 0.041595458984375, 0.038970947265625, 0.032501220703125], [0.0523681640625, 0.1451416015625, 0.05718994140625, 0.0360107421875, 0.037750244140625, 0.033599853515625], [0.2320556640625, 0.07293701171875, 0.06005859375, 0.051300048828125, 0.045867919921875, 0.032470703125], [0.09234619140625, 0.054931640625, 0.12188720703125, 0.06890869140625, 0.0260467529296875, 0.0248565673828125]]\n",
      "Combined output tokens: [[(' препратки', 90.875), ('扫', 88.5), ('不成', 88.3125), ('idades', 88.125), ('�乐', 87.875)], [(' избу', 0.8359375), ('莫名其', 0.82568359375), ('工地', 0.7822265625), ('XMLSchema', 0.76953125), ('atge', 0.744140625)], [('1', 0.50146484375), ('8', 0.50048828125), ('3', 0.4814453125), ('4', 0.463623046875), ('0', 0.45849609375)], [('投身', 0.469970703125), ('стано', 0.445068359375), ('�', 0.4404296875), ('固执', 0.4345703125), ('充分利用', 0.43212890625)], [('ail', 0.60302734375), ('pzc', 0.53955078125), ('тира', 0.53125), ('晰', 0.52880859375), ('apac', 0.525390625)], [('amis', 0.56689453125), ('жени', 0.54541015625), ('ibar', 0.52490234375), ('辜负', 0.517578125), ('色', 0.48095703125)], [('AMI', 0.432861328125), ('rcl', 0.43212890625), ('amf', 0.425048828125), ('ё', 0.417236328125), ('ruz', 0.4091796875)], [('autorest', 0.74365234375), ('dica', 0.7392578125), ('�', 0.72900390625), ('�', 0.67919921875), ('neig', 0.6708984375)], [('inum', 0.297607421875), ('сие', 0.260986328125), ('edat', 0.257568359375), ('ificacions', 0.257568359375), ('ificaciones', 0.256103515625)], [('bock', 0.462890625), ('rize', 0.403564453125), ('claimer', 0.400146484375), ('圣地', 0.39990234375), ('висимо', 0.39990234375)], [('绵', 0.287353515625), ('工程师', 0.236572265625), ('SLS', 0.2362060546875), ('尘', 0.234619140625), ('fever', 0.231201171875)], [('rength', 0.472900390625), ('ssic', 0.414794921875), ('ocs', 0.395751953125), ('blr', 0.38427734375), ('alion', 0.373779296875)], [('odend', 0.3916015625), ('ryption', 0.372314453125), ('ocamp', 0.361572265625), (' вто', 0.318115234375), ('ossom', 0.317626953125)], [('支', 0.32275390625), ('стани', 0.321044921875), ('贴', 0.314697265625), (' STA', 0.2880859375), ('觉', 0.28564453125)], [('тец', 0.252197265625), ('吉', 0.237060546875), ('PYG', 0.2296142578125), (' разлика', 0.20947265625), ('IENT', 0.2083740234375)], [('岗', 0.444091796875), ('lorn', 0.440673828125), ('Permalink', 0.436767578125), ('ای', 0.432373046875), ('kees', 0.420166015625)], [('ym', 0.26318359375), ('期货', 0.2183837890625), (' \\\\|_{', 0.20947265625), ('绵', 0.2054443359375), ('mah', 0.20068359375)]]\n",
      "Expert predictions by position: {0: {1: [('0', 0.54931640625), ('Read', 0.5107421875), (' t', 0.492431640625), ('ръ', 0.49169921875), ('MS', 0.487060546875)], 2: [('uid', 2.671875), ('being', 2.51171875), ('uzzi', 2.478515625), ('ного', 2.4140625), ('azar', 2.345703125)], 14: [('0', 12.484375), ('7', 12.0625), ('2', 11.234375), ('6', 10.9296875), ('8', 10.8984375)], 34: [('dom', 10.015625), ('patches', 8.9765625), ('me', 8.671875), ('DOM', 8.5078125), ('Buffers', 8.4609375)], 42: [('uid', 3.677734375), (' Firm', 3.3671875), ('去皮', 3.298828125), ('zing', 3.255859375), ('顶', 3.216796875)], 47: [('бър', 11.4140625), (' aliat', 10.140625), ('ssic', 8.7890625), ('PRB', 8.703125), ('FieldLocation', 8.59375)]}, 3: {3: [('oup', 9.8046875), ('尼亚', 8.3671875), ('upe', 8.2890625), ('gtr', 8.1484375), ('有的是', 8.0703125)], 9: [(' ', 11.7265625), ('мя', 9.5859375), ('ym', 8.9375), ('原文', 8.6484375), ('层', 8.46875)], 14: [('4', 8.421875), ('7', 8.234375), ('дже', 8.0859375), ('0', 7.97265625), ('8', 7.7578125)], 18: [('AUD', 8.734375), (' лице', 8.328125), ('uds', 8.1875), ('母', 8.15625), ('uada', 8.0859375)], 21: [('ctics', 9.5), ('��', 9.3671875), ('rici', 9.140625), (' relle', 8.9140625), ('лове', 8.796875)], 56: [('стано', 9.3046875), ('鼓', 8.78125), ('�', 8.3984375), ('ENDED', 8.3046875), ('�', 8.1484375)]}, 4: {3: [(' esport', 8.0), ('composable', 7.921875), (' Али', 7.70703125), ('诚', 7.62109375), ('([\\\\', 7.61328125)], 10: [('ail', 10.5078125), ('чик', 9.7109375), ('别', 9.515625), ('andest', 9.46875), ('�', 8.8984375)], 23: [('9', 9.0078125), ('5', 8.40625), ('omi', 8.3203125), ('1', 8.2890625), ('截', 8.046875)], 55: [('ing', 11.484375), ('ING', 9.75), ('avo', 9.125), ('ifference', 8.7265625), ('欣', 8.09375)], 58: [('ein', 8.59375), ('侣', 8.515625), ('unov', 8.421875), ('抗战', 7.88671875), ('ivated', 7.8828125)], 60: [(' конг', 10.03125), ('tols', 8.828125), (' звезда', 8.5625), ('вели', 8.5546875), ('omla', 8.5390625)]}, 5: {4: [('rels', 10.46875), ('dica', 10.2578125), ('empat', 10.125), ('�', 9.09375), ('尿裤', 8.7421875)], 14: [('itted', 8.6953125), ('део', 8.3828125), ('ITLE', 8.0), ('erated', 7.9296875), ('стики', 7.8671875)], 15: [('abase', 9.9140625), ('awi', 8.5234375), ('吊', 8.171875), ('贞', 7.7265625), ('pite', 7.6953125)], 36: [('罩', 11.203125), ('owa', 10.1484375), ('�', 10.03125), ('overs', 9.125), ('�', 8.765625)], 40: [(' [', 8.7890625), ('r', 7.95703125), ('am', 7.91796875), ('q', 7.78515625), ('сем', 7.7421875)], 62: [('сие', 9.4296875), ('�', 8.234375), ('东方', 8.1328125), (' hab', 8.1015625), ('erce', 7.98046875)]}, 7: {4: [('amis', 10.46875), ('amac', 9.0546875), ('膀胱', 8.65625), ('adap', 8.4921875), ('osted', 8.203125)], 13: [('竣', 11.046875), ('exion', 9.9609375), ('лей', 9.671875), ('原始', 8.578125), (' ris', 8.0234375)], 17: [(']-->', 11.8828125), ('ALES', 10.9453125), ('indicat', 10.6953125), ('oraci', 9.5390625), ('гел', 9.53125)], 24: [('ennicke', 10.53125), ('paz', 9.3203125), ('rbia', 9.2734375), ('omenatge', 9.0234375), ('odb', 8.984375)], 30: [('quier', 10.3671875), ('ndia', 10.125), ('猕', 9.2265625), ('neig', 9.1171875), ('bral', 8.96875)], 36: [('ase', 9.578125), ('uel', 8.84375), (' сул', 8.7265625), ('owe', 8.6328125), ('anely', 8.2421875)]}, 8: {5: [('iski', 10.3828125), ('fony', 9.4453125), ('верен', 9.3671875), ('imens', 9.3671875), ('ertat', 9.359375)], 12: [('йс', 9.5390625), ('ierge', 9.5078125), ('dua', 9.265625), ('acters', 9.1953125), ('rup', 8.828125)], 14: [('�乐', 10.078125), ('历', 8.1328125), ('sembly', 7.859375), ('域', 7.69921875), ('obius', 7.6640625)], 21: [('0', 10.9140625), ('8', 10.140625), ('1', 9.921875), ('6', 9.3515625), ('5', 9.2734375)], 24: [(' експе', 10.7265625), ('Habitants', 10.6484375), (' опъл', 10.375), ('unknownFields', 10.2421875), ('ProtoBuf', 10.1328125)], 40: [('oos', 8.8984375), ('тец', 8.7734375), ('吉', 8.5), ('PM', 8.484375), ('onium', 8.453125)]}, 14: {5: [('GRect', 11.328125), ('gether', 11.2109375), ('ertat', 10.703125), ('NOSCRIPT', 10.6015625), ('jgl', 10.5625)], 12: [('asseg', 10.71875), ('erset', 10.703125), ('щта', 10.484375), ('rients', 10.4375), ('ج', 9.953125)], 14: [('jeta', 9.4296875), (' Христов', 9.21875), (' участи', 9.1796875), ('rafo', 8.9140625), ('esters', 8.84375)], 21: [('ensed', 9.265625), ('ivet', 9.2578125), ('encion', 8.96875), ('фт', 8.796875), ('хар', 8.59375)], 24: [('izontal', 8.9765625), (' positiva', 8.7578125), (' Формула', 8.5390625), ('ohl', 8.5234375), ('植', 8.4453125)], 40: [('emple', 7.953125), ('OUS', 7.3203125), ('дове', 7.26171875), ('COVER', 7.02734375), ('acci', 6.9453125)]}, 1: {6: [('anic', 10.640625), ('izu', 10.4921875), (' FLA', 9.8046875), ('abet', 8.8203125), ('lices', 8.8125)], 8: [('resso', 9.7109375), ('借款', 8.9140625), ('teo', 8.71875), ('呈', 8.6953125), ('ennicke', 8.515625)], 14: [('ainty', 9.8359375), ('orell', 8.921875), ('незия', 8.7265625), ('tope', 8.515625), ('ituting', 8.3359375)], 20: [('lou', 8.953125), ('тег', 7.875), ('LASS', 7.8203125), ('ELD', 7.7109375), ('rink', 7.609375)], 34: [('9', 8.96875), ('0', 8.40625), ('7', 8.34375), ('6', 8.1484375), ('3', 7.85546875)], 49: [('ivitat', 7.8359375), ('тани', 7.6875), ('ugosl', 7.4765625), ('caret', 7.3515625), ('uum', 7.2890625)]}, 6: {6: [('othed', 9.203125), ('0', 8.7578125), ('oin', 7.98828125), ('рам', 7.9765625), ('三级', 7.921875)], 14: [(' SO', 9.046875), (' *', 8.8984375), ('0', 8.828125), ('resents', 8.75), (' Es', 8.546875)], 16: [('�', 9.7265625), ('xim', 8.0859375), ('сители', 7.3046875), ('ximo', 7.1640625), ('rof', 7.13671875)], 40: [('inum', 10.15625), ('Vs', 9.84375), ('ificacions', 8.7734375), ('ften', 8.6484375), ('kart', 8.5234375)], 46: [('бур', 9.421875), ('绵', 8.59375), ('eskoslovensk', 8.1171875), ('acant', 8.046875), ('卸', 7.91796875)], 53: [('教会', 9.1484375), ('蒸', 7.8046875), ('Tags', 7.6484375), ('教', 7.6328125), (' Nor', 7.546875)]}, 13: {8: [('NOSCRIPT', 9.7890625), ('indicat', 9.4375), ('bitat', 9.4375), ('aritat', 8.9296875), ('Blockly', 8.4921875)], 14: [('马自', 9.1953125), ('enzo', 9.078125), ('дели', 8.9296875), ('resents', 8.8671875), ('мите', 8.5859375)], 45: [(' Comen', 9.15625), ('ата', 8.5859375), (' n', 7.9765625), ('apter', 7.40234375), ('法》', 7.3203125)], 48: [('贴', 9.59375), ('дон', 8.9921875), ('али', 8.8515625), ('лити', 8.703125), ('low', 8.5859375)], 51: [('пера', 9.296875), ('bla', 9.0078125), ('支', 8.7421875), ('uries', 8.71875), (' Bla', 8.3671875)], 53: [(' assol', 9.75), ('orra', 8.65625), ('ampp', 8.578125), ('如有关于作品内容', 8.5234375), ('ори', 8.484375)]}, 10: {9: [('ITH', 8.09375), ('ror', 8.046875), (' r', 7.953125), ('andr', 7.734375), (' ed', 7.72265625)], 17: [('бан', 8.6953125), (' sord', 8.3828125), ('yt', 8.328125), ('metro', 8.296875), ('ired', 8.1328125)], 32: [(' Class', 7.69140625), ('ver', 7.078125), ('nay', 6.76953125), ('答', 6.484375), ('MEM', 6.4609375)], 33: [('bock', 10.2890625), ('aterno', 10.1875), ('дник', 9.6796875), ('obia', 9.6015625), ('дис', 9.4453125)], 45: [('respectively', 9.1484375), ('opci', 8.9921875), ('лник', 8.8984375), ('andex', 8.8984375), ('шков', 8.40625)], 53: [('ё', 8.765625), ('�', 8.6875), ('AMI', 8.5546875), (' autone', 8.484375), ('кро', 8.4296875)]}, 16: {9: [('emon', 8.7734375), ('铃', 8.75), ('�', 8.34375), (' ', 8.3359375), ('слу', 8.0703125)], 17: [('okes', 9.0390625), ('ternoons', 8.875), ('ynam', 8.765625), ('aging', 8.6953125), (' succe', 8.671875)], 32: [('�起', 7.0234375), ('古镇', 6.66796875), ('爆', 6.5390625), ('ackle', 6.33984375), ('erred', 5.74609375)], 33: [('ascar', 9.8359375), (' Schwennicke', 8.9453125), (';->', 8.859375), ('рни', 8.828125), ('бора', 8.8046875)], 37: [(' ', 12.0859375), (' A', 10.0625), ('辞', 8.53125), (' (', 8.3828125), ('_', 8.2890625)], 53: [(' constel', 8.390625), ('och', 8.140625), ('斩', 7.85546875), (' Const', 7.61328125), ('бре', 7.56640625)]}, 11: {11: [('rength', 11.03125), ('lorn', 10.125), ('olem', 9.875), ('АН', 9.5234375), ('rtex', 9.4140625)], 18: [('ланти', 9.671875), ('SEL', 9.4453125), ('alts', 8.8125), ('entieth', 8.6640625), ('ADER', 8.5625)], 29: [('ulosa', 9.8203125), (' $?', 9.5546875), ('pols', 9.125), ('antry', 8.8828125), ('блю', 8.5234375)], 41: [('сет', 8.640625), ('allet', 8.5546875), (' Пле', 8.4921875), ('ameless', 8.4765625), ('家家', 8.21875)], 50: [('ssic', 14.15625), ('fmf', 10.4609375), ('modelVersion', 10.3671875), ('blr', 9.875), ('lements', 9.8203125)], 62: [('IMPORTED', 10.4609375), ('迭', 9.171875), ('allet', 8.9296875), (' ourselves', 8.8203125), ('мира', 8.5)]}, 12: {14: [('#', 0.0), ('%', 0.0), ('!', 0.0), ('\"', 0.0), ('$', 0.0)], 16: [('emir', 9.1484375), ('цеп', 8.5234375), (' Cover', 8.4375), ('гел', 8.4140625), ('emplar', 8.328125)], 28: [(' Obra', 9.78125), ('rouse', 9.078125), ('obles', 8.8125), ('全日', 8.6015625), ('edo', 8.2421875)], 46: [('othed', 9.828125), (' prem', 7.70703125), ('escan', 7.4609375), ('othes', 7.21484375), ('ption', 6.875)], 47: [('gis', 2.828125), ('INET', 2.677734375), ('othe', 2.65234375), ('garh', 2.546875), (' pendent', 2.544921875)], 51: [('enerated', 11.453125), ('木齐', 10.421875), ('utdown', 9.7890625), ('圾', 9.671875), ('ryption', 9.53125)]}, 2: {23: [(' ', 12.640625), (' (', 10.7578125), ('.', 9.40625), ('7', 9.390625), ('1', 9.03125)], 26: [('致', 8.59375), ('髦', 8.3046875), (' Charac', 8.0078125), ('Browse', 7.984375), ('RIB', 7.83984375)], 37: [(' \"', 9.546875), (' ', 9.296875), ('gic', 8.90625), (' P', 8.0546875), (' Rollo', 8.0234375)], 58: [('途', 9.3828125), ('ulsi', 9.046875), ('ermost', 8.96875), ('geres', 8.734375), ('versation', 8.5390625)], 59: [('ейн', 9.5625), ('alg', 9.125), (' reconeixement', 8.921875), ('Algo', 8.4375), ('of', 8.296875)], 63: [(' Кън', 10.640625), ('inclo', 10.234375), ('ither', 9.7265625), ('ynchronously', 9.6796875), ('梭', 9.6796875)]}, 9: {23: [(' n', 10.5703125), (' (', 10.0390625), (' [', 9.25), (',', 8.484375), ('inition', 8.15625)], 33: [('日内与', 9.828125), ('adders', 9.3984375), ('巩', 9.0), ('APR', 8.90625), ('rams', 8.6796875)], 35: [('lyn', 8.2578125), ('arpa', 7.73828125), ('hens', 7.734375), ('ait', 7.6953125), ('erton', 7.31640625)], 37: [('inta', 6.42578125), ('Loc', 5.9296875), ('Extended', 5.87109375), ('RENT', 5.66796875), ('rum', 5.65625)], 38: [('ьой', 9.6484375), ('稣', 9.6015625), ('ardin', 9.3515625), ('ertaining', 9.328125), ('西红', 9.0625)], 62: [('Har', 8.375), ('twas', 8.2890625), ('atron', 8.109375), ('让宝宝', 7.87890625), ('Finder', 7.7421875)]}, 15: {23: [('衍', 8.1875), (' Dr', 7.90234375), (' f', 7.76171875), (' ri', 7.55078125), (' extensions', 7.265625)], 33: [('kees', 8.84375), ('keyst', 8.6875), ('lorn', 8.515625), ('synthesize', 8.0625), ('riages', 7.93359375)], 37: [('候', 9.265625), ('logne', 8.8359375), ('nance', 8.4609375), ('盐', 8.2578125), ('zione', 8.2421875)], 38: [('阿拉', 8.4609375), ('istre', 8.375), ('AGR', 8.3515625), ('=\"../../../../../../', 8.140625), ('稣', 8.1015625)], 55: [('uso', 10.1796875), ('�', 8.390625), ('рт', 8.09375), ('umst', 7.984375), ('сира', 7.9375)], 58: [('ygon', 10.5625), ('RUP', 10.3984375), ('lorn', 8.9375), ('ა', 8.921875), ('fileset', 8.8203125)]}}\n",
      "Shared expert predictions: [[('被迫', 0.491455078125), ('ISAM', 0.46728515625), ('竣', 0.46484375), ('乞', 0.443115234375), ('INSEE', 0.44189453125)], [('严格落实', 0.2239990234375), ('始终坚持', 0.2235107421875), ('端正', 0.22119140625), ('RG', 0.2208251953125), ('LH', 0.2174072265625)], [('4', 0.29931640625), ('0', 0.293701171875), ('JT', 0.287109375), ('LH', 0.282958984375), ('6', 0.279296875)], [('wk', 0.2978515625), ('固执', 0.291015625), ('钰', 0.28125), ('莫名其', 0.263916015625), ('始终坚持', 0.25634765625)], [('JT', 0.248046875), ('LH', 0.2298583984375), ('RG', 0.2117919921875), ('充分发挥', 0.208984375), ('wk', 0.20654296875)], [('钰', 0.221923828125), ('RG', 0.205078125), ('4', 0.2000732421875), ('SF', 0.197021484375), ('黯', 0.196533203125)], [('ruz', 0.1153564453125), ('ucy', 0.105712890625), ('ingham', 0.090087890625), ('ogan', 0.08966064453125), (' Илинден', 0.089599609375)], [('дец', 0.14306640625), ('殖', 0.120849609375), ('小微', 0.1153564453125), ('SF', 0.1151123046875), ('.}}', 0.11346435546875)], [('Unpacking', 0.1114501953125), ('oders', 0.09271240234375), ('后者', 0.0908203125), (' pur', 0.08984375), ('alfont', 0.086181640625)], [('KG', 0.129638671875), ('texorpdfstring', 0.12054443359375), ('xo', 0.119384765625), ('otos', 0.118896484375), ('�', 0.1187744140625)], [('Unpacking', 0.08935546875), ('дец', 0.084228515625), (' заповед', 0.08087158203125), ('rings', 0.0748291015625), ('pa', 0.0733642578125)], [('ARG', 0.12353515625), ('的大型', 0.11962890625), ('aber', 0.11773681640625), ('天下', 0.11749267578125), (' FIG', 0.11737060546875)], [('ostes', 0.27197265625), ('rere', 0.266357421875), ('anooga', 0.26171875), (' detailing', 0.2587890625), ('blema', 0.250244140625)], [('SSA', 0.11260986328125), ('PH', 0.10101318359375), ('LP', 0.1005859375), ('QA', 0.09967041015625), (' кот', 0.098388671875)], [('ORMAL', 0.07550048828125), ('claimer', 0.06341552734375), ('respectively', 0.06292724609375), ('pies', 0.0626220703125), ('grub', 0.0625)], [('日内与', 0.148681640625), ('enko', 0.141845703125), ('лага', 0.13037109375), ('lido', 0.1256103515625), ('Permalink', 0.125244140625)], [('eur', 0.06951904296875), (' среда', 0.069091796875), ('chain', 0.06463623046875), ('ette', 0.0645751953125), ('penet', 0.06402587890625)]]\n",
      "\n",
      "MoE Layer 2:\n",
      "Selected experts: [[42, 63, 46, 14, 31, 61], [17, 48, 41, 61, 31, 11], [52, 22, 62, 59, 44, 48], [13, 45, 62, 44, 10, 5], [25, 59, 62, 22, 1, 60], [7, 61, 17, 3, 57, 8], [31, 61, 17, 48, 2, 3], [36, 34, 8, 7, 41, 24], [20, 37, 30, 39, 34, 7], [52, 62, 25, 21, 23, 28], [5, 62, 13, 34, 16, 61], [38, 21, 52, 49, 28, 25], [42, 61, 47, 3, 17, 46], [48, 14, 42, 26, 27, 46], [20, 37, 39, 30, 41, 0], [52, 62, 25, 59, 4, 51], [5, 13, 34, 16, 45, 53]]\n",
      "Expert weights: [[0.689453125, 0.071044921875, 0.00942230224609375, 0.0091705322265625, 0.00827789306640625, 0.00689697265625], [0.2103271484375, 0.115478515625, 0.1082763671875, 0.038177490234375, 0.035491943359375, 0.035003662109375], [0.16845703125, 0.1011962890625, 0.0950927734375, 0.045623779296875, 0.037445068359375, 0.0281829833984375], [0.185302734375, 0.13916015625, 0.051513671875, 0.026702880859375, 0.0245819091796875, 0.019500732421875], [0.224365234375, 0.1287841796875, 0.0888671875, 0.02960205078125, 0.0273284912109375, 0.0247039794921875], [0.11163330078125, 0.04254150390625, 0.028564453125, 0.029388427734375, 0.043365478515625, 0.02545166015625], [0.155517578125, 0.099853515625, 0.043914794921875, 0.038421630859375, 0.0290374755859375, 0.0277862548828125], [0.0279541015625, 0.07586669921875, 0.07733154296875, 0.08935546875, 0.043060302734375, 0.0267181396484375], [0.11370849609375, 0.0908203125, 0.07562255859375, 0.07501220703125, 0.050628662109375, 0.0250701904296875], [0.14306640625, 0.126220703125, 0.05072021484375, 0.035919189453125, 0.0236053466796875, 0.0217437744140625], [0.131103515625, 0.0694580078125, 0.06353759765625, 0.058380126953125, 0.03857421875, 0.0224151611328125], [0.07464599609375, 0.049072265625, 0.04730224609375, 0.047119140625, 0.0369873046875, 0.034912109375], [0.1715087890625, 0.11676025390625, 0.058135986328125, 0.0657958984375, 0.05377197265625, 0.0377197265625], [0.033477783203125, 0.1300048828125, 0.1033935546875, 0.0265655517578125, 0.0272979736328125, 0.0255126953125], [0.07952880859375, 0.09716796875, 0.0770263671875, 0.06195068359375, 0.0545654296875, 0.031768798828125], [0.1502685546875, 0.10723876953125, 0.07080078125, 0.048370361328125, 0.0283355712890625, 0.026123046875], [0.1365966796875, 0.06939697265625, 0.048431396484375, 0.044830322265625, 0.032073974609375, 0.0286865234375]]\n",
      "Combined output tokens: [[(' препратки', 23.078125), ('观点或立场', 21.609375), ('�乐', 21.34375), ('不成', 21.0625), ('}$~\\\\', 20.78125)], [('lef', 0.427001953125), ('9', 0.423828125), ('legate', 0.41552734375), ('7', 0.4072265625), ('8', 0.383544921875)], [('二级', 0.744140625), ('iena', 0.73828125), ('ogc', 0.7255859375), ('xspace', 0.72509765625), (' Фо', 0.71044921875)], [('ета', 0.7109375), ('рад', 0.65087890625), ('еди', 0.55859375), ('强的', 0.5576171875), ('尽了', 0.552734375)], [('листи', 0.67236328125), ('负', 0.62060546875), ('estes', 0.6064453125), ('чева', 0.576171875), ('ylene', 0.56787109375)], [('llas', 0.39599609375), ('ostes', 0.386474609375), ('andidate', 0.37060546875), ('sses', 0.36767578125), ('assada', 0.365478515625)], [('став', 0.410400390625), ('helieu', 0.409423828125), ('ndum', 0.399658203125), ('生态', 0.379150390625), ('infall', 0.37841796875)], [('лайн', 0.415771484375), ('ens', 0.34716796875), ('бела', 0.344970703125), (' reempla', 0.34423828125), ('istros', 0.338623046875)], [('ianisme', 0.406494140625), ('��', 0.3837890625), ('inctions', 0.360595703125), ('illation', 0.338134765625), ('rals', 0.33642578125)], [('�', 0.49658203125), ('золю', 0.49072265625), ('ioc', 0.4853515625), ('ALESCE', 0.469482421875), ('坷', 0.46826171875)], [('деля', 0.346435546875), ('ocles', 0.313232421875), ('errat', 0.296142578125), ('жва', 0.2890625), ('ilevel', 0.28857421875)], [(' бря', 0.423583984375), ('ings', 0.410400390625), ('atius', 0.3876953125), ('卵管', 0.3837890625), ('泛', 0.37841796875)], [('StyleID', 0.51953125), ('ygon', 0.51220703125), ('ulars', 0.49365234375), ('ifax', 0.479248046875), ('shint', 0.455810546875)], [('mpic', 0.419189453125), ('engua', 0.419189453125), ('terer', 0.39111328125), ('erir', 0.3818359375), ('anguage', 0.366943359375)], [('��', 0.309326171875), ('acant', 0.284423828125), ('rigu', 0.275146484375), ('arden', 0.26171875), ('строй', 0.25634765625)], [('uedes', 0.673828125), (' бря', 0.65625), ('ausen', 0.62451171875), ('迪丽', 0.60400390625), ('виси', 0.59228515625)], [('lir', 0.365478515625), ('riu', 0.343017578125), ('lesa', 0.341064453125), ('点评', 0.339111328125), ('ото', 0.3115234375)]]\n",
      "Expert predictions by position: {14: {0: [('Info', 7.80078125), ('�', 7.5625), (' Info', 7.5), ('town', 7.5), (' Мер', 7.47265625)], 20: [('OperationKind', 10.46875), ('usements', 10.234375), ('�', 10.21875), ('omach', 10.0078125), ('ften', 9.8046875)], 30: [('vider', 10.625), ('Msk', 10.5078125), ('SETT', 10.1953125), ('fortun', 9.8046875), ('сет', 9.59375)], 37: [('管', 9.6484375), ('emale', 9.578125), ('II', 8.9921875), ('oze', 8.7578125), ('版', 8.6640625)], 39: [('feu', 8.8828125), ('opil', 8.7734375), ('�', 8.7734375), ('replacement', 8.640625), ('主治', 8.59375)], 41: [('вайг', 8.984375), (' квар', 8.796875), (' вой', 8.59375), ('ToArray', 8.5546875), (' Quarta', 8.515625)]}, 4: {1: [('aught', 8.9921875), ('ruct', 8.4765625), ('atter', 8.4609375), ('леп', 8.3125), ('yne', 8.2109375)], 22: [('8', 11.171875), ('有余', 10.609375), ('7', 10.5), ('9', 10.40625), ('6', 10.3984375)], 25: [('casper', 10.40625), (' Oficial', 10.1484375), ('nolimits', 9.9609375), ('ierarchy', 9.8984375), (' Installer', 9.3203125)], 59: [('гле', 10.4453125), ('bok', 9.6796875), ('vols', 8.921875), ('bock', 8.8671875), ('тропо', 8.7578125)], 60: [('inctions', 8.8515625), ('anzas', 8.3828125), ('igure', 8.078125), ('Synchron', 8.078125), ('ynchron', 7.92578125)], 62: [('corre', 9.3984375), ('imode', 9.0234375), ('resso', 8.7890625), ('WireFormat', 8.5625), ('ocket', 8.234375)]}, 6: {2: [('续', 9.1015625), ('enters', 7.58203125), ('aviera', 7.55859375), ('GM', 7.5390625), ('�', 7.47265625)], 3: [('泡', 9.359375), ('�', 8.3515625), ('orest', 8.3203125), (' coincid', 8.2890625), ('link', 8.1015625)], 17: [('ied', 8.15625), ('副', 8.0703125), ('专', 8.0078125), ('纳', 7.6171875), ('稀', 7.60546875)], 31: [('خ', 9.0625), ('ان', 8.78125), ('toEqual', 8.2890625), ('нел', 8.2578125), ('bys', 8.25)], 48: [('бел', 10.8203125), ('aband', 9.140625), ('кул', 8.8984375), ('7', 8.7421875), ('9', 7.9296875)], 61: [('OUSE', 10.6015625), ('iless', 10.15625), ('htra', 10.0859375), ('StyleID', 9.890625), (' diagrama', 9.8671875)]}, 5: {3: [('Pr', 10.1953125), (' Pr', 9.765625), ('uer', 9.25), ('截', 9.0703125), ('ure', 8.9140625)], 7: [('уди', 11.1796875), ('phin', 10.0390625), (' part', 9.6328125), ('OffRequest', 9.6171875), ('ambre', 9.265625)], 8: [('дио', 8.8515625), (' Results', 8.453125), ('b', 8.3203125), ('负', 8.15625), ('беди', 8.015625)], 17: [('син', 8.328125), ('抹', 8.1328125), ('��', 8.125), ('amel', 8.0625), ('letic', 7.98828125)], 57: [('�', 9.828125), ('elihood', 8.7109375), ('再来', 8.109375), (' ', 8.0390625), ('opic', 7.984375)], 61: [('oguera', 10.75), ('essel', 10.328125), ('ivet', 9.84375), ('nqu', 9.4765625), ('mbia', 9.28125)]}, 12: {3: [('tils', 9.46875), ('ionista', 9.421875), ('ssima', 9.3125), ('anum', 9.3046875), ('tright', 9.2734375)], 17: [('пя', 9.2265625), ('ln', 8.8046875), (' Venet', 7.97265625), (' RECORD', 7.76171875), ('Record', 7.6640625)], 42: [('чва', 8.7265625), ('чков', 8.59375), (' Ir', 8.1328125), ('usen', 8.1171875), (' дълбо', 7.71484375)], 46: [('explot', 8.375), ('IEEEeqnarray', 8.2421875), ('имна', 7.6484375), ('��', 7.64453125), ('HECK', 7.4609375)], 47: [('otron', 11.171875), ('ospin', 10.8671875), ('acis', 9.40625), ('regon', 9.40625), ('IEW', 9.296875)], 61: [('—', 8.453125), ('��', 8.359375), ('pat', 8.3046875), (' Антар', 8.203125), ('cart', 8.1484375)]}, 15: {4: [('onte', 9.6171875), ('atiu', 8.921875), ('dule', 8.8359375), ('kl', 8.15625), ('ente', 7.9765625)], 25: [(' бря', 9.3515625), ('fuls', 9.2890625), ('inear', 8.8671875), ('etur', 8.84375), ('ceeded', 8.71875)], 51: [('ACES', 9.2734375), ('UNG', 9.0625), ('DEST', 8.75), ('ICES', 8.328125), ('务', 8.234375)], 52: [('二级', 9.5078125), ('乡镇', 9.0078125), ('xspace', 8.9140625), ('ouncil', 8.8515625), ('нци', 8.7890625)], 59: [('piter', 10.4453125), ('LOPT', 10.234375), ('bsite', 9.9296875), ('eques', 9.890625), ('ulada', 9.78125)], 62: [('oldre', 10.0234375), ('ateix', 9.90625), ('ficci', 9.8828125), ('futbolista', 9.25), ('趋势', 9.1875)]}, 3: {5: [('ajes', 8.5390625), ('lant', 8.3046875), ('pliers', 8.1875), ('子的', 8.1640625), ('梭', 7.78125)], 10: [('копа', 9.6015625), (' ac', 8.40625), ('贮', 7.94921875), ('para', 7.91015625), (' avall', 7.87890625)], 13: [('opon', 8.8515625), ('icken', 8.25), ('tero', 8.0859375), ('raphic', 7.890625), ('ulat', 7.859375)], 44: [(' detr', 10.234375), ('iclop', 9.84375), ('uals', 9.1640625), (' технически', 9.125), ('уа', 9.0859375)], 45: [('ureau', 10.03125), ('носа', 9.5078125), ('geu', 8.890625), ('态', 8.1171875), ('VA', 8.0859375)], 62: [('堡', 10.0703125), (\"'::\", 9.078125), ('agos', 8.6328125), (' вся', 8.6171875), ('窟', 8.375)]}, 10: {5: [('деля', 10.7890625), ('ygon', 9.8984375), ('ucode', 9.8515625), ('aveu', 9.7890625), ('imel', 9.5234375)], 13: [('ета', 10.234375), ('edio', 10.0859375), ('рад', 9.7265625), ('照', 9.3828125), ('лна', 9.359375)], 16: [('фт', 11.125), (' Jehov', 10.71875), ('\\\\%,', 9.609375), ('тропи', 9.3515625), ('Жени', 8.9765625)], 34: [('��', 9.71875), ('5', 9.3984375), ('пан', 9.3671875), ('备', 9.2421875), ('3', 9.1875)], 61: [(' последова', 11.6796875), ('utive', 10.3515625), ('ocles', 9.328125), ('ostes', 8.8203125), ('ertes', 8.7265625)], 62: [(' lema', 10.34375), ('MLE', 9.7734375), (' ,[', 9.6328125), ('asList', 8.7578125), ('coma', 8.6796875)]}, 16: {5: [('ivet', 10.5546875), ('lir', 9.296875), ('宜', 8.96875), ('hern', 8.5859375), ('enser', 8.5234375)], 13: [('aculate', 9.0546875), ('riu', 8.65625), ('�', 8.5625), ('irmed', 8.4765625), ('letic', 8.2109375)], 16: [('orra', 9.109375), (' expulsat', 8.8359375), ('iano', 8.828125), (' Tafel', 8.671875), ('ExternalTask', 8.59375)], 34: [('竣', 9.8515625), ('ракия', 9.1328125), ('gica', 9.0859375), ('ulas', 9.046875), ('родна', 8.890625)], 45: [('秩', 8.8046875), ('ondre', 8.703125), ('reta', 8.6953125), ('мата', 8.609375), ('�', 8.5703125)], 53: [(' ръковод', 10.3828125), ('мова', 8.5625), (' administr', 8.1015625), ('Permalink', 7.97265625), (' всяко', 7.89453125)]}, 7: {7: [('enth', 9.3359375), ('报记者', 9.2265625), ('ус', 8.953125), ('媛', 8.8671875), ('iats', 8.46875)], 8: [('uan', 9.484375), ('孔', 9.2421875), ('стани', 8.4921875), ('投机', 8.328125), (' st', 8.15625)], 24: [('verg', 7.5703125), ('inians', 7.15234375), ('放过', 7.01953125), ('тана', 6.953125), ('rinos', 6.8671875)], 34: [('нея', 9.9609375), ('UTO', 9.5234375), ('isat', 9.5078125), ('isis', 9.265625), ('镜子', 8.796875)], 36: [('gdx', 9.15625), ('estrella', 8.8984375), ('ournal', 8.8671875), ('resso', 8.828125), (' спира', 8.8046875)], 41: [('徒', 9.4375), ('ifold', 8.8359375), (' marge', 8.765625), (' cavall', 8.6640625), ('ilitar', 8.625)]}, 8: {7: [('subs', 9.265625), ('lac', 8.703125), ('�', 8.3828125), ('filed', 8.1796875), ('报记者', 8.0234375)], 20: [(' революционна', 12.359375), ('rcia', 12.0078125), ('��', 11.9296875), ('inctions', 11.5859375), (' Marca', 11.2890625)], 30: [('uresa', 11.390625), ('onesos', 11.0859375), ('ennicke', 10.9453125), ('Illa', 10.2109375), ('riments', 10.1796875)], 34: [('elis', 10.1875), ('нет', 9.6484375), ('infty', 9.5078125), ('OTO', 8.9765625), ('rique', 8.84375)], 37: [('��', 8.7265625), ('具', 8.6328125), ('人身', 8.5625), ('EDD', 8.4609375), ('鹿', 8.4609375)], 39: [('eppe', 10.96875), ('anell', 10.6484375), ('ianisme', 9.671875), ('大使', 9.625), ('onda', 9.4453125)]}, 1: {11: [('lisle', 9.7890625), ('ogut', 9.7421875), ('aband', 9.453125), ('ibre', 9.15625), ('限', 9.0078125)], 17: [('PROM', 9.34375), ('Norm', 8.390625), ('achine', 8.3359375), (' e', 8.265625), ('ose', 8.171875)], 31: [('escut', 5.4765625), ('HDA', 4.81640625), ('HandleTypeDef', 4.5625), ('гане', 4.55859375), ('станбул', 4.53125)], 41: [('随', 10.7890625), ('0', 10.0234375), ('acke', 9.53125), ('less', 9.46875), ('mo', 8.9453125)], 48: [('okit', 10.078125), ('onte', 9.390625), ('iades', 9.3828125), ('TOOLSET', 8.8125), ('ikit', 8.796875)], 61: [('exion', 12.953125), ('mbia', 12.71875), ('ptrc', 12.15625), ('meres', 12.125), ('braco', 11.9140625)]}, 0: {14: [('apparmor', 7.90625), ('IEEEeqnarray', 7.453125), ('hdots', 7.42578125), ('утбо', 7.1015625), ('hearts', 7.01171875)], 31: [('ODO', 10.9140625), ('HDA', 9.4375), ('lega', 9.203125), ('rcia', 9.1015625), ('akala', 8.9375)], 42: [(' препратки', 7.6328125), ('�乐', 7.19921875), ('观点或立场', 7.109375), ('扫', 7.0390625), ('udi', 7.02734375)], 46: [('iams', 9.109375), ('usen', 8.5703125), ('偿', 7.72265625), ('付', 7.65234375), ('疡', 7.46875)], 61: [('ster', 6.2890625), ('ografies', 5.9375), ('�', 5.859375), ('ymer', 5.18359375), ('复印', 5.15625)], 63: [('batim', 7.5625), ('翼翼', 7.359375), ('али', 7.171875), ('ndar', 6.97265625), ('INSEE', 6.84375)]}, 13: {14: [('нома', 8.875), ('mpic', 8.546875), ('OO', 8.5), ('anguage', 8.15625), ('тур', 7.96484375)], 26: [('стите', 8.15625), ('acials', 7.76953125), (' представители', 7.76171875), ('rivia', 7.640625), (' изи', 7.54296875)], 27: [('例', 7.65625), (' целта', 7.421875), ('EPS', 6.9375), ('idan', 6.89453125), ('fell', 6.87890625)], 42: [('立卡', 11.1640625), ('}{|\\\\', 10.9453125), ('ygon', 10.578125), (')|$', 9.921875), ('leta', 9.703125)], 46: [('奉', 10.25), ('殷', 8.734375), ('два', 8.671875), ('原文', 8.4375), ('usen', 8.2421875)], 48: [('兹', 9.828125), ('яна', 8.5234375), ('AIN', 8.3828125), ('ocre', 8.296875), ('人事', 7.85546875)]}, 9: {21: [('9', 12.0078125), ('0', 11.6484375), ('2', 11.0078125), ('8', 10.8984375), ('3', 10.4140625)], 23: [(' --', 8.2890625), (' buff', 7.82421875), (' +', 7.80859375), ('�', 7.48046875), (' True', 7.4140625)], 25: [('листи', 11.1796875), ('ubic', 9.1796875), ('负', 9.1171875), ('clear', 8.7890625), ('ategy', 8.7578125)], 28: [('1', 9.0078125), ('mod', 8.90625), ('idity', 8.875), ('ish', 8.7578125), ('dev', 8.640625)], 52: [('блиография', 10.015625), ('ieux', 9.421875), ('cides', 9.265625), ('фон', 9.265625), (' бря', 8.9921875)], 62: [('pread', 10.0), ('oice', 10.0), ('ivitat', 9.53125), ('raq', 9.4140625), ('йки', 8.9453125)]}, 11: {21: [('得太', 9.0703125), ('odinger', 8.7421875), ('inear', 8.609375), ('小时内', 8.46875), ('ponential', 8.3984375)], 25: [('вали', 10.8515625), ('保时', 10.8046875), (' вза', 10.3203125), ('表》', 9.7890625), ('ctica', 9.7890625)], 28: [('trac', 8.9609375), (' itemprop', 8.09375), ('град', 7.921875), (' ph', 7.8828125), ('ѐ', 7.71484375)], 38: [('rens', 10.1171875), ('ings', 8.6875), ('尼亚', 8.5625), ('2', 8.1640625), ('正宗', 8.15625)], 49: [('维', 9.7578125), ('ETH', 9.0), ('AVA', 8.90625), ('zyk', 8.8515625), ('VES', 8.8359375)], 52: [('BUIL', 8.515625), ('样', 8.296875), ('хрид', 8.171875), (' обаче', 8.0546875), ('4', 8.0234375)]}, 2: {22: [('ogc', 8.7109375), ('бя', 8.609375), ('ieron', 8.578125), ('敢', 8.2421875), ('empre', 8.21875)], 44: [('ierge', 10.3515625), ('isFunction', 10.03125), ('iguiente', 9.1484375), ('isObject', 8.9453125), ('Strunz', 8.8203125)], 48: [(' fit', 8.7890625), ('远', 8.0703125), ('led', 7.65234375), ('ias', 7.46875), ('立', 7.40625)], 52: [('вали', 9.078125), ('ourn', 8.3828125), ('стве', 7.984375), ('brities', 7.95703125), ('ец', 7.89453125)], 59: [('出不穷', 9.7265625), ('利物', 9.1796875), ('нети', 9.0078125), ('engu', 8.859375), ('猕', 8.734375)], 62: [('istram', 11.1875), ('inuz', 9.25), ('entina', 8.921875), ('��', 8.7890625), ('malink', 8.6796875)]}}\n",
      "Shared expert predictions: [[('INSEE', 2.12109375), ('ndar', 2.068359375), ('翼翼', 2.05859375), ('мира', 2.046875), (' Mediterrani', 2.009765625)], [('he', 0.1932373046875), ('留', 0.18994140625), ('�', 0.1856689453125), ('6', 0.1822509765625), ('7', 0.1810302734375)], [('ISA', 0.240234375), ('pig', 0.2232666015625), ('精品', 0.2169189453125), ('SP', 0.2122802734375), ('ISD', 0.207763671875)], [('над', 0.1907958984375), (' ', 0.1751708984375), ('ISA', 0.167236328125), ('汹', 0.157470703125), ('勋', 0.1551513671875)], [('ovn', 0.1962890625), ('SETT', 0.19580078125), ('acis', 0.19140625), ('wered', 0.185791015625), ('rization', 0.1844482421875)], [('ynski', 0.286376953125), ('后赛', 0.277587890625), (' cryptocur', 0.27734375), ('quilla', 0.27099609375), ('istram', 0.27099609375)], [('став', 0.18212890625), ('ogut', 0.166015625), ('oha', 0.166015625), ('arte', 0.162841796875), ('мб', 0.1558837890625)], [('ens', 0.193603515625), ('ksu', 0.177490234375), ('ussed', 0.174072265625), ('肉的', 0.169189453125), ('医保', 0.16748046875)], [('roft', 0.11871337890625), (' ed', 0.118408203125), ('anas', 0.1163330078125), ('umes', 0.11468505859375), ('ubert', 0.11004638671875)], [('дъ', 0.2100830078125), ('roft', 0.1912841796875), ('Advertisement', 0.1900634765625), ('�', 0.18701171875), ('tablen', 0.1717529296875)], [('rode', 0.1112060546875), ('网约', 0.10992431640625), ('стър', 0.1005859375), ('дител', 0.09771728515625), ('syslog', 0.09716796875)], [('igate', 0.2388916015625), ('ection', 0.2274169921875), ('izacion', 0.2091064453125), ('ufact', 0.2059326171875), ('izes', 0.2020263671875)], [('pora', 0.14990234375), ('ierge', 0.127685546875), ('precated', 0.1270751953125), (' vicepresident', 0.1258544921875), ('arquitect', 0.12158203125)], [('ections', 0.1875), ('perty', 0.176513671875), ('engua', 0.164306640625), ('rere', 0.1591796875), ('StyleID', 0.1556396484375)], [('ospin', 0.1126708984375), ('SSERT', 0.1082763671875), (' civils', 0.10467529296875), (';\\\\\\\\', 0.10003662109375), ('сми', 0.0994873046875)], [(' repartia', 0.262451171875), ('дъ', 0.26025390625), ('lustr', 0.2376708984375), ('ocamp', 0.235595703125), ('ardown', 0.23486328125)], [('Cci', 0.134521484375), ('пове', 0.11962890625), ('бла', 0.11834716796875), ('apter', 0.114501953125), ('ynchronously', 0.11431884765625)]]\n",
      "\n",
      "MoE Layer 3:\n",
      "Selected experts: [[22, 62, 41, 46, 20, 31], [31, 25, 58, 56, 19, 26], [14, 24, 40, 3, 38, 63], [52, 24, 42, 29, 6, 8], [14, 9, 38, 40, 53, 4], [0, 60, 25, 19, 16, 55], [47, 25, 31, 41, 11, 18], [0, 32, 63, 15, 29, 60], [32, 13, 44, 26, 29, 15], [63, 59, 40, 38, 15, 32], [61, 10, 15, 42, 16, 32], [59, 17, 45, 61, 6, 10], [46, 31, 22, 20, 25, 30], [32, 22, 20, 8, 60, 30], [32, 26, 13, 8, 44, 35], [24, 63, 9, 34, 40, 38], [61, 10, 42, 16, 1, 41]]\n",
      "Expert weights: [[0.07196044921875, 0.5947265625, 0.05224609375, 0.020233154296875, 0.01099395751953125, 0.0095367431640625], [0.173095703125, 0.08892822265625, 0.0865478515625, 0.0845947265625, 0.0762939453125, 0.04296875], [0.099853515625, 0.162353515625, 0.043914794921875, 0.09271240234375, 0.035858154296875, 0.03173828125], [0.10076904296875, 0.11639404296875, 0.235595703125, 0.0382080078125, 0.034637451171875, 0.0203094482421875], [0.2344970703125, 0.2215576171875, 0.0616455078125, 0.0455322265625, 0.036163330078125, 0.022918701171875], [0.1861572265625, 0.0869140625, 0.033660888671875, 0.03094482421875, 0.0282745361328125, 0.024261474609375], [0.321044921875, 0.09210205078125, 0.0780029296875, 0.038238525390625, 0.022857666015625, 0.01898193359375], [0.1649169921875, 0.128173828125, 0.11676025390625, 0.07958984375, 0.039703369140625, 0.036651611328125], [0.1387939453125, 0.1021728515625, 0.09918212890625, 0.0955810546875, 0.071044921875, 0.0628662109375], [0.056488037109375, 0.1607666015625, 0.0633544921875, 0.032806396484375, 0.1446533203125, 0.0293731689453125], [0.34716796875, 0.10205078125, 0.06463623046875, 0.02752685546875, 0.0263671875, 0.0225067138671875], [0.1483154296875, 0.0621337890625, 0.03961181640625, 0.07733154296875, 0.052734375, 0.03582763671875], [0.1817626953125, 0.11376953125, 0.11322021484375, 0.1102294921875, 0.036651611328125, 0.0239105224609375], [0.2188720703125, 0.062042236328125, 0.06085205078125, 0.0498046875, 0.0296173095703125, 0.0238800048828125], [0.150146484375, 0.12445068359375, 0.095458984375, 0.085205078125, 0.0311431884765625, 0.030548095703125], [0.1405029296875, 0.07293701171875, 0.0718994140625, 0.044952392578125, 0.043212890625, 0.0428466796875], [0.2978515625, 0.1085205078125, 0.032135009765625, 0.0283355712890625, 0.0247802734375, 0.022705078125]]\n",
      "Combined output tokens: [[('batim', 14.4609375), (' indebted', 14.15625), ('ndar', 14.0703125), ('имна', 13.6875), ('али', 13.4609375)], [('inars', 0.6865234375), ('ofil', 0.583984375), ('fy', 0.58349609375), ('oden', 0.58056640625), ('grav', 0.55859375)], [('uent', 0.68017578125), ('�', 0.673828125), ('uant', 0.654296875), (' vou', 0.65283203125), (' n', 0.6328125)], [('{}_', 0.916015625), ('好的', 0.8154296875), ('olute', 0.81298828125), ('打开', 0.8125), ('garh', 0.8115234375)], [('ideos', 0.8359375), ('iffe', 0.681640625), ('爪', 0.67822265625), ('рад', 0.677734375), ('imath', 0.6748046875)], [('榜', 0.67236328125), ('linger', 0.62939453125), ('MMC', 0.60400390625), ('mercial', 0.6005859375), ('ISA', 0.58544921875)], [(' Corts', 0.94970703125), ('itants', 0.927734375), ('andes', 0.84375), ('istram', 0.833984375), ('精灵', 0.82958984375)], [('obrir', 0.72265625), ('onats', 0.712890625), ('vies', 0.7021484375), ('overy', 0.697265625), (' царство', 0.6650390625)], [('FieldLocation', 0.70263671875), ('Ungrouped', 0.69287109375), ('indicat', 0.6748046875), ('schemaLocation', 0.62939453125), ('UTO', 0.61669921875)], [('зор', 0.453857421875), ('iades', 0.443603515625), ('idera', 0.43505859375), ('upost', 0.43115234375), ('fare', 0.429443359375)], [('entren', 0.89697265625), ('ometria', 0.8466796875), ('amen', 0.82666015625), ('amina', 0.81591796875), ('terdam', 0.79931640625)], [('бет', 0.73681640625), ('ITIVE', 0.673828125), ('者在', 0.662109375), ('ensem', 0.66015625), ('沫', 0.62353515625)], [('riba', 0.53515625), ('alink', 0.52490234375), ('扒', 0.5048828125), ('дем', 0.501953125), ('ialog', 0.5009765625)], [('yship', 0.65771484375), ('SION', 0.61572265625), ('линг', 0.58837890625), ('lel', 0.58154296875), (' remunt', 0.54638671875)], [('ifica', 0.658203125), ('нос', 0.65185546875), ('ела', 0.64306640625), ('奇特', 0.642578125), ('ifications', 0.62939453125)], [('�乐', 0.61865234375), ('ondin', 0.5673828125), ('cmid', 0.48681640625), ('ceptors', 0.47705078125), ('rici', 0.474609375)], [('��', 0.8798828125), ('yship', 0.771484375), ('eea', 0.70458984375), ('дене', 0.68701171875), ('rores', 0.68505859375)]]\n",
      "Expert predictions by position: {5: {0: [('榜', 10.34375), ('linger', 10.078125), ('ISA', 9.9140625), ('mercial', 9.1328125), ('uant', 8.9296875)], 16: [('нди', 9.953125), ('andidate', 9.7578125), ('oide', 9.4375), (' neighb', 9.421875), ('нд', 9.296875)], 19: [('мократи', 8.546875), ('fy', 8.5390625), ('дели', 8.359375), ('导', 8.3359375), ('ensi', 8.3359375)], 25: [('мет', 10.3671875), ('piar', 10.25), ('etimes', 9.640625), (\"'::\", 9.140625), ('etext', 9.046875)], 55: [('alsk', 9.1953125), ('habi', 9.1328125), ('onials', 9.125), ('ituci', 9.0625), ('esport', 8.921875)], 60: [('уза', 9.1171875), ('евру', 9.1015625), ('rome', 8.359375), ('ntz', 7.984375), ('locals', 7.86328125)]}, 7: {0: [('taw', 9.5859375), ('ceq', 9.4765625), ('рей', 8.8203125), ('�', 8.7578125), ('bology', 8.53125)], 15: [(' priority', 8.25), ('orio', 8.0625), ('rast', 7.9765625), ('pla', 7.7578125), ('ibus', 7.75)], 29: [(' propied', 9.328125), ('гни', 9.1953125), ('нисти', 8.90625), ('ARIO', 8.875), ('onium', 8.5078125)], 32: [('ФА', 9.65625), ('indicat', 8.9453125), ('жва', 8.8125), (' s', 8.7890625), ('apse', 8.7734375)], 60: [('Dun', 9.3125), ('identals', 9.0234375), ('acab', 8.609375), ('ivi', 8.4453125), ('lit', 8.1328125)], 63: [('anium', 11.046875), ('uari', 10.7578125), ('kerchief', 9.9140625), ('textquotedbl', 9.265625), ('elian', 9.109375)]}, 16: {1: [('eref', 8.3984375), ('chor', 7.87890625), ('凰', 7.8203125), ('stal', 7.58984375), ('炎', 7.53515625)], 10: [('{.}', 12.1875), ('arton', 9.9453125), ('FIT', 9.2109375), ('скоро', 8.984375), (' restants', 8.7578125)], 16: [('rill', 10.7109375), (' parch', 8.75), ('applications', 8.609375), ('oit', 8.2109375), ('редиземно', 8.171875)], 41: [('ollary', 10.2890625), ('oldre', 9.375), ('crata', 8.9375), (' квалифика', 8.6328125), ('ffer', 8.546875)], 42: [('{}_', 9.1953125), ('teo', 9.09375), ('olute', 8.859375), ('ecera', 8.84375), ('ieux', 8.84375)], 61: [('entren', 10.59375), ('amina', 9.84375), ('terdam', 9.640625), ('aired', 9.3203125), ('vestre', 9.2421875)]}, 2: {3: [(' F', 9.75), (' W', 9.0390625), (' C', 8.375), ('hed', 8.359375), ('�', 8.265625)], 14: [('ulada', 9.9296875), (' Bernat', 9.6875), (' Enterprise', 8.4375), ('orda', 8.4296875), (' SCB', 8.1953125)], 24: [('NonUser', 10.34375), ('ential', 9.90625), ('ffxiv', 9.5078125), ('intilla', 9.40625), ('ucode', 9.3203125)], 38: [('widetext', 10.6328125), ('oleon', 10.3203125), ('tats', 9.53125), ('Strunz', 9.4765625), ('ubon', 9.4453125)], 40: [('xits', 9.3984375), ('igues', 9.296875), ('�', 9.171875), ('gences', 9.1015625), ('кали', 9.046875)], 63: [('amacare', 9.46875), ('嵌', 8.6875), ('emberg', 8.4765625), ('overy', 8.2265625), (' Tags', 8.1640625)]}, 4: {4: [('widetext', 8.96875), ('ordinator', 8.640625), ('庭', 8.453125), ('сар', 8.3828125), (\"'@\", 8.34375)], 9: [('alian', 9.6875), ('chromium', 9.46875), (' pleg', 9.21875), ('INCT', 8.9609375), ('pread', 8.7578125)], 14: [('querque', 10.4609375), ('inea', 9.7109375), ('Embed', 9.265625), ('arreg', 8.796875), ('ornia', 8.6953125)], 38: [('сли', 11.1015625), ('ayout', 9.6015625), ('ents', 9.484375), ('6', 9.0703125), ('5', 8.890625)], 40: [('��', 9.5859375), ('ე', 8.890625), ('tzmann', 8.453125), ('fons', 8.2109375), ('pector', 8.015625)], 53: [('arch', 10.8359375), ('enn', 9.8515625), ('unnels', 9.6875), ('Окръг', 9.21875), ('izon', 8.3125)]}, 3: {6: [('yntax', 9.703125), ('яла', 9.359375), (' trast', 9.0859375), ('轼', 8.9609375), ('лък', 8.953125)], 8: [('select', 8.21875), ('onz', 8.1015625), ('her', 7.73046875), ('镜子', 7.671875), (' акти', 7.6484375)], 24: [('efault', 10.671875), ('substack', 9.9375), ('chitz', 9.1953125), ('uega', 9.1953125), ('ceptors', 9.046875)], 29: [('��', 11.6015625), ('显得', 9.2265625), ('LOPT', 8.9140625), ('iante', 8.78125), ('пте', 8.71875)], 42: [('lict', 9.671875), ('��', 9.625), ('adoc', 9.09375), ('ICY', 8.7421875), ('toctree', 8.71875)], 52: [('动', 10.6171875), ('INTS', 8.8515625), (' Eagle', 8.671875), ('пад', 8.6640625), ('haver', 8.234375)]}, 11: {6: [('ето', 9.1171875), ('ево', 8.375), ('бани', 8.328125), ('载', 8.25), ('чев', 8.1875)], 10: [('фин', 10.1484375), (' solars', 9.4296875), ('emen', 9.28125), ('pols', 9.0625), ('ymatrix', 8.9609375)], 17: [('ensem', 9.71875), ('ландски', 9.3203125), ('перка', 9.2734375), ('ландия', 9.15625), ('refs', 9.15625)], 45: [('大利', 9.515625), ('ursal', 9.2890625), ('\\\\&', 8.5703125), (' прин', 8.5625), ('intage', 8.484375)], 59: [('2', 16.453125), ('9', 16.109375), ('3', 15.6171875), ('1', 15.515625), ('5', 15.2421875)], 61: [('��', 11.6171875), ('лага', 11.1953125), ('ландия', 10.5390625), ('isia', 10.5078125), ('URES', 10.109375)]}, 13: {8: [('semblance', 10.4296875), ('perties', 9.828125), ('estamp', 9.8046875), ('alion', 9.6171875), ('oshop', 9.59375)], 20: [('整', 10.0078125), ('对象', 9.578125), ('raft', 7.875), ('esca', 7.67578125), ('ROID', 7.625)], 22: [('不成', 8.0), ('诈', 6.8671875), ('6', 6.85546875), ('�乐', 6.6953125), (':.', 6.65625)], 30: [('undry', 8.1640625), ('事', 7.86328125), ('nesi', 7.40234375), ('лите', 7.1875), ('гент', 7.15234375)], 32: [('пси', 10.265625), ('ulic', 10.1015625), ('ACION', 9.5546875), ('adic', 9.1875), (' remunt', 9.1015625)], 60: [('identals', 12.28125), ('rVert', 11.265625), ('icolumn', 10.578125), ('тре', 9.671875), ('HeadingColor', 9.578125)]}, 14: {8: [('ltimo', 9.09375), ('usher', 8.625), ('ρο', 8.6171875), ('unitat', 8.609375), ('Degree', 8.515625)], 13: [('UTO', 10.5234375), ('aya', 10.3359375), ('UTE', 9.84375), ('Rationals', 9.59375), ('nodev', 9.2734375)], 26: [('idera', 9.015625), ('告', 8.703125), ('issi', 8.5703125), ('lir', 8.25), ('DEFIN', 8.25)], 32: [('illery', 10.7734375), ('нер', 9.46875), ('ential', 8.9296875), ('enesis', 8.8515625), (' correg', 8.828125)], 35: [('scriptions', 9.109375), ('oscana', 8.7109375), ('登', 8.046875), ('集中', 7.98828125), ('tan', 7.9296875)], 44: [('ibar', 8.640625), ('egie', 8.0390625), ('round', 7.7890625), (' divers', 7.78125), ('� ', 7.5546875)]}, 15: {9: [('iffe', 8.9921875), ('quill', 8.953125), ('рад', 8.921875), ('巧', 8.7578125), ('itely', 8.7265625)], 24: [('uent', 8.75), (' v', 8.734375), ('ously', 8.640625), ('intilla', 8.3125), ('ents', 8.1484375)], 34: [('oders', 8.9296875), (' Montju', 8.71875), (' srp', 8.453125), ('inely', 8.2421875), ('inator', 8.203125)], 38: [('чели', 9.4609375), ('сла', 9.34375), ('стани', 9.3359375), ('стина', 9.2421875), ('чар', 9.0)], 40: [('rades', 9.6796875), ('чар', 9.28125), (' $}', 9.2265625), ('olo', 8.8828125), ('2', 8.40625)], 63: [('arance', 9.71875), ('ascut', 9.6640625), ('iveness', 9.4765625), ('рина', 9.296875), ('escence', 9.2734375)]}, 10: {10: [('джиев', 10.796875), ('imore', 9.109375), ('urb', 9.1015625), ('clos', 9.015625), ('Aran', 8.9375)], 15: [('raq', 8.6953125), ('anques', 8.5390625), ('plant', 8.2734375), ('Des', 8.0625), (',-\\\\', 8.0234375)], 16: [('emale', 10.265625), ('esome', 9.2265625), ('essee', 9.0546875), ('encar', 8.9375), ('aguen', 8.890625)], 32: [('垃', 9.2734375), ('osaurus', 8.9375), ('||||', 8.3984375), ('σ', 8.1484375), ('anging', 7.73046875)], 42: [('бани', 9.171875), ('DLINE', 8.890625), ('iflower', 8.765625), ('众', 8.1953125), ('棒', 8.15625)], 61: [('tia', 9.640625), ('tzmann', 9.34375), ('azzi', 8.59375), ('eton', 8.46875), (' Blue', 8.40625)]}, 6: {11: [('免', 7.49609375), ('令', 7.43359375), ('etus', 7.3203125), (' Si', 7.28515625), (' Ga', 7.265625)], 18: [(' fac', 6.9765625), ('ired', 6.9140625), ('жки', 6.8125), ('дар', 6.75), ('ж', 6.55859375)], 25: [('лище', 9.265625), ('漓', 8.9921875), ('NDER', 8.7890625), ('лища', 8.6015625), (' Seymour', 8.4296875)], 31: [(' P', 9.625), (' ', 9.21875), (' c', 9.1953125), ('ir', 8.9609375), (' END', 8.90625)], 41: [('1', 8.9375), ('2', 8.7734375), ('tofore', 8.5), ('0', 8.15625), ('5', 8.1171875)], 47: [(' Corts', 9.8828125), ('tulo', 8.921875), ('umno', 8.765625), ('itants', 8.53125), ('regi', 8.28125)]}, 8: {13: [('围', 9.640625), ('ailability', 9.2734375), ('ften', 9.1171875), ('habitants', 8.6484375), ('regut', 8.6171875)], 15: [('upost', 11.1171875), ('履', 10.5546875), ('vies', 8.6953125), ('adors', 8.5234375), ('everse', 8.4453125)], 26: [('onesa', 9.4453125), ('вици', 9.3359375), ('istres', 9.3046875), ('inaci', 9.1953125), ('eridge', 9.0703125)], 29: [('IGO', 9.9375), ('ationals', 8.859375), ('лета', 8.6796875), ('8', 8.46875), ('rews', 8.28125)], 32: [(' GiB', 9.1328125), (' подпо', 9.015625), ('isat', 8.8828125), (' getType', 8.5390625), ('════', 8.515625)], 44: [('acional', 10.5859375), ('璀', 9.7890625), ('Община', 9.65625), ('Protocols', 9.484375), ('ulats', 9.3203125)]}, 9: {15: [('0', 9.2890625), ('2', 8.84375), ('9', 8.7890625), (' ', 8.6875), ('举', 8.5390625)], 32: [('SyntaxKind', 10.671875), ('anteria', 10.546875), ('FieldLocation', 10.484375), ('PRB', 10.40625), ('�다', 10.171875)], 38: [('rested', 10.1796875), ('ULTS', 9.421875), ('ildo', 8.96875), ('сност', 7.98828125), (' REST', 7.734375)], 40: [('ounded', 9.0703125), ('wani', 8.9765625), ('Baseline', 8.7578125), ('ishop', 8.609375), ('wana', 8.59375)], 59: [('9', 9.2578125), ('ITIVE', 9.125), ('2', 8.8203125), ('率为', 8.7734375), ('4', 8.5859375)], 63: [('pector', 9.203125), ('ycler', 9.0390625), ('stic', 8.71875), ('rcia', 8.53125), (' Георгиев', 8.34375)]}, 1: {19: [('关', 9.421875), ('�', 8.5546875), ('庞', 8.4921875), ('ce', 8.25), ('aling', 8.25)], 25: [('identals', 9.5390625), ('qed', 8.6796875), ('rendre', 8.4375), ('цен', 8.296875), ('prettify', 8.1484375)], 26: [('клопе', 12.6953125), ('ulats', 10.1953125), ('remount', 9.9921875), ('дарение', 9.953125), ('колкото', 9.734375)], 31: [('raine', 7.41796875), ('ą', 7.015625), ('keyboard', 6.9765625), ('enga', 6.96484375), ('esa', 6.91796875)], 56: [('рис', 9.40625), ('мбо', 8.671875), ('кин', 8.5625), (' negre', 8.4609375), ('юн', 8.4453125)], 58: [('示', 9.4765625), ('4', 8.5859375), (' нах', 8.2734375), ('ار', 8.15625), ('熊', 8.0390625)]}, 0: {20: [('根部', 9.453125), (' combust', 8.859375), ('根', 8.609375), ('atorium', 8.1171875), ('yship', 7.93359375)], 22: [('мото', 10.203125), ('tablen', 9.734375), ('oshop', 9.6953125), ('restant', 9.6171875), ('otas', 9.234375)], 31: [('巍', 8.71875), (' ,', 8.2578125), ('bet', 8.1484375), ('дове', 8.0), (' .', 7.8203125)], 41: [('�乐', 7.15625), ('DLINE', 6.7734375), ('herself', 6.72265625), ('ocal', 6.66796875), (' saddle', 6.57421875)], 46: [('odal', 9.859375), ('фри', 9.6796875), ('iries', 9.6328125), ('lector', 9.5859375), ('ATAB', 9.4140625)], 62: [('batim', 6.69140625), (' indebted', 6.5625), ('ndar', 6.43359375), ('али', 6.3515625), ('имна', 6.31640625)]}, 12: {20: [('0', 9.3125), ('9', 8.1328125), ('7', 7.984375), ('2', 7.73828125), ('4', 7.59765625)], 22: [('amia', 8.2265625), ('销', 8.0703125), ('�', 8.0234375), ('ami', 7.91015625), ('ame', 7.828125)], 25: [('弈', 9.1640625), ('artz', 8.71875), ('ode', 8.5625), (' probado', 8.5), ('estir', 8.390625)], 30: [('гот', 7.5234375), ('ily', 6.9453125), ('incar', 6.84375), ('子公司', 6.671875), ('slot', 6.6640625)], 31: [('8', 11.84375), ('6', 11.7578125), ('5', 11.4296875), ('4', 11.1953125), ('2', 11.046875)], 46: [('0', 10.46875), ('9', 10.4453125), ('7', 10.4296875), ('6', 10.0078125), ('8', 9.8046875)]}}\n",
      "Shared expert predictions: [[('ndard', 0.6669921875), ('ufact', 0.54736328125), ('тори', 0.52490234375), ('naires', 0.5205078125), ('ouble', 0.501953125)], [('acerb', 0.2459716796875), ('сал', 0.2257080078125), ('oDB', 0.2227783203125), ('oji', 0.2120361328125), ('barrier', 0.2032470703125)], [('oys', 0.2568359375), ('�', 0.2406005859375), ('пте', 0.236083984375), ('ovir', 0.2354736328125), ('耽', 0.2327880859375)], [('-,', 0.28564453125), ('KC', 0.283447265625), ('小心翼翼', 0.281494140625), ('诡', 0.26953125), (' проте', 0.26806640625)], [('malink', 0.356201171875), ('onos', 0.33740234375), ('googleads', 0.326171875), ('ceptors', 0.318603515625), ('NameLink', 0.316162109375)], [('upost', 0.427734375), ('вайг', 0.42626953125), ('lemn', 0.41845703125), ('UMN', 0.406005859375), ('unknownFields', 0.4033203125)], [('aulay', 0.371826171875), ('如有关于', 0.363525390625), ('Llocs', 0.3037109375), ('yship', 0.300537109375), ('vies', 0.292724609375)], [('氧', 0.34130859375), ('mmode', 0.3349609375), ('斯顿', 0.328125), ('malink', 0.320068359375), ('шата', 0.309814453125)], [('�乐', 0.277099609375), ('iemont', 0.22412109375), ('enery', 0.219482421875), ('ionista', 0.21484375), ('解析', 0.2083740234375)], [('ipage', 0.3076171875), ('enery', 0.281494140625), ('questra', 0.257080078125), ('ambre', 0.25390625), ('empat', 0.251708984375)], [('lada', 0.25927734375), ('erella', 0.246826171875), ('eries', 0.24365234375), ('ese', 0.23974609375), ('ometria', 0.2349853515625)], [('iab', 0.39208984375), ('liament', 0.378173828125), ('etapes', 0.368408203125), ('aphragm', 0.357177734375), ('CALLTYPE', 0.3515625)], [('以上文章内容', 0.191650390625), ('abla', 0.1802978515625), ('ORMAL', 0.1783447265625), ('rada', 0.177490234375), ('iens', 0.17431640625)], [('nides', 0.271728515625), ('manda', 0.2314453125), ('sembl', 0.224609375), ('oire', 0.224609375), ('бор', 0.2242431640625)], [('棘', 0.2208251953125), ('дри', 0.2208251953125), ('owls', 0.2183837890625), ('GOR', 0.21240234375), ('ituency', 0.21142578125)], [('cmid', 0.29150390625), ('imits', 0.27294921875), ('ито', 0.258544921875), ('dues', 0.2568359375), ('acta', 0.250732421875)], [('грани', 0.310791015625), ('igl', 0.309326171875), ('ancourt', 0.2890625), ('чия', 0.28564453125), (' Banc', 0.27978515625)]]\n",
      "\n",
      "MoE Layer 4:\n",
      "Selected experts: [[18, 62, 0, 43, 17, 1], [19, 26, 38, 15, 43, 59], [36, 1, 16, 37, 13, 39], [21, 37, 25, 50, 13, 55], [14, 61, 16, 27, 39, 0], [7, 9, 2, 49, 52, 43], [59, 15, 19, 26, 51, 29], [7, 6, 60, 52, 49, 2], [6, 1, 52, 60, 44, 38], [6, 37, 36, 21, 42, 60], [55, 21, 31, 60, 22, 6], [55, 25, 58, 36, 47, 48], [46, 18, 17, 43, 2, 56], [34, 17, 46, 56, 31, 18], [34, 17, 1, 6, 38, 47], [34, 27, 36, 37, 42, 61], [55, 21, 22, 31, 60, 34]]\n",
      "Expert weights: [[0.60888671875, 0.02996826171875, 0.0231170654296875, 0.0101470947265625, 0.00951385498046875, 0.0095062255859375], [0.21875, 0.11688232421875, 0.11688232421875, 0.0775146484375, 0.0340576171875, 0.0294647216796875], [0.050323486328125, 0.05096435546875, 0.0633544921875, 0.1805419921875, 0.040679931640625, 0.037689208984375], [0.157470703125, 0.08050537109375, 0.051513671875, 0.07769775390625, 0.05047607421875, 0.0474853515625], [0.1591796875, 0.055267333984375, 0.06231689453125, 0.24462890625, 0.04119873046875, 0.04052734375], [0.09576416015625, 0.06317138671875, 0.059478759765625, 0.059112548828125, 0.05560302734375, 0.03955078125], [0.154052734375, 0.07452392578125, 0.043792724609375, 0.035064697265625, 0.034423828125, 0.033538818359375], [0.10479736328125, 0.100830078125, 0.0828857421875, 0.0474853515625, 0.044097900390625, 0.041351318359375], [0.1337890625, 0.12646484375, 0.07452392578125, 0.040496826171875, 0.0364990234375, 0.035125732421875], [0.1324462890625, 0.1072998046875, 0.10040283203125, 0.0732421875, 0.06707763671875, 0.054473876953125], [0.2164306640625, 0.11651611328125, 0.10406494140625, 0.090576171875, 0.06549072265625, 0.057281494140625], [0.10870361328125, 0.062744140625, 0.05267333984375, 0.1248779296875, 0.135009765625, 0.05145263671875], [0.095947265625, 0.1483154296875, 0.08160400390625, 0.060791015625, 0.045440673828125, 0.04315185546875], [0.10723876953125, 0.083740234375, 0.0821533203125, 0.06488037109375, 0.05377197265625, 0.04620361328125], [0.11865234375, 0.0682373046875, 0.041900634765625, 0.040557861328125, 0.036346435546875, 0.032440185546875], [0.061248779296875, 0.0645751953125, 0.07672119140625, 0.0880126953125, 0.060760498046875, 0.05023193359375], [0.1549072265625, 0.139892578125, 0.09130859375, 0.0665283203125, 0.043487548828125, 0.0260467529296875]]\n",
      "Combined output tokens: [[('писи', 6.8125), (' препратки', 6.68359375), ('batim', 6.640625), ('{}_', 6.4921875), ('�乐', 6.40625)], [('9', 0.67333984375), ('arsely', 0.6669921875), ('лев', 0.6650390625), ('лео', 0.6572265625), ('зата', 0.654296875)], [(' $}', 0.60693359375), ('imit', 0.60205078125), ('新加坡', 0.58740234375), ('STS', 0.57568359375), ('积', 0.5751953125)], [('前者', 0.78076171875), ('后者', 0.67919921875), ('Stud', 0.595703125), (' type', 0.59423828125), ('ONS', 0.58447265625)], [('的一面', 1.171875), ('usters', 1.1357421875), ('commended', 1.07421875), ('venin', 1.0146484375), ('лко', 1.0146484375)], [('regu', 0.70166015625), ('вена', 0.65283203125), ('сец', 0.64794921875), ('疏松', 0.623046875), ('onstr', 0.61865234375)], [(' Стар', 0.419189453125), ('presence', 0.34619140625), ('dign', 0.341796875), ('弹', 0.3408203125), ('сор', 0.333984375)], [('ubishi', 0.53759765625), ('东', 0.51171875), ('断', 0.50537109375), ('解', 0.50439453125), ('habi', 0.49755859375)], [('NAL', 0.572265625), ('ionar', 0.55712890625), ('igis', 0.552734375), ('NF', 0.51611328125), ('ionat', 0.50439453125)], [('NAL', 0.794921875), ('ست', 0.646484375), ('део', 0.64208984375), ('�起', 0.63232421875), ('��', 0.6298828125)], [('SUR', 0.728515625), ('ogonal', 0.71728515625), ('═', 0.7138671875), ('olev', 0.7119140625), ('ALSE', 0.7080078125)], [('regat', 0.7646484375), ('iscop', 0.72119140625), ('pees', 0.70654296875), ('смо', 0.69873046875), ('vera', 0.69189453125)], [('кана', 0.431884765625), ('зира', 0.4140625), ('起点', 0.41162109375), ('кара', 0.394287109375), ('тури', 0.3896484375)], [(' _', 0.423828125), (' ch', 0.414794921875), ('Algo', 0.3935546875), (' Line', 0.388671875), ('AN', 0.378173828125)], [('слу', 0.70361328125), ('vphantom', 0.6484375), ('уди', 0.64013671875), ('登', 0.626953125), ('unctions', 0.611328125)], [('ossos', 0.5966796875), ('xer', 0.5263671875), ('лии', 0.5), ('ANNEL', 0.46923828125), ('itiu', 0.467529296875)], [('emplates', 0.75830078125), ('ulats', 0.75244140625), ('лона', 0.67919921875), ('onats', 0.677734375), ('velt', 0.67626953125)]]\n",
      "Expert predictions by position: {0: {0: [('慰', 6.56640625), (' denomination', 6.46875), ('entina', 6.46484375), ('valueOf', 6.44921875), ('INSEE', 6.4375)], 1: [('ническата', 10.671875), (' acons', 10.609375), ('accions', 10.203125), ('INCT', 10.015625), ('essages', 10.0)], 17: [('�', 9.375), (' e', 9.203125), ('ancia', 9.1015625), ('anc', 8.734375), ('net', 8.4453125)], 18: [('кара', 10.4375), ('fo', 10.25), ('зира', 10.0078125), ('щност', 9.6875), ('Fo', 9.5546875)], 43: [('рна', 8.2265625), (' m', 8.171875), (' pad', 8.109375), ('_', 7.96484375), (' Tab', 7.75390625)], 62: [('翼翼', 6.625), ('valueOf', 6.55859375), ('慰', 6.54296875), ('右手', 6.3359375), ('芒', 6.2890625)]}, 4: {0: [('zi', 9.7890625), ('以色', 9.765625), ('лом', 9.59375), ('otge', 9.546875), ('休', 9.515625)], 14: [('etooth', 9.515625), ('Unit', 9.1171875), ('rtype', 8.875), (' unit', 8.4296875), ('盛', 8.4140625)], 16: [('断', 9.921875), ('ARI', 8.390625), ('火花', 8.0703125), (' Fare', 7.92578125), ('кер', 7.84765625)], 27: [(' v', 9.859375), ('breath', 9.296875), ('layer', 9.25), ('aker', 8.765625), ('гер', 8.65625)], 39: [('WARN', 9.0859375), ('uen', 8.953125), ('archy', 8.8125), ('scribe', 8.6015625), ('ameters', 8.3984375)], 61: [('.', 9.15625), ('apore', 8.96875), ('emas', 8.75), ('arks', 8.546875), ('验', 8.4765625)]}, 2: {1: [(' предста', 10.484375), ('备', 9.359375), ('三分', 9.3203125), ('INCT', 8.5625), ('�', 8.3671875)], 13: [(' Iron', 9.6015625), ('牌', 9.4375), ('斯基', 8.4375), (' iron', 8.3125), ('Iron', 8.2109375)], 16: [('�', 12.1796875), ('щем', 9.3984375), ('scal', 9.1875), ('wv', 9.1484375), (' Rust', 9.0)], 36: [('��', 9.671875), ('ibility', 9.328125), ('inition', 8.984375), ('�起', 8.8203125), ('iler', 8.796875)], 37: [('3', 10.90625), ('4', 10.65625), ('�', 10.3359375), ('候', 10.171875), ('9', 10.109375)], 39: [('ipl', 8.2265625), ('mbits', 7.99609375), ('含', 7.90625), ('riched', 7.83203125), ('sed', 7.8046875)]}, 8: {1: [('shard', 10.1015625), ('UFF', 9.21875), ('aveu', 9.1640625), ('保时', 9.125), ('irtual', 8.84375)], 6: [('峡', 8.4375), ('orell', 8.4296875), ('Definition', 8.25), ('uez', 8.1484375), ('arquia', 8.125)], 38: [('rttemberg', 9.546875), ('vare', 8.875), ('isObject', 8.7265625), ('支付', 8.40625), ('提前', 8.28125)], 44: [('ubert', 9.5), ('ribut', 9.171875), ('fters', 8.828125), ('esses', 8.6953125), ('ETERS', 8.6484375)], 52: [('schaft', 9.03125), ('ssia', 8.7109375), ('gaon', 8.578125), ('мерикан', 8.34375), ('inho', 8.234375)], 60: [('inger', 8.9140625), ('arcy', 8.640625), ('%{', 8.484375), ('桩', 8.46875), ('�', 8.4375)]}, 14: {1: [('��', 8.7890625), (' препратки', 7.44921875), (' Hague', 7.12890625), ('ELF', 6.984375), ('baselineskip', 6.8515625)], 6: [('口径', 8.7109375), (' Sed', 8.5546875), ('Фор', 7.90625), ('良', 7.90625), ('仿', 7.8046875)], 17: [(' хра', 8.8515625), (' store', 8.4296875), ('contribs', 8.34375), (' pre', 8.1015625), ('WIRE', 7.95703125)], 34: [('nou', 9.7109375), ('登', 9.40625), ('滑', 9.0078125), ('每人', 8.953125), ('тео', 8.1640625)], 38: [('rl', 10.921875), ('мос', 9.5859375), ('级别', 9.515625), ('че', 8.890625), ('级别的', 8.734375)], 47: [('nick', 9.0234375), ('rill', 8.9765625), ('гни', 8.0625), ('提', 8.0546875), ('眉', 7.58984375)]}, 5: {2: [('站的', 8.4609375), ('FL', 7.890625), ('neum', 7.87109375), ('ubs', 7.6875), (' vort', 7.60546875)], 7: [('jet', 9.7734375), ('list', 9.1015625), ('朋', 8.640625), (' reg', 8.375), ('http', 8.3359375)], 9: [('处女', 9.9921875), ('pings', 9.984375), ('xiller', 9.9140625), ('陈代谢', 9.765625), (' рота', 9.6953125)], 43: [('itures', 5.15234375), ('��', 5.1484375), ('endas', 4.9296875), ('plural', 4.9140625), ('avers', 4.90625)], 49: [('疏松', 8.09375), ('oser', 8.0859375), ('�', 8.0390625), ('engo', 7.73828125), ('复合', 7.421875)], 52: [('品', 9.578125), ('хия', 9.2109375), ('trade', 8.9453125), ('rog', 8.671875), (' Bereng', 8.53125)]}, 7: {2: [('付费', 9.4609375), ('hene', 9.2578125), ('羽', 9.1796875), ('idot', 9.0859375), ('spath', 9.03125)], 6: [('ilevel', 9.625), ('obert', 9.3046875), ('ondre', 9.0234375), ('oleon', 8.8671875), ('reu', 8.7890625)], 7: [('orters', 10.140625), ('ubishi', 9.9140625), ('curities', 8.21875), ('ADY', 8.03125), ('наги', 7.94921875)], 49: [(' ', 10.3125), ('лона', 9.4375), ('aska', 9.25), ('韭', 8.6953125), ('村里', 7.64453125)], 52: [('uar', 9.9375), ('ult', 8.7890625), ('isenberg', 8.6875), ('EDITOR', 8.59375), ('Oz', 8.3515625)], 60: [('记得', 10.0703125), ('孔', 8.4609375), (' Acts', 8.3671875), ('йта', 8.3515625), (' Бун', 8.34375)]}, 12: {2: [('визи', 8.9921875), ('0', 8.8359375), ('vertis', 8.0859375), (' Globe', 7.8203125), ('sphere', 7.73828125)], 17: [('otech', 8.484375), ('atedr', 8.375), (' _', 8.015625), ('тората', 7.96875), ('iria', 7.859375)], 18: [('enix', 9.1796875), ('frame', 9.078125), ('fo', 9.03125), (' c', 8.1484375), (' bro', 8.125)], 43: [('1', 10.875), ('4', 10.8046875), ('6', 10.265625), ('8', 10.25), ('2', 10.0703125)], 46: [('Island', 8.9765625), ('носа', 8.71875), (' Island', 8.640625), ('erra', 8.5703125), ('emat', 8.546875)], 56: [('кво', 9.3984375), ('髦', 8.9140625), ('纳', 8.90625), ('LEEP', 8.8203125), (' полета', 8.7421875)]}, 9: {6: [('agma', 9.5234375), ('oman', 8.3203125), ('秃', 8.25), ('ibil', 8.203125), ('-$\\\\', 8.09375)], 21: [('ndex', 8.734375), ('assic', 8.4609375), ('енеди', 8.390625), ('astrous', 8.234375), ('Replicas', 7.796875)], 36: [('ExternalTask', 10.4609375), ('盖上', 9.546875), (' Малко', 8.90625), ('��', 8.8828125), ('datatables', 8.859375)], 37: [('2', 11.6171875), ('3', 11.1015625), ('1', 10.7421875), ('9', 10.15625), ('5', 9.84375)], 42: [('ugal', 9.6875), ('България', 9.6171875), ('�乐', 9.3828125), ('CLUD', 8.8046875), ('спекти', 8.7421875)], 60: [('googleapis', 10.2109375), ('ocolm', 9.765625), ('зеку', 9.6484375), ('colhead', 9.5390625), ('StyleID', 9.5)]}, 10: {6: [('ODB', 9.609375), (' пило', 9.546875), ('�', 9.0078125), ('espan', 8.4453125), ('etria', 8.3046875)], 21: [('向东', 10.0), ('idar', 8.53125), ('уа', 8.5234375), ('cha', 8.46875), ('сис', 8.3984375)], 22: [('enko', 9.359375), ('avorite', 9.15625), ('承', 8.640625), (' valign', 8.3828125), ('�乐', 8.2265625)], 31: [(' head', 9.625), ('гане', 9.453125), ('HEAD', 9.4140625), ('itect', 9.03125), ('head', 8.953125)], 55: [('olev', 8.6484375), ('\\tit', 8.5703125), ('临', 8.4140625), ('gler', 8.2578125), ('gency', 8.03125)], 60: [('卵管', 11.3828125), (' xif', 9.5859375), ('Bund', 9.5234375), ('elligence', 9.234375), ('ronic', 9.0703125)]}, 3: {13: [('�', 9.2578125), ('getResource', 9.1640625), ('craft', 8.484375), ('redible', 8.421875), ('�', 8.390625)], 21: [('分机', 8.796875), ('vity', 8.4921875), ('chaft', 8.484375), ('尊', 8.359375), ('idual', 8.171875)], 25: [('ival', 8.296875), ('checkpoint', 7.87109375), ('thus', 7.7265625), ('�', 7.41015625), (' *', 7.37890625)], 37: [('9', 9.96875), ('7', 9.6796875), ('�', 9.1328125), ('0', 8.9609375), ('寡', 8.921875)], 50: [('1', 10.8828125), ('like', 10.5703125), ('2', 10.3359375), ('[', 9.4921875), ('…', 9.3125)], 55: [('лярен', 9.6953125), ('oidal', 9.6484375), ('otip', 9.5546875), (' borb', 8.90625), ('够了', 8.8515625)]}, 1: {15: [('tage', 9.2890625), ('ke', 9.1171875), ('lava', 8.5234375), ('ylum', 8.234375), ('�', 8.1171875)], 19: [('trim', 8.6015625), ('onstr', 8.4140625), ('Trim', 8.1640625), ('u', 7.96875), ('入户', 7.70703125)], 26: [('�乐', 9.4765625), ('ername', 9.2578125), ('йка', 9.109375), ('бя', 8.46875), ('vell', 8.359375)], 38: [('redo', 8.953125), ('YE', 8.3671875), ('Physical', 8.2421875), ('COPY', 8.1953125), ('physical', 8.140625)], 43: [(' Саво', 9.9296875), ('nery', 9.328125), ('直', 8.828125), ('прия', 8.546875), (' EventArgs', 8.3359375)], 59: [('�', 8.4375), ('жи', 8.359375), ('abolic', 8.203125), ('[--', 7.9921875), ('�', 7.98046875)]}, 6: {15: [('nance', 9.4765625), ('ivil', 9.296875), ('визи', 8.5546875), ('边际', 8.421875), ('ke', 8.34375)], 19: [('лева', 8.75), ('лим', 8.3671875), ('utely', 8.3125), ('fonia', 8.21875), ('hardly', 8.203125)], 26: [('semb', 9.5625), ('stv', 9.140625), ('ictionary', 8.9609375), ('endom', 8.578125), ('igaci', 8.5390625)], 29: [('edesktop', 10.2109375), ('olta', 9.4375), ('cosh', 9.2109375), ('iquen', 8.8515625), ('侥', 8.71875)], 51: [('agerness', 8.640625), ('xen', 7.83203125), ('мпа', 7.7890625), ('яна', 7.734375), ('мия', 7.62109375)], 59: [('rrer', 10.859375), ('hores', 10.78125), (' проте', 9.328125), ('�', 9.1171875), (' Стар', 8.9453125)]}, 13: {17: [('zig', 7.33984375), ('oux', 6.9296875), (' препратки', 6.90625), (' magistrat', 6.53515625), ('ndar', 6.37109375)], 18: [('batim', 7.71484375), ('писи', 7.671875), (' препратки', 7.61328125), ('{}_', 7.0859375), ('�乐', 6.76171875)], 31: [('ibar', 8.90625), (' проб', 8.6796875), ('� ', 8.6328125), ('стре', 8.609375), ('incible', 8.3671875)], 34: [(' bancs', 9.3359375), ('ht', 9.2421875), ('imit', 8.9375), ('tted', 8.4921875), ('ients', 8.265625)], 46: [('iliar', 9.125), (' той', 8.90625), ('esper', 8.7734375), ('eer', 8.734375), ('isations', 8.6953125)], 56: [('ография', 9.5234375), ('adders', 9.046875), ('alu', 8.78125), ('кръ', 8.6640625), ('ут', 8.25)]}, 16: {21: [('ajut', 10.6875), ('ург', 10.234375), ('гри', 10.0546875), ('landa', 9.59375), ('хайд', 9.484375)], 22: [('rize', 10.0859375), ('aptop', 8.90625), ('lemm', 8.7890625), ('urther', 8.7734375), (' sord', 8.7265625)], 31: [('uda', 8.953125), (' Роман', 8.4140625), ('淡', 8.296875), (' rowspan', 8.28125), ('onte', 8.21875)], 34: [('don', 9.421875), ('гава', 9.265625), ('line', 8.1015625), ('面的', 8.0234375), (' ×', 7.921875)], 55: [('endre', 10.4609375), ('isphere', 8.90625), ('хите', 8.828125), ('cco', 8.796875), ('�', 8.7734375)], 60: [(' pari', 8.6640625), ('anyol', 8.53125), (' falt', 8.40625), (' Рил', 8.203125), ('attery', 8.0625)]}, 11: {25: [('fono', 9.7734375), ('��', 9.53125), ('乎', 9.421875), ('itsk', 9.0859375), ('escan', 8.796875)], 36: [('able', 9.34375), ('пия', 8.5234375), ('菠', 8.515625), ('ably', 8.3984375), ('complete', 8.3515625)], 47: [('дават', 9.8359375), ('qed', 9.65625), ('рат', 9.4765625), ('lood', 8.609375), ('ствител', 8.5859375)], 48: [('oys', 11.5859375), ('家庄', 11.3828125), ('otip', 11.3671875), ('alesa', 10.671875), (' Madem', 10.1953125)], 55: [('ashian', 9.953125), ('скон', 9.8984375), ('ento', 9.84375), ('ollers', 9.8359375), ('enesis', 9.8359375)], 58: [('图片发自', 9.21875), (' Gine', 9.1484375), ('Errorf', 8.4921875), ('<!', 8.453125), ('乌鲁', 8.328125)]}, 15: {27: [('inea', 10.2890625), ('commended', 10.0234375), ('frak', 9.8203125), ('|_', 9.65625), ('лярен', 9.2265625)], 34: [('aturally', 9.703125), ('forge', 9.390625), ('lop', 9.3046875), ('issors', 9.2109375), (' valign', 9.046875)], 36: [('�起', 10.8984375), ('бъ', 8.96875), ('湾', 8.8046875), (' Man', 8.4921875), (' parl', 8.2890625)], 37: [('莱坞', 10.671875), ('oscript', 9.640625), ('usercontent', 9.4296875), ('pica', 9.40625), ('stit', 9.1796875)], 42: [('segu', 8.7265625), ('pzc', 8.5703125), (' caval', 7.93359375), ('уни', 7.9140625), (' Вале', 7.7890625)], 61: [('guez', 10.5078125), ('lpr', 9.1796875), (' наука', 9.125), ('麻', 8.6953125), ('eners', 8.65625)]}}\n",
      "Shared expert predictions: [[('9', 1.2822265625), ('6', 1.1806640625), ('8', 1.1552734375), ('1', 1.083984375), ('3', 1.056640625)], [('wain', 0.253173828125), ('Extended', 0.23681640625), ('Lord', 0.221435546875), ('atar', 0.2213134765625), ('enu', 0.2208251953125)], [(' Стар', 0.322509765625), ('жени', 0.3154296875), ('жие', 0.312255859375), ('сните', 0.307861328125), ('жена', 0.30517578125)], [('omys', 0.385986328125), ('ONS', 0.352783203125), (' r', 0.32080078125), (' appro', 0.2978515625), ('wain', 0.29443359375)], [('mics', 0.421630859375), ('legs', 0.416259765625), ('UnitTest', 0.404541015625), ('Footer', 0.403076171875), ('хен', 0.38134765625)], [('idera', 0.42822265625), ('iones', 0.42578125), (' срав', 0.40771484375), ('istick', 0.380126953125), ('Serv', 0.371337890625)], [('ILE', 0.2459716796875), ('嗽', 0.2408447265625), ('NES', 0.2364501953125), (' ballast', 0.2354736328125), ('ради', 0.2281494140625)], [('政', 0.3701171875), ('孜', 0.343505859375), ('nin', 0.337890625), (' Barc', 0.33642578125), ('冕', 0.3125)], [(' INDEX', 0.328125), ('ONS', 0.32080078125), ('radas', 0.31103515625), ('inaci', 0.31103515625), (' Index', 0.309326171875)], [(' SerialNumber', 0.36865234375), (' INDEX', 0.344970703125), ('ი�', 0.31982421875), (' nebot', 0.30908203125), (' Ends', 0.30712890625)], [('inel', 0.28369140625), ('odb', 0.282958984375), ('不经', 0.27587890625), ('═', 0.265625), ('ogn', 0.24658203125)], [('rida', 0.430908203125), ('恨', 0.40673828125), ('迁', 0.404541015625), ('regat', 0.39306640625), (' наля', 0.3857421875)], [('ionar', 0.267822265625), ('reci', 0.253662109375), ('阿根', 0.250732421875), ('ην', 0.248046875), ('inaci', 0.242431640625)], [('лят', 0.268310546875), (' ram', 0.242919921875), ('нци', 0.2384033203125), ('\\\\$', 0.2352294921875), (' Permission', 0.2352294921875)], [('fford', 0.4697265625), ('vphantom', 0.36962890625), ('erella', 0.366455078125), ('ront', 0.362548828125), ('ionar', 0.361572265625)], [('avall', 0.33984375), ('getActive', 0.3310546875), ('erent', 0.330322265625), ('Rx', 0.321044921875), ('iatrics', 0.313720703125)], [('annels', 0.400146484375), (' civils', 0.38916015625), (' visibles', 0.36376953125), ('amely', 0.359619140625), ('myItem', 0.353271484375)]]\n",
      "\n",
      "MoE Layer 5:\n",
      "Selected experts: [[7, 13, 24, 12, 36, 16], [42, 26, 53, 33, 49, 31], [42, 51, 38, 46, 44, 12], [42, 28, 9, 48, 39, 2], [12, 61, 60, 36, 5, 45], [29, 48, 19, 30, 37, 18], [40, 6, 53, 24, 13, 21], [48, 30, 2, 18, 23, 58], [48, 30, 2, 40, 18, 45], [2, 48, 51, 4, 44, 8], [9, 1, 2, 7, 48, 28], [7, 15, 2, 43, 48, 4], [11, 62, 37, 29, 6, 26], [11, 29, 62, 23, 37, 34], [59, 23, 48, 11, 54, 38], [51, 2, 10, 12, 61, 59], [9, 1, 48, 7, 11, 2]]\n",
      "Expert weights: [[0.1844482421875, 0.028472900390625, 0.026031494140625, 0.024749755859375, 0.023956298828125, 0.0233154296875], [0.365478515625, 0.032989501953125, 0.06463623046875, 0.0301361083984375, 0.06390380859375, 0.025177001953125], [0.1630859375, 0.1285400390625, 0.10992431640625, 0.07135009765625, 0.05560302734375, 0.0447998046875], [0.0595703125, 0.08740234375, 0.295654296875, 0.04327392578125, 0.04052734375, 0.036102294921875], [0.06072998046875, 0.153564453125, 0.140869140625, 0.223388671875, 0.06048583984375, 0.0362548828125], [0.050872802734375, 0.044464111328125, 0.0751953125, 0.1424560546875, 0.062408447265625, 0.03643798828125], [0.283935546875, 0.0635986328125, 0.04833984375, 0.04052734375, 0.039276123046875, 0.033172607421875], [0.082763671875, 0.19775390625, 0.173828125, 0.06658935546875, 0.054168701171875, 0.0274658203125], [0.205078125, 0.1219482421875, 0.2034912109375, 0.024993896484375, 0.02203369140625, 0.0210113525390625], [0.177978515625, 0.11785888671875, 0.0712890625, 0.054443359375, 0.053680419921875, 0.035980224609375], [0.05621337890625, 0.034942626953125, 0.12158203125, 0.3134765625, 0.19580078125, 0.0247955322265625], [0.1927490234375, 0.179931640625, 0.08770751953125, 0.06268310546875, 0.0546875, 0.043212890625], [0.1265869140625, 0.150390625, 0.0928955078125, 0.0928955078125, 0.0511474609375, 0.047576904296875], [0.302001953125, 0.07421875, 0.10968017578125, 0.05120849609375, 0.0261383056640625, 0.0203094482421875], [0.0236053466796875, 0.09405517578125, 0.12115478515625, 0.25537109375, 0.02197265625, 0.021759033203125], [0.13232421875, 0.06005859375, 0.0477294921875, 0.04449462890625, 0.037994384765625, 0.036895751953125], [0.07861328125, 0.0682373046875, 0.14013671875, 0.1641845703125, 0.05145263671875, 0.04229736328125]]\n",
      "Combined output tokens: [[('肋', 2.201171875), (' препратки', 2.1796875), ('{}_', 2.109375), ('urals', 1.84765625), (' Hague', 1.8154296875)], [('ambers', 3.01953125), ('уза', 2.85546875), ('断', 2.681640625), ('龟', 2.5625), ('sos', 2.466796875)], [(' **:', 0.88671875), ('новете', 0.87646484375), ('enames', 0.8310546875), (' sodi', 0.791015625), ('淹', 0.77978515625)], [('ardu', 0.966796875), ('gines', 0.94970703125), ('anera', 0.88134765625), ('iras', 0.86376953125), ('antos', 0.85693359375)], [('KA', 1.109375), ('Pom', 1.099609375), ('bay', 1.087890625), ('ensi', 1.0732421875), ('новка', 0.994140625)], [('立卡', 0.80517578125), ('VOKE', 0.77734375), ('uper', 0.77197265625), ('UNG', 0.76025390625), (' Ven', 0.75830078125)], [('ize', 0.471923828125), ('erset', 0.45947265625), ('emu', 0.450439453125), ('izer', 0.446044921875), ('otron', 0.442626953125)], [('vider', 1.0068359375), ('友', 0.9091796875), ('街', 0.884765625), ('line', 0.8388671875), ('大街', 0.82958984375)], [('alfabet', 0.9990234375), ('urals', 0.93115234375), ('legi', 0.86376953125), ('ář', 0.8603515625), ('ʊ', 0.853515625)], [('бове', 0.794921875), ('lant', 0.75), ('利物', 0.705078125), ('iguez', 0.67724609375), ('WithValue', 0.65966796875)], [('oyal', 1.0849609375), ('lem', 1.0791015625), ('ria', 1.017578125), ('同级', 0.96435546875), ('rial', 0.94140625)], [('湃', 1.2861328125), ('SOR', 1.1162109375), ('heng', 1.0419921875), (' аре', 1.0400390625), ('IGO', 1.0400390625)], [('Lng', 0.8017578125), ('landa', 0.794921875), ('Habitants', 0.78662109375), ('acis', 0.76513671875), (' $\\\\#', 0.74267578125)], [('ugal', 1.138671875), ('landa', 1.138671875), ('irect', 1.0908203125), ('encar', 1.048828125), ('amf', 1.046875)], [('дио', 1.138671875), ('Македония', 1.1123046875), ('$[', 1.0517578125), ('ulen', 1.0478515625), ('asteries', 1.0341796875)], [('iples', 0.67431640625), ('漏', 0.5751953125), ('TERM', 0.55078125), (' block', 0.54052734375), (\"__':\", 0.52783203125)], [('PYG', 1.03515625), ('oirs', 1.029296875), ('utenberg', 1.0205078125), ('ocamp', 1.0009765625), ('iren', 0.998046875)]]\n",
      "Expert predictions by position: {10: {1: [('имо', 9.3125), ('roma', 9.2734375), ('戴上', 8.96875), (' вис', 8.6015625), ('准', 8.453125)], 2: [('фел', 10.4375), ('alo', 10.359375), ('сни', 9.1640625), ('бах', 8.9140625), (' еки', 8.734375)], 7: [('espan', 9.4609375), ('otip', 9.0625), ('anyol', 8.96875), ('梯', 8.40625), ('зани', 8.2890625)], 9: [('清', 9.5078125), (' pen', 8.7890625), (' съответно', 8.7265625), ('queta', 8.3671875), ('/-', 8.3203125)], 28: [('atge', 9.59375), ('aquen', 9.3359375), ('remount', 9.2265625), ('ertos', 8.96875), ('onsense', 8.9609375)], 48: [('стина', 9.9765625), ('ENAME', 9.3203125), ('有用', 9.1484375), ('рио', 9.0390625), ('�', 8.3515625)]}, 16: {1: [(' themselves', 9.8515625), ('ird', 8.1484375), ('omer', 8.046875), ('ñ', 8.0390625), ('西班', 8.0)], 2: [('��', 9.65625), ('��', 9.09375), ('ландия', 8.6640625), ('landa', 8.5), ('ipe', 8.359375)], 7: [('pline', 10.0390625), ('YPT', 9.71875), ('当代', 9.3203125), ('=\"__', 9.203125), ('itious', 8.953125)], 9: [('дата', 10.3515625), ('\\xa0g', 10.296875), ('urants', 9.1796875), ('ICON', 8.6640625), ('letic', 8.609375)], 11: [('Македония', 11.4921875), (' Exteriors', 11.125), ('drom', 11.078125), ('acost', 11.03125), ('ouble', 10.65625)], 48: [('0', 11.28125), ('4', 10.4765625), ('3', 10.46875), ('9', 10.453125), ('8', 10.40625)]}, 3: {2: [(' Съеди', 10.6953125), ('$/.', 10.3125), ('[]{\\\\', 9.859375), ('Окръг', 9.6953125), ('CHANT', 9.6953125)], 9: [('gines', 10.3203125), ('вност', 9.7421875), (' Коста', 9.546875), ('anera', 9.1328125), ('ollo', 9.046875)], 28: [('9', 9.703125), (' Bois', 9.125), ('\\r', 9.078125), ('oulders', 8.9765625), ('7', 8.953125)], 39: [('plica', 10.25), ('ois', 8.984375), ('ivil', 8.4375), ('梦境', 8.3828125), ('3', 8.1796875)], 42: [('突', 10.9296875), ('кона', 10.0078125), (' VERSION', 9.921875), ('рут', 9.3828125), ('enames', 9.3359375)], 48: [('onsieur', 10.203125), ('blr', 9.6328125), ('dures', 9.546875), ('lant', 8.9765625), ('idelberg', 8.953125)]}, 7: {2: [('виси', 8.34375), ('ostic', 8.28125), (' vit', 8.2734375), ('garde', 8.21875), ('letic', 8.203125)], 18: [('asca', 9.765625), ('abase', 9.203125), ('agoza', 8.9140625), ('знава', 8.2734375), ('кан', 8.265625)], 23: [('ска', 8.9140625), ('ску', 8.4921875), (' FM', 8.4765625), ('oden', 8.3359375), ('steps', 7.91796875)], 30: [('ней', 8.84375), ('VOKE', 8.6875), (' recol', 8.65625), ('ded', 8.1640625), (' congest', 8.1328125)], 48: [('леми', 11.5703125), ('pless', 9.8203125), ('MacOS', 9.4453125), ('oves', 9.421875), ('еруса', 9.3984375)], 58: [('求生', 9.1953125), ('您', 8.9375), ('series', 8.75), ('Series', 8.640625), (' series', 8.4609375)]}, 8: {2: [('heric', 8.421875), ('notag', 8.359375), (' Frank', 8.3515625), ('花', 8.3125), ('ieren', 8.2578125)], 18: [('locar', 10.015625), ('osia', 9.890625), ('igans', 9.734375), ('кси', 9.3671875), ('asping', 9.25)], 30: [('ainty', 10.1875), ('ambles', 9.96875), ('ENDED', 9.5859375), ('жу', 9.3046875), ('cepte', 9.296875)], 40: [('hene', 8.921875), ('ausen', 8.4921875), (' Roc', 8.171875), ('副', 8.1015625), ('ize', 8.0390625)], 45: [(' n', 9.5078125), (' str', 8.9296875), (' g', 8.6484375), (' X', 8.4609375), ('\\xa0', 8.3046875)], 48: [('ář', 11.046875), ('PYG', 10.8046875), (' полза', 10.3671875), ('áří', 10.0390625), (' паша', 9.734375)]}, 9: {2: [('arel', 10.421875), (' lifetime', 9.7890625), ('� ', 9.296875), ('enges', 8.8125), ('jeta', 8.7890625)], 4: [(' atr', 9.484375), ('ement', 9.0859375), ('зон', 9.0), (' Comen', 8.84375), ('uller', 8.6953125)], 8: [('朗', 8.203125), ('郎', 8.09375), ('asso', 7.96484375), ('�', 7.9296875), (' ', 7.84375)], 44: [(' Голе', 9.765625), ('стани', 9.28125), ('riendo', 9.265625), ('merce', 9.1796875), ('гури', 9.0703125)], 48: [('гане', 9.671875), ('iod', 9.546875), ('iator', 8.9375), ('ToolStripMenuItem', 8.859375), ('urdy', 8.7109375)], 51: [('noalign', 10.7734375), ('ismus', 10.6640625), ('сък', 10.53125), (' Bages', 10.3984375), ('andex', 10.359375)]}, 11: {2: [('brack', 8.9140625), ('NDER', 8.671875), ('ICH', 8.4921875), ('íř', 8.2890625), ('quake', 8.1640625)], 4: [('3', 9.484375), ('1', 9.453125), ('ruits', 8.96875), ('7', 8.921875), ('2', 8.8203125)], 7: [('pline', 9.0), ('isite', 8.859375), ('olars', 8.8046875), ('ngu', 8.796875), ('urator', 8.578125)], 15: [('idable', 9.4296875), ('湃', 9.34375), (' пър', 8.8984375), ('ocamp', 8.8828125), ('ляри', 8.859375)], 43: [('ESP', 9.5), ('sit', 9.2890625), ('白色的', 8.640625), ('чинали', 8.5859375), ('turn', 8.34375)], 48: [('чар', 10.21875), ('INLINE', 9.203125), ('ana', 9.0859375), ('mos', 8.5078125), ('anners', 8.40625)]}, 15: {2: [('ележки', 11.5546875), ('ocardi', 9.5546875), ('ънс', 9.3671875), ('inche', 9.109375), ('ecke', 8.8515625)], 10: [('2', 10.1953125), ('1', 9.8203125), ('�', 9.71875), ('3', 9.2734375), ('oor', 8.8125)], 12: [(' ello', 6.8984375), ('зия', 6.734375), ('alts', 6.67578125), (' Body', 6.64453125), (' repose', 6.58203125)], 51: [('fal', 10.171875), (' Ap', 8.265625), ('ALTH', 8.1484375), ('ebn', 8.046875), ('Apis', 7.98046875)], 59: [('REP', 8.4765625), ('ерт', 8.046875), ('indows', 8.015625), ('Ro', 7.8828125), ('CAST', 7.703125)], 61: [(' Popular', 8.765625), ('折', 8.375), ('asseg', 8.0546875), ('retty', 7.875), ('engo', 7.859375)]}, 4: {5: [('ington', 9.3203125), ('ahi', 8.8125), ('дже', 8.78125), ('etup', 8.5625), ('ltiples', 8.546875)], 12: [('�', 9.796875), ('位', 9.109375), ('alesa', 9.015625), ('alla', 8.90625), ('agonal', 8.7578125)], 36: [('стви', 7.93359375), ('阶', 7.90234375), (' Asp', 7.89453125), ('底', 7.71875), ('腾', 7.703125)], 45: [('受欢迎', 9.7578125), ('allel', 9.3125), ('because', 9.1640625), ('on', 9.015625), ('hir', 8.25)], 60: [('ho', 9.296875), ('rus', 8.328125), ('agent', 8.234375), (' Вис', 7.9453125), ('лео', 7.57421875)], 61: [('ENTS', 9.9609375), ('uat', 9.1640625), ('离不开', 8.3984375), ('bay', 8.171875), ('�', 8.1328125)]}, 6: {6: [('oice', 9.3671875), ('�', 8.609375), (' import', 8.3125), ('мино', 8.3046875), (' g', 8.296875)], 13: [('��', 9.78125), ('urar', 8.7890625), (' norma', 7.60546875), ('emale', 7.6015625), ('�', 7.55078125)], 21: [('точни', 8.8046875), ('�', 8.40625), ('限', 8.359375), ('�', 8.328125), ('itational', 8.2109375)], 24: [('нген', 10.8046875), ('unic', 9.078125), ('ктора', 8.9453125), ('engua', 8.296875), ('уна', 8.1640625)], 40: [('quei', 9.984375), ('ossa', 8.8828125), ('urada', 8.859375), ('itars', 8.734375), ('хт', 8.6484375)], 53: [('bottom', 8.9140625), ('ouver', 8.640625), (' Bottom', 8.5546875), ('фор', 8.3671875), (' bottom', 8.3671875)]}, 12: {6: [('чин', 9.703125), ('垦', 8.75), ('endant', 8.515625), ('场的', 8.3828125), ('allot', 8.2890625)], 11: [('CodeAttribute', 12.109375), ('��', 11.484375), ('�乐', 11.09375), ('��', 9.78125), ('ibert', 9.6953125)], 26: [('ching', 8.359375), ('事实', 8.3359375), ('—', 7.7890625), ('CESS', 7.7578125), (' Bay', 7.6953125)], 29: [('romy', 9.6640625), ('umba', 8.6953125), ('IGO', 8.6015625), ('ην', 8.5078125), ('nia', 8.34375)], 37: [('Въ', 8.828125), ('isement', 8.75), ('мски', 8.578125), ('edia', 8.5078125), ('rue', 8.5078125)], 62: [('思议', 13.4921875), ('шър', 11.3203125), ('сяка', 10.9765625), ('�', 10.1953125), (' venen', 10.1015625)]}, 0: {7: [(' препратки', 8.5625), ('肋', 8.3046875), ('{}_', 8.265625), ('Chars', 6.98828125), ('urals', 6.97265625)], 12: [('orema', 10.0546875), ('enos', 9.6328125), ('вре', 9.3046875), (' цве', 8.875), ('slant', 8.7421875)], 13: [(' transformation', 7.859375), (' wr', 7.64453125), ('Conversion', 7.59375), ('Transformation', 7.54296875), ('ultures', 7.4453125)], 16: [('queta', 7.52734375), (' xsi', 7.51953125), ('澳', 7.234375), ('хт', 6.64453125), (' Солу', 6.546875)], 24: [('STRAINT', 7.9140625), ('pole', 6.1640625), ('适', 5.99609375), ('erity', 5.90234375), ('poles', 5.63671875)], 36: [('onica', 7.57421875), ('htable', 6.32421875), ('urable', 6.1953125), ('čí', 6.0625), (' CURRENT', 5.9140625)]}, 13: {11: [('�乐', 11.453125), ('Македония', 10.6953125), ('limp', 9.8046875), ('aviera', 9.453125), (' tempdb', 9.3671875)], 23: [('5', 11.3359375), ('3', 11.078125), ('4', 10.609375), (' уч', 10.46875), ('line', 10.4375)], 29: [(' Hi', 8.296875), ('烂', 8.0), ('气', 7.94921875), ('网', 7.80078125), ('行', 7.5234375)], 34: [(' Gras', 9.1484375), ('жите', 8.8359375), ('anwhile', 8.421875), ('利的', 8.234375), ('xkb', 8.2109375)], 37: [(' enough', 9.265625), ('jat', 8.875), ('нин', 8.6015625), ('щите', 8.125), ('unregister', 8.03125)], 62: [('StyleID', 10.984375), ('вайг', 10.9296875), ('шър', 10.6015625), ('ExternalTask', 10.4296875), ('omitempty', 10.3984375)]}, 14: {11: [('турен', 10.28125), (' bancs', 10.1171875), ('landa', 9.4453125), ('ام', 9.421875), ('eel', 9.1953125)], 23: [('Builtin', 10.6640625), ('йн', 8.5), ('utan', 8.2890625), (' DO', 8.1640625), (' c', 8.03125)], 38: [(' materna', 9.609375), ('ugal', 9.0625), ('mbol', 8.953125), ('циа', 8.6796875), ('ife', 8.625)], 48: [('oide', 9.9296875), ('ently', 8.296875), ('poses', 8.21875), (' enf', 8.1171875), ('ilet', 8.0546875)], 54: [('ascript', 11.1328125), ('regues', 10.046875), ('ifici', 9.90625), ('uesta', 9.75), ('izo', 8.765625)], 59: [('arity', 9.7265625), ('йни', 9.1875), ('lita', 8.8984375), ('erd', 8.8359375), (' serialVersionUID', 8.5078125)]}, 2: {12: [(' group', 9.0), ('蜘', 8.4609375), (' gait', 8.4375), ('fuls', 8.296875), (' parl', 8.1953125)], 38: [('дос', 8.9609375), ('axies', 8.9453125), ('imal', 8.4765625), ('нст', 8.4765625), ('igued', 8.453125)], 42: [(' cim', 9.546875), ('шия', 8.796875), ('тнически', 8.4765625), ('cis', 8.3828125), ('�', 8.3828125)], 44: [('jeta', 10.765625), ('iferous', 10.328125), ('ITH', 9.4453125), ('�', 9.421875), ('ек', 9.0625)], 46: [('eve', 10.0703125), ('dimensions', 8.828125), ('uck', 8.609375), ('обра', 8.3515625), (' dimensions', 8.1484375)], 51: [('4', 8.9765625), ('oid', 8.453125), ('0', 8.4375), ('bai', 8.3984375), ('2', 8.328125)]}, 5: {18: [('sac', 8.7734375), ('判', 8.71875), ('ushima', 8.5390625), ('unders', 8.5078125), ('ernel', 8.421875)], 19: [('пло', 10.328125), ('ecl', 9.8828125), ('identals', 9.8125), ('рас', 9.796875), ('Cong', 9.65625)], 29: [('rasal', 9.484375), (' Cicer', 9.3671875), ('esport', 9.3046875), ('andum', 9.2578125), (' Llob', 9.0859375)], 30: [(' вди', 9.6015625), ('line', 9.3046875), ('limin', 9.03125), ('日内与', 8.8046875), ('cepte', 8.6015625)], 37: [('block', 10.0234375), ('那么', 8.90625), ('公园', 8.4765625), (' blocs', 8.3984375), ('Blocks', 8.375)], 48: [('ProjectPath', 10.5859375), ('AXB', 10.2421875), ('PYG', 10.109375), ('они', 9.796875), ('AIPS', 9.5703125)]}, 1: {26: [(' \"', 9.703125), (' double', 8.3984375), ('\"', 8.078125), ('prit', 8.0546875), ('取', 7.94140625)], 31: [('inaire', 10.53125), ('ync', 9.2890625), ('pless', 8.46875), (' accesskey', 8.2890625), ('blia', 7.97265625)], 33: [('�乐', 9.640625), ('рета', 8.6953125), ('ilea', 8.5625), ('一批', 8.2734375), ('хар', 8.2109375)], 42: [('ambers', 11.140625), ('уза', 9.96875), ('断', 9.6953125), ('龟', 9.3125), ('sos', 8.890625)], 49: [('separ', 9.0546875), ('бол', 8.984375), ('绎', 8.8515625), ('вка', 8.84375), ('涕', 8.5859375)], 53: [('apper', 9.640625), ('yet', 9.328125), ('trace', 9.0234375), ('mes', 8.6875), ('acco', 8.5)]}}\n",
      "Shared expert predictions: [[('lids', 0.403564453125), ('圾', 0.398681640625), ('枕', 0.395263671875), ('тру', 0.3935546875), ('уди', 0.39013671875)], [('oir', 0.323486328125), ('oyle', 0.289794921875), (' lantern', 0.2744140625), ('роди', 0.27392578125), ('oirs', 0.2734375)], [('日内与', 0.378173828125), ('\">:', 0.376708984375), ('estir', 0.353515625), ('odeset', 0.35302734375), ('astr', 0.34375)], [('日内与', 0.3916015625), ('\">:', 0.387451171875), ('ardu', 0.37353515625), ('inada', 0.373291015625), ('eti', 0.3623046875)], [('OE', 0.517578125), ('踏上', 0.49462890625), ('Hits', 0.4912109375), ('妊', 0.47802734375), (' newcomer', 0.44384765625)], [('立卡', 0.541015625), ('ард', 0.51953125), (' Формула', 0.49755859375), ('ndol', 0.487548828125), ('atura', 0.48046875)], [('urally', 0.324462890625), ('dle', 0.31201171875), ('联合', 0.28076171875), ('epsi', 0.273193359375), ('irect', 0.26953125)], [('买买', 0.4580078125), ('anum', 0.453369140625), ('opos', 0.4521484375), ('OI', 0.451171875), (' MOD', 0.4287109375)], [('fortun', 0.316162109375), (' .', 0.314208984375), (' -', 0.309326171875), (' --', 0.29052734375), ('lesa', 0.28271484375)], [('atory', 0.357421875), ('actory', 0.353515625), (' mod', 0.34375), (' Mah', 0.34326171875), (' Gram', 0.33984375)], [('并向', 0.344970703125), ('不到', 0.33349609375), ('lada', 0.33349609375), ('向', 0.33203125), ('框', 0.328857421875)], [('opil', 0.438232421875), (' zero', 0.432861328125), ('urally', 0.42578125), (' recol', 0.423095703125), ('geodes', 0.40625)], [('抄', 0.35986328125), ('acis', 0.340087890625), ('sinh', 0.3212890625), ('гот', 0.314208984375), ('浪潮', 0.287109375)], [('hola', 0.407958984375), ('emus', 0.32080078125), ('霆', 0.317626953125), ('wso', 0.3125), ('OTO', 0.310791015625)], [('oyo', 0.420166015625), ('人流', 0.390625), ('eses', 0.38720703125), (' tal', 0.37646484375), (' Prop', 0.361083984375)], [(' Infant', 0.439453125), ('iples', 0.437255859375), ('estes', 0.413818359375), (' infant', 0.41015625), ('etts', 0.40673828125)], [('uliar', 0.806640625), ('位的', 0.70166015625), (' глас', 0.69287109375), ('noma', 0.6875), ('otal', 0.68212890625)]]\n",
      "\n",
      "MoE Layer 6:\n",
      "Selected experts: [[45, 63, 48, 29, 19, 27], [19, 46, 60, 39, 36, 22], [34, 11, 8, 3, 6, 17], [12, 21, 38, 3, 14, 16], [21, 13, 17, 62, 54, 49], [4, 57, 50, 21, 35, 30], [60, 22, 48, 19, 56, 36], [50, 57, 21, 4, 35, 28], [32, 21, 50, 47, 57, 25], [8, 11, 21, 1, 3, 50], [12, 1, 21, 38, 28, 47], [8, 1, 11, 3, 10, 14], [35, 20, 41, 24, 30, 60], [28, 51, 41, 35, 30, 4], [28, 32, 47, 51, 35, 21], [8, 34, 25, 32, 11, 62], [51, 1, 12, 38, 28, 4]]\n",
      "Expert weights: [[0.33203125, 0.0400390625, 0.0253448486328125, 0.020904541015625, 0.0207366943359375, 0.0204620361328125], [0.07855224609375, 0.07244873046875, 0.08251953125, 0.06756591796875, 0.05572509765625, 0.045745849609375], [0.0543212890625, 0.054046630859375, 0.1033935546875, 0.06536865234375, 0.0675048828125, 0.04339599609375], [0.1619873046875, 0.10894775390625, 0.10211181640625, 0.08941650390625, 0.051055908203125, 0.0469970703125], [0.1741943359375, 0.1317138671875, 0.12890625, 0.0736083984375, 0.06549072265625, 0.049713134765625], [0.115478515625, 0.10382080078125, 0.066650390625, 0.06463623046875, 0.05926513671875, 0.049407958984375], [0.07177734375, 0.09442138671875, 0.238525390625, 0.0369873046875, 0.06573486328125, 0.0367431640625], [0.09893798828125, 0.08416748046875, 0.17578125, 0.06024169921875, 0.048675537109375, 0.034515380859375], [0.15283203125, 0.0841064453125, 0.0823974609375, 0.080810546875, 0.03662109375, 0.03265380859375], [0.1541748046875, 0.08856201171875, 0.071533203125, 0.06610107421875, 0.0631103515625, 0.059600830078125], [0.06866455078125, 0.1510009765625, 0.0633544921875, 0.11785888671875, 0.04766845703125, 0.0455322265625], [0.055389404296875, 0.1455078125, 0.05670166015625, 0.08685302734375, 0.08160400390625, 0.048309326171875], [0.055938720703125, 0.07623291015625, 0.1287841796875, 0.1561279296875, 0.1300048828125, 0.047637939453125], [0.1409912109375, 0.10125732421875, 0.11224365234375, 0.0999755859375, 0.0572509765625, 0.0310516357421875], [0.1573486328125, 0.1092529296875, 0.045257568359375, 0.10858154296875, 0.0341796875, 0.0279693603515625], [0.11663818359375, 0.11712646484375, 0.0537109375, 0.05303955078125, 0.037628173828125, 0.036773681640625], [0.046234130859375, 0.055389404296875, 0.0604248046875, 0.12353515625, 0.04620361328125, 0.038848876953125]]\n",
      "Combined output tokens: [[('яна', 1.73046875), ('andes', 1.69921875), (' препратки', 1.642578125), ('肋', 1.6376953125), ('urals', 1.5498046875)], [('lish', 0.5947265625), (' ', 0.58984375), ('@', 0.58447265625), (' Carlton', 0.5830078125), ('oed', 0.58251953125)], [('iens', 0.7509765625), ('носа', 0.7470703125), (' Загора', 0.71875), ('пен', 0.68408203125), ('ست', 0.66943359375)], [('etr', 0.8681640625), ('inel', 0.85546875), ('trica', 0.83544921875), ('好人', 0.7919921875), ('滋养', 0.75927734375)], [('amely', 0.8037109375), ('дан', 0.7861328125), ('жена', 0.78369140625), ('CD', 0.771484375), ('cow', 0.77099609375)], [('orith', 0.89501953125), ('XB', 0.8681640625), ('bench', 0.853515625), ('XE', 0.8408203125), (' Trim', 0.8359375)], [('мести', 0.75048828125), ('大方', 0.7177734375), ('=&\\\\', 0.693359375), ('geu', 0.68408203125), ('[]\"', 0.63720703125)], [('社', 0.99658203125), ('具', 0.94091796875), ('ostream', 0.92919921875), ('ubern', 0.927734375), (' Спа', 0.9189453125)], [('orda', 0.82080078125), (' Гай', 0.77734375), ('uega', 0.7490234375), ('leta', 0.744140625), ('zy', 0.74365234375)], [('acant', 0.90625), ('S', 0.80126953125), ('�', 0.767578125), ('orda', 0.7451171875), ('vs', 0.72705078125)], [('reek', 0.71337890625), ('unto', 0.685546875), ('нева', 0.66259765625), (' Saxon', 0.65869140625), ('inode', 0.65234375)], [('тури', 1.0380859375), ('顺', 1.0283203125), ('gos', 0.9677734375), ('\\xa0 ', 0.939453125), (' $+', 0.9306640625)], [('Advertisement', 0.806640625), ('_-', 0.75732421875), ('owicz', 0.7470703125), ('bigwedge', 0.7451171875), ('立卡', 0.7138671875)], [('利', 0.80224609375), ('тери', 0.77392578125), ('现代', 0.740234375), ('aign', 0.73828125), ('loqu', 0.732421875)], [('eeq', 1.083984375), ('nings', 0.97998046875), ('父子', 0.97802734375), ('etts', 0.970703125), ('horse', 0.96533203125)], [('ляне', 1.0712890625), ('Населе', 1.0302734375), ('upy', 0.98828125), ('itants', 0.953125), ('urats', 0.9248046875)], [(' ', 0.947265625), ('ses', 0.80029296875), ('S', 0.77294921875), ('eyes', 0.744140625), (' c', 0.73876953125)]]\n",
      "Expert predictions by position: {9: {1: [('bre', 9.6484375), ('erset', 9.4921875), ('机', 9.03125), ('forth', 8.8125), ('сните', 8.71875)], 3: [('ors', 8.8125), (' C', 8.46875), ('arrel', 8.1953125), ('抚', 8.1796875), ('atron', 8.1015625)], 8: [('iens', 9.734375), ('тег', 9.4296875), ('arial', 9.0390625), ('ience', 8.8515625), ('estra', 8.8046875)], 11: [('swick', 8.84375), ('epa', 8.78125), ('edia', 8.75), ('Герман', 8.5234375), ('ILS', 8.5078125)], 21: [('ay', 8.84375), ('elt', 8.71875), ('yer', 8.4921875), ('ays', 8.203125), ('bracket', 8.0546875)], 50: [('ремо', 9.5546875), (' sobres', 9.09375), ('icot', 8.96875), (' guany', 8.8515625), ('рид', 8.8125)]}, 10: {1: [('çà', 10.96875), ('Horta', 10.4609375), (' Membre', 9.4296875), ('Flore', 9.21875), ('нева', 9.171875)], 12: [('yme', 8.859375), ('initat', 8.7578125), (' Kron', 8.5390625), ('terer', 8.390625), ('FRAMES', 8.2890625)], 21: [('asign', 8.953125), (' Calders', 8.828125), ('дат', 8.6796875), ('ocell', 8.5703125), ('�', 8.5390625)], 28: [('ръ', 11.1796875), ('uxer', 9.9765625), ('scher', 9.8828125), ('regat', 9.5703125), ('umbed', 9.328125)], 38: [('джиев', 8.46875), (' Top', 8.453125), ('************************', 7.92578125), ('chs', 7.875), (' IT', 7.80078125)], 47: [('aby', 11.1875), ('eldorf', 8.59375), ('lex', 8.1484375), ('�', 8.03125), ('тино', 7.9140625)]}, 11: {1: [('issos', 9.421875), (' печа', 9.40625), (' Zamora', 9.25), ('ield', 8.6015625), ('itiu', 8.5859375)], 3: [('NonUser', 9.1875), ('юр', 8.9296875), ('echa', 8.921875), ('зар', 8.6953125), ('meres', 8.578125)], 8: [('cular', 9.2109375), ('ailles', 9.171875), ('liest', 9.1171875), (' ADDR', 8.8125), ('chy', 8.6875)], 10: [(' A', 10.1640625), ('ISM', 9.8828125), (' S', 8.84375), (' E', 8.625), (' AD', 8.4296875)], 11: [('FrameworkBundle', 11.5078125), (' comptes', 11.484375), ('густ', 11.3671875), ('ʊ', 11.3203125), (' repartia', 11.1328125)], 14: [('uously', 10.3359375), ('ITEM', 9.03125), ('itely', 9.015625), (' Joaqu', 8.9921875), ('áč', 8.71875)]}, 16: {1: [('тури', 9.4609375), ('nge', 8.1953125), ('\\xa0 ', 7.921875), ('顺', 7.890625), ('essin', 7.87109375)], 4: [('�', 10.1640625), ('antime', 9.8046875), (' Alegre', 9.3203125), ('AMES', 9.140625), ('calde', 9.078125)], 12: [('务', 8.3125), ('erk', 8.171875), ('rition', 7.9453125), ('ularity', 7.89453125), ('版权归', 7.8359375)], 28: [('zos', 10.03125), ('稣', 9.6640625), ('utenberg', 9.2578125), ('itud', 9.1953125), (' Jehov', 8.90625)], 38: [('穷', 8.21875), ('End', 8.171875), ('tub', 7.68359375), ('派', 7.66015625), ('orage', 7.60546875)], 51: [(' d', 8.265625), ('lahoma', 8.265625), ('ланти', 8.1875), (' Sale', 8.0), ('}~(', 7.8828125)]}, 2: {3: [(' Eng', 8.9296875), ('цел', 8.890625), ('ivable', 8.8046875), ('Eng', 8.703125), (' Blanc', 8.65625)], 6: [('nia', 9.078125), ('нове', 8.8671875), ('ue', 8.7890625), (' coincid', 8.6796875), ('所在的', 8.484375)], 8: [(' from', 9.0234375), ('рос', 9.0078125), ('acced', 8.6640625), (' balls', 8.6484375), ('psilon', 8.4609375)], 11: [('pgdp', 13.34375), ('widet', 12.4140625), ('altColor', 12.3671875), ('WireFormat', 11.671875), ('rowColor', 11.2890625)], 17: [('oidal', 10.453125), ('ype', 8.875), (' foren', 8.1484375), ('нея', 8.140625), ('дията', 8.0859375)], 34: [('�', 11.4140625), ('代', 10.3671875), ('нст', 10.1640625), ('斗', 9.96875), ('{.}', 9.5703125)]}, 3: {3: [('hend', 8.7109375), ('hoff', 8.359375), ('tit', 8.359375), (' elbow', 8.25), ('AtA', 8.171875)], 12: [('лиза', 8.5625), ('izz', 8.1640625), ('лове', 8.15625), ('tland', 8.109375), ('IZ', 8.0078125)], 14: [('分局', 9.8671875), ('志', 9.1796875), ('ino', 9.171875), ('arent', 8.953125), ('ulen', 8.078125)], 16: [('Fair', 9.7265625), ('paque', 9.5078125), ('oth', 9.40625), ('fair', 8.8203125), ('ptime', 8.6640625)], 21: [('vnode', 9.7265625), ('icolumn', 9.1328125), ('rida', 9.1015625), ('unte', 9.0390625), ('گ', 8.7734375)], 38: [(' трен', 9.3984375), ('стига', 9.2734375), ('abus', 9.0703125), ('жан', 8.8828125), ('选', 8.8203125)]}, 5: {4: [('ist', 9.4296875), ('搭', 9.1484375), ('дре', 9.09375), ('保守', 8.8125), (' switch', 8.796875)], 21: [(' _,', 9.5390625), ('社', 8.5), ('azar', 8.328125), ('ocell', 8.15625), ('reg', 8.15625)], 30: [(' ^\\\\', 10.0234375), ('нио', 9.796875), ('onyms', 9.484375), ('lename', 9.1484375), ('挺', 8.8515625)], 35: [('fixed', 9.109375), ('herits', 9.078125), ('ulis', 9.0703125), ('ymatrix', 8.4453125), ('Conv', 8.3046875)], 50: [('axy', 11.296875), ('aure', 9.3046875), ('迟', 9.125), ('hentic', 9.0078125), ('inetic', 8.7421875)], 57: [('ordon', 8.8828125), ('trick', 8.4609375), ('�', 8.4453125), (' address', 8.3046875), ('portion', 8.2578125)]}, 7: {4: [('ation', 9.984375), ('ython', 9.6328125), ('ATION', 9.578125), ('мира', 9.5078125), ('ations', 9.3203125)], 21: [(' allClasses', 10.1015625), ('垢', 9.25), ('inp', 8.9140625), ('çà', 8.46875), ('̀', 8.2890625)], 28: [('вата', 9.6796875), ('illes', 8.75), ('ening', 8.625), ('aried', 8.53125), ('ват', 8.4296875)], 35: [('oor', 8.8671875), ('�', 8.8203125), ('iah', 8.5234375), ('roid', 8.203125), ('oos', 7.83984375)], 50: [('endres', 10.953125), ('ospin', 10.28125), ('raven', 9.3828125), ('迟', 9.03125), ('illot', 9.015625)], 57: [(' ', 12.8671875), (' пър', 9.0859375), ('oyal', 9.0546875), (' s', 8.90625), ('绎', 8.453125)]}, 13: {4: [('dog', 8.84375), ('ist', 8.734375), ('ier', 8.265625), ('庸', 8.0390625), ('are', 8.0390625)], 28: [('onut', 10.8671875), ('eeq', 10.671875), ('oks', 9.296875), (' бра', 8.671875), ('oped', 8.5546875)], 30: [(' ^\\\\', 11.359375), (' inact', 10.390625), ('entionally', 10.125), ('glx', 9.859375), ('iseconds', 9.5546875)], 35: [('FIX', 10.8125), (' FIX', 9.1328125), ('fixed', 9.0859375), ('握', 8.9296875), (' fixed', 8.8515625)], 41: [('exp', 9.6640625), ('利', 8.703125), ('当', 8.6171875), ('倒', 8.59375), ('eer', 8.421875)], 51: [('avan', 10.1171875), ('gies', 8.390625), ('algia', 8.359375), (' pet', 8.359375), ('ele', 8.34375)]}, 15: {8: [('яло', 11.5625), ('дето', 11.359375), ('oscript', 10.8203125), (' ХХ', 10.7578125), (').__', 10.359375)], 11: [('riers', 10.125), ('moz', 9.5703125), ('hin', 9.4765625), ('ouville', 9.265625), ('eado', 9.0)], 25: [('olics', 9.6640625), ('Material', 9.53125), ('Македония', 9.5078125), ('廓', 8.6015625), ('ствител', 8.390625)], 32: [('TOOLSET', 12.328125), ('itaris', 12.109375), (' експе', 11.6328125), ('станбул', 11.59375), ('})},', 11.140625)], 34: [('guyen', 9.4296875), ('ilies', 9.296875), ('ewrite', 9.09375), ('сква', 8.640625), ('anques', 8.5390625)], 62: [('коп', 11.0703125), (' Collect', 9.046875), ('onis', 8.8359375), ('жие', 8.5625), (' Medalla', 8.4921875)]}, 4: {13: [('ived', 8.21875), ('amat', 8.0859375), ('тур', 7.95703125), ('阴', 7.91796875), (' рядко', 7.81640625)], 17: [(' exactly', 8.2421875), ('筷', 8.03125), ('exactly', 7.94921875), ('ForKey', 7.80078125), ('matically', 7.77734375)], 21: [('obertura', 9.5703125), ('grounds', 9.0), ('rida', 8.9375), ('olated', 8.609375), ('angera', 8.3125)], 49: [(' FLA', 8.40625), ('rowe', 7.73046875), (' trunk', 7.7109375), ('ouncil', 7.63671875), ('合作的', 7.45703125)], 54: [('lant', 8.7734375), ('osure', 8.640625), (' кому', 8.59375), ('рича', 8.578125), ('zing', 8.4296875)], 62: [('ateix', 9.28125), ('cmark', 8.890625), ('Населени', 8.828125), ('egraphics', 8.7734375), ('排量', 8.734375)]}, 0: {19: [('uster', 8.546875), ('inder', 8.5234375), ('ROUP', 8.296875), ('ive', 7.94921875), ('�', 7.90234375)], 27: [('e', 8.015625), ('k', 7.98046875), ('0', 7.96875), ('8', 7.88671875), ('em', 7.87890625)], 29: [('tres', 7.234375), ('ymes', 7.09375), ('бя', 6.64453125), ('=\"../../../../../../../../', 6.578125), ('ovn', 6.37109375)], 45: [('яна', 8.984375), (' препратки', 8.6171875), ('andes', 8.53125), ('肋', 8.3515625), ('ян', 8.1484375)], 48: [('мести', 10.9453125), ('ideos', 9.6328125), ('бет', 9.4921875), ('rize', 9.40625), (' Mundial', 9.2421875)], 63: [('eson', 7.8984375), ('ereix', 7.8203125), ('сев', 7.7265625), ('erir', 7.6953125), ('�', 7.65625)]}, 1: {19: [('驱', 8.203125), ('цар', 8.171875), ('微商', 7.8984375), ('algia', 7.7734375), ('arien', 7.50390625)], 22: [('кло', 9.4453125), ('OL', 9.3671875), ('ishes', 9.359375), ('olla', 8.8203125), ('olo', 8.734375)], 36: [('9', 11.7890625), ('7', 11.6171875), ('4', 10.71875), ('8', 10.5703125), ('3', 10.5703125)], 39: [('lap', 8.75), (\"'\", 8.609375), ('eth', 8.3984375), ('\\\\', 8.1484375), ('yd', 8.0078125)], 46: [('лити', 10.6875), ('ubre', 9.890625), ('aterno', 8.984375), ('==)', 8.84375), ('ливо', 8.8359375)], 60: [(' Дебър', 10.1875), ('ocate', 9.640625), ('lients', 9.5390625), ('ienes', 9.2578125), ('тива', 9.078125)]}, 6: {19: [('umed', 10.3984375), ('ivery', 10.3125), ('��', 9.921875), ('isine', 9.1328125), ('isphere', 8.8359375)], 22: [('itut', 10.2890625), ('част', 9.5546875), ('visitor', 9.5390625), ('棱', 9.203125), (' Яко', 9.15625)], 36: [('3', 12.4140625), ('6', 12.3359375), ('0', 11.9609375), ('4', 11.4609375), ('9', 11.4453125)], 48: [('ittings', 9.1640625), ('肋', 8.984375), ('plural', 8.921875), ('INSEE', 8.7890625), ('ames', 8.5546875)], 56: [(' programar', 9.4453125), ('gex', 9.3046875), (' наре', 9.140625), ('紫', 8.703125), ('黄花', 8.5703125)], 60: [('SEE', 9.4921875), (' He', 8.953125), (' subjects', 8.625), ('ring', 8.4296875), ('erm', 8.3203125)]}, 12: {20: [('abert', 11.484375), ('illeria', 11.0234375), ('adona', 9.28125), ('════════════════', 9.03125), ('WGS', 8.7265625)], 24: [('пу', 9.0546875), ('元年', 8.8359375), ('idl', 8.640625), ('ructor', 8.5625), ('ournal', 8.5390625)], 30: [('�', 11.4609375), ('нген', 10.7578125), ('наги', 10.515625), ('upost', 10.3359375), ('�', 9.546875)], 35: [('letion', 9.953125), ('ing', 8.734375), ('参', 8.6953125), ('onga', 8.6796875), ('GLOB', 8.6640625)], 41: [('ear', 10.3671875), ('利', 8.8515625), ('ast', 8.6015625), ('当', 8.5546875), ('ainty', 8.546875)], 60: [('日内与', 9.640625), ('uncher', 9.578125), ('ук', 9.453125), ('odinger', 9.3203125), ('wered', 9.171875)]}, 8: {21: [('这点', 8.4453125), (' +', 8.25), ('tg', 8.03125), ('rei', 8.03125), ('yan', 7.984375)], 25: [(' acc', 9.3203125), ('ляне', 9.2421875), ('ernes', 8.90625), ('lut', 8.859375), ('бур', 8.7265625)], 32: [('odynamic', 9.84375), ('ulers', 9.3984375), ('erable', 9.375), ('尽致', 9.1328125), ('侧', 9.09375)], 47: [('aleses', 10.953125), ('Composici', 9.9296875), (' хе', 9.8125), ('мос', 9.46875), ('savedInstanceState', 9.375)], 50: [('batim', 9.96875), ('obook', 9.8359375), ('olat', 9.453125), ('зи', 8.7421875), ('vnd', 8.6640625)], 57: [('holtz', 10.546875), (' пър', 9.953125), ('altar', 9.90625), ('acta', 9.8046875), (' същест', 9.65625)]}, 14: {21: [('laga', 11.921875), ('swick', 10.7421875), ('atura', 10.53125), ('pless', 10.046875), ('apter', 9.46875)], 28: [('rtl', 8.3515625), ('苹', 8.125), (' U', 7.71484375), ('tingen', 7.7109375), ('uan', 7.66015625)], 32: [('ият', 11.34375), ('\\xa0part', 10.9921875), ('iboot', 10.8125), ('errat', 10.4453125), ('aronja', 9.9140625)], 35: [('notations', 9.0625), ('ack', 9.0234375), ('土耳', 8.9296875), ('ерн', 8.625), ('root', 8.4296875)], 47: [('��', 10.1640625), (\"'\", 9.078125), ('eria', 9.0625), ('ateg', 8.671875), ('授', 8.53125)], 51: [(' ideologia', 9.8046875), ('itud', 9.3515625), (' Senat', 9.21875), ('表', 9.0), ('ieft', 8.953125)]}}\n",
      "Shared expert predictions: [[('asym', 0.233154296875), ('ERIC', 0.2283935546875), ('根本上', 0.2271728515625), ('��', 0.2205810546875), ('estres', 0.214599609375)], [('ctics', 0.51708984375), ('�', 0.51611328125), (' Cub', 0.492431640625), (' ', 0.47607421875), (' Israel', 0.466796875)], [('麒', 0.43798828125), ('颠', 0.40087890625), ('unshift', 0.384521484375), ('贤', 0.370361328125), ('egl', 0.364501953125)], [('inel', 0.44091796875), ('tow', 0.4169921875), ('华盛', 0.408447265625), ('зата', 0.393798828125), ('zan', 0.392822265625)], [('流水', 0.46630859375), ('碾', 0.465087890625), ('扬', 0.461181640625), ('\\n', 0.4609375), (' Mig', 0.453857421875)], [('渣', 0.4716796875), ('代表', 0.46044921875), ('ctions', 0.431884765625), ('cea', 0.42822265625), ('kra', 0.4248046875)], [('дра', 0.36376953125), ('KN', 0.3447265625), (' Alt', 0.340087890625), ('aq', 0.338134765625), (' dri', 0.329345703125)], [('正当', 0.5078125), ('��', 0.490478515625), ('eered', 0.455078125), ('refox', 0.455078125), ('шков', 0.447509765625)], [('积', 0.43896484375), ('добра', 0.431640625), (' product', 0.42529296875), ('让自己', 0.399169921875), ('代表', 0.391357421875)], [('租', 0.40478515625), ('acant', 0.39990234375), ('oos', 0.37744140625), ('wan', 0.369384765625), ('ython', 0.36181640625)], [(' pin', 0.40478515625), ('sor', 0.393310546875), ('собен', 0.37158203125), ('hog', 0.3671875), ('四面', 0.3642578125)], [('ifer', 0.54833984375), ('hast', 0.497314453125), ('тели', 0.48828125), ('roph', 0.482666015625), ('OPTION', 0.478515625)], [('ullo', 0.402099609375), ('██', 0.37255859375), (' Public', 0.3642578125), ('embre', 0.359130859375), (' mare', 0.35791015625)], [('тери', 0.483154296875), ('ласт', 0.41650390625), ('rium', 0.4091796875), ('zul', 0.400390625), ('дъ', 0.397216796875)], [('rvert', 0.63427734375), ('nings', 0.51220703125), ('struments', 0.50048828125), ('лоу', 0.473388671875), ('ish', 0.46923828125)], [('8', 0.491455078125), ('9', 0.487060546875), ('7', 0.487060546875), ('3', 0.45703125), ('自治', 0.450439453125)], [(' ', 0.79541015625), ('_', 0.60498046875), (' pant', 0.58984375), ('ses', 0.576171875), ('ologies', 0.5654296875)]]\n",
      "\n",
      "MoE Layer 7:\n",
      "Selected experts: [[21, 17, 55, 53, 45, 12], [55, 38, 47, 33, 23, 36], [18, 52, 9, 57, 6, 48], [24, 57, 55, 9, 6, 56], [48, 20, 56, 5, 60, 2], [63, 48, 9, 57, 47, 6], [12, 9, 55, 61, 21, 53], [63, 41, 59, 49, 25, 9], [41, 49, 59, 9, 25, 63], [6, 57, 41, 5, 18, 48], [24, 19, 41, 8, 49, 57], [15, 18, 41, 6, 8, 57], [32, 43, 39, 47, 41, 9], [32, 43, 41, 39, 63, 49], [49, 41, 43, 59, 28, 39], [48, 5, 6, 57, 18, 25], [8, 19, 41, 58, 24, 49]]\n",
      "Expert weights: [[0.041046142578125, 0.319091796875, 0.032928466796875, 0.0279388427734375, 0.0304107666015625, 0.0255889892578125], [0.2027587890625, 0.09259033203125, 0.0535888671875, 0.0323486328125, 0.0302276611328125, 0.03021240234375], [0.06982421875, 0.078369140625, 0.055450439453125, 0.06976318359375, 0.07470703125, 0.0482177734375], [0.1636962890625, 0.05999755859375, 0.09552001953125, 0.1873779296875, 0.050384521484375, 0.0345458984375], [0.28857421875, 0.1361083984375, 0.0830078125, 0.06414794921875, 0.058990478515625, 0.047943115234375], [0.0723876953125, 0.07183837890625, 0.050140380859375, 0.0482177734375, 0.040191650390625, 0.0396728515625], [0.1094970703125, 0.07000732421875, 0.06878662109375, 0.04644775390625, 0.0428466796875, 0.0380859375], [0.09039306640625, 0.1282958984375, 0.09832763671875, 0.149658203125, 0.048004150390625, 0.039031982421875], [0.1458740234375, 0.188720703125, 0.072265625, 0.053802490234375, 0.042449951171875, 0.034332275390625], [0.10345458984375, 0.08575439453125, 0.148193359375, 0.1204833984375, 0.0748291015625, 0.03900146484375], [0.06634521484375, 0.058868408203125, 0.133056640625, 0.276611328125, 0.048370361328125, 0.04132080078125], [0.1055908203125, 0.10809326171875, 0.1317138671875, 0.07830810546875, 0.0753173828125, 0.037841796875], [0.09832763671875, 0.09173583984375, 0.08966064453125, 0.0804443359375, 0.07501220703125, 0.06884765625], [0.059906005859375, 0.06103515625, 0.15087890625, 0.10772705078125, 0.058013916015625, 0.056732177734375], [0.1734619140625, 0.0928955078125, 0.0650634765625, 0.05755615234375, 0.052764892578125, 0.0251007080078125], [0.1365966796875, 0.0921630859375, 0.082275390625, 0.06671142578125, 0.05328369140625, 0.04046630859375], [0.265869140625, 0.05029296875, 0.04583740234375, 0.068603515625, 0.073486328125, 0.03857421875]]\n",
      "Combined output tokens: [[('andes', 0.25830078125), (' място', 0.250244140625), ('бела', 0.2479248046875), ('>(<', 0.2476806640625), ('apor', 0.22900390625)], [(' ', 0.92626953125), ('.', 0.82568359375), (' left', 0.80126953125), ('…', 0.787109375), (' L', 0.771484375)], [('orda', 0.72021484375), ('蟹', 0.7197265625), ('ixa', 0.71923828125), ('abat', 0.7109375), (' <%', 0.69921875)], [('MX', 0.98828125), ('IEW', 0.966796875), ('Inf', 0.94287109375), ('Embed', 0.93994140625), ('alu', 0.92333984375)], [('zell', 1.2421875), ('铅', 1.2119140625), ('мир', 1.1689453125), ('chas', 1.1533203125), ('unctions', 1.1220703125)], [('野', 0.87158203125), ('eger', 0.7978515625), ('suitable', 0.77294921875), (' @}', 0.75146484375), ('Files', 0.74609375)], [(' sp', 0.60595703125), (' v', 0.5888671875), (' bol', 0.5625), (' n', 0.55419921875), ('止', 0.54736328125)], [('amard', 1.09375), ('schen', 1.0810546875), ('ivitat', 1.076171875), ('burgh', 1.0732421875), (' зи', 1.0537109375)], [('мпе', 1.142578125), (' конкур', 1.140625), ('гане', 1.0947265625), ('rog', 1.0810546875), ('разу', 1.060546875)], [('fo', 1.103515625), ('CLA', 1.095703125), ('PRB', 1.0859375), ('SOR', 1.0185546875), ('ner', 1.009765625)], [('sWith', 1.7705078125), ('elist', 1.7509765625), ('верен', 1.7490234375), ('ategorized', 1.705078125), ('TEL', 1.6826171875)], [('ogy', 1.1865234375), ('湃', 1.1669921875), ('Pane', 1.162109375), ('uner', 1.162109375), ('lir', 1.154296875)], [('Hyper', 1.1435546875), (' Hyper', 1.0546875), ('HY', 1.037109375), ('ipse', 1.0322265625), ('5', 1.0322265625)], [('招商', 1.0712890625), ('unctions', 1.064453125), ('EventHandler', 1.0166015625), (' Browning', 0.9951171875), ('ender', 0.97802734375)], [(' BS', 1.20703125), ('aign', 1.1513671875), (' somehow', 1.1396484375), ('served', 1.111328125), ('留', 1.1005859375)], [('oler', 0.9384765625), ('rum', 0.904296875), (' equ', 0.85888671875), ('g', 0.83642578125), ('acias', 0.810546875)], [('PYG', 1.861328125), ('GiB', 1.7685546875), ('elist', 1.623046875), ('atedral', 1.4873046875), ('ilets', 1.4560546875)]]\n",
      "Expert predictions by position: {4: {2: [('剪', 8.984375), ('�', 8.78125), ('地址', 8.5), ('atted', 8.40625), (' sup', 8.09375)], 5: [('гане', 9.9296875), ('ween', 9.71875), ('Quadre', 9.59375), ('��', 9.5703125), ('ostes', 9.3828125)], 20: [('综', 8.9296875), ('ENG', 8.921875), ('贵', 8.5234375), ('голе', 8.09375), ('бани', 8.0859375)], 48: [('esfor', 10.203125), ('ressi', 10.1953125), ('яването', 9.9296875), ('orem', 9.8671875), ('acamole', 9.1875)], 56: [('oday', 8.375), ('orh', 8.375), ('pl', 8.2421875), ('交所', 8.0625), ('capacity', 7.91796875)], 60: [('propertyName', 9.71875), ('oughton', 8.8828125), ('陪', 8.734375), ('YPE', 8.65625), ('libexec', 8.5859375)]}, 9: {5: [('iveness', 9.2109375), ('icide', 8.8359375), (' subjunctive', 8.7890625), (' Кън', 8.671875), ('roqu', 8.65625)], 6: [('мара', 9.4765625), ('exion', 9.4453125), ('ograms', 9.2265625), ('@{', 9.09375), ('itute', 8.96875)], 18: [('overn', 8.8359375), ('iola', 8.6015625), (' загу', 8.25), ('串', 8.1484375), ('alink', 7.96875)], 41: [('verd', 10.8203125), ('ascript', 10.15625), ('rwxr', 9.5078125), ('abaj', 9.375), ('othed', 9.359375)], 48: [('2', 13.671875), ('4', 12.3359375), ('7', 12.0546875), ('0', 11.421875), ('5', 11.25)], 57: [('ubic', 10.125), (' .../', 9.015625), ('iats', 9.0078125), ('itats', 8.9765625), ('姻', 8.9453125)]}, 15: {5: [('ondon', 10.296875), (' integraven', 9.8046875), ('ong', 9.390625), ('amat', 9.1953125), ('域', 9.03125)], 6: [(',', 9.5078125), ('balances', 8.328125), (' Ha', 8.2890625), ('灵', 8.25), (' chapter', 8.1328125)], 18: [('0', 11.4296875), ('2', 11.0546875), ('4', 10.6015625), ('6', 10.2265625), ('3', 10.1484375)], 25: [(' [', 9.3671875), ('разу', 8.5625), (' $', 8.484375), ('s', 8.4375), (' ', 8.421875)], 48: [('ано', 8.734375), ('ovy', 8.40625), ('стур', 8.3671875), ('til', 8.0546875), ('ty', 7.9140625)], 57: [('@{', 8.0859375), (' Matar', 8.078125), ('IFY', 7.859375), (' VARIABLE', 7.71875), ('喜', 7.671875)]}, 2: {6: [('ixed', 8.6875), ('Cond', 8.640625), ('hint', 8.625), ('Collapse', 8.40625), ('itten', 8.390625)], 9: [('ври', 9.96875), ('儿女', 9.1171875), ('lemn', 9.1015625), (' desocup', 8.796875), ('Loader', 8.71875)], 18: [('ISAM', 10.25), ('arine', 9.078125), ('cils', 8.859375), ('erset', 8.84375), ('�乐', 8.8359375)], 48: [(' Мексико', 9.3046875), ('ene', 8.625), ('atable', 8.4609375), ('ansi', 8.4609375), ('密集', 8.2578125)], 52: [('General', 9.59375), (' General', 9.4921875), (' variant', 9.40625), ('тите', 9.2734375), ('сев', 9.1484375)], 57: [(' portion', 9.8359375), ('andom', 9.6484375), (' Rot', 9.328125), ('式', 9.09375), ('icial', 9.03125)]}, 3: {6: [('тиви', 8.46875), ('漱', 8.359375), ('мени', 8.2890625), ('oidal', 8.203125), ('flank', 8.1796875)], 9: [('head', 9.265625), ('CF', 8.875), ('根', 8.3984375), ('тари', 8.296875), ('reg', 8.1875)], 24: [('处分', 8.921875), ('alu', 8.6796875), ('钻', 8.5625), ('maz', 8.359375), ('ALE', 8.296875)], 55: [(' -', 8.8671875), (',', 8.8671875), ('знание', 8.6640625), (' d', 8.59375), ('.', 8.3125)], 56: [('oide', 9.484375), ('InitStruct', 9.40625), ('ARDS', 9.359375), ('NonUser', 9.3046875), ('toctree', 9.1640625)], 57: [('ATOR', 7.88671875), ('ithium', 7.86328125), ('ionar', 7.7578125), ('amet', 7.18359375), (' Bugs', 7.15625)]}, 5: {6: [('ветни', 11.4921875), ('oldre', 10.796875), ('rowColor', 9.515625), ('клопе', 9.3984375), ('WSER', 9.1640625)], 9: [('FUNCPTR', 11.3203125), (' пореди', 10.3828125), ('legalforms', 10.2890625), ('metavariable', 10.15625), ('iosync', 9.9765625)], 47: [('omitempty', 9.6171875), ('obar', 9.578125), ('thm', 9.5390625), ('orta', 9.0625), ('ctree', 9.046875)], 48: [('�', 9.9921875), ('anchester', 9.953125), ('zell', 9.65625), ('afi', 9.234375), ('�', 8.6640625)], 57: [('incible', 9.1328125), ('ophy', 8.5625), ('trl', 8.4765625), (' adicional', 8.421875), ('执', 8.3828125)], 63: [('interopRequireDefault', 10.765625), ('ributions', 9.5234375), ('套', 8.8203125), ('рието', 8.8125), ('CEED', 8.7890625)]}, 11: {6: [('恩', 9.8359375), ('婿', 9.640625), ('_', 9.4453125), ('Ha', 9.203125), ('sca', 8.9453125)], 8: [('ionals', 11.0078125), ('emale', 10.875), ('illings', 10.2578125), ('grav', 10.21875), ('whom', 10.0703125)], 15: [(' indication', 8.7421875), (' Bosc', 8.28125), (' indications', 8.265625), ('amines', 8.2109375), ('ogy', 7.9921875)], 18: [('тари', 9.21875), ('ENTER', 8.9375), ('Ver', 8.671875), ('iclop', 8.625), (' rub', 8.390625)], 41: [('ecedents', 8.9609375), (' крепост', 8.7578125), (')]{', 8.7109375), ('ната', 8.1640625), ('ViewById', 8.1484375)], 57: [('Olot', 9.21875), ('ек', 8.6875), ('Anoia', 8.3828125), ('noalign', 8.234375), ('eqno', 7.9765625)]}, 10: {8: [('altar', 11.265625), ('лярен', 10.3828125), ('ktop', 10.203125), (' risc', 9.8828125), ('ifests', 9.546875)], 19: [('南路', 10.3046875), ('ovy', 9.375), ('�乐', 9.0546875), ('дове', 8.4921875), ('ribu', 8.390625)], 24: [('hwe', 10.4140625), ('нос', 8.8515625), ('ONSE', 8.78125), ('ugar', 8.546875), ('�', 8.3828125)], 41: [('Pane', 9.0078125), ('usable', 8.9375), ('Person', 8.640625), ('�', 8.6171875), ('вител', 8.484375)], 49: [('�', 10.5625), ('ably', 8.875), ('obert', 8.34375), (' g', 8.1875), ('ed', 7.8046875)], 57: [('ifact', 9.3125), ('erning', 9.0390625), (' premis', 8.828125), ('unic', 8.8203125), ('定价', 8.40625)]}, 16: {8: [('sWith', 11.2890625), ('elist', 10.3046875), ('ITCH', 10.0625), ('yth', 9.4140625), ('terer', 9.390625)], 19: [('пар', 10.453125), ('ritis', 8.484375), ('имо', 8.0), ('iber', 7.83203125), ('ricing', 7.78515625)], 24: [(' Collection', 9.3671875), ('劲', 8.53125), ('过后', 8.4453125), ('OU', 8.125), ('莽', 8.0546875)], 41: [('AudioEvent', 9.578125), ('=\"__', 9.53125), ('甲状', 9.078125), ('uresa', 9.0390625), ('值', 8.796875)], 49: [('ersonals', 9.265625), ('leans', 8.953125), ('диен', 8.78125), ('enth', 8.59375), ('inu', 8.3984375)], 58: [('rality', 9.8046875), (' Vicent', 9.71875), (' Seny', 9.40625), ('noalign', 9.1328125), ('CDATA', 9.0625)]}, 6: {9: [('顶', 9.84375), ('WT', 8.96875), (' fons', 8.8828125), (' Ull', 8.3125), ('..\">', 8.078125)], 12: [('кла', 10.5703125), (' step', 10.0078125), ('vider', 9.4609375), ('arisation', 9.3671875), ('ipeline', 9.234375)], 21: [(' _$', 10.6328125), ('agena', 10.234375), ('ugar', 8.6796875), ('кри', 8.6640625), (' _', 8.515625)], 53: [('肋', 8.6796875), ('胁', 8.3125), ('MAX', 8.1640625), ('乡镇', 8.0), ('чена', 7.859375)], 55: [('ghz', 8.1875), ('кси', 8.125), (' Bar', 7.8359375), (' KHz', 7.703125), ('RCC', 7.6640625)], 61: [('街道', 9.328125), ('igy', 8.8125), ('盖', 8.484375), ('不平', 8.1796875), (' coach', 8.0234375)]}, 7: {9: [('ACTION', 8.0703125), ('Fut', 7.99609375), ('办法', 7.98828125), ('hez', 7.91015625), (' Crossing', 7.80078125)], 25: [(' hi', 8.90625), (' g', 8.21875), (' l', 8.1484375), (' ing', 8.140625), (' th', 8.078125)], 41: [('\\xa0part', 9.6796875), ('ouncil', 9.609375), ('riptor', 9.046875), ('ьов', 9.0078125), ('jena', 8.9921875)], 49: [('ably', 9.78125), ('odont', 9.5), ('топ', 8.53125), ('edly', 8.46875), ('публи', 8.3984375)], 59: [(' dec', 8.9921875), ('ffected', 8.5234375), ('ograp', 8.46875), ('ium', 8.3671875), ('recommended', 8.296875)], 63: [(' пър', 13.9609375), ('Икономи', 11.2421875), ('Окръг', 10.9765625), ('GeneratedMessage', 10.25), ('OUSE', 10.1796875)]}, 8: {9: [(' MAD', 9.9296875), ('MAD', 9.3125), (' Gonzalo', 8.9296875), ('Feedback', 8.875), ('agra', 8.65625)], 25: [('IENT', 9.2890625), ('вели', 9.0234375), ('лето', 8.84375), ('antz', 8.5), ('ерн', 8.453125)], 41: [('aign', 9.7890625), ('chet', 9.7578125), ('WHM', 8.765625), ('lou', 8.6640625), ('urations', 8.234375)], 49: [('nings', 9.4453125), ('acking', 9.2890625), ('acked', 9.2421875), ('olate', 8.9375), ('oot', 8.890625)], 59: [('hearts', 9.6015625), ('中央', 9.4453125), ('resol', 9.328125), ('awi', 9.2109375), ('сур', 9.1328125)], 63: [('leta', 9.921875), ('��', 8.9453125), (' Съеди', 8.8671875), ('oup', 8.78125), ('cP', 8.21875)]}, 12: {9: [('一向', 8.7109375), ('向来', 8.4921875), ('的个人', 7.9765625), ('技', 7.90625), ('呗', 7.78125)], 32: [(' пак', 9.4140625), ('MED', 8.9765625), ('adeon', 8.875), ('говор', 8.8203125), ('past', 8.6875)], 39: [('части', 9.34375), ('рус', 9.2265625), ('новен', 8.7265625), ('рат', 8.6953125), ('rette', 8.546875)], 41: [('hma', 9.421875), ('ayout', 8.8359375), ('рас', 8.578125), ('naire', 8.5234375), ('quilla', 8.5)], 43: [('ear', 8.8671875), ('奉', 8.8125), ('asons', 8.0546875), (' LD', 7.7578125), ('embedded', 7.68359375)], 47: [('cean', 10.484375), ('CDATA', 9.15625), ('阁', 8.8203125), ('poon', 8.4140625), ('gano', 8.3046875)]}, 0: {12: [('кор', 10.21875), ('Община', 10.0234375), ('vider', 8.703125), ('regi', 8.5390625), ('ductors', 8.4453125)], 17: [('зми', 9.390625), ('laf', 8.8125), (' Observatory', 8.5703125), ('icy', 8.0859375), ('надле', 8.0703125)], 21: [(' eaves', 7.97265625), ('oulos', 7.34375), ('{}_', 7.328125), ('чник', 7.02734375), ('andes', 7.015625)], 45: [('eness', 8.6015625), ('oro', 7.60546875), ('imple', 7.0859375), ('ness', 7.04296875), ('antrop', 6.9921875)], 53: [('regu', 8.96875), ('quies', 8.625), ('油炸', 8.6015625), ('>}', 8.4140625), ('坑', 8.3984375)], 55: [('os', 8.96875), ('CK', 8.6953125), ('�', 8.09375), ('inter', 7.9375), ('交', 7.8515625)]}, 1: {23: [('ollers', 8.8125), ('总局', 8.7421875), ('穴', 8.53125), ('юртемберг', 8.4765625), ('庭', 7.56640625)], 33: [('5', 10.0078125), ('tar', 9.96875), ('7', 9.140625), ('9', 8.8125), ('6', 8.8125)], 36: [(' проу', 8.625), ('armac', 8.5234375), ('тора', 8.3046875), ('stalk', 8.0859375), (' голе', 8.0078125)], 38: [('顿', 8.8671875), ('tils', 8.609375), ('��', 8.109375), ('役', 8.1015625), ('dell', 7.9765625)], 47: [('ormal', 10.8828125), (' M', 10.3515625), ('��', 9.953125), ('erning', 9.3984375), ('enting', 8.9296875)], 55: [('8', 10.109375), ('程', 8.8125), ('estatus', 8.7734375), ('XP', 8.59375), ('ately', 8.421875)]}, 14: {28: [('вите', 9.359375), ('鹃', 8.2890625), ('fec', 8.2109375), ('ances', 8.1484375), ('Ord', 8.0625)], 39: [('enyes', 10.0), ('玺', 8.9140625), ('наро', 8.875), ('宣', 8.5703125), ('后赛', 8.4609375)], 41: [('值', 9.3203125), ('=\"__', 9.2265625), ('тисти', 8.796875), ('çà', 8.7890625), ('aku', 8.1015625)], 43: [('asio', 8.734375), ('置', 8.5859375), ('反', 8.0859375), ('context', 7.76171875), ('idl', 7.74609375)], 49: [('sserv', 10.6328125), ('━', 9.4140625), ('Геор', 9.2421875), ('PYG', 8.6796875), ('加坡', 8.4609375)], 59: [('тат', 9.71875), ('overy', 9.3515625), ('aducci', 9.0859375), ('idat', 8.59375), ('IOS', 8.4609375)]}, 13: {32: [('════════', 9.8359375), (' beak', 8.9296875), ('视', 8.6328125), ('视镜', 8.484375), (' Defaults', 8.109375)], 39: [('ango', 9.203125), ('eces', 8.8359375), ('angu', 8.4140625), ('Кул', 8.2265625), ('�', 8.15625)], 41: [('urrent', 11.328125), ('值', 9.84375), ('ount', 9.296875), (' ${{\\\\', 9.171875), ('ьон', 9.0234375)], 43: [('ано', 8.4921875), ('orm', 8.25), (' _', 8.171875), ('ب', 7.98046875), (' Епи', 7.96875)], 49: [('outs', 8.875), ('趟', 8.3203125), ('ares', 8.15625), ('activ', 8.046875), ('霸', 7.92578125)], 63: [('orno', 9.1328125), ('域', 8.6328125), ('得益', 8.53125), ('�', 8.40625), ('course', 8.3359375)]}}\n",
      "Shared expert predictions: [[('立卡', 0.2318115234375), (' място', 0.20947265625), ('ikon', 0.2054443359375), ('opon', 0.204345703125), ('>(<', 0.2017822265625)], [('wort', 0.5185546875), (' cab', 0.4814453125), (' ', 0.470947265625), (' prov', 0.4599609375), (' em', 0.453369140625)], [('ope', 0.470947265625), (' &', 0.465087890625), ('astr', 0.461181640625), ('endas', 0.4599609375), ('tod', 0.4560546875)], [('ixa', 0.578125), ('ето', 0.475830078125), ('不得', 0.471923828125), ('тенант', 0.46875), ('тев', 0.4619140625)], [('inari', 0.60107421875), ('YLE', 0.5966796875), ('冷静', 0.587890625), ('深刻', 0.57763671875), (' freezer', 0.56884765625)], [('湃', 0.7275390625), ('манов', 0.63916015625), ('anar', 0.60595703125), ('inari', 0.5927734375), ('ules', 0.5673828125)], [('6', 0.6494140625), ('3', 0.6455078125), ('1', 0.64501953125), ('4', 0.6416015625), ('2', 0.6240234375)], [('imiter', 0.62744140625), (' сравните', 0.62255859375), ('resh', 0.6142578125), ('irat', 0.59423828125), ('rani', 0.56005859375)], [('acle', 0.57666015625), ('ج', 0.568359375), ('↓↓', 0.54345703125), ('芹', 0.53076171875), ('木齐', 0.51806640625)], [('gom', 0.5966796875), ('PRB', 0.59423828125), ('itm', 0.53857421875), ('enda', 0.5341796875), ('OTH', 0.525390625)], [('饪', 0.55078125), ('粗', 0.5283203125), ('мба', 0.494384765625), ('lada', 0.46484375), ('口水', 0.457763671875)], [(' sp', 0.61181640625), ('рист', 0.59130859375), ('�', 0.58154296875), (' tem', 0.57861328125), ('划', 0.5771484375)], [(' ', 0.822265625), (' g', 0.66650390625), (' \"', 0.66552734375), (' C', 0.603515625), (' (', 0.59912109375)], [('fe', 0.5419921875), ('inous', 0.50439453125), (' l', 0.501953125), (' de', 0.498046875), ('Cross', 0.48974609375)], [('inous', 0.580078125), ('olics', 0.56884765625), ('Expression', 0.533203125), (' CT', 0.497314453125), ('reads', 0.4912109375)], [(' prefix', 0.60205078125), ('佩戴', 0.5830078125), ('bology', 0.58154296875), ('ref', 0.57763671875), ('oqu', 0.556640625)], [('iced', 0.65771484375), ('тии', 0.5263671875), (' ass', 0.5068359375), (' apostrophe', 0.4970703125), ('抵达', 0.494140625)]]\n",
      "\n",
      "MoE Layer 8:\n",
      "Selected experts: [[49, 62, 43, 44, 18, 35], [40, 11, 58, 5, 63, 3], [13, 33, 46, 7, 59, 20], [54, 7, 31, 33, 13, 27], [32, 22, 6, 46, 25, 7], [33, 22, 52, 56, 8, 7], [62, 51, 49, 40, 17, 18], [7, 44, 57, 30, 27, 53], [4, 30, 44, 15, 57, 3], [22, 7, 33, 32, 54, 44], [7, 54, 53, 60, 30, 34], [32, 1, 33, 22, 10, 54], [52, 28, 2, 8, 56, 5], [29, 8, 28, 56, 2, 55], [21, 29, 28, 4, 57, 3], [32, 46, 22, 33, 47, 7], [53, 54, 21, 60, 29, 12]]\n",
      "Expert weights: [[0.0306243896484375, 0.036163330078125, 0.251708984375, 0.031494140625, 0.0333251953125, 0.029052734375], [0.2021484375, 0.0662841796875, 0.070068359375, 0.07867431640625, 0.051055908203125, 0.05096435546875], [0.054107666015625, 0.08941650390625, 0.1728515625, 0.046417236328125, 0.042938232421875, 0.04132080078125], [0.0560302734375, 0.06658935546875, 0.144775390625, 0.0814208984375, 0.04168701171875, 0.040313720703125], [0.106201171875, 0.1922607421875, 0.0714111328125, 0.052734375, 0.052459716796875, 0.0511474609375], [0.08624267578125, 0.207275390625, 0.056365966796875, 0.0396728515625, 0.036834716796875, 0.0341796875], [0.1544189453125, 0.07586669921875, 0.054168701171875, 0.05133056640625, 0.0472412109375, 0.04132080078125], [0.0823974609375, 0.0906982421875, 0.1107177734375, 0.10791015625, 0.06939697265625, 0.05657958984375], [0.1541748046875, 0.103271484375, 0.0771484375, 0.07672119140625, 0.056488037109375, 0.03985595703125], [0.1802978515625, 0.12445068359375, 0.1072998046875, 0.07891845703125, 0.06182861328125, 0.043121337890625], [0.0780029296875, 0.137939453125, 0.1390380859375, 0.050506591796875, 0.10601806640625, 0.034088134765625], [0.162109375, 0.05108642578125, 0.10125732421875, 0.17529296875, 0.035064697265625, 0.03350830078125], [0.1204833984375, 0.10675048828125, 0.08563232421875, 0.12261962890625, 0.10906982421875, 0.0479736328125], [0.138427734375, 0.1282958984375, 0.1092529296875, 0.0643310546875, 0.056610107421875, 0.034881591796875], [0.0732421875, 0.09942626953125, 0.0804443359375, 0.059600830078125, 0.051177978515625, 0.0408935546875], [0.0716552734375, 0.06011962890625, 0.201171875, 0.058502197265625, 0.053070068359375, 0.04486083984375], [0.1253662109375, 0.0711669921875, 0.07086181640625, 0.053863525390625, 0.032867431640625, 0.032806396484375]]\n",
      "Combined output tokens: [[('andes', 0.366455078125), ('obres', 0.34326171875), ('枕', 0.33203125), ('opon', 0.32275390625), ('缀', 0.3095703125)], [('湃', 1.0693359375), ('hoe', 0.861328125), ('stones', 0.82080078125), ('jspx', 0.814453125), ('opy', 0.80810546875)], [('AIPS', 1.7216796875), ('��', 1.5107421875), ('oremove', 1.3564453125), ('ORA', 1.345703125), (' @}', 1.3037109375)], [('��', 1.2001953125), ('geu', 1.0869140625), (' An', 1.0830078125), ('Bu', 1.0693359375), (' Bu', 1.033203125)], [(' _', 1.591796875), (' D', 1.521484375), (' Face', 1.4697265625), ('AGA', 1.4423828125), ('subs', 1.435546875)], [('PHA', 1.833984375), ('regu', 1.810546875), (' desn', 1.7861328125), ('spath', 1.6318359375), ('ABA', 1.58984375)], [('TRAN', 0.6171875), ('ORA', 0.60791015625), (' init', 0.60546875), ('overs', 0.57861328125), ('ANA', 0.5673828125)], [('Окръг', 0.9248046875), ('荐', 0.92236328125), ('弱点', 0.92138671875), ('}$~\\\\', 0.916015625), ('IONS', 0.91259765625)], [('杰', 0.97509765625), ('Lcom', 0.921875), ('wered', 0.92138671875), ('verter', 0.91943359375), ('wan', 0.9150390625)], [('стран', 1.3369140625), ('дава', 1.2998046875), (' Arr', 1.271484375), ('дера', 1.2568359375), (' n', 1.2490234375)], [('rrec', 1.4609375), ('ygon', 1.2626953125), (' stump', 1.2431640625), ('opon', 1.2412109375), ('igas', 1.2216796875)], [('ENO', 1.609375), ('дава', 1.60546875), (' срав', 1.6044921875), ('jena', 1.55859375), (' Sacre', 1.5029296875)], [('atch', 1.3037109375), ('EEK', 1.2607421875), ('fi', 1.248046875), ('eek', 1.201171875), ('IFT', 1.1806640625)], [('k', 1.4443359375), ('9', 1.4208984375), ('0', 1.3681640625), ('2', 1.294921875), ('5', 1.28515625)], [('ZX', 1.09375), ('ikit', 1.0654296875), ('卉', 1.009765625), (' Методий', 1.0029296875), ('NonUser', 0.9892578125)], [('wan', 1.587890625), ('HIN', 1.47265625), ('neas', 1.470703125), ('orema', 1.4228515625), ('ynchronously', 1.4208984375)], [('中路', 1.595703125), ('гове', 1.564453125), ('esters', 1.4248046875), ('jats', 1.39453125), ('orneys', 1.3232421875)]]\n",
      "Expert predictions by position: {11: {1: [('MNR', 10.2265625), ('emet', 8.9921875), ('9', 8.9375), ('MER', 8.921875), (' sab', 8.78125)], 10: [('drom', 10.3125), ('omini', 9.71875), (' Stammtafeln', 9.1953125), (' elect', 8.4765625), (' side', 8.4375)], 22: [('wan', 8.78125), (' trae', 8.2109375), ('stics', 8.1796875), (' _$', 7.953125), (' Heron', 7.84375)], 32: [('湃', 11.515625), (' Llista', 10.5), ('.\">', 10.0), (' Premis', 9.1328125), (' окупи', 8.9765625)], 33: [('eza', 9.3515625), ('婆', 9.3359375), ('ramble', 9.25), ('anza', 8.9296875), ('ъ', 8.59375)], 54: [('egu', 8.8203125), ('ismo', 8.6796875), ('мил', 8.6640625), ('�', 8.5546875), ('乓', 8.328125)]}, 12: {2: [('даго', 11.2265625), (' Ret', 9.359375), ('wed', 8.890625), ('��', 8.8515625), ('关', 8.71875)], 5: [('емон', 9.7734375), ('uedes', 9.3046875), ('akening', 8.8125), ('кони', 8.4140625), ('цата', 8.1875)], 8: [('Medall', 9.4375), ('FO', 9.0078125), ('inely', 8.4765625), ('Hub', 8.453125), ('htub', 8.21875)], 28: [('stock', 10.3828125), ('incor', 9.5859375), ('磨', 8.765625), ('marks', 8.4296875), ('proper', 8.1875)], 52: [('abre', 9.4375), (' yet', 8.8671875), ('alsk', 8.8359375), ('懂事', 8.6171875), ('ianes', 8.6015625)], 56: [('erland', 9.7421875), ('ICA', 8.8671875), ('zana', 8.765625), ('mau', 8.640625), ('alore', 8.484375)]}, 13: {2: [('5', 11.5703125), ('9', 11.375), ('0', 11.3125), ('6', 11.3046875), ('3', 11.109375)], 8: [('uke', 9.328125), ('рия', 8.5078125), ('银行的', 8.2421875), ('idioma', 8.203125), ('勤', 8.015625)], 28: [('abyrin', 9.984375), ('лона', 9.7109375), ('cton', 9.4296875), ('enari', 9.1015625), ('ascript', 8.5390625)], 29: [('土耳', 9.6484375), ('astre', 9.6328125), ('годишен', 9.265625), ('中海', 9.140625), ('onat', 9.0703125)], 55: [('口头', 8.96875), ('elle', 8.8046875), ('кт', 8.5859375), ('жи', 7.99609375), (' KA', 7.94921875)], 56: [('tsa', 9.3125), ('唇', 8.9609375), (' rule', 8.828125), ('rada', 8.7109375), ('ssers', 8.4296875)]}, 1: {3: [('гови', 8.5234375), ('$^\\\\', 8.5078125), ('渡', 8.40625), ('捉', 8.3203125), ('сор', 8.296875)], 5: [('ERA', 8.8515625), ('1', 8.75), ('тори', 8.6171875), ('3', 8.53125), ('�', 8.234375)], 11: [('ът', 9.390625), (' Костур', 9.34375), ('matics', 9.2109375), ('вод', 8.9296875), ('atine', 8.703125)], 40: [('etapes', 9.546875), ('childnode', 9.109375), ('ughters', 9.0), ('iscop', 8.8359375), ('rils', 8.5546875)], 58: [(' пър', 8.75), ('小白', 8.578125), ('escut', 8.3359375), ('orens', 8.3046875), ('шено', 8.1328125)], 63: [('azine', 9.3125), ('alic', 8.671875), ('нет', 8.609375), ('top', 8.453125), ('lpr', 8.40625)]}, 8: {3: [('рих', 9.21875), ('择', 8.953125), (' Carrer', 8.671875), ('roqu', 8.6640625), ('alc', 8.640625)], 4: [('ята', 10.75), ('\\xa0g', 8.7421875), ('blockList', 8.2890625), ('adors', 8.09375), ('�乐', 8.046875)], 15: [(' abandonat', 8.7578125), ('Пла', 8.6640625), ('мах', 8.6015625), ('边缘', 8.375), (' observat', 8.3515625)], 30: [('snia', 12.21875), ('rrec', 11.0390625), ('ловия', 10.84375), ('Окръг', 10.1640625), ('ележки', 9.9375)], 44: [('reff', 10.9296875), ('刮', 8.78125), ('akin', 8.7578125), ('чил', 8.46875), ('ол', 8.2734375)], 57: [('篷', 9.4296875), ('ldon', 8.8671875), ('帝', 8.734375), ('вор', 8.625), ('::__', 8.2421875)]}, 14: {3: [('—', 8.28125), ('aden', 8.28125), ('кет', 8.234375), ('Bench', 8.0703125), ('acta', 7.83203125)], 4: [('Spread', 9.5390625), ('ulay', 8.78125), (' спра', 8.78125), ('echa', 8.6015625), ('onsk', 8.4296875)], 21: [('Strunz', 11.3359375), ('taf', 10.3359375), ('topsp', 10.3046875), ('NDB', 10.0546875), ('дам', 9.4453125)], 28: [('Insets', 9.2578125), ('娠', 9.0546875), ('odus', 8.375), (' arrel', 8.3515625), ('coats', 8.2734375)], 29: [(' [', 10.21875), ('9', 9.7890625), (' вари', 9.75), ('7', 9.7109375), ('8', 9.0078125)], 57: [('anean', 9.859375), ('тн', 9.5703125), ('迪士', 9.5078125), ('eon', 9.015625), ('opsi', 8.9140625)]}, 4: {6: [('-', 12.6640625), ('2', 12.3359375), ('house', 10.7421875), ('3', 10.71875), (':', 10.6171875)], 7: [('енбург', 9.625), ('icrous', 9.4765625), ('etimes', 8.7109375), ('abus', 8.7109375), ('ailable', 8.2578125)], 22: [('rena', 8.703125), (' D', 8.6015625), (' Face', 8.546875), ('гле', 8.078125), (' Head', 7.95703125)], 25: [(' начело', 8.8046875), ('дри', 8.5390625), (' Hob', 8.34375), ('下车', 8.328125), ('над', 8.3203125)], 32: [('alo', 10.109375), ('pro', 8.8046875), ('idian', 8.5234375), ('wag', 8.296875), ('double', 8.21875)], 46: [('ollers', 9.609375), ('туа', 9.515625), ('issos', 9.234375), ('rency', 9.15625), ('ffe', 9.0625)]}, 2: {7: [('utus', 10.3671875), (' union', 9.8515625), ('utta', 8.7578125), ('afers', 8.625), ('adesh', 8.390625)], 13: [('翼翼', 9.96875), ('华声', 9.6328125), ('emas', 8.953125), ('ار', 8.71875), ('座的', 8.390625)], 20: [('лев', 9.640625), ('arct', 9.5546875), ('лагат', 8.703125), ('偏离', 8.6328125), ('Evoluci', 8.53125)], 33: [('querque', 10.375), ('� ', 10.2734375), ('�', 8.9296875), ('iesa', 8.4296875), ('printer', 8.3828125)], 46: [('клопе', 11.1640625), ('евру', 11.125), ('skb', 10.8125), ('ateix', 10.65625), (' satisfactor', 10.4453125)], 59: [('вич', 9.21875), ('卵管', 9.0625), ('STRAINT', 8.9921875), (' привър', 8.953125), ('пела', 8.8046875)]}, 3: {7: [('рея', 11.125), ('�乐', 9.796875), ('intercal', 9.546875), (' Mateu', 9.171875), (' Esch', 9.0078125)], 13: [(' }^', 12.140625), ('�乐', 11.75), ('://$', 11.0703125), ('ALSE', 10.5234375), ('йки', 10.46875)], 27: [('ltimes', 9.765625), ('atges', 8.921875), (' itself', 8.84375), ('脱', 8.5546875), ('хол', 8.484375)], 31: [('征', 9.5546875), ('e', 8.8203125), (' q', 8.59375), ('****', 8.484375), ('***', 8.2109375)], 33: [('фту', 10.0234375), ('визион', 9.4140625), ('елс', 8.84375), ('涯', 8.828125), ('ITER', 8.578125)], 54: [('�乐', 11.890625), ('离', 9.109375), (' dium', 8.8359375), ('незия', 8.59375), (' ==========', 8.4296875)]}, 5: {7: [('uite', 10.390625), ('odon', 10.21875), ('晚', 9.25), ('uites', 9.125), ('olat', 8.421875)], 8: [('at', 8.9375), ('ead', 8.8046875), ('com', 8.625), ('ting', 8.375), ('hen', 8.3671875)], 22: [('\">/', 9.734375), ('vera', 9.5234375), ('YPT', 9.390625), ('PHA', 8.7734375), ('гле', 8.6171875)], 33: [('ajara', 9.953125), ('){};', 9.9296875), ('atrix', 9.1015625), ('uum', 8.953125), ('клю', 8.8515625)], 52: [('alona', 9.3046875), ('PROM', 8.8203125), ('encs', 8.5390625), ('�', 8.3359375), (' xif', 8.2265625)], 56: [('ICA', 11.25), ('ervera', 9.40625), ('дира', 9.1796875), ('gart', 9.109375), ('odb', 8.859375)]}, 7: {7: [('anell', 14.203125), ('legi', 11.578125), ('ermita', 11.140625), ('teix', 10.9140625), ('ник', 10.765625)], 27: [('шия', 9.3125), ('ifolds', 9.078125), ('esment', 8.953125), (' variants', 8.9140625), ('insically', 8.625)], 30: [('snia', 11.2421875), ('��', 10.90625), ('ележки', 10.765625), ('��', 10.6875), ('inclo', 10.5234375)], 44: [('isc', 9.53125), (' Circuit', 8.546875), ('ets', 8.484375), ('achi', 8.1015625), ('чите', 7.80859375)], 53: [(' rEFInd', 8.296875), ('oracle', 7.9296875), ('环球', 7.890625), ('oyer', 7.6015625), ('ruz', 7.5546875)], 57: [('串', 9.140625), ('untime', 8.34375), ('imin', 8.140625), ('abric', 8.1328125), ('dijit', 8.046875)]}, 9: {7: [(' Claudi', 8.6796875), (' capell', 8.546875), ('体', 8.2734375), ('ης', 8.2421875), ('rut', 8.234375)], 22: [('划', 9.4140625), ('2', 8.828125), ('6', 8.8125), ('5', 8.5390625), (' sep', 8.40625)], 32: [('hemer', 11.4453125), (' рота', 10.2265625), (' Кън', 9.5234375), (' rot', 9.515625), (' */;', 9.4140625)], 33: [('TEL', 9.078125), ('anan', 8.859375), ('��', 8.65625), (' p', 8.46875), ('fins', 8.3203125)], 44: [('Съби', 11.328125), ('fons', 10.359375), ('рад', 9.859375), ('ecke', 9.3671875), ('Окръг', 9.328125)], 54: [('onces', 9.1171875), ('oples', 8.9765625), ('Община', 8.9140625), ('ове', 8.8515625), (')^\\\\', 8.1171875)]}, 10: {7: [('oldre', 10.609375), (' ompl', 9.9609375), ('opedia', 9.875), ('irat', 9.8203125), ('utory', 9.2890625)], 30: [('><![', 9.4609375), ('WireFormat', 9.3359375), ('$},', 9.296875), (\"'}),\", 9.1875), ('�起', 9.1171875)], 34: [('ELD', 9.5078125), ('ای', 9.1171875), ('>{@', 9.03125), ('ORT', 8.9453125), ('анг', 8.875)], 53: [('orneys', 9.671875), ('ocrates', 9.0625), ('速', 8.953125), ('湃', 8.7578125), ('им', 8.3515625)], 54: [('avall', 8.703125), ('argas', 8.6640625), ('вете', 8.5703125), ('тист', 8.453125), (' descom', 8.265625)], 60: [('rap', 8.34375), (' power', 8.1796875), ('bur', 8.1328125), ('长达', 7.91796875), ('inal', 7.80078125)]}, 15: {7: [('нети', 11.25), ('ploy', 11.21875), ('iations', 10.453125), ('teix', 10.4453125), ('altitud', 10.4375)], 22: [('被告', 9.0234375), ('ENO', 8.9375), ('Anvers', 8.6484375), ('清晰的', 8.609375), ('zes', 8.375)], 32: [('жва', 10.34375), ('malink', 9.5390625), ('ionista', 9.2890625), ('autorest', 9.0), ('碱性', 8.9609375)], 33: [('��', 12.09375), ('难', 12.046875), ('� ', 9.3671875), ('endregion', 9.078125), ('ейнт', 8.9453125)], 46: [('anship', 9.4609375), ('nere', 9.1875), ('tua', 9.15625), ('estor', 8.7734375), ('enance', 8.7421875)], 47: [('essin', 10.828125), ('ymap', 9.7109375), ('idal', 9.4609375), ('treat', 9.3828125), ('noframe', 9.3125)]}, 16: {12: [('r', 10.1875), ('ificada', 8.78125), ('覆', 8.7265625), ('�', 8.6015625), ('再看', 8.2421875)], 21: [('tsd', 11.0703125), ('ouver', 10.2421875), (' [{\\\\', 10.109375), ('taf', 9.7265625), ('terday', 9.3046875)], 29: [('hon', 9.4921875), ('interopRequireDefault', 8.9921875), ('iliari', 8.71875), ('NonUser', 8.578125), (' пен', 8.5625)], 53: [('дже', 9.9609375), ('ugal', 9.3125), ('orneys', 8.9609375), ('的神', 8.5546875), ('onut', 8.5390625)], 54: [('icolumn', 9.890625), (' Diari', 8.9609375), ('conomia', 8.9375), ('拜', 8.8828125), ('венту', 8.8515625)], 60: [('硬的', 9.5234375), ('enyes', 9.4453125), ('bom', 8.90625), ('enge', 8.203125), (' Мартин', 8.1953125)]}, 6: {17: [('мат', 8.875), ('来越', 8.8046875), ('ead', 8.0078125), ('�', 8.0078125), (' W', 7.96484375)], 18: [('粘', 9.2578125), ('尾', 8.6953125), ('iered', 8.265625), ('limin', 8.1640625), ('LOB', 7.875)], 40: [('��', 14.0234375), ('inux', 10.046875), ('ZING', 9.3671875), (' Торино', 9.359375), ('estres', 9.1796875)], 49: [('dew', 8.1953125), ('amely', 7.796875), ('厅', 7.64453125), ('ills', 7.57421875), ('emade', 7.37109375)], 51: [('命', 10.2421875), ('utats', 9.03125), ('ationals', 8.765625), ('ercus', 8.7109375), ('erci', 8.296875)], 62: [('usos', 10.3359375), ('piter', 9.9296875), ('aceut', 9.1953125), ('icients', 9.0703125), ('estir', 8.78125)]}, 0: {18: [('9', 9.2578125), ('1', 8.6171875), ('0', 8.546875), ('ndon', 8.21875), ('3', 8.1640625)], 35: [('9', 9.5703125), ('8', 9.3125), ('5', 9.1875), ('7', 9.125), ('6', 9.03125)], 43: [('omic', 9.2265625), ('яна', 8.6328125), ('offee', 8.1171875), (' grad', 7.875), ('andes', 7.7578125)], 44: [('wny', 8.109375), (' Vout', 7.78515625), ('itars', 7.75390625), ('ryptfs', 7.7265625), ('вършва', 7.51171875)], 49: [('烧', 8.5390625), ('indler', 8.34375), ('ническата', 8.3359375), ('phony', 8.046875), ('atable', 8.03125)], 62: [('Това', 8.7421875), ('omin', 8.5546875), ('кор', 8.484375), ('бела', 8.328125), (' Hosp', 8.171875)]}}\n",
      "Shared expert predictions: [[('opon', 0.307373046875), ('obres', 0.29736328125), (' пряко', 0.27392578125), ('andes', 0.26171875), ('lapse', 0.260009765625)], [('WT', 0.62841796875), ('湃', 0.52685546875), ('oba', 0.49072265625), ('败', 0.4873046875), ('坑', 0.48193359375)], [('KY', 0.8671875), ('洋洋', 0.81689453125), ('bok', 0.77685546875), ('匆匆', 0.77294921875), ('adem', 0.76025390625)], [('��', 0.7548828125), ('wered', 0.701171875), (' \\\\;.', 0.66552734375), (' Стар', 0.625), ('�', 0.60302734375)], [('wk', 0.9375), ('emus', 0.84033203125), ('дава', 0.79736328125), ('ixa', 0.77783203125), ('敏', 0.767578125)], [('манов', 0.85693359375), ('idores', 0.77099609375), ('fech', 0.76318359375), ('duk', 0.705078125), ('amena', 0.69970703125)], [('wara', 0.496337890625), ('吐', 0.49267578125), ('ixa', 0.478515625), ('чини', 0.45263671875), ('ORA', 0.4482421875)], [('7', 0.6904296875), ('3', 0.67724609375), (' Entrevista', 0.6484375), ('6', 0.6416015625), ('4', 0.62255859375)], [('克兰', 0.70654296875), ('杰', 0.63720703125), (' gaz', 0.63427734375), (' OH', 0.61865234375), ('节点', 0.6103515625)], [('ygon', 0.70849609375), ('alog', 0.65576171875), (' n', 0.6259765625), ('克拉', 0.60546875), (' SPT', 0.59619140625)], [('ir', 0.66357421875), (' ', 0.59423828125), ('2', 0.5654296875), (' -', 0.56298828125), (' C', 0.55419921875)], [('ugar', 0.77392578125), ('emus', 0.7333984375), ('alog', 0.72412109375), (' DBCC', 0.6982421875), ('差', 0.68896484375)], [('Category', 0.58544921875), ('rvert', 0.54296875), ('manifest', 0.53955078125), ('IUM', 0.5380859375), (' aff', 0.5380859375)], [('PRB', 0.576171875), ('ailability', 0.5458984375), ('utx', 0.5361328125), ('deen', 0.53515625), ('体外', 0.53076171875)], [('ipte', 0.7060546875), ('体外', 0.662109375), ('otal', 0.6435546875), ('卉', 0.61279296875), ('rizz', 0.59375)], [('自', 0.8466796875), ('elves', 0.83447265625), ('engu', 0.79296875), ('砌', 0.75732421875), ('sink', 0.72607421875)], [('wound', 0.6806640625), (' направи', 0.671875), ('��', 0.6328125), ('тинг', 0.62109375), ('dW', 0.6201171875)]]\n",
      "\n",
      "MoE Layer 9:\n",
      "Selected experts: [[61, 49, 10, 43, 36, 33], [0, 1, 11, 51, 46, 21], [6, 48, 8, 53, 15, 1], [34, 6, 48, 2, 0, 60], [15, 28, 19, 48, 55, 32], [6, 48, 35, 15, 14, 53], [46, 61, 43, 44, 0, 51], [6, 7, 2, 57, 29, 46], [7, 30, 46, 57, 63, 29], [48, 7, 35, 45, 6, 59], [34, 7, 5, 45, 57, 13], [35, 7, 60, 48, 6, 45], [14, 9, 31, 27, 40, 62], [38, 22, 27, 31, 5, 14], [27, 22, 30, 57, 46, 7], [7, 6, 48, 35, 15, 53], [27, 5, 22, 34, 44, 13]]\n",
      "Expert weights: [[0.279296875, 0.04119873046875, 0.031280517578125, 0.028289794921875, 0.0259552001953125, 0.0243377685546875], [0.10552978515625, 0.1102294921875, 0.08380126953125, 0.08056640625, 0.06463623046875, 0.043548583984375], [0.081787109375, 0.09332275390625, 0.052581787109375, 0.0687255859375, 0.048126220703125, 0.0379638671875], [0.146240234375, 0.099609375, 0.049163818359375, 0.039825439453125, 0.0302276611328125, 0.0289154052734375], [0.16259765625, 0.0477294921875, 0.06396484375, 0.07647705078125, 0.044189453125, 0.043670654296875], [0.10552978515625, 0.10369873046875, 0.0447998046875, 0.052093505859375, 0.04083251953125, 0.0306243896484375], [0.0175628662109375, 0.697265625, 0.0160675048828125, 0.017578125, 0.01538848876953125, 0.01508331298828125], [0.04510498046875, 0.0880126953125, 0.05828857421875, 0.13720703125, 0.04278564453125, 0.0377197265625], [0.095703125, 0.14306640625, 0.10693359375, 0.1160888671875, 0.04254150390625, 0.028472900390625], [0.1578369140625, 0.14599609375, 0.06829833984375, 0.054107666015625, 0.0487060546875, 0.038818359375], [0.08453369140625, 0.1204833984375, 0.0772705078125, 0.06689453125, 0.05596923828125, 0.043212890625], [0.1544189453125, 0.1109619140625, 0.0977783203125, 0.09552001953125, 0.06512451171875, 0.051055908203125], [0.102294921875, 0.12451171875, 0.097900390625, 0.0775146484375, 0.0667724609375, 0.053802490234375], [0.053680419921875, 0.184326171875, 0.141357421875, 0.0606689453125, 0.036285400390625, 0.035980224609375], [0.1734619140625, 0.13720703125, 0.12396240234375, 0.06793212890625, 0.038055419921875, 0.0255584716796875], [0.0740966796875, 0.074951171875, 0.1375732421875, 0.06402587890625, 0.050018310546875, 0.04595947265625], [0.1112060546875, 0.08575439453125, 0.07916259765625, 0.049163818359375, 0.03875732421875, 0.030517578125]]\n",
      "Combined output tokens: [[('肋', 2.087890625), ('яна', 1.9794921875), ('jem', 1.923828125), ('andes', 1.8857421875), ('зар', 1.7822265625)], [('解', 0.8818359375), ('诠', 0.8486328125), (' adjunto', 0.75830078125), (' unselected', 0.7451171875), ('══', 0.73876953125)], [('=\"../_', 1.1611328125), ('��', 1.15625), ('flalign', 1.0751953125), ('owicz', 1.0654296875), ('CCCCFF', 1.0615234375)], [('ogo', 1.39453125), ('нни', 1.3408203125), (' f', 1.26953125), ('ر', 1.2490234375), ('зира', 1.248046875)], [('Habitants', 1.240234375), ('Македония', 1.201171875), ('Италиан', 1.1875), ('ubo', 1.1298828125), ('Окръг', 1.12109375)], [('ltimes', 1.4931640625), ('ections', 1.4013671875), ('�', 1.2841796875), ('ври', 1.2734375), ('вис', 1.251953125)], [('t', 2.080078125), ('坦', 1.7734375), ('名字', 1.765625), (' N', 1.7646484375), ('setData', 1.7080078125)], [('达人', 1.7119140625), ('iclismo', 1.4736328125), ('翼翼', 1.4501953125), (' пър', 1.4501953125), ('мби', 1.4404296875)], [('gor', 1.458984375), (' пър', 1.455078125), ('vider', 1.412109375), ('orc', 1.3974609375), ('лата', 1.373046875)], [('ikin', 1.6806640625), ('ilitar', 1.58203125), ('��', 1.5341796875), ('aller', 1.45703125), (' du', 1.3916015625)], [('odies', 1.2412109375), ('entar', 1.177734375), ('rys', 1.099609375), ('pless', 1.095703125), ('зина', 1.08984375)], [('ionar', 1.8955078125), ('IFT', 1.69921875), ('�', 1.6650390625), ('recall', 1.6376953125), ('anea', 1.599609375)], [('opam', 1.2314453125), ('CodeDom', 1.189453125), ('ну', 1.1875), ('ият', 1.1533203125), ('ssf', 1.1220703125)], [('tles', 1.748046875), (' an', 1.7158203125), ('por', 1.65234375), ('SUPPORTED', 1.611328125), ('yet', 1.548828125)], [(' existir', 2.041015625), ('缅', 1.9404296875), (' пореди', 1.9013671875), (' indeed', 1.8466796875), (' Web', 1.818359375)], [('тини', 1.18359375), (' du', 1.1748046875), ('entr', 1.1416015625), ('arque', 1.1357421875), (' quant', 1.064453125)], [(' исти', 1.2958984375), ('къ', 1.271484375), ('逸', 1.2265625), ('orel', 1.2021484375), (' Loira', 1.19921875)]]\n",
      "Expert predictions by position: {1: {0: [('стано', 10.2421875), ('ActivityThread', 9.703125), ('--\">', 9.5703125), ('quei', 8.796875), ('二字', 8.6796875)], 1: [('ilets', 11.4921875), ('ificance', 9.3515625), ('phase', 9.3203125), ('ollar', 9.2109375), ('anmar', 9.0859375)], 11: [('��', 9.5390625), ('dri', 9.5234375), ('=\"../../../', 9.0234375), ('близ', 8.828125), ('inel', 8.5078125)], 21: [('pica', 9.4375), ('ocket', 8.7265625), ('вка', 8.578125), (' Хон', 8.3671875), ('issions', 8.34375)], 46: [('vers', 8.59375), ('heimer', 8.59375), ('дне', 8.4765625), ('frid', 8.3203125), (' upd', 8.125)], 51: [('беля', 10.375), ('elin', 10.125), ('emet', 9.3515625), (' Dubl', 9.078125), (' оку', 8.8125)]}, 3: {0: [('haw', 8.6640625), ('ене', 8.09375), ('谦', 7.7265625), (' cle', 7.6640625), ('LOW', 7.65625)], 2: [('7', 8.5390625), (' бази', 8.3203125), ('6', 7.9921875), ('8', 7.7265625), ('enance', 7.72265625)], 6: [('ioned', 9.296875), ('例外', 8.75), ('FUNCPTR', 8.5859375), ('ssil', 8.484375), ('═', 8.4453125)], 34: [('xec', 9.046875), ('бани', 8.9765625), ('oft', 8.8515625), ('^^^^', 8.703125), ('�', 8.6015625)], 48: [('=\"@{', 10.3359375), ('ertat', 9.3359375), ('nest', 8.953125), ('owers', 8.7265625), ('惑', 8.6640625)], 60: [('utdown', 10.1640625), ('anea', 9.9609375), ('ostes', 9.6171875), ('ivistic', 9.6171875), ('itzar', 9.390625)]}, 6: {0: [('дето', 9.5859375), (' editat', 9.2578125), (' discussi', 9.1953125), ('ottom', 9.1640625), (' Mestres', 9.09375)], 43: [('�', 9.2578125), ('�', 7.25), ('节的', 7.0625), (' performer', 6.90625), (' performers', 6.875)], 44: [('4', 11.1796875), ('6', 10.3984375), ('7', 9.6875), ('9', 9.484375), ('EE', 9.3203125)], 46: [('asym', 9.1953125), ('aded', 8.8515625), ('oscript', 8.78125), ('规', 8.6328125), ('ggreg', 8.234375)], 51: [('given', 7.34765625), ('astics', 7.2421875), ('беля', 7.21875), ('strument', 7.203125), ('oths', 7.18359375)], 61: [('t', 8.6015625), ('坦', 7.828125), ('otech', 7.81640625), ('名字', 7.734375), ('”', 7.53125)]}, 2: {1: [(' Giacom', 11.5546875), ('�乐', 11.28125), ('resa', 10.546875), ('ennicke', 10.328125), (' vassall', 10.1796875)], 6: [('\">:</', 10.921875), ('ловения', 9.9609375), ('евру', 9.921875), ('вайг', 9.4765625), (' exacta', 9.265625)], 8: [('ygon', 10.8984375), ('Programming', 10.28125), ('евру', 8.6796875), ('mana', 8.6484375), ('lita', 8.578125)], 15: [('umst', 9.2265625), ('ansion', 9.203125), ('ergi', 9.171875), ('Македония', 9.015625), ('ero', 8.8125)], 48: [('逍', 9.78125), ('UNTU', 9.7578125), (' teng', 9.703125), ('Икономи', 9.4609375), ('дето', 9.421875)], 53: [('issos', 10.015625), ('��', 9.9453125), ('ussen', 9.6953125), ('DLINE', 9.5234375), ('PROTOBUF', 9.1171875)]}, 7: {2: [(' ', 11.765625), ('ля', 9.1953125), (' _', 9.1796875), ('unders', 9.0625), ('aylor', 8.25)], 6: [('arisation', 10.9296875), ('brack', 9.875), ('enf', 9.3515625), ('bootstrapcdn', 9.0), ('мара', 8.734375)], 7: [(' fall', 9.0703125), ('per', 8.2734375), (' extra', 8.21875), (' fart', 8.203125), ('сира', 8.03125)], 29: [('soever', 9.4765625), ('istres', 9.46875), (' собственост', 9.1953125), ('iennes', 9.125), ('aeus', 9.0625)], 46: [('MLE', 8.875), (' Mitjana', 8.6171875), ('жи', 8.3125), ('бина', 7.93359375), ('десе', 7.8359375)], 57: [('пусне', 9.65625), ('ople', 9.4375), ('幂', 9.1640625), ('regut', 8.953125), (' леги', 8.6875)]}, 10: {5: [('opy', 9.7890625), ('不代表新浪看点观点或立场', 9.3984375), ('tulo', 8.9140625), ('lins', 8.75), ('áč', 8.734375)], 7: [(' експе', 9.15625), (' CHARSET', 8.8203125), ('UID', 8.78125), ('odal', 8.7421875), ('драта', 8.1484375)], 13: [('iament', 10.140625), ('locks', 9.90625), ('iasm', 9.625), ('дено', 9.3671875), ('noma', 9.3125)], 34: [('ipur', 10.015625), (' also', 9.171875), ('рали', 9.1640625), ('icense', 9.0859375), ('dee', 8.890625)], 45: [(' Form', 10.8046875), ('6', 10.5), ('0', 10.2578125), ('7', 9.8125), ('5', 9.78125)], 57: [('IMIT', 10.265625), ('хрид', 10.2109375), ('ibliot', 9.9375), ('iblioteca', 9.578125), ('статъ', 9.34375)]}, 13: {5: [('swire', 8.3046875), (' Shut', 8.1015625), ('unya', 7.890625), ('зани', 7.85546875), ('告', 7.80859375)], 14: [('GLOB', 9.4140625), ('orer', 9.2265625), ('wain', 9.2109375), ('Eslov', 8.96875), ('triques', 8.9140625)], 22: [(' posa', 10.0), ('iations', 9.578125), ('por', 9.1640625), ('[--', 9.078125), ('(--', 9.0234375)], 27: [('萄', 9.8828125), ('NDER', 9.0234375), ('eworthy', 8.9140625), ('ROL', 8.8203125), ('腰', 8.3984375)], 31: [('|$', 9.0390625), ('legi', 9.03125), ('ну', 8.9375), ('Property', 8.9296875), ('iage', 8.7109375)], 38: [('icula', 8.875), ('htp', 8.734375), ('是一项', 8.6796875), ('хол', 8.1953125), (' then', 7.875)]}, 16: {5: [('ith', 8.8828125), ('удо', 8.7265625), (' fabricar', 8.59375), (')_\\\\', 8.5234375), ('ards', 8.3125)], 13: [('rfloor', 11.578125), ('pil', 9.5234375), ('рас', 9.4609375), ('lics', 9.390625), ('дн', 9.2578125)], 22: [(' cartell', 10.078125), ('iber', 9.5), ('тин', 9.0859375), (' Carre', 8.84375), (' acons', 8.4453125)], 27: [('nde', 10.1171875), (' Web', 9.3671875), ('abet', 8.9765625), ('NDER', 8.6015625), ('рт', 8.5390625)], 34: [('aret', 9.1875), ('lop', 9.1640625), ('thing', 8.84375), ('screenshot', 8.75), ('ret', 8.71875)], 44: [('oulders', 9.2578125), ('Cola', 7.6015625), ('ornia', 7.55078125), ('anques', 7.52734375), ('materials', 7.48828125)]}, 5: {6: [('arisation', 11.2109375), ('gdm', 10.21875), ('/@', 9.578125), ('yss', 9.3671875), ('esis', 8.96875)], 14: [('��', 11.1171875), ('inely', 9.5390625), ('ayed', 9.2109375), ('nimes', 9.0), (' Френ', 8.7421875)], 15: [('gart', 9.2890625), (' Page', 7.890625), (' tambien', 7.578125), ('继', 7.546875), ('尼奥', 7.49609375)], 35: [('ueba', 10.390625), ('acle', 10.03125), ('上市的', 9.6953125), ('Illes', 9.2265625), ('竿', 9.0703125)], 48: [('onis', 11.4765625), ('NOSCRIPT', 11.0703125), ('ncies', 11.015625), ('chrift', 10.9453125), (' Костур', 10.9375)], 53: [('eado', 9.9375), (' Quarta', 9.5), ('dac', 9.1171875), ('дове', 9.1015625), ('eeq', 8.5234375)]}, 9: {6: [(' <!--[', 10.390625), ('aseous', 10.1171875), ('rowse', 9.78125), ('Македония', 9.7578125), ('的一半', 9.6875)], 7: [('colgroup', 9.171875), ('ifications', 9.0546875), ('ioc', 8.25), ('каде', 8.09375), ('ncy', 7.875)], 35: [('iations', 9.0234375), ('ET', 8.5), (' \\xa0 \\xa0', 8.390625), ('habitants', 8.3828125), (' height', 8.265625)], 45: [('кус', 9.1015625), ('ients', 8.6171875), ('гнал', 8.5390625), ('营', 8.453125), ('agona', 8.3125)], 48: [('entin', 10.0), (' compound', 9.4296875), ('wid', 9.3515625), ('nest', 8.5859375), ('types', 8.390625)], 59: [('Writable', 9.8203125), ('fixme', 8.9296875), ('бани', 8.265625), ('ufact', 8.1953125), (' defe', 7.95703125)]}, 11: {6: [('blockList', 10.8671875), ('rabs', 10.328125), (' why', 9.9296875), (' поче', 9.1640625), (' Бор', 9.1015625)], 7: [(' опълченец', 9.3828125), (' $\\\\#', 8.578125), ('afers', 8.125), (' lam', 8.0859375), ('itars', 7.81640625)], 35: [('BROWSER', 8.8203125), ('hood', 8.734375), ('Blo', 8.25), ('тори', 8.2421875), ('кали', 7.9921875)], 45: [('Bas', 9.1796875), (' bas', 8.203125), ('cha', 7.6015625), ('皇家', 7.42578125), ('наги', 7.3828125)], 48: [('inci', 10.3984375), ('IFICATION', 9.5546875), ('engua', 9.203125), ('ieft', 8.859375), ('icultura', 8.8125)], 60: [('тв', 11.2578125), ('boldmath', 9.9375), ('swer', 9.921875), ('atoris', 8.8125), ('uega', 8.75)]}, 15: {6: [('enl', 10.125), ('ILON', 10.03125), ('леп', 9.5234375), ('enial', 9.4140625), ('arse', 9.2421875)], 7: [('гови', 10.2109375), ('�', 9.6875), ('odal', 9.2421875), ('arning', 8.8203125), ('omer', 8.640625)], 15: [(' type', 10.4296875), ('0', 10.125), (' Type', 9.1640625), ('3', 8.953125), ('4', 8.9375)], 35: [(' застра', 9.390625), ('Wr', 8.640625), ('留', 8.53125), ('IE', 8.1640625), ('iev', 8.0625)], 48: [('ims', 10.21875), ('asts', 9.75), ('ajan', 9.59375), ('orsed', 9.21875), (' Mov', 8.703125)], 53: [(' M', 8.96875), ('oot', 8.5703125), (' Cost', 8.1796875), ('0', 8.078125), (' Green', 8.0546875)]}, 8: {7: [('ionals', 8.625), ('ncycl', 8.59375), ('\\xa0g', 8.4296875), ('glx', 8.375), ('司', 8.296875)], 29: [('ethod', 9.8671875), ('miral', 9.484375), ('ropies', 9.4765625), ('escor', 9.4375), ('тио', 9.3125)], 30: [('Llib', 11.4765625), ('rize', 11.28125), ('��', 11.0859375), ('withstanding', 11.0390625), ('ionar', 9.9453125)], 46: [('ollars', 9.3671875), ('亦', 9.21875), ('roubles', 8.8984375), ('ade', 8.5234375), ('тра', 8.4765625)], 57: [('>-->', 9.765625), ('oyer', 9.625), ('vider', 9.5390625), ('UDE', 9.09375), ('стеза', 8.6015625)], 63: [('iax', 10.28125), ('landa', 9.8671875), ('utica', 8.7890625), ('eqz', 8.765625), ('amines', 8.71875)]}, 14: {7: [('兰达', 9.3359375), ('каде', 8.5546875), (' ral', 8.515625), (' hagi', 8.4921875), ('反应', 8.171875)], 22: [('fact', 9.28125), ('existing', 9.234375), ('agan', 8.859375), ('usercontent', 8.6015625), (' coachman', 8.5390625)], 27: [('诱', 11.015625), ('诱惑', 9.234375), ('伦', 8.125), ('ftime', 7.9375), ('едно', 7.90234375)], 30: [(' indeed', 10.140625), ('reres', 9.90625), ('pline', 9.0078125), ('Llib', 8.984375), (' ', 8.921875)], 46: [(' Study', 8.90625), (' Premis', 8.453125), ('Edat', 8.3203125), ('хт', 8.28125), (' study', 8.015625)], 57: [('uggest', 10.125), ('intilla', 9.6875), ('游', 9.671875), ('iclismo', 9.5390625), ('uters', 9.4140625)]}, 12: {9: [('ша', 9.265625), ('gics', 9.0078125), ('utica', 8.9375), ('cdir', 8.765625), (' reciproc', 8.5546875)], 14: [('acant', 10.046875), ('�', 9.5546875), ('ť', 9.5234375), ('��', 9.453125), (' ВМО', 9.4140625)], 27: [('гер', 8.796875), ('nics', 8.234375), ('SEE', 7.97265625), (' Barre', 7.90234375), ('iemann', 7.703125)], 31: [('enery', 11.140625), ('вки', 9.25), ('型的', 8.4765625), ('ро', 8.25), ('弥', 7.94921875)], 40: [('soft', 10.2578125), ('Soft', 9.8203125), ('idesa', 9.2421875), ('writeField', 9.2265625), ('het', 9.09375)], 62: [('vering', 11.8203125), ('кани', 10.140625), ('antro', 10.0703125), ('anders', 9.71875), ('比你', 9.671875)]}, 0: {10: [('ttle', 7.6796875), ('spath', 7.43359375), ('swire', 7.27734375), ('anes', 7.0234375), ('忆', 6.94140625)], 33: [('�', 10.0625), ('�', 8.4609375), ('claimer', 8.234375), ('�', 8.1796875), ('oust', 8.1484375)], 36: [('строй', 7.8515625), ('ures', 7.63671875), ('ure', 7.4921875), ('{}', 7.29296875), ('ua', 7.22265625)], 43: [('съ', 10.0390625), ('ohn', 8.0), ('ян', 7.296875), ('perty', 7.19921875), ('тъ', 6.91796875)], 49: [(' -', 8.4921875), (' ', 8.40625), ('o', 7.875), ('jem', 7.76953125), ('往', 7.6796875)], 61: [('肋', 9.28125), ('andes', 8.1640625), ('jem', 8.0859375), (' Naz', 7.7734375), ('яна', 7.734375)]}, 4: {15: [('rusted', 10.0234375), ('盘', 9.171875), ('rade', 9.0234375), ('nered', 8.8359375), ('вай', 8.2578125)], 19: [('jab', 9.9765625), ('сова', 9.234375), ('rowColor', 8.7578125), ('terdam', 8.5078125), ('Съби', 8.4296875)], 28: [('咨', 8.7890625), ('创', 8.375), ('ois', 8.1640625), ('打出', 8.1484375), ('orig', 8.1484375)], 32: [('thal', 8.9609375), (' comm', 8.734375), ('composable', 8.6484375), (' com', 8.1484375), ('чар', 8.03125)], 48: [('ilv', 10.7578125), ('миш', 10.0234375), ('odont', 9.7578125), ('blockList', 9.75), ('ertat', 9.7109375)], 55: [('湃', 9.4375), ('LL', 8.90625), (' MAC', 8.5703125), (' G', 8.515625), (' Lind', 7.9453125)]}}\n",
      "Shared expert predictions: [[('��', 0.27490234375), ('яна', 0.26416015625), ('kem', 0.247802734375), ('兰特', 0.21728515625), ('系的', 0.2120361328125)], [('wort', 0.5439453125), (' unselected', 0.50537109375), ('实体', 0.4853515625), ('secured', 0.48046875), ('physical', 0.47412109375)], [('mens', 0.77734375), ('lips', 0.6708984375), (' Senat', 0.6513671875), (' f', 0.626953125), ('ocells', 0.619140625)], [('happ', 0.69580078125), ('直', 0.63720703125), (' f', 0.62841796875), (' ().', 0.625), ('ocells', 0.611328125)], [(' Хърват', 0.85107421875), ('↳', 0.84716796875), ('IDA', 0.84716796875), ('Habitants', 0.841796875), ('CCR', 0.81396484375)], [('рев', 0.8056640625), ('eas', 0.78515625), ('较', 0.7421875), (' AMA', 0.72314453125), ('ses', 0.71533203125)], [('[...]', 0.446044921875), ('aque', 0.427734375), (' [...]', 0.42431640625), (' loos', 0.412109375), (' ___', 0.3994140625)], [('шев', 0.8505859375), (' diet', 0.77880859375), ('pora', 0.7763671875), ('лата', 0.740234375), ('рист', 0.7392578125)], [('лата', 0.8564453125), ('pora', 0.8173828125), ('шев', 0.7236328125), ('gor', 0.71728515625), ('拥', 0.662109375)], [('inche', 0.81005859375), ('inta', 0.736328125), ('hemer', 0.72998046875), ('sed', 0.70263671875), (' Rural', 0.69970703125)], [('entar', 0.67724609375), ('OTH', 0.666015625), ('простра', 0.6494140625), (' lo', 0.62158203125), ('inta', 0.5888671875)], [(' [', 0.732421875), ('sed', 0.68115234375), (' rec', 0.673828125), ('still', 0.67333984375), ('sie', 0.66357421875)], [('ollers', 0.7197265625), ('дината', 0.69580078125), (' cum', 0.69384765625), ('kov', 0.6923828125), ('inche', 0.6767578125)], [('inous', 0.72509765625), ('стира', 0.68505859375), ('overy', 0.63623046875), (' fours', 0.611328125), ('roach', 0.60693359375)], [('стира', 0.8251953125), ('ithium', 0.7919921875), (' контра', 0.74267578125), ('OTH', 0.70263671875), ('adi', 0.66259765625)], [(' [', 0.8876953125), ('公', 0.84814453125), ('пите', 0.7412109375), ('overall', 0.716796875), (' overall', 0.71630859375)], [('aling', 0.65625), (' Excurs', 0.64453125), (' strand', 0.6318359375), ('rors', 0.626953125), ('itzerland', 0.62255859375)]]\n",
      "\n",
      "MoE Layer 10:\n",
      "Selected experts: [[0, 45, 42, 33, 24, 63], [0, 1, 40, 8, 56, 25], [32, 25, 60, 28, 22, 1], [32, 1, 25, 60, 41, 48], [19, 60, 38, 1, 47, 37], [47, 1, 60, 51, 38, 46], [0, 56, 24, 27, 45, 19], [19, 46, 48, 62, 14, 44], [19, 1, 41, 62, 44, 46], [47, 60, 19, 51, 7, 54], [1, 19, 48, 14, 62, 34], [47, 38, 60, 3, 55, 19], [18, 1, 14, 13, 29, 39], [15, 46, 18, 14, 39, 41], [15, 41, 19, 39, 14, 62], [51, 47, 28, 22, 60, 15], [34, 15, 19, 14, 56, 61]]\n",
      "Expert weights: [[0.040771484375, 0.047271728515625, 0.13037109375, 0.09423828125, 0.107421875, 0.0298309326171875], [0.11895751953125, 0.062469482421875, 0.07257080078125, 0.1524658203125, 0.08636474609375, 0.05731201171875], [0.081787109375, 0.08929443359375, 0.1207275390625, 0.048675537109375, 0.048583984375, 0.04473876953125], [0.0755615234375, 0.1346435546875, 0.07415771484375, 0.057952880859375, 0.047393798828125, 0.03656005859375], [0.07269287109375, 0.1226806640625, 0.06378173828125, 0.045928955078125, 0.038787841796875, 0.038360595703125], [0.04449462890625, 0.1004638671875, 0.0477294921875, 0.037139892578125, 0.043548583984375, 0.0311126708984375], [0.052703857421875, 0.08624267578125, 0.054595947265625, 0.05084228515625, 0.061981201171875, 0.0489501953125], [0.129150390625, 0.0955810546875, 0.08062744140625, 0.0640869140625, 0.06256103515625, 0.05645751953125], [0.056243896484375, 0.047454833984375, 0.111083984375, 0.076416015625, 0.055908203125, 0.038421630859375], [0.12353515625, 0.10003662109375, 0.06304931640625, 0.054901123046875, 0.04840087890625, 0.04351806640625], [0.094970703125, 0.0792236328125, 0.0753173828125, 0.055633544921875, 0.053924560546875, 0.0472412109375], [0.2349853515625, 0.050750732421875, 0.08135986328125, 0.043304443359375, 0.054351806640625, 0.04058837890625], [0.15966796875, 0.18408203125, 0.08380126953125, 0.06256103515625, 0.0789794921875, 0.0305328369140625], [0.1256103515625, 0.061065673828125, 0.056915283203125, 0.07989501953125, 0.0687255859375, 0.049224853515625], [0.11138916015625, 0.07598876953125, 0.0712890625, 0.0684814453125, 0.05767822265625, 0.0499267578125], [0.0902099609375, 0.1240234375, 0.08685302734375, 0.06201171875, 0.0474853515625, 0.032928466796875], [0.09307861328125, 0.08349609375, 0.07427978515625, 0.037994384765625, 0.035125732421875, 0.0313720703125]]\n",
      "Combined output tokens: [[('яна', 0.9345703125), (' fres', 0.9296875), ('andes', 0.8447265625), (' препратки', 0.83203125), ('idera', 0.8115234375)], [('лата', 0.95751953125), ('тец', 0.86474609375), (' vest', 0.8564453125), ('EK', 0.853515625), ('рес', 0.84228515625)], [('зира', 1.6298828125), ('armed', 1.3623046875), ('mide', 1.33984375), ('ENTER', 1.294921875), ('deven', 1.1884765625)], [('lez', 1.306640625), ('armed', 1.2001953125), (' n', 1.197265625), ('rill', 1.1826171875), ('当事', 1.1748046875)], [('挛', 1.2939453125), ('嗽', 1.193359375), ('ESA', 1.1708984375), ('Tokenizer', 1.162109375), (' зла', 1.140625)], [('ORS', 1.1220703125), ('lor', 1.08203125), (' L', 1.04296875), (' bol', 1.0341796875), ('onomia', 1.0068359375)], [('AGA', 0.80224609375), ('SSA', 0.79443359375), ('1', 0.69677734375), ('矫', 0.68896484375), ('SES', 0.673828125)], [('лко', 1.361328125), ('uers', 1.33984375), ('打入', 1.2900390625), ('群', 1.2841796875), (' kil', 1.263671875)], [('旺', 1.060546875), ('一再', 1.0517578125), ('pica', 1.044921875), ('Hur', 1.044921875), ('upy', 1.0439453125)], [('集', 1.751953125), ('ens', 1.53515625), ('sel', 1.3349609375), ('2', 1.2890625), ('ensa', 1.25)], [('ites', 1.0078125), ('mat', 0.966796875), ('冲', 0.96533203125), ('ke', 0.962890625), ('catal', 0.96044921875)], [(' k', 1.810546875), (' int', 1.78515625), (' ch', 1.658203125), (' s', 1.6181640625), (' da', 1.55859375)], [('相', 1.8134765625), ('吐', 1.791015625), (' __', 1.78125), ('jans', 1.77734375), ('anse', 1.7734375)], [('ainty', 1.5654296875), ('转发', 1.4638671875), ('icas', 1.4619140625), ('吐', 1.4599609375), (' coc', 1.4384765625)], [(' сме', 1.5390625), ('чия', 1.49609375), ('estan', 1.443359375), ('mixed', 1.427734375), ('ServerName', 1.416015625)], [('mediately', 1.2939453125), ('loo', 1.2744140625), ('感', 1.2724609375), (' ден', 1.25), ('═', 1.2451171875)], [('apac', 1.6337890625), ('ugar', 1.4130859375), ('retty', 1.3076171875), ('uum', 1.2578125), (' capacit', 1.255859375)]]\n",
      "Expert predictions by position: {0: {0: [('�', 9.125), (' S', 8.5), ('8', 8.421875), ('0', 8.3671875), ('6', 8.171875)], 24: [('卵管', 9.1015625), ('】【', 8.7578125), ('сор', 8.609375), ('aptics', 8.3984375), (' gparted', 8.0078125)], 33: [('яна', 10.6796875), ('frak', 9.0546875), ('idera', 8.7421875), (' fres', 8.5546875), ('apac', 8.484375)], 42: [('яна', 9.53125), (' fres', 9.4609375), ('frak', 8.15625), ('andes', 7.9453125), ('卸', 7.92578125)], 45: [('inclo', 11.484375), ('lega', 11.25), ('SPHINX', 11.2265625), ('��', 11.0859375), ('ober', 10.6171875)], 63: [('тров', 10.3359375), ('ambre', 8.9765625), ('kerel', 8.6328125), ('灭', 8.6015625), ('aspoon', 8.0625)]}, 1: {0: [('icol', 9.0078125), ('至', 8.609375), ('戒', 8.5625), ('setTimeout', 8.4453125), ('ipt', 8.3828125)], 1: [('截', 11.078125), ('拦截', 8.9296875), (' B', 8.8203125), ('alie', 8.75), (' T', 8.2890625)], 8: [('════════════════', 10.3984375), ('hung', 9.34375), ('land', 8.34375), ('egal', 8.3203125), ('AVING', 8.28125)], 25: [('ейнт', 12.125), ('ебсайт', 11.40625), ('вайг', 11.1953125), ('ი', 11.1484375), ('раел', 11.125)], 40: [('fle', 8.5390625), ('ass', 8.40625), ('房', 8.15625), ('ey', 8.1015625), ('�', 7.81640625)], 56: [('ploy', 8.8828125), ('que', 8.3828125), (' permanent', 8.375), ('odynam', 8.265625), ('alto', 8.15625)]}, 6: {0: [('2', 11.0234375), ('0', 10.9609375), ('3', 10.4453125), ('5', 9.9765625), ('8', 9.78125)], 19: [('fron', 10.15625), ('mando', 9.7421875), ('至', 8.953125), ('呼', 8.8359375), ('Македония', 8.828125)], 24: [('ln', 9.7890625), ('sel', 8.75), (' reason', 8.734375), ('abast', 8.65625), ('绑', 8.59375)], 27: [('erol', 9.3828125), ('uliar', 9.328125), ('Advertisement', 9.1796875), (' Teh', 8.8046875), ('rats', 8.7265625)], 45: [('exclusion', 9.2578125), (' Cas', 8.9140625), ('niques', 8.640625), ('ა', 8.359375), ('ancelot', 8.3359375)], 56: [('хар', 9.78125), ('olini', 8.78125), ('domen', 8.5546875), ('otte', 8.453125), ('atol', 8.25)]}, 2: {1: [(\"__':\", 8.3125), ('════', 8.25), (' Спи', 8.1796875), ('хе', 8.0625), ('^*_{\\\\', 7.9453125)], 22: [('idd', 10.328125), ('мата', 10.0078125), ('ospin', 9.859375), ('acta', 9.5546875), ('antz', 9.4921875)], 25: [('ი', 11.171875), ('视镜', 10.203125), (' Houten', 9.6328125), ('ugment', 8.7265625), ('nings', 8.6171875)], 28: [('гли', 10.375), (' Ам', 9.875), ('IE', 8.8984375), (' Cole', 8.3203125), (' mesquita', 8.171875)], 32: [('acis', 9.546875), ('rill', 8.5234375), ('霸', 8.3671875), ('untu', 8.1953125), ('тени', 8.1015625)], 60: [('тана', 10.2421875), ('kee', 9.296875), ('plied', 8.921875), (' full', 8.875), ('\\\\}_{', 8.8359375)]}, 3: {1: [('\\xa0', 9.25), (' APP', 9.0703125), (' App', 8.8671875), (' Pod', 8.6015625), (' V', 8.5625)], 25: [(' Методий', 10.28125), (' Кън', 9.796875), ('aguer', 9.6484375), (' ръковод', 8.90625), ('дето', 8.875)], 32: [('нети', 10.3046875), ('шното', 8.875), ('NEXT', 8.796875), ('柱', 8.7265625), ('migrate', 8.5078125)], 41: [('letion', 8.375), ('下', 8.0234375), ('zie', 7.86328125), (' searchable', 7.84375), ('ofia', 7.6015625)], 48: [('OPTS', 9.453125), (' vermella', 8.9765625), (' Republicana', 8.0546875), ('ponse', 8.0234375), ('打卡', 7.91015625)], 60: [('icense', 10.3359375), ('��', 10.015625), ('ifact', 9.6953125), ('ЕФА', 9.5703125), ('xev', 9.4609375)]}, 4: {1: [('oa', 8.96875), ('гор', 8.9296875), ('olas', 8.8828125), ('ixt', 8.7734375), ('лица', 8.75)], 19: [('rets', 10.71875), ('ering', 8.4375), ('维亚', 8.1484375), ('mara', 8.09375), ('贸', 7.80859375)], 37: [('istable', 9.78125), ('矶', 9.3203125), ('тист', 9.0703125), ('entiful', 8.625), ('berra', 8.4453125)], 38: [('hom', 8.9609375), ('denomin', 8.8125), ('etr', 8.6171875), ('离', 8.421875), ('@@', 8.2734375)], 47: [('留', 9.8125), ('�', 9.2890625), ('减', 8.59375), ('манов', 8.53125), ('扑', 8.4453125)], 60: [('sec', 9.7421875), ('�', 9.1015625), (' Genesis', 8.6171875), ('Genesis', 8.5703125), ('afers', 8.53125)]}, 5: {1: [('malink', 9.9921875), ('ambers', 9.9765625), ('хрид', 9.90625), ('мове', 9.5859375), (' horiz', 9.4609375)], 38: [('atorial', 9.7265625), (' b', 9.6171875), ('чин', 9.296875), ('�', 9.2421875), ('__(', 8.984375)], 46: [('ват', 8.8984375), (' _', 8.8671875), ('hora', 8.4140625), ('patcher', 8.375), ('enders', 8.2265625)], 47: [('тански', 9.5703125), ('═', 8.671875), (' Колумбия', 8.203125), ('ите', 8.0546875), ('cember', 7.8984375)], 51: [('ialize', 8.015625), ('TI', 7.81640625), ('ausa', 7.73046875), ('iante', 7.69921875), ('тична', 7.38671875)], 60: [('issin', 9.9609375), (' сила', 9.8125), ('ornia', 9.375), ('eppel', 9.3671875), ('ложено', 9.1875)]}, 8: {1: [('font', 9.15625), ('/', 8.7265625), ('...', 8.421875), ('致', 8.4140625), ('tup', 8.203125)], 19: [('writeField', 10.171875), ('incia', 9.890625), ('jocs', 9.5), ('ctimes', 9.09375), (' upd', 9.046875)], 41: [('скоро', 9.6484375), ('СК', 9.1953125), ('resc', 9.078125), ('waukee', 8.59375), ('�', 8.1953125)], 44: [('atr', 8.2421875), ('den', 8.1953125), ('丝', 7.96875), ('以下的', 7.6875), ('ant', 7.6328125)], 46: [('iem', 8.6796875), ('布', 8.421875), (' axe', 8.1171875), (' monot', 8.1171875), ('ix', 7.96484375)], 62: [('avorite', 9.0390625), ('华北', 8.8671875), ('тон', 8.7421875), ('hack', 8.421875), ('arl', 8.4140625)]}, 10: {1: [(' ded', 8.9296875), ('jans', 8.8046875), (' [', 8.7578125), ('\\xa0', 8.578125), (' cosm', 8.5234375)], 14: [('TRIB', 9.0), ('[', 8.1171875), ('#:', 8.078125), ('izon', 8.046875), ('inox', 7.8828125)], 19: [('orgue', 10.046875), ('wikimedia', 9.8984375), ('愈', 8.8203125), (' vides', 8.7265625), (' antemano', 8.65625)], 34: [('aller', 10.1640625), ('рас', 10.0546875), ('áž', 9.6640625), ('泊', 9.265625), ('rona', 9.0546875)], 48: [('динанд', 9.5859375), ('ubon', 9.0859375), ('�', 8.671875), ('NaN', 8.6015625), ('��', 8.484375)], 62: [('ство', 9.3203125), ('itons', 9.3046875), ('avorite', 8.9921875), ('vod', 8.6484375), ('\\xa0$', 8.609375)]}, 12: {1: [('лии', 8.9453125), ('htt', 8.4453125), (' ', 8.421875), ('集中', 8.09375), ('uren', 8.0546875)], 13: [('ili', 10.71875), ('ници', 10.15625), (' excit', 9.4296875), ('Sales', 9.0546875), ('Va', 8.84375)], 14: [('棒', 9.578125), ('联合', 9.5), ('cons', 9.1875), ('Campo', 8.6875), ('enden', 8.5625)], 18: [('anse', 8.8515625), ('aris', 8.5390625), ('scription', 8.3359375), ('jans', 8.125), ('xspace', 8.0703125)], 29: [('чани', 8.3046875), ('mess', 8.28125), (' buck', 8.1953125), ('-)', 7.9453125), ('ightful', 7.7734375)], 39: [('мей', 9.90625), ('ار', 9.65625), ('olia', 9.484375), ('СС', 9.28125), ('aried', 9.15625)]}, 11: {3: [('ферата', 9.15625), ('inched', 8.984375), ('etas', 8.8359375), ('ael', 7.9921875), ('��', 7.95703125)], 19: [('alet', 8.96875), ('野', 8.1953125), ('led', 8.1875), ('бал', 8.1796875), (' Fab', 8.0390625)], 38: [('offs', 8.4765625), ('esi', 8.3828125), (' република', 8.3125), ('Texto', 8.28125), ('房贷', 8.1328125)], 47: [('loga', 9.453125), ('检', 9.0), ('fia', 8.3125), ('мия', 7.7265625), ('hook', 7.5078125)], 55: [(' Мона', 10.3984375), ('atoris', 9.84375), ('ifici', 8.8984375), ('浆', 8.703125), ('Protocols', 8.5)], 60: [('鸿', 13.046875), ('华尔', 11.4453125), ('scribe', 9.359375), ('ксо', 9.2265625), ('bells', 9.03125)]}, 9: {7: [('ivery', 9.5859375), ('凡', 8.53125), ('COPY', 8.4609375), ('亮', 8.1953125), ('scor', 8.015625)], 19: [('fron', 8.8046875), ('Sy', 8.4296875), (' Sy', 8.4140625), ('不明', 8.1015625), ('популяр', 7.921875)], 47: [('obile', 8.84375), (' s', 8.4765625), ('кос', 8.28125), ('falls', 8.1328125), ('希', 8.0390625)], 51: [('威', 10.1171875), (' Basc', 9.9453125), ('дава', 8.4609375), ('ogun', 8.28125), (\" ':\", 8.125)], 54: [('fed', 9.0546875), ('ya', 8.8671875), ('rary', 8.5390625), ('oons', 8.421875), ('配合', 8.328125)], 60: [('yson', 9.6796875), ('ifact', 9.6484375), (' hand', 9.3671875), ('mide', 9.15625), ('tua', 9.03125)]}, 7: {14: [('�', 8.8984375), ('alog', 8.859375), ('nga', 8.4765625), (' earthqu', 8.453125), ('шън', 8.3671875)], 19: [('тери', 10.5078125), ('ява', 10.1171875), (' Tolosa', 10.0546875), ('LOB', 9.7265625), ('ranos', 9.1484375)], 44: [('oples', 9.2578125), ('3', 8.9765625), ('ius', 8.8984375), ('лом', 8.3515625), ('2', 8.328125)], 46: [('穿', 9.84375), ('lic', 8.890625), ('abe', 8.3984375), ('is', 8.3515625), ('isf', 8.234375)], 48: [(' ', 9.015625), ('cosh', 8.34375), ('dig', 8.171875), ('斗', 8.1484375), ('nay', 8.078125)], 62: [('.(*', 10.4765625), ('ypse', 10.3984375), ('izen', 8.578125), ('мин', 8.0078125), ('Tai', 7.77734375)]}, 13: {14: [('íř', 10.3828125), ('�', 9.515625), ('HEMA', 9.4765625), ('brities', 9.03125), ('开花', 8.78125)], 15: [('Ex', 8.8359375), ('ъл', 8.59375), ('слу', 8.53125), ('哪一个', 8.2265625), ('ally', 8.1640625)], 18: [('anci', 10.0234375), (' опълченец', 9.890625), ('Balancer', 9.2109375), ('�乐', 8.8828125), ('encial', 8.828125)], 39: [('artney', 10.3203125), ('anies', 10.046875), ('Arque', 10.0078125), (' derro', 9.625), ('acam', 9.4296875)], 41: [('lein', 10.2109375), ('lob', 8.859375), ('AME', 8.2734375), ('ridor', 8.203125), ('9', 8.0625)], 46: [('aler', 8.7109375), ('isat', 8.59375), ('patcher', 8.3515625), ('uben', 8.2734375), ('atis', 7.99609375)]}, 14: {14: [('ijo', 9.8671875), ('TRIB', 9.0390625), (' balls', 8.3515625), (' sexuals', 8.2890625), (' Llista', 8.25)], 15: [('设', 9.2109375), ('луб', 8.703125), ('umst', 8.375), (' themselves', 8.125), ('удо', 8.0234375)], 19: [(' --></', 8.1875), ('�', 8.09375), ('сене', 7.859375), ('emes', 7.81640625), ('harp', 7.7265625)], 39: [('olia', 11.5), (' cedit', 11.0703125), ('cmidrule', 10.1875), ('ORK', 10.0703125), ('cmark', 9.875)], 41: [('subNav', 9.8203125), ('geu', 9.0078125), ('[--]', 8.6328125), (' Мей', 8.6015625), ('--\">', 8.4765625)], 62: [('bera', 10.1328125), ('writeField', 9.3125), ('мпи', 9.265625), ('ipage', 9.2421875), ('itons', 9.0)]}, 16: {14: [('atoris', 8.96875), ('undos', 8.8671875), ('Lan', 8.7421875), ('itats', 8.6875), ('Eqn', 8.5859375)], 15: [('iores', 9.421875), ('hend', 8.7734375), ('tym', 8.7734375), (' --', 8.40625), ('render', 8.3984375)], 19: [(' Cicer', 10.2734375), ('omor', 9.5), ('деля', 8.8671875), (' голе', 8.8671875), ('топ', 8.75)], 34: [('mani', 9.2109375), ('rona', 9.0859375), ('ე�', 8.84375), ('POLICY', 8.828125), ('zk', 8.625)], 56: [('element', 10.2421875), ('icle', 10.203125), ('icles', 9.71875), (' оку', 9.0546875), (' element', 8.40625)], 61: [('ICA', 9.796875), ('袭', 8.328125), ('uat', 8.1640625), (' Lloc', 7.92578125), ('惜', 7.890625)]}, 15: {15: [('WEBPACK', 10.2109375), ('че', 9.9375), ('iger', 9.078125), ('冲洗', 8.9140625), ('СКА', 8.765625)], 22: [('uada', 9.8984375), ('escor', 9.8671875), ('rue', 9.578125), ('opot', 9.125), ('痕', 9.046875)], 28: [(' Николов', 8.6484375), ('ogh', 8.6171875), ('�', 8.5703125), ('社会上', 8.3984375), (' nV', 8.1328125)], 47: [('anyes', 9.15625), (' LW', 8.5703125), ('sources', 8.015625), ('нали', 7.98828125), ('踪', 7.95703125)], 51: [('стви', 9.0078125), ('роко', 8.265625), ('ily', 8.1171875), (' whole', 8.0234375), ('ynam', 7.7421875)], 60: [('MRS', 9.8359375), ('denly', 8.8515625), ('icina', 8.796875), ('erg', 8.46875), ('дения', 8.375)]}}\n",
      "Shared expert predictions: [[('osure', 0.281982421875), ('unknownFields', 0.270751953125), ('�乐', 0.2705078125), ('inced', 0.2666015625), ('lada', 0.26611328125)], [('лата', 0.70556640625), ('ASA', 0.609375), ('着手', 0.59912109375), ('ografies', 0.58447265625), ('徘', 0.58349609375)], [('armed', 0.77099609375), (' R', 0.736328125), (' (', 0.72119140625), ('徘徊', 0.673828125), (' C', 0.66748046875)], [('�', 0.7822265625), ('arma', 0.72314453125), ('徘徊', 0.7158203125), ('ijo', 0.71044921875), ('жени', 0.70361328125)], [('sev', 0.82470703125), ('DES', 0.80810546875), (' Advertis', 0.80419921875), ('\"><!--', 0.76611328125), ('Ide', 0.74951171875)], [(' dispos', 0.916015625), ('onomia', 0.8974609375), (' Czar', 0.8583984375), ('ORS', 0.84375), ('IZ', 0.8408203125)], [('SSA', 0.76220703125), ('AGA', 0.755859375), ('1', 0.69677734375), ('9', 0.689453125), ('5', 0.6787109375)], [(' Astr', 0.70458984375), (' (', 0.67822265625), ('retch', 0.66357421875), (' Cam', 0.6630859375), (' mod', 0.65966796875)], [('retch', 0.84130859375), ('�', 0.8408203125), ('群', 0.74755859375), ('pica', 0.74609375), ('�', 0.724609375)], [('集', 0.908203125), ('sel', 0.89501953125), ('选', 0.86865234375), (' http', 0.85205078125), ('疏', 0.849609375)], [('ke', 0.78076171875), ('ripple', 0.748046875), ('ites', 0.71923828125), ('选', 0.716796875), ('敷', 0.66650390625)], [(' i', 0.814453125), (' mod', 0.79296875), ('craft', 0.78466796875), (' ', 0.78076171875), ('erate', 0.77294921875)], [(' сме', 0.8642578125), ('Mixin', 0.8359375), ('mixing', 0.8232421875), (' mixed', 0.78515625), ('OUS', 0.77880859375)], [('Mixin', 0.9873046875), ('OTH', 0.88720703125), ('чества', 0.88037109375), ('bur', 0.8779296875), (' сме', 0.87646484375)], [('стира', 0.93994140625), ('ilk', 0.931640625), ('ripple', 0.90966796875), ('ovent', 0.90966796875), ('nest', 0.9091796875)], [('rats', 0.97900390625), (' conjunt', 0.93017578125), ('曲', 0.892578125), ('sics', 0.87548828125), ('лага', 0.8740234375)], [('sics', 0.85009765625), ('bur', 0.81640625), ('apac', 0.7744140625), ('лад', 0.7666015625), ('esca', 0.7568359375)]]\n",
      "\n",
      "MoE Layer 11:\n",
      "Selected experts: [[24, 42, 53, 2, 37, 58], [14, 58, 38, 28, 54, 2], [28, 40, 15, 10, 52, 63], [28, 41, 36, 51, 38, 15], [28, 10, 4, 25, 50, 15], [50, 10, 28, 55, 15, 63], [46, 42, 24, 38, 62, 49], [16, 27, 28, 15, 19, 7], [7, 47, 18, 15, 27, 28], [10, 52, 15, 20, 59, 46], [35, 27, 19, 51, 7, 16], [52, 10, 59, 3, 46, 15], [28, 1, 55, 48, 61, 58], [61, 28, 48, 7, 16, 27], [7, 61, 15, 27, 4, 16], [10, 15, 52, 4, 50, 59], [19, 27, 35, 61, 32, 59]]\n",
      "Expert weights: [[0.1251220703125, 0.061431884765625, 0.045562744140625, 0.0445556640625, 0.043914794921875, 0.0411376953125], [0.13818359375, 0.1351318359375, 0.0867919921875, 0.053924560546875, 0.04681396484375, 0.042205810546875], [0.07373046875, 0.06268310546875, 0.08343505859375, 0.060882568359375, 0.056304931640625, 0.04168701171875], [0.121826171875, 0.07916259765625, 0.056884765625, 0.044189453125, 0.03759765625, 0.034515380859375], [0.132080078125, 0.1065673828125, 0.0765380859375, 0.0694580078125, 0.04669189453125, 0.043212890625], [0.042938232421875, 0.07110595703125, 0.047607421875, 0.041961669921875, 0.0728759765625, 0.036468505859375], [0.0587158203125, 0.09222412109375, 0.05645751953125, 0.05462646484375, 0.0543212890625, 0.05316162109375], [0.0556640625, 0.07177734375, 0.06427001953125, 0.1339111328125, 0.053955078125, 0.053009033203125], [0.0645751953125, 0.060821533203125, 0.060455322265625, 0.05767822265625, 0.057525634765625, 0.05426025390625], [0.1416015625, 0.2490234375, 0.072021484375, 0.061981201171875, 0.0396728515625, 0.0264739990234375], [0.11077880859375, 0.06317138671875, 0.0694580078125, 0.0960693359375, 0.060150146484375, 0.058074951171875], [0.2353515625, 0.1629638671875, 0.0628662109375, 0.047637939453125, 0.03961181640625, 0.032745361328125], [0.2039794921875, 0.1119384765625, 0.1082763671875, 0.10516357421875, 0.075927734375, 0.04345703125], [0.147216796875, 0.0994873046875, 0.0821533203125, 0.0762939453125, 0.0633544921875, 0.04510498046875], [0.08563232421875, 0.18212890625, 0.0731201171875, 0.054168701171875, 0.041168212890625, 0.0394287109375], [0.1578369140625, 0.11328125, 0.1717529296875, 0.03533935546875, 0.0313720703125, 0.0300445556640625], [0.1090087890625, 0.09344482421875, 0.09735107421875, 0.04449462890625, 0.03717041015625, 0.033935546875]]\n",
      "Combined output tokens: [[('一笔', 0.50537109375), ('enys', 0.48291015625), ('жени', 0.477783203125), ('IQUE', 0.4462890625), ('zem', 0.431884765625)], [('цев', 0.900390625), (' legals', 0.87255859375), ('才华', 0.857421875), ('RQ', 0.84716796875), ('meros', 0.83837890625)], [('atedral', 1.0927734375), ('ACES', 1.0185546875), ('ionista', 1.0146484375), ('rowse', 1.00390625), ('anera', 0.974609375)], [('venin', 1.06640625), (' (--)', 1.0615234375), ('fron', 1.0615234375), ('仅代表作者本人观点', 1.05859375), ('adel', 1.021484375)], [('мври', 1.322265625), ('chaff', 1.3154296875), ('aban', 1.2880859375), ('setContent', 1.255859375), ('蔚', 1.2158203125)], [('opam', 1.0166015625), ('届', 0.94482421875), ('spir', 0.9443359375), ('они', 0.94091796875), ('��', 0.9375)], [('建华', 0.5048828125), ('IRE', 0.498779296875), ('цев', 0.495849609375), ('ZA', 0.481201171875), ('arks', 0.476806640625)], [(\"<'\", 1.529296875), ('Вън', 1.400390625), ('aresme', 1.369140625), ('NonUser', 1.298828125), ('Съби', 1.2822265625)], [('лец', 1.0537109375), (' Lord', 1.0224609375), ('tage', 0.9892578125), ('�', 0.9501953125), ('opam', 0.94775390625)], [('连连', 1.9892578125), ('iasm', 1.939453125), ('ottom', 1.9033203125), ('azed', 1.8681640625), ('eway', 1.8447265625)], [(' recol', 1.5029296875), ('Discussion', 1.5029296875), ('ACC', 1.4189453125), ('erior', 1.40625), (' COS', 1.3330078125)], [('вода', 2.4375), ('特', 2.138671875), ('ъ', 2.037109375), ('itis', 2.001953125), ('raph', 1.994140625)], [(' SO', 1.8984375), ('SO', 1.7861328125), (' So', 1.6298828125), (' SW', 1.4912109375), ('UB', 1.46484375)], [('Brows', 1.66015625), ('Catal', 1.5830078125), ('olt', 1.57421875), (' o', 1.564453125), ('ServiceClient', 1.5380859375)], [(' пореди', 2.578125), ('ilets', 2.39453125), ('LOGGER', 2.302734375), ('connections', 2.294921875), ('горе', 2.2578125)], [('cesi', 1.9814453125), ('ishop', 1.978515625), ('nesi', 1.9501953125), ('theo', 1.921875), ('Македония', 1.9052734375)], [('后赛', 1.736328125), ('вели', 1.6416015625), ('ReadWriteAccess', 1.6416015625), ('DebuggerNonUser', 1.6220703125), ('amina', 1.5810546875)]]\n",
      "Expert predictions by position: {12: {1: [('sm', 9.4765625), ('ardu', 9.2734375), ('мии', 9.1953125), ('elen', 9.1484375), ('SM', 8.5)], 28: [('acord', 8.8984375), (' Цар', 8.6953125), ('ерман', 8.671875), ('кра', 8.640625), ('бий', 8.2734375)], 48: [('轼', 9.859375), (' близо', 9.3984375), ('湃', 8.9375), ('сители', 8.828125), ('мър', 8.8046875)], 55: [('imon', 8.6953125), ('TS', 8.5390625), ('标的', 8.515625), (' свети', 8.3515625), (' cau', 8.265625)], 58: [('opsi', 10.1640625), (' $^', 10.015625), ('enys', 9.625), ('Община', 9.3359375), ('ygon', 9.1640625)], 61: [('ignon', 8.9765625), ('斩', 8.734375), ('eeq', 8.6796875), ('foundland', 8.546875), ('geres', 8.3046875)]}, 0: {2: [('HasBeenSet', 9.4140625), ('ront', 9.21875), ('beq', 9.203125), (' AUTHORS', 8.734375), ('aterial', 8.6796875)], 24: [('itespace', 10.4375), ('IntLiteral', 9.3046875), ('adders', 9.1796875), ('utad', 8.75), (' Parties', 8.65625)], 37: [('versation', 9.6796875), ('ymbol', 8.953125), ('zem', 8.40625), ('regon', 8.015625), (' precinct', 7.84375)], 42: [('�', 8.296875), ('enys', 8.234375), ('яна', 8.1015625), (' Изда', 8.09375), ('ndar', 8.0625)], 53: [('emir', 10.59375), ('AMES', 10.265625), ('quot', 9.4296875), ('ravings', 9.171875), ('iat', 8.234375)], 58: [('9', 17.9375), ('8', 17.578125), ('7', 17.359375), ('0', 16.578125), ('2', 16.296875)]}, 1: {2: [('*', 9.859375), ('HR', 9.703125), ('\\n', 9.4921875), ('|', 9.140625), (';', 9.0)], 14: [('阱', 9.421875), ('alguna', 9.015625), ('RQ', 8.796875), ('邑', 8.7265625), ('aried', 8.65625)], 28: [('base', 9.7421875), ('tion', 9.640625), ('Base', 9.171875), (' s', 8.640625), ('杯', 8.6171875)], 38: [('копа', 8.5859375), ('ais', 8.25), ('inently', 8.234375), ('ruz', 7.828125), ('tains', 7.77734375)], 54: [('opl', 9.703125), ('ipp', 9.5546875), ('apo', 8.6796875), ('kes', 8.28125), (' Arm', 7.7421875)], 58: [('DUCT', 10.234375), ('pread', 9.53125), ('ugu', 9.515625), ('后置', 9.453125), ('iferous', 9.3828125)]}, 11: {3: [('rena', 10.4140625), ('hyde', 9.4921875), ('intest', 9.2890625), ('aise', 9.109375), (' dient', 8.8203125)], 10: [('Din', 9.1875), ('ondin', 8.8671875), ('灵', 8.8046875), ('detail', 8.78125), ('afel', 8.7109375)], 15: [('OperationKind', 11.0078125), ('дове', 9.5078125), ('venin', 9.1484375), ('IEEEeqnarray', 8.78125), ('стан', 8.578125)], 46: [('ake', 9.8359375), ('ly', 8.4921875), ('oke', 8.4453125), ('loe', 8.1171875), ('cloud', 8.0390625)], 52: [('ifest', 10.5546875), ('oi', 9.6328125), ('azed', 9.515625), (' нещо', 9.390625), ('assos', 9.0390625)], 59: [(' s', 10.3125), ('uevo', 9.5078125), ('仲', 8.9453125), ('marks', 8.53125), ('assen', 8.453125)]}, 4: {4: [('seys', 9.2421875), ('jas', 9.0390625), ('玻璃', 8.7890625), ('herited', 8.6875), ('中国人', 8.5234375)], 10: [('ertainly', 10.3671875), ('ardown', 10.1171875), ('gable', 9.78125), ('guerra', 9.4296875), ('ETIME', 9.1796875)], 15: [('6', 10.3203125), ('8', 9.6328125), ('9', 8.984375), ('7', 8.921875), ('4', 8.71875)], 25: [('bore', 9.5625), ('polis', 9.375), ('ixos', 9.15625), ('oldt', 8.7421875), ('ool', 8.53125)], 28: [('elong', 9.2421875), ('ogo', 9.21875), ('че', 9.15625), ('reres', 9.140625), ('espan', 9.0859375)], 50: [('рийски', 9.3671875), ('IFI', 9.28125), ('нията', 8.953125), ('бла', 8.9296875), ('acht', 8.8984375)]}, 14: {4: [('nex', 9.34375), ('头', 8.6015625), (' xen', 8.5078125), ('actions', 8.4921875), ('anwhile', 8.3984375)], 7: [('ливо', 9.40625), ('ront', 8.8125), ('opis', 8.625), ('uning', 8.109375), ('стъ', 8.0859375)], 15: [('isodi', 10.234375), ('orema', 9.828125), ('enged', 9.546875), ('inclo', 9.296875), ('entric', 9.015625)], 16: [('�', 8.515625), ('ely', 7.98828125), (' Carp', 7.859375), ('PointerException', 7.8046875), (' Week', 7.58203125)], 27: [('ACI', 9.75), ('Operaci', 8.765625), ('pmd', 8.2890625), ('rinos', 8.2734375), ('icolon', 8.265625)], 61: [('assau', 9.9375), ('inx', 9.171875), ('HING', 9.125), ('ignon', 8.8671875), ('沃', 8.8203125)]}, 15: {4: [('elon', 10.28125), ('ovitch', 9.34375), ('erset', 8.890625), ('巧', 8.859375), ('widetext', 8.828125)], 10: [('ueless', 11.2421875), ('ncia', 9.1015625), ('ocus', 9.0703125), ('6', 8.984375), ('efault', 8.5859375)], 15: [('位的', 10.1328125), ('位', 10.1171875), ('raf', 9.4765625), ('aner', 9.234375), ('爷', 8.9140625)], 50: [('黎', 8.921875), ('garh', 8.1484375), ('�', 8.015625), ('podes', 7.99609375), ('忘记', 7.8984375)], 52: [('/', 11.796875), ('ized', 9.6171875), ('-/', 9.1015625), ('зира', 9.0546875), ('ise', 9.015625)], 59: [('uevo', 9.8828125), ('iture', 9.3359375), ('дир', 9.0234375), ('mark', 8.8515625), ('quilla', 8.4296875)]}, 7: {7: [('тей', 11.5546875), ('pery', 10.0703125), ('коп', 9.21875), (' подно', 9.1328125), ('IMP', 9.09375)], 15: [('女的', 9.1875), ('swer', 8.0390625), ('间隙', 7.92578125), ('<\\\\/', 7.85546875), ('enia', 7.83203125)], 16: [('抵', 9.484375), ('ровка', 9.21875), (' recol', 8.1953125), ('digo', 7.80078125), ('pte', 7.74609375)], 19: [('undos', 10.6640625), ('CharacterOffset', 9.5234375), ('agues', 8.8984375), ('aina', 8.7265625), ('aching', 8.71875)], 27: [('da', 9.46875), ('ped', 9.2265625), ('inally', 8.65625), ('ded', 8.5625), ('ас', 8.5234375)], 28: [('tion', 10.9296875), ('on', 9.734375), (' s', 8.890625), ('Not', 8.1640625), ('init', 8.125)]}, 8: {7: [('Sa', 8.9765625), ('阅', 8.8203125), ('ower', 8.8203125), ('不服', 8.8046875), ('(--', 8.2421875)], 15: [('tility', 10.296875), ('Protos', 9.8671875), ('uvi', 9.34375), ('balena', 9.1328125), ('artistes', 9.0859375)], 18: [('стата', 9.359375), ('efe', 9.046875), ('мунд', 8.453125), (' therewith', 8.3984375), ('reff', 8.296875)], 27: [('altre', 9.7890625), ('适', 9.71875), ('istros', 8.8125), ('iculo', 8.7421875), ('法》', 8.6484375)], 28: [(' j', 10.0546875), (' d', 9.3203125), (' c', 9.1875), ('常', 8.7734375), ('埠', 8.7109375)], 47: [('Окръг', 11.265625), ('upost', 11.046875), ('recks', 10.625), (\"__':\", 10.3125), ('::__', 9.578125)]}, 10: {7: [('mob', 9.8828125), ('тича', 9.1015625), ('долу', 8.6953125), ('Mob', 8.6640625), ('gang', 8.5234375)], 16: [('直接', 9.109375), ('IMP', 9.0546875), (' Berenguer', 8.9140625), ('pie', 8.3515625), ('IPT', 8.125)], 19: [('тика', 10.0625), ('acles', 9.734375), ('Окръг', 9.71875), (' Кън', 9.421875), ('tingu', 9.0859375)], 27: [('null', 9.375), ('чат', 9.25), ('icula', 8.984375), ('pmd', 8.90625), ('槛', 8.3671875)], 35: [('OND', 10.2109375), ('ampp', 9.3203125), ('fusc', 9.296875), ('ugal', 9.25), ('isca', 8.984375)], 51: [('ollar', 8.6796875), ('ogh', 8.6328125), ('arcode', 8.515625), ('altColor', 8.3125), ('яко', 8.203125)]}, 13: {7: [('indicat', 9.9296875), ('ecost', 8.921875), ('ExternalTask', 8.921875), ('ливо', 8.8671875), ('Македония', 8.4453125)], 16: [('pter', 10.078125), ('PRL', 8.4765625), ('ocity', 8.4140625), ('ELY', 8.375), ('IRM', 8.3046875)], 27: [('卓', 8.2265625), ('保时', 8.078125), ('--', 8.0703125), ('烹', 8.0546875), (' epid', 7.921875)], 28: [('erol', 9.953125), ('derr', 9.375), ('reau', 9.2890625), ('adr', 9.21875), ('etr', 8.859375)], 48: [(' no', 11.8515625), ('гау', 10.421875), (' заповед', 8.8046875), ('anners', 8.7578125), ('чар', 8.7265625)], 61: [(' пореди', 11.34375), ('3', 9.6171875), ('4', 9.5), ('1', 8.65625), ('ilets', 8.53125)]}, 2: {10: [('idesa', 9.671875), ('isor', 8.4375), ('jats', 8.25), ('ام', 8.2421875), (' Puedes', 8.171875)], 15: [('OLE', 10.625), ('ErrorReason', 10.25), ('мене', 9.9609375), ('寨', 9.5390625), ('altColor', 9.4921875)], 28: [('idea', 8.3359375), ('jn', 8.265625), ('irons', 8.2265625), ('�', 8.1640625), ('=\"../_', 7.86328125)], 40: [('orat', 10.296875), ('iterr', 10.0390625), ('imod', 9.7578125), ('тората', 9.6640625), ('ailable', 9.640625)], 52: [('tofore', 9.25), ('рали', 8.9921875), ('egraphics', 8.734375), ('特', 8.703125), ('imeo', 8.5703125)], 63: [('ameter', 9.78125), ('chevron', 8.8203125), ('ilyn', 8.4765625), ('�', 8.2734375), ('�', 7.8828125)]}, 5: {10: [(' вра', 9.0546875), ('3', 8.3359375), ('GL', 8.21875), ('ideon', 8.1953125), ('9', 8.125)], 15: [('obert', 9.65625), ('iceroy', 9.6171875), ('meres', 8.7421875), ('accio', 8.734375), ('ebly', 8.6328125)], 28: [('��', 9.3984375), ('ir', 8.7265625), ('chin', 8.59375), ('梅', 8.578125), ('iria', 8.5078125)], 50: [(' xif', 9.015625), ('isin', 8.8515625), ('ovski', 8.84375), ('isting', 8.5546875), ('XT', 8.25)], 55: [(' P', 9.859375), (' H', 9.3828125), (' Br', 8.875), ('рие', 8.359375), ('4', 8.3515625)], 63: [('roqu', 12.046875), ('iid', 9.4140625), ('Вън', 9.359375), ('rocal', 9.265625), (' вода', 9.046875)]}, 9: {10: [('ultor', 11.8359375), ('蜘', 9.484375), ('olester', 9.421875), ('�', 9.3515625), ('啡', 9.3359375)], 15: [('рок', 9.75), ('zzi', 8.4921875), ('eses', 7.984375), ('става', 7.89453125), ('DebuggerNonUser', 7.8828125)], 20: [('eqno', 10.2578125), ('��', 9.8046875), ('widet', 9.46875), ('евру', 9.109375), ('StyleID', 9.03125)], 46: [('ile', 9.921875), ('ide', 9.2578125), ('uel', 8.5390625), ('ili', 8.46875), ('рав', 8.4140625)], 52: [('ecost', 10.4765625), ('вайг', 9.921875), ('cesi', 9.8671875), ('клопе', 9.7578125), ('aviera', 9.6484375)], 59: [('webupd', 10.4140625), ('valign', 9.6640625), (' Шампион', 8.7421875), ('itters', 8.578125), ('帜', 8.328125)]}, 3: {15: [('iless', 8.921875), ('扎', 8.8515625), ('科', 8.484375), ('лю', 8.28125), ('实', 8.1796875)], 28: [(' J', 9.8125), (' j', 8.8671875), ('rs', 8.5390625), ('博', 8.40625), ('4', 8.375)], 36: [('出口', 10.125), ('хрид', 9.296875), ('йд', 8.46875), (' Около', 8.4609375), ('harpoon', 8.4375)], 38: [('5', 10.2890625), ('0', 9.734375), ('2', 9.3671875), ('rose', 9.25), ('art', 9.125)], 41: [('ulic', 9.109375), (' Български', 8.9921875), ('Dual', 8.921875), ('penet', 8.8515625), ('草案', 8.7265625)], 51: [('eqno', 10.625), ('arent', 10.3125), ('arlas', 9.7890625), ('omorf', 9.28125), ('arreg', 9.078125)]}, 16: {19: [('aching', 9.7421875), ('3', 9.46875), ('1', 9.265625), ('чини', 9.2578125), ('2', 9.015625)], 27: [('ffi', 9.0859375), ('abras', 9.0703125), ('不长', 8.765625), ('供', 8.7578125), ('�', 8.7421875)], 32: [('肯', 9.3828125), ('兰达', 8.859375), ('hire', 8.1640625), ('fono', 8.15625), ('locar', 8.140625)], 35: [('稣', 10.515625), (' MERCHANTABILITY', 10.3203125), ('ugal', 9.6328125), ('rits', 9.4296875), ('rdia', 9.21875)], 59: [(' tals', 9.2421875), ('ithium', 8.953125), (' andalus', 8.9140625), ('iami', 8.671875), ('sembl', 8.5859375)], 61: [('7', 11.0234375), ('4', 9.8359375), ('拓', 9.4921875), ('1', 9.3515625), ('6', 9.203125)]}, 6: {24: [('lada', 10.9140625), ('isov', 8.7890625), ('撒', 8.65625), ('rucci', 8.453125), ('刚', 8.203125)], 38: [('��', 9.1015625), ('墓', 8.8828125), (' Bre', 8.59375), ('brevi', 8.5859375), ('atedr', 8.3828125)], 42: [('xon', 11.703125), ('ampion', 10.5), (' Floor', 9.640625), (' dades', 9.2421875), (' Borde', 9.171875)], 46: [(' log', 9.4453125), ('apef', 8.171875), ('hop', 7.94921875), ('ק', 7.55859375), ('wave', 7.5)], 49: [('��', 11.375), ('юн', 10.0859375), ('iclop', 9.796875), ('itemap', 9.7578125), ('ляр', 8.9609375)], 62: [('бител', 11.1328125), ('riol', 8.8046875), (' us', 8.796875), ('orney', 8.7890625), ('phins', 8.3125)]}}\n",
      "Shared expert predictions: [[('一笔', 0.40234375), ('ORA', 0.39697265625), (' Qgs', 0.396728515625), ('жени', 0.380859375), ('alleled', 0.362060546875)], [('sem', 0.6494140625), ('妊', 0.62158203125), ('threshold', 0.6181640625), ('Annot', 0.5986328125), ('CENT', 0.5869140625)], [('arthed', 0.7333984375), ('ionista', 0.7099609375), ('urats', 0.70751953125), ('irtual', 0.68798828125), ('adu', 0.673828125)], [('xiously', 0.74560546875), ('eles', 0.7421875), (' Римска', 0.7412109375), ('仅代表作者本人观点', 0.72998046875), ('fron', 0.72216796875)], [('\"><!--', 0.8251953125), (\"<'\", 0.76220703125), ('unya', 0.76123046875), ('ugosl', 0.75830078125), ('��', 0.75537109375)], [('wered', 0.8828125), (' sdb', 0.783203125), ('opam', 0.78271484375), ('蹈', 0.7724609375), (' aspir', 0.7685546875)], [('0', 0.521484375), ('4', 0.5166015625), ('IRE', 0.501953125), ('3', 0.487548828125), ('6', 0.482177734375)], [('aresme', 1.0361328125), ('opam', 0.95068359375), ('NOSCRIPT', 0.91796875), ('SPHIN', 0.880859375), ('wered', 0.80810546875)], [(' incl', 0.82861328125), ('opam', 0.80712890625), ('repr', 0.71826171875), (' Lord', 0.71728515625), ('wered', 0.7119140625)], [('一再', 0.76513671875), ('ORA', 0.72705078125), ('ovna', 0.72509765625), ('连连', 0.7197265625), ('稀', 0.71337890625)], [('нета', 0.77587890625), ('лец', 0.7587890625), ('ACC', 0.75732421875), ('wered', 0.73681640625), ('ORA', 0.7216796875)], [(' dit', 0.8759765625), ('wered', 0.8173828125), ('ORS', 0.7998046875), ('raz', 0.79345703125), (' SP', 0.7880859375)], [('�', 1.021484375), ('->__', 0.912109375), ('bottle', 0.85107421875), ('mesa', 0.79150390625), ('ollary', 0.7900390625)], [('ses', 0.87646484375), ('木齐', 0.80224609375), ('rag', 0.77490234375), (' спа', 0.74560546875), ('rte', 0.73193359375)], [('лец', 0.95849609375), ('��', 0.91650390625), ('木齐', 0.87548828125), ('轼', 0.81591796875), (' monom', 0.79931640625)], [('endem', 0.919921875), ('meres', 0.8291015625), ('mesa', 0.81787109375), ('wara', 0.79541015625), ('COPY', 0.77392578125)], [('acam', 0.76708984375), ('agio', 0.76318359375), ('лец', 0.74560546875), ('dures', 0.73876953125), ('rale', 0.734375)]]\n",
      "\n",
      "MoE Layer 12:\n",
      "Selected experts: [[36, 1, 33, 48, 50, 17], [54, 21, 33, 42, 46, 56], [32, 60, 31, 36, 54, 7], [0, 54, 32, 40, 22, 51], [32, 55, 2, 31, 13, 0], [13, 54, 59, 46, 32, 30], [33, 39, 30, 8, 43, 1], [13, 37, 41, 0, 4, 35], [7, 13, 41, 37, 30, 60], [32, 37, 2, 31, 6, 41], [0, 37, 32, 41, 62, 13], [2, 5, 37, 32, 6, 36], [15, 59, 58, 29, 22, 4], [22, 39, 58, 35, 29, 41], [13, 39, 41, 42, 7, 8], [32, 6, 13, 2, 31, 45], [8, 13, 39, 0, 34, 10]]\n",
      "Expert weights: [[0.54541015625, 0.02099609375, 0.02435302734375, 0.0247344970703125, 0.01971435546875, 0.0176849365234375], [0.1640625, 0.1627197265625, 0.1181640625, 0.09625244140625, 0.06646728515625, 0.04217529296875], [0.11572265625, 0.048492431640625, 0.05340576171875, 0.043853759765625, 0.12060546875, 0.029937744140625], [0.092041015625, 0.1773681640625, 0.06317138671875, 0.04156494140625, 0.0330810546875, 0.0272369384765625], [0.1636962890625, 0.041961669921875, 0.1107177734375, 0.1024169921875, 0.095458984375, 0.037872314453125], [0.1260986328125, 0.06317138671875, 0.04925537109375, 0.04278564453125, 0.037933349609375, 0.0361328125], [0.1748046875, 0.06243896484375, 0.06219482421875, 0.04144287109375, 0.03961181640625, 0.038177490234375], [0.211181640625, 0.137451171875, 0.0545654296875, 0.04083251953125, 0.035797119140625, 0.02801513671875], [0.052520751953125, 0.098388671875, 0.052093505859375, 0.14599609375, 0.05145263671875, 0.044219970703125], [0.1900634765625, 0.1116943359375, 0.0638427734375, 0.049102783203125, 0.04046630859375, 0.036773681640625], [0.1900634765625, 0.14892578125, 0.055755615234375, 0.05450439453125, 0.0509033203125, 0.04840087890625], [0.1707763671875, 0.109619140625, 0.09979248046875, 0.059295654296875, 0.04742431640625, 0.0352783203125], [0.11773681640625, 0.09613037109375, 0.09722900390625, 0.09820556640625, 0.06060791015625, 0.051544189453125], [0.042572021484375, 0.045379638671875, 0.1373291015625, 0.0433349609375, 0.0635986328125, 0.037445068359375], [0.04541015625, 0.1976318359375, 0.047454833984375, 0.043121337890625, 0.040191650390625, 0.039703369140625], [0.10797119140625, 0.10302734375, 0.07379150390625, 0.050079345703125, 0.039886474609375, 0.0287017822265625], [0.0885009765625, 0.085693359375, 0.0771484375, 0.0714111328125, 0.066162109375, 0.062469482421875]]\n",
      "Combined output tokens: [[('idera', 2.78515625), ('frak', 2.775390625), ('jem', 2.7421875), ('яна', 2.673828125), (' fres', 2.669921875)], [(' смет', 1.4951171875), ('亿亿亿亿', 1.453125), ('чик', 1.451171875), ('旋', 1.4228515625), ('ymour', 1.4208984375)], [(' EXT', 1.15625), ('�', 1.083984375), ('лова', 1.078125), ('loop', 1.078125), ('Loop', 1.076171875)], [(' Ctrl', 1.28515625), (' Ard', 1.146484375), ('煌', 1.115234375), ('强大', 1.11328125), ('为民', 1.1083984375)], [('�', 1.53125), ('解', 1.349609375), ('孤单', 1.3427734375), ('азар', 1.3330078125), (' inj', 1.3251953125)], [('��', 1.4755859375), ('Habitants', 1.2861328125), ('歧', 1.1689453125), ('陷入', 1.1572265625), (';->', 1.130859375)], [('fons', 0.61181640625), ('ი�', 0.6005859375), (' gate', 0.59765625), ('CCA', 0.57080078125), ('uelen', 0.56689453125)], [(' Se', 1.7314453125), ('etat', 1.7265625), (' separable', 1.7080078125), ('рад', 1.5849609375), (' Ex', 1.544921875)], [('怨', 1.7724609375), (' Se', 1.6923828125), ('号码', 1.638671875), ('nels', 1.63671875), (' triomf', 1.5966796875)], [('ailability', 1.958984375), ('мост', 1.9462890625), ('дните', 1.8232421875), ('asty', 1.7275390625), ('ycl', 1.7138671875)], [('тник', 1.9267578125), (' успе', 1.8291015625), ('要说', 1.76953125), (' Guin', 1.6923828125), ('�', 1.6796875)], [('�', 1.7275390625), ('ogo', 1.611328125), (' triom', 1.5693359375), ('жени', 1.52734375), ('Discussion', 1.5146484375)], [('奉', 1.78515625), ('ahr', 1.76171875), ('锈钢', 1.6064453125), ('UBE', 1.5986328125), ('orno', 1.5966796875)], [(' an', 1.703125), (' B', 1.541015625), (' b', 1.52734375), ('B', 1.490234375), ('ISR', 1.421875)], [('iph', 1.6376953125), ('ide', 1.5546875), ('DR', 1.5166015625), ('etat', 1.3974609375), ('HQ', 1.3955078125)], [('tically', 1.921875), ('ALLY', 1.7841796875), ('ODO', 1.6845703125), ('fmf', 1.68359375), (' Ама', 1.66015625)], [('тура', 1.5546875), ('acic', 1.4775390625), ('达人', 1.4091796875), ('博物', 1.376953125), ('гар', 1.3662109375)]]\n",
      "Expert predictions by position: {3: {0: [('�', 9.6875), ('гур', 8.765625), ('绕', 8.4140625), ('idus', 8.078125), ('梗', 8.03125)], 22: [(' гео', 7.98828125), (' Бар', 7.9375), ('enh', 7.9140625), ('巴克', 7.8828125), ('анс', 7.859375)], 32: [('allet', 9.9765625), ('efore', 8.640625), ('everal', 8.5625), ('сира', 8.4765625), (' Curve', 8.390625)], 40: [('Sim', 7.9609375), ('тник', 7.75), (' Q', 7.71484375), ('班', 7.59765625), ('IF', 7.5703125)], 51: [('usher', 9.40625), ('кус', 9.3828125), ('sov', 9.0703125), ('доб', 8.90625), ('tles', 8.8125)], 54: [(' почи', 9.1328125), ('piece', 8.9296875), ('lou', 8.828125), ('6', 8.734375), ('era', 8.65625)]}, 4: {0: [('odes', 10.2890625), ('ode', 9.6953125), ('лд', 8.3828125), (' personalitat', 8.2265625), (' pro', 8.171875)], 2: [(' mean', 9.6328125), ('mean', 9.5390625), (' Mean', 8.8515625), ('юза', 8.84375), ('YA', 8.7109375)], 13: [('CodeAttribute', 8.8671875), (' Bour', 8.5703125), ('会计', 8.28125), (' tarda', 8.2734375), ('леми', 8.1875)], 31: [('hered', 8.9921875), ('opher', 8.921875), ('频', 8.0859375), ('乍', 8.0546875), ('дето', 7.9453125)], 32: [('oche', 9.59375), ('�', 8.875), (' Кън', 8.5390625), ('лят', 8.1640625), ('~(\\\\', 8.0703125)], 55: [('хт', 8.8203125), ('ť', 8.3359375), ('ava', 8.1953125), ('mesos', 8.078125), ('伸', 8.015625)]}, 7: {0: [('itari', 10.0546875), ('�乐', 9.4765625), ('�', 9.046875), (' неиз', 8.7421875), ('ambles', 8.6875)], 4: [('olev', 10.6953125), ('imos', 9.421875), ('comprehens', 8.953125), ('呼', 8.8203125), ('ingo', 8.375)], 13: [('惕', 9.484375), ('ensed', 9.03125), ('ellation', 8.8125), ('pora', 8.421875), ('рд', 8.28125)], 35: [('imil', 9.4140625), ('imi', 9.296875), ('韧', 8.359375), (' мрежа', 8.3515625), ('vnc', 8.2578125)], 37: [('olate', 8.671875), ('ibol', 8.25), ('Proof', 8.1015625), ('olated', 8.09375), ('罗拉', 8.0546875)], 41: [('rans', 11.5078125), ('�乐', 10.3203125), ('hetical', 9.203125), ('cakes', 9.0234375), ('лява', 8.8671875)]}, 10: {0: [('дри', 9.453125), ('eble', 8.4453125), ('rodu', 8.2578125), ('тис', 8.203125), ('�', 8.1953125)], 13: [(' експе', 10.6484375), ('ი�', 9.59375), ('colhead', 9.3515625), ('疑', 9.0234375), ('tablen', 8.9921875)], 32: [('eel', 12.2578125), ('立卡', 11.0), ('amixer', 9.296875), ('рни', 8.8515625), ('obox', 8.7578125)], 37: [('ставка', 9.5859375), ('逢', 8.78125), ('要说', 8.1484375), ('忘', 8.1484375), ('一二', 8.0859375)], 41: [('娠', 9.53125), ('ale', 9.4375), ('лата', 9.1015625), ('empl', 9.09375), ('Compos', 8.8828125)], 62: [('pedia', 10.3125), ('iaris', 9.71875), ('ническата', 9.3125), ('loo', 9.234375), ('ATOR', 8.953125)]}, 16: {0: [('或缺', 9.203125), ('mixin', 8.96875), ('уни', 8.453125), ('硬', 8.3359375), ('对方', 8.28125)], 8: [('ilos', 9.3828125), (' aigu', 8.8125), (' [{\\\\', 8.4921875), (' perru', 8.328125), ('osed', 8.2265625)], 10: [('гле', 11.09375), ('ockets', 10.171875), ('什么呢', 9.734375), ('про', 9.5234375), ('allel', 8.9765625)], 13: [('ensed', 10.7578125), ('CLUD', 10.375), ('CodeAttribute', 10.203125), ('ICATION', 10.1640625), ('мври', 9.71875)], 34: [('ivitat', 10.1953125), ('raments', 9.078125), ('ocal', 8.84375), ('umo', 8.46875), ('enga', 8.4375)], 39: [('antro', 10.4375), ('owler', 9.4609375), ('alona', 9.3359375), ('INCT', 8.6953125), ('vous', 8.6640625)]}, 0: {1: [('aviera', 8.7890625), ('бри', 8.3671875), ('iflower', 7.9453125), ('爵', 7.8828125), (' Bulk', 7.84765625)], 17: [('orno', 8.0859375), ('肋', 7.90625), ('浊', 7.19921875), ('spl', 7.19140625), ('Off', 6.921875)], 33: [('rupts', 9.6953125), ('vider', 9.4609375), ('onna', 9.09375), ('rength', 9.0703125), ('私', 8.8671875)], 36: [('idera', 8.875), ('jem', 8.5859375), ('frak', 8.546875), ('яна', 8.2109375), (' fres', 8.203125)], 48: [('7', 10.7890625), ('5', 9.15625), ('8', 8.28125), ('6', 8.2734375), (' M', 8.15625)], 50: [('rinos', 7.2578125), ('кове', 6.62109375), ('kien', 6.56640625), ('hav', 6.4453125), ('раст', 6.421875)]}, 6: {1: [('nections', 8.1171875), ('ugin', 7.93359375), ('apad', 7.45703125), ('受访', 7.41796875), ('icana', 7.4140625)], 8: [('CPTR', 11.203125), ('ulares', 10.515625), ('DOCKED', 10.2265625), ('bserv', 9.1484375), ('wered', 9.078125)], 30: [('arina', 8.46875), (' U', 8.3671875), (' ID', 8.3203125), (' W', 8.265625), (' J', 8.1171875)], 33: [(' ::', 7.7421875), ('列', 7.41015625), ('不行', 7.35546875), ('neighbors', 7.23046875), ('LR', 7.16796875)], 39: [('ide', 9.8671875), ('arris', 8.53125), ('而来的', 8.4453125), ('сков', 8.3828125), ('hod', 8.109375)], 43: [('LOAT', 9.5625), ('arelli', 8.7109375), ('值', 8.59375), ('iums', 8.5703125), ('тира', 8.515625)]}, 9: {2: [('olev', 9.234375), ('Сто', 8.6796875), ('swe', 7.76171875), (' reve', 7.609375), ('Macro', 7.59765625)], 6: [('TOOLSET', 13.734375), ('unknownFields', 11.40625), (\"''\\\\\", 11.125), ('xmlns', 10.6953125), ('ersonals', 10.625)], 31: [('anteria', 9.015625), ('版', 8.796875), ('姆', 8.625), ('refox', 8.578125), ('版的', 8.5390625)], 32: [(' Бал', 9.2265625), ('ume', 9.2109375), ('ели', 8.609375), ('ulsed', 8.4296875), ('�', 8.375)], 37: [('ategoria', 8.703125), ('杞', 8.65625), ('нията', 8.3203125), ('дове', 8.2890625), ('anean', 8.15625)], 41: [('�乐', 11.078125), ('omegran', 10.4296875), ('ificat', 9.1328125), ('urbed', 8.8984375), ('empres', 8.796875)]}, 11: {2: [('apist', 10.359375), ('股', 9.6484375), ('уре', 8.8203125), ('rophy', 8.6875), ('roph', 8.578125)], 5: [('irmat', 9.8828125), ('рени', 9.046875), ('ниците', 8.8046875), ('edit', 8.609375), ('\\u200e', 8.515625)], 6: [('печат', 9.5), ('мерикански', 9.171875), ('фурт', 9.0859375), ('твори', 8.984375), (' aven', 8.8984375)], 32: [('rime', 9.578125), ('entrional', 9.3515625), ('畴', 9.2578125), ('cerning', 9.2109375), ('=\"../../../../', 8.9375)], 36: [(' dec', 9.5), ('LineNo', 8.953125), ('ardown', 8.3984375), ('tym', 8.21875), (' Ord', 8.171875)], 37: [('nels', 9.625), ('号码', 8.5390625), ('сло', 8.125), ('新建', 8.0859375), ('乖', 7.8046875)]}, 15: {2: [('тор', 8.5078125), ('Poblaci', 8.3046875), ('ressin', 8.125), (' Prueba', 8.046875), ('orks', 7.9375)], 6: [('7', 11.9375), ('9', 11.8828125), ('2', 11.78125), ('0', 11.6484375), ('1', 11.4296875)], 13: [('engo', 10.1015625), ('vous', 9.1640625), (' Joventut', 8.7265625), ('sink', 8.671875), ('ugosl', 8.6328125)], 31: [('arent', 9.8203125), ('насти', 9.2109375), ('oice', 9.0390625), ('tues', 8.7578125), (' Ho', 8.5234375)], 32: [('iod', 8.7734375), ('нема', 8.4609375), (' despl', 8.34375), ('旨', 8.265625), ('CIF', 8.09375)], 45: [('₄', 8.984375), ('appa', 8.7578125), ('�乐', 8.609375), ('ifr', 8.5703125), ('кани', 8.328125)]}, 12: {4: [('ANGU', 9.453125), ('仲', 8.8984375), ('рец', 8.875), ('ilar', 8.8671875), (' мина', 8.8515625)], 15: [('Oficina', 8.8046875), ('eral', 8.6953125), ('yan', 8.6328125), ('дата', 8.234375), (' onmouse', 8.1953125)], 22: [('autilus', 10.515625), ('anwhile', 10.4765625), ('TOOLSET', 9.8125), ('phia', 9.8046875), ('roma', 9.734375)], 29: [('郭德', 10.9921875), ('uita', 10.8828125), ('立卡', 10.75), ('ctimes', 9.7421875), ('湃', 9.5234375)], 58: [(' an', 13.6953125), (' a', 12.84375), ('\\ta', 10.0625), (' B', 9.9296875), (' r', 8.9140625)], 59: [('4', 14.140625), ('7', 12.515625), ('3', 12.390625), ('5', 11.9921875), ('9', 11.953125)]}, 2: {7: [('бя', 10.921875), ('cade', 9.8203125), ('cades', 9.6484375), ('aqu', 9.1640625), ('ritz', 9.03125)], 31: [('lech', 10.03125), ('以待', 9.15625), ('atura', 8.40625), ('�', 8.3984375), ('INV', 8.375)], 32: [('设立', 8.2265625), ('比亚', 8.078125), ('知', 7.87890625), ('omely', 7.75390625), ('劝', 7.48046875)], 36: [('4', 9.828125), ('5', 9.3671875), ('2', 8.9140625), ('�', 8.8359375), ('стики', 8.6015625)], 54: [('(#', 9.0703125), (' Dickinson', 8.6015625), ('каза', 8.40625), ('饪', 8.390625), (' oce', 8.3515625)], 60: [('�乐', 10.765625), ('золю', 10.140625), ('ttp', 9.890625), ('ият', 9.1171875), ('傍', 8.5078125)]}, 8: {7: [('adesh', 10.03125), ('IVATE', 8.96875), ('arlo', 8.8828125), ('doct', 8.53125), ('социа', 8.203125)], 13: [('леми', 11.5), ('egen', 10.0078125), ('omi', 9.015625), ('Activitats', 8.9453125), ('\\tprintLine', 8.75)], 30: [('2', 10.640625), ('1', 10.640625), ('8', 10.484375), ('0', 10.125), ('4', 10.109375)], 37: [('escue', 9.6171875), ('atus', 8.7578125), ('ncer', 8.4375), ('astre', 8.296875), ('�다', 8.265625)], 41: [('retes', 10.984375), ('elic', 10.6015625), ('ievable', 9.8671875), ('AGR', 9.6953125), ('щина', 9.546875)], 60: [('opro', 9.171875), ('体现在', 7.85546875), ('欣', 7.78125), ('mau', 7.765625), ('每周', 7.46484375)]}, 14: {7: [(' N', 10.171875), (' term', 9.75), ('�', 9.7421875), ('笔', 9.203125), (' min', 8.890625)], 8: [('��', 11.40625), (' j', 9.9453125), ('7', 9.421875), ('6', 9.3203125), ('9', 9.265625)], 13: [('enth', 11.5390625), ('>()</', 9.109375), ('INTEN', 8.09375), ('riterion', 7.96875), ('Baix', 7.91015625)], 39: [('arpa', 9.7578125), ('anera', 9.53125), ('гард', 9.125), ('ебсайт', 9.0), ('aronja', 8.9609375)], 41: [('chiev', 10.3671875), ('ale', 9.390625), ('empl', 9.3046875), ('两市', 9.078125), ('(_.', 9.015625)], 42: [('iboot', 11.421875), ('aggable', 10.6796875), ('teix', 10.2421875), ('refore', 9.6953125), ('obal', 9.59375)]}, 5: {13: [(' pisc', 9.8828125), ('agos', 9.3046875), ('aresme', 8.8046875), ('igious', 8.3671875), ('urther', 8.3515625)], 30: [('rivate', 10.3828125), ('emas', 10.3359375), ('escut', 9.984375), ('ikipedia', 9.953125), ('ascut', 9.7578125)], 32: [('емон', 9.609375), ('мират', 9.0859375), ('yyy', 8.875), ('мените', 8.546875), ('edly', 8.546875)], 46: [('IEEEeqnarray', 10.78125), ('ACPI', 10.390625), ('бора', 9.4921875), ('opian', 9.1796875), ('colOne', 9.1640625)], 54: [(' Ctrl', 8.96875), (' Ard', 8.7578125), (' majority', 7.78515625), (' края', 7.78125), (' Dav', 7.7734375)], 59: [('4', 10.1484375), ('3', 9.15625), ('5', 8.9140625), ('7', 8.40625), ('ele', 8.234375)]}, 1: {21: [('holst', 10.8203125), ('haw', 8.984375), ('ложен', 8.8125), ('ложено', 8.5), ('ashian', 8.4140625)], 33: [('alts', 10.109375), ('ionar', 9.53125), ('IFIC', 9.484375), ('.\\\\,', 9.203125), ('uelen', 9.078125)], 42: [('3', 11.0234375), ('7', 10.8984375), ('1', 10.8203125), ('2', 10.7578125), ('6', 10.6640625)], 46: [('RESOURCE', 8.859375), ('sburg', 8.484375), ('usta', 8.28125), ('OVER', 8.28125), (' звез', 8.2734375)], 54: [('截', 8.9921875), ('+|', 8.5), ('ряд', 8.3515625), ('亿亿亿', 8.2265625), ('亿亿亿亿', 8.21875)], 56: [('lest', 8.7421875), ('�', 8.5078125), ('alba', 8.3984375), ('etr', 8.328125), ('ovat', 8.3125)]}, 13: {22: [('eras', 9.3203125), ('算', 8.0625), ('游', 7.75), ('袖', 7.71875), ('弯', 7.61328125)], 29: [('ondre', 9.703125), (' spons', 9.578125), ('终', 8.9453125), ('立卡', 8.9296875), ('[--', 8.7578125)], 35: [(' human', 8.5703125), ('хер', 8.4609375), (' pH', 8.4609375), (' Human', 7.97265625), (' entre', 7.72265625)], 39: [('фин', 10.4453125), ('сков', 10.3203125), ('丝', 8.9765625), (' Sh', 8.5703125), ('实体', 8.390625)], 41: [('ебса', 10.3359375), ('ебсайт', 10.015625), ('�乐', 9.96875), (' опълченец', 9.796875), ('acier', 9.484375)], 58: [(' an', 14.0390625), (' a', 13.4765625), ('agra', 10.6953125), ('\\ta', 9.5234375), ('an', 9.1328125)]}}\n",
      "Shared expert predictions: [[('евру', 0.364990234375), ('Македония', 0.360595703125), ('ейнт', 0.35400390625), ('坷', 0.34130859375), ('ExternalTask', 0.33544921875)], [('фика', 0.6728515625), ('�', 0.57177734375), (' llib', 0.57177734375), (' recorda', 0.552734375), ('rVert', 0.54052734375)], [('把钱', 0.69189453125), (' bud', 0.69189453125), ('旋', 0.68359375), (' Spe', 0.67041015625), ('迅', 0.654296875)], [('jem', 0.8232421875), ('全民', 0.7578125), ('ouse', 0.7080078125), ('IDE', 0.69384765625), ('mai', 0.650390625)], [('陷入', 0.81396484375), ('XL', 0.74072265625), ('etr', 0.72021484375), ('陷', 0.71044921875), ('开辟', 0.7080078125)], [('陷入', 0.962890625), (' Au', 0.83544921875), ('aked', 0.82666015625), ('sd', 0.810546875), ('璨', 0.798828125)], [('匆匆', 0.4814453125), ('辜负', 0.47021484375), ('Line', 0.45751953125), ('鞠', 0.4560546875), ('adem', 0.45263671875)], [(\" '\", 0.806640625), (' Ch', 0.79248046875), (' Act', 0.78515625), ('lip', 0.7734375), (' gu', 0.77001953125)], [(' att', 0.7607421875), ('Habitants', 0.75732421875), ('溢', 0.74853515625), ('大体', 0.71484375), ('unya', 0.70458984375)], [('ke', 0.8583984375), ('opia', 0.82275390625), ('umer', 0.8046875), ('op', 0.80419921875), ('ert', 0.79345703125)], [('ube', 0.9560546875), ('rode', 0.78564453125), ('折', 0.75341796875), ('asses', 0.74462890625), ('eto', 0.744140625)], [('рав', 1.0361328125), ('点评', 0.9189453125), ('op', 0.8857421875), ('pora', 0.86328125), ('筝', 0.82373046875)], [('国民', 0.9736328125), ('лата', 0.916015625), (' rect', 0.88232421875), ('��', 0.87451171875), ('为自己', 0.845703125)], [('BM', 0.89697265625), ('EEEEFF', 0.86181640625), ('f', 0.85009765625), (' ох', 0.8447265625), ('irc', 0.83837890625)], [('代表', 0.9912109375), ('щер', 0.982421875), ('utely', 0.94140625), ('f', 0.90869140625), ('pe', 0.880859375)], [('不知', 1.0126953125), ('不知道', 0.94921875), (' (', 0.916015625), ('电', 0.79052734375), ('诚', 0.77490234375)], [('轻盈', 0.98046875), ('折', 0.923828125), ('拯', 0.91015625), ('дем', 0.869140625), ('щер', 0.8603515625)]]\n",
      "\n",
      "MoE Layer 13:\n",
      "Selected experts: [[39, 47, 51, 17, 7, 22], [37, 29, 13, 9, 51, 24], [15, 38, 28, 27, 56, 10], [45, 38, 44, 61, 18, 56], [27, 28, 62, 38, 8, 1], [28, 61, 60, 38, 12, 18], [47, 51, 11, 13, 17, 46], [60, 38, 28, 50, 3, 0], [38, 60, 58, 0, 50, 37], [63, 27, 28, 38, 60, 50], [60, 53, 38, 50, 2, 19], [35, 63, 48, 38, 8, 61], [43, 52, 12, 14, 9, 29], [60, 52, 43, 12, 38, 3], [58, 52, 60, 38, 0, 53], [27, 38, 28, 60, 63, 8], [52, 22, 2, 60, 38, 19]]\n",
      "Expert weights: [[0.0859375, 0.06201171875, 0.04937744140625, 0.04559326171875, 0.04046630859375, 0.03753662109375], [0.060791015625, 0.135498046875, 0.103271484375, 0.07269287109375, 0.056304931640625, 0.0555419921875], [0.0806884765625, 0.0577392578125, 0.1490478515625, 0.042816162109375, 0.035552978515625, 0.0275726318359375], [0.0849609375, 0.0836181640625, 0.061187744140625, 0.037109375, 0.0357666015625, 0.03363037109375], [0.0948486328125, 0.08404541015625, 0.076171875, 0.1861572265625, 0.040374755859375, 0.03240966796875], [0.1015625, 0.03741455078125, 0.0693359375, 0.08990478515625, 0.036590576171875, 0.0300750732421875], [0.09869384765625, 0.08642578125, 0.058319091796875, 0.057861328125, 0.04949951171875, 0.045867919921875], [0.184814453125, 0.1300048828125, 0.0904541015625, 0.0592041015625, 0.05621337890625, 0.042266845703125], [0.126953125, 0.173583984375, 0.1373291015625, 0.0753173828125, 0.050750732421875, 0.034393310546875], [0.060089111328125, 0.068115234375, 0.08154296875, 0.15380859375, 0.1827392578125, 0.0394287109375], [0.192138671875, 0.06512451171875, 0.0714111328125, 0.05859375, 0.049468994140625, 0.033905029296875], [0.1976318359375, 0.111083984375, 0.0982666015625, 0.09088134765625, 0.051727294921875, 0.04998779296875], [0.1478271484375, 0.0955810546875, 0.06329345703125, 0.058837890625, 0.03753662109375, 0.035003662109375], [0.12841796875, 0.11920166015625, 0.06353759765625, 0.0438232421875, 0.034332275390625, 0.0335693359375], [0.1395263671875, 0.114990234375, 0.162109375, 0.04888916015625, 0.043548583984375, 0.034149169921875], [0.282470703125, 0.07574462890625, 0.0743408203125, 0.062286376953125, 0.0297393798828125, 0.0285491943359375], [0.11822509765625, 0.054229736328125, 0.062286376953125, 0.11798095703125, 0.0526123046875, 0.0440673828125]]\n",
      "Combined output tokens: [[(' Gros', 0.4453125), ('�', 0.426513671875), ('etat', 0.423095703125), (' cradle', 0.4072265625), ('佳', 0.381591796875)], [('ixel', 1.2314453125), ('ENC', 1.001953125), ('barra', 0.98486328125), ('userm', 0.98095703125), ('ELS', 0.97998046875)], [('集', 1.4970703125), ('asped', 1.3857421875), (' озна', 1.27734375), ('综合体', 1.2587890625), ('enp', 1.2314453125)], [('bler', 1.19921875), ('丈', 1.1533203125), (' fiducial', 1.1328125), ('andid', 1.1240234375), ('千', 1.1181640625)], [('ibol', 1.873046875), ('вата', 1.7666015625), ('ikit', 1.6796875), ('igar', 1.677734375), ('кува', 1.6650390625)], [('IEW', 1.4091796875), ('ilia', 1.384765625), ('ultor', 1.380859375), ('enspace', 1.3076171875), (' Entering', 1.29296875)], [('wk', 0.6826171875), ('SSA', 0.6396484375), ('QA', 0.607421875), ('IDA', 0.5810546875), ('=\"../_', 0.56005859375)], [('宵', 2.244140625), ('ebles', 2.2421875), ('eylon', 2.240234375), ('omys', 2.234375), ('矩', 2.20703125)], [('нина', 2.375), ('��', 2.3359375), ('omys', 2.150390625), ('acional', 2.08984375), ('spinner', 1.9970703125)], [('нина', 2.95703125), ('ifr', 2.544921875), ('umbered', 2.203125), ('тс', 2.041015625), ('pmy', 2.041015625)], [(' Ferran', 2.1171875), ('��', 2.017578125), ('idr', 1.8447265625), ('冒', 1.794921875), ('нина', 1.71484375)], [('atoris', 2.0703125), ('листи', 1.9228515625), ('ostom', 1.8681640625), ('pmy', 1.76171875), ('加水', 1.7578125)], [('搭', 2.462890625), ('ailable', 2.1796875), ('zca', 2.146484375), ('encion', 2.1171875), ('iennes', 2.103515625)], [('hys', 3.396484375), ('mbia', 2.93359375), ('ouncy', 2.8984375), ('bted', 2.857421875), ('ymer', 2.85546875)], [('кор', 3.953125), ('AudioEvent', 3.666015625), ('bted', 3.48828125), ('hys', 3.4609375), ('StyleID', 3.376953125)], [('ccion', 2.275390625), ('iser', 2.12109375), ('nikov', 2.1015625), ('ually', 2.052734375), (' ti', 2.037109375)], [('estr', 3.44921875), ('}$~\\\\', 3.04296875), ('escut', 3.017578125), ('AudioEvent', 2.990234375), ('кор', 2.91796875)]]\n",
      "Expert predictions by position: {7: {0: [(' Гот', 9.375), ('шата', 9.375), ('стров', 8.515625), (' conserv', 8.453125), ('andria', 8.453125)], 3: [('вица', 9.8828125), ('俄', 9.15625), (' sp', 8.828125), ('力', 8.8046875), ('ZING', 8.796875)], 28: [('upe', 10.7265625), ('тва', 10.484375), ('FieldLocation', 10.03125), ('AnyRef', 9.8515625), ('lita', 9.0703125)], 38: [('oport', 9.234375), ('agl', 8.2421875), ('quilla', 8.1796875), ('hg', 8.1640625), ('igar', 8.015625)], 50: [('imin', 10.296875), ('unge', 10.140625), ('�', 9.9140625), ('蛇', 8.7734375), ('ейн', 8.65625)], 60: [('края', 9.4609375), ('矩', 9.03125), ('onstr', 8.9921875), ('ebles', 8.9140625), (' cedits', 8.8984375)]}, 8: {0: [('龙江', 9.25), ('agin', 8.65625), (' Гот', 8.640625), ('ingui', 8.4296875), ('uil', 7.92578125)], 37: [('Zyg', 11.4765625), (' Feliu', 11.125), ('ού', 10.2578125), (' Вардар', 10.1875), ('дето', 10.0703125)], 38: [('emin', 9.734375), ('orell', 9.6640625), ('remos', 9.6015625), (' CONNE', 9.125), ('angler', 8.890625)], 50: [('�', 8.9296875), ('irp', 7.93359375), ('è', 7.90234375), ('enciar', 7.90234375), (' fixa', 7.83984375)], 58: [('тинг', 10.078125), ('�乐', 9.65625), ('litza', 9.484375), ('urades', 9.3828125), ('htable', 9.1328125)], 60: [('ulla', 9.9765625), ('tebr', 8.984375), ('pel', 8.8984375), ('oling', 8.671875), ('�乐', 8.515625)]}, 14: {0: [('sser', 11.0546875), ('jant', 10.0625), ('etup', 10.0), ('bria', 9.5390625), ('paired', 9.3125)], 38: [('odium', 9.6015625), ('audi', 8.8515625), ('atro', 8.53125), ('平衡', 8.421875), ('pcies', 8.140625)], 52: [('estr', 11.1328125), (' водо', 9.7109375), ('anques', 9.625), ('itespace', 9.3359375), ('benius', 9.3125)], 53: [('��', 10.140625), ('\\xa0mil', 9.84375), ('nteg', 9.546875), ('FieldLocation', 9.4609375), ('malink', 9.328125)], 58: [('ewrite', 11.28125), ('伍', 10.0859375), ('onyms', 10.0546875), ('rrer', 9.921875), ('ificacions', 9.6796875)], 60: [('Stroke', 9.296875), ('лка', 8.8203125), ('glas', 8.8125), ('frak', 8.6875), (' GoString', 8.3203125)]}, 4: {1: [('滚动', 9.3515625), ('轰炸', 9.078125), ('airs', 8.96875), (' би', 8.953125), ('blockList', 8.8984375)], 8: [('Medall', 11.5390625), ('estir', 10.4921875), ('sud', 9.8515625), ('omeu', 9.7890625), ('alet', 9.3671875)], 27: [('1', 9.734375), ('0', 9.578125), ('2', 9.1171875), ('tags', 8.8046875), ('olute', 8.7734375)], 28: [('нген', 11.0), ('менни', 10.140625), ('urals', 9.6875), ('ieras', 9.6796875), ('ointe', 9.5859375)], 38: [('圾', 10.4140625), ('�', 8.546875), ('仰', 8.28125), ('ernal', 8.140625), ('注意的是', 8.03125)], 62: [('IR', 8.859375), ('azing', 8.7734375), (' thanks', 8.3828125), (' comm', 8.296875), ('ornia', 8.2890625)]}, 10: {2: [('ons', 8.7421875), (' intent', 8.078125), ('rev', 7.9765625), ('консул', 7.90625), (' C', 7.80078125)], 19: [('ildo', 8.9296875), (' вид', 8.8203125), ('beat', 8.5234375), (' четник', 8.4921875), (' COUNT', 8.4609375)], 38: [('onges', 9.5), ('omus', 8.21875), ('fono', 8.03125), ('cipl', 7.95703125), ('�', 7.9296875)], 50: [('间隔', 9.625), (' Strat', 8.25), ('ministr', 8.1328125), ('jecci', 7.90234375), ('ystem', 7.7578125)], 53: [('ened', 8.8203125), ('erton', 8.8203125), ('ец', 8.7578125), ('�', 8.7578125), ('erson', 8.734375)], 60: [('�乐', 10.21875), (' Schwennicke', 8.9921875), (' Pse', 8.90625), ('ulla', 8.6953125), ('asury', 8.453125)]}, 16: {2: [(' Syr', 8.125), ('тани', 7.921875), ('举', 7.84375), ('orio', 7.828125), (' stub', 7.48828125)], 19: [('firstrow', 10.203125), ('萄', 9.875), ('topsp', 9.875), ('ης', 9.7890625), ('Thelia', 9.6484375)], 22: [('ISD', 9.8984375), ('alto', 8.171875), ('zac', 7.59765625), ('писани', 7.5078125), ('Acc', 7.34765625)], 38: [('pcies', 9.453125), ('invert', 9.265625), ('atre', 9.234375), ('外', 8.9296875), ('стига', 8.9140625)], 52: [('hys', 10.046875), ('offee', 9.75), ('Landroid', 9.359375), ('cades', 9.2421875), ('фал', 9.2265625)], 60: [('��', 9.0390625), ('ub', 8.703125), ('越好', 8.5546875), ('ubre', 8.3671875), ('oure', 8.265625)]}, 13: {3: [('кана', 11.0), ('ремо', 9.796875), ('кт', 9.6875), ('ancy', 9.171875), ('待', 9.078125)], 12: [('基本', 9.5234375), ('acent', 8.8046875), ('bras', 8.7578125), ('щи', 8.734375), ('ead', 8.609375)], 38: [('линг', 8.828125), ('athe', 8.4140625), ('anies', 8.1171875), ('дъ', 8.0546875), ('rex', 7.89453125)], 43: [('ering', 9.1953125), ('NORE', 8.6640625), ('OBJECT', 8.4140625), ('UIC', 8.3671875), (' заслу', 8.234375)], 52: [('benius', 9.8359375), ('expedition', 9.59375), ('tah', 9.5078125), (' an', 9.25), ('bore', 9.1796875)], 60: [('ifr', 11.40625), ('_{_{\\\\', 9.90625), (' участък', 9.125), ('untime', 8.75), ('mathbold', 8.703125)]}, 0: {7: [('son', 9.640625), ('end', 9.2890625), (' K', 8.703125), ('hell', 8.5703125), ('K', 8.4921875)], 17: [('ata', 8.8359375), (' ', 8.625), ('IC', 8.125), ('ics', 8.1015625), ('�', 7.77734375)], 22: [('dings', 8.21875), ('encial', 8.140625), (' _', 8.09375), ('ster', 8.046875), (' bein', 7.9140625)], 39: [('jac', 8.828125), ('jo', 8.15625), ('ven', 8.0859375), ('after', 7.9609375), ('vers', 7.73046875)], 47: [('ува', 10.3125), ('dera', 8.953125), ('__', 8.84375), ('上', 8.796875), ('阳', 8.3671875)], 51: [('恩', 10.1015625), ('+.', 9.90625), ('�', 9.84375), (' номина', 9.328125), ('+)', 9.109375)]}, 11: {8: [('рея', 10.4609375), (' Fabra', 9.75), (' presidenc', 9.078125), ('兰达', 9.0078125), ('emberg', 8.9296875)], 35: [('kah', 9.84375), ('estir', 9.609375), ('rani', 9.578125), ('odynam', 8.9453125), ('рани', 8.921875)], 38: [('zzarella', 9.203125), ('uesa', 8.9453125), ('iterr', 8.65625), (' Marriage', 8.578125), ('�', 8.5390625)], 48: [('弥', 9.7734375), ('ец', 9.546875), ('ahi', 9.3125), ('юн', 9.0390625), ('edly', 8.9453125)], 61: [('selector', 8.8046875), ('�', 8.7421875), ('ues', 8.671875), ('roads', 8.6640625), ('фил', 8.625)], 63: [('rits', 9.4609375), ('age', 8.5546875), ('dits', 7.890625), ('idden', 7.890625), ('moid', 7.765625)]}, 15: {8: [('trica', 11.5390625), ('\\xa0part', 10.34375), (' Catalana', 9.90625), ('ypse', 9.515625), (' Berenguer', 9.4609375)], 27: [(' checks', 8.953125), ('牌', 8.5), ('bent', 8.109375), (' Sky', 8.0546875), ('ually', 7.91015625)], 28: [('addock', 9.6796875), ('ipation', 9.6171875), ('ygon', 9.359375), ('ultor', 8.59375), ('intilla', 8.4765625)], 38: [('ucs', 9.59375), ('ric', 9.2421875), ('饥', 9.1484375), ('intent', 8.453125), ('inform', 8.359375)], 60: [('��', 9.6796875), ('бор', 9.421875), ('nery', 9.328125), ('Ops', 9.28125), ('NESS', 9.03125)], 63: [('亦', 8.9921875), ('moid', 8.96875), ('9', 8.78125), ('4', 8.640625), ('jant', 8.5859375)]}, 1: {9: [(\"''(\", 9.5390625), ('тил', 8.84375), ('initat', 8.734375), ('Submitted', 8.71875), ('functor', 8.6875)], 13: [('тер', 8.8828125), ('illas', 8.703125), ('hibernate', 8.65625), ('atine', 8.4453125), ('ate', 8.3359375)], 24: [('WHM', 10.6015625), ('CLAIMED', 9.046875), ('regues', 8.390625), ('acta', 8.375), ('oint', 8.265625)], 29: [('icana', 9.2890625), ('ьор', 9.0), ('ерт', 8.75), ('ordination', 8.703125), (' cristians', 8.328125)], 37: [('untime', 13.1796875), ('LOGY', 10.8515625), ('FORD', 10.5625), ('ubo', 9.859375), ('ford', 9.3671875)], 51: [('abin', 8.4765625), ('4', 8.1796875), ('umber', 8.046875), ('und', 8.0390625), ('3', 7.9609375)]}, 12: {9: [('entric', 10.09375), ('豆', 9.46875), ('ilder', 9.203125), (' neutr', 8.9453125), ('пра', 8.1953125)], 12: [('大体', 9.7109375), (' Noguera', 9.6953125), ('大致', 9.6796875), ('дра', 9.421875), (' Baix', 9.03125)], 14: [('ree', 8.8671875), ('...', 8.8671875), ('ative', 8.125), (' -', 8.078125), ('adem', 8.046875)], 29: [('terns', 11.3046875), ('teenth', 10.4140625), ('laces', 9.875), ('terness', 9.765625), ('>-->', 9.2890625)], 43: [('чено', 9.5390625), ('isov', 9.0546875), ('而是', 8.4609375), ('ceq', 8.40625), ('PEG', 8.0625)], 52: [('hys', 11.390625), ('mpica', 11.078125), ('mxd', 10.5390625), ('mbia', 10.2734375), ('tope', 10.0)]}, 2: {10: [('op', 9.2421875), ('ho', 8.9921875), ('il', 8.796875), ('的建筑', 8.6953125), ('e', 8.6328125)], 15: [('дес', 10.8515625), ('горе', 10.6796875), ('istat', 10.6328125), (' FITNESS', 10.296875), (' complexa', 10.21875)], 27: [('unknownFields', 12.9921875), ('writeField', 12.6484375), ('avera', 12.1953125), ('iokit', 11.78125), ('Окръг', 11.5625)], 28: [(' продължение', 9.859375), ('intilla', 9.859375), ('历史文化', 9.5859375), ('ailles', 9.5625), ('ANTS', 9.265625)], 38: [('pal', 10.1875), ('версите', 9.75), ('ator', 9.546875), ('atore', 9.359375), ('han', 9.328125)], 56: [('iac', 8.5390625), ('tie', 8.5), ('敦', 8.3828125), ('andon', 8.3046875), ('azi', 8.3046875)]}, 6: {11: [('apse', 9.4296875), ('ester', 9.3203125), ('ates', 9.0625), ('保时', 9.03125), ('сец', 8.9296875)], 13: [('еку', 7.9453125), (' s', 7.9375), ('чето', 7.7109375), (' B', 7.4375), ('Dark', 7.25)], 17: [(' ages', 8.7578125), ('留', 8.625), ('issin', 8.2734375), ('alesa', 8.1328125), ('getFirst', 8.125)], 46: [('ulador', 11.78125), ('iflower', 9.5703125), (' perru', 9.2109375), (' Balaguer', 8.484375), ('LOWER', 8.390625)], 47: [('hine', 8.609375), ('积蓄', 8.1640625), (' Representation', 7.99609375), ('argar', 7.953125), ('bius', 7.9453125)], 51: [('orno', 8.7890625), (' moves', 7.87890625), (' Vend', 7.7890625), (' move', 7.64453125), ('oce', 7.62890625)]}, 5: {12: [('PIO', 10.0234375), (' Arque', 9.890625), (' Noguera', 9.859375), ('eger', 9.203125), (' andalus', 9.15625)], 18: [('↳', 10.5390625), ('мана', 10.1328125), ('andria', 10.09375), ('herits', 9.3671875), ('shade', 9.3515625)], 28: [('ntil', 10.7734375), ('getLogger', 9.3828125), ('стика', 9.2734375), ('ILON', 9.1953125), ('ultor', 9.1875)], 38: [('omys', 9.5703125), ('зиден', 9.1328125), ('pal', 8.8203125), ('atore', 8.8046875), ('afel', 8.71875)], 60: [('кор', 9.453125), ('rib', 9.140625), ('ub', 8.921875), ('StyleID', 8.71875), ('esqu', 8.703125)], 61: [(' бун', 8.703125), ('anan', 8.5859375), ('лива', 8.5), ('pread', 8.1953125), ('�', 8.0390625)]}, 3: {18: [('erm', 8.96875), ('еру', 8.359375), ('纪', 8.3515625), ('NP', 8.3359375), ('苏', 8.2734375)], 38: [('pcies', 11.484375), ('omys', 9.84375), (' живо', 9.34375), ('施', 8.75), ('�', 8.6640625)], 44: [('结', 9.0), ('�', 8.25), ('REC', 8.0234375), ('oning', 7.98828125), ('гури', 7.8671875)], 45: [('FrameworkBundle', 11.09375), (\"\\\\'{\", 9.2890625), ('новен', 8.9296875), ('psum', 8.6953125), ('coni', 8.5546875)], 56: [('ляр', 9.78125), (' L', 8.390625), ('spice', 8.3359375), ('uli', 8.265625), ('ndre', 8.046875)], 61: [('uko', 8.5546875), ('рен', 8.4765625), ('ší', 8.4609375), ('dbo', 8.3125), (' spectrum', 8.1875)]}, 9: {27: [('quier', 9.109375), ('uita', 8.7109375), ('witz', 8.6875), ('slashed', 8.4921875), ('agara', 8.421875)], 28: [('ntil', 10.796875), ('出不穷', 10.5546875), ('��', 10.15625), ('Anvers', 10.0390625), ('ALES', 9.4921875)], 38: [('pcies', 9.390625), ('igues', 8.90625), (' живо', 8.859375), ('亲属', 8.5625), ('quilla', 8.421875)], 50: [('iffs', 7.48046875), ('形', 7.44140625), (' Alb', 7.421875), (' Mass', 7.2578125), (' RFC', 7.08984375)], 60: [('olute', 9.65625), ('CPTR', 9.59375), ('образи', 9.1015625), ('床', 9.046875), ('диен', 8.84375)], 63: [('NDER', 10.140625), ('чности', 9.4140625), ('нд', 8.9296875), ('alone', 8.546875), (' modernista', 8.5234375)]}}\n",
      "Shared expert predictions: [[(' Gros', 0.382080078125), ('�', 0.36669921875), ('AIPS', 0.361572265625), ('etat', 0.351806640625), ('onomia', 0.346923828125)], [('8', 0.78369140625), ('1', 0.78271484375), ('0', 0.7822265625), ('7', 0.7548828125), ('3', 0.72705078125)], [(' c', 0.73046875), ('––', 0.67041015625), (' характери', 0.634765625), ('\\ufeff\\ufeff', 0.6279296875), ('千', 0.6279296875)], [('!--', 0.79296875), (' g', 0.75732421875), ('arse', 0.72119140625), (';', 0.71435546875), ('勾', 0.70654296875)], [('UTO', 0.8212890625), ('ixa', 0.75048828125), ('iger', 0.74169921875), ('棘', 0.7109375), ('thorpe', 0.71044921875)], [('wk', 0.91357421875), (' S', 0.80615234375), ('KF', 0.80126953125), ('Lear', 0.75244140625), (' Entering', 0.75)], [('wk', 0.6806640625), ('QA', 0.58935546875), ('SSA', 0.5810546875), (' sustain', 0.54150390625), ('ADA', 0.5322265625)], [('inux', 1.0390625), ('issor', 0.78857421875), (' шах', 0.7822265625), ('odiode', 0.76171875), ('otine', 0.75830078125)], [('inux', 1.013671875), ('eresis', 0.77099609375), ('orda', 0.734375), (' Garden', 0.728515625), (' Bram', 0.72265625)], [('种', 0.77001953125), (' Ren', 0.7470703125), (' amor', 0.7314453125), (' esport', 0.7255859375), (' меч', 0.701171875)], [('冕', 0.814453125), ('��', 0.7919921875), ('orb', 0.71630859375), ('部长', 0.67919921875), ('积', 0.666015625)], [('oice', 0.86962890625), ('�', 0.81103515625), ('кува', 0.751953125), ('STRAINT', 0.74462890625), ('仅代表作者本人观点', 0.7421875)], [('SES', 1.01953125), ('шево', 0.8896484375), ('inde', 0.87890625), ('提速', 0.85107421875), ('querque', 0.83984375)], [('ouse', 0.837890625), ('SES', 0.8291015625), ('ria', 0.78173828125), ('ermita', 0.7705078125), ('strument', 0.75390625)], [(' double', 1.02734375), ('rings', 0.88427734375), (' Dot', 0.849609375), ('聂', 0.84130859375), ('ianisme', 0.8359375)], [(' t', 1.1298828125), (\" '\", 1.0791015625), (' \"', 1.0791015625), ('Wind', 1.037109375), (' ping', 0.9697265625)], [('rep', 0.8994140625), ('ermita', 0.88818359375), ('待', 0.8720703125), ('隶', 0.8701171875), (' Dew', 0.85546875)]]\n",
      "\n",
      "MoE Layer 14:\n",
      "Selected experts: [[37, 5, 3, 4, 35, 10], [47, 58, 30, 33, 53, 10], [11, 50, 46, 58, 0, 15], [32, 48, 53, 6, 28, 33], [27, 35, 50, 52, 8, 11], [14, 21, 37, 3, 40, 50], [21, 37, 16, 3, 14, 26], [53, 38, 28, 23, 40, 50], [0, 38, 12, 28, 40, 23], [50, 46, 38, 35, 52, 40], [17, 6, 38, 23, 48, 59], [32, 35, 50, 38, 18, 7], [21, 57, 29, 25, 1, 55], [23, 28, 40, 29, 43, 53], [0, 12, 60, 40, 23, 43], [35, 11, 50, 32, 52, 18], [43, 59, 23, 53, 60, 6]]\n",
      "Expert weights: [[0.3466796875, 0.0246124267578125, 0.028564453125, 0.0228118896484375, 0.0224151611328125, 0.0215911865234375], [0.254638671875, 0.232421875, 0.0460205078125, 0.042938232421875, 0.041168212890625, 0.040496826171875], [0.142578125, 0.0823974609375, 0.053680419921875, 0.048553466796875, 0.038726806640625, 0.038299560546875], [0.056488037109375, 0.07171630859375, 0.25341796875, 0.057769775390625, 0.050323486328125, 0.04254150390625], [0.12005615234375, 0.161865234375, 0.09075927734375, 0.131103515625, 0.033660888671875, 0.029022216796875], [0.043548583984375, 0.0321044921875, 0.08642578125, 0.203369140625, 0.031585693359375, 0.0302734375], [0.032867431640625, 0.3310546875, 0.0634765625, 0.055877685546875, 0.032684326171875, 0.0309600830078125], [0.125244140625, 0.17041015625, 0.1124267578125, 0.10687255859375, 0.087890625, 0.0394287109375], [0.2296142578125, 0.14013671875, 0.09954833984375, 0.07525634765625, 0.0675048828125, 0.06353759765625], [0.26220703125, 0.1346435546875, 0.09161376953125, 0.0806884765625, 0.04656982421875, 0.031463623046875], [0.1002197265625, 0.101806640625, 0.11248779296875, 0.08148193359375, 0.07757568359375, 0.05389404296875], [0.04364013671875, 0.118408203125, 0.107177734375, 0.0223236083984375, 0.50244140625, 0.0198822021484375], [0.3486328125, 0.0943603515625, 0.07843017578125, 0.07379150390625, 0.043609619140625, 0.0278472900390625], [0.0999755859375, 0.08795166015625, 0.07818603515625, 0.061187744140625, 0.060272216796875, 0.044158935546875], [0.11962890625, 0.11639404296875, 0.09521484375, 0.07781982421875, 0.076171875, 0.048919677734375], [0.24609375, 0.055938720703125, 0.07421875, 0.048583984375, 0.03594970703125, 0.0294952392578125], [0.08465576171875, 0.1572265625, 0.1365966796875, 0.059906005859375, 0.045257568359375, 0.040191650390625]]\n",
      "Combined output tokens: [[('idera', 2.68359375), (' Fac', 2.5078125), ('frak', 2.4921875), (' fres', 2.326171875), ('osed', 2.32421875)], [('背驰', 1.72265625), ('ailability', 1.6689453125), ('atre', 1.5888671875), (' Prats', 1.5859375), ('orum', 1.5810546875)], [('兮', 3.94921875), ('letal', 3.15234375), ('vetica', 2.935546875), ('irty', 2.90234375), ('plicit', 2.89453125)], [(' n', 2.1640625), (' r', 2.064453125), (' S', 1.9072265625), (' (', 1.841796875), (' s', 1.828125)], [(' min', 1.8095703125), (' l', 1.5615234375), ('вро', 1.4267578125), (' p', 1.4189453125), (' period', 1.38671875)], [(' t', 1.4892578125), ('дем', 1.4365234375), (\"'\", 1.4287109375), ('t', 1.3603515625), ('so', 1.28125)], [('roqu', 1.2958984375), ('wered', 1.1962890625), (' p', 1.158203125), (' R', 1.111328125), (' b', 1.0888671875)], [('howto', 2.12109375), (' ELSE', 2.099609375), (' slic', 1.9658203125), ('sla', 1.9521484375), ('things', 1.9150390625)], [('ines', 2.31640625), ('��', 2.259765625), ('�', 1.9873046875), (' inv', 1.958984375), ('amen', 1.9560546875)], [('ally', 2.521484375), ('合', 2.349609375), ('tok', 2.26953125), (' bod', 2.267578125), ('ALLY', 2.251953125)], [('利益', 1.8759765625), ('sen', 1.7431640625), ('uci', 1.6767578125), (' comprehens', 1.6162109375), (' Excell', 1.5908203125)], [('bren', 3.30078125), ('revista', 3.2734375), ('geant', 3.208984375), ('部分', 3.154296875), ('стория', 3.109375)], [('ratio', 2.16796875), ('anan', 2.001953125), ('RATION', 1.9228515625), ('ancel', 1.8779296875), ('дон', 1.861328125)], [('agos', 1.66015625), ('一个', 1.6591796875), ('一个人的', 1.6572265625), (' equ', 1.638671875), (' bany', 1.53125)], [('iered', 2.296875), ('ň', 1.798828125), ('adura', 1.763671875), ('Filed', 1.70703125), ('══', 1.6943359375)], [('竞', 1.62890625), ('culus', 1.583984375), ('ities', 1.58203125), (' Кня', 1.5400390625), ('便宜', 1.5302734375)], [('2', 2.74609375), ('8', 2.74609375), ('0', 2.6953125), ('6', 2.619140625), ('4', 2.5703125)]]\n",
      "Expert predictions by position: {2: {0: [('阱', 10.0234375), ('inal', 9.2890625), ('�', 9.0), ('inas', 8.6640625), ('ina', 8.6015625)], 11: [('兮', 11.1328125), ('��', 10.296875), ('irty', 10.046875), ('CPTR', 9.703125), ('ническата', 9.6328125)], 15: [('rtex', 8.578125), ('exion', 8.2734375), ('яла', 8.265625), (' L', 8.0), ('ари', 7.90625)], 46: [('脱', 8.9609375), ('член', 8.5), (' конгрес', 8.3515625), ('тео', 8.21875), ('ipte', 8.046875)], 50: [('IDO', 9.15625), ('лни', 8.6328125), ('ally', 8.4765625), ('tok', 8.4453125), (' B', 8.390625)], 58: [('aters', 9.8359375), ('ater', 9.7265625), ('med', 9.4765625), ('atered', 9.3828125), ('ories', 9.2265625)]}, 8: {0: [('orithm', 9.0546875), ('仁', 8.546875), ('iss', 8.1640625), ('造', 8.1484375), ('odox', 7.96875)], 12: [('oulli', 9.65625), ('IER', 9.5), ('ier', 8.8046875), ('ey', 8.46875), ('gmd', 8.4609375)], 23: [('�', 9.21875), ('idding', 9.015625), ('开盘', 8.8046875), ('ogan', 8.5546875), ('jad', 8.046875)], 28: [(' how', 11.5546875), (' why', 10.609375), (' OVERRIDE', 10.4765625), ('howto', 9.2265625), ('тива', 8.953125)], 38: [('��', 8.90625), ('RATION', 8.625), ('抗', 8.5703125), ('ards', 8.453125), ('众', 8.4140625)], 40: [(' часа', 9.6640625), (' Sob', 9.3828125), ('��', 9.0234375), ('deen', 8.953125), ('terday', 8.8984375)]}, 14: {0: [(' precio', 8.2109375), ('ulsive', 8.0), ('ceil', 8.0), ('erc', 7.92578125), ('�', 7.69921875)], 12: [('mut', 8.6640625), ('amen', 8.640625), ('ru', 8.5), ('nt', 8.0390625), ('ied', 7.95703125)], 23: [('odat', 9.359375), ('comp', 8.90625), (' regnes', 8.8515625), ('SYM', 8.6953125), (' recomp', 8.46875)], 40: [('щайн', 9.2578125), ('先生的', 9.046875), ('opedia', 8.9765625), ('布朗', 8.9765625), ('чното', 8.9609375)], 43: [('yb', 9.21875), ('usages', 8.5390625), ('吸引力', 8.3984375), ('rot', 8.3359375), ('哪', 8.1875)], 60: [('мб', 9.390625), ('emperature', 9.3046875), ('=\"[', 9.2734375), (' \\\\}', 9.109375), ('мети', 9.0078125)]}, 12: {1: [('IPS', 8.6953125), ('asties', 8.4609375), ('ode', 8.2734375), (' oper', 8.265625), (' ', 8.015625)], 21: [('RATION', 10.6328125), ('ottom', 9.578125), ('pread', 9.265625), ('ERTY', 9.078125), ('bils', 9.0)], 25: [('型', 9.6796875), ('讼', 8.78125), ('weet', 8.546875), ('iours', 8.4375), ('鼻', 8.3671875)], 29: [('最佳', 8.5859375), ('akes', 8.328125), ('сли', 8.203125), ('流畅', 8.1015625), ('mas', 8.015625)], 55: [(' his', 9.7421875), (' him', 9.3203125), ('ascut', 9.2890625), ('irat', 9.015625), ('在这里', 8.890625)], 57: [('CDCD', 8.4140625), ('umen', 8.1328125), ('рис', 8.0703125), ('halo', 7.88671875), ('ateful', 7.81640625)]}, 0: {3: [('itution', 9.8203125), ('aderia', 9.1640625), ('долу', 8.75), ('ematic', 8.7265625), ('ток', 8.6015625)], 4: [('вец', 8.640625), ('жен', 8.0859375), (' Path', 8.0546875), (' Hedge', 7.4375), (' everything', 7.30859375)], 5: [(' Set', 8.09375), ('htra', 7.921875), ('enal', 7.4296875), ('мет', 7.3828125), ('ogged', 7.375)], 10: [('$^\\\\', 9.453125), ('landa', 9.40625), ('吐', 9.328125), ('Partit', 9.2734375), ('WHM', 9.1953125)], 35: [('2', 10.390625), ('1', 9.5234375), ('3', 9.28125), ('arr', 9.09375), ('caught', 8.8828125)], 37: [('idera', 9.2890625), (' Fac', 8.578125), ('frak', 8.140625), ('Complexity', 8.078125), (' hello', 7.87109375)]}, 5: {3: [('emir', 7.23046875), ('�', 6.82421875), ('一片', 6.76171875), ('yship', 6.6796875), ('favor', 6.6328125)], 14: [('unting', 9.6328125), ('iosos', 8.75), (').__', 8.5703125), ('arella', 8.4375), ('Joined', 8.3671875)], 21: [('ones', 8.59375), ('set', 8.5078125), (' set', 8.21875), ('rology', 8.2109375), ('ERA', 8.0703125)], 37: [('tingen', 9.328125), ('resizebox', 8.6875), ('挑战', 8.1015625), ('peren', 7.96875), ('чани', 7.9453125)], 40: [('renia', 11.4921875), ('ranslate', 9.65625), ('erencing', 9.625), ('rrez', 9.5703125), ('sembly', 9.3125)], 50: [('amt', 9.015625), ('寻求', 8.6796875), ('sohn', 8.4453125), ('符', 8.2578125), ('odont', 8.140625)]}, 6: {3: [('дем', 9.5859375), (\"'\", 8.9140625), ('‘', 8.6640625), ('both', 8.625), ('vo', 8.53125)], 14: [('综', 9.6328125), ('ailles', 9.453125), ('i', 9.203125), ('0', 8.9609375), ('e', 8.7734375)], 16: [('bigarray', 9.6953125), ('lega', 9.359375), ('apad', 9.1875), ('inear', 9.0546875), ('agine', 8.8828125)], 21: [(' роля', 11.359375), ('дина', 10.390625), ('MeV', 10.3046875), ('зас', 9.7890625), ('object', 9.2578125)], 26: [('ук', 9.1796875), ('ията', 8.9296875), ('phia', 8.8515625), ('еро', 8.5859375), (' света', 8.3046875)], 37: [('roqu', 10.609375), ('ebles', 8.6328125), (' mot', 8.5859375), (' cam', 8.15625), ('ldon', 8.1171875)]}, 3: {6: [('medi', 9.3671875), ('swing', 9.3125), ('isb', 9.0390625), (' D', 9.0390625), ('cob', 9.015625)], 28: [('ck', 9.9921875), ('whe', 8.78125), ('�', 8.3984375), ('ll', 8.2109375), (' OVERRIDE', 8.140625)], 32: [('rices', 10.9140625), (' why', 8.796875), ('гъ', 8.7890625), ('�', 8.3828125), (' Mechan', 7.9921875)], 33: [('тва', 9.4296875), (' Малко', 8.765625), ('geist', 8.7109375), ('unya', 8.3203125), ('istine', 8.28125)], 48: [('ograms', 8.8515625), (' hum', 8.5390625), (' nb', 8.328125), (' C', 8.2890625), (' SPA', 8.1171875)], 53: [('CHO', 10.1328125), ('вари', 9.296875), ('agoza', 8.6953125), ('agrid', 8.6015625), ('解放', 8.3046875)]}, 10: {6: [('бет', 9.796875), ('гре', 9.4375), ('дви', 8.9921875), ('lement', 8.7734375), ('lements', 8.5703125)], 17: [('бол', 8.9140625), ('lad', 8.8828125), ('plets', 8.0625), ('onel', 7.8046875), (' зависимост', 7.7890625)], 23: [('2', 10.203125), ('0', 9.9140625), ('8', 9.328125), ('ung', 8.765625), ('iss', 8.65625)], 38: [('ally', 8.7734375), ('дното', 8.453125), ('�', 8.40625), ('ully', 8.3359375), ('anium', 8.078125)], 48: [(' comm', 9.296875), (' Com', 9.0625), ('9', 8.4140625), (' COMM', 8.390625), ('along', 8.203125)], 59: [('build', 9.7734375), (' скло', 9.171875), ('Iss', 8.8125), ('eton', 8.7421875), ('anas', 8.5234375)]}, 16: {6: [('0', 9.8984375), ('3', 9.625), ('位', 9.3984375), ('4', 9.28125), ('6', 8.890625)], 23: [('вици', 8.90625), (' fall', 8.671875), ('above', 8.34375), (' Blockly', 8.0625), ('ndre', 8.0390625)], 43: [('4', 11.3828125), ('6', 11.3046875), ('7', 11.2265625), ('5', 11.203125), ('3', 11.125)], 53: [('2', 10.3203125), ('5', 9.578125), ('7', 9.4765625), ('9', 9.3125), (' agost', 8.9453125)], 59: [('utt', 9.1171875), ('ote', 8.9453125), ('*', 8.546875), ('*$', 8.265625), (' contrari', 8.0859375)], 60: [('9', 12.921875), ('8', 12.5546875), ('6', 12.1171875), ('7', 11.546875), ('2', 11.53125)]}, 11: {7: [('lap', 9.25), ('硬', 8.84375), ('Fit', 8.6640625), ('лосо', 8.65625), ('ceq', 8.515625)], 18: [('geant', 10.671875), ('mosp', 10.1875), ('bren', 10.0390625), ('роден', 9.9765625), ('стория', 9.9140625)], 32: [('cep', 9.5546875), ('烊', 8.328125), ('记住', 8.109375), ('secre', 8.0703125), ('就说', 8.0546875)], 35: [('стина', 8.4609375), ('ributed', 8.34375), ('гле', 8.28125), ('rodn', 8.1796875), ('rites', 8.0625)], 38: [('AK', 10.0859375), (' e', 10.0390625), (' s', 9.6171875), ('常', 9.453125), ('inet', 8.9609375)], 50: [('letal', 9.8515625), ('inely', 9.6953125), (' местообита', 9.1953125), ('ient', 9.140625), ('idly', 9.078125)]}, 4: {8: [('oure', 9.8359375), ('liquid', 8.796875), (' liquid', 8.7421875), (' BRE', 8.7265625), ('oit', 8.5625)], 11: [('сем', 9.140625), ('уре', 9.109375), ('iful', 8.953125), ('aquen', 8.546875), ('dden', 8.4609375)], 27: [('etimes', 13.0546875), ('ystyle', 11.2265625), (' вра', 10.0234375), ('蜘', 9.890625), ('StyleID', 9.875)], 35: [('ppa', 8.9453125), ('oleon', 8.7734375), ('obia', 8.71875), ('hiba', 8.6015625), ('安定', 8.4453125)], 50: [('组成', 9.125), ('��', 8.7265625), (' pars', 8.0546875), ('вели', 8.03125), ('flat', 8.03125)], 52: [('ac', 10.0234375), (' best', 9.3515625), ('вете', 8.5859375), ('best', 8.1328125), ('Horizontal', 7.4296875)]}, 1: {10: [('4', 16.28125), ('0', 15.765625), ('6', 15.5703125), ('7', 15.5546875), ('1', 15.40625)], 30: [(' Prats', 12.53125), ('дото', 11.7890625), (' Valls', 11.0703125), ('mesos', 11.046875), (' Llet', 10.8828125)], 33: [('пен', 10.2265625), ('лети', 8.90625), ('лет', 8.890625), ('кур', 8.6484375), ('家常', 8.4921875)], 47: [(' наслед', 9.609375), ('adays', 9.109375), (' подно', 8.890625), ('Населени', 8.7734375), ('undai', 8.7734375)], 53: [('ophilus', 9.578125), ('aita', 9.203125), ('curi', 9.125), ('resse', 8.6328125), ('odor', 8.5234375)], 58: [('unes', 9.75), ('lins', 9.25), ('taw', 9.0625), ('olt', 8.203125), (' Checklist', 8.1484375)]}, 15: {11: [('DLINE', 9.75), ('��', 9.5234375), (' @}', 9.453125), ('persones', 9.453125), ('ptu', 9.3203125)], 18: [('ires', 9.0859375), ('Con', 8.828125), ('strap', 8.671875), (' codi', 8.578125), ('兰达', 8.3125)], 32: [('��', 14.6796875), ('вети', 10.65625), ('drom', 10.3046875), ('acis', 9.6640625), ('obra', 9.5234375)], 35: [(' salv', 9.7578125), ('omic', 8.8515625), ('обла', 8.484375), ('cat', 8.46875), ('arte', 8.2578125)], 50: [('…', 9.21875), ('ocket', 8.9921875), (' Bay', 8.703125), ('3', 8.6484375), ('7', 8.4765625)], 52: [('ains', 9.3359375), ('Respuesta', 9.2421875), ('zar', 8.7265625), ('пя', 8.2109375), ('boa', 8.15625)]}, 7: {23: [('comp', 8.25), (' compos', 8.25), ('tr', 8.125), ('闭', 8.0625), ('s', 7.9609375)], 28: [(' ', 10.359375), ('处', 9.78125), (' E', 9.3671875), (' \"', 9.0234375), ('opr', 8.984375)], 38: [('akan', 9.453125), ('erness', 9.4453125), ('蛮', 9.0703125), ('xic', 8.8515625), ('olerable', 8.6328125)], 40: [('ientras', 9.4453125), ('odin', 9.3984375), ('onges', 9.28125), ('estany', 8.875), ('chiev', 8.84375)], 50: [('erc', 9.5), ('ercus', 8.9921875), ('istr', 8.4609375), ('赶', 8.09375), (' elements', 8.0)], 53: [('nds', 12.2265625), ('фер', 10.2421875), ('ipped', 10.2109375), (' envolt', 9.703125), ('мии', 9.53125)]}, 13: {23: [('лио', 9.5), ('藻', 9.390625), ('ващи', 8.7109375), (' tim', 8.4296875), ('iterr', 8.2890625)], 28: [('коман', 9.7578125), ('�乐', 8.84375), ('ares', 8.5390625), ('hu', 8.46875), ('oraci', 8.28125)], 29: [('内脏', 8.4140625), ('表', 8.265625), (' роли', 7.859375), ('oste', 7.85546875), (' fora', 7.84375)], 40: [('olat', 10.9765625), ('queda', 9.734375), ('пла', 9.5546875), ('eston', 9.4921875), ('esi', 9.28125)], 43: [('1', 12.1171875), ('3', 12.0078125), ('5', 11.8359375), ('0', 11.4296875), ('6', 11.375)], 53: [('nk', 10.2421875), ('link', 8.6015625), ('RL', 8.5625), ('айн', 8.4453125), ('cas', 7.97265625)]}, 9: {35: [('писано', 10.484375), ('лиза', 9.4453125), ('писан', 8.8046875), (' Кня', 8.7890625), ('ires', 8.5)], 38: [('ism', 9.4921875), ('ЕФА', 9.1640625), ('ISM', 8.921875), ('�', 8.296875), ('se', 8.15625)], 40: [('FOOTNOTES', 8.5390625), ('arton', 8.2421875), ('党和', 8.140625), ('的存在', 8.0703125), (' defin', 8.0546875)], 46: [('ergi', 9.1640625), ('aleses', 9.1015625), ('何', 8.71875), ('Акт', 8.7109375), (' Lcom', 8.640625)], 50: [('parm', 10.6953125), (' Gras', 9.2109375), ('ings', 8.828125), ('inos', 8.8203125), (' par', 8.796875)], 52: [('лон', 10.140625), ('rsa', 9.4296875), ('пов', 9.015625), ('arat', 8.6015625), ('вро', 8.1875)]}}\n",
      "Shared expert predictions: [[('ismes', 0.302490234375), (' Senat', 0.299072265625), ('semb', 0.294677734375), ('ODO', 0.29345703125), ('Habitants', 0.292724609375)], [('�', 0.6982421875), (' valign', 0.6796875), ('wer', 0.6455078125), ('蔚', 0.61572265625), ('чина', 0.61474609375)], [('GAL', 0.91064453125), ('ROID', 0.859375), ('ologies', 0.787109375), ('忍', 0.76513671875), (' sez', 0.76220703125)], [('忍', 0.8642578125), ('iling', 0.845703125), ('-,', 0.84130859375), ('LOP', 0.8271484375), ('—', 0.8193359375)], [('�', 0.69384765625), ('辙', 0.66650390625), ('1', 0.66552734375), ('正好', 0.650390625), ('宇', 0.63232421875)], [('Published', 0.77099609375), (' T', 0.71044921875), ('↳', 0.70703125), (' pitches', 0.70263671875), ('坏', 0.70068359375)], [('wered', 0.69580078125), ('稳步', 0.57861328125), ('光彩', 0.57763671875), ('晖', 0.56591796875), ('一次次', 0.5556640625)], [(' slic', 0.98974609375), ('НС', 0.88134765625), ('ду', 0.82958984375), (' общ', 0.8203125), ('HCI', 0.79248046875)], [('ovna', 1.1904296875), ('НС', 0.935546875), ('FromRange', 0.93505859375), ('lel', 0.93505859375), ('HCI', 0.88720703125)], [('�乐', 1.103515625), ('etor', 0.97802734375), (' кръв', 0.9619140625), ('enger', 0.94287109375), ('ху', 0.93212890625)], [('�乐', 1.005859375), ('НС', 0.9296875), ('etor', 0.8701171875), ('iline', 0.86669921875), ('ViewById', 0.83935546875)], [('($.', 0.86328125), ('cj', 0.76806640625), ('菲特', 0.759765625), ('�', 0.73046875), ('兰特', 0.72509765625)], [('8', 1.1953125), ('6', 1.068359375), ('5', 1.0478515625), ('9', 1.02734375), ('0', 1.0126953125)], [('berry', 1.3154296875), ('皮的', 1.16796875), ('бора', 1.142578125), ('swe', 1.119140625), (' bany', 1.1123046875)], [('Filed', 1.2783203125), ('麒', 1.162109375), ('inic', 1.15625), ('uting', 1.142578125), (' Cull', 1.1259765625)], [('成龙', 0.9423828125), ('是多么', 0.92626953125), ('人对', 0.9169921875), ('洪', 0.89892578125), ('地里', 0.88720703125)], [('нята', 1.2353515625), ('ρο', 1.21484375), ('дова', 1.19921875), ('sies', 1.12109375), ('ogan', 1.109375)]]\n",
      "\n",
      "MoE Layer 15:\n",
      "Selected experts: [[16, 3, 24, 35, 27, 19], [17, 49, 54, 50, 10, 12], [14, 21, 12, 2, 29, 1], [53, 31, 37, 26, 33, 17], [21, 14, 61, 2, 42, 40], [39, 7, 11, 29, 35, 18], [35, 49, 52, 3, 7, 39], [29, 4, 40, 25, 42, 53], [40, 29, 37, 42, 4, 28], [14, 51, 55, 40, 4, 61], [34, 40, 4, 53, 29, 63], [22, 40, 56, 51, 47, 14], [36, 60, 9, 63, 27, 42], [29, 42, 4, 6, 40, 34], [29, 40, 4, 18, 42, 28], [4, 40, 61, 21, 35, 14], [63, 29, 34, 40, 4, 18]]\n",
      "Expert weights: [[0.03466796875, 0.465576171875, 0.0299072265625, 0.02752685546875, 0.0225982666015625, 0.02001953125], [0.08636474609375, 0.10394287109375, 0.2235107421875, 0.0673828125, 0.05596923828125, 0.044281005859375], [0.1337890625, 0.05810546875, 0.055389404296875, 0.054046630859375, 0.048492431640625, 0.04559326171875], [0.11004638671875, 0.0791015625, 0.07275390625, 0.0460205078125, 0.041656494140625, 0.040802001953125], [0.20556640625, 0.10198974609375, 0.06451416015625, 0.055450439453125, 0.053619384765625, 0.0438232421875], [0.058135986328125, 0.1343994140625, 0.055633544921875, 0.04400634765625, 0.040771484375, 0.03521728515625], [0.084716796875, 0.08245849609375, 0.0777587890625, 0.0667724609375, 0.063720703125, 0.0518798828125], [0.338134765625, 0.1575927734375, 0.0797119140625, 0.042205810546875, 0.031463623046875, 0.023834228515625], [0.10137939453125, 0.2418212890625, 0.0239715576171875, 0.0304412841796875, 0.287841796875, 0.019989013671875], [0.1807861328125, 0.177001953125, 0.10064697265625, 0.09075927734375, 0.07452392578125, 0.040435791015625], [0.265869140625, 0.1884765625, 0.08233642578125, 0.057708740234375, 0.04486083984375, 0.039886474609375], [0.6904296875, 0.052520751953125, 0.05645751953125, 0.027618408203125, 0.0145721435546875, 0.0133819580078125], [0.1322021484375, 0.25830078125, 0.06719970703125, 0.033355712890625, 0.031402587890625, 0.030975341796875], [0.2259521484375, 0.11767578125, 0.0841064453125, 0.08087158203125, 0.064697265625, 0.053985595703125], [0.22705078125, 0.15576171875, 0.1474609375, 0.06341552734375, 0.037139892578125, 0.03533935546875], [0.061309814453125, 0.086181640625, 0.10601806640625, 0.06915283203125, 0.0765380859375, 0.049163818359375], [0.06707763671875, 0.042388916015625, 0.273681640625, 0.1650390625, 0.1248779296875, 0.02593994140625]]\n",
      "Combined output tokens: [[(' n', 0.7646484375), ('prop', 0.6982421875), (' s', 0.6884765625), ('ismes', 0.66259765625), (' p', 0.6259765625)], [('�乐', 1.8173828125), ('NonUser', 1.7783203125), (' observat', 1.771484375), ('}^*(', 1.7119140625), (' Prats', 1.6875)], [('ulosa', 2.89453125), ('arro', 2.298828125), ('rils', 2.228515625), ('━', 2.185546875), ('OperationKind', 2.17578125)], [('}$~\\\\', 1.8935546875), ('статъ', 1.841796875), ('цяло', 1.80859375), (' universitari', 1.7578125), ('tablen', 1.720703125)], [('boats', 1.8095703125), ('oice', 1.5947265625), ('富贵', 1.583984375), (' dur', 1.56640625), ('STO', 1.560546875)], [('слу', 1.5400390625), ('粘膜', 1.353515625), ('解锁', 1.3525390625), ('nable', 1.3232421875), ('ICI', 1.306640625)], [('.', 0.79345703125), (' A', 0.7353515625), (',', 0.7294921875), (' .', 0.72607421875), (' -', 0.71630859375)], [('omics', 4.1328125), ('optera', 3.7578125), ('icent', 3.744140625), ('witz', 3.73046875), ('mente', 3.71484375)], [('eered', 3.146484375), (' ic', 3.13671875), ('backslash', 3.0078125), ('Gen', 2.9453125), (' Gen', 2.9375)], [(' slic', 2.16015625), ('咬', 2.09765625), ('ousel', 2.095703125), ('umen', 2.072265625), ('LIC', 2.0546875)], [('erable', 4.33203125), ('apo', 4.171875), ('adell', 4.02734375), ('▽', 3.681640625), ('atial', 3.66796875)], [('ograp', 4.32421875), ('千金', 4.02734375), (' Gu', 4.0078125), ('ensa', 3.994140625), ('ionat', 3.966796875)], [('idences', 3.146484375), ('verages', 2.732421875), ('allet', 2.71484375), ('\\tspin', 2.666015625), ('itian', 2.630859375)], [('cie', 2.201171875), ('istocr', 2.19140625), ('tra', 2.1796875), (' territor', 2.138671875), ('signature', 2.12890625)], [(' ', 3.0625), ('不大', 2.984375), ('beit', 2.92578125), ('潮', 2.9140625), ('\\u200c', 2.81640625)], [(' -', 1.6806640625), (' ', 1.58203125), ('Allocation', 1.5751953125), ('ients', 1.5166015625), ('тат', 1.5029296875)], [(' D', 4.2109375), (' C', 3.615234375), ('tons', 3.525390625), ('цо', 3.474609375), ('icro', 3.4453125)]]\n",
      "Expert predictions by position: {2: {1: [('writeField', 10.2109375), ('ropolit', 10.140625), ('FieldLocation', 10.0), ('MSearch', 9.9296875), ('mmode', 9.875)], 2: [('by', 9.40625), ('alt', 9.140625), ('�', 8.875), ('1', 8.875), ('3', 8.640625)], 12: [('igens', 9.2265625), ('тъ', 8.8828125), ('oles', 8.421875), ('̀', 8.28125), ('IPP', 7.91796875)], 14: [('ments', 8.3515625), ('TRAN', 8.3203125), ('り', 8.3046875), (' pse', 8.2109375), ('mis', 8.1484375)], 21: [('atoris', 9.8515625), ('урен', 9.140625), ('苗', 8.625), ('晚报', 8.6171875), ('archar', 8.5625)], 29: [('��', 12.1328125), (' Сви', 10.9296875), ('��', 10.53125), ('��', 10.1484375), ('brids', 9.515625)]}, 4: {2: [('富', 8.1640625), ('za', 8.1171875), ('oscal', 8.0390625), ('enedor', 7.765625), ('ктор', 7.71484375)], 14: [(' тит', 11.2578125), ('ngu', 11.140625), ('ulada', 11.0), ('ITLE', 10.125), ('arro', 10.046875)], 21: [('vity', 10.21875), ('опа', 9.09375), ('oles', 8.8828125), ('ndies', 8.859375), ('umper', 8.75)], 40: [('pse', 9.734375), ('cross', 9.5390625), ('po', 9.078125), ('\"', 8.15625), (' -', 8.1328125)], 42: [('UTO', 9.6484375), ('offs', 9.0390625), ('mud', 8.75), ('тания', 8.734375), ('kle', 8.703125)], 61: [('archar', 9.203125), ('锅', 9.1953125), ('entar', 9.0234375), (' sink', 8.8671875), ('edded', 8.84375)]}, 0: {3: [('locar', 9.9609375), ('egu', 9.140625), ('andria', 8.9609375), ('копа', 8.765625), ('говори', 8.765625)], 16: [('inguish', 10.4765625), ('��', 9.2265625), ('率高', 9.046875), ('�', 9.0390625), ('掘', 8.1484375)], 19: [('ystyle', 8.890625), (' Noguera', 8.609375), ('StyleID', 8.5859375), ('ouville', 8.5078125), ('idera', 8.5078125)], 24: [(' Pins', 9.03125), ('CodeAttribute', 8.6015625), (' sols', 8.09375), (' Tw', 7.96484375), ('AudioEvent', 7.71875)], 27: [(' recon', 8.640625), (' квар', 8.578125), ('ONY', 8.2890625), ('康', 8.1484375), ('бите', 8.1328125)], 35: [('вестни', 9.25), (' feines', 8.953125), ('adell', 8.8828125), ('OrBuilder', 8.6953125), ('кул', 8.453125)]}, 6: {3: [('crest', 8.96875), ('icacy', 8.109375), ('}$~\\\\', 8.0859375), (' Gram', 7.890625), ('рад', 7.8515625)], 7: [('гел', 9.4609375), ('никът', 8.890625), ('uega', 8.84375), ('itchers', 8.765625), ('issi', 8.71875)], 35: [('стория', 9.34375), ('odont', 9.296875), ('entieth', 9.2734375), ('гнали', 8.9453125), ('ERC', 8.6171875)], 39: [('igida', 9.4296875), ('ი�', 9.21875), ('psfrag', 9.2109375), ('стро', 9.1640625), ('ChangeListener', 9.1015625)], 49: [('uraci', 10.0234375), ('aquella', 9.6171875), ('aviera', 9.5703125), ('undos', 9.546875), ('anuts', 8.828125)], 52: [(' експе', 11.6875), ('ciplinary', 10.2734375), ('ogc', 9.5859375), ('eret', 9.2734375), ('рил', 8.890625)]}, 7: {4: [('temper', 9.25), ('徽', 8.8046875), ('潮', 8.7734375), ('操作', 8.6171875), ('тени', 8.3828125)], 25: [('poons', 10.7890625), ('пие', 10.28125), ('rendre', 9.4453125), ('DUCT', 9.15625), ('ElementsBy', 9.1484375)], 29: [('leman', 8.390625), ('..\">', 8.234375), (' континента', 8.1640625), ('HM', 8.109375), (' B', 7.83984375)], 40: [('翼翼', 9.4765625), ('aren', 8.4765625), ('ud', 8.0078125), ('inat', 7.93359375), ('infin', 7.86328125)], 42: [('ch', 9.203125), ('tty', 9.1328125), (' p', 9.1171875), ('助', 8.8984375), ('p', 8.6640625)], 53: [('ellent', 9.9921875), (' juga', 9.40625), ('umbing', 8.390625), ('ARI', 8.3203125), ('icol', 8.078125)]}, 8: {4: [('stands', 10.125), (' Carme', 8.7578125), (' stands', 8.7578125), ('ordial', 8.546875), ('thed', 8.4375)], 28: [('ланд', 9.8046875), ('注', 8.34375), (' Key', 8.0703125), ('键', 7.9921875), ('狮', 7.95703125)], 29: [('omics', 9.9296875), ('uent', 9.03125), ('optera', 8.703125), ('enties', 8.6875), ('CLUD', 8.6484375)], 37: [('PH', 9.921875), ('ph', 8.515625), ('onica', 8.1875), (' номини', 7.9453125), ('…', 7.94140625)], 40: [(' -', 10.1171875), ('.', 9.109375), (' r', 8.8671875), (' ~', 8.7421875), (' p', 8.609375)], 42: [('лъ', 10.5390625), ('ляне', 9.2734375), ('kle', 8.8515625), ('UTO', 8.7421875), ('umatic', 8.4921875)]}, 9: {4: [('eered', 9.078125), ('sei', 8.875), ('ган', 8.8046875), ('нии', 8.6796875), (' gall', 8.625)], 14: [('ualment', 9.9375), ('stia', 9.125), ('agoons', 9.0859375), ('ulay', 9.0546875), ('ulus', 8.9453125)], 40: [('池', 9.1484375), ('】【', 8.625), ('sen', 7.92578125), ('кога', 7.7890625), ('名誉', 7.66796875)], 51: [(' Llib', 10.4921875), ('ък', 10.390625), ('inki', 10.1484375), ('兰达', 10.0), ('行人', 9.328125)], 55: [('的结果', 9.078125), ('qed', 8.8984375), ('вече', 8.6015625), ('结果', 8.5390625), ('li', 8.296875)], 61: [('级', 8.8984375), ('rers', 8.515625), ('insertBefore', 8.3203125), ('炸', 8.2265625), ('ctxt', 7.94921875)]}, 10: {4: [(' Lloren', 11.0234375), ('thed', 9.9609375), ('skirts', 9.09375), ('Mach', 9.0234375), ('topic', 8.65625)], 29: [('Македония', 9.5546875), (' сла', 9.28125), ('wml', 9.1953125), ('瘤', 8.9375), ('icode', 8.6875)], 34: [('iats', 9.6484375), ('erable', 9.4375), (' be', 9.3984375), ('=\"#!\"', 8.3515625), ('▽', 8.21875)], 40: [('angera', 11.125), ('icut', 9.703125), ('CPTR', 9.0234375), ('的英雄', 8.859375), ('ael', 8.7578125)], 53: [('verd', 10.0625), (' имо', 9.3046875), ('wani', 9.2890625), ('жан', 8.5546875), ('ousk', 8.3671875)], 63: [('assent', 12.1796875), ('erol', 12.109375), ('ireccion', 11.59375), ('Inspe', 11.5625), ('elis', 10.828125)]}, 13: {4: [('coma', 9.0390625), ('глави', 8.4375), ('measurements', 8.3125), (' trail', 8.3046875), ('haver', 8.0546875)], 6: [('tern', 10.5625), ('tn', 9.0), ('tif', 8.84375), ('字第', 8.6796875), ('ONS', 8.6171875)], 29: [(' preve', 8.9765625), ('addock', 8.921875), ('notin', 8.75), ('рета', 8.5703125), ('acuse', 8.2265625)], 34: [('inol', 9.1015625), ('侄', 8.640625), ('利益', 8.5625), (' prepositional', 8.390625), ('相信', 8.3125)], 40: [('xits', 10.3671875), ('INGLE', 9.71875), ('orks', 9.6328125), ('estany', 9.5078125), ('estad', 9.375)], 42: [('ласт', 11.15625), (' brut', 9.609375), ('材', 9.3203125), ('far', 9.1796875), ('boxing', 9.171875)]}, 14: {4: [('umed', 8.6484375), ('oule', 8.4140625), ('ordial', 8.2890625), ('oral', 8.2265625), ('odal', 8.1796875)], 18: [('0', 9.9609375), ('2', 9.1953125), ('4', 8.8828125), ('head', 8.7109375), ('HEAD', 8.3046875)], 28: [('仅代表作者本人观点', 10.421875), ('mosfera', 9.5078125), ('дова', 9.3046875), (' CV', 8.484375), ('bology', 8.3828125)], 29: [('ут', 8.984375), (' continent', 8.125), ('umed', 7.99609375), ('吧', 7.73046875), ('adel', 7.67578125)], 40: [('4', 12.296875), (' -', 11.296875), ('3', 11.2421875), ('6', 11.1484375), ('2', 10.9765625)], 42: [('ystem', 9.90625), ('Shard', 8.9296875), ('肥', 8.5546875), ('ARA', 8.4140625), ('AMI', 8.2890625)]}, 15: {4: [('gr', 9.484375), ('рал', 9.3359375), ('ccentric', 9.21875), ('到场', 9.0078125), ('тро', 8.796875)], 14: [('9', 9.96875), ('0', 9.4609375), (' &(', 9.0), ('6', 8.8515625), ('icher', 8.484375)], 21: [('boats', 11.0078125), ('boat', 9.9453125), ('uede', 8.828125), ('aving', 8.6015625), ('hiba', 8.28125)], 35: [('ices', 10.09375), ('sol', 9.359375), ('ier', 8.9765625), ('iere', 8.4921875), (' ho', 8.28125)], 40: [('angera', 10.765625), ('rror', 10.6796875), ('anuts', 9.53125), ('izz', 8.5859375), ('跟鞋', 8.453125)], 61: [('erson', 9.8125), ('iciones', 9.328125), ('itori', 9.2734375), ('nuts', 8.7265625), ('�乐', 8.6171875)]}, 16: {4: [('тро', 9.3046875), ('сер', 8.734375), (' ic', 8.5859375), (' Gen', 8.5078125), ('нии', 8.359375)], 18: [('tega', 9.3359375), (' ,\\\\\\\\', 9.03125), ('Olot', 8.859375), ('axies', 8.71875), ('isSet', 8.703125)], 29: [('cia', 8.625), ('wich', 8.5625), ('istocr', 8.2578125), ('ummy', 8.2109375), ('umed', 8.15625)], 34: [('inol', 9.90625), ('鉴', 9.671875), ('口的', 9.1328125), ('тв', 8.6953125), ('iatrics', 8.546875)], 40: [('abad', 9.6796875), ('ulus', 9.2890625), ('anges', 8.8515625), ('咬', 8.609375), ('ature', 8.296875)], 63: [('�乐', 10.265625), ('rave', 9.5546875), ('wso', 9.046875), ('atable', 8.6640625), (' Prefect', 8.5234375)]}, 5: {7: [('лей', 9.421875), ('топ', 8.75), ('irtual', 8.6328125), ('立卡', 8.6171875), ('virtual', 8.15625)], 11: [('esti', 10.9375), ('ious', 9.9609375), ('iously', 9.40625), ('obt', 8.8203125), ('ium', 8.4453125)], 18: [('i', 12.21875), ('0', 11.2578125), ('a', 10.9921875), ('head', 10.9375), ('4', 10.578125)], 29: [('witz', 9.3046875), ('cords', 9.1796875), ('tingham', 8.203125), ('otas', 8.1484375), ('mant', 8.0234375)], 35: [('4', 9.71875), ('8', 8.9609375), ('7', 8.59375), ('0', 8.578125), ('oss', 8.46875)], 39: [('subNav', 9.9296875), ('timologia', 9.3828125), ('SAM', 9.2578125), (' sorpresa', 8.9921875), ('箱', 8.9765625)]}, 12: {9: [('nery', 9.6796875), (' rep', 9.2421875), ('resent', 8.8125), ('ложения', 8.5390625), ('致', 8.4609375)], 27: [('jecci', 10.421875), ('quilla', 9.0703125), ('::__', 8.9375), (' Рил', 8.90625), ('рис', 8.7109375)], 36: [('XHR', 10.6171875), ('ionization', 10.015625), ('ilets', 9.3828125), ('idor', 9.3828125), ('itian', 9.34375)], 42: [('ележки', 8.8671875), ('�', 8.21875), ('umper', 8.2109375), ('поли', 8.1171875), ('iter', 7.86328125)], 60: [('步行', 9.34375), (' голя', 9.328125), (' или', 9.296875), ('allet', 9.1640625), ('eces', 8.890625)], 63: [('ACCEPTED', 13.765625), ('�乐', 12.296875), ('Orquestra', 12.109375), ('NameLink', 11.84375), ('ousseau', 11.640625)]}, 1: {10: [('rary', 8.78125), ('aquen', 8.65625), ('бина', 8.515625), ('enh', 8.46875), ('sem', 8.2421875)], 12: [('路与', 8.5625), ('cion', 8.546875), ('enting', 8.1953125), ('ionals', 8.1953125), ('chand', 8.03125)], 17: [('ias', 9.1171875), ('ies', 8.953125), ('令', 8.9453125), ('ts', 8.453125), ('ras', 8.421875)], 49: [('LOPT', 9.5859375), ('خ', 8.8984375), ('abert', 8.84375), ('ertes', 8.2734375), ('bitField', 8.015625)], 50: [('urals', 10.96875), (' interpretant', 9.8828125), ('лес', 9.8125), (' sanitaris', 9.546875), ('肯', 9.265625)], 54: [('蘸', 9.1875), ('itiva', 9.1171875), ('oyal', 8.9296875), (' constel', 8.7265625), ('oir', 8.671875)]}, 11: {14: [(' pit', 9.7578125), ('asign', 9.7578125), ('li', 8.75), ('lect', 8.7421875), ('osed', 8.734375)], 22: [(' вместо', 9.09375), ('rather', 8.96875), (' rather', 8.8984375), ('星', 8.65625), ('морска', 8.5390625)], 40: [('atures', 9.921875), ('ature', 9.1171875), ('ances', 8.65625), ('icity', 8.640625), ('amard', 8.484375)], 47: [('ernes', 9.5), ('ствия', 8.96875), ('acements', 8.8984375), ('ardens', 8.796875), ('nections', 8.7890625)], 51: [('anque', 9.2890625), ('vinguda', 9.1875), ('==)', 9.046875), ('factual', 8.921875), ('пени', 8.8671875)], 56: [(' смет', 10.59375), (' Blocks', 10.390625), ('ursal', 10.1796875), ('Tl', 9.1875), ('urge', 9.1171875)]}, 3: {17: [(' why', 12.59375), (' Why', 10.90625), ('为什么', 10.5859375), ('why', 10.0390625), ('Why', 9.5703125)], 26: [('偿', 8.765625), ('出游', 8.578125), ('мия', 8.4296875), ('bodies', 8.421875), ('organitzaci', 7.89453125)], 31: [('iclismo', 11.2734375), ('arpa', 11.2265625), ('acam', 10.421875), ('idunt', 10.2109375), ('atedral', 10.171875)], 33: [('фра', 10.2265625), (' експе', 9.6875), (' citiz', 9.34375), (' repartia', 9.25), ('atura', 9.2109375)], 37: [('them', 9.0390625), ('terday', 8.8203125), ('WR', 8.7421875), ('题', 8.7265625), ('收费', 8.5703125)], 53: [('restant', 11.015625), ('mend', 9.4609375), ('esome', 8.28125), ('tenes', 8.203125), ('uliarly', 8.03125)]}}\n",
      "Shared expert predictions: [[(' n', 0.69873046875), ('prop', 0.669921875), (' s', 0.64111328125), ('ismes', 0.6220703125), ('lou', 0.568359375)], [('�乐', 1.7578125), ('Ungrouped', 1.4990234375), ('NonUser', 1.49609375), ('ExternalTask', 1.484375), (' observat', 1.3154296875)], [(' cryptocur', 1.275390625), (' sexe', 1.2734375), ('semb', 1.115234375), ('(--', 1.103515625), ('лове', 1.1005859375)], [('}$~\\\\', 1.416015625), ('��', 1.1826171875), ('NameLink', 1.12109375), ('mode', 1.068359375), ('dum', 1.0302734375)], [('ishments', 0.8349609375), ('�', 0.8232421875), ('iosos', 0.80615234375), ('irtual', 0.8017578125), ('\\telem', 0.7666015625)], [('nable', 1.25390625), ('�', 1.203125), (' cryptocur', 1.1572265625), ('слу', 1.134765625), ('stri', 1.060546875)], [('.', 0.869140625), (',', 0.771484375), (' -', 0.76318359375), (' .', 0.73388671875), (';', 0.7294921875)], [(' Mem', 1.1484375), ('emb', 1.0126953125), (' mem', 0.99853515625), (' (', 0.99072265625), ('ertiary', 0.98876953125)], [('alb', 1.08984375), (' l', 0.98046875), ('engua', 0.97607421875), (' _', 0.93505859375), (' st', 0.93115234375)], [('тур', 1.029296875), ('querque', 0.9833984375), ('izations', 0.970703125), ('orno', 0.958984375), ('heads', 0.94775390625)], [('aquen', 1.095703125), ('rinos', 1.0205078125), ('━━', 0.9970703125), ('Васил', 0.97119140625), ('ismes', 0.9208984375)], [(' em', 1.015625), (' Emp', 1.009765625), (';', 0.96826171875), ('pare', 0.89599609375), (' nor', 0.87353515625)], [(' n', 1.171875), ('idences', 1.1708984375), (' Mod', 1.1083984375), (' Mand', 1.080078125), (' CP', 1.041015625)], [('idences', 1.1259765625), ('ismes', 1.0966796875), ('тели', 1.0595703125), (' st', 1.009765625), (' Mod', 0.96142578125)], [('abla', 1.28515625), (' n', 1.1357421875), ('enda', 1.08984375), ('ocamp', 1.0634765625), ('Nelson', 1.060546875)], [('ipre', 1.052734375), (' st', 1.0390625), ('�', 1.03515625), (\" '\", 1.0341796875), ('循环', 1.0009765625)], [(' IP', 1.38671875), (' p', 1.2958984375), (' l', 1.1923828125), (' P', 1.1728515625), (' ', 1.134765625)]]\n",
      "\n",
      "MoE Layer 16:\n",
      "Selected experts: [[23, 1, 8, 3, 10, 37], [36, 52, 51, 7, 33, 50], [47, 2, 30, 12, 9, 50], [11, 44, 63, 54, 24, 25], [10, 34, 47, 32, 30, 12], [32, 1, 25, 26, 45, 16], [32, 1, 56, 16, 3, 41], [59, 28, 41, 61, 25, 16], [22, 21, 59, 15, 28, 16], [34, 12, 10, 57, 16, 59], [41, 59, 18, 28, 14, 16], [10, 12, 0, 34, 38, 55], [61, 58, 28, 16, 6, 46], [28, 61, 58, 41, 59, 48], [28, 21, 35, 41, 22, 16], [12, 10, 34, 0, 28, 45], [41, 28, 58, 14, 16, 59]]\n",
      "Expert weights: [[0.04669189453125, 0.2047119140625, 0.04351806640625, 0.045166015625, 0.03411865234375, 0.032867431640625], [0.1126708984375, 0.11334228515625, 0.071044921875, 0.0667724609375, 0.052032470703125, 0.048431396484375], [0.06195068359375, 0.1295166015625, 0.05487060546875, 0.04986572265625, 0.047119140625, 0.04443359375], [0.1097412109375, 0.0804443359375, 0.07781982421875, 0.0643310546875, 0.035491943359375, 0.03497314453125], [0.164306640625, 0.098876953125, 0.07275390625, 0.062347412109375, 0.057037353515625, 0.050445556640625], [0.0858154296875, 0.059295654296875, 0.0887451171875, 0.05712890625, 0.05706787109375, 0.04852294921875], [0.05694580078125, 0.099365234375, 0.05706787109375, 0.053070068359375, 0.052886962890625, 0.04766845703125], [0.281982421875, 0.0875244140625, 0.08685302734375, 0.051727294921875, 0.042449951171875, 0.040008544921875], [0.1514892578125, 0.0810546875, 0.283935546875, 0.051666259765625, 0.038177490234375, 0.033172607421875], [0.037109375, 0.424072265625, 0.26416015625, 0.03814697265625, 0.0224761962890625, 0.0175628662109375], [0.1859130859375, 0.10186767578125, 0.1502685546875, 0.09478759765625, 0.048065185546875, 0.044677734375], [0.5341796875, 0.11871337890625, 0.03802490234375, 0.0272674560546875, 0.01959228515625, 0.019378662109375], [0.2587890625, 0.1038818359375, 0.08447265625, 0.07159423828125, 0.034942626953125, 0.03436279296875], [0.275634765625, 0.1593017578125, 0.062255859375, 0.060333251953125, 0.05938720703125, 0.0484619140625], [0.383056640625, 0.11077880859375, 0.10028076171875, 0.03558349609375, 0.032867431640625, 0.032257080078125], [0.215087890625, 0.196533203125, 0.098876953125, 0.04034423828125, 0.040130615234375, 0.0291290283203125], [0.2076416015625, 0.3076171875, 0.058349609375, 0.0548095703125, 0.042816162109375, 0.040771484375]]\n",
      "Combined output tokens: [[('NameLink', 0.82421875), ('lou', 0.79833984375), ('idera', 0.77978515625), ('стер', 0.7783203125), (' volc', 0.76806640625)], [('4', 1.2373046875), ('фт', 1.1513671875), ('1', 1.1513671875), (' mut', 1.12109375), ('8', 1.11328125)], [(' .', 2.2890625), (' m', 2.015625), (' (', 1.9931640625), (' ', 1.9345703125), (' ,', 1.82421875)], [('消失', 1.4814453125), ('剩下', 1.3271484375), ('失踪', 1.302734375), ('脱', 1.3017578125), (' Cos', 1.26953125)], [('侥幸', 1.4111328125), ('提前', 1.26953125), ('arme', 1.2255859375), ('华声', 1.2080078125), ('complex', 1.203125)], [('�', 1.1123046875), ('aine', 1.0634765625), ('栓', 1.046875), ('TRIM', 1.03125), ('声', 0.9951171875)], [('诠', 0.52880859375), ('�', 0.4794921875), (' GB', 0.471923828125), (' Marie', 0.452392578125), ('魁', 0.441162109375)], [('ейн', 3.48828125), ('ernes', 3.248046875), ('报》', 3.16796875), ('obile', 3.150390625), (' EBook', 3.125)], [(' somni', 3.51171875), ('obile', 3.43359375), ('ync', 3.419921875), ('逸', 3.345703125), (' phases', 3.287109375)], [('uta', 5.40234375), ('astre', 5.36328125), ('whom', 5.09375), ('ociety', 4.88671875), ('盐', 4.81640625)], [('iaci', 2.5078125), ('gic', 2.447265625), ('arrings', 2.341796875), ('iac', 2.28125), ('сар', 2.275390625)], [('хода', 2.7109375), ('finite', 2.587890625), ('nable', 2.580078125), ('ache', 2.498046875), ('-', 2.484375)], [('umu', 2.693359375), ('it', 2.677734375), ('elligent', 2.515625), (' it', 2.513671875), ('тел', 2.447265625)], [('5', 3.25), ('0', 2.857421875), ('1', 2.7734375), (' po', 2.6328125), ('6', 2.568359375)], [('5', 4.5625), ('0', 4.5390625), ('2', 4.43359375), ('1', 4.2265625), ('3', 4.1640625)], [(' to', 5.25), ('rita', 3.58203125), ('tode', 3.4765625), (' things', 3.396484375), ('\\tto', 3.37109375)], [('5', 5.21875), ('6', 5.03515625), ('0', 4.7109375), ('2', 4.55859375), ('4', 4.4453125)]]\n",
      "Expert predictions by position: {11: {0: [('治', 9.515625), ('红茶', 9.1171875), ('�', 9.109375), (' talla', 8.5859375), ('治理', 8.1953125)], 10: [('ature', 8.375), ('芯', 8.328125), ('дии', 8.28125), ('Read', 7.921875), ('iden', 7.91796875)], 12: [(' to', 14.578125), ('rita', 9.40625), ('\\tto', 9.25), (' things', 9.1484375), ('�', 8.5)], 34: [('ismo', 9.6328125), ('ogene', 8.78125), ('rums', 8.65625), ('andia', 8.546875), ('ا�', 8.4921875)], 38: [('pmd', 9.28125), ('hai', 9.265625), ('юл', 9.1171875), (' read', 9.0234375), ('гас', 8.8359375)], 55: [('arat', 11.4453125), ('jament', 9.7265625), ('ето', 9.40625), ('xic', 9.3984375), ('insertion', 9.2578125)]}, 15: {0: [('urator', 9.5390625), ('洗', 9.4375), ('iras', 9.4375), ('leck', 9.359375), ('默', 9.1640625)], 10: [('ove', 9.71875), ('oot', 9.2734375), ('енти', 9.1875), ('uesa', 8.96875), ('ensk', 8.4296875)], 12: [('regu', 10.0859375), ('Manip', 9.21875), ('бю', 8.78125), ('whom', 8.71875), ('illac', 8.6171875)], 28: [('包', 8.78125), ('ingles', 8.546875), (' l', 8.3125), ('adol', 7.99609375), ('avis', 7.9609375)], 34: [('avo', 10.234375), ('ubo', 9.09375), (' /', 8.9296875), ('�', 8.609375), ('джиев', 8.375)], 45: [('CS', 10.484375), ('SC', 9.9453125), ('azzi', 9.5546875), ('ン', 8.6796875), ('═', 8.328125)]}, 0: {1: [('agricultura', 9.1171875), ('рни', 9.1171875), ('ameter', 9.0546875), ('ailable', 8.921875), (' Wim', 8.703125)], 3: [('lut', 9.703125), ('рио', 9.234375), ('urface', 9.140625), ('甸', 8.015625), ('aggable', 7.796875)], 8: [('fess', 8.6640625), ('alera', 8.4140625), (' Series', 8.140625), ('двиг', 7.90625), ('�起', 7.74609375)], 10: [('华声', 10.671875), ('лям', 9.7734375), ('гри', 8.5703125), ('unta', 8.4765625), (' googleapi', 8.4609375)], 23: [('хия', 10.15625), ('de', 8.953125), ('�起', 8.875), (' Fran', 8.578125), ('верен', 8.4921875)], 37: [(' hospit', 9.7578125), (' desocup', 8.1171875), (' Select', 8.109375), ('palette', 8.0078125), ('ль', 7.921875)]}, 5: {1: [('or', 11.578125), ('OR', 9.1796875), ('ophone', 8.71875), (' esdev', 8.609375), ('жде', 8.59375)], 16: [(' Go', 9.5625), (' Дей', 8.8046875), ('тропи', 8.734375), (' пореди', 8.6015625), ('ocal', 8.5859375)], 25: [('шат', 9.1953125), ('::', 9.1328125), ('�', 8.9765625), ('西红', 8.8671875), ('CPP', 8.75)], 26: [(' O', 9.7890625), ('处', 9.375), (' ', 9.078125), ('iveness', 8.859375), (' V', 8.8203125)], 32: [('рино', 9.6640625), ('рийски', 8.9609375), ('兔', 8.8828125), ('CONNECT', 8.3828125), ('信', 8.0703125)], 45: [('SPHINX', 11.2265625), ('ottom', 10.71875), ('底的', 9.65625), ('ври', 9.2734375), (\"(':\", 9.0390625)]}, 6: {1: [('7', 11.484375), ('9', 11.2734375), ('3', 11.046875), ('4', 10.8828125), ('0', 10.796875)], 3: [('пул', 10.8203125), ('itiu', 9.0859375), ('rendre', 8.7265625), ('简书', 8.453125), ('бина', 8.21875)], 16: [('�', 9.8515625), ('ani', 9.7421875), ('apis', 9.2265625), (' n', 8.515625), (' hon', 8.2890625)], 32: [('IW', 8.9609375), ('ingroup', 8.7265625), ('ients', 8.671875), ('acier', 8.609375), ('uxer', 8.5546875)], 41: [('gress', 8.6640625), ('�', 8.2109375), (' alf', 7.890625), ('switch', 7.890625), ('saurus', 7.66796875)], 56: [('ossible', 9.6015625), ('рок', 9.203125), ('alada', 8.84375), ('зиден', 8.6875), ('oples', 8.59375)]}, 2: {2: [('ť', 9.4375), ('布', 8.03125), (' ', 7.90625), ('raph', 7.7578125), ('轩', 7.58203125)], 9: [(' бежан', 9.3671875), ('ndic', 9.3046875), ('най', 9.0390625), ('rcia', 8.9375), ('гъ', 8.84375)], 12: [('enfront', 9.9609375), ('ulin', 9.53125), ('\\\\^', 9.1953125), ('гиз', 9.1875), (' Excell', 9.125)], 30: [('t', 8.6875), (' ', 8.453125), ('l', 8.2421875), ('的一切', 8.1484375), ('直接', 8.078125)], 47: [(' Reve', 8.6796875), (' Or', 8.34375), ('1', 8.3046875), ('扎', 8.21875), ('нство', 7.89453125)], 50: [('�', 9.359375), ('ly', 9.0703125), ('gy', 8.609375), ('byte', 8.328125), ('biz', 8.2734375)]}, 12: {6: [('成为', 10.5390625), ('mmad', 10.296875), ('adura', 10.0546875), ('adona', 9.8828125), ('ached', 9.671875)], 16: [('obt', 9.0234375), ('amil', 8.953125), (' e', 8.7421875), (' ro', 8.703125), ('apis', 8.3125)], 28: [('5', 10.3359375), ('1', 10.0625), ('6', 9.3984375), ('2', 9.015625), ('nga', 8.8046875)], 46: [('itats', 9.6484375), ('itaris', 9.5078125), ('terness', 8.96875), ('ού', 8.8125), ('jats', 8.5703125)], 58: [('eq', 10.0625), (' eq', 8.9453125), ('enjoy', 8.6953125), ('gic', 8.515625), ('roe', 8.4609375)], 61: [(' iff', 9.078125), (' if', 8.8984375), ('icorn', 8.3359375), ('ethoven', 8.203125), ('aval', 8.109375)]}, 1: {7: [(' inofens', 11.4609375), ('engua', 10.0390625), (' Praga', 9.4609375), (' OMIT', 9.1796875), (' гр', 9.0234375)], 33: [('ام', 9.6796875), ('速', 8.765625), ('forth', 8.7421875), ('лото', 8.5703125), ('REE', 8.5703125)], 36: [('4', 14.4609375), ('8', 12.1796875), ('3', 12.171875), ('1', 12.03125), ('6', 11.6875)], 50: [(' {', 8.75), (' (@', 8.671875), ('||', 8.640625), ('front', 8.5625), (' &', 8.3984375)], 51: [('locker', 9.96875), ('模式', 8.84375), ('ationally', 8.671875), ('oa', 8.59375), ('inos', 8.4453125)], 52: [('itus', 9.0), ('olt', 8.5546875), ('eque', 8.5546875), ('format', 8.2265625), (' носят', 8.1484375)]}, 4: {10: [('regat', 10.4609375), ('uez', 10.15625), ('scalatest', 9.984375), ('coq', 9.9140625), ('ecci', 9.75)], 12: [('Permalink', 9.5078125), ('icles', 9.1484375), ('ну', 9.0703125), ('inia', 8.4609375), ('utad', 8.28125)], 30: [('么', 9.484375), ('尺度', 9.1328125), ('arta', 8.6171875), ('rim', 8.6171875), ('гледа', 8.3671875)], 32: [('uese', 8.359375), ('fare', 8.234375), ('相', 8.0703125), ('ILE', 8.0546875), (' tr', 8.0)], 34: [('dorff', 10.7265625), ('anship', 10.6640625), ('illator', 10.15625), ('alona', 9.8671875), ('десе', 9.859375)], 47: [('acam', 9.03125), ('哪', 8.875), ('适', 8.640625), ('opus', 8.625), ('ulats', 8.6015625)]}, 9: {10: [('джи', 9.4453125), ('READ', 9.421875), ('Read', 9.2578125), ('material', 8.46875), (' Read', 8.2421875)], 12: [('\">,</', 9.421875), ('候', 9.1640625), ('гна', 8.875), ('instead', 8.796875), ('方的', 8.6640625)], 16: [(' yes', 9.4296875), ('刻', 8.5390625), ('dom', 8.5078125), ('yes', 8.390625), ('urea', 8.0859375)], 34: [('obody', 9.609375), ('estern', 9.40625), ('oll', 9.0078125), ('Област', 8.9609375), ('местник', 8.9609375)], 57: [('isbury', 8.9296875), ('ospace', 8.734375), ('olute', 8.71875), ('oser', 8.6015625), ('cola', 8.5625)], 59: [('0', 9.5078125), ('2', 9.3984375), ('нович', 9.2734375), ('8', 9.203125), ('1', 9.1171875)]}, 3: {11: [('是什么呢', 9.0078125), ('匙', 8.3359375), ('ът', 8.234375), (' Ска', 7.96875), (' наслед', 7.7265625)], 24: [('订阅', 9.671875), ('пред', 9.296875), (' eye', 9.140625), (' hem', 8.953125), ('ALS', 8.6796875)], 25: [('ellen', 10.390625), ('靠', 9.171875), ('ета', 9.109375), ('oyer', 9.0390625), (' financer', 8.8046875)], 44: [('一行', 9.40625), ('vation', 9.25), ('dered', 8.984375), ('arquitect', 8.2890625), ('Dame', 8.15625)], 54: [('失踪', 11.4140625), (' изче', 10.546875), (' disappearance', 10.3515625), ('disappeared', 9.921875), ('貌', 9.765625)], 63: [('6', 8.890625), ('参', 8.6015625), ('7', 8.5390625), ('2', 8.390625), ('wet', 8.15625)]}, 10: {14: [('Bbb', 9.4765625), ('制造', 8.2421875), ('рол', 8.125), ('noma', 7.72265625), ('取决', 7.703125)], 16: [('->{', 10.3984375), ('��', 10.109375), (' свой', 9.9921875), ('тисти', 8.640625), (' своя', 8.546875)], 18: [(' God', 11.015625), ('юл', 10.1484375), ('God', 10.140625), (' скло', 9.765625), ('god', 9.75)], 28: [('ernes', 8.90625), (' touched', 8.8359375), ('��', 8.8203125), ('elines', 8.7109375), ('ourn', 8.640625)], 41: [('8', 11.234375), ('5', 11.1328125), ('9', 11.0), ('4', 10.140625), ('6', 9.953125)], 59: [('睦', 10.25), ('лизация', 9.9921875), ('черта', 9.4453125), ('效果', 9.1796875), ('зми', 8.4921875)]}, 16: {14: [('�', 10.0703125), (' Guarant', 8.3515625), ('Sym', 7.9453125), (' Sym', 7.93359375), (' Guarantee', 7.89453125)], 16: [('亥', 9.734375), (' =&', 9.1484375), ('сира', 8.890625), ('ymes', 8.8828125), ('вол', 8.6171875)], 28: [('elin', 10.515625), ('el', 10.0546875), ('naire', 9.40625), ('率为', 8.7265625), ('eras', 8.6015625)], 41: [('ately', 8.8515625), ('idding', 8.8125), ('itur', 8.765625), ('ostic', 8.6796875), ('inaire', 8.5390625)], 58: [('oggle', 9.796875), ('just', 9.703125), ('ogg', 9.65625), ('vers', 9.640625), ('roe', 9.484375)], 59: [('onar', 8.953125), (' Donat', 8.4921875), ('ъм', 7.96875), ('анти', 7.90625), ('ync', 7.7734375)]}, 8: {15: [('tope', 9.796875), ('IVATE', 9.703125), ('adera', 9.2890625), ('ICLE', 8.7578125), ('ερ', 8.3671875)], 16: [('�', 9.3671875), ('不容', 9.3046875), ('чва', 9.078125), ('�', 8.890625), ('рт', 8.5703125)], 21: [('anches', 9.3515625), (' charge', 8.671875), (' material', 8.5), (' cash', 8.5), (' ages', 8.3671875)], 22: [('自治', 9.515625), (' medium', 8.6953125), ('pero', 8.3984375), ('疵', 8.3828125), ('AGO', 8.15625)], 28: [('5', 11.4296875), ('2', 10.71875), ('1', 10.53125), ('3', 10.453125), ('0', 10.453125)], 59: [('arrings', 11.15625), ('wic', 10.1796875), ('odef', 9.3046875), ('ghed', 9.0859375), ('ář', 8.9453125)]}, 7: {16: [('apis', 10.1171875), (' y', 9.203125), (' x', 8.9453125), ('cha', 8.1328125), (' col', 8.09375)], 25: [('led', 9.640625), ('yt', 9.125), ('chan', 9.0859375), ('Alt', 8.765625), (' Buen', 8.7109375)], 28: [(' gad', 8.609375), ('gad', 8.2109375), ('铜', 8.0859375), ('beat', 8.03125), ('cap', 7.921875)], 41: [('less', 9.3984375), ('怠', 9.1171875), ('执', 8.71875), ('plate', 8.671875), ('net', 8.609375)], 59: [('OnClickListener', 9.6484375), ('нен', 9.390625), ('arser', 8.9921875), ('missi', 8.8671875), (' accesskey', 8.6796875)], 61: [(' despleg', 9.921875), ('�', 9.0234375), ('ladatel', 8.8359375), ('asseg', 8.6015625), ('regar', 8.484375)]}, 14: {16: [('指', 12.296875), ('cled', 9.375), ('рни', 9.2421875), ('MENT', 8.921875), ('oused', 8.75)], 21: [('рю', 9.7734375), ('sn', 9.046875), ('дите', 8.875), ('pit', 8.5234375), (' Илинден', 8.2421875)], 22: [('-', 8.8125), ('t', 8.78125), ('iest', 8.5859375), ('f', 8.34375), ('y', 8.265625)], 28: [('一人', 9.2265625), ('独', 9.2109375), ('淡', 9.1015625), ('5', 8.765625), ('ele', 8.328125)], 35: [('7', 11.140625), ('1', 11.0234375), ('0', 10.8984375), ('2', 10.671875), ('9', 10.6015625)], 41: [('安', 8.234375), ('fs', 8.171875), ('ks', 7.95703125), (' Esp', 7.828125), ('court', 7.71875)]}, 13: {28: [('6', 12.890625), ('5', 12.609375), ('4', 11.4609375), ('0', 11.2265625), ('2', 11.109375)], 41: [(' pro', 8.9765625), (' set', 8.578125), (' X', 8.34375), (' bar', 8.3125), ('好的', 7.94921875)], 48: [('-', 10.0546875), (' e', 8.6328125), ('除', 8.5625), ('Eh', 8.1484375), (' y', 8.046875)], 58: [('ope', 9.1640625), ('cast', 9.0546875), ('lite', 8.96875), ('edes', 8.78125), ('varo', 8.5546875)], 59: [('ейн', 10.90625), ('ync', 9.8984375), ('ъм', 9.8671875), ('obile', 9.75), ('мър', 9.0)], 61: [(' it', 11.375), ('特别声明', 10.515625), ('it', 9.875), ('5', 9.671875), ('伍', 9.0234375)]}}\n",
      "Shared expert predictions: [[('NameLink', 0.82763671875), ('lou', 0.7412109375), ('стер', 0.73193359375), (' volc', 0.7255859375), ('rites', 0.67578125)], [('ﬁ', 0.7666015625), ('泄', 0.75830078125), ('мена', 0.7470703125), ('和李', 0.73779296875), ('nos', 0.7333984375)], [(' .', 1.404296875), (' ,', 1.134765625), (' m', 1.123046875), (' (', 1.0791015625), (' ()', 1.0537109375)], [('oyer', 0.9306640625), ('高位', 0.892578125), ('备', 0.8720703125), ('STEM', 0.8515625), ('jc', 0.7978515625)], [('CRS', 0.81494140625), ('URN', 0.77490234375), (' Imperi', 0.70556640625), (' \\\\,.', 0.7001953125), ('CMC', 0.69384765625)], [('哮', 0.88623046875), ('разуме', 0.8701171875), ('抵', 0.84765625), ('pendix', 0.833984375), ('Spec', 0.810546875)], [('告', 0.4404296875), ('诠', 0.439453125), ('orf', 0.41943359375), ('裹', 0.406005859375), ('魁', 0.403564453125)], [('inev', 0.9912109375), ('olean', 0.966796875), ('meric', 0.95068359375), ('्', 0.9375), ('ulosa', 0.92236328125)], [(' mem', 1.1640625), ('一体化', 1.0810546875), (' Mem', 1.0751953125), ('кана', 0.958984375), ('ayout', 0.95166015625)], [('uvian', 0.9794921875), ('metavariable', 0.970703125), ('anell', 0.89111328125), (' cau', 0.87939453125), (' съд', 0.87353515625)], [('mero', 0.974609375), ('usha', 0.89404296875), (' p', 0.8603515625), ('来源', 0.8564453125), ('soid', 0.85205078125)], [('aciously', 0.95068359375), ('lectric', 0.92333984375), (' (**)', 0.921875), ('hift', 0.91845703125), ('有利', 0.91064453125)], [('bred', 0.95166015625), (' Spe', 0.8779296875), ('影', 0.87646484375), ('一动', 0.828125), ('ISC', 0.81005859375)], [('onel', 1.001953125), ('ifera', 0.9794921875), ('bok', 0.91650390625), ('uja', 0.8896484375), ('idean', 0.84130859375)], [('ifera', 1.0322265625), ('抵', 0.99951171875), ('ifer', 0.96142578125), ('Forge', 0.95947265625), ('ota', 0.919921875)], [('INY', 1.0146484375), ('达人', 0.98779296875), ('OffRequest', 0.94873046875), ('oted', 0.9453125), ('msa', 0.9169921875)], [('ycl', 1.1669921875), ('orda', 1.0966796875), ('matory', 1.052734375), ('osi', 1.037109375), ('羊', 1.009765625)]]\n",
      "\n",
      "MoE Layer 17:\n",
      "Selected experts: [[22, 37, 44, 61, 24, 11], [5, 26, 61, 34, 24, 50], [16, 18, 8, 5, 31, 9], [35, 40, 0, 34, 58, 29], [31, 18, 16, 55, 15, 21], [15, 24, 11, 50, 59, 2], [44, 24, 7, 61, 37, 62], [40, 1, 58, 60, 21, 16], [5, 40, 3, 21, 49, 54], [21, 30, 18, 55, 8, 52], [27, 60, 21, 58, 35, 1], [21, 36, 55, 56, 52, 11], [39, 2, 21, 14, 17, 20], [31, 39, 23, 40, 1, 14], [49, 1, 40, 3, 5, 54], [18, 21, 30, 55, 59, 10], [27, 1, 47, 31, 58, 21]]\n",
      "Expert weights: [[0.3974609375, 0.03302001953125, 0.026519775390625, 0.022491455078125, 0.0224456787109375, 0.021759033203125], [0.0697021484375, 0.114990234375, 0.196044921875, 0.047210693359375, 0.034881591796875, 0.0294952392578125], [0.129638671875, 0.0821533203125, 0.07305908203125, 0.0633544921875, 0.0528564453125, 0.050018310546875], [0.11871337890625, 0.1251220703125, 0.06817626953125, 0.04510498046875, 0.033721923828125, 0.030242919921875], [0.227783203125, 0.189208984375, 0.0634765625, 0.050537109375, 0.0484619140625, 0.036102294921875], [0.19140625, 0.06317138671875, 0.056732177734375, 0.04315185546875, 0.04193115234375, 0.03839111328125], [0.09893798828125, 0.0633544921875, 0.06378173828125, 0.0592041015625, 0.05419921875, 0.050445556640625], [0.479248046875, 0.056549072265625, 0.040863037109375, 0.036865234375, 0.032470703125, 0.0311737060546875], [0.143798828125, 0.08856201171875, 0.0850830078125, 0.042816162109375, 0.042816162109375, 0.03643798828125], [0.66552734375, 0.0643310546875, 0.0372314453125, 0.034393310546875, 0.0171051025390625, 0.0114288330078125], [0.35107421875, 0.077880859375, 0.07257080078125, 0.0648193359375, 0.050384521484375, 0.039337158203125], [0.583984375, 0.02203369140625, 0.02630615234375, 0.0780029296875, 0.019775390625, 0.0170135498046875], [0.1534423828125, 0.126708984375, 0.10882568359375, 0.08441162109375, 0.0682373046875, 0.05645751953125], [0.083740234375, 0.2470703125, 0.188720703125, 0.077880859375, 0.03021240234375, 0.0281829833984375], [0.048736572265625, 0.04840087890625, 0.0894775390625, 0.04205322265625, 0.1495361328125, 0.03125], [0.1619873046875, 0.09783935546875, 0.0550537109375, 0.044525146484375, 0.042022705078125, 0.03240966796875], [0.58154296875, 0.08233642578125, 0.054962158203125, 0.029327392578125, 0.0165557861328125, 0.01500701904296875]]\n",
      "Combined output tokens: [[('idera', 2.474609375), ('}$~\\\\', 2.416015625), ('frak', 2.337890625), ('endres', 2.23828125), (' Fac', 2.197265625)], [('��', 1.6572265625), ('awi', 1.462890625), (' /.', 1.458984375), ('ODO', 1.44140625), (' пребро', 1.4306640625)], [('visi', 2.06640625), ('onium', 2.044921875), ('rotron', 2.00390625), ('лож', 1.916015625), (' изчезване', 1.9091796875)], [(' WHETHER', 2.380859375), (' how', 2.328125), ('whether', 2.25390625), (' why', 2.150390625), (' whether', 2.083984375)], [('forms', 2.69921875), ('form', 2.46484375), (' form', 2.400390625), ('forma', 2.369140625), (' forms', 2.33203125)], [('’', 3.869140625), (\"'\", 3.64453125), ('五星', 2.69140625), ('´', 2.689453125), ('�', 2.498046875)], [(' ().', 0.630859375), ('LR', 0.6181640625), ('бра', 0.6064453125), ('洋洋', 0.60498046875), ('吸取', 0.60400390625)], [('ersen', 3.283203125), ('atol', 3.107421875), ('tank', 2.96484375), ('PA', 2.947265625), ('FT', 2.927734375)], [('ark', 1.59375), (\" ''\", 1.5712890625), (' CT', 1.5546875), (' CR', 1.546875), (' \"', 1.54296875)], [('Ta', 5.98828125), ('bish', 4.97265625), ('leman', 4.87109375), (' Carr', 4.7578125), ('版', 4.69140625)], [('ogn', 2.28125), ('inx', 2.09375), ('ogle', 2.091796875), ('bru', 2.080078125), ('reff', 2.072265625)], [(' but', 5.52734375), (').__', 5.5), ('orema', 5.0078125), ('�', 4.9453125), ('inks', 4.9140625)], [('ulada', 2.0078125), ('enia', 1.880859375), ('verter', 1.8046875), ('位置', 1.7001953125), ('рена', 1.6953125)], [('configs', 2.0234375), ('icina', 1.9736328125), ('ец', 1.9443359375), ('queta', 1.884765625), (' o', 1.873046875)], [('arlo', 1.802734375), ('malink', 1.658203125), ('беле', 1.654296875), ('饲', 1.6123046875), ('луб', 1.5693359375)], [('show', 2.4453125), ('Show', 2.44140625), ('ostes', 2.392578125), (' show', 2.3046875), ('狼', 2.259765625)], [('ogle', 3.931640625), ('тий', 3.80078125), ('restant', 3.53125), ('言之', 3.125), ('юс', 3.1015625)]]\n",
      "Expert predictions by position: {3: {0: [('Vtbl', 9.8515625), ('writeField', 9.6953125), ('course', 9.53125), ('关', 9.15625), ('жу', 9.1171875)], 29: [(' camb', 9.09375), (' hib', 8.890625), ('голе', 8.546875), ('rise', 8.4296875), ('сково', 8.328125)], 34: [('ashian', 11.8359375), ('enge', 10.609375), ('sWith', 10.5234375), ('вете', 10.21875), ('dle', 10.1171875)], 35: [('лар', 9.6953125), (' Индо', 9.046875), ('iosos', 8.6328125), ('agogue', 8.328125), ('identals', 8.296875)], 40: [('ersen', 8.8125), (' themselves', 8.7109375), ('atol', 8.671875), ('联系', 8.6015625), (' who', 8.1796875)], 58: [('5', 9.2109375), ('3', 8.875), ('ancourt', 8.75), ('stia', 8.7265625), ('8', 8.6328125)]}, 7: {1: [(' Бели', 10.765625), (' Над', 9.484375), ('жва', 9.1015625), ('гъ', 8.890625), ('iola', 8.78125)], 16: [(' g', 11.3828125), (' t', 9.859375), (' T', 9.3515625), (' U', 9.078125), ('iem', 8.8203125)], 21: [(' вси', 9.0390625), (' Hooker', 8.7265625), (' pre', 8.4453125), ('rere', 8.3203125), ('oes', 8.265625)], 40: [('illa', 9.296875), ('ate', 9.171875), ('ill', 8.53125), ('少', 8.4765625), ('CK', 8.2890625)], 58: [('лет', 9.734375), ('сло', 9.3828125), ('enesis', 9.0078125), ('controls', 8.9609375), ('ottie', 8.546875)], 60: [('тров', 9.71875), ('Pare', 8.4921875), ('aphor', 8.3984375), (' _', 8.21875), ('ness', 8.1953125)]}, 10: {1: [('hare', 9.0546875), ('isman', 8.8125), ('iams', 8.265625), ('ows', 8.25), ('�', 7.9609375)], 21: [('sn', 7.984375), ('CR', 7.8515625), ('IRM', 7.80078125), (' Dist', 7.7578125), ('珠', 7.59375)], 27: [('ogle', 9.90625), ('тий', 9.03125), ('足了', 8.890625), ('quei', 8.5859375), ('enge', 8.4609375)], 35: [('9', 9.78125), ('2', 9.75), ('1', 9.015625), ('3', 8.9453125), ('8', 8.9296875)], 58: [('ingen', 8.9140625), ('大病', 8.6640625), ('сол', 8.59375), ('mitt', 8.4921875), ('рица', 8.2265625)], 60: [('ness', 9.40625), ('own', 8.34375), ('ost', 8.2421875), (' ref', 8.1875), ('ization', 8.078125)]}, 13: {1: [('支', 8.03125), ('aires', 8.0078125), ('irs', 7.6484375), (' right', 7.6171875), ('USH', 7.4921875)], 14: [('ebles', 9.875), ('hores', 9.7109375), ('etat', 9.421875), ('psfrag', 9.2890625), (' tampoco', 9.078125)], 23: [('icleta', 10.3515625), ('rypted', 9.3125), ('ско', 8.828125), ('hounds', 8.5859375), ('ajara', 8.421875)], 31: [('7', 13.6328125), ('6', 13.34375), ('4', 13.2421875), ('5', 13.09375), ('2', 12.5546875)], 39: [('quei', 11.015625), ('oths', 10.21875), ('Afganistan', 9.578125), ('acent', 9.421875), ('ulada', 9.3046875)], 40: [(' how', 20.03125), (' why', 19.921875), ('why', 16.71875), ('how', 16.3125), (' who', 13.5390625)]}, 14: {1: [('席', 11.3515625), (' Голе', 9.8046875), (' immobili', 9.40625), ('mateix', 9.375), ('действие', 9.25)], 3: [('�', 9.2109375), ('colhead', 8.828125), ('scorlib', 8.5078125), ('cinc', 8.5), ('itae', 8.203125)], 5: [(' death', 11.6640625), ('death', 10.8203125), ('ename', 9.90625), ('音', 9.5), (' Death', 9.2734375)], 40: [('8', 10.6171875), ('9', 10.234375), ('7', 9.9453125), ('1', 9.890625), ('0', 9.5859375)], 49: [(' p', 11.9375), ('p', 11.78125), ('ber', 10.28125), ('br', 9.984375), ('l', 9.5)], 54: [('berries', 8.9609375), ('stics', 8.5), ('thorough', 8.4140625), (' Rollo', 8.1875), (' inductor', 8.1796875)]}, 16: {1: [('erning', 9.5859375), (' Лига', 9.53125), ('otine', 9.5), (' Тър', 9.2109375), ('etcher', 9.0234375)], 21: [(' sense', 8.9375), ('isi', 8.6796875), (' Trig', 8.3125), (' subt', 7.9921875), ('��', 7.859375)], 27: [(' тек', 8.890625), ('ULD', 8.6875), ('meu', 8.5546875), ('mxd', 8.4375), ('UID', 8.328125)], 31: [('ourd', 10.0859375), ('ich', 9.0625), ('ictionary', 8.0703125), ('7', 7.57421875), ('uche', 7.53515625)], 47: [('2', 11.5078125), ('5', 11.375), ('9', 11.3125), ('7', 11.3046875), ('8', 10.953125)], 58: [('кло', 9.3984375), ('romatic', 9.3515625), ('inue', 9.1796875), ('Рим', 8.5390625), ('лю', 8.453125)]}, 5: {2: [('ante', 8.953125), ('轮', 8.734375), ('料', 8.28125), ('落地', 7.99609375), ('хар', 7.984375)], 11: [('rids', 9.6640625), ('DL', 9.65625), (' st', 8.921875), (' гори', 8.7890625), ('�', 8.53125)], 15: [(\"'\", 12.4921875), ('’', 12.359375), ('ghai', 11.7421875), ('oodles', 9.140625), (' Basc', 8.8828125)], 24: [('RL', 9.46875), ('Machine', 8.8046875), ('境界', 8.2890625), ('昭', 8.2734375), (' CES', 8.234375)], 50: [('0', 11.3828125), ('3', 10.25), ('9', 10.1953125), ('2', 9.875), ('1', 9.40625)], 59: [('uelo', 9.7578125), ('uela', 9.203125), ('宅', 9.0), ('istani', 8.7578125), ('avera', 8.5859375)]}, 12: {2: [('ство', 9.3359375), ('ered', 8.84375), ('yset', 8.671875), ('糟', 8.5390625), ('icated', 8.2578125)], 14: [('只', 9.6015625), ('фер', 9.375), ('顶', 8.8203125), ('бет', 8.7421875), ('бро', 8.2578125)], 17: [('鸡', 9.0625), ('峰', 8.8203125), ('仅代表作者本人观点', 8.6640625), ('ivable', 8.625), ('锁', 8.328125)], 20: [('原文地址', 11.171875), ('джиев', 9.078125), (' revers', 8.9609375), ('йто', 8.90625), ('ветни', 8.765625)], 21: [('Ta', 9.5390625), ('block', 8.8046875), ('ignite', 8.6484375), ('列', 8.3359375), ('and', 8.2578125)], 39: [('典', 9.2734375), ('riques', 9.125), ('otism', 9.0), ('举', 8.859375), ('iterr', 8.6796875)]}, 8: {3: [('Urb', 8.390625), ('害', 8.15625), ('evin', 7.828125), ('abra', 7.75), ('aun', 7.71484375)], 5: [('ognito', 10.1171875), ('锯', 10.0234375), ('ebra', 9.6484375), ('piar', 9.4375), ('ият', 9.3671875)], 21: [('обла', 10.328125), (' приклю', 8.8046875), ('зи', 8.75), (' entire', 8.3515625), (' ampl', 8.3359375)], 40: [('GIN', 9.2578125), (' if', 9.0703125), ('ersen', 8.9453125), ('设计的', 8.8515625), ('rqu', 8.625)], 49: [('incare', 9.71875), ('бори', 8.84375), ('йто', 8.46875), ('�', 8.359375), ('总之', 8.3515625)], 54: [('ixen', 10.125), ('ular', 10.015625), ('ishness', 9.8828125), ('лят', 9.015625), ('uture', 8.9609375)]}, 1: {5: [('astres', 10.25), ('obal', 9.6953125), ('兴', 9.1796875), ('orema', 8.65625), ('��', 8.625)], 24: [('уване', 9.375), (' suc', 8.6171875), ('мъ', 8.546875), ('sku', 8.40625), ('entially', 8.3515625)], 26: [('六', 8.5078125), ('�', 8.359375), (' gen', 8.234375), ('残', 8.1640625), ('集', 8.0390625)], 34: [('ndar', 9.3515625), ('gings', 9.1328125), (' ^\\\\', 9.0390625), ('\\\\>', 8.9609375), (' \\\\>', 8.90625)], 50: [('uder', 9.9765625), ('under', 9.109375), ('s', 8.9453125), ('setImage', 8.71875), ('рати', 8.703125)], 61: [('�起', 9.78125), (' properties', 8.875), (' property', 8.390625), (' View', 8.1796875), (' secrets', 8.0078125)]}, 2: {5: [('aritat', 9.78125), (' andalus', 8.9453125), ('ypass', 8.9296875), ('ossible', 8.765625), ('价比', 8.734375)], 8: [('ynom', 11.5390625), ('cmark', 11.2109375), ('ellido', 10.84375), ('legi', 10.6171875), ('莫', 10.2109375)], 9: [('egraphics', 11.7265625), ('eting', 10.75), ('ствия', 10.625), ('ficci', 10.4609375), ('extype', 10.125)], 16: [('WILL', 9.328125), ('城县', 9.015625), ('Will', 8.8671875), ('OwnProperty', 8.59375), ('will', 8.1796875)], 18: [('forms', 11.6953125), (' form', 11.0625), ('ystyle', 10.7421875), ('Фор', 10.390625), (' style', 10.1015625)], 31: [('цел', 9.671875), ('LAGS', 9.6484375), (' <!--[', 9.546875), ('筑', 9.3828125), (' naus', 8.5078125)]}, 6: {7: [(' стату', 8.9921875), (' Tafel', 8.875), ('me', 8.8046875), (' traduir', 8.1484375), ('ulk', 8.125)], 24: [('ew', 9.3359375), ('unningham', 8.6640625), ('工', 8.3125), ('ructor', 8.2421875), ('мпион', 8.21875)], 37: [('oley', 11.15625), ('7', 10.515625), ('r', 10.1640625), ('1', 9.5703125), (' r', 8.859375)], 44: [('бий', 8.453125), ('onese', 8.28125), ('异', 8.28125), ('Wonder', 7.9296875), ('nesi', 7.82421875)], 61: [('ct', 9.03125), ('inton', 8.6015625), ('半月', 8.359375), ('传', 8.1875), ('�', 8.15625)], 62: [('洞', 10.9921875), ('孔', 10.2890625), ('lap', 9.6484375), ('яло', 8.734375), (' presa', 8.3125)]}, 9: {8: [('къ', 10.1484375), ('вън', 10.015625), (' feines', 9.515625), ('tiques', 9.328125), ('spath', 8.828125)], 18: [('roqu', 11.3515625), ('денти', 11.25), ('revoc', 9.953125), ('много', 9.5859375), ('темати', 9.578125)], 21: [('上天', 10.1328125), ('[];', 10.1328125), (' Lines', 9.3984375), ('�', 9.125), (';]', 9.0859375)], 30: [('solving', 9.953125), ('стъ', 9.2421875), ('atics', 9.203125), (' Statements', 8.984375), ('solver', 8.921875)], 52: [('eqz', 9.4140625), ('ceso', 9.296875), (' posa', 8.6796875), ('pons', 8.4375), (' Lloren', 8.34375)], 55: [('Edat', 11.0), ('ollary', 10.8984375), ('DOCKED', 10.8125), ('refn', 10.3359375), ('Strunz', 10.2890625)]}, 15: {10: [('/', 9.7890625), ('期', 9.1484375), ('keySet', 8.4765625), ('gim', 8.1328125), ('aux', 7.828125)], 18: [(' show', 11.3671875), (' teix', 11.3203125), ('tv', 10.265625), ('дии', 10.140625), (' check', 10.0859375)], 21: [(' but', 10.1171875), ('�', 9.1171875), ('oster', 9.0546875), (' pero', 8.890625), (').__', 8.6875)], 30: [('ERTY', 9.1328125), ('HING', 8.9140625), ('asaki', 8.8984375), ('plier', 8.796875), ('apos', 8.5390625)], 55: [('xref', 8.984375), ('gment', 8.6484375), ('тори', 8.4609375), ('subNav', 8.2578125), ('elligent', 8.234375)], 59: [('ipment', 9.4609375), ('iosync', 9.28125), ('ssf', 8.84375), ('ofi', 8.7109375), ('падна', 8.6953125)]}, 0: {11: [('陀', 10.46875), ('��', 10.453125), ('аз', 10.375), (' съпру', 10.1328125), ('*}[', 9.921875)], 22: [('idera', 10.1328125), ('Complexity', 8.890625), (' Fac', 8.5390625), ('endres', 8.4921875), (' Mand', 8.21875)], 24: [('део', 8.7734375), ('arcity', 8.375), ('英', 8.15625), ('emporary', 7.921875), (' REF', 7.8046875)], 37: [('дове', 9.0625), (' superscript', 8.5625), ('acas', 8.4921875), ('estima', 8.40625), ('dorff', 8.3203125)], 44: [('бий', 9.7421875), ('aways', 9.1953125), ('�', 8.84375), ('asin', 8.75), ('ules', 8.7109375)], 61: [('ces', 9.2265625), ('point', 8.5078125), ('ed', 8.4921875), ('тру', 8.3125), ('uses', 8.2578125)]}, 11: {11: [('plicaci', 12.1875), ('plic', 10.375), ('oguera', 10.3046875), ('矶', 9.9140625), ('ssf', 9.765625)], 21: [(' but', 12.9609375), ('but', 11.828125), ('RI', 10.0703125), (' pero', 9.3046875), (' But', 9.140625)], 36: [('oule', 12.3046875), ('enium', 10.8828125), ('guarda', 10.828125), ('ническата', 10.75), ('редиземно', 10.5703125)], 52: [('首', 8.0234375), (' hem', 7.875), ('hold', 7.875), (' if', 7.56640625), ('sbin', 7.328125)], 55: [('dij', 8.9453125), ('ptrc', 8.8125), ('uesa', 8.8046875), ('orect', 8.40625), ('ald', 8.3359375)], 56: [(' out', 12.453125), ('out', 12.2109375), ('o', 10.4921875), ('ENCY', 9.5390625), (' Out', 8.796875)]}, 4: {15: [('8', 11.078125), ('7', 10.6484375), ('0', 10.5), ('5', 10.09375), ('4', 10.0703125)], 16: [('疑难', 9.0078125), ('izarre', 8.3203125), ('лес', 8.2734375), ('rides', 8.1875), (' v', 8.1484375)], 18: [('satz', 10.8125), ('miral', 10.6484375), ('дните', 10.1171875), (' ocupades', 10.1171875), ('grafs', 10.0234375)], 21: [('nor', 9.171875), (' warr', 8.71875), ('所未', 8.6796875), (' Central', 8.5546875), ('Central', 8.4609375)], 31: [('еро', 9.9921875), (' равно', 9.5703125), ('jgl', 8.671875), ('arden', 8.6015625), (' just', 8.46875)], 55: [(' definition', 11.2421875), ('inol', 11.2265625), ('1', 11.0703125), ('6', 10.625), ('2', 10.5546875)]}}\n",
      "Shared expert predictions: [[('}$~\\\\', 0.669921875), ('frak', 0.65185546875), ('dens', 0.634765625), ('直言', 0.6064453125), ('poke', 0.6064453125)], [('�乐', 1.33984375), ('ROID', 1.1865234375), ('呕', 1.1064453125), ('�', 1.1025390625), ('UTO', 1.0966796875)], [('hyp', 1.1337890625), ('Hyp', 1.1328125), ('默默', 1.1064453125), ('ANI', 1.1025390625), ('浩', 1.068359375)], [('ange', 1.166015625), (' Fins', 1.0537109375), ('ELF', 1.0205078125), ('semb', 0.99853515625), ('onium', 0.98583984375)], [('�', 0.78857421875), (' mo', 0.76416015625), ('播', 0.7490234375), (' ()', 0.72998046875), ('orter', 0.72265625)], [(' ...', 1.060546875), (' j', 1.0556640625), (' C', 1.0224609375), (' z', 1.0029296875), (' S', 0.9931640625)], [('加快推进', 0.51904296875), ('bona', 0.5126953125), ('洋洋', 0.50732421875), ('GC', 0.50390625), ('吸取', 0.4970703125)], [('्', 0.9853515625), ('eig', 0.953125), ('arck', 0.86865234375), ('eqno', 0.86328125), ('菇', 0.8447265625)], [('依', 1.0302734375), (' CT', 0.9453125), ('命', 0.84716796875), ('CRS', 0.837890625), ('纠', 0.8330078125)], [('ursal', 1.517578125), ('сител', 1.4580078125), ('nech', 1.392578125), ('oulos', 1.357421875), ('ibli', 1.306640625)], [('不忘', 1.123046875), ('Cola', 0.93115234375), (\" '\", 0.92041015625), ('�', 0.90625), ('坝', 0.8994140625)], [('posici', 1.13671875), ('otch', 1.1171875), ('лара', 1.041015625), ('视镜', 1.0185546875), ('andidate', 1.0166015625)], [('orb', 1.1865234375), ('泥', 0.9921875), ('志愿', 0.943359375), ('循', 0.90185546875), ('沫', 0.89892578125)], [('onada', 0.92724609375), ('担心', 0.9033203125), ('综', 0.890625), ('终极', 0.84716796875), ('anean', 0.8408203125)], [('psfrag', 1.279296875), ('malink', 1.234375), ('ascade', 1.1650390625), ('eqno', 1.1484375), ('childnode', 1.1376953125)], [('NonUser', 1.2421875), ('�', 1.212890625), ('ия', 1.189453125), ('&(', 1.1259765625), ('рих', 1.1103515625)], [(' vaga', 1.2080078125), ('columna', 1.1015625), ('uchy', 1.0673828125), ('auss', 1.0439453125), ('caja', 1.0380859375)]]\n",
      "\n",
      "MoE Layer 18:\n",
      "Selected experts: [[47, 50, 2, 44, 61, 15], [42, 2, 52, 7, 50, 23], [31, 21, 9, 4, 36, 29], [12, 33, 51, 4, 60, 53], [41, 43, 25, 31, 55, 36], [46, 25, 2, 18, 37, 62], [44, 27, 2, 60, 32, 46], [0, 45, 33, 19, 6, 43], [13, 63, 45, 19, 29, 6], [24, 28, 25, 13, 43, 9], [0, 51, 41, 53, 33, 35], [20, 24, 12, 25, 55, 6], [23, 8, 14, 43, 16, 38], [45, 13, 33, 6, 23, 58], [13, 63, 39, 45, 29, 42], [25, 13, 23, 24, 9, 28], [41, 0, 35, 34, 51, 39]]\n",
      "Expert weights: [[0.0343017578125, 0.041046142578125, 0.408203125, 0.03338623046875, 0.0281829833984375, 0.02398681640625], [0.16796875, 0.08428955078125, 0.059814453125, 0.04364013671875, 0.038726806640625, 0.035308837890625], [0.1595458984375, 0.1151123046875, 0.079345703125, 0.07452392578125, 0.061370849609375, 0.034027099609375], [0.049285888671875, 0.058868408203125, 0.041015625, 0.0614013671875, 0.035491943359375, 0.034454345703125], [0.0958251953125, 0.072021484375, 0.06134033203125, 0.175537109375, 0.06097412109375, 0.04010009765625], [0.0631103515625, 0.058074951171875, 0.154052734375, 0.055877685546875, 0.05291748046875, 0.050018310546875], [0.06982421875, 0.05535888671875, 0.22900390625, 0.057891845703125, 0.054595947265625, 0.03631591796875], [0.11773681640625, 0.362060546875, 0.04937744140625, 0.10150146484375, 0.06475830078125, 0.0335693359375], [0.31982421875, 0.16796875, 0.0704345703125, 0.047027587890625, 0.040191650390625, 0.03387451171875], [0.09619140625, 0.089111328125, 0.0684814453125, 0.06103515625, 0.0533447265625, 0.043853759765625], [0.150390625, 0.1575927734375, 0.333740234375, 0.0999755859375, 0.041351318359375, 0.038482666015625], [0.1031494140625, 0.09210205078125, 0.089111328125, 0.06817626953125, 0.05596923828125, 0.040313720703125], [0.1669921875, 0.1336669921875, 0.0858154296875, 0.08349609375, 0.06353759765625, 0.042144775390625], [0.424560546875, 0.07220458984375, 0.07122802734375, 0.056243896484375, 0.046539306640625, 0.036285400390625], [0.3154296875, 0.1962890625, 0.12164306640625, 0.055694580078125, 0.049835205078125, 0.0302734375], [0.055023193359375, 0.032196044921875, 0.221923828125, 0.036407470703125, 0.261474609375, 0.0275115966796875], [0.348388671875, 0.23486328125, 0.09844970703125, 0.0455322265625, 0.0309906005859375, 0.0285186767578125]]\n",
      "Combined output tokens: [[('жени', 0.8916015625), (' org', 0.80908203125), (' min', 0.78271484375), (' Pro', 0.7431640625), (']^-', 0.72021484375)], [('sis', 1.7529296875), ('ater', 1.609375), ('mes', 1.58984375), ('aters', 1.5654296875), ('рав', 1.5615234375)], [('�', 2.02734375), ('关', 1.7294921875), (' ta', 1.6943359375), (' [', 1.693359375), (' Sta', 1.57421875)], [('roz', 1.2822265625), ('erenced', 1.173828125), ('Община', 1.166015625), ('人事', 1.1611328125), (' desapare', 1.150390625)], [(' ', 1.779296875), (' +', 1.50390625), ('\\n', 1.4931640625), ('—', 1.4501953125), (':', 1.41796875)], [('umb', 1.2470703125), ('…', 1.2421875), ('牢固', 1.2138671875), ('艰难', 1.208984375), ('懿', 1.1845703125)], [('сто', 0.67431640625), ('═', 0.6513671875), ('ugosl', 0.6328125), ('rof', 0.61669921875), ('ست', 0.599609375)], [('nton', 2.404296875), ('issos', 2.373046875), ('利', 2.349609375), ('्', 2.2734375), ('adders', 2.232421875)], [('#{', 2.6796875), ('分流', 2.51953125), ('ci', 2.4140625), (' revela', 2.376953125), ('igs', 2.330078125)], [('фра', 1.646484375), ('ittest', 1.5458984375), ('лива', 1.525390625), ('idays', 1.525390625), ('ptrc', 1.474609375)], [('ilst', 3.265625), ('通道', 3.125), ('riba', 3.021484375), ('eor', 2.962890625), ('ecd', 2.935546875)], [('辩', 1.8779296875), ('omia', 1.7646484375), ('дор', 1.70703125), ('待', 1.6748046875), ('辨', 1.6669921875)], [('umo', 1.7900390625), ('的真实', 1.6875), ('iats', 1.6796875), (' Попов', 1.650390625), ('ugi', 1.6455078125)], [(' something', 3.865234375), ('atz', 3.263671875), (' Като', 3.232421875), ('rad', 3.193359375), ('露', 3.087890625)], [('cies', 2.91796875), ('CI', 2.90625), ('нец', 2.8359375), (' Mr', 2.828125), ('ci', 2.76171875)], [('ioned', 3.1484375), ('сур', 2.869140625), ('нер', 2.81640625), ('lits', 2.763671875), ('资', 2.740234375)], [('idden', 2.98828125), ('бо', 2.70703125), (' entra', 2.669921875), ('美洲', 2.646484375), ('铅', 2.619140625)]]\n",
      "Expert predictions by position: {7: {0: [('usky', 9.28125), ('星', 8.671875), ('IPP', 8.609375), ('enter', 8.5390625), ('enthal', 8.46875)], 6: [('UNK', 9.0703125), ('r', 8.4609375), ('t', 8.3203125), ('much', 8.140625), ('rt', 8.0546875)], 19: [('ursor', 10.78125), ('PRB', 10.7265625), ('irmat', 10.578125), ('角', 10.3984375), ('oDB', 10.09375)], 33: [('ontab', 10.0), ('睐', 9.171875), ('alion', 9.1328125), ('ambra', 8.8671875), ('onstr', 8.7734375)], 43: [('зване', 9.2421875), (' ecl', 9.0), (' право', 8.6171875), (' лице', 8.4453125), (' придо', 8.421875)], 45: [(' something', 10.46875), ('atz', 9.1796875), ('rad', 8.90625), ('стен', 8.8984375), ('enca', 8.8828125)]}, 10: {0: [(' ', 10.484375), (' f', 9.4296875), ('ime', 9.421875), ('藤', 9.328125), (' \"', 9.15625)], 33: [(' nuclears', 9.890625), ('imentaci', 9.7578125), ('\\tcontext', 8.84375), ('GNOME', 8.4140625), ('вари', 8.40625)], 35: [(' Mi', 9.4765625), ('лети', 8.71875), ('lesh', 8.5390625), ('lel', 8.46875), ('gress', 8.15625)], 41: [('体', 9.1328125), ('排', 8.8984375), ('xref', 8.3984375), ('*}[!', 8.1796875), ('мански', 8.171875)], 51: [('��', 9.859375), ('last', 9.3671875), (' accesskey', 9.25), (' whence', 8.9375), ('Choice', 8.796875)], 53: [('arel', 8.765625), ('�', 8.7109375), ('涯', 8.5546875), ('友们', 8.4765625), ('orest', 8.2890625)]}, 16: {0: [('ifici', 11.0703125), ('тн', 9.015625), ('acis', 8.890625), ('opter', 8.5390625), (' notice', 8.46875)], 34: [(' Spani', 9.9453125), ('drm', 9.5546875), (' search', 8.96875), ('шо', 8.8671875), ('搜索', 8.8515625)], 35: [('igh', 8.5625), ('verage', 8.3671875), (' past', 8.3046875), ('IGH', 8.1328125), ('鄂', 8.125)], 39: [('pcs', 9.734375), ('PC', 9.25), ('elf', 9.109375), (' Computers', 9.0), (' proxim', 8.9296875)], 41: [('gex', 8.671875), ('miser', 8.6328125), ('usts', 8.5859375), ('geois', 8.5625), ('钝', 8.4921875)], 51: [('course', 15.5234375), (' course', 15.3359375), ('Course', 11.9453125), ('courses', 11.046875), (' Course', 10.9453125)]}, 0: {2: [(' int', 8.46875), ('седа', 7.96484375), (' po', 7.8984375), ('beg', 7.83984375), ('ד', 7.6953125)], 15: [('逻', 9.140625), ('сен', 9.0390625), ('党组', 8.890625), ('uelto', 8.671875), ('сели', 8.21875)], 44: [('etry', 10.7109375), ('�', 10.6953125), ('良', 9.9609375), (' major', 9.3671875), ('�', 8.96875)], 47: [('endor', 8.9609375), ('вни', 8.7734375), ('roph', 8.6796875), ('�起', 8.6640625), ('стието', 8.3359375)], 50: [('g', 10.046875), (' mini', 9.1640625), ('сберг', 9.1015625), (' M', 8.8203125), ('攻', 8.5234375)], 61: [('2', 8.6953125), ('3', 8.65625), ('1', 8.625), ('4', 8.5703125), ('6', 8.3828125)]}, 1: {2: [('ueres', 10.3984375), ('利物', 8.7421875), ('undy', 8.703125), ('reau', 8.6640625), ('��', 8.640625)], 7: [('etas', 8.6640625), ('rather', 8.296875), (' recover', 8.0703125), (' Shap', 7.91015625), ('\"><!--', 7.875)], 23: [(' to', 11.4765625), ('дне', 8.546875), ('stock', 8.203125), ('espera', 8.0390625), ('资', 7.9296875)], 42: [('atre', 12.6328125), ('sis', 12.1015625), ('resa', 12.0859375), ('ater', 11.625), ('ivery', 11.5078125)], 50: [('net', 10.875), ('Net', 10.5703125), ('empty', 9.3203125), ('标', 9.1171875), ('NET', 9.078125)], 52: [('fmf', 11.296875), (' advoc', 9.984375), (' fluct', 9.578125), ('ď', 9.5234375), ('ressi', 9.3984375)]}, 5: {2: [(' Ban', 8.75), (' n', 8.53125), ('笛', 7.96875), (' Pop', 7.8203125), ('стани', 7.6796875)], 18: [('piration', 9.46875), ('elong', 9.3203125), ('lecci', 8.84375), ('кур', 8.6953125), ('Cci', 8.484375)], 25: [('ква', 10.3046875), ('enso', 9.5234375), ('ма', 9.5), ('Estad', 9.390625), (' Feliu', 8.90625)], 37: [('тру', 8.53125), ('vdots', 8.265625), ('太大', 8.2109375), ('自己是', 8.171875), ('Medic', 7.859375)], 46: [('ouch', 9.6953125), ('uega', 9.3203125), ('米', 9.0078125), ('��', 8.9140625), ('以色', 8.828125)], 62: [('�', 10.8359375), ('嘘', 9.5), ('\\xa0(', 9.359375), ('aylor', 8.921875), ('�', 8.7265625)]}, 6: {2: [('�', 11.8046875), ('�', 9.6171875), ('�', 9.1015625), ('监', 9.0078125), ('alon', 8.8125)], 27: [('ivistic', 9.875), ('泻', 9.7890625), ('荷', 9.484375), ('icot', 9.3984375), ('thia', 9.3828125)], 32: [('INCT', 10.6953125), ('enciar', 10.3515625), ('enery', 9.984375), ('directional', 9.8984375), ('rase', 9.8203125)], 44: [('anyes', 9.578125), ('�', 9.46875), ('立卡', 9.0234375), ('anesa', 8.953125), (' застра', 8.53125)], 46: [('ори', 9.6328125), ('editorial', 9.6171875), ('synopsis', 9.140625), ('舒', 8.546875), ('escan', 8.375)], 60: [('enix', 8.7265625), ('机构', 8.140625), (' Hiram', 8.140625), ('powder', 8.140625), ('ostes', 8.125)]}, 2: {4: [('ilet', 10.1796875), ('iform', 9.640625), ('idenc', 9.21875), ('iative', 8.9609375), ('mbol', 8.859375)], 9: [('��', 11.078125), ('intest', 9.265625), ('женер', 9.0703125), ('нел', 8.796875), ('sWith', 8.71875)], 21: [('anell', 9.0), (' solenoid', 8.203125), ('OTH', 8.140625), ('дите', 7.7578125), ('hai', 7.70703125)], 29: [(' b', 9.625), ('ствени', 9.5625), ('此刻', 9.3125), ('стки', 8.7890625), ('5', 8.7734375)], 31: [('7', 13.9921875), ('9', 13.9453125), ('6', 13.6875), ('4', 13.34375), ('1', 13.1796875)], 36: [(' Disp', 8.640625), ('�', 8.2734375), ('ensitive', 8.0234375), (' slot', 7.765625), ('arer', 7.7578125)]}, 3: {4: [(\"'::\", 11.1640625), ('ynchronously', 10.390625), ('roups', 10.1796875), ('edesktop', 10.0703125), ('beros', 9.5390625)], 12: [('finity', 8.859375), ('es', 8.7578125), ('ew', 8.734375), ('aroo', 8.5078125), (' dust', 8.46875)], 33: [(' bella', 9.2578125), ('oment', 8.859375), ('лите', 8.5703125), ('член', 8.0546875), ('пите', 8.0390625)], 51: [('цев', 10.03125), ('AttributeValue', 9.296875), (' inactives', 8.9140625), ('木齐', 8.828125), ('LOCKS', 8.796875)], 53: [('any', 9.40625), ('гат', 8.9609375), ('igs', 8.359375), (' произведен', 8.171875), ('airo', 8.125)], 60: [('oga', 9.2578125), ('阵', 7.921875), ('jee', 7.90234375), ('eer', 7.86328125), (' def', 7.84375)]}, 8: {6: [('ording', 9.1796875), ('глави', 8.375), ('够', 8.34375), (' way', 8.140625), ('how', 8.125)], 13: [('NonUser', 9.6171875), ('诸', 8.875), ('леми', 8.0546875), (' Sis', 7.76953125), ('候选', 7.765625)], 19: [('opini', 11.0078125), ('翅', 9.4921875), ('翼', 9.2734375), ('oldre', 9.0234375), (' мощност', 8.9609375)], 29: [('亦', 9.3203125), ('的结果', 8.6796875), (' ++', 8.6328125), ('清', 8.40625), ('成果', 8.3046875)], 45: [('riques', 9.1953125), ('mes', 9.140625), ('Asia', 8.34375), ('ipy', 7.90625), ('yx', 7.8515625)], 63: [('грани', 9.578125), ('�', 9.3125), (' ката', 8.25), ('orum', 8.046875), (' Stamp', 8.0390625)]}, 11: {6: [(' long', 9.609375), (' unc', 9.25), ('ите', 8.9609375), ('iones', 8.7890625), ('iations', 8.5234375)], 12: [('utenberg', 9.671875), ('西班', 9.6484375), ('mpl', 9.640625), ('yship', 9.6015625), ('mide', 9.453125)], 20: [('out', 9.96875), ('ancourt', 8.140625), ('inum', 8.1328125), (' play', 8.0703125), ('inia', 7.7890625)], 24: [('口的', 10.328125), ('atoris', 9.015625), ('为止', 8.6875), ('支', 7.8203125), (' armes', 7.74609375)], 25: [(' esqu', 8.9453125), ('rada', 8.6796875), ('麟', 8.5625), ('ENE', 8.5234375), ('icke', 8.28125)], 55: [('ROL', 10.484375), ('本人', 9.3515625), ('future', 8.890625), ('�', 8.78125), ('Austr', 8.53125)]}, 13: {6: [('umen', 9.3046875), ('ocou', 8.625), ('сей', 8.34375), ('refore', 8.34375), ('ouver', 8.25)], 13: [(' Fact', 13.140625), (' fact', 12.8125), ('fact', 11.4609375), ('Fact', 10.140625), ('学金', 10.0859375)], 23: [('рец', 10.09375), ('+|', 9.6171875), ('стика', 9.0234375), ('substack', 8.9375), ('tats', 8.8359375)], 33: [('fess', 8.9140625), ('思想', 8.9140625), ('ething', 8.6796875), ('legi', 8.6171875), ('iffs', 8.1640625)], 45: [('yself', 10.984375), ('pendicular', 10.265625), ('Живо', 9.7578125), ('endom', 9.5234375), ('्', 9.046875)], 58: [(' tender', 8.75), (' прилага', 8.609375), ('escan', 8.6015625), (' hat', 8.59375), ('esh', 8.5625)]}, 12: {8: [('rendre', 10.2265625), ('arers', 10.1875), ('诠', 8.7734375), ('ifl', 8.7421875), ('你的人', 8.671875)], 14: [('isses', 9.7265625), ('fford', 9.546875), ('жва', 8.8828125), ('ият', 8.875), ('0', 8.40625)], 16: [('гау', 9.4375), ('манов', 8.75), ('八角', 8.4765625), ('\\n', 8.375), ('Nap', 8.3671875)], 23: [('because', 10.4609375), (' защото', 9.953125), (' because', 9.625), (' beca', 9.3046875), (' porque', 9.2578125)], 38: [(' instead', 16.3125), ('instead', 14.8359375), ('1', 14.5390625), ('2', 14.0859375), ('0', 13.859375)], 43: [('arb', 9.7890625), ('zell', 8.6875), ('ages', 8.625), ('ndies', 8.2421875), ('ър', 8.140625)]}, 9: {9: [('ос', 8.9140625), ('ode', 8.3125), ('loe', 8.0546875), (' effect', 8.0), ('体系', 7.82421875)], 13: [('нец', 9.3125), ('学金', 9.234375), ('cies', 8.59375), ('дел', 8.34375), ('uaci', 8.3046875)], 24: [('=@', 8.578125), ('дор', 8.5625), ('ENA', 8.3828125), (' ra', 8.25), ('ularity', 8.234375)], 25: [('ornia', 9.6484375), ('尼奥', 9.3671875), (' статистика', 9.2265625), (' shade', 9.2109375), ('�乐', 8.7421875)], 28: [('举', 9.3203125), ('/', 8.9140625), ('estiu', 8.75), ('oad', 8.4296875), ('oid', 8.2265625)], 43: [('ifes', 9.390625), ('�乐', 8.9609375), ('они', 8.5), ('illings', 8.4453125), ('OWN', 8.2109375)]}, 15: {9: [('嬛', 11.8828125), ('inuz', 9.75), ('ituci', 8.8984375), ('encers', 8.8515625), ('atedral', 8.828125)], 13: [('marg', 9.28125), ('�', 8.7890625), ('ен', 7.96875), ('дела', 7.921875), ('#{', 7.84765625)], 23: [('1', 9.9609375), ('9', 9.625), ('4', 9.25), (' _', 8.9375), ('жва', 8.8203125)], 24: [('��', 9.7890625), ('止', 8.9921875), ('久而', 8.8515625), ('ocal', 8.15625), ('дем', 7.890625)], 25: [('quines', 9.640625), ('见', 9.0390625), ('мост', 8.7265625), ('duino', 8.6640625), ('iclop', 8.078125)], 28: [('incor', 11.359375), ('merce', 8.6796875), ('aculate', 8.453125), ('ombs', 8.4375), ('jada', 8.34375)]}, 14: {13: [('ilos', 9.859375), (' conventions', 9.2421875), ('丹', 8.953125), ('udes', 8.84375), ('awks', 8.796875)], 29: [(' **:', 9.53125), ('ulada', 9.109375), ('oirs', 8.765625), ('\">:</', 8.75), (' изчезване', 8.6171875)], 39: [(' Дар', 8.703125), ('ган', 8.6171875), ('стве', 8.1796875), ('fig', 8.140625), ('laz', 7.921875)], 42: [('intage', 11.4140625), ('годи', 10.5), ('ří', 9.5078125), ('incare', 8.65625), ('一方', 8.2578125)], 45: [('ogon', 9.328125), ('eqref', 8.578125), ('氨酸', 8.5234375), ('利物', 8.3203125), ('्', 8.2578125)], 63: [('Core', 9.5859375), ('core', 9.4765625), (' Apro', 8.8671875), ('визи', 8.6484375), (' Pel', 8.296875)]}, 4: {25: [('淤', 9.203125), ('ogc', 8.2890625), ('ecci', 8.1953125), ('Exec', 8.1328125), (' $\\\\{\\\\', 8.0625)], 31: [(' industri', 10.390625), (' dur', 8.8203125), ('стои', 8.5390625), ('стоя', 8.421875), ('нови', 8.15625)], 36: [('模', 9.265625), (\" '\", 8.4765625), ('缘', 8.2734375), ('‘', 8.2421875), ('�', 8.2109375)], 41: [('ej', 7.98046875), (' Sund', 7.96875), ('зени', 7.95703125), ('pra', 7.95703125), (' ID', 7.875)], 43: [(' Ir', 8.1875), ('сън', 7.9453125), ('分局', 7.875), ('SA', 7.79296875), ('▼', 7.49609375)], 55: [('懒', 8.984375), ('PK', 8.640625), (' PIC', 8.3046875), (' export', 8.1171875), ('ilden', 8.0625)]}}\n",
      "Shared expert predictions: [[('жени', 0.59375), (' org', 0.5224609375), ('嘘', 0.493896484375), ('陷入', 0.48876953125), (' Pro', 0.48681640625)], [('…', 1.205078125), (' B', 1.1826171875), ('—', 1.076171875), (' ..', 1.0751953125), (' ', 1.0419921875)], [(' ', 1.1796875), (' [', 1.16015625), (' c', 1.068359375), (' com', 1.0654296875), (' l', 1.0634765625)], [(' изчезване', 1.0537109375), ('wered', 1.044921875), ('吸取', 0.9990234375), ('escut', 0.98291015625), ('事物的', 0.97705078125)], [('闹', 0.84423828125), ('olerable', 0.8046875), (' c', 0.78466796875), ('olutely', 0.7802734375), (' OK', 0.75390625)], [('处境', 0.84765625), (' z', 0.841796875), ('\\u200a', 0.8173828125), (' A', 0.80419921875), ('poke', 0.79736328125)], [('сто', 0.541015625), ('ambers', 0.430419921875), ('═', 0.419189453125), ('odynam', 0.410400390625), ('吐', 0.3984375)], [(' directe', 0.79638671875), ('бек', 0.77978515625), ('oprocessing', 0.7744140625), ('ceq', 0.744140625), ('ahler', 0.73876953125)], [('iceless', 0.9072265625), (' %', 0.7373046875), ('chnologies', 0.71923828125), (' percepci', 0.71630859375), (' NEVER', 0.7138671875)], [('ittest', 1.044921875), ('etre', 1.0283203125), ('壁', 1.021484375), ('rabs', 1.0048828125), ('ptrc', 1.0009765625)], [(' Valenci', 0.9921875), (' votar', 0.951171875), ('autorest', 0.9453125), (' Estat', 0.9013671875), ('GLOB', 0.8984375)], [('════', 1.0361328125), ('мери', 1.0087890625), ('NonUser', 0.97998046875), ('pazocal', 0.95361328125), ('usos', 0.935546875)], [('=\"\"/>', 1.0498046875), (' o', 0.923828125), ('田', 0.900390625), ('投', 0.89208984375), (' Brick', 0.8818359375)], [('theore', 0.91064453125), ('());</', 0.8876953125), (' nav', 0.875), ('执', 0.87109375), ('的重', 0.84521484375)], [('兰', 1.05859375), ('═�', 1.0205078125), ('�', 0.94482421875), ('тини', 0.92578125), ('omla', 0.91748046875)], [('aquen', 1.376953125), ('ILON', 1.3154296875), ('tml', 1.1640625), ('lep', 1.1572265625), ('ACHE', 1.150390625)], [(\"'>&\", 0.92041015625), ('насти', 0.896484375), ('loyd', 0.87255859375), ('ascade', 0.865234375), ('errat', 0.86328125)]]\n",
      "\n",
      "MoE Layer 19:\n",
      "Selected experts: [[45, 17, 10, 9, 51, 25], [45, 58, 46, 8, 26, 16], [40, 5, 2, 33, 3, 14], [4, 48, 31, 53, 55, 51], [3, 40, 7, 33, 61, 62], [8, 42, 52, 63, 16, 20], [9, 8, 42, 16, 58, 62], [18, 56, 48, 6, 30, 40], [39, 43, 15, 46, 36, 18], [5, 7, 14, 3, 18, 23], [36, 52, 56, 18, 6, 4], [23, 32, 14, 21, 7, 48], [0, 47, 36, 21, 63, 42], [18, 36, 39, 30, 48, 52], [43, 39, 15, 36, 46, 18], [5, 40, 24, 3, 14, 34], [18, 52, 56, 36, 6, 26]]\n",
      "Expert weights: [[0.75048828125, 0.0159454345703125, 0.014190673828125, 0.01346588134765625, 0.0103759765625, 0.0102996826171875], [0.2095947265625, 0.10498046875, 0.06817626953125, 0.03729248046875, 0.03631591796875, 0.035064697265625], [0.1214599609375, 0.103515625, 0.07098388671875, 0.062744140625, 0.0576171875, 0.053955078125], [0.0654296875, 0.0799560546875, 0.0489501953125, 0.205810546875, 0.040374755859375, 0.037811279296875], [0.401123046875, 0.060150146484375, 0.048187255859375, 0.041473388671875, 0.035980224609375, 0.025787353515625], [0.2044677734375, 0.05120849609375, 0.0859375, 0.048614501953125, 0.04034423828125, 0.033477783203125], [0.18896484375, 0.07720947265625, 0.04986572265625, 0.048431396484375, 0.043670654296875, 0.039764404296875], [0.4833984375, 0.044097900390625, 0.1029052734375, 0.035003662109375, 0.0304412841796875, 0.02740478515625], [0.421630859375, 0.0377197265625, 0.319580078125, 0.0277557373046875, 0.025970458984375, 0.0235748291015625], [0.2724609375, 0.09124755859375, 0.048004150390625, 0.04168701171875, 0.03857421875, 0.034942626953125], [0.0828857421875, 0.291748046875, 0.2275390625, 0.081298828125, 0.0428466796875, 0.042327880859375], [0.12371826171875, 0.11260986328125, 0.1070556640625, 0.08587646484375, 0.0731201171875, 0.0304412841796875], [0.11383056640625, 0.255126953125, 0.03082275390625, 0.2373046875, 0.0184478759765625, 0.0170440673828125], [0.1884765625, 0.13232421875, 0.1258544921875, 0.047454833984375, 0.03509521484375, 0.032073974609375], [0.03961181640625, 0.5458984375, 0.181396484375, 0.06182861328125, 0.031646728515625, 0.015899658203125], [0.328369140625, 0.032928466796875, 0.0577392578125, 0.0626220703125, 0.029754638671875, 0.0290985107421875], [0.1259765625, 0.16845703125, 0.3154296875, 0.09521484375, 0.03497314453125, 0.02587890625]]\n",
      "Combined output tokens: [[('�', 1.3359375), ('dens', 1.212890625), ('ygon', 1.1845703125), ('ismes', 1.169921875), ('signal', 1.13671875)], [(' n', 1.69921875), (' m', 1.5927734375), (' b', 1.4580078125), (' R', 1.4248046875), ('y', 1.412109375)], [('ulty', 1.966796875), ('lector', 1.677734375), ('сал', 1.5927734375), ('cle', 1.521484375), ('pread', 1.48046875)], [('edom', 3.248046875), ('MISS', 2.84375), ('ceq', 2.73828125), ('ERO', 2.6640625), (' пропа', 2.478515625)], [(' Riba', 3.072265625), ('idesa', 2.744140625), ('ippets', 2.595703125), ('acials', 2.572265625), ('ueless', 2.568359375)], [('oppy', 2.1171875), ('idas', 2.0234375), ('anum', 1.9853515625), ('adian', 1.9404296875), ('бат', 1.91796875)], [('t', 1.3740234375), (' t', 1.12890625), (' n', 0.90771484375), (' h', 0.783203125), (' -', 0.775390625)], [('oulders', 3.2578125), ('chten', 3.16796875), ('Pod', 3.052734375), ('bottomNav', 3.048828125), ('inched', 2.984375)], [('пен', 3.48828125), ('вести', 3.20703125), ('кси', 3.19140625), ('ე', 3.1640625), ('гне', 3.068359375)], [('кива', 2.55078125), ('ForKey', 2.341796875), ('近', 2.177734375), ('oscana', 2.15625), ('лити', 2.08203125)], [('坞', 3.373046875), ('�乐', 3.15625), ('icina', 3.046875), ('estre', 3.033203125), ('ши', 3.017578125)], [('GroupLayout', 2.13671875), ('ablement', 1.955078125), ('ylvan', 1.7919921875), ('ATAB', 1.7724609375), ('是全球', 1.7607421875)], [('AIPS', 8.421875), ('OperationKind', 7.36328125), ('WireFormat', 7.1875), ('anzas', 6.984375), ('Magent', 6.2890625)], [('ви', 1.9765625), ('eja', 1.7626953125), ('ras', 1.7265625), ('head', 1.705078125), ('хау', 1.6787109375)], [('ometria', 4.8515625), ('фил', 4.77734375), ('IEW', 4.59375), ('ceq', 4.4296875), ('otip', 4.41015625)], [(' divers', 3.70703125), ('сас', 2.990234375), ('divers', 2.9453125), ('sis', 2.93359375), ('atur', 2.732421875)], [('ринг', 3.55078125), ('ител', 3.26171875), ('ajara', 3.259765625), ('ronics', 3.158203125), ('usements', 3.013671875)]]\n",
      "Expert predictions by position: {12: {0: [('biggr', 10.578125), ('лий', 10.296875), ('erness', 10.140625), ('劲', 9.625), ('ughtered', 9.4296875)], 21: [('\\tit', 10.890625), (' it', 10.65625), ('GroupLayout', 9.9765625), ('acular', 9.90625), ('it', 9.734375)], 36: [('操', 9.7890625), ('стите', 9.0390625), ('rink', 8.6640625), ('Хора', 8.4296875), (' away', 8.3671875)], 42: [('的面', 20.78125), ('面', 19.53125), ('真', 13.8984375), ('面目', 12.8359375), ('面上', 12.703125)], 47: [('anzas', 12.125), ('AIPS', 12.046875), ('WireFormat', 12.03125), ('Magent', 11.8828125), ('NonUser', 11.1796875)], 63: [('realm', 9.3828125), ('减', 9.2265625), ('ot', 9.203125), ('ed', 8.84375), ('aille', 8.640625)]}, 2: {2: [('мара', 12.796875), ('oleon', 11.1640625), ('CREMENT', 10.828125), ('venin', 10.671875), ('хол', 10.3125)], 3: [('ashian', 9.0390625), ('efef', 8.4609375), (' jurat', 8.3359375), (' fresc', 8.0078125), (' Bret', 7.98046875)], 5: [('дното', 8.9140625), ('кива', 8.6640625), ('дят', 8.5078125), ('delt', 8.375), (' synonym', 8.34375)], 14: [('imentaci', 10.0390625), (' about', 10.015625), ('surround', 9.390625), ('雍正', 9.2109375), (' over', 9.125)], 33: [('abin', 8.7109375), ('湃', 8.1953125), ('越多', 8.0703125), ('iscal', 8.015625), (' Setmana', 7.94921875)], 40: [('iator', 9.8828125), ('itational', 9.6015625), ('correlated', 8.90625), ('guera', 8.8046875), ('imentaci', 8.71875)]}, 4: {3: [('estima', 10.0703125), ('yset', 9.71875), ('权', 9.4921875), ('权的', 9.3828125), ('lemany', 9.2734375)], 7: [('стове', 9.8125), (' structure', 8.7734375), ('\\\\+', 8.609375), (' &-', 8.59375), ('лъ', 8.3359375)], 33: [(' sat', 9.9140625), ('ncer', 9.0625), ('crits', 8.9375), ('NDER', 8.84375), ('sits', 8.703125)], 40: [(' Otom', 10.2890625), ('uka', 9.53125), ('ствия', 9.0703125), ('扶', 9.015625), ('ayo', 8.953125)], 61: [('above', 12.40625), (' above', 12.359375), ('below', 11.578125), (' below', 10.6015625), ('Above', 10.2421875)], 62: [('Uninstall', 9.03125), ('ა', 8.8125), ('alion', 8.703125), ('ributed', 8.3359375), ('团的', 8.2421875)]}, 9: {3: [(' Riba', 11.5625), (' пореди', 10.765625), ('ippets', 10.671875), ('catDesc', 10.625), (' Stammtafeln', 10.265625)], 5: [('ment', 9.84375), ('туа', 9.359375), ('ments', 8.9765625), ('加油', 8.6171875), ('uff', 8.578125)], 7: [('��', 11.359375), ('agus', 9.6484375), ('sime', 9.546875), (' Оста', 9.03125), ('шно', 8.8203125)], 14: [('alfabet', 10.078125), ('askell', 9.796875), ('ptes', 9.7421875), ('\\ton', 9.1953125), (' by', 9.0078125)], 18: [('chten', 8.6328125), ('член', 8.5234375), ('TP', 8.3125), ('bottomNav', 8.265625), ('копа', 8.203125)], 23: [('nect', 9.7421875), ('ntz', 8.90625), ('midi', 8.5078125), ('geries', 8.34375), ('俗', 8.140625)]}, 15: {3: [('屋', 9.671875), (' rings', 8.9609375), (' roles', 8.5859375), (' signed', 8.5390625), ('NotSupported', 8.421875)], 5: [(' divers', 10.59375), ('divers', 9.3046875), ('sis', 9.2421875), (' one', 8.140625), (' diver', 7.9609375)], 14: [(' for', 15.46875), ('for', 14.1015625), (' для', 13.8671875), ('For', 12.703125), (' FOR', 12.59375)], 24: [('curi', 9.953125), ('atges', 9.484375), ('ctimes', 9.078125), (')}_\\\\', 8.8515625), ('atge', 8.59375)], 34: [('geix', 9.578125), ('arcraft', 9.5), ('mage', 9.3515625), (' extent', 9.109375), ('extent', 8.7421875)], 40: [('ogle', 9.421875), ('мор', 8.5234375), ('ulty', 8.1171875), ('出来', 8.0390625), ('iances', 7.83203125)]}, 3: {4: [('any', 15.6640625), ('Any', 12.6328125), ('ANY', 12.3828125), (' ANY', 10.03125), (' any', 9.2421875)], 31: [(' Dec', 9.7734375), ('dec', 9.328125), ('Dec', 9.2578125), (' Week', 8.9140625), (' day', 8.5234375)], 48: [('хт', 9.21875), ('竞', 8.703125), ('ph', 8.296875), (' Time', 8.0546875), ('time', 7.78515625)], 51: [('IN', 9.046875), (' ', 8.1015625), ('直', 7.49609375), ('trav', 7.26171875), ('nic', 7.26171875)], 53: [('\\tthe', 10.3984375), ('oste', 10.09375), ('DUCTION', 9.9765625), ('uric', 9.859375), ('рит', 9.1640625)], 55: [(' whether', 17.03125), ('whether', 14.984375), (' WHETHER', 14.0234375), (' what', 13.59375), (' why', 13.28125)]}, 10: {4: [('anon', 10.015625), (' it', 9.28125), ('\\tit', 8.8359375), ('who', 8.296875), (' who', 8.296875)], 6: [('ailability', 9.7734375), ('{~', 9.6015625), ('LAND', 9.25), (' кот', 9.1328125), ('land', 8.765625)], 18: [('ersal', 9.5703125), ('排', 9.40625), ('gob', 9.2421875), ('хен', 9.15625), ('errat', 9.1171875)], 36: [(' a', 9.125), ('\\ta', 9.09375), ('yset', 8.5), ('вя', 8.3203125), (' someone', 8.2734375)], 52: [(' void', 9.578125), (' r', 9.15625), ('ergarten', 9.0), ('sies', 8.921875), (' #', 8.640625)], 56: [('=-=-', 9.1796875), ('CCA', 9.15625), ('kamp', 8.890625), ('batim', 8.8359375), ('�乐', 8.7109375)]}, 7: {6: [(' есе', 8.4453125), ('ulina', 8.3203125), ('爱上', 8.15625), ('work', 7.9375), ('дру', 7.73046875)], 18: [('alar', 9.4375), ('aviera', 9.109375), ('бург', 8.28125), ('ASE', 8.2734375), ('�', 8.2421875)], 30: [('жан', 9.484375), ('ilib', 8.5625), ('ги', 8.375), ('igne', 8.15625), ('subNav', 7.9609375)], 40: [('备', 10.390625), ('deen', 8.7890625), ('drawn', 8.421875), ('temporary', 8.40625), ('reng', 8.40625)], 48: [('ifles', 12.7421875), ('копа', 11.28125), (' who', 11.1953125), ('хия', 10.421875), ('who', 10.1640625)], 56: [('iena', 11.4921875), ('ша', 9.71875), ('qus', 8.78125), ('驭', 8.3671875), ('стано', 8.1328125)]}, 16: {6: [('3', 9.8125), ('�', 9.703125), ('1', 9.59375), ('5', 9.484375), ('7', 9.421875)], 18: [('meant', 10.8203125), ('itha', 9.5078125), ('海的', 9.453125), (' meant', 9.296875), ('inars', 9.1796875)], 26: [(' editat', 10.6328125), ('}]$.', 10.6171875), ('escor', 10.28125), ('iret', 10.0390625), ('колкото', 9.984375)], 36: [(' a', 10.4375), ('\\ta', 9.359375), ('速', 8.59375), ('много', 8.5546875), ('tico', 8.2578125)], 52: [('�乐', 10.4453125), ('houn', 9.859375), ('anu', 9.25), ('iad', 8.6953125), ('ometria', 8.453125)], 56: [('当地人', 9.5703125), ('лищ', 8.84375), ('ител', 8.7734375), ('opian', 8.7421875), ('当地', 8.34375)]}, 11: {7: [('imento', 10.2265625), ('resent', 10.03125), ('尤', 9.140625), ('oed', 9.015625), ('ty', 9.015625)], 14: [('тай', 9.296875), ('orca', 9.234375), ('be', 9.046875), ('вена', 8.875), ('icular', 8.546875)], 21: [('AIPS', 10.9921875), (' but', 10.1875), ('OperationKind', 9.546875), ('Vtbl', 8.90625), ('otine', 8.90625)], 23: [(' low', 8.2265625), (' medium', 8.0390625), ('Medium', 7.78515625), (' подно', 7.74609375), (' Col', 7.73828125)], 32: [('[--', 11.9296875), ('тъ', 11.2265625), ('ianisme', 10.09375), ('ambda', 9.8828125), ('CTL', 9.8125)], 48: [('pless', 9.59375), ('anim', 8.609375), ('ndez', 8.5703125), ('ude', 8.5546875), ('NLS', 8.484375)]}, 1: {8: [('管', 9.171875), ('兑', 8.6015625), ('unnel', 8.2578125), ('摄', 8.109375), ('antine', 8.078125)], 16: [('洞', 12.015625), (' p', 9.78125), ('田', 9.359375), (' b', 9.3046875), (' s', 8.84375)], 26: [('ятно', 9.1640625), ('ugat', 9.1015625), ('blr', 8.8671875), ('关', 8.59375), ('�', 8.578125)], 45: [(' b', 9.5859375), ('险', 9.390625), ('udge', 8.7109375), (' Stanley', 8.2578125), (' m', 8.2578125)], 46: [('xits', 9.7890625), ('ueren', 9.6015625), (' Or', 9.21875), ('dojo', 8.984375), ('ndrome', 8.875)], 58: [('极', 10.5625), (' n', 9.5234375), ('ass', 8.90625), (' y', 8.7265625), ('所有', 8.5234375)]}, 5: {8: [('бат', 10.078125), ('仅代表作者本人', 10.0703125), ('жени', 9.9453125), ('жаване', 9.84375), ('ildo', 9.7265625)], 16: [('sky', 8.4765625), ('годи', 8.359375), ('лива', 7.93359375), (' Calders', 7.8828125), ('�', 7.87890625)], 20: [('ARIO', 9.171875), ('issippi', 9.078125), ('родни', 8.75), ('ubi', 8.6796875), ('SHORT', 8.5546875)], 42: [('生命的', 9.8203125), ('NGC', 9.640625), ('фелд', 9.21875), (' тема', 9.09375), ('的人生', 8.5546875)], 52: [('psia', 8.453125), ('首', 8.4453125), (' автоно', 8.1953125), ('traits', 8.1640625), ('произ', 8.0703125)], 63: [('erest', 10.40625), ('кос', 9.3984375), ('ева', 8.5), ('order', 8.46875), ('tum', 8.3046875)]}, 6: {8: [('oured', 8.7890625), ('гава', 8.7734375), ('久之', 8.546875), ('备', 8.234375), ('�', 8.140625)], 9: [('t', 30.5), (' t', 20.328125), ('\\tt', 17.859375), ('tac', 13.4609375), ('T', 12.84375)], 16: [('一级', 9.3359375), ('deven', 9.28125), (' $<$', 8.625), ('disturbed', 8.6171875), ('高峰', 8.5546875)], 42: [('��', 11.875), ('LOPT', 11.0625), ('AtA', 10.3515625), ('��', 10.2265625), ('unchers', 9.5703125)], 58: [('tablen', 10.640625), ('ater', 9.0703125), ('ledge', 8.9375), ('}[]', 8.53125), ('тер', 8.4453125)], 62: [('isat', 8.9296875), ('atg', 8.9140625), ('iars', 8.765625), ('hide', 8.6328125), ('委员', 8.546875)]}, 0: {9: [('2', 8.8203125), ('1', 8.625), ('3', 8.390625), ('�', 8.34375), ('Ch', 8.3203125)], 10: [('绕', 9.765625), ('лети', 9.4140625), (' препратки', 9.078125), ('ctree', 8.09375), ('anell', 8.0390625)], 17: [('�', 11.9921875), ('�', 11.5234375), (' cryptocur', 8.6875), ('terness', 8.65625), ('�', 8.5859375)], 25: [('if', 13.25), ('its', 11.96875), ('it', 11.6171875), ('or', 11.5234375), ('ide', 11.171875)], 45: [('oulos', 9.5625), ('ollers', 8.6484375), ('izzie', 8.640625), ('�', 8.6328125), ('вежда', 8.6015625)], 51: [('静', 9.671875), ('观点或立场', 9.5859375), ('erol', 9.2109375), ('usos', 8.7109375), ('ropolit', 8.5)]}, 8: {15: [(' series', 9.765625), ('erence', 9.5078125), ('ssica', 9.484375), ('herson', 9.3984375), (' one', 9.21875)], 18: [('worth', 9.2578125), ('4', 9.2265625), ('nikov', 8.921875), ('5', 8.890625), ('wara', 8.84375)], 36: [('мври', 11.1875), (' solitari', 10.4609375), ('equence', 10.1328125), ('nimes', 10.0078125), ('хберг', 9.890625)], 39: [('вести', 8.640625), ('馆', 8.0546875), ('VD', 8.0234375), ('кси', 7.87109375), ('巷', 7.69140625)], 43: [('things', 11.0859375), ('thing', 10.9375), ('INET', 9.9765625), (' things', 9.6484375), ('Things', 9.5546875)], 46: [(' world', 9.3359375), ('azo', 9.0390625), ('world', 8.3671875), ('etto', 7.98046875), ('ery', 7.87109375)]}, 14: {15: [('igration', 9.671875), ('ewrite', 9.40625), ('kata', 8.65625), (' set', 8.5703125), ('malink', 8.5234375)], 18: [('alse', 8.9140625), ('este', 8.609375), ('дите', 8.5546875), ('rode', 8.4375), ('umer', 8.421875)], 36: [('ticamente', 10.421875), (' Without', 10.125), (' without', 9.7109375), ('Without', 9.2890625), (' WITHOUT', 9.28125)], 39: [('ICS', 9.9375), ('gos', 9.484375), ('irs', 9.4609375), ('orat', 9.4375), ('uder', 9.4296875)], 43: [('难', 9.28125), ('ar', 8.421875), ('ca', 8.40625), ('reus', 8.3671875), ('龄', 8.046875)], 46: [(' passage', 10.09375), ('houn', 9.046875), (' Segre', 9.0078125), ('bera', 8.7734375), ('xiu', 8.5859375)]}, 13: {18: [(' right', 8.7109375), (' there', 8.3046875), ('right', 8.296875), ('alles', 8.203125), ('akon', 8.15625)], 30: [('ense', 9.9140625), ('гри', 9.4921875), ('tics', 9.4453125), ('кър', 9.3203125), ('erc', 8.8828125)], 36: [('0', 10.75), ('5', 9.953125), ('6', 9.4921875), ('2', 9.0625), ('7', 9.0234375)], 39: [('фил', 10.390625), ('IEW', 9.46875), ('itu', 9.1640625), ('тиви', 9.140625), ('态', 9.140625)], 48: [('ry', 9.625), ('�', 9.5625), ('ess', 9.0390625), ('удо', 8.96875), ('ery', 8.3671875)], 52: [('visi', 10.6640625), ('角的', 10.578125), (' Голя', 9.6171875), ('icode', 9.515625), ('atoria', 8.96875)]}}\n",
      "Shared expert predictions: [[('默默', 0.58203125), ('WL', 0.57958984375), ('穿梭', 0.5546875), ('儿', 0.5517578125), ('ugosl', 0.5498046875)], [('�乐', 1.62890625), (' n', 1.29296875), ('�', 1.1748046875), (' m', 1.1357421875), (' g', 1.09375)], [('HE', 1.025390625), ('ba', 0.95361328125), ('elf', 0.93115234375), ('fle', 0.90185546875), (' R', 0.876953125)], [('missing', 1.6748046875), ('MISS', 1.4833984375), ('Missing', 1.43359375), ('丧失', 1.30859375), ('miss', 1.2861328125)], [(' o', 0.80224609375), ('ised', 0.7392578125), (' f', 0.73583984375), ('�', 0.701171875), (' B', 0.69580078125)], [(' m', 1.0166015625), (' W', 1.0009765625), ('Dis', 0.982421875), ('w', 0.9716796875), (' w', 0.97119140625)], [('9', 0.74609375), ('6', 0.74169921875), ('5', 0.71435546875), ('8', 0.71337890625), ('4', 0.70458984375)], [('etime', 1.0673828125), ('时间为', 1.037109375), ('时间', 0.99853515625), ('时间和', 0.9833984375), ('olev', 0.9482421875)], [('jada', 1.1005859375), ('eja', 1.0908203125), ('зира', 0.94677734375), ('疑问', 0.90625), ('ръ', 0.88818359375)], [('jada', 1.05859375), ('holtz', 0.96826171875), ('bara', 0.94580078125), ('intf', 0.91748046875), ('extype', 0.90234375)], [('opter', 1.0341796875), ('族', 1.0205078125), ('靴', 1.01953125), ('Phabricator', 0.97802734375), ('бул', 0.9375)], [('偷', 1.0517578125), ('泽', 0.88330078125), ('ausa', 0.84765625), ('жо', 0.8359375), (' \"', 0.7958984375)], [('rosa', 1.14453125), ('��', 1.130859375), ('��', 1.119140625), ('hasOwnProperty', 1.0322265625), (' начало', 1.01171875)], [('�', 0.97265625), ('inst', 0.86181640625), ('Inst', 0.80908203125), ('Virtual', 0.73974609375), ('sle', 0.73291015625)], [('ADCAST', 1.1220703125), (' m', 1.080078125), ('idean', 1.0654296875), ('atem', 1.033203125), (' MI', 1.033203125)], [('bona', 0.912109375), ('bera', 0.8779296875), ('DEM', 0.86572265625), ('集结', 0.833984375), ('卵', 0.83349609375)], [('bitField', 1.0537109375), ('riques', 0.9326171875), ('legi', 0.8564453125), ('{``', 0.84814453125), ('昭', 0.83056640625)]]\n",
      "\n",
      "MoE Layer 20:\n",
      "Selected experts: [[15, 53, 59, 49, 30, 40], [21, 16, 49, 52, 41, 60], [9, 26, 29, 44, 63, 27], [25, 48, 33, 16, 17, 43], [29, 26, 44, 56, 9, 61], [19, 50, 12, 47, 20, 36], [11, 43, 21, 52, 30, 39], [20, 1, 42, 33, 10, 51], [51, 1, 24, 55, 27, 58], [26, 9, 57, 40, 28, 4], [42, 1, 29, 17, 28, 5], [5, 57, 61, 26, 53, 13], [53, 45, 10, 20, 62, 16], [20, 44, 1, 53, 29, 10], [55, 1, 24, 58, 27, 51], [9, 26, 20, 63, 44, 39], [28, 1, 29, 30, 42, 49]]\n",
      "Expert weights: [[0.458740234375, 0.0236053466796875, 0.0311279296875, 0.042327880859375, 0.0232696533203125, 0.019744873046875], [0.06317138671875, 0.06939697265625, 0.045654296875, 0.043304443359375, 0.04156494140625, 0.039306640625], [0.26953125, 0.1263427734375, 0.06866455078125, 0.091552734375, 0.0328369140625, 0.02093505859375], [0.040679931640625, 0.1416015625, 0.039581298828125, 0.033599853515625, 0.0307159423828125, 0.0278167724609375], [0.0909423828125, 0.124267578125, 0.1373291015625, 0.11138916015625, 0.07281494140625, 0.0291595458984375], [0.07891845703125, 0.0556640625, 0.050689697265625, 0.049774169921875, 0.04632568359375, 0.043731689453125], [0.058563232421875, 0.0606689453125, 0.0546875, 0.054046630859375, 0.0526123046875, 0.049407958984375], [0.05999755859375, 0.1195068359375, 0.09661865234375, 0.1488037109375, 0.04595947265625, 0.044219970703125], [0.11956787109375, 0.1209716796875, 0.2294921875, 0.07440185546875, 0.072509765625, 0.0472412109375], [0.295654296875, 0.1173095703125, 0.0362548828125, 0.034820556640625, 0.0322265625, 0.0283966064453125], [0.283447265625, 0.0556640625, 0.19677734375, 0.073486328125, 0.03619384765625, 0.031280517578125], [0.3564453125, 0.12005615234375, 0.040283203125, 0.038238525390625, 0.0254669189453125, 0.0242462158203125], [0.466796875, 0.0266265869140625, 0.024261474609375, 0.04345703125, 0.051971435546875, 0.01824951171875], [0.4794921875, 0.1044921875, 0.06964111328125, 0.041015625, 0.0305023193359375, 0.0166473388671875], [0.27880859375, 0.259765625, 0.061981201171875, 0.053741455078125, 0.033843994140625, 0.033447265625], [0.1572265625, 0.23046875, 0.052398681640625, 0.03228759765625, 0.0235443115234375, 0.022918701171875], [0.0211944580078125, 0.1353759765625, 0.16357421875, 0.08392333984375, 0.311767578125, 0.01450347900390625]]\n",
      "Combined output tokens: [[('=\"../_', 0.646484375), (\"}'_\", 0.58544921875), ('�起', 0.5712890625), (' gu', 0.568359375), ('bes', 0.55126953125)], [(' D', 0.90673828125), ('/******/', 0.8916015625), ('┈┈', 0.89013671875), ('NonUser', 0.826171875), ('悄', 0.81787109375)], [('surround', 12.328125), (' Surround', 8.703125), (' surrounding', 8.3828125), ('behind', 8.328125), (' surrounds', 7.33203125)], [('简易', 1.7177734375), ('eech', 1.6328125), ('ajos', 1.55859375), ('�', 1.55078125), (' Senyor', 1.5244140625)], [('句', 2.001953125), ('leccion', 1.890625), ('未婚', 1.8876953125), (' writ', 1.849609375), ('ldon', 1.841796875)], [('dee', 1.4638671875), ('uche', 1.3828125), ('\\x7f', 1.2314453125), ('rita', 1.1220703125), ('oulders', 1.111328125)], [(' B', 0.7353515625), (' S', 0.72705078125), (' b', 0.708984375), (' C', 0.703125), (' c', 0.69140625)], [('eza', 1.9384765625), ('keeping', 1.7890625), (' разу', 1.7841796875), ('рю', 1.7626953125), ('酷', 1.71875)], [('稣', 3.2421875), ('сира', 3.16796875), ('府', 2.90234375), ('�', 2.771484375), ('岸', 2.716796875)], [(' to', 8.7734375), ('\\tto', 8.734375), ('to', 7.328125), ('To', 6.28515625), ('\\tTo', 5.65625)], [(' Cab', 3.455078125), ('3', 3.416015625), ('�', 3.380859375), ('弯', 3.376953125), ('俱乐部', 3.314453125)], [(' ', 3.2578125), (' Ba', 3.169921875), (' Sc', 3.083984375), (' Im', 3.0703125), ('ecedents', 2.96484375)], [('рено', 2.673828125), ('s', 2.60546875), ('esp', 2.59375), ('PY', 2.46875), ('unga', 2.42578125)], [('endres', 3.720703125), ('heur', 3.67578125), ('培', 3.583984375), ('ocrine', 3.533203125), ('usha', 3.517578125)], [('upon', 4.43359375), ('oint', 3.970703125), ('validation', 3.931640625), ('ney', 3.783203125), (' Pound', 3.751953125)], [('8', 5.16796875), ('7', 5.125), ('6', 5.02734375), ('2', 5.015625), ('5', 4.98828125)], [('emis', 4.2578125), ('Em', 3.6796875), ('rop', 3.470703125), ('issima', 3.380859375), ('erns', 3.34375)]]\n",
      "Expert predictions by position: {7: {1: [('价比', 9.2734375), ('rophy', 8.84375), ('noscript', 8.515625), ('PT', 8.3984375), ('芬', 8.3203125)], 10: [('we', 9.9140625), ('ree', 8.90625), ('ress', 8.5703125), ('apest', 8.390625), (' noi', 8.359375)], 20: [('rop', 10.3046875), ('ieri', 8.8671875), ('unders', 8.8125), ('Terminal', 8.703125), ('arial', 8.515625)], 33: [('IMPORTED', 8.953125), ('TRY', 8.8046875), (' try', 8.796875), (' empe', 8.7578125), ('leccion', 8.484375)], 42: [('гава', 9.5390625), ('弯', 9.2890625), ('ingu', 8.9296875), ('anuts', 8.8359375), (' Cab', 8.8125)], 51: [('pleasure', 17.015625), (' pleasure', 15.5234375), (' Pleasure', 15.28125), (' joy', 14.078125), ('joy', 13.390625)]}, 8: {1: [('ney', 10.2578125), (' Presenta', 9.109375), ('培', 8.453125), ('oint', 8.2890625), ('ophy', 8.1796875)], 24: [('rying', 9.640625), ('ortion', 9.3203125), ('Compat', 8.84375), (' back', 8.8046875), ('awan', 8.671875)], 27: [(' day', 10.796875), ('ursor', 9.9921875), ('intage', 9.203125), ('uninstall', 9.1953125), ('odec', 9.1640625)], 51: [('veless', 11.4375), ('rrez', 9.515625), (' стар', 9.1484375), ('versation', 9.140625), ('immer', 8.8203125)], 55: [('8', 9.4921875), ('eters', 9.4296875), ('olins', 9.0546875), ('ostes', 9.03125), ('meres', 8.96875)], 58: [('сан', 8.8671875), ('resta', 8.7578125), ('рак', 8.5078125), ('matory', 8.421875), ('nimo', 8.3828125)]}, 10: {1: [('檬', 10.3046875), ('LOP', 10.046875), ('beth', 8.9140625), ('rails', 8.84375), ('уд', 8.734375)], 5: [('4', 16.140625), ('8', 15.0625), ('2', 14.875), ('0', 14.4921875), ('9', 14.15625)], 17: [(' man', 9.359375), ('ardless', 8.71875), ('avit', 8.65625), ('Editable', 8.203125), ('zzarella', 8.09375)], 28: [('疡', 9.4375), ('iptic', 9.3125), ('nag', 8.8671875), ('ENTER', 8.703125), (' Ann', 8.5703125)], 29: [('anship', 9.28125), ('guide', 9.1953125), ('alts', 8.640625), ('come', 8.59375), ('ack', 8.5078125)], 42: [('usta', 9.28125), ('στ', 8.9765625), ('features', 8.6484375), ('erns', 8.515625), ('emis', 8.3671875)]}, 13: {1: [('9', 8.6796875), ('5', 8.59375), ('olo', 8.2421875), ('meaning', 8.21875), ('skins', 8.140625)], 10: [('itars', 12.59375), ('мания', 11.0859375), ('IEEEeqnarray', 11.0078125), ('iered', 10.875), ('acitat', 10.8515625)], 20: [('ствие', 9.890625), ('ogr', 9.5546875), ('Raster', 9.5390625), (' аресту', 9.2109375), (' llit', 9.03125)], 29: [(' stop', 10.0703125), ('stop', 9.5234375), ('stopping', 9.1640625), ('unload', 9.078125), ('кратно', 8.9921875)], 44: [('[', 8.375), ('дж', 8.1640625), ('1', 7.8359375), ('2', 7.83203125), ('0', 7.59375)], 53: [('isma', 9.4609375), ('lera', 9.0859375), ('hend', 8.921875), ('limin', 8.421875), ('rowse', 8.3125)]}, 14: {1: [('3', 9.7109375), ('emet', 8.515625), ('藻', 8.3125), ('异', 8.3125), (' funnels', 8.2421875)], 24: [('сред', 10.6015625), ('YPT', 9.1796875), ('яма', 8.859375), ('ALY', 8.5078125), ('мп', 8.4921875)], 27: [('yship', 10.390625), ('esfor', 9.515625), ('ecer', 8.8359375), ('subpackage', 8.8203125), ('exact', 8.78125)], 51: [('pretty', 13.203125), ('Pretty', 11.3671875), ('ssil', 11.3203125), (' pretty', 11.203125), ('abulary', 10.5859375)], 55: [(' means', 10.1328125), (' product', 9.640625), (' ver', 9.6328125), ('oad', 9.609375), (' products', 9.3125)], 58: [(' entries', 10.0), ('estra', 9.609375), ('entry', 9.3671875), ('漠', 8.390625), (' Entries', 8.34375)]}, 16: {1: [('odo', 9.71875), ('erm', 8.890625), ('erme', 8.84375), ('eval', 8.796875), ('isolated', 8.328125)], 28: [(' multip', 10.3046875), ('multip', 10.2109375), ('MULT', 9.7265625), (' divid', 9.15625), ('division', 8.8671875)], 29: [(' Ob', 10.6875), ('STON', 9.46875), ('ooth', 9.40625), ('щи', 9.1328125), ('Ob', 8.875)], 30: [('set', 9.28125), ('id', 9.2265625), ('cos', 9.0546875), ('еку', 9.046875), ('ide', 8.65625)], 42: [('mable', 11.1796875), ('enso', 10.5078125), ('ests', 9.7578125), ('ersen', 9.671875), (' тъм', 9.5078125)], 49: [('дел', 12.2265625), ('riend', 11.3984375), ('cida', 9.4296875), ('onite', 9.140625), ('WOR', 9.03125)]}, 9: {4: [('affe', 9.015625), ('ifles', 8.8359375), ('usalem', 8.703125), ('端', 8.1484375), ('уди', 8.0625)], 9: [('optera', 10.7578125), ('��', 9.921875), ('asse', 9.6328125), ('界', 9.4765625), ('ameda', 8.875)], 26: [(' to', 14.671875), ('\\tto', 13.578125), ('to', 12.7890625), ('2', 12.6640625), ('7', 12.5)], 28: [(' back', 8.5390625), ('夕', 8.4453125), ('back', 8.2578125), ('夕阳', 8.2265625), ('fit', 8.125)], 40: [('ati', 9.6875), ('at', 9.59375), ('AGES', 9.421875), ('atta', 9.25), ('ativ', 9.1015625)], 57: [('contre', 9.4375), ('舒', 8.984375), ('iab', 8.265625), ('舒服', 8.1953125), ('omach', 8.1640625)]}, 11: {5: [('let', 9.1015625), ('тон', 8.8515625), ('led', 8.0546875), ('ories', 8.0078125), ('ostics', 7.83984375)], 13: [('over', 10.8046875), ('影响的', 9.34375), ('Over', 8.9296875), (' over', 8.9140625), ('rit', 8.765625)], 26: [('ilon', 9.34375), ('atal', 9.109375), ('uss', 8.9765625), ('at', 8.96875), ('ests', 8.71875)], 53: [('rne', 8.3515625), (' leg', 8.1484375), ('emus', 8.1484375), ('zier', 7.88671875), ('efore', 7.72265625)], 57: [('erol', 11.2421875), ('icae', 10.5078125), ('astre', 9.2578125), ('dits', 8.921875), ('лес', 8.8984375)], 61: [('ician', 8.671875), ('anean', 8.6015625), ('reform', 8.4921875), ('招商', 8.46875), ('立案', 8.1796875)]}, 2: {9: [('Igual', 10.140625), ('interp', 9.421875), ('uresa', 9.359375), ('snia', 9.3046875), ('toctree', 9.1953125)], 26: [(' to', 23.46875), ('\\tto', 21.109375), ('to', 18.8125), ('To', 15.828125), (' To', 14.3125)], 27: [('的品牌', 11.078125), ('��', 10.7421875), ('orsed', 9.734375), ('pta', 9.7109375), ('edi', 9.2265625)], 29: [('blocking', 9.5234375), (' бло', 8.6640625), ('阻碍', 8.6484375), ('ocomplete', 8.3515625), ('accion', 8.3203125)], 44: [('�', 8.203125), ('adora', 8.0703125), ('ellington', 8.015625), ('itating', 7.8046875), ('面', 7.76953125)], 63: [('erent', 9.453125), ('head', 9.4375), ('uber', 8.8671875), ('gate', 8.578125), ('heck', 8.515625)]}, 4: {9: [(' Schwennicke', 10.625), ('writeField', 10.546875), ('FieldLocation', 10.421875), ('sei', 10.046875), (' COLSPAN', 9.9921875)], 26: [(' of', 12.4765625), (' that', 11.9453125), ('\\tthat', 11.8984375), ('that', 11.0859375), ('behind', 9.9921875)], 29: [(' GET', 11.71875), ('\\tget', 11.578125), ('getting', 11.078125), (' get', 10.8515625), (' gotten', 10.46875)], 44: [('来说', 10.4296875), (' Lo', 8.8359375), ('mentation', 8.2578125), (' Barbar', 7.95703125), ('LO', 7.9375)], 56: [(\"'\", 15.1796875), ('’', 11.8359375), (' s', 9.9609375), ('`', 9.6796875), ('´', 9.6640625)], 61: [('ла', 9.546875), ('ърт', 9.5078125), ('_+$', 9.3984375), ('Partit', 9.359375), ('yet', 9.359375)]}, 15: {9: [('surround', 22.125), (' Surround', 16.171875), (' surrounding', 15.8046875), (' surrounds', 13.1015625), (' over', 13.0546875)], 20: [('Funnels', 8.578125), ('entro', 8.5390625), ('ilden', 8.40625), ('ensa', 8.09375), ('headerlink', 8.03125)], 26: [('rfloor', 9.546875), ('xico', 9.0234375), ('rowned', 8.7421875), ('undial', 8.5859375), ('hem', 8.484375)], 39: [('8', 10.625), ('2', 10.5703125), ('9', 10.5625), ('7', 10.4921875), ('0', 10.0859375)], 44: [('orial', 8.6875), ('ament', 8.375), ('寨', 7.68359375), ('Viewer', 7.37109375), (' ACTION', 7.36328125)], 63: [('��', 9.6015625), ('iosos', 9.0234375), ('olutely', 8.9921875), ('tty', 8.84375), ('става', 8.78125)]}, 12: {10: [('its', 14.75), (' its', 11.4140625), ('ITS', 11.0078125), ('Its', 10.640625), ('p', 10.2265625)], 16: [(' ', 10.4140625), ('long', 9.5625), (',', 9.453125), ('.', 9.0859375), (' mail', 8.3046875)], 20: [(' Тек', 10.28125), ('ради', 9.140625), ('培', 9.140625), ('ysical', 8.78125), ('emano', 8.5234375)], 45: [(' пан', 8.6171875), ('高等教育', 8.484375), ('虹', 8.1875), ('sting', 8.1484375), ('�', 7.80859375)], 53: [('orell', 11.140625), ('shiv', 10.21875), ('нея', 9.921875), ('�起', 9.765625), ('aita', 9.3671875)], 62: [(' its', 17.15625), (' Its', 14.6015625), ('its', 14.203125), (' neither', 14.03125), ('Its', 13.8359375)]}, 6: {11: [('ingu', 9.0546875), ('enix', 8.7109375), ('ulay', 8.6796875), ('ijo', 8.1796875), ('illings', 7.8828125)], 21: [('ery', 9.2109375), ('溪', 9.171875), ('abil', 8.875), ('dera', 8.640625), ('setState', 8.5703125)], 30: [('tones', 9.0625), ('CAPT', 8.7578125), ('ingly', 8.7265625), (' reve', 8.4140625), ('дей', 8.2890625)], 39: [('公', 9.3984375), ('页', 8.9609375), ('osc', 8.6875), ('unden', 8.5703125), ('hip', 8.4609375)], 43: [('科', 11.53125), ('mson', 10.3828125), ('达', 8.9375), ('uc', 8.9140625), ('IEEEeqnarray', 8.6328125)], 52: [(' motion', 9.21875), ('5', 8.7421875), ('alty', 8.4140625), ('2', 8.3671875), ('6', 8.359375)]}, 5: {12: [('nesday', 10.4296875), ('rological', 8.921875), ('Щ', 8.7890625), ('缘', 8.4921875), ('plates', 8.484375)], 19: [('nides', 10.1875), ('обла', 9.9375), ('uted', 9.7265625), ('obu', 9.328125), ('usercontent', 9.3125)], 20: [('}}\\\\$', 9.1484375), ('Окръг', 9.09375), (':&', 8.9765625), ('ATIC', 8.859375), ('ermost', 8.5546875)], 36: [('兼', 8.984375), ('ession', 8.78125), ('aport', 8.6171875), ('IFIER', 8.3671875), ('blic', 8.328125)], 47: [('arse', 10.4296875), (\".'\", 10.03125), (' em', 9.0390625), ('rity', 8.984375), (' \\\\|\\\\', 8.65625)], 50: [('尼奥', 8.4453125), ('KNOWN', 8.2578125), (' muralles', 8.2265625), ('ография', 8.171875), ('不完', 8.140625)]}, 0: {15: [('стани', 11.2734375), ('olat', 9.2578125), (' ул', 9.0078125), ('oly', 8.609375), ('stackexchange', 8.4140625)], 30: [('фове', 9.6328125), ('acro', 9.6328125), ('lli', 9.4609375), ('lowe', 9.1484375), ('ogr', 9.03125)], 40: [('ise', 12.3046875), ('ing', 10.9609375), ('izers', 10.5078125), ('ifiers', 10.4765625), ('ice', 10.40625)], 49: [('менно', 8.546875), ('ributions', 8.3046875), ('榜', 8.03125), ('shal', 7.9765625), (' tbody', 7.8984375)], 53: [('рено', 9.25), ('вност', 8.234375), ('iceps', 8.03125), ('pan', 7.91015625), ('swered', 7.8984375)], 59: [('�起', 9.6015625), ('ordial', 8.4140625), ('Dele', 8.2890625), ('�', 8.21875), (' degree', 8.1953125)]}, 1: {16: [('6', 10.3046875), ('ates', 9.8984375), ('1', 9.40625), ('5', 9.2421875), ('ered', 9.0390625)], 21: [('递', 9.2578125), ('� ', 9.078125), ('ان', 9.0625), ('ngu', 8.8046875), ('Resultats', 8.671875)], 41: [('2', 12.859375), ('9', 12.015625), ('5', 11.578125), ('8', 11.1015625), ('3', 11.09375)], 49: [(' set', 11.59375), ('set', 10.8984375), ('Set', 10.0), ('*}[!', 9.6015625), ('enser', 9.421875)], 52: [('召开', 10.703125), ('ajut', 10.5390625), ('来越', 10.140625), ('ORMAL', 9.96875), ('Msk', 9.625)], 60: [('影子', 10.2109375), (' Вис', 9.5859375), ('trude', 9.4296875), (' пози', 9.3671875), ('ostes', 8.609375)]}, 3: {16: [('allel', 9.203125), ('}$}\\\\', 8.8125), ('dinger', 8.765625), ('帖', 8.6875), ('茅', 8.6015625)], 17: [('umin', 8.84375), ('ugment', 8.6328125), (' Third', 8.5390625), ('第三', 8.515625), ('Third', 8.5078125)], 25: [('0', 14.859375), ('6', 14.15625), ('1', 13.9921875), ('3', 13.59375), ('J', 13.4453125)], 33: [(' not', 16.4375), ('not', 16.03125), ('Not', 13.8046875), ('NOT', 13.21875), (' NOT', 12.46875)], 43: [('imensional', 11.2578125), ('modelVersion', 10.6171875), ('*}{', 10.421875), ('$^{\\\\', 10.234375), ('eneg', 9.9609375)], 48: [('sty', 9.421875), ('eech', 9.2734375), ('操', 9.1484375), ('Lord', 8.328125), ('拨', 8.2734375)]}}\n",
      "Shared expert predictions: [[('=\"../_', 0.40478515625), ('_-(', 0.37744140625), ('bes', 0.37548828125), (' gu', 0.358154296875), (' Ends', 0.355712890625)], [('уд', 0.81591796875), ('utica', 0.8076171875), ('NonUser', 0.7958984375), ('ily', 0.75048828125), ('ugosl', 0.75)], [('Surface', 1.1611328125), ('surface', 1.111328125), ('ostics', 1.078125), (' surfaces', 1.04296875), ('保时', 1.0380859375)], [('tofore', 1.0859375), (' преврат', 1.0732421875), (' sols', 1.0361328125), ('IFE', 1.021484375), ('wered', 1.013671875)], [('�乐', 1.19921875), ('itatively', 0.8857421875), ('��', 0.86572265625), ('ize', 0.857421875), ('Installed', 0.85302734375)], [('dee', 1.16796875), ('上下', 1.0400390625), ('zy', 0.982421875), ('\\x7f', 0.947265625), ('jv', 0.94189453125)], [(' B', 0.677734375), (' S', 0.66455078125), (' b', 0.66357421875), (' C', 0.62890625), (' ..', 0.62744140625)], [('ugment', 0.87890625), (' c', 0.86181640625), ('至', 0.8115234375), ('�', 0.80224609375), ('feller', 0.796875)], [('кива', 0.87548828125), ('�', 0.8251953125), (' превръща', 0.7998046875), ('HCI', 0.7958984375), ('НС', 0.79443359375)], [('alet', 1.1279296875), ('blem', 1.01953125), ('tten', 0.9873046875), ('ixt', 0.98046875), ('tues', 0.9609375)], [('ilty', 1.1328125), ('木齐', 1.08984375), ('poke', 1.0634765625), ('idden', 1.05859375), ('�', 1.0556640625)], [(' ', 1.236328125), (' disc', 1.048828125), (' channel', 0.93115234375), (' Imm', 0.91845703125), (' radio', 0.89990234375)], [(' \"', 1.48828125), (' «', 1.435546875), (' U', 1.3544921875), ('j', 1.306640625), (' H', 1.3056640625)], [('instead', 1.7392578125), (' instead', 1.646484375), (' вместо', 1.44140625), ('Instead', 1.13671875), (' Instead', 1.076171875)], [(' g', 1.1357421875), (' vel', 1.1279296875), ('板', 1.123046875), ('版', 1.095703125), (' h', 1.0771484375)], [('4', 1.931640625), ('3', 1.89453125), ('6', 1.8203125), ('2', 1.8046875), ('9', 1.798828125)], [(' J', 0.9755859375), (' impressi', 0.90869140625), ('lan', 0.900390625), ('前后', 0.900390625), (' germana', 0.8984375)]]\n",
      "\n",
      "MoE Layer 21:\n",
      "Selected experts: [[16, 31, 59, 29, 48, 43], [16, 18, 7, 59, 41, 34], [52, 33, 5, 22, 21, 58], [63, 16, 55, 44, 9, 56], [32, 22, 42, 33, 47, 52], [35, 20, 43, 31, 47, 4], [35, 1, 31, 11, 20, 54], [14, 19, 26, 3, 8, 32], [18, 5, 34, 21, 63, 6], [23, 22, 42, 26, 28, 52], [48, 19, 3, 32, 58, 33], [28, 42, 38, 26, 10, 47], [42, 40, 48, 14, 0, 50], [32, 48, 33, 14, 13, 63], [5, 18, 21, 34, 16, 14], [42, 39, 23, 52, 51, 32], [3, 19, 48, 58, 33, 16]]\n",
      "Expert weights: [[0.6640625, 0.022979736328125, 0.0178680419921875, 0.01377105712890625, 0.0111236572265625, 0.01079559326171875], [0.21337890625, 0.0601806640625, 0.05523681640625, 0.032470703125, 0.02984619140625, 0.0260772705078125], [0.1732177734375, 0.11248779296875, 0.09271240234375, 0.06207275390625, 0.053558349609375, 0.042083740234375], [0.029296875, 0.26025390625, 0.043701171875, 0.048553466796875, 0.0244598388671875, 0.021697998046875], [0.23974609375, 0.07659912109375, 0.0892333984375, 0.172607421875, 0.052001953125, 0.049041748046875], [0.09149169921875, 0.0506591796875, 0.053192138671875, 0.054412841796875, 0.046722412109375, 0.041473388671875], [0.058441162109375, 0.051361083984375, 0.054779052734375, 0.0469970703125, 0.05902099609375, 0.04364013671875], [0.07525634765625, 0.061859130859375, 0.09478759765625, 0.07763671875, 0.1866455078125, 0.037017822265625], [0.06402587890625, 0.0292205810546875, 0.57861328125, 0.0675048828125, 0.0205078125, 0.0196990966796875], [0.09344482421875, 0.08831787109375, 0.10382080078125, 0.06378173828125, 0.101806640625, 0.060943603515625], [0.273681640625, 0.1484375, 0.1470947265625, 0.0404052734375, 0.03173828125, 0.0277862548828125], [0.131591796875, 0.1881103515625, 0.0692138671875, 0.06695556640625, 0.0305938720703125, 0.0287322998046875], [0.16943359375, 0.06585693359375, 0.039947509765625, 0.058746337890625, 0.03533935546875, 0.03143310546875], [0.1671142578125, 0.0225830078125, 0.099609375, 0.24365234375, 0.04693603515625, 0.0222320556640625], [0.0294189453125, 0.12359619140625, 0.1888427734375, 0.380859375, 0.026397705078125, 0.022491455078125], [0.06396484375, 0.038177490234375, 0.1485595703125, 0.160400390625, 0.035919189453125, 0.0355224609375], [0.2587890625, 0.220458984375, 0.166748046875, 0.03521728515625, 0.02813720703125, 0.0256805419921875]]\n",
      "Combined output tokens: [[('heses', 2.279296875), ('}$~\\\\', 2.201171875), ('childnode', 2.138671875), ('anzas', 2.037109375), ('ismes', 1.955078125)], [('晗', 1.6044921875), ('\\u200a', 1.5810546875), ('googleapis', 1.5283203125), ('ROID', 1.4296875), ('benius', 1.404296875)], [('мина', 3.06640625), ('LOP', 3.0234375), (' <!--[', 2.80078125), ('мирал', 2.763671875), ('юзи', 2.755859375)], [('dua', 2.470703125), ('ISHED', 2.3359375), ('geries', 2.333984375), ('uil', 2.318359375), ('inux', 2.28515625)], [('LOCKS', 2.724609375), ('веро', 2.54296875), ('rtype', 2.4609375), (' \\x97', 2.37890625), ('\\xa0v', 2.357421875)], [('0', 2.4375), ('5', 2.423828125), ('9', 2.361328125), ('8', 2.341796875), ('2', 2.33984375)], [('QA', 0.86474609375), ('WB', 0.7587890625), ('-', 0.7568359375), ('w', 0.69287109375), ('�', 0.671875)], [('missi', 1.939453125), ('ules', 1.9267578125), ('under', 1.88671875), ('isches', 1.880859375), ('ulet', 1.81640625)], [('VolumeSource', 4.35546875), ('точници', 4.3125), ('ltima', 4.2265625), ('ExternalTask', 4.1875), ('тъл', 4.15234375)], [('odeset', 2.37890625), ('paramtype', 2.37109375), ('одри', 2.28515625), ('cmark', 2.21484375), ('mathbold', 2.181640625)], [('膀', 3.7265625), ('olve', 3.65625), ('мберг', 3.533203125), ('figure', 3.53125), ('roups', 3.44140625)], [('orthand', 3.77734375), ('��', 3.6328125), ('Окръг', 3.591796875), ('upost', 3.484375), ('ifmmode', 3.419921875)], [(' ~', 2.64453125), ('евру', 2.525390625), (' ~(', 2.373046875), (' ~[', 2.19140625), ('subNav', 2.18359375)], [('��', 3.142578125), ('════', 2.806640625), ('rinos', 2.8046875), ('tode', 2.658203125), ('arrib', 2.640625)], [('��', 3.669921875), ('�乐', 3.224609375), (']{./', 2.99609375), ('accio', 2.958984375), ('subNav', 2.955078125)], [('rowColor', 2.35546875), ('坡', 2.119140625), ('hentic', 2.060546875), ('高等', 2.001953125), ('colhead', 1.978515625)], [('itively', 4.04296875), ('ovitch', 3.93359375), ('Lleg', 3.90234375), ('ivamente', 3.787109375), ('amily', 3.765625)]]\n",
      "Expert predictions by position: {12: {0: [('iaris', 9.890625), ('geu', 8.8828125), ('lebre', 8.8671875), ('zyk', 8.6640625), ('--------------------------------------------------------------------------', 8.5859375)], 14: [('rime', 8.609375), (' sim', 8.5546875), ('тена', 8.515625), ('дини', 8.3515625), ('тник', 8.171875)], 40: [('tesi', 10.390625), ('пела', 9.28125), ('2', 9.1953125), ('4', 9.1015625), ('6', 9.1015625)], 42: [('onesos', 12.0234375), ('евру', 11.3046875), ('ocats', 10.4296875), ('имна', 10.2890625), ('ifmmode', 10.125)], 48: [('alum', 9.1640625), ('什么', 8.625), (' Bore', 8.578125), (' principi', 8.2890625), ('нан', 8.28125)], 50: [('at', 9.0), ('nai', 8.71875), ('igner', 8.1171875), ('eted', 8.078125), ('保护', 8.0)]}, 6: {1: [('mb', 8.609375), ('indow', 8.484375), ('asin', 8.3515625), ('--------------------------------------------------------------------------------------------------------------------------------', 7.80859375), ('cast', 7.76953125)], 11: [('strut', 8.6171875), ('iciencies', 8.3671875), ('agona', 8.3515625), ('endregion', 8.34375), (' sust', 8.1640625)], 20: [('стки', 8.6015625), ('стка', 8.5546875), (' buff', 8.4296875), ('alty', 7.98046875), (' str', 7.890625)], 31: [('aquella', 10.0390625), ('OMAS', 8.875), ('ремо', 8.578125), ('档案', 8.546875), ('arrib', 8.3828125)], 35: [('posal', 8.7421875), ('дем', 8.5625), (' Fab', 8.4140625), ('章', 8.203125), ('cul', 8.1328125)], 54: [(' EM', 9.3203125), ('nP', 9.3046875), (' em', 9.2421875), ('iva', 9.0078125), ('em', 8.7421875)]}, 7: {3: [(' be', 16.328125), ('be', 13.7890625), ('Be', 11.71875), (' Be', 11.140625), ('bein', 11.1328125)], 8: [('�', 9.359375), ('тания', 8.7109375), ('入', 8.65625), ('vid', 8.609375), ('ulet', 8.59375)], 14: [('0', 13.109375), ('5', 13.0546875), ('9', 13.03125), ('2', 13.0078125), ('6', 12.9921875)], 19: [('uper', 10.9921875), ('agut', 10.0625), (' proporcional', 9.484375), ('arton', 9.3359375), ('乾', 9.3359375)], 26: [('under', 19.28125), (' under', 17.8125), (' UNDER', 15.8203125), (' sota', 15.21875), ('Under', 15.21875)], 32: [('ertainly', 10.0625), ('oberta', 8.9453125), ('hores', 8.5703125), ('输', 8.4453125), ('urrent', 8.328125)]}, 10: {3: [('gha', 9.609375), ('стои', 9.3984375), ('рен', 8.71875), ('amily', 8.5390625), ('5', 8.1875)], 19: [('inga', 9.5703125), ('кер', 9.15625), ('бва', 8.921875), ('ency', 8.5546875), ('ainer', 8.390625)], 32: [('emberg', 9.8984375), ('ровка', 9.7578125), ('=</', 9.265625), ('stria', 9.265625), ('tagName', 9.0546875)], 33: [('казват', 10.1171875), ('вън', 9.390625), ('iered', 9.296875), ('nsula', 9.1328125), ('ezna', 8.9765625)], 48: [('爱', 9.2578125), ('пло', 9.1640625), ('гур', 8.53125), ('��', 8.453125), ('aru', 8.296875)], 58: [('吐', 9.078125), ('roid', 8.7890625), ('ondre', 8.5703125), ('kindness', 8.375), (' savedInstanceState', 7.96484375)]}, 16: {3: [('decomp', 10.5625), ('Dec', 10.546875), ('解', 10.1328125), ('unlock', 9.984375), ('два', 9.796875)], 16: [('heses', 11.265625), ('}$~\\\\', 10.859375), ('childnode', 10.609375), ('anzas', 10.453125), ('aquen', 9.3125)], 19: [('leave', 10.59375), ('ixent', 9.203125), (' vora', 8.65625), ('verick', 8.59375), ('subNav', 8.484375)], 33: [('deep', 14.9765625), (' deep', 14.9375), ('Deep', 13.90625), ('thick', 12.3828125), ('цки', 11.6875)], 48: [(' aspect', 8.578125), ('vena', 8.25), ('ROUGH', 8.015625), (' proporcional', 7.87890625), (' Wa', 7.796875)], 58: [('mighty', 9.8828125), (' Pallars', 9.6640625), ('NDER', 9.5390625), ('ictionary', 9.4765625), ('aische', 9.4375)]}, 5: {4: [('化', 10.890625), ('ец', 10.2890625), ('ation', 9.671875), ('oba', 9.6171875), ('若干问题的', 9.59375)], 20: [('pond', 8.828125), ('пия', 8.375), ('末', 8.2734375), ('�', 8.2109375), ('Start', 8.1640625)], 31: [('nima', 9.7421875), ('PAN', 9.09375), ('ingly', 8.7265625), ('asci', 8.703125), ('pers', 8.484375)], 35: [('素', 10.09375), ('�', 9.375), (' t', 8.7265625), ('manda', 8.5625), ('nam', 8.4921875)], 43: [('部', 9.6875), ('day', 8.546875), ('��', 8.3203125), ('�', 8.1171875), ('9', 8.0390625)], 47: [(',', 10.5234375), ('AD', 8.875), ('ifests', 8.828125), ('ifique', 8.828125), ('洗', 8.734375)]}, 2: {5: [('гледа', 10.484375), (' Confederaci', 9.6328125), ('$|', 9.4296875), (' instru', 9.375), ('sserv', 9.0234375)], 21: [(' Tou', 9.3203125), ('сители', 8.9921875), ('und', 8.8984375), ('incor', 8.375), ('unde', 8.2578125)], 22: [('ty', 9.234375), ('ixer', 9.0), ('sty', 8.8671875), ('isto', 8.625), ('ento', 8.515625)], 33: [(' th', 10.5625), ('deep', 10.4453125), ('Deep', 9.8125), (' Deep', 9.328125), ('славия', 9.078125)], 52: [('OID', 9.53125), ('挛', 9.359375), ('ardu', 9.1484375), ('apic', 8.8125), ('versation', 8.453125)], 58: [(' Confl', 10.140625), ('lesa', 8.859375), ('ervera', 8.7734375), ('pmy', 8.734375), (' ?>\">', 8.7109375)]}, 8: {5: [(' t', 9.828125), (' Mill', 9.3828125), ('treasure', 9.3125), ('тру', 9.1875), ('gano', 8.8671875)], 6: [('ius', 9.7109375), ('pies', 8.8125), ('calde', 8.625), ('IUS', 8.6015625), ('ители', 8.5625)], 18: [(' чи', 9.140625), ('arb', 8.9375), ('baselines', 8.4921875), (' ghost', 7.875), ('tears', 7.7890625)], 21: [('生素', 10.7109375), ('PRB', 9.640625), ('cks', 9.4765625), ('cos', 9.46875), ('ned', 8.7578125)], 34: [('e', 10.3671875), ('ronic', 9.765625), ('less', 9.5546875), ('us', 9.4296875), ('рина', 8.9140625)], 63: [('itus', 8.8984375), ('тата', 8.8046875), ('reo', 8.640625), ('ullo', 8.6015625), ('不过', 8.4921875)]}, 14: {5: [('сми', 9.6953125), (' транспорт', 9.4765625), ('转运', 9.1640625), ('abilia', 8.8671875), (' OPTION', 8.546875)], 14: [(' where', 11.96875), ('where', 11.890625), (' donde', 10.453125), ('\\twhere', 9.875), (' WHERE', 9.6171875)], 16: [('getC', 10.9921875), ('ONSE', 10.8203125), ('mead', 9.7265625), ('дието', 9.4140625), ('mont', 9.1796875)], 18: [('following', 11.3359375), ('ories', 10.890625), ('juju', 10.2734375), ('resa', 10.0703125), ('atre', 9.140625)], 21: [('писани', 10.1171875), ('хер', 9.671875), ('произ', 9.21875), ('цин', 9.1484375), ('什么呢', 9.0625)], 34: [('точници', 10.4140625), ('writeField', 10.3203125), ('ltima', 10.2265625), ('legi', 10.1328125), ('autorest', 10.1015625)]}, 1: {7: [('enches', 9.0859375), ('рии', 8.921875), ('\\xa0part', 8.78125), ('oman', 8.6484375), ('issip', 8.515625)], 16: [('rix', 9.296875), ('фи', 8.5078125), ('iken', 8.390625), ('枉', 8.3828125), ('ered', 8.0859375)], 18: [('arded', 9.1640625), ('щото', 8.7578125), ('period', 8.6328125), ('0', 8.28125), ('agger', 8.25)], 34: [('��', 12.59375), ('局', 10.4765625), ('мила', 9.71875), ('4', 9.4765625), ('alen', 9.4140625)], 41: [('annels', 9.5234375), ('manda', 9.0859375), ('Кла', 9.0859375), ('лев', 8.515625), (' mena', 8.4453125)], 59: [('她们的', 8.890625), ('广', 8.5625), ('DEVICE', 8.3515625), ('кона', 7.75390625), ('ACES', 7.671875)]}, 3: {9: [(' [', 27.625), ('\\t[', 21.53125), ('[', 20.59375), (' [_', 18.84375), (' [`', 18.640625)], 16: [('dua', 10.671875), ('LOPT', 10.625), ('uil', 9.75), ('|--------------------------------------------------------------------------', 9.15625), ('iosa', 8.796875)], 44: [('рията', 10.21875), (' quedava', 10.1328125), ('istes', 10.0234375), (' пак', 9.8984375), (' btree', 9.796875)], 55: [('Tom', 9.3984375), ('jay', 9.109375), (' Mo', 9.09375), (' p', 9.0546875), ('Mo', 8.984375)], 56: [('串', 8.1796875), ('ivo', 7.95703125), ('闹', 7.890625), ('驱', 7.83984375), ('基', 7.77734375)], 63: [('olin', 9.7109375), ('oest', 9.65625), ('BUF', 9.4375), ('ystyle', 9.2421875), ('ialect', 9.234375)]}, 11: {10: [(' where', 15.2890625), ('where', 15.140625), (' donde', 13.3828125), ('Where', 13.0703125), ('\\twhere', 12.46875)], 26: [('behind', 11.1953125), ('backer', 10.546875), ('antro', 9.5859375), (' mena', 9.46875), (' onCreate', 9.234375)], 28: [(' its', 14.1640625), ('它能', 11.265625), ('因为它', 11.203125), (' it', 11.15625), ('etheless', 11.0859375)], 38: [('介', 9.984375), ('aska', 9.0859375), ('зер', 8.8046875), ('yself', 8.796875), ('\\t\\\\\\\\', 8.4765625)], 42: [('евру', 14.1484375), (' ~', 13.2890625), (' ~(', 11.390625), (' Кън', 10.9453125), ('$~', 10.8671875)], 47: [('_', 10.203125), ('ync', 9.65625), ('9', 9.359375), ('0', 9.0703125), ('By', 8.859375)]}, 13: {13: [('erground', 8.6171875), ('潮', 8.28125), ('dkms', 8.1796875), ('aires', 8.1484375), ('anim', 8.09375)], 14: [(' for', 11.296875), ('for', 10.0), (' для', 8.5), ('forall', 8.484375), ('жие', 8.4453125)], 32: [('结', 9.8125), ('мии', 8.9375), ('uita', 8.734375), ('tras', 8.6640625), ('measures', 8.484375)], 33: [('emberg', 10.6953125), ('taw', 9.1328125), ('juju', 8.8671875), ('yself', 8.4296875), ('сково', 8.421875)], 48: [('NOSCRIPT', 10.8046875), ('ausen', 10.2265625), ('ares', 9.984375), ('�', 9.84375), ('准备的', 9.4609375)], 63: [('宝', 9.78125), ('梧', 9.0), ('еб', 8.328125), ('主观', 8.09375), ('тист', 8.0)]}, 0: {16: [('3', 9.890625), ('sin', 9.75), ('5', 9.34375), ('ieren', 9.1328125), ('6', 8.8828125)], 29: [('opol', 7.5546875), ('славски', 6.734375), ('чности', 6.734375), ('циа', 6.64453125), ('endres', 6.640625)], 31: [('igy', 10.71875), ('рид', 10.5078125), ('anell', 9.6796875), ('ieri', 9.015625), ('}$~\\\\', 8.828125)], 43: [('�起', 12.2109375), ('旦', 9.4765625), ('lars', 9.03125), ('毕', 8.9921875), ('айт', 8.9765625)], 48: [('noma', 10.4453125), ('aire', 10.1640625), ('ď', 9.109375), ('ylene', 8.9140625), ('тива', 8.8828125)], 59: [('cant', 9.2109375), ('сени', 8.890625), ('免费咨询电话', 7.97265625), ('драт', 7.87890625), (' worth', 7.80078125)]}, 4: {22: [('bedo', 12.15625), ('ulada', 11.34375), ('IEW', 10.90625), ('iceless', 10.65625), ('CDCD', 10.375)], 32: [('��', 10.8515625), (' Should', 9.671875), ('tode', 9.625), (' should', 9.25), ('дън', 9.1796875)], 33: [('uil', 10.4921875), ('phant', 10.3046875), ('encia', 9.421875), ('rollback', 9.265625), ('entin', 8.890625)], 42: [(' \\x97', 12.28125), ('ח', 10.8515625), ('._--', 10.7265625), (\"''_\", 10.5625), (\"}'_\", 10.0078125)], 47: [('0', 20.34375), ('2', 20.109375), ('3', 19.21875), ('5', 19.046875), ('9', 19.0)], 52: [('rici', 9.546875), ('tablenot', 8.703125), ('ITER', 8.5546875), ('tingen', 8.515625), ('stig', 8.46875)]}, 9: {22: [('tole', 10.046875), ('uncher', 9.8125), ('lood', 9.75), (' зависимост', 9.0546875), ('omor', 9.046875)], 23: [('phalt', 9.2890625), ('aried', 9.1875), ('smoke', 8.7109375), ('arine', 8.40625), ('WithValue', 8.265625)], 26: [('under', 8.578125), ('уд', 8.328125), (' back', 7.94921875), ('tofore', 7.625), ('nex', 7.53125)], 28: [(' after', 9.1015625), ('after', 8.8828125), ('rave', 8.7421875), ('нор', 8.234375), ('erir', 8.1875)], 42: [('FUNCPTR', 10.8515625), (' ~[', 10.75), (' suggere', 10.4453125), ('ренски', 10.1484375), ('NOSCRIPT', 10.0234375)], 52: [('ongs', 9.171875), ('oner', 9.09375), (' pand', 8.6484375), ('ong', 8.3125), ('pure', 8.2421875)]}, 15: {23: [(' here', 9.4765625), ('黑', 9.2265625), ('ERIC', 8.8828125), ('ei', 8.78125), ('here', 8.59375)], 32: [('чник', 9.2109375), ('кази', 8.671875), ('мит', 8.5234375), ('机动', 8.4140625), ('准', 8.28125)], 39: [('number', 10.734375), ('Number', 9.8046875), (' number', 8.8828125), ('龄', 8.46875), (' NUMBER', 8.453125)], 42: [('writeField', 10.234375), ('regut', 10.0859375), (\"$''\", 10.015625), (' \\x97', 9.9296875), ('效力', 9.578125)], 51: [('品', 9.453125), ('ija', 8.5546875), ('junctive', 8.1875), ('gtr', 8.0546875), ('APTER', 8.0)], 52: [('\\tthat', 12.3046875), (' that', 11.453125), ('лози', 9.9609375), ('коно', 9.890625), ('��', 9.84375)]}}\n",
      "Shared expert predictions: [[('�乐', 0.400634765625), ('Hivern', 0.36572265625), ('dens', 0.3486328125), ('onada', 0.338623046875), ('opsi', 0.331787109375)], [('�乐', 1.25), ('мпе', 0.9931640625), ('googleapis', 0.96142578125), ('тец', 0.9462890625), ('typeparam', 0.9169921875)], [('ilst', 1.310546875), (' w', 0.98291015625), ('VAR', 0.9541015625), ('мина', 0.93017578125), ('碌', 0.921875)], [('роди', 1.169921875), ('�乐', 1.154296875), ('investigaci', 1.1240234375), ('чие', 1.12109375), ('omitempty', 1.095703125)], [('IAL', 0.83349609375), ('applet', 0.7734375), ('Attrib', 0.71484375), ('mari', 0.705078125), ('aty', 0.69677734375)], [('1', 1.6982421875), ('0', 1.69140625), ('5', 1.6650390625), ('-', 1.66015625), ('7', 1.6298828125)], [('QA', 0.78271484375), ('w', 0.65576171875), ('4', 0.6396484375), ('3', 0.63671875), ('�', 0.63623046875)], [('ceso', 0.93798828125), ('estes', 0.90380859375), ('lein', 0.87841796875), ('sters', 0.8427734375), ('estil', 0.841796875)], [('撒', 0.82861328125), ('нио', 0.8076171875), ('抵', 0.7958984375), ('Uses', 0.794921875), ('atel', 0.78662109375)], [('ническата', 1.08984375), ('childnode', 1.05859375), ('estaci', 1.044921875), ('colhead', 1.03515625), ('стън', 1.02734375)], [('geo', 1.1416015625), ('estaci', 1.0751953125), ('psy', 1.0126953125), ('that', 1.0029296875), ('нат', 0.98974609375)], [('estrat', 1.33203125), ('ucket', 1.2216796875), ('braco', 1.16015625), ('OperationKind', 1.16015625), ('estaci', 1.1328125)], [('QM', 0.91748046875), ('lj', 0.857421875), ('驾驭', 0.85498046875), ('昊', 0.84619140625), ('orte', 0.84326171875)], [('odinger', 1.4521484375), ('问题', 1.220703125), ('�', 1.1484375), ('question', 1.1298828125), ('hyde', 1.1201171875)], [('ulats', 1.173828125), ('paramtype', 1.12890625), (' Дебър', 1.1083984375), ('ostes', 1.072265625), ('аз', 1.0615234375)], [('oficial', 1.203125), ('estren', 1.185546875), (' lowes', 0.9443359375), ('estaci', 0.92626953125), ('onats', 0.921875)], [('ulats', 1.2421875), ('estaci', 1.2158203125), ('bitat', 1.08984375), ('itably', 1.064453125), ('ramfs', 1.0615234375)]]\n",
      "\n",
      "MoE Layer 22:\n",
      "Selected experts: [[59, 18, 53, 23, 56, 4], [1, 27, 59, 40, 35, 44], [51, 2, 13, 62, 30, 36], [15, 17, 57, 40, 60, 14], [51, 62, 3, 55, 17, 39], [59, 28, 21, 44, 48, 38], [9, 52, 59, 38, 50, 31], [15, 17, 58, 12, 32, 49], [10, 17, 2, 30, 57, 32], [6, 58, 55, 11, 29, 2], [41, 12, 17, 44, 57, 61], [39, 29, 55, 7, 62, 15], [55, 26, 28, 11, 17, 18], [17, 51, 11, 10, 15, 26], [17, 10, 2, 57, 35, 30], [6, 55, 29, 58, 17, 2], [12, 41, 17, 61, 57, 25]]\n",
      "Expert weights: [[0.7353515625, 0.01959228515625, 0.019256591796875, 0.0118255615234375, 0.011749267578125, 0.0095672607421875], [0.364501953125, 0.050872802734375, 0.039398193359375, 0.0255889892578125, 0.025482177734375, 0.0219268798828125], [0.1761474609375, 0.09619140625, 0.053985595703125, 0.053375244140625, 0.036224365234375, 0.035797119140625], [0.1026611328125, 0.060546875, 0.057098388671875, 0.052642822265625, 0.037994384765625, 0.02886962890625], [0.264404296875, 0.0797119140625, 0.042144775390625, 0.038177490234375, 0.033355712890625, 0.033203125], [0.5927734375, 0.0309906005859375, 0.0294036865234375, 0.026458740234375, 0.02197265625, 0.0210723876953125], [0.05413818359375, 0.04730224609375, 0.283203125, 0.04248046875, 0.041717529296875, 0.035400390625], [0.256591796875, 0.09234619140625, 0.17529296875, 0.07177734375, 0.0504150390625, 0.0447998046875], [0.12322998046875, 0.1629638671875, 0.1146240234375, 0.055694580078125, 0.034271240234375, 0.0281982421875], [0.05340576171875, 0.06134033203125, 0.48046875, 0.0404052734375, 0.0245208740234375, 0.0240020751953125], [0.09552001953125, 0.357177734375, 0.07281494140625, 0.0263824462890625, 0.061431884765625, 0.024139404296875], [0.06463623046875, 0.06146240234375, 0.499755859375, 0.055633544921875, 0.0288238525390625, 0.02105712890625], [0.0601806640625, 0.31591796875, 0.137451171875, 0.054595947265625, 0.028076171875, 0.022552490234375], [0.2098388671875, 0.1212158203125, 0.059478759765625, 0.0477294921875, 0.03924560546875, 0.0361328125], [0.31640625, 0.1488037109375, 0.09368896484375, 0.04638671875, 0.0352783203125, 0.03350830078125], [0.392822265625, 0.1456298828125, 0.048004150390625, 0.0357666015625, 0.03399658203125, 0.019073486328125], [0.317138671875, 0.1551513671875, 0.136962890625, 0.054595947265625, 0.04193115234375, 0.02093505859375]]\n",
      "Combined output tokens: [[('大力', 0.66748046875), ('pip', 0.599609375), (' provision', 0.54638671875), ('стер', 0.54638671875), ('fons', 0.54541015625)], [(' Smart', 2.458984375), ('Smart', 2.44921875), ('Ess', 2.248046875), ('ерцог', 2.078125), ('smart', 2.068359375)], [('�', 2.736328125), ('Box', 2.5625), ('契', 2.4140625), (' Носител', 2.37890625), ('ffected', 2.234375)], [('Вън', 2.544921875), (' guia', 2.345703125), ('Окръг', 2.33984375), ('�乐', 2.26171875), ('Италиан', 2.205078125)], [(' lies', 4.453125), (' lie', 4.0078125), ('Lie', 3.638671875), ('lays', 3.4765625), ('Lay', 3.306640625)], [('营', 6.77734375), ('bona', 6.53515625), ('�', 6.35546875), ('osm', 6.29296875), ('茸', 6.28125)], [('s', 1.2646484375), ('�', 1.251953125), ('зона', 1.2001953125), ('……', 1.1923828125), ('falls', 1.1552734375)], [('вети', 3.150390625), ('malink', 2.873046875), ('золю', 2.794921875), ('� ', 2.75390625), ('}[]', 2.720703125)], [('�', 2.548828125), ('iable', 2.212890625), ('гда', 2.205078125), ('Prov', 2.193359375), ('ngia', 2.1796875)], [('erated', 3.830078125), ('imod', 3.75390625), ('бой', 3.6328125), ('igraphy', 3.62109375), ('рак', 3.615234375)], [(' Вис', 4.19921875), ('Def', 4.0859375), ('oprano', 3.875), ('pite', 3.869140625), (' насо', 3.857421875)], [(' but', 5.5078125), ('but', 4.6875), (' sophistic', 4.38671875), (' arx', 4.37890625), ('aroo', 4.30859375)], [('odo', 3.43359375), ('asym', 3.369140625), ('mera', 3.107421875), (');\"', 2.93359375), (' {&', 2.892578125)], [('лита', 2.8046875), ('wound', 2.779296875), ('нска', 2.65234375), ('iada', 2.63671875), ('romise', 2.61328125)], [('тури', 6.6015625), ('ту', 6.34765625), ('�', 5.9140625), ('respons', 5.69140625), ('reate', 5.640625)], [('nides', 5.296875), ('celain', 5.15234375), ('onshire', 5.015625), ('topsp', 4.75), ('СС', 4.59375)], [('马拉', 4.62890625), ('adas', 4.1796875), ('Sing', 4.06640625), ('链', 3.97265625), ('alogy', 3.970703125)]]\n",
      "Expert predictions by position: {1: {1: [(' Smart', 11.0078125), ('Smart', 10.7890625), ('smart', 10.3203125), ('sis', 9.25), (' smart', 9.234375)], 27: [('йно', 9.25), ('icrosoft', 9.1484375), ('HDA', 9.03125), ('不胜', 8.6640625), ('郊', 8.640625)], 35: [('��', 11.09375), ('сиони', 9.5625), ('cy', 9.2265625), ('erate', 9.078125), ('司', 8.5078125)], 40: [(' Delta', 10.3359375), ('acta', 9.921875), (' pad', 9.046875), ('用人', 8.8515625), ('Delta', 8.6875)], 44: [(' d', 8.96875), ('тю', 8.4921875), ('idia', 8.109375), ('苹果', 8.0), ('0', 7.97265625)], 59: [('营', 9.078125), ('bona', 8.5546875), ('�', 8.46875), ('�', 8.4375), ('osm', 8.4296875)]}, 2: {2: [('isters', 11.4921875), ('ейнт', 11.0078125), ('CLUD', 10.90625), (' club', 10.5859375), ('anis', 10.1640625)], 13: [('ractive', 8.9609375), ('Вън', 8.9140625), ('Икономи', 8.8515625), ('ътре', 8.8359375), ('yect', 8.765625)], 30: [('断', 9.3359375), ('ILON', 9.2890625), ('inson', 8.2109375), ('大连', 8.171875), ('官方', 8.1640625)], 36: [('teams', 20.3125), (' teams', 19.953125), (' team', 19.6875), ('team', 18.828125), (' Teams', 16.90625)], 51: [(' run', 13.4375), ('runs', 11.703125), (' runs', 11.6953125), (' Run', 10.125), ('umno', 9.9296875)], 62: [(' #', 10.7109375), ('–', 9.8046875), (' ', 9.703125), ('—', 9.515625), (' app', 8.953125)]}, 8: {2: [(' тит', 11.140625), ('Box', 10.8046875), ('box', 10.3828125), ('boxt', 10.015625), ('boxes', 10.0)], 10: [('xchange', 10.1015625), ('тео', 9.984375), ('ктомври', 8.9609375), ('бай', 8.875), ('рича', 8.7109375)], 17: [('�', 9.5859375), ('irie', 9.015625), (' plaus', 8.4765625), ('latex', 8.359375), ('大地', 8.25)], 30: [(' lead', 13.8984375), (' Lead', 12.8046875), (' leads', 11.3671875), ('leads', 11.25), ('Lead', 10.6875)], 32: [(' nearly', 11.203125), (' almost', 8.8359375), (' трети', 8.8203125), (' hours', 8.796875), (' half', 8.5703125)], 57: [('enci', 9.3984375), ('сие', 8.6640625), ('v', 8.390625), ('ent', 8.375), ('цип', 8.328125)]}, 9: {2: [('6', 10.234375), ('set', 9.1171875), ('трий', 8.9921875), (' set', 8.9921875), ('pare', 8.7734375)], 6: [(' Tod', 9.2578125), (' tot', 8.8515625), ('вност', 8.5625), ('acco', 8.3984375), (' Poc', 8.375)], 11: [(' i', 10.7734375), ('走的', 10.421875), ('umbed', 9.7265625), (' again', 9.6796875), ('estrella', 9.65625)], 29: [(' Catalana', 10.6015625), (';|', 10.125), ('�다', 9.609375), (' pleth', 8.8203125), ('�', 8.7109375)], 55: [(' Cong', 9.4609375), ('рак', 8.9921875), ('erated', 8.453125), ('omar', 8.4140625), ('бой', 8.3828125)], 58: [(' uns', 11.9140625), ('sol', 10.8203125), ('вето', 10.5234375), ('Sol', 10.4609375), ('uns', 10.375)]}, 14: {2: [('source', 12.15625), (' source', 10.5234375), (' game', 9.5), (' ey', 9.453125), ('海', 9.21875)], 10: [('\\xa0mil', 10.765625), ('тъл', 10.28125), ('CPTR', 10.1796875), ('tains', 9.9609375), ('ifera', 9.7734375)], 17: [('визия', 9.6484375), ('asg', 9.015625), ('frastructure', 8.8125), ('viously', 8.5546875), ('ugues', 8.265625)], 30: [('或缺', 9.9453125), ('урен', 9.28125), (' cristi', 9.203125), ('бел', 9.0546875), ('blacklist', 9.0234375)], 35: [(' past', 13.84375), (' land', 13.703125), (' moment', 12.4140625), (' Land', 11.6640625), (' LAND', 11.109375)], 57: [('rolet', 9.1328125), ('nants', 9.1171875), ('ober', 8.515625), ('ingut', 8.515625), ('面的', 8.328125)]}, 15: {2: [(' stage', 12.15625), ('pgdp', 11.328125), ('pzc', 11.3203125), (' бря', 11.2734375), ('awan', 10.609375)], 6: [('nides', 9.6953125), ('topsp', 9.34375), ('onshire', 8.9609375), ('etano', 8.8359375), ('esport', 8.7734375)], 17: [('within', 10.1875), ('adel', 9.40625), ('马拉', 9.390625), ('eral', 9.2265625), (' призна', 8.7890625)], 29: [('uresa', 10.046875), ('estrat', 9.1328125), ('новен', 9.09375), ('ierarchy', 8.9609375), ('rona', 8.8515625)], 55: [(' so', 13.296875), ('so', 11.4453125), ('�', 10.921875), ('struments', 9.953125), (' but', 9.6953125)], 58: [(' under', 20.921875), ('under', 19.296875), ('Under', 17.78125), (' UNDER', 17.3125), (' Under', 16.765625)]}, 4: {3: [('_+(', 9.5390625), ('cona', 8.5078125), (' Mediterrani', 8.3671875), ('ubert', 8.359375), ('cko', 8.1796875)], 17: [('3', 10.2578125), ('0', 10.2265625), ('suffering', 10.1796875), ('1', 9.9765625), ('6', 9.5078125)], 39: [(' each', 17.390625), (' yet', 16.578125), ('each', 15.6328125), (' EACH', 14.78125), ('yet', 14.640625)], 51: [('стен', 10.2578125), ('oice', 9.46875), ('дън', 9.25), ('DOCKED', 8.640625), ('rqu', 8.6015625)], 55: [('的那种', 9.3984375), ('or', 8.6015625), ('{\"', 8.4453125), ('-', 8.03125), ('idential', 7.9921875)], 62: [('trx', 10.75), ('isons', 10.5), ('ythe', 10.21875), ('scp', 10.0078125), (' бре', 9.6953125)]}, 0: {4: [('j', 12.3515625), ('g', 8.9921875), ('or', 8.71875), ('ch', 8.671875), ('注', 8.6484375)], 18: [('—', 13.0078125), ('——', 9.25), (' Zel', 8.953125), ('–', 8.9140625), ('eng', 8.8203125)], 23: [(' desn', 9.1484375), ('瀑', 8.5703125), (' Principat', 8.4453125), ('利物', 8.0390625), ('жени', 7.8125)], 53: [('8', 11.8515625), ('9', 11.0078125), ('0', 9.46875), ('6', 9.40625), ('4', 8.328125)], 56: [('MP', 8.421875), (' Op', 8.3046875), ('uan', 8.203125), ('Help', 8.1640625), ('fac', 7.89453125)], 59: [('зона', 9.203125), ('\\r', 9.1953125), ('ън', 9.0625), ('хия', 8.7578125), ('ир', 8.59375)]}, 11: {7: [('inia', 10.15625), ('avo', 9.0859375), ('��', 8.9765625), ('搭', 8.7890625), ('cplusplus', 8.765625)], 15: [('where', 11.1484375), (' where', 10.7734375), (' WHERE', 10.265625), ('Where', 9.875), (' Where', 9.8046875)], 29: [(',', 8.546875), (' yourself', 8.2578125), ('acced', 8.0546875), ('imap', 7.84765625), (' by', 7.84765625)], 39: [(' one', 21.921875), ('one', 19.25), (' all', 15.6328125), (' ONE', 14.6796875), ('One', 14.4296875)], 55: [(' but', 11.9921875), ('but', 10.328125), ('耐', 9.5234375), (' pero', 8.9921875), (' arx', 8.953125)], 62: [('aje', 9.5390625), ('atges', 9.015625), ('uche', 8.8125), ('esia', 8.6484375), ('onga', 7.95703125)]}, 6: {9: [('领', 8.5859375), ('ntic', 8.3984375), ('acters', 8.2265625), ('ixos', 8.015625), (' tri', 7.92578125)], 31: [('fford', 8.421875), (' Gug', 8.4140625), ('deriv', 7.4453125), ('BUR', 7.25), ('ardu', 7.234375)], 38: [('ers', 9.9765625), ('me', 9.21875), (' bear', 9.125), ('stit', 8.796875), ('aleses', 8.6796875)], 50: [('erest', 9.96875), ('гле', 9.2734375), ('pres', 8.6484375), ('ста', 8.484375), (' Com', 8.3046875)], 52: [('ering', 9.625), ('5', 9.1640625), ('ever', 9.0625), ('sos', 8.875), ('1', 8.6953125)], 59: [('�', 13.4609375), ('�', 11.6484375), ('�', 10.90625), ('�', 10.8984375), ('aign', 10.6484375)]}, 13: {10: [('LP', 8.96875), (' Gaz', 8.5390625), ('roth', 8.328125), ('дале', 8.2109375), ('统', 7.93359375)], 11: [(' its', 17.828125), ('its', 17.09375), ('Its', 15.5859375), (' Its', 14.390625), ('ITS', 12.1484375)], 15: [(' who', 20.125), (' where', 19.3125), ('\\twhere', 18.265625), (' why', 17.90625), ('who', 17.859375)], 17: [('цел', 9.1796875), ('IENT', 8.96875), ('мпе', 8.828125), ('pless', 8.6640625), ('飞的', 8.46875)], 26: [('ilog', 10.421875), ('TRACE', 9.796875), ('LOCKS', 8.9375), ('drv', 8.8828125), ('adecimal', 8.8671875)], 51: [(' lies', 18.078125), (' lie', 17.453125), ('Lie', 14.5078125), (' lay', 13.5546875), (' lain', 12.703125)]}, 12: {11: [('stuff', 9.8046875), ('他的', 9.6796875), ('您的', 9.625), ('了他的', 9.375), ('constrained', 8.96875)], 17: [('refore', 10.875), ('ylus', 9.4921875), ('alers', 9.265625), ('tico', 9.15625), ('快的', 9.1015625)], 18: [('сло', 9.015625), (' llur', 8.046875), ('atern', 8.0390625), ('intercept', 7.7578125), ('бло', 7.58203125)], 26: [('myItem', 10.078125), ('ecke', 9.515625), (' don', 9.4921875), ('odo', 9.3203125), ('ията', 9.109375)], 28: [('ady', 11.1640625), ('orm', 9.921875), ('半', 9.046875), ('che', 9.0), ('ове', 8.953125)], 55: [(' sl', 9.5078125), (' комплекс', 9.4921875), ('syn', 8.765625), (' slider', 8.1796875), ('PubKey', 8.1640625)]}, 7: {12: [(' b', 9.1171875), ('[...]', 9.0546875), ('ograp', 8.7421875), ('estres', 8.5), ('uzzle', 8.4375)], 15: [('4', 10.6875), ('6', 10.0078125), ('roqu', 9.5390625), ('lefte', 9.515625), ('7', 9.1484375)], 17: [('suffering', 11.40625), ('suffer', 9.140625), ('��', 8.9296875), ('rup', 8.7734375), ('不忍', 8.75)], 32: [('reso', 9.7421875), ('andona', 8.828125), ('alk', 8.515625), ('nota', 8.4921875), ('ента', 8.46875)], 49: [(' that', 12.71875), ('that', 12.6171875), ('That', 10.9609375), (' That', 10.8984375), ('about', 10.4453125)], 58: [('malink', 11.59375), ('litza', 11.2578125), ('verter', 11.0703125), ('cassiopeia', 10.8984375), ('alusia', 10.765625)]}, 10: {12: [('链', 10.21875), ('aul', 9.859375), ('影', 9.4765625), (' W', 8.703125), ('onomy', 8.671875)], 17: [('тури', 10.953125), ('�', 10.9140625), ('ту', 10.84375), ('respons', 9.609375), ('urdue', 9.40625)], 41: [(' stay', 16.03125), (' stayed', 13.65625), (' Stay', 13.484375), (' stays', 13.4453125), ('stay', 13.296875)], 44: [('自', 10.3125), ('专', 9.40625), ('的自', 8.9453125), ('igraph', 8.8515625), ('在职', 8.6796875)], 57: [('�', 9.546875), ('stad', 9.0), ('мпе', 8.7578125), (' демократи', 8.7421875), (' cost', 8.6328125)], 61: [('prit', 10.1328125), ('MAS', 9.3515625), (' aff', 9.2578125), ('alfabet', 9.0859375), ('\"&', 8.6796875)]}, 16: {12: [('oldre', 9.9921875), ('have', 9.8984375), ('tids', 9.7734375), ('malink', 9.4296875), ('HAVE', 9.2109375)], 17: [('�', 10.9296875), ('reci', 9.9921875), ('ivi', 9.390625), ('pless', 8.96875), (' profane', 8.8671875)], 25: [('tel', 9.1015625), ('анс', 8.6796875), ('辛', 8.6640625), ('�', 8.4921875), ('cnics', 8.21875)], 41: [(' doin', 9.1015625), (' do', 8.640625), ('inet', 8.15625), (' motor', 8.1328125), (' become', 8.0625)], 57: [('方', 9.9140625), ('韦', 9.1171875), (' reader', 9.03125), ('兑', 8.953125), ('emas', 8.6484375)], 61: [(' v', 9.59375), ('нден', 9.1171875), ('\\xa0v', 8.9140625), ('spic', 8.890625), ('ielder', 8.1328125)]}, 3: {14: [('SEE', 10.578125), ('ac', 9.9296875), ('emon', 9.453125), ('Pink', 9.2265625), ('Mon', 8.78125)], 15: [('时候', 9.46875), ('esses', 8.5), ('莱坞', 8.3359375), ('spers', 8.3046875), ('小心', 8.265625)], 17: [('braco', 10.25), ('气的', 10.2421875), ('iada', 8.8515625), ('下水', 8.5703125), (' преп', 8.421875)], 40: [('inta', 9.46875), ('�', 8.5703125), ('пор', 8.5390625), ('迫', 8.2578125), ('浑', 8.15625)], 57: [('ennicke', 10.25), ('olina', 10.0078125), ('rinos', 9.8203125), ('rino', 9.7578125), ('$}{', 9.703125)], 60: [('quines', 9.5390625), ('谁', 8.796875), ('enci', 8.6015625), (' l', 8.21875), (' *', 7.98828125)]}, 5: {21: [('haver', 10.453125), ('rament', 9.78125), ('PUBL', 9.4375), ('ICAST', 9.40625), ('叫我', 9.21875)], 28: [('нос', 8.90625), ('ally', 8.5625), ('距离', 8.3125), (').__', 8.2734375), ('emes', 8.21875)], 38: [('ierto', 8.9453125), (' line', 8.609375), ('erge', 8.609375), ('吸', 8.21875), ('noDB', 8.171875)], 44: [('��', 9.890625), ('сене', 9.7109375), ('面上', 9.140625), ('Recogn', 8.453125), ('рон', 8.2421875)], 48: [('itech', 10.40625), ('ilib', 10.234375), ('мия', 9.5703125), ('ertaining', 9.265625), ('мпе', 9.2265625)], 59: [('s', 12.09375), (' ', 11.28125), (' s', 10.7265625), ('“', 9.6328125), ('�', 9.5390625)]}}\n",
      "Shared expert predictions: [[('ui', 0.433837890625), ('ACHE', 0.432373046875), ('大力', 0.424560546875), ('bona', 0.424072265625), ('pip', 0.42041015625)], [('saurus', 1.2607421875), ('华声', 1.220703125), ('�乐', 1.080078125), ('wered', 1.0517578125), (' \\\\!\\\\!', 1.0458984375)], [('ე�', 1.19921875), ('��', 1.17578125), ('щите', 1.1298828125), ('�乐', 1.12109375), ('�', 1.078125)], [('\\xa0$', 1.546875), ('�乐', 1.54296875), ('OI', 1.47265625), ('吸取', 1.4619140625), ('AGA', 1.435546875)], [('Германска', 0.8720703125), ('IAL', 0.83251953125), ('RT', 0.802734375), ('otyp', 0.7783203125), ('iment', 0.77490234375)], [('HY', 0.97900390625), ('z', 0.94091796875), ('´', 0.93408203125), ('LI', 0.8876953125), ('曙', 0.8740234375)], [(' псевдо', 0.474853515625), ('igans', 0.472900390625), (' (**)', 0.44482421875), (' estats', 0.4404296875), ('igan', 0.42919921875)], [('WSER', 1.0888671875), ('гард', 0.9814453125), ('tocols', 0.9248046875), ('公认', 0.89501953125), ('izational', 0.876953125)], [(' vies', 0.9677734375), ('ably', 0.9609375), ('ptrc', 0.951171875), ('quiera', 0.93896484375), ('aled', 0.9208984375)], [('клопе', 1.125), ('等待', 1.0849609375), ('════', 1.0791015625), ('殖', 1.0458984375), ('iempo', 1.0390625)], [('\\t&&', 1.44921875), ('��', 1.3193359375), ('&&\\\\', 1.291015625), ('ьор', 1.25), ('ionista', 1.216796875)], [('.}.', 1.478515625), ('.*,', 1.2724609375), ('laci', 1.2646484375), ('uga', 1.2080078125), ('.}}', 1.181640625)], [('?}', 1.5859375), ('?\\\\', 1.2578125), ('.}.', 1.24609375), ('?]', 1.1240234375), ('}[]', 1.1015625)], [('efi', 0.88818359375), (' Ò', 0.87939453125), ('oger', 0.853515625), (' \\\\`', 0.841796875), (' discos', 0.833984375)], [(' на', 1.0830078125), ('alus', 1.0185546875), (' Runn', 1.0), (' върху', 0.9658203125), ('На', 0.958984375)], [('待', 1.634765625), ('等待', 1.4521484375), ('Waiting', 1.29296875), ('sofs', 1.26953125), ('等着', 1.2568359375)], [('iterr', 1.4599609375), ('ambda', 1.423828125), ('ashington', 1.37109375), ('atform', 1.2607421875), ('式设计', 1.2451171875)]]\n",
      "\n",
      "MoE Layer 23:\n",
      "Selected experts: [[10, 50, 32, 21, 59, 18], [50, 4, 26, 8, 32, 40], [60, 61, 29, 43, 33, 56], [15, 13, 54, 60, 33, 17], [29, 9, 10, 61, 62, 43], [23, 50, 38, 46, 51, 58], [18, 50, 38, 23, 37, 31], [19, 55, 10, 34, 6, 35], [19, 26, 24, 34, 11, 60], [6, 9, 47, 25, 1, 42], [49, 35, 10, 13, 7, 47], [9, 1, 62, 25, 0, 47], [22, 59, 62, 25, 40, 17], [16, 22, 19, 10, 55, 24], [26, 34, 24, 19, 11, 60], [25, 1, 62, 6, 0, 44], [10, 49, 24, 7, 35, 13]]\n",
      "Expert weights: [[0.5400390625, 0.176025390625, 0.016204833984375, 0.01495361328125, 0.01360321044921875, 0.01311492919921875], [0.1319580078125, 0.10260009765625, 0.085205078125, 0.06732177734375, 0.03802490234375, 0.031402587890625], [0.04345703125, 0.0552978515625, 0.2147216796875, 0.03839111328125, 0.09002685546875, 0.03515625], [0.07373046875, 0.06793212890625, 0.08819580078125, 0.10662841796875, 0.037109375, 0.032196044921875], [0.2086181640625, 0.107177734375, 0.09893798828125, 0.0782470703125, 0.040863037109375, 0.035614013671875], [0.1888427734375, 0.1602783203125, 0.07659912109375, 0.046905517578125, 0.04022216796875, 0.04010009765625], [0.05133056640625, 0.13916015625, 0.0465087890625, 0.0423583984375, 0.03570556640625, 0.0350341796875], [0.1446533203125, 0.143310546875, 0.10565185546875, 0.07611083984375, 0.07550048828125, 0.03363037109375], [0.1826171875, 0.138916015625, 0.1033935546875, 0.0789794921875, 0.07568359375, 0.05694580078125], [0.11669921875, 0.111572265625, 0.087890625, 0.06927490234375, 0.064208984375, 0.042999267578125], [0.13623046875, 0.1375732421875, 0.1505126953125, 0.108642578125, 0.0889892578125, 0.0309906005859375], [0.1490478515625, 0.04510498046875, 0.227294921875, 0.0845947265625, 0.044403076171875, 0.0293426513671875], [0.278564453125, 0.050537109375, 0.052490234375, 0.045318603515625, 0.032379150390625, 0.0286407470703125], [0.1165771484375, 0.0872802734375, 0.0716552734375, 0.059234619140625, 0.05523681640625, 0.049224853515625], [0.243896484375, 0.07196044921875, 0.189208984375, 0.059539794921875, 0.034027099609375, 0.0338134765625], [0.04559326171875, 0.07940673828125, 0.0509033203125, 0.255859375, 0.038421630859375, 0.0286407470703125], [0.1397705078125, 0.1898193359375, 0.045196533203125, 0.12646484375, 0.1424560546875, 0.0389404296875]]\n",
      "Combined output tokens: [[(' involving', 8.53125), (' involved', 6.56640625), ('unker', 6.26171875), (' relating', 6.23046875), (' мер', 6.09765625)], [('|^\\\\', 1.9296875), ('�乐', 1.9091796875), ('mathbold', 1.9033203125), ('duino', 1.9013671875), (' Нобе', 1.8544921875)], [('PYG', 3.23828125), ('Deep', 3.14453125), ('┈┈', 2.978515625), ('jov', 2.927734375), ('just', 2.892578125)], [('crop', 2.732421875), ('Crop', 2.51953125), (' Crop', 2.279296875), (' crop', 2.158203125), (' matter', 2.146484375)], [(\"'/\", 3.017578125), ('Окръг', 2.935546875), ('лива', 2.896484375), ('Essay', 2.79296875), ('aui', 2.751953125)], [('’', 2.19140625), ('fol', 1.900390625), ('inguishable', 1.7470703125), ('beer', 1.736328125), ('ipus', 1.650390625)], [('headerlink', 0.986328125), ('tols', 0.9853515625), ('rowse', 0.94140625), ('poons', 0.91552734375), ('endres', 0.88525390625)], [('OperationKind', 2.67578125), ('atche', 2.564453125), ('aducci', 2.529296875), ('omething', 2.51953125), ('════', 2.501953125)], [('rcia', 3.26953125), ('erella', 3.208984375), ('ildo', 3.1484375), ('beq', 3.013671875), ('logen', 3.001953125)], [('ttify', 2.515625), ('ieras', 2.384765625), (' as', 2.23828125), ('cions', 2.201171875), ('isational', 2.19140625)], [('argo', 2.9453125), ('口岸', 2.71484375), ('聊聊', 2.65234375), ('沙漠', 2.6484375), ('亚马', 2.607421875)], [('所得', 2.892578125), ('Окръг', 2.8828125), ('Orleans', 2.53125), ('拐', 2.525390625), ('品德', 2.521484375)], [('pline', 4.19921875), ('ighed', 3.71484375), ('dear', 3.69140625), ('得失', 3.318359375), ('eppe', 3.310546875)], [('��', 2.033203125), ('ntz', 1.9833984375), ('ibliot', 1.9755859375), ('eqno', 1.9619140625), ('fera', 1.91015625)], [('eneral', 3.9765625), ('Msk', 3.853515625), ('miral', 3.830078125), ('мара', 3.67578125), ('urope', 3.619140625)], [('RIGHT', 3.05859375), ('spots', 2.90234375), ('itx', 2.814453125), ('尖', 2.78125), ('unwrap', 2.7421875)], [('psfrag', 4.34765625), ('тича', 4.18359375), ('texorpdfstring', 3.712890625), ('inois', 3.63671875), ('tablenot', 3.521484375)]]\n",
      "Expert predictions by position: {11: {0: [('}$~\\\\', 12.2734375), ('}$\\\\,', 10.796875), ('restant', 9.8984375), ('phins', 9.8828125), (' also', 9.6484375)], 1: [(' разби', 8.6640625), ('企', 8.546875), ('hera', 8.5390625), ('kt', 8.21875), ('Cpu', 7.8125)], 9: [('[', 10.1015625), ('right', 9.2890625), ('s', 9.140625), (' right', 9.03125), ('?', 8.7890625)], 25: [('stia', 11.578125), ('架', 11.3515625), ('干', 11.0078125), ('ганда', 10.6796875), ('eston', 10.5234375)], 47: [('canvi', 10.0390625), ('WireFormat', 9.9140625), ('ssil', 9.75), ('ledged', 9.515625), ('内在', 9.1953125)], 62: [(' v', 9.140625), ('alo', 8.40625), ('�', 8.1640625), ('ум', 8.0078125), ('DL', 8.0078125)]}, 15: {0: [('了', 10.1484375), ('!\\\\!', 10.0859375), (',\"--', 9.1328125), ('SYM', 8.4609375), ('irable', 8.4296875)], 1: [('swick', 9.6015625), ('��', 9.03125), (' salta', 8.953125), ('==)', 8.328125), ('acci', 8.0859375)], 6: [(' ent', 10.484375), (' Pla', 8.9765625), (' Out', 8.96875), ('ubre', 8.8671875), (' Ent', 8.796875)], 25: [('食', 12.0859375), ('�', 9.140625), ('глави', 9.1015625), (' цел', 8.8515625), ('incar', 8.5703125)], 44: [('LOPT', 11.1015625), ('бол', 9.8828125), ('温水', 8.0859375), ('如有关于作品内容', 7.953125), ('=\"../_', 7.76171875)], 62: [('limp', 9.421875), ('olars', 9.0078125), ('exion', 8.640625), ('TYPES', 8.4453125), ('ikes', 8.2734375)]}, 9: {1: [('4', 12.09375), ('2', 12.078125), ('1', 11.8515625), ('8', 11.46875), ('0', 11.015625)], 6: [('right', 9.984375), ('amiento', 9.8671875), (' RIGHT', 9.5546875), (' Waiting', 9.4140625), ('RIGHT', 9.3828125)], 9: [('пка', 10.3984375), ('\\'?\"', 10.2578125), ('person', 10.25), (' person', 9.78125), ('\"？', 9.75)], 25: [('施', 12.921875), (' until', 12.6328125), ('until', 12.0859375), (' till', 10.2109375), ('till', 9.9453125)], 42: [(' CURLOPT', 10.671875), ('Македония', 10.140625), (' searchBox', 9.1171875), ('writeField', 8.875), ('iliari', 8.7734375)], 47: [('ام', 11.3671875), (' statistique', 9.671875), ('鹃', 9.53125), ('tode', 9.3671875), ('CompilerServices', 9.296875)]}, 1: {4: [('ibliot', 9.96875), ('IMIT', 9.59375), ('andidate', 9.140625), ('~&', 8.9609375), ('tzmann', 8.859375)], 8: [('Independent', 11.078125), ('ections', 10.1015625), (' Independent', 9.59375), ('independent', 9.4921875), ('juju', 9.3359375)], 26: [(' key', 13.65625), ('SLS', 11.6484375), ('\\tkey', 11.53125), (' KEY', 10.21875), ('lefte', 10.1796875)], 32: [('рати', 10.3359375), ('нето', 8.9609375), ('ownt', 8.328125), ('ндия', 8.2890625), ('bibliograph', 8.25)], 40: [('lusi', 9.5546875), ('�乐', 9.3671875), ('idden', 9.3046875), ('博物', 9.2421875), ('��', 9.0703125)], 50: [('�', 9.453125), ('ingu', 9.2109375), ('崇', 8.7109375), (' dot', 8.515625), ('ковски', 8.140625)]}, 7: {6: [('ode', 12.140625), ('尼尔', 10.96875), (' ver', 10.484375), (' Stretch', 9.3359375), ('vered', 8.609375)], 10: [('出不穷', 10.0234375), ('ascut', 9.3359375), ('cling', 9.1171875), (' just', 8.5078125), ('bP', 8.5)], 19: [('eller', 9.578125), ('CEDURE', 9.25), ('lahoma', 8.8828125), ('шето', 8.375), (' disputat', 8.3515625)], 34: [('inistic', 10.9375), ('��', 10.9375), ('IVATE', 9.203125), ('ialize', 8.640625), (' paletes', 8.625)], 35: [('bers', 10.359375), (' голе', 9.5546875), ('spoken', 9.4375), (' spoken', 9.3203125), ('not', 8.9375)], 55: [('rame', 9.390625), ('imore', 9.015625), ('inel', 8.8203125), ('sembled', 8.7265625), ('sembles', 8.390625)]}, 10: {7: [('oze', 10.84375), ('就好', 10.3125), ('共享', 8.625), ('ANNEL', 8.6171875), ('ляр', 8.59375)], 10: [(' involving', 10.6484375), (' involved', 7.90625), ('unker', 7.85546875), ('ostes', 7.74609375), (' жа', 7.734375)], 13: [('PRESENT', 9.3046875), ('-/', 9.0859375), ('喇', 9.0078125), ('婴', 8.96875), ('/', 8.78125)], 35: [('encies', 9.6171875), ('pipe', 8.9765625), ('ency', 8.921875), ('ighter', 8.8046875), ('тиран', 8.4453125)], 47: [(' to', 10.640625), ('to', 9.6015625), ('\\tto', 9.1640625), ('To', 8.671875), ('FB', 8.4140625)], 49: [('iscus', 10.7109375), ('DEX', 8.828125), ('出借', 8.6484375), ('raq', 8.5625), ('hora', 8.2578125)]}, 16: {7: [('ocada', 10.1015625), ('rena', 8.6953125), ('дъ', 8.4375), ('andal', 7.9609375), (' Sy', 7.7734375)], 10: [('Guany', 9.890625), ('ExternalTask', 9.6953125), ('fono', 9.609375), ('AudioEvent', 9.5625), (' pass', 9.5546875)], 13: [('osemite', 11.1640625), ('assada', 10.375), ('gena', 9.9140625), ('ortality', 9.859375), ('рира', 9.796875)], 24: [('indows', 10.640625), ('oken', 10.1171875), (' mode', 9.578125), ('acias', 9.375), ('soever', 9.2109375)], 35: [('archar', 9.5859375), ('�', 8.9140625), (' Gra', 8.3046875), ('格', 8.296875), ('legr', 8.1171875)], 49: [('全区', 8.8984375), ('ornament', 8.8828125), ('Transc', 8.671875), ('WIRE', 8.4375), ('骨�', 8.3125)]}, 4: {9: [('......', 8.875), ('бий', 7.8359375), ('摆', 7.7265625), ('万一', 7.6953125), ('amina', 7.57421875)], 10: [('ighed', 9.1953125), ('Sol', 8.9765625), (' proble', 8.171875), (' solvable', 8.140625), ('uaries', 7.9296875)], 29: [('Deep', 11.59375), (' continues', 11.2890625), ('deep', 10.8515625), ('continue', 9.765625), ('深度', 9.640625)], 43: [(' need', 23.125), ('need', 22.515625), ('needs', 20.25), (' needs', 19.015625), (' Need', 18.765625)], 61: [('ес', 9.2578125), ('outen', 8.390625), ('ای', 8.3515625), ('خ', 8.1875), ('itchen', 8.09375)], 62: [('hari', 9.8046875), ('ULE', 9.6015625), ('MNR', 9.4609375), ('ODB', 9.125), ('INCT', 9.015625)]}, 0: {10: [('leeve', 8.8828125), ('пис', 8.671875), ('rats', 8.59375), ('elecci', 8.5234375), ('xic', 8.2109375)], 18: [('quier', 8.3671875), ('oret', 7.62890625), ('лин', 7.27734375), ('cides', 7.19921875), (' conject', 7.12890625)], 21: [('3', 12.6796875), ('9', 11.8828125), ('6', 11.421875), ('5', 10.796875), ('4', 10.4453125)], 32: [('argas', 8.7578125), ('imode', 8.6640625), ('бро', 8.625), ('mera', 8.5703125), ('utch', 8.5703125)], 50: [('pone', 10.1171875), ('inci', 9.3984375), ('壁', 9.109375), ('idences', 9.0), ('pida', 8.921875)], 59: [('0', 13.1953125), ('1', 13.0), ('2', 12.234375), ('3', 11.8984375), ('udd', 11.5)]}, 13: {10: [(' practical', 14.40625), ('experience', 11.796875), (' experience', 11.5859375), ('practical', 11.5703125), ('Experience', 11.453125)], 16: [('food', 11.2890625), ('Food', 10.4296875), (' food', 10.3046875), ('afood', 9.7265625), ('зин', 9.5546875)], 19: [('逆', 8.3203125), ('ьон', 8.1171875), ('logen', 8.0546875), ('�', 7.9296875), ('iffalse', 7.8125)], 22: [('ighed', 9.8359375), ('dear', 9.828125), ('eppe', 9.4296875), ('抑', 9.4140625), ('omini', 9.0859375)], 24: [('翻', 10.4140625), ('erland', 9.2109375), ('серва', 8.9296875), ('ADCAST', 8.828125), ('afel', 8.7734375)], 55: [(' exha', 10.96875), ('зда', 10.84375), ('rau', 9.9453125), ('enges', 9.8359375), ('edia', 9.78125)]}, 8: {11: [(' P', 9.015625), (' p', 8.828125), ('ey', 8.3046875), (' Кай', 8.203125), ('ressi', 7.77734375)], 19: [('гъл', 10.0859375), ('PROTOBUF', 9.734375), ('ONU', 9.5703125), ('�乐', 9.4765625), ('��', 9.453125)], 24: [(' Чо', 9.28125), (' directe', 9.1484375), ('adio', 9.109375), ('HEAD', 8.7890625), ('柴', 8.703125)], 26: [(' place', 12.109375), ('place', 11.703125), ('Place', 11.671875), ('PLACE', 10.0703125), ('ituency', 9.359375)], 34: [(' kind', 27.890625), ('kind', 27.453125), ('Kind', 24.453125), (' KIND', 21.765625), (' Kind', 20.296875)], 60: [(' Crop', 13.375), (' crop', 13.265625), ('crop', 13.1953125), ('Crop', 12.9375), (' matter', 12.109375)]}, 14: {11: [('pons', 9.296875), ('opl', 8.53125), ('iamond', 8.46875), ('letion', 8.4609375), ('ronym', 8.2578125)], 19: [('ential', 9.984375), ('rores', 9.734375), ('ifices', 8.5703125), ('inis', 8.359375), ('ngia', 8.2890625)], 24: [('вен', 9.59375), ('isenberg', 9.2734375), ('undry', 9.03125), ('сау', 8.84375), ('班', 8.4375)], 26: [('бе', 10.5390625), ('riter', 9.796875), ('═', 9.21875), ('СКА', 9.0234375), ('avid', 9.0078125)], 34: [('2', 11.4765625), ('0', 11.375), ('1', 10.9609375), ('3', 10.578125), ('4', 10.1015625)], 60: [('ibel', 8.4609375), ('appa', 8.4140625), ('Structure', 8.328125), ('STRUCTURE', 8.3046875), ('run', 8.25)]}, 3: {13: [(' segones', 10.484375), ('ollow', 10.34375), ('IVATE', 10.171875), ('arrib', 9.984375), ('itars', 9.8828125)], 15: [('蝴', 9.2421875), ('Bill', 8.96875), ('pone', 8.8984375), ('сец', 8.7890625), ('mma', 8.5859375)], 17: [('illot', 9.9609375), ('лия', 8.9921875), ('lok', 8.84375), ('圳', 8.828125), (' our', 8.7578125)], 33: [('涉', 10.34375), ('uy', 9.0859375), ('fils', 8.9453125), (' Фу', 8.53125), ('ural', 8.375)], 54: [(' Тан', 9.3671875), (' Stone', 9.3359375), ('Stone', 9.3125), (' Mach', 8.9296875), (' Край', 8.8046875)], 60: [('洲', 10.21875), (' solars', 9.4296875), ('不了', 9.3671875), ('公', 8.921875), ('舟', 8.609375)]}, 12: {17: [('纠', 9.1015625), ('ecut', 9.0546875), ('пита', 8.6953125), ('chaft', 8.671875), ('ificis', 8.6484375)], 22: [('Entrada', 9.4453125), ('erity', 9.421875), ('avera', 9.3828125), ('части', 9.0703125), ('uerdo', 9.015625)], 25: [('liament', 10.78125), ('CAPT', 9.2265625), ('CAD', 9.0078125), ('所', 9.0), ('ients', 8.8203125)], 40: [('神的', 10.3125), ('保时', 9.8125), ('喇叭', 8.8671875), ('pher', 8.7421875), ('alty', 8.625)], 59: [('рън', 9.96875), ('orell', 9.421875), ('aming', 8.3046875), (' well', 8.1953125), (' Well', 7.91796875)], 62: [('кива', 9.984375), ('ката', 9.75), ('wml', 8.7265625), ('loo', 8.46875), ('�', 8.4453125)]}, 6: {18: [('t', 23.25), ('\\tt', 12.7265625), (' t', 12.40625), ('tj', 12.3359375), ('tats', 12.0078125)], 23: [(' perjud', 9.0234375), ('рам', 8.7734375), ('慎', 8.6875), ('ipsis', 8.59375), ('abilitat', 8.453125)], 31: [(' Out', 9.8359375), ('inki', 9.78125), (' sobres', 8.734375), ('Out', 8.7109375), ('3', 8.6171875)], 37: [('ulles', 9.484375), ('ints', 8.6953125), ('iale', 8.5546875), ('EXPRESSION', 8.546875), ('�', 8.421875)], 38: [('мето', 8.7734375), ('滴', 8.4609375), ('ebe', 8.3984375), ('cuts', 8.1640625), ('ა�', 8.0625)], 50: [('фра', 8.3671875), ('^-_', 8.3359375), ('fons', 8.2265625), ('ия', 8.1328125), (' vast', 8.1171875)]}, 5: {23: [('зар', 10.734375), ('’', 10.3359375), (\"'\", 9.765625), ('木兰', 9.390625), ('ема', 9.0859375)], 38: [('micro', 9.4375), ('空气', 9.28125), ('ones', 9.140625), (' micro', 8.640625), ('Micro', 8.59375)], 46: [('стика', 8.21875), (' Wald', 8.109375), ('pan', 7.96484375), ('罢', 7.91796875), ('дем', 7.67578125)], 50: [(' text', 17.390625), ('\\ttext', 16.28125), ('text', 15.3671875), (' тек', 14.28125), ('Text', 14.0234375)], 51: [('NameLink', 12.640625), (' relle', 11.3125), ('opini', 10.7109375), (' libgl', 10.359375), ('nims', 10.265625)], 58: [('� ', 12.0546875), ('incip', 11.5546875), ('ил', 10.96875), ('бени', 10.734375), ('ای', 10.453125)]}, 2: {29: [('oden', 10.15625), (':`', 10.015625), ('remain', 9.84375), ('aui', 9.6875), ('徘', 9.4296875)], 33: [('ataka', 9.7265625), ('ENC', 8.9921875), ('айт', 8.5), ('格', 7.99609375), ('骑士', 7.96484375)], 43: [('either', 12.8671875), (' either', 12.0234375), ('=\"\"><', 10.671875), ('Either', 10.3359375), ('makeText', 10.3125)], 56: [('\\xa0v', 9.9765625), ('bug', 9.8984375), ('bac', 9.8828125), ('��', 9.75), ('вала', 9.328125)], 60: [('space', 20.234375), (' space', 20.125), ('Space', 17.859375), ('SPACE', 16.34375), ('spaces', 16.234375)], 61: [('elling', 9.1171875), (' trans', 8.125), (' ох', 7.8046875), ('rema', 7.73046875), ('amia', 7.67578125)]}}\n",
      "Shared expert predictions: [[('ODO', 0.7451171875), (' Comen', 0.73681640625), ('KV', 0.728515625), ('加快推进', 0.72216796875), ('固执', 0.716796875)], [('��', 1.169921875), ('mathbold', 1.158203125), ('ucode', 1.109375), (' препратки', 1.103515625), ('Окръг', 1.09765625)], [('ACT', 1.1025390625), ('祥和', 1.078125), ('府', 1.0693359375), ('卿', 1.0400390625), (' firma', 1.0341796875)], [('googleads', 1.111328125), ('rinos', 1.0693359375), ('psfrag', 1.0634765625), ('semb', 1.0546875), (' ~\\\\', 1.0537109375)], [('noframe', 0.96728515625), ('ises', 0.9091796875), (']-->', 0.87158203125), ('paramname', 0.84814453125), ('irie', 0.84814453125)], [('inguishable', 0.97216796875), ('ас', 0.96533203125), ('Mill', 0.94140625), ('不好', 0.93603515625), ('atche', 0.88671875)], [('headerlink', 0.94873046875), ('poons', 0.841796875), ('uedes', 0.81005859375), ('tols', 0.802734375), ('endres', 0.80224609375)], [('paramname', 1.1396484375), ('ianes', 1.0947265625), ('pectrum', 1.029296875), ('atche', 1.0234375), ('/{\\\\', 1.017578125)], [('idores', 1.8896484375), ('anches', 1.8466796875), ('omitempty', 1.775390625), ('paramname', 1.7021484375), ('ptime', 1.5986328125)], [('西哥', 1.84765625), ('迪丽', 1.46875), ('igeons', 1.4365234375), ('胱', 1.423828125), ('noframe', 1.4169921875)], [(',', 2.98046875), ('﹐', 1.8720703125), (',#', 1.8671875), (',/', 1.69140625), (',@', 1.59765625)], [(' (', 1.4013671875), ('�', 1.357421875), ('NOSCRIPT', 1.1513671875), ('viure', 1.1396484375), (' ', 1.119140625)], [('malink', 1.7255859375), ('FUNCPTR', 1.630859375), ('NOSCRIPT', 1.58984375), ('WireFormat', 1.4638671875), ('persones', 1.41015625)], [(' aC', 1.3056640625), ('WireFormat', 1.1787109375), ('轴', 1.12109375), ('�', 1.09375), ('ername', 1.0927734375)], [('headerlink', 1.4072265625), ('paramname', 1.2978515625), (' cryptocur', 1.28515625), (' участието', 1.2724609375), ('engua', 1.259765625)], [('WireFormat', 1.2373046875), ('Rationals', 1.1689453125), ('onar', 1.15625), ('blockList', 1.076171875), ('HDA', 1.02734375)], [('侥', 1.310546875), ('饪', 1.24609375), ('稣', 1.1328125), ('psfrag', 1.115234375), ('皂', 1.0791015625)]]\n",
      "\n",
      "MoE Layer 24:\n",
      "Selected experts: [[18, 11, 49, 37, 59, 23], [51, 25, 53, 39, 48, 55], [8, 1, 33, 52, 24, 61], [40, 12, 50, 56, 10, 35], [38, 1, 61, 13, 17, 57], [18, 55, 30, 16, 13, 53], [8, 59, 30, 18, 54, 43], [32, 60, 49, 28, 62, 41], [32, 58, 49, 26, 29, 22], [38, 60, 17, 49, 24, 11], [32, 41, 49, 62, 40, 12], [63, 38, 17, 14, 13, 32], [29, 38, 47, 23, 14, 20], [29, 60, 14, 61, 49, 47], [26, 29, 58, 12, 32, 49], [60, 38, 17, 49, 14, 47], [62, 41, 49, 29, 12, 28]]\n",
      "Expert weights: [[0.0810546875, 0.06951904296875, 0.36376953125, 0.026336669921875, 0.01995849609375, 0.019927978515625], [0.0258636474609375, 0.13232421875, 0.0275115966796875, 0.25, 0.0285491943359375, 0.025054931640625], [0.0643310546875, 0.08489990234375, 0.039947509765625, 0.039398193359375, 0.0382080078125, 0.03570556640625], [0.10504150390625, 0.05963134765625, 0.03863525390625, 0.0372314453125, 0.0294647216796875, 0.0283355712890625], [0.06072998046875, 0.09906005859375, 0.12451171875, 0.036163330078125, 0.0322265625, 0.0275421142578125], [0.467529296875, 0.024627685546875, 0.026885986328125, 0.0279083251953125, 0.023406982421875, 0.0227508544921875], [0.061981201171875, 0.04486083984375, 0.039154052734375, 0.25146484375, 0.036529541015625, 0.03314208984375], [0.03656005859375, 0.323974609375, 0.286865234375, 0.0298614501953125, 0.0228729248046875, 0.0193939208984375], [0.136962890625, 0.24462890625, 0.0882568359375, 0.0797119140625, 0.0753173828125, 0.03240966796875], [0.06109619140625, 0.47509765625, 0.08013916015625, 0.04046630859375, 0.09063720703125, 0.0223236083984375], [0.10968017578125, 0.0836181640625, 0.07989501953125, 0.1435546875, 0.048065185546875, 0.042144775390625], [0.04766845703125, 0.271728515625, 0.1170654296875, 0.049560546875, 0.039337158203125, 0.0304107666015625], [0.027069091796875, 0.10223388671875, 0.033843994140625, 0.053680419921875, 0.364501953125, 0.0199127197265625], [0.268798828125, 0.1590576171875, 0.05377197265625, 0.046630859375, 0.041229248046875, 0.03912353515625], [0.07720947265625, 0.257080078125, 0.21484375, 0.06683349609375, 0.05828857421875, 0.0293121337890625], [0.499267578125, 0.07958984375, 0.03594970703125, 0.034454345703125, 0.03350830078125, 0.0248565673828125], [0.214599609375, 0.1431884765625, 0.0887451171875, 0.05914306640625, 0.0423583984375, 0.034088134765625]]\n",
      "Combined output tokens: [[(' involving', 9.578125), ('ostes', 7.98828125), ('agena', 7.75390625), (' жа', 7.6015625), (' involved', 7.4375)], [('opinion', 6.7734375), (' opinion', 5.9140625), ('�乐', 5.1796875), ('isb', 4.4453125), ('观点', 4.390625)], [('persones', 2.69921875), ('HeadingColor', 2.642578125), ('canvi', 2.630859375), ('Habitants', 2.578125), ('NOSCRIPT', 2.578125)], [('riam', 3.529296875), ('�', 3.30859375), ('LEMENT', 3.29296875), ('Mbit', 3.193359375), ('}&=\\\\', 3.193359375)], [('СС', 2.05078125), ('{${\\\\', 2.001953125), (' reco', 1.9501953125), ('gae', 1.9208984375), ('ą', 1.91796875)], [('�', 5.7109375), ('’', 5.0546875), (\"'\", 4.95703125), ('iful', 4.671875), ('�', 4.65234375)], [('ye', 1.0458984375), ('icious', 1.025390625), ('ice', 0.95849609375), ('amb', 0.943359375), (' p', 0.94189453125)], [('\\ta', 8.21875), (' a', 7.67578125), ('icem', 6.9375), ('ices', 6.88671875), ('后赛', 6.6796875)], [('ouch', 4.734375), ('ogl', 4.65234375), ('�', 4.359375), ('arde', 4.3515625), ('ars', 4.16015625)], [('nto', 5.6328125), ('dits', 5.3359375), ('否', 5.32421875), ('helm', 5.078125), ('gos', 4.9765625)], [('Fix', 2.916015625), ('fix', 2.9140625), ('载', 2.884765625), ('man', 2.859375), ('clear', 2.787109375)], [(',', 4.75390625), ('”', 3.49609375), ('��', 3.4921875), ('SPI', 3.408203125), ('SA', 3.2890625)], [('0', 6.8515625), ('3', 5.87109375), ('4', 5.5703125), ('2', 5.46484375), ('6', 5.43359375)], [('ably', 3.87890625), ('egraphics', 3.71484375), ('ially', 3.5546875), ('ring', 3.427734375), ('��', 3.41015625)], [(' shot', 4.79296875), ('lio', 4.69921875), ('shot', 4.1640625), (' many', 4.12890625), ('many', 4.08203125)], [('ctimes', 5.0703125), (' нужда', 5.0703125), ('格', 5.01953125), ('斯基', 4.91796875), ('姓', 4.75390625)], [('subNav', 2.96484375), ('体验', 2.94921875), ('onesa', 2.8828125), ('icense', 2.7890625), ('STEM', 2.689453125)]]\n",
      "Expert predictions by position: {2: {1: [(' did', 12.8515625), (' do', 10.75), ('llib', 9.9140625), ('did', 9.7890625), ('DOCKED', 9.765625)], 8: [('APIENTRY', 10.6796875), ('aita', 10.203125), ('cesi', 10.171875), ('\\xa0part', 10.1640625), ('agena', 10.0859375)], 24: [('ajos', 9.515625), ('LET', 9.4375), (' setman', 9.125), (' план', 8.921875), ('густ', 8.765625)], 33: [(' house', 11.171875), ('House', 10.3203125), ('ATAB', 10.1328125), ('pmy', 10.015625), ('рут', 9.4140625)], 52: [(' individual', 12.71875), ('individual', 12.1015625), (' gentlemen', 10.9296875), (' Individual', 10.265625), (' gentleman', 9.6015625)], 61: [('ните', 9.2109375), ('шево', 8.6796875), ('cion', 8.109375), ('好看', 8.0859375), ('anci', 7.99609375)]}, 4: {1: [('��', 11.5234375), (' актри', 10.828125), ('iformes', 10.5234375), ('евру', 10.109375), ('��', 9.6796875)], 13: [('в', 10.3046875), ('床', 9.6953125), ('Ђ', 9.671875), ('ueba', 9.171875), ('ogo', 9.046875)], 17: [('ibling', 9.4140625), ('_+,', 8.671875), ('footnot', 8.375), ('rama', 8.3125), (' Fore', 8.265625)], 38: [(' already', 9.5859375), ('setContent', 9.375), ('Already', 9.296875), ('already', 8.78125), ('issi', 8.75)], 57: [('beneath', 15.046875), ('below', 14.5), (' underneath', 13.5078125), (' below', 13.484375), (' Below', 13.390625)], 61: [(' need', 9.734375), ('WHM', 9.53125), ('onada', 8.9296875), (' Ъ', 8.765625), ('Tunes', 8.7109375)]}, 6: {8: [('8', 11.90625), ('9', 11.1015625), ('6', 10.796875), ('7', 10.6640625), ('2', 10.2421875)], 18: [('三分', 8.4609375), ('炸', 8.3046875), ('ye', 8.2578125), (' citation', 7.98046875), ('象征', 7.74609375)], 30: [('IRST', 9.0234375), ('eon', 8.2109375), ('ans', 7.96484375), ('ofs', 7.92578125), ('9', 7.90625)], 43: [('工', 8.890625), ('办事', 8.7734375), ('codep', 8.4140625), ('办', 8.2109375), (' поле', 8.1640625)], 54: [('严重的', 8.6484375), ('čí', 8.4765625), ('翻', 8.359375), (' compr', 8.3125), ('rera', 8.2734375)], 59: [('仁', 10.5546875), ('潘', 9.640625), ('�', 9.28125), ('zsche', 8.546875), ('�', 8.5)]}, 3: {10: [('noscript', 11.3671875), (' passen', 10.140625), ('theless', 9.8828125), ('iered', 9.5), ('atural', 9.3984375)], 12: [(' Ex', 11.3671875), ('Ex', 10.4140625), ('ходни', 9.03125), ('anged', 8.390625), ('зин', 8.0390625)], 35: [(' Directive', 8.4296875), ('ejemplo', 8.25), ('�', 8.1875), ('IZE', 8.1171875), ('gines', 8.1015625)], 40: [('Man', 19.96875), ('man', 19.6875), (' Man', 18.953125), (' man', 18.109375), (' Ман', 14.9375)], 50: [(' September', 9.6171875), ('September', 9.59375), ('October', 9.5234375), ('кога', 9.2734375), ('July', 9.0859375)], 56: [('global', 13.9765625), ('\\tglobal', 13.828125), ('Global', 13.6484375), ('GLOBAL', 12.71875), (' гло', 11.578125)]}, 0: {11: [('atical', 10.3828125), ('orem', 9.546875), ('лича', 9.328125), ('meres', 9.0703125), ('ISH', 8.9765625)], 18: [('��', 9.859375), ('��', 9.6875), ('down', 9.0546875), ('thems', 8.765625), (' munt', 8.6484375)], 23: [(' February', 11.171875), (' January', 10.6484375), (' July', 10.234375), (' April', 9.6953125), (' October', 9.5546875)], 37: [('два', 9.265625), (' serral', 8.765625), ('acis', 8.6640625), ('ixos', 8.484375), ('iax', 8.3359375)], 49: [(' more', 11.4140625), ('more', 11.328125), ('ize', 9.671875), ('ornia', 9.234375), ('More', 8.984375)], 59: [('��', 13.8515625), ('��', 12.1328125), ('纲', 9.9921875), ('ioned', 9.234375), ('ublic', 9.046875)]}, 9: {11: [('le', 11.859375), ('i', 10.8671875), ('el', 10.6328125), ('hp', 10.4296875), ('pe', 10.3515625)], 17: [('8', 13.453125), ('5', 13.2265625), ('7', 12.7109375), ('3', 12.3203125), ('1', 12.2734375)], 24: [('ystem', 10.34375), (' главно', 9.5546875), ('ed', 9.5078125), ('软', 9.1640625), ('host', 9.0078125)], 38: [(' x', 10.328125), (' XX', 10.015625), (' ©', 8.6640625), ('zman', 8.5), ('longer', 8.4296875)], 49: [(' more', 10.3046875), ('ctl', 9.671875), ('ocup', 9.4296875), ('more', 9.375), ('fono', 8.9375)], 60: [('的新', 9.671875), (' Memor', 9.671875), ('spir', 9.3125), ('ROUP', 9.2734375), ('морска', 9.1171875)]}, 10: {12: [('heet', 9.515625), ('malink', 8.9453125), ('�', 8.703125), ('бий', 8.2734375), ('ousel', 8.1796875)], 32: [(' (--)', 9.984375), ('erb', 9.5859375), ('\">/', 9.2109375), ('��', 9.0390625), ('psfrag', 8.640625)], 40: [('ipage', 9.7890625), ('ETERS', 9.5078125), ('ynman', 9.2109375), ('riam', 9.171875), ('quio', 9.0625)], 41: [('rowse', 9.7890625), ('SDE', 9.6328125), ('ради', 9.2421875), ('opam', 9.0234375), ('乏', 8.765625)], 49: [('restant', 13.6640625), ('\\ton', 13.0234375), ('CDATA', 11.4921875), ('onats', 11.1953125), ('onoi', 10.8046875)], 62: [(' FIX', 12.1796875), (' fixed', 11.890625), (' Fixed', 11.7734375), ('Fix', 11.7734375), (' fix', 11.6953125)]}, 14: {12: [('orious', 9.4609375), ('ე', 9.453125), ('ef', 9.28125), ('reus', 8.9609375), ('ulin', 8.8984375)], 26: [('vies', 9.78125), ('onne', 9.2890625), ('вки', 9.109375), ('тори', 8.953125), (' plung', 8.7421875)], 29: [('naire', 9.3828125), (' <![', 9.0078125), ('airn', 8.7734375), ('roup', 8.5703125), ('ltim', 8.3515625)], 32: [('utch', 9.1484375), ('rz', 8.9609375), ('uch', 8.5859375), (' воде', 8.3671875), (' vess', 8.25)], 49: [('osus', 8.75), ('arily', 8.6796875), ('戒', 8.65625), ('airy', 8.515625), ('itle', 8.140625)], 58: [('etats', 10.8984375), ('arro', 9.59375), ('ЕФА', 9.40625), ('ogl', 9.328125), ('esModule', 9.109375)]}, 16: {12: [(' D', 10.3515625), ('erno', 9.75), ('MLE', 9.1875), ('brig', 8.8984375), (' Mor', 8.859375)], 28: [('lost', 10.2578125), ('rans', 9.4140625), ('Vtbl', 9.140625), (' lost', 8.9609375), ('andest', 8.90625)], 29: [('/', 9.0078125), ('ens', 8.8984375), ('сло', 8.5546875), (' Leg', 8.4765625), ('联系电话', 8.3046875)], 41: [('own', 9.484375), ('的方法', 9.4765625), ('ксон', 9.3203125), (' sub', 8.890625), (' сте', 8.7265625)], 49: [(' involving', 10.34375), ('ostes', 8.2421875), (' involved', 7.80078125), (' жа', 7.68359375), (' мер', 7.6015625)], 62: [('fix', 17.59375), ('Fix', 16.96875), ('FIX', 16.125), (' fixing', 15.9296875), (' fixed', 15.6328125)]}, 5: {13: [('къ', 10.7265625), (' assistir', 10.578125), ('ToolStripMenuItem', 9.5078125), ('edas', 9.5078125), ('ALSE', 9.453125)], 16: [('кулп', 9.4765625), ('�', 9.4765625), ('hern', 9.3359375), ('rade', 9.1953125), (' tracte', 9.1328125)], 18: [('�', 12.234375), ('iful', 10.265625), ('utus', 10.1875), ('9', 9.765625), ('7', 9.640625)], 30: [('班', 10.3984375), (' Level', 9.3671875), ('一级', 9.15625), ('肤', 8.84375), ('граф', 8.65625)], 53: [('�', 12.6484375), ('大', 11.0390625), ('�', 10.9921875), ('inition', 9.5546875), ('「', 9.4140625)], 55: [('向', 10.4765625), ('ху', 9.6640625), ('时尚', 9.3515625), ('agate', 9.296875), ('�', 9.1328125)]}, 11: {13: [(' i', 12.71875), (' s', 11.9140625), ('Essay', 11.75), ('\\ti', 11.0859375), (' Rating', 10.0078125)], 14: [('��', 9.5), ('utes', 9.1953125), ('метри', 8.9609375), ('тена', 8.8828125), ('退出', 8.6015625)], 17: [('oti', 10.703125), ('�', 10.6640625), ('$[', 9.6953125), (' beca', 9.546875), ('IBE', 9.140625)], 32: [('n', 9.1640625), ('\\xad', 9.1015625), (' \\xad', 9.046875), ('ake', 8.9296875), ('ED', 8.8046875)], 38: [('urable', 9.1328125), ('hin', 8.703125), ('ested', 8.234375), ('ornis', 8.15625), (' threshold', 7.9765625)], 63: [(',', 11.1171875), (' для', 10.453125), (' for', 9.8828125), (' though', 9.765625), ('ForKey', 8.890625)]}, 12: {14: [('hens', 9.640625), ('uls', 8.734375), ('istick', 8.5078125), ('рано', 8.3203125), ('准', 8.2265625)], 20: [('ue', 8.7890625), (' присъ', 8.453125), ('oscal', 8.3828125), ('arella', 8.25), ('ie', 8.1484375)], 23: [('不到', 9.6640625), ('миш', 8.6640625), (' existence', 7.74609375), (' se', 7.640625), ('=\"../_', 7.41015625)], 29: [('uso', 11.8046875), ('etimes', 10.8671875), ('рене', 9.75), ('widet', 9.4296875), ('asil', 9.359375)], 38: [('quesos', 9.8359375), (' Край', 9.640625), ('dear', 9.1875), ('hazelcast', 9.0078125), ('rium', 8.8984375)], 47: [('س', 9.6015625), ('ially', 9.15625), ('大风', 8.5234375), ('ane', 8.375), ('潮', 8.1328125)]}, 13: {14: [('NS', 8.9296875), ('SEE', 8.515625), ('来的', 8.5), ('零部件', 8.4453125), ('uli', 8.390625)], 29: [(' pit', 9.6484375), (' col', 8.96875), (' xif', 8.8125), (' many', 8.6875), (' pole', 8.5546875)], 47: [('йки', 10.6328125), ('Бал', 9.7109375), ('ssf', 9.6171875), ('rette', 9.484375), ('пур', 9.390625)], 49: [('chitz', 9.5703125), ('bour', 9.0859375), (' Mem', 8.640625), ('inki', 8.59375), (' nearly', 8.5078125)], 60: [('否', 9.5546875), ('зни', 9.4140625), ('dits', 9.0), ('quier', 8.9765625), ('thood', 8.9765625)], 61: [('PEG', 8.5625), ('判', 8.5234375), ('管', 8.3359375), (' feed', 8.125), (' gu', 7.9375)]}, 15: {14: [('cular', 10.2421875), ('no', 8.6875), ('edly', 8.6171875), ('宣', 8.578125), ('not', 8.5390625)], 17: [('Cci', 9.7421875), ('’', 8.890625), ('供图', 8.7265625), ('вици', 8.4296875), ('shaded', 8.1796875)], 38: [('escor', 8.6484375), ('ORE', 8.6328125), ('ос', 8.6015625), ('节的', 8.2265625), (' {&', 8.21875)], 47: [(' datasheets', 9.90625), ('xton', 9.21875), ('lac', 8.7421875), ('gdx', 8.6171875), ('�', 8.6171875)], 49: [(' venia', 11.59375), ('aveu', 10.4375), ('nchez', 10.1953125), ('LOPT', 9.7578125), ('proved', 9.5703125)], 60: [('too', 11.421875), (' so', 10.5859375), ('enth', 10.0), ('anwhile', 9.90625), ('inois', 9.5)]}, 8: {22: [('ir', 8.390625), ('orra', 8.328125), ('or', 8.0546875), ('关系的', 7.80859375), (' Cone', 7.75390625)], 26: [('挪', 8.484375), ('SCH', 8.4453125), ('enden', 8.390625), ('ction', 8.34375), ('inal', 8.34375)], 29: [('egraphics', 10.3125), ('omorphic', 10.046875), ('ان', 9.6484375), ('olk', 9.171875), ('ARIO', 9.0625)], 32: [(' \"', 9.6953125), ('lio', 8.7265625), (' \"#', 8.7109375), (' бри', 8.578125), (' us', 8.46875)], 49: [('后赛', 10.171875), ('icias', 9.53125), ('hera', 9.5078125), ('пло', 9.046875), ('icem', 9.0078125)], 58: [('直', 8.9140625), ('pload', 8.8671875), ('�', 8.703125), (' fondo', 8.4140625), ('пор', 7.98046875)]}, 1: {25: [('res', 10.96875), (' past', 10.28125), ('mes', 9.515625), ('irs', 9.4453125), ('or', 9.296875)], 39: [('opinion', 17.78125), (' opinion', 17.125), (' opini', 11.0390625), (' opinions', 10.234375), ('opinions', 10.1796875)], 48: [('直接', 10.4921875), ('YY', 8.8125), (' же', 8.6796875), ('ee', 8.1875), ('annels', 8.1171875)], 51: [('木齐', 11.390625), ('stum', 9.8828125), ('leta', 9.8203125), ('esca', 9.2265625), ('ioses', 9.0)], 53: [('�', 17.109375), ('�', 16.296875), ('�', 15.046875), ('�', 14.2890625), ('�', 13.9140625)], 55: [('漫', 10.0390625), ('чник', 9.4921875), ('сал', 8.609375), ('acht', 8.5546875), ('kel', 8.5234375)]}, 7: {28: [('ланти', 9.3984375), ('amen', 9.2890625), ('段', 9.125), ('的关系', 8.7890625), (' apart', 8.6484375)], 32: [(' [\"', 11.59375), (' \"/', 11.1171875), ('/[', 10.984375), (' \"[', 10.5859375), (' \"', 10.4921875)], 41: [(' un', 13.8359375), (' opening', 12.8671875), ('Wind', 12.7578125), ('opening', 12.6953125), (' wind', 12.0703125)], 49: [('лям', 9.7734375), ('idden', 9.125), ('клопе', 9.1171875), ('压迫', 8.984375), ('ulum', 8.9609375)], 60: [('FIT', 8.3671875), ('спор', 8.2109375), (' нужда', 7.9921875), ('不信', 7.9765625), ('斯基', 7.90234375)], 62: [('ار', 10.203125), ('ianes', 9.9375), ('挣', 9.4140625), (' check', 9.359375), ('cales', 9.328125)]}}\n",
      "Shared expert predictions: [[('Ungrouped', 0.82568359375), ('visi', 0.791015625), ('getC', 0.73388671875), ('noframe', 0.7177734375), ('┈┈', 0.705078125)], [('�乐', 2.01953125), ('\"><!--', 1.54296875), ('ersonals', 1.5205078125), ('malink', 1.4521484375), ('tofore', 1.33203125)], [('persones', 2.017578125), ('ennicke', 1.9521484375), ('Rationals', 1.8857421875), (' repartia', 1.826171875), (' Llengu', 1.80078125)], [('\\t&&', 1.4482421875), ('{#', 1.447265625), ('GroupLayout', 1.4208984375), ('>&#', 1.41796875), ('amdgpu', 1.3818359375)], [('\"><!--', 1.009765625), ('沙', 0.90771484375), ('cessing', 0.9013671875), ('itzat', 0.89599609375), ('�', 0.89111328125)], [(\"'\", 2.431640625), ('’', 2.390625), ('´', 2.234375), ('\\x92', 2.103515625), (\"\\\\'\", 1.73828125)], [('elf', 0.66748046875), ('sel', 0.6142578125), ('ross', 0.58642578125), ('um', 0.57666015625), ('】【', 0.56640625)], [(' a', 3.029296875), ('\\ta', 2.876953125), (' A', 2.20703125), ('a', 1.8037109375), ('A', 1.525390625)], [(' [', 1.4462890625), (' k', 1.3642578125), ('…', 1.263671875), ('现行', 1.2451171875), (' ', 1.2294921875)], [(' K', 1.13671875), ('FIN', 1.0185546875), ('薪资', 1.00390625), ('eble', 0.9921875), ('ollen', 0.9912109375)], [(' _.', 1.2919921875), ('..\">', 1.279296875), ('^{|', 1.2373046875), ('家家', 1.2373046875), ('……', 1.2138671875)], [(',', 2.7265625), (',.', 1.9091796875), ('﹐', 1.8662109375), ('，', 1.837890625), (' ,', 1.7744140625)], [('0', 5.328125), ('3', 4.47265625), ('4', 4.375), ('5', 4.3515625), ('6', 4.296875)], [('ra', 1.58984375), ('ally', 1.41796875), ('ro', 1.3857421875), ('ante', 1.3818359375), ('кур', 1.3603515625)], [('eld', 1.2119140625), ('ort', 1.208984375), ('Ос', 1.1396484375), ('\\t...', 1.138671875), ('hang', 1.1279296875)], [('ARE', 1.568359375), ('are', 1.404296875), ('CPTR', 1.36328125), ('Are', 1.314453125), ('…', 1.2109375)], [('的经验', 1.642578125), ('体验', 1.619140625), ('经验的', 1.517578125), ('experience', 1.4609375), ('经验', 1.4541015625)]]\n",
      "\n",
      "MoE Layer 25:\n",
      "Selected experts: [[63, 60, 2, 49, 41, 30], [63, 20, 2, 12, 24, 46], [51, 52, 13, 39, 37, 25], [35, 50, 63, 58, 2, 26], [19, 17, 51, 55, 5, 45], [46, 1, 2, 42, 23, 0], [21, 24, 2, 43, 1, 44], [50, 34, 36, 3, 53, 48], [12, 37, 5, 63, 57, 62], [32, 17, 5, 3, 11, 56], [36, 14, 41, 50, 3, 35], [32, 17, 2, 43, 5, 45], [60, 31, 26, 61, 46, 2], [48, 50, 46, 51, 47, 2], [63, 37, 12, 57, 35, 36], [36, 17, 43, 3, 45, 11], [36, 53, 41, 14, 35, 3]]\n",
      "Expert weights: [[0.6552734375, 0.0208892822265625, 0.010406494140625, 0.00980377197265625, 0.075927734375, 0.00951385498046875], [0.1688232421875, 0.043914794921875, 0.200927734375, 0.037933349609375, 0.032257080078125, 0.024993896484375], [0.0911865234375, 0.09100341796875, 0.07281494140625, 0.054168701171875, 0.0517578125, 0.038970947265625], [0.06695556640625, 0.08746337890625, 0.064208984375, 0.054534912109375, 0.035980224609375, 0.0283203125], [0.05059814453125, 0.058685302734375, 0.1839599609375, 0.04547119140625, 0.10064697265625, 0.037994384765625], [0.058380126953125, 0.330078125, 0.044769287109375, 0.037322998046875, 0.04132080078125, 0.033660888671875], [0.147705078125, 0.072265625, 0.048980712890625, 0.046600341796875, 0.045166015625, 0.042816162109375], [0.212890625, 0.048065185546875, 0.05865478515625, 0.1864013671875, 0.07489013671875, 0.042449951171875], [0.09136962890625, 0.113525390625, 0.1610107421875, 0.07647705078125, 0.04388427734375, 0.037689208984375], [0.0762939453125, 0.061676025390625, 0.07086181640625, 0.06427001953125, 0.052734375, 0.049560546875], [0.41455078125, 0.0716552734375, 0.2437744140625, 0.0225830078125, 0.0181884765625, 0.0179901123046875], [0.1007080078125, 0.057281494140625, 0.048980712890625, 0.0731201171875, 0.06707763671875, 0.047393798828125], [0.1805419921875, 0.08380126953125, 0.052459716796875, 0.038787841796875, 0.03460693359375, 0.03338623046875], [0.30078125, 0.06451416015625, 0.053192138671875, 0.05206298828125, 0.02960205078125, 0.0253753662109375], [0.191650390625, 0.10711669921875, 0.09844970703125, 0.05059814453125, 0.038177490234375, 0.025909423828125], [0.0364990234375, 0.044097900390625, 0.10577392578125, 0.2283935546875, 0.10272216796875, 0.03570556640625], [0.57470703125, 0.00867462158203125, 0.260009765625, 0.0648193359375, 0.00714111328125, 0.00522613525390625]]\n",
      "Combined output tokens: [[(' financera', 5.359375), ('Икономи', 4.97265625), ('ivell', 4.56640625), ('veau', 4.52734375), ('coni', 4.43359375)], [(' satur', 3.345703125), ('saurus', 3.2265625), ('res', 3.19921875), (' Нобе', 3.177734375), (' appropriate', 3.10546875)], [(',', 4.2578125), ('\\n', 3.69140625), (' ', 3.142578125), ('����', 3.0703125), (':', 2.927734375)], [(' embod', 4.3984375), ('София', 3.544921875), (' a', 3.501953125), (' disappe', 3.48046875), ('{,}', 3.4453125)], [('...', 4.0234375), (' ...', 4.00390625), ('....', 3.9453125), ('\\n', 3.759765625), ('man', 3.7578125)], [('adden', 7.296875), ('ableness', 6.8515625), ('lo', 6.83984375), ('�', 6.75390625), ('lab', 6.7265625)], [('entina', 1.41015625), (' instabilities', 1.3955078125), (' ~\\\\', 1.3681640625), (' swit', 1.35546875), (' outlining', 1.353515625)], [(' a', 7.01953125), ('a', 6.09375), (' itself', 4.86328125), ('\\ta', 4.6640625), (' pref', 4.26953125)], [(' con', 7.69921875), ('con', 6.41015625), (' d', 5.8671875), ('Con', 5.79296875), (' s', 5.734375)], [(',', 4.3125), (' ', 4.234375), (' to', 4.20703125), ('.', 3.39453125), ('\\n', 3.107421875)], [(' be', 6.16796875), (' Lor', 5.6171875), ('知己', 5.5234375), (' gra', 5.26171875), ('IW', 5.09375)], [(' ', 5.5546875), ('…', 4.98828125), ('I', 4.87890625), ('\\n', 4.69921875), ('-', 4.67578125)], [('I', 5.0), (' I', 4.74609375), ('i', 4.61328125), ('F', 4.58984375), (' fully', 4.5625)], [(' ab', 9.140625), ('ab', 7.63671875), (' as', 7.33203125), (' ad', 7.25390625), (' a', 7.0625)], [(' fact', 4.1640625), (' c', 3.88671875), (' truth', 3.578125), ('c', 3.4921875), ('truth', 3.29296875)], [(' of', 3.779296875), (' to', 3.607421875), ('ouch', 3.41015625), ('asch', 3.162109375), (' Beaufort', 3.15234375)], [(' f', 7.9609375), ('憬', 7.4609375), ('вис', 7.25390625), ('orna', 6.74609375), ('知', 6.54296875)]]\n",
      "Expert predictions by position: {5: {0: [(' Buen', 10.4765625), ('近', 9.609375), ('USTER', 8.8984375), ('нди', 8.6875), (' Цен', 8.625)], 1: [('�', 9.0859375), (' стена', 8.7265625), ('塘', 8.28125), ('杭', 8.1796875), ('ال', 8.1484375)], 2: [('roll', 8.7734375), ('-', 8.515625), (' развива', 8.296875), (',', 8.1875), ('non', 8.0859375)], 23: [('甚', 13.3203125), ('个', 11.21875), ('一个', 10.9765625), ('isca', 10.0078125), ('什', 9.359375)], 42: [('SPHINX', 8.5234375), ('зика', 8.5234375), (' ball', 8.3671875), ('азар', 8.296875), (' MAAS', 8.21875)], 46: [('�', 9.0625), ('bilt', 8.7578125), ('�', 8.7265625), ('uco', 8.59375), ('体', 8.5703125)]}, 6: {1: [('ieck', 8.8125), ('adden', 8.4453125), ('път', 8.2265625), ('ableness', 8.109375), ('ънс', 8.09375)], 2: [('(', 9.6328125), ('rem', 9.1875), ('at', 9.15625), ('ering', 9.125), ('over', 9.03125)], 21: [('m', 12.3828125), (' em', 11.4921875), (' t', 9.625), ('ophobia', 9.5703125), (' m', 9.546875)], 24: [('脏', 8.734375), ('contribs', 8.28125), ('台', 8.1953125), ('rophe', 8.1953125), ('mpi', 8.0234375)], 43: [('凤', 9.5), ('enyes', 8.828125), ('ymer', 8.78125), ('къв', 8.7421875), ('�', 8.6015625)], 44: [('归', 10.53125), ('重大', 9.359375), ('olite', 8.3046875), ('Skip', 7.7265625), ('主', 7.5078125)]}, 0: {2: [('信息', 9.3125), ('umin', 9.15625), (' бъ', 9.015625), ('如有关于', 8.890625), ('acr', 8.8828125)], 30: [('onar', 7.51953125), ('ab', 7.5078125), ('IL', 7.50390625), ('iene', 7.44140625), ('unya', 7.25)], 41: [('追赶', 9.3046875), (' came', 8.71875), (' Pujol', 8.640625), ('idge', 8.4609375), ('isov', 8.4453125)], 49: [('aller', 9.7890625), ('amin', 9.765625), ('的季节', 9.4765625), ('季节', 9.390625), ('цен', 9.09375)], 60: [('atges', 10.078125), ('ucion', 9.953125), ('dou', 9.828125), ('isphere', 9.5), (' fully', 9.4453125)], 63: [('ietat', 9.21875), ('\"]:', 9.1484375), ('LOP', 9.0546875), (' Seny', 8.765625), ('гар', 8.1953125)]}, 1: {2: [('other', 9.2734375), (' adult', 9.1171875), ('abil', 8.8515625), ('cons', 8.6015625), ('urch', 8.34375)], 12: [('дис', 9.2109375), ('玩', 8.59375), ('玩的', 8.484375), ('верен', 8.2265625), ('ever', 7.90625)], 20: [('作', 12.7109375), ('9', 11.1015625), ('3', 10.7265625), ('6', 10.5703125), ('0', 10.546875)], 24: [('ExternalTask', 8.8125), (' Mell', 8.5859375), ('ausen', 8.265625), ('劲', 8.2109375), ('infty', 8.1328125)], 46: [('渡', 11.1796875), ('度', 10.140625), ('нци', 9.40625), (' carboni', 9.359375), ('�', 9.015625)], 63: [('Съби', 12.1171875), ('цяло', 11.8671875), ('Икономи', 11.6484375), ('writeField', 11.171875), ('��', 11.03125)]}, 3: {2: [('ocs', 9.6875), ('вани', 9.34375), ('portlet', 8.8828125), ('3', 8.71875), ('aree', 8.5390625)], 26: [('streamer', 9.9140625), ('串', 8.734375), ('nech', 8.4765625), ('>(<', 8.2734375), ('istable', 8.2265625)], 35: [('гел', 9.5703125), ('ARRANT', 9.5390625), ('uite', 9.5390625), ('спа', 9.4375), ('ianes', 9.4140625)], 50: [(' when', 13.171875), (' WHEN', 13.15625), (' cuando', 11.53125), (' ourselves', 11.0234375), ('when', 10.75)], 58: [(' Cavaller', 9.453125), (' borb', 8.890625), ('\\\\%)', 8.8125), (' libssl', 8.515625), (' connexions', 8.5078125)], 63: [('лява', 10.9765625), ('oxy', 10.484375), (' Vigo', 9.03125), ('IDAD', 8.65625), ('semble', 8.5390625)]}, 11: {2: [('《', 9.9921875), ('zione', 8.65625), ('2', 8.5703125), ('isable', 8.5703125), ('atre', 8.5078125)], 5: [('IRST', 9.2421875), ('въ', 8.703125), ('uke', 8.5390625), ('QCD', 8.5078125), ('ascript', 8.4140625)], 17: [('trl', 10.703125), ('isky', 9.9765625), ('aldi', 9.9296875), ('dfp', 9.6640625), ('ondin', 9.640625)], 32: [('休', 9.375), ('微', 9.1015625), ('册', 8.9296875), ('Hem', 8.4921875), ('чат', 8.2890625)], 43: [(' ous', 9.453125), ('adi', 9.2578125), ('MessageDialog', 8.671875), ('лици', 8.5546875), ('uresa', 8.5234375)], 45: [('ifest', 9.0703125), ('况', 8.59375), ('тура', 8.2890625), ('in', 8.2265625), ('hip', 8.203125)]}, 12: {2: [('rucci', 9.8203125), ('mington', 9.3203125), ('гон', 9.109375), ('5', 9.09375), ('}|', 8.625)], 26: [('SM', 8.1015625), (' Gras', 8.046875), ('CMC', 7.9375), ('бен', 7.90625), ('功劳', 7.81640625)], 31: [('支柱', 9.703125), ('blad', 8.953125), (' _\\\\', 8.65625), ('iered', 8.6171875), ('Rationals', 8.40625)], 46: [('alem', 9.8984375), ('IAN', 9.1015625), ('vegeu', 8.984375), ('ogc', 8.46875), ('ylon', 8.3671875)], 60: [(' sole', 8.9921875), (' side', 8.9453125), ('ve', 8.6328125), (' care', 8.5546875), ('meas', 8.2421875)], 61: [('кси', 8.8984375), ('oser', 8.828125), ('新湖南客户端', 8.265625), ('nesos', 7.95703125), ('айн', 7.7734375)]}, 13: {2: [('хал', 9.2734375), ('Mass', 8.8203125), ('angl', 8.5078125), ('iro', 8.4609375), (' brid', 8.3046875)], 46: [('��', 12.3046875), ('菠', 10.3515625), ('ун', 9.6015625), ('赁', 9.578125), ('удо', 9.2578125)], 47: [(' there', 20.453125), ('there', 17.578125), (' там', 16.796875), (' THERE', 16.609375), (' when', 13.828125)], 48: [(' ab', 11.0234375), (' aline', 9.5), ('дата', 9.3515625), (' ade', 9.3359375), ('ab', 9.2734375)], 50: [(' itself', 14.7734375), (' a', 14.1875), ('itself', 12.6484375), ('themselves', 12.1171875), (' himself', 12.1171875)], 51: [(' vch', 9.6796875), ('vous', 9.3203125), (' descargar', 8.8203125), (' pacient', 8.78125), ('theless', 8.75)]}, 7: {3: [(' to', 13.3203125), ('\\tto', 11.2734375), ('to', 10.0390625), (' ета', 9.2265625), ('uto', 9.0)], 34: [('eder', 9.828125), ('iffer', 9.765625), ('pora', 9.2890625), ('графия', 8.8984375), ('стка', 8.796875)], 36: [('незия', 9.2421875), ('umerate', 8.5234375), ('ajo', 8.4921875), (' eina', 8.375), ('值', 8.34375)], 48: [(' one', 16.375), (' a', 14.9453125), ('\\ta', 14.15625), ('one', 10.71875), (' aC', 10.0625)], 50: [(' itself', 16.28125), ('itself', 14.5234375), (' themselves', 12.53125), (' himself', 11.921875), (' yourself', 11.1953125)], 53: [('over', 12.546875), (' over', 12.484375), ('OVER', 11.3359375), (' OVER', 11.2265625), ('лията', 10.84375)]}, 9: {3: [('appen', 9.2421875), ('сер', 9.234375), ('igis', 8.65625), ('aul', 8.5546875), ('лим', 8.5234375)], 5: [('Advertisement', 10.890625), ('лад', 9.6171875), (' Gracias', 9.5078125), ('ouses', 9.328125), ('glGet', 9.1171875)], 11: [('linked', 9.8984375), ('multip', 9.46875), ('знава', 8.75), ('fbox', 8.6953125), ('цио', 8.671875)], 17: [('类', 8.921875), ('�起', 8.5625), ('mant', 8.40625), ('SHIP', 8.265625), ('类的', 8.1328125)], 32: [(' изи', 9.203125), ('oughby', 8.8359375), ('imens', 8.7421875), ('еб', 8.453125), ('ebles', 8.265625)], 56: [('пра', 11.2578125), ('jee', 9.671875), ('){$', 9.4609375), ('人民共和国', 9.3046875), ('mateix', 9.2109375)]}, 10: {3: [('леда', 9.75), ('}$~\\\\', 8.9375), ('upt', 8.84375), ('стира', 8.78125), ('lowe', 8.640625)], 14: [('working', 12.1328125), (' рабо', 11.5078125), (' work', 10.5625), (' носител', 10.3125), (' working', 10.15625)], 35: [('ariidae', 11.6953125), ('columnwidth', 9.828125), ('дъх', 9.46875), ('uxer', 9.421875), ('ennicke', 9.1484375)], 36: [('exercici', 9.65625), ('ebles', 9.2421875), ('TOOLSET', 9.2265625), ('宽高', 9.1796875), (' Kullander', 9.0)], 41: [(' involving', 9.296875), ('ostes', 8.2265625), (\"'>&\", 7.68359375), ('wau', 7.68359375), (' жа', 7.60546875)], 50: [('结', 9.4765625), (' split', 9.1875), ('ipl', 8.8515625), (' herself', 8.421875), ('素', 8.375)]}, 15: {3: [('血', 9.078125), ('STS', 8.71875), ('лян', 8.4609375), ('rets', 8.3671875), ('尖', 8.359375)], 11: [('篮', 8.28125), (' stewardship', 7.93359375), ('rown', 7.85546875), (' depot', 7.75), (' situa', 7.66796875)], 17: [('noma', 9.609375), ('lxc', 9.5234375), ('凿', 8.6640625), ('lisi', 8.59375), (' vpon', 8.578125)], 36: [(' will', 9.453125), ('Will', 9.046875), ('rig', 8.421875), ('will', 8.3359375), ('ARI', 8.0859375)], 43: [('anor', 9.7421875), ('nacl', 9.734375), ('ndicate', 9.515625), ('WireFormat', 9.2734375), ('�', 9.2578125)], 45: [(' from', 19.953125), (' FROM', 19.671875), ('from', 19.5625), (' From', 17.734375), ('From', 16.984375)]}, 16: {3: [('IPU', 9.5625), ('idden', 9.3671875), ('idat', 8.84375), ('ру', 8.640625), ('↳', 8.4921875)], 14: [('уни', 12.2265625), ('etext', 11.2734375), (' местообита', 9.6953125), ('дето', 9.609375), ('�', 9.59375)], 35: [(' Методий', 12.7890625), ('auty', 12.515625), ('вайг', 12.125), ('Населени', 11.7890625), ('мисъл', 11.5234375)], 36: [(' let', 9.0390625), ('Read', 8.4296875), ('ринг', 8.421875), ('NOSCRIPT', 8.0703125), ('司', 7.91796875)], 41: [(' be', 10.375), ('ariidae', 9.2109375), ('axies', 8.3984375), ('不分', 8.3203125), ('commends', 8.296875)], 53: [('тари', 9.5625), ('lip', 9.4765625), ('马自', 9.25), (' SUCH', 9.1953125), ('apar', 9.1875)]}, 4: {5: [('�', 9.34375), ('uckoo', 8.2265625), ('quers', 8.109375), ('��', 8.0234375), (' fa', 7.6875)], 17: [('çà', 9.796875), ('aita', 9.453125), ('�', 9.4453125), ('ibs', 9.0078125), ('ˋ', 8.9296875)], 19: [('(#', 9.6875), (\"','$\", 9.1953125), ('ssim', 8.9375), (' Grans', 8.6328125), ('熟悉', 8.578125)], 45: [('rime', 10.9609375), ('ussa', 9.2109375), ('� ', 9.171875), ('tua', 8.796875), ('udson', 8.640625)], 51: [('sman', 9.6015625), ('ynom', 9.5859375), ('hort', 9.4453125), ('ул', 9.28125), ('дето', 9.0)], 55: [('/', 13.703125), ('By', 10.6875), ('June', 10.5234375), ('./', 9.6015625), ('No', 9.59375)]}, 8: {5: [('f', 11.0703125), ('0', 10.1171875), ('8', 9.546875), (' f', 9.5390625), ('han', 9.4140625)], 12: [('queta', 10.5625), ('Estudi', 9.9921875), ('encar', 9.6953125), ('amped', 9.671875), ('agrid', 9.625)], 37: [(' part', 12.890625), (' системи', 10.7265625), (' subject', 10.453125), (' system', 10.3515625), ('condition', 10.09375)], 57: [('тици', 10.4453125), ('уд', 8.65625), (' b', 8.25), ('лета', 8.171875), ('рио', 7.9765625)], 62: [(' ins', 9.0625), (' al', 8.9296875), ('mite', 8.578125), ('ен', 8.484375), ('ьон', 8.4609375)], 63: [('odis', 13.703125), ('venin', 11.828125), ('odos', 11.2421875), ('issen', 11.140625), ('odor', 10.09375)]}, 14: {12: [('今天的', 8.5234375), (' MAX', 8.4453125), ('oh', 8.3984375), ('пя', 8.3984375), (' Ner', 8.3671875)], 35: [('рак', 10.6953125), ('ube', 10.0), ('umin', 8.5546875), ('iliar', 8.53125), ('aska', 8.4921875)], 36: [('�', 9.375), ('ай', 9.0703125), ('上当', 8.328125), ('江市', 8.2890625), ('assol', 7.92578125)], 37: [(' fact', 14.7734375), (' truth', 13.1953125), ('truth', 12.2109375), (' Fact', 10.9140625), (' actual', 10.5)], 57: [('ocode', 10.8125), ('默', 9.9921875), ('参', 9.9375), ('great', 9.8125), (' Turn', 9.453125)], 63: [(' DA', 9.0625), ('Zyg', 8.90625), ('Annot', 8.8984375), ('сал', 8.4609375), ('дент', 8.3671875)]}, 2: {13: [(' application', 10.9140625), (' Application', 10.1171875), ('application', 9.28125), ('fono', 8.9453125), (' applications', 8.6171875)], 25: [('BLOCK', 10.0234375), ('board', 9.9140625), (' Slip', 9.7578125), ('blocking', 9.03125), ('plum', 8.8671875)], 37: [(' con', 20.609375), (' en', 13.453125), ('Con', 12.203125), (' Con', 12.1796875), ('con', 12.0625)], 39: [('последствие', 11.8671875), (' had', 11.8515625), ('had', 11.4140625), ('Had', 10.78125), (' Кън', 10.7734375)], 51: [('rob', 10.25), ('is', 9.8203125), (' reveals', 9.578125), ('каза', 9.3046875), (' tells', 9.2578125)], 52: [('couple', 13.140625), (' couple', 12.6171875), ('sus', 10.8671875), ('íř', 10.4140625), ('openg', 10.1796875)]}}\n",
      "Shared expert predictions: [[('4', 2.21484375), ('3', 2.212890625), ('0', 2.205078125), ('8', 2.177734375), ('5', 2.173828125)], [('Английски', 2.048828125), ('omet', 1.923828125), ('ometer', 1.9130859375), (' satur', 1.9072265625), (' ar', 1.765625)], [(',', 4.48046875), ('\\n', 3.87109375), (' ', 3.7890625), ('.', 3.24609375), (' -', 2.921875)], [(',', 3.689453125), (' a', 3.375), (' the', 3.27734375), (' ', 3.19921875), (' in', 3.01953125)], [(' O', 3.4296875), (',', 3.337890625), (' o', 3.322265625), (' ', 3.279296875), ('…', 3.205078125)], [(',', 2.94921875), ('.', 2.880859375), (' pretty', 2.712890625), (' and', 2.642578125), (' almost', 2.640625)], [('entina', 1.44140625), (' ~\\\\', 1.3916015625), (' outlining', 1.388671875), (' lef', 1.3720703125), (' instabilities', 1.3486328125)], [(' ', 4.5234375), (',', 4.08203125), ('\\n', 3.669921875), (' i', 3.568359375), (' (', 3.189453125)], [(',', 5.1015625), (' ', 4.55078125), (' n', 4.23828125), ('.', 4.08203125), (' w', 4.0390625)], [(',', 4.46484375), (' ', 4.3828125), ('.', 4.0078125), (' to', 3.98828125), ('1', 3.568359375)], [(',', 4.77734375), ('1', 4.68359375), ('3', 4.5546875), (' ', 4.4921875), ('2', 4.42578125)], [(' ', 5.8359375), (' i', 4.54296875), ('\\n', 4.53125), ('-', 4.51953125), ('...', 4.4765625)], [(' i', 5.09375), (' I', 4.80078125), ('I', 4.5), (' F', 4.36328125), (',', 4.2734375)], [(' C', 6.48828125), ('C', 5.7265625), (' c', 5.5625), ('c', 4.70703125), ('\\tC', 3.47265625)], [(',', 4.18359375), ('c', 3.42578125), (' c', 3.30859375), ('C', 3.3046875), (' C', 2.76953125)], [('…', 2.48828125), ('\\n', 2.474609375), (' preci', 2.341796875), ('lia', 2.259765625), ('*', 2.2265625)], [(',', 4.17578125), ('.', 3.048828125), (':', 2.99609375), ('1', 2.83984375), (' ', 2.7109375)]]\n",
      "\n",
      "MoE Layer 26:\n",
      "Selected experts: [[40, 45, 31, 33, 57, 39], [42, 35, 48, 28, 6, 36], [13, 44, 15, 10, 20, 54], [32, 57, 47, 58, 35, 17], [48, 13, 7, 44, 15, 54], [18, 4, 14, 23, 7, 51], [33, 29, 49, 23, 39, 12], [48, 26, 56, 34, 58, 45], [60, 48, 27, 58, 19, 28], [48, 15, 43, 44, 54, 19], [0, 48, 30, 21, 19, 32], [25, 48, 43, 37, 14, 8], [31, 48, 29, 57, 8, 38], [22, 25, 26, 34, 48, 11], [48, 27, 19, 10, 60, 50], [48, 15, 7, 44, 26, 56], [0, 60, 19, 48, 30, 13]]\n",
      "Expert weights: [[0.85791015625, 0.01318359375, 0.0105743408203125, 0.006130218505859375, 0.004688262939453125, 0.004344940185546875], [0.12457275390625, 0.047393798828125, 0.037200927734375, 0.186279296875, 0.07281494140625, 0.0297088623046875], [0.048583984375, 0.09625244140625, 0.08935546875, 0.10186767578125, 0.07122802734375, 0.042327880859375], [0.1290283203125, 0.092041015625, 0.072998046875, 0.050262451171875, 0.042205810546875, 0.029998779296875], [0.1256103515625, 0.10516357421875, 0.1043701171875, 0.06829833984375, 0.06817626953125, 0.04241943359375], [0.43408203125, 0.05584716796875, 0.046112060546875, 0.045562744140625, 0.036834716796875, 0.033203125], [0.83740234375, 0.02398681640625, 0.0164947509765625, 0.01629638671875, 0.0102386474609375, 0.009765625], [0.1953125, 0.1451416015625, 0.07830810546875, 0.04327392578125, 0.0390625, 0.033447265625], [0.2364501953125, 0.178466796875, 0.11212158203125, 0.03997802734375, 0.036865234375, 0.032501220703125], [0.14697265625, 0.09698486328125, 0.069580078125, 0.046722412109375, 0.0406494140625, 0.038116455078125], [0.08306884765625, 0.173095703125, 0.260986328125, 0.07696533203125, 0.0538330078125, 0.05047607421875], [0.0389404296875, 0.1072998046875, 0.10400390625, 0.366455078125, 0.0389404296875, 0.02783203125], [0.277099609375, 0.239013671875, 0.034210205078125, 0.0224609375, 0.019256591796875, 0.0191802978515625], [0.036163330078125, 0.039520263671875, 0.05694580078125, 0.08074951171875, 0.079345703125, 0.03515625], [0.15283203125, 0.13232421875, 0.07110595703125, 0.07916259765625, 0.268310546875, 0.0231475830078125], [0.33203125, 0.0474853515625, 0.04620361328125, 0.0333251953125, 0.02947998046875, 0.0276336669921875], [0.13330078125, 0.0457763671875, 0.055755615234375, 0.185302734375, 0.2108154296875, 0.025360107421875]]\n",
      "Combined output tokens: [[(' regarding', 146.625), (' Down', 133.0), ('anys', 129.875), (' relating', 127.5625), (' involving', 125.0625)], [(' application', 14.6953125), (' applications', 13.6953125), (' third', 13.6796875), (' average', 13.6484375), (' past', 13.640625)], [(',', 16.46875), (' ', 15.796875), (' and', 14.140625), (' under', 13.28125), (' that', 12.9453125)], [(' the', 15.6171875), (' a', 15.046875), (' their', 14.3671875), (' cross', 14.3125), (' death', 14.171875)], [(' ', 17.734375), (',', 17.71875), (':', 15.2890625), (' in', 15.1875), ('.', 15.0546875)], [(\"'\", 47.6875), ('’', 46.625), (' ', 43.28125), ('.', 42.125), ('  ', 41.84375)], [(' embodiments', 7.82421875), (' datada', 7.64453125), ('alera', 7.5703125), ('antar', 7.37109375), ('textsl', 7.27734375)], [(' a', 16.09375), (' ', 12.9609375), (',', 12.4296875), (' the', 11.8828125), (' A', 11.8203125)], [('...', 10.484375), (' ', 10.3203125), (' \"', 9.7890625), ('\\n', 9.5625), (' [', 9.4140625)], [(' ', 16.265625), (' to', 15.546875), (',', 15.21875), ('\\n', 14.171875), (' (', 13.7109375)], [(' ', 14.3515625), ('...', 13.3671875), ('…', 13.2109375), ('\\n', 12.640625), ('  ', 11.9296875)], [(',', 36.375), (' ', 26.875), ('.', 25.0), ('-', 24.3125), (':', 24.265625)], [(' but', 32.53125), ('but', 29.484375), (' But', 21.28125), ('But', 21.046875), (' ', 19.9375)], [(' ', 13.2578125), (',', 12.6875), (' a', 12.6484375), ('.', 12.0390625), (' in', 11.6953125)], [(' ', 14.8984375), (' reality', 12.1796875), ('...', 12.0390625), ('…', 11.75), ('\\n', 11.1875)], [(':', 15.0625), (' ', 15.046875), ('...', 14.8046875), (' to', 14.578125), ('\\n', 13.578125)], [(' ', 12.0), (',', 11.6171875), (' and', 11.3984375), ('.', 11.2109375), ('(', 11.1484375)]]\n",
      "Expert predictions by position: {10: {0: [(' come', 14.546875), (' Come', 12.390625), ('come', 11.90625), (' comes', 10.9765625), ('Come', 10.8984375)], 19: [(' EX', 31.328125), ('EX', 27.765625), ('ex', 24.453125), ('Ex', 23.125), (' Ex', 23.078125)], 21: [('out', 10.2734375), (' alike', 9.890625), (' out', 9.1875), (' Nature', 8.453125), ('ses', 8.3515625)], 30: [('座', 9.734375), ('家庭', 9.4921875), ('sr', 9.0546875), ('接', 8.8203125), ('ване', 8.65625)], 32: [('να', 9.6796875), ('lada', 9.1875), (' .$$', 9.015625), ('iale', 8.8359375), ('ngia', 8.6328125)], 48: [('\\tto', 20.75), (' to', 20.6875), ('to', 15.875), ('terday', 11.703125), ('To', 11.578125)]}, 16: {0: [(' make', 16.171875), ('make', 13.4296875), (' Make', 13.359375), (' makes', 13.0546875), ('Make', 11.9375)], 13: [(' winds', 10.3984375), (' shapes', 10.234375), (' amounts', 10.1484375), (' unf', 10.09375), (' cre', 9.6796875)], 19: [(' Y', 11.1171875), (' B', 9.5859375), (' y', 9.4375), ('YE', 9.0), ('THIS', 8.875)], 30: [('学习', 9.765625), (' buck', 9.0), ('的学习', 8.9140625), ('Tables', 8.8203125), ('学习和', 8.3671875)], 48: [('ghed', 9.375), ('клопе', 9.03125), ('ilee', 8.1328125), ('onite', 7.890625), (' среща', 7.87109375)], 60: [('ong', 9.4296875), ('ypes', 9.375), ('ingles', 8.4765625), ('imon', 8.3515625), ('组合', 8.203125)]}, 5: {4: [('6', 12.9296875), ('ust', 11.8359375), ('1', 11.8125), ('3', 11.7109375), ('2', 11.40625)], 7: [('tend', 9.4140625), ('e', 8.9765625), ('rary', 8.7109375), ('Learn', 8.6171875), ('sen', 8.515625)], 14: [(\"''\", 20.203125), ('-', 19.1875), ('&', 17.75), ('_', 16.859375), ('+', 16.25)], 18: [('’', 9.1328125), (\"'\", 8.921875), ('  ', 8.078125), ('』', 8.0078125), ('&#', 7.90625)], 23: [('ecycle', 9.96875), ('ENTIAL', 9.65625), ('homology', 9.5625), ('itionally', 9.109375), ('igations', 9.078125)], 51: [('节', 17.09375), ('节的', 17.0), ('�', 14.5625), ('antro', 10.65625), ('nida', 9.90625)]}, 1: {6: [(',', 11.40625), ('ографи', 10.1015625), ('，', 10.0546875), ('nus', 8.796875), ('═', 8.6953125)], 28: [('buntu', 9.0546875), ('illator', 8.8125), ('рени', 8.6015625), ('mba', 8.5546875), ('oret', 8.421875)], 35: [(' In', 7.671875), (' The', 7.48046875), (' A', 7.28515625), (' G', 6.99609375), (' {?}', 6.83203125)], 36: [('学', 12.7421875), ('2', 11.6328125), ('0', 9.1796875), ('3', 8.6953125), (' incarnation', 8.15625)], 42: [('anch', 9.90625), (' j', 8.7578125), ('ander', 8.4609375), ('енти', 8.3359375), ('aster', 8.203125)], 48: [(' but', 32.59375), ('but', 29.09375), ('But', 23.90625), (' BUT', 23.875), (' pero', 23.703125)]}, 4: {7: [('дже', 10.734375), ('肥', 9.625), ('way', 9.359375), (' FI', 9.109375), ('喷', 9.0859375)], 13: [('’', 16.671875), ('CodeAttribute', 10.0390625), ('´', 9.921875), ('‘', 9.8984375), ('’”', 9.609375)], 15: [('0', 14.4609375), ('8', 14.1171875), ('1', 13.859375), ('3', 13.640625), ('9', 13.1796875)], 44: [('��', 10.2578125), ('ively', 9.0703125), (' Pequ', 8.6640625), ('itecture', 8.6328125), ('afr', 8.453125)], 48: [('odon', 10.1171875), ('typeName', 8.9375), ('acam', 8.703125), ('olor', 8.640625), ('厌', 8.4453125)], 54: [(' off', 14.140625), (' onboard', 12.9453125), (' near', 11.7109375), (' on', 10.8046875), (' aboard', 10.46875)]}, 15: {7: [('blood', 9.5703125), ('imatges', 9.484375), (' force', 9.0546875), ('isational', 8.90625), ('ajar', 8.8984375)], 15: [('�起', 11.1171875), (' facing', 9.984375), (' hind', 9.8125), (' governing', 8.9140625), (' pl', 8.875)], 26: [(' in', 10.6640625), (' often', 10.25), (' mostly', 9.4765625), ('\\tin', 8.890625), (' very', 8.890625)], 44: [('�乐', 9.6953125), ('hon', 8.953125), ('奏', 8.90625), ('Markup', 8.765625), ('厚', 8.7421875)], 48: [('cnica', 9.46875), ('osure', 9.140625), ('城的', 8.7421875), ('uler', 8.671875), ('terday', 8.640625)], 56: [(' as', 10.3125), (' overe', 9.6953125), ('arest', 8.71875), (' Far', 8.6484375), (' far', 8.453125)]}, 11: {8: [(' however', 18.140625), (' nevertheless', 16.484375), ('however', 16.390625), (' nonetheless', 14.4453125), ('nevertheless', 14.171875)], 14: [(\"'</\", 20.359375), ('』', 18.6875), ('\\'\",', 17.4375), (\"'\", 16.8125), (\"'|\", 16.765625)], 25: [(',', 14.890625), (':', 14.8359375), (':**', 10.8203125), (':[', 10.296875), (' apro', 10.0)], 37: [(',', 12.375), (',\\\\', 11.0234375), ('\\\\,', 10.09375), (',|', 9.96875), (',{', 9.84375)], 43: [(' schematic', 9.359375), (' charge', 9.0390625), ('akes', 8.671875), ('und', 8.59375), (' column', 8.578125)], 48: [(' to', 11.3984375), (' gradually', 10.3203125), (' slowly', 9.4296875), ('reus', 9.40625), ('\\tto', 9.25)]}, 12: {8: [('however', 12.3515625), (' however', 10.984375), (',', 10.3984375), (' nevertheless', 9.6953125), (' stanza', 8.9296875)], 29: [('omla', 10.4453125), ('nimes', 10.390625), ('AIPS', 9.984375), ('涯', 9.9296875), ('�', 9.3203125)], 31: [(' with', 9.765625), (' as', 9.2421875), (' and', 9.1953125), (' primary', 8.5234375), ('高于', 8.3671875)], 38: [(',', 9.6796875), (' Part', 8.4140625), ('ced', 8.3828125), ('th', 8.1875), ('架', 8.140625)], 48: [(' C', 10.078125), ('��', 9.484375), (' N', 9.1171875), (' cond', 9.03125), ('-', 8.8671875)], 57: [(' Willoughby', 7.93359375), (' Gine', 7.921875), ('imon', 7.83203125), ('dram', 7.30859375), (' Coral', 7.24609375)]}, 2: {10: [(' present', 12.2578125), (' gift', 11.4921875), (' account', 11.2109375), ('gift', 10.7734375), (' Present', 9.9765625)], 13: [('axies', 10.703125), ('quio', 10.4453125), (' fuster', 10.265625), (' arrived', 10.2109375), ('SSERT', 10.0625)], 15: [('vols', 10.2890625), ('ategories', 9.90625), (' which', 9.71875), ('лив', 9.609375), ('ability', 9.234375)], 20: [(' license', 11.890625), (' licence', 11.8671875), ('Lamb', 11.4765625), (' Lamb', 11.4296875), ('licenses', 10.0078125)], 44: [('-', 11.9375), ('enh', 10.375), (' arc', 10.3671875), (' dr', 9.734375), ('far', 9.40625)], 54: [(' of', 10.453125), (' downtown', 10.0), ('View', 9.8984375), (' under', 9.8828125), ('in', 9.6953125)]}, 14: {10: [('presents', 11.46875), (' present', 11.28125), (' presents', 11.046875), ('present', 10.15625), (' Present', 9.421875)], 19: [(' PRO', 27.625), ('PRO', 24.984375), (' MY', 22.328125), (' Pro', 21.234375), (' my', 19.796875)], 27: [('high', 15.109375), (' high', 13.3046875), ('High', 11.6640625), ('HIGH', 11.09375), (' High', 10.890625)], 48: [(' but', 22.984375), ('but', 20.59375), (',', 18.515625), (' BUT', 16.984375), (' pero', 16.78125)], 50: [(' R', 12.3515625), (' Ex', 9.6171875), (' V', 9.515625), (' Sm', 9.3671875), ('aste', 9.1796875)], 60: [('基础', 9.0625), (' препо', 8.9296875), ('经验', 8.4375), ('经验的', 8.1796875), ('sk', 7.96875)]}, 13: {11: [('шни', 8.8515625), ('逃', 8.6875), ('到', 8.578125), ('退', 8.375), ('.', 8.2265625)], 22: [('idean', 9.3828125), ('pend', 9.2578125), ('计', 8.15625), ('掘', 8.1015625), ('лин', 7.4296875)], 25: [(':', 11.3671875), ('y', 10.671875), ('.', 10.0859375), ('\\\\', 9.296875), ('maximal', 9.1875)], 26: [(' not', 12.59375), (' little', 10.2265625), (' actually', 10.015625), (' based', 9.6875), (' already', 9.546875)], 34: [('последствие', 10.2421875), (' one', 9.234375), ('aviera', 9.2109375), ('akespeare', 8.8984375), ('пус', 8.8203125)], 48: [('��', 11.5859375), ('etimes', 10.5), ('ruary', 9.6484375), (' fix', 9.46875), ('anders', 9.3359375)]}, 6: {12: [('чник', 8.0078125), ('�', 7.59375), ('hti', 7.3359375), (' Gal', 7.2421875), ('apad', 6.65625)], 23: [('enth', 11.8828125), ('arm', 9.6953125), ('ery', 9.375), ('enn', 9.1953125), ('cha', 9.015625)], 29: [('ubi', 10.5546875), ('bst', 9.9375), ('itol', 9.6875), ('дица', 9.671875), ('кур', 9.4375)], 33: [('�', 8.8359375), (' datada', 7.984375), ('ADO', 7.8125), ('antar', 7.76953125), ('ти', 7.5)], 39: [('ymatrix', 10.1796875), ('AGA', 9.9765625), ('ramfs', 9.9609375), ('WireFormat', 9.671875), ('eqno', 9.2578125)], 49: [('TOOLSET', 12.34375), ('��', 9.9453125), ('DOCKED', 9.7578125), ('цяло', 9.3515625), ('Съби', 9.2890625)]}, 9: {15: [(' present', 10.0390625), (' sake', 9.734375), (' inherent', 8.9765625), (' presented', 8.96875), (' underlying', 8.6015625)], 19: [(' BE', 13.4375), (' *', 13.390625), (' S', 12.5625), (' HE', 11.578125), (' PRO', 11.5703125)], 43: [(' Dec', 9.8671875), ('J', 9.6796875), ('Im', 9.1171875), (' Mac', 8.9765625), (' Bra', 8.859375)], 44: [(' cycle', 10.84375), ('cycle', 10.40625), (' quo', 9.9140625), (' zone', 9.6640625), (' trail', 9.4921875)], 48: [(' a', 24.734375), ('\\ta', 21.109375), ('a', 13.6875), (' aC', 13.0625), (' an', 12.515625)], 54: [(' off', 17.375), (' aboard', 15.8046875), (' near', 14.953125), (' onboard', 14.8984375), (' Off', 13.8125)]}, 3: {17: [('stroke', 13.5078125), ('Stroke', 11.765625), (' care', 11.3671875), (' stroke', 10.7421875), (' Stroke', 10.1484375)], 32: [('Intersection', 9.1953125), (']_', 8.921875), ('thorne', 8.640625), ('acitat', 8.5859375), (',~\\\\', 8.4453125)], 35: [(' And', 10.75), ('V', 10.3203125), (' V', 10.125), (' G', 8.8359375), ('G', 8.6640625)], 47: [('\\\\\\\\[', 8.75), (' ops', 8.4609375), ('辫', 8.296875), ('rypt', 8.2734375), ('imon', 7.9609375)], 57: [('and', 10.609375), ('b', 10.3203125), ('con', 9.234375), ('ol', 9.0703125), ('i', 8.96875)], 58: [(' affairs', 9.84375), (' Affairs', 8.734375), (' luck', 8.3984375), (' cords', 8.375), ('vell', 8.046875)]}, 8: {19: [(' MY', 26.1875), (' my', 23.609375), ('my', 22.875), ('MY', 22.328125), (' My', 21.40625)], 27: [(' lot', 13.109375), ('neig', 10.4453125), (' ton', 9.4296875), ('stackexchange', 9.3203125), (' single', 9.234375)], 28: [(' primary', 10.0859375), ('折', 9.3046875), (' Primary', 8.6484375), (' particulars', 8.5546875), (' PRIMARY', 8.484375)], 48: [(' the', 12.0), ('вени', 9.9609375), (':*', 9.4765625), ('acam', 9.2421875), (\"__':\", 9.1796875)], 58: [(' laure', 9.1328125), (' ако', 8.8359375), (' scat', 8.390625), (' dalt', 8.3828125), (' hit', 8.203125)], 60: [('Participant', 9.859375), ('pline', 9.71875), ('ullivan', 9.2890625), ('*</', 9.1328125), ('套', 8.8828125)]}, 7: {26: [(' logarithm', 9.90625), ('sy', 9.6484375), (' only', 9.46875), (' reconnect', 9.1328125), ('only', 9.0)], 34: [('some', 12.6796875), (' Да', 12.484375), ('ти', 12.2265625), (' Ро', 11.7265625), ('по', 11.328125)], 45: [(' said', 10.984375), (' first', 10.28125), (' defined', 8.5703125), (' bary', 8.53125), (' described', 8.296875)], 48: [(' a', 13.9140625), ('ol', 8.8203125), (' Cep', 8.75), ('пор', 8.65625), (' companion', 8.53125)], 56: [(' under', 19.671875), ('under', 15.765625), (' Under', 15.125), ('Under', 14.671875), (' UNDER', 13.4375)], 58: [(' par', 12.8671875), ('itaris', 9.984375), ('colorbox', 9.3515625), (' wit', 9.2109375), (' paret', 9.1953125)]}, 0: {31: [('THON', 10.0), (' And', 9.78125), ('racci', 9.5), ('eters', 9.3515625), ('lemm', 9.3203125)], 33: [('�', 10.4453125), ('�', 10.3828125), (' step', 9.4765625), (' earth', 9.46875), (' he', 9.265625)], 39: [('1', 14.0625), ('6', 13.3046875), ('2', 13.203125), ('4', 13.1796875), ('7', 13.1484375)], 40: [('#', 0.0), ('%', 0.0), ('!', 0.0), ('\"', 0.0), ('$', 0.0)], 45: [(' stable', 9.890625), (' comm', 9.328125), ('�', 8.984375), ('ipus', 8.8125), ('ter', 8.734375)], 57: [('islav', 7.47265625), ('untament', 7.44921875), (' Syr', 7.40625), (' increments', 7.39453125), ('Мини', 7.35546875)]}}\n",
      "Shared expert predictions: [[(' ', 2.54296875), (' involving', 2.533203125), ('0', 2.35546875), (' u', 2.341796875), (' ev', 2.30078125)], [(' third', 9.78125), (' final', 9.578125), (' application', 9.5625), (' ', 9.421875), (' demand', 9.2578125)], [(',', 14.859375), (' ', 14.6953125), (' and', 11.703125), (' under', 11.4453125), (' is', 10.9453125)], [(' the', 14.2890625), (' a', 13.7734375), (' ', 12.515625), (' their', 12.4375), (' cross', 12.3984375)], [(',', 15.390625), (' ', 14.796875), ('...', 13.28125), ('.', 13.265625), (':', 13.03125)], [('-', 18.359375), ('...', 17.375), ('.', 17.03125), (':', 16.796875), ('\\n', 16.671875)], [('compcert', 3.9453125), ('noframe', 3.826171875), ('headerlink', 3.736328125), ('cassiopeia', 3.6171875), ('persones', 3.595703125)], [(',', 12.484375), (' ', 11.625), (' and', 11.0234375), ('-', 10.65625), ('.', 10.4609375)], [('...', 8.4765625), (' ', 8.28125), (' \"', 8.2421875), (\" '\", 8.203125), ('\\n', 8.1796875)], [(',', 14.3359375), (' ', 14.140625), ('\\n', 13.3125), (' (', 12.3203125), ('-', 12.234375)], [(' ', 11.703125), ('...', 10.7109375), ('\\n', 10.4609375), ('…', 9.953125), ('<｜end▁of▁sentence｜>', 9.765625)], [(',', 21.390625), (' ', 19.609375), ('.', 19.484375), ('-', 19.234375), ('...', 18.40625)], [(' ', 14.7421875), ('...', 13.0546875), ('\\n', 13.03125), (' R', 12.84375), (' A', 12.6796875)], [(' ', 12.390625), (',', 12.2421875), ('.', 11.0390625), (' a', 10.3984375), (' the', 10.2890625)], [(' ', 11.9140625), ('\\n', 8.5390625), ('...', 8.421875), ('…', 8.328125), ('(', 8.1171875)], [(' ', 14.9453125), ('\\n', 13.390625), (':', 13.1171875), ('...', 12.71875), (' (', 12.0234375)], [(' ', 10.59375), ('-', 10.3125), (':', 9.609375), ('.', 9.609375), ('(', 9.140625)]]\n",
      "\n",
      "MoE Layer 27:\n",
      "Selected experts: [[30, 62, 54, 56, 14, 2], [21, 1, 53, 20, 63, 19], [43, 20, 37, 53, 26, 22], [8, 62, 20, 21, 4, 19], [34, 37, 51, 43, 9, 2], [54, 40, 9, 28, 3, 27], [35, 57, 0, 56, 55, 30], [59, 39, 7, 16, 62, 22], [33, 53, 1, 63, 10, 38], [11, 31, 12, 57, 9, 5], [15, 58, 6, 46, 44, 16], [51, 36, 9, 42, 2, 50], [13, 41, 62, 2, 30, 56], [59, 62, 24, 12, 33, 5], [46, 1, 33, 53, 63, 38], [11, 12, 24, 57, 18, 50], [15, 46, 6, 34, 9, 40]]\n",
      "Expert weights: [[0.1358642578125, 0.301025390625, 0.2371826171875, 0.1348876953125, 0.062103271484375, 0.01378631591796875], [0.12298583984375, 0.480712890625, 0.06329345703125, 0.10235595703125, 0.058197021484375, 0.034027099609375], [0.198974609375, 0.08148193359375, 0.18798828125, 0.052154541015625, 0.042938232421875, 0.0416259765625], [0.1705322265625, 0.044677734375, 0.05419921875, 0.0887451171875, 0.0736083984375, 0.041534423828125], [0.07489013671875, 0.1895751953125, 0.07379150390625, 0.06536865234375, 0.04193115234375, 0.0400390625], [0.085693359375, 0.31787109375, 0.08349609375, 0.0626220703125, 0.039581298828125, 0.03680419921875], [0.5029296875, 0.404296875, 0.0118560791015625, 0.007350921630859375, 0.006908416748046875, 0.006488800048828125], [0.1929931640625, 0.1719970703125, 0.10723876953125, 0.044952392578125, 0.026763916015625, 0.0247344970703125], [0.615234375, 0.0831298828125, 0.0550537109375, 0.0286712646484375, 0.0284423828125, 0.0282745361328125], [0.11248779296875, 0.078857421875, 0.0723876953125, 0.06341552734375, 0.052032470703125, 0.04559326171875], [0.47412109375, 0.0050811767578125, 0.0276031494140625, 0.397705078125, 0.004779815673828125, 0.004657745361328125], [0.306640625, 0.214111328125, 0.07171630859375, 0.02874755859375, 0.0233917236328125, 0.022369384765625], [0.475341796875, 0.1724853515625, 0.08489990234375, 0.033538818359375, 0.0210723876953125, 0.01953125], [0.1451416015625, 0.04852294921875, 0.051849365234375, 0.035552978515625, 0.03521728515625, 0.0294952392578125], [0.045562744140625, 0.06292724609375, 0.517578125, 0.032501220703125, 0.028900146484375, 0.0278778076171875], [0.10052490234375, 0.14013671875, 0.06072998046875, 0.04583740234375, 0.040557861328125, 0.031768798828125], [0.6083984375, 0.2291259765625, 0.032501220703125, 0.007236480712890625, 0.00621795654296875, 0.00612640380859375]]\n",
      "Combined output tokens: [[('【', 20.234375), ('<?', 20.046875), ('2', 18.484375), ('The', 18.28125), ('China', 18.140625)], [(' head', 44.84375), (' name', 44.03125), (' full', 43.96875), (' short', 43.9375), (' team', 43.34375)], [(' to', 32.71875), (' for', 32.25), (',', 31.953125), (' and', 31.875), (' in', 31.25)], [(' I', 29.125), (' to', 28.546875), (' un', 27.84375), (' you', 27.703125), (' as', 27.65625)], [(',', 27.40625), (' ', 26.328125), ('.', 25.734375), (' and', 24.515625), ('-', 24.4375)], [('Strunz', 13.3046875), ('spci', 12.953125), ('ollary', 12.640625), ('colhead', 12.3828125), ('widetext', 12.0234375)], [(' figure', 13.1875), (' rec', 13.125), (' type', 12.7890625), (' support', 12.6484375), (' record', 12.578125)], [(',', 33.53125), (' ', 32.59375), (' and', 30.84375), (' to', 30.8125), ('.', 30.59375)], [(' non', 24.296875), (' long', 24.265625), (' bad', 24.234375), (' real', 24.21875), (' record', 24.0625)], [(',', 30.8125), (' and', 30.640625), (' ', 29.546875), (' of', 29.015625), ('.', 28.921875)], [(' long', 27.5625), (' to', 27.296875), (' read', 27.171875), (' make', 26.640625), (' face', 26.421875)], [(' ', 31.671875), (' (', 29.453125), ('.', 28.515625), (' and', 28.265625), (' -', 27.109375)], [(' ', 51.84375), (',', 49.09375), (' (', 48.5625), (' -', 45.625), ('.', 44.8125)], [(' ', 33.28125), (',', 31.71875), (' to', 31.578125), (' and', 30.796875), (' for', 29.890625)], [(' real', 21.171875), (' fre', 20.75), (' type', 20.140625), (' fac', 19.96875), (' long', 19.625)], [(' ', 22.171875), (',', 20.890625), (' and', 20.421875), (' (', 19.71875), (' or', 19.671875)], [(' embrace', 13.9765625), (' en', 13.8671875), (' face', 13.59375), (' to', 12.6328125), (' appreciate', 12.59375)]]\n",
      "Expert predictions by position: {6: {0: [('架', 11.8046875), (' weeks', 11.390625), ('op', 11.171875), ('/', 10.7578125), (' months', 9.984375)], 30: [('so', 10.046875), ('in', 9.0546875), ('纵', 8.6640625), ('of', 8.4296875), ('isive', 8.3984375)], 35: [(' have', 13.171875), (' really', 12.8515625), (' work', 12.4609375), (' always', 12.4375), (' need', 12.28125)], 55: [('iet', 12.6640625), ('dor', 12.2578125), ('urt', 11.8125), ('oot', 11.796875), ('cox', 11.640625)], 56: [('准', 7.77734375), ('тин', 7.625), (' let', 7.5), (' Ъ', 7.4453125), ('ﬁ', 7.40625)], 57: [('�乐', 16.390625), ('�', 14.7734375), (' relle', 14.640625), ('llan', 13.0703125), ('�다', 12.515625)]}, 1: {1: [(' vast', 10.171875), (' promesa', 8.78125), (' living', 8.4140625), ('书》', 8.140625), (' universe', 8.1015625)], 19: [(' orn', 7.53515625), (' asc', 7.28125), (' astrophysical', 7.05078125), (' literary', 7.0390625), (' artistic', 6.82421875)], 20: [(' Bruins', 9.46875), (' Beng', 9.3515625), (' Rockets', 8.8828125), (' Texans', 8.828125), (' Braves', 8.78125)], 21: [(' Уебсайт', 7.53515625), (' GoString', 7.3984375), (' Schwennicke', 6.91796875), (' dium', 6.03515625), ('西红', 5.625)], 53: [(' raid', 10.921875), (' seizure', 10.078125), (' condition', 10.0546875), (' pain', 9.90625), (' consequence', 9.3359375)], 63: [(' equation', 11.046875), (' horizon', 11.0234375), (' universe', 10.9453125), (' object', 10.1875), (' context', 9.9375)]}, 8: {1: [(' whole', 12.546875), (' Whole', 9.3671875), ('irth', 8.8515625), (' mere', 8.8203125), (' complete', 8.3828125)], 10: [(' en', 10.15625), (' meets', 10.125), (' ring', 9.8203125), (' tongue', 9.6484375), (' road', 9.4296875)], 33: [('密', 9.3828125), ('密的', 8.859375), ('AU', 7.8359375), ('IDs', 7.60546875), ('ye', 7.44140625)], 38: [(' opportunity', 12.7109375), (' step', 12.53125), (' moment', 11.59375), (' facet', 11.203125), (' segment', 11.15625)], 53: [(' suspect', 11.03125), (' dispute', 9.8671875), (' outbreak', 8.6484375), (' scandal', 8.4453125), (' tide', 8.296875)], 63: [(' circle', 7.328125), (' direction', 7.265625), (' vicinity', 6.9765625), ('neres', 6.4375), (' equator', 6.37890625)]}, 14: {1: [('ntic', 6.94921875), ('irat', 6.81640625), ('venin', 6.53125), (' Empord', 6.0390625), (' Benefits', 5.9921875)], 33: [('密', 8.3671875), ('ero', 8.09375), ('ird', 7.35546875), ('orta', 7.1953125), ('versions', 7.03125)], 38: [(' feature', 12.6328125), (' manner', 11.9453125), (' facility', 11.625), (' form', 11.3203125), (' factor', 11.0859375)], 46: [('мира', 9.0625), ('гради', 8.828125), (' sc', 8.578125), (' orient', 8.3671875), ('ifications', 8.3125)], 53: [(' extent', 7.7890625), (' recent', 7.47265625), ('ft', 7.265625), (' mine', 6.95703125), (' presence', 6.9453125)], 63: [(' globe', 15.2421875), (' universe', 13.09375), (' circle', 12.5234375), (' planet', 12.0), (' table', 11.7734375)]}, 0: {2: [('<｜end▁of▁sentence｜>', 25.671875), ('<｜begin▁of▁sentence｜>', 11.5), (' #', 11.1875), (' \"', 10.296875), (' 👼', 10.0625)], 14: [('\\n', 7.47265625), ('makeText', 7.16015625), ('bootstrapcdn', 7.16015625), (' I', 6.9453125), ('<｜end▁of▁sentence｜>', 6.74609375)], 30: [('////////////////////////////////////////////////////////////////', 6.56640625), ('//', 6.4296875), ('\\t//', 6.41015625), ('/************************************************************************', 6.30078125), ('//----------------------------------------------------------------', 6.2265625)], 54: [('角', 5.02734375), ('学', 4.90234375), (' _$', 4.84375), ('�', 4.8125), ('待', 4.8046875)], 56: [('←', 10.6015625), ('LikeLiked', 9.7734375), ('Tis', 9.5546875), ('Fare', 9.5390625), (' ', 9.2734375)], 62: [(' October', 15.578125), (' December', 15.546875), (' January', 15.2265625), (' July', 14.8125), (' September', 14.703125)]}, 4: {2: [('<｜end▁of▁sentence｜>', 17.796875), ('<｜begin▁of▁sentence｜>', 14.6484375), (' #', 9.796875), (' https', 9.2265625), (' (', 9.1171875)], 9: [('，', 23.703125), ('「', 21.125), (')\".', 19.765625), ('\"|', 19.625), ('_.\"', 19.53125)], 34: [(' resulted', 9.6171875), (' causes', 9.2578125), (' occurred', 9.09375), (' gave', 9.03125), (' ranges', 8.8125)], 37: [(' lies', 11.6484375), (' occurred', 10.3046875), (' ensued', 10.171875), (' comes', 9.9609375), (' came', 9.6953125)], 43: [('ings', 14.4609375), ('iness', 14.40625), ('ball', 14.2890625), ('fulness', 13.7890625), ('making', 13.5234375)], 51: [(' the', 31.140625), ('.', 28.421875), (' ', 26.359375), (' a', 26.125), (' (', 25.96875)]}, 11: {2: [('<｜end▁of▁sentence｜>', 16.328125), ('READ', 10.125), ('Read', 9.2890625), (' /*!<', 9.078125), ('\"];', 9.0390625)], 9: [('」', 34.78125), (',\\'\"', 32.6875), ('\\',\"', 30.3125), ('),\"', 29.921875), (',\"', 29.796875)], 36: [('.', 25.5625), (' -', 25.390625), (' ', 25.25), (';', 24.4375), ('-', 23.796875)], 42: [('....', 30.375), ('...', 29.609375), ('..', 29.359375), ('--', 27.40625), ('—', 27.296875)], 50: [('�', 33.53125), ('�', 31.0625), ('�', 24.375), ('构', 20.25), ('�', 17.46875)], 51: [(' I', 12.6875), (' ', 12.6328125), ('--', 12.3828125), (' bul', 12.09375), (' --', 11.8359375)]}, 12: {2: [('<｜end▁of▁sentence｜>', 13.6953125), (' ', 13.15625), ('The', 12.65625), ('By', 12.5625), ('View', 12.5)], 13: [('term', 10.7421875), ('month', 10.375), ('edu', 10.3515625), ('refund', 10.203125), ('profit', 10.140625)], 30: [('or', 12.2734375), ('here', 11.3125), ('if', 11.046875), ('it', 10.9453125), ('Compos', 10.7109375)], 41: [(' Although', 11.2421875), (' although', 10.859375), (' We', 10.7421875), (' except', 10.3984375), (' Because', 10.1875)], 56: [('1', 5.74609375), ('2', 5.6640625), (' *', 5.5625), ('//', 5.41796875), (' ', 5.41015625)], 62: [(' February', 30.21875), (' November', 28.984375), (' Feb', 28.875), (' January', 28.0625), (' April', 27.53125)]}, 5: {3: [('._)', 25.734375), ('.)', 25.578125), (').]', 25.5625), (').', 24.890625), (').</', 24.109375)], 9: [('“', 23.546875), ('’', 21.125), ('”', 21.03125), ('）', 16.328125), ('，', 15.78125)], 27: [('i', 11.3203125), ('otta', 11.078125), ('ignan', 11.0078125), ('dua', 10.984375), ('iola', 10.8046875)], 28: [('isual', 13.0234375), ('ousin', 12.6171875), ('uir', 12.59375), ('iemann', 12.4921875), ('acke', 12.4375)], 40: [('仅代表作者本人观点', 10.6953125), ('仅代表作者本人', 10.0546875), ('alusia', 8.9375), ('thought', 8.21875), ('uvi', 8.078125)], 54: [('Major', 8.9296875), ('Buff', 7.69921875), ('Cour', 7.66015625), ('Jonathan', 7.6484375), ('Jackson', 7.5859375)]}, 3: {4: [('nia', 9.546875), (' late', 9.328125), (' matric', 8.9609375), (' Late', 8.890625), ('空气', 8.8671875)], 8: [('廓', 6.5234375), ('{-}', 6.40234375), (' whether', 6.26953125), ('-}', 5.91796875), ('ancock', 5.83984375)], 19: [(' companys', 7.046875), (' beginnings', 6.80859375), (' superf', 6.48828125), (' luxury', 6.03125), (' privileges', 5.99609375)], 20: [(' Premier', 9.75), (' fan', 9.578125), (' star', 9.3203125), (' Wrest', 9.2578125), (' fans', 8.6796875)], 21: [(' dicho', 6.1171875), (' avis', 6.11328125), (' sp', 5.9609375), (' Primera', 5.89453125), (' Списък', 5.515625)], 62: [(' Dec', 17.03125), (' Aug', 16.359375), (' August', 15.2109375), (' Jan', 15.0234375), (' Feb', 14.9453125)]}, 9: {5: [(' earlier', 10.6953125), ('l', 10.3046875), ('curs', 10.21875), (' indicator', 10.1953125), (' final', 10.0)], 9: [('，', 31.390625), ('、', 26.34375), ('。', 26.09375), ('！', 19.984375), ('；', 19.4375)], 11: [('ogie', 10.4375), (' authority', 9.9296875), ('лон', 9.765625), (' vol', 9.4765625), (' Z', 9.328125)], 12: [('}', 12.671875), ('refore', 10.1640625), (' run', 10.140625), (' st', 10.09375), (' reserve', 10.046875)], 31: [(' -', 12.6171875), (' add', 12.3984375), (' ', 12.03125), (' tail', 11.8984375), ('2', 11.4765625)], 57: [('cellular', 11.0703125), ('xev', 10.3828125), ('честър', 10.1953125), (' gravats', 9.578125), ('profiler', 9.53125)]}, 13: {5: [('tow', 12.3515625), ('usts', 11.09375), (' occas', 10.8515625), ('utada', 10.75), ('mor', 10.6796875)], 12: [(' mark', 10.703125), ('\\n', 10.3125), (' ', 10.1796875), (' (', 9.921875), ('eras', 9.875)], 24: [(' even', 10.8671875), (' dish', 10.7265625), (' possibly', 10.59375), (' perhaps', 10.5390625), (' Cur', 10.0703125)], 33: [(' bit', 15.5703125), (' little', 10.515625), ('bit', 10.234375), (' mere', 10.0), (' special', 9.9140625)], 59: [(' actually', 14.8984375), (' much', 13.3046875), (' meant', 13.0546875), (' always', 12.3828125), (' simply', 11.921875)], 62: [(' Feb', 21.03125), (' Sept', 20.703125), (' March', 20.5625), (' Dec', 20.484375), (' Aug', 20.25)]}, 10: {6: [(' use', 12.1328125), (' fall', 11.859375), (' return', 11.703125), (' live', 11.40625), (' face', 11.265625)], 15: [(' participate', 9.8671875), (' embrace', 9.8203125), ('вици', 9.7578125), ('aus', 9.453125), (' fee', 9.21875)], 16: [(' anything', 17.390625), (' herself', 16.921875), (' himself', 16.859375), (' myself', 16.828125), (' yourself', 16.578125)], 44: [('meres', 8.640625), ('ulos', 8.546875), (' log', 8.3046875), (' Property', 8.078125), ('oze', 7.94921875)], 46: [(' unravel', 11.1796875), (' face', 10.75), (' straight', 9.4140625), (' resolve', 9.2109375), (' head', 9.1484375)], 58: [(' another', 9.5546875), ('ITES', 8.40625), (' mere', 8.359375), ('ikipedia', 7.87109375), ('PYG', 7.8046875)]}, 16: {6: [(' face', 14.0625), (' lead', 13.8984375), (' fall', 13.515625), (' turn', 13.2421875), (' play', 13.125)], 9: [('\\'?\"', 33.375), ('」', 30.453125), ('\\',\"', 29.921875), ('.\"]', 29.109375), ('\\'.\"', 29.078125)], 15: [(' deal', 11.609375), (' face', 11.21875), (' figure', 11.078125), (' solve', 10.609375), ('Read', 10.03125)], 34: [('oes', 9.7578125), ('好后', 8.421875), ('而生', 8.1796875), ('gler', 7.9453125), ('жител', 7.94140625)], 40: [('\\x94', 10.4140625), (\"?',\", 10.3828125), (\" ','\", 10.2734375), (' \\\\`', 10.1796875), (\" ',\", 9.984375)], 46: [('ude', 10.84375), ('жата', 10.375), ('grese', 9.890625), ('жене', 9.359375), ('UDE', 9.3515625)]}, 7: {7: [(' easy', 14.1484375), (' possible', 12.5234375), (' feasible', 12.0859375), (' common', 11.578125), (' difficult', 11.5078125)], 16: [('9', 14.7109375), ('3', 14.3046875), ('7', 13.25), (' yourself', 13.203125), ('5', 13.1875)], 22: [(' between', 18.921875), (' betwixt', 17.828125), (' towards', 17.8125), (' toward', 16.109375), (' across', 15.5703125)], 39: [(' present', 11.1015625), (' full', 10.6171875), (' curious', 10.25), (' supposed', 10.25), (' alive', 10.2421875)], 59: [(' actually', 13.6328125), (' always', 13.25), (' nothing', 12.5703125), (' now', 12.40625), (' often', 12.296875)], 62: [('Magent', 7.75), ('<?', 7.15625), ('<!', 6.703125), ('Strunz', 6.66015625), ('package', 6.6328125)]}, 15: {11: [(' leading', 10.5703125), (' hat', 10.5546875), (' ac', 10.1328125), (' activity', 10.109375), (' get', 9.9921875)], 12: [('uble', 10.34375), (' const', 9.2109375), (' int', 9.1484375), ('isk', 8.984375), ('elles', 8.90625)], 18: [(' down', 17.234375), (' DOWN', 14.2421875), ('down', 13.8671875), (' Down', 13.75), (' up', 13.7421875)], 24: [('0', 10.6015625), ('3', 10.4921875), ('9', 10.3515625), ('1', 10.2265625), ('5', 10.109375)], 50: [('�', 26.015625), ('�', 16.8125), ('�', 15.8125), ('全', 15.671875), ('�', 14.4296875)], 57: [('�', 13.25), ('�', 13.0234375), ('�', 12.78125), ('�', 12.2578125), (' type', 11.6875)]}, 2: {20: [(' UFC', 9.4921875), (' Resident', 8.0234375), (' Marvel', 7.81640625), (' MMA', 7.77734375), (' Wrest', 7.703125)], 22: [(' between', 16.1875), (' amongst', 13.1953125), (' across', 12.7578125), (' among', 12.703125), (' betwixt', 12.625)], 26: [('ist', 18.734375), ('ization', 16.75), ('ists', 16.515625), ('ize', 16.171875), ('isation', 14.515625)], 37: [(' means', 13.296875), (' Means', 11.328125), ('means', 11.1328125), (' depends', 11.0703125), (' exists', 9.8203125)], 43: [('iness', 12.3125), ('ware', 12.0390625), ('place', 11.765625), ('light', 11.609375), ('yard', 11.4453125)], 53: [(' condition', 9.1953125), (' barrier', 9.0703125), (' delay', 8.6328125), ('dea', 8.546875), (' wr', 8.3359375)]}}\n",
      "Shared expert predictions: [[('姚明', 10.5625), ('周杰伦', 10.3828125), ('鹿晗', 9.8671875), ('普洱茶', 9.78125), ('雷克萨斯', 9.4609375)], [(' to', 39.46875), (' you', 38.25), (' who', 38.03125), (' me', 37.90625), (' not', 37.71875)], [(' to', 30.171875), (' for', 29.890625), (',', 29.5625), (' and', 29.265625), (' in', 28.953125)], [(' to', 28.015625), (' I', 27.828125), (' as', 27.703125), (' in', 27.0), (' for', 26.53125)], [(',', 25.96875), (' ', 24.640625), ('.', 24.390625), ('-', 23.171875), (' and', 23.109375)], [('Strunz', 12.765625), ('widetext', 12.4609375), ('ollary', 12.2421875), ('colhead', 12.203125), ('spci', 12.15625)], [('0', 5.8984375), ('4', 5.63671875), ('1', 5.57421875), ('9', 5.53125), ('3', 5.53125)], [(',', 32.125), (' ', 31.203125), (' and', 29.609375), ('.', 29.265625), (' to', 29.171875)], [(' to', 20.765625), (' in', 20.421875), (' on', 20.359375), (' and', 20.21875), (' for', 20.1875)], [(',', 30.109375), (' and', 29.90625), (' ', 28.71875), (' of', 28.21875), ('.', 28.1875)], [(' long', 23.203125), (' re', 22.90625), (' to', 22.71875), (' a', 22.546875), (' on', 22.375)], [(' ', 29.65625), (' (', 27.703125), (' and', 26.9375), ('.', 26.375), (' to', 25.421875)], [(' ', 46.84375), (',', 46.34375), (' (', 43.5625), ('.', 42.84375), (' and', 41.25)], [(' ', 32.375), (',', 31.046875), (' to', 30.875), (' and', 30.078125), (' for', 29.125)], [(' en', 17.78125), (' real', 17.71875), (' fre', 17.328125), (' lo', 17.328125), (' type', 17.203125)], [(' ', 21.296875), (',', 20.46875), (' and', 19.828125), (' or', 19.0625), (' of', 19.0)], [(' san', 9.7109375), (' pe', 9.578125), (' vib', 9.5390625), (' en', 9.46875), (' dis', 9.453125)]]\n"
     ]
    }
   ],
   "source": [
    "# Access layer predictions\n",
    "for layer_idx, preds in analysis['layer_predictions'].items():\n",
    "    print(f\"Layer {layer_idx} predictions:\", preds)\n",
    "\n",
    "# Access MoE analysis\n",
    "for layer_idx, moe_data in analysis['moe_analysis'].items():\n",
    "    print(f\"\\nMoE Layer {layer_idx}:\")\n",
    "    print(\"Selected experts:\", moe_data['selected_experts'])\n",
    "    print(\"Expert weights:\", moe_data['expert_weights'])\n",
    "    print(\"Combined output tokens:\", moe_data['combined_output_tokens'])\n",
    "    print(\"Expert predictions by position:\", moe_data['expert_predictions_by_position'])\n",
    "    print(\"Shared expert predictions:\", moe_data['shared_expert_predictions'])"
   ]
  },
  {
   "cell_type": "code",
   "execution_count": null,
   "metadata": {},
   "outputs": [],
   "source": [
    "def get_layer_predictions_for_token(results: dict, layer_idx: int, token_pos: int) -> list:\n",
    "    # Ensure the layer exists in the results\n",
    "    if layer_idx not in results['layer_predictions']:\n",
    "        raise ValueError(f\"Layer {layer_idx} not found in the results.\")\n",
    "\n",
    "    # Get the layer predictions for the specified token position\n",
    "    layer_predictions = results['layer_predictions'][layer_idx][token_pos]\n",
    "    \n",
    "    # Return top 5 predictions\n",
    "    return layer_predictions[:5]\n",
    "\n",
    "def get_shared_expert_predictions_for_token(results: dict, layer_idx: int, token_pos: int) -> list:\n",
    "    # Ensure the layer exists in the results\n",
    "    if layer_idx not in results['moe_analysis']:\n",
    "        raise ValueError(f\"Layer {layer_idx} not found in the results.\")\n",
    "\n",
    "    # Get the MoE analysis for the specified layer\n",
    "    moe_analysis = results['moe_analysis'][layer_idx]\n",
    "\n",
    "    # Get the shared expert predictions for the specified token position\n",
    "    shared_predictions = moe_analysis['shared_expert_predictions'][token_pos]\n",
    "    \n",
    "    # Return top 5 predictions\n",
    "    return shared_predictions[:5]\n",
    "\n",
    "def get_expert_preds(results: dict, layer_idx: int, token_pos: int) -> list:\n",
    "    # Ensure the layer exists in the results\n",
    "    if layer_idx not in results['moe_analysis']:\n",
    "        raise ValueError(f\"Layer {layer_idx} not found in the MoE analysis results.\")\n",
    "        \n",
    "    # Get the MoE analysis for the specified layer\n",
    "    expert_preds = []\n",
    "    moe_analysis = results['moe_analysis'][layer_idx]\n",
    "    expert_predictions = moe_analysis['expert_predictions_by_position']\n",
    "    expert_toks = expert_predictions[token_pos]\n",
    "\n",
    "    for expert_idx, preds in expert_toks.items():\n",
    "        print(f'expert {expert_idx} : {preds}')\n",
    "        expert_preds.append((int(expert_idx), preds))\n",
    "\n",
    "    expert_preds = sorted(expert_preds, key=lambda x: x[0])\n",
    "        \n",
    "    return expert_preds"
   ]
  },
  {
   "cell_type": "code",
   "execution_count": 48,
   "metadata": {},
   "outputs": [],
   "source": [
    "def get_highest_pred(results: dict, model, tokenizer, layer_idx: int, token_pos: int, k: int = 5) -> list:\n",
    "    \"\"\"gets predictions from expert with highest weight after adding residual \"\"\"\n",
    "    # Ensure layer exists in results\n",
    "    if layer_idx not in results['moe_analysis']:\n",
    "        raise ValueError(f\"Layer {layer_idx} not found in the MoE analysis results.\")\n",
    "        \n",
    "    # Get MoE analysis for the layer\n",
    "    moe_analysis = results['moe_analysis'][layer_idx]\n",
    "    \n",
    "    # Get expert weights for this token\n",
    "    expert_weights = {}\n",
    "    selected_experts = moe_analysis['selected_experts'][token_pos]\n",
    "    expert_weights_list = moe_analysis['expert_weights'][token_pos]\n",
    "    \n",
    "    if isinstance(selected_experts, int):\n",
    "        # Handle case where only one expert is selected\n",
    "        expert_weights[selected_experts] = 1.0\n",
    "    else:\n",
    "        # Handle case where multiple experts are selected with weights\n",
    "        for expert_idx, weight in zip(selected_experts, expert_weights_list):\n",
    "            expert_weights[expert_idx] = weight\n",
    "                \n",
    "    # Find expert with highest weight\n",
    "    # max_weight_expert = max(expert_weights.items(), key=lambda x: x[1])[0]\n",
    "    max_weight_expert = sorted(expert_weights.items(), key=lambda x: x[1], reverse=True)[k][0]\n",
    "    print(f'max_weight_expert {max_weight_expert}')\n",
    "    \n",
    "    # Get hidden state from this expert\n",
    "    expert_hidden_state = moe_analysis['expert_hidden_states_by_position'][token_pos][max_weight_expert]['hidden_state']\n",
    "    \n",
    "    # Get residual stream\n",
    "    residual = post_attn_ln_inputs[layer_idx][-1][0][0][token_pos]\n",
    "    \n",
    "    # Convert expert hidden state to tensor if it's a list\n",
    "    if isinstance(expert_hidden_state, list):\n",
    "        expert_hidden_state = torch.tensor(expert_hidden_state, dtype=torch.float16)\n",
    "    \n",
    "    # Add residual to expert hidden state\n",
    "    combined = residual + expert_hidden_state\n",
    "    \n",
    "    # Get logits\n",
    "    logits = model.lm_head(combined.unsqueeze(0))\n",
    "    \n",
    "    # Get top 5 predictions\n",
    "    topk = torch.topk(logits[0], k=5)\n",
    "    scores = topk.values.tolist()\n",
    "    tokens = topk.indices.tolist()\n",
    "    \n",
    "    # Convert to token strings\n",
    "    predictions = []\n",
    "    for score, token in zip(scores, tokens):\n",
    "        token_str = tokenizer.decode(token)\n",
    "        predictions.append((token_str, score))\n",
    "        \n",
    "    return predictions"
   ]
  },
  {
   "cell_type": "code",
   "execution_count": 49,
   "metadata": {},
   "outputs": [
    {
     "name": "stdout",
     "output_type": "stream",
     "text": [
      "n : 17\n",
      "max_weight_expert 28\n"
     ]
    },
    {
     "data": {
      "text/plain": [
       "[('cades', 9.3671875),\n",
       " ('cesi', 9.1796875),\n",
       " ('iats', 8.7265625),\n",
       " ('roduction', 8.5625),\n",
       " ('apic', 7.921875)]"
      ]
     },
     "execution_count": 49,
     "metadata": {},
     "output_type": "execute_result"
    }
   ],
   "source": [
    "n = len(tokenizer.encode(prompt))\n",
    "print(f'n : {n}')\n",
    "layer_idx = 16\n",
    "token_pos = n-1\n",
    "k = 0 # which max expert to use\n",
    "get_highest_pred(analysis, model, tokenizer, layer_idx=layer_idx, token_pos=token_pos, k=k)"
   ]
  },
  {
   "cell_type": "code",
   "execution_count": 50,
   "metadata": {},
   "outputs": [
    {
     "name": "stdout",
     "output_type": "stream",
     "text": [
      "expert 13 : [(' application', 10.9140625), (' Application', 10.1171875), ('application', 9.28125), ('fono', 8.9453125), (' applications', 8.6171875)]\n",
      "expert 25 : [('BLOCK', 10.0234375), ('board', 9.9140625), (' Slip', 9.7578125), ('blocking', 9.03125), ('plum', 8.8671875)]\n",
      "expert 37 : [(' con', 20.609375), (' en', 13.453125), ('Con', 12.203125), (' Con', 12.1796875), ('con', 12.0625)]\n",
      "expert 39 : [('последствие', 11.8671875), (' had', 11.8515625), ('had', 11.4140625), ('Had', 10.78125), (' Кън', 10.7734375)]\n",
      "expert 51 : [('rob', 10.25), ('is', 9.8203125), (' reveals', 9.578125), ('каза', 9.3046875), (' tells', 9.2578125)]\n",
      "expert 52 : [('couple', 13.140625), (' couple', 12.6171875), ('sus', 10.8671875), ('íř', 10.4140625), ('openg', 10.1796875)]\n",
      "layer_preds : [('surround', 22.0), ('�乐', 21.875), ('TOOLSET', 18.96875), (' Surround', 18.546875), (' изчезване', 17.625)]\n",
      "shared_preds : [(',', 4.48046875), ('\\n', 3.87109375), (' ', 3.7890625), ('.', 3.24609375), (' -', 2.921875)]\n",
      "expert_preds : [(13, [(' application', 10.9140625), (' Application', 10.1171875), ('application', 9.28125), ('fono', 8.9453125), (' applications', 8.6171875)]), (25, [('BLOCK', 10.0234375), ('board', 9.9140625), (' Slip', 9.7578125), ('blocking', 9.03125), ('plum', 8.8671875)]), (37, [(' con', 20.609375), (' en', 13.453125), ('Con', 12.203125), (' Con', 12.1796875), ('con', 12.0625)]), (39, [('последствие', 11.8671875), (' had', 11.8515625), ('had', 11.4140625), ('Had', 10.78125), (' Кън', 10.7734375)]), (51, [('rob', 10.25), ('is', 9.8203125), (' reveals', 9.578125), ('каза', 9.3046875), (' tells', 9.2578125)]), (52, [('couple', 13.140625), (' couple', 12.6171875), ('sus', 10.8671875), ('íř', 10.4140625), ('openg', 10.1796875)])]\n"
     ]
    }
   ],
   "source": [
    "layer_idx = 25\n",
    "token_pos = 2\n",
    "layer_preds = get_layer_predictions_for_token(analysis, layer_idx=layer_idx, token_pos=token_pos)\n",
    "shared_preds = get_shared_expert_predictions_for_token(analysis, layer_idx=layer_idx, token_pos=token_pos)\n",
    "expert_preds = get_expert_preds(analysis, layer_idx=layer_idx, token_pos=token_pos)\n",
    "\n",
    "print(f'layer_preds : {layer_preds}')\n",
    "print(f'shared_preds : {shared_preds}')\n",
    "print(f'expert_preds : {expert_preds}')"
   ]
  },
  {
   "cell_type": "code",
   "execution_count": 51,
   "metadata": {},
   "outputs": [],
   "source": [
    "def create_logit_lens_viz(analysis_results, token_pos=0, layers_to_plot=[]):\n",
    "    \"\"\"Creates a modern heatmap visualization of predictions across model layers.\n",
    "    \n",
    "    Args:\n",
    "        analysis_results: Analysis results dictionary\n",
    "        token_pos: Position of token to analyze (default: 0)\n",
    "        layers_to_plot: List of layer numbers to plot. If empty, plots all layers (default: [])\n",
    "    \"\"\"\n",
    "    # [Previous initialization code remains the same until the trace creation]\n",
    "    n_layers = max(analysis_results['layer_predictions'].keys()) + 1\n",
    "    data = []\n",
    "    all_values = []\n",
    "    \n",
    "    # Process each layer\n",
    "    for layer in range(n_layers):\n",
    "        # Skip layers not in layers_to_plot if it's not empty\n",
    "        if layers_to_plot and layer not in layers_to_plot:\n",
    "            continue\n",
    "            \n",
    "        row = {\n",
    "            'layer': layer,\n",
    "            'l_out': None,\n",
    "            'expert_1': None,\n",
    "            'expert_2': None,\n",
    "            'expert_3': None,\n",
    "            'expert_4': None,\n",
    "            'expert_5': None,\n",
    "            'expert_6': None,\n",
    "            'shared': None,\n",
    "            'predictions': {\n",
    "                'l_out': [],\n",
    "                'expert_1': [],\n",
    "                'expert_2': [],\n",
    "                'expert_3': [],\n",
    "                'expert_4': [],\n",
    "                'expert_5': [],\n",
    "                'expert_6': [],\n",
    "                'shared': []\n",
    "            },\n",
    "            'expert_ids': {},\n",
    "            'top_tokens': {\n",
    "                'l_out': '',\n",
    "                'expert_1': '',\n",
    "                'expert_2': '',\n",
    "                'expert_3': '',\n",
    "                'expert_4': '',\n",
    "                'expert_5': '',\n",
    "                'expert_6': '',\n",
    "                'shared': ''\n",
    "            }\n",
    "        }\n",
    "        \n",
    "        # Layer predictions\n",
    "        layer_preds = get_layer_predictions_for_token(analysis_results, layer, token_pos)\n",
    "        if layer_preds:\n",
    "            row['l_out'] = layer_preds[0][1]\n",
    "            row['predictions']['l_out'] = layer_preds\n",
    "            row['top_tokens']['l_out'] = layer_preds[0][0]\n",
    "            all_values.append(layer_preds[0][1])\n",
    "        \n",
    "        # Expert predictions\n",
    "        if layer in analysis_results['moe_analysis']:\n",
    "            expert_preds = get_expert_preds(analysis_results, layer, token_pos)\n",
    "            moe_data = analysis_results['moe_analysis'][layer]\n",
    "            \n",
    "            expert_weights = {}\n",
    "            for pos_idx, experts in enumerate(moe_data['selected_experts']):\n",
    "                if pos_idx == token_pos:\n",
    "                    for expert_idx, weight in zip(experts, moe_data['expert_weights'][pos_idx]):\n",
    "                        expert_weights[expert_idx] = weight\n",
    "            \n",
    "            # Sort experts by their top logit value instead of weights\n",
    "            expert_logits = []\n",
    "            for expert_idx in expert_weights:\n",
    "                expert_data = next((p for e, p in expert_preds if e == expert_idx), None)\n",
    "                if expert_data and expert_data[0]:\n",
    "                    expert_logits.append((expert_idx, expert_data[0][1]))\n",
    "            \n",
    "            sorted_experts = sorted(expert_logits, key=lambda x: x[1], reverse=True)[:6]\n",
    "            \n",
    "            for i, (expert_idx, _) in enumerate(sorted_experts, 1):\n",
    "                expert_data = next((p for e, p in expert_preds if e == expert_idx), None)\n",
    "                if expert_data:\n",
    "                    expert_key = f'expert_{i}'\n",
    "                    row[expert_key] = expert_data[0][1]\n",
    "                    row['predictions'][expert_key] = expert_data\n",
    "                    row['expert_ids'][expert_key] = expert_idx\n",
    "                    row['top_tokens'][expert_key] = expert_data[0][0]\n",
    "                    all_values.append(expert_data[0][1])\n",
    "            \n",
    "            # Shared expert predictions\n",
    "            shared_preds = get_shared_expert_predictions_for_token(analysis_results, layer, token_pos)\n",
    "            if shared_preds:\n",
    "                row['shared'] = shared_preds[0][1]\n",
    "                row['predictions']['shared'] = shared_preds\n",
    "                row['top_tokens']['shared'] = shared_preds[0][0]\n",
    "                all_values.append(shared_preds[0][1])\n",
    "        \n",
    "        data.append(row)\n",
    "    \n",
    "    valid_values = [v for v in all_values if v is not None]\n",
    "    vmin = min(valid_values) if valid_values else 0\n",
    "    vmax = max(valid_values) if valid_values else 1\n",
    "    \n",
    "    fig = go.Figure()\n",
    "    \n",
    "    columns = ['l_out'] + [f'expert_{i}' for i in range(1, 7)] + ['shared']\n",
    "    x_positions = list(range(len(columns)))\n",
    "    \n",
    "    colorscale = [\n",
    "        [0, 'rgb(68,1,84)'],\n",
    "        [0.25, 'rgb(59,82,139)'],\n",
    "        [0.5, 'rgb(33,144,141)'],\n",
    "        [0.75, 'rgb(93,201,99)'],\n",
    "        [1, 'rgb(253,231,37)']\n",
    "    ]\n",
    "    \n",
    "    # Add background squares\n",
    "    for col, x_pos in zip(columns, x_positions):\n",
    "        values = [row[col] for row in data]\n",
    "        valid_values = [v if v is not None else float('nan') for v in values]\n",
    "        \n",
    "        hover_text = []\n",
    "        for i, row in enumerate(data):\n",
    "            preds = row['predictions'][col]\n",
    "            logit_value = row[col]\n",
    "            if preds:\n",
    "                pred_text = \"<br>\".join([f\"{token}: {score:.3f}\" for token, score in preds])\n",
    "                if col.startswith('expert_'):\n",
    "                    real_id = row['expert_ids'].get(col)\n",
    "                    hover_text.append(f\"Layer {row['layer']} expert {real_id} (logit: {logit_value:.3f}):<br>{pred_text}\")\n",
    "                else:\n",
    "                    hover_text.append(f\"Layer {row['layer']} {col} (logit: {logit_value:.3f}):<br>{pred_text}\")\n",
    "            else:\n",
    "                hover_text.append(f\"Layer {row['layer']} {col}:<br>No data\")\n",
    "\n",
    "        # Add background squares\n",
    "        fig.add_trace(go.Scatter(\n",
    "            x=[x_pos] * len(values),\n",
    "            y=list(range(len(values))),\n",
    "            mode='markers',\n",
    "            marker=dict(\n",
    "                size=50,\n",
    "                symbol='square',\n",
    "                color=valid_values,\n",
    "                colorscale=colorscale,\n",
    "                showscale=True if col == 'l_out' else False,\n",
    "                cmin=vmin,\n",
    "                cmax=vmax,\n",
    "                colorbar=dict(\n",
    "                    title='logit value',\n",
    "                    y=-0.15,  # Position below the plot\n",
    "                    orientation='h',\n",
    "                    titleside='right'\n",
    "                ) if col == 'l_out' else None,\n",
    "                line=dict(\n",
    "                    color='rgba(255,255,255,0.2)',\n",
    "                    width=1\n",
    "                )\n",
    "            ),\n",
    "            hovertext=hover_text,\n",
    "            hoverinfo='text',\n",
    "            showlegend=False\n",
    "        ))\n",
    "        \n",
    "        # Add expert IDs (top left)\n",
    "        text_values = []\n",
    "        text_positions = []\n",
    "        for i, row in enumerate(data):\n",
    "            if row[col] is not None:\n",
    "                if col.startswith('expert_'):\n",
    "                    text_values.append(str(row['expert_ids'].get(col, '')))\n",
    "                    text_positions.append([x_pos - 0.2, i + 0.2])  # Offset for top-left position\n",
    "        \n",
    "        if text_values:\n",
    "            fig.add_trace(go.Scatter(\n",
    "                x=[p[0] for p in text_positions],\n",
    "                y=[p[1] for p in text_positions],\n",
    "                mode='text',\n",
    "                text=text_values,\n",
    "                textposition='middle center',\n",
    "                textfont=dict(\n",
    "                    color='white',\n",
    "                    size=10\n",
    "                ),\n",
    "                hoverinfo='skip',\n",
    "                showlegend=False\n",
    "            ))\n",
    "        \n",
    "        # Add top tokens (center)\n",
    "        text_values = []\n",
    "        text_positions = []\n",
    "        text_colors = []\n",
    "        for i, row in enumerate(data):\n",
    "            if row[col] is not None:\n",
    "                text_values.append(row['top_tokens'][col])\n",
    "                text_positions.append([x_pos, i])\n",
    "                # Calculate normalized value between 0 and 1\n",
    "                normalized_value = (row[col] - vmin) / (vmax - vmin) if vmax != vmin else 0\n",
    "                # Use black text if normalized value is above 0.5 (50%)\n",
    "                text_colors.append('black' if normalized_value > 0.5 else 'white')\n",
    "        \n",
    "        if text_values:\n",
    "            for text, pos, color in zip(text_values, text_positions, text_colors):\n",
    "                fig.add_trace(go.Scatter(\n",
    "                    x=[pos[0]],\n",
    "                    y=[pos[1]],\n",
    "                    mode='text',\n",
    "                    text=[text],\n",
    "                    textposition='middle center',\n",
    "                    textfont=dict(\n",
    "                        color=color,\n",
    "                        size=10\n",
    "                    ),\n",
    "                    hoverinfo='skip',\n",
    "                    showlegend=False\n",
    "                ))\n",
    "    \n",
    "    # Calculate dimensions\n",
    "    cell_size = 50\n",
    "    plot_width = 800\n",
    "    plot_height = cell_size * len(data) * (plot_width / (cell_size * len(columns)))\n",
    "    \n",
    "    # Update layout\n",
    "    fig.update_layout(\n",
    "        title=dict(\n",
    "            text='Expert Contributions and Predictions',\n",
    "            x=0.5,\n",
    "            y=0.98,\n",
    "            xanchor='center',\n",
    "            yanchor='top',\n",
    "            font=dict(size=20, color='white')\n",
    "        ),\n",
    "        xaxis=dict(\n",
    "            ticktext=['l_out'] + [f'expert {i}' for i in range(1, 7)] + ['shared'],\n",
    "            tickvals=x_positions,\n",
    "            tickangle=0,\n",
    "            showgrid=False,\n",
    "            zeroline=False,\n",
    "            title='',\n",
    "            color='white',\n",
    "            range=[-0.5, len(columns) - 0.5],\n",
    "            scaleanchor='y',\n",
    "            scaleratio=1,\n",
    "            constrain='domain'\n",
    "        ),\n",
    "        yaxis=dict(\n",
    "            autorange='reversed',\n",
    "            showgrid=False,\n",
    "            zeroline=False,\n",
    "            title='Layer',\n",
    "            color='white',\n",
    "            range=[-0.5, len(data) - 0.5],\n",
    "            ticktext=[str(row['layer']) for row in data],\n",
    "            tickvals=list(range(len(data))),\n",
    "            constrain='domain'\n",
    "        ),\n",
    "        plot_bgcolor='rgb(17,17,17)',\n",
    "        paper_bgcolor='rgb(17,17,17)',\n",
    "        width=plot_width,\n",
    "        height=plot_height + 100,  # Added extra height for colorbar\n",
    "        margin=dict(l=50, r=50, t=100, b=100),  # Increased bottom margin\n",
    "        hovermode='closest'\n",
    "    )\n",
    "    \n",
    "    # Add subtle grid lines\n",
    "    fig.update_xaxes(showline=True, linewidth=1, linecolor='rgba(255,255,255,0.1)')\n",
    "    fig.update_yaxes(showline=True, linewidth=1, linecolor='rgba(255,255,255,0.1)')\n",
    "    \n",
    "    return fig"
   ]
  },
  {
   "cell_type": "code",
   "execution_count": 53,
   "metadata": {},
   "outputs": [
    {
     "name": "stdout",
     "output_type": "stream",
     "text": [
      "17\n",
      "expert 9 : [('emon', 8.7734375), ('铃', 8.75), ('�', 8.34375), (' ', 8.3359375), ('слу', 8.0703125)]\n",
      "expert 17 : [('okes', 9.0390625), ('ternoons', 8.875), ('ynam', 8.765625), ('aging', 8.6953125), (' succe', 8.671875)]\n",
      "expert 32 : [('�起', 7.0234375), ('古镇', 6.66796875), ('爆', 6.5390625), ('ackle', 6.33984375), ('erred', 5.74609375)]\n",
      "expert 33 : [('ascar', 9.8359375), (' Schwennicke', 8.9453125), (';->', 8.859375), ('рни', 8.828125), ('бора', 8.8046875)]\n",
      "expert 37 : [(' ', 12.0859375), (' A', 10.0625), ('辞', 8.53125), (' (', 8.3828125), ('_', 8.2890625)]\n",
      "expert 53 : [(' constel', 8.390625), ('och', 8.140625), ('斩', 7.85546875), (' Const', 7.61328125), ('бре', 7.56640625)]\n",
      "expert 5 : [('ivet', 10.5546875), ('lir', 9.296875), ('宜', 8.96875), ('hern', 8.5859375), ('enser', 8.5234375)]\n",
      "expert 13 : [('aculate', 9.0546875), ('riu', 8.65625), ('�', 8.5625), ('irmed', 8.4765625), ('letic', 8.2109375)]\n",
      "expert 16 : [('orra', 9.109375), (' expulsat', 8.8359375), ('iano', 8.828125), (' Tafel', 8.671875), ('ExternalTask', 8.59375)]\n",
      "expert 34 : [('竣', 9.8515625), ('ракия', 9.1328125), ('gica', 9.0859375), ('ulas', 9.046875), ('родна', 8.890625)]\n",
      "expert 45 : [('秩', 8.8046875), ('ondre', 8.703125), ('reta', 8.6953125), ('мата', 8.609375), ('�', 8.5703125)]\n",
      "expert 53 : [(' ръковод', 10.3828125), ('мова', 8.5625), (' administr', 8.1015625), ('Permalink', 7.97265625), (' всяко', 7.89453125)]\n",
      "expert 1 : [('eref', 8.3984375), ('chor', 7.87890625), ('凰', 7.8203125), ('stal', 7.58984375), ('炎', 7.53515625)]\n",
      "expert 10 : [('{.}', 12.1875), ('arton', 9.9453125), ('FIT', 9.2109375), ('скоро', 8.984375), (' restants', 8.7578125)]\n",
      "expert 16 : [('rill', 10.7109375), (' parch', 8.75), ('applications', 8.609375), ('oit', 8.2109375), ('редиземно', 8.171875)]\n",
      "expert 41 : [('ollary', 10.2890625), ('oldre', 9.375), ('crata', 8.9375), (' квалифика', 8.6328125), ('ffer', 8.546875)]\n",
      "expert 42 : [('{}_', 9.1953125), ('teo', 9.09375), ('olute', 8.859375), ('ecera', 8.84375), ('ieux', 8.84375)]\n",
      "expert 61 : [('entren', 10.59375), ('amina', 9.84375), ('terdam', 9.640625), ('aired', 9.3203125), ('vestre', 9.2421875)]\n",
      "expert 21 : [('ajut', 10.6875), ('ург', 10.234375), ('гри', 10.0546875), ('landa', 9.59375), ('хайд', 9.484375)]\n",
      "expert 22 : [('rize', 10.0859375), ('aptop', 8.90625), ('lemm', 8.7890625), ('urther', 8.7734375), (' sord', 8.7265625)]\n",
      "expert 31 : [('uda', 8.953125), (' Роман', 8.4140625), ('淡', 8.296875), (' rowspan', 8.28125), ('onte', 8.21875)]\n",
      "expert 34 : [('don', 9.421875), ('гава', 9.265625), ('line', 8.1015625), ('面的', 8.0234375), (' ×', 7.921875)]\n",
      "expert 55 : [('endre', 10.4609375), ('isphere', 8.90625), ('хите', 8.828125), ('cco', 8.796875), ('�', 8.7734375)]\n",
      "expert 60 : [(' pari', 8.6640625), ('anyol', 8.53125), (' falt', 8.40625), (' Рил', 8.203125), ('attery', 8.0625)]\n",
      "expert 1 : [(' themselves', 9.8515625), ('ird', 8.1484375), ('omer', 8.046875), ('ñ', 8.0390625), ('西班', 8.0)]\n",
      "expert 2 : [('��', 9.65625), ('��', 9.09375), ('ландия', 8.6640625), ('landa', 8.5), ('ipe', 8.359375)]\n",
      "expert 7 : [('pline', 10.0390625), ('YPT', 9.71875), ('当代', 9.3203125), ('=\"__', 9.203125), ('itious', 8.953125)]\n",
      "expert 9 : [('дата', 10.3515625), ('\\xa0g', 10.296875), ('urants', 9.1796875), ('ICON', 8.6640625), ('letic', 8.609375)]\n",
      "expert 11 : [('Македония', 11.4921875), (' Exteriors', 11.125), ('drom', 11.078125), ('acost', 11.03125), ('ouble', 10.65625)]\n",
      "expert 48 : [('0', 11.28125), ('4', 10.4765625), ('3', 10.46875), ('9', 10.453125), ('8', 10.40625)]\n",
      "expert 1 : [('тури', 9.4609375), ('nge', 8.1953125), ('\\xa0 ', 7.921875), ('顺', 7.890625), ('essin', 7.87109375)]\n",
      "expert 4 : [('�', 10.1640625), ('antime', 9.8046875), (' Alegre', 9.3203125), ('AMES', 9.140625), ('calde', 9.078125)]\n",
      "expert 12 : [('务', 8.3125), ('erk', 8.171875), ('rition', 7.9453125), ('ularity', 7.89453125), ('版权归', 7.8359375)]\n",
      "expert 28 : [('zos', 10.03125), ('稣', 9.6640625), ('utenberg', 9.2578125), ('itud', 9.1953125), (' Jehov', 8.90625)]\n",
      "expert 38 : [('穷', 8.21875), ('End', 8.171875), ('tub', 7.68359375), ('派', 7.66015625), ('orage', 7.60546875)]\n",
      "expert 51 : [(' d', 8.265625), ('lahoma', 8.265625), ('ланти', 8.1875), (' Sale', 8.0), ('}~(', 7.8828125)]\n",
      "expert 8 : [('sWith', 11.2890625), ('elist', 10.3046875), ('ITCH', 10.0625), ('yth', 9.4140625), ('terer', 9.390625)]\n",
      "expert 19 : [('пар', 10.453125), ('ritis', 8.484375), ('имо', 8.0), ('iber', 7.83203125), ('ricing', 7.78515625)]\n",
      "expert 24 : [(' Collection', 9.3671875), ('劲', 8.53125), ('过后', 8.4453125), ('OU', 8.125), ('莽', 8.0546875)]\n",
      "expert 41 : [('AudioEvent', 9.578125), ('=\"__', 9.53125), ('甲状', 9.078125), ('uresa', 9.0390625), ('值', 8.796875)]\n",
      "expert 49 : [('ersonals', 9.265625), ('leans', 8.953125), ('диен', 8.78125), ('enth', 8.59375), ('inu', 8.3984375)]\n",
      "expert 58 : [('rality', 9.8046875), (' Vicent', 9.71875), (' Seny', 9.40625), ('noalign', 9.1328125), ('CDATA', 9.0625)]\n",
      "expert 12 : [('r', 10.1875), ('ificada', 8.78125), ('覆', 8.7265625), ('�', 8.6015625), ('再看', 8.2421875)]\n",
      "expert 21 : [('tsd', 11.0703125), ('ouver', 10.2421875), (' [{\\\\', 10.109375), ('taf', 9.7265625), ('terday', 9.3046875)]\n",
      "expert 29 : [('hon', 9.4921875), ('interopRequireDefault', 8.9921875), ('iliari', 8.71875), ('NonUser', 8.578125), (' пен', 8.5625)]\n",
      "expert 53 : [('дже', 9.9609375), ('ugal', 9.3125), ('orneys', 8.9609375), ('的神', 8.5546875), ('onut', 8.5390625)]\n",
      "expert 54 : [('icolumn', 9.890625), (' Diari', 8.9609375), ('conomia', 8.9375), ('拜', 8.8828125), ('венту', 8.8515625)]\n",
      "expert 60 : [('硬的', 9.5234375), ('enyes', 9.4453125), ('bom', 8.90625), ('enge', 8.203125), (' Мартин', 8.1953125)]\n",
      "expert 5 : [('ith', 8.8828125), ('удо', 8.7265625), (' fabricar', 8.59375), (')_\\\\', 8.5234375), ('ards', 8.3125)]\n",
      "expert 13 : [('rfloor', 11.578125), ('pil', 9.5234375), ('рас', 9.4609375), ('lics', 9.390625), ('дн', 9.2578125)]\n",
      "expert 22 : [(' cartell', 10.078125), ('iber', 9.5), ('тин', 9.0859375), (' Carre', 8.84375), (' acons', 8.4453125)]\n",
      "expert 27 : [('nde', 10.1171875), (' Web', 9.3671875), ('abet', 8.9765625), ('NDER', 8.6015625), ('рт', 8.5390625)]\n",
      "expert 34 : [('aret', 9.1875), ('lop', 9.1640625), ('thing', 8.84375), ('screenshot', 8.75), ('ret', 8.71875)]\n",
      "expert 44 : [('oulders', 9.2578125), ('Cola', 7.6015625), ('ornia', 7.55078125), ('anques', 7.52734375), ('materials', 7.48828125)]\n",
      "expert 14 : [('atoris', 8.96875), ('undos', 8.8671875), ('Lan', 8.7421875), ('itats', 8.6875), ('Eqn', 8.5859375)]\n",
      "expert 15 : [('iores', 9.421875), ('hend', 8.7734375), ('tym', 8.7734375), (' --', 8.40625), ('render', 8.3984375)]\n",
      "expert 19 : [(' Cicer', 10.2734375), ('omor', 9.5), ('деля', 8.8671875), (' голе', 8.8671875), ('топ', 8.75)]\n",
      "expert 34 : [('mani', 9.2109375), ('rona', 9.0859375), ('ე�', 8.84375), ('POLICY', 8.828125), ('zk', 8.625)]\n",
      "expert 56 : [('element', 10.2421875), ('icle', 10.203125), ('icles', 9.71875), (' оку', 9.0546875), (' element', 8.40625)]\n",
      "expert 61 : [('ICA', 9.796875), ('袭', 8.328125), ('uat', 8.1640625), (' Lloc', 7.92578125), ('惜', 7.890625)]\n",
      "expert 19 : [('aching', 9.7421875), ('3', 9.46875), ('1', 9.265625), ('чини', 9.2578125), ('2', 9.015625)]\n",
      "expert 27 : [('ffi', 9.0859375), ('abras', 9.0703125), ('不长', 8.765625), ('供', 8.7578125), ('�', 8.7421875)]\n",
      "expert 32 : [('肯', 9.3828125), ('兰达', 8.859375), ('hire', 8.1640625), ('fono', 8.15625), ('locar', 8.140625)]\n",
      "expert 35 : [('稣', 10.515625), (' MERCHANTABILITY', 10.3203125), ('ugal', 9.6328125), ('rits', 9.4296875), ('rdia', 9.21875)]\n",
      "expert 59 : [(' tals', 9.2421875), ('ithium', 8.953125), (' andalus', 8.9140625), ('iami', 8.671875), ('sembl', 8.5859375)]\n",
      "expert 61 : [('7', 11.0234375), ('4', 9.8359375), ('拓', 9.4921875), ('1', 9.3515625), ('6', 9.203125)]\n",
      "expert 0 : [('或缺', 9.203125), ('mixin', 8.96875), ('уни', 8.453125), ('硬', 8.3359375), ('对方', 8.28125)]\n",
      "expert 8 : [('ilos', 9.3828125), (' aigu', 8.8125), (' [{\\\\', 8.4921875), (' perru', 8.328125), ('osed', 8.2265625)]\n",
      "expert 10 : [('гле', 11.09375), ('ockets', 10.171875), ('什么呢', 9.734375), ('про', 9.5234375), ('allel', 8.9765625)]\n",
      "expert 13 : [('ensed', 10.7578125), ('CLUD', 10.375), ('CodeAttribute', 10.203125), ('ICATION', 10.1640625), ('мври', 9.71875)]\n",
      "expert 34 : [('ivitat', 10.1953125), ('raments', 9.078125), ('ocal', 8.84375), ('umo', 8.46875), ('enga', 8.4375)]\n",
      "expert 39 : [('antro', 10.4375), ('owler', 9.4609375), ('alona', 9.3359375), ('INCT', 8.6953125), ('vous', 8.6640625)]\n",
      "expert 2 : [(' Syr', 8.125), ('тани', 7.921875), ('举', 7.84375), ('orio', 7.828125), (' stub', 7.48828125)]\n",
      "expert 19 : [('firstrow', 10.203125), ('萄', 9.875), ('topsp', 9.875), ('ης', 9.7890625), ('Thelia', 9.6484375)]\n",
      "expert 22 : [('ISD', 9.8984375), ('alto', 8.171875), ('zac', 7.59765625), ('писани', 7.5078125), ('Acc', 7.34765625)]\n",
      "expert 38 : [('pcies', 9.453125), ('invert', 9.265625), ('atre', 9.234375), ('外', 8.9296875), ('стига', 8.9140625)]\n",
      "expert 52 : [('hys', 10.046875), ('offee', 9.75), ('Landroid', 9.359375), ('cades', 9.2421875), ('фал', 9.2265625)]\n",
      "expert 60 : [('��', 9.0390625), ('ub', 8.703125), ('越好', 8.5546875), ('ubre', 8.3671875), ('oure', 8.265625)]\n",
      "expert 6 : [('0', 9.8984375), ('3', 9.625), ('位', 9.3984375), ('4', 9.28125), ('6', 8.890625)]\n",
      "expert 23 : [('вици', 8.90625), (' fall', 8.671875), ('above', 8.34375), (' Blockly', 8.0625), ('ndre', 8.0390625)]\n",
      "expert 43 : [('4', 11.3828125), ('6', 11.3046875), ('7', 11.2265625), ('5', 11.203125), ('3', 11.125)]\n",
      "expert 53 : [('2', 10.3203125), ('5', 9.578125), ('7', 9.4765625), ('9', 9.3125), (' agost', 8.9453125)]\n",
      "expert 59 : [('utt', 9.1171875), ('ote', 8.9453125), ('*', 8.546875), ('*$', 8.265625), (' contrari', 8.0859375)]\n",
      "expert 60 : [('9', 12.921875), ('8', 12.5546875), ('6', 12.1171875), ('7', 11.546875), ('2', 11.53125)]\n",
      "expert 4 : [('тро', 9.3046875), ('сер', 8.734375), (' ic', 8.5859375), (' Gen', 8.5078125), ('нии', 8.359375)]\n",
      "expert 18 : [('tega', 9.3359375), (' ,\\\\\\\\', 9.03125), ('Olot', 8.859375), ('axies', 8.71875), ('isSet', 8.703125)]\n",
      "expert 29 : [('cia', 8.625), ('wich', 8.5625), ('istocr', 8.2578125), ('ummy', 8.2109375), ('umed', 8.15625)]\n",
      "expert 34 : [('inol', 9.90625), ('鉴', 9.671875), ('口的', 9.1328125), ('тв', 8.6953125), ('iatrics', 8.546875)]\n",
      "expert 40 : [('abad', 9.6796875), ('ulus', 9.2890625), ('anges', 8.8515625), ('咬', 8.609375), ('ature', 8.296875)]\n",
      "expert 63 : [('�乐', 10.265625), ('rave', 9.5546875), ('wso', 9.046875), ('atable', 8.6640625), (' Prefect', 8.5234375)]\n",
      "expert 14 : [('�', 10.0703125), (' Guarant', 8.3515625), ('Sym', 7.9453125), (' Sym', 7.93359375), (' Guarantee', 7.89453125)]\n",
      "expert 16 : [('亥', 9.734375), (' =&', 9.1484375), ('сира', 8.890625), ('ymes', 8.8828125), ('вол', 8.6171875)]\n",
      "expert 28 : [('elin', 10.515625), ('el', 10.0546875), ('naire', 9.40625), ('率为', 8.7265625), ('eras', 8.6015625)]\n",
      "expert 41 : [('ately', 8.8515625), ('idding', 8.8125), ('itur', 8.765625), ('ostic', 8.6796875), ('inaire', 8.5390625)]\n",
      "expert 58 : [('oggle', 9.796875), ('just', 9.703125), ('ogg', 9.65625), ('vers', 9.640625), ('roe', 9.484375)]\n",
      "expert 59 : [('onar', 8.953125), (' Donat', 8.4921875), ('ъм', 7.96875), ('анти', 7.90625), ('ync', 7.7734375)]\n",
      "expert 1 : [('erning', 9.5859375), (' Лига', 9.53125), ('otine', 9.5), (' Тър', 9.2109375), ('etcher', 9.0234375)]\n",
      "expert 21 : [(' sense', 8.9375), ('isi', 8.6796875), (' Trig', 8.3125), (' subt', 7.9921875), ('��', 7.859375)]\n",
      "expert 27 : [(' тек', 8.890625), ('ULD', 8.6875), ('meu', 8.5546875), ('mxd', 8.4375), ('UID', 8.328125)]\n",
      "expert 31 : [('ourd', 10.0859375), ('ich', 9.0625), ('ictionary', 8.0703125), ('7', 7.57421875), ('uche', 7.53515625)]\n",
      "expert 47 : [('2', 11.5078125), ('5', 11.375), ('9', 11.3125), ('7', 11.3046875), ('8', 10.953125)]\n",
      "expert 58 : [('кло', 9.3984375), ('romatic', 9.3515625), ('inue', 9.1796875), ('Рим', 8.5390625), ('лю', 8.453125)]\n",
      "expert 0 : [('ifici', 11.0703125), ('тн', 9.015625), ('acis', 8.890625), ('opter', 8.5390625), (' notice', 8.46875)]\n",
      "expert 34 : [(' Spani', 9.9453125), ('drm', 9.5546875), (' search', 8.96875), ('шо', 8.8671875), ('搜索', 8.8515625)]\n",
      "expert 35 : [('igh', 8.5625), ('verage', 8.3671875), (' past', 8.3046875), ('IGH', 8.1328125), ('鄂', 8.125)]\n",
      "expert 39 : [('pcs', 9.734375), ('PC', 9.25), ('elf', 9.109375), (' Computers', 9.0), (' proxim', 8.9296875)]\n",
      "expert 41 : [('gex', 8.671875), ('miser', 8.6328125), ('usts', 8.5859375), ('geois', 8.5625), ('钝', 8.4921875)]\n",
      "expert 51 : [('course', 15.5234375), (' course', 15.3359375), ('Course', 11.9453125), ('courses', 11.046875), (' Course', 10.9453125)]\n",
      "expert 6 : [('3', 9.8125), ('�', 9.703125), ('1', 9.59375), ('5', 9.484375), ('7', 9.421875)]\n",
      "expert 18 : [('meant', 10.8203125), ('itha', 9.5078125), ('海的', 9.453125), (' meant', 9.296875), ('inars', 9.1796875)]\n",
      "expert 26 : [(' editat', 10.6328125), ('}]$.', 10.6171875), ('escor', 10.28125), ('iret', 10.0390625), ('колкото', 9.984375)]\n",
      "expert 36 : [(' a', 10.4375), ('\\ta', 9.359375), ('速', 8.59375), ('много', 8.5546875), ('tico', 8.2578125)]\n",
      "expert 52 : [('�乐', 10.4453125), ('houn', 9.859375), ('anu', 9.25), ('iad', 8.6953125), ('ometria', 8.453125)]\n",
      "expert 56 : [('当地人', 9.5703125), ('лищ', 8.84375), ('ител', 8.7734375), ('opian', 8.7421875), ('当地', 8.34375)]\n",
      "expert 1 : [('odo', 9.71875), ('erm', 8.890625), ('erme', 8.84375), ('eval', 8.796875), ('isolated', 8.328125)]\n",
      "expert 28 : [(' multip', 10.3046875), ('multip', 10.2109375), ('MULT', 9.7265625), (' divid', 9.15625), ('division', 8.8671875)]\n",
      "expert 29 : [(' Ob', 10.6875), ('STON', 9.46875), ('ooth', 9.40625), ('щи', 9.1328125), ('Ob', 8.875)]\n",
      "expert 30 : [('set', 9.28125), ('id', 9.2265625), ('cos', 9.0546875), ('еку', 9.046875), ('ide', 8.65625)]\n",
      "expert 42 : [('mable', 11.1796875), ('enso', 10.5078125), ('ests', 9.7578125), ('ersen', 9.671875), (' тъм', 9.5078125)]\n",
      "expert 49 : [('дел', 12.2265625), ('riend', 11.3984375), ('cida', 9.4296875), ('onite', 9.140625), ('WOR', 9.03125)]\n",
      "expert 3 : [('decomp', 10.5625), ('Dec', 10.546875), ('解', 10.1328125), ('unlock', 9.984375), ('два', 9.796875)]\n",
      "expert 16 : [('heses', 11.265625), ('}$~\\\\', 10.859375), ('childnode', 10.609375), ('anzas', 10.453125), ('aquen', 9.3125)]\n",
      "expert 19 : [('leave', 10.59375), ('ixent', 9.203125), (' vora', 8.65625), ('verick', 8.59375), ('subNav', 8.484375)]\n",
      "expert 33 : [('deep', 14.9765625), (' deep', 14.9375), ('Deep', 13.90625), ('thick', 12.3828125), ('цки', 11.6875)]\n",
      "expert 48 : [(' aspect', 8.578125), ('vena', 8.25), ('ROUGH', 8.015625), (' proporcional', 7.87890625), (' Wa', 7.796875)]\n",
      "expert 58 : [('mighty', 9.8828125), (' Pallars', 9.6640625), ('NDER', 9.5390625), ('ictionary', 9.4765625), ('aische', 9.4375)]\n",
      "expert 12 : [('oldre', 9.9921875), ('have', 9.8984375), ('tids', 9.7734375), ('malink', 9.4296875), ('HAVE', 9.2109375)]\n",
      "expert 17 : [('�', 10.9296875), ('reci', 9.9921875), ('ivi', 9.390625), ('pless', 8.96875), (' profane', 8.8671875)]\n",
      "expert 25 : [('tel', 9.1015625), ('анс', 8.6796875), ('辛', 8.6640625), ('�', 8.4921875), ('cnics', 8.21875)]\n",
      "expert 41 : [(' doin', 9.1015625), (' do', 8.640625), ('inet', 8.15625), (' motor', 8.1328125), (' become', 8.0625)]\n",
      "expert 57 : [('方', 9.9140625), ('韦', 9.1171875), (' reader', 9.03125), ('兑', 8.953125), ('emas', 8.6484375)]\n",
      "expert 61 : [(' v', 9.59375), ('нден', 9.1171875), ('\\xa0v', 8.9140625), ('spic', 8.890625), ('ielder', 8.1328125)]\n",
      "expert 7 : [('ocada', 10.1015625), ('rena', 8.6953125), ('дъ', 8.4375), ('andal', 7.9609375), (' Sy', 7.7734375)]\n",
      "expert 10 : [('Guany', 9.890625), ('ExternalTask', 9.6953125), ('fono', 9.609375), ('AudioEvent', 9.5625), (' pass', 9.5546875)]\n",
      "expert 13 : [('osemite', 11.1640625), ('assada', 10.375), ('gena', 9.9140625), ('ortality', 9.859375), ('рира', 9.796875)]\n",
      "expert 24 : [('indows', 10.640625), ('oken', 10.1171875), (' mode', 9.578125), ('acias', 9.375), ('soever', 9.2109375)]\n",
      "expert 35 : [('archar', 9.5859375), ('�', 8.9140625), (' Gra', 8.3046875), ('格', 8.296875), ('legr', 8.1171875)]\n",
      "expert 49 : [('全区', 8.8984375), ('ornament', 8.8828125), ('Transc', 8.671875), ('WIRE', 8.4375), ('骨�', 8.3125)]\n",
      "expert 12 : [(' D', 10.3515625), ('erno', 9.75), ('MLE', 9.1875), ('brig', 8.8984375), (' Mor', 8.859375)]\n",
      "expert 28 : [('lost', 10.2578125), ('rans', 9.4140625), ('Vtbl', 9.140625), (' lost', 8.9609375), ('andest', 8.90625)]\n",
      "expert 29 : [('/', 9.0078125), ('ens', 8.8984375), ('сло', 8.5546875), (' Leg', 8.4765625), ('联系电话', 8.3046875)]\n",
      "expert 41 : [('own', 9.484375), ('的方法', 9.4765625), ('ксон', 9.3203125), (' sub', 8.890625), (' сте', 8.7265625)]\n",
      "expert 49 : [(' involving', 10.34375), ('ostes', 8.2421875), (' involved', 7.80078125), (' жа', 7.68359375), (' мер', 7.6015625)]\n",
      "expert 62 : [('fix', 17.59375), ('Fix', 16.96875), ('FIX', 16.125), (' fixing', 15.9296875), (' fixed', 15.6328125)]\n",
      "expert 3 : [('IPU', 9.5625), ('idden', 9.3671875), ('idat', 8.84375), ('ру', 8.640625), ('↳', 8.4921875)]\n",
      "expert 14 : [('уни', 12.2265625), ('etext', 11.2734375), (' местообита', 9.6953125), ('дето', 9.609375), ('�', 9.59375)]\n",
      "expert 35 : [(' Методий', 12.7890625), ('auty', 12.515625), ('вайг', 12.125), ('Населени', 11.7890625), ('мисъл', 11.5234375)]\n",
      "expert 36 : [(' let', 9.0390625), ('Read', 8.4296875), ('ринг', 8.421875), ('NOSCRIPT', 8.0703125), ('司', 7.91796875)]\n",
      "expert 41 : [(' be', 10.375), ('ariidae', 9.2109375), ('axies', 8.3984375), ('不分', 8.3203125), ('commends', 8.296875)]\n",
      "expert 53 : [('тари', 9.5625), ('lip', 9.4765625), ('马自', 9.25), (' SUCH', 9.1953125), ('apar', 9.1875)]\n",
      "expert 0 : [(' make', 16.171875), ('make', 13.4296875), (' Make', 13.359375), (' makes', 13.0546875), ('Make', 11.9375)]\n",
      "expert 13 : [(' winds', 10.3984375), (' shapes', 10.234375), (' amounts', 10.1484375), (' unf', 10.09375), (' cre', 9.6796875)]\n",
      "expert 19 : [(' Y', 11.1171875), (' B', 9.5859375), (' y', 9.4375), ('YE', 9.0), ('THIS', 8.875)]\n",
      "expert 30 : [('学习', 9.765625), (' buck', 9.0), ('的学习', 8.9140625), ('Tables', 8.8203125), ('学习和', 8.3671875)]\n",
      "expert 48 : [('ghed', 9.375), ('клопе', 9.03125), ('ilee', 8.1328125), ('onite', 7.890625), (' среща', 7.87109375)]\n",
      "expert 60 : [('ong', 9.4296875), ('ypes', 9.375), ('ingles', 8.4765625), ('imon', 8.3515625), ('组合', 8.203125)]\n",
      "expert 6 : [(' face', 14.0625), (' lead', 13.8984375), (' fall', 13.515625), (' turn', 13.2421875), (' play', 13.125)]\n",
      "expert 9 : [('\\'?\"', 33.375), ('」', 30.453125), ('\\',\"', 29.921875), ('.\"]', 29.109375), ('\\'.\"', 29.078125)]\n",
      "expert 15 : [(' deal', 11.609375), (' face', 11.21875), (' figure', 11.078125), (' solve', 10.609375), ('Read', 10.03125)]\n",
      "expert 34 : [('oes', 9.7578125), ('好后', 8.421875), ('而生', 8.1796875), ('gler', 7.9453125), ('жител', 7.94140625)]\n",
      "expert 40 : [('\\x94', 10.4140625), (\"?',\", 10.3828125), (\" ','\", 10.2734375), (' \\\\`', 10.1796875), (\" ',\", 9.984375)]\n",
      "expert 46 : [('ude', 10.84375), ('жата', 10.375), ('grese', 9.890625), ('жене', 9.359375), ('UDE', 9.3515625)]\n"
     ]
    },
    {
     "data": {
      "application/vnd.plotly.v1+json": {
       "config": {
        "plotlyServerURL": "https://plot.ly"
       },
       "data": [
        {
         "hoverinfo": "text",
         "hovertext": [
          "Layer 0 l_out (logit: 0.657):<br>充分利用: 0.657<br>建立起: 0.619<br>不断提升: 0.616<br>最大限度: 0.616<br>深入推进: 0.565",
          "Layer 1 l_out (logit: 0.620):<br>充分利用: 0.620<br>最大限度: 0.610<br>沉迷: 0.571<br>芸: 0.568<br> N: 0.559",
          "Layer 2 l_out (logit: 0.782):<br>enser: 0.782<br>spaces: 0.732<br> OK: 0.732<br>芸: 0.729<br>充分利用: 0.723",
          "Layer 3 l_out (logit: 1.578):<br>enser: 1.578<br>ucode: 1.114<br>дените: 1.095<br>ACA: 1.093<br> IT: 1.093",
          "Layer 4 l_out (logit: 1.464):<br>enser: 1.464<br>iats: 1.458<br>тера: 1.441<br>дените: 1.437<br>лени: 1.423",
          "Layer 5 l_out (logit: 2.154):<br> Stammtafeln: 2.154<br>кога: 2.117<br>обла: 2.082<br>免费咨询电话: 1.982<br>чния: 1.982",
          "Layer 6 l_out (logit: 2.264):<br>peak: 2.264<br>lesa: 2.123<br> q: 1.960<br>Br: 1.948<br>脱: 1.915",
          "Layer 7 l_out (logit: 2.947):<br>elist: 2.947<br>кога: 2.893<br>�乐: 2.818<br>�: 2.799<br>usages: 2.678",
          "Layer 8 l_out (logit: 3.830):<br>elist: 3.830<br>terer: 3.656<br>ionals: 3.541<br>usages: 3.514<br>emale: 3.453",
          "Layer 9 l_out (logit: 4.156):<br>elist: 4.156<br>emale: 3.791<br>usages: 3.723<br>ложен: 3.650<br>джиев: 3.646",
          "Layer 10 l_out (logit: 4.641):<br>elist: 4.641<br>astern: 4.547<br>iats: 4.527<br>emale: 4.316<br>empl: 4.309",
          "Layer 11 l_out (logit: 5.570):<br>astern: 5.570<br>iats: 5.527<br>ctree: 5.039<br> caiguda: 4.891<br>elist: 4.828",
          "Layer 12 l_out (logit: 5.699):<br>iats: 5.699<br>illator: 5.324<br>tring: 5.152<br>astern: 5.148<br>脱: 5.141",
          "Layer 13 l_out (logit: 7.824):<br>cades: 7.824<br>elist: 7.602<br>ARRANT: 7.453<br>}$~\\: 7.387<br>cesi: 7.242",
          "Layer 14 l_out (logit: 7.496):<br>elist: 7.496<br>roduction: 7.254<br>cesi: 7.137<br>iats: 7.059<br>ReadWriteAccess: 7.020",
          "Layer 15 l_out (logit: 9.570):<br>cades: 9.570<br>cesi: 8.984<br>iats: 8.914<br>roduction: 8.422<br>apic: 8.266",
          "Layer 16 l_out (logit: 8.359):<br>cades: 8.359<br>INGLE: 7.984<br>bolt: 7.844<br>iats: 7.844<br>roduction: 7.707",
          "Layer 17 l_out (logit: 9.258):<br>INGLE: 9.258<br>apic: 8.891<br>rix: 8.523<br>acular: 8.258<br>cesi: 8.227",
          "Layer 18 l_out (logit: 9.164):<br>登: 9.164<br>享受: 9.148<br>apic: 8.609<br>experience: 8.352<br>cesi: 8.219",
          "Layer 19 l_out (logit: 10.359):<br>享受: 10.359<br>登: 10.312<br>apic: 9.664<br>昧: 9.078<br>roduction: 8.727",
          "Layer 20 l_out (logit: 11.133):<br>experience: 11.133<br>登: 10.945<br>Experience: 10.359<br> experience: 9.922<br>昧: 9.875",
          "Layer 21 l_out (logit: 12.141):<br>experience: 12.141<br>Experience: 11.477<br>�: 11.281<br> experience: 11.148<br>登: 11.125",
          "Layer 22 l_out (logit: 12.586):<br>Experience: 12.586<br>ibol: 12.469<br>experience: 12.375<br>登: 11.633<br> anomenades: 11.531",
          "Layer 23 l_out (logit: 14.086):<br>Experience: 14.086<br>experience: 13.875<br>ILED: 12.477<br> Experience: 12.359<br>ilies: 12.312",
          "Layer 24 l_out (logit: 16.266):<br>experience: 16.266<br>Experience: 15.742<br> Experience: 14.258<br> experience: 14.023<br>ILED: 13.484",
          "Layer 25 l_out (logit: 15.875):<br>experience: 15.875<br>经验的: 15.031<br>体验: 14.336<br>Experience: 14.312<br> experience: 14.203",
          "Layer 26 l_out (logit: 24.578):<br> experience: 24.578<br>经验的: 19.938<br> Experience: 19.750<br>\n: 19.375<br>experience: 19.172",
          "Layer 27 l_out (logit: 35.250):<br> experience: 35.250<br> experiences: 25.562<br>\n: 25.547<br> Experience: 25.094<br> encounter: 24.453"
         ],
         "marker": {
          "cmax": 35.25,
          "cmin": 0.06951904296875,
          "color": [
           0.65673828125,
           0.61962890625,
           0.7822265625,
           1.578125,
           1.4638671875,
           2.154296875,
           2.263671875,
           2.947265625,
           3.830078125,
           4.15625,
           4.640625,
           5.5703125,
           5.69921875,
           7.82421875,
           7.49609375,
           9.5703125,
           8.359375,
           9.2578125,
           9.1640625,
           10.359375,
           11.1328125,
           12.140625,
           12.5859375,
           14.0859375,
           16.265625,
           15.875,
           24.578125,
           35.25
          ],
          "colorbar": {
           "orientation": "h",
           "title": {
            "side": "right",
            "text": "logit value"
           },
           "y": -0.15
          },
          "colorscale": [
           [
            0,
            "rgb(68,1,84)"
           ],
           [
            0.25,
            "rgb(59,82,139)"
           ],
           [
            0.5,
            "rgb(33,144,141)"
           ],
           [
            0.75,
            "rgb(93,201,99)"
           ],
           [
            1,
            "rgb(253,231,37)"
           ]
          ],
          "line": {
           "color": "rgba(255,255,255,0.2)",
           "width": 1
          },
          "showscale": true,
          "size": 50,
          "symbol": "square"
         },
         "mode": "markers",
         "showlegend": false,
         "type": "scatter",
         "x": [
          0,
          0,
          0,
          0,
          0,
          0,
          0,
          0,
          0,
          0,
          0,
          0,
          0,
          0,
          0,
          0,
          0,
          0,
          0,
          0,
          0,
          0,
          0,
          0,
          0,
          0,
          0,
          0
         ],
         "y": [
          0,
          1,
          2,
          3,
          4,
          5,
          6,
          7,
          8,
          9,
          10,
          11,
          12,
          13,
          14,
          15,
          16,
          17,
          18,
          19,
          20,
          21,
          22,
          23,
          24,
          25,
          26,
          27
         ]
        },
        {
         "hoverinfo": "skip",
         "mode": "text",
         "showlegend": false,
         "text": [
          "充分利用"
         ],
         "textfont": {
          "color": "white",
          "size": 10
         },
         "textposition": "middle center",
         "type": "scatter",
         "x": [
          0
         ],
         "y": [
          0
         ]
        },
        {
         "hoverinfo": "skip",
         "mode": "text",
         "showlegend": false,
         "text": [
          "充分利用"
         ],
         "textfont": {
          "color": "white",
          "size": 10
         },
         "textposition": "middle center",
         "type": "scatter",
         "x": [
          0
         ],
         "y": [
          1
         ]
        },
        {
         "hoverinfo": "skip",
         "mode": "text",
         "showlegend": false,
         "text": [
          "enser"
         ],
         "textfont": {
          "color": "white",
          "size": 10
         },
         "textposition": "middle center",
         "type": "scatter",
         "x": [
          0
         ],
         "y": [
          2
         ]
        },
        {
         "hoverinfo": "skip",
         "mode": "text",
         "showlegend": false,
         "text": [
          "enser"
         ],
         "textfont": {
          "color": "white",
          "size": 10
         },
         "textposition": "middle center",
         "type": "scatter",
         "x": [
          0
         ],
         "y": [
          3
         ]
        },
        {
         "hoverinfo": "skip",
         "mode": "text",
         "showlegend": false,
         "text": [
          "enser"
         ],
         "textfont": {
          "color": "white",
          "size": 10
         },
         "textposition": "middle center",
         "type": "scatter",
         "x": [
          0
         ],
         "y": [
          4
         ]
        },
        {
         "hoverinfo": "skip",
         "mode": "text",
         "showlegend": false,
         "text": [
          " Stammtafeln"
         ],
         "textfont": {
          "color": "white",
          "size": 10
         },
         "textposition": "middle center",
         "type": "scatter",
         "x": [
          0
         ],
         "y": [
          5
         ]
        },
        {
         "hoverinfo": "skip",
         "mode": "text",
         "showlegend": false,
         "text": [
          "peak"
         ],
         "textfont": {
          "color": "white",
          "size": 10
         },
         "textposition": "middle center",
         "type": "scatter",
         "x": [
          0
         ],
         "y": [
          6
         ]
        },
        {
         "hoverinfo": "skip",
         "mode": "text",
         "showlegend": false,
         "text": [
          "elist"
         ],
         "textfont": {
          "color": "white",
          "size": 10
         },
         "textposition": "middle center",
         "type": "scatter",
         "x": [
          0
         ],
         "y": [
          7
         ]
        },
        {
         "hoverinfo": "skip",
         "mode": "text",
         "showlegend": false,
         "text": [
          "elist"
         ],
         "textfont": {
          "color": "white",
          "size": 10
         },
         "textposition": "middle center",
         "type": "scatter",
         "x": [
          0
         ],
         "y": [
          8
         ]
        },
        {
         "hoverinfo": "skip",
         "mode": "text",
         "showlegend": false,
         "text": [
          "elist"
         ],
         "textfont": {
          "color": "white",
          "size": 10
         },
         "textposition": "middle center",
         "type": "scatter",
         "x": [
          0
         ],
         "y": [
          9
         ]
        },
        {
         "hoverinfo": "skip",
         "mode": "text",
         "showlegend": false,
         "text": [
          "elist"
         ],
         "textfont": {
          "color": "white",
          "size": 10
         },
         "textposition": "middle center",
         "type": "scatter",
         "x": [
          0
         ],
         "y": [
          10
         ]
        },
        {
         "hoverinfo": "skip",
         "mode": "text",
         "showlegend": false,
         "text": [
          "astern"
         ],
         "textfont": {
          "color": "white",
          "size": 10
         },
         "textposition": "middle center",
         "type": "scatter",
         "x": [
          0
         ],
         "y": [
          11
         ]
        },
        {
         "hoverinfo": "skip",
         "mode": "text",
         "showlegend": false,
         "text": [
          "iats"
         ],
         "textfont": {
          "color": "white",
          "size": 10
         },
         "textposition": "middle center",
         "type": "scatter",
         "x": [
          0
         ],
         "y": [
          12
         ]
        },
        {
         "hoverinfo": "skip",
         "mode": "text",
         "showlegend": false,
         "text": [
          "cades"
         ],
         "textfont": {
          "color": "white",
          "size": 10
         },
         "textposition": "middle center",
         "type": "scatter",
         "x": [
          0
         ],
         "y": [
          13
         ]
        },
        {
         "hoverinfo": "skip",
         "mode": "text",
         "showlegend": false,
         "text": [
          "elist"
         ],
         "textfont": {
          "color": "white",
          "size": 10
         },
         "textposition": "middle center",
         "type": "scatter",
         "x": [
          0
         ],
         "y": [
          14
         ]
        },
        {
         "hoverinfo": "skip",
         "mode": "text",
         "showlegend": false,
         "text": [
          "cades"
         ],
         "textfont": {
          "color": "white",
          "size": 10
         },
         "textposition": "middle center",
         "type": "scatter",
         "x": [
          0
         ],
         "y": [
          15
         ]
        },
        {
         "hoverinfo": "skip",
         "mode": "text",
         "showlegend": false,
         "text": [
          "cades"
         ],
         "textfont": {
          "color": "white",
          "size": 10
         },
         "textposition": "middle center",
         "type": "scatter",
         "x": [
          0
         ],
         "y": [
          16
         ]
        },
        {
         "hoverinfo": "skip",
         "mode": "text",
         "showlegend": false,
         "text": [
          "INGLE"
         ],
         "textfont": {
          "color": "white",
          "size": 10
         },
         "textposition": "middle center",
         "type": "scatter",
         "x": [
          0
         ],
         "y": [
          17
         ]
        },
        {
         "hoverinfo": "skip",
         "mode": "text",
         "showlegend": false,
         "text": [
          "登"
         ],
         "textfont": {
          "color": "white",
          "size": 10
         },
         "textposition": "middle center",
         "type": "scatter",
         "x": [
          0
         ],
         "y": [
          18
         ]
        },
        {
         "hoverinfo": "skip",
         "mode": "text",
         "showlegend": false,
         "text": [
          "享受"
         ],
         "textfont": {
          "color": "white",
          "size": 10
         },
         "textposition": "middle center",
         "type": "scatter",
         "x": [
          0
         ],
         "y": [
          19
         ]
        },
        {
         "hoverinfo": "skip",
         "mode": "text",
         "showlegend": false,
         "text": [
          "experience"
         ],
         "textfont": {
          "color": "white",
          "size": 10
         },
         "textposition": "middle center",
         "type": "scatter",
         "x": [
          0
         ],
         "y": [
          20
         ]
        },
        {
         "hoverinfo": "skip",
         "mode": "text",
         "showlegend": false,
         "text": [
          "experience"
         ],
         "textfont": {
          "color": "white",
          "size": 10
         },
         "textposition": "middle center",
         "type": "scatter",
         "x": [
          0
         ],
         "y": [
          21
         ]
        },
        {
         "hoverinfo": "skip",
         "mode": "text",
         "showlegend": false,
         "text": [
          "Experience"
         ],
         "textfont": {
          "color": "white",
          "size": 10
         },
         "textposition": "middle center",
         "type": "scatter",
         "x": [
          0
         ],
         "y": [
          22
         ]
        },
        {
         "hoverinfo": "skip",
         "mode": "text",
         "showlegend": false,
         "text": [
          "Experience"
         ],
         "textfont": {
          "color": "white",
          "size": 10
         },
         "textposition": "middle center",
         "type": "scatter",
         "x": [
          0
         ],
         "y": [
          23
         ]
        },
        {
         "hoverinfo": "skip",
         "mode": "text",
         "showlegend": false,
         "text": [
          "experience"
         ],
         "textfont": {
          "color": "white",
          "size": 10
         },
         "textposition": "middle center",
         "type": "scatter",
         "x": [
          0
         ],
         "y": [
          24
         ]
        },
        {
         "hoverinfo": "skip",
         "mode": "text",
         "showlegend": false,
         "text": [
          "experience"
         ],
         "textfont": {
          "color": "white",
          "size": 10
         },
         "textposition": "middle center",
         "type": "scatter",
         "x": [
          0
         ],
         "y": [
          25
         ]
        },
        {
         "hoverinfo": "skip",
         "mode": "text",
         "showlegend": false,
         "text": [
          " experience"
         ],
         "textfont": {
          "color": "black",
          "size": 10
         },
         "textposition": "middle center",
         "type": "scatter",
         "x": [
          0
         ],
         "y": [
          26
         ]
        },
        {
         "hoverinfo": "skip",
         "mode": "text",
         "showlegend": false,
         "text": [
          " experience"
         ],
         "textfont": {
          "color": "black",
          "size": 10
         },
         "textposition": "middle center",
         "type": "scatter",
         "x": [
          0
         ],
         "y": [
          27
         ]
        },
        {
         "hoverinfo": "text",
         "hovertext": [
          "Layer 0 expert_1:<br>No data",
          "Layer 1 expert 37 (logit: 12.086):<br> : 12.086<br> A: 10.062<br>辞: 8.531<br> (: 8.383<br>_: 8.289",
          "Layer 2 expert 5 (logit: 10.555):<br>ivet: 10.555<br>lir: 9.297<br>宜: 8.969<br>hern: 8.586<br>enser: 8.523",
          "Layer 3 expert 10 (logit: 12.188):<br>{.}: 12.188<br>arton: 9.945<br>FIT: 9.211<br>скоро: 8.984<br> restants: 8.758",
          "Layer 4 expert 21 (logit: 10.688):<br>ajut: 10.688<br>ург: 10.234<br>гри: 10.055<br>landa: 9.594<br>хайд: 9.484",
          "Layer 5 expert 11 (logit: 11.492):<br>Македония: 11.492<br> Exteriors: 11.125<br>drom: 11.078<br>acost: 11.031<br>ouble: 10.656",
          "Layer 6 expert 4 (logit: 10.164):<br>�: 10.164<br>antime: 9.805<br> Alegre: 9.320<br>AMES: 9.141<br>calde: 9.078",
          "Layer 7 expert 8 (logit: 11.289):<br>sWith: 11.289<br>elist: 10.305<br>ITCH: 10.062<br>yth: 9.414<br>terer: 9.391",
          "Layer 8 expert 21 (logit: 11.070):<br>tsd: 11.070<br>ouver: 10.242<br> [{\\: 10.109<br>taf: 9.727<br>terday: 9.305",
          "Layer 9 expert 13 (logit: 11.578):<br>rfloor: 11.578<br>pil: 9.523<br>рас: 9.461<br>lics: 9.391<br>дн: 9.258",
          "Layer 10 expert 19 (logit: 10.273):<br> Cicer: 10.273<br>omor: 9.500<br>деля: 8.867<br> голе: 8.867<br>топ: 8.750",
          "Layer 11 expert 61 (logit: 11.023):<br>7: 11.023<br>4: 9.836<br>拓: 9.492<br>1: 9.352<br>6: 9.203",
          "Layer 12 expert 10 (logit: 11.094):<br>гле: 11.094<br>ockets: 10.172<br>什么呢: 9.734<br>про: 9.523<br>allel: 8.977",
          "Layer 13 expert 19 (logit: 10.203):<br>firstrow: 10.203<br>萄: 9.875<br>topsp: 9.875<br>ης: 9.789<br>Thelia: 9.648",
          "Layer 14 expert 60 (logit: 12.922):<br>9: 12.922<br>8: 12.555<br>6: 12.117<br>7: 11.547<br>2: 11.531",
          "Layer 15 expert 63 (logit: 10.266):<br>�乐: 10.266<br>rave: 9.555<br>wso: 9.047<br>atable: 8.664<br> Prefect: 8.523",
          "Layer 16 expert 28 (logit: 10.516):<br>elin: 10.516<br>el: 10.055<br>naire: 9.406<br>率为: 8.727<br>eras: 8.602",
          "Layer 17 expert 47 (logit: 11.508):<br>2: 11.508<br>5: 11.375<br>9: 11.312<br>7: 11.305<br>8: 10.953",
          "Layer 18 expert 51 (logit: 15.523):<br>course: 15.523<br> course: 15.336<br>Course: 11.945<br>courses: 11.047<br> Course: 10.945",
          "Layer 19 expert 18 (logit: 10.820):<br>meant: 10.820<br>itha: 9.508<br>海的: 9.453<br> meant: 9.297<br>inars: 9.180",
          "Layer 20 expert 49 (logit: 12.227):<br>дел: 12.227<br>riend: 11.398<br>cida: 9.430<br>onite: 9.141<br>WOR: 9.031",
          "Layer 21 expert 33 (logit: 14.977):<br>deep: 14.977<br> deep: 14.938<br>Deep: 13.906<br>thick: 12.383<br>цки: 11.688",
          "Layer 22 expert 17 (logit: 10.930):<br>�: 10.930<br>reci: 9.992<br>ivi: 9.391<br>pless: 8.969<br> profane: 8.867",
          "Layer 23 expert 13 (logit: 11.164):<br>osemite: 11.164<br>assada: 10.375<br>gena: 9.914<br>ortality: 9.859<br>рира: 9.797",
          "Layer 24 expert 62 (logit: 17.594):<br>fix: 17.594<br>Fix: 16.969<br>FIX: 16.125<br> fixing: 15.930<br> fixed: 15.633",
          "Layer 25 expert 35 (logit: 12.789):<br> Методий: 12.789<br>auty: 12.516<br>вайг: 12.125<br>Населени: 11.789<br>мисъл: 11.523",
          "Layer 26 expert 0 (logit: 16.172):<br> make: 16.172<br>make: 13.430<br> Make: 13.359<br> makes: 13.055<br>Make: 11.938",
          "Layer 27 expert 9 (logit: 33.375):<br>'?\": 33.375<br>」: 30.453<br>',\": 29.922<br>.\"]: 29.109<br>'.\": 29.078"
         ],
         "marker": {
          "cmax": 35.25,
          "cmin": 0.06951904296875,
          "color": [
           null,
           12.0859375,
           10.5546875,
           12.1875,
           10.6875,
           11.4921875,
           10.1640625,
           11.2890625,
           11.0703125,
           11.578125,
           10.2734375,
           11.0234375,
           11.09375,
           10.203125,
           12.921875,
           10.265625,
           10.515625,
           11.5078125,
           15.5234375,
           10.8203125,
           12.2265625,
           14.9765625,
           10.9296875,
           11.1640625,
           17.59375,
           12.7890625,
           16.171875,
           33.375
          ],
          "colorscale": [
           [
            0,
            "rgb(68,1,84)"
           ],
           [
            0.25,
            "rgb(59,82,139)"
           ],
           [
            0.5,
            "rgb(33,144,141)"
           ],
           [
            0.75,
            "rgb(93,201,99)"
           ],
           [
            1,
            "rgb(253,231,37)"
           ]
          ],
          "line": {
           "color": "rgba(255,255,255,0.2)",
           "width": 1
          },
          "showscale": false,
          "size": 50,
          "symbol": "square"
         },
         "mode": "markers",
         "showlegend": false,
         "type": "scatter",
         "x": [
          1,
          1,
          1,
          1,
          1,
          1,
          1,
          1,
          1,
          1,
          1,
          1,
          1,
          1,
          1,
          1,
          1,
          1,
          1,
          1,
          1,
          1,
          1,
          1,
          1,
          1,
          1,
          1
         ],
         "y": [
          0,
          1,
          2,
          3,
          4,
          5,
          6,
          7,
          8,
          9,
          10,
          11,
          12,
          13,
          14,
          15,
          16,
          17,
          18,
          19,
          20,
          21,
          22,
          23,
          24,
          25,
          26,
          27
         ]
        },
        {
         "hoverinfo": "skip",
         "mode": "text",
         "showlegend": false,
         "text": [
          "37",
          "5",
          "10",
          "21",
          "11",
          "4",
          "8",
          "21",
          "13",
          "19",
          "61",
          "10",
          "19",
          "60",
          "63",
          "28",
          "47",
          "51",
          "18",
          "49",
          "33",
          "17",
          "13",
          "62",
          "35",
          "0",
          "9"
         ],
         "textfont": {
          "color": "white",
          "size": 10
         },
         "textposition": "middle center",
         "type": "scatter",
         "x": [
          0.8,
          0.8,
          0.8,
          0.8,
          0.8,
          0.8,
          0.8,
          0.8,
          0.8,
          0.8,
          0.8,
          0.8,
          0.8,
          0.8,
          0.8,
          0.8,
          0.8,
          0.8,
          0.8,
          0.8,
          0.8,
          0.8,
          0.8,
          0.8,
          0.8,
          0.8,
          0.8
         ],
         "y": [
          1.2,
          2.2,
          3.2,
          4.2,
          5.2,
          6.2,
          7.2,
          8.2,
          9.2,
          10.2,
          11.2,
          12.2,
          13.2,
          14.2,
          15.2,
          16.2,
          17.2,
          18.2,
          19.2,
          20.2,
          21.2,
          22.2,
          23.2,
          24.2,
          25.2,
          26.2,
          27.2
         ]
        },
        {
         "hoverinfo": "skip",
         "mode": "text",
         "showlegend": false,
         "text": [
          " "
         ],
         "textfont": {
          "color": "white",
          "size": 10
         },
         "textposition": "middle center",
         "type": "scatter",
         "x": [
          1
         ],
         "y": [
          1
         ]
        },
        {
         "hoverinfo": "skip",
         "mode": "text",
         "showlegend": false,
         "text": [
          "ivet"
         ],
         "textfont": {
          "color": "white",
          "size": 10
         },
         "textposition": "middle center",
         "type": "scatter",
         "x": [
          1
         ],
         "y": [
          2
         ]
        },
        {
         "hoverinfo": "skip",
         "mode": "text",
         "showlegend": false,
         "text": [
          "{.}"
         ],
         "textfont": {
          "color": "white",
          "size": 10
         },
         "textposition": "middle center",
         "type": "scatter",
         "x": [
          1
         ],
         "y": [
          3
         ]
        },
        {
         "hoverinfo": "skip",
         "mode": "text",
         "showlegend": false,
         "text": [
          "ajut"
         ],
         "textfont": {
          "color": "white",
          "size": 10
         },
         "textposition": "middle center",
         "type": "scatter",
         "x": [
          1
         ],
         "y": [
          4
         ]
        },
        {
         "hoverinfo": "skip",
         "mode": "text",
         "showlegend": false,
         "text": [
          "Македония"
         ],
         "textfont": {
          "color": "white",
          "size": 10
         },
         "textposition": "middle center",
         "type": "scatter",
         "x": [
          1
         ],
         "y": [
          5
         ]
        },
        {
         "hoverinfo": "skip",
         "mode": "text",
         "showlegend": false,
         "text": [
          "�"
         ],
         "textfont": {
          "color": "white",
          "size": 10
         },
         "textposition": "middle center",
         "type": "scatter",
         "x": [
          1
         ],
         "y": [
          6
         ]
        },
        {
         "hoverinfo": "skip",
         "mode": "text",
         "showlegend": false,
         "text": [
          "sWith"
         ],
         "textfont": {
          "color": "white",
          "size": 10
         },
         "textposition": "middle center",
         "type": "scatter",
         "x": [
          1
         ],
         "y": [
          7
         ]
        },
        {
         "hoverinfo": "skip",
         "mode": "text",
         "showlegend": false,
         "text": [
          "tsd"
         ],
         "textfont": {
          "color": "white",
          "size": 10
         },
         "textposition": "middle center",
         "type": "scatter",
         "x": [
          1
         ],
         "y": [
          8
         ]
        },
        {
         "hoverinfo": "skip",
         "mode": "text",
         "showlegend": false,
         "text": [
          "rfloor"
         ],
         "textfont": {
          "color": "white",
          "size": 10
         },
         "textposition": "middle center",
         "type": "scatter",
         "x": [
          1
         ],
         "y": [
          9
         ]
        },
        {
         "hoverinfo": "skip",
         "mode": "text",
         "showlegend": false,
         "text": [
          " Cicer"
         ],
         "textfont": {
          "color": "white",
          "size": 10
         },
         "textposition": "middle center",
         "type": "scatter",
         "x": [
          1
         ],
         "y": [
          10
         ]
        },
        {
         "hoverinfo": "skip",
         "mode": "text",
         "showlegend": false,
         "text": [
          "7"
         ],
         "textfont": {
          "color": "white",
          "size": 10
         },
         "textposition": "middle center",
         "type": "scatter",
         "x": [
          1
         ],
         "y": [
          11
         ]
        },
        {
         "hoverinfo": "skip",
         "mode": "text",
         "showlegend": false,
         "text": [
          "гле"
         ],
         "textfont": {
          "color": "white",
          "size": 10
         },
         "textposition": "middle center",
         "type": "scatter",
         "x": [
          1
         ],
         "y": [
          12
         ]
        },
        {
         "hoverinfo": "skip",
         "mode": "text",
         "showlegend": false,
         "text": [
          "firstrow"
         ],
         "textfont": {
          "color": "white",
          "size": 10
         },
         "textposition": "middle center",
         "type": "scatter",
         "x": [
          1
         ],
         "y": [
          13
         ]
        },
        {
         "hoverinfo": "skip",
         "mode": "text",
         "showlegend": false,
         "text": [
          "9"
         ],
         "textfont": {
          "color": "white",
          "size": 10
         },
         "textposition": "middle center",
         "type": "scatter",
         "x": [
          1
         ],
         "y": [
          14
         ]
        },
        {
         "hoverinfo": "skip",
         "mode": "text",
         "showlegend": false,
         "text": [
          "�乐"
         ],
         "textfont": {
          "color": "white",
          "size": 10
         },
         "textposition": "middle center",
         "type": "scatter",
         "x": [
          1
         ],
         "y": [
          15
         ]
        },
        {
         "hoverinfo": "skip",
         "mode": "text",
         "showlegend": false,
         "text": [
          "elin"
         ],
         "textfont": {
          "color": "white",
          "size": 10
         },
         "textposition": "middle center",
         "type": "scatter",
         "x": [
          1
         ],
         "y": [
          16
         ]
        },
        {
         "hoverinfo": "skip",
         "mode": "text",
         "showlegend": false,
         "text": [
          "2"
         ],
         "textfont": {
          "color": "white",
          "size": 10
         },
         "textposition": "middle center",
         "type": "scatter",
         "x": [
          1
         ],
         "y": [
          17
         ]
        },
        {
         "hoverinfo": "skip",
         "mode": "text",
         "showlegend": false,
         "text": [
          "course"
         ],
         "textfont": {
          "color": "white",
          "size": 10
         },
         "textposition": "middle center",
         "type": "scatter",
         "x": [
          1
         ],
         "y": [
          18
         ]
        },
        {
         "hoverinfo": "skip",
         "mode": "text",
         "showlegend": false,
         "text": [
          "meant"
         ],
         "textfont": {
          "color": "white",
          "size": 10
         },
         "textposition": "middle center",
         "type": "scatter",
         "x": [
          1
         ],
         "y": [
          19
         ]
        },
        {
         "hoverinfo": "skip",
         "mode": "text",
         "showlegend": false,
         "text": [
          "дел"
         ],
         "textfont": {
          "color": "white",
          "size": 10
         },
         "textposition": "middle center",
         "type": "scatter",
         "x": [
          1
         ],
         "y": [
          20
         ]
        },
        {
         "hoverinfo": "skip",
         "mode": "text",
         "showlegend": false,
         "text": [
          "deep"
         ],
         "textfont": {
          "color": "white",
          "size": 10
         },
         "textposition": "middle center",
         "type": "scatter",
         "x": [
          1
         ],
         "y": [
          21
         ]
        },
        {
         "hoverinfo": "skip",
         "mode": "text",
         "showlegend": false,
         "text": [
          "�"
         ],
         "textfont": {
          "color": "white",
          "size": 10
         },
         "textposition": "middle center",
         "type": "scatter",
         "x": [
          1
         ],
         "y": [
          22
         ]
        },
        {
         "hoverinfo": "skip",
         "mode": "text",
         "showlegend": false,
         "text": [
          "osemite"
         ],
         "textfont": {
          "color": "white",
          "size": 10
         },
         "textposition": "middle center",
         "type": "scatter",
         "x": [
          1
         ],
         "y": [
          23
         ]
        },
        {
         "hoverinfo": "skip",
         "mode": "text",
         "showlegend": false,
         "text": [
          "fix"
         ],
         "textfont": {
          "color": "white",
          "size": 10
         },
         "textposition": "middle center",
         "type": "scatter",
         "x": [
          1
         ],
         "y": [
          24
         ]
        },
        {
         "hoverinfo": "skip",
         "mode": "text",
         "showlegend": false,
         "text": [
          " Методий"
         ],
         "textfont": {
          "color": "white",
          "size": 10
         },
         "textposition": "middle center",
         "type": "scatter",
         "x": [
          1
         ],
         "y": [
          25
         ]
        },
        {
         "hoverinfo": "skip",
         "mode": "text",
         "showlegend": false,
         "text": [
          " make"
         ],
         "textfont": {
          "color": "white",
          "size": 10
         },
         "textposition": "middle center",
         "type": "scatter",
         "x": [
          1
         ],
         "y": [
          26
         ]
        },
        {
         "hoverinfo": "skip",
         "mode": "text",
         "showlegend": false,
         "text": [
          "'?\""
         ],
         "textfont": {
          "color": "black",
          "size": 10
         },
         "textposition": "middle center",
         "type": "scatter",
         "x": [
          1
         ],
         "y": [
          27
         ]
        },
        {
         "hoverinfo": "text",
         "hovertext": [
          "Layer 0 expert_2:<br>No data",
          "Layer 1 expert 33 (logit: 9.836):<br>ascar: 9.836<br> Schwennicke: 8.945<br>;->: 8.859<br>рни: 8.828<br>бора: 8.805",
          "Layer 2 expert 53 (logit: 10.383):<br> ръковод: 10.383<br>мова: 8.562<br> administr: 8.102<br>Permalink: 7.973<br> всяко: 7.895",
          "Layer 3 expert 16 (logit: 10.711):<br>rill: 10.711<br> parch: 8.750<br>applications: 8.609<br>oit: 8.211<br>редиземно: 8.172",
          "Layer 4 expert 55 (logit: 10.461):<br>endre: 10.461<br>isphere: 8.906<br>хите: 8.828<br>cco: 8.797<br>�: 8.773",
          "Layer 5 expert 48 (logit: 11.281):<br>0: 11.281<br>4: 10.477<br>3: 10.469<br>9: 10.453<br>8: 10.406",
          "Layer 6 expert 28 (logit: 10.031):<br>zos: 10.031<br>稣: 9.664<br>utenberg: 9.258<br>itud: 9.195<br> Jehov: 8.906",
          "Layer 7 expert 19 (logit: 10.453):<br>пар: 10.453<br>ritis: 8.484<br>имо: 8.000<br>iber: 7.832<br>ricing: 7.785",
          "Layer 8 expert 12 (logit: 10.188):<br>r: 10.188<br>ificada: 8.781<br>覆: 8.727<br>�: 8.602<br>再看: 8.242",
          "Layer 9 expert 27 (logit: 10.117):<br>nde: 10.117<br> Web: 9.367<br>abet: 8.977<br>NDER: 8.602<br>рт: 8.539",
          "Layer 10 expert 56 (logit: 10.242):<br>element: 10.242<br>icle: 10.203<br>icles: 9.719<br> оку: 9.055<br> element: 8.406",
          "Layer 11 expert 35 (logit: 10.516):<br>稣: 10.516<br> MERCHANTABILITY: 10.320<br>ugal: 9.633<br>rits: 9.430<br>rdia: 9.219",
          "Layer 12 expert 13 (logit: 10.758):<br>ensed: 10.758<br>CLUD: 10.375<br>CodeAttribute: 10.203<br>ICATION: 10.164<br>мври: 9.719",
          "Layer 13 expert 52 (logit: 10.047):<br>hys: 10.047<br>offee: 9.750<br>Landroid: 9.359<br>cades: 9.242<br>фал: 9.227",
          "Layer 14 expert 43 (logit: 11.383):<br>4: 11.383<br>6: 11.305<br>7: 11.227<br>5: 11.203<br>3: 11.125",
          "Layer 15 expert 34 (logit: 9.906):<br>inol: 9.906<br>鉴: 9.672<br>口的: 9.133<br>тв: 8.695<br>iatrics: 8.547",
          "Layer 16 expert 14 (logit: 10.070):<br>�: 10.070<br> Guarant: 8.352<br>Sym: 7.945<br> Sym: 7.934<br> Guarantee: 7.895",
          "Layer 17 expert 31 (logit: 10.086):<br>ourd: 10.086<br>ich: 9.062<br>ictionary: 8.070<br>7: 7.574<br>uche: 7.535",
          "Layer 18 expert 0 (logit: 11.070):<br>ifici: 11.070<br>тн: 9.016<br>acis: 8.891<br>opter: 8.539<br> notice: 8.469",
          "Layer 19 expert 26 (logit: 10.633):<br> editat: 10.633<br>}]$.: 10.617<br>escor: 10.281<br>iret: 10.039<br>колкото: 9.984",
          "Layer 20 expert 42 (logit: 11.180):<br>mable: 11.180<br>enso: 10.508<br>ests: 9.758<br>ersen: 9.672<br> тъм: 9.508",
          "Layer 21 expert 16 (logit: 11.266):<br>heses: 11.266<br>}$~\\: 10.859<br>childnode: 10.609<br>anzas: 10.453<br>aquen: 9.312",
          "Layer 22 expert 12 (logit: 9.992):<br>oldre: 9.992<br>have: 9.898<br>tids: 9.773<br>malink: 9.430<br>HAVE: 9.211",
          "Layer 23 expert 24 (logit: 10.641):<br>indows: 10.641<br>oken: 10.117<br> mode: 9.578<br>acias: 9.375<br>soever: 9.211",
          "Layer 24 expert 12 (logit: 10.352):<br> D: 10.352<br>erno: 9.750<br>MLE: 9.188<br>brig: 8.898<br> Mor: 8.859",
          "Layer 25 expert 14 (logit: 12.227):<br>уни: 12.227<br>etext: 11.273<br> местообита: 9.695<br>дето: 9.609<br>�: 9.594",
          "Layer 26 expert 19 (logit: 11.117):<br> Y: 11.117<br> B: 9.586<br> y: 9.438<br>YE: 9.000<br>THIS: 8.875",
          "Layer 27 expert 6 (logit: 14.062):<br> face: 14.062<br> lead: 13.898<br> fall: 13.516<br> turn: 13.242<br> play: 13.125"
         ],
         "marker": {
          "cmax": 35.25,
          "cmin": 0.06951904296875,
          "color": [
           null,
           9.8359375,
           10.3828125,
           10.7109375,
           10.4609375,
           11.28125,
           10.03125,
           10.453125,
           10.1875,
           10.1171875,
           10.2421875,
           10.515625,
           10.7578125,
           10.046875,
           11.3828125,
           9.90625,
           10.0703125,
           10.0859375,
           11.0703125,
           10.6328125,
           11.1796875,
           11.265625,
           9.9921875,
           10.640625,
           10.3515625,
           12.2265625,
           11.1171875,
           14.0625
          ],
          "colorscale": [
           [
            0,
            "rgb(68,1,84)"
           ],
           [
            0.25,
            "rgb(59,82,139)"
           ],
           [
            0.5,
            "rgb(33,144,141)"
           ],
           [
            0.75,
            "rgb(93,201,99)"
           ],
           [
            1,
            "rgb(253,231,37)"
           ]
          ],
          "line": {
           "color": "rgba(255,255,255,0.2)",
           "width": 1
          },
          "showscale": false,
          "size": 50,
          "symbol": "square"
         },
         "mode": "markers",
         "showlegend": false,
         "type": "scatter",
         "x": [
          2,
          2,
          2,
          2,
          2,
          2,
          2,
          2,
          2,
          2,
          2,
          2,
          2,
          2,
          2,
          2,
          2,
          2,
          2,
          2,
          2,
          2,
          2,
          2,
          2,
          2,
          2,
          2
         ],
         "y": [
          0,
          1,
          2,
          3,
          4,
          5,
          6,
          7,
          8,
          9,
          10,
          11,
          12,
          13,
          14,
          15,
          16,
          17,
          18,
          19,
          20,
          21,
          22,
          23,
          24,
          25,
          26,
          27
         ]
        },
        {
         "hoverinfo": "skip",
         "mode": "text",
         "showlegend": false,
         "text": [
          "33",
          "53",
          "16",
          "55",
          "48",
          "28",
          "19",
          "12",
          "27",
          "56",
          "35",
          "13",
          "52",
          "43",
          "34",
          "14",
          "31",
          "0",
          "26",
          "42",
          "16",
          "12",
          "24",
          "12",
          "14",
          "19",
          "6"
         ],
         "textfont": {
          "color": "white",
          "size": 10
         },
         "textposition": "middle center",
         "type": "scatter",
         "x": [
          1.8,
          1.8,
          1.8,
          1.8,
          1.8,
          1.8,
          1.8,
          1.8,
          1.8,
          1.8,
          1.8,
          1.8,
          1.8,
          1.8,
          1.8,
          1.8,
          1.8,
          1.8,
          1.8,
          1.8,
          1.8,
          1.8,
          1.8,
          1.8,
          1.8,
          1.8,
          1.8
         ],
         "y": [
          1.2,
          2.2,
          3.2,
          4.2,
          5.2,
          6.2,
          7.2,
          8.2,
          9.2,
          10.2,
          11.2,
          12.2,
          13.2,
          14.2,
          15.2,
          16.2,
          17.2,
          18.2,
          19.2,
          20.2,
          21.2,
          22.2,
          23.2,
          24.2,
          25.2,
          26.2,
          27.2
         ]
        },
        {
         "hoverinfo": "skip",
         "mode": "text",
         "showlegend": false,
         "text": [
          "ascar"
         ],
         "textfont": {
          "color": "white",
          "size": 10
         },
         "textposition": "middle center",
         "type": "scatter",
         "x": [
          2
         ],
         "y": [
          1
         ]
        },
        {
         "hoverinfo": "skip",
         "mode": "text",
         "showlegend": false,
         "text": [
          " ръковод"
         ],
         "textfont": {
          "color": "white",
          "size": 10
         },
         "textposition": "middle center",
         "type": "scatter",
         "x": [
          2
         ],
         "y": [
          2
         ]
        },
        {
         "hoverinfo": "skip",
         "mode": "text",
         "showlegend": false,
         "text": [
          "rill"
         ],
         "textfont": {
          "color": "white",
          "size": 10
         },
         "textposition": "middle center",
         "type": "scatter",
         "x": [
          2
         ],
         "y": [
          3
         ]
        },
        {
         "hoverinfo": "skip",
         "mode": "text",
         "showlegend": false,
         "text": [
          "endre"
         ],
         "textfont": {
          "color": "white",
          "size": 10
         },
         "textposition": "middle center",
         "type": "scatter",
         "x": [
          2
         ],
         "y": [
          4
         ]
        },
        {
         "hoverinfo": "skip",
         "mode": "text",
         "showlegend": false,
         "text": [
          "0"
         ],
         "textfont": {
          "color": "white",
          "size": 10
         },
         "textposition": "middle center",
         "type": "scatter",
         "x": [
          2
         ],
         "y": [
          5
         ]
        },
        {
         "hoverinfo": "skip",
         "mode": "text",
         "showlegend": false,
         "text": [
          "zos"
         ],
         "textfont": {
          "color": "white",
          "size": 10
         },
         "textposition": "middle center",
         "type": "scatter",
         "x": [
          2
         ],
         "y": [
          6
         ]
        },
        {
         "hoverinfo": "skip",
         "mode": "text",
         "showlegend": false,
         "text": [
          "пар"
         ],
         "textfont": {
          "color": "white",
          "size": 10
         },
         "textposition": "middle center",
         "type": "scatter",
         "x": [
          2
         ],
         "y": [
          7
         ]
        },
        {
         "hoverinfo": "skip",
         "mode": "text",
         "showlegend": false,
         "text": [
          "r"
         ],
         "textfont": {
          "color": "white",
          "size": 10
         },
         "textposition": "middle center",
         "type": "scatter",
         "x": [
          2
         ],
         "y": [
          8
         ]
        },
        {
         "hoverinfo": "skip",
         "mode": "text",
         "showlegend": false,
         "text": [
          "nde"
         ],
         "textfont": {
          "color": "white",
          "size": 10
         },
         "textposition": "middle center",
         "type": "scatter",
         "x": [
          2
         ],
         "y": [
          9
         ]
        },
        {
         "hoverinfo": "skip",
         "mode": "text",
         "showlegend": false,
         "text": [
          "element"
         ],
         "textfont": {
          "color": "white",
          "size": 10
         },
         "textposition": "middle center",
         "type": "scatter",
         "x": [
          2
         ],
         "y": [
          10
         ]
        },
        {
         "hoverinfo": "skip",
         "mode": "text",
         "showlegend": false,
         "text": [
          "稣"
         ],
         "textfont": {
          "color": "white",
          "size": 10
         },
         "textposition": "middle center",
         "type": "scatter",
         "x": [
          2
         ],
         "y": [
          11
         ]
        },
        {
         "hoverinfo": "skip",
         "mode": "text",
         "showlegend": false,
         "text": [
          "ensed"
         ],
         "textfont": {
          "color": "white",
          "size": 10
         },
         "textposition": "middle center",
         "type": "scatter",
         "x": [
          2
         ],
         "y": [
          12
         ]
        },
        {
         "hoverinfo": "skip",
         "mode": "text",
         "showlegend": false,
         "text": [
          "hys"
         ],
         "textfont": {
          "color": "white",
          "size": 10
         },
         "textposition": "middle center",
         "type": "scatter",
         "x": [
          2
         ],
         "y": [
          13
         ]
        },
        {
         "hoverinfo": "skip",
         "mode": "text",
         "showlegend": false,
         "text": [
          "4"
         ],
         "textfont": {
          "color": "white",
          "size": 10
         },
         "textposition": "middle center",
         "type": "scatter",
         "x": [
          2
         ],
         "y": [
          14
         ]
        },
        {
         "hoverinfo": "skip",
         "mode": "text",
         "showlegend": false,
         "text": [
          "inol"
         ],
         "textfont": {
          "color": "white",
          "size": 10
         },
         "textposition": "middle center",
         "type": "scatter",
         "x": [
          2
         ],
         "y": [
          15
         ]
        },
        {
         "hoverinfo": "skip",
         "mode": "text",
         "showlegend": false,
         "text": [
          "�"
         ],
         "textfont": {
          "color": "white",
          "size": 10
         },
         "textposition": "middle center",
         "type": "scatter",
         "x": [
          2
         ],
         "y": [
          16
         ]
        },
        {
         "hoverinfo": "skip",
         "mode": "text",
         "showlegend": false,
         "text": [
          "ourd"
         ],
         "textfont": {
          "color": "white",
          "size": 10
         },
         "textposition": "middle center",
         "type": "scatter",
         "x": [
          2
         ],
         "y": [
          17
         ]
        },
        {
         "hoverinfo": "skip",
         "mode": "text",
         "showlegend": false,
         "text": [
          "ifici"
         ],
         "textfont": {
          "color": "white",
          "size": 10
         },
         "textposition": "middle center",
         "type": "scatter",
         "x": [
          2
         ],
         "y": [
          18
         ]
        },
        {
         "hoverinfo": "skip",
         "mode": "text",
         "showlegend": false,
         "text": [
          " editat"
         ],
         "textfont": {
          "color": "white",
          "size": 10
         },
         "textposition": "middle center",
         "type": "scatter",
         "x": [
          2
         ],
         "y": [
          19
         ]
        },
        {
         "hoverinfo": "skip",
         "mode": "text",
         "showlegend": false,
         "text": [
          "mable"
         ],
         "textfont": {
          "color": "white",
          "size": 10
         },
         "textposition": "middle center",
         "type": "scatter",
         "x": [
          2
         ],
         "y": [
          20
         ]
        },
        {
         "hoverinfo": "skip",
         "mode": "text",
         "showlegend": false,
         "text": [
          "heses"
         ],
         "textfont": {
          "color": "white",
          "size": 10
         },
         "textposition": "middle center",
         "type": "scatter",
         "x": [
          2
         ],
         "y": [
          21
         ]
        },
        {
         "hoverinfo": "skip",
         "mode": "text",
         "showlegend": false,
         "text": [
          "oldre"
         ],
         "textfont": {
          "color": "white",
          "size": 10
         },
         "textposition": "middle center",
         "type": "scatter",
         "x": [
          2
         ],
         "y": [
          22
         ]
        },
        {
         "hoverinfo": "skip",
         "mode": "text",
         "showlegend": false,
         "text": [
          "indows"
         ],
         "textfont": {
          "color": "white",
          "size": 10
         },
         "textposition": "middle center",
         "type": "scatter",
         "x": [
          2
         ],
         "y": [
          23
         ]
        },
        {
         "hoverinfo": "skip",
         "mode": "text",
         "showlegend": false,
         "text": [
          " D"
         ],
         "textfont": {
          "color": "white",
          "size": 10
         },
         "textposition": "middle center",
         "type": "scatter",
         "x": [
          2
         ],
         "y": [
          24
         ]
        },
        {
         "hoverinfo": "skip",
         "mode": "text",
         "showlegend": false,
         "text": [
          "уни"
         ],
         "textfont": {
          "color": "white",
          "size": 10
         },
         "textposition": "middle center",
         "type": "scatter",
         "x": [
          2
         ],
         "y": [
          25
         ]
        },
        {
         "hoverinfo": "skip",
         "mode": "text",
         "showlegend": false,
         "text": [
          " Y"
         ],
         "textfont": {
          "color": "white",
          "size": 10
         },
         "textposition": "middle center",
         "type": "scatter",
         "x": [
          2
         ],
         "y": [
          26
         ]
        },
        {
         "hoverinfo": "skip",
         "mode": "text",
         "showlegend": false,
         "text": [
          " face"
         ],
         "textfont": {
          "color": "white",
          "size": 10
         },
         "textposition": "middle center",
         "type": "scatter",
         "x": [
          2
         ],
         "y": [
          27
         ]
        },
        {
         "hoverinfo": "text",
         "hovertext": [
          "Layer 0 expert_3:<br>No data",
          "Layer 1 expert 17 (logit: 9.039):<br>okes: 9.039<br>ternoons: 8.875<br>ynam: 8.766<br>aging: 8.695<br> succe: 8.672",
          "Layer 2 expert 34 (logit: 9.852):<br>竣: 9.852<br>ракия: 9.133<br>gica: 9.086<br>ulas: 9.047<br>родна: 8.891",
          "Layer 3 expert 61 (logit: 10.594):<br>entren: 10.594<br>amina: 9.844<br>terdam: 9.641<br>aired: 9.320<br>vestre: 9.242",
          "Layer 4 expert 22 (logit: 10.086):<br>rize: 10.086<br>aptop: 8.906<br>lemm: 8.789<br>urther: 8.773<br> sord: 8.727",
          "Layer 5 expert 9 (logit: 10.352):<br>дата: 10.352<br> g: 10.297<br>urants: 9.180<br>ICON: 8.664<br>letic: 8.609",
          "Layer 6 expert 1 (logit: 9.461):<br>тури: 9.461<br>nge: 8.195<br>  : 7.922<br>顺: 7.891<br>essin: 7.871",
          "Layer 7 expert 58 (logit: 9.805):<br>rality: 9.805<br> Vicent: 9.719<br> Seny: 9.406<br>noalign: 9.133<br>CDATA: 9.062",
          "Layer 8 expert 53 (logit: 9.961):<br>дже: 9.961<br>ugal: 9.312<br>orneys: 8.961<br>的神: 8.555<br>onut: 8.539",
          "Layer 9 expert 22 (logit: 10.078):<br> cartell: 10.078<br>iber: 9.500<br>тин: 9.086<br> Carre: 8.844<br> acons: 8.445",
          "Layer 10 expert 61 (logit: 9.797):<br>ICA: 9.797<br>袭: 8.328<br>uat: 8.164<br> Lloc: 7.926<br>惜: 7.891",
          "Layer 11 expert 19 (logit: 9.742):<br>aching: 9.742<br>3: 9.469<br>1: 9.266<br>чини: 9.258<br>2: 9.016",
          "Layer 12 expert 39 (logit: 10.438):<br>antro: 10.438<br>owler: 9.461<br>alona: 9.336<br>INCT: 8.695<br>vous: 8.664",
          "Layer 13 expert 22 (logit: 9.898):<br>ISD: 9.898<br>alto: 8.172<br>zac: 7.598<br>писани: 7.508<br>Acc: 7.348",
          "Layer 14 expert 53 (logit: 10.320):<br>2: 10.320<br>5: 9.578<br>7: 9.477<br>9: 9.312<br> agost: 8.945",
          "Layer 15 expert 40 (logit: 9.680):<br>abad: 9.680<br>ulus: 9.289<br>anges: 8.852<br>咬: 8.609<br>ature: 8.297",
          "Layer 16 expert 58 (logit: 9.797):<br>oggle: 9.797<br>just: 9.703<br>ogg: 9.656<br>vers: 9.641<br>roe: 9.484",
          "Layer 17 expert 1 (logit: 9.586):<br>erning: 9.586<br> Лига: 9.531<br>otine: 9.500<br> Тър: 9.211<br>etcher: 9.023",
          "Layer 18 expert 34 (logit: 9.945):<br> Spani: 9.945<br>drm: 9.555<br> search: 8.969<br>шо: 8.867<br>搜索: 8.852",
          "Layer 19 expert 52 (logit: 10.445):<br>�乐: 10.445<br>houn: 9.859<br>anu: 9.250<br>iad: 8.695<br>ometria: 8.453",
          "Layer 20 expert 29 (logit: 10.688):<br> Ob: 10.688<br>STON: 9.469<br>ooth: 9.406<br>щи: 9.133<br>Ob: 8.875",
          "Layer 21 expert 19 (logit: 10.594):<br>leave: 10.594<br>ixent: 9.203<br> vora: 8.656<br>verick: 8.594<br>subNav: 8.484",
          "Layer 22 expert 57 (logit: 9.914):<br>方: 9.914<br>韦: 9.117<br> reader: 9.031<br>兑: 8.953<br>emas: 8.648",
          "Layer 23 expert 7 (logit: 10.102):<br>ocada: 10.102<br>rena: 8.695<br>дъ: 8.438<br>andal: 7.961<br> Sy: 7.773",
          "Layer 24 expert 49 (logit: 10.344):<br> involving: 10.344<br>ostes: 8.242<br> involved: 7.801<br> жа: 7.684<br> мер: 7.602",
          "Layer 25 expert 41 (logit: 10.375):<br> be: 10.375<br>ariidae: 9.211<br>axies: 8.398<br>不分: 8.320<br>commends: 8.297",
          "Layer 26 expert 13 (logit: 10.398):<br> winds: 10.398<br> shapes: 10.234<br> amounts: 10.148<br> unf: 10.094<br> cre: 9.680",
          "Layer 27 expert 15 (logit: 11.609):<br> deal: 11.609<br> face: 11.219<br> figure: 11.078<br> solve: 10.609<br>Read: 10.031"
         ],
         "marker": {
          "cmax": 35.25,
          "cmin": 0.06951904296875,
          "color": [
           null,
           9.0390625,
           9.8515625,
           10.59375,
           10.0859375,
           10.3515625,
           9.4609375,
           9.8046875,
           9.9609375,
           10.078125,
           9.796875,
           9.7421875,
           10.4375,
           9.8984375,
           10.3203125,
           9.6796875,
           9.796875,
           9.5859375,
           9.9453125,
           10.4453125,
           10.6875,
           10.59375,
           9.9140625,
           10.1015625,
           10.34375,
           10.375,
           10.3984375,
           11.609375
          ],
          "colorscale": [
           [
            0,
            "rgb(68,1,84)"
           ],
           [
            0.25,
            "rgb(59,82,139)"
           ],
           [
            0.5,
            "rgb(33,144,141)"
           ],
           [
            0.75,
            "rgb(93,201,99)"
           ],
           [
            1,
            "rgb(253,231,37)"
           ]
          ],
          "line": {
           "color": "rgba(255,255,255,0.2)",
           "width": 1
          },
          "showscale": false,
          "size": 50,
          "symbol": "square"
         },
         "mode": "markers",
         "showlegend": false,
         "type": "scatter",
         "x": [
          3,
          3,
          3,
          3,
          3,
          3,
          3,
          3,
          3,
          3,
          3,
          3,
          3,
          3,
          3,
          3,
          3,
          3,
          3,
          3,
          3,
          3,
          3,
          3,
          3,
          3,
          3,
          3
         ],
         "y": [
          0,
          1,
          2,
          3,
          4,
          5,
          6,
          7,
          8,
          9,
          10,
          11,
          12,
          13,
          14,
          15,
          16,
          17,
          18,
          19,
          20,
          21,
          22,
          23,
          24,
          25,
          26,
          27
         ]
        },
        {
         "hoverinfo": "skip",
         "mode": "text",
         "showlegend": false,
         "text": [
          "17",
          "34",
          "61",
          "22",
          "9",
          "1",
          "58",
          "53",
          "22",
          "61",
          "19",
          "39",
          "22",
          "53",
          "40",
          "58",
          "1",
          "34",
          "52",
          "29",
          "19",
          "57",
          "7",
          "49",
          "41",
          "13",
          "15"
         ],
         "textfont": {
          "color": "white",
          "size": 10
         },
         "textposition": "middle center",
         "type": "scatter",
         "x": [
          2.8,
          2.8,
          2.8,
          2.8,
          2.8,
          2.8,
          2.8,
          2.8,
          2.8,
          2.8,
          2.8,
          2.8,
          2.8,
          2.8,
          2.8,
          2.8,
          2.8,
          2.8,
          2.8,
          2.8,
          2.8,
          2.8,
          2.8,
          2.8,
          2.8,
          2.8,
          2.8
         ],
         "y": [
          1.2,
          2.2,
          3.2,
          4.2,
          5.2,
          6.2,
          7.2,
          8.2,
          9.2,
          10.2,
          11.2,
          12.2,
          13.2,
          14.2,
          15.2,
          16.2,
          17.2,
          18.2,
          19.2,
          20.2,
          21.2,
          22.2,
          23.2,
          24.2,
          25.2,
          26.2,
          27.2
         ]
        },
        {
         "hoverinfo": "skip",
         "mode": "text",
         "showlegend": false,
         "text": [
          "okes"
         ],
         "textfont": {
          "color": "white",
          "size": 10
         },
         "textposition": "middle center",
         "type": "scatter",
         "x": [
          3
         ],
         "y": [
          1
         ]
        },
        {
         "hoverinfo": "skip",
         "mode": "text",
         "showlegend": false,
         "text": [
          "竣"
         ],
         "textfont": {
          "color": "white",
          "size": 10
         },
         "textposition": "middle center",
         "type": "scatter",
         "x": [
          3
         ],
         "y": [
          2
         ]
        },
        {
         "hoverinfo": "skip",
         "mode": "text",
         "showlegend": false,
         "text": [
          "entren"
         ],
         "textfont": {
          "color": "white",
          "size": 10
         },
         "textposition": "middle center",
         "type": "scatter",
         "x": [
          3
         ],
         "y": [
          3
         ]
        },
        {
         "hoverinfo": "skip",
         "mode": "text",
         "showlegend": false,
         "text": [
          "rize"
         ],
         "textfont": {
          "color": "white",
          "size": 10
         },
         "textposition": "middle center",
         "type": "scatter",
         "x": [
          3
         ],
         "y": [
          4
         ]
        },
        {
         "hoverinfo": "skip",
         "mode": "text",
         "showlegend": false,
         "text": [
          "дата"
         ],
         "textfont": {
          "color": "white",
          "size": 10
         },
         "textposition": "middle center",
         "type": "scatter",
         "x": [
          3
         ],
         "y": [
          5
         ]
        },
        {
         "hoverinfo": "skip",
         "mode": "text",
         "showlegend": false,
         "text": [
          "тури"
         ],
         "textfont": {
          "color": "white",
          "size": 10
         },
         "textposition": "middle center",
         "type": "scatter",
         "x": [
          3
         ],
         "y": [
          6
         ]
        },
        {
         "hoverinfo": "skip",
         "mode": "text",
         "showlegend": false,
         "text": [
          "rality"
         ],
         "textfont": {
          "color": "white",
          "size": 10
         },
         "textposition": "middle center",
         "type": "scatter",
         "x": [
          3
         ],
         "y": [
          7
         ]
        },
        {
         "hoverinfo": "skip",
         "mode": "text",
         "showlegend": false,
         "text": [
          "дже"
         ],
         "textfont": {
          "color": "white",
          "size": 10
         },
         "textposition": "middle center",
         "type": "scatter",
         "x": [
          3
         ],
         "y": [
          8
         ]
        },
        {
         "hoverinfo": "skip",
         "mode": "text",
         "showlegend": false,
         "text": [
          " cartell"
         ],
         "textfont": {
          "color": "white",
          "size": 10
         },
         "textposition": "middle center",
         "type": "scatter",
         "x": [
          3
         ],
         "y": [
          9
         ]
        },
        {
         "hoverinfo": "skip",
         "mode": "text",
         "showlegend": false,
         "text": [
          "ICA"
         ],
         "textfont": {
          "color": "white",
          "size": 10
         },
         "textposition": "middle center",
         "type": "scatter",
         "x": [
          3
         ],
         "y": [
          10
         ]
        },
        {
         "hoverinfo": "skip",
         "mode": "text",
         "showlegend": false,
         "text": [
          "aching"
         ],
         "textfont": {
          "color": "white",
          "size": 10
         },
         "textposition": "middle center",
         "type": "scatter",
         "x": [
          3
         ],
         "y": [
          11
         ]
        },
        {
         "hoverinfo": "skip",
         "mode": "text",
         "showlegend": false,
         "text": [
          "antro"
         ],
         "textfont": {
          "color": "white",
          "size": 10
         },
         "textposition": "middle center",
         "type": "scatter",
         "x": [
          3
         ],
         "y": [
          12
         ]
        },
        {
         "hoverinfo": "skip",
         "mode": "text",
         "showlegend": false,
         "text": [
          "ISD"
         ],
         "textfont": {
          "color": "white",
          "size": 10
         },
         "textposition": "middle center",
         "type": "scatter",
         "x": [
          3
         ],
         "y": [
          13
         ]
        },
        {
         "hoverinfo": "skip",
         "mode": "text",
         "showlegend": false,
         "text": [
          "2"
         ],
         "textfont": {
          "color": "white",
          "size": 10
         },
         "textposition": "middle center",
         "type": "scatter",
         "x": [
          3
         ],
         "y": [
          14
         ]
        },
        {
         "hoverinfo": "skip",
         "mode": "text",
         "showlegend": false,
         "text": [
          "abad"
         ],
         "textfont": {
          "color": "white",
          "size": 10
         },
         "textposition": "middle center",
         "type": "scatter",
         "x": [
          3
         ],
         "y": [
          15
         ]
        },
        {
         "hoverinfo": "skip",
         "mode": "text",
         "showlegend": false,
         "text": [
          "oggle"
         ],
         "textfont": {
          "color": "white",
          "size": 10
         },
         "textposition": "middle center",
         "type": "scatter",
         "x": [
          3
         ],
         "y": [
          16
         ]
        },
        {
         "hoverinfo": "skip",
         "mode": "text",
         "showlegend": false,
         "text": [
          "erning"
         ],
         "textfont": {
          "color": "white",
          "size": 10
         },
         "textposition": "middle center",
         "type": "scatter",
         "x": [
          3
         ],
         "y": [
          17
         ]
        },
        {
         "hoverinfo": "skip",
         "mode": "text",
         "showlegend": false,
         "text": [
          " Spani"
         ],
         "textfont": {
          "color": "white",
          "size": 10
         },
         "textposition": "middle center",
         "type": "scatter",
         "x": [
          3
         ],
         "y": [
          18
         ]
        },
        {
         "hoverinfo": "skip",
         "mode": "text",
         "showlegend": false,
         "text": [
          "�乐"
         ],
         "textfont": {
          "color": "white",
          "size": 10
         },
         "textposition": "middle center",
         "type": "scatter",
         "x": [
          3
         ],
         "y": [
          19
         ]
        },
        {
         "hoverinfo": "skip",
         "mode": "text",
         "showlegend": false,
         "text": [
          " Ob"
         ],
         "textfont": {
          "color": "white",
          "size": 10
         },
         "textposition": "middle center",
         "type": "scatter",
         "x": [
          3
         ],
         "y": [
          20
         ]
        },
        {
         "hoverinfo": "skip",
         "mode": "text",
         "showlegend": false,
         "text": [
          "leave"
         ],
         "textfont": {
          "color": "white",
          "size": 10
         },
         "textposition": "middle center",
         "type": "scatter",
         "x": [
          3
         ],
         "y": [
          21
         ]
        },
        {
         "hoverinfo": "skip",
         "mode": "text",
         "showlegend": false,
         "text": [
          "方"
         ],
         "textfont": {
          "color": "white",
          "size": 10
         },
         "textposition": "middle center",
         "type": "scatter",
         "x": [
          3
         ],
         "y": [
          22
         ]
        },
        {
         "hoverinfo": "skip",
         "mode": "text",
         "showlegend": false,
         "text": [
          "ocada"
         ],
         "textfont": {
          "color": "white",
          "size": 10
         },
         "textposition": "middle center",
         "type": "scatter",
         "x": [
          3
         ],
         "y": [
          23
         ]
        },
        {
         "hoverinfo": "skip",
         "mode": "text",
         "showlegend": false,
         "text": [
          " involving"
         ],
         "textfont": {
          "color": "white",
          "size": 10
         },
         "textposition": "middle center",
         "type": "scatter",
         "x": [
          3
         ],
         "y": [
          24
         ]
        },
        {
         "hoverinfo": "skip",
         "mode": "text",
         "showlegend": false,
         "text": [
          " be"
         ],
         "textfont": {
          "color": "white",
          "size": 10
         },
         "textposition": "middle center",
         "type": "scatter",
         "x": [
          3
         ],
         "y": [
          25
         ]
        },
        {
         "hoverinfo": "skip",
         "mode": "text",
         "showlegend": false,
         "text": [
          " winds"
         ],
         "textfont": {
          "color": "white",
          "size": 10
         },
         "textposition": "middle center",
         "type": "scatter",
         "x": [
          3
         ],
         "y": [
          26
         ]
        },
        {
         "hoverinfo": "skip",
         "mode": "text",
         "showlegend": false,
         "text": [
          " deal"
         ],
         "textfont": {
          "color": "white",
          "size": 10
         },
         "textposition": "middle center",
         "type": "scatter",
         "x": [
          3
         ],
         "y": [
          27
         ]
        },
        {
         "hoverinfo": "text",
         "hovertext": [
          "Layer 0 expert_4:<br>No data",
          "Layer 1 expert 9 (logit: 8.773):<br>emon: 8.773<br>铃: 8.750<br>�: 8.344<br> : 8.336<br>слу: 8.070",
          "Layer 2 expert 16 (logit: 9.109):<br>orra: 9.109<br> expulsat: 8.836<br>iano: 8.828<br> Tafel: 8.672<br>ExternalTask: 8.594",
          "Layer 3 expert 41 (logit: 10.289):<br>ollary: 10.289<br>oldre: 9.375<br>crata: 8.938<br> квалифика: 8.633<br>ffer: 8.547",
          "Layer 4 expert 34 (logit: 9.422):<br>don: 9.422<br>гава: 9.266<br>line: 8.102<br>面的: 8.023<br> ×: 7.922",
          "Layer 5 expert 7 (logit: 10.039):<br>pline: 10.039<br>YPT: 9.719<br>当代: 9.320<br>=\"__: 9.203<br>itious: 8.953",
          "Layer 6 expert 12 (logit: 8.312):<br>务: 8.312<br>erk: 8.172<br>rition: 7.945<br>ularity: 7.895<br>版权归: 7.836",
          "Layer 7 expert 41 (logit: 9.578):<br>AudioEvent: 9.578<br>=\"__: 9.531<br>甲状: 9.078<br>uresa: 9.039<br>值: 8.797",
          "Layer 8 expert 54 (logit: 9.891):<br>icolumn: 9.891<br> Diari: 8.961<br>conomia: 8.938<br>拜: 8.883<br>венту: 8.852",
          "Layer 9 expert 44 (logit: 9.258):<br>oulders: 9.258<br>Cola: 7.602<br>ornia: 7.551<br>anques: 7.527<br>materials: 7.488",
          "Layer 10 expert 15 (logit: 9.422):<br>iores: 9.422<br>hend: 8.773<br>tym: 8.773<br> --: 8.406<br>render: 8.398",
          "Layer 11 expert 32 (logit: 9.383):<br>肯: 9.383<br>兰达: 8.859<br>hire: 8.164<br>fono: 8.156<br>locar: 8.141",
          "Layer 12 expert 34 (logit: 10.195):<br>ivitat: 10.195<br>raments: 9.078<br>ocal: 8.844<br>umo: 8.469<br>enga: 8.438",
          "Layer 13 expert 38 (logit: 9.453):<br>pcies: 9.453<br>invert: 9.266<br>atre: 9.234<br>外: 8.930<br>стига: 8.914",
          "Layer 14 expert 6 (logit: 9.898):<br>0: 9.898<br>3: 9.625<br>位: 9.398<br>4: 9.281<br>6: 8.891",
          "Layer 15 expert 18 (logit: 9.336):<br>tega: 9.336<br> ,\\\\: 9.031<br>Olot: 8.859<br>axies: 8.719<br>isSet: 8.703",
          "Layer 16 expert 16 (logit: 9.734):<br>亥: 9.734<br> =&: 9.148<br>сира: 8.891<br>ymes: 8.883<br>вол: 8.617",
          "Layer 17 expert 58 (logit: 9.398):<br>кло: 9.398<br>romatic: 9.352<br>inue: 9.180<br>Рим: 8.539<br>лю: 8.453",
          "Layer 18 expert 39 (logit: 9.734):<br>pcs: 9.734<br>PC: 9.250<br>elf: 9.109<br> Computers: 9.000<br> proxim: 8.930",
          "Layer 19 expert 36 (logit: 10.438):<br> a: 10.438<br>\ta: 9.359<br>速: 8.594<br>много: 8.555<br>tico: 8.258",
          "Layer 20 expert 28 (logit: 10.305):<br> multip: 10.305<br>multip: 10.211<br>MULT: 9.727<br> divid: 9.156<br>division: 8.867",
          "Layer 21 expert 3 (logit: 10.562):<br>decomp: 10.562<br>Dec: 10.547<br>解: 10.133<br>unlock: 9.984<br>два: 9.797",
          "Layer 22 expert 61 (logit: 9.594):<br> v: 9.594<br>нден: 9.117<br> v: 8.914<br>spic: 8.891<br>ielder: 8.133",
          "Layer 23 expert 10 (logit: 9.891):<br>Guany: 9.891<br>ExternalTask: 9.695<br>fono: 9.609<br>AudioEvent: 9.562<br> pass: 9.555",
          "Layer 24 expert 28 (logit: 10.258):<br>lost: 10.258<br>rans: 9.414<br>Vtbl: 9.141<br> lost: 8.961<br>andest: 8.906",
          "Layer 25 expert 53 (logit: 9.562):<br>тари: 9.562<br>lip: 9.477<br>马自: 9.250<br> SUCH: 9.195<br>apar: 9.188",
          "Layer 26 expert 30 (logit: 9.766):<br>学习: 9.766<br> buck: 9.000<br>的学习: 8.914<br>Tables: 8.820<br>学习和: 8.367",
          "Layer 27 expert 46 (logit: 10.844):<br>ude: 10.844<br>жата: 10.375<br>grese: 9.891<br>жене: 9.359<br>UDE: 9.352"
         ],
         "marker": {
          "cmax": 35.25,
          "cmin": 0.06951904296875,
          "color": [
           null,
           8.7734375,
           9.109375,
           10.2890625,
           9.421875,
           10.0390625,
           8.3125,
           9.578125,
           9.890625,
           9.2578125,
           9.421875,
           9.3828125,
           10.1953125,
           9.453125,
           9.8984375,
           9.3359375,
           9.734375,
           9.3984375,
           9.734375,
           10.4375,
           10.3046875,
           10.5625,
           9.59375,
           9.890625,
           10.2578125,
           9.5625,
           9.765625,
           10.84375
          ],
          "colorscale": [
           [
            0,
            "rgb(68,1,84)"
           ],
           [
            0.25,
            "rgb(59,82,139)"
           ],
           [
            0.5,
            "rgb(33,144,141)"
           ],
           [
            0.75,
            "rgb(93,201,99)"
           ],
           [
            1,
            "rgb(253,231,37)"
           ]
          ],
          "line": {
           "color": "rgba(255,255,255,0.2)",
           "width": 1
          },
          "showscale": false,
          "size": 50,
          "symbol": "square"
         },
         "mode": "markers",
         "showlegend": false,
         "type": "scatter",
         "x": [
          4,
          4,
          4,
          4,
          4,
          4,
          4,
          4,
          4,
          4,
          4,
          4,
          4,
          4,
          4,
          4,
          4,
          4,
          4,
          4,
          4,
          4,
          4,
          4,
          4,
          4,
          4,
          4
         ],
         "y": [
          0,
          1,
          2,
          3,
          4,
          5,
          6,
          7,
          8,
          9,
          10,
          11,
          12,
          13,
          14,
          15,
          16,
          17,
          18,
          19,
          20,
          21,
          22,
          23,
          24,
          25,
          26,
          27
         ]
        },
        {
         "hoverinfo": "skip",
         "mode": "text",
         "showlegend": false,
         "text": [
          "9",
          "16",
          "41",
          "34",
          "7",
          "12",
          "41",
          "54",
          "44",
          "15",
          "32",
          "34",
          "38",
          "6",
          "18",
          "16",
          "58",
          "39",
          "36",
          "28",
          "3",
          "61",
          "10",
          "28",
          "53",
          "30",
          "46"
         ],
         "textfont": {
          "color": "white",
          "size": 10
         },
         "textposition": "middle center",
         "type": "scatter",
         "x": [
          3.8,
          3.8,
          3.8,
          3.8,
          3.8,
          3.8,
          3.8,
          3.8,
          3.8,
          3.8,
          3.8,
          3.8,
          3.8,
          3.8,
          3.8,
          3.8,
          3.8,
          3.8,
          3.8,
          3.8,
          3.8,
          3.8,
          3.8,
          3.8,
          3.8,
          3.8,
          3.8
         ],
         "y": [
          1.2,
          2.2,
          3.2,
          4.2,
          5.2,
          6.2,
          7.2,
          8.2,
          9.2,
          10.2,
          11.2,
          12.2,
          13.2,
          14.2,
          15.2,
          16.2,
          17.2,
          18.2,
          19.2,
          20.2,
          21.2,
          22.2,
          23.2,
          24.2,
          25.2,
          26.2,
          27.2
         ]
        },
        {
         "hoverinfo": "skip",
         "mode": "text",
         "showlegend": false,
         "text": [
          "emon"
         ],
         "textfont": {
          "color": "white",
          "size": 10
         },
         "textposition": "middle center",
         "type": "scatter",
         "x": [
          4
         ],
         "y": [
          1
         ]
        },
        {
         "hoverinfo": "skip",
         "mode": "text",
         "showlegend": false,
         "text": [
          "orra"
         ],
         "textfont": {
          "color": "white",
          "size": 10
         },
         "textposition": "middle center",
         "type": "scatter",
         "x": [
          4
         ],
         "y": [
          2
         ]
        },
        {
         "hoverinfo": "skip",
         "mode": "text",
         "showlegend": false,
         "text": [
          "ollary"
         ],
         "textfont": {
          "color": "white",
          "size": 10
         },
         "textposition": "middle center",
         "type": "scatter",
         "x": [
          4
         ],
         "y": [
          3
         ]
        },
        {
         "hoverinfo": "skip",
         "mode": "text",
         "showlegend": false,
         "text": [
          "don"
         ],
         "textfont": {
          "color": "white",
          "size": 10
         },
         "textposition": "middle center",
         "type": "scatter",
         "x": [
          4
         ],
         "y": [
          4
         ]
        },
        {
         "hoverinfo": "skip",
         "mode": "text",
         "showlegend": false,
         "text": [
          "pline"
         ],
         "textfont": {
          "color": "white",
          "size": 10
         },
         "textposition": "middle center",
         "type": "scatter",
         "x": [
          4
         ],
         "y": [
          5
         ]
        },
        {
         "hoverinfo": "skip",
         "mode": "text",
         "showlegend": false,
         "text": [
          "务"
         ],
         "textfont": {
          "color": "white",
          "size": 10
         },
         "textposition": "middle center",
         "type": "scatter",
         "x": [
          4
         ],
         "y": [
          6
         ]
        },
        {
         "hoverinfo": "skip",
         "mode": "text",
         "showlegend": false,
         "text": [
          "AudioEvent"
         ],
         "textfont": {
          "color": "white",
          "size": 10
         },
         "textposition": "middle center",
         "type": "scatter",
         "x": [
          4
         ],
         "y": [
          7
         ]
        },
        {
         "hoverinfo": "skip",
         "mode": "text",
         "showlegend": false,
         "text": [
          "icolumn"
         ],
         "textfont": {
          "color": "white",
          "size": 10
         },
         "textposition": "middle center",
         "type": "scatter",
         "x": [
          4
         ],
         "y": [
          8
         ]
        },
        {
         "hoverinfo": "skip",
         "mode": "text",
         "showlegend": false,
         "text": [
          "oulders"
         ],
         "textfont": {
          "color": "white",
          "size": 10
         },
         "textposition": "middle center",
         "type": "scatter",
         "x": [
          4
         ],
         "y": [
          9
         ]
        },
        {
         "hoverinfo": "skip",
         "mode": "text",
         "showlegend": false,
         "text": [
          "iores"
         ],
         "textfont": {
          "color": "white",
          "size": 10
         },
         "textposition": "middle center",
         "type": "scatter",
         "x": [
          4
         ],
         "y": [
          10
         ]
        },
        {
         "hoverinfo": "skip",
         "mode": "text",
         "showlegend": false,
         "text": [
          "肯"
         ],
         "textfont": {
          "color": "white",
          "size": 10
         },
         "textposition": "middle center",
         "type": "scatter",
         "x": [
          4
         ],
         "y": [
          11
         ]
        },
        {
         "hoverinfo": "skip",
         "mode": "text",
         "showlegend": false,
         "text": [
          "ivitat"
         ],
         "textfont": {
          "color": "white",
          "size": 10
         },
         "textposition": "middle center",
         "type": "scatter",
         "x": [
          4
         ],
         "y": [
          12
         ]
        },
        {
         "hoverinfo": "skip",
         "mode": "text",
         "showlegend": false,
         "text": [
          "pcies"
         ],
         "textfont": {
          "color": "white",
          "size": 10
         },
         "textposition": "middle center",
         "type": "scatter",
         "x": [
          4
         ],
         "y": [
          13
         ]
        },
        {
         "hoverinfo": "skip",
         "mode": "text",
         "showlegend": false,
         "text": [
          "0"
         ],
         "textfont": {
          "color": "white",
          "size": 10
         },
         "textposition": "middle center",
         "type": "scatter",
         "x": [
          4
         ],
         "y": [
          14
         ]
        },
        {
         "hoverinfo": "skip",
         "mode": "text",
         "showlegend": false,
         "text": [
          "tega"
         ],
         "textfont": {
          "color": "white",
          "size": 10
         },
         "textposition": "middle center",
         "type": "scatter",
         "x": [
          4
         ],
         "y": [
          15
         ]
        },
        {
         "hoverinfo": "skip",
         "mode": "text",
         "showlegend": false,
         "text": [
          "亥"
         ],
         "textfont": {
          "color": "white",
          "size": 10
         },
         "textposition": "middle center",
         "type": "scatter",
         "x": [
          4
         ],
         "y": [
          16
         ]
        },
        {
         "hoverinfo": "skip",
         "mode": "text",
         "showlegend": false,
         "text": [
          "кло"
         ],
         "textfont": {
          "color": "white",
          "size": 10
         },
         "textposition": "middle center",
         "type": "scatter",
         "x": [
          4
         ],
         "y": [
          17
         ]
        },
        {
         "hoverinfo": "skip",
         "mode": "text",
         "showlegend": false,
         "text": [
          "pcs"
         ],
         "textfont": {
          "color": "white",
          "size": 10
         },
         "textposition": "middle center",
         "type": "scatter",
         "x": [
          4
         ],
         "y": [
          18
         ]
        },
        {
         "hoverinfo": "skip",
         "mode": "text",
         "showlegend": false,
         "text": [
          " a"
         ],
         "textfont": {
          "color": "white",
          "size": 10
         },
         "textposition": "middle center",
         "type": "scatter",
         "x": [
          4
         ],
         "y": [
          19
         ]
        },
        {
         "hoverinfo": "skip",
         "mode": "text",
         "showlegend": false,
         "text": [
          " multip"
         ],
         "textfont": {
          "color": "white",
          "size": 10
         },
         "textposition": "middle center",
         "type": "scatter",
         "x": [
          4
         ],
         "y": [
          20
         ]
        },
        {
         "hoverinfo": "skip",
         "mode": "text",
         "showlegend": false,
         "text": [
          "decomp"
         ],
         "textfont": {
          "color": "white",
          "size": 10
         },
         "textposition": "middle center",
         "type": "scatter",
         "x": [
          4
         ],
         "y": [
          21
         ]
        },
        {
         "hoverinfo": "skip",
         "mode": "text",
         "showlegend": false,
         "text": [
          " v"
         ],
         "textfont": {
          "color": "white",
          "size": 10
         },
         "textposition": "middle center",
         "type": "scatter",
         "x": [
          4
         ],
         "y": [
          22
         ]
        },
        {
         "hoverinfo": "skip",
         "mode": "text",
         "showlegend": false,
         "text": [
          "Guany"
         ],
         "textfont": {
          "color": "white",
          "size": 10
         },
         "textposition": "middle center",
         "type": "scatter",
         "x": [
          4
         ],
         "y": [
          23
         ]
        },
        {
         "hoverinfo": "skip",
         "mode": "text",
         "showlegend": false,
         "text": [
          "lost"
         ],
         "textfont": {
          "color": "white",
          "size": 10
         },
         "textposition": "middle center",
         "type": "scatter",
         "x": [
          4
         ],
         "y": [
          24
         ]
        },
        {
         "hoverinfo": "skip",
         "mode": "text",
         "showlegend": false,
         "text": [
          "тари"
         ],
         "textfont": {
          "color": "white",
          "size": 10
         },
         "textposition": "middle center",
         "type": "scatter",
         "x": [
          4
         ],
         "y": [
          25
         ]
        },
        {
         "hoverinfo": "skip",
         "mode": "text",
         "showlegend": false,
         "text": [
          "学习"
         ],
         "textfont": {
          "color": "white",
          "size": 10
         },
         "textposition": "middle center",
         "type": "scatter",
         "x": [
          4
         ],
         "y": [
          26
         ]
        },
        {
         "hoverinfo": "skip",
         "mode": "text",
         "showlegend": false,
         "text": [
          "ude"
         ],
         "textfont": {
          "color": "white",
          "size": 10
         },
         "textposition": "middle center",
         "type": "scatter",
         "x": [
          4
         ],
         "y": [
          27
         ]
        },
        {
         "hoverinfo": "text",
         "hovertext": [
          "Layer 0 expert_5:<br>No data",
          "Layer 1 expert 53 (logit: 8.391):<br> constel: 8.391<br>och: 8.141<br>斩: 7.855<br> Const: 7.613<br>бре: 7.566",
          "Layer 2 expert 13 (logit: 9.055):<br>aculate: 9.055<br>riu: 8.656<br>�: 8.562<br>irmed: 8.477<br>letic: 8.211",
          "Layer 3 expert 42 (logit: 9.195):<br>{}_: 9.195<br>teo: 9.094<br>olute: 8.859<br>ecera: 8.844<br>ieux: 8.844",
          "Layer 4 expert 31 (logit: 8.953):<br>uda: 8.953<br> Роман: 8.414<br>淡: 8.297<br> rowspan: 8.281<br>onte: 8.219",
          "Layer 5 expert 1 (logit: 9.852):<br> themselves: 9.852<br>ird: 8.148<br>omer: 8.047<br>ñ: 8.039<br>西班: 8.000",
          "Layer 6 expert 51 (logit: 8.266):<br> d: 8.266<br>lahoma: 8.266<br>ланти: 8.188<br> Sale: 8.000<br>}~(: 7.883",
          "Layer 7 expert 24 (logit: 9.367):<br> Collection: 9.367<br>劲: 8.531<br>过后: 8.445<br>OU: 8.125<br>莽: 8.055",
          "Layer 8 expert 60 (logit: 9.523):<br>硬的: 9.523<br>enyes: 9.445<br>bom: 8.906<br>enge: 8.203<br> Мартин: 8.195",
          "Layer 9 expert 34 (logit: 9.188):<br>aret: 9.188<br>lop: 9.164<br>thing: 8.844<br>screenshot: 8.750<br>ret: 8.719",
          "Layer 10 expert 34 (logit: 9.211):<br>mani: 9.211<br>rona: 9.086<br>ე�: 8.844<br>POLICY: 8.828<br>zk: 8.625",
          "Layer 11 expert 59 (logit: 9.242):<br> tals: 9.242<br>ithium: 8.953<br> andalus: 8.914<br>iami: 8.672<br>sembl: 8.586",
          "Layer 12 expert 8 (logit: 9.383):<br>ilos: 9.383<br> aigu: 8.812<br> [{\\: 8.492<br> perru: 8.328<br>osed: 8.227",
          "Layer 13 expert 60 (logit: 9.039):<br>��: 9.039<br>ub: 8.703<br>越好: 8.555<br>ubre: 8.367<br>oure: 8.266",
          "Layer 14 expert 59 (logit: 9.117):<br>utt: 9.117<br>ote: 8.945<br>*: 8.547<br>*$: 8.266<br> contrari: 8.086",
          "Layer 15 expert 4 (logit: 9.305):<br>тро: 9.305<br>сер: 8.734<br> ic: 8.586<br> Gen: 8.508<br>нии: 8.359",
          "Layer 16 expert 59 (logit: 8.953):<br>onar: 8.953<br> Donat: 8.492<br>ъм: 7.969<br>анти: 7.906<br>ync: 7.773",
          "Layer 17 expert 21 (logit: 8.938):<br> sense: 8.938<br>isi: 8.680<br> Trig: 8.312<br> subt: 7.992<br>��: 7.859",
          "Layer 18 expert 41 (logit: 8.672):<br>gex: 8.672<br>miser: 8.633<br>usts: 8.586<br>geois: 8.562<br>钝: 8.492",
          "Layer 19 expert 6 (logit: 9.812):<br>3: 9.812<br>�: 9.703<br>1: 9.594<br>5: 9.484<br>7: 9.422",
          "Layer 20 expert 1 (logit: 9.719):<br>odo: 9.719<br>erm: 8.891<br>erme: 8.844<br>eval: 8.797<br>isolated: 8.328",
          "Layer 21 expert 58 (logit: 9.883):<br>mighty: 9.883<br> Pallars: 9.664<br>NDER: 9.539<br>ictionary: 9.477<br>aische: 9.438",
          "Layer 22 expert 41 (logit: 9.102):<br> doin: 9.102<br> do: 8.641<br>inet: 8.156<br> motor: 8.133<br> become: 8.062",
          "Layer 23 expert 35 (logit: 9.586):<br>archar: 9.586<br>�: 8.914<br> Gra: 8.305<br>格: 8.297<br>legr: 8.117",
          "Layer 24 expert 41 (logit: 9.484):<br>own: 9.484<br>的方法: 9.477<br>ксон: 9.320<br> sub: 8.891<br> сте: 8.727",
          "Layer 25 expert 3 (logit: 9.562):<br>IPU: 9.562<br>idden: 9.367<br>idat: 8.844<br>ру: 8.641<br>↳: 8.492",
          "Layer 26 expert 60 (logit: 9.430):<br>ong: 9.430<br>ypes: 9.375<br>ingles: 8.477<br>imon: 8.352<br>组合: 8.203",
          "Layer 27 expert 40 (logit: 10.414):<br>: 10.414<br>?',: 10.383<br> ',': 10.273<br> \\`: 10.180<br> ',: 9.984"
         ],
         "marker": {
          "cmax": 35.25,
          "cmin": 0.06951904296875,
          "color": [
           null,
           8.390625,
           9.0546875,
           9.1953125,
           8.953125,
           9.8515625,
           8.265625,
           9.3671875,
           9.5234375,
           9.1875,
           9.2109375,
           9.2421875,
           9.3828125,
           9.0390625,
           9.1171875,
           9.3046875,
           8.953125,
           8.9375,
           8.671875,
           9.8125,
           9.71875,
           9.8828125,
           9.1015625,
           9.5859375,
           9.484375,
           9.5625,
           9.4296875,
           10.4140625
          ],
          "colorscale": [
           [
            0,
            "rgb(68,1,84)"
           ],
           [
            0.25,
            "rgb(59,82,139)"
           ],
           [
            0.5,
            "rgb(33,144,141)"
           ],
           [
            0.75,
            "rgb(93,201,99)"
           ],
           [
            1,
            "rgb(253,231,37)"
           ]
          ],
          "line": {
           "color": "rgba(255,255,255,0.2)",
           "width": 1
          },
          "showscale": false,
          "size": 50,
          "symbol": "square"
         },
         "mode": "markers",
         "showlegend": false,
         "type": "scatter",
         "x": [
          5,
          5,
          5,
          5,
          5,
          5,
          5,
          5,
          5,
          5,
          5,
          5,
          5,
          5,
          5,
          5,
          5,
          5,
          5,
          5,
          5,
          5,
          5,
          5,
          5,
          5,
          5,
          5
         ],
         "y": [
          0,
          1,
          2,
          3,
          4,
          5,
          6,
          7,
          8,
          9,
          10,
          11,
          12,
          13,
          14,
          15,
          16,
          17,
          18,
          19,
          20,
          21,
          22,
          23,
          24,
          25,
          26,
          27
         ]
        },
        {
         "hoverinfo": "skip",
         "mode": "text",
         "showlegend": false,
         "text": [
          "53",
          "13",
          "42",
          "31",
          "1",
          "51",
          "24",
          "60",
          "34",
          "34",
          "59",
          "8",
          "60",
          "59",
          "4",
          "59",
          "21",
          "41",
          "6",
          "1",
          "58",
          "41",
          "35",
          "41",
          "3",
          "60",
          "40"
         ],
         "textfont": {
          "color": "white",
          "size": 10
         },
         "textposition": "middle center",
         "type": "scatter",
         "x": [
          4.8,
          4.8,
          4.8,
          4.8,
          4.8,
          4.8,
          4.8,
          4.8,
          4.8,
          4.8,
          4.8,
          4.8,
          4.8,
          4.8,
          4.8,
          4.8,
          4.8,
          4.8,
          4.8,
          4.8,
          4.8,
          4.8,
          4.8,
          4.8,
          4.8,
          4.8,
          4.8
         ],
         "y": [
          1.2,
          2.2,
          3.2,
          4.2,
          5.2,
          6.2,
          7.2,
          8.2,
          9.2,
          10.2,
          11.2,
          12.2,
          13.2,
          14.2,
          15.2,
          16.2,
          17.2,
          18.2,
          19.2,
          20.2,
          21.2,
          22.2,
          23.2,
          24.2,
          25.2,
          26.2,
          27.2
         ]
        },
        {
         "hoverinfo": "skip",
         "mode": "text",
         "showlegend": false,
         "text": [
          " constel"
         ],
         "textfont": {
          "color": "white",
          "size": 10
         },
         "textposition": "middle center",
         "type": "scatter",
         "x": [
          5
         ],
         "y": [
          1
         ]
        },
        {
         "hoverinfo": "skip",
         "mode": "text",
         "showlegend": false,
         "text": [
          "aculate"
         ],
         "textfont": {
          "color": "white",
          "size": 10
         },
         "textposition": "middle center",
         "type": "scatter",
         "x": [
          5
         ],
         "y": [
          2
         ]
        },
        {
         "hoverinfo": "skip",
         "mode": "text",
         "showlegend": false,
         "text": [
          "{}_"
         ],
         "textfont": {
          "color": "white",
          "size": 10
         },
         "textposition": "middle center",
         "type": "scatter",
         "x": [
          5
         ],
         "y": [
          3
         ]
        },
        {
         "hoverinfo": "skip",
         "mode": "text",
         "showlegend": false,
         "text": [
          "uda"
         ],
         "textfont": {
          "color": "white",
          "size": 10
         },
         "textposition": "middle center",
         "type": "scatter",
         "x": [
          5
         ],
         "y": [
          4
         ]
        },
        {
         "hoverinfo": "skip",
         "mode": "text",
         "showlegend": false,
         "text": [
          " themselves"
         ],
         "textfont": {
          "color": "white",
          "size": 10
         },
         "textposition": "middle center",
         "type": "scatter",
         "x": [
          5
         ],
         "y": [
          5
         ]
        },
        {
         "hoverinfo": "skip",
         "mode": "text",
         "showlegend": false,
         "text": [
          " d"
         ],
         "textfont": {
          "color": "white",
          "size": 10
         },
         "textposition": "middle center",
         "type": "scatter",
         "x": [
          5
         ],
         "y": [
          6
         ]
        },
        {
         "hoverinfo": "skip",
         "mode": "text",
         "showlegend": false,
         "text": [
          " Collection"
         ],
         "textfont": {
          "color": "white",
          "size": 10
         },
         "textposition": "middle center",
         "type": "scatter",
         "x": [
          5
         ],
         "y": [
          7
         ]
        },
        {
         "hoverinfo": "skip",
         "mode": "text",
         "showlegend": false,
         "text": [
          "硬的"
         ],
         "textfont": {
          "color": "white",
          "size": 10
         },
         "textposition": "middle center",
         "type": "scatter",
         "x": [
          5
         ],
         "y": [
          8
         ]
        },
        {
         "hoverinfo": "skip",
         "mode": "text",
         "showlegend": false,
         "text": [
          "aret"
         ],
         "textfont": {
          "color": "white",
          "size": 10
         },
         "textposition": "middle center",
         "type": "scatter",
         "x": [
          5
         ],
         "y": [
          9
         ]
        },
        {
         "hoverinfo": "skip",
         "mode": "text",
         "showlegend": false,
         "text": [
          "mani"
         ],
         "textfont": {
          "color": "white",
          "size": 10
         },
         "textposition": "middle center",
         "type": "scatter",
         "x": [
          5
         ],
         "y": [
          10
         ]
        },
        {
         "hoverinfo": "skip",
         "mode": "text",
         "showlegend": false,
         "text": [
          " tals"
         ],
         "textfont": {
          "color": "white",
          "size": 10
         },
         "textposition": "middle center",
         "type": "scatter",
         "x": [
          5
         ],
         "y": [
          11
         ]
        },
        {
         "hoverinfo": "skip",
         "mode": "text",
         "showlegend": false,
         "text": [
          "ilos"
         ],
         "textfont": {
          "color": "white",
          "size": 10
         },
         "textposition": "middle center",
         "type": "scatter",
         "x": [
          5
         ],
         "y": [
          12
         ]
        },
        {
         "hoverinfo": "skip",
         "mode": "text",
         "showlegend": false,
         "text": [
          "��"
         ],
         "textfont": {
          "color": "white",
          "size": 10
         },
         "textposition": "middle center",
         "type": "scatter",
         "x": [
          5
         ],
         "y": [
          13
         ]
        },
        {
         "hoverinfo": "skip",
         "mode": "text",
         "showlegend": false,
         "text": [
          "utt"
         ],
         "textfont": {
          "color": "white",
          "size": 10
         },
         "textposition": "middle center",
         "type": "scatter",
         "x": [
          5
         ],
         "y": [
          14
         ]
        },
        {
         "hoverinfo": "skip",
         "mode": "text",
         "showlegend": false,
         "text": [
          "тро"
         ],
         "textfont": {
          "color": "white",
          "size": 10
         },
         "textposition": "middle center",
         "type": "scatter",
         "x": [
          5
         ],
         "y": [
          15
         ]
        },
        {
         "hoverinfo": "skip",
         "mode": "text",
         "showlegend": false,
         "text": [
          "onar"
         ],
         "textfont": {
          "color": "white",
          "size": 10
         },
         "textposition": "middle center",
         "type": "scatter",
         "x": [
          5
         ],
         "y": [
          16
         ]
        },
        {
         "hoverinfo": "skip",
         "mode": "text",
         "showlegend": false,
         "text": [
          " sense"
         ],
         "textfont": {
          "color": "white",
          "size": 10
         },
         "textposition": "middle center",
         "type": "scatter",
         "x": [
          5
         ],
         "y": [
          17
         ]
        },
        {
         "hoverinfo": "skip",
         "mode": "text",
         "showlegend": false,
         "text": [
          "gex"
         ],
         "textfont": {
          "color": "white",
          "size": 10
         },
         "textposition": "middle center",
         "type": "scatter",
         "x": [
          5
         ],
         "y": [
          18
         ]
        },
        {
         "hoverinfo": "skip",
         "mode": "text",
         "showlegend": false,
         "text": [
          "3"
         ],
         "textfont": {
          "color": "white",
          "size": 10
         },
         "textposition": "middle center",
         "type": "scatter",
         "x": [
          5
         ],
         "y": [
          19
         ]
        },
        {
         "hoverinfo": "skip",
         "mode": "text",
         "showlegend": false,
         "text": [
          "odo"
         ],
         "textfont": {
          "color": "white",
          "size": 10
         },
         "textposition": "middle center",
         "type": "scatter",
         "x": [
          5
         ],
         "y": [
          20
         ]
        },
        {
         "hoverinfo": "skip",
         "mode": "text",
         "showlegend": false,
         "text": [
          "mighty"
         ],
         "textfont": {
          "color": "white",
          "size": 10
         },
         "textposition": "middle center",
         "type": "scatter",
         "x": [
          5
         ],
         "y": [
          21
         ]
        },
        {
         "hoverinfo": "skip",
         "mode": "text",
         "showlegend": false,
         "text": [
          " doin"
         ],
         "textfont": {
          "color": "white",
          "size": 10
         },
         "textposition": "middle center",
         "type": "scatter",
         "x": [
          5
         ],
         "y": [
          22
         ]
        },
        {
         "hoverinfo": "skip",
         "mode": "text",
         "showlegend": false,
         "text": [
          "archar"
         ],
         "textfont": {
          "color": "white",
          "size": 10
         },
         "textposition": "middle center",
         "type": "scatter",
         "x": [
          5
         ],
         "y": [
          23
         ]
        },
        {
         "hoverinfo": "skip",
         "mode": "text",
         "showlegend": false,
         "text": [
          "own"
         ],
         "textfont": {
          "color": "white",
          "size": 10
         },
         "textposition": "middle center",
         "type": "scatter",
         "x": [
          5
         ],
         "y": [
          24
         ]
        },
        {
         "hoverinfo": "skip",
         "mode": "text",
         "showlegend": false,
         "text": [
          "IPU"
         ],
         "textfont": {
          "color": "white",
          "size": 10
         },
         "textposition": "middle center",
         "type": "scatter",
         "x": [
          5
         ],
         "y": [
          25
         ]
        },
        {
         "hoverinfo": "skip",
         "mode": "text",
         "showlegend": false,
         "text": [
          "ong"
         ],
         "textfont": {
          "color": "white",
          "size": 10
         },
         "textposition": "middle center",
         "type": "scatter",
         "x": [
          5
         ],
         "y": [
          26
         ]
        },
        {
         "hoverinfo": "skip",
         "mode": "text",
         "showlegend": false,
         "text": [
          ""
         ],
         "textfont": {
          "color": "white",
          "size": 10
         },
         "textposition": "middle center",
         "type": "scatter",
         "x": [
          5
         ],
         "y": [
          27
         ]
        },
        {
         "hoverinfo": "text",
         "hovertext": [
          "Layer 0 expert_6:<br>No data",
          "Layer 1 expert 32 (logit: 7.023):<br>�起: 7.023<br>古镇: 6.668<br>爆: 6.539<br>ackle: 6.340<br>erred: 5.746",
          "Layer 2 expert 45 (logit: 8.805):<br>秩: 8.805<br>ondre: 8.703<br>reta: 8.695<br>мата: 8.609<br>�: 8.570",
          "Layer 3 expert 1 (logit: 8.398):<br>eref: 8.398<br>chor: 7.879<br>凰: 7.820<br>stal: 7.590<br>炎: 7.535",
          "Layer 4 expert 60 (logit: 8.664):<br> pari: 8.664<br>anyol: 8.531<br> falt: 8.406<br> Рил: 8.203<br>attery: 8.062",
          "Layer 5 expert 2 (logit: 9.656):<br>��: 9.656<br>��: 9.094<br>ландия: 8.664<br>landa: 8.500<br>ipe: 8.359",
          "Layer 6 expert 38 (logit: 8.219):<br>穷: 8.219<br>End: 8.172<br>tub: 7.684<br>派: 7.660<br>orage: 7.605",
          "Layer 7 expert 49 (logit: 9.266):<br>ersonals: 9.266<br>leans: 8.953<br>диен: 8.781<br>enth: 8.594<br>inu: 8.398",
          "Layer 8 expert 29 (logit: 9.492):<br>hon: 9.492<br>interopRequireDefault: 8.992<br>iliari: 8.719<br>NonUser: 8.578<br> пен: 8.562",
          "Layer 9 expert 5 (logit: 8.883):<br>ith: 8.883<br>удо: 8.727<br> fabricar: 8.594<br>)_\\: 8.523<br>ards: 8.312",
          "Layer 10 expert 14 (logit: 8.969):<br>atoris: 8.969<br>undos: 8.867<br>Lan: 8.742<br>itats: 8.688<br>Eqn: 8.586",
          "Layer 11 expert 27 (logit: 9.086):<br>ffi: 9.086<br>abras: 9.070<br>不长: 8.766<br>供: 8.758<br>�: 8.742",
          "Layer 12 expert 0 (logit: 9.203):<br>或缺: 9.203<br>mixin: 8.969<br>уни: 8.453<br>硬: 8.336<br>对方: 8.281",
          "Layer 13 expert 2 (logit: 8.125):<br> Syr: 8.125<br>тани: 7.922<br>举: 7.844<br>orio: 7.828<br> stub: 7.488",
          "Layer 14 expert 23 (logit: 8.906):<br>вици: 8.906<br> fall: 8.672<br>above: 8.344<br> Blockly: 8.062<br>ndre: 8.039",
          "Layer 15 expert 29 (logit: 8.625):<br>cia: 8.625<br>wich: 8.562<br>istocr: 8.258<br>ummy: 8.211<br>umed: 8.156",
          "Layer 16 expert 41 (logit: 8.852):<br>ately: 8.852<br>idding: 8.812<br>itur: 8.766<br>ostic: 8.680<br>inaire: 8.539",
          "Layer 17 expert 27 (logit: 8.891):<br> тек: 8.891<br>ULD: 8.688<br>meu: 8.555<br>mxd: 8.438<br>UID: 8.328",
          "Layer 18 expert 35 (logit: 8.562):<br>igh: 8.562<br>verage: 8.367<br> past: 8.305<br>IGH: 8.133<br>鄂: 8.125",
          "Layer 19 expert 56 (logit: 9.570):<br>当地人: 9.570<br>лищ: 8.844<br>ител: 8.773<br>opian: 8.742<br>当地: 8.344",
          "Layer 20 expert 30 (logit: 9.281):<br>set: 9.281<br>id: 9.227<br>cos: 9.055<br>еку: 9.047<br>ide: 8.656",
          "Layer 21 expert 48 (logit: 8.578):<br> aspect: 8.578<br>vena: 8.250<br>ROUGH: 8.016<br> proporcional: 7.879<br> Wa: 7.797",
          "Layer 22 expert 25 (logit: 9.102):<br>tel: 9.102<br>анс: 8.680<br>辛: 8.664<br>�: 8.492<br>cnics: 8.219",
          "Layer 23 expert 49 (logit: 8.898):<br>全区: 8.898<br>ornament: 8.883<br>Transc: 8.672<br>WIRE: 8.438<br>骨�: 8.312",
          "Layer 24 expert 29 (logit: 9.008):<br>/: 9.008<br>ens: 8.898<br>сло: 8.555<br> Leg: 8.477<br>联系电话: 8.305",
          "Layer 25 expert 36 (logit: 9.039):<br> let: 9.039<br>Read: 8.430<br>ринг: 8.422<br>NOSCRIPT: 8.070<br>司: 7.918",
          "Layer 26 expert 48 (logit: 9.375):<br>ghed: 9.375<br>клопе: 9.031<br>ilee: 8.133<br>onite: 7.891<br> среща: 7.871",
          "Layer 27 expert 34 (logit: 9.758):<br>oes: 9.758<br>好后: 8.422<br>而生: 8.180<br>gler: 7.945<br>жител: 7.941"
         ],
         "marker": {
          "cmax": 35.25,
          "cmin": 0.06951904296875,
          "color": [
           null,
           7.0234375,
           8.8046875,
           8.3984375,
           8.6640625,
           9.65625,
           8.21875,
           9.265625,
           9.4921875,
           8.8828125,
           8.96875,
           9.0859375,
           9.203125,
           8.125,
           8.90625,
           8.625,
           8.8515625,
           8.890625,
           8.5625,
           9.5703125,
           9.28125,
           8.578125,
           9.1015625,
           8.8984375,
           9.0078125,
           9.0390625,
           9.375,
           9.7578125
          ],
          "colorscale": [
           [
            0,
            "rgb(68,1,84)"
           ],
           [
            0.25,
            "rgb(59,82,139)"
           ],
           [
            0.5,
            "rgb(33,144,141)"
           ],
           [
            0.75,
            "rgb(93,201,99)"
           ],
           [
            1,
            "rgb(253,231,37)"
           ]
          ],
          "line": {
           "color": "rgba(255,255,255,0.2)",
           "width": 1
          },
          "showscale": false,
          "size": 50,
          "symbol": "square"
         },
         "mode": "markers",
         "showlegend": false,
         "type": "scatter",
         "x": [
          6,
          6,
          6,
          6,
          6,
          6,
          6,
          6,
          6,
          6,
          6,
          6,
          6,
          6,
          6,
          6,
          6,
          6,
          6,
          6,
          6,
          6,
          6,
          6,
          6,
          6,
          6,
          6
         ],
         "y": [
          0,
          1,
          2,
          3,
          4,
          5,
          6,
          7,
          8,
          9,
          10,
          11,
          12,
          13,
          14,
          15,
          16,
          17,
          18,
          19,
          20,
          21,
          22,
          23,
          24,
          25,
          26,
          27
         ]
        },
        {
         "hoverinfo": "skip",
         "mode": "text",
         "showlegend": false,
         "text": [
          "32",
          "45",
          "1",
          "60",
          "2",
          "38",
          "49",
          "29",
          "5",
          "14",
          "27",
          "0",
          "2",
          "23",
          "29",
          "41",
          "27",
          "35",
          "56",
          "30",
          "48",
          "25",
          "49",
          "29",
          "36",
          "48",
          "34"
         ],
         "textfont": {
          "color": "white",
          "size": 10
         },
         "textposition": "middle center",
         "type": "scatter",
         "x": [
          5.8,
          5.8,
          5.8,
          5.8,
          5.8,
          5.8,
          5.8,
          5.8,
          5.8,
          5.8,
          5.8,
          5.8,
          5.8,
          5.8,
          5.8,
          5.8,
          5.8,
          5.8,
          5.8,
          5.8,
          5.8,
          5.8,
          5.8,
          5.8,
          5.8,
          5.8,
          5.8
         ],
         "y": [
          1.2,
          2.2,
          3.2,
          4.2,
          5.2,
          6.2,
          7.2,
          8.2,
          9.2,
          10.2,
          11.2,
          12.2,
          13.2,
          14.2,
          15.2,
          16.2,
          17.2,
          18.2,
          19.2,
          20.2,
          21.2,
          22.2,
          23.2,
          24.2,
          25.2,
          26.2,
          27.2
         ]
        },
        {
         "hoverinfo": "skip",
         "mode": "text",
         "showlegend": false,
         "text": [
          "�起"
         ],
         "textfont": {
          "color": "white",
          "size": 10
         },
         "textposition": "middle center",
         "type": "scatter",
         "x": [
          6
         ],
         "y": [
          1
         ]
        },
        {
         "hoverinfo": "skip",
         "mode": "text",
         "showlegend": false,
         "text": [
          "秩"
         ],
         "textfont": {
          "color": "white",
          "size": 10
         },
         "textposition": "middle center",
         "type": "scatter",
         "x": [
          6
         ],
         "y": [
          2
         ]
        },
        {
         "hoverinfo": "skip",
         "mode": "text",
         "showlegend": false,
         "text": [
          "eref"
         ],
         "textfont": {
          "color": "white",
          "size": 10
         },
         "textposition": "middle center",
         "type": "scatter",
         "x": [
          6
         ],
         "y": [
          3
         ]
        },
        {
         "hoverinfo": "skip",
         "mode": "text",
         "showlegend": false,
         "text": [
          " pari"
         ],
         "textfont": {
          "color": "white",
          "size": 10
         },
         "textposition": "middle center",
         "type": "scatter",
         "x": [
          6
         ],
         "y": [
          4
         ]
        },
        {
         "hoverinfo": "skip",
         "mode": "text",
         "showlegend": false,
         "text": [
          "��"
         ],
         "textfont": {
          "color": "white",
          "size": 10
         },
         "textposition": "middle center",
         "type": "scatter",
         "x": [
          6
         ],
         "y": [
          5
         ]
        },
        {
         "hoverinfo": "skip",
         "mode": "text",
         "showlegend": false,
         "text": [
          "穷"
         ],
         "textfont": {
          "color": "white",
          "size": 10
         },
         "textposition": "middle center",
         "type": "scatter",
         "x": [
          6
         ],
         "y": [
          6
         ]
        },
        {
         "hoverinfo": "skip",
         "mode": "text",
         "showlegend": false,
         "text": [
          "ersonals"
         ],
         "textfont": {
          "color": "white",
          "size": 10
         },
         "textposition": "middle center",
         "type": "scatter",
         "x": [
          6
         ],
         "y": [
          7
         ]
        },
        {
         "hoverinfo": "skip",
         "mode": "text",
         "showlegend": false,
         "text": [
          "hon"
         ],
         "textfont": {
          "color": "white",
          "size": 10
         },
         "textposition": "middle center",
         "type": "scatter",
         "x": [
          6
         ],
         "y": [
          8
         ]
        },
        {
         "hoverinfo": "skip",
         "mode": "text",
         "showlegend": false,
         "text": [
          "ith"
         ],
         "textfont": {
          "color": "white",
          "size": 10
         },
         "textposition": "middle center",
         "type": "scatter",
         "x": [
          6
         ],
         "y": [
          9
         ]
        },
        {
         "hoverinfo": "skip",
         "mode": "text",
         "showlegend": false,
         "text": [
          "atoris"
         ],
         "textfont": {
          "color": "white",
          "size": 10
         },
         "textposition": "middle center",
         "type": "scatter",
         "x": [
          6
         ],
         "y": [
          10
         ]
        },
        {
         "hoverinfo": "skip",
         "mode": "text",
         "showlegend": false,
         "text": [
          "ffi"
         ],
         "textfont": {
          "color": "white",
          "size": 10
         },
         "textposition": "middle center",
         "type": "scatter",
         "x": [
          6
         ],
         "y": [
          11
         ]
        },
        {
         "hoverinfo": "skip",
         "mode": "text",
         "showlegend": false,
         "text": [
          "或缺"
         ],
         "textfont": {
          "color": "white",
          "size": 10
         },
         "textposition": "middle center",
         "type": "scatter",
         "x": [
          6
         ],
         "y": [
          12
         ]
        },
        {
         "hoverinfo": "skip",
         "mode": "text",
         "showlegend": false,
         "text": [
          " Syr"
         ],
         "textfont": {
          "color": "white",
          "size": 10
         },
         "textposition": "middle center",
         "type": "scatter",
         "x": [
          6
         ],
         "y": [
          13
         ]
        },
        {
         "hoverinfo": "skip",
         "mode": "text",
         "showlegend": false,
         "text": [
          "вици"
         ],
         "textfont": {
          "color": "white",
          "size": 10
         },
         "textposition": "middle center",
         "type": "scatter",
         "x": [
          6
         ],
         "y": [
          14
         ]
        },
        {
         "hoverinfo": "skip",
         "mode": "text",
         "showlegend": false,
         "text": [
          "cia"
         ],
         "textfont": {
          "color": "white",
          "size": 10
         },
         "textposition": "middle center",
         "type": "scatter",
         "x": [
          6
         ],
         "y": [
          15
         ]
        },
        {
         "hoverinfo": "skip",
         "mode": "text",
         "showlegend": false,
         "text": [
          "ately"
         ],
         "textfont": {
          "color": "white",
          "size": 10
         },
         "textposition": "middle center",
         "type": "scatter",
         "x": [
          6
         ],
         "y": [
          16
         ]
        },
        {
         "hoverinfo": "skip",
         "mode": "text",
         "showlegend": false,
         "text": [
          " тек"
         ],
         "textfont": {
          "color": "white",
          "size": 10
         },
         "textposition": "middle center",
         "type": "scatter",
         "x": [
          6
         ],
         "y": [
          17
         ]
        },
        {
         "hoverinfo": "skip",
         "mode": "text",
         "showlegend": false,
         "text": [
          "igh"
         ],
         "textfont": {
          "color": "white",
          "size": 10
         },
         "textposition": "middle center",
         "type": "scatter",
         "x": [
          6
         ],
         "y": [
          18
         ]
        },
        {
         "hoverinfo": "skip",
         "mode": "text",
         "showlegend": false,
         "text": [
          "当地人"
         ],
         "textfont": {
          "color": "white",
          "size": 10
         },
         "textposition": "middle center",
         "type": "scatter",
         "x": [
          6
         ],
         "y": [
          19
         ]
        },
        {
         "hoverinfo": "skip",
         "mode": "text",
         "showlegend": false,
         "text": [
          "set"
         ],
         "textfont": {
          "color": "white",
          "size": 10
         },
         "textposition": "middle center",
         "type": "scatter",
         "x": [
          6
         ],
         "y": [
          20
         ]
        },
        {
         "hoverinfo": "skip",
         "mode": "text",
         "showlegend": false,
         "text": [
          " aspect"
         ],
         "textfont": {
          "color": "white",
          "size": 10
         },
         "textposition": "middle center",
         "type": "scatter",
         "x": [
          6
         ],
         "y": [
          21
         ]
        },
        {
         "hoverinfo": "skip",
         "mode": "text",
         "showlegend": false,
         "text": [
          "tel"
         ],
         "textfont": {
          "color": "white",
          "size": 10
         },
         "textposition": "middle center",
         "type": "scatter",
         "x": [
          6
         ],
         "y": [
          22
         ]
        },
        {
         "hoverinfo": "skip",
         "mode": "text",
         "showlegend": false,
         "text": [
          "全区"
         ],
         "textfont": {
          "color": "white",
          "size": 10
         },
         "textposition": "middle center",
         "type": "scatter",
         "x": [
          6
         ],
         "y": [
          23
         ]
        },
        {
         "hoverinfo": "skip",
         "mode": "text",
         "showlegend": false,
         "text": [
          "/"
         ],
         "textfont": {
          "color": "white",
          "size": 10
         },
         "textposition": "middle center",
         "type": "scatter",
         "x": [
          6
         ],
         "y": [
          24
         ]
        },
        {
         "hoverinfo": "skip",
         "mode": "text",
         "showlegend": false,
         "text": [
          " let"
         ],
         "textfont": {
          "color": "white",
          "size": 10
         },
         "textposition": "middle center",
         "type": "scatter",
         "x": [
          6
         ],
         "y": [
          25
         ]
        },
        {
         "hoverinfo": "skip",
         "mode": "text",
         "showlegend": false,
         "text": [
          "ghed"
         ],
         "textfont": {
          "color": "white",
          "size": 10
         },
         "textposition": "middle center",
         "type": "scatter",
         "x": [
          6
         ],
         "y": [
          26
         ]
        },
        {
         "hoverinfo": "skip",
         "mode": "text",
         "showlegend": false,
         "text": [
          "oes"
         ],
         "textfont": {
          "color": "white",
          "size": 10
         },
         "textposition": "middle center",
         "type": "scatter",
         "x": [
          6
         ],
         "y": [
          27
         ]
        },
        {
         "hoverinfo": "text",
         "hovertext": [
          "Layer 0 shared:<br>No data",
          "Layer 1 shared (logit: 0.070):<br>eur: 0.070<br> среда: 0.069<br>chain: 0.065<br>ette: 0.065<br>penet: 0.064",
          "Layer 2 shared (logit: 0.135):<br>Cci: 0.135<br>пове: 0.120<br>бла: 0.118<br>apter: 0.115<br>ynchronously: 0.114",
          "Layer 3 shared (logit: 0.311):<br>грани: 0.311<br>igl: 0.309<br>ancourt: 0.289<br>чия: 0.286<br> Banc: 0.280",
          "Layer 4 shared (logit: 0.400):<br>annels: 0.400<br> civils: 0.389<br> visibles: 0.364<br>amely: 0.360<br>myItem: 0.353",
          "Layer 5 shared (logit: 0.807):<br>uliar: 0.807<br>位的: 0.702<br> глас: 0.693<br>noma: 0.688<br>otal: 0.682",
          "Layer 6 shared (logit: 0.795):<br> : 0.795<br>_: 0.605<br> pant: 0.590<br>ses: 0.576<br>ologies: 0.565",
          "Layer 7 shared (logit: 0.658):<br>iced: 0.658<br>тии: 0.526<br> ass: 0.507<br> apostrophe: 0.497<br>抵达: 0.494",
          "Layer 8 shared (logit: 0.681):<br>wound: 0.681<br> направи: 0.672<br>��: 0.633<br>тинг: 0.621<br>dW: 0.620",
          "Layer 9 shared (logit: 0.656):<br>aling: 0.656<br> Excurs: 0.645<br> strand: 0.632<br>rors: 0.627<br>itzerland: 0.623",
          "Layer 10 shared (logit: 0.850):<br>sics: 0.850<br>bur: 0.816<br>apac: 0.774<br>лад: 0.767<br>esca: 0.757",
          "Layer 11 shared (logit: 0.767):<br>acam: 0.767<br>agio: 0.763<br>лец: 0.746<br>dures: 0.739<br>rale: 0.734",
          "Layer 12 shared (logit: 0.980):<br>轻盈: 0.980<br>折: 0.924<br>拯: 0.910<br>дем: 0.869<br>щер: 0.860",
          "Layer 13 shared (logit: 0.899):<br>rep: 0.899<br>ermita: 0.888<br>待: 0.872<br>隶: 0.870<br> Dew: 0.855",
          "Layer 14 shared (logit: 1.235):<br>нята: 1.235<br>ρο: 1.215<br>дова: 1.199<br>sies: 1.121<br>ogan: 1.109",
          "Layer 15 shared (logit: 1.387):<br> IP: 1.387<br> p: 1.296<br> l: 1.192<br> P: 1.173<br> : 1.135",
          "Layer 16 shared (logit: 1.167):<br>ycl: 1.167<br>orda: 1.097<br>matory: 1.053<br>osi: 1.037<br>羊: 1.010",
          "Layer 17 shared (logit: 1.208):<br> vaga: 1.208<br>columna: 1.102<br>uchy: 1.067<br>auss: 1.044<br>caja: 1.038",
          "Layer 18 shared (logit: 0.920):<br>'>&: 0.920<br>насти: 0.896<br>loyd: 0.873<br>ascade: 0.865<br>errat: 0.863",
          "Layer 19 shared (logit: 1.054):<br>bitField: 1.054<br>riques: 0.933<br>legi: 0.856<br>{``: 0.848<br>昭: 0.831",
          "Layer 20 shared (logit: 0.976):<br> J: 0.976<br> impressi: 0.909<br>lan: 0.900<br>前后: 0.900<br> germana: 0.898",
          "Layer 21 shared (logit: 1.242):<br>ulats: 1.242<br>estaci: 1.216<br>bitat: 1.090<br>itably: 1.064<br>ramfs: 1.062",
          "Layer 22 shared (logit: 1.460):<br>iterr: 1.460<br>ambda: 1.424<br>ashington: 1.371<br>atform: 1.261<br>式设计: 1.245",
          "Layer 23 shared (logit: 1.311):<br>侥: 1.311<br>饪: 1.246<br>稣: 1.133<br>psfrag: 1.115<br>皂: 1.079",
          "Layer 24 shared (logit: 1.643):<br>的经验: 1.643<br>体验: 1.619<br>经验的: 1.518<br>experience: 1.461<br>经验: 1.454",
          "Layer 25 shared (logit: 4.176):<br>,: 4.176<br>.: 3.049<br>:: 2.996<br>1: 2.840<br> : 2.711",
          "Layer 26 shared (logit: 10.594):<br> : 10.594<br>-: 10.312<br>:: 9.609<br>.: 9.609<br>(: 9.141",
          "Layer 27 shared (logit: 9.711):<br> san: 9.711<br> pe: 9.578<br> vib: 9.539<br> en: 9.469<br> dis: 9.453"
         ],
         "marker": {
          "cmax": 35.25,
          "cmin": 0.06951904296875,
          "color": [
           null,
           0.06951904296875,
           0.134521484375,
           0.310791015625,
           0.400146484375,
           0.806640625,
           0.79541015625,
           0.65771484375,
           0.6806640625,
           0.65625,
           0.85009765625,
           0.76708984375,
           0.98046875,
           0.8994140625,
           1.2353515625,
           1.38671875,
           1.1669921875,
           1.2080078125,
           0.92041015625,
           1.0537109375,
           0.9755859375,
           1.2421875,
           1.4599609375,
           1.310546875,
           1.642578125,
           4.17578125,
           10.59375,
           9.7109375
          ],
          "colorscale": [
           [
            0,
            "rgb(68,1,84)"
           ],
           [
            0.25,
            "rgb(59,82,139)"
           ],
           [
            0.5,
            "rgb(33,144,141)"
           ],
           [
            0.75,
            "rgb(93,201,99)"
           ],
           [
            1,
            "rgb(253,231,37)"
           ]
          ],
          "line": {
           "color": "rgba(255,255,255,0.2)",
           "width": 1
          },
          "showscale": false,
          "size": 50,
          "symbol": "square"
         },
         "mode": "markers",
         "showlegend": false,
         "type": "scatter",
         "x": [
          7,
          7,
          7,
          7,
          7,
          7,
          7,
          7,
          7,
          7,
          7,
          7,
          7,
          7,
          7,
          7,
          7,
          7,
          7,
          7,
          7,
          7,
          7,
          7,
          7,
          7,
          7,
          7
         ],
         "y": [
          0,
          1,
          2,
          3,
          4,
          5,
          6,
          7,
          8,
          9,
          10,
          11,
          12,
          13,
          14,
          15,
          16,
          17,
          18,
          19,
          20,
          21,
          22,
          23,
          24,
          25,
          26,
          27
         ]
        },
        {
         "hoverinfo": "skip",
         "mode": "text",
         "showlegend": false,
         "text": [
          "eur"
         ],
         "textfont": {
          "color": "white",
          "size": 10
         },
         "textposition": "middle center",
         "type": "scatter",
         "x": [
          7
         ],
         "y": [
          1
         ]
        },
        {
         "hoverinfo": "skip",
         "mode": "text",
         "showlegend": false,
         "text": [
          "Cci"
         ],
         "textfont": {
          "color": "white",
          "size": 10
         },
         "textposition": "middle center",
         "type": "scatter",
         "x": [
          7
         ],
         "y": [
          2
         ]
        },
        {
         "hoverinfo": "skip",
         "mode": "text",
         "showlegend": false,
         "text": [
          "грани"
         ],
         "textfont": {
          "color": "white",
          "size": 10
         },
         "textposition": "middle center",
         "type": "scatter",
         "x": [
          7
         ],
         "y": [
          3
         ]
        },
        {
         "hoverinfo": "skip",
         "mode": "text",
         "showlegend": false,
         "text": [
          "annels"
         ],
         "textfont": {
          "color": "white",
          "size": 10
         },
         "textposition": "middle center",
         "type": "scatter",
         "x": [
          7
         ],
         "y": [
          4
         ]
        },
        {
         "hoverinfo": "skip",
         "mode": "text",
         "showlegend": false,
         "text": [
          "uliar"
         ],
         "textfont": {
          "color": "white",
          "size": 10
         },
         "textposition": "middle center",
         "type": "scatter",
         "x": [
          7
         ],
         "y": [
          5
         ]
        },
        {
         "hoverinfo": "skip",
         "mode": "text",
         "showlegend": false,
         "text": [
          " "
         ],
         "textfont": {
          "color": "white",
          "size": 10
         },
         "textposition": "middle center",
         "type": "scatter",
         "x": [
          7
         ],
         "y": [
          6
         ]
        },
        {
         "hoverinfo": "skip",
         "mode": "text",
         "showlegend": false,
         "text": [
          "iced"
         ],
         "textfont": {
          "color": "white",
          "size": 10
         },
         "textposition": "middle center",
         "type": "scatter",
         "x": [
          7
         ],
         "y": [
          7
         ]
        },
        {
         "hoverinfo": "skip",
         "mode": "text",
         "showlegend": false,
         "text": [
          "wound"
         ],
         "textfont": {
          "color": "white",
          "size": 10
         },
         "textposition": "middle center",
         "type": "scatter",
         "x": [
          7
         ],
         "y": [
          8
         ]
        },
        {
         "hoverinfo": "skip",
         "mode": "text",
         "showlegend": false,
         "text": [
          "aling"
         ],
         "textfont": {
          "color": "white",
          "size": 10
         },
         "textposition": "middle center",
         "type": "scatter",
         "x": [
          7
         ],
         "y": [
          9
         ]
        },
        {
         "hoverinfo": "skip",
         "mode": "text",
         "showlegend": false,
         "text": [
          "sics"
         ],
         "textfont": {
          "color": "white",
          "size": 10
         },
         "textposition": "middle center",
         "type": "scatter",
         "x": [
          7
         ],
         "y": [
          10
         ]
        },
        {
         "hoverinfo": "skip",
         "mode": "text",
         "showlegend": false,
         "text": [
          "acam"
         ],
         "textfont": {
          "color": "white",
          "size": 10
         },
         "textposition": "middle center",
         "type": "scatter",
         "x": [
          7
         ],
         "y": [
          11
         ]
        },
        {
         "hoverinfo": "skip",
         "mode": "text",
         "showlegend": false,
         "text": [
          "轻盈"
         ],
         "textfont": {
          "color": "white",
          "size": 10
         },
         "textposition": "middle center",
         "type": "scatter",
         "x": [
          7
         ],
         "y": [
          12
         ]
        },
        {
         "hoverinfo": "skip",
         "mode": "text",
         "showlegend": false,
         "text": [
          "rep"
         ],
         "textfont": {
          "color": "white",
          "size": 10
         },
         "textposition": "middle center",
         "type": "scatter",
         "x": [
          7
         ],
         "y": [
          13
         ]
        },
        {
         "hoverinfo": "skip",
         "mode": "text",
         "showlegend": false,
         "text": [
          "нята"
         ],
         "textfont": {
          "color": "white",
          "size": 10
         },
         "textposition": "middle center",
         "type": "scatter",
         "x": [
          7
         ],
         "y": [
          14
         ]
        },
        {
         "hoverinfo": "skip",
         "mode": "text",
         "showlegend": false,
         "text": [
          " IP"
         ],
         "textfont": {
          "color": "white",
          "size": 10
         },
         "textposition": "middle center",
         "type": "scatter",
         "x": [
          7
         ],
         "y": [
          15
         ]
        },
        {
         "hoverinfo": "skip",
         "mode": "text",
         "showlegend": false,
         "text": [
          "ycl"
         ],
         "textfont": {
          "color": "white",
          "size": 10
         },
         "textposition": "middle center",
         "type": "scatter",
         "x": [
          7
         ],
         "y": [
          16
         ]
        },
        {
         "hoverinfo": "skip",
         "mode": "text",
         "showlegend": false,
         "text": [
          " vaga"
         ],
         "textfont": {
          "color": "white",
          "size": 10
         },
         "textposition": "middle center",
         "type": "scatter",
         "x": [
          7
         ],
         "y": [
          17
         ]
        },
        {
         "hoverinfo": "skip",
         "mode": "text",
         "showlegend": false,
         "text": [
          "'>&"
         ],
         "textfont": {
          "color": "white",
          "size": 10
         },
         "textposition": "middle center",
         "type": "scatter",
         "x": [
          7
         ],
         "y": [
          18
         ]
        },
        {
         "hoverinfo": "skip",
         "mode": "text",
         "showlegend": false,
         "text": [
          "bitField"
         ],
         "textfont": {
          "color": "white",
          "size": 10
         },
         "textposition": "middle center",
         "type": "scatter",
         "x": [
          7
         ],
         "y": [
          19
         ]
        },
        {
         "hoverinfo": "skip",
         "mode": "text",
         "showlegend": false,
         "text": [
          " J"
         ],
         "textfont": {
          "color": "white",
          "size": 10
         },
         "textposition": "middle center",
         "type": "scatter",
         "x": [
          7
         ],
         "y": [
          20
         ]
        },
        {
         "hoverinfo": "skip",
         "mode": "text",
         "showlegend": false,
         "text": [
          "ulats"
         ],
         "textfont": {
          "color": "white",
          "size": 10
         },
         "textposition": "middle center",
         "type": "scatter",
         "x": [
          7
         ],
         "y": [
          21
         ]
        },
        {
         "hoverinfo": "skip",
         "mode": "text",
         "showlegend": false,
         "text": [
          "iterr"
         ],
         "textfont": {
          "color": "white",
          "size": 10
         },
         "textposition": "middle center",
         "type": "scatter",
         "x": [
          7
         ],
         "y": [
          22
         ]
        },
        {
         "hoverinfo": "skip",
         "mode": "text",
         "showlegend": false,
         "text": [
          "侥"
         ],
         "textfont": {
          "color": "white",
          "size": 10
         },
         "textposition": "middle center",
         "type": "scatter",
         "x": [
          7
         ],
         "y": [
          23
         ]
        },
        {
         "hoverinfo": "skip",
         "mode": "text",
         "showlegend": false,
         "text": [
          "的经验"
         ],
         "textfont": {
          "color": "white",
          "size": 10
         },
         "textposition": "middle center",
         "type": "scatter",
         "x": [
          7
         ],
         "y": [
          24
         ]
        },
        {
         "hoverinfo": "skip",
         "mode": "text",
         "showlegend": false,
         "text": [
          ","
         ],
         "textfont": {
          "color": "white",
          "size": 10
         },
         "textposition": "middle center",
         "type": "scatter",
         "x": [
          7
         ],
         "y": [
          25
         ]
        },
        {
         "hoverinfo": "skip",
         "mode": "text",
         "showlegend": false,
         "text": [
          " "
         ],
         "textfont": {
          "color": "white",
          "size": 10
         },
         "textposition": "middle center",
         "type": "scatter",
         "x": [
          7
         ],
         "y": [
          26
         ]
        },
        {
         "hoverinfo": "skip",
         "mode": "text",
         "showlegend": false,
         "text": [
          " san"
         ],
         "textfont": {
          "color": "white",
          "size": 10
         },
         "textposition": "middle center",
         "type": "scatter",
         "x": [
          7
         ],
         "y": [
          27
         ]
        }
       ],
       "layout": {
        "height": 2900,
        "hovermode": "closest",
        "margin": {
         "b": 100,
         "l": 50,
         "r": 50,
         "t": 100
        },
        "paper_bgcolor": "rgb(17,17,17)",
        "plot_bgcolor": "rgb(17,17,17)",
        "template": {
         "data": {
          "bar": [
           {
            "error_x": {
             "color": "#2a3f5f"
            },
            "error_y": {
             "color": "#2a3f5f"
            },
            "marker": {
             "line": {
              "color": "#E5ECF6",
              "width": 0.5
             },
             "pattern": {
              "fillmode": "overlay",
              "size": 10,
              "solidity": 0.2
             }
            },
            "type": "bar"
           }
          ],
          "barpolar": [
           {
            "marker": {
             "line": {
              "color": "#E5ECF6",
              "width": 0.5
             },
             "pattern": {
              "fillmode": "overlay",
              "size": 10,
              "solidity": 0.2
             }
            },
            "type": "barpolar"
           }
          ],
          "carpet": [
           {
            "aaxis": {
             "endlinecolor": "#2a3f5f",
             "gridcolor": "white",
             "linecolor": "white",
             "minorgridcolor": "white",
             "startlinecolor": "#2a3f5f"
            },
            "baxis": {
             "endlinecolor": "#2a3f5f",
             "gridcolor": "white",
             "linecolor": "white",
             "minorgridcolor": "white",
             "startlinecolor": "#2a3f5f"
            },
            "type": "carpet"
           }
          ],
          "choropleth": [
           {
            "colorbar": {
             "outlinewidth": 0,
             "ticks": ""
            },
            "type": "choropleth"
           }
          ],
          "contour": [
           {
            "colorbar": {
             "outlinewidth": 0,
             "ticks": ""
            },
            "colorscale": [
             [
              0,
              "#0d0887"
             ],
             [
              0.1111111111111111,
              "#46039f"
             ],
             [
              0.2222222222222222,
              "#7201a8"
             ],
             [
              0.3333333333333333,
              "#9c179e"
             ],
             [
              0.4444444444444444,
              "#bd3786"
             ],
             [
              0.5555555555555556,
              "#d8576b"
             ],
             [
              0.6666666666666666,
              "#ed7953"
             ],
             [
              0.7777777777777778,
              "#fb9f3a"
             ],
             [
              0.8888888888888888,
              "#fdca26"
             ],
             [
              1,
              "#f0f921"
             ]
            ],
            "type": "contour"
           }
          ],
          "contourcarpet": [
           {
            "colorbar": {
             "outlinewidth": 0,
             "ticks": ""
            },
            "type": "contourcarpet"
           }
          ],
          "heatmap": [
           {
            "colorbar": {
             "outlinewidth": 0,
             "ticks": ""
            },
            "colorscale": [
             [
              0,
              "#0d0887"
             ],
             [
              0.1111111111111111,
              "#46039f"
             ],
             [
              0.2222222222222222,
              "#7201a8"
             ],
             [
              0.3333333333333333,
              "#9c179e"
             ],
             [
              0.4444444444444444,
              "#bd3786"
             ],
             [
              0.5555555555555556,
              "#d8576b"
             ],
             [
              0.6666666666666666,
              "#ed7953"
             ],
             [
              0.7777777777777778,
              "#fb9f3a"
             ],
             [
              0.8888888888888888,
              "#fdca26"
             ],
             [
              1,
              "#f0f921"
             ]
            ],
            "type": "heatmap"
           }
          ],
          "heatmapgl": [
           {
            "colorbar": {
             "outlinewidth": 0,
             "ticks": ""
            },
            "colorscale": [
             [
              0,
              "#0d0887"
             ],
             [
              0.1111111111111111,
              "#46039f"
             ],
             [
              0.2222222222222222,
              "#7201a8"
             ],
             [
              0.3333333333333333,
              "#9c179e"
             ],
             [
              0.4444444444444444,
              "#bd3786"
             ],
             [
              0.5555555555555556,
              "#d8576b"
             ],
             [
              0.6666666666666666,
              "#ed7953"
             ],
             [
              0.7777777777777778,
              "#fb9f3a"
             ],
             [
              0.8888888888888888,
              "#fdca26"
             ],
             [
              1,
              "#f0f921"
             ]
            ],
            "type": "heatmapgl"
           }
          ],
          "histogram": [
           {
            "marker": {
             "pattern": {
              "fillmode": "overlay",
              "size": 10,
              "solidity": 0.2
             }
            },
            "type": "histogram"
           }
          ],
          "histogram2d": [
           {
            "colorbar": {
             "outlinewidth": 0,
             "ticks": ""
            },
            "colorscale": [
             [
              0,
              "#0d0887"
             ],
             [
              0.1111111111111111,
              "#46039f"
             ],
             [
              0.2222222222222222,
              "#7201a8"
             ],
             [
              0.3333333333333333,
              "#9c179e"
             ],
             [
              0.4444444444444444,
              "#bd3786"
             ],
             [
              0.5555555555555556,
              "#d8576b"
             ],
             [
              0.6666666666666666,
              "#ed7953"
             ],
             [
              0.7777777777777778,
              "#fb9f3a"
             ],
             [
              0.8888888888888888,
              "#fdca26"
             ],
             [
              1,
              "#f0f921"
             ]
            ],
            "type": "histogram2d"
           }
          ],
          "histogram2dcontour": [
           {
            "colorbar": {
             "outlinewidth": 0,
             "ticks": ""
            },
            "colorscale": [
             [
              0,
              "#0d0887"
             ],
             [
              0.1111111111111111,
              "#46039f"
             ],
             [
              0.2222222222222222,
              "#7201a8"
             ],
             [
              0.3333333333333333,
              "#9c179e"
             ],
             [
              0.4444444444444444,
              "#bd3786"
             ],
             [
              0.5555555555555556,
              "#d8576b"
             ],
             [
              0.6666666666666666,
              "#ed7953"
             ],
             [
              0.7777777777777778,
              "#fb9f3a"
             ],
             [
              0.8888888888888888,
              "#fdca26"
             ],
             [
              1,
              "#f0f921"
             ]
            ],
            "type": "histogram2dcontour"
           }
          ],
          "mesh3d": [
           {
            "colorbar": {
             "outlinewidth": 0,
             "ticks": ""
            },
            "type": "mesh3d"
           }
          ],
          "parcoords": [
           {
            "line": {
             "colorbar": {
              "outlinewidth": 0,
              "ticks": ""
             }
            },
            "type": "parcoords"
           }
          ],
          "pie": [
           {
            "automargin": true,
            "type": "pie"
           }
          ],
          "scatter": [
           {
            "fillpattern": {
             "fillmode": "overlay",
             "size": 10,
             "solidity": 0.2
            },
            "type": "scatter"
           }
          ],
          "scatter3d": [
           {
            "line": {
             "colorbar": {
              "outlinewidth": 0,
              "ticks": ""
             }
            },
            "marker": {
             "colorbar": {
              "outlinewidth": 0,
              "ticks": ""
             }
            },
            "type": "scatter3d"
           }
          ],
          "scattercarpet": [
           {
            "marker": {
             "colorbar": {
              "outlinewidth": 0,
              "ticks": ""
             }
            },
            "type": "scattercarpet"
           }
          ],
          "scattergeo": [
           {
            "marker": {
             "colorbar": {
              "outlinewidth": 0,
              "ticks": ""
             }
            },
            "type": "scattergeo"
           }
          ],
          "scattergl": [
           {
            "marker": {
             "colorbar": {
              "outlinewidth": 0,
              "ticks": ""
             }
            },
            "type": "scattergl"
           }
          ],
          "scattermapbox": [
           {
            "marker": {
             "colorbar": {
              "outlinewidth": 0,
              "ticks": ""
             }
            },
            "type": "scattermapbox"
           }
          ],
          "scatterpolar": [
           {
            "marker": {
             "colorbar": {
              "outlinewidth": 0,
              "ticks": ""
             }
            },
            "type": "scatterpolar"
           }
          ],
          "scatterpolargl": [
           {
            "marker": {
             "colorbar": {
              "outlinewidth": 0,
              "ticks": ""
             }
            },
            "type": "scatterpolargl"
           }
          ],
          "scatterternary": [
           {
            "marker": {
             "colorbar": {
              "outlinewidth": 0,
              "ticks": ""
             }
            },
            "type": "scatterternary"
           }
          ],
          "surface": [
           {
            "colorbar": {
             "outlinewidth": 0,
             "ticks": ""
            },
            "colorscale": [
             [
              0,
              "#0d0887"
             ],
             [
              0.1111111111111111,
              "#46039f"
             ],
             [
              0.2222222222222222,
              "#7201a8"
             ],
             [
              0.3333333333333333,
              "#9c179e"
             ],
             [
              0.4444444444444444,
              "#bd3786"
             ],
             [
              0.5555555555555556,
              "#d8576b"
             ],
             [
              0.6666666666666666,
              "#ed7953"
             ],
             [
              0.7777777777777778,
              "#fb9f3a"
             ],
             [
              0.8888888888888888,
              "#fdca26"
             ],
             [
              1,
              "#f0f921"
             ]
            ],
            "type": "surface"
           }
          ],
          "table": [
           {
            "cells": {
             "fill": {
              "color": "#EBF0F8"
             },
             "line": {
              "color": "white"
             }
            },
            "header": {
             "fill": {
              "color": "#C8D4E3"
             },
             "line": {
              "color": "white"
             }
            },
            "type": "table"
           }
          ]
         },
         "layout": {
          "annotationdefaults": {
           "arrowcolor": "#2a3f5f",
           "arrowhead": 0,
           "arrowwidth": 1
          },
          "autotypenumbers": "strict",
          "coloraxis": {
           "colorbar": {
            "outlinewidth": 0,
            "ticks": ""
           }
          },
          "colorscale": {
           "diverging": [
            [
             0,
             "#8e0152"
            ],
            [
             0.1,
             "#c51b7d"
            ],
            [
             0.2,
             "#de77ae"
            ],
            [
             0.3,
             "#f1b6da"
            ],
            [
             0.4,
             "#fde0ef"
            ],
            [
             0.5,
             "#f7f7f7"
            ],
            [
             0.6,
             "#e6f5d0"
            ],
            [
             0.7,
             "#b8e186"
            ],
            [
             0.8,
             "#7fbc41"
            ],
            [
             0.9,
             "#4d9221"
            ],
            [
             1,
             "#276419"
            ]
           ],
           "sequential": [
            [
             0,
             "#0d0887"
            ],
            [
             0.1111111111111111,
             "#46039f"
            ],
            [
             0.2222222222222222,
             "#7201a8"
            ],
            [
             0.3333333333333333,
             "#9c179e"
            ],
            [
             0.4444444444444444,
             "#bd3786"
            ],
            [
             0.5555555555555556,
             "#d8576b"
            ],
            [
             0.6666666666666666,
             "#ed7953"
            ],
            [
             0.7777777777777778,
             "#fb9f3a"
            ],
            [
             0.8888888888888888,
             "#fdca26"
            ],
            [
             1,
             "#f0f921"
            ]
           ],
           "sequentialminus": [
            [
             0,
             "#0d0887"
            ],
            [
             0.1111111111111111,
             "#46039f"
            ],
            [
             0.2222222222222222,
             "#7201a8"
            ],
            [
             0.3333333333333333,
             "#9c179e"
            ],
            [
             0.4444444444444444,
             "#bd3786"
            ],
            [
             0.5555555555555556,
             "#d8576b"
            ],
            [
             0.6666666666666666,
             "#ed7953"
            ],
            [
             0.7777777777777778,
             "#fb9f3a"
            ],
            [
             0.8888888888888888,
             "#fdca26"
            ],
            [
             1,
             "#f0f921"
            ]
           ]
          },
          "colorway": [
           "#636efa",
           "#EF553B",
           "#00cc96",
           "#ab63fa",
           "#FFA15A",
           "#19d3f3",
           "#FF6692",
           "#B6E880",
           "#FF97FF",
           "#FECB52"
          ],
          "font": {
           "color": "#2a3f5f"
          },
          "geo": {
           "bgcolor": "white",
           "lakecolor": "white",
           "landcolor": "#E5ECF6",
           "showlakes": true,
           "showland": true,
           "subunitcolor": "white"
          },
          "hoverlabel": {
           "align": "left"
          },
          "hovermode": "closest",
          "mapbox": {
           "style": "light"
          },
          "paper_bgcolor": "white",
          "plot_bgcolor": "#E5ECF6",
          "polar": {
           "angularaxis": {
            "gridcolor": "white",
            "linecolor": "white",
            "ticks": ""
           },
           "bgcolor": "#E5ECF6",
           "radialaxis": {
            "gridcolor": "white",
            "linecolor": "white",
            "ticks": ""
           }
          },
          "scene": {
           "xaxis": {
            "backgroundcolor": "#E5ECF6",
            "gridcolor": "white",
            "gridwidth": 2,
            "linecolor": "white",
            "showbackground": true,
            "ticks": "",
            "zerolinecolor": "white"
           },
           "yaxis": {
            "backgroundcolor": "#E5ECF6",
            "gridcolor": "white",
            "gridwidth": 2,
            "linecolor": "white",
            "showbackground": true,
            "ticks": "",
            "zerolinecolor": "white"
           },
           "zaxis": {
            "backgroundcolor": "#E5ECF6",
            "gridcolor": "white",
            "gridwidth": 2,
            "linecolor": "white",
            "showbackground": true,
            "ticks": "",
            "zerolinecolor": "white"
           }
          },
          "shapedefaults": {
           "line": {
            "color": "#2a3f5f"
           }
          },
          "ternary": {
           "aaxis": {
            "gridcolor": "white",
            "linecolor": "white",
            "ticks": ""
           },
           "baxis": {
            "gridcolor": "white",
            "linecolor": "white",
            "ticks": ""
           },
           "bgcolor": "#E5ECF6",
           "caxis": {
            "gridcolor": "white",
            "linecolor": "white",
            "ticks": ""
           }
          },
          "title": {
           "x": 0.05
          },
          "xaxis": {
           "automargin": true,
           "gridcolor": "white",
           "linecolor": "white",
           "ticks": "",
           "title": {
            "standoff": 15
           },
           "zerolinecolor": "white",
           "zerolinewidth": 2
          },
          "yaxis": {
           "automargin": true,
           "gridcolor": "white",
           "linecolor": "white",
           "ticks": "",
           "title": {
            "standoff": 15
           },
           "zerolinecolor": "white",
           "zerolinewidth": 2
          }
         }
        },
        "title": {
         "font": {
          "color": "white",
          "size": 20
         },
         "text": "Expert Contributions and Predictions",
         "x": 0.5,
         "xanchor": "center",
         "y": 0.98,
         "yanchor": "top"
        },
        "width": 800,
        "xaxis": {
         "color": "white",
         "constrain": "domain",
         "linecolor": "rgba(255,255,255,0.1)",
         "linewidth": 1,
         "range": [
          -0.5,
          7.5
         ],
         "scaleanchor": "y",
         "scaleratio": 1,
         "showgrid": false,
         "showline": true,
         "tickangle": 0,
         "ticktext": [
          "l_out",
          "expert 1",
          "expert 2",
          "expert 3",
          "expert 4",
          "expert 5",
          "expert 6",
          "shared"
         ],
         "tickvals": [
          0,
          1,
          2,
          3,
          4,
          5,
          6,
          7
         ],
         "title": {
          "text": ""
         },
         "zeroline": false
        },
        "yaxis": {
         "autorange": "reversed",
         "color": "white",
         "constrain": "domain",
         "linecolor": "rgba(255,255,255,0.1)",
         "linewidth": 1,
         "range": [
          -0.5,
          27.5
         ],
         "showgrid": false,
         "showline": true,
         "ticktext": [
          "0",
          "1",
          "2",
          "3",
          "4",
          "5",
          "6",
          "7",
          "8",
          "9",
          "10",
          "11",
          "12",
          "13",
          "14",
          "15",
          "16",
          "17",
          "18",
          "19",
          "20",
          "21",
          "22",
          "23",
          "24",
          "25",
          "26",
          "27"
         ],
         "tickvals": [
          0,
          1,
          2,
          3,
          4,
          5,
          6,
          7,
          8,
          9,
          10,
          11,
          12,
          13,
          14,
          15,
          16,
          17,
          18,
          19,
          20,
          21,
          22,
          23,
          24,
          25,
          26,
          27
         ],
         "title": {
          "text": "Layer"
         },
         "zeroline": false
        }
       }
      }
     },
     "metadata": {},
     "output_type": "display_data"
    }
   ],
   "source": [
    "l = []\n",
    "x = len(tokenizer.encode(prompt))\n",
    "print(x)\n",
    "fig = create_logit_lens_viz(analysis, token_pos=x-1, layers_to_plot=l)\n",
    "# save the fig\n",
    "i = 1\n",
    "while os.path.exists(f'logit_lens_viz_{i}.html'):\n",
    "    i += 1\n",
    "fig.write_html(f'logit_lens_viz_{i}.html')\n",
    "fig.write_image(f'logit_lens_viz_{i}.png')\n",
    "fig.show()"
   ]
  },
  {
   "cell_type": "code",
   "execution_count": null,
   "metadata": {},
   "outputs": [],
   "source": []
  }
 ],
 "metadata": {
  "kernelspec": {
   "display_name": "ai_env",
   "language": "python",
   "name": "python3"
  },
  "language_info": {
   "codemirror_mode": {
    "name": "ipython",
    "version": 3
   },
   "file_extension": ".py",
   "mimetype": "text/x-python",
   "name": "python",
   "nbconvert_exporter": "python",
   "pygments_lexer": "ipython3",
   "version": "3.10.13"
  }
 },
 "nbformat": 4,
 "nbformat_minor": 2
}
