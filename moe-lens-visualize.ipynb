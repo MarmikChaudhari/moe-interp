{
 "cells": [
  {
   "cell_type": "code",
   "execution_count": 1,
   "metadata": {},
   "outputs": [],
   "source": [
    "from transformers import AutoModelForCausalLM, AutoTokenizer\n",
    "import torch\n",
    "import plotly.express as px\n",
    "import plotly.graph_objects as go\n",
    "import numpy as np\n",
    "import os\n",
    "from typing import Dict, List, Tuple\n",
    "from collections import defaultdict"
   ]
  },
  {
   "cell_type": "code",
   "execution_count": 2,
   "metadata": {},
   "outputs": [
    {
     "data": {
      "application/vnd.jupyter.widget-view+json": {
       "model_id": "fe4deedf0cd446ddbafaf81d9199ffa2",
       "version_major": 2,
       "version_minor": 0
      },
      "text/plain": [
       "Loading checkpoint shards:   0%|          | 0/7 [00:00<?, ?it/s]"
      ]
     },
     "metadata": {},
     "output_type": "display_data"
    }
   ],
   "source": [
    "def load_model(model_name):\n",
    "    model = AutoModelForCausalLM.from_pretrained(\n",
    "        model_name,\n",
    "        torch_dtype=torch.float16,\n",
    "        trust_remote_code=True,\n",
    "        # use_flash_attention_2=True,\n",
    "    )\n",
    "    tokenizer = AutoTokenizer.from_pretrained(model_name)\n",
    "    return model, tokenizer\n",
    "\n",
    "model, tokenizer = load_model(\"deepseek-ai/deepseek-moe-16b-base\")"
   ]
  },
  {
   "cell_type": "code",
   "execution_count": 3,
   "metadata": {},
   "outputs": [],
   "source": [
    "def get_top_k_tokens(hidden_states: torch.Tensor, lm_head: torch.nn.Linear, tokenizer, k: int = 5) -> List[Tuple[str, float]]:\n",
    "    \"\"\" get topk tokens from hidden states using lm head \"\"\"\n",
    "    with torch.no_grad():\n",
    "        # Ensure hidden_states has at least 2 dimensions (batch_size, num_tokens, hidden_dim)\n",
    "        if hidden_states.dim() == 2:\n",
    "            hidden_states = hidden_states.unsqueeze(0)  # Add batch dimension\n",
    "        logits = lm_head(hidden_states)  # (batch_size, num_tokens, vocab_size)\n",
    "    \n",
    "    # Get top-k tokens\n",
    "    scores, token_ids = torch.topk(logits, k=k, dim=-1)  # (batch_size, num_tokens, k)\n",
    "    \n",
    "    # Decode tokens and collect results for each position\n",
    "    results = []\n",
    "    for pos in range(scores.size(1)):  # Iterate over token positions\n",
    "        pos_results = []\n",
    "        for i in range(k):\n",
    "            token = tokenizer.decode(token_ids[0, pos, i])  # Decode token for this position\n",
    "            score = scores[0, pos, i].item()  # Get score for this position\n",
    "            pos_results.append((token, score))\n",
    "        results.append(pos_results)\n",
    "    \n",
    "    return results"
   ]
  },
  {
   "cell_type": "code",
   "execution_count": 4,
   "metadata": {},
   "outputs": [],
   "source": [
    "class DeepseekLayerAnalyzer:\n",
    "    def __init__(self, model, tokenizer):\n",
    "        self.model = model\n",
    "        self.tokenizer = tokenizer\n",
    "        self.layer_outputs = defaultdict(list)\n",
    "        self.moe_gate_outputs = defaultdict(list)\n",
    "        self.moe_combined_outputs = defaultdict(list)\n",
    "        self.expert_outputs = defaultdict(lambda: defaultdict(list))\n",
    "        self.shared_expert_outputs = defaultdict(list)\n",
    "        self.hooks = []\n",
    "        \n",
    "    def register_hooks(self):\n",
    "        \"\"\"Register hooks for layer outputs and MoE combination points\"\"\"\n",
    "        \n",
    "        def layer_output_hook(layer_idx):\n",
    "            def hook(module, inputs, outputs):\n",
    "                \"\"\"Hook for capturing layer outputs\"\"\"\n",
    "                hidden_states = outputs[0] if isinstance(outputs, tuple) else outputs\n",
    "                self.layer_outputs[layer_idx].append(hidden_states.detach())\n",
    "            return hook\n",
    "\n",
    "        def moe_gate_hook(layer_idx):\n",
    "            def hook(module, inputs, outputs):\n",
    "                \"\"\"Hook for capturing MoE gate outputs before expert computation\"\"\"\n",
    "                # Capture topk_idx, topk_weight, and aux_loss from gate outputs\n",
    "                if isinstance(outputs, tuple):\n",
    "                    topk_idx, topk_weight, aux_loss = outputs\n",
    "                    self.moe_gate_outputs[layer_idx].append({\n",
    "                        'topk_idx': topk_idx.detach(),\n",
    "                        'topk_weight': topk_weight.detach(),\n",
    "                        'aux_loss': aux_loss.detach() if aux_loss is not None else None\n",
    "                    })\n",
    "            return hook\n",
    "\n",
    "        def expert_hook(layer_idx, expert_idx):\n",
    "            def hook(module, inputs, outputs):\n",
    "                \"\"\"Hook for capturing expert outputs\"\"\"\n",
    "                # Get the latest gate outputs for this layer\n",
    "                if not self.moe_gate_outputs[layer_idx]:\n",
    "                    return print(f'no gate outputs for layer {layer_idx}')\n",
    "            \n",
    "                gate_data = self.moe_gate_outputs[layer_idx][-1]\n",
    "                \n",
    "                # Handle 2D or 3D tensor shapes\n",
    "                if len(gate_data['topk_idx'].shape) == 2:\n",
    "                    batch_size = 1\n",
    "                    seq_len, top_k = gate_data['topk_idx'].shape\n",
    "                else:\n",
    "                    batch_size, seq_len, top_k = gate_data['topk_idx'].shape\n",
    "                \n",
    "                # Get mask for tokens where this expert was selected\n",
    "                expert_mask = (gate_data['topk_idx'] == expert_idx)                \n",
    "                # Flatten and find positions where this expert was selected\n",
    "                selected_positions = torch.nonzero(expert_mask, as_tuple=True)\n",
    "                # If no tokens selected this expert, skip\n",
    "                if selected_positions[0].numel() == 0:\n",
    "                    return\n",
    "                    \n",
    "                # Get the actual inputs routed to this expert\n",
    "                # Inputs[0] shape: (total_selected_tokens, hidden_dim)\n",
    "                total_selected = inputs[0].shape[0] \n",
    "                # Validate we're processing the correct number of tokens\n",
    "                expected_selected = expert_mask.sum().item()\n",
    "                if total_selected != expected_selected:\n",
    "                    print(f\" expert {expert_idx} processed {total_selected} tokens but expected {expected_selected}\")\n",
    "                    return\n",
    "                    \n",
    "                # Get the full hidden states from outputs\n",
    "                # outputs shape: (total_selected_tokens, hidden_dim)\n",
    "                hidden_states = outputs\n",
    "                if isinstance(outputs, tuple):\n",
    "                    hidden_states = outputs[0]\n",
    "                    \n",
    "                # Record data for each selected position\n",
    "                for pos_idx, pos in enumerate(selected_positions[0]):\n",
    "                    token_data = {\n",
    "                        'position': pos.item(),\n",
    "                        'input': inputs[0][pos_idx].detach(),\n",
    "                        'output': outputs[pos_idx].detach(),\n",
    "                        'hidden_state': hidden_states[pos_idx].detach()  # Store full hidden state\n",
    "                    }\n",
    "                    \n",
    "                    # Get the corresponding gate weight for this position\n",
    "                    # Find which expert slot (in top_k) this expert was selected for this position\n",
    "                    expert_slots = (gate_data['topk_idx'][pos.item()] == expert_idx).nonzero(as_tuple=True)[0]\n",
    "                    if len(expert_slots) > 0:\n",
    "                        token_data['gate_weight'] = gate_data['topk_weight'][pos.item()][expert_slots[0]].item()\n",
    "                    \n",
    "                    self.expert_outputs[layer_idx][expert_idx].append(token_data)\n",
    "            return hook\n",
    "        \n",
    "        def shared_expert_hook(layer_idx):\n",
    "            def hook(module, inputs, outputs):\n",
    "                \"\"\"Hook for capturing shared expert outputs\"\"\"\n",
    "                self.shared_expert_outputs[layer_idx].append({\n",
    "                    'input': inputs[0].detach(),\n",
    "                    'output': outputs.detach()\n",
    "                })\n",
    "            return hook\n",
    "\n",
    "        def moe_combine_hook(layer_idx):\n",
    "            def hook(module, inputs, outputs):\n",
    "                \"\"\"Hook for capturing final combined MoE outputs\"\"\"\n",
    "                # For DeepseekMoE, this captures the weighted sum of expert outputs\n",
    "                self.moe_combined_outputs[layer_idx].append({\n",
    "                    'combined_output': outputs.detach(),\n",
    "                    'input': inputs[0].detach()  # Original input before MoE\n",
    "                })\n",
    "            return hook\n",
    "\n",
    "        # Register hooks for each layer\n",
    "        for layer_idx, layer in enumerate(self.model.model.layers):\n",
    "            # Hook for layer output\n",
    "            hook = layer.register_forward_hook(layer_output_hook(layer_idx))\n",
    "            self.hooks.append(hook)\n",
    "            \n",
    "            # If it's an MoE layer, add MoE-specific hooks\n",
    "            if hasattr(layer.mlp, 'experts'):\n",
    "                # Hook for gate mechanism\n",
    "                gate_hook = layer.mlp.gate.register_forward_hook(moe_gate_hook(layer_idx))\n",
    "                self.hooks.append(gate_hook)\n",
    "                \n",
    "                # Hook for each expert\n",
    "                for expert_idx, expert in enumerate(layer.mlp.experts):\n",
    "                    expert_hook_fn = expert.register_forward_hook(expert_hook(layer_idx, expert_idx))\n",
    "                    self.hooks.append(expert_hook_fn)\n",
    "\n",
    "                # Hook for shared expert if it exists\n",
    "                if hasattr(layer.mlp, 'shared_experts'):\n",
    "                    shared_hook = layer.mlp.shared_experts.register_forward_hook(shared_expert_hook(layer_idx))\n",
    "                    self.hooks.append(shared_hook)\n",
    "                \n",
    "                # Hook for final combined output\n",
    "                combine_hook = layer.mlp.register_forward_hook(moe_combine_hook(layer_idx))\n",
    "                self.hooks.append(combine_hook)\n",
    "\n",
    "    def analyze_tokens(self, input_ids: torch.Tensor, return_hidden_states: bool = False) -> Dict:\n",
    "        \"\"\" run inference and analyze tokens at each layer and expert combination point \"\"\"\n",
    "\n",
    "        self.moe_combined_outputs.clear()\n",
    "        self.expert_outputs.clear()\n",
    "        self.shared_expert_outputs.clear()\n",
    "        \n",
    "        # Forward pass\n",
    "        with torch.no_grad():\n",
    "            outputs = self.model(input_ids)\n",
    "        \n",
    "        results = {\n",
    "            'layer_predictions': {},\n",
    "            'moe_analysis': {},\n",
    "            'hidden_states': {} if return_hidden_states else None\n",
    "        }\n",
    "        \n",
    "        # Analyze layer outputs\n",
    "        for layer_idx, outputs in self.layer_outputs.items():\n",
    "            if not outputs:  # Skip if no outputs captured\n",
    "                continue\n",
    "            hidden_states = outputs[-1]  # Get last captured output\n",
    "            \n",
    "            # Get token predictions for this layer\n",
    "            top_tokens = get_top_k_tokens(hidden_states, self.model.lm_head, self.tokenizer)\n",
    "            results['layer_predictions'][layer_idx] = top_tokens\n",
    "            \n",
    "            if return_hidden_states:\n",
    "                results['hidden_states'][f'layer_{layer_idx}'] = hidden_states\n",
    "        \n",
    "        # Analyze MoE layers\n",
    "        for layer_idx in self.moe_gate_outputs.keys():\n",
    "            if not self.moe_gate_outputs[layer_idx]:\n",
    "                continue\n",
    "                \n",
    "            gate_data = self.moe_gate_outputs[layer_idx][-1]  # Get last captured data\n",
    "            combined_data = self.moe_combined_outputs[layer_idx][-1]\n",
    "            \n",
    "            # Initialize predictions dictionary by position\n",
    "            expert_predictions_by_pos = defaultdict(dict)\n",
    "            expert_hidden_states_by_pos = defaultdict(dict)\n",
    "            \n",
    "            # Process expert outputs by position\n",
    "            for expert_idx, data_list in self.expert_outputs[layer_idx].items():\n",
    "                for data in data_list:\n",
    "                    position = data['position']\n",
    "                    # Get predictions for this expert's output at this position\n",
    "                    predictions = get_top_k_tokens(\n",
    "                        data['output'].unsqueeze(0),\n",
    "                        self.model.lm_head,\n",
    "                        self.tokenizer\n",
    "                    )\n",
    "                    expert_predictions_by_pos[position][expert_idx] = predictions[0]  # [0] because we only have one prediction set\n",
    "\n",
    "                    # Store hidden states\n",
    "                    expert_hidden_states_by_pos[position][expert_idx] = {\n",
    "                    'hidden_state': data['hidden_state'].tolist(),\n",
    "                    'gate_weight': data.get('gate_weight', None)\n",
    "                }\n",
    "            \n",
    "            # Get predictions for shared expert if it exists\n",
    "            if self.shared_expert_outputs[layer_idx]:\n",
    "                shared_expert_predictions = get_top_k_tokens(\n",
    "                    self.shared_expert_outputs[layer_idx][-1]['output'],\n",
    "                    self.model.lm_head,\n",
    "                    self.tokenizer\n",
    "                )\n",
    "            \n",
    "            # Update experts_analysis dictionary to include hidden states\n",
    "            experts_analysis = {\n",
    "            'selected_experts': gate_data['topk_idx'].tolist(),\n",
    "            'expert_weights': gate_data['topk_weight'].tolist(),\n",
    "            'aux_loss': gate_data['aux_loss'].item() if gate_data['aux_loss'] is not None else None,\n",
    "            'expert_predictions_by_position': dict(expert_predictions_by_pos),\n",
    "            'expert_hidden_states_by_position': dict(expert_hidden_states_by_pos),\n",
    "            'shared_expert_predictions': shared_expert_predictions if self.shared_expert_outputs[layer_idx] else None\n",
    "        }\n",
    "            \n",
    "            # Get token predictions from combined output\n",
    "            combined_tokens = get_top_k_tokens(\n",
    "                combined_data['combined_output'], \n",
    "                self.model.lm_head,\n",
    "                self.tokenizer\n",
    "            )\n",
    "            \n",
    "            experts_analysis['combined_output_tokens'] = combined_tokens\n",
    "            results['moe_analysis'][layer_idx] = experts_analysis\n",
    "\n",
    "        return results\n",
    "    \n",
    "    def cleanup(self):\n",
    "        \"\"\"remove all registered hooks\"\"\"\n",
    "        for hook in self.hooks:\n",
    "            hook.remove()\n",
    "        self.hooks.clear()\n",
    "\n",
    "def analyze_deepseek_moe(model, tokenizer, input_text: str, return_hidden_states: bool = False):\n",
    "    \"\"\" analyze DeepSeek MoE model behavior for given input text \"\"\"\n",
    "    analyzer = DeepseekLayerAnalyzer(model, tokenizer)\n",
    "    analyzer.register_hooks()\n",
    "    \n",
    "    input_ids = tokenizer(input_text, return_tensors=\"pt\").input_ids\n",
    "    \n",
    "    try:\n",
    "        results = analyzer.analyze_tokens(input_ids, return_hidden_states=return_hidden_states)\n",
    "        return results\n",
    "    finally:\n",
    "        analyzer.cleanup()  "
   ]
  },
  {
   "cell_type": "code",
   "execution_count": 128,
   "metadata": {},
   "outputs": [],
   "source": [
    "prompt = \"translate the following text to french: The best is yet to come = Le meilleur reste à\"\n",
    "analysis = analyze_deepseek_moe(\n",
    "    model, \n",
    "    tokenizer,\n",
    "    input_text=prompt\n",
    ")"
   ]
  },
  {
   "cell_type": "code",
   "execution_count": 130,
   "metadata": {},
   "outputs": [
    {
     "name": "stdout",
     "output_type": "stream",
     "text": [
      "input_ids : tensor([[100000,  46310]])\n"
     ]
    }
   ],
   "source": [
    "input_ids = tokenizer(text=\"venir\", return_tensors=\"pt\",).input_ids\n",
    "print(f'input_ids : {input_ids}')"
   ]
  },
  {
   "cell_type": "code",
   "execution_count": 131,
   "metadata": {},
   "outputs": [],
   "source": [
    "# layer_idx = 1  # example layer\n",
    "# token_pos = 4\n",
    "# expert_idx = 3\n",
    "# hidden_state_list = analysis['moe_analysis'][layer_idx]['expert_hidden_states_by_position'][token_pos][expert_idx]['hidden_state']\n",
    "# print(f'hidden_state_list : {len(hidden_state_list)}')\n"
   ]
  },
  {
   "cell_type": "code",
   "execution_count": 132,
   "metadata": {},
   "outputs": [],
   "source": [
    "def get_post_attn_ln_inputs(model, tokenizer, text):\n",
    "    \"\"\"places a hook on the post attention layernorm to retrieve its inputs\"\"\"\n",
    "    # Store inputs in a dict mapping layer idx -> inputs\n",
    "    post_attn_ln_inputs = {}\n",
    "    hooks = []\n",
    "    \n",
    "    def hook_post_attn_ln(module, input, output, layer_idx):\n",
    "        if layer_idx not in post_attn_ln_inputs:\n",
    "            post_attn_ln_inputs[layer_idx] = []\n",
    "        post_attn_ln_inputs[layer_idx].append([x.detach() for x in input])\n",
    "    \n",
    "    # Register hooks on post attention layernorm for each layer\n",
    "    for i, layer in enumerate(model.model.layers):\n",
    "        hooks.append(\n",
    "            layer.post_attention_layernorm.register_forward_hook(\n",
    "                lambda m, i, o, idx=i: hook_post_attn_ln(m, i, o, idx)\n",
    "            )\n",
    "        )\n",
    "    \n",
    "    try:\n",
    "        # Run inference\n",
    "        input_ids = tokenizer(text, return_tensors=\"pt\").input_ids\n",
    "        model(input_ids)\n",
    "        \n",
    "        return post_attn_ln_inputs\n",
    "        \n",
    "    finally:\n",
    "        # Clean up hooks\n",
    "        for hook in hooks:\n",
    "            hook.remove()"
   ]
  },
  {
   "cell_type": "code",
   "execution_count": 133,
   "metadata": {},
   "outputs": [],
   "source": [
    "post_attn_ln_inputs = get_post_attn_ln_inputs(model, tokenizer, text=prompt)"
   ]
  },
  {
   "cell_type": "code",
   "execution_count": 134,
   "metadata": {},
   "outputs": [],
   "source": [
    "def verify_moe_equation(model, tokenizer, layer_idx, text=\"the quick brown fox\", tolerance=1e-5):\n",
    "    \"\"\"\n",
    "    Verifies that MoE activations add up correctly:\n",
    "    final_layer_output = residual_stream_hidden_states_before_experts + moe_output\n",
    "    \"\"\"\n",
    "    analyzer = DeepseekLayerAnalyzer(model, tokenizer)\n",
    "    analyzer.register_hooks()\n",
    "    \n",
    "    input_ids = tokenizer(text, return_tensors=\"pt\").input_ids\n",
    "    try:\n",
    "        # Run the analysis to populate data structures\n",
    "        analyzer.analyze_tokens(input_ids)\n",
    "        # Get moe outputs and residual\n",
    "        if layer_idx not in analyzer.moe_combined_outputs or not analyzer.moe_combined_outputs[layer_idx]:\n",
    "            print(\"No combined output data found\")\n",
    "            return False\n",
    "\n",
    "        residual = post_attn_ln_inputs[layer_idx][-1][0][0]\n",
    "        print(f\"Residual shape: {residual.shape}\")\n",
    "        \n",
    "        # Get the combined MoE output directly from the hook\n",
    "        moe_output = analyzer.moe_combined_outputs[layer_idx][-1]['combined_output'][0]\n",
    "        print(f\"MoE output shape: {moe_output.shape}\")\n",
    "\n",
    "        # Get the final layer output\n",
    "        final_layer_output = analyzer.layer_outputs[layer_idx][-1][0]\n",
    "        print(f\"Final layer output shape: {final_layer_output.shape}\")\n",
    "        \n",
    "        # Full equation: final_output = residual + moe_output\n",
    "        lhs = residual + moe_output\n",
    "        print(f\"lhs shape: {lhs.shape}\")\n",
    "        print(f'lhs {lhs}')\n",
    "        rhs = final_layer_output\n",
    "        print(f\"rhs shape: {rhs.shape}\")\n",
    "        print(f'rhs {rhs}')\n",
    "        # Check if close\n",
    "        is_close = torch.allclose(lhs, rhs, rtol=tolerance, atol=tolerance)\n",
    "        print(f'is_close {is_close}')\n",
    "        if not is_close:\n",
    "            max_diff = (lhs - rhs).abs().max().item()\n",
    "            print(f\"Maximum difference: {max_diff:.6f}\")\n",
    "            print(\"\\nDetailed component analysis:\")\n",
    "            print(f\"Residual max value: {residual.abs().max().item():.6f}\")\n",
    "            print(f\"MoE output max value: {moe_output.abs().max().item():.6f}\")\n",
    "            print(f\"Final output max value: {final_layer_output.abs().max().item():.6f}\")\n",
    "            \n",
    "        return is_close\n",
    "        \n",
    "    finally:\n",
    "        analyzer.cleanup()"
   ]
  },
  {
   "cell_type": "code",
   "execution_count": 135,
   "metadata": {},
   "outputs": [],
   "source": [
    "# # Verify equation for a specific layer\n",
    "# is_valid = verify_moe_equation(model, tokenizer, layer_idx=26, )\n",
    "# print(f\"MoE equation holds: {is_valid}\")"
   ]
  },
  {
   "cell_type": "code",
   "execution_count": 136,
   "metadata": {},
   "outputs": [
    {
     "name": "stdout",
     "output_type": "stream",
     "text": [
      "Layer 0 predictions: [[('开辟', 1.318359375), ('晗', 1.244140625), ('wk', 1.2431640625), ('始终坚持', 1.2177734375), ('CM', 1.2080078125)], [('uca', 1.3046875), (' (', 1.2607421875), (',', 1.25), (' continua', 1.1787109375), ('�', 1.12109375)], [('AGA', 0.96337890625), ('设法', 0.95068359375), ('HDA', 0.92822265625), (' препратки', 0.92333984375), (' neocl', 0.9111328125)], [('设法', 0.74365234375), ('ENO', 0.6767578125), (' Comen', 0.67578125), ('=\"../_', 0.671875), ('BW', 0.6689453125)], [('晗', 0.94287109375), ('IH', 0.92236328125), (' MI', 0.8408203125), ('设法', 0.79931640625), ('默', 0.79345703125)], [('充分利用', 0.6943359375), ('加快推进', 0.6748046875), ('不断提升', 0.65673828125), ('建立起', 0.65283203125), ('最大限度', 0.64404296875)], [('wk', 1.302734375), ('晗', 1.18359375), ('扭转', 1.134765625), ('涯', 1.0810546875), ('湃', 1.078125)], [('OTS', 0.65185546875), ('设法', 0.646484375), ('OTO', 0.64306640625), ('固执', 0.62255859375), ('吸取', 0.611328125)], [('ODO', 1.0029296875), ('设法', 0.8740234375), ('AGA', 0.841796875), ('一再', 0.80419921875), ('ť', 0.76904296875)], [('fen', 0.81005859375), ('hoo', 0.80810546875), ('fz', 0.748046875), ('s', 0.72900390625), ('sed', 0.72802734375)], [('默默', 0.62060546875), ('固执', 0.60986328125), ('充分利用', 0.6005859375), ('aya', 0.5986328125), ('深入推进', 0.591796875)], [('wk', 0.77490234375), (' _', 0.724609375), ('s', 0.69384765625), ('tk', 0.67578125), ('r', 0.66015625)], [('充分利用', 0.64599609375), ('建立起', 0.62939453125), ('不断提升', 0.62060546875), ('最大限度', 0.6171875), ('OTS', 0.59619140625)], [('wk', 0.646484375), ('iab', 0.63720703125), ('ANC', 0.62060546875), ('间', 0.60107421875), ('实实在', 0.5986328125)], [('ADO', 0.7744140625), ('吸取', 0.70556640625), ('充分利用', 0.69091796875), ('不断提升', 0.68896484375), ('默默', 0.66015625)], [('RK', 1.095703125), (' QT', 1.021484375), ('QP', 0.9912109375), ('QC', 0.98193359375), ('设法', 0.97900390625)], [('fen', 0.72802734375), ('设法', 0.65478515625), ('OTO', 0.63427734375), ('jb', 0.6318359375), ('HG', 0.595703125)], [('无私', 0.87939453125), ('bolds', 0.873046875), ('wes', 0.86083984375), ('上传', 0.841796875), ('wk', 0.8369140625)], [('}^*(', 0.97265625), ('华声', 0.89111328125), ('观点或立场', 0.87548828125), ('潇洒', 0.8701171875), ('mdc', 0.8603515625)], [('灼', 0.95458984375), (' QT', 0.78466796875), ('企图', 0.76611328125), ('QT', 0.7451171875), (' hu', 0.744140625)], [('光彩', 0.62353515625), ('wk', 0.5859375), ('促使', 0.57080078125), ('霸气', 0.56640625), ('停滞', 0.5625)], [('s', 0.9599609375), ('不断提升', 0.8173828125), ('ANA', 0.802734375), ('\\u200a', 0.79736328125), ('IME', 0.775390625)]]\n",
      "Layer 1 predictions: [[(' препратки', 91.0), ('不成', 88.625), ('扫', 88.4375), ('�乐', 88.375), ('idades', 88.0)], [('1', 2.712890625), ('2', 2.662109375), ('7', 2.642578125), ('9', 2.615234375), ('3', 2.578125)], [(' modernista', 1.1396484375), ('ODO', 1.0537109375), ('留住', 1.0478515625), ('设法', 1.021484375), ('ISA', 0.97021484375)], [('bod', 1.287109375), ('辖', 1.13671875), ('幻', 1.0244140625), ('STOR', 1.01953125), ('BW', 1.0126953125)], [('wain', 1.140625), ('默', 1.1279296875), ('ResourceManager', 1.0712890625), ('一言', 1.0576171875), (' estel', 1.0234375)], [('巍', 0.80126953125), ('ложен', 0.7626953125), (' Responses', 0.7607421875), (' O', 0.7421875), ('富贵', 0.74169921875)], [('晗', 1.4267578125), ('wk', 1.349609375), ('扭转', 1.16796875), ('mani', 1.1669921875), ('光彩', 1.1650390625)], [('单', 0.76953125), ('OTO', 0.712890625), ('臻', 0.70458984375), ('辉', 0.69970703125), ('建华', 0.68994140625)], [('ODO', 1.146484375), (' modernista', 1.056640625), ('设法', 1.044921875), ('ť', 1.0361328125), ('HIN', 0.982421875)], [(' n', 1.263671875), ('惨', 1.056640625), (' ', 1.03515625), ('正当', 1.0234375), ('欠', 1.0)], [('ci', 0.8154296875), ('LEM', 0.798828125), ('�起', 0.78857421875), (' n', 0.7880859375), ('全力以赴', 0.78564453125)], [('бита', 0.9375), ('}^+$', 0.89013671875), ('沾', 0.89013671875), ('一言', 0.85546875), (' remainder', 0.83935546875)], [(' OK', 0.7509765625), ('最大限度', 0.70361328125), ('小心翼翼', 0.6982421875), ('rim', 0.671875), (' O', 0.66943359375)], [('ZW', 0.87890625), ('ainty', 0.826171875), ('annel', 0.82421875), ('мни', 0.80908203125), ('каз', 0.79736328125)], [('1', 1.248046875), ('5', 1.234375), ('4', 1.17578125), ('0', 1.1708984375), ('3', 1.1484375)], [('RK', 1.2705078125), ('ANI', 1.1171875), ('LW', 1.0986328125), ('高地', 1.0869140625), ('昌', 1.0625)], [(' r', 1.0439453125), (' Ама', 1.0361328125), (' n', 0.98876953125), (' (', 0.94287109375), (' b', 0.9404296875)], [('нира', 1.7578125), ('wes', 1.42578125), ('cu', 1.388671875), (' Krone', 1.353515625), ('oum', 1.2841796875)], [('MNR', 1.7705078125), ('TOOLSET', 1.453125), ('璀', 1.3837890625), ('�乐', 1.2705078125), ('mxd', 1.240234375)], [('肆', 1.060546875), (' hu', 1.05859375), ('灼', 1.03515625), ('企图', 0.998046875), (' Ngram', 0.98486328125)], [(' `', 1.41796875), (' f', 1.3203125), (' r', 1.1962890625), ('etter', 1.1923828125), ('itiu', 1.1904296875)], [('s', 1.09375), ('ANA', 0.98388671875), ('IME', 0.91357421875), (' l', 0.849609375), ('мни', 0.8486328125)]]\n",
      "Layer 2 predictions: [[(' препратки', 113.9375), ('�乐', 109.625), ('不成', 109.5625), ('扫', 108.5), ('idades', 108.375)], [('1', 3.546875), ('2', 3.5078125), ('9', 3.416015625), ('7', 3.388671875), ('3', 3.37109375)], [(' modernista', 1.4345703125), ('ODO', 1.2900390625), ('тиле', 1.240234375), ('enspace', 1.2314453125), ('设法', 1.1943359375)], [('ствие', 1.412109375), ('цяло', 1.3466796875), ('bod', 1.3193359375), ('://$', 1.2978515625), ('yset', 1.296875)], [('一言', 1.5634765625), ('uring', 1.4150390625), ('cas', 1.388671875), ('wain', 1.380859375), ('ov', 1.3232421875)], [('充分利用', 1.05078125), (' h', 0.99755859375), (' H', 0.98583984375), ('0', 0.96142578125), (' O', 0.9501953125)], [('晗', 1.55859375), ('光彩', 1.4375), ('wk', 1.3701171875), ('ZY', 1.2802734375), ('Canc', 1.279296875)], [('UDE', 0.91015625), ('чер', 0.89697265625), ('点头', 0.88525390625), ('时时', 0.87109375), ('sey', 0.865234375)], [('ODO', 1.29296875), (' modernista', 1.1513671875), ('设法', 1.0537109375), ('ISM', 0.9833984375), ('HIN', 0.9765625)], [('正当', 1.3291015625), ('煌', 1.279296875), ('ksw', 1.2705078125), (' Ω', 1.2666015625), ('十八', 1.2490234375)], [('стира', 1.107421875), ('ssf', 1.068359375), ('ci', 1.0302734375), ('spirit', 1.001953125), ('牢', 0.9853515625)], [('бита', 1.4736328125), (' ', 1.2890625), ('麒', 1.2041015625), ('柔', 1.1484375), ('coma', 1.1259765625)], [('小心翼翼', 0.94189453125), (' OK', 0.94091796875), ('进一步提升', 0.89599609375), ('进一步加强', 0.85205078125), (' O', 0.84765625)], [('гнал', 1.21484375), ('ainty', 1.1884765625), ('ideos', 1.150390625), ('дн', 1.1416015625), ('ensk', 1.09375)], [('1', 1.4794921875), ('2', 1.3662109375), ('4', 1.30859375), ('0', 1.3037109375), ('8', 1.2998046875)], [('RK', 1.4697265625), ('昌', 1.4091796875), ('landa', 1.392578125), ('LW', 1.3154296875), ('高地', 1.3095703125)], [('orre', 1.263671875), (' (', 1.12109375), (' r', 1.0810546875), (' ac', 1.0634765625), (' Ама', 1.03125)], [('нира', 2.005859375), ('es', 1.7177734375), (' Скоро', 1.623046875), ('ад', 1.4921875), ('魄', 1.4853515625)], [('MNR', 2.154296875), ('\\\\^', 1.7080078125), ('璀', 1.65625), ('alies', 1.6240234375), ('}.)', 1.6171875)], [('肆', 1.1943359375), (' hu', 1.19140625), ('copy', 1.025390625), ('疆', 1.0146484375), ('灼', 1.0068359375)], [('ано', 1.439453125), (' `', 1.3955078125), ('itiu', 1.3349609375), (' ул', 1.3271484375), ('亭', 1.26171875)], [('s', 1.6533203125), (' D', 1.1826171875), ('opic', 1.1279296875), ('坚持', 1.1171875), (' l', 1.1142578125)]]\n",
      "Layer 3 predictions: [[(' препратки', 123.125), ('имна', 121.6875), ('不成', 120.0), ('�乐', 119.9375), ('idades', 119.1875)], [('2', 3.548828125), ('1', 3.51953125), ('9', 3.427734375), ('3', 3.310546875), ('7', 3.220703125)], [('ODO', 1.8564453125), ('enspace', 1.587890625), ('设法', 1.5439453125), (' modernista', 1.5146484375), (' препратки', 1.45703125)], [('ствие', 1.791015625), ('://$', 1.7880859375), ('════════', 1.6474609375), ('bod', 1.58984375), ('цяло', 1.5810546875)], [('威', 1.7451171875), ('uring', 1.67578125), ('мпе', 1.6123046875), ('alam', 1.5556640625), ('ov', 1.537109375)], [('andr', 1.65234375), ('ether', 1.5244140625), ('小心翼翼', 1.4873046875), ('土豪', 1.4541015625), ('adies', 1.41796875)], [('晗', 1.8935546875), ('光彩', 1.7880859375), (' envi', 1.6572265625), ('wk', 1.5908203125), ('EK', 1.5556640625)], [('eco', 1.3271484375), ('enco', 1.3271484375), ('�', 1.2783203125), ('hed', 1.2685546875), (' ly', 1.267578125)], [('ODO', 1.525390625), (' modernista', 1.47265625), ('设法', 1.3818359375), ('мпе', 1.3134765625), ('黯', 1.3056640625)], [('AGO', 1.513671875), ('shm', 1.43359375), ('煌', 1.3720703125), ('ksw', 1.3681640625), ('堆积', 1.35546875)], [('spirit', 1.6455078125), ('lea', 1.642578125), (' MB', 1.6005859375), ('ssf', 1.578125), ('足', 1.564453125)], [('麒', 1.6943359375), ('抄', 1.6708984375), ('зма', 1.65625), (' \"', 1.63671875), (' COP', 1.6357421875)], [(' m', 1.345703125), ('inria', 1.3369140625), ('щото', 1.2578125), ('aure', 1.2568359375), ('ebel', 1.2392578125)], [('ainty', 1.423828125), ('шево', 1.326171875), ('незия', 1.3134765625), (' instalado', 1.3076171875), ('aturity', 1.287109375)], [('1', 1.90625), ('2', 1.7626953125), ('3', 1.7587890625), ('5', 1.654296875), ('4', 1.64453125)], [('ش', 1.5712890625), ('Wizard', 1.5703125), ('HCI', 1.5234375), ('arques', 1.470703125), ('昌', 1.4365234375)], [('her', 1.5078125), ('ac', 1.4453125), (' AD', 1.4306640625), ('ola', 1.42578125), ('́', 1.3896484375)], [(' Krone', 2.08203125), ('enent', 1.9443359375), ('自已', 1.92578125), ('xes', 1.91015625), ('icent', 1.8515625)], [('estes', 2.107421875), ('MNR', 2.076171875), ('uario', 2.041015625), ('WHM', 1.8798828125), (' RES', 1.85546875)], [('ано', 1.50390625), (' hu', 1.4169921875), (' задъл', 1.4111328125), ('肆', 1.3173828125), ('itution', 1.306640625)], [('тини', 1.6162109375), ('urances', 1.58203125), ('сур', 1.5654296875), ('urance', 1.5634765625), (' _', 1.529296875)], [('s', 1.984375), (' l', 1.712890625), (' _', 1.7060546875), ('涉', 1.5556640625), ('anc', 1.482421875)]]\n",
      "Layer 4 predictions: [[(' препратки', 129.625), ('имна', 126.875), ('�乐', 126.1875), ('不成', 125.5), ('idades', 123.8125)], [('9', 4.1640625), ('1', 4.1171875), ('2', 4.05859375), ('3', 4.0234375), ('4', 3.888671875)], [('ODO', 2.064453125), ('役', 1.7021484375), (' entiendo', 1.673828125), ('弥', 1.6689453125), (' ^', 1.654296875)], [('://$', 2.236328125), ('ствие', 2.23046875), ('════════', 1.982421875), ('oint', 1.9619140625), ('xev', 1.7890625)], [('ORE', 2.048828125), ('NA', 2.013671875), ('ore', 1.892578125), ('file', 1.8623046875), ('威', 1.845703125)], [('andr', 2.2109375), ('нев', 2.091796875), (' лице', 1.99609375), ('тер', 1.966796875), ('нес', 1.9482421875)], [('光彩', 2.078125), (' sem', 2.03515625), ('晗', 1.9619140625), ('BT', 1.9501953125), ('AMP', 1.931640625)], [('档', 1.681640625), ('oqu', 1.6474609375), (' AIDS', 1.6455078125), ('enco', 1.6318359375), ('urn', 1.6279296875)], [('ODO', 1.9541015625), (' modernista', 1.7216796875), ('ogr', 1.56640625), ('носа', 1.5615234375), ('enser', 1.55078125)], [('AGO', 1.76953125), ('kle', 1.69921875), ('ksw', 1.669921875), ('sj', 1.5859375), ('фту', 1.5859375)], [('lea', 2.0703125), ('feu', 1.888671875), ('гре', 1.8759765625), ('adt', 1.8486328125), ('足', 1.83984375)], [('麒', 1.955078125), (' remainder', 1.8115234375), (' писатели', 1.751953125), ('remainder', 1.7421875), ('зма', 1.7421875)], [('inria', 1.759765625), ('miral', 1.62109375), ('参', 1.59765625), ('bein', 1.578125), ('玉', 1.5615234375)], [('shelf', 2.37109375), ('ilian', 2.3203125), ('annel', 2.291015625), ('胃口', 2.287109375), ('西路', 2.087890625)], [('沉迷', 1.875), ('ODO', 1.8525390625), ('spaces', 1.8427734375), ('1', 1.8076171875), ('2', 1.7783203125)], [('HCI', 1.9462890625), ('doc', 1.90234375), ('定律', 1.7734375), ('dw', 1.765625), (' num', 1.7548828125)], [('her', 1.83984375), ('oles', 1.6318359375), ('f', 1.626953125), ('厄', 1.6171875), ('thr', 1.6123046875)], [(' Krone', 2.494140625), ('qua', 2.3984375), ('aptop', 2.19140625), ('urses', 2.16015625), ('icent', 2.138671875)], [('rocarril', 2.380859375), ('MNR', 2.201171875), ('WHM', 2.1875), ('кло', 2.095703125), ('блю', 2.07421875)], [('orian', 1.7646484375), ('eth', 1.7197265625), ('ede', 1.701171875), ('f', 1.6435546875), ('dum', 1.5986328125)], [('eth', 1.7958984375), ('шево', 1.7529296875), (' Surve', 1.703125), ('шев', 1.671875), ('anar', 1.64453125)], [('s', 2.5390625), (' /', 2.0234375), (' _', 1.7880859375), (' l', 1.7802734375), ('弹性', 1.7646484375)]]\n",
      "Layer 5 predictions: [[(' препратки', 131.625), ('имна', 128.5), ('不成', 127.0625), ('�乐', 126.9375), ('idades', 125.25)], [('2', 4.53515625), ('1', 4.421875), ('9', 4.4140625), ('4', 4.34765625), ('3', 4.3203125)], [('ODO', 2.484375), ('oda', 2.3671875), ('чик', 2.314453125), ('ined', 2.169921875), ('局部', 2.103515625)], [('════════', 2.390625), ('yset', 2.353515625), ('://$', 2.33984375), ('çà', 2.16015625), ('bod', 2.140625)], [('ORE', 2.431640625), ('ore', 2.369140625), ('spaces', 2.0390625), ('oro', 1.97265625), ('ator', 1.962890625)], [('тер', 2.341796875), ('se', 2.240234375), ('ensely', 2.23828125), ('andr', 2.2265625), (' озна', 2.19921875)], [(' amena', 2.427734375), ('BT', 2.298828125), ('pei', 2.146484375), ('域', 2.119140625), ('AMP', 2.119140625)], [('琳', 1.8681640625), ('mead', 1.845703125), ('бур', 1.8447265625), ('悠', 1.841796875), (' RSVP', 1.8173828125)], [('ODO', 2.36328125), ('resos', 2.138671875), (' modernista', 2.06640625), ('ISM', 1.970703125), ('接到', 1.966796875)], [('AGO', 2.12890625), ('милия', 1.9853515625), ('kle', 1.9794921875), ('韬', 1.8837890625), ('зор', 1.869140625)], [('足了', 2.330078125), ('足', 2.26953125), ('eller', 2.224609375), ('�起', 2.19140625), ('lea', 2.146484375)], [('ия', 2.478515625), ('参', 2.349609375), ('麒', 2.341796875), (' c', 2.244140625), (' Q', 2.236328125)], [('ROID', 2.419921875), ('参', 2.15625), ('inria', 2.0234375), ('spirit', 1.9169921875), ('enser', 1.91015625)], [('shelf', 2.599609375), (' поко', 2.5625), ('uet', 2.431640625), (' proposat', 2.427734375), ('лие', 2.42578125)], [('沉迷', 2.333984375), ('anat', 2.330078125), ('OTO', 2.3203125), ('oqu', 2.177734375), ('YL', 2.142578125)], [('厄', 2.587890625), ('ARP', 2.431640625), (' mestra', 2.390625), ('olate', 2.3203125), ('日报', 2.287109375)], [('her', 2.0859375), ('orre', 1.9130859375), ('iling', 1.8974609375), ('厄', 1.876953125), ('хия', 1.75)], [('icent', 2.81640625), ('晒', 2.650390625), ('qua', 2.509765625), ('urses', 2.4921875), ('ors', 2.447265625)], [('requency', 2.626953125), ('ipre', 2.568359375), ('rocarril', 2.53515625), ('кло', 2.390625), ('зор', 2.31640625)], [('eth', 2.275390625), ('itution', 1.97265625), ('orian', 1.8916015625), ('ede', 1.8662109375), ('�', 1.865234375)], [('eth', 2.45703125), ('Raz', 1.8876953125), ('deo', 1.7734375), ('вей', 1.7626953125), ('ANCH', 1.755859375)], [('s', 2.61328125), (' /', 2.48828125), (' _', 2.275390625), (' P', 2.275390625), (' n', 2.232421875)]]\n",
      "Layer 6 predictions: [[(' препратки', 133.125), ('имна', 129.5), ('不成', 128.0), ('�乐', 127.5625), ('idades', 126.0625)], [('2', 4.5546875), ('1', 4.5078125), ('4', 4.50390625), ('9', 4.40625), ('3', 4.26171875)], [('ODO', 2.5234375), ('ined', 2.521484375), ('oda', 2.39453125), ('木齐', 2.25390625), ('se', 2.251953125)], [('════════', 2.994140625), (' Duncker', 2.80859375), ('://$', 2.787109375), ('ствие', 2.646484375), (' същест', 2.53515625)], [('ORE', 3.458984375), ('ore', 3.044921875), ('mide', 2.697265625), ('════════', 2.615234375), ('orell', 2.54296875)], [('aer', 2.53125), ('se', 2.49609375), (' озна', 2.40625), ('ILE', 2.384765625), (' вид', 2.275390625)], [('界的', 2.857421875), ('agal', 2.783203125), (' amena', 2.603515625), ('ز', 2.5703125), (' cova', 2.48828125)], [(' vela', 2.048828125), ('Loader', 2.046875), (' RSVP', 1.970703125), ('琳', 1.9248046875), ('rte', 1.916015625)], [('ODO', 2.81640625), ('ISM', 2.34765625), ('enser', 2.11328125), ('venin', 2.080078125), (' modernista', 2.078125)], [('kle', 2.615234375), ('�', 2.388671875), ('зор', 2.37109375), ('AGO', 2.34375), ('feu', 2.28125)], [('lea', 2.4921875), ('spirit', 2.447265625), ('eller', 2.26953125), ('足了', 2.248046875), ('Spirit', 2.2421875)], [('cha', 2.5390625), ('deg', 2.33984375), ('后', 2.326171875), (' remainder', 2.30859375), ('保', 2.259765625)], [('inria', 2.091796875), ('ript', 2.0234375), ('riptor', 2.021484375), ('cionario', 1.978515625), (' exemple', 1.9716796875)], [(' поко', 2.517578125), ('нева', 2.4609375), ('丽', 2.34765625), ('rue', 2.310546875), (' ejemplos', 2.275390625)], [('1', 2.62109375), ('2', 2.513671875), ('沉迷', 2.51171875), ('0', 2.361328125), ('ox', 2.244140625)], [(' mestra', 2.525390625), (' Aware', 2.4453125), ('UDE', 2.421875), ('MAX', 2.33203125), ('ughed', 2.330078125)], [('f', 2.435546875), ('j', 2.181640625), ('ide', 2.119140625), ('ac', 2.103515625), ('v', 2.060546875)], [('ors', 2.982421875), ('urs', 2.798828125), ('HAR', 2.767578125), (' Krone', 2.646484375), ('SES', 2.5859375)], [('зор', 2.8046875), ('kle', 2.6171875), ('时刻', 2.541015625), ('RID', 2.421875), ('潇洒', 2.416015625)], [('eth', 2.40625), ('n', 2.314453125), ('s', 2.19140625), ('幸', 2.18359375), ('沉', 2.16015625)], [('eth', 2.583984375), ('́', 2.046875), ('�起', 2.009765625), ('ше', 1.998046875), ('Raz', 1.9482421875)], [('s', 3.42578125), (' l', 2.640625), (' /', 2.310546875), (' n', 2.30078125), ('n', 2.28515625)]]\n",
      "Layer 7 predictions: [[(' препратки', 133.0), ('имна', 129.5), ('不成', 127.9375), ('�乐', 127.5625), ('idades', 126.1875)], [('2', 5.2890625), ('1', 5.15625), ('4', 5.0390625), ('3', 4.9453125), ('8', 4.83203125)], [('understood', 2.904296875), ('мп', 2.8125), ('чик', 2.771484375), ('役', 2.669921875), ('винция', 2.646484375)], [('════════', 3.28515625), ('://$', 3.23828125), ('yset', 3.056640625), ('ections', 2.853515625), (' vaix', 2.818359375)], [('ORE', 3.5234375), ('ore', 3.005859375), ('════════════════', 2.818359375), ('════════', 2.80078125), ('无缘', 2.736328125)], [('enser', 3.095703125), ('aer', 2.97265625), (' озна', 2.78515625), ('ILE', 2.75390625), ('emon', 2.650390625)], [('界的', 2.99609375), (' amena', 2.95703125), ('yser', 2.947265625), ('agal', 2.791015625), (' лице', 2.697265625)], [('нети', 2.623046875), ('нето', 2.46875), ('国民', 2.45703125), ('зата', 2.453125), ('зон', 2.435546875)], [('ODO', 2.7890625), (' modernista', 2.697265625), ('enser', 2.458984375), ('venin', 2.404296875), ('ATER', 2.3359375)], [('feu', 2.525390625), ('kle', 2.486328125), ('ohl', 2.37890625), ('orre', 2.328125), ('AGO', 2.294921875)], [('lea', 3.083984375), ('cip', 2.994140625), ('定', 2.763671875), (' n', 2.65625), ('小心翼翼', 2.59765625)], [('cha', 2.669921875), (' /', 2.6640625), ('s', 2.6171875), (' vs', 2.609375), (' t', 2.572265625)], [('riptor', 2.7578125), ('undi', 2.693359375), ('出不穷', 2.642578125), ('ript', 2.609375), ('ologne', 2.59765625)], [('LOAD', 2.87109375), (' KV', 2.779296875), ('лиан', 2.658203125), ('和张', 2.62109375), ('loads', 2.587890625)], [('ox', 2.53515625), ('沉迷', 2.47265625), ('oqu', 2.453125), ('cj', 2.3515625), ('吸取', 2.318359375)], [('olate', 2.619140625), ('UDE', 2.609375), ('厄', 2.572265625), (' mestra', 2.45703125), ('idly', 2.3203125)], [('f', 2.78125), ('j', 2.689453125), ('h', 2.560546875), ('v', 2.51953125), ('i', 2.46484375)], [('ors', 3.76171875), ('urs', 3.57421875), ('ans', 3.390625), ('ure', 3.294921875), ('ages', 3.1484375)], [('kle', 3.587890625), ('�起', 3.12109375), ('撒', 2.828125), ('尔', 2.724609375), ('驻', 2.712890625)], [('eth', 2.73828125), ('d', 2.33984375), ('fal', 2.283203125), ('dum', 2.279296875), ('锥', 2.232421875)], [('iaries', 3.150390625), ('�起', 2.81640625), ('eth', 2.701171875), ('shelf', 2.6953125), ('omb', 2.55078125)], [('s', 3.07421875), (' l', 2.669921875), (' _', 2.619140625), ('��', 2.423828125), (' n', 2.373046875)]]\n",
      "Layer 8 predictions: [[(' препратки', 133.0), ('имна', 129.5), ('不成', 127.9375), ('�乐', 127.375), ('idades', 126.3125)], [('1', 5.37890625), ('2', 5.34375), ('o', 5.08984375), ('3', 5.078125), ('_', 4.9375)], [('�', 3.53515625), ('zyk', 3.455078125), ('understood', 3.423828125), ('ODO', 3.400390625), ('挽', 3.388671875)], [('://$', 3.58203125), ('════════', 3.390625), ('odes', 3.0546875), ('}$~\\\\', 3.017578125), ('цев', 2.966796875)], [('ORE', 3.904296875), ('��', 3.751953125), ('════════', 3.71875), ('mide', 3.3984375), ('════════════════', 3.38671875)], [('enser', 3.671875), ('emon', 3.509765625), ('允', 3.384765625), ('unn', 3.353515625), ('mes', 3.3203125)], [('yser', 4.0703125), ('@{', 3.470703125), ('晗', 3.41796875), (' amena', 3.396484375), ('界的', 3.37890625)], [('нети', 3.095703125), ('зон', 3.017578125), ('-)', 2.91015625), (' здраве', 2.876953125), ('бул', 2.83984375)], [('ODO', 3.21484375), ('venin', 2.755859375), ('enser', 2.748046875), (' Comen', 2.740234375), ('ATER', 2.68359375)], [('feu', 2.6484375), ('AGO', 2.646484375), ('lea', 2.638671875), ('kle', 2.400390625), ('韬', 2.396484375)], [('lea', 3.666015625), ('�起', 3.044921875), (' /', 2.92578125), ('cip', 2.921875), ('小心翼翼', 2.916015625)], [('to', 3.068359375), ('ANI', 2.958984375), (' /', 2.85546875), ('IE', 2.744140625), ('deg', 2.73828125)], [('出不穷', 3.36328125), ('ernes', 3.302734375), ('embre', 3.30078125), ('尼奥', 3.279296875), ('ript', 3.232421875)], [('遇', 3.478515625), ('atu', 3.0703125), ('bea', 3.052734375), (' KV', 3.037109375), ('LOAD', 3.015625)], [('沉迷', 2.994140625), ('ODO', 2.75390625), ('ox', 2.748046875), ('hx', 2.650390625), ('IRE', 2.515625)], [('olate', 3.421875), (' Ангел', 3.1640625), (' Aware', 3.0), ('ughed', 2.955078125), ('厄', 2.935546875)], [('j', 2.99609375), ('f', 2.826171875), ('厄', 2.7421875), (' n', 2.67578125), ('h', 2.60546875)], [('SES', 3.48046875), ('bury', 3.466796875), ('ors', 3.462890625), ('urs', 3.4453125), ('ie', 3.251953125)], [('kle', 3.791015625), ('�起', 3.4140625), ('kur', 3.08984375), (' марш', 3.078125), ('osm', 3.068359375)], [('eth', 3.052734375), ('ence', 2.4921875), ('yle', 2.490234375), ('dum', 2.458984375), ('itutions', 2.3515625)], [('iaries', 3.38671875), ('�起', 3.119140625), ('shelf', 3.033203125), ('omb', 2.98046875), (' асоциа', 2.962890625)], [('s', 3.08984375), ('��', 2.927734375), ('anar', 2.8203125), ('rouse', 2.78125), ('嫌疑', 2.625)]]\n",
      "Layer 9 predictions: [[(' препратки', 134.25), ('имна', 130.25), ('不成', 129.25), ('�乐', 127.8125), ('idades', 127.375)], [('_', 5.61328125), ('2', 5.38671875), ('.', 5.28125), ('o', 5.06640625), ('1', 5.03515625)], [('ODO', 3.5234375), ('�', 3.4296875), ('刻', 3.37109375), ('understood', 3.330078125), ('�', 3.3203125)], [('://$', 4.33984375), ('════════', 3.94921875), ('════════════════', 3.4609375), ('цев', 3.416015625), ('ncia', 3.15234375)], [('ORE', 3.84375), ('════════', 3.693359375), ('════════════════', 3.689453125), ('AGER', 3.388671875), ('ager', 3.34765625)], [('eger', 4.14453125), ('sym', 4.046875), ('мм', 3.75390625), ('enser', 3.75390625), ('允', 3.697265625)], [('cesi', 4.31640625), ('界的', 4.28125), ('yser', 3.896484375), (' amena', 3.7265625), ('ulen', 3.52734375)], [('��', 3.73828125), (' здраве', 3.21484375), (' urbans', 3.0), ('esses', 2.93359375), ('_!\"', 2.904296875)], [('ODO', 3.771484375), ('resos', 3.02734375), ('足了', 2.96484375), ('ISM', 2.9453125), ('nqu', 2.93359375)], [('feu', 3.302734375), ('AGO', 2.89453125), ('fen', 2.833984375), ('shm', 2.740234375), (' posible', 2.734375)], [('cip', 3.671875), ('lea', 3.455078125), ('�起', 3.439453125), ('гре', 3.10546875), (' /', 2.986328125)], [('to', 3.66796875), ('store', 3.595703125), ('bet', 3.544921875), ('IE', 3.49609375), ('Better', 3.490234375)], [('enser', 4.1640625), ('undi', 3.927734375), ('格林', 3.818359375), ('Better', 3.80859375), ('egal', 3.806640625)], [('遇', 3.4375), ('坐', 3.40625), ('类', 3.39453125), (' KV', 3.361328125), ('bea', 3.33984375)], [('ODO', 3.6953125), ('沉迷', 3.23828125), ('subtitle', 3.232421875), ('obar', 3.142578125), ('ften', 3.09765625)], [('olate', 3.98828125), ('ughed', 3.974609375), ('etats', 3.787109375), ('\\t__', 3.71875), ('дъх', 3.603515625)], [(' n', 2.919921875), ('f', 2.91015625), ('voc', 2.88671875), ('j', 2.849609375), ('厄', 2.83984375)], [('urses', 4.02734375), ('�', 3.89453125), ('res', 3.791015625), ('etheless', 3.712890625), ('る', 3.677734375)], [('kle', 3.583984375), ('osm', 3.18359375), ('�起', 3.17578125), (' acc', 3.0859375), ('dea', 3.01171875)], [('eth', 2.78515625), ('itutions', 2.728515625), (' Aware', 2.576171875), ('ence', 2.560546875), ('好奇', 2.52734375)], [('�起', 3.6796875), ('iaries', 3.30078125), ('eth', 3.2265625), ('ARP', 2.6953125), ('im', 2.6875)], [(' _', 2.853515625), ('s', 2.83203125), ('enser', 2.775390625), ('rouse', 2.685546875), ('RID', 2.630859375)]]\n",
      "Layer 10 predictions: [[(' препратки', 134.75), ('имна', 130.5), ('不成', 129.375), ('�乐', 128.125), ('idades', 127.8125)], [('.', 5.03515625), ('_', 4.9140625), ('ation', 4.84765625), (' p', 4.671875), ('�', 4.66015625)], [('understood', 4.11328125), ('�', 3.9296875), ('чик', 3.80859375), (' ^', 3.796875), ('eller', 3.787109375)], [('://$', 5.578125), ('════════', 4.6015625), ('rites', 4.52734375), (':///', 4.359375), ('://', 4.17578125)], [('AGER', 4.73046875), ('ORE', 4.40234375), ('ager', 4.02734375), ('════════', 3.943359375), ('Suite', 3.6875)], [('允', 4.1875), ('enser', 4.06640625), ('sym', 4.03515625), ('eger', 3.998046875), ('тере', 3.94921875)], [('界的', 5.08984375), ('agal', 4.81640625), ('PIO', 4.80078125), (' alfab', 4.703125), ('ulen', 4.625)], [('饶', 3.740234375), ('��', 3.609375), (' здраве', 3.578125), ('ixa', 3.5546875), ('чител', 3.482421875)], [('ODO', 4.30859375), ('venin', 4.1015625), (' modernista', 4.1015625), ('roz', 3.890625), ('设法', 3.712890625)], [('AGO', 3.478515625), ('lea', 3.291015625), ('eller', 3.23828125), ('fen', 3.03125), ('feu', 3.015625)], [('lea', 4.45703125), ('cip', 4.25390625), ('�起', 4.1640625), (' (/', 3.90625), ('мб', 3.833984375)], [('to', 4.5), ('eq', 4.4453125), ('ro', 4.3125), ('逸', 4.30859375), ('Better', 4.1796875)], [('Better', 4.453125), ('enser', 4.38671875), ('thr', 4.015625), ('�', 3.91015625), ('Bet', 3.853515625)], [('艳', 3.970703125), ('��', 3.810546875), ('昊', 3.74609375), ('bea', 3.71484375), (' KV', 3.560546875)], [('IRE', 3.916015625), ('沉迷', 3.873046875), ('ODO', 3.693359375), ('YL', 3.580078125), ('subtitle', 3.48046875)], [('olate', 4.37890625), ('venin', 3.869140625), ('ughed', 3.869140625), (' mestra', 3.81640625), ('厄', 3.712890625)], [(' R', 3.537109375), ('h', 3.46484375), ('w', 3.45703125), (' INT', 3.435546875), ('f', 3.43359375)], [('res', 4.7890625), ('ure', 4.37890625), ('urses', 4.33984375), ('etheless', 4.2421875), ('RES', 4.21484375)], [('ignon', 3.529296875), ('kle', 3.478515625), ('�起', 3.466796875), ('ISS', 3.42578125), (' изи', 3.3828125)], [('eth', 3.287109375), ('dam', 2.810546875), ('祺', 2.810546875), ('itutions', 2.76171875), ('rator', 2.689453125)], [('iaries', 3.94140625), ('�起', 3.8828125), ('shelf', 3.359375), ('eth', 3.349609375), ('сур', 3.265625)], [(' Learning', 2.931640625), ('波浪', 2.8359375), ('PointerException', 2.833984375), ('s', 2.794921875), ('rouse', 2.74609375)]]\n",
      "Layer 11 predictions: [[(' препратки', 134.5), ('имна', 130.375), ('不成', 129.25), ('�乐', 128.5), ('idades', 127.9375)], [('_', 5.7109375), ('ion', 5.2578125), ('ions', 5.0234375), ('ation', 5.01953125), ('.', 4.84375)], [('обла', 4.1953125), ('ODO', 4.015625), ('转移', 4.00390625), ('律', 4.0), ('understood', 3.9765625)], [('://$', 5.4375), (' amena', 4.91796875), (' compren', 4.8359375), ('rites', 4.6328125), (' essent', 4.24609375)], [('AGER', 4.73046875), ('ILE', 4.42578125), ('════════', 4.1640625), ('жени', 4.12890625), (' Илинден', 4.06640625)], [('ILE', 5.12890625), ('ď', 4.8125), ('sym', 4.78125), ('enser', 4.7109375), ('eger', 4.640625)], [(' alfab', 5.05859375), ('sidered', 4.87109375), ('exili', 4.8125), ('界的', 4.71484375), ('стите', 4.58984375)], [('plier', 4.75390625), ('ARP', 4.5625), ('IMP', 4.46875), ('roz', 4.3359375), ('encia', 4.0078125)], [('venin', 4.74609375), ('ODO', 4.625), (' Calders', 4.09765625), ('�', 4.07421875), ('resos', 3.98828125)], [('lea', 3.583984375), ('fen', 3.328125), ('eller', 3.275390625), ('妨碍', 3.197265625), ('ocl', 3.193359375)], [('lea', 4.79296875), ('cip', 4.29296875), ('徒', 4.05078125), ('мб', 3.896484375), (' (/', 3.7265625)], [('to', 4.4609375), ('eq', 4.39453125), ('Better', 4.23828125), ('ROID', 4.09375), ('逸', 3.8359375)], [('Better', 4.58984375), ('ложен', 3.869140625), ('琉', 3.822265625), ('thr', 3.798828125), ('embre', 3.755859375)], [('艳', 3.923828125), ('wml', 3.845703125), ('uco', 3.763671875), ('ложен', 3.7578125), ('昊', 3.68359375)], [('ox', 4.4140625), ('ODO', 4.30859375), ('ELD', 4.0390625), ('YL', 4.0078125), ('ibar', 3.9609375)], [('ughed', 4.68359375), ('venin', 4.4765625), ('ickness', 4.26171875), ('guien', 4.21875), (' Recerca', 4.15234375)], [('ies', 3.62890625), ('j', 3.515625), ('h', 3.4765625), ('f', 3.416015625), ('-', 3.3984375)], [('ure', 5.98828125), ('urement', 5.1796875), ('res', 5.01953125), ('urs', 4.9375), ('ies', 4.93359375)], [('�起', 3.677734375), ('涯', 3.5625), ('kle', 3.533203125), ('ISS', 3.431640625), ('霜', 3.42578125)], [('示', 3.359375), ('eth', 3.19140625), ('ше', 3.13671875), ('yle', 3.091796875), ('祺', 2.984375)], [('iaries', 4.48046875), ('�起', 4.328125), ('shelf', 3.7109375), ('eth', 3.537109375), ('ARP', 3.43359375)], [('тн', 3.642578125), ('��', 3.53125), ('堪', 3.416015625), ('木齐', 3.40234375), ('�起', 3.388671875)]]\n",
      "Layer 12 predictions: [[(' препратки', 136.875), ('имна', 130.875), ('不成', 130.75), ('idades', 129.5), ('�乐', 128.875)], [('ion', 5.51953125), ('_', 5.4609375), ('ions', 5.36328125), ('�', 5.12109375), ('ation', 4.9140625)], [('律', 4.8203125), ('чик', 4.703125), ('�', 4.67578125), ('ODO', 4.52734375), (' ^', 4.453125)], [('://$', 5.7734375), ('lemen', 5.19140625), ('rites', 5.1171875), ('Ungrouped', 5.078125), ('hpl', 5.06640625)], [('ILE', 5.17578125), ('iles', 4.58203125), ('ORE', 4.515625), ('widet', 4.3828125), ('://$', 4.3203125)], [('ILE', 5.34765625), ('允', 5.2265625), ('мп', 5.08203125), ('enser', 4.90625), ('sym', 4.81640625)], [('sidered', 5.42578125), (' alfab', 5.0859375), (' Krone', 4.98828125), ('机的', 4.97265625), ('界的', 4.94921875)], [(' известно', 4.53125), ('enser', 4.5), ('щите', 4.40234375), ('ERIC', 4.37890625), ('IMP', 4.2734375)], [('ODO', 5.484375), ('venin', 4.72265625), (' modernista', 4.2890625), ('bolds', 4.24609375), ('足了', 4.1953125)], [('fen', 4.0859375), ('妨碍', 3.9375), ('LW', 3.8359375), ('lea', 3.685546875), ('煌', 3.673828125)], [('lea', 4.2578125), ('мб', 4.12109375), ('reg', 4.10546875), (' (/', 4.01953125), ('cip', 4.00390625)], [('to', 4.1953125), ('淡淡', 4.01953125), (' -', 3.943359375), ('irth', 3.931640625), ('ANI', 3.865234375)], [('egal', 4.6328125), ('ложен', 4.33203125), ('thr', 4.23046875), ('Better', 3.9921875), (' Thr', 3.705078125)], [('昊', 4.51953125), ('艳', 4.2734375), ('thr', 3.794921875), ('��', 3.7734375), ('Habitants', 3.74609375)], [('ODO', 4.81640625), ('ibar', 4.484375), ('ox', 4.3046875), ('iked', 4.125), ('YL', 4.08984375)], [('ughed', 4.8984375), ('ickness', 4.3671875), ('antes', 4.29296875), ('吁', 4.2421875), ('guien', 4.1796875)], [('iling', 3.759765625), ('call', 3.43359375), ('ies', 3.291015625), ('kal', 3.26171875), ('j', 3.251953125)], [('ure', 7.10546875), ('urement', 5.8671875), ('urs', 5.66015625), ('ments', 5.5859375), ('res', 5.38671875)], [('ISS', 4.31640625), ('итература', 4.30859375), ('otism', 4.2890625), (' изи', 4.28515625), ('© ', 4.0546875)], [('eth', 3.892578125), ('祺', 3.314453125), ('d', 3.302734375), (' известен', 3.154296875), ('示', 3.078125)], [('iaries', 4.21484375), ('eth', 4.0625), ('决', 3.33203125), ('正', 3.3203125), ('极', 3.27734375)], [('nite', 3.318359375), ('тн', 3.3046875), ('��', 3.19921875), ('бро', 3.138671875), ('堪', 3.072265625)]]\n",
      "Layer 13 predictions: [[(' препратки', 136.625), ('имна', 131.0), ('不成', 130.625), ('idades', 129.5), ('�乐', 129.25)], [('_', 6.85546875), ('.', 5.76953125), (' (', 5.65625), ('�', 5.65234375), (' ', 5.546875)], [('�', 5.265625), ('zza', 5.0078125), ('ODO', 4.8203125), (' ^', 4.79296875), ('律', 4.78515625)], [('://$', 5.734375), (' compren', 5.34765625), (':///', 5.15234375), (' amena', 5.1328125), ('转移', 4.84375)], [('ILE', 5.91796875), ('QL', 5.4921875), ('ILY', 5.46484375), (' amena', 5.2890625), ('ORE', 5.265625)], [('usen', 5.40234375), ('мп', 5.265625), ('enser', 5.1953125), ('ger', 5.0078125), ('允', 4.94140625)], [('sidered', 5.57421875), (' senz', 5.20703125), (' amena', 5.08203125), (' Krone', 5.07421875), ('paren', 5.06640625)], [('ERIC', 5.33984375), ('нети', 5.29296875), (' известно', 5.22265625), ('understanding', 4.94140625), ('kou', 4.87890625)], [('ODO', 6.0703125), (' neocl', 4.84765625), ('venin', 4.8203125), ('bolds', 4.74609375), ('设法', 4.6796875)], [('fen', 4.46875), ('стер', 4.3515625), ('lea', 4.2578125), ('最大化', 4.1484375), ('喧嚣', 4.14453125)], [('reg', 5.48046875), ('́', 5.234375), (' (/', 5.05859375), (' /', 4.85546875), ('lea', 4.72265625)], [(' borne', 4.8828125), ('淡淡', 4.65625), ('ossa', 4.5859375), ('Better', 4.35546875), ('йн', 4.28515625)], [('ложен', 4.515625), ('epa', 4.1875), ('дей', 4.18359375), ('thr', 4.18359375), ('格林', 4.1484375)], [('Habitants', 5.09375), ('艳', 5.08203125), ('wml', 4.69140625), ('昊', 4.68359375), ('ossible', 4.671875)], [('咕', 4.46484375), ('ox', 4.4375), ('Lear', 4.37890625), ('ODO', 4.375), ('arse', 4.3125)], [('ughed', 5.62109375), (' Фла', 4.8515625), ('дъх', 4.60546875), (' acabada', 4.484375), (' doblada', 4.43359375)], [('庸', 4.00390625), ('平庸', 3.8671875), ('iling', 3.689453125), ('call', 3.666015625), ('zzo', 3.642578125)], [('ure', 6.75390625), ('urs', 5.95703125), ('urement', 5.81640625), ('ments', 5.66796875), ('ors', 5.1640625)], [('итература', 4.94140625), (' set', 4.38671875), ('し', 4.2890625), ('otism', 4.1796875), ('ISS', 4.06640625)], [(' известен', 4.1328125), ('tant', 3.9375), ('eth', 3.875), ('ing', 3.775390625), ('dam', 3.65234375)], [('iaries', 5.16796875), ('决', 4.23046875), ('正', 4.18359375), (' thither', 4.1640625), ('omb', 4.1015625)], [('以待', 3.919921875), (' Стра', 3.755859375), ('тн', 3.744140625), ('决', 3.685546875), ('oser', 3.517578125)]]\n",
      "Layer 14 predictions: [[(' препратки', 138.0), ('不成', 131.875), ('имна', 131.25), ('idades', 130.125), ('batim', 129.0)], [('_', 6.81640625), ('ê', 5.99609375), ('�', 5.953125), ('ion', 5.82421875), ('KR', 5.72265625)], [('ODO', 6.70703125), (' същест', 5.47265625), ('�', 5.45703125), ('转移', 5.38671875), ('eller', 5.2421875)], [('UTO', 6.3359375), ('��', 5.7265625), ('ward', 5.70703125), ('转移', 5.66015625), (' compren', 5.65625)], [('ILE', 7.62890625), ('iles', 6.046875), ('QL', 6.03125), ('uality', 5.97265625), ('бус', 5.77734375)], [('enser', 6.70703125), ('ILE', 5.68359375), ('usen', 5.45703125), ('ovitch', 5.32421875), ('andr', 5.21484375)], [('口水', 6.953125), ('sidered', 6.7421875), ('iger', 6.71875), (' senz', 6.546875), (' amena', 6.390625)], [('��', 5.62109375), (' urbans', 5.5), ('нето', 5.40625), (' известно', 5.37890625), (' Dir', 5.3203125)], [('ODO', 8.3046875), ('venin', 6.421875), (' modernista', 5.79296875), (' neocl', 5.78125), (' Trinitat', 5.5234375)], [('喀', 6.421875), ('eler', 6.1015625), ('LW', 6.0078125), ('eller', 5.90625), ('喧嚣', 5.78515625)], [('́', 6.1953125), ('reg', 5.95703125), (' (=', 5.0859375), ('qh', 4.921875), ('lea', 4.84765625)], [('́', 5.40625), (' borne', 5.015625), ('rix', 4.6640625), ('ida', 4.66015625), ('淡淡', 4.6484375)], [('ложен', 4.765625), ('thr', 4.5390625), ('epa', 4.49609375), ('iour', 4.43359375), ('rain', 4.34765625)], [('艳', 5.76953125), (' Saludos', 5.3203125), ('Habitants', 5.23046875), ('!/', 5.23046875), ('wml', 5.21484375)], [('这句话', 5.73046875), ('ismes', 5.2734375), ('ODO', 5.15234375), ('learning', 4.8359375), ('arse', 4.8046875)], [('дъх', 6.7421875), ('ughed', 6.73828125), ('жът', 6.15625), ('guien', 5.83984375), ('NonUser', 5.76171875)], [('庸', 4.38671875), ('CORE', 4.1953125), ('iling', 4.04296875), ('call', 3.96484375), ('cal', 3.92578125)], [('ure', 7.57421875), ('urs', 6.53125), ('urement', 6.14453125), ('ments', 5.7109375), ('urses', 5.36328125)], [('итература', 6.40625), ('рият', 6.04296875), (' acc', 5.4140625), (' set', 5.2578125), ('し', 5.23046875)], [('itution', 5.3671875), ('itutions', 5.17578125), ('eth', 5.07421875), ('iens', 4.91015625), (' Aware', 4.85546875)], [('iaries', 5.47265625), ('omb', 4.984375), ('atin', 4.9296875), ('GeneratedMessage', 4.75390625), ('славски', 4.68359375)], [('SPHIN', 4.52734375), ('以待', 4.46875), ('тн', 4.31640625), ('决', 4.296875), (' Espasa', 4.16796875)]]\n",
      "Layer 15 predictions: [[(' препратки', 138.25), ('不成', 131.875), ('имна', 130.875), ('idades', 130.0), ('batim', 128.125)], [('_', 8.3359375), ('�', 6.93359375), ('KR', 6.40625), ('́', 6.15234375), ('ables', 6.11328125)], [('ODO', 7.15234375), (' същест', 6.69140625), ('�', 6.40625), ('争取', 6.1875), (' ^', 6.05078125)], [('Ungrouped', 7.203125), (' същест', 6.8046875), ('��', 6.734375), (' modernista', 6.71484375), ('ward', 6.63671875)], [('ILE', 8.0078125), ('istically', 6.78125), (' clockwise', 6.5234375), ('into', 6.4453125), ('QL', 6.44140625)], [('enser', 7.4921875), ('ILE', 6.62109375), ('usen', 6.1640625), ('peri', 5.953125), ('arum', 5.93359375)], [('iger', 7.31640625), (' amena', 7.2578125), ('�', 7.12890625), (' nacionalista', 7.11328125), ('口水', 7.00390625)], [('��', 8.1875), (' Buenas', 6.9296875), (' urbans', 6.703125), ('нети', 6.6171875), ('нето', 6.43359375)], [('ODO', 9.28125), ('venin', 7.34375), (' neocl', 7.0703125), (' modernista', 6.6953125), ('设法', 6.49609375)], [('喀', 7.25), ('喧嚣', 6.84375), ('LW', 6.765625), ('时时', 6.76171875), ('AGO', 6.640625)], [('yet', 8.578125), ('reg', 8.2421875), ('iken', 7.69921875), ('昊', 7.671875), ('亭', 7.65625)], [('尚未', 8.9921875), ('还未', 7.734375), ('还没有', 7.70703125), ('还没', 7.58203125), ('�', 7.19921875)], [('COME', 5.91796875), ('epa', 5.6015625), ('дей', 5.54296875), (' (>', 5.5234375), ('Better', 5.37890625)], [(' Saludos', 6.109375), ('Habitants', 6.078125), ('艳', 5.7890625), ('昊', 5.74609375), (' republicana', 5.6484375)], [('ismes', 6.78515625), ('这句话', 6.33203125), ('========================', 6.140625), ('learning', 5.953125), ('leys', 5.87109375)], [('nexpected', 7.95703125), ('\\\\^', 7.5390625), ('жът', 7.359375), ('explot', 7.109375), ('Millor', 6.8515625)], [('CORE', 5.01953125), ('庸', 4.828125), ('iling', 4.7265625), ('平庸', 4.578125), ('cal', 4.3046875)], [('ure', 7.37890625), ('urs', 7.0234375), ('urement', 6.109375), ('ura', 5.84765625), ('ments', 5.63671875)], [('итература', 6.59765625), ('рият', 5.7265625), ('covery', 5.66015625), (' acc', 5.59765625), ('し', 5.52734375)], [('ruct', 5.9921875), ('eth', 5.66796875), ('e', 5.6328125), ('itution', 5.609375), ('ructure', 5.56640625)], [('尚未', 8.671875), ('还未', 7.09375), ('还没有', 6.75), ('还没', 6.58984375), ('GeneratedMessage', 6.55078125)], [('COME', 6.10546875), ('��', 5.87109375), (' Стра', 5.7421875), ('决', 5.59765625), (' valenc', 5.43359375)]]\n",
      "Layer 16 predictions: [[(' препратки', 138.25), ('不成', 132.0), ('имна', 130.5), ('idades', 130.125), ('�乐', 127.875)], [('_', 10.5859375), ('ation', 7.9296875), ('�', 7.85546875), ('.', 7.3359375), ('KR', 7.23046875)], [(' същест', 8.21875), ('ODO', 7.61328125), ('争取', 6.77734375), (' Кън', 6.76171875), (' препратки', 6.66015625)], [(' същест', 8.5859375), ('��', 8.3828125), (' Comen', 8.3203125), ('ugosl', 8.0859375), (' mena', 8.03125)], [('��', 8.0078125), ('ILE', 7.8671875), ('вел', 7.24609375), ('into', 7.1875), ('UTO', 7.171875)], [('enser', 7.95703125), ('arum', 6.83203125), ('STOR', 6.6328125), ('ILE', 6.48828125), (' venec', 6.26953125)], [(' amena', 8.1796875), ('iger', 7.8671875), (' americ', 7.73828125), ('terday', 7.62890625), ('AGA', 7.48828125)], [('��', 8.703125), ('нети', 7.06640625), ('нето', 6.8828125), (' Buenas', 6.7890625), ('atea', 6.7578125)], [('ODO', 9.7578125), (' neocl', 7.734375), (' modernista', 7.7109375), ('venin', 7.15234375), ('设法', 7.015625)], [('时时', 7.82421875), ('喧嚣', 7.31640625), ('eller', 7.29296875), ('喀', 7.2109375), ('辖', 7.17578125)], [('reg', 8.6875), ('iken', 8.140625), ('昊', 8.1015625), ('yet', 7.9921875), ('决', 7.8359375)], [('尚未', 8.046875), ('COM', 7.328125), ('远远', 7.2109375), ('Esper', 7.12890625), ('还没有', 7.10546875)], [('дей', 5.78125), ('COME', 5.77734375), ('Better', 5.58984375), ('璨', 5.49609375), ('ложен', 5.43359375)], [('!/', 6.9296875), ('昊', 6.52734375), (' MERCHANTABILITY', 6.49609375), (' Saludos', 5.98046875), ('бен', 5.87890625)], [('ismes', 6.2421875), (' Piece', 6.1015625), ('spaces', 6.09765625), ('这句话', 6.078125), ('atin', 6.0234375)], [('жът', 7.14453125), ('Millor', 6.8515625), ('nexpected', 6.69140625), ('статъ', 6.5078125), ('дъх', 6.29296875)], [('jor', 6.44140625), (' ordinal', 5.6171875), ('CORE', 5.57421875), (' inscripci', 5.5625), (' Arabian', 5.37890625)], [('ure', 7.24609375), ('urs', 6.97265625), ('祺', 6.42578125), ('urement', 6.125), ('ura', 6.03515625)], [('итература', 6.3671875), (' acc', 5.796875), ('´', 5.79296875), ('自已', 5.66796875), ('otism', 5.453125)], [('ruct', 6.625), ('ructure', 6.359375), ('itution', 5.90625), ('itutions', 5.87890625), ('itute', 5.8359375)], [('尚未', 8.0390625), ('尚', 6.98828125), ('出不穷', 6.87890625), ('还未', 6.49609375), ('omb', 6.47265625)], [('��', 6.671875), ('COME', 6.4609375), ('Discussion', 6.1640625), ('tica', 6.078125), ('gone', 6.046875)]]\n",
      "Layer 17 predictions: [[(' препратки', 139.625), ('不成', 132.875), ('имна', 130.625), ('idades', 130.125), ('�乐', 128.125)], [('_', 10.8359375), ('�', 8.8046875), ('2', 8.3515625), ('1', 8.3515625), ('ation', 8.203125)], [(' същест', 8.765625), ('ODO', 8.5859375), ('нета', 7.734375), (' препратки', 7.6953125), ('意的', 7.61328125)], [(' Comen', 10.6328125), (' mena', 9.3984375), ('ward', 9.296875), ('into', 9.0078125), ('IATE', 8.984375)], [('ILE', 9.2890625), ('into', 8.421875), ('��', 8.3515625), ('ILY', 8.28125), ('UTO', 8.2421875)], [('enser', 11.7890625), ('wered', 9.7734375), ('bes', 8.171875), ('STOR', 8.078125), ('#:', 7.80078125)], [(' americ', 8.6640625), ('zyk', 8.65625), (' amena', 8.6484375), ('iger', 8.453125), (' Meridional', 8.328125)], [('��', 8.8515625), ('BB', 7.75), ('QA', 7.47265625), ('ARP', 7.15625), ('尽力', 7.15234375)], [('ODO', 11.9140625), ('venin', 9.703125), (' modernista', 9.2578125), (' neocl', 9.1484375), ('obal', 8.7578125)], [('时时', 8.5078125), ('喧嚣', 7.9765625), ('喀', 7.8671875), ('way', 7.734375), ('lea', 7.66796875)], [('reg', 8.515625), ('yet', 8.4140625), ('iken', 8.203125), ('雇', 8.0859375), ('昊', 8.078125)], [('尚未', 8.8046875), ('сур', 7.9453125), ('冠', 7.78515625), ('COM', 7.6484375), ('还没有', 7.57421875)], [('COME', 6.15625), (' (>', 6.03515625), (' ().', 6.01953125), ('小心翼翼', 6.0), ('PAL', 5.99609375)], [(' Saludos', 7.6484375), ('昊', 7.23046875), ('!/', 7.078125), (' MERCHANTABILITY', 6.83203125), ('regu', 6.7890625)], [('спекти', 8.6328125), ('Les', 7.76171875), ('_?\"', 7.2265625), ('explot', 7.21875), (' Les', 7.04296875)], [('дъх', 8.234375), ('Millor', 8.109375), ('NonUser', 7.74609375), ('决', 7.44921875), ('ughed', 7.296875)], [(' conservador', 6.6015625), ('iling', 6.40625), ('jor', 6.375), ('悬', 6.36328125), ('zzo', 6.2890625)], [('ure', 7.19921875), ('urement', 6.73046875), ('urs', 6.640625), ('祺', 6.4609375), ('自已', 6.19921875)], [(' acc', 8.171875), ('still', 7.6484375), (' yet', 7.6171875), (' still', 7.59765625), ('尚未', 7.3984375)], [('e', 11.1875), ('ructure', 11.1484375), ('itution', 10.8046875), ('still', 10.5703125), ('itutions', 10.453125)], [('尚未', 9.15625), ('疑', 7.7578125), ('尚', 7.75390625), ('决', 7.53515625), (' yet', 7.52734375)], [('决', 7.609375), (' venir', 7.296875), ('gone', 7.16015625), (' сти', 6.984375), ('Esper', 6.8046875)]]\n",
      "Layer 18 predictions: [[(' препратки', 140.125), ('不成', 132.875), ('имна', 130.25), ('idades', 130.125), ('�乐', 128.125)], [('2', 11.84375), ('_', 11.2734375), ('1', 11.265625), ('3', 10.765625), ('9', 9.734375)], [('ODO', 9.9375), (' същест', 8.7734375), (' observat', 8.515625), ('挫', 8.421875), ('设法', 8.375)], [('into', 12.828125), (' Comen', 11.5703125), (' mena', 10.1328125), ('ODO', 9.796875), (':///', 9.5390625)], [('into', 13.296875), ('Into', 10.53125), (' into', 9.9453125), ('��', 9.2578125), ('ILE', 9.25)], [('enser', 11.8671875), ('wered', 11.40625), ('#:', 9.0546875), ('达', 8.96875), ('繁', 8.9375)], [('iger', 9.328125), (':&', 9.328125), (' amena', 8.703125), ('zyk', 8.6953125), (' senz', 8.6875)], [('��', 9.59375), ('BB', 8.953125), ('ARP', 8.296875), ('洛', 8.1015625), ('нети', 7.65625)], [('ODO', 13.0234375), (' modernista', 11.375), ('venin', 10.9765625), (' neocl', 9.984375), ('obal', 9.9609375)], [(' modernista', 9.5234375), ('时时', 9.1796875), (' way', 9.171875), ('藏', 9.078125), ('设法', 9.03125)], [('yet', 13.53125), ('Yet', 11.5703125), (' yet', 11.5078125), (' Yet', 9.7734375), ('reg', 8.609375)], [('尚未', 9.8515625), ('冠', 9.2734375), ('还没有', 8.78125), ('enu', 8.734375), ('COM', 8.5546875)], [('COME', 7.58984375), ('ARP', 7.078125), ('恺', 6.6328125), ('昊', 6.55859375), ('沉迷', 6.55078125)], [('!/', 8.3125), (' Saludos', 7.98046875), ('这句话', 7.73046875), ('LINE', 7.7109375), ('卿', 7.61328125)], [('спекти', 8.6171875), ('=\"__', 8.2109375), ('antes', 8.03125), ('Les', 7.88671875), ('wes', 7.875)], [('дъх', 8.8203125), ('Millor', 8.46875), ('决', 8.3203125), ('статъ', 8.125), ('NonUser', 7.99609375)], [('ille', 13.3359375), ('urt', 11.1484375), ('ager', 11.1484375), ('jor', 10.890625), ('ill', 10.296875)], [('ure', 8.2890625), ('urement', 7.7578125), ('祺', 7.6484375), ('urs', 7.5), (' ard', 6.86328125)], [(' acc', 8.625), (' still', 8.0), ('的一面', 7.9765625), ('NonUser', 7.60546875), ('спекти', 7.53125)], [('itution', 11.8359375), ('ructure', 11.3046875), ('itutions', 11.2890625), ('still', 10.71875), ('e', 10.328125)], [('尚未', 8.96875), ('疑', 8.1953125), (' yet', 8.15625), ('NonUser', 7.8515625), ('IABLE', 7.734375)], [(' venir', 9.6875), ('Esper', 8.71875), ('_{_{\\\\', 8.296875), ('$^{+', 7.9453125), ('\">,</', 7.73046875)]]\n",
      "Layer 19 predictions: [[(' препратки', 141.125), ('不成', 132.75), ('имна', 130.25), ('idades', 130.125), ('�乐', 128.875)], [('_', 12.1015625), ('2', 11.1171875), ('1', 10.96875), ('3', 10.3125), ('ables', 9.890625)], [('ODO', 11.1171875), (' същест', 10.4140625), (' observat', 9.71875), ('挫', 9.5), ('ISM', 9.3125)], [('into', 16.109375), (' Comen', 12.9296875), ('Into', 11.8203125), (' препратки', 11.21875), (' passage', 11.0390625)], [('into', 15.203125), ('Into', 11.65625), (' into', 11.3125), ('QL', 9.8203125), ('UTO', 9.65625)], [('wered', 12.71875), ('enser', 12.3671875), ('ългарски', 10.125), ('pless', 9.8984375), ('unders', 9.8828125)], [(':&', 10.734375), (' владе', 10.65625), ('iger', 10.390625), (':\\\\', 9.96875), ('zyk', 9.4453125)], [('��', 10.90625), ('ARP', 8.7734375), (' diff', 8.6875), ('BB', 8.671875), ('无缘', 8.5)], [('ODO', 14.1171875), (' modernista', 12.671875), ('ISM', 10.9296875), ('venin', 10.7890625), (' neocl', 10.7421875)], [(' way', 14.96875), ('way', 13.890625), ('laid', 12.5390625), ('WAY', 11.609375), (' WAY', 11.609375)], [('yet', 19.609375), (' yet', 17.1875), ('Yet', 16.796875), (' Yet', 14.5078125), ('Initialization', 9.9140625)], [(' to', 13.2734375), ('\\tto', 12.984375), ('to', 12.28125), ('toBe', 11.828125), ('enu', 10.0625)], [('COME', 9.2578125), ('充分利用', 7.35546875), (' ().', 7.28125), ('come', 7.2734375), ('��', 7.078125)], [(' Saludos', 9.09375), ('!/', 8.9453125), ('uco', 8.6484375), ('ossible', 8.3203125), ('这句话', 8.1015625)], [('=\"__', 10.0859375), ('спекти', 9.2265625), ('́', 8.578125), ('ibar', 8.375), ('>_', 8.328125)], [(' лу', 16.859375), ('best', 15.5390625), ('Best', 14.75), ('最好的', 14.34375), (' best', 13.3671875)], [('ille', 12.8515625), ('urt', 11.953125), ('jor', 11.0859375), ('ager', 10.8671875), ('ill', 10.6328125)], [('urement', 9.15625), ('ure', 8.734375), ('urs', 8.609375), ('祺', 7.98046875), ('ur', 7.31640625)], [(' still', 9.609375), ('interopRequireDefault', 8.8125), ('спекти', 8.7109375), ('still', 8.4453125), ('constitution', 8.2578125)], [('still', 12.15625), ('itution', 11.3203125), ('ructure', 11.1796875), ('itutions', 10.7265625), ('e', 10.4609375)], [(' yet', 12.9140625), ('yet', 11.3125), ('疑', 9.8828125), ('Yet', 9.765625), ('GeneratedMessage', 9.140625)], [('Esper', 9.828125), (' venir', 9.6875), ('hene', 9.4609375), ('COME', 9.2578125), ('$^{+', 8.8671875)]]\n",
      "Layer 20 predictions: [[(' препратки', 140.875), ('不成', 132.75), ('имна', 130.125), ('idades', 130.0), ('}$~\\\\', 128.875)], [('_', 10.984375), ('ables', 10.546875), ('2', 10.078125), ('1', 10.0234375), ('3', 9.4375)], [('ODO', 12.4921875), (' същест', 11.46875), (' modernista', 10.890625), (' observat', 10.2890625), (' препратки', 10.265625)], [('into', 21.765625), ('Into', 16.828125), (' into', 16.328125), (' INTO', 15.3359375), (' Comen', 13.9140625)], [('into', 21.8125), (' into', 17.5), ('Into', 16.96875), (' Into', 14.3515625), (' INTO', 14.0703125)], [('wered', 13.515625), ('enser', 12.84375), ('pless', 10.71875), ('ългарски', 10.5546875), ('达', 10.3125)], [(':&', 11.6953125), (' владе', 11.5234375), ('zyk', 11.03125), (' език', 10.78125), ('iger', 10.7734375)], [('��', 12.140625), ('无缘', 9.7421875), ('ARP', 9.5078125), ('eel', 9.4609375), ('ODO', 9.3515625)], [('ODO', 14.7578125), (' modernista', 13.8984375), ('ISM', 12.03125), ('设法', 11.53125), ('AGA', 11.4453125)], [(' way', 16.140625), ('way', 15.125), ('WAY', 13.4375), ('laid', 13.2421875), ('owing', 12.7578125)], [('yet', 19.59375), (' yet', 17.0625), ('Yet', 16.65625), (' Yet', 14.2578125), ('UTO', 9.7578125)], [(' to', 14.1328125), ('\\tto', 13.5546875), ('to', 13.2578125), ('toBe', 12.734375), ('COM', 10.3828125)], [('COME', 10.9140625), ('come', 9.4375), ('be', 9.015625), ('Come', 8.7109375), (' come', 8.640625)], [(' Saludos', 9.5859375), ('uco', 9.375), ('!/', 8.8515625), ('这句话', 8.6640625), ('昊', 8.4296875)], [('>_', 10.4140625), (' Buenas', 9.3828125), ('спекти', 9.3359375), (' Cord', 9.328125), ('_?\"', 9.234375)], [(' лу', 15.078125), ('best', 13.9609375), ('Best', 13.6640625), ('最好的', 12.96875), (' best', 11.953125)], [('ille', 15.0), ('urt', 14.1328125), ('jor', 12.578125), ('ill', 12.3828125), ('́', 12.140625)], [('urs', 14.453125), ('ure', 14.234375), ('ur', 13.71875), ('urement', 12.1796875), ('ures', 11.859375)], [(' still', 10.296875), (' acc', 9.390625), ('deo', 9.3125), ('\\tis', 9.28125), ('疑', 9.203125)], [('still', 15.8671875), ('e', 15.78125), ('er', 15.421875), ('itution', 14.234375), ('ant', 14.1796875)], [(' yet', 14.015625), ('yet', 11.453125), ('疑', 11.40625), (' неиз', 10.7265625), (' enc', 10.609375)], [('COME', 12.578125), (' cometh', 10.8671875), (' venir', 10.734375), ('Esper', 10.28125), ('yet', 9.9140625)]]\n",
      "Layer 21 predictions: [[(' препратки', 142.375), ('不成', 132.75), ('имна', 131.0), ('}$~\\\\', 130.75), ('idades', 129.875)], [('_', 12.0703125), ('1', 12.0), ('2', 11.8828125), ('3', 11.5234375), ('ables', 10.890625)], [('ODO', 13.65625), (' същест', 11.6328125), (' modernista', 11.515625), ('ISM', 11.078125), (' препратки', 11.0625)], [('into', 23.28125), ('Into', 17.484375), (' into', 17.09375), (' INTO', 15.9453125), (' препратки', 14.921875)], [('into', 22.03125), ('Into', 17.109375), (' into', 16.59375), (' Into', 14.296875), (' INTO', 13.8125)], [('wered', 14.4375), ('enser', 13.4140625), ('pless', 12.328125), ('into', 11.0234375), ('pline', 10.9453125)], [(':&', 12.578125), (' език', 11.625), ('zyk', 11.5390625), (' владе', 10.8046875), ('iger', 10.53125)], [('��', 12.8046875), ('eel', 10.9375), ('кет', 10.6796875), ('无缘', 10.4765625), ('BB', 10.3671875)], [(' modernista', 16.3125), ('ODO', 16.171875), ('venin', 13.9296875), ('ISM', 13.578125), ('obal', 13.421875)], [(' way', 16.796875), ('way', 15.9453125), ('WAY', 14.3671875), (' WAY', 13.1328125), ('laid', 12.921875)], [('yet', 20.25), (' yet', 17.484375), ('Yet', 17.171875), (' Yet', 14.5390625), ('UTO', 9.9609375)], [(' to', 14.3046875), ('to', 14.015625), ('\\tto', 13.90625), ('toBe', 13.53125), (' venir', 10.59375)], [('COME', 15.5), ('come', 15.1171875), (' come', 14.4921875), ('Come', 14.2890625), (' Come', 12.4375)], [('ossible', 11.375), (' Saludos', 11.1796875), ('！', 10.4453125), ('uco', 10.4296875), ('!/', 10.1015625)], [('>_', 10.546875), ('_?\"', 9.9921875), ('́', 9.7421875), ('=\"__', 9.6484375), ('agena', 9.46875)], [('best', 15.546875), ('Best', 15.3671875), (' лу', 14.8515625), (' best', 14.0625), ('最好的', 12.9609375)], [('ille', 16.359375), ('urt', 15.234375), ('́', 13.4921875), ('uth', 12.890625), ('ill', 12.8046875)], [('ure', 15.453125), ('ur', 15.234375), ('urs', 15.0078125), ('urement', 13.1953125), ('ures', 12.0625)], [(' still', 12.109375), (' acc', 11.2734375), ('\\tis', 10.4375), ('still', 9.90625), ('tym', 9.390625)], [('e', 20.96875), ('still', 18.25), ('er', 17.3125), ('era', 16.046875), ('ructure', 15.953125)], [(' yet', 14.6640625), ('yet', 12.28125), ('疑', 12.1171875), ('спекти', 11.671875), ('венту', 11.2890625)], [('COME', 17.328125), (' come', 15.7421875), ('come', 15.5), ('Come', 15.265625), (' venir', 14.9296875)]]\n",
      "Layer 22 predictions: [[(' препратки', 142.5), ('不成', 132.875), ('имна', 131.0), ('}$~\\\\', 131.0), ('idades', 129.75)], [('_', 12.6015625), ('1', 11.2890625), ('2', 11.2890625), ('ables', 11.28125), ('�', 10.140625)], [('ODO', 14.7890625), (' препратки', 12.8515625), (' същест', 12.640625), (' modernista', 12.3984375), ('ISM', 11.96875)], [('into', 23.421875), ('Into', 17.65625), (' into', 16.90625), (' passage', 16.796875), (' препратки', 16.765625)], [('into', 22.046875), ('Into', 17.609375), (' into', 16.796875), (' Into', 14.5234375), (' INTO', 14.34375)], [('wered', 17.59375), ('enser', 15.4296875), ('繁', 14.5234375), ('гре', 13.7578125), ('Ur', 13.2421875)], [(':&', 12.4375), (' език', 11.84375), ('zyk', 11.78125), ('�', 11.65625), ('RTL', 11.6328125)], [('eel', 12.4765625), ('无缘', 12.2734375), ('QA', 11.703125), ('��', 11.6484375), ('roz', 11.6328125)], [('ODO', 17.25), (' modernista', 17.015625), ('AGA', 14.65625), ('ISM', 14.640625), ('venin', 14.1640625)], [(' way', 16.609375), ('way', 16.25), ('WAY', 15.3671875), (' WAY', 13.578125), (' posible', 13.140625)], [('yet', 20.296875), ('Yet', 17.234375), (' yet', 16.546875), (' Yet', 14.1875), (' Comen', 10.59375)], [('to', 13.984375), ('toBe', 13.8046875), (' to', 13.171875), ('\\tto', 12.9140625), ('COM', 11.5390625)], [('COME', 18.390625), ('come', 17.75), ('Come', 16.59375), (' come', 15.453125), (' cometh', 14.46875)], [(' Saludos', 11.8203125), ('textquotedbl', 11.8046875), ('!/', 11.3828125), ('ossible', 11.3515625), ('uco', 11.2734375)], [('agena', 11.5625), (' comentario', 11.0859375), ('BI', 10.8984375), ('嫣', 10.765625), ('��', 10.7578125)], [('plus', 14.65625), (' millors', 14.6328125), (' plus', 14.5390625), ('Best', 13.984375), (' procedent', 13.8046875)], [('ille', 22.59375), ('urt', 19.65625), ('́', 16.25), ('ill', 16.0625), ('ILLE', 15.875)], [('ur', 19.46875), ('ure', 17.859375), ('urs', 17.734375), ('urement', 14.4375), ('UR', 12.96875)], [('�乐', 12.609375), (' encara', 12.4921875), (' y', 12.453125), ('昊', 12.2109375), ('iras', 12.0)], [('e', 22.828125), ('er', 20.125), ('era', 19.015625), ('ructure', 18.125), ('still', 18.0)], [(' yet', 17.34375), ('yet', 15.3125), (' enc', 14.7890625), (' неиз', 13.4140625), ('спекти', 13.1796875)], [(' venir', 22.4375), (' Ven', 21.0625), (' ven', 17.6875), ('Esper', 17.421875), ('Ven', 17.328125)]]\n",
      "Layer 23 predictions: [[(' препратки', 139.375), ('不成', 129.5), ('}$~\\\\', 128.0), ('�乐', 126.9375), ('имна', 126.25)], [('_', 11.953125), ('ables', 10.8828125), ('�', 10.609375), ('�', 10.3125), ('QA', 10.125)], [('ODO', 16.125), (' препратки', 15.375), (' modernista', 14.6875), ('ISM', 14.2890625), (' същест', 14.0859375)], [('into', 23.734375), (' Comen', 18.296875), (' passage', 17.859375), ('Into', 17.6875), (' препратки', 17.53125)], [('into', 22.1875), ('Into', 18.109375), (' into', 17.109375), (' Into', 14.9609375), (' INTO', 14.8828125)], [('wered', 19.5625), ('enser', 16.953125), (' Български', 16.21875), ('繁', 16.203125), ('Ur', 16.1875)], [('�', 13.078125), (':&', 12.890625), (':///', 12.484375), (' език', 12.34375), (':\\\\', 12.3359375)], [('无缘', 13.328125), ('eel', 12.9140625), ('\\tI', 12.8515625), ('ORA', 12.203125), ('ARP', 12.1484375)], [('ODO', 17.90625), (' modernista', 17.890625), ('ISM', 16.109375), ('AGA', 15.953125), ('venin', 15.1015625)], [('WAY', 15.8046875), (' way', 15.5859375), ('way', 15.265625), (' posible', 13.9609375), (' modernista', 13.6640625)], [('yet', 20.59375), ('Yet', 17.015625), (' yet', 16.5625), (' Yet', 13.7265625), (' Comen', 11.4453125)], [('toBe', 15.1484375), (' to', 14.8359375), ('\\tto', 14.5859375), ('to', 14.359375), ('́', 11.75)], [('COME', 19.296875), ('come', 18.84375), ('Come', 18.796875), (' come', 16.71875), (' cometh', 15.5078125)], [('uco', 13.84375), ('textquotedbl', 13.4296875), ('autorest', 13.0546875), (' Saludos', 12.8515625), ('卿', 12.6640625)], [(' Buenas', 12.3828125), ('agena', 12.015625), (' comentario', 11.8984375), ('BI', 11.765625), ('comment', 11.375)], [(' me', 19.09375), (' plus', 17.296875), ('plus', 16.671875), (' Me', 16.015625), (' millors', 15.3125)], [('ille', 24.453125), ('urt', 19.71875), ('ILLE', 17.84375), ('́', 17.609375), ('ill', 17.109375)], [('ur', 20.984375), ('ure', 18.359375), ('urs', 18.03125), ('urement', 15.359375), ('UR', 13.4765625)], [(' rest', 15.3828125), (' est', 14.6484375), ('HEAD', 13.8984375), ('anwhile', 13.2890625), ('uco', 13.1953125)], [('e', 26.421875), ('era', 24.140625), ('er', 21.921875), ('eras', 18.921875), ('ait', 18.859375)], [(' yet', 16.6875), (' enc', 14.359375), ('yet', 13.9765625), ('́', 13.453125), ('спекти', 13.2265625)], [(' venir', 23.0), (' Ven', 20.203125), ('Esper', 18.546875), (' ven', 17.140625), ('вро', 16.59375)]]\n",
      "Layer 24 predictions: [[(' препратки', 135.5), ('不成', 125.25), ('}$~\\\\', 124.8125), ('�乐', 122.5), (' carta', 121.25)], [('_', 11.6171875), ('�', 11.46875), ('ables', 11.2421875), ('�', 10.390625), ('into', 10.2734375)], [('ODO', 17.546875), (' препратки', 17.25), (' същест', 16.390625), ('ISM', 16.140625), ('钧', 15.3984375)], [('into', 24.515625), (' Comen', 18.984375), (' препратки', 18.84375), ('Into', 18.671875), (' passage', 18.640625)], [('into', 24.046875), ('Into', 19.25), (' into', 18.453125), (' INTO', 16.34375), (' Into', 15.859375)], [('wered', 21.078125), ('enser', 18.96875), ('ългарски', 18.609375), ('̀', 17.484375), ('ENG', 16.796875)], [('�', 14.9765625), (':\\\\', 14.796875), (':&', 14.234375), (':///', 14.2265625), (' usant', 13.953125)], [('\\tI', 14.734375), ('eel', 14.7265625), ('ARP', 14.640625), ('无缘', 14.3359375), ('HI', 14.1953125)], [('ODO', 18.25), ('AGA', 17.0625), ('ISM', 16.8125), (' modernista', 16.765625), ('一再', 15.7734375)], [('晗', 15.8671875), (' way', 15.546875), ('ANTE', 15.4140625), (' Comen', 15.40625), ('肯', 15.21875)], [('yet', 18.59375), ('Yet', 15.921875), (' yet', 13.796875), (' Yet', 12.2109375), (' esf', 11.5625)], [('\\tto', 21.28125), (' to', 20.109375), ('toBe', 19.46875), ('to', 18.640625), ('COM', 13.8125)], [('come', 21.515625), ('Come', 21.484375), ('COME', 21.203125), (' come', 19.296875), (' cometh', 18.09375)], [('textquotedbl', 15.265625), ('autorest', 15.0703125), ('卿', 15.0078125), (' Buenas', 14.6796875), ('uco', 14.625)], [(' Buenas', 12.6328125), (' comentario', 12.1328125), ('BI', 12.09375), ('>_', 12.0390625), ('��', 12.0234375)], [(' me', 20.515625), (' plus', 17.84375), ('plus', 16.453125), (' millors', 16.1875), (' Me', 15.5390625)], [('ille', 23.796875), ('urt', 19.21875), ('́', 18.546875), ('ILLE', 17.84375), ('ill', 17.578125)], [('ur', 21.765625), ('urs', 19.046875), ('ure', 18.84375), ('urement', 16.265625), ('UR', 14.2421875)], [(' est', 15.25), (' rest', 14.5390625), ('HEAD', 14.2578125), ('anwhile', 14.046875), (' arribat', 13.4453125)], [('e', 39.3125), ('era', 31.28125), ('ERA', 25.15625), ('eras', 21.828125), ('ructure', 21.5)], [(' enc', 14.4609375), (' yet', 14.0), ('nant', 13.953125), ('спекти', 13.7734375), ('́', 13.703125)], [(' venir', 23.84375), (' Ven', 20.21875), ('Esper', 19.296875), (' ven', 17.5625), ('вро', 17.09375)]]\n",
      "Layer 25 predictions: [[(' препратки', 133.5), ('}$~\\\\', 124.125), ('不成', 122.9375), ('�乐', 121.875), ('观点或立场', 118.625)], [('�', 11.90625), ('into', 11.1015625), ('_', 11.078125), ('ables', 10.90625), ('�', 10.59375)], [('ODO', 17.734375), (' препратки', 17.703125), (' същест', 16.953125), ('ptu', 16.859375), ('ISM', 16.25)], [('into', 21.359375), (' passage', 19.59375), (' Comen', 19.390625), (' същест', 18.140625), (' Кън', 17.953125)], [('into', 24.328125), (' into', 20.84375), ('Into', 19.890625), ('from', 19.15625), (' from', 18.609375)], [('wered', 21.78125), ('万能', 19.0), ('ългарски', 18.546875), (' esper', 18.15625), ('̀', 17.796875)], [(':\\\\', 16.5), ('：', 16.21875), ('�', 15.6171875), (' vern', 15.0), (':&', 14.7109375)], [('\\n', 19.21875), ('“', 16.890625), ('HI', 16.71875), ('ARP', 16.15625), ('\\tI', 15.625)], [('ODO', 19.125), ('venin', 17.5625), ('AGA', 17.421875), (' modernista', 16.875), ('ISM', 16.484375)], [('ANTE', 15.9453125), (' Comen', 15.8671875), ('晗', 15.6640625), (' way', 15.5390625), ('肯', 15.1484375)], [('yet', 18.078125), ('Yet', 15.390625), (' yet', 13.46875), (' esf', 12.8359375), ('стър', 12.625)], [('\\tto', 27.859375), (' to', 27.4375), ('to', 25.140625), ('toBe', 21.9375), ('To', 19.484375)], [('Come', 20.1875), ('come', 20.078125), (' come', 19.609375), ('COME', 19.546875), ('COM', 18.515625)], [('uco', 17.734375), ('卿', 17.0), ('\\\\!', 16.953125), ('textquotedbl', 16.0625), ('TEXT', 15.6796875)], [('Le', 17.25), ('BI', 16.25), ('Plus', 15.65625), ('LE', 15.40625), (' le', 15.0703125)], [(' me', 24.0), (' plus', 19.9375), ('ur', 17.890625), ('plus', 17.8125), (' Me', 17.5625)], [('ille', 33.84375), ('ill', 26.5), ('ILLE', 23.890625), ('urt', 22.859375), ('́', 21.4375)], [('ur', 33.5625), ('urs', 27.421875), ('ure', 26.75), ('UR', 26.109375), ('urement', 23.75)], [(' est', 20.96875), (' rest', 20.4375), (' arrive', 17.828125), ('uco', 17.015625), (' n', 16.671875)], [('e', 41.71875), ('era', 34.625), ('ERA', 27.171875), ('eras', 24.515625), ('ez', 23.28125)], [(' a', 19.0625), (' enc', 18.046875), (' ap', 16.65625), ('анс', 15.8046875), (' à', 15.625)], [(' venir', 24.15625), (' Ven', 23.203125), (' ven', 20.1875), (' venues', 18.09375), ('Esper', 18.0)]]\n",
      "Layer 26 predictions: [[('�', 21.484375), (' Hague', 20.59375), ('WER', 19.328125), (' SEA', 18.75), ('ISAM', 18.53125)], [('.', 22.453125), ('_', 21.0625), (' from', 20.578125), (' into', 20.015625), ('(', 19.921875)], [('\\n', 18.921875), (' ', 18.46875), (' site', 18.359375), (' website', 17.984375), (' following', 17.8125)], [(' into', 30.296875), (' passage', 28.171875), ('into', 25.40625), (':', 24.71875), ('\\n', 24.203125)], [(' into', 37.15625), (' from', 36.625), (':', 33.03125), ('\\n', 31.109375), ('from', 30.625)], [(':', 29.421875), (' ar', 28.515625), ('...', 26.078125), (' български', 25.96875), ('\\n', 25.53125)], [(':', 30.84375), ('\\n', 28.96875), ('：', 26.375), (':\\\\', 25.546875), (' and', 25.265625)], [('\\n', 38.5625), (' ', 32.09375), ('“', 30.53125), (' \"', 28.8125), ('Hello', 28.4375)], [(' ', 21.65625), (' functions', 21.296875), ('venin', 20.9375), (' function', 19.640625), ('\\n', 18.890625)], [(' way', 24.0), (' things', 22.078125), (' time', 21.515625), (' predictor', 20.40625), (' part', 20.171875)], [(' yet', 25.328125), (' the', 23.78125), ('yet', 21.203125), (' ', 20.359375), (' always', 19.984375)], [(' to', 43.46875), ('to', 32.5), (' ', 31.6875), (' To', 28.421875), ('\\n', 28.078125)], [(' come', 38.625), (' Come', 31.3125), (' com', 30.8125), (' ', 30.71875), (' be', 30.703125)], [('.', 33.84375), ('!', 30.484375), ('...', 28.21875), (' ', 27.90625), (',', 26.453125)], [(' Le', 30.65625), (' le', 29.453125), ('Le', 26.984375), (' The', 26.265625), (' La', 26.0)], [(' me', 38.8125), (' plus', 31.609375), (' m', 30.671875), ('...', 29.84375), (' Me', 29.6875)], [('ille', 41.1875), ('ill', 31.84375), ('(', 27.5625), ('́', 26.625), ('il', 26.1875)], [('ur', 45.21875), ('ure', 35.28125), ('UR', 33.6875), ('urs', 33.625), ('urd', 28.484375)], [(' est', 34.9375), (' n', 33.78125), (' rest', 31.328125), (' v', 30.6875), (' y', 30.078125)], [('e', 48.875), ('era', 40.5625), ('ez', 28.953125), ('ent', 28.375), ('er', 27.828125)], [(' a', 42.65625), (' à', 33.1875), (' ', 32.90625), ('(', 32.3125), (' enc', 32.09375)], [(' l', 31.75), (' venir', 31.171875), (' na', 29.84375), (' ', 29.40625), ('\\n', 29.125)]]\n",
      "Layer 27 predictions: [[('import', 23.109375), ('The', 21.859375), ('<?', 21.8125), ('package', 21.65625), ('【', 21.4375)], [('.', 36.9375), (' ', 36.40625), ('_', 36.3125), (' from', 35.65625), ('-', 34.53125)], [(' website', 43.625), (' following', 43.28125), (' web', 42.4375), (' site', 41.8125), (' page', 41.46875)], [(' into', 51.21875), (':', 49.3125), (' to', 49.3125), (' from', 48.53125), (' in', 48.21875)], [(':', 61.46875), (' ', 59.875), (',', 59.34375), (' (', 58.0), ('.', 57.625)], [(' ', 62.8125), (':', 61.53125), (' the', 58.71875), ('\\n', 58.46875), (' English', 58.21875)], [(',', 57.625), (':', 56.96875), ('.', 55.75), (' and', 52.90625), ('\\n', 52.3125)], [('\\n', 81.5625), (' ', 80.625), (' \"', 70.4375), (' (', 68.0625), (' I', 67.75)], [(' first', 50.75), (' problem', 50.03125), (' best', 49.625), (' child', 49.15625), (' name', 49.0625)], [(' way', 50.125), (' and', 48.84375), (' time', 46.875), (' of', 46.46875), ('-', 45.8125)], [(',', 50.25), (' the', 49.71875), (' to', 49.03125), (' not', 48.53125), (' yet', 48.0)], [(' to', 66.875), (' ', 57.46875), (',', 56.0), (' come', 54.96875), ('.', 54.59375)], [(' come', 72.4375), (' be', 66.1875), (' ', 63.6875), ('\\n', 60.59375), (',', 60.375)], [('.', 67.625), (',', 65.375), (' ', 59.03125), ('!', 57.4375), ('\\n', 55.71875)], [(' ', 53.5625), (' le', 51.5), (')', 51.0), (' (', 50.34375), (' Le', 50.3125)], [(' me', 68.5625), (' ', 61.625), (' m', 61.3125), (' plus', 59.46875), ('\\n', 58.71875)], [('ille', 64.4375), (' ', 52.96875), ('\\n', 52.71875), ('ill', 52.53125), ('1', 52.28125)], [('ur', 82.8125), ('ure', 71.5), ('u', 70.125), (' ', 69.5), ('urs', 69.1875)], [(' est', 60.21875), (' n', 55.0), (' v', 54.53125), (',', 53.75), (' (', 52.96875)], [('e', 79.0625), (' ', 64.875), (' e', 62.03125), (',', 60.8125), ('era', 60.71875)], [(' à', 59.59375), (' a', 58.25), (' ', 55.8125), (' enc', 53.8125), (' (', 52.9375)], [(' l', 57.40625), (' ', 54.4375), ('\\n', 53.28125), (' venir', 52.5625), (' na', 52.46875)]]\n",
      "\n",
      "MoE Layer 1:\n",
      "Selected experts: [[14, 34, 2, 42, 47, 1], [41, 4, 34, 20, 50, 14], [14, 12, 40, 8, 5, 52], [63, 59, 56, 14, 50, 53], [58, 10, 37, 27, 23, 63], [17, 9, 53, 45, 39, 18], [43, 11, 25, 42, 61, 10], [14, 9, 6, 46, 42, 16], [6, 8, 49, 14, 42, 12], [63, 23, 59, 38, 20, 60], [4, 30, 36, 63, 17, 13], [38, 39, 58, 17, 19, 4], [8, 17, 53, 9, 45, 44], [11, 30, 29, 4, 17, 41], [29, 46, 7, 16, 9, 6], [42, 20, 57, 24, 8, 34], [24, 57, 61, 48, 54, 22], [19, 25, 57, 11, 54, 31], [57, 23, 31, 37, 25, 41], [41, 57, 58, 60, 4, 20], [31, 57, 5, 13, 11, 24], [9, 40, 7, 53, 15, 57]]\n",
      "Expert weights: [[0.9814453125, 0.002964019775390625, 0.0009908676147460938, 0.0008630752563476562, 0.0006632804870605469, 0.0005273818969726562], [0.0831298828125, 0.07763671875, 0.1888427734375, 0.0555419921875, 0.048675537109375, 0.03485107421875], [0.0408935546875, 0.2144775390625, 0.03369140625, 0.03216552734375, 0.030120849609375, 0.0272674560546875], [0.2418212890625, 0.0811767578125, 0.0653076171875, 0.06402587890625, 0.044525146484375, 0.0211181640625], [0.159912109375, 0.035552978515625, 0.1702880859375, 0.10052490234375, 0.0625, 0.031341552734375], [0.1295166015625, 0.11407470703125, 0.0506591796875, 0.027374267578125, 0.026458740234375, 0.0247802734375], [0.132080078125, 0.10382080078125, 0.044036865234375, 0.041717529296875, 0.041412353515625, 0.035064697265625], [0.1141357421875, 0.09521484375, 0.1043701171875, 0.052764892578125, 0.042816162109375, 0.03472900390625], [0.048309326171875, 0.154296875, 0.06597900390625, 0.09820556640625, 0.042449951171875, 0.035797119140625], [0.2252197265625, 0.0687255859375, 0.056060791015625, 0.0355224609375, 0.035064697265625, 0.032135009765625], [0.2127685546875, 0.0469970703125, 0.0623779296875, 0.03399658203125, 0.026824951171875, 0.022735595703125], [0.1790771484375, 0.07470703125, 0.061767578125, 0.04364013671875, 0.04345703125, 0.03216552734375], [0.0218353271484375, 0.1778564453125, 0.056884765625, 0.07708740234375, 0.0252532958984375, 0.0188446044921875], [0.1751708984375, 0.11688232421875, 0.1121826171875, 0.06634521484375, 0.035247802734375, 0.0278472900390625], [0.07427978515625, 0.122314453125, 0.1107177734375, 0.06561279296875, 0.0634765625, 0.029144287109375], [0.0928955078125, 0.06201171875, 0.07037353515625, 0.09326171875, 0.044342041015625, 0.026641845703125], [0.067626953125, 0.12469482421875, 0.10748291015625, 0.06414794921875, 0.039215087890625, 0.03668212890625], [0.047607421875, 0.11944580078125, 0.1463623046875, 0.173095703125, 0.051605224609375, 0.0394287109375], [0.1522216796875, 0.1124267578125, 0.060882568359375, 0.0565185546875, 0.051025390625, 0.044036865234375], [0.07794189453125, 0.12109375, 0.06951904296875, 0.0550537109375, 0.048309326171875, 0.035614013671875], [0.042877197265625, 0.1751708984375, 0.071533203125, 0.121826171875, 0.03802490234375, 0.02886962890625], [0.0484619140625, 0.04949951171875, 0.045074462890625, 0.1485595703125, 0.036407470703125, 0.0343017578125]]\n",
      "Combined output tokens: [[(' препратки', 90.875), ('扫', 88.5), ('不成', 88.3125), ('idades', 88.125), ('�乐', 87.875)], [('9', 1.421875), ('7', 1.3955078125), ('1', 1.390625), ('2', 1.3837890625), ('6', 1.3759765625)], [('PING', 0.42333984375), ('HCI', 0.40869140625), ('华声', 0.405029296875), ('UME', 0.39599609375), ('STA', 0.394287109375)], [('цяло', 0.76123046875), ('equalities', 0.70361328125), ('杖', 0.67822265625), ('macrodef', 0.6650390625), ('rowColor', 0.66357421875)], [('escan', 0.62060546875), ('anship', 0.5302734375), ('cies', 0.52734375), ('oraci', 0.52685546875), ('一言', 0.49365234375)], [('se', 0.379150390625), ('fen', 0.338134765625), ('arm', 0.3369140625), ('нев', 0.32958984375), ('sever', 0.32177734375)], [('SSA', 0.416748046875), ('OTO', 0.405517578125), ('JB', 0.394287109375), ('HIN', 0.3818359375), ('足了', 0.381591796875)], [('════════════════', 0.322509765625), ('uld', 0.319091796875), ('ulp', 0.312255859375), ('азар', 0.3056640625), (' ох', 0.301513671875)], [('3', 0.3818359375), ('0', 0.381103515625), ('тено', 0.365234375), ('8', 0.344970703125), (' patriarca', 0.344482421875)], [('asl', 0.591796875), ('拦', 0.57470703125), ('sequ', 0.5712890625), ('тини', 0.5576171875), ('以色', 0.54541015625)], [('rime', 0.464599609375), ('agma', 0.43115234375), ('wered', 0.40966796875), ('сени', 0.391845703125), ('глави', 0.387451171875)], [('нав', 0.599609375), ('吉', 0.587890625), ('ProtoBuf', 0.54638671875), ('зон', 0.54541015625), ('日内与', 0.5380859375)], [('SEL', 0.333251953125), ('нам', 0.3310546875), ('原', 0.315673828125), ('ksu', 0.3076171875), ('luent', 0.297119140625)], [('anell', 0.56396484375), ('erti', 0.53955078125), ('oulli', 0.52734375), ('liques', 0.52734375), ('iaris', 0.525390625)], [('5', 1.1689453125), ('0', 1.14453125), ('1', 1.1328125), ('4', 1.119140625), ('2', 1.0869140625)], [(' ', 0.61181640625), ('landa', 0.54736328125), ('\\u200a', 0.470458984375), ('gex', 0.457275390625), ('统', 0.43896484375)], [(' &', 0.74853515625), (' (', 0.689453125), (' Bud', 0.671875), ('ac', 0.65625), (' lexic', 0.630859375)], [('йт', 0.97265625), ('gos', 0.87890625), ('令', 0.86962890625), ('etheless', 0.8564453125), ('нира', 0.8447265625)], [('ceq', 0.86083984375), ('[--', 0.8583984375), ('autorest', 0.85498046875), ('otip', 0.85302734375), ('subNav', 0.85107421875)], [('вена', 0.50244140625), ('东海', 0.4931640625), ('阮', 0.490966796875), (' [', 0.4833984375), (' \"', 0.473388671875)], [(' f', 1.1064453125), ('itiu', 0.99609375), ('intilla', 0.97021484375), ('apic', 0.91162109375), ('тини', 0.84814453125)], [('4', 0.403564453125), ('vic', 0.382568359375), ('1', 0.3798828125), (' ', 0.370361328125), ('7', 0.3701171875)]]\n",
      "Expert predictions by position: {0: {1: [('0', 0.000553131103515625), ('Read', 0.0005145072937011719), (' t', 0.00049591064453125), ('ръ', 0.0004954338073730469), ('MS', 0.0004906654357910156)], 2: [('uid', 0.0028438568115234375), ('being', 0.002674102783203125), ('uzzi', 0.0026397705078125), ('ного', 0.0025691986083984375), ('azar', 0.0024967193603515625)], 14: [(' препратки', 90.4375), ('扫', 88.5625), ('不成', 88.125), ('idades', 87.9375), ('�乐', 87.75)], 34: [('upp', 0.52099609375), ('7', 0.466552734375), ('9', 0.46533203125), ('2', 0.462646484375), ('vault', 0.446533203125)], 42: [('uid', 0.0040130615234375), (' Firm', 0.0036754608154296875), ('去皮', 0.00360107421875), ('zing', 0.0035552978515625), ('顶', 0.0035114288330078125)], 47: [('gis', 0.003009796142578125), ('INET', 0.002849578857421875), ('othe', 0.0028228759765625), ('garh', 0.002712249755859375), (' pendent', 0.00270843505859375)]}, 1: {4: [(' <!--[', 0.0831298828125), ('ifmmode', 0.08282470703125), ('ител', 0.08245849609375), ('=*/', 0.0780029296875), ('стата', 0.07720947265625)], 14: [('安东', 0.1158447265625), ('ил', 0.08795166015625), ('顿', 0.087646484375), ('lain', 0.0838623046875), (' res', 0.08270263671875)], 20: [('лите', 0.1070556640625), ('解', 0.09881591796875), ('锅', 0.0985107421875), ('лищ', 0.09368896484375), ('Fest', 0.09197998046875)], 34: [('ered', 0.04486083984375), ('ering', 0.03717041015625), (' f', 0.029083251953125), ('bag', 0.0287933349609375), (':&', 0.0269775390625)], 41: [('aille', 0.09710693359375), ('nar', 0.09136962890625), (' fus', 0.086669921875), (' Grans', 0.08648681640625), ('raid', 0.08587646484375)], 50: [('accio', 0.147705078125), ('icies', 0.1324462890625), ('estrat', 0.12890625), ('othered', 0.1273193359375), ('обра', 0.1260986328125)]}, 10: {4: [('amard', 0.091552734375), ('jad', 0.09075927734375), (';{\\\\', 0.08587646484375), (':*.', 0.0833740234375), ('acting', 0.08270263671875)], 13: [('вар', 0.033050537109375), ('曲', 0.0284271240234375), ('契', 0.0283050537109375), ('оръ', 0.0281829833984375), ('odont', 0.02789306640625)], 17: [('лу', 0.186767578125), ('ippets', 0.171142578125), ('rena', 0.169921875), ('ondin', 0.1617431640625), ('\\t=>', 0.1583251953125)], 30: [('pols', 0.312255859375), ('acials', 0.286376953125), ('anell', 0.285888671875), ('exion', 0.28076171875), ('AudioEvent', 0.273193359375)], 36: [('quier', 0.09197998046875), ('灵', 0.0859375), ('��', 0.08294677734375), ('ugin', 0.08135986328125), ('inche', 0.08062744140625)], 63: [('婪', 0.64306640625), ('odeset', 0.58154296875), (' equalities', 0.56298828125), ('odel', 0.56103515625), ('цяло', 0.5537109375)]}, 11: {4: [('rant', 0.0509033203125), ('ح', 0.048004150390625), ('模', 0.04766845703125), ('imat', 0.046875), ('rst', 0.04388427734375)], 17: [('SEL', 0.309814453125), (' Cos', 0.26220703125), (' bottoms', 0.250732421875), ('bein', 0.2432861328125), ('HDA', 0.2301025390625)], 19: [('uments', 0.07049560546875), ('нау', 0.06988525390625), (' сметка', 0.0667724609375), ('anell', 0.0654296875), ('ochastic', 0.065185546875)], 38: [('ed', 0.04400634765625), ('drawing', 0.042144775390625), ('注册', 0.041839599609375), ('cola', 0.04107666015625), ('кла', 0.040802001953125)], 39: [('Македония', 0.0965576171875), ('тания', 0.085693359375), ('ishe', 0.08514404296875), (' Хърват', 0.0845947265625), ('Община', 0.08282470703125)], 58: [('shint', 0.0830078125), ('架', 0.0826416015625), ('escript', 0.07757568359375), ('研究员', 0.07415771484375), ('ospels', 0.07293701171875)]}, 13: {4: [('дор', 0.370849609375), ('agma', 0.367431640625), ('UNTU', 0.356201171875), ('щайн', 0.31787109375), ('сени', 0.317626953125)], 11: [('яр', 0.416748046875), ('�', 0.409912109375), ('rdia', 0.40771484375), ('Pobl', 0.398681640625), ('stakes', 0.394287109375)], 17: [('poli', 0.0350341796875), ('aed', 0.033172607421875), ('aterno', 0.031219482421875), ('}$~\\\\', 0.0311279296875), ('rema', 0.0296173095703125)], 29: [('leness', 0.1915283203125), (' превод', 0.1800537109375), (' допъл', 0.172607421875), ('uat', 0.17236328125), ('impse', 0.17236328125)], 30: [('ФА', 0.0645751953125), ('jgl', 0.0635986328125), ('gha', 0.06103515625), ('峨', 0.05987548828125), ('№', 0.057952880859375)], 41: [('5', 0.1336669921875), ('9', 0.133544921875), ('4', 0.1304931640625), ('1', 0.1279296875), ('0', 0.1275634765625)]}, 19: {4: [('1', 0.1776123046875), ('4', 0.176513671875), ('3', 0.1683349609375), ('7', 0.16455078125), ('em', 0.1640625)], 20: [('免费咨询电话', 0.1060791015625), ('родни', 0.09429931640625), ('dorf', 0.09405517578125), ('вор', 0.09197998046875), ('arcs', 0.08880615234375)], 41: [(' Blockly', 0.09765625), ('чат', 0.09716796875), ('тати', 0.09686279296875), ('unknownFields', 0.09674072265625), ('CharacterOffset', 0.09649658203125)], 57: [('itiu', 0.85400390625), ('intilla', 0.84228515625), ('estions', 0.76611328125), ('ottky', 0.765625), (' f', 0.76416015625)], 58: [('ecedents', 0.2125244140625), ('�', 0.1939697265625), ('ocup', 0.1893310546875), ('ager', 0.186767578125), ('tofore', 0.1854248046875)], 60: [('ntz', 0.08062744140625), ('Llista', 0.0792236328125), ('way', 0.07891845703125), ('IPU', 0.07830810546875), (' Goya', 0.07708740234375)]}, 2: {5: [('7', 0.040496826171875), ('5', 0.03741455078125), ('call', 0.036468505859375), ('9', 0.035919189453125), ('4', 0.035369873046875)], 8: [('amic', 0.1619873046875), ('蝉', 0.150146484375), ('тено', 0.1436767578125), ('acant', 0.14306640625), ('统', 0.1414794921875)], 12: [('敢', 0.31591796875), ('zul', 0.3125), ('hci', 0.309326171875), ('Mean', 0.306396484375), ('UME', 0.303955078125)], 14: [('nt', 0.0660400390625), ('elect', 0.059051513671875), ('京津', 0.05670166015625), (' Tim', 0.0562744140625), ('各位', 0.0552978515625)], 40: [('ive', 0.03533935546875), ('约定', 0.0313720703125), ('sw', 0.031280517578125), ('ioc', 0.0294342041015625), ('Unit', 0.029327392578125)], 52: [('roid', 0.0256805419921875), ('MIS', 0.0233917236328125), ('tage', 0.0232696533203125), ('不到', 0.02294921875), ('acl', 0.022735595703125)]}, 20: {5: [('能源', 0.14990234375), (' X', 0.14697265625), ('ilst', 0.1409912109375), ('客', 0.1405029296875), ('以上', 0.1346435546875)], 11: [('eth', 0.1158447265625), ('penny', 0.0989990234375), ('ETH', 0.0928955078125), ('片', 0.08740234375), ('�', 0.0863037109375)], 13: [(' ', 0.352294921875), (' `', 0.33349609375), (' O', 0.305419921875), (' --', 0.302001953125), ('奥', 0.301513671875)], 24: [('writeField', 0.282470703125), ('狼', 0.2489013671875), ('OperationKind', 0.2445068359375), ('�', 0.240478515625), ('ierarchy', 0.2281494140625)], 31: [('ribe', 0.2003173828125), ('SSERT', 0.1712646484375), ('habitants', 0.169189453125), ('特朗', 0.1644287109375), ('沙', 0.163818359375)], 57: [(' /', 0.423583984375), (' (', 0.4072265625), (' &', 0.40234375), ('бек', 0.392822265625), ('ac', 0.37451171875)]}, 7: {6: [('enting', 0.11962890625), ('壁', 0.1004638671875), ('avia', 0.1002197265625), ('inia', 0.099609375), ('лене', 0.09820556640625)], 9: [('5', 0.2841796875), ('9', 0.28271484375), ('4', 0.27880859375), ('1', 0.266357421875), ('7', 0.263671875)], 14: [('HIN', 0.0540771484375), ('unda', 0.0518798828125), ('omla', 0.04931640625), ('esters', 0.048309326171875), ('意', 0.047454833984375)], 16: [('EM', 0.038482666015625), ('ncies', 0.03839111328125), ('emark', 0.036346435546875), ('揭', 0.0361328125), ('ards', 0.036041259765625)], 42: [('折', 0.065673828125), (' Pe', 0.060699462890625), ('Pe', 0.057769775390625), ('LD', 0.05731201171875), ('镜', 0.054534912109375)], 46: [('ITH', 0.085693359375), ('pia', 0.08258056640625), ('idth', 0.0794677734375), ('fluid', 0.07781982421875), ('idr', 0.0771484375)]}, 8: {6: [('уна', 0.025054931640625), ('ceq', 0.024078369140625), ('рун', 0.02386474609375), ('扫黑', 0.0235595703125), ('fon', 0.0233001708984375)], 8: [('教训', 0.043365478515625), ('mb', 0.04205322265625), ('WIRE', 0.04022216796875), ('лива', 0.038787841796875), (' -', 0.03857421875)], 12: [('ivitat', 0.033477783203125), ('eso', 0.02886962890625), ('UP', 0.0262298583984375), ('间的', 0.0257568359375), ('наги', 0.0252227783203125)], 14: [('ял', 0.09271240234375), ('азар', 0.08795166015625), ('imn', 0.08489990234375), ('odic', 0.07830810546875), ('rime', 0.0765380859375)], 42: [('uls', 0.161376953125), ('墩', 0.1531982421875), ('ibe', 0.1424560546875), ('rap', 0.134521484375), ('ules', 0.1343994140625)], 49: [('дена', 0.06756591796875), ('9', 0.06585693359375), ('тали', 0.062744140625), ('咨', 0.062744140625), ('otis', 0.06243896484375)]}, 14: {6: [('3', 0.06488037109375), ('6', 0.0645751953125), ('失踪', 0.06427001953125), (' Convent', 0.064208984375), ('9', 0.06396484375)], 7: [('(#', 0.04119873046875), ('(', 0.040924072265625), ('cross', 0.03863525390625), ('Cross', 0.0372314453125), ('weig', 0.033966064453125)], 9: [('нет', 0.11865234375), ('там', 0.1162109375), ('astia', 0.11248779296875), ('йл', 0.10980224609375), ('最后一', 0.10931396484375)], 16: [('0', 0.1353759765625), ('4', 0.133544921875), ('5', 0.12890625), ('7', 0.126953125), ('ially', 0.12359619140625)], 29: [('mathb', 0.0745849609375), ('ormal', 0.0712890625), ('йн', 0.06640625), ('мените', 0.06396484375), ('携', 0.06353759765625)], 46: [('0', 0.5673828125), ('5', 0.54736328125), ('1', 0.53955078125), ('4', 0.5263671875), ('3', 0.5244140625)]}, 21: {7: [('泡', 0.146728515625), ('elius', 0.1456298828125), ('пул', 0.1422119140625), ('onom', 0.1405029296875), ('spo', 0.1385498046875)], 9: [('ading', 0.1964111328125), ('abilitat', 0.1876220703125), (' Doc', 0.1761474609375), ('wixt', 0.164306640625), (' ана', 0.1640625)], 15: [('ала', 0.0287322998046875), ('escan', 0.0276641845703125), ('дена', 0.02716064453125), ('пте', 0.026885986328125), ('�', 0.0265655517578125)], 40: [('orney', 0.046783447265625), ('�', 0.03564453125), ('endar', 0.03497314453125), ('quire', 0.03448486328125), ('潜', 0.034332275390625)], 53: [('uega', 0.0467529296875), ('专', 0.044219970703125), ('dorff', 0.03936767578125), ('td', 0.0386962890625), ('tsd', 0.038543701171875)], 57: [('autorest', 0.69775390625), ('otip', 0.6552734375), ('�乐', 0.60986328125), ('brack', 0.60546875), ('ostei', 0.603515625)]}, 12: {8: [('empty', 0.03558349609375), ('дове', 0.034423828125), ('aix', 0.033935546875), ('sciences', 0.033477783203125), ('empra', 0.03289794921875)], 9: [('杞', 0.0758056640625), ('扶', 0.075439453125), ('стано', 0.0694580078125), ('вол', 0.0672607421875), (' Obra', 0.067138671875)], 17: [(' literari', 0.060028076171875), ('чини', 0.058990478515625), ('吉', 0.05889892578125), (' truth', 0.05877685546875), ('agon', 0.058074951171875)], 44: [('喜', 0.0140380859375), ('焦', 0.01325225830078125), ('慰', 0.0126190185546875), (' трети', 0.01224517822265625), (' cul', 0.01221466064453125)], 45: [('col', 0.033172607421875), (' colours', 0.031524658203125), ('uer', 0.0303802490234375), ('coln', 0.0302886962890625), ('ICS', 0.0293121337890625)], 53: [('vic', 0.305419921875), ('ivan', 0.28515625), ('obles', 0.27197265625), ('抢', 0.2685546875), ('uble', 0.26806640625)]}, 15: {8: [('ACLE', 0.0208587646484375), ('全域', 0.0196990966796875), ('托', 0.01824951171875), (' kinds', 0.01666259765625), ('吐', 0.016510009765625)], 20: [('хай', 0.0521240234375), ('exas', 0.052093505859375), ('nech', 0.051361083984375), ('Downloads', 0.0482177734375), ('áč', 0.047821044921875)], 24: [('orb', 0.2484130859375), ('landa', 0.2462158203125), ('ErrorReason', 0.2396240234375), ('gex', 0.2335205078125), ('OperationKind', 0.2230224609375)], 34: [('9', 0.017791748046875), ('0', 0.0166778564453125), ('7', 0.0165557861328125), ('6', 0.0161590576171875), ('3', 0.01558685302734375)], 42: [('igor', 0.0538330078125), ('uminous', 0.04681396484375), ('ngu', 0.046630859375), ('inese', 0.046051025390625), ('gic', 0.045867919921875)], 57: [('писани', 0.11383056640625), (' _', 0.107421875), ('дия', 0.1014404296875), ('resos', 0.0985107421875), ('纪', 0.09564208984375)]}, 5: {9: [('aging', 0.2261962890625), ('жва', 0.2103271484375), ('ay', 0.1983642578125), ('计', 0.1953125), ('se', 0.1944580078125)], 17: [(' (', 0.051300048828125), ('�', 0.047454833984375), ('overning', 0.047332763671875), ('s', 0.046875), ('nesses', 0.043853759765625)], 18: [('box', 0.02166748046875), ('time', 0.0211029052734375), ('стви', 0.01995849609375), ('lier', 0.019134521484375), ('times', 0.018768310546875)], 39: [('}$~\\\\', 0.030914306640625), ('闭', 0.030303955078125), ('elog', 0.0287933349609375), ('�', 0.0274505615234375), ('кива', 0.026397705078125)], 45: [('7', 0.021270751953125), ('4', 0.0202484130859375), ('3', 0.0194244384765625), ('тели', 0.0189666748046875), ('5', 0.01837158203125)], 53: [('lts', 0.043731689453125), ('otron', 0.04302978515625), ('дил', 0.041778564453125), ('ISD', 0.04034423828125), ('raq', 0.040252685546875)]}, 4: {10: [('hls', 0.059539794921875), ('xis', 0.049713134765625), ('jal', 0.049346923828125), ('opher', 0.049285888671875), ('soid', 0.04766845703125)], 23: [('4', 0.1341552734375), ('6', 0.1329345703125), ('3', 0.1326904296875), ('0', 0.132568359375), ('1', 0.1297607421875)], 27: [('сли', 0.2235107421875), (' _$', 0.2138671875), ('iski', 0.213134765625), ('/__', 0.210205078125), ('ripci', 0.2098388671875)], 37: [('aved', 0.320068359375), ('oraci', 0.2763671875), ('ophagus', 0.267822265625), ('лота', 0.2626953125), ('argo', 0.255859375)], 58: [('xkb', 0.12371826171875), ('цяло', 0.111328125), ('Archive', 0.110107421875), ('惕', 0.10638427734375), ('ale', 0.105224609375)], 63: [('omen', 0.037078857421875), ('omat', 0.03521728515625), ('notations', 0.034210205078125), ('iours', 0.033843994140625), ('gdal', 0.033782958984375)]}, 6: {10: [('mind', 0.04547119140625), ('ons', 0.04229736328125), ('ens', 0.038421630859375), ('ial', 0.03729248046875), ('late', 0.037200927734375)], 11: [(' наказа', 0.313232421875), ('рав', 0.261962890625), ('eneral', 0.25927734375), ('казва', 0.2578125), ('�', 0.25634765625)], 25: [('chos', 0.185302734375), (' comp', 0.1832275390625), ('oldt', 0.1827392578125), ('chor', 0.1788330078125), ('attices', 0.1708984375)], 42: [('ML', 0.1649169921875), ('ged', 0.16259765625), ('rap', 0.159912109375), ('意', 0.1531982421875), ('墩', 0.15234375)], 43: [('Accessor', 0.2470703125), ('phins', 0.2425537109375), ('ndies', 0.2373046875), ('nexi', 0.236083984375), ('Cci', 0.2259521484375)], 61: [('弥', 0.07244873046875), ('ibr', 0.068115234375), (' Gw', 0.06787109375), ('ENTER', 0.06573486328125), ('bitter', 0.0653076171875)]}, 17: {11: [('oldt', 0.1260986328125), ('hard', 0.1251220703125), ('hera', 0.121337890625), ('ool', 0.12005615234375), ('-', 0.11712646484375)], 19: [(' ', 0.1181640625), ('Skip', 0.11468505859375), ('yet', 0.1011962890625), (' /', 0.0975341796875), ('的全', 0.09454345703125)], 25: [('icke', 0.0654296875), ('uil', 0.0654296875), ('lian', 0.06488037109375), ('там', 0.06396484375), ('nimes', 0.06304931640625)], 31: [('пло', 0.28955078125), ('ук', 0.275390625), ('гнати', 0.2724609375), ('upost', 0.267333984375), (' Legi', 0.26171875)], 54: [('образи', 0.1617431640625), ('isObject', 0.1585693359375), (' застра', 0.156494140625), ('iban', 0.1539306640625), ('мперат', 0.1507568359375)], 57: [('рети', 0.2568359375), ('янов', 0.25537109375), ('resos', 0.2415771484375), ('tring', 0.2313232421875), (' ', 0.2222900390625)]}, 3: {14: [('noc', 0.06927490234375), ('дио', 0.062164306640625), ('стров', 0.060089111328125), ('фер', 0.058990478515625), ('ossos', 0.057830810546875)], 50: [('合', 0.074951171875), (' Хел', 0.07391357421875), ('cd', 0.06622314453125), ('大招', 0.0633544921875), ('irc', 0.0633544921875)], 53: [('ront', 0.0252227783203125), ('fron', 0.0231781005859375), ('riba', 0.0225677490234375), ('7', 0.0223388671875), ('�', 0.0221099853515625)], 56: [('EXP', 0.10382080078125), ('isan', 0.10174560546875), ('herits', 0.09967041015625), ('ercus', 0.09814453125), ('iones', 0.09356689453125)], 59: [('erella', 0.1163330078125), ('CALLTYPE', 0.10650634765625), ('висимост', 0.09869384765625), ('paramtype', 0.0970458984375), ('\"><!--', 0.0931396484375)], 63: [('тини', 0.5478515625), ('usch', 0.52783203125), ('asl', 0.43994140625), ('以色', 0.433837890625), ('信', 0.427734375)]}, 9: {20: [('5', 0.1573486328125), ('4', 0.14990234375), ('3', 0.13427734375), ('0', 0.1319580078125), ('2', 0.1279296875)], 23: [('urats', 0.09820556640625), ('uraci', 0.095947265625), (' Дание', 0.093994140625), ('ecut', 0.0916748046875), ('iflower', 0.090576171875)], 38: [('estima', 0.54931640625), ('зон', 0.5107421875), ('日内与', 0.499755859375), ('decomp', 0.49609375), ('regut', 0.47021484375)], 59: [('бин', 0.058746337890625), ('anov', 0.05218505859375), (' HFS', 0.04998779296875), ('thems', 0.049652099609375), ('estock', 0.0494384765625)], 60: [('isite', 0.036895751953125), ('飞机', 0.03302001953125), ('algo', 0.032257080078125), ('oia', 0.03192138671875), ('alling', 0.0306854248046875)], 63: [('henko', 0.05352783203125), ('otos', 0.052978515625), ('rip', 0.050384521484375), ('obles', 0.04931640625), ('otas', 0.04791259765625)]}, 16: {22: [('unals', 0.07379150390625), ('новка', 0.071044921875), ('новите', 0.0701904296875), ('onesa', 0.069580078125), ('пте', 0.06805419921875)], 24: [('�다', 0.10302734375), ('мират', 0.08917236328125), (' Учи', 0.08612060546875), ('尽致', 0.07720947265625), (' Sentinel', 0.0743408203125)], 48: [('2', 0.11895751953125), ('9', 0.11358642578125), ('6', 0.11279296875), ('5', 0.11175537109375), ('3', 0.11016845703125)], 54: [('amet', 0.1116943359375), ('ensem', 0.107177734375), ('antan', 0.10076904296875), ('illings', 0.09564208984375), ('麦', 0.093994140625)], 57: [('йт', 0.6484375), ('itionally', 0.486083984375), (' Fland', 0.433837890625), (' HIGH', 0.413818359375), ('гор', 0.406494140625)], 61: [('pot', 0.340087890625), ('тича', 0.310302734375), ('piece', 0.301025390625), ('pod', 0.29931640625), ('opl', 0.2890625)]}, 18: {23: [('urtles', 0.171630859375), (' strictly', 0.1707763671875), ('omar', 0.166259765625), ('vs', 0.1591796875), ('VS', 0.158447265625)], 25: [('ages', 0.50537109375), ('лара', 0.477783203125), ('eries', 0.453857421875), ('нира', 0.44775390625), ('� ', 0.446533203125)], 31: [('кал', 0.1475830078125), ('кала', 0.1463623046875), ('1', 0.13916015625), (' отбра', 0.1353759765625), ('бия', 0.13525390625)], 37: [('Afganistan', 0.12744140625), (' me', 0.11749267578125), (' Aires', 0.114990234375), ('ignite', 0.11077880859375), ('gran', 0.107177734375)], 41: [('摄影', 0.0313720703125), (' some', 0.02691650390625), (' beh', 0.026702880859375), ('disposed', 0.0265045166015625), ('虾', 0.02581787109375)], 57: [('вена', 0.46728515625), ('enesis', 0.4501953125), ('itored', 0.420166015625), ('长城', 0.40185546875), ('Permalink', 0.400634765625)]}}\n",
      "Shared expert predictions: [[('被迫', 0.491455078125), ('ISAM', 0.46728515625), ('竣', 0.46484375), ('乞', 0.443115234375), ('INSEE', 0.44189453125)], [('钰', 0.5439453125), ('KI', 0.537109375), ('始终坚持', 0.53515625), ('固执', 0.5283203125), ('莫名其', 0.52490234375)], [('湃', 0.2220458984375), ('INE', 0.219970703125), (' sustain', 0.2156982421875), ('钰', 0.2109375), ('pei', 0.2093505859375)], [('钰', 0.26171875), ('LH', 0.25439453125), ('RG', 0.2529296875), ('JT', 0.251220703125), ('KI', 0.244873046875)], [('KI', 0.2376708984375), ('晖', 0.2327880859375), ('固执', 0.229736328125), ('得意', 0.2261962890625), ('enko', 0.220947265625)], [('EH', 0.146240234375), ('ITT', 0.13525390625), ('enko', 0.12744140625), ('幻', 0.1265869140625), ('绮', 0.1256103515625)], [('始终坚持', 0.26171875), ('固执', 0.258056640625), ('LH', 0.257080078125), (' dalt', 0.251708984375), ('晗', 0.25146484375)], [('pols', 0.10150146484375), ('enko', 0.100341796875), ('uci', 0.09674072265625), (\"''(\", 0.09246826171875), ('rut', 0.09234619140625)], [('9', 0.1146240234375), ('6', 0.1131591796875), ('3', 0.11138916015625), (' ', 0.10797119140625), ('8', 0.10791015625)], [('6', 0.2283935546875), ('0', 0.2181396484375), ('8', 0.2144775390625), ('9', 0.2139892578125), ('3', 0.2125244140625)], [('一言', 0.0794677734375), ('ria', 0.07763671875), ('患', 0.07525634765625), ('enko', 0.0751953125), ('RG', 0.0732421875)], [('9', 0.1451416015625), ('4', 0.14453125), ('2', 0.1417236328125), ('6', 0.139404296875), ('0', 0.13818359375)], [('oa', 0.071533203125), ('agin', 0.0714111328125), (' lat', 0.0687255859375), (' cond', 0.067626953125), ('imes', 0.06744384765625)], [('6', 0.11737060546875), ('4', 0.1119384765625), ('2', 0.1109619140625), ('3', 0.110107421875), ('0', 0.10968017578125)], [('uld', 0.1015625), ('3', 0.10015869140625), ('2', 0.098388671875), ('JA', 0.09716796875), ('穿', 0.09716796875)], [('6', 0.16357421875), ('3', 0.160888671875), (' ', 0.1566162109375), ('5', 0.153076171875), ('4', 0.1527099609375)], [('EH', 0.1441650390625), ('晗', 0.12548828125), ('RG', 0.12005615234375), ('莫名其', 0.1190185546875), ('泽', 0.11328125)], [('新湖南', 0.1861572265625), ('Funnels', 0.1650390625), ('�乐', 0.154541015625), ('湃', 0.1405029296875), ('pei', 0.138916015625)], [('KI', 0.122314453125), ('睿', 0.115966796875), ('smith', 0.11346435546875), (' Ji', 0.11322021484375), ('兢', 0.1129150390625)], [('钰', 0.1959228515625), ('JB', 0.178466796875), ('得意', 0.1781005859375), ('莫名其', 0.173828125), ('ITT', 0.1641845703125)], [('钰', 0.1378173828125), ('泛', 0.10791015625), ('兢', 0.1070556640625), ('无私', 0.10540771484375), (' c', 0.10455322265625)], [('#:', 0.1124267578125), ('4', 0.1064453125), ('丹', 0.10430908203125), ('汇', 0.10089111328125), ('jo', 0.10064697265625)]]\n",
      "\n",
      "MoE Layer 2:\n",
      "Selected experts: [[42, 63, 46, 14, 31, 61], [48, 18, 38, 49, 11, 41], [48, 39, 30, 31, 4, 9], [40, 10, 48, 50, 36, 39], [48, 23, 22, 18, 1, 24], [5, 48, 16, 13, 34, 61], [55, 33, 4, 32, 57, 59], [12, 50, 61, 47, 48, 46], [31, 11, 30, 61, 41, 43], [48, 62, 34, 44, 40, 41], [7, 40, 50, 8, 41, 10], [19, 10, 29, 34, 33, 36], [19, 34, 5, 7, 13, 16], [8, 10, 60, 15, 25, 53], [50, 46, 47, 20, 12, 61], [31, 63, 55, 11, 2, 43], [63, 25, 28, 18, 59, 6], [9, 28, 40, 57, 56, 62], [29, 40, 62, 44, 56, 33], [18, 59, 62, 28, 34, 40], [40, 49, 35, 38, 56, 52], [16, 5, 31, 20, 15, 34]]\n",
      "Expert weights: [[0.689453125, 0.071044921875, 0.00942230224609375, 0.0091705322265625, 0.00827789306640625, 0.00689697265625], [0.1884765625, 0.11962890625, 0.0684814453125, 0.054168701171875, 0.04962158203125, 0.03387451171875], [0.128662109375, 0.0292205810546875, 0.04986572265625, 0.2012939453125, 0.029022216796875, 0.0248260498046875], [0.11407470703125, 0.09130859375, 0.08709716796875, 0.07598876953125, 0.060394287109375, 0.034332275390625], [0.2353515625, 0.1695556640625, 0.06396484375, 0.053192138671875, 0.035125732421875, 0.033843994140625], [0.154052734375, 0.1004638671875, 0.04730224609375, 0.04376220703125, 0.0309600830078125, 0.02935791015625], [0.0634765625, 0.0751953125, 0.11602783203125, 0.061126708984375, 0.03314208984375, 0.03277587890625], [0.2095947265625, 0.2071533203125, 0.1361083984375, 0.039794921875, 0.0253753662109375, 0.022247314453125], [0.0887451171875, 0.07672119140625, 0.04974365234375, 0.045562744140625, 0.04248046875, 0.0382080078125], [0.0491943359375, 0.060394287109375, 0.08758544921875, 0.10382080078125, 0.10626220703125, 0.045257568359375], [0.1552734375, 0.03759765625, 0.0506591796875, 0.07110595703125, 0.037109375, 0.03082275390625], [0.173095703125, 0.076171875, 0.07562255859375, 0.045562744140625, 0.03668212890625, 0.033599853515625], [0.09356689453125, 0.139892578125, 0.08270263671875, 0.050567626953125, 0.0341796875, 0.0301971435546875], [0.06964111328125, 0.1019287109375, 0.0728759765625, 0.1298828125, 0.048065185546875, 0.04730224609375], [0.09429931640625, 0.0955810546875, 0.09173583984375, 0.1146240234375, 0.06103515625, 0.05120849609375], [0.1458740234375, 0.07452392578125, 0.06036376953125, 0.05987548828125, 0.053955078125, 0.047698974609375], [0.07177734375, 0.098876953125, 0.07379150390625, 0.07171630859375, 0.03546142578125, 0.032958984375], [0.162841796875, 0.13720703125, 0.1334228515625, 0.06134033203125, 0.0504150390625, 0.039825439453125], [0.16943359375, 0.229248046875, 0.1068115234375, 0.0919189453125, 0.08599853515625, 0.03271484375], [0.08917236328125, 0.083740234375, 0.060791015625, 0.052825927734375, 0.050506591796875, 0.04754638671875], [0.0872802734375, 0.1484375, 0.071533203125, 0.12066650390625, 0.0611572265625, 0.03973388671875], [0.1343994140625, 0.1259765625, 0.07196044921875, 0.034698486328125, 0.031890869140625, 0.027557373046875]]\n",
      "Combined output tokens: [[(' препратки', 23.078125), ('观点或立场', 21.609375), ('�乐', 21.34375), ('不成', 21.0625), ('}$~\\\\', 20.78125)], [('9', 0.87451171875), ('0', 0.8134765625), ('1', 0.802734375), ('5', 0.79296875), ('8', 0.77490234375)], [('rens', 0.61474609375), ('役', 0.59130859375), ('NOS', 0.54638671875), ('的效果', 0.54345703125), ('效果', 0.5244140625)], [('inclo', 0.59912109375), ('NOSCRIPT', 0.55322265625), ('DebuggerNonUser', 0.54345703125), ('twig', 0.53466796875), ('Vtbl', 0.53125)], [('AIN', 0.732421875), ('nap', 0.7197265625), ('iban', 0.7197265625), ('RM', 0.7041015625), ('|^\\\\', 0.701171875)], [('писани', 0.46240234375), (' _', 0.452392578125), ('teau', 0.45166015625), ('izu', 0.445068359375), (' b', 0.42822265625)], [('adem', 0.5244140625), (' agrega', 0.47705078125), ('opam', 0.465087890625), ('dato', 0.4609375), ('shm', 0.45751953125)], [('ichan', 0.62255859375), ('Resultats', 0.61767578125), ('bling', 0.595703125), ('theoretic', 0.59130859375), ('писи', 0.5869140625)], [('elius', 0.321533203125), ('itaci', 0.319580078125), ('ianes', 0.308349609375), ('\\ufeff\\ufeff\\ufeff\\ufeff', 0.302734375), ('landa', 0.30126953125)], [('arent', 0.5322265625), ('juju', 0.4873046875), ('orov', 0.482177734375), ('fils', 0.48095703125), ('reads', 0.474365234375)], [('стира', 0.4189453125), ('�乐', 0.39501953125), ('蜘', 0.373291015625), ('стран', 0.35986328125), ('朱元', 0.3515625)], [(' ', 0.80859375), (' A', 0.58642578125), ('inth', 0.56640625), (' (', 0.53515625), (' O', 0.52685546875)], [('访', 0.43896484375), ('0', 0.38134765625), ('颗粒', 0.344970703125), ('rev', 0.343017578125), ('吉', 0.341796875)], [('onada', 0.48828125), ('ITES', 0.4833984375), ('izu', 0.4697265625), ('ФА', 0.46875), ('Habitants', 0.453369140625)], [('urger', 0.5830078125), ('correspond', 0.53955078125), ('ogonality', 0.515625), ('ouser', 0.51513671875), ('ostes', 0.51513671875)], [('пя', 0.71826171875), ('访', 0.70361328125), ('CPTR', 0.6474609375), ('ک', 0.6455078125), ('ovir', 0.6279296875)], [('lav', 0.39404296875), (' здра', 0.3857421875), ('fen', 0.384033203125), ('委托', 0.37060546875), ('STD', 0.367431640625)], [('hp', 0.671875), (' neutral', 0.65576171875), ('illin', 0.634765625), ('�', 0.60498046875), ('占用', 0.5947265625)], [('ordon', 0.900390625), ('exas', 0.8603515625), ('FRING', 0.8544921875), ('SNAP', 0.8349609375), ('布拉', 0.82958984375)], [('squ', 0.51123046875), ('ele', 0.448486328125), ('德', 0.415283203125), (' v', 0.402587890625), (' Fac', 0.402099609375)], [('肪', 0.72900390625), (' <<<', 0.71240234375), ('plets', 0.70947265625), ('acant', 0.708984375), ('oue', 0.671875)], [('rmk', 0.56689453125), ('thead', 0.475830078125), ('Ren', 0.45263671875), ('审', 0.439208984375), ('къ', 0.438232421875)]]\n",
      "Expert predictions by position: {4: {1: [('候', 0.046356201171875), ('捣', 0.043853759765625), ('нди', 0.043792724609375), ('曼', 0.0428466796875), ('riend', 0.042694091796875)], 18: [('CALLBACK', 0.1319580078125), ('aska', 0.1317138671875), ('��', 0.12213134765625), ('aguen', 0.1217041015625), ('ipo', 0.11834716796875)], 22: [('illie', 0.1220703125), ('椒', 0.12103271484375), ('esqu', 0.1177978515625), ('亥', 0.11602783203125), ('Party', 0.1143798828125)], 23: [('стител', 0.37744140625), ('Като', 0.357666015625), ('лива', 0.349853515625), ('增', 0.34765625), (' generation', 0.34130859375)], 24: [('ocentric', 0.054962158203125), ('rne', 0.052154541015625), (' pullup', 0.051849365234375), (' penn', 0.0517578125), ('plied', 0.05078125)], 48: [('模拟', 0.489501953125), ('ulada', 0.486572265625), ('amore', 0.47021484375), ('ocate', 0.46337890625), ('LM', 0.458251953125)]}, 15: {2: [('3', 0.08843994140625), ('nev', 0.08819580078125), (' pp', 0.086181640625), ('而易', 0.0860595703125), ('щат', 0.08563232421875)], 11: [('мп', 0.1378173828125), (' $+$', 0.12744140625), ('ntica', 0.1270751953125), (\"'@\", 0.1270751953125), ('ingui', 0.12261962890625)], 31: [('obal', 0.1329345703125), ('ibliot', 0.11273193359375), (' posa', 0.10919189453125), ('adders', 0.1077880859375), ('mdl', 0.10748291015625)], 43: [('чин', 0.10736083984375), ('雪', 0.10540771484375), ('тана', 0.1031494140625), ('[_', 0.10296630859375), ('Scroll', 0.09820556640625)], 55: [('opolitan', 0.126220703125), ('etically', 0.12286376953125), (' notranslate', 0.122802734375), ('deven', 0.114501953125), ('dit', 0.11297607421875)], 63: [('batim', 0.8935546875), ('翼翼', 0.86962890625), ('али', 0.84765625), ('ndar', 0.82373046875), ('INSEE', 0.80859375)]}, 2: {4: [('egl', 0.27734375), ('penat', 0.267822265625), ('pite', 0.25732421875), ('beard', 0.254638671875), ('ibliot', 0.252685546875)], 9: [('ператор', 0.41259765625), ('hips', 0.399658203125), ('скография', 0.36376953125), ('翼翼', 0.355224609375), ('pzc', 0.35009765625)], 30: [('llar', 0.07415771484375), ('SLS', 0.07305908203125), ('джиев', 0.0721435546875), ('inux', 0.07080078125), ('llan', 0.069091796875)], 31: [('标', 0.364013671875), ('旗', 0.353271484375), (' vol', 0.349365234375), (' windows', 0.347412109375), (' Emb', 0.3466796875)], 39: [('гене', 0.049102783203125), ('тората', 0.0439453125), ('KERNEL', 0.043914794921875), ('ople', 0.04388427734375), ('рати', 0.042083740234375)], 48: [('inclo', 0.2176513671875), ('лн', 0.19580078125), ('беля', 0.1951904296875), ('лна', 0.1949462890625), ('лни', 0.194091796875)]}, 6: {4: [('�', 0.0245208740234375), ('ascens', 0.0242919921875), ('owell', 0.0241851806640625), ('aset', 0.0238037109375), ('ѐ', 0.0235748291015625)], 32: [('asca', 0.11358642578125), (' nationals', 0.10357666015625), ('ales', 0.09893798828125), ('aran', 0.0982666015625), ('скоро', 0.0977783203125)], 33: [('霆', 0.071044921875), ('�乐', 0.0694580078125), ('\\\\^', 0.06719970703125), ('霆锋', 0.06591796875), ('mesg', 0.0594482421875)], 55: [('пя', 0.288818359375), ('��', 0.260498046875), ('topNav', 0.253662109375), ('sembler', 0.253662109375), ('Rules', 0.2432861328125)], 57: [('erc', 0.046173095703125), ('族', 0.042755126953125), ('me', 0.042022705078125), (' бри', 0.04022216796875), ('iels', 0.039459228515625)], 59: [(' брак', 0.146240234375), (' Maver', 0.145751953125), ('孟', 0.1390380859375), ('弱', 0.1383056640625), ('ано', 0.1353759765625)]}, 5: {5: [('�', 0.1357421875), ('aea', 0.133056640625), ('xid', 0.130859375), ('rev', 0.12359619140625), ('tablen', 0.12213134765625)], 13: [(' b', 0.0809326171875), ('谜', 0.0770263671875), ('quid', 0.07183837890625), ('te', 0.07159423828125), ('fol', 0.07080078125)], 16: [(' G', 0.07904052734375), (' Power', 0.07769775390625), ('aji', 0.07696533203125), ('iats', 0.07379150390625), ('复杂', 0.07147216796875)], 34: [('[--', 0.0311279296875), (' OTHERWISE', 0.0303192138671875), ('ServiceProvider', 0.0302734375), ('acier', 0.02850341796875), ('WISE', 0.026947021484375)], 48: [(' at', 0.325927734375), ('pro', 0.320068359375), ('end', 0.318115234375), (' M', 0.31591796875), ('7', 0.30517578125)], 61: [('Lo', 0.26806640625), ('endum', 0.2313232421875), ('Дей', 0.222900390625), ('利物', 0.22265625), ('itari', 0.2213134765625)]}, 12: {5: [('escan', 0.2249755859375), ('lir', 0.2169189453125), ('isca', 0.2152099609375), ('涉', 0.21044921875), ('igure', 0.209228515625)], 7: [('omeu', 0.068359375), ('\\\\^', 0.06597900390625), ('agena', 0.06298828125), ('лене', 0.060394287109375), (' преимен', 0.059173583984375)], 13: [('ialize', 0.041839599609375), ('Debugger', 0.04071044921875), ('ncer', 0.040435791015625), ('aure', 0.039825439453125), ('haver', 0.039764404296875)], 16: [('ractic', 0.03424072265625), ('manys', 0.033477783203125), ('ossible', 0.0328369140625), ('digo', 0.032806396484375), ('vey', 0.031646728515625)], 19: [('颗粒', 0.22021484375), ('arn', 0.1944580078125), ('猕', 0.1876220703125), ('мб', 0.1806640625), ('Lear', 0.1727294921875)], 34: [('UNT', 0.058197021484375), ('透', 0.05364990234375), ('DON', 0.052490234375), ('гре', 0.05218505859375), ('рият', 0.051239013671875)]}, 21: {5: [(' i', 0.40771484375), ('7', 0.378173828125), (' z', 0.346923828125), ('4', 0.346435546875), (' _', 0.34375)], 15: [('mania', 0.035247802734375), ('рация', 0.033905029296875), ('出不穷', 0.03369140625), ('不了的', 0.033203125), ('cel', 0.03271484375)], 16: [('sandbox', 0.208740234375), ('vid', 0.2022705078125), ('teo', 0.1964111328125), ('къ', 0.189453125), (' pe', 0.1846923828125)], 20: [('\\xa0part', 0.2330322265625), ('сън', 0.224365234375), ('eln', 0.2108154296875), ('晰', 0.21044921875), ('$.\\\\', 0.2056884765625)], 31: [('escut', 0.006275177001953125), ('HDA', 0.00551605224609375), ('HandleTypeDef', 0.005229949951171875), ('гане', 0.005218505859375), ('станбул', 0.005191802978515625)], 34: [(':*.', 0.115234375), ('кос', 0.1099853515625), ('верен', 0.1038818359375), ('本地', 0.1033935546875), (' temper', 0.10333251953125)]}, 16: {6: [('CCCCFF', 0.07757568359375), ('etta', 0.0697021484375), ('EEEEFF', 0.06671142578125), (' ho', 0.06396484375), (' съ', 0.0631103515625)], 18: [('e', 0.29931640625), ('2', 0.295654296875), ('7', 0.27197265625), ('es', 0.26416015625), ('6', 0.263916015625)], 25: [('уза', 0.080078125), ('仅代表作者本人观点', 0.07891845703125), ('tua', 0.07879638671875), ('tega', 0.075927734375), ('holtz', 0.07244873046875)], 28: [('��', 0.1400146484375), ('umes', 0.11749267578125), ('imal', 0.1170654296875), ('undy', 0.11407470703125), (' <!--[', 0.1131591796875)], 59: [('бри', 0.042633056640625), (' russes', 0.042327880859375), ('пела', 0.042266845703125), ('мера', 0.041046142578125), ('raph', 0.0406494140625)], 63: [('3', 0.2174072265625), (' {', 0.2103271484375), ('5', 0.2049560546875), ('翡', 0.1983642578125), ('ida', 0.196044921875)]}, 10: {7: [('стира', 0.315185546875), ('спекти', 0.29736328125), ('蜘', 0.291748046875), ('leta', 0.29150390625), ('olls', 0.27880859375)], 8: [('дн', 0.141845703125), ('西红', 0.1395263671875), ('ФА', 0.1383056640625), ('attery', 0.1378173828125), ('\\x0b', 0.1365966796875)], 10: [('edor', 0.173828125), ('doxygen', 0.1729736328125), ('utx', 0.170654296875), ('ograp', 0.1688232421875), ('atform', 0.1640625)], 40: [('urus', 0.18798828125), ('пу', 0.182861328125), ('aska', 0.181640625), ('stria', 0.1783447265625), ('insic', 0.17431640625)], 41: [('circled', 0.05340576171875), ('科学与', 0.052276611328125), ('uture', 0.050872802734375), ('ausen', 0.047210693359375), ('Skip', 0.04632568359375)], 50: [('екси', 0.186767578125), (' _', 0.163330078125), ('oze', 0.1612548828125), ('agor', 0.1575927734375), (' ху', 0.156982421875)]}, 13: {8: [('后赛', 0.10479736328125), ('AGO', 0.1014404296875), ('ilon', 0.1004638671875), ('лко', 0.09747314453125), ('uni', 0.095947265625)], 10: [('UBE', 0.1527099609375), ('chnologies', 0.1451416015625), ('cloudflare', 0.1444091796875), ('disturbed', 0.1395263671875), ('ancourt', 0.1376953125)], 15: [('��', 0.263671875), ('EUA', 0.201416015625), ('称的', 0.1920166015625), ('submenu', 0.1904296875), ('Tu', 0.1890869140625)], 25: [('仁', 0.14990234375), ('负', 0.127685546875), ('во', 0.1273193359375), ('miss', 0.1270751953125), ('бло', 0.1229248046875)], 53: [('icat', 0.06329345703125), ('unks', 0.060546875), ('驱', 0.06036376953125), ('etat', 0.05584716796875), ('X', 0.05352783203125)], 60: [('ITES', 0.12200927734375), ('notifier', 0.11871337890625), ('而知', 0.11151123046875), ('意料', 0.11004638671875), ('立卡', 0.10980224609375)]}, 17: {9: [('дител', 0.02508544921875), ('AIN', 0.0218505859375), ('сково', 0.0189971923828125), ('ex', 0.0189056396484375), ('愚蠢', 0.01873779296875)], 28: [('dorf', 0.237548828125), ('抵', 0.2230224609375), ('云', 0.2149658203125), ('ingles', 0.2099609375), ('a', 0.2088623046875)], 40: [('orov', 0.2237548828125), ('eler', 0.2235107421875), ('reads', 0.219482421875), ('------+', 0.21435546875), ('ellen', 0.2142333984375)], 56: [('eness', 0.39404296875), ('hesda', 0.385498046875), ('tage', 0.385498046875), ('exas', 0.3828125), ('estir', 0.361328125)], 57: [('�', 0.1600341796875), ('sle', 0.150146484375), ('POLICY', 0.1484375), ('inee', 0.1453857421875), ('cert', 0.1446533203125)], 62: [('� ', 0.085205078125), ('ocode', 0.0782470703125), ('нук', 0.07183837890625), ('estrella', 0.0701904296875), ('ENAME', 0.06622314453125)]}, 3: {10: [('crest', 0.10809326171875), ('pit', 0.1029052734375), ('esi', 0.1021728515625), ('冬', 0.09906005859375), ('粒', 0.09747314453125)], 36: [('litza', 0.142822265625), ('sWith', 0.140869140625), ('>&#', 0.1329345703125), ('rbia', 0.1297607421875), ('OUSE', 0.129150390625)], 39: [('料', 0.032684326171875), ('ServiceProvider', 0.031585693359375), ('�', 0.0312042236328125), ('ерн', 0.030548095703125), ('unga', 0.0299072265625)], 40: [('oin', 0.07171630859375), ('降', 0.07171630859375), ('轻', 0.071044921875), ('ologue', 0.06988525390625), ('odox', 0.0689697265625)], 48: [('itaris', 0.0677490234375), ('ky', 0.0633544921875), ('rj', 0.063232421875), (' образ', 0.061920166015625), ('ole', 0.061553955078125)], 50: [('enes', 0.10064697265625), ('1', 0.0975341796875), ('лай', 0.09722900390625), ('兑', 0.0966796875), ('凤', 0.095947265625)]}, 11: {10: [('ieg', 0.043121337890625), ('сте', 0.040618896484375), ('assada', 0.039276123046875), ('беле', 0.038818359375), ('setData', 0.037628173828125)], 19: [(' ', 0.53076171875), ('tablenot', 0.496337890625), (' extension', 0.436279296875), ('二次', 0.434326171875), ('inth', 0.429931640625)], 29: [('lege', 0.1317138671875), ('нст', 0.1175537109375), ('itali', 0.11614990234375), ('hands', 0.10797119140625), ('уни', 0.1077880859375)], 33: [('itar', 0.11138916015625), ('alona', 0.10980224609375), ('Phabricator', 0.10394287109375), ('чина', 0.10247802734375), ('ложи', 0.10125732421875)], 34: [(' списа', 0.1627197265625), ('omen', 0.1568603515625), ('吉', 0.15478515625), ('odend', 0.14794921875), ('omin', 0.144775390625)], 36: [('份', 0.04443359375), (' tod', 0.0439453125), ('мар', 0.043853759765625), ('journ', 0.042724609375), ('切', 0.0426025390625)]}, 1: {11: [('escan', 0.1317138671875), ('elius', 0.12225341796875), ('�', 0.11212158203125), ('lida', 0.10968017578125), ('ROSS', 0.10784912109375)], 18: [('8', 0.288330078125), ('1', 0.284423828125), ('2', 0.283447265625), ('5', 0.28076171875), ('0', 0.26611328125)], 38: [('зва', 0.2060546875), (' int', 0.1966552734375), (' (', 0.1959228515625), ('9', 0.1773681640625), ('上加', 0.1767578125)], 41: [('ronic', 0.05859375), ('евру', 0.055572509765625), ('uerte', 0.0543212890625), ('�乐', 0.053253173828125), ('wml', 0.050933837890625)], 48: [('фелд', 0.1495361328125), (' философ', 0.1396484375), ('igon', 0.138916015625), ('rality', 0.1343994140625), ('ограф', 0.13330078125)], 49: [('uparrow', 0.0853271484375), (' idemp', 0.07989501953125), ('pcs', 0.07757568359375), ('erness', 0.076171875), ('unders', 0.07586669921875)]}, 8: {11: [('itzar', 0.08880615234375), ('анта', 0.084716796875), ('ува', 0.08258056640625), ('自已', 0.0811767578125), ('rocal', 0.08087158203125)], 30: [('axy', 0.05120849609375), ('PRB', 0.0501708984375), ('imit', 0.04840087890625), ('wlp', 0.046234130859375), ('高分', 0.04498291015625)], 31: [('ugar', 0.327880859375), ('圾', 0.324462890625), ('рели', 0.323486328125), ('селе', 0.3232421875), ('рни', 0.302490234375)], 41: [('resso', 0.057464599609375), ('roe', 0.043304443359375), ('aml', 0.040679931640625), ('iling', 0.039520263671875), (' fluct', 0.03948974609375)], 43: [('2', 0.10394287109375), ('3', 0.10284423828125), ('6', 0.09747314453125), ('8', 0.09600830078125), ('5', 0.0924072265625)], 61: [('ster', 0.0078277587890625), ('ografies', 0.007389068603515625), ('�', 0.007293701171875), ('ymer', 0.006450653076171875), ('复印', 0.006420135498046875)]}, 7: {12: [('fony', 0.1268310546875), ('rtex', 0.09527587890625), (' portat', 0.09478759765625), (' поло', 0.09393310546875), ('yield', 0.093017578125)], 46: [('anian', 0.023040771484375), ('ombard', 0.0215606689453125), ('enges', 0.0196990966796875), ('emos', 0.0196380615234375), ('Tit', 0.0194549560546875)], 47: [('avell', 0.0662841796875), ('ellat', 0.06329345703125), ('鄙', 0.061004638671875), ('ordi', 0.060516357421875), ('KES', 0.059906005859375)], 48: [('abilitat', 0.047149658203125), ('qb', 0.04345703125), ('rality', 0.0416259765625), ('нам', 0.041229248046875), ('��', 0.03985595703125)], 50: [('писи', 0.4189453125), ('ichan', 0.413330078125), ('fet', 0.3759765625), ('тира', 0.373046875), ('arets', 0.353271484375)], 61: [('�', 0.11895751953125), ('onet', 0.110595703125), ('raph', 0.10870361328125), ('榜', 0.10870361328125), (' directament', 0.1065673828125)]}, 14: {12: [('порт', 0.322509765625), ('imits', 0.311767578125), ('emano', 0.30224609375), ('untos', 0.295654296875), ('YPT', 0.295166015625)], 20: [('LIC', 0.039703369140625), (' Segarra', 0.039459228515625), ('刻', 0.037872314453125), (' COPY', 0.036651611328125), ('anty', 0.035980224609375)], 46: [('不言', 0.1510009765625), (' -', 0.1474609375), ('gat', 0.145751953125), (' Cain', 0.144287109375), ('gro', 0.14208984375)], 47: [('esides', 0.1964111328125), ('baselines', 0.1923828125), ('subsec', 0.177001953125), ('avell', 0.1754150390625), ('mless', 0.173583984375)], 50: [('osi', 0.1300048828125), ('履', 0.129150390625), (' morter', 0.1258544921875), (' <!--[', 0.12548828125), ('��', 0.12353515625)], 61: [('ument', 0.07373046875), ('terness', 0.071044921875), ('imum', 0.06951904296875), ('oir', 0.06884765625), ('aded', 0.06842041015625)]}, 0: {14: [('apparmor', 0.012054443359375), ('IEEEeqnarray', 0.01136016845703125), ('hdots', 0.011322021484375), ('утбо', 0.01082611083984375), ('hearts', 0.01068878173828125)], 31: [('1', 0.2130126953125), ('2', 0.1947021484375), ('8', 0.185302734375), ('3', 0.1844482421875), ('7', 0.177734375)], 42: [(' препратки', 21.046875), ('�乐', 19.859375), ('观点或立场', 19.59375), ('扫', 19.40625), ('udi', 19.375)], 46: [('explot', 0.032012939453125), ('IEEEeqnarray', 0.031494140625), ('имна', 0.0292510986328125), ('��', 0.0292205810546875), ('HECK', 0.0285186767578125)], 61: [('gio', 0.04718017578125), ('ifest', 0.041534423828125), ('bered', 0.04132080078125), ('ront', 0.0400390625), ('ложени', 0.039306640625)], 63: [('EM', 0.1708984375), ('�', 0.169677734375), ('swered', 0.16943359375), (' _', 0.1688232421875), ('uations', 0.1630859375)]}, 19: {18: [('ollo', 0.145263671875), ('iquen', 0.131591796875), ('omach', 0.1285400390625), ('drift', 0.127685546875), ('来越', 0.1253662109375)], 28: [('ала', 0.07672119140625), ('ech', 0.07391357421875), ('ABC', 0.07330322265625), ('ल', 0.0728759765625), ('POP', 0.07183837890625)], 34: [('::__', 0.06732177734375), ('acent', 0.06719970703125), (' __', 0.06103515625), ('__);', 0.06024169921875), ('unconfirmed', 0.0546875)], 40: [('ი', 0.284423828125), ('twig', 0.2587890625), ('ე', 0.2568359375), ('ncy', 0.2459716796875), ('agrid', 0.239501953125)], 59: [('抽', 0.048553466796875), ('тата', 0.04547119140625), ('采', 0.042633056640625), ('лара', 0.0419921875), ('sov', 0.041259765625)], 62: [('ped', 0.153564453125), ('ieve', 0.1480712890625), ('经', 0.142333984375), ('ives', 0.13623046875), ('root', 0.135498046875)]}, 18: {29: [('ilation', 0.24072265625), ('辩', 0.225341796875), ('oces', 0.2220458984375), ('intage', 0.2208251953125), ('unes', 0.2181396484375)], 33: [('8', 0.040008544921875), ('2', 0.039642333984375), ('бло', 0.039337158203125), (',', 0.0389404296875), ('itated', 0.038787841796875)], 40: [('owers', 0.6025390625), ('orov', 0.529296875), ('aciously', 0.50927734375), ('зай', 0.50537109375), ('subs', 0.5048828125)], 44: [('Reviewed', 0.122314453125), ('лад', 0.12213134765625), ('iments', 0.119140625), ('ses', 0.1185302734375), ('ствие', 0.11181640625)], 56: [('кор', 0.115478515625), ('upt', 0.115478515625), ('尔德', 0.1123046875), ('般', 0.111328125), ('endas', 0.11077880859375)], 62: [('вето', 0.09710693359375), (' circulaci', 0.09710693359375), (' поз', 0.08538818359375), ('HEAD', 0.0838623046875), (' лице', 0.0836181640625)]}, 9: {34: [('лео', 0.034759521484375), ('ffe', 0.0343017578125), ('issin', 0.03216552734375), ('{}_', 0.03167724609375), ('alies', 0.031341552734375)], 40: [('曲', 0.250732421875), ('曲线', 0.2418212890625), ('orent', 0.2359619140625), ('ela', 0.233154296875), ('teenth', 0.22509765625)], 41: [('ander', 0.05426025390625), ('annes', 0.04876708984375), ('ANN', 0.045928955078125), ('aui', 0.045257568359375), ('Bu', 0.04461669921875)], 44: [('eton', 0.20703125), ('owed', 0.20458984375), ('ryption', 0.1934814453125), ('rics', 0.185546875), ('耽误', 0.184326171875)], 48: [('сев', 0.28564453125), ('oire', 0.281982421875), ('комо', 0.279296875), ('rens', 0.27001953125), ('рина', 0.264892578125)], 62: [('juju', 0.115234375), ('exion', 0.11419677734375), ('inats', 0.1124267578125), ('FromRange', 0.10833740234375), ('esko', 0.108154296875)]}, 20: {35: [('ject', 0.11749267578125), ('碗', 0.1044921875), (' r', 0.10394287109375), ('projects', 0.10302734375), ('2', 0.10296630859375)], 38: [('usercontent', 0.379150390625), (' <<<', 0.37744140625), ('textstyle', 0.35693359375), ('rmica', 0.35302734375), ('hart', 0.349853515625)], 40: [('agus', 0.1617431640625), ('ituency', 0.1376953125), ('acht', 0.1358642578125), ('ANCH', 0.135498046875), ('marshal', 0.133056640625)], 49: [('кат', 0.420654296875), ('rdia', 0.407958984375), ('acier', 0.37548828125), ('ulada', 0.371826171875), ('ленове', 0.36376953125)], 52: [('chten', 0.06304931640625), ('лист', 0.0616455078125), ('啤', 0.06134033203125), ('客', 0.06072998046875), (' #:', 0.060546875)], 56: [('苹', 0.154296875), ('活的', 0.1492919921875), ('olute', 0.140869140625), ('filled', 0.136474609375), ('缤', 0.1351318359375)]}}\n",
      "Shared expert predictions: [[('INSEE', 2.12109375), ('ndar', 2.068359375), ('翼翼', 2.05859375), ('мира', 2.046875), (' Mediterrani', 2.009765625)], [('蹲', 0.2763671875), ('沛', 0.258056640625), ('抓住', 0.255615234375), ('OD', 0.2529296875), ('BRO', 0.2471923828125)], [('кре', 0.23193359375), ('UNUSED', 0.231201171875), ('自称', 0.22119140625), ('ono', 0.21728515625), ('纠', 0.2137451171875)], [('ISC', 0.2442626953125), ('懿', 0.2418212890625), ('莫名其', 0.2342529296875), ('宣告', 0.2308349609375), (' (^', 0.21337890625)], [('ISH', 0.250244140625), ('Vs', 0.2474365234375), (' uni', 0.2421875), ('INET', 0.240966796875), ('мни', 0.2393798828125)], [('rolog', 0.154052734375), ('shal', 0.1507568359375), ('lenburg', 0.148193359375), ('isenberg', 0.1470947265625), ('eldorf', 0.1463623046875)], [('ян', 0.229248046875), (' min', 0.2220458984375), ('ianes', 0.221923828125), ('桐', 0.219482421875), (' v', 0.2174072265625)], [('ropolis', 0.2100830078125), ('为止', 0.1981201171875), (' aud', 0.1959228515625), ('anooga', 0.19580078125), ('ness', 0.1939697265625)], [('ertat', 0.15869140625), ('ingers', 0.1510009765625), ('obius', 0.1500244140625), ('дри', 0.1463623046875), ('蒲', 0.146240234375)], [('��', 0.2435302734375), ('ueix', 0.2032470703125), ('laz', 0.202392578125), ('MU', 0.1943359375), ('rolet', 0.1929931640625)], [('ogan', 0.162109375), ('西北', 0.1475830078125), ('直', 0.1390380859375), (' CT', 0.13623046875), (' Frank', 0.134033203125)], [('Estudi', 0.2548828125), ('orca', 0.2020263671875), ('odder', 0.201416015625), ('roughs', 0.194091796875), ('ertiary', 0.19287109375)], [('gart', 0.1800537109375), ('prop', 0.1651611328125), ('pis', 0.1593017578125), (' ', 0.1517333984375), (' Spani', 0.14697265625)], [(' ', 0.255615234375), ('GPT', 0.2242431640625), ('坐', 0.1964111328125), ('析', 0.1925048828125), ('左', 0.1885986328125)], [('writeField', 0.27490234375), ('alona', 0.236083984375), ('unknownFields', 0.2222900390625), ('ogonality', 0.2216796875), ('piar', 0.2213134765625)], [('bom', 0.2335205078125), (' бю', 0.2208251953125), ('acid', 0.2100830078125), ('__,', 0.2032470703125), ('污', 0.2001953125)], [(' ', 0.217529296875), ('雁', 0.21142578125), ('жан', 0.205322265625), ('拯', 0.199462890625), ('炙', 0.1978759765625)], [('PTR', 0.208251953125), ('bart', 0.2001953125), ('cic', 0.19677734375), ('占了', 0.196533203125), ('口径', 0.1949462890625)], [('向东', 0.229248046875), ('例', 0.227294921875), (' Po', 0.2252197265625), ('杂', 0.2247314453125), ('参', 0.2205810546875)], [('雅', 0.2247314453125), ('typen', 0.2236328125), ('ENUM', 0.219482421875), ('стран', 0.2095947265625), ('浮', 0.208251953125)], [(' подно', 0.274169921875), ('obook', 0.259033203125), (' Стефа', 0.250732421875), ('ibli', 0.245849609375), ('�', 0.241455078125)], [('our', 0.27587890625), ('diy', 0.25), ('shire', 0.2410888671875), (' nuestra', 0.2364501953125), ('splash', 0.233154296875)]]\n",
      "\n",
      "MoE Layer 3:\n",
      "Selected experts: [[22, 62, 41, 46, 20, 31], [5, 19, 34, 54, 53, 23], [14, 62, 19, 55, 5, 24], [28, 12, 19, 4, 24, 37], [16, 34, 2, 24, 5, 53], [10, 61, 24, 5, 19, 6], [51, 53, 47, 5, 54, 33], [25, 46, 43, 55, 60, 31], [58, 19, 31, 26, 25, 62], [19, 63, 8, 38, 12, 5], [63, 0, 43, 55, 29, 19], [63, 32, 28, 15, 0, 4], [32, 61, 15, 10, 63, 0], [4, 63, 61, 23, 15, 45], [25, 41, 55, 43, 29, 0], [16, 33, 19, 26, 55, 58], [4, 16, 39, 19, 33, 49], [39, 18, 14, 37, 44, 15], [63, 44, 38, 32, 15, 14], [63, 59, 23, 49, 38, 28], [63, 44, 23, 17, 4, 0], [13, 61, 10, 52, 36, 41]]\n",
      "Expert weights: [[0.07196044921875, 0.5947265625, 0.05224609375, 0.020233154296875, 0.01099395751953125, 0.0095367431640625], [0.151611328125, 0.0797119140625, 0.11944580078125, 0.1407470703125, 0.0452880859375, 0.03668212890625], [0.067138671875, 0.1043701171875, 0.07904052734375, 0.06256103515625, 0.0546875, 0.04351806640625], [0.08392333984375, 0.0743408203125, 0.10211181640625, 0.07275390625, 0.06536865234375, 0.048980712890625], [0.061126708984375, 0.104248046875, 0.0748291015625, 0.1826171875, 0.054901123046875, 0.052947998046875], [0.28173828125, 0.2349853515625, 0.0217132568359375, 0.0216522216796875, 0.018402099609375, 0.017059326171875], [0.12322998046875, 0.111572265625, 0.096923828125, 0.0665283203125, 0.053680419921875, 0.045745849609375], [0.04669189453125, 0.08453369140625, 0.08551025390625, 0.310546875, 0.07244873046875, 0.043121337890625], [0.05255126953125, 0.16748046875, 0.047943115234375, 0.0958251953125, 0.04547119140625, 0.041961669921875], [0.15576171875, 0.1029052734375, 0.07427978515625, 0.059906005859375, 0.0496826171875, 0.03515625], [0.338623046875, 0.1083984375, 0.0289764404296875, 0.05047607421875, 0.04364013671875, 0.0267486572265625], [0.191162109375, 0.14208984375, 0.11578369140625, 0.07861328125, 0.038787841796875, 0.0253753662109375], [0.057037353515625, 0.307373046875, 0.08258056640625, 0.0662841796875, 0.055908203125, 0.0341796875], [0.1458740234375, 0.13525390625, 0.1080322265625, 0.0635986328125, 0.05865478515625, 0.0279541015625], [0.1717529296875, 0.145751953125, 0.1068115234375, 0.07891845703125, 0.050018310546875, 0.048919677734375], [0.07342529296875, 0.061859130859375, 0.2159423828125, 0.06842041015625, 0.034759521484375, 0.0341796875], [0.298583984375, 0.24658203125, 0.0445556640625, 0.039276123046875, 0.031951904296875, 0.0267791748046875], [0.22998046875, 0.149658203125, 0.10736083984375, 0.07122802734375, 0.04541015625, 0.026123046875], [0.270263671875, 0.108154296875, 0.0777587890625, 0.047332763671875, 0.03265380859375, 0.03179931640625], [0.0772705078125, 0.045654296875, 0.04876708984375, 0.056427001953125, 0.12188720703125, 0.04449462890625], [0.2109375, 0.0428466796875, 0.04058837890625, 0.0379638671875, 0.11224365234375, 0.03173828125], [0.1519775390625, 0.26416015625, 0.09893798828125, 0.0296630859375, 0.0631103515625, 0.0275726318359375]]\n",
      "Combined output tokens: [[('batim', 14.4609375), (' indebted', 14.15625), ('ndar', 14.0703125), ('имна', 13.6875), ('али', 13.4609375)], [('signal', 0.90625), ('uri', 0.88330078125), (' (', 0.86474609375), ('inator', 0.8515625), ('�', 0.849609375)], [('ulen', 0.60302734375), ('懿', 0.587890625), ('乏', 0.5595703125), ('ipes', 0.5546875), ('登上', 0.51513671875)], [('onada', 0.60986328125), ('oten', 0.583984375), ('\\ufeff\\ufeff', 0.58203125), ('engua', 0.5771484375), ('лям', 0.5703125)], [(' вери', 0.65478515625), ('fess', 0.6396484375), ('ipes', 0.6328125), ('зар', 0.6298828125), ('гре', 0.60009765625)], [('itchen', 1.0068359375), ('ieres', 1.0009765625), ('人民币', 0.904296875), ('iric', 0.904296875), ('有钱', 0.8896484375)], [('istat', 0.72119140625), ('ization', 0.68994140625), ('WIRE', 0.67138671875), ('laz', 0.66796875), (' --', 0.6640625)], [('H', 0.73583984375), (' recibo', 0.67919921875), ('主要', 0.6572265625), ('天真', 0.65576171875), ('рет', 0.65283203125)], [('arta', 0.5322265625), ('icis', 0.5322265625), ('�', 0.51904296875), ('мино', 0.5009765625), ('~(', 0.483154296875)], [(' centrada', 0.4970703125), ('��', 0.494873046875), ('PLL', 0.4501953125), (' revisar', 0.44482421875), ('拔', 0.4267578125)], [('4', 1.1640625), ('3', 1.11328125), ('2', 1.0859375), ('5', 1.0693359375), (' ,', 1.033203125)], [('eneg', 0.9580078125), ('ercials', 0.91162109375), ('бор', 0.90185546875), ('chev', 0.845703125), ('eppe', 0.830078125)], [('luence', 1.0810546875), ('UMN', 1.052734375), ('inria', 1.0146484375), ('ndia', 1.00390625), ('�', 0.99365234375)], [(' ones', 0.71044921875), ('mathb', 0.6962890625), ('流年', 0.67529296875), ('idera', 0.66845703125), ('нер', 0.6630859375)], [('Refs', 0.6484375), (' lit', 0.6416015625), ('泊', 0.63916015625), ('anat', 0.63720703125), ('Peace', 0.63037109375)], [('谱', 0.63134765625), ('OC', 0.5849609375), ('httpRequest', 0.57958984375), ('orb', 0.57666015625), ('icis', 0.556640625)], [('amb', 0.82275390625), ('\\xad', 0.8134765625), ('oes', 0.8095703125), ('Ob', 0.79931640625), (' __', 0.79296875)], [('不停', 1.0498046875), ('itures', 0.998046875), ('}{@{}', 0.97412109375), ('NNs', 0.96826171875), ('craft', 0.9111328125)], [('代表', 0.99853515625), ('estren', 0.93017578125), ('rils', 0.92529296875), ('inats', 0.919921875), ('arse', 0.88916015625)], [('�', 0.59521484375), ('钮', 0.58251953125), ('ано', 0.5556640625), ('erol', 0.52734375), (' Горно', 0.5224609375)], [('ляни', 0.95361328125), ('odromy', 0.939453125), ('стран', 0.90625), ('lop', 0.8486328125), ('ancourt', 0.84619140625)], [('udal', 0.8310546875), ('vies', 0.80224609375), ('迪丽', 0.77880859375), ('agrams', 0.7470703125), ('arance', 0.744140625)]]\n",
      "Expert predictions by position: {10: {0: [('arms', 0.0775146484375), (' Хърват', 0.07208251953125), ('apur', 0.07061767578125), ('ften', 0.06951904296875), ('�', 0.0689697265625)], 19: [('рене', 0.158447265625), (' опълченец', 0.145751953125), ('ис', 0.1422119140625), ('дем', 0.1396484375), ('割', 0.1392822265625)], 29: [('fono', 0.06671142578125), (' ръковод', 0.06573486328125), (' тениси', 0.0650634765625), ('�起', 0.06500244140625), ('=\"../../../../../../../', 0.0635986328125)], 43: [('8', 0.1959228515625), ('轮', 0.18896484375), ('部长', 0.18798828125), ('idon', 0.1878662109375), ('orell', 0.171630859375)], 55: [('obu', 0.04498291015625), ('essor', 0.0362548828125), ('entes', 0.035308837890625), ('ismes', 0.034942626953125), ('\\\\|^', 0.0345458984375)], 63: [(' Vol', 0.115478515625), (' O', 0.1026611328125), ('折', 0.09844970703125), ('удо', 0.09503173828125), ('acum', 0.09320068359375)]}, 11: {0: [('iban', 0.07647705078125), (' поме', 0.07269287109375), ('₄', 0.07012939453125), ('��', 0.068115234375), (' leave', 0.066650390625)], 4: [(' опълченец', 0.140869140625), ('ymbol', 0.1402587890625), ('ерман', 0.1357421875), ('ygon', 0.134765625), ('ogut', 0.1331787109375)], 15: [('eppe', 0.234130859375), ('joined', 0.23095703125), ('bserv', 0.2113037109375), ('纸', 0.2056884765625), ('glGet', 0.2047119140625)], 28: [(' Tags', 0.12744140625), (' стени', 0.1240234375), ('tags', 0.1224365234375), ('asca', 0.1197509765625), ('icis', 0.119140625)], 32: [('mateix', 0.12005615234375), ('FrameworkBundle', 0.1143798828125), ('rils', 0.1141357421875), ('estres', 0.108642578125), ('DLINE', 0.10784912109375)], 63: [('ocats', 0.23046875), ('стани', 0.2259521484375), ('rens', 0.2142333984375), ('рите', 0.2099609375), ('estes', 0.200439453125)]}, 12: {0: [('扣', 0.060821533203125), ('mutable', 0.054534912109375), ('atform', 0.0523681640625), ('ера', 0.052337646484375), (' bret', 0.051788330078125)], 10: [(' AUTHOR', 0.0911865234375), (' shapef', 0.090087890625), ('SOURCE', 0.0894775390625), ('кро', 0.0870361328125), (' camp', 0.08624267578125)], 15: [('хода', 0.0543212890625), ('eixen', 0.0469970703125), ('rceil', 0.04693603515625), ('oners', 0.04437255859375), (' ficheros', 0.04388427734375)], 32: [('anell', 0.56494140625), ('tenes', 0.54296875), ('<$', 0.495849609375), ('gall', 0.4931640625), ('ails', 0.482177734375)], 61: [('itchen', 0.66748046875), ('ategy', 0.6640625), ('IPU', 0.65966796875), ('ays', 0.58544921875), ('peech', 0.55224609375)], 63: [('litza', 0.166015625), ('ATERIAL', 0.1474609375), ('序', 0.1402587890625), ('lord', 0.1346435546875), ('воли', 0.1322021484375)]}, 14: {0: [('тински', 0.2308349609375), ('drag', 0.2220458984375), ('DLINE', 0.1917724609375), ('rink', 0.1898193359375), ('Drag', 0.1878662109375)], 25: [('ISE', 0.4130859375), ('anter', 0.374755859375), ('iax', 0.3681640625), ('eton', 0.35498046875), (' Anys', 0.345458984375)], 29: [('versi', 0.09149169921875), ('onis', 0.07769775390625), ('告', 0.076171875), ('himself', 0.069091796875), ('ерцо', 0.069091796875)], 41: [('ilitar', 0.324951171875), ('乓', 0.31787109375), ('interval', 0.3125), ('agona', 0.307861328125), ('aggard', 0.2880859375)], 43: [('ignt', 0.0389404296875), ('inant', 0.03729248046875), ('IGGER', 0.037078857421875), ('antes', 0.036773681640625), ('抄', 0.03631591796875)], 55: [('基', 0.09954833984375), (' m', 0.08331298828125), ('Card', 0.0799560546875), (' hi', 0.07861328125), ('front', 0.077392578125)]}, 20: {0: [('��', 0.066650390625), ('洞', 0.063232421875), ('jans', 0.06121826171875), ('身', 0.060089111328125), ('AMS', 0.059722900390625)], 4: [('lop', 0.22314453125), ('companions', 0.21142578125), (' Shay', 0.2098388671875), ('gaard', 0.20556640625), ('搭', 0.2042236328125)], 17: [('ilitar', 0.15234375), ('ndice', 0.1436767578125), ('Hospitalet', 0.1414794921875), ('ancourt', 0.1390380859375), ('ssers', 0.1390380859375)], 23: [('зар', 0.0579833984375), ('bang', 0.05523681640625), ('护', 0.054901123046875), (' feu', 0.053131103515625), ('ева', 0.052459716796875)], 44: [('2', 0.1270751953125), ('1', 0.11083984375), ('5', 0.103515625), ('9', 0.10028076171875), ('3', 0.098388671875)], 63: [('纯', 0.402099609375), ('Managed', 0.388427734375), ('eneg', 0.387451171875), ('utch', 0.38037109375), ('OU', 0.37890625)]}, 4: {2: [('aquell', 0.1380615234375), ('requ', 0.137451171875), ('extend', 0.12384033203125), ('ари', 0.12261962890625), ('omi', 0.12127685546875)], 5: [(' Charge', 0.1888427734375), (' charge', 0.1859130859375), (' profession', 0.1732177734375), (' Пру', 0.1715087890625), (' object', 0.1688232421875)], 16: [('adr', 0.440673828125), ('udo', 0.435546875), ('ове', 0.422119140625), ('iosa', 0.420654296875), ('ку', 0.416259765625)], 24: [('ellery', 0.325927734375), ('ossal', 0.322998046875), ('Verified', 0.31103515625), ('REQ', 0.305908203125), (' dis', 0.30126953125)], 34: [('9', 0.5087890625), ('1', 0.424560546875), ('4', 0.4208984375), ('5', 0.41357421875), ('6', 0.410888671875)], 53: [('皂', 0.09112548828125), ('pher', 0.0775146484375), ('eda', 0.07623291015625), ('Diagnostics', 0.0751953125), (' ow', 0.07208251953125)]}, 3: {4: [('�', 0.0469970703125), ('writable', 0.046844482421875), ('хия', 0.0447998046875), ('хол', 0.043487548828125), (' редо', 0.043426513671875)], 12: [('��', 0.305419921875), ('irie', 0.281982421875), ('rbia', 0.263916015625), ('IEEEeqnarray', 0.261962890625), ('CADE', 0.25537109375)], 19: [('ceptor', 0.279296875), (' BS', 0.27490234375), ('rase', 0.2724609375), (' cryptocur', 0.267822265625), ('Witt', 0.262451171875)], 24: [('igon', 0.1201171875), ('real', 0.1082763671875), ('�', 0.1055908203125), ('ricular', 0.1011962890625), ('怪', 0.10089111328125)], 28: [('溅', 0.10675048828125), ('ник', 0.09405517578125), ('Habitants', 0.09320068359375), (' Пла', 0.09039306640625), ('�', 0.0897216796875)], 37: [('endi', 0.09210205078125), ('eses', 0.0775146484375), ('oba', 0.0750732421875), ('iria', 0.073974609375), ('edad', 0.07373046875)]}, 13: {4: [('amb', 0.55224609375), (' hor', 0.52490234375), ('ration', 0.50244140625), (' ESC', 0.492431640625), ('no', 0.4892578125)], 15: [('деля', 0.11474609375), ('盟', 0.088623046875), ('чу', 0.08624267578125), ('чник', 0.086181640625), (' ta', 0.0859375)], 23: [('rum', 0.08319091796875), (' ?', 0.07275390625), ('替', 0.068603515625), ('川', 0.0672607421875), ('cop', 0.06707763671875)], 45: [('eland', 0.05694580078125), ('слу', 0.054107666015625), ('rowse', 0.048828125), ('动的', 0.048370361328125), ('ched', 0.046966552734375)], 61: [('vn', 0.56689453125), ('Fl', 0.54443359375), ('fl', 0.52880859375), ('es', 0.51904296875), ('v', 0.51513671875)], 63: [('4', 0.96142578125), ('3', 0.8974609375), ('5', 0.890625), ('9', 0.880859375), ('2', 0.87646484375)]}, 16: {4: [('7', 0.319091796875), ('sx', 0.2998046875), ('9', 0.289794921875), ('枕', 0.289306640625), ('iats', 0.287109375)], 16: [('GG', 0.11407470703125), ('i', 0.10455322265625), ('/', 0.09991455078125), ('let', 0.099609375), ('iner', 0.099609375)], 19: [('柏', 0.04351806640625), ('otto', 0.039459228515625), ('CD', 0.03887939453125), (' диск', 0.0382080078125), (' __', 0.0364990234375)], 33: [('asca', 0.11224365234375), (' Голе', 0.1065673828125), ('ombs', 0.1016845703125), ('劲', 0.10076904296875), ('ht', 0.1007080078125)], 39: [(' PARTICULAR', 0.84423828125), ('ikipedia', 0.8046875), ('NES', 0.80078125), ('itures', 0.79833984375), ('磨', 0.72119140625)], 49: [('UNK', 0.04156494140625), ('比亚', 0.039520263671875), ('NDER', 0.036224365234375), ('произ', 0.034820556640625), ('refn', 0.034637451171875)]}, 1: {5: [('不打', 0.05169677734375), ('吉', 0.04925537109375), (' regla', 0.048553466796875), ('regu', 0.04705810546875), ('snapshots', 0.046783447265625)], 19: [('斗', 0.281005859375), ('日内与', 0.253173828125), ('LOP', 0.248779296875), ('enn', 0.24755859375), ('}$~\\\\', 0.2451171875)], 23: [('uler', 0.125244140625), ('inuz', 0.12017822265625), ('гради', 0.1126708984375), ('дий', 0.1124267578125), ('abus', 0.11077880859375)], 34: [('mide', 0.334228515625), ('izations', 0.269775390625), ('VERSE', 0.2685546875), (' Цари', 0.264404296875), (' бойни', 0.263916015625)], 53: [('acht', 0.1671142578125), ('agrada', 0.1368408203125), ('нов', 0.1287841796875), ('出于', 0.1259765625), ('клю', 0.12469482421875)], 54: [('直', 0.328857421875), (' G', 0.287353515625), ('STAT', 0.27880859375), ('ilers', 0.272216796875), ('范', 0.2705078125)]}, 2: {5: [('тера', 0.2257080078125), ('��', 0.221435546875), (' Fol', 0.2032470703125), ('Depth', 0.193359375), (' Depth', 0.1923828125)], 14: [('ynom', 0.159423828125), ('ilog', 0.153076171875), ('exion', 0.1494140625), ('bern', 0.1485595703125), ('ront', 0.145751953125)], 19: [('ages', 0.04083251953125), (' \\\\', 0.038177490234375), ('ength', 0.034332275390625), ('crt', 0.033111572265625), ('intage', 0.032867431640625)], 24: [('bill', 0.043792724609375), ('0', 0.03839111328125), (' fine', 0.037933349609375), ('2', 0.03662109375), ('4', 0.03521728515625)], 55: [('8', 0.1943359375), ('untu', 0.1939697265625), ('1', 0.1923828125), ('9', 0.18212890625), ('2', 0.177001953125)], 62: [('batim', 13.4453125), (' indebted', 13.1875), ('ndar', 12.9296875), ('али', 12.765625), ('имна', 12.6953125)]}, 5: {5: [('able', 0.05059814453125), (' account', 0.048126220703125), (' (', 0.0472412109375), (' Account', 0.046966552734375), ('enta', 0.046142578125)], 6: [(' Q', 0.035003662109375), (' o', 0.033935546875), ('icar', 0.032989501953125), (' AH', 0.032073974609375), (' F', 0.0304107666015625)], 10: [('iam', 0.5595703125), ('arques', 0.5595703125), ('屯', 0.52294921875), (' Germ', 0.509765625), ('不到', 0.49755859375)], 19: [('ori', 0.458740234375), ('OC', 0.412353515625), ('och', 0.383544921875), ('nec', 0.377685546875), ('LET', 0.37451171875)], 24: [('2', 0.07525634765625), ('6', 0.07171630859375), ('5', 0.070068359375), ('4', 0.06890869140625), ('3', 0.06768798828125)], 61: [('inria', 0.9140625), ('ъри', 0.9052734375), ('YPE', 0.8974609375), ('uture', 0.89111328125), (' fosc', 0.890625)]}, 6: {5: [('iva', 0.6142578125), ('inot', 0.5703125), ('ilton', 0.51904296875), (' Ha', 0.51220703125), (' Pa', 0.5068359375)], 33: [(' filtr', 0.0760498046875), ('LC', 0.07379150390625), ('ued', 0.07354736328125), ('债', 0.07342529296875), ('ι', 0.07275390625)], 47: [('iboot', 0.10235595703125), ('��', 0.10003662109375), ('cassiopeia', 0.09906005859375), (' aig', 0.09844970703125), ('IME', 0.0955810546875)], 51: [('IPP', 0.564453125), ('zell', 0.50146484375), ('erex', 0.49853515625), ('密度', 0.483154296875), ('istat', 0.47412109375)], 53: [('yship', 0.060516357421875), ('ser', 0.056304931640625), ('раст', 0.05426025390625), ('ondon', 0.053558349609375), ('再度', 0.053070068359375)], 54: [('ism', 0.08404541015625), ('ization', 0.0802001953125), (' Ad', 0.078125), ('m', 0.07568359375), ('ist', 0.073974609375)]}, 9: {5: [('дица', 0.1268310546875), (' CONDITION', 0.107177734375), ('�', 0.107177734375), ('mica', 0.10595703125), ('azed', 0.10382080078125)], 8: [('assol', 0.11138916015625), ('灰', 0.11090087890625), ('pla', 0.10906982421875), ('Pis', 0.10894775390625), ('藏', 0.1085205078125)], 12: [('бро', 0.056610107421875), (' опълченец', 0.055267333984375), ('гат', 0.05419921875), ('请', 0.051361083984375), ('寡', 0.051177978515625)], 19: [('nage', 0.07220458984375), ('谷', 0.06903076171875), ('eting', 0.06671142578125), ('rae', 0.06634521484375), ('eted', 0.06475830078125)], 38: [('avel', 0.315185546875), ('urous', 0.3095703125), ('itution', 0.284912109375), ('по', 0.2822265625), ('fuse', 0.27880859375)], 63: [('стран', 0.60400390625), ('лият', 0.59912109375), ('obody', 0.58984375), ('стика', 0.5888671875), ('restant', 0.57666015625)]}, 21: {10: [('ueres', 0.182373046875), (' observat', 0.17138671875), ('ема', 0.1663818359375), ('член', 0.16552734375), (' COLLATE', 0.1610107421875)], 13: [(' iniquity', 0.319580078125), (' свързан', 0.274658203125), ('长寿', 0.266845703125), ('火力', 0.264892578125), ('西红', 0.2646484375)], 36: [('anell', 0.10028076171875), ('стой', 0.0888671875), ('teix', 0.0882568359375), ('IEW', 0.08795166015625), (' воде', 0.08673095703125)], 41: [('�乐', 0.6728515625), ('DLINE', 0.63671875), ('herself', 0.6318359375), ('ocal', 0.62646484375), (' saddle', 0.61767578125)], 52: [('дски', 0.049285888671875), ('onstr', 0.046600341796875), ('inats', 0.04339599609375), (' Стра', 0.042724609375), ('idot', 0.04168701171875)], 61: [('landa', 0.32958984375), ('�', 0.25732421875), ('涉', 0.2423095703125), ('inria', 0.241943359375), ('uet', 0.2398681640625)]}, 17: {14: [('ixos', 0.0611572265625), ('odec', 0.0526123046875), ('整', 0.051544189453125), ('plusplus', 0.05096435546875), ('osc', 0.050567626953125)], 15: [(' Съеди', 0.1334228515625), ('joined', 0.12060546875), ('ices', 0.12030029296875), ('uum', 0.11920166015625), ('bserv', 0.1185302734375)], 18: [('ubre', 0.29931640625), (' envia', 0.293212890625), ('isors', 0.291259765625), ('言', 0.28369140625), ('不禁', 0.277099609375)], 37: [('shm', 0.137451171875), ('ierto', 0.1290283203125), ('erenced', 0.1268310546875), ('APTER', 0.12322998046875), ('utor', 0.12286376953125)], 39: [('tac', 0.1024169921875), ('atch', 0.09881591796875), ('饮', 0.09857177734375), (' Tools', 0.0972900390625), ('глед', 0.09375)], 44: [('ibli', 0.25341796875), ('бен', 0.2469482421875), (' omn', 0.246826171875), ('ерман', 0.2315673828125), ('нан', 0.227294921875)]}, 18: {14: [('arms', 0.267333984375), ('ynom', 0.259033203125), ('rece', 0.243408203125), ('rez', 0.2425537109375), ('reads', 0.2177734375)], 15: [('ateix', 0.06475830078125), ('IANT', 0.0572509765625), (' здраве', 0.056793212890625), ('hood', 0.055419921875), ('StateException', 0.053070068359375)], 32: [('вател', 0.173828125), ('特朗', 0.144775390625), ('дън', 0.1429443359375), ('omer', 0.13916015625), ('ICATION', 0.1273193359375)], 38: [('wbr', 0.1370849609375), ('跃', 0.1295166015625), ('sdb', 0.1282958984375), ('tia', 0.1275634765625), ('вода', 0.12274169921875)], 44: [(' av', 0.09332275390625), (' abs', 0.0897216796875), (' enm', 0.08740234375), ('llas', 0.0870361328125), ('�', 0.08392333984375)], 63: [(' народни', 0.331787109375), ('esia', 0.328369140625), (' Jan', 0.324462890625), ('猴子', 0.32177734375), (' v', 0.31689453125)]}, 15: {16: [('气和', 0.1285400390625), ('�', 0.11669921875), ('气的', 0.11187744140625), ('小区', 0.11016845703125), ('气', 0.1082763671875)], 19: [('GAN', 0.2476806640625), ('ieth', 0.22314453125), ('spaper', 0.212646484375), ('iling', 0.2049560546875), ('凉', 0.2041015625)], 26: [('ССР', 0.11907958984375), ('WEBPACK', 0.10662841796875), ('erral', 0.10125732421875), ('ousk', 0.09954833984375), ('ausa', 0.0977783203125)], 33: [('ongs', 0.0821533203125), ('enta', 0.07171630859375), ('ohn', 0.06671142578125), ('局', 0.06475830078125), ('Associ', 0.06427001953125)], 55: [('progress', 0.5458984375), ('лад', 0.49609375), ('难', 0.488525390625), ('derive', 0.477783203125), ('journ', 0.47607421875)], 58: [('oraci', 0.09930419921875), ('isb', 0.08868408203125), ('oric', 0.08367919921875), ('oto', 0.07470703125), ('icket', 0.07403564453125)]}, 8: {19: [('�', 0.363037109375), ('认真的', 0.343017578125), ('Pass', 0.332763671875), ('ands', 0.33203125), (' Sota', 0.331298828125)], 25: [('泌', 0.035125732421875), ('atri', 0.033538818359375), ('二', 0.0308837890625), ('GV', 0.030364990234375), ('entry', 0.0293731689453125)], 26: [('gis', 0.0814208984375), (' <<<', 0.07623291015625), ('uge', 0.07452392578125), (' dors', 0.0740966796875), ('特朗', 0.073486328125)], 31: [('眼光', 0.044647216796875), ('рол', 0.044464111328125), (' N', 0.044281005859375), (' scalp', 0.043365478515625), (' V', 0.042999267578125)], 58: [('Coverage', 0.0521240234375), ('ores', 0.048309326171875), ('ori', 0.048126220703125), ('aii', 0.046783447265625), ('bob', 0.046142578125)], 62: [('isl', 0.2193603515625), (' App', 0.1995849609375), ('щери', 0.1995849609375), ('FTA', 0.1900634765625), ('вата', 0.187744140625)]}, 0: {20: [('0', 0.01137542724609375), ('9', 0.00992584228515625), ('7', 0.0097503662109375), ('2', 0.00945281982421875), ('4', 0.00927734375)], 22: [('不成', 0.7880859375), ('诈', 0.6767578125), ('6', 0.67578125), ('�乐', 0.65966796875), (':.', 0.65576171875)], 31: [('det', 0.0770263671875), ('ptr', 0.07379150390625), ('pol', 0.0736083984375), ('眼光', 0.07318115234375), ('ark', 0.07073974609375)], 41: [('ulos', 0.0469970703125), (' allClasses', 0.0438232421875), ('Roine', 0.043426513671875), ('ucs', 0.0423583984375), ('paramname', 0.041290283203125)], 46: [('�', 0.17724609375), ('adesh', 0.1744384765625), ('сет', 0.167724609375), (' Tre', 0.1639404296875), (' Fig', 0.153076171875)], 62: [('后者', 0.03192138671875), ('orra', 0.0310211181640625), ('扑', 0.0301513671875), ('preced', 0.0299072265625), ('rae', 0.0296478271484375)]}, 19: {23: [('elsk', 0.06390380859375), (' оба', 0.0634765625), ('iles', 0.06243896484375), ('reb', 0.06097412109375), ('fut', 0.059173583984375)], 28: [('бор', 0.276611328125), ('бори', 0.2724609375), ('ItemSelected', 0.2451171875), ('rmica', 0.2449951171875), ('endem', 0.2298583984375)], 38: [('Pobl', 0.0850830078125), ('FrameworkBundle', 0.082763671875), ('upy', 0.08270263671875), ('wso', 0.0802001953125), ('enas', 0.0780029296875)], 49: [('语', 0.09771728515625), (' заглави', 0.0882568359375), (' fara', 0.08465576171875), ('bos', 0.08203125), ('pun', 0.08074951171875)], 59: [('hin', 0.074462890625), ('lando', 0.06988525390625), ('禧', 0.06689453125), ('救灾', 0.06463623046875), ('pam', 0.06427001953125)], 63: [('代表', 0.94580078125), ('estes', 0.90283203125), ('代表了', 0.8359375), ('ъл', 0.7939453125), ('inats', 0.76318359375)]}, 7: {25: [('or', 0.076904296875), ('it', 0.07666015625), ('ек', 0.0758056640625), ('1', 0.07476806640625), ('be', 0.07330322265625)], 31: [('raine', 0.01215362548828125), ('ą', 0.0114898681640625), ('keyboard', 0.0114288330078125), ('enga', 0.01140594482421875), ('esa', 0.01132965087890625)], 43: [('яло', 0.11663818359375), ('IOD', 0.11517333984375), ('andex', 0.112548828125), ('ako', 0.1124267578125), ('ifornia', 0.108642578125)], 46: [('0', 0.045989990234375), ('9', 0.045928955078125), ('7', 0.045867919921875), ('6', 0.043975830078125), ('8', 0.0430908203125)], 55: [('4', 0.242431640625), ('9', 0.239990234375), ('lsk', 0.238037109375), ('========================', 0.235595703125), (' chap', 0.220703125)], 60: [('assis', 0.11346435546875), (' setze', 0.1119384765625), ('AudioEvent', 0.107666015625), ('childnode', 0.10699462890625), ('障', 0.10418701171875)]}}\n",
      "Shared expert predictions: [[('ndard', 0.6669921875), ('ufact', 0.54736328125), ('тори', 0.52490234375), ('naires', 0.5205078125), ('ouble', 0.501953125)], [('ряд', 0.319091796875), ('гово', 0.31005859375), ('pector', 0.30419921875), ('如有关于', 0.295166015625), ('errar', 0.2890625)], [('�乐', 0.496337890625), ('坚持', 0.368408203125), ('YA', 0.35400390625), ('始终坚持', 0.345947265625), ('懿', 0.345703125)], [('懿', 0.34130859375), ('格里', 0.319091796875), ('坚持', 0.3173828125), (' NewPage', 0.307373046875), ('\\ufeff\\ufeff', 0.30712890625)], [('\\x97', 0.342041015625), ('pins', 0.337890625), ('veless', 0.329833984375), ('зар', 0.325927734375), ('GES', 0.321044921875)], [('veless', 0.4248046875), ('霞', 0.38037109375), (' Pins', 0.3779296875), (' Principat', 0.351806640625), ('�', 0.339111328125)], [('enys', 0.302978515625), ('bis', 0.2822265625), ('NW', 0.277587890625), ('ROL', 0.2646484375), ('可用', 0.263427734375)], [('雏', 0.328857421875), ('ygon', 0.326171875), ('pin', 0.316162109375), ('inia', 0.30078125), ('вари', 0.298828125)], [('icis', 0.26611328125), ('avian', 0.2447509765625), (' commerc', 0.2421875), ('pil', 0.23681640625), ('мин', 0.22998046875)], [('isos', 0.253662109375), ('alem', 0.2430419921875), ('窄', 0.2352294921875), (' consolidar', 0.233154296875), (' Po', 0.2257080078125)], [('Съ', 0.2440185546875), ('散发', 0.238525390625), ('散', 0.234619140625), ('onomic', 0.2291259765625), ('�', 0.221923828125)], [('uites', 0.38232421875), ('lemn', 0.359619140625), ('itecture', 0.359375), ('emporada', 0.349365234375), ('ercials', 0.34033203125)], [('空', 0.271484375), (' alike', 0.268310546875), ('codec', 0.267578125), ('zio', 0.266357421875), ('istor', 0.261962890625)], [('慢', 0.353759765625), (' son', 0.338623046875), ('orat', 0.33154296875), ('还好', 0.3125), (' rights', 0.312255859375)], [('ishness', 0.28759765625), ('ctions', 0.2822265625), ('镀', 0.27490234375), (' AB', 0.274658203125), (' n', 0.27001953125)], [('icis', 0.39697265625), ('IMM', 0.393798828125), ('occo', 0.381591796875), ('imiter', 0.379150390625), ('ласт', 0.34423828125)], [('东方', 0.34423828125), ('stro', 0.343505859375), ('uren', 0.339111328125), ('lel', 0.314208984375), ('utat', 0.3056640625)], [('ulen', 0.367919921875), ('不经', 0.324462890625), ('人员的', 0.321044921875), ('icl', 0.318359375), ('фан', 0.312255859375)], [(' подо', 0.43896484375), ('anche', 0.41015625), (' DR', 0.396484375), ('沙', 0.3935546875), (' ', 0.392578125)], [('�', 0.382568359375), ('landa', 0.36474609375), ('AGG', 0.309326171875), ('arques', 0.30419921875), (' Marker', 0.3037109375)], [('UG', 0.5009765625), ('CG', 0.404052734375), ('щица', 0.40380859375), ('olis', 0.400390625), ('Населе', 0.398681640625)], [('SION', 0.45361328125), ('Collapse', 0.44091796875), ('azole', 0.424072265625), ('idon', 0.39306640625), ('nance', 0.38623046875)]]\n",
      "\n",
      "MoE Layer 4:\n",
      "Selected experts: [[18, 62, 0, 43, 17, 1], [38, 44, 15, 13, 19, 35], [13, 1, 25, 28, 45, 9], [40, 28, 25, 62, 1, 9], [37, 61, 16, 27, 58, 25], [31, 22, 55, 25, 48, 26], [63, 42, 61, 47, 58, 28], [43, 17, 5, 26, 49, 59], [43, 56, 26, 59, 39, 19], [21, 6, 39, 38, 62, 59], [17, 21, 7, 6, 60, 37], [17, 41, 60, 21, 7, 6], [21, 60, 55, 25, 6, 22], [60, 25, 41, 48, 21, 55], [59, 43, 2, 15, 5, 49], [59, 1, 39, 44, 19, 38], [13, 1, 7, 11, 28, 41], [62, 1, 21, 3, 58, 20], [6, 1, 37, 58, 21, 39], [16, 27, 37, 21, 41, 0], [24, 41, 21, 37, 27, 60], [55, 22, 21, 48, 60, 25]]\n",
      "Expert weights: [[0.60888671875, 0.02996826171875, 0.0231170654296875, 0.0101470947265625, 0.00951385498046875, 0.0095062255859375], [0.221435546875, 0.134765625, 0.10418701171875, 0.10113525390625, 0.035003662109375, 0.033966064453125], [0.10577392578125, 0.0633544921875, 0.049163818359375, 0.1619873046875, 0.058013916015625, 0.04107666015625], [0.205810546875, 0.1622314453125, 0.1251220703125, 0.102294921875, 0.048797607421875, 0.031463623046875], [0.210693359375, 0.14599609375, 0.05682373046875, 0.053802490234375, 0.05316162109375, 0.045166015625], [0.46435546875, 0.09307861328125, 0.060791015625, 0.041046142578125, 0.0285186767578125, 0.0201416015625], [0.08221435546875, 0.271240234375, 0.06890869140625, 0.05010986328125, 0.041748046875, 0.036895751953125], [0.338134765625, 0.06378173828125, 0.08013916015625, 0.057830810546875, 0.052825927734375, 0.052642822265625], [0.071044921875, 0.065185546875, 0.1005859375, 0.174560546875, 0.063232421875, 0.060302734375], [0.11676025390625, 0.09796142578125, 0.05511474609375, 0.0550537109375, 0.038177490234375, 0.0364990234375], [0.177490234375, 0.134521484375, 0.08111572265625, 0.0701904296875, 0.06781005859375, 0.051300048828125], [0.12939453125, 0.12445068359375, 0.08209228515625, 0.0780029296875, 0.06549072265625, 0.05340576171875], [0.131591796875, 0.105712890625, 0.09442138671875, 0.0634765625, 0.0482177734375, 0.046051025390625], [0.09161376953125, 0.04388427734375, 0.337890625, 0.051300048828125, 0.06512451171875, 0.03814697265625], [0.1356201171875, 0.184326171875, 0.13037109375, 0.059814453125, 0.081298828125, 0.04254150390625], [0.2529296875, 0.041229248046875, 0.0914306640625, 0.033233642578125, 0.0313720703125, 0.0313720703125], [0.07122802734375, 0.0775146484375, 0.0655517578125, 0.057708740234375, 0.050628662109375, 0.05047607421875], [0.134521484375, 0.092041015625, 0.047576904296875, 0.0458984375, 0.045654296875, 0.042144775390625], [0.23095703125, 0.07635498046875, 0.06488037109375, 0.055511474609375, 0.1856689453125, 0.0428466796875], [0.0830078125, 0.055419921875, 0.083984375, 0.0771484375, 0.0533447265625, 0.0482177734375], [0.1368408203125, 0.09295654296875, 0.09295654296875, 0.08428955078125, 0.055816650390625, 0.050445556640625], [0.211669921875, 0.151611328125, 0.06903076171875, 0.057373046875, 0.05126953125, 0.039581298828125]]\n",
      "Combined output tokens: [[('писи', 6.8125), (' препратки', 6.68359375), ('batim', 6.640625), ('{}_', 6.4921875), ('�乐', 6.40625)], [('тари', 0.9970703125), ('anter', 0.982421875), ('onet', 0.900390625), ('ROID', 0.8583984375), ('=\"__', 0.82177734375)], [('igraph', 0.74853515625), ('wes', 0.7294921875), ('uedes', 0.65234375), ('ostes', 0.64306640625), ('oze', 0.6396484375)], [(' Rovira', 0.9150390625), ('listes', 0.8984375), ('soid', 0.89599609375), ('nides', 0.88427734375), ('OperationKind', 0.87353515625)], [('дя', 0.91357421875), ('��', 0.85693359375), (' Abram', 0.84375), ('зай', 0.8369140625), ('InstanceState', 0.81884765625)], [('cades', 1.2060546875), ('avera', 1.181640625), ('епи', 1.1767578125), ('种', 1.15625), ('LOCKS', 1.0908203125)], [(' Яко', 0.92431640625), ('…', 0.86328125), ('OC', 0.81689453125), ('ped', 0.8095703125), ('or', 0.802734375)], [('inho', 1.0498046875), ('дри', 0.994140625), ('neig', 0.96875), ('utica', 0.96337890625), ('estions', 0.92138671875)], [('CSR', 0.76025390625), ('尾', 0.7470703125), (' Тран', 0.71142578125), (' busc', 0.703125), ('нето', 0.69287109375)], [('YPT', 0.59814453125), ('联', 0.53466796875), ('osities', 0.51123046875), ('\\xa0\\xa0 ', 0.5107421875), ('ipage', 0.505859375)], [('пет', 0.81103515625), ('янов', 0.79736328125), ('unnel', 0.79248046875), ('лева', 0.783203125), (' consigo', 0.78173828125)], [('�', 0.77978515625), ('odings', 0.7333984375), ('tings', 0.72900390625), ('adders', 0.72265625), ('zena', 0.71728515625)], [('S', 0.7548828125), ('SP', 0.685546875), ('s', 0.6689453125), ('landa', 0.65673828125), ('ilst', 0.63134765625)], [(' гео', 1.6494140625), ('性质', 1.5712890625), ('isphere', 1.5380859375), (' integraven', 1.5361328125), ('菠', 1.5341796875)], [('ктри', 0.94580078125), (' Rever', 0.916015625), ('APA', 0.908203125), (' Paraguai', 0.87744140625), ('OWN', 0.8759765625)], [('巧', 0.82373046875), (' Det', 0.82275390625), ('Det', 0.79248046875), (' Com', 0.76611328125), ('CADE', 0.7470703125)], [('opil', 0.55029296875), ('chant', 0.55029296875), ('ходите', 0.54833984375), ('sime', 0.5478515625), ('ubre', 0.5146484375)], [('师的', 0.68408203125), ('igner', 0.60009765625), ('师', 0.59912109375), ('小说', 0.59521484375), (' NO', 0.578125)], [('rowse', 1.0595703125), ('aried', 0.95703125), ('shr', 0.88818359375), ('iali', 0.86865234375), ('kit', 0.8671875)], [('尘', 0.58203125), ('aqui', 0.58154296875), ('ulg', 0.57470703125), ('iceless', 0.56201171875), ('Sl', 0.525390625)], [(' suggere', 0.8515625), ('ajut', 0.81201171875), ('stit', 0.765625), ('Feder', 0.73974609375), ('权益', 0.7373046875)], [('issin', 0.91796875), ('onada', 0.75927734375), ('jans', 0.75439453125), ('plicants', 0.7490234375), ('mando', 0.72705078125)]]\n",
      "Expert predictions by position: {0: {0: [('慰', 0.04449462890625), (' denomination', 0.043853759765625), ('entina', 0.043853759765625), ('valueOf', 0.043731689453125), ('INSEE', 0.04364013671875)], 1: [('兰达', 0.2010498046875), ('tys', 0.19482421875), ('надле', 0.1890869140625), ('ironments', 0.17919921875), ('umont', 0.17724609375)], 17: [('��', 0.568359375), ('rove', 0.54052734375), ('ULE', 0.52294921875), ('alera', 0.517578125), ('oors', 0.51708984375)], 18: [('batim', 6.49609375), ('писи', 6.4609375), (' препратки', 6.41015625), ('{}_', 5.96484375), ('�乐', 5.6953125)], 43: [('ANGE', 0.11944580078125), (' преврат', 0.1153564453125), ('gre', 0.10552978515625), ('anges', 0.09991455078125), ('完整的', 0.0960693359375)], 62: [('icut', 0.3955078125), ('格', 0.384521484375), ('愈', 0.3525390625), ('瑞', 0.345703125), ('FTWARE', 0.322021484375)]}, 19: {0: [('gress', 0.150634765625), ('aller', 0.1466064453125), ('itional', 0.125244140625), ('erves', 0.12432861328125), ('шо', 0.121337890625)], 16: [('unbind', 0.1915283203125), ('tablen', 0.1748046875), ('APTER', 0.1739501953125), ('中等', 0.162841796875), ('|_', 0.16162109375)], 21: [('portlet', 0.1500244140625), (' Llac', 0.1318359375), (' uns', 0.1314697265625), (' Mi', 0.125732421875), ('eylon', 0.1253662109375)], 27: [(' експе', 0.1563720703125), ('hyde', 0.150146484375), (' Херцеговина', 0.14306640625), ('houn', 0.13916015625), (' Кън', 0.13623046875)], 37: [('�', 0.2091064453125), ('orp', 0.1961669921875), ('宋', 0.194091796875), ('blad', 0.1917724609375), ('TW', 0.191650390625)], 41: [('t', 0.1513671875), ('ista', 0.1357421875), ('r', 0.13330078125), ('sy', 0.12249755859375), ('ubre', 0.11834716796875)]}, 2: {1: [('ващи', 0.1978759765625), ('вици', 0.160888671875), ('ahan', 0.156005859375), ('两点', 0.15380859375), ('aye', 0.1500244140625)], 9: [('raft', 0.0528564453125), ('借钱', 0.050445556640625), ('Dup', 0.04931640625), ('htra', 0.048492431640625), ('iser', 0.047271728515625)], 13: [('irected', 0.10992431640625), ('idors', 0.1083984375), (' correspond', 0.10498046875), ('虚', 0.103271484375), ('íř', 0.1029052734375)], 25: [('s', 0.132568359375), ('<', 0.11944580078125), ('ето', 0.11309814453125), ('ieres', 0.10992431640625), ('afel', 0.10736083984375)], 28: [('auty', 0.10797119140625), ('rast', 0.105224609375), ('sembly', 0.09576416015625), ('eday', 0.09332275390625), ('毂', 0.090576171875)], 45: [('源', 0.12457275390625), ('rored', 0.1051025390625), ('9', 0.10260009765625), ('ativo', 0.09698486328125), ('分化', 0.095947265625)]}, 3: {1: [('立卡', 0.2076416015625), ('如有关于作品内容', 0.1937255859375), ('isters', 0.18603515625), ('管制', 0.18212890625), ('helle', 0.1763916015625)], 9: [('ueren', 0.053314208984375), ('ilden', 0.05059814453125), ('swick', 0.050201416015625), ('ите', 0.049957275390625), ('icios', 0.048248291015625)], 25: [('0', 0.121337890625), ('3', 0.11444091796875), ('4', 0.11431884765625), ('1', 0.11248779296875), ('2', 0.11065673828125)], 28: [('гани', 0.61474609375), ('mach', 0.54248046875), ('дено', 0.50244140625), (' Rovira', 0.495361328125), ('edn', 0.494873046875)], 40: [('OperationKind', 0.54736328125), ('CodeAttribute', 0.492919921875), ('cionari', 0.46826171875), ('ialect', 0.468017578125), ('\\u200b\\u200b\\u200b\\u200b', 0.467529296875)], 62: [('empre', 0.2227783203125), ('anter', 0.216796875), ('aparell', 0.2161865234375), ('бу', 0.197021484375), ('historiador', 0.1953125)]}, 15: {1: [('��', 0.0372314453125), (' препратки', 0.03155517578125), (' Hague', 0.0301971435546875), ('ELF', 0.029571533203125), ('baselineskip', 0.0290069580078125)], 19: [('inton', 0.041778564453125), ('dem', 0.03973388671875), ('闸', 0.03759765625), ('кия', 0.037353515625), (' indiv', 0.0369873046875)], 38: [('YPT', 0.119384765625), ('ezna', 0.11181640625), ('Allister', 0.11016845703125), ('oldre', 0.1058349609375), ('oleon', 0.10308837890625)], 39: [('ulina', 0.2215576171875), ('lessly', 0.219482421875), ('巧', 0.216796875), (' @(', 0.2081298828125), ('斑', 0.206787109375)], 44: [('eda', 0.262939453125), ('несе', 0.25537109375), ('ването', 0.233642578125), ('�', 0.23193359375), ('Habitants', 0.2266845703125)], 59: [('oise', 0.04254150390625), ('ложе', 0.04119873046875), ('负担', 0.04010009765625), ('oia', 0.037994384765625), ('结', 0.0367431640625)]}, 16: {1: [('astro', 0.0792236328125), ('urgy', 0.078125), ('mss', 0.0745849609375), (' техно', 0.07440185546875), ('recurs', 0.07354736328125)], 7: [('цата', 0.1534423828125), (' Тодоров', 0.147216796875), ('ipart', 0.144287109375), ('ohm', 0.13623046875), ('cxx', 0.13232421875)], 11: [('argin', 0.14306640625), ('其次是', 0.1153564453125), ('\\tspin', 0.11517333984375), (' recta', 0.11260986328125), ('其次', 0.11029052734375)], 13: [('候', 0.1566162109375), (' **', 0.130126953125), ('澳门', 0.1298828125), ('ocks', 0.12298583984375), ('dying', 0.12115478515625)], 28: [('wes', 0.52734375), ('reex', 0.478759765625), ('edn', 0.467529296875), ('aguen', 0.43359375), ('ptu', 0.42578125)], 41: [('物理', 0.2276611328125), ('死后', 0.2218017578125), (' било', 0.2183837890625), ('use', 0.2161865234375), ('мерикански', 0.211669921875)]}, 17: {1: [('巡', 0.06658935546875), ('bology', 0.0657958984375), ('alion', 0.062744140625), ('густ', 0.0618896484375), ('eer', 0.060577392578125)], 3: [('utats', 0.0843505859375), (' indiquen', 0.081787109375), ('тите', 0.0782470703125), ('unitat', 0.07794189453125), ('iates', 0.07672119140625)], 20: [('arning', 0.11187744140625), ('ighed', 0.1087646484375), ('ills', 0.108642578125), ('ofia', 0.1046142578125), ('гава', 0.10430908203125)], 21: [('loe', 0.41943359375), ('grade', 0.396728515625), ('曲', 0.39453125), ('post', 0.38916015625), ('师', 0.38330078125)], 58: [('扮', 0.06646728515625), ('Икономи', 0.06585693359375), ('igration', 0.061187744140625), ('mails', 0.061004638671875), ('нова', 0.06097412109375)], 62: [('翼翼', 0.10076904296875), ('valueOf', 0.0997314453125), ('慰', 0.0994873046875), ('右手', 0.0963134765625), ('芒', 0.09564208984375)]}, 18: {1: [('��', 0.13720703125), ('apl', 0.1351318359375), ('放大', 0.1280517578125), ('突', 0.12384033203125), ('мето', 0.12200927734375)], 6: [('widet', 0.1668701171875), ('gings', 0.165771484375), ('ims', 0.1636962890625), ('irt', 0.161376953125), ('ajes', 0.1588134765625)], 21: [('bit', 0.2275390625), (' MIS', 0.221435546875), ('nst', 0.213134765625), ('s', 0.2130126953125), ('imits', 0.21240234375)], 37: [('9', 0.1375732421875), ('fm', 0.1356201171875), ('7', 0.132080078125), ('8', 0.131103515625), ('4', 0.130615234375)], 39: [('indexed', 0.24365234375), ('战中', 0.2320556640625), (' esqu', 0.2274169921875), ('ято', 0.2227783203125), ('нет', 0.2156982421875)], 58: [('itives', 0.09539794921875), ('yya', 0.0927734375), ('原文地址', 0.09149169921875), ('ward', 0.09051513671875), ('__);', 0.0894775390625)]}, 14: {2: [(' Segre', 0.36962890625), ('cephalus', 0.34619140625), ('eref', 0.3427734375), ('lh', 0.329833984375), ('@{\\\\', 0.329833984375)], 5: [('NOSCRIPT', 0.2406005859375), ('ECT', 0.22265625), ('ssic', 0.220947265625), ('}{~', 0.2042236328125), (' дело', 0.19677734375)], 15: [('ountered', 0.18994140625), ('�', 0.1876220703125), ('陌生', 0.187255859375), ('exion', 0.1629638671875), ('удо', 0.1622314453125)], 43: [('inho', 0.89111328125), ('色的', 0.7451171875), (' consideration', 0.74365234375), ('asts', 0.724609375), (' over', 0.72021484375)], 49: [('λο', 0.1331787109375), ('слу', 0.12481689453125), ('@\"', 0.11553955078125), ('widet', 0.11395263671875), ('LAIN', 0.1116943359375)], 59: [('CSR', 0.418212890625), ('дал', 0.373779296875), ('ateg', 0.348876953125), (' Demand', 0.34375), ('AAA', 0.3408203125)]}, 7: {5: [('atch', 0.2313232421875), ('落叶', 0.22705078125), ('�', 0.2164306640625), ('atches', 0.2164306640625), ('overe', 0.205322265625)], 17: [('мена', 0.313232421875), (' кален', 0.305419921875), ('дене', 0.29248046875), ('numerus', 0.2880859375), ('ландия', 0.285888671875)], 26: [('еку', 0.217529296875), ('��', 0.2119140625), (' Pizarro', 0.2027587890625), ('ibilitat', 0.198486328125), ('uren', 0.191162109375)], 43: [('okes', 0.406005859375), ('interval', 0.4013671875), ('ield', 0.396728515625), ('ктри', 0.3935546875), ('9', 0.384033203125)], 49: [('osti', 0.220947265625), ('OperationKind', 0.21142578125), ('大小', 0.1905517578125), ('ptical', 0.1859130859375), ('amarca', 0.1810302734375)], 59: [('гледа', 0.272705078125), ('orell', 0.267578125), ('�乐', 0.260498046875), ('ICES', 0.2529296875), ('撞', 0.252685546875)]}, 9: {6: [('гот', 0.1470947265625), ('hered', 0.1363525390625), ('aned', 0.1224365234375), ('here', 0.12060546875), ('PYTHON', 0.115966796875)], 21: [('due', 0.103515625), ('ast', 0.0960693359375), ('笔者', 0.093994140625), ('应', 0.09271240234375), ('ma', 0.09210205078125)], 38: [('ROID', 0.70751953125), ('тари', 0.66064453125), ('ributes', 0.64599609375), ('=\"__', 0.623046875), ('��', 0.619140625)], 39: [('лож', 0.131591796875), ('лизация', 0.129638671875), ('0', 0.11572265625), ('9', 0.114990234375), ('别', 0.114501953125)], 59: [('ifes', 0.12890625), ('=\"@{', 0.12286376953125), ('entials', 0.12127685546875), ('ulers', 0.11590576171875), ('uler', 0.11541748046875)], 62: [('ран', 0.061309814453125), ('eous', 0.060791015625), ('fics', 0.06048583984375), ('odal', 0.059173583984375), ('�', 0.054901123046875)]}, 10: {6: [('4', 0.1173095703125), ('5', 0.1168212890625), ('8', 0.11553955078125), ('3', 0.11492919921875), ('0', 0.107177734375)], 7: [(' вери', 0.205810546875), ('icat', 0.2015380859375), ('ipage', 0.1922607421875), ('IEW', 0.189697265625), ('кази', 0.18701171875)], 17: [('zig', 0.0175628662109375), ('oux', 0.016571044921875), (' препратки', 0.016510009765625), (' magistrat', 0.0156402587890625), ('ndar', 0.0152435302734375)], 21: [(' ул', 0.1580810546875), ('pides', 0.156982421875), (' shortest', 0.1533203125), ('itali', 0.1529541015625), (' Verde', 0.152099609375)], 37: [('ream', 0.2744140625), ('mes', 0.2420654296875), ('ace', 0.23046875), ('ape', 0.228759765625), ('idge', 0.218994140625)], 60: [(' пуска', 0.1649169921875), ('ality', 0.151123046875), ('rodu', 0.144775390625), ('ocou', 0.142822265625), ('стина', 0.1416015625)]}, 11: {6: [('alink', 0.487060546875), ('ук', 0.4619140625), ('ayed', 0.4599609375), (' изоста', 0.45947265625), ('swire', 0.443603515625)], 7: [('тнография', 0.142822265625), ('avor', 0.138671875), (' v', 0.117919921875), ('pieces', 0.11328125), (' Wire', 0.11224365234375)], 17: [('ournal', 0.2430419921875), ('teix', 0.22705078125), ('fmf', 0.226806640625), ('Synthetic', 0.224853515625), ('pzc', 0.2200927734375)], 21: [('itiva', 0.1690673828125), ('правител', 0.156005859375), (' ООН', 0.1484375), ('ει', 0.148193359375), (' Strat', 0.1468505859375)], 41: [(' integraven', 1.6826171875), ('胃口', 1.5673828125), ('хт', 1.5419921875), ('菠', 1.5419921875), ('isphere', 1.529296875)], 60: [('��', 0.1158447265625), ('ery', 0.0972900390625), ('木齐', 0.0958251953125), (' семей', 0.09393310546875), ('mith', 0.09228515625)]}, 12: {6: [('namespaces', 0.106201171875), ('mann', 0.10552978515625), ('Modifiers', 0.102783203125), ('onz', 0.10186767578125), ('leans', 0.0985107421875)], 21: [('onges', 0.2998046875), (' tenn', 0.293701171875), ('Parted', 0.284423828125), ('miral', 0.27978515625), (' surt', 0.2783203125)], 22: [('行政', 0.3955078125), ('以上文章内容', 0.35546875), ('OND', 0.35107421875), ('注意的是', 0.349853515625), ('博', 0.342529296875)], 25: [('cales', 0.111572265625), ('ropolit', 0.1070556640625), ('WEEN', 0.10626220703125), ('ometria', 0.10015869140625), ('abilitat', 0.098388671875)], 55: [('ced', 0.445068359375), ('ouns', 0.383544921875), ('ians', 0.3544921875), ('答案', 0.3525390625), ('ayo', 0.3515625)], 60: [('etapes', 0.37060546875), ('ropolit', 0.31640625), (' галерия', 0.29931640625), ('iller', 0.292724609375), ('enade', 0.288330078125)]}, 1: {13: [('olis', 0.170654296875), ('ansen', 0.1527099609375), ('�', 0.1519775390625), (' Горно', 0.1517333984375), ('ensi', 0.1474609375)], 15: [('onto', 0.0814208984375), ('LIBRARY', 0.0809326171875), ('сте', 0.07818603515625), ('тен', 0.0760498046875), (' irregulars', 0.07598876953125)], 19: [('CESS', 0.08978271484375), ('lel', 0.08660888671875), ('Load', 0.0865478515625), ('KI', 0.08636474609375), ('不顾', 0.085693359375)], 35: [('Depth', 0.055419921875), ('ados', 0.05194091796875), ('努', 0.051727294921875), ('oice', 0.05133056640625), (' depth', 0.051025390625)], 38: [('apac', 0.0758056640625), (' int', 0.07476806640625), ('ernate', 0.06689453125), ('oleon', 0.06683349609375), ('�乐', 0.0667724609375)], 44: [('hpl', 0.053253173828125), ('侈', 0.05010986328125), (' arrodon', 0.049346923828125), ('ELS', 0.04827880859375), ('NaN', 0.047607421875)]}, 4: {16: [('IDAD', 0.153076171875), ('ProjectPath', 0.14990234375), ('xev', 0.1490478515625), ('pmy', 0.1475830078125), ('bisbe', 0.145263671875)], 25: [('inel', 0.11627197265625), ('itous', 0.10308837890625), ('long', 0.10052490234375), ('ieres', 0.09820556640625), ('菠', 0.09698486328125)], 27: [('omorphism', 0.09375), ('7', 0.08880615234375), ('ractical', 0.087890625), ('对手', 0.087646484375), ('ч', 0.087646484375)], 37: [('ocardi', 0.6943359375), ('~&', 0.68896484375), ('��', 0.68212890625), ('atrix', 0.6767578125), ('ituci', 0.65380859375)], 58: [('opi', 0.089599609375), ('�', 0.07293701171875), ('зар', 0.072509765625), ('thor', 0.0679931640625), ('oard', 0.06781005859375)], 61: [('Host', 0.270263671875), ('FLAG', 0.268798828125), ('名字', 0.261962890625), ('DES', 0.26171875), ('rue', 0.2587890625)]}, 8: {19: [('ournal', 0.047210693359375), ('FieldLocation', 0.045501708984375), ('NOSCRIPT', 0.04541015625), ('cit', 0.044830322265625), ('лан', 0.04449462890625)], 26: [('isa', 0.1544189453125), ('阔', 0.151611328125), ('uration', 0.1490478515625), ('uta', 0.147705078125), ('reconfigure', 0.14697265625)], 39: [('悬', 0.13232421875), ('旋', 0.11505126953125), ('shr', 0.11328125), ('sub', 0.11138916015625), ('比重', 0.10791015625)], 43: [('itures', 0.006290435791015625), ('��', 0.00628662109375), ('endas', 0.00601959228515625), ('plural', 0.0059967041015625), ('avers', 0.005992889404296875)], 56: [('1', 0.185546875), ('0', 0.1800537109375), ('2', 0.17236328125), ('8', 0.1678466796875), ('6', 0.159912109375)], 59: [('处', 0.56201171875), ('开工', 0.521484375), ('odings', 0.5), ('тоци', 0.5), (' Pon', 0.480712890625)]}, 13: {21: [('LOAT', 0.2197265625), ('andidate', 0.21044921875), ('种', 0.2099609375), ('椎', 0.20556640625), ('rament', 0.19775390625)], 25: [('ivil', 0.094482421875), ('始', 0.0897216796875), ('led', 0.08685302734375), (' c', 0.08636474609375), ('arounds', 0.086181640625)], 41: [('age', 0.11529541015625), ('ish', 0.1136474609375), ('ils', 0.11151123046875), ('ition', 0.1109619140625), ('E', 0.11090087890625)], 48: [('imp', 0.046295166015625), ('物', 0.04541015625), ('点', 0.044647216796875), ('nek', 0.04290771484375), ('ike', 0.041778564453125)], 55: [('мето', 0.08721923828125), ('тру', 0.08148193359375), ('LICENSE', 0.080322265625), ('iffe', 0.0789794921875), ('istram', 0.07891845703125)], 60: [('каните', 0.2095947265625), ('щица', 0.202392578125), ('elihood', 0.19384765625), (' Римска', 0.1842041015625), ('interopRequireDefault', 0.182373046875)]}, 20: {21: [('attery', 0.1961669921875), ('ylan', 0.1864013671875), ('зву', 0.186279296875), ('acio', 0.183837890625), ('писи', 0.1796875)], 24: [(' utilizo', 0.36083984375), ('mig', 0.332275390625), ('ogn', 0.316650390625), ('bils', 0.3115234375), ('级', 0.307373046875)], 27: [('标', 0.11376953125), ('attery', 0.1129150390625), ('adro', 0.10797119140625), ('opus', 0.10723876953125), ('组合', 0.10552978515625)], 37: [('ream', 0.2283935546875), ('VI', 0.192626953125), ('II', 0.1859130859375), ('mas', 0.1815185546875), ('XI', 0.178466796875)], 41: [('ofi', 0.283935546875), ('става', 0.27880859375), ('ibert', 0.27099609375), ('ofs', 0.269287109375), ('痕', 0.26416015625)], 60: [('��', 0.136474609375), ('半个', 0.125), ('erral', 0.11920166015625), ('闺', 0.11700439453125), ('auge', 0.11669921875)]}, 21: {21: [('返校', 0.3154296875), ('imes', 0.310791015625), ('opa', 0.304443359375), ('нора', 0.302001953125), ('ionat', 0.301513671875)], 22: [('linen', 0.141845703125), ('lin', 0.121826171875), ('zz', 0.11920166015625), ('бин', 0.110107421875), ('uses', 0.109375)], 25: [('orent', 0.12152099609375), ('uesa', 0.11297607421875), ('luence', 0.1085205078125), ('olev', 0.10638427734375), ('ROUP', 0.10614013671875)], 48: [('тици', 0.12158203125), (' Tremp', 0.11474609375), ('бва', 0.1083984375), ('iple', 0.108154296875), ('ITCH', 0.1053466796875)], 55: [('мето', 0.23291015625), ('setString', 0.20654296875), ('setItem', 0.2061767578125), (' molta', 0.20556640625), ('7', 0.2047119140625)], 60: [('elihood', 0.231689453125), ('etapes', 0.2103271484375), ('eterm', 0.1995849609375), ('anyol', 0.19189453125), (' ranks', 0.1866455078125)]}, 5: {22: [('��', 0.357421875), ('�', 0.35107421875), ('意的', 0.35107421875), ('бу', 0.33837890625), ('尊', 0.33154296875)], 25: [('micament', 0.25244140625), ('orter', 0.243896484375), ('opci', 0.2254638671875), (' geomet', 0.221923828125), (' Pressure', 0.21728515625)], 26: [('ilea', 0.052459716796875), ('lins', 0.049835205078125), ('界', 0.049102783203125), ('=-=-', 0.047821044921875), ('ether', 0.0472412109375)], 31: [('种', 1.091796875), ('ulg', 1.0576171875), ('гнати', 1.0263671875), ('cades', 1.0048828125), ('浦', 0.96240234375)], 48: [(' comparison', 0.11944580078125), (' ', 0.1170654296875), ('-', 0.11187744140625), ('�', 0.1114501953125), ('oke', 0.10235595703125)], 55: [('维奇', 0.11083984375), ('лона', 0.10614013671875), (' sou', 0.1048583984375), ('amp', 0.10125732421875), ('ays', 0.10089111328125)]}, 6: {28: [('anell', 0.08880615234375), (' Im', 0.0787353515625), ('Series', 0.0767822265625), ('series', 0.07513427734375), ('inis', 0.0738525390625)], 42: [('icom', 0.64013671875), ('writable', 0.6044921875), (' Яко', 0.59912109375), ('res', 0.59375), (' Scher', 0.58935546875)], 47: [('igram', 0.08990478515625), ('igrams', 0.0853271484375), ('orial', 0.07666015625), (' imp', 0.07574462890625), ('━━━━', 0.074951171875)], 58: [('酪', 0.11309814453125), ('EXPORT', 0.1031494140625), ('AGO', 0.10308837890625), ('iards', 0.10125732421875), ('arreg', 0.09613037109375)], 61: [('edas', 0.1751708984375), ('dru', 0.14990234375), ('lector', 0.1478271484375), ('нисти', 0.1444091796875), ('EC', 0.1436767578125)], 63: [('slashed', 0.19580078125), ('Tal', 0.188232421875), ('rai', 0.1856689453125), (' Tal', 0.1805419921875), ('inical', 0.17626953125)]}}\n",
      "Shared expert predictions: [[('9', 1.2822265625), ('6', 1.1806640625), ('8', 1.1552734375), ('1', 1.083984375), ('3', 1.056640625)], [(' Comen', 0.35205078125), ('电子', 0.343994140625), ('enl', 0.332275390625), ('electronic', 0.33056640625), ('usos', 0.31884765625)], [('braco', 0.436767578125), ('\\t__', 0.39892578125), ('oners', 0.386962890625), ('onar', 0.386474609375), ('ontab', 0.384521484375)], [('onar', 0.465576171875), ('igraph', 0.380859375), ('wny', 0.38037109375), ('翻', 0.37451171875), ('semb', 0.374267578125)], [('�乐', 0.396240234375), ('ocs', 0.380126953125), ('ORY', 0.3740234375), ('estes', 0.358154296875), ('endre', 0.355712890625)], [('nexi', 0.449951171875), ('oscana', 0.418212890625), ('ктика', 0.406982421875), (' newcom', 0.38818359375), ('subNav', 0.384033203125)], [('ynt', 0.438720703125), ('天然', 0.42626953125), ('add', 0.3935546875), ('int', 0.376220703125), ('ocs', 0.372802734375)], [('GIN', 0.375), ('uters', 0.350830078125), ('rotxa', 0.343505859375), ('iliars', 0.341796875), ('pools', 0.341552734375)], [('rai', 0.4052734375), ('pil', 0.363037109375), ('Пла', 0.359619140625), ('ropolit', 0.3486328125), ('pin', 0.347412109375)], [('LOCKS', 0.3681640625), ('acteres', 0.3642578125), (',~\\\\', 0.3583984375), ('Sched', 0.348876953125), ('ulats', 0.33251953125)], [(' hice', 0.3798828125), ('warz', 0.37939453125), ('мски', 0.3681640625), ('tric', 0.36572265625), ('ibli', 0.36279296875)], [('adera', 0.5078125), ('alada', 0.5009765625), ('гран', 0.490966796875), (' meva', 0.48974609375), ('alez', 0.476806640625)], [(' rel', 0.44140625), ('直', 0.431640625), ('任意', 0.41845703125), ('CZ', 0.4091796875), (' C', 0.408935546875)], [(' range', 0.50927734375), ('issi', 0.462890625), ('Range', 0.462158203125), (' Range', 0.457275390625), ('CID', 0.453857421875)], [('mpt', 0.5517578125), ('pil', 0.53955078125), (' parroqu', 0.51953125), (' Contracts', 0.51025390625), ('ocumented', 0.50927734375)], [('2', 0.52197265625), (' Com', 0.521484375), (' Barr', 0.51318359375), (' __', 0.50634765625), ('3', 0.474853515625)], [('opil', 0.4482421875), ('STRU', 0.419921875), ('印', 0.419921875), ('uir', 0.416015625), ('sime', 0.40625)], [('rowse', 0.442138671875), ('NDER', 0.4296875), ('积累', 0.405029296875), ('AME', 0.395751953125), ('азар', 0.3955078125)], [('rowse', 0.626953125), (' Pier', 0.52880859375), ('搬', 0.525390625), (' counterpart', 0.51611328125), ('schemes', 0.51513671875)], [('distan', 0.450439453125), ('otip', 0.437744140625), ('landa', 0.42236328125), ('rmica', 0.420166015625), ('aqui', 0.404052734375)], [('otip', 0.564453125), ('Artistes', 0.50634765625), ('cils', 0.50048828125), ('\"]=>', 0.498779296875), ('eneral', 0.47314453125)], [('googleads', 0.564453125), ('childnode', 0.55419921875), ('nexi', 0.55224609375), ('llar', 0.541015625), ('ctree', 0.5390625)]]\n",
      "\n",
      "MoE Layer 5:\n",
      "Selected experts: [[7, 13, 24, 12, 36, 16], [42, 33, 25, 31, 4, 53], [38, 42, 15, 28, 4, 9], [63, 28, 38, 47, 34, 15], [46, 44, 30, 5, 28, 8], [7, 28, 14, 1, 15, 56], [5, 61, 31, 10, 33, 50], [49, 37, 29, 6, 47, 53], [37, 53, 49, 42, 33, 47], [42, 38, 34, 49, 51, 8], [30, 23, 18, 34, 38, 48], [10, 30, 27, 2, 18, 23], [9, 30, 2, 27, 7, 39], [55, 27, 2, 25, 56, 30], [53, 49, 37, 29, 62, 40], [33, 42, 49, 59, 53, 40], [38, 34, 33, 15, 54, 41], [41, 31, 38, 8, 34, 63], [38, 51, 59, 48, 10, 31], [25, 43, 8, 63, 38, 51], [8, 15, 30, 58, 27, 25], [7, 1, 48, 9, 27, 15]]\n",
      "Expert weights: [[0.1844482421875, 0.028472900390625, 0.026031494140625, 0.024749755859375, 0.023956298828125, 0.0233154296875], [0.28271484375, 0.084228515625, 0.08294677734375, 0.07122802734375, 0.049163818359375, 0.03424072265625], [0.1590576171875, 0.071533203125, 0.05859375, 0.10089111328125, 0.1065673828125, 0.040985107421875], [0.1602783203125, 0.09295654296875, 0.12005615234375, 0.1578369140625, 0.041900634765625, 0.036712646484375], [0.243408203125, 0.07330322265625, 0.052490234375, 0.04364013671875, 0.035736083984375, 0.030914306640625], [0.1514892578125, 0.21240234375, 0.095947265625, 0.0650634765625, 0.043792724609375, 0.028167724609375], [0.123046875, 0.1826171875, 0.08489990234375, 0.081787109375, 0.065185546875, 0.0273284912109375], [0.218994140625, 0.1092529296875, 0.09588623046875, 0.060089111328125, 0.058258056640625, 0.055267333984375], [0.08697509765625, 0.1201171875, 0.1483154296875, 0.10687255859375, 0.05450439453125, 0.04705810546875], [0.1669921875, 0.140625, 0.06292724609375, 0.042877197265625, 0.031524658203125, 0.03009033203125], [0.1939697265625, 0.09375, 0.06524658203125, 0.0518798828125, 0.046295166015625, 0.0445556640625], [0.174072265625, 0.1650390625, 0.10272216796875, 0.050933837890625, 0.050689697265625, 0.050445556640625], [0.05511474609375, 0.0555419921875, 0.089599609375, 0.0699462890625, 0.2305908203125, 0.048583984375], [0.11334228515625, 0.08245849609375, 0.081298828125, 0.06561279296875, 0.0421142578125, 0.0377197265625], [0.0657958984375, 0.06573486328125, 0.2252197265625, 0.04046630859375, 0.04010009765625, 0.0338134765625], [0.163330078125, 0.057952880859375, 0.049468994140625, 0.042205810546875, 0.03961181640625, 0.033416748046875], [0.160888671875, 0.105712890625, 0.07904052734375, 0.0645751953125, 0.04058837890625, 0.03350830078125], [0.1285400390625, 0.07147216796875, 0.129638671875, 0.059112548828125, 0.0477294921875, 0.0443115234375], [0.265869140625, 0.07733154296875, 0.0439453125, 0.037567138671875, 0.036712646484375, 0.03399658203125], [0.07098388671875, 0.06805419921875, 0.088623046875, 0.0679931640625, 0.050933837890625, 0.04736328125], [0.08184814453125, 0.06549072265625, 0.06414794921875, 0.06201171875, 0.06201171875, 0.0545654296875], [0.20947265625, 0.1368408203125, 0.05609130859375, 0.07720947265625, 0.06561279296875, 0.04376220703125]]\n",
      "Combined output tokens: [[('肋', 2.201171875), (' препратки', 2.1796875), ('{}_', 2.109375), ('urals', 1.84765625), (' Hague', 1.8154296875)], [('noc', 1.4619140625), ('alt', 1.2919921875), ('通', 1.275390625), (' pan', 1.224609375), ('anell', 1.208984375)], [(' page', 0.7998046875), ('形', 0.76904296875), ('UA', 0.76025390625), ('唤', 0.75537109375), ('nore', 0.7421875)], [('oraci', 0.92041015625), ('苗', 0.88134765625), ('elem', 0.88037109375), ('SCAN', 0.87109375), ('CALLBACK', 0.8671875)], [('жени', 0.892578125), ('日内与', 0.880859375), ('aldo', 0.82373046875), ('ест', 0.77197265625), ('丸', 0.76806640625)], [('satz', 0.9326171875), ('undy', 0.9130859375), (' pug', 0.828125), ('IAM', 0.80224609375), ('enz', 0.79638671875)], [('ляри', 0.87744140625), ('ulador', 0.86328125), ('лизация', 0.8271484375), ('rico', 0.8173828125), ('ovna', 0.81103515625)], [('��', 1.115234375), ('раел', 1.0107421875), ('бор', 0.8603515625), ('tring', 0.85107421875), ('pam', 0.837890625)], [('PING', 1.1083984375), ('esor', 1.0869140625), ('pin', 0.96923828125), ('Vs', 0.95458984375), ('OID', 0.92626953125)], [('LOC', 0.810546875), ('деж', 0.72119140625), ('itiu', 0.6552734375), (' vol', 0.64013671875), ('loc', 0.630859375)], [('деж', 0.86181640625), ('vols', 0.853515625), ('�起', 0.83447265625), ('imath', 0.7841796875), ('cade', 0.763671875)], [('0', 1.4501953125), (' f', 1.435546875), ('1', 1.419921875), ('4', 1.4111328125), (' c', 1.3818359375)], [('彼得', 1.009765625), ('ROID', 0.9697265625), ('莫', 0.91015625), ('港', 0.90478515625), ('YL', 0.9033203125)], [('�', 1.0458984375), ('ionat', 1.0068359375), ('ANE', 0.994140625), ('YL', 0.93505859375), ('яви', 0.9345703125)], [('喘', 1.134765625), ('镜', 1.0390625), ('sum', 1.0205078125), (' цяло', 0.97998046875), ('发明', 0.9775390625)], [('ALSE', 1.57421875), ('pd', 1.43359375), ('тей', 1.412109375), ('oak', 1.404296875), ('光荣', 1.3583984375)], [('сор', 0.7236328125), ('rores', 0.71728515625), ('�', 0.69775390625), ('legr', 0.69384765625), ('itori', 0.69287109375)], [('在建', 0.85986328125), ('rede', 0.7802734375), (' f', 0.77490234375), (' Noir', 0.75341796875), (' ast', 0.73974609375)], [(' De', 1.08203125), (' sed', 1.0791015625), (' mod', 1.041015625), (' Pr', 1.0263671875), (' flavor', 0.98828125)], [('日内与', 0.6826171875), ('属', 0.630859375), ('慎', 0.61474609375), ('/-', 0.59912109375), ('нира', 0.595703125)], [('unde', 0.80712890625), ('枢', 0.73779296875), ('estr', 0.71630859375), ('欠', 0.71630859375), (' +', 0.71435546875)], [('rau', 1.1923828125), ('4', 1.0302734375), ('木齐', 0.96923828125), ('3', 0.943359375), ('2', 0.939453125)]]\n",
      "Expert predictions by position: {5: {1: [('stig', 0.417724609375), (' g', 0.358642578125), ('rau', 0.341552734375), ('的消费', 0.30859375), ('集', 0.30224609375)], 7: [(' препратки', 1.97265625), ('肋', 1.9140625), ('{}_', 1.904296875), ('Chars', 1.6103515625), ('urals', 1.6064453125)], 14: [('话', 0.175537109375), ('тий', 0.15869140625), ('Toler', 0.1552734375), ('eway', 0.1492919921875), ('acher', 0.146240234375)], 15: [('ovir', 0.23876953125), ('ailing', 0.193115234375), ('chung', 0.1929931640625), ('occus', 0.1925048828125), ('htb', 0.191650390625)], 28: [('秩', 0.401123046875), ('id', 0.363037109375), ('ps', 0.3408203125), ('趟', 0.33447265625), ('相', 0.328125)], 56: [(' дисцип', 0.18896484375), (' pointwise', 0.182861328125), ('aeus', 0.1807861328125), ('gear', 0.1800537109375), ('Mixin', 0.1783447265625)]}, 21: {1: [('idesa', 0.203369140625), ('леда', 0.1947021484375), ('elist', 0.1856689453125), ('ос', 0.17724609375), ('�', 0.172607421875)], 7: [('2', 0.658203125), ('4', 0.65185546875), ('defs', 0.6044921875), (' vol', 0.5859375), ('erir', 0.56787109375)], 9: [(' повърх', 0.132568359375), ('ROID', 0.130615234375), ('obox', 0.1295166015625), ('duino', 0.12353515625), (' избух', 0.12091064453125)], 15: [('绿', 0.08038330078125), (' ЦК', 0.0792236328125), ('imal', 0.0784912109375), ('TRIM', 0.07794189453125), ('роден', 0.07781982421875)], 27: [('Преди', 0.1571044921875), ('ume', 0.1363525390625), ('visi', 0.1353759765625), ('emale', 0.134521484375), ('瞒', 0.1336669921875)], 48: [('locs', 0.0968017578125), ('扫描', 0.08660888671875), ('堰', 0.0849609375), ('破', 0.08349609375), ('扫', 0.0789794921875)]}, 11: {2: [(' ски', 0.236572265625), ('几何', 0.22314453125), (' Colle', 0.211669921875), ('iae', 0.2091064453125), ('кович', 0.20654296875)], 10: [('тре', 0.0911865234375), ('retty', 0.08502197265625), ('унд', 0.0791015625), ('iena', 0.0789794921875), ('inci', 0.07879638671875)], 18: [('rost', 0.12451171875), ('satz', 0.1204833984375), (' Голе', 0.1170654296875), ('ndies', 0.11700439453125), ('прав', 0.1168212890625)], 23: [('mez', 0.11920166015625), (' &$', 0.1182861328125), ('rrec', 0.11785888671875), (' \\\\>', 0.1148681640625), ('orters', 0.11468505859375)], 27: [('空间', 0.273193359375), ('oners', 0.2705078125), ('码', 0.260986328125), ('scul', 0.2607421875), (' cas', 0.2568359375)], 30: [('NonUser', 0.152587890625), ('ExternalTask', 0.1505126953125), ('CALLTYPE', 0.1395263671875), ('Ungrouped', 0.13818359375), ('icolon', 0.1351318359375)]}, 12: {2: [('4', 0.1905517578125), ('0', 0.18212890625), ('9', 0.179931640625), ('5', 0.1676025390625), ('2', 0.1673583984375)], 7: [('结', 0.341796875), ('front', 0.32275390625), (' вид', 0.316162109375), ('нос', 0.312255859375), ('teau', 0.30615234375)], 9: [('spath', 0.08331298828125), ('iale', 0.08111572265625), ('上看', 0.0771484375), ('Ga', 0.07586669921875), (' pel', 0.07501220703125)], 27: [('4', 0.390869140625), ('1', 0.36669921875), ('7', 0.35302734375), ('2', 0.3525390625), ('3', 0.35205078125)], 30: [('解', 0.14111328125), ('$\\\\,', 0.13720703125), ('escription', 0.13720703125), (' real', 0.1339111328125), ('винция', 0.133544921875)], 39: [('ubby', 0.1180419921875), ('удо', 0.10833740234375), ('shal', 0.10467529296875), ('hn', 0.104248046875), ('惜', 0.10418701171875)]}, 13: {2: [('oints', 0.296630859375), ('pto', 0.295166015625), ('麻', 0.272705078125), ('евру', 0.267822265625), ('pta', 0.255859375)], 25: [('eres', 0.189208984375), ('idos', 0.1484375), ('desk', 0.148193359375), ('ERIC', 0.1417236328125), ('odia', 0.1414794921875)], 27: [('сал', 0.217529296875), ('免费的', 0.214111328125), ('enses', 0.2091064453125), ('еку', 0.208740234375), ('�', 0.2032470703125)], 30: [('近平', 0.162841796875), ('emberg', 0.14013671875), (' Class', 0.135498046875), (' e', 0.1343994140625), ('aplicaci', 0.133056640625)], 55: [('жества', 0.376220703125), ('_*', 0.346435546875), ('these', 0.34375), ('懿', 0.341064453125), ('itza', 0.340087890625)], 56: [('iades', 0.06158447265625), ('screensaver', 0.05096435546875), ('equence', 0.05047607421875), (' Prueba', 0.047393798828125), ('imon', 0.044891357421875)]}, 1: {4: [('国有', 0.111328125), ('SEE', 0.1103515625), ('种', 0.108154296875), ('阴', 0.10723876953125), ('art', 0.10589599609375)], 25: [('ause', 0.2486572265625), ('obody', 0.242431640625), ('тана', 0.2418212890625), ('如其', 0.2415771484375), ('onel', 0.238037109375)], 31: [('OffRequest', 0.282958984375), ('опа', 0.272705078125), ('хер', 0.24560546875), ('ates', 0.2420654296875), ('atus', 0.241943359375)], 33: [('бани', 0.2158203125), ('дец', 0.2139892578125), ('iliars', 0.20947265625), ('erest', 0.205810546875), (' date', 0.1993408203125)], 42: [('anell', 1.173828125), ('Aff', 1.1494140625), ('CLEAR', 1.0869140625), ('alt', 1.0517578125), ('noc', 1.0498046875)], 53: [('Permalink', 0.13330078125), ('esclat', 0.10772705078125), ('iax', 0.107421875), ('ятно', 0.1072998046875), ('icula', 0.1033935546875)]}, 2: {4: [('免', 0.292236328125), (' import', 0.2705078125), (' Non', 0.249755859375), (' toil', 0.2386474609375), ('uren', 0.2327880859375)], 9: [('llar', 0.1834716796875), (' Ljava', 0.1822509765625), ('duc', 0.174072265625), ('ropolit', 0.1693115234375), ('iali', 0.1649169921875)], 15: [(' av', 0.111572265625), ('iero', 0.1046142578125), ('一行', 0.1019287109375), ('妊娠', 0.10009765625), ('ov', 0.09979248046875)], 28: [(' Пру', 0.5947265625), ('oste', 0.57763671875), ('py', 0.55419921875), ('theless', 0.546875), ('ser', 0.53271484375)], 38: [('4', 0.330322265625), ('1', 0.320556640625), ('ationals', 0.2978515625), ('2', 0.2978515625), ('5', 0.29248046875)], 42: [('鹅', 0.186279296875), ('商', 0.18359375), ('an', 0.179443359375), ('мест', 0.178955078125), ('龟', 0.1783447265625)]}, 4: {5: [('несе', 0.0765380859375), (' _', 0.0714111328125), ('[...]', 0.06829833984375), ('[', 0.067138671875), ('…', 0.06646728515625)], 8: [('ente', 0.2196044921875), ('PUBL', 0.21875), ('пява', 0.215576171875), (' Tau', 0.213623046875), ('arde', 0.2119140625)], 28: [('eret', 0.0975341796875), ('ант', 0.096923828125), ('ossos', 0.092041015625), (' rates', 0.08868408203125), (' Rates', 0.0855712890625)], 30: [('ители', 0.12139892578125), (' gent', 0.1090087890625), ('口气', 0.1070556640625), ('ител', 0.099609375), ('日内与', 0.09783935546875)], 44: [('hea', 0.175537109375), ('agus', 0.1724853515625), ('直播', 0.1705322265625), ('pie', 0.16796875), ('=-=-=-=-', 0.16650390625)], 46: [('ptime', 0.70703125), ('pone', 0.6484375), ('acke', 0.640625), ('exion', 0.61669921875), ('estima', 0.61376953125)]}, 6: {5: [('тре', 0.2249755859375), ('仅代表作者本人观点', 0.20849609375), ('Msk', 0.2076416015625), ('фер', 0.204345703125), ('tcb', 0.202392578125)], 10: [('bel', 0.720703125), ('bish', 0.61865234375), (' l', 0.60498046875), (' -', 0.5888671875), ('uta', 0.57080078125)], 31: [('agrada', 0.157470703125), ('SION', 0.1566162109375), ('fony', 0.1549072265625), ('rcia', 0.1531982421875), ('rtic', 0.1417236328125)], 33: [('med', 0.1630859375), ('мат', 0.1597900390625), ('RR', 0.150390625), (' Pro', 0.1485595703125), ('�', 0.1478271484375)], 50: [('ев', 0.05010986328125), (' dita', 0.049041748046875), ('\\\\\\\\[', 0.0489501953125), ('群', 0.048248291015625), ('ге', 0.046173095703125)], 61: [('чинали', 0.7255859375), ('anuts', 0.685546875), ('рида', 0.65576171875), ('яна', 0.64892578125), ('gaon', 0.63720703125)]}, 7: {6: [('oice', 0.11444091796875), ('ecedents', 0.09332275390625), ('dica', 0.09130859375), ('refs', 0.08837890625), ('omini', 0.08599853515625)], 29: [('umbing', 0.340576171875), ('orel', 0.28857421875), ('ourg', 0.275634765625), ('域', 0.274169921875), ('fix', 0.271728515625)], 37: [('8', 0.398193359375), ('��', 0.3505859375), ('9', 0.3310546875), ('7', 0.32568359375), ('6', 0.296630859375)], 47: [('━━━━', 0.16455078125), ('anell', 0.158447265625), ('upost', 0.154296875), ('epsfig', 0.1536865234375), ('avit', 0.153564453125)], 49: [('LOB', 0.06951904296875), ('ropy', 0.06463623046875), ('elihood', 0.06427001953125), ('клопе', 0.06378173828125), ('ARRANT', 0.06365966796875)], 53: [('нау', 0.362060546875), ('ravel', 0.3203125), (' Reus', 0.314453125), ('ay', 0.30126953125), (' \\\\&', 0.300537109375)]}, 0: {7: [('imits', 0.6416015625), ('носа', 0.6220703125), ('ктомври', 0.60205078125), ('compos', 0.59521484375), ('stubs', 0.5947265625)], 12: [(' ello', 0.01142120361328125), ('зия', 0.01114654541015625), ('alts', 0.01105499267578125), (' Body', 0.0110015869140625), (' repose', 0.010894775390625)], 13: [('��', 0.020111083984375), ('urar', 0.0180816650390625), (' norma', 0.015655517578125), ('emale', 0.0156402587890625), ('�', 0.01554107666015625)], 16: [('queta', 0.01287078857421875), (' xsi', 0.01285552978515625), ('澳', 0.01236724853515625), ('хт', 0.01136016845703125), (' Солу', 0.01119232177734375)], 24: [('STRAINT', 0.01058197021484375), ('pole', 0.00823974609375), ('适', 0.00801849365234375), ('erity', 0.0078887939453125), ('poles', 0.007537841796875)], 36: [('onica', 0.01094818115234375), ('htable', 0.0091400146484375), ('urable', 0.00894927978515625), ('čí', 0.008758544921875), (' CURRENT', 0.008544921875)]}, 9: {8: [('rico', 0.2115478515625), ('пад', 0.206787109375), ('riever', 0.2037353515625), ('ros', 0.20361328125), ('ographics', 0.201416015625)], 34: [(' Pirine', 0.1612548828125), ('后排', 0.158203125), ('ure', 0.146240234375), (' Climent', 0.1412353515625), ('�', 0.140869140625)], 38: [('续', 0.384765625), ('�', 0.34130859375), ('фов', 0.322509765625), ('ensk', 0.322265625), ('rels', 0.299072265625)], 42: [('ospin', 0.2130126953125), ('VID', 0.19384765625), ('禁', 0.1890869140625), ('arrel', 0.181884765625), ('ourn', 0.18115234375)], 49: [('avant', 0.350830078125), ('式', 0.33642578125), ('0', 0.314453125), ('IEW', 0.3037109375), ('��', 0.30126953125)], 51: [('laga', 0.11541748046875), ('arias', 0.11431884765625), ('olute', 0.1099853515625), ('mog', 0.1097412109375), ('照', 0.1097412109375)]}, 17: {8: [('feld', 0.043365478515625), ('alus', 0.04327392578125), ('junct', 0.043243408203125), ('beg', 0.042144775390625), ('gee', 0.04205322265625)], 31: [('dew', 0.1290283203125), ('ios', 0.128173828125), (' correspond', 0.1279296875), ('轨', 0.1248779296875), ('DR', 0.124267578125)], 34: [('imov', 0.1551513671875), ('}$~\\\\', 0.155029296875), ('pgdp', 0.1513671875), ('ipre', 0.150634765625), ('insserv', 0.1492919921875)], 38: [('board', 0.316650390625), (' dots', 0.284423828125), (' s', 0.26611328125), ('authorized', 0.263671875), ('hz', 0.260986328125)], 41: [('icent', 0.587890625), ('Македония', 0.4453125), ('科', 0.439697265625), ('дира', 0.4287109375), ('coff', 0.419677734375)], 63: [('cita', 0.55810546875), ('olen', 0.5048828125), ('ober', 0.44873046875), ('opin', 0.44482421875), (' whereof', 0.4296875)]}, 19: {8: [('xu', 0.048797607421875), ('avor', 0.04736328125), ('oyal', 0.04736328125), ('логи', 0.04290771484375), (' Mole', 0.042572021484375)], 25: [('erness', 0.154052734375), ('pline', 0.1400146484375), ('ял', 0.1400146484375), ('спорт', 0.1376953125), ('zia', 0.1339111328125)], 38: [('edia', 0.11114501953125), ('eon', 0.108642578125), (' Hicks', 0.10076904296875), ('aquell', 0.10015869140625), ('aquella', 0.09979248046875)], 43: [(' PP', 0.1802978515625), ('b', 0.1800537109375), ('ued', 0.1702880859375), ('ieri', 0.1622314453125), ('ows', 0.1607666015625)], 51: [('мп', 0.2196044921875), ('ucs', 0.213134765625), ('tole', 0.2054443359375), ('港', 0.19921875), ('旁', 0.1920166015625)], 63: [('зона', 0.1715087890625), ('brack', 0.1671142578125), (' Родо', 0.162841796875), ('泰', 0.1575927734375), ('ждане', 0.1551513671875)]}, 20: {8: [(' dr', 0.149169921875), ('EndOf', 0.1468505859375), ('LR', 0.144287109375), ('rau', 0.142822265625), (' Burgos', 0.142333984375)], 15: [('рат', 0.2152099609375), ('itori', 0.21337890625), ('葩', 0.195068359375), ('��', 0.1939697265625), ('quant', 0.1903076171875)], 25: [('elight', 0.2381591796875), ('gate', 0.23486328125), ('зови', 0.23046875), ('inee', 0.219970703125), ('urst', 0.2041015625)], 27: [('摇', 0.161865234375), ('大姐', 0.1571044921875), ('月中', 0.1541748046875), ('ustr', 0.152587890625), ('4', 0.1490478515625)], 30: [(' Aires', 0.552734375), ('IF', 0.5458984375), ('igure', 0.52685546875), (' NewPage', 0.525390625), (' INDEX', 0.50634765625)], 58: [('фове', 0.26806640625), ('locs', 0.2318115234375), ('Piece', 0.23046875), ('Interpret', 0.2291259765625), ('ropies', 0.2261962890625)]}, 18: {10: [('yser', 0.152587890625), ('reex', 0.15234375), ('agos', 0.1512451171875), ('amac', 0.1483154296875), ('pids', 0.1456298828125)], 31: [('ho', 0.1134033203125), ('灵', 0.10479736328125), ('[...]', 0.1002197265625), ('1', 0.09783935546875), ('ides', 0.09759521484375)], 38: [('utada', 0.55615234375), ('стория', 0.55078125), ('rafia', 0.53857421875), ('enari', 0.5283203125), ('fib', 0.52734375)], 48: [('empres', 0.1234130859375), ('бина', 0.11468505859375), ('�', 0.11041259765625), ('yset', 0.1094970703125), ('common', 0.10711669921875)], 51: [(' Ne', 0.068115234375), ('aco', 0.06732177734375), (' agency', 0.06500244140625), ('脱', 0.060150146484375), ('轻', 0.05999755859375)], 59: [('ibn', 0.1251220703125), (' import', 0.12103271484375), ('кона', 0.11590576171875), ('Armada', 0.1146240234375), ('ecke', 0.11444091796875)]}, 3: {15: [('rtex', 0.158203125), ('pides', 0.14697265625), ('rtida', 0.141845703125), ('части', 0.136962890625), ('esposa', 0.1368408203125)], 28: [('swick', 0.339599609375), ('postinst', 0.3125), ('elt', 0.305419921875), ('topsp', 0.303955078125), ('兹', 0.29248046875)], 34: [('直', 0.26025390625), ('axter', 0.257080078125), ('chini', 0.248779296875), ('PROCESS', 0.233642578125), ('oice', 0.2335205078125)], 38: [('谛', 0.3095703125), ('est', 0.30078125), ('Pobl', 0.294921875), ('agne', 0.2939453125), ('дето', 0.286865234375)], 47: [(' пролет', 0.12744140625), ('ilities', 0.12322998046875), ('redo', 0.1212158203125), ('OLEAN', 0.12066650390625), ('upy', 0.1202392578125)], 63: [(' [', 0.143310546875), (' -', 0.11773681640625), (' [...]', 0.116943359375), ('rowe', 0.11627197265625), ('奇', 0.11151123046875)]}, 16: {15: [('estany', 0.0909423828125), ('robes', 0.0855712890625), ('indexed', 0.084716796875), (' ${{\\\\', 0.0831298828125), (' ~[', 0.08251953125)], 33: [('5', 0.345947265625), ('6', 0.341064453125), ('8', 0.3388671875), ('4', 0.332275390625), ('基', 0.32763671875)], 34: [('хел', 0.15087890625), ('мит', 0.1265869140625), ('Окръг', 0.12493896484375), (' изтре', 0.1243896484375), ('ikipedia', 0.124267578125)], 38: [('ationals', 0.46484375), ('ngia', 0.42431640625), ('jal', 0.407958984375), ('ophagus', 0.403076171875), ('usep', 0.40283203125)], 41: [('准', 0.07464599609375), ('add', 0.07061767578125), ('��', 0.06610107421875), ('tones', 0.06610107421875), ('Hur', 0.06488037109375)], 54: [('avr', 0.09307861328125), ('ETIME', 0.09088134765625), ('acta', 0.08990478515625), ('лец', 0.08953857421875), ('assin', 0.08740234375)]}, 10: {18: [('icast', 0.128173828125), ('ematic', 0.113037109375), ('nodeType', 0.1126708984375), ('су', 0.1119384765625), (' Houten', 0.1080322265625)], 23: [('ците', 0.18994140625), ('ossos', 0.181396484375), ('ляри', 0.1805419921875), ('丈', 0.17138671875), ('odon', 0.1688232421875)], 30: [('口气', 0.459716796875), ('代', 0.4423828125), (' Step', 0.431396484375), ('利物', 0.420654296875), (' fi', 0.418701171875)], 34: [(' municipals', 0.10748291015625), ('ensibly', 0.1048583984375), ('lebre', 0.10455322265625), ('exp', 0.10394287109375), ('екси', 0.100830078125)], 38: [('不开', 0.10369873046875), ('тиле', 0.1002197265625), ('itiu', 0.09979248046875), (' simpat', 0.09881591796875), ('onge', 0.096923828125)], 48: [('elve', 0.11456298828125), ('уди', 0.1126708984375), ('jecci', 0.11083984375), ('áž', 0.107666015625), ('来的', 0.107421875)]}, 14: {29: [('hea', 0.08160400390625), ('ари', 0.0732421875), ('ливо', 0.06903076171875), ('━━', 0.06787109375), ('tn', 0.067626953125)], 37: [('widetext', 0.2109375), ('站的', 0.2056884765625), ('IEEEeqnarray', 0.1981201171875), ('RUP', 0.197998046875), ('neres', 0.197509765625)], 40: [('oler', 0.0682373046875), ('ynchronously', 0.0623779296875), ('телно', 0.058563232421875), (' wlp', 0.05828857421875), ('rere', 0.057342529296875)], 49: [('нор', 0.176025390625), ('ptuous', 0.150390625), ('ouncil', 0.1497802734375), ('ordi', 0.1485595703125), ('iatric', 0.147705078125)], 53: [('浩', 0.06707763671875), ('rophe', 0.06304931640625), ('enzo', 0.061126708984375), ('ivy', 0.05841064453125), ('nimes', 0.056732177734375)], 62: [('dures', 0.07452392578125), ('IED', 0.072509765625), ('ively', 0.0693359375), ('htable', 0.06817626953125), ('ivist', 0.068115234375)]}, 8: {33: [('CLR', 0.237548828125), ('rido', 0.228759765625), ('oleon', 0.2249755859375), (' funcionando', 0.21923828125), ('Views', 0.216796875)], 37: [('IER', 0.943359375), ('oba', 0.904296875), ('Observ', 0.83251953125), ('нята', 0.82861328125), ('suma', 0.8134765625)], 42: [('内地', 0.387939453125), ('iax', 0.375), ('断', 0.3525390625), ('aja', 0.34716796875), ('ложе', 0.34326171875)], 47: [('талия', 0.59130859375), ('isible', 0.54736328125), ('ygon', 0.52392578125), ('tessa', 0.51904296875), ('cnica', 0.49560546875)], 49: [('раел', 0.57763671875), (' препоръ', 0.556640625), ('��', 0.4912109375), ('~~\\\\', 0.470703125), ('тати', 0.453857421875)], 53: [('дже', 0.088134765625), ('Resolved', 0.07586669921875), (' Dues', 0.07183837890625), ('AAAAAAAA', 0.0665283203125), ('пус', 0.06488037109375)]}, 15: {33: [('ALSE', 1.3759765625), ('疏', 1.216796875), ('校友', 1.20703125), ('td', 1.1845703125), ('front', 1.177734375)], 40: [('λο', 0.054931640625), ('注册', 0.054473876953125), ('itekt', 0.0538330078125), ('asts', 0.0537109375), ('dating', 0.05340576171875)], 42: [('SERIAL', 0.44775390625), ('gue', 0.44189453125), ('baid', 0.436279296875), ('leccion', 0.429443359375), ('etime', 0.41455078125)], 49: [('оръ', 0.07977294921875), (' противо', 0.07952880859375), ('sting', 0.07904052734375), ('生素', 0.0765380859375), ('henko', 0.076416015625)], 53: [('ross', 0.1461181640625), (' \"', 0.1455078125), (\" '\", 0.143310546875), ('ambo', 0.142822265625), ('imath', 0.139892578125)], 59: [('arpa', 0.1339111328125), ('opro', 0.128662109375), ('irons', 0.126953125), (' hard', 0.124755859375), ('piques', 0.1220703125)]}}\n",
      "Shared expert predictions: [[('lids', 0.403564453125), ('圾', 0.398681640625), ('枕', 0.395263671875), ('тру', 0.3935546875), ('уди', 0.39013671875)], [('YA', 0.44287109375), ('中了', 0.43212890625), (' bol', 0.419677734375), ('打入', 0.41650390625), (' OD', 0.40478515625)], [('спи', 0.498291015625), ('onar', 0.46923828125), ('捞', 0.449951171875), ('дава', 0.4365234375), (' Зла', 0.43017578125)], [('atch', 0.55224609375), ('WA', 0.49365234375), ('ping', 0.47607421875), ('wa', 0.46923828125), ('oe', 0.46630859375)], [('engua', 0.4541015625), ('ulg', 0.43896484375), ('iem', 0.394775390625), ('渺', 0.393798828125), ('meu', 0.389404296875)], [('undy', 0.453369140625), (' autonegotiation', 0.4462890625), ('背着', 0.4384765625), ('��', 0.42919921875), ('okit', 0.424560546875)], [('3', 0.783203125), ('2', 0.78076171875), ('0', 0.7578125), ('6', 0.74365234375), ('4', 0.7158203125)], [('chas', 0.50341796875), (' guix', 0.490478515625), ('ContentView', 0.488037109375), ('arming', 0.484375), ('сиони', 0.479248046875)], [('ping', 0.525390625), ('ilea', 0.52197265625), ('pta', 0.5166015625), ('pery', 0.509765625), ('pings', 0.50927734375)], [('pta', 0.498046875), (' v', 0.4541015625), ('тния', 0.448486328125), ('�起', 0.443359375), ('eces', 0.44287109375)], [('背着', 0.499755859375), ('рес', 0.496337890625), (' ward', 0.49609375), ('hine', 0.494140625), ('PTR', 0.491455078125)], [('无缘', 0.6552734375), ('确立', 0.6162109375), ('匆匆', 0.61572265625), ('开辟', 0.59423828125), ('RSA', 0.58935546875)], [('jem', 0.73046875), ('HQ', 0.66943359375), ('RSA', 0.6669921875), ('臻', 0.66064453125), ('ZW', 0.634765625)], [('ANE', 0.828125), (' OMIT', 0.7705078125), ('ERA', 0.72900390625), ('匆匆', 0.68505859375), ('AGR', 0.6572265625)], [(' s', 0.5751953125), ('iser', 0.5087890625), ('2', 0.50048828125), ('s', 0.48193359375), (' LO', 0.479736328125)], [('iums', 0.62548828125), ('upost', 0.625), ('tamb', 0.6044921875), ('ackage', 0.599609375), ('rength', 0.576171875)], [('чело', 0.44677734375), ('estren', 0.4375), ('става', 0.422119140625), ('atge', 0.419921875), ('atches', 0.41650390625)], [('ionista', 0.513671875), (' f', 0.447265625), (' Ser', 0.446044921875), (' G', 0.442138671875), ('码', 0.434326171875)], [(' SE', 0.818359375), (' sed', 0.7373046875), ('顾问', 0.712890625), (' Cr', 0.70947265625), (' bulk', 0.70703125)], [('麻烦', 0.422607421875), ('prop', 0.3974609375), ('0', 0.396240234375), ('ibr', 0.39453125), (' fat', 0.38818359375)], [('pedia', 0.578125), ('渠', 0.53369140625), ('\\\\,$\\\\', 0.533203125), (' {?}', 0.52294921875), (' LDO', 0.51953125)], [('�乐', 0.72021484375), ('jena', 0.63134765625), ('ionista', 0.615234375), ('enya', 0.61328125), ('bera', 0.61279296875)]]\n",
      "\n",
      "MoE Layer 6:\n",
      "Selected experts: [[45, 63, 48, 29, 19, 27], [63, 7, 10, 39, 44, 17], [10, 6, 21, 44, 25, 63], [32, 53, 44, 10, 63, 25], [44, 26, 53, 0, 7, 8], [10, 38, 12, 44, 25, 1], [44, 62, 61, 7, 25, 36], [20, 16, 30, 60, 56, 36], [20, 60, 39, 56, 21, 16], [21, 6, 34, 1, 39, 60], [50, 1, 35, 21, 16, 11], [21, 50, 62, 5, 1, 28], [21, 1, 50, 5, 28, 38], [5, 21, 11, 1, 50, 40], [56, 20, 25, 60, 4, 36], [43, 39, 60, 6, 56, 46], [49, 1, 21, 39, 43, 52], [6, 58, 21, 48, 34, 28], [32, 34, 21, 11, 6, 33], [43, 18, 39, 11, 21, 40], [21, 40, 50, 11, 1, 18], [38, 1, 21, 47, 28, 5]]\n",
      "Expert weights: [[0.33203125, 0.0400390625, 0.0253448486328125, 0.020904541015625, 0.0207366943359375, 0.0204620361328125], [0.1051025390625, 0.10009765625, 0.06488037109375, 0.06280517578125, 0.05035400390625, 0.049041748046875], [0.10150146484375, 0.09429931640625, 0.0809326171875, 0.07470703125, 0.07012939453125, 0.036468505859375], [0.1007080078125, 0.2103271484375, 0.10211181640625, 0.06451416015625, 0.0594482421875, 0.05731201171875], [0.2298583984375, 0.17529296875, 0.152587890625, 0.074951171875, 0.032318115234375, 0.0306549072265625], [0.222412109375, 0.1011962890625, 0.0643310546875, 0.0631103515625, 0.0562744140625, 0.05572509765625], [0.173095703125, 0.134521484375, 0.140380859375, 0.0780029296875, 0.04498291015625, 0.04266357421875], [0.156494140625, 0.1546630859375, 0.09088134765625, 0.08087158203125, 0.06256103515625, 0.053955078125], [0.078125, 0.08978271484375, 0.09527587890625, 0.0771484375, 0.0606689453125, 0.060333251953125], [0.1798095703125, 0.09466552734375, 0.0927734375, 0.0447998046875, 0.039031982421875, 0.02996826171875], [0.1097412109375, 0.05267333984375, 0.07891845703125, 0.2099609375, 0.04302978515625, 0.03387451171875], [0.22412109375, 0.10028076171875, 0.09002685546875, 0.076416015625, 0.044189453125, 0.04058837890625], [0.11737060546875, 0.10919189453125, 0.06915283203125, 0.1312255859375, 0.04742431640625, 0.038665771484375], [0.0919189453125, 0.263427734375, 0.078125, 0.06634521484375, 0.057464599609375, 0.032440185546875], [0.12091064453125, 0.114013671875, 0.0830078125, 0.0760498046875, 0.0755615234375, 0.06402587890625], [0.0572509765625, 0.0885009765625, 0.05712890625, 0.054840087890625, 0.045989990234375, 0.035797119140625], [0.07891845703125, 0.045928955078125, 0.06591796875, 0.053985595703125, 0.125244140625, 0.03985595703125], [0.1026611328125, 0.08184814453125, 0.070556640625, 0.056488037109375, 0.041595458984375, 0.032501220703125], [0.037872314453125, 0.08197021484375, 0.141845703125, 0.033721923828125, 0.10943603515625, 0.03192138671875], [0.07843017578125, 0.065185546875, 0.038299560546875, 0.051177978515625, 0.1280517578125, 0.034881591796875], [0.1505126953125, 0.0836181640625, 0.0723876953125, 0.060821533203125, 0.047027587890625, 0.038238525390625], [0.10687255859375, 0.0845947265625, 0.070068359375, 0.052032470703125, 0.03900146484375, 0.035369873046875]]\n",
      "Combined output tokens: [[('яна', 1.73046875), ('andes', 1.69921875), (' препратки', 1.642578125), ('肋', 1.6376953125), ('urals', 1.5498046875)], [('лагат', 0.77197265625), ('挽', 0.75537109375), ('idly', 0.73388671875), ('注', 0.72119140625), ('LOB', 0.71826171875)], [('LR', 0.865234375), ('ondes', 0.8515625), ('ROL', 0.78662109375), ('LTS', 0.7861328125), ('евру', 0.775390625)], [(' местообита', 1.416015625), ('дието', 1.396484375), (' изпол', 1.3740234375), ('вяват', 1.3720703125), ('цяло', 1.34375)], [('Икономи', 1.53125), ('ILABLE', 1.5224609375), ('��', 1.4560546875), ('everse', 1.44140625), ('oremove', 1.419921875)], [('��', 1.00390625), (' ADDR', 0.91552734375), ('йки', 0.873046875), ('oser', 0.8359375), ('бор', 0.82568359375)], [('的背后', 1.033203125), ('ancel', 1.0263671875), ('стин', 0.986328125), ('indo', 0.96435546875), ('�起', 0.962890625)], [('onis', 1.1015625), (' Hamps', 1.0966796875), ('achs', 1.0859375), (' spac', 1.0830078125), ('бел', 1.0654296875)], [('ibar', 0.89013671875), ('пру', 0.8369140625), ('钥', 0.7880859375), ('vista', 0.779296875), ('хо', 0.72607421875)], [('artz', 1.080078125), ('AVA', 0.91650390625), ('reex', 0.888671875), ('限', 0.8505859375), ('无量', 0.849609375)], [('search', 1.0458984375), ('hed', 1.044921875), ('head', 1.0380859375), ('IE', 0.96240234375), (' Q', 0.9599609375)], [('cha', 0.92578125), ('zers', 0.923828125), ('deg', 0.92138671875), (' тера', 0.91796875), ('rout', 0.8916015625)], [('autora', 0.9970703125), ('\\xa0\\xa0\\xa0\\xa0\\xa0\\xa0\\xa0\\xa0\\xa0\\xa0\\xa0\\xa0\\xa0\\xa0\\xa0\\xa0', 0.9560546875), ('主观', 0.896484375), ('ennicke', 0.89013671875), ('кло', 0.8720703125)], [('�', 1.109375), ('aciously', 1.017578125), ('odo', 1.0068359375), ('pice', 0.99609375), (\"}'$\", 0.98974609375)], [(' s', 0.90673828125), (' stamp', 0.8662109375), (' commercial', 0.76123046875), (' co', 0.76123046875), (' супер', 0.75537109375)], [('}--', 1.0048828125), ('ibuix', 0.97021484375), ('PYG', 0.962890625), ('umno', 0.95947265625), ('NDB', 0.95166015625)], [('浮', 0.70166015625), ('hort', 0.69921875), ('教授', 0.68798828125), ('████', 0.68701171875), ('RP', 0.685546875)], [(' domestic', 0.83203125), ('EVER', 0.77783203125), (' generalized', 0.75439453125), (';]', 0.74853515625), ('公共', 0.744140625)], [('公共', 1.0947265625), ('Ta', 1.072265625), ('MATH', 1.0615234375), ('Math', 0.96044921875), ('kle', 0.96044921875)], [('TA', 0.8681640625), (' n', 0.76513671875), ('井', 0.7431640625), (' l', 0.73095703125), (' da', 0.7197265625)], [(' zah', 1.1064453125), ('anners', 0.97412109375), ('фт', 0.9296875), ('hot', 0.88671875), ('teres', 0.8701171875)], [('hasOwnProperty', 0.9970703125), ('础', 0.86572265625), ('ensation', 0.84619140625), (' CTx', 0.8134765625), ('одри', 0.77490234375)]]\n",
      "Expert predictions by position: {4: {0: [(' over', 0.299560546875), ('cott', 0.269775390625), ('转', 0.25634765625), ('ATTR', 0.248779296875), (' vet', 0.245849609375)], 7: [('Medall', 0.10882568359375), ('ordial', 0.10247802734375), ('лага', 0.101806640625), ('AIN', 0.10125732421875), ('githubusercontent', 0.0999755859375)], 8: [('2', 0.09442138671875), ('1', 0.09002685546875), ('5', 0.08477783203125), ('9', 0.080078125), ('3', 0.07672119140625)], 26: [(';|&', 0.52099609375), ('出不穷', 0.5126953125), ('altogether', 0.51220703125), ('esko', 0.505859375), ('��', 0.50439453125)], 44: [('ievals', 0.6533203125), (' Balaguer', 0.6337890625), ('yser', 0.5888671875), ('า�', 0.5537109375), ('кло', 0.5517578125)], 53: [('ygon', 1.19140625), ('isible', 1.13671875), ('цяло', 1.1015625), ('дието', 1.0908203125), ('ейнт', 1.0810546875)]}, 5: {1: [('thems', 0.200439453125), ('alink', 0.1954345703125), ('ses', 0.185546875), ('headerlink', 0.1827392578125), ('ssica', 0.171875)], 10: [(')$.}', 0.6318359375), ('oed', 0.5849609375), ('[--', 0.5849609375), ('кос', 0.56298828125), ('ебса', 0.55908203125)], 12: [('拯', 0.141357421875), (' esp', 0.1380615234375), ('esp', 0.1361083984375), ('oms', 0.135986328125), ('omal', 0.1309814453125)], 25: [('мби', 0.1817626953125), ('元', 0.1815185546875), ('resco', 0.1761474609375), ('元的', 0.175048828125), ('еле', 0.175048828125)], 38: [('eqn', 0.326904296875), ('$^{', 0.296630859375), ('xD', 0.29296875), ('ване', 0.28955078125), ('dater', 0.280029296875)], 44: [('aram', 0.351806640625), ('ociety', 0.3447265625), ('ibol', 0.33642578125), (' Welfare', 0.330078125), ('acas', 0.328857421875)]}, 9: {1: [('4', 0.1412353515625), ('3', 0.12841796875), ('1', 0.1278076171875), ('7', 0.1170654296875), ('0', 0.11669921875)], 6: [('prefix', 0.301513671875), ('起', 0.298828125), ('冬', 0.292236328125), ('圈', 0.291259765625), ('李小', 0.2861328125)], 21: [('olf', 0.288330078125), ('份', 0.283447265625), ('remaining', 0.283203125), ('整', 0.27978515625), ('uly', 0.278564453125)], 34: [(' sub', 0.2442626953125), ('GLOB', 0.23291015625), ('cion', 0.2303466796875), (' pass', 0.22998046875), ('мед', 0.2261962890625)], 39: [('ering', 0.317626953125), ('el', 0.29443359375), ('cal', 0.289306640625), ('лож', 0.2685546875), ('ading', 0.267822265625)], 60: [(' Anys', 0.1318359375), ('ISD', 0.109130859375), (' Carme', 0.10772705078125), ('otry', 0.10479736328125), (' Попов', 0.1044921875)]}, 10: {1: [('arque', 0.10540771484375), ('clerosis', 0.09674072265625), ('otch', 0.092041015625), ('бани', 0.091064453125), ('剩', 0.09014892578125)], 11: [('ifth', 0.264404296875), (' Tremp', 0.26171875), ('mberg', 0.257568359375), ('ILON', 0.256103515625), ('merce', 0.256103515625)], 16: [('s', 0.419677734375), ('up', 0.38232421875), ('achs', 0.3818359375), ('0', 0.379638671875), ('on', 0.35546875)], 21: [('rall', 0.1724853515625), ('人民', 0.16943359375), ('alty', 0.16259765625), ('ared', 0.1617431640625), ('%%%%', 0.159912109375)], 35: [('ly', 0.22900390625), ('wic', 0.223876953125), ('ins', 0.22119140625), ('igs', 0.2169189453125), ('ble', 0.2156982421875)], 50: [('GeneratedCode', 0.486572265625), (' Complut', 0.47216796875), ('POLL', 0.455322265625), (' ред', 0.453125), ('esperan', 0.448974609375)]}, 11: {1: [('后赛', 0.330078125), ('ست', 0.297119140625), ('gether', 0.28369140625), ('istocr', 0.281982421875), ('хари', 0.2685546875)], 5: [('浙', 0.2303466796875), ('楚', 0.223876953125), ('asma', 0.2108154296875), ('enberg', 0.210205078125), ('hoff', 0.2064208984375)], 21: [('lists', 0.68701171875), ('baum', 0.6865234375), ('�', 0.685546875), ('待', 0.67626953125), ('ousseau', 0.673828125)], 28: [('icles', 0.10858154296875), ('动', 0.106201171875), (' Stadium', 0.09820556640625), ('icle', 0.09661865234375), ('oder', 0.096435546875)], 50: [(' also', 0.25048828125), (' today', 0.2457275390625), ('illery', 0.23388671875), ('kick', 0.2330322265625), ('创', 0.22607421875)], 62: [('elli', 0.26513671875), ('ono', 0.2337646484375), ('sm', 0.2283935546875), ('tt', 0.2274169921875), ('档', 0.2242431640625)]}, 12: {1: [('iably', 0.09759521484375), (' Dret', 0.09747314453125), ('agona', 0.0909423828125), ('锈钢', 0.09027099609375), (' costums', 0.08978271484375)], 5: [('+}$', 0.368896484375), ('гард', 0.367431640625), ('ymer', 0.364990234375), ('cmark', 0.358642578125), ('ilos', 0.34912109375)], 21: [('rs', 0.319580078125), (' mass', 0.296142578125), ('kl', 0.2958984375), ('YL', 0.290771484375), ('排气', 0.281982421875)], 28: [('astes', 0.0911865234375), ('гре', 0.08343505859375), ('insically', 0.08111572265625), ('mass', 0.07806396484375), ('isArray', 0.07647705078125)], 38: [('ailles', 0.314208984375), ('bidden', 0.3134765625), ('cales', 0.312744140625), (' adov', 0.30712890625), ('ото', 0.2998046875)], 50: [('otten', 0.253662109375), ('esperan', 0.2452392578125), ('POLL', 0.233642578125), ('aritat', 0.22509765625), ('alguna', 0.224853515625)]}, 13: {1: [('arien', 0.1251220703125), (' estel', 0.1204833984375), ('五六', 0.1199951171875), ('ensitive', 0.119384765625), (' almacenado', 0.11260986328125)], 5: [('мпион', 0.42333984375), ('cmark', 0.40380859375), ('SOURCE', 0.394775390625), (' играта', 0.392578125), ('entorn', 0.39111328125)], 11: [('闻', 0.13818359375), ('wic', 0.1253662109375), ('eting', 0.11669921875), ('ype', 0.1126708984375), ('羽', 0.111572265625)], 21: [('oc', 0.23828125), ('ening', 0.232421875), (' Pizarro', 0.2271728515625), ('omi', 0.225830078125), ('aks', 0.2254638671875)], 40: [(' ', 0.11590576171875), (' r', 0.10009765625), ('quist', 0.096923828125), ('col', 0.09649658203125), ('Col', 0.0946044921875)], 50: [('ayne', 0.352783203125), ('тю', 0.33642578125), ('样', 0.333251953125), ('наги', 0.324462890625), ('�乐', 0.306884765625)]}, 16: {1: [(' кал', 0.2276611328125), (' духов', 0.20947265625), ('enter', 0.1968994140625), ('ribly', 0.1939697265625), ('combo', 0.192138671875)], 21: [('助', 0.3115234375), (' oferir', 0.302001953125), ('尖', 0.30126953125), (' concedir', 0.290771484375), ('抽', 0.28564453125)], 39: [('arisation', 0.190185546875), ('..\">', 0.1470947265625), (' Regard', 0.1409912109375), ('翡', 0.13916015625), (' trade', 0.1356201171875)], 43: [('STRAINT', 0.379150390625), ('earchers', 0.330078125), (' j', 0.3154296875), ('意义上的', 0.2998046875), ('iates', 0.296875)], 49: [('2', 0.2900390625), ('3', 0.286376953125), ('7', 0.271240234375), ('4', 0.263916015625), ('8', 0.2578125)], 52: [('рио', 0.0987548828125), ('agossa', 0.09259033203125), ('торите', 0.09185791015625), ('normalfont', 0.09027099609375), ('oter', 0.0870361328125)]}, 20: {1: [('рото', 0.12322998046875), ('arrib', 0.1171875), ('ajuda', 0.11566162109375), ('breadcrumb', 0.11383056640625), ('GREE', 0.113037109375)], 11: [('ational', 0.070556640625), ('poi', 0.06903076171875), (' llog', 0.06829833984375), ('lli', 0.06768798828125), ('ocom', 0.06768798828125)], 18: [('ov', 0.11865234375), ('ally', 0.11676025390625), ('克的', 0.11138916015625), ('stage', 0.10662841796875), ('iven', 0.10650634765625)], 21: [(' /', 0.8125), ('hed', 0.78759765625), (' ...', 0.7490234375), ('\\\\', 0.7333984375), ('/', 0.7255859375)], 40: [(' ', 0.49560546875), (' _', 0.38720703125), ('制的', 0.37060546875), ('制', 0.369140625), (' романи', 0.366455078125)], 50: [('GeneratedCode', 0.30908203125), (' yourself', 0.29052734375), ('ssec', 0.286376953125), ('iak', 0.28515625), ('Paste', 0.28466796875)]}, 21: {1: [('ляне', 0.0970458984375), ('roll', 0.09320068359375), ('rock', 0.090087890625), ('тари', 0.08770751953125), ('fts', 0.08599853515625)], 5: [('ctica', 0.0994873046875), ('pectives', 0.09613037109375), ('答', 0.09515380859375), ('pare', 0.0899658203125), ('iasm', 0.08746337890625)], 21: [(' tot', 0.51123046875), ('oc', 0.48779296875), ('rs', 0.46875), ('aro', 0.46435546875), ('pip', 0.4375)], 28: [('рова', 0.11480712890625), ('htable', 0.09710693359375), ('flo', 0.0906982421875), ('{\\\\,\\\\', 0.083984375), ('гри', 0.08367919921875)], 38: [('vell', 0.1031494140625), ('晚', 0.0926513671875), ('orema', 0.0897216796875), ('族自治', 0.08782958984375), ('ylene', 0.0845947265625)], 47: [('azzo', 0.1007080078125), (' .', 0.098388671875), ('rus', 0.0968017578125), ('就好了', 0.09368896484375), (' right', 0.09295654296875)]}, 14: {4: [('itari', 0.1956787109375), ('朽', 0.1859130859375), ('времен', 0.184326171875), ('众所', 0.179443359375), (' Merriam', 0.1768798828125)], 20: [('菜', 0.310546875), ('ocation', 0.28515625), ('�', 0.2440185546875), ('oyne', 0.2286376953125), ('Rated', 0.2230224609375)], 25: [('plex', 0.194580078125), ('族', 0.18701171875), ('abor', 0.1849365234375), ('ански', 0.1795654296875), ('yship', 0.1793212890625)], 36: [('enting', 0.1102294921875), ('цо', 0.0999755859375), ('два', 0.09326171875), ('бе', 0.0927734375), ('reen', 0.092529296875)], 56: [('lev', 0.176025390625), ('sembled', 0.1700439453125), ('itively', 0.1666259765625), ('original', 0.151123046875), ('adata', 0.149169921875)], 60: [(' Ant', 0.23876953125), ('istan', 0.230712890625), ('گ', 0.2255859375), (' изра', 0.2056884765625), (' corresponents', 0.202392578125)]}, 2: {6: [('sw', 0.420166015625), ('ref', 0.4111328125), ('веро', 0.374755859375), ('ssf', 0.361572265625), ('sti', 0.34326171875)], 10: [('евру', 0.290771484375), (' загу', 0.287841796875), ('редиземно', 0.284912109375), ('йска', 0.27880859375), ('oport', 0.2783203125)], 21: [('�', 0.64501953125), ('角的', 0.63037109375), ('rida', 0.62890625), ('finder', 0.60498046875), (' _', 0.60107421875)], 25: [('̀', 0.153076171875), (' mandar', 0.1497802734375), ('甲', 0.1484375), ('AudioEvent', 0.1475830078125), ('мест', 0.147216796875)], 44: [('interop', 0.257568359375), ('колкото', 0.236328125), ('ashions', 0.228515625), (' Kot', 0.220458984375), ('ottom', 0.219482421875)], 63: [(' dev', 0.07965087890625), (' div', 0.0772705078125), ('ronic', 0.07293701171875), ('IGIN', 0.0704345703125), (' dat', 0.069580078125)]}, 15: {6: [('样', 0.1541748046875), ('opil', 0.148681640625), ('nqu', 0.1422119140625), ('adders', 0.1302490234375), ('样的', 0.125732421875)], 39: [('уза', 0.1142578125), ('桂', 0.114013671875), ('enent', 0.1070556640625), ('emple', 0.106201171875), ('�乐', 0.10546875)], 43: [('ROID', 0.2113037109375), ('дината', 0.2042236328125), ('iress', 0.20068359375), ('ством', 0.1990966796875), ('通知', 0.1962890625)], 46: [('teres', 0.10736083984375), (' contrafort', 0.10205078125), ('rici', 0.0994873046875), ('клопе', 0.0943603515625), ('chev', 0.09423828125)], 56: [('blockList', 0.1976318359375), ('antos', 0.17919921875), ('asi', 0.1600341796875), ('hil', 0.15966796875), ('guera', 0.1578369140625)], 60: [('erb', 0.2010498046875), ('.}.', 0.19580078125), ('лн', 0.1915283203125), (' Буда', 0.1729736328125), ('双子', 0.1719970703125)]}, 17: {6: [(' асоциа', 0.34619140625), ('Окръг', 0.345458984375), ('Населени', 0.3359375), ('remos', 0.33251953125), ('LTS', 0.31787109375)], 21: [(' SerialNumber', 0.225830078125), ('Окръг', 0.2049560546875), ('findutils', 0.1964111328125), ('rrez', 0.1910400390625), ('eqno', 0.1907958984375)], 28: [('erto', 0.09844970703125), ('usses', 0.08880615234375), (' digitals', 0.0863037109375), (' името', 0.0850830078125), ('ausa', 0.08502197265625)], 34: [('bology', 0.1337890625), ('algia', 0.1300048828125), ('hoff', 0.1282958984375), ('тици', 0.125732421875), ('мара', 0.11920166015625)], 48: [('圣', 0.2369384765625), ('orden', 0.22021484375), ('qus', 0.218505859375), ('�다', 0.21728515625), (' meaning', 0.2147216796875)], 58: [('仅代表作者本人观点', 0.255859375), ('父', 0.246337890625), ('bout', 0.2369384765625), ('anc', 0.2362060546875), ('ancs', 0.2308349609375)]}, 18: {6: [('��', 0.294677734375), ('��', 0.290283203125), ('adio', 0.271484375), ('habi', 0.269775390625), ('kle', 0.25537109375)], 11: [('ville', 0.0633544921875), ('WISE', 0.06243896484375), (' офор', 0.062408447265625), ('rier', 0.06036376953125), ('阳明', 0.060211181640625)], 21: [('сал', 0.53076171875), (' zah', 0.52880859375), ('vib', 0.50244140625), ('fine', 0.4951171875), ('tol', 0.48974609375)], 32: [('陵', 0.08929443359375), ('rate', 0.0750732421875), (' rate', 0.07403564453125), ('odos', 0.07098388671875), ('帽', 0.0706787109375)], 33: [('кор', 0.202392578125), ('rex', 0.201416015625), ('v', 0.20068359375), (' static', 0.196044921875), ('AQ', 0.1956787109375)], 34: [('hoff', 0.2054443359375), ('rrec', 0.2041015625), ('resso', 0.1968994140625), ('lant', 0.1920166015625), ('гре', 0.1917724609375)]}, 1: {7: [('assy', 0.358642578125), ('пъ', 0.345947265625), ('lides', 0.34228515625), ('石', 0.33447265625), ('ellig', 0.327880859375)], 10: [('ews', 0.2001953125), ('тъ', 0.2000732421875), ('obe', 0.1968994140625), (' _', 0.1922607421875), ('IK', 0.1912841796875)], 17: [('��', 0.10675048828125), ('жо', 0.10211181640625), ('nin', 0.095458984375), ('жата', 0.09442138671875), ('anom', 0.0938720703125)], 39: [('cmark', 0.097412109375), ('cla', 0.09600830078125), ('�', 0.08770751953125), (' Bud', 0.08636474609375), (' h', 0.085205078125)], 44: [('ssia', 0.90673828125), ('า', 0.892578125), ('iguous', 0.79931640625), ('onges', 0.7919921875), ('Complexity', 0.787109375)], 63: [('eson', 0.06329345703125), ('ereix', 0.06268310546875), ('сев', 0.0618896484375), ('erir', 0.061676025390625), ('�', 0.06134033203125)]}, 6: {7: [('url', 0.299560546875), ('曾国', 0.2744140625), ('卿', 0.2734375), ('饱', 0.2568359375), ('IDO', 0.252197265625)], 25: [('viz', 0.172119140625), ('uir', 0.161376953125), ('artiment', 0.16064453125), ('渲', 0.1597900390625), ('станбул', 0.156982421875)], 36: [('iquen', 0.147216796875), ('SED', 0.139892578125), (' щаб', 0.1370849609375), ('CPTR', 0.1361083984375), ('STRU', 0.1326904296875)], 44: [('SIL', 0.1800537109375), (' SIL', 0.1749267578125), ('gather', 0.1683349609375), ('тев', 0.1671142578125), ('丸', 0.1640625)], 61: [('чинали', 0.38720703125), ('jeta', 0.380615234375), ('asch', 0.365478515625), ('Окръг', 0.358642578125), ('ctree', 0.356201171875)], 62: [('ocou', 0.369873046875), ('ousk', 0.36279296875), ('�', 0.362060546875), (' тя', 0.359130859375), (' Asi', 0.3583984375)]}, 3: {10: [('зирани', 0.1688232421875), ('asset', 0.16748046875), ('\\\\,,', 0.1669921875), ('�起', 0.166748046875), ('�', 0.1650390625)], 25: [('��', 0.343017578125), ('iceless', 0.291015625), ('aptop', 0.257568359375), ('%</', 0.2490234375), ('onical', 0.24853515625)], 32: [('fons', 0.310791015625), ('мисъл', 0.266357421875), ('imos', 0.264892578125), (' manus', 0.263916015625), ('AGR', 0.26123046875)], 44: [('entric', 0.1771240234375), ('liction', 0.1715087890625), ('tically', 0.1680908203125), ('tical', 0.15576171875), ('ollary', 0.1551513671875)], 53: [('ewrite', 0.7158203125), ('ракия', 0.70556640625), ('ascade', 0.69921875), ('ashian', 0.6982421875), ('技', 0.6865234375)], 63: [(' Lus', 0.2320556640625), ('ODY', 0.220947265625), ('дев', 0.2197265625), ('azzo', 0.2174072265625), ('oxygen', 0.20751953125)]}, 19: {11: [(' спра', 0.17919921875), ('wml', 0.1763916015625), ('ausen', 0.1649169921875), ('OFF', 0.1639404296875), (' graus', 0.1619873046875)], 18: [('OMET', 0.096923828125), ('THON', 0.0902099609375), ('ospace', 0.088134765625), ('encar', 0.08074951171875), ('orthand', 0.08056640625)], 21: [('enti', 0.328125), ('ряд', 0.301025390625), ('raq', 0.247314453125), ('izens', 0.2454833984375), ('quam', 0.236328125)], 39: [('ifests', 0.434814453125), ('АЩ', 0.431884765625), ('ixen', 0.40966796875), ('itelist', 0.384765625), ('endres', 0.37939453125)], 40: [('imental', 0.09515380859375), ('vid', 0.08343505859375), ('tils', 0.075927734375), ('ус', 0.07391357421875), ('swick', 0.07330322265625)], 43: [('rnd', 0.50732421875), ('IFE', 0.4990234375), ('4', 0.474853515625), (' Meeting', 0.460693359375), ('fir', 0.456298828125)]}, 7: {16: [('irons', 0.1129150390625), ('paper', 0.10858154296875), ('arden', 0.10345458984375), ('ulsion', 0.10125732421875), ('plain', 0.10028076171875)], 20: [('handles', 0.2181396484375), ('pols', 0.210205078125), ('WIRE', 0.208984375), (' numerus', 0.1915283203125), ('ibar', 0.1904296875)], 30: [('anwhile', 0.36279296875), ('pend', 0.337890625), ('ATERIAL', 0.3251953125), ('ител', 0.32470703125), ('icense', 0.3173828125)], 36: [('畴', 0.132568359375), ('izer', 0.11566162109375), ('onymous', 0.109375), (' Design', 0.10760498046875), ('iked', 0.10748291015625)], 56: [('urable', 0.361572265625), ('cco', 0.32568359375), ('arrows', 0.3173828125), ('уди', 0.31640625), ('endem', 0.298095703125)], 60: [('wick', 0.255615234375), (' Ant', 0.2471923828125), ('感', 0.2391357421875), (' ', 0.2376708984375), (' Le', 0.2298583984375)]}, 8: {16: [('кува', 0.1661376953125), ('givings', 0.151611328125), ('amarca', 0.142578125), ('drom', 0.139404296875), ('джо', 0.135498046875)], 20: [('idget', 0.65673828125), ('ineq', 0.5673828125), ('uncher', 0.55419921875), ('зин', 0.5419921875), ('ensi', 0.5302734375)], 21: [('ODO', 0.64794921875), ('artz', 0.62939453125), ('odo', 0.62109375), ('架', 0.59765625), ('残', 0.59033203125)], 39: [('ose', 0.16259765625), ('icate', 0.1534423828125), (' човека', 0.1492919921875), ('тере', 0.1490478515625), ('inari', 0.145751953125)], 56: [('кор', 0.35498046875), ('Deriv', 0.321533203125), ('urs', 0.318115234375), ('�乐', 0.3076171875), (' Para', 0.3017578125)], 60: [('erb', 0.051483154296875), ('eral', 0.050811767578125), ('MD', 0.04791259765625), ('ahler', 0.047882080078125), ('bolt', 0.044525146484375)]}, 0: {19: [('驱', 0.0152587890625), ('цар', 0.0152130126953125), ('微商', 0.01468658447265625), ('algia', 0.01446533203125), ('arien', 0.0139617919921875)], 27: [('e', 0.024749755859375), ('k', 0.024658203125), ('0', 0.0246124267578125), ('8', 0.02435302734375), ('em', 0.0243377685546875)], 29: [('tres', 0.0102996826171875), ('ymes', 0.01009368896484375), ('бя', 0.00946044921875), ('=\"../../../../../../../../', 0.00936126708984375), ('ovn', 0.00907135009765625)], 45: [('яна', 1.5361328125), (' препратки', 1.47265625), ('andes', 1.4580078125), ('肋', 1.4267578125), ('ян', 1.392578125)], 48: [('ittings', 0.04034423828125), ('肋', 0.03955078125), ('plural', 0.039276123046875), ('INSEE', 0.0386962890625), ('ames', 0.03765869140625)], 63: [('фра', 0.14111328125), ('Layer', 0.1373291015625), ('ueren', 0.1363525390625), ('resh', 0.1339111328125), (' Mis', 0.1312255859375)]}}\n",
      "Shared expert predictions: [[('asym', 0.233154296875), ('ERIC', 0.2283935546875), ('根本上', 0.2271728515625), ('��', 0.2205810546875), ('estres', 0.214599609375)], [('ranslate', 0.59375), ('LOB', 0.5732421875), ('urada', 0.5400390625), ('upy', 0.493408203125), ('xit', 0.462890625)], [('开出', 0.52294921875), ('ROL', 0.509765625), ('ORM', 0.484619140625), (' Nic', 0.481201171875), ('ERA', 0.47900390625)], [('bed', 0.5712890625), ('ე', 0.56982421875), ('подоб', 0.5556640625), ('プ', 0.5478515625), ('GR', 0.5283203125)], [('印', 0.50830078125), (' Regard', 0.5029296875), ('】【', 0.48779296875), ('мпа', 0.4794921875), ('�乐', 0.457763671875)], [('adera', 0.499755859375), ('terns', 0.487060546875), (' семейство', 0.4443359375), ('adam', 0.4248046875), ('вода', 0.404541015625)], [('擦拭', 0.5712890625), ('adera', 0.54296875), ('май', 0.53271484375), ('alts', 0.469482421875), ('overl', 0.458740234375)], [('onis', 0.6181640625), (' stat', 0.60986328125), (' Estat', 0.58251953125), ('rens', 0.58154296875), ('kle', 0.5732421875)], [('fos', 0.62109375), ('уа', 0.6064453125), (' txqueuelen', 0.59375), (' GoString', 0.57763671875), ('лю', 0.56494140625)], [('нома', 0.4609375), ('BON', 0.43994140625), ('ssf', 0.429443359375), ('LER', 0.427978515625), ('LK', 0.421630859375)], [('CLUD', 0.458251953125), ('десе', 0.44189453125), ('工', 0.439208984375), (' him', 0.435546875), ('rada', 0.426513671875)], [('цата', 0.491455078125), ('шат', 0.447021484375), ('olat', 0.438720703125), ('ront', 0.436767578125), ('Тя', 0.433349609375)], [('erci', 0.61474609375), ('教', 0.603515625), ('玩的', 0.56982421875), ('ostei', 0.55078125), ('玩', 0.54833984375)], [('CDCD', 0.58251953125), ('CDF', 0.55419921875), ('vinced', 0.54248046875), ('lad', 0.53759765625), ('cd', 0.52392578125)], [(' s', 0.716796875), ('uve', 0.55126953125), (' squ', 0.5361328125), ('lpr', 0.53369140625), ('въ', 0.53369140625)], [('золю', 0.74853515625), ('ockey', 0.73779296875), ('unknownFields', 0.72900390625), ('schild', 0.7255859375), ('ersal', 0.71826171875)], [('utica', 0.426025390625), ('nech', 0.402587890625), ('footnot', 0.38720703125), ('esri', 0.385498046875), ('arten', 0.384033203125)], [('CCR', 0.55908203125), (' domestic', 0.55078125), ('WER', 0.54150390625), ('CRS', 0.5146484375), ('UTES', 0.49951171875)], [('jocs', 0.82861328125), ('tessa', 0.8193359375), ('Strunz', 0.8154296875), ('FieldLocation', 0.80029296875), ('MATH', 0.77783203125)], [('misc', 0.5322265625), ('dua', 0.48974609375), ('antar', 0.46923828125), ('overed', 0.465087890625), ('реди', 0.463134765625)], [('础', 0.64892578125), ('��', 0.599609375), ('\\xa0v', 0.5947265625), ('teres', 0.58935546875), ('pear', 0.546875)], [(' CTx', 0.7470703125), ('础', 0.69482421875), ('urat', 0.6435546875), ('escenari', 0.630859375), ('Llista', 0.619140625)]]\n",
      "\n",
      "MoE Layer 7:\n",
      "Selected experts: [[21, 17, 55, 53, 45, 12], [55, 33, 44, 11, 15, 9], [9, 15, 55, 44, 40, 33], [9, 55, 62, 3, 15, 40], [51, 9, 7, 4, 5, 55], [15, 8, 19, 9, 55, 1], [44, 14, 60, 2, 11, 9], [37, 38, 9, 55, 32, 47], [9, 37, 38, 40, 55, 47], [9, 16, 56, 57, 44, 55], [57, 49, 59, 62, 37, 63], [62, 57, 33, 20, 41, 49], [8, 62, 41, 24, 21, 20], [57, 18, 20, 56, 62, 33], [39, 28, 12, 37, 49, 61], [23, 37, 49, 22, 44, 9], [23, 21, 40, 53, 20, 1], [21, 57, 62, 44, 53, 27], [44, 52, 62, 56, 57, 27], [20, 18, 62, 52, 33, 23], [18, 20, 62, 41, 45, 63], [8, 19, 24, 41, 59, 20]]\n",
      "Expert weights: [[0.041046142578125, 0.319091796875, 0.032928466796875, 0.0279388427734375, 0.0304107666015625, 0.0255889892578125], [0.2529296875, 0.1153564453125, 0.0948486328125, 0.052703857421875, 0.0478515625, 0.041107177734375], [0.172607421875, 0.12335205078125, 0.2386474609375, 0.037109375, 0.023773193359375, 0.0204010009765625], [0.10260009765625, 0.15283203125, 0.061126708984375, 0.092529296875, 0.0684814453125, 0.052764892578125], [0.17041015625, 0.06414794921875, 0.09423828125, 0.08251953125, 0.0596923828125, 0.047119140625], [0.1697998046875, 0.1478271484375, 0.09356689453125, 0.0650634765625, 0.04949951171875, 0.047698974609375], [0.0875244140625, 0.0799560546875, 0.079345703125, 0.075439453125, 0.06866455078125, 0.0634765625], [0.210205078125, 0.10491943359375, 0.07958984375, 0.0653076171875, 0.060882568359375, 0.056243896484375], [0.08465576171875, 0.11798095703125, 0.08502197265625, 0.053497314453125, 0.0692138671875, 0.045562744140625], [0.086669921875, 0.04217529296875, 0.042755126953125, 0.1298828125, 0.045806884765625, 0.0416259765625], [0.182861328125, 0.09808349609375, 0.0787353515625, 0.044158935546875, 0.04180908203125, 0.025726318359375], [0.1141357421875, 0.08648681640625, 0.06573486328125, 0.052032470703125, 0.051849365234375, 0.045166015625], [0.133544921875, 0.11676025390625, 0.068115234375, 0.050994873046875, 0.046844482421875, 0.04248046875], [0.0762939453125, 0.1458740234375, 0.11767578125, 0.076904296875, 0.12188720703125, 0.039886474609375], [0.104736328125, 0.09100341796875, 0.08367919921875, 0.06805419921875, 0.06689453125, 0.06427001953125], [0.072265625, 0.058990478515625, 0.04388427734375, 0.042633056640625, 0.037200927734375, 0.036773681640625], [0.1422119140625, 0.077392578125, 0.04437255859375, 0.035614013671875, 0.0297698974609375, 0.0297393798828125], [0.2958984375, 0.1224365234375, 0.04852294921875, 0.03594970703125, 0.0307769775390625, 0.0306549072265625], [0.1182861328125, 0.058319091796875, 0.043731689453125, 0.0640869140625, 0.1259765625, 0.042755126953125], [0.10467529296875, 0.10345458984375, 0.1351318359375, 0.045989990234375, 0.041107177734375, 0.03729248046875], [0.1129150390625, 0.06744384765625, 0.057891845703125, 0.08245849609375, 0.06451416015625, 0.042388916015625], [0.1787109375, 0.08642578125, 0.0703125, 0.05596923828125, 0.04986572265625, 0.04595947265625]]\n",
      "Combined output tokens: [[('andes', 0.25830078125), (' място', 0.250244140625), ('бела', 0.2479248046875), ('>(<', 0.2476806640625), ('apor', 0.22900390625)], [('完', 0.984375), ('部长', 0.94775390625), ('CUS', 0.939453125), ('ilet', 0.900390625), ('striped', 0.8798828125)], [('fons', 1.478515625), ('etus', 1.455078125), ('сем', 1.443359375), ('决', 1.34375), ('�', 1.3369140625)], [('阿根', 1.072265625), ('Cci', 1.0498046875), ('Endpoints', 1.01953125), ('imiter', 1.0146484375), ('бю', 0.9931640625)], [('oyo', 1.0751953125), ('isto', 1.0732421875), (' OC', 1.0185546875), ('uel', 1.0078125), ('uera', 0.99560546875)], [('PAD', 1.1630859375), ('бю', 1.1083984375), ('逻', 1.1005859375), ('лира', 1.095703125), ('eres', 1.0654296875)], [('OTO', 0.95947265625), (' apostrophe', 0.927734375), ('Alv', 0.9228515625), ('тон', 0.91796875), ('omia', 0.90771484375)], [('деля', 1.455078125), ('followed', 1.44140625), ('{}{', 1.388671875), ('ilk', 1.3662109375), ('rtimes', 1.3349609375)], [('interests', 0.89990234375), ('BUF', 0.85205078125), ('cada', 0.8486328125), ('卜', 0.84423828125), ('郎', 0.84228515625)], [(' C', 0.77978515625), ('ulton', 0.76708984375), (' US', 0.75439453125), ('кали', 0.75390625), ('ieft', 0.7294921875)], [(' c', 1.3251953125), (' n', 1.310546875), (' CP', 1.2548828125), (' C', 1.2001953125), (' ', 1.1591796875)], [(' (', 0.8408203125), (' Pro', 0.8408203125), ('reen', 0.82275390625), (' Fres', 0.80224609375), ('Pro', 0.79052734375)], [('amf', 1.517578125), (' g', 1.4619140625), ('�', 1.3759765625), ('loop', 1.361328125), ('出不穷', 1.345703125)], [('��', 1.6005859375), ('lides', 1.3251953125), ('стен', 1.1826171875), ('itiu', 1.107421875), ('рица', 1.099609375)], [('фове', 1.03515625), ('$\\\\%', 0.9111328125), ('屋', 0.9072265625), (' taste', 0.896484375), ('ourced', 0.88623046875)], [('тари', 0.939453125), ('旁', 0.9306640625), ('vee', 0.921875), ('Passphrase', 0.896484375), ('oles', 0.892578125)], [(' min', 0.69677734375), ('deleg', 0.65771484375), ('CUS', 0.64990234375), (' c', 0.64306640625), ('asset', 0.6376953125)], [('un', 1.3173828125), ('0', 1.283203125), ('9', 1.1748046875), ('ians', 1.171875), ('re', 1.1630859375)], [('Open', 1.2646484375), ('撒', 1.263671875), ('yg', 1.2529296875), ('open', 1.2529296875), ('哥', 1.2216796875)], [('inned', 0.9326171875), ('olate', 0.8935546875), ('NodeType', 0.8447265625), ('enys', 0.841796875), ('рио', 0.82080078125)], [('nos', 0.9951171875), ('�', 0.9873046875), ('ην', 0.927734375), ('maintainer', 0.919921875), (' RM', 0.904296875)], [('稣', 1.15625), ('ilst', 1.0888671875), ('�', 1.0361328125), ('osion', 1.03125), ('阱', 1.015625)]]\n",
      "Expert predictions by position: {5: {1: [('hores', 0.05059814453125), ('urai', 0.04998779296875), ('8', 0.049346923828125), ('сау', 0.049285888671875), ('ordon', 0.048797607421875)], 8: [('omorf', 0.454833984375), ('piny', 0.401123046875), ('DIF', 0.400146484375), ('jas', 0.396240234375), ('alus', 0.390869140625)], 9: [('汇', 0.2322998046875), (' remarc', 0.2135009765625), ('CAS', 0.2100830078125), ('тива', 0.209228515625), (' terc', 0.204345703125)], 15: [(' Гър', 0.70166015625), ('FieldLocation', 0.623046875), ('кър', 0.6123046875), ('дото', 0.60302734375), ('LIED', 0.56640625)], 19: [('хай', 0.404541015625), (' Бро', 0.370361328125), ('obr', 0.361328125), ('ssic', 0.33642578125), ('作品内容', 0.3349609375)], 55: [(',', 0.037628173828125), (' -', 0.03759765625), ('знание', 0.036773681640625), (' d', 0.03643798828125), ('.', 0.0352783203125)]}, 16: {1: [('PIO', 0.1597900390625), ('egrad', 0.1475830078125), ('stic', 0.1383056640625), ('astic', 0.13720703125), ('DI', 0.1351318359375)], 20: [('ilos', 0.16162109375), ('ibol', 0.1575927734375), ('profileId', 0.154052734375), ('NOP', 0.15283203125), ('staking', 0.1513671875)], 21: [('wered', 0.145263671875), ('�', 0.1329345703125), ('普', 0.11981201171875), (' t', 0.11907958984375), (' Dun', 0.1171875)], 23: [('id', 0.42236328125), ('h', 0.41650390625), ('als', 0.416259765625), ('j', 0.4130859375), ('ere', 0.408935546875)], 40: [('usta', 0.0843505859375), ('urst', 0.0828857421875), ('рий', 0.0791015625), ('рии', 0.07440185546875), ('hea', 0.07061767578125)], 53: [('AtA', 0.08465576171875), ('ъри', 0.0771484375), ('hfil', 0.07476806640625), ('ained', 0.07373046875), ('писани', 0.07373046875)]}, 6: {2: [(' copy', 0.288818359375), ('妊', 0.28759765625), ('��', 0.275390625), (' Copy', 0.259521484375), (' COPY', 0.2509765625)], 9: [(' appar', 0.192138671875), ('peta', 0.1907958984375), (' Tenen', 0.18603515625), (' Burgos', 0.160400390625), ('�', 0.1566162109375)], 11: [('alfabet', 0.1724853515625), ('autora', 0.1405029296875), ('isoft', 0.1282958984375), ('ienda', 0.12396240234375), ('gency', 0.118896484375)], 14: [('圾', 0.32568359375), ('АЩ', 0.31982421875), ('dal', 0.3095703125), ('apunov', 0.2919921875), ('��', 0.291015625)], 44: [('enery', 0.226806640625), ('业主', 0.1846923828125), (' Конрад', 0.1776123046875), ('ener', 0.1737060546875), ('ason', 0.1715087890625)], 60: [('ФК', 0.399658203125), ('ube', 0.36865234375), ('uari', 0.313232421875), ('PROT', 0.303466796875), ('fem', 0.2958984375)]}, 3: {3: [('ловия', 0.296875), ('поред', 0.287353515625), ('удо', 0.28076171875), ('ariidae', 0.277099609375), ('шан', 0.273193359375)], 9: [('zeb', 0.54931640625), ('inkel', 0.5439453125), (' птица', 0.54345703125), (' inaugurat', 0.54248046875), ('oso', 0.53955078125)], 15: [('役', 0.48583984375), ('bils', 0.481201171875), ('batim', 0.449462890625), ('tols', 0.445068359375), ('UTE', 0.439453125)], 40: [('нев', 0.2137451171875), ('ivn', 0.1898193359375), ('нет', 0.1884765625), (' lliure', 0.1884765625), ('ologne', 0.1778564453125)], 55: [('oyer', 0.1302490234375), ('amo', 0.12353515625), ('fila', 0.12030029296875), (' redu', 0.11700439453125), ('rue', 0.11541748046875)], 62: [('тъм', 0.5615234375), ('istram', 0.55712890625), ('ector', 0.49267578125), (' Humblot', 0.48828125), ('empat', 0.477294921875)]}, 4: {4: [('系数', 0.32470703125), (' GTEST', 0.29638671875), ('咽', 0.28857421875), ('IRST', 0.287841796875), ('utics', 0.281494140625)], 5: [('ources', 0.1575927734375), ('taw', 0.1553955078125), (' тит', 0.1544189453125), (' Maxim', 0.1497802734375), (' Marg', 0.1455078125)], 7: [('+}', 0.2315673828125), ('FieldLocation', 0.2296142578125), ('libreoffice', 0.2271728515625), ('лата', 0.2257080078125), ('ationals', 0.224853515625)], 9: [('ren', 0.2083740234375), ('жду', 0.1998291015625), ('dba', 0.18017578125), ('rene', 0.177001953125), (' OMIT', 0.169677734375)], 51: [('isto', 0.68994140625), ('holst', 0.58447265625), ('SEND', 0.56298828125), ('fax', 0.5576171875), ('\\\\!\\\\!\\\\!', 0.544921875)], 55: [('inary', 0.1959228515625), (' axes', 0.1866455078125), (' Panel', 0.175048828125), ('arel', 0.1719970703125), ('verted', 0.171630859375)]}, 12: {8: [('tua', 0.5673828125), ('cassiopeia', 0.54443359375), ('phins', 0.517578125), ('strain', 0.51513671875), ('ibaba', 0.5078125)], 20: [(' inactives', 0.25927734375), ('хал', 0.254150390625), ('kit', 0.24853515625), ('=</', 0.24658203125), ('бри', 0.2393798828125)], 21: [(' Dels', 0.170166015625), ('orters', 0.1641845703125), ('urst', 0.14501953125), ('�', 0.1435546875), ('sover', 0.1380615234375)], 24: [(' plung', 0.1881103515625), ('odies', 0.178955078125), ('ughed', 0.1754150390625), ('ointers', 0.175048828125), ('хал', 0.1693115234375)], 41: [('urses', 0.21826171875), ('лото', 0.17822265625), ('̀', 0.176025390625), ('asca', 0.1729736328125), ('лизира', 0.1728515625)], 62: [('以上文章内容', 0.1512451171875), (' тит', 0.1478271484375), ('pect', 0.1475830078125), ('StateException', 0.1400146484375), ('lette', 0.1387939453125)]}, 21: {8: [('loops', 1.1005859375), (' g', 1.0830078125), ('COME', 1.0712890625), ('loop', 1.052734375), ('rack', 1.017578125)], 19: [('通', 0.232177734375), ('uis', 0.2301025390625), (' stocks', 0.228759765625), ('quisition', 0.22607421875), ('duk', 0.223388671875)], 20: [('бул', 0.11273193359375), ('върх', 0.10711669921875), ('беле', 0.1060791015625), ('动作', 0.1060791015625), ('activate', 0.10357666015625)], 24: [('icae', 0.252197265625), ('ебсайт', 0.2496337890625), ('ifices', 0.248779296875), ('asters', 0.244873046875), ('ANNEL', 0.24365234375)], 41: [('годишна', 0.2030029296875), ('OMAS', 0.202392578125), ('irit', 0.1986083984375), ('дата', 0.197998046875), ('istros', 0.1947021484375)], 59: [('хрид', 0.1822509765625), ('andest', 0.1636962890625), ('ейнт', 0.1632080078125), ('olom', 0.15869140625), ('enciat', 0.1568603515625)]}, 1: {9: [('ServiceClient', 0.22216796875), ('发了', 0.2191162109375), ('Assume', 0.2159423828125), ('breaker', 0.2135009765625), ('мал', 0.2130126953125)], 11: [('erity', 0.2200927734375), ('offee', 0.2169189453125), ('allel', 0.2095947265625), ('amely', 0.20361328125), ('ruck', 0.2008056640625)], 15: [('урни', 0.2626953125), ('голя', 0.2381591796875), ('Rius', 0.2239990234375), ('neres', 0.21826171875), ('bigarray', 0.2158203125)], 33: [('curs', 0.216064453125), ('amat', 0.2064208984375), ('innati', 0.192626953125), ('吸', 0.18994140625), ('皮质', 0.1859130859375)], 44: [('защи', 0.88671875), ('ygon', 0.84130859375), ('IGO', 0.7919921875), ('igon', 0.75830078125), ('openc', 0.7529296875)], 55: [('ocode', 0.190673828125), ('isible', 0.1883544921875), ('UBE', 0.1827392578125), ('тнография', 0.182373046875), ('долф', 0.1817626953125)]}, 2: {9: [(' lo', 0.11468505859375), (' pe', 0.10614013671875), ('九', 0.10296630859375), ('ager', 0.10260009765625), ('统', 0.1019287109375)], 15: [('��', 0.150634765625), ('дев', 0.141845703125), ('角的', 0.1256103515625), ('冲击', 0.12353515625), ('рав', 0.12335205078125)], 33: [('лищ', 0.1104736328125), ('uent', 0.1033935546875), (' SMBus', 0.10333251953125), ('次于', 0.10198974609375), ('лище', 0.10150146484375)], 40: [('Gre', 0.1961669921875), (' Gre', 0.1917724609375), ('作品内容', 0.1776123046875), (' Lib', 0.1737060546875), (' Roger', 0.17236328125)], 44: [('рита', 0.1614990234375), ('撒', 0.1572265625), ('play', 0.1566162109375), ('@', 0.153076171875), ('DM', 0.1510009765625)], 55: [('�', 0.94140625), ('тв', 0.89453125), ('_{_{', 0.859375), ('icus', 0.82763671875), ('呼', 0.80908203125)]}, 7: {9: [('мански', 0.09765625), ('ROP', 0.09442138671875), ('Sax', 0.09442138671875), ('лд', 0.0943603515625), (' Сръб', 0.09344482421875)], 32: [('anell', 0.25341796875), ('上火', 0.250244140625), ('igor', 0.2325439453125), ('iada', 0.2254638671875), ('锁定', 0.224609375)], 37: [('зон', 1.1298828125), ('followed', 1.0439453125), ('eqref', 1.0439453125), (' followed', 1.0244140625), ('края', 0.99072265625)], 38: [('ца', 0.265869140625), (' aparell', 0.2587890625), ('pica', 0.258544921875), ('WIRE', 0.25048828125), ('-+----------------', 0.2481689453125)], 47: [(' бун', 0.1314697265625), ('illard', 0.12396240234375), ('enges', 0.12005615234375), (' дове', 0.11614990234375), ('кони', 0.1136474609375)], 55: [('anmar', 0.068359375), ('Lcom', 0.06707763671875), ('ubes', 0.0645751953125), ('回合', 0.06427001953125), ('$.\\\\', 0.06402587890625)]}, 8: {9: [(' quo', 0.18603515625), ('ovir', 0.1849365234375), ('ucion', 0.1749267578125), (' Patrimoni', 0.1697998046875), ('包', 0.1690673828125)], 37: [('ered', 0.1876220703125), ('ders', 0.1715087890625), ('ore', 0.170166015625), ('wed', 0.161865234375), (' Brew', 0.155517578125)], 38: [('istable', 0.2493896484375), ('нау', 0.2484130859375), ('��', 0.2469482421875), ('ierge', 0.233642578125), ('фера', 0.2205810546875)], 40: [('Platform', 0.12408447265625), ('itel', 0.12017822265625), ('гру', 0.1185302734375), ('ulants', 0.1114501953125), ('ipse', 0.11077880859375)], 47: [('1', 0.087890625), ('0', 0.074951171875), ('fi', 0.07330322265625), (' m', 0.07293701171875), ('8', 0.07183837890625)], 55: [('цяло', 0.4833984375), ('�', 0.46435546875), ('ncep', 0.4443359375), (' Nostra', 0.43798828125), ('мара', 0.435791015625)]}, 9: {9: [('pedia', 0.410400390625), ('editable', 0.39208984375), ('��', 0.380126953125), ('Editable', 0.372314453125), ('rema', 0.3681640625)], 16: [(' comparison', 0.109130859375), ('ta', 0.10894775390625), ('дан', 0.10272216796875), (' neut', 0.10186767578125), (' compar', 0.1007080078125)], 44: [('影子', 0.293212890625), ('REST', 0.28955078125), ('querySelectorAll', 0.289306640625), ('raine', 0.287353515625), ('塔', 0.28564453125)], 55: [('eque', 0.1788330078125), ('inary', 0.1636962890625), ('̀', 0.15869140625), ('itor', 0.1573486328125), ('atoris', 0.155517578125)], 56: [('пет', 0.214599609375), ('zar', 0.211669921875), ('oad', 0.2113037109375), ('дей', 0.2060546875), (' мер', 0.202880859375)], 57: [(' n', 0.43701171875), ('效', 0.3515625), ('�', 0.341796875), ('东西', 0.2958984375), (' X', 0.295166015625)]}, 15: {9: [('Acl', 0.20263671875), (' Купа', 0.198486328125), ('enys', 0.180419921875), ('доб', 0.17919921875), ('范', 0.176513671875)], 22: [('ons', 0.1871337890625), (' neutral', 0.179931640625), ('挪', 0.176025390625), ('多少', 0.1748046875), ('ence', 0.16748046875)], 23: [('wire', 0.10308837890625), (' Wire', 0.1011962890625), ('igon', 0.097900390625), ('巡视', 0.09619140625), ('廓', 0.0950927734375)], 37: [('mber', 0.390869140625), ('кони', 0.368408203125), ('uls', 0.352783203125), ('aler', 0.3447265625), (' desn', 0.32275390625)], 44: [('芦', 0.247802734375), ('org', 0.2364501953125), ('砂', 0.22412109375), ('指的是', 0.2222900390625), ('/.', 0.214599609375)], 49: [('висимо', 0.1551513671875), (' {&', 0.1429443359375), ('FrameworkBundle', 0.13671875), ('стве', 0.1287841796875), ('alies', 0.12841796875)]}, 0: {12: [('кор', 0.0306549072265625), ('Община', 0.03009033203125), ('vider', 0.0261077880859375), ('regi', 0.025634765625), ('ductors', 0.0253448486328125)], 17: [('зми', 0.039581298828125), ('laf', 0.03717041015625), (' Observatory', 0.0361328125), ('icy', 0.034088134765625), ('надле', 0.03399658203125)], 21: [(' eaves', 0.0195465087890625), ('oulos', 0.01800537109375), ('{}_', 0.017974853515625), ('чник', 0.017242431640625), ('andes', 0.0172119140625)], 45: [('ръб', 0.224365234375), ('}{~', 0.2156982421875), ('canvi', 0.2122802734375), ('odatabase', 0.2081298828125), ('дън', 0.20556640625)], 53: [('肋', 0.033233642578125), ('胁', 0.031829833984375), ('MAX', 0.031280517578125), ('乡镇', 0.0306549072265625), ('чена', 0.0301055908203125)], 55: [('沉', 0.6630859375), ('striped', 0.60791015625), ('sign', 0.6044921875), ('判', 0.59423828125), ('品', 0.5927734375)]}, 14: {12: [('azzi', 0.2130126953125), ('Македония', 0.21240234375), ('ář', 0.20849609375), (' Berenguer', 0.2060546875), ('dered', 0.200927734375)], 28: [('passive', 0.3037109375), ('odox', 0.28369140625), ('uracy', 0.276123046875), ('民间', 0.26953125), ('POP', 0.267822265625)], 37: [('omorf', 0.1947021484375), ('ivamente', 0.1875), ('enial', 0.1851806640625), ('рас', 0.184326171875), ('ieras', 0.1805419921875)], 39: [('�乐', 0.52978515625), ('malink', 0.458984375), ('意的', 0.45458984375), ('фове', 0.439453125), ('tery', 0.4248046875)], 49: [('artes', 0.330810546875), ('dish', 0.3193359375), (' #', 0.296142578125), (' /', 0.289306640625), ('s', 0.288818359375)], 61: [('iento', 0.1690673828125), (' bas', 0.1614990234375), (' H', 0.1571044921875), ('IRE', 0.1563720703125), ('iente', 0.1484375)]}, 13: {18: [('ExternalTask', 0.448486328125), ('interopRequireDefault', 0.439697265625), (' paret', 0.423828125), ('sies', 0.423095703125), (' &\\\\\\\\', 0.37939453125)], 20: [('orov', 0.132568359375), ('heres', 0.12890625), ('());</', 0.128662109375), ('sid', 0.1258544921875), ('窗外', 0.122314453125)], 33: [('emu', 0.283447265625), (' terrestre', 0.243408203125), ('Alter', 0.237060546875), ('瓷', 0.2362060546875), ('atic', 0.2293701171875)], 56: [('THON', 0.09228515625), ('covery', 0.088623046875), ('idelines', 0.08685302734375), ('ogc', 0.08575439453125), ('ант', 0.0850830078125)], 57: [('oft', 0.411865234375), ('as', 0.4111328125), ('ители', 0.400634765625), ('bank', 0.389404296875), ('ows', 0.388671875)], 62: [('reen', 0.454345703125), ('lis', 0.3779296875), ('4', 0.362548828125), ('its', 0.36083984375), ('5', 0.34326171875)]}, 19: {18: [('iens', 0.78076171875), ('бере', 0.7177734375), ('meses', 0.7080078125), ('..\">', 0.68798828125), ('毅', 0.67041015625)], 20: [('ituds', 0.36962890625), ('ав', 0.34326171875), ('orov', 0.3427734375), ('主', 0.341552734375), (' Actual', 0.33984375)], 23: [('ALS', 0.349853515625), (' Тодоров', 0.34619140625), ('imen', 0.3388671875), ('坐', 0.323974609375), ('ума', 0.3203125)], 33: [(' bootloader', 0.059783935546875), ('eved', 0.058074951171875), (' \\\\\\\\[-', 0.057891845703125), ('dden', 0.05609130859375), ('槛', 0.05560302734375)], 52: [('uil', 0.1339111328125), ('estil', 0.12445068359375), ('ATIONAL', 0.12103271484375), (' remat', 0.12017822265625), ('CRIPT', 0.11962890625)], 62: [('outh', 0.53271484375), ('出不穷', 0.467041015625), ('amf', 0.4111328125), ('�', 0.409423828125), ('BUF', 0.3984375)]}, 20: {18: [('的热', 0.27099609375), ('irit', 0.252197265625), ('TRACE', 0.24755859375), ('hemer', 0.2449951171875), ('鉴', 0.2445068359375)], 20: [('oscript', 0.05072021484375), ('ране', 0.048187255859375), ('olit', 0.047119140625), ('Wi', 0.046875), ('Performed', 0.045806884765625)], 41: [('acters', 0.40771484375), ('agra', 0.343505859375), ('тивни', 0.34130859375), ('̀', 0.33837890625), ('́', 0.338134765625)], 45: [('eness', 0.0158538818359375), ('oro', 0.01401519775390625), ('imple', 0.0130615234375), ('ness', 0.01297760009765625), ('antrop', 0.0128936767578125)], 62: [('rament', 0.287353515625), ('umnes', 0.260986328125), ('ург', 0.2310791015625), ('rals', 0.230712890625), ('psfrag', 0.2264404296875)], 63: [('ful', 0.06573486328125), ('iated', 0.06463623046875), ('communic', 0.060699462890625), ('coni', 0.06024169921875), ('�', 0.05963134765625)]}, 11: {20: [('тра', 0.2452392578125), ('ridors', 0.2408447265625), (' negativa', 0.2371826171875), ('бри', 0.2322998046875), ('ха', 0.2308349609375)], 33: [('feller', 0.130126953125), ('enys', 0.118408203125), ('--\">', 0.11724853515625), ('侯', 0.1162109375), ('fffff', 0.11383056640625)], 41: [('ulosa', 0.273681640625), ('rador', 0.266357421875), ('estors', 0.262451171875), ('piter', 0.2587890625), ('хрид', 0.25341796875)], 49: [('copy', 0.12054443359375), (' Copy', 0.11981201171875), ('绽', 0.11676025390625), ('ffected', 0.11492919921875), ('dish', 0.11474609375)], 57: [('利物', 0.361328125), ('zul', 0.30810546875), ('sych', 0.29248046875), ('oof', 0.284912109375), ('PLIC', 0.28173828125)], 62: [(' поет', 0.1163330078125), ('phol', 0.11492919921875), ('ерт', 0.11309814453125), ('roups', 0.113037109375), ('consin', 0.11041259765625)]}, 17: {21: [('щина', 0.8125), ('uty', 0.6728515625), ('Aware', 0.65234375), ('ilers', 0.63671875), ('洗涤', 0.62060546875)], 27: [('YA', 0.1273193359375), ('ither', 0.1153564453125), ('zb', 0.1143798828125), ('Resource', 0.108154296875), ('ent', 0.107666015625)], 44: [('ose', 0.1845703125), ('лата', 0.17529296875), ('anguard', 0.1732177734375), ('ich', 0.1700439453125), ('季', 0.169677734375)], 53: [('pice', 0.0765380859375), ('arthen', 0.07586669921875), ('}||', 0.0693359375), ('\"><!--', 0.06878662109375), ('ighed', 0.0660400390625)], 57: [('anonymous', 0.82958984375), ('lop', 0.74609375), ('Anonymous', 0.7314453125), ('IFIED', 0.6953125), (' n', 0.68994140625)], 62: [('0', 0.52978515625), ('9', 0.51953125), ('4', 0.50830078125), ('5', 0.488525390625), ('6', 0.47998046875)]}, 18: {27: [('0', 0.1998291015625), ('1', 0.1844482421875), ('9', 0.175048828125), ('2', 0.1685791015625), ('6', 0.1641845703125)], 44: [('3', 0.54541015625), ('6', 0.54443359375), ('0', 0.5322265625), ('8', 0.52880859375), ('9', 0.51513671875)], 52: [('erry', 0.13037109375), ('inqu', 0.1207275390625), (' Palmar', 0.11822509765625), ('ORE', 0.11260986328125), ('entin', 0.1121826171875)], 56: [('enyes', 0.1676025390625), ('assau', 0.166015625), ('ombs', 0.1636962890625), ('oust', 0.156494140625), ('Formal', 0.153076171875)], 57: [('CPTR', 0.505859375), ('LOPT', 0.491943359375), (' продава', 0.4580078125), ('veau', 0.45751953125), ('OLEAN', 0.44189453125)], 62: [('ckel', 0.197509765625), ('lier', 0.15869140625), ('nce', 0.1563720703125), ('dera', 0.150634765625), (' bate', 0.147705078125)]}, 10: {37: [('хи', 0.10430908203125), ('omal', 0.103271484375), ('bla', 0.10272216796875), ('oux', 0.1002197265625), ('坝', 0.0982666015625)], 49: [('�乐', 0.255615234375), ('ynchronously', 0.2249755859375), ('delegate', 0.21337890625), ('ationally', 0.2120361328125), ('stad', 0.2066650390625)], 57: [('ennicke', 0.45751953125), (' g', 0.400634765625), ('seller', 0.39404296875), (' R', 0.372802734375), (' n', 0.3720703125)], 59: [(' ||', 0.27978515625), (',', 0.2783203125), (' n', 0.273681640625), ('ind', 0.26025390625), (' (', 0.2587890625)], 62: [('istram', 0.221435546875), ('тска', 0.198974609375), ('ango', 0.1978759765625), ('eses', 0.1937255859375), ('точни', 0.1900634765625)], 63: [('DUCT', 0.1361083984375), ('onet', 0.135498046875), ('lemany', 0.1341552734375), ('$\\\\%', 0.1263427734375), (' Pa', 0.1259765625)]}}\n",
      "Shared expert predictions: [[('立卡', 0.2318115234375), (' място', 0.20947265625), ('ikon', 0.2054443359375), ('opon', 0.204345703125), ('>(<', 0.2017822265625)], [('姗', 0.533203125), ('endres', 0.48974609375), (' consum', 0.47265625), (' lim', 0.459228515625), (' сце', 0.44580078125)], [('CCA', 0.5654296875), ('━━', 0.564453125), ('endr', 0.54931640625), ('сем', 0.53515625), ('PHA', 0.53466796875)], [('codep', 0.5986328125), ('ixa', 0.58251953125), ('вата', 0.57568359375), ('uja', 0.56494140625), (' Front', 0.5419921875)], [('AGO', 0.58740234375), ('所谓', 0.57763671875), (' GO', 0.556640625), ('ono', 0.55615234375), ('GO', 0.5478515625)], [('垃', 0.60107421875), ('cada', 0.59814453125), ('emples', 0.5869140625), ('克兰', 0.58642578125), ('pak', 0.5771484375)], [('8', 0.74169921875), ('3', 0.7236328125), ('4', 0.7216796875), ('тън', 0.71044921875), ('7', 0.6748046875)], [('lpr', 0.7060546875), ('act', 0.701171875), ('googleads', 0.65771484375), ('ducive', 0.65673828125), ('fin', 0.65478515625)], [('bol', 0.74169921875), ('гради', 0.67236328125), (' reference', 0.66943359375), ('汰', 0.6650390625), ('蜘', 0.6630859375)], [('辞', 0.66064453125), (' C', 0.57275390625), ('�', 0.56787109375), ('第二个', 0.54052734375), ('inn', 0.5302734375)], [('CCR', 0.7080078125), ('getC', 0.7060546875), ('PRB', 0.6611328125), ('光荣', 0.6484375), (' cn', 0.6396484375)], [('sea', 0.609375), ('poly', 0.5751953125), ('Ger', 0.57373046875), ('}{*', 0.564453125), ('上火', 0.56298828125)], [('mov', 0.6650390625), ('rita', 0.61083984375), ('蹭', 0.5908203125), ('GRect', 0.58837890625), ('可怜', 0.5654296875)], [('求', 0.71240234375), ('уа', 0.662109375), ('ERA', 0.62646484375), ('scheme', 0.60791015625), (' product', 0.60546875)], [('вата', 0.6259765625), (' \\\\;,', 0.61181640625), (' ladders', 0.6005859375), ('府', 0.59716796875), ('检', 0.59326171875)], [(' Зи', 0.7294921875), (' lordship', 0.7119140625), ('Passphrase', 0.69921875), ('旁', 0.69775390625), ('iov', 0.69775390625)], [(' c', 0.5478515625), (' e', 0.52001953125), (' ch', 0.46875), (' s', 0.451416015625), (' Land', 0.450927734375)], [('麒', 0.60693359375), ('uid', 0.60205078125), (' **', 0.59375), (' G', 0.58984375), ('MR', 0.57666015625)], [('se', 0.8134765625), ('un', 0.779296875), ('de', 0.77685546875), (' **', 0.75048828125), ('re', 0.7490234375)], [(' c', 0.521484375), (' d', 0.5078125), ('isely', 0.5029296875), (' s', 0.4970703125), ('re', 0.49267578125)], [('nos', 0.7724609375), ('RP', 0.7529296875), (' nos', 0.73974609375), (' Hath', 0.7255859375), (' Unified', 0.671875)], [('ovember', 0.76318359375), ('�', 0.7294921875), ('阱', 0.6845703125), ('Bear', 0.67919921875), ('\\xa0', 0.66650390625)]]\n",
      "\n",
      "MoE Layer 8:\n",
      "Selected experts: [[49, 62, 43, 44, 18, 35], [63, 49, 18, 17, 10, 0], [10, 17, 31, 1, 54, 33], [33, 1, 17, 27, 10, 15], [49, 33, 17, 48, 6, 59], [33, 1, 60, 10, 17, 31], [17, 20, 49, 47, 42, 33], [17, 3, 56, 52, 5, 11], [11, 26, 58, 3, 5, 40], [40, 1, 39, 7, 46, 17], [7, 57, 22, 27, 53, 1], [44, 53, 22, 7, 57, 12], [53, 22, 44, 12, 60, 25], [32, 22, 7, 25, 53, 24], [52, 51, 3, 56, 5, 28], [63, 11, 51, 58, 21, 3], [63, 14, 34, 12, 27, 30], [6, 58, 24, 44, 35, 1], [46, 22, 58, 63, 24, 1], [63, 36, 6, 22, 19, 38], [37, 36, 60, 53, 57, 12], [37, 36, 53, 54, 60, 19]]\n",
      "Expert weights: [[0.0306243896484375, 0.036163330078125, 0.251708984375, 0.031494140625, 0.0333251953125, 0.029052734375], [0.0653076171875, 0.040283203125, 0.059295654296875, 0.0501708984375, 0.217041015625, 0.037567138671875], [0.2186279296875, 0.12310791015625, 0.05206298828125, 0.046630859375, 0.0382080078125, 0.0374755859375], [0.13916015625, 0.05743408203125, 0.081298828125, 0.07330322265625, 0.133056640625, 0.03558349609375], [0.1917724609375, 0.1331787109375, 0.11322021484375, 0.05023193359375, 0.0478515625, 0.04058837890625], [0.0584716796875, 0.05999755859375, 0.302734375, 0.2081298828125, 0.08477783203125, 0.034271240234375], [0.0816650390625, 0.08709716796875, 0.184814453125, 0.060394287109375, 0.06817626953125, 0.0457763671875], [0.10943603515625, 0.1083984375, 0.10040283203125, 0.07684326171875, 0.0743408203125, 0.059326171875], [0.09869384765625, 0.05645751953125, 0.042572021484375, 0.048797607421875, 0.0838623046875, 0.041046142578125], [0.07415771484375, 0.06463623046875, 0.045684814453125, 0.0662841796875, 0.04534912109375, 0.04510498046875], [0.09039306640625, 0.0643310546875, 0.07769775390625, 0.07989501953125, 0.05828857421875, 0.045257568359375], [0.09356689453125, 0.08721923828125, 0.09674072265625, 0.079345703125, 0.0595703125, 0.05023193359375], [0.144287109375, 0.040924072265625, 0.1116943359375, 0.05035400390625, 0.04010009765625, 0.038604736328125], [0.28515625, 0.09295654296875, 0.087158203125, 0.047882080078125, 0.045074462890625, 0.03009033203125], [0.107421875, 0.064208984375, 0.061370849609375, 0.0579833984375, 0.050384521484375, 0.048126220703125], [0.058441162109375, 0.042266845703125, 0.044586181640625, 0.2322998046875, 0.03851318359375, 0.032470703125], [0.08367919921875, 0.07232666015625, 0.05267333984375, 0.048553466796875, 0.03497314453125, 0.0283203125], [0.0560302734375, 0.0628662109375, 0.07763671875, 0.05322265625, 0.045654296875, 0.04534912109375], [0.048614501953125, 0.0540771484375, 0.142822265625, 0.0411376953125, 0.034637451171875, 0.029876708984375], [0.05499267578125, 0.09210205078125, 0.042236328125, 0.038421630859375, 0.03363037109375, 0.032867431640625], [0.03472900390625, 0.05499267578125, 0.051971435546875, 0.17578125, 0.051513671875, 0.03375244140625], [0.0762939453125, 0.0430908203125, 0.126953125, 0.06475830078125, 0.1910400390625, 0.041839599609375]]\n",
      "Combined output tokens: [[('andes', 0.366455078125), ('obres', 0.34326171875), ('枕', 0.33203125), ('opon', 0.32275390625), ('缀', 0.3095703125)], [(' ar', 1.568359375), (' n', 1.4482421875), ('葫', 1.404296875), ('*,', 1.3974609375), (' l', 1.392578125)], [(' l', 1.7197265625), ('kem', 1.5205078125), ('зина', 1.51171875), ('ложи', 1.4658203125), (' counterpart', 1.380859375)], [(' A', 1.2548828125), ('TL', 1.1826171875), (' (', 1.171875), (' T', 1.16015625), (' ^', 1.142578125)], [('��', 2.16015625), ('oraci', 1.650390625), ('InitStruct', 1.6171875), ('esters', 1.54296875), ('arcelon', 1.4375)], [(' n', 2.240234375), ('n', 1.8662109375), ('LG', 1.8359375), ('stra', 1.833984375), ('/-', 1.826171875)], [('iado', 1.591796875), ('entric', 1.4462890625), ('徘', 1.4091796875), ('entic', 1.40625), ('yser', 1.388671875)], [('��', 1.6630859375), ('��', 1.4306640625), ('мейство', 1.384765625), (' conservador', 1.3828125), ('liminf', 1.380859375)], [('стики', 1.287109375), ('mdc', 1.125), ('ersonals', 1.1181640625), ('ceso', 1.1162109375), ('$\\\\%', 1.0537109375)], [('on', 0.72265625), ('lob', 0.705078125), ('召', 0.69287109375), ('1', 0.6728515625), (' s', 0.658203125)], [('etat', 1.0712890625), ('DebuggerNonUser', 1.0673828125), ('achs', 1.033203125), ('InitStruct', 0.96923828125), ('��', 0.9599609375)], [('UNT', 1.171875), ('Hits', 1.0244140625), ('无穷', 1.01171875), ('чина', 0.998046875), ('ET', 0.98388671875)], [('考', 1.5009765625), ('](-', 1.490234375), ('懿', 1.4638671875), ('达人', 1.4560546875), ('uffs', 1.427734375)], [('met', 2.296875), (' Met', 2.015625), ('par', 1.869140625), ('hered', 1.8310546875), ('坐', 1.8037109375)], [('hea', 0.9853515625), ('$\\\\%', 0.9765625), ('ATAB', 0.9345703125), ('ODE', 0.8798828125), ('.~(', 0.8759765625)], [('ATAB', 1.439453125), ('�乐', 1.3974609375), ('rotto', 1.34375), ('ources', 1.337890625), ('стира', 1.3212890625)], [(' n', 0.9306640625), (' mod', 0.92626953125), (' j', 0.91552734375), (' зи', 0.81396484375), (' J', 0.79443359375)], [('acam', 1.1005859375), ('тени', 1.076171875), ('quiera', 1.0751953125), ('轮', 1.0732421875), ('unta', 1.0517578125)], [(' Prats', 1.3388671875), ('inous', 1.3310546875), ('icum', 1.236328125), ('overy', 1.189453125), ('�', 1.158203125)], [('olta', 1.0224609375), ('oser', 1.0068359375), ('abant', 0.998046875), ('agoons', 0.966796875), ('ე', 0.9521484375)], [(' dimit', 1.3486328125), ('назна', 1.2587890625), ('водни', 1.1865234375), ('abant', 1.17578125), (' subfam', 1.16796875)], [('ivari', 1.318359375), ('enty', 1.2724609375), ('jats', 1.26171875), ('凭', 1.2568359375), ('anque', 1.2421875)]]\n",
      "Expert predictions by position: {1: {0: [('aic', 0.130126953125), ('anet', 0.1138916015625), ('quire', 0.11236572265625), ('itures', 0.1109619140625), (' Sets', 0.10858154296875)], 10: [(' ar', 1.2666015625), ('ложе', 1.220703125), (' prop', 1.169921875), ('@\",', 1.1416015625), (' Sto', 1.1298828125)], 17: [('orra', 0.41748046875), ('hiba', 0.408447265625), ('顾', 0.398193359375), ('APA', 0.383544921875), ('维亚', 0.38330078125)], 18: [('9', 0.0263519287109375), ('1', 0.0245208740234375), ('0', 0.0243377685546875), ('ndon', 0.0233917236328125), ('3', 0.02325439453125)], 49: [('Magent', 0.7724609375), ('inclo', 0.73486328125), ('rmk', 0.72607421875), ('��', 0.7060546875), ('SPHIN', 0.6962890625)], 63: [('malink', 0.270751953125), ('qua', 0.27001953125), ('vation', 0.268310546875), ('FrameworkBundle', 0.26220703125), ('omac', 0.2587890625)]}, 2: {1: [('侣', 0.2237548828125), ('yss', 0.211181640625), ('lemen', 0.203857421875), ('://$', 0.199462890625), (' mestres', 0.1956787109375)], 10: [('cona', 0.73291015625), ('ложе', 0.666015625), ('зин', 0.65234375), ('@\",', 0.64990234375), ('initat', 0.63330078125)], 17: [('�', 0.349365234375), (' instalado', 0.3349609375), (' quina', 0.328369140625), ('antar', 0.326416015625), ('撒', 0.322509765625)], 31: [('дар', 0.11541748046875), ('rels', 0.11419677734375), ('莲花', 0.1104736328125), ('茅', 0.10052490234375), ('teres', 0.0989990234375)], 33: [('抄', 0.65625), ('FT', 0.53369140625), ('ses', 0.48828125), ('isms', 0.486328125), ('eties', 0.4833984375)], 54: [(' заба', 0.188720703125), ('indicat', 0.18701171875), ('etiqu', 0.1844482421875), ('echa', 0.1842041015625), ('еме', 0.18310546875)]}, 3: {1: [('日内与', 0.1207275390625), ('restant', 0.1138916015625), ('ajara', 0.1036376953125), ('ailability', 0.1033935546875), ('��', 0.10137939453125)], 10: [(' num', 0.978515625), ('XX', 0.94091796875), (' Mund', 0.87158203125), (' оба', 0.8369140625), (' into', 0.83642578125)], 15: [('几何', 0.11395263671875), ('ulles', 0.110107421875), ('istat', 0.1097412109375), ('ieck', 0.10516357421875), ('icina', 0.10369873046875)], 17: [('�', 0.6494140625), ('orra', 0.58740234375), ('ayo', 0.576171875), ('歧', 0.564453125), (' Llob', 0.5419921875)], 27: [('ertas', 0.057159423828125), (' vess', 0.055084228515625), ('ис', 0.0548095703125), ('Filed', 0.053924560546875), ('ogl', 0.053436279296875)], 33: [('��', 0.296142578125), ('ert', 0.282470703125), (' ~', 0.280517578125), (' Victor', 0.273681640625), ('旗', 0.270751953125)]}, 5: {1: [('生素', 0.145263671875), ('蹄', 0.1444091796875), ('orov', 0.142578125), ('ADN', 0.1365966796875), ('avall', 0.1348876953125)], 10: [(' ar', 1.390625), ('葫', 1.267578125), ('nip', 1.1748046875), (' st', 1.154296875), ('吃鸡', 1.1484375)], 17: [('dom', 0.11865234375), ('encia', 0.10577392578125), ('жо', 0.09539794921875), ('Dom', 0.09197998046875), ('ollers', 0.09161376953125)], 31: [('1', 0.279541015625), ('9', 0.264404296875), (' ', 0.26220703125), ('5', 0.235107421875), ('4', 0.23388671875)], 33: [('��', 1.1640625), ('ерт', 1.111328125), ('充', 0.92626953125), ('кали', 0.90869140625), ('чани', 0.90625)], 60: [('дъх', 0.2125244140625), ('Olot', 0.2109375), ('inari', 0.2086181640625), ('Съби', 0.2027587890625), ('ablement', 0.19970703125)]}, 9: {1: [('FW', 0.13427734375), ('uni', 0.1331787109375), ('akia', 0.129638671875), ('nex', 0.12091064453125), ('iff', 0.11993408203125)], 7: [('羊', 0.358154296875), ('容', 0.3251953125), ('iga', 0.3095703125), ('ilage', 0.296875), (' IR', 0.2939453125)], 17: [('�', 0.421630859375), ('ALSE', 0.41650390625), ('ighter', 0.397705078125), ('��', 0.38671875), ('ксел', 0.38623046875)], 39: [('2', 0.1668701171875), ('3', 0.1502685546875), ('1', 0.148681640625), ('5', 0.1463623046875), ('4', 0.1375732421875)], 40: [('esca', 0.141845703125), ('pera', 0.1380615234375), ('verter', 0.137451171875), ('ФК', 0.1368408203125), ('Окръг', 0.1363525390625)], 46: [('轴', 0.1043701171875), ('PET', 0.0965576171875), ('C', 0.095458984375), ('Home', 0.09332275390625), ('ancip', 0.09130859375)]}, 10: {1: [('ipo', 0.212158203125), ('жки', 0.193115234375), ('akia', 0.1925048828125), ('aggard', 0.1910400390625), ('@{}', 0.188720703125)], 7: [('bred', 0.2396240234375), ('不变', 0.23583984375), (' assumir', 0.218994140625), ('irons', 0.21728515625), ('uding', 0.21240234375)], 22: [('тат', 0.211181640625), (' SQ', 0.1961669921875), ('甚', 0.1959228515625), (' aC', 0.1861572265625), ('orithm', 0.181396484375)], 27: [(' Хол', 0.2215576171875), ('ERATED', 0.2120361328125), (' dio', 0.211669921875), ('目的', 0.2041015625), ('专', 0.1981201171875)], 53: [('](-', 0.224365234375), ('的日子', 0.2073974609375), ('дено', 0.2003173828125), ('нга', 0.199951171875), (' аб', 0.1978759765625)], 57: [('6', 0.2484130859375), ('9', 0.238037109375), ('5', 0.23193359375), ('1', 0.22412109375), ('效', 0.220947265625)]}, 17: {1: [('ajara', 0.16552734375), (' Херцеговина', 0.155517578125), ('тропи', 0.147216796875), ('modelVersion', 0.1456298828125), ('leman', 0.1444091796875)], 6: [('heses', 0.10028076171875), ('>@', 0.0963134765625), ('wiki', 0.0958251953125), ('пул', 0.093994140625), ('IDs', 0.09344482421875)], 24: [('反', 0.1036376953125), ('irie', 0.09466552734375), ('omo', 0.09033203125), (' conceit', 0.08929443359375), ('icho', 0.0880126953125)], 35: [('9', 0.0192718505859375), ('8', 0.0187530517578125), ('5', 0.01849365234375), ('7', 0.01837158203125), ('6', 0.0181884765625)], 44: [('经', 0.430908203125), ('unknownFields', 0.401123046875), ('obar', 0.396728515625), ('assic', 0.39501953125), ('undos', 0.394287109375)], 58: [('9', 0.4072265625), ('5', 0.386474609375), ('8', 0.359619140625), ('6', 0.3583984375), ('1', 0.353515625)]}, 18: {1: [('d', 0.231201171875), ('b', 0.2286376953125), ('ever', 0.22021484375), ('美的', 0.2177734375), (' ...', 0.216064453125)], 22: [('anship', 0.216552734375), ('apter', 0.187744140625), ('айнрих', 0.1700439453125), ('рои', 0.1654052734375), ('言', 0.157470703125)], 24: [('alem', 0.2301025390625), ('guien', 0.228759765625), ('上车', 0.228515625), (' DBCC', 0.215576171875), ('abat', 0.2152099609375)], 46: [('son', 0.177490234375), ('eixen', 0.1690673828125), ('dehyde', 0.166015625), ('8', 0.1644287109375), ('3', 0.162841796875)], 58: [('ogu', 0.1138916015625), (' съвмест', 0.10723876953125), ('全力以', 0.09814453125), ('abilitat', 0.09796142578125), ('romov', 0.0972900390625)], 63: [(' ', 0.71630859375), (' Med', 0.5361328125), (' [', 0.521484375), (' cos', 0.50439453125), (' scale', 0.48779296875)]}, 7: {3: [('незия', 0.26220703125), ('jecture', 0.2454833984375), ('ебсайт', 0.23779296875), ('��', 0.2357177734375), ('viously', 0.2332763671875)], 5: [('allel', 0.258056640625), ('��', 0.257568359375), ('ponible', 0.255615234375), ('avorite', 0.25244140625), ('rb', 0.2440185546875)], 11: [('tocol', 0.2266845703125), ('dics', 0.2220458984375), ('зия', 0.2138671875), ('rids', 0.20947265625), ('tles', 0.2088623046875)], 17: [('rime', 0.332275390625), ('unto', 0.33203125), ('BC', 0.330078125), ('omar', 0.32763671875), ('GY', 0.322509765625)], 52: [('uedes', 0.253662109375), (' professi', 0.2435302734375), (' pugu', 0.2431640625), (' tremend', 0.2415771484375), ('oted', 0.231201171875)], 56: [('щни', 0.55126953125), ('裕', 0.5341796875), ('瑕', 0.533203125), (' swe', 0.5068359375), ('odal', 0.497802734375)]}, 8: {3: [('dua', 0.1053466796875), ('imeo', 0.1029052734375), ('cmark', 0.10284423828125), ('oldre', 0.09906005859375), ('bersome', 0.09051513671875)], 5: [('legi', 0.276611328125), ('�', 0.26318359375), ('etria', 0.252197265625), ('ayan', 0.251708984375), ('功劳', 0.2490234375)], 11: [('��', 0.470703125), ('стики', 0.416259765625), (' Загора', 0.412841796875), ('orel', 0.4033203125), ('ceso', 0.388671875)], 26: [('illa', 0.18505859375), (' Felip', 0.172607421875), ('orda', 0.1671142578125), ('nchen', 0.1622314453125), (' recip', 0.1583251953125)], 40: [('��', 0.12335205078125), (' Pobla', 0.0999755859375), ('arks', 0.0960693359375), ('ENSE', 0.0943603515625), ('творе', 0.09222412109375)], 58: [('3', 0.79736328125), ('5', 0.76318359375), ('9', 0.74853515625), ('8', 0.73583984375), ('4', 0.70654296875)]}, 14: {3: [('ensk', 0.1634521484375), ('mocks', 0.151123046875), ('Blockly', 0.1500244140625), (' Ohms', 0.149169921875), ('Esport', 0.1461181640625)], 5: [('ФК', 0.155517578125), ('fron', 0.1346435546875), ('步步', 0.1341552734375), ('cades', 0.12322998046875), ('IPH', 0.1221923828125)], 28: [('matically', 0.198974609375), (' triang', 0.1820068359375), ('icae', 0.1746826171875), ('aces', 0.17333984375), ('iles', 0.1630859375)], 51: [('��', 0.2158203125), ('ousand', 0.2081298828125), ('нуари', 0.1937255859375), (' лято', 0.188232421875), ('Ours', 0.1812744140625)], 52: [('IZE', 0.3544921875), ('Runs', 0.354248046875), ('embark', 0.33984375), ('��', 0.33349609375), ('мир', 0.33056640625)], 56: [('eneg', 0.27294921875), ('estor', 0.266845703125), ('ategy', 0.261474609375), ('ი', 0.2607421875), ('ssf', 0.259033203125)]}, 15: {3: [('��', 0.56005859375), ('�起', 0.50830078125), ('rades', 0.493408203125), ('роко', 0.47265625), ('HING', 0.45703125)], 11: [('holds', 0.1800537109375), (' ISSN', 0.1583251953125), ('run', 0.1558837890625), ('预', 0.1527099609375), ('Urgell', 0.1522216796875)], 21: [('iaris', 0.152587890625), ('破', 0.1456298828125), ('破了', 0.1392822265625), ('atg', 0.135009765625), ('羊', 0.1314697265625)], 51: [('oxide', 0.12744140625), ('IGO', 0.112060546875), ('\"&', 0.10699462890625), ('mediately', 0.10467529296875), ('mers', 0.1044921875)], 58: [('7', 0.8359375), ('ament', 0.82666015625), ('3', 0.80908203125), ('ът', 0.80126953125), ('стира', 0.77880859375)], 63: [('�乐', 0.546875), ('aulay', 0.51318359375), ('agona', 0.48876953125), ('eqno', 0.4853515625), ('дъх', 0.475830078125)]}, 4: {6: [('ляна', 0.157958984375), ('aviera', 0.138427734375), ('iempo', 0.1358642578125), ('Stage', 0.13427734375), ('мври', 0.133544921875)], 17: [('uate', 0.2103271484375), ('ayo', 0.1976318359375), ('�', 0.1949462890625), ('�', 0.1754150390625), ('箭', 0.174072265625)], 33: [('��', 0.2412109375), ('一所', 0.2198486328125), ('counter', 0.21435546875), (' Tiber', 0.2135009765625), ('кви', 0.2064208984375)], 48: [('oed', 0.17333984375), (' Highest', 0.1435546875), ('ADCAST', 0.141357421875), ('юз', 0.1380615234375), ('ONENT', 0.1365966796875)], 49: [(' световно', 0.1370849609375), ('назна', 0.1285400390625), ('рита', 0.126708984375), ('рието', 0.12420654296875), ('�', 0.12353515625)], 59: [('лек', 0.1434326171875), ('acca', 0.13134765625), ('iden', 0.1292724609375), ('莫', 0.127197265625), ('aca', 0.12548828125)]}, 19: {6: [(' e', 0.1702880859375), ('\\te', 0.167724609375), (' прото', 0.15478515625), ('憋', 0.146728515625), ('去的', 0.1458740234375)], 19: [('ERN', 0.11309814453125), ('зор', 0.1077880859375), ('护', 0.10418701171875), ('ем', 0.1005859375), (' fre', 0.10040283203125)], 22: [('дрид', 0.1142578125), ('rupulous', 0.103515625), ('айнрих', 0.1031494140625), ('ulph', 0.102783203125), ('ATERIAL', 0.10076904296875)], 36: [('ances', 0.2196044921875), ('ancia', 0.2174072265625), ('блю', 0.2135009765625), ('ance', 0.19970703125), ('cplusplus', 0.1947021484375)], 38: [('нева', 0.08306884765625), ('lege', 0.07403564453125), ('�', 0.072265625), ('�', 0.0718994140625), ('лина', 0.071533203125)], 63: [('_', 0.349853515625), (' contents', 0.324462890625), ('plusplus', 0.318359375), ('Z', 0.3076171875), ('гри', 0.29931640625)]}, 11: {7: [('lenburg', 0.28369140625), ('Frequency', 0.271240234375), ('ornia', 0.2626953125), ('frequency', 0.259521484375), ('RUP', 0.25830078125)], 12: [('eca', 0.1617431640625), ('lahoma', 0.159912109375), ('istant', 0.1595458984375), ('atius', 0.1552734375), ('acional', 0.154541015625)], 22: [('ollen', 0.43408203125), ('ET', 0.404052734375), ('稍', 0.389892578125), ('PT', 0.389892578125), ('II', 0.38037109375)], 44: [('erti', 0.1866455078125), ('sgi', 0.1739501953125), ('ptu', 0.1727294921875), ('oraci', 0.172607421875), ('itsu', 0.170654296875)], 53: [('bis', 0.43994140625), ('ета', 0.438232421875), ('大地', 0.4326171875), ('тере', 0.394775390625), ('eus', 0.394775390625)], 57: [('untime', 0.245849609375), ('anell', 0.24365234375), ('recci', 0.242431640625), ('estring', 0.236328125), ('处分', 0.235595703125)]}, 13: {7: [('ilon', 0.184814453125), ('ever', 0.1715087890625), ('�', 0.169189453125), ('reci', 0.168701171875), ('WG', 0.16650390625)], 22: [('bai', 0.339111328125), ('ppa', 0.28173828125), ('COPY', 0.27978515625), ('KT', 0.279052734375), ('adt', 0.275634765625)], 24: [('slave', 0.0916748046875), ('mirall', 0.09161376953125), ('iate', 0.08740234375), ('hsize', 0.08721923828125), ('inats', 0.08660888671875)], 25: [('inar', 0.1767578125), ('orf', 0.161376953125), ('inada', 0.1541748046875), ('观察', 0.1492919921875), ('ocles', 0.1448974609375)], 32: [('par', 1.6552734375), ('met', 1.6455078125), ('diss', 1.5439453125), ('杯', 1.5302734375), (' em', 1.4833984375)], 53: [('ndrome', 0.6669921875), ('eus', 0.62158203125), (' subtype', 0.57080078125), ('MSG', 0.5576171875), ('unknownFields', 0.5517578125)]}, 12: {12: [('чина', 0.18212890625), ('хайд', 0.1776123046875), ('ствен', 0.1668701171875), ('ams', 0.1629638671875), ('ulaci', 0.15625)], 22: [('6', 0.58203125), ('7', 0.55517578125), ('8', 0.53125), ('0', 0.52685546875), ('1', 0.521484375)], 25: [('AVA', 0.1712646484375), ('姬', 0.1646728515625), (' действия', 0.162109375), ('iesa', 0.1575927734375), ('omini', 0.1571044921875)], 44: [('wny', 0.0177001953125), (' Vout', 0.016998291015625), ('itars', 0.016937255859375), ('ryptfs', 0.0168609619140625), ('вършва', 0.0164031982421875)], 53: [('irut', 1.1591796875), ('LL', 1.1044921875), ('eses', 1.09765625), ('inux', 1.0849609375), ('League', 1.0478515625)], 60: [('ached', 0.73583984375), ('rowser', 0.73095703125), ('orum', 0.70166015625), (' variaci', 0.6767578125), ('ascript', 0.6728515625)]}, 16: {12: [('вайг', 0.1156005859375), ('ънс', 0.1156005859375), ('ynam', 0.10394287109375), ('estr', 0.1024169921875), ('estrat', 0.1021728515625)], 14: [('oric', 0.141357421875), ('体外', 0.13037109375), ('lustr', 0.1295166015625), ('тират', 0.128662109375), ('алу', 0.121826171875)], 27: [('��', 0.366943359375), ('�乐', 0.353515625), ('浮', 0.283935546875), ('tocol', 0.268798828125), ('gypt', 0.265625)], 30: [('ificaci', 0.0643310546875), ('бю', 0.056671142578125), (' pot', 0.052581787109375), ('нан', 0.051727294921875), ('ifica', 0.05096435546875)], 34: [('lles', 0.09967041015625), ('ng', 0.09893798828125), ('leness', 0.09759521484375), ('teriors', 0.093505859375), ('itzer', 0.08953857421875)], 63: [('atron', 0.317138671875), ('lemen', 0.316650390625), ('taw', 0.3046875), ('ე', 0.2939453125), ('вин', 0.29052734375)]}, 20: {12: [('ulic', 0.0826416015625), ('follows', 0.081787109375), (' граница', 0.081298828125), ('otta', 0.08123779296875), ('issan', 0.07879638671875)], 36: [('ibli', 0.14013671875), ('escor', 0.115234375), ('ite', 0.11114501953125), ('appendChild', 0.10906982421875), ('лона', 0.10693359375)], 37: [('ESCO', 0.1268310546875), ('зен', 0.12237548828125), ('mares', 0.118408203125), ('assol', 0.1143798828125), ('@{\\\\', 0.11187744140625)], 53: [('oure', 0.791015625), (' dimit', 0.755859375), ('lain', 0.7001953125), ('eye', 0.697265625), ('Indices', 0.67041015625)], 57: [('Habitants', 0.233154296875), (' Dones', 0.21337890625), ('bors', 0.21240234375), ('ulles', 0.2122802734375), ('ulaci', 0.212158203125)], 60: [('sics', 1.470703125), ('counter', 1.3935546875), ('澈', 1.373046875), ('emir', 1.3671875), ('ivan', 1.3466796875)]}, 6: {17: [(' Йоха', 0.51953125), ('dom', 0.437255859375), ('dle', 0.437255859375), ('Educaci', 0.433349609375), ('mless', 0.410888671875)], 20: [('ODO', 0.6376953125), ('miss', 0.63671875), ('odo', 0.6083984375), ('ACA', 0.58154296875), ('ARN', 0.5712890625)], 33: [('mens', 0.102783203125), ('ham', 0.087890625), (' importantly', 0.08758544921875), (' blues', 0.08575439453125), (' finally', 0.08380126953125)], 42: [('圳', 0.34619140625), ('布拉', 0.336181640625), ('cepte', 0.3359375), ('acis', 0.3271484375), ('entric', 0.322998046875)], 47: [(' Segarra', 0.36181640625), ('quei', 0.331298828125), ('alesa', 0.32763671875), ('neig', 0.322509765625), ('orra', 0.32177734375)], 49: [('唾', 0.70849609375), ('ficci', 0.6181640625), ('DEP', 0.60546875), ('пра', 0.60302734375), ('ierge', 0.59521484375)]}, 0: {18: [('�', 0.24365234375), ('erate', 0.232177734375), ('вле', 0.231689453125), ('火烧', 0.212158203125), ('conce', 0.208984375)], 35: [('↳', 0.2266845703125), ('astr', 0.1893310546875), (' contrase', 0.1837158203125), ('restant', 0.1785888671875), ('ерцо', 0.1773681640625)], 43: [('omic', 0.05413818359375), ('яна', 0.050689697265625), ('offee', 0.047637939453125), (' grad', 0.046234130859375), ('andes', 0.0455322265625)], 44: [('ifices', 0.352783203125), ('unknownFields', 0.319091796875), ('onada', 0.31201171875), ('gvfs', 0.310546875), ('iemont', 0.29443359375)], 49: [('dew', 0.0167388916015625), ('amely', 0.01593017578125), ('厅', 0.01561737060546875), ('ills', 0.015472412109375), ('emade', 0.0150604248046875)], 62: [('Това', 0.041839599609375), ('omin', 0.040924072265625), ('кор', 0.040618896484375), ('бела', 0.03985595703125), (' Hosp', 0.039093017578125)]}, 21: {19: [('hes', 0.09747314453125), ('函', 0.08251953125), ('лище', 0.078369140625), ('sh', 0.077392578125), ('het', 0.07708740234375)], 36: [('urrent', 0.2646484375), ('цяло', 0.263671875), ('��', 0.2578125), ('饪', 0.255859375), ('麦', 0.2498779296875)], 37: [('俪', 0.19970703125), ('房租', 0.1915283203125), ('婪', 0.1859130859375), ('hold', 0.1845703125), ('IER', 0.180419921875)], 53: [('lices', 0.21044921875), ('ey', 0.1923828125), ('eing', 0.189697265625), ('ean', 0.189208984375), ('майстор', 0.1890869140625)], 54: [('iltr', 0.103759765625), ('Habitants', 0.0799560546875), (' h', 0.0799560546875), (' Planner', 0.07611083984375), ('ios', 0.07464599609375)], 60: [(' препратки', 0.134033203125), ('hiba', 0.125244140625), ('статъ', 0.1201171875), ('obres', 0.11822509765625), (' sorpresa', 0.117431640625)]}}\n",
      "Shared expert predictions: [[('opon', 0.307373046875), ('obres', 0.29736328125), (' пряко', 0.27392578125), ('andes', 0.26171875), ('lapse', 0.260009765625)], [('HQ', 0.59619140625), ('悠悠', 0.58056640625), ('3', 0.56103515625), ('刻', 0.55712890625), ('anar', 0.5537109375)], [('开启了', 0.6328125), ('лата', 0.60693359375), ('开启', 0.58154296875), (' (__', 0.57275390625), ('idera', 0.56689453125)], [('anar', 0.814453125), ('慎重', 0.681640625), ('ernes', 0.67919921875), ('APA', 0.66015625), ('кона', 0.6435546875)], [('ложен', 0.771484375), ('蘑', 0.7490234375), ('YA', 0.7412109375), ('犹豫', 0.7373046875), ('懿', 0.72412109375)], [(' (', 0.759765625), ('ATS', 0.720703125), (' ,', 0.703125), ('usta', 0.69921875), ('Indexed', 0.68994140625)], [('ernes', 0.8408203125), ('匈', 0.818359375), ('jspx', 0.796875), ('ложен', 0.73486328125), ('ence', 0.728515625)], [('();\");', 0.9208984375), ('pone', 0.85205078125), ('ademark', 0.8466796875), ('onada', 0.8427734375), ('PageToken', 0.84130859375)], [('rpre', 0.94091796875), ('桂园', 0.8818359375), ('arx', 0.8544921875), ('�', 0.85205078125), ('igui', 0.82763671875)], [('ICS', 0.572265625), ('сио', 0.56494140625), ('дем', 0.55419921875), ('дя', 0.5478515625), ('一举', 0.54296875)], [('DebuggerNonUser', 0.80859375), ('ilt', 0.6376953125), ('enser', 0.6337890625), ('hal', 0.61181640625), ('ector', 0.59326171875)], [('чер', 0.78076171875), ('暴露', 0.6708984375), (' съв', 0.650390625), ('ROID', 0.62841796875), ('讽', 0.60546875)], [('懿', 0.72998046875), ('чер', 0.712890625), ('ASM', 0.68310546875), ('讽', 0.63525390625), ('kv', 0.626953125)], [('ORA', 0.8310546875), ('aved', 0.76806640625), ('acerb', 0.75537109375), (' Кру', 0.72412109375), ('osto', 0.7236328125)], [('9', 0.955078125), ('7', 0.80126953125), ('6', 0.77294921875), ('1', 0.77001953125), ('8', 0.76416015625)], [('rowse', 0.837890625), ('imately', 0.82177734375), ('andria', 0.81640625), ('条', 0.810546875), ('yd', 0.78369140625)], [('yrus', 0.66552734375), ('aque', 0.59375), (' p', 0.58642578125), ('中枢', 0.58251953125), ('азар', 0.5810546875)], [('тени', 0.91015625), ('挂', 0.87451171875), ('批', 0.87255859375), ('薄弱', 0.84130859375), (' Copy', 0.83154296875)], [('ionar', 1.119140625), ('piar', 1.1083984375), ('oders', 1.10546875), ('imburg', 1.056640625), ('overy', 1.0400390625)], [('броява', 0.8125), ('olta', 0.8095703125), ('verg', 0.80322265625), ('间接', 0.7822265625), ('annel', 0.767578125)], [('wered', 0.7734375), ('назна', 0.77294921875), (' Barc', 0.7578125), ('бю', 0.740234375), ('броява', 0.7392578125)], [('itsch', 0.85400390625), ('anguard', 0.7568359375), ('ionar', 0.75634765625), ('Loss', 0.7529296875), ('挂', 0.73291015625)]]\n",
      "\n",
      "MoE Layer 9:\n",
      "Selected experts: [[61, 49, 10, 43, 36, 33], [26, 60, 55, 49, 32, 8], [26, 1, 2, 60, 45, 63], [30, 1, 2, 60, 6, 26], [26, 8, 55, 36, 20, 6], [26, 60, 2, 18, 17, 5], [36, 55, 26, 53, 8, 47], [2, 0, 21, 9, 46, 31], [0, 1, 2, 21, 63, 43], [0, 30, 2, 46, 48, 47], [57, 48, 2, 35, 13, 7], [35, 61, 13, 48, 57, 7], [13, 29, 61, 44, 28, 57], [13, 35, 28, 59, 7, 37], [63, 46, 21, 0, 9, 31], [63, 0, 43, 1, 56, 21], [13, 35, 2, 59, 0, 29], [4, 30, 61, 41, 1, 53], [63, 48, 30, 0, 53, 35], [28, 45, 13, 22, 29, 2], [13, 57, 35, 5, 29, 22], [13, 57, 29, 5, 61, 34]]\n",
      "Expert weights: [[0.279296875, 0.04119873046875, 0.031280517578125, 0.028289794921875, 0.0259552001953125, 0.0243377685546875], [0.0972900390625, 0.06927490234375, 0.07733154296875, 0.151611328125, 0.061309814453125, 0.04315185546875], [0.066162109375, 0.183349609375, 0.044647216796875, 0.09619140625, 0.054931640625, 0.03582763671875], [0.06988525390625, 0.10076904296875, 0.11114501953125, 0.06488037109375, 0.050384521484375, 0.047698974609375], [0.12371826171875, 0.0906982421875, 0.0821533203125, 0.06658935546875, 0.03857421875, 0.03350830078125], [0.1611328125, 0.076416015625, 0.072265625, 0.0692138671875, 0.052398681640625, 0.04541015625], [0.06256103515625, 0.1502685546875, 0.0830078125, 0.0478515625, 0.052703857421875, 0.045623779296875], [0.10504150390625, 0.10467529296875, 0.10284423828125, 0.08477783203125, 0.07586669921875, 0.0455322265625], [0.2125244140625, 0.10186767578125, 0.052490234375, 0.067626953125, 0.05157470703125, 0.04351806640625], [0.104736328125, 0.1636962890625, 0.0496826171875, 0.032806396484375, 0.0565185546875, 0.0253753662109375], [0.12225341796875, 0.0758056640625, 0.07318115234375, 0.07037353515625, 0.058837890625, 0.03082275390625], [0.05230712890625, 0.0450439453125, 0.251220703125, 0.053802490234375, 0.06854248046875, 0.044342041015625], [0.1910400390625, 0.03662109375, 0.1278076171875, 0.045196533203125, 0.032958984375, 0.032928466796875], [0.257080078125, 0.15771484375, 0.04180908203125, 0.0322265625, 0.0301361083984375, 0.029693603515625], [0.275146484375, 0.07666015625, 0.079833984375, 0.059844970703125, 0.037689208984375, 0.036651611328125], [0.17822265625, 0.1470947265625, 0.07080078125, 0.0616455078125, 0.04473876953125, 0.034515380859375], [0.042388916015625, 0.04693603515625, 0.048309326171875, 0.058502197265625, 0.03997802734375, 0.035125732421875], [0.031585693359375, 0.074462890625, 0.316162109375, 0.0269775390625, 0.0232696533203125, 0.0232696533203125], [0.04833984375, 0.0711669921875, 0.10345458984375, 0.04571533203125, 0.0391845703125, 0.03228759765625], [0.055450439453125, 0.046600341796875, 0.038238525390625, 0.03753662109375, 0.037078857421875, 0.034149169921875], [0.119384765625, 0.12030029296875, 0.04351806640625, 0.039581298828125, 0.039215087890625, 0.0295562744140625], [0.10882568359375, 0.06768798828125, 0.057586669921875, 0.047637939453125, 0.0416259765625, 0.038665771484375]]\n",
      "Combined output tokens: [[('肋', 2.087890625), ('яна', 1.9794921875), ('jem', 1.923828125), ('andes', 1.8857421875), ('зар', 1.7822265625)], [('ENC', 1.5771484375), ('ropies', 1.4814453125), ('直', 1.3359375), (' Abans', 1.3232421875), ('rophic', 1.291015625)], [('赶', 1.2568359375), ('lez', 1.22265625), ('\\u200b', 1.1533203125), ('exclusion', 1.0927734375), ('妨', 1.083984375)], [('OperationKind', 1.3486328125), ('aldo', 1.3330078125), ('ляне', 1.2451171875), ('ONY', 1.232421875), ('zal', 1.2099609375)], [(' [', 1.1875), ('OST', 1.150390625), ('COPY', 1.1181640625), ('rinos', 1.0849609375), ('ipp', 1.0732421875)], [('CodeAttribute', 1.8564453125), ('rowColor', 1.6298828125), ('urals', 1.62890625), ('tmpfs', 1.6044921875), ('DebuggerNonUser', 1.59375)], [('基地', 1.2509765625), ('AVA', 1.2392578125), ('pitch', 1.2216796875), ('OrBuilder', 1.201171875), ('asse', 1.1962890625)], [(' Охридски', 1.34765625), (' otherwise', 1.2763671875), (' story', 1.2451171875), ('��', 1.21484375), (' afil', 1.1494140625)], [(' cos', 1.373046875), (' previous', 1.24609375), ('ipage', 1.23828125), ('停', 1.21875), (' board', 1.166015625)], [('fons', 1.03515625), ('onar', 0.93017578125), ('一面', 0.91748046875), ('烦', 0.8369140625), (' copy', 0.8017578125)], [('堪', 1.1689453125), ('oct', 1.0791015625), ('amac', 0.994140625), ('奔', 0.98388671875), ('anqu', 0.9287109375)], [('稀', 2.056640625), ('Rated', 1.962890625), ('��', 1.916015625), ('登', 1.8818359375), ('egal', 1.876953125)], [('��', 1.9287109375), (' x', 1.77734375), ('中', 1.734375), ('登', 1.6962890625), ('马来', 1.6845703125)], [('OSE', 1.412109375), (' swiper', 1.376953125), ('umbered', 1.333984375), ('ose', 1.310546875), ('upta', 1.3046875)], [('ercus', 2.251953125), ('subNav', 2.2265625), ('ExternalTask', 2.068359375), ('��', 1.9892578125), ('avenport', 1.94140625)], [('��', 2.361328125), ('\\t__', 2.283203125), ('essions', 2.140625), ('ituds', 2.13671875), ('beros', 2.107421875)], [('apparmor', 0.87451171875), ('isely', 0.75341796875), ('overl', 0.73876953125), ('NOSCRIPT', 0.73828125), ('istat', 0.7353515625)], [('ranslate', 1.7998046875), ('etheless', 1.763671875), (' sorpres', 1.7265625), ('ucius', 1.7138671875), ('SPHINX', 1.6650390625)], [('stit', 1.123046875), ('cerning', 1.115234375), ('rophic', 1.095703125), ('typen', 1.0849609375), ('TOOLSET', 1.08203125)], [('ILED', 1.0478515625), ('кле', 0.974609375), ('step', 0.90576171875), ('annels', 0.90283203125), (' Carrer', 0.8876953125)], [('reb', 1.1923828125), ('reed', 1.1875), ('bet', 1.1630859375), (' Di', 1.1630859375), (' Tal', 1.1376953125)], [('unga', 0.9580078125), (' cou', 0.93701171875), ('OTH', 0.8701171875), ('ornia', 0.8681640625), (' Rolling', 0.85009765625)]]\n",
      "Expert predictions by position: {7: {0: [('ermita', 0.08575439453125), ('arx', 0.07757568359375), ('ictionary', 0.0772705078125), (' confusi', 0.075927734375), ('quera', 0.07501220703125)], 2: [('[--', 0.41455078125), ('fiques', 0.407470703125), ('Unmarshaller', 0.406982421875), ('ramfs', 0.404296875), ('Msk', 0.39501953125)], 9: [(' adov', 0.09814453125), ('aggio', 0.095947265625), ('虎', 0.09222412109375), ('εί', 0.091796875), ('arcs', 0.0916748046875)], 21: [(' otherwise', 0.41650390625), ('��', 0.39453125), ('umbers', 0.373779296875), (' Охридски', 0.35791015625), (' бълга', 0.35498046875)], 31: [('3', 0.289306640625), ('6', 0.27392578125), ('2', 0.2666015625), ('9', 0.2607421875), ('5', 0.260009765625)], 46: [('idesa', 0.3330078125), (' portat', 0.288818359375), ('гар', 0.282470703125), (' Llengu', 0.275634765625), ('()(', 0.274658203125)]}, 8: {0: [(' v', 0.6796875), ('enegro', 0.654296875), ('ография', 0.65283203125), (' c', 0.6240234375), ('geries', 0.60986328125)], 1: [('2', 0.05596923828125), ('5', 0.054412841796875), ('9', 0.05291748046875), ('8', 0.052886962890625), ('c', 0.052032470703125)], 2: [(' Guin', 0.1346435546875), ('λο', 0.119873046875), ('espect', 0.11572265625), ('nteg', 0.11572265625), (' sab', 0.11517333984375)], 21: [('identals', 0.1605224609375), (' //-->', 0.1602783203125), ('ullivan', 0.1590576171875), ('义', 0.152099609375), ('iers', 0.1485595703125)], 43: [('ifes', 0.2269287109375), ('tles', 0.2242431640625), ('днес', 0.2222900390625), ('edat', 0.2222900390625), ('oldre', 0.211669921875)], 63: [('ercus', 2.0546875), ('��', 1.9970703125), ('agio', 1.810546875), ('хайд', 1.7880859375), ('ExternalTask', 1.7822265625)]}, 9: {0: [('ifact', 0.36376953125), ('ansi', 0.35009765625), ('iris', 0.349609375), ('plot', 0.34521484375), ('io', 0.33203125)], 2: [('roups', 0.6396484375), ('batim', 0.6123046875), ('\\tThen', 0.60400390625), ('theless', 0.59814453125), ('isite', 0.59765625)], 30: [('onada', 0.6474609375), ('рани', 0.58837890625), ('莱坞', 0.5771484375), ('crits', 0.56884765625), ('юн', 0.5595703125)], 46: [('tage', 0.0577392578125), ('IUM', 0.05712890625), ('adem', 0.05645751953125), ('WithValue', 0.0556640625), ('imuth', 0.055511474609375)], 47: [('══', 0.060272216796875), ('град', 0.05731201171875), ('дии', 0.05499267578125), ('�', 0.05340576171875), (' Mateu', 0.053253173828125)], 48: [('瑕', 0.1710205078125), ('绎', 0.168701171875), ('etheless', 0.16650390625), ('公众', 0.1619873046875), ('sidered', 0.16064453125)]}, 14: {0: [('isl', 0.256591796875), ('人工', 0.2464599609375), (' next', 0.2413330078125), (' Phen', 0.2396240234375), (' intake', 0.2213134765625)], 9: [('comprehens', 0.330078125), ('ITLE', 0.32666015625), ('��', 0.314697265625), ('}$:', 0.303466796875), ('urop', 0.30322265625)], 21: [(' then', 0.310546875), (' middle', 0.309326171875), ('freedesktop', 0.291259765625), ('odinger', 0.28955078125), ('bria', 0.284912109375)], 31: [('стени', 0.185791015625), ('ляр', 0.1571044921875), (' Cercle', 0.1466064453125), ('фт', 0.1435546875), ('REFER', 0.140380859375)], 46: [('cesi', 0.255126953125), ('IATE', 0.247802734375), ('arck', 0.2474365234375), ('etheless', 0.243896484375), ('ighed', 0.2413330078125)], 63: [('yte', 0.1622314453125), ('社', 0.15625), ('翼翼', 0.1552734375), ('湃', 0.1468505859375), ('enyes', 0.1412353515625)]}, 15: {0: [(' @', 0.1707763671875), ('Ext', 0.1629638671875), (' c', 0.1595458984375), ('eros', 0.153564453125), ('ero', 0.1475830078125)], 1: [('sics', 0.81201171875), ('чност', 0.78662109375), ('oda', 0.77099609375), ('idl', 0.7626953125), ('赶', 0.7392578125)], 21: [(' otherwise', 0.358642578125), ('alona', 0.3359375), ('alties', 0.320556640625), ('untu', 0.31494140625), (' viles', 0.309814453125)], 43: [('MiB', 0.1046142578125), ('帽', 0.09857177734375), ('ingu', 0.09466552734375), ('aa', 0.089599609375), ('帽子', 0.0875244140625)], 56: [('5', 0.26806640625), ('4', 0.266845703125), ('8', 0.25146484375), ('6', 0.245849609375), ('3', 0.2353515625)], 63: [('itives', 0.11962890625), ('atable', 0.11944580078125), (' анг', 0.1143798828125), ('arlas', 0.11407470703125), ('青', 0.10845947265625)]}, 16: {0: [(' ', 0.73291015625), ('вени', 0.72509765625), (' PP', 0.70263671875), ('充足的', 0.6943359375), (' Board', 0.68359375)], 2: [('рали', 0.1202392578125), ('cmark', 0.1121826171875), ('aterno', 0.10601806640625), ('akala', 0.1026611328125), ('вител', 0.10040283203125)], 13: [(' Cord', 0.46533203125), ('当事人', 0.431884765625), ('isphere', 0.42041015625), ('Cord', 0.40625), ('tha', 0.403564453125)], 29: [('adors', 0.1456298828125), ('top', 0.1417236328125), ('тивни', 0.1317138671875), ('wav', 0.130859375), ('锡', 0.13037109375)], 35: [('ston', 0.5966796875), ('毕', 0.5791015625), ('blot', 0.57421875), ('PAN', 0.5634765625), ('гос', 0.55419921875)], 59: [('ctions', 0.083251953125), ('县公安局', 0.0782470703125), (' Гот', 0.0758056640625), ('{}{', 0.07562255859375), ('作品发表', 0.074951171875)]}, 18: {0: [('remos', 0.198486328125), ('icit', 0.17236328125), (' herself', 0.1712646484375), ('embre', 0.1710205078125), ('neig', 0.1678466796875)], 30: [(' impat', 0.416015625), ('isine', 0.40380859375), (' _\\\\', 0.400390625), ('表', 0.387939453125), ('CODEGEN', 0.37060546875)], 35: [('8', 0.1817626953125), ('�起', 0.1759033203125), ('3', 0.16845703125), ('STAT', 0.1651611328125), ('2', 0.161376953125)], 48: [('дото', 0.205078125), ('pless', 0.2041015625), ('Objective', 0.1956787109375), ('ус', 0.192138671875), ('idium', 0.18994140625)], 53: [('rey', 0.0860595703125), ('任', 0.07806396484375), ('nt', 0.07769775390625), (' #:', 0.0758056640625), ('列', 0.0745849609375)], 63: [('metavariable', 0.269775390625), ('nimes', 0.258544921875), ('sonian', 0.2548828125), (' Ò', 0.253173828125), ('SAM', 0.25244140625)]}, 2: {1: [('aguer', 0.4423828125), ('BlockIndex', 0.42822265625), ('pez', 0.421875), ('deven', 0.412353515625), ('iats', 0.40283203125)], 2: [('inka', 0.2137451171875), (' *', 0.210693359375), (' G', 0.2093505859375), ('answer', 0.2021484375), ('Answer', 0.200439453125)], 26: [('emberg', 0.248779296875), ('upy', 0.2139892578125), ('мпи', 0.209716796875), ('мах', 0.209228515625), (' /', 0.2054443359375)], 45: [('ensi', 0.15087890625), ('辟', 0.1461181640625), ('UDE', 0.1458740234375), ('ieres', 0.145263671875), ('iras', 0.144775390625)], 60: [('illings', 0.50537109375), ('ای', 0.455810546875), ('guien', 0.44580078125), ('rophic', 0.435546875), ('acular', 0.435302734375)], 63: [('ravings', 2.005859375), ('ituds', 1.9619140625), ('\\t__', 1.9482421875), ('rawling', 1.9453125), ('endem', 1.8896484375)]}, 3: {1: [('unfinished', 0.39794921875), ('��', 0.373046875), (' certes', 0.369873046875), ('шат', 0.36962890625), ('ossible', 0.36181640625)], 2: [('fiques', 0.81689453125), ('тист', 0.708984375), (' OVERRIDE', 0.69677734375), ('тови', 0.6826171875), (\"')))\", 0.67431640625)], 6: [('azole', 0.20263671875), ('zes', 0.188232421875), ('емон', 0.182373046875), ('洞', 0.1656494140625), ('arette', 0.163330078125)], 26: [(' o', 0.4052734375), ('нома', 0.370849609375), ('dyn', 0.33544921875), (' /', 0.335205078125), (' ru', 0.322265625)], 30: [('含', 0.279052734375), ('ismus', 0.2366943359375), ('列', 0.2305908203125), ('VAE', 0.2132568359375), ('═', 0.2052001953125)], 60: [('erior', 0.347412109375), ('گ', 0.339111328125), ('imetric', 0.335693359375), ('usercontent', 0.3349609375), ('ometria', 0.333251953125)]}, 17: {1: [('切', 0.21630859375), ('ardown', 0.2149658203125), ('StyleID', 0.2138671875), ('rav', 0.20263671875), ('PRB', 0.1998291015625)], 4: [('λο', 0.11492919921875), ('quio', 0.1126708984375), ('фер', 0.11114501953125), ('πο', 0.11029052734375), ('uric', 0.10955810546875)], 30: [('parm', 0.2646484375), ('oiselle', 0.24072265625), ('eqno', 0.225341796875), ('phans', 0.2239990234375), ('onar', 0.22265625)], 41: [('ygon', 0.08203125), ('elebr', 0.071533203125), ('uento', 0.06854248046875), ('mera', 0.06793212890625), (' Agust', 0.06768798828125)], 53: [('fileset', 0.13916015625), (' Сейнт', 0.1353759765625), ('soever', 0.130615234375), (' bancs', 0.12890625), ('Oficina', 0.1263427734375)], 61: [('endor', 0.58642578125), ('鼓', 0.54541015625), ('silent', 0.513671875), ('OLE', 0.51220703125), ('olean', 0.50927734375)]}, 5: {2: [('nexi', 0.177734375), ('uxer', 0.1727294921875), ('emptat', 0.1717529296875), ('ikipedia', 0.16845703125), ('Habitants', 0.1649169921875)], 5: [('omin', 0.2135009765625), ('DOM', 0.1988525390625), ('lun', 0.1922607421875), ('shp', 0.189453125), ('娥', 0.18359375)], 17: [('ampp', 0.2464599609375), ('tsy', 0.2235107421875), ('ionista', 0.223388671875), ('atges', 0.222900390625), ('aix', 0.218017578125)], 18: [('aguer', 0.301513671875), ('ир', 0.286376953125), ('зу', 0.2861328125), ('taf', 0.272705078125), ('izu', 0.259765625)], 26: [('rament', 0.873046875), ('нома', 0.85546875), ('ENC', 0.84716796875), ('ngels', 0.81982421875), ('方向', 0.81201171875)], 60: [('地带', 0.352783203125), ('erior', 0.3251953125), ('olen', 0.320556640625), ('igated', 0.31787109375), ('todes', 0.31201171875)]}, 10: {2: [('量为', 0.171142578125), ('падна', 0.1651611328125), ('��', 0.16455078125), ('ermat', 0.15771484375), ('}$~\\\\', 0.1571044921875)], 7: [('大利', 0.11279296875), ('��', 0.10601806640625), ('inguished', 0.10552978515625), ('clusi', 0.1014404296875), ('零', 0.09906005859375)], 13: [('ordi', 1.826171875), ('egal', 1.7099609375), ('��', 1.6982421875), ('兰达', 1.5927734375), ('稀', 1.5888671875)], 35: [('колкото', 0.2198486328125), ('IAS', 0.2197265625), ('yne', 0.2135009765625), ('columnwidth', 0.2125244140625), ('Asp', 0.211669921875)], 48: [('fect', 0.13916015625), ('UNTU', 0.1373291015625), ('дка', 0.13671875), (' хро', 0.1363525390625), (' Локомотив', 0.1361083984375)], 57: [(' T', 0.8291015625), ('.', 0.82763671875), (' (', 0.7822265625), (',', 0.77490234375), (' D', 0.76318359375)]}, 19: {2: [('�', 0.1793212890625), ('━━━━', 0.177490234375), ('参', 0.1727294921875), ('快', 0.159912109375), (' dinosa', 0.15576171875)], 13: [(' ancestors', 0.119140625), ('abeth', 0.1082763671875), (' gener', 0.10809326171875), ('lus', 0.10589599609375), ('中标', 0.10552978515625)], 22: [('3', 0.18994140625), ('6', 0.1871337890625), ('9', 0.185302734375), ('1', 0.183837890625), ('2', 0.1810302734375)], 28: [('evice', 0.1903076171875), ('ента', 0.1676025390625), (' monoparent', 0.16162109375), ('日内与', 0.157470703125), ('jeta', 0.1546630859375)], 29: [('iad', 0.1373291015625), ('лие', 0.13623046875), (' ул', 0.1273193359375), ('ov', 0.12371826171875), ('>{@', 0.11712646484375)], 45: [('3', 0.1937255859375), ('9', 0.1827392578125), ('4', 0.1771240234375), ('5', 0.1767578125), ('6', 0.1749267578125)]}, 20: {5: [('emet', 0.146728515625), (' Llei', 0.14013671875), ('ropy', 0.138671875), ('plet', 0.1380615234375), ('fono', 0.134765625)], 13: [('屠', 0.5234375), ('ovna', 0.486572265625), ('emberg', 0.48046875), ('ing', 0.439697265625), ('Perc', 0.42724609375)], 22: [('y', 0.1484375), ('s', 0.1414794921875), (' E', 0.1375732421875), (' чу', 0.13671875), ('extra', 0.134765625)], 29: [('istres', 0.1383056640625), ('тиви', 0.1370849609375), ('ISTS', 0.1336669921875), ('utics', 0.1304931640625), ('adelphia', 0.1302490234375)], 35: [('imensional', 0.1292724609375), (' обикол', 0.125244140625), (' съпру', 0.1221923828125), ('Икономи', 0.1182861328125), (\"__':\", 0.117431640625)], 57: [('estan', 0.282470703125), (' measure', 0.259765625), ('ROL', 0.258056640625), ('imir', 0.2509765625), ('ajos', 0.24755859375)]}, 21: {5: [('acis', 0.1658935546875), ('мост', 0.1624755859375), ('nesi', 0.161865234375), ('estany', 0.1502685546875), ('bolds', 0.14892578125)], 13: [('лиза', 0.0872802734375), ('区域的', 0.08636474609375), ('iled', 0.08453369140625), ('жа', 0.084228515625), (' зла', 0.08123779296875)], 29: [('�', 0.1907958984375), ('binder', 0.1829833984375), ('璃', 0.1820068359375), ('ool', 0.175537109375), ('католи', 0.173828125)], 34: [('3', 0.1376953125), ('6', 0.1370849609375), ('9', 0.1368408203125), ('1', 0.136474609375), ('0', 0.1336669921875)], 57: [('罩', 0.4072265625), ('ensi', 0.321533203125), (' cal', 0.320068359375), ('mo', 0.313232421875), (' gu', 0.310302734375)], 61: [('肋', 1.990234375), ('andes', 1.7509765625), ('jem', 1.7333984375), (' Naz', 1.6669921875), ('яна', 1.658203125)]}, 4: {6: [('шени', 0.1270751953125), ('incorpor', 0.12078857421875), ('峡', 0.11944580078125), ('ovac', 0.1162109375), ('ULE', 0.11065673828125)], 8: [('roc', 0.260498046875), ('izontal', 0.2261962890625), ('ruit', 0.1939697265625), ('beros', 0.191162109375), ('rill', 0.188232421875)], 20: [('岸', 0.173828125), ('efi', 0.1636962890625), (' nothin', 0.152587890625), ('坞', 0.1519775390625), ('rai', 0.14990234375)], 26: [('сев', 0.556640625), ('ncy', 0.552734375), ('ENO', 0.54345703125), ('Ex', 0.53662109375), ('opsy', 0.533203125)], 36: [('uder', 0.288330078125), ('eldorf', 0.260498046875), ('спи', 0.245849609375), ('�', 0.2420654296875), ('ано', 0.241455078125)], 55: [('2', 0.35546875), ('1', 0.3203125), ('4', 0.310302734375), ('3', 0.30322265625), ('9', 0.286865234375)]}, 11: {7: [('�乐', 0.1123046875), ('ugat', 0.1036376953125), ('uries', 0.10247802734375), ('FilterChain', 0.1009521484375), ('ymmetries', 0.10003662109375)], 13: [('egal', 2.18359375), ('Rated', 2.048828125), ('玻璃', 1.828125), ('��', 1.7802734375), ('__);', 1.720703125)], 35: [('myItem', 0.266845703125), (' pinn', 0.256103515625), ('Населе', 0.2335205078125), ('oughs', 0.2264404296875), ('zza', 0.2261962890625)], 48: [('ца', 0.273681640625), (' социалисти', 0.254638671875), ('必', 0.25146484375), ('sembler', 0.23876953125), ('ласт', 0.2379150390625)], 57: [(' MS', 0.179931640625), (' cord', 0.1776123046875), ('sonian', 0.172119140625), (' D', 0.158203125), (' U', 0.1558837890625)], 61: [('� ', 0.145751953125), ('зират', 0.13037109375), ('ree', 0.12890625), ('endor', 0.1220703125), ('onga', 0.1220703125)]}, 13: {7: [('UIColor', 0.2427978515625), ('��', 0.2354736328125), ('容', 0.2298583984375), ('isor', 0.2294921875), ('大利', 0.2279052734375)], 13: [('▅', 1.1064453125), ('样', 1.0625), ('转', 0.9990234375), ('馆', 0.95263671875), ('oslav', 0.92333984375)], 28: [(' menci', 0.1240234375), ('App', 0.11737060546875), ('мар', 0.1165771484375), ('app', 0.11224365234375), ('陪', 0.11083984375)], 35: [('igne', 0.11334228515625), ('ropol', 0.1036376953125), ('利物', 0.0947265625), ('etti', 0.0902099609375), ('igh', 0.089599609375)], 37: [('кар', 0.10345458984375), ('ORG', 0.0908203125), ('糜', 0.09063720703125), ('ография', 0.09027099609375), ('filer', 0.08892822265625)], 59: [('鸡蛋', 0.1561279296875), ('ELS', 0.151611328125), ('Ebre', 0.149658203125), ('legi', 0.147216796875), ('legate', 0.1405029296875)]}, 1: {8: [('ELY', 0.1871337890625), ('齐', 0.1845703125), ('OperationKind', 0.1807861328125), ('omon', 0.17919921875), ('�', 0.17626953125)], 26: [('ngels', 1.150390625), ('世', 1.0537109375), ('мова', 1.001953125), ('дос', 0.96923828125), (' notranslate', 0.93310546875)], 32: [('fac', 0.2462158203125), ('ето', 0.242919921875), (' verm', 0.2374267578125), (' поема', 0.234619140625), ('Stream', 0.2333984375)], 49: [('.', 0.5732421875), (' [', 0.505859375), ('sb', 0.499755859375), ('破', 0.47509765625), ('of', 0.456787109375)], 55: [('基地', 0.974609375), ('iser', 0.9580078125), ('Assertions', 0.95654296875), ('izer', 0.9560546875), ('ituds', 0.94873046875)], 60: [('催', 0.31884765625), ('inaire', 0.30029296875), ('ando', 0.293701171875), ('nesi', 0.293212890625), ('霍', 0.29052734375)]}, 6: {8: [('коп', 0.377685546875), (' Франци', 0.343994140625), ('DON', 0.33984375), ('oia', 0.3388671875), ('讲话', 0.33642578125)], 26: [('зай', 0.473388671875), ('uese', 0.411865234375), ('ezvous', 0.396728515625), ('legr', 0.38427734375), ('mide', 0.370361328125)], 36: [('郊', 0.1502685546875), ('Protos', 0.14208984375), (' shaft', 0.1414794921875), ('rans', 0.1412353515625), ('残', 0.139404296875)], 47: [('otine', 0.1485595703125), ('ickness', 0.1483154296875), ('ques', 0.1468505859375), ('avera', 0.1429443359375), ('lices', 0.142578125)], 53: [('ambda', 0.2017822265625), ('perse', 0.198486328125), (' вместо', 0.1949462890625), ('кови', 0.1920166015625), ('anmar', 0.191162109375)], 55: [('atiu', 0.29150390625), ('DEX', 0.27490234375), ('/', 0.2406005859375), ('百', 0.230712890625), ('tesi', 0.2265625)]}, 0: {10: [('ttle', 0.012847900390625), ('spath', 0.01244354248046875), ('swire', 0.012176513671875), ('anes', 0.011749267578125), ('忆', 0.0116119384765625)], 33: [('�', 0.0211334228515625), ('�', 0.0177764892578125), ('claimer', 0.0172882080078125), ('�', 0.017181396484375), ('oust', 0.017120361328125)], 36: [('строй', 0.01434326171875), ('ures', 0.013946533203125), ('ure', 0.0136871337890625), ('{}', 0.0133209228515625), ('ua', 0.01319122314453125)], 43: [('съ', 0.0214996337890625), ('ohn', 0.01715087890625), ('ян', 0.015625), ('perty', 0.0154266357421875), ('тъ', 0.0148162841796875)], 49: [(' -', 0.043426513671875), (' ', 0.042999267578125), ('o', 0.040283203125), ('jem', 0.03973388671875), ('往', 0.039276123046875)], 61: [('etheless', 1.45703125), ('ationally', 1.4423828125), ('IER', 1.423828125), ('mapreduce', 1.396484375), ('�', 1.3916015625)]}, 12: {13: [('^{**', 0.1807861328125), ('LOBAL', 0.1771240234375), ('Composici', 0.1744384765625), ('INDOW', 0.167724609375), (' Provincial', 0.1602783203125)], 28: [('邮', 0.1092529296875), (' черно', 0.1044921875), ('band', 0.1009521484375), ('rush', 0.100830078125), ('标', 0.09661865234375)], 29: [('undos', 0.06170654296875), ('uster', 0.0609130859375), ('gano', 0.05816650390625), ('ysics', 0.05645751953125), ('нди', 0.05615234375)], 44: [('ловина', 0.12255859375), ('edi', 0.119873046875), ('тови', 0.119384765625), ('oha', 0.1134033203125), ('抑', 0.11041259765625)], 57: [(' c', 0.740234375), (' g', 0.6953125), (' export', 0.68359375), (' d', 0.67138671875), ('ik', 0.67041015625)], 61: [('ward', 0.10162353515625), (' (', 0.09771728515625), (' ,', 0.0963134765625), ('eme', 0.094970703125), ('齿', 0.09442138671875)]}}\n",
      "Shared expert predictions: [[('��', 0.27490234375), ('яна', 0.26416015625), ('kem', 0.247802734375), ('兰特', 0.21728515625), ('系的', 0.2120361328125)], [(' именно', 0.9052734375), ('ORE', 0.796875), ('rino', 0.7822265625), ('mens', 0.77294921875), ('otron', 0.76953125)], [('rino', 0.78564453125), ('du', 0.77294921875), ('mens', 0.6640625), ('rios', 0.66162109375), ('开出', 0.65234375)], [('$~\\\\', 0.9736328125), ('ALY', 0.76123046875), ('公', 0.7421875), ('ETHER', 0.724609375), ('ghan', 0.701171875)], [('汰', 0.8359375), ('леда', 0.83154296875), (' [', 0.8134765625), ('OST', 0.78955078125), ('sip', 0.75)], [(' Ара', 0.78173828125), ('urats', 0.7724609375), ('myItem', 0.7705078125), ('elius', 0.767578125), ('arda', 0.75927734375)], [(' [', 0.84033203125), (' novelty', 0.82861328125), ('ollers', 0.79052734375), ('oll', 0.73388671875), (' activity', 0.732421875)], [('映', 0.85693359375), ('SEPARATOR', 0.7724609375), ('леда', 0.7294921875), ('imov', 0.72412109375), ('onte', 0.71533203125)], [('解', 0.73388671875), ('nen', 0.73193359375), ('睦', 0.72509765625), (' престо', 0.7021484375), ('事业', 0.69384765625)], [('溢', 0.58935546875), ('种子', 0.56591796875), (' bud', 0.55908203125), ('一面', 0.544921875), ('淌', 0.53466796875)], [('(--', 0.58447265625), ('мен', 0.56201171875), ('姗', 0.55908203125), ('NOSCRIPT', 0.54541015625), ('мил', 0.54248046875)], [(' @}', 0.853515625), ('thin', 0.73779296875), ('geu', 0.69482421875), (' occup', 0.6826171875), ('стен', 0.65673828125)], [('thin', 0.81884765625), (' rebell', 0.80615234375), ('OE', 0.77685546875), ('Ж', 0.77685546875), ('乏', 0.75146484375)], [('бю', 0.875), ('би', 0.8369140625), ('eway', 0.7958984375), ('earch', 0.77978515625), ('це', 0.75390625)], [(' Cross', 0.748046875), (' (', 0.74169921875), (' o', 0.72607421875), ('ub', 0.724609375), ('第二种', 0.69970703125)], [('pty', 0.79443359375), ('abr', 0.76171875), (' consensus', 0.76123046875), (' catholic', 0.74560546875), ('ajara', 0.7373046875)], [('NOSCRIPT', 0.740234375), ('APIENTRY', 0.73681640625), ('apparmor', 0.7041015625), ('onsieur', 0.701171875), ('ibol', 0.6923828125)], [('rido', 0.87255859375), ('entrenador', 0.85888671875), ('ospin', 0.85888671875), ('espera', 0.8330078125), ('estad', 0.8291015625)], [('typen', 0.85009765625), ('cerning', 0.84423828125), ('fech', 0.8408203125), ('unger', 0.82470703125), (' then', 0.8125)], [('ILED', 0.939453125), ('кле', 0.904296875), ('RECT', 0.86572265625), ('reads', 0.82958984375), ('APIENTRY', 0.81689453125)], [('viar', 0.91162109375), ('itars', 0.83251953125), ('羯', 0.822265625), ('тал', 0.78466796875), ('normalfont', 0.78076171875)], [(' rebre', 0.86962890625), (' cou', 0.86865234375), ('跟鞋', 0.85400390625), ('unga', 0.8310546875), ('艺', 0.78125)]]\n",
      "\n",
      "MoE Layer 10:\n",
      "Selected experts: [[0, 45, 42, 33, 24, 63], [50, 24, 26, 38, 49, 0], [17, 1, 36, 49, 25, 0], [36, 1, 17, 3, 49, 46], [47, 17, 26, 24, 37, 60], [3, 17, 1, 49, 54, 47], [23, 22, 57, 17, 50, 52], [17, 1, 46, 3, 0, 29], [1, 25, 8, 46, 36, 49], [25, 1, 36, 12, 7, 46], [12, 1, 19, 62, 46, 44], [44, 19, 48, 12, 20, 62], [12, 19, 5, 56, 20, 62], [58, 12, 20, 54, 1, 28], [39, 0, 40, 46, 1, 29], [23, 25, 36, 39, 8, 11], [33, 19, 24, 8, 45, 12], [45, 23, 33, 12, 11, 42], [12, 11, 23, 28, 36, 19], [12, 54, 33, 61, 44, 5], [19, 20, 62, 12, 44, 11], [12, 11, 62, 20, 42, 19]]\n",
      "Expert weights: [[0.040771484375, 0.047271728515625, 0.13037109375, 0.09423828125, 0.107421875, 0.0298309326171875], [0.06768798828125, 0.07745361328125, 0.0760498046875, 0.091064453125, 0.08502197265625, 0.045684814453125], [0.0908203125, 0.10089111328125, 0.2120361328125, 0.051788330078125, 0.0419921875, 0.03839111328125], [0.1864013671875, 0.09283447265625, 0.08404541015625, 0.050628662109375, 0.0565185546875, 0.037261962890625], [0.114013671875, 0.11224365234375, 0.104248046875, 0.06072998046875, 0.03985595703125, 0.037872314453125], [0.1326904296875, 0.09844970703125, 0.0897216796875, 0.067138671875, 0.036102294921875, 0.033660888671875], [0.1783447265625, 0.10321044921875, 0.067626953125, 0.05816650390625, 0.0567626953125, 0.04290771484375], [0.055206298828125, 0.1455078125, 0.1151123046875, 0.05902099609375, 0.045562744140625, 0.04193115234375], [0.12017822265625, 0.09466552734375, 0.09161376953125, 0.0906982421875, 0.04083251953125, 0.03875732421875], [0.10748291015625, 0.1407470703125, 0.056243896484375, 0.0504150390625, 0.087646484375, 0.03369140625], [0.1005859375, 0.06256103515625, 0.2362060546875, 0.038848876953125, 0.040374755859375, 0.037017822265625], [0.07086181640625, 0.06878662109375, 0.05853271484375, 0.1842041015625, 0.0477294921875, 0.0460205078125], [0.082763671875, 0.1361083984375, 0.07952880859375, 0.032958984375, 0.03271484375, 0.0283203125], [0.11273193359375, 0.11138916015625, 0.10589599609375, 0.04730224609375, 0.045806884765625, 0.044647216796875], [0.1187744140625, 0.07989501953125, 0.07696533203125, 0.076904296875, 0.06842041015625, 0.0411376953125], [0.0673828125, 0.05279541015625, 0.056304931640625, 0.057647705078125, 0.1190185546875, 0.0408935546875], [0.14501953125, 0.041778564453125, 0.05010986328125, 0.049041748046875, 0.03790283203125, 0.033538818359375], [0.07159423828125, 0.060821533203125, 0.06298828125, 0.09686279296875, 0.038970947265625, 0.03729248046875], [0.0770263671875, 0.06781005859375, 0.057586669921875, 0.045928955078125, 0.04241943359375, 0.039031982421875], [0.1512451171875, 0.0438232421875, 0.1153564453125, 0.04022216796875, 0.038360595703125, 0.0364990234375], [0.062164306640625, 0.082763671875, 0.0697021484375, 0.07354736328125, 0.05755615234375, 0.054046630859375], [0.077880859375, 0.06805419921875, 0.052520751953125, 0.052093505859375, 0.04705810546875, 0.045501708984375]]\n",
      "Combined output tokens: [[('яна', 0.9345703125), (' fres', 0.9296875), ('andes', 0.8447265625), (' препратки', 0.83203125), ('idera', 0.8115234375)], [('@{', 1.4599609375), ('徘', 1.31640625), ('ismes', 1.296875), (' adjunto', 1.2109375), ('IATE', 1.208984375)], [('тели', 1.66796875), ('ses', 1.3955078125), ('лей', 1.37890625), ('�', 1.228515625), ('inel', 1.2060546875)], [('ses', 2.029296875), ('inset', 1.90625), ('outen', 1.7587890625), ('GES', 1.7529296875), ('osed', 1.666015625)], [('QT', 1.564453125), (' четник', 1.53125), ('sti', 1.5244140625), ('LOB', 1.462890625), ('wanda', 1.455078125)], [('ication', 1.6953125), ('OLE', 1.4716796875), ('Subcode', 1.37890625), (' LO', 1.3642578125), ('odromy', 1.349609375)], [('HEMA', 1.8701171875), ('pica', 1.666015625), ('充分发挥', 1.658203125), ('neig', 1.6298828125), ('sonian', 1.6240234375)], [('NameLink', 1.7421875), (' Russa', 1.712890625), ('IMS', 1.642578125), ('amora', 1.6416015625), ('ICH', 1.638671875)], [('[--', 1.6904296875), ('etre', 1.62890625), ('�起', 1.4267578125), (' acceptat', 1.4052734375), ('etal', 1.3720703125)], [('扬', 1.041015625), ('漫', 1.0009765625), (' PET', 0.94873046875), ('indeer', 0.94482421875), ('吉', 0.9384765625)], [('SourceFile', 1.5927734375), ('талия', 1.5888671875), ('Recorded', 1.5478515625), ('Vtbl', 1.5029296875), (' капа', 1.48046875)], [('inding', 2.189453125), ('orers', 2.125), ('lng', 2.11328125), ('евру', 1.98046875), ('nds', 1.90234375)], [(' model', 1.3388671875), ('touched', 1.2734375), ('ires', 1.1982421875), ('区域', 1.197265625), ('говор', 1.193359375)], [('pica', 1.6787109375), ('ecs', 1.4794921875), (' terme', 1.4541015625), ('任性', 1.3525390625), ('евру', 1.3095703125)], [('thm', 1.78515625), ('istat', 1.5517578125), ('精英', 1.5107421875), ('患', 1.4951171875), ('划', 1.4755859375)], [(' Attach', 1.408203125), ('etup', 1.3740234375), ('дри', 1.35546875), (' Brut', 1.3525390625), ('�', 1.279296875)], [('intent', 1.4267578125), (' R', 1.3984375), (' A', 1.28125), (' e', 1.2314453125), ('mat', 1.23046875)], [(\" '\", 1.78515625), (' +', 1.5654296875), (' e', 1.5625), (' ', 1.4111328125), ('己', 1.3935546875)], [(' вида', 1.509765625), (' Ex', 1.4609375), (' Trib', 1.384765625), (' бив', 1.3779296875), (' Dec', 1.3466796875)], [(' Pro', 1.423828125), ('ipage', 1.408203125), (' MAT', 1.3466796875), ('histori', 1.302734375), ('uent', 1.2783203125)], [('vature', 1.3837890625), (' Pro', 1.3837890625), ('alet', 1.341796875), (' Cost', 1.2626953125), ('unts', 1.2548828125)], [('Interop', 1.4033203125), ('anys', 1.359375), ('ssf', 1.3447265625), ('ometimes', 1.3115234375), ('ipro', 1.3046875)]]\n",
      "Expert predictions by position: {0: {0: [('�', 0.040924072265625), (' S', 0.038116455078125), ('8', 0.0377197265625), ('0', 0.0374755859375), ('6', 0.03662109375)], 24: [('жава', 0.356689453125), ('itur', 0.31787109375), (' Syr', 0.31396484375), ('жа', 0.300537109375), ('diy', 0.2998046875)], 33: [('ling', 1.076171875), ('intent', 1.0693359375), ('INT', 1.0263671875), (' R', 1.0166015625), ('int', 0.97509765625)], 42: [(' редо', 0.2244873046875), ('ector', 0.1915283203125), (' коле', 0.189208984375), ('ensor', 0.18359375), ('rino', 0.181640625)], 45: [('��', 0.389404296875), (' REFER', 0.2208251953125), ('鞋子', 0.2059326171875), ('hores', 0.20263671875), ('ACA', 0.1978759765625)], 63: [('тров', 0.0302886962890625), ('ambre', 0.02630615234375), ('kerel', 0.025299072265625), ('灭', 0.0251922607421875), ('aspoon', 0.0236358642578125)]}, 1: {0: [('quei', 0.2012939453125), ('�', 0.19580078125), ('CEL', 0.1787109375), ('osos', 0.1781005859375), ('assumption', 0.1754150390625)], 24: [('卵管', 0.031585693359375), ('】【', 0.0303802490234375), ('сор', 0.0298614501953125), ('aptics', 0.0291290283203125), (' gparted', 0.02777099609375)], 26: [(' externa', 0.45068359375), ('inari', 0.44921875), ('Вън', 0.38916015625), ('Окръг', 0.37890625), ('дие', 0.37841796875)], 38: [('antis', 0.46533203125), ('abre', 0.447265625), ('bation', 0.43408203125), (' m', 0.433837890625), (' Comunitat', 0.42431640625)], 49: [('ция', 0.1390380859375), ('acas', 0.1361083984375), ('ardown', 0.119384765625), ('adoc', 0.11749267578125), ('cean', 0.1165771484375)], 50: [('isFunction', 0.211181640625), ('isov', 0.210205078125), ('薄', 0.2003173828125), ('vnd', 0.19970703125), ('icate', 0.1895751953125)]}, 2: {0: [('nonumber', 0.2476806640625), ('ulats', 0.2301025390625), ('rize', 0.2298583984375), ('antage', 0.228759765625), ('ЕФА', 0.2230224609375)], 1: [('PORTED', 0.408935546875), ('inari', 0.400390625), ('好象', 0.3662109375), ('hig', 0.360107421875), ('mered', 0.35791015625)], 17: [('Поче', 0.3173828125), ('борите', 0.298828125), ('евру', 0.276123046875), ('ickr', 0.26904296875), (' Bertr', 0.265380859375)], 25: [('agrid', 0.478759765625), ('στ', 0.474365234375), ('тро', 0.4560546875), ('eteria', 0.44775390625), ('ngu', 0.447509765625)], 36: [('oshop', 0.10870361328125), ('дка', 0.106201171875), ('© ', 0.10565185546875), ('吁', 0.10540771484375), ('ometria', 0.1046142578125)], 49: [('8', 0.4775390625), ('ose', 0.424072265625), ('9', 0.419921875), ('7', 0.41455078125), ('compat', 0.39990234375)]}, 7: {0: [('Национа', 0.1326904296875), ('ково', 0.11602783203125), ('acl', 0.1153564453125), ('ack', 0.11273193359375), ('adow', 0.11090087890625)], 1: [('Enumerator', 0.9345703125), (' Collection', 0.8212890625), ('UEL', 0.80419921875), ('扣', 0.77685546875), ('епи', 0.77587890625)], 3: [('itat', 0.251220703125), (' изго', 0.244384765625), ('olor', 0.2403564453125), ('дник', 0.236328125), ('тен', 0.2325439453125)], 17: [('arques', 0.5771484375), ('wanda', 0.56201171875), ('ENC', 0.55712890625), ('jades', 0.5537109375), ('iges', 0.54736328125)], 29: [('岗', 0.193359375), ('peri', 0.1812744140625), ('ocou', 0.1761474609375), ('INTEN', 0.176025390625), ('essels', 0.1671142578125)], 46: [('encion', 0.8896484375), ('ateria', 0.77685546875), ('mal', 0.7744140625), ('esca', 0.7734375), ('селе', 0.7509765625)]}, 14: {0: [('ly', 0.203857421875), ('RB', 0.1732177734375), ('轨', 0.171875), ('PO', 0.170654296875), ('frame', 0.170166015625)], 1: [('4', 0.53369140625), ('0', 0.51611328125), ('3', 0.496826171875), ('гледа', 0.469482421875), ('8', 0.45654296875)], 29: [(' Pal', 0.2127685546875), ('Pal', 0.200439453125), (' Пала', 0.1832275390625), (' pal', 0.179931640625), ('hing', 0.1785888671875)], 39: [('thm', 1.125), ('unken', 0.90185546875), ('dem', 0.81298828125), ('\\r', 0.7939453125), ('ths', 0.7685546875)], 40: [('въ', 0.316162109375), (' басе', 0.29736328125), ('行政部门', 0.286376953125), ('долу', 0.281982421875), ('uchy', 0.281494140625)], 46: [('ADN', 0.50634765625), ('dorff', 0.4873046875), ('MEDIA', 0.4765625), ('fileset', 0.4697265625), ('uari', 0.468994140625)]}, 3: {1: [('[]\"', 0.5185546875), ('antrop', 0.5087890625), ('рал', 0.50244140625), ('etats', 0.49072265625), ('swer', 0.48974609375)], 3: [(' s', 0.7666015625), ('**', 0.755859375), ('wrapper', 0.712890625), ('uled', 0.68408203125), ('Wrapper', 0.68115234375)], 17: [(' ab', 0.335205078125), ('�', 0.329833984375), ('бина', 0.326416015625), ('�', 0.3212890625), ('本院', 0.31982421875)], 36: [('хран', 0.8720703125), ('casts', 0.85791015625), ('eters', 0.8369140625), (' key', 0.8369140625), ('�', 0.8251953125)], 46: [('lder', 0.1668701171875), ('мей', 0.1632080078125), ('}{~', 0.1614990234375), ('тера', 0.152587890625), (' Adela', 0.15234375)], 49: [('PYG', 0.219970703125), ('��', 0.2110595703125), ('orks', 0.2000732421875), ('cers', 0.197265625), ('дрид', 0.1944580078125)]}, 5: {1: [('plist', 0.37939453125), ('fusc', 0.373046875), ('>@', 0.360595703125), (' Beau', 0.360595703125), ('诉求', 0.358642578125)], 3: [('therefore', 0.2366943359375), (' b', 0.21826171875), ('rida', 0.216064453125), (' mol', 0.20703125), ('ules', 0.2021484375)], 17: [('ъд', 0.296875), ('��', 0.289794921875), ('urname', 0.28173828125), ('ajara', 0.27734375), ('fers', 0.255859375)], 47: [('CPTR', 0.2225341796875), ('楂', 0.20654296875), ('anguage', 0.166015625), ('WOOD', 0.1636962890625), ('balena', 0.1634521484375)], 49: [('EFI', 0.2685546875), ('tablen', 0.243408203125), ('WARE', 0.2425537109375), ('ulay', 0.24072265625), ('Общи', 0.2406005859375)], 54: [('ocomplete', 0.1358642578125), ('restant', 0.134033203125), ('бри', 0.127197265625), ('orp', 0.122314453125), ('бата', 0.1217041015625)]}, 8: {1: [(' should', 0.43359375), ('ulic', 0.4306640625), ('quis', 0.42041015625), ('责编', 0.416748046875), ('LEX', 0.411865234375)], 8: [('arga', 0.34033203125), ('铺', 0.339599609375), ('ear', 0.305908203125), ('ered', 0.3056640625), ('开后', 0.30224609375)], 25: [('ът', 0.25341796875), ('dings', 0.243408203125), ('edia', 0.2144775390625), ('蚂', 0.21337890625), ('aught', 0.2080078125)], 36: [('oci', 0.159912109375), ('стъ', 0.15625), ('整', 0.15380859375), ('isi', 0.153564453125), ('枸', 0.1473388671875)], 46: [('junct', 0.0946044921875), ('inga', 0.0804443359375), ('anwhile', 0.07977294921875), ('journ', 0.0789794921875), ('ificado', 0.07891845703125)], 49: [('rfc', 0.341552734375), ('imar', 0.314453125), ('碌', 0.305419921875), ('apac', 0.30029296875), ('inoa', 0.299560546875)]}, 9: {1: [('纹', 0.20166015625), ('狐', 0.2005615234375), ('ugosl', 0.1817626953125), (' Authorization', 0.1815185546875), ('ADO', 0.1807861328125)], 7: [('不会', 0.2310791015625), ('lla', 0.23095703125), ('icket', 0.2164306640625), ('的人数', 0.2156982421875), ('驱', 0.2152099609375)], 12: [('鸣', 0.54833984375), (' Martorell', 0.53515625), (' head', 0.52783203125), ('eks', 0.5263671875), ('inding', 0.52490234375)], 25: [('мера', 0.5380859375), ('ogene', 0.48388671875), ('ories', 0.478759765625), ('Сред', 0.446044921875), ('emat', 0.43408203125)], 36: [('ses', 1.4619140625), ('ymbol', 1.23828125), ('ulars', 1.2275390625), ('iture', 1.2060546875), ('anus', 1.205078125)], 46: [('观点或立场', 0.65087890625), ('resos', 0.63916015625), ('enca', 0.6376953125), ('گ', 0.63330078125), ('ionat', 0.62841796875)]}, 10: {1: [('anera', 0.5693359375), ('扣', 0.56494140625), ('дне', 0.5419921875), ('дната', 0.515625), ('投', 0.50634765625)], 12: [('orers', 1.62890625), ('信', 1.6142578125), ('onde', 1.568359375), (' поко', 1.5576171875), ('inding', 1.546875)], 19: [('oup', 0.2020263671875), ('卷', 0.1910400390625), ('土', 0.1844482421875), ('冠', 0.18408203125), (' gifts', 0.1787109375)], 44: [('anol', 0.400634765625), ('ipo', 0.39208984375), ('IABLE', 0.371337890625), ('IPP', 0.3671875), ('健', 0.35791015625)], 46: [('ierge', 0.1815185546875), ('imit', 0.166748046875), ('avity', 0.16552734375), ('ysis', 0.1571044921875), ('olla', 0.1551513671875)], 62: [('abor', 0.1859130859375), (' int', 0.18505859375), (' Bal', 0.170654296875), ('iol', 0.170166015625), (' o', 0.1666259765625)]}, 13: {1: [('ken', 0.187255859375), ('ttl', 0.1805419921875), ('Configured', 0.1668701171875), ('ë', 0.164306640625), ('ics', 0.1640625)], 12: [('�', 0.5234375), ('icode', 0.482421875), ('达', 0.48193359375), ('deo', 0.480712890625), ('imath', 0.480224609375)], 20: [('善', 0.640625), ('мври', 0.6025390625), ('ributions', 0.58642578125), ('haven', 0.53515625), ('евру', 0.533203125)], 28: [(' ', 0.1971435546875), ('仅代表作者本人', 0.1629638671875), (' missing', 0.1495361328125), ('符', 0.1490478515625), ('鹤', 0.14892578125)], 54: [(' бив', 0.1552734375), ('EVENTS', 0.1427001953125), ('utz', 0.1396484375), ('тания', 0.1396484375), ('тва', 0.139404296875)], 58: [('blad', 0.5283203125), ('MER', 0.509765625), (' Issue', 0.4833984375), ('↓', 0.47119140625), ('NAM', 0.46337890625)]}, 12: {5: [(' ак', 0.30810546875), ('HING', 0.290283203125), (' interchangeably', 0.285400390625), ('htable', 0.271240234375), ('immediate', 0.2476806640625)], 12: [(' ', 0.305908203125), ('anch', 0.276123046875), ('稣', 0.2744140625), ('ρι', 0.26416015625), ('ban', 0.26220703125)], 19: [('mbia', 0.34912109375), ('ради', 0.34423828125), ('ritical', 0.3251953125), ('rized', 0.3037109375), ('opam', 0.296630859375)], 20: [('2', 0.241943359375), ('6', 0.2313232421875), ('3', 0.2303466796875), ('1', 0.224853515625), ('drom', 0.2242431640625)], 56: [('кър', 0.07904052734375), ('mara', 0.07391357421875), ('马自', 0.072509765625), ('вател', 0.06988525390625), (' Шо', 0.06982421875)], 62: [('ej', 0.2435302734375), ('encion', 0.220458984375), (' platform', 0.2183837890625), ('四方', 0.218017578125), ('eus', 0.2138671875)]}, 19: {5: [('荷', 0.09918212890625), ('温', 0.09539794921875), ('нова', 0.0897216796875), ('abla', 0.08917236328125), ('elines', 0.08587646484375)], 12: [('roke', 0.2265625), (' +', 0.1920166015625), ('iat', 0.1759033203125), ('idge', 0.17529296875), ('�', 0.175048828125)], 33: [('oice', 0.88671875), ('威', 0.85302734375), (' wave', 0.84228515625), (' Pro', 0.837890625), (' e', 0.79931640625)], 44: [('死', 0.301025390625), ('程', 0.2607421875), ('基', 0.25634765625), ('би', 0.251953125), ('omatic', 0.24560546875)], 54: [('��', 0.1639404296875), ('idon', 0.1541748046875), ('ey', 0.152099609375), (' автоно', 0.1507568359375), ('til', 0.145263671875)], 61: [('Ungrouped', 0.20654296875), ('rbia', 0.166259765625), ('onats', 0.1658935546875), ('kai', 0.1649169921875), (' Съеди', 0.162841796875)]}, 15: {8: [('ianes', 0.1251220703125), ('esse', 0.11474609375), ('кович', 0.11224365234375), ('ollow', 0.11090087890625), ('itats', 0.1094970703125)], 11: [('lts', 0.252685546875), ('emente', 0.2259521484375), ('ropy', 0.219970703125), ('rak', 0.2177734375), ('ienda', 0.214111328125)], 23: [(' експе', 1.6611328125), ('指导', 1.419921875), ('раел', 1.380859375), ('гал', 1.2412109375), ('нета', 1.2041015625)], 25: [('d', 0.179443359375), ('sp', 0.1751708984375), ('v', 0.1668701171875), ('m', 0.16162109375), ('代表', 0.1568603515625)], 36: [('aveu', 0.2034912109375), ('ittest', 0.196533203125), ('пру', 0.19384765625), ('rere', 0.184814453125), ('Orient', 0.1798095703125)], 39: [('atype', 0.3955078125), ('googleads', 0.35400390625), ('formes', 0.352294921875), ('мперат', 0.34765625), ('正面', 0.347412109375)]}, 16: {8: [(' OMIT', 0.63818359375), ('esion', 0.5908203125), ('etup', 0.5615234375), ('anguage', 0.55126953125), ('acom', 0.53466796875)], 12: [('dim', 0.402099609375), ('lada', 0.40087890625), (' term', 0.389892578125), ('irie', 0.38818359375), ('励', 0.34814453125)], 19: [('acord', 0.186767578125), ('alore', 0.1669921875), ('corollary', 0.166259765625), ('ollary', 0.1639404296875), ('front', 0.161865234375)], 24: [('olog', 0.12188720703125), ('hold', 0.12005615234375), ('CESS', 0.1199951171875), ('rug', 0.11669921875), ('spr', 0.11627197265625)], 33: [(' ', 0.84228515625), ('6', 0.79833984375), ('1', 0.7763671875), ('ino', 0.775390625), ('7', 0.77392578125)], 45: [('inclo', 0.034088134765625), ('lega', 0.03338623046875), ('SPHINX', 0.033355712890625), ('��', 0.032928466796875), ('ober', 0.031524658203125)]}, 17: {11: [('ското', 0.85595703125), (\"''_\", 0.796875), ('rams', 0.79052734375), ('rowe', 0.78076171875), ('мм', 0.771484375)], 12: [(' застра', 0.7724609375), ('thood', 0.65234375), ('�', 0.6318359375), ('狼', 0.62109375), ('法定', 0.6162109375)], 23: [('net', 0.3427734375), (' апа', 0.33984375), (' c', 0.31884765625), ('del', 0.312255859375), ('ium', 0.307373046875)], 33: [('яна', 0.391357421875), ('frak', 0.331787109375), ('idera', 0.3203125), (' fres', 0.3134765625), ('apac', 0.31103515625)], 42: [('яна', 0.35693359375), (' fres', 0.354248046875), ('frak', 0.305419921875), ('andes', 0.297607421875), ('卸', 0.296875)], 45: [('рети', 0.08990478515625), ('abert', 0.08648681640625), ('blo', 0.084716796875), (' abre', 0.0845947265625), ('espect', 0.07666015625)]}, 18: {11: [('acor', 0.471923828125), ('峡', 0.455322265625), ('antro', 0.455078125), (\" '\", 0.4365234375), ('oted', 0.42236328125)], 12: [('�', 0.3564453125), ('quer', 0.346923828125), ('篇', 0.340576171875), ('国有', 0.326171875), ('刺', 0.325927734375)], 19: [('тнография', 1.2421875), ('талия', 1.189453125), ('Recorded', 1.1875), ('utat', 1.1640625), ('^{**', 1.1103515625)], 23: [(' апа', 0.2430419921875), ('apol', 0.203369140625), ('ality', 0.200439453125), ('��', 0.1978759765625), ('лад', 0.1964111328125)], 28: [(' convenci', 0.1690673828125), ('况', 0.164306640625), ('mpv', 0.158447265625), ('MEM', 0.1578369140625), ('工', 0.156494140625)], 36: [('omia', 0.1319580078125), (' amena', 0.12322998046875), ('onos', 0.112548828125), ('idden', 0.1121826171875), ('姓', 0.1119384765625)]}, 20: {11: [(\" '\", 0.99072265625), ('wered', 0.95068359375), ('adem', 0.92578125), (' Spani', 0.91748046875), ('chestr', 0.88916015625)], 12: [('flage', 0.08734130859375), (' boot', 0.0811767578125), ('viar', 0.07855224609375), ('wares', 0.0770263671875), ('imento', 0.07537841796875)], 19: [('pan', 0.5380859375), ('par', 0.52197265625), ('Pan', 0.490478515625), ('arris', 0.449462890625), ('翼翼', 0.448974609375)], 20: [('ulp', 0.2156982421875), (' edat', 0.20849609375), ('кос', 0.206787109375), ('allet', 0.2066650390625), ('нета', 0.2052001953125)], 44: [('ering', 0.1341552734375), ('er', 0.1156005859375), ('mies', 0.11553955078125), ('lets', 0.1153564453125), (' N', 0.11431884765625)], 62: [('�', 0.282470703125), ('ansa', 0.26171875), ('硬', 0.26123046875), ('厌', 0.25244140625), ('oser', 0.25146484375)]}, 21: {11: [('onyms', 0.591796875), ('vat', 0.56689453125), ('adem', 0.5556640625), (' фе', 0.5458984375), ('CodeAttribute', 0.5380859375)], 12: [(' n', 0.36474609375), ('gg', 0.34375), (' R', 0.335205078125), ('鸣', 0.326416015625), (' m', 0.324462890625)], 19: [('ipage', 0.10333251953125), (' лице', 0.096923828125), ('t', 0.09564208984375), (' tot', 0.09442138671875), ('enko', 0.0921630859375)], 20: [('�', 0.39892578125), ('大地', 0.389892578125), ('urf', 0.365234375), (' b', 0.363525390625), ('Accessibility', 0.358642578125)], 42: [('Health', 0.186279296875), ('ma', 0.1856689453125), ('amo', 0.1798095703125), ('oph', 0.173828125), ('Force', 0.171630859375)], 62: [('�乐', 0.279541015625), (' материали', 0.2486572265625), ('opil', 0.248046875), ('гени', 0.229736328125), ('pmy', 0.229248046875)]}, 11: {12: [('鸣', 0.5654296875), ('丘', 0.55029296875), ('лона', 0.54150390625), (' Martorell', 0.52880859375), ('ondon', 0.5185546875)], 19: [('�', 0.36376953125), ('σι', 0.314208984375), ('arms', 0.31005859375), ('的个人', 0.30322265625), ('grim', 0.293212890625)], 20: [('��', 0.345703125), ('akk', 0.338134765625), (' dependiendo', 0.318603515625), ('рий', 0.305908203125), ('рат', 0.30224609375)], 44: [('oak', 0.1341552734375), ('anners', 0.1300048828125), ('ксу', 0.12213134765625), ('янов', 0.119873046875), ('nor', 0.1173095703125)], 48: [('inga', 0.21435546875), ('报', 0.2042236328125), ('CELL', 0.199462890625), ('iga', 0.197509765625), ('上报', 0.1917724609375)], 62: [('тропи', 0.43408203125), ('ews', 0.396484375), (' OMIT', 0.39013671875), ('ifolds', 0.3818359375), ('ext', 0.380126953125)]}, 4: {17: [('accio', 0.439697265625), ('wanda', 0.430908203125), ('ernate', 0.420654296875), (' ordres', 0.41064453125), ('ardu', 0.4072265625)], 24: [('volution', 0.231201171875), ('odox', 0.223388671875), ('azing', 0.2210693359375), ('colgroup', 0.2203369140625), ('ITLE', 0.219482421875)], 26: [('тите', 0.62744140625), ('кти', 0.5244140625), ('invert', 0.51318359375), ('terna', 0.5087890625), (' Warfare', 0.489501953125)], 37: [('collar', 0.23193359375), (':&', 0.228759765625), ('тел', 0.224853515625), ('ifer', 0.2216796875), ('_$', 0.2161865234375)], 47: [('почва', 0.7392578125), ('Anvers', 0.71826171875), ('ssica', 0.67431640625), ('retched', 0.6728515625), ('iboot', 0.65673828125)], 60: [('autorest', 0.159423828125), ('orthy', 0.154541015625), ('SED', 0.1451416015625), ('sda', 0.13623046875), ('arella', 0.134765625)]}, 6: {17: [('表', 0.6767578125), ('Поче', 0.6572265625), ('icae', 0.646484375), (' directes', 0.62451171875), ('拌', 0.6220703125)], 22: [('oyal', 0.61083984375), ('olla', 0.60986328125), ('anchester', 0.58349609375), (' lava', 0.5791015625), ('удо', 0.56787109375)], 23: [('urat', 0.26220703125), ('ILS', 0.260009765625), ('autoload', 0.259765625), ('WORD', 0.246826171875), (' ladyship', 0.2325439453125)], 50: [('tham', 0.40087890625), ('vnd', 0.3701171875), ('arque', 0.3505859375), ('verage', 0.34375), (' pongo', 0.33740234375)], 52: [('пела', 0.2470703125), ('бет', 0.2410888671875), ('方', 0.2320556640625), ('值', 0.2281494140625), ('ORMAL', 0.218017578125)], 57: [(' PH', 0.26025390625), (' pH', 0.260009765625), ('сберг', 0.2318115234375), ('land', 0.2291259765625), ('ФК', 0.2271728515625)]}}\n",
      "Shared expert predictions: [[('osure', 0.281982421875), ('unknownFields', 0.270751953125), ('�乐', 0.2705078125), ('inced', 0.2666015625), ('lada', 0.26611328125)], [('徘', 0.77197265625), ('渺', 0.7607421875), ('ugosl', 0.74365234375), ('ismes', 0.7109375), ('strand', 0.708984375)], [('тели', 0.68359375), ('idors', 0.67431640625), ('ugosl', 0.66064453125), (' Republicana', 0.65283203125), (' haur', 0.64990234375)], [('ADA', 0.85595703125), ('etts', 0.77685546875), ('(.', 0.7763671875), ('Depart', 0.77490234375), ('GD', 0.7490234375)], [('轨道', 0.9228515625), ('hed', 0.919921875), ('迷茫', 0.9052734375), ('Fant', 0.8916015625), (' ark', 0.8798828125)], [('itm', 1.03515625), ('蹈', 0.9560546875), ('ето', 0.94189453125), ('�乐', 0.86474609375), ('自制', 0.83203125)], [('Vs', 1.0244140625), ('麒', 0.94140625), ('QCD', 0.90576171875), ('孤单', 0.89111328125), ('HEMA', 0.8876953125)], [('etal', 1.1201171875), ('好象', 0.951171875), ('atge', 0.94970703125), ('зно', 0.92529296875), ('ATO', 0.853515625)], [('�起', 1.19921875), ('RING', 1.046875), ('[--', 1.01953125), ('OI', 0.99365234375), ('刷新', 0.990234375)], [('翩', 0.77001953125), ('llar', 0.71240234375), ('emplar', 0.70166015625), ('IconError', 0.69921875), ('Ос', 0.69384765625)], [('emas', 0.75537109375), ('fons', 0.73876953125), ('正好', 0.73046875), ('adal', 0.71630859375), ('召', 0.7119140625)], [('��', 0.931640625), ('нав', 0.88134765625), (' recta', 0.84423828125), ('xspace', 0.81201171875), (':*.', 0.80517578125)], [('昭', 0.98583984375), ('fac', 0.96923828125), ('touch', 0.923828125), ('� ', 0.90869140625), ('touched', 0.853515625)], [('Duc', 0.9267578125), ('ORM', 0.9208984375), ('oDB', 0.90771484375), ('ADO', 0.89990234375), ('四处', 0.8935546875)], [(' Коста', 0.986328125), ('澄', 0.95458984375), ('isch', 0.94677734375), ('se', 0.9404296875), ('小平', 0.91552734375)], [('uter', 1.0576171875), (' Brut', 1.025390625), (' ен', 1.0068359375), (' ut', 0.99609375), (' Attach', 0.9619140625)], [('мил', 0.9052734375), ('CLUD', 0.83349609375), ('utus', 0.81494140625), ('adona', 0.8017578125), ('quina', 0.79931640625)], [('ради', 0.9072265625), ('elong', 0.82373046875), ('uits', 0.8125), ('inser', 0.78662109375), ('arlo', 0.78564453125)], [('мини', 1.0732421875), ('elong', 1.04296875), ('isca', 0.95458984375), (' вида', 0.9052734375), ('umed', 0.87158203125)], [('umni', 0.93017578125), ('lisher', 0.90771484375), ('theless', 0.892578125), ('ipte', 0.87646484375), (' vess', 0.87060546875)], [('ursal', 1.205078125), ('theless', 1.16796875), (' debo', 1.044921875), ('histori', 1.03125), ('normalfont', 0.990234375)], [(' neutr', 0.994140625), ('erme', 0.91455078125), ('ssf', 0.87890625), (' BAT', 0.87158203125), ('忍', 0.8642578125)]]\n",
      "\n",
      "MoE Layer 11:\n",
      "Selected experts: [[24, 42, 53, 2, 37, 58], [49, 10, 11, 26, 13, 9], [44, 41, 36, 40, 2, 49], [41, 40, 36, 1, 44, 60], [49, 29, 20, 39, 44, 13], [39, 41, 51, 3, 44, 1], [21, 34, 56, 30, 43, 11], [14, 1, 44, 54, 30, 55], [1, 54, 44, 36, 28, 14], [44, 1, 28, 15, 40, 4], [15, 7, 16, 35, 44, 17], [17, 15, 4, 47, 27, 2], [24, 38, 2, 47, 35, 17], [47, 57, 28, 3, 52, 4], [54, 1, 44, 48, 30, 28], [11, 1, 56, 54, 30, 44], [11, 56, 37, 62, 3, 19], [11, 40, 63, 47, 33, 18], [28, 29, 11, 56, 63, 15], [3, 25, 27, 57, 26, 60], [27, 3, 25, 28, 11, 35], [56, 51, 35, 3, 27, 24]]\n",
      "Expert weights: [[0.1251220703125, 0.061431884765625, 0.045562744140625, 0.0445556640625, 0.043914794921875, 0.0411376953125], [0.1773681640625, 0.08795166015625, 0.0469970703125, 0.04693603515625, 0.043975830078125, 0.0418701171875], [0.07513427734375, 0.091796875, 0.067626953125, 0.06658935546875, 0.050323486328125, 0.0477294921875], [0.1102294921875, 0.09466552734375, 0.0908203125, 0.0760498046875, 0.0699462890625, 0.0421142578125], [0.1094970703125, 0.07037353515625, 0.07330322265625, 0.058837890625, 0.09381103515625, 0.0545654296875], [0.102783203125, 0.06976318359375, 0.191650390625, 0.046875, 0.046661376953125, 0.028289794921875], [0.07818603515625, 0.0965576171875, 0.08355712890625, 0.07757568359375, 0.057159423828125, 0.04583740234375], [0.09088134765625, 0.12066650390625, 0.172119140625, 0.0906982421875, 0.05816650390625, 0.056060791015625], [0.232421875, 0.13037109375, 0.0755615234375, 0.04742431640625, 0.04339599609375, 0.042572021484375], [0.080810546875, 0.1114501953125, 0.0693359375, 0.067626953125, 0.062286376953125, 0.04742431640625], [0.1134033203125, 0.047637939453125, 0.047149658203125, 0.04632568359375, 0.044464111328125, 0.043670654296875], [0.07879638671875, 0.054473876953125, 0.0482177734375, 0.047637939453125, 0.046630859375, 0.04278564453125], [0.080810546875, 0.0577392578125, 0.05413818359375, 0.05230712890625, 0.038909912109375, 0.03802490234375], [0.06561279296875, 0.049163818359375, 0.142333984375, 0.11474609375, 0.052093505859375, 0.0367431640625], [0.1600341796875, 0.07806396484375, 0.08697509765625, 0.040191650390625, 0.130615234375, 0.038116455078125], [0.045806884765625, 0.08148193359375, 0.1900634765625, 0.113525390625, 0.0474853515625, 0.039215087890625], [0.0850830078125, 0.08331298828125, 0.054107666015625, 0.0361328125, 0.035919189453125, 0.0352783203125], [0.1024169921875, 0.09051513671875, 0.0743408203125, 0.054656982421875, 0.03997802734375, 0.036224365234375], [0.049468994140625, 0.065185546875, 0.08966064453125, 0.061553955078125, 0.04193115234375, 0.03955078125], [0.058746337890625, 0.051422119140625, 0.05035400390625, 0.0472412109375, 0.045135498046875, 0.044647216796875], [0.0718994140625, 0.0875244140625, 0.06134033203125, 0.0516357421875, 0.046966552734375, 0.044342041015625], [0.11383056640625, 0.05987548828125, 0.054962158203125, 0.054840087890625, 0.044158935546875, 0.03472900390625]]\n",
      "Combined output tokens: [[('一笔', 0.50537109375), ('enys', 0.48291015625), ('жени', 0.477783203125), ('IQUE', 0.4462890625), ('zem', 0.431884765625)], [('wa', 1.5029296875), ('堪', 1.4482421875), (' земе', 1.2958984375), ('WA', 1.2109375), ('日夜', 1.1552734375)], [('ropies', 1.302734375), ('цяло', 1.2109375), ('евру', 1.177734375), (' veuen', 1.0537109375), (' дял', 1.0390625)], [('aram', 1.44140625), (' enjo', 1.4365234375), ('substack', 1.3896484375), ('成功的', 1.3759765625), (' adonar', 1.3720703125)], [(\"''(\", 1.5537109375), ('弹', 1.501953125), ('ORA', 1.4443359375), ('jst', 1.41015625), ('empre', 1.3720703125)], [('OTTOM', 2.119140625), ('kow', 2.0859375), ('ANNEL', 2.052734375), ('oice', 1.982421875), ('mens', 1.982421875)], [('drom', 1.60546875), ('hana', 1.50390625), ('胳', 1.4921875), ('тец', 1.474609375), ('oide', 1.4560546875)], [('awi', 1.9326171875), (\"}$'\", 1.8212890625), ('ocracy', 1.7705078125), ('леда', 1.7548828125), ('вата', 1.7314453125)], [('jars', 1.9501953125), ('kind', 1.8818359375), ('itur', 1.8583984375), ('VS', 1.8349609375), ('律', 1.8203125)], [(\"'(\", 0.9306640625), (' concepci', 0.91259765625), (' eix', 0.91015625), ('riever', 0.87890625), ('рено', 0.84619140625)], [('optim', 0.87939453125), ('odec', 0.85986328125), ('дел', 0.83203125), ('直', 0.80810546875), ('百分点', 0.79443359375)], [('etooth', 1.16015625), ('ждане', 1.1298828125), ('сове', 1.1220703125), ('HING', 1.11328125), ('侯', 1.0791015625)], [('гот', 0.96630859375), ('直', 0.90771484375), ('rowColor', 0.8955078125), ('TestUtils', 0.89111328125), ('ilis', 0.8828125)], [('先生的', 1.228515625), ('atoris', 1.2197265625), ('OTA', 1.1611328125), (' hidr', 1.138671875), ('坐着', 1.1279296875)], [('adelphia', 2.2890625), ('полковник', 2.234375), ('TypeInfo', 2.197265625), (' sorts', 2.15234375), ('сил', 2.1015625)], [(' пар', 1.5537109375), ('灵', 1.548828125), ('wax', 1.494140625), ('检', 1.4541015625), ('bein', 1.453125)], [('bius', 1.017578125), ('tre', 0.9951171875), ('wat', 0.92529296875), ('стер', 0.91845703125), ('玺', 0.9130859375)], [('ottes', 1.517578125), ('ure', 1.4501953125), ('ur', 1.4228515625), ('uries', 1.4111328125), ('ures', 1.3671875)], [('odon', 1.1416015625), ('agma', 1.06640625), (' almacenado', 1.0556640625), ('alon', 1.0302734375), ('loom', 1.021484375)], [('代表', 1.0419921875), ('府', 0.9541015625), ('连', 0.94921875), ('mass', 0.93310546875), ('working', 0.91064453125)], [('tenance', 1.14453125), ('obres', 1.1142578125), (' ну', 1.1005859375), ('odont', 1.08984375), ('rqu', 1.064453125)], [('iterr', 1.25390625), ('тис', 1.177734375), ('odo', 1.1708984375), ('木齐', 1.1650390625), (' Dues', 1.1630859375)]]\n",
      "Expert predictions by position: {3: {1: [('ilon', 1.7099609375), ('enial', 1.638671875), ('�乐', 1.5390625), ('凉', 1.5322265625), ('we', 1.5263671875)], 36: [('encion', 0.5), ('sting', 0.490966796875), ('emo', 0.4580078125), ('布', 0.452392578125), ('uin', 0.44775390625)], 40: [('obles', 0.2174072265625), ('inear', 0.2041015625), ('一亮', 0.203857421875), ('误', 0.1995849609375), ('ropies', 0.198974609375)], 41: [('arrib', 0.457763671875), ('oleon', 0.428955078125), ('ouver', 0.408935546875), ('igual', 0.398193359375), ('ilet', 0.3896484375)], 44: [('范', 0.8701171875), ('imagenes', 0.845703125), (' важна', 0.8369140625), (' xoc', 0.82421875), ('ointe', 0.81689453125)], 60: [('мбар', 0.1925048828125), ('ipsis', 0.1866455078125), ('defineProperty', 0.17578125), ('nington', 0.1719970703125), ('става', 0.1669921875)]}, 5: {1: [('ursal', 0.79833984375), (' Deck', 0.77978515625), ('outhed', 0.75048828125), (' ,\\\\\\\\', 0.732421875), ('ipre', 0.72265625)], 3: [('必', 0.50146484375), ('茂', 0.5009765625), (' direct', 0.497802734375), ('olini', 0.486572265625), ('iats', 0.482421875)], 39: [('碌', 0.8232421875), ('ferred', 0.81103515625), ('assol', 0.7705078125), ('irs', 0.74951171875), ('itars', 0.69287109375)], 41: [('swick', 1.048828125), ('ulates', 0.8564453125), ('айнрих', 0.8388671875), ('линден', 0.828125), ('scriptscriptstyle', 0.822265625)], 44: [('技', 0.44482421875), (\"'::\", 0.420166015625), ('etats', 0.407470703125), (' Estat', 0.392578125), ('volumes', 0.387451171875)], 51: [('alesa', 1.9658203125), ('OTTOM', 1.8603515625), ('kow', 1.6669921875), ('乱', 1.5986328125), ('频', 1.5517578125)]}, 7: {1: [('�乐', 0.61279296875), ('近平', 0.55810546875), ('COMPI', 0.505859375), ('Ран', 0.489013671875), ('etcher', 0.471435546875)], 14: [('isting', 0.1943359375), ('ulating', 0.1646728515625), ('hljs', 0.1641845703125), ('tingen', 0.163330078125), ('heimer', 0.1611328125)], 30: [('ainty', 0.24072265625), ('rov', 0.2357177734375), ('oir', 0.219482421875), ('ixer', 0.216796875), ('Callbacks', 0.216552734375)], 44: [(' sc', 0.2093505859375), (' hook', 0.208251953125), ('irc', 0.193115234375), (' advance', 0.1905517578125), ('��', 0.1895751953125)], 54: [(' изи', 1.3994140625), ('поред', 1.3837890625), ('��', 1.3720703125), ('ive', 1.3408203125), ('стига', 1.3310546875)], 55: [('сус', 0.2398681640625), ('出不穷', 0.2203369140625), ('� ', 0.20751953125), ('Conditional', 0.195556640625), ('\\\\#', 0.195068359375)]}, 8: {1: [('堰', 0.482177734375), ('inary', 0.46533203125), (' descom', 0.458984375), ('etime', 0.452392578125), ('inot', 0.444091796875)], 14: [('ForTesting', 0.41455078125), ('isting', 0.389404296875), ('ума', 0.370361328125), (' Upper', 0.358642578125), ('isted', 0.3525390625)], 28: [('rip', 0.154541015625), ('][]', 0.1282958984375), ('лка', 0.1282958984375), (' постепенно', 0.1278076171875), ('рали', 0.1263427734375)], 36: [('ocamp', 0.2301025390625), ('osure', 0.2261962890625), ('logen', 0.219970703125), ('ablement', 0.2154541015625), ('vell', 0.194091796875)], 44: [('мей', 0.21923828125), ('1', 0.2161865234375), (' factura', 0.214599609375), ('8', 0.2139892578125), ('5', 0.204833984375)], 54: [(' бур', 0.6279296875), ('ako', 0.62255859375), (' Pol', 0.61474609375), ('llan', 0.60302734375), ('нау', 0.59619140625)]}, 9: {1: [('��', 0.2744140625), ('ILON', 0.2454833984375), ('onesos', 0.2398681640625), (' --></', 0.229248046875), ('rite', 0.2222900390625)], 4: [('onada', 0.146728515625), ('cling', 0.140380859375), ('flage', 0.1380615234375), ('预售', 0.13720703125), ('ropol', 0.135986328125)], 15: [('利', 0.252685546875), ('�', 0.2122802734375), ('ubern', 0.19580078125), ('夏', 0.19189453125), ('怕', 0.1868896484375)], 28: [('aines', 0.1707763671875), ('odus', 0.1707763671875), ('^*)', 0.1600341796875), ('来自于', 0.159912109375), ('lles', 0.15771484375)], 40: [('Dual', 0.2060546875), ('双重', 0.2060546875), (' пореди', 0.1988525390625), ('eva', 0.1962890625), ('8', 0.1904296875)], 44: [('s', 0.363525390625), ('eder', 0.358642578125), ('LOC', 0.345947265625), ('гата', 0.3447265625), ('ASH', 0.343017578125)]}, 14: {1: [('manda', 0.494140625), ('��', 0.48388671875), ('义务', 0.46044921875), ('ilon', 0.434326171875), ('мпи', 0.4248046875)], 28: [('rtt', 0.2064208984375), ('iggs', 0.1666259765625), ('rops', 0.1612548828125), (' Honor', 0.16064453125), (' Sett', 0.1602783203125)], 30: [('atum', 0.436767578125), ('ilities', 0.4072265625), ('5', 0.38818359375), ('kip', 0.3876953125), ('mil', 0.385498046875)], 44: [('venin', 0.150634765625), ('wer', 0.1412353515625), ('methods', 0.1385498046875), ('pols', 0.1380615234375), ('heon', 0.13330078125)], 48: [('脆', 0.15185546875), (' Esch', 0.147216796875), ('ebra', 0.1400146484375), ('utenberg', 0.1373291015625), ('BN', 0.136962890625)], 54: [(' Whitt', 0.65234375), ('Cum', 0.64208984375), ('remos', 0.63916015625), ('ifes', 0.60595703125), ('咐', 0.599609375)]}, 15: {1: [(' --></', 0.51171875), ('erity', 0.470703125), ('ncia', 0.43701171875), (' advoc', 0.429443359375), ('侮', 0.4287109375)], 11: [('私人', 0.44873046875), ('��', 0.4404296875), ('ts', 0.38671875), ('rew', 0.385986328125), ('嫌', 0.385498046875)], 30: [('assada', 0.381103515625), ('дово', 0.3603515625), ('циа', 0.34130859375), ('дове', 0.334228515625), ('apac', 0.328125)], 44: [('icci', 0.455322265625), ('ulatus', 0.45361328125), ('amily', 0.45166015625), ('Balancer', 0.439697265625), ('ulic', 0.432861328125)], 54: [(' vista', 0.71630859375), ('rary', 0.70263671875), ('ала', 0.677734375), ('vars', 0.673828125), ('лара', 0.669921875)], 56: [('let', 0.5263671875), ('t', 0.485107421875), ('v', 0.472412109375), ('rip', 0.467041015625), (' t', 0.456298828125)]}, 0: {2: [('meros', 0.1527099609375), (' laure', 0.1513671875), ('enet', 0.147216796875), ('fia', 0.145751953125), ('emor', 0.14111328125)], 24: [('lada', 0.05474853515625), ('isov', 0.044097900390625), ('撒', 0.043426513671875), ('rucci', 0.04241943359375), ('刚', 0.041168212890625)], 37: [('versation', 0.0292205810546875), ('ymbol', 0.0270233154296875), ('zem', 0.0253753662109375), ('regon', 0.024200439453125), (' precinct', 0.023681640625)], 42: [('�', 0.0546875), ('enys', 0.05426025390625), ('яна', 0.05340576171875), (' Изда', 0.0533447265625), ('ndar', 0.053131103515625)], 53: [('emir', 0.038818359375), ('AMES', 0.03759765625), ('quot', 0.0345458984375), ('ravings', 0.0335693359375), ('iat', 0.0301666259765625)], 58: [('opsi', 0.037139892578125), (' $^', 0.036590576171875), ('enys', 0.03515625), ('Община', 0.03411865234375), ('ygon', 0.033477783203125)]}, 2: {2: [('8', 0.1314697265625), ('9', 0.1290283203125), ('5', 0.123046875), ('2', 0.11944580078125), ('лага', 0.118896484375)], 36: [(' експе', 0.325439453125), (' опълченец', 0.320068359375), (' бежан', 0.319580078125), (' ръковод', 0.318115234375), (' Методий', 0.30029296875)], 40: [('efault', 0.25830078125), ('дос', 0.2454833984375), ('NORE', 0.244140625), ('ody', 0.2410888671875), ('Произ', 0.239501953125)], 41: [('appa', 0.35791015625), (' pull', 0.354736328125), ('CD', 0.353759765625), (' Hunter', 0.3505859375), ('track', 0.345458984375)], 44: [('�', 0.143310546875), ('ул', 0.13623046875), ('imon', 0.135986328125), (\" '[\", 0.1328125), (\" '</\", 0.1304931640625)], 49: [('onomia', 0.2080078125), ('axe', 0.1915283203125), ('жава', 0.1846923828125), ('omia', 0.1719970703125), ('createElement', 0.1702880859375)]}, 11: {2: [('*', 0.03857421875), ('HR', 0.0379638671875), ('\\n', 0.03717041015625), ('|', 0.035797119140625), (';', 0.03521728515625)], 4: [('ocks', 0.273193359375), ('eeq', 0.263916015625), ('стан', 0.260498046875), ('domen', 0.257080078125), ('lectiva', 0.2509765625)], 15: [('inition', 0.481689453125), ('ius', 0.405517578125), ('营', 0.389404296875), ('ogl', 0.361083984375), ('norm', 0.3603515625)], 17: [('��', 0.1854248046875), ('::::', 0.1715087890625), ('sein', 0.164794921875), ('дят', 0.1600341796875), ('erland', 0.1595458984375)], 27: [('тено', 0.274658203125), ('�', 0.245361328125), ('Measure', 0.245361328125), ('aped', 0.2353515625), (' продължение', 0.23291015625)], 47: [('стига', 0.1470947265625), (' кари', 0.1322021484375), ('忘', 0.1290283203125), ('ogan', 0.1282958984375), ('一番', 0.1265869140625)]}, 12: {2: [('hea', 0.1732177734375), ('�', 0.167724609375), (' Gr', 0.1588134765625), ('Gr', 0.147216796875), (' CBC', 0.146484375)], 17: [(' PARTITION', 0.2469482421875), ('��', 0.2447509765625), (' _$', 0.226318359375), ('��', 0.2230224609375), ('::$', 0.2139892578125)], 24: [(' gear', 0.0687255859375), (' carrer', 0.0677490234375), ('ש', 0.06683349609375), ('acters', 0.06658935546875), ('ucer', 0.065185546875)], 35: [('евру', 0.47607421875), ('unknownFields', 0.341064453125), ('върх', 0.332275390625), ('canvi', 0.33203125), ('postinst', 0.3076171875)], 38: [('ascript', 0.1513671875), ('avell', 0.1446533203125), (' групи', 0.1441650390625), ('uerdo', 0.13623046875), ('aquen', 0.1348876953125)], 47: [('ели', 0.1591796875), ('nect', 0.1580810546875), ('hart', 0.1568603515625), ('сти', 0.1495361328125), ('стига', 0.1483154296875)]}, 13: {3: [('entials', 0.280517578125), ('idelines', 0.26220703125), ('LOY', 0.260986328125), ('delt', 0.244873046875), ('idual', 0.2408447265625)], 4: [('行', 0.1690673828125), ('ydia', 0.1563720703125), ('тори', 0.15283203125), ('classic', 0.150634765625), ('goto', 0.150390625)], 28: [('态', 0.89892578125), (' yourselves', 0.69921875), ('zers', 0.69384765625), ('amic', 0.68603515625), ('мп', 0.67138671875)], 47: [(' Pratt', 0.1822509765625), (',', 0.1810302734375), (' sket', 0.1754150390625), (' Parn', 0.1746826171875), ('一把', 0.1729736328125)], 52: [('InstanceState', 0.22021484375), (' savedInstanceState', 0.2183837890625), ('�', 0.2147216796875), ('imits', 0.21337890625), ('edom', 0.21142578125)], 57: [('ensing', 0.25830078125), ('чният', 0.255859375), ('мове', 0.24853515625), ('usalem', 0.2481689453125), ('iterr', 0.24365234375)]}, 16: {3: [('blic', 0.2607421875), (' solitari', 0.241455078125), ('cir', 0.236328125), (' Touch', 0.2333984375), ('nex', 0.2276611328125)], 11: [('豫', 0.25927734375), ('套房', 0.2568359375), ('ител', 0.25), ('leg', 0.2442626953125), ('рани', 0.2425537109375)], 19: [('стви', 0.11083984375), ('ствия', 0.092529296875), ('мбо', 0.09014892578125), ('啡', 0.08990478515625), ('legiate', 0.08746337890625)], 37: [('withstanding', 0.221923828125), ('�起', 0.2081298828125), ('imately', 0.19970703125), ('anera', 0.19677734375), ('fully', 0.1953125)], 56: [('onstr', 0.358642578125), ('omys', 0.33544921875), ('лева', 0.3349609375), ('rowse', 0.328125), (' Prats', 0.3251953125)], 62: [('стви', 0.07366943359375), ('ствие', 0.06976318359375), ('бол', 0.06683349609375), ('满', 0.0635986328125), ('翻', 0.060333251953125)]}, 19: {3: [('phant', 0.42236328125), ('rivate', 0.41455078125), ('íř', 0.409423828125), ('entials', 0.40576171875), ('Unit', 0.404052734375)], 25: [('�', 0.322265625), ('akes', 0.31884765625), ('ets', 0.29638671875), ('Vict', 0.275146484375), ('тици', 0.274169921875)], 26: [('undi', 0.1580810546875), ('nteg', 0.1572265625), ('ктура', 0.156005859375), ('��', 0.146484375), ('这张', 0.1458740234375)], 27: [('лям', 0.4150390625), ('тено', 0.38525390625), ('藏', 0.372802734375), (' социалисти', 0.369873046875), ('前置', 0.365966796875)], 57: [('сал', 0.27490234375), ('utad', 0.2476806640625), ('iscop', 0.2386474609375), ('theo', 0.2353515625), ('орн', 0.234619140625)], 60: [('pera', 0.1737060546875), ('refore', 0.161376953125), ('ittle', 0.1517333984375), ('ttle', 0.1512451171875), (' Offline', 0.150634765625)]}, 20: {3: [('version', 0.11126708984375), ('bigotimes', 0.0982666015625), ('轨', 0.096923828125), ('dd', 0.0966796875), ('符', 0.0963134765625)], 11: [('zena', 0.2296142578125), (' relle', 0.219482421875), ('litza', 0.2003173828125), ('icrosoft', 0.197998046875), ('OperationKind', 0.1976318359375)], 25: [('鹿', 0.2099609375), (' vict', 0.2073974609375), ('imate', 0.2012939453125), ('知情', 0.196533203125), (' S', 0.1954345703125)], 27: [('pam', 0.260986328125), ('spite', 0.234619140625), ('тии', 0.23095703125), ('ards', 0.2255859375), ('кове', 0.2235107421875)], 28: [(' getClass', 0.22216796875), ('вро', 0.2220458984375), ('ridor', 0.2200927734375), ('inherited', 0.2188720703125), ('thy', 0.217041015625)], 35: [('мберг', 0.266845703125), ('acan', 0.218505859375), ('CKS', 0.2088623046875), ('еку', 0.202392578125), ('aves', 0.1973876953125)]}, 21: {3: [('�', 0.196533203125), ('ensk', 0.1947021484375), ('rado', 0.192138671875), ('快', 0.191650390625), (' Русе', 0.18212890625)], 24: [('adata', 0.20068359375), ('inkling', 0.1944580078125), (' надпис', 0.17333984375), ('adir', 0.1710205078125), ('диен', 0.16748046875)], 27: [('agues', 0.283447265625), ('texorpdfstring', 0.267333984375), ('导入', 0.25927734375), ('itori', 0.2459716796875), ('nimo', 0.239013671875)], 35: [('ксел', 0.1806640625), ('apsed', 0.1756591796875), ('estrat', 0.1685791015625), ('agena', 0.1651611328125), (' Zem', 0.1572265625)], 51: [('牺', 0.33056640625), ('防御', 0.298095703125), ('�', 0.297119140625), ('mk', 0.296630859375), ('防', 0.287841796875)], 56: [('plit', 0.63330078125), ('usch', 0.62158203125), ('一批', 0.576171875), ('osen', 0.529296875), ('FORE', 0.52392578125)]}, 10: {7: [('eas', 0.162353515625), ('ismes', 0.15576171875), ('icent', 0.15576171875), ('рано', 0.151123046875), ('ново', 0.1485595703125)], 15: [('ple', 0.1856689453125), (' Orde', 0.173828125), ('mes', 0.1724853515625), ('xid', 0.1708984375), ('th', 0.16845703125)], 16: [(' reaccion', 0.1732177734375), ('利', 0.17041015625), ('veless', 0.167236328125), ('IQ', 0.1591796875), ('enco', 0.158935546875)], 17: [('typen', 0.7373046875), ('��', 0.66259765625), ('зия', 0.65673828125), ('terer', 0.64697265625), ('acher', 0.63916015625)], 35: [('евру', 0.496337890625), ('驻', 0.44091796875), (';->', 0.429931640625), ('ού', 0.427001953125), ('ург', 0.3955078125)], 44: [('ne', 0.322509765625), (' =', 0.288330078125), ('仅代表作者本人', 0.286865234375), ('Vir', 0.28466796875), ('we', 0.284423828125)]}, 1: {9: [('t', 0.160400390625), ('дие', 0.156005859375), ('дат', 0.1456298828125), ('l', 0.138427734375), ('e', 0.1375732421875)], 10: [('�', 0.44677734375), (' O', 0.441650390625), ('na', 0.427734375), ('ilot', 0.421142578125), ('抵', 0.39599609375)], 11: [('um', 0.1923828125), ('cour', 0.181640625), ('лец', 0.177734375), ('inx', 0.17578125), (' първия', 0.17431640625)], 13: [('erg', 0.2384033203125), ('asy', 0.228271484375), ('erc', 0.225830078125), ('ly', 0.2255859375), ('enda', 0.21728515625)], 26: [('ardin', 0.24267578125), (' сили', 0.2230224609375), (' степен', 0.193115234375), ('asco', 0.18408203125), ('нен', 0.1834716796875)], 49: [(' &', 0.90625), ('_', 0.87158203125), (' /', 0.80419921875), ('&', 0.79443359375), ('wa', 0.75732421875)]}, 6: {11: [('嫌', 0.2362060546875), ('paramtype', 0.2333984375), ('гро', 0.2322998046875), ('��', 0.229736328125), ('oner', 0.223876953125)], 21: [('7', 0.58984375), ('6', 0.56787109375), ('9', 0.56640625), ('4', 0.54833984375), ('2', 0.54638671875)], 30: [('лийски', 1.64453125), ('====', 1.583984375), ('========================', 1.54296875), ('полковник', 1.3896484375), ('Marg', 1.3583984375)], 34: [('Protos', 0.96337890625), ('nida', 0.77490234375), ('resos', 0.759765625), ('стител', 0.68896484375), (' негова', 0.6875)], 43: [('padre', 0.352294921875), ('istram', 0.349853515625), (' densitat', 0.318603515625), ('ellido', 0.3125), ('�', 0.3125)], 56: [('тено', 1.03515625), ('IDS', 1.0146484375), ('equilibri', 1.0087890625), ('NOSCRIPT', 0.99365234375), ('тък', 0.9208984375)]}, 17: {11: [('8', 0.420654296875), ('oya', 0.414794921875), ('0', 0.40576171875), ('ritz', 0.405029296875), ('9', 0.402099609375)], 18: [('рам', 0.08953857421875), (' lectors', 0.08880615234375), ('pedia', 0.08392333984375), ('Окръг', 0.081298828125), ('picker', 0.0797119140625)], 33: [('腾', 0.1717529296875), ('angel', 0.1683349609375), ('w', 0.16259765625), ('гон', 0.1617431640625), ('iph', 0.15966796875)], 40: [('↳', 0.428466796875), (' Lith', 0.410400390625), (' пла', 0.384521484375), ('agena', 0.3671875), (' repeat', 0.36474609375)], 47: [('anyol', 0.2081298828125), ('рус', 0.1845703125), ('illot', 0.1785888671875), ('ito', 0.171875), (' Serrano', 0.17041015625)], 63: [('面对', 0.22314453125), ('esgl', 0.201416015625), (' Hy', 0.201171875), ('aterno', 0.199462890625), ('gdal', 0.197998046875)]}, 18: {11: [('ure', 1.287109375), ('ur', 1.1533203125), ('urement', 1.05859375), ('uria', 1.0517578125), ('rew', 1.04296875)], 15: [('fffff', 0.10540771484375), ('坛', 0.1016845703125), (' likely', 0.095947265625), ('临', 0.09539794921875), (' CO', 0.09521484375)], 28: [(' paret', 0.29443359375), ('дем', 0.286865234375), ('��', 0.283447265625), (' teix', 0.2548828125), ('IMP', 0.2437744140625)], 29: [('нея', 0.443603515625), ('новите', 0.441162109375), ('xsi', 0.42822265625), ('reich', 0.41796875), ('ighted', 0.415283203125)], 56: [('пя', 0.306640625), ('rafo', 0.281005859375), ('hens', 0.276123046875), ('LOCKS', 0.258544921875), ('泰', 0.256103515625)], 63: [('��', 0.1634521484375), ('vct', 0.1622314453125), (' venia', 0.160400390625), ('odinger', 0.1602783203125), ('ikipedia', 0.1580810546875)]}, 4: {13: [('urada', 0.1597900390625), ('Blockly', 0.140869140625), (' преди', 0.1397705078125), ('activar', 0.1375732421875), ('inari', 0.1334228515625)], 20: [('onar', 0.56005859375), ('рио', 0.54248046875), ('informe', 0.51318359375), (' община', 0.4892578125), ('otrans', 0.484130859375)], 29: [('ЕФА', 0.488037109375), ('Magent', 0.4560546875), ('adal', 0.447021484375), ('беди', 0.437744140625), ('ред', 0.432861328125)], 39: [('弹', 0.37255859375), ('碌', 0.310791015625), ('guera', 0.296142578125), (' normalisation', 0.2958984375), ('лага', 0.285888671875)], 44: [('rass', 0.2802734375), (\"'\", 0.2587890625), (' ourselves', 0.245361328125), ('鸭', 0.2452392578125), (' though', 0.2406005859375)], 49: [('ty', 0.54638671875), ('пси', 0.53857421875), (' Gim', 0.52880859375), ('ncia', 0.496826171875), (' Com', 0.494384765625)]}}\n",
      "Shared expert predictions: [[('一笔', 0.40234375), ('ORA', 0.39697265625), (' Qgs', 0.396728515625), ('жени', 0.380859375), ('alleled', 0.362060546875)], [('следовател', 0.85205078125), ('GeneratedCode', 0.806640625), ('牵手', 0.79296875), ('marshall', 0.791015625), ('ugal', 0.7841796875)], [('��', 1.017578125), ('Окръг', 0.91259765625), ('цяло', 0.892578125), ('евру', 0.84033203125), ('�乐', 0.79443359375)], [('aram', 0.9306640625), ('翔', 0.82958984375), ('一再', 0.775390625), ('弱点', 0.75244140625), ('INO', 0.7431640625)], [(' slic', 0.921875), ('AIPS', 0.92138671875), ('oprocessing', 0.84619140625), (' \\\\;.', 0.845703125), ('arma', 0.83984375)], [('trac', 0.97509765625), ('чие', 0.97314453125), ('embar', 0.9326171875), ('rits', 0.84326171875), ('Comtes', 0.8291015625)], [('ogo', 0.95654296875), ('臻', 0.94384765625), ('叠', 0.89501953125), ('匆匆', 0.8701171875), ('oto', 0.86279296875)], [('arx', 0.93798828125), ('Artag', 0.91748046875), ('华中', 0.9072265625), ('embar', 0.9052734375), ('圣诞', 0.890625)], [('ancholy', 0.78271484375), (' SU', 0.7705078125), ('лек', 0.75732421875), ('elian', 0.7431640625), ('ServiceProvider', 0.7314453125)], [('把手', 0.7275390625), ('нев', 0.6708984375), ('pence', 0.64697265625), ('suit', 0.61669921875), ('搬', 0.61572265625)], [('quera', 0.81396484375), ('etooth', 0.7373046875), ('ADA', 0.734375), ('差别', 0.71337890625), (' stam', 0.7099609375)], [('etooth', 0.85205078125), ('Views', 0.81787109375), ('想念', 0.78125), (' circ', 0.7431640625), ('края', 0.7421875)], [('гот', 0.8876953125), ('itae', 0.8154296875), ('CREMENT', 0.77587890625), ('emb', 0.76708984375), ('кол', 0.75732421875)], [('OffRequest', 0.92626953125), ('ятно', 0.87353515625), ('pings', 0.86669921875), ('rowColor', 0.7607421875), ('eqz', 0.759765625)], [('dis', 0.9833984375), ('erta', 0.9599609375), ('府', 0.9375), ('�', 0.92724609375), ('erral', 0.9013671875)], [(' polo', 0.91748046875), ('泌', 0.85302734375), (' Polo', 0.81884765625), ('achel', 0.8115234375), ('璀', 0.80712890625)], [('bius', 0.87109375), ('ILED', 0.73876953125), ('iaris', 0.73828125), ('quines', 0.68408203125), ('�', 0.67529296875)], [('bius', 0.84228515625), (' Catalana', 0.82666015625), ('тва', 0.80078125), ('orat', 0.7998046875), ('itari', 0.7919921875)], [('odon', 0.923828125), (' inact', 0.9140625), ('omus', 0.80224609375), ('elong', 0.7607421875), ('ELY', 0.7255859375)], [('working', 0.82958984375), (' lett', 0.82666015625), ('庙', 0.80859375), ('ambre', 0.80810546875), ('rot', 0.80810546875)], [('odont', 0.8486328125), (' Reference', 0.76611328125), ('odon', 0.73291015625), ('деж', 0.71875), ('стани', 0.70361328125)], [('ttes', 0.97119140625), ('стани', 0.87255859375), ('aghetti', 0.86376953125), ('рел', 0.8544921875), ('outs', 0.84326171875)]]\n",
      "\n",
      "MoE Layer 12:\n",
      "Selected experts: [[36, 1, 33, 48, 50, 17], [63, 54, 47, 3, 20, 0], [47, 42, 63, 3, 54, 49], [47, 23, 3, 54, 42, 46], [47, 55, 3, 63, 20, 2], [63, 47, 3, 5, 62, 54], [3, 47, 6, 9, 43, 20], [21, 59, 3, 47, 54, 15], [21, 42, 15, 35, 54, 46], [32, 54, 7, 4, 63, 46], [7, 4, 41, 8, 14, 13], [14, 13, 7, 4, 63, 30], [8, 43, 13, 14, 32, 34], [4, 2, 5, 63, 8, 44], [59, 33, 35, 15, 10, 29], [42, 10, 35, 4, 54, 21], [18, 8, 25, 14, 30, 7], [7, 30, 20, 14, 18, 43], [7, 10, 20, 32, 23, 14], [5, 20, 23, 17, 26, 41], [5, 20, 41, 10, 4, 34], [5, 62, 41, 34, 10, 11]]\n",
      "Expert weights: [[0.54541015625, 0.02099609375, 0.02435302734375, 0.0247344970703125, 0.01971435546875, 0.0176849365234375], [0.09527587890625, 0.056640625, 0.0589599609375, 0.055419921875, 0.093994140625, 0.049591064453125], [0.1781005859375, 0.147705078125, 0.1082763671875, 0.057342529296875, 0.04833984375, 0.046600341796875], [0.1356201171875, 0.1275634765625, 0.11285400390625, 0.04364013671875, 0.04071044921875, 0.040130615234375], [0.1536865234375, 0.0921630859375, 0.09674072265625, 0.07220458984375, 0.0711669921875, 0.051055908203125], [0.12548828125, 0.124267578125, 0.10284423828125, 0.0802001953125, 0.066650390625, 0.034454345703125], [0.114501953125, 0.09326171875, 0.08197021484375, 0.07684326171875, 0.05938720703125, 0.052215576171875], [0.157470703125, 0.12310791015625, 0.0718994140625, 0.067138671875, 0.061004638671875, 0.0567626953125], [0.08575439453125, 0.08660888671875, 0.095703125, 0.07049560546875, 0.067626953125, 0.051116943359375], [0.07330322265625, 0.061981201171875, 0.1927490234375, 0.04437255859375, 0.0396728515625, 0.032012939453125], [0.10174560546875, 0.07012939453125, 0.049041748046875, 0.044097900390625, 0.04388427734375, 0.043060302734375], [0.1025390625, 0.06097412109375, 0.05950927734375, 0.049285888671875, 0.038848876953125, 0.037139892578125], [0.0426025390625, 0.044036865234375, 0.0919189453125, 0.0675048828125, 0.03826904296875, 0.036346435546875], [0.097412109375, 0.09576416015625, 0.05419921875, 0.032562255859375, 0.030242919921875, 0.029388427734375], [0.07818603515625, 0.11712646484375, 0.09747314453125, 0.058319091796875, 0.045074462890625, 0.038848876953125], [0.1058349609375, 0.0982666015625, 0.045928955078125, 0.043792724609375, 0.035064697265625, 0.031341552734375], [0.1090087890625, 0.0830078125, 0.056884765625, 0.044342041015625, 0.043701171875, 0.035430908203125], [0.1241455078125, 0.07684326171875, 0.05169677734375, 0.04962158203125, 0.044921875, 0.039031982421875], [0.1510009765625, 0.06854248046875, 0.054534912109375, 0.040130615234375, 0.0352783203125, 0.033355712890625], [0.08172607421875, 0.0682373046875, 0.037017822265625, 0.034759521484375, 0.0340576171875, 0.03350830078125], [0.07965087890625, 0.058685302734375, 0.08038330078125, 0.050628662109375, 0.04791259765625, 0.04443359375], [0.053192138671875, 0.051239013671875, 0.0565185546875, 0.048858642578125, 0.048431396484375, 0.036712646484375]]\n",
      "Combined output tokens: [[('idera', 2.78515625), ('frak', 2.775390625), ('jem', 2.7421875), ('яна', 2.673828125), (' fres', 2.669921875)], [('ErrorReason', 1.5205078125), ('ecer', 1.5068359375), (' notranslate', 1.4072265625), ('ibol', 1.3974609375), ('kun', 1.357421875)], [('ENC', 1.4921875), ('emberg', 1.4765625), (' notranslate', 1.46875), ('elen', 1.42578125), ('olla', 1.390625)], [('��', 3.076171875), ('ossal', 2.396484375), ('refox', 2.173828125), ('��', 2.166015625), ('徘', 2.158203125)], [('iline', 1.9248046875), ('丘', 1.9169921875), ('igure', 1.7998046875), ('ATS', 1.7919921875), ('corre', 1.6962890625)], [('vine', 1.8046875), ('发了', 1.7294921875), (' суб', 1.6533203125), (' sub', 1.6240234375), ('uy', 1.5810546875)], [('IAS', 1.916015625), (' (>', 1.6904296875), (' (+', 1.6787109375), ('免', 1.6474609375), ('打通', 1.6015625)], [('ivet', 1.9306640625), ('antro', 1.591796875), (' Jub', 1.505859375), ('dome', 1.4638671875), ('vide', 1.4248046875)], [(' дел', 1.4345703125), ('нета', 1.4140625), ('anum', 1.4111328125), ('шу', 1.3837890625), (' convenc', 1.3603515625)], [('owered', 1.986328125), ('pides', 1.8994140625), ('请', 1.8955078125), ('YPE', 1.8193359375), ('ятно', 1.794921875)], [('bona', 1.4453125), ('части', 1.2607421875), ('ideos', 1.2548828125), ('otas', 1.2421875), ('alion', 1.1953125)], [('�', 1.2861328125), ('bona', 1.2109375), ('=\"../_', 1.1884765625), ('mero', 1.1884765625), ('CQ', 1.1591796875)], [('AGA', 1.4775390625), ('ygon', 1.4208984375), ('Cci', 1.255859375), ('mia', 1.2197265625), ('CQ', 1.1640625)], [('Subcode', 1.4580078125), ('NonUser', 1.447265625), ('apac', 1.390625), ('ameters', 1.376953125), ('咕', 1.376953125)], [('ulta', 1.4873046875), ('代', 1.42578125), ('免', 1.404296875), ('升', 1.40234375), ('SYM', 1.3916015625)], [('rime', 1.8837890625), ('entes', 1.8427734375), ('体外', 1.701171875), ('幢', 1.6640625), (' именно', 1.6494140625)], [('wlp', 1.0439453125), ('assent', 1.0419921875), ('etooth', 1.015625), ('CALLTYPE', 0.96630859375), (' marins', 0.96435546875)], [('quina', 1.4189453125), ('abat', 1.240234375), ('queries', 1.189453125), (' DESCRIPT', 1.150390625), (' terme', 1.099609375)], [(' e', 1.7109375), (' thing', 1.66015625), ('libre', 1.625), ('juju', 1.5927734375), (' et', 1.57421875)], [('ad', 1.3642578125), ('b', 1.2421875), ('ly', 1.16796875), ('ca', 1.1611328125), ('WB', 1.158203125)], [(' S', 1.3837890625), ('versa', 1.2900390625), ('revision', 1.2685546875), ('agar', 1.2548828125), ('中共', 1.251953125)], [('themselves', 1.2548828125), ('icum', 1.0341796875), ('ferr', 1.0029296875), ('onium', 0.99755859375), ('agar', 0.98974609375)]]\n",
      "Expert predictions by position: {1: {0: [('ioned', 0.1781005859375), ('ilon', 0.1719970703125), ('acab', 0.1658935546875), ('arias', 0.163818359375), (' Coloma', 0.1629638671875)], 3: [('ейнт', 1.2890625), ('тв', 1.1943359375), ('istram', 1.1865234375), ('astered', 1.1748046875), ('acent', 1.1640625)], 20: [('es', 0.320068359375), ('�', 0.26806640625), ('sar', 0.26220703125), ('e', 0.260986328125), ('sal', 0.2432861328125)], 47: [('�', 0.8408203125), ('дава', 0.73388671875), (' observat', 0.7080078125), ('ято', 0.70361328125), ('控制系统', 0.68115234375)], 54: [('行', 0.150146484375), ('...', 0.1473388671875), ('fitting', 0.1473388671875), ('нди', 0.1424560546875), ('whom', 0.14208984375)], 63: [(' returns', 0.1300048828125), (' curs', 0.1280517578125), ('ravity', 0.1273193359375), ('мена', 0.12255859375), ('tou', 0.12115478515625)]}, 0: {1: [('nections', 0.0198974609375), ('ugin', 0.0194549560546875), ('apad', 0.0182952880859375), ('受访', 0.0181884765625), ('icana', 0.0181884765625)], 17: [('themselves', 0.1324462890625), ('uite', 0.1209716796875), ('arcal', 0.11444091796875), ('ampp', 0.11138916015625), ('roit', 0.10858154296875)], 33: [('2', 0.873046875), ('3', 0.7822265625), ('0', 0.7412109375), ('ums', 0.73876953125), ('1', 0.7197265625)], 36: [('idera', 2.654296875), ('jem', 2.56640625), ('frak', 2.5546875), ('яна', 2.45703125), (' fres', 2.455078125)], 48: [('7', 0.031402587890625), ('5', 0.0266265869140625), ('8', 0.024078369140625), ('6', 0.0240631103515625), (' M', 0.0237274169921875)], 50: [('rinos', 0.0120086669921875), ('кове', 0.010955810546875), ('kien', 0.01087188720703125), ('hav', 0.0106658935546875), ('раст', 0.01062774658203125)]}, 4: {2: [('гро', 0.662109375), (' doblada', 0.61376953125), (' antemano', 0.6083984375), (' editat', 0.60498046875), ('pmb', 0.59814453125)], 3: [('пени', 0.75439453125), ('ловения', 0.72705078125), ('iats', 0.697265625), ('cule', 0.6953125), ('cula', 0.65625)], 20: [('ilk', 0.322265625), ('ielder', 0.320556640625), ('дре', 0.287353515625), ('agat', 0.285400390625), ('侯', 0.27978515625)], 47: [('8', 0.5615234375), ('7', 0.560546875), ('9', 0.55126953125), ('6', 0.5048828125), (' каби', 0.50341796875)], 55: [('ErrorReason', 0.92578125), ('tml', 0.90576171875), ('ʊ', 0.8994140625), ('ifornia', 0.861328125), ('astia', 0.86083984375)], 63: [(' ret', 0.4296875), ('uate', 0.428955078125), ('atge', 0.3984375), ('乌鲁', 0.396240234375), (' usant', 0.391357421875)]}, 13: {2: [(' Ебер', 0.312744140625), ('Artistes', 0.30322265625), ('��', 0.302490234375), ('вети', 0.302490234375), ('obox', 0.296630859375)], 4: [('рийски', 0.279541015625), ('参', 0.2247314453125), ('丈', 0.208251953125), (' atra', 0.2022705078125), (' aapt', 0.183349609375)], 5: [('erella', 0.38720703125), ('ond', 0.31689453125), (' здраве', 0.3046875), ('ландски', 0.295166015625), ('转', 0.29150390625)], 8: [('ე', 0.1627197265625), ('спор', 0.1573486328125), ('etheless', 0.1573486328125), (' etiquetas', 0.1556396484375), (' Roig', 0.1536865234375)], 44: [('记', 0.13427734375), ('произ', 0.12176513671875), ('出不穷', 0.119384765625), ('记》', 0.11907958984375), ('一线', 0.11474609375)], 63: [(' ща', 0.158203125), ('DUP', 0.1544189453125), ('тски', 0.1444091796875), ('buried', 0.1435546875), ('мбург', 0.1370849609375)]}, 2: {3: [('槛', 0.62646484375), ('ancellor', 0.623046875), ('квата', 0.6181640625), ('pires', 0.59423828125), (' substance', 0.58984375)], 42: [('ages', 0.56787109375), ('вле', 0.54931640625), ('AGES', 0.53759765625), ('歉', 0.529296875), (' r', 0.50048828125)], 47: [('uliar', 1.119140625), ('wil', 0.953125), (' Lieja', 0.892578125), ('OTAL', 0.88671875), ('apers', 0.884765625)], 49: [('3', 0.28076171875), ('�', 0.27978515625), ('0', 0.2724609375), ('9', 0.249755859375), ('4', 0.2467041015625)], 54: [('t', 0.33984375), ('6', 0.30224609375), (' frame', 0.273681640625), ('1', 0.26806640625), ('iter', 0.25927734375)], 63: [('ices', 0.64111328125), ('eros', 0.57666015625), ('�', 0.576171875), ('onut', 0.564453125), ('ose', 0.55419921875)]}, 3: {3: [('rity', 1.1572265625), ('系', 0.89208984375), ('orithm', 0.87451171875), ('ievable', 0.865234375), ('Ав', 0.845703125)], 23: [('май', 0.2020263671875), ('iceless', 0.1866455078125), ('wis', 0.177978515625), ('rews', 0.1697998046875), ('psum', 0.169677734375)], 42: [('rime', 0.69384765625), ('guez', 0.6083984375), ('FFECT', 0.580078125), ('虚', 0.57666015625), ('nett', 0.56298828125)], 46: [('最后', 0.1473388671875), ('ius', 0.1427001953125), ('散', 0.13720703125), ('gra', 0.1348876953125), ('益', 0.1334228515625)], 47: [('мм', 0.39501953125), ('管理中心', 0.378173828125), (' Davant', 0.346923828125), ('�', 0.345703125), ('IVE', 0.3408203125)], 54: [('原文地址', 0.2998046875), ('════════════════', 0.282958984375), (' Херцеговина', 0.256103515625), ('截', 0.255615234375), ('imore', 0.2548828125)]}, 5: {3: [('obar', 0.475341796875), ('orithm', 0.467529296875), ('zing', 0.443603515625), ('zed', 0.43408203125), ('ITLE', 0.41943359375)], 5: [(' реда', 0.26025390625), ('muted', 0.24853515625), ('lax', 0.232666015625), ('inaci', 0.2296142578125), ('odef', 0.228759765625)], 47: [(' --></', 0.273681640625), ('ج', 0.256591796875), ('бул', 0.25146484375), ('дн', 0.24658203125), ('ام', 0.24365234375)], 54: [(' p', 0.391845703125), (' l', 0.346435546875), (' II', 0.330322265625), (' H', 0.326904296875), (' .', 0.306884765625)], 62: [(' GAL', 0.361328125), ('BS', 0.341796875), (' late', 0.333251953125), (' нер', 0.322998046875), (' opposition', 0.321533203125)], 63: [('fted', 0.144775390625), ('istically', 0.14404296875), ('ام', 0.1412353515625), ('角', 0.1407470703125), ('角的', 0.1346435546875)]}, 6: {3: [('perity', 0.66015625), ('Flex', 0.642578125), ('adre', 0.6416015625), ('flex', 0.6376953125), ('andescent', 0.63232421875)], 6: [('↳', 0.79296875), ('uttle', 0.58056640625), ('rafo', 0.57666015625), ('arrings', 0.57177734375), (' Cole', 0.5634765625)], 9: [(' verda', 0.64990234375), ('apic', 0.642578125), ('嘘', 0.61474609375), ('жу', 0.603515625), ('менти', 0.59326171875)], 20: [('eval', 0.455078125), ('гнали', 0.454833984375), ('acom', 0.450439453125), ('吉', 0.4296875), ('ghed', 0.427001953125)], 43: [('gan', 0.377197265625), ('pan', 0.351806640625), (' Schottky', 0.34326171875), ('GAN', 0.319091796875), ('ват', 0.31201171875)], 47: [('iliari', 1.005859375), ('ICLE', 0.97705078125), ('entire', 0.9697265625), ('хол', 0.8935546875), ('orts', 0.81787109375)]}, 7: {3: [('��', 1.28125), ('usercontent', 1.0224609375), ('IMIT', 0.96728515625), ('dorff', 0.9404296875), ('pires', 0.892578125)], 15: [('ffic', 0.236572265625), ('avo', 0.2086181640625), ('imod', 0.2064208984375), ('ил', 0.2041015625), (' Wig', 0.2021484375)], 21: [('ombres', 0.6767578125), (' учи', 0.650390625), ('TestMethod', 0.64794921875), ('agrup', 0.6201171875), (' Des', 0.60888671875)], 47: [('阿根', 0.880859375), ('paces', 0.83154296875), ('leeve', 0.7890625), (' PROTO', 0.7841796875), ('arms', 0.78125)], 54: [('根本上', 0.257568359375), (' H', 0.252685546875), ('�', 0.251220703125), (' C', 0.2279052734375), (' Chal', 0.226806640625)], 59: [('itelist', 0.75244140625), ('obby', 0.72265625), ('Challenge', 0.705078125), ('Blockly', 0.69677734375), ('subs', 0.69287109375)]}, 9: {4: [('хрид', 0.3203125), ('ottom', 0.28515625), ('ida', 0.2802734375), ('��', 0.27783203125), ('atina', 0.276611328125)], 7: [('��', 0.76513671875), ('evi', 0.6748046875), ('writeField', 0.65966796875), ('ракия', 0.64794921875), ('bitField', 0.630859375)], 32: [(' _', 0.258056640625), ('igneur', 0.25732421875), ('hine', 0.255126953125), ('hin', 0.252197265625), ('建', 0.24267578125)], 46: [('gens', 0.1783447265625), (' mena', 0.1751708984375), ('Sent', 0.170166015625), ('mi', 0.164794921875), ('gon', 0.1641845703125)], 54: [('ˈ', 0.4716796875), ('…', 0.451171875), ('t', 0.427734375), (' Заго', 0.41259765625), ('沾', 0.39599609375)], 63: [('cher', 0.63916015625), (' vies', 0.5869140625), ('acic', 0.572265625), (' mill', 0.56787109375), ('gler', 0.56494140625)]}, 10: {4: [('талия', 0.61279296875), ('nexi', 0.58642578125), ('unitat', 0.56396484375), ('ixt', 0.55224609375), ('nesi', 0.53759765625)], 7: [(' начин', 1.5869140625), ('estir', 1.41796875), ('owered', 1.3818359375), ('ъл', 1.380859375), ('бани', 1.3671875)], 8: [('ridor', 0.2332763671875), (' производ', 0.223388671875), ('achel', 0.21875), ('记', 0.2139892578125), ('чани', 0.2109375)], 13: [(' degrad', 0.164306640625), ('ians', 0.160888671875), ('属', 0.1512451171875), ('ssic', 0.150634765625), ('钰', 0.1483154296875)], 14: [('_', 0.58837890625), (' --', 0.56494140625), ('—', 0.56396484375), ('op', 0.5302734375), ('� ', 0.52197265625)], 41: [('ебсайт', 0.7958984375), ('ейнт', 0.77490234375), ('quessa', 0.732421875), ('malink', 0.71875), ('jocs', 0.7177734375)]}, 11: {4: [('��', 0.51513671875), ('endent', 0.3125), (' entertain', 0.309326171875), ('уна', 0.298583984375), ('refn', 0.286865234375)], 7: [('onada', 0.10858154296875), ('ALES', 0.09503173828125), ('EVER', 0.0885009765625), ('xion', 0.08770751953125), ('ornia', 0.0863037109375)], 13: [(' Vout', 0.494873046875), ('egen', 0.461181640625), ('áž', 0.42431640625), ('IDO', 0.421875), ('restant', 0.406005859375)], 14: [('9', 0.436767578125), ('1', 0.414306640625), ('2', 0.35888671875), ('5', 0.35498046875), ('3', 0.345458984375)], 30: [('RESOL', 0.291748046875), ('quan', 0.275146484375), ('уре', 0.267578125), ('ous', 0.2626953125), (' resolution', 0.2607421875)], 63: [('BS', 0.373291015625), ('ly', 0.368896484375), ('LY', 0.360107421875), ('0', 0.348876953125), ('com', 0.32861328125)]}, 15: {4: [('恐', 0.303955078125), ('州', 0.2000732421875), ('etry', 0.1995849609375), ('ndard', 0.194580078125), ('责', 0.192138671875)], 10: [(' Llob', 0.50439453125), (' Humanitat', 0.5029296875), ('umu', 0.497314453125), (' Sobir', 0.458251953125), ('уза', 0.451171875)], 21: [('空的', 0.0885009765625), ('路与', 0.0850830078125), ('NAL', 0.0849609375), (' dun', 0.0845947265625), ('擅', 0.0838623046875)], 35: [('anwhile', 0.348876953125), ('aine', 0.32275390625), ('��', 0.308349609375), ('葛', 0.305908203125), (' Colle', 0.3037109375)], 42: [('oxy', 0.13037109375), ('cule', 0.1300048828125), ('jana', 0.1295166015625), ('e', 0.12939453125), ('意', 0.1287841796875)], 54: [('ебсайт', 0.2822265625), ('临', 0.280029296875), ('icity', 0.267822265625), ('ловения', 0.266845703125), ('�', 0.2578125)]}, 20: {4: [('TOOLSET', 0.2344970703125), ('usercontent', 0.220703125), ('obel', 0.220703125), ('绸', 0.2132568359375), (' революционна', 0.212646484375)], 5: [('erella', 0.5546875), ('ero', 0.45849609375), ('eled', 0.456787109375), ('es', 0.454345703125), ('domen', 0.45263671875)], 10: [('�乐', 1.0673828125), ('ostics', 1.05859375), ('iasm', 1.0283203125), ('TOOLSET', 0.9775390625), ('евру', 0.9609375)], 20: [('8', 0.393310546875), ('9', 0.3916015625), (' DAT', 0.390869140625), ('2', 0.3857421875), (' Ste', 0.37646484375)], 34: [('pera', 0.28662109375), ('pero', 0.270263671875), ('猕', 0.255859375), ('iterr', 0.2393798828125), ('努', 0.2364501953125)], 41: [('�乐', 0.28125), (' advance', 0.22509765625), ('otive', 0.2142333984375), ('sess', 0.2132568359375), ('oti', 0.208251953125)]}, 19: {5: [('顾问', 0.51611328125), (' Виз', 0.466796875), (' fil', 0.449462890625), (' relations', 0.430419921875), ('relation', 0.42236328125)], 17: [('orno', 0.01381683349609375), ('肋', 0.01351165771484375), ('浊', 0.01230621337890625), ('spl', 0.012298583984375), ('Off', 0.01183319091796875)], 20: [('filas', 0.57666015625), ('estring', 0.5712890625), ('\\xa0', 0.56689453125), ('ur', 0.56396484375), ('rmi', 0.5498046875)], 23: [(' ***', 0.12066650390625), ('三', 0.119873046875), (' неща', 0.1190185546875), ('Фа', 0.1168212890625), ('уд', 0.11505126953125)], 26: [('��', 0.1531982421875), ('Alliberament', 0.149169921875), ('rophic', 0.1463623046875), ('ibol', 0.145751953125), (' мир', 0.1456298828125)], 41: [('themselves', 0.439453125), ('anwhile', 0.40185546875), ('okit', 0.37646484375), ('ейнт', 0.374267578125), ('последствие', 0.357421875)]}, 21: {5: [('fr', 0.53271484375), ('water', 0.5263671875), ('imm', 0.4765625), ('zz', 0.472900390625), ('z', 0.470947265625)], 10: [(' Tolosa', 0.313232421875), ('eces', 0.279052734375), ('assau', 0.264404296875), (' conv', 0.25390625), ('OnSearch', 0.24658203125)], 11: [(' next', 0.1329345703125), ('next', 0.1322021484375), (' uniform', 0.129638671875), (' NEXT', 0.11297607421875), ('ели', 0.109619140625)], 34: [('ksu', 0.2440185546875), ('мбия', 0.2353515625), ('rucci', 0.2276611328125), ('ktop', 0.22412109375), ('inga', 0.2178955078125)], 41: [('ove', 0.223388671875), ('SSA', 0.216552734375), (' heur', 0.206787109375), ('弗', 0.20556640625), ('рид', 0.2037353515625)], 62: [('rais', 0.27001953125), ('bet', 0.2685546875), (' legals', 0.265380859375), ('сител', 0.259521484375), ('cha', 0.2568359375)]}, 16: {7: [('��', 1.3212890625), ('Apis', 1.115234375), ('owers', 1.07421875), ('кат', 1.0400390625), ('рани', 1.02734375)], 8: [('oux', 0.28076171875), ('ibr', 0.26611328125), ('Appe', 0.2491455078125), ('ARB', 0.2489013671875), ('ieras', 0.2379150390625)], 14: [('GIN', 0.1973876953125), (' _', 0.181396484375), ('gged', 0.1744384765625), (' cost', 0.17236328125), ('omini', 0.1722412109375)], 18: [('adow', 0.541015625), ('ovar', 0.4990234375), ('adows', 0.471923828125), ('aggable', 0.45947265625), (' меч', 0.45361328125)], 25: [('acta', 0.253173828125), ('ADN', 0.2476806640625), ('artes', 0.2470703125), ('ishop', 0.2353515625), ('MMMM', 0.2325439453125)], 30: [('шево', 0.10009765625), (' Riera', 0.09466552734375), ('波罗', 0.09429931640625), ('nette', 0.09307861328125), ('\\xa0part', 0.09210205078125)]}, 17: {7: [('inats', 0.88037109375), ('estatus', 0.87939453125), ('thee', 0.87451171875), ('нгар', 0.865234375), (' пореди', 0.85400390625)], 14: [('ousins', 0.1412353515625), ('prehens', 0.13916015625), ('REST', 0.13720703125), ('коре', 0.1328125), ('itan', 0.132568359375)], 18: [('abl', 0.318115234375), ('hens', 0.30078125), ('abase', 0.29150390625), ('Us', 0.2861328125), ('us', 0.284423828125)], 20: [('a', 0.68994140625), ('b', 0.6240234375), ('ot', 0.591796875), ('c', 0.5869140625), ('ally', 0.58447265625)], 30: [('6', 0.161376953125), ('5', 0.158935546875), ('0', 0.155517578125), ('8', 0.1546630859375), ('1', 0.1536865234375)], 43: [('1', 0.193115234375), ('5', 0.1917724609375), ('isan', 0.1871337890625), (' w', 0.182373046875), ('0', 0.1807861328125)]}, 18: {7: [('待', 0.5439453125), ('RC', 0.5205078125), ('мбар', 0.51806640625), ('odox', 0.497802734375), ('aler', 0.485107421875)], 10: [('квата', 0.490478515625), ('ейнт', 0.480712890625), ('евру', 0.46630859375), (' Humanitat', 0.44873046875), ('Inventari', 0.44384765625)], 14: [('oria', 0.409423828125), ('igators', 0.3486328125), ('lp', 0.334716796875), ('urg', 0.327392578125), ('occas', 0.326171875)], 20: [('4', 0.666015625), ('8', 0.64306640625), ('5', 0.62353515625), ('铺', 0.623046875), (' ur', 0.6220703125)], 23: [('��', 1.4111328125), ('Ungrouped', 1.18359375), ('imburg', 1.1484375), ('undy', 1.146484375), ('refox', 1.080078125)], 32: [(' arb', 0.1790771484375), ('alternative', 0.176025390625), (' Fland', 0.1710205078125), ('2', 0.1695556640625), ('9', 0.16748046875)]}, 12: {8: [('adon', 0.1103515625), ('icated', 0.1038818359375), ('Eix', 0.10321044921875), ('韭', 0.10284423828125), ('INNER', 0.10272216796875)], 13: [('oferta', 0.298095703125), ('espera', 0.292236328125), ('faces', 0.2841796875), ('Face', 0.279052734375), ('acor', 0.278076171875)], 14: [('姓', 0.128662109375), ('cola', 0.1270751953125), ('dures', 0.1204833984375), ('ivals', 0.1162109375), ('ms', 0.1156005859375)], 32: [('休', 0.4072265625), ('rid', 0.388671875), ('�', 0.3876953125), ('ogany', 0.385498046875), ('гер', 0.383544921875)], 34: [('ascut', 0.2081298828125), ('ayscale', 0.2020263671875), ('素的', 0.191162109375), ('леми', 0.1839599609375), ('素', 0.1827392578125)], 43: [('пла', 0.166015625), ('inux', 0.1651611328125), ('ILITY', 0.164794921875), (' сериали', 0.16455078125), ('днес', 0.162353515625)]}, 14: {10: [(' comm', 1.35546875), ('entes', 1.3125), (' Comm', 1.3017578125), ('ENTS', 1.232421875), ('谣', 1.2236328125)], 15: [('�', 0.260986328125), ('拦', 0.2244873046875), ('ipage', 0.220703125), ('爱国', 0.2119140625), ('佐', 0.211669921875)], 29: [('\\t{\"', 0.13818359375), ('ambu', 0.1337890625), ('uca', 0.1326904296875), ('itants', 0.130859375), ('inga', 0.1278076171875)], 33: [(' ::', 0.01523590087890625), ('列', 0.01458740234375), ('不行', 0.01447296142578125), ('neighbors', 0.01422882080078125), ('LR', 0.0141143798828125)], 35: [('кет', 0.85302734375), ('нове', 0.85205078125), (' Llengua', 0.82275390625), (' ([]', 0.80078125), ('onto', 0.77197265625)], 59: [('BUF', 0.33349609375), ('不具备', 0.329345703125), ('REV', 0.326416015625), ('uju', 0.3076171875), ('acin', 0.3046875)]}, 8: {15: [('2', 0.62353515625), ('1', 0.5712890625), ('9', 0.56298828125), ('3', 0.56103515625), ('0', 0.53955078125)], 21: [('弥', 0.320556640625), ('微', 0.294189453125), ('ess', 0.2890625), ('窗', 0.2890625), ('omely', 0.286376953125)], 35: [('oc', 0.2841796875), ('ensa', 0.263671875), ('y', 0.25830078125), ('J', 0.2509765625), ('eta', 0.25048828125)], 42: [('翼翼', 0.56982421875), ('VolumeSource', 0.5693359375), (' щаб', 0.54052734375), ('bras', 0.52734375), ('ntic', 0.5166015625)], 46: [('ISON', 0.09674072265625), ('onstr', 0.09356689453125), ('getResponse', 0.08843994140625), ('arthen', 0.08807373046875), ('fera', 0.087646484375)], 54: [('��', 0.1495361328125), ('ospin', 0.1383056640625), ('шко', 0.13037109375), ('毛泽', 0.1268310546875), ('蔡', 0.124755859375)]}}\n",
      "Shared expert predictions: [[('евру', 0.364990234375), ('Македония', 0.360595703125), ('ейнт', 0.35400390625), ('坷', 0.34130859375), ('ExternalTask', 0.33544921875)], [('ibol', 0.77294921875), ('рад', 0.75732421875), (' (--)', 0.74658203125), ('presto', 0.73291015625), (' езе', 0.7294921875)], [('CALLTYPE', 1.0458984375), (' експе', 1.0078125), ('мври', 0.95361328125), ('memname', 0.9052734375), ('NameLink', 0.8984375)], [('渲', 0.9296875), (' sem', 0.90771484375), ('徘', 0.84619140625), ('记', 0.8193359375), ('ely', 0.8125)], [('гран', 0.86328125), ('CAP', 0.857421875), ('赏', 0.83447265625), ('ME', 0.82470703125), ('ho', 0.82373046875)], [('渲', 1.0615234375), ('淘', 1.0126953125), ('aband', 0.91552734375), ('hots', 0.90869140625), ('лъ', 0.87890625)], [(' (', 1.392578125), (' [', 1.2294921875), (' ', 1.2177734375), (' (=', 1.189453125), (' p', 1.162109375)], [('TOOLSET', 1.1162109375), ('发烧', 0.93798828125), ('кала', 0.91552734375), ('aviera', 0.91015625), ('BIN', 0.90576171875)], [('emas', 1.107421875), ('EIN', 1.0869140625), ('宣告', 1.06640625), ('准', 1.052734375), ('acte', 1.0126953125)], [('GeneratedMessage', 1.1806640625), ('yser', 1.1552734375), ('Subcode', 1.0810546875), ('inear', 1.0693359375), ('mine', 1.068359375)], [('soever', 0.8642578125), ('AGR', 0.83251953125), ('bona', 0.82470703125), ('бли', 0.76708984375), ('充分利用', 0.765625)], [('emas', 0.96240234375), ('DBG', 0.94580078125), ('INO', 0.93798828125), ('辜负', 0.87841796875), ('AGR', 0.8525390625)], [('Cci', 1.0458984375), ('AGA', 0.99658203125), ('emas', 0.99560546875), ('agal', 0.8984375), ('apter', 0.89697265625)], [('Subcode', 0.87841796875), ('精华', 0.87109375), ('PRB', 0.8671875), ('mics', 0.86376953125), ('真人', 0.85693359375)], [('se', 1.0166015625), ('става', 0.99951171875), ('Swe', 0.93115234375), ('代', 0.9296875), ('郎', 0.9248046875)], [('rj', 1.0888671875), ('纠', 1.0302734375), ('ol', 1.0), ('on', 0.9375), ('stud', 0.93408203125)], [('writeField', 0.8076171875), ('assent', 0.77685546875), ('wikimedia', 0.720703125), ('уа', 0.68359375), (' Emer', 0.66845703125)], [('htub', 0.7763671875), ('沾', 0.74951171875), ('奉', 0.72900390625), ('eras', 0.701171875), (' terme', 0.69775390625)], [('olus', 0.88134765625), ('准', 0.80322265625), (' interface', 0.775390625), (' Mas', 0.76611328125), ('anell', 0.76025390625)], [('兹', 1.017578125), ('wlp', 0.9287109375), ('在香港', 0.88232421875), ('ERO', 0.86181640625), ('са', 0.8603515625)], [('退休', 0.98046875), ('etting', 0.87744140625), (' mutually', 0.83740234375), ('打通', 0.73291015625), ('配', 0.728515625)], [('ret', 0.8212890625), ('etting', 0.8095703125), ('autore', 0.74365234375), ('RET', 0.73486328125), ('Ret', 0.7265625)]]\n",
      "\n",
      "MoE Layer 13:\n",
      "Selected experts: [[39, 47, 51, 17, 7, 22], [18, 32, 46, 35, 48, 4], [35, 18, 38, 37, 49, 48], [35, 24, 6, 37, 48, 20], [27, 62, 4, 19, 6, 32], [6, 19, 40, 44, 25, 49], [36, 10, 18, 4, 42, 49], [14, 29, 43, 6, 19, 9], [18, 37, 38, 29, 54, 51], [37, 15, 18, 19, 38, 12], [38, 60, 37, 3, 28, 53], [38, 60, 37, 3, 9, 20], [9, 60, 11, 13, 38, 63], [20, 38, 63, 60, 56, 28], [18, 52, 14, 29, 43, 9], [24, 37, 38, 18, 52, 0], [51, 37, 23, 38, 11, 20], [37, 38, 0, 11, 46, 47], [38, 24, 28, 37, 0, 56], [20, 51, 23, 38, 60, 28], [56, 50, 60, 20, 38, 28], [38, 24, 2, 60, 20, 50]]\n",
      "Expert weights: [[0.0859375, 0.06201171875, 0.04937744140625, 0.04559326171875, 0.04046630859375, 0.03753662109375], [0.2030029296875, 0.1771240234375, 0.10614013671875, 0.0572509765625, 0.05218505859375, 0.033538818359375], [0.14697265625, 0.0787353515625, 0.0537109375, 0.0511474609375, 0.0494384765625, 0.04827880859375], [0.063232421875, 0.06988525390625, 0.056060791015625, 0.052459716796875, 0.050506591796875, 0.04962158203125], [0.137939453125, 0.11151123046875, 0.0770263671875, 0.0526123046875, 0.038604736328125, 0.0364990234375], [0.10809326171875, 0.10723876953125, 0.0738525390625, 0.065185546875, 0.063232421875, 0.038604736328125], [0.10919189453125, 0.09710693359375, 0.060760498046875, 0.046630859375, 0.044921875, 0.0413818359375], [0.12261962890625, 0.1007080078125, 0.06268310546875, 0.057586669921875, 0.040374755859375, 0.03997802734375], [0.10394287109375, 0.1024169921875, 0.05926513671875, 0.048309326171875, 0.03753662109375, 0.0275421142578125], [0.08447265625, 0.060943603515625, 0.03839111328125, 0.03369140625, 0.12261962890625, 0.0280609130859375], [0.171142578125, 0.1279296875, 0.039398193359375, 0.040557861328125, 0.0643310546875, 0.034088134765625], [0.1307373046875, 0.10986328125, 0.048980712890625, 0.0513916015625, 0.044219970703125, 0.0408935546875], [0.07855224609375, 0.051849365234375, 0.051971435546875, 0.052459716796875, 0.106689453125, 0.03900146484375], [0.1312255859375, 0.1695556640625, 0.045013427734375, 0.039276123046875, 0.036590576171875, 0.034759521484375], [0.06634521484375, 0.08935546875, 0.11273193359375, 0.048431396484375, 0.047515869140625, 0.0390625], [0.1337890625, 0.08221435546875, 0.06280517578125, 0.041778564453125, 0.03961181640625, 0.0328369140625], [0.046600341796875, 0.10260009765625, 0.1387939453125, 0.043365478515625, 0.035491943359375, 0.0343017578125], [0.11090087890625, 0.052947998046875, 0.04193115234375, 0.03546142578125, 0.0322265625, 0.02880859375], [0.13134765625, 0.061676025390625, 0.05914306640625, 0.0465087890625, 0.0309600830078125, 0.030242919921875], [0.134033203125, 0.0447998046875, 0.05157470703125, 0.037628173828125, 0.0955810546875, 0.03472900390625], [0.041595458984375, 0.04302978515625, 0.127197265625, 0.10467529296875, 0.08514404296875, 0.03521728515625], [0.071533203125, 0.0592041015625, 0.058868408203125, 0.1002197265625, 0.052947998046875, 0.037109375]]\n",
      "Combined output tokens: [[(' Gros', 0.4453125), ('�', 0.426513671875), ('etat', 0.423095703125), (' cradle', 0.4072265625), ('佳', 0.381591796875)], [('3', 1.8505859375), ('umb', 1.794921875), ('1', 1.716796875), ('线上', 1.7021484375), ('MS', 1.669921875)], [('initat', 1.658203125), ('zeb', 1.630859375), ('Recipient', 1.5576171875), ('еми', 1.5546875), ('Into', 1.5166015625)], [('7', 1.9609375), ('9', 1.8388671875), ('3', 1.8251953125), ('8', 1.7216796875), ('4', 1.71875)], [('WER', 1.8564453125), ('Brows', 1.67578125), ('刷新', 1.6171875), ('orc', 1.6015625), ('UNION', 1.5224609375)], [('(#', 1.4619140625), (' история', 1.4169921875), ('Requires', 1.41015625), ('Aff', 1.41015625), ('odder', 1.3984375)], [('1', 1.541015625), ('0', 1.521484375), ('NC', 1.486328125), ('2', 1.4052734375), ('6', 1.3798828125)], [('irmat', 1.9248046875), (' EXECUTE', 1.84375), ('ремо', 1.83984375), ('entiful', 1.8173828125), ('矶', 1.8017578125)], [('ertat', 1.37109375), ('neig', 1.216796875), ('Indexed', 1.1923828125), ('жени', 1.1533203125), ('rate', 1.15234375)], [(' b', 1.474609375), (' g', 1.4462890625), ('abat', 1.2666015625), ('德华', 1.263671875), ('near', 1.2607421875)], [('(', 2.04296875), ('—', 1.984375), ('标的', 1.912109375), (' ', 1.78515625), ('1', 1.7705078125)], [('QD', 1.712890625), ('aph', 1.6669921875), ('etooth', 1.640625), ('bera', 1.615234375), ('дам', 1.6123046875)], [('apad', 1.361328125), ('服', 1.3203125), ('apes', 1.314453125), ('бо', 1.283203125), ('ochond', 1.2490234375)], [('ressi', 2.03515625), ('resso', 2.021484375), ('↳', 1.8544921875), (' juvenil', 1.8193359375), (' andalus', 1.8134765625)], [('ect', 1.7802734375), ('/', 1.4912109375), (' sub', 1.4873046875), ('sp', 1.412109375), (' ex', 1.408203125)], [('севдо', 1.6513671875), (' feines', 1.5537109375), ('crata', 1.546875), ('(::', 1.53515625), ('地利', 1.53515625)], [('uner', 1.4833984375), ('arus', 1.3193359375), ('спор', 1.216796875), ('onomia', 1.205078125), ('ocada', 1.103515625)], [(' thead', 0.9306640625), ('血', 0.9208984375), ('lest', 0.919921875), ('isor', 0.8837890625), ('stackexchange', 0.88134765625)], [(' further', 1.4775390625), ('oth', 1.3349609375), (' Whit', 1.2880859375), ('漂', 1.2763671875), (' al', 1.2529296875)], [('everything', 1.6904296875), ('才华', 1.5185546875), ('摧', 1.5009765625), ('作业', 1.4619140625), ('旅', 1.4501953125)], [('nam', 2.287109375), ('тв', 1.9970703125), ('履', 1.9375), ('标的', 1.908203125), ('ezna', 1.8720703125)], [('牢', 1.4296875), ('abas', 1.41796875), ('Ungrouped', 1.3818359375), ('abat', 1.369140625), ('aused', 1.3681640625)]]\n",
      "Expert predictions by position: {15: {0: [('ismus', 0.11688232421875), ('вети', 0.1102294921875), (' unders', 0.10125732421875), ('apef', 0.09942626953125), ('ism', 0.0992431640625)], 18: [(' ...', 0.78955078125), (' Tip', 0.7724609375), (' tip', 0.72216796875), ('与众', 0.71630859375), ('诺', 0.69580078125)], 24: [('etup', 1.203125), ('дото', 1.142578125), ('inux', 1.1123046875), ('ittest', 1.06640625), ('菲特', 1.0615234375)], 37: [('engo', 0.2347412109375), ('Pobl', 0.2115478515625), ('木齐', 0.2044677734375), ('americ', 0.2008056640625), ('enlla', 0.196044921875)], 38: [('的热', 0.37060546875), ('ic', 0.363037109375), ('спекти', 0.34619140625), ('нау', 0.33740234375), ('apter', 0.331298828125)], 52: [('easily', 0.4873046875), ('топ', 0.4775390625), ('тари', 0.47021484375), ('觅', 0.466796875), ('носа', 0.449951171875)]}, 17: {0: [(' Фер', 0.1416015625), ('бива', 0.140380859375), ('ova', 0.1365966796875), ('兰达', 0.136474609375), ('家庄', 0.1331787109375)], 11: [('2', 0.249755859375), ('4', 0.2239990234375), ('6', 0.190673828125), ('1', 0.1895751953125), ('9', 0.1861572265625)], 37: [('ichan', 0.274169921875), ('ceq', 0.243408203125), ('HECK', 0.23046875), ('rico', 0.2252197265625), ('ifera', 0.22314453125)], 38: [('3', 0.28662109375), ('0', 0.259765625), ('5', 0.25537109375), ('4', 0.2548828125), ('9', 0.251708984375)], 46: [('3', 0.75), ('5', 0.71044921875), ('4', 0.6962890625), ('7', 0.60400390625), ('2', 0.59033203125)], 47: [('ува', 0.0482177734375), ('dera', 0.0418701171875), ('__', 0.041351318359375), ('上', 0.0411376953125), ('阳', 0.03912353515625)]}, 18: {0: [('тан', 0.1116943359375), ('resar', 0.11016845703125), ('明天', 0.10614013671875), ('тана', 0.1025390625), ('FIN', 0.1016845703125)], 24: [('ливи', 0.8740234375), ('дир', 0.69189453125), ('plicable', 0.677734375), ('poques', 0.66162109375), ('�', 0.66064453125)], 28: [('smanship', 0.352783203125), ('arers', 0.33447265625), ('�', 0.312744140625), ('lau', 0.308837890625), ('henko', 0.305419921875)], 37: [('odic', 0.51611328125), ('cap', 0.51171875), ('ular', 0.50341796875), (' MOD', 0.5009765625), ('вез', 0.491455078125)], 38: [('标', 0.56640625), ('urbed', 0.5224609375), (' (', 0.521484375), ('omach', 0.49462890625), ('mask', 0.466552734375)], 56: [('rtir', 0.1519775390625), ('лски', 0.1458740234375), ('ignant', 0.1453857421875), (' Unides', 0.1451416015625), ('дация', 0.1446533203125)]}, 21: {2: [('navList', 0.388916015625), ('subNav', 0.38671875), ('arro', 0.343017578125), ('扩', 0.31689453125), ('APTER', 0.312255859375)], 20: [('ondin', 0.91748046875), ('utats', 0.86328125), (' andalus', 0.85888671875), ('ainty', 0.8486328125), ('ogut', 0.80224609375)], 24: [(' опит', 0.517578125), ('iod', 0.483642578125), ('ivia', 0.482177734375), ('vetica', 0.477783203125), (' cercles', 0.472900390625)], 38: [('mis', 0.437255859375), ('coln', 0.435546875), ('社', 0.42578125), ('0', 0.410400390625), (' reg', 0.4033203125)], 50: [(\"'>&\", 0.29052734375), ('否', 0.259521484375), (' XXV', 0.248046875), ('Ни', 0.24609375), ('ezna', 0.2431640625)], 60: [('oser', 0.68115234375), ('z', 0.65966796875), ('谨', 0.65869140625), ('讶', 0.63427734375), ('案', 0.6328125)]}, 10: {3: [('awan', 0.23974609375), ('мор', 0.236083984375), ('тера', 0.2286376953125), ('olation', 0.22119140625), ('位', 0.20263671875)], 28: [('的后', 0.2802734375), ('urant', 0.255615234375), ('元的', 0.2474365234375), ('ingers', 0.240234375), ('元', 0.2373046875)], 37: [(' censats', 0.70751953125), ('��', 0.6015625), (' seix', 0.5849609375), ('vnc', 0.58203125), (' relle', 0.55810546875)], 38: [('顾', 0.25341796875), ('urat', 0.2384033203125), ('命', 0.2308349609375), (' way', 0.229248046875), (' norm', 0.228759765625)], 53: [('毛', 0.140380859375), ('娃', 0.12841796875), (' BJT', 0.1275634765625), ('uff', 0.127197265625), ('rof', 0.12548828125)], 60: [('oser', 1.474609375), ('nam', 1.359375), ('Manifest', 1.2998046875), ('omac', 1.287109375), ('tom', 1.265625)]}, 11: {3: [('址', 0.2230224609375), ('位', 0.2052001953125), ('apunov', 0.202392578125), ('cesi', 0.201416015625), ('atedr', 0.2003173828125)], 9: [('uez', 0.275146484375), ('茨', 0.268798828125), (' document', 0.26171875), ('ontal', 0.255859375), ('婚后', 0.252685546875)], 20: [('xtil', 0.322998046875), ('quines', 0.319580078125), ('рира', 0.283203125), ('Ungrouped', 0.275146484375), ('ieras', 0.273681640625)], 37: [(' segell', 0.2354736328125), ('жество', 0.2066650390625), (' продава', 0.1959228515625), ('最好的', 0.1910400390625), ('RIX', 0.18896484375)], 38: [('atom', 1.4326171875), (' yet', 1.3017578125), ('тва', 1.29296875), ('beth', 1.2861328125), ('params', 1.267578125)], 60: [('4', 1.0703125), ('8', 1.0478515625), ('5', 1.0458984375), ('2', 1.04296875), ('压', 0.99169921875)]}, 1: {4: [(' Hisp', 0.2254638671875), ('ing', 0.2186279296875), (' acc', 0.1959228515625), (' signat', 0.1929931640625), ('葛', 0.1856689453125)], 18: [('тера', 0.1474609375), (' вра', 0.1375732421875), ('BOR', 0.1365966796875), ('是非', 0.13623046875), ('brecht', 0.1353759765625)], 32: [('raint', 0.1943359375), ('焉', 0.1815185546875), (' полета', 0.177001953125), ('>${', 0.1700439453125), (' полет', 0.1673583984375)], 35: [('Into', 1.3017578125), ('into', 1.267578125), ('erex', 1.2373046875), (' into', 1.2275390625), ('пла', 1.169921875)], 46: [('imals', 0.16455078125), ('перка', 0.149658203125), (' cryptocur', 0.144287109375), ('allclasses', 0.14013671875), ('bigarray', 0.1400146484375)], 48: [(' into', 0.21435546875), ('juju', 0.213134765625), ('къ', 0.1973876953125), ('зена', 0.1971435546875), ('lula', 0.1959228515625)]}, 4: {4: [('苏', 0.314208984375), ('韵', 0.309814453125), ('ociety', 0.3017578125), ('�', 0.300048828125), (' gra', 0.29638671875)], 6: [(' ender', 0.363525390625), ('ARGET', 0.328125), ('ifter', 0.3271484375), ('hagu', 0.326416015625), ('汰', 0.3095703125)], 19: [('ilog', 0.2376708984375), ('бов', 0.1937255859375), ('icer', 0.1884765625), ('ANC', 0.187744140625), ('元素', 0.179931640625)], 27: [('uality', 0.80224609375), (' manus', 0.798828125), ('UEL', 0.75830078125), ('тира', 0.755859375), ('竞', 0.7509765625)], 32: [('erest', 0.8173828125), ('Order', 0.80078125), ('order', 0.787109375), ('ios', 0.78466796875), ('Credit', 0.75048828125)], 62: [('тите', 0.92578125), ('rocal', 0.91943359375), ('tring', 0.896484375), ('леми', 0.8447265625), ('osted', 0.84375)]}, 6: {4: [('encion', 0.20068359375), (' Leg', 0.198974609375), ('gom', 0.197998046875), ('elic', 0.1978759765625), ('南北', 0.1961669921875)], 10: [('enter', 0.5771484375), ('virtual', 0.482666015625), ('GLOB', 0.44384765625), (' virtual', 0.440673828125), (' ENTER', 0.411376953125)], 18: [('+', 0.499755859375), ('arashtra', 0.444580078125), ('rest', 0.433837890625), ('ingen', 0.421142578125), ('%', 0.420166015625)], 36: [(' cover', 0.55078125), ('ovember', 0.5107421875), ('cover', 0.5107421875), (' pools', 0.5087890625), ('吏', 0.50830078125)], 42: [('чели', 0.24462890625), ('Съби', 0.2198486328125), (' каза', 0.2159423828125), ('entic', 0.2147216796875), ('estock', 0.2138671875)], 49: [(' curs', 0.331787109375), ('ismes', 0.325927734375), (' vegg', 0.310546875), ('irable', 0.305908203125), ('端的', 0.304931640625)]}, 3: {6: [(' sket', 0.40869140625), ('хов', 0.400634765625), ('Населе', 0.39453125), ('imal', 0.391845703125), ('WebContents', 0.388427734375)], 20: [('OperationKind', 1.2529296875), ('unknownFields', 1.2333984375), ('Habitatges', 1.2197265625), ('writeField', 1.19140625), ('NonUser', 1.107421875)], 24: [('8', 0.6279296875), ('7', 0.6162109375), ('4', 0.578125), ('2', 0.55419921875), ('0', 0.5517578125)], 35: [('�', 0.33544921875), (' $>', 0.328369140625), ('ervera', 0.327880859375), ('PAN', 0.31982421875), ('oder', 0.31689453125)], 37: [('нася', 0.294921875), ('перка', 0.289794921875), ('ocats', 0.266357421875), ('��', 0.26171875), ('пуск', 0.260986328125)], 48: [('ogon', 0.250244140625), ('oscopy', 0.2462158203125), (' l', 0.2445068359375), ('藏', 0.239013671875), (' Subject', 0.2315673828125)]}, 5: {6: [('рино', 0.2255859375), (';=', 0.212890625), ('izable', 0.2127685546875), ('辐', 0.2125244140625), (' pro', 0.204345703125)], 19: [('绰', 0.1490478515625), ('ე', 0.142333984375), (' weights', 0.1317138671875), ('opoly', 0.13037109375), ('Eix', 0.1282958984375)], 25: [('bius', 0.320068359375), ('ceso', 0.318115234375), ('eway', 0.311279296875), ('ще', 0.31005859375), ('imod', 0.30859375)], 40: [('ieft', 0.6748046875), ('/@', 0.5537109375), ('ing', 0.55078125), ('关系', 0.54736328125), ('公交', 0.53662109375)], 44: [('库', 0.375732421875), ('uga', 0.3427734375), ('rary', 0.342529296875), ('сел', 0.339599609375), ('ersal', 0.33837890625)], 49: [('orable', 0.2978515625), ('iful', 0.2900390625), ('irable', 0.28515625), (' curs', 0.283203125), (' английски', 0.2734375)]}, 7: {6: [('ген', 0.759765625), (' uF', 0.7294921875), ('opot', 0.7265625), (' mne', 0.71142578125), (' legals', 0.69287109375)], 9: [(' jesu', 0.33251953125), ('orden', 0.301513671875), ('\"/><', 0.28564453125), (' сър', 0.283935546875), ('这套', 0.28076171875)], 14: [('夷', 1.1611328125), (' ../../../', 1.109375), (' скорост', 1.0703125), ('rize', 1.0634765625), ('pher', 1.056640625)], 19: [('inities', 0.30908203125), ('ACLE', 0.261962890625), ('ा�', 0.260498046875), ('istat', 0.255126953125), ('cid', 0.251953125)], 29: [(' globus', 0.9072265625), ('orithm', 0.90576171875), ('рира', 0.87646484375), ('acis', 0.8759765625), ('enci', 0.87451171875)], 43: [('zio', 0.200439453125), ('扫黑', 0.1885986328125), ('ctxt', 0.18408203125), ('epa', 0.182861328125), (' trough', 0.1817626953125)]}, 0: {7: [('son', 0.04339599609375), ('end', 0.041839599609375), (' K', 0.0391845703125), ('hell', 0.038604736328125), ('K', 0.0382080078125)], 17: [('ata', 0.028106689453125), (' ', 0.0274658203125), ('IC', 0.0258636474609375), ('ics', 0.025787353515625), ('�', 0.024749755859375)], 22: [('ISD', 0.03179931640625), ('alto', 0.0262603759765625), ('zac', 0.0244140625), ('писани', 0.02410888671875), ('Acc', 0.0236053466796875)], 39: [('jac', 0.03582763671875), ('jo', 0.0330810546875), ('ven', 0.03277587890625), ('after', 0.03228759765625), ('vers', 0.031341552734375)], 47: [('�乐', 0.10504150390625), ('如有关于作品内容', 0.08441162109375), ('pra', 0.08355712890625), ('лска', 0.07855224609375), ('rotatebox', 0.0777587890625)], 51: [('明', 0.07489013671875), ('ductors', 0.0692138671875), ('CLUDED', 0.06915283203125), ('appers', 0.06915283203125), ('大大的', 0.06884765625)]}, 12: {9: [(\" ['\", 0.19921875), ('pie', 0.1876220703125), ('asList', 0.18701171875), (' larg', 0.185546875), ('checks', 0.1834716796875)], 11: [('лаго', 0.1260986328125), ('SYS', 0.12127685546875), ('сто', 0.1197509765625), ('安东', 0.11962890625), ('iosa', 0.1190185546875)], 13: [('ე', 0.1722412109375), ('legi', 0.1507568359375), ('pert', 0.14794921875), ('gol', 0.134765625), ('idays', 0.132080078125)], 38: [(' ', 1.083984375), ('тва', 1.0732421875), (' b', 1.0146484375), (']', 0.953125), (' g', 0.947265625)], 60: [('�', 0.8671875), ('弹性', 0.8505859375), ('标的', 0.83349609375), ('бя', 0.826171875), ('固定', 0.81494140625)], 63: [('角', 0.2259521484375), ('托管', 0.22314453125), ('房', 0.2166748046875), (' тени', 0.212646484375), (' estel', 0.2103271484375)]}, 14: {9: [(' relle', 0.1475830078125), ('轼', 0.1429443359375), ('Interop', 0.1416015625), ('thood', 0.138427734375), ('cionari', 0.13720703125)], 14: [('utt', 1.302734375), ('combe', 1.25), ('�다', 1.2373046875), (' block', 1.12890625), ('ū', 1.087890625)], 18: [(' corba', 0.281982421875), (' renda', 0.278076171875), ('Cci', 0.27783203125), (' бли', 0.2626953125), (' formant', 0.262451171875)], 29: [(' [$', 0.23388671875), ('isman', 0.2120361328125), ('став', 0.19384765625), ('щ', 0.18798828125), ('的概率', 0.186279296875)], 43: [('veless', 0.386962890625), ('IALIZ', 0.35791015625), (' @(', 0.35107421875), ('::__', 0.344482421875), ('轨', 0.340576171875)], 52: [('rama', 0.31103515625), ('派', 0.278564453125), ('erva', 0.2646484375), (' Хит', 0.261474609375), ('matics', 0.257080078125)]}, 16: {11: [('�', 0.07855224609375), ('бол', 0.07672119140625), ('andem', 0.074462890625), ('ipers', 0.0738525390625), ('ientras', 0.0733642578125)], 20: [('pto', 0.8681640625), ('ianes', 0.8671875), ('тива', 0.8642578125), ('dden', 0.8603515625), ('amard', 0.84130859375)], 23: [('摧', 0.351318359375), (' Pale', 0.320556640625), ('批', 0.31884765625), (' vanity', 0.301025390625), (' иконо', 0.296142578125)], 37: [('върх', 0.26904296875), ('ническата', 0.251708984375), ('ornia', 0.2459716796875), (' forms', 0.2349853515625), (' txqueuelen', 0.2332763671875)], 38: [('服', 1.2099609375), ('ationals', 1.119140625), ('\\ufeff\\ufeff\\ufeff\\ufeff', 1.103515625), (' Gras', 1.0703125), ('etooth', 1.0546875)], 51: [('като', 0.264892578125), ('рене', 0.245361328125), ('countable', 0.241455078125), ('家门', 0.2374267578125), ('opaedia', 0.224365234375)]}, 9: {12: [('ategorized', 0.123779296875), ('морска', 0.11907958984375), ('ATIC', 0.1190185546875), ('imode', 0.11767578125), ('imin', 0.11749267578125)], 15: [('дова', 0.349853515625), ('ото', 0.3349609375), (' лек', 0.3271484375), (' sanctuary', 0.31591796875), ('ambo', 0.313720703125)], 18: [('tofore', 0.1905517578125), (' преми', 0.1678466796875), ('&$\\\\', 0.163818359375), ('лео', 0.1622314453125), ('�', 0.1610107421875)], 19: [('籍', 0.54931640625), ('enue', 0.473876953125), ('oty', 0.47021484375), ('enton', 0.464111328125), ('�', 0.454345703125)], 37: [('良', 0.407470703125), ('riam', 0.38232421875), ('一言', 0.36669921875), ('ahler', 0.348388671875), ('erex', 0.347412109375)], 38: [('服', 1.111328125), (' Gras', 0.97802734375), ('wells', 0.931640625), ('andom', 0.87841796875), ('cyan', 0.86474609375)]}, 2: {18: [('mbits', 0.3173828125), (' присъ', 0.309326171875), ('StyleID', 0.302001953125), ('گ', 0.293701171875), ('mmode', 0.28515625)], 35: [('�', 0.5263671875), ('Into', 0.5263671875), ('�', 0.50634765625), ('into', 0.5029296875), ('ienda', 0.478271484375)], 37: [('ughters', 0.392333984375), ('adies', 0.37890625), ('^{**', 0.371337890625), ('etheless', 0.363525390625), (' вси', 0.35400390625)], 38: [(' Jet', 1.3056640625), ('Jet', 1.2373046875), (' enrere', 1.2353515625), ('resso', 1.220703125), ('belong', 1.1845703125)], 48: [('greeter', 0.23291015625), ('сност', 0.2269287109375), ('odies', 0.2259521484375), ('itzen', 0.2252197265625), ('腊', 0.2225341796875)], 49: [('queda', 0.296630859375), ('walls', 0.291259765625), ('eqno', 0.266357421875), ('观点或立场', 0.262939453125), ('FieldLocation', 0.251220703125)]}, 8: {18: [('ulant', 0.3876953125), ('olla', 0.371337890625), ('voir', 0.362548828125), ('utica', 0.35498046875), ('kir', 0.353759765625)], 29: [('anguages', 0.19384765625), (' croats', 0.177490234375), ('xiu', 0.17626953125), ('ardown', 0.171630859375), ('onials', 0.1707763671875)], 37: [('стани', 0.55029296875), ('ANTE', 0.513671875), ('уа', 0.50244140625), ('bef', 0.4697265625), ('友情', 0.46435546875)], 38: [('...', 0.1990966796875), ('*', 0.1827392578125), (' *', 0.1710205078125), ('лив', 0.168701171875), (' -', 0.1593017578125)], 51: [('orno', 0.03411865234375), (' moves', 0.0305938720703125), (' Vend', 0.0302581787109375), (' move', 0.0296783447265625), ('oce', 0.029632568359375)], 54: [('随机', 0.1561279296875), (' sants', 0.147705078125), ('cils', 0.142822265625), ('::__', 0.1396484375), ('зо', 0.136962890625)]}, 13: {20: [('TOOLSET', 0.3994140625), ('headerlink', 0.363525390625), ('ExternalTask', 0.358154296875), ('CALLTYPE', 0.3525390625), ('долф', 0.33740234375)], 28: [('aric', 0.2327880859375), ('irons', 0.1968994140625), ('健康', 0.1893310546875), ('健康发展', 0.1873779296875), ('ket', 0.187255859375)], 38: [(' (', 1.0244140625), (' dot', 0.9365234375), ('h', 0.90478515625), (' cut', 0.8916015625), (' di', 0.87890625)], 56: [('aconda', 0.1341552734375), ('adies', 0.12548828125), (' омъ', 0.1253662109375), ('retty', 0.11920166015625), ('bsite', 0.11859130859375)], 60: [('oser', 0.84033203125), ('Manifest', 0.826171875), ('中间', 0.82373046875), ('law', 0.7548828125), ('案', 0.75439453125)], 63: [('贡', 0.33154296875), ('eqno', 0.31103515625), ('彦', 0.30908203125), ('benius', 0.30322265625), ('戏', 0.29931640625)]}, 19: {20: [('��', 0.2666015625), ('�乐', 0.23095703125), ('irie', 0.226806640625), ('etal', 0.21630859375), ('ID', 0.2158203125)], 23: [('uner', 1.015625), ('еру', 0.9658203125), ('sych', 0.9599609375), (' капа', 0.91162109375), ('imen', 0.89697265625)], 28: [('8', 0.359375), ('9', 0.35302734375), ('7', 0.326416015625), ('0', 0.32275390625), ('6', 0.2998046875)], 38: [(' Mestres', 0.33447265625), ('řá', 0.3291015625), ('оръ', 0.312744140625), ('orsed', 0.309814453125), ('urator', 0.304443359375)], 51: [('тропи', 0.30224609375), ('繁', 0.287841796875), ('企', 0.27734375), ('�', 0.272705078125), ('卧', 0.269287109375)], 60: [('标', 0.4619140625), ('标的', 0.456298828125), ('fr', 0.435302734375), ('θ', 0.42822265625), ('aml', 0.42138671875)]}, 20: {20: [('opo', 0.10791015625), ('ipus', 0.10687255859375), (' Йозеф', 0.10418701171875), ('reu', 0.10369873046875), (' Тек', 0.10302734375)], 28: [('сти', 0.444580078125), ('eting', 0.37353515625), ('eline', 0.371337890625), ('able', 0.3583984375), ('arly', 0.350341796875)], 38: [('距离', 0.421875), ('assi', 0.393310546875), ('mdl', 0.37890625), ('ACC', 0.36962890625), (' Пон', 0.367431640625)], 50: [('mez', 0.1669921875), ('level', 0.1634521484375), ('hine', 0.161865234375), ('ivet', 0.154296875), ('俞', 0.152587890625)], 56: [('ergy', 0.156494140625), ('ърс', 0.156005859375), ('hore', 0.1552734375), ('ERAL', 0.1551513671875), ('季', 0.1536865234375)], 60: [('标的', 0.2196044921875), (' изпъл', 0.2181396484375), ('标', 0.215576171875), ('stad', 0.1910400390625), ('ayas', 0.1873779296875)]}}\n",
      "Shared expert predictions: [[(' Gros', 0.382080078125), ('�', 0.36669921875), ('AIPS', 0.361572265625), ('etat', 0.351806640625), ('onomia', 0.346923828125)], [('辜', 0.9501953125), ('XL', 0.876953125), ('jem', 0.810546875), ('emin', 0.79931640625), ('amil', 0.78271484375)], [('↳', 0.79296875), ('etooth', 0.7529296875), ('�', 0.7099609375), ('一再', 0.70166015625), ('ernes', 0.6982421875)], [('广', 1.0068359375), ('3', 0.982421875), ('7', 0.94677734375), ('9', 0.93701171875), (' Kenn', 0.931640625)], [('堕', 1.048828125), ('gf', 0.93359375), ('跃', 0.91650390625), ('CAL', 0.8525390625), ('钰', 0.833984375)], [('晖', 0.83056640625), ('thin', 0.82080078125), ('�', 0.78369140625), ('灾难', 0.77099609375), ('恭', 0.755859375)], [(' ', 0.95068359375), (' S', 0.9013671875), (' O', 0.88916015625), (' ex', 0.8525390625), ('…', 0.81396484375)], [('adesh', 1.109375), (' Kenn', 1.06640625), ('\\xa0mil', 1.060546875), (' colpe', 0.986328125), ('astia', 0.9755859375)], [('adesh', 0.93359375), ('bid', 0.8681640625), ('对付', 0.841796875), ('WB', 0.828125), ('钰', 0.82763671875)], [('WB', 0.810546875), ('uparrow', 0.80078125), ('lev', 0.79052734375), ('riu', 0.7880859375), (' West', 0.76513671875)], [('ports', 0.7548828125), ('graded', 0.748046875), ('dow', 0.73583984375), ('ild', 0.7216796875), ('riter', 0.71728515625)], [('irt', 0.93408203125), (' Хю', 0.78955078125), (' Dane', 0.7509765625), ('ajan', 0.744140625), ('enance', 0.740234375)], [('observ', 0.79248046875), ('robat', 0.787109375), ('Вън', 0.77587890625), (' femenina', 0.77197265625), ('wk', 0.736328125)], [('emas', 0.99755859375), ('WL', 0.9912109375), ('�', 0.94873046875), ('DAQ', 0.83642578125), ('hal', 0.82421875)], [('ers', 1.068359375), ('ings', 0.97412109375), ('驱', 0.94677734375), ('ah', 0.92529296875), ('im', 0.89892578125)], [('дина', 1.1591796875), ('imburg', 1.1328125), ('зова', 1.1171875), (' occas', 1.109375), ('��', 1.0654296875)], [('onada', 0.62353515625), ('osed', 0.62158203125), ('�', 0.61376953125), (' Dis', 0.61376953125), ('icional', 0.603515625)], [('��', 0.7138671875), ('辜', 0.70068359375), ('指导', 0.693359375), ('\\xa0 ', 0.68505859375), (' леги', 0.66650390625)], [('ausa', 0.95361328125), ('arcity', 0.9228515625), ('поле', 0.91259765625), ('INCT', 0.90380859375), ('inche', 0.884765625)], [('口水', 0.82763671875), ('CM', 0.8173828125), ('eda', 0.7978515625), ('amon', 0.796875), ('adec', 0.7705078125)], [('legi', 0.8525390625), ('Tagged', 0.849609375), ('потре', 0.84423828125), ('骆', 0.81640625), ('arcity', 0.81591796875)], [('\\xa0mil', 0.83251953125), (' sanc', 0.8095703125), ('Lint', 0.794921875), (' Style', 0.7626953125), (' style', 0.75439453125)]]\n",
      "\n",
      "MoE Layer 14:\n",
      "Selected experts: [[37, 5, 3, 4, 35, 10], [44, 22, 18, 7, 9, 32], [32, 58, 44, 30, 12, 0], [0, 32, 30, 44, 7, 11], [44, 0, 46, 7, 52, 18], [6, 39, 44, 28, 7, 20], [19, 44, 9, 24, 58, 52], [33, 1, 57, 44, 56, 10], [58, 1, 30, 60, 44, 53], [44, 60, 0, 40, 58, 11], [53, 43, 28, 23, 40, 60], [44, 50, 23, 35, 38, 21], [21, 53, 6, 44, 35, 23], [35, 50, 27, 24, 44, 9], [10, 56, 28, 25, 33, 44], [30, 29, 12, 14, 10, 40], [14, 22, 51, 44, 26, 61], [22, 60, 16, 35, 0, 11], [60, 11, 40, 50, 44, 35], [27, 22, 38, 14, 35, 44], [23, 27, 50, 38, 40, 43], [53, 6, 38, 43, 23, 59]]\n",
      "Expert weights: [[0.3466796875, 0.0246124267578125, 0.028564453125, 0.0228118896484375, 0.0224151611328125, 0.0215911865234375], [0.12744140625, 0.06317138671875, 0.10321044921875, 0.059906005859375, 0.0478515625, 0.04620361328125], [0.07000732421875, 0.1759033203125, 0.074462890625, 0.11224365234375, 0.1158447265625, 0.0672607421875], [0.2109375, 0.11785888671875, 0.042510986328125, 0.0693359375, 0.037139892578125, 0.03466796875], [0.197021484375, 0.0615234375, 0.05950927734375, 0.0439453125, 0.041046142578125, 0.03497314453125], [0.2415771484375, 0.12152099609375, 0.08697509765625, 0.07781982421875, 0.061920166015625, 0.049713134765625], [0.0904541015625, 0.07598876953125, 0.2098388671875, 0.07110595703125, 0.057708740234375, 0.054534912109375], [0.09918212890625, 0.09307861328125, 0.05987548828125, 0.11383056640625, 0.09033203125, 0.058319091796875], [0.14306640625, 0.04144287109375, 0.08685302734375, 0.0343017578125, 0.18701171875, 0.03375244140625], [0.0709228515625, 0.419677734375, 0.038909912109375, 0.036834716796875, 0.036773681640625, 0.032684326171875], [0.081298828125, 0.07244873046875, 0.09808349609375, 0.11297607421875, 0.11102294921875, 0.037353515625], [0.057098388671875, 0.056732177734375, 0.07720947265625, 0.09759521484375, 0.05169677734375, 0.051605224609375], [0.0634765625, 0.07403564453125, 0.058990478515625, 0.05694580078125, 0.050689697265625, 0.04461669921875], [0.147705078125, 0.1231689453125, 0.05792236328125, 0.054229736328125, 0.049285888671875, 0.036285400390625], [0.1456298828125, 0.08013916015625, 0.0738525390625, 0.045379638671875, 0.044891357421875, 0.044281005859375], [0.09283447265625, 0.079345703125, 0.04864501953125, 0.049346923828125, 0.043731689453125, 0.042633056640625], [0.151611328125, 0.06005859375, 0.053375244140625, 0.039337158203125, 0.032684326171875, 0.031890869140625], [0.046539306640625, 0.046234130859375, 0.0810546875, 0.05560302734375, 0.045501708984375, 0.0428466796875], [0.10894775390625, 0.07666015625, 0.06353759765625, 0.0533447265625, 0.043792724609375, 0.04010009765625], [0.1561279296875, 0.04742431640625, 0.0428466796875, 0.037353515625, 0.035400390625, 0.035125732421875], [0.084228515625, 0.060546875, 0.05767822265625, 0.05682373046875, 0.047821044921875, 0.04766845703125], [0.0655517578125, 0.08551025390625, 0.07122802734375, 0.0570068359375, 0.045806884765625, 0.041351318359375]]\n",
      "Combined output tokens: [[('idera', 2.68359375), (' Fac', 2.5078125), ('frak', 2.4921875), (' fres', 2.326171875), ('osed', 2.32421875)], [('负', 1.40625), ('ressi', 1.400390625), ('buttonElement', 1.33984375), ('QUI', 1.3095703125), ('罢', 1.2607421875)], [('openg', 1.765625), ('ODO', 1.7568359375), ('resar', 1.7421875), ('自已', 1.6533203125), ('eting', 1.640625)], [('��', 2.244140625), ('markup', 1.927734375), ('adr', 1.84765625), ('ider', 1.78125), ('adera', 1.767578125)], [('etto', 2.029296875), ('wered', 2.00390625), ('��', 1.8701171875), ('adera', 1.84375), ('Съби', 1.8427734375)], [('lou', 2.48828125), ('摧', 1.96484375), ('ucha', 1.9150390625), ('沁', 1.912109375), ('wt', 1.9091796875)], [('tees', 2.98828125), ('ifmmode', 2.7109375), ('фли', 2.654296875), ('OTO', 2.408203125), ('Bec', 2.40625)], [(' ID', 1.865234375), (' SP', 1.81640625), (' DI', 1.7021484375), ('IDs', 1.6923828125), ('parted', 1.6552734375)], [('asign', 2.384765625), ('ODO', 2.349609375), ('aters', 2.1171875), ('odor', 2.10546875), ('atro', 1.9716796875)], [('愚', 2.916015625), ('way', 2.90234375), ('sies', 2.732421875), ('eler', 2.716796875), ('喀', 2.669921875)], [('鲜', 1.5185546875), ('erer', 1.3994140625), (' Републикански', 1.310546875), ('Real', 1.2724609375), (' Хърват', 1.2705078125)], [('ornia', 1.2998046875), ('S', 1.2841796875), ('trac', 1.283203125), ('вле', 1.283203125), ('��', 1.2744140625)], [('聪明', 1.1396484375), ('聪', 1.1376953125), ('лец', 1.130859375), ('ennes', 1.0888671875), ('恩', 1.0830078125)], [('trac', 1.720703125), ('odinger', 1.62890625), ('ENO', 1.6015625), ('的真实', 1.5732421875), ('nua', 1.556640625)], [('мето', 1.7666015625), ('UTO', 1.7626953125), ('仅代表作者本人观点', 1.6806640625), (' Стоян', 1.6611328125), (' entr', 1.6279296875)], [('UMN', 2.265625), ('exion', 1.8642578125), ('IMIT', 1.80078125), ('рия', 1.7607421875), (' dispersa', 1.7099609375)], [('CORE', 1.7568359375), (';</', 1.72265625), (' Nev', 1.6845703125), ('йто', 1.6455078125), ('得分', 1.640625)], [('urant', 1.1318359375), ('ustr', 1.029296875), ('wain', 1.0234375), (' min', 1.0146484375), ('eler', 1.0009765625)], [('ият', 1.5771484375), ('UMN', 1.5703125), ('rbia', 1.4716796875), ('ministr', 1.470703125), ('стани', 1.4140625)], [('e', 2.65234375), ('ructure', 1.9921875), ('kon', 1.919921875), ('itute', 1.9130859375), ('ruct', 1.8427734375)], [('teness', 1.82421875), ('ISAM', 1.74609375), ('adin', 1.6240234375), ('}{.', 1.55859375), ('attering', 1.541015625)], [('ornia', 1.8564453125), ('Икономи', 1.443359375), (' compro', 1.4365234375), ('cept', 1.3837890625), (' пореди', 1.380859375)]]\n",
      "Expert predictions by position: {2: {0: [('COPY', 0.35546875), ('neys', 0.32373046875), ('жен', 0.3232421875), (' EXISTS', 0.322998046875), ('стъпва', 0.313232421875)], 12: [(' ВМРО', 0.67578125), ('rugu', 0.646484375), ('circled', 0.6435546875), ('atern', 0.587890625), ('ALES', 0.5791015625)], 30: [('ressa', 0.98876953125), (' произво', 0.8388671875), ('джо', 0.8046875), ('Cole', 0.78955078125), ('рият', 0.77978515625)], 32: [('blockList', 0.2374267578125), ('办法', 0.2110595703125), ('бул', 0.2032470703125), ('ODB', 0.2030029296875), ('4', 0.19677734375)], 44: [(' fox', 0.38671875), ('fox', 0.3525390625), ('кур', 0.346435546875), ('agre', 0.34619140625), ('зу', 0.34326171875)], 58: [('aters', 0.8916015625), ('med', 0.8232421875), ('ater', 0.791015625), ('ology', 0.7841796875), ('atre', 0.77001953125)]}, 3: {0: [('enza', 0.3486328125), ('agine', 0.3173828125), ('avorite', 0.307861328125), ('agall', 0.306884765625), ('Interest', 0.304443359375)], 7: [('following', 0.23876953125), (' estas', 0.2376708984375), ('these', 0.2333984375), ('this', 0.2320556640625), (' esta', 0.225341796875)], 11: [('莱坞', 0.343994140625), (' пости', 0.225341796875), ('бой', 0.22021484375), ('Ú', 0.2161865234375), ('animity', 0.216064453125)], 30: [('ogene', 0.2232666015625), ('晚期', 0.208984375), ('��', 0.20556640625), (' Modem', 0.2008056640625), ('agogue', 0.200439453125)], 32: [('жество', 0.44091796875), ('ize', 0.407958984375), ('annah', 0.40771484375), ('izes', 0.402099609375), ('3', 0.38232421875)], 44: [(' tel', 0.20849609375), ('г', 0.20361328125), ('ISS', 0.1947021484375), ('ajor', 0.194091796875), ('umps', 0.1920166015625)]}, 4: {0: [('able', 0.12176513671875), ('pers', 0.11590576171875), ('远的', 0.10919189453125), ('谦', 0.10784912109375), ('KEN', 0.10748291015625)], 7: [(' externs', 0.21875), ('rega', 0.2177734375), ('ViewById', 0.2122802734375), ('ogut', 0.2120361328125), ('iqui', 0.2083740234375)], 18: [('iat', 0.1724853515625), ('eness', 0.1519775390625), (' vis', 0.1455078125), ('ulent', 0.1396484375), ('mania', 0.136962890625)], 44: [('adur', 0.2186279296875), (' лети', 0.215087890625), ('hdad', 0.20361328125), ('��', 0.202880859375), (' местообита', 0.197265625)], 46: [('ures', 0.435791015625), ('beds', 0.435791015625), ('ivate', 0.434814453125), ('oints', 0.43310546875), ('ssf', 0.408203125)], 52: [('gered', 0.257568359375), ('勺', 0.24072265625), ('inars', 0.2353515625), ('rely', 0.2301025390625), (' Clickfunnels', 0.2296142578125)]}, 9: {0: [('hthal', 1.2587890625), ('adera', 1.2353515625), ('utan', 1.193359375), ('SNAP', 1.189453125), ('政策的', 1.185546875)], 11: [('Msk', 0.166748046875), ('ritic', 0.16455078125), ('ес', 0.1634521484375), ('充', 0.157958984375), ('密', 0.1575927734375)], 40: [('avor', 0.311767578125), ('amin', 0.300537109375), ('0', 0.279052734375), ('tia', 0.277587890625), ('eman', 0.276123046875)], 44: [('��', 0.484375), (' улица', 0.4794921875), ('��', 0.4208984375), ('eck', 0.408203125), ('ферата', 0.4033203125)], 58: [(' паша', 0.1544189453125), ('oul', 0.138671875), ('ията', 0.1300048828125), ('rob', 0.1280517578125), (' bra', 0.1279296875)], 60: [('пита', 0.172119140625), (' Regards', 0.1583251953125), ('lemn', 0.157470703125), ('ifests', 0.15478515625), ('urger', 0.1544189453125)]}, 17: {0: [('сил', 0.1776123046875), ('\\xa0$', 0.1741943359375), (' [$', 0.173828125), ('вати', 0.167236328125), ('创', 0.166748046875)], 11: [('莱坞', 0.476806640625), ('ICRON', 0.431884765625), ('公', 0.409912109375), (' Вардар', 0.404052734375), ('Phabricator', 0.399169921875)], 16: [(' Read', 0.442626953125), (' S', 0.43701171875), (' (', 0.38330078125), ('rios', 0.371826171875), (' ...', 0.37158203125)], 22: [('敬畏', 0.302978515625), ('mint', 0.294921875), ('hea', 0.29296875), ('riel', 0.286865234375), ('lein', 0.2763671875)], 35: [('вица', 0.165283203125), ('bted', 0.1644287109375), ('fts', 0.162109375), ('arisation', 0.15625), ('ropies', 0.1534423828125)], 60: [('фал', 0.2315673828125), ('腹', 0.2188720703125), ('wso', 0.2138671875), ('Ejemplo', 0.202880859375), ('riptor', 0.1968994140625)]}, 7: {1: [('swire', 0.1781005859375), ('hint', 0.1754150390625), ('bara', 0.1732177734375), ('ï', 0.1688232421875), ('icit', 0.1669921875)], 10: [('IEEEeqnarray', 0.28857421875), ('enesis', 0.258544921875), ('keycode', 0.25830078125), ('евру', 0.251220703125), ('esos', 0.2449951171875)], 33: [(' запа', 0.60888671875), ('llib', 0.54052734375), ('ву', 0.525390625), (' Nav', 0.496337890625), ('onge', 0.4912109375)], 44: [('aders', 1.2734375), ('ives', 1.232421875), ('ophy', 1.23046875), ('acy', 1.1826171875), ('ighed', 1.1650390625)], 56: [('滚', 0.4541015625), ('Extent', 0.424072265625), ('等功能', 0.407470703125), (' finally', 0.39892578125), ('�', 0.39794921875)], 57: [('верен', 0.298095703125), ('��', 0.285888671875), ('��', 0.281982421875), (' дворец', 0.27880859375), ('бю', 0.27099609375)]}, 8: {1: [('enth', 0.5791015625), ('antine', 0.50830078125), ('oure', 0.49755859375), ('фурт', 0.47802734375), ('引', 0.473388671875)], 30: [('abody', 0.65673828125), (' Prats', 0.5869140625), ('нет', 0.5703125), (' пър', 0.56005859375), ('нета', 0.5556640625)], 44: [('яр', 0.2430419921875), ('orman', 0.223876953125), ('移', 0.2215576171875), (' dist', 0.213134765625), ('odal', 0.207763671875)], 53: [('мара', 0.1075439453125), ('呼吸', 0.1058349609375), ('alon', 0.1048583984375), ('�', 0.10296630859375), ('uments', 0.1014404296875)], 58: [('ardu', 0.8349609375), ('房子', 0.79833984375), ('rror', 0.7841796875), ('сква', 0.78173828125), ('сира', 0.748046875)], 60: [('стани', 0.51708984375), ('urances', 0.475830078125), ('ustom', 0.470703125), ('hesda', 0.467529296875), (' Natural', 0.458251953125)]}, 0: {3: [('emir', 0.01355743408203125), ('�', 0.012786865234375), ('一片', 0.01267242431640625), ('yship', 0.01251983642578125), ('favor', 0.0124359130859375)], 4: [('вец', 0.0198974609375), ('жен', 0.0186309814453125), (' Path', 0.0185546875), (' Hedge', 0.0171356201171875), (' everything', 0.016845703125)], 5: [(' Set', 0.0246734619140625), ('htra', 0.0241546630859375), ('enal', 0.02264404296875), ('мет', 0.0225067138671875), ('ogged', 0.022491455078125)], 10: [('4', 0.03729248046875), ('0', 0.036102294921875), ('6', 0.035675048828125), ('7', 0.03564453125), ('1', 0.035308837890625)], 35: [('quare', 0.2998046875), ('friends', 0.29150390625), ('friend', 0.271484375), ('ENCY', 0.250244140625), ('�', 0.2481689453125)], 37: [('idera', 2.537109375), (' Fac', 2.34375), ('frak', 2.224609375), ('Complexity', 2.20703125), (' hello', 2.150390625)]}, 5: {6: [('̀', 1.9111328125), ('omla', 1.6806640625), ('�', 1.515625), ('erci', 1.50390625), ('perity', 1.4892578125)], 7: [('ufact', 0.34326171875), ('@{}', 0.343017578125), ('弃', 0.33544921875), (' seguro', 0.326416015625), ('tols', 0.322998046875)], 20: [('hpl', 0.291259765625), ('лео', 0.274658203125), ('1', 0.25830078125), ('�', 0.255126953125), ('心来', 0.2529296875)], 28: [('9', 0.58740234375), ('2', 0.5869140625), ('6', 0.58203125), ('8', 0.5703125), ('1', 0.5634765625)], 39: [('7', 1.1142578125), ('8', 1.0712890625), ('3', 1.0576171875), ('6', 1.017578125), ('4', 0.99267578125)], 44: [('orman', 0.2103271484375), ('hy', 0.2099609375), (' Hy', 0.1939697265625), ('ub', 0.190673828125), ('没了', 0.189453125)]}, 12: {6: [('9', 0.53662109375), ('0', 0.52783203125), ('1', 0.50927734375), ('7', 0.50537109375), ('8', 0.4892578125)], 21: [('imap', 0.2100830078125), ('series', 0.20361328125), ('idos', 0.201416015625), ('fts', 0.20068359375), ('ivitat', 0.1920166015625)], 23: [('ivell', 0.66162109375), ('ят', 0.6201171875), ('近平', 0.58447265625), ('miral', 0.5810546875), ('aggard', 0.578125)], 35: [('стина', 0.0196990966796875), ('ributed', 0.019439697265625), ('гле', 0.0192718505859375), ('rodn', 0.01904296875), ('rites', 0.0187835693359375)], 44: [('оте', 0.548828125), ('lee', 0.54150390625), ('负', 0.52880859375), ('握', 0.4873046875), ('din', 0.482177734375)], 53: [('ROUT', 0.376953125), ('дио', 0.36669921875), ('asters', 0.359375), ('urus', 0.351318359375), (' _', 0.3330078125)]}, 21: {6: [('aras', 0.2418212890625), (' SET', 0.22998046875), ('dden', 0.228515625), (' \"', 0.2252197265625), ('oves', 0.2222900390625)], 23: [(' Кън', 0.27587890625), ('ковник', 0.26416015625), ('诠', 0.252197265625), ('култе', 0.2396240234375), ('годишен', 0.2344970703125)], 38: [('列', 0.64501953125), ('梦', 0.59033203125), ('拼', 0.5390625), ('gre', 0.5224609375), ('Gre', 0.51806640625)], 43: [('汾', 0.30078125), ('联', 0.29345703125), ('ск', 0.27685546875), ('中超', 0.275634765625), ('others', 0.274658203125)], 53: [('дрид', 0.337890625), ('分时', 0.32763671875), ('starter', 0.3212890625), ('�起', 0.318603515625), ('paramname', 0.31494140625)], 59: [('topNav', 0.2127685546875), (' Tank', 0.2001953125), (' Academ', 0.190673828125), ('eway', 0.18408203125), ('ipher', 0.182373046875)]}, 1: {7: [('малко', 0.2330322265625), ('UTES', 0.23095703125), ('ressi', 0.2265625), ('хер', 0.223388671875), ('blica', 0.215576171875)], 9: [('ifmmode', 2.5), ('来越', 2.15234375), ('Bec', 2.150390625), ('蜘', 2.10546875), ('tees', 2.06640625)], 18: [(' кот', 0.382568359375), ('ausa', 0.3798828125), (' equalTo', 0.3779296875), ('HDA', 0.37353515625), ('ognito', 0.369140625)], 22: [('ersal', 0.478271484375), ('umno', 0.474365234375), ('формация', 0.440673828125), ('pector', 0.439453125), ('erred', 0.42822265625)], 32: [(' adre', 0.72021484375), ('чело', 0.63232421875), ('拍的', 0.609375), ('arther', 0.59814453125), (' Ly', 0.59326171875)], 44: [('rot', 0.2364501953125), ('cerem', 0.2308349609375), ('acc', 0.2301025390625), ('uries', 0.228515625), ('ossos', 0.2249755859375)]}, 6: {9: [('2', 0.179931640625), ('7', 0.1778564453125), ('5', 0.1693115234375), ('0', 0.16796875), ('6', 0.155517578125)], 19: [('.&', 0.3818359375), (' moda', 0.372802734375), (',&', 0.37060546875), ('сам', 0.36865234375), (' dobl', 0.36572265625)], 24: [('��', 0.5517578125), ('OMS', 0.548828125), ('gics', 0.541015625), ('пал', 0.51904296875), (' vern', 0.50390625)], 44: [('missible', 0.1676025390625), ('vestre', 0.15673828125), (' Сър', 0.154296875), ('aixec', 0.143798828125), ('haz', 0.142578125)], 52: [('斯坦', 0.283447265625), ('of', 0.282958984375), ('thing', 0.2734375), ('acht', 0.26708984375), ('侵', 0.2578125)], 58: [('нни', 0.21142578125), ('dale', 0.1959228515625), ('IPT', 0.193359375), ('falls', 0.1903076171875), (' дворец', 0.1829833984375)]}, 13: {9: [('рета', 0.5390625), ('ion', 0.529296875), ('ionals', 0.51171875), ('兆', 0.50341796875), ('慎', 0.4931640625)], 24: [('стен', 0.38427734375), (' Go', 0.32373046875), ('atg', 0.319580078125), ('PI', 0.3193359375), ('bon', 0.318603515625)], 27: [('orel', 0.254150390625), ('ду', 0.2283935546875), ('oret', 0.2276611328125), ('of', 0.217041015625), ('ofs', 0.1939697265625)], 35: [('1', 0.14111328125), ('9', 0.1387939453125), ('0', 0.1373291015625), ('PRESS', 0.133056640625), ('plex', 0.1312255859375)], 44: [(' Metropolit', 0.568359375), ('缠', 0.5595703125), ('1', 0.51953125), ('рони', 0.5078125), ('унд', 0.50634765625)], 50: [('ronic', 0.492431640625), ('agena', 0.48486328125), ('}$~\\\\', 0.4599609375), ('incare', 0.451904296875), ('rices', 0.4482421875)]}, 14: {10: [('idan', 1.6376953125), ('Panel', 1.5078125), (' panel', 1.4873046875), ('stum', 1.4267578125), ('atio', 1.3056640625)], 25: [('1', 0.30615234375), ('2', 0.279052734375), ('4', 0.2666015625), ('ref', 0.257080078125), ('3', 0.2568359375)], 28: [('\\xa0mil', 0.67333984375), ('quitect', 0.6318359375), ('станбул', 0.6015625), ('ейнт', 0.5986328125), ('рец', 0.59716796875)], 33: [('alesa', 0.211669921875), ('ULAR', 0.1961669921875), ('庭', 0.1949462890625), ('тък', 0.1878662109375), ('ced', 0.186279296875)], 44: [('eer', 1.125), ('eur', 0.998046875), ('izes', 0.9501953125), ('ag', 0.90869140625), ('e', 0.90625)], 56: [('thinspace', 0.72900390625), (' воде', 0.55224609375), ('sca', 0.54931640625), ('obles', 0.548828125), (' MERCHANTABILITY', 0.53759765625)]}, 15: {10: [('wings', 0.2474365234375), ('illers', 0.247314453125), (' TOP', 0.2413330078125), ('eration', 0.2410888671875), ('thems', 0.2403564453125)], 12: [('{-}\\\\', 0.30517578125), ('��', 0.299560546875), ('qbezier', 0.29150390625), ('querra', 0.28369140625), ('стендил', 0.282470703125)], 14: [('的主', 0.35302734375), ('主', 0.339111328125), ('NOP', 0.3232421875), ('мето', 0.31884765625), ('TSC', 0.313720703125)], 29: [(' Гър', 0.69091796875), ('ificis', 0.68798828125), ('хен', 0.671875), (' достатъ', 0.6572265625), ('exion', 0.6474609375)], 30: [(' Valls', 0.900390625), (' Llobregat', 0.86572265625), (' Trinitat', 0.841796875), ('resa', 0.822265625), (' Llet', 0.7822265625)], 40: [('��', 0.5419921875), ('емон', 0.53076171875), ('rido', 0.521484375), ('Administraci', 0.5029296875), ('直接影响', 0.4990234375)]}, 18: {11: [(' Вардар', 0.293701171875), ('хайд', 0.285400390625), ('aptics', 0.279296875), ('Phabricator', 0.275390625), ('estir', 0.268798828125)], 35: [('��', 0.454833984375), ('stall', 0.427490234375), ('ra', 0.41064453125), ('录制', 0.408935546875), ('вле', 0.408935546875)], 40: [('aleb', 0.35546875), ('2', 0.352294921875), ('past', 0.3310546875), ('出不穷', 0.318115234375), ('ктори', 0.31787109375)], 44: [('0', 0.65185546875), ('grid', 0.52490234375), ('1', 0.5126953125), ('ane', 0.493408203125), ('Grid', 0.488037109375)], 50: [('ура', 1.10546875), ('mia', 1.0419921875), ('Wrapped', 1.00390625), ('弥陀', 0.99072265625), ('trac', 0.96728515625)], 60: [('��', 2.90625), ('way', 2.51171875), ('喀', 2.48828125), ('愚', 2.4453125), ('hesda', 2.3984375)]}, 16: {14: [(' средства', 1.5556640625), ('CORE', 1.5546875), ('得分', 1.5029296875), ('щат', 1.4697265625), ('йто', 1.396484375)], 22: [('$--', 0.387451171875), ('ffer', 0.3837890625), ('exas', 0.35546875), ('ъз', 0.33740234375), ('ruptedException', 0.334716796875)], 26: [('zem', 0.1273193359375), ('zip', 0.1170654296875), ('ZIP', 0.11627197265625), (' Units', 0.11334228515625), ('clear', 0.11224365234375)], 44: [('undial', 0.51171875), ('eered', 0.5048828125), ('age', 0.47998046875), ('itiu', 0.447509765625), (' mas', 0.43017578125)], 51: [('ampa', 0.1849365234375), ('hap', 0.1846923828125), (' люби', 0.174072265625), ('less', 0.165283203125), ('ided', 0.1632080078125)], 61: [(' myself', 0.12548828125), ('告诉你', 0.1072998046875), ('liest', 0.10595703125), ('�', 0.10443115234375), ('holds', 0.10284423828125)]}, 19: {14: [('� ', 0.283203125), ('\\\\^', 0.279296875), ('OLDER', 0.26806640625), ('lero', 0.2646484375), ('lod', 0.251708984375)], 22: [('urant', 0.62548828125), ('urrent', 0.57373046875), ('wig', 0.5537109375), ('phins', 0.53955078125), ('��', 0.5302734375)], 27: [('兰特', 0.439697265625), ('itutions', 0.418212890625), ('erated', 0.399169921875), ('UTION', 0.390869140625), ('pless', 0.390869140625)], 35: [('пите', 0.65380859375), ('予', 0.6044921875), ('传统', 0.60009765625), ('гене', 0.59423828125), ('Loader', 0.580078125)], 38: [('amina', 0.39453125), ('超', 0.32958984375), ('aline', 0.309814453125), ('脏', 0.297119140625), (' guard', 0.28857421875)], 44: [('Македония', 1.56640625), ('Окръг', 1.5322265625), ('Съби', 1.4990234375), ('idr', 1.453125), ('ries', 1.4453125)]}, 11: {21: [('ification', 0.1953125), ('nss', 0.192138671875), ('abol', 0.17919921875), ('iates', 0.1790771484375), ('为人', 0.1783447265625)], 23: [('ITLE', 0.9970703125), ('ascut', 0.85791015625), ('inians', 0.8173828125), ('inese', 0.7646484375), ('edded', 0.75830078125)], 35: [('ieres', 0.176025390625), (' differe', 0.1748046875), ('iro', 0.17431640625), ('glyph', 0.1739501953125), (' violinista', 0.173828125)], 38: [('рих', 0.433837890625), ('haviour', 0.427001953125), ('压', 0.424072265625), ('rica', 0.412109375), ('лова', 0.406005859375)], 44: [('hore', 0.111083984375), ('hov', 0.10552978515625), ('();\");', 0.10516357421875), ('ФА', 0.1048583984375), (' срещ', 0.10186767578125)], 50: [(' filas', 0.3203125), ('ntic', 0.31982421875), ('为企业', 0.30615234375), ('inear', 0.30419921875), ('ibliot', 0.29541015625)]}, 10: {23: [('жител', 0.517578125), ('днес', 0.464111328125), ('годишен', 0.4521484375), ('itti', 0.433837890625), ('lenburg', 0.43359375)], 28: [('定了', 0.5029296875), ('定的', 0.48193359375), (' нещо', 0.480224609375), ('3', 0.47998046875), ('aran', 0.479248046875)], 40: [('星驰', 0.197265625), ('土', 0.194580078125), ('患', 0.1907958984375), (' ink', 0.184814453125), ('PROTOCOL', 0.1837158203125)], 43: [('спи', 0.4853515625), ('addComponent', 0.48193359375), ('ercise', 0.477294921875), ('plusplus', 0.463134765625), ('lehem', 0.44775390625)], 53: [(' General', 0.51171875), ('General', 0.411865234375), ('分享', 0.401123046875), ('mor', 0.3974609375), ('ipolar', 0.3916015625)], 60: [(' :', 0.13818359375), (' f', 0.135986328125), (' gu', 0.129150390625), (' g', 0.128662109375), (' S', 0.1241455078125)]}, 20: {23: [('onstr', 0.257080078125), ('粉', 0.255126953125), ('сур', 0.2435302734375), ('wat', 0.241455078125), ('roth', 0.2412109375)], 27: [('ruct', 2.125), ('ructure', 2.029296875), ('itutions', 1.8984375), ('e', 1.837890625), ('itution', 1.6083984375)], 38: [('�', 0.234375), ('hold', 0.23388671875), ('压', 0.2332763671875), ('akia', 0.2293701171875), ('lada', 0.2286376953125)], 40: [('对象', 0.1934814453125), ('domen', 0.1859130859375), ('тев', 0.1854248046875), ('iclop', 0.1826171875), (' pob', 0.1812744140625)], 43: [('6', 0.41357421875), ('inger', 0.40234375), ('бри', 0.39599609375), (' percept', 0.39404296875), ('8', 0.39306640625)], 50: [('лф', 0.4072265625), ('adow', 0.396484375), ('ури', 0.39501953125), (' quisiera', 0.339111328125), ('tright', 0.33837890625)]}}\n",
      "Shared expert predictions: [[('ismes', 0.302490234375), (' Senat', 0.299072265625), ('semb', 0.294677734375), ('ODO', 0.29345703125), ('Habitants', 0.292724609375)], [('lest', 0.9267578125), ('codep', 0.87451171875), (' valign', 0.80712890625), ('следовател', 0.77197265625), ('轨迹', 0.7705078125)], [('全力以', 0.796875), ('lest', 0.78857421875), ('自已', 0.7880859375), ('敬', 0.74609375), ('semb', 0.7431640625)], [('矢', 1.0498046875), ('riet', 1.0224609375), ('固执', 0.99755859375), ('gir', 0.97314453125), ('agor', 0.9609375)], [('wered', 0.98291015625), ('NY', 0.91650390625), ('建华', 0.84814453125), ('萍', 0.83154296875), ('ivery', 0.82763671875)], [('��', 1.447265625), ('�乐', 1.283203125), ('一再', 1.16015625), ('дец', 1.12109375), ('semb', 1.115234375)], [('лев', 1.12890625), ('bolt', 0.89208984375), ('KR', 0.890625), ('渺', 0.873046875), ('wic', 0.86767578125)], [('迷惑', 1.103515625), ('aya', 1.083984375), ('Wa', 1.044921875), (' (>', 1.03515625), ('ATS', 1.0029296875)], [('面目', 1.2353515625), ('PING', 1.2041015625), ('CRS', 1.1357421875), ('迷惑', 1.119140625), ('лата', 1.1171875)], [('ADO', 1.021484375), ('�乐', 0.955078125), ('HCI', 0.92236328125), ('\\tspin', 0.9208984375), ('ام', 0.91552734375)], [(' bombes', 0.8310546875), ('这位', 0.8017578125), (' Vcc', 0.7431640625), ('евру', 0.72509765625), ('semb', 0.72314453125)], [('吐', 1.0517578125), ('лец', 0.96142578125), (' продължение', 0.9169921875), ('yss', 0.89208984375), ('widetext', 0.8828125)], [('drv', 0.935546875), ('emb', 0.92626953125), ('@{', 0.9111328125), ('лец', 0.880859375), ('Икономи', 0.87939453125)], [('�', 1.0390625), ('oed', 1.025390625), ('Comment', 1.0068359375), ('汹', 0.98486328125), ('晖', 0.935546875)], [(' avall', 1.126953125), ('entr', 1.025390625), (' presid', 1.001953125), (' Смо', 0.9951171875), ('ucid', 0.97705078125)], [(' Ска', 1.306640625), ('iope', 1.27734375), ('ocial', 1.265625), ('ndar', 1.2294921875), ('ANDARD', 1.19140625)], [('SIGN', 0.7578125), ('操', 0.73876953125), ('ader', 0.7353515625), ('iope', 0.6845703125), ('sp', 0.68017578125)], [('SPI', 0.81787109375), ('助', 0.80615234375), ('enys', 0.78173828125), ('JC', 0.77392578125), (' Spi', 0.77294921875)], [('ият', 1.33984375), ('terer', 1.2890625), ('ministr', 1.2392578125), ('UMN', 1.181640625), ('WireFormat', 1.123046875)], [('NO', 1.0458984375), ('勤', 0.9755859375), ('食盐', 0.97412109375), ('Still', 0.9345703125), ('BRA', 0.93212890625)], [('onesa', 1.3916015625), ('KL', 1.3818359375), ('phia', 1.2841796875), ('rod', 1.15625), ('persu', 1.123046875)], [('边', 1.0390625), ('�', 1.0302734375), ('oming', 0.99365234375), ('matically', 0.92333984375), ('nima', 0.89794921875)]]\n",
      "\n",
      "MoE Layer 15:\n",
      "Selected experts: [[16, 3, 24, 35, 27, 19], [12, 28, 2, 56, 50, 17], [50, 56, 28, 37, 2, 54], [28, 6, 56, 22, 37, 1], [35, 28, 25, 22, 55, 50], [45, 31, 34, 28, 53, 26], [47, 2, 38, 39, 44, 28], [17, 9, 36, 60, 28, 27], [50, 23, 17, 9, 28, 54], [12, 29, 1, 2, 40, 6], [63, 29, 4, 40, 42, 28], [6, 29, 4, 40, 51, 16], [34, 40, 29, 27, 50, 24], [22, 40, 2, 51, 7, 62], [8, 9, 17, 27, 60, 36], [8, 50, 29, 4, 37, 9], [16, 8, 6, 29, 28, 15], [35, 1, 11, 16, 39, 40], [29, 1, 4, 16, 8, 50], [6, 8, 7, 29, 4, 56], [29, 40, 4, 22, 8, 15], [34, 31, 29, 4, 8, 50]]\n",
      "Expert weights: [[0.03466796875, 0.465576171875, 0.0299072265625, 0.02752685546875, 0.0225982666015625, 0.02001953125], [0.1685791015625, 0.037139892578125, 0.1724853515625, 0.09112548828125, 0.07208251953125, 0.028839111328125], [0.192626953125, 0.13818359375, 0.0848388671875, 0.044219970703125, 0.0433349609375, 0.041473388671875], [0.10540771484375, 0.0745849609375, 0.0767822265625, 0.07733154296875, 0.0469970703125, 0.04547119140625], [0.07598876953125, 0.09710693359375, 0.1201171875, 0.05426025390625, 0.052276611328125, 0.0511474609375], [0.10052490234375, 0.0963134765625, 0.0953369140625, 0.0946044921875, 0.0924072265625, 0.0396728515625], [0.1051025390625, 0.08782958984375, 0.08233642578125, 0.056365966796875, 0.050262451171875, 0.043212890625], [0.1798095703125, 0.1702880859375, 0.0908203125, 0.06951904296875, 0.062042236328125, 0.0323486328125], [0.09033203125, 0.0882568359375, 0.07562255859375, 0.07489013671875, 0.06439208984375, 0.04193115234375], [0.070068359375, 0.06512451171875, 0.061737060546875, 0.057159423828125, 0.051483154296875, 0.04241943359375], [0.062744140625, 0.32275390625, 0.1309814453125, 0.0455322265625, 0.045440673828125, 0.0266876220703125], [0.13525390625, 0.265380859375, 0.062164306640625, 0.05242919921875, 0.045440673828125, 0.0274200439453125], [0.093017578125, 0.10076904296875, 0.0821533203125, 0.059051513671875, 0.04901123046875, 0.037078857421875], [0.05609130859375, 0.056976318359375, 0.056884765625, 0.08367919921875, 0.04443359375, 0.041046142578125], [0.1202392578125, 0.1004638671875, 0.09661865234375, 0.0623779296875, 0.03533935546875, 0.03240966796875], [0.111083984375, 0.073974609375, 0.04901123046875, 0.041748046875, 0.037017822265625, 0.0302581787109375], [0.150146484375, 0.059173583984375, 0.033966064453125, 0.03271484375, 0.032073974609375, 0.030670166015625], [0.06524658203125, 0.04876708984375, 0.04278564453125, 0.04052734375, 0.037841796875, 0.03704833984375], [0.11395263671875, 0.0858154296875, 0.057342529296875, 0.04461669921875, 0.043701171875, 0.03216552734375], [0.0316162109375, 0.032928466796875, 0.1968994140625, 0.15576171875, 0.0304718017578125, 0.0298309326171875], [0.18701171875, 0.03729248046875, 0.130615234375, 0.034454345703125, 0.031463623046875, 0.0269622802734375], [0.1553955078125, 0.06768798828125, 0.11846923828125, 0.04718017578125, 0.04083251953125, 0.040618896484375]]\n",
      "Combined output tokens: [[(' n', 0.7646484375), ('prop', 0.6982421875), (' s', 0.6884765625), ('ismes', 0.66259765625), (' p', 0.6259765625)], [('into', 1.892578125), ('semb', 1.810546875), ('mers', 1.7646484375), ('ocol', 1.6953125), ('iger', 1.693359375)], [('nist', 1.94140625), ('Into', 1.8349609375), (' Into', 1.765625), ('ETA', 1.716796875), ('illity', 1.673828125)], [('稍', 1.7392578125), ('adro', 1.6826171875), (' listado', 1.662109375), ('uzi', 1.6064453125), ('lest', 1.6015625)], [('ads', 1.919921875), ('istes', 1.8779296875), ('нова', 1.802734375), ('野', 1.783203125), ('inger', 1.78125)], [('entren', 2.0), ('othered', 1.9765625), ('发扬', 1.94921875), ('AMI', 1.931640625), ('Expandable', 1.853515625)], [('IGO', 1.4453125), ('bolt', 1.4365234375), ('冤', 1.361328125), (' m', 1.359375), ('搭', 1.35546875)], [('oco', 3.048828125), ('Med', 2.626953125), ('deb', 2.515625), (' <!--[', 2.513671875), ('drom', 2.505859375)], [('UMN', 1.7685546875), ('IMS', 1.70703125), ('izu', 1.5791015625), ('жени', 1.5390625), ('�', 1.509765625)], [('remaining', 1.4453125), ('fen', 1.41796875), ('斑', 1.38671875), ('ismes', 1.3671875), ('PING', 1.3388671875)], [('esian', 5.35546875), ('густ', 5.28125), ('erning', 5.19921875), ('yet', 5.12109375), ('Yet', 5.0234375)], [('尚未', 5.9453125), ('Би', 5.2109375), ('还未', 5.17578125), ('alan', 4.90625), ('tings', 4.84375)], [(' come', 2.95703125), ('come', 2.830078125), ('comes', 2.71484375), ('Come', 2.69140625), ('��', 2.611328125)], [('\\tspin', 1.2060546875), ('lod', 1.1767578125), ('Extension', 1.13671875), (' aprof', 1.08203125), (' Comen', 1.0654296875)], [('拨', 3.5625), ('odia', 2.556640625), ('gmd', 2.55078125), ('觉', 2.54296875), ('everse', 2.5390625)], [('onics', 2.853515625), ('RMS', 2.169921875), ('ropies', 2.08203125), ('mW', 2.072265625), (' ham', 2.072265625)], [('erest', 1.5322265625), ('cup', 1.3837890625), ('sy', 1.3837890625), ('iste', 1.357421875), ('META', 1.3525390625)], [(' n', 1.2626953125), ('残忍', 1.1533203125), ('诠', 1.1220703125), ('�', 1.12109375), ('潜', 1.1171875)], [(' yet', 2.328125), ('所未', 2.169921875), ('�', 2.080078125), ('Aspect', 2.001953125), (' e', 1.986328125)], [('aved', 2.177734375), ('】【', 2.140625), (' e', 2.12890625), (' Nava', 2.115234375), ('AtA', 2.091796875)], [(' yet', 4.66015625), ('尚未', 4.0), ('还没有', 3.9453125), ('还未', 3.8984375), (' Yet', 3.71875)], [(' Come', 3.150390625), (' come', 3.11328125), ('etano', 3.1015625), ('盲', 3.09765625), ('apo', 3.052734375)]]\n",
      "Expert predictions by position: {3: {1: [('ложе', 0.67822265625), ('раб', 0.619140625), (' оси', 0.60498046875), ('ificis', 0.60400390625), ('ALES', 0.59521484375)], 6: [('дръ', 2.8671875), ('тини', 2.826171875), ('unde', 2.81640625), ('последствие', 2.6640625), (' ръковод', 2.65625)], 22: [('kit', 0.262939453125), ('生机', 0.2314453125), ('叉', 0.2310791015625), (' yet', 0.2252197265625), ('allah', 0.2210693359375)], 28: [(' среди', 0.1492919921875), ('OrDefault', 0.1478271484375), ('ilus', 0.1446533203125), ('�', 0.142822265625), ('ilden', 0.1385498046875)], 37: [('textsubscript', 0.187255859375), ('admissible', 0.17822265625), (' категория', 0.17822265625), ('лото', 0.1749267578125), ('ucional', 0.172607421875)], 56: [('Into', 1.6640625), ('into', 1.6474609375), (' INTO', 1.56640625), (' into', 1.5517578125), (' Into', 1.455078125)]}, 9: {1: [('гати', 0.191650390625), ('agal', 0.1849365234375), ('нието', 0.1820068359375), ('6', 0.1800537109375), ('8', 0.176025390625)], 2: [('2', 0.94482421875), (' |', 0.92578125), (' ::', 0.87939453125), (' ->', 0.8447265625), ('1', 0.84326171875)], 6: [(' llet', 0.84521484375), ('anque', 0.822265625), ('[--', 0.80859375), ('gdx', 0.80810546875), ('emptat', 0.7978515625)], 12: [('шан', 0.9609375), ('ior', 0.837890625), ('neut', 0.82421875), ('coma', 0.7626953125), (' експе', 0.75146484375)], 29: [('还没有', 0.53466796875), ('还未', 0.501953125), ('还没', 0.480224609375), (' yet', 0.464111328125), ('尚未', 0.4609375)], 40: [('1', 0.37451171875), ('2', 0.307861328125), ('8', 0.294677734375), ('3', 0.29052734375), ('5', 0.253662109375)]}, 17: {1: [('$]', 0.2705078125), ('etz', 0.269775390625), ('LOPT', 0.25830078125), ('ifici', 0.2548828125), ('ibo', 0.251953125)], 11: [('COMPI', 0.37255859375), ('aire', 0.360595703125), ('textsuperscript', 0.359130859375), ('不开', 0.35888671875), ('red', 0.35546875)], 16: [('WD', 0.09893798828125), ('unker', 0.09844970703125), ('误', 0.09375), ('kowski', 0.09326171875), ('CE', 0.09088134765625)], 35: [('вестни', 0.033599853515625), (' feines', 0.032501220703125), ('adell', 0.032257080078125), ('OrBuilder', 0.03155517578125), ('кул', 0.0306854248046875)], 39: [(' същест', 0.280029296875), ('陈代谢', 0.27734375), ('ULE', 0.272705078125), ('docutils', 0.266845703125), ('obertura', 0.266357421875)], 40: [('��', 0.1595458984375), (' съ', 0.144775390625), ('erness', 0.131103515625), ('евру', 0.1304931640625), (' **:', 0.126953125)]}, 18: {1: [('owers', 0.83642578125), ('memname', 0.794921875), (' posible', 0.77099609375), ('possible', 0.76953125), ('Phabricator', 0.7333984375)], 4: [('ensem', 0.497314453125), ('abant', 0.439453125), ('rost', 0.4306640625), ('dyn', 0.42041015625), ('ens', 0.419921875)], 8: [('enty', 0.64599609375), ('AtA', 0.595703125), ('ents', 0.595703125), ('numerus', 0.53955078125), ('毛泽', 0.5263671875)], 16: [('ostics', 0.2421875), ('гал', 0.239990234375), ('LOB', 0.2391357421875), ('inster', 0.238037109375), ('fed', 0.2169189453125)], 29: [(' yet', 2.43359375), ('还未', 2.173828125), ('尚未', 2.099609375), ('还没有', 1.9853515625), ('yet', 1.93359375)], 50: [('лай', 0.4326171875), ('дия', 0.417236328125), ('тови', 0.40234375), (' sor', 0.39306640625), ('LoadBalancer', 0.3876953125)]}, 1: {2: [('5', 0.54638671875), ('1', 0.5400390625), ('9', 0.537109375), ('4', 0.5302734375), ('6', 0.5283203125)], 12: [('1', 0.404541015625), ('2', 0.390380859375), ('лове', 0.364013671875), ('9', 0.345458984375), ('7', 0.339599609375)], 17: [('ulats', 1.6337890625), (' мину', 1.5458984375), ('amsung', 1.541015625), ('пия', 1.4619140625), (' здраве', 1.443359375)], 28: [('\\toutput', 0.377197265625), (' output', 0.375732421875), ('疆', 0.36181640625), ('Output', 0.36083984375), ('output', 0.35400390625)], 50: [('iali', 0.139892578125), ('麻', 0.1385498046875), ('anca', 0.1383056640625), ('ertat', 0.137451171875), ('iosos', 0.1339111328125)], 56: [('into', 0.58935546875), (' into', 0.5576171875), ('Into', 0.55419921875), (' Into', 0.5234375), (' j', 0.495361328125)]}, 2: {2: [('elta', 0.19873046875), (' $^{', 0.1942138671875), ('igas', 0.1839599609375), (' bess', 0.1815185546875), ('eva', 0.1768798828125)], 28: [('ари', 0.1741943359375), ('llet', 0.1728515625), (' Booker', 0.1708984375), ('SyntaxKind', 0.1639404296875), ('Functional', 0.1629638671875)], 37: [('�', 0.33203125), ('aviera', 0.322998046875), ('habi', 0.310791015625), ('allot', 0.291259765625), ('卤', 0.28759765625)], 50: [('arel', 0.334716796875), (',', 0.33203125), ('usep', 0.33056640625), (' Key', 0.282958984375), ('ownt', 0.281494140625)], 54: [('cp', 0.146484375), ('CP', 0.1383056640625), (' cp', 0.136474609375), ('━━━━', 0.1339111328125), ('�', 0.1328125)], 56: [('�', 0.213623046875), ('uci', 0.203857421875), ('vi', 0.201904296875), (' sket', 0.1986083984375), ('iration', 0.1953125)]}, 6: {2: [('yer', 0.1976318359375), ('唐', 0.1915283203125), ('�', 0.1876220703125), ('ton', 0.1871337890625), ('败', 0.186279296875)], 28: [('\\tmax', 0.12127685546875), (' макси', 0.11492919921875), ('saurus', 0.1087646484375), ('Participant', 0.10455322265625), (' max', 0.10333251953125)], 38: [('uron', 0.58056640625), (' Anys', 0.5654296875), ('ASK', 0.53271484375), ('无愧', 0.529296875), ('ichthys', 0.5224609375)], 39: [(\"('$\", 0.181884765625), ('ughed', 0.17822265625), ('){};', 0.1749267578125), ('ipi', 0.1719970703125), ('нор', 0.1663818359375)], 44: [('UIS', 0.202880859375), ('禧', 0.1956787109375), ('lox', 0.193603515625), ('OTT', 0.190673828125), ('ven', 0.1849365234375)], 47: [(' hci', 0.55908203125), (' бря', 0.52734375), ('казва', 0.5087890625), (' селища', 0.50244140625), ('dua', 0.501953125)]}, 13: {2: [('мисъл', 0.292236328125), (' опи', 0.27685546875), ('ioli', 0.272216796875), ('voir', 0.26953125), ('htar', 0.26904296875)], 7: [('tol', 1.4599609375), ('��', 1.2255859375), ('вале', 1.1796875), ('aved', 1.17578125), (' изд', 1.166015625)], 22: [('�', 0.254150390625), ('arem', 0.2357177734375), ('artment', 0.2342529296875), ('ROUND', 0.2213134765625), (' Pompeu', 0.216064453125)], 40: [('che', 0.669921875), ('-', 0.646484375), ('&', 0.63720703125), ('Che', 0.63037109375), ('(', 0.5908203125)], 51: [('激', 0.371826171875), ('jad', 0.369140625), (' ${{\\\\', 0.36328125), ('Hooks', 0.348388671875), ('dias', 0.347412109375)], 62: [('后赛', 0.1343994140625), (' teix', 0.1297607421875), ('tage', 0.1275634765625), ('ping', 0.126220703125), ('offs', 0.124267578125)]}, 0: {3: [('crest', 0.0894775390625), ('icacy', 0.080810546875), ('}$~\\\\', 0.0806884765625), (' Gram', 0.07867431640625), ('рад', 0.0782470703125)], 16: [('inguish', 0.051849365234375), ('��', 0.045623779296875), ('率高', 0.044769287109375), ('�', 0.04473876953125), ('掘', 0.040313720703125)], 19: [('ystyle', 0.0260467529296875), (' Noguera', 0.0252227783203125), ('StyleID', 0.0251617431640625), ('ouville', 0.024932861328125), ('idera', 0.0249176025390625)], 24: [(' Pins', 0.0209197998046875), ('CodeAttribute', 0.0199127197265625), (' sols', 0.0187530517578125), (' Tw', 0.0184478759765625), ('AudioEvent', 0.0178680419921875)], 27: [(' recon', 0.03155517578125), (' квар', 0.031341552734375), ('ONY', 0.0302886962890625), ('康', 0.0297698974609375), ('бите', 0.0297088623046875)], 35: [('imn', 0.444091796875), ('abant', 0.4169921875), ('itzant', 0.4072265625), ('acions', 0.403076171875), ('гани', 0.397705078125)]}, 10: {4: [('光大', 0.312744140625), ('anat', 0.304931640625), ('delt', 0.30126953125), ('paz', 0.291259765625), ('bracket', 0.289794921875)], 28: [('CODEGEN', 0.8486328125), (' Дебър', 0.7626953125), ('anteria', 0.7431640625), ('Otra', 0.73681640625), ('гвай', 0.73486328125)], 29: [(' yet', 1.4677734375), ('yet', 1.3125), ('Yet', 1.1787109375), (' Yet', 1.109375), ('还未', 1.0556640625)], 40: [('�', 0.284912109375), ('che', 0.27587890625), ('&', 0.262939453125), ('atic', 0.2491455078125), ('�', 0.2296142578125)], 42: [('esModule', 0.168212890625), ('ЕФА', 0.1650390625), ('iem', 0.16162109375), ('ебсайт', 0.15478515625), ('locks', 0.154541015625)], 63: [('audi', 0.2412109375), ('лото', 0.23779296875), ('egl', 0.2294921875), ('hens', 0.2108154296875), ('---+', 0.2080078125)]}, 11: {4: [('amil', 0.29541015625), (' друг', 0.28955078125), ('�', 0.2724609375), (' News', 0.26220703125), ('elt', 0.26123046875)], 6: [('œ', 0.2919921875), ('гото', 0.28662109375), ('solution', 0.280029296875), ('系', 0.279541015625), ('uve', 0.276611328125)], 16: [('rophe', 0.316650390625), (' bate', 0.299560546875), ('вани', 0.291748046875), ('ides', 0.280517578125), ('致', 0.280029296875)], 29: [('густ', 5.51171875), ('agate', 4.796875), ('RIX', 4.73828125), ('yet', 4.734375), ('Yet', 4.7109375)], 40: [('ATTRIBUTE', 0.246826171875), ('Estimate', 0.238037109375), ('eq', 0.22607421875), ('UBE', 0.2239990234375), ('подоб', 0.2205810546875)], 51: [('reth', 0.30126953125), ('enta', 0.2998046875), ('ренски', 0.29248046875), ('antly', 0.285400390625), ('CIF', 0.275390625)]}, 15: {4: [('ensem', 1.1845703125), ('exion', 1.158203125), ('пти', 0.99755859375), ('ancel', 0.95556640625), (' arrels', 0.95166015625)], 8: [('�', 0.33349609375), ('央', 0.32763671875), ('amo', 0.32373046875), ('Va', 0.291015625), ('вайг', 0.287353515625)], 9: [('�', 0.529296875), ('遥', 0.47802734375), ('bet', 0.47119140625), ('ils', 0.439453125), ('na', 0.42919921875)], 29: [('还未', 1.666015625), ('还没有', 1.64453125), ('尚未', 1.62109375), (' yet', 1.5966796875), ('窝', 1.396484375)], 37: [('�', 0.317626953125), ('ready', 0.3173828125), ('ards', 0.288818359375), ('lau', 0.276123046875), ('ori', 0.274658203125)], 50: [(' Secci', 0.37646484375), ('asters', 0.358154296875), ('ague', 0.343017578125), ('alse', 0.33984375), ('hls', 0.33740234375)]}, 19: {4: [('ensem', 0.37255859375), ('�起', 0.29248046875), ('юн', 0.286376953125), ('ercus', 0.28564453125), ('appen', 0.2841796875)], 6: [('рт', 0.2249755859375), ('rium', 0.218994140625), ('urop', 0.2066650390625), ('DM', 0.200439453125), ('encions', 0.1995849609375)], 7: [('ecke', 0.168212890625), ('tains', 0.126220703125), ('oggles', 0.1248779296875), ('anton', 0.1201171875), ('anci', 0.119873046875)], 8: [('everse', 1.96875), ('兆', 1.56640625), ('usal', 1.537109375), ('拨', 1.5283203125), ('}_+', 1.484375)], 29: [(' yet', 6.05859375), ('yet', 5.171875), ('尚未', 5.10546875), ('还未', 4.7734375), ('Yet', 4.7578125)], 56: [('into', 1.025390625), ('Into', 1.001953125), (' into', 0.99169921875), (' INTO', 0.9814453125), (' Into', 0.87158203125)]}, 20: {4: [('umbered', 0.2132568359375), ('vies', 0.1749267578125), ('enser', 0.1585693359375), ('dered', 0.15771484375), ('ranges', 0.1534423828125)], 8: [('央', 0.312744140625), ('стер', 0.29736328125), ('oders', 0.280029296875), ('numerus', 0.279052734375), ('plet', 0.278564453125)], 15: [(' mains', 0.133056640625), ('кус', 0.1181640625), (' огла', 0.114013671875), ('或缺', 0.107421875), ('兰达', 0.1014404296875)], 22: [('��', 0.39599609375), ('rrer', 0.35205078125), ('ج', 0.322265625), ('uzz', 0.314453125), (' Ob', 0.313720703125)], 29: [('8', 0.1572265625), ('9', 0.1552734375), ('7', 0.1529541015625), ('1', 0.148681640625), ('5', 0.14794921875)], 40: [('peter', 0.2489013671875), (' juga', 0.2427978515625), ('lot', 0.22265625), ('JI', 0.2073974609375), ('酬', 0.2073974609375)]}, 21: {4: [('Styles', 1.2900390625), ('munt', 1.2822265625), ('istant', 1.17578125), ('umbered', 1.1640625), (' bess', 1.1552734375)], 8: [('ILI', 0.349853515625), ('黑色', 0.330322265625), ('央', 0.289794921875), ('amo', 0.274658203125), ('利物', 0.269287109375)], 29: [('尚未', 2.046875), ('还没有', 1.8828125), ('还未', 1.8759765625), (' yet', 1.8466796875), ('还没', 1.6337890625)], 31: [('клопе', 1.08984375), ('Английски', 1.015625), (' $)', 0.97900390625), ('цяло', 0.97900390625), ('фове', 0.9375)], 34: [('illings', 0.74609375), ('ulles', 0.72265625), ('adre', 0.72021484375), ('kes', 0.71875), (' доба', 0.716796875)], 50: [('oint', 0.330322265625), ('estar', 0.322021484375), (' potes', 0.291015625), (' ::', 0.280029296875), ('hores', 0.278076171875)]}, 16: {6: [(' thereto', 0.144287109375), ('ево', 0.1353759765625), ('iric', 0.131591796875), ('flat', 0.129150390625), (' Fine', 0.1259765625)], 8: [('onics', 1.888671875), (' Fins', 1.5986328125), ('毛泽', 1.5947265625), (' им', 1.537109375), ('$^\\\\', 1.53515625)], 15: [('仅代表作者本人观点', 0.138671875), ('tons', 0.135498046875), ('grades', 0.1353759765625), (' фрайхер', 0.1300048828125), ('伞', 0.129150390625)], 16: [('erest', 1.298828125), ('CHANT', 1.2578125), ('isters', 1.107421875), ('tab', 1.09375), ('clou', 1.05859375)], 28: [('稍', 1.0927734375), (' Arr', 1.0517578125), ('шите', 1.03515625), (' arrang', 1.0263671875), ('aml', 0.98876953125)], 29: [('—', 0.385009765625), ('–', 0.35009765625), ('best', 0.32861328125), ('ux', 0.32861328125), ('inf', 0.323486328125)]}, 14: {8: [('tor', 0.49169921875), ('IDO', 0.407470703125), ('真心', 0.396240234375), ('strip', 0.39013671875), ('tors', 0.38720703125)], 9: [('太平', 1.5029296875), ('държа', 1.388671875), (' <!--[', 1.3681640625), (' recol', 1.3544921875), ('tti', 1.3388671875)], 17: [('es', 0.140380859375), (' Et', 0.1268310546875), ('SEC', 0.126220703125), ('A', 0.1246337890625), ('by', 0.12054443359375)], 27: [('Кари', 0.19482421875), ('APA', 0.18701171875), ('脸', 0.1778564453125), ('ни', 0.17626953125), ('asq', 0.1748046875)], 36: [('Br', 0.64892578125), ('aried', 0.64892578125), ('SO', 0.55859375), ('Brid', 0.55517578125), ('SOs', 0.5498046875)], 60: [('ameters', 0.7763671875), ('airs', 0.68603515625), (' Basc', 0.6796875), ('ussa', 0.61376953125), ('ernation', 0.61279296875)]}, 7: {9: [('line', 0.65283203125), ('�', 0.63818359375), ('av', 0.6201171875), ('W', 0.61962890625), ('vert', 0.61474609375)], 17: [('��', 1.2041015625), ('anka', 1.189453125), ('ERY', 1.1826171875), (' Антар', 1.05859375), (' gratis', 1.0283203125)], 27: [('====', 1.1025390625), ('========================', 1.0703125), ('edded', 0.95703125), ('PYG', 0.93310546875), ('ложени', 0.8203125)], 28: [('сва', 0.56201171875), ('гар', 0.484375), ('fram', 0.480712890625), ('istat', 0.457275390625), ('slice', 0.452880859375)], 36: [('Di', 0.1693115234375), ('OMG', 0.1605224609375), ('9', 0.157470703125), ('over', 0.1561279296875), ('sty', 0.153076171875)], 60: [('\\tThen', 0.1966552734375), ('дават', 0.183837890625), (' Msg', 0.182861328125), ('求生', 0.1759033203125), ('msa', 0.1749267578125)]}, 8: {9: [('sia', 0.2017822265625), ('umes', 0.19482421875), ('Tagged', 0.1790771484375), ('DU', 0.1746826171875), ('arious', 0.1708984375)], 17: [('________', 0.47802734375), ('韭', 0.447265625), (' _________', 0.443359375), (' _____', 0.4072265625), (' which', 0.4072265625)], 23: [('ersonals', 0.498046875), ('obal', 0.451416015625), ('惟', 0.44873046875), ('gebras', 0.441162109375), ('gms', 0.43408203125)], 28: [('PRB', 0.57373046875), ('ername', 0.489501953125), ('бю', 0.480712890625), ('метра', 0.477294921875), ('平民', 0.466796875)], 50: [('iffel', 0.150146484375), ('вайг', 0.148681640625), ('elog', 0.143798828125), ('tically', 0.134765625), ('лата', 0.1326904296875)], 54: [(' spisov', 0.1981201171875), ('堡', 0.17041015625), ('atre', 0.16845703125), (' prehist', 0.15771484375), ('лан', 0.1529541015625)]}, 4: {22: [('剔', 0.2342529296875), ('insk', 0.2313232421875), ('思念', 0.2303466796875), ('打通', 0.2303466796875), ('tely', 0.2274169921875)], 25: [('wml', 1.0439453125), ('sti', 1.017578125), ('贩', 1.001953125), ('нове', 0.99560546875), (' into', 0.990234375)], 28: [('мените', 1.0068359375), ('anter', 0.8857421875), ('bilt', 0.85693359375), ('ObjectMeta', 0.8427734375), ('aryl', 0.8134765625)], 35: [('�乐', 0.212646484375), ('PTS', 0.190673828125), ('iquel', 0.1875), (' Schol', 0.176025390625), ('тек', 0.175537109375)], 50: [('braco', 0.14697265625), ('deven', 0.1429443359375), ('enal', 0.1417236328125), ('emouth', 0.1407470703125), ('ilus', 0.1387939453125)], 55: [('/', 0.382080078125), ('1', 0.37744140625), ('ca', 0.360107421875), ('iece', 0.3515625), ('0', 0.350341796875)]}, 12: {24: [('Sequ', 0.10760498046875), ('енеди', 0.10638427734375), ('立卡', 0.10614013671875), ('кнове', 0.10052490234375), ('ница', 0.09796142578125)], 27: [('苏', 0.186767578125), (' FETs', 0.1854248046875), ('уни', 0.1845703125), ('笔记', 0.1844482421875), ('CCCC', 0.1795654296875)], 29: [(' yet', 4.72265625), ('尚未', 4.63671875), ('还没有', 4.5546875), ('还未', 4.4375), ('yet', 4.06640625)], 34: [(' come', 2.91796875), ('COME', 2.916015625), ('Come', 2.603515625), (' Come', 2.599609375), ('comes', 2.564453125)], 40: [('utenberg', 0.2587890625), (' dig', 0.25), ('стига', 0.2462158203125), ('rove', 0.2457275390625), ('rotto', 0.2408447265625)], 50: [('ourney', 0.9052734375), ('atche', 0.869140625), ('arten', 0.82568359375), ('******', 0.80029296875), ('gressive', 0.7548828125)]}, 5: {26: [(' изтре', 0.361328125), ('├─', 0.33935546875), ('arter', 0.33349609375), ('GroupLayout', 0.332275390625), ('indicat', 0.326171875)], 28: [('раз', 0.5849609375), ('вол', 0.52587890625), ('oler', 0.52294921875), ('oyer', 0.5068359375), ('稍', 0.5048828125)], 31: [('usters', 0.6884765625), ('你了', 0.65673828125), ('мов', 0.6396484375), ('idelines', 0.63916015625), ('laga', 0.6357421875)], 34: [(' come', 2.955078125), ('come', 2.671875), ('COME', 2.51171875), ('Come', 2.455078125), (' Come', 2.359375)], 45: [('chini', 0.6630859375), ('� ', 0.62353515625), ('发了', 0.6181640625), ('хва', 0.61328125), ('escan', 0.59765625)], 53: [('oors', 0.5546875), ('Poc', 0.505859375), ('oldt', 0.505859375), ('�', 0.48681640625), ('�', 0.479736328125)]}}\n",
      "Shared expert predictions: [[(' n', 0.69873046875), ('prop', 0.669921875), (' s', 0.64111328125), ('ismes', 0.6220703125), ('lou', 0.568359375)], [('isations', 1.2109375), ('�乐', 1.203125), ('IconError', 1.0380859375), ('стка', 1.0234375), ('ised', 1.0078125)], [('�乐', 1.310546875), ('(--', 1.134765625), ('чва', 1.0615234375), ('Azerbaidjan', 0.97314453125), ('IEEEeqnarray', 0.9267578125)], [('пси', 1.173828125), ('enp', 1.123046875), ('坑', 1.1142578125), ('Replay', 1.0546875), ('Воен', 1.046875)], [('野', 1.26171875), ('致', 1.1787109375), (' n', 1.0771484375), ('ows', 1.076171875), ('phys', 1.0634765625)], [(' p', 0.9541015625), (' **', 0.9404296875), ('чва', 0.93310546875), (' GI', 0.90185546875), ('onium', 0.89794921875)], [('bolt', 1.1611328125), ('bona', 1.033203125), ('alp', 1.013671875), ('追赶', 0.97265625), (' v', 0.96240234375)], [(' Q', 1.03515625), ('sn', 0.98828125), ('照', 0.98681640625), (' C', 0.986328125), ('cu', 0.9755859375)], [('ATAB', 1.328125), ('ExternalTask', 1.3095703125), ('ROID', 1.302734375), (' изчезване', 1.2431640625), ('aresme', 1.228515625)], [('ismes', 1.1875), ('bris', 1.1171875), (' ov', 1.0927734375), ('吸取', 1.076171875), (' Comen', 1.0693359375)], [(';->', 1.16015625), ('┈┈', 1.0791015625), ('嘘', 0.958984375), ('NonUser', 0.92724609375), ('PAD', 0.91064453125)], [('oneses', 1.2265625), ('══', 1.0556640625), ('ismes', 1.0458984375), ('лям', 1.013671875), ('ermat', 1.0078125)], [(' devia', 1.09765625), ('��', 1.078125), (' discre', 1.07421875), ('NonUser', 1.0654296875), ('Жени', 1.064453125)], [('二级', 0.91455078125), ('lish', 0.88330078125), ('Extension', 0.86083984375), ('\\tspin', 0.8583984375), ('Registered', 0.8505859375)], [('argent', 1.2353515625), ('tically', 1.173828125), ('ourses', 1.142578125), ('垃', 1.1416015625), ('侦', 1.123046875)], [(' ', 1.525390625), ('菠', 1.3583984375), (' C', 1.24609375), ('дра', 1.2392578125), ('Choice', 1.1943359375)], [(' Hawk', 0.7919921875), ('(.', 0.78759765625), (' n', 0.78466796875), (' orient', 0.755859375), ('涨幅', 0.7548828125)], [(' n', 1.341796875), (' orient', 1.03515625), (' [', 1.033203125), ('残忍', 1.005859375), (' N', 0.99560546875)], [('isel', 1.404296875), ('onar', 1.1962890625), (' ', 1.1435546875), ('GES', 1.125), ('ogl', 1.103515625)], [('IVATE', 1.0625), ('Жени', 0.99951171875), ('盖上', 0.99609375), ('气的', 0.98583984375), ('дите', 0.9775390625)], [(' emerg', 1.564453125), ('rocal', 1.2978515625), ('mdc', 1.263671875), ('pees', 1.2255859375), ('ptrc', 1.19921875)], [('isel', 1.1123046875), ('Жени', 1.06640625), (' Купа', 1.0107421875), (' Бур', 0.9658203125), (' seca', 0.95654296875)]]\n",
      "\n",
      "MoE Layer 16:\n",
      "Selected experts: [[23, 1, 8, 3, 10, 37], [50, 10, 22, 55, 37, 5], [50, 62, 21, 42, 49, 4], [40, 42, 62, 49, 50, 52], [62, 58, 10, 34, 52, 47], [24, 62, 50, 18, 49, 42], [27, 10, 5, 62, 17, 50], [58, 20, 36, 52, 16, 62], [52, 7, 11, 51, 50, 16], [40, 11, 21, 50, 49, 12], [59, 28, 15, 58, 25, 41], [59, 41, 43, 10, 47, 31], [32, 41, 14, 16, 25, 53], [10, 58, 13, 5, 12, 47], [61, 58, 62, 16, 52, 47], [11, 21, 29, 59, 15, 4], [13, 29, 26, 47, 1, 3], [32, 40, 41, 3, 46, 22], [30, 40, 25, 47, 22, 21], [47, 31, 30, 26, 55, 0], [31, 13, 47, 59, 15, 38], [24, 59, 31, 3, 47, 18]]\n",
      "Expert weights: [[0.04669189453125, 0.2047119140625, 0.04351806640625, 0.045166015625, 0.03411865234375, 0.032867431640625], [0.21435546875, 0.1217041015625, 0.052581787109375, 0.045196533203125, 0.044677734375, 0.037078857421875], [0.2091064453125, 0.109130859375, 0.06195068359375, 0.11505126953125, 0.046112060546875, 0.03924560546875], [0.1295166015625, 0.0635986328125, 0.1839599609375, 0.053253173828125, 0.0494384765625, 0.04473876953125], [0.14306640625, 0.10302734375, 0.09075927734375, 0.051971435546875, 0.032470703125, 0.0323486328125], [0.13134765625, 0.1258544921875, 0.06585693359375, 0.06561279296875, 0.05841064453125, 0.035980224609375], [0.073974609375, 0.137939453125, 0.12078857421875, 0.06134033203125, 0.042022705078125, 0.037750244140625], [0.08258056640625, 0.08709716796875, 0.08636474609375, 0.09033203125, 0.067138671875, 0.06494140625], [0.05633544921875, 0.088623046875, 0.05328369140625, 0.058868408203125, 0.03704833984375, 0.036590576171875], [0.1009521484375, 0.0799560546875, 0.0758056640625, 0.055389404296875, 0.03729248046875, 0.0338134765625], [0.12335205078125, 0.043975830078125, 0.042724609375, 0.042388916015625, 0.041961669921875, 0.039886474609375], [0.0836181640625, 0.05718994140625, 0.05157470703125, 0.043304443359375, 0.03521728515625, 0.0310211181640625], [0.068115234375, 0.1907958984375, 0.05487060546875, 0.036407470703125, 0.035186767578125, 0.0322265625], [0.1685791015625, 0.0496826171875, 0.13623046875, 0.04949951171875, 0.04925537109375, 0.046142578125], [0.09271240234375, 0.07171630859375, 0.05450439453125, 0.07861328125, 0.041259765625, 0.03936767578125], [0.06475830078125, 0.045989990234375, 0.044891357421875, 0.04229736328125, 0.034759521484375, 0.03448486328125], [0.292236328125, 0.055511474609375, 0.037811279296875, 0.034088134765625, 0.0270843505859375, 0.0254058837890625], [0.09210205078125, 0.05511474609375, 0.044952392578125, 0.0447998046875, 0.043304443359375, 0.0335693359375], [0.09857177734375, 0.07281494140625, 0.053192138671875, 0.04852294921875, 0.040618896484375, 0.038177490234375], [0.05877685546875, 0.07568359375, 0.058135986328125, 0.08746337890625, 0.071533203125, 0.05047607421875], [0.1285400390625, 0.08251953125, 0.049041748046875, 0.057342529296875, 0.03509521484375, 0.0335693359375], [0.0537109375, 0.058868408203125, 0.06549072265625, 0.0443115234375, 0.0435791015625, 0.040374755859375]]\n",
      "Combined output tokens: [[('NameLink', 0.82421875), ('lou', 0.79833984375), ('idera', 0.77978515625), ('стер', 0.7783203125), (' volc', 0.76806640625)], [('2', 2.482421875), ('1', 2.390625), ('_', 2.384765625), ('5', 2.25), ('0', 2.236328125)], [('�乐', 2.068359375), ('umm', 1.9091796875), ('Curt', 1.908203125), (' Кън', 1.74609375), ('依', 1.6982421875)], [('�乐', 2.765625), ('截', 2.568359375), ('Composici', 2.552734375), ('Kind', 2.48828125), ('oodles', 2.486328125)], [('：', 2.29296875), (' :', 2.09375), ('gles', 2.0703125), (':\"', 2.060546875), (':*.', 2.052734375)], [('ropies', 2.349609375), (' Български', 2.212890625), ('lides', 2.08203125), ('igida', 2.005859375), ('伽', 2.005859375)], [('AGA', 2.1171875), ('gim', 1.9541015625), (' marcat', 1.779296875), (' valign', 1.68359375), ('inclusive', 1.6748046875)], [('1', 1.7744140625), ('0', 1.654296875), ('4', 1.619140625), ('adder', 1.5595703125), ('9', 1.5068359375)], [('commut', 1.3623046875), ('介', 1.341796875), ('lesa', 1.30859375), ('ideos', 1.2548828125), ('生', 1.2197265625)], [(' [', 1.76171875), ('离', 1.7509765625), ('含', 1.568359375), (' ', 1.5185546875), (' .', 1.48828125)], [('evin', 1.62109375), ('lete', 1.6005859375), (' OMIT', 1.572265625), ('CodeAttribute', 1.5712890625), ('unya', 1.55078125)], [('事', 1.587890625), ('Real', 1.4599609375), ('real', 1.4365234375), ('to', 1.4140625), ('事的', 1.3955078125)], [('fort', 1.3564453125), ('独家', 1.330078125), ('&', 1.2822265625), ('�', 1.2275390625), ('ingly', 1.1904296875)], [('tics', 1.8935546875), ('UAL', 1.666015625), ('理所', 1.6259765625), ('坞', 1.599609375), ('вис', 1.568359375)], [(' ', 2.177734375), ('�', 2.025390625), ('-', 1.8994140625), (' (', 1.80078125), (' com', 1.685546875)], [('лое', 1.619140625), ('Py', 1.578125), (' ', 1.5546875), ('质量', 1.5166015625), ('高速', 1.484375)], [('jor', 2.728515625), ('anwhile', 2.58203125), ('agre', 2.494140625), ('iotic', 2.431640625), ('aure', 2.28125)], [('тис', 1.27734375), ('amin', 1.23046875), ('帝', 1.1279296875), ('ivil', 1.1259765625), ('bac', 1.125)], [(' ', 1.5712890625), ('宇宙', 1.4951171875), ('mos', 1.4736328125), ('-', 1.455078125), ('â', 1.431640625)], [('马自', 1.650390625), (' organista', 1.5693359375), ('┈', 1.5087890625), ('ented', 1.4921875), ('тели', 1.4833984375)], [(' зат', 1.94140625), ('ienen', 1.7568359375), ('ница', 1.7109375), ('向后', 1.673828125), ('0', 1.673828125)], [('well', 1.6962890625), ('s', 1.6708984375), (' m', 1.5537109375), ('head', 1.5234375), (' _', 1.521484375)]]\n",
      "Expert predictions by position: {19: {0: [('enda', 0.292236328125), ('рана', 0.2354736328125), ('服', 0.2242431640625), ('спа', 0.2152099609375), ('head', 0.2137451171875)], 26: [('unta', 0.2178955078125), ('odos', 0.1912841796875), (' Sina', 0.18896484375), ('j', 0.1822509765625), ('办', 0.176025390625)], 30: [('фел', 0.41552734375), ('arct', 0.3671875), (' Rend', 0.361572265625), ('nicamente', 0.3603515625), ('фелд', 0.357666015625)], 31: [('0', 0.23388671875), ('7', 0.22509765625), ('head', 0.2152099609375), ('3', 0.213134765625), ('8', 0.2047119140625)], 47: [('гато', 0.48583984375), ('交', 0.463134765625), (' wished', 0.45751953125), ('angl', 0.433349609375), ('рид', 0.430419921875)], 55: [('arant', 0.7333984375), ('ricte', 0.701171875), ('raint', 0.697265625), ('cate', 0.6962890625), ('кто', 0.69091796875)]}, 0: {1: [('or', 0.09796142578125), ('OR', 0.07769775390625), ('ophone', 0.07373046875), (' esdev', 0.0728759765625), ('жде', 0.07275390625)], 3: [('пул', 0.03265380859375), ('itiu', 0.027435302734375), ('rendre', 0.026336669921875), ('简书', 0.0255279541015625), ('бина', 0.024810791015625)], 8: [('fess', 0.04583740234375), ('alera', 0.0445556640625), (' Series', 0.043060302734375), ('двиг', 0.041839599609375), ('�起', 0.040985107421875)], 10: [('\"]=>', 0.5029296875), ('itiva', 0.45654296875), ('docutils', 0.45068359375), ('��', 0.4443359375), ('PYG', 0.435302734375)], 23: [('хия', 0.072998046875), ('de', 0.0643310546875), ('�起', 0.06378173828125), (' Fran', 0.061676025390625), ('верен', 0.06103515625)], 37: [(' impr', 0.1710205078125), ('reta', 0.1571044921875), (' Care', 0.1568603515625), ('的生活', 0.1558837890625), ('�', 0.1549072265625)]}, 16: {1: [('нира', 0.11273193359375), ('yond', 0.11004638671875), ('gart', 0.10870361328125), ('indow', 0.108642578125), ('roqu', 0.0975341796875)], 3: [('str', 0.2220458984375), ('ichi', 0.2099609375), ('Mo', 0.1976318359375), ('uth', 0.1937255859375), ('лети', 0.1925048828125)], 13: [('here', 0.58837890625), ('icode', 0.57177734375), ('brid', 0.505859375), ('Llib', 0.50146484375), ('въ', 0.498046875)], 26: [('筋', 0.5087890625), ('дем', 0.487060546875), ('рица', 0.48193359375), ('чани', 0.456787109375), ('тици', 0.452880859375)], 29: [('茸', 0.282958984375), ('kext', 0.28125), ('леда', 0.28076171875), ('agues', 0.273193359375), ('毛', 0.2724609375)], 47: [('吗', 0.2470703125), ('好吗', 0.2451171875), ('imburg', 0.2061767578125), ('否', 0.2052001953125), ('么', 0.205078125)]}, 17: {3: [('载', 0.1051025390625), ('戴上', 0.0970458984375), (' Sc', 0.09698486328125), ('p', 0.09234619140625), ('�', 0.09149169921875)], 22: [('_', 0.31884765625), ('1', 0.314208984375), ('2', 0.30615234375), ('3', 0.296142578125), ('4', 0.291015625)], 32: [('��', 0.2900390625), ('ATTR', 0.27685546875), ('Stat', 0.271728515625), ('хра', 0.26220703125), (' semblants', 0.260009765625)], 40: [('4', 0.6904296875), ('6', 0.64892578125), ('1', 0.64794921875), ('9', 0.6328125), ('7', 0.62890625)], 41: [('保时', 0.254150390625), ('sdc', 0.2490234375), ('CELL', 0.246337890625), (' cell', 0.233642578125), ('央', 0.231689453125)], 46: [('vil', 0.1683349609375), ('roqu', 0.1585693359375), ('eppe', 0.1572265625), ('补', 0.149169921875), ('бо', 0.1478271484375)]}, 21: {3: [('anet', 0.1754150390625), (' widows', 0.1749267578125), ('吐', 0.1728515625), (' semantic', 0.16357421875), ('icol', 0.1629638671875)], 18: [('itself', 0.26953125), ('5', 0.258544921875), ('0', 0.256103515625), ('4', 0.247802734375), ('held', 0.2408447265625)], 24: [('roph', 0.87451171875), ('illus', 0.85107421875), (' notranslate', 0.81787109375), ('кон', 0.76611328125), ('anus', 0.75244140625)], 31: [('0', 1.34375), ('3', 1.2626953125), ('5', 1.197265625), ('4', 1.1943359375), ('1', 1.0625)], 47: [('湃', 0.31298828125), ('apa', 0.28515625), ('фове', 0.2464599609375), (' ,\\\\\\\\', 0.232177734375), ('检', 0.23046875)], 59: [('yet', 0.75830078125), (' yet', 0.71875), ('事的', 0.68017578125), ('事', 0.6591796875), ('actual', 0.59228515625)]}, 2: {4: [('atac', 0.157958984375), ('ingut', 0.1553955078125), ('ction', 0.1529541015625), ('_{[\\\\', 0.1500244140625), ('рис', 0.1480712890625)], 21: [(' tri', 0.2568359375), ('�', 0.24462890625), ('1', 0.2353515625), ('3', 0.231201171875), ('2', 0.2293701171875)], 42: [('��', 0.434814453125), ('icode', 0.41845703125), (' Loira', 0.412841796875), ('aguer', 0.399169921875), (' Формула', 0.387939453125)], 49: [('тре', 0.267333984375), ('ек', 0.25634765625), (' padd', 0.251953125), ('inde', 0.2474365234375), ('imum', 0.2474365234375)], 50: [('�', 0.394287109375), ('��', 0.327880859375), ('�乐', 0.321533203125), ('станбул', 0.29638671875), ('acum', 0.295166015625)], 62: [(' Line', 0.39990234375), ('direct', 0.3427734375), (' direct', 0.34033203125), (' line', 0.340087890625), ('iration', 0.333984375)]}, 15: {4: [('bis', 0.2041015625), ('大事', 0.2005615234375), ('套', 0.1878662109375), ('了一套', 0.1839599609375), ('ifera', 0.183837890625)], 11: [('形', 0.29541015625), ('edom', 0.2890625), (' types', 0.26953125), ('escor', 0.26904296875), ('slant', 0.260009765625)], 15: [('тати', 0.224853515625), ('arreg', 0.2183837890625), (' Gap', 0.2177734375), ('amarca', 0.2176513671875), ('colorbox', 0.2147216796875)], 21: [('ProtoBuf', 0.5654296875), ('indows', 0.51171875), ('OUSE', 0.490478515625), ('Composici', 0.488525390625), (' експе', 0.483642578125)], 29: [('\\u200b\\u200b', 0.396240234375), ('嘴', 0.3798828125), ('past', 0.364990234375), (' decorat', 0.36474609375), ('ionat', 0.36376953125)], 59: [('ichan', 0.26171875), ('ibu', 0.2476806640625), ('vature', 0.23974609375), ('tyard', 0.2332763671875), ('ocomplete', 0.22998046875)]}, 1: {5: [('_', 0.318603515625), ('ful', 0.272216796875), ('\\\\_', 0.263916015625), ('\\u2005', 0.2568359375), ('fuls', 0.255615234375)], 10: [('бле', 0.66943359375), ('�', 0.64501953125), (' рез', 0.64501953125), ('reland', 0.63427734375), (' долина', 0.6123046875)], 22: [('lect', 0.165283203125), ('othed', 0.1416015625), ('=\"__', 0.1378173828125), ('ostics', 0.1341552734375), ('eved', 0.134033203125)], 37: [(' hospit', 0.03900146484375), (' desocup', 0.032440185546875), (' Select', 0.03240966796875), ('palette', 0.03204345703125), ('ль', 0.03167724609375)], 50: [('clav', 0.35302734375), ('LOBAL', 0.2744140625), ('��', 0.2666015625), ('swer', 0.26513671875), ('ideos', 0.261962890625)], 55: [('ations', 0.91162109375), ('ation', 0.85986328125), ('able', 0.79296875), ('ATION', 0.74169921875), ('ative', 0.6982421875)]}, 6: {5: [('noma', 1.5185546875), ('LOPT', 1.365234375), ('gina', 1.302734375), ('cnica', 1.185546875), ('сова', 1.1767578125)], 10: [('quessa', 0.301513671875), ('��', 0.28515625), ('��', 0.255126953125), ('ateix', 0.254150390625), ('inuz', 0.2491455078125)], 17: [('idir', 0.25244140625), ('盈', 0.242431640625), ('органи', 0.237548828125), ('anqu', 0.22607421875), (' преврат', 0.217529296875)], 27: [('нето', 0.414794921875), ('efore', 0.408203125), ('hered', 0.400634765625), ('姓', 0.39990234375), ('tues', 0.395751953125)], 50: [('ared', 0.1971435546875), ('чита', 0.1837158203125), (' ted', 0.1785888671875), ('wall', 0.1712646484375), ('mpeg', 0.16650390625)], 62: [('ested', 1.8876953125), ('rfloor', 1.8447265625), ('umbles', 1.8408203125), ('grafs', 1.787109375), ('цяло', 1.76171875)]}, 13: {5: [('curities', 0.464599609375), ('ascut', 0.45751953125), ('фт', 0.436279296875), ('Ebre', 0.431640625), ('уни', 0.427001953125)], 10: [('ove', 0.04156494140625), ('oot', 0.039642333984375), ('енти', 0.039276123046875), ('uesa', 0.038330078125), ('ensk', 0.036041259765625)], 12: [('lope', 0.3408203125), ('then', 0.296142578125), ('Premi', 0.285400390625), ('头', 0.282470703125), ('when', 0.280029296875)], 13: [('agre', 2.68359375), ('anwhile', 2.416015625), ('aderies', 2.18359375), ('antime', 2.1015625), ('atable', 2.08984375)], 47: [('帮我', 0.36083984375), (' ayudarme', 0.304931640625), ('一下', 0.288818359375), ('ype', 0.284912109375), (' me', 0.28466796875)], 58: [(' answer', 1.0625), ('answer', 0.9228515625), ('quin', 0.8818359375), ('ate', 0.84375), ('\\twrite', 0.8388671875)]}, 8: {7: [('ideos', 0.58203125), ('arreg', 0.556640625), ('adon', 0.55224609375), ('\">)</', 0.5205078125), ('tesi', 0.51123046875)], 11: [('aic', 0.3349609375), (' theirs', 0.29443359375), ('antrop', 0.293701171875), ('原文地址', 0.2900390625), (' aapt', 0.286865234375)], 16: [('rable', 0.165283203125), ('oides', 0.1375732421875), ('статъ', 0.1351318359375), ('utat', 0.132568359375), ('ovac', 0.1278076171875)], 50: [(' [[', 1.23046875), ('tt', 1.185546875), ('oon', 1.1669921875), ('_', 1.1337890625), ('vm', 1.12890625)], 51: [('res', 0.227294921875), ('9', 0.2218017578125), ('1', 0.216552734375), ('4', 0.2103271484375), ('дове', 0.2064208984375)], 52: [('3', 0.6689453125), ('4', 0.64404296875), ('7', 0.60400390625), ('6', 0.580078125), ('5', 0.57080078125)]}, 4: {10: [('\";', 0.63525390625), ('_', 0.61181640625), (\"';\", 0.5771484375), ('/', 0.57080078125), ('imens', 0.56103515625)], 34: [('承', 0.323974609375), ('/../', 0.302490234375), ('лист', 0.2744140625), ('员', 0.27197265625), (' голе', 0.270751953125)], 47: [('фове', 0.350830078125), ('uncle', 0.340576171875), (' impat', 0.32958984375), ('wick', 0.318359375), ('ritis', 0.306396484375)], 52: [('unya', 0.303466796875), ('ouin', 0.283447265625), ('绕', 0.281982421875), ('measurements', 0.28173828125), ('Sentence', 0.278564453125)], 58: [(' pro', 0.382568359375), ('5', 0.364990234375), ('тари', 0.361572265625), ('7', 0.359619140625), (' sub', 0.35498046875)], 62: [('ayscale', 0.68505859375), ('oides', 0.67431640625), ('acis', 0.6416015625), ('ьой', 0.6396484375), ('ейнт', 0.611328125)]}, 11: {10: [('uality', 0.96728515625), ('going', 0.9521484375), ('arther', 0.9287109375), ('laz', 0.89892578125), ('漆', 0.8818359375)], 31: [('0', 0.479736328125), ('Press', 0.43505859375), ('eros', 0.42138671875), (' ende', 0.417236328125), ('phia', 0.405517578125)], 41: [('bras', 0.286376953125), ('estan', 0.283447265625), ('уа', 0.283203125), ('usted', 0.279296875), ('LER', 0.262939453125)], 43: [('ournal', 0.16845703125), ('ayed', 0.156982421875), ('Дре', 0.1490478515625), ('thorpe', 0.1474609375), ('hyth', 0.146484375)], 47: [('сти', 0.395751953125), (\"'::\", 0.346923828125), (')$).', 0.322265625), (' ръковод', 0.31982421875), ('Zyg', 0.318115234375)], 59: [('或缺', 1.0498046875), ('thur', 0.97705078125), ('deven', 0.955078125), ('venin', 0.91455078125), ('umo', 0.9140625)]}, 9: {11: [('ilst', 0.456787109375), ('cits', 0.440673828125), ('пява', 0.41357421875), ('ouville', 0.41064453125), (' печа', 0.400146484375)], 12: [('anova', 0.2406005859375), ('_', 0.2301025390625), ('provision', 0.2249755859375), ('umers', 0.2203369140625), ('ree', 0.2021484375)], 21: [('Раз', 0.373046875), ('uese', 0.369140625), ('ности', 0.368408203125), ('bris', 0.3623046875), ('ани', 0.3544921875)], 40: [('��', 1.2939453125), ('dered', 1.251953125), (' taula', 1.21875), ('ymatrix', 1.2001953125), ('бита', 1.19140625)], 49: [('bush', 0.183349609375), (\" $('<\", 0.1800537109375), ('SCRE', 0.169677734375), ('obius', 0.16845703125), ('�', 0.168212890625)], 50: [('�', 0.30322265625), ('久而', 0.286376953125), ('�', 0.27978515625), ('лото', 0.2783203125), ('AU', 0.2724609375)]}, 20: {13: [(' FIR', 0.783203125), ('iski', 0.74853515625), ('opia', 0.71533203125), (' Will', 0.7119140625), ('isky', 0.697265625)], 15: [('izon', 0.37109375), ('蜘', 0.347412109375), ('rieved', 0.338623046875), ('въз', 0.325439453125), (' Pujol', 0.323974609375)], 31: [('ncies', 0.53076171875), ('5', 0.465576171875), ('itous', 0.461669921875), ('0', 0.455078125), ('9', 0.44482421875)], 38: [('цо', 0.1630859375), ('oyer', 0.1510009765625), (' фрон', 0.1466064453125), (' фронт', 0.134521484375), (' su', 0.1297607421875)], 47: [('at', 0.1502685546875), ('ei', 0.1424560546875), (' ac', 0.130859375), (' nano', 0.123046875), ('micro', 0.12066650390625)], 59: [('港', 0.6220703125), (' (', 0.60302734375), ('uestas', 0.57275390625), ('actual', 0.56884765625), ('不定', 0.56201171875)]}, 12: {14: [('导', 0.28515625), ('селе', 0.25439453125), ('estret', 0.254150390625), ('分时', 0.251953125), ('Села', 0.247314453125)], 16: [('ho', 0.5439453125), ('造', 0.48046875), ('цу', 0.4248046875), ('wins', 0.3984375), ('vik', 0.390869140625)], 25: [('след', 0.1591796875), ('illie', 0.15380859375), ('arthe', 0.14306640625), ('饪', 0.1385498046875), ('rones', 0.1383056640625)], 32: [('igure', 0.5107421875), ('�乐', 0.44189453125), ('nist', 0.403076171875), ('resos', 0.39794921875), ('��', 0.38818359375)], 41: [('&', 0.86962890625), (' бил', 0.7841796875), ('abre', 0.7724609375), ('试试', 0.771484375), (' def', 0.75244140625)], 53: [('ally', 0.158935546875), ('yr', 0.1474609375), (' Hill', 0.13720703125), ('ly', 0.1302490234375), ('enn', 0.128662109375)]}, 10: {15: [('erir', 0.2296142578125), ('peg', 0.2188720703125), ('FULL', 0.2169189453125), ('三七', 0.2022705078125), ('过大', 0.1942138671875)], 25: [('<', 0.2822265625), (\"<'\", 0.275146484375), ('rose', 0.2529296875), ('ndies', 0.2484130859375), ('�', 0.2464599609375)], 28: [(' concl', 0.289794921875), ('Artistes', 0.28759765625), ('part', 0.286865234375), ('igos', 0.269775390625), ('ent', 0.265869140625)], 41: [('onel', 0.1800537109375), ('onada', 0.165283203125), ('ьой', 0.1600341796875), ('uites', 0.154296875), ('rita', 0.1534423828125)], 58: [('覆', 0.69677734375), ('ate', 0.5966796875), ('atted', 0.59326171875), ('lefte', 0.59033203125), ('点到', 0.57177734375)], 59: [('even', 1.19921875), ('事', 1.0869140625), ('asmine', 1.0751953125), (' even', 1.056640625), ('iva', 1.025390625)]}, 7: {16: [('otec', 0.1807861328125), (' sized', 0.1793212890625), ('elihood', 0.17626953125), ('ault', 0.17041015625), (' co', 0.169677734375)], 20: [('chan', 0.54248046875), ('iker', 0.5390625), ('pan', 0.52490234375), ('atoris', 0.5244140625), ('wy', 0.52392578125)], 36: [(' |^', 0.421875), (' място', 0.4072265625), ('pica', 0.398681640625), ('шка', 0.39306640625), ('equilibri', 0.392578125)], 52: [('��', 0.191162109375), ('дител', 0.187744140625), ('观的', 0.185791015625), ('geist', 0.1817626953125), ('DUP', 0.1815185546875)], 58: [('ICAST', 0.2296142578125), ('不可', 0.228271484375), (' pert', 0.21484375), (' )^', 0.2066650390625), ('googleads', 0.205078125)], 62: [(':\"', 0.6220703125), ('��', 0.51953125), (\":'\", 0.509765625), (':', 0.50634765625), ('：', 0.478515625)]}, 14: {16: [('这样的', 0.64404296875), ('怎样的', 0.457275390625), ('这样的情况', 0.4521484375), ('什么样的', 0.445068359375), ('那样的', 0.392578125)], 47: [('精', 0.427734375), ('ulades', 0.37451171875), ('Catalunya', 0.34814453125), ('карва', 0.336669921875), (' Като', 0.324951171875)], 52: [('Anvers', 0.21533203125), ('ствие', 0.194580078125), ('unya', 0.1859130859375), ('�다', 0.1824951171875), ('mba', 0.18017578125)], 58: [(' y', 0.2310791015625), ('Keep', 0.2301025390625), ('now', 0.2276611328125), (' ', 0.22607421875), ('gues', 0.2213134765625)], 61: [(' ', 0.81396484375), ('opedia', 0.7958984375), (' one', 0.74951171875), (' this', 0.74853515625), ('this', 0.65185546875)], 62: [(':\"', 2.07421875), (':`', 1.75), (':', 1.6796875), (':#', 1.64453125), ('：', 1.626953125)]}, 5: {18: [(' you', 0.5498046875), (' yours', 0.52490234375), ('omys', 0.448486328125), ('suc', 0.44677734375), ('yours', 0.410400390625)], 24: [('远的', 0.311767578125), (' pisc', 0.305908203125), ('onials', 0.285888671875), ('ubs', 0.281982421875), ('远', 0.267333984375)], 42: [('География', 0.642578125), ('ty', 0.63818359375), ('unknownFields', 0.60693359375), ('睛', 0.5966796875), ('ANGUAGE', 0.59619140625)], 49: [('uphin', 0.400146484375), ('estat', 0.397705078125), ('мил', 0.384765625), ('}~\\\\', 0.380126953125), ('孕', 0.364990234375)], 50: [(' exp', 0.1795654296875), ('��', 0.1668701171875), ('unda', 0.1611328125), (' native', 0.1597900390625), ('шна', 0.158935546875)], 62: [(':;\"', 0.62890625), ('“', 0.6015625), (\":'\", 0.5986328125), (':\"', 0.5986328125), ('obody', 0.595703125)]}, 18: {21: [('isb', 0.2003173828125), ('OSE', 0.188720703125), ('isf', 0.181640625), ('cessor', 0.1800537109375), (' chapter', 0.1781005859375)], 22: [('interopRequireDefault', 0.2181396484375), (' aque', 0.21337890625), ('FRAG', 0.209228515625), ('ictures', 0.2041015625), ('ФА', 0.1978759765625)], 25: [('rol', 0.23828125), ('AudioEvent', 0.225830078125), ('reserve', 0.219482421875), ('卤', 0.2154541015625), ('erenced', 0.213134765625)], 30: [('umno', 0.97412109375), ('孟', 0.7978515625), ('udar', 0.64453125), ('rimination', 0.640625), ('conjecture', 0.6279296875)], 40: [(' stuff', 0.2529296875), (' day', 0.2371826171875), (' things', 0.2215576171875), ('несе', 0.2191162109375), ('andra', 0.2181396484375)], 47: [('ruct', 0.38916015625), ('tablenot', 0.38037109375), ('rita', 0.376708984375), ('ainer', 0.37548828125), ('精', 0.362548828125)]}, 3: {40: [(' day', 0.72412109375), ('day', 0.5595703125), (' Day', 0.5078125), ('IL', 0.492919921875), ('Day', 0.462890625)], 42: [('语言', 0.34912109375), (' езици', 0.329345703125), (' lleng', 0.32861328125), ('的语言', 0.31640625), (' languages', 0.31591796875)], 49: [(' Simple', 0.474853515625), ('simple', 0.472412109375), (' simple', 0.459228515625), ('Simple', 0.440673828125), ('ogu', 0.408203125)], 50: [('atin', 1.0693359375), (' jo', 0.966796875), ('лита', 0.9619140625), ('天', 0.92919921875), (' parl', 0.92724609375)], 52: [('馈', 0.31591796875), ('wani', 0.288818359375), ('йт', 0.284912109375), ('diam', 0.2587890625), (' reconstruir', 0.255859375)], 62: [(':\"', 1.26171875), (':', 1.22265625), (' *:', 1.1162109375), (':`', 1.087890625), (':--\"', 1.080078125)]}}\n",
      "Shared expert predictions: [[('NameLink', 0.82763671875), ('lou', 0.7412109375), ('стер', 0.73193359375), (' volc', 0.7255859375), ('rites', 0.67578125)], [(' Y', 0.970703125), (' n', 0.96044921875), (' .', 0.9326171875), ('.', 0.91455078125), (' Mar', 0.88134765625)], [('�乐', 1.2431640625), ('华声', 1.0625), ('通', 1.0068359375), ('Nu', 0.982421875), ('xspace', 0.96435546875)], [('rag', 1.306640625), ('�', 1.2724609375), ('(', 1.232421875), ('3', 1.23046875), ('con', 1.21875)], [(' ', 1.5107421875), ('0', 1.1982421875), ('3', 1.158203125), ('ify', 1.1337890625), ('5', 1.12109375)], [('enci', 1.4248046875), ('angl', 1.41015625), (' Y', 1.4013671875), (' paral', 1.3232421875), ('GC', 1.2744140625)], [('AVING', 0.90283203125), (' Cont', 0.90234375), (' Vel', 0.8857421875), (' com', 0.87353515625), ('ICS', 0.87060546875)], [('0', 1.125), ('4', 1.0302734375), ('�', 0.9931640625), ('缤纷', 0.97265625), ('9', 0.96484375)], [('commut', 1.015625), ('SQ', 0.93896484375), ('тиле', 0.90869140625), ('Rationals', 0.90087890625), (' bumper', 0.8857421875)], [('…', 1.23046875), (' .', 1.095703125), (' m', 1.0859375), (' r', 1.0732421875), (' l', 1.06640625)], [('YN', 0.9365234375), ('opos', 0.92919921875), (' тех', 0.9287109375), ('ters', 0.9091796875), ('CodeAttribute', 0.89013671875)], [('AUTO', 1.1318359375), ('apol', 1.05078125), ('amely', 0.99169921875), ('频', 0.9833984375), ('AUT', 0.9736328125)], [('抵', 0.9267578125), ('监', 0.88720703125), ('精', 0.87744140625), (' Moran', 0.85986328125), ('废', 0.85107421875)], [(\"-'\", 0.92724609375), ('nom', 0.9091796875), ('ites', 0.884765625), ('Forge', 0.85888671875), ('graded', 0.8544921875)], [('�', 1.3583984375), ('-\">', 1.2392578125), ('‚', 1.2314453125), ('INST', 1.2255859375), (' K', 1.22265625)], [('质量', 1.36328125), ('lite', 1.31640625), ('-', 1.310546875), (' кон', 1.296875), (' Internet', 1.29296875)], [('se', 1.09765625), ('widet', 1.0126953125), ('frak', 0.998046875), ('摄', 0.99169921875), ('uit', 0.96142578125)], [(' KG', 1.1845703125), ('amin', 1.046875), ('UA', 1.0439453125), ('IOD', 1.0107421875), (' LEVEL', 0.9873046875)], [(' Mon', 1.1025390625), (' Tag', 1.0341796875), ('ocr', 1.0244140625), ('ď', 1.01953125), ('zier', 1.017578125)], [('tright', 1.0703125), ('nucle', 0.98828125), ('inser', 0.95654296875), ('sts', 0.94580078125), ('�', 0.9345703125)], [('lef', 1.337890625), ('ienes', 1.2724609375), ('lete', 1.2109375), ('Flag', 1.19921875), ('рей', 1.1865234375)], [(' Channel', 1.287109375), ('Channel', 1.275390625), ('s', 1.2666015625), ('nox', 1.19921875), ('сей', 1.185546875)]]\n",
      "\n",
      "MoE Layer 17:\n",
      "Selected experts: [[22, 37, 44, 61, 24, 11], [55, 56, 60, 61, 58, 52], [58, 56, 9, 45, 5, 60], [9, 52, 58, 5, 42, 56], [52, 30, 18, 9, 46, 51], [0, 9, 45, 58, 52, 35], [52, 12, 46, 9, 55, 45], [17, 20, 32, 45, 9, 2], [5, 26, 17, 45, 61, 58], [49, 31, 5, 3, 61, 9], [1, 58, 60, 3, 16, 47], [29, 59, 25, 3, 31, 16], [27, 59, 15, 24, 35, 60], [55, 20, 52, 56, 59, 32], [45, 20, 17, 23, 14, 50], [5, 45, 29, 17, 16, 31], [19, 45, 59, 31, 3, 30], [11, 22, 3, 49, 59, 13], [3, 31, 45, 16, 29, 5], [22, 16, 19, 45, 31, 56], [45, 29, 1, 58, 56, 16], [27, 45, 1, 29, 25, 35]]\n",
      "Expert weights: [[0.3974609375, 0.03302001953125, 0.026519775390625, 0.022491455078125, 0.0224456787109375, 0.021759033203125], [0.0638427734375, 0.109375, 0.150390625, 0.093017578125, 0.05499267578125, 0.03564453125], [0.1949462890625, 0.05780029296875, 0.13037109375, 0.033111572265625, 0.12841796875, 0.0288848876953125], [0.1131591796875, 0.07818603515625, 0.165283203125, 0.0556640625, 0.0469970703125, 0.039154052734375], [0.250244140625, 0.038360595703125, 0.045440673828125, 0.078857421875, 0.0552978515625, 0.032623291015625], [0.112548828125, 0.08819580078125, 0.0692138671875, 0.308349609375, 0.037139892578125, 0.02496337890625], [0.2236328125, 0.098876953125, 0.0789794921875, 0.0660400390625, 0.063232421875, 0.033447265625], [0.173828125, 0.15673828125, 0.07379150390625, 0.036407470703125, 0.035430908203125, 0.0255584716796875], [0.197509765625, 0.10009765625, 0.07598876953125, 0.03326416015625, 0.032958984375, 0.0269317626953125], [0.06939697265625, 0.07208251953125, 0.0784912109375, 0.1751708984375, 0.0268707275390625, 0.0268402099609375], [0.0941162109375, 0.0673828125, 0.06494140625, 0.05841064453125, 0.05206298828125, 0.04180908203125], [0.035064697265625, 0.126708984375, 0.035888671875, 0.0484619140625, 0.033294677734375, 0.0318603515625], [0.25244140625, 0.054718017578125, 0.0472412109375, 0.03717041015625, 0.03515625, 0.03338623046875], [0.054962158203125, 0.035491943359375, 0.044769287109375, 0.153564453125, 0.053802490234375, 0.0248870849609375], [0.1475830078125, 0.058990478515625, 0.1822509765625, 0.04290771484375, 0.02972412109375, 0.0263824462890625], [0.166748046875, 0.1260986328125, 0.059844970703125, 0.05450439453125, 0.033447265625, 0.03253173828125], [0.083984375, 0.07818603515625, 0.06298828125, 0.04779052734375, 0.047607421875, 0.035888671875], [0.10357666015625, 0.04827880859375, 0.1524658203125, 0.037750244140625, 0.035675048828125, 0.033477783203125], [0.14208984375, 0.128662109375, 0.1180419921875, 0.11639404296875, 0.040283203125, 0.03533935546875], [0.326416015625, 0.113037109375, 0.0927734375, 0.045654296875, 0.0309600830078125, 0.02423095703125], [0.12481689453125, 0.0582275390625, 0.0548095703125, 0.052703857421875, 0.036651611328125, 0.03497314453125], [0.1580810546875, 0.1334228515625, 0.05926513671875, 0.058807373046875, 0.040496826171875, 0.03717041015625]]\n",
      "Combined output tokens: [[('idera', 2.474609375), ('}$~\\\\', 2.416015625), ('frak', 2.337890625), ('endres', 2.23828125), (' Fac', 2.197265625)], [('�', 1.5908203125), ('aza', 1.5673828125), ('ograms', 1.5), ('ogram', 1.4794921875), ('输了', 1.4521484375)], [('лан', 2.4765625), ('фт', 2.427734375), ('loop', 2.42578125), ('Meaning', 2.42578125), ('ugg', 2.35546875)], [('ph', 3.4296875), ('passage', 3.421875), (' passage', 3.3515625), ('raph', 3.1484375), ('段', 3.123046875)], [('pica', 2.59765625), ('onical', 2.578125), ('onomia', 2.458984375), (' ори', 2.41015625), ('inis', 2.248046875)], [('enser', 3.853515625), ('wered', 3.755859375), ('untu', 3.474609375), ('zul', 3.37890625), ('бой', 3.30078125)], [('нен', 2.115234375), ('efined', 1.919921875), ('nob', 1.912109375), ('ropies', 1.9091796875), ('inita', 1.900390625)], [('是非', 2.583984375), ('anar', 2.45703125), (' activ', 2.427734375), ('we', 2.33203125), ('�', 2.28125)], [('转分机', 2.9765625), (' Llibre', 2.818359375), ('��', 2.81640625), (' pacient', 2.765625), ('ExternalTask', 2.75)], [('kap', 2.0703125), ('�', 1.9541015625), ('晗', 1.931640625), ('frak', 1.9228515625), (' mast', 1.837890625)], [('tran', 1.345703125), ('jana', 1.2412109375), ('gene', 1.2265625), ('教', 1.1845703125), ('头上', 1.1640625)], [('site', 1.783203125), ('isser', 1.66796875), (' Mour', 1.5576171875), ('jet', 1.5361328125), (' centra', 1.509765625)], [('nai', 2.048828125), ('ANA', 1.9853515625), ('ARP', 1.9541015625), ('Ba', 1.8232421875), (' sinc', 1.775390625)], [('鹿', 1.36328125), ('盖', 1.361328125), ('asar', 1.349609375), ('ets', 1.2841796875), ('onada', 1.2763671875)], [('la', 3.3046875), ('otge', 3.138671875), ('utdown', 3.11328125), ('休', 3.0078125), ('alan', 2.94921875)], [(' rest', 3.458984375), ('rest', 3.45703125), (' Rest', 3.279296875), ('arbre', 3.17578125), ('回报', 3.150390625)], [('eph', 1.84765625), ('�', 1.7333984375), ('aml', 1.6650390625), (' Вир', 1.6455078125), ('Pom', 1.6025390625)], [('odynam', 1.576171875), ('ი�', 1.3857421875), ('GORY', 1.2861328125), ('rVert', 1.28515625), ('oiselle', 1.28515625)], [('nimes', 4.04296875), ('restant', 3.5625), ('毛', 3.4921875), ('still', 3.384765625), (' quadrature', 3.369140625)], [('still', 6.76953125), ('Still', 5.69921875), (' still', 5.6015625), ('aur', 5.37890625), (' Still', 5.1171875)], [('brack', 3.30078125), (' b', 3.0390625), ('份', 2.966796875), (' inv', 2.87890625), (' jo', 2.82421875)], [(' неза', 3.5390625), ('umes', 3.486328125), ('CodeAttribute', 3.3828125), ('nexi', 3.18359375), ('glx', 3.154296875)]]\n",
      "Expert predictions by position: {5: {0: [(' txqueuelen', 1.1962890625), (' manteniment', 1.1630859375), ('SLO', 1.125), ('pload', 1.0986328125), ('olars', 1.0791015625)], 9: [('COPY', 0.580078125), ('passage', 0.51806640625), ('paragraph', 0.50830078125), ('Para', 0.50341796875), ('一段', 0.50048828125)], 35: [('h', 0.2369384765625), ('gy', 0.2266845703125), (' these', 0.225830078125), ('these', 0.224365234375), ('Stack', 0.2196044921875)], 45: [('relief', 2.22265625), ('ала', 2.208984375), ('лайн', 2.197265625), ('ifications', 2.197265625), ('obten', 2.13671875)], 52: [('iera', 1.1396484375), ('aud', 1.0205078125), ('tron', 1.0146484375), ('uta', 0.99560546875), ('card', 0.994140625)], 58: [('idden', 0.309326171875), ('army', 0.29296875), ('istical', 0.2919921875), ('ORE', 0.271484375), ('Rate', 0.267578125)]}, 10: {1: [('Pacific', 0.34619140625), ('aca', 0.344970703125), ('рис', 0.3447265625), ('бар', 0.342041015625), ('骨', 0.33837890625)], 3: [('бани', 0.54638671875), (' Вардар', 0.53369140625), ('сур', 0.509765625), ('estir', 0.50634765625), ('iban', 0.501953125)], 16: [('still', 1.74609375), (' still', 1.7216796875), ('Still', 1.5654296875), (' Still', 1.505859375), (' yet', 1.4267578125)], 47: [('ocracy', 0.252685546875), ('elp', 0.2261962890625), (' tick', 0.2091064453125), ('�起', 0.2076416015625), ('fmf', 0.20556640625)], 58: [('rugu', 2.22265625), ('ledged', 2.095703125), ('nings', 2.080078125), (' prol', 2.05859375), ('piament', 2.041015625)], 60: [('olation', 0.3662109375), ('earch', 0.362548828125), ('hots', 0.35498046875), ('olate', 0.336669921875), ('uits', 0.313720703125)]}, 20: {1: [('裁', 0.44287109375), ('тинг', 0.438232421875), ('mars', 0.428466796875), (' perru', 0.419677734375), ('{-}\\\\', 0.412353515625)], 16: [('7', 0.294921875), ('还没有', 0.279052734375), ('8', 0.272705078125), (' remaining', 0.26025390625), (' yet', 0.253173828125)], 29: [('orphism', 0.6435546875), ('мък', 0.62451171875), (' descendent', 0.61376953125), ('��', 0.5927734375), ('eron', 0.58837890625)], 45: [('plus', 1.0751953125), ('�', 1.013671875), ('-', 0.9501953125), ('Principal', 0.94091796875), ('ulu', 0.935546875)], 56: [(' into', 0.267578125), ('Into', 0.2271728515625), (' Into', 0.2271728515625), ('into', 0.1976318359375), ('AMES', 0.196533203125)], 58: [('стви', 0.317138671875), ('most', 0.30615234375), ('endem', 0.2744140625), ('URE', 0.26806640625), ('动的', 0.256591796875)]}, 21: {1: [('udis', 0.53955078125), ('演', 0.427490234375), ('born', 0.426513671875), ('роден', 0.42236328125), ('ulus', 0.41796875)], 25: [('IntLiteral', 0.4169921875), ('fully', 0.40771484375), ('arpa', 0.40771484375), ('DUCT', 0.406982421875), ('ively', 0.40625)], 27: [('泳', 1.49609375), ('nai', 1.47265625), ('val', 1.4599609375), ('spa', 1.4169921875), ('ikes', 1.3935546875)], 29: [('�起', 0.35498046875), (',-.', 0.351806640625), ('initat', 0.346435546875), ('管', 0.341796875), ('jos', 0.338134765625)], 35: [('3', 0.4072265625), ('9', 0.39599609375), ('2', 0.38720703125), ('0', 0.380859375), ('5', 0.37255859375)], 45: [('piar', 3.458984375), (' div', 2.83984375), ('gars', 2.828125), (' plus', 2.796875), (' pitjor', 2.779296875)]}, 7: {2: [('rabs', 0.1082763671875), ('elements', 0.10675048828125), ('禧', 0.103759765625), (' Fac', 0.10302734375), (' element', 0.1025390625)], 9: [('riction', 0.79052734375), ('\\ttarget', 0.78564453125), ('土', 0.73779296875), (' natural', 0.7265625), ('ssa', 0.701171875)], 17: [(' cova', 0.4326171875), ('星驰', 0.40380859375), ('чева', 0.392578125), ('acte', 0.383056640625), (' преврат', 0.3828125)], 20: [('hol', 1.4970703125), ('after', 1.4912109375), ('urn', 1.4638671875), ('private', 1.4609375), ('    ', 1.4541015625)], 32: [('ricte', 0.6650390625), ('agona', 0.6103515625), ('��', 0.580078125), ('oneses', 0.55029296875), ('pula', 0.54296875)], 45: [(' serra', 3.330078125), ('лий', 3.07421875), (' Schwennicke', 2.908203125), ('дий', 2.818359375), ('[--]', 2.7109375)]}, 9: {3: [('бул', 0.405029296875), ('кла', 0.394775390625), (' however', 0.39404296875), ('STER', 0.377685546875), ('ndef', 0.36328125)], 5: [(' way', 0.83349609375), ('стани', 0.68798828125), ('oses', 0.66796875), ('arcy', 0.64013671875), ('WAY', 0.6396484375)], 9: [('sub', 1.9189453125), ('ugg', 1.8876953125), ('iest', 1.7958984375), (' site', 1.7900390625), ('�', 1.783203125)], 31: [('enta', 0.67236328125), ('anor', 0.6416015625), ('VAC', 0.638671875), ('ingu', 0.6376953125), ('nss', 0.634765625)], 49: [('tas', 0.350830078125), ('sgi', 0.33837890625), ('balena', 0.3359375), ('mgmt', 0.3330078125), ('meu', 0.320068359375)], 61: [('UIS', 0.09857177734375), ('{\\\\,\\\\', 0.09759521484375), ('gre', 0.09039306640625), (' prof', 0.09014892578125), ('poons', 0.08355712890625)]}, 11: {3: [('awan', 1.6552734375), ('новка', 1.6474609375), ('atedr', 1.587890625), ('朋友', 1.50390625), (' Георгиев', 1.4638671875)], 16: [(' yet', 3.208984375), (' still', 3.123046875), ('still', 2.978515625), ('Still', 2.935546875), (' Still', 2.59375)], 25: [('国务', 0.36669921875), ('тна', 0.363037109375), ('arpa', 0.349365234375), ('ulated', 0.332275390625), ('NonUser', 0.31591796875)], 29: [(' us', 0.339599609375), ('нг', 0.314208984375), ('ixir', 0.303466796875), ('|.', 0.301513671875), ('pled', 0.300048828125)], 31: [('原文地址', 0.2005615234375), (' ball', 0.1912841796875), ('华尔', 0.190673828125), ('Lng', 0.190673828125), ('itate', 0.1881103515625)], 59: [('щем', 0.316650390625), (' Operation', 0.291259765625), ('cles', 0.291015625), ('erate', 0.2880859375), ('зъм', 0.286376953125)]}, 16: {3: [('ib', 0.267333984375), ('if', 0.2484130859375), ('тера', 0.2459716796875), (' Llobregat', 0.2362060546875), ('ist', 0.235595703125)], 19: [('ari', 0.8701171875), (' fons', 0.83203125), ('ver', 0.75927734375), ('末', 0.744140625), ('least', 0.7109375)], 30: [('bigarray', 0.21826171875), ('TOOLSET', 0.210693359375), ('usercontent', 0.2073974609375), (' adre', 0.2001953125), ('journ', 0.1983642578125)], 31: [('ki', 0.172607421875), ('aquest', 0.1707763671875), ('av', 0.1676025390625), ('za', 0.1669921875), ('fri', 0.15576171875)], 45: [('fes', 0.2308349609375), (' paleta', 0.2095947265625), (' Conca', 0.203369140625), (' corrent', 0.2025146484375), ('бите', 0.2020263671875)], 59: [('omes', 0.22021484375), ('restant', 0.19970703125), (' Isenburg', 0.196533203125), (' изи', 0.19384765625), ('ablement', 0.1937255859375)]}, 17: {3: [('局局长', 0.8291015625), ('enstein', 0.82373046875), ('cul', 0.81494140625), ('翼翼', 0.8134765625), (' whist', 0.8095703125)], 11: [('opian', 0.44140625), (' Di', 0.424560546875), ('agation', 0.4052734375), ('hene', 0.39697265625), (' itself', 0.391845703125)], 13: [('queria', 0.193115234375), ('линден', 0.1864013671875), ('intage', 0.180908203125), ('ележки', 0.1741943359375), ('wig', 0.1741943359375)], 22: [('ი�', 0.3408203125), ('oints', 0.3193359375), ('etime', 0.300048828125), ('ile', 0.297607421875), ('ime', 0.296875)], 49: [('echa', 0.111083984375), ('сли', 0.10992431640625), (' /', 0.10650634765625), ('anj', 0.10528564453125), ('ITES', 0.1051025390625)], 59: [('podes', 0.1943359375), ('CharacterOffset', 0.181396484375), ('lices', 0.1651611328125), ('ynom', 0.161865234375), ('ulars', 0.1617431640625)]}, 18: {3: [('TOOLSET', 1.67578125), ('��', 1.5205078125), ('ieras', 1.5009765625), ('distan', 1.486328125), ('culo', 1.48046875)], 5: [(' пореди', 1.0458984375), ('ото', 0.91748046875), ('oldre', 0.88330078125), ('unknownFields', 0.85791015625), ('itari', 0.8359375)], 16: [(' yet', 0.7177734375), (' lie', 0.5830078125), ('стра', 0.56787109375), ('尚未', 0.5625), ('远的', 0.560546875)], 29: [('вид', 0.61376953125), ('vetica', 0.59912109375), ('acta', 0.59814453125), ('=\"#!\"', 0.56396484375), ('}})', 0.5537109375)], 31: [(' cu', 0.14794921875), ('vt', 0.1453857421875), (' who', 0.1429443359375), ('тай', 0.1424560546875), (' that', 0.142333984375)], 45: [('e', 0.7578125), ('�', 0.69921875), (' Dels', 0.69580078125), ('chin', 0.6953125), ('ata', 0.6953125)]}, 2: {5: [('ствител', 0.2607421875), ('太平洋', 0.255126953125), ('show', 0.25390625), ('�', 0.2469482421875), (' show', 0.2364501953125)], 9: [(' ори', 1.59375), (' ду', 1.556640625), ('ambic', 1.40625), ('ation', 1.35546875), ('prise', 1.3134765625)], 45: [('�', 0.251220703125), ('adar', 0.2099609375), ('fes', 0.20458984375), ('雀', 0.199951171875), ('orce', 0.1993408203125)], 56: [('�', 0.26025390625), ('ug', 0.254638671875), ('assic', 0.25390625), ('ead', 0.246337890625), ('ear', 0.240966796875)], 58: [('pmd', 0.955078125), ('вора', 0.9208984375), ('Sdk', 0.8974609375), ('ltima', 0.87744140625), (\"'}(\", 0.86376953125)], 60: [('комо', 0.64599609375), ('yourself', 0.642578125), ('�', 0.6376953125), ('怨', 0.62158203125), (' Empire', 0.60498046875)]}, 3: {5: [('itiva', 0.4091796875), ('йт', 0.40576171875), ('erent', 0.37548828125), ('ivil', 0.352783203125), ('ashian', 0.349365234375)], 9: [('ph', 2.8828125), ('passage', 2.681640625), ('段', 2.669921875), ('一段', 2.591796875), (' Registers', 2.533203125)], 42: [(' number', 0.38671875), ('number', 0.319580078125), (' Number', 0.299072265625), (' amount', 0.280029296875), (' NUMBER', 0.2496337890625)], 52: [('reck', 0.194580078125), ('口', 0.171630859375), ('�', 0.1658935546875), ('瞬', 0.163330078125), ('3', 0.159912109375)], 56: [('Лю', 0.46923828125), ('lant', 0.4423828125), ('AA', 0.44189453125), ('LAIN', 0.431640625), ('хема', 0.42724609375)], 58: [('ledged', 0.22607421875), ('adores', 0.22265625), ('hers', 0.2115478515625), ('her', 0.2098388671875), ('�', 0.1988525390625)]}, 8: {5: [(' rest', 2.69140625), (' Rest', 2.390625), ('Rest', 2.322265625), ('rest', 2.267578125), (' REST', 1.673828125)], 17: [(' подходя', 1.6533203125), ('ад', 1.572265625), ('acte', 1.556640625), ('火山', 1.5478515625), ('acom', 1.494140625)], 26: [('A', 0.5751953125), ('6', 0.56005859375), ('9', 0.55517578125), ('2', 0.53515625), ('7', 0.5302734375)], 45: [('евру', 0.27294921875), (' touch', 0.267578125), ('contre', 0.2607421875), (' accompl', 0.252197265625), ('irez', 0.251953125)], 58: [('ORM', 1.07421875), ('qed', 1.001953125), ('ference', 0.990234375), ('etting', 0.98388671875), ('rome', 0.95751953125)], 61: [('8', 0.53515625), ('9', 0.50439453125), ('��', 0.49462890625), ('7', 0.4931640625), ('6', 0.4931640625)]}, 15: {5: [('转分机', 2.75390625), ('arcelon', 2.626953125), ('IMIT', 2.46875), ('��', 2.2890625), ('resar', 2.181640625)], 16: [(' yet', 0.484375), ('还没有', 0.471435546875), (' ad', 0.451904296875), ('还没', 0.442626953125), ('Still', 0.4228515625)], 17: [('we', 1.8837890625), (' my', 1.818359375), ('是非', 1.7705078125), (' ball', 1.6884765625), ('she', 1.6533203125)], 29: [(' Dawn', 0.4375), ('хия', 0.4013671875), (' upcoming', 0.395751953125), ('yx', 0.393310546875), ('ри', 0.3837890625)], 31: [('后者', 0.318115234375), ('dying', 0.304443359375), ('roth', 0.29443359375), (' basc', 0.293212890625), (' integraven', 0.293212890625)], 45: [('скография', 3.080078125), ('ievals', 2.98046875), ('ableView', 2.96484375), ('bottomNav', 2.81640625), ('utdown', 2.765625)]}, 4: {9: [(' апа', 0.1524658203125), ('азар', 0.1461181640625), (' Cah', 0.1402587890625), ('器材', 0.1378173828125), ('IRC', 0.1365966796875)], 18: [('forms', 0.384521484375), ('Cci', 0.365966796875), (' forms', 0.328857421875), ('mgmt', 0.3212890625), ('nida', 0.314208984375)], 30: [('ures', 0.7109375), ('ured', 0.58349609375), ('ual', 0.55859375), ('точни', 0.5576171875), ('ronic', 0.5498046875)], 46: [('fted', 0.455322265625), ('IFIER', 0.4521484375), ('pula', 0.450439453125), ('�', 0.447509765625), ('apare', 0.447509765625)], 51: [(' off', 0.1873779296875), (' paret', 0.18310546875), ('wil', 0.172607421875), (' anomenats', 0.162109375), ('QUAL', 0.1571044921875)], 52: [('чният', 1.4384765625), (\"'::\", 1.4140625), ('emplar', 1.4033203125), ('候', 1.3623046875), ('ideo', 1.359375)]}, 6: {9: [('Eng', 1.634765625), ('target', 1.5048828125), ('\\ttarget', 1.4619140625), ('жно', 1.443359375), ('En', 1.4306640625)], 12: [('линден', 0.98828125), ('евру', 0.97412109375), ('eqno', 0.90380859375), ('aresme', 0.826171875), ('sies', 0.81591796875)], 45: [('什么', 2.46875), (' Методий', 2.29296875), (' lis', 2.23046875), ('usement', 2.2265625), ('份', 2.212890625)], 46: [('bat', 0.6015625), ('lemm', 0.5869140625), ('sim', 0.5498046875), ('direction', 0.54443359375), ('Word', 0.5419921875)], 52: [('ides', 0.203369140625), (' обща', 0.189697265625), ('сла', 0.1832275390625), ('tov', 0.171875), ('pus', 0.1649169921875)], 55: [('领', 0.5302734375), ('definition', 0.50439453125), (' кому', 0.443359375), ('крати', 0.4345703125), ('ouville', 0.426025390625)]}, 0: {11: [('rids', 0.037017822265625), ('DL', 0.0369873046875), (' st', 0.0341796875), (' гори', 0.033660888671875), ('�', 0.032684326171875)], 22: [('idera', 2.19140625), ('Complexity', 1.9228515625), (' Fac', 1.8466796875), ('endres', 1.8369140625), (' Mand', 1.77734375)], 24: [('гот', 0.156982421875), ('lam', 0.146484375), ('龙', 0.13330078125), ('uA', 0.1278076171875), (' <!--<', 0.1268310546875)], 37: [('oley', 0.050323486328125), ('7', 0.04742431640625), ('r', 0.04583740234375), ('1', 0.043182373046875), (' r', 0.039947509765625)], 44: [('бий', 0.024932861328125), ('onese', 0.0244140625), ('异', 0.0244140625), ('Wonder', 0.0233917236328125), ('nesi', 0.0230865478515625)], 61: [('�起', 0.0249176025390625), (' properties', 0.0225982666015625), (' property', 0.0213775634765625), (' View', 0.0208282470703125), (' secrets', 0.020416259765625)]}, 14: {14: [('还有', 0.345703125), ('离', 0.29052734375), ('还有很多', 0.28564453125), ('还将', 0.263427734375), ('还有人', 0.26318359375)], 17: [('raged', 0.6162109375), ('ientes', 0.5908203125), ('etooth', 0.5654296875), ('iboot', 0.53662109375), ('inez', 0.53662109375)], 20: [('iments', 0.2437744140625), ('ingut', 0.2091064453125), ('iage', 0.20703125), ('orat', 0.202392578125), ('Habitants', 0.1978759765625)], 23: [(' in', 0.228515625), ('状', 0.2161865234375), ('ict', 0.205078125), ('дал', 0.203125), (' Thee', 0.2000732421875)], 45: [(' relle', 0.3154296875), ('exion', 0.273681640625), ('тини', 0.244140625), ('евру', 0.239013671875), (' passen', 0.2371826171875)], 50: [('assert', 0.1551513671875), ('iling', 0.1519775390625), ('重', 0.1373291015625), ('break', 0.136474609375), ('ty', 0.134033203125)]}, 12: {15: [('ddots', 0.1644287109375), ('udis', 0.1593017578125), (' arms', 0.1572265625), ('iscopal', 0.15576171875), ('Aix', 0.1556396484375)], 24: [('део', 0.0282440185546875), ('arcity', 0.0269622802734375), ('英', 0.0262603759765625), ('emporary', 0.0255126953125), (' REF', 0.025146484375)], 27: [('服', 0.92431640625), ('CodeAttribute', 0.79296875), ('提', 0.75927734375), ('тани', 0.74365234375), ('вали', 0.7392578125)], 35: [('htdocs', 0.1436767578125), (' Pel', 0.128662109375), ('orials', 0.12286376953125), ('Pel', 0.12060546875), ('avian', 0.12017822265625)], 59: [(' Feliu', 0.419921875), ('къс', 0.366943359375), ('стия', 0.3505859375), (' regnat', 0.34033203125), ('ა', 0.3369140625)], 60: [('保时', 0.162353515625), ('associ', 0.13232421875), ('�起', 0.1260986328125), ('кер', 0.1253662109375), ('ther', 0.12420654296875)]}, 19: {16: [('still', 4.44921875), (' still', 4.25390625), ('Still', 3.89453125), (' Still', 3.607421875), (' yet', 3.267578125)], 19: [('ксо', 0.96044921875), ('ontology', 0.92724609375), ('etooth', 0.89794921875), ('tode', 0.84716796875), ('$-$', 0.8427734375)], 22: [('aur', 5.40625), ('itution', 4.6953125), ('raint', 4.51171875), ('itutions', 4.21484375), ('orer', 4.09765625)], 31: [('cast', 0.1927490234375), ('动', 0.189208984375), ('angera', 0.186767578125), (' cast', 0.1837158203125), ('olution', 0.1837158203125)], 45: [('Eng', 1.0068359375), (' анг', 0.9580078125), ('fter', 0.9443359375), (' ang', 0.9365234375), ('ENG', 0.93505859375)], 56: [('offs', 0.1865234375), ('дър', 0.1824951171875), ('ip', 0.168701171875), ('down', 0.160400390625), ('ead', 0.1588134765625)]}, 13: {20: [('��', 0.404052734375), ('轨', 0.357177734375), ('�乐', 0.3408203125), ('яко', 0.33349609375), ('гре', 0.331298828125)], 32: [('fera', 0.07501220703125), ('arious', 0.0743408203125), ('бани', 0.07061767578125), ('ceq', 0.0694580078125), ('ificis', 0.068115234375)], 52: [('蛮', 0.46630859375), ('lorn', 0.451416015625), ('SourceFile', 0.44287109375), ('rou', 0.431884765625), (' нас', 0.4306640625)], 55: [('2', 0.53076171875), ('0', 0.515625), ('1', 0.51220703125), ('3', 0.494873046875), ('4', 0.4755859375)], 56: [('istemes', 0.92236328125), ('manys', 0.8994140625), ('ultor', 0.875), ('terday', 0.82177734375), ('mmode', 0.78955078125)], 59: [('9', 0.83251953125), ('нове', 0.73486328125), ('iler', 0.71484375), ('MOD', 0.6923828125), ('近', 0.69091796875)]}, 1: {52: [('ours', 0.123046875), ('SOR', 0.1209716796875), ('施', 0.12066650390625), ('utes', 0.11676025390625), ('鼻子', 0.11627197265625)], 55: [('固', 0.51953125), ('iret', 0.5029296875), ('�', 0.485595703125), ('资', 0.475830078125), ('笔', 0.4697265625)], 56: [('backs', 1.076171875), ('back', 1.0087890625), (' back', 0.876953125), ('踢', 0.86865234375), (' обратно', 0.85888671875)], 58: [(' figure', 0.1728515625), ('figure', 0.1458740234375), (' Figures', 0.142578125), (' figura', 0.1385498046875), (' figures', 0.13720703125)], 60: [('зите', 0.1605224609375), ('reta', 0.157958984375), ('uri', 0.15625), ('prop', 0.1492919921875), ('之为', 0.1429443359375)], 61: [('цяло', 0.214599609375), ('boxt', 0.181640625), ('frica', 0.1793212890625), ('arent', 0.1751708984375), ('↳', 0.1715087890625)]}}\n",
      "Shared expert predictions: [[('}$~\\\\', 0.669921875), ('frak', 0.65185546875), ('dens', 0.634765625), ('直言', 0.6064453125), ('poke', 0.6064453125)], [('inam', 0.9892578125), ('vig', 0.97998046875), ('杰', 0.9697265625), ('小心', 0.953125), ('杰出', 0.93017578125)], [('ange', 1.0009765625), ('inam', 0.95849609375), (' pacient', 0.935546875), ('nal', 0.92822265625), ('CI', 0.89892578125)], [('^-(', 1.18359375), ('终极', 1.146484375), ('妨碍', 1.14453125), ('忠', 1.138671875), (' fara', 1.1162109375)], [('arme', 1.1982421875), ('吸取', 1.1650390625), ('亢', 1.111328125), ('semb', 1.052734375), ('一直被', 1.0498046875)], [('耽', 1.3466796875), (' afr', 1.3076171875), ('AIPS', 1.302734375), ('semb', 1.234375), ('��', 1.2119140625)], [('se', 1.1005859375), ('-,', 1.068359375), (' beh', 1.046875), ('seg', 1.0244140625), ('semb', 1.0166015625)], [('GV', 1.306640625), ('黯', 1.1982421875), ('Tokenizer', 1.1962890625), ('建立起', 1.1142578125), ('喧', 1.1064453125)], [('默默', 1.501953125), ('SPHIN', 1.470703125), ('钰', 1.4287109375), ('晖', 1.322265625), ('晗', 1.2568359375)], [('吸取', 1.326171875), (' ().', 1.0966796875), ('�', 1.0791015625), ('se', 1.0751953125), ('默默', 1.0537109375)], [('gene', 1.015625), ('CodeAttribute', 0.990234375), (':*.', 0.89013671875), ('issi', 0.89013671875), ('ajar', 0.86669921875)], [('фо', 1.248046875), (' (^', 1.2314453125), (' presently', 1.220703125), (' centra', 1.2080078125), (' ().', 1.1875)], [(' centra', 1.23046875), ('Населе', 1.208984375), ('耽', 1.1650390625), (' скоро', 1.154296875), ('alc', 1.1484375)], [('acis', 1.013671875), (\"}'\\\\\", 0.99609375), ('osted', 0.986328125), ('asar', 0.98095703125), ('getSelected', 0.9755859375)], [(' n', 0.99658203125), ('se', 0.96826171875), (' ba', 0.96435546875), ('emp', 0.93505859375), ('在建', 0.93115234375)], [('se', 1.2724609375), (' discontinu', 1.173828125), ('armed', 1.1435546875), ('�', 1.126953125), (' sole', 1.0947265625)], [(' Word', 1.1494140625), ('护', 1.1337890625), ('armed', 1.0771484375), ('вобо', 1.0498046875), ('Blo', 1.048828125)], [('呈', 1.021484375), ('摄', 0.92626953125), (' Bak', 0.86865234375), ('se', 0.8603515625), ('anomenada', 0.85986328125)], [('�起', 1.328125), ('se', 1.1904296875), ('odings', 1.1083984375), ('ursal', 1.107421875), ('�', 1.103515625)], [('вел', 1.1630859375), ('斯拉', 1.14453125), ('ICAL', 1.1171875), ('�', 1.0869140625), ('вобо', 1.068359375)], [('�起', 1.4521484375), (' Вал', 1.2294921875), ('ane', 1.216796875), ('ulta', 1.208984375), ('lig', 1.1953125)], [('� ', 1.48828125), ('sona', 1.4228515625), ('ITLE', 1.353515625), ('зву', 1.3388671875), ('在家', 1.3193359375)]]\n",
      "\n",
      "MoE Layer 18:\n",
      "Selected experts: [[47, 50, 2, 44, 61, 15], [12, 58, 17, 7, 62, 23], [63, 12, 42, 29, 7, 10], [63, 12, 20, 29, 7, 22], [28, 22, 54, 20, 62, 24], [51, 26, 56, 33, 12, 62], [24, 16, 17, 28, 20, 26], [14, 62, 38, 7, 2, 8], [42, 43, 7, 63, 23, 36], [29, 43, 13, 7, 36, 63], [11, 45, 13, 43, 33, 23], [25, 43, 45, 41, 11, 32], [41, 35, 51, 25, 43, 1], [20, 43, 62, 25, 24, 36], [14, 23, 38, 45, 62, 49], [29, 23, 42, 63, 18, 10], [18, 1, 47, 59, 6, 29], [18, 2, 46, 41, 29, 47], [29, 31, 23, 43, 41, 11], [47, 37, 9, 22, 18, 54], [33, 22, 45, 20, 11, 53], [51, 41, 0, 53, 11, 33]]\n",
      "Expert weights: [[0.0343017578125, 0.041046142578125, 0.408203125, 0.03338623046875, 0.0281829833984375, 0.02398681640625], [0.61376953125, 0.053497314453125, 0.0207977294921875, 0.02978515625, 0.0183563232421875, 0.0134429931640625], [0.07501220703125, 0.1068115234375, 0.2327880859375, 0.03607177734375, 0.04962158203125, 0.03515625], [0.08709716796875, 0.06427001953125, 0.046356201171875, 0.10028076171875, 0.0416259765625, 0.040130615234375], [0.11669921875, 0.10687255859375, 0.0894775390625, 0.063232421875, 0.055206298828125, 0.053466796875], [0.1119384765625, 0.1588134765625, 0.2342529296875, 0.03363037109375, 0.0283660888671875, 0.02386474609375], [0.064697265625, 0.046051025390625, 0.044281005859375, 0.035858154296875, 0.034271240234375, 0.033233642578125], [0.171142578125, 0.106689453125, 0.10260009765625, 0.050506591796875, 0.04022216796875, 0.03363037109375], [0.2342529296875, 0.1053466796875, 0.0643310546875, 0.054931640625, 0.035797119140625, 0.0268402099609375], [0.2646484375, 0.1807861328125, 0.0985107421875, 0.0570068359375, 0.0269775390625, 0.024627685546875], [0.05987548828125, 0.263671875, 0.05963134765625, 0.058319091796875, 0.05023193359375, 0.03955078125], [0.044586181640625, 0.0567626953125, 0.07421875, 0.0816650390625, 0.1376953125, 0.038604736328125], [0.37646484375, 0.115234375, 0.091552734375, 0.032196044921875, 0.0237579345703125, 0.0211944580078125], [0.048004150390625, 0.06793212890625, 0.048858642578125, 0.0692138671875, 0.045318603515625, 0.040313720703125], [0.15966796875, 0.115966796875, 0.06939697265625, 0.046112060546875, 0.037750244140625, 0.031524658203125], [0.05517578125, 0.0626220703125, 0.184814453125, 0.05279541015625, 0.04974365234375, 0.042205810546875], [0.48486328125, 0.028900146484375, 0.0200347900390625, 0.0185089111328125, 0.0178985595703125, 0.0176544189453125], [0.1448974609375, 0.0982666015625, 0.05419921875, 0.05242919921875, 0.0521240234375, 0.04742431640625], [0.203369140625, 0.1204833984375, 0.05718994140625, 0.047607421875, 0.035614013671875, 0.0295867919921875], [0.03460693359375, 0.0305328369140625, 0.04888916015625, 0.05194091796875, 0.1859130859375, 0.0298919677734375], [0.0443115234375, 0.12249755859375, 0.1070556640625, 0.047119140625, 0.129150390625, 0.04217529296875], [0.31396484375, 0.0926513671875, 0.070068359375, 0.06304931640625, 0.055755615234375, 0.055633544921875]]\n",
      "Combined output tokens: [[('жени', 0.8916015625), (' org', 0.80908203125), (' min', 0.78271484375), (' Pro', 0.7431640625), (']^-', 0.72021484375)], [('ionista', 4.4765625), ('ibly', 3.705078125), ('3', 3.68359375), (' //-->', 3.65234375), ('行长', 3.568359375)], [(' nacionalista', 2.00390625), ('resar', 1.896484375), (' modernista', 1.869140625), (' following', 1.8408203125), ('chnologies', 1.8212890625)], [(' adv', 1.5634765625), ('MSS', 1.5185546875), ('NonUser', 1.5126953125), ('ец', 1.45703125), ('icacy', 1.44921875)], [(' ', 1.8740234375), (' C', 1.8466796875), ('5', 1.7880859375), (' blocs', 1.775390625), (' V', 1.771484375)], [('繁', 3.201171875), ('erts', 2.96484375), ('airs', 2.8125), ('繁殖', 2.791015625), ('idium', 2.75390625)], [('lif', 1.333984375), (' cris', 1.310546875), (' resp', 1.2646484375), ('axe', 1.2109375), ('abans', 1.1181640625)], [(' дело', 2.486328125), (' feu', 2.33203125), (' restants', 2.3203125), ('离', 2.283203125), ('洛', 2.27734375)], [(' modernista', 2.39453125), ('mes', 2.12109375), ('ARK', 2.087890625), ('рав', 2.0625), ('MES', 1.95703125)], [('新浪看点', 2.86328125), ('Premi', 2.732421875), ('tac', 2.662109375), ('ILON', 2.64453125), ('IEW', 2.62109375)], [(' yet', 5.609375), ('yet', 5.44921875), ('Yet', 4.29296875), (' Yet', 4.109375), ('тие', 2.892578125)], [(' to', 3.962890625), ('\\tto', 3.7578125), ('toBe', 3.029296875), ('\\tTo', 3.02734375), ('iconductors', 2.986328125)], [('lash', 2.55078125), ('靖', 2.41015625), ('ipel', 2.380859375), ('arum', 2.36328125), ('вети', 2.3515625)], [('raphics', 1.431640625), ('edom', 1.39453125), ('逾期', 1.3642578125), ('��', 1.322265625), ('emark', 1.296875)], [(' поме', 2.326171875), ('aderia', 2.244140625), ('ISM', 2.236328125), ('ueba', 2.19140625), ('��', 2.15234375)], [('=\"../../', 2.078125), ('�', 2.04296875), ('res', 1.939453125), ('Mol', 1.8818359375), ('्', 1.8662109375)], [('ille', 7.9609375), ('illon', 6.9921875), ('uble', 6.6484375), ('illo', 6.51171875), ('ugal', 6.45703125)], [('��', 2.0703125), ('Съби', 2.05078125), ('irons', 2.03515625), ('lec', 1.857421875), ('orials', 1.7744140625)], [('uters', 2.53125), ('бий', 2.4921875), ('membres', 2.40625), ('alera', 2.322265625), ('IANT', 2.30078125)], [('apter', 2.111328125), (' roda', 2.09375), ('Diagn', 2.03125), ('igy', 1.935546875), ('angera', 1.927734375)], [('ROUP', 2.82421875), ('рт', 2.630859375), ('ActivityThread', 2.529296875), ('妈妈的', 2.44921875), (' Baptista', 2.44140625)], [('ggreg', 4.4921875), ('питаници', 4.44140625), (' repartia', 4.29296875), (' Borgonya', 4.2421875), ('стви', 4.078125)]]\n",
      "Expert predictions by position: {21: {0: [('polis', 0.521484375), ('agua', 0.51220703125), ('kl', 0.4990234375), (' return', 0.49169921875), ('�', 0.48876953125)], 11: [('ROUP', 0.260009765625), ('тио', 0.2486572265625), ('bered', 0.24462890625), ('rias', 0.244384765625), ('特尔', 0.2322998046875)], 33: [('iflower', 0.322265625), ('Transc', 0.3017578125), (' Гон', 0.29150390625), (' TORT', 0.2890625), ('ел', 0.28759765625)], 41: [('�', 0.16259765625), ('evo', 0.1485595703125), ('quar', 0.1414794921875), ('oys', 0.14111328125), ('孤', 0.14111328125)], 51: [('chini', 1.09375), ('ercus', 0.96728515625), ('icolon', 0.95703125), ('iclop', 0.94580078125), ('лети', 0.892578125)], 53: [('机的', 0.362548828125), ('NonUser', 0.350341796875), ('texorpdfstring', 0.33837890625), ('cook', 0.33154296875), ('stum', 0.322998046875)]}, 12: {1: [('商', 0.1309814453125), ('ту', 0.12384033203125), ('押', 0.12322998046875), ('ilde', 0.123046875), ('望', 0.11962890625)], 25: [('言', 0.1534423828125), ('官', 0.148193359375), ('ране', 0.1463623046875), ('aise', 0.1370849609375), ('riet', 0.13623046875)], 35: [('碌', 0.830078125), ('zza', 0.81298828125), (' gen', 0.79052734375), (' възра', 0.7724609375), (' yet', 0.75048828125)], 41: [(' Rising', 0.1986083984375), ('eph', 0.193359375), (' interrup', 0.1925048828125), ('ocol', 0.1922607421875), ('中所', 0.1920166015625)], 43: [('当', 0.317626953125), ('ovy', 0.298828125), (' [', 0.293701171875), ('frid', 0.285888671875), ('父母的', 0.283935546875)], 51: [('pless', 1.11328125), ('ogle', 0.9931640625), ('EndOf', 0.9814453125), ('视镜', 0.96044921875), (' top', 0.88330078125)]}, 16: {1: [('тено', 0.0968017578125), (' твър', 0.08172607421875), ('вежда', 0.08154296875), ('lemn', 0.08038330078125), ('тег', 0.080322265625)], 6: [('se', 0.08892822265625), ('away', 0.0867919921875), ('init', 0.08392333984375), ('ar', 0.0831298828125), ('aways', 0.08123779296875)], 18: [(' prou', 1.603515625), ('作用的', 1.5888671875), (' arran', 1.541015625), (' p', 1.5234375), ('从业', 1.5166015625)], 29: [('新浪看点', 2.388671875), ('intage', 2.287109375), (' part', 2.267578125), ('WAYS', 2.20703125), ('ergi', 2.115234375)], 47: [('бет', 0.2188720703125), ('paramtype', 0.210205078125), (' detalls', 0.1939697265625), ('atalog', 0.19091796875), ('SETT', 0.1876220703125)], 59: [('9', 0.080810546875), ('8', 0.07452392578125), ('2', 0.0711669921875), ('6', 0.07073974609375), ('万里', 0.06890869140625)]}, 0: {2: [('udad', 0.13525390625), ('рите', 0.11883544921875), ('DITION', 0.10943603515625), ('лини', 0.10784912109375), ('ntiques', 0.1055908203125)], 15: [('逻', 0.039398193359375), ('сен', 0.0389404296875), ('党组', 0.038299560546875), ('uelto', 0.037384033203125), ('сели', 0.035430908203125)], 44: [('etry', 0.08197021484375), ('�', 0.081787109375), ('良', 0.076171875), (' major', 0.07159423828125), ('�', 0.06854248046875)], 47: [('endor', 0.054718017578125), ('вни', 0.0535888671875), ('roph', 0.052978515625), ('�起', 0.052947998046875), ('стието', 0.050933837890625)], 50: [('g', 0.05364990234375), (' mini', 0.048919677734375), ('сберг', 0.048553466796875), (' M', 0.047088623046875), ('攻', 0.045501708984375)], 61: [('2', 0.040069580078125), ('3', 0.039886474609375), ('1', 0.03973388671875), ('4', 0.03948974609375), ('6', 0.03863525390625)]}, 7: {2: [(' Ban', 0.2484130859375), (' n', 0.2421875), ('笛', 0.226318359375), (' Pop', 0.2220458984375), ('стани', 0.218017578125)], 7: [('omon', 0.277099609375), ('alada', 0.2293701171875), ('EOF', 0.229248046875), ('proposition', 0.22509765625), ('项目建设', 0.224609375)], 8: [('愈', 0.183349609375), ('越', 0.1688232421875), ('ler', 0.15283203125), ('越是', 0.136962890625), ('ъг', 0.1368408203125)], 14: [('ismes', 2.12109375), ('Hi', 1.892578125), ('BODY', 1.7802734375), ('搭', 1.7353515625), (' feu', 1.7080078125)], 38: [(' according', 0.6904296875), ('according', 0.6279296875), (' now', 0.54931640625), ('agna', 0.486083984375), ('now', 0.4794921875)], 62: [('__.', 0.22998046875), ('|,', 0.1771240234375), (' _\\\\', 0.1697998046875), (';|', 0.1689453125), ('_.', 0.16845703125)]}, 17: {2: [('сква', 0.3720703125), ('andre', 0.358642578125), (' spots', 0.330078125), ('.}~\\\\', 0.328369140625), ('aut', 0.326416015625)], 18: [('相', 1.6689453125), ('ixement', 1.66796875), ('cer', 1.6240234375), ('lec', 1.599609375), ('Artistes', 1.59765625)], 29: [('ifmmode', 0.81640625), ('fmf', 0.806640625), ('emano', 0.7822265625), ('thood', 0.75244140625), ('��', 0.751953125)], 41: [('ntz', 0.513671875), ('iclismo', 0.4521484375), ('ApplicationContext', 0.441162109375), ('洛', 0.424560546875), ('ECD', 0.421875)], 46: [('1', 0.3125), ('0', 0.2607421875), ('2', 0.259521484375), ('3', 0.25439453125), ('-', 0.25146484375)], 47: [('рино', 0.419921875), ('9', 0.369140625), ('ално', 0.34814453125), ('рие', 0.334228515625), ('6', 0.298095703125)]}, 1: {7: [('ules', 0.4033203125), ('lular', 0.385009765625), ('ляне', 0.364990234375), ('�', 0.36474609375), ('лира', 0.34033203125)], 12: [('ionista', 4.60546875), ('��', 4.12109375), ('3', 3.8984375), ('7', 3.83203125), ('9', 3.6796875)], 17: [('lie', 0.087158203125), (' trifle', 0.08489990234375), ('�', 0.08416748046875), ('lyph', 0.08355712890625), ('hemer', 0.08258056640625)], 23: [('ed', 0.65625), ('front', 0.6396484375), ('syn', 0.5654296875), ('现代化', 0.556640625), ('imn', 0.55322265625)], 58: [('init', 0.26904296875), ('Init', 0.25146484375), ('еро', 0.242919921875), ('хт', 0.2274169921875), ('stranger', 0.224853515625)], 62: [('\\xa0mil', 0.10284423828125), ('\\u3000', 0.09967041015625), ('\\xa0v', 0.0968017578125), ('**', 0.09417724609375), ('\\xa0', 0.09375)]}, 2: {7: [('9', 0.27099609375), ('1', 0.260498046875), ('8', 0.252685546875), ('6', 0.2388916015625), ('7', 0.2366943359375)], 10: [('sky', 0.1591796875), ('street', 0.1527099609375), ('Street', 0.1514892578125), (' street', 0.1455078125), ('onds', 0.1407470703125)], 12: [('9', 0.662109375), ('2', 0.59716796875), ('0', 0.58349609375), ('4', 0.57421875), ('8', 0.57177734375)], 29: [('ateix', 1.87890625), ('лет', 1.7353515625), ('截图', 1.7216796875), ('iage', 1.6826171875), (' Ones', 1.66796875)], 42: [('Ebre', 1.806640625), ('oldre', 1.697265625), ('chnologies', 1.662109375), ('balena', 1.6240234375), (' power', 1.4853515625)], 63: [('quam', 0.3427734375), ('MLS', 0.3193359375), (' трети', 0.309814453125), ('个人', 0.296875), (' passing', 0.294189453125)]}, 3: {7: [('ars', 0.12109375), (' Passage', 0.11981201171875), ('ьори', 0.11895751953125), ('�', 0.115478515625), ('slope', 0.11407470703125)], 12: [('черта', 0.6796875), (' Wilkins', 0.60546875), ('ko', 0.59521484375), ('зите', 0.56591796875), ('rids', 0.55419921875)], 20: [('sembles', 0.256591796875), ('avall', 0.232177734375), ('soon', 0.2149658203125), ('ocumented', 0.2113037109375), ('城县', 0.2103271484375)], 22: [('�乐', 0.443603515625), ('rVert', 0.39013671875), ('fonia', 0.387451171875), ('rrbracket', 0.385498046875), ('淀', 0.382080078125)], 29: [(' parts', 0.1009521484375), ('CPTR', 0.09918212890625), ('rugu', 0.09661865234375), ('uctors', 0.09625244140625), ('DebuggerNonUser', 0.089111328125)], 63: [(' Martorell', 0.33349609375), ('Съби', 0.330078125), ('动能', 0.319091796875), ('angeli', 0.318603515625), ('nua', 0.313232421875)]}, 8: {7: [('oday', 0.33447265625), ('itae', 0.29443359375), ('illa', 0.279541015625), ('first', 0.27734375), ('input', 0.2763671875)], 23: [('��', 1.1728515625), ('alsk', 1.0693359375), ('率的', 1.056640625), ('率为', 1.0302734375), ('率', 1.029296875)], 36: [('石', 0.1728515625), ('口', 0.1591796875), ('мери', 0.1572265625), ('YP', 0.1558837890625), ('主义', 0.1546630859375)], 42: [('resa', 1.8564453125), ('ressa', 1.798828125), ('oya', 1.6923828125), ('�', 1.6806640625), ('ssic', 1.6572265625)], 43: [('essin', 0.1805419921875), ('APS', 0.15185546875), ('ses', 0.1470947265625), ('IFICATION', 0.1456298828125), ('pable', 0.1435546875)], 63: [('тови', 0.74853515625), ('anov', 0.701171875), ('ymatrix', 0.6845703125), ('entry', 0.66552734375), ('igens', 0.6591796875)]}, 9: {7: [('нал', 0.2149658203125), ('tok', 0.2020263671875), ('ELDS', 0.2000732421875), (' tok', 0.1993408203125), (' ingred', 0.196533203125)], 13: [('бю', 0.60302734375), ('onesos', 0.56298828125), ('emptat', 0.55908203125), ('quesos', 0.53076171875), ('оръ', 0.52978515625)], 29: [('版本', 0.170166015625), (' version', 0.1644287109375), ('�', 0.1575927734375), ('ptu', 0.1536865234375), ('假', 0.153564453125)], 36: [('万里', 0.1842041015625), ('ната', 0.1824951171875), ('NonUser', 0.179443359375), ('限度', 0.1783447265625), ('obre', 0.1759033203125)], 43: [(' ', 0.37841796875), ('mington', 0.363525390625), (' United', 0.35107421875), ('nw', 0.3408203125), ('бер', 0.339111328125)], 63: [('吃亏', 0.133056640625), ('ropies', 0.1270751953125), ('apest', 0.124755859375), ('总面积', 0.11895751953125), ('rido', 0.116943359375)]}, 19: {9: [('idera', 0.359375), ('erialize', 0.326171875), ('人居', 0.307861328125), ('onesa', 0.307861328125), ('露天', 0.305419921875)], 18: [('дите', 0.490234375), ('uate', 0.45263671875), (' Gard', 0.452392578125), ('收藏', 0.449462890625), ('您的', 0.436767578125)], 22: [(' from', 1.0205078125), ('头的', 0.8779296875), (' FROM', 0.80517578125), ('pread', 0.79541015625), ('0', 0.78125)], 37: [('还在', 0.476806640625), ('还没', 0.30810546875), ('刚', 0.2919921875), ('还没有', 0.2890625), ('λο', 0.28369140625)], 47: [('SEG', 0.100341796875), ('odal', 0.10009765625), ('кира', 0.09869384765625), ('seg', 0.09527587890625), ('сков', 0.09375)], 54: [('omla', 0.1502685546875), (' Зал', 0.1331787109375), ('inetic', 0.1326904296875), ('legi', 0.1318359375), (' end', 0.1260986328125)]}, 15: {10: [(' Golden', 0.343994140625), ('Golden', 0.32470703125), ('黄金', 0.316162109375), ('стин', 0.28125), (' golden', 0.2666015625)], 18: [('ille', 8.09375), ('uble', 6.8671875), ('illon', 6.82421875), ('UBLE', 6.625), ('illo', 6.50390625)], 23: [(' pl', 0.5654296875), ('emer', 0.4873046875), ('伯', 0.4140625), ('�', 0.4091796875), ('opo', 0.408935546875)], 29: [('WireFormat', 0.3466796875), ('ossible', 0.30078125), (' Societat', 0.2919921875), ('StyleID', 0.287841796875), ('хия', 0.281982421875)], 42: [('enial', 1.255859375), ('urar', 1.138671875), (' relle', 1.1357421875), ('uten', 1.1240234375), ('\\xa0mil', 1.1103515625)], 63: [(' iput', 0.452880859375), ('държа', 0.442138671875), (' прилага', 0.439697265625), (' suficient', 0.433837890625), ('EFI', 0.420166015625)]}, 10: {11: [('чин', 0.5009765625), ('HEMA', 0.5), ('Esquerra', 0.489013671875), (' DESCRIPT', 0.467529296875), ('玻璃', 0.467529296875)], 13: [('enemy', 0.537109375), ('敌人', 0.49951171875), ('enemies', 0.4775390625), (' enemy', 0.455810546875), (' enemic', 0.40625)], 23: [(':', 0.047760009765625), (' ~(', 0.045989990234375), ('pr', 0.045562744140625), (' ..', 0.044647216796875), ('AG', 0.044525146484375)], 33: [('缩', 0.26416015625), ('obre', 0.2489013671875), (' dalt', 0.248046875), (' guineas', 0.247314453125), ('真理', 0.2467041015625)], 43: [('er', 0.402099609375), ('v', 0.359619140625), ('摧', 0.35107421875), ('вят', 0.3310546875), ('xes', 0.323486328125)], 45: [(' yet', 1.3935546875), ('yet', 1.1689453125), (' Yet', 0.9765625), (' whom', 0.951171875), ('Yet', 0.9453125)]}, 11: {11: [(' to', 3.560546875), ('\\tto', 3.03515625), ('to', 2.640625), ('\\tTo', 2.572265625), ('To', 2.369140625)], 25: [('秩', 0.241455078125), ('sWith', 0.234375), ('riet', 0.2191162109375), ('莱坞', 0.2186279296875), ('nces', 0.21630859375)], 32: [('膜', 0.17919921875), ('Answers', 0.165771484375), ('rinos', 0.159912109375), ('enges', 0.1552734375), ('зани', 0.154296875)], 41: [('ho', 0.52587890625), ('境', 0.52001953125), ('inary', 0.5166015625), ('uary', 0.5146484375), ('莫', 0.495849609375)], 43: [('��', 1.3564453125), ('utenberg', 1.232421875), ('ardless', 1.2294921875), ('言', 1.0927734375), ('цип', 1.0654296875)], 45: [('still', 0.438720703125), (' yet', 0.40185546875), (' still', 0.393798828125), (' Still', 0.387939453125), ('Still', 0.387451171875)]}, 18: {11: [(' sed', 1.4052734375), ('toBe', 1.3818359375), ('OT', 1.3818359375), ('ctions', 1.3486328125), ('vic', 1.32421875)], 23: [('чие', 0.142822265625), ('ilv', 0.1424560546875), ('jor', 0.1375732421875), ('Or', 0.1285400390625), ('atim', 0.126220703125)], 29: [('FUNCPTR', 0.300537109375), ('resco', 0.294677734375), (' пореди', 0.288330078125), ('agine', 0.287841796875), ('uropa', 0.28515625)], 31: [('uzzy', 1.1298828125), ('enz', 1.1103515625), ('appearance', 1.0458984375), ('iski', 1.0146484375), ('тки', 0.98388671875)], 41: [('efi', 1.93359375), ('ento', 1.884765625), ('мък', 1.8720703125), ('стани', 1.8564453125), ('ikip', 1.7919921875)], 43: [('ardless', 0.77001953125), ('agrada', 0.66552734375), ('ernel', 0.65869140625), (' ir', 0.65625), ('抄', 0.64404296875)]}, 20: {11: [('vark', 0.415283203125), ('мове', 0.396484375), ('�다', 0.390869140625), ('ALE', 0.37109375), ('akala', 0.3681640625)], 20: [(' thyself', 0.55517578125), (' yourself', 0.546875), ('herself', 0.5458984375), (' ourselves', 0.53857421875), ('himself', 0.53857421875)], 22: [(' in', 0.3369140625), ('\\tin', 0.279052734375), ('eding', 0.269287109375), (' sof', 0.261962890625), ('负', 0.260498046875)], 33: [(' ours', 0.3466796875), (' Ours', 0.21875), ('Ours', 0.214599609375), ('ky', 0.206298828125), (' NMOS', 0.20458984375)], 45: [(' yet', 3.43359375), ('yet', 3.09765625), (' Yet', 2.544921875), ('Yet', 2.41796875), ('доб', 0.8095703125)], 53: [('aig', 0.47265625), ('хол', 0.458251953125), ('ieth', 0.4375), ('烈士', 0.434326171875), ('{#', 0.432373046875)]}, 5: {12: [('稣', 0.1893310546875), ('ality', 0.1422119140625), ('ANY', 0.1407470703125), ('any', 0.1407470703125), ('essee', 0.1357421875)], 26: [('issin', 1.630859375), ('繁殖', 1.615234375), ('芦', 1.5634765625), (' port', 1.55078125), ('fr', 1.517578125)], 33: [('раст', 0.31591796875), (' Христос', 0.3134765625), ('�', 0.31005859375), ('ache', 0.296630859375), ('8', 0.290771484375)], 51: [('regi', 3.912109375), ('ggreg', 3.90625), ('питаници', 3.880859375), ('rista', 3.70703125), ('zerbaid', 3.685546875)], 56: [('idium', 2.216796875), ('tland', 2.076171875), ('spers', 2.029296875), ('overy', 1.9833984375), ('ляне', 1.83984375)], 62: [('门前', 0.8623046875), ('门', 0.78955078125), ('figures', 0.77294921875), ('门的', 0.77001953125), (' Sark', 0.74462890625)]}, 14: {14: [('D', 1.6171875), ('��', 1.5986328125), ('�', 1.5302734375), ('OK', 1.486328125), ('))', 1.45703125)], 23: [('ises', 0.2440185546875), ('靠', 0.22021484375), ('leck', 0.2164306640625), ('achine', 0.21484375), ('aphor', 0.207763671875)], 38: [('「', 0.8310546875), ('raft', 0.794921875), (' пристани', 0.78515625), ('став', 0.77685546875), ('rely', 0.77587890625)], 45: [(' yet', 6.15625), ('yet', 5.4453125), ('Yet', 4.58203125), (' Yet', 4.46875), ('фер', 2.8125)], 49: [('googleads', 0.2293701171875), ('ugat', 0.221435546875), ('USU', 0.2047119140625), ('ystick', 0.187255859375), ('ingressos', 0.1842041015625)], 62: [(' **', 0.434814453125), ('**', 0.428466796875), ('enia', 0.36083984375), ('сбург', 0.3369140625), ('!_', 0.336669921875)]}, 6: {16: [(' fork', 0.2421875), ('吹', 0.2413330078125), ('doc', 0.239501953125), ('哨', 0.2215576171875), ('ty', 0.220703125)], 17: [('service', 0.247314453125), (' service', 0.2420654296875), (' служба', 0.2342529296875), (' Service', 0.2254638671875), (' случа', 0.222900390625)], 20: [('herself', 0.2396240234375), (' Yourself', 0.2274169921875), (' herself', 0.2261962890625), ('idine', 0.2255859375), ('better', 0.2037353515625)], 24: [('юн', 0.609375), ('everse', 0.57958984375), ('inats', 0.56689453125), ('itored', 0.541015625), ('avui', 0.5380859375)], 26: [('SPAN', 0.2366943359375), ('ults', 0.2305908203125), ('rees', 0.22412109375), (' FR', 0.21923828125), ('ree', 0.21923828125)], 28: [('ured', 1.3017578125), (' blocs', 1.1982421875), ('шия', 1.1943359375), ('ually', 1.1943359375), ('ussa', 1.1357421875)]}, 4: {20: [('phins', 0.55126953125), ('ients', 0.49267578125), ('рел', 0.4921875), ('ischer', 0.488525390625), (' herself', 0.475341796875)], 22: [('@{\\\\', 1.5361328125), ('\\\\@', 1.46484375), ('primer', 1.419921875), (' Dels', 1.3818359375), ('кани', 1.3115234375)], 24: [('десе', 0.48486328125), ('shed', 0.468017578125), (' v', 0.46044921875), (':*.', 0.45068359375), ('чани', 0.444091796875)], 28: [('�', 0.358154296875), ('лит', 0.337646484375), ('IFIED', 0.3125), (' data', 0.296630859375), ('ivell', 0.283203125)], 54: [('成', 0.74072265625), ('�', 0.71728515625), ('уд', 0.66943359375), ('lant', 0.53173828125), ('стер', 0.52978515625)], 62: [('_%', 0.392578125), ('_-\\\\', 0.347900390625), ('_', 0.324462890625), ('_-', 0.31640625), ('_:', 0.314697265625)]}, 13: {20: [('nt', 0.42529296875), (' not', 0.381103515625), ('oup', 0.375), ('骨', 0.374267578125), ('Not', 0.372314453125)], 24: [(' v', 0.79052734375), ('волю', 0.78076171875), ('shed', 0.76025390625), ('owness', 0.75244140625), (' Represent', 0.72705078125)], 25: [('onet', 0.269287109375), ('ie', 0.25634765625), ('来', 0.246826171875), ('verse', 0.23876953125), ('vers', 0.2359619140625)], 36: [(' by', 0.97998046875), ('by', 0.8818359375), ('By', 0.609375), ('bys', 0.57958984375), (' By', 0.54248046875)], 43: [('��', 0.68359375), ('pap', 0.51904296875), ('турен', 0.51123046875), ('brush', 0.50537109375), ('而易', 0.468505859375)], 62: [(' _', 0.5751953125), (' /', 0.406494140625), (' *', 0.40234375), ('(_', 0.390869140625), ('дера', 0.37890625)]}}\n",
      "Shared expert predictions: [[('жени', 0.59375), (' org', 0.5224609375), ('嘘', 0.493896484375), ('陷入', 0.48876953125), (' Pro', 0.48681640625)], [('揣', 0.7119140625), ('�', 0.705078125), ('\\xa0', 0.66845703125), ('关', 0.65966796875), ('亢', 0.64697265625)], [('—', 0.94970703125), ('..', 0.91796875), (' ', 0.9072265625), ('迷信', 0.8935546875), ('(--', 0.83447265625)], [('中途', 0.8330078125), (' despues', 0.8291015625), ('对外', 0.81982421875), ('ADA', 0.8095703125), ('背', 0.796875)], [('main', 0.81201171875), ('Main', 0.8017578125), ('养', 0.78857421875), ('偏', 0.78515625), ('ť', 0.78369140625)], [('—', 1.361328125), (' com', 1.1611328125), (' ', 0.98974609375), ('华声', 0.9833984375), (' b', 0.9814453125)], [('螃', 0.92333984375), ('arx', 0.91845703125), ('Thelia', 0.90625), ('lif', 0.8955078125), ('arques', 0.8818359375)], [('spr', 0.9609375), ('返乡', 0.93359375), ('saurus', 0.88427734375), ('湛', 0.87744140625), (' cal', 0.8740234375)], [('wered', 1.0048828125), ('吸取', 1.0029296875), ('дем', 0.919921875), ('棘', 0.888671875), ('oble', 0.888671875)], [('循', 0.92236328125), ('istically', 0.82666015625), ('吸取', 0.82080078125), ('垒', 0.81494140625), ('wered', 0.802734375)], [('�', 0.91162109375), ('burger', 0.8623046875), (' Za', 0.81103515625), ('斗', 0.8095703125), ('理', 0.80810546875)], [('务', 0.9921875), ('建华', 0.96728515625), ('gos', 0.89404296875), ('ATAB', 0.85791015625), ('atg', 0.8447265625)], [('ikit', 0.9931640625), ('ol', 0.87939453125), ('体贴', 0.826171875), ('olor', 0.8232421875), ('秤', 0.8095703125)], [('^^^^', 0.95263671875), ('issions', 0.93994140625), ('olves', 0.85009765625), ('uentes', 0.8330078125), ('ialog', 0.822265625)], [('icum', 1.3916015625), ('涯', 1.28125), ('ENCES', 1.154296875), ('CADE', 1.1416015625), (' труд', 1.125)], [('сем', 1.373046875), ('\">&#', 1.2294921875), ('из', 1.2255859375), ('olin', 1.2119140625), ('кал', 1.1884765625)], [('psfrag', 1.1142578125), ('Segons', 1.1064453125), ('емон', 1.0966796875), ('ategorized', 0.98876953125), ('verter', 0.9873046875)], [('小麦', 0.841796875), ('prises', 0.7607421875), ('ialect', 0.74560546875), ('andidate', 0.744140625), ('ampion', 0.74169921875)], [('ivell', 1.28125), ('WSER', 1.2548828125), ('membres', 1.2412109375), ('itiva', 1.205078125), ('ertime', 1.203125)], [(' capell', 0.97705078125), ('tiques', 0.96875), ('}$.}', 0.95849609375), ('ец', 0.93310546875), ('Умира', 0.921875)], [('ходите', 1.140625), ('提前', 1.10546875), ('[]{\\\\', 1.1005859375), ('lien', 1.0478515625), ('=\"../../../../../', 1.041015625)], [('PREC', 1.20703125), ('Llista', 1.1962890625), ('aqui', 1.130859375), ('aquella', 1.12890625), (' drogues', 1.125)]]\n",
      "\n",
      "MoE Layer 19:\n",
      "Selected experts: [[45, 17, 10, 9, 51, 25], [32, 35, 44, 7, 48, 23], [46, 32, 35, 48, 12, 57], [23, 43, 32, 12, 30, 57], [23, 32, 12, 61, 7, 14], [52, 36, 4, 48, 35, 51], [7, 23, 57, 22, 61, 41], [0, 41, 45, 39, 47, 21], [46, 39, 45, 58, 51, 57], [43, 34, 39, 5, 15, 3], [18, 36, 56, 51, 43, 39], [18, 51, 52, 36, 40, 30], [18, 51, 52, 56, 36, 42], [7, 12, 0, 14, 23, 34], [0, 36, 21, 18, 52, 30], [43, 18, 46, 39, 36, 15], [43, 49, 25, 9, 12, 56], [52, 25, 42, 9, 43, 27], [43, 40, 5, 33, 18, 56], [18, 25, 27, 42, 32, 40], [18, 6, 36, 40, 14, 23], [18, 52, 36, 56, 6, 31]]\n",
      "Expert weights: [[0.75048828125, 0.0159454345703125, 0.014190673828125, 0.01346588134765625, 0.0103759765625, 0.0102996826171875], [0.10162353515625, 0.443115234375, 0.0239715576171875, 0.05120849609375, 0.042694091796875, 0.0194549560546875], [0.26025390625, 0.1756591796875, 0.0733642578125, 0.046234130859375, 0.0340576171875, 0.028350830078125], [0.1248779296875, 0.1260986328125, 0.11083984375, 0.053558349609375, 0.048919677734375, 0.046539306640625], [0.197265625, 0.11962890625, 0.10784912109375, 0.046844482421875, 0.09210205078125, 0.03692626953125], [0.09930419921875, 0.0960693359375, 0.07623291015625, 0.047088623046875, 0.044342041015625, 0.04425048828125], [0.1192626953125, 0.1444091796875, 0.030792236328125, 0.03375244140625, 0.0845947265625, 0.0291748046875], [0.044525146484375, 0.07110595703125, 0.2147216796875, 0.04046630859375, 0.03509521484375, 0.033111572265625], [0.18896484375, 0.055511474609375, 0.048553466796875, 0.04443359375, 0.040374755859375, 0.03228759765625], [0.37158203125, 0.06982421875, 0.061492919921875, 0.048828125, 0.037872314453125, 0.032623291015625], [0.2763671875, 0.23486328125, 0.0252227783203125, 0.06719970703125, 0.02276611328125, 0.019317626953125], [0.226806640625, 0.13916015625, 0.053924560546875, 0.0535888671875, 0.0273284912109375, 0.0242767333984375], [0.0714111328125, 0.09063720703125, 0.272705078125, 0.045257568359375, 0.039337158203125, 0.03021240234375], [0.09454345703125, 0.14990234375, 0.06829833984375, 0.0443115234375, 0.04150390625, 0.03863525390625], [0.03814697265625, 0.11151123046875, 0.07708740234375, 0.031890869140625, 0.03399658203125, 0.031280517578125], [0.1341552734375, 0.0299835205078125, 0.14306640625, 0.03521728515625, 0.1505126953125, 0.0206146240234375], [0.04522705078125, 0.056396484375, 0.1007080078125, 0.08599853515625, 0.04443359375, 0.041015625], [0.08642578125, 0.07025146484375, 0.07025146484375, 0.05804443359375, 0.05426025390625, 0.05047607421875], [0.2548828125, 0.0771484375, 0.0718994140625, 0.06903076171875, 0.0345458984375, 0.0335693359375], [0.08233642578125, 0.0645751953125, 0.12481689453125, 0.046630859375, 0.0364990234375, 0.03558349609375], [0.262451171875, 0.10833740234375, 0.0933837890625, 0.0806884765625, 0.0555419921875, 0.03387451171875], [0.23974609375, 0.09954833984375, 0.0867919921875, 0.07952880859375, 0.0574951171875, 0.037445068359375]]\n",
      "Combined output tokens: [[('�', 1.3359375), ('dens', 1.212890625), ('ygon', 1.1845703125), ('ismes', 1.169921875), ('signal', 1.13671875)], [('ган', 2.396484375), ('стве', 2.01171875), (' толкова', 1.8720703125), ('erable', 1.83203125), ('bius', 1.826171875)], [('Suppress', 2.447265625), ('времен', 2.400390625), ('_.--', 2.34375), ('reck', 2.255859375), ('andr', 2.255859375)], [('into', 3.23828125), (' into', 2.806640625), ('Into', 2.716796875), (' INTO', 2.705078125), (':~/', 2.59765625)], [('using', 3.259765625), ('use', 3.060546875), ('from', 3.0), ('ox', 2.6328125), ('asio', 2.59765625)], [('these', 3.537109375), (' these', 3.400390625), (' estos', 2.740234375), (' тези', 2.4296875), ('These', 2.333984375)], [('лев', 2.6015625), ('�', 2.34375), ('ttp', 2.33984375), ('lique', 2.328125), ('errar', 2.32421875)], [(' ено', 1.7939453125), ('枢', 1.7548828125), ('PIO', 1.7509765625), ('=\"../../../../../', 1.73046875), ('ucode', 1.728515625)], [('arent', 1.69921875), ('epa', 1.5283203125), ('лено', 1.486328125), (' Segre', 1.484375), ('迫', 1.4814453125)], [(' time', 6.03515625), (' way', 5.703125), ('TIME', 5.4609375), ('Time', 5.19140625), ('печат', 5.16796875)], [('last', 5.89453125), ('yet', 5.859375), (' yet', 5.73828125), (' last', 5.0859375), ('Yet', 4.9296875)], [(' to', 6.76953125), ('\\tto', 5.42578125), ('to', 5.20703125), (' yet', 4.42578125), ('yet', 4.27734375)], [('fron', 2.5859375), ('ee', 2.310546875), ('endre', 2.2109375), ('dent', 2.208984375), (' именно', 2.181640625)], [('⌘', 2.232421875), ('acab', 2.064453125), ('chis', 1.90234375), ('jst', 1.890625), ('фу', 1.8798828125)], [('ucode', 1.8798828125), ('worst', 1.8212890625), ('mined', 1.8154296875), ('atest', 1.7919921875), ('worse', 1.7744140625)], [('best', 7.55859375), ('Best', 7.39453125), (' лу', 7.3046875), (' Best', 5.9921875), ('最好的', 5.953125)], [('best', 2.306640625), ('Best', 2.2734375), ('最好的', 2.111328125), (' Best', 1.86328125), ('最', 1.8525390625)], [('aure', 1.6142578125), (' because', 1.4970703125), ('issip', 1.490234375), ('因为我', 1.3623046875), ('B', 1.3515625)], [('Ï', 2.91015625), (' Спе', 2.833984375), (' близо', 2.82421875), ('ogen', 2.822265625), ('pread', 2.771484375)], [(' due', 2.16015625), ('监', 1.7646484375), ('due', 1.6953125), (' Due', 1.6767578125), (' because', 1.65234375)], [(' yet', 4.3984375), ('yet', 4.33203125), ('iceless', 3.966796875), ('prep', 3.919921875), ('Yet', 3.89453125)], [('enth', 2.93359375), (' yet', 2.923828125), ('族自治', 2.908203125), ('IX', 2.861328125), ('cales', 2.841796875)]]\n",
      "Expert predictions by position: {7: {0: [('isl', 0.290771484375), ('чар', 0.25634765625), ('wal', 0.255615234375), ('elebr', 0.255126953125), ('feres', 0.25439453125)], 21: [('according', 0.58056640625), (' според', 0.548828125), (' according', 0.5390625), ('correct', 0.509765625), (' segons', 0.46337890625)], 39: [(' present', 0.303955078125), ('земно', 0.279296875), ('esar', 0.269775390625), (' presents', 0.2685546875), ('微量', 0.261962890625)], 41: [('�起', 0.2032470703125), (' повод', 0.177978515625), ('危', 0.1683349609375), ('梯', 0.1572265625), ('раз', 0.1563720703125)], 45: [('peren', 0.1588134765625), ('ществу', 0.1368408203125), ('�', 0.1343994140625), (' ratt', 0.1280517578125), ('rgan', 0.1260986328125)], 47: [('bai', 0.1610107421875), ('mu', 0.1607666015625), ('pr', 0.1591796875), ('oul', 0.145751953125), ('\\xa0part', 0.145751953125)]}, 13: {0: [('от', 0.200439453125), ('long', 0.1900634765625), ('HING', 0.1834716796875), ('sever', 0.179931640625), ('IVER', 0.1771240234375)], 7: [('iret', 1.91015625), ('�', 1.763671875), ('rial', 1.6630859375), ('\\r', 1.6025390625), ('long', 1.599609375)], 12: [('from', 0.9765625), (' from', 0.8955078125), (' FROM', 0.79833984375), ('From', 0.662109375), (' From', 0.64501953125)], 14: [(' for', 0.63525390625), ('for', 0.60498046875), (' для', 0.54248046875), ('\\tfor', 0.54052734375), (' FOR', 0.482666015625)], 23: [(' into', 2.296875), ('using', 2.189453125), (' FREE', 2.12109375), ('into', 2.080078125), (' free', 2.048828125)], 34: [('ба', 0.36376953125), ('ily', 0.342041015625), (' vides', 0.310791015625), (' господар', 0.30908203125), (' _', 0.30908203125)]}, 14: {0: [('VolumeSource', 0.33349609375), ('郡', 0.2998046875), ('rate', 0.299072265625), ('стви', 0.28662109375), ('imov', 0.285400390625)], 18: [('quilla', 3.099609375), ('enth', 2.95703125), ('cales', 2.763671875), ('uality', 2.701171875), ('yet', 2.6640625)], 21: [(' no', 0.429931640625), ('no', 0.3359375), ('quesos', 0.33349609375), (' опъл', 0.322509765625), ('noframe', 0.306884765625)], 30: [('废', 0.1256103515625), ('° ', 0.12469482421875), ('tage', 0.12335205078125), ('Vida', 0.1224365234375), ('问题请', 0.1221923828125)], 36: [(' last', 1.8251953125), (' LAST', 1.515625), (' Last', 1.4755859375), ('last', 1.40625), ('getLast', 1.3681640625)], 52: [('喊', 0.64306640625), ('пълните', 0.63720703125), ('利', 0.5712890625), ('casting', 0.568359375), (' contents', 0.54541015625)]}, 9: {3: [('n', 0.1842041015625), ('ън', 0.177001953125), ('without', 0.1676025390625), ('m', 0.1617431640625), ('log', 0.159423828125)], 5: [(' there', 0.295654296875), ('there', 0.287841796875), (' THERE', 0.2392578125), ('EDD', 0.2320556640625), ('stum', 0.2252197265625)], 15: [('rain', 0.1536865234375), ('ител', 0.1470947265625), ('rites', 0.1357421875), ('Little', 0.1246337890625), ('rains', 0.12396240234375)], 34: [('odat', 0.21240234375), ('trac', 0.197509765625), (' intellig', 0.181884765625), ('anax', 0.1817626953125), ('�', 0.1727294921875)], 39: [('ridge', 0.211669921875), ('ishing', 0.2054443359375), ('clave', 0.19970703125), ('红', 0.1973876953125), (' мир', 0.19287109375)], 43: [('last', 1.40234375), (' last', 1.3916015625), ('Last', 1.2626953125), (' Last', 1.2451171875), ('LAST', 1.0537109375)]}, 5: {4: [(' these', 3.408203125), ('these', 3.21875), ('These', 2.470703125), (' estos', 2.32421875), (' estas', 2.2109375)], 35: [('пте', 0.3505859375), ('eline', 0.29638671875), ('PT', 0.294189453125), ('抬头', 0.2919921875), ('�', 0.29052734375)], 36: [('Rest', 3.1796875), ('rest', 2.857421875), (' Rest', 2.6875), (' лу', 2.587890625), (' rest', 2.5859375)], 48: [('гу', 0.2529296875), (' Свето', 0.2357177734375), ('utely', 0.203857421875), ('endered', 0.201416015625), ('uche', 0.200927734375)], 51: [('�', 1.1337890625), ('скон', 1.0859375), ('ifici', 1.083984375), (' Hur', 0.9853515625), ('北京时间', 0.96484375)], 52: [('}^*(', 1.712890625), ('твър', 1.7080078125), ('ees', 1.7041015625), ('endre', 1.60546875), ('的车型', 1.6025390625)]}, 18: {5: [(' sub', 0.60693359375), (' Q', 0.6025390625), ('�', 0.5947265625), ('Vtbl', 0.57421875), (' lie', 0.56103515625)], 18: [(' near', 0.79296875), ('OLD', 0.7724609375), ('near', 0.74658203125), ('!/', 0.73193359375), (' Near', 0.701171875)], 33: [('7', 0.7900390625), ('9', 0.7802734375), ('6', 0.75048828125), ('8', 0.7451171875), ('5', 0.72412109375)], 40: [('i', 0.26416015625), ('Add', 0.253173828125), ('tide', 0.24365234375), ('Already', 0.2403564453125), ('seller', 0.2354736328125)], 43: [('way', 0.291015625), ('WAY', 0.26318359375), ('Way', 0.25244140625), (' way', 0.2188720703125), (' Way', 0.2030029296875)], 56: [('ways', 0.39599609375), ('way', 0.307373046875), ('ers', 0.28564453125), (' ways', 0.27392578125), ('umer', 0.272216796875)]}, 20: {6: [('lde', 0.4375), ('汉', 0.41650390625), ('脱', 0.41455078125), ('泉', 0.39501953125), ('隶', 0.385986328125)], 14: [('under', 0.64892578125), ('ateau', 0.5576171875), (' актри', 0.5224609375), (' bajo', 0.51171875), ('Under', 0.50244140625)], 18: [(' yet', 5.44140625), ('yet', 5.3125), ('Yet', 4.65234375), (' Yet', 4.47265625), ('ň', 3.107421875)], 23: [(' Руско', 0.07452392578125), ('洋', 0.07183837890625), ('架', 0.07073974609375), ('versi', 0.07061767578125), ('恩', 0.06982421875)], 36: [('neres', 0.9658203125), ('ients', 0.9052734375), (' last', 0.794921875), (' Dei', 0.75146484375), ('姆斯', 0.73876953125)], 40: [('hung', 0.6806640625), (' Emit', 0.66259765625), ('енеди', 0.65087890625), (' Tremp', 0.64111328125), (' Joventut', 0.640625)]}, 21: {6: [('ург', 1.1103515625), ('вки', 1.076171875), ('Wake', 1.0439453125), ('IMIT', 0.97900390625), ('rils', 0.97705078125)], 18: [('yet', 0.82275390625), ('urfaces', 0.8193359375), (' изигра', 0.7841796875), ('telephony', 0.77587890625), ('pian', 0.765625)], 31: [(\"}'\\\\\", 0.255615234375), (' per', 0.24169921875), ('ropolis', 0.2406005859375), ('три', 0.225341796875), ('oth', 0.224853515625)], 36: [('last', 0.93505859375), (' last', 0.79248046875), (' LAST', 0.72900390625), ('LAST', 0.72900390625), ('Last', 0.63623046875)], 52: [('时', 0.2244873046875), ('时不', 0.21044921875), ('时至', 0.173828125), ('mtp', 0.1693115234375), ('acket', 0.168701171875)], 56: [('isc', 0.1826171875), ('pp', 0.1790771484375), ('es', 0.1629638671875), ('тена', 0.1624755859375), ('Zones', 0.1573486328125)]}, 1: {7: [('ght', 0.273193359375), ('$|', 0.270263671875), ('**', 0.259521484375), ('imento', 0.25732421875), ('@', 0.25537109375)], 23: [('成人', 1.29296875), (' WITH', 1.2509765625), ('ил', 1.21484375), ('inam', 1.19140625), ('WITH', 1.181640625)], 32: [(' FROM', 1.5458984375), (' from', 1.5380859375), ('from', 1.533203125), (' From', 1.4267578125), ('From', 1.240234375)], 35: [('=\"../..\">', 0.40673828125), ('�乐', 0.27490234375), ('нст', 0.272216796875), ('сам', 0.264892578125), ('нира', 0.264404296875)], 44: [('pto', 0.1512451171875), ('phol', 0.1171875), (' Mosel', 0.1126708984375), ('CDCD', 0.1112060546875), ('丹', 0.10968017578125)], 48: [('ims', 0.280517578125), ('cgi', 0.278076171875), (' Libre', 0.26611328125), (' signature', 0.25341796875), ('etics', 0.2481689453125)]}, 4: {7: [(' esportiva', 1.5556640625), ('chis', 1.53515625), ('jst', 1.505859375), ('ezna', 1.498046875), (']}{\\\\', 1.4921875)], 12: [(' ous', 0.1669921875), (' прием', 0.1590576171875), ('avant', 0.15869140625), ('gressive', 0.15771484375), ('ливо', 0.1561279296875)], 14: [(' from', 0.408935546875), (' From', 0.392822265625), ('from', 0.388916015625), ('From', 0.365966796875), (' FROM', 0.341796875)], 23: [('for', 0.376220703125), (' for', 0.316650390625), ('For', 0.306640625), ('\\tfor', 0.30029296875), ('forall', 0.298828125)], 32: [(' tips', 1.4287109375), ('位', 1.3369140625), ('времен', 1.3095703125), (' dried', 1.26953125), ('�', 1.255859375)], 61: [('9', 1.3916015625), ('1', 1.283203125), ('6', 1.2353515625), ('0', 1.228515625), ('3', 1.1953125)]}, 6: {7: [('\\r', 0.89013671875), ('****', 0.83251953125), ('<', 0.83203125), ('</', 0.80029296875), ('族', 0.7919921875)], 22: [('uebas', 0.1708984375), ('romise', 0.169921875), ('凉', 0.1666259765625), ('Lleg', 0.1661376953125), ('纪律', 0.1651611328125)], 23: [(' if', 0.3056640625), ('if', 0.286865234375), ('星驰', 0.2320556640625), ('IF', 0.2296142578125), ('arser', 0.2283935546875)], 41: [('lor', 0.30859375), (' hands', 0.305419921875), ('lead', 0.279296875), ('лева', 0.27783203125), (' To', 0.26708984375)], 57: [(' тит', 0.1805419921875), ('lebre', 0.17919921875), ('inois', 0.1788330078125), ('IPU', 0.1644287109375), ('alez', 0.1636962890625)], 61: [(' ', 0.52392578125), ('7', 0.486572265625), ('8', 0.46923828125), ('5', 0.455810546875), ('4', 0.455810546875)]}, 0: {9: [('ogle', 0.59130859375), ('zilla', 0.57763671875), ('jah', 0.5654296875), ('space', 0.5390625), ('空间的', 0.53173828125)], 10: [('绕', 0.03594970703125), ('лети', 0.034637451171875), (' препратки', 0.033416748046875), ('ctree', 0.0298004150390625), ('anell', 0.029571533203125)], 17: [('�', 0.04058837890625), ('�', 0.03900146484375), (' cryptocur', 0.0294036865234375), ('terness', 0.0293121337890625), ('�', 0.029052734375)], 25: [('if', 0.033172607421875), ('its', 0.02996826171875), ('it', 0.0290679931640625), ('or', 0.028839111328125), ('ide', 0.0279693603515625)], 45: [('oulos', 0.95068359375), ('ollers', 0.8603515625), ('izzie', 0.85986328125), ('�', 0.85888671875), ('вежда', 0.85498046875)], 51: [('restant', 0.1732177734375), ('sics', 0.1719970703125), ('quei', 0.167724609375), ('Strunz', 0.1676025390625), ('ondre', 0.1634521484375)]}, 16: {9: [('2', 0.0196075439453125), ('1', 0.0191650390625), ('3', 0.018646240234375), ('�', 0.0185546875), ('Ch', 0.01849365234375)], 12: [('to', 0.3076171875), ('To', 0.24267578125), (' Demo', 0.237548828125), ('zel', 0.234375), ('4', 0.2293701171875)], 25: [('supp', 0.52734375), ('emet', 0.497314453125), ('@\"', 0.4794921875), ('icom', 0.46044921875), (' SerialNumber', 0.45849609375)], 43: [('thing', 0.398681640625), ('-', 0.396484375), (' thing', 0.32177734375), (' Thing', 0.30322265625), (' w', 0.298583984375)], 49: [('acco', 0.341796875), (' ALPHA', 0.332763671875), ('agena', 0.33203125), ('anesa', 0.31689453125), ('ioned', 0.31201171875)], 56: [('erva', 0.270263671875), ('dua', 0.2626953125), ('比亚', 0.257080078125), ('рата', 0.2489013671875), ('log', 0.246826171875)]}, 17: {9: [('r', 0.4794921875), ('apter', 0.43115234375), ('INTERFACE', 0.411865234375), (' facility', 0.388671875), (' forms', 0.38720703125)], 25: [('iemann', 0.75537109375), ('Olot', 0.75), ('enerated', 0.73681640625), ('uring', 0.73291015625), ('amboo', 0.73046875)], 27: [('ists', 0.6171875), ('ante', 0.59326171875), ('chy', 0.55712890625), ('rict', 0.5224609375), ('ly', 0.515625)], 42: [('ciones', 0.334716796875), ('~$', 0.311279296875), ('sight', 0.299560546875), ('inada', 0.28564453125), ('itzacions', 0.285400390625)], 43: [(' stom', 0.450927734375), ('节的', 0.43798828125), ('ствена', 0.421630859375), ('ebn', 0.4189453125), ('бах', 0.407958984375)], 52: [('8', 0.359619140625), ('2', 0.3447265625), ('弹', 0.34326171875), ('杯', 0.330322265625), ('1', 0.322021484375)]}, 2: {12: [('стата', 0.2227783203125), (' Leh', 0.22119140625), ('края', 0.2061767578125), ('htb', 0.20361328125), ('upp', 0.202392578125)], 32: [('into', 1.13671875), (' into', 1.0361328125), ('Into', 0.90966796875), (' from', 0.90576171875), (' INTO', 0.87744140625)], 35: [('ган', 2.08203125), ('вре', 1.9619140625), ('гане', 1.8701171875), ('roqu', 1.82421875), ('erable', 1.798828125)], 46: [('═', 1.7255859375), ('amiu', 1.658203125), (' onmouse', 1.57421875), ('peta', 1.5224609375), (' Limita', 1.51171875)], 48: [('3', 0.22021484375), ('0', 0.2176513671875), ('7', 0.213134765625), ('1', 0.213134765625), ('5', 0.21044921875)], 57: [('Phabricator', 0.2431640625), ('digo', 0.2166748046875), ('epa', 0.2108154296875), ('Autow', 0.2099609375), ('ertainly', 0.2060546875)]}, 3: {12: [('upp', 1.115234375), ('unks', 1.0205078125), (' Llob', 0.94482421875), ('сар', 0.92431640625), ('efault', 0.9169921875)], 23: [(' into', 2.00390625), ('into', 1.8564453125), (' INTO', 1.607421875), ('Into', 1.439453125), (' Into', 1.2890625)], 30: [('1', 0.2509765625), ('8', 0.24169921875), ('2', 0.2410888671875), ('9', 0.22900390625), ('7', 0.2254638671875)], 32: [('sega', 0.54345703125), (' удо', 0.5361328125), ('swith', 0.51513671875), ('REGION', 0.501953125), ('期', 0.498779296875)], 43: [('inada', 1.6806640625), (':~/', 1.5654296875), ('ulada', 1.5634765625), ('enca', 1.5458984375), ('asseg', 1.4921875)], 57: [('произ', 0.6220703125), ('erer', 0.494140625), ('��', 0.474609375), (' secundari', 0.466064453125), ('versation', 0.46142578125)]}, 15: {15: [('blr', 0.169677734375), ('ален', 0.1688232421875), ('elled', 0.1632080078125), ('ISTS', 0.1522216796875), ('IATE', 0.1505126953125)], 18: [(' yet', 4.87890625), ('yet', 4.84375), (' to', 3.646484375), ('Yet', 3.505859375), ('он', 3.50390625)], 36: [('worse', 1.025390625), (' worse', 0.92724609375), (' вле', 0.9228515625), ('worst', 0.8916015625), (' worst', 0.83837890625)], 39: [('娠', 0.123046875), ('versa', 0.10052490234375), ('роко', 0.0948486328125), ('折', 0.09393310546875), ('熄', 0.09259033203125)], 43: [('вре', 2.8515625), ('ogen', 2.75), ('informe', 2.70703125), ('interopRequireDefault', 2.705078125), ('^*,', 2.705078125)], 46: [('good', 1.7255859375), ('report', 1.3359375), (' good', 1.298828125), ('go', 1.24609375), ('Good', 1.212890625)]}, 10: {18: [(' to', 6.5546875), ('\\tto', 5.09375), (' yet', 4.49609375), ('to', 4.390625), ('yet', 4.11328125)], 36: [(' last', 4.62890625), ('last', 4.55859375), (' LAST', 3.71484375), ('LAST', 3.341796875), ('getLast', 3.33203125)], 39: [('ribu', 0.25732421875), ('ONU', 0.25341796875), ('opil', 0.2279052734375), ('ailability', 0.2144775390625), ('egie', 0.2110595703125)], 43: [(' time', 6.3359375), ('TIME', 5.6484375), (' way', 5.5625), ('Time', 5.4375), (' TIME', 5.3359375)], 51: [('тали', 0.424560546875), ('enburg', 0.3984375), ('甲', 0.388916015625), ('acant', 0.388671875), ('ims', 0.386962890625)], 56: [('lsk', 0.369140625), ('mo', 0.3564453125), ('сяка', 0.30810546875), ('idity', 0.3017578125), ('plets', 0.30126953125)]}, 11: {18: [('писано', 0.2978515625), ('alk', 0.255859375), ('domen', 0.251953125), ('inned', 0.247314453125), ('realm', 0.2437744140625)], 30: [('uma', 0.266357421875), ('的一段', 0.257568359375), (' blo', 0.248779296875), ('**', 0.2470703125), ('实', 0.245361328125)], 36: [('theless', 0.8291015625), ('打印', 0.748046875), (' higher', 0.6884765625), ('last', 0.67529296875), (' last', 0.66796875)], 40: [(' follows', 0.91455078125), ('follows', 0.79638671875), (' follow', 0.7412109375), ('follow', 0.64111328125), ('following', 0.62646484375)], 51: [('ус', 0.401611328125), ('rega', 0.4013671875), ('HasBeen', 0.396240234375), ('altura', 0.38671875), ('уа', 0.379150390625)], 52: [('irat', 0.361328125), ('故', 0.350341796875), ('igator', 0.34765625), ('参', 0.345703125), ('后赛', 0.322021484375)]}, 12: {18: [(' yet', 0.486328125), ('yet', 0.469482421875), (' близо', 0.4296875), ('ъз', 0.40966796875), ('еме', 0.403076171875)], 36: [('wered', 0.88525390625), ('wes', 0.88134765625), ('位置', 0.86669921875), ('tia', 0.8369140625), ('ystyle', 0.81201171875)], 42: [('ssf', 0.33642578125), ('ე', 0.3330078125), ('бур', 0.329345703125), (' Ща', 0.3251953125), ('рал', 0.309326171875)], 51: [('IN', 0.0191497802734375), (' ', 0.0171356201171875), ('直', 0.0158538818359375), ('trav', 0.01535797119140625), ('nic', 0.01535797119140625)], 52: [('mean', 0.64013671875), (' mean', 0.63427734375), ('ences', 0.576171875), ('assert', 0.57275390625), ('део', 0.53271484375)], 56: [('ajo', 0.61083984375), ('ivitat', 0.60302734375), (' Apro', 0.5634765625), (' fold', 0.51171875), ('观', 0.50537109375)]}, 19: {18: [('aca', 0.192138671875), ('early', 0.1915283203125), ('atori', 0.1893310546875), ('ica', 0.188232421875), (' all', 0.1820068359375)], 25: [('жо', 0.912109375), ('�乐', 0.88525390625), ('URE', 0.8642578125), ('urant', 0.83251953125), ('uren', 0.83154296875)], 27: [('IME', 0.2174072265625), ('arian', 0.2010498046875), ('otor', 0.196533203125), ('virtualbox', 0.192138671875), ('сители', 0.1776123046875)], 32: [(' themselves', 0.341796875), ('on', 0.330322265625), ('ou', 0.32373046875), ('om', 0.31640625), ('ides', 0.299560546875)], 40: [('клопе', 0.246826171875), ('ionar', 0.24658203125), ('колкото', 0.234130859375), ('рат', 0.2244873046875), ('isode', 0.2235107421875)], 42: [('uvi', 0.2088623046875), ('мах', 0.1544189453125), ('得意', 0.1512451171875), ('pter', 0.1492919921875), (' спи', 0.149169921875)]}, 8: {39: [('adesh', 0.27587890625), ('觉', 0.249755859375), ('рон', 0.237548828125), ('ьон', 0.2357177734375), ('rema', 0.2318115234375)], 45: [('ssil', 1.48828125), ('ialis', 1.43359375), ('bros', 1.388671875), ('pides', 1.37890625), (']{.', 1.26171875)], 46: [('cerem', 1.171875), ('atius', 1.1630859375), (' $+$', 1.162109375), ('窝', 1.1240234375), ('atis', 1.12109375)], 51: [('vies', 0.297119140625), ('mson', 0.28173828125), ('onstr', 0.279541015625), ('onar', 0.2763671875), ('garia', 0.271728515625)], 57: [('Clase', 0.3154296875), ('ustrious', 0.29736328125), (' Classes', 0.29248046875), ('grese', 0.2783203125), ('flu', 0.271484375)], 58: [(' поет', 0.1439208984375), ('ensem', 0.1353759765625), ('� ', 0.1297607421875), ('ates', 0.129638671875), (' Димитров', 0.129150390625)]}}\n",
      "Shared expert predictions: [[('默默', 0.58203125), ('WL', 0.57958984375), ('穿梭', 0.5546875), ('儿', 0.5517578125), ('ugosl', 0.5498046875)], [('�乐', 1.1181640625), ('<\\\\/', 0.7158203125), ('鸟', 0.70263671875), ('apl', 0.6982421875), ('ента', 0.69775390625)], [('�乐', 1.1513671875), ('ownt', 0.982421875), ('rains', 0.955078125), ('��', 0.93603515625), ('xiu', 0.9091796875)], [('Rationals', 1.1240234375), ('�乐', 1.0673828125), ('indeed', 1.056640625), ('rnd', 1.021484375), ('奕', 1.009765625)], [('ibil', 0.98681640625), ('hend', 0.90185546875), ('дова', 0.8955078125), ('mmc', 0.8671875), ('bris', 0.8515625)], [('english', 1.6181640625), ('Английски', 1.515625), (' английски', 1.4580078125), ('English', 1.4443359375), (' англий', 1.306640625)], [('吸取', 1.0009765625), ('endem', 0.99609375), ('ivar', 0.91748046875), ('arques', 0.890625), (' mar', 0.8896484375)], [('憧憬', 1.078125), ('neig', 1.0751953125), ('чва', 1.072265625), ('固执', 1.072265625), ('诡', 1.0654296875)], [('�乐', 1.271484375), ('gra', 1.001953125), ('ajar', 0.9638671875), ('方', 0.91796875), ('xD', 0.8935546875)], [('gb', 1.0947265625), ('(#', 1.07421875), ('�', 1.0419921875), (' n', 1.0380859375), (' contrari', 0.96826171875)], [('istr', 1.060546875), ('sever', 1.009765625), ('坚持', 0.9345703125), ('jov', 0.9248046875), ('颜色', 0.86865234375)], [('\\xa0', 1.10546875), (\" '\", 1.09765625), ('...', 1.0810546875), ('[...]', 1.013671875), ('--', 1.01171875)], [('2', 1.1796875), (' s', 1.06640625), ('Real', 1.0576171875), ('Re', 1.04296875), (' \"', 1.0419921875)], [('涂', 0.97998046875), ('gem', 0.865234375), ('asher', 0.85546875), ('istat', 0.85400390625), (' roda', 0.84326171875)], [('最好的', 1.3564453125), ('ucode', 1.3017578125), ('涯', 1.236328125), (' най', 1.1904296875), ('hing', 1.17578125)], [('best', 4.640625), ('Best', 4.55859375), ('最好的', 4.234375), (' лу', 4.23046875), ('最佳', 4.0078125)], [(' наи', 2.244140625), ('最好的', 2.19921875), (' най', 2.119140625), ('best', 2.1171875), ('Best', 2.0390625)], [(' because', 1.3759765625), ('because', 1.3154296875), (' bec', 1.216796875), ('8', 1.1845703125), ('3', 1.173828125)], [('unga', 1.0634765625), ('lum', 1.041015625), ('ixa', 1.015625), ('assa', 0.9482421875), (' кал', 0.9453125)], [(' because', 1.5029296875), (' due', 1.3330078125), ('because', 1.2998046875), ('Because', 1.21875), ('监', 1.158203125)], [(' ', 1.5166015625), ('漂', 1.3291015625), (' -', 1.3193359375), (' (', 1.2646484375), ('loop', 1.263671875)], [(' -', 1.3681640625), (' \"', 1.3427734375), (' ...', 1.216796875), (' ', 1.2060546875), ('...', 1.1376953125)]]\n",
      "\n",
      "MoE Layer 20:\n",
      "Selected experts: [[15, 53, 59, 49, 30, 40], [34, 22, 2, 16, 21, 35], [58, 21, 2, 22, 27, 1], [58, 50, 55, 27, 13, 54], [31, 61, 9, 13, 26, 40], [54, 29, 2, 48, 5, 42], [31, 61, 13, 53, 2, 21], [16, 31, 60, 62, 48, 22], [58, 27, 21, 24, 28, 35], [26, 1, 27, 17, 55, 58], [10, 20, 51, 33, 1, 42], [20, 43, 8, 52, 50, 19], [52, 50, 42, 49, 30, 23], [31, 26, 52, 45, 5, 50], [16, 10, 48, 19, 62, 25], [51, 27, 24, 1, 18, 20], [30, 20, 37, 42, 51, 15], [50, 15, 19, 40, 14, 43], [29, 44, 26, 42, 27, 19], [19, 40, 44, 47, 57, 26], [19, 26, 51, 5, 9, 42], [42, 19, 5, 14, 30, 29]]\n",
      "Expert weights: [[0.458740234375, 0.0236053466796875, 0.0311279296875, 0.042327880859375, 0.0232696533203125, 0.019744873046875], [0.057403564453125, 0.07598876953125, 0.12274169921875, 0.087890625, 0.05303955078125, 0.044189453125], [0.1514892578125, 0.0888671875, 0.0650634765625, 0.057220458984375, 0.05426025390625, 0.038909912109375], [0.1202392578125, 0.03912353515625, 0.04376220703125, 0.09075927734375, 0.03765869140625, 0.03765869140625], [0.0791015625, 0.07415771484375, 0.052581787109375, 0.04541015625, 0.044219970703125, 0.044189453125], [0.052947998046875, 0.08514404296875, 0.09149169921875, 0.05755615234375, 0.05230712890625, 0.040557861328125], [0.10894775390625, 0.0457763671875, 0.035980224609375, 0.03009033203125, 0.025238037109375, 0.024627685546875], [0.10125732421875, 0.28466796875, 0.0694580078125, 0.034027099609375, 0.03076171875, 0.030029296875], [0.073486328125, 0.057891845703125, 0.056732177734375, 0.04803466796875, 0.043121337890625, 0.032196044921875], [0.10980224609375, 0.040863037109375, 0.031402587890625, 0.02899169921875, 0.264892578125, 0.028167724609375], [0.10089111328125, 0.06884765625, 0.058441162109375, 0.057373046875, 0.044464111328125, 0.038848876953125], [0.07696533203125, 0.08477783203125, 0.039276123046875, 0.052093505859375, 0.04754638671875, 0.039154052734375], [0.06011962890625, 0.0496826171875, 0.1641845703125, 0.046905517578125, 0.046844482421875, 0.044830322265625], [0.07049560546875, 0.04815673828125, 0.03515625, 0.033599853515625, 0.02960205078125, 0.0288848876953125], [0.2078857421875, 0.10595703125, 0.0557861328125, 0.036407470703125, 0.034881591796875, 0.0313720703125], [0.1317138671875, 0.120361328125, 0.04815673828125, 0.04193115234375, 0.034210205078125, 0.028900146484375], [0.29345703125, 0.06768798828125, 0.043701171875, 0.04071044921875, 0.03631591796875, 0.03216552734375], [0.057830810546875, 0.042236328125, 0.2047119140625, 0.1168212890625, 0.031494140625, 0.0307159423828125], [0.094482421875, 0.2144775390625, 0.1324462890625, 0.0648193359375, 0.06329345703125, 0.046661376953125], [0.296142578125, 0.178955078125, 0.07049560546875, 0.04498291015625, 0.0276336669921875, 0.023681640625], [0.35546875, 0.04736328125, 0.0323486328125, 0.04852294921875, 0.0303955078125, 0.0262908935546875], [0.2247314453125, 0.076904296875, 0.06488037109375, 0.06298828125, 0.04827880859375, 0.041717529296875]]\n",
      "Combined output tokens: [[('=\"../_', 0.646484375), (\"}'_\", 0.58544921875), ('�起', 0.5712890625), (' gu', 0.568359375), ('bes', 0.55126953125)], [('ched', 1.6552734375), ('iders', 1.4931640625), ('лова', 1.4658203125), ('段', 1.4287109375), ('стън', 1.392578125)], [(']-->', 2.150390625), ('uche', 2.09375), ('ionat', 2.080078125), ('anteria', 2.0625), ('ionals', 2.060546875)], [('aulay', 3.021484375), ('phins', 2.88671875), ('DOCKED', 2.85546875), (' Хърват', 2.78125), (' същест', 2.7109375)], [(' Ev', 1.3818359375), ('ulats', 1.37890625), ('ailability', 1.375), ('动', 1.365234375), ('是非', 1.279296875)], [('利物', 1.9892578125), ('insserv', 1.974609375), ('сау', 1.9453125), ('CPTR', 1.916015625), ('enegro', 1.9140625)], [(\"}$'\", 1.69921875), ('ikip', 1.6171875), ('orters', 1.59765625), ('abilitat', 1.572265625), ('ategy', 1.55859375)], [('сал', 3.46875), (' var', 3.32421875), ('theore', 3.29296875), ('сто', 3.205078125), ('){$', 3.091796875)], [('ISA', 1.5654296875), ('AGA', 1.4169921875), ('YA', 1.4169921875), ('吸取', 1.3896484375), (' requer', 1.37890625)], [('erella', 3.091796875), ('getFirst', 3.03515625), ('пло', 3.009765625), ('ikers', 2.93359375), (' jesu', 2.9140625)], [('вода', 1.2998046875), ('�', 1.2421875), ('сли', 1.2099609375), ('atas', 1.173828125), ('�', 1.130859375)], [(' o', 1.333984375), ('汲', 1.306640625), (' b', 1.2861328125), (' ...', 1.28125), ('[...]', 1.26953125)], [('orth', 2.728515625), ('纪', 2.5078125), ('мика', 2.46484375), ('тика', 2.384765625), ('land', 2.37109375)], [('itatively', 1.0703125), (' tronc', 1.0537109375), ('铜', 1.03125), ('лона', 1.0302734375), ('「', 1.0205078125)], [('>', 4.02734375), ('〉', 3.990234375), ('>>', 3.734375), (']>', 3.591796875), ('ловения', 3.5234375)], [('Македония', 3.7578125), ('endem', 3.568359375), ('[--', 3.509765625), (' materna', 3.46875), ('的超', 3.2890625)], [('печат', 2.90234375), ('чният', 2.833984375), ('冷', 2.763671875), ('rai', 2.734375), ('HOO', 2.720703125)], [('ur', 6.3828125), ('urs', 5.96875), ('ure', 5.671875), ('ures', 5.59765625), ('URE', 4.9453125)], [('imuth', 4.03515625), ('FER', 3.783203125), (' just', 3.736328125), (' remains', 3.693359375), ('\\tis', 3.591796875)], [('er', 8.453125), ('ant', 7.9765625), ('era', 7.66796875), (' enc', 6.5234375), ('z', 6.203125)], [(' enc', 7.34765625), ('Enc', 5.9375), ('enc', 5.4765625), (' Enc', 5.39453125), ('ъм', 4.98828125)], [('wait', 4.17578125), (' Come', 3.744140625), ('陆', 3.740234375), (' Came', 3.716796875), (' Ex', 3.53125)]]\n",
      "Expert predictions by position: {2: {1: [('кана', 0.359375), ('таря', 0.33251953125), (' live', 0.3125), ('кани', 0.308837890625), ('verde', 0.301025390625)], 2: [('kde', 0.467529296875), ('ouns', 0.460205078125), ('gica', 0.454345703125), (' Lauder', 0.447265625), (' Altium', 0.424560546875)], 21: [('alties', 0.22900390625), ('乎', 0.224609375), ('ANCH', 0.2220458984375), ('liu', 0.220458984375), (' Meridional', 0.2188720703125)], 22: [('CodeAttribute', 0.36669921875), (' ID', 0.35205078125), ('евру', 0.3447265625), ('obal', 0.344482421875), ('xid', 0.327392578125)], 27: [('other', 0.78076171875), (' other', 0.76806640625), (' otras', 0.7265625), (' други', 0.7021484375), (' otros', 0.6953125)], 58: [('rotron', 1.7021484375), ('onoi', 1.583984375), ('cic', 1.5400390625), ('logen', 1.5244140625), ('rrer', 1.5009765625)]}, 9: {1: [('sparse', 0.341552734375), ('ovi', 0.333984375), ('ffe', 0.323974609375), ('йца', 0.322998046875), (' синте', 0.316162109375)], 17: [('enthal', 0.234130859375), ('irl', 0.20458984375), ('oft', 0.2041015625), ('zon', 0.1910400390625), ('于此', 0.1905517578125)], 26: [('to', 0.93017578125), (' to', 0.92333984375), ('рали', 0.81201171875), ('To', 0.7978515625), (' To', 0.78271484375)], 27: [('ipher', 1.3115234375), ('inea', 1.216796875), (' Day', 1.212890625), ('嗽', 1.197265625), ('teriors', 1.189453125)], 55: [('盘', 0.357177734375), ('ousk', 0.345458984375), ('规', 0.3310546875), ('Extract', 0.325927734375), ('8', 0.319580078125)], 58: [('ptu', 1.4794921875), ('ionat', 1.4189453125), ('евру', 1.3642578125), ('ider', 1.3544921875), ('ЕФА', 1.3330078125)]}, 10: {1: [('мати', 0.364501953125), (' mission', 0.30322265625), ('的语言', 0.282470703125), ('语言', 0.272216796875), ('bun', 0.26953125)], 10: [(' it', 0.75244140625), ('orn', 0.73876953125), ('ncy', 0.6865234375), (':', 0.6689453125), ('ORN', 0.611328125)], 20: [('endres', 0.466552734375), (' h', 0.463623046875), ('phinx', 0.436767578125), ('iza', 0.429931640625), ('itra', 0.410888671875)], 33: [('俪', 0.281494140625), ('icle', 0.2403564453125), ('ie', 0.2359619140625), (' Monroe', 0.233154296875), ('1', 0.2303466796875)], 42: [('陆', 3.310546875), (' Come', 3.046875), (' Came', 3.021484375), (' come', 2.94921875), ('wait', 2.93359375)], 51: [('�', 0.390625), (' subfam', 0.357177734375), ('ра', 0.34912109375), ('ntic', 0.338134765625), ('补', 0.3369140625)]}, 15: {1: [(' Interest', 0.446044921875), (' interests', 0.43896484375), ('interests', 0.41357421875), ('overn', 0.368408203125), ('Interest', 0.356201171875)], 18: [(' one', 0.55419921875), ('inche', 0.495849609375), ('one', 0.466064453125), ('riament', 0.443359375), (' fulla', 0.4375)], 20: [('pzc', 0.43798828125), ('swire', 0.430419921875), ('bole', 0.411376953125), ('IconError', 0.405029296875), ('FieldLocation', 0.392333984375)], 24: [('sics', 0.401611328125), ('xffff', 0.3955078125), ('::__', 0.377685546875), ('liche', 0.368408203125), ('://$', 0.3642578125)], 27: [('tingu', 0.448486328125), ('ElementType', 0.428955078125), (' списа', 0.414306640625), ('PSOE', 0.41357421875), ('obook', 0.410400390625)], 51: [('6', 0.3916015625), ('iman', 0.382568359375), ('播', 0.38037109375), ('百年', 0.376220703125), ('imap', 0.37451171875)]}, 1: {2: [('fr', 0.2415771484375), ('pt', 0.22802734375), ('деля', 0.221435546875), ('аз', 0.2203369140625), ('的车辆', 0.214599609375)], 16: [('�', 0.94677734375), (' used', 0.8310546875), ('�', 0.81787109375), ('>!', 0.81689453125), ('-)', 0.79833984375)], 21: [('arget', 0.2169189453125), ('targets', 0.208251953125), ('Tar', 0.20751953125), ('target', 0.1827392578125), ('хове', 0.1812744140625)], 22: [('db', 0.493896484375), ('DB', 0.4833984375), ('dbf', 0.47998046875), (' db', 0.47265625), ('客', 0.4365234375)], 34: [('hampton', 0.452392578125), ('::$', 0.449462890625), ('anan', 0.439208984375), (' Константинопол', 0.43212890625), (' Кей', 0.428955078125)], 35: [('рна', 0.298583984375), ('CALLBACK', 0.285400390625), ('%</', 0.282958984375), ('resse', 0.262451171875), ('egraphics', 0.25390625)]}, 5: {2: [('pt', 1.1083984375), ('en', 1.056640625), ('tua', 1.0205078125), ('de', 1.0), ('ca', 0.9658203125)], 5: [(' pre', 0.673828125), (' UNDER', 0.64599609375), (' under', 0.64208984375), ('oce', 0.63232421875), (' younger', 0.6220703125)], 29: [('appeared', 1.0869140625), ('yield', 1.05078125), ('appear', 0.9677734375), ('produ', 0.91748046875), (' produ', 0.90380859375)], 42: [('ixa', 0.359375), ('ixer', 0.300537109375), (' Kull', 0.2822265625), (' Escola', 0.27783203125), ('型的', 0.2763671875)], 48: [(' pacient', 0.484619140625), ('Jump', 0.47802734375), ('Revolution', 0.470458984375), ('ermita', 0.447021484375), (' опълченец', 0.431396484375)], 54: [('盆', 0.47509765625), ('��', 0.451171875), (' плоча', 0.435546875), (' завър', 0.4228515625), ('肠', 0.42236328125)]}, 6: {2: [('de', 1.0244140625), (' PO', 0.994140625), ('PO', 0.98828125), ('9', 0.927734375), ('5', 0.92236328125)], 13: [('TextNode', 0.2958984375), ('\\tline', 0.29345703125), ('agram', 0.2861328125), ('word', 0.283447265625), ('isher', 0.282958984375)], 21: [('TextNode', 0.444580078125), ('\\ttext', 0.4443359375), ('UTO', 0.42431640625), (' тек', 0.421142578125), ('ixa', 0.410400390625)], 31: [(' var', 3.26953125), ('eques', 2.888671875), ('сал', 2.845703125), ('alies', 2.736328125), (' Dim', 2.693359375)], 53: [('orell', 0.0621337890625), ('shiv', 0.057037353515625), ('нея', 0.05535888671875), ('�起', 0.054473876953125), ('aita', 0.05224609375)], 61: [(' \"', 0.40478515625), (' n', 0.3876953125), ('ulg', 0.34521484375), (' (', 0.33935546875), (' R', 0.335693359375)]}, 13: {5: [('det', 0.417724609375), ('vis', 0.408447265625), ('odb', 0.40673828125), ('arest', 0.4033203125), (' immedi', 0.380859375)], 26: [(' there', 1.4501953125), (' a', 1.328125), ('formats', 1.27734375), (' any', 1.2724609375), (' atribut', 1.248046875)], 31: [('注意', 0.68896484375), (' f', 0.65380859375), ('assertRaises', 0.64794921875), (' Note', 0.6474609375), (' Expected', 0.6298828125)], 45: [('ас', 0.114013671875), ('这个', 0.10882568359375), (' Еду', 0.103271484375), ('\\x0b', 0.10247802734375), ('рав', 0.0975341796875)], 50: [('actory', 0.103515625), ('prep', 0.10198974609375), (' prep', 0.09600830078125), ('eques', 0.09576416015625), ('出不', 0.0924072265625)], 52: [('指导', 0.084716796875), ('aje', 0.08453369140625), ('erg', 0.08428955078125), ('vo', 0.08306884765625), ('bit', 0.08294677734375)]}, 20: {5: [('DITION', 0.4765625), ('ITS', 0.43408203125), ('̶', 0.39501953125), ('观点或', 0.38671875), ('alion', 0.380126953125)], 9: [('厚', 0.237548828125), ('engo', 0.2210693359375), ('execuci', 0.2056884765625), ('指', 0.198974609375), (' Wide', 0.1982421875)], 19: [('-', 0.73779296875), ('ront', 0.421630859375), ('‑', 0.39013671875), ('keys', 0.389892578125), ('etre', 0.389404296875)], 26: [(' to', 0.484130859375), ('\\tto', 0.39453125), ('To', 0.34716796875), ('to', 0.344970703125), ('2', 0.340576171875)], 42: [('挑', 0.465576171875), ('点到', 0.447509765625), ('LICENSE', 0.445068359375), ('ляр', 0.433349609375), (' (--)', 0.431396484375)], 51: [('的超', 2.703125), ('ставка', 2.544921875), ('хайд', 2.458984375), ('烂', 2.447265625), ('amos', 2.392578125)]}, 21: {5: [(' ', 0.318603515625), (' m', 0.234130859375), (',', 0.2265625), (' form', 0.22265625), ('!', 0.217041015625)], 14: [('的是什么', 0.2073974609375), ('的呢', 0.195068359375), ('inum', 0.185302734375), ('的是', 0.184814453125), ('ymoon', 0.184326171875)], 19: [('lbrack', 0.310302734375), ('unta', 0.301513671875), (' бое', 0.287353515625), ('istine', 0.28662109375), ('amil', 0.281494140625)], 29: [('happen', 0.76025390625), (' happen', 0.73095703125), ('happened', 0.716796875), (' happens', 0.70947265625), (' happened', 0.658203125)], 30: [('itchen', 0.272216796875), ('opi', 0.263916015625), ('ottage', 0.263427734375), ('queda', 0.2548828125), ('dim', 0.248291015625)], 42: [(' be', 2.376953125), ('be', 2.140625), (' cree', 2.029296875), ('纪', 2.015625), (' Cree', 2.013671875)]}, 11: {8: [('折', 0.1619873046875), ('节的', 0.144287109375), ('пен', 0.141845703125), ('olis', 0.138427734375), ('节', 0.137939453125)], 19: [('ud', 0.6669921875), ('ic', 0.62841796875), ('ver', 0.60400390625), ('ien', 0.57177734375), ('i', 0.57080078125)], 20: [('азар', 0.533203125), (' полза', 0.50390625), ('ssic', 0.50390625), ('asma', 0.50146484375), ('sime', 0.485107421875)], 43: [('尼', 0.43994140625), ('纳', 0.39990234375), ('乌', 0.376953125), ('挺', 0.371337890625), ('uet', 0.353271484375)], 50: [('串', 0.27197265625), (' comm', 0.27001953125), (' enumerate', 0.23876953125), (' C', 0.2314453125), (' listings', 0.2310791015625)], 52: [('派出所', 0.223388671875), (' wand', 0.18505859375), ('蛋黄', 0.182861328125), ('1', 0.1827392578125), ('�乐', 0.1810302734375)]}, 4: {9: [('��', 0.41943359375), (' From', 0.389404296875), (' from', 0.387939453125), ('ловия', 0.3818359375), (' FROM', 0.3818359375)], 13: [('改', 0.38818359375), ('isher', 0.3779296875), ('деля', 0.340087890625), (' autone', 0.336669921875), ('lox', 0.336669921875)], 26: [('лист', 0.35498046875), (' in', 0.34130859375), ('rr', 0.32373046875), (' ferit', 0.299560546875), ('rable', 0.2958984375)], 31: [(' const', 1.154296875), (' var', 1.0390625), ('留', 0.9267578125), (' ex', 0.892578125), ('EXPECTED', 0.8720703125)], 40: [('ise', 0.07025146484375), ('ing', 0.0626220703125), ('izers', 0.060028076171875), ('ifiers', 0.059844970703125), ('ice', 0.059417724609375)], 61: [('junct', 0.186279296875), ('Sizes', 0.183349609375), ('bolds', 0.1829833984375), ('terness', 0.177978515625), ('rality', 0.177490234375)]}, 14: {10: [(' it', 1.3984375), (' there', 1.392578125), ('it', 1.3212890625), ('there', 1.259765625), (' THERE', 1.2333984375)], 16: [('>', 4.203125), ('〉', 3.830078125), (')>', 3.703125), ('>>', 3.59375), (']>', 3.44921875)], 19: [(' enc', 5.97265625), ('ant', 5.75390625), ('z', 5.60546875), ('er', 5.55078125), (' tou', 5.53515625)], 25: [('H', 0.32080078125), ('TM', 0.3154296875), ('THE', 0.300537109375), (' H', 0.30029296875), ('皇帝', 0.28857421875)], 48: [('ajo', 0.287841796875), ('Мар', 0.27490234375), ('avel', 0.247314453125), ('暂', 0.233642578125), ('9', 0.2259521484375)], 62: [('ossos', 0.364013671875), ('so', 0.355224609375), (' my', 0.3388671875), ('\\tmy', 0.322509765625), (' so', 0.31982421875)]}, 3: {13: [('мените', 0.2216796875), ('dehyde', 0.21630859375), (' aque', 0.209716796875), ('抹', 0.2076416015625), ('ube', 0.2022705078125)], 27: [('��', 0.2861328125), (' Кън', 0.2452392578125), (' Съеди', 0.2425537109375), (' job', 0.2274169921875), ('��', 0.2166748046875)], 50: [('s', 0.78955078125), (' s', 0.483642578125), ('S', 0.440673828125), ('ServiceProvider', 0.43994140625), ('tal', 0.437744140625)], 54: [(' Seny', 0.367431640625), (' drac', 0.35205078125), (' Botan', 0.31884765625), ('autore', 0.310791015625), ('autora', 0.3095703125)], 55: [('OLDER', 2.908203125), ('erella', 2.791015625), ('adder', 2.63671875), (' jesu', 2.49609375), (' Солу', 2.4375)], 58: [('чита', 0.1512451171875), ('))\\\\\\\\', 0.1478271484375), ('�起', 0.1431884765625), (' destro', 0.138916015625), (' copa', 0.1380615234375)]}, 17: {14: [('клю', 0.55615234375), ('asci', 0.53955078125), ('podes', 0.53466796875), ('�起', 0.5244140625), (' Conference', 0.51513671875)], 15: [('七', 0.155029296875), (' Nine', 0.154296875), ('irons', 0.1492919921875), (' nine', 0.14794921875), (' seven', 0.1451416015625)], 19: [(' enc', 6.3671875), ('Enc', 5.78125), ('enc', 5.30078125), (' Enc', 5.08203125), ('ect', 4.8203125)], 40: [('er', 3.166015625), ('ant', 2.658203125), ('erol', 2.408203125), ('ea', 2.36328125), ('eble', 2.3515625)], 43: [('incar', 0.1392822265625), ('ZA', 0.12744140625), ('imales', 0.12310791015625), ('laces', 0.1214599609375), ('=\"@{', 0.119873046875)], 50: [('istine', 0.2235107421875), (' NE', 0.213623046875), ('i', 0.207763671875), ('ra', 0.2001953125), ('n', 0.197265625)]}, 0: {15: [('стани', 0.2138671875), ('olat', 0.175537109375), (' ул', 0.1708984375), ('oly', 0.1634521484375), ('stackexchange', 0.1595458984375)], 30: [('ille', 2.908203125), ('нето', 2.796875), ('ILLE', 2.7421875), ('LOY', 2.541015625), ('ickle', 2.51953125)], 40: [('urants', 1.9990234375), ('urant', 1.806640625), ('ndum', 1.7734375), ('oleon', 1.7548828125), ('urat', 1.70703125)], 49: [('perty', 0.2362060546875), ('retty', 0.225830078125), ('estil', 0.1917724609375), ('�', 0.1915283203125), (' r', 0.187744140625)], 53: [('ugues', 0.1436767578125), ('ukh', 0.1383056640625), ('失落', 0.134765625), ('applied', 0.1343994140625), ('tesi', 0.1309814453125)], 59: [('�起', 0.0498046875), ('ordial', 0.043609619140625), ('Dele', 0.04296875), ('�', 0.042633056640625), (' degree', 0.04248046875)]}, 16: {15: [(\" '\", 0.1551513671875), ('倍', 0.144287109375), (' `', 0.1434326171875), ('рю', 0.1431884765625), (' [', 0.1417236328125)], 20: [('3', 0.43408203125), ('jena', 0.4287109375), ('5', 0.4013671875), ('4', 0.393310546875), ('9', 0.384521484375)], 30: [('lles', 0.456298828125), ('reci', 0.436279296875), ('наги', 0.425537109375), ('нау', 0.404296875), ('нето', 0.387939453125)], 37: [('料', 0.367431640625), ('ложе', 0.337158203125), ('ин', 0.3349609375), ('arer', 0.324462890625), ('cre', 0.321044921875)], 42: [('scoring', 0.27490234375), ('ческа', 0.263916015625), ('matory', 0.25927734375), (' scoring', 0.252197265625), ('ska', 0.250732421875)], 51: [('incip', 0.28759765625), ('scarcely', 0.259521484375), (' strong', 0.25830078125), (' Strong', 0.2471923828125), ('strong', 0.2459716796875)]}, 7: {16: [('rest', 0.62109375), ('命运', 0.57275390625), ('chest', 0.56689453125), (' бро', 0.55224609375), ('home', 0.53955078125)], 22: [('\\tName', 0.260498046875), ('NameLink', 0.256103515625), ('orem', 0.2410888671875), ('innati', 0.2359619140625), ('姓名', 0.2340087890625)], 31: [(' print', 0.5634765625), ('print', 0.51611328125), ('预', 0.491455078125), ('特别声明', 0.47998046875), ('isma', 0.477294921875)], 48: [('Окръг', 0.41748046875), ('Strunz', 0.37353515625), ('Македония', 0.355224609375), ('сер', 0.35400390625), ('Roine', 0.353515625)], 60: [('\\tLet', 0.65283203125), ('ssers', 0.607421875), ('статъ', 0.58544921875), ('osure', 0.58349609375), ('phire', 0.57568359375)], 62: [('Which', 0.5029296875), (' which', 0.50048828125), ('which', 0.46044921875), (' Which', 0.45166015625), (' WHICH', 0.417724609375)]}, 18: {19: [('ur', 5.19921875), ('urs', 5.01171875), ('ure', 4.21484375), ('uria', 3.962890625), ('ures', 3.857421875)], 26: [(' in', 0.55419921875), ('stum', 0.495849609375), ('\\tin', 0.452392578125), ('ever', 0.445556640625), ('tia', 0.43115234375)], 27: [('icode', 0.95947265625), ('жите', 0.78759765625), ('ioses', 0.740234375), ('arum', 0.72314453125), ('嗽', 0.72119140625)], 29: [(' coming', 0.912109375), (' comes', 0.9111328125), (' Come', 0.89453125), ('Come', 0.8896484375), (' come', 0.87939453125)], 42: [('времен', 0.34326171875), ('mxd', 0.302734375), ('ASK', 0.2939453125), ('временно', 0.270751953125), ('野', 0.269287109375)], 44: [('ils', 0.9580078125), ('逢', 0.80859375), ('ilst', 0.7705078125), ('onese', 0.75), ('iza', 0.72998046875)]}, 19: {19: [('s', 1.5166015625), ('ud', 1.4951171875), ('8', 1.4609375), ('6', 1.41015625), ('5', 1.376953125)], 26: [('4', 1.99609375), ('0', 1.7744140625), ('9', 1.7255859375), ('8', 1.7060546875), ('aran', 1.638671875)], 40: [('ured', 0.4658203125), ('ual', 0.463134765625), ('uals', 0.436279296875), ('ural', 0.4345703125), ('uring', 0.42919921875)], 44: [('imuth', 2.78515625), (' restar', 2.765625), ('aland', 2.6171875), ('pera', 2.58203125), ('лива', 2.5546875)], 47: [('erland', 0.37255859375), (' Campi', 0.3466796875), ('phia', 0.342041015625), ('iak', 0.322265625), ('lucene', 0.319580078125)], 57: [('�', 0.229736328125), ('odeset', 0.224609375), ('爆炸', 0.2230224609375), ('alion', 0.2174072265625), ('pulseaudio', 0.216064453125)]}, 8: {21: [(' SLA', 0.26708984375), ('毂', 0.26416015625), ('ού', 0.260009765625), ('sey', 0.256103515625), ('ji', 0.25390625)], 24: [('iceroy', 0.1826171875), ('东方', 0.1822509765625), ('inea', 0.18115234375), (' изигра', 0.1805419921875), ('著', 0.1802978515625)], 27: [('icae', 1.0673828125), ('циално', 1.0615234375), ('ifices', 1.0537109375), ('quei', 1.05078125), ('imales', 1.0498046875)], 28: [(' program', 0.32373046875), ('сор', 0.309814453125), (' Program', 0.30224609375), ('颠', 0.28955078125), ('鞠', 0.286865234375)], 35: [('\\\\,', 0.159912109375), ('~', 0.155029296875), ('\\\\', 0.1512451171875), ('(', 0.1502685546875), ('{}', 0.1407470703125)], 58: [(' ID', 0.396484375), ('анд', 0.384765625), ('谋', 0.3837890625), ('стрел', 0.380126953125), ('ll', 0.377685546875)]}, 12: {23: [('ange', 0.273681640625), ('长', 0.2666015625), ('胜', 0.260986328125), (' naturals', 0.251953125), ('走', 0.248046875)], 30: [('set', 0.042205810546875), ('id', 0.041961669921875), ('cos', 0.041168212890625), ('еку', 0.0411376953125), ('ide', 0.03936767578125)], 42: [('9', 0.342041015625), ('2', 0.315185546875), ('4', 0.310546875), ('3', 0.308349609375), ('7', 0.305419921875)], 49: [(' set', 0.1300048828125), ('set', 0.12225341796875), ('Set', 0.1121826171875), ('*}[!', 0.10772705078125), ('enser', 0.10565185546875)], 50: [('明的', 0.220458984375), ('明', 0.2137451171875), ('jetty', 0.207763671875), ('能量', 0.20458984375), (' brood', 0.203857421875)], 52: [('coln', 0.1904296875), ('нема', 0.1787109375), ('seg', 0.16796875), ('UT', 0.166015625), ('SEPARATOR', 0.164306640625)]}}\n",
      "Shared expert predictions: [[('=\"../_', 0.40478515625), ('_-(', 0.37744140625), ('bes', 0.37548828125), (' gu', 0.358154296875), (' Ends', 0.355712890625)], [('ugosl', 1.197265625), ('idera', 1.0595703125), (' Голя', 1.0361328125), (' \\\\,,', 1.0068359375), ('idesa', 1.005859375)], [('пло', 0.9921875), (\">'+\", 0.9794921875), ('googleads', 0.943359375), ('节', 0.92138671875), (' D', 0.91845703125)], [('��', 1.2353515625), ('_{_\\\\', 1.2001953125), ('_{_{', 1.1650390625), ('CLUD', 1.162109375), ('_{_{\\\\', 1.1611328125)], [('ţ', 0.9892578125), ('bodies', 0.9853515625), ('consist', 0.98095703125), ('ailability', 0.98095703125), (' //-->', 0.96533203125)], [('MvvmCross', 1.390625), ('AIPS', 1.314453125), ('insserv', 1.294921875), ('Azerbaidjan', 1.2490234375), ('TOOLSET', 1.2412109375)], [('ategy', 1.529296875), (' Llengu', 1.4326171875), ('onada', 1.42578125), ('bootstrapcdn', 1.38671875), ('headerlink', 1.3779296875)], [('「', 1.2412109375), ('“', 1.2099609375), (' \"', 1.0859375), (' «', 1.056640625), (' \"#{', 1.009765625)], [('扭转', 1.1640625), ('吸取', 1.1298828125), (' Comen', 1.0859375), ('ANA', 1.06640625), ('bridge', 1.0654296875)], [('粗', 0.9931640625), ('一心', 0.97802734375), ('RL', 0.96728515625), ('ZW', 0.91552734375), ('ently', 0.90478515625)], [('┈┈', 0.92529296875), ('��', 0.88037109375), (' cura', 0.8740234375), ('ATA', 0.8603515625), ('мера', 0.85888671875)], [('ition', 1.1240234375), ('1', 1.0859375), ('汲', 1.0146484375), (' ...', 1.001953125), ('弄', 0.99755859375)], [('abb', 1.099609375), ('гри', 1.0341796875), ('ges', 0.96337890625), ('гли', 0.9462890625), ('arus', 0.9150390625)], [('itatively', 1.1142578125), ('跃', 1.0576171875), (' \"\\'', 1.03125), ('「', 0.962890625), ('铜', 0.94921875)], [('_{_{\\\\', 1.8212890625), ('HCI', 1.6767578125), ('ловения', 1.6220703125), ('_{_\\\\', 1.580078125), ('pica', 1.556640625)], [('wered', 1.8203125), ('nqu', 1.72265625), ('始终坚持', 1.6318359375), ('ucode', 1.6298828125), ('mdc', 1.6298828125)], [('stock', 1.1044921875), (' estel', 1.0556640625), ('孤独', 1.0146484375), ('atively', 1.0009765625), (' S', 0.97412109375)], [('\\ufeff\\ufeff\\ufeff\\ufeff', 1.26953125), ('mathbold', 1.2177734375), (' Него', 1.1513671875), ('etapes', 1.1435546875), ('arbre', 1.109375)], [('bionic', 1.353515625), ('GUID', 1.3525390625), ('asta', 1.328125), ('ugosl', 1.3095703125), ('visi', 1.271484375)], [('UNUSED', 1.2490234375), ('吸取', 1.2294921875), ('aix', 1.177734375), ('机', 1.1240234375), ('кре', 1.080078125)], [('kea', 1.5224609375), (' отра', 1.453125), (' чу', 1.4228515625), (' feather', 1.3720703125), ('rone', 1.34765625)], [('lig', 1.1845703125), ('vos', 1.1416015625), (' cuales', 1.1396484375), ('\\ufeff\\ufeff\\ufeff\\ufeff', 1.138671875), (' gra', 1.119140625)]]\n",
      "\n",
      "MoE Layer 21:\n",
      "Selected experts: [[16, 31, 59, 29, 48, 43], [7, 39, 30, 62, 9, 42], [41, 21, 7, 18, 9, 37], [7, 21, 5, 18, 10, 9], [10, 47, 42, 28, 39, 22], [0, 3, 7, 9, 62, 16], [47, 28, 42, 62, 10, 39], [45, 40, 30, 42, 9, 37], [18, 16, 41, 9, 37, 30], [21, 9, 18, 42, 32, 52], [14, 8, 26, 32, 6, 42], [50, 26, 8, 31, 49, 20], [31, 35, 3, 11, 48, 15], [42, 47, 28, 51, 49, 11], [42, 14, 45, 16, 48, 40], [16, 18, 34, 21, 5, 8], [4, 34, 31, 2, 61, 27], [4, 62, 11, 35, 52, 51], [33, 32, 58, 21, 42, 5], [32, 33, 2, 4, 26, 51], [26, 42, 57, 34, 8, 14], [34, 48, 3, 19, 58, 14]]\n",
      "Expert weights: [[0.6640625, 0.022979736328125, 0.0178680419921875, 0.01377105712890625, 0.0111236572265625, 0.01079559326171875], [0.1689453125, 0.12432861328125, 0.0675048828125, 0.059783935546875, 0.04168701171875, 0.040496826171875], [0.055633544921875, 0.0416259765625, 0.1531982421875, 0.10711669921875, 0.0726318359375, 0.033172607421875], [0.054962158203125, 0.08203125, 0.06341552734375, 0.047515869140625, 0.046173095703125, 0.044952392578125], [0.11151123046875, 0.0794677734375, 0.0706787109375, 0.03765869140625, 0.0850830078125, 0.0307159423828125], [0.082763671875, 0.10150146484375, 0.06439208984375, 0.043365478515625, 0.040557861328125, 0.0293426513671875], [0.06390380859375, 0.043853759765625, 0.0865478515625, 0.029083251953125, 0.112060546875, 0.0276336669921875], [0.143798828125, 0.05841064453125, 0.042816162109375, 0.037200927734375, 0.032989501953125, 0.03106689453125], [0.1519775390625, 0.091552734375, 0.0628662109375, 0.043365478515625, 0.03753662109375, 0.03631591796875], [0.1375732421875, 0.0562744140625, 0.045806884765625, 0.042449951171875, 0.0330810546875, 0.031707763671875], [0.07342529296875, 0.16455078125, 0.079345703125, 0.054901123046875, 0.03668212890625, 0.0288848876953125], [0.06353759765625, 0.07147216796875, 0.07568359375, 0.09735107421875, 0.0458984375, 0.0406494140625], [0.05560302734375, 0.057586669921875, 0.0538330078125, 0.051971435546875, 0.045745849609375, 0.033416748046875], [0.1348876953125, 0.0699462890625, 0.045806884765625, 0.04376220703125, 0.043212890625, 0.031402587890625], [0.03839111328125, 0.13671875, 0.10662841796875, 0.033294677734375, 0.09375, 0.028411865234375], [0.07928466796875, 0.0843505859375, 0.0770263671875, 0.0574951171875, 0.051788330078125, 0.050140380859375], [0.1297607421875, 0.16064453125, 0.1234130859375, 0.053741455078125, 0.041290283203125, 0.03985595703125], [0.10931396484375, 0.053375244140625, 0.04931640625, 0.048980712890625, 0.04840087890625, 0.04254150390625], [0.203857421875, 0.1988525390625, 0.058319091796875, 0.04498291015625, 0.0423583984375, 0.033782958984375], [0.056396484375, 0.147705078125, 0.2425537109375, 0.06591796875, 0.045684814453125, 0.034027099609375], [0.1925048828125, 0.045623779296875, 0.04364013671875, 0.04058837890625, 0.032562255859375, 0.0305633544921875], [0.265625, 0.1724853515625, 0.10711669921875, 0.055328369140625, 0.033599853515625, 0.030914306640625]]\n",
      "Combined output tokens: [[('heses', 2.279296875), ('}$~\\\\', 2.201171875), ('childnode', 2.138671875), ('anzas', 2.037109375), ('ismes', 1.955078125)], [('户口', 1.603515625), ('类', 1.5693359375), ('itaris', 1.49609375), ('anda', 1.4814453125), ('sos', 1.4619140625)], [(' s', 2.51953125), (' f', 2.099609375), ('isi', 2.029296875), ('观念', 2.021484375), ('乏', 1.9951171875)], [('mered', 1.96875), ('nex', 1.8154296875), (' pro', 1.8134765625), ('光明', 1.7958984375), ('铭', 1.7822265625)], [(' n', 2.408203125), ('reals', 2.244140625), ('Pb', 2.150390625), (' така', 2.111328125), ('SOs', 2.048828125)], [('гре', 2.2734375), ('收', 2.265625), ('\\xad', 2.25390625), ('C', 2.203125), ('scar', 2.09375)], [('within', 2.6796875), ('bla', 2.474609375), ('for', 2.419921875), ('bodies', 2.322265625), ('Contracts', 2.22265625)], [('Mer', 3.037109375), ('Il', 3.029296875), ('La', 2.884765625), ('Les', 2.880859375), ('Je', 2.775390625)], [('venin', 3.552734375), ('YP', 2.927734375), ('уа', 2.884765625), ('AAAAAAAAAAAAAAAA', 2.841796875), ('煌', 2.82421875)], [('pings', 2.140625), ('уд', 1.912109375), ('сред', 1.91015625), ('ctors', 1.8994140625), ('repid', 1.880859375)], [('andes', 1.88671875), ('velope', 1.767578125), ('anded', 1.6904296875), ('icable', 1.6552734375), ('вле', 1.6513671875)], [(' beh', 1.9912109375), ('behind', 1.7919921875), ('пус', 1.7568359375), (' awa', 1.751953125), ('allo', 1.7314453125)], [(' come', 3.66796875), ('come', 3.658203125), ('Come', 3.607421875), (' Come', 3.384765625), ('COME', 2.861328125)], [('usercontent', 3.59765625), ('googleads', 3.375), ('._]', 3.36328125), ('.(\\\\', 3.337890625), ('OperationKind', 3.322265625)], [('ttl', 2.828125), ('lits', 2.734375), ('+}', 2.58984375), ('Il', 2.51953125), (' il', 2.5)], [('�', 1.96484375), ('账', 1.92578125), (' ly', 1.8291015625), ('coh', 1.7548828125), ('特殊的', 1.720703125)], [('spring', 2.833984375), ('ievers', 2.658203125), ('ises', 2.63671875), ('vent', 2.603515625), ('сен', 2.572265625)], [('orm', 2.173828125), ('or', 2.068359375), ('oret', 1.99609375), ('ort', 1.9150390625), ('ormal', 1.8720703125)], [('ifferent', 3.59375), ('asmuch', 3.3671875), ('=\"\"></', 3.36328125), ('’', 3.3046875), ('($.', 3.189453125)], [('eras', 4.88671875), ('单元', 4.58984375), ('vature', 4.55078125), ('批准', 4.4921875), ('e', 4.48046875)], [('ahead', 5.59765625), (' ahead', 5.53125), (' Ahead', 4.33984375), (' davant', 4.14453125), (' <!--[', 3.5546875)], [('ounds', 5.23828125), ('纺', 4.66796875), ('cogn', 4.6328125), ('come', 4.4765625), (' come', 4.4296875)]]\n",
      "Expert predictions by position: {5: {0: [('Pol', 0.68359375), (' olds', 0.6630859375), (' old', 0.65087890625), ('coh', 0.6494140625), ('Old', 0.64306640625)], 3: [(' come', 4.2421875), (' Come', 3.994140625), ('come', 3.94140625), ('Come', 3.90625), (' comes', 3.6015625)], 7: [('葩', 1.0302734375), ('жки', 0.966796875), ('reate', 0.96533203125), ('erenced', 0.93505859375), ('javase', 0.92724609375)], 9: [('�', 0.48583984375), (' OS', 0.4638671875), (' PC', 0.431396484375), (' Operating', 0.41015625), ('�', 0.405029296875)], 16: [('ст', 0.52490234375), ('obert', 0.51318359375), ('ilus', 0.50732421875), ('lor', 0.487060546875), ('empre', 0.48095703125)], 62: [(' en', 0.366455078125), ('stone', 0.36181640625), ('ливи', 0.359619140625), ('stones', 0.34912109375), ('FullName', 0.340087890625)]}, 16: {2: [('ене', 0.71923828125), ('gill', 0.607421875), ('omac', 0.607421875), ('Sants', 0.59716796875), ('ordinal', 0.5947265625)], 4: [('�乐', 1.22265625), ('蛋', 1.1982421875), ('ters', 1.146484375), ('UTE', 1.1005859375), ('滕', 1.0615234375)], 27: [('st', 0.478759765625), ('r', 0.39208984375), ('́', 0.370849609375), ('Abs', 0.37060546875), ('G', 0.35205078125)], 31: [('�', 0.3916015625), ('скография', 0.365478515625), ('5', 0.36181640625), ('nida', 0.361083984375), ('idera', 0.358154296875)], 34: [('dl', 0.446533203125), ('wa', 0.422119140625), ('cdc', 0.335205078125), ('bour', 0.328857421875), ('WA', 0.3251953125)], 61: [('monot', 0.3544921875), ('ibo', 0.338134765625), ('istram', 0.30712890625), ('ieving', 0.297119140625), ('into', 0.280517578125)]}, 19: {2: [('�起', 4.49609375), ('eras', 4.25), ('etype', 4.203125), ('e', 4.06640625), ('рист', 4.03515625)], 4: [('or', 2.1484375), ('ort', 1.724609375), ('OR', 1.666015625), ('orm', 1.546875), ('orb', 1.4794921875)], 26: [('ahead', 0.64208984375), (' pleth', 0.63525390625), ('хра', 0.57763671875), ('atches', 0.54931640625), ('ificance', 0.54345703125)], 32: [('IEEEeqnarray', 2.404296875), (' lay', 2.37109375), ('spath', 1.927734375), ('щем', 1.82421875), (' swiper', 1.7998046875)], 33: [('’', 4.0546875), (\"'\", 3.455078125), (\"\\\\'\", 2.57421875), ('rsquo', 2.279296875), ('нук', 2.279296875)], 51: [('agn', 0.20068359375), ('化', 0.1873779296875), ('bid', 0.1845703125), ('0', 0.1817626953125), ('3', 0.1761474609375)]}, 12: {3: [(' come', 3.83203125), ('come', 3.494140625), ('Come', 3.37109375), (' Come', 3.365234375), ('COME', 2.962890625)], 11: [('ames', 0.2353515625), ('aulay', 0.1943359375), ('glu', 0.1851806640625), ('AO', 0.1851806640625), ('公平', 0.18408203125)], 15: [('itives', 0.1441650390625), ('ipre', 0.1407470703125), ('rucci', 0.137451171875), ('acias', 0.135009765625), ('acteres', 0.130859375)], 31: [('igy', 0.039093017578125), ('рид', 0.038299560546875), ('anell', 0.035308837890625), ('ieri', 0.032867431640625), ('}$~\\\\', 0.03216552734375)], 35: [('错', 0.260986328125), ('een', 0.2296142578125), (' {$\\\\', 0.2274169921875), ('icker', 0.2266845703125), ('ncy', 0.224365234375)], 48: [('covery', 2.255859375), ('pread', 2.166015625), (' Hof', 1.9501953125), ('rites', 1.9169921875), ('iment', 1.9052734375)]}, 21: {3: [('speak', 1.880859375), (' speak', 1.751953125), ('2', 1.6767578125), ('3', 1.638671875), ('9', 1.619140625)], 14: [(' by', 0.51513671875), ('by', 0.45263671875), ('p', 0.360107421875), ('f', 0.32958984375), ('By', 0.322021484375)], 19: [('Hope', 0.5947265625), ('等待', 0.54736328125), ('await', 0.53955078125), ('anticip', 0.53271484375), ('hop', 0.53173828125)], 34: [('met', 1.720703125), ('дени', 1.6005859375), ('ins', 1.5068359375), ('ATIC', 1.5009765625), ('itx', 1.44921875)], 48: [('covery', 0.8564453125), ('iment', 0.80419921875), ('翼翼', 0.78759765625), ('Pre', 0.76708984375), (' Pre', 0.76123046875)], 58: [('only', 0.6728515625), ('herits', 0.62890625), ('illings', 0.5712890625), ('ONLY', 0.56787109375), (' only', 0.5625)]}, 17: {4: [('assos', 0.61572265625), ('neo', 0.57763671875), ('obar', 0.5673828125), ('upost', 0.5634765625), ('lgica', 0.556640625)], 11: [('赛', 0.137451171875), ('轮', 0.1201171875), ('赛中', 0.11285400390625), ('赛的', 0.11248779296875), ('ads', 0.0819091796875)], 35: [('orials', 0.293701171875), ('�乐', 0.239501953125), ('trude', 0.2373046875), ('uals', 0.236328125), ('бер', 0.234619140625)], 51: [('ogu', 0.2003173828125), ('of', 0.2001953125), ('oft', 0.2000732421875), ('立卡', 0.1895751953125), ('itr', 0.1871337890625)], 52: [('空', 0.31103515625), ('克萨斯', 0.279541015625), ('spots', 0.274658203125), ('spot', 0.2578125), ('рещ', 0.253173828125)], 62: [('coloured', 0.29248046875), ('colored', 0.2802734375), (' Col', 0.254638671875), (' coloured', 0.2479248046875), ('Color', 0.2479248046875)]}, 3: {5: [(' round', 0.607421875), ('run', 0.5712890625), ('round', 0.56005859375), ('Round', 0.53564453125), (' run', 0.49658203125)], 7: [('[--', 0.413818359375), ('obox', 0.35107421875), (' thead', 0.3349609375), ('或缺', 0.333740234375), ('blers', 0.307373046875)], 9: [(' C', 0.7392578125), ('java', 0.61572265625), ('C', 0.61083984375), ('ctors', 0.5625), (' Jav', 0.560546875)], 10: [('scriber', 0.6728515625), (' into', 0.63525390625), (' as', 0.61572265625), (' Broad', 0.60888671875), ('mits', 0.5732421875)], 18: [('4', 0.4658203125), ('8', 0.4599609375), ('2', 0.448974609375), ('3', 0.44287109375), ('orks', 0.43701171875)], 21: [(' pro', 1.373046875), ('pro', 1.349609375), ('Pro', 1.3125), (' Pro', 1.2431640625), ('Expressions', 1.2392578125)]}, 15: {5: [(' scene', 0.75537109375), (' sonora', 0.68212890625), ('rh', 0.65625), ('ango', 0.6494140625), (' Хари', 0.63916015625)], 8: [('利物', 0.31787109375), ('uckles', 0.2470703125), ('positor', 0.24267578125), ('ugar', 0.2425537109375), ('undry', 0.2291259765625)], 16: [(' arg', 0.23291015625), ('obert', 0.2174072265625), ('世', 0.2039794921875), ('arg', 0.2001953125), ('defeq', 0.1962890625)], 18: [(' passage', 0.673828125), ('passage', 0.65673828125), ('OperationKind', 0.626953125), ('WireFormat', 0.615234375), (' Passage', 0.60546875)], 21: [('生素', 1.5654296875), ('ousk', 1.5322265625), ('illings', 1.52734375), (' navegador', 1.505859375), ('repid', 1.48046875)], 34: [('ounds', 4.34765625), ('ussi', 3.794921875), ('up', 3.640625), ('管', 3.47265625), ('ime', 3.43359375)]}, 18: {5: [(' numbers', 0.40673828125), ('numbers', 0.38916015625), ('къ', 0.388671875), (' number', 0.385498046875), ('GeneratedMessage', 0.369384765625)], 21: [('iaci', 0.6083984375), (' elegir', 0.491943359375), (' факти', 0.47998046875), (' епо', 0.457275390625), (' parental', 0.455322265625)], 32: [('CLUD', 0.46923828125), ('�다', 0.4150390625), ('�', 0.404541015625), ('нима', 0.3994140625), ('答案', 0.3896484375)], 33: [('pel', 2.0390625), ('ousand', 1.9072265625), ('щат', 1.814453125), ('炒作', 1.8095703125), (' дават', 1.7763671875)], 42: [('usercontent', 2.9375), ('OperationKind', 2.923828125), ('ashian', 2.759765625), ('ezna', 2.712890625), (' Obj', 2.654296875)], 58: [(' Херцеговина', 0.290283203125), (' ръко', 0.283203125), ('alp', 0.27978515625), ('微', 0.27734375), ('kees', 0.273193359375)]}, 10: {6: [('基础', 0.383056640625), ('基', 0.36328125), ('的基础', 0.33349609375), ('кор', 0.266357421875), ('�', 0.260498046875)], 8: [('acin', 0.6845703125), ('ристи', 0.62939453125), ('Окръг', 0.59228515625), ('acord', 0.58740234375), ('trica', 0.58251953125)], 14: [(' otherwise', 0.77197265625), (' OTHERWISE', 0.74951171875), ('otherwise', 0.72119140625), ('USU', 0.57080078125), (' Otherwise', 0.54736328125)], 26: [(' ahead', 0.8095703125), ('ahead', 0.80810546875), (' Ahead', 0.6904296875), ('acles', 0.42578125), ('omet', 0.40673828125)], 32: [(' принос', 0.62548828125), ('лети', 0.6162109375), ('ход', 0.51611328125), ('юр', 0.505859375), ('列', 0.491943359375)], 42: [(' ', 0.640625), ('isode', 0.578125), ('…', 0.5634765625), (' reco', 0.55810546875), (' Tag', 0.552734375)]}, 1: {7: [('↓↓↓', 0.52783203125), ('ecut', 0.5166015625), ('clud', 0.51513671875), ('↓↓', 0.50634765625), ('enso', 0.497802734375)], 9: [('�', 0.448486328125), ('command', 0.43212890625), ('CommandLine', 0.389404296875), (' C', 0.38427734375), (' command', 0.381591796875)], 30: [('�', 0.326904296875), ('!/', 0.3212890625), ('�', 0.31005859375), ('钻石', 0.302734375), ('enza', 0.30029296875)], 39: [('ASA', 0.71923828125), ('стра', 0.68017578125), ('lemany', 0.6298828125), (' Needed', 0.59912109375), ('зар', 0.58935546875)], 42: [('�', 0.333984375), ('нд', 0.325439453125), ('стре', 0.319091796875), ('ън', 0.306884765625), ('amus', 0.30029296875)], 62: [(' en', 0.389404296875), ('��', 0.352294921875), ('enga', 0.348388671875), ('кратно', 0.321533203125), ('ренски', 0.320068359375)]}, 2: {7: [('Infos', 1.060546875), ('allclasses', 0.8623046875), ('�', 0.8466796875), ('荷叶', 0.826171875), ('那是', 0.806640625)], 9: [('ASP', 0.486083984375), ('py', 0.400634765625), ('python', 0.39404296875), ('�', 0.386474609375), (' изби', 0.37158203125)], 18: [('хайд', 0.9951171875), ('ChangeListener', 0.9833984375), (' експе', 0.9755859375), ('VAE', 0.9716796875), ('piter', 0.939453125)], 21: [('y', 0.74609375), ('DD', 0.5458984375), ('hap', 0.54443359375), ('h', 0.521484375), ('vert', 0.51904296875)], 37: [(' (', 0.339111328125), ('2', 0.2568359375), (' t', 0.252197265625), ('5', 0.244384765625), ('4', 0.236083984375)], 41: [('ercise', 0.47705078125), (' circle', 0.4453125), ('ially', 0.42919921875), ('形', 0.4267578125), ('itars', 0.41064453125)]}, 11: {8: [(' aC', 0.437255859375), ('堰', 0.3876953125), ('кана', 0.37109375), ('ttp', 0.366455078125), ('astery', 0.365478515625)], 20: [(' Souls', 0.254638671875), (' coast', 0.2310791015625), ('ault', 0.21142578125), ('sor', 0.2049560546875), (' Coast', 0.19677734375)], 26: [('ahead', 1.5341796875), (' ahead', 1.3310546875), (' Ahead', 1.2978515625), ('behind', 1.07421875), (' behind', 0.93408203125)], 31: [('кция', 0.7353515625), ('ponible', 0.71240234375), ('举', 0.68994140625), ('乡村', 0.6845703125), ('族', 0.67578125)], 49: [('гови', 0.406005859375), ('PIO', 0.39013671875), ('bum', 0.37744140625), ('stall', 0.371337890625), ('ollers', 0.368408203125)], 50: [('away', 0.830078125), (' away', 0.77001953125), ('off', 0.73828125), (' Away', 0.685546875), ('OFF', 0.64794921875)]}, 20: {8: [('emed', 1.041015625), ('andes', 1.021484375), ('бло', 1.017578125), ('ellington', 0.99560546875), ('antrop', 0.9873046875)], 14: [('sir', 1.375), ('veless', 1.353515625), ('atzem', 1.310546875), ('块', 1.3076171875), ('矩', 1.3017578125)], 26: [('ahead', 5.55859375), (' ahead', 5.39453125), (' Ahead', 4.44140625), (' davant', 3.80078125), ('имна', 3.001953125)], 34: [(' v', 0.826171875), ('анд', 0.8173828125), (' vi', 0.6787109375), ('след', 0.67431640625), ('dressing', 0.65283203125)], 42: [(' _', 0.430419921875), ('ENC', 0.4248046875), ('”', 0.37158203125), ('edo', 0.3603515625), ('рио', 0.353515625)], 57: [('afel', 0.324462890625), ('sona', 0.30224609375), ('Documento', 0.275390625), ('там', 0.267578125), ('ското', 0.26513671875)]}, 7: {9: [(' C', 1.255859375), ('C', 1.0927734375), ('\\tC', 0.86328125), (' c', 0.79443359375), ('machine', 0.76806640625)], 30: [('роко', 0.298095703125), ('bai', 0.27880859375), ('晰', 0.26806640625), (' Hello', 0.2568359375), ('пте', 0.253173828125)], 37: [(' Y', 0.38330078125), (' y', 0.35009765625), (' (', 0.3212890625), ('y', 0.3154296875), (' L', 0.283447265625)], 40: [('�', 0.436279296875), ('cipline', 0.427978515625), ('hement', 0.423828125), ('Се', 0.407470703125), ('囤', 0.404052734375)], 42: [('  ', 0.92138671875), ('isode', 0.73046875), ('ref', 0.7197265625), ('�', 0.6953125), (' ref', 0.6884765625)], 45: [('Il', 1.7431640625), (' Il', 1.66015625), ('май', 1.615234375), ('Mer', 1.5615234375), ('待', 1.51953125)]}, 8: {9: [(' `.', 0.9248046875), (' `/', 0.81103515625), (' `', 0.80322265625), ('}`', 0.77099609375), ('`', 0.74755859375)], 16: [('над', 0.368896484375), ('dil', 0.33935546875), ('сата', 0.32666015625), ('附', 0.324951171875), ('сар', 0.32275390625)], 18: [('venin', 3.76953125), (' Pobla', 2.765625), ('orema', 2.638671875), ('llib', 2.57421875), ('adies', 2.53125)], 30: [('0', 0.208740234375), ('2', 0.1806640625), ('$', 0.1790771484375), ('%', 0.177734375), ('{', 0.1729736328125)], 37: [('x', 0.67431640625), ('X', 0.625), ('2', 0.595703125), (' X', 0.55859375), ('3', 0.5576171875)], 41: [('чин', 0.439453125), ('ican', 0.409912109375), (' Relief', 0.370361328125), ('доб', 0.355224609375), ('шков', 0.35107421875)]}, 9: {9: [('operating', 1.07421875), (' Operating', 1.0478515625), (' operating', 1.0205078125), ('Operating', 0.96923828125), (' OS', 0.81689453125)], 18: [('木齐', 1.2548828125), ('крат', 1.123046875), (' идеи', 1.1201171875), (' Idea', 1.013671875), (' $\\\\#', 1.0009765625)], 21: [('ECT', 0.39453125), (' tri', 0.3916015625), ('�', 0.381103515625), (' bol', 0.376220703125), (' Bol', 0.372314453125)], 32: [('handles', 0.1986083984375), ('ikov', 0.182373046875), ('pect', 0.1815185546875), ('�', 0.178955078125), ('мпе', 0.1768798828125)], 42: [('’', 0.52685546875), (\"'\", 0.50341796875), (' {', 0.445556640625), ('0', 0.441650390625), (' ', 0.4189453125)], 52: [('CALLTYPE', 0.1893310546875), ('��', 0.183837890625), ('rament', 0.1783447265625), ('positional', 0.177734375), ('imales', 0.1734619140625)]}, 4: {10: [('such', 2.20703125), ('Such', 2.140625), (' such', 2.0234375), (' Such', 1.90234375), ('so', 1.8876953125)], 22: [('��', 0.3056640625), ('oulli', 0.292724609375), ('ividual', 0.291748046875), ('ssil', 0.287109375), ('ergi', 0.27783203125)], 28: [(' please', 0.74072265625), ('please', 0.72021484375), ('if', 0.7001953125), ('itself', 0.68359375), (' себе', 0.6552734375)], 39: [('OMAS', 0.19921875), ('в', 0.1787109375), ('kins', 0.1748046875), (' generator', 0.1734619140625), ('tofore', 0.1732177734375)], 42: [('/', 0.2421875), ('sim', 0.2220458984375), ('（', 0.2203369140625), ('）', 0.2100830078125), ('ily', 0.2076416015625)], 47: [('aig', 0.68408203125), (' заглави', 0.67822265625), ('Subject', 0.66064453125), ('agona', 0.64892578125), ('acias', 0.6474609375)]}, 6: {10: [('within', 2.611328125), ('Within', 2.171875), (' within', 2.16796875), (' Within', 2.16015625), ('榜', 1.5927734375)], 28: [('because', 1.1083984375), ('so', 1.087890625), (' because', 0.9912109375), ('Because', 0.9541015625), (' porque', 0.92822265625)], 39: [('ih', 0.845703125), (' externs', 0.740234375), ('injector', 0.7373046875), ('=|', 0.73583984375), ('>.<', 0.71826171875)], 42: [('“', 0.459716796875), ('ttp', 0.44091796875), ('1', 0.40771484375), ('edly', 0.37939453125), ('0', 0.375732421875)], 47: [('arella', 0.49755859375), (' Вис', 0.426025390625), ('姓', 0.41162109375), ('ername', 0.387939453125), ('n', 0.38134765625)], 62: [('见', 0.337158203125), ('管', 0.33154296875), ('entic', 0.324462890625), (' ER', 0.321044921875), ('terbury', 0.3193359375)]}, 13: {11: [('�', 0.1746826171875), ('场', 0.169921875), (' Ins', 0.1600341796875), ('asers', 0.146728515625), ('Russ', 0.145263671875)], 28: [(' please', 0.73388671875), ('please', 0.65283203125), ('but', 0.6083984375), (' but', 0.5693359375), (' PLEASE', 0.54541015625)], 42: [(' Segre', 0.42236328125), ('onut', 0.413330078125), ('intage', 0.410400390625), ('нав', 0.397705078125), ('OTTOM', 0.369873046875)], 47: [('2', 0.6298828125), ('3', 0.6142578125), ('1', 0.6103515625), ('5', 0.57861328125), ('0', 0.5498046875)], 49: [('neig', 0.286376953125), (' Calders', 0.257568359375), ('amac', 0.250244140625), ('湃', 0.2491455078125), (' filas', 0.2425537109375)], 51: [(' вди', 0.126953125), ('4', 0.1236572265625), ('甲', 0.12255859375), ('кла', 0.1224365234375), ('Dins', 0.12060546875)]}, 14: {14: [('段', 0.356689453125), ('ak', 0.3369140625), ('ime', 0.335693359375), ('�', 0.31689453125), ('aky', 0.310302734375)], 16: [('рея', 0.1812744140625), ('4', 0.171142578125), ('TagName', 0.1669921875), ('рор', 0.166259765625), ('itae', 0.1640625)], 40: [(' Yours', 0.2115478515625), ('acks', 0.200927734375), (' [_', 0.1912841796875), ('mint', 0.19091796875), (' communic', 0.18408203125)], 42: [('/', 0.6748046875), ('1', 0.4658203125), ('0', 0.4541015625), (' /', 0.451171875), ('6', 0.435791015625)], 45: [('Il', 2.70703125), ('Mer', 2.423828125), (' Il', 2.3984375), ('les', 2.3515625), ('Je', 2.333984375)], 48: [('Ref', 0.33251953125), ('back', 0.305419921875), (' Ref', 0.302978515625), (' c', 0.293212890625), ('ref', 0.28369140625)]}, 0: {16: [('heses', 2.0078125), ('}$~\\\\', 1.9345703125), ('childnode', 1.8896484375), ('anzas', 1.8623046875), ('aquen', 1.658203125)], 29: [('opol', 0.01329803466796875), ('славски', 0.0118560791015625), ('чности', 0.0118560791015625), ('циа', 0.01169586181640625), ('endres', 0.011688232421875)], 31: [('甘', 1.0830078125), ('举', 1.0419921875), ('户', 1.033203125), ('waves', 1.0283203125), ('st', 1.0205078125)], 43: [('部', 0.026031494140625), ('day', 0.0229644775390625), ('��', 0.0223541259765625), ('�', 0.0218048095703125), ('9', 0.0215911865234375)], 48: [('爱', 0.029815673828125), ('пло', 0.0294952392578125), ('гур', 0.0274658203125), ('��', 0.0272369384765625), ('aru', 0.0267333984375)], 59: [('她们的', 0.029052734375), ('广', 0.027984619140625), ('DEVICE', 0.02728271484375), ('кона', 0.0253448486328125), ('ACES', 0.0250701904296875)]}}\n",
      "Shared expert predictions: [[('�乐', 0.400634765625), ('Hivern', 0.36572265625), ('dens', 0.3486328125), ('onada', 0.338623046875), ('opsi', 0.331787109375)], [('数', 0.85595703125), ('�', 0.76171875), ('earch', 0.7578125), ('homogeneous', 0.73779296875), ('ISM', 0.72509765625)], [(' s', 1.6884765625), (' m', 1.5400390625), (' n', 1.5244140625), (' f', 1.498046875), (' p', 1.466796875)], [('��', 1.19921875), ('UTO', 1.1611328125), ('уа', 1.154296875), ('居', 1.126953125), ('全力以', 1.1142578125)], [('拯救', 1.10546875), ('纠', 1.015625), ('交', 0.9619140625), ('ltr', 0.9619140625), (' translator', 0.9521484375)], [('收', 1.7275390625), ('omen', 1.453125), ('昭', 1.349609375), ('constitution', 1.33203125), ('iss', 1.32421875)], [('Translation', 1.3662109375), (' b', 1.1357421875), ('翻译', 1.1328125), ('translations', 1.130859375), ('Languages', 1.0029296875)], [(' comand', 0.9052734375), ('nteg', 0.90087890625), ('ilio', 0.8955078125), ('炙', 0.8759765625), ('commands', 0.87353515625)], [('设法', 1.2646484375), ('炙', 1.25390625), ('晗', 1.2294921875), ('磊', 1.2080078125), ('晖', 1.20703125)], [('рони', 0.93994140625), ('chy', 0.93408203125), ('erp', 0.9267578125), ('rita', 0.89697265625), ('EST', 0.888671875)], [('assert', 0.91162109375), ('тил', 0.84521484375), ('暴露', 0.826171875), ('pak', 0.8232421875), ('нима', 0.7724609375)], [(' столица', 1.1630859375), ('一级', 1.1591796875), (' beh', 1.1416015625), (' transvers', 1.1259765625), ('шава', 1.080078125)], [('�', 1.1064453125), ('并发', 1.0126953125), ('直达', 0.99560546875), ('compat', 0.98486328125), (' дра', 0.96337890625)], [('inous', 1.052734375), ('ExternalTask', 1.0009765625), ('pager', 0.970703125), ('ibu', 0.95166015625), ('leeve', 0.94921875)], [('ASA', 1.2646484375), ('打通', 1.236328125), ('SEL', 1.212890625), ('有心', 1.1298828125), ('SES', 1.0859375)], [(' експе', 1.37109375), ('举', 1.3349609375), ('фан', 1.2626953125), ('世', 1.23828125), ('SID', 1.232421875)], [(' avall', 1.6689453125), ('riers', 1.5751953125), ('slightly', 1.384765625), ('usters', 1.3837890625), ('пис', 1.37109375)], [('取决', 0.88671875), ('钻', 0.853515625), ('گ', 0.84326171875), ('concentration', 0.82958984375), (' soldat', 0.8232421875)], [(' две', 1.3125), (' два', 1.2900390625), (' Gru', 1.2353515625), (' три', 1.2314453125), ('three', 1.17578125)], [('Magent', 1.4716796875), ('adders', 1.4287109375), ('Habitants', 1.423828125), (' abra', 1.40625), ('enders', 1.310546875)], [('ASA', 1.3017578125), ('dbf', 1.2626953125), ('assau', 1.2470703125), ('nqu', 1.2119140625), ('phins', 1.1943359375)], [('�', 1.373046875), ('琦', 1.267578125), ('engu', 1.267578125), ('�', 1.1904296875), ('ASA', 1.1826171875)]]\n",
      "\n",
      "MoE Layer 22:\n",
      "Selected experts: [[59, 18, 53, 23, 56, 4], [7, 53, 62, 0, 49, 55], [35, 0, 53, 57, 1, 17], [49, 57, 0, 30, 7, 10], [49, 62, 39, 29, 7, 38], [14, 40, 57, 44, 0, 49], [39, 29, 14, 62, 49, 0], [11, 1, 56, 18, 5, 26], [35, 1, 57, 30, 28, 26], [24, 1, 2, 10, 0, 51], [58, 17, 12, 49, 15, 32], [58, 6, 47, 61, 52, 42], [44, 12, 59, 47, 52, 31], [55, 29, 62, 7, 39, 28], [60, 61, 34, 18, 15, 5], [61, 35, 10, 17, 32, 4], [33, 61, 4, 16, 53, 23], [21, 23, 31, 4, 52, 28], [51, 61, 13, 12, 24, 2], [50, 23, 61, 51, 42, 7], [61, 58, 60, 39, 6, 42], [60, 61, 12, 41, 63, 17]]\n",
      "Expert weights: [[0.7353515625, 0.01959228515625, 0.019256591796875, 0.0118255615234375, 0.011749267578125, 0.0095672607421875], [0.0865478515625, 0.134033203125, 0.14208984375, 0.0579833984375, 0.04119873046875, 0.035400390625], [0.11627197265625, 0.10302734375, 0.06781005859375, 0.052886962890625, 0.047821044921875, 0.04730224609375], [0.12347412109375, 0.10748291015625, 0.045867919921875, 0.061737060546875, 0.04364013671875, 0.041839599609375], [0.1707763671875, 0.111328125, 0.07080078125, 0.061920166015625, 0.033905029296875, 0.0266571044921875], [0.1292724609375, 0.11456298828125, 0.0799560546875, 0.06231689453125, 0.056640625, 0.05596923828125], [0.05133056640625, 0.06256103515625, 0.03125, 0.06427001953125, 0.138427734375, 0.0306549072265625], [0.040679931640625, 0.08807373046875, 0.06060791015625, 0.11761474609375, 0.10101318359375, 0.034271240234375], [0.058258056640625, 0.1595458984375, 0.051544189453125, 0.03973388671875, 0.0318603515625, 0.0298004150390625], [0.050506591796875, 0.049041748046875, 0.0634765625, 0.1446533203125, 0.042205810546875, 0.033599853515625], [0.1861572265625, 0.0589599609375, 0.04931640625, 0.044464111328125, 0.035186767578125, 0.031524658203125], [0.060821533203125, 0.202880859375, 0.04315185546875, 0.03521728515625, 0.03680419921875, 0.030487060546875], [0.07257080078125, 0.1724853515625, 0.061370849609375, 0.056854248046875, 0.04888916015625, 0.041778564453125], [0.07586669921875, 0.0677490234375, 0.05902099609375, 0.043182373046875, 0.043060302734375, 0.03912353515625], [0.2408447265625, 0.16259765625, 0.045745849609375, 0.03369140625, 0.0229339599609375, 0.0229034423828125], [0.205322265625, 0.12384033203125, 0.069091796875, 0.048828125, 0.031829833984375, 0.028961181640625], [0.056640625, 0.11529541015625, 0.352294921875, 0.046234130859375, 0.0250396728515625, 0.0216217041015625], [0.08245849609375, 0.13623046875, 0.042816162109375, 0.10302734375, 0.04217529296875, 0.03253173828125], [0.165771484375, 0.188232421875, 0.091552734375, 0.034912109375, 0.03277587890625, 0.02569580078125], [0.2457275390625, 0.1304931640625, 0.0535888671875, 0.04833984375, 0.039642333984375, 0.0390625], [0.2174072265625, 0.1285400390625, 0.09027099609375, 0.0560302734375, 0.0333251953125, 0.031402587890625], [0.324462890625, 0.252197265625, 0.05682373046875, 0.03936767578125, 0.0272369384765625, 0.0201873779296875]]\n",
      "Combined output tokens: [[('大力', 0.66748046875), ('pip', 0.599609375), (' provision', 0.54638671875), ('стер', 0.54638671875), ('fons', 0.54541015625)], [('wxr', 1.9638671875), ('ня', 1.638671875), ('poke', 1.6240234375), ('hyde', 1.5927734375), ('последствие', 1.5830078125)], [('网页', 2.34765625), ('qh', 2.267578125), ('Codes', 2.265625), ('WEB', 2.185546875), ('澄', 2.1484375)], [('eqno', 3.970703125), ('fins', 3.4921875), ('passage', 3.154296875), ('IEEEeqnarray', 3.126953125), ('ocells', 2.958984375)], [('omitempty', 3.08984375), ('NOSCRIPT', 2.994140625), ('析', 2.701171875), ('NonUser', 2.642578125), (' опъл', 2.560546875)], [(' Bang', 5.109375), ('perse', 4.90234375), (' Est', 4.8046875), (' Tag', 4.734375), ('传统的', 4.72265625)], [(' :-', 2.994140625), (' :', 2.720703125), (' ;', 2.53515625), ('=\"../_', 2.447265625), (' :\\\\', 2.443359375)], [('MY', 2.740234375), ('i', 2.615234375), (' MY', 2.556640625), ('otron', 2.451171875), ('lai', 2.44921875)], [('рав', 1.7255859375), (' \\\\!\\\\!', 1.7138671875), ('ISS', 1.7109375), ('一言', 1.6865234375), ('rivation', 1.6220703125)], [(' repartia', 2.65625), (\"__':\", 2.634765625), ('TOOLSET', 2.4375), (' войвода', 2.3515625), ('etter', 2.28515625)], [('oler', 2.251953125), (' паша', 1.9033203125), ('ware', 1.875), ('googleapis', 1.8349609375), ('�乐', 1.783203125)], [('anda', 2.08203125), ('SEL', 2.072265625), ('TA', 2.044921875), (' ta', 2.033203125), ('Too', 1.9453125)], [(' comr', 4.4453125), ('COM', 3.947265625), (' com', 3.607421875), (' COM', 3.583984375), ('material', 3.474609375)], [('ONY', 2.23046875), ('AIPS', 2.05859375), ('Ungrouped', 1.9775390625), ('ucode', 1.970703125), (' Нобе', 1.91015625)], [('ce', 6.08203125), (' cel', 6.0546875), (' ce', 5.9765625), ('CELL', 5.71875), ('apa', 5.69921875)], [('出血', 8.453125), (' me', 8.4375), ('bona', 7.82421875), (' app', 7.46875), (' m', 7.41796875)], [('ille', 6.28515625), ('че', 5.96484375), ('urs', 5.24609375), ('adia', 5.203125), ('SOURCE', 5.01171875)], [('ur', 3.93359375), ('uria', 3.013671875), ('if', 2.919921875), ('uren', 2.85546875), ('urf', 2.8359375)], [('yc', 9.6328125), ('仅代表作者本人观点', 9.5703125), ('异的', 9.328125), ('异', 9.0703125), ('lero', 8.3046875)], [('able', 4.48828125), ('guera', 4.32421875), ('uble', 4.265625), ('aveu', 4.20703125), ('onar', 4.171875)], [('hine', 6.34765625), ('erte', 6.17578125), ('oneses', 6.1640625), ('ща', 6.125), ('ause', 6.05859375)], [(' Ven', 14.9453125), (' ven', 12.40625), ('owered', 11.984375), (' Na', 11.984375), ('venir', 11.9453125)]]\n",
      "Expert predictions by position: {1: {0: [('бива', 0.62744140625), ('葡', 0.57568359375), ('uche', 0.5703125), (' Chambers', 0.552734375), (' comparteix', 0.548828125)], 7: [('nesses', 0.3173828125), ('kees', 0.312255859375), (' integr', 0.292236328125), ('� ', 0.291259765625), (' RIGHT', 0.286376953125)], 49: [(' :-', 2.73046875), (' :', 2.453125), (' ;', 2.162109375), ('\\t:', 1.9541015625), (' ；', 1.931640625)], 53: [('8', 0.05291748046875), ('9', 0.04913330078125), ('0', 0.04229736328125), ('6', 0.0419921875), ('4', 0.037200927734375)], 55: [('midt', 0.2015380859375), ('backer', 0.18896484375), ('htable', 0.1842041015625), ('{${\\\\', 0.1796875), ('匀', 0.1776123046875)], 62: [(' MOD', 0.424072265625), ('MOD', 0.418701171875), ('MMC', 0.410888671875), ('8', 0.397216796875), ('0', 0.380615234375)]}, 2: {0: [('谷歌', 0.457763671875), ('Google', 0.422607421875), ('机器', 0.381591796875), ('machine', 0.37841796875), ('Machine', 0.361083984375)], 1: [('$|', 0.3671875), ('>$', 0.36279296875), ('asena', 0.3603515625), ('贞', 0.30615234375), (' ffm', 0.3017578125)], 17: [('гове', 0.1927490234375), ('ente', 0.1885986328125), ('Tables', 0.18115234375), ('狂', 0.1807861328125), (' Carrer', 0.1771240234375)], 35: [('estima', 1.509765625), ('varian', 1.39453125), ('вува', 1.30078125), ('ocene', 1.2998046875), ('ън', 1.298828125)], 53: [('POST', 1.1494140625), ('Post', 1.111328125), ('icode', 1.1015625), ('post', 1.076171875), ('hyde', 1.064453125)], 57: [(' Vi', 0.58837890625), ('рам', 0.58837890625), ('рав', 0.5830078125), ('thood', 0.54345703125), ('цен', 0.5380859375)]}, 3: {0: [('页', 0.61865234375), ('URA', 0.60986328125), ('网页', 0.55517578125), ('ipage', 0.54736328125), ('ffxiv', 0.53662109375)], 7: [('效', 0.27099609375), ('сните', 0.257568359375), (' Yourself', 0.2509765625), ('sets', 0.250244140625), ('out', 0.250244140625)], 10: [('look', 0.375732421875), ('concern', 0.369873046875), (' look', 0.368896484375), (' Obre', 0.3671875), ('缘故', 0.36083984375)], 30: [(' play', 0.470947265625), ('play', 0.412109375), (' bill', 0.382080078125), ('bill', 0.380859375), (' plays', 0.3671875)], 49: [('pler', 0.2213134765625), ('除外', 0.20654296875), ('fonia', 0.2003173828125), ('久', 0.1981201171875), ('accur', 0.19091796875)], 57: [(' R', 0.6591796875), ('R', 0.52392578125), ('全日', 0.458740234375), ('\\tR', 0.4423828125), ('发挥', 0.40966796875)]}, 5: {0: [('仅代表作者本人观点', 0.497314453125), ('OnSearch', 0.478759765625), (' directes', 0.478515625), ('edor', 0.468017578125), (' HREF', 0.468017578125)], 14: [('Traditional', 3.939453125), ('traditional', 3.63671875), (' traditional', 3.63671875), (' Traditional', 3.625), (' simplified', 3.5859375)], 40: [(' Sw', 3.08984375), (' Pas', 2.91015625), (' Bang', 2.82421875), ('perse', 2.626953125), (' Cre', 2.544921875)], 44: [('抄', 0.299072265625), ('anar', 0.295654296875), ('icients', 0.29443359375), ('draggable', 0.29345703125), ('自拍', 0.28173828125)], 49: [('��', 1.4248046875), ('Dll', 1.1845703125), ('orithms', 1.1748046875), ('��', 1.1728515625), ('тнография', 1.1669921875)], 57: [('andr', 1.5205078125), ('сал', 1.4228515625), (' senc', 1.3798828125), ('idable', 1.3779296875), ('ismes', 1.375)]}, 6: {0: [(' site', 1.611328125), ('页', 1.5283203125), ('site', 1.5107421875), (' web', 1.501953125), ('网页', 1.4638671875)], 14: [(' Occ', 0.513671875), (' E', 0.477294921875), ('simpl', 0.441650390625), ('arus', 0.43115234375), ('Esper', 0.4296875)], 29: [('omitempty', 0.64111328125), ('ptes', 0.58837890625), ('DDIR', 0.57763671875), ('乎', 0.56884765625), ('avell', 0.56689453125)], 39: [('into', 2.240234375), (' into', 2.13671875), ('Into', 1.9052734375), (' Into', 1.7705078125), (' INTO', 1.7587890625)], 49: [(' пореди', 1.7998046875), ('=\"\";', 1.708984375), (' Херцеговина', 1.666015625), (' pugu', 1.599609375), (' експе', 1.59375)], 62: [('ranos', 0.71142578125), ('嗽', 0.7099609375), ('ofer', 0.7099609375), (' конку', 0.64208984375), (' >', 0.63671875)]}, 9: {0: [('iclismo', 0.5263671875), ('anuts', 0.5185546875), ('WP', 0.51416015625), (' WP', 0.482666015625), ('nod', 0.479248046875)], 1: [('一言', 0.69677734375), ('临', 0.6953125), ('一动', 0.68603515625), ('形', 0.6708984375), ('消耗', 0.6630859375)], 2: [('system', 0.310791015625), (' system', 0.264404296875), ('anell', 0.262451171875), ('利', 0.2479248046875), (' syst', 0.24755859375)], 10: [(' n', 1.0986328125), ('\\tn', 1.0693359375), ('вете', 0.76123046875), ('面', 0.75927734375), ('视镜', 0.75634765625)], 24: [('aday', 0.310791015625), ('aler', 0.29443359375), ('onat', 0.29150390625), ('ург', 0.2763671875), ('mia', 0.27490234375)], 51: [('8', 0.465087890625), (' -', 0.451904296875), ('6', 0.450439453125), ('orn', 0.4375), ('lay', 0.429443359375)]}, 7: {1: [('ggreg', 0.305419921875), ('拉', 0.304931640625), ('pings', 0.303955078125), ('illas', 0.302734375), ('illings', 0.302490234375)], 5: [(' Швар', 0.254638671875), (' сле', 0.227294921875), ('MI', 0.226318359375), ('hoe', 0.2230224609375), (\"''}\", 0.2208251953125)], 11: [(' i', 1.3388671875), ('\\ti', 1.2177734375), ('i', 1.01171875), (' iP', 0.62841796875), (' ich', 0.5546875)], 18: [('лага', 0.32763671875), ('действие', 0.3154296875), ('etter', 0.31494140625), ('undry', 0.310302734375), (' datada', 0.30859375)], 26: [('sizei', 0.08575439453125), ('Sub', 0.08221435546875), ('зми', 0.081298828125), ('靠', 0.08111572265625), ('sides', 0.079833984375)], 56: [('MP', 0.0283966064453125), (' Op', 0.0279998779296875), ('uan', 0.02764892578125), ('Help', 0.0275421142578125), ('fac', 0.0266265869140625)]}, 8: {1: [(' Rated', 0.79345703125), (' rate', 0.7587890625), ('нета', 0.7470703125), ('helial', 0.732421875), ('wbr', 0.71435546875)], 26: [('ugin', 0.2015380859375), ('ك', 0.1810302734375), ('айн', 0.1710205078125), ('�', 0.1705322265625), ('cipl', 0.168212890625)], 28: [('legr', 0.07330322265625), ('arrel', 0.0718994140625), ('aried', 0.0711669921875), ('igy', 0.07080078125), ('quitectura', 0.06793212890625)], 30: [('passage', 1.95703125), (' passage', 1.7978515625), (' Passage', 1.5107421875), ('istemes', 1.3271484375), ('extract', 1.3046875)], 35: [('IABLE', 0.364501953125), ('iquen', 0.32421875), ('peed', 0.322998046875), ('ausa', 0.317626953125), ('Outputs', 0.306884765625)], 57: [(' ат', 1.0087890625), ('occan', 0.97412109375), ('MAT', 0.89892578125), ('inant', 0.89453125), ('stal', 0.890625)]}, 18: {2: [('etre', 1.0986328125), (' material', 1.00390625), (' материал', 0.92626953125), ('сор', 0.912109375), (' materials', 0.8984375)], 12: [('шал', 0.363525390625), ('ляни', 0.354248046875), ('atg', 0.3427734375), ('\\\\!\\\\!\\\\!', 0.33837890625), ('URES', 0.327880859375)], 13: [('should', 0.87841796875), ('Should', 0.814453125), (' should', 0.7900390625), (' SHOULD', 0.7099609375), ('ver', 0.6708984375)], 24: [(' return', 0.88720703125), (' RETURN', 0.810546875), (' Return', 0.78271484375), ('Return', 0.775390625), (' returns', 0.7666015625)], 51: [('Lay', 2.435546875), ('lay', 1.9306640625), ('lays', 1.92578125), (' lays', 1.9091796875), ('libre', 1.8037109375)], 61: [('仅代表作者本人观点', 9.390625), ('异的', 9.1953125), ('yc', 8.8671875), ('异', 8.8671875), (' y', 7.234375)]}, 0: {4: [('ur', 1.3359375), ('uria', 1.2314453125), ('fet', 1.1865234375), ('aure', 1.1611328125), ('uries', 1.0146484375)], 18: [('сло', 0.047760009765625), (' llur', 0.042633056640625), ('atern', 0.042572021484375), ('intercept', 0.041107177734375), ('бло', 0.040191650390625)], 23: [('ability', 2.095703125), ('able', 2.005859375), ('erte', 1.9697265625), ('te', 1.8359375), ('ers', 1.732421875)], 53: [(' контро', 0.180908203125), ('ctl', 0.1798095703125), ('ctr', 0.17919921875), ('bilt', 0.177490234375), ('ulously', 0.1697998046875)], 56: [(' Q', 0.51953125), ('A', 0.5087890625), (' A', 0.49560546875), ('Q', 0.479736328125), ('1', 0.474365234375)], 59: [('зона', 0.261474609375), ('\\r', 0.261474609375), ('ън', 0.257568359375), ('хия', 0.2489013671875), ('ир', 0.244140625)]}, 15: {4: [('be', 0.513671875), ('b', 0.470947265625), ('bi', 0.432373046875), ('by', 0.4287109375), ('k', 0.382568359375)], 10: [('5', 1.375), ('9', 1.298828125), ('6', 1.271484375), ('7', 1.2626953125), ('8', 1.2265625)], 17: [(' Q', 0.7666015625), ('Q', 0.56201171875), ('QA', 0.5537109375), (' B', 0.54296875), ('\\tQ', 0.53759765625)], 32: [('untos', 0.1954345703125), ('bitat', 0.194580078125), ('imi', 0.19140625), ('sics', 0.1900634765625), ('\\\\$.', 0.18798828125)], 35: [('next', 0.955078125), (' next', 0.89306640625), ('Next', 0.82861328125), (' NEXT', 0.82275390625), (' Internet', 0.7509765625)], 61: [('Plus', 4.84765625), ('plus', 4.32421875), (' Plus', 4.0703125), ('PLUS', 3.81640625), (' plus', 3.701171875)]}, 16: {4: [('ille', 5.1640625), ('зване', 5.09765625), ('че', 4.65234375), ('gap', 4.63671875), ('importance', 3.830078125)], 16: [('aland', 0.395263671875), ('ialize', 0.32763671875), ('fono', 0.31396484375), ('deven', 0.312744140625), ('yser', 0.297119140625)], 23: [('逐', 0.292724609375), ('launchpad', 0.291748046875), ('}$\\\\\\\\', 0.2861328125), ('род', 0.285888671875), ('otip', 0.283447265625)], 33: [('em', 0.689453125), ('i', 0.6318359375), ('osia', 0.62109375), ('ig', 0.6181640625), ('o', 0.6103515625)], 53: [('�乐', 0.65625), ('post', 0.60546875), ('quer', 0.5869140625), (' Post', 0.57958984375), ('front', 0.5703125)], 61: [('дец', 1.5205078125), ('�乐', 1.439453125), ('越', 1.421875), ('dit', 1.3583984375), ('托', 1.3515625)]}, 17: {4: [('j', 0.0294036865234375), ('g', 0.0214080810546875), ('or', 0.0207672119140625), ('ch', 0.0206451416015625), ('注', 0.020599365234375)], 21: [('igui', 0.47509765625), ('ovn', 0.426513671875), ('ivation', 0.42041015625), ('ashington', 0.414306640625), (' Освобо', 0.3759765625)], 23: [(' desn', 0.02276611328125), ('瀑', 0.021331787109375), (' Principat', 0.021026611328125), ('利物', 0.02001953125), ('жени', 0.0194549560546875)], 28: [('TypeId', 0.1451416015625), ('idia', 0.1429443359375), ('aproxim', 0.1343994140625), ('青', 0.1336669921875), ('allo', 0.1300048828125)], 31: [('unya', 0.1536865234375), ('省', 0.15283203125), ('区分', 0.1513671875), ('堂', 0.14892578125), ('ics', 0.146484375)], 52: [('长', 0.1943359375), ('水', 0.177734375), ('fen', 0.159423828125), ('undy', 0.1573486328125), ('跳', 0.1558837890625)]}, 14: {5: [('let', 1.74609375), ('kit', 1.6904296875), ('My', 1.5654296875), ('的一致', 1.53125), ('i', 1.509765625)], 15: [('}[]', 0.2247314453125), (' Mundo', 0.2215576171875), ('ח', 0.218017578125), ('лимпи', 0.210693359375), ('Икономи', 0.2091064453125)], 18: [('1', 1.6044921875), ('0', 1.548828125), ('3', 1.4619140625), ('8', 1.42578125), ('6', 1.41015625)], 34: [('insert', 0.75048828125), ('INSERT', 0.6923828125), ('Insert', 0.669921875), ('fill', 0.65087890625), (' insert', 0.60888671875)], 60: [('网约', 1.46484375), ('breu', 1.404296875), ('��', 1.39453125), ('erol', 1.357421875), ('ionals', 1.3525390625)], 61: [(' dev', 5.90625), ('hine', 5.625), ('ause', 5.55859375), (' DC', 5.38671875), ('седа', 5.27734375)]}, 11: {6: [(' tot', 1.919921875), ('do', 1.8662109375), (' t', 1.853515625), (' ot', 1.7841796875), ('too', 1.7646484375)], 42: [(' Cond', 0.213134765625), ('Cond', 0.2100830078125), ('拆', 0.2093505859375), ('后天', 0.207275390625), ('ticamente', 0.203857421875)], 47: [('带', 0.312255859375), ('带到', 0.28759765625), ('都被', 0.2841796875), ('也被', 0.27294921875), ('шата', 0.263916015625)], 52: [('ъри', 0.246826171875), ('olus', 0.233154296875), ('Olot', 0.2237548828125), ('诠', 0.2235107421875), ('lehem', 0.2120361328125)], 58: [(' involved', 1.44921875), ('dule', 1.3076171875), ('lio', 1.306640625), ('mak', 1.2705078125), ('пера', 1.2705078125)], 61: [('atas', 0.368408203125), ('�', 0.34423828125), ('Ar', 0.338623046875), ('áš', 0.335693359375), (' att', 0.3349609375)]}, 20: {6: [('t', 0.322509765625), (' T', 0.292724609375), ('s', 0.276123046875), ('(', 0.275146484375), (' r', 0.272705078125)], 39: [('within', 0.93408203125), (' within', 0.9326171875), (' Within', 0.83203125), ('Within', 0.79541015625), (' upon', 0.79052734375)], 42: [('于', 0.3935546875), ('neys', 0.258056640625), ('CAST', 0.251953125), ('illet', 0.2486572265625), (' Milk', 0.241455078125)], 58: [(' yet', 3.078125), ('yet', 2.8125), ('Yet', 2.509765625), (' Yet', 2.310546875), ('alse', 1.6123046875)], 60: [('ilet', 6.12890625), ('der', 5.65234375), ('DER', 5.46875), ('ermost', 5.44140625), ('ците', 5.38671875)], 61: [(' ven', 12.8515625), (' Ven', 12.5234375), ('Ven', 10.6640625), (' vene', 10.546875), ('owered', 9.8828125)]}, 4: {7: [('ROID', 0.395263671875), ('NonUser', 0.392333984375), ('ейнт', 0.39208984375), ('restant', 0.387939453125), ('umu', 0.37060546875)], 29: [('omitempty', 0.61962890625), ('ysis', 0.5966796875), (';->', 0.5908203125), ('reda', 0.52490234375), ('clusi', 0.52392578125)], 38: [('urer', 0.2479248046875), ('messages', 0.2001953125), ('利物', 0.1982421875), ('бул', 0.192626953125), ('XHR', 0.1910400390625)], 39: [(' again', 0.81494140625), ('again', 0.75927734375), ('Again', 0.60009765625), (' nuevamente', 0.5947265625), (' for', 0.5859375)], 49: [(';', 0.86962890625), (' ;', 0.8212890625), ('.;', 0.68798828125), ('；', 0.67138671875), (';;', 0.64892578125)], 62: [(' ', 0.67138671875), ('COL', 0.625), (' носи', 0.60791015625), ('梯', 0.6005859375), ('close', 0.599609375)]}, 13: {7: [('\\tthat', 0.73388671875), ('цяло', 0.6142578125), ('фове', 0.57666015625), (' that', 0.57373046875), ('Окръг', 0.56201171875)], 28: [('不知', 0.19189453125), ('不知道', 0.1661376953125), ('上单', 0.1591796875), ('quio', 0.1531982421875), ('pula', 0.1502685546875)], 29: [('phins', 1.1728515625), ('ErrorReason', 1.1201171875), ('omely', 1.1142578125), ('#_', 1.05859375), ('childnode', 1.0458984375)], 39: [('owers', 0.86376953125), ('frm', 0.84619140625), ('Flore', 0.8046875), ('LIMITER', 0.802734375), ('boxt', 0.796875)], 55: [(' вто', 0.440673828125), ('第二', 0.403076171875), ('Ó', 0.4013671875), ('asca', 0.373779296875), ('eques', 0.35302734375)], 62: [('\\tBy', 0.71533203125), (' by', 0.69873046875), ('�', 0.67431640625), ('ifolds', 0.6337890625), (' превод', 0.6015625)]}, 19: {7: [(' down', 0.54052734375), (' forth', 0.501953125), (' up', 0.49365234375), (' away', 0.444091796875), ('down', 0.433837890625)], 23: [('ur', 2.513671875), ('ien', 2.451171875), ('ias', 2.447265625), ('uria', 2.41796875), (' pena', 2.310546875)], 42: [('urity', 0.28369140625), ('uada', 0.27734375), ('于', 0.273193359375), ('�', 0.269775390625), ('ი', 0.263427734375)], 50: [('inaire', 3.888671875), ('olins', 3.603515625), ('oque', 3.33203125), ('aveu', 3.2421875), ('accord', 3.17578125)], 51: [(' бил', 0.2154541015625), ('чето', 0.1885986328125), (' was', 0.187744140625), (' were', 0.1859130859375), ('dule', 0.18115234375)], 61: [(' me', 3.8046875), ('��', 3.263671875), ('тон', 3.12109375), ('val', 2.962890625), ('cel', 2.94921875)]}, 10: {12: [(' comr', 1.1767578125), ('正面', 0.81982421875), ('eppel', 0.81201171875), ('Cone', 0.81201171875), ('анта', 0.8115234375)], 15: [('��', 0.197998046875), ('anese', 0.1807861328125), (' транспо', 0.1588134765625), ('ителна', 0.15771484375), ('рес', 0.152587890625)], 17: [(' he', 1.1279296875), (' он', 0.90087890625), ('He', 0.8798828125), (' him', 0.7724609375), (' He', 0.751953125)], 32: [('饪', 0.48388671875), (' dot', 0.452392578125), ('tern', 0.43896484375), (' their', 0.435302734375), (' its', 0.41845703125)], 49: [(',', 0.4453125), (' this', 0.420654296875), ('this', 0.375), ('\\tthis', 0.349609375), (\" '\", 0.31884765625)], 58: [('inari', 0.89794921875), ('und', 0.77197265625), (' Served', 0.76953125), ('\\texpected', 0.7666015625), (' Molt', 0.7451171875)]}, 12: {12: [(' comr', 4.75390625), ('COM', 3.759765625), (' COM', 3.5546875), ('material', 3.498046875), (' com', 3.462890625)], 31: [('门', 0.22607421875), ('NodeType', 0.205810546875), ('泽', 0.2021484375), ('ULT', 0.1990966796875), ('BlockIndex', 0.193115234375)], 44: [('tingen', 0.50048828125), ('tten', 0.498291015625), ('pite', 0.48779296875), ('商务', 0.443603515625), ('inor', 0.428466796875)], 47: [('到了', 0.5673828125), ('到达', 0.56103515625), ('到的', 0.521484375), ('到', 0.5029296875), ('抵达', 0.428955078125)], 52: [('ble', 0.216064453125), ('доб', 0.192138671875), ('кли', 0.1904296875), ('bles', 0.1851806640625), ('近平', 0.1787109375)], 59: [('va', 0.29931640625), ('ops', 0.2822265625), ('opera', 0.266357421875), ('DER', 0.262939453125), ('Sphere', 0.260498046875)]}, 21: {12: [('ints', 0.383544921875), ('HasBeen', 0.31982421875), ('sc', 0.317626953125), ('гей', 0.31640625), ('stal', 0.310791015625)], 17: [('醇', 0.5283203125), ('疹', 0.50146484375), ('pload', 0.50048828125), ('isNull', 0.5), ('ireless', 0.498291015625)], 41: [('live', 0.410400390625), (' living', 0.408203125), (' live', 0.4072265625), ('living', 0.397216796875), (' lived', 0.384765625)], 60: [('ce', 3.970703125), ('ěř', 3.70703125), ('CELL', 3.580078125), (' drop', 3.48046875), ('真实', 3.435546875)], 61: [(' me', 9.3984375), (' app', 7.82421875), (' t', 7.640625), ('出血', 7.515625), (' m', 7.4765625)], 63: [('uc', 0.22705078125), ('wav', 0.220703125), (' tant', 0.216064453125), ('бла', 0.2122802734375), ('pe', 0.2098388671875)]}}\n",
      "Shared expert predictions: [[('ui', 0.433837890625), ('ACHE', 0.432373046875), ('大力', 0.424560546875), ('bona', 0.424072265625), ('pip', 0.42041015625)], [('poke', 0.99462890625), (' Saludos', 0.93359375), ('ranslate', 0.794921875), ('爪', 0.79248046875), ('trans', 0.7880859375)], [('wered', 1.357421875), ('swire', 1.2998046875), ('widetext', 1.255859375), ('tofore', 1.244140625), ('版权或其它问题请', 1.2177734375)], [('碌', 1.45703125), ('ucode', 1.384765625), ('bibliograph', 1.2724609375), ('软件', 1.212890625), ('qh', 1.2080078125)], [('noframe', 1.3046875), ('NonUser', 1.1396484375), ('NOSCRIPT', 1.109375), ('Thelia', 1.107421875), ('ILS', 1.0810546875)], [('ucode', 1.408203125), ('Rationals', 1.306640625), ('Subcode', 1.2587890625), ('�', 1.2548828125), ('ifmmode', 1.251953125)], [('WireFormat', 1.2431640625), (' carre', 1.201171875), ('NonUser', 1.18359375), ('Ungrouped', 1.1162109375), ('nqu', 1.0947265625)], [('LH', 1.1953125), ('OI', 1.17578125), ('ACH', 1.1396484375), ('qh', 1.12890625), ('碌', 1.111328125)], [('�', 1.3544921875), (' \\\\!\\\\!', 1.3076171875), ('NOSCRIPT', 1.125), ('wered', 1.107421875), ('ACH', 1.0966796875)], [('ucode', 1.26171875), ('WireFormat', 1.244140625), ('OperationKind', 1.212890625), ('mathbold', 1.2021484375), ('FieldLocation', 1.1943359375)], [('.}.', 1.1806640625), ('ager', 1.060546875), ('ently', 1.0244140625), ('ively', 1.001953125), ('-\">', 0.99560546875)], [(' ().', 1.072265625), ('平庸', 1.0263671875), (' (^', 0.98779296875), (' assemblage', 0.96826171875), ('HB', 0.95556640625)], [('晗', 1.2470703125), ('动', 1.0712890625), ('SB', 1.0244140625), ('ACES', 0.984375), ('apons', 0.97021484375)], [(' ().', 1.416015625), ('WL', 1.2861328125), ('努力的', 1.2412109375), (' embodiments', 1.236328125), ('晗', 1.1923828125)], [('one', 1.517578125), ('ОН', 1.3818359375), ('onne', 1.3017578125), ('ISM', 1.279296875), ('ruz', 1.2529296875)], [('JC', 1.501953125), ('��', 1.4501953125), ('unga', 1.310546875), ('�', 1.296875), ('HIN', 1.28125)], [(' н', 1.2392578125), ('叭', 1.173828125), ('uits', 1.1650390625), ('bout', 1.09765625), ('�', 1.08984375)], [('auce', 0.90869140625), ('ISM', 0.81298828125), ('IO', 0.7880859375), ('une', 0.78466796875), ('具', 0.78173828125)], [('agena', 1.3984375), ('��', 1.3173828125), ('lemn', 1.3173828125), ('ridors', 1.2724609375), ('quetes', 1.267578125)], [('��', 1.2783203125), ('LOW', 1.0185546875), ('thou', 1.01171875), ('todox', 0.96240234375), ('umbers', 0.94091796875)], [('axies', 1.150390625), ('INESS', 1.107421875), ('áž', 1.0869140625), ('ievers', 1.0439453125), ('olks', 1.029296875)], [('任何', 1.3828125), ('anywhere', 1.30859375), ('ANY', 1.283203125), (' любо', 1.2666015625), ('\\ton', 1.19140625)]]\n",
      "\n",
      "MoE Layer 23:\n",
      "Selected experts: [[10, 50, 32, 21, 59, 18], [62, 41, 27, 9, 16, 61], [26, 27, 8, 4, 24, 60], [16, 27, 9, 24, 52, 26], [25, 1, 27, 62, 9, 0], [13, 27, 2, 7, 54, 17], [39, 27, 9, 62, 0, 1], [32, 22, 59, 41, 2, 15], [26, 4, 8, 27, 60, 33], [34, 33, 26, 29, 53, 24], [34, 19, 17, 6, 35, 55], [6, 25, 17, 7, 36, 19], [7, 10, 28, 49, 40, 35], [9, 15, 62, 30, 29, 27], [22, 59, 48, 34, 17, 15], [26, 48, 34, 8, 19, 17], [31, 18, 46, 23, 34, 26], [58, 18, 44, 29, 30, 63], [7, 29, 61, 9, 48, 43], [29, 34, 6, 18, 19, 25], [34, 9, 25, 19, 6, 29], [35, 13, 7, 48, 17, 54]]\n",
      "Expert weights: [[0.5400390625, 0.176025390625, 0.016204833984375, 0.01495361328125, 0.01360321044921875, 0.01311492919921875], [0.1871337890625, 0.07989501953125, 0.0653076171875, 0.04791259765625, 0.03594970703125, 0.0311279296875], [0.181640625, 0.0821533203125, 0.056121826171875, 0.041168212890625, 0.031768798828125, 0.03155517578125], [0.109130859375, 0.060211181640625, 0.044189453125, 0.041717529296875, 0.039703369140625, 0.034027099609375], [0.030120849609375, 0.08306884765625, 0.088623046875, 0.10040283203125, 0.11053466796875, 0.029541015625], [0.1707763671875, 0.06805419921875, 0.06451416015625, 0.036865234375, 0.035400390625, 0.034393310546875], [0.04827880859375, 0.07281494140625, 0.130859375, 0.03631591796875, 0.0328369140625, 0.032623291015625], [0.0560302734375, 0.09149169921875, 0.106201171875, 0.0447998046875, 0.035308837890625, 0.03253173828125], [0.1651611328125, 0.1009521484375, 0.08209228515625, 0.04296875, 0.034698486328125, 0.02191162109375], [0.039215087890625, 0.036651611328125, 0.05523681640625, 0.1253662109375, 0.1239013671875, 0.0350341796875], [0.140869140625, 0.11077880859375, 0.0950927734375, 0.048431396484375, 0.036224365234375, 0.0266571044921875], [0.0902099609375, 0.08746337890625, 0.053924560546875, 0.046112060546875, 0.04083251953125, 0.03961181640625], [0.2291259765625, 0.07183837890625, 0.04180908203125, 0.03961181640625, 0.03936767578125, 0.0377197265625], [0.1029052734375, 0.041961669921875, 0.036651611328125, 0.036651611328125, 0.036468505859375, 0.0338134765625], [0.0784912109375, 0.0780029296875, 0.07073974609375, 0.04046630859375, 0.039031982421875, 0.03582763671875], [0.208984375, 0.12335205078125, 0.076416015625, 0.04388427734375, 0.038116455078125, 0.0300750732421875], [0.052276611328125, 0.173828125, 0.068115234375, 0.14306640625, 0.055511474609375, 0.039337158203125], [0.1351318359375, 0.10858154296875, 0.06610107421875, 0.035797119140625, 0.0355224609375, 0.0316162109375], [0.337890625, 0.2376708984375, 0.0498046875, 0.0386962890625, 0.0255889892578125, 0.0229339599609375], [0.1904296875, 0.036285400390625, 0.072998046875, 0.183837890625, 0.033203125, 0.030975341796875], [0.11553955078125, 0.12152099609375, 0.1251220703125, 0.086669921875, 0.0565185546875, 0.0399169921875], [0.08123779296875, 0.08331298828125, 0.1856689453125, 0.043243408203125, 0.039306640625, 0.029083251953125]]\n",
      "Combined output tokens: [[(' involving', 8.53125), (' involved', 6.56640625), ('unker', 6.26171875), (' relating', 6.23046875), (' мер', 6.09765625)], [('вей', 2.333984375), ('Окръг', 2.251953125), (' кита', 2.20703125), ('IconError', 2.1875), (' Българ', 2.1640625)], [('NOSCRIPT', 2.84375), ('топ', 2.44140625), ('Phabricator', 2.263671875), ('деж', 2.21875), ('ausa', 2.212890625)], [('NOSCRIPT', 3.109375), ('秀', 2.54296875), ('ългарски', 2.37109375), ('arabic', 2.345703125), (' македон', 2.31640625)], [('вета', 2.865234375), ('Дей', 2.80078125), ('ря', 2.71875), ('въ', 2.69921875), ('hora', 2.595703125)], [(' Хърват', 4.6796875), ('талиан', 4.58984375), (' руски', 4.5390625), (' Гър', 4.45703125), (' япо', 4.3125)], [(' Pls', 2.642578125), ('arca', 2.625), ('َ', 2.525390625), ('cils', 2.447265625), ('ples', 2.369140625)], [('veless', 2.3359375), ('uelo', 2.099609375), (' Mosc', 2.095703125), ('ALL', 2.0703125), ('披', 1.9638671875)], [('��', 2.689453125), ('Vtbl', 2.4296875), ('Subcode', 2.42578125), ('FieldLocation', 2.412109375), ('subNav', 2.41015625)], [('=\"../../../../../../../../', 3.62890625), ('Habitants', 3.412109375), ('DOCKED', 3.181640625), ('HeadingColor', 3.1796875), ('NOSCRIPT', 3.173828125)], [('ěř', 2.42578125), ('════', 2.291015625), (' Arquitect', 2.16015625), ('unchers', 2.115234375), ('olean', 2.115234375)], [('googleads', 3.080078125), ('фове', 2.79296875), ('lustres', 2.462890625), ('新湖南', 2.4296875), ('龄', 2.37890625)], [('VEL', 3.00390625), ('ivil', 2.908203125), ('omes', 2.8515625), ('ogne', 2.84765625), ('arcely', 2.841796875)], [(' )^', 2.916015625), ('msa', 2.6875), ('_*(', 2.599609375), ('灼', 2.50390625), ('==)', 2.486328125)], [('anship', 2.705078125), ('frak', 2.390625), ('iedo', 2.38671875), ('PYG', 2.326171875), ('лю', 2.294921875)], [(' me', 11.90625), ('Me', 9.2890625), (' Me', 9.2421875), ('me', 6.89453125), ('riendo', 6.484375)], [('nance', 3.064453125), ('LIBRARY', 2.94140625), ('omac', 2.9375), ('omorf', 2.90234375), ('朱元', 2.806640625)], [('�', 2.71875), ('usement', 2.642578125), ('ernel', 2.640625), (' vaix', 2.396484375), ('ddots', 2.359375)], [('orld', 6.3046875), ('umers', 6.2734375), ('exist', 6.26953125), ('inters', 6.19921875), ('WithError', 5.80078125)], [(' експе', 5.99609375), ('立卡', 5.92578125), ('est', 5.49609375), ('Artag', 5.09375), ('ool', 5.09375)], [('Latch', 3.267578125), ('poon', 3.177734375), ('pectrum', 2.900390625), ('ounge', 2.744140625), ('inars', 2.732421875)], [('Newtonsoft', 3.2265625), ('ническата', 3.205078125), ('朱元', 3.189453125), ('artistes', 3.162109375), ('日内与', 3.12890625)]]\n",
      "Expert predictions by position: {4: {0: [('then', 0.60205078125), (' then', 0.55712890625), (' THEN', 0.430419921875), ('Then', 0.422607421875), (' Then', 0.371337890625)], 1: [('2', 0.348876953125), ('1', 0.3466796875), ('3', 0.343994140625), ('7', 0.333251953125), ('5', 0.32861328125)], 9: [('grafs', 2.36328125), ('peror', 2.359375), ('sies', 2.3203125), ('ETS', 2.212890625), ('CharacterOffset', 2.203125)], 25: [(' sh', 1.1259765625), ('TEL', 1.11328125), ('option', 1.09765625), ('lib', 1.0546875), ('ah', 1.052734375)], 27: [('枕', 0.96044921875), ('胳', 0.9375), ('啼', 0.8681640625), ('土耳', 0.8671875), ('ija', 0.8447265625)], 62: [('c', 0.1934814453125), ('i', 0.1910400390625), ('im', 0.1844482421875), ('Link', 0.1826171875), ('E', 0.18017578125)]}, 6: {0: [('华盛', 0.2205810546875), ('ято', 0.1961669921875), ('spa', 0.1934814453125), ('寡', 0.19091796875), ('края', 0.19091796875)], 1: [('1', 0.66845703125), ('0', 0.642578125), ('6', 0.63818359375), ('7', 0.61669921875), ('2', 0.58837890625)], 9: [(' or', 0.319580078125), (' или', 0.317138671875), ('или', 0.261962890625), (' nebo', 0.2467041015625), ('或其它', 0.2464599609375)], 27: [(' string', 0.428466796875), (' tag', 0.415771484375), ('tag', 0.40234375), ('tags', 0.393798828125), (' class', 0.37060546875)], 39: [('дир', 0.416259765625), ('uder', 0.408203125), ('zin', 0.394775390625), ('uxe', 0.38525390625), ('avenport', 0.38134765625)], 62: [('NDER', 0.8076171875), ('\\tBy', 0.80126953125), ('庄', 0.79638671875), ('rost', 0.78271484375), ('miral', 0.775390625)]}, 5: {2: [('prit', 0.54296875), (' СС', 0.537109375), (' ae', 0.5302734375), ('apon', 0.5263671875), ('ropical', 0.517578125)], 7: [('olia', 0.5078125), ('enar', 0.444580078125), ('enko', 0.429443359375), ('ssil', 0.41650390625), ('ucial', 0.4111328125)], 13: [('ingui', 2.17578125), ('унд', 2.05078125), ('pdfstring', 2.025390625), ('мени', 2.001953125), ('imales', 1.9921875)], 17: [('过去的', 0.48779296875), ('过去', 0.469482421875), ('slaught', 0.423583984375), ('ourney', 0.415771484375), ('terness', 0.41064453125)], 27: [('лад', 0.2509765625), ('туа', 0.24560546875), ('ilage', 0.241455078125), ('blic', 0.225341796875), ('рев', 0.2237548828125)], 54: [('圾', 0.29931640625), ('мб', 0.29638671875), ('ynchron', 0.27392578125), ('vena', 0.267578125), ('мби', 0.26171875)]}, 7: {2: [('coles', 0.33154296875), (' propied', 0.31494140625), ('isolate', 0.301513671875), ('лага', 0.29541015625), ('hores', 0.295166015625)], 15: [('Mother', 0.486083984375), (' Mother', 0.484619140625), ('巩', 0.47021484375), ('龚', 0.4541015625), (' Coco', 0.41650390625)], 22: [('负', 0.859375), ('inction', 0.7880859375), ('issons', 0.76708984375), ('пе', 0.75830078125), ('inctions', 0.72705078125)], 32: [('рати', 0.0361328125), ('нето', 0.031341552734375), ('ownt', 0.0291290283203125), ('ндия', 0.0289764404296875), ('bibliograph', 0.028839111328125)], 41: [('iptic', 0.398193359375), ('nqu', 0.341796875), ('gences', 0.341552734375), ('ubern', 0.34033203125), ('obius', 0.340087890625)], 59: [('Kind', 1.169921875), ('oides', 1.12890625), ('quera', 1.1103515625), ('罩', 1.1083984375), ('ydney', 1.0966796875)]}, 2: {4: [('escala', 0.1610107421875), ('пре', 0.156982421875), ('日内与', 0.1466064453125), ('ocells', 0.1448974609375), ('fter', 0.1427001953125)], 8: [('��', 0.490966796875), ('фон', 0.41552734375), ('吊', 0.3935546875), ('гон', 0.392333984375), ('0', 0.391357421875)], 24: [('illery', 0.21826171875), ('being', 0.2080078125), (' being', 0.20703125), ('ched', 0.206298828125), ('格', 0.2060546875)], 26: [(' me', 0.43310546875), ('opies', 0.42138671875), (' Golden', 0.4111328125), ('acen', 0.38916015625), ('ridors', 0.386474609375)], 27: [(' expressi', 0.91015625), (' клет', 0.8037109375), (' expression', 0.791015625), (' expressions', 0.76708984375), (' programes', 0.7587890625)], 60: [('rinos', 0.26904296875), ('decay', 0.2685546875), ('Higgs', 0.263671875), ('еро', 0.262451171875), ('нос', 0.2493896484375)]}, 8: {4: [('omin', 0.53369140625), ('южет', 0.464599609375), ('ი', 0.46435546875), ('нина', 0.454833984375), ('quetes', 0.43798828125)], 8: [('constitution', 0.74951171875), ('ections', 0.68896484375), ('IMIT', 0.68115234375), ('isite', 0.67822265625), ('дри', 0.6689453125)], 26: [(' me', 5.30078125), ('-', 4.5390625), (' Me', 4.390625), ('Me', 4.03515625), ('Be', 3.87109375)], 27: [('包', 1.01171875), (' Package', 0.8515625), (' PACKAGE', 0.78369140625), (' package', 0.7802734375), ('Package', 0.76123046875)], 33: [('aleses', 0.2135009765625), ('issos', 0.2083740234375), ('habi', 0.200439453125), ('保时', 0.197998046875), ('obert', 0.1927490234375)], 60: [('\\tspin', 0.24462890625), ('submenu', 0.195068359375), ('magnetic', 0.1949462890625), ('herits', 0.1944580078125), ('ург', 0.186279296875)]}, 10: {6: [('\\tto', 1.6923828125), (' to', 1.5419921875), ('to', 1.3564453125), ('mons', 1.1923828125), ('tode', 1.1767578125)], 17: [('�', 0.689453125), ('FLAG', 0.6533203125), ('uracy', 0.60498046875), ('urate', 0.60400390625), ('кат', 0.5947265625)], 19: [('uent', 0.39453125), ('anse', 0.360595703125), ('asure', 0.310791015625), ('�', 0.289306640625), ('unities', 0.287841796875)], 34: [('новка', 0.364990234375), ('etre', 0.352783203125), ('人民的', 0.313232421875), ('ровка', 0.311279296875), ('рови', 0.305419921875)], 35: [('rafo', 0.454833984375), ('rivation', 0.452392578125), ('Saw', 0.450439453125), (' Saw', 0.435302734375), ('казват', 0.43359375)], 55: [('them', 0.2841796875), (' them', 0.28125), (' Them', 0.2509765625), (' THEM', 0.203857421875), ('peror', 0.1981201171875)]}, 11: {6: [('пие', 0.60693359375), ('itespace', 0.56689453125), ('�', 0.53662109375), ('巨', 0.529296875), ('кър', 0.5234375)], 7: [('nave', 5.90234375), ('HEAD', 5.20703125), ('orld', 5.0078125), ('head', 4.9609375), ('exist', 4.9375)], 17: [('клопе', 0.2135009765625), ('вайг', 0.2100830078125), ('ynchronously', 0.2000732421875), ('heid', 0.1884765625), ('ърд', 0.1861572265625)], 19: [('reus', 0.95947265625), ('verages', 0.93017578125), ('uites', 0.90234375), ('assar', 0.87060546875), ('ideo', 0.86376953125)], 25: [('照', 0.202880859375), ('agus', 0.163818359375), ('ieve', 0.1365966796875), ('留', 0.1358642578125), ('yet', 0.13232421875)], 36: [(' top', 0.220703125), ('言', 0.219970703125), ('usted', 0.2193603515625), ('AVA', 0.2144775390625), (' TOP', 0.2127685546875)]}, 19: {6: [('\\tto', 0.72509765625), ('翼翼', 0.67041015625), (' to', 0.6650390625), ('yte', 0.53271484375), ('uct', 0.52978515625)], 18: [('quier', 0.0242462158203125), ('oret', 0.0221099853515625), ('лин', 0.021087646484375), ('cides', 0.0208740234375), ('ocup', 0.0206756591796875)], 19: [('DLINE', 0.35693359375), ('pice', 0.33203125), ('aneres', 0.31640625), ('bona', 0.303466796875), ('piques', 0.302490234375)], 25: [('ildo', 0.279052734375), ('敬', 0.257568359375), ('eel', 0.247802734375), ('BOOT', 0.24658203125), ('pod', 0.2410888671875)], 29: [('ustral', 3.802734375), ('клопе', 3.74609375), (' Llobregat', 3.4375), (' експе', 3.4296875), ('没关系', 3.380859375)], 34: [('bett', 0.9833984375), ('тата', 0.9716796875), ('\\tthe', 0.9404296875), ('the', 0.89892578125), ('lund', 0.8798828125)]}, 20: {6: [(' about', 0.465087890625), (' out', 0.42822265625), ('out', 0.392333984375), ('about', 0.386962890625), ('Out', 0.379638671875)], 9: [('？', 1.9443359375), ('?\\\\', 1.625), ('保', 1.6181640625), (' Pls', 1.4833984375), ('\"？', 1.4560546875)], 19: [('estret', 0.443115234375), ('icolumn', 0.43408203125), ('ilion', 0.404052734375), ('assump', 0.40185546875), ('itons', 0.400390625)], 25: [('ildo', 0.69140625), ('�', 0.68359375), ('iaries', 0.6767578125), (' later', 0.6640625), ('�', 0.66357421875)], 29: [('means', 0.64697265625), (' means', 0.59130859375), ('meant', 0.447509765625), (' Means', 0.43212890625), (' meant', 0.356689453125)], 34: [('andr', 0.55712890625), ('ων', 0.50048828125), ('sie', 0.489990234375), ('sell', 0.482421875), ('馒', 0.482177734375)]}, 12: {7: [('мика', 2.654296875), (' ку', 2.263671875), ('OTH', 2.22265625), ('oth', 2.18359375), ('PREV', 2.177734375)], 10: [(' Come', 1.4560546875), (' comin', 1.353515625), ('getC', 1.2861328125), ('Come', 1.2861328125), (' come', 1.234375)], 28: [('圾', 0.301513671875), ('vetica', 0.2744140625), ('一番', 0.261962890625), ('�起', 0.248779296875), ('sensitivity', 0.2459716796875)], 35: [(' ever', 0.70263671875), ('ever', 0.58251953125), (' EVER', 0.5458984375), ('EVER', 0.499267578125), ('Ever', 0.4287109375)], 40: [('lish', 0.2156982421875), ('ermark', 0.21337890625), ('dered', 0.206298828125), ('uy', 0.205810546875), ('制的', 0.2032470703125)], 49: [('系', 0.383544921875), ('ea', 0.320556640625), ('程', 0.31787109375), (' маха', 0.317138671875), ('0', 0.31103515625)]}, 18: {7: [('.~(', 2.796875), ('terday', 2.517578125), ('不当', 2.451171875), ('Vi', 2.400390625), ('ubi', 2.369140625)], 9: [('endregion', 1.5703125), (' Ahead', 1.505859375), ('enci', 1.4091796875), ('encial', 1.3681640625), ('egraphics', 1.3662109375)], 29: [('sembles', 1.552734375), ('struments', 1.509765625), ('sembl', 1.462890625), ('=\"../../../../../../../../', 1.404296875), ('族自治', 1.396484375)], 43: [('notes', 0.1917724609375), ('仅代表作者本人观点', 0.1873779296875), ('oci', 0.1729736328125), ('tera', 0.17041015625), (' still', 0.16650390625)], 48: [(' me', 2.4296875), ('康', 1.720703125), ('me', 1.677734375), (' con', 1.630859375), (' Me', 1.6083984375)], 61: [('otge', 0.63818359375), ('acios', 0.52587890625), ('棠', 0.50732421875), ('alesa', 0.50732421875), ('atoga', 0.495849609375)]}, 21: {7: [('呢', 0.307373046875), ('了呢', 0.292724609375), ('tted', 0.24169921875), ('metav', 0.2403564453125), ('paramname', 0.23095703125)], 13: [(' its', 0.85693359375), ('elta', 0.78076171875), (' itself', 0.77783203125), ('fuls', 0.76416015625), ('its', 0.74609375)], 17: [('тин', 0.376953125), ('ът', 0.36376953125), ('ajut', 0.36328125), ('avar', 0.34619140625), ('lectuals', 0.327392578125)], 35: [(' seen', 1.234375), ('seen', 1.1953125), ('eur', 1.0380859375), (' види', 1.0322265625), ('see', 1.009765625)], 48: [('пове', 0.7890625), ('峡', 0.6904296875), ('par', 0.64111328125), ('cob', 0.640625), ('either', 0.63818359375)], 54: [('榄', 0.283935546875), ('akala', 0.267333984375), ('erti', 0.261474609375), ('рас', 0.25390625), ('tzmann', 0.247314453125)]}, 15: {8: [('胡', 0.300048828125), ('серва', 0.29443359375), ('зона', 0.29443359375), ('very', 0.284912109375), ('华声', 0.27490234375)], 17: [('Abans', 0.7060546875), ('нец', 0.70068359375), ('{=', 0.6611328125), ('кала', 0.650390625), (' thead', 0.64501953125)], 19: [('ndex', 0.83203125), ('лян', 0.765625), (' pugu', 0.75927734375), ('agio', 0.72900390625), ('ersal', 0.7236328125)], 26: [('otically', 0.6591796875), ('pzc', 0.63134765625), ('тати', 0.62841796875), ('icrosoft', 0.61572265625), (' Съеди', 0.59423828125)], 34: [('VILLE', 1.34375), ('ville', 1.1904296875), ('сност', 1.1484375), (' derro', 1.12109375), ('мената', 1.1064453125)], 48: [('veau', 0.70263671875), ('iclop', 0.6513671875), ('ostes', 0.64404296875), (' travessa', 0.59375), ('罗', 0.57763671875)]}, 1: {9: [(' please', 0.62841796875), ('please', 0.5380859375), (' Please', 0.5029296875), ('Please', 0.48486328125), ('？', 0.470703125)], 16: [('мил', 0.17041015625), ('atal', 0.1656494140625), ('вица', 0.1646728515625), ('top', 0.16357421875), ('刷', 0.1575927734375)], 27: [('jgl', 1.609375), ('窗口', 1.359375), ('fbox', 1.3115234375), ('泡沫', 1.294921875), ('жител', 1.255859375)], 41: [('arque', 0.50244140625), ('tility', 0.483642578125), ('зем', 0.475830078125), (' медал', 0.45849609375), (' cartell', 0.452880859375)], 61: [('help', 0.1612548828125), (' help', 0.153076171875), ('pings', 0.15087890625), ('（', 0.1484375), ('kee', 0.1429443359375)], 62: [('0', 0.462890625), ('8', 0.453369140625), ('amer', 0.4375), ('er', 0.43701171875), ('Rob', 0.4306640625)]}, 3: {9: [(' Pls', 2.091796875), (' pl', 1.908203125), (' if', 1.904296875), ('ples', 1.7265625), ('威', 1.7109375)], 16: [('short', 1.3779296875), ('Short', 1.287109375), (' Short', 1.255859375), (' short', 1.234375), ('SES', 1.107421875)], 24: [('abby', 0.328857421875), (' Аб', 0.321533203125), ('ovsky', 0.312744140625), ('core', 0.311279296875), (' Вътре', 0.303955078125)], 26: [('indows', 1.3232421875), ('giv', 1.2529296875), ('топ', 1.240234375), ('toctree', 1.201171875), ('IED', 1.1865234375)], 27: [(' string', 0.8173828125), (' Shelf', 0.77001953125), ('圣地', 0.73291015625), ('rero', 0.72509765625), (' character', 0.72509765625)], 52: [(' here', 0.380859375), ('here', 0.3505859375), ('sona', 0.283203125), ('Here', 0.273193359375), (' Here', 0.268798828125)]}, 13: {9: [(' ?),', 0.6328125), ('adays', 0.59765625), ('asma', 0.5732421875), (' ?)', 0.54443359375), ('сев', 0.52783203125)], 15: [(' Христо', 0.17333984375), ('QUI', 0.160400390625), ('iqu', 0.154052734375), ('同志', 0.1531982421875), ('ipart', 0.152099609375)], 27: [('peed', 1.1279296875), ('ymatrix', 1.1083984375), ('unction', 1.0634765625), ('бал', 1.0478515625), ('edded', 1.0263671875)], 29: [('сет', 0.5634765625), (' est', 0.5517578125), (' serien', 0.51171875), ('semble', 0.4970703125), ('мани', 0.489501953125)], 30: [('步', 0.1922607421875), (' autod', 0.140869140625), ('走的', 0.1351318359375), ('xit', 0.135009765625), ('лик', 0.13427734375)], 62: [('Member', 0.23486328125), (' Member', 0.218017578125), ('wrote', 0.196044921875), ('Posts', 0.1922607421875), ('member', 0.189208984375)]}, 0: {10: [(' involving', 8.34375), (' involved', 6.19140625), ('unker', 6.15625), ('ostes', 6.0703125), (' жа', 6.05859375)], 18: [('ard', 3.720703125), ('st', 3.517578125), ('re', 3.43359375), ('ra', 3.361328125), ('e', 3.326171875)], 21: [('3', 0.042083740234375), ('9', 0.0394287109375), ('6', 0.03790283203125), ('5', 0.03582763671875), ('4', 0.03466796875)], 32: [('erva', 0.2230224609375), ('sics', 0.222900390625), ('uci', 0.220947265625), ('Record', 0.2208251953125), ('�', 0.2166748046875)], 50: [('фра', 0.29833984375), ('^-_', 0.297119140625), ('fons', 0.29296875), ('ия', 0.289794921875), (' vast', 0.289306640625)], 59: [('рън', 0.035614013671875), ('orell', 0.033660888671875), ('aming', 0.0296478271484375), (' well', 0.029266357421875), (' Well', 0.028289794921875)]}, 14: {15: [('5', 0.2210693359375), ('мбарди', 0.2197265625), ('2', 0.212890625), ('7', 0.21044921875), ('罢了', 0.2060546875)], 17: [('9', 0.6474609375), ('1', 0.60498046875), ('0', 0.60107421875), ('8', 0.58740234375), ('4', 0.58154296875)], 22: [('anners', 0.61083984375), ('\\tthe', 0.5986328125), (' thead', 0.59716796875), (' the', 0.58154296875), ('hler', 0.5654296875)], 34: [('仔', 1.6171875), ('най', 1.30859375), ('4', 1.228515625), ('ifl', 1.1943359375), ('good', 1.134765625)], 48: [(' me', 7.26953125), ('Me', 4.98046875), (' Me', 4.91796875), ('me', 4.2578125), ('oper', 4.09375)], 59: [('Should', 0.88916015625), ('May', 0.84619140625), ('should', 0.81689453125), (' Should', 0.77490234375), ('Activitats', 0.73828125)]}, 16: {18: [('re', 1.9072265625), ('reure', 1.6806640625), ('xtil', 1.6396484375), ('尊', 1.5673828125), ('�', 1.5537109375)], 23: [('odes', 1.3837890625), ('nces', 1.361328125), ('tic', 1.3388671875), ('委', 1.3193359375), ('tml', 1.3125)], 26: [('oremove', 1.2255859375), ('enseny', 1.2109375), ('atra', 1.205078125), ('pula', 1.1591796875), ('ollow', 1.1484375)], 31: [('чели', 0.39990234375), ('orsed', 0.370849609375), ('局的', 0.361328125), ('ede', 0.360107421875), ('敷', 0.35791015625)], 34: [(' even', 0.393310546875), ('acor', 0.35107421875), ('even', 0.34619140625), ('acta', 0.340087890625), ('IUM', 0.330810546875)], 46: [('widet', 0.763671875), ('factual', 0.73828125), ('jgl', 0.71484375), ('refn', 0.70458984375), ('ascut', 0.6787109375)]}, 17: {18: [('LIBRARY', 2.23046875), ('illing', 2.140625), ('il', 2.109375), ('сиона', 2.107421875), ('стина', 2.044921875)], 29: [('PDO', 3.51953125), ('Abra', 3.205078125), ('ceeded', 3.08203125), ('GRAPH', 2.994140625), ('��', 2.876953125)], 30: [(' ръце', 0.11004638671875), ('ffect', 0.106689453125), ('nable', 0.1048583984375), (' Републикански', 0.09930419921875), ('noframe', 0.0986328125)], 44: [(' Regi', 0.271484375), ('近平', 0.25439453125), (' us', 0.2529296875), ('锥', 0.2467041015625), (' ман', 0.2396240234375)], 58: [('шо', 0.779296875), ('лим', 0.76416015625), (' cir', 0.7490234375), ('chio', 0.732421875), ('чо', 0.71875)], 63: [('Phabricator', 0.1400146484375), ('Alfons', 0.132080078125), ('hys', 0.12481689453125), ('盘', 0.122802734375), ('oust', 0.1199951171875)]}, 9: {24: [('turns', 0.650390625), ('turn', 0.62109375), ('Turn', 0.5546875), (' turns', 0.5126953125), (' turn', 0.5087890625)], 26: [('lustr', 0.2174072265625), (' franqu', 0.1917724609375), ('aveu', 0.184326171875), ('�', 0.1827392578125), ('emonstr', 0.1815185546875)], 29: [(' est', 0.62548828125), ('EST', 0.50927734375), (' oest', 0.457763671875), ('Est', 0.451171875), ('apsed', 0.42138671875)], 33: [('Vtbl', 0.103759765625), ('uresa', 0.10009765625), ('vark', 0.08966064453125), ('Май', 0.08428955078125), ('Magent', 0.083740234375)], 34: [('artney', 1.3798828125), ('even', 1.3779296875), (' even', 1.369140625), ('\\tthe', 1.3486328125), ('cular', 1.345703125)], 53: [('eado', 0.626953125), ('гиз', 0.62646484375), ('希', 0.6201171875), ('Selection', 0.6103515625), (' hel', 0.59912109375)]}}\n",
      "Shared expert predictions: [[('ODO', 0.7451171875), (' Comen', 0.73681640625), ('KV', 0.728515625), ('加快推进', 0.72216796875), ('固执', 0.716796875)], [(' Хърват', 1.998046875), (' кита', 1.912109375), (' Гър', 1.771484375), ('Jap', 1.6591796875), (' армен', 1.65625)], [('NOSCRIPT', 1.9892578125), (' Хърват', 1.748046875), (' Гър', 1.638671875), ('CharacterOffset', 1.6298828125), ('Ungrouped', 1.611328125)], [('NOSCRIPT', 2.39453125), ('frak', 2.279296875), (' кита', 2.03125), ('ENG', 2.013671875), ('mathbold', 2.0078125)], [('NOSCRIPT', 2.193359375), ('ENI', 1.77734375), ('hores', 1.71484375), ('Abans', 1.7138671875), ('espera', 1.7099609375)], [(' бол', 3.25390625), (' Гър', 3.216796875), (' турски', 3.185546875), (' полски', 3.173828125), (' Хърват', 3.052734375)], [('subNav', 1.166015625), ('bres', 1.1357421875), ('izzes', 1.099609375), (' ../../../', 1.087890625), ('artney', 1.08203125)], [('NOSCRIPT', 1.59765625), ('msa', 1.37890625), ('[--', 1.2724609375), ('googleads', 1.2685546875), ('MSearch', 1.25390625)], [('NOSCRIPT', 1.7890625), ('Ungrouped', 1.5537109375), ('FieldLocation', 1.521484375), ('CharacterOffset', 1.51171875), ('OperationKind', 1.4873046875)], [('NOSCRIPT', 2.470703125), ('HeadingColor', 2.1796875), ('=\"../../../../../../../../', 2.126953125), ('CharacterOffset', 2.0859375), (']-->', 2.083984375)], [('FieldLocation', 1.3076171875), ('PYG', 1.2861328125), ('CharacterOffset', 1.2265625), (' madril', 1.1904296875), ('ReadWriteAccess', 1.189453125)], [('Ungrouped', 1.7900390625), ('FieldLocation', 1.6171875), ('untime', 1.5068359375), ('rrbracket', 1.5029296875), ('CODEGEN', 1.47265625)], [('CODEGEN', 1.52734375), ('eech', 1.458984375), ('rub', 1.36328125), (' или', 1.3623046875), ('omitempty', 1.3583984375)], [(' h', 1.4541015625), (' m', 1.2646484375), ('\\xa0m', 1.1357421875), ('旋', 1.134765625), ('↓↓↓', 1.064453125)], [('frak', 1.4814453125), ('NOSCRIPT', 1.294921875), ('Parted', 1.2666015625), ('^*)', 1.2275390625), ('ISAM', 1.2197265625)], [('omys', 1.3134765625), ('�', 1.24609375), ('navBar', 1.181640625), ('ptive', 1.1455078125), ('HDA', 1.1416015625)], [('】【', 1.0078125), ('星驰', 1.005859375), ('onar', 0.9873046875), ('造假', 0.96630859375), ('ierre', 0.95068359375)], [('rowse', 1.421875), ('footnotes', 1.388671875), ('tocols', 1.3623046875), ('arrings', 1.3603515625), ('iterr', 1.3359375)], [('ween', 1.1279296875), ('�', 1.1181640625), ('.+', 1.0322265625), ('emer', 1.0205078125), ('жда', 0.99169921875)], [(' или', 1.427734375), ('opil', 1.4169921875), ('mysq', 1.3505859375), ('或在', 1.3310546875), ('luence', 1.3310546875)], [('iquel', 1.3720703125), ('antan', 1.32421875), ('Latch', 1.3125), ('ěř', 1.2666015625), ('frak', 1.2373046875)], [(' Llengu', 1.68359375), (' integraven', 1.5986328125), ('timologia', 1.5537109375), ('uedes', 1.5126953125), (' aturades', 1.5009765625)]]\n",
      "\n",
      "MoE Layer 24:\n",
      "Selected experts: [[18, 11, 49, 37, 59, 23], [38, 27, 10, 11, 29, 31], [32, 13, 26, 39, 9, 3], [9, 24, 13, 3, 15, 26], [27, 13, 24, 63, 57, 11], [9, 52, 13, 3, 40, 32], [13, 27, 38, 63, 24, 17], [27, 23, 13, 10, 39, 21], [32, 25, 26, 39, 29, 48], [32, 8, 36, 29, 13, 33], [32, 49, 60, 28, 29, 57], [60, 49, 32, 38, 57, 48], [2, 43, 55, 18, 32, 48], [38, 13, 17, 27, 54, 23], [31, 34, 23, 39, 50, 13], [32, 22, 9, 58, 49, 44], [32, 11, 45, 38, 8, 29], [44, 25, 30, 43, 47, 48], [32, 1, 22, 34, 44, 4], [11, 49, 60, 32, 38, 28], [34, 60, 49, 57, 32, 17], [32, 41, 62, 22, 60, 40]]\n",
      "Expert weights: [[0.0810546875, 0.06951904296875, 0.36376953125, 0.026336669921875, 0.01995849609375, 0.019927978515625], [0.10955810546875, 0.08599853515625, 0.06512451171875, 0.051422119140625, 0.05120849609375, 0.0509033203125], [0.06243896484375, 0.044525146484375, 0.09686279296875, 0.034942626953125, 0.034759521484375, 0.033660888671875], [0.045684814453125, 0.05126953125, 0.047576904296875, 0.035247802734375, 0.03399658203125, 0.033172607421875], [0.060150146484375, 0.065673828125, 0.15380859375, 0.053253173828125, 0.052978515625, 0.049957275390625], [0.07342529296875, 0.107177734375, 0.06793212890625, 0.0570068359375, 0.1004638671875, 0.0313720703125], [0.07147216796875, 0.091064453125, 0.055816650390625, 0.054168701171875, 0.049407958984375, 0.04412841796875], [0.1162109375, 0.0833740234375, 0.05084228515625, 0.04864501953125, 0.048309326171875, 0.04327392578125], [0.12408447265625, 0.097412109375, 0.06939697265625, 0.0904541015625, 0.0307769775390625, 0.0272979736328125], [0.13623046875, 0.253662109375, 0.0435791015625, 0.03411865234375, 0.030975341796875, 0.0301971435546875], [0.07220458984375, 0.1536865234375, 0.26611328125, 0.049591064453125, 0.03155517578125, 0.0190277099609375], [0.219970703125, 0.102294921875, 0.05584716796875, 0.046356201171875, 0.0389404296875, 0.02911376953125], [0.091064453125, 0.091064453125, 0.0513916015625, 0.0418701171875, 0.04150390625, 0.040985107421875], [0.11004638671875, 0.0745849609375, 0.064208984375, 0.059783935546875, 0.031768798828125, 0.030609130859375], [0.08026123046875, 0.07366943359375, 0.052398681640625, 0.04803466796875, 0.045928955078125, 0.041015625], [0.0771484375, 0.221435546875, 0.061370849609375, 0.06005859375, 0.046630859375, 0.03350830078125], [0.07000732421875, 0.07025146484375, 0.07421875, 0.060821533203125, 0.059051513671875, 0.055084228515625], [0.09405517578125, 0.06304931640625, 0.050262451171875, 0.04278564453125, 0.042572021484375, 0.041412353515625], [0.11773681640625, 0.047607421875, 0.048065185546875, 0.055816650390625, 0.04296875, 0.0328369140625], [0.22216796875, 0.08416748046875, 0.07196044921875, 0.0654296875, 0.0306549072265625, 0.0267486572265625], [0.1116943359375, 0.384521484375, 0.06085205078125, 0.0654296875, 0.058746337890625, 0.03997802734375], [0.10223388671875, 0.068359375, 0.0635986328125, 0.055419921875, 0.0484619140625, 0.043670654296875]]\n",
      "Combined output tokens: [[(' involving', 9.578125), ('ostes', 7.98828125), ('agena', 7.75390625), (' жа', 7.6015625), (' involved', 7.4375)], [('cesi', 2.552734375), ('irection', 2.095703125), ('retained', 1.9658203125), ('ionistes', 1.94921875), ('arga', 1.9462890625)], [('HeadingColor', 3.185546875), ('@{}', 2.943359375), ('CharacterOffset', 2.94140625), ('NOSCRIPT', 2.912109375), ('CODEGEN', 2.857421875)], [('Inventari', 2.333984375), ('undos', 1.990234375), ('rbrace', 1.841796875), (' Segon', 1.833984375), ('STRAINT', 1.8251953125)], [('renc', 4.609375), ('\\tin', 4.2890625), ('视镜', 4.19921875), ('tically', 4.1875), ('Икономи', 4.1328125)], [('APIENTRY', 4.82421875), ('citealp', 4.578125), ('bours', 4.5390625), (' Llib', 4.5390625), ('anguages', 4.48046875)], [(' Treball', 2.54296875), ('arette', 2.484375), ('�', 2.390625), ('iotic', 2.3828125), ('晰', 2.380859375)], [('dear', 3.58203125), ('lica', 3.427734375), ('AAAAAAAAAAAAAAAA', 3.150390625), ('кови', 3.099609375), ('><![', 3.083984375)], [('iom', 2.728515625), ('�乐', 2.7109375), ('irs', 2.61328125), ('�', 2.373046875), (' quadr', 2.302734375)], [('ueba', 3.82421875), ('方位', 3.740234375), ('boa', 3.646484375), ('ixi', 3.54296875), ('hyde', 3.5078125)], [('umble', 4.30859375), ('дава', 3.84375), ('ARD', 3.79296875), ('umbles', 3.693359375), ('гото', 3.4921875)], [('\\tto', 6.19921875), ('\\tTo', 5.40234375), ('nto', 5.2265625), ('sto', 5.0859375), (' to', 4.9140625)], [('HD', 1.91796875), ('……', 1.8056640625), ('直升', 1.78515625), ('hd', 1.779296875), ('hyde', 1.7578125)], [('este', 3.041015625), ('�', 2.6953125), ('мини', 2.642578125), ('dear', 2.640625), ('展', 2.626953125)], [('AO', 1.9326171875), ('esters', 1.931640625), (' sorge', 1.908203125), (' Pe', 1.7578125), ('unde', 1.751953125)], [('erella', 3.810546875), ('hav', 3.802734375), ('haver', 3.7578125), ('uelva', 3.75390625), ('зани', 3.61328125)], [('庸', 2.080078125), ('共', 2.05078125), ('康', 2.02734375), ('零', 2.0234375), (' presentava', 1.96875)], [('还好', 1.564453125), ('ogu', 1.3671875), ('edat', 1.2587890625), ('adas', 1.2119140625), ('ieras', 1.1982421875)], [('暂', 2.376953125), ('oser', 2.28125), ('ently', 2.244140625), (' \"%', 2.189453125), (' наречена', 2.171875)], [('e', 12.4375), ('ezna', 9.4765625), ('ecci', 8.984375), ('eV', 8.9375), ('ndum', 8.4453125)], [('тено', 5.609375), ('POR', 5.23046875), ('разуме', 5.1875), ('лярен', 5.14453125), (' por', 5.0078125)], [('роко', 2.873046875), ('emente', 2.53125), ('昧', 2.51953125), ('Ï', 2.5), ('ством', 2.228515625)]]\n",
      "Expert predictions by position: {18: {1: [('тория', 0.53955078125), ('ly', 0.5126953125), ('рут', 0.5078125), ('фици', 0.5078125), ('resa', 0.47705078125)], 4: [('ardown', 0.349365234375), (' толкова', 0.299560546875), ('mne', 0.288330078125), ('irat', 0.28076171875), ('当', 0.278564453125)], 22: [('威', 0.7099609375), ('uen', 0.708984375), ('ionar', 0.705078125), ('pedia', 0.689453125), ('ueba', 0.671875)], 32: [('”', 0.91845703125), ('\"', 0.83984375), ('“', 0.7978515625), ('``', 0.67138671875), ('\\x94', 0.669921875)], 34: [(' Pe', 1.05859375), (' En', 0.9697265625), ('pe', 0.95654296875), ('Pe', 0.9365234375), ('fel', 0.92919921875)], 44: [('UNIT', 0.31787109375), ('сау', 0.275146484375), ('зе', 0.274658203125), ('зема', 0.26953125), ('PACE', 0.26611328125)]}, 12: {2: [('SError', 0.61669921875), ('htaking', 0.60205078125), ('quier', 0.59130859375), ('ptica', 0.57373046875), (' parlat', 0.5712890625)], 18: [('��', 0.188232421875), ('��', 0.18505859375), ('down', 0.1729736328125), ('thems', 0.16748046875), (' munt', 0.1651611328125)], 32: [('穴', 1.1943359375), ('ording', 1.1669921875), ('***', 1.125), ('Natural', 1.1142578125), ('natural', 1.109375)], 43: [('台上', 0.213623046875), ('同类', 0.2120361328125), ('台', 0.2117919921875), ('arry', 0.20849609375), ('床上', 0.202392578125)], 48: [('дви', 0.260009765625), ('enes', 0.259521484375), ('ript', 0.259033203125), ('itself', 0.250244140625), ('ЕФА', 0.243408203125)], 55: [('宅', 0.2037353515625), ('нга', 0.2027587890625), ('bab', 0.1859130859375), ('usal', 0.1722412109375), ('вка', 0.16796875)]}, 2: {3: [(' Mar', 1.3623046875), ('uta', 1.185546875), ('inea', 0.99853515625), ('Mar', 0.99755859375), (' Ori', 0.9619140625)], 9: [('iano', 0.66650390625), ('liments', 0.63037109375), ('��', 0.6123046875), ('冲', 0.6103515625), ('itan', 0.60498046875)], 13: [(' w', 0.34765625), ('cq', 0.293212890625), ('en', 0.28466796875), ('CodeAttribute', 0.284423828125), ('inen', 0.27392578125)], 26: [('subNav', 0.91552734375), ('QGIS', 0.86669921875), ('RIGHT', 0.82958984375), ('orks', 0.80810546875), ('indow', 0.79150390625)], 32: [('XXXX', 0.49951171875), ('XXX', 0.498046875), (' {?}', 0.482666015625), (' XXX', 0.478271484375), (' xxx', 0.46044921875)], 39: [('坷', 0.20947265625), ('稣', 0.2076416015625), ('侮', 0.2025146484375), ('mbH', 0.200927734375), ('agger', 0.198486328125)]}, 3: {3: [(' H', 0.50146484375), ('H', 0.457275390625), (' Mar', 0.44921875), ('зика', 0.412109375), ('сяка', 0.406982421875)], 9: [(' fronte', 1.142578125), ('bock', 1.1005859375), ('hart', 1.0908203125), ('Av', 1.0576171875), ('es', 1.044921875)], 13: [(' us', 0.62841796875), (' n', 0.599609375), ('nics', 0.515625), ('\\tn', 0.5126953125), ('dah', 0.462158203125)], 15: [('何时', 0.434326171875), ('激', 0.39501953125), ('花的', 0.3935546875), ('untime', 0.373291015625), ('灰', 0.370849609375)], 24: [('\\tin', 0.5966796875), ('KES', 0.5869140625), ('gery', 0.5791015625), ('Base', 0.552734375), (' in', 0.55029296875)], 26: [('ticle', 0.3662109375), ('ренция', 0.360107421875), (' paletes', 0.3505859375), ('ascript', 0.348388671875), ('ست', 0.347412109375)]}, 5: {3: [(' Mar', 0.27001953125), ('ie', 0.25732421875), ('娠', 0.25048828125), (' Pal', 0.242431640625), ('ait', 0.241455078125)], 9: [(' he', 0.97509765625), (' он', 0.73388671875), (' hes', 0.69287109375), (' Кън', 0.6689453125), ('گ', 0.61572265625)], 13: [(' slot', 0.9248046875), ('Pdf', 0.91943359375), (' SLOT', 0.91748046875), ('LAIN', 0.91650390625), (' Rating', 0.9140625)], 32: [(\"'\", 1.1455078125), ('`', 0.91064453125), ('...', 0.8388671875), ('/', 0.828125), ('一世', 0.80029296875)], 40: [('citealp', 0.54052734375), ('hibit', 0.5361328125), ('existence', 0.533203125), (' Ajuntament', 0.53076171875), ('CLUD', 0.48974609375)], 52: [(' H', 3.244140625), ('HOO', 2.62109375), ('sol', 2.6171875), ('ungle', 2.513671875), (' Hut', 2.4921875)]}, 9: {8: [('ascut', 2.560546875), ('abre', 2.40234375), ('tesi', 2.40234375), ('Parted', 2.400390625), ('onomia', 2.400390625)], 13: [('славия', 0.8193359375), ('ракия', 0.81640625), (' Bereng', 0.80859375), ('мис', 0.75341796875), ('piar', 0.73388671875)], 29: [('тена', 0.6142578125), ('ilst', 0.5615234375), ('TestUtils', 0.556640625), ('enix', 0.54931640625), ('ulu', 0.53271484375)], 32: [(' \";', 1.1015625), ('/\"', 1.0654296875), (' /', 1.0478515625), ('/', 1.044921875), (' \");', 1.01953125)], 33: [('ym', 0.3212890625), ('-', 0.280517578125), ('americ', 0.27685546875), ('ilis', 0.274169921875), ('ern', 0.25927734375)], 36: [(' abs', 0.7724609375), ('��', 0.69287109375), ('olation', 0.68408203125), ('quam', 0.6669921875), ('MAKE', 0.65673828125)]}, 16: {8: [('hs', 0.67138671875), ('hin', 0.66552734375), ('s', 0.6396484375), (' s', 0.5712890625), ('poses', 0.56298828125)], 11: [('ueren', 1.0498046875), ('urals', 0.97802734375), ('urs', 0.92724609375), ('reure', 0.91845703125), ('urada', 0.90966796875)], 29: [('nsol', 0.37744140625), ('ceil', 0.369384765625), ('aceae', 0.367919921875), (' OTHER', 0.3662109375), ('COPY', 0.35400390625)], 32: [('ing', 1.33984375), ('мове', 1.2841796875), ('ubert', 1.2734375), ('quick', 1.2431640625), ('gor', 1.2421875)], 38: [('ergarten', 0.55322265625), ('Artagnan', 0.49267578125), ('TRANSL', 0.486572265625), ('esport', 0.48291015625), ('seguir', 0.4736328125)], 45: [('iquel', 0.68212890625), ('Ours', 0.6513671875), ('ym', 0.59814453125), ('пад', 0.59814453125), ('zio', 0.5546875)]}, 15: {9: [(' hebreu', 2.404296875), (' sp', 2.1640625), ('ProtoBuf', 2.134765625), (' Edicions', 2.10546875), (' turisme', 2.08203125)], 22: [('密度', 0.5673828125), ('unks', 0.544921875), ('weighted', 0.541015625), (' Sol', 0.5361328125), ('ятно', 0.53564453125)], 32: [('amard', 0.83984375), (\"%'\", 0.791015625), (\"'}{\", 0.77783203125), ('onder', 0.76220703125), ('ichte', 0.759765625)], 44: [('rias', 0.399658203125), ('semb', 0.395751953125), ('��', 0.383056640625), ('SSERT', 0.37939453125), ('пела', 0.367919921875)], 49: [('库', 0.80517578125), ('�', 0.767578125), ('unding', 0.7509765625), ('undle', 0.734375), ('�', 0.70556640625)], 58: [('rita', 0.744140625), ('sov', 0.72705078125), ('abilitat', 0.71142578125), (' tr', 0.70751953125), ('ousing', 0.6962890625)]}, 1: {10: [('enter', 0.415283203125), ('мента', 0.3642578125), ('спор', 0.352294921875), ('acta', 0.3505859375), ('ucus', 0.34228515625)], 11: [('e', 13.7421875), ('ezna', 9.3359375), ('eV', 9.2734375), ('ecci', 8.7265625), ('eel', 8.6015625)], 27: [('━━━━', 1.29296875), ('────────', 1.2607421875), ('lica', 1.220703125), ('terness', 1.17578125), ('edio', 1.16015625)], 29: [('��', 0.33837890625), ('rivol', 0.29345703125), ('的工作', 0.2607421875), ('PEG', 0.25927734375), ('мври', 0.240966796875)], 31: [(' _', 0.6708984375), ('_', 0.6689453125), ('ate', 0.57568359375), ('__', 0.5234375), (' import', 0.513671875)], 38: [('myItem', 1.2841796875), ('ozo', 1.2822265625), ('бра', 1.2392578125), ('estes', 1.228515625), ('dear', 1.1875)]}, 7: {10: [(' GoString', 0.53076171875), ('ghan', 0.4462890625), ('VERT', 0.442138671875), ('writeField', 0.438232421875), ('秀', 0.435302734375)], 13: [('цяло', 1.2099609375), ('GeneratedMessage', 1.197265625), ('atzem', 1.181640625), ('urname', 1.1748046875), ('нуари', 1.166015625)], 21: [('越', 0.2298583984375), ('gether', 0.203857421875), ('5', 0.2037353515625), ('ible', 0.20361328125), ('6', 0.1932373046875)], 23: [('contact', 0.5908203125), ('бал', 0.57666015625), ('associaci', 0.5283203125), ('Contact', 0.52734375), ('MSearch', 0.5068359375)], 27: [(' Negre', 0.86279296875), ('iling', 0.71142578125), ('uda', 0.67626953125), ('inars', 0.67578125), ('小学生', 0.6630859375)], 39: [(' Up', 1.0888671875), ('Up', 1.0537109375), (' up', 0.97802734375), ('up', 0.8349609375), ('upd', 0.705078125)]}, 0: {11: [('omia', 1.328125), ('дей', 1.251953125), ('bole', 1.2294921875), ('ressi', 1.1787109375), ('leted', 1.177734375)], 18: [('��', 0.443115234375), ('айнрих', 0.399658203125), ('��', 0.390625), ('�', 0.378662109375), ('�', 0.3759765625)], 23: [(' Share', 0.3525390625), ('=-=-=-=-', 0.346435546875), ('ITA', 0.333251953125), ('onesa', 0.328125), ('share', 0.321533203125)], 37: [('два', 0.1033935546875), (' serral', 0.09783935546875), ('acis', 0.0966796875), ('ixos', 0.09466552734375), ('iax', 0.093017578125)], 49: [(' still', 2.134765625), ('still', 1.966796875), ('playback', 1.8525390625), ('uliar', 1.8388671875), ('ug', 1.8369140625)], 59: [('��', 0.07373046875), ('��', 0.06463623046875), ('纲', 0.05322265625), ('ioned', 0.0491943359375), ('ublic', 0.048187255859375)]}, 4: {11: [('ivism', 0.8798828125), ('uation', 0.79052734375), ('ials', 0.78564453125), ('ivities', 0.77392578125), ('itudes', 0.765625)], 13: [(' es', 0.5693359375), ('ractive', 0.52490234375), ('plicas', 0.50439453125), ('ificado', 0.5009765625), ('aber', 0.50048828125)], 24: [('ето', 3.427734375), ('querque', 3.421875), ('\\tin', 3.3359375), (' fragment', 3.232421875), ('лизира', 3.033203125)], 27: [('AAAAAAAAAAAAAAAA', 2.5), ('><![', 2.353515625), ('+------------', 2.3125), ('inars', 2.205078125), ('tted', 2.189453125)], 57: [('before', 1.001953125), (' before', 0.9736328125), (' up', 0.83642578125), ('Before', 0.80712890625), (' Up', 0.80615234375)], 63: [(' while', 1.3544921875), ('while', 1.349609375), (' whilst', 1.2080078125), ('\\twhile', 1.115234375), (' mientras', 1.056640625)]}, 19: {11: [('le', 0.262451171875), ('i', 0.240478515625), ('el', 0.2353515625), ('hp', 0.2308349609375), ('pe', 0.22900390625)], 28: [('зен', 0.37353515625), ('escl', 0.353515625), ('ause', 0.32666015625), (' resource', 0.323974609375), ('ippets', 0.321533203125)], 32: [('amiento', 1.662109375), (' avall', 1.6396484375), ('arets', 1.6025390625), ('leness', 1.5693359375), (' street', 1.4775390625)], 38: [('quilla', 0.66943359375), ('eterm', 0.64501953125), ('ypes', 0.63916015625), ('SError', 0.63232421875), ('googleads', 0.607421875)], 49: [('eresis', 1.0009765625), ('opedia', 0.99267578125), ('iliate', 0.93603515625), ('ontab', 0.92333984375), ('noalign', 0.90673828125)], 60: [('фор', 0.556640625), ('ynchronously', 0.53125), ('权的', 0.515625), ('olding', 0.5068359375), ('久而', 0.494384765625)]}, 6: {13: [('rino', 0.4921875), ('\\tD', 0.45703125), (' D', 0.4541015625), ('Ebre', 0.4501953125), ('CodeAttribute', 0.449951171875)], 17: [(')</', 0.78271484375), ('.</', 0.71728515625), ('</', 0.67236328125), ('...</', 0.6552734375), (']</', 0.65185546875)], 24: [('Sched', 0.666015625), ('sched', 0.66259765625), (' Schedule', 0.63427734375), ('亿亿亿', 0.6064453125), (' Sched', 0.59521484375)], 27: [('休', 0.677734375), ('CODEGEN', 0.64794921875), ('лайн', 0.61376953125), ('�', 0.60986328125), ('量为', 0.60302734375)], 38: [('usercontent', 0.86962890625), ('��', 0.7119140625), ('框', 0.7080078125), ('emberg', 0.666015625), ('hens', 0.6552734375)], 63: [('paying', 1.28515625), (' paying', 1.2041015625), (' accord', 1.1201171875), ('ieck', 1.025390625), ('лява', 0.9931640625)]}, 13: {13: [(' nena', 0.5400390625), (' Senyor', 0.5380859375), ('наги', 0.513671875), ('ACP', 0.5126953125), ('Tagged', 0.51123046875)], 17: [('.~(', 1.1767578125), ('ple', 1.1611328125), ('Mall', 1.134765625), ('笔者', 1.125), (' isot', 1.1201171875)], 23: [('kind', 1.2216796875), ('upon', 1.1494140625), (' acknowledgment', 1.130859375), ('徒', 1.1220703125), ('lo', 1.1083984375)], 27: [('igo', 1.1337890625), ('+--------------------------------', 1.1298828125), ('+------------', 1.1015625), ('ulen', 1.0830078125), (' Bism', 1.0009765625)], 38: [('ставка', 0.373291015625), ('ozo', 0.36376953125), ('omi', 0.35693359375), ('aque', 0.3525390625), ('NOSCRIPT', 0.3486328125)], 54: [('ardly', 0.11163330078125), ('беле', 0.10040283203125), ('anea', 0.09942626953125), ('urs', 0.0977783203125), ('privile', 0.09759521484375)]}, 14: {13: [(' Rating', 1.197265625), (' rating', 1.0029296875), ('固体', 0.962890625), ('ifice', 0.96044921875), ('ocument', 0.93701171875)], 23: [('不到', 0.05352783203125), ('миш', 0.0479736328125), (' existence', 0.042877197265625), (' se', 0.04229736328125), ('=\"../_', 0.041015625)], 31: [('))', 1.11328125), (')', 1.064453125), (')?', 1.044921875), (')).', 1.0126953125), (')}_\\\\', 0.94482421875)], 34: [('нец', 1.2978515625), (' DEL', 1.2763671875), ('Del', 1.248046875), (' Del', 1.21875), ('levant', 1.2158203125)], 39: [(' END', 0.68115234375), ('isi', 0.67578125), ('EEEE', 0.65771484375), ('�乐', 0.6416015625), ('пус', 0.64111328125)], 50: [('ajos', 0.388671875), ('宇', 0.38232421875), ('idth', 0.363525390625), (' Μ', 0.359130859375), ('alles', 0.354248046875)]}, 20: {17: [('fid', 0.489013671875), (' ！', 0.45654296875), (' !', 0.4248046875), ('!(', 0.421630859375), (' ', 0.420654296875)], 32: [('/', 0.6806640625), ('/\"', 0.64208984375), ('璐', 0.6064453125), ('\\\\&', 0.59912109375), ('лог', 0.5986328125)], 34: [(' por', 4.45703125), ('por', 4.17578125), ('Por', 3.845703125), ('POR', 3.646484375), (' Por', 3.521484375)], 49: [('ouville', 2.572265625), ('скография', 2.458984375), ('behind', 2.36328125), ('quera', 2.353515625), ('lada', 2.310546875)], 57: [(' up', 1.435546875), ('up', 1.2431640625), ('ups', 1.154296875), (' Up', 1.150390625), ('Up', 1.1015625)], 60: [(' open', 0.71630859375), ('ристия', 0.705078125), ('VERT', 0.67041015625), ('atura', 0.65869140625), ('azi', 0.64990234375)]}, 21: {22: [('зани', 3.509765625), ('osoma', 3.353515625), ('arella', 3.28125), ('Й', 3.208984375), (' Val', 3.162109375)], 32: [(' /**', 0.63623046875), ('Ljava', 0.62158203125), ('/^', 0.61328125), ('/(\\\\', 0.61181640625), ('干燥', 0.6064453125)], 40: [('ptrc', 1.947265625), ('粉', 1.751953125), ('萨斯', 1.7001953125), (' \\\\!\\\\!', 1.697265625), (' romanes', 1.68359375)], 41: [('Ins', 0.71337890625), ('ownt', 0.662109375), ('男士', 0.6337890625), ('kb', 0.62841796875), (' raise', 0.6201171875)], 60: [('ване', 2.44140625), ('umble', 2.2890625), ('нята', 2.234375), (' отново', 2.1953125), ('ват', 2.12890625)], 62: [('्', 0.6923828125), ('вици', 0.68701171875), ('י', 0.65380859375), ('вица', 0.642578125), (' Martorell', 0.642578125)]}, 8: {25: [('还好', 0.70263671875), ('好在', 0.448486328125), ('幸', 0.423828125), ('尚', 0.387451171875), ('还', 0.33447265625)], 26: [('пра', 1.32421875), ('arque', 1.3134765625), ('ascens', 1.267578125), ('querque', 1.240234375), ('alona', 1.23046875)], 29: [('ση', 0.2802734375), ('нати', 0.2578125), ('нан', 0.2425537109375), ('FLASH', 0.238525390625), ('ъ', 0.237060546875)], 32: [('��', 0.5966796875), ('�', 0.463134765625), ('pread', 0.45654296875), ('фей', 0.428466796875), (\"'_\", 0.403564453125)], 39: [('抱', 0.5322265625), ('drom', 0.48828125), ('moj', 0.466064453125), ('iola', 0.462890625), ('衣裙', 0.453125)], 48: [('кса', 0.157958984375), ('unk', 0.1510009765625), ('enes', 0.150634765625), ('icas', 0.1473388671875), ('尽致', 0.1463623046875)]}, 17: {25: [('irs', 0.98388671875), ('纵', 0.85888671875), ('harpoon', 0.7841796875), ('纵横', 0.697265625), ('dol', 0.6943359375)], 30: [('лай', 0.235107421875), ('竞', 0.2218017578125), ('als', 0.218994140625), ('社', 0.215576171875), ('友们', 0.2105712890625)], 43: [('inds', 0.41552734375), ('XII', 0.391357421875), ('asts', 0.37744140625), ('asty', 0.367431640625), ('uez', 0.3564453125)], 44: [('indow', 0.65234375), ('drill', 0.5478515625), ('енти', 0.5302734375), ('sserv', 0.5166015625), ('ilitat', 0.51318359375)], 47: [('stig', 0.252685546875), ('oraci', 0.2261962890625), (' emet', 0.216796875), ('вени', 0.21630859375), ('gredients', 0.2152099609375)], 48: [('放', 0.2430419921875), ('iana', 0.208740234375), ('hoo', 0.2012939453125), ('ogu', 0.197265625), ('tide', 0.19287109375)]}, 10: {28: [('士', 0.2022705078125), ('rans', 0.1976318359375), (' Free', 0.1971435546875), ('程', 0.19384765625), (' ex', 0.1917724609375)], 29: [('ooth', 0.139892578125), ('ussi', 0.1373291015625), ('erals', 0.135498046875), (' fee', 0.1351318359375), (' rights', 0.134033203125)], 32: [(\"'\", 1.115234375), ('电器', 1.072265625), (' тръ', 0.94775390625), ('  ', 0.9423828125), (' \"_', 0.89501953125)], 49: [(' involving', 9.5234375), ('ostes', 7.5859375), (' involved', 7.1796875), (' жа', 7.078125), (' мер', 7.0)], 57: [('1', 0.59130859375), ('8', 0.54296875), ('9', 0.52880859375), ('2', 0.50537109375), ('anti', 0.50439453125)], 60: [('лъ', 4.80078125), ('разуме', 3.951171875), ('ň', 3.888671875), ('ares', 3.853515625), ('中之', 3.72265625)]}, 11: {32: [(' \"%', 1.302734375), (' \"', 1.2275390625), ('暂', 1.1923828125), ('/', 1.166015625), (' \"@', 1.154296875)], 38: [('odeset', 0.34375), ('Droid', 0.338623046875), (' dej', 0.315185546875), ('数量的', 0.305908203125), ('别的', 0.30029296875)], 48: [('图片发自简书', 0.081298828125), ('adier', 0.0782470703125), ('linen', 0.0748291015625), ('方案', 0.0731201171875), (' OO', 0.07208251953125)], 49: [('��', 0.454833984375), ('iers', 0.4404296875), ('rinos', 0.433837890625), ('illac', 0.42431640625), ('лия', 0.41162109375)], 57: [(' alone', 0.187255859375), ('just', 0.1868896484375), ('alone', 0.1544189453125), (' just', 0.15234375), ('Just', 0.1407470703125)], 60: [('\\tto', 5.6328125), (' to', 5.06640625), ('to', 4.421875), ('nto', 4.34765625), ('tos', 4.18359375)]}}\n",
      "Shared expert predictions: [[('Ungrouped', 0.82568359375), ('visi', 0.791015625), ('getC', 0.73388671875), ('noframe', 0.7177734375), ('┈┈', 0.705078125)], [(' <!--[', 1.3623046875), ('\"><!--', 1.083984375), (' getClass', 1.05859375), (' transist', 1.0546875), ('tsd', 1.033203125)], [('NOSCRIPT', 1.921875), ('AnyRef', 1.671875), ('CharacterOffset', 1.61328125), (' <!--[', 1.6044921875), ('�乐', 1.6015625)], [('�', 1.537109375), ('mbia', 1.45703125), ('iosos', 1.453125), (' \\\\{(', 1.4423828125), ('aritat', 1.44140625)], [('cip', 1.3759765625), ('soid', 1.3203125), ('ansi', 1.2314453125), ('stand', 1.2294921875), ('lu', 1.2138671875)], [('\\tFor', 1.630859375), ('克拉', 1.4970703125), ('境', 1.486328125), ('گ', 1.35546875), ('=\"\"><', 1.34765625)], [('stand', 1.115234375), ('unger', 1.109375), ('cod', 1.099609375), ('just', 1.099609375), ('An', 1.0966796875)], [('P', 1.4609375), ('p', 1.4482421875), ('\\tp', 1.396484375), (' pyl', 1.373046875), ('>(<', 1.3359375)], [('�乐', 1.5673828125), ('/}', 1.51171875), ('免费咨询电话', 1.4130859375), ('laf', 1.3525390625), ('>\")', 1.275390625)], [('}$(', 1.4365234375), ('}]{', 1.40625), ('\">#', 1.3984375), ('ptu', 1.3837890625), ('>\")', 1.2880859375)], [('\\tthe', 1.1142578125), ('\\tThe', 1.0966796875), ('Thelia', 1.064453125), (\"'')\", 1.0341796875), (' tronc', 1.0302734375)], [('Me', 1.3935546875), ('WL', 1.3447265625), ('Ungrouped', 1.3427734375), ('An', 1.2451171875), ('Ap', 1.2412109375)], [('……', 2.001953125), (' ', 1.841796875), ('HF', 1.64453125), ('......', 1.5869140625), ('HL', 1.5625)], [(' p', 1.3251953125), ('无缘', 1.2451171875), (' l', 1.2373046875), (' L', 1.2041015625), (' л', 1.1884765625)], [('HL', 1.080078125), ('MH', 0.9296875), ('omet', 0.92822265625), ('LW', 0.9228515625), ('mh', 0.91845703125)], [('виси', 1.2275390625), ('GIN', 1.2099609375), (' upgrad', 1.2001953125), ('觉', 1.1875), ('\\tand', 1.18359375)], [(\"}''\", 1.0849609375), (' Limita', 1.05078125), (\"}$'\", 1.048828125), (\"$''\", 0.984375), (\"}'\\\\\", 0.9775390625)], [(' _.', 1.001953125), ('рут', 0.994140625), ('{\\\\,\\\\', 0.93798828125), ('antan', 0.93798828125), ('})).', 0.88525390625)], [('engo', 1.2333984375), ('рол', 1.203125), ('Magent', 1.1923828125), ('noframe', 1.169921875), ('anomenat', 1.1357421875)], [('CLUD', 1.3466796875), ('CALLTYPE', 1.279296875), ('\">&#', 1.265625), ('往', 1.224609375), ('ERE', 1.193359375)], [('4', 2.265625), ('5', 2.201171875), ('3', 2.142578125), ('2', 2.1171875), ('6', 2.080078125)], [(' пореди', 1.591796875), ('ENE', 1.4111328125), (' замъ', 1.28515625), ('венту', 1.283203125), (' препратки', 1.2666015625)]]\n",
      "\n",
      "MoE Layer 25:\n",
      "Selected experts: [[63, 60, 2, 49, 41, 30], [51, 45, 19, 56, 5, 43], [12, 2, 62, 37, 63, 29], [56, 12, 62, 37, 5, 45], [45, 56, 32, 55, 5, 19], [41, 29, 50, 12, 62, 35], [5, 55, 19, 62, 32, 29], [54, 26, 60, 6, 19, 55], [63, 12, 52, 37, 2, 57], [52, 62, 2, 37, 5, 13], [3, 50, 53, 34, 2, 11], [0, 43, 2, 3, 16, 41], [41, 2, 16, 59, 33, 36], [15, 19, 17, 56, 55, 4], [4, 54, 60, 5, 26, 58], [4, 12, 37, 54, 63, 5], [30, 49, 40, 4, 17, 41], [40, 2, 0, 46, 18, 61], [4, 5, 41, 17, 45, 50], [30, 8, 4, 40, 3, 56], [17, 56, 4, 19, 1, 11], [4, 36, 14, 41, 50, 54]]\n",
      "Expert weights: [[0.6552734375, 0.0208892822265625, 0.010406494140625, 0.00980377197265625, 0.075927734375, 0.00951385498046875], [0.03790283203125, 0.1767578125, 0.10174560546875, 0.1385498046875, 0.070068359375, 0.035247802734375], [0.15234375, 0.060791015625, 0.0533447265625, 0.04888916015625, 0.042938232421875, 0.0330810546875], [0.1622314453125, 0.1082763671875, 0.10308837890625, 0.0557861328125, 0.050933837890625, 0.04248046875], [0.086181640625, 0.198486328125, 0.08453369140625, 0.07330322265625, 0.0654296875, 0.059722900390625], [0.10137939453125, 0.0797119140625, 0.061065673828125, 0.049285888671875, 0.04638671875, 0.044769287109375], [0.1285400390625, 0.0994873046875, 0.08074951171875, 0.043304443359375, 0.0413818359375, 0.0283660888671875], [0.0809326171875, 0.08416748046875, 0.10247802734375, 0.06378173828125, 0.052978515625, 0.035980224609375], [0.1947021484375, 0.141357421875, 0.044158935546875, 0.03521728515625, 0.031707763671875, 0.030731201171875], [0.06707763671875, 0.044677734375, 0.06072998046875, 0.0704345703125, 0.057647705078125, 0.04248046875], [0.2301025390625, 0.0948486328125, 0.0738525390625, 0.07037353515625, 0.0269775390625, 0.02685546875], [0.04522705078125, 0.04559326171875, 0.069091796875, 0.1539306640625, 0.0386962890625, 0.032501220703125], [0.173583984375, 0.07720947265625, 0.0716552734375, 0.051116943359375, 0.041168212890625, 0.0396728515625], [0.043304443359375, 0.08984375, 0.04254150390625, 0.0548095703125, 0.061309814453125, 0.033843994140625], [0.1746826171875, 0.162841796875, 0.09478759765625, 0.04046630859375, 0.035369873046875, 0.028656005859375], [0.14697265625, 0.2158203125, 0.04864501953125, 0.082275390625, 0.03509521484375, 0.0328369140625], [0.035736083984375, 0.22802734375, 0.383544921875, 0.049530029296875, 0.0222320556640625, 0.01983642578125], [0.201416015625, 0.06036376953125, 0.04541015625, 0.0438232421875, 0.036163330078125, 0.032135009765625], [0.21142578125, 0.09326171875, 0.06732177734375, 0.0413818359375, 0.03631591796875, 0.034881591796875], [0.054290771484375, 0.05218505859375, 0.07574462890625, 0.048553466796875, 0.04803466796875, 0.043609619140625], [0.0938720703125, 0.11126708984375, 0.30419921875, 0.0389404296875, 0.034271240234375, 0.03173828125], [0.145263671875, 0.1060791015625, 0.0640869140625, 0.058685302734375, 0.044036865234375, 0.039154052734375]]\n",
      "Combined output tokens: [[(' financera', 5.359375), ('Икономи', 4.97265625), ('ivell', 4.56640625), ('veau', 4.52734375), ('coni', 4.43359375)], [('rad', 3.39453125), ('luence', 3.36328125), (' (**)', 3.337890625), (' back', 3.3203125), ('erra', 3.302734375)], [(' embod', 3.625), (' blocs', 3.44140625), (' command', 3.21875), (' structure', 3.154296875), ('adona', 3.12890625)], [(',', 5.64453125), (' from', 5.55078125), ('.', 5.32421875), ('inoa', 5.125), (' ', 4.9453125)], [(' from', 9.1875), ('from', 7.0), (' FROM', 6.734375), (' frm', 6.0390625), (' From', 5.890625)], [(' sino', 6.1015625), (' tur', 5.86328125), (' fin', 5.7734375), ('g', 5.5078125), ('人意', 5.4921875)], [('(', 5.828125), (',', 5.6796875), (' from', 5.515625), (' ', 5.5078125), (' in', 5.49609375)], [(' ', 7.37890625), ('\\n', 5.84375), (' \"', 5.265625), ('dear', 4.8828125), ('abar', 4.79296875)], [(' embod', 3.900390625), ('essment', 3.888671875), ('locar', 3.875), (' Ò', 3.828125), ('Absolute', 3.8046875)], [(' embod', 4.2265625), (' and', 4.1484375), (',', 3.705078125), (' oprot', 3.58984375), (' in', 3.537109375)], [('the', 4.578125), (' the', 4.41796875), ('\\tthe', 4.03515625), ('Ã', 3.919921875), ('...', 3.826171875)], [(' to', 7.27734375), ('to', 6.3203125), ('\\tto', 6.21484375), ('To', 6.12109375), (' To', 5.65234375)], [('chers', 4.078125), (' be', 4.07421875), ('external', 3.994140625), (' comm', 3.96484375), (' Drawing', 3.83203125)], [(',', 5.33984375), ('.', 4.55078125), ('“', 4.39453125), (' and', 4.23828125), (' by', 4.22265625)], [('l', 7.7421875), ('L', 7.1875), ('la', 6.98828125), ('me', 6.9296875), ('au', 6.58203125)], [(' meme', 6.0390625), ('ady', 6.0390625), (' classe', 5.94140625), (' aut', 5.69921875), ('odium', 5.69140625)], [('ille', 10.421875), ('ile', 9.8046875), ('ill', 9.03125), ('illa', 8.9921875), ('el', 8.6015625)], [('UR', 11.734375), ('ur', 11.6640625), ('�', 10.4765625), (' UR', 10.3359375), ('urd', 10.2265625)], [(' aut', 8.0546875), (' v', 7.04296875), ('opot', 6.94921875), ('enc', 6.69921875), (':', 6.62109375)], [(',', 6.91015625), ('.', 6.1171875), (' t', 6.01953125), (' F', 5.99609375), (' f', 5.84765625)], [(' a', 17.53125), ('\\ta', 12.046875), (' ap', 10.3359375), ('a', 10.2109375), ('ndon', 9.4140625)], [(',', 6.80859375), (' ', 5.609375), ('\\n', 5.51953125), (')', 5.22265625), ('-', 5.01953125)]]\n",
      "Expert predictions by position: {11: {0: [('tingu', 0.2293701171875), ('Pages', 0.1962890625), ('�', 0.1912841796875), ('oice', 0.1893310546875), ('竣', 0.186767578125)], 2: [('roll', 0.06689453125), ('-', 0.06494140625), (' развива', 0.063232421875), (',', 0.06243896484375), ('non', 0.0616455078125)], 3: [('etheless', 0.413818359375), ('pable', 0.3896484375), (' Meridional', 0.37060546875), ('VOKE', 0.370361328125), ('lement', 0.35986328125)], 16: [('турен', 0.35400390625), (' geodatabase', 0.351318359375), ('ProcAddress', 0.347412109375), ('GetString', 0.334716796875), (' Martorell', 0.324462890625)], 41: [('](-', 0.986328125), ('徒', 0.9384765625), ('ardown', 0.92578125), ('croft', 0.92431640625), ('�', 0.90625)], 43: [('ssil', 0.35498046875), ('ersonals', 0.344970703125), ('omorf', 0.3369140625), ('gfx', 0.32275390625), ('iry', 0.315673828125)]}, 17: {0: [('匙', 0.203125), ('@{}', 0.2021484375), ('шал', 0.196533203125), ('灵', 0.192626953125), ('riz', 0.19189453125)], 2: [('emb', 0.322509765625), ('MESS', 0.32177734375), (' ва', 0.318115234375), ('band', 0.316650390625), ('\\xa0v', 0.312255859375)], 18: [('erness', 0.2210693359375), ('amir', 0.2117919921875), (' PARTICULAR', 0.211181640625), (' Eff', 0.2088623046875), ('мон', 0.2039794921875)], 40: [('UR', 10.6640625), ('urd', 9.53125), ('ur', 9.421875), ('�', 9.375), ('urat', 9.015625)], 46: [('enso', 0.30078125), ('气', 0.300048828125), ('Barr', 0.291015625), ('碑', 0.270263671875), ('ковник', 0.26416015625)], 61: [('сите', 0.2119140625), ('ethe', 0.2081298828125), ('奥', 0.197509765625), ('BA', 0.191650390625), ('教导', 0.1890869140625)]}, 20: {1: [('г', 0.495361328125), ('Е', 0.489501953125), ('Окръ', 0.478515625), ('入', 0.475830078125), ('amor', 0.47021484375)], 4: [(' exact', 0.2275390625), (' par', 0.2257080078125), (' et', 0.220458984375), ('par', 0.199951171875), (' Exact', 0.1959228515625)], 11: [(' set', 0.5263671875), (' Set', 0.445556640625), ('Set', 0.440185546875), ('orda', 0.387451171875), (' $\\\\|', 0.37939453125)], 17: [(' гори', 0.59521484375), ('origin', 0.51806640625), (' Chill', 0.51513671875), (' ch', 0.505859375), ('限', 0.4990234375)], 19: [('iffel', 1.0732421875), ('olars', 1.0693359375), ('hemat', 1.06640625), ('↓↓', 1.0595703125), ('────', 1.0576171875)], 56: [('back', 2.1328125), (' back', 2.044921875), ('Back', 1.9794921875), ('BACK', 1.7421875), (' Back', 1.732421875)]}, 0: {2: [('5', 0.204833984375), ('8', 0.2005615234375), ('6', 0.1983642578125), ('9', 0.196044921875), ('7', 0.192138671875)], 30: [('onar', 0.0292510986328125), ('ab', 0.0292205810546875), ('IL', 0.0291900634765625), ('iene', 0.028961181640625), ('unya', 0.0282135009765625)], 41: [('capt', 0.212890625), ('cid', 0.1990966796875), ('лен', 0.19384765625), ('abit', 0.1905517578125), ('жда', 0.185302734375)], 49: [('fare', 3.177734375), ('oyal', 2.806640625), ('ulg', 2.73046875), ('arell', 2.69140625), (' пости', 2.6640625)], 60: [('1', 1.8818359375), ('2', 1.8359375), ('3', 1.76953125), ('e', 1.7109375), ('5', 1.6591796875)], 63: [('斗', 0.255126953125), ('вата', 0.2548828125), (' comm', 0.251220703125), ('americ', 0.2314453125), ('ложено', 0.230712890625)]}, 2: {2: [('anthus', 0.408203125), ('\\xa0part', 0.387451171875), (' halign', 0.3857421875), ('sheet', 0.385498046875), ('杖', 0.372314453125)], 12: [('following', 0.7998046875), ('ifices', 0.7099609375), ('院的', 0.6689453125), (' siguientes', 0.66748046875), (' siguiente', 0.6669921875)], 29: [(' bra', 0.85693359375), (' port', 0.72802734375), (' north', 0.71337890625), (' germ', 0.7109375), (' brasiler', 0.6650390625)], 37: [('gmd', 0.402099609375), ('щите', 0.383544921875), ('стики', 0.368896484375), (' услу', 0.3681640625), ('новен', 0.363037109375)], 62: [('vetica', 0.97216796875), ('ranslate', 0.92724609375), ('openg', 0.90283203125), ('intilla', 0.8984375), ('гър', 0.775390625)], 63: [('rowe', 0.4208984375), ('FieldLocation', 0.35791015625), ('тини', 0.34716796875), ('тина', 0.328857421875), ('rum', 0.316162109375)]}, 8: {2: [('\\xa0:', 0.419677734375), ('ATOM', 0.388427734375), (':#', 0.363525390625), ('lict', 0.3427734375), ('ulos', 0.33544921875)], 12: [('esfor', 1.5087890625), ('raint', 1.431640625), ('anell', 1.4296875), ('reshold', 1.400390625), ('alat', 1.396484375)], 37: [('tenance', 1.626953125), (' ufw', 1.5810546875), ('ateries', 1.564453125), (' Points', 1.53515625), ('мини', 1.5244140625)], 52: [(' head', 0.42138671875), (' prime', 0.41015625), ('prime', 0.37451171875), (' Head', 0.365478515625), (' HEAD', 0.358642578125)], 57: [('little', 0.361572265625), ('poor', 0.340087890625), (' LITTLE', 0.31494140625), (' little', 0.314208984375), ('ibli', 0.3037109375)], 63: [('ophila', 2.330078125), ('EndOf', 2.16796875), ('ReturnValue', 1.87109375), ('ogany', 1.7646484375), (' Dones', 1.751953125)]}, 9: {2: [('APTER', 0.13134765625), (' ../../../', 0.12158203125), ('uresa', 0.1204833984375), ('pap', 0.11541748046875), ('abyrinth', 0.1107177734375)], 5: [('茅', 0.46728515625), ('SError', 0.447509765625), ('ialect', 0.439208984375), ('curities', 0.436767578125), ('omatic', 0.436279296875)], 13: [('onders', 0.52685546875), (' special', 0.443359375), (' SPECIAL', 0.432861328125), ('special', 0.403564453125), (' Especial', 0.395751953125)], 37: [('saying', 0.74267578125), (' saying', 0.71728515625), (' Saying', 0.654296875), ('doctrine', 0.634765625), ('philosophy', 0.6123046875)], 52: [(' Member', 0.8974609375), ('earcher', 0.88427734375), ('member', 0.8837890625), ('members', 0.8818359375), (' members', 0.87939453125)], 62: [('Passphrase', 0.53955078125), (' parar', 0.53759765625), (' Kullander', 0.478271484375), ('FNGL', 0.455810546875), ('百分点', 0.45263671875)]}, 10: {2: [('eja', 0.27392578125), (' Мил', 0.25830078125), ('orna', 0.2529296875), ('ulia', 0.2432861328125), (' Residential', 0.2376708984375)], 3: [('�', 1.62890625), ('令', 1.4560546875), ('olerable', 1.3974609375), ('otted', 1.361328125), ('IUM', 1.27734375)], 11: [(' SUCH', 0.311767578125), (' set', 0.3095703125), ('peech', 0.287841796875), ('地', 0.267578125), (' such', 0.255615234375)], 34: [('far', 0.71142578125), ('penat', 0.64697265625), ('proofs', 0.646484375), ('pite', 0.619140625), (' onload', 0.61767578125)], 50: [('whatever', 0.6767578125), (' a', 0.60107421875), (' real', 0.5849609375), (' another', 0.57666015625), ('Whatever', 0.5751953125)], 53: [('� ', 0.84521484375), ('tica', 0.77197265625), ('lex', 0.771484375), ('еку', 0.712890625), ('tical', 0.69970703125)]}, 12: {2: [('opil', 0.5302734375), ('erti', 0.43408203125), ('ethod', 0.375732421875), ('ебсайт', 0.373779296875), ('adre', 0.371826171875)], 16: [('arlas', 0.23876953125), ('гас', 0.20166015625), ('istra', 0.1876220703125), ('ctimes', 0.1805419921875), ('като', 0.17626953125)], 33: [('执照', 0.1297607421875), ('meyer', 0.1297607421875), ('aci', 0.1280517578125), ('erna', 0.1256103515625), ('alus', 0.1224365234375)], 36: [(' registre', 0.325439453125), ('ru', 0.32080078125), ('习', 0.315185546875), ('  ', 0.3115234375), ('ac', 0.307373046875)], 41: [(' come', 0.69677734375), ('come', 0.69677734375), (' appear', 0.56689453125), ('盖', 0.54150390625), ('COME', 0.5322265625)], 59: [(' пореди', 0.273681640625), ('业的', 0.25390625), ('omid', 0.251220703125), ('vell', 0.2481689453125), ('ousk', 0.2379150390625)]}, 19: {3: [('adobe', 1.9384765625), ('iling', 1.837890625), ('ე', 1.8349609375), ('otron', 1.818359375), ('oficial', 1.8173828125)], 4: [('geres', 4.82421875), ('oty', 4.37109375), (' Виз', 4.31640625), ('inche', 3.953125), (' meme', 3.845703125)], 8: [('ialize', 0.290771484375), ('andia', 0.288330078125), ('来的', 0.284423828125), ('ngia', 0.276611328125), ('туга', 0.2724609375)], 30: [('iesa', 0.4990234375), ('ila', 0.49462890625), ('iosa', 0.489990234375), ('tessa', 0.4677734375), ('adora', 0.467041015625)], 40: [('��', 0.88671875), ('туа', 0.8427734375), ('ieft', 0.837890625), ('туга', 0.8369140625), (' нах', 0.82958984375)], 56: [(' into', 0.79296875), ('back', 0.7578125), (' onto', 0.74609375), (' back', 0.732421875), (' up', 0.7060546875)]}, 13: {4: [(' enc', 2.087890625), ('饪', 1.916015625), ('葩', 1.8701171875), ('序', 1.86328125), (' meme', 1.8251953125)], 15: [(' дело', 0.2174072265625), ('ude', 0.2093505859375), ('<\\\\/', 0.2044677734375), ('шат', 0.19921875), (' Madem', 0.19921875)], 17: [('ll', 0.360595703125), ('突', 0.3046875), (' Press', 0.300537109375), ('/', 0.2958984375), (' sh', 0.28369140625)], 19: [('perse', 2.2421875), ('▽', 2.1953125), ('━━', 2.119140625), ('hta', 2.080078125), ('uesa', 2.076171875)], 55: [(' ty', 0.86572265625), ('**', 0.865234375), (' _', 0.85498046875), ('...', 0.8291015625), ('pace', 0.8154296875)], 56: [('bology', 1.2060546875), ('ULE', 1.169921875), ('сички', 1.1259765625), ('ветен', 1.12109375), ('atac', 1.1015625)]}, 14: {4: [(' aut', 6.86328125), ('enc', 6.2734375), ('autilus', 5.56640625), ('lotte', 5.44140625), ('entrional', 5.4375)], 5: [('ilv', 0.61669921875), ('рак', 0.53466796875), ('eea', 0.52783203125), (' etext', 0.509765625), ('rmk', 0.5087890625)], 26: [('\\xa0', 1.73828125), ('\\xa0 ', 1.4345703125), ('  ', 1.4091796875), ('\\xa0m', 1.3662109375), (' \\xa0', 1.3359375)], 54: [(' legislatura', 1.6533203125), ('onomic', 1.474609375), ('��', 1.4345703125), ('ivel', 1.4130859375), ('ple', 1.40625)], 58: [('Pierre', 0.377685546875), ('INSEE', 0.377197265625), ('Marie', 0.3671875), ('列', 0.359375), (' Louise', 0.34619140625)], 60: [(' sole', 0.062408447265625), (' side', 0.06207275390625), ('ve', 0.059906005859375), (' care', 0.059326171875), ('meas', 0.05718994140625)]}, 15: {4: [(' le', 1.822265625), ('wered', 1.6357421875), ('朋', 1.525390625), ('爵', 1.46484375), ('��', 1.388671875)], 5: [('??', 0.72900390625), ('imens', 0.72119140625), ('?}', 0.712890625), (' ?', 0.69140625), (' ？', 0.6875)], 12: [('esley', 2.232421875), (' blocs', 2.21484375), (' iput', 2.087890625), ('icated', 1.931640625), (' fol', 1.8798828125)], 37: [('saying', 2.013671875), (' saying', 1.8251953125), (' Saying', 1.591796875), (' proverb', 1.48828125), (' fact', 1.4716796875)], 54: [('Il', 2.228515625), (' Il', 2.169921875), ('il', 2.01953125), (' il', 1.7568359375), ('ils', 1.734375)], 63: [('Съби', 4.33984375), ('цяло', 4.25), ('Икономи', 4.171875), ('writeField', 4.00390625), ('��', 3.953125)]}, 16: {4: [(' a', 12.0859375), ('\\ta', 10.34375), (' ?),', 8.8671875), (' ap', 8.7890625), ('stiques', 8.765625)], 17: [(').__', 0.611328125), (']</', 0.544921875), ('yship', 0.54296875), (\"]',\", 0.53857421875), (' Dise', 0.50537109375)], 30: [('eqno', 0.78955078125), ('eret', 0.76708984375), ('blockList', 0.7626953125), ('iades', 0.76220703125), ('evac', 0.7109375)], 40: [('ille', 9.6796875), ('ile', 8.4921875), ('ILLE', 7.5859375), ('illa', 7.25390625), ('造', 7.16796875)], 41: [('сители', 3.46875), ('解', 3.234375), (' probado', 3.234375), ('ходите', 3.216796875), (' Мартин', 3.12109375)], 49: [('aller', 0.045318603515625), ('amin', 0.045196533203125), ('的季节', 0.0438232421875), ('季节', 0.04345703125), ('цен', 0.042083740234375)]}, 18: {4: [('poons', 3.640625), ('евру', 3.5703125), ('ленове', 3.29296875), ('guera', 3.2578125), ('Filed', 3.17578125)], 5: [(' ?),', 1.462890625), (' ?????', 1.3583984375), (' ??', 1.296875), (' ?', 1.28515625), (' Pls', 1.26171875)], 17: [('-', 1.271484375), ('1', 1.0712890625), ('scope', 1.0283203125), ('�', 0.9921875), ('0', 0.98583984375)], 41: [(' involving', 1.69921875), ('ostes', 1.5029296875), (\"'>&\", 1.404296875), ('wau', 1.4033203125), (' жа', 1.3896484375)], 45: [(' form', 1.95703125), ('form', 1.71484375), (' Form', 1.3974609375), ('Form', 1.3154296875), (' FORM', 1.2822265625)], 50: [('yourself', 0.64404296875), (' yourselves', 0.61376953125), (' yourself', 0.56591796875), ('рио', 0.5615234375), (' himself', 0.52001953125)]}, 21: {4: [(' considerablement', 3.982421875), ('endre', 3.923828125), ('uju', 3.763671875), ('apro', 3.650390625), ('formes', 3.603515625)], 14: [('teness', 1.0205078125), (' return', 0.92529296875), (' RETURNS', 0.89306640625), ('Returns', 0.8828125), ('know', 0.87158203125)], 36: [('8', 1.966796875), ('9', 1.7431640625), ('4', 1.6484375), ('6', 1.580078125), ('3', 1.5673828125)], 41: [(' fit', 2.041015625), (' reach', 1.97265625), ('reach', 1.865234375), (' attain', 1.6826171875), (' gain', 1.6005859375)], 50: [('ourselves', 1.701171875), (' himself', 1.671875), (' ourselves', 1.666015625), (' oneself', 1.61328125), ('himself', 1.4990234375)], 54: [('aure', 3.228515625), (' L', 2.9921875), ('ilon', 2.9609375), ('ilet', 2.951171875), (' нав', 2.861328125)]}, 1: {5: [('�', 0.46533203125), ('??', 0.4619140625), ('�', 0.44189453125), ('pings', 0.44140625), ('кло', 0.441162109375)], 19: [('Съби', 2.369140625), (' Кън', 2.25), ('essions', 2.072265625), ('Икономи', 2.041015625), ('rades', 1.998046875)], 43: [('5', 0.32470703125), ('9', 0.31982421875), ('3', 0.3193359375), (' neutr', 0.31298828125), ('0', 0.296875)], 45: [(' od', 0.353271484375), ('ekyll', 0.327392578125), ('ofill', 0.323974609375), ('�', 0.32275390625), ('unden', 0.3212890625)], 51: [('is', 0.30859375), ('isine', 0.266357421875), ('isance', 0.261962890625), ('conver', 0.259033203125), ('фера', 0.258544921875)], 56: [('icket', 0.505859375), ('xchange', 0.486083984375), ('Baseline', 0.43017578125), ('hast', 0.424560546875), ('izada', 0.414306640625)]}, 3: {5: [('тара', 0.40869140625), ('уза', 0.402587890625), (' vs', 0.37158203125), ('pids', 0.36962890625), ('�起', 0.349609375)], 12: [('ulars', 1.6845703125), ('пие', 1.525390625), ('ity', 1.5107421875), ('блю', 1.5048828125), ('милия', 1.4560546875)], 37: [(' saying', 1.048828125), ('saying', 0.97705078125), (' part', 0.896484375), (' Saying', 0.83447265625), (' paper', 0.71875)], 45: [(' off', 0.4091796875), (' form', 0.38623046875), ('directly', 0.37939453125), ('form', 0.37890625), (' Form', 0.36083984375)], 56: [(' right', 3.244140625), (' RIGHT', 3.052734375), ('right', 2.548828125), ('RIGHT', 2.388671875), ('rews', 2.3828125)], 62: [('дово', 0.544921875), ('LETTER', 0.5205078125), ('диен', 0.5078125), ('refs', 0.50537109375), ('orne', 0.489013671875)]}, 4: {5: [('nqu', 0.381103515625), ('DAQ', 0.3134765625), (' \\\\#', 0.30517578125), (' or', 0.302978515625), ('epend', 0.300048828125)], 19: [('私', 1.3935546875), ('金', 1.17578125), ('，', 1.14453125), ('大人', 1.1318359375), (' comm', 1.1298828125)], 32: [('ifici', 1.201171875), ('eret', 1.197265625), ('mirall', 1.1845703125), ('ieri', 1.1064453125), ('ع', 1.052734375)], 45: [('гат', 1.3017578125), ('aronja', 1.1298828125), ('erton', 1.12109375), ('浸泡', 1.076171875), ('乃', 1.064453125)], 55: [('lustr', 1.9365234375), ('slaught', 1.873046875), ('^^^^^^^^', 1.7822265625), ('sov', 1.7099609375), ('窗口', 1.646484375)], 56: [(' from', 5.609375), (' FROM', 4.5546875), ('from', 4.2578125), ('клопе', 4.09765625), ('rews', 3.9609375)]}, 6: {5: [('eeper', 1.0283203125), ('ighter', 0.95703125), ('渠', 0.955078125), ('茅', 0.94384765625), (' CONTENT', 0.9208984375)], 19: [('，', 1.7265625), ('、', 1.4931640625), ('（', 1.4326171875), ('essions', 1.4228515625), ('是《', 1.408203125)], 29: [(' sino', 4.93359375), ('Balancer', 4.6875), ('郭德', 4.5234375), ('ymmetries', 4.33203125), ('berra', 4.26171875)], 32: [(' ciprin', 1.3857421875), ('icci', 1.2744140625), ('bros', 1.232421875), ('cross', 1.1669921875), ('exion', 1.13671875)], 55: [('нове', 0.53662109375), (' Maurici', 0.4716796875), (' Premis', 0.46630859375), ('май', 0.464599609375), (' agost', 0.457763671875)], 62: [('rotxa', 0.8876953125), ('proof', 0.84326171875), ('Proof', 0.841796875), ('�', 0.83251953125), (' гра', 0.7998046875)]}, 7: {6: [(' пър', 0.8701171875), ('anship', 0.79541015625), (' ръковод', 0.7763671875), (' същест', 0.77587890625), (' ``\\\\', 0.7685546875)], 19: [('-', 0.421630859375), (' IV', 0.376220703125), ('靠', 0.353515625), (' \".', 0.3466796875), (' XI', 0.34619140625)], 26: [('йни', 0.3466796875), ('致', 0.34423828125), (' entrev', 0.3408203125), ('itekt', 0.33251953125), ('ollars', 0.328369140625)], 54: [('GAN', 0.67236328125), ('\\tA', 0.63671875), ('гард', 0.61767578125), ('inol', 0.60546875), ('纳', 0.603515625)], 55: [('slaught', 2.009765625), ('lustr', 1.7919921875), ('tage', 1.69921875), ('ialize', 1.6455078125), ('wml', 1.6435546875)], 60: [('blia', 2.787109375), ('versation', 2.650390625), ('=-=-', 2.6484375), ('vider', 2.5703125), (\"'][$\", 2.51171875)]}, 5: {12: [('рез', 3.044921875), ('ant', 3.00390625), ('igan', 2.904296875), ('URNS', 2.833984375), ('ilon', 2.7578125)], 29: [(' sino', 0.65185546875), (' bra', 0.61376953125), (' sw', 0.6025390625), (' tur', 0.60107421875), (' germ', 0.56396484375)], 35: [('otto', 0.5439453125), (' Cervera', 0.54052734375), ('PYG', 0.5380859375), ('ardless', 0.537109375), ('emark', 0.53662109375)], 41: [('不放', 0.732421875), (' conf', 0.6865234375), (' face', 0.681640625), ('放', 0.64599609375), ('ITH', 0.6328125)], 50: [(' what', 0.52880859375), ('what', 0.51025390625), (' whats', 0.435546875), (' What', 0.423583984375), ('mine', 0.398193359375)], 62: [('sent', 3.7890625), (' sent', 3.3203125), ('Sent', 3.0859375), (' Sent', 3.017578125), (' sending', 2.830078125)]}}\n",
      "Shared expert predictions: [[('4', 2.21484375), ('3', 2.212890625), ('0', 2.205078125), ('8', 2.177734375), ('5', 2.173828125)], [('任务', 2.46875), ('的任务', 2.322265625), ('完成的', 2.228515625), (' (**)', 2.119140625), (' precis', 2.10546875)], [(' ', 3.140625), ('\\n', 2.81640625), (',', 2.53125), (' very', 2.291015625), (' embod', 2.2109375)], [(',', 6.83984375), (' ', 6.4453125), ('.', 5.8984375), ('\\n', 5.359375), (' -', 4.7890625)], [(',', 4.484375), (' ', 4.3828125), ('\\n', 3.544921875), ('.', 3.248046875), (' ,', 3.181640625)], [(',', 7.20703125), (' ', 6.859375), ('.', 6.16796875), ('\\n', 5.95703125), (' (', 5.578125)], [(' ', 6.91796875), (',', 6.5859375), ('\\n', 5.09375), ('(', 5.078125), ('.', 4.9765625)], [(' ', 7.3359375), (',', 6.0625), ('\\n', 5.34765625), (' \"', 5.26953125), (' ,', 4.69140625)], [(' ', 3.701171875), (' two', 2.8359375), (' very', 2.796875), (' \"', 2.720703125), (' the', 2.61328125)], [(',', 3.763671875), (' and', 3.39453125), (' ', 3.392578125), (' in', 3.28515625), (' embod', 2.95703125)], [('the', 3.921875), (' the', 3.541015625), (' THE', 3.267578125), (',', 3.25390625), ('The', 3.236328125)], [(' to', 7.37890625), ('to', 6.24609375), ('\\tto', 6.23046875), ('To', 6.0703125), (' To', 5.6796875)], [(' comm', 3.361328125), ('‘', 3.041015625), ('1', 3.041015625), (' ', 3.0390625), (',', 3.013671875)], [(',', 5.63671875), (' ', 5.21484375), ('.', 4.57421875), (' and', 4.40625), (' in', 4.19921875)], [(' ', 6.734375), (',', 5.1484375), ('\\n', 4.8046875), (' \"', 4.37890625), (' -', 4.375)], [(' ', 5.265625), ('\\n', 4.62109375), (' -', 4.17578125), (',', 4.0), ('1', 3.75390625)], [('\\n', 4.12109375), (',', 4.078125), (' ', 4.03125), ('.', 3.560546875), (' -', 3.326171875)], [('(', 3.759765625), (',', 3.59375), ('\\n', 3.44140625), (' ', 3.18359375), ('-', 3.158203125)], [(' ', 5.4296875), (',', 4.7421875), ('\\n', 4.6796875), (' \"', 4.203125), ('..', 4.1171875)], [(',', 6.1640625), ('.', 6.01171875), (' F', 5.8046875), (' f', 5.7421875), (' ', 5.1171875)], [(' ', 8.0390625), ('1', 7.44921875), ('3', 7.28515625), ('2', 7.203125), ('4', 6.8359375)], [(',', 6.859375), (' ', 6.0859375), ('\\n', 5.83203125), ('.', 4.9140625), (' -', 4.7734375)]]\n",
      "\n",
      "MoE Layer 26:\n",
      "Selected experts: [[40, 45, 31, 33, 57, 39], [55, 14, 21, 46, 48, 35], [10, 46, 48, 28, 55, 27], [27, 10, 2, 46, 28, 1], [46, 54, 53, 43, 15, 48], [32, 21, 46, 5, 27, 35], [14, 54, 43, 53, 46, 40], [40, 31, 35, 42, 14, 19], [28, 48, 6, 42, 20, 10], [61, 48, 2, 10, 24, 20], [34, 26, 48, 15, 56, 14], [56, 29, 55, 11, 30, 41], [30, 29, 3, 19, 11, 0], [14, 35, 40, 53, 57, 37], [40, 31, 35, 14, 5, 50], [60, 1, 23, 50, 56, 27], [23, 4, 16, 14, 55, 46], [22, 33, 29, 12, 11, 6], [21, 14, 2, 0, 18, 1], [29, 21, 56, 41, 16, 48], [14, 54, 34, 56, 19, 21], [32, 21, 0, 45, 14, 34]]\n",
      "Expert weights: [[0.85791015625, 0.01318359375, 0.0105743408203125, 0.006130218505859375, 0.004688262939453125, 0.004344940185546875], [0.25390625, 0.07122802734375, 0.06781005859375, 0.2215576171875, 0.066650390625, 0.0266571044921875], [0.053558349609375, 0.056243896484375, 0.048980712890625, 0.1328125, 0.043243408203125, 0.03802490234375], [0.08154296875, 0.0809326171875, 0.06976318359375, 0.10089111328125, 0.0288848876953125, 0.024627685546875], [0.10394287109375, 0.095947265625, 0.0911865234375, 0.08123779296875, 0.04730224609375, 0.03289794921875], [0.1605224609375, 0.079345703125, 0.062286376953125, 0.052581787109375, 0.041351318359375, 0.03497314453125], [0.050262451171875, 0.044677734375, 0.038604736328125, 0.07464599609375, 0.1297607421875, 0.034088134765625], [0.18603515625, 0.07269287109375, 0.06329345703125, 0.06280517578125, 0.050079345703125, 0.040802001953125], [0.19189453125, 0.037384033203125, 0.0369873046875, 0.036773681640625, 0.033294677734375, 0.032623291015625], [0.04913330078125, 0.059967041015625, 0.255859375, 0.049041748046875, 0.047821044921875, 0.040618896484375], [0.03857421875, 0.1524658203125, 0.07879638671875, 0.041534423828125, 0.085205078125, 0.033966064453125], [0.079833984375, 0.0780029296875, 0.05572509765625, 0.054443359375, 0.047210693359375, 0.040313720703125], [0.2357177734375, 0.052398681640625, 0.04327392578125, 0.041046142578125, 0.04071044921875, 0.037811279296875], [0.05340576171875, 0.04461669921875, 0.142333984375, 0.07501220703125, 0.036224365234375, 0.03485107421875], [0.10113525390625, 0.06170654296875, 0.08013916015625, 0.0933837890625, 0.052886962890625, 0.043212890625], [0.03863525390625, 0.0574951171875, 0.09320068359375, 0.057159423828125, 0.03759765625, 0.035552978515625], [0.399658203125, 0.07012939453125, 0.06512451171875, 0.06439208984375, 0.046356201171875, 0.04296875], [0.06805419921875, 0.1806640625, 0.1070556640625, 0.045318603515625, 0.04119873046875, 0.0364990234375], [0.1075439453125, 0.040557861328125, 0.061737060546875, 0.04034423828125, 0.031982421875, 0.031402587890625], [0.1260986328125, 0.100341796875, 0.0908203125, 0.059356689453125, 0.03070068359375, 0.0261077880859375], [0.11865234375, 0.093505859375, 0.05487060546875, 0.051910400390625, 0.044158935546875, 0.03521728515625], [0.09124755859375, 0.258544921875, 0.07318115234375, 0.03668212890625, 0.03424072265625, 0.0244140625]]\n",
      "Combined output tokens: [[(' regarding', 146.625), (' Down', 133.0), ('anys', 129.875), (' relating', 127.5625), (' involving', 125.0625)], [(',', 14.7890625), ('.', 14.4765625), (' the', 12.8359375), (' a', 12.7890625), (' is', 12.6796875)], [(' ', 16.921875), (',', 13.34375), (' \"', 12.8125), ('\\n', 12.625), (' -', 12.09375)], [(' ', 20.765625), (',', 20.046875), (':', 16.78125), (' \"', 16.046875), ('.', 15.578125)], [(',', 25.6875), (' ', 23.59375), ('.', 22.421875), (':', 21.609375), (' (', 20.1875)], [(' the', 20.96875), (' a', 19.671875), (' T', 18.828125), (' Chinese', 18.578125), (' ', 18.390625)], [(',', 21.609375), ('.', 19.828125), (' ', 19.125), (' in', 17.75), (' and', 17.25)], [(' a', 21.109375), (' ', 20.640625), (' The', 20.265625), (' in', 20.21875), (' the', 19.96875)], [(' ', 17.3125), (' three', 14.875), (' most', 14.765625), (' two', 14.4296875), (' four', 14.359375)], [(' ', 14.546875), (' and', 14.4140625), (' Western', 14.3984375), (',', 14.1875), (' talent', 14.0546875)], [(' a', 16.921875), (' ', 15.6953125), (' always', 15.5234375), (' the', 14.9140625), (',', 14.4453125)], [(' ', 21.828125), ('...', 20.703125), ('\\n', 19.484375), (' ...', 18.53125), (',', 18.375)], [(' ', 23.34375), ('...', 18.78125), (',', 18.5625), ('\\n', 18.296875), (' \"', 18.15625)], [(',', 26.125), ('.', 25.6875), (' ', 25.40625), (' -', 22.421875), (':', 21.484375)], [(' ', 19.640625), (' \"', 18.625), (\" '\", 17.8125), (' -', 16.40625), (' L', 15.9765625)], [(' ', 21.65625), ('\\n', 18.78125), (' M', 17.75), (' \"', 16.53125), (' T', 16.1875)], [('\\n', 15.40625), (' ', 15.3125), (',', 14.9140625), (\"'\", 14.046875), ('.', 13.765625)], [(',', 14.8671875), ('...', 12.9375), (' is', 12.7421875), (' a', 12.7265625), (' ', 12.6484375)], [(' ', 22.296875), (',', 19.84375), ('\\n', 19.453125), ('...', 19.359375), (' (', 19.171875)], [(' ', 19.15625), (',', 18.8125), ('\\n', 18.3125), ('.', 17.4375), (' a', 16.34375)], [(' ', 32.78125), (' \"', 27.28125), (',', 26.390625), (' (', 25.625), ('\\n', 25.625)], [(' ', 26.484375), ('\\n', 24.359375), (' \"', 22.828125), (' (', 21.75), (',', 21.34375)]]\n",
      "Expert predictions by position: {12: {0: [(' capt', 1.2587890625), (' off', 1.1494140625), (' finally', 1.14453125), (' rep', 1.1240234375), (' experience', 1.1103515625)], 3: [('член', 0.181884765625), ('chiat', 0.1815185546875), (' Legendre', 0.18115234375), ('acement', 0.1773681640625), ('睐', 0.17626953125)], 11: [('全部', 0.2242431640625), (' ppp', 0.21923828125), ('完', 0.2178955078125), ('l', 0.217529296875), ('gers', 0.21533203125)], 19: [(' C', 2.69921875), ('C', 1.9248046875), ('\\tC', 1.796875), ('getC', 1.7529296875), (' c', 1.6748046875)], 29: [('бай', 0.34326171875), ('рии', 0.29150390625), ('gast', 0.289794921875), ('лети', 0.28369140625), ('atform', 0.280029296875)], 30: [('гва', 0.353515625), (' progress', 0.3427734375), (' keel', 0.341552734375), (' reserve', 0.34130859375), (' pew', 0.334716796875)]}, 18: {0: [(' progress', 1.4443359375), (' express', 1.3818359375), (' fall', 1.3798828125), (' encounter', 1.30859375), (' complete', 1.2373046875)], 1: [('\\xa0part', 0.25341796875), (' years', 0.242431640625), ('aree', 0.2384033203125), ('alona', 0.2371826171875), ('arxa', 0.2305908203125)], 2: [('0', 0.52001953125), ('8', 0.5126953125), ('9', 0.498291015625), ('4', 0.483642578125), ('1', 0.47509765625)], 14: [(\"')}\", 1.3349609375), ('\\'\");', 1.275390625), (\"'));\", 1.2314453125), ('\\')\"', 1.181640625), (\"'},\", 1.1806640625)], 18: [('’', 0.283935546875), ('-', 0.270263671875), ('ари', 0.269287109375), ('******', 0.253662109375), ('hom', 0.251953125)], 21: [('iaci', 0.73974609375), ('ior', 0.6953125), (' incess', 0.6943359375), ('нали', 0.65625), (' corrent', 0.6455078125)]}, 21: {0: [(' get', 0.9755859375), (' gotten', 0.90478515625), (' got', 0.84716796875), (' getting', 0.84326171875), (' gets', 0.75537109375)], 14: [(']]></', 1.83984375), (' $}', 1.828125), ('()}', 1.7822265625), (']_', 1.71484375), ('-}', 1.6865234375)], 21: [('主管', 3.818359375), ('erner', 3.697265625), ('azu', 3.642578125), ('чик', 3.443359375), ('pas', 3.390625)], 32: [('istrar', 1.880859375), ('emano', 1.7705078125), ('avorite', 1.7509765625), ('onical', 1.708984375), ('ravity', 1.6953125)], 34: [('нгар', 0.275634765625), ('itori', 0.272705078125), ('illac', 0.269775390625), ('icion', 0.2430419921875), ('iats', 0.2420654296875)], 45: [(' stable', 0.58642578125), (' comm', 0.5537109375), ('�', 0.533203125), ('ipus', 0.52294921875), ('ter', 0.51806640625)]}, 3: {1: [(' $', 0.60400390625), ('0', 0.51953125), (' £', 0.460205078125), (' $-', 0.427734375), ('\\t$', 0.40869140625)], 2: [('yya', 0.6640625), ('сий', 0.6484375), ('дръ', 0.6455078125), (' съм', 0.61181640625), ('quired', 0.60400390625)], 10: [(' course', 0.57958984375), (' Course', 0.53466796875), (' novel', 0.45751953125), ('Course', 0.434814453125), ('novel', 0.42138671875)], 27: [('рича', 0.57861328125), (' rhymes', 0.5732421875), ('ingu', 0.56494140625), (' poem', 0.548828125), ('телен', 0.54833984375)], 28: [(' only', 3.361328125), ('venin', 3.078125), (' most', 3.015625), ('rast', 3.0), ('ymbol', 2.970703125)], 46: [(':(', 1.5390625), (':-', 1.337890625), ('：', 1.29296875), (' :-', 1.2587890625), (';', 1.2490234375)]}, 15: {1: [('multiple', 0.72412109375), ('se', 0.68310546875), ('传', 0.64599609375), ('elines', 0.62939453125), ('莱斯', 0.6220703125)], 23: [('睐', 1.001953125), ('Havana', 0.89404296875), (' capit', 0.84423828125), (' head', 0.8037109375), ('миш', 0.78759765625)], 27: [(' hard', 0.496826171875), (' high', 0.4931640625), (' fuster', 0.489990234375), (' rock', 0.4609375), (' single', 0.4580078125)], 50: [(' M', 1.6025390625), (' Mi', 1.1318359375), (' Viu', 1.103515625), (' F', 1.0751953125), (' М', 1.0625)], 56: [(' well', 1.0224609375), ('ober', 0.98486328125), (' short', 0.96533203125), ('рядко', 0.96337890625), ('束', 0.94384765625)], 60: [('尔夫', 0.447998046875), ('ksw', 0.44189453125), ('TEL', 0.4130859375), ('agra', 0.38330078125), (' pron', 0.37158203125)]}, 9: {2: [('imbab', 5.46875), (' restar', 4.734375), ('ecause', 4.640625), ('angeli', 4.609375), ('сове', 4.5625)], 10: [(' new', 1.6455078125), ('new', 1.5068359375), (' newcom', 1.486328125), (' sit', 1.453125), (' ново', 1.4287109375)], 20: [(' watch', 0.640625), (' Canon', 0.6328125), (' digitals', 0.61669921875), ('arlas', 0.599609375), (' pendrive', 0.59228515625)], 24: [(' real', 0.72021484375), (' Firm', 0.66796875), (' firm', 0.65771484375), ('trica', 0.5986328125), ('Solic', 0.5966796875)], 48: [('��', 0.7587890625), ('ozo', 0.666015625), (' Констан', 0.66552734375), (' the', 0.65576171875), ('the', 0.6494140625)], 61: [(' past', 0.78369140625), (' dim', 0.744140625), ('antro', 0.71630859375), (' ice', 0.6806640625), ('adell', 0.67529296875)]}, 16: {4: [(' me', 0.9111328125), ('amb', 0.7822265625), ('instant', 0.77294921875), (' Particle', 0.7314453125), (' Pla', 0.72265625)], 14: [('’', 1.0576171875), ('』', 0.880859375), ('||', 0.83349609375), (\"'\", 0.83056640625), ('’”', 0.8212890625)], 16: [('n', 0.44384765625), ('ahler', 0.392822265625), ('eros', 0.36865234375), ('1', 0.3662109375), ('2', 0.36572265625)], 23: [('eridge', 4.2734375), ('aux', 4.12109375), ('垫', 3.95703125), (' compass', 3.94921875), ('aulay', 3.921875)], 46: [(' ;', 1.091796875), (';-', 1.013671875), (';', 0.986328125), (' :-', 0.9169921875), (' :', 0.90087890625)], 55: [('st', 0.58984375), ('oured', 0.5751953125), ('rd', 0.57421875), ('tor', 0.5703125), ('top', 0.5537109375)]}, 5: {5: [(' c', 1.99609375), (' f', 1.5537109375), (' български', 1.5205078125), (' te', 1.4931640625), (' l', 1.4873046875)], 21: [(' it', 1.2578125), (' my', 1.2421875), (' me', 1.1875), (' his', 1.1484375), (' your', 1.107421875)], 27: [(' couple', 1.7421875), ('son', 1.6875), (' son', 1.6455078125), (' ha', 1.517578125), (' Ha', 1.4443359375)], 32: [('��', 1.0322265625), ('iky', 0.85546875), ('enched', 0.81103515625), ('ложение', 0.7998046875), ('ssia', 0.78759765625)], 35: [(' N', 1.1796875), (' And', 1.021484375), ('\\tN', 1.005859375), ('Lap', 0.9501953125), ('Primers', 0.92431640625)], 46: [(':]', 0.57958984375), (':[', 0.578125), (':(', 0.57275390625), (':', 0.56005859375), (':{', 0.55517578125)]}, 14: {5: [(' La', 1.1953125), (' E', 1.1630859375), (' e', 1.064453125), (' ND', 1.0439453125), (' S', 1.0224609375)], 14: [('’', 2.076171875), (\"'\", 2.03515625), ('』', 1.9873046875), ('′', 1.8583984375), ('」', 1.830078125)], 31: [('so', 0.81689453125), ('with', 0.78466796875), ('com', 0.74462890625), ('also', 0.68017578125), ('engan', 0.6669921875)], 35: [(' E', 1.60546875), ('E', 1.490234375), ('\\tE', 1.369140625), (' G', 1.11328125), (' Us', 1.08203125)], 40: [(',', 0.76953125), (' ======', 0.7548828125), ('engua', 0.744140625), ('Secondary', 0.7431640625), ('isodi', 0.7255859375)], 50: [(' Le', 0.8544921875), (' La', 0.76611328125), ('Le', 0.71435546875), ('Best', 0.68701171875), (' Ca', 0.67822265625)]}, 8: {6: [('unde', 0.178466796875), ('enery', 0.1595458984375), ('...]', 0.159423828125), ('PREC', 0.157958984375), ('大', 0.15380859375)], 10: [(' post', 1.134765625), (' course', 0.93408203125), (' talk', 0.76904296875), (' Course', 0.7626953125), ('post', 0.74560546875)], 20: [('camel', 0.4794921875), (' rear', 0.431640625), ('路虎', 0.411865234375), ('Camel', 0.407470703125), ('ategories', 0.40234375)], 28: [(' foregoing', 1.4296875), (' item', 1.341796875), (' above', 1.32421875), (' top', 1.3095703125), ('rast', 1.2998046875)], 42: [(' s', 0.25), ('凡', 0.2353515625), ('reg', 0.231689453125), ('ardown', 0.228515625), ('odor', 0.228271484375)], 48: [(' yet', 0.3330078125), ('yet', 0.29150390625), ('ogen', 0.272705078125), ('even', 0.2666015625), (' unaccount', 0.260009765625)]}, 17: {6: [(',', 0.2059326171875), ('，', 0.172607421875), ('#,', 0.1185302734375), ('什么呢', 0.108154296875), ('.,', 0.1041259765625)], 11: [('走', 0.303955078125), ('说', 0.2479248046875), ('arly', 0.239990234375), ('走的', 0.2337646484375), ('с', 0.2261962890625)], 12: [('cal', 0.236572265625), ('ment', 0.220458984375), (' ATI', 0.218994140625), ('空气质量', 0.2166748046875), ('s', 0.2117919921875)], 22: [('бон', 0.305419921875), ('aD', 0.3017578125), ('тън', 0.2880859375), (' AUTHOR', 0.28662109375), (' ${{\\\\', 0.285888671875)], 29: [('fing', 0.89453125), ('ج', 0.86474609375), ('ough', 0.85791015625), ('itatively', 0.849609375), ('мпанията', 0.837890625)], 33: [('ur', 2.65625), ('uble', 2.203125), ('ar', 2.18359375), ('urs', 2.1015625), ('eh', 2.03515625)]}, 2: {10: [(' presents', 1.0947265625), (' present', 1.0517578125), ('presents', 1.044921875), (' show', 0.92236328125), ('present', 0.90234375)], 27: [(' track', 0.94482421875), ('Track', 0.84716796875), (' Track', 0.8251953125), (' tracks', 0.7744140625), ('track', 0.7236328125)], 28: [(' dearest', 0.23779296875), ('ses', 0.2357177734375), ('яко', 0.2244873046875), (' top', 0.2215576171875), (' r', 0.21142578125)], 46: [('��', 2.46875), ('alach', 2.240234375), ('oglob', 2.08203125), ('trude', 2.07421875), ('同志', 2.068359375)], 48: [(' net', 0.56787109375), (' internet', 0.5517578125), (' site', 0.5498046875), (' web', 0.5439453125), (' website', 0.495849609375)], 55: [('曲线', 0.69287109375), ('aturing', 0.6005859375), ('邑', 0.59716796875), ('crash', 0.59423828125), ('cgroup', 0.5908203125)]}, 11: {11: [('�', 0.350830078125), ('没有', 0.3388671875), ('没', 0.303466796875), ('el', 0.29736328125), ('不开', 0.294677734375)], 29: [(' OMIT', 0.64892578125), ('tima', 0.61083984375), ('acro', 0.609375), ('iors', 0.6005859375), ('ancourt', 0.59326171875)], 30: [('iams', 2.20703125), ('� ', 1.9970703125), (' дефи', 1.849609375), ('гва', 1.830078125), (' which', 1.814453125)], 41: [(' dada', 0.31201171875), ('mage', 0.2978515625), ('ю', 0.290771484375), ('DAQ', 0.284423828125), ('� ', 0.28271484375)], 55: [('2', 1.8544921875), ('3', 1.673828125), ('1', 1.6240234375), ('6', 1.5908203125), ('5', 1.5693359375)], 56: [('out', 0.89404296875), ('ore', 0.7763671875), (' out', 0.7685546875), (' of', 0.7548828125), ('adur', 0.75341796875)]}, 1: {14: [('_', 0.720703125), (' */', 0.70849609375), ('\"_', 0.6669921875), (':_', 0.6591796875), (' </', 0.6474609375)], 21: [(' phrasal', 0.34814453125), ('smanship', 0.3427734375), ('AIN', 0.335693359375), (' thou', 0.333251953125), ('alog', 0.332275390625)], 35: [(' W', 0.433837890625), (' w', 0.359619140625), (' len', 0.3544921875), ('W', 0.351318359375), ('INGTON', 0.3427734375)], 46: [('：', 2.01171875), (':@', 1.83203125), (':#', 1.6630859375), (':(', 1.6552734375), (':*.', 1.5732421875)], 48: [(' right', 0.46484375), ('right', 0.45556640625), (' Right', 0.450927734375), ('into', 0.4375), (' accelerator', 0.4326171875)], 55: [('olas', 4.00390625), ('enties', 3.75), ('uple', 3.6875), ('olite', 3.62890625), (' slightly', 3.626953125)]}, 6: {14: [(' »', 2.623046875), ('″', 2.2109375), (' &', 2.1640625), ('】', 2.16015625), ('“', 2.150390625)], 40: [(' Saludos', 7.36328125), ('Compatibility', 7.15234375), (' Tienes', 7.1015625), ('ghai', 7.00390625), ('Correct', 6.81640625)], 43: [('unes', 1.162109375), (' enz', 1.158203125), ('cope', 1.1552734375), ('lop', 1.142578125), (' expedient', 1.1298828125)], 46: [(' iget', 2.640625), ('eeq', 2.5546875), ('aveu', 2.51953125), (' 👼', 2.36328125), ('scr', 2.33203125)], 53: [('。', 1.9404296875), ('�', 1.763671875), ('quest', 1.751953125), (' therap', 1.6787109375), ('(**', 1.64453125)], 54: [(' back', 2.56640625), (' right', 2.51171875), (' form', 2.416015625), ('ses', 2.310546875), (' with', 2.294921875)]}, 7: {14: [('||', 0.4853515625), ('】【', 0.471435546875), ('\"|', 0.44775390625), ('】', 0.4404296875), ('\\\\\",', 0.418701171875)], 19: [('乒乓', 0.50390625), ('WRAP', 0.476806640625), ('TYPES', 0.454833984375), (' Experts', 0.43994140625), ('edded', 0.43994140625)], 31: [(' with', 0.2666015625), (' as', 0.25244140625), (' and', 0.2509765625), (' primary', 0.232666015625), ('高于', 0.228515625)], 35: [('eler', 0.59033203125), ('rupulous', 0.58447265625), ('�', 0.5673828125), ('adders', 0.54736328125), ('arta', 0.5400390625)], 40: [(' regarding', 144.25), (' Down', 131.0), ('anys', 128.625), (' relating', 125.25), ('allot', 122.1875)], 42: [('рея', 1.14453125), ('��', 1.134765625), ('REPORT', 1.0107421875), (' уче', 0.9736328125), ('DUP', 0.9697265625)]}, 10: {14: [('\\'\");', 2.123046875), (\"')}\", 2.0234375), (\"'));\", 1.9765625), ('.\"));', 1.9697265625), (\"'});\", 1.923828125)], 15: [(' provided', 0.712890625), (' used', 0.6630859375), (' found', 0.65673828125), ('elson', 0.64892578125), (' that', 0.64208984375)], 26: [('мик', 1.537109375), ('该校', 1.4658203125), (' fun', 1.4248046875), ('inaire', 1.4140625), ('пува', 1.3896484375)], 34: [(' Кън', 0.57763671875), ('полд', 0.4560546875), ('imes', 0.43603515625), ('майстор', 0.430419921875), ('бори', 0.420166015625)], 48: [('ram', 0.44775390625), ('\\tto', 0.447265625), (' Ship', 0.44287109375), (' mod', 0.427978515625), ('gram', 0.427978515625)], 56: [(' out', 0.88623046875), ('out', 0.7685546875), ('Out', 0.56396484375), ('\\tout', 0.560546875), (' Out', 0.5517578125)]}, 13: {14: [(' &', 1.470703125), (\"'));\", 1.39453125), (\"')}\", 1.30859375), ('\\t&', 1.2734375), ('~&', 1.2685546875)], 35: [('idence', 0.331298828125), (' дипло', 0.3037109375), ('жене', 0.30224609375), ('\\tN', 0.301513671875), ('N', 0.300048828125)], 37: [('imel', 0.71826171875), ('etcher', 0.66259765625), ('accio', 0.65625), (',#', 0.64501953125), ('footnotes', 0.63818359375)], 40: [(' пореди', 4.41015625), ('previous', 4.1796875), ('Compatibility', 4.01171875), ('пите', 3.978515625), (' //-->', 3.857421875)], 53: [(' therap', 1.6875), (' Trustees', 1.6484375), ('вните', 1.6435546875), (' нах', 1.626953125), ('^^^^^^^^', 1.5849609375)], 57: [('Vtbl', 0.59130859375), ('interopRequireDefault', 0.55615234375), (' Syr', 0.51025390625), ('ableness', 0.50048828125), ('POLICY', 0.499755859375)]}, 20: {14: [('.\"));', 1.55078125), ('\\'\");', 1.4853515625), ('\\'\";', 1.48046875), ('\")));', 1.4091796875), ('\"；', 1.384765625)], 19: [(' F', 0.82861328125), (' EN', 0.80859375), (' A', 0.73876953125), (' LA', 0.7314453125), ('\\tF', 0.65283203125)], 21: [('you', 1.267578125), (' you', 1.2529296875), ('emple', 1.1865234375), ('OMET', 1.1708984375), (' You', 1.1337890625)], 34: [('По', 0.49951171875), ('�', 0.463134765625), ('�', 0.4619140625), ('iza', 0.443359375), ('供', 0.443359375)], 54: [(' at', 1.9677734375), (' back', 1.9189453125), (' Back', 1.7763671875), ('back', 1.7490234375), (' At', 1.525390625)], 56: [(' de', 0.99169921875), (' way', 0.9873046875), (' more', 0.9599609375), (' fulla', 0.85791015625), ('ually', 0.84033203125)]}, 4: {15: [('orthand', 0.35546875), ('lita', 0.330810546875), ('стани', 0.330810546875), ('Future', 0.31787109375), ('ството', 0.30859375)], 43: [(' rehe', 0.74462890625), ('ingen', 0.73095703125), ('akespeare', 0.71484375), (' Quarta', 0.6904296875), (' Dinastia', 0.6845703125)], 46: [('1', 0.576171875), ('2', 0.55078125), ('3', 0.533203125), ('4', 0.51123046875), ('9', 0.50927734375)], 48: [('体外', 0.208251953125), (' starch', 0.2060546875), (' dumpster', 0.205810546875), ('lando', 0.20458984375), (' labors', 0.1986083984375)], 53: [('евру', 3.548828125), ('ernate', 3.056640625), (' occas', 3.0), ('ерн', 2.8515625), (' пореди', 2.849609375)], 54: [(' under', 0.91552734375), (' directly', 0.81298828125), (' with', 0.80078125), ('under', 0.787109375), (' straight', 0.775390625)]}, 19: {16: [('arell', 0.66455078125), ('eor', 0.63525390625), ('is', 0.6298828125), ('ocene', 0.61474609375), ('unitat', 0.60888671875)], 21: [('up', 1.349609375), ('plementary', 1.24609375), ('UMN', 1.2314453125), (' up', 1.1181640625), ('UP', 1.099609375)], 29: [(' L', 0.455810546875), ('4', 0.400146484375), (' Pro', 0.39990234375), ('edo', 0.39453125), (' ', 0.383056640625)], 41: [('><![', 0.36767578125), ('�起', 0.361572265625), ('uder', 0.354736328125), ('了一系列', 0.341552734375), (' short', 0.340576171875)], 48: [(' from', 0.5478515625), ('from', 0.5380859375), (' FROM', 0.5244140625), (' From', 0.390380859375), (' из', 0.38427734375)], 56: [(' way', 0.58251953125), (' de', 0.4501953125), ('way', 0.437255859375), (' Way', 0.372314453125), ('amet', 0.36328125)]}, 0: {31: [('=-=-=-=-=-=-=-=-', 1.333984375), ('линг', 1.318359375), ('uada', 1.31640625), (' did', 1.3037109375), ('ostes', 1.2998046875)], 33: [('�', 0.0180206298828125), ('�', 0.0179290771484375), (' earth', 0.0163421630859375), (' step', 0.0163421630859375), (' he', 0.0159912109375)], 39: [('1', 0.103515625), ('6', 0.09796142578125), ('2', 0.09716796875), ('4', 0.09698486328125), ('7', 0.09674072265625)], 40: [('Bien', 1.845703125), (' Princip', 1.61328125), (' Bien', 1.58203125), ('Great', 1.548828125), ('Rough', 1.4814453125)], 45: [(' call', 0.6640625), (' define', 0.5478515625), (' calls', 0.54150390625), (' defined', 0.50830078125), (' дефи', 0.462646484375)], 57: [('and', 0.08404541015625), ('b', 0.081787109375), ('con', 0.0731201171875), ('ol', 0.07183837890625), ('i', 0.071044921875)]}}\n",
      "Shared expert predictions: [[(' ', 2.54296875), (' involving', 2.533203125), ('0', 2.35546875), (' u', 2.341796875), (' ev', 2.30078125)], [(',', 10.890625), ('.', 9.5078125), (' the', 9.46875), (' ', 9.4375), (' a', 8.8828125)], [(' ', 15.484375), (',', 12.578125), (' \"', 11.9609375), ('\\n', 11.5234375), (' -', 11.1875)], [(' ', 19.734375), (',', 18.921875), (' \"', 15.453125), (':', 15.328125), (' -', 15.0859375)], [(',', 22.0), (' ', 20.65625), ('.', 19.265625), (':', 17.828125), (' (', 17.140625)], [(' the', 18.875), (' a', 17.71875), (' ', 17.359375), (' (', 16.9375), (' new', 16.78125)], [(',', 18.6875), (' ', 17.046875), ('.', 17.0), (' in', 15.25), (' (', 14.8515625)], [(' a', 16.84375), (' ', 16.15625), (' in', 15.8828125), (' The', 15.8203125), (' the', 15.6875)], [(' ', 14.5546875), (' three', 12.265625), (' four', 11.9921875), (' two', 11.890625), (' six', 11.453125)], [(' ', 13.46875), (' and', 12.203125), (',', 12.015625), (' is', 11.609375), (' of', 11.109375)], [(' a', 14.84375), (' ', 14.7890625), (',', 13.90625), (' always', 13.5546875), (' s', 13.078125)], [(' ', 21.171875), ('...', 20.296875), ('\\n', 18.96875), (' ...', 18.140625), ('…', 17.515625)], [(' ', 21.53125), ('...', 17.75), (',', 17.1875), ('\\n', 16.984375), (' \"', 16.65625)], [(' ', 23.09375), (',', 22.875), ('.', 22.203125), (' -', 21.625), ('...', 21.15625)], [(' ', 18.046875), (' \"', 16.609375), (\" '\", 15.8203125), (' -', 14.5546875), ('...', 14.375)], [(' ', 20.53125), ('\\n', 17.78125), (' \"', 15.3984375), (' is', 15.3359375), (' T', 15.2265625)], [(' ', 16.484375), ('\\n', 15.0234375), (',', 12.78125), ('.', 12.109375), ('...', 11.796875)], [(',', 14.1171875), (' ', 13.3203125), (' is', 12.625), (' a', 12.265625), ('...', 12.25)], [(' ', 22.15625), (',', 19.296875), ('...', 19.203125), ('\\n', 19.15625), (' (', 18.46875)], [(' ', 18.40625), (',', 17.65625), ('\\n', 17.390625), ('.', 16.375), (' a', 15.9609375)], [(' ', 30.078125), (' \"', 25.4375), (',', 24.125), ('\\n', 23.53125), ('1', 23.328125)], [(' ', 25.40625), ('\\n', 23.203125), (' \"', 20.828125), (',', 20.5625), (' (', 20.40625)]]\n",
      "\n",
      "MoE Layer 27:\n",
      "Selected experts: [[30, 62, 54, 56, 14, 2], [27, 23, 9, 52, 3, 28], [63, 1, 38, 23, 53, 29], [63, 29, 23, 10, 38, 53], [22, 9, 2, 18, 42, 36], [33, 46, 23, 8, 6, 63], [42, 36, 2, 9, 61, 3], [13, 62, 2, 41, 14, 32], [63, 1, 53, 19, 20, 23], [38, 10, 49, 20, 19, 23], [59, 39, 7, 58, 9, 52], [44, 25, 18, 12, 11, 22], [15, 46, 6, 44, 18, 24], [42, 9, 2, 61, 36, 14], [14, 21, 33, 3, 41, 30], [33, 1, 63, 53, 7, 27], [55, 27, 35, 28, 9, 49], [27, 35, 5, 57, 28, 17], [33, 9, 10, 6, 40, 49], [59, 27, 28, 9, 35, 22], [9, 33, 7, 22, 61, 3], [33, 46, 9, 49, 59, 15]]\n",
      "Expert weights: [[0.1358642578125, 0.301025390625, 0.2371826171875, 0.1348876953125, 0.062103271484375, 0.01378631591796875], [0.07037353515625, 0.1295166015625, 0.1978759765625, 0.052734375, 0.047119140625, 0.03741455078125], [0.11737060546875, 0.270263671875, 0.03704833984375, 0.1337890625, 0.035552978515625, 0.0355224609375], [0.08905029296875, 0.07635498046875, 0.1529541015625, 0.058074951171875, 0.05596923828125, 0.039642333984375], [0.1298828125, 0.0960693359375, 0.07452392578125, 0.061431884765625, 0.054473876953125, 0.034759521484375], [0.03948974609375, 0.25341796875, 0.0511474609375, 0.117431640625, 0.0703125, 0.036834716796875], [0.072998046875, 0.052734375, 0.130615234375, 0.126953125, 0.031768798828125, 0.0299835205078125], [0.051727294921875, 0.04754638671875, 0.1646728515625, 0.052276611328125, 0.1815185546875, 0.037567138671875], [0.146240234375, 0.3720703125, 0.1082763671875, 0.049774169921875, 0.0450439453125, 0.035369873046875], [0.1429443359375, 0.1409912109375, 0.1361083984375, 0.0750732421875, 0.061004638671875, 0.054962158203125], [0.1910400390625, 0.187744140625, 0.1654052734375, 0.033538818359375, 0.0199737548828125, 0.018402099609375], [0.069580078125, 0.044464111328125, 0.0675048828125, 0.1552734375, 0.04559326171875, 0.04290771484375], [0.1673583984375, 0.132080078125, 0.1026611328125, 0.07098388671875, 0.039093017578125, 0.036590576171875], [0.1463623046875, 0.14404296875, 0.1435546875, 0.0631103515625, 0.0501708984375, 0.0469970703125], [0.08160400390625, 0.07257080078125, 0.0714111328125, 0.1435546875, 0.067138671875, 0.04931640625], [0.422119140625, 0.04833984375, 0.03887939453125, 0.0321044921875, 0.03167724609375, 0.0298004150390625], [0.356201171875, 0.273681640625, 0.06536865234375, 0.055694580078125, 0.022308349609375, 0.0179901123046875], [0.1561279296875, 0.127685546875, 0.07452392578125, 0.07177734375, 0.062255859375, 0.034912109375], [0.1512451171875, 0.05853271484375, 0.044189453125, 0.037872314453125, 0.036224365234375, 0.0360107421875], [0.08197021484375, 0.197509765625, 0.04998779296875, 0.0775146484375, 0.08148193359375, 0.04949951171875], [0.21337890625, 0.06890869140625, 0.05792236328125, 0.036346435546875, 0.03076171875, 0.028289794921875], [0.35205078125, 0.219482421875, 0.0239105224609375, 0.0236968994140625, 0.0225982666015625, 0.019622802734375]]\n",
      "Combined output tokens: [[('【', 20.234375), ('<?', 20.046875), ('2', 18.484375), ('The', 18.28125), ('China', 18.140625)], [(' ', 25.09375), (' (', 23.140625), (',', 20.4375), ('0', 20.0625), (' to', 20.015625)], [(' name', 32.21875), (' to', 29.40625), (' car', 29.265625), (' book', 29.203125), (' cross', 29.171875)], [(' for', 32.0), (' to', 31.953125), (' and', 31.765625), (' of', 31.375), (' name', 31.0625)], [(' ', 39.0625), (',', 35.8125), (' (', 34.5625), ('.', 33.46875), (' -', 31.796875)], [(',', 43.1875), (' ', 42.75), (' (', 40.96875), ('.', 40.90625), (' to', 40.40625)], [(' ', 34.03125), (',', 33.875), (' (', 32.03125), ('.', 31.296875), (' of', 29.4375)], [(',', 53.3125), (' ', 53.28125), (' (', 52.09375), ('.', 48.875), (' -', 47.875)], [(' me', 40.09375), (' name', 39.96875), (' child', 39.78125), (' car', 39.0), (' hand', 38.875)], [(' to', 34.875), (' me', 34.03125), (' for', 31.953125), (' and', 31.53125), (' us', 31.46875)], [(',', 33.5), (' and', 32.5), (' ', 32.28125), (' to', 31.953125), (' for', 31.75)], [(',', 35.75), (' and', 33.78125), ('.', 33.15625), (' of', 33.125), (' for', 32.96875)], [(',', 42.53125), (' ', 41.09375), (' to', 39.5), ('.', 39.46875), (' (', 38.65625)], [(',', 40.0), (' (', 37.34375), (' ', 36.28125), (' to', 35.46875), (' of', 35.0)], [(',', 36.46875), ('.', 33.9375), (' ', 33.6875), (' (', 33.21875), (' to', 30.625)], [(' ', 41.78125), (',', 38.75), (' l', 37.5), (' co', 37.34375), ('8', 36.71875)], [(' ', 39.0), (',', 35.8125), (' (', 34.34375), ('-', 34.34375), ('.', 34.15625)], [(' ', 56.34375), (',', 52.28125), ('-', 52.03125), (' (', 51.5), (' -', 49.4375)], [(' ', 30.546875), (' ou', 29.875), (',', 29.03125), (' en', 28.703125), (' sous', 28.109375)], [(' ', 45.65625), (',', 44.875), (' (', 42.40625), ('.', 41.3125), ('-', 41.25)], [(',', 30.703125), (' ', 28.40625), (' en', 27.703125), ('.', 27.296875), (' ou', 27.203125)], [(',', 33.5625), (' en', 33.5), (' ou', 31.78125), ('-', 30.46875), ('.', 30.28125)]]\n",
      "Expert predictions by position: {2: {1: [('venin', 5.171875), (' ancients', 5.07421875), ('sis', 5.05078125), ('ntic', 4.77734375), ('anine', 4.7265625)], 23: [(' link', 0.9423828125), (' PDF', 0.94091796875), (' hyperlink', 0.93212890625), (' pdf', 0.92724609375), (' URL', 0.921875)], 29: [(' Terms', 0.418701171875), (' individual', 0.3681640625), (' terms', 0.365966796875), (' Facts', 0.35009765625), (' basics', 0.342529296875)], 38: [(' experience', 0.5576171875), (' point', 0.47509765625), (' opportunity', 0.47509765625), (' position', 0.4560546875), (' subject', 0.45361328125)], 53: [(' dispute', 0.4443359375), (' controversy', 0.439208984375), (' obstacle', 0.404296875), (' issue', 0.402099609375), (' process', 0.4013671875)], 63: [(' coef', 1.724609375), ('она', 1.6064453125), (' temple', 1.5986328125), ('ensional', 1.5537109375), (' scroll', 1.54296875)]}, 8: {1: [(' greatest', 0.339111328125), (' Highest', 0.318603515625), (' Right', 0.306884765625), (' shortest', 0.29736328125), (' highest', 0.296630859375)], 19: [(' military', 0.63232421875), (' advance', 0.62060546875), (' cinematogr', 0.5986328125), ('yx', 0.56201171875), ('ETAIL', 0.55078125)], 20: [(' Bruins', 0.87109375), (' Falcons', 0.8515625), (' Braves', 0.83837890625), (' Colts', 0.83154296875), (' Warriors', 0.81494140625)], 23: [(' site', 0.6982421875), (' search', 0.63720703125), (' headline', 0.62939453125), (' headlines', 0.62158203125), (' searches', 0.56591796875)], 53: [(' triom', 0.416015625), (' def', 0.398193359375), (' accident', 0.38427734375), (' dom', 0.3837890625), (' Accident', 0.368896484375)], 63: [(' alphabet', 0.56982421875), ('arrant', 0.5078125), ('phabet', 0.482666015625), (' substring', 0.45556640625), ('ITED', 0.4521484375)]}, 15: {1: [('saurus', 3.48046875), (' fullest', 3.25390625), ('ses', 3.072265625), (' remainder', 2.857421875), (' full', 2.83203125)], 7: [(' suitable', 0.1748046875), (' important', 0.1744384765625), (' renom', 0.17431640625), (' notable', 0.1741943359375), ('suitable', 0.1719970703125)], 27: [('é', 3.5390625), ('u', 3.357421875), ('ьой', 3.33984375), ('onet', 3.3359375), ('ette', 3.263671875)], 33: [(' il', 2.2421875), (' el', 2.23828125), (' le', 2.1796875), (' g', 2.125), (' pacte', 2.080078125)], 53: [(' court', 0.389404296875), (' fact', 0.384521484375), (' Court', 0.37744140625), ('ifice', 0.372802734375), (' Trial', 0.370361328125)], 63: [(' coef', 1.1298828125), (' diagram', 1.080078125), (' row', 1.0302734375), (' figure', 0.99951171875), (' btree', 0.9921875)]}, 0: {2: [('属', 1.04296875), (' кръ', 0.8994140625), ('ieres', 0.89306640625), (' зави', 0.8369140625), ('�', 0.81396484375)], 14: [(' others', 0.564453125), (' yours', 0.54541015625), (' right', 0.5361328125), (' See', 0.52783203125), (' first', 0.5185546875)], 30: [('////////////////////////////////////////////////////////////////', 1.86328125), ('//', 1.82421875), ('\\t//', 1.818359375), ('/************************************************************************', 1.787109375), ('//----------------------------------------------------------------', 1.7666015625)], 54: [('角', 5.75), ('学', 5.6015625), (' _$', 5.5390625), ('�', 5.5), ('待', 5.48828125)], 56: [('1', 3.189453125), ('2', 3.142578125), (' *', 3.0859375), ('//', 3.00390625), (' ', 3.001953125)], 62: [(' December', 0.418212890625), (' November', 0.416015625), (' February', 0.4111328125), (' January', 0.401611328125), (' ', 0.392578125)]}, 4: {2: [('<｜end▁of▁sentence｜>', 1.71875), ('—', 1.34375), (' #', 1.27734375), (' Read', 1.1962890625), (' 👼', 1.1123046875)], 9: [('记》', 1.6708984375), ('》和《', 1.6357421875), ('》等', 1.5888671875), ('\\'\");', 1.57421875), (\"'):\", 1.5654296875)], 18: [(' down', 0.576171875), (' up', 0.5146484375), ('down', 0.499755859375), (' DOWN', 0.441650390625), (' out', 0.4228515625)], 22: [(' toward', 0.259033203125), (' later', 0.257080078125), (' away', 0.2568359375), (' be', 0.25341796875), (' concern', 0.25146484375)], 36: [(' y', 0.251220703125), ('，', 0.2049560546875), (' e', 0.1959228515625), (' f', 0.19384765625), (' z', 0.18212890625)], 42: [('-', 0.93798828125), (' ', 0.89453125), ('…', 0.84033203125), ('……', 0.83837890625), ('.', 0.7919921875)]}, 6: {2: [('<｜end▁of▁sentence｜>', 0.093994140625), ('READ', 0.058258056640625), ('Read', 0.053466796875), (' /*!<', 0.05224609375), ('\"];', 0.052032470703125)], 3: [(')](', 1.5673828125), (')||', 1.3564453125), (').]', 1.337890625), ('__)', 1.3349609375), (')].', 1.3212890625)], 9: [('\\'.\"', 0.30517578125), ('\";', 0.30322265625), ('」', 0.30224609375), ('\\',\"', 0.301025390625), ('.\"]', 0.300048828125)], 36: [(' und', 0.2476806640625), (' y', 0.1767578125), (' et', 0.1492919921875), (' &', 0.1492919921875), ('&', 0.1485595703125)], 42: [('!', 0.422119140625), (\"!'\", 0.368408203125), ('.!', 0.367919921875), ('!!', 0.36572265625), ('-', 0.361328125)], 61: [('-', 0.387939453125), (' .', 0.38427734375), ('.', 0.376220703125), ('.,', 0.3681640625), ('.[', 0.36767578125)]}, 7: {2: [(' кръ', 0.79345703125), ('皆', 0.77734375), ('属', 0.75048828125), (' fingerprints', 0.7060546875), ('弃', 0.70458984375)], 13: [('com', 0.390380859375), ('org', 0.38232421875), ('COM', 0.31005859375), ('’”', 0.309326171875), ('ORG', 0.305419921875)], 14: [('\\n', 1.4619140625), ('makeText', 1.400390625), ('bootstrapcdn', 1.400390625), (' I', 1.3583984375), ('<｜end▁of▁sentence｜>', 1.3193359375)], 32: [(' there', 0.2802734375), (' maybe', 0.26904296875), (' yes', 0.262939453125), (' another', 0.261962890625), (' let', 0.248291015625)], 41: [(' particularly', 0.406982421875), (' especially', 0.4033203125), (' however', 0.353271484375), (' though', 0.3359375), (' including', 0.326904296875)], 62: [('Magent', 9.8046875), ('<?', 9.0546875), ('<!', 8.484375), ('Strunz', 8.4296875), ('package', 8.3984375)]}, 13: {2: [('<｜end▁of▁sentence｜>', 0.509765625), ('...', 0.3330078125), ('/', 0.32666015625), (' /', 0.31689453125), (' sol', 0.314697265625)], 9: [('\"；', 0.338134765625), ('\"！', 0.319091796875), ('\"|', 0.305908203125), ('」', 0.295654296875), (',\"', 0.29296875)], 14: [('Reply', 0.26904296875), (' Of', 0.257568359375), (' _.', 0.256591796875), (' Until', 0.25390625), (' I', 0.25390625)], 36: [(' &', 0.1197509765625), (' co', 0.10235595703125), (' und', 0.10064697265625), (' y', 0.0992431640625), (' con', 0.09674072265625)], 42: [(' because', 0.2313232421875), ('...', 0.215087890625), (' too', 0.2144775390625), ('!', 0.2108154296875), ('…', 0.1925048828125)], 61: [('.[', 0.109619140625), ('.\"[', 0.082763671875), ('.<', 0.08172607421875), ('.\\\\\\\\', 0.0806884765625), ('.</', 0.0797119140625)]}, 1: {3: [(']);', 0.441650390625), ('];', 0.433349609375), (']\",', 0.431884765625), ('}\");', 0.422119140625), ('\"]);', 0.4130859375)], 9: [('\"；', 0.275390625), ('\\'?\"', 0.2432861328125), ('」', 0.23583984375), ('】', 0.2315673828125), ('\";', 0.228515625)], 23: [('地址', 2.384765625), (' header', 2.2265625), ('�乐', 2.185546875), (' tabs', 2.04296875), (' headline', 1.9814453125)], 27: [('er', 0.84130859375), ('als', 0.8359375), ('ers', 0.83056640625), ('i', 0.7958984375), ('iner', 0.76171875)], 28: [('eu', 0.6962890625), ('aer', 0.64697265625), ('eers', 0.63330078125), ('erb', 0.6298828125), ('eau', 0.6279296875)], 52: [(' talking', 0.2208251953125), (' matching', 0.215576171875), (' bearing', 0.209716796875), (' listening', 0.203369140625), (' running', 0.2015380859375)]}, 14: {3: [('.),', 0.461669921875), (').]', 0.46142578125), ('）', 0.461181640625), ('.)', 0.460693359375), ('),', 0.44873046875)], 14: [(' See', 1.6572265625), (' Also', 1.560546875), (' Try', 1.5595703125), (' .', 1.5517578125), (' It', 1.513671875)], 21: [(' E', 0.56640625), ('rag', 0.55615234375), ('ляма', 0.51025390625), ('E', 0.50927734375), ('land', 0.50439453125)], 30: [('ses', 0.60107421875), ('enses', 0.497314453125), ('liest', 0.485595703125), ('sembl', 0.478515625), ('tues', 0.4736328125)], 33: [(' l', 0.444091796875), ('\\tl', 0.29150390625), (' definitiva', 0.289306640625), (' nostra', 0.28466796875), (' pilota', 0.275634765625)], 41: [(' j', 0.358154296875), (' including', 0.35400390625), (' except', 0.35107421875), ('lines', 0.3359375), ('line', 0.334228515625)]}, 20: {3: [(').]', 0.2462158203125), (']|', 0.2340087890625), (').}', 0.2281494140625), (']).', 0.221923828125), ('_.]', 0.215576171875)], 7: [(' precious', 1.0048828125), (' essential', 0.96484375), (' inf', 0.9501953125), (' important', 0.93994140625), (' special', 0.9375)], 9: [('\"！', 1.1552734375), ('\"|', 1.115234375), ('”', 1.10546875), ('\"；', 1.041015625), ('」', 1.03125)], 22: [(' through', 0.56787109375), (' about', 0.546875), (' regarding', 0.541015625), ('through', 0.53515625), (' thru', 0.533203125)], 33: [(' col', 5.09765625), ('prene', 5.0859375), ('抵', 4.9296875), (' reprendre', 4.8984375), (' tr', 4.82421875)], 61: [('-', 0.15576171875), (';', 0.1258544921875), (' .', 0.1236572265625), ('—', 0.10711669921875), ('–', 0.105224609375)]}, 17: {5: [('CHANT', 0.52294921875), (' excurs', 0.4775390625), (' optocou', 0.472900390625), ('odia', 0.464111328125), ('�', 0.452880859375)], 17: [('than', 0.253662109375), ('PM', 0.2216796875), ('iem', 0.220947265625), ('pm', 0.2188720703125), ('sts', 0.217529296875)], 27: [('ed', 5.30859375), ('o', 4.875), ('i', 4.84375), ('u', 4.83203125), ('<｜begin▁of▁sentence｜>', 4.8203125)], 28: [('ider', 0.2274169921875), ('ides', 0.21875), ('ith', 0.212158203125), (' =', 0.207763671875), ('iders', 0.2037353515625)], 35: [(' h', 4.9921875), ('-', 4.97265625), (' (', 4.890625), ('’', 4.796875), (' r', 4.796875)], 57: [('�', 0.974609375), ('�', 0.8994140625), ('�', 0.896484375), ('ست', 0.88671875), ('�', 0.88232421875)]}, 5: {6: [(' stand', 2.26171875), (' lead', 2.17578125), (' hold', 1.7724609375), (' show', 1.7705078125), (' happen', 1.7568359375)], 8: [('1', 0.90966796875), (' isometric', 0.83837890625), (' Israel', 0.8251953125), ('5', 0.8193359375), ('let', 0.80517578125)], 23: [(' header', 2.763671875), (' URL', 2.755859375), (' directories', 2.7109375), (' headlines', 2.603515625), ('地址', 2.5625)], 33: [(' le', 1.0400390625), (' les', 1.0224609375), (' l', 0.9931640625), ('стен', 0.88720703125), ('renc', 0.8642578125)], 46: [(' finish', 1.091796875), (' grasp', 1.08203125), (' clear', 1.0), (' recover', 0.982421875), (' enrich', 0.9736328125)], 63: [(' bottom', 0.521484375), ('имен', 0.481689453125), (' cout', 0.479736328125), (' len', 0.474365234375), (' relle', 0.470458984375)]}, 12: {6: [(' use', 1.15625), (' lead', 1.109375), (' hold', 1.01953125), (' help', 0.98095703125), (' follow', 0.978515625)], 15: [(' stop', 1.8671875), (' reach', 1.8388671875), (' im', 1.8369140625), ('\\r', 1.8125), (' inc', 1.810546875)], 18: [(' down', 0.55517578125), (' away', 0.5166015625), (' up', 0.462890625), ('down', 0.45849609375), (' DOWN', 0.44482421875)], 24: [(' possibly', 0.15625), (' even', 0.1527099609375), (' perhaps', 0.151611328125), (' maybe', 0.145751953125), ('1', 0.1422119140625)], 44: [(' spin', 0.1790771484375), ('��', 0.17529296875), (' absorption', 0.1729736328125), (' convolutions', 0.1727294921875), ('oleon', 0.1676025390625)], 46: [('кази', 1.8955078125), ('iente', 1.7763671875), ('знание', 1.767578125), ('бори', 1.7578125), ('glu', 1.6982421875)]}, 18: {6: [(' ont', 0.51318359375), (' font', 0.44091796875), (' correspondent', 0.4384765625), (' be', 0.4267578125), ('iante', 0.423583984375)], 9: [('」', 2.40234375), ('\"；', 2.1484375), ('\"！', 2.146484375), ('\"_', 2.033203125), ('\"|', 2.013671875)], 10: [(' lineal', 0.1761474609375), (' basant', 0.1744384765625), (' atmosp', 0.1737060546875), (' background', 0.1705322265625), ('ippet', 0.1683349609375)], 33: [(' l', 8.9609375), (' sa', 5.765625), ('ovember', 5.40625), (' m', 5.390625), (' feu', 5.32421875)], 40: [('‘', 0.337890625), (\" '\", 0.27294921875), ('『', 0.23486328125), ('’', 0.2335205078125), (\" '(\", 0.2197265625)], 49: [('–', 0.2039794921875), ('kind', 0.1962890625), ('anesa', 0.1915283203125), ('encs', 0.1900634765625), ('ped', 0.1884765625)]}, 10: {7: [('\\r', 0.3369140625), (' eminent', 0.30908203125), (' important', 0.285888671875), ('flow', 0.284423828125), ('grain', 0.28076171875)], 9: [('，', 2.7890625), ('。', 2.630859375), ('、', 2.5390625), ('」', 2.212890625), ('；', 1.9453125)], 39: [(' coet', 1.0048828125), (' full', 1.0009765625), (' accessible', 1.0009765625), (' friendly', 0.9794921875), (' writable', 0.9462890625)], 52: [(' relying', 0.128662109375), (' containing', 0.1275634765625), (' bearing', 0.127197265625), (' focusing', 0.1265869140625), (' working', 0.12237548828125)], 58: [(' others', 0.294189453125), (' individuals', 0.276611328125), (' somebody', 0.259765625), (' those', 0.253662109375), (' someone', 0.2447509765625)], 59: [(' actually', 1.1572265625), (' known', 1.15234375), (' welcome', 1.134765625), (' easier', 1.109375), (' almost', 1.099609375)]}, 16: {9: [('，', 1.79296875), ('。', 1.6572265625), ('、', 1.6337890625), ('」', 1.3203125), ('；', 1.3056640625)], 27: [('u', 0.5244140625), ('eu', 0.50439453125), ('é', 0.478515625), ('j', 0.4658203125), ('mente', 0.465087890625)], 28: [('up', 0.64697265625), ('oop', 0.6259765625), ('ê', 0.619140625), ('ap', 0.576171875), ('i', 0.5703125)], 35: [('ed', 1.1904296875), ('ele', 1.162109375), ('est', 1.0517578125), ('ered', 1.01953125), ('er', 1.013671875)], 49: [('naire', 0.14404296875), ('stit', 0.1341552734375), ('sis', 0.13330078125), ('orget', 0.1309814453125), ('�乐', 0.1298828125)], 55: [('verse', 4.75), ('esion', 4.3828125), ('ecci', 4.18359375), ('çã', 4.1328125), ('лио', 4.12890625)]}, 19: {9: [('。', 2.072265625), ('，', 2.06640625), ('、', 1.9228515625), ('」', 1.720703125), ('》', 1.583984375)], 22: [(' over', 0.330078125), (' beyond', 0.327880859375), (' under', 0.3271484375), (' else', 0.322998046875), (' elsewhere', 0.321044921875)], 27: [(' is', 4.8046875), (' pr', 4.76953125), (' run', 4.75390625), (' a', 4.72265625), ('ir', 4.7109375)], 28: [(' in', 1.6201171875), (' o', 1.609375), ('us', 1.591796875), (' ', 1.5908203125), (' is', 1.5654296875)], 35: [(' \"', 1.119140625), ('ed', 1.099609375), (' ', 1.041015625), (' best', 1.02734375), (' am', 1.0126953125)], 59: [(' great', 0.42236328125), (' certain', 0.408203125), (\"'][$\", 0.406494140625), (' welcome', 0.388427734375), (' simpler', 0.381591796875)]}, 21: {9: [('\"；', 0.8857421875), ('」', 0.8818359375), ('\"|', 0.853515625), ('\";', 0.83642578125), (',\\'\"', 0.83349609375)], 15: [(' enp', 0.10675048828125), ('pots', 0.106689453125), (' overtake', 0.1046142578125), ('astes', 0.10308837890625), ('arers', 0.10296630859375)], 33: [(' l', 1.0234375), ('l', 0.63720703125), ('Equ', 0.61376953125), ('L', 0.6005859375), ('ques', 0.599609375)], 46: [(' put', 1.232421875), (' prevent', 1.2314453125), (' sleep', 1.212890625), (' grasp', 1.20703125), (' GiB', 1.1982421875)], 49: [('–', 0.255615234375), ('—', 0.2093505859375), ('——', 0.1988525390625), (' -', 0.189697265625), ('––', 0.18896484375)], 59: [(' admissible', 0.1748046875), (' plenty', 0.1680908203125), (' certain', 0.166015625), (' granted', 0.15185546875), (' given', 0.1505126953125)]}, 3: {10: [('ity', 0.5947265625), ('ly', 0.5654296875), ('ities', 0.5107421875), ('ness', 0.49951171875), ('nesses', 0.432861328125)], 23: [(' dita', 1.146484375), (' googleapi', 1.138671875), ('hljs', 1.1279296875), (' github', 1.048828125), ('archives', 1.04296875)], 29: [('rules', 0.93115234375), (' facts', 0.90576171875), ('Rules', 0.818359375), (' Rules', 0.7890625), (' criter', 0.7802734375)], 38: [(' spot', 1.416015625), (' job', 1.396484375), ('uez', 1.37890625), (' understanding', 1.3642578125), (' experience', 1.3603515625)], 53: [('ological', 1.3515625), (' presence', 1.3408203125), ('ft', 1.3251953125), (' bribe', 1.3251953125), (' offender', 1.32421875)], 63: [(' denominator', 2.330078125), (' circle', 2.30859375), ('圆形', 2.23046875), (' sphere', 2.21484375), (' axis', 2.208984375)]}, 9: {10: [('ity', 1.5302734375), ('ness', 1.3662109375), ('ly', 1.2041015625), ('ities', 1.1953125), ('est', 1.1171875)], 19: [('iras', 0.6689453125), (' artistic', 0.5927734375), (' arts', 0.58544921875), (' romanes', 0.537109375), (' crafts', 0.509765625)], 20: [('League', 1.2802734375), (' League', 1.1982421875), (' league', 1.140625), (' quarterback', 1.02734375), (' Wrest', 0.9384765625)], 23: [(' headline', 0.51953125), (' URL', 0.491943359375), (' permalink', 0.48876953125), (' headlines', 0.456298828125), (' hyperlink', 0.45068359375)], 38: [(' approach', 0.274169921875), (' platform', 0.267578125), (' job', 0.264892578125), (' effort', 0.259521484375), (' subject', 0.255126953125)], 49: [('form', 1.388671875), ('fold', 1.3828125), ('state', 1.318359375), ('ful', 1.3095703125), ('board', 1.291015625)]}, 11: {11: [('ngia', 0.11138916015625), ('rrez', 0.11102294921875), ('regut', 0.11065673828125), ('Viu', 0.1080322265625), ('widet', 0.1053466796875)], 12: [('1', 0.7041015625), ('2', 0.66552734375), ('8', 0.6552734375), ('6', 0.6376953125), ('7', 0.6240234375)], 18: [(' down', 0.74609375), ('down', 0.64892578125), (' away', 0.6298828125), (' up', 0.62939453125), (' DOWN', 0.6005859375)], 22: [(' over', 0.265625), (' along', 0.2646484375), (' concerning', 0.246337890625), (' ahead', 0.241455078125), (' among', 0.236572265625)], 25: [(' per', 0.217041015625), (' ago', 0.216552734375), (' again', 0.2142333984375), (' until', 0.2021484375), (' till', 0.172119140625)], 44: [(' confeder', 0.2890625), ('escu', 0.284423828125), (' solder', 0.2724609375), (' hci', 0.264404296875), ('дер', 0.262939453125)]}}\n",
      "Shared expert predictions: [[('姚明', 10.5625), ('周杰伦', 10.3828125), ('鹿晗', 9.8671875), ('普洱茶', 9.78125), ('雷克萨斯', 9.4609375)], [(' ', 24.1875), (' (', 22.875), (' \"', 19.703125), (',', 19.375), (' to', 18.828125)], [(' to', 29.984375), (' of', 28.1875), (' for', 28.015625), (' up', 27.796875), (' the', 27.78125)], [(' to', 30.453125), (' for', 30.078125), (' of', 30.015625), (' and', 29.984375), (' by', 29.375)], [(' ', 37.8125), (',', 34.75), (' (', 33.65625), ('.', 32.40625), (' -', 30.703125)], [(',', 42.4375), (' ', 41.4375), ('.', 39.96875), (' (', 39.71875), (' to', 39.25)], [(' ', 32.90625), (',', 32.8125), (' (', 31.40625), ('.', 30.21875), (' of', 28.484375)], [(',', 51.78125), (' ', 50.21875), (' (', 49.8125), ('.', 47.25), (':', 45.4375)], [(' me', 38.4375), (' to', 37.8125), (' you', 37.09375), (' that', 35.90625), (' not', 35.75)], [(' to', 32.625), (' me', 31.296875), (' for', 29.75), (' a', 29.375), (' up', 29.296875)], [(',', 31.84375), (' and', 31.34375), (' ', 30.96875), (' to', 30.53125), (' for', 30.109375)], [(',', 34.71875), (' and', 32.71875), ('.', 32.125), (' of', 32.09375), (' for', 31.890625)], [(',', 40.5), (' ', 38.4375), ('.', 37.15625), (' (', 37.03125), (' to', 36.90625)], [(',', 37.8125), (' (', 35.46875), (' ', 33.78125), (' to', 33.78125), (' of', 33.21875)], [(',', 35.375), ('.', 32.75), (' ', 32.71875), (' (', 32.46875), (' and', 30.0625)], [(' ', 38.125), (',', 36.09375), (' en', 33.40625), (' (', 32.96875), (' and', 32.90625)], [(' ', 32.375), (',', 29.078125), (' (', 28.546875), (' de', 27.140625), (' \"', 26.984375)], [(' ', 46.90625), (',', 43.125), ('-', 42.25), (' (', 41.90625), (' -', 40.875)], [(' ', 29.75), (' ou', 28.28125), (',', 27.671875), (' en', 27.359375), (' co', 27.015625)], [(' ', 42.34375), (',', 41.90625), (' (', 39.53125), ('.', 38.28125), (' s', 37.84375)], [(',', 29.578125), (' ', 27.921875), (' en', 26.53125), ('.', 26.46875), ('-', 26.203125)], [(',', 30.34375), (' en', 28.640625), (' ', 27.984375), ('.', 27.421875), ('-', 27.390625)]]\n"
     ]
    }
   ],
   "source": [
    "# Access layer predictions\n",
    "for layer_idx, preds in analysis['layer_predictions'].items():\n",
    "    print(f\"Layer {layer_idx} predictions:\", preds)\n",
    "\n",
    "# Access MoE analysis\n",
    "for layer_idx, moe_data in analysis['moe_analysis'].items():\n",
    "    print(f\"\\nMoE Layer {layer_idx}:\")\n",
    "    print(\"Selected experts:\", moe_data['selected_experts'])\n",
    "    print(\"Expert weights:\", moe_data['expert_weights'])\n",
    "    print(\"Combined output tokens:\", moe_data['combined_output_tokens'])\n",
    "    print(\"Expert predictions by position:\", moe_data['expert_predictions_by_position'])\n",
    "    print(\"Shared expert predictions:\", moe_data['shared_expert_predictions'])"
   ]
  },
  {
   "cell_type": "code",
   "execution_count": 137,
   "metadata": {},
   "outputs": [],
   "source": [
    "def get_layer_predictions_for_token(results: dict, layer_idx: int, token_pos: int) -> list:\n",
    "    # Ensure the layer exists in the results\n",
    "    if layer_idx not in results['layer_predictions']:\n",
    "        raise ValueError(f\"Layer {layer_idx} not found in the results.\")\n",
    "\n",
    "    # Get the layer predictions for the specified token position\n",
    "    layer_predictions = results['layer_predictions'][layer_idx][token_pos]\n",
    "    \n",
    "    # Return top 5 predictions\n",
    "    return layer_predictions[:5]\n",
    "\n",
    "def get_shared_expert_predictions_for_token(results: dict, layer_idx: int, token_pos: int) -> list:\n",
    "    # Ensure the layer exists in the results\n",
    "    if layer_idx not in results['moe_analysis']:\n",
    "        raise ValueError(f\"Layer {layer_idx} not found in the results.\")\n",
    "\n",
    "    # Get the MoE analysis for the specified layer\n",
    "    moe_analysis = results['moe_analysis'][layer_idx]\n",
    "\n",
    "    # Get the shared expert predictions for the specified token position\n",
    "    shared_predictions = moe_analysis['shared_expert_predictions'][token_pos]\n",
    "    \n",
    "    # Return top 5 predictions\n",
    "    return shared_predictions[:5]\n",
    "\n",
    "def get_expert_preds(results: dict, layer_idx: int, token_pos: int) -> list:\n",
    "    # Ensure the layer exists in the results\n",
    "    if layer_idx not in results['moe_analysis']:\n",
    "        raise ValueError(f\"Layer {layer_idx} not found in the MoE analysis results.\")\n",
    "        \n",
    "    # Get the MoE analysis for the specified layer\n",
    "    expert_preds = []\n",
    "    moe_analysis = results['moe_analysis'][layer_idx]\n",
    "    expert_predictions = moe_analysis['expert_predictions_by_position']\n",
    "    expert_toks = expert_predictions[token_pos]\n",
    "\n",
    "    for expert_idx, preds in expert_toks.items():\n",
    "        print(f'expert {expert_idx} : {preds}')\n",
    "        expert_preds.append((int(expert_idx), preds))\n",
    "\n",
    "    expert_preds = sorted(expert_preds, key=lambda x: x[0])\n",
    "        \n",
    "    return expert_preds"
   ]
  },
  {
   "cell_type": "code",
   "execution_count": 138,
   "metadata": {},
   "outputs": [],
   "source": [
    "def get_highest_pred(results: dict, model, tokenizer, layer_idx: int, token_pos: int, k: int = 5) -> list:\n",
    "    \"\"\"gets predictions from expert with highest weight after adding residual \"\"\"\n",
    "    # Ensure layer exists in results\n",
    "    if layer_idx not in results['moe_analysis']:\n",
    "        raise ValueError(f\"Layer {layer_idx} not found in the MoE analysis results.\")\n",
    "        \n",
    "    # Get MoE analysis for the layer\n",
    "    moe_analysis = results['moe_analysis'][layer_idx]\n",
    "    \n",
    "    # Get expert weights for this token\n",
    "    expert_weights = {}\n",
    "    selected_experts = moe_analysis['selected_experts'][token_pos]\n",
    "    expert_weights_list = moe_analysis['expert_weights'][token_pos]\n",
    "    \n",
    "    if isinstance(selected_experts, int):\n",
    "        # Handle case where only one expert is selected\n",
    "        expert_weights[selected_experts] = 1.0\n",
    "    else:\n",
    "        # Handle case where multiple experts are selected with weights\n",
    "        for expert_idx, weight in zip(selected_experts, expert_weights_list):\n",
    "            expert_weights[expert_idx] = weight\n",
    "                \n",
    "    # Find expert with highest weight\n",
    "    # max_weight_expert = max(expert_weights.items(), key=lambda x: x[1])[0]\n",
    "    max_weight_expert = sorted(expert_weights.items(), key=lambda x: x[1], reverse=True)[k][0]\n",
    "    print(f'max_weight_expert {max_weight_expert}')\n",
    "    \n",
    "    # Get hidden state from this expert\n",
    "    expert_hidden_state = moe_analysis['expert_hidden_states_by_position'][token_pos][max_weight_expert]['hidden_state']\n",
    "    \n",
    "    # Get residual stream\n",
    "    residual = post_attn_ln_inputs[layer_idx][-1][0][0][token_pos]\n",
    "    \n",
    "    # Convert expert hidden state to tensor if it's a list\n",
    "    if isinstance(expert_hidden_state, list):\n",
    "        expert_hidden_state = torch.tensor(expert_hidden_state, dtype=torch.float16)\n",
    "    \n",
    "    # Add residual to expert hidden state\n",
    "    combined = residual + expert_hidden_state\n",
    "    \n",
    "    # Get logits\n",
    "    logits = model.lm_head(combined.unsqueeze(0))\n",
    "    \n",
    "    # Get top 5 predictions\n",
    "    topk = torch.topk(logits[0], k=5)\n",
    "    scores = topk.values.tolist()\n",
    "    tokens = topk.indices.tolist()\n",
    "    \n",
    "    # Convert to token strings\n",
    "    predictions = []\n",
    "    for score, token in zip(scores, tokens):\n",
    "        token_str = tokenizer.decode(token)\n",
    "        predictions.append((token_str, score))\n",
    "        \n",
    "    return predictions"
   ]
  },
  {
   "cell_type": "code",
   "execution_count": 149,
   "metadata": {},
   "outputs": [
    {
     "name": "stdout",
     "output_type": "stream",
     "text": [
      "n : 22\n",
      "max_weight_expert 31\n"
     ]
    },
    {
     "data": {
      "text/plain": [
       "[('��', 6.87890625),\n",
       " ('Discussion', 6.71484375),\n",
       " ('COME', 6.53515625),\n",
       " (' Стра', 6.29296875),\n",
       " (' venir', 6.1640625)]"
      ]
     },
     "execution_count": 149,
     "metadata": {},
     "output_type": "execute_result"
    }
   ],
   "source": [
    "n = len(tokenizer.encode(prompt))\n",
    "print(f'n : {n}')\n",
    "layer_idx = 16\n",
    "token_pos = n-1\n",
    "k = 0 # which max expert to use\n",
    "get_highest_pred(analysis, model, tokenizer, layer_idx=layer_idx, token_pos=token_pos, k=k)"
   ]
  },
  {
   "cell_type": "code",
   "execution_count": 140,
   "metadata": {},
   "outputs": [
    {
     "name": "stdout",
     "output_type": "stream",
     "text": [
      "expert 2 : [('anthus', 0.408203125), ('\\xa0part', 0.387451171875), (' halign', 0.3857421875), ('sheet', 0.385498046875), ('杖', 0.372314453125)]\n",
      "expert 12 : [('following', 0.7998046875), ('ifices', 0.7099609375), ('院的', 0.6689453125), (' siguientes', 0.66748046875), (' siguiente', 0.6669921875)]\n",
      "expert 29 : [(' bra', 0.85693359375), (' port', 0.72802734375), (' north', 0.71337890625), (' germ', 0.7109375), (' brasiler', 0.6650390625)]\n",
      "expert 37 : [('gmd', 0.402099609375), ('щите', 0.383544921875), ('стики', 0.368896484375), (' услу', 0.3681640625), ('новен', 0.363037109375)]\n",
      "expert 62 : [('vetica', 0.97216796875), ('ranslate', 0.92724609375), ('openg', 0.90283203125), ('intilla', 0.8984375), ('гър', 0.775390625)]\n",
      "expert 63 : [('rowe', 0.4208984375), ('FieldLocation', 0.35791015625), ('тини', 0.34716796875), ('тина', 0.328857421875), ('rum', 0.316162109375)]\n",
      "layer_preds : [('ODO', 17.734375), (' препратки', 17.703125), (' същест', 16.953125), ('ptu', 16.859375), ('ISM', 16.25)]\n",
      "shared_preds : [(' ', 3.140625), ('\\n', 2.81640625), (',', 2.53125), (' very', 2.291015625), (' embod', 2.2109375)]\n",
      "expert_preds : [(2, [('anthus', 0.408203125), ('\\xa0part', 0.387451171875), (' halign', 0.3857421875), ('sheet', 0.385498046875), ('杖', 0.372314453125)]), (12, [('following', 0.7998046875), ('ifices', 0.7099609375), ('院的', 0.6689453125), (' siguientes', 0.66748046875), (' siguiente', 0.6669921875)]), (29, [(' bra', 0.85693359375), (' port', 0.72802734375), (' north', 0.71337890625), (' germ', 0.7109375), (' brasiler', 0.6650390625)]), (37, [('gmd', 0.402099609375), ('щите', 0.383544921875), ('стики', 0.368896484375), (' услу', 0.3681640625), ('новен', 0.363037109375)]), (62, [('vetica', 0.97216796875), ('ranslate', 0.92724609375), ('openg', 0.90283203125), ('intilla', 0.8984375), ('гър', 0.775390625)]), (63, [('rowe', 0.4208984375), ('FieldLocation', 0.35791015625), ('тини', 0.34716796875), ('тина', 0.328857421875), ('rum', 0.316162109375)])]\n"
     ]
    }
   ],
   "source": [
    "layer_idx = 25\n",
    "token_pos = 2\n",
    "layer_preds = get_layer_predictions_for_token(analysis, layer_idx=layer_idx, token_pos=token_pos)\n",
    "shared_preds = get_shared_expert_predictions_for_token(analysis, layer_idx=layer_idx, token_pos=token_pos)\n",
    "expert_preds = get_expert_preds(analysis, layer_idx=layer_idx, token_pos=token_pos)\n",
    "\n",
    "print(f'layer_preds : {layer_preds}')\n",
    "print(f'shared_preds : {shared_preds}')\n",
    "print(f'expert_preds : {expert_preds}')"
   ]
  },
  {
   "cell_type": "code",
   "execution_count": 154,
   "metadata": {},
   "outputs": [],
   "source": [
    "def create_logit_lens_viz(analysis_results, token_pos=0, layers_to_plot=[]):\n",
    "    \"\"\"Creates a modern heatmap visualization of predictions across model layers.\n",
    "    \n",
    "    Args:\n",
    "        analysis_results: Analysis results dictionary\n",
    "        token_pos: Position of token to analyze (default: 0)\n",
    "        layers_to_plot: List of layer numbers to plot. If empty, plots all layers (default: [])\n",
    "    \"\"\"\n",
    "    # [Previous initialization code remains the same until the trace creation]\n",
    "    n_layers = max(analysis_results['layer_predictions'].keys()) + 1\n",
    "    data = []\n",
    "    all_values = []\n",
    "    \n",
    "    # Process each layer\n",
    "    for layer in range(n_layers):\n",
    "        # Skip layers not in layers_to_plot if it's not empty\n",
    "        if layers_to_plot and layer not in layers_to_plot:\n",
    "            continue\n",
    "            \n",
    "        row = {\n",
    "            'layer': layer,\n",
    "            'l_out': None,\n",
    "            'expert_1': None,\n",
    "            'expert_2': None,\n",
    "            'expert_3': None,\n",
    "            'expert_4': None,\n",
    "            'expert_5': None,\n",
    "            'expert_6': None,\n",
    "            'shared': None,\n",
    "            'predictions': {\n",
    "                'l_out': [],\n",
    "                'expert_1': [],\n",
    "                'expert_2': [],\n",
    "                'expert_3': [],\n",
    "                'expert_4': [],\n",
    "                'expert_5': [],\n",
    "                'expert_6': [],\n",
    "                'shared': []\n",
    "            },\n",
    "            'expert_ids': {},\n",
    "            'top_tokens': {\n",
    "                'l_out': '',\n",
    "                'expert_1': '',\n",
    "                'expert_2': '',\n",
    "                'expert_3': '',\n",
    "                'expert_4': '',\n",
    "                'expert_5': '',\n",
    "                'expert_6': '',\n",
    "                'shared': ''\n",
    "            }\n",
    "        }\n",
    "        \n",
    "        # Layer predictions\n",
    "        layer_preds = get_layer_predictions_for_token(analysis_results, layer, token_pos)\n",
    "        if layer_preds:\n",
    "            row['l_out'] = layer_preds[0][1]\n",
    "            row['predictions']['l_out'] = layer_preds\n",
    "            row['top_tokens']['l_out'] = layer_preds[0][0]\n",
    "            all_values.append(layer_preds[0][1])\n",
    "        \n",
    "        # Expert predictions\n",
    "        if layer in analysis_results['moe_analysis']:\n",
    "            expert_preds = get_expert_preds(analysis_results, layer, token_pos)\n",
    "            moe_data = analysis_results['moe_analysis'][layer]\n",
    "            \n",
    "            expert_weights = {}\n",
    "            for pos_idx, experts in enumerate(moe_data['selected_experts']):\n",
    "                if pos_idx == token_pos:\n",
    "                    for expert_idx, weight in zip(experts, moe_data['expert_weights'][pos_idx]):\n",
    "                        expert_weights[expert_idx] = weight\n",
    "            \n",
    "            # Sort experts by their top logit value instead of weights\n",
    "            expert_logits = []\n",
    "            for expert_idx in expert_weights:\n",
    "                expert_data = next((p for e, p in expert_preds if e == expert_idx), None)\n",
    "                if expert_data and expert_data[0]:\n",
    "                    expert_logits.append((expert_idx, expert_data[0][1]))\n",
    "            \n",
    "            sorted_experts = sorted(expert_logits, key=lambda x: x[1], reverse=True)[:6]\n",
    "            \n",
    "            for i, (expert_idx, _) in enumerate(sorted_experts, 1):\n",
    "                expert_data = next((p for e, p in expert_preds if e == expert_idx), None)\n",
    "                if expert_data:\n",
    "                    expert_key = f'expert_{i}'\n",
    "                    row[expert_key] = expert_data[0][1]\n",
    "                    row['predictions'][expert_key] = expert_data\n",
    "                    row['expert_ids'][expert_key] = expert_idx\n",
    "                    row['top_tokens'][expert_key] = expert_data[0][0]\n",
    "                    all_values.append(expert_data[0][1])\n",
    "            \n",
    "            # Shared expert predictions\n",
    "            shared_preds = get_shared_expert_predictions_for_token(analysis_results, layer, token_pos)\n",
    "            if shared_preds:\n",
    "                row['shared'] = shared_preds[0][1]\n",
    "                row['predictions']['shared'] = shared_preds\n",
    "                row['top_tokens']['shared'] = shared_preds[0][0]\n",
    "                all_values.append(shared_preds[0][1])\n",
    "        \n",
    "        data.append(row)\n",
    "    \n",
    "    valid_values = [v for v in all_values if v is not None]\n",
    "    vmin = min(valid_values) if valid_values else 0\n",
    "    vmax = max(valid_values) if valid_values else 1\n",
    "    \n",
    "    fig = go.Figure()\n",
    "    \n",
    "    columns = ['l_out'] + [f'expert_{i}' for i in range(1, 7)] + ['shared']\n",
    "    x_positions = list(range(len(columns)))\n",
    "    \n",
    "    colorscale = [\n",
    "        [0, 'rgb(68,1,84)'],\n",
    "        [0.25, 'rgb(59,82,139)'],\n",
    "        [0.5, 'rgb(33,144,141)'],\n",
    "        [0.75, 'rgb(93,201,99)'],\n",
    "        [1, 'rgb(253,231,37)']\n",
    "    ]\n",
    "    \n",
    "    # Add background squares\n",
    "    for col, x_pos in zip(columns, x_positions):\n",
    "        values = [row[col] for row in data]\n",
    "        valid_values = [v if v is not None else float('nan') for v in values]\n",
    "        \n",
    "        hover_text = []\n",
    "        for i, row in enumerate(data):\n",
    "            preds = row['predictions'][col]\n",
    "            logit_value = row[col]\n",
    "            if preds:\n",
    "                pred_text = \"<br>\".join([f\"{token}: {score:.3f}\" for token, score in preds])\n",
    "                if col.startswith('expert_'):\n",
    "                    real_id = row['expert_ids'].get(col)\n",
    "                    hover_text.append(f\"Layer {row['layer']} expert {real_id} (logit: {logit_value:.3f}):<br>{pred_text}\")\n",
    "                else:\n",
    "                    hover_text.append(f\"Layer {row['layer']} {col} (logit: {logit_value:.3f}):<br>{pred_text}\")\n",
    "            else:\n",
    "                hover_text.append(f\"Layer {row['layer']} {col}:<br>No data\")\n",
    "\n",
    "        # Add background squares\n",
    "        fig.add_trace(go.Scatter(\n",
    "            x=[x_pos] * len(values),\n",
    "            y=list(range(len(values))),\n",
    "            mode='markers',\n",
    "            marker=dict(\n",
    "                size=50,\n",
    "                symbol='square',\n",
    "                color=valid_values,\n",
    "                colorscale=colorscale,\n",
    "                showscale=True if col == 'l_out' else False,\n",
    "                cmin=vmin,\n",
    "                cmax=vmax,\n",
    "                colorbar=dict(\n",
    "                    title='logit value',\n",
    "                    y=-0.15,  # Position below the plot\n",
    "                    orientation='h',\n",
    "                    titleside='right'\n",
    "                ) if col == 'l_out' else None,\n",
    "                line=dict(\n",
    "                    color='rgba(255,255,255,0.2)',\n",
    "                    width=1\n",
    "                )\n",
    "            ),\n",
    "            hovertext=hover_text,\n",
    "            hoverinfo='text',\n",
    "            showlegend=False\n",
    "        ))\n",
    "        \n",
    "        # Add expert IDs (top left)\n",
    "        text_values = []\n",
    "        text_positions = []\n",
    "        for i, row in enumerate(data):\n",
    "            if row[col] is not None:\n",
    "                if col.startswith('expert_'):\n",
    "                    text_values.append(str(row['expert_ids'].get(col, '')))\n",
    "                    text_positions.append([x_pos - 0.2, i + 0.2])  # Offset for top-left position\n",
    "        \n",
    "        if text_values:\n",
    "            fig.add_trace(go.Scatter(\n",
    "                x=[p[0] for p in text_positions],\n",
    "                y=[p[1] for p in text_positions],\n",
    "                mode='text',\n",
    "                text=text_values,\n",
    "                textposition='middle center',\n",
    "                textfont=dict(\n",
    "                    color='white',\n",
    "                    size=10\n",
    "                ),\n",
    "                hoverinfo='skip',\n",
    "                showlegend=False\n",
    "            ))\n",
    "        \n",
    "        # Add top tokens (center)\n",
    "        text_values = []\n",
    "        text_positions = []\n",
    "        text_colors = []\n",
    "        for i, row in enumerate(data):\n",
    "            if row[col] is not None:\n",
    "                text_values.append(row['top_tokens'][col])\n",
    "                text_positions.append([x_pos, i])\n",
    "                # Calculate normalized value between 0 and 1\n",
    "                normalized_value = (row[col] - vmin) / (vmax - vmin) if vmax != vmin else 0\n",
    "                # Use black text if normalized value is above 0.5 (50%)\n",
    "                text_colors.append('black' if normalized_value > 0.5 else 'white')\n",
    "        \n",
    "        if text_values:\n",
    "            for text, pos, color in zip(text_values, text_positions, text_colors):\n",
    "                fig.add_trace(go.Scatter(\n",
    "                    x=[pos[0]],\n",
    "                    y=[pos[1]],\n",
    "                    mode='text',\n",
    "                    text=[text],\n",
    "                    textposition='middle center',\n",
    "                    textfont=dict(\n",
    "                        color=color,\n",
    "                        size=10\n",
    "                    ),\n",
    "                    hoverinfo='skip',\n",
    "                    showlegend=False\n",
    "                ))\n",
    "    \n",
    "    # Calculate dimensions\n",
    "    cell_size = 50\n",
    "    plot_width = 800\n",
    "    plot_height = cell_size * len(data) * (plot_width / (cell_size * len(columns)))\n",
    "    \n",
    "    # Update layout\n",
    "    fig.update_layout(\n",
    "        title=dict(\n",
    "            text='Expert Contributions and Predictions',\n",
    "            x=0.5,\n",
    "            y=0.98,\n",
    "            xanchor='center',\n",
    "            yanchor='top',\n",
    "            font=dict(size=20, color='white')\n",
    "        ),\n",
    "        xaxis=dict(\n",
    "            ticktext=['l_out'] + [f'expert {i}' for i in range(1, 7)] + ['shared'],\n",
    "            tickvals=x_positions,\n",
    "            tickangle=0,\n",
    "            showgrid=False,\n",
    "            zeroline=False,\n",
    "            title='',\n",
    "            color='white',\n",
    "            range=[-0.5, len(columns) - 0.5],\n",
    "            scaleanchor='y',\n",
    "            scaleratio=1,\n",
    "            constrain='domain'\n",
    "        ),\n",
    "        yaxis=dict(\n",
    "            autorange='reversed',\n",
    "            showgrid=False,\n",
    "            zeroline=False,\n",
    "            title='Layer',\n",
    "            color='white',\n",
    "            range=[-0.5, len(data) - 0.5],\n",
    "            ticktext=[str(row['layer']) for row in data],\n",
    "            tickvals=list(range(len(data))),\n",
    "            constrain='domain'\n",
    "        ),\n",
    "        plot_bgcolor='rgb(17,17,17)',\n",
    "        paper_bgcolor='rgb(17,17,17)',\n",
    "        width=plot_width,\n",
    "        height=plot_height + 100,  # Added extra height for colorbar\n",
    "        margin=dict(l=50, r=50, t=100, b=100),  # Increased bottom margin\n",
    "        hovermode='closest'\n",
    "    )\n",
    "    \n",
    "    # Add subtle grid lines\n",
    "    fig.update_xaxes(showline=True, linewidth=1, linecolor='rgba(255,255,255,0.1)')\n",
    "    fig.update_yaxes(showline=True, linewidth=1, linecolor='rgba(255,255,255,0.1)')\n",
    "    \n",
    "    return fig"
   ]
  },
  {
   "cell_type": "code",
   "execution_count": 155,
   "metadata": {},
   "outputs": [
    {
     "name": "stdout",
     "output_type": "stream",
     "text": [
      "22\n",
      "expert 7 : [('泡', 0.146728515625), ('elius', 0.1456298828125), ('пул', 0.1422119140625), ('onom', 0.1405029296875), ('spo', 0.1385498046875)]\n",
      "expert 9 : [('ading', 0.1964111328125), ('abilitat', 0.1876220703125), (' Doc', 0.1761474609375), ('wixt', 0.164306640625), (' ана', 0.1640625)]\n",
      "expert 15 : [('ала', 0.0287322998046875), ('escan', 0.0276641845703125), ('дена', 0.02716064453125), ('пте', 0.026885986328125), ('�', 0.0265655517578125)]\n",
      "expert 40 : [('orney', 0.046783447265625), ('�', 0.03564453125), ('endar', 0.03497314453125), ('quire', 0.03448486328125), ('潜', 0.034332275390625)]\n",
      "expert 53 : [('uega', 0.0467529296875), ('专', 0.044219970703125), ('dorff', 0.03936767578125), ('td', 0.0386962890625), ('tsd', 0.038543701171875)]\n",
      "expert 57 : [('autorest', 0.69775390625), ('otip', 0.6552734375), ('�乐', 0.60986328125), ('brack', 0.60546875), ('ostei', 0.603515625)]\n",
      "expert 5 : [(' i', 0.40771484375), ('7', 0.378173828125), (' z', 0.346923828125), ('4', 0.346435546875), (' _', 0.34375)]\n",
      "expert 15 : [('mania', 0.035247802734375), ('рация', 0.033905029296875), ('出不穷', 0.03369140625), ('不了的', 0.033203125), ('cel', 0.03271484375)]\n",
      "expert 16 : [('sandbox', 0.208740234375), ('vid', 0.2022705078125), ('teo', 0.1964111328125), ('къ', 0.189453125), (' pe', 0.1846923828125)]\n",
      "expert 20 : [('\\xa0part', 0.2330322265625), ('сън', 0.224365234375), ('eln', 0.2108154296875), ('晰', 0.21044921875), ('$.\\\\', 0.2056884765625)]\n",
      "expert 31 : [('escut', 0.006275177001953125), ('HDA', 0.00551605224609375), ('HandleTypeDef', 0.005229949951171875), ('гане', 0.005218505859375), ('станбул', 0.005191802978515625)]\n",
      "expert 34 : [(':*.', 0.115234375), ('кос', 0.1099853515625), ('верен', 0.1038818359375), ('本地', 0.1033935546875), (' temper', 0.10333251953125)]\n",
      "expert 10 : [('ueres', 0.182373046875), (' observat', 0.17138671875), ('ема', 0.1663818359375), ('член', 0.16552734375), (' COLLATE', 0.1610107421875)]\n",
      "expert 13 : [(' iniquity', 0.319580078125), (' свързан', 0.274658203125), ('长寿', 0.266845703125), ('火力', 0.264892578125), ('西红', 0.2646484375)]\n",
      "expert 36 : [('anell', 0.10028076171875), ('стой', 0.0888671875), ('teix', 0.0882568359375), ('IEW', 0.08795166015625), (' воде', 0.08673095703125)]\n",
      "expert 41 : [('�乐', 0.6728515625), ('DLINE', 0.63671875), ('herself', 0.6318359375), ('ocal', 0.62646484375), (' saddle', 0.61767578125)]\n",
      "expert 52 : [('дски', 0.049285888671875), ('onstr', 0.046600341796875), ('inats', 0.04339599609375), (' Стра', 0.042724609375), ('idot', 0.04168701171875)]\n",
      "expert 61 : [('landa', 0.32958984375), ('�', 0.25732421875), ('涉', 0.2423095703125), ('inria', 0.241943359375), ('uet', 0.2398681640625)]\n",
      "expert 21 : [('返校', 0.3154296875), ('imes', 0.310791015625), ('opa', 0.304443359375), ('нора', 0.302001953125), ('ionat', 0.301513671875)]\n",
      "expert 22 : [('linen', 0.141845703125), ('lin', 0.121826171875), ('zz', 0.11920166015625), ('бин', 0.110107421875), ('uses', 0.109375)]\n",
      "expert 25 : [('orent', 0.12152099609375), ('uesa', 0.11297607421875), ('luence', 0.1085205078125), ('olev', 0.10638427734375), ('ROUP', 0.10614013671875)]\n",
      "expert 48 : [('тици', 0.12158203125), (' Tremp', 0.11474609375), ('бва', 0.1083984375), ('iple', 0.108154296875), ('ITCH', 0.1053466796875)]\n",
      "expert 55 : [('мето', 0.23291015625), ('setString', 0.20654296875), ('setItem', 0.2061767578125), (' molta', 0.20556640625), ('7', 0.2047119140625)]\n",
      "expert 60 : [('elihood', 0.231689453125), ('etapes', 0.2103271484375), ('eterm', 0.1995849609375), ('anyol', 0.19189453125), (' ranks', 0.1866455078125)]\n",
      "expert 1 : [('idesa', 0.203369140625), ('леда', 0.1947021484375), ('elist', 0.1856689453125), ('ос', 0.17724609375), ('�', 0.172607421875)]\n",
      "expert 7 : [('2', 0.658203125), ('4', 0.65185546875), ('defs', 0.6044921875), (' vol', 0.5859375), ('erir', 0.56787109375)]\n",
      "expert 9 : [(' повърх', 0.132568359375), ('ROID', 0.130615234375), ('obox', 0.1295166015625), ('duino', 0.12353515625), (' избух', 0.12091064453125)]\n",
      "expert 15 : [('绿', 0.08038330078125), (' ЦК', 0.0792236328125), ('imal', 0.0784912109375), ('TRIM', 0.07794189453125), ('роден', 0.07781982421875)]\n",
      "expert 27 : [('Преди', 0.1571044921875), ('ume', 0.1363525390625), ('visi', 0.1353759765625), ('emale', 0.134521484375), ('瞒', 0.1336669921875)]\n",
      "expert 48 : [('locs', 0.0968017578125), ('扫描', 0.08660888671875), ('堰', 0.0849609375), ('破', 0.08349609375), ('扫', 0.0789794921875)]\n",
      "expert 1 : [('ляне', 0.0970458984375), ('roll', 0.09320068359375), ('rock', 0.090087890625), ('тари', 0.08770751953125), ('fts', 0.08599853515625)]\n",
      "expert 5 : [('ctica', 0.0994873046875), ('pectives', 0.09613037109375), ('答', 0.09515380859375), ('pare', 0.0899658203125), ('iasm', 0.08746337890625)]\n",
      "expert 21 : [(' tot', 0.51123046875), ('oc', 0.48779296875), ('rs', 0.46875), ('aro', 0.46435546875), ('pip', 0.4375)]\n",
      "expert 28 : [('рова', 0.11480712890625), ('htable', 0.09710693359375), ('flo', 0.0906982421875), ('{\\\\,\\\\', 0.083984375), ('гри', 0.08367919921875)]\n",
      "expert 38 : [('vell', 0.1031494140625), ('晚', 0.0926513671875), ('orema', 0.0897216796875), ('族自治', 0.08782958984375), ('ylene', 0.0845947265625)]\n",
      "expert 47 : [('azzo', 0.1007080078125), (' .', 0.098388671875), ('rus', 0.0968017578125), ('就好了', 0.09368896484375), (' right', 0.09295654296875)]\n",
      "expert 8 : [('loops', 1.1005859375), (' g', 1.0830078125), ('COME', 1.0712890625), ('loop', 1.052734375), ('rack', 1.017578125)]\n",
      "expert 19 : [('通', 0.232177734375), ('uis', 0.2301025390625), (' stocks', 0.228759765625), ('quisition', 0.22607421875), ('duk', 0.223388671875)]\n",
      "expert 20 : [('бул', 0.11273193359375), ('върх', 0.10711669921875), ('беле', 0.1060791015625), ('动作', 0.1060791015625), ('activate', 0.10357666015625)]\n",
      "expert 24 : [('icae', 0.252197265625), ('ебсайт', 0.2496337890625), ('ifices', 0.248779296875), ('asters', 0.244873046875), ('ANNEL', 0.24365234375)]\n",
      "expert 41 : [('годишна', 0.2030029296875), ('OMAS', 0.202392578125), ('irit', 0.1986083984375), ('дата', 0.197998046875), ('istros', 0.1947021484375)]\n",
      "expert 59 : [('хрид', 0.1822509765625), ('andest', 0.1636962890625), ('ейнт', 0.1632080078125), ('olom', 0.15869140625), ('enciat', 0.1568603515625)]\n",
      "expert 19 : [('hes', 0.09747314453125), ('函', 0.08251953125), ('лище', 0.078369140625), ('sh', 0.077392578125), ('het', 0.07708740234375)]\n",
      "expert 36 : [('urrent', 0.2646484375), ('цяло', 0.263671875), ('��', 0.2578125), ('饪', 0.255859375), ('麦', 0.2498779296875)]\n",
      "expert 37 : [('俪', 0.19970703125), ('房租', 0.1915283203125), ('婪', 0.1859130859375), ('hold', 0.1845703125), ('IER', 0.180419921875)]\n",
      "expert 53 : [('lices', 0.21044921875), ('ey', 0.1923828125), ('eing', 0.189697265625), ('ean', 0.189208984375), ('майстор', 0.1890869140625)]\n",
      "expert 54 : [('iltr', 0.103759765625), ('Habitants', 0.0799560546875), (' h', 0.0799560546875), (' Planner', 0.07611083984375), ('ios', 0.07464599609375)]\n",
      "expert 60 : [(' препратки', 0.134033203125), ('hiba', 0.125244140625), ('статъ', 0.1201171875), ('obres', 0.11822509765625), (' sorpresa', 0.117431640625)]\n",
      "expert 5 : [('acis', 0.1658935546875), ('мост', 0.1624755859375), ('nesi', 0.161865234375), ('estany', 0.1502685546875), ('bolds', 0.14892578125)]\n",
      "expert 13 : [('лиза', 0.0872802734375), ('区域的', 0.08636474609375), ('iled', 0.08453369140625), ('жа', 0.084228515625), (' зла', 0.08123779296875)]\n",
      "expert 29 : [('�', 0.1907958984375), ('binder', 0.1829833984375), ('璃', 0.1820068359375), ('ool', 0.175537109375), ('католи', 0.173828125)]\n",
      "expert 34 : [('3', 0.1376953125), ('6', 0.1370849609375), ('9', 0.1368408203125), ('1', 0.136474609375), ('0', 0.1336669921875)]\n",
      "expert 57 : [('罩', 0.4072265625), ('ensi', 0.321533203125), (' cal', 0.320068359375), ('mo', 0.313232421875), (' gu', 0.310302734375)]\n",
      "expert 61 : [('肋', 1.990234375), ('andes', 1.7509765625), ('jem', 1.7333984375), (' Naz', 1.6669921875), ('яна', 1.658203125)]\n",
      "expert 11 : [('onyms', 0.591796875), ('vat', 0.56689453125), ('adem', 0.5556640625), (' фе', 0.5458984375), ('CodeAttribute', 0.5380859375)]\n",
      "expert 12 : [(' n', 0.36474609375), ('gg', 0.34375), (' R', 0.335205078125), ('鸣', 0.326416015625), (' m', 0.324462890625)]\n",
      "expert 19 : [('ipage', 0.10333251953125), (' лице', 0.096923828125), ('t', 0.09564208984375), (' tot', 0.09442138671875), ('enko', 0.0921630859375)]\n",
      "expert 20 : [('�', 0.39892578125), ('大地', 0.389892578125), ('urf', 0.365234375), (' b', 0.363525390625), ('Accessibility', 0.358642578125)]\n",
      "expert 42 : [('Health', 0.186279296875), ('ma', 0.1856689453125), ('amo', 0.1798095703125), ('oph', 0.173828125), ('Force', 0.171630859375)]\n",
      "expert 62 : [('�乐', 0.279541015625), (' материали', 0.2486572265625), ('opil', 0.248046875), ('гени', 0.229736328125), ('pmy', 0.229248046875)]\n",
      "expert 3 : [('�', 0.196533203125), ('ensk', 0.1947021484375), ('rado', 0.192138671875), ('快', 0.191650390625), (' Русе', 0.18212890625)]\n",
      "expert 24 : [('adata', 0.20068359375), ('inkling', 0.1944580078125), (' надпис', 0.17333984375), ('adir', 0.1710205078125), ('диен', 0.16748046875)]\n",
      "expert 27 : [('agues', 0.283447265625), ('texorpdfstring', 0.267333984375), ('导入', 0.25927734375), ('itori', 0.2459716796875), ('nimo', 0.239013671875)]\n",
      "expert 35 : [('ксел', 0.1806640625), ('apsed', 0.1756591796875), ('estrat', 0.1685791015625), ('agena', 0.1651611328125), (' Zem', 0.1572265625)]\n",
      "expert 51 : [('牺', 0.33056640625), ('防御', 0.298095703125), ('�', 0.297119140625), ('mk', 0.296630859375), ('防', 0.287841796875)]\n",
      "expert 56 : [('plit', 0.63330078125), ('usch', 0.62158203125), ('一批', 0.576171875), ('osen', 0.529296875), ('FORE', 0.52392578125)]\n",
      "expert 5 : [('fr', 0.53271484375), ('water', 0.5263671875), ('imm', 0.4765625), ('zz', 0.472900390625), ('z', 0.470947265625)]\n",
      "expert 10 : [(' Tolosa', 0.313232421875), ('eces', 0.279052734375), ('assau', 0.264404296875), (' conv', 0.25390625), ('OnSearch', 0.24658203125)]\n",
      "expert 11 : [(' next', 0.1329345703125), ('next', 0.1322021484375), (' uniform', 0.129638671875), (' NEXT', 0.11297607421875), ('ели', 0.109619140625)]\n",
      "expert 34 : [('ksu', 0.2440185546875), ('мбия', 0.2353515625), ('rucci', 0.2276611328125), ('ktop', 0.22412109375), ('inga', 0.2178955078125)]\n",
      "expert 41 : [('ove', 0.223388671875), ('SSA', 0.216552734375), (' heur', 0.206787109375), ('弗', 0.20556640625), ('рид', 0.2037353515625)]\n",
      "expert 62 : [('rais', 0.27001953125), ('bet', 0.2685546875), (' legals', 0.265380859375), ('сител', 0.259521484375), ('cha', 0.2568359375)]\n",
      "expert 2 : [('navList', 0.388916015625), ('subNav', 0.38671875), ('arro', 0.343017578125), ('扩', 0.31689453125), ('APTER', 0.312255859375)]\n",
      "expert 20 : [('ondin', 0.91748046875), ('utats', 0.86328125), (' andalus', 0.85888671875), ('ainty', 0.8486328125), ('ogut', 0.80224609375)]\n",
      "expert 24 : [(' опит', 0.517578125), ('iod', 0.483642578125), ('ivia', 0.482177734375), ('vetica', 0.477783203125), (' cercles', 0.472900390625)]\n",
      "expert 38 : [('mis', 0.437255859375), ('coln', 0.435546875), ('社', 0.42578125), ('0', 0.410400390625), (' reg', 0.4033203125)]\n",
      "expert 50 : [(\"'>&\", 0.29052734375), ('否', 0.259521484375), (' XXV', 0.248046875), ('Ни', 0.24609375), ('ezna', 0.2431640625)]\n",
      "expert 60 : [('oser', 0.68115234375), ('z', 0.65966796875), ('谨', 0.65869140625), ('讶', 0.63427734375), ('案', 0.6328125)]\n",
      "expert 6 : [('aras', 0.2418212890625), (' SET', 0.22998046875), ('dden', 0.228515625), (' \"', 0.2252197265625), ('oves', 0.2222900390625)]\n",
      "expert 23 : [(' Кън', 0.27587890625), ('ковник', 0.26416015625), ('诠', 0.252197265625), ('култе', 0.2396240234375), ('годишен', 0.2344970703125)]\n",
      "expert 38 : [('列', 0.64501953125), ('梦', 0.59033203125), ('拼', 0.5390625), ('gre', 0.5224609375), ('Gre', 0.51806640625)]\n",
      "expert 43 : [('汾', 0.30078125), ('联', 0.29345703125), ('ск', 0.27685546875), ('中超', 0.275634765625), ('others', 0.274658203125)]\n",
      "expert 53 : [('дрид', 0.337890625), ('分时', 0.32763671875), ('starter', 0.3212890625), ('�起', 0.318603515625), ('paramname', 0.31494140625)]\n",
      "expert 59 : [('topNav', 0.2127685546875), (' Tank', 0.2001953125), (' Academ', 0.190673828125), ('eway', 0.18408203125), ('ipher', 0.182373046875)]\n",
      "expert 4 : [('Styles', 1.2900390625), ('munt', 1.2822265625), ('istant', 1.17578125), ('umbered', 1.1640625), (' bess', 1.1552734375)]\n",
      "expert 8 : [('ILI', 0.349853515625), ('黑色', 0.330322265625), ('央', 0.289794921875), ('amo', 0.274658203125), ('利物', 0.269287109375)]\n",
      "expert 29 : [('尚未', 2.046875), ('还没有', 1.8828125), ('还未', 1.8759765625), (' yet', 1.8466796875), ('还没', 1.6337890625)]\n",
      "expert 31 : [('клопе', 1.08984375), ('Английски', 1.015625), (' $)', 0.97900390625), ('цяло', 0.97900390625), ('фове', 0.9375)]\n",
      "expert 34 : [('illings', 0.74609375), ('ulles', 0.72265625), ('adre', 0.72021484375), ('kes', 0.71875), (' доба', 0.716796875)]\n",
      "expert 50 : [('oint', 0.330322265625), ('estar', 0.322021484375), (' potes', 0.291015625), (' ::', 0.280029296875), ('hores', 0.278076171875)]\n",
      "expert 3 : [('anet', 0.1754150390625), (' widows', 0.1749267578125), ('吐', 0.1728515625), (' semantic', 0.16357421875), ('icol', 0.1629638671875)]\n",
      "expert 18 : [('itself', 0.26953125), ('5', 0.258544921875), ('0', 0.256103515625), ('4', 0.247802734375), ('held', 0.2408447265625)]\n",
      "expert 24 : [('roph', 0.87451171875), ('illus', 0.85107421875), (' notranslate', 0.81787109375), ('кон', 0.76611328125), ('anus', 0.75244140625)]\n",
      "expert 31 : [('0', 1.34375), ('3', 1.2626953125), ('5', 1.197265625), ('4', 1.1943359375), ('1', 1.0625)]\n",
      "expert 47 : [('湃', 0.31298828125), ('apa', 0.28515625), ('фове', 0.2464599609375), (' ,\\\\\\\\', 0.232177734375), ('检', 0.23046875)]\n",
      "expert 59 : [('yet', 0.75830078125), (' yet', 0.71875), ('事的', 0.68017578125), ('事', 0.6591796875), ('actual', 0.59228515625)]\n",
      "expert 1 : [('udis', 0.53955078125), ('演', 0.427490234375), ('born', 0.426513671875), ('роден', 0.42236328125), ('ulus', 0.41796875)]\n",
      "expert 25 : [('IntLiteral', 0.4169921875), ('fully', 0.40771484375), ('arpa', 0.40771484375), ('DUCT', 0.406982421875), ('ively', 0.40625)]\n",
      "expert 27 : [('泳', 1.49609375), ('nai', 1.47265625), ('val', 1.4599609375), ('spa', 1.4169921875), ('ikes', 1.3935546875)]\n",
      "expert 29 : [('�起', 0.35498046875), (',-.', 0.351806640625), ('initat', 0.346435546875), ('管', 0.341796875), ('jos', 0.338134765625)]\n",
      "expert 35 : [('3', 0.4072265625), ('9', 0.39599609375), ('2', 0.38720703125), ('0', 0.380859375), ('5', 0.37255859375)]\n",
      "expert 45 : [('piar', 3.458984375), (' div', 2.83984375), ('gars', 2.828125), (' plus', 2.796875), (' pitjor', 2.779296875)]\n",
      "expert 0 : [('polis', 0.521484375), ('agua', 0.51220703125), ('kl', 0.4990234375), (' return', 0.49169921875), ('�', 0.48876953125)]\n",
      "expert 11 : [('ROUP', 0.260009765625), ('тио', 0.2486572265625), ('bered', 0.24462890625), ('rias', 0.244384765625), ('特尔', 0.2322998046875)]\n",
      "expert 33 : [('iflower', 0.322265625), ('Transc', 0.3017578125), (' Гон', 0.29150390625), (' TORT', 0.2890625), ('ел', 0.28759765625)]\n",
      "expert 41 : [('�', 0.16259765625), ('evo', 0.1485595703125), ('quar', 0.1414794921875), ('oys', 0.14111328125), ('孤', 0.14111328125)]\n",
      "expert 51 : [('chini', 1.09375), ('ercus', 0.96728515625), ('icolon', 0.95703125), ('iclop', 0.94580078125), ('лети', 0.892578125)]\n",
      "expert 53 : [('机的', 0.362548828125), ('NonUser', 0.350341796875), ('texorpdfstring', 0.33837890625), ('cook', 0.33154296875), ('stum', 0.322998046875)]\n",
      "expert 6 : [('ург', 1.1103515625), ('вки', 1.076171875), ('Wake', 1.0439453125), ('IMIT', 0.97900390625), ('rils', 0.97705078125)]\n",
      "expert 18 : [('yet', 0.82275390625), ('urfaces', 0.8193359375), (' изигра', 0.7841796875), ('telephony', 0.77587890625), ('pian', 0.765625)]\n",
      "expert 31 : [(\"}'\\\\\", 0.255615234375), (' per', 0.24169921875), ('ropolis', 0.2406005859375), ('три', 0.225341796875), ('oth', 0.224853515625)]\n",
      "expert 36 : [('last', 0.93505859375), (' last', 0.79248046875), (' LAST', 0.72900390625), ('LAST', 0.72900390625), ('Last', 0.63623046875)]\n",
      "expert 52 : [('时', 0.2244873046875), ('时不', 0.21044921875), ('时至', 0.173828125), ('mtp', 0.1693115234375), ('acket', 0.168701171875)]\n",
      "expert 56 : [('isc', 0.1826171875), ('pp', 0.1790771484375), ('es', 0.1629638671875), ('тена', 0.1624755859375), ('Zones', 0.1573486328125)]\n",
      "expert 5 : [(' ', 0.318603515625), (' m', 0.234130859375), (',', 0.2265625), (' form', 0.22265625), ('!', 0.217041015625)]\n",
      "expert 14 : [('的是什么', 0.2073974609375), ('的呢', 0.195068359375), ('inum', 0.185302734375), ('的是', 0.184814453125), ('ymoon', 0.184326171875)]\n",
      "expert 19 : [('lbrack', 0.310302734375), ('unta', 0.301513671875), (' бое', 0.287353515625), ('istine', 0.28662109375), ('amil', 0.281494140625)]\n",
      "expert 29 : [('happen', 0.76025390625), (' happen', 0.73095703125), ('happened', 0.716796875), (' happens', 0.70947265625), (' happened', 0.658203125)]\n",
      "expert 30 : [('itchen', 0.272216796875), ('opi', 0.263916015625), ('ottage', 0.263427734375), ('queda', 0.2548828125), ('dim', 0.248291015625)]\n",
      "expert 42 : [(' be', 2.376953125), ('be', 2.140625), (' cree', 2.029296875), ('纪', 2.015625), (' Cree', 2.013671875)]\n",
      "expert 3 : [('speak', 1.880859375), (' speak', 1.751953125), ('2', 1.6767578125), ('3', 1.638671875), ('9', 1.619140625)]\n",
      "expert 14 : [(' by', 0.51513671875), ('by', 0.45263671875), ('p', 0.360107421875), ('f', 0.32958984375), ('By', 0.322021484375)]\n",
      "expert 19 : [('Hope', 0.5947265625), ('等待', 0.54736328125), ('await', 0.53955078125), ('anticip', 0.53271484375), ('hop', 0.53173828125)]\n",
      "expert 34 : [('met', 1.720703125), ('дени', 1.6005859375), ('ins', 1.5068359375), ('ATIC', 1.5009765625), ('itx', 1.44921875)]\n",
      "expert 48 : [('covery', 0.8564453125), ('iment', 0.80419921875), ('翼翼', 0.78759765625), ('Pre', 0.76708984375), (' Pre', 0.76123046875)]\n",
      "expert 58 : [('only', 0.6728515625), ('herits', 0.62890625), ('illings', 0.5712890625), ('ONLY', 0.56787109375), (' only', 0.5625)]\n",
      "expert 12 : [('ints', 0.383544921875), ('HasBeen', 0.31982421875), ('sc', 0.317626953125), ('гей', 0.31640625), ('stal', 0.310791015625)]\n",
      "expert 17 : [('醇', 0.5283203125), ('疹', 0.50146484375), ('pload', 0.50048828125), ('isNull', 0.5), ('ireless', 0.498291015625)]\n",
      "expert 41 : [('live', 0.410400390625), (' living', 0.408203125), (' live', 0.4072265625), ('living', 0.397216796875), (' lived', 0.384765625)]\n",
      "expert 60 : [('ce', 3.970703125), ('ěř', 3.70703125), ('CELL', 3.580078125), (' drop', 3.48046875), ('真实', 3.435546875)]\n",
      "expert 61 : [(' me', 9.3984375), (' app', 7.82421875), (' t', 7.640625), ('出血', 7.515625), (' m', 7.4765625)]\n",
      "expert 63 : [('uc', 0.22705078125), ('wav', 0.220703125), (' tant', 0.216064453125), ('бла', 0.2122802734375), ('pe', 0.2098388671875)]\n",
      "expert 7 : [('呢', 0.307373046875), ('了呢', 0.292724609375), ('tted', 0.24169921875), ('metav', 0.2403564453125), ('paramname', 0.23095703125)]\n",
      "expert 13 : [(' its', 0.85693359375), ('elta', 0.78076171875), (' itself', 0.77783203125), ('fuls', 0.76416015625), ('its', 0.74609375)]\n",
      "expert 17 : [('тин', 0.376953125), ('ът', 0.36376953125), ('ajut', 0.36328125), ('avar', 0.34619140625), ('lectuals', 0.327392578125)]\n",
      "expert 35 : [(' seen', 1.234375), ('seen', 1.1953125), ('eur', 1.0380859375), (' види', 1.0322265625), ('see', 1.009765625)]\n",
      "expert 48 : [('пове', 0.7890625), ('峡', 0.6904296875), ('par', 0.64111328125), ('cob', 0.640625), ('either', 0.63818359375)]\n",
      "expert 54 : [('榄', 0.283935546875), ('akala', 0.267333984375), ('erti', 0.261474609375), ('рас', 0.25390625), ('tzmann', 0.247314453125)]\n",
      "expert 22 : [('зани', 3.509765625), ('osoma', 3.353515625), ('arella', 3.28125), ('Й', 3.208984375), (' Val', 3.162109375)]\n",
      "expert 32 : [(' /**', 0.63623046875), ('Ljava', 0.62158203125), ('/^', 0.61328125), ('/(\\\\', 0.61181640625), ('干燥', 0.6064453125)]\n",
      "expert 40 : [('ptrc', 1.947265625), ('粉', 1.751953125), ('萨斯', 1.7001953125), (' \\\\!\\\\!', 1.697265625), (' romanes', 1.68359375)]\n",
      "expert 41 : [('Ins', 0.71337890625), ('ownt', 0.662109375), ('男士', 0.6337890625), ('kb', 0.62841796875), (' raise', 0.6201171875)]\n",
      "expert 60 : [('ване', 2.44140625), ('umble', 2.2890625), ('нята', 2.234375), (' отново', 2.1953125), ('ват', 2.12890625)]\n",
      "expert 62 : [('्', 0.6923828125), ('вици', 0.68701171875), ('י', 0.65380859375), ('вица', 0.642578125), (' Martorell', 0.642578125)]\n",
      "expert 4 : [(' considerablement', 3.982421875), ('endre', 3.923828125), ('uju', 3.763671875), ('apro', 3.650390625), ('formes', 3.603515625)]\n",
      "expert 14 : [('teness', 1.0205078125), (' return', 0.92529296875), (' RETURNS', 0.89306640625), ('Returns', 0.8828125), ('know', 0.87158203125)]\n",
      "expert 36 : [('8', 1.966796875), ('9', 1.7431640625), ('4', 1.6484375), ('6', 1.580078125), ('3', 1.5673828125)]\n",
      "expert 41 : [(' fit', 2.041015625), (' reach', 1.97265625), ('reach', 1.865234375), (' attain', 1.6826171875), (' gain', 1.6005859375)]\n",
      "expert 50 : [('ourselves', 1.701171875), (' himself', 1.671875), (' ourselves', 1.666015625), (' oneself', 1.61328125), ('himself', 1.4990234375)]\n",
      "expert 54 : [('aure', 3.228515625), (' L', 2.9921875), ('ilon', 2.9609375), ('ilet', 2.951171875), (' нав', 2.861328125)]\n",
      "expert 0 : [(' get', 0.9755859375), (' gotten', 0.90478515625), (' got', 0.84716796875), (' getting', 0.84326171875), (' gets', 0.75537109375)]\n",
      "expert 14 : [(']]></', 1.83984375), (' $}', 1.828125), ('()}', 1.7822265625), (']_', 1.71484375), ('-}', 1.6865234375)]\n",
      "expert 21 : [('主管', 3.818359375), ('erner', 3.697265625), ('azu', 3.642578125), ('чик', 3.443359375), ('pas', 3.390625)]\n",
      "expert 32 : [('istrar', 1.880859375), ('emano', 1.7705078125), ('avorite', 1.7509765625), ('onical', 1.708984375), ('ravity', 1.6953125)]\n",
      "expert 34 : [('нгар', 0.275634765625), ('itori', 0.272705078125), ('illac', 0.269775390625), ('icion', 0.2430419921875), ('iats', 0.2420654296875)]\n",
      "expert 45 : [(' stable', 0.58642578125), (' comm', 0.5537109375), ('�', 0.533203125), ('ipus', 0.52294921875), ('ter', 0.51806640625)]\n",
      "expert 9 : [('\"；', 0.8857421875), ('」', 0.8818359375), ('\"|', 0.853515625), ('\";', 0.83642578125), (',\\'\"', 0.83349609375)]\n",
      "expert 15 : [(' enp', 0.10675048828125), ('pots', 0.106689453125), (' overtake', 0.1046142578125), ('astes', 0.10308837890625), ('arers', 0.10296630859375)]\n",
      "expert 33 : [(' l', 1.0234375), ('l', 0.63720703125), ('Equ', 0.61376953125), ('L', 0.6005859375), ('ques', 0.599609375)]\n",
      "expert 46 : [(' put', 1.232421875), (' prevent', 1.2314453125), (' sleep', 1.212890625), (' grasp', 1.20703125), (' GiB', 1.1982421875)]\n",
      "expert 49 : [('–', 0.255615234375), ('—', 0.2093505859375), ('——', 0.1988525390625), (' -', 0.189697265625), ('––', 0.18896484375)]\n",
      "expert 59 : [(' admissible', 0.1748046875), (' plenty', 0.1680908203125), (' certain', 0.166015625), (' granted', 0.15185546875), (' given', 0.1505126953125)]\n"
     ]
    },
    {
     "data": {
      "application/vnd.plotly.v1+json": {
       "config": {
        "plotlyServerURL": "https://plot.ly"
       },
       "data": [
        {
         "hoverinfo": "text",
         "hovertext": [
          "Layer 0 l_out (logit: 0.960):<br>s: 0.960<br>不断提升: 0.817<br>ANA: 0.803<br> : 0.797<br>IME: 0.775",
          "Layer 1 l_out (logit: 1.094):<br>s: 1.094<br>ANA: 0.984<br>IME: 0.914<br> l: 0.850<br>мни: 0.849",
          "Layer 2 l_out (logit: 1.653):<br>s: 1.653<br> D: 1.183<br>opic: 1.128<br>坚持: 1.117<br> l: 1.114",
          "Layer 3 l_out (logit: 1.984):<br>s: 1.984<br> l: 1.713<br> _: 1.706<br>涉: 1.556<br>anc: 1.482",
          "Layer 4 l_out (logit: 2.539):<br>s: 2.539<br> /: 2.023<br> _: 1.788<br> l: 1.780<br>弹性: 1.765",
          "Layer 5 l_out (logit: 2.613):<br>s: 2.613<br> /: 2.488<br> _: 2.275<br> P: 2.275<br> n: 2.232",
          "Layer 6 l_out (logit: 3.426):<br>s: 3.426<br> l: 2.641<br> /: 2.311<br> n: 2.301<br>n: 2.285",
          "Layer 7 l_out (logit: 3.074):<br>s: 3.074<br> l: 2.670<br> _: 2.619<br>��: 2.424<br> n: 2.373",
          "Layer 8 l_out (logit: 3.090):<br>s: 3.090<br>��: 2.928<br>anar: 2.820<br>rouse: 2.781<br>嫌疑: 2.625",
          "Layer 9 l_out (logit: 2.854):<br> _: 2.854<br>s: 2.832<br>enser: 2.775<br>rouse: 2.686<br>RID: 2.631",
          "Layer 10 l_out (logit: 2.932):<br> Learning: 2.932<br>波浪: 2.836<br>PointerException: 2.834<br>s: 2.795<br>rouse: 2.746",
          "Layer 11 l_out (logit: 3.643):<br>тн: 3.643<br>��: 3.531<br>堪: 3.416<br>木齐: 3.402<br>�起: 3.389",
          "Layer 12 l_out (logit: 3.318):<br>nite: 3.318<br>тн: 3.305<br>��: 3.199<br>бро: 3.139<br>堪: 3.072",
          "Layer 13 l_out (logit: 3.920):<br>以待: 3.920<br> Стра: 3.756<br>тн: 3.744<br>决: 3.686<br>oser: 3.518",
          "Layer 14 l_out (logit: 4.527):<br>SPHIN: 4.527<br>以待: 4.469<br>тн: 4.316<br>决: 4.297<br> Espasa: 4.168",
          "Layer 15 l_out (logit: 6.105):<br>COME: 6.105<br>��: 5.871<br> Стра: 5.742<br>决: 5.598<br> valenc: 5.434",
          "Layer 16 l_out (logit: 6.672):<br>��: 6.672<br>COME: 6.461<br>Discussion: 6.164<br>tica: 6.078<br>gone: 6.047",
          "Layer 17 l_out (logit: 7.609):<br>决: 7.609<br> venir: 7.297<br>gone: 7.160<br> сти: 6.984<br>Esper: 6.805",
          "Layer 18 l_out (logit: 9.688):<br> venir: 9.688<br>Esper: 8.719<br>_{_{\\: 8.297<br>$^{+: 7.945<br>\">,</: 7.730",
          "Layer 19 l_out (logit: 9.828):<br>Esper: 9.828<br> venir: 9.688<br>hene: 9.461<br>COME: 9.258<br>$^{+: 8.867",
          "Layer 20 l_out (logit: 12.578):<br>COME: 12.578<br> cometh: 10.867<br> venir: 10.734<br>Esper: 10.281<br>yet: 9.914",
          "Layer 21 l_out (logit: 17.328):<br>COME: 17.328<br> come: 15.742<br>come: 15.500<br>Come: 15.266<br> venir: 14.930",
          "Layer 22 l_out (logit: 22.438):<br> venir: 22.438<br> Ven: 21.062<br> ven: 17.688<br>Esper: 17.422<br>Ven: 17.328",
          "Layer 23 l_out (logit: 23.000):<br> venir: 23.000<br> Ven: 20.203<br>Esper: 18.547<br> ven: 17.141<br>вро: 16.594",
          "Layer 24 l_out (logit: 23.844):<br> venir: 23.844<br> Ven: 20.219<br>Esper: 19.297<br> ven: 17.562<br>вро: 17.094",
          "Layer 25 l_out (logit: 24.156):<br> venir: 24.156<br> Ven: 23.203<br> ven: 20.188<br> venues: 18.094<br>Esper: 18.000",
          "Layer 26 l_out (logit: 31.750):<br> l: 31.750<br> venir: 31.172<br> na: 29.844<br> : 29.406<br>\n: 29.125",
          "Layer 27 l_out (logit: 57.406):<br> l: 57.406<br> : 54.438<br>\n: 53.281<br> venir: 52.562<br> na: 52.469"
         ],
         "marker": {
          "cmax": 57.40625,
          "cmin": 0.006275177001953125,
          "color": [
           0.9599609375,
           1.09375,
           1.6533203125,
           1.984375,
           2.5390625,
           2.61328125,
           3.42578125,
           3.07421875,
           3.08984375,
           2.853515625,
           2.931640625,
           3.642578125,
           3.318359375,
           3.919921875,
           4.52734375,
           6.10546875,
           6.671875,
           7.609375,
           9.6875,
           9.828125,
           12.578125,
           17.328125,
           22.4375,
           23,
           23.84375,
           24.15625,
           31.75,
           57.40625
          ],
          "colorbar": {
           "orientation": "h",
           "title": {
            "side": "right",
            "text": "logit value"
           },
           "y": -0.15
          },
          "colorscale": [
           [
            0,
            "rgb(68,1,84)"
           ],
           [
            0.25,
            "rgb(59,82,139)"
           ],
           [
            0.5,
            "rgb(33,144,141)"
           ],
           [
            0.75,
            "rgb(93,201,99)"
           ],
           [
            1,
            "rgb(253,231,37)"
           ]
          ],
          "line": {
           "color": "rgba(255,255,255,0.2)",
           "width": 1
          },
          "showscale": true,
          "size": 50,
          "symbol": "square"
         },
         "mode": "markers",
         "showlegend": false,
         "type": "scatter",
         "x": [
          0,
          0,
          0,
          0,
          0,
          0,
          0,
          0,
          0,
          0,
          0,
          0,
          0,
          0,
          0,
          0,
          0,
          0,
          0,
          0,
          0,
          0,
          0,
          0,
          0,
          0,
          0,
          0
         ],
         "y": [
          0,
          1,
          2,
          3,
          4,
          5,
          6,
          7,
          8,
          9,
          10,
          11,
          12,
          13,
          14,
          15,
          16,
          17,
          18,
          19,
          20,
          21,
          22,
          23,
          24,
          25,
          26,
          27
         ]
        },
        {
         "hoverinfo": "skip",
         "mode": "text",
         "showlegend": false,
         "text": [
          "s"
         ],
         "textfont": {
          "color": "white",
          "size": 10
         },
         "textposition": "middle center",
         "type": "scatter",
         "x": [
          0
         ],
         "y": [
          0
         ]
        },
        {
         "hoverinfo": "skip",
         "mode": "text",
         "showlegend": false,
         "text": [
          "s"
         ],
         "textfont": {
          "color": "white",
          "size": 10
         },
         "textposition": "middle center",
         "type": "scatter",
         "x": [
          0
         ],
         "y": [
          1
         ]
        },
        {
         "hoverinfo": "skip",
         "mode": "text",
         "showlegend": false,
         "text": [
          "s"
         ],
         "textfont": {
          "color": "white",
          "size": 10
         },
         "textposition": "middle center",
         "type": "scatter",
         "x": [
          0
         ],
         "y": [
          2
         ]
        },
        {
         "hoverinfo": "skip",
         "mode": "text",
         "showlegend": false,
         "text": [
          "s"
         ],
         "textfont": {
          "color": "white",
          "size": 10
         },
         "textposition": "middle center",
         "type": "scatter",
         "x": [
          0
         ],
         "y": [
          3
         ]
        },
        {
         "hoverinfo": "skip",
         "mode": "text",
         "showlegend": false,
         "text": [
          "s"
         ],
         "textfont": {
          "color": "white",
          "size": 10
         },
         "textposition": "middle center",
         "type": "scatter",
         "x": [
          0
         ],
         "y": [
          4
         ]
        },
        {
         "hoverinfo": "skip",
         "mode": "text",
         "showlegend": false,
         "text": [
          "s"
         ],
         "textfont": {
          "color": "white",
          "size": 10
         },
         "textposition": "middle center",
         "type": "scatter",
         "x": [
          0
         ],
         "y": [
          5
         ]
        },
        {
         "hoverinfo": "skip",
         "mode": "text",
         "showlegend": false,
         "text": [
          "s"
         ],
         "textfont": {
          "color": "white",
          "size": 10
         },
         "textposition": "middle center",
         "type": "scatter",
         "x": [
          0
         ],
         "y": [
          6
         ]
        },
        {
         "hoverinfo": "skip",
         "mode": "text",
         "showlegend": false,
         "text": [
          "s"
         ],
         "textfont": {
          "color": "white",
          "size": 10
         },
         "textposition": "middle center",
         "type": "scatter",
         "x": [
          0
         ],
         "y": [
          7
         ]
        },
        {
         "hoverinfo": "skip",
         "mode": "text",
         "showlegend": false,
         "text": [
          "s"
         ],
         "textfont": {
          "color": "white",
          "size": 10
         },
         "textposition": "middle center",
         "type": "scatter",
         "x": [
          0
         ],
         "y": [
          8
         ]
        },
        {
         "hoverinfo": "skip",
         "mode": "text",
         "showlegend": false,
         "text": [
          " _"
         ],
         "textfont": {
          "color": "white",
          "size": 10
         },
         "textposition": "middle center",
         "type": "scatter",
         "x": [
          0
         ],
         "y": [
          9
         ]
        },
        {
         "hoverinfo": "skip",
         "mode": "text",
         "showlegend": false,
         "text": [
          " Learning"
         ],
         "textfont": {
          "color": "white",
          "size": 10
         },
         "textposition": "middle center",
         "type": "scatter",
         "x": [
          0
         ],
         "y": [
          10
         ]
        },
        {
         "hoverinfo": "skip",
         "mode": "text",
         "showlegend": false,
         "text": [
          "тн"
         ],
         "textfont": {
          "color": "white",
          "size": 10
         },
         "textposition": "middle center",
         "type": "scatter",
         "x": [
          0
         ],
         "y": [
          11
         ]
        },
        {
         "hoverinfo": "skip",
         "mode": "text",
         "showlegend": false,
         "text": [
          "nite"
         ],
         "textfont": {
          "color": "white",
          "size": 10
         },
         "textposition": "middle center",
         "type": "scatter",
         "x": [
          0
         ],
         "y": [
          12
         ]
        },
        {
         "hoverinfo": "skip",
         "mode": "text",
         "showlegend": false,
         "text": [
          "以待"
         ],
         "textfont": {
          "color": "white",
          "size": 10
         },
         "textposition": "middle center",
         "type": "scatter",
         "x": [
          0
         ],
         "y": [
          13
         ]
        },
        {
         "hoverinfo": "skip",
         "mode": "text",
         "showlegend": false,
         "text": [
          "SPHIN"
         ],
         "textfont": {
          "color": "white",
          "size": 10
         },
         "textposition": "middle center",
         "type": "scatter",
         "x": [
          0
         ],
         "y": [
          14
         ]
        },
        {
         "hoverinfo": "skip",
         "mode": "text",
         "showlegend": false,
         "text": [
          "COME"
         ],
         "textfont": {
          "color": "white",
          "size": 10
         },
         "textposition": "middle center",
         "type": "scatter",
         "x": [
          0
         ],
         "y": [
          15
         ]
        },
        {
         "hoverinfo": "skip",
         "mode": "text",
         "showlegend": false,
         "text": [
          "��"
         ],
         "textfont": {
          "color": "white",
          "size": 10
         },
         "textposition": "middle center",
         "type": "scatter",
         "x": [
          0
         ],
         "y": [
          16
         ]
        },
        {
         "hoverinfo": "skip",
         "mode": "text",
         "showlegend": false,
         "text": [
          "决"
         ],
         "textfont": {
          "color": "white",
          "size": 10
         },
         "textposition": "middle center",
         "type": "scatter",
         "x": [
          0
         ],
         "y": [
          17
         ]
        },
        {
         "hoverinfo": "skip",
         "mode": "text",
         "showlegend": false,
         "text": [
          " venir"
         ],
         "textfont": {
          "color": "white",
          "size": 10
         },
         "textposition": "middle center",
         "type": "scatter",
         "x": [
          0
         ],
         "y": [
          18
         ]
        },
        {
         "hoverinfo": "skip",
         "mode": "text",
         "showlegend": false,
         "text": [
          "Esper"
         ],
         "textfont": {
          "color": "white",
          "size": 10
         },
         "textposition": "middle center",
         "type": "scatter",
         "x": [
          0
         ],
         "y": [
          19
         ]
        },
        {
         "hoverinfo": "skip",
         "mode": "text",
         "showlegend": false,
         "text": [
          "COME"
         ],
         "textfont": {
          "color": "white",
          "size": 10
         },
         "textposition": "middle center",
         "type": "scatter",
         "x": [
          0
         ],
         "y": [
          20
         ]
        },
        {
         "hoverinfo": "skip",
         "mode": "text",
         "showlegend": false,
         "text": [
          "COME"
         ],
         "textfont": {
          "color": "white",
          "size": 10
         },
         "textposition": "middle center",
         "type": "scatter",
         "x": [
          0
         ],
         "y": [
          21
         ]
        },
        {
         "hoverinfo": "skip",
         "mode": "text",
         "showlegend": false,
         "text": [
          " venir"
         ],
         "textfont": {
          "color": "white",
          "size": 10
         },
         "textposition": "middle center",
         "type": "scatter",
         "x": [
          0
         ],
         "y": [
          22
         ]
        },
        {
         "hoverinfo": "skip",
         "mode": "text",
         "showlegend": false,
         "text": [
          " venir"
         ],
         "textfont": {
          "color": "white",
          "size": 10
         },
         "textposition": "middle center",
         "type": "scatter",
         "x": [
          0
         ],
         "y": [
          23
         ]
        },
        {
         "hoverinfo": "skip",
         "mode": "text",
         "showlegend": false,
         "text": [
          " venir"
         ],
         "textfont": {
          "color": "white",
          "size": 10
         },
         "textposition": "middle center",
         "type": "scatter",
         "x": [
          0
         ],
         "y": [
          24
         ]
        },
        {
         "hoverinfo": "skip",
         "mode": "text",
         "showlegend": false,
         "text": [
          " venir"
         ],
         "textfont": {
          "color": "white",
          "size": 10
         },
         "textposition": "middle center",
         "type": "scatter",
         "x": [
          0
         ],
         "y": [
          25
         ]
        },
        {
         "hoverinfo": "skip",
         "mode": "text",
         "showlegend": false,
         "text": [
          " l"
         ],
         "textfont": {
          "color": "black",
          "size": 10
         },
         "textposition": "middle center",
         "type": "scatter",
         "x": [
          0
         ],
         "y": [
          26
         ]
        },
        {
         "hoverinfo": "skip",
         "mode": "text",
         "showlegend": false,
         "text": [
          " l"
         ],
         "textfont": {
          "color": "black",
          "size": 10
         },
         "textposition": "middle center",
         "type": "scatter",
         "x": [
          0
         ],
         "y": [
          27
         ]
        },
        {
         "hoverinfo": "text",
         "hovertext": [
          "Layer 0 expert_1:<br>No data",
          "Layer 1 expert 57 (logit: 0.698):<br>autorest: 0.698<br>otip: 0.655<br>�乐: 0.610<br>brack: 0.605<br>ostei: 0.604",
          "Layer 2 expert 5 (logit: 0.408):<br> i: 0.408<br>7: 0.378<br> z: 0.347<br>4: 0.346<br> _: 0.344",
          "Layer 3 expert 41 (logit: 0.673):<br>�乐: 0.673<br>DLINE: 0.637<br>herself: 0.632<br>ocal: 0.626<br> saddle: 0.618",
          "Layer 4 expert 21 (logit: 0.315):<br>返校: 0.315<br>imes: 0.311<br>opa: 0.304<br>нора: 0.302<br>ionat: 0.302",
          "Layer 5 expert 7 (logit: 0.658):<br>2: 0.658<br>4: 0.652<br>defs: 0.604<br> vol: 0.586<br>erir: 0.568",
          "Layer 6 expert 21 (logit: 0.511):<br> tot: 0.511<br>oc: 0.488<br>rs: 0.469<br>aro: 0.464<br>pip: 0.438",
          "Layer 7 expert 8 (logit: 1.101):<br>loops: 1.101<br> g: 1.083<br>COME: 1.071<br>loop: 1.053<br>rack: 1.018",
          "Layer 8 expert 36 (logit: 0.265):<br>urrent: 0.265<br>цяло: 0.264<br>��: 0.258<br>饪: 0.256<br>麦: 0.250",
          "Layer 9 expert 61 (logit: 1.990):<br>肋: 1.990<br>andes: 1.751<br>jem: 1.733<br> Naz: 1.667<br>яна: 1.658",
          "Layer 10 expert 11 (logit: 0.592):<br>onyms: 0.592<br>vat: 0.567<br>adem: 0.556<br> фе: 0.546<br>CodeAttribute: 0.538",
          "Layer 11 expert 56 (logit: 0.633):<br>plit: 0.633<br>usch: 0.622<br>一批: 0.576<br>osen: 0.529<br>FORE: 0.524",
          "Layer 12 expert 5 (logit: 0.533):<br>fr: 0.533<br>water: 0.526<br>imm: 0.477<br>zz: 0.473<br>z: 0.471",
          "Layer 13 expert 20 (logit: 0.917):<br>ondin: 0.917<br>utats: 0.863<br> andalus: 0.859<br>ainty: 0.849<br>ogut: 0.802",
          "Layer 14 expert 38 (logit: 0.645):<br>列: 0.645<br>梦: 0.590<br>拼: 0.539<br>gre: 0.522<br>Gre: 0.518",
          "Layer 15 expert 29 (logit: 2.047):<br>尚未: 2.047<br>还没有: 1.883<br>还未: 1.876<br> yet: 1.847<br>还没: 1.634",
          "Layer 16 expert 31 (logit: 1.344):<br>0: 1.344<br>3: 1.263<br>5: 1.197<br>4: 1.194<br>1: 1.062",
          "Layer 17 expert 45 (logit: 3.459):<br>piar: 3.459<br> div: 2.840<br>gars: 2.828<br> plus: 2.797<br> pitjor: 2.779",
          "Layer 18 expert 51 (logit: 1.094):<br>chini: 1.094<br>ercus: 0.967<br>icolon: 0.957<br>iclop: 0.946<br>лети: 0.893",
          "Layer 19 expert 6 (logit: 1.110):<br>ург: 1.110<br>вки: 1.076<br>Wake: 1.044<br>IMIT: 0.979<br>rils: 0.977",
          "Layer 20 expert 42 (logit: 2.377):<br> be: 2.377<br>be: 2.141<br> cree: 2.029<br>纪: 2.016<br> Cree: 2.014",
          "Layer 21 expert 3 (logit: 1.881):<br>speak: 1.881<br> speak: 1.752<br>2: 1.677<br>3: 1.639<br>9: 1.619",
          "Layer 22 expert 61 (logit: 9.398):<br> me: 9.398<br> app: 7.824<br> t: 7.641<br>出血: 7.516<br> m: 7.477",
          "Layer 23 expert 35 (logit: 1.234):<br> seen: 1.234<br>seen: 1.195<br>eur: 1.038<br> види: 1.032<br>see: 1.010",
          "Layer 24 expert 22 (logit: 3.510):<br>зани: 3.510<br>osoma: 3.354<br>arella: 3.281<br>Й: 3.209<br> Val: 3.162",
          "Layer 25 expert 4 (logit: 3.982):<br> considerablement: 3.982<br>endre: 3.924<br>uju: 3.764<br>apro: 3.650<br>formes: 3.604",
          "Layer 26 expert 21 (logit: 3.818):<br>主管: 3.818<br>erner: 3.697<br>azu: 3.643<br>чик: 3.443<br>pas: 3.391",
          "Layer 27 expert 46 (logit: 1.232):<br> put: 1.232<br> prevent: 1.231<br> sleep: 1.213<br> grasp: 1.207<br> GiB: 1.198"
         ],
         "marker": {
          "cmax": 57.40625,
          "cmin": 0.006275177001953125,
          "color": [
           null,
           0.69775390625,
           0.40771484375,
           0.6728515625,
           0.3154296875,
           0.658203125,
           0.51123046875,
           1.1005859375,
           0.2646484375,
           1.990234375,
           0.591796875,
           0.63330078125,
           0.53271484375,
           0.91748046875,
           0.64501953125,
           2.046875,
           1.34375,
           3.458984375,
           1.09375,
           1.1103515625,
           2.376953125,
           1.880859375,
           9.3984375,
           1.234375,
           3.509765625,
           3.982421875,
           3.818359375,
           1.232421875
          ],
          "colorscale": [
           [
            0,
            "rgb(68,1,84)"
           ],
           [
            0.25,
            "rgb(59,82,139)"
           ],
           [
            0.5,
            "rgb(33,144,141)"
           ],
           [
            0.75,
            "rgb(93,201,99)"
           ],
           [
            1,
            "rgb(253,231,37)"
           ]
          ],
          "line": {
           "color": "rgba(255,255,255,0.2)",
           "width": 1
          },
          "showscale": false,
          "size": 50,
          "symbol": "square"
         },
         "mode": "markers",
         "showlegend": false,
         "type": "scatter",
         "x": [
          1,
          1,
          1,
          1,
          1,
          1,
          1,
          1,
          1,
          1,
          1,
          1,
          1,
          1,
          1,
          1,
          1,
          1,
          1,
          1,
          1,
          1,
          1,
          1,
          1,
          1,
          1,
          1
         ],
         "y": [
          0,
          1,
          2,
          3,
          4,
          5,
          6,
          7,
          8,
          9,
          10,
          11,
          12,
          13,
          14,
          15,
          16,
          17,
          18,
          19,
          20,
          21,
          22,
          23,
          24,
          25,
          26,
          27
         ]
        },
        {
         "hoverinfo": "skip",
         "mode": "text",
         "showlegend": false,
         "text": [
          "57",
          "5",
          "41",
          "21",
          "7",
          "21",
          "8",
          "36",
          "61",
          "11",
          "56",
          "5",
          "20",
          "38",
          "29",
          "31",
          "45",
          "51",
          "6",
          "42",
          "3",
          "61",
          "35",
          "22",
          "4",
          "21",
          "46"
         ],
         "textfont": {
          "color": "white",
          "size": 10
         },
         "textposition": "middle center",
         "type": "scatter",
         "x": [
          0.8,
          0.8,
          0.8,
          0.8,
          0.8,
          0.8,
          0.8,
          0.8,
          0.8,
          0.8,
          0.8,
          0.8,
          0.8,
          0.8,
          0.8,
          0.8,
          0.8,
          0.8,
          0.8,
          0.8,
          0.8,
          0.8,
          0.8,
          0.8,
          0.8,
          0.8,
          0.8
         ],
         "y": [
          1.2,
          2.2,
          3.2,
          4.2,
          5.2,
          6.2,
          7.2,
          8.2,
          9.2,
          10.2,
          11.2,
          12.2,
          13.2,
          14.2,
          15.2,
          16.2,
          17.2,
          18.2,
          19.2,
          20.2,
          21.2,
          22.2,
          23.2,
          24.2,
          25.2,
          26.2,
          27.2
         ]
        },
        {
         "hoverinfo": "skip",
         "mode": "text",
         "showlegend": false,
         "text": [
          "autorest"
         ],
         "textfont": {
          "color": "white",
          "size": 10
         },
         "textposition": "middle center",
         "type": "scatter",
         "x": [
          1
         ],
         "y": [
          1
         ]
        },
        {
         "hoverinfo": "skip",
         "mode": "text",
         "showlegend": false,
         "text": [
          " i"
         ],
         "textfont": {
          "color": "white",
          "size": 10
         },
         "textposition": "middle center",
         "type": "scatter",
         "x": [
          1
         ],
         "y": [
          2
         ]
        },
        {
         "hoverinfo": "skip",
         "mode": "text",
         "showlegend": false,
         "text": [
          "�乐"
         ],
         "textfont": {
          "color": "white",
          "size": 10
         },
         "textposition": "middle center",
         "type": "scatter",
         "x": [
          1
         ],
         "y": [
          3
         ]
        },
        {
         "hoverinfo": "skip",
         "mode": "text",
         "showlegend": false,
         "text": [
          "返校"
         ],
         "textfont": {
          "color": "white",
          "size": 10
         },
         "textposition": "middle center",
         "type": "scatter",
         "x": [
          1
         ],
         "y": [
          4
         ]
        },
        {
         "hoverinfo": "skip",
         "mode": "text",
         "showlegend": false,
         "text": [
          "2"
         ],
         "textfont": {
          "color": "white",
          "size": 10
         },
         "textposition": "middle center",
         "type": "scatter",
         "x": [
          1
         ],
         "y": [
          5
         ]
        },
        {
         "hoverinfo": "skip",
         "mode": "text",
         "showlegend": false,
         "text": [
          " tot"
         ],
         "textfont": {
          "color": "white",
          "size": 10
         },
         "textposition": "middle center",
         "type": "scatter",
         "x": [
          1
         ],
         "y": [
          6
         ]
        },
        {
         "hoverinfo": "skip",
         "mode": "text",
         "showlegend": false,
         "text": [
          "loops"
         ],
         "textfont": {
          "color": "white",
          "size": 10
         },
         "textposition": "middle center",
         "type": "scatter",
         "x": [
          1
         ],
         "y": [
          7
         ]
        },
        {
         "hoverinfo": "skip",
         "mode": "text",
         "showlegend": false,
         "text": [
          "urrent"
         ],
         "textfont": {
          "color": "white",
          "size": 10
         },
         "textposition": "middle center",
         "type": "scatter",
         "x": [
          1
         ],
         "y": [
          8
         ]
        },
        {
         "hoverinfo": "skip",
         "mode": "text",
         "showlegend": false,
         "text": [
          "肋"
         ],
         "textfont": {
          "color": "white",
          "size": 10
         },
         "textposition": "middle center",
         "type": "scatter",
         "x": [
          1
         ],
         "y": [
          9
         ]
        },
        {
         "hoverinfo": "skip",
         "mode": "text",
         "showlegend": false,
         "text": [
          "onyms"
         ],
         "textfont": {
          "color": "white",
          "size": 10
         },
         "textposition": "middle center",
         "type": "scatter",
         "x": [
          1
         ],
         "y": [
          10
         ]
        },
        {
         "hoverinfo": "skip",
         "mode": "text",
         "showlegend": false,
         "text": [
          "plit"
         ],
         "textfont": {
          "color": "white",
          "size": 10
         },
         "textposition": "middle center",
         "type": "scatter",
         "x": [
          1
         ],
         "y": [
          11
         ]
        },
        {
         "hoverinfo": "skip",
         "mode": "text",
         "showlegend": false,
         "text": [
          "fr"
         ],
         "textfont": {
          "color": "white",
          "size": 10
         },
         "textposition": "middle center",
         "type": "scatter",
         "x": [
          1
         ],
         "y": [
          12
         ]
        },
        {
         "hoverinfo": "skip",
         "mode": "text",
         "showlegend": false,
         "text": [
          "ondin"
         ],
         "textfont": {
          "color": "white",
          "size": 10
         },
         "textposition": "middle center",
         "type": "scatter",
         "x": [
          1
         ],
         "y": [
          13
         ]
        },
        {
         "hoverinfo": "skip",
         "mode": "text",
         "showlegend": false,
         "text": [
          "列"
         ],
         "textfont": {
          "color": "white",
          "size": 10
         },
         "textposition": "middle center",
         "type": "scatter",
         "x": [
          1
         ],
         "y": [
          14
         ]
        },
        {
         "hoverinfo": "skip",
         "mode": "text",
         "showlegend": false,
         "text": [
          "尚未"
         ],
         "textfont": {
          "color": "white",
          "size": 10
         },
         "textposition": "middle center",
         "type": "scatter",
         "x": [
          1
         ],
         "y": [
          15
         ]
        },
        {
         "hoverinfo": "skip",
         "mode": "text",
         "showlegend": false,
         "text": [
          "0"
         ],
         "textfont": {
          "color": "white",
          "size": 10
         },
         "textposition": "middle center",
         "type": "scatter",
         "x": [
          1
         ],
         "y": [
          16
         ]
        },
        {
         "hoverinfo": "skip",
         "mode": "text",
         "showlegend": false,
         "text": [
          "piar"
         ],
         "textfont": {
          "color": "white",
          "size": 10
         },
         "textposition": "middle center",
         "type": "scatter",
         "x": [
          1
         ],
         "y": [
          17
         ]
        },
        {
         "hoverinfo": "skip",
         "mode": "text",
         "showlegend": false,
         "text": [
          "chini"
         ],
         "textfont": {
          "color": "white",
          "size": 10
         },
         "textposition": "middle center",
         "type": "scatter",
         "x": [
          1
         ],
         "y": [
          18
         ]
        },
        {
         "hoverinfo": "skip",
         "mode": "text",
         "showlegend": false,
         "text": [
          "ург"
         ],
         "textfont": {
          "color": "white",
          "size": 10
         },
         "textposition": "middle center",
         "type": "scatter",
         "x": [
          1
         ],
         "y": [
          19
         ]
        },
        {
         "hoverinfo": "skip",
         "mode": "text",
         "showlegend": false,
         "text": [
          " be"
         ],
         "textfont": {
          "color": "white",
          "size": 10
         },
         "textposition": "middle center",
         "type": "scatter",
         "x": [
          1
         ],
         "y": [
          20
         ]
        },
        {
         "hoverinfo": "skip",
         "mode": "text",
         "showlegend": false,
         "text": [
          "speak"
         ],
         "textfont": {
          "color": "white",
          "size": 10
         },
         "textposition": "middle center",
         "type": "scatter",
         "x": [
          1
         ],
         "y": [
          21
         ]
        },
        {
         "hoverinfo": "skip",
         "mode": "text",
         "showlegend": false,
         "text": [
          " me"
         ],
         "textfont": {
          "color": "white",
          "size": 10
         },
         "textposition": "middle center",
         "type": "scatter",
         "x": [
          1
         ],
         "y": [
          22
         ]
        },
        {
         "hoverinfo": "skip",
         "mode": "text",
         "showlegend": false,
         "text": [
          " seen"
         ],
         "textfont": {
          "color": "white",
          "size": 10
         },
         "textposition": "middle center",
         "type": "scatter",
         "x": [
          1
         ],
         "y": [
          23
         ]
        },
        {
         "hoverinfo": "skip",
         "mode": "text",
         "showlegend": false,
         "text": [
          "зани"
         ],
         "textfont": {
          "color": "white",
          "size": 10
         },
         "textposition": "middle center",
         "type": "scatter",
         "x": [
          1
         ],
         "y": [
          24
         ]
        },
        {
         "hoverinfo": "skip",
         "mode": "text",
         "showlegend": false,
         "text": [
          " considerablement"
         ],
         "textfont": {
          "color": "white",
          "size": 10
         },
         "textposition": "middle center",
         "type": "scatter",
         "x": [
          1
         ],
         "y": [
          25
         ]
        },
        {
         "hoverinfo": "skip",
         "mode": "text",
         "showlegend": false,
         "text": [
          "主管"
         ],
         "textfont": {
          "color": "white",
          "size": 10
         },
         "textposition": "middle center",
         "type": "scatter",
         "x": [
          1
         ],
         "y": [
          26
         ]
        },
        {
         "hoverinfo": "skip",
         "mode": "text",
         "showlegend": false,
         "text": [
          " put"
         ],
         "textfont": {
          "color": "white",
          "size": 10
         },
         "textposition": "middle center",
         "type": "scatter",
         "x": [
          1
         ],
         "y": [
          27
         ]
        },
        {
         "hoverinfo": "text",
         "hovertext": [
          "Layer 0 expert_2:<br>No data",
          "Layer 1 expert 9 (logit: 0.196):<br>ading: 0.196<br>abilitat: 0.188<br> Doc: 0.176<br>wixt: 0.164<br> ана: 0.164",
          "Layer 2 expert 20 (logit: 0.233):<br> part: 0.233<br>сън: 0.224<br>eln: 0.211<br>晰: 0.210<br>$.\\: 0.206",
          "Layer 3 expert 61 (logit: 0.330):<br>landa: 0.330<br>�: 0.257<br>涉: 0.242<br>inria: 0.242<br>uet: 0.240",
          "Layer 4 expert 55 (logit: 0.233):<br>мето: 0.233<br>setString: 0.207<br>setItem: 0.206<br> molta: 0.206<br>7: 0.205",
          "Layer 5 expert 1 (logit: 0.203):<br>idesa: 0.203<br>леда: 0.195<br>elist: 0.186<br>ос: 0.177<br>�: 0.173",
          "Layer 6 expert 28 (logit: 0.115):<br>рова: 0.115<br>htable: 0.097<br>flo: 0.091<br>{\\,\\: 0.084<br>гри: 0.084",
          "Layer 7 expert 24 (logit: 0.252):<br>icae: 0.252<br>ебсайт: 0.250<br>ifices: 0.249<br>asters: 0.245<br>ANNEL: 0.244",
          "Layer 8 expert 53 (logit: 0.210):<br>lices: 0.210<br>ey: 0.192<br>eing: 0.190<br>ean: 0.189<br>майстор: 0.189",
          "Layer 9 expert 57 (logit: 0.407):<br>罩: 0.407<br>ensi: 0.322<br> cal: 0.320<br>mo: 0.313<br> gu: 0.310",
          "Layer 10 expert 20 (logit: 0.399):<br>�: 0.399<br>大地: 0.390<br>urf: 0.365<br> b: 0.364<br>Accessibility: 0.359",
          "Layer 11 expert 51 (logit: 0.331):<br>牺: 0.331<br>防御: 0.298<br>�: 0.297<br>mk: 0.297<br>防: 0.288",
          "Layer 12 expert 10 (logit: 0.313):<br> Tolosa: 0.313<br>eces: 0.279<br>assau: 0.264<br> conv: 0.254<br>OnSearch: 0.247",
          "Layer 13 expert 60 (logit: 0.681):<br>oser: 0.681<br>z: 0.660<br>谨: 0.659<br>讶: 0.634<br>案: 0.633",
          "Layer 14 expert 53 (logit: 0.338):<br>дрид: 0.338<br>分时: 0.328<br>starter: 0.321<br>�起: 0.319<br>paramname: 0.315",
          "Layer 15 expert 4 (logit: 1.290):<br>Styles: 1.290<br>munt: 1.282<br>istant: 1.176<br>umbered: 1.164<br> bess: 1.155",
          "Layer 16 expert 24 (logit: 0.875):<br>roph: 0.875<br>illus: 0.851<br> notranslate: 0.818<br>кон: 0.766<br>anus: 0.752",
          "Layer 17 expert 27 (logit: 1.496):<br>泳: 1.496<br>nai: 1.473<br>val: 1.460<br>spa: 1.417<br>ikes: 1.394",
          "Layer 18 expert 0 (logit: 0.521):<br>polis: 0.521<br>agua: 0.512<br>kl: 0.499<br> return: 0.492<br>�: 0.489",
          "Layer 19 expert 36 (logit: 0.935):<br>last: 0.935<br> last: 0.792<br> LAST: 0.729<br>LAST: 0.729<br>Last: 0.636",
          "Layer 20 expert 29 (logit: 0.760):<br>happen: 0.760<br> happen: 0.731<br>happened: 0.717<br> happens: 0.709<br> happened: 0.658",
          "Layer 21 expert 34 (logit: 1.721):<br>met: 1.721<br>дени: 1.601<br>ins: 1.507<br>ATIC: 1.501<br>itx: 1.449",
          "Layer 22 expert 60 (logit: 3.971):<br>ce: 3.971<br>ěř: 3.707<br>CELL: 3.580<br> drop: 3.480<br>真实: 3.436",
          "Layer 23 expert 13 (logit: 0.857):<br> its: 0.857<br>elta: 0.781<br> itself: 0.778<br>fuls: 0.764<br>its: 0.746",
          "Layer 24 expert 60 (logit: 2.441):<br>ване: 2.441<br>umble: 2.289<br>нята: 2.234<br> отново: 2.195<br>ват: 2.129",
          "Layer 25 expert 54 (logit: 3.229):<br>aure: 3.229<br> L: 2.992<br>ilon: 2.961<br>ilet: 2.951<br> нав: 2.861",
          "Layer 26 expert 32 (logit: 1.881):<br>istrar: 1.881<br>emano: 1.771<br>avorite: 1.751<br>onical: 1.709<br>ravity: 1.695",
          "Layer 27 expert 33 (logit: 1.023):<br> l: 1.023<br>l: 0.637<br>Equ: 0.614<br>L: 0.601<br>ques: 0.600"
         ],
         "marker": {
          "cmax": 57.40625,
          "cmin": 0.006275177001953125,
          "color": [
           null,
           0.1964111328125,
           0.2330322265625,
           0.32958984375,
           0.23291015625,
           0.203369140625,
           0.11480712890625,
           0.252197265625,
           0.21044921875,
           0.4072265625,
           0.39892578125,
           0.33056640625,
           0.313232421875,
           0.68115234375,
           0.337890625,
           1.2900390625,
           0.87451171875,
           1.49609375,
           0.521484375,
           0.93505859375,
           0.76025390625,
           1.720703125,
           3.970703125,
           0.85693359375,
           2.44140625,
           3.228515625,
           1.880859375,
           1.0234375
          ],
          "colorscale": [
           [
            0,
            "rgb(68,1,84)"
           ],
           [
            0.25,
            "rgb(59,82,139)"
           ],
           [
            0.5,
            "rgb(33,144,141)"
           ],
           [
            0.75,
            "rgb(93,201,99)"
           ],
           [
            1,
            "rgb(253,231,37)"
           ]
          ],
          "line": {
           "color": "rgba(255,255,255,0.2)",
           "width": 1
          },
          "showscale": false,
          "size": 50,
          "symbol": "square"
         },
         "mode": "markers",
         "showlegend": false,
         "type": "scatter",
         "x": [
          2,
          2,
          2,
          2,
          2,
          2,
          2,
          2,
          2,
          2,
          2,
          2,
          2,
          2,
          2,
          2,
          2,
          2,
          2,
          2,
          2,
          2,
          2,
          2,
          2,
          2,
          2,
          2
         ],
         "y": [
          0,
          1,
          2,
          3,
          4,
          5,
          6,
          7,
          8,
          9,
          10,
          11,
          12,
          13,
          14,
          15,
          16,
          17,
          18,
          19,
          20,
          21,
          22,
          23,
          24,
          25,
          26,
          27
         ]
        },
        {
         "hoverinfo": "skip",
         "mode": "text",
         "showlegend": false,
         "text": [
          "9",
          "20",
          "61",
          "55",
          "1",
          "28",
          "24",
          "53",
          "57",
          "20",
          "51",
          "10",
          "60",
          "53",
          "4",
          "24",
          "27",
          "0",
          "36",
          "29",
          "34",
          "60",
          "13",
          "60",
          "54",
          "32",
          "33"
         ],
         "textfont": {
          "color": "white",
          "size": 10
         },
         "textposition": "middle center",
         "type": "scatter",
         "x": [
          1.8,
          1.8,
          1.8,
          1.8,
          1.8,
          1.8,
          1.8,
          1.8,
          1.8,
          1.8,
          1.8,
          1.8,
          1.8,
          1.8,
          1.8,
          1.8,
          1.8,
          1.8,
          1.8,
          1.8,
          1.8,
          1.8,
          1.8,
          1.8,
          1.8,
          1.8,
          1.8
         ],
         "y": [
          1.2,
          2.2,
          3.2,
          4.2,
          5.2,
          6.2,
          7.2,
          8.2,
          9.2,
          10.2,
          11.2,
          12.2,
          13.2,
          14.2,
          15.2,
          16.2,
          17.2,
          18.2,
          19.2,
          20.2,
          21.2,
          22.2,
          23.2,
          24.2,
          25.2,
          26.2,
          27.2
         ]
        },
        {
         "hoverinfo": "skip",
         "mode": "text",
         "showlegend": false,
         "text": [
          "ading"
         ],
         "textfont": {
          "color": "white",
          "size": 10
         },
         "textposition": "middle center",
         "type": "scatter",
         "x": [
          2
         ],
         "y": [
          1
         ]
        },
        {
         "hoverinfo": "skip",
         "mode": "text",
         "showlegend": false,
         "text": [
          " part"
         ],
         "textfont": {
          "color": "white",
          "size": 10
         },
         "textposition": "middle center",
         "type": "scatter",
         "x": [
          2
         ],
         "y": [
          2
         ]
        },
        {
         "hoverinfo": "skip",
         "mode": "text",
         "showlegend": false,
         "text": [
          "landa"
         ],
         "textfont": {
          "color": "white",
          "size": 10
         },
         "textposition": "middle center",
         "type": "scatter",
         "x": [
          2
         ],
         "y": [
          3
         ]
        },
        {
         "hoverinfo": "skip",
         "mode": "text",
         "showlegend": false,
         "text": [
          "мето"
         ],
         "textfont": {
          "color": "white",
          "size": 10
         },
         "textposition": "middle center",
         "type": "scatter",
         "x": [
          2
         ],
         "y": [
          4
         ]
        },
        {
         "hoverinfo": "skip",
         "mode": "text",
         "showlegend": false,
         "text": [
          "idesa"
         ],
         "textfont": {
          "color": "white",
          "size": 10
         },
         "textposition": "middle center",
         "type": "scatter",
         "x": [
          2
         ],
         "y": [
          5
         ]
        },
        {
         "hoverinfo": "skip",
         "mode": "text",
         "showlegend": false,
         "text": [
          "рова"
         ],
         "textfont": {
          "color": "white",
          "size": 10
         },
         "textposition": "middle center",
         "type": "scatter",
         "x": [
          2
         ],
         "y": [
          6
         ]
        },
        {
         "hoverinfo": "skip",
         "mode": "text",
         "showlegend": false,
         "text": [
          "icae"
         ],
         "textfont": {
          "color": "white",
          "size": 10
         },
         "textposition": "middle center",
         "type": "scatter",
         "x": [
          2
         ],
         "y": [
          7
         ]
        },
        {
         "hoverinfo": "skip",
         "mode": "text",
         "showlegend": false,
         "text": [
          "lices"
         ],
         "textfont": {
          "color": "white",
          "size": 10
         },
         "textposition": "middle center",
         "type": "scatter",
         "x": [
          2
         ],
         "y": [
          8
         ]
        },
        {
         "hoverinfo": "skip",
         "mode": "text",
         "showlegend": false,
         "text": [
          "罩"
         ],
         "textfont": {
          "color": "white",
          "size": 10
         },
         "textposition": "middle center",
         "type": "scatter",
         "x": [
          2
         ],
         "y": [
          9
         ]
        },
        {
         "hoverinfo": "skip",
         "mode": "text",
         "showlegend": false,
         "text": [
          "�"
         ],
         "textfont": {
          "color": "white",
          "size": 10
         },
         "textposition": "middle center",
         "type": "scatter",
         "x": [
          2
         ],
         "y": [
          10
         ]
        },
        {
         "hoverinfo": "skip",
         "mode": "text",
         "showlegend": false,
         "text": [
          "牺"
         ],
         "textfont": {
          "color": "white",
          "size": 10
         },
         "textposition": "middle center",
         "type": "scatter",
         "x": [
          2
         ],
         "y": [
          11
         ]
        },
        {
         "hoverinfo": "skip",
         "mode": "text",
         "showlegend": false,
         "text": [
          " Tolosa"
         ],
         "textfont": {
          "color": "white",
          "size": 10
         },
         "textposition": "middle center",
         "type": "scatter",
         "x": [
          2
         ],
         "y": [
          12
         ]
        },
        {
         "hoverinfo": "skip",
         "mode": "text",
         "showlegend": false,
         "text": [
          "oser"
         ],
         "textfont": {
          "color": "white",
          "size": 10
         },
         "textposition": "middle center",
         "type": "scatter",
         "x": [
          2
         ],
         "y": [
          13
         ]
        },
        {
         "hoverinfo": "skip",
         "mode": "text",
         "showlegend": false,
         "text": [
          "дрид"
         ],
         "textfont": {
          "color": "white",
          "size": 10
         },
         "textposition": "middle center",
         "type": "scatter",
         "x": [
          2
         ],
         "y": [
          14
         ]
        },
        {
         "hoverinfo": "skip",
         "mode": "text",
         "showlegend": false,
         "text": [
          "Styles"
         ],
         "textfont": {
          "color": "white",
          "size": 10
         },
         "textposition": "middle center",
         "type": "scatter",
         "x": [
          2
         ],
         "y": [
          15
         ]
        },
        {
         "hoverinfo": "skip",
         "mode": "text",
         "showlegend": false,
         "text": [
          "roph"
         ],
         "textfont": {
          "color": "white",
          "size": 10
         },
         "textposition": "middle center",
         "type": "scatter",
         "x": [
          2
         ],
         "y": [
          16
         ]
        },
        {
         "hoverinfo": "skip",
         "mode": "text",
         "showlegend": false,
         "text": [
          "泳"
         ],
         "textfont": {
          "color": "white",
          "size": 10
         },
         "textposition": "middle center",
         "type": "scatter",
         "x": [
          2
         ],
         "y": [
          17
         ]
        },
        {
         "hoverinfo": "skip",
         "mode": "text",
         "showlegend": false,
         "text": [
          "polis"
         ],
         "textfont": {
          "color": "white",
          "size": 10
         },
         "textposition": "middle center",
         "type": "scatter",
         "x": [
          2
         ],
         "y": [
          18
         ]
        },
        {
         "hoverinfo": "skip",
         "mode": "text",
         "showlegend": false,
         "text": [
          "last"
         ],
         "textfont": {
          "color": "white",
          "size": 10
         },
         "textposition": "middle center",
         "type": "scatter",
         "x": [
          2
         ],
         "y": [
          19
         ]
        },
        {
         "hoverinfo": "skip",
         "mode": "text",
         "showlegend": false,
         "text": [
          "happen"
         ],
         "textfont": {
          "color": "white",
          "size": 10
         },
         "textposition": "middle center",
         "type": "scatter",
         "x": [
          2
         ],
         "y": [
          20
         ]
        },
        {
         "hoverinfo": "skip",
         "mode": "text",
         "showlegend": false,
         "text": [
          "met"
         ],
         "textfont": {
          "color": "white",
          "size": 10
         },
         "textposition": "middle center",
         "type": "scatter",
         "x": [
          2
         ],
         "y": [
          21
         ]
        },
        {
         "hoverinfo": "skip",
         "mode": "text",
         "showlegend": false,
         "text": [
          "ce"
         ],
         "textfont": {
          "color": "white",
          "size": 10
         },
         "textposition": "middle center",
         "type": "scatter",
         "x": [
          2
         ],
         "y": [
          22
         ]
        },
        {
         "hoverinfo": "skip",
         "mode": "text",
         "showlegend": false,
         "text": [
          " its"
         ],
         "textfont": {
          "color": "white",
          "size": 10
         },
         "textposition": "middle center",
         "type": "scatter",
         "x": [
          2
         ],
         "y": [
          23
         ]
        },
        {
         "hoverinfo": "skip",
         "mode": "text",
         "showlegend": false,
         "text": [
          "ване"
         ],
         "textfont": {
          "color": "white",
          "size": 10
         },
         "textposition": "middle center",
         "type": "scatter",
         "x": [
          2
         ],
         "y": [
          24
         ]
        },
        {
         "hoverinfo": "skip",
         "mode": "text",
         "showlegend": false,
         "text": [
          "aure"
         ],
         "textfont": {
          "color": "white",
          "size": 10
         },
         "textposition": "middle center",
         "type": "scatter",
         "x": [
          2
         ],
         "y": [
          25
         ]
        },
        {
         "hoverinfo": "skip",
         "mode": "text",
         "showlegend": false,
         "text": [
          "istrar"
         ],
         "textfont": {
          "color": "white",
          "size": 10
         },
         "textposition": "middle center",
         "type": "scatter",
         "x": [
          2
         ],
         "y": [
          26
         ]
        },
        {
         "hoverinfo": "skip",
         "mode": "text",
         "showlegend": false,
         "text": [
          " l"
         ],
         "textfont": {
          "color": "white",
          "size": 10
         },
         "textposition": "middle center",
         "type": "scatter",
         "x": [
          2
         ],
         "y": [
          27
         ]
        },
        {
         "hoverinfo": "text",
         "hovertext": [
          "Layer 0 expert_3:<br>No data",
          "Layer 1 expert 7 (logit: 0.147):<br>泡: 0.147<br>elius: 0.146<br>пул: 0.142<br>onom: 0.141<br>spo: 0.139",
          "Layer 2 expert 16 (logit: 0.209):<br>sandbox: 0.209<br>vid: 0.202<br>teo: 0.196<br>къ: 0.189<br> pe: 0.185",
          "Layer 3 expert 13 (logit: 0.320):<br> iniquity: 0.320<br> свързан: 0.275<br>长寿: 0.267<br>火力: 0.265<br>西红: 0.265",
          "Layer 4 expert 60 (logit: 0.232):<br>elihood: 0.232<br>etapes: 0.210<br>eterm: 0.200<br>anyol: 0.192<br> ranks: 0.187",
          "Layer 5 expert 27 (logit: 0.157):<br>Преди: 0.157<br>ume: 0.136<br>visi: 0.135<br>emale: 0.135<br>瞒: 0.134",
          "Layer 6 expert 38 (logit: 0.103):<br>vell: 0.103<br>晚: 0.093<br>orema: 0.090<br>族自治: 0.088<br>ylene: 0.085",
          "Layer 7 expert 19 (logit: 0.232):<br>通: 0.232<br>uis: 0.230<br> stocks: 0.229<br>quisition: 0.226<br>duk: 0.223",
          "Layer 8 expert 37 (logit: 0.200):<br>俪: 0.200<br>房租: 0.192<br>婪: 0.186<br>hold: 0.185<br>IER: 0.180",
          "Layer 9 expert 29 (logit: 0.191):<br>�: 0.191<br>binder: 0.183<br>璃: 0.182<br>ool: 0.176<br>католи: 0.174",
          "Layer 10 expert 12 (logit: 0.365):<br> n: 0.365<br>gg: 0.344<br> R: 0.335<br>鸣: 0.326<br> m: 0.324",
          "Layer 11 expert 27 (logit: 0.283):<br>agues: 0.283<br>texorpdfstring: 0.267<br>导入: 0.259<br>itori: 0.246<br>nimo: 0.239",
          "Layer 12 expert 62 (logit: 0.270):<br>rais: 0.270<br>bet: 0.269<br> legals: 0.265<br>сител: 0.260<br>cha: 0.257",
          "Layer 13 expert 24 (logit: 0.518):<br> опит: 0.518<br>iod: 0.484<br>ivia: 0.482<br>vetica: 0.478<br> cercles: 0.473",
          "Layer 14 expert 43 (logit: 0.301):<br>汾: 0.301<br>联: 0.293<br>ск: 0.277<br>中超: 0.276<br>others: 0.275",
          "Layer 15 expert 31 (logit: 1.090):<br>клопе: 1.090<br>Английски: 1.016<br> $): 0.979<br>цяло: 0.979<br>фове: 0.938",
          "Layer 16 expert 59 (logit: 0.758):<br>yet: 0.758<br> yet: 0.719<br>事的: 0.680<br>事: 0.659<br>actual: 0.592",
          "Layer 17 expert 1 (logit: 0.540):<br>udis: 0.540<br>演: 0.427<br>born: 0.427<br>роден: 0.422<br>ulus: 0.418",
          "Layer 18 expert 53 (logit: 0.363):<br>机的: 0.363<br>NonUser: 0.350<br>texorpdfstring: 0.338<br>cook: 0.332<br>stum: 0.323",
          "Layer 19 expert 18 (logit: 0.823):<br>yet: 0.823<br>urfaces: 0.819<br> изигра: 0.784<br>telephony: 0.776<br>pian: 0.766",
          "Layer 20 expert 5 (logit: 0.319):<br> : 0.319<br> m: 0.234<br>,: 0.227<br> form: 0.223<br>!: 0.217",
          "Layer 21 expert 48 (logit: 0.856):<br>covery: 0.856<br>iment: 0.804<br>翼翼: 0.788<br>Pre: 0.767<br> Pre: 0.761",
          "Layer 22 expert 17 (logit: 0.528):<br>醇: 0.528<br>疹: 0.501<br>pload: 0.500<br>isNull: 0.500<br>ireless: 0.498",
          "Layer 23 expert 48 (logit: 0.789):<br>пове: 0.789<br>峡: 0.690<br>par: 0.641<br>cob: 0.641<br>either: 0.638",
          "Layer 24 expert 40 (logit: 1.947):<br>ptrc: 1.947<br>粉: 1.752<br>萨斯: 1.700<br> \\!\\!: 1.697<br> romanes: 1.684",
          "Layer 25 expert 41 (logit: 2.041):<br> fit: 2.041<br> reach: 1.973<br>reach: 1.865<br> attain: 1.683<br> gain: 1.601",
          "Layer 26 expert 14 (logit: 1.840):<br>]]></: 1.840<br> $}: 1.828<br>()}: 1.782<br>]_: 1.715<br>-}: 1.687",
          "Layer 27 expert 9 (logit: 0.886):<br>\"；: 0.886<br>」: 0.882<br>\"|: 0.854<br>\";: 0.836<br>,'\": 0.833"
         ],
         "marker": {
          "cmax": 57.40625,
          "cmin": 0.006275177001953125,
          "color": [
           null,
           0.146728515625,
           0.208740234375,
           0.319580078125,
           0.231689453125,
           0.1571044921875,
           0.1031494140625,
           0.232177734375,
           0.19970703125,
           0.1907958984375,
           0.36474609375,
           0.283447265625,
           0.27001953125,
           0.517578125,
           0.30078125,
           1.08984375,
           0.75830078125,
           0.53955078125,
           0.362548828125,
           0.82275390625,
           0.318603515625,
           0.8564453125,
           0.5283203125,
           0.7890625,
           1.947265625,
           2.041015625,
           1.83984375,
           0.8857421875
          ],
          "colorscale": [
           [
            0,
            "rgb(68,1,84)"
           ],
           [
            0.25,
            "rgb(59,82,139)"
           ],
           [
            0.5,
            "rgb(33,144,141)"
           ],
           [
            0.75,
            "rgb(93,201,99)"
           ],
           [
            1,
            "rgb(253,231,37)"
           ]
          ],
          "line": {
           "color": "rgba(255,255,255,0.2)",
           "width": 1
          },
          "showscale": false,
          "size": 50,
          "symbol": "square"
         },
         "mode": "markers",
         "showlegend": false,
         "type": "scatter",
         "x": [
          3,
          3,
          3,
          3,
          3,
          3,
          3,
          3,
          3,
          3,
          3,
          3,
          3,
          3,
          3,
          3,
          3,
          3,
          3,
          3,
          3,
          3,
          3,
          3,
          3,
          3,
          3,
          3
         ],
         "y": [
          0,
          1,
          2,
          3,
          4,
          5,
          6,
          7,
          8,
          9,
          10,
          11,
          12,
          13,
          14,
          15,
          16,
          17,
          18,
          19,
          20,
          21,
          22,
          23,
          24,
          25,
          26,
          27
         ]
        },
        {
         "hoverinfo": "skip",
         "mode": "text",
         "showlegend": false,
         "text": [
          "7",
          "16",
          "13",
          "60",
          "27",
          "38",
          "19",
          "37",
          "29",
          "12",
          "27",
          "62",
          "24",
          "43",
          "31",
          "59",
          "1",
          "53",
          "18",
          "5",
          "48",
          "17",
          "48",
          "40",
          "41",
          "14",
          "9"
         ],
         "textfont": {
          "color": "white",
          "size": 10
         },
         "textposition": "middle center",
         "type": "scatter",
         "x": [
          2.8,
          2.8,
          2.8,
          2.8,
          2.8,
          2.8,
          2.8,
          2.8,
          2.8,
          2.8,
          2.8,
          2.8,
          2.8,
          2.8,
          2.8,
          2.8,
          2.8,
          2.8,
          2.8,
          2.8,
          2.8,
          2.8,
          2.8,
          2.8,
          2.8,
          2.8,
          2.8
         ],
         "y": [
          1.2,
          2.2,
          3.2,
          4.2,
          5.2,
          6.2,
          7.2,
          8.2,
          9.2,
          10.2,
          11.2,
          12.2,
          13.2,
          14.2,
          15.2,
          16.2,
          17.2,
          18.2,
          19.2,
          20.2,
          21.2,
          22.2,
          23.2,
          24.2,
          25.2,
          26.2,
          27.2
         ]
        },
        {
         "hoverinfo": "skip",
         "mode": "text",
         "showlegend": false,
         "text": [
          "泡"
         ],
         "textfont": {
          "color": "white",
          "size": 10
         },
         "textposition": "middle center",
         "type": "scatter",
         "x": [
          3
         ],
         "y": [
          1
         ]
        },
        {
         "hoverinfo": "skip",
         "mode": "text",
         "showlegend": false,
         "text": [
          "sandbox"
         ],
         "textfont": {
          "color": "white",
          "size": 10
         },
         "textposition": "middle center",
         "type": "scatter",
         "x": [
          3
         ],
         "y": [
          2
         ]
        },
        {
         "hoverinfo": "skip",
         "mode": "text",
         "showlegend": false,
         "text": [
          " iniquity"
         ],
         "textfont": {
          "color": "white",
          "size": 10
         },
         "textposition": "middle center",
         "type": "scatter",
         "x": [
          3
         ],
         "y": [
          3
         ]
        },
        {
         "hoverinfo": "skip",
         "mode": "text",
         "showlegend": false,
         "text": [
          "elihood"
         ],
         "textfont": {
          "color": "white",
          "size": 10
         },
         "textposition": "middle center",
         "type": "scatter",
         "x": [
          3
         ],
         "y": [
          4
         ]
        },
        {
         "hoverinfo": "skip",
         "mode": "text",
         "showlegend": false,
         "text": [
          "Преди"
         ],
         "textfont": {
          "color": "white",
          "size": 10
         },
         "textposition": "middle center",
         "type": "scatter",
         "x": [
          3
         ],
         "y": [
          5
         ]
        },
        {
         "hoverinfo": "skip",
         "mode": "text",
         "showlegend": false,
         "text": [
          "vell"
         ],
         "textfont": {
          "color": "white",
          "size": 10
         },
         "textposition": "middle center",
         "type": "scatter",
         "x": [
          3
         ],
         "y": [
          6
         ]
        },
        {
         "hoverinfo": "skip",
         "mode": "text",
         "showlegend": false,
         "text": [
          "通"
         ],
         "textfont": {
          "color": "white",
          "size": 10
         },
         "textposition": "middle center",
         "type": "scatter",
         "x": [
          3
         ],
         "y": [
          7
         ]
        },
        {
         "hoverinfo": "skip",
         "mode": "text",
         "showlegend": false,
         "text": [
          "俪"
         ],
         "textfont": {
          "color": "white",
          "size": 10
         },
         "textposition": "middle center",
         "type": "scatter",
         "x": [
          3
         ],
         "y": [
          8
         ]
        },
        {
         "hoverinfo": "skip",
         "mode": "text",
         "showlegend": false,
         "text": [
          "�"
         ],
         "textfont": {
          "color": "white",
          "size": 10
         },
         "textposition": "middle center",
         "type": "scatter",
         "x": [
          3
         ],
         "y": [
          9
         ]
        },
        {
         "hoverinfo": "skip",
         "mode": "text",
         "showlegend": false,
         "text": [
          " n"
         ],
         "textfont": {
          "color": "white",
          "size": 10
         },
         "textposition": "middle center",
         "type": "scatter",
         "x": [
          3
         ],
         "y": [
          10
         ]
        },
        {
         "hoverinfo": "skip",
         "mode": "text",
         "showlegend": false,
         "text": [
          "agues"
         ],
         "textfont": {
          "color": "white",
          "size": 10
         },
         "textposition": "middle center",
         "type": "scatter",
         "x": [
          3
         ],
         "y": [
          11
         ]
        },
        {
         "hoverinfo": "skip",
         "mode": "text",
         "showlegend": false,
         "text": [
          "rais"
         ],
         "textfont": {
          "color": "white",
          "size": 10
         },
         "textposition": "middle center",
         "type": "scatter",
         "x": [
          3
         ],
         "y": [
          12
         ]
        },
        {
         "hoverinfo": "skip",
         "mode": "text",
         "showlegend": false,
         "text": [
          " опит"
         ],
         "textfont": {
          "color": "white",
          "size": 10
         },
         "textposition": "middle center",
         "type": "scatter",
         "x": [
          3
         ],
         "y": [
          13
         ]
        },
        {
         "hoverinfo": "skip",
         "mode": "text",
         "showlegend": false,
         "text": [
          "汾"
         ],
         "textfont": {
          "color": "white",
          "size": 10
         },
         "textposition": "middle center",
         "type": "scatter",
         "x": [
          3
         ],
         "y": [
          14
         ]
        },
        {
         "hoverinfo": "skip",
         "mode": "text",
         "showlegend": false,
         "text": [
          "клопе"
         ],
         "textfont": {
          "color": "white",
          "size": 10
         },
         "textposition": "middle center",
         "type": "scatter",
         "x": [
          3
         ],
         "y": [
          15
         ]
        },
        {
         "hoverinfo": "skip",
         "mode": "text",
         "showlegend": false,
         "text": [
          "yet"
         ],
         "textfont": {
          "color": "white",
          "size": 10
         },
         "textposition": "middle center",
         "type": "scatter",
         "x": [
          3
         ],
         "y": [
          16
         ]
        },
        {
         "hoverinfo": "skip",
         "mode": "text",
         "showlegend": false,
         "text": [
          "udis"
         ],
         "textfont": {
          "color": "white",
          "size": 10
         },
         "textposition": "middle center",
         "type": "scatter",
         "x": [
          3
         ],
         "y": [
          17
         ]
        },
        {
         "hoverinfo": "skip",
         "mode": "text",
         "showlegend": false,
         "text": [
          "机的"
         ],
         "textfont": {
          "color": "white",
          "size": 10
         },
         "textposition": "middle center",
         "type": "scatter",
         "x": [
          3
         ],
         "y": [
          18
         ]
        },
        {
         "hoverinfo": "skip",
         "mode": "text",
         "showlegend": false,
         "text": [
          "yet"
         ],
         "textfont": {
          "color": "white",
          "size": 10
         },
         "textposition": "middle center",
         "type": "scatter",
         "x": [
          3
         ],
         "y": [
          19
         ]
        },
        {
         "hoverinfo": "skip",
         "mode": "text",
         "showlegend": false,
         "text": [
          " "
         ],
         "textfont": {
          "color": "white",
          "size": 10
         },
         "textposition": "middle center",
         "type": "scatter",
         "x": [
          3
         ],
         "y": [
          20
         ]
        },
        {
         "hoverinfo": "skip",
         "mode": "text",
         "showlegend": false,
         "text": [
          "covery"
         ],
         "textfont": {
          "color": "white",
          "size": 10
         },
         "textposition": "middle center",
         "type": "scatter",
         "x": [
          3
         ],
         "y": [
          21
         ]
        },
        {
         "hoverinfo": "skip",
         "mode": "text",
         "showlegend": false,
         "text": [
          "醇"
         ],
         "textfont": {
          "color": "white",
          "size": 10
         },
         "textposition": "middle center",
         "type": "scatter",
         "x": [
          3
         ],
         "y": [
          22
         ]
        },
        {
         "hoverinfo": "skip",
         "mode": "text",
         "showlegend": false,
         "text": [
          "пове"
         ],
         "textfont": {
          "color": "white",
          "size": 10
         },
         "textposition": "middle center",
         "type": "scatter",
         "x": [
          3
         ],
         "y": [
          23
         ]
        },
        {
         "hoverinfo": "skip",
         "mode": "text",
         "showlegend": false,
         "text": [
          "ptrc"
         ],
         "textfont": {
          "color": "white",
          "size": 10
         },
         "textposition": "middle center",
         "type": "scatter",
         "x": [
          3
         ],
         "y": [
          24
         ]
        },
        {
         "hoverinfo": "skip",
         "mode": "text",
         "showlegend": false,
         "text": [
          " fit"
         ],
         "textfont": {
          "color": "white",
          "size": 10
         },
         "textposition": "middle center",
         "type": "scatter",
         "x": [
          3
         ],
         "y": [
          25
         ]
        },
        {
         "hoverinfo": "skip",
         "mode": "text",
         "showlegend": false,
         "text": [
          "]]></"
         ],
         "textfont": {
          "color": "white",
          "size": 10
         },
         "textposition": "middle center",
         "type": "scatter",
         "x": [
          3
         ],
         "y": [
          26
         ]
        },
        {
         "hoverinfo": "skip",
         "mode": "text",
         "showlegend": false,
         "text": [
          "\"；"
         ],
         "textfont": {
          "color": "white",
          "size": 10
         },
         "textposition": "middle center",
         "type": "scatter",
         "x": [
          3
         ],
         "y": [
          27
         ]
        },
        {
         "hoverinfo": "text",
         "hovertext": [
          "Layer 0 expert_4:<br>No data",
          "Layer 1 expert 40 (logit: 0.047):<br>orney: 0.047<br>�: 0.036<br>endar: 0.035<br>quire: 0.034<br>潜: 0.034",
          "Layer 2 expert 34 (logit: 0.115):<br>:*.: 0.115<br>кос: 0.110<br>верен: 0.104<br>本地: 0.103<br> temper: 0.103",
          "Layer 3 expert 10 (logit: 0.182):<br>ueres: 0.182<br> observat: 0.171<br>ема: 0.166<br>член: 0.166<br> COLLATE: 0.161",
          "Layer 4 expert 22 (logit: 0.142):<br>linen: 0.142<br>lin: 0.122<br>zz: 0.119<br>бин: 0.110<br>uses: 0.109",
          "Layer 5 expert 9 (logit: 0.133):<br> повърх: 0.133<br>ROID: 0.131<br>obox: 0.130<br>duino: 0.124<br> избух: 0.121",
          "Layer 6 expert 47 (logit: 0.101):<br>azzo: 0.101<br> .: 0.098<br>rus: 0.097<br>就好了: 0.094<br> right: 0.093",
          "Layer 7 expert 41 (logit: 0.203):<br>годишна: 0.203<br>OMAS: 0.202<br>irit: 0.199<br>дата: 0.198<br>istros: 0.195",
          "Layer 8 expert 60 (logit: 0.134):<br> препратки: 0.134<br>hiba: 0.125<br>статъ: 0.120<br>obres: 0.118<br> sorpresa: 0.117",
          "Layer 9 expert 5 (logit: 0.166):<br>acis: 0.166<br>мост: 0.162<br>nesi: 0.162<br>estany: 0.150<br>bolds: 0.149",
          "Layer 10 expert 62 (logit: 0.280):<br>�乐: 0.280<br> материали: 0.249<br>opil: 0.248<br>гени: 0.230<br>pmy: 0.229",
          "Layer 11 expert 24 (logit: 0.201):<br>adata: 0.201<br>inkling: 0.194<br> надпис: 0.173<br>adir: 0.171<br>диен: 0.167",
          "Layer 12 expert 34 (logit: 0.244):<br>ksu: 0.244<br>мбия: 0.235<br>rucci: 0.228<br>ktop: 0.224<br>inga: 0.218",
          "Layer 13 expert 38 (logit: 0.437):<br>mis: 0.437<br>coln: 0.436<br>社: 0.426<br>0: 0.410<br> reg: 0.403",
          "Layer 14 expert 23 (logit: 0.276):<br> Кън: 0.276<br>ковник: 0.264<br>诠: 0.252<br>култе: 0.240<br>годишен: 0.234",
          "Layer 15 expert 34 (logit: 0.746):<br>illings: 0.746<br>ulles: 0.723<br>adre: 0.720<br>kes: 0.719<br> доба: 0.717",
          "Layer 16 expert 47 (logit: 0.313):<br>湃: 0.313<br>apa: 0.285<br>фове: 0.246<br> ,\\\\: 0.232<br>检: 0.230",
          "Layer 17 expert 25 (logit: 0.417):<br>IntLiteral: 0.417<br>fully: 0.408<br>arpa: 0.408<br>DUCT: 0.407<br>ively: 0.406",
          "Layer 18 expert 33 (logit: 0.322):<br>iflower: 0.322<br>Transc: 0.302<br> Гон: 0.292<br> TORT: 0.289<br>ел: 0.288",
          "Layer 19 expert 31 (logit: 0.256):<br>}'\\: 0.256<br> per: 0.242<br>ropolis: 0.241<br>три: 0.225<br>oth: 0.225",
          "Layer 20 expert 19 (logit: 0.310):<br>lbrack: 0.310<br>unta: 0.302<br> бое: 0.287<br>istine: 0.287<br>amil: 0.281",
          "Layer 21 expert 58 (logit: 0.673):<br>only: 0.673<br>herits: 0.629<br>illings: 0.571<br>ONLY: 0.568<br> only: 0.562",
          "Layer 22 expert 41 (logit: 0.410):<br>live: 0.410<br> living: 0.408<br> live: 0.407<br>living: 0.397<br> lived: 0.385",
          "Layer 23 expert 17 (logit: 0.377):<br>тин: 0.377<br>ът: 0.364<br>ajut: 0.363<br>avar: 0.346<br>lectuals: 0.327",
          "Layer 24 expert 41 (logit: 0.713):<br>Ins: 0.713<br>ownt: 0.662<br>男士: 0.634<br>kb: 0.628<br> raise: 0.620",
          "Layer 25 expert 36 (logit: 1.967):<br>8: 1.967<br>9: 1.743<br>4: 1.648<br>6: 1.580<br>3: 1.567",
          "Layer 26 expert 0 (logit: 0.976):<br> get: 0.976<br> gotten: 0.905<br> got: 0.847<br> getting: 0.843<br> gets: 0.755",
          "Layer 27 expert 49 (logit: 0.256):<br>–: 0.256<br>—: 0.209<br>——: 0.199<br> -: 0.190<br>––: 0.189"
         ],
         "marker": {
          "cmax": 57.40625,
          "cmin": 0.006275177001953125,
          "color": [
           null,
           0.046783447265625,
           0.115234375,
           0.182373046875,
           0.141845703125,
           0.132568359375,
           0.1007080078125,
           0.2030029296875,
           0.134033203125,
           0.1658935546875,
           0.279541015625,
           0.20068359375,
           0.2440185546875,
           0.437255859375,
           0.27587890625,
           0.74609375,
           0.31298828125,
           0.4169921875,
           0.322265625,
           0.255615234375,
           0.310302734375,
           0.6728515625,
           0.410400390625,
           0.376953125,
           0.71337890625,
           1.966796875,
           0.9755859375,
           0.255615234375
          ],
          "colorscale": [
           [
            0,
            "rgb(68,1,84)"
           ],
           [
            0.25,
            "rgb(59,82,139)"
           ],
           [
            0.5,
            "rgb(33,144,141)"
           ],
           [
            0.75,
            "rgb(93,201,99)"
           ],
           [
            1,
            "rgb(253,231,37)"
           ]
          ],
          "line": {
           "color": "rgba(255,255,255,0.2)",
           "width": 1
          },
          "showscale": false,
          "size": 50,
          "symbol": "square"
         },
         "mode": "markers",
         "showlegend": false,
         "type": "scatter",
         "x": [
          4,
          4,
          4,
          4,
          4,
          4,
          4,
          4,
          4,
          4,
          4,
          4,
          4,
          4,
          4,
          4,
          4,
          4,
          4,
          4,
          4,
          4,
          4,
          4,
          4,
          4,
          4,
          4
         ],
         "y": [
          0,
          1,
          2,
          3,
          4,
          5,
          6,
          7,
          8,
          9,
          10,
          11,
          12,
          13,
          14,
          15,
          16,
          17,
          18,
          19,
          20,
          21,
          22,
          23,
          24,
          25,
          26,
          27
         ]
        },
        {
         "hoverinfo": "skip",
         "mode": "text",
         "showlegend": false,
         "text": [
          "40",
          "34",
          "10",
          "22",
          "9",
          "47",
          "41",
          "60",
          "5",
          "62",
          "24",
          "34",
          "38",
          "23",
          "34",
          "47",
          "25",
          "33",
          "31",
          "19",
          "58",
          "41",
          "17",
          "41",
          "36",
          "0",
          "49"
         ],
         "textfont": {
          "color": "white",
          "size": 10
         },
         "textposition": "middle center",
         "type": "scatter",
         "x": [
          3.8,
          3.8,
          3.8,
          3.8,
          3.8,
          3.8,
          3.8,
          3.8,
          3.8,
          3.8,
          3.8,
          3.8,
          3.8,
          3.8,
          3.8,
          3.8,
          3.8,
          3.8,
          3.8,
          3.8,
          3.8,
          3.8,
          3.8,
          3.8,
          3.8,
          3.8,
          3.8
         ],
         "y": [
          1.2,
          2.2,
          3.2,
          4.2,
          5.2,
          6.2,
          7.2,
          8.2,
          9.2,
          10.2,
          11.2,
          12.2,
          13.2,
          14.2,
          15.2,
          16.2,
          17.2,
          18.2,
          19.2,
          20.2,
          21.2,
          22.2,
          23.2,
          24.2,
          25.2,
          26.2,
          27.2
         ]
        },
        {
         "hoverinfo": "skip",
         "mode": "text",
         "showlegend": false,
         "text": [
          "orney"
         ],
         "textfont": {
          "color": "white",
          "size": 10
         },
         "textposition": "middle center",
         "type": "scatter",
         "x": [
          4
         ],
         "y": [
          1
         ]
        },
        {
         "hoverinfo": "skip",
         "mode": "text",
         "showlegend": false,
         "text": [
          ":*."
         ],
         "textfont": {
          "color": "white",
          "size": 10
         },
         "textposition": "middle center",
         "type": "scatter",
         "x": [
          4
         ],
         "y": [
          2
         ]
        },
        {
         "hoverinfo": "skip",
         "mode": "text",
         "showlegend": false,
         "text": [
          "ueres"
         ],
         "textfont": {
          "color": "white",
          "size": 10
         },
         "textposition": "middle center",
         "type": "scatter",
         "x": [
          4
         ],
         "y": [
          3
         ]
        },
        {
         "hoverinfo": "skip",
         "mode": "text",
         "showlegend": false,
         "text": [
          "linen"
         ],
         "textfont": {
          "color": "white",
          "size": 10
         },
         "textposition": "middle center",
         "type": "scatter",
         "x": [
          4
         ],
         "y": [
          4
         ]
        },
        {
         "hoverinfo": "skip",
         "mode": "text",
         "showlegend": false,
         "text": [
          " повърх"
         ],
         "textfont": {
          "color": "white",
          "size": 10
         },
         "textposition": "middle center",
         "type": "scatter",
         "x": [
          4
         ],
         "y": [
          5
         ]
        },
        {
         "hoverinfo": "skip",
         "mode": "text",
         "showlegend": false,
         "text": [
          "azzo"
         ],
         "textfont": {
          "color": "white",
          "size": 10
         },
         "textposition": "middle center",
         "type": "scatter",
         "x": [
          4
         ],
         "y": [
          6
         ]
        },
        {
         "hoverinfo": "skip",
         "mode": "text",
         "showlegend": false,
         "text": [
          "годишна"
         ],
         "textfont": {
          "color": "white",
          "size": 10
         },
         "textposition": "middle center",
         "type": "scatter",
         "x": [
          4
         ],
         "y": [
          7
         ]
        },
        {
         "hoverinfo": "skip",
         "mode": "text",
         "showlegend": false,
         "text": [
          " препратки"
         ],
         "textfont": {
          "color": "white",
          "size": 10
         },
         "textposition": "middle center",
         "type": "scatter",
         "x": [
          4
         ],
         "y": [
          8
         ]
        },
        {
         "hoverinfo": "skip",
         "mode": "text",
         "showlegend": false,
         "text": [
          "acis"
         ],
         "textfont": {
          "color": "white",
          "size": 10
         },
         "textposition": "middle center",
         "type": "scatter",
         "x": [
          4
         ],
         "y": [
          9
         ]
        },
        {
         "hoverinfo": "skip",
         "mode": "text",
         "showlegend": false,
         "text": [
          "�乐"
         ],
         "textfont": {
          "color": "white",
          "size": 10
         },
         "textposition": "middle center",
         "type": "scatter",
         "x": [
          4
         ],
         "y": [
          10
         ]
        },
        {
         "hoverinfo": "skip",
         "mode": "text",
         "showlegend": false,
         "text": [
          "adata"
         ],
         "textfont": {
          "color": "white",
          "size": 10
         },
         "textposition": "middle center",
         "type": "scatter",
         "x": [
          4
         ],
         "y": [
          11
         ]
        },
        {
         "hoverinfo": "skip",
         "mode": "text",
         "showlegend": false,
         "text": [
          "ksu"
         ],
         "textfont": {
          "color": "white",
          "size": 10
         },
         "textposition": "middle center",
         "type": "scatter",
         "x": [
          4
         ],
         "y": [
          12
         ]
        },
        {
         "hoverinfo": "skip",
         "mode": "text",
         "showlegend": false,
         "text": [
          "mis"
         ],
         "textfont": {
          "color": "white",
          "size": 10
         },
         "textposition": "middle center",
         "type": "scatter",
         "x": [
          4
         ],
         "y": [
          13
         ]
        },
        {
         "hoverinfo": "skip",
         "mode": "text",
         "showlegend": false,
         "text": [
          " Кън"
         ],
         "textfont": {
          "color": "white",
          "size": 10
         },
         "textposition": "middle center",
         "type": "scatter",
         "x": [
          4
         ],
         "y": [
          14
         ]
        },
        {
         "hoverinfo": "skip",
         "mode": "text",
         "showlegend": false,
         "text": [
          "illings"
         ],
         "textfont": {
          "color": "white",
          "size": 10
         },
         "textposition": "middle center",
         "type": "scatter",
         "x": [
          4
         ],
         "y": [
          15
         ]
        },
        {
         "hoverinfo": "skip",
         "mode": "text",
         "showlegend": false,
         "text": [
          "湃"
         ],
         "textfont": {
          "color": "white",
          "size": 10
         },
         "textposition": "middle center",
         "type": "scatter",
         "x": [
          4
         ],
         "y": [
          16
         ]
        },
        {
         "hoverinfo": "skip",
         "mode": "text",
         "showlegend": false,
         "text": [
          "IntLiteral"
         ],
         "textfont": {
          "color": "white",
          "size": 10
         },
         "textposition": "middle center",
         "type": "scatter",
         "x": [
          4
         ],
         "y": [
          17
         ]
        },
        {
         "hoverinfo": "skip",
         "mode": "text",
         "showlegend": false,
         "text": [
          "iflower"
         ],
         "textfont": {
          "color": "white",
          "size": 10
         },
         "textposition": "middle center",
         "type": "scatter",
         "x": [
          4
         ],
         "y": [
          18
         ]
        },
        {
         "hoverinfo": "skip",
         "mode": "text",
         "showlegend": false,
         "text": [
          "}'\\"
         ],
         "textfont": {
          "color": "white",
          "size": 10
         },
         "textposition": "middle center",
         "type": "scatter",
         "x": [
          4
         ],
         "y": [
          19
         ]
        },
        {
         "hoverinfo": "skip",
         "mode": "text",
         "showlegend": false,
         "text": [
          "lbrack"
         ],
         "textfont": {
          "color": "white",
          "size": 10
         },
         "textposition": "middle center",
         "type": "scatter",
         "x": [
          4
         ],
         "y": [
          20
         ]
        },
        {
         "hoverinfo": "skip",
         "mode": "text",
         "showlegend": false,
         "text": [
          "only"
         ],
         "textfont": {
          "color": "white",
          "size": 10
         },
         "textposition": "middle center",
         "type": "scatter",
         "x": [
          4
         ],
         "y": [
          21
         ]
        },
        {
         "hoverinfo": "skip",
         "mode": "text",
         "showlegend": false,
         "text": [
          "live"
         ],
         "textfont": {
          "color": "white",
          "size": 10
         },
         "textposition": "middle center",
         "type": "scatter",
         "x": [
          4
         ],
         "y": [
          22
         ]
        },
        {
         "hoverinfo": "skip",
         "mode": "text",
         "showlegend": false,
         "text": [
          "тин"
         ],
         "textfont": {
          "color": "white",
          "size": 10
         },
         "textposition": "middle center",
         "type": "scatter",
         "x": [
          4
         ],
         "y": [
          23
         ]
        },
        {
         "hoverinfo": "skip",
         "mode": "text",
         "showlegend": false,
         "text": [
          "Ins"
         ],
         "textfont": {
          "color": "white",
          "size": 10
         },
         "textposition": "middle center",
         "type": "scatter",
         "x": [
          4
         ],
         "y": [
          24
         ]
        },
        {
         "hoverinfo": "skip",
         "mode": "text",
         "showlegend": false,
         "text": [
          "8"
         ],
         "textfont": {
          "color": "white",
          "size": 10
         },
         "textposition": "middle center",
         "type": "scatter",
         "x": [
          4
         ],
         "y": [
          25
         ]
        },
        {
         "hoverinfo": "skip",
         "mode": "text",
         "showlegend": false,
         "text": [
          " get"
         ],
         "textfont": {
          "color": "white",
          "size": 10
         },
         "textposition": "middle center",
         "type": "scatter",
         "x": [
          4
         ],
         "y": [
          26
         ]
        },
        {
         "hoverinfo": "skip",
         "mode": "text",
         "showlegend": false,
         "text": [
          "–"
         ],
         "textfont": {
          "color": "white",
          "size": 10
         },
         "textposition": "middle center",
         "type": "scatter",
         "x": [
          4
         ],
         "y": [
          27
         ]
        },
        {
         "hoverinfo": "text",
         "hovertext": [
          "Layer 0 expert_5:<br>No data",
          "Layer 1 expert 53 (logit: 0.047):<br>uega: 0.047<br>专: 0.044<br>dorff: 0.039<br>td: 0.039<br>tsd: 0.039",
          "Layer 2 expert 15 (logit: 0.035):<br>mania: 0.035<br>рация: 0.034<br>出不穷: 0.034<br>不了的: 0.033<br>cel: 0.033",
          "Layer 3 expert 36 (logit: 0.100):<br>anell: 0.100<br>стой: 0.089<br>teix: 0.088<br>IEW: 0.088<br> воде: 0.087",
          "Layer 4 expert 48 (logit: 0.122):<br>тици: 0.122<br> Tremp: 0.115<br>бва: 0.108<br>iple: 0.108<br>ITCH: 0.105",
          "Layer 5 expert 48 (logit: 0.097):<br>locs: 0.097<br>扫描: 0.087<br>堰: 0.085<br>破: 0.083<br>扫: 0.079",
          "Layer 6 expert 5 (logit: 0.099):<br>ctica: 0.099<br>pectives: 0.096<br>答: 0.095<br>pare: 0.090<br>iasm: 0.087",
          "Layer 7 expert 59 (logit: 0.182):<br>хрид: 0.182<br>andest: 0.164<br>ейнт: 0.163<br>olom: 0.159<br>enciat: 0.157",
          "Layer 8 expert 54 (logit: 0.104):<br>iltr: 0.104<br>Habitants: 0.080<br> h: 0.080<br> Planner: 0.076<br>ios: 0.075",
          "Layer 9 expert 34 (logit: 0.138):<br>3: 0.138<br>6: 0.137<br>9: 0.137<br>1: 0.136<br>0: 0.134",
          "Layer 10 expert 42 (logit: 0.186):<br>Health: 0.186<br>ma: 0.186<br>amo: 0.180<br>oph: 0.174<br>Force: 0.172",
          "Layer 11 expert 3 (logit: 0.197):<br>�: 0.197<br>ensk: 0.195<br>rado: 0.192<br>快: 0.192<br> Русе: 0.182",
          "Layer 12 expert 41 (logit: 0.223):<br>ove: 0.223<br>SSA: 0.217<br> heur: 0.207<br>弗: 0.206<br>рид: 0.204",
          "Layer 13 expert 2 (logit: 0.389):<br>navList: 0.389<br>subNav: 0.387<br>arro: 0.343<br>扩: 0.317<br>APTER: 0.312",
          "Layer 14 expert 6 (logit: 0.242):<br>aras: 0.242<br> SET: 0.230<br>dden: 0.229<br> \": 0.225<br>oves: 0.222",
          "Layer 15 expert 8 (logit: 0.350):<br>ILI: 0.350<br>黑色: 0.330<br>央: 0.290<br>amo: 0.275<br>利物: 0.269",
          "Layer 16 expert 18 (logit: 0.270):<br>itself: 0.270<br>5: 0.259<br>0: 0.256<br>4: 0.248<br>held: 0.241",
          "Layer 17 expert 35 (logit: 0.407):<br>3: 0.407<br>9: 0.396<br>2: 0.387<br>0: 0.381<br>5: 0.373",
          "Layer 18 expert 11 (logit: 0.260):<br>ROUP: 0.260<br>тио: 0.249<br>bered: 0.245<br>rias: 0.244<br>特尔: 0.232",
          "Layer 19 expert 52 (logit: 0.224):<br>时: 0.224<br>时不: 0.210<br>时至: 0.174<br>mtp: 0.169<br>acket: 0.169",
          "Layer 20 expert 30 (logit: 0.272):<br>itchen: 0.272<br>opi: 0.264<br>ottage: 0.263<br>queda: 0.255<br>dim: 0.248",
          "Layer 21 expert 19 (logit: 0.595):<br>Hope: 0.595<br>等待: 0.547<br>await: 0.540<br>anticip: 0.533<br>hop: 0.532",
          "Layer 22 expert 12 (logit: 0.384):<br>ints: 0.384<br>HasBeen: 0.320<br>sc: 0.318<br>гей: 0.316<br>stal: 0.311",
          "Layer 23 expert 7 (logit: 0.307):<br>呢: 0.307<br>了呢: 0.293<br>tted: 0.242<br>metav: 0.240<br>paramname: 0.231",
          "Layer 24 expert 62 (logit: 0.692):<br>्: 0.692<br>вици: 0.687<br>י: 0.654<br>вица: 0.643<br> Martorell: 0.643",
          "Layer 25 expert 50 (logit: 1.701):<br>ourselves: 1.701<br> himself: 1.672<br> ourselves: 1.666<br> oneself: 1.613<br>himself: 1.499",
          "Layer 26 expert 45 (logit: 0.586):<br> stable: 0.586<br> comm: 0.554<br>�: 0.533<br>ipus: 0.523<br>ter: 0.518",
          "Layer 27 expert 59 (logit: 0.175):<br> admissible: 0.175<br> plenty: 0.168<br> certain: 0.166<br> granted: 0.152<br> given: 0.151"
         ],
         "marker": {
          "cmax": 57.40625,
          "cmin": 0.006275177001953125,
          "color": [
           null,
           0.0467529296875,
           0.035247802734375,
           0.10028076171875,
           0.12158203125,
           0.0968017578125,
           0.0994873046875,
           0.1822509765625,
           0.103759765625,
           0.1376953125,
           0.186279296875,
           0.196533203125,
           0.223388671875,
           0.388916015625,
           0.2418212890625,
           0.349853515625,
           0.26953125,
           0.4072265625,
           0.260009765625,
           0.2244873046875,
           0.272216796875,
           0.5947265625,
           0.383544921875,
           0.307373046875,
           0.6923828125,
           1.701171875,
           0.58642578125,
           0.1748046875
          ],
          "colorscale": [
           [
            0,
            "rgb(68,1,84)"
           ],
           [
            0.25,
            "rgb(59,82,139)"
           ],
           [
            0.5,
            "rgb(33,144,141)"
           ],
           [
            0.75,
            "rgb(93,201,99)"
           ],
           [
            1,
            "rgb(253,231,37)"
           ]
          ],
          "line": {
           "color": "rgba(255,255,255,0.2)",
           "width": 1
          },
          "showscale": false,
          "size": 50,
          "symbol": "square"
         },
         "mode": "markers",
         "showlegend": false,
         "type": "scatter",
         "x": [
          5,
          5,
          5,
          5,
          5,
          5,
          5,
          5,
          5,
          5,
          5,
          5,
          5,
          5,
          5,
          5,
          5,
          5,
          5,
          5,
          5,
          5,
          5,
          5,
          5,
          5,
          5,
          5
         ],
         "y": [
          0,
          1,
          2,
          3,
          4,
          5,
          6,
          7,
          8,
          9,
          10,
          11,
          12,
          13,
          14,
          15,
          16,
          17,
          18,
          19,
          20,
          21,
          22,
          23,
          24,
          25,
          26,
          27
         ]
        },
        {
         "hoverinfo": "skip",
         "mode": "text",
         "showlegend": false,
         "text": [
          "53",
          "15",
          "36",
          "48",
          "48",
          "5",
          "59",
          "54",
          "34",
          "42",
          "3",
          "41",
          "2",
          "6",
          "8",
          "18",
          "35",
          "11",
          "52",
          "30",
          "19",
          "12",
          "7",
          "62",
          "50",
          "45",
          "59"
         ],
         "textfont": {
          "color": "white",
          "size": 10
         },
         "textposition": "middle center",
         "type": "scatter",
         "x": [
          4.8,
          4.8,
          4.8,
          4.8,
          4.8,
          4.8,
          4.8,
          4.8,
          4.8,
          4.8,
          4.8,
          4.8,
          4.8,
          4.8,
          4.8,
          4.8,
          4.8,
          4.8,
          4.8,
          4.8,
          4.8,
          4.8,
          4.8,
          4.8,
          4.8,
          4.8,
          4.8
         ],
         "y": [
          1.2,
          2.2,
          3.2,
          4.2,
          5.2,
          6.2,
          7.2,
          8.2,
          9.2,
          10.2,
          11.2,
          12.2,
          13.2,
          14.2,
          15.2,
          16.2,
          17.2,
          18.2,
          19.2,
          20.2,
          21.2,
          22.2,
          23.2,
          24.2,
          25.2,
          26.2,
          27.2
         ]
        },
        {
         "hoverinfo": "skip",
         "mode": "text",
         "showlegend": false,
         "text": [
          "uega"
         ],
         "textfont": {
          "color": "white",
          "size": 10
         },
         "textposition": "middle center",
         "type": "scatter",
         "x": [
          5
         ],
         "y": [
          1
         ]
        },
        {
         "hoverinfo": "skip",
         "mode": "text",
         "showlegend": false,
         "text": [
          "mania"
         ],
         "textfont": {
          "color": "white",
          "size": 10
         },
         "textposition": "middle center",
         "type": "scatter",
         "x": [
          5
         ],
         "y": [
          2
         ]
        },
        {
         "hoverinfo": "skip",
         "mode": "text",
         "showlegend": false,
         "text": [
          "anell"
         ],
         "textfont": {
          "color": "white",
          "size": 10
         },
         "textposition": "middle center",
         "type": "scatter",
         "x": [
          5
         ],
         "y": [
          3
         ]
        },
        {
         "hoverinfo": "skip",
         "mode": "text",
         "showlegend": false,
         "text": [
          "тици"
         ],
         "textfont": {
          "color": "white",
          "size": 10
         },
         "textposition": "middle center",
         "type": "scatter",
         "x": [
          5
         ],
         "y": [
          4
         ]
        },
        {
         "hoverinfo": "skip",
         "mode": "text",
         "showlegend": false,
         "text": [
          "locs"
         ],
         "textfont": {
          "color": "white",
          "size": 10
         },
         "textposition": "middle center",
         "type": "scatter",
         "x": [
          5
         ],
         "y": [
          5
         ]
        },
        {
         "hoverinfo": "skip",
         "mode": "text",
         "showlegend": false,
         "text": [
          "ctica"
         ],
         "textfont": {
          "color": "white",
          "size": 10
         },
         "textposition": "middle center",
         "type": "scatter",
         "x": [
          5
         ],
         "y": [
          6
         ]
        },
        {
         "hoverinfo": "skip",
         "mode": "text",
         "showlegend": false,
         "text": [
          "хрид"
         ],
         "textfont": {
          "color": "white",
          "size": 10
         },
         "textposition": "middle center",
         "type": "scatter",
         "x": [
          5
         ],
         "y": [
          7
         ]
        },
        {
         "hoverinfo": "skip",
         "mode": "text",
         "showlegend": false,
         "text": [
          "iltr"
         ],
         "textfont": {
          "color": "white",
          "size": 10
         },
         "textposition": "middle center",
         "type": "scatter",
         "x": [
          5
         ],
         "y": [
          8
         ]
        },
        {
         "hoverinfo": "skip",
         "mode": "text",
         "showlegend": false,
         "text": [
          "3"
         ],
         "textfont": {
          "color": "white",
          "size": 10
         },
         "textposition": "middle center",
         "type": "scatter",
         "x": [
          5
         ],
         "y": [
          9
         ]
        },
        {
         "hoverinfo": "skip",
         "mode": "text",
         "showlegend": false,
         "text": [
          "Health"
         ],
         "textfont": {
          "color": "white",
          "size": 10
         },
         "textposition": "middle center",
         "type": "scatter",
         "x": [
          5
         ],
         "y": [
          10
         ]
        },
        {
         "hoverinfo": "skip",
         "mode": "text",
         "showlegend": false,
         "text": [
          "�"
         ],
         "textfont": {
          "color": "white",
          "size": 10
         },
         "textposition": "middle center",
         "type": "scatter",
         "x": [
          5
         ],
         "y": [
          11
         ]
        },
        {
         "hoverinfo": "skip",
         "mode": "text",
         "showlegend": false,
         "text": [
          "ove"
         ],
         "textfont": {
          "color": "white",
          "size": 10
         },
         "textposition": "middle center",
         "type": "scatter",
         "x": [
          5
         ],
         "y": [
          12
         ]
        },
        {
         "hoverinfo": "skip",
         "mode": "text",
         "showlegend": false,
         "text": [
          "navList"
         ],
         "textfont": {
          "color": "white",
          "size": 10
         },
         "textposition": "middle center",
         "type": "scatter",
         "x": [
          5
         ],
         "y": [
          13
         ]
        },
        {
         "hoverinfo": "skip",
         "mode": "text",
         "showlegend": false,
         "text": [
          "aras"
         ],
         "textfont": {
          "color": "white",
          "size": 10
         },
         "textposition": "middle center",
         "type": "scatter",
         "x": [
          5
         ],
         "y": [
          14
         ]
        },
        {
         "hoverinfo": "skip",
         "mode": "text",
         "showlegend": false,
         "text": [
          "ILI"
         ],
         "textfont": {
          "color": "white",
          "size": 10
         },
         "textposition": "middle center",
         "type": "scatter",
         "x": [
          5
         ],
         "y": [
          15
         ]
        },
        {
         "hoverinfo": "skip",
         "mode": "text",
         "showlegend": false,
         "text": [
          "itself"
         ],
         "textfont": {
          "color": "white",
          "size": 10
         },
         "textposition": "middle center",
         "type": "scatter",
         "x": [
          5
         ],
         "y": [
          16
         ]
        },
        {
         "hoverinfo": "skip",
         "mode": "text",
         "showlegend": false,
         "text": [
          "3"
         ],
         "textfont": {
          "color": "white",
          "size": 10
         },
         "textposition": "middle center",
         "type": "scatter",
         "x": [
          5
         ],
         "y": [
          17
         ]
        },
        {
         "hoverinfo": "skip",
         "mode": "text",
         "showlegend": false,
         "text": [
          "ROUP"
         ],
         "textfont": {
          "color": "white",
          "size": 10
         },
         "textposition": "middle center",
         "type": "scatter",
         "x": [
          5
         ],
         "y": [
          18
         ]
        },
        {
         "hoverinfo": "skip",
         "mode": "text",
         "showlegend": false,
         "text": [
          "时"
         ],
         "textfont": {
          "color": "white",
          "size": 10
         },
         "textposition": "middle center",
         "type": "scatter",
         "x": [
          5
         ],
         "y": [
          19
         ]
        },
        {
         "hoverinfo": "skip",
         "mode": "text",
         "showlegend": false,
         "text": [
          "itchen"
         ],
         "textfont": {
          "color": "white",
          "size": 10
         },
         "textposition": "middle center",
         "type": "scatter",
         "x": [
          5
         ],
         "y": [
          20
         ]
        },
        {
         "hoverinfo": "skip",
         "mode": "text",
         "showlegend": false,
         "text": [
          "Hope"
         ],
         "textfont": {
          "color": "white",
          "size": 10
         },
         "textposition": "middle center",
         "type": "scatter",
         "x": [
          5
         ],
         "y": [
          21
         ]
        },
        {
         "hoverinfo": "skip",
         "mode": "text",
         "showlegend": false,
         "text": [
          "ints"
         ],
         "textfont": {
          "color": "white",
          "size": 10
         },
         "textposition": "middle center",
         "type": "scatter",
         "x": [
          5
         ],
         "y": [
          22
         ]
        },
        {
         "hoverinfo": "skip",
         "mode": "text",
         "showlegend": false,
         "text": [
          "呢"
         ],
         "textfont": {
          "color": "white",
          "size": 10
         },
         "textposition": "middle center",
         "type": "scatter",
         "x": [
          5
         ],
         "y": [
          23
         ]
        },
        {
         "hoverinfo": "skip",
         "mode": "text",
         "showlegend": false,
         "text": [
          "्"
         ],
         "textfont": {
          "color": "white",
          "size": 10
         },
         "textposition": "middle center",
         "type": "scatter",
         "x": [
          5
         ],
         "y": [
          24
         ]
        },
        {
         "hoverinfo": "skip",
         "mode": "text",
         "showlegend": false,
         "text": [
          "ourselves"
         ],
         "textfont": {
          "color": "white",
          "size": 10
         },
         "textposition": "middle center",
         "type": "scatter",
         "x": [
          5
         ],
         "y": [
          25
         ]
        },
        {
         "hoverinfo": "skip",
         "mode": "text",
         "showlegend": false,
         "text": [
          " stable"
         ],
         "textfont": {
          "color": "white",
          "size": 10
         },
         "textposition": "middle center",
         "type": "scatter",
         "x": [
          5
         ],
         "y": [
          26
         ]
        },
        {
         "hoverinfo": "skip",
         "mode": "text",
         "showlegend": false,
         "text": [
          " admissible"
         ],
         "textfont": {
          "color": "white",
          "size": 10
         },
         "textposition": "middle center",
         "type": "scatter",
         "x": [
          5
         ],
         "y": [
          27
         ]
        },
        {
         "hoverinfo": "text",
         "hovertext": [
          "Layer 0 expert_6:<br>No data",
          "Layer 1 expert 15 (logit: 0.029):<br>ала: 0.029<br>escan: 0.028<br>дена: 0.027<br>пте: 0.027<br>�: 0.027",
          "Layer 2 expert 31 (logit: 0.006):<br>escut: 0.006<br>HDA: 0.006<br>HandleTypeDef: 0.005<br>гане: 0.005<br>станбул: 0.005",
          "Layer 3 expert 52 (logit: 0.049):<br>дски: 0.049<br>onstr: 0.047<br>inats: 0.043<br> Стра: 0.043<br>idot: 0.042",
          "Layer 4 expert 25 (logit: 0.122):<br>orent: 0.122<br>uesa: 0.113<br>luence: 0.109<br>olev: 0.106<br>ROUP: 0.106",
          "Layer 5 expert 15 (logit: 0.080):<br>绿: 0.080<br> ЦК: 0.079<br>imal: 0.078<br>TRIM: 0.078<br>роден: 0.078",
          "Layer 6 expert 1 (logit: 0.097):<br>ляне: 0.097<br>roll: 0.093<br>rock: 0.090<br>тари: 0.088<br>fts: 0.086",
          "Layer 7 expert 20 (logit: 0.113):<br>бул: 0.113<br>върх: 0.107<br>беле: 0.106<br>动作: 0.106<br>activate: 0.104",
          "Layer 8 expert 19 (logit: 0.097):<br>hes: 0.097<br>函: 0.083<br>лище: 0.078<br>sh: 0.077<br>het: 0.077",
          "Layer 9 expert 13 (logit: 0.087):<br>лиза: 0.087<br>区域的: 0.086<br>iled: 0.085<br>жа: 0.084<br> зла: 0.081",
          "Layer 10 expert 19 (logit: 0.103):<br>ipage: 0.103<br> лице: 0.097<br>t: 0.096<br> tot: 0.094<br>enko: 0.092",
          "Layer 11 expert 35 (logit: 0.181):<br>ксел: 0.181<br>apsed: 0.176<br>estrat: 0.169<br>agena: 0.165<br> Zem: 0.157",
          "Layer 12 expert 11 (logit: 0.133):<br> next: 0.133<br>next: 0.132<br> uniform: 0.130<br> NEXT: 0.113<br>ели: 0.110",
          "Layer 13 expert 50 (logit: 0.291):<br>'>&: 0.291<br>否: 0.260<br> XXV: 0.248<br>Ни: 0.246<br>ezna: 0.243",
          "Layer 14 expert 59 (logit: 0.213):<br>topNav: 0.213<br> Tank: 0.200<br> Academ: 0.191<br>eway: 0.184<br>ipher: 0.182",
          "Layer 15 expert 50 (logit: 0.330):<br>oint: 0.330<br>estar: 0.322<br> potes: 0.291<br> ::: 0.280<br>hores: 0.278",
          "Layer 16 expert 3 (logit: 0.175):<br>anet: 0.175<br> widows: 0.175<br>吐: 0.173<br> semantic: 0.164<br>icol: 0.163",
          "Layer 17 expert 29 (logit: 0.355):<br>�起: 0.355<br>,-.: 0.352<br>initat: 0.346<br>管: 0.342<br>jos: 0.338",
          "Layer 18 expert 41 (logit: 0.163):<br>�: 0.163<br>evo: 0.149<br>quar: 0.141<br>oys: 0.141<br>孤: 0.141",
          "Layer 19 expert 56 (logit: 0.183):<br>isc: 0.183<br>pp: 0.179<br>es: 0.163<br>тена: 0.162<br>Zones: 0.157",
          "Layer 20 expert 14 (logit: 0.207):<br>的是什么: 0.207<br>的呢: 0.195<br>inum: 0.185<br>的是: 0.185<br>ymoon: 0.184",
          "Layer 21 expert 14 (logit: 0.515):<br> by: 0.515<br>by: 0.453<br>p: 0.360<br>f: 0.330<br>By: 0.322",
          "Layer 22 expert 63 (logit: 0.227):<br>uc: 0.227<br>wav: 0.221<br> tant: 0.216<br>бла: 0.212<br>pe: 0.210",
          "Layer 23 expert 54 (logit: 0.284):<br>榄: 0.284<br>akala: 0.267<br>erti: 0.261<br>рас: 0.254<br>tzmann: 0.247",
          "Layer 24 expert 32 (logit: 0.636):<br> /**: 0.636<br>Ljava: 0.622<br>/^: 0.613<br>/(\\: 0.612<br>干燥: 0.606",
          "Layer 25 expert 14 (logit: 1.021):<br>teness: 1.021<br> return: 0.925<br> RETURNS: 0.893<br>Returns: 0.883<br>know: 0.872",
          "Layer 26 expert 34 (logit: 0.276):<br>нгар: 0.276<br>itori: 0.273<br>illac: 0.270<br>icion: 0.243<br>iats: 0.242",
          "Layer 27 expert 15 (logit: 0.107):<br> enp: 0.107<br>pots: 0.107<br> overtake: 0.105<br>astes: 0.103<br>arers: 0.103"
         ],
         "marker": {
          "cmax": 57.40625,
          "cmin": 0.006275177001953125,
          "color": [
           null,
           0.0287322998046875,
           0.006275177001953125,
           0.049285888671875,
           0.12152099609375,
           0.08038330078125,
           0.0970458984375,
           0.11273193359375,
           0.09747314453125,
           0.0872802734375,
           0.10333251953125,
           0.1806640625,
           0.1329345703125,
           0.29052734375,
           0.2127685546875,
           0.330322265625,
           0.1754150390625,
           0.35498046875,
           0.16259765625,
           0.1826171875,
           0.2073974609375,
           0.51513671875,
           0.22705078125,
           0.283935546875,
           0.63623046875,
           1.0205078125,
           0.275634765625,
           0.10675048828125
          ],
          "colorscale": [
           [
            0,
            "rgb(68,1,84)"
           ],
           [
            0.25,
            "rgb(59,82,139)"
           ],
           [
            0.5,
            "rgb(33,144,141)"
           ],
           [
            0.75,
            "rgb(93,201,99)"
           ],
           [
            1,
            "rgb(253,231,37)"
           ]
          ],
          "line": {
           "color": "rgba(255,255,255,0.2)",
           "width": 1
          },
          "showscale": false,
          "size": 50,
          "symbol": "square"
         },
         "mode": "markers",
         "showlegend": false,
         "type": "scatter",
         "x": [
          6,
          6,
          6,
          6,
          6,
          6,
          6,
          6,
          6,
          6,
          6,
          6,
          6,
          6,
          6,
          6,
          6,
          6,
          6,
          6,
          6,
          6,
          6,
          6,
          6,
          6,
          6,
          6
         ],
         "y": [
          0,
          1,
          2,
          3,
          4,
          5,
          6,
          7,
          8,
          9,
          10,
          11,
          12,
          13,
          14,
          15,
          16,
          17,
          18,
          19,
          20,
          21,
          22,
          23,
          24,
          25,
          26,
          27
         ]
        },
        {
         "hoverinfo": "skip",
         "mode": "text",
         "showlegend": false,
         "text": [
          "15",
          "31",
          "52",
          "25",
          "15",
          "1",
          "20",
          "19",
          "13",
          "19",
          "35",
          "11",
          "50",
          "59",
          "50",
          "3",
          "29",
          "41",
          "56",
          "14",
          "14",
          "63",
          "54",
          "32",
          "14",
          "34",
          "15"
         ],
         "textfont": {
          "color": "white",
          "size": 10
         },
         "textposition": "middle center",
         "type": "scatter",
         "x": [
          5.8,
          5.8,
          5.8,
          5.8,
          5.8,
          5.8,
          5.8,
          5.8,
          5.8,
          5.8,
          5.8,
          5.8,
          5.8,
          5.8,
          5.8,
          5.8,
          5.8,
          5.8,
          5.8,
          5.8,
          5.8,
          5.8,
          5.8,
          5.8,
          5.8,
          5.8,
          5.8
         ],
         "y": [
          1.2,
          2.2,
          3.2,
          4.2,
          5.2,
          6.2,
          7.2,
          8.2,
          9.2,
          10.2,
          11.2,
          12.2,
          13.2,
          14.2,
          15.2,
          16.2,
          17.2,
          18.2,
          19.2,
          20.2,
          21.2,
          22.2,
          23.2,
          24.2,
          25.2,
          26.2,
          27.2
         ]
        },
        {
         "hoverinfo": "skip",
         "mode": "text",
         "showlegend": false,
         "text": [
          "ала"
         ],
         "textfont": {
          "color": "white",
          "size": 10
         },
         "textposition": "middle center",
         "type": "scatter",
         "x": [
          6
         ],
         "y": [
          1
         ]
        },
        {
         "hoverinfo": "skip",
         "mode": "text",
         "showlegend": false,
         "text": [
          "escut"
         ],
         "textfont": {
          "color": "white",
          "size": 10
         },
         "textposition": "middle center",
         "type": "scatter",
         "x": [
          6
         ],
         "y": [
          2
         ]
        },
        {
         "hoverinfo": "skip",
         "mode": "text",
         "showlegend": false,
         "text": [
          "дски"
         ],
         "textfont": {
          "color": "white",
          "size": 10
         },
         "textposition": "middle center",
         "type": "scatter",
         "x": [
          6
         ],
         "y": [
          3
         ]
        },
        {
         "hoverinfo": "skip",
         "mode": "text",
         "showlegend": false,
         "text": [
          "orent"
         ],
         "textfont": {
          "color": "white",
          "size": 10
         },
         "textposition": "middle center",
         "type": "scatter",
         "x": [
          6
         ],
         "y": [
          4
         ]
        },
        {
         "hoverinfo": "skip",
         "mode": "text",
         "showlegend": false,
         "text": [
          "绿"
         ],
         "textfont": {
          "color": "white",
          "size": 10
         },
         "textposition": "middle center",
         "type": "scatter",
         "x": [
          6
         ],
         "y": [
          5
         ]
        },
        {
         "hoverinfo": "skip",
         "mode": "text",
         "showlegend": false,
         "text": [
          "ляне"
         ],
         "textfont": {
          "color": "white",
          "size": 10
         },
         "textposition": "middle center",
         "type": "scatter",
         "x": [
          6
         ],
         "y": [
          6
         ]
        },
        {
         "hoverinfo": "skip",
         "mode": "text",
         "showlegend": false,
         "text": [
          "бул"
         ],
         "textfont": {
          "color": "white",
          "size": 10
         },
         "textposition": "middle center",
         "type": "scatter",
         "x": [
          6
         ],
         "y": [
          7
         ]
        },
        {
         "hoverinfo": "skip",
         "mode": "text",
         "showlegend": false,
         "text": [
          "hes"
         ],
         "textfont": {
          "color": "white",
          "size": 10
         },
         "textposition": "middle center",
         "type": "scatter",
         "x": [
          6
         ],
         "y": [
          8
         ]
        },
        {
         "hoverinfo": "skip",
         "mode": "text",
         "showlegend": false,
         "text": [
          "лиза"
         ],
         "textfont": {
          "color": "white",
          "size": 10
         },
         "textposition": "middle center",
         "type": "scatter",
         "x": [
          6
         ],
         "y": [
          9
         ]
        },
        {
         "hoverinfo": "skip",
         "mode": "text",
         "showlegend": false,
         "text": [
          "ipage"
         ],
         "textfont": {
          "color": "white",
          "size": 10
         },
         "textposition": "middle center",
         "type": "scatter",
         "x": [
          6
         ],
         "y": [
          10
         ]
        },
        {
         "hoverinfo": "skip",
         "mode": "text",
         "showlegend": false,
         "text": [
          "ксел"
         ],
         "textfont": {
          "color": "white",
          "size": 10
         },
         "textposition": "middle center",
         "type": "scatter",
         "x": [
          6
         ],
         "y": [
          11
         ]
        },
        {
         "hoverinfo": "skip",
         "mode": "text",
         "showlegend": false,
         "text": [
          " next"
         ],
         "textfont": {
          "color": "white",
          "size": 10
         },
         "textposition": "middle center",
         "type": "scatter",
         "x": [
          6
         ],
         "y": [
          12
         ]
        },
        {
         "hoverinfo": "skip",
         "mode": "text",
         "showlegend": false,
         "text": [
          "'>&"
         ],
         "textfont": {
          "color": "white",
          "size": 10
         },
         "textposition": "middle center",
         "type": "scatter",
         "x": [
          6
         ],
         "y": [
          13
         ]
        },
        {
         "hoverinfo": "skip",
         "mode": "text",
         "showlegend": false,
         "text": [
          "topNav"
         ],
         "textfont": {
          "color": "white",
          "size": 10
         },
         "textposition": "middle center",
         "type": "scatter",
         "x": [
          6
         ],
         "y": [
          14
         ]
        },
        {
         "hoverinfo": "skip",
         "mode": "text",
         "showlegend": false,
         "text": [
          "oint"
         ],
         "textfont": {
          "color": "white",
          "size": 10
         },
         "textposition": "middle center",
         "type": "scatter",
         "x": [
          6
         ],
         "y": [
          15
         ]
        },
        {
         "hoverinfo": "skip",
         "mode": "text",
         "showlegend": false,
         "text": [
          "anet"
         ],
         "textfont": {
          "color": "white",
          "size": 10
         },
         "textposition": "middle center",
         "type": "scatter",
         "x": [
          6
         ],
         "y": [
          16
         ]
        },
        {
         "hoverinfo": "skip",
         "mode": "text",
         "showlegend": false,
         "text": [
          "�起"
         ],
         "textfont": {
          "color": "white",
          "size": 10
         },
         "textposition": "middle center",
         "type": "scatter",
         "x": [
          6
         ],
         "y": [
          17
         ]
        },
        {
         "hoverinfo": "skip",
         "mode": "text",
         "showlegend": false,
         "text": [
          "�"
         ],
         "textfont": {
          "color": "white",
          "size": 10
         },
         "textposition": "middle center",
         "type": "scatter",
         "x": [
          6
         ],
         "y": [
          18
         ]
        },
        {
         "hoverinfo": "skip",
         "mode": "text",
         "showlegend": false,
         "text": [
          "isc"
         ],
         "textfont": {
          "color": "white",
          "size": 10
         },
         "textposition": "middle center",
         "type": "scatter",
         "x": [
          6
         ],
         "y": [
          19
         ]
        },
        {
         "hoverinfo": "skip",
         "mode": "text",
         "showlegend": false,
         "text": [
          "的是什么"
         ],
         "textfont": {
          "color": "white",
          "size": 10
         },
         "textposition": "middle center",
         "type": "scatter",
         "x": [
          6
         ],
         "y": [
          20
         ]
        },
        {
         "hoverinfo": "skip",
         "mode": "text",
         "showlegend": false,
         "text": [
          " by"
         ],
         "textfont": {
          "color": "white",
          "size": 10
         },
         "textposition": "middle center",
         "type": "scatter",
         "x": [
          6
         ],
         "y": [
          21
         ]
        },
        {
         "hoverinfo": "skip",
         "mode": "text",
         "showlegend": false,
         "text": [
          "uc"
         ],
         "textfont": {
          "color": "white",
          "size": 10
         },
         "textposition": "middle center",
         "type": "scatter",
         "x": [
          6
         ],
         "y": [
          22
         ]
        },
        {
         "hoverinfo": "skip",
         "mode": "text",
         "showlegend": false,
         "text": [
          "榄"
         ],
         "textfont": {
          "color": "white",
          "size": 10
         },
         "textposition": "middle center",
         "type": "scatter",
         "x": [
          6
         ],
         "y": [
          23
         ]
        },
        {
         "hoverinfo": "skip",
         "mode": "text",
         "showlegend": false,
         "text": [
          " /**"
         ],
         "textfont": {
          "color": "white",
          "size": 10
         },
         "textposition": "middle center",
         "type": "scatter",
         "x": [
          6
         ],
         "y": [
          24
         ]
        },
        {
         "hoverinfo": "skip",
         "mode": "text",
         "showlegend": false,
         "text": [
          "teness"
         ],
         "textfont": {
          "color": "white",
          "size": 10
         },
         "textposition": "middle center",
         "type": "scatter",
         "x": [
          6
         ],
         "y": [
          25
         ]
        },
        {
         "hoverinfo": "skip",
         "mode": "text",
         "showlegend": false,
         "text": [
          "нгар"
         ],
         "textfont": {
          "color": "white",
          "size": 10
         },
         "textposition": "middle center",
         "type": "scatter",
         "x": [
          6
         ],
         "y": [
          26
         ]
        },
        {
         "hoverinfo": "skip",
         "mode": "text",
         "showlegend": false,
         "text": [
          " enp"
         ],
         "textfont": {
          "color": "white",
          "size": 10
         },
         "textposition": "middle center",
         "type": "scatter",
         "x": [
          6
         ],
         "y": [
          27
         ]
        },
        {
         "hoverinfo": "text",
         "hovertext": [
          "Layer 0 shared:<br>No data",
          "Layer 1 shared (logit: 0.112):<br>#:: 0.112<br>4: 0.106<br>丹: 0.104<br>汇: 0.101<br>jo: 0.101",
          "Layer 2 shared (logit: 0.276):<br>our: 0.276<br>diy: 0.250<br>shire: 0.241<br> nuestra: 0.236<br>splash: 0.233",
          "Layer 3 shared (logit: 0.454):<br>SION: 0.454<br>Collapse: 0.441<br>azole: 0.424<br>idon: 0.393<br>nance: 0.386",
          "Layer 4 shared (logit: 0.564):<br>googleads: 0.564<br>childnode: 0.554<br>nexi: 0.552<br>llar: 0.541<br>ctree: 0.539",
          "Layer 5 shared (logit: 0.720):<br>�乐: 0.720<br>jena: 0.631<br>ionista: 0.615<br>enya: 0.613<br>bera: 0.613",
          "Layer 6 shared (logit: 0.747):<br> CTx: 0.747<br>础: 0.695<br>urat: 0.644<br>escenari: 0.631<br>Llista: 0.619",
          "Layer 7 shared (logit: 0.763):<br>ovember: 0.763<br>�: 0.729<br>阱: 0.685<br>Bear: 0.679<br> : 0.667",
          "Layer 8 shared (logit: 0.854):<br>itsch: 0.854<br>anguard: 0.757<br>ionar: 0.756<br>Loss: 0.753<br>挂: 0.733",
          "Layer 9 shared (logit: 0.870):<br> rebre: 0.870<br> cou: 0.869<br>跟鞋: 0.854<br>unga: 0.831<br>艺: 0.781",
          "Layer 10 shared (logit: 0.994):<br> neutr: 0.994<br>erme: 0.915<br>ssf: 0.879<br> BAT: 0.872<br>忍: 0.864",
          "Layer 11 shared (logit: 0.971):<br>ttes: 0.971<br>стани: 0.873<br>aghetti: 0.864<br>рел: 0.854<br>outs: 0.843",
          "Layer 12 shared (logit: 0.821):<br>ret: 0.821<br>etting: 0.810<br>autore: 0.744<br>RET: 0.735<br>Ret: 0.727",
          "Layer 13 shared (logit: 0.833):<br> mil: 0.833<br> sanc: 0.810<br>Lint: 0.795<br> Style: 0.763<br> style: 0.754",
          "Layer 14 shared (logit: 1.039):<br>边: 1.039<br>�: 1.030<br>oming: 0.994<br>matically: 0.923<br>nima: 0.898",
          "Layer 15 shared (logit: 1.112):<br>isel: 1.112<br>Жени: 1.066<br> Купа: 1.011<br> Бур: 0.966<br> seca: 0.957",
          "Layer 16 shared (logit: 1.287):<br> Channel: 1.287<br>Channel: 1.275<br>s: 1.267<br>nox: 1.199<br>сей: 1.186",
          "Layer 17 shared (logit: 1.488):<br>� : 1.488<br>sona: 1.423<br>ITLE: 1.354<br>зву: 1.339<br>在家: 1.319",
          "Layer 18 shared (logit: 1.207):<br>PREC: 1.207<br>Llista: 1.196<br>aqui: 1.131<br>aquella: 1.129<br> drogues: 1.125",
          "Layer 19 shared (logit: 1.368):<br> -: 1.368<br> \": 1.343<br> ...: 1.217<br> : 1.206<br>...: 1.138",
          "Layer 20 shared (logit: 1.185):<br>lig: 1.185<br>vos: 1.142<br> cuales: 1.140<br>﻿﻿﻿﻿: 1.139<br> gra: 1.119",
          "Layer 21 shared (logit: 1.373):<br>�: 1.373<br>琦: 1.268<br>engu: 1.268<br>�: 1.190<br>ASA: 1.183",
          "Layer 22 shared (logit: 1.383):<br>任何: 1.383<br>anywhere: 1.309<br>ANY: 1.283<br> любо: 1.267<br>\ton: 1.191",
          "Layer 23 shared (logit: 1.684):<br> Llengu: 1.684<br> integraven: 1.599<br>timologia: 1.554<br>uedes: 1.513<br> aturades: 1.501",
          "Layer 24 shared (logit: 1.592):<br> пореди: 1.592<br>ENE: 1.411<br> замъ: 1.285<br>венту: 1.283<br> препратки: 1.267",
          "Layer 25 shared (logit: 6.859):<br>,: 6.859<br> : 6.086<br>\n: 5.832<br>.: 4.914<br> -: 4.773",
          "Layer 26 shared (logit: 25.406):<br> : 25.406<br>\n: 23.203<br> \": 20.828<br>,: 20.562<br> (: 20.406",
          "Layer 27 shared (logit: 30.344):<br>,: 30.344<br> en: 28.641<br> : 27.984<br>.: 27.422<br>-: 27.391"
         ],
         "marker": {
          "cmax": 57.40625,
          "cmin": 0.006275177001953125,
          "color": [
           null,
           0.1124267578125,
           0.27587890625,
           0.45361328125,
           0.564453125,
           0.72021484375,
           0.7470703125,
           0.76318359375,
           0.85400390625,
           0.86962890625,
           0.994140625,
           0.97119140625,
           0.8212890625,
           0.83251953125,
           1.0390625,
           1.1123046875,
           1.287109375,
           1.48828125,
           1.20703125,
           1.3681640625,
           1.1845703125,
           1.373046875,
           1.3828125,
           1.68359375,
           1.591796875,
           6.859375,
           25.40625,
           30.34375
          ],
          "colorscale": [
           [
            0,
            "rgb(68,1,84)"
           ],
           [
            0.25,
            "rgb(59,82,139)"
           ],
           [
            0.5,
            "rgb(33,144,141)"
           ],
           [
            0.75,
            "rgb(93,201,99)"
           ],
           [
            1,
            "rgb(253,231,37)"
           ]
          ],
          "line": {
           "color": "rgba(255,255,255,0.2)",
           "width": 1
          },
          "showscale": false,
          "size": 50,
          "symbol": "square"
         },
         "mode": "markers",
         "showlegend": false,
         "type": "scatter",
         "x": [
          7,
          7,
          7,
          7,
          7,
          7,
          7,
          7,
          7,
          7,
          7,
          7,
          7,
          7,
          7,
          7,
          7,
          7,
          7,
          7,
          7,
          7,
          7,
          7,
          7,
          7,
          7,
          7
         ],
         "y": [
          0,
          1,
          2,
          3,
          4,
          5,
          6,
          7,
          8,
          9,
          10,
          11,
          12,
          13,
          14,
          15,
          16,
          17,
          18,
          19,
          20,
          21,
          22,
          23,
          24,
          25,
          26,
          27
         ]
        },
        {
         "hoverinfo": "skip",
         "mode": "text",
         "showlegend": false,
         "text": [
          "#:"
         ],
         "textfont": {
          "color": "white",
          "size": 10
         },
         "textposition": "middle center",
         "type": "scatter",
         "x": [
          7
         ],
         "y": [
          1
         ]
        },
        {
         "hoverinfo": "skip",
         "mode": "text",
         "showlegend": false,
         "text": [
          "our"
         ],
         "textfont": {
          "color": "white",
          "size": 10
         },
         "textposition": "middle center",
         "type": "scatter",
         "x": [
          7
         ],
         "y": [
          2
         ]
        },
        {
         "hoverinfo": "skip",
         "mode": "text",
         "showlegend": false,
         "text": [
          "SION"
         ],
         "textfont": {
          "color": "white",
          "size": 10
         },
         "textposition": "middle center",
         "type": "scatter",
         "x": [
          7
         ],
         "y": [
          3
         ]
        },
        {
         "hoverinfo": "skip",
         "mode": "text",
         "showlegend": false,
         "text": [
          "googleads"
         ],
         "textfont": {
          "color": "white",
          "size": 10
         },
         "textposition": "middle center",
         "type": "scatter",
         "x": [
          7
         ],
         "y": [
          4
         ]
        },
        {
         "hoverinfo": "skip",
         "mode": "text",
         "showlegend": false,
         "text": [
          "�乐"
         ],
         "textfont": {
          "color": "white",
          "size": 10
         },
         "textposition": "middle center",
         "type": "scatter",
         "x": [
          7
         ],
         "y": [
          5
         ]
        },
        {
         "hoverinfo": "skip",
         "mode": "text",
         "showlegend": false,
         "text": [
          " CTx"
         ],
         "textfont": {
          "color": "white",
          "size": 10
         },
         "textposition": "middle center",
         "type": "scatter",
         "x": [
          7
         ],
         "y": [
          6
         ]
        },
        {
         "hoverinfo": "skip",
         "mode": "text",
         "showlegend": false,
         "text": [
          "ovember"
         ],
         "textfont": {
          "color": "white",
          "size": 10
         },
         "textposition": "middle center",
         "type": "scatter",
         "x": [
          7
         ],
         "y": [
          7
         ]
        },
        {
         "hoverinfo": "skip",
         "mode": "text",
         "showlegend": false,
         "text": [
          "itsch"
         ],
         "textfont": {
          "color": "white",
          "size": 10
         },
         "textposition": "middle center",
         "type": "scatter",
         "x": [
          7
         ],
         "y": [
          8
         ]
        },
        {
         "hoverinfo": "skip",
         "mode": "text",
         "showlegend": false,
         "text": [
          " rebre"
         ],
         "textfont": {
          "color": "white",
          "size": 10
         },
         "textposition": "middle center",
         "type": "scatter",
         "x": [
          7
         ],
         "y": [
          9
         ]
        },
        {
         "hoverinfo": "skip",
         "mode": "text",
         "showlegend": false,
         "text": [
          " neutr"
         ],
         "textfont": {
          "color": "white",
          "size": 10
         },
         "textposition": "middle center",
         "type": "scatter",
         "x": [
          7
         ],
         "y": [
          10
         ]
        },
        {
         "hoverinfo": "skip",
         "mode": "text",
         "showlegend": false,
         "text": [
          "ttes"
         ],
         "textfont": {
          "color": "white",
          "size": 10
         },
         "textposition": "middle center",
         "type": "scatter",
         "x": [
          7
         ],
         "y": [
          11
         ]
        },
        {
         "hoverinfo": "skip",
         "mode": "text",
         "showlegend": false,
         "text": [
          "ret"
         ],
         "textfont": {
          "color": "white",
          "size": 10
         },
         "textposition": "middle center",
         "type": "scatter",
         "x": [
          7
         ],
         "y": [
          12
         ]
        },
        {
         "hoverinfo": "skip",
         "mode": "text",
         "showlegend": false,
         "text": [
          " mil"
         ],
         "textfont": {
          "color": "white",
          "size": 10
         },
         "textposition": "middle center",
         "type": "scatter",
         "x": [
          7
         ],
         "y": [
          13
         ]
        },
        {
         "hoverinfo": "skip",
         "mode": "text",
         "showlegend": false,
         "text": [
          "边"
         ],
         "textfont": {
          "color": "white",
          "size": 10
         },
         "textposition": "middle center",
         "type": "scatter",
         "x": [
          7
         ],
         "y": [
          14
         ]
        },
        {
         "hoverinfo": "skip",
         "mode": "text",
         "showlegend": false,
         "text": [
          "isel"
         ],
         "textfont": {
          "color": "white",
          "size": 10
         },
         "textposition": "middle center",
         "type": "scatter",
         "x": [
          7
         ],
         "y": [
          15
         ]
        },
        {
         "hoverinfo": "skip",
         "mode": "text",
         "showlegend": false,
         "text": [
          " Channel"
         ],
         "textfont": {
          "color": "white",
          "size": 10
         },
         "textposition": "middle center",
         "type": "scatter",
         "x": [
          7
         ],
         "y": [
          16
         ]
        },
        {
         "hoverinfo": "skip",
         "mode": "text",
         "showlegend": false,
         "text": [
          "� "
         ],
         "textfont": {
          "color": "white",
          "size": 10
         },
         "textposition": "middle center",
         "type": "scatter",
         "x": [
          7
         ],
         "y": [
          17
         ]
        },
        {
         "hoverinfo": "skip",
         "mode": "text",
         "showlegend": false,
         "text": [
          "PREC"
         ],
         "textfont": {
          "color": "white",
          "size": 10
         },
         "textposition": "middle center",
         "type": "scatter",
         "x": [
          7
         ],
         "y": [
          18
         ]
        },
        {
         "hoverinfo": "skip",
         "mode": "text",
         "showlegend": false,
         "text": [
          " -"
         ],
         "textfont": {
          "color": "white",
          "size": 10
         },
         "textposition": "middle center",
         "type": "scatter",
         "x": [
          7
         ],
         "y": [
          19
         ]
        },
        {
         "hoverinfo": "skip",
         "mode": "text",
         "showlegend": false,
         "text": [
          "lig"
         ],
         "textfont": {
          "color": "white",
          "size": 10
         },
         "textposition": "middle center",
         "type": "scatter",
         "x": [
          7
         ],
         "y": [
          20
         ]
        },
        {
         "hoverinfo": "skip",
         "mode": "text",
         "showlegend": false,
         "text": [
          "�"
         ],
         "textfont": {
          "color": "white",
          "size": 10
         },
         "textposition": "middle center",
         "type": "scatter",
         "x": [
          7
         ],
         "y": [
          21
         ]
        },
        {
         "hoverinfo": "skip",
         "mode": "text",
         "showlegend": false,
         "text": [
          "任何"
         ],
         "textfont": {
          "color": "white",
          "size": 10
         },
         "textposition": "middle center",
         "type": "scatter",
         "x": [
          7
         ],
         "y": [
          22
         ]
        },
        {
         "hoverinfo": "skip",
         "mode": "text",
         "showlegend": false,
         "text": [
          " Llengu"
         ],
         "textfont": {
          "color": "white",
          "size": 10
         },
         "textposition": "middle center",
         "type": "scatter",
         "x": [
          7
         ],
         "y": [
          23
         ]
        },
        {
         "hoverinfo": "skip",
         "mode": "text",
         "showlegend": false,
         "text": [
          " пореди"
         ],
         "textfont": {
          "color": "white",
          "size": 10
         },
         "textposition": "middle center",
         "type": "scatter",
         "x": [
          7
         ],
         "y": [
          24
         ]
        },
        {
         "hoverinfo": "skip",
         "mode": "text",
         "showlegend": false,
         "text": [
          ","
         ],
         "textfont": {
          "color": "white",
          "size": 10
         },
         "textposition": "middle center",
         "type": "scatter",
         "x": [
          7
         ],
         "y": [
          25
         ]
        },
        {
         "hoverinfo": "skip",
         "mode": "text",
         "showlegend": false,
         "text": [
          " "
         ],
         "textfont": {
          "color": "white",
          "size": 10
         },
         "textposition": "middle center",
         "type": "scatter",
         "x": [
          7
         ],
         "y": [
          26
         ]
        },
        {
         "hoverinfo": "skip",
         "mode": "text",
         "showlegend": false,
         "text": [
          ","
         ],
         "textfont": {
          "color": "black",
          "size": 10
         },
         "textposition": "middle center",
         "type": "scatter",
         "x": [
          7
         ],
         "y": [
          27
         ]
        }
       ],
       "layout": {
        "height": 2900,
        "hovermode": "closest",
        "margin": {
         "b": 100,
         "l": 50,
         "r": 50,
         "t": 100
        },
        "paper_bgcolor": "rgb(17,17,17)",
        "plot_bgcolor": "rgb(17,17,17)",
        "template": {
         "data": {
          "bar": [
           {
            "error_x": {
             "color": "#2a3f5f"
            },
            "error_y": {
             "color": "#2a3f5f"
            },
            "marker": {
             "line": {
              "color": "#E5ECF6",
              "width": 0.5
             },
             "pattern": {
              "fillmode": "overlay",
              "size": 10,
              "solidity": 0.2
             }
            },
            "type": "bar"
           }
          ],
          "barpolar": [
           {
            "marker": {
             "line": {
              "color": "#E5ECF6",
              "width": 0.5
             },
             "pattern": {
              "fillmode": "overlay",
              "size": 10,
              "solidity": 0.2
             }
            },
            "type": "barpolar"
           }
          ],
          "carpet": [
           {
            "aaxis": {
             "endlinecolor": "#2a3f5f",
             "gridcolor": "white",
             "linecolor": "white",
             "minorgridcolor": "white",
             "startlinecolor": "#2a3f5f"
            },
            "baxis": {
             "endlinecolor": "#2a3f5f",
             "gridcolor": "white",
             "linecolor": "white",
             "minorgridcolor": "white",
             "startlinecolor": "#2a3f5f"
            },
            "type": "carpet"
           }
          ],
          "choropleth": [
           {
            "colorbar": {
             "outlinewidth": 0,
             "ticks": ""
            },
            "type": "choropleth"
           }
          ],
          "contour": [
           {
            "colorbar": {
             "outlinewidth": 0,
             "ticks": ""
            },
            "colorscale": [
             [
              0,
              "#0d0887"
             ],
             [
              0.1111111111111111,
              "#46039f"
             ],
             [
              0.2222222222222222,
              "#7201a8"
             ],
             [
              0.3333333333333333,
              "#9c179e"
             ],
             [
              0.4444444444444444,
              "#bd3786"
             ],
             [
              0.5555555555555556,
              "#d8576b"
             ],
             [
              0.6666666666666666,
              "#ed7953"
             ],
             [
              0.7777777777777778,
              "#fb9f3a"
             ],
             [
              0.8888888888888888,
              "#fdca26"
             ],
             [
              1,
              "#f0f921"
             ]
            ],
            "type": "contour"
           }
          ],
          "contourcarpet": [
           {
            "colorbar": {
             "outlinewidth": 0,
             "ticks": ""
            },
            "type": "contourcarpet"
           }
          ],
          "heatmap": [
           {
            "colorbar": {
             "outlinewidth": 0,
             "ticks": ""
            },
            "colorscale": [
             [
              0,
              "#0d0887"
             ],
             [
              0.1111111111111111,
              "#46039f"
             ],
             [
              0.2222222222222222,
              "#7201a8"
             ],
             [
              0.3333333333333333,
              "#9c179e"
             ],
             [
              0.4444444444444444,
              "#bd3786"
             ],
             [
              0.5555555555555556,
              "#d8576b"
             ],
             [
              0.6666666666666666,
              "#ed7953"
             ],
             [
              0.7777777777777778,
              "#fb9f3a"
             ],
             [
              0.8888888888888888,
              "#fdca26"
             ],
             [
              1,
              "#f0f921"
             ]
            ],
            "type": "heatmap"
           }
          ],
          "heatmapgl": [
           {
            "colorbar": {
             "outlinewidth": 0,
             "ticks": ""
            },
            "colorscale": [
             [
              0,
              "#0d0887"
             ],
             [
              0.1111111111111111,
              "#46039f"
             ],
             [
              0.2222222222222222,
              "#7201a8"
             ],
             [
              0.3333333333333333,
              "#9c179e"
             ],
             [
              0.4444444444444444,
              "#bd3786"
             ],
             [
              0.5555555555555556,
              "#d8576b"
             ],
             [
              0.6666666666666666,
              "#ed7953"
             ],
             [
              0.7777777777777778,
              "#fb9f3a"
             ],
             [
              0.8888888888888888,
              "#fdca26"
             ],
             [
              1,
              "#f0f921"
             ]
            ],
            "type": "heatmapgl"
           }
          ],
          "histogram": [
           {
            "marker": {
             "pattern": {
              "fillmode": "overlay",
              "size": 10,
              "solidity": 0.2
             }
            },
            "type": "histogram"
           }
          ],
          "histogram2d": [
           {
            "colorbar": {
             "outlinewidth": 0,
             "ticks": ""
            },
            "colorscale": [
             [
              0,
              "#0d0887"
             ],
             [
              0.1111111111111111,
              "#46039f"
             ],
             [
              0.2222222222222222,
              "#7201a8"
             ],
             [
              0.3333333333333333,
              "#9c179e"
             ],
             [
              0.4444444444444444,
              "#bd3786"
             ],
             [
              0.5555555555555556,
              "#d8576b"
             ],
             [
              0.6666666666666666,
              "#ed7953"
             ],
             [
              0.7777777777777778,
              "#fb9f3a"
             ],
             [
              0.8888888888888888,
              "#fdca26"
             ],
             [
              1,
              "#f0f921"
             ]
            ],
            "type": "histogram2d"
           }
          ],
          "histogram2dcontour": [
           {
            "colorbar": {
             "outlinewidth": 0,
             "ticks": ""
            },
            "colorscale": [
             [
              0,
              "#0d0887"
             ],
             [
              0.1111111111111111,
              "#46039f"
             ],
             [
              0.2222222222222222,
              "#7201a8"
             ],
             [
              0.3333333333333333,
              "#9c179e"
             ],
             [
              0.4444444444444444,
              "#bd3786"
             ],
             [
              0.5555555555555556,
              "#d8576b"
             ],
             [
              0.6666666666666666,
              "#ed7953"
             ],
             [
              0.7777777777777778,
              "#fb9f3a"
             ],
             [
              0.8888888888888888,
              "#fdca26"
             ],
             [
              1,
              "#f0f921"
             ]
            ],
            "type": "histogram2dcontour"
           }
          ],
          "mesh3d": [
           {
            "colorbar": {
             "outlinewidth": 0,
             "ticks": ""
            },
            "type": "mesh3d"
           }
          ],
          "parcoords": [
           {
            "line": {
             "colorbar": {
              "outlinewidth": 0,
              "ticks": ""
             }
            },
            "type": "parcoords"
           }
          ],
          "pie": [
           {
            "automargin": true,
            "type": "pie"
           }
          ],
          "scatter": [
           {
            "fillpattern": {
             "fillmode": "overlay",
             "size": 10,
             "solidity": 0.2
            },
            "type": "scatter"
           }
          ],
          "scatter3d": [
           {
            "line": {
             "colorbar": {
              "outlinewidth": 0,
              "ticks": ""
             }
            },
            "marker": {
             "colorbar": {
              "outlinewidth": 0,
              "ticks": ""
             }
            },
            "type": "scatter3d"
           }
          ],
          "scattercarpet": [
           {
            "marker": {
             "colorbar": {
              "outlinewidth": 0,
              "ticks": ""
             }
            },
            "type": "scattercarpet"
           }
          ],
          "scattergeo": [
           {
            "marker": {
             "colorbar": {
              "outlinewidth": 0,
              "ticks": ""
             }
            },
            "type": "scattergeo"
           }
          ],
          "scattergl": [
           {
            "marker": {
             "colorbar": {
              "outlinewidth": 0,
              "ticks": ""
             }
            },
            "type": "scattergl"
           }
          ],
          "scattermapbox": [
           {
            "marker": {
             "colorbar": {
              "outlinewidth": 0,
              "ticks": ""
             }
            },
            "type": "scattermapbox"
           }
          ],
          "scatterpolar": [
           {
            "marker": {
             "colorbar": {
              "outlinewidth": 0,
              "ticks": ""
             }
            },
            "type": "scatterpolar"
           }
          ],
          "scatterpolargl": [
           {
            "marker": {
             "colorbar": {
              "outlinewidth": 0,
              "ticks": ""
             }
            },
            "type": "scatterpolargl"
           }
          ],
          "scatterternary": [
           {
            "marker": {
             "colorbar": {
              "outlinewidth": 0,
              "ticks": ""
             }
            },
            "type": "scatterternary"
           }
          ],
          "surface": [
           {
            "colorbar": {
             "outlinewidth": 0,
             "ticks": ""
            },
            "colorscale": [
             [
              0,
              "#0d0887"
             ],
             [
              0.1111111111111111,
              "#46039f"
             ],
             [
              0.2222222222222222,
              "#7201a8"
             ],
             [
              0.3333333333333333,
              "#9c179e"
             ],
             [
              0.4444444444444444,
              "#bd3786"
             ],
             [
              0.5555555555555556,
              "#d8576b"
             ],
             [
              0.6666666666666666,
              "#ed7953"
             ],
             [
              0.7777777777777778,
              "#fb9f3a"
             ],
             [
              0.8888888888888888,
              "#fdca26"
             ],
             [
              1,
              "#f0f921"
             ]
            ],
            "type": "surface"
           }
          ],
          "table": [
           {
            "cells": {
             "fill": {
              "color": "#EBF0F8"
             },
             "line": {
              "color": "white"
             }
            },
            "header": {
             "fill": {
              "color": "#C8D4E3"
             },
             "line": {
              "color": "white"
             }
            },
            "type": "table"
           }
          ]
         },
         "layout": {
          "annotationdefaults": {
           "arrowcolor": "#2a3f5f",
           "arrowhead": 0,
           "arrowwidth": 1
          },
          "autotypenumbers": "strict",
          "coloraxis": {
           "colorbar": {
            "outlinewidth": 0,
            "ticks": ""
           }
          },
          "colorscale": {
           "diverging": [
            [
             0,
             "#8e0152"
            ],
            [
             0.1,
             "#c51b7d"
            ],
            [
             0.2,
             "#de77ae"
            ],
            [
             0.3,
             "#f1b6da"
            ],
            [
             0.4,
             "#fde0ef"
            ],
            [
             0.5,
             "#f7f7f7"
            ],
            [
             0.6,
             "#e6f5d0"
            ],
            [
             0.7,
             "#b8e186"
            ],
            [
             0.8,
             "#7fbc41"
            ],
            [
             0.9,
             "#4d9221"
            ],
            [
             1,
             "#276419"
            ]
           ],
           "sequential": [
            [
             0,
             "#0d0887"
            ],
            [
             0.1111111111111111,
             "#46039f"
            ],
            [
             0.2222222222222222,
             "#7201a8"
            ],
            [
             0.3333333333333333,
             "#9c179e"
            ],
            [
             0.4444444444444444,
             "#bd3786"
            ],
            [
             0.5555555555555556,
             "#d8576b"
            ],
            [
             0.6666666666666666,
             "#ed7953"
            ],
            [
             0.7777777777777778,
             "#fb9f3a"
            ],
            [
             0.8888888888888888,
             "#fdca26"
            ],
            [
             1,
             "#f0f921"
            ]
           ],
           "sequentialminus": [
            [
             0,
             "#0d0887"
            ],
            [
             0.1111111111111111,
             "#46039f"
            ],
            [
             0.2222222222222222,
             "#7201a8"
            ],
            [
             0.3333333333333333,
             "#9c179e"
            ],
            [
             0.4444444444444444,
             "#bd3786"
            ],
            [
             0.5555555555555556,
             "#d8576b"
            ],
            [
             0.6666666666666666,
             "#ed7953"
            ],
            [
             0.7777777777777778,
             "#fb9f3a"
            ],
            [
             0.8888888888888888,
             "#fdca26"
            ],
            [
             1,
             "#f0f921"
            ]
           ]
          },
          "colorway": [
           "#636efa",
           "#EF553B",
           "#00cc96",
           "#ab63fa",
           "#FFA15A",
           "#19d3f3",
           "#FF6692",
           "#B6E880",
           "#FF97FF",
           "#FECB52"
          ],
          "font": {
           "color": "#2a3f5f"
          },
          "geo": {
           "bgcolor": "white",
           "lakecolor": "white",
           "landcolor": "#E5ECF6",
           "showlakes": true,
           "showland": true,
           "subunitcolor": "white"
          },
          "hoverlabel": {
           "align": "left"
          },
          "hovermode": "closest",
          "mapbox": {
           "style": "light"
          },
          "paper_bgcolor": "white",
          "plot_bgcolor": "#E5ECF6",
          "polar": {
           "angularaxis": {
            "gridcolor": "white",
            "linecolor": "white",
            "ticks": ""
           },
           "bgcolor": "#E5ECF6",
           "radialaxis": {
            "gridcolor": "white",
            "linecolor": "white",
            "ticks": ""
           }
          },
          "scene": {
           "xaxis": {
            "backgroundcolor": "#E5ECF6",
            "gridcolor": "white",
            "gridwidth": 2,
            "linecolor": "white",
            "showbackground": true,
            "ticks": "",
            "zerolinecolor": "white"
           },
           "yaxis": {
            "backgroundcolor": "#E5ECF6",
            "gridcolor": "white",
            "gridwidth": 2,
            "linecolor": "white",
            "showbackground": true,
            "ticks": "",
            "zerolinecolor": "white"
           },
           "zaxis": {
            "backgroundcolor": "#E5ECF6",
            "gridcolor": "white",
            "gridwidth": 2,
            "linecolor": "white",
            "showbackground": true,
            "ticks": "",
            "zerolinecolor": "white"
           }
          },
          "shapedefaults": {
           "line": {
            "color": "#2a3f5f"
           }
          },
          "ternary": {
           "aaxis": {
            "gridcolor": "white",
            "linecolor": "white",
            "ticks": ""
           },
           "baxis": {
            "gridcolor": "white",
            "linecolor": "white",
            "ticks": ""
           },
           "bgcolor": "#E5ECF6",
           "caxis": {
            "gridcolor": "white",
            "linecolor": "white",
            "ticks": ""
           }
          },
          "title": {
           "x": 0.05
          },
          "xaxis": {
           "automargin": true,
           "gridcolor": "white",
           "linecolor": "white",
           "ticks": "",
           "title": {
            "standoff": 15
           },
           "zerolinecolor": "white",
           "zerolinewidth": 2
          },
          "yaxis": {
           "automargin": true,
           "gridcolor": "white",
           "linecolor": "white",
           "ticks": "",
           "title": {
            "standoff": 15
           },
           "zerolinecolor": "white",
           "zerolinewidth": 2
          }
         }
        },
        "title": {
         "font": {
          "color": "white",
          "size": 20
         },
         "text": "Expert Contributions and Predictions",
         "x": 0.5,
         "xanchor": "center",
         "y": 0.98,
         "yanchor": "top"
        },
        "width": 800,
        "xaxis": {
         "color": "white",
         "constrain": "domain",
         "linecolor": "rgba(255,255,255,0.1)",
         "linewidth": 1,
         "range": [
          -0.5,
          7.5
         ],
         "scaleanchor": "y",
         "scaleratio": 1,
         "showgrid": false,
         "showline": true,
         "tickangle": 0,
         "ticktext": [
          "l_out",
          "expert 1",
          "expert 2",
          "expert 3",
          "expert 4",
          "expert 5",
          "expert 6",
          "shared"
         ],
         "tickvals": [
          0,
          1,
          2,
          3,
          4,
          5,
          6,
          7
         ],
         "title": {
          "text": ""
         },
         "zeroline": false
        },
        "yaxis": {
         "autorange": "reversed",
         "color": "white",
         "constrain": "domain",
         "linecolor": "rgba(255,255,255,0.1)",
         "linewidth": 1,
         "range": [
          -0.5,
          27.5
         ],
         "showgrid": false,
         "showline": true,
         "ticktext": [
          "0",
          "1",
          "2",
          "3",
          "4",
          "5",
          "6",
          "7",
          "8",
          "9",
          "10",
          "11",
          "12",
          "13",
          "14",
          "15",
          "16",
          "17",
          "18",
          "19",
          "20",
          "21",
          "22",
          "23",
          "24",
          "25",
          "26",
          "27"
         ],
         "tickvals": [
          0,
          1,
          2,
          3,
          4,
          5,
          6,
          7,
          8,
          9,
          10,
          11,
          12,
          13,
          14,
          15,
          16,
          17,
          18,
          19,
          20,
          21,
          22,
          23,
          24,
          25,
          26,
          27
         ],
         "title": {
          "text": "Layer"
         },
         "zeroline": false
        }
       }
      }
     },
     "metadata": {},
     "output_type": "display_data"
    }
   ],
   "source": [
    "l = []\n",
    "x = len(tokenizer.encode(prompt))\n",
    "print(x)\n",
    "create_logit_lens_viz(analysis, token_pos=x-1, layers_to_plot=l)"
   ]
  },
  {
   "cell_type": "code",
   "execution_count": null,
   "metadata": {},
   "outputs": [],
   "source": []
  }
 ],
 "metadata": {
  "kernelspec": {
   "display_name": "ai_env",
   "language": "python",
   "name": "python3"
  },
  "language_info": {
   "codemirror_mode": {
    "name": "ipython",
    "version": 3
   },
   "file_extension": ".py",
   "mimetype": "text/x-python",
   "name": "python",
   "nbconvert_exporter": "python",
   "pygments_lexer": "ipython3",
   "version": "3.10.13"
  }
 },
 "nbformat": 4,
 "nbformat_minor": 2
}
